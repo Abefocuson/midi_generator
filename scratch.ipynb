{
 "cells": [
  {
   "cell_type": "markdown",
   "metadata": {},
   "source": [
    "### Create CSV from midi sources"
   ]
  },
  {
   "cell_type": "code",
   "execution_count": 1,
   "metadata": {},
   "outputs": [],
   "source": [
    "%reload_ext autoreload\n",
    "%autoreload 2\n",
    "%matplotlib inline"
   ]
  },
  {
   "cell_type": "code",
   "execution_count": 2,
   "metadata": {},
   "outputs": [],
   "source": [
    "import json\n",
    "import music21\n",
    "from fastai.text import *\n",
    "import glob\n",
    "import os\n",
    "from tqdm import tqdm\n",
    "from IPython.display import Image, Audio"
   ]
  },
  {
   "cell_type": "code",
   "execution_count": 3,
   "metadata": {},
   "outputs": [],
   "source": [
    "from midi_data import *"
   ]
  },
  {
   "cell_type": "code",
   "execution_count": 4,
   "metadata": {},
   "outputs": [],
   "source": [
    "path = Path('../data/midi')"
   ]
  },
  {
   "cell_type": "code",
   "execution_count": 5,
   "metadata": {},
   "outputs": [
    {
     "data": {
      "text/plain": [
       "[PosixPath('../data/midi/cprato_midi'),\n",
       " PosixPath('../data/midi/Wikifonia'),\n",
       " PosixPath('../data/midi/transposed'),\n",
       " PosixPath('../data/midi/hymn'),\n",
       " PosixPath('../data/midi/classic_piano_scrape'),\n",
       " PosixPath('../data/midi/touhou_scrape'),\n",
       " PosixPath('../data/midi/hooktheory'),\n",
       " PosixPath('../data/midi/ecomp_midi'),\n",
       " PosixPath('../data/midi/freemidi_scrape'),\n",
       " PosixPath('../data/midi/piano_e_competition'),\n",
       " PosixPath('../data/midi/midiworld_scrape')]"
      ]
     },
     "execution_count": 5,
     "metadata": {},
     "output_type": "execute_result"
    }
   ],
   "source": [
    "directories = [x for x in path.iterdir() if x.is_dir()]; directories"
   ]
  },
  {
   "cell_type": "code",
   "execution_count": 26,
   "metadata": {},
   "outputs": [],
   "source": [
    "major2offset = {\n",
    "    'G-': 6,'F#': 6,\n",
    "    'G':  5,\n",
    "    'A-': 4,'G#': 4,\n",
    "    'A':  3,\n",
    "    'B-': 2,'A#': 2,\n",
    "    'B':  1,\n",
    "    'C':  0,\n",
    "    'D-':-1,'C#':-1,\n",
    "    'D': -2,\n",
    "    'E-':-3,'D#':-3,\n",
    "    'E': -4,\n",
    "    'F': -5,\n",
    "}\n",
    "mode_key = ['C','D','E','F','G','A','B','C','A']\n",
    "mode_name = ['ionian','dorian','phyrgian','lydian','mixolydian','aeolian','locrian','major','minor']"
   ]
  },
  {
   "cell_type": "code",
   "execution_count": 27,
   "metadata": {},
   "outputs": [],
   "source": [
    "name_mode = {i[0]:i[1] for i in zip(mode_name, mode_key)}; mode2key\n",
    "num_mode = {str(idx+1):key for idx,key in enumerate(mode_key[:-2])}\n",
    "mode2key = {**name_mode, **num_mode}\n",
    "# mode = {\n",
    "#     'major':     'C',\n",
    "#     'dorian':    'D',\n",
    "#     'phrygian':  'E',\n",
    "#     'lydian':    'F',\n",
    "#     'mixolydian':'G',\n",
    "#     'aeolian':   'A',\n",
    "#     'minor':     'A',\n",
    "#     'locrian':   'B'\n",
    "# }"
   ]
  },
  {
   "cell_type": "code",
   "execution_count": 28,
   "metadata": {},
   "outputs": [],
   "source": [
    "a = 'sdfJF'"
   ]
  },
  {
   "cell_type": "code",
   "execution_count": 29,
   "metadata": {},
   "outputs": [
    {
     "data": {
      "text/plain": [
       "'sdfjf'"
      ]
     },
     "execution_count": 29,
     "metadata": {},
     "output_type": "execute_result"
    }
   ],
   "source": [
    "a.lower()"
   ]
  },
  {
   "cell_type": "code",
   "execution_count": 39,
   "metadata": {},
   "outputs": [
    {
     "data": {
      "text/plain": [
       "7"
      ]
     },
     "execution_count": 39,
     "metadata": {},
     "output_type": "execute_result"
    }
   ],
   "source": [
    "-9%8"
   ]
  },
  {
   "cell_type": "code",
   "execution_count": 44,
   "metadata": {},
   "outputs": [],
   "source": [
    "def keyc_offset(key, mode):\n",
    "    mode_basekey = mode2key[str(mode).lower()] # find mode relative to C major - minor:A,dorian:D\n",
    "    mode_offset = major2offset[mode_basekey] # get mode offset from C major\n",
    "    key_offset = major2offset[key] # key offset when in major mode\n",
    "    transpose_offset = key_offset - mode_offset # actual transpose offset\n",
    "    if transpose_offset <= -6: transpose_offset = transpose_offset + 12\n",
    "    return transpose_offset"
   ]
  },
  {
   "cell_type": "code",
   "execution_count": 52,
   "metadata": {},
   "outputs": [
    {
     "data": {
      "text/plain": [
       "2"
      ]
     },
     "execution_count": 52,
     "metadata": {},
     "output_type": "execute_result"
    }
   ],
   "source": [
    "keyc_offset('G', 'minor')"
   ]
  },
  {
   "cell_type": "code",
   "execution_count": null,
   "metadata": {},
   "outputs": [],
   "source": [
    "\n",
    "def keyc_offset(key):\n",
    "    if key.mode == \"major\":   return majors[key.tonic.name]\n",
    "    elif key.mode == \"minor\": return minors[key.tonic.name]"
   ]
  },
  {
   "cell_type": "code",
   "execution_count": null,
   "metadata": {},
   "outputs": [],
   "source": [
    "def keyc_offset(key):\n",
    "    if key.mode == \"major\":   return majors[key.tonic.name]\n",
    "    elif key.mode == \"minor\": return minors[key.tonic.name]"
   ]
  },
  {
   "cell_type": "code",
   "execution_count": null,
   "metadata": {},
   "outputs": [],
   "source": []
  },
  {
   "cell_type": "code",
   "execution_count": null,
   "metadata": {},
   "outputs": [],
   "source": []
  }
 ],
 "metadata": {
  "kernelspec": {
   "display_name": "Python 3",
   "language": "python",
   "name": "python3"
  },
  "language_info": {
   "codemirror_mode": {
    "name": "ipython",
    "version": 3
   },
   "file_extension": ".py",
   "mimetype": "text/x-python",
   "name": "python",
   "nbconvert_exporter": "python",
   "pygments_lexer": "ipython3",
   "version": "3.7.1"
  }
 },
 "nbformat": 4,
 "nbformat_minor": 2
}

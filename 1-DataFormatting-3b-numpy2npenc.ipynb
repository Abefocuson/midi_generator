{
 "cells": [
  {
   "cell_type": "code",
   "execution_count": 1,
   "metadata": {},
   "outputs": [],
   "source": [
    "%reload_ext autoreload\n",
    "%autoreload 2\n",
    "%matplotlib inline"
   ]
  },
  {
   "cell_type": "code",
   "execution_count": 2,
   "metadata": {},
   "outputs": [],
   "source": [
    "from encode_data import *\n",
    "from midi_data import *"
   ]
  },
  {
   "cell_type": "code",
   "execution_count": 3,
   "metadata": {},
   "outputs": [],
   "source": [
    "from tqdm import tqdm\n",
    "import pandas as pd\n",
    "from data_sources import process_parallel, transform_csv_row"
   ]
  },
  {
   "cell_type": "code",
   "execution_count": 4,
   "metadata": {},
   "outputs": [],
   "source": [
    "from collections import Counter"
   ]
  },
  {
   "cell_type": "markdown",
   "metadata": {},
   "source": [
    "## Encode music21 stream to text representation \n",
    "\n",
    "This notebook uses a full component format \n",
    "- measure separators, instruments, and separated octaves\n",
    "- Format: note, octave, action type, instrument\n",
    "- note repr: nG# o4 t1 i0"
   ]
  },
  {
   "cell_type": "markdown",
   "metadata": {},
   "source": [
    "### Load midi data"
   ]
  },
  {
   "cell_type": "code",
   "execution_count": 5,
   "metadata": {},
   "outputs": [],
   "source": [
    "version = 'v8'\n",
    "data_path = Path('data/midi')\n",
    "version_path = data_path/version"
   ]
  },
  {
   "cell_type": "code",
   "execution_count": 6,
   "metadata": {},
   "outputs": [],
   "source": [
    "source_dir = 'midi_npz'\n",
    "\n",
    "out_dir = 'midi_encode/np/shortdur_2comp'\n",
    "num_comps = 2 # 2:(note,dur), 3:(note,dur,oct), 4:(note,dur,oct,inst)\n",
    "source_csv = version_path/source_dir/f'{source_dir}.csv'\n",
    "out_csv = version_path/out_dir/f'midi_encode.csv'"
   ]
  },
  {
   "cell_type": "code",
   "execution_count": 7,
   "metadata": {},
   "outputs": [
    {
     "name": "stderr",
     "output_type": "stream",
     "text": [
      "/home/ubuntu/anaconda3/envs/midi/lib/python3.7/site-packages/IPython/core/interactiveshell.py:3020: DtypeWarning: Columns (1,4,15,18,19,21) have mixed types. Specify dtype option on import or set low_memory=False.\n",
      "  interactivity=interactivity, compiler=compiler, result=result)\n"
     ]
    },
    {
     "data": {
      "text/html": [
       "<div>\n",
       "<style scoped>\n",
       "    .dataframe tbody tr th:only-of-type {\n",
       "        vertical-align: middle;\n",
       "    }\n",
       "\n",
       "    .dataframe tbody tr th {\n",
       "        vertical-align: top;\n",
       "    }\n",
       "\n",
       "    .dataframe thead th {\n",
       "        text-align: right;\n",
       "    }\n",
       "</style>\n",
       "<table border=\"1\" class=\"dataframe\">\n",
       "  <thead>\n",
       "    <tr style=\"text-align: right;\">\n",
       "      <th></th>\n",
       "      <th>inferred_offset</th>\n",
       "      <th>song_url</th>\n",
       "      <th>instruments</th>\n",
       "      <th>ht_mode</th>\n",
       "      <th>midi_title</th>\n",
       "      <th>title</th>\n",
       "      <th>seconds</th>\n",
       "      <th>midi</th>\n",
       "      <th>inferred_key</th>\n",
       "      <th>quarter_length</th>\n",
       "      <th>...</th>\n",
       "      <th>ht_key</th>\n",
       "      <th>ht_time_signature</th>\n",
       "      <th>bpm</th>\n",
       "      <th>section</th>\n",
       "      <th>parts</th>\n",
       "      <th>genres</th>\n",
       "      <th>mxl</th>\n",
       "      <th>midi_transform</th>\n",
       "      <th>midi_npz</th>\n",
       "      <th>midi_npz_timesteps</th>\n",
       "    </tr>\n",
       "  </thead>\n",
       "  <tbody>\n",
       "    <tr>\n",
       "      <th>0</th>\n",
       "      <td>0.0</td>\n",
       "      <td>https://www.hooktheory.com/theorytab/view/wayn...</td>\n",
       "      <td>Piano</td>\n",
       "      <td>1.0</td>\n",
       "      <td>yu-gi-oh</td>\n",
       "      <td>yu-gi-oh-theme-song</td>\n",
       "      <td>25.411765</td>\n",
       "      <td>midi_sources/hooktheory/pianoroll/w/wayne-shar...</td>\n",
       "      <td>C major</td>\n",
       "      <td>36.0</td>\n",
       "      <td>...</td>\n",
       "      <td>C</td>\n",
       "      <td>3.0</td>\n",
       "      <td>85.0</td>\n",
       "      <td>intro</td>\n",
       "      <td>intro,chorus</td>\n",
       "      <td>NaN</td>\n",
       "      <td>NaN</td>\n",
       "      <td>midi_transform/hooktheory/pianoroll/w/wayne-sh...</td>\n",
       "      <td>midi_npz/hooktheory/pianoroll/w/wayne-sharpe/y...</td>\n",
       "      <td>145.0</td>\n",
       "    </tr>\n",
       "    <tr>\n",
       "      <th>1</th>\n",
       "      <td>0.0</td>\n",
       "      <td>https://www.hooktheory.com/theorytab/view/wayn...</td>\n",
       "      <td>Piano,Piano</td>\n",
       "      <td>1.0</td>\n",
       "      <td>yu-gi-oh3</td>\n",
       "      <td>yu-gi-oh-theme-song</td>\n",
       "      <td>15.000000</td>\n",
       "      <td>midi_sources/hooktheory/pianoroll/w/wayne-shar...</td>\n",
       "      <td>C major</td>\n",
       "      <td>32.0</td>\n",
       "      <td>...</td>\n",
       "      <td>C</td>\n",
       "      <td>4.0</td>\n",
       "      <td>128.0</td>\n",
       "      <td>chorus</td>\n",
       "      <td>intro,chorus</td>\n",
       "      <td>NaN</td>\n",
       "      <td>NaN</td>\n",
       "      <td>midi_transform/hooktheory/pianoroll/w/wayne-sh...</td>\n",
       "      <td>midi_npz/hooktheory/pianoroll/w/wayne-sharpe/y...</td>\n",
       "      <td>129.0</td>\n",
       "    </tr>\n",
       "    <tr>\n",
       "      <th>2</th>\n",
       "      <td>5.0</td>\n",
       "      <td>https://www.hooktheory.com/theorytab/view/what...</td>\n",
       "      <td>Piano,Piano</td>\n",
       "      <td>1.0</td>\n",
       "      <td>kiefer</td>\n",
       "      <td>kiefer</td>\n",
       "      <td>10.000000</td>\n",
       "      <td>midi_sources/hooktheory/pianoroll/w/what-a-day...</td>\n",
       "      <td>E minor</td>\n",
       "      <td>16.0</td>\n",
       "      <td>...</td>\n",
       "      <td>C</td>\n",
       "      <td>4.0</td>\n",
       "      <td>96.0</td>\n",
       "      <td>chorus</td>\n",
       "      <td>chorus</td>\n",
       "      <td>Jazz</td>\n",
       "      <td>NaN</td>\n",
       "      <td>midi_transform/hooktheory/pianoroll/w/what-a-d...</td>\n",
       "      <td>midi_npz/hooktheory/pianoroll/w/what-a-day/kie...</td>\n",
       "      <td>65.0</td>\n",
       "    </tr>\n",
       "    <tr>\n",
       "      <th>3</th>\n",
       "      <td>NaN</td>\n",
       "      <td>https://www.hooktheory.com/theorytab/view/weez...</td>\n",
       "      <td>NaN</td>\n",
       "      <td>1.0</td>\n",
       "      <td>My New Song</td>\n",
       "      <td>beverly-hills</td>\n",
       "      <td>NaN</td>\n",
       "      <td>midi_sources/hooktheory/pianoroll/w/weezer/bev...</td>\n",
       "      <td>NaN</td>\n",
       "      <td>NaN</td>\n",
       "      <td>...</td>\n",
       "      <td>C</td>\n",
       "      <td>4.0</td>\n",
       "      <td>NaN</td>\n",
       "      <td>intro-and-verse</td>\n",
       "      <td>intro-and-verse</td>\n",
       "      <td>NaN</td>\n",
       "      <td>NaN</td>\n",
       "      <td>NaN</td>\n",
       "      <td>NaN</td>\n",
       "      <td>NaN</td>\n",
       "    </tr>\n",
       "    <tr>\n",
       "      <th>4</th>\n",
       "      <td>0.0</td>\n",
       "      <td>https://www.hooktheory.com/theorytab/view/weez...</td>\n",
       "      <td>Piano,Piano</td>\n",
       "      <td>1.0</td>\n",
       "      <td>Weezer - Fall Together</td>\n",
       "      <td>fall-together-</td>\n",
       "      <td>10.322581</td>\n",
       "      <td>midi_sources/hooktheory/pianoroll/w/weezer/fal...</td>\n",
       "      <td>A minor</td>\n",
       "      <td>16.0</td>\n",
       "      <td>...</td>\n",
       "      <td>C</td>\n",
       "      <td>4.0</td>\n",
       "      <td>93.0</td>\n",
       "      <td>chorus</td>\n",
       "      <td>chorus</td>\n",
       "      <td>Rock</td>\n",
       "      <td>NaN</td>\n",
       "      <td>midi_transform/hooktheory/pianoroll/w/weezer/f...</td>\n",
       "      <td>midi_npz/hooktheory/pianoroll/w/weezer/fall-to...</td>\n",
       "      <td>65.0</td>\n",
       "    </tr>\n",
       "  </tbody>\n",
       "</table>\n",
       "<p>5 rows × 25 columns</p>\n",
       "</div>"
      ],
      "text/plain": [
       "   inferred_offset                                           song_url  \\\n",
       "0              0.0  https://www.hooktheory.com/theorytab/view/wayn...   \n",
       "1              0.0  https://www.hooktheory.com/theorytab/view/wayn...   \n",
       "2              5.0  https://www.hooktheory.com/theorytab/view/what...   \n",
       "3              NaN  https://www.hooktheory.com/theorytab/view/weez...   \n",
       "4              0.0  https://www.hooktheory.com/theorytab/view/weez...   \n",
       "\n",
       "   instruments  ht_mode              midi_title                title  \\\n",
       "0        Piano      1.0                yu-gi-oh  yu-gi-oh-theme-song   \n",
       "1  Piano,Piano      1.0               yu-gi-oh3  yu-gi-oh-theme-song   \n",
       "2  Piano,Piano      1.0                  kiefer               kiefer   \n",
       "3          NaN      1.0             My New Song        beverly-hills   \n",
       "4  Piano,Piano      1.0  Weezer - Fall Together       fall-together-   \n",
       "\n",
       "     seconds                                               midi inferred_key  \\\n",
       "0  25.411765  midi_sources/hooktheory/pianoroll/w/wayne-shar...      C major   \n",
       "1  15.000000  midi_sources/hooktheory/pianoroll/w/wayne-shar...      C major   \n",
       "2  10.000000  midi_sources/hooktheory/pianoroll/w/what-a-day...      E minor   \n",
       "3        NaN  midi_sources/hooktheory/pianoroll/w/weezer/bev...          NaN   \n",
       "4  10.322581  midi_sources/hooktheory/pianoroll/w/weezer/fal...      A minor   \n",
       "\n",
       "  quarter_length        ...         ht_key ht_time_signature    bpm  \\\n",
       "0           36.0        ...              C               3.0   85.0   \n",
       "1           32.0        ...              C               4.0  128.0   \n",
       "2           16.0        ...              C               4.0   96.0   \n",
       "3            NaN        ...              C               4.0    NaN   \n",
       "4           16.0        ...              C               4.0   93.0   \n",
       "\n",
       "           section            parts genres  mxl  \\\n",
       "0            intro     intro,chorus    NaN  NaN   \n",
       "1           chorus     intro,chorus    NaN  NaN   \n",
       "2           chorus           chorus   Jazz  NaN   \n",
       "3  intro-and-verse  intro-and-verse    NaN  NaN   \n",
       "4           chorus           chorus   Rock  NaN   \n",
       "\n",
       "                                      midi_transform  \\\n",
       "0  midi_transform/hooktheory/pianoroll/w/wayne-sh...   \n",
       "1  midi_transform/hooktheory/pianoroll/w/wayne-sh...   \n",
       "2  midi_transform/hooktheory/pianoroll/w/what-a-d...   \n",
       "3                                                NaN   \n",
       "4  midi_transform/hooktheory/pianoroll/w/weezer/f...   \n",
       "\n",
       "                                            midi_npz midi_npz_timesteps  \n",
       "0  midi_npz/hooktheory/pianoroll/w/wayne-sharpe/y...              145.0  \n",
       "1  midi_npz/hooktheory/pianoroll/w/wayne-sharpe/y...              129.0  \n",
       "2  midi_npz/hooktheory/pianoroll/w/what-a-day/kie...               65.0  \n",
       "3                                                NaN                NaN  \n",
       "4  midi_npz/hooktheory/pianoroll/w/weezer/fall-to...               65.0  \n",
       "\n",
       "[5 rows x 25 columns]"
      ]
     },
     "execution_count": 7,
     "metadata": {},
     "output_type": "execute_result"
    }
   ],
   "source": [
    "df = pd.read_csv(source_csv); df.head()"
   ]
  },
  {
   "cell_type": "code",
   "execution_count": 8,
   "metadata": {},
   "outputs": [
    {
     "data": {
      "text/plain": [
       "(162688, 25)"
      ]
     },
     "execution_count": 8,
     "metadata": {},
     "output_type": "execute_result"
    }
   ],
   "source": [
    "df_filtered = df.loc[df[source_dir].notna()]; df_filtered.shape"
   ]
  },
  {
   "cell_type": "code",
   "execution_count": 9,
   "metadata": {},
   "outputs": [
    {
     "data": {
      "text/plain": [
       "(160965, 25)"
      ]
     },
     "execution_count": 9,
     "metadata": {},
     "output_type": "execute_result"
    }
   ],
   "source": [
    "df_filter = (df_filtered.source != 'hooktheory') | (df_filtered.ht_time_signature == 4.0)\n",
    "df_filtered = df_filtered.loc[df_filter]; df_filtered.shape"
   ]
  },
  {
   "cell_type": "code",
   "execution_count": 10,
   "metadata": {},
   "outputs": [
    {
     "data": {
      "text/plain": [
       "(160946, 25)"
      ]
     },
     "execution_count": 10,
     "metadata": {},
     "output_type": "execute_result"
    }
   ],
   "source": [
    "df_filtered = df_filtered.loc[df_filtered[f'{source_dir}_timesteps'] < 2e4]; df_filtered.shape"
   ]
  },
  {
   "cell_type": "code",
   "execution_count": 11,
   "metadata": {},
   "outputs": [
    {
     "data": {
      "text/plain": [
       "array(['midi_npz/hooktheory/pianoroll/w/wayne-sharpe/yu-gi-oh-theme-song/chorus_key_cmajor.npz',\n",
       "       'midi_npz/hooktheory/pianoroll/w/what-a-day/kiefer/chorus_key_cmajor.npz',\n",
       "       'midi_npz/hooktheory/pianoroll/w/weezer/fall-together-/chorus_key_cmajor.npz',\n",
       "       'midi_npz/hooktheory/pianoroll/w/wavves/afraid-of-heights/intro_key_cmajor.npz', ...,\n",
       "       'midi_npz/130k_reddit/R/R/R.CONIFF.Medley.npz', 'midi_npz/130k_reddit/R/R/rubbersoul.npz',\n",
       "       'midi_npz/130k_reddit/2/24preludescl.npz', 'midi_npz/130k_reddit/R/R/Rock-Around-Medley-(Medley).npz'],\n",
       "      dtype=object)"
      ]
     },
     "execution_count": 11,
     "metadata": {},
     "output_type": "execute_result"
    }
   ],
   "source": [
    "df_filtered[source_dir].values"
   ]
  },
  {
   "cell_type": "code",
   "execution_count": 12,
   "metadata": {},
   "outputs": [],
   "source": [
    "def transform_func(file, out_file, row):\n",
    "    chordarr = load_chordarr(file)\n",
    "    if (chordarr > 128).any(): \n",
    "        print('Song exceeds max 128 duration:', file)\n",
    "        return None\n",
    "    seq = chordarr2seq(chordarr)\n",
    "    npenc = seq2npenc(seq, num_comps=num_comps)\n",
    "    np.save(out_file, npenc)\n",
    "    return npenc"
   ]
  },
  {
   "cell_type": "code",
   "execution_count": 13,
   "metadata": {},
   "outputs": [],
   "source": [
    "# fp = Path('data/midi/v8')/df_filtered[source_dir].values[0]\n",
    "# transform_func(fp, None, None).shape"
   ]
  },
  {
   "cell_type": "code",
   "execution_count": 14,
   "metadata": {},
   "outputs": [],
   "source": [
    "from functools import partial\n",
    "parallel_func = partial(transform_csv_row, \n",
    "        transform_func=transform_func,\n",
    "        base_path=version_path,\n",
    "        source_dir=source_dir,\n",
    "        out_dir=out_dir,\n",
    "        out_extension='.npy'\n",
    "       )"
   ]
  },
  {
   "cell_type": "code",
   "execution_count": 15,
   "metadata": {},
   "outputs": [],
   "source": [
    "# for r in df_filtered.iterrows():\n",
    "#     parallel_func(r)\n",
    "#     break"
   ]
  },
  {
   "cell_type": "code",
   "execution_count": null,
   "metadata": {
    "scrolled": true
   },
   "outputs": [
    {
     "data": {
      "text/html": [
       "\n",
       "    <div>\n",
       "        <style>\n",
       "            /* Turns off some styling */\n",
       "            progress {\n",
       "                /* gets rid of default border in Firefox and Opera. */\n",
       "                border: none;\n",
       "                /* Needs to be in here for Safari polyfill so background images work as expected. */\n",
       "                background-size: auto;\n",
       "            }\n",
       "            .progress-bar-interrupted, .progress-bar-interrupted::-webkit-progress-bar {\n",
       "                background: #F44336;\n",
       "            }\n",
       "        </style>\n",
       "      <progress value='96620' class='' max='160946', style='width:300px; height:20px; vertical-align: middle;'></progress>\n",
       "      60.03% [96620/160946 14:58<09:58]\n",
       "    </div>\n",
       "    "
      ],
      "text/plain": [
       "<IPython.core.display.HTML object>"
      ]
     },
     "metadata": {},
     "output_type": "display_data"
    }
   ],
   "source": [
    "encoded_files = process_parallel(parallel_func, df_filtered.iterrows(), total=df_filtered.shape[0])"
   ]
  },
  {
   "cell_type": "code",
   "execution_count": null,
   "metadata": {},
   "outputs": [],
   "source": [
    "tdf = pd.DataFrame(data={out_dir: list(encoded_files.values())}, index=list(encoded_files.keys()))"
   ]
  },
  {
   "cell_type": "code",
   "execution_count": null,
   "metadata": {},
   "outputs": [],
   "source": [
    "merged_df = df.join(tdf, how='outer'); tdf.shape, df.shape, merged_df.shape"
   ]
  },
  {
   "cell_type": "code",
   "execution_count": null,
   "metadata": {
    "scrolled": true
   },
   "outputs": [],
   "source": [
    "merged_df.to_csv(out_csv, index=False); merged_df.head()"
   ]
  }
 ],
 "metadata": {
  "kernelspec": {
   "display_name": "Python 3",
   "language": "python",
   "name": "python3"
  },
  "language_info": {
   "codemirror_mode": {
    "name": "ipython",
    "version": 3
   },
   "file_extension": ".py",
   "mimetype": "text/x-python",
   "name": "python",
   "nbconvert_exporter": "python",
   "pygments_lexer": "ipython3",
   "version": "3.7.1"
  }
 },
 "nbformat": 4,
 "nbformat_minor": 2
}

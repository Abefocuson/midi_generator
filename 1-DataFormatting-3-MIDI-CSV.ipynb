{
 "cells": [
  {
   "cell_type": "markdown",
   "metadata": {},
   "source": [
    "### Create CSV from midi sources"
   ]
  },
  {
   "cell_type": "code",
   "execution_count": 1,
   "metadata": {},
   "outputs": [],
   "source": [
    "%reload_ext autoreload\n",
    "%autoreload 2\n",
    "%matplotlib inline"
   ]
  },
  {
   "cell_type": "code",
   "execution_count": 46,
   "metadata": {},
   "outputs": [],
   "source": [
    "import json\n",
    "import music21\n",
    "from fastai.text import *\n",
    "import glob\n",
    "import os\n",
    "from tqdm import tqdm\n",
    "from IPython.display import Image, Audio"
   ]
  },
  {
   "cell_type": "code",
   "execution_count": 3,
   "metadata": {},
   "outputs": [],
   "source": [
    "path = Path('../data/midi')"
   ]
  },
  {
   "cell_type": "code",
   "execution_count": 4,
   "metadata": {},
   "outputs": [
    {
     "data": {
      "text/plain": [
       "[PosixPath('../data/midi/cprato_midi'),\n",
       " PosixPath('../data/midi/Wikifonia'),\n",
       " PosixPath('../data/midi/transposed'),\n",
       " PosixPath('../data/midi/hymn'),\n",
       " PosixPath('../data/midi/classic_piano_scrape'),\n",
       " PosixPath('../data/midi/touhou_scrape'),\n",
       " PosixPath('../data/midi/hooktheory'),\n",
       " PosixPath('../data/midi/ecomp_midi'),\n",
       " PosixPath('../data/midi/freemidi_scrape'),\n",
       " PosixPath('../data/midi/piano_e_competition'),\n",
       " PosixPath('../data/midi/midiworld_scrape')]"
      ]
     },
     "execution_count": 4,
     "metadata": {},
     "output_type": "execute_result"
    }
   ],
   "source": [
    "directories = [x for x in path.iterdir() if x.is_dir()]; directories"
   ]
  },
  {
   "cell_type": "markdown",
   "metadata": {},
   "source": [
    "## General stream parsing"
   ]
  },
  {
   "cell_type": "code",
   "execution_count": 6,
   "metadata": {},
   "outputs": [],
   "source": [
    "def get_music21_attr(fp, transpose=True):\n",
    "    stream = music21.converter.parse(fp)\n",
    "    stream_attr = get_stream_attr(stream)\n",
    "    if transpose:\n",
    "        new_stream, new_stream_attr = convert2keyc(fp, stream)\n",
    "    return {**stream_attr, **new_stream_attr}"
   ]
  },
  {
   "cell_type": "code",
   "execution_count": 35,
   "metadata": {},
   "outputs": [],
   "source": [
    "# converting everything into the key of C major or A minor\n",
    "# https://gist.github.com/aldous-rey/68c6c43450517aa47474\n",
    "# major conversions\n",
    "# majors = dict([(\"A-\", 4),(\"A\", 3),(\"B-\", 2) ,(\"B\", 1),(\"C-\", 1),(\"C\", 0) ,(\"D-\", -1),(\"C#\", -1),(\"D\", -2),          (\"E-\", -3),(\"E\", -4),(\"F\", -5),(\"G-\", 6),(\"F#\", 6),(\"G\", 5)])\n",
    "# minors = dict([(\"A-\", 1),(\"A\", 0),(\"B-\", -1),(\"B\", -2),         (\"C\", -3),(\"D-\", -4),           (\"D\", -5),(\"D#\", 6),(\"E-\", 6), (\"E\", 5), (\"F\", 4), (\"G-\", 3),          (\"G\", 2)])"
   ]
  },
  {
   "cell_type": "code",
   "execution_count": 10,
   "metadata": {},
   "outputs": [],
   "source": [
    "majors = {\n",
    "    'A-': 4,\n",
    "    'A':  3,\n",
    "    'B-': 2,\n",
    "    'B':  1,'C-': 1,\n",
    "    'C':  0,\n",
    "    'D-':-1,'C#':-1,\n",
    "    'D': -2,\n",
    "    'E-':-3,\n",
    "    'E': -4,\n",
    "    'F': -5,\n",
    "    'G-': 6,\n",
    "    'F#': 6,\n",
    "    'G':  5\n",
    "}\n",
    "\n",
    "minors = {\n",
    "    'A-': 1,'G#': 1,\n",
    "    'A':  0,\n",
    "    'B-':-1,\n",
    "    'B': -2,\n",
    "    'C': -3,\n",
    "    'D-':-4,'C#':-4,\n",
    "    'D': -5,\n",
    "    'E-': 6,'D#': 6,\n",
    "    'E':  5,\n",
    "    'F':  4,\n",
    "    'G-': 3,'F#': 3,\n",
    "    'G':  2\n",
    "}\n",
    "\n",
    "def \n",
    "\n",
    "def convert2keyc(file, score=None, out_file=None):\n",
    "    transposed_file = Path(str(file).replace('data/midi/', 'data/midi/transposed/'))\n",
    "    if not transposed_file.exists():\n",
    "        if not score:\n",
    "            score = music21.converter.parse(file)\n",
    "        key = score.analyze('key')\n",
    "\n",
    "        if key.mode == \"major\":   halfSteps = majors[key.tonic.name]\n",
    "        elif key.mode == \"minor\": halfSteps = minors[key.tonic.name]\n",
    "\n",
    "        transposed_score = score.transpose(halfSteps)\n",
    "        Path(transposed_file).parent.mkdir(parents=True, exist_ok=True)\n",
    "        transposed_score.write('midi',transposed_file)\n",
    "    else:\n",
    "        transposed_score = music21.converter.parse(transposed_file)\n",
    "    newkey = transposed_score.analyze('key')\n",
    "    metadata = {\n",
    "        'inferred_keyc': f'{newkey.tonic.name} {newkey.mode}',\n",
    "        'midi_keyc': str(transposed_file),\n",
    "    }\n",
    "    return transposed_score, metadata"
   ]
  },
  {
   "cell_type": "code",
   "execution_count": 37,
   "metadata": {},
   "outputs": [],
   "source": [
    "def get_stream_attr(s):\n",
    "    instruments = [i.instrumentName for i in list(s.getInstruments(recurse=True)) if i.instrumentName]\n",
    "    metronome = list(filter(lambda x: isinstance(x, music21.tempo.MetronomeMark), s.flat))[0]\n",
    "    bpm = metronome.getQuarterBPM()\n",
    "    key = s.analyze('key')\n",
    "    s_flat = s.flat\n",
    "    time_sig = s_flat.timeSignature.ratioString if hasattr(s_flat.timeSignature, 'ratioString') else None\n",
    "    return {\n",
    "        'instruments': instruments,\n",
    "        'bpm': bpm,\n",
    "        'inferred_key': f'{key.tonic.name} {key.mode}',\n",
    "        'seconds': s_flat.seconds,\n",
    "        'time_signature': s_flat.timeSignature.ratioString,\n",
    "    }"
   ]
  },
  {
   "cell_type": "markdown",
   "metadata": {},
   "source": [
    "### Gather Hooktheory Data"
   ]
  },
  {
   "cell_type": "code",
   "execution_count": 12,
   "metadata": {},
   "outputs": [],
   "source": [
    "hook_path = Path('../data/midi/hooktheory')"
   ]
  },
  {
   "cell_type": "code",
   "execution_count": 13,
   "metadata": {},
   "outputs": [
    {
     "data": {
      "text/plain": [
       "11873"
      ]
     },
     "execution_count": 13,
     "metadata": {},
     "output_type": "execute_result"
    }
   ],
   "source": [
    "song_info = list((hook_path/'xml').glob('*/*/*/*.json'))\n",
    "def song_key(s): return '_'.join(s.parts[-3:-1])\n",
    "key2info = {song_key(s):json.load(open(s, 'r')) for s in song_info}\n",
    "len(song_info)"
   ]
  },
  {
   "cell_type": "code",
   "execution_count": 14,
   "metadata": {},
   "outputs": [
    {
     "data": {
      "text/plain": [
       "19876"
      ]
     },
     "execution_count": 14,
     "metadata": {},
     "output_type": "execute_result"
    }
   ],
   "source": [
    "# song_xml = list((hook_path/'xml').glob('*/*/*/*.xml')); len(song_xml)\n",
    "song_json = list((hook_path/'event').glob('*/*/*/*_key.json')); len(song_json)\n",
    "# song_mid = list((hook_path/'pianoroll').glob('*/*/*/*_nokey.mid')); len(song_mid)"
   ]
  },
  {
   "cell_type": "code",
   "execution_count": 15,
   "metadata": {},
   "outputs": [],
   "source": [
    "def get_hooktheory_attr(song_json_path, key2info):\n",
    "    song_json = json.load(open(song_json_path, 'r'))\n",
    "    metadata = song_json['metadata']\n",
    "    song_info = key2info[song_key(song_json_path)].copy()\n",
    "    artist = song_json_path.parts[-3]\n",
    "    section = song_json_path.name.split('_')[0]\n",
    "    midi_path = str(song_json_path.with_suffix('.mid')).replace('event', 'pianoroll').replace('symbol_', '')\n",
    "    \n",
    "    # convert stream here\n",
    "    metadata = {\n",
    "        'artist': artist,\n",
    "        'section': section,\n",
    "        'original_path': midi_path,\n",
    "        'parts': song_info['section'],\n",
    "        'song_url': song_info['song_url'],\n",
    "        'genres': song_info['genres'],\n",
    "        'title': metadata['title'],\n",
    "        'mode': metadata['mode']\n",
    "    }\n",
    "    try:\n",
    "        stream_info = get_music21_attr(midi_path)\n",
    "    except Exception as e:\n",
    "        stream_info = {}\n",
    "        print('Could not parse stream', midi_path, e)\n",
    "    return {**metadata, **stream_info}"
   ]
  },
  {
   "cell_type": "code",
   "execution_count": 16,
   "metadata": {},
   "outputs": [],
   "source": [
    "# sanity check\n",
    "# hook_out = get_hooktheory_attr(song_json[1000], key2info); hook_out"
   ]
  },
  {
   "cell_type": "code",
   "execution_count": 18,
   "metadata": {},
   "outputs": [
    {
     "name": "stderr",
     "output_type": "stream",
     "text": [
      "  0%|          | 62/19876 [00:06<36:51,  8.96it/s]"
     ]
    },
    {
     "name": "stdout",
     "output_type": "stream",
     "text": [
      "Could not parse stream ../data/midi/hooktheory/pianoroll/w/weezer/beverly-hills/intro-and-verse_key.mid list index out of range\n"
     ]
    },
    {
     "name": "stderr",
     "output_type": "stream",
     "text": [
      "  1%|          | 221/19876 [00:51<1:41:05,  3.24it/s]"
     ]
    },
    {
     "name": "stdout",
     "output_type": "stream",
     "text": [
      "Could not parse stream ../data/midi/hooktheory/pianoroll/w/wolfgang-amadeus-mozart/symphony-no-25-in-g-minor/intro-and-verse_key.mid list index out of range\n"
     ]
    },
    {
     "name": "stderr",
     "output_type": "stream",
     "text": [
      "  3%|▎         | 659/19876 [02:55<1:36:34,  3.32it/s]"
     ]
    },
    {
     "name": "stdout",
     "output_type": "stream",
     "text": [
      "Could not parse stream ../data/midi/hooktheory/pianoroll/y/ylvis/the-fox---what-does-the-fox-say/verse-and-pre-chorus_key.mid list index out of range\n"
     ]
    },
    {
     "name": "stderr",
     "output_type": "stream",
     "text": [
      "  4%|▍         | 823/19876 [03:41<1:15:16,  4.22it/s]"
     ]
    },
    {
     "name": "stdout",
     "output_type": "stream",
     "text": [
      "Could not parse stream ../data/midi/hooktheory/pianoroll/j/jay-z/so-ambitious-feat-pharrel-williams/intro_key.mid list index out of range\n"
     ]
    },
    {
     "name": "stderr",
     "output_type": "stream",
     "text": [
      "  5%|▍         | 902/19876 [04:01<1:04:51,  4.88it/s]"
     ]
    },
    {
     "name": "stdout",
     "output_type": "stream",
     "text": [
      "Could not parse stream ../data/midi/hooktheory/pianoroll/j/johnny-cash/folsom-prison-blues/verse_key.mid list index out of range\n"
     ]
    },
    {
     "name": "stderr",
     "output_type": "stream",
     "text": [
      "  7%|▋         | 1312/19876 [05:58<44:25,  6.96it/s]  "
     ]
    },
    {
     "name": "stdout",
     "output_type": "stream",
     "text": [
      "Could not parse stream ../data/midi/hooktheory/pianoroll/j/jack-johnson/do-you-remember/intro-and-verse_key.mid list index out of range\n"
     ]
    },
    {
     "name": "stderr",
     "output_type": "stream",
     "text": [
      "  7%|▋         | 1419/19876 [06:23<1:19:22,  3.88it/s]"
     ]
    },
    {
     "name": "stdout",
     "output_type": "stream",
     "text": [
      "Could not parse stream ../data/midi/hooktheory/pianoroll/j/justin-moore/if-heaven-wasnt-so-far-awat/intro-and-verse_key.mid list index out of range\n"
     ]
    },
    {
     "name": "stderr",
     "output_type": "stream",
     "text": [
      "  7%|▋         | 1445/19876 [06:30<1:27:19,  3.52it/s]"
     ]
    },
    {
     "name": "stdout",
     "output_type": "stream",
     "text": [
      "Could not parse stream ../data/midi/hooktheory/pianoroll/j/janis-ian/at-spianorolleen/verse_key.mid File not found or no such format found for: ../data/midi/hooktheory/pianoroll/j/janis-ian/at-spianorolleen/verse_key.mid\n"
     ]
    },
    {
     "name": "stderr",
     "output_type": "stream",
     "text": [
      "  8%|▊         | 1638/19876 [07:22<1:29:47,  3.39it/s]"
     ]
    },
    {
     "name": "stdout",
     "output_type": "stream",
     "text": [
      "Could not parse stream ../data/midi/hooktheory/pianoroll/j/john-cage/433/solo_key.mid list index out of range\n"
     ]
    },
    {
     "name": "stderr",
     "output_type": "stream",
     "text": [
      " 13%|█▎        | 2627/19876 [11:59<1:08:14,  4.21it/s]"
     ]
    },
    {
     "name": "stdout",
     "output_type": "stream",
     "text": [
      "Could not parse stream ../data/midi/hooktheory/pianoroll/l/lpianorolle-marton/big-fat-kiss/chorus_key.mid File not found or no such format found for: ../data/midi/hooktheory/pianoroll/l/lpianorolle-marton/big-fat-kiss/chorus_key.mid\n",
      "Could not parse stream ../data/midi/hooktheory/pianoroll/l/lpianorolle-marton/big-fat-kiss/intro_key.mid File not found or no such format found for: ../data/midi/hooktheory/pianoroll/l/lpianorolle-marton/big-fat-kiss/intro_key.mid\n"
     ]
    },
    {
     "name": "stderr",
     "output_type": "stream",
     "text": [
      " 14%|█▍        | 2819/19876 [13:02<1:52:33,  2.53it/s]"
     ]
    },
    {
     "name": "stdout",
     "output_type": "stream",
     "text": [
      "Could not parse stream ../data/midi/hooktheory/pianoroll/l/lykke-li/get-some/pre-chorus-and-chorus_key.mid list index out of range\n",
      "Could not parse stream ../data/midi/hooktheory/pianoroll/l/lykke-li/get-some/intro-and-verse_key.mid list index out of range\n"
     ]
    },
    {
     "name": "stderr",
     "output_type": "stream",
     "text": [
      " 14%|█▍        | 2827/19876 [13:04<2:01:54,  2.33it/s]"
     ]
    },
    {
     "name": "stdout",
     "output_type": "stream",
     "text": [
      "Could not parse stream ../data/midi/hooktheory/pianoroll/l/ladytron/spianorolleen/verse_key.mid File not found or no such format found for: ../data/midi/hooktheory/pianoroll/l/ladytron/spianorolleen/verse_key.mid\n"
     ]
    },
    {
     "name": "stderr",
     "output_type": "stream",
     "text": [
      " 16%|█▋        | 3269/19876 [15:07<1:20:27,  3.44it/s]"
     ]
    },
    {
     "name": "stdout",
     "output_type": "stream",
     "text": [
      "Could not parse stream ../data/midi/hooktheory/pianoroll/l/legend-of-zelda---ocarina-of-time/song-of-storms/chorus_key.mid list index out of range\n"
     ]
    },
    {
     "name": "stderr",
     "output_type": "stream",
     "text": [
      " 17%|█▋        | 3431/19876 [15:50<1:25:56,  3.19it/s]"
     ]
    },
    {
     "name": "stdout",
     "output_type": "stream",
     "text": [
      "Could not parse stream ../data/midi/hooktheory/pianoroll/v/vanessa-hudgens/when-there-was-me-and-you---high-school-musical/verse_key.mid list index out of range\n"
     ]
    },
    {
     "name": "stderr",
     "output_type": "stream",
     "text": [
      " 23%|██▎       | 4477/19876 [20:38<1:01:05,  4.20it/s]"
     ]
    },
    {
     "name": "stdout",
     "output_type": "stream",
     "text": [
      "Could not parse stream ../data/midi/hooktheory/pianoroll/b/benjamin-ingrosso/good-lovin/chorus_key.mid list index out of range\n"
     ]
    },
    {
     "name": "stderr",
     "output_type": "stream",
     "text": [
      " 23%|██▎       | 4607/19876 [21:12<49:50,  5.11it/s]  "
     ]
    },
    {
     "name": "stdout",
     "output_type": "stream",
     "text": [
      "Could not parse stream ../data/midi/hooktheory/pianoroll/b/broken-social-scene/anthems-for-a-spianorolleen-year-old-girl/verse_key.mid File not found or no such format found for: ../data/midi/hooktheory/pianoroll/b/broken-social-scene/anthems-for-a-spianorolleen-year-old-girl/verse_key.mid\n"
     ]
    },
    {
     "name": "stderr",
     "output_type": "stream",
     "text": [
      " 25%|██▌       | 4995/19876 [22:49<1:26:09,  2.88it/s]"
     ]
    },
    {
     "name": "stdout",
     "output_type": "stream",
     "text": [
      "Could not parse stream ../data/midi/hooktheory/pianoroll/b/bobby-dreher/last-tomorrow/intro_key.mid list index out of range\n"
     ]
    },
    {
     "name": "stderr",
     "output_type": "stream",
     "text": [
      " 28%|██▊       | 5481/19876 [25:05<1:27:01,  2.76it/s]"
     ]
    },
    {
     "name": "stdout",
     "output_type": "stream",
     "text": [
      "Could not parse stream ../data/midi/hooktheory/pianoroll/z/zun/vanishing-dream---lost-dream/instrumental_key.mid list index out of range\n"
     ]
    },
    {
     "name": "stderr",
     "output_type": "stream",
     "text": [
      " 33%|███▎      | 6505/19876 [30:03<1:06:08,  3.37it/s]"
     ]
    },
    {
     "name": "stdout",
     "output_type": "stream",
     "text": [
      "Could not parse stream ../data/midi/hooktheory/pianoroll/d/dr-dre/smoke-weed-everyday/verse_key.mid list index out of range\n"
     ]
    },
    {
     "name": "stderr",
     "output_type": "stream",
     "text": [
      " 34%|███▍      | 6838/19876 [31:36<1:03:06,  3.44it/s]"
     ]
    },
    {
     "name": "stdout",
     "output_type": "stream",
     "text": [
      "Could not parse stream ../data/midi/hooktheory/pianoroll/x/xxxtentacion/orlando/chorus_key.mid list index out of range\n"
     ]
    },
    {
     "name": "stderr",
     "output_type": "stream",
     "text": [
      " 34%|███▍      | 6843/19876 [31:38<1:22:01,  2.65it/s]"
     ]
    },
    {
     "name": "stdout",
     "output_type": "stream",
     "text": [
      "Could not parse stream ../data/midi/hooktheory/pianoroll/x/xyconstant/white-noise/chorus_key.mid list index out of range\n"
     ]
    },
    {
     "name": "stderr",
     "output_type": "stream",
     "text": [
      " 37%|███▋      | 7344/19876 [33:54<58:55,  3.54it/s]  "
     ]
    },
    {
     "name": "stdout",
     "output_type": "stream",
     "text": [
      "Could not parse stream ../data/midi/hooktheory/pianoroll/s/stevie-nicks/edge-of-spianorolleen/chorus_key.mid File not found or no such format found for: ../data/midi/hooktheory/pianoroll/s/stevie-nicks/edge-of-spianorolleen/chorus_key.mid\n"
     ]
    },
    {
     "name": "stderr",
     "output_type": "stream",
     "text": [
      " 37%|███▋      | 7381/19876 [34:04<49:52,  4.18it/s]  "
     ]
    },
    {
     "name": "stdout",
     "output_type": "stream",
     "text": [
      "Could not parse stream ../data/midi/hooktheory/pianoroll/s/spianorolleen/adore-u/verse-and-pre-chorus_key.mid File not found or no such format found for: ../data/midi/hooktheory/pianoroll/s/spianorolleen/adore-u/verse-and-pre-chorus_key.mid\n"
     ]
    },
    {
     "name": "stderr",
     "output_type": "stream",
     "text": [
      " 37%|███▋      | 7443/19876 [34:20<44:27,  4.66it/s]  "
     ]
    },
    {
     "name": "stdout",
     "output_type": "stream",
     "text": [
      "Could not parse stream ../data/midi/hooktheory/pianoroll/s/spianorolleen-and-ailee/q-and-a/chorus_key.mid File not found or no such format found for: ../data/midi/hooktheory/pianoroll/s/spianorolleen-and-ailee/q-and-a/chorus_key.mid\n"
     ]
    },
    {
     "name": "stderr",
     "output_type": "stream",
     "text": [
      " 38%|███▊      | 7512/19876 [34:39<48:52,  4.22it/s]  "
     ]
    },
    {
     "name": "stdout",
     "output_type": "stream",
     "text": [
      "Could not parse stream ../data/midi/hooktheory/pianoroll/s/switchfoot/dare-you-to-move/verse_key.mid list index out of range\n"
     ]
    },
    {
     "name": "stderr",
     "output_type": "stream",
     "text": [
      " 38%|███▊      | 7638/19876 [35:14<1:00:07,  3.39it/s]"
     ]
    },
    {
     "name": "stdout",
     "output_type": "stream",
     "text": [
      "Could not parse stream ../data/midi/hooktheory/pianoroll/s/snakehips/dont-leave/verse_key.mid list index out of range\n"
     ]
    },
    {
     "name": "stderr",
     "output_type": "stream",
     "text": [
      " 39%|███▉      | 7851/19876 [36:15<55:19,  3.62it/s]  "
     ]
    },
    {
     "name": "stdout",
     "output_type": "stream",
     "text": [
      "Could not parse stream ../data/midi/hooktheory/pianoroll/s/slam-dunk---da-funk/five/chorus_key.mid list index out of range\n"
     ]
    },
    {
     "name": "stderr",
     "output_type": "stream",
     "text": [
      " 40%|███▉      | 7890/19876 [36:26<50:33,  3.95it/s]  "
     ]
    },
    {
     "name": "stdout",
     "output_type": "stream",
     "text": [
      "Could not parse stream ../data/midi/hooktheory/pianoroll/s/sia/titanium/intro_key.mid list index out of range\n"
     ]
    },
    {
     "name": "stderr",
     "output_type": "stream",
     "text": [
      " 45%|████▌     | 9032/19876 [41:30<40:19,  4.48it/s]  "
     ]
    },
    {
     "name": "stdout",
     "output_type": "stream",
     "text": [
      "Could not parse stream ../data/midi/hooktheory/pianoroll/c/clean-bandit/solo-feat-demi-lovato/chorus_key.mid list index out of range\n"
     ]
    },
    {
     "name": "stderr",
     "output_type": "stream",
     "text": [
      " 46%|████▌     | 9165/19876 [42:07<46:49,  3.81it/s]  "
     ]
    },
    {
     "name": "stdout",
     "output_type": "stream",
     "text": [
      "Could not parse stream ../data/midi/hooktheory/pianoroll/c/cal-tjader/curacao-/chorus_key.mid list index out of range\n"
     ]
    },
    {
     "name": "stderr",
     "output_type": "stream",
     "text": [
      " 47%|████▋     | 9271/19876 [42:35<35:45,  4.94it/s]  "
     ]
    },
    {
     "name": "stdout",
     "output_type": "stream",
     "text": [
      "Could not parse stream ../data/midi/hooktheory/pianoroll/c/carrie-underwood/before-he-cheats/pre-chorus_key.mid list index out of range\n"
     ]
    },
    {
     "name": "stderr",
     "output_type": "stream",
     "text": [
      " 49%|████▊     | 9666/19876 [44:22<31:37,  5.38it/s]  "
     ]
    },
    {
     "name": "stdout",
     "output_type": "stream",
     "text": [
      "Could not parse stream ../data/midi/hooktheory/pianoroll/e/equinox/bones/intro_key.mid list index out of range\n"
     ]
    },
    {
     "name": "stderr",
     "output_type": "stream",
     "text": [
      " 50%|█████     | 10021/19876 [45:57<34:34,  4.75it/s] "
     ]
    },
    {
     "name": "stdout",
     "output_type": "stream",
     "text": [
      "Could not parse stream ../data/midi/hooktheory/pianoroll/e/elvis-presley/suspicious-minds/verse_key.mid list index out of range\n"
     ]
    },
    {
     "name": "stderr",
     "output_type": "stream",
     "text": [
      " 54%|█████▎    | 10641/19876 [48:48<46:33,  3.31it/s]  "
     ]
    },
    {
     "name": "stdout",
     "output_type": "stream",
     "text": [
      "Could not parse stream ../data/midi/hooktheory/pianoroll/n/nozomi-aoki/fist-of-the-north-star---combat/verse_key.mid list index out of range\n"
     ]
    },
    {
     "name": "stderr",
     "output_type": "stream",
     "text": [
      " 55%|█████▌    | 10982/19876 [50:35<40:44,  3.64it/s]  "
     ]
    },
    {
     "name": "stdout",
     "output_type": "stream",
     "text": [
      "Could not parse stream ../data/midi/hooktheory/pianoroll/n/nintendo/super-smash-bros-brawl/pre-chorus_key.mid list index out of range\n"
     ]
    },
    {
     "name": "stderr",
     "output_type": "stream",
     "text": [
      " 56%|█████▌    | 11163/19876 [51:27<30:49,  4.71it/s]  "
     ]
    },
    {
     "name": "stdout",
     "output_type": "stream",
     "text": [
      "Could not parse stream ../data/midi/hooktheory/pianoroll/i/ifhy/tyler-the-creator/bridge_key.mid list index out of range\n"
     ]
    },
    {
     "name": "stderr",
     "output_type": "stream",
     "text": [
      " 57%|█████▋    | 11265/19876 [51:56<39:30,  3.63it/s]"
     ]
    },
    {
     "name": "stdout",
     "output_type": "stream",
     "text": [
      "Could not parse stream ../data/midi/hooktheory/pianoroll/i/instrumental/you-raise-me-up/intro_key.mid list index out of range\n"
     ]
    },
    {
     "name": "stderr",
     "output_type": "stream",
     "text": [
      " 57%|█████▋    | 11426/19876 [52:43<46:23,  3.04it/s]  "
     ]
    },
    {
     "name": "stdout",
     "output_type": "stream",
     "text": [
      "Could not parse stream ../data/midi/hooktheory/pianoroll/h/harvest-moon/a-wonderful-life---breeze/verse_key.mid list index out of range\n"
     ]
    },
    {
     "name": "stderr",
     "output_type": "stream",
     "text": [
      " 58%|█████▊    | 11446/19876 [52:48<40:52,  3.44it/s]"
     ]
    },
    {
     "name": "stdout",
     "output_type": "stream",
     "text": [
      "Could not parse stream ../data/midi/hooktheory/pianoroll/h/hans-zimmer/the-red-capes-are-coming/instrumental_key.mid list index out of range\n"
     ]
    },
    {
     "name": "stderr",
     "output_type": "stream",
     "text": [
      " 61%|██████▏   | 12196/19876 [56:18<33:16,  3.85it/s]  "
     ]
    },
    {
     "name": "stdout",
     "output_type": "stream",
     "text": [
      "Could not parse stream ../data/midi/hooktheory/pianoroll/p/puppenhaus/untitled/intro_key.mid list index out of range\n"
     ]
    },
    {
     "name": "stderr",
     "output_type": "stream",
     "text": [
      " 62%|██████▏   | 12327/19876 [56:56<24:14,  5.19it/s]  "
     ]
    },
    {
     "name": "stdout",
     "output_type": "stream",
     "text": [
      "Could not parse stream ../data/midi/hooktheory/pianoroll/p/pink-and-white/frank-ocean/pre-outro_key.mid list index out of range\n"
     ]
    },
    {
     "name": "stderr",
     "output_type": "stream",
     "text": [
      " 63%|██████▎   | 12453/19876 [57:30<28:58,  4.27it/s]"
     ]
    },
    {
     "name": "stdout",
     "output_type": "stream",
     "text": [
      "Could not parse stream ../data/midi/hooktheory/pianoroll/p/pearl-jam/pearl-jam/chorus_key.mid list index out of range\n"
     ]
    },
    {
     "name": "stderr",
     "output_type": "stream",
     "text": [
      " 63%|██████▎   | 12495/19876 [57:42<36:10,  3.40it/s]"
     ]
    },
    {
     "name": "stdout",
     "output_type": "stream",
     "text": [
      "Could not parse stream ../data/midi/hooktheory/pianoroll/p/percy-mayfield/please-send-me-someone-to-love/intro-and-verse_key.mid list index out of range\n"
     ]
    },
    {
     "name": "stderr",
     "output_type": "stream",
     "text": [
      " 64%|██████▍   | 12755/19876 [58:58<37:23,  3.17it/s]  "
     ]
    },
    {
     "name": "stdout",
     "output_type": "stream",
     "text": [
      "Could not parse stream ../data/midi/hooktheory/pianoroll/t/toby-fox/determination/pre-chorus-and-chorus_key.mid list index out of range\n"
     ]
    },
    {
     "name": "stderr",
     "output_type": "stream",
     "text": [
      " 65%|██████▌   | 12921/19876 [59:46<30:13,  3.84it/s]"
     ]
    },
    {
     "name": "stdout",
     "output_type": "stream",
     "text": [
      "Could not parse stream ../data/midi/hooktheory/pianoroll/t/the-meters/what-cha-say/intro-and-verse_key.mid list index out of range\n"
     ]
    },
    {
     "name": "stderr",
     "output_type": "stream",
     "text": [
      " 65%|██████▌   | 12947/19876 [59:52<23:39,  4.88it/s]"
     ]
    },
    {
     "name": "stdout",
     "output_type": "stream",
     "text": [
      "Could not parse stream ../data/midi/hooktheory/pianoroll/t/the-good-and-the-damned/little-electric/bridge_key.mid list index out of range\n"
     ]
    },
    {
     "name": "stderr",
     "output_type": "stream",
     "text": [
      " 66%|██████▌   | 13109/19876 [1:00:36<30:15,  3.73it/s]"
     ]
    },
    {
     "name": "stdout",
     "output_type": "stream",
     "text": [
      "Could not parse stream ../data/midi/hooktheory/pianoroll/t/twilight-soundtrack/bellas-lullaby/_key.mid list index out of range\n"
     ]
    },
    {
     "name": "stderr",
     "output_type": "stream",
     "text": [
      " 68%|██████▊   | 13539/19876 [1:02:30<27:49,  3.80it/s]"
     ]
    },
    {
     "name": "stdout",
     "output_type": "stream",
     "text": [
      "Could not parse stream ../data/midi/hooktheory/pianoroll/t/taylor-swift/you-belong-with-me/intro_key.mid list index out of range\n"
     ]
    },
    {
     "name": "stderr",
     "output_type": "stream",
     "text": [
      " 68%|██████▊   | 13590/19876 [1:02:43<21:03,  4.98it/s]"
     ]
    },
    {
     "name": "stdout",
     "output_type": "stream",
     "text": [
      "Could not parse stream ../data/midi/hooktheory/pianoroll/t/taichi-mukai/reset-%2528kaze-ga-tsuyoku-fuiteiru%2529/intro_key.mid list index out of range\n",
      "Could not parse stream ../data/midi/hooktheory/pianoroll/t/taichi-mukai/reset/_key.mid list index out of range\n"
     ]
    },
    {
     "name": "stderr",
     "output_type": "stream",
     "text": [
      " 69%|██████▊   | 13643/19876 [1:02:58<19:23,  5.36it/s]"
     ]
    },
    {
     "name": "stdout",
     "output_type": "stream",
     "text": [
      "Could not parse stream ../data/midi/hooktheory/pianoroll/t/the-waifs/london-still/verse_key.mid list index out of range\n"
     ]
    },
    {
     "name": "stderr",
     "output_type": "stream",
     "text": [
      " 71%|███████   | 14138/19876 [1:05:12<20:04,  4.76it/s]"
     ]
    },
    {
     "name": "stdout",
     "output_type": "stream",
     "text": [
      "Could not parse stream ../data/midi/hooktheory/pianoroll/t/take-us-back/alela-diane/verse_key.mid list index out of range\n",
      "Could not parse stream ../data/midi/hooktheory/pianoroll/t/take-us-back/alela-diane/verse-and-pre-chorus_key.mid list index out of range\n"
     ]
    },
    {
     "name": "stderr",
     "output_type": "stream",
     "text": [
      " 73%|███████▎  | 14417/19876 [1:06:28<25:58,  3.50it/s]"
     ]
    },
    {
     "name": "stdout",
     "output_type": "stream",
     "text": [
      "Could not parse stream ../data/midi/hooktheory/pianoroll/t/the-rasmus/in-the-shadows/intro_key.mid list index out of range\n"
     ]
    },
    {
     "name": "stderr",
     "output_type": "stream",
     "text": [
      " 74%|███████▎  | 14620/19876 [1:07:23<22:22,  3.92it/s]"
     ]
    },
    {
     "name": "stdout",
     "output_type": "stream",
     "text": [
      "Could not parse stream ../data/midi/hooktheory/pianoroll/t/tame-impala/pianorollually/pre-chorus-and-chorus_key.mid File not found or no such format found for: ../data/midi/hooktheory/pianoroll/t/tame-impala/pianorollually/pre-chorus-and-chorus_key.mid\n",
      "Could not parse stream ../data/midi/hooktheory/pianoroll/t/tame-impala/pianorollually/verse_key.mid File not found or no such format found for: ../data/midi/hooktheory/pianoroll/t/tame-impala/pianorollually/verse_key.mid\n",
      "Could not parse stream ../data/midi/hooktheory/pianoroll/t/tame-impala/pianorollually/intro_key.mid File not found or no such format found for: ../data/midi/hooktheory/pianoroll/t/tame-impala/pianorollually/intro_key.mid\n"
     ]
    },
    {
     "name": "stderr",
     "output_type": "stream",
     "text": [
      " 74%|███████▍  | 14781/19876 [1:08:02<23:00,  3.69it/s]"
     ]
    },
    {
     "name": "stdout",
     "output_type": "stream",
     "text": [
      "Could not parse stream ../data/midi/hooktheory/pianoroll/t/the-beatles/drive-my-car/verse_key.mid list index out of range\n"
     ]
    },
    {
     "name": "stderr",
     "output_type": "stream",
     "text": [
      " 75%|███████▍  | 14843/19876 [1:08:17<27:08,  3.09it/s]"
     ]
    },
    {
     "name": "stdout",
     "output_type": "stream",
     "text": [
      "Could not parse stream ../data/midi/hooktheory/pianoroll/t/the-beatles/the-end/solo_key.mid list index out of range\n"
     ]
    },
    {
     "name": "stderr",
     "output_type": "stream",
     "text": [
      " 78%|███████▊  | 15545/19876 [1:11:31<22:07,  3.26it/s]"
     ]
    },
    {
     "name": "stdout",
     "output_type": "stream",
     "text": [
      "Could not parse stream ../data/midi/hooktheory/pianoroll/k/katy-pary/fireworks/chorus_key.mid list index out of range\n"
     ]
    },
    {
     "name": "stderr",
     "output_type": "stream",
     "text": [
      " 78%|███████▊  | 15554/19876 [1:11:33<17:16,  4.17it/s]"
     ]
    },
    {
     "name": "stdout",
     "output_type": "stream",
     "text": [
      "Could not parse stream ../data/midi/hooktheory/pianoroll/k/kim-carnes/bette-davis-eyes/chorus_key.mid list index out of range\n"
     ]
    },
    {
     "name": "stderr",
     "output_type": "stream",
     "text": [
      " 78%|███████▊  | 15561/19876 [1:11:35<22:19,  3.22it/s]"
     ]
    },
    {
     "name": "stdout",
     "output_type": "stream",
     "text": [
      "Could not parse stream ../data/midi/hooktheory/pianoroll/k/kirbys-adventure---rainbow-resort/nintendo/chorus_key.mid list index out of range\n"
     ]
    },
    {
     "name": "stderr",
     "output_type": "stream",
     "text": [
      " 78%|███████▊  | 15574/19876 [1:11:38<17:39,  4.06it/s]"
     ]
    },
    {
     "name": "stdout",
     "output_type": "stream",
     "text": [
      "Could not parse stream ../data/midi/hooktheory/pianoroll/k/kelly-clarkson/breakaway/verse-and-pre-chorus_key.mid list index out of range\n"
     ]
    },
    {
     "name": "stderr",
     "output_type": "stream",
     "text": [
      " 80%|████████  | 15999/19876 [1:13:41<21:26,  3.01it/s]"
     ]
    },
    {
     "name": "stdout",
     "output_type": "stream",
     "text": [
      "Could not parse stream ../data/midi/hooktheory/pianoroll/k/katy-perry/peacock/verse-and-pre-chorus_key.mid list index out of range\n"
     ]
    },
    {
     "name": "stderr",
     "output_type": "stream",
     "text": [
      " 81%|████████  | 16113/19876 [1:14:13<16:42,  3.75it/s]"
     ]
    },
    {
     "name": "stdout",
     "output_type": "stream",
     "text": [
      "Could not parse stream ../data/midi/hooktheory/pianoroll/r/rodgers-and-hammerstein/sixteen-going-on-spianorolleen---the-sound-of-music/chorus-lead-out_key.mid File not found or no such format found for: ../data/midi/hooktheory/pianoroll/r/rodgers-and-hammerstein/sixteen-going-on-spianorolleen---the-sound-of-music/chorus-lead-out_key.mid\n",
      "Could not parse stream ../data/midi/hooktheory/pianoroll/r/rodgers-and-hammerstein/sixteen-going-on-spianorolleen---the-sound-of-music/chorus_key.mid File not found or no such format found for: ../data/midi/hooktheory/pianoroll/r/rodgers-and-hammerstein/sixteen-going-on-spianorolleen---the-sound-of-music/chorus_key.mid\n"
     ]
    },
    {
     "name": "stderr",
     "output_type": "stream",
     "text": [
      " 82%|████████▏ | 16324/19876 [1:15:14<20:35,  2.87it/s]"
     ]
    },
    {
     "name": "stdout",
     "output_type": "stream",
     "text": [
      "Could not parse stream ../data/midi/hooktheory/pianoroll/r/random-movement/down-somehow/verse_key.mid list index out of range\n",
      "Could not parse stream ../data/midi/hooktheory/pianoroll/r/random-movement/down-somehow/instrumental_key.mid list index out of range\n"
     ]
    },
    {
     "name": "stderr",
     "output_type": "stream",
     "text": [
      " 83%|████████▎ | 16491/19876 [1:15:59<13:47,  4.09it/s]"
     ]
    },
    {
     "name": "stdout",
     "output_type": "stream",
     "text": [
      "Could not parse stream ../data/midi/hooktheory/pianoroll/r/radiohead/motion-picture-soundtrack/verse-and-pre-chorus_key.mid list index out of range\n"
     ]
    },
    {
     "name": "stderr",
     "output_type": "stream",
     "text": [
      " 87%|████████▋ | 17382/19876 [1:20:03<11:24,  3.65it/s]"
     ]
    },
    {
     "name": "stdout",
     "output_type": "stream",
     "text": [
      "Could not parse stream ../data/midi/hooktheory/pianoroll/m/minae-fuji/mega-man-4---ring-man/chorus_key.mid list index out of range\n"
     ]
    },
    {
     "name": "stderr",
     "output_type": "stream",
     "text": [
      " 90%|████████▉ | 17850/19876 [1:22:14<09:56,  3.40it/s]"
     ]
    },
    {
     "name": "stdout",
     "output_type": "stream",
     "text": [
      "Could not parse stream ../data/midi/hooktheory/pianoroll/m/michiru-yamane/gaze-up-at-the-darkness/instrumental_key.mid list index out of range\n"
     ]
    },
    {
     "name": "stderr",
     "output_type": "stream",
     "text": [
      " 93%|█████████▎| 18454/19876 [1:25:00<05:19,  4.45it/s]"
     ]
    },
    {
     "name": "stdout",
     "output_type": "stream",
     "text": [
      "Could not parse stream ../data/midi/hooktheory/pianoroll/q/queen/bohemian-rhapsody/outro_key.mid list index out of range\n"
     ]
    },
    {
     "name": "stderr",
     "output_type": "stream",
     "text": [
      " 93%|█████████▎| 18460/19876 [1:25:01<06:57,  3.39it/s]"
     ]
    },
    {
     "name": "stdout",
     "output_type": "stream",
     "text": [
      "Could not parse stream ../data/midi/hooktheory/pianoroll/q/queen/bohemian-rhapsody/pre-outro_key.mid list index out of range\n"
     ]
    },
    {
     "name": "stderr",
     "output_type": "stream",
     "text": [
      " 93%|█████████▎| 18470/19876 [1:25:04<05:49,  4.02it/s]"
     ]
    },
    {
     "name": "stdout",
     "output_type": "stream",
     "text": [
      "Could not parse stream ../data/midi/hooktheory/pianoroll/q/queen/bohemian-rhapsody/instrumental_key.mid list index out of range\n"
     ]
    },
    {
     "name": "stderr",
     "output_type": "stream",
     "text": [
      " 94%|█████████▎| 18603/19876 [1:25:39<05:30,  3.86it/s]"
     ]
    },
    {
     "name": "stdout",
     "output_type": "stream",
     "text": [
      "Could not parse stream ../data/midi/hooktheory/pianoroll/a/adventure-club/wonder/outro_key.mid list index out of range\n"
     ]
    },
    {
     "name": "stderr",
     "output_type": "stream",
     "text": [
      "\r",
      " 94%|█████████▎| 18605/19876 [1:25:39<05:30,  3.85it/s]"
     ]
    },
    {
     "name": "stdout",
     "output_type": "stream",
     "text": [
      "Could not parse stream ../data/midi/hooktheory/pianoroll/a/adventure-club/wonder/bridge_key.mid list index out of range\n"
     ]
    },
    {
     "name": "stderr",
     "output_type": "stream",
     "text": [
      " 94%|█████████▍| 18648/19876 [1:25:52<05:07,  3.99it/s]"
     ]
    },
    {
     "name": "stdout",
     "output_type": "stream",
     "text": [
      "Could not parse stream ../data/midi/hooktheory/pianoroll/a/antonio-vivaldi/the-four-seasons-concerto-no-4-winter/intro_key.mid list index out of range\n"
     ]
    },
    {
     "name": "stderr",
     "output_type": "stream",
     "text": [
      " 97%|█████████▋| 19336/19876 [1:29:09<03:01,  2.97it/s]"
     ]
    },
    {
     "name": "stdout",
     "output_type": "stream",
     "text": [
      "Could not parse stream ../data/midi/hooktheory/pianoroll/a/adelina-tahiri/heart-on-fire/intro_key.mid list index out of range\n"
     ]
    },
    {
     "name": "stderr",
     "output_type": "stream",
     "text": [
      " 99%|█████████▉| 19669/19876 [1:30:45<01:09,  2.97it/s]"
     ]
    },
    {
     "name": "stdout",
     "output_type": "stream",
     "text": [
      "Could not parse stream ../data/midi/hooktheory/pianoroll/a/antonim/melancholy-soldier/bridge_key.mid list index out of range\n"
     ]
    },
    {
     "name": "stderr",
     "output_type": "stream",
     "text": [
      " 99%|█████████▉| 19731/19876 [1:31:03<00:45,  3.16it/s]"
     ]
    },
    {
     "name": "stdout",
     "output_type": "stream",
     "text": [
      "Could not parse stream ../data/midi/hooktheory/pianoroll/a/asf/asdfas/intro-and-verse_key.mid list index out of range\n"
     ]
    },
    {
     "name": "stderr",
     "output_type": "stream",
     "text": [
      "100%|██████████| 19876/19876 [1:31:45<00:00,  3.60it/s]\n"
     ]
    }
   ],
   "source": [
    "hooktheory_list = [get_hooktheory_attr(s, key2info) for s in tqdm(song_json, total=len(song_json))]"
   ]
  },
  {
   "cell_type": "markdown",
   "metadata": {},
   "source": [
    "Save song_list"
   ]
  },
  {
   "cell_type": "code",
   "execution_count": 19,
   "metadata": {},
   "outputs": [],
   "source": [
    "song_list_path = 'song_list_metadata.json'"
   ]
  },
  {
   "cell_type": "code",
   "execution_count": 20,
   "metadata": {},
   "outputs": [],
   "source": [
    "json.dump(hooktheory_list, open(song_list_path, 'w'))"
   ]
  },
  {
   "cell_type": "code",
   "execution_count": 21,
   "metadata": {},
   "outputs": [
    {
     "data": {
      "text/plain": [
       "[{'artist': 'apink',\n",
       "  'section': 'chorus',\n",
       "  'original_path': '../data/midi/hooktheory/pianoroll/a/apink/only-one/chorus_key.mid',\n",
       "  'parts': ['chorus'],\n",
       "  'song_url': 'https://www.hooktheory.com/theorytab/view/apink/only-one',\n",
       "  'genres': ['K-pop'],\n",
       "  'title': 'Only One',\n",
       "  'mode': '1',\n",
       "  'instruments': ['Piano', 'Piano'],\n",
       "  'bpm': 102.0,\n",
       "  'inferred_key': 'F# major',\n",
       "  'seconds': 18.823529411764707,\n",
       "  'time_signature': '4/4',\n",
       "  'inferred_keyc': 'C major',\n",
       "  'midi_keyc': '../data/midi/transposed/hooktheory/pianoroll/a/apink/only-one/chorus_key.mid'},\n",
       " {'artist': 'apink',\n",
       "  'section': 'chorus',\n",
       "  'original_path': '../data/midi/hooktheory/pianoroll/a/apink/promise-u/chorus_key.mid',\n",
       "  'parts': ['chorus'],\n",
       "  'song_url': 'https://www.hooktheory.com/theorytab/view/apink/promise-u',\n",
       "  'genres': ['K-pop'],\n",
       "  'title': 'pu',\n",
       "  'mode': '1',\n",
       "  'instruments': ['Piano', 'Piano'],\n",
       "  'bpm': 70.0,\n",
       "  'inferred_key': 'A- major',\n",
       "  'seconds': 27.428571428571427,\n",
       "  'time_signature': '4/4',\n",
       "  'inferred_keyc': 'C major',\n",
       "  'midi_keyc': '../data/midi/transposed/hooktheory/pianoroll/a/apink/promise-u/chorus_key.mid'},\n",
       " {'artist': 'archie',\n",
       "  'section': 'chorus',\n",
       "  'original_path': '../data/midi/hooktheory/pianoroll/a/archie/famous/chorus_key.mid',\n",
       "  'parts': ['chorus'],\n",
       "  'song_url': 'https://www.hooktheory.com/theorytab/view/archie/famous',\n",
       "  'genres': ['Electronic'],\n",
       "  'title': 'Famous',\n",
       "  'mode': '6',\n",
       "  'instruments': ['Piano', 'Piano'],\n",
       "  'bpm': 128.0,\n",
       "  'inferred_key': 'D minor',\n",
       "  'seconds': 15.0,\n",
       "  'time_signature': '4/4',\n",
       "  'inferred_keyc': 'A minor',\n",
       "  'midi_keyc': '../data/midi/transposed/hooktheory/pianoroll/a/archie/famous/chorus_key.mid'}]"
      ]
     },
     "execution_count": 21,
     "metadata": {},
     "output_type": "execute_result"
    }
   ],
   "source": [
    "hooktheory_list[-3:]"
   ]
  },
  {
   "cell_type": "code",
   "execution_count": 22,
   "metadata": {},
   "outputs": [],
   "source": [
    "hooktheory_list_loaded = json.load(open(song_list_path, 'r'))"
   ]
  },
  {
   "cell_type": "code",
   "execution_count": 23,
   "metadata": {},
   "outputs": [
    {
     "data": {
      "text/plain": [
       "{'artist': 'weezer',\n",
       " 'section': 'bridge',\n",
       " 'original_path': '../data/midi/hooktheory/pianoroll/w/weezer/say-it-aint-so/bridge_key.mid',\n",
       " 'parts': ['verse', 'chorus', 'bridge'],\n",
       " 'song_url': 'https://www.hooktheory.com/theorytab/view/weezer/say-it-aint-so',\n",
       " 'genres': ['Pop', 'Rock'],\n",
       " 'title': \"Say It Ain't So\",\n",
       " 'mode': '1',\n",
       " 'instruments': ['Piano', 'Piano'],\n",
       " 'bpm': 70.0,\n",
       " 'inferred_key': 'B- major',\n",
       " 'seconds': 27.428571428571427,\n",
       " 'time_signature': '4/4',\n",
       " 'inferred_keyc': 'C major',\n",
       " 'midi_keyc': '../data/midi/transposed/hooktheory/pianoroll/w/weezer/say-it-aint-so/bridge_key.mid'}"
      ]
     },
     "execution_count": 23,
     "metadata": {},
     "output_type": "execute_result"
    }
   ],
   "source": [
    "hooktheory_list_loaded[100]"
   ]
  },
  {
   "cell_type": "markdown",
   "metadata": {},
   "source": [
    "### Gather FreeMidi"
   ]
  },
  {
   "cell_type": "code",
   "execution_count": 25,
   "metadata": {},
   "outputs": [
    {
     "data": {
      "text/plain": [
       "[PosixPath('../data/midi/freemidi_scrape/genre-disco'),\n",
       " PosixPath('../data/midi/freemidi_scrape/genre-pop'),\n",
       " PosixPath('../data/midi/freemidi_scrape/genre-dance-eletric'),\n",
       " PosixPath('../data/midi/freemidi_scrape/genre-punk'),\n",
       " PosixPath('../data/midi/freemidi_scrape/genre-hip-hop-rap'),\n",
       " PosixPath('../data/midi/freemidi_scrape/genre-rock')]"
      ]
     },
     "execution_count": 25,
     "metadata": {},
     "output_type": "execute_result"
    }
   ],
   "source": [
    "freemidi_path = Path('../data/midi/freemidi_scrape'); freemidi_path.ls()"
   ]
  },
  {
   "cell_type": "code",
   "execution_count": 26,
   "metadata": {},
   "outputs": [],
   "source": [
    "def parse_freemidi_songs(fp, genre=None):\n",
    "    try:\n",
    "        name = fp.with_suffix('').name.split(' - ')\n",
    "        artist = name[0]\n",
    "        title = name[-1]\n",
    "        attr = get_music21_attr(fp)\n",
    "    except Exception as e:\n",
    "        print('Exeption:', fp, e)\n",
    "    \n",
    "    metadata = {\n",
    "        'artist': artist,\n",
    "        'title': title,\n",
    "        'midi': str(fp),\n",
    "        'genre': genre\n",
    "    }\n",
    "    return {**metadata, **attr}"
   ]
  },
  {
   "cell_type": "code",
   "execution_count": 35,
   "metadata": {},
   "outputs": [],
   "source": [
    "def parse_freemidi_genre(genre_path, genre):\n",
    "    file_list = genre_path.ls()\n",
    "    parsed_songs = [parse_freemidi_songs(fp, genre) for fp in tqdm(file_list, total=len(file_list))]\n",
    "    \n",
    "    metadata_path = f'freemidi_{genre}_metadata.json'\n",
    "    json.dump(parsed_songs, open(genre_path.parent/metadata_path, 'w'))\n",
    "    \n",
    "    return parsed_songs, metadata_path"
   ]
  },
  {
   "cell_type": "code",
   "execution_count": null,
   "metadata": {},
   "outputs": [],
   "source": [
    "# sanity check\n",
    "freemidi_out = parse_freemidi(dance_midi_files[0], genre='dance')"
   ]
  },
  {
   "cell_type": "code",
   "execution_count": null,
   "metadata": {},
   "outputs": [],
   "source": []
  },
  {
   "cell_type": "code",
   "execution_count": 38,
   "metadata": {},
   "outputs": [],
   "source": [
    "dance_files = (freemidi_path/'genre-dance-eletric/').ls()"
   ]
  },
  {
   "cell_type": "code",
   "execution_count": 39,
   "metadata": {},
   "outputs": [],
   "source": [
    "atb = dance_files[1]"
   ]
  },
  {
   "cell_type": "code",
   "execution_count": 59,
   "metadata": {},
   "outputs": [
    {
     "data": {
      "text/plain": [
       "PosixPath('../data/midi/freemidi_scrape/genre-dance-eletric/ATB - Dont stop.mid')"
      ]
     },
     "execution_count": 59,
     "metadata": {},
     "output_type": "execute_result"
    }
   ],
   "source": [
    "atb"
   ]
  },
  {
   "cell_type": "code",
   "execution_count": 41,
   "metadata": {},
   "outputs": [],
   "source": [
    "old_song = stream = music21.converter.parse(atb)"
   ]
  },
  {
   "cell_type": "code",
   "execution_count": 42,
   "metadata": {},
   "outputs": [],
   "source": [
    "new_song = convert2keyc(atb)"
   ]
  },
  {
   "cell_type": "code",
   "execution_count": 56,
   "metadata": {},
   "outputs": [
    {
     "data": {
      "text/plain": [
       "PosixPath('/usr/bin/musescore')"
      ]
     },
     "execution_count": 56,
     "metadata": {},
     "output_type": "execute_result"
    }
   ],
   "source": [
    "music21.environment.get(\"musicxmlPath\")"
   ]
  },
  {
   "cell_type": "code",
   "execution_count": 58,
   "metadata": {},
   "outputs": [],
   "source": [
    "old_song.show('musicxml')"
   ]
  },
  {
   "cell_type": "code",
   "execution_count": null,
   "metadata": {},
   "outputs": [],
   "source": [
    "music21.environment.set(\"musicxmlPath\", \"/usr/bin/musescore\")\n",
    "music21.environment.set(\"graphicsPath\", \"/usr/bin/musescore\")"
   ]
  },
  {
   "cell_type": "code",
   "execution_count": 43,
   "metadata": {},
   "outputs": [
    {
     "data": {
      "text/html": [
       "\n",
       "                <div id='midiPlayerDiv30611136'></div>\n",
       "                <link rel=\"stylesheet\" href=\"//cuthbertLab.github.io/music21j/css/m21.css\"\n",
       "                    type=\"text/css\" />\n",
       "                <script>\n",
       "                require.config({\n",
       "                    paths: {'music21': '//cuthbertLab.github.io/music21j/src/music21'}\n",
       "                });\n",
       "                require(['music21'], function() {\n",
       "                               mp = new music21.miditools.MidiPlayer();\n",
       "                               mp.addPlayer('#midiPlayerDiv30611136');\n",
       "                               mp.base64Load('data:audio/midi;base64,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');\n",
       "                        });\n",
       "                </script>"
      ],
      "text/plain": [
       "<IPython.core.display.HTML object>"
      ]
     },
     "metadata": {},
     "output_type": "display_data"
    }
   ],
   "source": [
    "old_song.show('midi')"
   ]
  },
  {
   "cell_type": "code",
   "execution_count": 54,
   "metadata": {},
   "outputs": [
    {
     "data": {
      "text/plain": [
       "[<music21.instrument.ElectricBass Electric Bass>,\n",
       " <music21.instrument.Instrument >,\n",
       " <music21.instrument.Instrument >,\n",
       " <music21.instrument.Instrument >,\n",
       " <music21.instrument.ElectricGuitar Electric Guitar>,\n",
       " <music21.instrument.Whistle Whistle>,\n",
       " <music21.instrument.ElectricOrgan Electric Organ>,\n",
       " <music21.instrument.Glockenspiel Glockenspiel>,\n",
       " <music21.instrument.Instrument >,\n",
       " <music21.instrument.ElectricGuitar Electric Guitar>,\n",
       " <music21.tempo.MetronomeMark allegro Quarter=133.0>,\n",
       " <music21.key.Key of C major>,\n",
       " <music21.key.Key of C major>,\n",
       " <music21.key.Key of C major>,\n",
       " <music21.key.Key of C major>,\n",
       " <music21.key.Key of C major>,\n",
       " <music21.key.Key of C major>,\n",
       " <music21.key.Key of C major>,\n",
       " <music21.key.Key of C major>,\n",
       " <music21.key.Key of C major>,\n",
       " <music21.key.Key of C major>,\n",
       " <music21.meter.TimeSignature 4/4>,\n",
       " <music21.meter.TimeSignature 4/4>,\n",
       " <music21.meter.TimeSignature 4/4>,\n",
       " <music21.meter.TimeSignature 4/4>,\n",
       " <music21.meter.TimeSignature 4/4>,\n",
       " <music21.meter.TimeSignature 4/4>,\n",
       " <music21.meter.TimeSignature 4/4>,\n",
       " <music21.meter.TimeSignature 4/4>,\n",
       " <music21.meter.TimeSignature 4/4>,\n",
       " <music21.meter.TimeSignature 4/4>,\n",
       " <music21.note.Rest rest>,\n",
       " <music21.note.Rest rest>,\n",
       " <music21.note.Rest rest>,\n",
       " <music21.note.Rest rest>,\n",
       " <music21.note.Rest rest>,\n",
       " <music21.note.Rest rest>,\n",
       " <music21.note.Rest rest>,\n",
       " <music21.note.Rest rest>,\n",
       " <music21.note.Rest rest>,\n",
       " <music21.note.Note F#>,\n",
       " <music21.note.Rest rest>,\n",
       " <music21.note.Rest rest>,\n",
       " <music21.note.Rest rest>,\n",
       " <music21.note.Rest rest>,\n",
       " <music21.note.Rest rest>,\n",
       " <music21.note.Note F#>,\n",
       " <music21.note.Note F#>,\n",
       " <music21.note.Note F#>,\n",
       " <music21.note.Note B->,\n",
       " <music21.chord.Chord B-3 F4>,\n",
       " <music21.note.Note D>,\n",
       " <music21.note.Note D>,\n",
       " <music21.chord.Chord F5 B-5>,\n",
       " <music21.chord.Chord C2 C#3>,\n",
       " <music21.note.Note B->,\n",
       " <music21.note.Rest rest>,\n",
       " <music21.note.Rest rest>,\n",
       " <music21.note.Note B->,\n",
       " <music21.chord.Chord G#2 B-4>,\n",
       " <music21.note.Rest rest>,\n",
       " <music21.note.Note B->,\n",
       " <music21.note.Note B->,\n",
       " <music21.chord.Chord E-2 F#2>,\n",
       " <music21.note.Rest rest>,\n",
       " <music21.note.Note B->,\n",
       " <music21.note.Rest rest>,\n",
       " <music21.chord.Chord G#2 B-5>,\n",
       " <music21.note.Rest rest>,\n",
       " <music21.note.Note B->,\n",
       " <music21.note.Rest rest>,\n",
       " <music21.note.Note B->,\n",
       " <music21.note.Note B->,\n",
       " <music21.note.Note B->,\n",
       " <music21.note.Rest rest>,\n",
       " <music21.note.Note B->,\n",
       " <music21.chord.Chord G#2 B-4>,\n",
       " <music21.note.Rest rest>,\n",
       " <music21.note.Note B->,\n",
       " <music21.note.Note B->,\n",
       " <music21.chord.Chord E-2 F#2>,\n",
       " <music21.note.Rest rest>,\n",
       " <music21.note.Note B->,\n",
       " <music21.chord.Chord G#2 B-5>,\n",
       " <music21.note.Rest rest>,\n",
       " <music21.note.Rest rest>,\n",
       " <music21.note.Note A>,\n",
       " <music21.note.Rest rest>,\n",
       " <music21.note.Note G>,\n",
       " <music21.note.Rest rest>,\n",
       " <music21.note.Note G>,\n",
       " <music21.note.Note G>,\n",
       " <music21.note.Rest rest>,\n",
       " <music21.note.Note A>,\n",
       " <music21.chord.Chord G#2 B-4>,\n",
       " <music21.note.Rest rest>,\n",
       " <music21.note.Note G>,\n",
       " <music21.note.Note A>,\n",
       " <music21.chord.Chord E-2 F#2>,\n",
       " <music21.note.Rest rest>,\n",
       " <music21.note.Note G>,\n",
       " <music21.note.Rest rest>,\n",
       " <music21.chord.Chord G#2 B-5>,\n",
       " <music21.note.Rest rest>,\n",
       " <music21.note.Note A>,\n",
       " <music21.note.Rest rest>,\n",
       " <music21.note.Note G>,\n",
       " <music21.note.Rest rest>,\n",
       " <music21.note.Note A>,\n",
       " <music21.chord.Chord G#2 B-4>,\n",
       " <music21.note.Rest rest>,\n",
       " <music21.note.Note G>,\n",
       " <music21.note.Note A>,\n",
       " <music21.chord.Chord E-2 F#2>,\n",
       " <music21.note.Rest rest>,\n",
       " <music21.note.Note G>,\n",
       " <music21.chord.Chord G#2 B-5>,\n",
       " <music21.note.Rest rest>,\n",
       " <music21.note.Rest rest>,\n",
       " <music21.note.Note G>,\n",
       " <music21.note.Rest rest>,\n",
       " <music21.chord.Chord A3 F4>,\n",
       " <music21.note.Rest rest>,\n",
       " <music21.note.Rest rest>,\n",
       " <music21.note.Rest rest>,\n",
       " <music21.chord.Chord F5 A5>,\n",
       " <music21.note.Note D>,\n",
       " <music21.note.Rest rest>,\n",
       " <music21.note.Note G>,\n",
       " <music21.chord.Chord G#2 B-4>,\n",
       " <music21.note.Rest rest>,\n",
       " <music21.note.Note D>,\n",
       " <music21.note.Note G>,\n",
       " <music21.chord.Chord E-2 F#2>,\n",
       " <music21.note.Rest rest>,\n",
       " <music21.note.Note D>,\n",
       " <music21.chord.Chord G#2 B-5>,\n",
       " <music21.note.Rest rest>,\n",
       " <music21.note.Rest rest>,\n",
       " <music21.note.Note G>,\n",
       " <music21.note.Rest rest>,\n",
       " <music21.note.Note B->,\n",
       " <music21.note.Note B->,\n",
       " <music21.note.Note D>,\n",
       " <music21.note.Rest rest>,\n",
       " <music21.note.Note G>,\n",
       " <music21.chord.Chord G#2 B-4>,\n",
       " <music21.note.Rest rest>,\n",
       " <music21.note.Note D>,\n",
       " <music21.note.Note G>,\n",
       " <music21.chord.Chord E-2 F#2>,\n",
       " <music21.note.Rest rest>,\n",
       " <music21.note.Note D>,\n",
       " <music21.note.Note D>,\n",
       " <music21.chord.Chord G#2 B-5>,\n",
       " <music21.note.Rest rest>,\n",
       " <music21.note.Note E->,\n",
       " <music21.note.Rest rest>,\n",
       " <music21.chord.Chord G3 B-3 E-4>,\n",
       " <music21.chord.Chord E-5 G5 B-5>,\n",
       " <music21.note.Note E->,\n",
       " <music21.note.Rest rest>,\n",
       " <music21.note.Note E->,\n",
       " <music21.chord.Chord G#2 B-4>,\n",
       " <music21.note.Rest rest>,\n",
       " <music21.note.Note E->,\n",
       " <music21.note.Note E->,\n",
       " <music21.chord.Chord E-2 F#2>,\n",
       " <music21.note.Rest rest>,\n",
       " <music21.note.Note E->,\n",
       " <music21.chord.Chord G#2 B-5>,\n",
       " <music21.note.Rest rest>,\n",
       " <music21.note.Rest rest>,\n",
       " <music21.note.Note E->,\n",
       " <music21.note.Rest rest>,\n",
       " <music21.note.Note E->,\n",
       " <music21.note.Rest rest>,\n",
       " <music21.note.Note E->,\n",
       " <music21.chord.Chord G#2 B-4>,\n",
       " <music21.note.Rest rest>,\n",
       " <music21.note.Note E->,\n",
       " <music21.note.Note E->,\n",
       " <music21.chord.Chord E-2 F#2>,\n",
       " <music21.note.Rest rest>,\n",
       " <music21.note.Note E->,\n",
       " <music21.note.Rest rest>,\n",
       " <music21.chord.Chord G#2 B-5>,\n",
       " <music21.note.Rest rest>,\n",
       " <music21.note.Rest rest>,\n",
       " <music21.note.Rest rest>,\n",
       " <music21.note.Note B->,\n",
       " <music21.chord.Chord B-3 F4>,\n",
       " <music21.note.Note D>,\n",
       " <music21.note.Note D>,\n",
       " <music21.chord.Chord F5 B-5>,\n",
       " <music21.note.Note B->,\n",
       " <music21.note.Rest rest>,\n",
       " <music21.note.Rest rest>,\n",
       " <music21.note.Note B->,\n",
       " <music21.chord.Chord G#2 B-4>,\n",
       " <music21.note.Rest rest>,\n",
       " <music21.note.Note B->,\n",
       " <music21.note.Note B->,\n",
       " <music21.chord.Chord E-2 F#2>,\n",
       " <music21.note.Rest rest>,\n",
       " <music21.note.Note B->,\n",
       " <music21.note.Rest rest>,\n",
       " <music21.chord.Chord G#2 B-5>,\n",
       " <music21.note.Rest rest>,\n",
       " <music21.note.Note B->,\n",
       " <music21.note.Rest rest>,\n",
       " <music21.note.Note B->,\n",
       " <music21.note.Note B->,\n",
       " <music21.note.Note B->,\n",
       " <music21.note.Rest rest>,\n",
       " <music21.note.Note B->,\n",
       " <music21.chord.Chord G#2 B-4>,\n",
       " <music21.note.Rest rest>,\n",
       " <music21.note.Note B->,\n",
       " <music21.note.Note B->,\n",
       " <music21.chord.Chord E-2 F#2>,\n",
       " <music21.note.Rest rest>,\n",
       " <music21.note.Note B->,\n",
       " <music21.chord.Chord G#2 B-5>,\n",
       " <music21.note.Rest rest>,\n",
       " <music21.note.Rest rest>,\n",
       " <music21.note.Note A>,\n",
       " <music21.note.Rest rest>,\n",
       " <music21.note.Note G>,\n",
       " <music21.note.Note G>,\n",
       " <music21.note.Note G>,\n",
       " <music21.note.Rest rest>,\n",
       " <music21.note.Note A>,\n",
       " <music21.chord.Chord G#2 B-4>,\n",
       " <music21.note.Rest rest>,\n",
       " <music21.note.Note G>,\n",
       " <music21.note.Note A>,\n",
       " <music21.chord.Chord E-2 F#2>,\n",
       " <music21.note.Rest rest>,\n",
       " <music21.note.Note G>,\n",
       " <music21.note.Rest rest>,\n",
       " <music21.chord.Chord G#2 B-5>,\n",
       " <music21.note.Rest rest>,\n",
       " <music21.note.Note A>,\n",
       " <music21.note.Rest rest>,\n",
       " <music21.note.Note G>,\n",
       " <music21.note.Rest rest>,\n",
       " <music21.note.Note A>,\n",
       " <music21.chord.Chord G#2 B-4>,\n",
       " <music21.note.Rest rest>,\n",
       " <music21.note.Note G>,\n",
       " <music21.note.Note A>,\n",
       " <music21.chord.Chord E-2 F#2>,\n",
       " <music21.note.Rest rest>,\n",
       " <music21.note.Note G>,\n",
       " <music21.chord.Chord G#2 B-5>,\n",
       " <music21.note.Rest rest>,\n",
       " <music21.note.Rest rest>,\n",
       " <music21.note.Note G>,\n",
       " <music21.note.Rest rest>,\n",
       " <music21.chord.Chord A3 F4>,\n",
       " <music21.note.Rest rest>,\n",
       " <music21.note.Rest rest>,\n",
       " <music21.chord.Chord F5 A5>,\n",
       " <music21.note.Note D>,\n",
       " <music21.note.Rest rest>,\n",
       " <music21.note.Note G>,\n",
       " <music21.chord.Chord G#2 B-4>,\n",
       " <music21.note.Rest rest>,\n",
       " <music21.note.Note D>,\n",
       " <music21.note.Note G>,\n",
       " <music21.chord.Chord E-2 F#2>,\n",
       " <music21.note.Rest rest>,\n",
       " <music21.note.Note D>,\n",
       " <music21.chord.Chord G#2 B-5>,\n",
       " <music21.note.Rest rest>,\n",
       " <music21.note.Rest rest>,\n",
       " <music21.note.Note G>,\n",
       " <music21.note.Rest rest>,\n",
       " <music21.note.Note B->,\n",
       " <music21.note.Note B->,\n",
       " <music21.note.Note D>,\n",
       " <music21.note.Rest rest>,\n",
       " <music21.note.Note G>,\n",
       " <music21.chord.Chord G#2 B-4>,\n",
       " <music21.note.Rest rest>,\n",
       " <music21.note.Note D>,\n",
       " <music21.note.Note G>,\n",
       " <music21.chord.Chord E-2 F#2>,\n",
       " <music21.note.Rest rest>,\n",
       " <music21.note.Note D>,\n",
       " <music21.note.Note D>,\n",
       " <music21.chord.Chord G#2 B-5>,\n",
       " <music21.note.Rest rest>,\n",
       " <music21.note.Note E->,\n",
       " <music21.note.Rest rest>,\n",
       " <music21.chord.Chord G3 B-3 E-4>,\n",
       " <music21.chord.Chord E-5 G5 B-5>,\n",
       " <music21.note.Note E->,\n",
       " <music21.note.Rest rest>,\n",
       " <music21.note.Note E->,\n",
       " <music21.chord.Chord G#2 B-4>,\n",
       " <music21.note.Rest rest>,\n",
       " <music21.note.Note E->,\n",
       " <music21.note.Note E->,\n",
       " <music21.chord.Chord E-2 F#2>,\n",
       " <music21.note.Rest rest>,\n",
       " <music21.note.Note E->,\n",
       " <music21.chord.Chord G#2 B-5>,\n",
       " <music21.note.Rest rest>,\n",
       " <music21.note.Rest rest>,\n",
       " <music21.note.Note E->,\n",
       " <music21.note.Rest rest>,\n",
       " <music21.note.Note E->,\n",
       " <music21.note.Rest rest>,\n",
       " <music21.note.Note E->,\n",
       " <music21.chord.Chord G#2 B-4>,\n",
       " <music21.note.Rest rest>,\n",
       " <music21.note.Note E->,\n",
       " <music21.note.Note E->,\n",
       " <music21.chord.Chord E-2 F#2>,\n",
       " <music21.note.Rest rest>,\n",
       " <music21.note.Note E->,\n",
       " <music21.note.Rest rest>,\n",
       " <music21.chord.Chord G#2 B-5>,\n",
       " <music21.note.Rest rest>,\n",
       " <music21.note.Rest rest>,\n",
       " <music21.note.Rest rest>,\n",
       " <music21.note.Note B->,\n",
       " <music21.chord.Chord B-3 F4>,\n",
       " <music21.note.Note D>,\n",
       " <music21.note.Note D>,\n",
       " <music21.chord.Chord F5 B-5>,\n",
       " <music21.chord.Chord C2 C#3>,\n",
       " <music21.note.Note B->,\n",
       " <music21.note.Note B->,\n",
       " <music21.note.Rest rest>,\n",
       " <music21.note.Rest rest>,\n",
       " <music21.note.Note B->,\n",
       " <music21.note.Note B->,\n",
       " <music21.note.Note B->,\n",
       " <music21.chord.Chord G#2 B-4>,\n",
       " <music21.note.Rest rest>,\n",
       " <music21.note.Note B->,\n",
       " <music21.note.Note B->,\n",
       " <music21.note.Rest rest>,\n",
       " <music21.note.Rest rest>,\n",
       " <music21.chord.Chord E-2 F#2>,\n",
       " <music21.note.Rest rest>,\n",
       " <music21.note.Note B->,\n",
       " <music21.note.Rest rest>,\n",
       " <music21.note.Note B->,\n",
       " <music21.note.Note B->,\n",
       " <music21.chord.Chord G#2 B-5>,\n",
       " <music21.note.Rest rest>,\n",
       " <music21.note.Note B->,\n",
       " <music21.note.Rest rest>,\n",
       " <music21.note.Rest rest>,\n",
       " <music21.note.Rest rest>,\n",
       " <music21.note.Note B->,\n",
       " <music21.note.Note B->,\n",
       " <music21.note.Note B->,\n",
       " <music21.note.Rest rest>,\n",
       " <music21.note.Rest rest>,\n",
       " <music21.note.Rest rest>,\n",
       " <music21.note.Note B->,\n",
       " <music21.note.Note B->,\n",
       " <music21.note.Note B->,\n",
       " <music21.chord.Chord G#2 B-4>,\n",
       " <music21.note.Rest rest>,\n",
       " <music21.note.Note C>,\n",
       " <music21.note.Note C>,\n",
       " <music21.note.Note B->,\n",
       " <music21.note.Note B->,\n",
       " <music21.chord.Chord E-2 F#2>,\n",
       " <music21.note.Rest rest>,\n",
       " <music21.note.Rest rest>,\n",
       " <music21.note.Rest rest>,\n",
       " <music21.note.Note B->,\n",
       " <music21.note.Note D>,\n",
       " <music21.note.Note D>,\n",
       " <music21.chord.Chord G#2 B-5>,\n",
       " <music21.note.Rest rest>,\n",
       " <music21.note.Rest rest>,\n",
       " <music21.note.Note A>,\n",
       " <music21.note.Rest rest>,\n",
       " <music21.note.Rest rest>,\n",
       " <music21.note.Rest rest>,\n",
       " <music21.note.Note G>,\n",
       " <music21.note.Note G>,\n",
       " <music21.note.Note A>,\n",
       " <music21.note.Note G>,\n",
       " <music21.note.Rest rest>,\n",
       " <music21.note.Note A>,\n",
       " <music21.chord.Chord G#2 B-4>,\n",
       " <music21.note.Rest rest>,\n",
       " <music21.note.Note G>,\n",
       " <music21.note.Note A>,\n",
       " <music21.chord.Chord E-2 F#2>,\n",
       " <music21.note.Rest rest>,\n",
       " <music21.note.Note G>,\n",
       " <music21.note.Rest rest>,\n",
       " <music21.chord.Chord G#2 B-5>,\n",
       " <music21.note.Rest rest>,\n",
       " <music21.note.Note A>,\n",
       " <music21.note.Rest rest>,\n",
       " <music21.note.Note G>,\n",
       " <music21.note.Rest rest>,\n",
       " <music21.note.Note A>,\n",
       " <music21.chord.Chord G#2 B-4>,\n",
       " <music21.note.Rest rest>,\n",
       " <music21.note.Note G>,\n",
       " <music21.note.Note A>,\n",
       " <music21.chord.Chord E-2 F#2>,\n",
       " <music21.note.Rest rest>,\n",
       " <music21.note.Note G>,\n",
       " <music21.chord.Chord G#2 B-5>,\n",
       " <music21.note.Rest rest>,\n",
       " <music21.note.Rest rest>,\n",
       " <music21.note.Note G>,\n",
       " <music21.note.Rest rest>,\n",
       " <music21.chord.Chord A3 F4>,\n",
       " <music21.chord.Chord F5 A5>,\n",
       " <music21.note.Note G>,\n",
       " <music21.note.Note D>,\n",
       " <music21.note.Rest rest>,\n",
       " <music21.note.Note G>,\n",
       " <music21.note.Note A>,\n",
       " <music21.note.Note A>,\n",
       " <music21.chord.Chord G#2 B-4>,\n",
       " <music21.note.Rest rest>,\n",
       " <music21.note.Note D>,\n",
       " <music21.note.Note G>,\n",
       " <music21.note.Rest rest>,\n",
       " <music21.note.Rest rest>,\n",
       " <music21.chord.Chord E-2 F#2>,\n",
       " <music21.note.Rest rest>,\n",
       " <music21.note.Note D>,\n",
       " <music21.note.Note A>,\n",
       " <music21.note.Note A>,\n",
       " <music21.chord.Chord G#2 B-5>,\n",
       " <music21.note.Rest rest>,\n",
       " <music21.note.Rest rest>,\n",
       " <music21.note.Note G>,\n",
       " <music21.note.Rest rest>,\n",
       " <music21.note.Rest rest>,\n",
       " <music21.note.Rest rest>,\n",
       " <music21.note.Note A>,\n",
       " <music21.note.Note A>,\n",
       " <music21.note.Note D>,\n",
       " <music21.note.Rest rest>,\n",
       " <music21.note.Rest rest>,\n",
       " <music21.note.Rest rest>,\n",
       " <music21.note.Note G>,\n",
       " <music21.note.Note A>,\n",
       " <music21.note.Note A>,\n",
       " <music21.chord.Chord G#2 B-4>,\n",
       " <music21.note.Rest rest>,\n",
       " <music21.note.Note B->,\n",
       " <music21.note.Note B->,\n",
       " <music21.note.Note D>,\n",
       " <music21.note.Note G>,\n",
       " <music21.note.Rest rest>,\n",
       " <music21.note.Rest rest>,\n",
       " <music21.chord.Chord E-2 F#2>,\n",
       " <music21.note.Note D>,\n",
       " <music21.note.Rest rest>,\n",
       " <music21.note.Note D>,\n",
       " <music21.note.Note D>,\n",
       " <music21.note.Note C>,\n",
       " <music21.note.Note C>,\n",
       " <music21.chord.Chord G#2 B-5>,\n",
       " <music21.note.Rest rest>,\n",
       " <music21.note.Note E->,\n",
       " <music21.note.Rest rest>,\n",
       " <music21.chord.Chord G3 B-3 E-4>,\n",
       " <music21.chord.Chord E-5 G5 B-5>,\n",
       " <music21.note.Rest rest>,\n",
       " <music21.note.Note E->,\n",
       " <music21.note.Rest rest>,\n",
       " <music21.note.Note E->,\n",
       " <music21.chord.Chord G#2 B-4>,\n",
       " <music21.note.Rest rest>,\n",
       " <music21.note.Note E->,\n",
       " <music21.note.Note E->,\n",
       " <music21.note.Rest rest>,\n",
       " <music21.note.Rest rest>,\n",
       " <music21.chord.Chord E-2 F#2>,\n",
       " <music21.note.Rest rest>,\n",
       " <music21.note.Note E->,\n",
       " <music21.chord.Chord G#2 B-5>,\n",
       " <music21.note.Rest rest>,\n",
       " <music21.note.Rest rest>,\n",
       " <music21.note.Note E->,\n",
       " <music21.note.Rest rest>,\n",
       " <music21.note.Note E->,\n",
       " <music21.note.Rest rest>,\n",
       " <music21.note.Note E->,\n",
       " <music21.chord.Chord G#2 B-4>,\n",
       " <music21.note.Rest rest>,\n",
       " <music21.note.Note E->,\n",
       " <music21.note.Note E->,\n",
       " <music21.chord.Chord E-2 F#2>,\n",
       " <music21.note.Rest rest>,\n",
       " <music21.note.Note E->,\n",
       " <music21.note.Rest rest>,\n",
       " <music21.chord.Chord G#2 B-5>,\n",
       " <music21.note.Rest rest>,\n",
       " <music21.note.Note B->,\n",
       " <music21.chord.Chord B-3 F4>,\n",
       " <music21.note.Note D>,\n",
       " <music21.note.Note D>,\n",
       " <music21.chord.Chord F5 B-5>,\n",
       " <music21.note.Note E>,\n",
       " <music21.note.Note B->,\n",
       " <music21.note.Note B->,\n",
       " <music21.note.Rest rest>,\n",
       " <music21.note.Note E>,\n",
       " <music21.note.Rest rest>,\n",
       " <music21.note.Note B->,\n",
       " <music21.note.Note B->,\n",
       " <music21.note.Note B->,\n",
       " <music21.chord.Chord E2 G#2 B-4>,\n",
       " <music21.note.Rest rest>,\n",
       " <music21.note.Note E>,\n",
       " <music21.note.Note B->,\n",
       " <music21.note.Note B->,\n",
       " <music21.note.Rest rest>,\n",
       " <music21.note.Rest rest>,\n",
       " <music21.chord.Chord E-2 E2 F#2>,\n",
       " <music21.note.Rest rest>,\n",
       " <music21.note.Note E>,\n",
       " <music21.note.Note B->,\n",
       " <music21.note.Rest rest>,\n",
       " <music21.note.Note B->,\n",
       " <music21.note.Note B->,\n",
       " <music21.chord.Chord E2 G#2 B-5>,\n",
       " <music21.note.Rest rest>,\n",
       " <music21.note.Note B->,\n",
       " <music21.note.Rest rest>,\n",
       " <music21.note.Rest rest>,\n",
       " <music21.note.Note E>,\n",
       " <music21.note.Rest rest>,\n",
       " <music21.note.Note B->,\n",
       " <music21.note.Note B->,\n",
       " <music21.note.Note E>,\n",
       " <music21.note.Note B->,\n",
       " <music21.note.Rest rest>,\n",
       " <music21.note.Rest rest>,\n",
       " <music21.note.Note E>,\n",
       " <music21.note.Rest rest>,\n",
       " <music21.note.Note B->,\n",
       " <music21.note.Note B->,\n",
       " <music21.note.Note B->,\n",
       " <music21.chord.Chord E2 G#2 B-4>,\n",
       " <music21.note.Rest rest>,\n",
       " <music21.note.Note C>,\n",
       " <music21.note.Note C>,\n",
       " <music21.note.Note E>,\n",
       " <music21.note.Note B->,\n",
       " <music21.note.Note B->,\n",
       " <music21.chord.Chord E-2 E2 F#2>,\n",
       " <music21.note.Rest rest>,\n",
       " <music21.note.Rest rest>,\n",
       " <music21.note.Rest rest>,\n",
       " <music21.note.Note E>,\n",
       " <music21.note.Note B->,\n",
       " <music21.note.Note D>,\n",
       " <music21.note.Note D>,\n",
       " <music21.chord.Chord E2 G#2 B-5>,\n",
       " <music21.note.Rest rest>,\n",
       " <music21.note.Rest rest>,\n",
       " <music21.note.Note A>,\n",
       " <music21.note.Note E>,\n",
       " <music21.note.Rest rest>,\n",
       " <music21.note.Rest rest>,\n",
       " <music21.note.Rest rest>,\n",
       " <music21.note.Note G>,\n",
       " <music21.note.Note G>,\n",
       " <music21.note.Note E>,\n",
       " <music21.note.Note A>,\n",
       " <music21.note.Note G>,\n",
       " <music21.note.Note E>,\n",
       " <music21.note.Rest rest>,\n",
       " <music21.note.Note A>,\n",
       " <music21.chord.Chord E2 G#2 B-4>,\n",
       " <music21.note.Rest rest>,\n",
       " <music21.note.Note E>,\n",
       " <music21.note.Note G>,\n",
       " <music21.note.Note A>,\n",
       " <music21.chord.Chord E-2 E2 F#2>,\n",
       " <music21.note.Rest rest>,\n",
       " <music21.note.Note E>,\n",
       " <music21.note.Note G>,\n",
       " <music21.note.Rest rest>,\n",
       " <music21.chord.Chord E2 G#2 B-5>,\n",
       " <music21.note.Rest rest>,\n",
       " <music21.note.Note A>,\n",
       " <music21.note.Note E>,\n",
       " <music21.note.Rest rest>,\n",
       " <music21.note.Note E>,\n",
       " <music21.note.Note G>,\n",
       " <music21.note.Note E>,\n",
       " <music21.note.Rest rest>,\n",
       " <music21.note.Note A>,\n",
       " <music21.chord.Chord E2 G#2 B-4>,\n",
       " <music21.note.Rest rest>,\n",
       " <music21.note.Note E>,\n",
       " <music21.note.Note G>,\n",
       " <music21.note.Note A>,\n",
       " <music21.chord.Chord E-2 E2 F#2>,\n",
       " <music21.note.Rest rest>,\n",
       " <music21.note.Note E>,\n",
       " <music21.note.Note G>,\n",
       " <music21.chord.Chord E2 G#2 B-5>,\n",
       " <music21.note.Rest rest>,\n",
       " <music21.note.Rest rest>,\n",
       " <music21.note.Note G>,\n",
       " <music21.note.Note E>,\n",
       " <music21.note.Rest rest>,\n",
       " <music21.chord.Chord A3 F4>,\n",
       " <music21.chord.Chord F5 A5>,\n",
       " <music21.note.Note E>,\n",
       " <music21.note.Note G>,\n",
       " <music21.note.Note D>,\n",
       " <music21.note.Note E>,\n",
       " <music21.note.Rest rest>,\n",
       " <music21.note.Note G>,\n",
       " <music21.note.Note A>,\n",
       " <music21.note.Note A>,\n",
       " <music21.chord.Chord E2 G#2 B-4>,\n",
       " <music21.note.Rest rest>,\n",
       " <music21.note.Note E>,\n",
       " <music21.note.Note D>,\n",
       " <music21.note.Note G>,\n",
       " <music21.note.Rest rest>,\n",
       " <music21.note.Rest rest>,\n",
       " <music21.chord.Chord E-2 E2 F#2>,\n",
       " <music21.note.Rest rest>,\n",
       " <music21.note.Note E>,\n",
       " <music21.note.Note D>,\n",
       " <music21.note.Note A>,\n",
       " <music21.note.Note A>,\n",
       " <music21.chord.Chord E2 G#2 B-5>,\n",
       " <music21.note.Rest rest>,\n",
       " <music21.note.Rest rest>,\n",
       " <music21.note.Note G>,\n",
       " <music21.note.Rest rest>,\n",
       " <music21.note.Rest rest>,\n",
       " <music21.note.Note E>,\n",
       " <music21.note.Rest rest>,\n",
       " <music21.note.Note A>,\n",
       " <music21.note.Note A>,\n",
       " <music21.note.Note E>,\n",
       " <music21.note.Note D>,\n",
       " <music21.note.Rest rest>,\n",
       " <music21.note.Rest rest>,\n",
       " <music21.note.Note E>,\n",
       " <music21.note.Rest rest>,\n",
       " <music21.note.Note G>,\n",
       " <music21.note.Note A>,\n",
       " <music21.note.Note A>,\n",
       " <music21.chord.Chord E2 G#2 B-4>,\n",
       " <music21.note.Rest rest>,\n",
       " <music21.note.Note B->,\n",
       " <music21.note.Note B->,\n",
       " <music21.note.Note E>,\n",
       " <music21.note.Note D>,\n",
       " <music21.note.Note G>,\n",
       " <music21.note.Rest rest>,\n",
       " <music21.note.Rest rest>,\n",
       " <music21.chord.Chord E-2 E2 F#2>,\n",
       " <music21.note.Note D>,\n",
       " <music21.note.Rest rest>,\n",
       " <music21.note.Note E>,\n",
       " <music21.note.Note D>,\n",
       " <music21.note.Note D>,\n",
       " <music21.note.Note C>,\n",
       " <music21.note.Note C>,\n",
       " <music21.chord.Chord E2 G#2 B-5>,\n",
       " <music21.note.Rest rest>,\n",
       " <music21.note.Note E->,\n",
       " <music21.note.Note E>,\n",
       " <music21.note.Rest rest>,\n",
       " <music21.chord.Chord G3 B-3 E-4>,\n",
       " <music21.chord.Chord E-5 G5 B-5>,\n",
       " <music21.note.Rest rest>,\n",
       " <music21.note.Rest rest>,\n",
       " <music21.note.Rest rest>,\n",
       " <music21.chord.Chord C2 F#2 C#3>,\n",
       " <music21.note.Note B->,\n",
       " <music21.note.Rest rest>,\n",
       " <music21.chord.Chord F#2 A4 B-4 G#5>,\n",
       " <music21.note.Note B->,\n",
       " <music21.note.Note B->,\n",
       " <music21.chord.Chord B-2 B-4>,\n",
       " <music21.chord.Chord A4 B-4 G#5>,\n",
       " <music21.note.Rest rest>,\n",
       " <music21.note.Rest rest>,\n",
       " <music21.note.Note F>,\n",
       " <music21.chord.Chord C2 E-2 F#2 B-5>,\n",
       " <music21.note.Note B->,\n",
       " <music21.note.Rest rest>,\n",
       " <music21.chord.Chord F#2 B-4>,\n",
       " <music21.note.Note B->,\n",
       " <music21.note.Note B->,\n",
       " <music21.chord.Chord B-2 G#5>,\n",
       " <music21.note.Note B->,\n",
       " <music21.note.Rest rest>,\n",
       " <music21.note.Note B->,\n",
       " <music21.note.Rest rest>,\n",
       " <music21.note.Rest rest>,\n",
       " <music21.chord.Chord C2 F#2 B-4 G#5>,\n",
       " <music21.chord.Chord F#2 A4 B-4 G#5>,\n",
       " <music21.note.Note B->,\n",
       " <music21.note.Note B->,\n",
       " <music21.chord.Chord B-2 B-4>,\n",
       " <music21.chord.Chord A4 G#5>,\n",
       " <music21.note.Note B->,\n",
       " <music21.note.Rest rest>,\n",
       " <music21.note.Rest rest>,\n",
       " <music21.chord.Chord C2 E-2 F#2 B-4 B-5>,\n",
       " <music21.chord.Chord F#2 B-4>,\n",
       " <music21.note.Note B->,\n",
       " <music21.note.Note B->,\n",
       " <music21.chord.Chord B-2 G#5>,\n",
       " <music21.note.Note B->,\n",
       " <music21.note.Note B->,\n",
       " <music21.note.Rest rest>,\n",
       " <music21.note.Rest rest>,\n",
       " <music21.chord.Chord C2 F#2 B-4>,\n",
       " <music21.chord.Chord F#2 A4 B-4>,\n",
       " <music21.note.Note B->,\n",
       " <music21.note.Note B->,\n",
       " <music21.chord.Chord B-2 B-4 G#5>,\n",
       " <music21.chord.Chord A4 G#5>,\n",
       " <music21.note.Note B->,\n",
       " <music21.note.Rest rest>,\n",
       " <music21.note.Rest rest>,\n",
       " <music21.note.Note F>,\n",
       " <music21.chord.Chord C2 E-2 F#2 B-4 B-5>,\n",
       " <music21.note.Rest rest>,\n",
       " <music21.chord.Chord F#2 B-4>,\n",
       " <music21.note.Note B->,\n",
       " <music21.note.Note B->,\n",
       " <music21.chord.Chord B-2 G#5>,\n",
       " <music21.note.Note B->,\n",
       " <music21.note.Note B->,\n",
       " <music21.note.Rest rest>,\n",
       " <music21.note.Rest rest>,\n",
       " <music21.chord.Chord C2 F#2 G#5>,\n",
       " <music21.note.Note B->,\n",
       " <music21.chord.Chord F#2 A4 G#5>,\n",
       " <music21.note.Note B->,\n",
       " <music21.note.Rest rest>,\n",
       " <music21.note.Note B->,\n",
       " <music21.note.Note B->,\n",
       " <music21.chord.Chord B-2 B-4>,\n",
       " <music21.chord.Chord A4 G#5>,\n",
       " <music21.note.Note B->,\n",
       " <music21.note.Rest rest>,\n",
       " <music21.note.Rest rest>,\n",
       " <music21.chord.Chord C2 E-2 F#2 B-4 B-5>,\n",
       " <music21.chord.Chord F#2 B-4>,\n",
       " <music21.note.Note B->,\n",
       " <music21.note.Note B->,\n",
       " <music21.chord.Chord B-2 G#5>,\n",
       " <music21.note.Note B->,\n",
       " <music21.note.Note B->,\n",
       " <music21.note.Rest rest>,\n",
       " <music21.note.Rest rest>,\n",
       " <music21.chord.Chord C2 F#2 B-4 G#5>,\n",
       " <music21.chord.Chord F#2 A4 B-4 G#5>,\n",
       " <music21.note.Note B->,\n",
       " <music21.note.Note B->,\n",
       " <music21.chord.Chord B-2 B-4>,\n",
       " <music21.chord.Chord A4 G#5>,\n",
       " <music21.note.Note B->,\n",
       " <music21.note.Rest rest>,\n",
       " <music21.note.Rest rest>,\n",
       " <music21.note.Note F>,\n",
       " <music21.chord.Chord C2 E-2 F#2 B-4 B-5>,\n",
       " <music21.note.Rest rest>,\n",
       " <music21.chord.Chord F#2 B-4>,\n",
       " <music21.note.Note B->,\n",
       " <music21.note.Note B->,\n",
       " <music21.chord.Chord B-2 G#5>,\n",
       " <music21.note.Note B->,\n",
       " <music21.note.Note B->,\n",
       " <music21.note.Rest rest>,\n",
       " <music21.note.Rest rest>,\n",
       " <music21.chord.Chord C2 F#2 B-4 G#5>,\n",
       " <music21.chord.Chord F#2 A4 B-4 G#5>,\n",
       " <music21.note.Note B->,\n",
       " <music21.note.Note B->,\n",
       " <music21.chord.Chord B-2 B-4>,\n",
       " <music21.chord.Chord A4 G#5>,\n",
       " <music21.note.Note B->,\n",
       " <music21.note.Rest rest>,\n",
       " <music21.note.Rest rest>,\n",
       " <music21.chord.Chord C2 E-2 F#2 B-4 B-5>,\n",
       " <music21.chord.Chord F#2 B-4>,\n",
       " <music21.note.Note B->,\n",
       " <music21.note.Note B->,\n",
       " <music21.chord.Chord B-2 G#5>,\n",
       " <music21.note.Note B->,\n",
       " <music21.note.Note B->,\n",
       " <music21.note.Rest rest>,\n",
       " <music21.note.Rest rest>,\n",
       " <music21.chord.Chord C2 F#2 B-4>,\n",
       " <music21.chord.Chord F#2 A4 B-4 G#5>,\n",
       " <music21.note.Note F#>,\n",
       " <music21.note.Note F#>,\n",
       " <music21.chord.Chord B-2 B-4>,\n",
       " <music21.chord.Chord A4 G#5>,\n",
       " <music21.note.Note B->,\n",
       " <music21.note.Rest rest>,\n",
       " <music21.note.Rest rest>,\n",
       " <music21.note.Note F>,\n",
       " <music21.note.Rest rest>,\n",
       " <music21.chord.Chord C2 E-2 F#2 B-4 B-5>,\n",
       " <music21.chord.Chord F#2 B-4>,\n",
       " <music21.note.Note F#>,\n",
       " <music21.note.Note F#>,\n",
       " <music21.chord.Chord B-2 G#5>,\n",
       " <music21.note.Note B->,\n",
       " <music21.note.Note B->,\n",
       " <music21.note.Rest rest>,\n",
       " <music21.note.Rest rest>,\n",
       " <music21.chord.Chord C2 F#2 G#5>,\n",
       " <music21.note.Note B->,\n",
       " <music21.chord.Chord F#2 A4 G#5>,\n",
       " <music21.note.Note B->,\n",
       " <music21.note.Note F#>,\n",
       " <music21.note.Note F#>,\n",
       " <music21.chord.Chord B-2 B-4>,\n",
       " <music21.chord.Chord A4 G#5>,\n",
       " <music21.note.Note B->,\n",
       " <music21.note.Rest rest>,\n",
       " <music21.note.Rest rest>,\n",
       " <music21.chord.Chord C2 E-2 F#2 B-4 B-5>,\n",
       " <music21.chord.Chord F#2 B-4>,\n",
       " <music21.note.Note F#>,\n",
       " <music21.note.Note F#>,\n",
       " <music21.chord.Chord B-2 G#5>,\n",
       " <music21.note.Note B->,\n",
       " <music21.note.Note B->,\n",
       " <music21.note.Rest rest>,\n",
       " <music21.note.Rest rest>,\n",
       " <music21.chord.Chord C2 F#2>,\n",
       " <music21.note.Note B->,\n",
       " <music21.chord.Chord F#2 A4 B-4 G#5>,\n",
       " <music21.note.Note B->,\n",
       " <music21.note.Note B->,\n",
       " <music21.chord.Chord B-2 B-4>,\n",
       " <music21.chord.Chord A4 B-4 G#5>,\n",
       " <music21.note.Rest rest>,\n",
       " <music21.note.Rest rest>,\n",
       " <music21.note.Note F>,\n",
       " <music21.note.Rest rest>,\n",
       " <music21.chord.Chord C2 E-2 F#2 B-5>,\n",
       " <music21.note.Note B->,\n",
       " <music21.chord.Chord F#2 B-4>,\n",
       " <music21.note.Note B->,\n",
       " <music21.note.Note B->,\n",
       " <music21.chord.Chord B-2 G#5>,\n",
       " <music21.note.Note B->,\n",
       " <music21.note.Note B->,\n",
       " <music21.note.Rest rest>,\n",
       " <music21.note.Rest rest>,\n",
       " <music21.chord.Chord C2 F#2 B-4 G#5>,\n",
       " <music21.chord.Chord F#2 A4 B-4 G#5>,\n",
       " <music21.note.Note B->,\n",
       " <music21.note.Note B->,\n",
       " <music21.chord.Chord B-2 B-4>,\n",
       " <music21.chord.Chord A4 G#5>,\n",
       " <music21.note.Note B->,\n",
       " <music21.note.Rest rest>,\n",
       " <music21.note.Rest rest>,\n",
       " <music21.chord.Chord C2 E-2 F#2 B-4 B-5>,\n",
       " <music21.chord.Chord F#2 B-4>,\n",
       " <music21.note.Note B->,\n",
       " <music21.note.Note B->,\n",
       " <music21.chord.Chord B-2 G#5>,\n",
       " <music21.note.Note B->,\n",
       " <music21.note.Note B->,\n",
       " <music21.note.Rest rest>,\n",
       " <music21.note.Rest rest>,\n",
       " <music21.chord.Chord C2 F#2 B-4>,\n",
       " <music21.chord.Chord F#2 A4 B-4>,\n",
       " <music21.note.Note B->,\n",
       " <music21.note.Note B->,\n",
       " <music21.chord.Chord B-2 B-4 G#5>,\n",
       " <music21.chord.Chord A4 G#5>,\n",
       " <music21.note.Note B->,\n",
       " <music21.note.Rest rest>,\n",
       " <music21.note.Rest rest>,\n",
       " <music21.note.Note F>,\n",
       " <music21.note.Rest rest>,\n",
       " <music21.chord.Chord C2 E-2 F#2 B-4 B-5>,\n",
       " <music21.chord.Chord F#2 B-4>,\n",
       " <music21.note.Note B->,\n",
       " <music21.note.Note B->,\n",
       " <music21.chord.Chord B-2 G#5>,\n",
       " <music21.note.Note B->,\n",
       " <music21.note.Note B->,\n",
       " <music21.note.Rest rest>,\n",
       " <music21.note.Rest rest>,\n",
       " <music21.chord.Chord C2 F#2 G#5>,\n",
       " <music21.note.Note B->,\n",
       " <music21.chord.Chord F#2 A4 G#5>,\n",
       " <music21.note.Note B->,\n",
       " <music21.note.Note B->,\n",
       " <music21.note.Note B->,\n",
       " <music21.chord.Chord B-2 B-4>,\n",
       " <music21.chord.Chord A4 G#5>,\n",
       " <music21.note.Note B->,\n",
       " <music21.note.Rest rest>,\n",
       " <music21.note.Rest rest>,\n",
       " <music21.chord.Chord C2 E-2 F#2 B-4 B-5>,\n",
       " <music21.chord.Chord F#2 B-4>,\n",
       " <music21.note.Note B->,\n",
       " <music21.note.Note B->,\n",
       " <music21.chord.Chord B-2 G#5>,\n",
       " <music21.note.Note B->,\n",
       " <music21.note.Note B->,\n",
       " <music21.note.Rest rest>,\n",
       " <music21.note.Rest rest>,\n",
       " <music21.chord.Chord C2 F#2 B-4 G#5>,\n",
       " <music21.chord.Chord F#2 A4 B-4 G#5>,\n",
       " <music21.note.Note B->,\n",
       " <music21.note.Note B->,\n",
       " <music21.chord.Chord B-2 B-4>,\n",
       " <music21.chord.Chord A4 G#5>,\n",
       " <music21.note.Note B->,\n",
       " <music21.note.Rest rest>,\n",
       " <music21.note.Rest rest>,\n",
       " <music21.note.Note F>,\n",
       " <music21.note.Rest rest>,\n",
       " <music21.chord.Chord C2 E-2 F#2 B-4 B-5>,\n",
       " <music21.chord.Chord F#2 B-4>,\n",
       " <music21.note.Note B->,\n",
       " <music21.note.Note B->,\n",
       " <music21.chord.Chord B-2 G#5>,\n",
       " <music21.note.Note B->,\n",
       " <music21.note.Note B->,\n",
       " <music21.note.Rest rest>,\n",
       " <music21.note.Rest rest>,\n",
       " <music21.chord.Chord C2 F#2 B-4 G#5>,\n",
       " <music21.chord.Chord F#2 A4 B-4 G#5>,\n",
       " <music21.note.Note B->,\n",
       " <music21.note.Note B->,\n",
       " <music21.chord.Chord B-2 B-4>,\n",
       " <music21.chord.Chord A4 G#5>,\n",
       " <music21.note.Note B->,\n",
       " <music21.note.Rest rest>,\n",
       " <music21.note.Rest rest>,\n",
       " <music21.chord.Chord C2 E-2 F#2 B-4 B-5>,\n",
       " <music21.chord.Chord F#2 B-4>,\n",
       " <music21.note.Note B->,\n",
       " <music21.note.Note B->,\n",
       " <music21.chord.Chord B-2 G#5>,\n",
       " <music21.note.Note B->,\n",
       " <music21.note.Note B->,\n",
       " <music21.note.Rest rest>,\n",
       " <music21.note.Rest rest>,\n",
       " <music21.chord.Chord F#2 B-4>,\n",
       " <music21.chord.Chord F#2 A4 B-4 G#5>,\n",
       " <music21.note.Note F#>,\n",
       " <music21.note.Note F#>,\n",
       " <music21.chord.Chord B-2 B-4>,\n",
       " <music21.chord.Chord A4 G#5>,\n",
       " <music21.note.Note B->,\n",
       " <music21.note.Rest rest>,\n",
       " <music21.note.Rest rest>,\n",
       " <music21.note.Note F>,\n",
       " <music21.note.Rest rest>,\n",
       " <music21.chord.Chord E-2 F#2 B-4 B-5>,\n",
       " <music21.chord.Chord F#2 B-4>,\n",
       " <music21.note.Note F#>,\n",
       " <music21.note.Note F#>,\n",
       " <music21.chord.Chord B-2 G#5>,\n",
       " <music21.note.Note B->,\n",
       " <music21.note.Note B->,\n",
       " <music21.note.Rest rest>,\n",
       " <music21.note.Rest rest>,\n",
       " <music21.chord.Chord F#2 G#5>,\n",
       " <music21.note.Note B->,\n",
       " <music21.chord.Chord F#2 A4 G#5>,\n",
       " <music21.note.Note B->,\n",
       " <music21.note.Note F#>,\n",
       " <music21.note.Note F#>,\n",
       " <music21.chord.Chord B-2 B-4>,\n",
       " <music21.chord.Chord A4 G#5>,\n",
       " <music21.note.Note B->,\n",
       " <music21.note.Rest rest>,\n",
       " <music21.note.Rest rest>,\n",
       " <music21.chord.Chord E-2 F#2 B-4 B-5>,\n",
       " <music21.chord.Chord F#2 B-4>,\n",
       " <music21.note.Note F#>,\n",
       " ...]"
      ]
     },
     "execution_count": 54,
     "metadata": {},
     "output_type": "execute_result"
    }
   ],
   "source": [
    "list(old_song.flat)"
   ]
  },
  {
   "cell_type": "code",
   "execution_count": 50,
   "metadata": {},
   "outputs": [
    {
     "ename": "LilyTranslateException",
     "evalue": "DurationException for durationObject <music21.duration.Duration 68.5>: Could not determine durationNumber from inexpressible",
     "output_type": "error",
     "traceback": [
      "\u001b[0;31m---------------------------------------------------------------------------\u001b[0m",
      "\u001b[0;31mDurationException\u001b[0m                         Traceback (most recent call last)",
      "\u001b[0;32m~/anaconda3/envs/midi/lib/python3.7/site-packages/music21/lily/translate.py\u001b[0m in \u001b[0;36mlyMultipliedDurationFromDuration\u001b[0;34m(self, durationObj)\u001b[0m\n\u001b[1;32m   1554\u001b[0m         \u001b[0;32mtry\u001b[0m\u001b[0;34m:\u001b[0m\u001b[0;34m\u001b[0m\u001b[0;34m\u001b[0m\u001b[0m\n\u001b[0;32m-> 1555\u001b[0;31m             \u001b[0mnumber_type\u001b[0m \u001b[0;34m=\u001b[0m \u001b[0mduration\u001b[0m\u001b[0;34m.\u001b[0m\u001b[0mconvertTypeToNumber\u001b[0m\u001b[0;34m(\u001b[0m\u001b[0mdurationObj\u001b[0m\u001b[0;34m.\u001b[0m\u001b[0mtype\u001b[0m\u001b[0;34m)\u001b[0m \u001b[0;31m# module call\u001b[0m\u001b[0;34m\u001b[0m\u001b[0;34m\u001b[0m\u001b[0m\n\u001b[0m\u001b[1;32m   1556\u001b[0m         \u001b[0;32mexcept\u001b[0m \u001b[0mduration\u001b[0m\u001b[0;34m.\u001b[0m\u001b[0mDurationException\u001b[0m \u001b[0;32mas\u001b[0m \u001b[0mde\u001b[0m\u001b[0;34m:\u001b[0m\u001b[0;34m\u001b[0m\u001b[0;34m\u001b[0m\u001b[0m\n",
      "\u001b[0;32m~/anaconda3/envs/midi/lib/python3.7/site-packages/music21/duration.py\u001b[0m in \u001b[0;36mconvertTypeToNumber\u001b[0;34m(dType)\u001b[0m\n\u001b[1;32m    776\u001b[0m         raise DurationException('Could not determine durationNumber from %s'\n\u001b[0;32m--> 777\u001b[0;31m                                 % dType)\n\u001b[0m\u001b[1;32m    778\u001b[0m     \u001b[0;32melse\u001b[0m\u001b[0;34m:\u001b[0m\u001b[0;34m\u001b[0m\u001b[0;34m\u001b[0m\u001b[0m\n",
      "\u001b[0;31mDurationException\u001b[0m: Could not determine durationNumber from inexpressible",
      "\nDuring handling of the above exception, another exception occurred:\n",
      "\u001b[0;31mLilyTranslateException\u001b[0m                    Traceback (most recent call last)",
      "\u001b[0;32m<ipython-input-50-990fe70ddfbf>\u001b[0m in \u001b[0;36m<module>\u001b[0;34m\u001b[0m\n\u001b[0;32m----> 1\u001b[0;31m \u001b[0mImage\u001b[0m\u001b[0;34m(\u001b[0m\u001b[0mfilename\u001b[0m\u001b[0;34m=\u001b[0m\u001b[0mstr\u001b[0m\u001b[0;34m(\u001b[0m\u001b[0mold_song\u001b[0m\u001b[0;34m.\u001b[0m\u001b[0mwrite\u001b[0m\u001b[0;34m(\u001b[0m\u001b[0;34m'lily.png'\u001b[0m\u001b[0;34m)\u001b[0m\u001b[0;34m)\u001b[0m\u001b[0;34m)\u001b[0m\u001b[0;34m\u001b[0m\u001b[0;34m\u001b[0m\u001b[0m\n\u001b[0m",
      "\u001b[0;32m~/anaconda3/envs/midi/lib/python3.7/site-packages/music21/stream/__init__.py\u001b[0m in \u001b[0;36mwrite\u001b[0;34m(self, *args, **kwargs)\u001b[0m\n\u001b[1;32m    249\u001b[0m         \u001b[0;32mif\u001b[0m \u001b[0mself\u001b[0m\u001b[0;34m.\u001b[0m\u001b[0misSorted\u001b[0m \u001b[0;32mis\u001b[0m \u001b[0;32mFalse\u001b[0m \u001b[0;32mand\u001b[0m \u001b[0mself\u001b[0m\u001b[0;34m.\u001b[0m\u001b[0mautoSort\u001b[0m\u001b[0;34m:\u001b[0m\u001b[0;34m\u001b[0m\u001b[0;34m\u001b[0m\u001b[0m\n\u001b[1;32m    250\u001b[0m             \u001b[0mself\u001b[0m\u001b[0;34m.\u001b[0m\u001b[0msort\u001b[0m\u001b[0;34m(\u001b[0m\u001b[0;34m)\u001b[0m\u001b[0;34m\u001b[0m\u001b[0;34m\u001b[0m\u001b[0m\n\u001b[0;32m--> 251\u001b[0;31m         \u001b[0;32mreturn\u001b[0m \u001b[0msuper\u001b[0m\u001b[0;34m(\u001b[0m\u001b[0;34m)\u001b[0m\u001b[0;34m.\u001b[0m\u001b[0mwrite\u001b[0m\u001b[0;34m(\u001b[0m\u001b[0;34m*\u001b[0m\u001b[0margs\u001b[0m\u001b[0;34m,\u001b[0m \u001b[0;34m**\u001b[0m\u001b[0mkwargs\u001b[0m\u001b[0;34m)\u001b[0m\u001b[0;34m\u001b[0m\u001b[0;34m\u001b[0m\u001b[0m\n\u001b[0m\u001b[1;32m    252\u001b[0m \u001b[0;34m\u001b[0m\u001b[0m\n\u001b[1;32m    253\u001b[0m \u001b[0;34m\u001b[0m\u001b[0m\n",
      "\u001b[0;32m~/anaconda3/envs/midi/lib/python3.7/site-packages/music21/base.py\u001b[0m in \u001b[0;36mwrite\u001b[0;34m(self, fmt, fp, **keywords)\u001b[0m\n\u001b[1;32m   2504\u001b[0m         \u001b[0mscClass\u001b[0m \u001b[0;34m=\u001b[0m \u001b[0mcommon\u001b[0m\u001b[0;34m.\u001b[0m\u001b[0mfindSubConverterForFormat\u001b[0m\u001b[0;34m(\u001b[0m\u001b[0mregularizedConverterFormat\u001b[0m\u001b[0;34m)\u001b[0m\u001b[0;34m\u001b[0m\u001b[0;34m\u001b[0m\u001b[0m\n\u001b[1;32m   2505\u001b[0m         \u001b[0mformatWriter\u001b[0m \u001b[0;34m=\u001b[0m \u001b[0mscClass\u001b[0m\u001b[0;34m(\u001b[0m\u001b[0;34m)\u001b[0m\u001b[0;34m\u001b[0m\u001b[0;34m\u001b[0m\u001b[0m\n\u001b[0;32m-> 2506\u001b[0;31m         \u001b[0;32mreturn\u001b[0m \u001b[0mformatWriter\u001b[0m\u001b[0;34m.\u001b[0m\u001b[0mwrite\u001b[0m\u001b[0;34m(\u001b[0m\u001b[0mself\u001b[0m\u001b[0;34m,\u001b[0m \u001b[0mregularizedConverterFormat\u001b[0m\u001b[0;34m,\u001b[0m \u001b[0mfp\u001b[0m\u001b[0;34m,\u001b[0m \u001b[0msubformats\u001b[0m\u001b[0;34m,\u001b[0m \u001b[0;34m**\u001b[0m\u001b[0mkeywords\u001b[0m\u001b[0;34m)\u001b[0m\u001b[0;34m\u001b[0m\u001b[0;34m\u001b[0m\u001b[0m\n\u001b[0m\u001b[1;32m   2507\u001b[0m \u001b[0;34m\u001b[0m\u001b[0m\n\u001b[1;32m   2508\u001b[0m \u001b[0;34m\u001b[0m\u001b[0m\n",
      "\u001b[0;32m~/anaconda3/envs/midi/lib/python3.7/site-packages/music21/converter/subConverters.py\u001b[0m in \u001b[0;36mwrite\u001b[0;34m(self, obj, fmt, fp, subformats, **keywords)\u001b[0m\n\u001b[1;32m    422\u001b[0m \u001b[0;34m\u001b[0m\u001b[0m\n\u001b[1;32m    423\u001b[0m         \u001b[0;32melif\u001b[0m \u001b[0msubformats\u001b[0m \u001b[0;32mis\u001b[0m \u001b[0;32mnot\u001b[0m \u001b[0;32mNone\u001b[0m \u001b[0;32mand\u001b[0m \u001b[0;34m'png'\u001b[0m \u001b[0;32min\u001b[0m \u001b[0msubformats\u001b[0m\u001b[0;34m:\u001b[0m\u001b[0;34m\u001b[0m\u001b[0;34m\u001b[0m\u001b[0m\n\u001b[0;32m--> 424\u001b[0;31m             \u001b[0mconv\u001b[0m\u001b[0;34m.\u001b[0m\u001b[0mloadFromMusic21Object\u001b[0m\u001b[0;34m(\u001b[0m\u001b[0mobj\u001b[0m\u001b[0;34m)\u001b[0m\u001b[0;34m\u001b[0m\u001b[0;34m\u001b[0m\u001b[0m\n\u001b[0m\u001b[1;32m    425\u001b[0m             \u001b[0mconvertedFilePath\u001b[0m \u001b[0;34m=\u001b[0m \u001b[0mconv\u001b[0m\u001b[0;34m.\u001b[0m\u001b[0mcreatePNG\u001b[0m\u001b[0;34m(\u001b[0m\u001b[0mfp\u001b[0m\u001b[0;34m)\u001b[0m\u001b[0;34m\u001b[0m\u001b[0;34m\u001b[0m\u001b[0m\n\u001b[1;32m    426\u001b[0m             \u001b[0;32mif\u001b[0m \u001b[0;34m'ipython'\u001b[0m \u001b[0;32min\u001b[0m \u001b[0msubformats\u001b[0m\u001b[0;34m:\u001b[0m\u001b[0;34m\u001b[0m\u001b[0;34m\u001b[0m\u001b[0m\n",
      "\u001b[0;32m~/anaconda3/envs/midi/lib/python3.7/site-packages/music21/lily/translate.py\u001b[0m in \u001b[0;36mloadFromMusic21Object\u001b[0;34m(self, m21ObjectIn)\u001b[0m\n\u001b[1;32m    291\u001b[0m             \u001b[0mself\u001b[0m\u001b[0;34m.\u001b[0m\u001b[0mloadObjectFromScore\u001b[0m\u001b[0;34m(\u001b[0m\u001b[0mscoreObj\u001b[0m\u001b[0;34m,\u001b[0m \u001b[0mmakeNotation\u001b[0m\u001b[0;34m=\u001b[0m\u001b[0;32mFalse\u001b[0m\u001b[0;34m)\u001b[0m\u001b[0;34m\u001b[0m\u001b[0;34m\u001b[0m\u001b[0m\n\u001b[1;32m    292\u001b[0m         \u001b[0;32melif\u001b[0m \u001b[0;34m'Score'\u001b[0m \u001b[0;32min\u001b[0m \u001b[0mc\u001b[0m\u001b[0;34m:\u001b[0m\u001b[0;34m\u001b[0m\u001b[0;34m\u001b[0m\u001b[0m\n\u001b[0;32m--> 293\u001b[0;31m             \u001b[0mself\u001b[0m\u001b[0;34m.\u001b[0m\u001b[0mloadObjectFromScore\u001b[0m\u001b[0;34m(\u001b[0m\u001b[0mm21ObjectIn\u001b[0m\u001b[0;34m,\u001b[0m \u001b[0mmakeNotation\u001b[0m\u001b[0;34m=\u001b[0m\u001b[0;32mFalse\u001b[0m\u001b[0;34m)\u001b[0m\u001b[0;34m\u001b[0m\u001b[0;34m\u001b[0m\u001b[0m\n\u001b[0m\u001b[1;32m    294\u001b[0m         \u001b[0;32melif\u001b[0m \u001b[0;34m'Opus'\u001b[0m \u001b[0;32min\u001b[0m \u001b[0mc\u001b[0m\u001b[0;34m:\u001b[0m\u001b[0;34m\u001b[0m\u001b[0;34m\u001b[0m\u001b[0m\n\u001b[1;32m    295\u001b[0m             \u001b[0mself\u001b[0m\u001b[0;34m.\u001b[0m\u001b[0mloadObjectFromOpus\u001b[0m\u001b[0;34m(\u001b[0m\u001b[0mm21ObjectIn\u001b[0m\u001b[0;34m,\u001b[0m \u001b[0mmakeNotation\u001b[0m\u001b[0;34m=\u001b[0m\u001b[0;32mFalse\u001b[0m\u001b[0;34m)\u001b[0m\u001b[0;34m\u001b[0m\u001b[0;34m\u001b[0m\u001b[0m\n",
      "\u001b[0;32m~/anaconda3/envs/midi/lib/python3.7/site-packages/music21/lily/translate.py\u001b[0m in \u001b[0;36mloadObjectFromScore\u001b[0;34m(self, scoreIn, makeNotation)\u001b[0m\n\u001b[1;32m    367\u001b[0m \u001b[0;34m\u001b[0m\u001b[0m\n\u001b[1;32m    368\u001b[0m         \u001b[0;31m# here's the heavy work...\u001b[0m\u001b[0;34m\u001b[0m\u001b[0;34m\u001b[0m\u001b[0;34m\u001b[0m\u001b[0m\n\u001b[0;32m--> 369\u001b[0;31m         \u001b[0mlpScoreBlock\u001b[0m \u001b[0;34m=\u001b[0m \u001b[0mself\u001b[0m\u001b[0;34m.\u001b[0m\u001b[0mlyScoreBlockFromScore\u001b[0m\u001b[0;34m(\u001b[0m\u001b[0mscoreIn\u001b[0m\u001b[0;34m)\u001b[0m\u001b[0;34m\u001b[0m\u001b[0;34m\u001b[0m\u001b[0m\n\u001b[0m\u001b[1;32m    370\u001b[0m \u001b[0;34m\u001b[0m\u001b[0m\n\u001b[1;32m    371\u001b[0m         \u001b[0mlpOutputDefHead\u001b[0m \u001b[0;34m=\u001b[0m \u001b[0mlyo\u001b[0m\u001b[0;34m.\u001b[0m\u001b[0mLyOutputDefHead\u001b[0m\u001b[0;34m(\u001b[0m\u001b[0mdefType\u001b[0m\u001b[0;34m=\u001b[0m\u001b[0;34m'paper'\u001b[0m\u001b[0;34m)\u001b[0m\u001b[0;34m\u001b[0m\u001b[0;34m\u001b[0m\u001b[0m\n",
      "\u001b[0;32m~/anaconda3/envs/midi/lib/python3.7/site-packages/music21/lily/translate.py\u001b[0m in \u001b[0;36mlyScoreBlockFromScore\u001b[0;34m(self, scoreIn)\u001b[0m\n\u001b[1;32m    397\u001b[0m                                                        scoreInit=lpPartsAndOssiaInit)\n\u001b[1;32m    398\u001b[0m             \u001b[0;32melse\u001b[0m\u001b[0;34m:\u001b[0m\u001b[0;34m\u001b[0m\u001b[0;34m\u001b[0m\u001b[0m\n\u001b[0;32m--> 399\u001b[0;31m                 \u001b[0mlpGroupedMusicList\u001b[0m \u001b[0;34m=\u001b[0m \u001b[0mself\u001b[0m\u001b[0;34m.\u001b[0m\u001b[0mlyGroupedMusicListFromScoreWithParts\u001b[0m\u001b[0;34m(\u001b[0m\u001b[0mscoreIn\u001b[0m\u001b[0;34m)\u001b[0m\u001b[0;34m\u001b[0m\u001b[0;34m\u001b[0m\u001b[0m\n\u001b[0m\u001b[1;32m    400\u001b[0m             \u001b[0mlpCompositeMusic\u001b[0m\u001b[0;34m.\u001b[0m\u001b[0mgroupedMusicList\u001b[0m \u001b[0;34m=\u001b[0m \u001b[0mlpGroupedMusicList\u001b[0m\u001b[0;34m\u001b[0m\u001b[0;34m\u001b[0m\u001b[0m\n\u001b[1;32m    401\u001b[0m         \u001b[0;32melse\u001b[0m\u001b[0;34m:\u001b[0m\u001b[0;34m\u001b[0m\u001b[0;34m\u001b[0m\u001b[0m\n",
      "\u001b[0;32m~/anaconda3/envs/midi/lib/python3.7/site-packages/music21/lily/translate.py\u001b[0m in \u001b[0;36mlyGroupedMusicListFromScoreWithParts\u001b[0;34m(self, scoreIn, scoreInit)\u001b[0m\n\u001b[1;32m    678\u001b[0m         \u001b[0;32mif\u001b[0m \u001b[0mscoreInit\u001b[0m \u001b[0;32mis\u001b[0m \u001b[0;32mNone\u001b[0m\u001b[0;34m:\u001b[0m\u001b[0;34m\u001b[0m\u001b[0;34m\u001b[0m\u001b[0m\n\u001b[1;32m    679\u001b[0m             \u001b[0;32mfor\u001b[0m \u001b[0mp\u001b[0m \u001b[0;32min\u001b[0m \u001b[0mscoreIn\u001b[0m\u001b[0;34m.\u001b[0m\u001b[0mparts\u001b[0m\u001b[0;34m:\u001b[0m\u001b[0;34m\u001b[0m\u001b[0;34m\u001b[0m\u001b[0m\n\u001b[0;32m--> 680\u001b[0;31m                 \u001b[0mcompositeMusicList\u001b[0m\u001b[0;34m.\u001b[0m\u001b[0mappend\u001b[0m\u001b[0;34m(\u001b[0m\u001b[0mself\u001b[0m\u001b[0;34m.\u001b[0m\u001b[0mlyPrefixCompositeMusicFromStream\u001b[0m\u001b[0;34m(\u001b[0m\u001b[0mp\u001b[0m\u001b[0;34m)\u001b[0m\u001b[0;34m)\u001b[0m\u001b[0;34m\u001b[0m\u001b[0;34m\u001b[0m\u001b[0m\n\u001b[0m\u001b[1;32m    681\u001b[0m         \u001b[0;32melse\u001b[0m\u001b[0;34m:\u001b[0m\u001b[0;34m\u001b[0m\u001b[0;34m\u001b[0m\u001b[0m\n\u001b[1;32m    682\u001b[0m             \u001b[0mcompositeMusicList\u001b[0m\u001b[0;34m.\u001b[0m\u001b[0mappend\u001b[0m\u001b[0;34m(\u001b[0m\u001b[0mscoreInit\u001b[0m\u001b[0;34m)\u001b[0m\u001b[0;34m\u001b[0m\u001b[0;34m\u001b[0m\u001b[0m\n",
      "\u001b[0;32m~/anaconda3/envs/midi/lib/python3.7/site-packages/music21/lily/translate.py\u001b[0m in \u001b[0;36mlyPrefixCompositeMusicFromStream\u001b[0;34m(self, streamIn, contextType, type, beforeMatter)\u001b[0m\n\u001b[1;32m    897\u001b[0m         \u001b[0mlpNewLyrics\u001b[0m \u001b[0;34m=\u001b[0m \u001b[0mself\u001b[0m\u001b[0;34m.\u001b[0m\u001b[0mlyNewLyricsFromStream\u001b[0m\u001b[0;34m(\u001b[0m\u001b[0mstreamIn\u001b[0m\u001b[0;34m,\u001b[0m \u001b[0mstreamId\u001b[0m\u001b[0;34m=\u001b[0m\u001b[0mmakeLettersOnlyId\u001b[0m\u001b[0;34m(\u001b[0m\u001b[0mstreamIn\u001b[0m\u001b[0;34m.\u001b[0m\u001b[0mid\u001b[0m\u001b[0;34m)\u001b[0m\u001b[0;34m)\u001b[0m\u001b[0;34m\u001b[0m\u001b[0;34m\u001b[0m\u001b[0m\n\u001b[1;32m    898\u001b[0m \u001b[0;34m\u001b[0m\u001b[0m\n\u001b[0;32m--> 899\u001b[0;31m         \u001b[0mlpSequentialMusic\u001b[0m \u001b[0;34m=\u001b[0m \u001b[0mself\u001b[0m\u001b[0;34m.\u001b[0m\u001b[0mlySequentialMusicFromStream\u001b[0m\u001b[0;34m(\u001b[0m\u001b[0mstreamIn\u001b[0m\u001b[0;34m,\u001b[0m \u001b[0mbeforeMatter\u001b[0m\u001b[0;34m=\u001b[0m\u001b[0mbeforeMatter\u001b[0m\u001b[0;34m)\u001b[0m\u001b[0;34m\u001b[0m\u001b[0;34m\u001b[0m\u001b[0m\n\u001b[0m\u001b[1;32m    900\u001b[0m         \u001b[0mlpGroupedMusicList\u001b[0m \u001b[0;34m=\u001b[0m \u001b[0mlyo\u001b[0m\u001b[0;34m.\u001b[0m\u001b[0mLyGroupedMusicList\u001b[0m\u001b[0;34m(\u001b[0m\u001b[0msequentialMusic\u001b[0m\u001b[0;34m=\u001b[0m\u001b[0mlpSequentialMusic\u001b[0m\u001b[0;34m)\u001b[0m\u001b[0;34m\u001b[0m\u001b[0;34m\u001b[0m\u001b[0m\n\u001b[1;32m    901\u001b[0m         lpCompositeMusic = lyo.LyCompositeMusic(groupedMusicList=lpGroupedMusicList,\n",
      "\u001b[0;32m~/anaconda3/envs/midi/lib/python3.7/site-packages/music21/lily/translate.py\u001b[0m in \u001b[0;36mlySequentialMusicFromStream\u001b[0;34m(self, streamIn, beforeMatter)\u001b[0m\n\u001b[1;32m    826\u001b[0m                                                   beforeMatter=beforeMatter)\n\u001b[1;32m    827\u001b[0m         \u001b[0mself\u001b[0m\u001b[0;34m.\u001b[0m\u001b[0mnewContext\u001b[0m\u001b[0;34m(\u001b[0m\u001b[0mlpMusicList\u001b[0m\u001b[0;34m)\u001b[0m\u001b[0;34m\u001b[0m\u001b[0;34m\u001b[0m\u001b[0m\n\u001b[0;32m--> 828\u001b[0;31m         \u001b[0mself\u001b[0m\u001b[0;34m.\u001b[0m\u001b[0mappendObjectsToContextFromStream\u001b[0m\u001b[0;34m(\u001b[0m\u001b[0mstreamIn\u001b[0m\u001b[0;34m)\u001b[0m\u001b[0;34m\u001b[0m\u001b[0;34m\u001b[0m\u001b[0m\n\u001b[0m\u001b[1;32m    829\u001b[0m \u001b[0;34m\u001b[0m\u001b[0m\n\u001b[1;32m    830\u001b[0m         \u001b[0mlyObject\u001b[0m \u001b[0;34m=\u001b[0m \u001b[0mself\u001b[0m\u001b[0;34m.\u001b[0m\u001b[0mcloseMeasure\u001b[0m\u001b[0;34m(\u001b[0m\u001b[0;34m)\u001b[0m\u001b[0;34m\u001b[0m\u001b[0;34m\u001b[0m\u001b[0m\n",
      "\u001b[0;32m~/anaconda3/envs/midi/lib/python3.7/site-packages/music21/lily/translate.py\u001b[0m in \u001b[0;36mappendObjectsToContextFromStream\u001b[0;34m(self, streamObject)\u001b[0m\n\u001b[1;32m   1018\u001b[0m                 \u001b[0;32mif\u001b[0m \u001b[0motherList\u001b[0m\u001b[0;34m:\u001b[0m\u001b[0;34m\u001b[0m\u001b[0;34m\u001b[0m\u001b[0m\n\u001b[1;32m   1019\u001b[0m                     \u001b[0;32mfor\u001b[0m \u001b[0mel\u001b[0m \u001b[0;32min\u001b[0m \u001b[0motherList\u001b[0m\u001b[0;34m:\u001b[0m\u001b[0;34m\u001b[0m\u001b[0;34m\u001b[0m\u001b[0m\n\u001b[0;32m-> 1020\u001b[0;31m                         \u001b[0mself\u001b[0m\u001b[0;34m.\u001b[0m\u001b[0mappendM21ObjectToContext\u001b[0m\u001b[0;34m(\u001b[0m\u001b[0mel\u001b[0m\u001b[0;34m)\u001b[0m\u001b[0;34m\u001b[0m\u001b[0;34m\u001b[0m\u001b[0m\n\u001b[0m\u001b[1;32m   1021\u001b[0m \u001b[0;34m\u001b[0m\u001b[0m\n\u001b[1;32m   1022\u001b[0m \u001b[0;34m\u001b[0m\u001b[0m\n",
      "\u001b[0;32m~/anaconda3/envs/midi/lib/python3.7/site-packages/music21/lily/translate.py\u001b[0m in \u001b[0;36mappendM21ObjectToContext\u001b[0;34m(self, thisObject)\u001b[0m\n\u001b[1;32m   1078\u001b[0m             \u001b[0;31m#    raise Exception(\"Cannot parse %s: %s\" % (thisObject, str(ae)))\u001b[0m\u001b[0;34m\u001b[0m\u001b[0;34m\u001b[0m\u001b[0;34m\u001b[0m\u001b[0m\n\u001b[1;32m   1079\u001b[0m         \u001b[0;32melif\u001b[0m \u001b[0;34m\"Note\"\u001b[0m \u001b[0;32min\u001b[0m \u001b[0mc\u001b[0m \u001b[0;32mor\u001b[0m \u001b[0;34m\"Rest\"\u001b[0m \u001b[0;32min\u001b[0m \u001b[0mc\u001b[0m\u001b[0;34m:\u001b[0m\u001b[0;34m\u001b[0m\u001b[0;34m\u001b[0m\u001b[0m\n\u001b[0;32m-> 1080\u001b[0;31m             \u001b[0mself\u001b[0m\u001b[0;34m.\u001b[0m\u001b[0mappendContextFromNoteOrRest\u001b[0m\u001b[0;34m(\u001b[0m\u001b[0mthisObject\u001b[0m\u001b[0;34m)\u001b[0m\u001b[0;34m\u001b[0m\u001b[0;34m\u001b[0m\u001b[0m\n\u001b[0m\u001b[1;32m   1081\u001b[0m         \u001b[0;32melif\u001b[0m \u001b[0;34m\"Chord\"\u001b[0m \u001b[0;32min\u001b[0m \u001b[0mc\u001b[0m\u001b[0;34m:\u001b[0m\u001b[0;34m\u001b[0m\u001b[0;34m\u001b[0m\u001b[0m\n\u001b[1;32m   1082\u001b[0m             \u001b[0mself\u001b[0m\u001b[0;34m.\u001b[0m\u001b[0mappendContextFromChord\u001b[0m\u001b[0;34m(\u001b[0m\u001b[0mthisObject\u001b[0m\u001b[0;34m)\u001b[0m\u001b[0;34m\u001b[0m\u001b[0;34m\u001b[0m\u001b[0m\n",
      "\u001b[0;32m~/anaconda3/envs/midi/lib/python3.7/site-packages/music21/lily/translate.py\u001b[0m in \u001b[0;36mappendContextFromNoteOrRest\u001b[0;34m(self, noteOrRest)\u001b[0m\n\u001b[1;32m   1170\u001b[0m         \u001b[0mself\u001b[0m\u001b[0;34m.\u001b[0m\u001b[0mappendStemCode\u001b[0m\u001b[0;34m(\u001b[0m\u001b[0mnoteOrRest\u001b[0m\u001b[0;34m)\u001b[0m\u001b[0;34m\u001b[0m\u001b[0;34m\u001b[0m\u001b[0m\n\u001b[1;32m   1171\u001b[0m \u001b[0;34m\u001b[0m\u001b[0m\n\u001b[0;32m-> 1172\u001b[0;31m         \u001b[0mlpSimpleMusic\u001b[0m \u001b[0;34m=\u001b[0m \u001b[0mself\u001b[0m\u001b[0;34m.\u001b[0m\u001b[0mlySimpleMusicFromNoteOrRest\u001b[0m\u001b[0;34m(\u001b[0m\u001b[0mnoteOrRest\u001b[0m\u001b[0;34m)\u001b[0m\u001b[0;34m\u001b[0m\u001b[0;34m\u001b[0m\u001b[0m\n\u001b[0m\u001b[1;32m   1173\u001b[0m         \u001b[0mself\u001b[0m\u001b[0;34m.\u001b[0m\u001b[0mcontext\u001b[0m\u001b[0;34m.\u001b[0m\u001b[0mcontents\u001b[0m\u001b[0;34m.\u001b[0m\u001b[0mappend\u001b[0m\u001b[0;34m(\u001b[0m\u001b[0mlpSimpleMusic\u001b[0m\u001b[0;34m)\u001b[0m\u001b[0;34m\u001b[0m\u001b[0;34m\u001b[0m\u001b[0m\n\u001b[1;32m   1174\u001b[0m         \u001b[0mlpSimpleMusic\u001b[0m\u001b[0;34m.\u001b[0m\u001b[0msetParent\u001b[0m\u001b[0;34m(\u001b[0m\u001b[0mself\u001b[0m\u001b[0;34m.\u001b[0m\u001b[0mcontext\u001b[0m\u001b[0;34m)\u001b[0m\u001b[0;34m\u001b[0m\u001b[0;34m\u001b[0m\u001b[0m\n",
      "\u001b[0;32m~/anaconda3/envs/midi/lib/python3.7/site-packages/music21/lily/translate.py\u001b[0m in \u001b[0;36mlySimpleMusicFromNoteOrRest\u001b[0;34m(self, noteOrRest)\u001b[0m\n\u001b[1;32m   1292\u001b[0m                 \u001b[0msimpleElementParts\u001b[0m\u001b[0;34m.\u001b[0m\u001b[0mappend\u001b[0m\u001b[0;34m(\u001b[0m\u001b[0;34m\"r \"\u001b[0m\u001b[0;34m)\u001b[0m\u001b[0;34m\u001b[0m\u001b[0;34m\u001b[0m\u001b[0m\n\u001b[1;32m   1293\u001b[0m \u001b[0;34m\u001b[0m\u001b[0m\n\u001b[0;32m-> 1294\u001b[0;31m         \u001b[0mlpMultipliedDuration\u001b[0m \u001b[0;34m=\u001b[0m \u001b[0mself\u001b[0m\u001b[0;34m.\u001b[0m\u001b[0mlyMultipliedDurationFromDuration\u001b[0m\u001b[0;34m(\u001b[0m\u001b[0mnoteOrRest\u001b[0m\u001b[0;34m.\u001b[0m\u001b[0mduration\u001b[0m\u001b[0;34m)\u001b[0m\u001b[0;34m\u001b[0m\u001b[0;34m\u001b[0m\u001b[0m\n\u001b[0m\u001b[1;32m   1295\u001b[0m         \u001b[0msimpleElementParts\u001b[0m\u001b[0;34m.\u001b[0m\u001b[0mappend\u001b[0m\u001b[0;34m(\u001b[0m\u001b[0mlpMultipliedDuration\u001b[0m\u001b[0;34m)\u001b[0m\u001b[0;34m\u001b[0m\u001b[0;34m\u001b[0m\u001b[0m\n\u001b[1;32m   1296\u001b[0m \u001b[0;34m\u001b[0m\u001b[0m\n",
      "\u001b[0;32m~/anaconda3/envs/midi/lib/python3.7/site-packages/music21/lily/translate.py\u001b[0m in \u001b[0;36mlyMultipliedDurationFromDuration\u001b[0;34m(self, durationObj)\u001b[0m\n\u001b[1;32m   1556\u001b[0m         \u001b[0;32mexcept\u001b[0m \u001b[0mduration\u001b[0m\u001b[0;34m.\u001b[0m\u001b[0mDurationException\u001b[0m \u001b[0;32mas\u001b[0m \u001b[0mde\u001b[0m\u001b[0;34m:\u001b[0m\u001b[0;34m\u001b[0m\u001b[0;34m\u001b[0m\u001b[0m\n\u001b[1;32m   1557\u001b[0m             raise LilyTranslateException(\n\u001b[0;32m-> 1558\u001b[0;31m                 \"DurationException for durationObject %s: %s\" % (durationObj, de))\n\u001b[0m\u001b[1;32m   1559\u001b[0m \u001b[0;34m\u001b[0m\u001b[0m\n\u001b[1;32m   1560\u001b[0m         \u001b[0;32mif\u001b[0m \u001b[0mnumber_type\u001b[0m \u001b[0;34m==\u001b[0m \u001b[0;36m0\u001b[0m\u001b[0;34m:\u001b[0m\u001b[0;34m\u001b[0m\u001b[0;34m\u001b[0m\u001b[0m\n",
      "\u001b[0;31mLilyTranslateException\u001b[0m: DurationException for durationObject <music21.duration.Duration 68.5>: Could not determine durationNumber from inexpressible"
     ]
    }
   ],
   "source": [
    "Image(filename=str(old_song.write('lily.png')))"
   ]
  },
  {
   "cell_type": "code",
   "execution_count": 44,
   "metadata": {},
   "outputs": [
    {
     "ename": "AttributeError",
     "evalue": "'tuple' object has no attribute 'show'",
     "output_type": "error",
     "traceback": [
      "\u001b[0;31m---------------------------------------------------------------------------\u001b[0m",
      "\u001b[0;31mAttributeError\u001b[0m                            Traceback (most recent call last)",
      "\u001b[0;32m<ipython-input-44-14659527cf95>\u001b[0m in \u001b[0;36m<module>\u001b[0;34m\u001b[0m\n\u001b[0;32m----> 1\u001b[0;31m \u001b[0mnew_song\u001b[0m\u001b[0;34m.\u001b[0m\u001b[0mshow\u001b[0m\u001b[0;34m(\u001b[0m\u001b[0;34m'midi'\u001b[0m\u001b[0;34m)\u001b[0m\u001b[0;34m\u001b[0m\u001b[0;34m\u001b[0m\u001b[0m\n\u001b[0m",
      "\u001b[0;31mAttributeError\u001b[0m: 'tuple' object has no attribute 'show'"
     ]
    }
   ],
   "source": [
    "new_song.show('midi')"
   ]
  },
  {
   "cell_type": "code",
   "execution_count": 36,
   "metadata": {},
   "outputs": [
    {
     "name": "stderr",
     "output_type": "stream",
     "text": [
      "\n",
      "  0%|          | 0/1122 [00:00<?, ?it/s]\u001b[A\n",
      "  0%|          | 1/1122 [00:09<3:03:44,  9.83s/it]\u001b[A\n",
      "  0%|          | 2/1122 [00:39<4:55:12, 15.81s/it]\u001b[A\n",
      "  0%|          | 3/1122 [00:45<3:57:41, 12.74s/it]\u001b[A\n",
      "  0%|          | 4/1122 [00:57<3:55:59, 12.67s/it]\u001b[A"
     ]
    },
    {
     "name": "stdout",
     "output_type": "stream",
     "text": [
      "Exeption: ../data/midi/freemidi_scrape/genre-dance-eletric/Tune Up - Bounce.mid 'NoneType' object has no attribute 'ratioString'\n"
     ]
    },
    {
     "ename": "UnboundLocalError",
     "evalue": "local variable 'attr' referenced before assignment",
     "output_type": "error",
     "traceback": [
      "\u001b[0;31m---------------------------------------------------------------------------\u001b[0m",
      "\u001b[0;31mUnboundLocalError\u001b[0m                         Traceback (most recent call last)",
      "\u001b[0;32m<ipython-input-36-a24f8ae01270>\u001b[0m in \u001b[0;36m<module>\u001b[0;34m\u001b[0m\n\u001b[0;32m----> 1\u001b[0;31m \u001b[0mfreemidi_dance_list\u001b[0m\u001b[0;34m,\u001b[0m \u001b[0mfreemidi_dance_path\u001b[0m \u001b[0;34m=\u001b[0m \u001b[0mparse_freemidi_genre\u001b[0m\u001b[0;34m(\u001b[0m\u001b[0mfreemidi_path\u001b[0m\u001b[0;34m/\u001b[0m\u001b[0;34m'genre-dance-eletric'\u001b[0m\u001b[0;34m,\u001b[0m \u001b[0;34m'dance'\u001b[0m\u001b[0;34m)\u001b[0m\u001b[0;34m\u001b[0m\u001b[0;34m\u001b[0m\u001b[0m\n\u001b[0m",
      "\u001b[0;32m<ipython-input-35-250a1809b210>\u001b[0m in \u001b[0;36mparse_freemidi_genre\u001b[0;34m(genre_path, genre)\u001b[0m\n\u001b[1;32m      1\u001b[0m \u001b[0;32mdef\u001b[0m \u001b[0mparse_freemidi_genre\u001b[0m\u001b[0;34m(\u001b[0m\u001b[0mgenre_path\u001b[0m\u001b[0;34m,\u001b[0m \u001b[0mgenre\u001b[0m\u001b[0;34m)\u001b[0m\u001b[0;34m:\u001b[0m\u001b[0;34m\u001b[0m\u001b[0;34m\u001b[0m\u001b[0m\n\u001b[1;32m      2\u001b[0m     \u001b[0mfile_list\u001b[0m \u001b[0;34m=\u001b[0m \u001b[0mgenre_path\u001b[0m\u001b[0;34m.\u001b[0m\u001b[0mls\u001b[0m\u001b[0;34m(\u001b[0m\u001b[0;34m)\u001b[0m\u001b[0;34m\u001b[0m\u001b[0;34m\u001b[0m\u001b[0m\n\u001b[0;32m----> 3\u001b[0;31m     \u001b[0mparsed_songs\u001b[0m \u001b[0;34m=\u001b[0m \u001b[0;34m[\u001b[0m\u001b[0mparse_freemidi_songs\u001b[0m\u001b[0;34m(\u001b[0m\u001b[0mfp\u001b[0m\u001b[0;34m,\u001b[0m \u001b[0mgenre\u001b[0m\u001b[0;34m)\u001b[0m \u001b[0;32mfor\u001b[0m \u001b[0mfp\u001b[0m \u001b[0;32min\u001b[0m \u001b[0mtqdm\u001b[0m\u001b[0;34m(\u001b[0m\u001b[0mfile_list\u001b[0m\u001b[0;34m,\u001b[0m \u001b[0mtotal\u001b[0m\u001b[0;34m=\u001b[0m\u001b[0mlen\u001b[0m\u001b[0;34m(\u001b[0m\u001b[0mfile_list\u001b[0m\u001b[0;34m)\u001b[0m\u001b[0;34m)\u001b[0m\u001b[0;34m]\u001b[0m\u001b[0;34m\u001b[0m\u001b[0;34m\u001b[0m\u001b[0m\n\u001b[0m\u001b[1;32m      4\u001b[0m \u001b[0;34m\u001b[0m\u001b[0m\n\u001b[1;32m      5\u001b[0m     \u001b[0mmetadata_path\u001b[0m \u001b[0;34m=\u001b[0m \u001b[0;34mf'freemidi_{genre}_metadata.json'\u001b[0m\u001b[0;34m\u001b[0m\u001b[0;34m\u001b[0m\u001b[0m\n",
      "\u001b[0;32m<ipython-input-35-250a1809b210>\u001b[0m in \u001b[0;36m<listcomp>\u001b[0;34m(.0)\u001b[0m\n\u001b[1;32m      1\u001b[0m \u001b[0;32mdef\u001b[0m \u001b[0mparse_freemidi_genre\u001b[0m\u001b[0;34m(\u001b[0m\u001b[0mgenre_path\u001b[0m\u001b[0;34m,\u001b[0m \u001b[0mgenre\u001b[0m\u001b[0;34m)\u001b[0m\u001b[0;34m:\u001b[0m\u001b[0;34m\u001b[0m\u001b[0;34m\u001b[0m\u001b[0m\n\u001b[1;32m      2\u001b[0m     \u001b[0mfile_list\u001b[0m \u001b[0;34m=\u001b[0m \u001b[0mgenre_path\u001b[0m\u001b[0;34m.\u001b[0m\u001b[0mls\u001b[0m\u001b[0;34m(\u001b[0m\u001b[0;34m)\u001b[0m\u001b[0;34m\u001b[0m\u001b[0;34m\u001b[0m\u001b[0m\n\u001b[0;32m----> 3\u001b[0;31m     \u001b[0mparsed_songs\u001b[0m \u001b[0;34m=\u001b[0m \u001b[0;34m[\u001b[0m\u001b[0mparse_freemidi_songs\u001b[0m\u001b[0;34m(\u001b[0m\u001b[0mfp\u001b[0m\u001b[0;34m,\u001b[0m \u001b[0mgenre\u001b[0m\u001b[0;34m)\u001b[0m \u001b[0;32mfor\u001b[0m \u001b[0mfp\u001b[0m \u001b[0;32min\u001b[0m \u001b[0mtqdm\u001b[0m\u001b[0;34m(\u001b[0m\u001b[0mfile_list\u001b[0m\u001b[0;34m,\u001b[0m \u001b[0mtotal\u001b[0m\u001b[0;34m=\u001b[0m\u001b[0mlen\u001b[0m\u001b[0;34m(\u001b[0m\u001b[0mfile_list\u001b[0m\u001b[0;34m)\u001b[0m\u001b[0;34m)\u001b[0m\u001b[0;34m]\u001b[0m\u001b[0;34m\u001b[0m\u001b[0;34m\u001b[0m\u001b[0m\n\u001b[0m\u001b[1;32m      4\u001b[0m \u001b[0;34m\u001b[0m\u001b[0m\n\u001b[1;32m      5\u001b[0m     \u001b[0mmetadata_path\u001b[0m \u001b[0;34m=\u001b[0m \u001b[0;34mf'freemidi_{genre}_metadata.json'\u001b[0m\u001b[0;34m\u001b[0m\u001b[0;34m\u001b[0m\u001b[0m\n",
      "\u001b[0;32m<ipython-input-26-b2f43a6df873>\u001b[0m in \u001b[0;36mparse_freemidi_songs\u001b[0;34m(fp, genre)\u001b[0m\n\u001b[1;32m     14\u001b[0m         \u001b[0;34m'genre'\u001b[0m\u001b[0;34m:\u001b[0m \u001b[0mgenre\u001b[0m\u001b[0;34m\u001b[0m\u001b[0;34m\u001b[0m\u001b[0m\n\u001b[1;32m     15\u001b[0m     }\n\u001b[0;32m---> 16\u001b[0;31m     \u001b[0;32mreturn\u001b[0m \u001b[0;34m{\u001b[0m\u001b[0;34m**\u001b[0m\u001b[0mmetadata\u001b[0m\u001b[0;34m,\u001b[0m \u001b[0;34m**\u001b[0m\u001b[0mattr\u001b[0m\u001b[0;34m}\u001b[0m\u001b[0;34m\u001b[0m\u001b[0;34m\u001b[0m\u001b[0m\n\u001b[0m",
      "\u001b[0;31mUnboundLocalError\u001b[0m: local variable 'attr' referenced before assignment"
     ]
    }
   ],
   "source": [
    "freemidi_dance_list, freemidi_dance_path = parse_freemidi_genre(freemidi_path/'genre-dance-eletric', 'dance')"
   ]
  },
  {
   "cell_type": "code",
   "execution_count": null,
   "metadata": {},
   "outputs": [],
   "source": [
    "freemidi_dance_list, freemidi_dance_path = parse_freemidi_genre(freemidi_path/'genre-pop', 'pop')"
   ]
  },
  {
   "cell_type": "code",
   "execution_count": null,
   "metadata": {},
   "outputs": [],
   "source": [
    "freemidi_dance_list = json.load(open(metadata_path, 'r'))"
   ]
  },
  {
   "cell_type": "markdown",
   "metadata": {},
   "source": [
    "### Gather Cprato"
   ]
  },
  {
   "cell_type": "markdown",
   "metadata": {},
   "source": [
    "### Yamaha - piano"
   ]
  },
  {
   "cell_type": "code",
   "execution_count": null,
   "metadata": {},
   "outputs": [],
   "source": [
    "ecomp_path = Path('../data/midi/piano_e_competition')\n",
    "ecomp_scrape_path = Path('../data/midi/ecomp_midi')"
   ]
  },
  {
   "cell_type": "markdown",
   "metadata": {},
   "source": [
    "### Classic Piano"
   ]
  },
  {
   "cell_type": "code",
   "execution_count": null,
   "metadata": {},
   "outputs": [],
   "source": [
    "classic_scrape_path = Path('../data/midi/classic_piano_scrape')"
   ]
  },
  {
   "cell_type": "markdown",
   "metadata": {},
   "source": [
    "### Creating CSV"
   ]
  },
  {
   "cell_type": "code",
   "execution_count": null,
   "metadata": {},
   "outputs": [],
   "source": [
    "import csv\n",
    "toCSV = [{'name':'bob','age':25,'weight':200},\n",
    "         {'name':'jim','age':31,'weight':180}]\n",
    "keys = toCSV[0].keys()\n",
    "with open('people.csv', 'wb') as output_file:\n",
    "    dict_writer = csv.DictWriter(output_file, keys)\n",
    "    dict_writer.writeheader()\n",
    "    dict_writer.writerows(toCSV)"
   ]
  },
  {
   "cell_type": "markdown",
   "metadata": {},
   "source": [
    "## Preparing the data"
   ]
  },
  {
   "cell_type": "code",
   "execution_count": 3,
   "metadata": {},
   "outputs": [],
   "source": [
    "class MusicTokenizer():\n",
    "    def __init__(self):\n",
    "        super().__init__()\n",
    "        self.n_cpus = num_cpus()\n",
    "        \n",
    "    def process_text(self, t:str) -> List[str]:\n",
    "        return t.split(\" \")\n",
    "    \n",
    "    def _process_all_1(self, texts:Collection[str]) -> List[List[str]]:\n",
    "        return [self.process_text(t) for t in texts]\n",
    "\n",
    "    def process_all(self, texts:Collection[str]) -> List[List[str]]:\n",
    "        \"Process a list of `texts`.\"\n",
    "        if self.n_cpus <= 1: return self._process_all_1(texts)\n",
    "        with ProcessPoolExecutor(self.n_cpus) as e:\n",
    "            return sum(e.map(self._process_all_1, partition_by_cores(texts, self.n_cpus)), [])\n"
   ]
  },
  {
   "cell_type": "code",
   "execution_count": 4,
   "metadata": {},
   "outputs": [
    {
     "data": {
      "text/plain": [
       "[PosixPath('data/composers/notewise/piano_solo/note_range62/sample_freq12/jazz'),\n",
       " PosixPath('data/composers/notewise/piano_solo/note_range62/sample_freq12/ravel'),\n",
       " PosixPath('data/composers/notewise/piano_solo/note_range62/sample_freq12/bach'),\n",
       " PosixPath('data/composers/notewise/piano_solo/note_range62/sample_freq12/schumann'),\n",
       " PosixPath('data/composers/notewise/piano_solo/note_range62/sample_freq12/liszt')]"
      ]
     },
     "execution_count": 4,
     "metadata": {},
     "output_type": "execute_result"
    }
   ],
   "source": [
    "path = Path('data/composers/notewise/piano_solo/note_range62/sample_freq12')\n",
    "path.ls()[:5]"
   ]
  },
  {
   "cell_type": "code",
   "execution_count": 5,
   "metadata": {},
   "outputs": [],
   "source": [
    "bs=32"
   ]
  },
  {
   "cell_type": "code",
   "execution_count": 6,
   "metadata": {},
   "outputs": [
    {
     "data": {
      "text/plain": [
       "(1797, 94, 158)"
      ]
     },
     "execution_count": 6,
     "metadata": {},
     "output_type": "execute_result"
    }
   ],
   "source": [
    "if (path/'tmp/itos.pkl').exists():\n",
    "# if False:\n",
    "    data = TextLMDataBunch.load(path, bs=bs)\n",
    "else:\n",
    "    p = [OpenFileProcessor(), TokenizeProcessor(tokenizer=MusicTokenizer(), chunksize=10), NumericalizeProcessor(vocab=None, max_vocab=500)]\n",
    "\n",
    "    data = (TextList.from_folder(path, recurse=True, processor=p)\n",
    "            .random_split_by_pct(0.05, seed=6)\n",
    "            .label_for_lm()\n",
    "            .databunch(bs=bs))\n",
    "    data.save('tmp')\n",
    "vocab = data.train_ds.vocab\n",
    "len(data.train_ds), len(data.valid_ds), len(data.train_ds.vocab.itos)"
   ]
  },
  {
   "cell_type": "code",
   "execution_count": 7,
   "metadata": {},
   "outputs": [
    {
     "data": {
      "text/plain": [
       "('xxbos wait25 wait25 wait25 wait25 wait25 wait25 wa',\n",
       " array([  2, 124, 124, 124, ...,   9, 105,   9, 157]))"
      ]
     },
     "execution_count": 7,
     "metadata": {},
     "output_type": "execute_result"
    }
   ],
   "source": [
    "t = data.train_ds[0][0]\n",
    "t.text[:50], t.data"
   ]
  },
  {
   "cell_type": "code",
   "execution_count": 8,
   "metadata": {},
   "outputs": [
    {
     "data": {
      "text/html": [
       "<table>  <col width='5%'>  <col width='95%'>  <tr>\n",
       "    <th>idx</th>\n",
       "    <th>text</th>\n",
       "  </tr>\n",
       "  <tr>\n",
       "    <th>0</th>\n",
       "    <th>xxbos p21 p28 p36 wait7 endp36 wait2 p29 p36 wait6 endp28 wait25 endp29 endp36 wait1 endp21 wait1 p28 wait2 p27 endp28 wait2 endp27 wait2 p20 p28 wait18 p29 p35 wait14 endp28 wait6 endp29 endp35 wait2 p28 wait5 endp28 wait2 endp20 wait1 p19 p28 wait7 endp28 wait4 endp19 wait7 p40 p47 wait2 p35 p36 p43 wait2 endp43 wait9 endp35 wait2 endp40 endp47 wait2 endp36 wait5 p33 p36 p40 p45 wait2 endp33</th>\n",
       "  </tr>\n",
       "  <tr>\n",
       "    <th>1</th>\n",
       "    <th>p24 wait8 endp24 wait4 p24 wait5 endp24 wait1 p20 wait3 endp20 wait3 p20 wait1 endp34 wait1 endp25 endp30 wait4 p36 wait2 endp20 endp36 wait4 p13 p20 p24 endp24 p28 p31 p36 wait2 endp28 endp31 endp36 wait1 endp20 wait3 p22 p27 p32 p37 wait2 endp32 endp37 wait1 endp22 endp27 wait3 p13 p23 p28 p32 wait2 endp23 wait4 p23 endp23 wait1 endp13 wait1 endp28 wait4 p6 p22 p28 wait6 p13 wait1 endp22</th>\n",
       "  </tr>\n",
       "  <tr>\n",
       "    <th>2</th>\n",
       "    <th>wait1 endp27 wait2 endp34 wait1 p39 p43 wait3 endp39 endp43 wait2 p22 p27 p31 wait3 endp22 endp27 endp31 wait1 endp19 wait2 p34 wait2 endp34 wait2 endp46 wait2 p39 endp39 p43 endp43 wait9 p14 p38 wait6 p26 wait1 endp14 wait2 endp26 wait1 p33 wait1 endp38 wait3 p7 p19 p39 wait1 endp33 wait2 endp7 wait1 p27 wait1 endp19 wait2 endp27 wait3 p34 wait3 endp34 p43 wait6 p27 wait1 endp43 wait1 endp27 wait1</th>\n",
       "  </tr>\n",
       "  <tr>\n",
       "    <th>3</th>\n",
       "    <th>p4 p35 wait3 endp35 wait1 p32 wait2 endp16 wait1 endp4 p9 endp32 p33 wait6 p12 wait1 endp9 wait6 endp12 wait2 p16 wait6 p21 wait1 endp16 wait5 endp33 wait1 endp21 wait1 p9 p16 p40 wait7 endp40 p45 wait6 p9 p21 wait1 endp16 wait4 endp45 wait1 p36 wait3 p35 endp36 wait3 p33 endp35 wait2 endp9 endp21 wait1 p20 p23 endp33 p35 wait4 p44 wait1 endp35 wait2 endp44 wait1 p47 wait7 p16 p20</th>\n",
       "  </tr>\n",
       "  <tr>\n",
       "    <th>4</th>\n",
       "    <th>endp52 endp56 wait6 p44 p47 p52 p56 wait1 p23 p28 p32 p35 wait3 endp35 wait2 endp28 endp32 wait2 endp47 endp56 wait1 endp23 wait2 endp44 endp52 wait14 p4 wait2 endp4 wait10 p52 wait3 p24 p28 p31 p36 p40 wait2 endp24 endp28 endp31 endp36 endp40 endp52 wait6 p24 endp24 p28 p31 p36 p40 p50 wait2 endp28 endp31 endp36 wait1 endp40 endp50 wait4 p24 endp24 p28 p31 p36 p40 p48 wait2 endp28 endp31</th>\n",
       "  </tr>\n",
       "</table>\n"
      ],
      "text/plain": [
       "<IPython.core.display.HTML object>"
      ]
     },
     "metadata": {},
     "output_type": "display_data"
    }
   ],
   "source": [
    "data.show_batch()"
   ]
  }
 ],
 "metadata": {
  "kernelspec": {
   "display_name": "Python 3",
   "language": "python",
   "name": "python3"
  },
  "language_info": {
   "codemirror_mode": {
    "name": "ipython",
    "version": 3
   },
   "file_extension": ".py",
   "mimetype": "text/x-python",
   "name": "python",
   "nbconvert_exporter": "python",
   "pygments_lexer": "ipython3",
   "version": "3.7.1"
  }
 },
 "nbformat": 4,
 "nbformat_minor": 2
}

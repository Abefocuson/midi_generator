{
 "cells": [
  {
   "cell_type": "markdown",
   "metadata": {},
   "source": [
    "# Music"
   ]
  },
  {
   "cell_type": "code",
   "execution_count": 1,
   "metadata": {},
   "outputs": [],
   "source": [
    "%reload_ext autoreload\n",
    "%autoreload 2\n",
    "%matplotlib inline"
   ]
  },
  {
   "cell_type": "code",
   "execution_count": 2,
   "metadata": {},
   "outputs": [],
   "source": [
    "from fastai.text import *"
   ]
  },
  {
   "cell_type": "markdown",
   "metadata": {},
   "source": [
    "## Preparing the data"
   ]
  },
  {
   "cell_type": "code",
   "execution_count": 3,
   "metadata": {},
   "outputs": [],
   "source": [
    "class MusicTokenizer():\n",
    "    def __init__(self):\n",
    "        super().__init__()\n",
    "        self.n_cpus = num_cpus()\n",
    "        \n",
    "    def process_text(self, t:str) -> List[str]:\n",
    "        return t.split(\" \")\n",
    "    \n",
    "    def _process_all_1(self, texts:Collection[str]) -> List[List[str]]:\n",
    "        return [self.process_text(t) for t in texts]\n",
    "\n",
    "    def process_all(self, texts:Collection[str]) -> List[List[str]]:\n",
    "        \"Process a list of `texts`.\"\n",
    "        if self.n_cpus <= 1: return self._process_all_1(texts)\n",
    "        with ProcessPoolExecutor(self.n_cpus) as e:\n",
    "            return sum(e.map(self._process_all_1, partition_by_cores(texts, self.n_cpus)), [])\n"
   ]
  },
  {
   "cell_type": "code",
   "execution_count": 164,
   "metadata": {},
   "outputs": [
    {
     "data": {
      "text/plain": [
       "[PosixPath('data/composers/notewise/piano_solo/note_range38/sample_freq12/jazz'),\n",
       " PosixPath('data/composers/notewise/piano_solo/note_range38/sample_freq12/ravel'),\n",
       " PosixPath('data/composers/notewise/piano_solo/note_range38/sample_freq12/bach'),\n",
       " PosixPath('data/composers/notewise/piano_solo/note_range38/sample_freq12/schumann'),\n",
       " PosixPath('data/composers/notewise/piano_solo/note_range38/sample_freq12/test1')]"
      ]
     },
     "execution_count": 164,
     "metadata": {},
     "output_type": "execute_result"
    }
   ],
   "source": [
    "path = Path('data/composers/notewise/piano_solo/note_range38/sample_freq12')\n",
    "path.ls()[:5]"
   ]
  },
  {
   "cell_type": "code",
   "execution_count": 5,
   "metadata": {},
   "outputs": [],
   "source": [
    "bs=32"
   ]
  },
  {
   "cell_type": "code",
   "execution_count": 6,
   "metadata": {},
   "outputs": [
    {
     "data": {
      "text/plain": [
       "(1798, 94, 110)"
      ]
     },
     "execution_count": 6,
     "metadata": {},
     "output_type": "execute_result"
    }
   ],
   "source": [
    "if (path/'tmp/itos.pkl').exists():\n",
    "# if False:\n",
    "    data = TextLMDataBunch.load(path, bs=bs)\n",
    "else:\n",
    "    p = [OpenFileProcessor(), TokenizeProcessor(tokenizer=MusicTokenizer(), chunksize=10), NumericalizeProcessor(vocab=None, max_vocab=500)]\n",
    "\n",
    "    data = (TextList.from_folder(path, recurse=True, processor=p)\n",
    "            .random_split_by_pct(0.05, seed=6)\n",
    "            .label_for_lm()\n",
    "            .databunch(bs=bs))\n",
    "    data.save('tmp')\n",
    "vocab = data.train_ds.vocab\n",
    "len(data.train_ds), len(data.valid_ds), len(data.train_ds.vocab.itos)"
   ]
  },
  {
   "cell_type": "markdown",
   "metadata": {},
   "source": [
    "It only contains one csv file, let's have a look at it."
   ]
  },
  {
   "cell_type": "code",
   "execution_count": 7,
   "metadata": {},
   "outputs": [
    {
     "data": {
      "text/plain": [
       "('xxbos wait25 wait25 wait25 wait25 wait25 wait25 wa',\n",
       " array([  2,  94,  94,  94, ...,   9,  53,   9, 109]))"
      ]
     },
     "execution_count": 7,
     "metadata": {},
     "output_type": "execute_result"
    }
   ],
   "source": [
    "t = data.train_ds[0][0]\n",
    "t.text[:50], t.data"
   ]
  },
  {
   "cell_type": "code",
   "execution_count": 8,
   "metadata": {},
   "outputs": [
    {
     "data": {
      "text/html": [
       "<table>  <col width='5%'>  <col width='95%'>  <tr>\n",
       "    <th>idx</th>\n",
       "    <th>text</th>\n",
       "  </tr>\n",
       "  <tr>\n",
       "    <th>0</th>\n",
       "    <th>xxbos p11 wait5 endp11 wait1 p15 p18 wait6 p15 p18 wait5 endp15 endp18 wait1 p7 wait5 endp7 wait1 p15 p17 wait6 p15 p17 wait5 endp15 endp17 wait1 p11 wait5 endp11 wait1 p15 p18 wait6 p15 p18 wait5 endp15 endp18 wait1 p7 wait5 endp7 wait1 p15 p17 wait6 p15 p17 wait5 endp15 endp17 wait1 p11 wait5 endp11 wait1 p15 p18 wait6 p15 p18 wait5 endp15 endp18 wait1 p7 wait5 endp7 wait1</th>\n",
       "  </tr>\n",
       "  <tr>\n",
       "    <th>1</th>\n",
       "    <th>wait1 p6 wait8 p2 endp6 wait2 endp2 wait2 p3 p4 p6 p8 p11 wait3 endp11 wait2 endp3 endp6 endp8 wait3 p3 p6 p8 p11 wait1 p4 wait1 endp3 endp11 wait1 endp6 endp8 wait1 p3 p11 wait3 p6 p8 p11 wait2 endp3 wait3 endp4 endp6 endp8 endp11 wait4 p3 p4 p6 p8 p11 wait5 endp3 endp6 endp8 endp11 wait2 endp4 wait2 p2 p3 p6 p8 p11 wait2 endp2 wait1 p3 p4</th>\n",
       "  </tr>\n",
       "  <tr>\n",
       "    <th>2</th>\n",
       "    <th>endp18 wait1 p9 wait5 endp9 wait1 p1 wait6 p1 wait6 p1 wait5 endp1 endp25 endp33 wait1 p11 p23 p32 wait3 endp23 endp32 wait1 p25 p33 wait1 endp11 wait1 p17 endp25 endp33 wait2 p23 p32 wait3 endp17 endp23 endp32 wait1 p21 p25 p30 wait5 endp25 wait1 p17 wait5 endp17 wait1 p11 wait5 endp11 endp21 endp30 wait1 p1 p20 p29 wait5 endp1 endp20 endp29 wait1 p6 p21 p30 wait6 p1 wait1 endp6</th>\n",
       "  </tr>\n",
       "  <tr>\n",
       "    <th>3</th>\n",
       "    <th>endp36 wait1 p32 wait5 endp32 wait1 p33 wait5 endp33 wait1 p29 wait5 endp29 wait1 p28 wait11 endp28 wait1 p20 p23 p26 wait11 endp20 endp23 endp26 wait1 p21 p24 wait11 endp21 endp24 wait1 p29 wait11 endp29 wait1 p14 p21 p23 wait11 endp14 wait1 p15 p21 p23 wait11 endp15 endp21 endp23 wait1 p16 p20 p24 wait2 endp24 wait1 p23 wait1 p21 wait2 endp21 p23 wait5 endp16 endp20 endp23 wait1 p4 wait6 p23</th>\n",
       "  </tr>\n",
       "  <tr>\n",
       "    <th>4</th>\n",
       "    <th>endp5 endp12 wait3 p15 wait3 p9 endp15 wait3 endp9 p12 wait3 endp12 wait3 p3 p17 wait3 endp17 p21 wait3 p1 endp21 p22 wait1 endp3 wait4 endp22 wait1 p17 wait1 endp1 wait2 p0 endp17 p24 wait3 p17 wait2 endp24 wait1 endp17 wait1 endp0 wait2 p10 p25 wait3 p22 wait3 endp22 wait2 p20 wait3 endp20 wait1 p18 wait3 endp10 endp18 p20 wait3 endp20 wait1 endp25 wait1 p23 wait3 endp23 wait1 p17 wait3</th>\n",
       "  </tr>\n",
       "</table>\n"
      ],
      "text/plain": [
       "<IPython.core.display.HTML object>"
      ]
     },
     "metadata": {},
     "output_type": "display_data"
    }
   ],
   "source": [
    "data.show_batch()"
   ]
  },
  {
   "cell_type": "markdown",
   "metadata": {},
   "source": [
    "This is where the unlabelled data is going to be useful to us, as we can use it to fine-tune our model. Let's create our data object with the data block API (next line takes a few minutes)."
   ]
  },
  {
   "cell_type": "code",
   "execution_count": 35,
   "metadata": {},
   "outputs": [],
   "source": [
    "seed = 'xxbos wait24 p32 wait3 endp32 wait9 p16 p32 wait5 endp16 endp32 wait7 p18 p33 wait5 endp18 endp33 wait7 p20 p35 wait5 endp20 endp35 wait7 p20'"
   ]
  },
  {
   "cell_type": "code",
   "execution_count": 46,
   "metadata": {},
   "outputs": [],
   "source": [
    "pred_out = learn.predict(seed, n_words=500)"
   ]
  },
  {
   "cell_type": "code",
   "execution_count": 72,
   "metadata": {},
   "outputs": [],
   "source": [
    "seed_2 = 'wait4 p28 wait5 endp28 p30 wait3 p27 wait4 p28 endp30 p32 wait1 endp27 wait1 p26 wait5 endp28 endp32 wait1 p25 p30 p33 wait1 endp26 wait13 endp25 endp30 endp33 wait4 p23 p28 p32 p35 wait3 endp28 endp32 endp35 wait5 endp23 wait2 p21 p25 p29 p33 p37 wait8 endp21 wait4 p9 wait8 endp33 endp37 wait3 endp9 wait3 endp25 endp29 wait12 p11 p14 p16 p18 p21 p23 wait2 p9 wait6 endp11 endp14 endp16 endp18 wait2 endp9 wait1 endp21 endp23 wait15 p19 p25 p30 p35 wait2 endp30 endp35 wait1 endp19 endp25 wait4 p18 p23 p28 p33 wait2 endp28 endp33 wait1 endp23 wait3 p32 wait1'"
   ]
  },
  {
   "cell_type": "code",
   "execution_count": 112,
   "metadata": {},
   "outputs": [],
   "source": [
    "pred_out_2 = learn.predict(subsample, n_words=250)"
   ]
  },
  {
   "cell_type": "markdown",
   "metadata": {},
   "source": [
    "### Testing"
   ]
  },
  {
   "cell_type": "code",
   "execution_count": 163,
   "metadata": {},
   "outputs": [
    {
     "data": {
      "text/plain": [
       "PosixPath('data/composers/notewise/piano_solo/note_range38/sample_freq12/bach/bwv792.txt')"
      ]
     },
     "execution_count": 163,
     "metadata": {},
     "output_type": "execute_result"
    }
   ],
   "source": [
    "file"
   ]
  },
  {
   "cell_type": "code",
   "execution_count": 174,
   "metadata": {},
   "outputs": [],
   "source": [
    "file = path.ls()[2].ls()[8]\n",
    "\n",
    "with open(file, 'r') as f:\n",
    "    txt_out = f.read()\n",
    "notes = txt_out.split(' ')\n",
    "subsample = ' '.join(notes[:500])"
   ]
  },
  {
   "cell_type": "code",
   "execution_count": 167,
   "metadata": {},
   "outputs": [
    {
     "data": {
      "text/plain": [
       "'p18 p30 wait5 endp18 endp30 wait1 p29 wait2 endp29 wait1 p30 wait2 endp30 wait1 p17 p32 wait5 endp17 endp32 wait1 p30 wait2 endp30 wait1 p29 wait2 endp29 wait1 p15 p30 wait5 endp15 wait7 p10 wait2 endp30 wait1 p32 wait2 endp10 endp32 wait1 p29 wait2 endp29 wait1 p30 wait2 endp30 wait1 p11 p32 wait2 endp32 wait1 p25 wait2 endp11 endp25 wait1 p34 wait2 endp34 wait1 p25 wait2 endp25 wait1 p13 p35 wait2 endp35 wait1 p25 wait2 endp13 endp25 wait1 p37 wait5 endp37 wait1 p6 p34 endp34 p35 endp35 wait3 p32 p34 endp34 wait2 endp6 endp32 wait1 p18 p30 wait2 endp30 wait1 p32 wait2 endp18 endp32 wait1 p17 p34 wait2 endp34 wait1 p36 wait2 endp17 endp36 wait1 p15 p37 wait2 endp37 wait3 endp15 wait1 p13 p25 wait5 endp13 endp25 wait1 p24 p32 wait2 endp24 wait1 p25 wait2 endp25 wait1 p24 p27 wait2 endp32 wait3 endp24 endp27 wait1 p25 wait2 endp25 wait1 p24 wait2 endp24 wait1 p22 p25 p37 wait2 endp37 wait1 p36 wait2 endp22 endp36 wait1 p34 wait2 endp34 wait1 p32 wait2 endp32 wait1 p17 p37 wait2 endp25 wait1 p27 wait2 endp17 endp27 wait1 p24 wait2 endp24 wait1 p25 wait2 endp25 wait1 p18 p27 wait2 endp27 wait1 p20 wait2 endp18 endp20 wait1'"
      ]
     },
     "execution_count": 167,
     "metadata": {},
     "output_type": "execute_result"
    }
   ],
   "source": [
    "subsample"
   ]
  },
  {
   "cell_type": "code",
   "execution_count": 122,
   "metadata": {},
   "outputs": [
    {
     "data": {
      "text/plain": [
       "'p25 wait8 p27 wait4 p29 wait1 endp27 wait4 endp29 wait3 p30 wait4 p32 wait1 endp30 wait4 endp32 wait1 p34 wait5 endp25 endp34 wait1 p24 p32 wait5 endp32 wait1 p34 wait5 endp34 wait1 p30 wait5 endp24 endp30 wait1 p25 p29 p32 wait5 endp32 wait1 p34 wait5 endp34 wait1 p36 wait5 endp25 endp36 wait1 p22 p37 wait5 endp37 wait12 endp22 endp29 wait1 p27 p31 wait10 p37 wait5 endp37 wait2 endp27 endp31 wait1 p20 p32 p36 wait4 p22 wait1 endp20 wait4 endp22 p24 wait5 endp24 wait2 p25 p34 wait1 endp36 wait4 endp25 p27 wait5 endp27 wait2 p29 wait5 p27 endp29 p30 wait2 endp32 wait3 endp27 wait2 p29 wait5 p25 endp29 wait5 endp25 wait1 p24 p32 endp34 wait5 endp24 wait1 p25 wait5 endp25 wait1 p27 wait5 endp27 endp30 wait1 p25 p29 wait5 endp25 wait1 p27 wait5 p24 endp27 wait5 endp24 wait1 endp32 wait1 p22 p30 wait5 endp22 p24 wait5 endp24 wait2 p25 wait5 p24 endp25 p27 endp29 wait5 endp24 wait2 p25 wait5 p22 endp25 wait4 p20 p29 wait1 endp22 wait1 endp30 wait3 endp20 wait3 p22 wait4 p24 wait1 endp22 wait4 endp24 wait1 p22 p25 wait1 endp27 wait4 endp22 wait1 p24 wait5 endp24 wait1 p20 wait5 endp20 endp29 wait1 p18 p34 wait5 endp25 wait1 p27 endp34 wait5 endp18 wait1 p17 p34 wait5 endp17 wait1 p18 p34 wait1 endp34 wait4 endp18 endp34 wait1 p14 p32 wait5 endp14 endp32 wait1 p15 p34 wait3 endp34 wait1 p32 wait1 endp15 wait1 p12 endp32 wait5 endp12 wait1 p15 wait5 endp15 wait1 p17 p36 wait5 endp36 wait1 p29 wait5 endp17 endp29 wait1 p13 p30 wait4 p17 wait1 endp30 wait3 p22 wait4 wait1 wait1 endp22 wait1 endp13 wait2 p10 p30 wait1 endp22 wait4 endp30 p29 wait3 endp10 wait2 endp29 wait1 p10 p26 wait5 endp26 wait3 p29 wait3 endp10 wait2 endp29 wait2 p5 p26 wait5 endp26 p29 wait3 endp5 wait2 endp29 wait2 p7 p25 wait5 endp25 p26 wait3 endp7 wait2 endp26 wait2 p10 p31 wait5 endp10 p21 wait3 p2 p17 wait2 endp21 endp31 wait3 endp2 wait1 p10 p22 wait1 endp17 wait1 endp22 wait1 p14 wait2 endp10 endp14 wait1 p0 p16 wait4 p3 wait5 endp16 p16 wait3 endp10 wait3 p12 p28 wait1 endp12 wait1 endp16 wait1 endp0 wait3 p10 p31 wait1 p2 wait5 endp2 p3 wait2 endp10 wait3 endp3 wait1 p10 p27 wait2 endp28 wait4 p7 wait1 endp27 wait4 endp7 wait1 p27 wait5 endp27 wait1 p5 p26 wait5 p24 endp26 wait3 endp5 wait1 p3 p26 wait1 endp24 wait4 endp26 wait1 p24 wait5 endp3 endp24 wait1 p2 p22 wait4 p22 wait1 endp22 wait1 endp22 wait2 p17 wait1 endp2 wait1 endp17 wait5 p5 p26 wait11 p22 endp26 wait5 endp22 wait1 p31 wait5 endp5 endp31 wait1 p5 p29 wait5 endp29 wait1 p26 wait5 endp5 endp26 wait1 p7 p29 wait6 p22 wait5 endp29 wait1 p5 p27 wait1 endp22'"
      ]
     },
     "execution_count": 122,
     "metadata": {},
     "output_type": "execute_result"
    }
   ],
   "source": [
    "pred_out_2"
   ]
  },
  {
   "cell_type": "markdown",
   "metadata": {},
   "source": [
    "### Generate from predictions"
   ]
  },
  {
   "cell_type": "code",
   "execution_count": 168,
   "metadata": {},
   "outputs": [],
   "source": [
    "from utils import *"
   ]
  },
  {
   "cell_type": "code",
   "execution_count": 40,
   "metadata": {},
   "outputs": [],
   "source": [
    "# stream = 'wait24 p32 wait3 endp32 wait9 p16 p32 wait5 endp16 endp32 wait7 p18 p33 wait5 endp18 endp33 wait7 p20 p35'"
   ]
  },
  {
   "cell_type": "code",
   "execution_count": 123,
   "metadata": {},
   "outputs": [],
   "source": [
    "pred_format = pred_out_2.replace('xxbos ', '')"
   ]
  },
  {
   "cell_type": "code",
   "execution_count": 170,
   "metadata": {},
   "outputs": [],
   "source": [
    "out_dir = Path('tmp_out')"
   ]
  },
  {
   "cell_type": "code",
   "execution_count": 189,
   "metadata": {},
   "outputs": [],
   "source": [
    "midi_file.unlink()"
   ]
  },
  {
   "cell_type": "code",
   "execution_count": 190,
   "metadata": {},
   "outputs": [],
   "source": [
    "file_sample = str(path.ls()[2].ls()[8])\n",
    "note_offset= 45 if 'note_range38' in file_sample else 33\n",
    "sample_freq = 12 if 'sample_freq12' in file_sample else 4"
   ]
  },
  {
   "cell_type": "code",
   "execution_count": 191,
   "metadata": {},
   "outputs": [],
   "source": [
    "result = write_mid_mp3_wav(subsample, fname='testfile_2.mid', \n",
    "                           sample_freq=sample_freq, note_offset=note_offset, \n",
    "                           out=out_dir, chordwise=False)\n",
    "\n",
    "\n",
    "\n"
   ]
  },
  {
   "cell_type": "code",
   "execution_count": 125,
   "metadata": {},
   "outputs": [],
   "source": [
    "# result = write_mid_mp3_wav(pred_format[len(subsample):], fname='testfile_2.mid', \n",
    "#                            sample_freq=12, note_offset=38, \n",
    "#                            out=out_dir, chordwise=False)\n",
    "\n",
    "\n",
    "\n"
   ]
  },
  {
   "cell_type": "code",
   "execution_count": 192,
   "metadata": {},
   "outputs": [
    {
     "data": {
      "text/plain": [
       "True"
      ]
     },
     "execution_count": 192,
     "metadata": {},
     "output_type": "execute_result"
    }
   ],
   "source": [
    "midi_file = out_dir/'testfile_2.mid'; midi_file.exists()"
   ]
  },
  {
   "cell_type": "code",
   "execution_count": 193,
   "metadata": {},
   "outputs": [],
   "source": [
    "from music21 import *"
   ]
  },
  {
   "cell_type": "code",
   "execution_count": 208,
   "metadata": {},
   "outputs": [],
   "source": [
    "mf = midi.MidiFile()\n",
    "mf.open(midi_file)\n",
    "mf.read()\n",
    "mf.close()\n",
    "s = midi.translate.midiFileToStream(mf)"
   ]
  },
  {
   "cell_type": "code",
   "execution_count": 210,
   "metadata": {},
   "outputs": [
    {
     "data": {
      "text/html": [
       "\n",
       "                <div id='midiPlayerDiv30790'></div>\n",
       "                <link rel=\"stylesheet\" href=\"//cuthbertLab.github.io/music21j/css/m21.css\"\n",
       "                    type=\"text/css\" />\n",
       "                <script>\n",
       "                require.config({\n",
       "                    paths: {'music21': '//cuthbertLab.github.io/music21j/src/music21'}\n",
       "                });\n",
       "                require(['music21'], function() {\n",
       "                               mp = new music21.miditools.MidiPlayer();\n",
       "                               mp.addPlayer('#midiPlayerDiv30790');\n",
       "                               mp.base64Load('data:audio/midi;base64,TVRoZAAAAAYAAQABBABNVHJrAAAFHQD/AwVQaWFubwDAAADgAEAAwAAAwACeAJBNWoIAgE0AAJA9WoIAkEFaggCAQQAAkERaggCARAAAkElaAJBOWoIAgD0AAIBOAACQP1qCAIBJAIIAkEhaggCASAAAgE0AAIBOAACQRloAkE1aAJBOWoIAgD8AAIBGAACQQVoAkFBaggCQRFqCAIBEAACQSFqCAIBIAACQSVqCAJBNWoIAgFAAggCAQQAAgE0AhACQQloAkFJaggCAUgCCAIBCAACQQVoAkFBaggCAUACCAIBBAACQP1oAkE5aggCATgAAkE1aggCASQAAgE0AAJBIWgCQTlqCAIBOAIIAgD8AAIBIAACQPVoAkE5aggCATgAAkE1aggCATQAAkEFaAJBLWoIAgEsAAJBJWoIAgEEAAIBJAACQRFoAkE1aggCAPQAAkDxaggCARAAAgDwAAJA6WgCQSVqCAIA6AACQOFqCAIBJAACAOAAAkDdaAJBGWoIAgE0AAJBSWoIAgEYAAIBSAACQOloAkEtaggCASwAAkFJaggCAOgAAgFIAAJA/WgCQSVqCAIBJAACQSFqCAIA3AACASAAAkElaggCASQAAkFJaggCAPwAAgFIAAJA4WgCQSVqCAIBJAACQSFqCAIBIAACQPFoAkEZaggCARgAAkERaggCAPAAAgEQAAJA/WgCQRlqCAIBGAACQSFqCAIA4AACASAAAkDZaAJBJWoIAgEkAAJBIWoIAgD8AAIA2AACASAAAkDVaAJA4WgCQSVqCAIBJAACQS1qCAIA4AACASwAAkD1aAJBJWoIAgEkAAJBLWoIAgDUAAIBLAACQM1qEAIA9AACQPFqCAIBJAACASwAAkElaAJBLWoIAgDMAAIA8AACQPVoAkE1aggCAPQCCAJA1WoIAgDUAAJA4WoIAgDgAAIA9AACQPVqCAIBNAIIAkD9aAJBSWoIAgD8AAIBSAACQQVoAkFFaggCAQQAAgFEAAJBCWgCQUlqCAIBSAIIAgEIAAJA9WgCQRloAkFJaggCAUgCCAIA9AACQP1qEAIBGAACAPwAAkEFaAJBFWoIAgFIAAJBSWoIAgEEAAIBFAACQRlqCAJBBWoIAgEEAAJA9WoIAgD0AAJBBWoIAgEYAAIBBAACQOlqEAIA6AACQPFoAkFJaggCAUgAAkFBaggCAPAAAgFAAAJA/WgCQT1qCAIBPAACQUlqCAIBSAACQQVoAkE1aggCATQAAkFJaggCAQQAAgFIAAJBDWgCQS1qCAIBLAIIAgD8AggCQUlqCAIBDAACAUgAAkDhaAJBEWoQAgDgAAJA6WgCQUlqCAIBSAIIAgDoAAJA8WgCQUFqCAIBQAACQTlqCAIA8AACATgAAkDhaAJBNWoIAgE0AAJBLWoIAgDgAAIBLAACQPVoAkE1aggCATQAAkFBaggCARAAAgFAAAJBCWgCQS1qCAIBLAACQUFqCAIBCAACAUAAAkEFaAJBJWoIAgEkAAJBQWoIAgEEAAIBQAACQP1oAkEhaggCASAAAkFBaggCAPQAAgD8AAIBQAACQRlqCAIBGAACQUFqCAIBQAACQOloAkE9aggCATwAAkE1aggCAOgAAgE0AAJAzWgCQT1qCAIBPAACQUlqCAIAzAACAUgAAkDdaAJA6WgCQS1qCAIBLAIIAgDcAAIA6AACQOFqCAJBSWoIAgFIAAJA9WoIAkDpaAJBQWoIAgDgAAIA9AACAOgAAgFAAAJAzWogAgDMAiAD/LwA=');\n",
       "                        });\n",
       "                </script>"
      ],
      "text/plain": [
       "<IPython.core.display.HTML object>"
      ]
     },
     "metadata": {},
     "output_type": "display_data"
    }
   ],
   "source": [
    "s.show('midi')"
   ]
  },
  {
   "cell_type": "code",
   "execution_count": 137,
   "metadata": {},
   "outputs": [],
   "source": [
    "path = Path('data/example_sound_files')"
   ]
  },
  {
   "cell_type": "code",
   "execution_count": 140,
   "metadata": {},
   "outputs": [],
   "source": [
    "midi_file = path/'happy_birthday.mid'"
   ]
  },
  {
   "cell_type": "code",
   "execution_count": 141,
   "metadata": {},
   "outputs": [],
   "source": [
    "mf = midi.MidiFile()\n",
    "mf.open(midi_file)\n",
    "mf.read()\n",
    "mf.close()\n",
    "s = midi.translate.midiFileToStream(mf)"
   ]
  },
  {
   "cell_type": "code",
   "execution_count": 143,
   "metadata": {},
   "outputs": [
    {
     "data": {
      "text/plain": [
       "<music21.stream.Score 0x7f2df45e6898>"
      ]
     },
     "execution_count": 143,
     "metadata": {},
     "output_type": "execute_result"
    }
   ],
   "source": [
    "s"
   ]
  },
  {
   "cell_type": "code",
   "execution_count": 207,
   "metadata": {},
   "outputs": [
    {
     "ename": "LilyTranslateException",
     "evalue": "Cannot translate an object of zero duration <music21.duration.Duration 0.0>",
     "output_type": "error",
     "traceback": [
      "\u001b[0;31m---------------------------------------------------------------------------\u001b[0m",
      "\u001b[0;31mLilyTranslateException\u001b[0m                    Traceback (most recent call last)",
      "\u001b[0;32m<ipython-input-207-f1021636ac66>\u001b[0m in \u001b[0;36m<module>\u001b[0;34m\u001b[0m\n\u001b[1;32m      1\u001b[0m \u001b[0;32mfrom\u001b[0m \u001b[0mIPython\u001b[0m\u001b[0;34m.\u001b[0m\u001b[0mdisplay\u001b[0m \u001b[0;32mimport\u001b[0m \u001b[0mImage\u001b[0m\u001b[0;34m\u001b[0m\u001b[0;34m\u001b[0m\u001b[0m\n\u001b[0;32m----> 2\u001b[0;31m \u001b[0mImage\u001b[0m\u001b[0;34m(\u001b[0m\u001b[0mfilename\u001b[0m\u001b[0;34m=\u001b[0m\u001b[0mstr\u001b[0m\u001b[0;34m(\u001b[0m\u001b[0ms\u001b[0m\u001b[0;34m.\u001b[0m\u001b[0mwrite\u001b[0m\u001b[0;34m(\u001b[0m\u001b[0;34m'lily.png'\u001b[0m\u001b[0;34m)\u001b[0m\u001b[0;34m)\u001b[0m\u001b[0;34m)\u001b[0m\u001b[0;34m\u001b[0m\u001b[0;34m\u001b[0m\u001b[0m\n\u001b[0m",
      "\u001b[0;32m~/anaconda3/envs/musical_neural_net/lib/python3.7/site-packages/music21/stream/__init__.py\u001b[0m in \u001b[0;36mwrite\u001b[0;34m(self, *args, **kwargs)\u001b[0m\n\u001b[1;32m    249\u001b[0m         \u001b[0;32mif\u001b[0m \u001b[0mself\u001b[0m\u001b[0;34m.\u001b[0m\u001b[0misSorted\u001b[0m \u001b[0;32mis\u001b[0m \u001b[0;32mFalse\u001b[0m \u001b[0;32mand\u001b[0m \u001b[0mself\u001b[0m\u001b[0;34m.\u001b[0m\u001b[0mautoSort\u001b[0m\u001b[0;34m:\u001b[0m\u001b[0;34m\u001b[0m\u001b[0;34m\u001b[0m\u001b[0m\n\u001b[1;32m    250\u001b[0m             \u001b[0mself\u001b[0m\u001b[0;34m.\u001b[0m\u001b[0msort\u001b[0m\u001b[0;34m(\u001b[0m\u001b[0;34m)\u001b[0m\u001b[0;34m\u001b[0m\u001b[0;34m\u001b[0m\u001b[0m\n\u001b[0;32m--> 251\u001b[0;31m         \u001b[0;32mreturn\u001b[0m \u001b[0msuper\u001b[0m\u001b[0;34m(\u001b[0m\u001b[0;34m)\u001b[0m\u001b[0;34m.\u001b[0m\u001b[0mwrite\u001b[0m\u001b[0;34m(\u001b[0m\u001b[0;34m*\u001b[0m\u001b[0margs\u001b[0m\u001b[0;34m,\u001b[0m \u001b[0;34m**\u001b[0m\u001b[0mkwargs\u001b[0m\u001b[0;34m)\u001b[0m\u001b[0;34m\u001b[0m\u001b[0;34m\u001b[0m\u001b[0m\n\u001b[0m\u001b[1;32m    252\u001b[0m \u001b[0;34m\u001b[0m\u001b[0m\n\u001b[1;32m    253\u001b[0m \u001b[0;34m\u001b[0m\u001b[0m\n",
      "\u001b[0;32m~/anaconda3/envs/musical_neural_net/lib/python3.7/site-packages/music21/base.py\u001b[0m in \u001b[0;36mwrite\u001b[0;34m(self, fmt, fp, **keywords)\u001b[0m\n\u001b[1;32m   2504\u001b[0m         \u001b[0mscClass\u001b[0m \u001b[0;34m=\u001b[0m \u001b[0mcommon\u001b[0m\u001b[0;34m.\u001b[0m\u001b[0mfindSubConverterForFormat\u001b[0m\u001b[0;34m(\u001b[0m\u001b[0mregularizedConverterFormat\u001b[0m\u001b[0;34m)\u001b[0m\u001b[0;34m\u001b[0m\u001b[0;34m\u001b[0m\u001b[0m\n\u001b[1;32m   2505\u001b[0m         \u001b[0mformatWriter\u001b[0m \u001b[0;34m=\u001b[0m \u001b[0mscClass\u001b[0m\u001b[0;34m(\u001b[0m\u001b[0;34m)\u001b[0m\u001b[0;34m\u001b[0m\u001b[0;34m\u001b[0m\u001b[0m\n\u001b[0;32m-> 2506\u001b[0;31m         \u001b[0;32mreturn\u001b[0m \u001b[0mformatWriter\u001b[0m\u001b[0;34m.\u001b[0m\u001b[0mwrite\u001b[0m\u001b[0;34m(\u001b[0m\u001b[0mself\u001b[0m\u001b[0;34m,\u001b[0m \u001b[0mregularizedConverterFormat\u001b[0m\u001b[0;34m,\u001b[0m \u001b[0mfp\u001b[0m\u001b[0;34m,\u001b[0m \u001b[0msubformats\u001b[0m\u001b[0;34m,\u001b[0m \u001b[0;34m**\u001b[0m\u001b[0mkeywords\u001b[0m\u001b[0;34m)\u001b[0m\u001b[0;34m\u001b[0m\u001b[0;34m\u001b[0m\u001b[0m\n\u001b[0m\u001b[1;32m   2507\u001b[0m \u001b[0;34m\u001b[0m\u001b[0m\n\u001b[1;32m   2508\u001b[0m \u001b[0;34m\u001b[0m\u001b[0m\n",
      "\u001b[0;32m~/anaconda3/envs/musical_neural_net/lib/python3.7/site-packages/music21/converter/subConverters.py\u001b[0m in \u001b[0;36mwrite\u001b[0;34m(self, obj, fmt, fp, subformats, **keywords)\u001b[0m\n\u001b[1;32m    422\u001b[0m \u001b[0;34m\u001b[0m\u001b[0m\n\u001b[1;32m    423\u001b[0m         \u001b[0;32melif\u001b[0m \u001b[0msubformats\u001b[0m \u001b[0;32mis\u001b[0m \u001b[0;32mnot\u001b[0m \u001b[0;32mNone\u001b[0m \u001b[0;32mand\u001b[0m \u001b[0;34m'png'\u001b[0m \u001b[0;32min\u001b[0m \u001b[0msubformats\u001b[0m\u001b[0;34m:\u001b[0m\u001b[0;34m\u001b[0m\u001b[0;34m\u001b[0m\u001b[0m\n\u001b[0;32m--> 424\u001b[0;31m             \u001b[0mconv\u001b[0m\u001b[0;34m.\u001b[0m\u001b[0mloadFromMusic21Object\u001b[0m\u001b[0;34m(\u001b[0m\u001b[0mobj\u001b[0m\u001b[0;34m)\u001b[0m\u001b[0;34m\u001b[0m\u001b[0;34m\u001b[0m\u001b[0m\n\u001b[0m\u001b[1;32m    425\u001b[0m             \u001b[0mconvertedFilePath\u001b[0m \u001b[0;34m=\u001b[0m \u001b[0mconv\u001b[0m\u001b[0;34m.\u001b[0m\u001b[0mcreatePNG\u001b[0m\u001b[0;34m(\u001b[0m\u001b[0mfp\u001b[0m\u001b[0;34m)\u001b[0m\u001b[0;34m\u001b[0m\u001b[0;34m\u001b[0m\u001b[0m\n\u001b[1;32m    426\u001b[0m             \u001b[0;32mif\u001b[0m \u001b[0;34m'ipython'\u001b[0m \u001b[0;32min\u001b[0m \u001b[0msubformats\u001b[0m\u001b[0;34m:\u001b[0m\u001b[0;34m\u001b[0m\u001b[0;34m\u001b[0m\u001b[0m\n",
      "\u001b[0;32m~/anaconda3/envs/musical_neural_net/lib/python3.7/site-packages/music21/lily/translate.py\u001b[0m in \u001b[0;36mloadFromMusic21Object\u001b[0;34m(self, m21ObjectIn)\u001b[0m\n\u001b[1;32m    291\u001b[0m             \u001b[0mself\u001b[0m\u001b[0;34m.\u001b[0m\u001b[0mloadObjectFromScore\u001b[0m\u001b[0;34m(\u001b[0m\u001b[0mscoreObj\u001b[0m\u001b[0;34m,\u001b[0m \u001b[0mmakeNotation\u001b[0m\u001b[0;34m=\u001b[0m\u001b[0;32mFalse\u001b[0m\u001b[0;34m)\u001b[0m\u001b[0;34m\u001b[0m\u001b[0;34m\u001b[0m\u001b[0m\n\u001b[1;32m    292\u001b[0m         \u001b[0;32melif\u001b[0m \u001b[0;34m'Score'\u001b[0m \u001b[0;32min\u001b[0m \u001b[0mc\u001b[0m\u001b[0;34m:\u001b[0m\u001b[0;34m\u001b[0m\u001b[0;34m\u001b[0m\u001b[0m\n\u001b[0;32m--> 293\u001b[0;31m             \u001b[0mself\u001b[0m\u001b[0;34m.\u001b[0m\u001b[0mloadObjectFromScore\u001b[0m\u001b[0;34m(\u001b[0m\u001b[0mm21ObjectIn\u001b[0m\u001b[0;34m,\u001b[0m \u001b[0mmakeNotation\u001b[0m\u001b[0;34m=\u001b[0m\u001b[0;32mFalse\u001b[0m\u001b[0;34m)\u001b[0m\u001b[0;34m\u001b[0m\u001b[0;34m\u001b[0m\u001b[0m\n\u001b[0m\u001b[1;32m    294\u001b[0m         \u001b[0;32melif\u001b[0m \u001b[0;34m'Opus'\u001b[0m \u001b[0;32min\u001b[0m \u001b[0mc\u001b[0m\u001b[0;34m:\u001b[0m\u001b[0;34m\u001b[0m\u001b[0;34m\u001b[0m\u001b[0m\n\u001b[1;32m    295\u001b[0m             \u001b[0mself\u001b[0m\u001b[0;34m.\u001b[0m\u001b[0mloadObjectFromOpus\u001b[0m\u001b[0;34m(\u001b[0m\u001b[0mm21ObjectIn\u001b[0m\u001b[0;34m,\u001b[0m \u001b[0mmakeNotation\u001b[0m\u001b[0;34m=\u001b[0m\u001b[0;32mFalse\u001b[0m\u001b[0;34m)\u001b[0m\u001b[0;34m\u001b[0m\u001b[0;34m\u001b[0m\u001b[0m\n",
      "\u001b[0;32m~/anaconda3/envs/musical_neural_net/lib/python3.7/site-packages/music21/lily/translate.py\u001b[0m in \u001b[0;36mloadObjectFromScore\u001b[0;34m(self, scoreIn, makeNotation)\u001b[0m\n\u001b[1;32m    367\u001b[0m \u001b[0;34m\u001b[0m\u001b[0m\n\u001b[1;32m    368\u001b[0m         \u001b[0;31m# here's the heavy work...\u001b[0m\u001b[0;34m\u001b[0m\u001b[0;34m\u001b[0m\u001b[0;34m\u001b[0m\u001b[0m\n\u001b[0;32m--> 369\u001b[0;31m         \u001b[0mlpScoreBlock\u001b[0m \u001b[0;34m=\u001b[0m \u001b[0mself\u001b[0m\u001b[0;34m.\u001b[0m\u001b[0mlyScoreBlockFromScore\u001b[0m\u001b[0;34m(\u001b[0m\u001b[0mscoreIn\u001b[0m\u001b[0;34m)\u001b[0m\u001b[0;34m\u001b[0m\u001b[0;34m\u001b[0m\u001b[0m\n\u001b[0m\u001b[1;32m    370\u001b[0m \u001b[0;34m\u001b[0m\u001b[0m\n\u001b[1;32m    371\u001b[0m         \u001b[0mlpOutputDefHead\u001b[0m \u001b[0;34m=\u001b[0m \u001b[0mlyo\u001b[0m\u001b[0;34m.\u001b[0m\u001b[0mLyOutputDefHead\u001b[0m\u001b[0;34m(\u001b[0m\u001b[0mdefType\u001b[0m\u001b[0;34m=\u001b[0m\u001b[0;34m'paper'\u001b[0m\u001b[0;34m)\u001b[0m\u001b[0;34m\u001b[0m\u001b[0;34m\u001b[0m\u001b[0m\n",
      "\u001b[0;32m~/anaconda3/envs/musical_neural_net/lib/python3.7/site-packages/music21/lily/translate.py\u001b[0m in \u001b[0;36mlyScoreBlockFromScore\u001b[0;34m(self, scoreIn)\u001b[0m\n\u001b[1;32m    397\u001b[0m                                                        scoreInit=lpPartsAndOssiaInit)\n\u001b[1;32m    398\u001b[0m             \u001b[0;32melse\u001b[0m\u001b[0;34m:\u001b[0m\u001b[0;34m\u001b[0m\u001b[0;34m\u001b[0m\u001b[0m\n\u001b[0;32m--> 399\u001b[0;31m                 \u001b[0mlpGroupedMusicList\u001b[0m \u001b[0;34m=\u001b[0m \u001b[0mself\u001b[0m\u001b[0;34m.\u001b[0m\u001b[0mlyGroupedMusicListFromScoreWithParts\u001b[0m\u001b[0;34m(\u001b[0m\u001b[0mscoreIn\u001b[0m\u001b[0;34m)\u001b[0m\u001b[0;34m\u001b[0m\u001b[0;34m\u001b[0m\u001b[0m\n\u001b[0m\u001b[1;32m    400\u001b[0m             \u001b[0mlpCompositeMusic\u001b[0m\u001b[0;34m.\u001b[0m\u001b[0mgroupedMusicList\u001b[0m \u001b[0;34m=\u001b[0m \u001b[0mlpGroupedMusicList\u001b[0m\u001b[0;34m\u001b[0m\u001b[0;34m\u001b[0m\u001b[0m\n\u001b[1;32m    401\u001b[0m         \u001b[0;32melse\u001b[0m\u001b[0;34m:\u001b[0m\u001b[0;34m\u001b[0m\u001b[0;34m\u001b[0m\u001b[0m\n",
      "\u001b[0;32m~/anaconda3/envs/musical_neural_net/lib/python3.7/site-packages/music21/lily/translate.py\u001b[0m in \u001b[0;36mlyGroupedMusicListFromScoreWithParts\u001b[0;34m(self, scoreIn, scoreInit)\u001b[0m\n\u001b[1;32m    678\u001b[0m         \u001b[0;32mif\u001b[0m \u001b[0mscoreInit\u001b[0m \u001b[0;32mis\u001b[0m \u001b[0;32mNone\u001b[0m\u001b[0;34m:\u001b[0m\u001b[0;34m\u001b[0m\u001b[0;34m\u001b[0m\u001b[0m\n\u001b[1;32m    679\u001b[0m             \u001b[0;32mfor\u001b[0m \u001b[0mp\u001b[0m \u001b[0;32min\u001b[0m \u001b[0mscoreIn\u001b[0m\u001b[0;34m.\u001b[0m\u001b[0mparts\u001b[0m\u001b[0;34m:\u001b[0m\u001b[0;34m\u001b[0m\u001b[0;34m\u001b[0m\u001b[0m\n\u001b[0;32m--> 680\u001b[0;31m                 \u001b[0mcompositeMusicList\u001b[0m\u001b[0;34m.\u001b[0m\u001b[0mappend\u001b[0m\u001b[0;34m(\u001b[0m\u001b[0mself\u001b[0m\u001b[0;34m.\u001b[0m\u001b[0mlyPrefixCompositeMusicFromStream\u001b[0m\u001b[0;34m(\u001b[0m\u001b[0mp\u001b[0m\u001b[0;34m)\u001b[0m\u001b[0;34m)\u001b[0m\u001b[0;34m\u001b[0m\u001b[0;34m\u001b[0m\u001b[0m\n\u001b[0m\u001b[1;32m    681\u001b[0m         \u001b[0;32melse\u001b[0m\u001b[0;34m:\u001b[0m\u001b[0;34m\u001b[0m\u001b[0;34m\u001b[0m\u001b[0m\n\u001b[1;32m    682\u001b[0m             \u001b[0mcompositeMusicList\u001b[0m\u001b[0;34m.\u001b[0m\u001b[0mappend\u001b[0m\u001b[0;34m(\u001b[0m\u001b[0mscoreInit\u001b[0m\u001b[0;34m)\u001b[0m\u001b[0;34m\u001b[0m\u001b[0;34m\u001b[0m\u001b[0m\n",
      "\u001b[0;32m~/anaconda3/envs/musical_neural_net/lib/python3.7/site-packages/music21/lily/translate.py\u001b[0m in \u001b[0;36mlyPrefixCompositeMusicFromStream\u001b[0;34m(self, streamIn, contextType, type, beforeMatter)\u001b[0m\n\u001b[1;32m    897\u001b[0m         \u001b[0mlpNewLyrics\u001b[0m \u001b[0;34m=\u001b[0m \u001b[0mself\u001b[0m\u001b[0;34m.\u001b[0m\u001b[0mlyNewLyricsFromStream\u001b[0m\u001b[0;34m(\u001b[0m\u001b[0mstreamIn\u001b[0m\u001b[0;34m,\u001b[0m \u001b[0mstreamId\u001b[0m\u001b[0;34m=\u001b[0m\u001b[0mmakeLettersOnlyId\u001b[0m\u001b[0;34m(\u001b[0m\u001b[0mstreamIn\u001b[0m\u001b[0;34m.\u001b[0m\u001b[0mid\u001b[0m\u001b[0;34m)\u001b[0m\u001b[0;34m)\u001b[0m\u001b[0;34m\u001b[0m\u001b[0;34m\u001b[0m\u001b[0m\n\u001b[1;32m    898\u001b[0m \u001b[0;34m\u001b[0m\u001b[0m\n\u001b[0;32m--> 899\u001b[0;31m         \u001b[0mlpSequentialMusic\u001b[0m \u001b[0;34m=\u001b[0m \u001b[0mself\u001b[0m\u001b[0;34m.\u001b[0m\u001b[0mlySequentialMusicFromStream\u001b[0m\u001b[0;34m(\u001b[0m\u001b[0mstreamIn\u001b[0m\u001b[0;34m,\u001b[0m \u001b[0mbeforeMatter\u001b[0m\u001b[0;34m=\u001b[0m\u001b[0mbeforeMatter\u001b[0m\u001b[0;34m)\u001b[0m\u001b[0;34m\u001b[0m\u001b[0;34m\u001b[0m\u001b[0m\n\u001b[0m\u001b[1;32m    900\u001b[0m         \u001b[0mlpGroupedMusicList\u001b[0m \u001b[0;34m=\u001b[0m \u001b[0mlyo\u001b[0m\u001b[0;34m.\u001b[0m\u001b[0mLyGroupedMusicList\u001b[0m\u001b[0;34m(\u001b[0m\u001b[0msequentialMusic\u001b[0m\u001b[0;34m=\u001b[0m\u001b[0mlpSequentialMusic\u001b[0m\u001b[0;34m)\u001b[0m\u001b[0;34m\u001b[0m\u001b[0;34m\u001b[0m\u001b[0m\n\u001b[1;32m    901\u001b[0m         lpCompositeMusic = lyo.LyCompositeMusic(groupedMusicList=lpGroupedMusicList,\n",
      "\u001b[0;32m~/anaconda3/envs/musical_neural_net/lib/python3.7/site-packages/music21/lily/translate.py\u001b[0m in \u001b[0;36mlySequentialMusicFromStream\u001b[0;34m(self, streamIn, beforeMatter)\u001b[0m\n\u001b[1;32m    826\u001b[0m                                                   beforeMatter=beforeMatter)\n\u001b[1;32m    827\u001b[0m         \u001b[0mself\u001b[0m\u001b[0;34m.\u001b[0m\u001b[0mnewContext\u001b[0m\u001b[0;34m(\u001b[0m\u001b[0mlpMusicList\u001b[0m\u001b[0;34m)\u001b[0m\u001b[0;34m\u001b[0m\u001b[0;34m\u001b[0m\u001b[0m\n\u001b[0;32m--> 828\u001b[0;31m         \u001b[0mself\u001b[0m\u001b[0;34m.\u001b[0m\u001b[0mappendObjectsToContextFromStream\u001b[0m\u001b[0;34m(\u001b[0m\u001b[0mstreamIn\u001b[0m\u001b[0;34m)\u001b[0m\u001b[0;34m\u001b[0m\u001b[0;34m\u001b[0m\u001b[0m\n\u001b[0m\u001b[1;32m    829\u001b[0m \u001b[0;34m\u001b[0m\u001b[0m\n\u001b[1;32m    830\u001b[0m         \u001b[0mlyObject\u001b[0m \u001b[0;34m=\u001b[0m \u001b[0mself\u001b[0m\u001b[0;34m.\u001b[0m\u001b[0mcloseMeasure\u001b[0m\u001b[0;34m(\u001b[0m\u001b[0;34m)\u001b[0m\u001b[0;34m\u001b[0m\u001b[0;34m\u001b[0m\u001b[0m\n",
      "\u001b[0;32m~/anaconda3/envs/musical_neural_net/lib/python3.7/site-packages/music21/lily/translate.py\u001b[0m in \u001b[0;36mappendObjectsToContextFromStream\u001b[0;34m(self, streamObject)\u001b[0m\n\u001b[1;32m   1006\u001b[0m                     \u001b[0;32mfor\u001b[0m \u001b[0mvoice\u001b[0m \u001b[0;32min\u001b[0m \u001b[0mvoiceList\u001b[0m\u001b[0;34m:\u001b[0m\u001b[0;34m\u001b[0m\u001b[0;34m\u001b[0m\u001b[0m\n\u001b[1;32m   1007\u001b[0m                         \u001b[0;32mif\u001b[0m \u001b[0mvoice\u001b[0m \u001b[0;32mnot\u001b[0m \u001b[0;32min\u001b[0m \u001b[0mself\u001b[0m\u001b[0;34m.\u001b[0m\u001b[0mdoNotOutput\u001b[0m\u001b[0;34m:\u001b[0m\u001b[0;34m\u001b[0m\u001b[0;34m\u001b[0m\u001b[0m\n\u001b[0;32m-> 1008\u001b[0;31m                             \u001b[0mlpPrefixCompositeMusic\u001b[0m \u001b[0;34m=\u001b[0m \u001b[0mself\u001b[0m\u001b[0;34m.\u001b[0m\u001b[0mlyPrefixCompositeMusicFromStream\u001b[0m\u001b[0;34m(\u001b[0m\u001b[0mvoice\u001b[0m\u001b[0;34m)\u001b[0m\u001b[0;34m\u001b[0m\u001b[0;34m\u001b[0m\u001b[0m\n\u001b[0m\u001b[1;32m   1009\u001b[0m                             \u001b[0mmusicList2\u001b[0m\u001b[0;34m.\u001b[0m\u001b[0mappend\u001b[0m\u001b[0;34m(\u001b[0m\u001b[0mlpPrefixCompositeMusic\u001b[0m\u001b[0;34m)\u001b[0m\u001b[0;34m\u001b[0m\u001b[0;34m\u001b[0m\u001b[0m\n\u001b[1;32m   1010\u001b[0m \u001b[0;34m\u001b[0m\u001b[0m\n",
      "\u001b[0;32m~/anaconda3/envs/musical_neural_net/lib/python3.7/site-packages/music21/lily/translate.py\u001b[0m in \u001b[0;36mlyPrefixCompositeMusicFromStream\u001b[0;34m(self, streamIn, contextType, type, beforeMatter)\u001b[0m\n\u001b[1;32m    897\u001b[0m         \u001b[0mlpNewLyrics\u001b[0m \u001b[0;34m=\u001b[0m \u001b[0mself\u001b[0m\u001b[0;34m.\u001b[0m\u001b[0mlyNewLyricsFromStream\u001b[0m\u001b[0;34m(\u001b[0m\u001b[0mstreamIn\u001b[0m\u001b[0;34m,\u001b[0m \u001b[0mstreamId\u001b[0m\u001b[0;34m=\u001b[0m\u001b[0mmakeLettersOnlyId\u001b[0m\u001b[0;34m(\u001b[0m\u001b[0mstreamIn\u001b[0m\u001b[0;34m.\u001b[0m\u001b[0mid\u001b[0m\u001b[0;34m)\u001b[0m\u001b[0;34m)\u001b[0m\u001b[0;34m\u001b[0m\u001b[0;34m\u001b[0m\u001b[0m\n\u001b[1;32m    898\u001b[0m \u001b[0;34m\u001b[0m\u001b[0m\n\u001b[0;32m--> 899\u001b[0;31m         \u001b[0mlpSequentialMusic\u001b[0m \u001b[0;34m=\u001b[0m \u001b[0mself\u001b[0m\u001b[0;34m.\u001b[0m\u001b[0mlySequentialMusicFromStream\u001b[0m\u001b[0;34m(\u001b[0m\u001b[0mstreamIn\u001b[0m\u001b[0;34m,\u001b[0m \u001b[0mbeforeMatter\u001b[0m\u001b[0;34m=\u001b[0m\u001b[0mbeforeMatter\u001b[0m\u001b[0;34m)\u001b[0m\u001b[0;34m\u001b[0m\u001b[0;34m\u001b[0m\u001b[0m\n\u001b[0m\u001b[1;32m    900\u001b[0m         \u001b[0mlpGroupedMusicList\u001b[0m \u001b[0;34m=\u001b[0m \u001b[0mlyo\u001b[0m\u001b[0;34m.\u001b[0m\u001b[0mLyGroupedMusicList\u001b[0m\u001b[0;34m(\u001b[0m\u001b[0msequentialMusic\u001b[0m\u001b[0;34m=\u001b[0m\u001b[0mlpSequentialMusic\u001b[0m\u001b[0;34m)\u001b[0m\u001b[0;34m\u001b[0m\u001b[0;34m\u001b[0m\u001b[0m\n\u001b[1;32m    901\u001b[0m         lpCompositeMusic = lyo.LyCompositeMusic(groupedMusicList=lpGroupedMusicList,\n",
      "\u001b[0;32m~/anaconda3/envs/musical_neural_net/lib/python3.7/site-packages/music21/lily/translate.py\u001b[0m in \u001b[0;36mlySequentialMusicFromStream\u001b[0;34m(self, streamIn, beforeMatter)\u001b[0m\n\u001b[1;32m    826\u001b[0m                                                   beforeMatter=beforeMatter)\n\u001b[1;32m    827\u001b[0m         \u001b[0mself\u001b[0m\u001b[0;34m.\u001b[0m\u001b[0mnewContext\u001b[0m\u001b[0;34m(\u001b[0m\u001b[0mlpMusicList\u001b[0m\u001b[0;34m)\u001b[0m\u001b[0;34m\u001b[0m\u001b[0;34m\u001b[0m\u001b[0m\n\u001b[0;32m--> 828\u001b[0;31m         \u001b[0mself\u001b[0m\u001b[0;34m.\u001b[0m\u001b[0mappendObjectsToContextFromStream\u001b[0m\u001b[0;34m(\u001b[0m\u001b[0mstreamIn\u001b[0m\u001b[0;34m)\u001b[0m\u001b[0;34m\u001b[0m\u001b[0;34m\u001b[0m\u001b[0m\n\u001b[0m\u001b[1;32m    829\u001b[0m \u001b[0;34m\u001b[0m\u001b[0m\n\u001b[1;32m    830\u001b[0m         \u001b[0mlyObject\u001b[0m \u001b[0;34m=\u001b[0m \u001b[0mself\u001b[0m\u001b[0;34m.\u001b[0m\u001b[0mcloseMeasure\u001b[0m\u001b[0;34m(\u001b[0m\u001b[0;34m)\u001b[0m\u001b[0;34m\u001b[0m\u001b[0;34m\u001b[0m\u001b[0m\n",
      "\u001b[0;32m~/anaconda3/envs/musical_neural_net/lib/python3.7/site-packages/music21/lily/translate.py\u001b[0m in \u001b[0;36mappendObjectsToContextFromStream\u001b[0;34m(self, streamObject)\u001b[0m\n\u001b[1;32m    974\u001b[0m                 \u001b[0mel\u001b[0m \u001b[0;34m=\u001b[0m \u001b[0mgroupedElements\u001b[0m\u001b[0;34m[\u001b[0m\u001b[0;36m0\u001b[0m\u001b[0;34m]\u001b[0m\u001b[0;34m\u001b[0m\u001b[0;34m\u001b[0m\u001b[0m\n\u001b[1;32m    975\u001b[0m                 \u001b[0mel\u001b[0m\u001b[0;34m.\u001b[0m\u001b[0mactiveSite\u001b[0m \u001b[0;34m=\u001b[0m \u001b[0mstreamObject\u001b[0m\u001b[0;34m\u001b[0m\u001b[0;34m\u001b[0m\u001b[0m\n\u001b[0;32m--> 976\u001b[0;31m                 \u001b[0mself\u001b[0m\u001b[0;34m.\u001b[0m\u001b[0mappendM21ObjectToContext\u001b[0m\u001b[0;34m(\u001b[0m\u001b[0mel\u001b[0m\u001b[0;34m)\u001b[0m\u001b[0;34m\u001b[0m\u001b[0;34m\u001b[0m\u001b[0m\n\u001b[0m\u001b[1;32m    977\u001b[0m             \u001b[0;32melse\u001b[0m\u001b[0;34m:\u001b[0m \u001b[0;31m# voices or other More than one thing at once...\u001b[0m\u001b[0;34m\u001b[0m\u001b[0;34m\u001b[0m\u001b[0m\n\u001b[1;32m    978\u001b[0m                 \u001b[0;31m# if voices\u001b[0m\u001b[0;34m\u001b[0m\u001b[0;34m\u001b[0m\u001b[0;34m\u001b[0m\u001b[0m\n",
      "\u001b[0;32m~/anaconda3/envs/musical_neural_net/lib/python3.7/site-packages/music21/lily/translate.py\u001b[0m in \u001b[0;36mappendM21ObjectToContext\u001b[0;34m(self, thisObject)\u001b[0m\n\u001b[1;32m   1078\u001b[0m             \u001b[0;31m#    raise Exception(\"Cannot parse %s: %s\" % (thisObject, str(ae)))\u001b[0m\u001b[0;34m\u001b[0m\u001b[0;34m\u001b[0m\u001b[0;34m\u001b[0m\u001b[0m\n\u001b[1;32m   1079\u001b[0m         \u001b[0;32melif\u001b[0m \u001b[0;34m\"Note\"\u001b[0m \u001b[0;32min\u001b[0m \u001b[0mc\u001b[0m \u001b[0;32mor\u001b[0m \u001b[0;34m\"Rest\"\u001b[0m \u001b[0;32min\u001b[0m \u001b[0mc\u001b[0m\u001b[0;34m:\u001b[0m\u001b[0;34m\u001b[0m\u001b[0;34m\u001b[0m\u001b[0m\n\u001b[0;32m-> 1080\u001b[0;31m             \u001b[0mself\u001b[0m\u001b[0;34m.\u001b[0m\u001b[0mappendContextFromNoteOrRest\u001b[0m\u001b[0;34m(\u001b[0m\u001b[0mthisObject\u001b[0m\u001b[0;34m)\u001b[0m\u001b[0;34m\u001b[0m\u001b[0;34m\u001b[0m\u001b[0m\n\u001b[0m\u001b[1;32m   1081\u001b[0m         \u001b[0;32melif\u001b[0m \u001b[0;34m\"Chord\"\u001b[0m \u001b[0;32min\u001b[0m \u001b[0mc\u001b[0m\u001b[0;34m:\u001b[0m\u001b[0;34m\u001b[0m\u001b[0;34m\u001b[0m\u001b[0m\n\u001b[1;32m   1082\u001b[0m             \u001b[0mself\u001b[0m\u001b[0;34m.\u001b[0m\u001b[0mappendContextFromChord\u001b[0m\u001b[0;34m(\u001b[0m\u001b[0mthisObject\u001b[0m\u001b[0;34m)\u001b[0m\u001b[0;34m\u001b[0m\u001b[0;34m\u001b[0m\u001b[0m\n",
      "\u001b[0;32m~/anaconda3/envs/musical_neural_net/lib/python3.7/site-packages/music21/lily/translate.py\u001b[0m in \u001b[0;36mappendContextFromNoteOrRest\u001b[0;34m(self, noteOrRest)\u001b[0m\n\u001b[1;32m   1170\u001b[0m         \u001b[0mself\u001b[0m\u001b[0;34m.\u001b[0m\u001b[0mappendStemCode\u001b[0m\u001b[0;34m(\u001b[0m\u001b[0mnoteOrRest\u001b[0m\u001b[0;34m)\u001b[0m\u001b[0;34m\u001b[0m\u001b[0;34m\u001b[0m\u001b[0m\n\u001b[1;32m   1171\u001b[0m \u001b[0;34m\u001b[0m\u001b[0m\n\u001b[0;32m-> 1172\u001b[0;31m         \u001b[0mlpSimpleMusic\u001b[0m \u001b[0;34m=\u001b[0m \u001b[0mself\u001b[0m\u001b[0;34m.\u001b[0m\u001b[0mlySimpleMusicFromNoteOrRest\u001b[0m\u001b[0;34m(\u001b[0m\u001b[0mnoteOrRest\u001b[0m\u001b[0;34m)\u001b[0m\u001b[0;34m\u001b[0m\u001b[0;34m\u001b[0m\u001b[0m\n\u001b[0m\u001b[1;32m   1173\u001b[0m         \u001b[0mself\u001b[0m\u001b[0;34m.\u001b[0m\u001b[0mcontext\u001b[0m\u001b[0;34m.\u001b[0m\u001b[0mcontents\u001b[0m\u001b[0;34m.\u001b[0m\u001b[0mappend\u001b[0m\u001b[0;34m(\u001b[0m\u001b[0mlpSimpleMusic\u001b[0m\u001b[0;34m)\u001b[0m\u001b[0;34m\u001b[0m\u001b[0;34m\u001b[0m\u001b[0m\n\u001b[1;32m   1174\u001b[0m         \u001b[0mlpSimpleMusic\u001b[0m\u001b[0;34m.\u001b[0m\u001b[0msetParent\u001b[0m\u001b[0;34m(\u001b[0m\u001b[0mself\u001b[0m\u001b[0;34m.\u001b[0m\u001b[0mcontext\u001b[0m\u001b[0;34m)\u001b[0m\u001b[0;34m\u001b[0m\u001b[0;34m\u001b[0m\u001b[0m\n",
      "\u001b[0;32m~/anaconda3/envs/musical_neural_net/lib/python3.7/site-packages/music21/lily/translate.py\u001b[0m in \u001b[0;36mlySimpleMusicFromNoteOrRest\u001b[0;34m(self, noteOrRest)\u001b[0m\n\u001b[1;32m   1292\u001b[0m                 \u001b[0msimpleElementParts\u001b[0m\u001b[0;34m.\u001b[0m\u001b[0mappend\u001b[0m\u001b[0;34m(\u001b[0m\u001b[0;34m\"r \"\u001b[0m\u001b[0;34m)\u001b[0m\u001b[0;34m\u001b[0m\u001b[0;34m\u001b[0m\u001b[0m\n\u001b[1;32m   1293\u001b[0m \u001b[0;34m\u001b[0m\u001b[0m\n\u001b[0;32m-> 1294\u001b[0;31m         \u001b[0mlpMultipliedDuration\u001b[0m \u001b[0;34m=\u001b[0m \u001b[0mself\u001b[0m\u001b[0;34m.\u001b[0m\u001b[0mlyMultipliedDurationFromDuration\u001b[0m\u001b[0;34m(\u001b[0m\u001b[0mnoteOrRest\u001b[0m\u001b[0;34m.\u001b[0m\u001b[0mduration\u001b[0m\u001b[0;34m)\u001b[0m\u001b[0;34m\u001b[0m\u001b[0;34m\u001b[0m\u001b[0m\n\u001b[0m\u001b[1;32m   1295\u001b[0m         \u001b[0msimpleElementParts\u001b[0m\u001b[0;34m.\u001b[0m\u001b[0mappend\u001b[0m\u001b[0;34m(\u001b[0m\u001b[0mlpMultipliedDuration\u001b[0m\u001b[0;34m)\u001b[0m\u001b[0;34m\u001b[0m\u001b[0;34m\u001b[0m\u001b[0m\n\u001b[1;32m   1296\u001b[0m \u001b[0;34m\u001b[0m\u001b[0m\n",
      "\u001b[0;32m~/anaconda3/envs/musical_neural_net/lib/python3.7/site-packages/music21/lily/translate.py\u001b[0m in \u001b[0;36mlyMultipliedDurationFromDuration\u001b[0;34m(self, durationObj)\u001b[0m\n\u001b[1;32m   1560\u001b[0m         \u001b[0;32mif\u001b[0m \u001b[0mnumber_type\u001b[0m \u001b[0;34m==\u001b[0m \u001b[0;36m0\u001b[0m\u001b[0;34m:\u001b[0m\u001b[0;34m\u001b[0m\u001b[0;34m\u001b[0m\u001b[0m\n\u001b[1;32m   1561\u001b[0m             raise LilyTranslateException(\n\u001b[0;32m-> 1562\u001b[0;31m                 'Cannot translate an object of zero duration %s' % durationObj)\n\u001b[0m\u001b[1;32m   1563\u001b[0m \u001b[0;34m\u001b[0m\u001b[0m\n\u001b[1;32m   1564\u001b[0m         \u001b[0;32mif\u001b[0m \u001b[0mnumber_type\u001b[0m \u001b[0;34m<\u001b[0m \u001b[0;36m1\u001b[0m\u001b[0;34m:\u001b[0m\u001b[0;34m\u001b[0m\u001b[0;34m\u001b[0m\u001b[0m\n",
      "\u001b[0;31mLilyTranslateException\u001b[0m: Cannot translate an object of zero duration <music21.duration.Duration 0.0>"
     ]
    }
   ],
   "source": [
    "from IPython.display import Image\n",
    "Image(filename=str(s.write('lily.png')))"
   ]
  },
  {
   "cell_type": "code",
   "execution_count": 198,
   "metadata": {},
   "outputs": [
    {
     "name": "stdout",
     "output_type": "stream",
     "text": [
      "> \u001b[0;32m/home/ubuntu/anaconda3/envs/musical_neural_net/lib/python3.7/site-packages/music21/lily/translate.py\u001b[0m(1562)\u001b[0;36mlyMultipliedDurationFromDuration\u001b[0;34m()\u001b[0m\n",
      "\u001b[0;32m   1560 \u001b[0;31m        \u001b[0;32mif\u001b[0m \u001b[0mnumber_type\u001b[0m \u001b[0;34m==\u001b[0m \u001b[0;36m0\u001b[0m\u001b[0;34m:\u001b[0m\u001b[0;34m\u001b[0m\u001b[0;34m\u001b[0m\u001b[0m\n",
      "\u001b[0m\u001b[0;32m   1561 \u001b[0;31m            raise LilyTranslateException(\n",
      "\u001b[0m\u001b[0;32m-> 1562 \u001b[0;31m                'Cannot translate an object of zero duration %s' % durationObj)\n",
      "\u001b[0m\u001b[0;32m   1563 \u001b[0;31m\u001b[0;34m\u001b[0m\u001b[0m\n",
      "\u001b[0m\u001b[0;32m   1564 \u001b[0;31m        \u001b[0;32mif\u001b[0m \u001b[0mnumber_type\u001b[0m \u001b[0;34m<\u001b[0m \u001b[0;36m1\u001b[0m\u001b[0;34m:\u001b[0m\u001b[0;34m\u001b[0m\u001b[0;34m\u001b[0m\u001b[0m\n",
      "\u001b[0m\n",
      "ipdb> number_type\n",
      "0.0\n",
      "ipdb> noteOrRest.duration\n",
      "*** NameError: name 'noteOrRest' is not defined\n",
      "ipdb> up\n",
      "> \u001b[0;32m/home/ubuntu/anaconda3/envs/musical_neural_net/lib/python3.7/site-packages/music21/lily/translate.py\u001b[0m(1294)\u001b[0;36mlySimpleMusicFromNoteOrRest\u001b[0;34m()\u001b[0m\n",
      "\u001b[0;32m   1292 \u001b[0;31m                \u001b[0msimpleElementParts\u001b[0m\u001b[0;34m.\u001b[0m\u001b[0mappend\u001b[0m\u001b[0;34m(\u001b[0m\u001b[0;34m\"r \"\u001b[0m\u001b[0;34m)\u001b[0m\u001b[0;34m\u001b[0m\u001b[0;34m\u001b[0m\u001b[0m\n",
      "\u001b[0m\u001b[0;32m   1293 \u001b[0;31m\u001b[0;34m\u001b[0m\u001b[0m\n",
      "\u001b[0m\u001b[0;32m-> 1294 \u001b[0;31m        \u001b[0mlpMultipliedDuration\u001b[0m \u001b[0;34m=\u001b[0m \u001b[0mself\u001b[0m\u001b[0;34m.\u001b[0m\u001b[0mlyMultipliedDurationFromDuration\u001b[0m\u001b[0;34m(\u001b[0m\u001b[0mnoteOrRest\u001b[0m\u001b[0;34m.\u001b[0m\u001b[0mduration\u001b[0m\u001b[0;34m)\u001b[0m\u001b[0;34m\u001b[0m\u001b[0;34m\u001b[0m\u001b[0m\n",
      "\u001b[0m\u001b[0;32m   1295 \u001b[0;31m        \u001b[0msimpleElementParts\u001b[0m\u001b[0;34m.\u001b[0m\u001b[0mappend\u001b[0m\u001b[0;34m(\u001b[0m\u001b[0mlpMultipliedDuration\u001b[0m\u001b[0;34m)\u001b[0m\u001b[0;34m\u001b[0m\u001b[0;34m\u001b[0m\u001b[0m\n",
      "\u001b[0m\u001b[0;32m   1296 \u001b[0;31m\u001b[0;34m\u001b[0m\u001b[0m\n",
      "\u001b[0m\n",
      "ipdb> noteOrRest\n",
      "<music21.note.Note C#>\n",
      "ipdb> noteOrRest.duration\n",
      "<music21.duration.Duration 0.0>\n",
      "ipdb> quit\n"
     ]
    }
   ],
   "source": [
    "%debug"
   ]
  },
  {
   "cell_type": "code",
   "execution_count": 229,
   "metadata": {},
   "outputs": [
    {
     "data": {
      "text/plain": [
       "[<music21.stream.Part 0x7f2d9db902e8>]"
      ]
     },
     "execution_count": 229,
     "metadata": {},
     "output_type": "execute_result"
    }
   ],
   "source": [
    "[x for x in s]"
   ]
  },
  {
   "cell_type": "code",
   "execution_count": 231,
   "metadata": {},
   "outputs": [],
   "source": [
    "s_flat = s.flat"
   ]
  },
  {
   "cell_type": "code",
   "execution_count": 237,
   "metadata": {},
   "outputs": [
    {
     "data": {
      "text/plain": [
       "[(<music21.note.Note F>, <music21.duration.Duration 0.25>),\n",
       " (<music21.note.Note C#>, <music21.duration.Duration 1.0>),\n",
       " (<music21.note.Note F>, <music21.duration.Duration 0.25>),\n",
       " (<music21.note.Note G#>, <music21.duration.Duration 0.25>),\n",
       " (<music21.note.Note C#>, <music21.duration.Duration 0.5>),\n",
       " (<music21.note.Note F#>, <music21.duration.Duration 0.25>),\n",
       " (<music21.note.Note E->, <music21.duration.Duration 1.0>),\n",
       " (<music21.note.Note C>, <music21.duration.Duration 0.25>),\n",
       " (<music21.note.Note B->, <music21.duration.Duration 0.25>),\n",
       " (<music21.chord.Chord F5 F#5>, <music21.duration.Duration 0.0>),\n",
       " (<music21.note.Note F>, <music21.duration.Duration 1.5>),\n",
       " (<music21.note.Note G#>, <music21.duration.Duration 1.25>),\n",
       " (<music21.note.Note G#>, <music21.duration.Duration 0.25>),\n",
       " (<music21.note.Note C>, <music21.duration.Duration 0.25>),\n",
       " (<music21.note.Note C#>, <music21.duration.Duration 2.75>),\n",
       " (<music21.note.Note F>, <music21.duration.Duration 0.5>),\n",
       " (<music21.note.Note F#>, <music21.duration.Duration 0.5>),\n",
       " (<music21.note.Note B->, <music21.duration.Duration 0.25>),\n",
       " (<music21.note.Note F>, <music21.duration.Duration 0.5>),\n",
       " (<music21.note.Note G#>, <music21.duration.Duration 0.25>),\n",
       " (<music21.note.Note E->, <music21.duration.Duration 1.0>),\n",
       " (<music21.note.Note F#>, <music21.duration.Duration 0.25>),\n",
       " (<music21.note.Note F>, <music21.duration.Duration 0.25>),\n",
       " (<music21.note.Note C>, <music21.duration.Duration 0.5>),\n",
       " (<music21.note.Note F#>, <music21.duration.Duration 0.25>),\n",
       " (<music21.note.Note C#>, <music21.duration.Duration 1.25>),\n",
       " (<music21.note.Note F#>, <music21.duration.Duration 0.25>),\n",
       " (<music21.note.Note F>, <music21.duration.Duration 0.25>),\n",
       " (<music21.note.Note F>, <music21.duration.Duration 0.5>),\n",
       " (<music21.note.Note E->, <music21.duration.Duration 0.25>),\n",
       " (<music21.note.Note C#>, <music21.duration.Duration 0.25>),\n",
       " (<music21.note.Note G#>, <music21.duration.Duration 0.5>),\n",
       " (<music21.note.Note F>, <music21.duration.Duration 1.25>),\n",
       " (<music21.note.Note C>, <music21.duration.Duration 0.25>),\n",
       " (<music21.note.Note B->, <music21.duration.Duration 0.25>),\n",
       " (<music21.note.Note C#>, <music21.duration.Duration 0.5>),\n",
       " (<music21.note.Note G#>, <music21.duration.Duration 0.25>),\n",
       " (<music21.note.Note G>, <music21.duration.Duration 1.5>),\n",
       " (<music21.note.Note B->, <music21.duration.Duration 0.5>),\n",
       " (<music21.note.Note B->, <music21.duration.Duration 0.25>),\n",
       " (<music21.note.Note B->, <music21.duration.Duration 0.5>),\n",
       " (<music21.note.Note E->, <music21.duration.Duration 0.25>),\n",
       " (<music21.note.Note B->, <music21.duration.Duration 0.25>),\n",
       " (<music21.note.Note E->, <music21.duration.Duration 1.0>),\n",
       " (<music21.note.Note C#>, <music21.duration.Duration 0.25>),\n",
       " (<music21.note.Note C>, <music21.duration.Duration 0.25>),\n",
       " (<music21.note.Note C#>, <music21.duration.Duration 0.25>),\n",
       " (<music21.note.Note B->, <music21.duration.Duration 0.25>),\n",
       " (<music21.note.Note G#>, <music21.duration.Duration 1.5>),\n",
       " (<music21.note.Note C#>, <music21.duration.Duration 0.25>),\n",
       " (<music21.note.Note C>, <music21.duration.Duration 0.25>),\n",
       " (<music21.note.Note C>, <music21.duration.Duration 0.5>),\n",
       " (<music21.note.Note B->, <music21.duration.Duration 0.25>),\n",
       " (<music21.note.Note G#>, <music21.duration.Duration 0.25>),\n",
       " (<music21.note.Note E->, <music21.duration.Duration 1.0>),\n",
       " (<music21.note.Note B->, <music21.duration.Duration 0.25>),\n",
       " (<music21.note.Note C>, <music21.duration.Duration 0.25>),\n",
       " (<music21.note.Note F#>, <music21.duration.Duration 0.5>),\n",
       " (<music21.note.Note C#>, <music21.duration.Duration 0.25>),\n",
       " (<music21.note.Note C>, <music21.duration.Duration 0.25>),\n",
       " (<music21.note.Note F>, <music21.duration.Duration 1.0>),\n",
       " (<music21.note.Note G#>, <music21.duration.Duration 0.5>),\n",
       " (<music21.note.Note C#>, <music21.duration.Duration 0.25>),\n",
       " (<music21.note.Note E->, <music21.duration.Duration 0.25>),\n",
       " (<music21.note.Note C#>, <music21.duration.Duration 1.0>),\n",
       " (<music21.note.Note C#>, <music21.duration.Duration 0.25>),\n",
       " (<music21.note.Note E->, <music21.duration.Duration 0.25>),\n",
       " (<music21.note.Note E->, <music21.duration.Duration 1.0>),\n",
       " (<music21.note.Note C>, <music21.duration.Duration 0.5>),\n",
       " (<music21.chord.Chord C#5 E-5>, <music21.duration.Duration 0.0>),\n",
       " (<music21.note.Note C#>, <music21.duration.Duration 0.25>),\n",
       " (<music21.note.Note F>, <music21.duration.Duration 1.25>),\n",
       " (<music21.note.Note F>, <music21.duration.Duration 0.25>),\n",
       " (<music21.note.Note G#>, <music21.duration.Duration 0.25>),\n",
       " (<music21.note.Note C#>, <music21.duration.Duration 0.0>),\n",
       " (<music21.chord.Chord E-4 B-5>, <music21.duration.Duration 0.25>),\n",
       " (<music21.chord.Chord F4 A5>, <music21.duration.Duration 0.25>),\n",
       " (<music21.note.Note F#>, <music21.duration.Duration 0.5>),\n",
       " (<music21.note.Note B->, <music21.duration.Duration 0.25>),\n",
       " (<music21.note.Note C#>, <music21.duration.Duration 0.5>),\n",
       " (<music21.note.Note B->, <music21.duration.Duration 1.0>),\n",
       " (<music21.note.Note B->, <music21.duration.Duration 0.25>),\n",
       " (<music21.note.Note E->, <music21.duration.Duration 0.5>),\n",
       " (<music21.chord.Chord F4 A4>, <music21.duration.Duration 0.5>),\n",
       " (<music21.note.Note B->, <music21.duration.Duration 0.0>),\n",
       " (<music21.note.Note B->, <music21.duration.Duration 1.0>),\n",
       " (<music21.note.Note F>, <music21.duration.Duration 0.25>),\n",
       " (<music21.note.Note C#>, <music21.duration.Duration 0.25>),\n",
       " (<music21.note.Note F>, <music21.duration.Duration 0.25>),\n",
       " (<music21.note.Note B->, <music21.duration.Duration 0.5>),\n",
       " (<music21.note.Note C>, <music21.duration.Duration 0.5>),\n",
       " (<music21.note.Note B->, <music21.duration.Duration 0.25>),\n",
       " (<music21.note.Note G#>, <music21.duration.Duration 0.25>),\n",
       " (<music21.note.Note E->, <music21.duration.Duration 1.5>),\n",
       " (<music21.note.Note G>, <music21.duration.Duration 0.25>),\n",
       " (<music21.note.Note B->, <music21.duration.Duration 0.25>),\n",
       " (<music21.note.Note F>, <music21.duration.Duration 0.5>),\n",
       " (<music21.note.Note F>, <music21.duration.Duration 0.25>),\n",
       " (<music21.note.Note B->, <music21.duration.Duration 0.25>),\n",
       " (<music21.note.Note G>, <music21.duration.Duration 1.0>),\n",
       " (<music21.note.Note E->, <music21.duration.Duration 0.25>),\n",
       " (<music21.note.Note B->, <music21.duration.Duration 0.25>),\n",
       " (<music21.note.Note G#>, <music21.duration.Duration 0.5>),\n",
       " (<music21.note.Note G#>, <music21.duration.Duration 2.5>),\n",
       " (<music21.note.Note B->, <music21.duration.Duration 0.5>),\n",
       " (<music21.note.Note B->, <music21.duration.Duration 0.25>),\n",
       " (<music21.note.Note C>, <music21.duration.Duration 0.5>),\n",
       " (<music21.note.Note G#>, <music21.duration.Duration 0.25>),\n",
       " (<music21.note.Note F#>, <music21.duration.Duration 0.25>),\n",
       " (<music21.note.Note G#>, <music21.duration.Duration 0.5>),\n",
       " (<music21.note.Note F>, <music21.duration.Duration 0.25>),\n",
       " (<music21.note.Note E->, <music21.duration.Duration 0.25>),\n",
       " (<music21.note.Note C#>, <music21.duration.Duration 2.0>),\n",
       " (<music21.note.Note F>, <music21.duration.Duration 0.25>),\n",
       " (<music21.note.Note G#>, <music21.duration.Duration 0.25>),\n",
       " (<music21.note.Note F#>, <music21.duration.Duration 0.5>),\n",
       " (<music21.note.Note E->, <music21.duration.Duration 0.25>),\n",
       " (<music21.note.Note G#>, <music21.duration.Duration 0.25>),\n",
       " (<music21.note.Note F>, <music21.duration.Duration 0.5>),\n",
       " (<music21.note.Note C#>, <music21.duration.Duration 0.25>),\n",
       " (<music21.note.Note G#>, <music21.duration.Duration 0.25>),\n",
       " (<music21.note.Note E->, <music21.duration.Duration 0.5>),\n",
       " (<music21.note.Note C>, <music21.duration.Duration 0.25>),\n",
       " (<music21.note.Note G#>, <music21.duration.Duration 0.25>),\n",
       " (<music21.note.Note B->, <music21.duration.Duration 0.25>),\n",
       " (<music21.note.Note G#>, <music21.duration.Duration 0.25>),\n",
       " (<music21.note.Note B->, <music21.duration.Duration 0.5>),\n",
       " (<music21.note.Note G>, <music21.duration.Duration 0.25>),\n",
       " (<music21.note.Note F>, <music21.duration.Duration 0.25>),\n",
       " (<music21.note.Note E->, <music21.duration.Duration 0.5>),\n",
       " (<music21.note.Note G>, <music21.duration.Duration 0.25>),\n",
       " (<music21.note.Note B->, <music21.duration.Duration 0.25>),\n",
       " (<music21.chord.Chord G3 B-3>, <music21.duration.Duration 0.5>),\n",
       " (<music21.note.Note E->, <music21.duration.Duration 0.25>),\n",
       " (<music21.note.Note G#>, <music21.duration.Duration 1.0>),\n",
       " (<music21.note.Note B->, <music21.duration.Duration 0.25>),\n",
       " (<music21.note.Note C#>, <music21.duration.Duration 0.5>),\n",
       " (<music21.chord.Chord B-3 G#5>, <music21.duration.Duration 0.25>),\n",
       " (<music21.note.Note E->, <music21.duration.Duration 1.0>)]"
      ]
     },
     "execution_count": 237,
     "metadata": {},
     "output_type": "execute_result"
    }
   ],
   "source": [
    "[(n,n.duration) for n in s_flat.notes]"
   ]
  },
  {
   "cell_type": "code",
   "execution_count": 228,
   "metadata": {},
   "outputs": [],
   "source": [
    "ps = s[0]"
   ]
  },
  {
   "cell_type": "code",
   "execution_count": 230,
   "metadata": {},
   "outputs": [
    {
     "data": {
      "text/plain": [
       "[<music21.instrument.Piano Piano>,\n",
       " <music21.instrument.Piano Piano>,\n",
       " <music21.stream.Voice 0x7f2d9db64ac8>,\n",
       " <music21.stream.Voice 0x7f2d9db64b38>,\n",
       " <music21.stream.Voice 0x7f2d9db64b70>,\n",
       " <music21.stream.Voice 0x7f2d9db64ba8>]"
      ]
     },
     "execution_count": 230,
     "metadata": {},
     "output_type": "execute_result"
    }
   ],
   "source": [
    "[x for x in ps]"
   ]
  },
  {
   "cell_type": "code",
   "execution_count": 227,
   "metadata": {},
   "outputs": [
    {
     "data": {
      "text/plain": [
       "<music21.stream.iterator.StreamIterator for Part:0x7f2d9db902e8 @:6>"
      ]
     },
     "execution_count": 227,
     "metadata": {},
     "output_type": "execute_result"
    }
   ],
   "source": [
    "ps.notes"
   ]
  },
  {
   "cell_type": "code",
   "execution_count": 226,
   "metadata": {},
   "outputs": [
    {
     "ename": "TypeError",
     "evalue": "'Piano' object is not iterable",
     "output_type": "error",
     "traceback": [
      "\u001b[0;31m---------------------------------------------------------------------------\u001b[0m",
      "\u001b[0;31mTypeError\u001b[0m                                 Traceback (most recent call last)",
      "\u001b[0;32m<ipython-input-226-a4ad557c6bda>\u001b[0m in \u001b[0;36m<module>\u001b[0;34m\u001b[0m\n\u001b[0;32m----> 1\u001b[0;31m \u001b[0;34m[\u001b[0m\u001b[0mx\u001b[0m \u001b[0;32mfor\u001b[0m \u001b[0mx\u001b[0m \u001b[0;32min\u001b[0m \u001b[0mps\u001b[0m\u001b[0;34m[\u001b[0m\u001b[0;36m0\u001b[0m\u001b[0;34m]\u001b[0m\u001b[0;34m]\u001b[0m\u001b[0;34m\u001b[0m\u001b[0;34m\u001b[0m\u001b[0m\n\u001b[0m",
      "\u001b[0;31mTypeError\u001b[0m: 'Piano' object is not iterable"
     ]
    }
   ],
   "source": [
    "[x for x in ps[0]]"
   ]
  },
  {
   "cell_type": "code",
   "execution_count": 212,
   "metadata": {},
   "outputs": [
    {
     "data": {
      "text/plain": [
       "<music21.stream.iterator.StreamIterator for Part:0x7f2d9db902e8 @:0>"
      ]
     },
     "execution_count": 212,
     "metadata": {},
     "output_type": "execute_result"
    }
   ],
   "source": [
    "s[0].notes"
   ]
  },
  {
   "cell_type": "code",
   "execution_count": 213,
   "metadata": {},
   "outputs": [
    {
     "data": {
      "text/plain": [
       "[]"
      ]
     },
     "execution_count": 213,
     "metadata": {},
     "output_type": "execute_result"
    }
   ],
   "source": [
    "[n for n in s[0].notes]"
   ]
  },
  {
   "cell_type": "code",
   "execution_count": 199,
   "metadata": {},
   "outputs": [
    {
     "data": {
      "text/plain": [
       "[<music21.stream.Part 0x7f2df4f5db38>]"
      ]
     },
     "execution_count": 199,
     "metadata": {},
     "output_type": "execute_result"
    }
   ],
   "source": [
    "[n for n in s]"
   ]
  },
  {
   "cell_type": "markdown",
   "metadata": {},
   "source": [
    "### Previous notebook cells"
   ]
  },
  {
   "cell_type": "markdown",
   "metadata": {},
   "source": [
    "To complete the fine-tuning, we can then unfeeze and launch a new training."
   ]
  },
  {
   "cell_type": "code",
   "execution_count": null,
   "metadata": {},
   "outputs": [],
   "source": [
    "learn.unfreeze()"
   ]
  },
  {
   "cell_type": "code",
   "execution_count": null,
   "metadata": {},
   "outputs": [
    {
     "data": {
      "text/html": [
       "Total time: 3:59:03 <p><table style='width:300px; margin-bottom:10px'>\n",
       "  <tr>\n",
       "    <th>epoch</th>\n",
       "    <th>train_loss</th>\n",
       "    <th>valid_loss</th>\n",
       "    <th>accuracy</th>\n",
       "  </tr>\n",
       "  <tr>\n",
       "    <th>1</th>\n",
       "    <th>3.949835</th>\n",
       "    <th>3.892163</th>\n",
       "    <th>0.309857</th>\n",
       "  </tr>\n",
       "  <tr>\n",
       "    <th>2</th>\n",
       "    <th>3.863976</th>\n",
       "    <th>3.823716</th>\n",
       "    <th>0.319508</th>\n",
       "  </tr>\n",
       "  <tr>\n",
       "    <th>3</th>\n",
       "    <th>3.827637</th>\n",
       "    <th>3.776987</th>\n",
       "    <th>0.325163</th>\n",
       "  </tr>\n",
       "  <tr>\n",
       "    <th>4</th>\n",
       "    <th>3.782025</th>\n",
       "    <th>3.738658</th>\n",
       "    <th>0.329756</th>\n",
       "  </tr>\n",
       "  <tr>\n",
       "    <th>5</th>\n",
       "    <th>3.704519</th>\n",
       "    <th>3.705750</th>\n",
       "    <th>0.333159</th>\n",
       "  </tr>\n",
       "  <tr>\n",
       "    <th>6</th>\n",
       "    <th>3.658038</th>\n",
       "    <th>3.682820</th>\n",
       "    <th>0.335856</th>\n",
       "  </tr>\n",
       "  <tr>\n",
       "    <th>7</th>\n",
       "    <th>3.608049</th>\n",
       "    <th>3.662626</th>\n",
       "    <th>0.338366</th>\n",
       "  </tr>\n",
       "  <tr>\n",
       "    <th>8</th>\n",
       "    <th>3.552923</th>\n",
       "    <th>3.648938</th>\n",
       "    <th>0.340119</th>\n",
       "  </tr>\n",
       "  <tr>\n",
       "    <th>9</th>\n",
       "    <th>3.518708</th>\n",
       "    <th>3.642814</th>\n",
       "    <th>0.340864</th>\n",
       "  </tr>\n",
       "  <tr>\n",
       "    <th>10</th>\n",
       "    <th>3.480421</th>\n",
       "    <th>3.641818</th>\n",
       "    <th>0.340905</th>\n",
       "  </tr>\n",
       "</table>\n"
      ],
      "text/plain": [
       "<IPython.core.display.HTML object>"
      ]
     },
     "metadata": {},
     "output_type": "display_data"
    }
   ],
   "source": [
    "learn.fit_one_cycle(10, 1e-3, moms=(0.8,0.7))"
   ]
  },
  {
   "cell_type": "code",
   "execution_count": null,
   "metadata": {},
   "outputs": [],
   "source": [
    "learn.save('fine_tuned')"
   ]
  },
  {
   "cell_type": "markdown",
   "metadata": {},
   "source": [
    "How good is our model? Well let's try to see what it predicts after a few given words."
   ]
  },
  {
   "cell_type": "code",
   "execution_count": null,
   "metadata": {},
   "outputs": [],
   "source": [
    "learn.load('fine_tuned');"
   ]
  },
  {
   "cell_type": "code",
   "execution_count": null,
   "metadata": {},
   "outputs": [],
   "source": [
    "TEXT = \"i liked this movie because\"\n",
    "N_WORDS = 40\n",
    "N_SENTENCES = 2"
   ]
  },
  {
   "cell_type": "code",
   "execution_count": null,
   "metadata": {},
   "outputs": [
    {
     "name": "stdout",
     "output_type": "stream",
     "text": [
      "i liked this movie because it was clearly a movie . xxmaj so i gave it a 2 out of 10 . xxmaj so , just say something . xxbos xxmaj this is a really stunning picture , light years off of the late xxmaj\n",
      "i liked this movie because it would be a good one for those who like deep psychological and drama and you can go see this movie if you like a little slow motion and some magic should n't be there . i would give it\n"
     ]
    }
   ],
   "source": [
    "print(\"\\n\".join(learn.predict(TEXT, N_WORDS, temperature=0.75) for _ in range(N_SENTENCES)))"
   ]
  },
  {
   "cell_type": "markdown",
   "metadata": {},
   "source": [
    "We have to save the model but also it's encoder, the part that's responsible for creating and updating the hidden state. For the next part, we don't care about the part that tries to guess the next word."
   ]
  },
  {
   "cell_type": "code",
   "execution_count": null,
   "metadata": {},
   "outputs": [],
   "source": [
    "learn.save_encoder('fine_tuned_enc')"
   ]
  }
 ],
 "metadata": {
  "kernelspec": {
   "display_name": "Python 3",
   "language": "python",
   "name": "python3"
  },
  "language_info": {
   "codemirror_mode": {
    "name": "ipython",
    "version": 3
   },
   "file_extension": ".py",
   "mimetype": "text/x-python",
   "name": "python",
   "nbconvert_exporter": "python",
   "pygments_lexer": "ipython3",
   "version": "3.7.1"
  }
 },
 "nbformat": 4,
 "nbformat_minor": 2
}

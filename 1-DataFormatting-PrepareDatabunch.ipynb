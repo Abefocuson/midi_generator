{
 "cells": [
  {
   "cell_type": "markdown",
   "metadata": {},
   "source": [
    "# Tokenize and save data"
   ]
  },
  {
   "cell_type": "markdown",
   "metadata": {},
   "source": [
    "Data borrowed from here: https://github.com/mcleavey/musical-neural-net/  \n",
    "http://www.christinemcleavey.com/files/notewise_piano_solo.tar.gz  \n",
    "http://www.christinemcleavey.com/files/jazz.tar.gz  \n",
    "http://www.christinemcleavey.com/files/notewise_chamber.tar.gz  \n",
    "\n",
    "Notebook is a combined implementation from:\n",
    "https://github.com/fastai/course-v3/blob/master/nbs/dl1/lesson3-imdb.ipynb  \n",
    "https://github.com/mcleavey/musical-neural-net/blob/master/train.py"
   ]
  },
  {
   "cell_type": "code",
   "execution_count": 1,
   "metadata": {},
   "outputs": [],
   "source": [
    "%reload_ext autoreload\n",
    "%autoreload 2\n",
    "%matplotlib inline"
   ]
  },
  {
   "cell_type": "code",
   "execution_count": 2,
   "metadata": {},
   "outputs": [],
   "source": [
    "from fastai.text import *"
   ]
  },
  {
   "cell_type": "markdown",
   "metadata": {},
   "source": [
    "## Preparing the data"
   ]
  },
  {
   "cell_type": "code",
   "execution_count": 3,
   "metadata": {},
   "outputs": [],
   "source": [
    "class MusicTokenizer():\n",
    "    def __init__(self):\n",
    "        super().__init__()\n",
    "        self.n_cpus = num_cpus()\n",
    "        \n",
    "    def process_text(self, t:str) -> List[str]:\n",
    "        return t.split(\" \")\n",
    "    \n",
    "    def _process_all_1(self, texts:Collection[str]) -> List[List[str]]:\n",
    "        return [self.process_text(t) for t in texts]\n",
    "\n",
    "    def process_all(self, texts:Collection[str]) -> List[List[str]]:\n",
    "        \"Process a list of `texts`.\"\n",
    "        if self.n_cpus <= 1: return self._process_all_1(texts)\n",
    "        with ProcessPoolExecutor(self.n_cpus) as e:\n",
    "            return sum(e.map(self._process_all_1, partition_by_cores(texts, self.n_cpus)), [])\n"
   ]
  },
  {
   "cell_type": "code",
   "execution_count": 9,
   "metadata": {},
   "outputs": [
    {
     "data": {
      "text/plain": [
       "[PosixPath('../data/midi/transcribedc_v1/hooktheory/pianoroll')]"
      ]
     },
     "execution_count": 9,
     "metadata": {},
     "output_type": "execute_result"
    }
   ],
   "source": [
    "path = Path('../data/midi/transcribedc_v1/hooktheory/')\n",
    "path.ls()[:5]"
   ]
  },
  {
   "cell_type": "code",
   "execution_count": 10,
   "metadata": {},
   "outputs": [],
   "source": [
    "bs=32"
   ]
  },
  {
   "cell_type": "code",
   "execution_count": 11,
   "metadata": {},
   "outputs": [
    {
     "data": {
      "text/plain": [
       "(10955, 576, 36)"
      ]
     },
     "execution_count": 11,
     "metadata": {},
     "output_type": "execute_result"
    }
   ],
   "source": [
    "if (path/'tmp/itos.pkl').exists():\n",
    "# if False:\n",
    "    data = TextLMDataBunch.load(path, bs=bs)\n",
    "else:\n",
    "    p = [OpenFileProcessor(), TokenizeProcessor(tokenizer=MusicTokenizer(), chunksize=10), NumericalizeProcessor(vocab=None, max_vocab=500)]\n",
    "\n",
    "    data = (TextList.from_folder(path, recurse=True, processor=p)\n",
    "            .random_split_by_pct(0.05, seed=6)\n",
    "            .label_for_lm()\n",
    "            .databunch(bs=bs))\n",
    "    data.save('tmp')\n",
    "vocab = data.train_ds.vocab\n",
    "len(data.train_ds), len(data.valid_ds), len(data.train_ds.vocab.itos)"
   ]
  },
  {
   "cell_type": "code",
   "execution_count": 12,
   "metadata": {},
   "outputs": [
    {
     "data": {
      "text/plain": [
       "('xxbos || |s| nG o3 t1 i0 || |s| nF# o3 t1 i0 || |s',\n",
       " array([ 2, 12, 13, 20, ...,  9, 12, 25, 12]))"
      ]
     },
     "execution_count": 12,
     "metadata": {},
     "output_type": "execute_result"
    }
   ],
   "source": [
    "t = data.train_ds[0][0]\n",
    "t.text[:50], t.data"
   ]
  },
  {
   "cell_type": "code",
   "execution_count": 13,
   "metadata": {},
   "outputs": [
    {
     "data": {
      "text/html": [
       "<table>  <col width='5%'>  <col width='95%'>  <tr>\n",
       "    <th>idx</th>\n",
       "    <th>text</th>\n",
       "  </tr>\n",
       "  <tr>\n",
       "    <th>0</th>\n",
       "    <th>xxbos nA o2 t1 i1 nC o3 t1 i1 nE o3 t1 i1 nC o5 t1 i0 || |s| nA o2 t2 i1 nC o3 t2 i1 nE o3 t2 i1 nC o5 t2 i0 || |s| nA o2 t2 i1 nC o3 t2 i1 nE o3 t2 i1 nE o5 t1 i0 || |s| nA o2 t2 i1 nC o3 t2 i1 nE o3 t2 i1 nE o5 t2</th>\n",
       "  </tr>\n",
       "  <tr>\n",
       "    <th>1</th>\n",
       "    <th>i1 nE o3 t2 i1 nG o3 t2 i1 nD o5 t2 i0 || |e| |s| nC o3 t2 i1 nE o3 t2 i1 nG o3 t2 i1 nD o5 t2 i0 || |s| nC o3 t2 i1 nE o3 t2 i1 nG o3 t2 i1 nD o5 t2 i0 || |s| nC o3 t2 i1 nE o3 t2 i1 nG o3 t2 i1 nD o5 t2 i0 || |s|</th>\n",
       "  </tr>\n",
       "  <tr>\n",
       "    <th>2</th>\n",
       "    <th>o4 t1 i0 || |s| nG o2 t2 i1 nC o3 t2 i1 nD o3 t2 i1 nG o3 t1 i0 || |e| |s| nA o2 t1 i1 nC o3 t1 i1 nE o3 t1 i1 nG o3 t1 i1 nG o4 t1 i0 || |s| nA o2 t2 i1 nC o3 t2 i1 nE o3 t2 i1 nG o3 t2 i1 nC o4 t1 i0 || |s| nA o2</th>\n",
       "  </tr>\n",
       "  <tr>\n",
       "    <th>3</th>\n",
       "    <th>t2 i0 || |s| nA o2 t2 i1 nC o3 t2 i1 nE o3 t2 i1 nA o3 t2 i0 || |e| |s| nA o2 t2 i1 nC o3 t2 i1 nE o3 t2 i1 nC o4 t1 i0 || |s| nA o2 t2 i1 nC o3 t2 i1 nE o3 t2 i1 nC o4 t2 i0 || |s| nA o2 t2 i1 nC o3 t2 i1 nE o3 t2</th>\n",
       "  </tr>\n",
       "  <tr>\n",
       "    <th>4</th>\n",
       "    <th>o4 t2 i0 || |s| nG o2 t2 i1 nB o2 t2 i1 nD o3 t2 i1 nG o4 t1 i0 || |s| nG o2 t2 i1 nB o2 t2 i1 nD o3 t2 i1 nG o4 t2 i0 || |e| |s| nG o2 t2 i1 nB o2 t2 i1 nD o3 t2 i1 nG o4 t1 i0 || |s| nG o2 t2 i1 nB o2 t2 i1 nD o3</th>\n",
       "  </tr>\n",
       "</table>\n"
      ],
      "text/plain": [
       "<IPython.core.display.HTML object>"
      ]
     },
     "metadata": {},
     "output_type": "display_data"
    }
   ],
   "source": [
    "data.show_batch()"
   ]
  },
  {
   "cell_type": "code",
   "execution_count": null,
   "metadata": {},
   "outputs": [],
   "source": []
  }
 ],
 "metadata": {
  "kernelspec": {
   "display_name": "Python 3",
   "language": "python",
   "name": "python3"
  },
  "language_info": {
   "codemirror_mode": {
    "name": "ipython",
    "version": 3
   },
   "file_extension": ".py",
   "mimetype": "text/x-python",
   "name": "python",
   "nbconvert_exporter": "python",
   "pygments_lexer": "ipython3",
   "version": "3.7.1"
  }
 },
 "nbformat": 4,
 "nbformat_minor": 2
}

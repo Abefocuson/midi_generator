{
 "cells": [
  {
   "cell_type": "code",
   "execution_count": 27,
   "metadata": {},
   "outputs": [],
   "source": [
    "%reload_ext autoreload\n",
    "%autoreload 2\n",
    "%matplotlib inline"
   ]
  },
  {
   "cell_type": "code",
   "execution_count": 28,
   "metadata": {},
   "outputs": [],
   "source": [
    "from encode_data import *\n",
    "from midi_data import *"
   ]
  },
  {
   "cell_type": "code",
   "execution_count": 29,
   "metadata": {},
   "outputs": [],
   "source": [
    "from tqdm import tqdm\n",
    "import pandas as pd\n",
    "from data_sources import process_parallel, transform_csv_row"
   ]
  },
  {
   "cell_type": "code",
   "execution_count": 30,
   "metadata": {},
   "outputs": [],
   "source": [
    "from collections import Counter"
   ]
  },
  {
   "cell_type": "code",
   "execution_count": 31,
   "metadata": {},
   "outputs": [],
   "source": [
    "import scipy.sparse"
   ]
  },
  {
   "cell_type": "markdown",
   "metadata": {},
   "source": [
    "## Encode music21 stream to text representation \n",
    "\n",
    "This notebook uses a full component format \n",
    "- measure separators, instruments, and separated octaves\n",
    "- Format: note, octave, action type, instrument\n",
    "- note repr: nG# o4 t1 i0"
   ]
  },
  {
   "cell_type": "markdown",
   "metadata": {},
   "source": [
    "### Load midi data"
   ]
  },
  {
   "cell_type": "code",
   "execution_count": 32,
   "metadata": {},
   "outputs": [],
   "source": [
    "version = 'v6'\n",
    "data_path = Path('data/midi')\n",
    "version_path = data_path/version"
   ]
  },
  {
   "cell_type": "code",
   "execution_count": 33,
   "metadata": {},
   "outputs": [],
   "source": [
    "source_dir = 'midi_transform'\n",
    "out_dir = 'midi_npz'\n",
    "source_csv = version_path/source_dir/f'{source_dir}.csv'\n",
    "out_csv = version_path/out_dir/f'{out_dir}.csv'"
   ]
  },
  {
   "cell_type": "code",
   "execution_count": 8,
   "metadata": {},
   "outputs": [
    {
     "name": "stderr",
     "output_type": "stream",
     "text": [
      "/home/ubuntu/anaconda3/envs/midi/lib/python3.7/site-packages/IPython/core/interactiveshell.py:3020: DtypeWarning: Columns (0,9,16,17,20) have mixed types. Specify dtype option on import or set low_memory=False.\n",
      "  interactivity=interactivity, compiler=compiler, result=result)\n"
     ]
    },
    {
     "data": {
      "text/html": [
       "<div>\n",
       "<style scoped>\n",
       "    .dataframe tbody tr th:only-of-type {\n",
       "        vertical-align: middle;\n",
       "    }\n",
       "\n",
       "    .dataframe tbody tr th {\n",
       "        vertical-align: top;\n",
       "    }\n",
       "\n",
       "    .dataframe thead th {\n",
       "        text-align: right;\n",
       "    }\n",
       "</style>\n",
       "<table border=\"1\" class=\"dataframe\">\n",
       "  <thead>\n",
       "    <tr style=\"text-align: right;\">\n",
       "      <th></th>\n",
       "      <th>song_url</th>\n",
       "      <th>instruments</th>\n",
       "      <th>ht_offset</th>\n",
       "      <th>time_signature</th>\n",
       "      <th>title</th>\n",
       "      <th>quarter_length</th>\n",
       "      <th>ht_mode</th>\n",
       "      <th>source</th>\n",
       "      <th>artist</th>\n",
       "      <th>ht_key</th>\n",
       "      <th>...</th>\n",
       "      <th>genres</th>\n",
       "      <th>section</th>\n",
       "      <th>parts</th>\n",
       "      <th>ht_time_signature</th>\n",
       "      <th>ht_bpm</th>\n",
       "      <th>midi_title</th>\n",
       "      <th>mxl</th>\n",
       "      <th>midi_transform</th>\n",
       "      <th>midi_npz</th>\n",
       "      <th>midi_npz_timesteps</th>\n",
       "    </tr>\n",
       "  </thead>\n",
       "  <tbody>\n",
       "    <tr>\n",
       "      <th>0</th>\n",
       "      <td>https://www.hooktheory.com/theorytab/view/wayn...</td>\n",
       "      <td>Piano</td>\n",
       "      <td>0.0</td>\n",
       "      <td>3/4</td>\n",
       "      <td>yu-gi-oh-theme-song</td>\n",
       "      <td>36.0</td>\n",
       "      <td>1.0</td>\n",
       "      <td>hooktheory</td>\n",
       "      <td>wayne-sharpe</td>\n",
       "      <td>C</td>\n",
       "      <td>...</td>\n",
       "      <td>NaN</td>\n",
       "      <td>intro</td>\n",
       "      <td>intro,chorus</td>\n",
       "      <td>3.0</td>\n",
       "      <td>85.0</td>\n",
       "      <td>yu-gi-oh</td>\n",
       "      <td>NaN</td>\n",
       "      <td>midi_transform/hooktheory/pianoroll/w/wayne-sh...</td>\n",
       "      <td>midi_npz/hooktheory/pianoroll/w/wayne-sharpe/y...</td>\n",
       "      <td>145.0</td>\n",
       "    </tr>\n",
       "    <tr>\n",
       "      <th>1</th>\n",
       "      <td>https://www.hooktheory.com/theorytab/view/wayn...</td>\n",
       "      <td>Piano,Piano</td>\n",
       "      <td>0.0</td>\n",
       "      <td>4/4</td>\n",
       "      <td>yu-gi-oh-theme-song</td>\n",
       "      <td>32.0</td>\n",
       "      <td>1.0</td>\n",
       "      <td>hooktheory</td>\n",
       "      <td>wayne-sharpe</td>\n",
       "      <td>C</td>\n",
       "      <td>...</td>\n",
       "      <td>NaN</td>\n",
       "      <td>chorus</td>\n",
       "      <td>intro,chorus</td>\n",
       "      <td>4.0</td>\n",
       "      <td>128.0</td>\n",
       "      <td>yu-gi-oh3</td>\n",
       "      <td>NaN</td>\n",
       "      <td>midi_transform/hooktheory/pianoroll/w/wayne-sh...</td>\n",
       "      <td>midi_npz/hooktheory/pianoroll/w/wayne-sharpe/y...</td>\n",
       "      <td>129.0</td>\n",
       "    </tr>\n",
       "    <tr>\n",
       "      <th>2</th>\n",
       "      <td>https://www.hooktheory.com/theorytab/view/what...</td>\n",
       "      <td>Piano,Piano</td>\n",
       "      <td>-5.0</td>\n",
       "      <td>4/4</td>\n",
       "      <td>kiefer</td>\n",
       "      <td>16.0</td>\n",
       "      <td>6.0</td>\n",
       "      <td>hooktheory</td>\n",
       "      <td>what-a-day</td>\n",
       "      <td>D</td>\n",
       "      <td>...</td>\n",
       "      <td>Jazz</td>\n",
       "      <td>chorus</td>\n",
       "      <td>chorus</td>\n",
       "      <td>4.0</td>\n",
       "      <td>96.0</td>\n",
       "      <td>kiefer</td>\n",
       "      <td>NaN</td>\n",
       "      <td>midi_transform/hooktheory/pianoroll/w/what-a-d...</td>\n",
       "      <td>midi_npz/hooktheory/pianoroll/w/what-a-day/kie...</td>\n",
       "      <td>65.0</td>\n",
       "    </tr>\n",
       "    <tr>\n",
       "      <th>3</th>\n",
       "      <td>https://www.hooktheory.com/theorytab/view/whit...</td>\n",
       "      <td>Piano,Piano</td>\n",
       "      <td>-5.0</td>\n",
       "      <td>4/4</td>\n",
       "      <td>senbonzakura</td>\n",
       "      <td>32.0</td>\n",
       "      <td>6.0</td>\n",
       "      <td>hooktheory</td>\n",
       "      <td>whiteflame</td>\n",
       "      <td>D</td>\n",
       "      <td>...</td>\n",
       "      <td>J-Pop,Pop</td>\n",
       "      <td>verse</td>\n",
       "      <td>verse,pre-chorus,chorus</td>\n",
       "      <td>4.0</td>\n",
       "      <td>152.0</td>\n",
       "      <td>Senbonzakura</td>\n",
       "      <td>NaN</td>\n",
       "      <td>midi_transform/hooktheory/pianoroll/w/whitefla...</td>\n",
       "      <td>midi_npz/hooktheory/pianoroll/w/whiteflame/sen...</td>\n",
       "      <td>129.0</td>\n",
       "    </tr>\n",
       "    <tr>\n",
       "      <th>4</th>\n",
       "      <td>https://www.hooktheory.com/theorytab/view/wham...</td>\n",
       "      <td>Piano,Piano</td>\n",
       "      <td>-1.0</td>\n",
       "      <td>4/4</td>\n",
       "      <td>last-christmas</td>\n",
       "      <td>32.0</td>\n",
       "      <td>1.0</td>\n",
       "      <td>hooktheory</td>\n",
       "      <td>wham</td>\n",
       "      <td>Db</td>\n",
       "      <td>...</td>\n",
       "      <td>Holiday</td>\n",
       "      <td>intro</td>\n",
       "      <td>intro,verse,chorus</td>\n",
       "      <td>4.0</td>\n",
       "      <td>108.0</td>\n",
       "      <td>Last Christmas Intro</td>\n",
       "      <td>NaN</td>\n",
       "      <td>midi_transform/hooktheory/pianoroll/w/wham/las...</td>\n",
       "      <td>midi_npz/hooktheory/pianoroll/w/wham/last-chri...</td>\n",
       "      <td>129.0</td>\n",
       "    </tr>\n",
       "  </tbody>\n",
       "</table>\n",
       "<p>5 rows × 25 columns</p>\n",
       "</div>"
      ],
      "text/plain": [
       "                                            song_url  instruments  ht_offset  \\\n",
       "0  https://www.hooktheory.com/theorytab/view/wayn...        Piano        0.0   \n",
       "1  https://www.hooktheory.com/theorytab/view/wayn...  Piano,Piano        0.0   \n",
       "2  https://www.hooktheory.com/theorytab/view/what...  Piano,Piano       -5.0   \n",
       "3  https://www.hooktheory.com/theorytab/view/whit...  Piano,Piano       -5.0   \n",
       "4  https://www.hooktheory.com/theorytab/view/wham...  Piano,Piano       -1.0   \n",
       "\n",
       "  time_signature                title quarter_length  ht_mode      source  \\\n",
       "0            3/4  yu-gi-oh-theme-song           36.0      1.0  hooktheory   \n",
       "1            4/4  yu-gi-oh-theme-song           32.0      1.0  hooktheory   \n",
       "2            4/4               kiefer           16.0      6.0  hooktheory   \n",
       "3            4/4         senbonzakura           32.0      6.0  hooktheory   \n",
       "4            4/4       last-christmas           32.0      1.0  hooktheory   \n",
       "\n",
       "         artist ht_key         ...             genres  section  \\\n",
       "0  wayne-sharpe      C         ...                NaN    intro   \n",
       "1  wayne-sharpe      C         ...                NaN   chorus   \n",
       "2    what-a-day      D         ...               Jazz   chorus   \n",
       "3    whiteflame      D         ...          J-Pop,Pop    verse   \n",
       "4          wham     Db         ...            Holiday    intro   \n",
       "\n",
       "                     parts ht_time_signature  ht_bpm            midi_title  \\\n",
       "0             intro,chorus               3.0    85.0              yu-gi-oh   \n",
       "1             intro,chorus               4.0   128.0             yu-gi-oh3   \n",
       "2                   chorus               4.0    96.0                kiefer   \n",
       "3  verse,pre-chorus,chorus               4.0   152.0          Senbonzakura   \n",
       "4       intro,verse,chorus               4.0   108.0  Last Christmas Intro   \n",
       "\n",
       "   mxl                                     midi_transform  \\\n",
       "0  NaN  midi_transform/hooktheory/pianoroll/w/wayne-sh...   \n",
       "1  NaN  midi_transform/hooktheory/pianoroll/w/wayne-sh...   \n",
       "2  NaN  midi_transform/hooktheory/pianoroll/w/what-a-d...   \n",
       "3  NaN  midi_transform/hooktheory/pianoroll/w/whitefla...   \n",
       "4  NaN  midi_transform/hooktheory/pianoroll/w/wham/las...   \n",
       "\n",
       "                                            midi_npz  midi_npz_timesteps  \n",
       "0  midi_npz/hooktheory/pianoroll/w/wayne-sharpe/y...               145.0  \n",
       "1  midi_npz/hooktheory/pianoroll/w/wayne-sharpe/y...               129.0  \n",
       "2  midi_npz/hooktheory/pianoroll/w/what-a-day/kie...                65.0  \n",
       "3  midi_npz/hooktheory/pianoroll/w/whiteflame/sen...               129.0  \n",
       "4  midi_npz/hooktheory/pianoroll/w/wham/last-chri...               129.0  \n",
       "\n",
       "[5 rows x 25 columns]"
      ]
     },
     "execution_count": 8,
     "metadata": {},
     "output_type": "execute_result"
    }
   ],
   "source": [
    "df = pd.read_csv(out_csv); df.head()"
   ]
  },
  {
   "cell_type": "code",
   "execution_count": 9,
   "metadata": {},
   "outputs": [
    {
     "data": {
      "text/plain": [
       "(38557, 25)"
      ]
     },
     "execution_count": 9,
     "metadata": {},
     "output_type": "execute_result"
    }
   ],
   "source": [
    "df_filtered = df.loc[df[out_dir].notna()]; df_filtered.shape"
   ]
  },
  {
   "cell_type": "code",
   "execution_count": 11,
   "metadata": {},
   "outputs": [],
   "source": [
    "outliers = []\n",
    "for idx,row in df_filtered.iterrows():\n",
    "    np_file = row[out_dir]\n",
    "    chordarr = load_chordarr(Path(version_path)/np_file)\n",
    "    if np.any(chordarr > 100): outliers.append(np_file)\n",
    "    if len(outliers) > 10: break"
   ]
  },
  {
   "cell_type": "code",
   "execution_count": 12,
   "metadata": {},
   "outputs": [
    {
     "data": {
      "text/plain": [
       "['midi_npz/hooktheory/pianoroll/w/war/low-rider/intro-and-verse_key.npz',\n",
       " 'midi_npz/hooktheory/pianoroll/y/ylvis/massachusetts/intro_key.npz',\n",
       " 'midi_npz/hooktheory/pianoroll/y/yo-la-tengo/ohm/verse_key.npz',\n",
       " 'midi_npz/hooktheory/pianoroll/j/jose-gonzales/step-out/intro_key.npz',\n",
       " 'midi_npz/hooktheory/pianoroll/j/john-williams/midway-march/verse_key.npz',\n",
       " 'midi_npz/hooktheory/pianoroll/j/jon-foreman/white-as-snow/intro_key.npz',\n",
       " 'midi_npz/hooktheory/pianoroll/j/judas-priest/breaking-the-law/chorus_key.npz',\n",
       " 'midi_npz/hooktheory/pianoroll/j/jocelyn-pook/masked-ball---eyes-wide-shut/chorus_key.npz',\n",
       " 'midi_npz/hooktheory/pianoroll/j/jay-alphonso-williams/john-cena---the-time-is-now/pre-chorus-and-chorus_key.npz',\n",
       " 'midi_npz/hooktheory/pianoroll/g/game-freak/vs-brendan-and-may/chorus_key.npz',\n",
       " 'midi_npz/hooktheory/pianoroll/g/gizmondo-studios/sticky-balls-theme-song/verse_key.npz']"
      ]
     },
     "execution_count": 12,
     "metadata": {},
     "output_type": "execute_result"
    }
   ],
   "source": [
    "outliers"
   ]
  },
  {
   "cell_type": "code",
   "execution_count": 43,
   "metadata": {},
   "outputs": [
    {
     "name": "stdout",
     "output_type": "stream",
     "text": [
      "70\n",
      "76\n",
      "81\n",
      "84\n",
      "88\n",
      "93\n",
      "100\n",
      "108\n",
      "112\n",
      "124\n",
      "125\n",
      "126\n"
     ]
    }
   ],
   "source": [
    "max_index = 0\n",
    "for idx,row in df_filtered.iterrows():\n",
    "    np_file = row[out_dir]\n",
    "    chordarr = load_chordarr(Path(version_path)/np_file)\n",
    "    m = chordarr.sum(axis=1).argmax(axis=-1).max()\n",
    "    if m > max_index: \n",
    "        max_index = m\n",
    "        print(m)"
   ]
  },
  {
   "cell_type": "code",
   "execution_count": null,
   "metadata": {},
   "outputs": [],
   "source": [
    "m"
   ]
  },
  {
   "cell_type": "code",
   "execution_count": 13,
   "metadata": {},
   "outputs": [],
   "source": [
    "f = 'midi_npz/hooktheory/pianoroll/g/gizmondo-studios/sticky-balls-theme-song/verse_key.npz'\n",
    "a = load_chordarr(Path(version_path/f))"
   ]
  },
  {
   "cell_type": "code",
   "execution_count": 34,
   "metadata": {},
   "outputs": [
    {
     "data": {
      "text/plain": [
       "(129, 3, 127)"
      ]
     },
     "execution_count": 34,
     "metadata": {},
     "output_type": "execute_result"
    }
   ],
   "source": [
    "a.shape"
   ]
  },
  {
   "cell_type": "code",
   "execution_count": 40,
   "metadata": {},
   "outputs": [
    {
     "data": {
      "text/plain": [
       "76"
      ]
     },
     "execution_count": 40,
     "metadata": {},
     "output_type": "execute_result"
    }
   ],
   "source": [
    "a.sum(axis=1).argmax(axis=-1).max()"
   ]
  },
  {
   "cell_type": "code",
   "execution_count": 26,
   "metadata": {},
   "outputs": [
    {
     "data": {
      "text/plain": [
       "array([ True, False, False, False, ..., False, False, False,  True])"
      ]
     },
     "execution_count": 26,
     "metadata": {},
     "output_type": "execute_result"
    }
   ],
   "source": [
    "np.all((a != -2), axis=(1,2))"
   ]
  },
  {
   "cell_type": "code",
   "execution_count": 18,
   "metadata": {},
   "outputs": [],
   "source": [
    "def calc_timesteps(idxrow):\n",
    "    idx,row = idxrow\n",
    "    np_file = row[out_dir]\n",
    "    if not isinstance(np_file, str) or not (Path(version_path)/np_file).exists(): return idx,None\n",
    "    try:\n",
    "#         timesteps = scipy.sparse.load_npz(np_file).shape[0]\n",
    "        timesteps = load_chordarr(Path(version_path)/np_file).shape[0]\n",
    "        return idx,timesteps\n",
    "    except Exception as e:\n",
    "        print('Error reading text', e, np_file)\n",
    "    return idx, None"
   ]
  },
  {
   "cell_type": "code",
   "execution_count": 19,
   "metadata": {},
   "outputs": [],
   "source": [
    "# for r in merged_df.iterrows():\n",
    "#     calc_timesteps(r)"
   ]
  },
  {
   "cell_type": "code",
   "execution_count": null,
   "metadata": {},
   "outputs": [],
   "source": []
  }
 ],
 "metadata": {
  "kernelspec": {
   "display_name": "Python 3",
   "language": "python",
   "name": "python3"
  },
  "language_info": {
   "codemirror_mode": {
    "name": "ipython",
    "version": 3
   },
   "file_extension": ".py",
   "mimetype": "text/x-python",
   "name": "python",
   "nbconvert_exporter": "python",
   "pygments_lexer": "ipython3",
   "version": "3.7.1"
  }
 },
 "nbformat": 4,
 "nbformat_minor": 2
}

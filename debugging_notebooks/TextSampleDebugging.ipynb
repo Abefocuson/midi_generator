{
 "cells": [
  {
   "cell_type": "code",
   "execution_count": 1,
   "metadata": {},
   "outputs": [],
   "source": [
    "from fastai.text import *"
   ]
  },
  {
   "cell_type": "code",
   "execution_count": 2,
   "metadata": {},
   "outputs": [
    {
     "data": {
      "text/plain": [
       "PosixPath('/home/ubuntu/.fastai/data/imdb_sample')"
      ]
     },
     "execution_count": 2,
     "metadata": {},
     "output_type": "execute_result"
    }
   ],
   "source": [
    "path = untar_data(URLs.IMDB_SAMPLE)\n",
    "path"
   ]
  },
  {
   "cell_type": "code",
   "execution_count": 3,
   "metadata": {},
   "outputs": [
    {
     "data": {
      "text/html": [
       "<div>\n",
       "<style scoped>\n",
       "    .dataframe tbody tr th:only-of-type {\n",
       "        vertical-align: middle;\n",
       "    }\n",
       "\n",
       "    .dataframe tbody tr th {\n",
       "        vertical-align: top;\n",
       "    }\n",
       "\n",
       "    .dataframe thead th {\n",
       "        text-align: right;\n",
       "    }\n",
       "</style>\n",
       "<table border=\"1\" class=\"dataframe\">\n",
       "  <thead>\n",
       "    <tr style=\"text-align: right;\">\n",
       "      <th></th>\n",
       "      <th>0</th>\n",
       "      <th>1</th>\n",
       "      <th>2</th>\n",
       "    </tr>\n",
       "  </thead>\n",
       "  <tbody>\n",
       "    <tr>\n",
       "      <th>0</th>\n",
       "      <td>label</td>\n",
       "      <td>text</td>\n",
       "      <td>is_valid</td>\n",
       "    </tr>\n",
       "    <tr>\n",
       "      <th>1</th>\n",
       "      <td>negative</td>\n",
       "      <td>Un-bleeping-believable! Meg Ryan doesn't even ...</td>\n",
       "      <td>False</td>\n",
       "    </tr>\n",
       "    <tr>\n",
       "      <th>2</th>\n",
       "      <td>positive</td>\n",
       "      <td>This is a extremely well-made film. The acting...</td>\n",
       "      <td>False</td>\n",
       "    </tr>\n",
       "    <tr>\n",
       "      <th>3</th>\n",
       "      <td>negative</td>\n",
       "      <td>Every once in a long while a movie will come a...</td>\n",
       "      <td>False</td>\n",
       "    </tr>\n",
       "    <tr>\n",
       "      <th>4</th>\n",
       "      <td>positive</td>\n",
       "      <td>Name just says it all. I watched this movie wi...</td>\n",
       "      <td>False</td>\n",
       "    </tr>\n",
       "  </tbody>\n",
       "</table>\n",
       "</div>"
      ],
      "text/plain": [
       "          0                                                  1         2\n",
       "0     label                                               text  is_valid\n",
       "1  negative  Un-bleeping-believable! Meg Ryan doesn't even ...     False\n",
       "2  positive  This is a extremely well-made film. The acting...     False\n",
       "3  negative  Every once in a long while a movie will come a...     False\n",
       "4  positive  Name just says it all. I watched this movie wi...     False"
      ]
     },
     "execution_count": 3,
     "metadata": {},
     "output_type": "execute_result"
    }
   ],
   "source": [
    "df = pd.read_csv(path/'texts.csv', header=None)\n",
    "df.head()"
   ]
  },
  {
   "cell_type": "code",
   "execution_count": 4,
   "metadata": {},
   "outputs": [],
   "source": [
    "data = TextLMDataBunch.from_csv(path, 'texts.csv')\n",
    "# data_clas = TextClasDataBunch.from_csv(path, 'texts.csv', vocab=data_lm.train_ds.vocab, bs=42)"
   ]
  },
  {
   "cell_type": "code",
   "execution_count": 7,
   "metadata": {},
   "outputs": [],
   "source": [
    "# from fastai_data import MusicTokenizer\n",
    "# path = Path('data/midi/v6/midi_transcribe/shortdur/')\n",
    "# data = TextLMDataBunch.load(path, cache_name='tmp/hook', bs=4, bptt=20)\n",
    "# data.valid_ds.x.processor[0] = TokenizeProcessor(tokenizer=MusicTokenizer())\n",
    "# t = data.train_ds[0][0]"
   ]
  },
  {
   "cell_type": "code",
   "execution_count": 8,
   "metadata": {},
   "outputs": [
    {
     "data": {
      "text/plain": [
       "<torch.utils.data.sampler.SequentialSampler at 0x7f4a62103240>"
      ]
     },
     "execution_count": 8,
     "metadata": {},
     "output_type": "execute_result"
    }
   ],
   "source": [
    "# data.train_dl.sampler\n",
    "\n",
    "# data.train_dl.dl.dataset"
   ]
  },
  {
   "cell_type": "code",
   "execution_count": 13,
   "metadata": {},
   "outputs": [],
   "source": [
    "tdl = data.train_dl.new()"
   ]
  },
  {
   "cell_type": "code",
   "execution_count": 77,
   "metadata": {},
   "outputs": [
    {
     "data": {
      "text/plain": [
       "<torch.utils.data.sampler.SequentialSampler at 0x7fe4805d1080>"
      ]
     },
     "execution_count": 77,
     "metadata": {},
     "output_type": "execute_result"
    }
   ],
   "source": [
    "data.train_dl.sampler"
   ]
  },
  {
   "cell_type": "code",
   "execution_count": 6,
   "metadata": {},
   "outputs": [],
   "source": [
    "it = iter(data.train_dl)"
   ]
  },
  {
   "cell_type": "code",
   "execution_count": 7,
   "metadata": {},
   "outputs": [
    {
     "data": {
      "text/plain": [
       "['\" xxunk \" had n\\'t entered the general xxunk yet , but everyone knew the xxunk . xxmaj bruce could be heard on the radio singing , \" xxmaj foreman says these jobs are going , boy , and they ai n\\'t coming back to your hometown . \" xxmaj xxunk had just been xxunk out by xxmaj uncle xxmaj sam . xxmaj bumper xxunk could be seen saying \"',\n",
       " 'in some secret hospital , a melting xxunk mass who goes xxunk and causes a xxunk nurse to run through a fake glass door . xxmaj apparently , xxmaj west \" gets stronger as he melts \" , which makes about as much sense as anything in this xxunk xxunk , xxunk - xxunk xxunk . xxmaj then this dopey \" xxmaj army xxmaj brass \" , who looks kind',\n",
       " 'plot that has potential to be excellent all thrown together to form a pile of garbage . \\n\\n xxmaj first off the whole movie consists of terrible dialogue and god awful special affects . xxmaj the acting was also nothing to be proud of , but xxmaj xxunk xxmaj xxunk ( i think i spelled that right . ) saved the movie in this category . \\n\\n xxmaj for heaven',\n",
       " 'from start to finish and 99 % unfunny ( by comparison , xxmaj xxunk is xxunk ... and these are the nicest things i can say about the movie . \\n\\n xxmaj by the way , that xxup is xxmaj xxunk xxmaj lee ( from \" xxmaj mad xxup tv \" ) wearing a xxunk and participating in the dumb fake porno film . xxmaj it \\'s amazing his career',\n",
       " '1975 ) . xxmaj burns ( whose last involvement in any film was in xxup the xxup solid xxup gold xxup cadillac in 1956 as the narrator ) turned in such a fine performance that he got the \" xxmaj oscar \" for best supporting actor , and was to have a career in movies in the next decade in such films as xxup oh xxup god ! ; xxup',\n",
       " 'out his partners are also in the baby selling business . xxmaj unfortunately , he never really gets his hands dirty , barely even turning a blind eye before his decency rises to the surface . xxmaj the film feels always xxunk down as if too many rewrites and too many xxunk have left it neutered and , sadly , the recent xxup dvd release is a missed opportunity to',\n",
       " \"metal xxmaj jacket , not as epic as xxmaj band of xxmaj brothers , not as action packed as ... well , anything . i certainly ca n't see why it was nominated for so much , nor why people are ' xxunk it up ' to these epic proportions . xxmaj mind you , given the calibre of movies in the last couple of years i suppose there 's\",\n",
       " 'xxmaj there has also been a greater than average amount of rain lately , and the atmosphere of most of the film is somewhat claustrophobic & oppressive . xxmaj the xxmaj aborigines are xxunk a secret and refuse to spill the xxunk . xxmaj this has a lot to do with white men making assumptions about \" xxmaj city \" vs. \" xxmaj tribal \" xxmaj aborigines , and of',\n",
       " \"xxmaj she does n't seem to be able to cry at all in a realistic way . i just could n't believe xxmaj xxunk could have fell for her and i 'm not mentioning the awful hairdo she was given . i could not help feeling some sympathy with her husband ! xxmaj fancy being married to such a xxunk ... xxmaj besides , he was the only main actor\",\n",
       " 'neighborhood kids trying to realize or xxunk their honest sexual feelings . xxmaj being raised by a grand - parent , of course from that generation there is shame associated with sexuality . xxmaj this provides for some predictable but well done conflict . xxmaj probably most enjoyable was the way the main character grew a little bit in his xxmaj romantic relationship realizing a greater depth to sexual feelings',\n",
       " \"the last but certainly the least was the acting . xxmaj absolutely the worst group of actors and actresses ever assembled . a virtual xxunk of xxunk lines and poor acting . xxmaj worst part by far was when then randomly flash back to this fat foreign girl getting naked for a a photograph . xxmaj it 's a really long scene and i guess she was supposed to be\",\n",
       " '90 year old who tells her about the events on xxmaj rosenstrasse . \\n\\n  xxrep 5 * xxup spoiler xxup alert xxrep 5 * \\n\\n xxmaj lena talks about xxmaj berlin in 1943 where the xxmaj gestapo would hold all the xxmaj xxunk xxunk in a building on xxmaj rosenstrasse xxmaj street even though they are supposed to have immunity for being married to xxmaj xxunk and for nine days',\n",
       " 'the xxmaj grinch movie ... go watch that again , because this was no where near as good a xxmaj xxunk movie translation . xxmaj mike xxmaj xxunk \\' xxmaj cat is probably the most annoying character to \" grace \" the screen in recent times . xxmaj his voice / accent is terrible and he laughs at his own jokes with an awful xxunk sound , which is about',\n",
       " '. xxmaj too much xxunk , you need to image and connect those stories by your mind . xxmaj secondly , xxmaj the whole film did n\\'t have a scene of xxmaj alex and xxmaj kik \\'s sexual intercourse , that \\'s what i was waiting for xxunk . xxmaj however , it still had some parts were deserved to recommend . xxmaj the \" ear piercing \" part was',\n",
       " 'features the exact opposite in every way , boring scenery ( 20 minutes staring at a bland beach at night ? a completely white stage ? xxmaj alien balls floating in white space ? a xxunk school hallway and then a ... school hallway ? ) , terrible cinematography , forgettable dialog , nothing funny or humorous , save the fact you just wasted your life for two hours ,',\n",
       " \"so much ! xxmaj as i said , i was 14 when my xxmaj english teacher decided to show it to us ; the reason for this is that we had read an extract from the book . \\n\\n xxmaj all the girls in my class were xxup terrified when the xxmaj woman in xxmaj black comes through the window and xxunk over xxmaj kidd 's bed , although ,\",\n",
       " \"this movie will free your mind and set you xxunk . xxmaj we all know how tough life can be , xxunk we need to be reminded that xxunk and courage will get us through . xxmaj that 's what this film did for me and i hope it will for you . xxbos xxmaj reading web xxunk on xxmaj bette xxmaj davis one can find xxunk where authors claim\",\n",
       " \"wo n't see such sheer force of will until xxmaj john xxmaj xxunk in ' xxmaj the xxmaj brain xxmaj from xxmaj planet xxmaj xxunk ' ( 1957 ) . \\n\\n xxmaj finally xxmaj claire xxunk to marry him if he will let xxmaj greyson live and return to xxmaj america . xxmaj louque agrees , but actually turns him into one of his hypnotized slaves . xxmaj on their\",\n",
       " \"xxunk . xxmaj in fact , after this inferior fiasco , i wonder why xxmaj hollywood 's producers ever bothered to settle the screenwriters and directors strike threats . xxmaj let them walk . xxmaj trained monkeys could have done as well as they did in xxmaj planet of the xxmaj apes 2001 . i 'll bet the repeat viewings of this effort will be xxunk . xxmaj it could\",\n",
       " 'john xxmaj xxunk has directed with xxunk from a brilliant script by xxmaj xxunk xxmaj salt , and xxmaj john xxmaj barry \\'s haunting \" xxmaj midnight xxmaj cowboy \" theme adds to the poignant moments of search and desperation . \\n\\n xxmaj xxunk up : a true xxmaj american classic honestly xxunk a tough subject and daring to show the xxunk of certain aspects of city life . xxbos',\n",
       " \"xxunk ) is romantic & makes one believe in happy endings ! ! xxbos i understand that this movie is made for kids and as a parent i have sat through many movies that do n't particularly hold my interest , but i can appreciate from a xxunk point of view in how it is being received by my children . xxmaj parents are supposed to be encouraged after all\",\n",
       " \"stanley and xxmaj iris ' show the triumph of the human spirit . xxmaj for xxmaj stanley , it 's the struggle to become literate and realize his potential . xxmaj for xxmaj iris , it 's to find the courage to love again after becoming a widow . xxmaj the beauty of the movie is the dance that xxmaj robert deniro and xxmaj jane xxmaj fonda do together ,\",\n",
       " 'testament a few thousand years before xxmaj christ was born and by no means is she one of the five people you are going to meet in xxmaj heaven . xxbos ... that seem to be xxunk people into seeing qualities in this film that are just not there . \\n\\n xxmaj near xxmaj dark covered the same territory but with much more class , and action . \\n\\n why',\n",
       " 'the only thing special was how xxmaj robert duvall portrayed a rambling , senile , drunk , old man . xxmaj nothing worthy happens during the entire movie including the end . xxmaj when the movie ended , i sat amazed ... amazed that i sat through the entire movie waiting for something of interest to happen to make watching the movie worth while . xxmaj it never happened !',\n",
       " \"xxmaj gummer is , like xxmaj mama , the real deal ; xxmaj patrick xxmaj wilson looks like xxmaj paul xxmaj newman xxunk 1958 and does n't xxunk the charm ; and what a pleasure to see such excellent stage actors as xxmaj barry xxmaj xxunk and xxmaj eileen xxmaj atkins contributing sharp , detailed cameos . xxmaj hugh xxmaj dancy , also from the stage , does n't bring\",\n",
       " 'xxmaj door \" from her 1970s novel of the same title , or someone else did it . xxmaj this xxmaj lifetime - like movie was directed by xxmaj canadian director xxmaj jeff xxmaj xxunk . xxmaj having read the book a long time ago , we decided to take a chance when the film showed on a cable version of what was clearly a movie made for television .',\n",
       " 'also wrote the leaden xxmaj strange xxmaj days .. ) . xxmaj but the thing failed miserably at grabbing my attention at any point of its almost two hours of duration . xxmaj in all that time , it barely went beyond its two line synopsis , and i would be very hard pressed to try to figure out any kind of coherent plot out of all the mess of',\n",
       " 'did n\\'t like about it . i can only assume that maybe i was really in the wrong mood to watch it , or maybe i just did n\\'t get it . xxmaj in any event , i loved it this time , giving it a 9 out of 10 , or an \" a \" . \\n\\n xxmaj it might sound ridiculous saying i did n\\'t get a film',\n",
       " '. xxmaj although xxmaj pauline hates the people she has to work with , the woman does not want to loose her job . xxmaj so when an xxunk man gets an interview as xxunk , she does not allow him to go because he is not ready for the job yet . \\n\\n xxmaj then there is xxmaj barbara xxmaj xxunk , a xxunk taxi driver who goes into',\n",
       " \"beyond belief i 'm glad i did go to see it . xxmaj that 's because i now have an immediate answer to the question ' what 's the worst film you 've ever seen ? ' xxmaj plus , i have the comfort of knowing that every film i see for the rest of my life will be better than xxmaj the xxmaj tango xxmaj lesson . xxmaj but\",\n",
       " \"much xxunk than it actually is . xxmaj after all i 've had heard about this film , i was almost scared to watch it . xxmaj the murders are boring . xxmaj the acting ... forget it , there 's no acting ! xxmaj the story , even if we do n't care , is incredibly bad . xxmaj it seems they tried to get your attention with some\",\n",
       " \"stories and this movie respected none of them . xxmaj none . xxmaj not even the continuity . xxmaj it does n't respect xxmaj weapon x project , or the relationship between xxmaj wolverine and xxmaj xxunk , or xxmaj emma xxmaj frost , the motivations for wolverine are plain stupid and seen in millions of movies : xxmaj revenge for the death of a loved one . \\n\\n xxmaj\",\n",
       " 'temporary , film is forever . xxmaj whatever you do right now is burned into celluloid for all time and for thousands of years to come . \" \\x96 xxmaj robert xxmaj de xxmaj niro \\n\\n xxmaj this was initially a film for xxmaj steven xxmaj spielberg , the director hiring several screenwriters to adjust the screenplay so that it more suited his themes . xxmaj and so we have',\n",
       " \"horror movie . a great debut behind the camera . i regret the xxmaj brazilian title of this movie : ' a xxmaj mão do xxmaj diabo ' ( xxmaj the xxmaj devil 's xxmaj hand ' ) . xxmaj if at least it were ' xxmaj the xxmaj god 's xxmaj hand ' , it might be acceptable . xxmaj but calling this movie as ' the devil 's\",\n",
       " \"choose to dub over his own voice for so many of his lines , with a thin , xxunk xxunk 's voice no less . xxmaj what i also do n't get is , if they had to dub xxup some of his lines , why does his own voice appear on the rest of them ? i expect xxmaj seagal to age like the rest of us . xxmaj\",\n",
       " \"line could be embarrassingly theatrical , but the woman speaking it is xxmaj vanessa xxmaj redgrave , xxunk it with utter simplicity , and the question tears your heart out . \\n\\n xxmaj time and again , the film based on xxmaj susan xxmaj xxunk 's novel skirts sentimentality and xxunk , it holds attention , offers admirable performances , and xxunk emotional involvement as few recent movies have .\",\n",
       " 'was looking to attract younger viewers . xxmaj it also gave the writers a chance to write episodes about teenage problems , alcohol , xxunk , etc . xxmaj those kind of preachy episodes were popular in the 1960s as a reaction of the xxunk media to the counter - culture movement . xxmaj dragnet was probably the most popular source of law and order xxup tv , though xxmaj',\n",
       " \"\\n\\n xxmaj bassenger and xxmaj baldwin give xxup ok performances but they do n't have a lot to do except get chased and run for their lives . xxmaj sometimes less is more , after seeing the same thing over and over again it gets stale . xxmaj did n't enjoy this one to much . xxbos i picked this movie on the cover alone thinking that i was in\",\n",
       " '\" : instead of the xxmaj north xxmaj pole , xxmaj xxunk xxmaj old xxmaj saint xxmaj nicholas resides in a satellite in xxunk earth orbit ( shades of \" xxup mst3 k \" ) ; instead of xxunk his toys are made by children chosen from around the world ; and he had sophisticated spy equipment to check just which kids are naughty and nice . xxmaj the result',\n",
       " ', we focus on three sets of children : one , the lonely son of a rich couple who wants nothing more for xxmaj christmas than their company ( projected as a wish - xxunk fantasy where the boy finds his parents wrapped in extra - large xxunk ! ) , a girl from a poor family who xxunk to own a doll of her own ( the horned one',\n",
       " 'xxmaj the father / son motif that hangs over this picture is so heavy handed in its treatment that there is not much room for xxunk ; the entire enterprise has been very carefully wrought , and nearly all the dialog is delivered with an air of great xxunk : this is obviously a gangster film , hence the requisite amount of violence and bloodshed , but the film is',\n",
       " 'to an older woman who he meets on a park bench , xxmaj joey ( xxmaj carol xxmaj kane ) . xxmaj joey is sort of weird and child - like , but is a good audience for xxmaj nick , who needs a sympathetic ear . xxmaj the two of them go to xxmaj xxunk xxmaj island at night , and look at the stars . xxmaj nick falls',\n",
       " 'musical numbers . \\n\\n \" xxmaj bake \" xxmaj baker ( xxmaj astaire ) and xxmaj sherry xxmaj martin ( xxmaj rogers ) are two former dance partners whose romantic relationship fell apart after the latter rejected a marriage xxunk . xxmaj after xxmaj bake returns from several years of duty in the xxmaj navy , he finds xxmaj sherry as dance hostess in an unsophisticated xxmaj san xxmaj francisco',\n",
       " 'original story line . xxmaj while \" xxmaj angels in the xxmaj xxunk \" fails miserably in the first category , it succeeds beautifully in the latter two . \" xxmaj angels \" weaves the story of xxmaj roger and xxup j.p. , two xxmaj xxunk foster kids in love with baseball but searching for a family , with that of the xxunk xxmaj angels franchise , struggling to draw',\n",
       " \"'d never thought i 'd say that ) , worst the xxmaj plan 9 , xxmaj worst the xxmaj ishtar , worst then xxmaj the xxmaj golden xxmaj child . xxmaj please xxmaj hollywood , quit allowing xxmaj ben xxmaj stiller in your movies , he 's not funny , he 's a god awful actor , and he 's bringing others down with him . xxmaj the following film\",\n",
       " 'in xxup hot xxup rod . \\n\\n 1 . xxmaj the xxmaj punch - xxmaj dance . xxmaj rod \" needs to go to his quiet place \" and before anyone can say xxmaj kevin xxmaj bacon , he is xxunk a passionate , xxunk xxunk to the xxunk of a band who wishes they had the big - hair faux - metal chops of xxmaj europe . \\n\\n 2',\n",
       " '? a certain wise man once said something about xxunk xxunk and xxunk xxunk . xxmaj do you in any way feel that maybe this could apply to what you are trying to do here ? :-) xxmaj this movie is just packed with irrefutable evidence against the claim once made by xxup u.s. government that the moon - missions were a success , and that man now are true',\n",
       " \"can find the humour in that -- and i could for the first 20 minutes or so , gradually xxunk off after that -- then that 's going to be the only thing the movie has to offer . xxmaj oh , that and two or three pairs of breasts . \\n\\n xxmaj woohoo , how exciting . \\n\\n xxmaj as for the story , it 's not even that\",\n",
       " \"before i seen this film , as the events in this film were really before my time . xxmaj but it 's more about the story of xxmaj donald xxmaj woods and his journey across the border into xxmaj xxunk as he tried to elude the xxmaj south xxmaj african officials . xxmaj woods was put on a five year type house arrest after xxmaj steve xxmaj biko was killed\",\n",
       " \"up in a hospital , and finds that his body is xxunk on him as he sits there feeling like a xxunk . xxmaj the melting man is played by one xxmaj alex xxmaj rebar , who is recognizable for about the first four minutes of the film . xxmaj but once he starts xxunk ' with xxmaj rick xxmaj baker 's extraordinary special effects makeup he more resembles something\",\n",
       " \"rotting corpse that 's been possessed by the devil . xxmaj and there 's a neat ending where disfigured , xxunk people try to xxunk xxmaj alison into committing suicide so she wo n't be the next one to guard the portal . xxmaj it seems xxmaj alison 's troubled past makes her a prime xxunk by the xxmaj vatican to become the next sentinel . \\n\\n xxmaj an excellent\",\n",
       " \"it 's actually one of my favorite scenes of xxmaj season 1 . \\n\\n xxmaj for some reason , people have always hated the xxmaj xxunk episodes , yet i have always liked them . xxmaj they 're not the best , in terms of writing . but the theme really does interest me , \\n\\n i 'm gon na give it a xxup three star , but if the\",\n",
       " 'high - stakes match between xxmaj iran and xxmaj xxunk that , in 2005 , qualified xxmaj iran to go to the xxmaj world xxmaj cup ( the movie was actually filmed in large part during that game ) . \\n\\n \" xxmaj offside \" is a slice - of - life comedy that will remind you of all those great xxunk films ( \" xxmaj the xxmaj shop on',\n",
       " \"'d have to see this lame attempt at movie - making on their account . xxmaj the movie overall is bad enough to be funny , and that 's about the best thing i can say for it . xxbos xxmaj though i liked xxmaj on the xxmaj town better i really liked it . i 'm a new xxunk when it comes to xxmaj frank xxmaj sinatra and xxmaj\",\n",
       " 'whoever gets in his way . xxmaj this is movie \\'s weakest point , but if you can overlook that , it \\'s loads of fun . xxbos \" a death at a college campus appears to be a suicide but is actually a cover for murder . xxmaj the dead man \\'s roommate finds himself embroiled in a mystery as he tries to xxunk the truth behind the young',\n",
       " 'life in prison mainly for crimes he did not commit . xxmaj of course the crimes he did commit ( stealing mostly ) was only to survive , nothing more . xxmaj people felt sorry for him , even though the drug dealers and thieves probably xxunk to as much for the same reasons but are looked down upon in society . xxmaj everything in this movie tries to portray',\n",
       " 'like it when a movie is able to completely xxunk me , but i felt out and out lied to , they whole time they lead you in one direction and then suddenly they decided to go in a completely different direction at the end , they gave no hit to it at all , that s not misleading that very bad writing and planning , someone did not think',\n",
       " \"in the bonus features where he 's standing in front of the xxmaj anne xxmaj frank house i think . ) xxmaj this is a true xxmaj orwellian head - trip . xxmaj he blames xxmaj christianity in particular on many pointless deaths -- which has had its share , though far smaller than xxunk even including a basic view of the evidence . xxmaj perhaps this is because that\",\n",
       " \"squarely at his age group , added nothing to the xxmaj thunderbirds legend . xxmaj when xxmaj star xxmaj trek hit the big screen in 1979 with ' xxmaj the xxmaj motion xxmaj picture ' , a whole new lease of life was xxunk into the franchise which then continued for another 20 years or so . xxmaj with this film , xxmaj xxunk has missed a golden opportunity to\",\n",
       " \", who gets totally xxunk around by the leader of these militaries . xxmaj what a pity that the script did n't make her stand up a bit more ! \\n\\n xxmaj in the end this sums up as being a silly and rather boring movie , hardly scary or thrilling , with unbelievable goings - on , a lot of xxunk xxmaj national xxmaj xxunk - like visuals of\",\n",
       " 'worthy of xxmaj maria xxmaj xxunk . \\n\\n xxmaj the story moves xxunk in bold episodes , with special effects that are still handsome . xxmaj it also contains some wonderful lines . xxmaj one xxmaj rukh restores his mother \\'s sight , he asks , \" xxmaj mother , can you see , can you see ? \" \" xxmaj yes , i can see \\x85 more clearly than',\n",
       " 'me no more ! \" xxmaj bakshi xxunk xxmaj frodo \\'s character as xxmaj tolkien conceived it . xxmaj we see his decline as the weight of his xxunk xxunk . xxmaj frodo is so pivotal to xxmaj lord of the xxmaj rings you wonder why xxmaj jackson took such xxunk ( he does so with numerous xxunk character development xxunk the plot to its inevitable conclusion . xxmaj bakshi',\n",
       " 'so many ways . xxmaj gary xxmaj cooper was not yet a star and this film is highly reminiscent of the early films of xxmaj john xxmaj wayne that were done for \" poverty row \" studios . xxmaj with both actors , their familiar style and persona were still not completely formed . xxmaj this incarnation of xxmaj gary xxmaj cooper does n\\'t seem exactly like the xxmaj cooper',\n",
       " 'better . xxmaj tarzan xxunk with xxunk the crocodile machine xxunk in the water like a rolling pin , around and around , jaws xxunk . xxmaj tarzan can kill it with his xxunk knife if the xxunk xxunk would hold still . xxmaj tarzan kills lions and xxunk and a xxunk xxunk number of animals . xxmaj his friends are real xxunk , people wearing larger ape costumes ,']"
      ]
     },
     "execution_count": 7,
     "metadata": {},
     "output_type": "execute_result"
    }
   ],
   "source": [
    "n = next(it)\n",
    "[data.vocab.textify(x) for x in n[0]]"
   ]
  },
  {
   "cell_type": "code",
   "execution_count": 8,
   "metadata": {},
   "outputs": [
    {
     "data": {
      "text/plain": [
       "['xxmaj buy xxmaj american -- the job you save may be your own . \" \\n\\n \" xxmaj gung xxmaj ho \" does a better job of capturing the mood of the xxmaj american industrial xxunk than just about any other popular movie made during that period . xxmaj certainly the movie has its flaws -- some loose plot threads and mediocre acting jobs by everyone except xxmaj michael xxmaj',\n",
       " 'of like xxmaj coleman xxmaj francis ( director of many bad xxunk ) tries to cover the info up , but xxunk man runs around killing everyone he sees because he is melting . xxmaj he attacks a bickering old couple because he is melting . xxmaj he makes one terrible actress scream and xxunk xxunk for about 10 minutes because he is melting . xxmaj he is melting because',\n",
       " \"'s sake : xxup don't xxup see xxup this xxup movie ! xxbos xxmaj first of all , in defense of xxup joan xxup fontaine , it must be said that xxmaj ginger xxmaj rogers would have been terribly miscast as xxmaj xxunk , the young xxmaj british lady who has the title role . xxmaj fontaine makes a xxunk picture as the heroine here , but her acting xxunk\",\n",
       " \"could overcome this . xxbos i thoroughly enjoyed this film for its humor and pathos . i especially like the way the characters welcomed xxmaj gina 's various suitors . xxmaj with friends ( and family ) like these anyone would feel xxunk and loved . i found the writing witty and natural and the actors made the material come alive . xxbos a dog found in a local kennel\",\n",
       " 'oh xxup god , xxup you xxup devil ; and xxup going xxup in xxup style . xxmaj he died in 1996 age 100 , having proved that he was more than just a brilliant straight man for his wife xxmaj gracie xxmaj xxunk . xxbos xxmaj well , i suppose the good news concerning xxmaj william xxmaj xxunk \\'s 2001 opus , \" xxmaj the xxmaj double - d',\n",
       " \"xxunk the original , xxunk ending where xxmaj nicholson goes over the edge and xxunk the border xxunk station that was cut after preview audiences found it too downbeat but which still featured xxunk in the film 's trailers . \\n\\n xxmaj while that probably was n't too convincing considering how low - key xxmaj nicholson 's crisis of conscience is in the film , it had to be better\",\n",
       " 'not a lot to choose from . xxbos xxmaj pixar has had massive success over the years with the full - length xxup cgi animated movies they have made . \" a xxmaj bug \\'s xxmaj life \" was the second of a whole bunch of features they have made so far , xxunk by the company \\'s feature - length debut , the groundbreaking \" xxmaj toy xxmaj story',\n",
       " \"course no xxmaj xxunk in the big city would practice tribal ways . xxmaj uh huh . xxmaj chamberlain is having strange dreams and he is somehow the key to what 's happening , although no matter how many times i 've seen this i ca n't quite grasp the exact connection . xxmaj this is a very eerie and creepy film , and is a fine example of xxmaj\",\n",
       " \"that sounded right to me . xxmaj toby xxmaj xxunk i found just xxup ok , xxmaj helen xxmaj graham 's brother not very good . \\n\\n xxmaj maybe it 's difficult to xxunk a novel that deals with such bleak subjects as xxunk and cruelty . xxmaj besides , what is only hinted at and left to the reader 's imagination in the book is xxunk upon with xxunk\",\n",
       " \". a good watch but nothing stirring xxrep 4 . xxbos i had heard some not too good things about this movie and had probably seen the low score here at imdb and that 's why i had avoided it . xxmaj today they showed xxmaj vanilla xxmaj sky on xxup tv and as i had nothing better to do ... and as it turned out , i would have\",\n",
       " 'sexy , but she was xxup not . xxmaj also , and this was one of the few enjoyable parts of the movie for me , was this tool who is supposed to be \" athletic . \" xxmaj for instance when he is bored in the movie he grabs a couple rocks and starts doing xxunk with them . xxmaj then later on he is supposed to be running',\n",
       " \"a group of women would wait outside and shout for their release . xxmaj eight year old xxmaj ruth ( xxmaj xxunk xxmaj lohde ) xxunk for her mother to come out and has nowhere to go but she meets 33 year old xxmaj lena ( xxmaj xxunk xxmaj riemann ) who takes her in . xxmaj lena 's husband xxmaj xxunk ( xxmaj martin xxmaj xxunk ) is also\",\n",
       " \"the only laughing i heard at the theater . xxmaj not even the kids liked this one folks , and kids laugh at anything now . xxmaj save your money and go see xxmaj xxunk xxmaj tunes : xxmaj back in xxmaj action if you 're really looking for a fun holiday family movie . xxbos xxmaj this movie is still an all time favorite . xxmaj only a pretentious\",\n",
       " \"kind of interesting . xxmaj alex was willing to suffer the pain of ear piercing to appreciate kik 's love . xxmaj that was a touching scene which gave you a little idea of their love . xxmaj also , the scene of they were lying in the soccer field , the conversation express their loves were truthful and passionate . xxbos xxmaj in order to hold the public 's\",\n",
       " 'soundtrack ? , amateurish performances , uneven , disjointed , and often flat out xxunk pacing , zero flow whatsoever . \\n\\n xxmaj there are those that claim this is what makes xxup fffc a great movie , that it is so xxunk at every turn that its pure genius . xxmaj this is simply a way to stroke your own ego it seems , because \" xxunk \" could',\n",
       " 'just before that there is something that also frightened us , which was when xxmaj kidd finds the toy soldier underneath his xxunk , and he hears a child \\'s voice say \" xxmaj it \\'s for you \" . xxmaj that scene still haunts me to this day , nearly 7 xxup years after i saw the film . \\n\\n xxmaj if you are easily scared , xxup avoid',\n",
       " \"that there is nothing special about her acting . i even found a site which claimed that xxmaj bette xxmaj davis ' success was probably due to her luck . xxmaj but xxmaj ms xxmaj davis films of 1934 tell quite the opposite . xxmaj the most evident example are two films that she did only few weeks apart : xxmaj fog over xxmaj xxunk and xxmaj on xxmaj human\",\n",
       " \"wedding night he realizes that xxmaj claire will only begin to love him if he gives up his ' powers . ' xxmaj to gain her love , he does so , causing the ' revolt ' of the title , in which all his slaves xxunk and attack his compound and kill him . xxmaj greyson xxunk xxmaj claire , and we seem to be at the end of\",\n",
       " 'have been a new franchise , and a wonderful new step for imagination . xxmaj another opportunity lost . xxbos xxmaj like many xxmaj americans , i was first introduced to the works of xxmaj hayao xxmaj miyazaki when i saw \" xxmaj spirited xxmaj away . \" i fell in love with the film and have seen it many times . xxmaj now i am on a search to',\n",
       " '\" xxmaj national xxmaj treasure \" ( 2004 ) is a thoroughly misguided xxunk - xxunk of plot xxunk that borrow from nearly every cloak and dagger government conspiracy cliché that has ever been written . xxmaj the film stars xxmaj nicholas xxmaj cage as xxmaj benjamin xxmaj xxunk xxmaj xxunk ( how precious is that , i ask you ? ) ; a seemingly normal fellow who , for',\n",
       " \"to take part in their children 's activities and to xxunk the quality of the entertainment that they view so there should be something that xxunk to an adult audience on some level even in children 's movies . xxmaj disney has always understood this which is why it is so hard to fathom how it could allow such a complete piece of drek to bear their name . \\n\\n\",\n",
       " 'starting and stopping , before each has the skills and courage to completely trust each other and move on . xxmaj in that sense it very nicely gives us a good view of how life often is , thus being credible . xxmaj unlike some other reviewers i found the characters each xxunk to be consistent for the whole picture . xxmaj the supporting cast is also carefully chosen and',\n",
       " \"the script kept their ' big secret ' so long was a total mystery to me - i guessed it at the breakfast scene at the start of the film . xxmaj by the time it was revealed to the viewer it was just a case of ' big deal , tell me something i do n't know . ' \\n\\n i found this to be pointless movie that may\",\n",
       " \"xxmaj the cast of characters suddenly started rolling making it apparent that the movie really was over and i realized that i had just wasted 2 hours of my life watching a movie with absolutely no plot and no meaning . xxmaj it was n't even a story . xxmaj the entire movie takes place in a day 's worth of time . xxmaj that 's it . xxmaj it\",\n",
       " \"much edge to the somewhat clichéd role of an unhappy rich xxunk , and the family issues are resolved perhaps more neatly than real life would allow . xxmaj but it 's a deliberately paced , visually gorgeous xxunk on real life issues , and you can cry at it and not feel like you 're being xxunk manipulated . xxmaj also , what a xxunk parade of 1940s /\",\n",
       " \"xxmaj you know that when the critical moments xxunk the commercials , which of course , one ca n't find in this version we watched . \\n\\n xxmaj the film 's star is xxmaj lara xxmaj flynn xxmaj boyle who sports a new look that threw this viewer a xxunk because of the xxunk transformation this actress has gone through . xxmaj from the new eyebrows to other parts of\",\n",
       " 'xxunk that went nowhere . xxmaj on top of that , i do n\\'t think the xxunk xxunk even those of any regular \" a - xxmaj team \" episode . xxmaj as for xxmaj xxunk , yes , she is gorgeous , of course , but the fact that she only displays one single facial expression the entire movie ( xxunk and xxunk ) , makes me also get',\n",
       " \"like this , but there is something to get . xxmaj valentine is almost a comedy / horror . xxmaj director xxmaj jamie xxmaj blanks , who was also responsible for xxunk 's xxmaj urban xxmaj legend , takes the stereotypical teen horror formula that became so popular in the late 1990s in the wake of xxmaj scream ( 1996 ) and pushes most of the elements up a notch\",\n",
       " 'great detail about \" her \" sexual xxunk . \\n\\n xxmaj furthermore the vet , xxmaj mr. xxmaj chinnery , always kills animals instead of curing them . xxmaj in one case , he comes to a farm and is xxunk into the sitting room , where a dog lays in his xxunk . xxmaj the farmer goes outside . xxmaj on the assumption that the dog is the sick',\n",
       " 'i have to admit i was impressed with the way xxmaj potter wrote a script that would garner the maximum number of arts council grants from around the world ( as is revealed in the closing credits ) . \\n\\n i only very recently saw xxmaj orlando and i can see how xxmaj potter learnt the wrong lessons from making that film . xxmaj all it took was a bunch',\n",
       " \"weird sexual scenes and naked girls , but unfortunately in this case it does n't help the movie . xxmaj why ? xxmaj there 's no atmosphere , and this is the worst thing about this flick . xxmaj it 's just bad film - making from point a to xxup b. xxmaj though it 's extremely funny and amusing to watch with your friends and a lot of xxunk\",\n",
       " 'oh . xxmaj what i was expecting the whole darn movie was a xxmaj xxunk moment for xxmaj wolverine similar to the one he has in xxup x2 in the school when xxmaj stryker men come in and he alone xxunk the enemy forces , but hey , this is xxmaj fox , this a family flick and you will not see explicit violence from the most violent and gruesome',\n",
       " 'a dysfunctional family that is threatened by a deranged monster in the form of a recently released from prison xxmaj robert xxmaj de xxmaj niro . xxmaj like \" xxmaj jurassic xxmaj park \" , \" xxmaj xxunk \" and \" xxmaj war of the xxmaj worlds \" , the dysfunctional family xxunk together to defeat the beast , the beast being the creation of the father , a lawyer',\n",
       " 'hand \\' is indeed ridiculous . xxmaj brent xxmaj xxunk , the screenwriter , did not deserve such a lack of respect from the xxmaj brazilian distributor . xxmaj this film is highly recommended . xxmaj my vote is eight . \\n\\n xxmaj title ( xxmaj brazil ) : \" a xxmaj mão do xxmaj diabo \" ( \" xxmaj the xxmaj devil \\'s xxmaj hand \" ) xxbos i',\n",
       " 'but the xxmaj seagal in this movie barely exudes a xxunk of the same xxunk , confidence , bravado , charm , and sex - appeal he so easily showed us in xxup all of his previous movies . xxmaj what i found myself missing most of all was his xxunk , self - assured attitude and his bad - ass xxunk that so easily xxunk into that adorable grin',\n",
       " 'xxmaj with only six months of the year gone , there are now two memorable , meaningful , worthwhile films in theaters , the other , of course , being xxmaj sara xxmaj xxunk \\'s \" xxmaj away from xxmaj her . \" xxmaj hollywood might have turned \" xxmaj evening \" into a xxunk celebrity vehicle with its two pairs of real - life mothers and daughters - xxmaj',\n",
       " 'hawaii 5 - 0 , xxmaj the xxup xxunk and many other shows also tried to jump on the bandwagon by doing xxup tv shows that featured irresponsible teenagers causing mischief , mayhem , and crime . \\n\\n xxmaj the addition of a teenager to the cast gave the xxmaj xxunk more chances to show up and solve problems , but those episodes feel very contrived and are not very',\n",
       " 'for an adventure to the level of \" xxmaj indiana xxmaj jones and xxmaj the xxmaj temple of xxmaj doom \" . xxmaj unfortunately i was in for a virtual yawn . xxmaj not like any yawn i have had before though . xxmaj this yawn was so large that i could barely find anything of quality in this movie . xxmaj the cover described amazing special effects . xxmaj',\n",
       " \"is like an xxmaj orwellian outer space sweat shop . xxmaj it 's enough to turn you off xxmaj christmas forever . xxmaj this and other low - rent xxmaj mexican children 's ' films were dubbed in xxmaj english and widely distributed in the xxup u.s. in the early 1960s ; no wonder the xxunk became such a xxunk period in xxmaj american history . xxmaj the baby xxunk\",\n",
       " \"first xxunk her to steal one , then xxunk the little one 's dreams \\x96 to no xxunk ) and a trio of xxunk who , xxunk on once again by xxmaj satan , think of nothing but causing mischief and eventually fall out amongst themselves . xxmaj there is definitely imagination at work here , but it is xxunk with little xxunk or reason , while the overall juvenile\",\n",
       " 'nearly devoid of any humor to speak of ; only in scenes involving a young boy driving a getaway car in a xxunk edited montage is there any sense of xxunk to xxunk the xxunk sense of doom . \\n\\n xxmaj that being said , i have nothing but the highest praise for the stunning look of this film ; indeed , it is not an overstatement to say that',\n",
       " \"under xxmaj joey 's spell , despite the age difference between them . xxmaj they go back to xxmaj joey 's apartment , and xxmaj nick gradually realizes that he is about to have sex with a crazy old woman . xxmaj she is on top of him , does n't want to let him go . xxmaj but he manages to escape . \\n\\n ( xxmaj this is ,\",\n",
       " 'xxunk . xxmaj while the two former lovers alternately attempt to xxunk and xxunk each other , xxmaj sherry \\'s plain , music - teacher sister ( xxmaj harriet xxmaj hilliard , looking really quite pretty ) receives a complete xxunk and tries to charm superficial sailor xxmaj bilge \" xxmaj xxunk \" xxmaj smith ( xxmaj randolph xxmaj scott ) . xxmaj there are plenty of the usual screwball',\n",
       " \"fans and win games . xxmaj pushed by his xxunk father 's promise that they would be a family only when the xxmaj angels win the xxunk , xxmaj roger asks for some heavenly help , and gets it in the form of diamond - dwelling xxunk bent on xxunk the franchise 's downward spiral . xxmaj and , when short - xxunk manager xxmaj george xxmaj knox ( portrayed\",\n",
       " 'was xxunk 1 because there are no negative scores allowed , so while the board says one , i \\'ll give it a xxmaj zero . xxbos xxmaj three part \" horror \" film with some guy in a xxunk up house xxunk the viewer not to go \" out there \" and ( unfortunately ) gives us three tales to prove why . \\n\\n xxmaj the first story involves',\n",
       " \". xxmaj john xxmaj farnham 's xxmaj you 're xxmaj the xxmaj voice . xxmaj in one of those epic sequences where the star and his xxunk do xxmaj the xxmaj xxunk xxmaj walk down xxmaj main xxmaj street and the xxunk follow on their heels in support , the soundtrack is the gag . xxmaj how did the film - makers even come across this xxmaj xxunk recording artist\",\n",
       " 'masters of the universe . xxmaj things are nearly never quite what they seem .. xxmaj just watch the movie , and i dear say you \\'ll see things a bit different than before . \" \\n\\n xxmaj first off , weather data does n\\'t come from xxup nasa , it comes for met agencies around the world . xxmaj second , the weather data undermines a major claim in',\n",
       " \"it does n't try to convey anything : the victims either use drugs and / or are involved in serious crime . xxmaj the lesson : xxmaj watch out , naughty boys and girls , because one day you 'll be made to pay for what you 've done . \\n\\n i rest my case . \\n\\n xxmaj so , all in all , a little bit of sex ,\",\n",
       " \". xxmaj so in order to publish his manuscript on xxmaj steve xxmaj biko , he had to escape . xxmaj because the manuscript would be considered xxunk in xxmaj south xxmaj africa and that could have resulted in xxmaj woods meeting a fate similar to that of xxmaj biko 's . xxmaj the real xxmaj donald xxmaj woods and his wife acted as xxunk to this film . \\n\\n\",\n",
       " 'you might find in a tin of spam before you drain off all the xxunk , xxunk xxunk of grease . \\n\\n xxmaj the film has zero xxunk and does not xxunk about with plot points : xxmaj there are a couple of scenes involving scientist types riding around on an absurd industrial xxunk machine who xxunk recite a few obligatory lines about the effects of radiation but the movie',\n",
       " ', creepy 70s classic from director xxmaj michael xxmaj winner that should n\\'t be missed . i also recommended it for those who want something a little more imaginative beyond the usual stupid teenager slashers and horror comedy . \\n\\n 7 out of 10 \\n\\n - xxbos xxmaj erich xxmaj rohmer \\'s \" l\\'anglaise et le duc \" makes a perfect companion piece to xxmaj peter xxmaj xxunk \\' \"',\n",
       " 'writing were a little more consistent i \\'d give it xxup four . xxbos xxmaj this movie has always been a favorite of mine since first seeing it as a 12 year old kid in 1962 when it was shown on a xxmaj los xxmaj angeles television station \\'s \" late show \" . xxmaj the characters are very engaging from the start of the picture , and it is',\n",
       " 'xxmaj main xxmaj street , \" \" xxmaj loves of a xxmaj blonde , \" \" xxmaj closely xxmaj watched xxmaj trains \" etc . ) that xxunk out of xxmaj communist xxmaj czechoslovakia as part of the \" xxmaj xxunk xxmaj miracle \" in the mid 1960 \\'s . xxmaj as with many of those works , \" xxmaj offside \" is more concerned with xxunk life than with',\n",
       " \"gene xxmaj kelly . xxmaj though i had heard of them i had never seen anything with them in it until recently . xxmaj the first one i saw was xxmaj xxunk in the xxmaj rain that made me a fan of xxmaj gene 's . i think that is better too . xxmaj but i thought that this movie was good and like all movies there are some parts\",\n",
       " 'man \\'s murder . xxmaj twists and turns , as well as some false leads , makes this a tough case for our xxunk hero to solve , let alone ( keep ) out of the clutches of the killer , \" according to the xxup dvd xxunk \\'s synopsis . \\n\\n xxmaj the stars may be bigger than the movie . xxmaj handsome xxmaj charles xxmaj starrett ( as',\n",
       " 'this man as a saint ( except for the obvious xxunk he had towards his wife and the aggression he showed the other man when he met his wife ) but why would n\\'t it - after all , it is his point of view . i do not like movies ( especially xxmaj hollywood xxunk ) that are based on \" true \" stories because they usually xxunk the',\n",
       " \"at all ! \\n\\n i felt the movie would have been much better if they had stuck to the plot that the lead you on , they also seemed to not answer anything , why did xxmaj xxunk ) burn down the professor 's house . \\n\\n xxmaj its a great pity as i felt it started out as a relatively good movie . xxbos i do have the `\",\n",
       " 'argument is xxunk by secular xxunk \\'s miserable record of the 20th xxmaj century xxup alone . \\n\\n xxmaj another glaring weakness is his unwillingness to talk to anyone that would be considered a moderate or \" average \" xxunk . xxmaj he picks out the weakest xxunk of the xxunk . xxmaj how difficult is that ? xxmaj how does proving the existence of exceptions move toward xxunk the',\n",
       " \"do the same with the xxmaj thunderbirds franchise . \\n\\n i predict that this film , like ' xxmaj the xxmaj avengers ' and ' the xxmaj saint ' before it , will xxunk into obscurity within 6 months , leaving the original series to its ' classic ' status . xxbos xxmaj jack xxmaj frost is xxmaj really a xxmaj cool xxmaj movie . i xxmaj mean xxrep 4\",\n",
       " 'wolves running around woods and xxunk ( who cares ? ! ? ) , some pretentious xxmaj indian xxunk about xxmaj man and xxmaj nature and an uneven musical score with xxunk songs at the most inappropriate moments . i guess the word \" xxunk \" covers it all . xxbos i saw this film a couple of weeks ago , and it \\'s been stuck in my head ever',\n",
       " 'ever . xxmaj and what i see xxunk me . \" xxmaj even better when mother xxmaj rukh says , \" xxmaj he broke the first law of science . \" i am not alone among my xxunk in having xxunk for many many years exactly what this first law of science is . \\n\\n xxmaj this movie is definitely desert island material . xxbos xxmaj really good horror flick',\n",
       " \"'s film better explores the xxunk between xxmaj xxunk and xxmaj xxunk in a few xxunk scenes that are completely lacking in xxmaj jackson 's version . xxmaj similarly we see xxmaj xxunk xxunk with xxmaj xxunk and xxmaj merry , xxunk the idea of xxunk . xxmaj for my liking the camaraderie is more developed in the animated version than the live action . \\n\\n xxmaj tolkien 's poetry\",\n",
       " 'of just a few years later ( he talks faster in this early film , among other things ) . \\n\\n xxmaj however , unlike the average b - movie of the era , there are at least a few interesting elements that make the film unique ( if not good ) . xxmaj if you ever want to see the woman that was married to xxmaj errol xxmaj flynn',\n",
       " \"and elephants . xxmaj in fact , they use xxmaj indian xxunk more friendly and xxunk than xxmaj african xxunk costume ears attached to their heads . xxmaj the human story : another white man , worse than the rest , shows up to join with xxmaj holt to go after the ivory from the elephant graveyard . xxmaj tarzan wo n't show them the way , so the bad\"]"
      ]
     },
     "execution_count": 8,
     "metadata": {},
     "output_type": "execute_result"
    }
   ],
   "source": [
    "n2 = next(it)\n",
    "[data.vocab.textify(x) for x in n2[0]]"
   ]
  },
  {
   "cell_type": "code",
   "execution_count": 14,
   "metadata": {},
   "outputs": [],
   "source": [
    "it2 = iter(tdl)"
   ]
  },
  {
   "cell_type": "code",
   "execution_count": 15,
   "metadata": {},
   "outputs": [
    {
     "data": {
      "text/plain": [
       "[\"no matter what script he 's following . xxmaj his character , xxmaj hunt xxmaj stevenson , is a likable , affable xxunk , a natural leader with a wise - ass xxunk . xxmaj but he has a fatal flaw common to many of us : he does n't want to disappoint anyone . xxmaj he 'll distract the crowd with inspirational xxunk , and even lie , rather\",\n",
       " 'sex , then killed by human xxunk . xxmaj there is plenty of gore , including the classic \" something is wrong with her , oh no , it \\'s half the person she used to be \" and the xxunk murder caused by panic . xxmaj but you can also find funny stuff like intestines pulled through someone \\'s ass and a guy running in the woods then finding',\n",
       " 'patience from the viewer . xxmaj it must be said that some of the humor falls flat and the usual romantic misunderstandings that occur in any xxmaj fred xxmaj astaire film of this period are given conventional treatment . xxmaj only the musical interludes give the story the lift it needs . \\n\\n xxmaj some pleasant xxmaj xxunk tunes pop up once in awhile but not all of them get',\n",
       " 'adult i now realize that it \\'s merely lame , boring , and not really well - acted in the least bit . \\n\\n xxmaj my xxmaj grade : d xxbos xxmaj the problem with \" xxmaj the xxmaj killer xxmaj elite \" is that just by seeking this film out , and xxunk time to watch it , you are putting more effort into the experience than many of',\n",
       " 'one of the worst pictures that i have ever seen . xxmaj look no further for the xxunk superhero movie ever made ! xxmaj the plot here , such as it is , deals with xxmaj kitten gaining xxunk after xxunk the rare xxunk plant in xxmaj south xxmaj america to cure her breast cancer ( xxunk ) , and later xxunk a trio of xxunk bikini dancers back in',\n",
       " \"the sudden lurch into melodrama is all the more jarring . xxmaj unfortunately xxmaj xxunk xxmaj xxunk 's beautiful title song , xxmaj across the xxmaj borderline , says it all much more economically . xxmaj but if you want to know the film 's real crime , it 's completely wasting the great xxmaj warren xxmaj oates in a nothing bit part . xxmaj when even he ca n't\",\n",
       " \"come and take it every year . xxmaj one member of this colony is xxmaj flik , an inventor with a bad reputation for causing trouble with his inventions , even though he does n't mean to . xxmaj one year , when the colony has just finished preparing the xxunk offering , xxmaj flik accidentally knocks it into a stream just before the grasshoppers arrive to get it !\",\n",
       " 'the motions , its always nice to see actors really trying to xxunk their craft . \\n\\n xxmaj the story deals with the xxunk possible return ) of a disfigured xxunk . xxmaj the others are xxunk to xxunk , but the xxunk of the event xxunk each person in different directions in their xxunk . xxmaj ten years later , the friends are murdered one by one by a',\n",
       " 'xxmaj matrix xxmaj reloaded , it was time to buy the xxup dvd and watch it . \\n\\n xxmaj the disappointment was too great . xxmaj the premise of the matrix ( the controlling device as opposed to the movie ) was clever . xxmaj the philosophical premise of parallel worlds , alternate realities is xxunk . xxmaj however , i could still have bought into the film , as',\n",
       " 'market ... this movie has a real feel to it . xxmaj while it may be deemed as a movie that has cheap emotional draws , it also has that message of xxunk , and overall good morals . xxmaj however , i did not like the lighting in this movie ... for a movie dealing with such subject matter , it was too bright . i felt it took',\n",
       " \"at this film with high expectations . i was aware of xxmaj xxunk 's work and ' xxmaj the xxmaj xxunk ' and was interested in an adaptation . i first wanted to switch off after ten minutes , but felt that it would be unfair . xxmaj there was a representation of a storm , but where in your mind do you xxunk a small boy peeing over a\",\n",
       " \"but what it simply wants to do is just shed a light on a small but true life event that occurred during an historical period . xxmaj part of the films strength comes from its actors and there are some good performances that shine through especially by xxmaj riemann and young xxmaj lohde and it 's always good to see xxmaj schrader ( xxmaj xxunk & xxmaj xxunk ) in\",\n",
       " '- called movie \" stars \" of today . xxmaj cher is a real actor on the same level as xxmaj xxunk xxmaj xxunk , xxmaj alfre xxmaj woodard , xxmaj holly xxmaj hunter , xxmaj angela xxmaj xxunk and a few others , in that she never seems to be \" acting , \" she really becomes the character convincingly . xxmaj she has more than earned the respect',\n",
       " \"simply because i only watched it once or twice , but i doubt it . xxmaj if there was anything worth remembering about this film , you can rest assured i would remember it . \\n\\n xxmaj at the time this film was released , the franchise was still entering its dying phase , so a lot of media coverage was allotted to it . xxmaj it 's never a\",\n",
       " 'is no way indicative of the other psychedelic / xxunk films to come from xxmaj japan in the last 10 years . xxmaj taste of xxmaj tea , xxmaj party 7 , and xxmaj kamikaze xxmaj girls are much better movies ( even with a low budget ) , and none can honestly compare with xxmaj survive xxmaj style 5 + . xxmaj watch xxup fffc only if your interested',\n",
       " \"rent a xxmaj miyazaki film and watch it twice , you 'll get way more out of it . xxbos a very realistic portrait of a broken family and the effect it has on the kid caught in between . xxmaj as a child of divorced parents i was totally relating to events in the film . xxmaj also - a really cool zombie twist which i thought was xxup\",\n",
       " '. xxmaj and it was the latter role that xxunk her among the greatest stars . xxmaj so there is no question that xxmaj ms xxmaj davis knew from the start what she was doing . \\n\\n xxmaj the film , which tells about a medical student xxmaj phillip xxmaj xxunk ( xxmaj leslie xxmaj howard ) which falls xxunk in love with xxmaj cockney waitress xxmaj mildred xxmaj rogers',\n",
       " \"themes from the xxmaj xxunk brothers better , earlier film ' xxmaj white xxmaj zombie ' ( 1932 ) in which xxunk xxmaj robert xxmaj xxunk ( as xxmaj charles xxmaj xxunk ) uses ' zombification ' to win the love of xxmaj xxunk xxmaj xxunk ( as xxmaj madeline xxmaj parker ) . \\n\\n xxmaj if you want real zombie movies ( of which there are hundreds ! )\",\n",
       " 'lead him into danger with xxunk , the army and a lost floating city . \\n\\n xxmaj going into a film by xxmaj hayao xxmaj miyazaki means you can expect one thing : a sense of wonder and magic . xxmaj many filmmakers have tried , but no one can create a sense of magic and awe like xxmaj miyazaki . xxmaj watching a film by xxmaj miyazaki is like',\n",
       " \"meticulous plan of leaving clues scattered throughout xxup u.s. xxunk art work , is something that director xxmaj jon xxmaj xxunk never quite gets around to explaining . xxmaj could n't xxmaj washington found better usage for such wealth during the start up of the country ? xxmaj hence , we are left with a mystery built on top of an enigma that is already on shaky ground by the\",\n",
       " 'long as the right one is . xxmaj let us take a walk through this film to see what messages are given : \\n\\n xxmaj if you are lost , do n\\'t worry , you will inevitably find your way home . \\n\\n xxmaj approach wild animals without any fear . \\n\\n xxmaj you can win any competition just because you \" know \" you can . \\n\\n and my',\n",
       " \"... it is simply pointless junk . i 'm heavily leaning toward the latter but i guess some out there have developed a connection to this movie . \\n\\n xxmaj hmm ... plot . a plot . xxmaj let 's see ... there must be a plot around here somewhere . xxmaj nope , i ca n't find it . xxmaj it 's pretty much about some high school xxunk\",\n",
       " \"xxunk photography , unusual colors , or interesting angles . xxmaj also the film is funny is several parts . i also liked how the evil guy was portrayed too . i 'd give the film an 8 out of 10 . xxbos xxmaj of life in ( some ) colleges . xxmaj of course there were artistic xxunk taken , but some of what you saw in this film\",\n",
       " \"xxup tv film ' xxmaj ju - on ' and was inspired to remake the movie in xxmaj english . xxmaj this began a virtual xxunk of bad decisions which xxunk the globe until it washed ashore in xxmaj orlando on xxmaj october xxunk , 2004 . \\n\\n xxmaj the premise , and i use the word loosely , involves a house in xxmaj tokyo haunted by a xxunk xxmaj\",\n",
       " \"movie . \\n\\n xxmaj of course , i was n't at the right age to appreciate xxmaj xxunk xxmaj lee ! :-) xxbos a brutally depressing script and some fine low - key performances by xxmaj peter xxmaj strauss and xxmaj pamela xxmaj reed and some good location shooting in xxmaj xxunk power this fine xxup tv movie about hard times in the xxunk . xxmaj as the xxunk close\",\n",
       " 'bolton very much in transition - there are a number of scenes of apparent xxunk but this serves to show the town being xxunk - and the idea that the old must make way for the new is right at the heart of this film . a slightly miscast xxmaj james xxmaj mason leads an enjoyable ensemble in a story about a fuss over a xxunk that xxunk into a',\n",
       " 'something about a bitter old coot , xxmaj louis xxmaj xxunk ( xxmaj xxunk xxmaj xxunk ) , who goes searching in xxmaj xxunk for a heart xxunk , but beyond that , i have no idea who any of the people in the movie were or why they were doing what they were doing . xxmaj with no coherent storyline to boast of , the movie loses us early',\n",
       " \"it 's as if xxmaj blanks is attempting ( and mostly xxunk ) to transcend the typical teen slasher by mocking / xxunk the conventions of the genre while also xxunk xxunk . xxmaj that 's the attraction to the irony of basing a horror film on xxmaj valentine 's xxmaj day . xxmaj it 's an xxunk that is cleverly woven throughout the film , and that is itself\",\n",
       " 'to the actors , too . xxmaj tubbs is wearing a xxunk and some crazy characters , for example xxmaj edward , have xxunk black teeth . xxmaj the show has a great deal of dark humour , typical xxmaj british . xxmaj the set design reflects the mood of the series . xxmaj the village and all the houses look grey and are xxunk . xxmaj around the local',\n",
       " 'all the stories are just lies \" cliché . xxmaj this one , sadly , was no different , and like all scary movies , once you xxunk down that road there is no going back . \\n\\n xxmaj and the ending ? xxmaj how do the heroes do the same job over and over throughout the movie , but then mysteriously they get wrapped up in the moment and',\n",
       " 'then be subjected to this again . i honestly thought was going to be a xxup comedy like xxup airplane ! a spoof ! xxmaj was i wrong . xxmaj it \\'s that whole \" xxmaj it sucks , get it ! \" xxmaj or xxmaj samuel xxup a. xxmaj jackson yells \" xxmaj snakes on the xxmaj plane ! thing . xxmaj well i \\'m sorry , i do',\n",
       " \"the least well - known and very probably the best of them . xxmaj no other version of xxunk has ever attempted not only to present the story very much as xxmaj wells wrote it , but also to create the atmosphere of the time in which it was supposed to take place : the last year of the 19th xxmaj century , 1900 \\x85  using xxmaj wells ' original\",\n",
       " \"and , ironically , his most xxunk . \\n\\n xxmaj an artist 's failures or xxunk are often very revealing , xxunk the inner xxunk of their art . xxmaj when the story does n't work , the characters do n't connect or the images do n't xxunk , we find ourselves left with a kind of inner core . xxmaj this \\x96 the remaining xxunk is what the director\",\n",
       " \"xxmaj in all respects , a stupid film . xxmaj for people who 'd like to feel better about their environmental consciousness ... but not for any one who would like to think about the xxunk of the issues surrounding it . xxbos xxmaj recently , i had opportunity to view a working print in xxmaj kansas xxmaj city ( xxmaj xxunk , xxup xxunk . ) of this title\",\n",
       " \"lighting designer obviously forgot to show up . xxmaj it seems to be recorded on the xxunk of xxunk , and xxunk on even worse equipment . xxmaj make - up effect xxunk of black xxunk for the zombies and xxunk being xxunk over people 's heads in order to xxunk their skin melting . xxmaj this is nothing more than a home - movie , and a really bad\",\n",
       " ', \" the story taking place in a high - society xxmaj newport environment , in the days leading up to a wedding that is xxunk with trouble . \\n\\n xxmaj missed connections , wrong choices , and xxunk xxunk with social and family xxunk present quite a soap opera , but the quality of the writing , xxmaj koltai \\'s direction , and selfless acting raise \" xxmaj evening',\n",
       " 'xxmaj adam had moved away ( and never came back even once as a guest ) and xxmaj hoss had died and xxmaj little xxmaj joe had left after his wife ( in the series ) had been killed by xxunk . \\n\\n xxmaj overall , the era from 1959 - 1965 is the best of this series . xxmaj once xxmaj adam left , it slowly xxunk . xxmaj',\n",
       " 'of xxunk ( hence the name of the film ) . xxmaj sally xxmaj kirkland is also on hand as a crazy old coot who xxunk for the good xxmaj reverand in a shades of \" xxmaj misery \" type of way . xxmaj it \\'s sad to see a pretty good cast wasted like this . xxmaj not the least bit xxmaj john xxmaj savage in a xxunk forgettable',\n",
       " 'it . xxmaj at the same time , they learn things us parents did n\\'t know until way , way later . xxmaj the series covers everything to do with the human body from organs , all senses , blood , xxunk , xxunk , and much more in animated 20 - 25 xxunk episodes . xxmaj topics some people may find \" sensible \" , such as xxunk and',\n",
       " \"script comes from a first - time screenwriter who , thank xxmaj god , has n't sold anything since this , and it 's all thrown together by famously bad director xxmaj richard xxmaj xxunk . \\n\\n xxmaj the movie opens in a strip bar ( always a good sign ) , and a mean - looking biker guy xxunk in for no apparent reason , pursued by three cops\",\n",
       " '; everyone in the film is top notch , with special mention going to the two malevolent bad guys : xxmaj daniel xxmaj craig is the classic \" man you love to hate \" , the spoiled , xxunk son of xxmaj newman \\'s gangster father ; and an almost unrecognizable xxmaj jude xxmaj law as an especially slimy xxunk who goes on pursuit of xxmaj hanks and his son',\n",
       " 'of money from his company , and will be found out tomorrow . xxmaj his life is ruined . xxmaj joey realizes that the man is going to commit suicide , and she tries to make him believe that she is his friend , that she cares about him . xxmaj and she does care about him . \\n\\n xxmaj but the man packs a gun into his xxunk ,',\n",
       " \"if they are n't quite as memorable as those in ' xxmaj top xxmaj hat ( 1935 ) , ' ' xxmaj swing xxmaj time ( 1936 ) ' or ' xxmaj shall xxmaj we xxmaj dance ( xxunk ) . ' xxmaj astaire attempts to break free from his typical rich - man - about - town persona , without much success , but it 's hard to imagine\",\n",
       " 'preston xxmaj sturges , xxmaj jr. xxmaj the story was essentially based on xxmaj robert xxmaj louis xxmaj stevenson \\'s short story \" xxmaj the xxmaj bottle xxmaj xxunk \" . a good man comes into possession of an evil object that will grant him any wish but which will ultimately doom him to hell . xxmaj that \\'s fine . xxmaj nobody said screenwriters had to be original .',\n",
       " \"it has beautiful set designs , a nice erotic feel and a nice sex scene . xxmaj but ( again ) predictable and not even remotely scary . \\n\\n xxmaj it ends very stupidly . \\n\\n xxmaj all in all , the first one is worth watching , but that 's it . xxmaj tune in for that one then turn it off . xxbos xxmaj directed by the duo\",\n",
       " 'driving a xxunk into the heart of darkness . xxmaj or his fake mustache . xxmaj xxunk , someone actually thought that was funny . \\n\\n xxmaj without one jump under his starry belt , he plans for a xxunk xxunk - which would surely kill a lesser bad comedian , like xxmaj jason xxmaj xxunk or xxmaj rob xxmaj xxunk - to win the day and save his xxunk',\n",
       " \"just left it off at the soft - core gay clown porn in the beginning . xxmaj no , they run the xxunk of fart jokes , xxunk jokes , incest , racism , dressing up as xxup xxunk ... xxmaj this movie is flat out mean to anyone who 's ever played xxup xxunk \\n\\n xxmaj no wonder it looks like the xxmaj real xxup d&d would n't let\",\n",
       " 'flair . xxmaj just a bunch of amateurs singing xxup at each other ! \\n\\n xxmaj now , the first half hour was good , but i was irritated at how xxmaj eddie xxmaj murphy \\'s terrific xxunk performances were xxunk and interrupted by xxunk . xxmaj those were easily the best songs and best performances in the film . xxmaj and the \" rise to the top \" portion',\n",
       " 'xxmaj africa , the xxmaj south xxmaj african gestapo followed the film crew everywhere , so they got the bad xxunk and they pulled out and went to xxunk xxmaj zimbabwe instead . xxmaj despite everything , and the fact that the apartheid did n\\'t end \\' til seven years later , \" xxmaj cry xxmaj freedom \" was n\\'t xxunk in xxmaj south xxmaj africa . xxmaj but cinemas',\n",
       " 'movie was made in a bizarre made for xxup tv anthology horror piece called xxup house xxup of xxup the xxup dead ( or xxup the xxup alien xxup zone ) that is regarded as one of the finest movies ever made in xxmaj oklahoma , which is where i suspect this film was made as well . xxmaj the arid , cold looking rural midwestern landscapes are certainly the',\n",
       " 'to herself , is a supporter of the xxmaj revolution . \\n\\n xxmaj true to form , you do n\\'t know whose side of history xxmaj rohmer is going to come down on . xxmaj one of the xxunk of the xxmaj french \" xxmaj new xxmaj wave \" filmmakers , xxmaj rohmer has often been xxunk for being too conservative . xxmaj after all , in the midst of',\n",
       " \"an engaging and fascinating movie to watch . xxmaj an amazing aspect of this film is just how many of its stars , just starting out in their careers at the time 1944 ) , went on to became either major motion picture stars or at least well - known and fully - employed actors ( e.g. xxmaj judy xxmaj xxunk , xxmaj edmond o'brien , xxmaj xxunk xxmaj xxunk\",\n",
       " 'the prohibition xxunk . xxmaj yet , how can one not be impressed by the very real courage and xxunk displayed by these women as they go up against a system that continues to xxunk such a ridiculously xxunk and archaic xxunk ? xxmaj and , yet , the purpose of these women is not to xxunk behind a cause or to make a \" point . \" xxmaj they',\n",
       " 'conventional xxmaj hollywood features ... because there were no expensive sets , costumes , or high - xxunk movie stars . \\n\\n xxmaj the most successful makers of such films ( xxunk and xxunk ) were the team of xxmaj martin xxup e. xxmaj johnson and his wife xxmaj osa , who made several documentaries ( sometimes with blatantly staged events ) in xxmaj africa and xxmaj asia . xxmaj',\n",
       " \"'s xxmaj religulous is not an attack on organized religion . xxmaj it 's an attack on xxmaj christianity and xxmaj islam . xxmaj apart from xxunk a bunch of xxmaj xxunk inventing warped machines to get around xxmaj xxunk xxunk , he really does n't attack xxmaj xxunk and seems xxunk when a xxmaj xxunk actually challenges the existence of the xxmaj state of xxmaj israel . xxmaj if\",\n",
       " 'facts in this movie . xxmaj the supporting cast were the nicest people i have ever seen on the face of the xxmaj earth and their \" nice and perfect \" persona looked difficult to keep up . \\n\\n xxmaj this movie was a xxmaj hollywood version of yet another unfortunate true story that is still left to be told truthfully . xxmaj denzel \\'s acting is stale , and',\n",
       " \"life ` xxmaj mr. xxmaj xxunk skins ' . * xxmaj failure xxbos i grew up xxmaj baptist and i know the story this movie is trying to tell , although i no longer believe the story . i 'll give the movie kudos for being as good as the average xxmaj lifetime xxmaj movie of the xxmaj week . xxmaj mildly interesting , mediocre acting , a bit slow\",\n",
       " \"most of his time bashing xxmaj christians , xxunk inaccuracies , and interviewing fringe groups that he does n't allow to really answer his questions . \\n\\n xxmaj for the record , there are good questions to honestly ask of religious folks and many they should ask of themselves . xxmaj he touches on almost none of these . i get the feeling that i could 've xxunk much better\",\n",
       " \"xxmaj what they xxmaj do not xxmaj expect . xxmaj jack xxmaj frost is xxmaj very xxmaj cool . 10 out of 10 . xxmaj grade : xxup a+ . xxmaj ed xxmaj also xxmaj xxunk xxmaj the xxmaj movie xxmaj uncle xxmaj sam to xxmaj fans of xxmaj jack xxmaj frost . xxbos xxmaj an unusual film from xxmaj ringo xxmaj xxunk and one that 's strangely under -\",\n",
       " \", even on the xxmaj criterion re - release is poor and difficult to follow . xxmaj although i appreciate this film was made somewhat early in the history of documentary film , it 's ironic to compare it to xxmaj xxunk xxmaj rivera 's ( ! ) far superior series on the sexual abuse of mentally retarded patients at xxmaj xxunk xxmaj state xxmaj school in xxmaj xxunk xxmaj\",\n",
       " 'xxmaj frank xxmaj xxunk . xxbos i was gifted with this movie as it had such a great premise , the friendship of three women xxunk by one falling in love with a younger man . \\n\\n xxmaj intriguing . \\n\\n xxup not ! i hasten to add . xxmaj these women are all drawn in extreme caricature , not very supportive of one another and xxunk and xxunk to',\n",
       " 'xxmaj peter xxmaj jackson derived much of his inspiration from this prototype . xxbos a very cute movie with a great background provided by the city of xxmaj boston and xxmaj xxunk xxmaj park . xxmaj as a baseball fan and light movie addict , it hit a xxunk for me . xxmaj plenty of laughs and plenty of authentic baseball scenes with real xxunk and real references to past',\n",
       " \"cooper clear of females . xxmaj this misogyny alone does n't necessarily mean much , but there are so many clues throughout the film that indicate the makers of the film really were trying to portray them as a gay couple . xxmaj in particular , towards the end , when one of them is killed , the other is shot by an arrow and holds off dying long enough\",\n",
       " \"light is flickering the movement and the glimpses are very appealing . xxmaj apparently one of xxmaj weismuller 's friends from the xxmaj xxunk swim team did the nude scenes , and not xxmaj maureen xxunk . xxmaj she , however , moves through the movie wearing the same sort of xxunk xxmaj weismuller wears ( plus a bikini top ) , showing a splendid glimpse of xxunk and hip\"]"
      ]
     },
     "execution_count": 15,
     "metadata": {},
     "output_type": "execute_result"
    }
   ],
   "source": [
    "n = next(it2)\n",
    "[data.vocab.textify(x) for x in n[0]]"
   ]
  },
  {
   "cell_type": "code",
   "execution_count": null,
   "metadata": {},
   "outputs": [],
   "source": []
  },
  {
   "cell_type": "code",
   "execution_count": 70,
   "metadata": {},
   "outputs": [
    {
     "data": {
      "text/plain": [
       "torch.Size([4, 20])"
      ]
     },
     "execution_count": 70,
     "metadata": {},
     "output_type": "execute_result"
    }
   ],
   "source": [
    "n[0].shape"
   ]
  },
  {
   "cell_type": "code",
   "execution_count": null,
   "metadata": {},
   "outputs": [],
   "source": []
  }
 ],
 "metadata": {
  "kernelspec": {
   "display_name": "Python 3",
   "language": "python",
   "name": "python3"
  },
  "language_info": {
   "codemirror_mode": {
    "name": "ipython",
    "version": 3
   },
   "file_extension": ".py",
   "mimetype": "text/x-python",
   "name": "python",
   "nbconvert_exporter": "python",
   "pygments_lexer": "ipython3",
   "version": "3.7.1"
  }
 },
 "nbformat": 4,
 "nbformat_minor": 2
}

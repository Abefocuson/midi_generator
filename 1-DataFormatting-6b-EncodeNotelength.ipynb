{
 "cells": [
  {
   "cell_type": "markdown",
   "metadata": {},
   "source": [
    "# Tokenize and save data"
   ]
  },
  {
   "cell_type": "code",
   "execution_count": 1,
   "metadata": {},
   "outputs": [],
   "source": [
    "%load_ext music21.ipython21"
   ]
  },
  {
   "cell_type": "code",
   "execution_count": 2,
   "metadata": {},
   "outputs": [],
   "source": [
    "%reload_ext autoreload\n",
    "%autoreload 2\n",
    "%matplotlib inline"
   ]
  },
  {
   "cell_type": "code",
   "execution_count": 3,
   "metadata": {},
   "outputs": [],
   "source": [
    "from fastai.text import *"
   ]
  },
  {
   "cell_type": "code",
   "execution_count": 4,
   "metadata": {},
   "outputs": [],
   "source": [
    "import pandas as pd\n",
    "from fastai_data import *"
   ]
  },
  {
   "cell_type": "code",
   "execution_count": 8,
   "metadata": {},
   "outputs": [],
   "source": [
    "from encode_data import *"
   ]
  },
  {
   "cell_type": "code",
   "execution_count": 9,
   "metadata": {},
   "outputs": [],
   "source": [
    "from midi_data import *"
   ]
  },
  {
   "cell_type": "code",
   "execution_count": 10,
   "metadata": {},
   "outputs": [],
   "source": [
    "from midi_transform import *"
   ]
  },
  {
   "cell_type": "code",
   "execution_count": 11,
   "metadata": {},
   "outputs": [],
   "source": [
    "import shutil"
   ]
  },
  {
   "cell_type": "markdown",
   "metadata": {},
   "source": [
    "## Retrieve File"
   ]
  },
  {
   "cell_type": "code",
   "execution_count": 12,
   "metadata": {},
   "outputs": [],
   "source": [
    "# source_dir = 'midi_transcribe_v1_simple'\n",
    "path = Path(f'data/midi/')\n",
    "csv_path = path/'metadata/midi_sources.csv'\n",
    "# path.ls()[:5]"
   ]
  },
  {
   "cell_type": "code",
   "execution_count": 13,
   "metadata": {},
   "outputs": [
    {
     "name": "stderr",
     "output_type": "stream",
     "text": [
      "/home/ubuntu/anaconda3/envs/midi/lib/python3.7/site-packages/IPython/core/interactiveshell.py:3020: DtypeWarning: Columns (6,14,15,17,18) have mixed types. Specify dtype option on import or set low_memory=False.\n",
      "  interactivity=interactivity, compiler=compiler, result=result)\n"
     ]
    }
   ],
   "source": [
    "csv = pd.read_csv(csv_path)\n",
    "# csv = csv.loc[csv[source_dir].notna()];"
   ]
  },
  {
   "cell_type": "code",
   "execution_count": 14,
   "metadata": {},
   "outputs": [
    {
     "data": {
      "text/plain": [
       "Unnamed: 0                                                         200\n",
       "index                                                              200\n",
       "artist                                         wolfgang-amadeus-mozart\n",
       "bpm                                                                194\n",
       "genres                                                       Classical\n",
       "ht_bpm                                                             194\n",
       "ht_key                                                              Bb\n",
       "ht_mode                                                              1\n",
       "ht_offset                                                            2\n",
       "ht_time_signature                                                    4\n",
       "inferred_key                                                   F major\n",
       "inferred_offset                                                     -5\n",
       "instruments                                                Piano,Piano\n",
       "midi                 data/midi/midi_sources/hooktheory/pianoroll/w/...\n",
       "midi_title                                                      MS40 C\n",
       "parts                         intro-and-verse,pre-chorus,chorus,bridge\n",
       "seconds                                                        18.2474\n",
       "section                                                         chorus\n",
       "song_url             https://www.hooktheory.com/theorytab/view/wolf...\n",
       "source                                                      hooktheory\n",
       "time_signature                                                     4/4\n",
       "title                                symphony-40-in-g-minor-movement-i\n",
       "Name: 200, dtype: object"
      ]
     },
     "execution_count": 14,
     "metadata": {},
     "output_type": "execute_result"
    }
   ],
   "source": [
    "file = csv[csv.source == 'hooktheory'].iloc[200]; file"
   ]
  },
  {
   "cell_type": "code",
   "execution_count": 15,
   "metadata": {},
   "outputs": [],
   "source": [
    "file = file.midi"
   ]
  },
  {
   "cell_type": "markdown",
   "metadata": {},
   "source": [
    "### Copy and play"
   ]
  },
  {
   "cell_type": "code",
   "execution_count": 16,
   "metadata": {},
   "outputs": [
    {
     "data": {
      "text/plain": [
       "'/tmp/test_encoding.MID'"
      ]
     },
     "execution_count": 16,
     "metadata": {},
     "output_type": "execute_result"
    }
   ],
   "source": [
    "copy_file = '/tmp/test_encoding.MID'\n",
    "shutil.copy(file, copy_file)"
   ]
  },
  {
   "cell_type": "code",
   "execution_count": 17,
   "metadata": {},
   "outputs": [
    {
     "data": {
      "text/html": [
       "\n",
       "                <div id='midiPlayerDiv1075'></div>\n",
       "                <link rel=\"stylesheet\" href=\"//cuthbertLab.github.io/music21j/css/m21.css\"\n",
       "                    type=\"text/css\" />\n",
       "                <script>\n",
       "                require.config({\n",
       "                    paths: {'music21': '//cuthbertLab.github.io/music21j/src/music21'}\n",
       "                });\n",
       "                require(['music21'], function() {\n",
       "                               mp = new music21.miditools.MidiPlayer();\n",
       "                               mp.addPlayer('#midiPlayerDiv1075');\n",
       "                               mp.base64Load('data:audio/midi;base64,TVRoZAAAAAYAAQACBABNVHJrAAACsQD/AwVQaWFubwDAAADgAEAAwAAA/1EDBLgeAP9ZAv4AAP9YBAQCGAgAkFJkoACAUgAAkE1kmACATQCEAJBNZIQAgE0AAJBLZIgAgEsAAJBPZIgAgE8AAJBSZIgAgFIAiACQSmSIAIBKAACQTWSIAIBNAACQUmSIAIBSAIQAkEpkhACASgAAkEhkiACASAAAkEtkiACASwAAkE9kiACATwAAkEhkiACASAAAkEZkiACARgAAkEpkiACASgAAkE1kiACATQCEAJBNZIQAgE0AAJBMZIQAgEwAAJBNZIQAgE0AAJBPZIQAgE8AAJBRZIQAgFEAAJBSZIQAgFIAAJBUZIQAgFQAAJBVZIQAgFUAAJBNZIQAgE0AAJBMZIQAgEwAAJBNZIQAgE0AAJBPZIQAgE8AAJBRZIQAgFEAAJBSZIQAgFIAAJBUZIQAgFQAAJBVZIQAgFUAAJBNZIQAgE0AAJBMZIQAgEwAAJBNZIQAgE0AAJBPZIQAgE8AAJBRZIQAgFEAAJBSZIQAgFIAAJBUZIQAgFQAAJBVZIQAgFUAAJBNZIQAgE0AAJBMZIQAgEwAAJBNZIQAgE0AAJBPZIQAgE8AAJBRZIQAgFEAAJBSZIQAgFIAAJBUZIQAgFQAAJBVZIQAgFUAAJBMZIQAgEwAAJBNZJAAgE0AAJBUZIgAgFQAAJBRZIgAgFEAAJBVZJAAgFUAAJBMZIgAgEwAAJBPZIgAgE8AAJBNZJAAgE0AAJBUZIQAgFQAAJBRZIQAgFEAAJBUZIQAgFQAAJBRZIQAgFEAAJBVZIQAgFUAAJBSZIQAgFIAAJBVZIQAgFUAAJBSZIQAgFIAAJBMZIQAgEwAAJBPZIQAgE8AAJBMZIQAgEwAAJBPZIQAgE8AAJBNZIgAgE0AiACQQWSIAIBBAIgA/y8ATVRyawAAAo0A/wMFUGlhbm8AwAAA4ABAAMAAAP9ZAv4AAP9YBAQCGAgAkC5kAJAyZACQNWSgAIAuAACAMgAAgDUAAJAtZACQMGQAkDVkoACALQAAgDAAAIA1AACQK2QAkC5kAJAzZKAAgCsAAIAuAACAMwAAkDVkAJA6ZACQPmSgAIA1AACAOgAAgD4AAJAzZACQN2QAkDxkoACAMwAAgDcAAIA8AACQMmQAkDVkAJA6ZKAAgDIAAIA1AACAOgAAkDBkAJA0ZACQN2QAkDpkoACAMAAAgDQAAIA3AACAOgAAkDBkAJA0ZACQN2QAkDpkkACAMAAAgDQAAIA3AACAOgAAkDFkAJA0ZACQN2SQAIAxAACANAAAgDcAAJAwZACQNGQAkDdkAJA6ZJAAgDAAAIA0AACANwAAgDoAAJAxZACQNGQAkDdkkACAMQAAgDQAAIA3AACQMGQAkDRkAJA3ZACQOmSgAIAwAACANAAAgDcAAIA6AACQNWQAkDlkAJA8ZJAAgDUAAIA5AACAPAAAkDVkAJA5ZACQPGQAkD9kkACANQAAgDkAAIA8AACAPwAAkDVkAJA6ZACQPWSQAIA1AACAOgAAgD0AAJA1ZACQOmQAkDxkAJBAZJAAgDUAAIA6AACAPAAAgEAAAJA1ZACQOWQAkDxkkACANQAAgDkAAIA8AACQNWQAkDlkAJA8ZACQP2SQAIA1AACAOQAAgDwAAIA/AACQNWQAkDpkAJA9ZJAAgDUAAIA6AACAPQAAkDVkAJA6ZACQPGQAkEBkkACANQAAgDoAAIA8AACAQAAAkDVkAJA5ZACQPGSIAIA1AACAOQAAgDwAiACQNWQAkDlkAJA8ZIgAgDUAAIA5AACAPACIAP8vAA==');\n",
       "                        });\n",
       "                </script>"
      ],
      "text/plain": [
       "<IPython.core.display.HTML object>"
      ]
     },
     "metadata": {},
     "output_type": "display_data"
    }
   ],
   "source": [
    "original_stream = file2stream(copy_file)\n",
    "original_stream.show('midi')"
   ]
  },
  {
   "cell_type": "code",
   "execution_count": 18,
   "metadata": {},
   "outputs": [],
   "source": [
    "# play_midi(copy_file)"
   ]
  },
  {
   "cell_type": "code",
   "execution_count": 19,
   "metadata": {},
   "outputs": [
    {
     "name": "stdout",
     "output_type": "stream",
     "text": [
      "0.0 <music21.volume.Volume realized=0.79> <music21.duration.Duration 4.0> 4.0 <music21.note.Note B->\n",
      "0.0 <music21.volume.Volume realized=0.79> <music21.duration.Duration 4.0> 4.0 <music21.chord.Chord B-2 D3 F3>\n",
      "4.0 <music21.volume.Volume realized=0.79> <music21.duration.Duration 3.0> 3.0 <music21.note.Note F>\n",
      "4.0 <music21.volume.Volume realized=0.79> <music21.duration.Duration 4.0> 4.0 <music21.chord.Chord A2 C3 F3>\n",
      "7.5 <music21.volume.Volume realized=0.79> <music21.duration.Duration 0.5> 0.5 <music21.note.Note F>\n",
      "8.0 <music21.volume.Volume realized=0.79> <music21.duration.Duration 1.0> 1.0 <music21.note.Note E->\n",
      "8.0 <music21.volume.Volume realized=0.79> <music21.duration.Duration 4.0> 4.0 <music21.chord.Chord G2 B-2 E-3>\n",
      "9.0 <music21.volume.Volume realized=0.79> <music21.duration.Duration 1.0> 1.0 <music21.note.Note G>\n",
      "10.0 <music21.volume.Volume realized=0.79> <music21.duration.Duration 1.0> 1.0 <music21.note.Note B->\n",
      "12.0 <music21.volume.Volume realized=0.79> <music21.duration.Duration 1.0> 1.0 <music21.note.Note D>\n",
      "12.0 <music21.volume.Volume realized=0.79> <music21.duration.Duration 4.0> 4.0 <music21.chord.Chord F3 B-3 D4>\n",
      "13.0 <music21.volume.Volume realized=0.79> <music21.duration.Duration 1.0> 1.0 <music21.note.Note F>\n",
      "14.0 <music21.volume.Volume realized=0.79> <music21.duration.Duration 1.0> 1.0 <music21.note.Note B->\n",
      "15.5 <music21.volume.Volume realized=0.79> <music21.duration.Duration 0.5> 0.5 <music21.note.Note D>\n",
      "16.0 <music21.volume.Volume realized=0.79> <music21.duration.Duration 1.0> 1.0 <music21.note.Note C>\n",
      "16.0 <music21.volume.Volume realized=0.79> <music21.duration.Duration 4.0> 4.0 <music21.chord.Chord E-3 G3 C4>\n",
      "17.0 <music21.volume.Volume realized=0.79> <music21.duration.Duration 1.0> 1.0 <music21.note.Note E->\n",
      "18.0 <music21.volume.Volume realized=0.79> <music21.duration.Duration 1.0> 1.0 <music21.note.Note G>\n",
      "19.0 <music21.volume.Volume realized=0.79> <music21.duration.Duration 1.0> 1.0 <music21.note.Note C>\n",
      "20.0 <music21.volume.Volume realized=0.79> <music21.duration.Duration 1.0> 1.0 <music21.note.Note B->\n",
      "20.0 <music21.volume.Volume realized=0.79> <music21.duration.Duration 4.0> 4.0 <music21.chord.Chord D3 F3 B-3>\n",
      "21.0 <music21.volume.Volume realized=0.79> <music21.duration.Duration 1.0> 1.0 <music21.note.Note D>\n",
      "22.0 <music21.volume.Volume realized=0.79> <music21.duration.Duration 1.0> 1.0 <music21.note.Note F>\n",
      "23.5 <music21.volume.Volume realized=0.79> <music21.duration.Duration 0.5> 0.5 <music21.note.Note F>\n",
      "24.0 <music21.volume.Volume realized=0.79> <music21.duration.Duration 0.5> 0.5 <music21.note.Note E>\n",
      "24.0 <music21.volume.Volume realized=0.79> <music21.duration.Duration 4.0> 4.0 <music21.chord.Chord C3 E3 G3 B-3>\n",
      "24.5 <music21.volume.Volume realized=0.79> <music21.duration.Duration 0.5> 0.5 <music21.note.Note F>\n",
      "25.0 <music21.volume.Volume realized=0.79> <music21.duration.Duration 0.5> 0.5 <music21.note.Note G>\n",
      "25.5 <music21.volume.Volume realized=0.79> <music21.duration.Duration 0.5> 0.5 <music21.note.Note A>\n",
      "26.0 <music21.volume.Volume realized=0.79> <music21.duration.Duration 0.5> 0.5 <music21.note.Note B->\n",
      "26.5 <music21.volume.Volume realized=0.79> <music21.duration.Duration 0.5> 0.5 <music21.note.Note C>\n",
      "27.0 <music21.volume.Volume realized=0.79> <music21.duration.Duration 0.5> 0.5 <music21.note.Note C#>\n",
      "27.5 <music21.volume.Volume realized=0.79> <music21.duration.Duration 0.5> 0.5 <music21.note.Note F>\n",
      "28.0 <music21.volume.Volume realized=0.79> <music21.duration.Duration 0.5> 0.5 <music21.note.Note E>\n",
      "28.0 <music21.volume.Volume realized=0.79> <music21.duration.Duration 2.0> 2.0 <music21.chord.Chord C3 E3 G3 B-3>\n",
      "28.5 <music21.volume.Volume realized=0.79> <music21.duration.Duration 0.5> 0.5 <music21.note.Note F>\n",
      "29.0 <music21.volume.Volume realized=0.79> <music21.duration.Duration 0.5> 0.5 <music21.note.Note G>\n",
      "29.5 <music21.volume.Volume realized=0.79> <music21.duration.Duration 0.5> 0.5 <music21.note.Note A>\n",
      "30.0 <music21.volume.Volume realized=0.79> <music21.duration.Duration 0.5> 0.5 <music21.note.Note B->\n",
      "30.0 <music21.volume.Volume realized=0.79> <music21.duration.Duration 2.0> 2.0 <music21.chord.Chord C#3 E3 G3>\n",
      "30.5 <music21.volume.Volume realized=0.79> <music21.duration.Duration 0.5> 0.5 <music21.note.Note C>\n",
      "31.0 <music21.volume.Volume realized=0.79> <music21.duration.Duration 0.5> 0.5 <music21.note.Note C#>\n",
      "31.5 <music21.volume.Volume realized=0.79> <music21.duration.Duration 0.5> 0.5 <music21.note.Note F>\n",
      "32.0 <music21.volume.Volume realized=0.79> <music21.duration.Duration 0.5> 0.5 <music21.note.Note E>\n",
      "32.0 <music21.volume.Volume realized=0.79> <music21.duration.Duration 2.0> 2.0 <music21.chord.Chord C3 E3 G3 B-3>\n",
      "32.5 <music21.volume.Volume realized=0.79> <music21.duration.Duration 0.5> 0.5 <music21.note.Note F>\n",
      "33.0 <music21.volume.Volume realized=0.79> <music21.duration.Duration 0.5> 0.5 <music21.note.Note G>\n",
      "33.5 <music21.volume.Volume realized=0.79> <music21.duration.Duration 0.5> 0.5 <music21.note.Note A>\n",
      "34.0 <music21.volume.Volume realized=0.79> <music21.duration.Duration 0.5> 0.5 <music21.note.Note B->\n",
      "34.0 <music21.volume.Volume realized=0.79> <music21.duration.Duration 2.0> 2.0 <music21.chord.Chord C#3 E3 G3>\n",
      "34.5 <music21.volume.Volume realized=0.79> <music21.duration.Duration 0.5> 0.5 <music21.note.Note C>\n",
      "35.0 <music21.volume.Volume realized=0.79> <music21.duration.Duration 0.5> 0.5 <music21.note.Note C#>\n",
      "35.5 <music21.volume.Volume realized=0.79> <music21.duration.Duration 0.5> 0.5 <music21.note.Note F>\n",
      "36.0 <music21.volume.Volume realized=0.79> <music21.duration.Duration 0.5> 0.5 <music21.note.Note E>\n",
      "36.0 <music21.volume.Volume realized=0.79> <music21.duration.Duration 4.0> 4.0 <music21.chord.Chord C3 E3 G3 B-3>\n",
      "36.5 <music21.volume.Volume realized=0.79> <music21.duration.Duration 0.5> 0.5 <music21.note.Note F>\n",
      "37.0 <music21.volume.Volume realized=0.79> <music21.duration.Duration 0.5> 0.5 <music21.note.Note G>\n",
      "37.5 <music21.volume.Volume realized=0.79> <music21.duration.Duration 0.5> 0.5 <music21.note.Note A>\n",
      "38.0 <music21.volume.Volume realized=0.79> <music21.duration.Duration 0.5> 0.5 <music21.note.Note B->\n",
      "38.5 <music21.volume.Volume realized=0.79> <music21.duration.Duration 0.5> 0.5 <music21.note.Note C>\n",
      "39.0 <music21.volume.Volume realized=0.79> <music21.duration.Duration 0.5> 0.5 <music21.note.Note C#>\n",
      "39.5 <music21.volume.Volume realized=0.79> <music21.duration.Duration 0.5> 0.5 <music21.note.Note E>\n",
      "40.0 <music21.volume.Volume realized=0.79> <music21.duration.Duration 2.0> 2.0 <music21.note.Note F>\n",
      "40.0 <music21.volume.Volume realized=0.79> <music21.duration.Duration 2.0> 2.0 <music21.chord.Chord F3 A3 C4>\n",
      "42.0 <music21.volume.Volume realized=0.79> <music21.duration.Duration 1.0> 1.0 <music21.note.Note C>\n",
      "42.0 <music21.volume.Volume realized=0.79> <music21.duration.Duration 2.0> 2.0 <music21.chord.Chord F3 A3 C4 E-4>\n",
      "43.0 <music21.volume.Volume realized=0.79> <music21.duration.Duration 1.0> 1.0 <music21.note.Note A>\n",
      "44.0 <music21.volume.Volume realized=0.79> <music21.duration.Duration 2.0> 2.0 <music21.note.Note C#>\n",
      "44.0 <music21.volume.Volume realized=0.79> <music21.duration.Duration 2.0> 2.0 <music21.chord.Chord F3 B-3 C#4>\n",
      "46.0 <music21.volume.Volume realized=0.79> <music21.duration.Duration 1.0> 1.0 <music21.note.Note E>\n",
      "46.0 <music21.volume.Volume realized=0.79> <music21.duration.Duration 2.0> 2.0 <music21.chord.Chord F3 B-3 C4 E4>\n",
      "47.0 <music21.volume.Volume realized=0.79> <music21.duration.Duration 1.0> 1.0 <music21.note.Note G>\n",
      "48.0 <music21.volume.Volume realized=0.79> <music21.duration.Duration 2.0> 2.0 <music21.note.Note F>\n",
      "48.0 <music21.volume.Volume realized=0.79> <music21.duration.Duration 2.0> 2.0 <music21.chord.Chord F3 A3 C4>\n",
      "50.0 <music21.volume.Volume realized=0.79> <music21.duration.Duration 0.5> 0.5 <music21.note.Note C>\n",
      "50.0 <music21.volume.Volume realized=0.79> <music21.duration.Duration 2.0> 2.0 <music21.chord.Chord F3 A3 C4 E-4>\n",
      "50.5 <music21.volume.Volume realized=0.79> <music21.duration.Duration 0.5> 0.5 <music21.note.Note A>\n",
      "51.0 <music21.volume.Volume realized=0.79> <music21.duration.Duration 0.5> 0.5 <music21.note.Note C>\n",
      "51.5 <music21.volume.Volume realized=0.79> <music21.duration.Duration 0.5> 0.5 <music21.note.Note A>\n",
      "52.0 <music21.volume.Volume realized=0.79> <music21.duration.Duration 0.5> 0.5 <music21.note.Note C#>\n",
      "52.0 <music21.volume.Volume realized=0.79> <music21.duration.Duration 2.0> 2.0 <music21.chord.Chord F3 B-3 C#4>\n",
      "52.5 <music21.volume.Volume realized=0.79> <music21.duration.Duration 0.5> 0.5 <music21.note.Note B->\n",
      "53.0 <music21.volume.Volume realized=0.79> <music21.duration.Duration 0.5> 0.5 <music21.note.Note C#>\n",
      "53.5 <music21.volume.Volume realized=0.79> <music21.duration.Duration 0.5> 0.5 <music21.note.Note B->\n",
      "54.0 <music21.volume.Volume realized=0.79> <music21.duration.Duration 0.5> 0.5 <music21.note.Note E>\n",
      "54.0 <music21.volume.Volume realized=0.79> <music21.duration.Duration 2.0> 2.0 <music21.chord.Chord F3 B-3 C4 E4>\n",
      "54.5 <music21.volume.Volume realized=0.79> <music21.duration.Duration 0.5> 0.5 <music21.note.Note G>\n",
      "55.0 <music21.volume.Volume realized=0.79> <music21.duration.Duration 0.5> 0.5 <music21.note.Note E>\n",
      "55.5 <music21.volume.Volume realized=0.79> <music21.duration.Duration 0.5> 0.5 <music21.note.Note G>\n",
      "56.0 <music21.volume.Volume realized=0.79> <music21.duration.Duration 1.0> 1.0 <music21.note.Note F>\n",
      "56.0 <music21.volume.Volume realized=0.79> <music21.duration.Duration 1.0> 1.0 <music21.chord.Chord F3 A3 C4>\n",
      "58.0 <music21.volume.Volume realized=0.79> <music21.duration.Duration 1.0> 1.0 <music21.note.Note F>\n",
      "58.0 <music21.volume.Volume realized=0.79> <music21.duration.Duration 1.0> 1.0 <music21.chord.Chord F3 A3 C4>\n"
     ]
    }
   ],
   "source": [
    "for n in list(original_stream.flat[:200]):\n",
    "    if isinstance(n, (music21.note.Note, music21.chord.Chord)):\n",
    "        print(n.offset, n.volume, n.duration, n.duration.quarterLength, n)"
   ]
  },
  {
   "cell_type": "markdown",
   "metadata": {},
   "source": [
    "### Transpose test 2"
   ]
  },
  {
   "cell_type": "code",
   "execution_count": 20,
   "metadata": {},
   "outputs": [],
   "source": [
    "mfonly_file = '/tmp/mfonly.MID'\n",
    "music_file = compress_midi_file(copy_file, cutoff=6) # remove non note tracks and standardize instruments\n",
    "music_file = transpose_midi_file(music_file, 10) # transpose to keyc if offset passed\n",
    "music_file.open(mfonly_file, attrib='wb')\n",
    "music_file.write()\n",
    "music_file.close()"
   ]
  },
  {
   "cell_type": "markdown",
   "metadata": {},
   "source": [
    "### Encode2text"
   ]
  },
  {
   "cell_type": "code",
   "execution_count": 21,
   "metadata": {},
   "outputs": [
    {
     "name": "stdout",
     "output_type": "stream",
     "text": [
      "Inferring offset\n"
     ]
    },
    {
     "data": {
      "text/plain": [
       "'/tmp/test_transpose.MID'"
      ]
     },
     "execution_count": 21,
     "metadata": {},
     "output_type": "execute_result"
    }
   ],
   "source": [
    "transpose_file = '/tmp/test_transpose.MID'\n",
    "transform_midi(copy_file, transpose_file)"
   ]
  },
  {
   "cell_type": "code",
   "execution_count": 22,
   "metadata": {},
   "outputs": [
    {
     "name": "stdout",
     "output_type": "stream",
     "text": [
      "{0.0} <music21.stream.Part 0x7f263ad264a8>\n",
      "    {0.0} <music21.instrument.Piano Piano>\n",
      "    {0.0} <music21.tempo.MetronomeMark animato Quarter=120>\n",
      "    {0.0} <music21.key.KeySignature of no sharps or flats>\n",
      "    {0.0} <music21.meter.TimeSignature 4/4>\n",
      "    {0.0} <music21.chord.Chord F2 A2 C3 F5>\n",
      "    {4.0} <music21.chord.Chord E2 G2 C3 C5>\n",
      "    {7.5} <music21.chord.Chord C5>\n",
      "    {8.0} <music21.chord.Chord D2 F2 B-2 B-4>\n",
      "    {9.0} <music21.chord.Chord D5>\n",
      "    {10.0} <music21.chord.Chord F5>\n",
      "    {12.0} <music21.chord.Chord C3 F3 A3 A4>\n",
      "    {13.0} <music21.chord.Chord C5>\n",
      "    {14.0} <music21.chord.Chord F5>\n",
      "    {15.5} <music21.chord.Chord A4>\n",
      "    {16.0} <music21.chord.Chord B-2 D3 G3 G4>\n",
      "    {17.0} <music21.chord.Chord B-4>\n",
      "    {18.0} <music21.chord.Chord D5>\n",
      "    {19.0} <music21.chord.Chord G4>\n",
      "    {20.0} <music21.chord.Chord A2 C3 F3 F4>\n",
      "    {21.0} <music21.chord.Chord A4>\n",
      "    {22.0} <music21.chord.Chord C5>\n",
      "    {23.5} <music21.chord.Chord C5>\n",
      "    {24.0} <music21.chord.Chord G2 B2 D3 F3 B4>\n",
      "    {24.5} <music21.chord.Chord C5>\n",
      "    {25.0} <music21.chord.Chord D5>\n",
      "    {25.5} <music21.chord.Chord E5>\n",
      "    {26.0} <music21.chord.Chord F5>\n",
      "    {26.5} <music21.chord.Chord G5>\n",
      "    {27.0} <music21.chord.Chord G#5>\n",
      "    {27.5} <music21.chord.Chord C5>\n",
      "    {28.0} <music21.chord.Chord G2 B2 D3 F3 B4>\n",
      "    {28.5} <music21.chord.Chord C5>\n",
      "    {29.0} <music21.chord.Chord D5>\n",
      "    {29.5} <music21.chord.Chord E5>\n",
      "    {30.0} <music21.chord.Chord G#2 B2 D3 F5>\n",
      "    {30.5} <music21.chord.Chord G5>\n",
      "    {31.0} <music21.chord.Chord G#5>\n",
      "    {31.5} <music21.chord.Chord C5>\n",
      "    {32.0} <music21.chord.Chord G2 B2 D3 F3 B4>\n",
      "    {32.5} <music21.chord.Chord C5>\n",
      "    {33.0} <music21.chord.Chord D5>\n",
      "    {33.5} <music21.chord.Chord E5>\n",
      "    {34.0} <music21.chord.Chord G#2 B2 D3 F5>\n",
      "    {34.5} <music21.chord.Chord G5>\n",
      "    {35.0} <music21.chord.Chord G#5>\n",
      "    {35.5} <music21.chord.Chord C5>\n",
      "    {36.0} <music21.chord.Chord G2 B2 D3 F3 B4>\n",
      "    {36.5} <music21.chord.Chord C5>\n",
      "    {37.0} <music21.chord.Chord D5>\n",
      "    {37.5} <music21.chord.Chord E5>\n",
      "    {38.0} <music21.chord.Chord F5>\n",
      "    {38.5} <music21.chord.Chord G5>\n",
      "    {39.0} <music21.chord.Chord G#5>\n",
      "    {39.5} <music21.chord.Chord B4>\n",
      "    {40.0} <music21.chord.Chord C3 E3 G3 C5>\n",
      "    {42.0} <music21.chord.Chord C3 E3 G3 B-3 G5>\n",
      "    {43.0} <music21.chord.Chord E5>\n",
      "    {44.0} <music21.chord.Chord C3 F3 G#3 G#5>\n",
      "    {46.0} <music21.chord.Chord C3 F3 G3 B3 B4>\n",
      "    {47.0} <music21.chord.Chord D5>\n",
      "    {48.0} <music21.chord.Chord C3 E3 G3 C5>\n",
      "    {50.0} <music21.chord.Chord C3 E3 G3 B-3 G5>\n",
      "    {50.5} <music21.chord.Chord E5>\n",
      "    {51.0} <music21.chord.Chord G5>\n",
      "    {51.5} <music21.chord.Chord E5>\n",
      "    {52.0} <music21.chord.Chord C3 F3 G#3 G#5>\n",
      "    {52.5} <music21.chord.Chord F5>\n",
      "    {53.0} <music21.chord.Chord G#5>\n",
      "    {53.5} <music21.chord.Chord F5>\n",
      "    {54.0} <music21.chord.Chord C3 F3 G3 B3 B4>\n",
      "    {54.5} <music21.chord.Chord D5>\n",
      "    {55.0} <music21.chord.Chord B4>\n",
      "    {55.5} <music21.chord.Chord D5>\n",
      "    {56.0} <music21.chord.Chord C3 E3 G3 C5>\n",
      "    {58.0} <music21.chord.Chord C3 E3 G3 C4>\n"
     ]
    }
   ],
   "source": [
    "text = midi2str(transpose_file)\n",
    "text_stream = str2stream(text)\n",
    "text_stream.show('text')"
   ]
  },
  {
   "cell_type": "code",
   "execution_count": 23,
   "metadata": {},
   "outputs": [
    {
     "data": {
      "text/html": [
       "\n",
       "                <div id='midiPlayerDiv5303'></div>\n",
       "                <link rel=\"stylesheet\" href=\"//cuthbertLab.github.io/music21j/css/m21.css\"\n",
       "                    type=\"text/css\" />\n",
       "                <script>\n",
       "                require.config({\n",
       "                    paths: {'music21': '//cuthbertLab.github.io/music21j/src/music21'}\n",
       "                });\n",
       "                require(['music21'], function() {\n",
       "                               mp = new music21.miditools.MidiPlayer();\n",
       "                               mp.addPlayer('#midiPlayerDiv5303');\n",
       "                               mp.base64Load('data:audio/midi;base64,TVRoZAAAAAYAAQABBABNVHJrAAAFAAD/AwVQaWFubwDAAADgAEAAwAAA/1EDB6EgAP9ZAgAAAP9YBAQCGAgAkClaAJAtWgCQMFoAkE1aoACAKQAAgC0AAIAwAACATQAAkChaAJArWgCQMFoAkEhanACQSFqEAIAoAACAKwAAgDAAAIBIAACASAAAkCZaAJApWgCQLloAkEZaiACQSlqIAIBKAACQTVqIAIBNAIgAgCYAAIApAACALgAAgEYAAJAwWgCQNVoAkDlaAJBFWogAkEhaiACASAAAkE1aiACATQCEAJBFWoQAgDAAAIA1AACAOQAAgEUAAIBFAACQLloAkDJaAJA3WgCQQ1qIAJBGWogAgEYAAJBKWogAgEoAAJBDWogAgC4AAIAyAACANwAAgEMAAIBDAACQLVoAkDBaAJA1WgCQQVqIAJBFWogAgEUAAJBIWogAgEgAhACQSFqEAIAtAACAMAAAgDUAAIBBAACASAAAkCtaAJAvWgCQMloAkDVaAJBHWoQAkEhahACASAAAkEpahACASgAAkExahACATAAAkE1ahACATQAAkE9ahACATwAAkFBahACAUAAAkEhahACAKwAAgC8AAIAyAACANQAAgEcAAIBIAACQK1oAkC9aAJAyWgCQNVoAkEdahACQSFqEAIBIAACQSlqEAIBKAACQTFqEAIArAACALwAAgDIAAIA1AACARwAAgEwAAJAsWgCQL1oAkDJaAJBNWoQAkE9ahACATwAAkFBahACAUAAAkEhahACALAAAgC8AAIAyAACATQAAgEgAAJArWgCQL1oAkDJaAJA1WgCQR1qEAJBIWoQAgEgAAJBKWoQAgEoAAJBMWoQAgCsAAIAvAACAMgAAgDUAAIBHAACATAAAkCxaAJAvWgCQMloAkE1ahACQT1qEAIBPAACQUFqEAIBQAACQSFqEAIAsAACALwAAgDIAAIBNAACASAAAkCtaAJAvWgCQMloAkDVaAJBHWoQAkEhahACASAAAkEpahACASgAAkExahACATAAAkE1ahACATQAAkE9ahACATwAAkFBahACAUAAAkEdahACAKwAAgC8AAIAyAACANQAAgEcAAIBHAACQMFoAkDRaAJA3WgCQSFqQAIAwAACANAAAgDcAAIBIAACQMFoAkDRaAJA3WgCQOloAkE9aiACQTFqIAIAwAACANAAAgDcAAIA6AACATwAAgEwAAJAwWgCQNVoAkDhaAJBQWpAAgDAAAIA1AACAOAAAgFAAAJAwWgCQNVoAkDdaAJA7WgCQR1qIAJBKWogAgDAAAIA1AACANwAAgDsAAIBHAACASgAAkDBaAJA0WgCQN1oAkEhakACAMAAAgDQAAIA3AACASAAAkDBaAJA0WgCQN1oAkDpaAJBPWoQAkExahACATAAAkE9ahACATwAAkExahACAMAAAgDQAAIA3AACAOgAAgE8AAIBMAACQMFoAkDVaAJA4WgCQUFqEAJBNWoQAgE0AAJBQWoQAgFAAAJBNWoQAgDAAAIA1AACAOAAAgFAAAIBNAACQMFoAkDVaAJA3WgCQO1oAkEdahACQSlqEAIBKAACQR1qEAIBHAACQSlqEAIAwAACANQAAgDcAAIA7AACARwAAgEoAAJAwWgCQNFoAkDdaAJBIWogAgDAAAIA0AACANwAAgEgAiACQMFoAkDRaAJA3WgCQPFqIAIAwAACANAAAgDcAAIA8AIgA/y8A');\n",
       "                        });\n",
       "                </script>"
      ],
      "text/plain": [
       "<IPython.core.display.HTML object>"
      ]
     },
     "metadata": {},
     "output_type": "display_data"
    }
   ],
   "source": [
    "text_stream.show('midi')"
   ]
  },
  {
   "cell_type": "markdown",
   "metadata": {},
   "source": [
    "### Encode2text with durations"
   ]
  },
  {
   "cell_type": "code",
   "execution_count": 99,
   "metadata": {},
   "outputs": [],
   "source": [
    "stream = file2stream(transpose_file) # 1.\n",
    "s_arr = stream2chordarr(stream, encode_duration=False) # 2.\n",
    "# s_arr = stream2chordarr(stream, encode_duration=True) # 2.\n",
    "seq = chordarr2seq(s_arr) # 3.\n",
    "text = seq2str_duration(seq)"
   ]
  },
  {
   "cell_type": "code",
   "execution_count": 90,
   "metadata": {},
   "outputs": [],
   "source": [
    "s_arr[:10] = 0"
   ]
  },
  {
   "cell_type": "code",
   "execution_count": 91,
   "metadata": {},
   "outputs": [],
   "source": [
    "s_arr[50:80] = 0"
   ]
  },
  {
   "cell_type": "code",
   "execution_count": 96,
   "metadata": {},
   "outputs": [],
   "source": [
    "s_arr[-20:] = 0"
   ]
  },
  {
   "cell_type": "code",
   "execution_count": 92,
   "metadata": {},
   "outputs": [
    {
     "data": {
      "text/plain": [
       "array([-10.,  -9., -10.,  -9., -10.,  -9., -10.,  -4.,  -8.,  -8.,  -8.,   0.,   0.,   0.,   0.,  -4.,  -8.,  -8.,\n",
       "        -8.,   0.])"
      ]
     },
     "execution_count": 92,
     "metadata": {},
     "output_type": "execute_result"
    }
   ],
   "source": [
    "s_arr.sum(axis=(1,2))[-20:]"
   ]
  },
  {
   "cell_type": "code",
   "execution_count": 93,
   "metadata": {},
   "outputs": [
    {
     "name": "stdout",
     "output_type": "stream",
     "text": [
      "Compressing rests: 30 -> 18\n"
     ]
    },
    {
     "data": {
      "text/plain": [
       "(225, 2, 127)"
      ]
     },
     "execution_count": 93,
     "metadata": {},
     "output_type": "execute_result"
    }
   ],
   "source": [
    "remove_chordarr_rests(s_arr).shape"
   ]
  },
  {
   "cell_type": "code",
   "execution_count": 94,
   "metadata": {},
   "outputs": [
    {
     "name": "stdout",
     "output_type": "stream",
     "text": [
      "Compressing rests: 30 -> 18\n"
     ]
    },
    {
     "data": {
      "text/plain": [
       "array([-10.,  -9., -10.,  -9., -10.,  -9., -10.,  -4.,  -8.,  -8.,  -8.,   0.,   0.,   0.,   0.,  -4.,  -8.,  -8.,\n",
       "        -8.,   0.])"
      ]
     },
     "execution_count": 94,
     "metadata": {},
     "output_type": "execute_result"
    }
   ],
   "source": [
    "remove_chordarr_rests(s_arr).sum(axis=(1,2))[-20:]"
   ]
  },
  {
   "cell_type": "code",
   "execution_count": 97,
   "metadata": {},
   "outputs": [
    {
     "name": "stdout",
     "output_type": "stream",
     "text": [
      "Trimming rests. Start, end: 8 217 20\n",
      "Compressing rests: 30 -> 18\n"
     ]
    },
    {
     "data": {
      "text/plain": [
       "(197, 2, 127)"
      ]
     },
     "execution_count": 97,
     "metadata": {},
     "output_type": "execute_result"
    }
   ],
   "source": [
    "remove_chordarr_rests(trim_chordarr_rests(s_arr)).shape"
   ]
  },
  {
   "cell_type": "code",
   "execution_count": 98,
   "metadata": {},
   "outputs": [
    {
     "name": "stdout",
     "output_type": "stream",
     "text": [
      "Trimming rests. Start, end: 8 217 20\n"
     ]
    },
    {
     "data": {
      "text/plain": [
       "(209, 2, 127)"
      ]
     },
     "execution_count": 98,
     "metadata": {},
     "output_type": "execute_result"
    }
   ],
   "source": [
    "trim_chordarr_rests(s_arr).shape"
   ]
  },
  {
   "cell_type": "code",
   "execution_count": 63,
   "metadata": {},
   "outputs": [
    {
     "data": {
      "text/plain": [
       "(237, 2, 127)"
      ]
     },
     "execution_count": 63,
     "metadata": {},
     "output_type": "execute_result"
    }
   ],
   "source": [
    "s_arr.shape"
   ]
  },
  {
   "cell_type": "code",
   "execution_count": 29,
   "metadata": {},
   "outputs": [
    {
     "data": {
      "text/plain": [
       "'|| t0 nF o2 t16 i0 nA o2 t16 i0 nC o3 t16 i0 nF o5 t16 i0 || t15 nE o2 t16 i0 nG o2 t16 i0 nC o3 t16 i0 nC o5 t12 i0 || t13 nC o5 t2 i0 || t1 nD o2 t16 i0 nF o2 t16 i0 nB- o2 t16 i0 nB- o4 t4 i0 || t3 nD o5 t4 i0 || t3 nF o5 t4 i0 || t7 nC o3 t16 i0 nF o3 t16 i0 nA o3 t16 i0 nA o4 t4 i0 || t3 nC o5 t4 i0 || t3 nF o5 t4 i0 || t5 nA o4 t2 i0 || t1 nB- o2 t16 i0 nD o3 t16 i0 nG o3 t16 i0 nG o4 t4 i0 || t3 nB- o4 t4 i0 || t3 nD o5 t4 i0 || t3 nG o4 t4 i0 || t3 nA o2 t16 i0 nC o3 t16 i0 nF o3 t16 i0 nF o4 t4 i0 || t3 nA o4 t4 i0 || t3 nC o5 t4 i0 || t5 nC o5 t2 i0 || t1 nG o2 t16 i0 nB o2 t16 i0 nD o3 t16 i0 nF o3 t16 i0 nB o4 t2 i0 || t1 nC o5 t2 i0 || t1 nD o5 t2 i0 || t1 nE o5 t2 i0 || t1 nF o5 t2 i0 || t1 nG o5 t2 i0 || t1 nG# o5 t2 i0 || t1 nC o5 t2 i0 || t1 nG o2 t8 i0 nB o2 t8 i0 nD o3 t8 i0 nF o3 t8 i0 nB o4 t2 i0 || t1 nC o5 t2 i0 || t1 nD o5 t2 i0 || t1 nE o5 t2 i0 || t1 nG# o2 t8 i0 nB o2 t8 i0 nD o3 t8 i0 nF o5 t2 i0 || t1 nG o5 t2 i0 || t1 nG# o5 t2 i0 || t1 nC o5 t2 i0 || t1 nG o2 t8 i0 nB o2 t8 i0 nD o3 t8 i0 nF o3 t8 i0 nB o4 t2 i0 || t1 nC o5 t2 i0 || t1 nD o5 t2 i0 || t1 nE o5 t2 i0 || t1 nG# o2 t8 i0 nB o2 t8 i0 nD o3 t8 i0 nF o5 t2 i0 || t1 nG o5 t2 i0 || t1 nG# o5 t2 i0 || t1 nC o5 t2 i0 || t1 nG o2 t16 i0 nB o2 t16 i0 nD o3 t16 i0 nF o3 t16 i0 nB o4 t2 i0 || t1 nC o5 t2 i0 || t1 nD o5 t2 i0 || t1 nE o5 t2 i0 || t1 nF o5 t2 i0 || t1 nG o5 t2 i0 || t1 nG# o5 t2 i0 || t1 nB o4 t2 i0 || t1 nC o3 t8 i0 nE o3 t8 i0 nG o3 t8 i0 nC o5 t8 i0 || t7 nC o3 t8 i0 nE o3 t8 i0 nG o3 t8 i0 nB- o3 t8 i0 nG o5 t4 i0 || t3 nE o5 t4 i0 || t3 nC o3 t8 i0 nF o3 t8 i0 nG# o3 t8 i0 nG# o5 t8 i0 || t7 nC o3 t8 i0 nF o3 t8 i0 nG o3 t8 i0 nB o3 t8 i0 nB o4 t4 i0 || t3 nD o5 t4 i0 || t3 nC o3 t8 i0 nE o3 t8 i0 nG o3 t8 i0 nC o5 t8 i0 || t7 nC o3 t8 i0 nE o3 t8 i0 nG o3 t8 i0 nB- o3 t8 i0 nG o5 t2 i0 || t1 nE o5 t2 i0 || t1 nG o5 t2 i0 || t1 nE o5 t2 i0 || t1 nC o3 t8 i0 nF o3 t8 i0 nG# o3 t8 i0 nG# o5 t2 i0 || t1 nF o5 t2 i0 || t1 nG# o5 t2 i0 || t1 nF o5 t2 i0 || t1 nC o3 t8 i0 nF o3 t8 i0 nG o3 t8 i0 nB o3 t8 i0 nB o4 t2 i0 || t1 nD o5 t2 i0 || t1 nB o4 t2 i0 || t1 nD o5 t2 i0 || t1 nC o3 t4 i0 nE o3 t4 i0 nG o3 t4 i0 nC o5 t4 i0 || t7 nC o3 t4 i0 nE o3 t4 i0 nG o3 t4 i0 nC o4 t4 i0'"
      ]
     },
     "execution_count": 29,
     "metadata": {},
     "output_type": "execute_result"
    }
   ],
   "source": [
    "text"
   ]
  },
  {
   "cell_type": "code",
   "execution_count": 42,
   "metadata": {},
   "outputs": [
    {
     "data": {
      "text/html": [
       "\n",
       "                <div id='midiPlayerDiv226744'></div>\n",
       "                <link rel=\"stylesheet\" href=\"//cuthbertLab.github.io/music21j/css/m21.css\"\n",
       "                    type=\"text/css\" />\n",
       "                <script>\n",
       "                require.config({\n",
       "                    paths: {'music21': '//cuthbertLab.github.io/music21j/src/music21'}\n",
       "                });\n",
       "                require(['music21'], function() {\n",
       "                               mp = new music21.miditools.MidiPlayer();\n",
       "                               mp.addPlayer('#midiPlayerDiv226744');\n",
       "                               mp.base64Load('data:audio/midi;base64,TVRoZAAAAAYAAQABBABNVHJrAAAFAQD/AwVQaWFubwDAAADgAEAAwAAA/1EDB6EgAP9ZAgAAAP9YBAQCGAiCAJApWgCQLVoAkDBaAJBNWqAAgCkAAIAtAACAMAAAgE0AAJAoWgCQK1oAkDBaAJBIWpwAkEhahACAKAAAgCsAAIAwAACASAAAgEgAAJAmWgCQKVoAkC5aAJBGWogAkEpaiACASgAAkE1aiACATQCIAIAmAACAKQAAgC4AAIBGAACQMFoAkDVaAJA5WgCQRVqIAJBIWogAgEgAAJBNWogAgE0AhACQRVqEAIAwAACANQAAgDkAAIBFAACARQAAkC5aAJAyWgCQN1oAkENaiACQRlqIAIBGAACQSlqIAIBKAACQQ1qIAIAuAACAMgAAgDcAAIBDAACAQwAAkC1aAJAwWgCQNVoAkEFaiACQRVqIAIBFAACQSFqIAIBIAIQAkEhahACALQAAgDAAAIA1AACAQQAAgEgAAJArWgCQL1oAkDJaAJA1WgCQR1qEAJBIWoQAgEgAAJBKWoQAgEoAAJBMWoQAgEwAAJBNWoQAgE0AAJBPWoQAgE8AAJBQWoQAgFAAAJBIWoQAgCsAAIAvAACAMgAAgDUAAIBHAACASAAAkCtaAJAvWgCQMloAkDVaAJBHWoQAkEhahACASAAAkEpahACASgAAkExahACAKwAAgC8AAIAyAACANQAAgEcAAIBMAACQLFoAkC9aAJAyWgCQTVqEAJBPWoQAgE8AAJBQWoQAgFAAAJBIWoQAgCwAAIAvAACAMgAAgE0AAIBIAACQK1oAkC9aAJAyWgCQNVoAkEdahACQSFqEAIBIAACQSlqEAIBKAACQTFqEAIArAACALwAAgDIAAIA1AACARwAAgEwAAJAsWgCQL1oAkDJaAJBNWoQAkE9ahACATwAAkFBahACAUAAAkEhahACALAAAgC8AAIAyAACATQAAgEgAAJArWgCQL1oAkDJaAJA1WgCQR1qEAJBIWoQAgEgAAJBKWoQAgEoAAJBMWoQAgEwAAJBNWoQAgE0AAJBPWoQAgE8AAJBQWoQAgFAAAJBHWoQAgCsAAIAvAACAMgAAgDUAAIBHAACARwAAkDBaAJA0WgCQN1oAkEhakACAMAAAgDQAAIA3AACASAAAkDBaAJA0WgCQN1oAkDpaAJBPWogAkExaiACAMAAAgDQAAIA3AACAOgAAgE8AAIBMAACQMFoAkDVaAJA4WgCQUFqQAIAwAACANQAAgDgAAIBQAACQMFoAkDVaAJA3WgCQO1oAkEdaiACQSlqIAIAwAACANQAAgDcAAIA7AACARwAAgEoAAJAwWgCQNFoAkDdaAJBIWpAAgDAAAIA0AACANwAAgEgAAJAwWgCQNFoAkDdaAJA6WgCQT1qEAJBMWoQAgEwAAJBPWoQAgE8AAJBMWoQAgDAAAIA0AACANwAAgDoAAIBPAACATAAAkDBaAJA1WgCQOFoAkFBahACQTVqEAIBNAACQUFqEAIBQAACQTVqEAIAwAACANQAAgDgAAIBQAACATQAAkDBaAJA1WgCQN1oAkDtaAJBHWoQAkEpahACASgAAkEdahACARwAAkEpahACAMAAAgDUAAIA3AACAOwAAgEcAAIBKAACQMFoAkDRaAJA3WgCQSFqIAIAwAACANAAAgDcAAIBIAIgAkDBaAJA0WgCQN1oAkDxaiACAMAAAgDQAAIA3AACAPACIAP8vAA==');\n",
       "                        });\n",
       "                </script>"
      ],
      "text/plain": [
       "<IPython.core.display.HTML object>"
      ]
     },
     "metadata": {},
     "output_type": "display_data"
    }
   ],
   "source": [
    "text_stream = str2stream(text)\n",
    "text_stream.show('midi')"
   ]
  },
  {
   "cell_type": "code",
   "execution_count": 106,
   "metadata": {},
   "outputs": [
    {
     "name": "stdout",
     "output_type": "stream",
     "text": [
      "0.0 <music21.duration.Duration 4.25> 4.25 <music21.chord.Chord E2>\n",
      "4.25 <music21.duration.Duration 0.25> 0.25 <music21.chord.Chord G3 E4 B4 E5>\n",
      "4.5 <music21.duration.Duration 0.5> 0.5 <music21.chord.Chord G3 A3 E4 B4 C5 E5 F#5>\n",
      "5.0 <music21.duration.Duration 0.25> 0.25 <music21.chord.Chord G3 A3 E4 B4 C5 E5 F#5>\n",
      "5.25 <music21.duration.Duration 0.5> 0.5 <music21.chord.Chord G3 E4 E5 F#5>\n",
      "5.75 <music21.duration.Duration 0.25> 0.25 <music21.chord.Chord E4 B4 C5>\n",
      "6.0 <music21.duration.Duration 0.5> 0.5 <music21.chord.Chord G3 E4 B4 E5 B5>\n",
      "6.5 <music21.duration.Duration 0.25> 0.25 <music21.chord.Chord B3>\n",
      "6.75 <music21.duration.Duration 2.75> 2.75 <music21.chord.Chord A3 C4 E4 C5 E5 C6>\n",
      "9.5 <music21.duration.Duration 1.0> 1.0 <music21.chord.Chord B3 E-4 A4 E-5>\n",
      "10.5 <music21.duration.Duration 0.75> 0.75 <music21.chord.Chord G3 B4>\n",
      "11.25 <music21.duration.Duration 0.5> 0.5 <music21.chord.Chord G3 E4 B4 E5 F#5>\n",
      "11.75 <music21.duration.Duration 0.25> 0.25 <music21.chord.Chord A3 C5>\n",
      "12.0 <music21.duration.Duration 0.25> 0.25 <music21.chord.Chord G3 A3 E4 B4 E5 F#5>\n",
      "12.25 <music21.duration.Duration 0.25> 0.25 <music21.chord.Chord G3 A3 E4 B4 C5 E5 F#5>\n",
      "12.5 <music21.duration.Duration 0.25> 0.25 <music21.chord.Chord G3 E4 B4 C5 F#5>\n",
      "12.75 <music21.duration.Duration 0.25> 0.25 <music21.chord.Chord B3 E5>\n",
      "13.0 <music21.duration.Duration 0.25> 0.25 <music21.chord.Chord E4 E5>\n",
      "13.25 <music21.duration.Duration 4.5> 4.5 <music21.chord.Chord A3 C4 E4 C5 E5 C6>\n",
      "17.75 <music21.duration.Duration 6.5> 6.5 <music21.chord.Chord B3 E-4 A4 B4 E-5>\n",
      "24.25 <music21.duration.Duration 0.25> 0.25 <music21.chord.Chord E3 G5 G6>\n",
      "24.5 <music21.duration.Duration 0.25> 0.25 <music21.chord.Chord G4>\n",
      "24.75 <music21.duration.Duration 0.25> 0.25 <music21.chord.Chord F6>\n",
      "25.0 <music21.duration.Duration 34.5> 34.5 <music21.chord.Chord F3 F5>\n",
      "59.5 <music21.duration.Duration 0.25> 0.25 <music21.chord.Chord G3 D5 D6>\n",
      "59.75 <music21.duration.Duration 5.25> 5.25 <music21.chord.Chord B4>\n",
      "65.0 <music21.duration.Duration 0.25> 0.25 <music21.chord.Chord G#3 E6>\n",
      "65.25 <music21.duration.Duration 4.0> 4.0 <music21.chord.Chord A3 C5 D5 C6 D6>\n",
      "69.25 <music21.duration.Duration 0.5> 0.5 <music21.chord.Chord A4>\n",
      "69.75 <music21.duration.Duration 0.25> 0.25 <music21.chord.Chord A5>\n",
      "70.0 <music21.duration.Duration 3.5> 3.5 <music21.chord.Chord C3>\n",
      "73.5 <music21.duration.Duration 0.75> 0.75 <music21.chord.Chord E4 G5>\n",
      "74.25 <music21.duration.Duration 2.0> 2.0 <music21.chord.Chord A2 F#4 G4>\n",
      "76.25 <music21.duration.Duration 1.0> 1.0 <music21.chord.Chord E4 E5>\n",
      "77.25 <music21.duration.Duration 0.25> 0.25 <music21.chord.Chord B2 E-4>\n",
      "77.5 <music21.duration.Duration 1.75> 1.75 <music21.chord.Chord B3>\n",
      "79.25 <music21.duration.Duration 0.25> 0.25 <music21.chord.Chord G#2>\n",
      "79.5 <music21.duration.Duration 0.5> 0.5 <music21.chord.Chord E3>\n",
      "80.0 <music21.duration.Duration 3.75> 3.75 <music21.chord.Chord D4 D5>\n",
      "83.75 <music21.duration.Duration 0.25> 0.25 <music21.chord.Chord C4>\n",
      "84.0 <music21.duration.Duration 0.25> 0.25 <music21.chord.Chord A3>\n",
      "84.25 <music21.duration.Duration 2.75> 2.75 <music21.chord.Chord A3 B3 A4 B4>\n",
      "87.0 <music21.duration.Duration 0.25> 0.25 <music21.chord.Chord E3 B-3 B-4>\n",
      "87.25 <music21.duration.Duration 2.5> 2.5 <music21.chord.Chord B3 B4>\n",
      "89.75 <music21.duration.Duration 0.25> 0.25 <music21.chord.Chord B2>\n",
      "90.0 <music21.duration.Duration 5.5> 5.5 <music21.chord.Chord E-3>\n",
      "95.5 <music21.duration.Duration 6.25> 6.25 <music21.chord.Chord E2>\n",
      "101.75 <music21.duration.Duration 0.5> 0.5 <music21.chord.Chord G3>\n",
      "102.25 <music21.duration.Duration 0.25> 0.25 <music21.chord.Chord F2 F4 F5>\n",
      "102.5 <music21.duration.Duration 0.25> 0.25 <music21.chord.Chord G2>\n",
      "102.75 <music21.duration.Duration 0.25> 0.25 <music21.chord.Chord G#2 E4 E5>\n",
      "103.0 <music21.duration.Duration 0.75> 0.75 <music21.chord.Chord E3>\n",
      "103.75 <music21.duration.Duration 3.75> 3.75 <music21.chord.Chord D4 D5>\n",
      "107.5 <music21.duration.Duration 0.25> 0.25 <music21.chord.Chord A2 C4 C5>\n",
      "107.75 <music21.duration.Duration 0.5> 0.5 <music21.chord.Chord A3>\n",
      "108.25 <music21.duration.Duration 0.25> 0.25 <music21.chord.Chord C2>\n",
      "108.5 <music21.duration.Duration 0.75> 0.75 <music21.chord.Chord E3>\n",
      "109.25 <music21.duration.Duration 5.5> 5.5 <music21.chord.Chord G3 G4>\n",
      "114.75 <music21.duration.Duration 2.0> 2.0 <music21.chord.Chord A1 F#3 F#4>\n",
      "116.75 <music21.duration.Duration 0.25> 0.25 <music21.chord.Chord C3 E3 E4>\n",
      "117.0 <music21.duration.Duration 0.25> 0.25 <music21.chord.Chord B1 E-4>\n",
      "117.25 <music21.duration.Duration 1.5> 1.5 <music21.chord.Chord B2>\n",
      "118.75 <music21.duration.Duration 0.25> 0.25 <music21.chord.Chord G#1>\n",
      "119.0 <music21.duration.Duration 0.25> 0.25 <music21.chord.Chord C3 D3 C4 D4>\n",
      "119.25 <music21.duration.Duration 0.25> 0.25 <music21.chord.Chord A2>\n",
      "119.5 <music21.duration.Duration 1.0> 1.0 <music21.chord.Chord B2 B3>\n",
      "120.5 <music21.duration.Duration 0.25> 0.25 <music21.chord.Chord C2 A2 A3>\n",
      "120.75 <music21.duration.Duration 20.25> 20.25 <music21.chord.Chord E2 B-2 B-3>\n",
      "141.0 <music21.duration.Duration 0.25> 0.25 <music21.chord.Chord B1>\n",
      "141.25 <music21.duration.Duration 97.75> 97.75 <music21.chord.Chord E-2>\n",
      "239.0 <music21.duration.Duration 5.0> 5.0 <music21.chord.Chord G1>\n",
      "244.0 <music21.duration.Duration 0.25> 0.25 <music21.chord.Chord B3>\n",
      "244.25 <music21.duration.Duration 0.5> 0.5 <music21.chord.Chord E3 G3 C4 E4 G4 C5>\n",
      "244.75 <music21.duration.Duration 3.25> 3.25 <music21.chord.Chord D3 B3 D4 B4>\n",
      "248.0 <music21.duration.Duration 0.25> 0.25 <music21.chord.Chord G4>\n",
      "248.25 <music21.duration.Duration 1.75> 1.75 <music21.chord.Chord C#3 B-3 C#4>\n",
      "250.0 <music21.duration.Duration 1.0> 1.0 <music21.chord.Chord B3 G4 B4>\n",
      "251.0 <music21.duration.Duration 5.75> 5.75 <music21.chord.Chord F#3 G3 D4 F#4 G4 D5>\n",
      "256.75 <music21.duration.Duration 2.25> 2.25 <music21.chord.Chord E3 B3 C4 D4 E4 G4 B4 C5>\n",
      "259.0 <music21.duration.Duration 0.25> 0.25 <music21.chord.Chord G4>\n",
      "259.25 <music21.duration.Duration 4.0> 4.0 <music21.chord.Chord C#3 B-3 C#4 G4 B-4>\n",
      "263.25 <music21.duration.Duration 4.75> 4.75 <music21.chord.Chord G1>\n",
      "268.0 <music21.duration.Duration 0.25> 0.25 <music21.chord.Chord G4>\n",
      "268.25 <music21.duration.Duration 0.25> 0.25 <music21.chord.Chord G4>\n",
      "268.5 <music21.duration.Duration 0.25> 0.25 <music21.chord.Chord G3>\n",
      "268.75 <music21.duration.Duration 0.25> 0.25 <music21.chord.Chord D3 D4 G4 B4>\n",
      "269.0 <music21.duration.Duration 0.25> 0.25 <music21.chord.Chord G3>\n",
      "269.25 <music21.duration.Duration 0.25> 0.25 <music21.chord.Chord A2 G3 A3 C#4 G4 A4>\n",
      "269.5 <music21.duration.Duration 24.75> 24.75 <music21.chord.Chord A2 G3 A3 C#4 G4 A4>\n",
      "294.25 <music21.duration.Duration 4.0> 4.0 <music21.chord.Chord C#3 G3 A3 E4 G4 A4>\n",
      "298.25 <music21.duration.Duration 0.25> 0.25 <music21.chord.Chord D4>\n",
      "298.5 <music21.duration.Duration 0.25> 0.25 <music21.chord.Chord D3 G3>\n",
      "298.75 <music21.duration.Duration 4.0> 4.0 <music21.chord.Chord F#3 F#4>\n",
      "302.75 <music21.duration.Duration 5.25> 5.25 <music21.chord.Chord G1>\n",
      "308.0 <music21.duration.Duration 1.0> 1.0 <music21.chord.Chord D3 G3 B3 D4 G4 B4>\n",
      "309.0 <music21.duration.Duration 0.5> 0.5 <music21.chord.Chord E3 G3 C4 G4 C5>\n",
      "309.5 <music21.duration.Duration 0.75> 0.75 <music21.chord.Chord D3 B3 D4 G4 B4>\n",
      "310.25 <music21.duration.Duration 2.0> 2.0 <music21.chord.Chord C#3 B-3 C#4>\n",
      "312.25 <music21.duration.Duration 1.25> 1.25 <music21.chord.Chord B3 D4 B4>\n",
      "313.5 <music21.duration.Duration 0.25> 0.25 <music21.chord.Chord G3 D4 G4 D5>\n",
      "313.75 <music21.duration.Duration 3.5> 3.5 <music21.chord.Chord E3 C4 E4 G4 C5>\n",
      "317.25 <music21.duration.Duration 1.5> 1.5 <music21.chord.Chord D3 B3 D4 G4 B4>\n",
      "318.75 <music21.duration.Duration 34.5> 34.5 <music21.chord.Chord C#3 B-3 C#4 B-4>\n",
      "353.25 <music21.duration.Duration 0.5> 0.5 <music21.chord.Chord G3 B4>\n",
      "353.75 <music21.duration.Duration 0.5> 0.5 <music21.chord.Chord D4>\n",
      "354.25 <music21.duration.Duration 0.5> 0.5 <music21.chord.Chord E-3 G3 B3 E-4 G4 B4>\n",
      "354.75 <music21.duration.Duration 0.25> 0.25 <music21.chord.Chord G3 B3 E4 G4 B4>\n",
      "355.0 <music21.duration.Duration 11.0> 11.0 <music21.chord.Chord F3 G#3 B3 F4 G4 G#4 B4>\n",
      "366.0 <music21.duration.Duration 23.25> 23.25 <music21.chord.Chord F#3 A3 B3 F#4 A4>\n",
      "389.25 <music21.duration.Duration 1.0> 1.0 <music21.chord.Chord C#5>\n",
      "390.25 <music21.duration.Duration 1.0> 1.0 <music21.chord.Chord B2 B3 C#4 F#4 A4 E-5>\n",
      "391.25 <music21.duration.Duration 0.25> 0.25 <music21.chord.Chord G3 E4 B4 E5>\n",
      "391.5 <music21.duration.Duration 0.25> 0.25 <music21.chord.Chord G3 A3 E4 B4 C5 E5 F#5>\n",
      "391.75 <music21.duration.Duration 0.25> 0.25 <music21.chord.Chord G3 A3 E4 B4 C5 E5 F#5>\n",
      "392.0 <music21.duration.Duration 0.25> 0.25 <music21.chord.Chord G3 A3 E4 B4 C5 E5 F#5>\n",
      "392.25 <music21.duration.Duration 0.25> 0.25 <music21.chord.Chord G3 E4 B4 C5 E5 F#5>\n",
      "392.5 <music21.duration.Duration 2.25> 2.25 <music21.chord.Chord G3 B3 E4 B4 E5 B5>\n",
      "394.75 <music21.duration.Duration 3.0> 3.0 <music21.chord.Chord A3 C4 E4 C5 E5 C6>\n",
      "397.75 <music21.duration.Duration 1.0> 1.0 <music21.chord.Chord B3 E-4 A4 B4 E-5>\n",
      "398.75 <music21.duration.Duration 0.25> 0.25 <music21.chord.Chord E2>\n",
      "399.0 <music21.duration.Duration 0.5> 0.5 <music21.chord.Chord G3 A3 E4 B4 E5>\n",
      "399.5 <music21.duration.Duration 0.25> 0.25 <music21.chord.Chord G3 A3 E4 B4 C5 E5 F#5>\n",
      "399.75 <music21.duration.Duration 0.25> 0.25 <music21.chord.Chord G3 A3 E4 B4 C5 E5 F#5>\n",
      "400.0 <music21.duration.Duration 0.25> 0.25 <music21.chord.Chord G3 A3 E4 B4 C5 E5 F#5>\n",
      "400.25 <music21.duration.Duration 3.5> 3.5 <music21.chord.Chord G3 B3 E4 B4 E5 B5>\n",
      "403.75 <music21.duration.Duration 5.0> 5.0 <music21.chord.Chord A3 C4 E4 C5 C6>\n",
      "408.75 <music21.duration.Duration 6.75> 6.75 <music21.chord.Chord B3 E-4 A4 B4 E-5>\n",
      "415.5 <music21.duration.Duration 0.25> 0.25 <music21.chord.Chord E3 G5 G6>\n",
      "415.75 <music21.duration.Duration 0.25> 0.25 <music21.chord.Chord F5 F6>\n",
      "416.0 <music21.duration.Duration 0.25> 0.25 <music21.chord.Chord D5>\n",
      "416.25 <music21.duration.Duration 5.5> 5.5 <music21.chord.Chord B4>\n",
      "421.75 <music21.duration.Duration 0.25> 0.25 <music21.chord.Chord E6>\n",
      "422.0 <music21.duration.Duration 1.25> 1.25 <music21.chord.Chord E4 D5 D6>\n",
      "423.25 <music21.duration.Duration 4.0> 4.0 <music21.chord.Chord A3 C5 C6>\n",
      "427.25 <music21.duration.Duration 0.5> 0.5 <music21.chord.Chord A4>\n",
      "427.75 <music21.duration.Duration 0.25> 0.25 <music21.chord.Chord C3 A4 A5>\n",
      "428.0 <music21.duration.Duration 1.0> 1.0 <music21.chord.Chord E4>\n",
      "429.0 <music21.duration.Duration 4.25> 4.25 <music21.chord.Chord G4 G5>\n",
      "433.25 <music21.duration.Duration 0.25> 0.25 <music21.chord.Chord B2 E4 E5>\n",
      "433.5 <music21.duration.Duration 1.5> 1.5 <music21.chord.Chord B3>\n",
      "435.0 <music21.duration.Duration 0.25> 0.25 <music21.chord.Chord G#2 E5>\n",
      "435.25 <music21.duration.Duration 0.25> 0.25 <music21.chord.Chord E3 D4 D5>\n",
      "435.5 <music21.duration.Duration 0.75> 0.75 <music21.chord.Chord A2 C4>\n",
      "436.25 <music21.duration.Duration 1.0> 1.0 <music21.chord.Chord B3 B4>\n",
      "437.25 <music21.duration.Duration 0.75> 0.75 <music21.chord.Chord C3 A3 A4>\n",
      "438.0 <music21.duration.Duration 0.25> 0.25 <music21.chord.Chord E3 B-3 B-4>\n",
      "438.25 <music21.duration.Duration 0.25> 0.25 <music21.chord.Chord B2 B3 B4>\n",
      "438.5 <music21.duration.Duration 0.25> 0.25 <music21.chord.Chord E-3>\n",
      "438.75 <music21.duration.Duration 0.25> 0.25 <music21.chord.Chord E2>\n",
      "439.0 <music21.duration.Duration 0.25> 0.25 <music21.chord.Chord G3>\n",
      "439.25 <music21.duration.Duration 0.25> 0.25 <music21.chord.Chord F2 F5>\n",
      "439.5 <music21.duration.Duration 0.25> 0.25 <music21.chord.Chord G2>\n",
      "439.75 <music21.duration.Duration 0.25> 0.25 <music21.chord.Chord G#2 E4 E5>\n",
      "440.0 <music21.duration.Duration 0.75> 0.75 <music21.chord.Chord E3>\n",
      "440.75 <music21.duration.Duration 0.25> 0.25 <music21.chord.Chord A2 C4 D4 C5 D5>\n",
      "441.0 <music21.duration.Duration 0.25> 0.25 <music21.chord.Chord A3>\n",
      "441.25 <music21.duration.Duration 99.0> 99.0 <music21.chord.Chord C2>\n",
      "540.25 <music21.duration.Duration 0.75> 0.75 <music21.chord.Chord E3>\n",
      "541.0 <music21.duration.Duration 2.25> 2.25 <music21.chord.Chord A1 G3 F#4 G4>\n",
      "543.25 <music21.duration.Duration 1.75> 1.75 <music21.chord.Chord C3 E3 E4>\n",
      "545.0 <music21.duration.Duration 0.25> 0.25 <music21.chord.Chord B1 E-3 E-4>\n",
      "545.25 <music21.duration.Duration 2.0> 2.0 <music21.chord.Chord B2>\n",
      "547.25 <music21.duration.Duration 0.25> 0.25 <music21.chord.Chord G#1>\n",
      "547.5 <music21.duration.Duration 0.25> 0.25 <music21.chord.Chord E2 D3 D4>\n",
      "547.75 <music21.duration.Duration 5.0> 5.0 <music21.chord.Chord C3 C4>\n",
      "552.75 <music21.duration.Duration 0.25> 0.25 <music21.chord.Chord E2 A2 G3 A3>\n",
      "553.0 <music21.duration.Duration 0.5> 0.5 <music21.chord.Chord B1 B2 B3>\n",
      "553.5 <music21.duration.Duration 61.75> 61.75 <music21.chord.Chord B1 B2 E-3 F#3>\n",
      "615.25 <music21.duration.Duration 51.5> 51.5 <music21.chord.Chord E1 E2 B2 E3 G3 B3>\n",
      "666.75 <music21.duration.Duration 0.25> 0.25 <music21.chord.Chord G2>\n",
      "667.0 <music21.duration.Duration 0.25> 0.25 <music21.chord.Chord A2 F4>\n",
      "667.25 <music21.duration.Duration 4.25> 4.25 <music21.chord.Chord B2>\n",
      "671.5 <music21.duration.Duration 0.25> 0.25 <music21.chord.Chord G3 F4 G4>\n",
      "671.75 <music21.duration.Duration 10.5> 10.5 <music21.chord.Chord C#3 G3>\n",
      "682.25 <music21.duration.Duration 0.25> 0.25 <music21.chord.Chord F4 G4>\n",
      "682.5 <music21.duration.Duration 0.25> 0.25 <music21.chord.Chord C3 G3 E4>\n",
      "682.75 <music21.duration.Duration 0.25> 0.25 <music21.chord.Chord A4>\n",
      "683.0 <music21.duration.Duration 5.25> 5.25 <music21.chord.Chord B4>\n",
      "688.25 <music21.duration.Duration 0.25> 0.25 <music21.chord.Chord C3 E4>\n",
      "688.5 <music21.duration.Duration 0.25> 0.25 <music21.chord.Chord G3>\n",
      "688.75 <music21.duration.Duration 19.25> 19.25 <music21.chord.Chord D5>\n",
      "708.0 <music21.duration.Duration 0.25> 0.25 <music21.chord.Chord C3 G3 E4 E-5>\n",
      "708.25 <music21.duration.Duration 19.25> 19.25 <music21.chord.Chord E5>\n",
      "727.5 <music21.duration.Duration 19.25> 19.25 <music21.chord.Chord B-2 G#3 D4>\n",
      "746.75 <music21.duration.Duration 0.25> 0.25 <music21.chord.Chord E4>\n",
      "747.0 <music21.duration.Duration 15.0> 15.0 <music21.chord.Chord C3 G#3>\n",
      "762.0 <music21.duration.Duration 0.25> 0.25 <music21.chord.Chord D3 D4 E4>\n",
      "762.25 <music21.duration.Duration 19.25> 19.25 <music21.chord.Chord E-3>\n",
      "781.5 <music21.duration.Duration 0.25> 0.25 <music21.chord.Chord E3 D4 E4>\n",
      "781.75 <music21.duration.Duration 1.0> 1.0 <music21.chord.Chord A2 E3 C4>\n",
      "782.75 <music21.duration.Duration 0.25> 0.25 <music21.chord.Chord F#4>\n",
      "783.0 <music21.duration.Duration 19.5> 19.5 <music21.chord.Chord G#4>\n",
      "802.5 <music21.duration.Duration 0.25> 0.25 <music21.chord.Chord A2 E3 C4 A4>\n",
      "802.75 <music21.duration.Duration 4.25> 4.25 <music21.chord.Chord B4>\n",
      "807.0 <music21.duration.Duration 0.25> 0.25 <music21.chord.Chord A2 E3 C4 C5>\n",
      "807.25 <music21.duration.Duration 13.5> 13.5 <music21.chord.Chord C5>\n"
     ]
    }
   ],
   "source": [
    "for n in list(text_stream.flat[:200]):\n",
    "    if isinstance(n, (music21.note.Note, music21.chord.Chord)):\n",
    "        print(n.offset, n.duration, n.duration.quarterLength, n)"
   ]
  },
  {
   "cell_type": "markdown",
   "metadata": {},
   "source": [
    "### intermediate encoding"
   ]
  },
  {
   "cell_type": "code",
   "execution_count": 115,
   "metadata": {},
   "outputs": [],
   "source": [
    "def stream2chordarr(s, note_range=127, sample_freq=12):\n",
    "    \"Converts music21.Stream to 1-hot numpy array\"\n",
    "    # assuming 4/4 time\n",
    "    # note x instrument x pitch\n",
    "    # FYI: midi middle C value=60\n",
    "    maxTimeStep = int(s.duration.quarterLength * sample_freq)+1\n",
    "    \n",
    "    # (AS) TODO: need to order by instruments most played and filter out percussion or include the channel\n",
    "    inst2idx = {inst.id:idx for idx,inst in enumerate(s.flat.getInstruments())}\n",
    "    score_arr = np.zeros((maxTimeStep, len(inst2idx), note_range))\n",
    "\n",
    "    notes=[]\n",
    "    noteFilter=music21.stream.filters.ClassFilter('Note')\n",
    "    chordFilter=music21.stream.filters.ClassFilter('Chord')\n",
    "    \n",
    "    def note_data(pitch, note):\n",
    "        inst_id = note.activeSite.getInstrument().id\n",
    "        iidx = inst2idx[inst_id]\n",
    "        return (pitch.midi, round(note.offset*sample_freq), round(note.duration.quarterLength*sample_freq), iidx)\n",
    "\n",
    "    for n in s.recurse().addFilter(noteFilter):\n",
    "        notes.append(note_data(n.pitch, n))\n",
    "        \n",
    "    for c in s.recurse().addFilter(chordFilter):\n",
    "        pitchesInChord=c.pitches\n",
    "        for p in pitchesInChord:\n",
    "            notes.append(note_data(p, c))\n",
    "\n",
    "    for n in notes:\n",
    "        if n is None: continue\n",
    "        pitch,offset,duration,inst = n\n",
    "        score_arr[offset, inst, pitch] = VALTSTART                 # Strike note\n",
    "        score_arr[offset+1:offset+duration, inst, pitch] = VALTCONT      # Continue holding note\n",
    "    return score_arr\n"
   ]
  },
  {
   "cell_type": "code",
   "execution_count": 116,
   "metadata": {},
   "outputs": [],
   "source": [
    "# 3.\n",
    "def chordarr2stream(arr, sample_freq=12):\n",
    "    duration = music21.duration.Duration(1. / sample_freq)\n",
    "    stream = music21.stream.Stream()\n",
    "    for inst in range(arr.shape[1]):\n",
    "        p = partarr2stream(arr[:,inst,:], duration, stream=music21.stream.Part())\n",
    "        stream.append(p)\n",
    "    return stream\n",
    "\n",
    "# 3b.\n",
    "def partarr2stream(part, duration, stream=None, inst=None):\n",
    "    \"convert instrument part to music21 chords\"\n",
    "    if stream is None: stream = music21.stream.Stream()\n",
    "    stream.append(music21.instrument.Piano())\n",
    "    stream.append(music21.meter.TimeSignature(TIMESIG))\n",
    "    stream.append(music21.tempo.MetronomeMark(number=120))\n",
    "    stream.append(music21.key.KeySignature(0))\n",
    "    starts = part == 1\n",
    "    durations = calc_note_durations(part)\n",
    "    for tidx,t in enumerate(starts):\n",
    "        note_idxs = t.nonzero()[0]\n",
    "        if len(note_idxs) == 0: continue\n",
    "        notes = []\n",
    "        for nidx in note_idxs:\n",
    "            note = music21.note.Note(nidx)\n",
    "            tnext = durations[tidx+1,nidx] if tidx+1 < len(part) else 0\n",
    "            note.duration = music21.duration.Duration((tnext+1)*duration.quarterLength)\n",
    "            notes.append(note)\n",
    "        chord = music21.chord.Chord(notes)\n",
    "        stream.insert(tidx*duration.quarterLength, chord)\n",
    "#         chord = music21.chord.Chord(notes, offset=tidx*duration.quarterLength)\n",
    "#         stream.append(chord)\n",
    "    return stream\n",
    "    \n",
    "# 3c.\n",
    "def calc_note_durations(part):\n",
    "    \"calculate midi note durations from TCONT notes\"\n",
    "    cnotes = (part == VALTCONT).astype(int)\n",
    "    for i in reversed(range(cnotes.shape[0]-1)):\n",
    "        cnotes[i] += cnotes[i+1]*cnotes[i]\n",
    "    return cnotes\n"
   ]
  },
  {
   "cell_type": "code",
   "execution_count": null,
   "metadata": {},
   "outputs": [],
   "source": [
    "test_stream.insert()"
   ]
  },
  {
   "cell_type": "code",
   "execution_count": 82,
   "metadata": {},
   "outputs": [],
   "source": [
    "duration = music21.duration.Duration(1. / 4)"
   ]
  },
  {
   "cell_type": "code",
   "execution_count": 84,
   "metadata": {},
   "outputs": [
    {
     "data": {
      "text/plain": [
       "0.25"
      ]
     },
     "execution_count": 84,
     "metadata": {},
     "output_type": "execute_result"
    }
   ],
   "source": [
    "duration.quarterLength"
   ]
  },
  {
   "cell_type": "code",
   "execution_count": 86,
   "metadata": {},
   "outputs": [
    {
     "data": {
      "text/plain": [
       "173.5"
      ]
     },
     "execution_count": 86,
     "metadata": {},
     "output_type": "execute_result"
    }
   ],
   "source": [
    "694 * duration.quarterLength"
   ]
  },
  {
   "cell_type": "code",
   "execution_count": 85,
   "metadata": {},
   "outputs": [
    {
     "data": {
      "text/plain": [
       "(694, 127)"
      ]
     },
     "execution_count": 85,
     "metadata": {},
     "output_type": "execute_result"
    }
   ],
   "source": [
    "part.shape"
   ]
  },
  {
   "cell_type": "code",
   "execution_count": 61,
   "metadata": {},
   "outputs": [],
   "source": [
    "part = charr[:, 0, :]"
   ]
  },
  {
   "cell_type": "code",
   "execution_count": 69,
   "metadata": {},
   "outputs": [],
   "source": [
    "cnotes = (part == VALTCONT).astype(int)"
   ]
  },
  {
   "cell_type": "code",
   "execution_count": 78,
   "metadata": {},
   "outputs": [],
   "source": [
    "cnotes = np.random.randint(0,2,(5,5))"
   ]
  },
  {
   "cell_type": "code",
   "execution_count": 79,
   "metadata": {},
   "outputs": [
    {
     "data": {
      "text/plain": [
       "array([[1, 1, 1, 1, 0],\n",
       "       [0, 1, 0, 1, 0],\n",
       "       [0, 0, 0, 1, 1],\n",
       "       [0, 0, 0, 1, 1],\n",
       "       [1, 0, 0, 1, 0]])"
      ]
     },
     "execution_count": 79,
     "metadata": {},
     "output_type": "execute_result"
    }
   ],
   "source": [
    "cnotes"
   ]
  },
  {
   "cell_type": "code",
   "execution_count": 80,
   "metadata": {},
   "outputs": [],
   "source": [
    "for i in reversed(range(cnotes.shape[0]-1)):\n",
    "    cnotes[i] += cnotes[i+1]*cnotes[i]"
   ]
  },
  {
   "cell_type": "code",
   "execution_count": 81,
   "metadata": {},
   "outputs": [
    {
     "data": {
      "text/plain": [
       "array([[1, 2, 1, 5, 0],\n",
       "       [0, 1, 0, 4, 0],\n",
       "       [0, 0, 0, 3, 2],\n",
       "       [0, 0, 0, 2, 1],\n",
       "       [1, 0, 0, 1, 0]])"
      ]
     },
     "execution_count": 81,
     "metadata": {},
     "output_type": "execute_result"
    }
   ],
   "source": [
    "cnotes"
   ]
  },
  {
   "cell_type": "code",
   "execution_count": null,
   "metadata": {},
   "outputs": [],
   "source": [
    "cnotes "
   ]
  },
  {
   "cell_type": "code",
   "execution_count": 90,
   "metadata": {},
   "outputs": [
    {
     "data": {
      "text/plain": [
       "array([[  16,   15,   16,   13, ...,  249,  237,  225,  213],\n",
       "       [ 222,  210,  199,  189, ...,  455,  446,  435,  426],\n",
       "       [ 419,  450,  445,  439, ...,  996,  973,  954,  935],\n",
       "       [ 916,  901,  886,  871, ...,  908,  894,  881,  872],\n",
       "       ...,\n",
       "       [1354, 1320, 1286, 1256, ...,  931,  906,  881,  856],\n",
       "       [ 838,  811,  785,  763, ...,  701,  687,  659,  638],\n",
       "       [ 617,  630,  602,  598, ...,  250,  233,  218,  203],\n",
       "       [ 201,  187,  196,  183, ...,    4,    4,    2,    1]])"
      ]
     },
     "execution_count": 90,
     "metadata": {},
     "output_type": "execute_result"
    }
   ],
   "source": [
    "np.trim_zeros(calc_note_durations(charr[:, 0, :]).sum(axis=1)).reshape(16, -1)"
   ]
  },
  {
   "cell_type": "code",
   "execution_count": 117,
   "metadata": {},
   "outputs": [],
   "source": [
    "charr = stream2chordarr(transposed_stream)"
   ]
  },
  {
   "cell_type": "code",
   "execution_count": 118,
   "metadata": {},
   "outputs": [
    {
     "data": {
      "text/plain": [
       "(2081, 2, 127)"
      ]
     },
     "execution_count": 118,
     "metadata": {},
     "output_type": "execute_result"
    }
   ],
   "source": [
    "charr.shape"
   ]
  },
  {
   "cell_type": "code",
   "execution_count": 119,
   "metadata": {},
   "outputs": [],
   "source": [
    "test_stream = chordarr2stream(charr)"
   ]
  },
  {
   "cell_type": "code",
   "execution_count": 120,
   "metadata": {},
   "outputs": [
    {
     "data": {
      "text/html": [
       "\n",
       "                <div id='midiPlayerDiv164500'></div>\n",
       "                <link rel=\"stylesheet\" href=\"//cuthbertLab.github.io/music21j/css/m21.css\"\n",
       "                    type=\"text/css\" />\n",
       "                <script>\n",
       "                require.config({\n",
       "                    paths: {'music21': '//cuthbertLab.github.io/music21j/src/music21'}\n",
       "                });\n",
       "                require(['music21'], function() {\n",
       "                               mp = new music21.miditools.MidiPlayer();\n",
       "                               mp.addPlayer('#midiPlayerDiv164500');\n",
       "                               mp.base64Load('data:audio/midi;base64,TVRoZAAAAAYAAQACBABNVHJrAAAjngD/AwVQaWFubwDAAADgAEAAwAAA/1EDB6EgAP9ZAgAAAP9YBAQCGAiIAJAoWoQAkDdaAJBAWgCQR1oAkExaglWANwAAgEAAAIBHAACATACDK5A3WgCQOVoAkEBaAJBHWgCQSFoAkExaAJBOWoMrgDcAAIA5AACAQAAAgEcAAIBIAACATAAAgE4AAJA3WgCQOVoAkEBaAJBHWgCQSFoAkExaAJBOWoJVgDcAAIA5AACAQAAAgEcAAIBIAACATAAAgE4AAJA3WgCQQFoAkExaAJBOWoIAkEBaAJBHWgCQSFqCAIA3AACAQAAAgEwAAIBOAACAQAAAgEcAAIBIAACQN1oAkEBaAJBHWgCQTFoAkFNagSuQO1qCAIA7AFWANwAAgEAAAIBHAACATAAAgFMAAJA5WgCQPFoAkEBaAJBIWgCQTFoAkFRahSuQO1oAkD9aAJBFWgCQS1qFKoAoAIJWgDsAAIA/AACARQAAgEsAVZA3WgCQR1qGAIA3AACARwAAkDdaAJBAWgCQR1oAkExaAJBOWoErgDkAAIA8AACAQAAAgEgAAIBMAACAVAAAkDlaAJBIWoJVgDcAAIBAAACARwAAgEwAAIBOAACAOQAAgEgAAJA3WgCQOVoAkEBaAJBHWgCQTFoAkE5aggCANwAAgDkAAIBAAACARwAAgEwAAIBOAACQN1oAkDlaAJBAWgCQR1oAkExaAJBOWlWQSFqBK4A3AACAOQAAgEAAAIBHAACATAAAgE4AAIBIAACQN1oAkEBaAJBHWgCQSFoAkE5agSuQTFpVgDcAAIBAAACARwAAgEgAAIBOAACATAAAkDtaggCAOwAAkEBaAJBMWoIAgEAAAIBMAACQOVoAkDxaAJBAWgCQSFoAkExaAJBUWoQAkDtaAJA/WgCQRVoAkEdaAJBLWocrkDRaVZBPWgCQW1qCAIA0AFWATwAAgFsAgSuQQ1qCAIBDAACQWVqBK5A1WgCQTVpVgFkAhFWQN1oAkEpaAJBWWoIAgDcAAIBKAACAVgCBK5BHWoIAkDhaAJBYWoJVgDgAAIBYAIJWkEpaAJBWWlWAOQAAgDwAAIBAAACASAAAgEwAAIBUAACQOVoAkEhaAJBUWoQAkEVaggCQUVqBK5AwWlWARQBVgFEAgSuQQFoAkE9aggCQQloAkENaVZAtWoErgEIAAIBDAIIAgEAAAIBPAACQQFoAkExaggCQL1oAkD9aggCAOwAAgD8AAIBFAACARwAAgEsAAIAvAACAPwBVkDtaglaQLFpVgEAAAIBMAIIAgCwAAJA0WoErgEoAAIBWAFWQPloAkEpaVYAtAIErgDQAAJA8WoIAgDkAAIBIAACAVAAAgDwAAJA5WoIAgEcAAIA7AACAOQAAkDlaAJA7WgCQRVoAkEdagSuAMACCVZA0WgCQOloAkEZaggCANAAAgDoAAIBGAACQO1oAkEdaggCQL1qCAIAvAACQM1qCAJAoWoQAkDdaggCQQVoAkE1aVZApWoErgDcAVYBBAACATQAAgCkAVoA5AACAOwAAgEUAAIBHAIJVgD4AAIBKAACQK1qCAIA7AACARwAAgCsAgyuQQFoAkExaVZAsWoErgEAAAIBMAFWQNFpVgCwAgSuQPloAkEpaggCQLVoAkDxaAJBIWoErgDQAVYAtAACAPAAAgEgAAJA5WoQAgDkAAJAkWoIAgCQAAJA0WoErkDdaAJBDWoJVkCFaAJA2WgCQQlqCAIA0AACQMFpVkDRaAJBAWoErgDAAgSuQI1oAkD9aVYAzAIErgCMAAIA/AFWQL1qCVYA0AACAQAAAkCBaglWAIABWgCgAggCAPgAAgEoAAIAhAACANgAAgEIAAJAwWgCQMloAkDxaAJA+WoIAgDAAAIAyAACAPAAAgD4AVZAtWoErgC8AAJAvWgCQO1pVgC0AgSuQJFoAkC1aAJA5WoIAkChaAJAuWgCQOlpVgCQAAIAtAACAOQCDK4AvAACAOwAAkCNaggCAIwCCAJAnWoJVkB9ahSuQO1qBK4A3AACAQwBVgDsAhACQNFoAkDdaAJA8WgCQQFoAkENaAJBIWoQAgDQAAIA3AACAPAAAgEAAAIBDAACASACCAJAyWgCQO1oAkD5aAJBHWoErkENaglWAQwAAkDFaAJA6WgCQPVqCAJA7WgCQQ1oAkEdagyuQNloAkDdaAJBCWgCQSlqEVYA7AACAQwAAgEcAAJA0WgCQPFoAkEBaAJBDWgCQSFpVkDtaAJA+WgCQR1qBK5BDWoIAgDEAAIA6AACAPQAAgEMAAJAxWgCQOloAkD1aAJBDWgCQRlqEAIAfAACQH1qEAIAyAACAOwAAgD4AAIBHAIYAgDQAAIA8AACAQAAAgEMAAIBIAACQQ1qBK5A3WoEqgEMAgSuANwCCVYA7AACAPgAAgEcAAJAyWgCQPloAkENaAJBHWoErkDdagSqAMgAAgD4AAIBDAACARwBWgDcAggCQLVoAkDdaAJA5WgCQPVoAkENaAJBFWoIAgC0AAIA3AACAOQAAgD0AAIBDAACARQAAkC1aAJA5WgCQPVoAkENaAJBFWlWQN1qCVYA3AAGAMQAAgDoAAIA9AACAQwAAgEYAAJAxWgCQN1oAkDlaAJBAWgCQQ1oAkEVaglWQPlqCAIA+AACQMloAkDdagSuANgAAgDcAAIBCAACASgBVkDZaAJBCWlWAMgAAgDcAgyuAHwAAkB9ahACQMloAkDdaAJA7WgCQPloAkENaAJBHWoZVkDRaAJA3WgCQPFoAkENaAJBIWoErgDIAAIA3AACAOwAAgD4AAIBDAACARwCCVYA0AACANwAAgDwAAIBDAACASACDK5AyWgCQO1oAkEdaVZA+WgCQQ1qCVoAxAACANwAAgDkAAIBAAACAQwAAgEUAAJAxWgCQOloAkD1aglWAMgAAgDsAAIBHAACAPgAAgEMAAJA7WgCQPloAkEdahACANgAAgEIAAJA3WgCQPloAkENaAJBKWoIAgDcAAIA+AACAQwAAgEoAggCQNFoAkDxaAJBAWgCQQ1oAkEhaggCAOwAAgD4AAIBHAACQO1oAkD5aAJBDWgCQR1pVkDJaglaAMQAAgDoAAIA9AACQMVoAkDpaAJBGWlWQPVqEAIAfAIQAgDsAAIA+AACAQwAAgEcAAJA3WgCQR1pVgDIAgSuQPlqCAIA3AACARwCCAIA+AIErkDNaAJA7WgCQP1oAkENaAJBHWlWQN1qDK4AzAACAOwAAgD8AAIBDAACARwBVgDcAggCANAAAgDwAAIBAAACAQwAAgEgAAJA3WgCQO1oAkEBaAJBDWgCQR1qCAIA3AACAOwAAgEAAAIBDAACARwCDK4A1AACATQBVkDVaAJA4WgCQO1oAkEFaAJBDWgCQRFoAkEdaggCQNloAkDlaAJA7WgCQQloAkEVagSuQSVqCVYA9AACQL1oAkDtaAJA9WgCQQloAkEVaAJBLWoJVgCgAAIAuAACAOgCCVoBJAFWQN1oAkEBaAJBHWgCQTFqCAIAvAACAOwAAgD0AAIBCAACARQAAgEsAVYA3AACAQAAAgEcAAIBMAIRWkDdaAJA5WgCQQFoAkEdaAJBIWgCQTFoAkE5aglWANwAAgDkAAIBAAACARwAAgEgAAIBMAACATgAAkDdaAJA5WgCQQFoAkEdaAJBIWgCQTFoAkE5aglWANwAAgDkAAIBAAACARwAAgEgAAIBMAACATgAAkDdaAJA5WgCQQFoAkEdaAJBIWgCQTFoAkE5aglWANwAAgDkAAIBAAACARwAAgEgAAIBMAACATgABkDdaAJBAWgCQR1oAkEhaAJBOWlWQTFqCAIA3AACAQAAAgEcAAIBIAACATgAAgEwAAJA3WgCQO1oAkEBaAJBHWgCQTFoAkFNaggCQOVoAkDxaAJBAWgCQSFoAkExaAJBUWoYAkDtaAJA/WgCQRVoAkEdaAJBLWoYAkChaggCAOwAAgD8AAIBFAACARwAAgEsAAIAoAIIAgDcAAIA7AACAQAAAgEcAAIBMAACAUwCIAIA5AACAPAAAgEAAAIBIAACATAAAgFQAAJA3WgCQOVoAkEBaAJBMWlWQR1qCVYBHAAGANwAAgDkAAIBAAACATAAAkDdaAJA5WgCQQFoAkEdaAJBIWgCQTFoAkE5aglWANwAAgDkAAIBAAACARwAAgEgAAIBMAACATgAAkDdaAJA5WgCQQFoAkEdaAJBIWgCQTFoAkE5aggCANwAAgDkAAIBAAACARwAAgEgAAIBMAACATgAAkDdaAJA5WgCQQFoAkEdaAJBIWgCQTFoAkE5aggCANwAAgDkAAIBAAACARwAAgEgAAIBMAACATgAAkDdaAJA7WgCQQFoAkEdaAJBMWgCQU1qCAJA5WgCQPFoAkEBaAJBIWgCQVFqGAJA7WgCQP1oAkEVaAJBHWgCQS1qGAJA0WlWQT1oAkFtaggCANACCAIBPAACAWwCDK4A1AACAOAAAgDsAAIBBAACAQwAAgEQAAIBHAACQTVoAkFlaglWATQAAgFkAgyuANwAAgDsAAIBAAACARwAAgEwAAIBTAACQSlqCVYBKAACQR1qFK5BYWoIAgFgAggCQQFoAkEpaAJBWWoQAkEVahACARQAAkDBaAJBFWgCQUVqCAIBAAACASgAAgFYAAIAwAACARQAAgFEAAJBAWoIAgC0AAIA5AACAPQAAgEMAAIBFAACQQ1oAkE9ahSuAQAAAkEBaAJBMWlWQL1qCAIAvAIIAgDsAAIA/AACARQAAgEcAAIBLAACQO1qBK4BAAACATABVkCxaAJBMWoIAgCwAAIBMAIIAkDRaAJA+WgCQSlqCAJAtWgCQPFpVgDQAAIA+AACASgCCVoA5AACAPAAAgEAAAIBIAACAVABVgEcAAIA7AACQO1oAkEdagSuALQAAgDwAVZAwWgCQOVoAkEVaggCQNFoAkDpaAJBGWoIAgDQAAIA6AACARgCBK4AwAACAOQAAgEUAAJAvWoJVgC8AAJAzWoIAgDMAVYBDAACATwAAkChaggCAKACBK5A3WoIAgDcAggCQKVoAkE1aggCAKQAAgE0AhACQK1qCAIArAFWAOwAAgEcAglaQLFoAkEBaAJBMWoJVgCwAAIBAAACATAAAkDRaggCQPloAkEpaVZAtWgCQPFoAkEhaggCALQAAgDwAAIBIAFaANABVkDlaggCAOQCCAJAkWoIAkDRagSuQN1oAkENaVYA2AACAOQAAgDsAAIBCAACARQAAkCFaAJBCWoQAgDQAAJAwWlWQNFoAkEBagSuQI1oAkDNaAJA/WoIAkC9aVYAjAACAMwAAgD8AgyuQIFpVgDQAAIBAAIIAgCAAVoA+AACASgAAkChaAJAyWgCQPlqCAIAoAACAMgAAgD4AVYAhAACAQgAAgDAAAJAwWgCQPFqCAJAtWlWQKFoAkDdaAJA5WgGANwAAgEMAgSqALQBVgCgAAIA3AACAOQBWgC8AAJAjWgCQL1oAkDtahACAIwAAgC8AAIA7AFWQI1oAkC9aAJAzWgCQNlqDK5AcWgCQKFoAkC9aAJA0WgCQN1oAkDtakACQK1qCAIArAIJVkC1aAJBBWoIAkC9aVYAtAACAQQCDK4AwAACAPAAAkDdaAJBBWgCQQ1qCAIA3AACAQQAAgEMAVZAxWgCQN1oBgDEAAIA6AACARgCDKpBBWgCQQ1qCAIBBAACAQwCCAJAwWgCQN1oAkEBaggCAMAAAgDcAAIBAAACQRVqCVYBFAIErkEdaglWQMFoAkEBagSuQN1qBKoAwAACAQAABkEpaVYA3AIIAkDBaAJA3WgCQQFoAkEtaggCAMAAAgDcAAIBAAACASwBVkExagSuQLloAkDhaAJA+WoIAgC8AAJBAWoIAgEAAggCQMFoAkDhaggCQMloAkD5aAJBAWoIAgDIAAIA+AACAQACCAJAzWoJVkDRaAJA+WgCQQFqCVYA0AACAPgAAgEAAAZAtWgCQNFoAkDxaglWQQlqCAIBCAFWQRFqDK4AtAACANAAAgDwAAJAtWgCQNFoAkDxaAJBFWoJVgC0AAIA0AACAPAAAgEUAgSuARwAAkEdaggCQLVoAkDRaAJA8WgCQSFqCVYAtAACANAAAgDwAAIBIAIErkEhahSuQKVoAkDJaAJA5WgCQPFqEAIApAACAMgAAgDkAAIA8AIJVkClaAJA0WgCQOVoAkEBagSuQPFqEAIA8AIEqkDJaAJA5WgCQPlqBK4ApAACANAAAgDkAAIBAAACQPFpVgDIAAIA5AACAPgCBK4A8AACQKVoAkDlaVYAxAACANwCCAIApAACAOQCBK5AyWgCQPlqCAIBHAACAMgAAgD4AgSuQPlqEAIA+AFWQPFoAkEVaVZA5WgCQQVqDK5A1WgCQPlqCAIA1AACAPgAAkDVaAJA+WoQAgDUAAIA+AACQK1qCAIArAIRVkCtaAJA3WgCQQFqBK5A7WoQAgCsAAIA3AACAQAAAgDsAggCQNVoAkDtaAJA+WoIAkDRagSuQK1oAkD1aggCAKwAAgD0AVYA1AACAOwAAgD4AgSuANACBKoA5AACAQQCFK5A5WgCQQVqCAJA3WgCQQFqCAJA1WgCQPlqEAJArWoQAgCsAAJAtWgCQQ1qCAIA3AACAQACCAIAtAACAQwAAkC9aggCAMAAAgDgAAIAvAFWQN1oAkEFaAJBDWoIAgDcAAIBBAACAQwBWkDFaAJA3WoIAgDEAAIA3AFWQMloAkDdaAJBBWgCQQ1qEAJAwWgCQN1oAkEBaAJBDWoIAgDAAAIA3AACAQAAAgEMAhACQR1qCAIBIAACARwAAkDBaAJA3WoErkEBaggCAQABVgEoAAIAwAACANwCCAJBLWlWQN1oAkEBagSuASwAAkDBagSqATAABkExaVYAuAACAOAAAgD4AAJAuWgCQOFoAkD5aggCQL1qEAIAwAACALwCEAIAyAACANwAAgEEAAIBDAACQOFoAkD5aAJBAWoIAgDMAggCAOAAAgD4AAIBAAIErkDRaAJA+WgCQQFqCVYA8AACARQAAgDQAAIA+AACAQAAAkC1aAJA0WgCQPFoAkEBaglWALQAAgDQAAIA8AACAQAAAkDxaAJBCWoUrgDwAAIBCAIIAkC1aAJA0WgCQPFoAkEVagyuQR1pVgC0AAIA0AACAPAAAgEUAgSuARwBVkEhaggCQLVoAkDRaAJA8WlWASACCVpBIWoIAgC0AAIA0AACAPAAAgEgAhFWQKVoAkDJaAJA8WoErgDkAAIBBAFWAKQAAgDIAAIA8AIcrkDRaAJA5WgCQPFqIAIA0AACAOQAAgDwAVZA+WoIAgD4AAJAyWgCQOVoAkDxaggCQKVoAkDFaAJA9WoJVgCkAAIAxAACAPQBWgDIAAIA5AACAPAAAkDJaAJA+WoJVkEdahgCARwCCAJA5WgCQPFoAkEFaAJBFWoQAgDUAAIA+AACQNVoAkD5aggCANQAAgD4AAJA1WgCQPlqEAIA1AACAPgBVkCtaAJA7WoIAgCsAAIA7AIMrkEBaggCQK1oAkDtaVYA3AACAQACDK4ArAACAOwCCAIBAAACQNVoAkDtaAJA+WoJVgDUAAIA7AACAPgAAkCtaAJA0WgCQO1oAkD1agyuQNVoAkD5aggCANQAAgD4AggCAOQAAgDwAAIBBAACARQBVgCsAAIA0AACAOwAAgD0AgyuQOVoAkEFaggCQN1oAkEBaglWQNVoAkD5agyuQLFoAkC9aAJA0WgCQPloAkEBaggCAMgAAgD4AAJAyWgCQO1qDK4BMAFWARAAAkDhaAJBEWgCQR1oAkEpaggCAOAAAgEQAAIBHAACASgCEVZBKWgCQTVqBK5A4WgCQPloAkERaAJBHWoJVgEoAAIBNAACAOAAAgD4AAIBEAACARwCDK5A4WgCQO1oAkD5aAJBAWgCQRFoAkEdaAJBMWoIAkD5aAJA/WgCQS1qCAIA4AACAOwAAgD4AAIBAAACARAAAgEcAAIBMAIIAkDhaAJBAWgCQTFqCAIA+AACAPwAAgEsAVZA0WgCQQFoAkExaAJBYWoMrgDIAAIA7AACQMloAkD5aAJBKWgCQVlqEAJAwWgCQSFpVgDQAAIBAAACATAAAgFgAgSuAMAAAgEgAAJAvWgCQO1oAkEdaAJBTWoQAgDkAAIBBAACQLVoAkDlaAJBIWgCQTFoAkFFaAJBUWoJVgC0AAIA5AACASAAAgEwAAIBRAACAVAAAkCFaAJAtWgCQOVoAkDxahyuAMgAAgD4AAIBKAACAVgAAkCZaAJAyWlWANQAAgD4AhSuAIQAAgC0AAIA5AACAPAAAkCFaAJAtWgCQNFoAkDlaAJA8WoIAgCYAAIAyAFWQJloAkDJaAJA1WgCQPlqDK4AhAACALQAAgDQAAIA5AACAPAAAkCFaAJAtWgCQNFoAkDlahACQLVqDK4A3AACAQAAAkB9aAJArWgCQN1pVkCJaggCQHloAkCpaAJA2WoJVgCYAAIAyAACANQAAgD4AAJAcWgCQJloAkChaAJA0WgGAHAAAgCgAAIAvAACANAAAgDcAAIA7AIJVgCcAAJAbWgCQM1pVgCIAhACQQloAkEdaAJBOWgCQU1pVkD9aAJBPWoErgEIAAIBHAACATgAAgFMAVYA/AACATwBWgBsAAIAzAIJVkDxaAJA/WgCQQloAkEVaAJBOWoYAkDtaAJA/WgCQQloAkEVaAJBHWgCQTloAkFNaggCAPAAAgD8AAIBCAACARQAAgE4AAIA7AACAPwAAgEIAAIBFAACARwAAgE4AAIBTAIIAkD9aAJBCWgCQRVoAkExaAJBOWgCQUlqCAJA7WgCQQloAkEVaAJBHWgCQU1pVgD8AAIBCAACARQAAgEwAAIBOAACAUgCBK4A7AACAQgAAgEUAAIBHAACAUwCCAJA7WgCQR1oAkFNaAJBeWoQAkDlaAJBFWgCQUVqBK5BDWgCQT1oAkFtaggCAQwAAgE8AAIBbAFWQNloAkEJaAJBOWgCQWlqEAJA0WgCQQFoAkE9aAJBTWgCQWFoAkFtahACAOAAAgEAAAIBMAACAHAAAgCYAAIAoAACANAAAgDYAAIBCAACATgAAgFoAAIA0AACAQAAAgE8AAIBTAACAWAAAgFsAAJAcWgCQKFoAkDRaAJA1WgCQNloAkDdaAJA4WoYAgCEAAIAtAACANAAAgDkAAIAtAACAOQAAgEUAAIBRAACQMFqCVYAwAIMrgC8AAIA7AACARwAAgFMAAIAcAACAKAAAgDQAAIA1AACANgAAgDcAAIA4AACQHFoAkChaAJAvWgCQNFqEAJAhWgCQLVoAkDBaAJA0WgCQOVqCAIAcAACAKAAAgC8AAIA0AACQHFoAkChaAJA0WgCQN1qGAIAhAACALQAAgDAAAIA0AACAOQCCAIAcAACAKAAAgDQAAIA3AIIAkCVaAJAxWoQAgCMAAIAvAACAMwAAgDYAAJAVWgCQI1oAkC9aggCALgAAgDgAAIA+AFWQIlqFK4AVAACAIwAAgC8AAJA6WgCQPVoAkElaAJBOWoJVgDoAAIA9AACASQAAgE4AgyuQOloAkEBaAJBDWgCQSVqCAJA9WoMrgDoAAIBAAACAQwAAgEkAVYA9AACQNloAkEBaAJBCWgCQTlqBK5A6WgCQPVoAkElaVYA2AACAQAAAgEIAAIBOAIErgDoAAIA9AACASQBVkDVaAJA6WgCQPVoAkEBaAJBBWgCQSVoAkE1aggCANQAAgDoAAIA9AACAQAAAgEEAAIBJAACATQBVkDZaAJBAWgCQQloAkE5agSuQS1pVgDYAAIBAAACAQgAAgE4AgSuQNlqCAJBXWoJVkDRaAJBAWgCQTFoAkFhagSuASwAAgFcAAJAzWgCQP1oAkEtaAJBTWgCQV1qEAJA9WgCQSVoAkFVaggCAPQAAgEkAAIBVAFWAOwAAgEcAAIBTAACAXgAAkC9aAJA7WgCQR1oAkFNahSuANgAAgDMAAIA/AACASwAAgFMAAIBXAACALwAAgDsAAIBHAACAUwCGAJAoWgCQL1oAkDdaAJA7WlWANAAAgEAAAIBMAACAWACDK4AoAACALwAAgDcAAIA7AIIAkCNaAJAvWgCQM1oAkDZaAJA7WoQAkChaAJA0WgCQN1oAkDtaggCAJQAAgDEAAIAjAACALwAAgDMAAIA2AACAOwBVgCgAAIA0AACANwAAgDsAAJAjWgCQL1oAkDNaAJA2WoUrkC9aAJA7WoQAkCFaAJAtWoErgB8AAIArAACANwAAkDlaVZArWgCQN1qCAIAiAIJVgB4AAIAqAACANgAAkDZahSuQHFoAkChaAJA0WosrgDkAVZA3WgCQQFoAkEdaAJBIWgCQTFoAkE5ahACANwAAgEAAAIBHAACASAAAgEwAAIBOAACQN1oAkDlaAJBHWgCQSFoAkExaAJBOWoIAkDlaAJBHWoMrkDtaAJBAWgCQR1qCVYA3AACAOQAAgEcAAIBIAACATAAAgE4AAJBMWgCQU1oAkFVagSuAOwAAgEAAAIBHAFWAOQAAgEcAVYBMAACAUwAAgFUAAJA5WgCQO1oAkEBaAJBMWgCQVFqFK5A/WgCQRVoAkEdaAJBLWogAkDdaggCANwAAkDpaggCAOgCCAIA5AACAOwAAgEAAAIBMAACAVAAAkDdaAJA5WgCQQFoAkEdaAJBIWgCQTFoAkE5ahACANwAAgDkAAIBAAACARwAAgEgAAIBMAACATgAAkDdaAJA5WgCQQFoAkEdaAJBIWgCQTFoAkE5aggCANwAAgDkAAIBAAACARwAAgEgAAIBMAACATgAAkDdaAJA5WgCQQFoAkEdaAJBIWgCQTFoAkE5aggCANwAAgDkAAIBAAACARwAAgEgAAIBMAACATgAAkDdaAJA5WgCQQFoAkEdaAJBIWgCQTFoAkE5ahACANwAAgDkAAIBAAACARwAAgEgAAIBMAACATgAAkDdaAJA7WgCQQFoAkEdaAJBMWoIAkDlaAJA8WgCQQFoAkFRahgCAPwAAgEUAAIBHAACASwAAkD9aAJBFWgCQR1oAkEtahgCQT1qCVYBPAACQQ1qCAIBDAIErkDVaAJBNWgCQWVqCAIA1AACATQAAgFkAhACANwAAgDsAAIBAAACARwAAgEwAAJBUWoYAkExaglWATACBK5BKWoIAgDkAAIA8AACAQAAAgFQAAIBUAACQSFqCAIBIAFWQRVqDK5AwWgCQUVpVgEUAgSuAMAAAgFEAggCQQFoAkENaAJBPWoIAkC1aAJBNWoIAkDxaggCAQAAAgEMAAIBPAACAPAAAkEBaAJBMWoIAgC8AAIA7AACAPwAAgEUAAIBHAACASwCCAJA7WoQAgCwAAIAvAACANAAAgD4AAIBAAACAQAAAgEwAAJBMWoJVgEwAAJA0WoErgEoAAJA+WgCQSlpVgDQAVpBJWlWALQAAgE0AAJA8WgCQSFqCAIA8AACASAAAkDlaggCAOwAAgDkAAJA7WgCQR1pVkDBaAJA5WgCQRVqCVoBJAFWQNFoAkEZaVYAwAACAOQAAgEUAggCANAAAgEYAgSuAOwAAgEcAAJAvWgCQO1qCVYAvAACAOwBWkDNaglWQKFqCAIAoAIMrkDdaggCANwBVkClaAJBBWoIAgCkAAIBBAFWQOVqDK4ArAACANwAAgD4AAIBKAIYAkCxaAJBAWgCQTFqCVYAsAACAQAAAgEwAgSuQNFoAkD5aggCANAAAgD4AVZAtWgCQPFoAkEhaglWALQAAgDwAAIBIAIRWgCQAAIA5AIIAkDRagSuQN1qCVYAhAACALQAAgDYAAJAhWgCQQlqCAJAwWoIAgDQAAIAwAACQNFoAkEBagSqAIwAAgC8AAIAzAACANgABgDMAAJA/WoJVkC9agSuAPwCCVYA0AACAQAAAkCBaAJBAWoIAgCAAAIBAAACQKFqCAIAoAIIAgCEAAIBCAACQMFoAkDxaggCAMAAAgDwAgSuANwAAkChaAJAtWgCQOVqCAIAoAACALQAAgDkAVYAvAACQI1oAkC9aAJA7WoUrgCMAAIAvAACAOwAAkCFaAJAvWgCQO1qFKoAcAACAKAAAgDQAAJAcWgCQN1qCVoAhAACALwAAgDsAhSqAHAAAgDcAiAD/LwBNVHJrAAAALQD/AwVQaWFubwDAAADgAEAAwAAA/1EDB6EgAP9ZAgAAAP9YBAQCGAiIAP8vAA==');\n",
       "                        });\n",
       "                </script>"
      ],
      "text/plain": [
       "<IPython.core.display.HTML object>"
      ]
     },
     "metadata": {},
     "output_type": "display_data"
    }
   ],
   "source": [
    "test_stream.show('midi')"
   ]
  },
  {
   "cell_type": "code",
   "execution_count": null,
   "metadata": {},
   "outputs": [],
   "source": []
  }
 ],
 "metadata": {
  "kernelspec": {
   "display_name": "Python 3",
   "language": "python",
   "name": "python3"
  },
  "language_info": {
   "codemirror_mode": {
    "name": "ipython",
    "version": 3
   },
   "file_extension": ".py",
   "mimetype": "text/x-python",
   "name": "python",
   "nbconvert_exporter": "python",
   "pygments_lexer": "ipython3",
   "version": "3.7.2"
  }
 },
 "nbformat": 4,
 "nbformat_minor": 2
}

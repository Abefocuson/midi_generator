{
 "cells": [
  {
   "cell_type": "markdown",
   "metadata": {},
   "source": [
    "# Attention Architecture"
   ]
  },
  {
   "cell_type": "code",
   "execution_count": 1,
   "metadata": {},
   "outputs": [],
   "source": [
    "%reload_ext autoreload\n",
    "%autoreload 2\n",
    "%matplotlib inline"
   ]
  },
  {
   "cell_type": "code",
   "execution_count": 2,
   "metadata": {},
   "outputs": [
    {
     "name": "stdout",
     "output_type": "stream",
     "text": [
      "Better speed can be achieved with apex installed from https://www.github.com/nvidia/apex.\n"
     ]
    }
   ],
   "source": [
    "from fastai.text import *\n",
    "import gpt"
   ]
  },
  {
   "cell_type": "code",
   "execution_count": 3,
   "metadata": {},
   "outputs": [],
   "source": [
    "bs=32\n",
    "bptt=400"
   ]
  },
  {
   "cell_type": "code",
   "execution_count": 4,
   "metadata": {},
   "outputs": [],
   "source": [
    "# PATH=Path('data/wikitext-2-raw')\n",
    "PATH = Path('data/composers/notewise/piano_solo/note_range62/sample_freq12')\n",
    "data = TextLMDataBunch.load(PATH, bs=bs, bptt=bptt)"
   ]
  },
  {
   "cell_type": "code",
   "execution_count": 5,
   "metadata": {},
   "outputs": [
    {
     "data": {
      "text/plain": [
       "158"
      ]
     },
     "execution_count": 5,
     "metadata": {},
     "output_type": "execute_result"
    }
   ],
   "source": [
    "vocab = data.train_ds.vocab\n",
    "vocab_size = len(vocab.itos); vocab_size"
   ]
  },
  {
   "cell_type": "code",
   "execution_count": 6,
   "metadata": {},
   "outputs": [
    {
     "data": {
      "text/plain": [
       "('xxbos wait25 wait25 wait25 wait25 wait25 wait25 wa',\n",
       " array([  2, 124, 124, 124, ...,   9, 105,   9, 157]))"
      ]
     },
     "execution_count": 6,
     "metadata": {},
     "output_type": "execute_result"
    }
   ],
   "source": [
    "t = data.train_ds[0][0]\n",
    "t.text[:50], t.data"
   ]
  },
  {
   "cell_type": "code",
   "execution_count": 7,
   "metadata": {},
   "outputs": [],
   "source": [
    "# data.show_batch()"
   ]
  },
  {
   "cell_type": "markdown",
   "metadata": {},
   "source": [
    "## Sanity - make sure outputs match"
   ]
  },
  {
   "cell_type": "code",
   "execution_count": 8,
   "metadata": {},
   "outputs": [],
   "source": [
    "# learn = language_model_learner(data, drop_mult=1, clip=.5, bptt=250)\n",
    "\n",
    "# ob = data.one_batch()\n",
    "\n",
    "# out = learn.model(ob[0].cuda())\n",
    "\n",
    "# out[0].shape\n",
    "\n",
    "# len(out[1])"
   ]
  },
  {
   "cell_type": "markdown",
   "metadata": {},
   "source": [
    "### Transformer Arch\n",
    "Paper: https://arxiv.org/abs/1706.03762  \n",
    "Inspiration: https://github.com/jadore801120/attention-is-all-you-need-pytorch"
   ]
  },
  {
   "cell_type": "code",
   "execution_count": 7,
   "metadata": {},
   "outputs": [],
   "source": [
    "config = gpt.OpenAIGPTConfig(vocab_size)\n",
    "# config = bert.BertConfig(vocab_size)"
   ]
  },
  {
   "cell_type": "code",
   "execution_count": 8,
   "metadata": {},
   "outputs": [],
   "source": [
    "config.n_embd = int(config.n_embd/2)\n",
    "config.n_layer = int(config.n_layer/2)\n",
    "config.n_head = int(config.n_head/2)"
   ]
  },
  {
   "cell_type": "code",
   "execution_count": 9,
   "metadata": {},
   "outputs": [
    {
     "data": {
      "text/plain": [
       "{\n",
       "  \"afn\": \"gelu\",\n",
       "  \"attn_pdrop\": 0.1,\n",
       "  \"embd_pdrop\": 0.1,\n",
       "  \"initializer_range\": 0.02,\n",
       "  \"n_ctx\": 512,\n",
       "  \"n_embd\": 384,\n",
       "  \"n_head\": 6,\n",
       "  \"n_layer\": 6,\n",
       "  \"n_special\": 0,\n",
       "  \"resid_pdrop\": 0.1,\n",
       "  \"vocab_size\": 158\n",
       "}"
      ]
     },
     "execution_count": 9,
     "metadata": {},
     "output_type": "execute_result"
    }
   ],
   "source": [
    "config"
   ]
  },
  {
   "cell_type": "code",
   "execution_count": 10,
   "metadata": {},
   "outputs": [],
   "source": [
    "# model = bert.BertForPreTraining(config).cuda()\n",
    "model = gpt.OpenAIGPTLMHeadModel(config).cuda()\n",
    "model.reset = lambda: None"
   ]
  },
  {
   "cell_type": "code",
   "execution_count": 11,
   "metadata": {},
   "outputs": [],
   "source": [
    "# model"
   ]
  },
  {
   "cell_type": "code",
   "execution_count": 12,
   "metadata": {},
   "outputs": [],
   "source": [
    "# ob = data.one_batch(); ob[0].shape\n",
    "\n",
    "# out = model(ob[0].cuda())\n",
    "\n",
    "# len(out)\n",
    "\n",
    "# out[1].shape\n",
    "\n",
    "# out[0].shape"
   ]
  },
  {
   "cell_type": "markdown",
   "metadata": {},
   "source": [
    "### Create Language learner"
   ]
  },
  {
   "cell_type": "code",
   "execution_count": 13,
   "metadata": {},
   "outputs": [],
   "source": [
    "learn = LanguageLearner(data, model, bptt, clip=1)"
   ]
  },
  {
   "cell_type": "code",
   "execution_count": 14,
   "metadata": {},
   "outputs": [],
   "source": [
    "learn.callbacks = []"
   ]
  },
  {
   "cell_type": "code",
   "execution_count": 17,
   "metadata": {},
   "outputs": [],
   "source": [
    "# learn = learn.to_fp16(32)"
   ]
  },
  {
   "cell_type": "code",
   "execution_count": 18,
   "metadata": {},
   "outputs": [],
   "source": [
    "# learn.lr_find()"
   ]
  },
  {
   "cell_type": "code",
   "execution_count": 19,
   "metadata": {},
   "outputs": [],
   "source": [
    "# learn.recorder.plot()"
   ]
  },
  {
   "cell_type": "markdown",
   "metadata": {},
   "source": [
    "## Must remeber that BERT is bidirectional, so we must modifythe architechture so it won't cheat"
   ]
  },
  {
   "cell_type": "code",
   "execution_count": 20,
   "metadata": {},
   "outputs": [
    {
     "data": {
      "text/html": [
       "Total time: 2:27:18 <p><table style='width:300px; margin-bottom:10px'>\n",
       "  <tr>\n",
       "    <th>epoch</th>\n",
       "    <th>train_loss</th>\n",
       "    <th>valid_loss</th>\n",
       "    <th>accuracy</th>\n",
       "  </tr>\n",
       "  <tr>\n",
       "    <th>1</th>\n",
       "    <th>1.800304</th>\n",
       "    <th>1.648704</th>\n",
       "    <th>0.533358</th>\n",
       "  </tr>\n",
       "  <tr>\n",
       "    <th>2</th>\n",
       "    <th>1.302375</th>\n",
       "    <th>1.247379</th>\n",
       "    <th>0.649127</th>\n",
       "  </tr>\n",
       "  <tr>\n",
       "    <th>3</th>\n",
       "    <th>1.336538</th>\n",
       "    <th>1.149710</th>\n",
       "    <th>0.671989</th>\n",
       "  </tr>\n",
       "  <tr>\n",
       "    <th>4</th>\n",
       "    <th>1.301050</th>\n",
       "    <th>1.116538</th>\n",
       "    <th>0.680818</th>\n",
       "  </tr>\n",
       "</table>\n"
      ],
      "text/plain": [
       "<IPython.core.display.HTML object>"
      ]
     },
     "metadata": {},
     "output_type": "display_data"
    }
   ],
   "source": [
    "learn.fit_one_cycle(4, 1e-4, moms=(0.7,0.5))"
   ]
  },
  {
   "cell_type": "code",
   "execution_count": 21,
   "metadata": {},
   "outputs": [],
   "source": [
    "learn.save('gpt_first_run_save')"
   ]
  },
  {
   "cell_type": "code",
   "execution_count": 24,
   "metadata": {},
   "outputs": [
    {
     "data": {
      "text/html": [
       "Total time: 2:26:57 <p><table style='width:300px; margin-bottom:10px'>\n",
       "  <tr>\n",
       "    <th>epoch</th>\n",
       "    <th>train_loss</th>\n",
       "    <th>valid_loss</th>\n",
       "    <th>accuracy</th>\n",
       "  </tr>\n",
       "  <tr>\n",
       "    <th>1</th>\n",
       "    <th>1.244033</th>\n",
       "    <th>1.136642</th>\n",
       "    <th>0.677783</th>\n",
       "  </tr>\n",
       "  <tr>\n",
       "    <th>2</th>\n",
       "    <th>1.135503</th>\n",
       "    <th>1.079520</th>\n",
       "    <th>0.693552</th>\n",
       "  </tr>\n",
       "  <tr>\n",
       "    <th>3</th>\n",
       "    <th>1.012233</th>\n",
       "    <th>1.025614</th>\n",
       "    <th>0.707242</th>\n",
       "  </tr>\n",
       "  <tr>\n",
       "    <th>4</th>\n",
       "    <th>1.013113</th>\n",
       "    <th>1.000321</th>\n",
       "    <th>0.713043</th>\n",
       "  </tr>\n",
       "</table>\n"
      ],
      "text/plain": [
       "<IPython.core.display.HTML object>"
      ]
     },
     "metadata": {},
     "output_type": "display_data"
    }
   ],
   "source": [
    "learn.fit_one_cycle(4, 1e-4, div_factor=5, moms=(0.7,0.5))"
   ]
  },
  {
   "cell_type": "code",
   "execution_count": 25,
   "metadata": {},
   "outputs": [],
   "source": [
    "learn.save('gpt_second_run_save')"
   ]
  },
  {
   "cell_type": "code",
   "execution_count": null,
   "metadata": {},
   "outputs": [
    {
     "data": {
      "text/html": [
       "\n",
       "    <div>\n",
       "        <style>\n",
       "            /* Turns off some styling */\n",
       "            progress {\n",
       "                /* gets rid of default border in Firefox and Opera. */\n",
       "                border: none;\n",
       "                /* Needs to be in here for Safari polyfill so background images work as expected. */\n",
       "                background-size: auto;\n",
       "            }\n",
       "            .progress-bar-interrupted, .progress-bar-interrupted::-webkit-progress-bar {\n",
       "                background: #F44336;\n",
       "            }\n",
       "        </style>\n",
       "      <progress value='0' class='' max='10', style='width:300px; height:20px; vertical-align: middle;'></progress>\n",
       "      0.00% [0/10 00:00<00:00]\n",
       "    </div>\n",
       "    \n",
       "<table style='width:300px; margin-bottom:10px'>\n",
       "  <tr>\n",
       "    <th>epoch</th>\n",
       "    <th>train_loss</th>\n",
       "    <th>valid_loss</th>\n",
       "    <th>accuracy</th>\n",
       "  </tr>\n",
       "</table>\n",
       "\n",
       "\n",
       "    <div>\n",
       "        <style>\n",
       "            /* Turns off some styling */\n",
       "            progress {\n",
       "                /* gets rid of default border in Firefox and Opera. */\n",
       "                border: none;\n",
       "                /* Needs to be in here for Safari polyfill so background images work as expected. */\n",
       "                background-size: auto;\n",
       "            }\n",
       "            .progress-bar-interrupted, .progress-bar-interrupted::-webkit-progress-bar {\n",
       "                background: #F44336;\n",
       "            }\n",
       "        </style>\n",
       "      <progress value='744' class='' max='11667', style='width:300px; height:20px; vertical-align: middle;'></progress>\n",
       "      6.38% [744/11667 02:17<33:34 1.0101]\n",
       "    </div>\n",
       "    "
      ],
      "text/plain": [
       "<IPython.core.display.HTML object>"
      ]
     },
     "metadata": {},
     "output_type": "display_data"
    }
   ],
   "source": [
    "learn.fit_one_cycle(10, 1e-5, div_factor=5, moms=(0.7,0.5))"
   ]
  },
  {
   "cell_type": "code",
   "execution_count": 28,
   "metadata": {},
   "outputs": [],
   "source": [
    "learn.save('gpt_third_run_save')"
   ]
  },
  {
   "cell_type": "code",
   "execution_count": 15,
   "metadata": {},
   "outputs": [],
   "source": [
    "learn = learn.load('gpt_third_run_save')"
   ]
  },
  {
   "cell_type": "code",
   "execution_count": 17,
   "metadata": {},
   "outputs": [
    {
     "data": {
      "text/html": [
       "Total time: 36:53 <p><table style='width:300px; margin-bottom:10px'>\n",
       "  <tr>\n",
       "    <th>epoch</th>\n",
       "    <th>train_loss</th>\n",
       "    <th>valid_loss</th>\n",
       "    <th>accuracy</th>\n",
       "  </tr>\n",
       "  <tr>\n",
       "    <th>1</th>\n",
       "    <th>1.031490</th>\n",
       "    <th>0.986020</th>\n",
       "    <th>0.717154</th>\n",
       "  </tr>\n",
       "</table>\n"
      ],
      "text/plain": [
       "<IPython.core.display.HTML object>"
      ]
     },
     "metadata": {},
     "output_type": "display_data"
    }
   ],
   "source": [
    "learn.fit_one_cycle(1, 1e-4, div_factor=5, moms=(0.7,0.5))"
   ]
  },
  {
   "cell_type": "code",
   "execution_count": 19,
   "metadata": {},
   "outputs": [],
   "source": [
    "learn.save('gpt_fourth_run_save')"
   ]
  },
  {
   "cell_type": "code",
   "execution_count": 21,
   "metadata": {},
   "outputs": [
    {
     "data": {
      "text/html": [
       "<table>  <col width='34%'>  <col width='33%'>  <col width='33%'>  <tr>\n",
       "    <th>text</th>\n",
       "    <th>target</th>\n",
       "    <th>pred</th>\n",
       "  </tr>\n",
       "  <tr>\n",
       "    <th>xxbos p28 p44 p47 wait3 p52 wait4 endp47 wait1 endp28 endp44 endp52 wait4 p23 p52 wait2 endp52 wait1 p51 wait2</th>\n",
       "    <th>wait1 p49 wait2 endp23 endp49 wait1 p47 wait2 endp47 wait1 p28 p52 wait5 endp28 endp52 wait1 p23 p47 wait5 endp23</th>\n",
       "    <th>wait1 p52 wait2 endp49 endp49 wait1 p47 wait2 endp47 wait1 p45 p44 wait2 endp28 endp52 wait1 p27 p51 wait5 endp23</th>\n",
       "  </tr>\n",
       "  <tr>\n",
       "    <th>endp27 wait1 endp30 wait1 p31 wait2 endp31 wait1 p25 wait1 p34 wait1 endp8 endp20 endp25 wait1 p10 p22 endp34 p37</th>\n",
       "    <th>p28 endp37 wait1 p32 wait1 endp28 wait1 endp32 wait1 p33 wait2 endp33 wait1 p27 wait1 p39 wait1 endp10 endp22 endp27</th>\n",
       "    <th>endp37 endp37 wait1 p31 wait1 endp28 wait1 endp10 wait1 p25 wait2 endp33 wait1 p28 wait1 p30 wait1 endp10 endp22 endp27</th>\n",
       "  </tr>\n",
       "  <tr>\n",
       "    <th>wait1 p7 p31 p36 wait3 endp31 endp36 wait3 p34 p38 wait3 endp34 endp38 wait6 p39 wait2 endp39 wait1 p36 p43</th>\n",
       "    <th>endp36 endp43 wait3 p34 p38 wait3 endp34 endp38 wait6 p31 wait2 endp31 wait1 p7 p26 p34 wait3 endp26 endp34 wait2</th>\n",
       "    <th>endp36 endp43 wait6 p34 p38 wait3 endp34 endp38 wait3 p39 p34 endp31 wait1 endp7 p19 wait3 wait3 endp26 endp34 wait3</th>\n",
       "  </tr>\n",
       "  <tr>\n",
       "    <th>endp29 endp34 wait4 endp13 endp20 wait3 p19 p23 p27 p30 p35 wait2 p12 wait5 endp23 wait1 endp30 wait3 endp27 endp35</th>\n",
       "    <th>endp19 wait2 p21 p26 p28 p31 p33 wait4 endp12 wait4 endp21 endp26 endp28 endp31 wait3 endp33 wait4 p15 p27 p30</th>\n",
       "    <th>endp19 wait1 endp12 p27 p30 p31 p33 wait2 endp12 wait1 endp21 endp26 endp28 endp31 endp33 endp33 wait1 p11 p21 p31</th>\n",
       "  </tr>\n",
       "  <tr>\n",
       "    <th>p21 p45 wait5 endp45 wait1 p38 wait6 p9 wait5 endp38 wait1 p37 wait5 endp9 endp21 endp37 wait1 p14 p38 wait2</th>\n",
       "    <th>wait1 p37 wait2 endp37 wait1 p35 wait2 endp35 wait1 p33 wait2 endp14 endp33 wait1 p19 p31 wait1 p30 wait1 endp31</th>\n",
       "    <th>wait1 p40 wait2 endp37 wait1 p38 wait2 endp35 wait1 p33 wait2 endp14 endp33 wait1 p16 p35 wait2 p33 wait1 endp31</th>\n",
       "  </tr>\n",
       "</table>\n"
      ],
      "text/plain": [
       "<IPython.core.display.HTML object>"
      ]
     },
     "metadata": {},
     "output_type": "display_data"
    }
   ],
   "source": [
    "learn.show_results()"
   ]
  },
  {
   "cell_type": "code",
   "execution_count": 53,
   "metadata": {},
   "outputs": [
    {
     "data": {
      "text/plain": [
       "(33,\n",
       " 12,\n",
       " PosixPath('data/composers/notewise/piano_solo/note_range62/sample_freq12/bach/bwv872.txt'))"
      ]
     },
     "execution_count": 53,
     "metadata": {},
     "output_type": "execute_result"
    }
   ],
   "source": [
    "path = PATH\n",
    "idx = 4\n",
    "folder_idx = 2 # 2 = bach\n",
    "seed_len = 200\n",
    "\n",
    "file = path.ls()[folder_idx].ls()[idx]\n",
    "with open(file, 'r') as f:\n",
    "    txt_out = f.read()\n",
    "notes = txt_out.split(' ')\n",
    "seed = ' '.join(notes[:seed_len])\n",
    "\n",
    "note_offset = 45 if 'note_range38' in str(file) else 33\n",
    "sample_freq = 12 if 'sample_freq12' in str(file) else 4\n",
    "\n",
    "note_offset, sample_freq, file"
   ]
  },
  {
   "cell_type": "code",
   "execution_count": 54,
   "metadata": {},
   "outputs": [],
   "source": [
    "pred_out = learn.predict(seed, n_words=200)"
   ]
  },
  {
   "cell_type": "code",
   "execution_count": 55,
   "metadata": {},
   "outputs": [
    {
     "data": {
      "text/plain": [
       "'p26 p41 wait5 endp41 wait1 p39 wait5 endp39 wait1 p38 wait5 endp38 wait1 p34 p41 wait5 endp41 wait1 p38 wait5 endp26 endp34 endp38 endp46 wait1 p22 p32 wait6 p38 wait5 endp38 wait1 p32 p41 wait5 endp41 wait1 p46 wait5 endp22 wait1 p32 p41 wait5 endp41 wait1 p38 wait5 endp32 endp38 endp46 wait1 p15 p31 wait6 p38 wait5 endp38 wait1 p31 p39 wait5 endp39 wait1 p43 wait5 endp15 endp31 wait1 p39 p43 wait5 endp43 wait1 p39 wait5 endp39 wait1 p43 p46 wait5 endp43 wait1 p39 wait5 endp39 wait1 p31 p34 wait5 endp31 endp34 wait1 p39 p43 wait5 endp39 endp43 wait1 p27 p51 wait5 endp51 wait1 p43 wait5 endp27 endp43 endp46 wait1 p24 p32 wait6 p39 wait5 endp39 wait1 p32 p41 wait5 endp41 wait1 p48 wait5 endp24 endp32 wait1 p36 p41 wait5 endp41 wait1 p39 wait5 endp36 endp39 endp48 wait1 p23 p31 wait6 p40 wait5 endp40 wait1 p31 p41 wait5 endp41 wait1 p47 wait5 endp23 endp31 wait1 p35 p41 wait5 endp41 wait1 p43 wait5 endp35 endp43 endp47 wait1 p21 p34 wait6 p41 wait5 endp41 wait1 p34 p39 wait5 endp39 wait1 p46 wait5 endp21 endp34 wait1 p38 p41 wait5 endp41 wait1 p39 wait5 endp39 wait1 p34 p41 wait5 endp41 wait1 p38 wait5 endp34'"
      ]
     },
     "execution_count": 55,
     "metadata": {},
     "output_type": "execute_result"
    }
   ],
   "source": [
    "pred_only = pred_out.replace(seed, '').strip(); pred_only"
   ]
  },
  {
   "cell_type": "code",
   "execution_count": 56,
   "metadata": {},
   "outputs": [],
   "source": [
    "from utils import *\n",
    "import music21\n",
    "from music21 import *\n",
    "from IPython.display import Image, Audio"
   ]
  },
  {
   "cell_type": "code",
   "execution_count": 57,
   "metadata": {},
   "outputs": [],
   "source": [
    "pred_format = pred_out.replace('xxbos ', '')"
   ]
  },
  {
   "cell_type": "code",
   "execution_count": 58,
   "metadata": {},
   "outputs": [],
   "source": [
    "note_stream = arrToStreamNotewise(pred_format.split(' '), sample_freq=sample_freq/2, note_offset=45)"
   ]
  },
  {
   "cell_type": "code",
   "execution_count": 59,
   "metadata": {},
   "outputs": [
    {
     "data": {
      "image/png": "[encoded data removed]",
      "text/plain": [
       "<IPython.core.display.Image object>"
      ]
     },
     "execution_count": 59,
     "metadata": {},
     "output_type": "execute_result"
    }
   ],
   "source": [
    "Image(filename=str(note_stream.write('lily.png')))"
   ]
  },
  {
   "cell_type": "code",
   "execution_count": 60,
   "metadata": {},
   "outputs": [
    {
     "data": {
      "text/html": [
       "\n",
       "                <div id='midiPlayerDiv4896'></div>\n",
       "                <link rel=\"stylesheet\" href=\"//cuthbertLab.github.io/music21j/css/m21.css\"\n",
       "                    type=\"text/css\" />\n",
       "                <script>\n",
       "                require.config({\n",
       "                    paths: {'music21': '//cuthbertLab.github.io/music21j/src/music21'}\n",
       "                });\n",
       "                require(['music21'], function() {\n",
       "                               mp = new music21.miditools.MidiPlayer();\n",
       "                               mp.addPlayer('#midiPlayerDiv4896');\n",
       "                               mp.base64Load('data:audio/midi;base64,TVRoZAAAAAYAAQABBABNVHJrAAAEnAD/AwAA4ABAAJBDWgCQSlqIAJBTWogAgFMAAJBKWgCQVlqBK4BKAIZVgFYAAJBbWogAgEMAAIBKAACQT1oAkFZaiACAVgAAkFRaiACAVAAAkE9aAJBWWoErgE8AhlWAVgAAkFNaiACAWwAAgE8AAIBTAACQQ1oAkE1aiACQU1qIAIBTAACQTVoAkFZagSuATQCGVYBWAACQW1qIAIBDAACQTVoAkFZagSuATQCGVYBWAACQVFqIAIBUAACQTVoAkFZagSuATQCGVYBWAACQU1qIAIBbAACATQAAgFMAAJBDWgCQTFqIAJBUWogAgFQAAJBMWgCQWFqBK4BMAIZVgFgAAJBbWogAgEMAAIBMAACQSFoAkFhaiACAWAAAkFZaiACAVgAAkEhaAJBYWoErgEgAhlWAWAAAkFRaiACAWwAAgEgAAIBUAACQQ1oAkE5aiACQVFqIAIBUAACQTloAkFZagSuATgCGVYBWAACQXVqIAIBDAACQTloAkFZagSuATgCGVYBWAACQVFqIAIBUAACQTloAkFZagSuATgCGVYBWAACQVFqIAIBdAACATgAAgFQAAJBDWgCQT1qFK5BTWogAgFMAglWQT1oAkFZagSuATwCEAJBdWoJVgFYAiACAQwAAkE9aAJBWWoErgE8AhACQVFqCVYBWAIUrgFQAglWQT1oAkFZagSuATwCEAJBUWoJVgFYAhSuAXQAAgFQAglWATwAAkENaAJBKWoUrkFNaiACAUwCCVZBKWgCQVlqBK4BKAIQAkFtaglWAVgCIAIBDAACASgAAkEdaAJBWWogAgFYAAJBUWogAgFQAAJBTWogAgFMAAJBPWgCQVlqIAIBWAACQU1qIAIBbAACARwAAgE8AAIBTAACQQ1oAkE1aiACQU1qIAIBTAACQTVoAkFZagSuATQCGVYBWAACQW1qIAIBDAACQTVoAkFZagSuATQCGVYBWAACQU1qIAIBbAACATQAAgFMAAJA8WgCQTFqIAJBTWogAgFMAAJBMWgCQVFqBK4BMAIZVgFQAAJBYWogAgDwAAIBMAACQVFoAkFhagSuAWACGVYBYAACQVFqBK4BUAIZVgFQAAJBYWgCQW1qIAIBYAACQVFqIAIBUAACQTFoAkE9aiACATAAAgE8AAJBUWgCQWFqIAIBUAACAWAAAkEhaAJBgWogAgGAAAJBYWogAgFsAAIBIAACAWAAAkEVaAJBNWogAkFRaiACAVAAAkE1aAJBWWoErgE0AhlWAVgAAkF1aiACARQAAgE0AAJBRWgCQVlqIAIBWAACQVFqIAIBdAACAUQAAgFQAAJBEWgCQTFqIAJBVWogAgFUAAJBMWgCQVlqBK4BMAIZVgFYAAJBcWogAgEQAAIBMAACQUFoAkFZaiACAVgAAkFhaiACAXAAAgFAAAIBYAACQQloAkE9aiACQVlqIAIBWAACQT1oAkFRagSuATwCGVYBUAACQW1qIAIBCAACATwAAkFNaAJBWWogAgFsAAIBWAACQVFqIAIBUAACQT1oAkFZaiACAVgAAkFNagSuAUwCGVYBPAIgAgFMAiAD/LwA=');\n",
       "                        });\n",
       "                </script>"
      ],
      "text/plain": [
       "<IPython.core.display.HTML object>"
      ]
     },
     "metadata": {},
     "output_type": "display_data"
    }
   ],
   "source": [
    "note_stream.show('midi')"
   ]
  },
  {
   "cell_type": "code",
   "execution_count": 61,
   "metadata": {},
   "outputs": [
    {
     "data": {
      "image/png": "[encoded data removed]",
      "text/plain": [
       "<IPython.core.display.Image object>"
      ]
     },
     "execution_count": 61,
     "metadata": {},
     "output_type": "execute_result"
    }
   ],
   "source": [
    "Image(filename=str(note_stream.chordify().write('lily.png')))"
   ]
  },
  {
   "cell_type": "code",
   "execution_count": null,
   "metadata": {},
   "outputs": [],
   "source": []
  }
 ],
 "metadata": {
  "kernelspec": {
   "display_name": "Python 3",
   "language": "python",
   "name": "python3"
  },
  "language_info": {
   "codemirror_mode": {
    "name": "ipython",
    "version": 3
   },
   "file_extension": ".py",
   "mimetype": "text/x-python",
   "name": "python",
   "nbconvert_exporter": "python",
   "pygments_lexer": "ipython3",
   "version": "3.7.1"
  }
 },
 "nbformat": 4,
 "nbformat_minor": 2
}

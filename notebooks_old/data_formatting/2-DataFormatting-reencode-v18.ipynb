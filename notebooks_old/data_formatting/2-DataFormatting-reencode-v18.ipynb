{
 "cells": [
  {
   "cell_type": "code",
   "execution_count": 1,
   "metadata": {},
   "outputs": [],
   "source": [
    "%reload_ext autoreload\n",
    "%autoreload 2\n",
    "%matplotlib inline"
   ]
  },
  {
   "cell_type": "code",
   "execution_count": 2,
   "metadata": {},
   "outputs": [],
   "source": [
    "import sys\n",
    "sys.path.insert(0, '../../')\n",
    "from src.encode_data import *\n",
    "from src.midi_data import *\n",
    "from src.data_sources import process_all, arr2csv\n",
    "from src.midi_transform import *\n",
    "from src.fastai_data import *"
   ]
  },
  {
   "cell_type": "code",
   "execution_count": 3,
   "metadata": {},
   "outputs": [],
   "source": [
    "import traceback\n",
    "import time"
   ]
  },
  {
   "cell_type": "markdown",
   "metadata": {},
   "source": [
    "## Standardize and reformat raw midi files before encoding to text\n",
    "- Transform key to C major\n",
    "- Remove unused instruments\n",
    "- Combine multiple tracks with the same instrument into a single part\n",
    "- Melody, Piano, String"
   ]
  },
  {
   "cell_type": "markdown",
   "metadata": {},
   "source": [
    "### Load midi data"
   ]
  },
  {
   "cell_type": "code",
   "execution_count": 4,
   "metadata": {},
   "outputs": [],
   "source": [
    "version = 'v18'\n",
    "data_path = Path('data/midi')\n",
    "version_path = data_path/version"
   ]
  },
  {
   "cell_type": "code",
   "execution_count": 5,
   "metadata": {},
   "outputs": [],
   "source": [
    "import pandas as pd"
   ]
  },
  {
   "cell_type": "code",
   "execution_count": 6,
   "metadata": {},
   "outputs": [],
   "source": [
    "sf_path = f'sf{SAMPLE_FREQ}'\n",
    "out_dir = Path(f'{sf_path}/s2s_encode')"
   ]
  },
  {
   "cell_type": "code",
   "execution_count": 7,
   "metadata": {},
   "outputs": [
    {
     "data": {
      "text/plain": [
       "PosixPath('data/midi/v18/sf4/s2s_encode/s2s_encode.csv')"
      ]
     },
     "execution_count": 7,
     "metadata": {},
     "output_type": "execute_result"
    }
   ],
   "source": [
    "out_csv = version_path/out_dir/f'{out_dir.name}.csv'\n",
    "out_csv.parent.mkdir(parents=True, exist_ok=True)\n",
    "out_csv"
   ]
  },
  {
   "cell_type": "markdown",
   "metadata": {},
   "source": [
    "### Encoding midi to numpy"
   ]
  },
  {
   "cell_type": "code",
   "execution_count": 8,
   "metadata": {},
   "outputs": [
    {
     "name": "stderr",
     "output_type": "stream",
     "text": [
      "/home/ubuntu/anaconda3/envs/midi/lib/python3.7/site-packages/IPython/core/interactiveshell.py:3020: DtypeWarning: Columns (4,7,9,11,14,16) have mixed types. Specify dtype option on import or set low_memory=False.\n",
      "  interactivity=interactivity, compiler=compiler, result=result)\n"
     ]
    },
    {
     "data": {
      "text/html": [
       "<div>\n",
       "<style scoped>\n",
       "    .dataframe tbody tr th:only-of-type {\n",
       "        vertical-align: middle;\n",
       "    }\n",
       "\n",
       "    .dataframe tbody tr th {\n",
       "        vertical-align: top;\n",
       "    }\n",
       "\n",
       "    .dataframe thead th {\n",
       "        text-align: right;\n",
       "    }\n",
       "</style>\n",
       "<table border=\"1\" class=\"dataframe\">\n",
       "  <thead>\n",
       "    <tr style=\"text-align: right;\">\n",
       "      <th></th>\n",
       "      <th>ht_mode</th>\n",
       "      <th>title</th>\n",
       "      <th>genres</th>\n",
       "      <th>source</th>\n",
       "      <th>section</th>\n",
       "      <th>midi</th>\n",
       "      <th>artist</th>\n",
       "      <th>parts</th>\n",
       "      <th>ht_bpm</th>\n",
       "      <th>midi_title</th>\n",
       "      <th>ht_time_signature</th>\n",
       "      <th>ht_key</th>\n",
       "      <th>ht_offset</th>\n",
       "      <th>md5</th>\n",
       "      <th>song_url</th>\n",
       "      <th>numpy</th>\n",
       "      <th>mxl</th>\n",
       "    </tr>\n",
       "  </thead>\n",
       "  <tbody>\n",
       "    <tr>\n",
       "      <th>0</th>\n",
       "      <td>1.0</td>\n",
       "      <td>yu-gi-oh-theme-song</td>\n",
       "      <td>NaN</td>\n",
       "      <td>hooktheory</td>\n",
       "      <td>chorus</td>\n",
       "      <td>midi_sources/hooktheory/pianoroll/w/wayne-shar...</td>\n",
       "      <td>wayne-sharpe</td>\n",
       "      <td>intro,chorus</td>\n",
       "      <td>128.0</td>\n",
       "      <td>yu-gi-oh3</td>\n",
       "      <td>4.0</td>\n",
       "      <td>C</td>\n",
       "      <td>0.0</td>\n",
       "      <td>bf1f29e5ff84e3e93e37fb873bfb590e</td>\n",
       "      <td>https://www.hooktheory.com/theorytab/view/wayn...</td>\n",
       "      <td>sf4/s2s_encode/hooktheory/pianoroll/w/wayne-sh...</td>\n",
       "      <td>NaN</td>\n",
       "    </tr>\n",
       "    <tr>\n",
       "      <th>1</th>\n",
       "      <td>1.0</td>\n",
       "      <td>yu-gi-oh-theme-song</td>\n",
       "      <td>NaN</td>\n",
       "      <td>hooktheory</td>\n",
       "      <td>intro</td>\n",
       "      <td>midi_sources/hooktheory/pianoroll/w/wayne-shar...</td>\n",
       "      <td>wayne-sharpe</td>\n",
       "      <td>intro,chorus</td>\n",
       "      <td>85.0</td>\n",
       "      <td>yu-gi-oh</td>\n",
       "      <td>3.0</td>\n",
       "      <td>C</td>\n",
       "      <td>0.0</td>\n",
       "      <td>055f80ad67f64edb14a85ca8fbfe8c29</td>\n",
       "      <td>https://www.hooktheory.com/theorytab/view/wayn...</td>\n",
       "      <td>NaN</td>\n",
       "      <td>NaN</td>\n",
       "    </tr>\n",
       "    <tr>\n",
       "      <th>2</th>\n",
       "      <td>6.0</td>\n",
       "      <td>kiefer</td>\n",
       "      <td>Jazz</td>\n",
       "      <td>hooktheory</td>\n",
       "      <td>chorus</td>\n",
       "      <td>midi_sources/hooktheory/pianoroll/w/what-a-day...</td>\n",
       "      <td>what-a-day</td>\n",
       "      <td>chorus</td>\n",
       "      <td>96.0</td>\n",
       "      <td>kiefer</td>\n",
       "      <td>4.0</td>\n",
       "      <td>D</td>\n",
       "      <td>-5.0</td>\n",
       "      <td>197f96f5d181f6ce1e2c5ab04ac1ff87</td>\n",
       "      <td>https://www.hooktheory.com/theorytab/view/what...</td>\n",
       "      <td>sf4/s2s_encode/hooktheory/pianoroll/w/what-a-d...</td>\n",
       "      <td>NaN</td>\n",
       "    </tr>\n",
       "    <tr>\n",
       "      <th>3</th>\n",
       "      <td>6.0</td>\n",
       "      <td>senbonzakura</td>\n",
       "      <td>J-Pop,Pop</td>\n",
       "      <td>hooktheory</td>\n",
       "      <td>pre-chorus</td>\n",
       "      <td>midi_sources/hooktheory/pianoroll/w/whiteflame...</td>\n",
       "      <td>whiteflame</td>\n",
       "      <td>verse,pre-chorus,chorus</td>\n",
       "      <td>152.0</td>\n",
       "      <td>senbonzakura - pre-Pre-Chorus</td>\n",
       "      <td>4.0</td>\n",
       "      <td>D</td>\n",
       "      <td>-5.0</td>\n",
       "      <td>9e7ce13a35f1314423a9a6d5a5287a4a</td>\n",
       "      <td>https://www.hooktheory.com/theorytab/view/whit...</td>\n",
       "      <td>sf4/s2s_encode/hooktheory/pianoroll/w/whitefla...</td>\n",
       "      <td>NaN</td>\n",
       "    </tr>\n",
       "    <tr>\n",
       "      <th>4</th>\n",
       "      <td>6.0</td>\n",
       "      <td>senbonzakura</td>\n",
       "      <td>J-Pop,Pop</td>\n",
       "      <td>hooktheory</td>\n",
       "      <td>verse</td>\n",
       "      <td>midi_sources/hooktheory/pianoroll/w/whiteflame...</td>\n",
       "      <td>whiteflame</td>\n",
       "      <td>verse,pre-chorus,chorus</td>\n",
       "      <td>152.0</td>\n",
       "      <td>Senbonzakura</td>\n",
       "      <td>4.0</td>\n",
       "      <td>D</td>\n",
       "      <td>-5.0</td>\n",
       "      <td>d5aaf79d0989222f1362f9f46c540a27</td>\n",
       "      <td>https://www.hooktheory.com/theorytab/view/whit...</td>\n",
       "      <td>sf4/s2s_encode/hooktheory/pianoroll/w/whitefla...</td>\n",
       "      <td>NaN</td>\n",
       "    </tr>\n",
       "  </tbody>\n",
       "</table>\n",
       "</div>"
      ],
      "text/plain": [
       "   ht_mode                title     genres      source     section  \\\n",
       "0      1.0  yu-gi-oh-theme-song        NaN  hooktheory      chorus   \n",
       "1      1.0  yu-gi-oh-theme-song        NaN  hooktheory       intro   \n",
       "2      6.0               kiefer       Jazz  hooktheory      chorus   \n",
       "3      6.0         senbonzakura  J-Pop,Pop  hooktheory  pre-chorus   \n",
       "4      6.0         senbonzakura  J-Pop,Pop  hooktheory       verse   \n",
       "\n",
       "                                                midi        artist  \\\n",
       "0  midi_sources/hooktheory/pianoroll/w/wayne-shar...  wayne-sharpe   \n",
       "1  midi_sources/hooktheory/pianoroll/w/wayne-shar...  wayne-sharpe   \n",
       "2  midi_sources/hooktheory/pianoroll/w/what-a-day...    what-a-day   \n",
       "3  midi_sources/hooktheory/pianoroll/w/whiteflame...    whiteflame   \n",
       "4  midi_sources/hooktheory/pianoroll/w/whiteflame...    whiteflame   \n",
       "\n",
       "                     parts  ht_bpm                     midi_title  \\\n",
       "0             intro,chorus   128.0                      yu-gi-oh3   \n",
       "1             intro,chorus    85.0                       yu-gi-oh   \n",
       "2                   chorus    96.0                         kiefer   \n",
       "3  verse,pre-chorus,chorus   152.0  senbonzakura - pre-Pre-Chorus   \n",
       "4  verse,pre-chorus,chorus   152.0                   Senbonzakura   \n",
       "\n",
       "   ht_time_signature ht_key  ht_offset                               md5  \\\n",
       "0                4.0      C        0.0  bf1f29e5ff84e3e93e37fb873bfb590e   \n",
       "1                3.0      C        0.0  055f80ad67f64edb14a85ca8fbfe8c29   \n",
       "2                4.0      D       -5.0  197f96f5d181f6ce1e2c5ab04ac1ff87   \n",
       "3                4.0      D       -5.0  9e7ce13a35f1314423a9a6d5a5287a4a   \n",
       "4                4.0      D       -5.0  d5aaf79d0989222f1362f9f46c540a27   \n",
       "\n",
       "                                            song_url  \\\n",
       "0  https://www.hooktheory.com/theorytab/view/wayn...   \n",
       "1  https://www.hooktheory.com/theorytab/view/wayn...   \n",
       "2  https://www.hooktheory.com/theorytab/view/what...   \n",
       "3  https://www.hooktheory.com/theorytab/view/whit...   \n",
       "4  https://www.hooktheory.com/theorytab/view/whit...   \n",
       "\n",
       "                                               numpy  mxl  \n",
       "0  sf4/s2s_encode/hooktheory/pianoroll/w/wayne-sh...  NaN  \n",
       "1                                                NaN  NaN  \n",
       "2  sf4/s2s_encode/hooktheory/pianoroll/w/what-a-d...  NaN  \n",
       "3  sf4/s2s_encode/hooktheory/pianoroll/w/whitefla...  NaN  \n",
       "4  sf4/s2s_encode/hooktheory/pianoroll/w/whitefla...  NaN  "
      ]
     },
     "execution_count": 8,
     "metadata": {},
     "output_type": "execute_result"
    }
   ],
   "source": [
    "df = pd.read_csv(out_csv); df.head()"
   ]
  },
  {
   "cell_type": "code",
   "execution_count": 9,
   "metadata": {},
   "outputs": [
    {
     "data": {
      "text/plain": [
       "196499"
      ]
     },
     "execution_count": 9,
     "metadata": {},
     "output_type": "execute_result"
    }
   ],
   "source": [
    "all_records = df.to_dict(orient='records'); len(all_records)"
   ]
  },
  {
   "cell_type": "code",
   "execution_count": 10,
   "metadata": {},
   "outputs": [],
   "source": [
    "import pdb"
   ]
  },
  {
   "cell_type": "code",
   "execution_count": 11,
   "metadata": {},
   "outputs": [],
   "source": [
    "def enc_tfm(np_array):\n",
    "    np_array = to_single_stream(np_array)\n",
    "    np_array = position_tfm(np_array)\n",
    "    return np_array"
   ]
  },
  {
   "cell_type": "code",
   "execution_count": 12,
   "metadata": {},
   "outputs": [],
   "source": [
    "\n",
    "def partenc2seq2seq(part_np, part_type, vocab=vocab):\n",
    "    part_meta = np.array([vocab.stoi[part_type], vocab.pad_idx])\n",
    "    s2s_out = to_single_stream(part_np, start_seq=part_meta)\n",
    "    s2s_out = np.pad(s2s_out, (0,1), 'constant', constant_values=vocab.stoi[EOS])\n",
    "    s2s_out = position_tfm(s2s_out)\n",
    "    return s2s_out"
   ]
  },
  {
   "cell_type": "code",
   "execution_count": 13,
   "metadata": {},
   "outputs": [],
   "source": [
    "\n",
    "def avg_pitch(t, sep_idx=VALTSEP):\n",
    "    return t[t[:, 0] > sep_idx][:, 0].mean()"
   ]
  },
  {
   "cell_type": "code",
   "execution_count": 14,
   "metadata": {},
   "outputs": [],
   "source": [
    "def process_metadata(metadata):\n",
    "    result = metadata.copy()\n",
    "    \n",
    "    if not isinstance(metadata.get('numpy'), str): return None\n",
    "    \n",
    "    input_path = version_path/'old'/metadata['numpy']\n",
    "    output_path = version_path/metadata['numpy']\n",
    "    \n",
    "    if not input_path.exists(): return\n",
    "    if output_path.exists(): return\n",
    "    output_path.parent.mkdir(parents=True, exist_ok=True)\n",
    "    \n",
    "    np_array = np.load(input_path)\n",
    "    \n",
    "    if np_array.shape[0] == 2:\n",
    "        # s2s encoding\n",
    "        # order by melody > chords\n",
    "        p1, p2 = np_array\n",
    "        m, c = (p1, p2) if avg_pitch(p1) > avg_pitch(p2) else (p2, p1) # Assuming melody has higher pitch\n",
    "        m = partenc2seq2seq(m, MSEQ)\n",
    "        c = partenc2seq2seq(c, CSEQ)\n",
    "        out = np.array((m, c))\n",
    "        np.save(output_path, out)\n",
    "        return \n",
    "    \n",
    "    np_array = to_single_stream(np_array)\n",
    "    np_array = position_tfm(np_array)\n",
    "    np.save(output_path, np_array)"
   ]
  },
  {
   "cell_type": "code",
   "execution_count": 15,
   "metadata": {},
   "outputs": [
    {
     "data": {
      "text/html": [
       "\n",
       "    <div>\n",
       "        <style>\n",
       "            /* Turns off some styling */\n",
       "            progress {\n",
       "                /* gets rid of default border in Firefox and Opera. */\n",
       "                border: none;\n",
       "                /* Needs to be in here for Safari polyfill so background images work as expected. */\n",
       "                background-size: auto;\n",
       "            }\n",
       "            .progress-bar-interrupted, .progress-bar-interrupted::-webkit-progress-bar {\n",
       "                background: #F44336;\n",
       "            }\n",
       "        </style>\n",
       "      <progress value='196499' class='' max='196499', style='width:300px; height:20px; vertical-align: middle;'></progress>\n",
       "      100.00% [196499/196499 00:52<00:00]\n",
       "    </div>\n",
       "    "
      ],
      "text/plain": [
       "<IPython.core.display.HTML object>"
      ]
     },
     "metadata": {},
     "output_type": "display_data"
    }
   ],
   "source": [
    "# for r in progress_bar(all_records, total=len(all_records)):\n",
    "#     process_metadata(r)"
   ]
  },
  {
   "cell_type": "code",
   "execution_count": 16,
   "metadata": {},
   "outputs": [],
   "source": [
    "# # sanity check\n",
    "import random\n",
    "for r in random.sample(all_records, 10):\n",
    "    process_metadata(r)"
   ]
  },
  {
   "cell_type": "code",
   "execution_count": 21,
   "metadata": {},
   "outputs": [],
   "source": [
    "def timeout_func(data, seconds):\n",
    "    print(\"Timeout:\", seconds, data.get('midi'))"
   ]
  },
  {
   "cell_type": "code",
   "execution_count": null,
   "metadata": {
    "scrolled": true
   },
   "outputs": [],
   "source": [
    "timeout = 500\n",
    "processed = process_all(process_metadata, all_records, timeout=timeout, timeout_func=timeout_func)"
   ]
  },
  {
   "cell_type": "code",
   "execution_count": 22,
   "metadata": {},
   "outputs": [],
   "source": [
    "test = np.load(version_path/'sf4/midi_encode/hooktheory/pianoroll/w/wayne-sharpe/yu-gi-oh-theme-song/chorus_key_original.npy')"
   ]
  },
  {
   "cell_type": "code",
   "execution_count": 29,
   "metadata": {},
   "outputs": [
    {
     "data": {
      "text/plain": [
       "array([  0,   1,   8, 138,  64, 138,   8, 138,  63, 138,   8, 138,  54, 138,   8, 138,  62, 138,   8, 138])"
      ]
     },
     "execution_count": 29,
     "metadata": {},
     "output_type": "execute_result"
    }
   ],
   "source": [
    "test[:20,0]"
   ]
  },
  {
   "cell_type": "code",
   "execution_count": 30,
   "metadata": {},
   "outputs": [
    {
     "data": {
      "text/plain": [
       "array([[-1,  1],\n",
       "       [55,  1],\n",
       "       [-1,  1],\n",
       "       [54,  1],\n",
       "       [-1,  1],\n",
       "       [45,  1],\n",
       "       [-1,  1],\n",
       "       [53,  1],\n",
       "       [-1,  1]])"
      ]
     },
     "execution_count": 30,
     "metadata": {},
     "output_type": "execute_result"
    }
   ],
   "source": [
    "to_double_stream(test[:20, 0])"
   ]
  },
  {
   "cell_type": "code",
   "execution_count": 31,
   "metadata": {},
   "outputs": [
    {
     "data": {
      "text/plain": [
       "array([ 0,  0,  0,  0, -1, -1, -1, -1, -2, -2, -2, -2, -3, -3, -3, -3, -4, -4, -4, -4])"
      ]
     },
     "execution_count": 31,
     "metadata": {},
     "output_type": "execute_result"
    }
   ],
   "source": [
    "test[:20, 1]"
   ]
  },
  {
   "cell_type": "code",
   "execution_count": null,
   "metadata": {},
   "outputs": [],
   "source": []
  },
  {
   "cell_type": "code",
   "execution_count": 20,
   "metadata": {},
   "outputs": [
    {
     "data": {
      "text/plain": [
       "{'song_url': 'https://www.hooktheory.com/theorytab/view/wayne-sharpe/yu-gi-oh-theme-song',\n",
       " 'md5': 'bf1f29e5ff84e3e93e37fb873bfb590e',\n",
       " 'mxl': nan,\n",
       " 'genres': nan,\n",
       " 'ht_offset': 0.0,\n",
       " 'ht_key': 'C',\n",
       " 'section': 'chorus',\n",
       " 'source': 'hooktheory',\n",
       " 'ht_bpm': 128.0,\n",
       " 'artist': 'wayne-sharpe',\n",
       " 'ht_mode': 1.0,\n",
       " 'numpy': 'sf4/midi_encode/hooktheory/pianoroll/w/wayne-sharpe/yu-gi-oh-theme-song/chorus_key_original.npy',\n",
       " 'midi_title': 'yu-gi-oh3',\n",
       " 'title': 'yu-gi-oh-theme-song',\n",
       " 'midi': 'midi_sources/hooktheory/pianoroll/w/wayne-sharpe/yu-gi-oh-theme-song/chorus_key_original.mid',\n",
       " 'parts': 'intro,chorus',\n",
       " 'ht_time_signature': 4.0}"
      ]
     },
     "execution_count": 20,
     "metadata": {},
     "output_type": "execute_result"
    }
   ],
   "source": [
    "all_records[0]"
   ]
  },
  {
   "cell_type": "code",
   "execution_count": null,
   "metadata": {},
   "outputs": [],
   "source": [
    "arr2csv(processed, out_csv); len(processed)"
   ]
  },
  {
   "cell_type": "code",
   "execution_count": null,
   "metadata": {},
   "outputs": [],
   "source": [
    "df = pd.read_csv(out_csv); df.head()"
   ]
  },
  {
   "cell_type": "code",
   "execution_count": 19,
   "metadata": {},
   "outputs": [
    {
     "data": {
      "text/plain": [
       "196531"
      ]
     },
     "execution_count": 19,
     "metadata": {},
     "output_type": "execute_result"
    }
   ],
   "source": [
    "len([s for s in df.midi.values if isinstance(s, str)])"
   ]
  },
  {
   "cell_type": "code",
   "execution_count": 20,
   "metadata": {},
   "outputs": [
    {
     "data": {
      "text/plain": [
       "164774"
      ]
     },
     "execution_count": 20,
     "metadata": {},
     "output_type": "execute_result"
    }
   ],
   "source": [
    "len([s for s in df.numpy.values if isinstance(s, str)])"
   ]
  },
  {
   "cell_type": "code",
   "execution_count": 38,
   "metadata": {},
   "outputs": [
    {
     "data": {
      "text/plain": [
       "112169"
      ]
     },
     "execution_count": 38,
     "metadata": {},
     "output_type": "execute_result"
    }
   ],
   "source": [
    "len([s for s in df.numpy.values if isinstance(s, str)])"
   ]
  },
  {
   "cell_type": "code",
   "execution_count": 39,
   "metadata": {},
   "outputs": [
    {
     "data": {
      "text/plain": [
       "Counter({'hooktheory': 19882,\n",
       "         'freemidi': 5168,\n",
       "         'midiworld': 4108,\n",
       "         'ecomp': 2508,\n",
       "         'cprato': 312,\n",
       "         'classical_piano': 329,\n",
       "         'classical_archives': 14642,\n",
       "         'musescore': 10933,\n",
       "         'wikifonia': 6346,\n",
       "         'lmd': 13565,\n",
       "         'reddit': 98674,\n",
       "         'hooktheory_c': 20076})"
      ]
     },
     "execution_count": 39,
     "metadata": {},
     "output_type": "execute_result"
    }
   ],
   "source": [
    "Counter(df[df.midi.notnull()].source.values)"
   ]
  },
  {
   "cell_type": "code",
   "execution_count": 22,
   "metadata": {},
   "outputs": [
    {
     "data": {
      "text/plain": [
       "Counter({'hooktheory': 19404,\n",
       "         'freemidi': 3974,\n",
       "         'midiworld': 3460,\n",
       "         'ecomp': 2508,\n",
       "         'cprato': 308,\n",
       "         'classical_piano': 329,\n",
       "         'classical_archives': 14627,\n",
       "         'musescore': 10891,\n",
       "         'wikifonia': 6195,\n",
       "         'lmd': 9175,\n",
       "         'reddit': 74341,\n",
       "         'hooktheory_c': 19562})"
      ]
     },
     "execution_count": 22,
     "metadata": {},
     "output_type": "execute_result"
    }
   ],
   "source": [
    "Counter(df[df.numpy.notnull()].source.values)"
   ]
  }
 ],
 "metadata": {
  "kernelspec": {
   "display_name": "Python 3",
   "language": "python",
   "name": "python3"
  },
  "language_info": {
   "codemirror_mode": {
    "name": "ipython",
    "version": 3
   },
   "file_extension": ".py",
   "mimetype": "text/x-python",
   "name": "python",
   "nbconvert_exporter": "python",
   "pygments_lexer": "ipython3",
   "version": "3.7.3"
  }
 },
 "nbformat": 4,
 "nbformat_minor": 2
}

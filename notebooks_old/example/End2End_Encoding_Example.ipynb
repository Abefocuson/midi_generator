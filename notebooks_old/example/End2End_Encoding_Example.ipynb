{
 "cells": [
  {
   "cell_type": "code",
   "execution_count": 1,
   "metadata": {},
   "outputs": [],
   "source": [
    "%reload_ext autoreload\n",
    "%autoreload 2\n",
    "%matplotlib inline"
   ]
  },
  {
   "cell_type": "code",
   "execution_count": 2,
   "metadata": {},
   "outputs": [],
   "source": [
    "# import sys\n",
    "# sys.path.insert(0, '../../')\n",
    "\n",
    "import os\n",
    "os.chdir('../../')"
   ]
  },
  {
   "cell_type": "code",
   "execution_count": 3,
   "metadata": {},
   "outputs": [
    {
     "name": "stdout",
     "output_type": "stream",
     "text": [
      "Failed to load FluidSynth. Must install if you want to convert to wav files.\n"
     ]
    }
   ],
   "source": [
    "from src.encode_data import *\n",
    "from src.midi_data import *\n",
    "from src.data_sources import process_all\n",
    "from src.midi_transform import *\n",
    "from src.fastai_data import *\n",
    "from src.msklm import *\n",
    "from src.serve import *"
   ]
  },
  {
   "cell_type": "code",
   "execution_count": 4,
   "metadata": {},
   "outputs": [],
   "source": [
    "from fastai.text import *"
   ]
  },
  {
   "cell_type": "markdown",
   "metadata": {},
   "source": [
    "## Example notebook explaining how to encode midi to numpy array and train with fastai\n",
    "\n",
    "Numpy format "
   ]
  },
  {
   "cell_type": "code",
   "execution_count": 5,
   "metadata": {},
   "outputs": [],
   "source": [
    "data_path = Path('data')\n",
    "\n",
    "# Location of your midi files\n",
    "midi_path = data_path/'midi'\n",
    "midi_path.mkdir(parents=True, exist_ok=True)\n",
    "\n",
    "# Location of transformed midi to numpy dataset\n",
    "numpy_path = data_path/'numpy'\n",
    "numpy_path.mkdir(parents=True, exist_ok=True)\n",
    "\n",
    "cache_name = 'lm'"
   ]
  },
  {
   "cell_type": "markdown",
   "metadata": {},
   "source": [
    "## 1. Gather midi dataset"
   ]
  },
  {
   "cell_type": "markdown",
   "metadata": {},
   "source": [
    "Make sure all your midi data is in `musicautobot/data/midi` directory"
   ]
  },
  {
   "cell_type": "markdown",
   "metadata": {},
   "source": [
    "Here's a pretty good dataset with lots of midi data:  \n",
    "https://www.reddit.com/r/datasets/comments/3akhxy/the_largest_midi_collection_on_the_internet/\n",
    "\n",
    "Download the folder and unzip it to `data/midi`"
   ]
  },
  {
   "cell_type": "markdown",
   "metadata": {},
   "source": [
    "### 2. Encode midi files to numpy\n",
    "\n",
    "For more in customized encoding - see `notebooks/dataformatting/2-DataFormatting-AllCombined-X.ipynb`"
   ]
  },
  {
   "cell_type": "code",
   "execution_count": 6,
   "metadata": {},
   "outputs": [
    {
     "data": {
      "text/plain": [
       "59628"
      ]
     },
     "execution_count": 6,
     "metadata": {},
     "output_type": "execute_result"
    }
   ],
   "source": [
    "midi_files = get_files(midi_path, '.mid', recurse=True); len(midi_files)"
   ]
  },
  {
   "cell_type": "code",
   "execution_count": 7,
   "metadata": {},
   "outputs": [],
   "source": [
    "def process_files(midi_file):\n",
    "    output_file = Path(str(midi_file).replace(str(data_path), str(numpy_path))).with_suffix('.npy')\n",
    "    if output_file.exists(): return\n",
    "    output_file.parent.mkdir(parents=True, exist_ok=True)\n",
    "    \n",
    "    # Part 1. Compress tracks/instruments\n",
    "    npenc = transform_midi(midi_file)\n",
    "    if npenc is not None: np.save(output_file, npenc)"
   ]
  },
  {
   "cell_type": "code",
   "execution_count": 8,
   "metadata": {},
   "outputs": [],
   "source": [
    "def transform_midi(midi_file):\n",
    "    try:\n",
    "        # 1. Convert file to music21 stream\n",
    "        stream = file2stream(midi_file) \n",
    "        # 2. Convert to uncompressed timestep array\n",
    "        chordarr = stream2chordarr(stream)\n",
    "        # 3. Convert to encoded representation\n",
    "        npenc = chordarr2npenc(chordarr)\n",
    "        \n",
    "    except Exception as e:\n",
    "        print('Could not encode to file:', midi_file, e)\n",
    "        return None\n",
    "    \n",
    "    if not is_valid_npenc(npenc, input_path=midi_file):\n",
    "        return None\n",
    "    \n",
    "    return npenc"
   ]
  },
  {
   "cell_type": "code",
   "execution_count": 9,
   "metadata": {
    "scrolled": true
   },
   "outputs": [
    {
     "data": {
      "text/html": [
       "\n",
       "    <div>\n",
       "        <style>\n",
       "            /* Turns off some styling */\n",
       "            progress {\n",
       "                /* gets rid of default border in Firefox and Opera. */\n",
       "                border: none;\n",
       "                /* Needs to be in here for Safari polyfill so background images work as expected. */\n",
       "                background-size: auto;\n",
       "            }\n",
       "            .progress-bar-interrupted, .progress-bar-interrupted::-webkit-progress-bar {\n",
       "                background: #F44336;\n",
       "            }\n",
       "        </style>\n",
       "      <progress value='200' class='' max='200', style='width:300px; height:20px; vertical-align: middle;'></progress>\n",
       "      100.00% [200/200 00:00<00:00]\n",
       "    </div>\n",
       "    "
      ],
      "text/plain": [
       "<IPython.core.display.HTML object>"
      ]
     },
     "metadata": {},
     "output_type": "display_data"
    },
    {
     "name": "stdout",
     "output_type": "stream",
     "text": [
      "Sequence too short: 19 data/midi/datasets/pianoroll/w/willie-nelson/on-the-road-again/bridge_key_cparallel.mid\n",
      "Sequence too short: 28 data/midi/datasets/pianoroll/w/willie-nelson/on-the-road-again/verse_key_cmajor.mid\n",
      "Sequence too short: 15 data/midi/datasets/pianoroll/w/weebl/donkeys/intro_key_cparallel.mid\n",
      "Sequence too short: 15 data/midi/datasets/pianoroll/w/weebl/donkeys/intro_key_original.mid\n",
      "Sequence too short: 19 data/midi/datasets/pianoroll/w/willie-nelson/on-the-road-again/bridge_key_cmajor.mid\n",
      "Sequence too short: 19 data/midi/datasets/pianoroll/w/willie-nelson/on-the-road-again/bridge_key_original.mid\n",
      "Sequence too short: 24 data/midi/datasets/pianoroll/w/wolfgang-gartner/undertaker/intro_key_cmajor.mid\n",
      "Sequence too short: 24 data/midi/datasets/pianoroll/w/wolfgang-gartner/undertaker/intro_key_cparallel.mid\n",
      "Sequence too short: 24 data/midi/datasets/pianoroll/w/wolfgang-gartner/undertaker/intro_key_original.mid\n",
      "Sequence too short: 28 data/midi/datasets/pianoroll/w/willie-nelson/on-the-road-again/verse_key_original.mid\n",
      "Sequence too short: 15 data/midi/datasets/pianoroll/w/weebl/donkeys/intro_key_cmajor.mid\n",
      "Sequence too short: 28 data/midi/datasets/pianoroll/w/willie-nelson/on-the-road-again/verse_key_cparallel.mid\n",
      "Sequence too short: 31 data/midi/datasets/pianoroll/w/wavves/way-too-much/intro_key_cmajor.mid\n",
      "Sequence too short: 31 data/midi/datasets/pianoroll/w/wavves/way-too-much/intro_key_original.mid\n",
      "Sequence too short: 31 data/midi/datasets/pianoroll/w/wavves/way-too-much/intro_key_cparallel.mid\n",
      "Could not encode to file: data/midi/datasets/pianoroll/w/weezer/beverly-hills/intro-and-verse_key_cparallel.mid list index out of range\n",
      "Could not encode to file: data/midi/datasets/pianoroll/w/weezer/beverly-hills/intro-and-verse_key_original.mid list index out of range\n",
      "Could not encode to file: data/midi/datasets/pianoroll/w/weezer/beverly-hills/intro-and-verse_key_cmajor.mid list index out of range\n"
     ]
    }
   ],
   "source": [
    "processed = process_all(process_files, midi_files[:200], timeout=50, timeout_func=None)"
   ]
  },
  {
   "cell_type": "markdown",
   "metadata": {},
   "source": [
    "## 3. Create dataset from encoded files"
   ]
  },
  {
   "cell_type": "code",
   "execution_count": 10,
   "metadata": {},
   "outputs": [],
   "source": [
    "def create_databunch(files, out_path, cache_name):\n",
    "    if (out_path/'tmp/train_ids.npy').exists():\n",
    "        data = MusicDataBunch.load(out_path, cache_name=cache_name)\n",
    "    else:\n",
    "        ps = [OpenNPFileProcessor(), SingleEncodeProcessor()]\n",
    "        data = (MusicItemList(items=files, path=out_path, processor=ps)\n",
    "                .split_by_rand_pct(0.01, seed=6)\n",
    "                .label_const(label_cls=LMLabelList))\n",
    "        data = data.databunch()\n",
    "        data.save(cache_name)\n",
    "    return data"
   ]
  },
  {
   "cell_type": "code",
   "execution_count": 12,
   "metadata": {},
   "outputs": [
    {
     "data": {
      "text/plain": [
       "182"
      ]
     },
     "execution_count": 12,
     "metadata": {},
     "output_type": "execute_result"
    }
   ],
   "source": [
    "numpy_files = get_files(numpy_path, '.npy', recurse=True); len(numpy_files)"
   ]
  },
  {
   "cell_type": "code",
   "execution_count": 13,
   "metadata": {},
   "outputs": [],
   "source": [
    "data = create_databunch(numpy_files, numpy_path, cache_name)"
   ]
  },
  {
   "cell_type": "markdown",
   "metadata": {},
   "source": [
    "## 4. Load Model"
   ]
  },
  {
   "cell_type": "code",
   "execution_count": 14,
   "metadata": {},
   "outputs": [],
   "source": [
    "data = MusicDataBunch.load(path=numpy_path, cache_name=cache_name)\n",
    "data.vocab = vocab"
   ]
  },
  {
   "cell_type": "code",
   "execution_count": 15,
   "metadata": {},
   "outputs": [
    {
     "data": {
      "text/plain": [
       "{'ctx_len': 150,\n",
       " 'n_layers': 12,\n",
       " 'n_heads': 10,\n",
       " 'd_model': 410,\n",
       " 'd_head': 41,\n",
       " 'd_inner': 2100,\n",
       " 'resid_p': 0.1,\n",
       " 'attn_p': 0.1,\n",
       " 'ff_p': 0.1,\n",
       " 'embed_p': 0.1,\n",
       " 'output_p': 0.1,\n",
       " 'bias': False,\n",
       " 'scale': True,\n",
       " 'act': <Activation.ReLU: 1>,\n",
       " 'double_drop': True,\n",
       " 'tie_weights': True,\n",
       " 'out_bias': True,\n",
       " 'init': <function fastai.text.models.transformer.init_transformer(m)>,\n",
       " 'mem_len': 150,\n",
       " 'mask': True}"
      ]
     },
     "execution_count": 15,
     "metadata": {},
     "output_type": "execute_result"
    }
   ],
   "source": [
    "config = tfmerXL_lm_config.copy(); config"
   ]
  },
  {
   "cell_type": "code",
   "execution_count": 16,
   "metadata": {},
   "outputs": [],
   "source": [
    "# argspec = inspect.getfullargspec(TransformerXL.__init__)\n",
    "\n",
    "# argspec\n",
    "\n",
    "# TransformerXL(**config)\n",
    "\n",
    "# Using fastai's default config and architecture\n",
    "# config = v15_config(vocab).copy(); config\n",
    "\n",
    "# MusicTransformerXL()\n",
    "# learn = music_model_learner(data, config)"
   ]
  },
  {
   "cell_type": "code",
   "execution_count": 17,
   "metadata": {},
   "outputs": [],
   "source": [
    "model = get_language_model(TransformerXL, len(vocab.itos), config=config)\n",
    "learn = MusicLearner(data, model, split_func=tfmerXL_lm_split)"
   ]
  },
  {
   "cell_type": "code",
   "execution_count": 18,
   "metadata": {},
   "outputs": [
    {
     "data": {
      "text/html": [
       "<table border=\"1\" class=\"dataframe\">\n",
       "  <thead>\n",
       "    <tr style=\"text-align: left;\">\n",
       "      <th>epoch</th>\n",
       "      <th>train_loss</th>\n",
       "      <th>valid_loss</th>\n",
       "      <th>accuracy</th>\n",
       "      <th>time</th>\n",
       "    </tr>\n",
       "  </thead>\n",
       "  <tbody>\n",
       "    <tr>\n",
       "      <td>0</td>\n",
       "      <td>4.239289</td>\n",
       "      <td>3.419954</td>\n",
       "      <td>0.000000</td>\n",
       "      <td>00:03</td>\n",
       "    </tr>\n",
       "    <tr>\n",
       "      <td>1</td>\n",
       "      <td>3.675634</td>\n",
       "      <td>3.573203</td>\n",
       "      <td>0.162054</td>\n",
       "      <td>00:02</td>\n",
       "    </tr>\n",
       "    <tr>\n",
       "      <td>2</td>\n",
       "      <td>3.431410</td>\n",
       "      <td>3.458749</td>\n",
       "      <td>0.162054</td>\n",
       "      <td>00:02</td>\n",
       "    </tr>\n",
       "    <tr>\n",
       "      <td>3</td>\n",
       "      <td>3.177846</td>\n",
       "      <td>3.026716</td>\n",
       "      <td>0.213170</td>\n",
       "      <td>00:02</td>\n",
       "    </tr>\n",
       "  </tbody>\n",
       "</table>"
      ],
      "text/plain": [
       "<IPython.core.display.HTML object>"
      ]
     },
     "metadata": {},
     "output_type": "display_data"
    }
   ],
   "source": [
    "learn.fit_one_cycle(4)"
   ]
  },
  {
   "cell_type": "markdown",
   "metadata": {},
   "source": [
    "## 5. Prediction time"
   ]
  },
  {
   "cell_type": "code",
   "execution_count": 29,
   "metadata": {},
   "outputs": [
    {
     "data": {
      "text/plain": [
       "PosixPath('data/midi/datasets/pianoroll/w/wayne-sharpe/yu-gi-oh-theme-song/chorus_key_cmajor.mid')"
      ]
     },
     "execution_count": 29,
     "metadata": {},
     "output_type": "execute_result"
    }
   ],
   "source": [
    "midi_files = get_files(data_path, '.mid', recurse=True)\n",
    "midi_file = midi_files[0]; midi_file"
   ]
  },
  {
   "cell_type": "code",
   "execution_count": 32,
   "metadata": {},
   "outputs": [],
   "source": [
    "\n",
    "def midi2npenc(midi_file):\n",
    "    \"Converts midi file to numpy encoding for language model\"\n",
    "    stream = file2stream(midi_file) # 1.\n",
    "    chordarr = stream2chordarr(stream) # 2.\n",
    "    npenc = chordarr2npenc(chordarr) # 3.\n",
    "    return to_single_stream(npenc)\n",
    "\n",
    "# Decoding process\n",
    "# 1. NoteEnc -> numpy chord array\n",
    "# 2. numpy array -> music21.Stream\n",
    "def npenc2stream(arr, bpm=120):\n",
    "    \"Converts numpy encoding to music21 stream\"\n",
    "    npenc = to_double_stream(arr)\n",
    "    chordarr = npenc2chordarr(npenc) # 1.\n",
    "    return chordarr2stream(chordarr, bpm=bpm) # 2.\n"
   ]
  },
  {
   "cell_type": "code",
   "execution_count": 30,
   "metadata": {},
   "outputs": [],
   "source": [
    "# # Encode midi file to array for prediction\n",
    "# stream = file2stream(midi_file) \n",
    "# chordarr = stream2chordarr(stream)\n",
    "# npenc = chordarr2npenc(chordarr)"
   ]
  },
  {
   "cell_type": "code",
   "execution_count": 35,
   "metadata": {},
   "outputs": [
    {
     "data": {
      "text/plain": [
       "(142,)"
      ]
     },
     "execution_count": 35,
     "metadata": {},
     "output_type": "execute_result"
    }
   ],
   "source": [
    "npenc = midi2npenc(midi_file); npenc.shape"
   ]
  },
  {
   "cell_type": "markdown",
   "metadata": {},
   "source": [
    "Only send a few notes "
   ]
  },
  {
   "cell_type": "code",
   "execution_count": 43,
   "metadata": {},
   "outputs": [
    {
     "data": {
      "text/plain": [
       "torch.Size([1, 100])"
      ]
     },
     "execution_count": 43,
     "metadata": {},
     "output_type": "execute_result"
    }
   ],
   "source": [
    "# convert numpy encoding to torch tensor. \n",
    "seed_len = 100\n",
    "seed = torch.from_numpy(npenc)[:seed_len][None]; x_inp.shape"
   ]
  },
  {
   "cell_type": "markdown",
   "metadata": {},
   "source": [
    "Here's what the seed sounds like:"
   ]
  },
  {
   "cell_type": "code",
   "execution_count": 45,
   "metadata": {},
   "outputs": [
    {
     "data": {
      "image/png": "[encoded data removed]",
      "text/plain": [
       "<IPython.core.display.Image object>"
      ]
     },
     "metadata": {
      "image/png": {
       "height": 65,
       "width": 748
      }
     },
     "output_type": "display_data"
    }
   ],
   "source": [
    "seed_stream = npenc2stream(seed.cpu().numpy()[0])\n",
    "seed_stream.show()"
   ]
  },
  {
   "cell_type": "code",
   "execution_count": 46,
   "metadata": {},
   "outputs": [
    {
     "data": {
      "text/html": [
       "\n",
       "                <div id='midiPlayerDiv5278'></div>\n",
       "                <link rel=\"stylesheet\" href=\"//cuthbertLab.github.io/music21j/css/m21.css\"\n",
       "                    type=\"text/css\" />\n",
       "                <script>\n",
       "                require.config({\n",
       "                    paths: {'music21': '//cuthbertLab.github.io/music21j/src/music21'}\n",
       "                });\n",
       "                require(['music21'], function() {\n",
       "                               mp = new music21.miditools.MidiPlayer();\n",
       "                               mp.addPlayer('#midiPlayerDiv5278');\n",
       "                               mp.base64Load('data:audio/midi;base64,TVRoZAAAAAYAAQABBABNVHJrAAABIgD/AwVQaWFubwDAAADgAEAAwAAA/1EDB6EgggCQN1qCAIA3AACQNlqCAIA2AACQLVqCAIAtAACQNVqCAIA1AACQNFqCAIA0AACQLVqCAIAtAACQNVqCAIA1AACQNFqCAIA0AACQLVqGAIAtAACQN1qCAIA3AACQNlqCAIA2AACQN1qCAIA3AACQPVqCAIA9AACQNFoAkDdaAJA7WqAAgDQAAIA3AACAOwAAkDRaAJA3WgCQOVoAkDxakACANAAAgDcAAIA5AACAPAAAkDRaAJA3WgCQO1qQAIA0AACANwAAgDsAAJArWgCQLloAkDJasACAKwAAgC4AAIAyAACQK1oAkC1aAJAwWgCQNFqIAIArAACALQAAgDAAAIA0AIgA/y8A');\n",
       "                        });\n",
       "                </script>"
      ],
      "text/plain": [
       "<IPython.core.display.HTML object>"
      ]
     },
     "metadata": {},
     "output_type": "display_data"
    }
   ],
   "source": [
    "seed_stream.show('midi')"
   ]
  },
  {
   "cell_type": "markdown",
   "metadata": {},
   "source": [
    "### Start Predictions:"
   ]
  },
  {
   "cell_type": "code",
   "execution_count": 47,
   "metadata": {},
   "outputs": [
    {
     "data": {
      "text/html": [
       "\n",
       "    <div>\n",
       "        <style>\n",
       "            /* Turns off some styling */\n",
       "            progress {\n",
       "                /* gets rid of default border in Firefox and Opera. */\n",
       "                border: none;\n",
       "                /* Needs to be in here for Safari polyfill so background images work as expected. */\n",
       "                background-size: auto;\n",
       "            }\n",
       "            .progress-bar-interrupted, .progress-bar-interrupted::-webkit-progress-bar {\n",
       "                background: #F44336;\n",
       "            }\n",
       "        </style>\n",
       "      <progress value='100' class='' max='100', style='width:300px; height:20px; vertical-align: middle;'></progress>\n",
       "      100.00% [100/100 00:01<00:00]\n",
       "    </div>\n",
       "    "
      ],
      "text/plain": [
       "<IPython.core.display.HTML object>"
      ]
     },
     "metadata": {},
     "output_type": "display_data"
    }
   ],
   "source": [
    "out, seed = learn.predict(x_inp.cuda(), n_words=100)"
   ]
  },
  {
   "cell_type": "markdown",
   "metadata": {},
   "source": [
    "Seed - used for prediction"
   ]
  },
  {
   "cell_type": "markdown",
   "metadata": {},
   "source": [
    "Prediction"
   ]
  },
  {
   "cell_type": "code",
   "execution_count": 48,
   "metadata": {},
   "outputs": [
    {
     "ename": "IndexError",
     "evalue": "index 136 is out of bounds for axis 2 with size 128",
     "output_type": "error",
     "traceback": [
      "\u001b[0;31m---------------------------------------------------------------------------\u001b[0m",
      "\u001b[0;31mIndexError\u001b[0m                                Traceback (most recent call last)",
      "\u001b[0;32m<ipython-input-48-8412d20d1e27>\u001b[0m in \u001b[0;36m<module>\u001b[0;34m\u001b[0m\n\u001b[1;32m      1\u001b[0m \u001b[0;31m# Prediction\u001b[0m\u001b[0;34m\u001b[0m\u001b[0;34m\u001b[0m\u001b[0;34m\u001b[0m\u001b[0m\n\u001b[0;32m----> 2\u001b[0;31m \u001b[0mstream\u001b[0m \u001b[0;34m=\u001b[0m \u001b[0mnpenc2stream\u001b[0m\u001b[0;34m(\u001b[0m\u001b[0mout\u001b[0m\u001b[0;34m)\u001b[0m\u001b[0;34m\u001b[0m\u001b[0;34m\u001b[0m\u001b[0m\n\u001b[0m\u001b[1;32m      3\u001b[0m \u001b[0mstream\u001b[0m\u001b[0;34m.\u001b[0m\u001b[0mshow\u001b[0m\u001b[0;34m(\u001b[0m\u001b[0;34m)\u001b[0m\u001b[0;34m\u001b[0m\u001b[0;34m\u001b[0m\u001b[0m\n",
      "\u001b[0;32m<ipython-input-32-ee46c050a11b>\u001b[0m in \u001b[0;36mnpenc2stream\u001b[0;34m(arr, bpm)\u001b[0m\n\u001b[1;32m     12\u001b[0m     \u001b[0;34m\"Converts numpy encoding to music21 stream\"\u001b[0m\u001b[0;34m\u001b[0m\u001b[0;34m\u001b[0m\u001b[0m\n\u001b[1;32m     13\u001b[0m     \u001b[0mnpenc\u001b[0m \u001b[0;34m=\u001b[0m \u001b[0mto_double_stream\u001b[0m\u001b[0;34m(\u001b[0m\u001b[0marr\u001b[0m\u001b[0;34m)\u001b[0m\u001b[0;34m\u001b[0m\u001b[0;34m\u001b[0m\u001b[0m\n\u001b[0;32m---> 14\u001b[0;31m     \u001b[0mchordarr\u001b[0m \u001b[0;34m=\u001b[0m \u001b[0mnpenc2chordarr\u001b[0m\u001b[0;34m(\u001b[0m\u001b[0mnpenc\u001b[0m\u001b[0;34m)\u001b[0m \u001b[0;31m# 1.\u001b[0m\u001b[0;34m\u001b[0m\u001b[0;34m\u001b[0m\u001b[0m\n\u001b[0m\u001b[1;32m     15\u001b[0m     \u001b[0;32mreturn\u001b[0m \u001b[0mchordarr2stream\u001b[0m\u001b[0;34m(\u001b[0m\u001b[0mchordarr\u001b[0m\u001b[0;34m,\u001b[0m \u001b[0mbpm\u001b[0m\u001b[0;34m=\u001b[0m\u001b[0mbpm\u001b[0m\u001b[0;34m)\u001b[0m \u001b[0;31m# 2.\u001b[0m\u001b[0;34m\u001b[0m\u001b[0;34m\u001b[0m\u001b[0m\n",
      "\u001b[0;32m~/refactor_midi_generator/midi_generator/src/encode_data.py\u001b[0m in \u001b[0;36mnpenc2chordarr\u001b[0;34m(npenc, note_size)\u001b[0m\n\u001b[1;32m    174\u001b[0m             \u001b[0midx\u001b[0m \u001b[0;34m+=\u001b[0m \u001b[0md\u001b[0m\u001b[0;34m\u001b[0m\u001b[0;34m\u001b[0m\u001b[0m\n\u001b[1;32m    175\u001b[0m             \u001b[0;32mcontinue\u001b[0m\u001b[0;34m\u001b[0m\u001b[0;34m\u001b[0m\u001b[0m\n\u001b[0;32m--> 176\u001b[0;31m         \u001b[0mscore_arr\u001b[0m\u001b[0;34m[\u001b[0m\u001b[0midx\u001b[0m\u001b[0;34m,\u001b[0m\u001b[0mi\u001b[0m\u001b[0;34m,\u001b[0m\u001b[0mn\u001b[0m\u001b[0;34m]\u001b[0m \u001b[0;34m=\u001b[0m \u001b[0md\u001b[0m\u001b[0;34m\u001b[0m\u001b[0;34m\u001b[0m\u001b[0m\n\u001b[0m\u001b[1;32m    177\u001b[0m     \u001b[0;32mreturn\u001b[0m \u001b[0mscore_arr\u001b[0m\u001b[0;34m\u001b[0m\u001b[0;34m\u001b[0m\u001b[0m\n\u001b[1;32m    178\u001b[0m \u001b[0;34m\u001b[0m\u001b[0m\n",
      "\u001b[0;31mIndexError\u001b[0m: index 136 is out of bounds for axis 2 with size 128"
     ]
    }
   ],
   "source": [
    "# Prediction\n",
    "stream = npenc2stream(out)\n",
    "stream.show()"
   ]
  },
  {
   "cell_type": "code",
   "execution_count": 49,
   "metadata": {},
   "outputs": [
    {
     "data": {
      "text/html": [
       "\n",
       "                <div id='midiPlayerDiv5451'></div>\n",
       "                <link rel=\"stylesheet\" href=\"//cuthbertLab.github.io/music21j/css/m21.css\"\n",
       "                    type=\"text/css\" />\n",
       "                <script>\n",
       "                require.config({\n",
       "                    paths: {'music21': '//cuthbertLab.github.io/music21j/src/music21'}\n",
       "                });\n",
       "                require(['music21'], function() {\n",
       "                               mp = new music21.miditools.MidiPlayer();\n",
       "                               mp.addPlayer('#midiPlayerDiv5451');\n",
       "                               mp.base64Load('data:audio/midi;base64,TVRoZAAAAAYAAQABBABNVHJrAAABIgD/AwVQaWFubwDAAADgAEAAwAAA/1EDB6EgggCQN1qCAIA3AACQNlqCAIA2AACQLVqCAIAtAACQNVqCAIA1AACQNFqCAIA0AACQLVqCAIAtAACQNVqCAIA1AACQNFqCAIA0AACQLVqGAIAtAACQN1qCAIA3AACQNlqCAIA2AACQN1qCAIA3AACQPVqCAIA9AACQNFoAkDdaAJA7WqAAgDQAAIA3AACAOwAAkDRaAJA3WgCQOVoAkDxakACANAAAgDcAAIA5AACAPAAAkDRaAJA3WgCQO1qQAIA0AACANwAAgDsAAJArWgCQLloAkDJasACAKwAAgC4AAIAyAACQK1oAkC1aAJAwWgCQNFqIAIArAACALQAAgDAAAIA0AIgA/y8A');\n",
       "                        });\n",
       "                </script>"
      ],
      "text/plain": [
       "<IPython.core.display.HTML object>"
      ]
     },
     "metadata": {},
     "output_type": "display_data"
    }
   ],
   "source": [
    "stream.show('midi')"
   ]
  }
 ],
 "metadata": {
  "kernelspec": {
   "display_name": "Python 3",
   "language": "python",
   "name": "python3"
  },
  "language_info": {
   "codemirror_mode": {
    "name": "ipython",
    "version": 3
   },
   "file_extension": ".py",
   "mimetype": "text/x-python",
   "name": "python",
   "nbconvert_exporter": "python",
   "pygments_lexer": "ipython3",
   "version": "3.7.3"
  }
 },
 "nbformat": 4,
 "nbformat_minor": 2
}

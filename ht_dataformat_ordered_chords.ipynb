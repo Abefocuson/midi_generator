{
 "cells": [
  {
   "cell_type": "code",
   "execution_count": 1,
   "metadata": {},
   "outputs": [],
   "source": [
    "%reload_ext autoreload\n",
    "%autoreload 2\n",
    "%matplotlib inline"
   ]
  },
  {
   "cell_type": "code",
   "execution_count": 2,
   "metadata": {},
   "outputs": [],
   "source": [
    "import xmltodict\n",
    "import os\n",
    "import json\n",
    "import pickle\n",
    "from lxml import etree\n"
   ]
  },
  {
   "cell_type": "code",
   "execution_count": 3,
   "metadata": {},
   "outputs": [],
   "source": [
    "# mode = int(metadata['mode']) if metadata['mode'] is not None else 1\n",
    "# beats_in_measure = int(metadata['beats_in_measure'])\n",
    "\n",
    "# melody, chord = segments_parser(segments, mode, beats_in_measure)"
   ]
  },
  {
   "cell_type": "code",
   "execution_count": 4,
   "metadata": {},
   "outputs": [],
   "source": [
    "from pathlib import Path"
   ]
  },
  {
   "cell_type": "code",
   "execution_count": 5,
   "metadata": {},
   "outputs": [],
   "source": [
    "version = 'v7'\n",
    "data_path = Path('data/midi')\n",
    "version_path = data_path/version\n",
    "orig_path = version_path/'midi_sources'"
   ]
  },
  {
   "cell_type": "code",
   "execution_count": 6,
   "metadata": {},
   "outputs": [],
   "source": [
    "from fastai.data_block import get_files"
   ]
  },
  {
   "cell_type": "code",
   "execution_count": 7,
   "metadata": {},
   "outputs": [],
   "source": [
    "h_path = orig_path/'hooktheory'"
   ]
  },
  {
   "cell_type": "code",
   "execution_count": 8,
   "metadata": {},
   "outputs": [
    {
     "data": {
      "text/plain": [
       "[PosixPath('data/midi/v7/midi_sources/hooktheory/xml/w/wayne-sharpe/yu-gi-oh-theme-song/chorus.xml'),\n",
       " PosixPath('data/midi/v7/midi_sources/hooktheory/xml/w/wayne-sharpe/yu-gi-oh-theme-song/intro.xml'),\n",
       " PosixPath('data/midi/v7/midi_sources/hooktheory/xml/w/what-a-day/kiefer/chorus.xml'),\n",
       " PosixPath('data/midi/v7/midi_sources/hooktheory/xml/w/whiteflame/senbonzakura/pre-chorus.xml'),\n",
       " PosixPath('data/midi/v7/midi_sources/hooktheory/xml/w/whiteflame/senbonzakura/verse.xml'),\n",
       " PosixPath('data/midi/v7/midi_sources/hooktheory/xml/w/whiteflame/senbonzakura/chorus.xml'),\n",
       " PosixPath('data/midi/v7/midi_sources/hooktheory/xml/w/wham/last-christmas/verse.xml'),\n",
       " PosixPath('data/midi/v7/midi_sources/hooktheory/xml/w/wham/last-christmas/chorus.xml'),\n",
       " PosixPath('data/midi/v7/midi_sources/hooktheory/xml/w/wham/last-christmas/intro.xml'),\n",
       " PosixPath('data/midi/v7/midi_sources/hooktheory/xml/w/wham/freedom/chorus.xml')]"
      ]
     },
     "execution_count": 8,
     "metadata": {},
     "output_type": "execute_result"
    }
   ],
   "source": [
    "files = get_files(h_path, extensions=['.xml'], recurse=True); files[:10]"
   ]
  },
  {
   "cell_type": "code",
   "execution_count": 9,
   "metadata": {},
   "outputs": [],
   "source": [
    "from src.tab_parser import *"
   ]
  },
  {
   "cell_type": "code",
   "execution_count": 10,
   "metadata": {},
   "outputs": [],
   "source": [
    "from src import roman_to_symbol\n",
    "from src import to_pianoroll\n",
    "from collections import defaultdict\n",
    "from midi_data import keyc_offset"
   ]
  },
  {
   "cell_type": "code",
   "execution_count": 11,
   "metadata": {},
   "outputs": [],
   "source": [
    "def parse_file(file_path):\n",
    "    content = load_data(file_path)\n",
    "    root = xml_parser(content)\n",
    "    metadata, version = get_metadata(root)\n",
    "    segments, num_measures = get_lead_sheet(root, version)\n",
    "    \n",
    "    song = HSong.parse(metadata, segments)\n",
    "    return song"
   ]
  },
  {
   "cell_type": "code",
   "execution_count": 12,
   "metadata": {},
   "outputs": [],
   "source": [
    "import music21"
   ]
  },
  {
   "cell_type": "markdown",
   "metadata": {},
   "source": [
    "### Create config file"
   ]
  },
  {
   "cell_type": "code",
   "execution_count": 13,
   "metadata": {},
   "outputs": [],
   "source": [
    "# sustain=True, sep_octave=True, sus_idx=2, hit_idx=1\n",
    "config_opts = dict(note_octave=4, chord_octave=3, \n",
    "              bim=4, key=0, bpm=120, freq=4, bos_idx=-1, pad_idx=-3, none_idx=-2, enc_offset=3)\n",
    "\n",
    "# none_idx is a rest - checked by cross_entropy, pad_idx is not countd in loss\n",
    "\n",
    "class Config(object):\n",
    "    def __init__(self, d): self.__dict__ = d\n",
    "        \n",
    "config = Config(config_opts)"
   ]
  },
  {
   "cell_type": "markdown",
   "metadata": {},
   "source": [
    "### Constants"
   ]
  },
  {
   "cell_type": "code",
   "execution_count": 14,
   "metadata": {},
   "outputs": [],
   "source": [
    "MODE_TO_KEYOFFSET = {\n",
    "    '1': 0,\n",
    "    '2': 2,\n",
    "    '3': 4,\n",
    "    '4': 5,\n",
    "    '5': 7,\n",
    "    '6': 9,\n",
    "    '7': 11\n",
    "}"
   ]
  },
  {
   "cell_type": "code",
   "execution_count": 15,
   "metadata": {},
   "outputs": [],
   "source": [
    "PITCH_TO_SD = {\n",
    "    0: '1',\n",
    "    1: '1#',\n",
    "    2: '2',\n",
    "    3: '2#',\n",
    "    4: '3',\n",
    "    5: '4',\n",
    "    6: '4#',\n",
    "    7: '5',\n",
    "    8: '5#',\n",
    "    9: '6',\n",
    "    10:'6#',\n",
    "    11:'7',\n",
    "}\n",
    "\n",
    "SD_TO_PITCH = {v:k for k,v in PITCH_TO_SD.items()}"
   ]
  },
  {
   "cell_type": "markdown",
   "metadata": {},
   "source": [
    "### Classes"
   ]
  },
  {
   "cell_type": "code",
   "execution_count": 16,
   "metadata": {},
   "outputs": [],
   "source": [
    "from dataclasses import dataclass\n",
    "import dataclasses\n",
    "from typing import Dict, Any, AnyStr, List, Sequence, TypeVar, Tuple, Optional, Union"
   ]
  },
  {
   "cell_type": "code",
   "execution_count": 17,
   "metadata": {},
   "outputs": [],
   "source": [
    "def parse(cls, d):\n",
    "    cls_keys = cls.__dataclass_fields__.keys()\n",
    "    kwargs = {key:d[key] for key in cls_keys}\n",
    "    return cls(**kwargs)\n",
    "\n",
    "@dataclass\n",
    "class Base:\n",
    "    @classmethod\n",
    "    def from_dict(cls, d):\n",
    "        cls_keys = cls.__dataclass_fields__.keys()\n",
    "        kwargs = {key:d[key] for key in cls_keys}\n",
    "        return cls(**kwargs)\n",
    "    \n",
    "    @classmethod\n",
    "    def parse(cls, d):\n",
    "        return cls.from_dict(d)"
   ]
  },
  {
   "cell_type": "code",
   "execution_count": 18,
   "metadata": {},
   "outputs": [],
   "source": [
    "@dataclass\n",
    "class HMetadata(Base):\n",
    "    title:str\n",
    "    BPM:str='120'\n",
    "    beats_in_measure:str='4'\n",
    "    key:str='C'\n",
    "    mode:str='1'"
   ]
  },
  {
   "cell_type": "code",
   "execution_count": 19,
   "metadata": {},
   "outputs": [],
   "source": [
    "@dataclass\n",
    "class HBeat(Base):\n",
    "    def __init__(self, abs:float, duration:float, measure:float, rel:float, **kwargs):\n",
    "        self.abs = float(abs)\n",
    "        self.duration = float(duration)\n",
    "        self.measure = float(measure) if measure else None\n",
    "        self.rel = float(rel) if rel else None\n",
    "    @classmethod\n",
    "    def parse_note(cls, d):\n",
    "        return cls(abs=d['start_beat_abs'], \n",
    "                   duration=d['note_length'], \n",
    "                   measure=d['start_measure'],\n",
    "                   rel=d['start_beat'])\n",
    "    @classmethod\n",
    "    def parse_chord(cls, d):\n",
    "        return cls(abs=d['start_beat_abs'], \n",
    "                   duration=d['chord_duration'], \n",
    "                   measure=d['start_measure'],\n",
    "                   rel=d['start_beat'])\n",
    "    \n",
    "    def end_time(self):\n",
    "        return self.duration + self.abs\n",
    "    \n",
    "    def __repr__(self):\n",
    "        return f'abs={self.abs}:dur={self.duration}'\n",
    "        \n",
    "@dataclass\n",
    "class HPitch(Base):\n",
    "    def __init__(self, pitch:int, octave:int, **kwargs):\n",
    "        self.pitch = pitch\n",
    "        self.octave = octave\n",
    "    \n",
    "    def sd(self):\n",
    "        return PITCH_TO_SD[self.pitch]\n",
    "    \n",
    "    def abs(self, base_octave:int=0):\n",
    "        if self.octave is None: return self.pitch\n",
    "        return self.pitch + 12 * (self.octave+base_octave)\n",
    "    \n",
    "    def __repr__(self):\n",
    "        return f'sd={self.sd()}:oct={self.octave}'\n",
    "    \n",
    "    @classmethod\n",
    "    def parse_abs_pitch(cls, abs_pitch):\n",
    "        abs_pitch = int(abs_pitch)\n",
    "        pitch = abs_pitch%12\n",
    "        octave = abs_pitch//12\n",
    "        return cls(pitch=pitch, octave=octave)"
   ]
  },
  {
   "cell_type": "code",
   "execution_count": 20,
   "metadata": {},
   "outputs": [],
   "source": [
    "@dataclass\n",
    "class HNote(Base):\n",
    "    def __init__(self, beat:HBeat, pitch:HPitch, **kwargs):\n",
    "        self.beat = beat\n",
    "        self.pitch = pitch\n",
    "        \n",
    "    def to_m21(self)->music21.note.Note:\n",
    "        p = self.pitch.abs(base_octave=config.note_octave)\n",
    "        n = music21.note.Note(p, quarterLength=self.beat.duration)\n",
    "        return n, self.beat.abs\n",
    "    \n",
    "    def end_time(self):\n",
    "        return self.beat.end_time()\n",
    "    \n",
    "    def __repr__(self):\n",
    "        return f'B({self.beat}) P({self.pitch})'\n",
    "    \n",
    "    @classmethod\n",
    "    def parse(cls, d, mode, key_offset):\n",
    "        parsed = roman_to_symbol.hnote_parser(d, mode, key_offset)\n",
    "        pitch = HPitch.parse_abs_pitch(parsed['pitch'])\n",
    "        beat = HBeat.parse_note(d)\n",
    "        return cls(beat=beat, pitch=pitch)"
   ]
  },
  {
   "cell_type": "code",
   "execution_count": 21,
   "metadata": {},
   "outputs": [],
   "source": [
    "def remove_embelishment(d):\n",
    "    d = d.copy()\n",
    "    d['sus'] = None\n",
    "    d['emb'] = None\n",
    "    return d\n",
    "\n",
    "def remove_9_11_chords(d):\n",
    "    d = d.copy()\n",
    "    if isinstance(d.get('fb'), str) and int(d['fb'][0]) > 7: d['fb'] = '9'\n",
    "    return d\n",
    "    \n",
    "def shift_octave(parsed):\n",
    "    lowest = min(parsed['composition'])\n",
    "    if lowest >= 12:\n",
    "        parsed = parsed.copy()\n",
    "        parsed = roman_to_symbol.chord_key_shifting(parsed, -12)\n",
    "        # reset chord name\n",
    "        new_s = roman_to_symbol.chord_to_string(parsed)\n",
    "        parsed['symbol'] = new_s\n",
    "    return parsed\n",
    "\n",
    "@dataclass\n",
    "class HChord(Base):\n",
    "    def __init__(self, beat:HBeat, pitches:List[HPitch], \n",
    "                 composition:List[int]=None, symbol:str=None, quality:str=None, metadata=None, **kwargs):\n",
    "        self.beat = beat\n",
    "        self.pitches = pitches\n",
    "        self.composition, self.symbol, self.quality = composition, symbol, quality\n",
    "        self.metadata = None\n",
    "        \n",
    "    def end_time(self):\n",
    "        return self.beat.end_time()\n",
    "        \n",
    "    def to_m21(self)->music21.chord.Chord:\n",
    "        notes = [p.abs(base_octave=config.chord_octave) for p in self.pitches]\n",
    "        c = music21.chord.Chord(notes, quarterLength=self.beat.duration)\n",
    "        return c, float(self.beat.abs)\n",
    "    \n",
    "    def __repr__(self):\n",
    "        return f'B({self.beat}) C([{self.pitches}])'# + ' Comp:' + str(self.composition)\n",
    "\n",
    "    @classmethod\n",
    "    def parse(cls, d, mode, key_offset, reset_to_base=True, remove_emb=False, remove_large=True):\n",
    "        if remove_emb: d = remove_embelishment(d)\n",
    "        if remove_large: remove_9_11_chords(d)\n",
    "        if d.get('emb') == 'add4': d['emb'] = None\n",
    "        parsed = roman_to_symbol.hchord_parser(d, mode, key_offset)\n",
    "        \n",
    "        # After offset, let's reset the chord to be the lowest possible offset on new scale\n",
    "        if reset_to_base: parsed = shift_octave(parsed)\n",
    "        parsed['composition'] = parsed['composition'].astype(int).tolist()\n",
    "        \n",
    "        beat = HBeat.parse_chord(d)\n",
    "        pitches = [HPitch.parse_abs_pitch(p) for p in sorted(parsed['composition'])] # first pitch = base note\n",
    "        \n",
    "        return cls(beat=beat, pitches=pitches, metadata=parsed, **parsed)"
   ]
  },
  {
   "cell_type": "code",
   "execution_count": 22,
   "metadata": {},
   "outputs": [],
   "source": [
    "def default_stream(cls=music21.stream.Score, ts='4/4', bpm=120, ks=0):\n",
    "    # (AS) TODO: use config ts or metadata\n",
    "    s = cls()\n",
    "    s.append(music21.instrument.Piano())\n",
    "    s.append(music21.meter.TimeSignature(ts))\n",
    "    s.append(music21.tempo.MetronomeMark(number=bpm))\n",
    "#     s.append(music21.key.KeySignature(ks))\n",
    "    s.append(music21.key.Key('C'))\n",
    "    return s"
   ]
  },
  {
   "cell_type": "code",
   "execution_count": 23,
   "metadata": {},
   "outputs": [],
   "source": [
    "@dataclass\n",
    "class HPart(Base):\n",
    "    notes: List[HNote]\n",
    "    chords: List[HChord]\n",
    "        \n",
    "    @classmethod\n",
    "    def parse(cls, d, metadata):\n",
    "        mode = metadata['mode'] or '1'\n",
    "        key_offset = MODE_TO_KEYOFFSET.get(mode, 0)\n",
    "        ns = [HNote.parse(n, mode, key_offset) for n in d.get('notes', []) if n['scale_degree'] != 'rest']\n",
    "        cs = [HChord.parse(c, mode, key_offset) for c in d.get('chords', []) if c['sd'] != 'rest']\n",
    "        ns = sorted(ns, key=lambda n: n.end_time())\n",
    "        cs = sorted(cs, key=lambda c: c.end_time())\n",
    "        return cls(notes=ns, chords=cs)\n",
    "    \n",
    "    def __repr__(self):\n",
    "        chords = '[Chords]:\\n' + '\\n'.join([str(c) for c in self.chords])\n",
    "        notes = '[Notes]:\\n' + '\\n'.join([str(n) for n in self.notes])\n",
    "        return chords + '\\n\\n' + notes\n",
    "    \n",
    "    def duration(self):\n",
    "        c_last = self.chords[-1].end_time() if self.chords else 0\n",
    "        n_last = self.notes[-1].end_time() if self.notes else 0\n",
    "        return max(c_last, n_last)\n",
    "    \n",
    "    def to_m21(self)->music21.stream.Stream:\n",
    "        mc = music21.stream.Part()\n",
    "        mn = music21.stream.Part()\n",
    "        \n",
    "        cm21 = [c.to_m21() for c in self.chords]\n",
    "        for c,d in cm21: mc.insert(d,c)\n",
    "            \n",
    "        nm21 = [n.to_m21() for n in self.notes]\n",
    "        for n,d in nm21: mn.insert(d,n)\n",
    "        return mn, mc\n",
    "        \n",
    "    def min_pitch(self):\n",
    "        return min([n.pitch for n in self.notes])"
   ]
  },
  {
   "cell_type": "code",
   "execution_count": 24,
   "metadata": {},
   "outputs": [],
   "source": [
    "@dataclass\n",
    "class HSong(Base):\n",
    "    metadata: HMetadata\n",
    "    parts: List[HPart]\n",
    "    \n",
    "    @classmethod\n",
    "    def parse(cls, metadata, segments):\n",
    "        m = HMetadata.parse(metadata)\n",
    "        ps = [HPart.parse(s, metadata) for s in segments]\n",
    "        return cls(metadata=m, parts=ps)\n",
    "    \n",
    "    def duration(self):\n",
    "        return sum(p.duration() for p in self.parts)\n",
    "    \n",
    "    \n",
    "    def __repr__(self):\n",
    "        parts = ''\n",
    "        for idx,p in enumerate(self.parts):\n",
    "            parts += f'Part[{idx}]:\\n' + str(p) + '\\n\\n'\n",
    "        return parts + '\\n\\n' + str(self.metadata)\n",
    "    \n",
    "    def to_stream(self):\n",
    "        s = default_stream()\n",
    "        pc = music21.stream.Part()\n",
    "        pn = music21.stream.Part()\n",
    "        \n",
    "        for p in self.parts:\n",
    "            mn, mc = p.to_m21()\n",
    "            pn.append(mn)\n",
    "            pc.append(mc)\n",
    "            \n",
    "        s.insert(0, pn)\n",
    "        s.insert(0, pc)\n",
    "\n",
    "#         s.flat.makeNotation(inPlace=True)\n",
    "        s = s.transpose(0) # hack to get accidentals right. Above method does not work\n",
    "        # music21 stream\n",
    "        return s"
   ]
  },
  {
   "cell_type": "code",
   "execution_count": 25,
   "metadata": {},
   "outputs": [],
   "source": [
    "from src import roman_to_symbol\n",
    "from src import to_pianoroll\n",
    "from collections import defaultdict\n",
    "from midi_data import keyc_offset"
   ]
  },
  {
   "cell_type": "code",
   "execution_count": 26,
   "metadata": {},
   "outputs": [],
   "source": [
    "import numpy as np\n",
    "from collections import Counter, defaultdict"
   ]
  },
  {
   "cell_type": "code",
   "execution_count": 27,
   "metadata": {},
   "outputs": [],
   "source": [
    "np.set_printoptions(edgeitems=10, threshold=40, linewidth=200)"
   ]
  },
  {
   "cell_type": "code",
   "execution_count": 28,
   "metadata": {},
   "outputs": [],
   "source": [
    "from src.roman_to_symbol import *"
   ]
  },
  {
   "cell_type": "markdown",
   "metadata": {},
   "source": [
    "## Testing xml to hsong"
   ]
  },
  {
   "cell_type": "code",
   "execution_count": 29,
   "metadata": {},
   "outputs": [
    {
     "data": {
      "text/plain": [
       "[PosixPath('data/midi/v7/midi_sources/hooktheory/xml/i/idina-menzel/let-it-go/intro.xml'),\n",
       " PosixPath('data/midi/v7/midi_sources/hooktheory/xml/i/idina-menzel/let-it-go/intro-and-verse.xml')]"
      ]
     },
     "execution_count": 29,
     "metadata": {},
     "output_type": "execute_result"
    }
   ],
   "source": [
    "# Loading from specific file\n",
    "# keywords = ['get-lucky', 'daft-punk', 'pre-chorus']\n",
    "# keywords = ['skrillex', 'scary']\n",
    "# keywords = ['idina', 'verse', 'let']\n",
    "keywords = ['idina', 'intro', 'let']\n",
    "# keywords = ['game-of-thrones', 'intro', 'ramin']\n",
    "# keywords = ['kiss-from-a-rose', 'seal']\n",
    "def contains_keywords(f): return all([k in str(f) for k in keywords])\n",
    "search = [f for f in files if contains_keywords(f)]; search"
   ]
  },
  {
   "cell_type": "code",
   "execution_count": 30,
   "metadata": {},
   "outputs": [],
   "source": [
    "file_path = search[0]"
   ]
  },
  {
   "cell_type": "code",
   "execution_count": 31,
   "metadata": {},
   "outputs": [],
   "source": [
    "content = load_data(file_path)\n",
    "root = xml_parser(content)\n",
    "metadata, version = get_metadata(root)\n",
    "segments, num_measures = get_lead_sheet(root, version)"
   ]
  },
  {
   "cell_type": "code",
   "execution_count": 32,
   "metadata": {},
   "outputs": [
    {
     "data": {
      "text/plain": [
       "Part[0]:\n",
       "[Chords]:\n",
       "B(abs=0.0:dur=4.0) C([[sd=6:oct=0, sd=1:oct=1, sd=3:oct=1]])\n",
       "B(abs=4.0:dur=4.0) C([[sd=4:oct=0, sd=6:oct=0, sd=1:oct=1, sd=3:oct=1]])\n",
       "B(abs=8.0:dur=4.0) C([[sd=5:oct=0, sd=6:oct=0, sd=2:oct=1]])\n",
       "B(abs=12.0:dur=2.0) C([[sd=2:oct=0, sd=5:oct=0, sd=6:oct=0]])\n",
       "B(abs=14.0:dur=2.0) C([[sd=2:oct=0, sd=4:oct=0, sd=6:oct=0]])\n",
       "B(abs=16.0:dur=4.0) C([[sd=6:oct=0, sd=1:oct=1, sd=3:oct=1]])\n",
       "B(abs=20.0:dur=4.0) C([[sd=4:oct=0, sd=6:oct=0, sd=1:oct=1, sd=3:oct=1]])\n",
       "B(abs=24.0:dur=4.0) C([[sd=5:oct=0, sd=6:oct=0, sd=2:oct=1]])\n",
       "B(abs=28.0:dur=2.0) C([[sd=2:oct=0, sd=5:oct=0, sd=6:oct=0]])\n",
       "B(abs=30.0:dur=2.0) C([[sd=2:oct=0, sd=4#:oct=0, sd=6:oct=0]])\n",
       "\n",
       "[Notes]:\n",
       "B(abs=0.0:dur=0.5) P(sd=7:oct=1)\n",
       "B(abs=0.5:dur=0.5) P(sd=1:oct=2)\n",
       "B(abs=1.0:dur=0.5) P(sd=3:oct=1)\n",
       "B(abs=1.5:dur=1.0) P(sd=7:oct=1)\n",
       "B(abs=2.5:dur=0.5) P(sd=1:oct=2)\n",
       "B(abs=4.0:dur=0.5) P(sd=7:oct=1)\n",
       "B(abs=4.5:dur=0.5) P(sd=1:oct=2)\n",
       "B(abs=5.0:dur=0.5) P(sd=3:oct=1)\n",
       "B(abs=5.5:dur=1.0) P(sd=1:oct=2)\n",
       "B(abs=6.5:dur=1.0) P(sd=7:oct=1)\n",
       "B(abs=7.5:dur=0.5) P(sd=2:oct=1)\n",
       "B(abs=8.0:dur=0.5) P(sd=6:oct=1)\n",
       "B(abs=8.5:dur=0.5) P(sd=7:oct=1)\n",
       "B(abs=9.0:dur=0.5) P(sd=2:oct=1)\n",
       "B(abs=9.5:dur=1.0) P(sd=6:oct=1)\n",
       "B(abs=10.5:dur=1.0) P(sd=7:oct=1)\n",
       "B(abs=11.5:dur=0.5) P(sd=2:oct=1)\n",
       "B(abs=12.0:dur=2.0) P(sd=5:oct=1)\n",
       "B(abs=14.0:dur=2.0) P(sd=4:oct=1)\n",
       "B(abs=16.0:dur=0.5) P(sd=7:oct=1)\n",
       "B(abs=16.5:dur=0.5) P(sd=1:oct=2)\n",
       "B(abs=17.0:dur=0.5) P(sd=3:oct=1)\n",
       "B(abs=17.5:dur=1.0) P(sd=7:oct=1)\n",
       "B(abs=18.5:dur=0.5) P(sd=1:oct=2)\n",
       "B(abs=20.0:dur=0.5) P(sd=1:oct=2)\n",
       "B(abs=20.5:dur=0.5) P(sd=7:oct=1)\n",
       "B(abs=21.0:dur=0.5) P(sd=3:oct=1)\n",
       "B(abs=21.5:dur=1.0) P(sd=1:oct=2)\n",
       "B(abs=22.5:dur=1.0) P(sd=7:oct=1)\n",
       "B(abs=23.5:dur=0.5) P(sd=2:oct=1)\n",
       "B(abs=24.0:dur=0.5) P(sd=6:oct=1)\n",
       "B(abs=24.5:dur=0.5) P(sd=7:oct=1)\n",
       "B(abs=25.0:dur=0.5) P(sd=2:oct=1)\n",
       "B(abs=25.5:dur=1.0) P(sd=6:oct=1)\n",
       "B(abs=26.5:dur=1.0) P(sd=7:oct=1)\n",
       "B(abs=27.5:dur=0.5) P(sd=2:oct=1)\n",
       "B(abs=28.0:dur=2.0) P(sd=5:oct=1)\n",
       "B(abs=30.0:dur=2.0) P(sd=4#:oct=1)\n",
       "\n",
       "\n",
       "\n",
       "HMetadata(title='Let It Go', BPM='137', beats_in_measure='4', key='F', mode='6')"
      ]
     },
     "execution_count": 32,
     "metadata": {},
     "output_type": "execute_result"
    }
   ],
   "source": [
    "song = HSong.parse(metadata, segments); song"
   ]
  },
  {
   "cell_type": "code",
   "execution_count": 33,
   "metadata": {},
   "outputs": [
    {
     "data": {
      "image/png": "[encoded data removed]",
      "text/plain": [
       "<IPython.core.display.Image object>"
      ]
     },
     "metadata": {
      "image/png": {
       "height": 329,
       "width": 751
      }
     },
     "output_type": "display_data"
    }
   ],
   "source": [
    "stream = song.to_stream()\n",
    "# stream.show('midi')\n",
    "stream.show()"
   ]
  },
  {
   "cell_type": "code",
   "execution_count": 34,
   "metadata": {},
   "outputs": [],
   "source": [
    "ENC_IDXS = [0,1,2,3,4,5,6,7,8,9]\n",
    "iN,iNO,iND,iC1,iC2,iC3,iC4,iCD,iB,iM = ENC_IDXS\n",
    "CIDXS = [iC1,iC2,iC3,iC4]\n",
    "NIDX_ALL = [iN,iNO,iND]\n",
    "BIDX_ALL = [iB,iM]\n",
    "\n",
    "def enc_part(part):\n",
    "#     '(pitch x octave x sustain) x (chord_sd x base x suspend, sustain) x (bar_position x beat_pos)'\n",
    "    '(pitch x octave x dur) x (c1,c2,c3,c4,dur) x (bar_position x beat_pos)'\n",
    "    max_len = int(part.duration()*config.freq)\n",
    "    sequence = np.full((max_len, len(ENC_IDXS)), fill_value=config.pad_idx, dtype=int)\n",
    "    sequence[:,[iN,iC1]] = config.none_idx\n",
    "    \n",
    "    # beat_pos\n",
    "    bim = config.bim # beats_in_measure = 4\n",
    "    sequence[:, iB] = np.tile(np.arange(bim).repeat(config.freq), int(part.duration())//bim+1)[:sequence.shape[0]]\n",
    "    # bar_pos\n",
    "    sequence[:, iM] = np.arange(part.duration()//bim+1).repeat(config.freq*bim)[:sequence.shape[0]]\n",
    "    \n",
    "    def enc_beat(beat):\n",
    "        start = round(beat.abs * config.freq, 6) # float conversion error\n",
    "        duration = round(beat.duration * config.freq, 6)\n",
    "        end = start+duration\n",
    "        \n",
    "        assert(start.is_integer() and duration.is_integer())\n",
    "        return start, end, duration\n",
    "    \n",
    "    for n in part.notes:\n",
    "        start, end, duration = enc_beat(n.beat)\n",
    "        sequence[int(start),NIDX_ALL] = n.pitch.pitch, n.pitch.octave, duration\n",
    "#         sequence[int(start),0:2] = n.beat.rel-1, n.beat.measure-1\n",
    "        \n",
    "    for c in part.chords:\n",
    "        start, end, duration = enc_beat(c.beat)\n",
    "        for idx, p in zip(CIDXS,c.pitches):\n",
    "            sequence[int(start),idx] = p.pitch\n",
    "        sequence[int(start),iCD] = duration\n",
    "#         sequence[int(start),2:4] = c.beat.rel-1, c.beat.measure-1\n",
    "    return sequence"
   ]
  },
  {
   "cell_type": "code",
   "execution_count": 35,
   "metadata": {},
   "outputs": [],
   "source": [
    "def enc_song(song):\n",
    "    eps = [enc_part(p) for p in song.parts]\n",
    "    cat = np.concatenate(eps)\n",
    "    bos_row = np.full((1, cat.shape[-1]), fill_value=config.pad_idx)\n",
    "    bos_row[:,[iN,iC1]] = config.bos_idx\n",
    "    enc_all = np.concatenate((bos_row, cat))\n",
    "    return enc_all + config.enc_offset"
   ]
  },
  {
   "cell_type": "markdown",
   "metadata": {},
   "source": [
    "### NOTE: need to figure out if measure should be relative to individual parts or the whole song"
   ]
  },
  {
   "cell_type": "code",
   "execution_count": 36,
   "metadata": {},
   "outputs": [],
   "source": [
    "def dec_beat(duration, beat_abs, ts):\n",
    "    if (ts.shape[0] == len(ENC_IDXS)):\n",
    "        rel,measure = ts[BIDX_ALL]+1 # +1 as hook is offset by 1\n",
    "    else:\n",
    "        rel,measure = None, None \n",
    "    return HBeat(abs=beat_abs/config.freq, duration=duration/config.freq, \n",
    "                 rel=rel, measure=measure)\n",
    "    \n",
    "def dec_note(ts, beat_abs):\n",
    "    p,o,dur = ts[NIDX_ALL]\n",
    "    \n",
    "    beat = dec_beat(dur, beat_abs, ts)\n",
    "    pitch = HPitch(octave=o, pitch=p)\n",
    "    note = HNote(beat=beat, pitch=pitch)\n",
    "    return note\n",
    "\n",
    "def is_padding(val): \n",
    "    return val < 0\n",
    "#     return val in [config.pad_idx, config.bos_idx, config.none_idx]\n",
    "\n",
    "def dec_chord(ts, beat_abs):\n",
    "    \n",
    "    beat = dec_beat(ts[iCD], beat_abs, ts)\n",
    "    \n",
    "    octave = 0\n",
    "    pitches = []\n",
    "    pvals = ts[CIDXS]\n",
    "    for idx,p in enumerate(pvals):\n",
    "        if (idx > 0) and (p < pvals[idx-1]): \n",
    "            octave += 1\n",
    "        if is_padding(p): continue\n",
    "        pitches.append(HPitch(pitch=int(p), octave=octave))\n",
    "    chord = HChord(pitches=pitches, beat=beat)\n",
    "    return chord\n",
    "\n",
    "def dec_part(part):\n",
    "    '(pitch x octave x dur) x (c1,c2,c3,c4,dur) x (bar_position x beat_pos)'\n",
    "    notes = [dec_note(ts,idx) for idx,ts in enumerate(part) if not is_padding(ts[iN])]\n",
    "    chords = [dec_chord(ts,idx) for idx,ts in enumerate(part) if not is_padding(ts[iC1])]\n",
    "    \n",
    "    return HPart(notes=notes, chords=chords)\n",
    "\n",
    "def dec_arr(arr):\n",
    "    arr = arr-config.enc_offset\n",
    "    if any(arr[0] == config.bos_idx):\n",
    "        arr = arr[1:]\n",
    "    dp = dec_part(arr)\n",
    "    return HSong(parts=[dp], metadata=HMetadata('decoded'))"
   ]
  },
  {
   "cell_type": "code",
   "execution_count": 37,
   "metadata": {},
   "outputs": [],
   "source": [
    "encs = enc_song(song)"
   ]
  },
  {
   "cell_type": "code",
   "execution_count": 38,
   "metadata": {},
   "outputs": [
    {
     "data": {
      "text/plain": [
       "Part[0]:\n",
       "[Chords]:\n",
       "B(abs=0.0:dur=4.0) C([[sd=6:oct=0, sd=1:oct=1, sd=3:oct=1]])\n",
       "B(abs=4.0:dur=4.0) C([[sd=4:oct=0, sd=6:oct=0, sd=1:oct=1, sd=3:oct=1]])\n",
       "B(abs=8.0:dur=4.0) C([[sd=5:oct=0, sd=6:oct=0, sd=2:oct=1]])\n",
       "B(abs=12.0:dur=2.0) C([[sd=2:oct=0, sd=5:oct=0, sd=6:oct=0]])\n",
       "B(abs=14.0:dur=2.0) C([[sd=2:oct=0, sd=4:oct=0, sd=6:oct=0]])\n",
       "B(abs=16.0:dur=4.0) C([[sd=6:oct=0, sd=1:oct=1, sd=3:oct=1]])\n",
       "B(abs=20.0:dur=4.0) C([[sd=4:oct=0, sd=6:oct=0, sd=1:oct=1, sd=3:oct=1]])\n",
       "B(abs=24.0:dur=4.0) C([[sd=5:oct=0, sd=6:oct=0, sd=2:oct=1]])\n",
       "B(abs=28.0:dur=2.0) C([[sd=2:oct=0, sd=5:oct=0, sd=6:oct=0]])\n",
       "B(abs=30.0:dur=2.0) C([[sd=2:oct=0, sd=4#:oct=0, sd=6:oct=0]])\n",
       "\n",
       "[Notes]:\n",
       "B(abs=0.0:dur=0.5) P(sd=7:oct=1)\n",
       "B(abs=0.5:dur=0.5) P(sd=1:oct=2)\n",
       "B(abs=1.0:dur=0.5) P(sd=3:oct=1)\n",
       "B(abs=1.5:dur=1.0) P(sd=7:oct=1)\n",
       "B(abs=2.5:dur=0.5) P(sd=1:oct=2)\n",
       "B(abs=4.0:dur=0.5) P(sd=7:oct=1)\n",
       "B(abs=4.5:dur=0.5) P(sd=1:oct=2)\n",
       "B(abs=5.0:dur=0.5) P(sd=3:oct=1)\n",
       "B(abs=5.5:dur=1.0) P(sd=1:oct=2)\n",
       "B(abs=6.5:dur=1.0) P(sd=7:oct=1)\n",
       "B(abs=7.5:dur=0.5) P(sd=2:oct=1)\n",
       "B(abs=8.0:dur=0.5) P(sd=6:oct=1)\n",
       "B(abs=8.5:dur=0.5) P(sd=7:oct=1)\n",
       "B(abs=9.0:dur=0.5) P(sd=2:oct=1)\n",
       "B(abs=9.5:dur=1.0) P(sd=6:oct=1)\n",
       "B(abs=10.5:dur=1.0) P(sd=7:oct=1)\n",
       "B(abs=11.5:dur=0.5) P(sd=2:oct=1)\n",
       "B(abs=12.0:dur=2.0) P(sd=5:oct=1)\n",
       "B(abs=14.0:dur=2.0) P(sd=4:oct=1)\n",
       "B(abs=16.0:dur=0.5) P(sd=7:oct=1)\n",
       "B(abs=16.5:dur=0.5) P(sd=1:oct=2)\n",
       "B(abs=17.0:dur=0.5) P(sd=3:oct=1)\n",
       "B(abs=17.5:dur=1.0) P(sd=7:oct=1)\n",
       "B(abs=18.5:dur=0.5) P(sd=1:oct=2)\n",
       "B(abs=20.0:dur=0.5) P(sd=1:oct=2)\n",
       "B(abs=20.5:dur=0.5) P(sd=7:oct=1)\n",
       "B(abs=21.0:dur=0.5) P(sd=3:oct=1)\n",
       "B(abs=21.5:dur=1.0) P(sd=1:oct=2)\n",
       "B(abs=22.5:dur=1.0) P(sd=7:oct=1)\n",
       "B(abs=23.5:dur=0.5) P(sd=2:oct=1)\n",
       "B(abs=24.0:dur=0.5) P(sd=6:oct=1)\n",
       "B(abs=24.5:dur=0.5) P(sd=7:oct=1)\n",
       "B(abs=25.0:dur=0.5) P(sd=2:oct=1)\n",
       "B(abs=25.5:dur=1.0) P(sd=6:oct=1)\n",
       "B(abs=26.5:dur=1.0) P(sd=7:oct=1)\n",
       "B(abs=27.5:dur=0.5) P(sd=2:oct=1)\n",
       "B(abs=28.0:dur=2.0) P(sd=5:oct=1)\n",
       "B(abs=30.0:dur=2.0) P(sd=4#:oct=1)\n",
       "\n",
       "\n",
       "\n",
       "HMetadata(title='decoded', BPM='120', beats_in_measure='4', key='C', mode='1')"
      ]
     },
     "execution_count": 38,
     "metadata": {},
     "output_type": "execute_result"
    }
   ],
   "source": [
    "dec_song = dec_arr(encs); dec_song"
   ]
  },
  {
   "cell_type": "code",
   "execution_count": 39,
   "metadata": {},
   "outputs": [],
   "source": [
    "dec_stream = dec_song.to_stream()"
   ]
  },
  {
   "cell_type": "code",
   "execution_count": 40,
   "metadata": {},
   "outputs": [
    {
     "data": {
      "image/png": "[encoded data removed]",
      "text/plain": [
       "<IPython.core.display.Image object>"
      ]
     },
     "metadata": {
      "image/png": {
       "height": 329,
       "width": 751
      }
     },
     "output_type": "display_data"
    }
   ],
   "source": [
    "dec_stream.show()"
   ]
  },
  {
   "cell_type": "code",
   "execution_count": 41,
   "metadata": {},
   "outputs": [
    {
     "data": {
      "text/html": [
       "\n",
       "                <div id='midiPlayerDiv3116'></div>\n",
       "                <link rel=\"stylesheet\" href=\"//cuthbertLab.github.io/music21j/css/m21.css\"\n",
       "                    type=\"text/css\" />\n",
       "                <script>\n",
       "                require.config({\n",
       "                    paths: {'music21': '//cuthbertLab.github.io/music21j/src/music21'}\n",
       "                });\n",
       "                require(['music21'], function() {\n",
       "                               mp = new music21.miditools.MidiPlayer();\n",
       "                               mp.addPlayer('#midiPlayerDiv3116');\n",
       "                               mp.base64Load('data:audio/midi;base64,TVRoZAAAAAYAAQACBABNVHJrAAABbAD/AwAA4ABAAP9RAwehIACQR1qEAIBHAACQSFqEAIBIAACQQFqEAIBAAACQR1qIAIBHAACQSFqEAIBIAIgAkEdahACARwAAkEhahACASAAAkEBahACAQAAAkEhaiACASAAAkEdaiACARwAAkD5ahACAPgAAkEVahACARQAAkEdahACARwAAkD5ahACAPgAAkEVaiACARQAAkEdaiACARwAAkD5ahACAPgAAkENakACAQwAAkEFakACAQQAAkEdahACARwAAkEhahACASAAAkEBahACAQAAAkEdaiACARwAAkEhahACASACIAJBIWoQAgEgAAJBHWoQAgEcAAJBAWoQAgEAAAJBIWogAgEgAAJBHWogAgEcAAJA+WoQAgD4AAJBFWoQAgEUAAJBHWoQAgEcAAJA+WoQAgD4AAJBFWogAgEUAAJBHWogAgEcAAJA+WoQAgD4AAJBDWpAAgEMAAJBCWpAAgEIAiAD/LwBNVHJrAAABFwD/AwAA4ABAAJAtWgCQMFoAkDRaoACALQAAgDAAAIA0AACQKVoAkC1aAJAwWgCQNFqgAIApAACALQAAgDAAAIA0AACQK1oAkC1aAJAyWqAAgCsAAIAtAACAMgAAkCZaAJArWgCQLVqQAIAmAACAKwAAgC0AAJAmWgCQKVoAkC1akACAJgAAgCkAAIAtAACQLVoAkDBaAJA0WqAAgC0AAIAwAACANAAAkClaAJAtWgCQMFoAkDRaoACAKQAAgC0AAIAwAACANAAAkCtaAJAtWgCQMlqgAIArAACALQAAgDIAAJAmWgCQK1oAkC1akACAJgAAgCsAAIAtAACQJloAkCpaAJAtWpAAgCYAAIAqAACALQCIAP8vAA==');\n",
       "                        });\n",
       "                </script>"
      ],
      "text/plain": [
       "<IPython.core.display.HTML object>"
      ]
     },
     "metadata": {},
     "output_type": "display_data"
    }
   ],
   "source": [
    "dec_stream.show('midi')"
   ]
  },
  {
   "cell_type": "markdown",
   "metadata": {},
   "source": [
    "### Encode all songs"
   ]
  },
  {
   "cell_type": "code",
   "execution_count": 42,
   "metadata": {},
   "outputs": [],
   "source": [
    "from fastai.data_block import get_files"
   ]
  },
  {
   "cell_type": "code",
   "execution_count": 43,
   "metadata": {},
   "outputs": [],
   "source": [
    "out_path = version_path/'midi_encode/np/hook_dur/'\n",
    "out_dir = out_path/'hooktheory'\n",
    "h_path = orig_path/'hooktheory/xml'"
   ]
  },
  {
   "cell_type": "code",
   "execution_count": 44,
   "metadata": {},
   "outputs": [
    {
     "data": {
      "text/plain": [
       "[PosixPath('data/midi/v7/midi_sources/hooktheory/xml/w/wayne-sharpe/yu-gi-oh-theme-song/chorus.xml'),\n",
       " PosixPath('data/midi/v7/midi_sources/hooktheory/xml/w/wayne-sharpe/yu-gi-oh-theme-song/intro.xml'),\n",
       " PosixPath('data/midi/v7/midi_sources/hooktheory/xml/w/what-a-day/kiefer/chorus.xml'),\n",
       " PosixPath('data/midi/v7/midi_sources/hooktheory/xml/w/whiteflame/senbonzakura/pre-chorus.xml'),\n",
       " PosixPath('data/midi/v7/midi_sources/hooktheory/xml/w/whiteflame/senbonzakura/verse.xml'),\n",
       " PosixPath('data/midi/v7/midi_sources/hooktheory/xml/w/whiteflame/senbonzakura/chorus.xml'),\n",
       " PosixPath('data/midi/v7/midi_sources/hooktheory/xml/w/wham/last-christmas/verse.xml'),\n",
       " PosixPath('data/midi/v7/midi_sources/hooktheory/xml/w/wham/last-christmas/chorus.xml'),\n",
       " PosixPath('data/midi/v7/midi_sources/hooktheory/xml/w/wham/last-christmas/intro.xml'),\n",
       " PosixPath('data/midi/v7/midi_sources/hooktheory/xml/w/wham/freedom/chorus.xml')]"
      ]
     },
     "execution_count": 44,
     "metadata": {},
     "output_type": "execute_result"
    }
   ],
   "source": [
    "files = get_files(h_path, extensions=['.xml'], recurse=True); files[:10]"
   ]
  },
  {
   "cell_type": "code",
   "execution_count": 45,
   "metadata": {},
   "outputs": [
    {
     "data": {
      "text/plain": [
       "{'title': 'Let It Go',\n",
       " 'beats_in_measure': '4',\n",
       " 'BPM': '137',\n",
       " 'key': 'F',\n",
       " 'YouTubeID': 'moSFlvxnbgk',\n",
       " 'mode': '6',\n",
       " 'duration': '16.81'}"
      ]
     },
     "execution_count": 45,
     "metadata": {},
     "output_type": "execute_result"
    }
   ],
   "source": [
    "metadata"
   ]
  },
  {
   "cell_type": "code",
   "execution_count": 46,
   "metadata": {},
   "outputs": [],
   "source": [
    "def parse_file(file_path):\n",
    "    content = load_data(file_path)\n",
    "    try: \n",
    "        root = xml_parser(content)\n",
    "        metadata, version = get_metadata(root)\n",
    "        segments, num_measures = get_lead_sheet(root, version)\n",
    "    except Exception as e: \n",
    "        print('XML parse exception:', e)\n",
    "        return None\n",
    "    \n",
    "    song = HSong.parse(metadata, segments)\n",
    "    return song"
   ]
  },
  {
   "cell_type": "code",
   "execution_count": 47,
   "metadata": {},
   "outputs": [],
   "source": [
    "def process_file(file):\n",
    "    out_file = file.relative_to(h_path).with_suffix('.npy')\n",
    "    out_path = out_dir/out_file\n",
    "    if out_path.exists(): return out_file, out_file\n",
    "    song = parse_file(file)\n",
    "    if song is None or int(song.metadata.beats_in_measure) != 4: return out_file, None\n",
    "    out_path.parent.mkdir(parents=True, exist_ok=True)\n",
    "    npenc = enc_song(song)\n",
    "    np.save(out_path, npenc)\n",
    "    return out_file, out_file"
   ]
  },
  {
   "cell_type": "code",
   "execution_count": 48,
   "metadata": {},
   "outputs": [
    {
     "data": {
      "text/plain": [
       "(PosixPath('i/idina-menzel/let-it-go/intro.npy'),\n",
       " PosixPath('i/idina-menzel/let-it-go/intro.npy'))"
      ]
     },
     "execution_count": 48,
     "metadata": {},
     "output_type": "execute_result"
    }
   ],
   "source": [
    "process_file(file_path)"
   ]
  },
  {
   "cell_type": "code",
   "execution_count": 49,
   "metadata": {},
   "outputs": [],
   "source": [
    "from data_sources import process_parallel"
   ]
  },
  {
   "cell_type": "code",
   "execution_count": 50,
   "metadata": {},
   "outputs": [],
   "source": [
    "# subset = files\n",
    "# for f in subset:\n",
    "#     process_file(f)"
   ]
  },
  {
   "cell_type": "code",
   "execution_count": 51,
   "metadata": {},
   "outputs": [
    {
     "data": {
      "text/html": [
       "\n",
       "    <div>\n",
       "        <style>\n",
       "            /* Turns off some styling */\n",
       "            progress {\n",
       "                /* gets rid of default border in Firefox and Opera. */\n",
       "                border: none;\n",
       "                /* Needs to be in here for Safari polyfill so background images work as expected. */\n",
       "                background-size: auto;\n",
       "            }\n",
       "            .progress-bar-interrupted, .progress-bar-interrupted::-webkit-progress-bar {\n",
       "                background: #F44336;\n",
       "            }\n",
       "        </style>\n",
       "      <progress value='19918' class='' max='19918', style='width:300px; height:20px; vertical-align: middle;'></progress>\n",
       "      100.00% [19918/19918 00:08<00:00]\n",
       "    </div>\n",
       "    "
      ],
      "text/plain": [
       "<IPython.core.display.HTML object>"
      ]
     },
     "metadata": {},
     "output_type": "display_data"
    },
    {
     "name": "stdout",
     "output_type": "stream",
     "text": [
      "#5\n",
      "#5\n",
      "XML parse exception: 'NoneType' object has no attribute 'text'\n",
      "XML parse exception: Unicode strings with encoding declaration are not supported. Please use bytes input or XML fragments without declaration.\n",
      "XML parse exception: Unicode strings with encoding declaration are not supported. Please use bytes input or XML fragments without declaration.\n",
      "XML parse exception: Unicode strings with encoding declaration are not supported. Please use bytes input or XML fragments without declaration.\n",
      "XML parse exception: Unicode strings with encoding declaration are not supported. Please use bytes input or XML fragments without declaration.\n",
      "#5\n",
      "#5\n",
      "#5\n",
      "#5\n",
      "#5\n",
      "#5\n",
      "XML parse exception: Unicode strings with encoding declaration are not supported. Please use bytes input or XML fragments without declaration.\n",
      "XML parse exception: Unicode strings with encoding declaration are not supported. Please use bytes input or XML fragments without declaration.\n",
      "XML parse exception: Unicode strings with encoding declaration are not supported. Please use bytes input or XML fragments without declaration.\n",
      "XML parse exception: Unicode strings with encoding declaration are not supported. Please use bytes input or XML fragments without declaration.\n",
      "XML parse exception: Unicode strings with encoding declaration are not supported. Please use bytes input or XML fragments without declaration.\n",
      "#5\n",
      "#5\n",
      "#5\n",
      "#5\n",
      "XML parse exception: Unicode strings with encoding declaration are not supported. Please use bytes input or XML fragments without declaration.\n",
      "XML parse exception: Unicode strings with encoding declaration are not supported. Please use bytes input or XML fragments without declaration.\n",
      "XML parse exception: Unicode strings with encoding declaration are not supported. Please use bytes input or XML fragments without declaration.\n",
      "XML parse exception: Unicode strings with encoding declaration are not supported. Please use bytes input or XML fragments without declaration.\n",
      "XML parse exception: Unicode strings with encoding declaration are not supported. Please use bytes input or XML fragments without declaration.\n",
      "#5\n",
      "XML parse exception: Unicode strings with encoding declaration are not supported. Please use bytes input or XML fragments without declaration.\n",
      "XML parse exception: Unicode strings with encoding declaration are not supported. Please use bytes input or XML fragments without declaration.\n",
      "#5\n",
      "#5\n",
      "XML parse exception: 'NoneType' object has no attribute 'text'\n",
      "#5\n",
      "#5\n",
      "#5\n",
      "#5\n",
      "#5\n",
      "#5\n",
      "#5\n",
      "#5\n",
      "#5\n",
      "#5\n",
      "#5\n",
      "#5\n",
      "#5\n",
      "#5\n",
      "XML parse exception: Unicode strings with encoding declaration are not supported. Please use bytes input or XML fragments without declaration.\n",
      "#5\n",
      "#5\n",
      "XML parse exception: Unicode strings with encoding declaration are not supported. Please use bytes input or XML fragments without declaration.\n",
      "XML parse exception: Unicode strings with encoding declaration are not supported. Please use bytes input or XML fragments without declaration.\n",
      "XML parse exception: Unicode strings with encoding declaration are not supported. Please use bytes input or XML fragments without declaration.\n",
      "XML parse exception: Unicode strings with encoding declaration are not supported. Please use bytes input or XML fragments without declaration.\n",
      "XML parse exception: Unicode strings with encoding declaration are not supported. Please use bytes input or XML fragments without declaration.\n",
      "XML parse exception: Unicode strings with encoding declaration are not supported. Please use bytes input or XML fragments without declaration.\n",
      "XML parse exception: Unicode strings with encoding declaration are not supported. Please use bytes input or XML fragments without declaration.\n",
      "#5\n",
      "#5\n",
      "XML parse exception: Unicode strings with encoding declaration are not supported. Please use bytes input or XML fragments without declaration.\n",
      "#5\n",
      "XML parse exception: Unicode strings with encoding declaration are not supported. Please use bytes input or XML fragments without declaration.\n",
      "#5\n",
      "#5\n",
      "#5\n",
      "#5\n",
      "#5\n",
      "#9\n",
      "#5\n",
      "#5\n",
      "#9\n",
      "#5\n",
      "b5\n",
      "b5\n",
      "#5\n",
      "#5\n",
      "#9\n",
      "#5\n",
      "#9\n",
      "#5\n",
      "#5\n",
      "#5\n",
      "#9\n",
      "#5\n",
      "#9\n",
      "#5\n",
      "#9\n",
      "#5\n",
      "#5\n",
      "#5\n",
      "#5\n",
      "#5\n",
      "#5\n",
      "#5\n",
      "#5\n",
      "#5\n",
      "#9\n",
      "#5\n",
      "#5\n",
      "XML parse exception: Unicode strings with encoding declaration are not supported. Please use bytes input or XML fragments without declaration.\n",
      "#5\n",
      "XML parse exception: Unicode strings with encoding declaration are not supported. Please use bytes input or XML fragments without declaration.\n",
      "#5\n",
      "#5\n",
      "#5\n",
      "#5\n",
      "#5\n",
      "#5\n",
      "#5\n",
      "#5\n",
      "#5\n",
      "b5\n",
      "b5\n",
      "b5\n",
      "#5\n",
      "#5\n",
      "#5\n",
      "#5\n",
      "#5\n",
      "#5\n",
      "XML parse exception: 'NoneType' object has no attribute 'text'\n",
      "XML parse exception: 'NoneType' object has no attribute 'text'\n",
      "XML parse exception: Unicode strings with encoding declaration are not supported. Please use bytes input or XML fragments without declaration.\n",
      "XML parse exception: Unicode strings with encoding declaration are not supported. Please use bytes input or XML fragments without declaration.\n",
      "#5\n",
      "#5\n",
      "#5\n",
      "#5\n",
      "XML parse exception: 'NoneType' object has no attribute 'text'\n",
      "#5\n",
      "#5\n",
      "#5\n",
      "#5\n",
      "XML parse exception: Unicode strings with encoding declaration are not supported. Please use bytes input or XML fragments without declaration.\n",
      "b5\n",
      "b5\n",
      "#5\n",
      "XML parse exception: Unicode strings with encoding declaration are not supported. Please use bytes input or XML fragments without declaration.\n",
      "#5\n",
      "XML parse exception: Unicode strings with encoding declaration are not supported. Please use bytes input or XML fragments without declaration.\n",
      "XML parse exception: Unicode strings with encoding declaration are not supported. Please use bytes input or XML fragments without declaration.\n",
      "#5\n",
      "#5\n",
      "b5\n",
      "b5\n",
      "#5\n",
      "#9\n",
      "#9\n",
      "#9\n",
      "#5\n",
      "#5\n",
      "#5\n",
      "XML parse exception: Unicode strings with encoding declaration are not supported. Please use bytes input or XML fragments without declaration.\n",
      "XML parse exception: Unicode strings with encoding declaration are not supported. Please use bytes input or XML fragments without declaration.\n",
      "#5\n",
      "XML parse exception: Unicode strings with encoding declaration are not supported. Please use bytes input or XML fragments without declaration.\n",
      "XML parse exception: Unicode strings with encoding declaration are not supported. Please use bytes input or XML fragments without declaration.\n",
      "XML parse exception: Unicode strings with encoding declaration are not supported. Please use bytes input or XML fragments without declaration.\n",
      "XML parse exception: Document is empty, line 1, column 1 (<string>, line 1)\n",
      "#5\n",
      "#5\n",
      "#5\n",
      "#5\n",
      "#5\n",
      "#5\n",
      "#5\n",
      "#5\n",
      "#5\n"
     ]
    }
   ],
   "source": [
    "subset = files\n",
    "encoded_files = process_parallel(process_file, subset, total=len(subset))"
   ]
  },
  {
   "cell_type": "markdown",
   "metadata": {},
   "source": [
    "### Databunch"
   ]
  },
  {
   "cell_type": "code",
   "execution_count": 52,
   "metadata": {},
   "outputs": [],
   "source": [
    "from fastai_data import *\n",
    "from fastai.text import *"
   ]
  },
  {
   "cell_type": "code",
   "execution_count": 53,
   "metadata": {},
   "outputs": [
    {
     "data": {
      "text/plain": [
       "[PosixPath('data/midi/v7/midi_encode/np/hook_dur/hooktheory/w/wayne-sharpe/yu-gi-oh-theme-song/chorus.npy'),\n",
       " PosixPath('data/midi/v7/midi_encode/np/hook_dur/hooktheory/w/what-a-day/kiefer/chorus.npy'),\n",
       " PosixPath('data/midi/v7/midi_encode/np/hook_dur/hooktheory/w/whiteflame/senbonzakura/chorus.npy'),\n",
       " PosixPath('data/midi/v7/midi_encode/np/hook_dur/hooktheory/w/whiteflame/senbonzakura/pre-chorus.npy'),\n",
       " PosixPath('data/midi/v7/midi_encode/np/hook_dur/hooktheory/w/whiteflame/senbonzakura/verse.npy'),\n",
       " PosixPath('data/midi/v7/midi_encode/np/hook_dur/hooktheory/w/wham/last-christmas/chorus.npy'),\n",
       " PosixPath('data/midi/v7/midi_encode/np/hook_dur/hooktheory/w/wham/last-christmas/intro.npy'),\n",
       " PosixPath('data/midi/v7/midi_encode/np/hook_dur/hooktheory/w/wham/last-christmas/verse.npy'),\n",
       " PosixPath('data/midi/v7/midi_encode/np/hook_dur/hooktheory/w/wham/freedom/chorus.npy'),\n",
       " PosixPath('data/midi/v7/midi_encode/np/hook_dur/hooktheory/w/we-lost-the-sea/bogatyri/intro.npy')]"
      ]
     },
     "execution_count": 53,
     "metadata": {},
     "output_type": "execute_result"
    }
   ],
   "source": [
    "np_files = get_files(out_dir, extensions=['.npy'], recurse=True); np_files[:10]"
   ]
  },
  {
   "cell_type": "code",
   "execution_count": 54,
   "metadata": {},
   "outputs": [
    {
     "data": {
      "text/plain": [
       "PosixPath('data/midi/v7/midi_encode/np/hook_dur')"
      ]
     },
     "execution_count": 54,
     "metadata": {},
     "output_type": "execute_result"
    }
   ],
   "source": [
    "out_path"
   ]
  },
  {
   "cell_type": "code",
   "execution_count": 55,
   "metadata": {},
   "outputs": [],
   "source": [
    "def create_databunch(files, cache_name, batch_size=32, load_cached=False):\n",
    "    if load_cached and (out_path/f'{cache_name}/train_ids.npy').exists():\n",
    "        data = LMNPDataBunch.load(out_path, bs=batch_size, cache_name=cache_name)\n",
    "    else:\n",
    "        ps = [OpenNPFileProcessor()]\n",
    "\n",
    "        data = (ItemList(items=files, path=out_path, processor=ps)\n",
    "                .random_split_by_pct(0.01, seed=6)\n",
    "                .label_const(label_cls=LMLabelList))\n",
    "        data.x._bunch = LMNPDataBunch\n",
    "        data = data.databunch(bs=batch_size)\n",
    "        data.save(cache_name)\n",
    "    return data"
   ]
  },
  {
   "cell_type": "code",
   "execution_count": 56,
   "metadata": {},
   "outputs": [],
   "source": [
    "all_data = create_databunch(np_files, cache_name='tmp/all', load_cached=True)"
   ]
  },
  {
   "cell_type": "code",
   "execution_count": 57,
   "metadata": {},
   "outputs": [
    {
     "data": {
      "text/plain": [
       "LMNPDataBunch;\n",
       "\n",
       "Train: LabelList (17985 items)\n",
       "x: ItemList\n",
       "[[ 2  0  0  2  0  0  0  0  0  0]\n",
       " [ 1  0  0  1  0  0  0  0  3  3]\n",
       " [10  2  4  1  0  0  0  0  3  3]\n",
       " [ 9  2  4  1  0  0  0  0  3  3]\n",
       " [12  1  4  1  0  0  0  0  3  3]\n",
       " [ 8  2  4  1  0  0  0  0  4  3]\n",
       " [ 7  2  4  1  0  0  0  0  4  3]\n",
       " [12  1  4  1  0  0  0  0  4  3]\n",
       " [ 8  2  4  1  0  0  0  0  4  3]\n",
       " [ 7  2  4  1  0  0  0  0  5  3]\n",
       " ...\n",
       " [ 1  0  0  1  0  0  0  0  4 10]\n",
       " [ 1  0  0  1  0  0  0  0  4 10]\n",
       " [ 1  0  0  1  0  0  0  0  5 10]\n",
       " [ 1  0  0  1  0  0  0  0  5 10]\n",
       " [ 1  0  0  1  0  0  0  0  5 10]\n",
       " [ 1  0  0  1  0  0  0  0  5 10]\n",
       " [ 1  0  0  1  0  0  0  0  6 10]\n",
       " [ 1  0  0  1  0  0  0  0  6 10]\n",
       " [ 1  0  0  1  0  0  0  0  6 10]\n",
       " [ 1  0  0  1  0  0  0  0  6 10]],[[ 2  0  0  2  0  0  0  0  0  0]\n",
       " [10  4  4 10 14  5  8  9  3  3]\n",
       " [ 7  4  4  1  0  0  0  0  3  3]\n",
       " [ 3  4  5  1  0  0  0  0  3  3]\n",
       " [ 1  0  0  1  0  0  0  0  3  3]\n",
       " [ 5  4  5  1  0  0  0  0  4  3]\n",
       " [ 1  0  0  1  0  0  0  0  4  3]\n",
       " [ 1  0  0 12 14  7 10 13  4  3]\n",
       " [ 5  4  5  1  0  0  0  0  4  3]\n",
       " [ 1  0  0  1  0  0  0  0  5  3]\n",
       " ...\n",
       " [ 1  0  0 12  4  7 11 13  4  6]\n",
       " [ 7  4  5  1  0  0  0  0  4  6]\n",
       " [ 1  0  0  1  0  0  0  0  5  6]\n",
       " [ 4  4  4  1  0  0  0  0  5  6]\n",
       " [12  3  5  1  0  0  0  0  5  6]\n",
       " [ 1  0  0  1  0  0  0  0  5  6]\n",
       " [14  3  5  1  0  0  0  0  6  6]\n",
       " [ 1  0  0  1  0  0  0  0  6  6]\n",
       " [ 1  0  0  1  0  0  0  0  6  6]\n",
       " [ 1  0  0  1  0  0  0  0  6  6]],[[ 2  0  0  2  0  0  0  0  0  0]\n",
       " [ 5  4  6 12  3  7  0 11  3  3]\n",
       " [ 1  0  0  1  0  0  0  0  3  3]\n",
       " [ 1  0  0  1  0  0  0  0  3  3]\n",
       " [ 5  4  6  1  0  0  0  0  3  3]\n",
       " [ 1  0  0  1  0  0  0  0  4  3]\n",
       " [ 1  0  0  1  0  0  0  0  4  3]\n",
       " [ 7  4  5  1  0  0  0  0  4  3]\n",
       " [ 1  0  0  1  0  0  0  0  4  3]\n",
       " [ 7  4  9  8 12  3  0 11  5  3]\n",
       " ...\n",
       " [10  4  5  1  0  0  0  0  4 10]\n",
       " [ 1  0  0  1  0  0  0  0  4 10]\n",
       " [12  4  7 12  3  7  0 11  5 10]\n",
       " [ 1  0  0  1  0  0  0  0  5 10]\n",
       " [ 1  0  0  1  0  0  0  0  5 10]\n",
       " [ 1  0  0  1  0  0  0  0  5 10]\n",
       " [ 1  0  0  1  0  0  0  0  6 10]\n",
       " [ 1  0  0  1  0  0  0  0  6 10]\n",
       " [ 1  0  0  1  0  0  0  0  6 10]\n",
       " [ 1  0  0  1  0  0  0  0  6 10]],[[ 2  0  0  2  0  0  0  0  0  0]\n",
       " [ 3  4  7  8 12  3  0 19  3  3]\n",
       " [ 1  0  0  1  0  0  0  0  3  3]\n",
       " [ 1  0  0  1  0  0  0  0  3  3]\n",
       " [ 1  0  0  1  0  0  0  0  3  3]\n",
       " [14  3  7  1  0  0  0  0  4  3]\n",
       " [ 1  0  0  1  0  0  0  0  4  3]\n",
       " [ 1  0  0  1  0  0  0  0  4  3]\n",
       " [ 1  0  0  1  0  0  0  0  4  3]\n",
       " [12  3  7  1  0  0  0  0  5  3]\n",
       " ...\n",
       " [ 1  0  0  1  0  0  0  0  4 10]\n",
       " [ 1  0  0  1  0  0  0  0  4 10]\n",
       " [ 1  0  0  1  0  0  0  0  5 10]\n",
       " [ 1  0  0  1  0  0  0  0  5 10]\n",
       " [ 1  0  0  1  0  0  0  0  5 10]\n",
       " [ 1  0  0  1  0  0  0  0  5 10]\n",
       " [12  3  5  1  0  0  0  0  6 10]\n",
       " [ 1  0  0  1  0  0  0  0  6 10]\n",
       " [ 3  4  5  1  0  0  0  0  6 10]\n",
       " [ 1  0  0  1  0  0  0  0  6 10]],[[ 2  0  0  2  0  0  0  0  0  0]\n",
       " [12  3  7 12  3  7  0 19  3  3]\n",
       " [ 1  0  0  1  0  0  0  0  3  3]\n",
       " [ 1  0  0  1  0  0  0  0  3  3]\n",
       " [ 1  0  0  1  0  0  0  0  3  3]\n",
       " [12  3  6  1  0  0  0  0  4  3]\n",
       " [ 1  0  0  1  0  0  0  0  4  3]\n",
       " [ 1  0  0  1  0  0  0  0  4  3]\n",
       " [10  3  4  1  0  0  0  0  4  3]\n",
       " [12  3  5  1  0  0  0  0  5  3]\n",
       " ...\n",
       " [ 7  4  4  1  0  0  0  0  4 10]\n",
       " [ 5  4  4  1  0  0  0  0  4 10]\n",
       " [ 3  4  7 10 14  5  0 11  5 10]\n",
       " [ 1  0  0  1  0  0  0  0  5 10]\n",
       " [ 1  0  0  1  0  0  0  0  5 10]\n",
       " [ 1  0  0  1  0  0  0  0  5 10]\n",
       " [12  3  7  1  0  0  0  0  6 10]\n",
       " [ 1  0  0  1  0  0  0  0  6 10]\n",
       " [ 1  0  0  1  0  0  0  0  6 10]\n",
       " [ 1  0  0  1  0  0  0  0  6 10]]\n",
       "y: LMLabelList\n",
       ",,,,\n",
       "Path: data/midi/v7/midi_encode/np/hook_dur;\n",
       "\n",
       "Valid: LabelList (181 items)\n",
       "x: ItemList\n",
       "[[ 2  0  0  2  0  0  0  0  0  0]\n",
       " [ 1  0  0  1  0  0  0  0  3  3]\n",
       " [ 1  0  0  1  0  0  0  0  3  3]\n",
       " [ 1  0  0  1  0  0  0  0  3  3]\n",
       " [ 1  0  0  1  0  0  0  0  3  3]\n",
       " [ 1  0  0  1  0  0  0  0  4  3]\n",
       " [ 1  0  0  1  0  0  0  0  4  3]\n",
       " [ 1  0  0  1  0  0  0  0  4  3]\n",
       " [ 1  0  0  1  0  0  0  0  4  3]\n",
       " [ 1  0  0  1  0  0  0  0  5  3]\n",
       " ...\n",
       " [ 1  0  0  1  0  0  0  0  4 10]\n",
       " [ 1  0  0  1  0  0  0  0  4 10]\n",
       " [ 1  0  0  1  0  0  0  0  5 10]\n",
       " [ 1  0  0  1  0  0  0  0  5 10]\n",
       " [ 1  0  0  1  0  0  0  0  5 10]\n",
       " [ 1  0  0  1  0  0  0  0  5 10]\n",
       " [ 7  3  5  1  0  0  0  0  6 10]\n",
       " [ 1  0  0  1  0  0  0  0  6 10]\n",
       " [10  3  5  1  0  0  0  0  6 10]\n",
       " [ 1  0  0  1  0  0  0  0  6 10]],[[ 2  0  0  2  0  0  0  0  0  0]\n",
       " [10  3  7  8 12  3  0 19  3  3]\n",
       " [ 1  0  0  1  0  0  0  0  3  3]\n",
       " [ 1  0  0  1  0  0  0  0  3  3]\n",
       " [ 1  0  0  1  0  0  0  0  3  3]\n",
       " [ 8  3  5  1  0  0  0  0  4  3]\n",
       " [ 1  0  0  1  0  0  0  0  4  3]\n",
       " [10  3  9  1  0  0  0  0  4  3]\n",
       " [ 1  0  0  1  0  0  0  0  4  3]\n",
       " [ 1  0  0  1  0  0  0  0  5  3]\n",
       " ...\n",
       " [ 1  0  0  1  0  0  0  0  4 10]\n",
       " [ 1  0  0  1  0  0  0  0  4 10]\n",
       " [ 1  0  0  1  0  0  0  0  5 10]\n",
       " [ 1  0  0  1  0  0  0  0  5 10]\n",
       " [ 1  0  0  1  0  0  0  0  5 10]\n",
       " [ 1  0  0  1  0  0  0  0  5 10]\n",
       " [ 1  0  0  1  0  0  0  0  6 10]\n",
       " [ 1  0  0  1  0  0  0  0  6 10]\n",
       " [ 1  0  0  1  0  0  0  0  6 10]\n",
       " [ 1  0  0  1  0  0  0  0  6 10]],[[ 2  0  0  2  0  0  0  0  0  0]\n",
       " [12  4 13 12  3  7  0 11  3  3]\n",
       " [ 1  0  0  1  0  0  0  0  3  3]\n",
       " [ 1  0  0  1  0  0  0  0  3  3]\n",
       " [ 1  0  0  1  0  0  0  0  3  3]\n",
       " [ 1  0  0  1  0  0  0  0  4  3]\n",
       " [ 1  0  0  1  0  0  0  0  4  3]\n",
       " [ 1  0  0  1  0  0  0  0  4  3]\n",
       " [ 1  0  0  1  0  0  0  0  4  3]\n",
       " [ 1  0  0  3  7 12  0 11  5  3]\n",
       " ...\n",
       " [ 1  0  0  1  0  0  0  0  4 10]\n",
       " [ 1  0  0  1  0  0  0  0  4 10]\n",
       " [14  4 11 14  5 10  0 11  5 10]\n",
       " [ 1  0  0  1  0  0  0  0  5 10]\n",
       " [ 1  0  0  1  0  0  0  0  5 10]\n",
       " [ 1  0  0  1  0  0  0  0  5 10]\n",
       " [ 1  0  0  1  0  0  0  0  6 10]\n",
       " [ 1  0  0  1  0  0  0  0  6 10]\n",
       " [ 1  0  0  1  0  0  0  0  6 10]\n",
       " [ 1  0  0  1  0  0  0  0  6 10]],[[ 2  0  0  2  0  0  0  0  0  0]\n",
       " [ 1  0  0  7 10 14  0 35  3  3]\n",
       " [ 1  0  0  1  0  0  0  0  3  3]\n",
       " [ 1  0  0  1  0  0  0  0  3  3]\n",
       " [ 7  3  6  1  0  0  0  0  3  3]\n",
       " [ 1  0  0  1  0  0  0  0  4  3]\n",
       " [ 1  0  0  1  0  0  0  0  4  3]\n",
       " [ 8  3  5  1  0  0  0  0  4  3]\n",
       " [ 1  0  0  1  0  0  0  0  4  3]\n",
       " [ 7  3  5  1  0  0  0  0  5  3]\n",
       " ...\n",
       " [ 1  0  0  1  0  0  0  0  4 10]\n",
       " [ 1  0  0  1  0  0  0  0  4 10]\n",
       " [ 1  0  0  1  0  0  0  0  5 10]\n",
       " [ 1  0  0  1  0  0  0  0  5 10]\n",
       " [ 1  0  0  1  0  0  0  0  5 10]\n",
       " [ 1  0  0  1  0  0  0  0  5 10]\n",
       " [ 1  0  0  1  0  0  0  0  6 10]\n",
       " [ 1  0  0  1  0  0  0  0  6 10]\n",
       " [ 1  0  0  1  0  0  0  0  6 10]\n",
       " [ 1  0  0  1  0  0  0  0  6 10]],[[ 2  0  0  2  0  0  0  0  0  0]\n",
       " [12  2  5  8 12  3  0 19  3  3]\n",
       " [ 1  0  0  1  0  0  0  0  3  3]\n",
       " [ 3  3  5  1  0  0  0  0  3  3]\n",
       " [ 1  0  0  1  0  0  0  0  3  3]\n",
       " [ 3  3  5  1  0  0  0  0  4  3]\n",
       " [ 1  0  0  1  0  0  0  0  4  3]\n",
       " [12  2  4  1  0  0  0  0  4  3]\n",
       " [ 3  3  5  1  0  0  0  0  4  3]\n",
       " [ 1  0  0  1  0  0  0  0  5  3]\n",
       " ...\n",
       " [ 1  0  0  1  0  0  0  0  4  6]\n",
       " [ 1  0  0  1  0  0  0  0  4  6]\n",
       " [ 1  0  0  1  0  0  0  0  5  6]\n",
       " [ 1  0  0  1  0  0  0  0  5  6]\n",
       " [ 1  0  0  1  0  0  0  0  5  6]\n",
       " [ 1  0  0  1  0  0  0  0  5  6]\n",
       " [ 1  0  0  1  0  0  0  0  6  6]\n",
       " [ 1  0  0  1  0  0  0  0  6  6]\n",
       " [ 1  0  0  1  0  0  0  0  6  6]\n",
       " [ 1  0  0  1  0  0  0  0  6  6]]\n",
       "y: LMLabelList\n",
       ",,,,\n",
       "Path: data/midi/v7/midi_encode/np/hook_dur;\n",
       "\n",
       "Test: None"
      ]
     },
     "execution_count": 57,
     "metadata": {},
     "output_type": "execute_result"
    }
   ],
   "source": [
    "all_data"
   ]
  },
  {
   "cell_type": "code",
   "execution_count": 58,
   "metadata": {},
   "outputs": [],
   "source": [
    "ob = next(iter(all_data.train_dl))"
   ]
  },
  {
   "cell_type": "code",
   "execution_count": 59,
   "metadata": {},
   "outputs": [
    {
     "data": {
      "text/plain": [
       "torch.Size([32, 70, 10])"
      ]
     },
     "execution_count": 59,
     "metadata": {},
     "output_type": "execute_result"
    }
   ],
   "source": [
    "ob[0].shape"
   ]
  },
  {
   "cell_type": "code",
   "execution_count": 60,
   "metadata": {},
   "outputs": [
    {
     "data": {
      "text/plain": [
       "(tensor([[ 1,  0,  0, 10, 12,  3,  7,  7,  5,  7],\n",
       "         [ 1,  0,  0,  1,  0,  0,  0,  0,  5,  7],\n",
       "         [ 1,  0,  0,  1,  0,  0,  0,  0,  5,  7],\n",
       "         [ 1,  0,  0,  1,  0,  0,  0,  0,  5,  7],\n",
       "         [ 1,  0,  0, 12, 14,  5,  9,  7,  6,  7],\n",
       "         [ 1,  0,  0,  1,  0,  0,  0,  0,  6,  7],\n",
       "         [ 1,  0,  0,  1,  0,  0,  0,  0,  6,  7],\n",
       "         [ 1,  0,  0,  1,  0,  0,  0,  0,  6,  7],\n",
       "         [ 1,  0,  0,  3,  6, 10,  0, 19,  3,  8],\n",
       "         [ 1,  0,  0,  1,  0,  0,  0,  0,  3,  8],\n",
       "         [ 1,  0,  0,  1,  0,  0,  0,  0,  3,  8],\n",
       "         [ 1,  0,  0,  1,  0,  0,  0,  0,  3,  8],\n",
       "         [ 1,  0,  0,  1,  0,  0,  0,  0,  4,  8],\n",
       "         [ 1,  0,  0,  1,  0,  0,  0,  0,  4,  8],\n",
       "         [ 1,  0,  0,  1,  0,  0,  0,  0,  4,  8],\n",
       "         [ 1,  0,  0,  1,  0,  0,  0,  0,  4,  8]]),\n",
       " tensor([[ 1,  0,  0, 12, 14,  5,  9,  7,  6,  7],\n",
       "         [ 1,  0,  0,  1,  0,  0,  0,  0,  6,  7],\n",
       "         [ 1,  0,  0,  1,  0,  0,  0,  0,  6,  7],\n",
       "         [ 1,  0,  0,  1,  0,  0,  0,  0,  6,  7],\n",
       "         [ 1,  0,  0,  3,  6, 10,  0, 19,  3,  8],\n",
       "         [ 1,  0,  0,  1,  0,  0,  0,  0,  3,  8],\n",
       "         [ 1,  0,  0,  1,  0,  0,  0,  0,  3,  8],\n",
       "         [ 1,  0,  0,  1,  0,  0,  0,  0,  3,  8],\n",
       "         [ 1,  0,  0,  1,  0,  0,  0,  0,  4,  8],\n",
       "         [ 1,  0,  0,  1,  0,  0,  0,  0,  4,  8],\n",
       "         [ 1,  0,  0,  1,  0,  0,  0,  0,  4,  8],\n",
       "         [ 1,  0,  0,  1,  0,  0,  0,  0,  4,  8],\n",
       "         [ 1,  0,  0,  1,  0,  0,  0,  0,  5,  8],\n",
       "         [ 1,  0,  0,  1,  0,  0,  0,  0,  5,  8],\n",
       "         [ 1,  0,  0,  1,  0,  0,  0,  0,  5,  8],\n",
       "         [ 1,  0,  0,  1,  0,  0,  0,  0,  5,  8]]))"
      ]
     },
     "execution_count": 60,
     "metadata": {},
     "output_type": "execute_result"
    }
   ],
   "source": [
    "ob[0][0][:16], ob[1][0][:16]"
   ]
  },
  {
   "cell_type": "code",
   "execution_count": null,
   "metadata": {},
   "outputs": [],
   "source": []
  }
 ],
 "metadata": {
  "kernelspec": {
   "display_name": "Python 3",
   "language": "python",
   "name": "python3"
  },
  "language_info": {
   "codemirror_mode": {
    "name": "ipython",
    "version": 3
   },
   "file_extension": ".py",
   "mimetype": "text/x-python",
   "name": "python",
   "nbconvert_exporter": "python",
   "pygments_lexer": "ipython3",
   "version": "3.7.2"
  }
 },
 "nbformat": 4,
 "nbformat_minor": 2
}

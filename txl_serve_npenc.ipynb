{
 "cells": [
  {
   "cell_type": "markdown",
   "metadata": {},
   "source": [
    "# Attention Architecture"
   ]
  },
  {
   "cell_type": "code",
   "execution_count": 1,
   "metadata": {},
   "outputs": [],
   "source": [
    "%reload_ext autoreload\n",
    "%autoreload 2\n",
    "%matplotlib inline"
   ]
  },
  {
   "cell_type": "code",
   "execution_count": 2,
   "metadata": {},
   "outputs": [],
   "source": [
    "import music21\n",
    "import torch\n",
    "\n",
    "from fastai.distributed import *\n",
    "from fastai.text.models.transformer import *\n",
    "\n",
    "import numpy as np\n",
    "\n",
    "from fastai_data import *\n",
    "from lmnp_transformer import *\n",
    "from encode_data import *"
   ]
  },
  {
   "cell_type": "code",
   "execution_count": 3,
   "metadata": {},
   "outputs": [],
   "source": [
    "np.set_printoptions(edgeitems=10, threshold=40, linewidth=200)"
   ]
  },
  {
   "cell_type": "code",
   "execution_count": 4,
   "metadata": {},
   "outputs": [],
   "source": [
    "bs=16\n",
    "bptt=256"
   ]
  },
  {
   "cell_type": "code",
   "execution_count": 5,
   "metadata": {},
   "outputs": [],
   "source": [
    "transpose_tfm = partial(rand_transpose, enc_offset=ENC_OFFSET, rand_range=(0,12))"
   ]
  },
  {
   "cell_type": "code",
   "execution_count": 6,
   "metadata": {},
   "outputs": [],
   "source": [
    "path = Path('data/midi/v9/midi_encode/np/shortdur/')\n",
    "data = LMNPDataBunch.load(path, bs=bs, bptt=bptt, cache_name='tmp/hook', train_tfms=[transpose_tfm])"
   ]
  },
  {
   "cell_type": "code",
   "execution_count": 7,
   "metadata": {},
   "outputs": [
    {
     "data": {
      "text/plain": [
       "[(0, 130, 128), (1, 132, 128)]"
      ]
     },
     "execution_count": 7,
     "metadata": {},
     "output_type": "execute_result"
    }
   ],
   "source": [
    "VOCAB_SZ = create_vocab_sizes(path/'tmp/all')\n",
    "N_COMPS = len(VOCAB_SZ)\n",
    "N_EMBS = 128\n",
    "EMB_IDXS = range(N_COMPS)\n",
    "EMB_DIM = [N_EMBS]*len(EMB_IDXS)\n",
    "EMB_MAP = list(zip(EMB_IDXS,VOCAB_SZ,EMB_DIM))\n",
    "EMB_MAP"
   ]
  },
  {
   "cell_type": "code",
   "execution_count": 8,
   "metadata": {},
   "outputs": [],
   "source": [
    "idx2embidx = { i:EMB_MAP[i] for i in range(N_COMPS) }\n",
    "total_embs = sum([v[-1] for k,v in idx2embidx.items()])"
   ]
  },
  {
   "cell_type": "code",
   "execution_count": 9,
   "metadata": {},
   "outputs": [
    {
     "data": {
      "text/plain": [
       "{'ctx_len': 150,\n",
       " 'n_layers': 12,\n",
       " 'n_heads': 10,\n",
       " 'd_model': 256,\n",
       " 'd_head': 41,\n",
       " 'd_inner': 2100,\n",
       " 'resid_p': 0.1,\n",
       " 'attn_p': 0.1,\n",
       " 'ff_p': 0.1,\n",
       " 'embed_p': 0.1,\n",
       " 'output_p': 0.1,\n",
       " 'bias': False,\n",
       " 'scale': True,\n",
       " 'act': <Activation.ReLU: 1>,\n",
       " 'double_drop': True,\n",
       " 'tie_weights': True,\n",
       " 'out_bias': True,\n",
       " 'init': <function fastai.text.models.transformer.init_transformer(m)>,\n",
       " 'mem_len': 512,\n",
       " 'mask': True,\n",
       " 'emb_map': [(0, 130, 128), (1, 132, 128)],\n",
       " 'idx_map': {0: (0, 130, 128), 1: (1, 132, 128)},\n",
       " 'loss_weights': [1, 1],\n",
       " 'pad_idx': 0,\n",
       " 'bos_idx': 2,\n",
       " 'mask_type': <MaskType.RandomWindow: 3>}"
      ]
     },
     "execution_count": 9,
     "metadata": {},
     "output_type": "execute_result"
    }
   ],
   "source": [
    "config = tfmerXL_lm_config\n",
    "config['emb_map'] = list(zip(EMB_IDXS,VOCAB_SZ,EMB_DIM))\n",
    "config['idx_map'] = idx2embidx\n",
    "config['loss_weights'] = [1,1] # note,duration\n",
    "config['pad_idx'] = PADDING_IDX+ENC_OFFSET\n",
    "config['bos_idx'] = VALTBOS+ENC_OFFSET\n",
    "config['mask_type'] = MaskType.RandomWindow\n",
    "config['act'] = Activation.ReLU\n",
    "\n",
    "config['d_model'] = total_embs\n",
    "config['mem_len'] = 512\n",
    "\n",
    "config['resid_p'] = 0.1\n",
    "config['attn_p'] = 0.1 # attention dropout\n",
    "config['ff_p'] = 0.1\n",
    "config['embed_p'] = 0.1 # embedding dropout\n",
    "config['output_p'] = 0.1 # decoder dropout (before final linear layer)\n",
    "config"
   ]
  },
  {
   "cell_type": "code",
   "execution_count": 10,
   "metadata": {},
   "outputs": [],
   "source": [
    "learn = language_model_learner(data, config, clip=0.25)"
   ]
  },
  {
   "cell_type": "code",
   "execution_count": 11,
   "metadata": {},
   "outputs": [],
   "source": [
    "x,y = data.one_batch(cpu=False)"
   ]
  },
  {
   "cell_type": "code",
   "execution_count": 12,
   "metadata": {},
   "outputs": [
    {
     "data": {
      "text/plain": [
       "[PosixPath('data/midi/v9/midi_encode/np/shortdur/models/hook/1_epoch20_best.pth'),\n",
       " PosixPath('data/midi/v9/midi_encode/np/shortdur/models/hook/v9_1_epoch20_best.pth'),\n",
       " PosixPath('data/midi/v9/midi_encode/np/shortdur/models/hook/v9_2_epoch30_best.pth'),\n",
       " PosixPath('data/midi/v9/midi_encode/np/shortdur/models/hook/v9_1_epoch20.pth'),\n",
       " PosixPath('data/midi/v9/midi_encode/np/shortdur/models/hook/1_epoch20.pth'),\n",
       " PosixPath('data/midi/v9/midi_encode/np/shortdur/models/hook/v9_2_epoch30.pth')]"
      ]
     },
     "execution_count": 12,
     "metadata": {},
     "output_type": "execute_result"
    }
   ],
   "source": [
    "models = get_files(path/'models/hook', recurse=True); models"
   ]
  },
  {
   "cell_type": "code",
   "execution_count": 13,
   "metadata": {},
   "outputs": [],
   "source": [
    "# load_path = Path('data/midi/v9/midi_encode/np/shortdur/models/pop/v9_2_epoch30_best.pth')\n",
    "load_path = Path('data/midi/v9/midi_encode/np/shortdur/models/hook/v9_2_epoch30_best.pth')\n",
    "state = torch.load(load_path, map_location='cpu')\n",
    "get_model(learn.model).load_state_dict(state['model'], strict=False)"
   ]
  },
  {
   "cell_type": "markdown",
   "metadata": {},
   "source": [
    "### From batch"
   ]
  },
  {
   "cell_type": "code",
   "execution_count": 14,
   "metadata": {},
   "outputs": [],
   "source": [
    "xb,yb = learn.data.one_batch(cpu=False)"
   ]
  },
  {
   "cell_type": "markdown",
   "metadata": {},
   "source": [
    "### From song"
   ]
  },
  {
   "cell_type": "code",
   "execution_count": 15,
   "metadata": {},
   "outputs": [],
   "source": [
    "seed_len = 60\n",
    "files = get_files(path/'hooktheory', extensions=['.npy'], recurse=True)"
   ]
  },
  {
   "cell_type": "code",
   "execution_count": 16,
   "metadata": {},
   "outputs": [
    {
     "data": {
      "text/plain": [
       "[PosixPath('data/midi/v9/midi_encode/np/shortdur/hooktheory/pianoroll/j/john-denver/take-me-home-country-roads/bridge_key_cmajor.npy'),\n",
       " PosixPath('data/midi/v9/midi_encode/np/shortdur/hooktheory/pianoroll/j/john-denver/take-me-home---country-roads/chorus_key_cmajor.npy')]"
      ]
     },
     "execution_count": 16,
     "metadata": {},
     "output_type": "execute_result"
    }
   ],
   "source": [
    "# Loading from specific file\n",
    "keywords = 'country road'.split(' ')\n",
    "def contains_keywords(f): return all([k in str(f) for k in keywords])\n",
    "search = [f for f in files if contains_keywords(f)]; search"
   ]
  },
  {
   "cell_type": "code",
   "execution_count": 17,
   "metadata": {},
   "outputs": [
    {
     "data": {
      "text/plain": [
       "PosixPath('data/midi/v9/midi_encode/np/shortdur/hooktheory/pianoroll/j/john-denver/take-me-home---country-roads/chorus_key_cmajor.npy')"
      ]
     },
     "execution_count": 17,
     "metadata": {},
     "output_type": "execute_result"
    }
   ],
   "source": [
    "# file = np.random.choice(files)\n",
    "file = search[-1]\n",
    "file"
   ]
  },
  {
   "cell_type": "code",
   "execution_count": 18,
   "metadata": {},
   "outputs": [],
   "source": [
    "#good_one = Path('data/midi/v7/midi_encode/np/hook_1bar_nopos/hooktheory/c/cool-and-new-web-comic/tick---tock/chorus.npy')\n",
    "# file = Path('data/midi/v9/midi_encode/np/shortdur/hooktheory/pianoroll/r/ritchie-valen/la-bamba/chorus_key_cmajor.npy')\n",
    "# third_eye = Path('data/midi/v7/midi_encode/np/hook_1bar_nopos/hooktheory/t/third-eye-blind/semi-charmed-life/chorus.npy')"
   ]
  },
  {
   "cell_type": "code",
   "execution_count": 19,
   "metadata": {},
   "outputs": [],
   "source": [
    "song_np = np.load(file)\n",
    "seed_np = np.load(file)[:seed_len]\n",
    "xb = torch.tensor(seed_np)[None]"
   ]
  },
  {
   "cell_type": "markdown",
   "metadata": {},
   "source": [
    "## Flask App"
   ]
  },
  {
   "cell_type": "code",
   "execution_count": null,
   "metadata": {},
   "outputs": [],
   "source": [
    "from flask import Flask, Response\n",
    "\n",
    "app = Flask(__name__)\n",
    "\n",
    "@app.route('/hello/', methods=['GET', 'POST'])\n",
    "def hello_world():\n",
    "    return 'Hello, World!'"
   ]
  },
  {
   "cell_type": "code",
   "execution_count": null,
   "metadata": {},
   "outputs": [],
   "source": [
    "@app.route('/songs/list')\n",
    "def song_list():\n",
    "    # get song name and artist from csv\n",
    "    result = dict({\n",
    "        'list': files\n",
    "    })\n",
    "\n",
    "@app.route('/songs/search')\n",
    "def song_search():\n",
    "    keywords = request.args.get('keywords', '')\n",
    "    "
   ]
  },
  {
   "cell_type": "code",
   "execution_count": null,
   "metadata": {},
   "outputs": [],
   "source": [
    "@app.route('/midi/score')\n",
    "def midi_score():\n",
    "    'Show piano score image'\n",
    "    pass\n",
    "\n",
    "@app.route('/midi/file')\n",
    "def midi_file():\n",
    "    'Return npenc to midi'"
   ]
  },
  {
   "cell_type": "code",
   "execution_count": null,
   "metadata": {},
   "outputs": [],
   "source": [
    "@app.route('/predict')\n",
    "def predict():\n",
    "    \n",
    "    n_words = request.args.get('n_words', 340)\n",
    "    temperatures = request.args.get('temperatures', (1.5,0.9))\n",
    "    min_ps = request.args.get('min_ps', (1/128,0.0))\n",
    "    \n",
    "    pred, seed = learn.predict(xb, n_words=n_words, temperatures=temperatures, min_ps=min_ps)\n",
    "    result = dict({\n",
    "        'pred': pred,\n",
    "        'seed': seed,\n",
    "        'combined':  full_output = np.concatenate((seed,out), axis=0)\n",
    "    })\n",
    "    return jsonify(result)"
   ]
  },
  {
   "cell_type": "code",
   "execution_count": 3,
   "metadata": {},
   "outputs": [],
   "source": [
    "@app.route('/health')\n",
    "def health_check():\n",
    "    return Response(\"\", status = 200)\n",
    "\n",
    "# if __name__ == '__main__':\n",
    "#     app.run(debug=True,host='0.0.0.0')"
   ]
  },
  {
   "cell_type": "code",
   "execution_count": null,
   "metadata": {},
   "outputs": [
    {
     "name": "stderr",
     "output_type": "stream",
     "text": [
      " * Running on http://localhost:6006/ (Press CTRL+C to quit)\n",
      "127.0.0.1 - - [21/Mar/2019 21:09:23] \"POST /hello HTTP/1.1\" 301 -\n",
      "127.0.0.1 - - [21/Mar/2019 21:09:23] \"GET /hello/ HTTP/1.1\" 200 -\n"
     ]
    }
   ],
   "source": [
    "from werkzeug.serving import run_simple\n",
    "run_simple('localhost', 6006, app)"
   ]
  },
  {
   "cell_type": "code",
   "execution_count": null,
   "metadata": {},
   "outputs": [],
   "source": []
  }
 ],
 "metadata": {
  "kernelspec": {
   "display_name": "Python 3",
   "language": "python",
   "name": "python3"
  },
  "language_info": {
   "codemirror_mode": {
    "name": "ipython",
    "version": 3
   },
   "file_extension": ".py",
   "mimetype": "text/x-python",
   "name": "python",
   "nbconvert_exporter": "python",
   "pygments_lexer": "ipython3",
   "version": "3.7.2"
  }
 },
 "nbformat": 4,
 "nbformat_minor": 2
}

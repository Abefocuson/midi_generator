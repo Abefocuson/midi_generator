{
 "cells": [
  {
   "cell_type": "code",
   "execution_count": 1,
   "metadata": {},
   "outputs": [],
   "source": [
    "%reload_ext autoreload\n",
    "%autoreload 2\n",
    "%matplotlib inline"
   ]
  },
  {
   "cell_type": "code",
   "execution_count": 2,
   "metadata": {},
   "outputs": [],
   "source": [
    "from encode_data import *\n",
    "from midi_data import *"
   ]
  },
  {
   "cell_type": "code",
   "execution_count": 3,
   "metadata": {},
   "outputs": [],
   "source": [
    "from tqdm import tqdm"
   ]
  },
  {
   "cell_type": "markdown",
   "metadata": {},
   "source": [
    "## Standardize and reformat raw midi files before encoding to text\n",
    "- Transform key to C major\n",
    "- Remove unused instruments\n",
    "- Combine multiple tracks with the same instrument into a single part\n",
    "- Melody, Piano, String"
   ]
  },
  {
   "cell_type": "markdown",
   "metadata": {},
   "source": [
    "### Load midi data"
   ]
  },
  {
   "cell_type": "code",
   "execution_count": 4,
   "metadata": {},
   "outputs": [],
   "source": [
    "version = 'v7'\n",
    "data_path = Path('data/midi')\n",
    "version_path = data_path/version"
   ]
  },
  {
   "cell_type": "code",
   "execution_count": 5,
   "metadata": {},
   "outputs": [],
   "source": [
    "import pandas as pd"
   ]
  },
  {
   "cell_type": "code",
   "execution_count": 6,
   "metadata": {},
   "outputs": [
    {
     "data": {
      "text/plain": [
       "(PosixPath('data/midi/v7/metadata/midi_sources.csv'),\n",
       " PosixPath('data/midi/v7/midi_transform/midi_transform.csv'))"
      ]
     },
     "execution_count": 6,
     "metadata": {},
     "output_type": "execute_result"
    }
   ],
   "source": [
    "source_dir = 'midi_sources'\n",
    "out_dir = 'midi_transform'\n",
    "source_csv = version_path/'metadata'/f'{source_dir}.csv'\n",
    "out_csv = version_path/out_dir/f'{out_dir}.csv'\n",
    "out_csv.parent.mkdir(parents=True, exist_ok=True)\n",
    "source_csv, out_csv"
   ]
  },
  {
   "cell_type": "code",
   "execution_count": 7,
   "metadata": {},
   "outputs": [
    {
     "name": "stderr",
     "output_type": "stream",
     "text": [
      "/home/ubuntu/anaconda3/envs/midi/lib/python3.7/site-packages/IPython/core/interactiveshell.py:3020: DtypeWarning: Columns (0,9,16,17,20) have mixed types. Specify dtype option on import or set low_memory=False.\n",
      "  interactivity=interactivity, compiler=compiler, result=result)\n"
     ]
    },
    {
     "data": {
      "text/html": [
       "<div>\n",
       "<style scoped>\n",
       "    .dataframe tbody tr th:only-of-type {\n",
       "        vertical-align: middle;\n",
       "    }\n",
       "\n",
       "    .dataframe tbody tr th {\n",
       "        vertical-align: top;\n",
       "    }\n",
       "\n",
       "    .dataframe thead th {\n",
       "        text-align: right;\n",
       "    }\n",
       "</style>\n",
       "<table border=\"1\" class=\"dataframe\">\n",
       "  <thead>\n",
       "    <tr style=\"text-align: right;\">\n",
       "      <th></th>\n",
       "      <th>song_url</th>\n",
       "      <th>instruments</th>\n",
       "      <th>ht_offset</th>\n",
       "      <th>time_signature</th>\n",
       "      <th>title</th>\n",
       "      <th>quarter_length</th>\n",
       "      <th>ht_mode</th>\n",
       "      <th>source</th>\n",
       "      <th>artist</th>\n",
       "      <th>ht_key</th>\n",
       "      <th>...</th>\n",
       "      <th>midi</th>\n",
       "      <th>inferred_key</th>\n",
       "      <th>inferred_offset</th>\n",
       "      <th>genres</th>\n",
       "      <th>section</th>\n",
       "      <th>parts</th>\n",
       "      <th>ht_time_signature</th>\n",
       "      <th>ht_bpm</th>\n",
       "      <th>midi_title</th>\n",
       "      <th>mxl</th>\n",
       "    </tr>\n",
       "  </thead>\n",
       "  <tbody>\n",
       "    <tr>\n",
       "      <th>0</th>\n",
       "      <td>https://www.hooktheory.com/theorytab/view/wayn...</td>\n",
       "      <td>Piano</td>\n",
       "      <td>0.0</td>\n",
       "      <td>3/4</td>\n",
       "      <td>yu-gi-oh-theme-song</td>\n",
       "      <td>36.0</td>\n",
       "      <td>1.0</td>\n",
       "      <td>hooktheory</td>\n",
       "      <td>wayne-sharpe</td>\n",
       "      <td>C</td>\n",
       "      <td>...</td>\n",
       "      <td>midi_sources/hooktheory/pianoroll/w/wayne-shar...</td>\n",
       "      <td>C major</td>\n",
       "      <td>0.0</td>\n",
       "      <td>NaN</td>\n",
       "      <td>intro</td>\n",
       "      <td>intro,chorus</td>\n",
       "      <td>3.0</td>\n",
       "      <td>85.0</td>\n",
       "      <td>yu-gi-oh</td>\n",
       "      <td>NaN</td>\n",
       "    </tr>\n",
       "    <tr>\n",
       "      <th>1</th>\n",
       "      <td>https://www.hooktheory.com/theorytab/view/wayn...</td>\n",
       "      <td>Piano,Piano</td>\n",
       "      <td>0.0</td>\n",
       "      <td>4/4</td>\n",
       "      <td>yu-gi-oh-theme-song</td>\n",
       "      <td>32.0</td>\n",
       "      <td>1.0</td>\n",
       "      <td>hooktheory</td>\n",
       "      <td>wayne-sharpe</td>\n",
       "      <td>C</td>\n",
       "      <td>...</td>\n",
       "      <td>midi_sources/hooktheory/pianoroll/w/wayne-shar...</td>\n",
       "      <td>C major</td>\n",
       "      <td>0.0</td>\n",
       "      <td>NaN</td>\n",
       "      <td>chorus</td>\n",
       "      <td>intro,chorus</td>\n",
       "      <td>4.0</td>\n",
       "      <td>128.0</td>\n",
       "      <td>yu-gi-oh3</td>\n",
       "      <td>NaN</td>\n",
       "    </tr>\n",
       "    <tr>\n",
       "      <th>2</th>\n",
       "      <td>https://www.hooktheory.com/theorytab/view/what...</td>\n",
       "      <td>Piano,Piano</td>\n",
       "      <td>-5.0</td>\n",
       "      <td>4/4</td>\n",
       "      <td>kiefer</td>\n",
       "      <td>16.0</td>\n",
       "      <td>6.0</td>\n",
       "      <td>hooktheory</td>\n",
       "      <td>what-a-day</td>\n",
       "      <td>D</td>\n",
       "      <td>...</td>\n",
       "      <td>midi_sources/hooktheory/pianoroll/w/what-a-day...</td>\n",
       "      <td>A minor</td>\n",
       "      <td>0.0</td>\n",
       "      <td>Jazz</td>\n",
       "      <td>chorus</td>\n",
       "      <td>chorus</td>\n",
       "      <td>4.0</td>\n",
       "      <td>96.0</td>\n",
       "      <td>kiefer</td>\n",
       "      <td>NaN</td>\n",
       "    </tr>\n",
       "    <tr>\n",
       "      <th>3</th>\n",
       "      <td>https://www.hooktheory.com/theorytab/view/whit...</td>\n",
       "      <td>Piano,Piano</td>\n",
       "      <td>-5.0</td>\n",
       "      <td>4/4</td>\n",
       "      <td>senbonzakura</td>\n",
       "      <td>32.0</td>\n",
       "      <td>6.0</td>\n",
       "      <td>hooktheory</td>\n",
       "      <td>whiteflame</td>\n",
       "      <td>D</td>\n",
       "      <td>...</td>\n",
       "      <td>midi_sources/hooktheory/pianoroll/w/whiteflame...</td>\n",
       "      <td>D minor</td>\n",
       "      <td>-5.0</td>\n",
       "      <td>J-Pop,Pop</td>\n",
       "      <td>verse</td>\n",
       "      <td>verse,pre-chorus,chorus</td>\n",
       "      <td>4.0</td>\n",
       "      <td>152.0</td>\n",
       "      <td>Senbonzakura</td>\n",
       "      <td>NaN</td>\n",
       "    </tr>\n",
       "    <tr>\n",
       "      <th>4</th>\n",
       "      <td>https://www.hooktheory.com/theorytab/view/wham...</td>\n",
       "      <td>Piano,Piano</td>\n",
       "      <td>-1.0</td>\n",
       "      <td>4/4</td>\n",
       "      <td>last-christmas</td>\n",
       "      <td>32.0</td>\n",
       "      <td>1.0</td>\n",
       "      <td>hooktheory</td>\n",
       "      <td>wham</td>\n",
       "      <td>Db</td>\n",
       "      <td>...</td>\n",
       "      <td>midi_sources/hooktheory/pianoroll/w/wham/last-...</td>\n",
       "      <td>C# major</td>\n",
       "      <td>-1.0</td>\n",
       "      <td>Holiday</td>\n",
       "      <td>intro</td>\n",
       "      <td>intro,verse,chorus</td>\n",
       "      <td>4.0</td>\n",
       "      <td>108.0</td>\n",
       "      <td>Last Christmas Intro</td>\n",
       "      <td>NaN</td>\n",
       "    </tr>\n",
       "  </tbody>\n",
       "</table>\n",
       "<p>5 rows × 22 columns</p>\n",
       "</div>"
      ],
      "text/plain": [
       "                                            song_url  instruments  ht_offset  \\\n",
       "0  https://www.hooktheory.com/theorytab/view/wayn...        Piano        0.0   \n",
       "1  https://www.hooktheory.com/theorytab/view/wayn...  Piano,Piano        0.0   \n",
       "2  https://www.hooktheory.com/theorytab/view/what...  Piano,Piano       -5.0   \n",
       "3  https://www.hooktheory.com/theorytab/view/whit...  Piano,Piano       -5.0   \n",
       "4  https://www.hooktheory.com/theorytab/view/wham...  Piano,Piano       -1.0   \n",
       "\n",
       "  time_signature                title quarter_length  ht_mode      source  \\\n",
       "0            3/4  yu-gi-oh-theme-song           36.0      1.0  hooktheory   \n",
       "1            4/4  yu-gi-oh-theme-song           32.0      1.0  hooktheory   \n",
       "2            4/4               kiefer           16.0      6.0  hooktheory   \n",
       "3            4/4         senbonzakura           32.0      6.0  hooktheory   \n",
       "4            4/4       last-christmas           32.0      1.0  hooktheory   \n",
       "\n",
       "         artist ht_key ...   \\\n",
       "0  wayne-sharpe      C ...    \n",
       "1  wayne-sharpe      C ...    \n",
       "2    what-a-day      D ...    \n",
       "3    whiteflame      D ...    \n",
       "4          wham     Db ...    \n",
       "\n",
       "                                                midi  inferred_key  \\\n",
       "0  midi_sources/hooktheory/pianoroll/w/wayne-shar...       C major   \n",
       "1  midi_sources/hooktheory/pianoroll/w/wayne-shar...       C major   \n",
       "2  midi_sources/hooktheory/pianoroll/w/what-a-day...       A minor   \n",
       "3  midi_sources/hooktheory/pianoroll/w/whiteflame...       D minor   \n",
       "4  midi_sources/hooktheory/pianoroll/w/wham/last-...      C# major   \n",
       "\n",
       "  inferred_offset     genres  section                    parts  \\\n",
       "0             0.0        NaN    intro             intro,chorus   \n",
       "1             0.0        NaN   chorus             intro,chorus   \n",
       "2             0.0       Jazz   chorus                   chorus   \n",
       "3            -5.0  J-Pop,Pop    verse  verse,pre-chorus,chorus   \n",
       "4            -1.0    Holiday    intro       intro,verse,chorus   \n",
       "\n",
       "  ht_time_signature ht_bpm            midi_title  mxl  \n",
       "0               3.0   85.0              yu-gi-oh  NaN  \n",
       "1               4.0  128.0             yu-gi-oh3  NaN  \n",
       "2               4.0   96.0                kiefer  NaN  \n",
       "3               4.0  152.0          Senbonzakura  NaN  \n",
       "4               4.0  108.0  Last Christmas Intro  NaN  \n",
       "\n",
       "[5 rows x 22 columns]"
      ]
     },
     "execution_count": 7,
     "metadata": {},
     "output_type": "execute_result"
    }
   ],
   "source": [
    "df = pd.read_csv(source_csv); df.head()"
   ]
  },
  {
   "cell_type": "code",
   "execution_count": 8,
   "metadata": {},
   "outputs": [],
   "source": [
    "df_filtered = df.loc[df.time_signature.notna()]"
   ]
  },
  {
   "cell_type": "code",
   "execution_count": 9,
   "metadata": {},
   "outputs": [],
   "source": [
    "from data_sources import process_parallel, transform_csv_row"
   ]
  },
  {
   "cell_type": "code",
   "execution_count": 10,
   "metadata": {},
   "outputs": [],
   "source": [
    "from midi_transform import *"
   ]
  },
  {
   "cell_type": "markdown",
   "metadata": {},
   "source": [
    "### Need better midi formatting"
   ]
  },
  {
   "cell_type": "code",
   "execution_count": 11,
   "metadata": {},
   "outputs": [],
   "source": [
    "# v6\n",
    "# def transform_func(file, out_file, row):\n",
    "#     offset = row.ht_offset if row.source == 'hooktheory' else row.inferred_offset\n",
    "#     transform_midi(file, out_file, offset=offset)"
   ]
  },
  {
   "cell_type": "code",
   "execution_count": 12,
   "metadata": {},
   "outputs": [],
   "source": [
    "def transform_func(file, out_file, row):\n",
    "    offset = row.ht_offset if row.source == 'hooktheory' else row.inferred_offset\n",
    "    music_file = compress_midi_file(file, cutoff=8) # remove non note tracks and standardize instruments\n",
    "    music_file.open(out_file, attrib='wb')\n",
    "    music_file.write()\n",
    "    music_file.close()"
   ]
  },
  {
   "cell_type": "code",
   "execution_count": 13,
   "metadata": {},
   "outputs": [],
   "source": [
    "from functools import partial\n",
    "parallel_func = partial(transform_csv_row, \n",
    "        transform_func=transform_func,\n",
    "        base_path=version_path,\n",
    "        source_dir=source_dir,\n",
    "        out_dir=out_dir,\n",
    "        out_extension=None,\n",
    "        source_col='midi'\n",
    "       )"
   ]
  },
  {
   "cell_type": "code",
   "execution_count": 14,
   "metadata": {},
   "outputs": [],
   "source": [
    "# sanity check\n",
    "# for r in df_filtered.iterrows():\n",
    "#     parallel_func(r)"
   ]
  },
  {
   "cell_type": "code",
   "execution_count": 15,
   "metadata": {},
   "outputs": [],
   "source": [
    "### AS TOD: Fix 'info channel is not channel 0' error"
   ]
  },
  {
   "cell_type": "code",
   "execution_count": 16,
   "metadata": {
    "scrolled": false
   },
   "outputs": [
    {
     "data": {
      "text/html": [
       "\n",
       "    <div>\n",
       "        <style>\n",
       "            /* Turns off some styling */\n",
       "            progress {\n",
       "                /* gets rid of default border in Firefox and Opera. */\n",
       "                border: none;\n",
       "                /* Needs to be in here for Safari polyfill so background images work as expected. */\n",
       "                background-size: auto;\n",
       "            }\n",
       "            .progress-bar-interrupted, .progress-bar-interrupted::-webkit-progress-bar {\n",
       "                background: #F44336;\n",
       "            }\n",
       "        </style>\n",
       "      <progress value='39217' class='' max='39217', style='width:300px; height:20px; vertical-align: middle;'></progress>\n",
       "      100.00% [39217/39217 01:03<00:00]\n",
       "    </div>\n",
       "    "
      ],
      "text/plain": [
       "<IPython.core.display.HTML object>"
      ]
     },
     "metadata": {},
     "output_type": "display_data"
    },
    {
     "name": "stdout",
     "output_type": "stream",
     "text": [
      "Error converting midi to sequence 'NoneType' object has no attribute 'open'\n",
      "Error converting midi to sequence 'NoneType' object has no attribute 'open'\n",
      "Error converting midi to sequence 'NoneType' object has no attribute 'open'\n",
      "Error converting midi to sequence 'NoneType' object has no attribute 'open'\n"
     ]
    },
    {
     "name": "stderr",
     "output_type": "stream",
     "text": [
      "midi: WARNING: Conversion error for <MidiEvent None, t=None, track=0, channel=None>: unknown midi event type: None; ignored.\n"
     ]
    },
    {
     "name": "stdout",
     "output_type": "stream",
     "text": [
      "Error converting midi to sequence 'NoneType' object has no attribute 'open'\n",
      "Error converting midi to sequence 'NoneType' object has no attribute 'open'\n",
      "Error converting midi to sequence 'NoneType' object has no attribute 'open'\n",
      "Error converting midi to sequence 'NoneType' object has no attribute 'open'\n",
      "Error converting midi to sequence 'NoneType' object has no attribute 'open'\n",
      "Error converting midi to sequence 'NoneType' object has no attribute 'open'\n",
      "Error converting midi to sequence 'NoneType' object has no attribute 'open'\n",
      "Error converting midi to sequence 'NoneType' object has no attribute 'open'\n"
     ]
    },
    {
     "name": "stderr",
     "output_type": "stream",
     "text": [
      "midi: WARNING: Conversion error for <MidiEvent None, t=None, track=8, channel=None>: unknown midi event type: None; ignored.\n",
      "midi: WARNING: Conversion error for <MidiEvent None, t=None, track=9, channel=None>: unknown midi event type: None; ignored.\n"
     ]
    },
    {
     "name": "stdout",
     "output_type": "stream",
     "text": [
      "Error converting midi to sequence 'NoneType' object has no attribute 'open'\n",
      "Error converting midi to sequence 'NoneType' object has no attribute 'open'\n",
      "Error converting midi to sequence 'NoneType' object has no attribute 'open'\n",
      "Error converting midi to sequence 'NoneType' object has no attribute 'open'\n",
      "Error converting midi to sequence 'NoneType' object has no attribute 'open'\n",
      "Error converting midi to sequence 'NoneType' object has no attribute 'open'\n",
      "Error converting midi to sequence 'NoneType' object has no attribute 'open'\n",
      "Error converting midi to sequence 'NoneType' object has no attribute 'open'\n",
      "Error converting midi to sequence 'NoneType' object has no attribute 'open'\n",
      "Error converting midi to sequence 'NoneType' object has no attribute 'open'\n",
      "Error converting midi to sequence 'NoneType' object has no attribute 'open'\n",
      "Error converting midi to sequence 'NoneType' object has no attribute 'open'\n",
      "Error converting midi to sequence 'NoneType' object has no attribute 'open'\n",
      "Error converting midi to sequence 'NoneType' object has no attribute 'open'\n",
      "Error converting midi to sequence 'NoneType' object has no attribute 'open'\n",
      "Error converting midi to sequence 'NoneType' object has no attribute 'open'\n",
      "Error converting midi to sequence 'NoneType' object has no attribute 'open'\n",
      "Error converting midi to sequence 'NoneType' object has no attribute 'open'\n",
      "Error converting midi to sequence 'NoneType' object has no attribute 'open'\n",
      "Error converting midi to sequence 'NoneType' object has no attribute 'open'\n"
     ]
    },
    {
     "name": "stderr",
     "output_type": "stream",
     "text": [
      "midi: WARNING: Conversion error for <MidiEvent None, t=None, track=10, channel=None>: unknown midi event type: None; ignored.\n"
     ]
    },
    {
     "name": "stdout",
     "output_type": "stream",
     "text": [
      "Error converting midi to sequence 'NoneType' object has no attribute 'open'\n",
      "Error converting midi to sequence 'NoneType' object has no attribute 'open'\n"
     ]
    },
    {
     "name": "stderr",
     "output_type": "stream",
     "text": [
      "midi: WARNING: Conversion error for <MidiEvent None, t=None, track=5, channel=None>: unknown midi event type: None; ignored.\n",
      "midi: WARNING: Conversion error for <MidiEvent None, t=None, track=6, channel=None>: unknown midi event type: None; ignored.\n"
     ]
    },
    {
     "name": "stdout",
     "output_type": "stream",
     "text": [
      "Error converting midi to sequence 'NoneType' object has no attribute 'open'\n",
      "Error converting midi to sequence 'NoneType' object has no attribute 'open'\n",
      "Error converting midi to sequence 'NoneType' object has no attribute 'open'\n",
      "Error converting midi to sequence 'NoneType' object has no attribute 'open'\n",
      "Error converting midi to sequence 'NoneType' object has no attribute 'open'\n",
      "Error converting midi to sequence 'NoneType' object has no attribute 'open'\n",
      "Error converting midi to sequence 'NoneType' object has no attribute 'open'\n",
      "Error converting midi to sequence 'NoneType' object has no attribute 'open'\n",
      "Error converting midi to sequence 'NoneType' object has no attribute 'open'\n",
      "Error converting midi to sequence 'NoneType' object has no attribute 'open'\n",
      "Error converting midi to sequence 'NoneType' object has no attribute 'open'\n",
      "Error converting midi to sequence 'NoneType' object has no attribute 'open'\n",
      "Error converting midi to sequence 'NoneType' object has no attribute 'open'\n",
      "Error converting midi to sequence 'NoneType' object has no attribute 'open'\n",
      "Error converting midi to sequence 'NoneType' object has no attribute 'open'\n",
      "Error converting midi to sequence 'NoneType' object has no attribute 'open'\n",
      "Error converting midi to sequence 'NoneType' object has no attribute 'open'\n",
      "Error converting midi to sequence 'NoneType' object has no attribute 'open'\n",
      "Error converting midi to sequence 'NoneType' object has no attribute 'open'\n",
      "Error converting midi to sequence 'NoneType' object has no attribute 'open'\n",
      "Error converting midi to sequence 'NoneType' object has no attribute 'open'\n",
      "Error converting midi to sequence 'NoneType' object has no attribute 'open'\n",
      "Error converting midi to sequence 'NoneType' object has no attribute 'open'\n",
      "Error converting midi to sequence 'NoneType' object has no attribute 'open'\n",
      "Error converting midi to sequence 'NoneType' object has no attribute 'open'\n",
      "Error converting midi to sequence 'NoneType' object has no attribute 'open'\n",
      "Error converting midi to sequence 'NoneType' object has no attribute 'open'\n",
      "Error converting midi to sequence 'NoneType' object has no attribute 'open'\n",
      "Error converting midi to sequence 'NoneType' object has no attribute 'open'\n"
     ]
    },
    {
     "name": "stderr",
     "output_type": "stream",
     "text": [
      "midi: WARNING: Conversion error for <MidiEvent None, t=None, track=6, channel=None>: unknown midi event type: None; ignored.\n",
      "midi: WARNING: Conversion error for <MidiEvent None, t=None, track=0, channel=None>: unknown midi event type: None; ignored.\n",
      "midi: WARNING: Conversion error for <MidiEvent None, t=None, track=7, channel=None>: unknown midi event type: None; ignored.\n"
     ]
    },
    {
     "name": "stdout",
     "output_type": "stream",
     "text": [
      "Error converting midi to sequence 'NoneType' object has no attribute 'open'\n",
      "Error converting midi to sequence 'NoneType' object has no attribute 'open'\n",
      "Error converting midi to sequence 'NoneType' object has no attribute 'open'\n",
      "Error converting midi to sequence 'NoneType' object has no attribute 'open'\n",
      "Error converting midi to sequence 'NoneType' object has no attribute 'open'\n",
      "Error converting midi to sequence 'NoneType' object has no attribute 'open'\n",
      "Error converting midi to sequence 'NoneType' object has no attribute 'open'\n",
      "Error converting midi to sequence 'NoneType' object has no attribute 'open'\n",
      "Error converting midi to sequence 'NoneType' object has no attribute 'open'\n",
      "Error converting midi to sequence 'NoneType' object has no attribute 'open'\n",
      "Error converting midi to sequence 'NoneType' object has no attribute 'open'\n",
      "Error converting midi to sequence 'NoneType' object has no attribute 'open'\n",
      "Error converting midi to sequence 'NoneType' object has no attribute 'open'\n",
      "Error converting midi to sequence 'NoneType' object has no attribute 'open'\n",
      "Error converting midi to sequence 'NoneType' object has no attribute 'open'\n",
      "Error converting midi to sequence 'NoneType' object has no attribute 'open'\n",
      "Error converting midi to sequence 'NoneType' object has no attribute 'open'\n",
      "Error converting midi to sequence 'NoneType' object has no attribute 'open'\n",
      "Error converting midi to sequence 'NoneType' object has no attribute 'open'\n",
      "Error converting midi to sequence 'NoneType' object has no attribute 'open'\n",
      "Error converting midi to sequence 'NoneType' object has no attribute 'open'\n"
     ]
    },
    {
     "name": "stderr",
     "output_type": "stream",
     "text": [
      "midi: WARNING: Conversion error for <MidiEvent None, t=None, track=9, channel=None>: unknown midi event type: None; ignored.\n",
      "midi: WARNING: Conversion error for <MidiEvent None, t=None, track=1, channel=None>: unknown midi event type: None; ignored.\n"
     ]
    },
    {
     "name": "stdout",
     "output_type": "stream",
     "text": [
      "Error converting midi to sequence 'NoneType' object has no attribute 'open'\n",
      "Error converting midi to sequence 'NoneType' object has no attribute 'open'\n",
      "Error converting midi to sequence 'NoneType' object has no attribute 'open'\n",
      "Error converting midi to sequence 'NoneType' object has no attribute 'open'\n",
      "Error converting midi to sequence 'NoneType' object has no attribute 'open'\n",
      "Error converting midi to sequence 'NoneType' object has no attribute 'open'\n",
      "Error converting midi to sequence 'NoneType' object has no attribute 'open'\n",
      "Error converting midi to sequence 'NoneType' object has no attribute 'open'\n",
      "Error converting midi to sequence 'NoneType' object has no attribute 'open'\n",
      "Error converting midi to sequence 'NoneType' object has no attribute 'open'\n",
      "Error converting midi to sequence 'NoneType' object has no attribute 'open'\n",
      "Error converting midi to sequence 'NoneType' object has no attribute 'open'\n",
      "Error converting midi to sequence 'NoneType' object has no attribute 'open'\n",
      "Error converting midi to sequence 'NoneType' object has no attribute 'open'\n",
      "Error converting midi to sequence 'NoneType' object has no attribute 'open'\n",
      "Error converting midi to sequence 'NoneType' object has no attribute 'open'\n",
      "Error converting midi to sequence 'NoneType' object has no attribute 'open'\n",
      "Error converting midi to sequence 'NoneType' object has no attribute 'open'\n",
      "Error converting midi to sequence 'NoneType' object has no attribute 'open'\n",
      "Error converting midi to sequence 'NoneType' object has no attribute 'open'\n",
      "Error converting midi to sequence 'NoneType' object has no attribute 'open'\n",
      "Error converting midi to sequence 'NoneType' object has no attribute 'open'\n",
      "Error converting midi to sequence 'NoneType' object has no attribute 'open'\n",
      "Error converting midi to sequence 'NoneType' object has no attribute 'open'\n",
      "Error converting midi to sequence 'NoneType' object has no attribute 'open'\n",
      "Error converting midi to sequence 'NoneType' object has no attribute 'open'\n",
      "Error converting midi to sequence 'NoneType' object has no attribute 'open'\n",
      "Error converting midi to sequence 'NoneType' object has no attribute 'open'\n",
      "Error converting midi to sequence 'NoneType' object has no attribute 'open'\n",
      "Error converting midi to sequence 'NoneType' object has no attribute 'open'\n",
      "Error converting midi to sequence 'NoneType' object has no attribute 'open'\n",
      "Error converting midi to sequence 'NoneType' object has no attribute 'open'\n",
      "Error converting midi to sequence 'NoneType' object has no attribute 'open'\n",
      "Error converting midi to sequence 'NoneType' object has no attribute 'open'\n"
     ]
    },
    {
     "name": "stderr",
     "output_type": "stream",
     "text": [
      "midi: WARNING: Conversion error for <MidiEvent None, t=None, track=1, channel=None>: unknown midi event type: None; ignored.\n",
      "midi: WARNING: Conversion error for <MidiEvent None, t=None, track=2, channel=None>: unknown midi event type: None; ignored.\n",
      "midi: WARNING: Conversion error for <MidiEvent None, t=None, track=4, channel=None>: unknown midi event type: None; ignored.\n",
      "midi: WARNING: Conversion error for <MidiEvent None, t=None, track=5, channel=None>: unknown midi event type: None; ignored.\n",
      "midi: WARNING: Conversion error for <MidiEvent None, t=None, track=6, channel=None>: unknown midi event type: None; ignored.\n"
     ]
    },
    {
     "name": "stdout",
     "output_type": "stream",
     "text": [
      "Error converting midi to sequence 'NoneType' object has no attribute 'open'\n"
     ]
    },
    {
     "name": "stderr",
     "output_type": "stream",
     "text": [
      "midi: WARNING: Conversion error for <MidiEvent None, t=None, track=7, channel=None>: unknown midi event type: None; ignored.\n",
      "midi: WARNING: Conversion error for <MidiEvent None, t=None, track=8, channel=None>: unknown midi event type: None; ignored.\n"
     ]
    },
    {
     "name": "stdout",
     "output_type": "stream",
     "text": [
      "Error converting midi to sequence 'NoneType' object has no attribute 'open'\n"
     ]
    },
    {
     "name": "stderr",
     "output_type": "stream",
     "text": [
      "midi: WARNING: Conversion error for <MidiEvent None, t=None, track=8, channel=None>: unknown midi event type: None; ignored.\n",
      "midi: WARNING: Conversion error for <MidiEvent None, t=None, track=9, channel=None>: unknown midi event type: None; ignored.\n"
     ]
    },
    {
     "name": "stdout",
     "output_type": "stream",
     "text": [
      "Error converting midi to sequence 'NoneType' object has no attribute 'open'\n",
      "Error converting midi to sequence 'NoneType' object has no attribute 'open'\n",
      "Error converting midi to sequence 'NoneType' object has no attribute 'open'\n",
      "Error converting midi to sequence 'NoneType' object has no attribute 'open'\n",
      "Error converting midi to sequence 'NoneType' object has no attribute 'open'\n",
      "Error converting midi to sequence 'NoneType' object has no attribute 'open'\n",
      "Error converting midi to sequence 'NoneType' object has no attribute 'open'\n",
      "Error converting midi to sequence 'NoneType' object has no attribute 'open'\n",
      "Error converting midi to sequence 'NoneType' object has no attribute 'open'\n",
      "Error converting midi to sequence 'NoneType' object has no attribute 'open'\n",
      "Error converting midi to sequence 'NoneType' object has no attribute 'open'\n",
      "Error converting midi to sequence 'NoneType' object has no attribute 'open'\n",
      "Error converting midi to sequence 'NoneType' object has no attribute 'open'\n",
      "Error converting midi to sequence 'NoneType' object has no attribute 'open'\n",
      "Error converting midi to sequence 'NoneType' object has no attribute 'open'\n",
      "Error converting midi to sequence 'NoneType' object has no attribute 'open'\n",
      "Error converting midi to sequence 'NoneType' object has no attribute 'open'\n",
      "Error converting midi to sequence 'NoneType' object has no attribute 'open'\n",
      "Error converting midi to sequence 'NoneType' object has no attribute 'open'\n",
      "Error converting midi to sequence 'NoneType' object has no attribute 'open'\n",
      "Error converting midi to sequence 'NoneType' object has no attribute 'open'\n",
      "Error converting midi to sequence 'NoneType' object has no attribute 'open'\n",
      "Error converting midi to sequence 'NoneType' object has no attribute 'open'\n",
      "Error converting midi to sequence 'NoneType' object has no attribute 'open'\n",
      "Error converting midi to sequence 'NoneType' object has no attribute 'open'\n",
      "Error converting midi to sequence 'NoneType' object has no attribute 'open'\n",
      "Error converting midi to sequence 'NoneType' object has no attribute 'open'\n",
      "Error converting midi to sequence 'NoneType' object has no attribute 'open'\n",
      "Error converting midi to sequence 'NoneType' object has no attribute 'open'\n",
      "Error converting midi to sequence 'NoneType' object has no attribute 'open'\n",
      "Error converting midi to sequence 'NoneType' object has no attribute 'open'\n",
      "Error converting midi to sequence 'NoneType' object has no attribute 'open'\n",
      "Error converting midi to sequence 'NoneType' object has no attribute 'open'\n",
      "Error converting midi to sequence 'NoneType' object has no attribute 'open'\n",
      "Error converting midi to sequence 'NoneType' object has no attribute 'open'\n",
      "Error converting midi to sequence 'NoneType' object has no attribute 'open'\n",
      "Error converting midi to sequence 'NoneType' object has no attribute 'open'\n",
      "Error converting midi to sequence 'NoneType' object has no attribute 'open'\n",
      "Error converting midi to sequence 'NoneType' object has no attribute 'open'\n"
     ]
    },
    {
     "name": "stderr",
     "output_type": "stream",
     "text": [
      "midi: WARNING: Conversion error for <MidiEvent None, t=None, track=8, channel=None>: unknown midi event type: None; ignored.\n",
      "midi: WARNING: Conversion error for <MidiEvent None, t=None, track=9, channel=None>: unknown midi event type: None; ignored.\n"
     ]
    },
    {
     "name": "stdout",
     "output_type": "stream",
     "text": [
      "Error converting midi to sequence 'NoneType' object has no attribute 'open'\n",
      "Error converting midi to sequence 'NoneType' object has no attribute 'open'\n",
      "Error converting midi to sequence 'NoneType' object has no attribute 'open'\n",
      "Error converting midi to sequence 'NoneType' object has no attribute 'open'\n",
      "Error converting midi to sequence 'NoneType' object has no attribute 'open'\n",
      "Error converting midi to sequence 'NoneType' object has no attribute 'open'\n",
      "Error converting midi to sequence 'NoneType' object has no attribute 'open'\n",
      "Error converting midi to sequence 'NoneType' object has no attribute 'open'\n",
      "Error converting midi to sequence 'NoneType' object has no attribute 'open'\n",
      "Error converting midi to sequence 'NoneType' object has no attribute 'open'\n",
      "Error converting midi to sequence 'NoneType' object has no attribute 'open'\n",
      "Error converting midi to sequence 'NoneType' object has no attribute 'open'\n"
     ]
    },
    {
     "name": "stderr",
     "output_type": "stream",
     "text": [
      "midi: WARNING: Conversion error for <MidiEvent None, t=None, track=7, channel=None>: unknown midi event type: None; ignored.\n",
      "midi: WARNING: Conversion error for <MidiEvent None, t=None, track=8, channel=None>: unknown midi event type: None; ignored.\n",
      "midi: WARNING: Conversion error for <MidiEvent None, t=None, track=9, channel=None>: unknown midi event type: None; ignored.\n"
     ]
    },
    {
     "name": "stdout",
     "output_type": "stream",
     "text": [
      "Error converting midi to sequence 'NoneType' object has no attribute 'open'\n",
      "Error converting midi to sequence 'NoneType' object has no attribute 'open'\n",
      "Error converting midi to sequence 'NoneType' object has no attribute 'open'\n",
      "Error converting midi to sequence 'NoneType' object has no attribute 'open'\n"
     ]
    },
    {
     "name": "stderr",
     "output_type": "stream",
     "text": [
      "midi: WARNING: Conversion error for <MidiEvent None, t=None, track=2, channel=None>: unknown midi event type: None; ignored.\n"
     ]
    },
    {
     "name": "stdout",
     "output_type": "stream",
     "text": [
      "Error converting midi to sequence 'NoneType' object has no attribute 'open'\n",
      "Error converting midi to sequence 'NoneType' object has no attribute 'open'\n",
      "Error converting midi to sequence 'NoneType' object has no attribute 'open'\n",
      "Error converting midi to sequence 'NoneType' object has no attribute 'open'\n",
      "Error converting midi to sequence 'NoneType' object has no attribute 'open'\n",
      "Error converting midi to sequence 'NoneType' object has no attribute 'open'\n",
      "Error converting midi to sequence 'NoneType' object has no attribute 'open'\n",
      "Error converting midi to sequence 'NoneType' object has no attribute 'open'\n",
      "Error converting midi to sequence 'NoneType' object has no attribute 'open'\n",
      "Error converting midi to sequence 'NoneType' object has no attribute 'open'\n",
      "Error converting midi to sequence 'NoneType' object has no attribute 'open'\n",
      "Error converting midi to sequence 'NoneType' object has no attribute 'open'\n",
      "Error converting midi to sequence 'NoneType' object has no attribute 'open'\n",
      "Error converting midi to sequence 'NoneType' object has no attribute 'open'\n",
      "Error converting midi to sequence 'NoneType' object has no attribute 'open'\n",
      "Error converting midi to sequence 'NoneType' object has no attribute 'open'\n",
      "Error converting midi to sequence 'NoneType' object has no attribute 'open'\n",
      "Error converting midi to sequence 'NoneType' object has no attribute 'open'\n",
      "Error converting midi to sequence 'NoneType' object has no attribute 'open'\n",
      "Error converting midi to sequence 'NoneType' object has no attribute 'open'\n",
      "Error converting midi to sequence 'NoneType' object has no attribute 'open'\n",
      "Error converting midi to sequence 'NoneType' object has no attribute 'open'\n",
      "Error converting midi to sequence 'NoneType' object has no attribute 'open'\n",
      "Error converting midi to sequence 'NoneType' object has no attribute 'open'\n",
      "Error converting midi to sequence 'NoneType' object has no attribute 'open'\n",
      "Error converting midi to sequence 'NoneType' object has no attribute 'open'\n",
      "Error converting midi to sequence 'NoneType' object has no attribute 'open'\n",
      "Error converting midi to sequence 'NoneType' object has no attribute 'open'\n",
      "Error converting midi to sequence 'NoneType' object has no attribute 'open'\n",
      "Error converting midi to sequence 'NoneType' object has no attribute 'open'\n",
      "Error converting midi to sequence 'NoneType' object has no attribute 'open'\n",
      "Error converting midi to sequence 'NoneType' object has no attribute 'open'\n",
      "Error converting midi to sequence 'NoneType' object has no attribute 'open'\n",
      "Error converting midi to sequence 'NoneType' object has no attribute 'open'\n",
      "Error converting midi to sequence 'NoneType' object has no attribute 'open'\n",
      "Error converting midi to sequence 'NoneType' object has no attribute 'open'\n",
      "Error converting midi to sequence 'NoneType' object has no attribute 'open'\n",
      "Error converting midi to sequence 'NoneType' object has no attribute 'open'\n",
      "Error converting midi to sequence 'NoneType' object has no attribute 'open'\n",
      "Error converting midi to sequence 'NoneType' object has no attribute 'open'\n",
      "Error converting midi to sequence 'NoneType' object has no attribute 'open'\n",
      "Error converting midi to sequence 'NoneType' object has no attribute 'open'\n",
      "Error converting midi to sequence 'NoneType' object has no attribute 'open'\n",
      "Error converting midi to sequence 'NoneType' object has no attribute 'open'\n",
      "Error converting midi to sequence 'NoneType' object has no attribute 'open'\n",
      "Error converting midi to sequence 'NoneType' object has no attribute 'open'\n",
      "Error converting midi to sequence 'NoneType' object has no attribute 'open'\n",
      "Error converting midi to sequence 'NoneType' object has no attribute 'open'\n",
      "Error converting midi to sequence 'NoneType' object has no attribute 'open'\n",
      "Error converting midi to sequence 'NoneType' object has no attribute 'open'\n",
      "Error converting midi to sequence 'NoneType' object has no attribute 'open'\n",
      "Error converting midi to sequence 'NoneType' object has no attribute 'open'\n",
      "Error converting midi to sequence 'NoneType' object has no attribute 'open'\n",
      "Error converting midi to sequence 'NoneType' object has no attribute 'open'\n",
      "Error converting midi to sequence 'NoneType' object has no attribute 'open'\n",
      "Error converting midi to sequence 'NoneType' object has no attribute 'open'\n",
      "Error converting midi to sequence 'NoneType' object has no attribute 'open'\n"
     ]
    },
    {
     "name": "stderr",
     "output_type": "stream",
     "text": [
      "midi: WARNING: Conversion error for <MidiEvent None, t=None, track=8, channel=None>: unknown midi event type: None; ignored.\n"
     ]
    },
    {
     "name": "stdout",
     "output_type": "stream",
     "text": [
      "Error converting midi to sequence 'NoneType' object has no attribute 'open'\n",
      "Error converting midi to sequence 'NoneType' object has no attribute 'open'\n",
      "Error converting midi to sequence 'NoneType' object has no attribute 'open'\n",
      "Error converting midi to sequence 'NoneType' object has no attribute 'open'\n",
      "Error converting midi to sequence 'NoneType' object has no attribute 'open'\n",
      "Error converting midi to sequence 'NoneType' object has no attribute 'open'\n",
      "Error converting midi to sequence 'NoneType' object has no attribute 'open'\n",
      "Error converting midi to sequence 'NoneType' object has no attribute 'open'\n",
      "Error converting midi to sequence 'NoneType' object has no attribute 'open'\n",
      "Error converting midi to sequence 'NoneType' object has no attribute 'open'\n"
     ]
    },
    {
     "name": "stderr",
     "output_type": "stream",
     "text": [
      "midi: WARNING: Conversion error for <MidiEvent None, t=None, track=0, channel=None>: unknown midi event type: None; ignored.\n"
     ]
    },
    {
     "name": "stdout",
     "output_type": "stream",
     "text": [
      "Error converting midi to sequence 'NoneType' object has no attribute 'open'\n",
      "Error converting midi to sequence 'NoneType' object has no attribute 'open'\n",
      "Error converting midi to sequence 'NoneType' object has no attribute 'open'\n",
      "Error converting midi to sequence 'NoneType' object has no attribute 'open'\n",
      "Error converting midi to sequence 'NoneType' object has no attribute 'open'\n",
      "Error converting midi to sequence 'NoneType' object has no attribute 'open'\n",
      "Error converting midi to sequence 'NoneType' object has no attribute 'open'\n",
      "Error converting midi to sequence 'NoneType' object has no attribute 'open'\n",
      "Error converting midi to sequence 'NoneType' object has no attribute 'open'\n",
      "Error converting midi to sequence 'NoneType' object has no attribute 'open'\n",
      "Error converting midi to sequence 'NoneType' object has no attribute 'open'\n",
      "Error converting midi to sequence 'NoneType' object has no attribute 'open'\n",
      "Error converting midi to sequence 'NoneType' object has no attribute 'open'\n",
      "Error converting midi to sequence 'NoneType' object has no attribute 'open'\n",
      "Error converting midi to sequence 'NoneType' object has no attribute 'open'\n"
     ]
    },
    {
     "name": "stderr",
     "output_type": "stream",
     "text": [
      "midi: WARNING: Conversion error for <MidiEvent None, t=None, track=2, channel=None>: unknown midi event type: None; ignored.\n",
      "midi: WARNING: Conversion error for <MidiEvent None, t=None, track=6, channel=None>: unknown midi event type: None; ignored.\n"
     ]
    },
    {
     "name": "stdout",
     "output_type": "stream",
     "text": [
      "Error converting midi to sequence 'NoneType' object has no attribute 'open'\n",
      "Error converting midi to sequence 'NoneType' object has no attribute 'open'\n",
      "Error converting midi to sequence 'NoneType' object has no attribute 'open'\n",
      "Error converting midi to sequence 'NoneType' object has no attribute 'open'\n",
      "Error converting midi to sequence 'NoneType' object has no attribute 'open'\n",
      "Error converting midi to sequence 'NoneType' object has no attribute 'open'\n",
      "Error converting midi to sequence 'NoneType' object has no attribute 'open'\n",
      "Error converting midi to sequence 'NoneType' object has no attribute 'open'\n",
      "Error converting midi to sequence 'NoneType' object has no attribute 'open'\n",
      "Error converting midi to sequence 'NoneType' object has no attribute 'open'\n",
      "Error converting midi to sequence 'NoneType' object has no attribute 'open'\n",
      "Error converting midi to sequence 'NoneType' object has no attribute 'open'\n",
      "Error converting midi to sequence 'NoneType' object has no attribute 'open'\n",
      "Error converting midi to sequence 'NoneType' object has no attribute 'open'\n",
      "Error converting midi to sequence 'NoneType' object has no attribute 'open'\n",
      "Error converting midi to sequence 'NoneType' object has no attribute 'open'\n",
      "Error converting midi to sequence 'NoneType' object has no attribute 'open'\n",
      "Error converting midi to sequence badly formated midi bytes, got: b''\n",
      "Error converting midi to sequence badly formated midi bytes, got: b''\n",
      "Error converting midi to sequence badly formated midi bytes, got: b''\n",
      "Error converting midi to sequence badly formated midi bytes, got: b''\n",
      "Error converting midi to sequence badly formated midi bytes, got: b''\n",
      "Error converting midi to sequence badly formated midi bytes, got: b''\n",
      "Error converting midi to sequence badly formated midi bytes, got: b''\n",
      "Error converting midi to sequence badly formated midi bytes, got: b''\n",
      "Error converting midi to sequence badly formated midi bytes, got: b''\n",
      "Error converting midi to sequence badly formated midi bytes, got: b''\n",
      "Error converting midi to sequence badly formated midi bytes, got: b''\n",
      "Error converting midi to sequence badly formated midi bytes, got: b''\n",
      "Error converting midi to sequence badly formated midi bytes, got: b''\n",
      "Error converting midi to sequence badly formated midi bytes, got: b''\n",
      "Error converting midi to sequence badly formated midi bytes, got: b''\n",
      "Error converting midi to sequence badly formated midi bytes, got: b''\n",
      "Error converting midi to sequence badly formated midi bytes, got: b''\n",
      "Error converting midi to sequence badly formated midi bytes, got: b''\n",
      "Error converting midi to sequence badly formated midi bytes, got: b''\n",
      "Error converting midi to sequence badly formated midi bytes, got: b''\n",
      "Error converting midi to sequence badly formated midi bytes, got: b''\n",
      "Error converting midi to sequence badly formated midi bytes, got: b''\n",
      "Error converting midi to sequence badly formated midi bytes, got: b''\n",
      "Error converting midi to sequence badly formated midi bytes, got: b''\n",
      "Error converting midi to sequence badly formated midi bytes, got: b''\n",
      "Error converting midi to sequence badly formated midi bytes, got: b''\n",
      "Error converting midi to sequence badly formated midi bytes, got: b''\n",
      "Error converting midi to sequence badly formated midi bytes, got: b''\n",
      "Error converting midi to sequence badly formated midi bytes, got: b''\n",
      "Error converting midi to sequence badly formated midi bytes, got: b''\n",
      "Error converting midi to sequence badly formated midi bytes, got: b''\n",
      "Error converting midi to sequence badly formated midi bytes, got: b''\n",
      "Error converting midi to sequence badly formated midi bytes, got: b''\n",
      "Error converting midi to sequence badly formated midi bytes, got: b''\n",
      "Error converting midi to sequence badly formated midi bytes, got: b''\n",
      "Error converting midi to sequence badly formated midi bytes, got: b''\n",
      "Error converting midi to sequence badly formated midi bytes, got: b''\n",
      "Error converting midi to sequence badly formated midi bytes, got: b''\n",
      "Error converting midi to sequence badly formated midi bytes, got: b''\n",
      "Error converting midi to sequence badly formated midi bytes, got: b''\n",
      "Error converting midi to sequence badly formated midi bytes, got: b''\n",
      "Error converting midi to sequence badly formated midi bytes, got: b''\n",
      "Error converting midi to sequence badly formated midi bytes, got: b''\n",
      "Error converting midi to sequence badly formated midi bytes, got: b''\n",
      "Error converting midi to sequence badly formated midi bytes, got: b''\n",
      "Error converting midi to sequence badly formated midi bytes, got: b''\n",
      "Error converting midi to sequence badly formated midi bytes, got: b''\n",
      "Error converting midi to sequence badly formated midi bytes, got: b''\n",
      "Error converting midi to sequence badly formated midi bytes, got: b''\n",
      "Error converting midi to sequence badly formated midi bytes, got: b''\n",
      "Error converting midi to sequence badly formated midi bytes, got: b''\n",
      "Error converting midi to sequence badly formated midi bytes, got: b''\n",
      "Error converting midi to sequence badly formated midi bytes, got: b''\n",
      "Error converting midi to sequence badly formated midi bytes, got: b''\n",
      "Error converting midi to sequence badly formated midi bytes, got: b''\n",
      "Error converting midi to sequence badly formated midi bytes, got: b''\n",
      "Error converting midi to sequence badly formated midi bytes, got: b''\n",
      "Error converting midi to sequence badly formated midi bytes, got: b''\n",
      "Error converting midi to sequence badly formated midi bytes, got: b''\n",
      "Error converting midi to sequence badly formated midi bytes, got: b''\n",
      "Error converting midi to sequence badly formated midi bytes, got: b''\n",
      "Error converting midi to sequence badly formated midi bytes, got: b''\n",
      "Error converting midi to sequence badly formated midi bytes, got: b''\n",
      "Error converting midi to sequence badly formated midi bytes, got: b''\n",
      "Error converting midi to sequence badly formated midi bytes, got: b''\n",
      "Error converting midi to sequence badly formated midi bytes, got: b''\n",
      "Error converting midi to sequence badly formated midi bytes, got: b''\n",
      "Error converting midi to sequence badly formated midi bytes, got: b''\n",
      "Error converting midi to sequence badly formated midi bytes, got: b''\n",
      "Error converting midi to sequence badly formated midi bytes, got: b''\n",
      "Error converting midi to sequence badly formated midi bytes, got: b''\n",
      "Error converting midi to sequence badly formated midi bytes, got: b''\n",
      "Error converting midi to sequence badly formated midi bytes, got: b''\n",
      "Error converting midi to sequence badly formated midi bytes, got: b''\n",
      "Error converting midi to sequence badly formated midi bytes, got: b''\n",
      "Error converting midi to sequence badly formated midi bytes, got: b''\n",
      "Error converting midi to sequence badly formated midi bytes, got: b''\n",
      "Error converting midi to sequence badly formated midi bytes, got: b''\n",
      "Error converting midi to sequence badly formated midi bytes, got: b''\n",
      "Error converting midi to sequence badly formated midi bytes, got: b''\n",
      "Error converting midi to sequence badly formated midi bytes, got: b''\n",
      "Error converting midi to sequence badly formated midi bytes, got: b''\n",
      "Error converting midi to sequence badly formated midi bytes, got: b''\n",
      "Error converting midi to sequence badly formated midi bytes, got: b''\n",
      "Error converting midi to sequence badly formated midi bytes, got: b''\n",
      "Error converting midi to sequence badly formated midi bytes, got: b''\n",
      "Error converting midi to sequence badly formated midi bytes, got: b''\n",
      "Error converting midi to sequence badly formated midi bytes, got: b''\n",
      "Error converting midi to sequence badly formated midi bytes, got: b''\n",
      "Error converting midi to sequence badly formated midi bytes, got: b''\n",
      "Error converting midi to sequence badly formated midi bytes, got: b''\n",
      "Error converting midi to sequence badly formated midi bytes, got: b''\n",
      "Error converting midi to sequence badly formated midi bytes, got: b''\n",
      "Error converting midi to sequence badly formated midi bytes, got: b''\n",
      "Error converting midi to sequence badly formated midi bytes, got: b''\n",
      "Error converting midi to sequence badly formated midi bytes, got: b''\n",
      "Error converting midi to sequence badly formated midi bytes, got: b''\n",
      "Error converting midi to sequence badly formated midi bytes, got: b''\n",
      "Error converting midi to sequence badly formated midi bytes, got: b''\n"
     ]
    },
    {
     "name": "stdout",
     "output_type": "stream",
     "text": [
      "Error converting midi to sequence badly formated midi bytes, got: b''\n",
      "Error converting midi to sequence badly formated midi bytes, got: b''\n",
      "Error converting midi to sequence badly formated midi bytes, got: b''\n",
      "Error converting midi to sequence badly formated midi bytes, got: b''\n",
      "Error converting midi to sequence badly formated midi bytes, got: b''\n",
      "Error converting midi to sequence badly formated midi bytes, got: b''\n",
      "Error converting midi to sequence badly formated midi bytes, got: b''\n",
      "Error converting midi to sequence badly formated midi bytes, got: b''\n",
      "Error converting midi to sequence badly formated midi bytes, got: b''\n",
      "Error converting midi to sequence badly formated midi bytes, got: b''\n",
      "Error converting midi to sequence badly formated midi bytes, got: b''\n",
      "Error converting midi to sequence badly formated midi bytes, got: b''\n",
      "Error converting midi to sequence badly formated midi bytes, got: b''\n",
      "Error converting midi to sequence badly formated midi bytes, got: b''\n",
      "Error converting midi to sequence badly formated midi bytes, got: b''\n",
      "Error converting midi to sequence badly formated midi bytes, got: b''\n",
      "Error converting midi to sequence badly formated midi bytes, got: b''\n",
      "Error converting midi to sequence badly formated midi bytes, got: b''\n",
      "Error converting midi to sequence badly formated midi bytes, got: b''\n",
      "Error converting midi to sequence badly formated midi bytes, got: b''\n",
      "Error converting midi to sequence badly formated midi bytes, got: b''\n",
      "Error converting midi to sequence badly formated midi bytes, got: b''\n",
      "Error converting midi to sequence badly formated midi bytes, got: b''\n",
      "Error converting midi to sequence badly formated midi bytes, got: b''\n",
      "Error converting midi to sequence badly formated midi bytes, got: b''\n",
      "Error converting midi to sequence badly formated midi bytes, got: b''\n",
      "Error converting midi to sequence badly formated midi bytes, got: b''\n",
      "Error converting midi to sequence badly formated midi bytes, got: b''\n",
      "Error converting midi to sequence badly formated midi bytes, got: b''\n",
      "Error converting midi to sequence badly formated midi bytes, got: b''\n",
      "Error converting midi to sequence badly formated midi bytes, got: b''\n",
      "Error converting midi to sequence badly formated midi bytes, got: b''\n",
      "Error converting midi to sequence badly formated midi bytes, got: b''\n",
      "Error converting midi to sequence badly formated midi bytes, got: b''\n"
     ]
    }
   ],
   "source": [
    "idx2out = process_parallel(parallel_func, df_filtered.iterrows(), total=df_filtered.shape[0])"
   ]
  },
  {
   "cell_type": "code",
   "execution_count": 17,
   "metadata": {},
   "outputs": [],
   "source": [
    "tdf = pd.DataFrame(data={out_dir: list(idx2out.values())}, index=list(idx2out.keys()))"
   ]
  },
  {
   "cell_type": "code",
   "execution_count": 18,
   "metadata": {},
   "outputs": [],
   "source": [
    "merged_df = df.join(tdf)"
   ]
  },
  {
   "cell_type": "code",
   "execution_count": 19,
   "metadata": {},
   "outputs": [
    {
     "data": {
      "text/plain": [
       "((39217, 1), (39942, 22), (39942, 23))"
      ]
     },
     "execution_count": 19,
     "metadata": {},
     "output_type": "execute_result"
    }
   ],
   "source": [
    "tdf.shape, df.shape, merged_df.shape"
   ]
  },
  {
   "cell_type": "code",
   "execution_count": 20,
   "metadata": {},
   "outputs": [
    {
     "data": {
      "text/html": [
       "<div>\n",
       "<style scoped>\n",
       "    .dataframe tbody tr th:only-of-type {\n",
       "        vertical-align: middle;\n",
       "    }\n",
       "\n",
       "    .dataframe tbody tr th {\n",
       "        vertical-align: top;\n",
       "    }\n",
       "\n",
       "    .dataframe thead th {\n",
       "        text-align: right;\n",
       "    }\n",
       "</style>\n",
       "<table border=\"1\" class=\"dataframe\">\n",
       "  <thead>\n",
       "    <tr style=\"text-align: right;\">\n",
       "      <th></th>\n",
       "      <th>song_url</th>\n",
       "      <th>instruments</th>\n",
       "      <th>ht_offset</th>\n",
       "      <th>time_signature</th>\n",
       "      <th>title</th>\n",
       "      <th>quarter_length</th>\n",
       "      <th>ht_mode</th>\n",
       "      <th>source</th>\n",
       "      <th>artist</th>\n",
       "      <th>ht_key</th>\n",
       "      <th>...</th>\n",
       "      <th>inferred_key</th>\n",
       "      <th>inferred_offset</th>\n",
       "      <th>genres</th>\n",
       "      <th>section</th>\n",
       "      <th>parts</th>\n",
       "      <th>ht_time_signature</th>\n",
       "      <th>ht_bpm</th>\n",
       "      <th>midi_title</th>\n",
       "      <th>mxl</th>\n",
       "      <th>midi_transform</th>\n",
       "    </tr>\n",
       "  </thead>\n",
       "  <tbody>\n",
       "    <tr>\n",
       "      <th>0</th>\n",
       "      <td>https://www.hooktheory.com/theorytab/view/wayn...</td>\n",
       "      <td>Piano</td>\n",
       "      <td>0.0</td>\n",
       "      <td>3/4</td>\n",
       "      <td>yu-gi-oh-theme-song</td>\n",
       "      <td>36.0</td>\n",
       "      <td>1.0</td>\n",
       "      <td>hooktheory</td>\n",
       "      <td>wayne-sharpe</td>\n",
       "      <td>C</td>\n",
       "      <td>...</td>\n",
       "      <td>C major</td>\n",
       "      <td>0.0</td>\n",
       "      <td>NaN</td>\n",
       "      <td>intro</td>\n",
       "      <td>intro,chorus</td>\n",
       "      <td>3.0</td>\n",
       "      <td>85.0</td>\n",
       "      <td>yu-gi-oh</td>\n",
       "      <td>NaN</td>\n",
       "      <td>midi_transform/hooktheory/pianoroll/w/wayne-sh...</td>\n",
       "    </tr>\n",
       "    <tr>\n",
       "      <th>1</th>\n",
       "      <td>https://www.hooktheory.com/theorytab/view/wayn...</td>\n",
       "      <td>Piano,Piano</td>\n",
       "      <td>0.0</td>\n",
       "      <td>4/4</td>\n",
       "      <td>yu-gi-oh-theme-song</td>\n",
       "      <td>32.0</td>\n",
       "      <td>1.0</td>\n",
       "      <td>hooktheory</td>\n",
       "      <td>wayne-sharpe</td>\n",
       "      <td>C</td>\n",
       "      <td>...</td>\n",
       "      <td>C major</td>\n",
       "      <td>0.0</td>\n",
       "      <td>NaN</td>\n",
       "      <td>chorus</td>\n",
       "      <td>intro,chorus</td>\n",
       "      <td>4.0</td>\n",
       "      <td>128.0</td>\n",
       "      <td>yu-gi-oh3</td>\n",
       "      <td>NaN</td>\n",
       "      <td>midi_transform/hooktheory/pianoroll/w/wayne-sh...</td>\n",
       "    </tr>\n",
       "    <tr>\n",
       "      <th>2</th>\n",
       "      <td>https://www.hooktheory.com/theorytab/view/what...</td>\n",
       "      <td>Piano,Piano</td>\n",
       "      <td>-5.0</td>\n",
       "      <td>4/4</td>\n",
       "      <td>kiefer</td>\n",
       "      <td>16.0</td>\n",
       "      <td>6.0</td>\n",
       "      <td>hooktheory</td>\n",
       "      <td>what-a-day</td>\n",
       "      <td>D</td>\n",
       "      <td>...</td>\n",
       "      <td>A minor</td>\n",
       "      <td>0.0</td>\n",
       "      <td>Jazz</td>\n",
       "      <td>chorus</td>\n",
       "      <td>chorus</td>\n",
       "      <td>4.0</td>\n",
       "      <td>96.0</td>\n",
       "      <td>kiefer</td>\n",
       "      <td>NaN</td>\n",
       "      <td>midi_transform/hooktheory/pianoroll/w/what-a-d...</td>\n",
       "    </tr>\n",
       "    <tr>\n",
       "      <th>3</th>\n",
       "      <td>https://www.hooktheory.com/theorytab/view/whit...</td>\n",
       "      <td>Piano,Piano</td>\n",
       "      <td>-5.0</td>\n",
       "      <td>4/4</td>\n",
       "      <td>senbonzakura</td>\n",
       "      <td>32.0</td>\n",
       "      <td>6.0</td>\n",
       "      <td>hooktheory</td>\n",
       "      <td>whiteflame</td>\n",
       "      <td>D</td>\n",
       "      <td>...</td>\n",
       "      <td>D minor</td>\n",
       "      <td>-5.0</td>\n",
       "      <td>J-Pop,Pop</td>\n",
       "      <td>verse</td>\n",
       "      <td>verse,pre-chorus,chorus</td>\n",
       "      <td>4.0</td>\n",
       "      <td>152.0</td>\n",
       "      <td>Senbonzakura</td>\n",
       "      <td>NaN</td>\n",
       "      <td>midi_transform/hooktheory/pianoroll/w/whitefla...</td>\n",
       "    </tr>\n",
       "    <tr>\n",
       "      <th>4</th>\n",
       "      <td>https://www.hooktheory.com/theorytab/view/wham...</td>\n",
       "      <td>Piano,Piano</td>\n",
       "      <td>-1.0</td>\n",
       "      <td>4/4</td>\n",
       "      <td>last-christmas</td>\n",
       "      <td>32.0</td>\n",
       "      <td>1.0</td>\n",
       "      <td>hooktheory</td>\n",
       "      <td>wham</td>\n",
       "      <td>Db</td>\n",
       "      <td>...</td>\n",
       "      <td>C# major</td>\n",
       "      <td>-1.0</td>\n",
       "      <td>Holiday</td>\n",
       "      <td>intro</td>\n",
       "      <td>intro,verse,chorus</td>\n",
       "      <td>4.0</td>\n",
       "      <td>108.0</td>\n",
       "      <td>Last Christmas Intro</td>\n",
       "      <td>NaN</td>\n",
       "      <td>midi_transform/hooktheory/pianoroll/w/wham/las...</td>\n",
       "    </tr>\n",
       "  </tbody>\n",
       "</table>\n",
       "<p>5 rows × 23 columns</p>\n",
       "</div>"
      ],
      "text/plain": [
       "                                            song_url  instruments  ht_offset  \\\n",
       "0  https://www.hooktheory.com/theorytab/view/wayn...        Piano        0.0   \n",
       "1  https://www.hooktheory.com/theorytab/view/wayn...  Piano,Piano        0.0   \n",
       "2  https://www.hooktheory.com/theorytab/view/what...  Piano,Piano       -5.0   \n",
       "3  https://www.hooktheory.com/theorytab/view/whit...  Piano,Piano       -5.0   \n",
       "4  https://www.hooktheory.com/theorytab/view/wham...  Piano,Piano       -1.0   \n",
       "\n",
       "  time_signature                title quarter_length  ht_mode      source  \\\n",
       "0            3/4  yu-gi-oh-theme-song           36.0      1.0  hooktheory   \n",
       "1            4/4  yu-gi-oh-theme-song           32.0      1.0  hooktheory   \n",
       "2            4/4               kiefer           16.0      6.0  hooktheory   \n",
       "3            4/4         senbonzakura           32.0      6.0  hooktheory   \n",
       "4            4/4       last-christmas           32.0      1.0  hooktheory   \n",
       "\n",
       "         artist ht_key                        ...                          \\\n",
       "0  wayne-sharpe      C                        ...                           \n",
       "1  wayne-sharpe      C                        ...                           \n",
       "2    what-a-day      D                        ...                           \n",
       "3    whiteflame      D                        ...                           \n",
       "4          wham     Db                        ...                           \n",
       "\n",
       "   inferred_key  inferred_offset     genres section                    parts  \\\n",
       "0       C major              0.0        NaN   intro             intro,chorus   \n",
       "1       C major              0.0        NaN  chorus             intro,chorus   \n",
       "2       A minor              0.0       Jazz  chorus                   chorus   \n",
       "3       D minor             -5.0  J-Pop,Pop   verse  verse,pre-chorus,chorus   \n",
       "4      C# major             -1.0    Holiday   intro       intro,verse,chorus   \n",
       "\n",
       "  ht_time_signature ht_bpm            midi_title  mxl  \\\n",
       "0               3.0   85.0              yu-gi-oh  NaN   \n",
       "1               4.0  128.0             yu-gi-oh3  NaN   \n",
       "2               4.0   96.0                kiefer  NaN   \n",
       "3               4.0  152.0          Senbonzakura  NaN   \n",
       "4               4.0  108.0  Last Christmas Intro  NaN   \n",
       "\n",
       "                                      midi_transform  \n",
       "0  midi_transform/hooktheory/pianoroll/w/wayne-sh...  \n",
       "1  midi_transform/hooktheory/pianoroll/w/wayne-sh...  \n",
       "2  midi_transform/hooktheory/pianoroll/w/what-a-d...  \n",
       "3  midi_transform/hooktheory/pianoroll/w/whitefla...  \n",
       "4  midi_transform/hooktheory/pianoroll/w/wham/las...  \n",
       "\n",
       "[5 rows x 23 columns]"
      ]
     },
     "execution_count": 20,
     "metadata": {},
     "output_type": "execute_result"
    }
   ],
   "source": [
    "merged_df.to_csv(out_csv, index=False); merged_df.head()"
   ]
  },
  {
   "cell_type": "code",
   "execution_count": null,
   "metadata": {},
   "outputs": [],
   "source": []
  }
 ],
 "metadata": {
  "kernelspec": {
   "display_name": "Python 3",
   "language": "python",
   "name": "python3"
  },
  "language_info": {
   "codemirror_mode": {
    "name": "ipython",
    "version": 3
   },
   "file_extension": ".py",
   "mimetype": "text/x-python",
   "name": "python",
   "nbconvert_exporter": "python",
   "pygments_lexer": "ipython3",
   "version": "3.7.2"
  }
 },
 "nbformat": 4,
 "nbformat_minor": 2
}

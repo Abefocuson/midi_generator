{
 "cells": [
  {
   "cell_type": "code",
   "execution_count": 1,
   "metadata": {},
   "outputs": [],
   "source": [
    "%reload_ext autoreload\n",
    "%autoreload 2\n",
    "%matplotlib inline"
   ]
  },
  {
   "cell_type": "code",
   "execution_count": 2,
   "metadata": {},
   "outputs": [],
   "source": [
    "from encode_data import *\n",
    "from midi_data import *"
   ]
  },
  {
   "cell_type": "code",
   "execution_count": 3,
   "metadata": {},
   "outputs": [],
   "source": [
    "from tqdm import tqdm"
   ]
  },
  {
   "cell_type": "markdown",
   "metadata": {},
   "source": [
    "## Standardize and reformat raw midi files before encoding to text\n",
    "- Transform key to C major\n",
    "- Remove unused instruments\n",
    "- Combine multiple tracks with the same instrument into a single part\n",
    "- Melody, Piano, String"
   ]
  },
  {
   "cell_type": "markdown",
   "metadata": {},
   "source": [
    "### Load midi data"
   ]
  },
  {
   "cell_type": "code",
   "execution_count": 4,
   "metadata": {},
   "outputs": [],
   "source": [
    "version = 'v8'\n",
    "data_path = Path('data/midi')\n",
    "version_path = data_path/version"
   ]
  },
  {
   "cell_type": "code",
   "execution_count": 5,
   "metadata": {},
   "outputs": [],
   "source": [
    "import pandas as pd"
   ]
  },
  {
   "cell_type": "code",
   "execution_count": 6,
   "metadata": {},
   "outputs": [
    {
     "data": {
      "text/plain": [
       "(PosixPath('data/midi/v8/metadata/midi_sources.csv'),\n",
       " PosixPath('data/midi/v8/midi_transform/midi_transform.csv'))"
      ]
     },
     "execution_count": 6,
     "metadata": {},
     "output_type": "execute_result"
    }
   ],
   "source": [
    "source_dir = 'midi_sources'\n",
    "out_dir = 'midi_transform'\n",
    "source_csv = version_path/'metadata'/f'{source_dir}.csv'\n",
    "out_csv = version_path/out_dir/f'{out_dir}.csv'\n",
    "out_csv.parent.mkdir(parents=True, exist_ok=True)\n",
    "source_csv, out_csv"
   ]
  },
  {
   "cell_type": "code",
   "execution_count": 7,
   "metadata": {},
   "outputs": [
    {
     "name": "stderr",
     "output_type": "stream",
     "text": [
      "/home/ubuntu/anaconda3/envs/midi/lib/python3.7/site-packages/IPython/core/interactiveshell.py:3020: DtypeWarning: Columns (1,4,15,18,19,21) have mixed types. Specify dtype option on import or set low_memory=False.\n",
      "  interactivity=interactivity, compiler=compiler, result=result)\n"
     ]
    },
    {
     "data": {
      "text/html": [
       "<div>\n",
       "<style scoped>\n",
       "    .dataframe tbody tr th:only-of-type {\n",
       "        vertical-align: middle;\n",
       "    }\n",
       "\n",
       "    .dataframe tbody tr th {\n",
       "        vertical-align: top;\n",
       "    }\n",
       "\n",
       "    .dataframe thead th {\n",
       "        text-align: right;\n",
       "    }\n",
       "</style>\n",
       "<table border=\"1\" class=\"dataframe\">\n",
       "  <thead>\n",
       "    <tr style=\"text-align: right;\">\n",
       "      <th></th>\n",
       "      <th>inferred_offset</th>\n",
       "      <th>song_url</th>\n",
       "      <th>instruments</th>\n",
       "      <th>ht_mode</th>\n",
       "      <th>midi_title</th>\n",
       "      <th>title</th>\n",
       "      <th>seconds</th>\n",
       "      <th>midi</th>\n",
       "      <th>inferred_key</th>\n",
       "      <th>quarter_length</th>\n",
       "      <th>...</th>\n",
       "      <th>ht_offset</th>\n",
       "      <th>ht_bpm</th>\n",
       "      <th>artist</th>\n",
       "      <th>ht_key</th>\n",
       "      <th>ht_time_signature</th>\n",
       "      <th>bpm</th>\n",
       "      <th>section</th>\n",
       "      <th>parts</th>\n",
       "      <th>genres</th>\n",
       "      <th>mxl</th>\n",
       "    </tr>\n",
       "  </thead>\n",
       "  <tbody>\n",
       "    <tr>\n",
       "      <th>0</th>\n",
       "      <td>0.0</td>\n",
       "      <td>https://www.hooktheory.com/theorytab/view/wayn...</td>\n",
       "      <td>Piano</td>\n",
       "      <td>1.0</td>\n",
       "      <td>yu-gi-oh</td>\n",
       "      <td>yu-gi-oh-theme-song</td>\n",
       "      <td>25.411765</td>\n",
       "      <td>midi_sources/hooktheory/pianoroll/w/wayne-shar...</td>\n",
       "      <td>C major</td>\n",
       "      <td>36.0</td>\n",
       "      <td>...</td>\n",
       "      <td>0.0</td>\n",
       "      <td>85.0</td>\n",
       "      <td>wayne-sharpe</td>\n",
       "      <td>C</td>\n",
       "      <td>3.0</td>\n",
       "      <td>85.0</td>\n",
       "      <td>intro</td>\n",
       "      <td>intro,chorus</td>\n",
       "      <td>NaN</td>\n",
       "      <td>NaN</td>\n",
       "    </tr>\n",
       "    <tr>\n",
       "      <th>1</th>\n",
       "      <td>0.0</td>\n",
       "      <td>https://www.hooktheory.com/theorytab/view/wayn...</td>\n",
       "      <td>Piano,Piano</td>\n",
       "      <td>1.0</td>\n",
       "      <td>yu-gi-oh3</td>\n",
       "      <td>yu-gi-oh-theme-song</td>\n",
       "      <td>15.000000</td>\n",
       "      <td>midi_sources/hooktheory/pianoroll/w/wayne-shar...</td>\n",
       "      <td>C major</td>\n",
       "      <td>32.0</td>\n",
       "      <td>...</td>\n",
       "      <td>0.0</td>\n",
       "      <td>128.0</td>\n",
       "      <td>wayne-sharpe</td>\n",
       "      <td>C</td>\n",
       "      <td>4.0</td>\n",
       "      <td>128.0</td>\n",
       "      <td>chorus</td>\n",
       "      <td>intro,chorus</td>\n",
       "      <td>NaN</td>\n",
       "      <td>NaN</td>\n",
       "    </tr>\n",
       "    <tr>\n",
       "      <th>2</th>\n",
       "      <td>5.0</td>\n",
       "      <td>https://www.hooktheory.com/theorytab/view/what...</td>\n",
       "      <td>Piano,Piano</td>\n",
       "      <td>1.0</td>\n",
       "      <td>kiefer</td>\n",
       "      <td>kiefer</td>\n",
       "      <td>10.000000</td>\n",
       "      <td>midi_sources/hooktheory/pianoroll/w/what-a-day...</td>\n",
       "      <td>E minor</td>\n",
       "      <td>16.0</td>\n",
       "      <td>...</td>\n",
       "      <td>0.0</td>\n",
       "      <td>96.0</td>\n",
       "      <td>what-a-day</td>\n",
       "      <td>C</td>\n",
       "      <td>4.0</td>\n",
       "      <td>96.0</td>\n",
       "      <td>chorus</td>\n",
       "      <td>chorus</td>\n",
       "      <td>Jazz</td>\n",
       "      <td>NaN</td>\n",
       "    </tr>\n",
       "    <tr>\n",
       "      <th>3</th>\n",
       "      <td>NaN</td>\n",
       "      <td>https://www.hooktheory.com/theorytab/view/weez...</td>\n",
       "      <td>NaN</td>\n",
       "      <td>1.0</td>\n",
       "      <td>My New Song</td>\n",
       "      <td>beverly-hills</td>\n",
       "      <td>NaN</td>\n",
       "      <td>midi_sources/hooktheory/pianoroll/w/weezer/bev...</td>\n",
       "      <td>NaN</td>\n",
       "      <td>NaN</td>\n",
       "      <td>...</td>\n",
       "      <td>0.0</td>\n",
       "      <td>128.0</td>\n",
       "      <td>weezer</td>\n",
       "      <td>C</td>\n",
       "      <td>4.0</td>\n",
       "      <td>NaN</td>\n",
       "      <td>intro-and-verse</td>\n",
       "      <td>intro-and-verse</td>\n",
       "      <td>NaN</td>\n",
       "      <td>NaN</td>\n",
       "    </tr>\n",
       "    <tr>\n",
       "      <th>4</th>\n",
       "      <td>0.0</td>\n",
       "      <td>https://www.hooktheory.com/theorytab/view/weez...</td>\n",
       "      <td>Piano,Piano</td>\n",
       "      <td>1.0</td>\n",
       "      <td>Weezer - Fall Together</td>\n",
       "      <td>fall-together-</td>\n",
       "      <td>10.322581</td>\n",
       "      <td>midi_sources/hooktheory/pianoroll/w/weezer/fal...</td>\n",
       "      <td>A minor</td>\n",
       "      <td>16.0</td>\n",
       "      <td>...</td>\n",
       "      <td>0.0</td>\n",
       "      <td>93.0</td>\n",
       "      <td>weezer</td>\n",
       "      <td>C</td>\n",
       "      <td>4.0</td>\n",
       "      <td>93.0</td>\n",
       "      <td>chorus</td>\n",
       "      <td>chorus</td>\n",
       "      <td>Rock</td>\n",
       "      <td>NaN</td>\n",
       "    </tr>\n",
       "  </tbody>\n",
       "</table>\n",
       "<p>5 rows × 22 columns</p>\n",
       "</div>"
      ],
      "text/plain": [
       "   inferred_offset                                           song_url  \\\n",
       "0              0.0  https://www.hooktheory.com/theorytab/view/wayn...   \n",
       "1              0.0  https://www.hooktheory.com/theorytab/view/wayn...   \n",
       "2              5.0  https://www.hooktheory.com/theorytab/view/what...   \n",
       "3              NaN  https://www.hooktheory.com/theorytab/view/weez...   \n",
       "4              0.0  https://www.hooktheory.com/theorytab/view/weez...   \n",
       "\n",
       "   instruments  ht_mode              midi_title                title  \\\n",
       "0        Piano      1.0                yu-gi-oh  yu-gi-oh-theme-song   \n",
       "1  Piano,Piano      1.0               yu-gi-oh3  yu-gi-oh-theme-song   \n",
       "2  Piano,Piano      1.0                  kiefer               kiefer   \n",
       "3          NaN      1.0             My New Song        beverly-hills   \n",
       "4  Piano,Piano      1.0  Weezer - Fall Together       fall-together-   \n",
       "\n",
       "     seconds                                               midi inferred_key  \\\n",
       "0  25.411765  midi_sources/hooktheory/pianoroll/w/wayne-shar...      C major   \n",
       "1  15.000000  midi_sources/hooktheory/pianoroll/w/wayne-shar...      C major   \n",
       "2  10.000000  midi_sources/hooktheory/pianoroll/w/what-a-day...      E minor   \n",
       "3        NaN  midi_sources/hooktheory/pianoroll/w/weezer/bev...          NaN   \n",
       "4  10.322581  midi_sources/hooktheory/pianoroll/w/weezer/fal...      A minor   \n",
       "\n",
       "  quarter_length ...  ht_offset ht_bpm        artist  ht_key  \\\n",
       "0           36.0 ...        0.0   85.0  wayne-sharpe       C   \n",
       "1           32.0 ...        0.0  128.0  wayne-sharpe       C   \n",
       "2           16.0 ...        0.0   96.0    what-a-day       C   \n",
       "3            NaN ...        0.0  128.0        weezer       C   \n",
       "4           16.0 ...        0.0   93.0        weezer       C   \n",
       "\n",
       "  ht_time_signature    bpm          section            parts genres  mxl  \n",
       "0               3.0   85.0            intro     intro,chorus    NaN  NaN  \n",
       "1               4.0  128.0           chorus     intro,chorus    NaN  NaN  \n",
       "2               4.0   96.0           chorus           chorus   Jazz  NaN  \n",
       "3               4.0    NaN  intro-and-verse  intro-and-verse    NaN  NaN  \n",
       "4               4.0   93.0           chorus           chorus   Rock  NaN  \n",
       "\n",
       "[5 rows x 22 columns]"
      ]
     },
     "execution_count": 7,
     "metadata": {},
     "output_type": "execute_result"
    }
   ],
   "source": [
    "df = pd.read_csv(source_csv); df.head()"
   ]
  },
  {
   "cell_type": "code",
   "execution_count": 8,
   "metadata": {},
   "outputs": [],
   "source": [
    "df_filtered = df.loc[df.time_signature.notna()]"
   ]
  },
  {
   "cell_type": "code",
   "execution_count": 9,
   "metadata": {},
   "outputs": [],
   "source": [
    "from data_sources import process_parallel, transform_csv_row"
   ]
  },
  {
   "cell_type": "code",
   "execution_count": 10,
   "metadata": {},
   "outputs": [],
   "source": [
    "from midi_transform import *"
   ]
  },
  {
   "cell_type": "markdown",
   "metadata": {},
   "source": [
    "### Need better midi formatting"
   ]
  },
  {
   "cell_type": "code",
   "execution_count": 11,
   "metadata": {},
   "outputs": [],
   "source": [
    "def transform_func(file, out_file, row):\n",
    "    offset = row.ht_offset if row.source == 'hooktheory' else row.inferred_offset\n",
    "    music_file = compress_midi_file(file, cutoff=5) # remove non note tracks and standardize instruments\n",
    "    music_file.open(out_file, attrib='wb')\n",
    "    music_file.write()\n",
    "    music_file.close()"
   ]
  },
  {
   "cell_type": "code",
   "execution_count": 12,
   "metadata": {},
   "outputs": [],
   "source": [
    "from functools import partial\n",
    "parallel_func = partial(transform_csv_row, \n",
    "        transform_func=transform_func,\n",
    "        base_path=version_path,\n",
    "        source_dir=source_dir,\n",
    "        out_dir=out_dir,\n",
    "        out_extension=None,\n",
    "        source_col='midi'\n",
    "       )"
   ]
  },
  {
   "cell_type": "code",
   "execution_count": 13,
   "metadata": {},
   "outputs": [],
   "source": [
    "# sanity check\n",
    "# for r in df_filtered.iterrows():\n",
    "#     parallel_func(r)"
   ]
  },
  {
   "cell_type": "code",
   "execution_count": 14,
   "metadata": {},
   "outputs": [],
   "source": [
    "### AS TOD: Fix 'info channel is not channel 0' error"
   ]
  },
  {
   "cell_type": "code",
   "execution_count": 15,
   "metadata": {
    "scrolled": false
   },
   "outputs": [
    {
     "data": {
      "text/html": [
       "\n",
       "    <div>\n",
       "        <style>\n",
       "            /* Turns off some styling */\n",
       "            progress {\n",
       "                /* gets rid of default border in Firefox and Opera. */\n",
       "                border: none;\n",
       "                /* Needs to be in here for Safari polyfill so background images work as expected. */\n",
       "                background-size: auto;\n",
       "            }\n",
       "            .progress-bar-interrupted, .progress-bar-interrupted::-webkit-progress-bar {\n",
       "                background: #F44336;\n",
       "            }\n",
       "        </style>\n",
       "      <progress value='166644' class='' max='166644', style='width:300px; height:20px; vertical-align: middle;'></progress>\n",
       "      100.00% [166644/166644 06:12<00:00]\n",
       "    </div>\n",
       "    "
      ],
      "text/plain": [
       "<IPython.core.display.HTML object>"
      ]
     },
     "metadata": {},
     "output_type": "display_data"
    },
    {
     "name": "stdout",
     "output_type": "stream",
     "text": [
      "Error converting midi to sequence 'NoneType' object has no attribute 'open' data/midi/v8/midi_sources/freemidi/genre-dance-eletric/Taylor Dayne - Love Will Lead You Back.mid\n",
      "Error converting midi to sequence 'NoneType' object has no attribute 'open' data/midi/v8/midi_sources/freemidi/genre-dance-eletric/Taylor Dayne - Send Me A Lover.mid\n",
      "Error converting midi to sequence 'NoneType' object has no attribute 'open' data/midi/v8/midi_sources/freemidi/genre-dance-eletric/Whitney Houston - Heartbreak Hotel (feat. faith evens & kelly price).mid\n",
      "Error converting midi to sequence 'NoneType' object has no attribute 'open' data/midi/v8/midi_sources/freemidi/genre-dance-eletric/ATB - Killer.mid\n",
      "Error converting midi to sequence 'NoneType' object has no attribute 'open' data/midi/v8/midi_sources/freemidi/genre-dance-eletric/Madonna - Get Into The Groove.mid\n",
      "Error converting midi to sequence 'NoneType' object has no attribute 'open' data/midi/v8/midi_sources/freemidi/genre-dance-eletric/Whitney Houston - All The Man I Need.mid\n",
      "Error converting midi to sequence 'NoneType' object has no attribute 'open' data/midi/v8/midi_sources/freemidi/genre-dance-eletric/Whitney Houston - I Have Nothing At All.mid\n",
      "Error converting midi to sequence 'NoneType' object has no attribute 'open' data/midi/v8/midi_sources/freemidi/genre-dance-eletric/Alanis Morissette - Thank You.mid\n",
      "Error converting midi to sequence 'NoneType' object has no attribute 'open' data/midi/v8/midi_sources/freemidi/genre-dance-eletric/Akcent - Mała Figlarka.mid\n",
      "Error converting midi to sequence 'NoneType' object has no attribute 'open' data/midi/v8/midi_sources/freemidi/genre-dance-eletric/Four Tops - Loco In Acapulco 2.mid\n",
      "Error converting midi to sequence 'NoneType' object has no attribute 'open' data/midi/v8/midi_sources/freemidi/genre-dance-eletric/Moby - Whispering Wind.mid\n",
      "Error converting midi to sequence 'NoneType' object has no attribute 'open' data/midi/v8/midi_sources/freemidi/genre-dance-eletric/Akcent - Wyznanie.mid\n",
      "Error converting midi to sequence 'NoneType' object has no attribute 'open' data/midi/v8/midi_sources/freemidi/genre-dance-eletric/Yaz - Yazoo - Only you.mid\n",
      "Error converting midi to sequence 'NoneType' object has no attribute 'open' data/midi/v8/midi_sources/freemidi/genre-dance-eletric/Whitney Houston - Someone For Me.mid\n",
      "Error converting midi to sequence 'NoneType' object has no attribute 'open' data/midi/v8/midi_sources/freemidi/genre-dance-eletric/Enrique Iglesias - Addicted.mid\n",
      "Error converting midi to sequence 'NoneType' object has no attribute 'open' data/midi/v8/midi_sources/freemidi/genre-dance-eletric/Madonna - Hollywood.mid\n",
      "Error converting midi to sequence 'NoneType' object has no attribute 'open' data/midi/v8/midi_sources/freemidi/genre-dance-eletric/Akcent - Tabu Tibu.mid\n",
      "Error converting midi to sequence 'NoneType' object has no attribute 'open' data/midi/v8/midi_sources/freemidi/genre-dance-eletric/Madonna - American Life.mid\n",
      "Error converting midi to sequence 'NoneType' object has no attribute 'open' data/midi/v8/midi_sources/freemidi/genre-dance-eletric/Gloria Gaynor - Error no title.mid\n",
      "Error converting midi to sequence 'NoneType' object has no attribute 'open' data/midi/v8/midi_sources/freemidi/genre-dance-eletric/Modern Talking - Arabian Gold.mid\n",
      "Error converting midi to sequence 'NoneType' object has no attribute 'open' data/midi/v8/midi_sources/freemidi/genre-dance-eletric/S Club 7 - Two In A Million.mid\n",
      "Error converting midi to sequence 'NoneType' object has no attribute 'open' data/midi/v8/midi_sources/freemidi/genre-dance-eletric/Anastasia - Seasons Change.mid\n",
      "Error converting midi to sequence 'NoneType' object has no attribute 'open' data/midi/v8/midi_sources/freemidi/genre-dance-eletric/Madonna - Bad Girl.mid\n",
      "Error converting midi to sequence 'NoneType' object has no attribute 'open' data/midi/v8/midi_sources/freemidi/genre-pop/Barry Manilow - We've Got Tonight.mid\n",
      "Error converting midi to sequence 'NoneType' object has no attribute 'open' data/midi/v8/midi_sources/freemidi/genre-pop/Barbra Streisand - All I Ask Of You.mid\n",
      "Error converting midi to sequence 'NoneType' object has no attribute 'open' data/midi/v8/midi_sources/freemidi/genre-dance-eletric/Whitney Houston - So Emotional.mid\n",
      "Error converting midi to sequence 'NoneType' object has no attribute 'open' data/midi/v8/midi_sources/freemidi/genre-dance-eletric/Daniel Bedingfield - Friday.mid\n",
      "Error converting midi to sequence 'NoneType' object has no attribute 'open' data/midi/v8/midi_sources/freemidi/genre-dance-eletric/Akcent - Powiedz Mamo.mid\n",
      "Error converting midi to sequence 'NoneType' object has no attribute 'open' data/midi/v8/midi_sources/freemidi/genre-pop/Michael Jackson - She's Out Of My Life.mid\n",
      "Error converting midi to sequence 'NoneType' object has no attribute 'open' data/midi/v8/midi_sources/freemidi/genre-pop/Jim Croce - I'll Have To Say I Love You In A Song.mid\n",
      "Error converting midi to sequence 'NoneType' object has no attribute 'open' data/midi/v8/midi_sources/freemidi/genre-dance-eletric/Eurythmics - When Tomorrow Comes.mid\n",
      "Error converting midi to sequence 'NoneType' object has no attribute 'open' data/midi/v8/midi_sources/freemidi/genre-dance-eletric/ATB - The Summer.mid\n",
      "Error converting midi to sequence 'NoneType' object has no attribute 'open' data/midi/v8/midi_sources/freemidi/genre-pop/Culture Club - Do You Really Want To Hurt Me.mid\n",
      "Error converting midi to sequence 'NoneType' object has no attribute 'open' data/midi/v8/midi_sources/freemidi/genre-pop/Louis Armstrong - The Man I Love.mid\n",
      "Error converting midi to sequence 'NoneType' object has no attribute 'open' data/midi/v8/midi_sources/freemidi/genre-pop/Maywood - Late At Night.mid\n",
      "Error converting midi to sequence 'NoneType' object has no attribute 'open' data/midi/v8/midi_sources/freemidi/genre-pop/Madonna - Get Into The Groove.mid\n",
      "Error converting midi to sequence 'NoneType' object has no attribute 'open' data/midi/v8/midi_sources/freemidi/genre-dance-eletric/Anastacia - Left Outside Alone.mid\n",
      "Error converting midi to sequence 'NoneType' object has no attribute 'open' data/midi/v8/midi_sources/freemidi/genre-dance-eletric/Culture Beat - Anything.mid\n",
      "Error converting midi to sequence 'NoneType' object has no attribute 'open' data/midi/v8/midi_sources/freemidi/genre-pop/Engelbert Humperdinck - Green Green Grass Of Home.mid\n",
      "Error converting midi to sequence 'NoneType' object has no attribute 'open' data/midi/v8/midi_sources/freemidi/genre-pop/Prince - Little Red Corvette.mid\n",
      "Error converting midi to sequence 'NoneType' object has no attribute 'open' data/midi/v8/midi_sources/freemidi/genre-pop/Westlife - What Makes A Man.mid\n",
      "Error converting midi to sequence 'NoneType' object has no attribute 'open' data/midi/v8/midi_sources/freemidi/genre-pop/Carpenters - Goodbye To Love.mid\n",
      "Error converting midi to sequence 'NoneType' object has no attribute 'open' data/midi/v8/midi_sources/freemidi/genre-pop/Ronettes - Be My Baby.mid\n",
      "Error converting midi to sequence 'NoneType' object has no attribute 'open' data/midi/v8/midi_sources/freemidi/genre-pop/Boney M - Have You Ever Seen The Rain.mid\n",
      "Error converting midi to sequence 'NoneType' object has no attribute 'open' data/midi/v8/midi_sources/freemidi/genre-pop/2NE1 - Fire.mid\n",
      "Error converting midi to sequence 'NoneType' object has no attribute 'open' data/midi/v8/midi_sources/freemidi/genre-pop/Bruno e Marrone - Ainda Ontem Chorei de Saudade.mid\n",
      "Error converting midi to sequence 'NoneType' object has no attribute 'open' data/midi/v8/midi_sources/freemidi/genre-pop/Chris De Burgh - Waiting for the Hurricane.mid\n",
      "Error converting midi to sequence 'NoneType' object has no attribute 'open' data/midi/v8/midi_sources/freemidi/genre-pop/BJ Thomas - Raindrops Keep Falling 2.mid\n",
      "Error converting midi to sequence 'NoneType' object has no attribute 'open' data/midi/v8/midi_sources/freemidi/genre-pop/Britney Spears - Medley.mid\n",
      "Error converting midi to sequence 'NoneType' object has no attribute 'open' data/midi/v8/midi_sources/freemidi/genre-pop/Sting - Consider Me Gone.mid\n",
      "Error converting midi to sequence 'NoneType' object has no attribute 'open' data/midi/v8/midi_sources/freemidi/genre-pop/Pink - Just Like A Pill.mid\n"
     ]
    },
    {
     "name": "stdout",
     "output_type": "stream",
     "text": [
      "Error converting midi to sequence 'NoneType' object has no attribute 'open' data/midi/v8/midi_sources/freemidi/genre-pop/Celine Dion - Beauty And The Beast.mid\n",
      "Error converting midi to sequence 'NoneType' object has no attribute 'open' data/midi/v8/midi_sources/freemidi/genre-pop/Peter Gabriel - Starless.mid\n",
      "Error converting midi to sequence 'NoneType' object has no attribute 'open' data/midi/v8/midi_sources/freemidi/genre-pop/Tom Jones - Sexbomb.mid\n",
      "Error converting midi to sequence 'NoneType' object has no attribute 'open' data/midi/v8/midi_sources/freemidi/genre-pop/Cyndi Lauper - I Drove All Night.mid\n",
      "Error converting midi to sequence 'NoneType' object has no attribute 'open' data/midi/v8/midi_sources/freemidi/genre-pop/Bruno e Marrone - Um bom Perdedor.mid\n",
      "Error converting midi to sequence 'NoneType' object has no attribute 'open' data/midi/v8/midi_sources/freemidi/genre-pop/Whitney Houston - Heartbreak Hotel (feat. faith evens & kelly price).mid\n",
      "Error converting midi to sequence 'NoneType' object has no attribute 'open' data/midi/v8/midi_sources/freemidi/genre-pop/ABBA - Knowing Me Knowing You.mid\n",
      "Error converting midi to sequence 'NoneType' object has no attribute 'open' data/midi/v8/midi_sources/freemidi/genre-pop/Anne Murray - I Just Fall In Love Again.mid\n",
      "Error converting midi to sequence 'NoneType' object has no attribute 'open' data/midi/v8/midi_sources/freemidi/genre-pop/Louis Armstrong - Kiss Of Fire.mid\n",
      "Error converting midi to sequence 'NoneType' object has no attribute 'open' data/midi/v8/midi_sources/freemidi/genre-pop/Michael Jackson - Thriller.mid\n",
      "Error converting midi to sequence 'NoneType' object has no attribute 'open' data/midi/v8/midi_sources/freemidi/genre-pop/Prince - Papa.mid\n",
      "Error converting midi to sequence 'NoneType' object has no attribute 'open' data/midi/v8/midi_sources/freemidi/genre-pop/Prince - U Got The Look.mid\n",
      "Error converting midi to sequence 'NoneType' object has no attribute 'open' data/midi/v8/midi_sources/freemidi/genre-pop/Ella Fitzgerald - Dont Dream Of Anybody But Me.mid\n",
      "Error converting midi to sequence 'NoneType' object has no attribute 'open' data/midi/v8/midi_sources/freemidi/genre-pop/Boyzone - When The Going Gets Tough.mid\n",
      "Error converting midi to sequence 'NoneType' object has no attribute 'open' data/midi/v8/midi_sources/freemidi/genre-pop/Michael Jackson - Bad.mid\n",
      "Error converting midi to sequence 'NoneType' object has no attribute 'open' data/midi/v8/midi_sources/freemidi/genre-pop/Rihanna - Hatin on the club.mid\n",
      "Error converting midi to sequence 'NoneType' object has no attribute 'open' data/midi/v8/midi_sources/freemidi/genre-pop/Barbra Streisand - Woman In Love.mid\n",
      "Error converting midi to sequence 'NoneType' object has no attribute 'open' data/midi/v8/midi_sources/freemidi/genre-pop/Louis Armstrong - Cabaret.mid\n",
      "Error converting midi to sequence 'NoneType' object has no attribute 'open' data/midi/v8/midi_sources/freemidi/genre-pop/Prince - Cream.mid\n",
      "Error converting midi to sequence 'NoneType' object has no attribute 'open' data/midi/v8/midi_sources/freemidi/genre-pop/Barbra Streisand - Ny State Of Mind.mid\n",
      "Error converting midi to sequence 'NoneType' object has no attribute 'open' data/midi/v8/midi_sources/freemidi/genre-pop/Deborah Cox - Nobody's Suposed To Be Here.mid\n",
      "Error converting midi to sequence 'NoneType' object has no attribute 'open' data/midi/v8/midi_sources/freemidi/genre-pop/Madness - Driving My Car.mid\n",
      "Error converting midi to sequence 'NoneType' object has no attribute 'open' data/midi/v8/midi_sources/freemidi/genre-pop/Whitney Houston - I Have Nothing At All.mid\n",
      "Error converting midi to sequence 'NoneType' object has no attribute 'open' data/midi/v8/midi_sources/freemidi/genre-pop/George Michael - Fast Love.mid\n",
      "Error converting midi to sequence 'NoneType' object has no attribute 'open' data/midi/v8/midi_sources/freemidi/genre-pop/ABBA - Money Money Money.mid\n",
      "Error converting midi to sequence 'NoneType' object has no attribute 'open' data/midi/v8/midi_sources/freemidi/genre-pop/Louis Armstrong - Blueberry Hill.mid\n",
      "Error converting midi to sequence 'NoneType' object has no attribute 'open' data/midi/v8/midi_sources/freemidi/genre-pop/Dolly Parton - I Will Always Love You.mid\n",
      "Error converting midi to sequence 'NoneType' object has no attribute 'open' data/midi/v8/midi_sources/freemidi/genre-pop/ABBA - Fernando.mid\n",
      "Error converting midi to sequence 'NoneType' object has no attribute 'open' data/midi/v8/midi_sources/freemidi/genre-pop/ABBA - I Have A Dream.mid\n",
      "Error converting midi to sequence 'NoneType' object has no attribute 'open' data/midi/v8/midi_sources/freemidi/genre-pop/Carpenters - You Are The One.mid\n",
      "Error converting midi to sequence 'NoneType' object has no attribute 'open' data/midi/v8/midi_sources/freemidi/genre-pop/Black Eyed Peas - Weekends.mid\n",
      "Error converting midi to sequence 'NoneType' object has no attribute 'open' data/midi/v8/midi_sources/freemidi/genre-pop/Dolly Parton - Loving.mid\n",
      "Error converting midi to sequence 'NoneType' object has no attribute 'open' data/midi/v8/midi_sources/freemidi/genre-pop/Elton John - Bennie And The Jets.mid\n",
      "Error converting midi to sequence 'NoneType' object has no attribute 'open' data/midi/v8/midi_sources/freemidi/genre-pop/Taylor Dayne - Love Will Lead You Back.mid\n",
      "Error converting midi to sequence 'NoneType' object has no attribute 'open' data/midi/v8/midi_sources/freemidi/genre-pop/Whitney Houston - Someone For Me.mid\n",
      "Error converting midi to sequence 'NoneType' object has no attribute 'open' data/midi/v8/midi_sources/freemidi/genre-pop/Tears For Fears - Break It Down Again.mid\n",
      "Error converting midi to sequence 'NoneType' object has no attribute 'open' data/midi/v8/midi_sources/freemidi/genre-pop/Passenger - Let Her Go.mid\n",
      "Error converting midi to sequence 'NoneType' object has no attribute 'open' data/midi/v8/midi_sources/freemidi/genre-pop/Prince - Diamonds And Pearls.mid\n",
      "Error converting midi to sequence 'NoneType' object has no attribute 'open' data/midi/v8/midi_sources/freemidi/genre-pop/Britney Spears - Not A Girl.mid\n",
      "Error converting midi to sequence 'NoneType' object has no attribute 'open' data/midi/v8/midi_sources/freemidi/genre-pop/Madonna - Bad Girl.mid\n",
      "Error converting midi to sequence 'NoneType' object has no attribute 'open' data/midi/v8/midi_sources/freemidi/genre-pop/Mariah Carey - Through The Rain.mid\n",
      "Error converting midi to sequence 'NoneType' object has no attribute 'open' data/midi/v8/midi_sources/freemidi/genre-pop/Usher - Yeah.mid\n",
      "Error converting midi to sequence 'NoneType' object has no attribute 'open' data/midi/v8/midi_sources/freemidi/genre-pop/Tina Turner - Fight No More.mid\n",
      "Error converting midi to sequence 'NoneType' object has no attribute 'open' data/midi/v8/midi_sources/freemidi/genre-pop/Puff Daddy - Been Around The World.mid\n",
      "Error converting midi to sequence 'NoneType' object has no attribute 'open' data/midi/v8/midi_sources/freemidi/genre-pop/Elton John - Daniel.mid\n",
      "Error converting midi to sequence 'NoneType' object has no attribute 'open' data/midi/v8/midi_sources/freemidi/genre-pop/Emma Bunton - What Am I.mid\n",
      "Error converting midi to sequence 'NoneType' object has no attribute 'open' data/midi/v8/midi_sources/freemidi/genre-pop/Bruno e Marrone - Rabo de SaiaRabo de Saia.mid\n",
      "Error converting midi to sequence 'NoneType' object has no attribute 'open' data/midi/v8/midi_sources/freemidi/genre-pop/Madonna - Hollywood.mid\n",
      "Error converting midi to sequence 'NoneType' object has no attribute 'open' data/midi/v8/midi_sources/freemidi/genre-pop/Janet Jackson - Feels So Right.mid\n",
      "Error converting midi to sequence 'NoneType' object has no attribute 'open' data/midi/v8/midi_sources/freemidi/genre-pop/Alphaville - Forever Young.mid\n",
      "Error converting midi to sequence 'NoneType' object has no attribute 'open' data/midi/v8/midi_sources/freemidi/genre-pop/Bee Gees - You Win Again (2).mid\n",
      "Error converting midi to sequence 'NoneType' object has no attribute 'open' data/midi/v8/midi_sources/freemidi/genre-pop/Celine Dion - Be The Man.mid\n",
      "Error converting midi to sequence 'NoneType' object has no attribute 'open' data/midi/v8/midi_sources/freemidi/genre-pop/Sting - English Man In New York.mid\n"
     ]
    },
    {
     "name": "stdout",
     "output_type": "stream",
     "text": [
      "Error converting midi to sequence 'NoneType' object has no attribute 'open' data/midi/v8/midi_sources/freemidi/genre-pop/Daniel Bedingfield - Friday.mid\n",
      "Error converting midi to sequence 'NoneType' object has no attribute 'open' data/midi/v8/midi_sources/freemidi/genre-pop/Puff Daddy - Bad Boys For Life.mid\n",
      "Error converting midi to sequence 'NoneType' object has no attribute 'open' data/midi/v8/midi_sources/freemidi/genre-pop/Whitney Houston - All The Man I Need.mid\n",
      "Error converting midi to sequence 'NoneType' object has no attribute 'open' data/midi/v8/midi_sources/freemidi/genre-pop/Bruno e Marrone - Preciso Amar de Novo.mid\n",
      "Error converting midi to sequence 'NoneType' object has no attribute 'open' data/midi/v8/midi_sources/freemidi/genre-pop/Black Eyed Peas - Request Line.mid\n",
      "Error converting midi to sequence 'NoneType' object has no attribute 'open' data/midi/v8/midi_sources/freemidi/genre-pop/Carpenters - Don't Cry For Me Argentina.mid\n",
      "Error converting midi to sequence 'NoneType' object has no attribute 'open' data/midi/v8/midi_sources/freemidi/genre-pop/Michael Jackson - Man In The Mirror.mid\n",
      "Error converting midi to sequence 'NoneType' object has no attribute 'open' data/midi/v8/midi_sources/freemidi/genre-pop/Taylor Dayne - Send Me A Lover.mid\n",
      "Error converting midi to sequence 'NoneType' object has no attribute 'open' data/midi/v8/midi_sources/freemidi/genre-pop/Beyonce - Broken Hearted Girl.mid\n",
      "Error converting midi to sequence 'NoneType' object has no attribute 'open' data/midi/v8/midi_sources/freemidi/genre-pop/Sting - If You Love Somebody Set Them Free.mid\n",
      "Error converting midi to sequence 'NoneType' object has no attribute 'open' data/midi/v8/midi_sources/freemidi/genre-pop/Michael Jackson - Rock With You.mid\n",
      "Error converting midi to sequence 'NoneType' object has no attribute 'open' data/midi/v8/midi_sources/freemidi/genre-pop/Sting - Moon Over Bourbon Street.mid\n",
      "Error converting midi to sequence 'NoneType' object has no attribute 'open' data/midi/v8/midi_sources/freemidi/genre-pop/Bee Gees - Don't Forget To Remember.mid\n",
      "Error converting midi to sequence 'NoneType' object has no attribute 'open' data/midi/v8/midi_sources/freemidi/genre-pop/Boney M - Malaika.mid\n",
      "Error converting midi to sequence 'NoneType' object has no attribute 'open' data/midi/v8/midi_sources/freemidi/genre-pop/Rod Stewart - Sailing.mid\n",
      "Error converting midi to sequence 'NoneType' object has no attribute 'open' data/midi/v8/midi_sources/freemidi/genre-pop/Prince - Nothing Compares.mid\n",
      "Error converting midi to sequence 'NoneType' object has no attribute 'open' data/midi/v8/midi_sources/freemidi/genre-pop/Michael Jackson - Liberian Girl.mid\n",
      "Error converting midi to sequence 'NoneType' object has no attribute 'open' data/midi/v8/midi_sources/freemidi/genre-pop/Gareth Gates - Anyone Of Us.mid\n",
      "Error converting midi to sequence 'NoneType' object has no attribute 'open' data/midi/v8/midi_sources/freemidi/genre-pop/Westlife - I Have A Dream.mid\n",
      "Error converting midi to sequence 'NoneType' object has no attribute 'open' data/midi/v8/midi_sources/freemidi/genre-pop/Gloria Gaynor - Error no title.mid\n",
      "Error converting midi to sequence 'NoneType' object has no attribute 'open' data/midi/v8/midi_sources/freemidi/genre-pop/Carpenters - Sing.mid\n",
      "Error converting midi to sequence 'NoneType' object has no attribute 'open' data/midi/v8/midi_sources/freemidi/genre-pop/Boney M - braun girl.mid\n",
      "Error converting midi to sequence 'NoneType' object has no attribute 'open' data/midi/v8/midi_sources/freemidi/genre-pop/Usher - Burn.mid\n",
      "Error converting midi to sequence 'NoneType' object has no attribute 'open' data/midi/v8/midi_sources/freemidi/genre-pop/Oasis - Go Let It Out.mid\n",
      "Error converting midi to sequence 'NoneType' object has no attribute 'open' data/midi/v8/midi_sources/freemidi/genre-pop/Modern Talking - Arabian Gold.mid\n",
      "Error converting midi to sequence 'NoneType' object has no attribute 'open' data/midi/v8/midi_sources/freemidi/genre-pop/1927 - If I Could.mid\n",
      "Error converting midi to sequence 'NoneType' object has no attribute 'open' data/midi/v8/midi_sources/freemidi/genre-pop/S Club 7 - Two In A Million.mid\n",
      "Error converting midi to sequence 'NoneType' object has no attribute 'open' data/midi/v8/midi_sources/freemidi/genre-pop/Whitney Houston - So Emotional.mid\n",
      "Error converting midi to sequence 'NoneType' object has no attribute 'open' data/midi/v8/midi_sources/freemidi/genre-pop/Sting - Second Marriage.mid\n",
      "Error converting midi to sequence 'NoneType' object has no attribute 'open' data/midi/v8/midi_sources/freemidi/genre-pop/Bruno e Marrone - Boleros.mid\n",
      "Error converting midi to sequence 'NoneType' object has no attribute 'open' data/midi/v8/midi_sources/freemidi/genre-pop/Alanis Morissette - Thank You.mid\n",
      "Error converting midi to sequence 'NoneType' object has no attribute 'open' data/midi/v8/midi_sources/freemidi/genre-pop/Michael Jackson - Give In To Me.mid\n",
      "Error converting midi to sequence 'NoneType' object has no attribute 'open' data/midi/v8/midi_sources/freemidi/genre-pop/Gordon Lightfoot - Carefree Highway.mid\n",
      "Error converting midi to sequence 'NoneType' object has no attribute 'open' data/midi/v8/midi_sources/freemidi/genre-pop/Eurythmics - When Tomorrow Comes.mid\n",
      "Error converting midi to sequence 'NoneType' object has no attribute 'open' data/midi/v8/midi_sources/freemidi/genre-pop/Lifehouse - Hanging By A Moment.mid\n",
      "Error converting midi to sequence 'NoneType' object has no attribute 'open' data/midi/v8/midi_sources/freemidi/genre-pop/Tina Turner - Break Every Rule.mid\n",
      "Error converting midi to sequence 'NoneType' object has no attribute 'open' data/midi/v8/midi_sources/freemidi/genre-pop/Enrique Iglesias - Addicted.mid\n",
      "Error converting midi to sequence 'NoneType' object has no attribute 'open' data/midi/v8/midi_sources/freemidi/genre-pop/Sting - If I Ever Lose My Faith In You.mid\n",
      "Error converting midi to sequence 'NoneType' object has no attribute 'open' data/midi/v8/midi_sources/freemidi/genre-pop/Engelbert Humperdinck - The Spanish Night Is Over.mid\n",
      "Error converting midi to sequence 'NoneType' object has no attribute 'open' data/midi/v8/midi_sources/freemidi/genre-pop/Katy Perry - California Gurls.mid\n",
      "Error converting midi to sequence 'NoneType' object has no attribute 'open' data/midi/v8/midi_sources/freemidi/genre-pop/BBMak - Back Here.mid\n",
      "Error converting midi to sequence 'NoneType' object has no attribute 'open' data/midi/v8/midi_sources/freemidi/genre-pop/883 - Jolly Blu.mid\n",
      "Error converting midi to sequence 'NoneType' object has no attribute 'open' data/midi/v8/midi_sources/freemidi/genre-pop/Backstreet Boys - Get Down.mid\n",
      "Error converting midi to sequence 'NoneType' object has no attribute 'open' data/midi/v8/midi_sources/freemidi/genre-pop/Black Eyed Peas - Shut Up.mid\n",
      "Error converting midi to sequence 'NoneType' object has no attribute 'open' data/midi/v8/midi_sources/freemidi/genre-pop/Beach Boys - In My Room.mid\n",
      "Error converting midi to sequence 'NoneType' object has no attribute 'open' data/midi/v8/midi_sources/freemidi/genre-pop/Michael Jackson - Lady In My Life.mid\n",
      "Error converting midi to sequence 'NoneType' object has no attribute 'open' data/midi/v8/midi_sources/midiworld/named_midi/Nazareth_-_Love_Hurts.mid\n",
      "Error converting midi to sequence 'NoneType' object has no attribute 'open' data/midi/v8/midi_sources/freemidi/genre-pop/Prince - When Doves Cry.mid\n",
      "Error converting midi to sequence 'NoneType' object has no attribute 'open' data/midi/v8/midi_sources/freemidi/genre-pop/Celine Dion - Immortality.mid\n",
      "Error converting midi to sequence 'NoneType' object has no attribute 'open' data/midi/v8/midi_sources/midiworld/named_midi/R_Kelly_-_Half_On_A_Baby.mid\n",
      "Error converting midi to sequence 'NoneType' object has no attribute 'open' data/midi/v8/midi_sources/freemidi/genre-pop/Spice Girls - Too Much.mid\n",
      "Error converting midi to sequence 'NoneType' object has no attribute 'open' data/midi/v8/midi_sources/freemidi/genre-pop/Bee Gees - Alone.mid\n",
      "Error converting midi to sequence 'NoneType' object has no attribute 'open' data/midi/v8/midi_sources/midiworld/named_midi/Sting_-_Moon_Over_Bourbon_Street.mid\n",
      "Error converting midi to sequence 'NoneType' object has no attribute 'open' data/midi/v8/midi_sources/freemidi/genre-pop/Carpenters - Mr.Postman.mid\n"
     ]
    },
    {
     "name": "stdout",
     "output_type": "stream",
     "text": [
      "Error converting midi to sequence 'NoneType' object has no attribute 'open' data/midi/v8/midi_sources/freemidi/genre-pop/Carpenters - We've Only Just Begun.mid\n",
      "Error converting midi to sequence 'NoneType' object has no attribute 'open' data/midi/v8/midi_sources/freemidi/genre-pop/Sting - Soul Cages.mid\n",
      "Error converting midi to sequence 'NoneType' object has no attribute 'open' data/midi/v8/midi_sources/freemidi/genre-pop/Madonna - American Life.mid\n",
      "Error converting midi to sequence 'NoneType' object has no attribute 'open' data/midi/v8/midi_sources/freemidi/genre-pop/Ricky Nelson - Hello Mary Lou.mid\n",
      "Error converting midi to sequence 'NoneType' object has no attribute 'open' data/midi/v8/midi_sources/freemidi/genre-pop/ABBA - Dancing Queen.mid\n",
      "Error converting midi to sequence 'NoneType' object has no attribute 'open' data/midi/v8/midi_sources/freemidi/genre-pop/Ace of Base - Cest la vie always.mid\n",
      "Error converting midi to sequence 'NoneType' object has no attribute 'open' data/midi/v8/midi_sources/freemidi/genre-pop/Phil Collins - Tonight.mid\n",
      "Error converting midi to sequence 'NoneType' object has no attribute 'open' data/midi/v8/midi_sources/freemidi/genre-pop/Tears For Fears - Laid So Low.mid\n",
      "Error converting midi to sequence 'NoneType' object has no attribute 'open' data/midi/v8/midi_sources/freemidi/genre-pop/Tiffany - All This Time.mid\n",
      "Error converting midi to sequence 'NoneType' object has no attribute 'open' data/midi/v8/midi_sources/freemidi/genre-pop/Anastacia - Left Outside Alone.mid\n",
      "Error converting midi to sequence 'NoneType' object has no attribute 'open' data/midi/v8/midi_sources/midiworld/named_midi/Traditional_-_The_Hokey_Cokey.mid\n",
      "Error converting midi to sequence 'NoneType' object has no attribute 'open' data/midi/v8/midi_sources/midiworld/named_midi/Joe_-_Dont_Wanna_Be_A_Player.mid\n",
      "Error converting midi to sequence 'NoneType' object has no attribute 'open' data/midi/v8/midi_sources/freemidi/genre-pop/Genesis - Follow You Follow Me.mid\n",
      "Error converting midi to sequence 'NoneType' object has no attribute 'open' data/midi/v8/midi_sources/midiworld/named_midi/Madonna_-_Secret.mid\n",
      "Error converting midi to sequence 'NoneType' object has no attribute 'open' data/midi/v8/midi_sources/midiworld/named_midi/Midnight_Oil_-_Beds_are_Burning.mid\n",
      "Error converting midi to sequence 'NoneType' object has no attribute 'open' data/midi/v8/midi_sources/freemidi/genre-pop/Geri Halliwell - Scream If You Wanna Go Faster.mid\n",
      "Error converting midi to sequence 'NoneType' object has no attribute 'open' data/midi/v8/midi_sources/freemidi/genre-pop/Michael Jackson - Off The Wall.mid\n",
      "Error converting midi to sequence 'NoneType' object has no attribute 'open' data/midi/v8/midi_sources/midiworld/named_midi/ABBA_-_Thank_You_for_the_Music.mid\n",
      "Error converting midi to sequence 'NoneType' object has no attribute 'open' data/midi/v8/midi_sources/midiworld/named_midi/Queen_-_Play_the_Game.mid\n",
      "Error converting midi to sequence 'NoneType' object has no attribute 'open' data/midi/v8/midi_sources/midiworld/named_midi/Asia_-_The_Smile_Has_Left_Your_Eye.mid\n",
      "Error converting midi to sequence 'NoneType' object has no attribute 'open' data/midi/v8/midi_sources/midiworld/named_midi/John_Fogerty_-_Centerfield.mid\n",
      "Error converting midi to sequence 'NoneType' object has no attribute 'open' data/midi/v8/midi_sources/midiworld/named_midi/Sinead_O'Connor_-_Nothing_Compares_To_You.mid\n",
      "Error converting midi to sequence 'NoneType' object has no attribute 'open' data/midi/v8/midi_sources/midiworld/named_midi/Diana_Ross_-_Touch_Me_in_the_Morning.mid\n",
      "Error converting midi to sequence 'NoneType' object has no attribute 'open' data/midi/v8/midi_sources/midiworld/named_midi/Elvis_Presley_-_Return_to_Sender.mid\n",
      "Error converting midi to sequence 'NoneType' object has no attribute 'open' data/midi/v8/midi_sources/midiworld/named_midi/Gordon_Lightfoot_-_Carefree_Highway.mid\n",
      "Error converting midi to sequence 'NoneType' object has no attribute 'open' data/midi/v8/midi_sources/midiworld/named_midi/Pet_Shop_Boys_-_Always_on_my_Mind.mid\n",
      "Error converting midi to sequence 'NoneType' object has no attribute 'open' data/midi/v8/midi_sources/midiworld/named_midi/Michael_Jackson_-_Man_In_The_Mirror.mid\n",
      "Error converting midi to sequence 'NoneType' object has no attribute 'open' data/midi/v8/midi_sources/freemidi/genre-pop/George Michael - As.mid\n",
      "Error converting midi to sequence 'NoneType' object has no attribute 'open' data/midi/v8/midi_sources/midiworld/named_midi/Brian_McKnight_-_Back_At_One.mid\n",
      "Error converting midi to sequence 'NoneType' object has no attribute 'open' data/midi/v8/midi_sources/midiworld/named_midi/Movie_Themes_-_Toy_Story.mid\n",
      "Error converting midi to sequence 'NoneType' object has no attribute 'open' data/midi/v8/midi_sources/midiworld/named_midi/Desree_-_Life.mid\n",
      "Error converting midi to sequence 'NoneType' object has no attribute 'open' data/midi/v8/midi_sources/midiworld/named_midi/Genesis_-_Land_of_Confusion.mid\n",
      "Error converting midi to sequence 'NoneType' object has no attribute 'open' data/midi/v8/midi_sources/midiworld/named_midi/Shadows_-_Kontiki.mid\n",
      "Error converting midi to sequence 'NoneType' object has no attribute 'open' data/midi/v8/midi_sources/midiworld/named_midi/Crosby_Stills_Nash_and_Young_-_Ohio.mid\n",
      "Error converting midi to sequence 'NoneType' object has no attribute 'open' data/midi/v8/midi_sources/midiworld/named_midi/Billy_Idol_-_Rebel_Yell.mid\n",
      "Error converting midi to sequence 'NoneType' object has no attribute 'open' data/midi/v8/midi_sources/midiworld/named_midi/ABBA_-_Fernando.mid\n",
      "Error converting midi to sequence 'NoneType' object has no attribute 'open' data/midi/v8/midi_sources/midiworld/named_midi/BJ_Thomas_-_Raindrops_Keep_Falling.mid\n",
      "Error converting midi to sequence 'NoneType' object has no attribute 'open' data/midi/v8/midi_sources/midiworld/named_midi/Michael_Jackson_-_Off_the_Wall.mid\n",
      "Error converting midi to sequence 'NoneType' object has no attribute 'open' data/midi/v8/midi_sources/midiworld/named_midi/Marilyn_Manson_-_The_Dope_Show.mid\n",
      "Error converting midi to sequence 'NoneType' object has no attribute 'open' data/midi/v8/midi_sources/midiworld/named_midi/Bee_Gees_-_You_Should_Be_Dancin'.mid\n",
      "Error converting midi to sequence 'NoneType' object has no attribute 'open' data/midi/v8/midi_sources/midiworld/named_midi/Beach_Boys_-_In_My_Room.mid\n",
      "Error converting midi to sequence 'NoneType' object has no attribute 'open' data/midi/v8/midi_sources/midiworld/named_midi/Boyzone_-_Going_Gets_Tough.mid\n",
      "Error converting midi to sequence 'NoneType' object has no attribute 'open' data/midi/v8/midi_sources/midiworld/named_midi/Bon_Jovi_-_Wanted_Dead_or_Alive.mid\n",
      "Error converting midi to sequence 'NoneType' object has no attribute 'open' data/midi/v8/midi_sources/midiworld/named_midi/Robert_John_-_The_Lion_Sleeps_Tonight.mid\n",
      "Error converting midi to sequence 'NoneType' object has no attribute 'open' data/midi/v8/midi_sources/midiworld/named_midi/Manhattans_-_Kiss_and_Say_Goodbye.mid\n",
      "Error converting midi to sequence 'NoneType' object has no attribute 'open' data/midi/v8/midi_sources/midiworld/named_midi/Bruce_Hornsby_-_The_Way_It_Is.mid\n",
      "Error converting midi to sequence 'NoneType' object has no attribute 'open' data/midi/v8/midi_sources/midiworld/named_midi/Eric_Clapton_-_Let_It_Grow.mid\n",
      "Error converting midi to sequence 'NoneType' object has no attribute 'open' data/midi/v8/midi_sources/midiworld/named_midi/Prodigy_-_No_Good_Start_the_Dance.mid\n",
      "Error converting midi to sequence 'NoneType' object has no attribute 'open' data/midi/v8/midi_sources/midiworld/named_midi/Jackson_Browne_-_On_The_Day.mid\n",
      "Error converting midi to sequence 'NoneType' object has no attribute 'open' data/midi/v8/midi_sources/midiworld/named_midi/Culture_Club_-_Do_You_Really_Want_to_Hurt_Me.mid\n",
      "Error converting midi to sequence 'NoneType' object has no attribute 'open' data/midi/v8/midi_sources/midiworld/named_midi/Queen_-_You're_My_Best_Friend.mid\n",
      "Error converting midi to sequence 'NoneType' object has no attribute 'open' data/midi/v8/midi_sources/midiworld/named_midi/Movie_Themes_-_X_Files_The_Movie.mid\n",
      "Error converting midi to sequence 'NoneType' object has no attribute 'open' data/midi/v8/midi_sources/midiworld/named_midi/Naughty_By_Nature_-_Jamboree.mid\n"
     ]
    },
    {
     "name": "stdout",
     "output_type": "stream",
     "text": [
      "Error converting midi to sequence 'NoneType' object has no attribute 'open' data/midi/v8/midi_sources/midiworld/named_midi/The_Searchers_-_Needles_and_Pins.mid\n",
      "Error converting midi to sequence 'NoneType' object has no attribute 'open' data/midi/v8/midi_sources/midiworld/named_midi/Sugar_Ray_-_Every_Morning.mid\n",
      "Error converting midi to sequence 'NoneType' object has no attribute 'open' data/midi/v8/midi_sources/midiworld/named_midi/Prince_-_When_Doves_Cry.mid\n",
      "Error converting midi to sequence 'NoneType' object has no attribute 'open' data/midi/v8/midi_sources/midiworld/named_midi/Jackson_Browne_-_Somebodys_Baby.mid\n",
      "Error converting midi to sequence 'NoneType' object has no attribute 'open' data/midi/v8/midi_sources/midiworld/named_midi/Michael_Jackson_-_Rock_with_You.mid\n",
      "Error converting midi to sequence 'NoneType' object has no attribute 'open' data/midi/v8/midi_sources/midiworld/named_midi/Vanilla_Ice_-_Ice_Ice_Baby.mid\n",
      "Error converting midi to sequence 'NoneType' object has no attribute 'open' data/midi/v8/midi_sources/midiworld/named_midi/Slamet_-_Alamat_Palsu_-_Ayu_Ting_Ting.mid\n",
      "Error converting midi to sequence 'NoneType' object has no attribute 'open' data/midi/v8/midi_sources/midiworld/named_midi/Movie_Themes_-_Dirty_Dancing_-_I've_Had_the_Time_of_My_Life.mid\n",
      "Error converting midi to sequence 'NoneType' object has no attribute 'open' data/midi/v8/midi_sources/midiworld/named_midi/Tasmin_Archer_-_Sleeping_Satellites.mid\n",
      "Error converting midi to sequence 'NoneType' object has no attribute 'open' data/midi/v8/midi_sources/midiworld/named_midi/Prince_-_Raspberry_Beret.mid\n",
      "Error converting midi to sequence 'NoneType' object has no attribute 'open' data/midi/v8/midi_sources/midiworld/named_midi/Madonna_-_Into_The_Groove.mid\n",
      "Error converting midi to sequence 'NoneType' object has no attribute 'open' data/midi/v8/midi_sources/midiworld/named_midi/Sting_-_If_I_Ever_Lose_My_Faith_in_You.mid\n",
      "Error converting midi to sequence 'NoneType' object has no attribute 'open' data/midi/v8/midi_sources/midiworld/named_midi/The_Police_-_Message_in_a_Bottle.mid\n",
      "Error converting midi to sequence 'NoneType' object has no attribute 'open' data/midi/v8/midi_sources/midiworld/named_midi/ABBA_-_Dancing_Queen.mid\n",
      "Error converting midi to sequence 'NoneType' object has no attribute 'open' data/midi/v8/midi_sources/midiworld/named_midi/The_Police_-_Can't_Stand_Losing_You.mid\n",
      "Error converting midi to sequence 'NoneType' object has no attribute 'open' data/midi/v8/midi_sources/midiworld/named_midi/702_-_Where_My_Girls_At.mid\n",
      "Error converting midi to sequence 'NoneType' object has no attribute 'open' data/midi/v8/midi_sources/midiworld/named_midi/Aretha_Franklin_-_Think.mid\n",
      "Error converting midi to sequence 'NoneType' object has no attribute 'open' data/midi/v8/midi_sources/midiworld/named_midi/ABBA_-_Knowing_Me_Knowing_You.mid\n",
      "Error converting midi to sequence 'NoneType' object has no attribute 'open' data/midi/v8/midi_sources/midiworld/named_midi/The_Carpenters_-_Sing.mid\n",
      "Error converting midi to sequence 'NoneType' object has no attribute 'open' data/midi/v8/midi_sources/midiworld/named_midi/Ace_of_Base_-_Xray.mid\n",
      "Error converting midi to sequence 'NoneType' object has no attribute 'open' data/midi/v8/midi_sources/midiworld/named_midi/Cream_-_Sunshine_of_Your_Love.mid\n",
      "Error converting midi to sequence 'NoneType' object has no attribute 'open' data/midi/v8/midi_sources/midiworld/named_midi/Genesis_-_In_Too_Deep.mid\n",
      "Error converting midi to sequence 'NoneType' object has no attribute 'open' data/midi/v8/midi_sources/midiworld/named_midi/Elton_John_-_Candle_in_the_Wind.mid\n",
      "Error converting midi to sequence 'NoneType' object has no attribute 'open' data/midi/v8/midi_sources/midiworld/named_midi/Joe_-_I_Wanna_Know.mid\n",
      "Error converting midi to sequence 'NoneType' object has no attribute 'open' data/midi/v8/midi_sources/midiworld/named_midi/Sylvester_-_You_Make_Me_Feel_Mighty_Real.mid\n",
      "Error converting midi to sequence 'NoneType' object has no attribute 'open' data/midi/v8/midi_sources/midiworld/named_midi/PCXP_-_DJ_TAUCHER.mid\n",
      "Error converting midi to sequence 'NoneType' object has no attribute 'open' data/midi/v8/midi_sources/midiworld/named_midi/Madonna_-_Rain.mid\n",
      "Error converting midi to sequence 'NoneType' object has no attribute 'open' data/midi/v8/midi_sources/midiworld/named_midi/The_Carpenters_-_We've_Only_Just_Begun.mid\n",
      "Error converting midi to sequence 'NoneType' object has no attribute 'open' data/midi/v8/midi_sources/midiworld/named_midi/Madonna_-_The_Power_Of_Goodbye.mid\n",
      "Error converting midi to sequence 'NoneType' object has no attribute 'open' data/midi/v8/midi_sources/midiworld/named_midi/Queen_-_Crazy_Little_Thing_Called_Love.mid\n",
      "Error converting midi to sequence 'NoneType' object has no attribute 'open' data/midi/v8/midi_sources/midiworld/named_midi/Prince_-_Little_Red_Corvette.mid\n",
      "Error converting midi to sequence 'NoneType' object has no attribute 'open' data/midi/v8/midi_sources/midiworld/named_midi/DMX_-_Party_Up.mid\n",
      "Error converting midi to sequence 'NoneType' object has no attribute 'open' data/midi/v8/midi_sources/midiworld/named_midi/Janis_Ian_-_At_Seventeen.mid\n",
      "Error converting midi to sequence 'NoneType' object has no attribute 'open' data/midi/v8/midi_sources/midiworld/named_midi/ABBA_-_Waterloo.mid\n",
      "Error converting midi to sequence 'NoneType' object has no attribute 'open' data/midi/v8/midi_sources/midiworld/named_midi/The_Everly_Brothers_-_Bye_Bye_Love.mid\n",
      "Error converting midi to sequence 'NoneType' object has no attribute 'open' data/midi/v8/midi_sources/midiworld/named_midi/Genesis_-_I_Cant_Dance.mid\n",
      "Error converting midi to sequence 'NoneType' object has no attribute 'open' data/midi/v8/midi_sources/midiworld/named_midi/BB_Mak_-_Back_Here.mid\n",
      "Error converting midi to sequence 'NoneType' object has no attribute 'open' data/midi/v8/midi_sources/midiworld/named_midi/Sting_-_If_You_Love_Somebody_Set_Them_Free.mid\n",
      "Error converting midi to sequence 'NoneType' object has no attribute 'open' data/midi/v8/midi_sources/midiworld/named_midi/War_-_Why_Cant_We_Be_Friends.mid\n",
      "Error converting midi to sequence 'NoneType' object has no attribute 'open' data/midi/v8/midi_sources/midiworld/named_midi/TLC_-_No_Scrubs.mid\n",
      "Error converting midi to sequence 'NoneType' object has no attribute 'open' data/midi/v8/midi_sources/midiworld/named_midi/The_Carpenters_-_Only_Yesterday.mid\n",
      "Error converting midi to sequence 'NoneType' object has no attribute 'open' data/midi/v8/midi_sources/midiworld/named_midi/Michael_Jackson_-_Bad.mid\n",
      "Error converting midi to sequence 'NoneType' object has no attribute 'open' data/midi/v8/midi_sources/midiworld/named_midi/Cream_-_White_Room.mid\n",
      "Error converting midi to sequence 'NoneType' object has no attribute 'open' data/midi/v8/midi_sources/midiworld/named_midi/Spice_Girls_-_Too_Much.mid\n",
      "Error converting midi to sequence 'NoneType' object has no attribute 'open' data/midi/v8/midi_sources/midiworld/named_midi/Three_Dog_Night_-_Never_Been_To_Spain.mid\n",
      "Error converting midi to sequence 'NoneType' object has no attribute 'open' data/midi/v8/midi_sources/midiworld/named_midi/Britney_Spears_-_Britney_Spears_Medley.mid\n",
      "Error converting midi to sequence 'NoneType' object has no attribute 'open' data/midi/v8/midi_sources/midiworld/named_midi/Eminem_-_My_Name_Is.mid\n",
      "Error converting midi to sequence 'NoneType' object has no attribute 'open' data/midi/v8/midi_sources/midiworld/named_midi/Ricky_Nelson_-_Hello_Mary_Lou.mid\n",
      "Error converting midi to sequence 'NoneType' object has no attribute 'open' data/midi/v8/midi_sources/midiworld/named_midi/National_Anthems_-_St_Kitts_Nevis.mid\n",
      "Error converting midi to sequence 'NoneType' object has no attribute 'open' data/midi/v8/midi_sources/midiworld/named_midi/Movie_Themes_-_Against_All_Odds.mid\n",
      "Error converting midi to sequence 'NoneType' object has no attribute 'open' data/midi/v8/midi_sources/midiworld/named_midi/pop_-_put_it_in_a_love_song-alicia_keys.mid\n",
      "Error converting midi to sequence 'NoneType' object has no attribute 'open' data/midi/v8/midi_sources/midiworld/named_midi/Huey_Lewis_-_Stuck_With_You.mid\n",
      "Error converting midi to sequence 'NoneType' object has no attribute 'open' data/midi/v8/midi_sources/midiworld/named_midi/Nelly_-_Country_Grammar.mid\n"
     ]
    },
    {
     "name": "stdout",
     "output_type": "stream",
     "text": [
      "Error converting midi to sequence 'NoneType' object has no attribute 'open' data/midi/v8/midi_sources/midiworld/named_midi/Cyndi_Lauper_-_I_Drove_All_Night.mid\n",
      "Error converting midi to sequence 'NoneType' object has no attribute 'open' data/midi/v8/midi_sources/midiworld/named_midi/Sheena_Easton_-_U_Got_the_Look.mid\n",
      "Error converting midi to sequence 'NoneType' object has no attribute 'open' data/midi/v8/midi_sources/midiworld/named_midi/Player_-_Baby_Come_Back.mid\n",
      "Error converting midi to sequence 'NoneType' object has no attribute 'open' data/midi/v8/midi_sources/midiworld/named_midi/Busta_Rhymes_-_Woo_Hah.mid\n",
      "Error converting midi to sequence 'NoneType' object has no attribute 'open' data/midi/v8/midi_sources/midiworld/named_midi/Alannah_Myles_-_Black_Velvet.mid\n",
      "Error converting midi to sequence 'NoneType' object has no attribute 'open' data/midi/v8/midi_sources/midiworld/named_midi/Sting_-_The_Soul_Cages.mid\n",
      "Error converting midi to sequence 'NoneType' object has no attribute 'open' data/midi/v8/midi_sources/midiworld/named_midi/CNY_-_Chinese_New_Yaer.mid\n",
      "Error converting midi to sequence 'NoneType' object has no attribute 'open' data/midi/v8/midi_sources/midiworld/named_midi/Spice_Girls_-_Spice_Up_Your_Life.mid\n",
      "Error converting midi to sequence 'NoneType' object has no attribute 'open' data/midi/v8/midi_sources/midiworld/named_midi/Genesis_-_Tonight_Tonight_Tonight.mid\n",
      "Error converting midi to sequence 'NoneType' object has no attribute 'open' data/midi/v8/midi_sources/midiworld/named_midi/Madonna_-_Express_Yourself.mid\n",
      "Error converting midi to sequence badly formated midi bytes, got: b'' data/midi/v8/midi_sources/from_mxl/wikifonia/George Gershwin, Ira Gershwin - I Got Rhythm.mid\n",
      "Error converting midi to sequence badly formated midi bytes, got: b'' data/midi/v8/midi_sources/from_mxl/wikifonia/Green, Karn, Lombardo - Coquette.mid\n",
      "Error converting midi to sequence badly formated midi bytes, got: b'' data/midi/v8/midi_sources/from_mxl/wikifonia/Lucas Secon, Wayne Hector - I Hate This Part.mid\n",
      "Error converting midi to sequence badly formated midi bytes, got: b'' data/midi/v8/midi_sources/from_mxl/wikifonia/Bob Dorough, Dave Frishberg - Listen Here.mid\n",
      "Error converting midi to sequence badly formated midi bytes, got: b'' data/midi/v8/midi_sources/from_mxl/wikifonia/Alfred James Ellis - The Chicken.mid\n",
      "Error converting midi to sequence badly formated midi bytes, got: b'' data/midi/v8/midi_sources/from_mxl/wikifonia/Fred Old?rp - Kleiner B?r von Berlin.mid\n",
      "Error converting midi to sequence badly formated midi bytes, got: b'' data/midi/v8/midi_sources/from_mxl/wikifonia/Michel Platre - Saint Vicent Branle Des Vignerons.mid\n",
      "Error converting midi to sequence badly formated midi bytes, got: b'' data/midi/v8/midi_sources/from_mxl/wikifonia/Michel PLATRE - LE CHIEN.mid\n",
      "Error converting midi to sequence badly formated midi bytes, got: b'' data/midi/v8/midi_sources/from_mxl/wikifonia/Billy Austin, Louis Jordan - Is You Is Or Is You Ain't My Baby?.mid\n",
      "Error converting midi to sequence badly formated midi bytes, got: b'' data/midi/v8/midi_sources/from_mxl/wikifonia/Carole King - You've Got a Friend.mid\n",
      "Error converting midi to sequence badly formated midi bytes, got: b'' data/midi/v8/midi_sources/from_mxl/wikifonia/Andr? Pat?, Marc Provance - A La P?che Aux Moules.mid\n",
      "Error converting midi to sequence badly formated midi bytes, got: b'' data/midi/v8/midi_sources/from_mxl/wikifonia/George Gershwin, Ira Gershwin - Someone To Watch Over Me.mid\n",
      "Error converting midi to sequence badly formated midi bytes, got: b'' data/midi/v8/midi_sources/from_mxl/wikifonia/George Harrison - Here Comes the Sun.mid\n",
      "Error converting midi to sequence badly formated midi bytes, got: b'' data/midi/v8/midi_sources/from_mxl/wikifonia/Bobby Timmons, Oscar Brown Jr. - Dat dere.mid\n",
      "Error converting midi to sequence badly formated midi bytes, got: b'' data/midi/v8/midi_sources/from_mxl/wikifonia/Jimmy Davis, Jimmy Sherman, Roger Ram Ramirez - Lover Man (Oh Where Can You Be?).mid\n",
      "Error converting midi to sequence badly formated midi bytes, got: b'' data/midi/v8/midi_sources/from_mxl/wikifonia/Vernon Duke, Ira Gershwin - I Can't Get Started.mid\n",
      "Error converting midi to sequence badly formated midi bytes, got: b'' data/midi/v8/midi_sources/from_mxl/wikifonia/Boby Lapointe - Aragon et Castille.mid\n",
      "Error converting midi to sequence badly formated midi bytes, got: b'' data/midi/v8/midi_sources/from_mxl/wikifonia/Steve Earle - The Galway Girl.mid\n",
      "Error converting midi to sequence badly formated midi bytes, got: b'' data/midi/v8/midi_sources/from_mxl/wikifonia/Jacques Morali - Go West.mid\n",
      "Error converting midi to sequence badly formated midi bytes, got: b'' data/midi/v8/midi_sources/from_mxl/wikifonia/Charles Dumont, Michel Vaucaire - Non, je ne regrette rien.mid\n",
      "Error converting midi to sequence badly formated midi bytes, got: b'' data/midi/v8/midi_sources/from_mxl/wikifonia/Richard Rodgers, Lorenz Hart - Blue Moon.mid\n",
      "Error converting midi to sequence badly formated midi bytes, got: b'' data/midi/v8/midi_sources/from_mxl/wikifonia/George David Weiss, Gary Bisaga, Bob Thiele - What a Wonderful World.mid\n",
      "Error converting midi to sequence badly formated midi bytes, got: b'' data/midi/v8/midi_sources/from_mxl/wikifonia/Jim Boothe, Joe Beal - Jingle Bell Rock.mid\n",
      "Error converting midi to sequence badly formated midi bytes, got: b'' data/midi/v8/midi_sources/from_mxl/wikifonia/Osvaldo Farres - Quizas, Quizas, Quizas.mid\n",
      "Error converting midi to sequence badly formated midi bytes, got: b'' data/midi/v8/midi_sources/from_mxl/wikifonia/Red Garland - Blues By Five.mid\n",
      "Error converting midi to sequence badly formated midi bytes, got: b'' data/midi/v8/midi_sources/from_mxl/wikifonia/Victor Young, Will J. Harris - Sweet Sue, Just You.mid\n",
      "Error converting midi to sequence badly formated midi bytes, got: b'' data/midi/v8/midi_sources/from_mxl/wikifonia/Ben Bernie, Maceo Pinkard - Sweet Georgia Brown.mid\n",
      "Error converting midi to sequence badly formated midi bytes, got: b'' data/midi/v8/midi_sources/from_mxl/wikifonia/Harold Arlen, Yip Harburg - Over The Rainbow.mid\n",
      "Error converting midi to sequence badly formated midi bytes, got: b'' data/midi/v8/midi_sources/from_mxl/wikifonia/Erskine Hawkins, Julian Davis, William Johnson, Buddy Feyne - Tuxedo Junction.mid\n",
      "Error converting midi to sequence badly formated midi bytes, got: b'' data/midi/v8/midi_sources/from_mxl/wikifonia/Hoagy Carmichael, Stuart Gorrell - Georgia on My Mind.mid\n",
      "Error converting midi to sequence badly formated midi bytes, got: b'' data/midi/v8/midi_sources/from_mxl/wikifonia/Duke Ellington - Solitude.mid\n",
      "Error converting midi to sequence badly formated midi bytes, got: b'' data/midi/v8/midi_sources/from_mxl/wikifonia/Bronislau Kaper, Ned Washington - On Green Dolphin Street.mid\n",
      "Error converting midi to sequence badly formated midi bytes, got: b'' data/midi/v8/midi_sources/from_mxl/wikifonia/Buddy Bernier - Nat simon - Poinciana.mid\n",
      "Error converting midi to sequence badly formated midi bytes, got: b'' data/midi/v8/midi_sources/from_mxl/wikifonia/Toots Thielemans - Bluesette.mid\n",
      "Error converting midi to sequence badly formated midi bytes, got: b'' data/midi/v8/midi_sources/from_mxl/wikifonia/German trad. - H?nschen klein.mid\n",
      "Error converting midi to sequence badly formated midi bytes, got: b'' data/midi/v8/midi_sources/from_mxl/wikifonia/Barry Mann, Cynthia Weil, Jerry Lieber, Mike Stroller - On Broadway.mid\n",
      "Error converting midi to sequence badly formated midi bytes, got: b'' data/midi/v8/midi_sources/from_mxl/wikifonia/Charles Mitchell, Jimmy Davis, Rice Brothers - You Are My Sunshine.mid\n",
      "Error converting midi to sequence badly formated midi bytes, got: b'' data/midi/v8/midi_sources/from_mxl/wikifonia/Bill Evans - Blue in Green.mid\n",
      "Error converting midi to sequence badly formated midi bytes, got: b'' data/midi/v8/midi_sources/from_mxl/wikifonia/Eric Clapton - Layla.mid\n",
      "Error converting midi to sequence badly formated midi bytes, got: b'' data/midi/v8/midi_sources/from_mxl/wikifonia/Kenny Dorham - Blue Bossa.mid\n",
      "Error converting midi to sequence badly formated midi bytes, got: b'' data/midi/v8/midi_sources/from_mxl/wikifonia/Carl Fischer, Bill Carey - You've Changed.mid\n"
     ]
    },
    {
     "name": "stdout",
     "output_type": "stream",
     "text": [
      "Error converting midi to sequence badly formated midi bytes, got: b'' data/midi/v8/midi_sources/from_mxl/wikifonia/Michel PLATRE - DERNIER QUARTIER.mid\n",
      "Error converting midi to sequence badly formated midi bytes, got: b'' data/midi/v8/midi_sources/from_mxl/wikifonia/Words and Music by IRVING BERLIN - White Christmas.mid\n",
      "Error converting midi to sequence badly formated midi bytes, got: b'' data/midi/v8/midi_sources/from_mxl/wikifonia/Chico  Batera - Acaba logo com esse choro.mid\n",
      "Error converting midi to sequence badly formated midi bytes, got: b'' data/midi/v8/midi_sources/from_mxl/wikifonia/John W Wright (1986), John W Wright - Jazzy.mid\n",
      "Error converting midi to sequence badly formated midi bytes, got: b'' data/midi/v8/midi_sources/from_mxl/wikifonia/John Coltrane - Cousin Mary.mid\n",
      "Error converting midi to sequence badly formated midi bytes, got: b'' data/midi/v8/midi_sources/from_mxl/wikifonia/May Brahe, Helen Taylor - Bless This House.mid\n",
      "Error converting midi to sequence badly formated midi bytes, got: b'' data/midi/v8/midi_sources/from_mxl/wikifonia/Al Stillman, Ervin Drake, Irvin Graham, Jimmy Shirl - I Believe.mid\n",
      "Error converting midi to sequence badly formated midi bytes, got: b'' data/midi/v8/midi_sources/from_mxl/wikifonia/George Gershwin, Ira Gershwin - How Long Has This Been Going On.mid\n",
      "Error converting midi to sequence badly formated midi bytes, got: b'' data/midi/v8/midi_sources/from_mxl/wikifonia/Frank Foster, Ella Fitzgerald - Shiny Stockings.mid\n",
      "Error converting midi to sequence badly formated midi bytes, got: b'' data/midi/v8/midi_sources/from_mxl/wikifonia/James Van Heusen, Sammy Cahn - All The Way.mid\n",
      "Error converting midi to sequence badly formated midi bytes, got: b'' data/midi/v8/midi_sources/from_mxl/wikifonia/Baden Powell - A Felicidade.mid\n",
      "Error converting midi to sequence badly formated midi bytes, got: b'' data/midi/v8/midi_sources/from_mxl/wikifonia/Tom Petty - Mary Jane's Last Dance Chords.mid\n",
      "Error converting midi to sequence badly formated midi bytes, got: b'' data/midi/v8/midi_sources/from_mxl/wikifonia/Acrylles d'Anguilla, Richard Wagner - Tristan Begins.mid\n",
      "Error converting midi to sequence badly formated midi bytes, got: b'' data/midi/v8/midi_sources/from_mxl/wikifonia/Franco Micalizzi - What's going on in Brazil.mid\n",
      "Error converting midi to sequence badly formated midi bytes, got: b'' data/midi/v8/midi_sources/from_mxl/wikifonia/Kurt Weill, Maxwell Anderson - September Song.mid\n",
      "Error converting midi to sequence badly formated midi bytes, got: b'' data/midi/v8/midi_sources/from_mxl/wikifonia/John Lennon, Paul McCartney - I Want To Hold Your Hand.mid\n",
      "Error converting midi to sequence badly formated midi bytes, got: b'' data/midi/v8/midi_sources/from_mxl/wikifonia/Django Reinhardt, Stephane Grappelli - Tears.mid\n",
      "Error converting midi to sequence badly formated midi bytes, got: b'' data/midi/v8/midi_sources/from_mxl/wikifonia/Chico  Batera - Bonan?a.mid\n",
      "Error converting midi to sequence badly formated midi bytes, got: b'' data/midi/v8/midi_sources/from_mxl/wikifonia/Michel PLATRE - BRANLE DES PIERRES.mid\n",
      "Error converting midi to sequence badly formated midi bytes, got: b'' data/midi/v8/midi_sources/from_mxl/wikifonia/Harry Warren, Al Dubin - September in the Rain.mid\n",
      "Error converting midi to sequence badly formated midi bytes, got: b'' data/midi/v8/midi_sources/from_mxl/wikifonia/Arthur Johnston, Sam Coslow - My Old Flame.mid\n",
      "Error converting midi to sequence badly formated midi bytes, got: b'' data/midi/v8/midi_sources/from_mxl/wikifonia/Avishai Cohen - Remembering.mid\n",
      "Error converting midi to sequence badly formated midi bytes, got: b'' data/midi/v8/midi_sources/from_mxl/wikifonia/Willie Dixon - I Just Want To Make Love To You.mid\n",
      "Error converting midi to sequence badly formated midi bytes, got: b'' data/midi/v8/midi_sources/from_mxl/wikifonia/Duke Ellington - Come Sunday.mid\n",
      "Error converting midi to sequence badly formated midi bytes, got: b'' data/midi/v8/midi_sources/from_mxl/wikifonia/James Van Heusen, Johnny Burke - Here's That Rainy Day.mid\n",
      "Error converting midi to sequence badly formated midi bytes, got: b'' data/midi/v8/midi_sources/from_mxl/wikifonia/Mark Zanter - Question Mark.mid\n",
      "Error converting midi to sequence badly formated midi bytes, got: b'' data/midi/v8/midi_sources/from_mxl/wikifonia/Charles Mingus - Smooch.mid\n",
      "Error converting midi to sequence badly formated midi bytes, got: b'' data/midi/v8/midi_sources/from_mxl/wikifonia/Harold Arlen, Johnny Mercer - One For My Baby.mid\n",
      "Error converting midi to sequence badly formated midi bytes, got: b'' data/midi/v8/midi_sources/from_mxl/wikifonia/Words and music by Carol Hall - Hard Candy Christmas.mid\n",
      "Error converting midi to sequence badly formated midi bytes, got: b'' data/midi/v8/midi_sources/from_mxl/wikifonia/John Coltrane - Blue Train.mid\n",
      "Error converting midi to sequence badly formated midi bytes, got: b'' data/midi/v8/midi_sources/from_mxl/wikifonia/ John W Wright, John W Wright - Dancing.mid\n",
      "Error converting midi to sequence badly formated midi bytes, got: b'' data/midi/v8/midi_sources/from_mxl/wikifonia/Sonny Rollins - Strode Rode.mid\n",
      "Error converting midi to sequence badly formated midi bytes, got: b'' data/midi/v8/midi_sources/from_mxl/wikifonia/Pierre van Dormael - Undercover.mid\n",
      "Error converting midi to sequence badly formated midi bytes, got: b'' data/midi/v8/midi_sources/from_mxl/wikifonia/Irving Berlin - Cheek To Cheek.mid\n",
      "Error converting midi to sequence badly formated midi bytes, got: b'' data/midi/v8/midi_sources/from_mxl/wikifonia/Nino Ferrer - Le Sud.mid\n",
      "Error converting midi to sequence badly formated midi bytes, got: b'' data/midi/v8/midi_sources/from_mxl/wikifonia/Georges Brassens - Les copains d'abord.mid\n",
      "Error converting midi to sequence badly formated midi bytes, got: b'' data/midi/v8/midi_sources/from_mxl/wikifonia/Walter Donaldson, George Whiting - My Blue Heaven.mid\n",
      "Error converting midi to sequence badly formated midi bytes, got: b'' data/midi/v8/midi_sources/from_mxl/wikifonia/Brian Wilson, Tony Asher - God Only Knows.mid\n",
      "Error converting midi to sequence badly formated midi bytes, got: b'' data/midi/v8/midi_sources/from_mxl/wikifonia/Sy Oliver - Yes, Indeed!.mid\n",
      "Error converting midi to sequence badly formated midi bytes, got: b'' data/midi/v8/midi_sources/from_mxl/wikifonia/Galt MacDermot, James Rado & Gerome Ragni - Aquarius.mid\n",
      "Error converting midi to sequence badly formated midi bytes, got: b'' data/midi/v8/midi_sources/from_mxl/wikifonia/Antonio Carlos Jobim, Vinicius de Moraes - A Felicidade.mid\n",
      "Error converting midi to sequence badly formated midi bytes, got: b'' data/midi/v8/midi_sources/from_mxl/wikifonia/Jerome Kern - All the Things You Are.mid\n",
      "Error converting midi to sequence badly formated midi bytes, got: b'' data/midi/v8/midi_sources/from_mxl/wikifonia/Fats Waller - Ain't Misbehavin'.mid\n",
      "Error converting midi to sequence badly formated midi bytes, got: b'' data/midi/v8/midi_sources/from_mxl/wikifonia/Pietro Mascagni - Intermezzo.mid\n",
      "Error converting midi to sequence badly formated midi bytes, got: b'' data/midi/v8/midi_sources/from_mxl/wikifonia/Glenn Miller, Mitchell Parish - Moonlight Serenade.mid\n",
      "Error converting midi to sequence badly formated midi bytes, got: b'' data/midi/v8/midi_sources/from_mxl/wikifonia/Roy Orbison - Oh, Pretty Woman.mid\n",
      "Error converting midi to sequence badly formated midi bytes, got: b'' data/midi/v8/midi_sources/from_mxl/wikifonia/Charlie Winston - Like A Hobo.mid\n",
      "Error converting midi to sequence badly formated midi bytes, got: b'' data/midi/v8/midi_sources/from_mxl/wikifonia/Harry Akst - Dinah.mid\n",
      "Error converting midi to sequence badly formated midi bytes, got: b'' data/midi/v8/midi_sources/from_mxl/wikifonia/Traditional Mexican - La cucaracha.mid\n",
      "Error converting midi to sequence badly formated midi bytes, got: b'' data/midi/v8/midi_sources/from_mxl/wikifonia/Harry Warren, Mack Gordon - At Last.mid\n",
      "Error converting midi to sequence badly formated midi bytes, got: b'' data/midi/v8/midi_sources/from_mxl/wikifonia/Palmer, Williams - I've Found A New Baby.mid\n",
      "Error converting midi to sequence badly formated midi bytes, got: b'' data/midi/v8/midi_sources/from_mxl/wikifonia/Jacques Dutronc, Jacques Lanzmann, Anne Segalen - Il Est Cinq Heures, Paris s'?veille.mid\n"
     ]
    },
    {
     "name": "stdout",
     "output_type": "stream",
     "text": [
      "Error converting midi to sequence badly formated midi bytes, got: b'' data/midi/v8/midi_sources/from_mxl/wikifonia/Joe Myrow - Blue Drag.mid\n",
      "Error converting midi to sequence badly formated midi bytes, got: b'' data/midi/v8/midi_sources/from_mxl/wikifonia/Spencer Williams - Basin Street Blues.mid\n",
      "Error converting midi to sequence badly formated midi bytes, got: b'' data/midi/v8/midi_sources/from_mxl/wikifonia/McGarron, Morgan, Swanstrom - Blues My Naughty Sweetie Gives To Me (Simplified Changes).mid\n",
      "Error converting midi to sequence badly formated midi bytes, got: b'' data/midi/v8/midi_sources/from_mxl/wikifonia/Jean Thielemans, Normal Gimbel - Bluesette.mid\n",
      "Error converting midi to sequence badly formated midi bytes, got: b'' data/midi/v8/midi_sources/from_mxl/wikifonia/Acrylles d'Anguilla, Franz Grillparzer - Rustan's Dream.mid\n",
      "Error converting midi to sequence badly formated midi bytes, got: b'' data/midi/v8/midi_sources/from_mxl/wikifonia/Larry Shay, Joe Goodwin, Mark Fisher - When You're Smiling.mid\n",
      "Error converting midi to sequence badly formated midi bytes, got: b'' data/midi/v8/midi_sources/from_mxl/wikifonia/Michel PLATRE - CLARISSE.mid\n",
      "Error converting midi to sequence badly formated midi bytes, got: b'' data/midi/v8/midi_sources/from_mxl/wikifonia/Michel PLATRE - LA CARRIERE.mid\n",
      "Error converting midi to sequence badly formated midi bytes, got: b'' data/midi/v8/midi_sources/from_mxl/wikifonia/John Frigo, Lou Carter, Herb Ellis - I Told Ya I Love Ya Now Get Out.mid\n",
      "Error converting midi to sequence badly formated midi bytes, got: b'' data/midi/v8/midi_sources/from_mxl/wikifonia/Spiritual - The Wayfaring Stranger.mid\n",
      "Error converting midi to sequence badly formated midi bytes, got: b'' data/midi/v8/midi_sources/from_mxl/wikifonia/Antonio Carlos Jobim - The Boy from Ipanema.mid\n",
      "Error converting midi to sequence badly formated midi bytes, got: b'' data/midi/v8/midi_sources/from_mxl/wikifonia/Michel PLATRE - LE PIOCHAT.mid\n",
      "Error converting midi to sequence badly formated midi bytes, got: b'' data/midi/v8/midi_sources/from_mxl/wikifonia/Michel PLATRE - LES VERNES.mid\n",
      "Error converting midi to sequence badly formated midi bytes, got: b'' data/midi/v8/midi_sources/from_mxl/wikifonia/Ron Linnebach - Blue Waltz.mid\n",
      "Error converting midi to sequence badly formated midi bytes, got: b'' data/midi/v8/midi_sources/from_mxl/wikifonia/Green Day - 21 guns.mid\n",
      "Error converting midi to sequence badly formated midi bytes, got: b'' data/midi/v8/midi_sources/from_mxl/wikifonia/Traditional - Down By The Riverside.mid\n",
      "Error converting midi to sequence badly formated midi bytes, got: b'' data/midi/v8/midi_sources/from_mxl/wikifonia/Sammy Fain, Lew Brown - That old feeling.mid\n",
      "Error converting midi to sequence badly formated midi bytes, got: b'' data/midi/v8/midi_sources/from_mxl/wikifonia/Slim Gaillard, Lee Ricks - Cement Mixer.mid\n",
      "Error converting midi to sequence badly formated midi bytes, got: b'' data/midi/v8/midi_sources/from_mxl/wikifonia/Traditional - St James Infirmary Blues.mid\n",
      "Error converting midi to sequence badly formated midi bytes, got: b'' data/midi/v8/midi_sources/from_mxl/wikifonia/McHugh - Exactly Like You.mid\n",
      "Error converting midi to sequence badly formated midi bytes, got: b'' data/midi/v8/midi_sources/from_mxl/wikifonia/Cole Porter - My Heart Belongs To Daddy.mid\n",
      "Error converting midi to sequence badly formated midi bytes, got: b'' data/midi/v8/midi_sources/from_mxl/wikifonia/Traditionnel - A La Claire Fontaine.mid\n",
      "Error converting midi to sequence badly formated midi bytes, got: b'' data/midi/v8/midi_sources/from_mxl/wikifonia/Bob Thiele, George David Weiss - What A Wonderful World.mid\n",
      "Error converting midi to sequence badly formated midi bytes, got: b'' data/midi/v8/midi_sources/from_mxl/wikifonia/Jonathan Coulton - Tom Cruise Crazy.mid\n",
      "Error converting midi to sequence badly formated midi bytes, got: b'' data/midi/v8/midi_sources/from_mxl/wikifonia/Louiguy (Louis Guglielmi) 1950, French lyrics: Jacques Larue, English lyrics: Mack  David - Cherry  Pink And Apple Blossom White.mid\n",
      "Error converting midi to sequence badly formated midi bytes, got: b'' data/midi/v8/midi_sources/from_mxl/wikifonia/ Ray Davies - Sunny Afternoon.mid\n",
      "Error converting midi to sequence badly formated midi bytes, got: b'' data/midi/v8/midi_sources/from_mxl/wikifonia/Duke Ellington, Johnny Hodges - I'm Beginning To See The Light.mid\n",
      "Error converting midi to sequence badly formated midi bytes, got: b'' data/midi/v8/midi_sources/from_mxl/wikifonia/Benny Golson - Stablemates.mid\n",
      "Error converting midi to sequence badly formated midi bytes, got: b'' data/midi/v8/midi_sources/from_mxl/wikifonia/Hy Heath, Johnny Lange, Sonny Burke - Somebody Bigger Than You And I.mid\n",
      "Error converting midi to sequence badly formated midi bytes, got: b'' data/midi/v8/midi_sources/from_mxl/wikifonia/Traditional - When the Saints Go Marching In.mid\n",
      "Error converting midi to sequence badly formated midi bytes, got: b'' data/midi/v8/midi_sources/from_mxl/wikifonia/Maxime Le Forestier - San Francisco.mid\n",
      "Error converting midi to sequence badly formated midi bytes, got: b'' data/midi/v8/midi_sources/from_mxl/wikifonia/Josiah Booth, James Thomson - The Star O' Rabbie Burns.mid\n",
      "Error converting midi to sequence badly formated midi bytes, got: b'' data/midi/v8/midi_sources/from_mxl/wikifonia/Johnny Green - Body and Soul .mid\n",
      "Error converting midi to sequence badly formated midi bytes, got: b'' data/midi/v8/midi_sources/from_mxl/wikifonia/Bobby Timmons, Jon Hendricks - Moanin'.mid\n",
      "Error converting midi to sequence badly formated midi bytes, got: b'' data/midi/v8/midi_sources/from_mxl/wikifonia/Johnny Green, Edward Heyman, Frank Eyton, Robert Sour - Body and Soul.mid\n",
      "Error converting midi to sequence badly formated midi bytes, got: b'' data/midi/v8/midi_sources/from_mxl/wikifonia/Michel PLATRE - ALLONS AUX VENDANGES.mid\n",
      "Error converting midi to sequence badly formated midi bytes, got: b'' data/midi/v8/midi_sources/from_mxl/wikifonia/Georges Delerue, Henri Colpi - Trois Petites Notes de Musique.mid\n",
      "Error converting midi to sequence badly formated midi bytes, got: b'' data/midi/v8/midi_sources/from_mxl/wikifonia/Irving Gordon - Unforgettable.mid\n",
      "Error converting midi to sequence badly formated midi bytes, got: b'' data/midi/v8/midi_sources/from_mxl/wikifonia/George Weiss, Hugo Peretti, Luigi Creatore - Can't Help Falling in Love.mid\n",
      "Error converting midi to sequence badly formated midi bytes, got: b'' data/midi/v8/midi_sources/from_mxl/wikifonia/Coldplay - Clocks.mid\n",
      "Error converting midi to sequence 'NoneType' object has no attribute 'open' data/midi/v8/midi_sources/lmd_clean/Al Hirt/When the Saints Go Marching In.mid\n",
      "Error converting midi to sequence 'NoneType' object has no attribute 'open' data/midi/v8/midi_sources/lmd_clean/Hanson/Man From Milwaukee (Garage mix).1.mid\n",
      "Error converting midi to sequence 'NoneType' object has no attribute 'open' data/midi/v8/midi_sources/lmd_clean/Al Hirt/Frankie and Johnny.mid\n",
      "Error converting midi to sequence 'NoneType' object has no attribute 'open' data/midi/v8/midi_sources/lmd_clean/Sailor Moon/Look at the Stars.mid\n",
      "Error converting midi to sequence 'NoneType' object has no attribute 'open' data/midi/v8/midi_sources/lmd_clean/The Tremeloes/Silence Is Golden.1.mid\n",
      "Error converting midi to sequence 'NoneType' object has no attribute 'open' data/midi/v8/midi_sources/lmd_clean/Jerry Mungo/In The Summertime.1.mid\n",
      "Error converting midi to sequence 'NoneType' object has no attribute 'open' data/midi/v8/midi_sources/lmd_clean/The Police/Can't Stand Losing You.2.mid\n",
      "Error converting midi to sequence 'NoneType' object has no attribute 'open' data/midi/v8/midi_sources/lmd_clean/The Police/Every Breath You Take.10.mid\n",
      "Error converting midi to sequence 'NoneType' object has no attribute 'open' data/midi/v8/midi_sources/lmd_clean/Hanson/Where's the Love.mid\n",
      "Error converting midi to sequence 'NoneType' object has no attribute 'open' data/midi/v8/midi_sources/lmd_clean/Vangelis/1492: Conquest of Paradise.1.mid\n",
      "Error converting midi to sequence 'NoneType' object has no attribute 'open' data/midi/v8/midi_sources/lmd_clean/The Police/Every Breath You Take.2.mid\n",
      "Error converting midi to sequence 'NoneType' object has no attribute 'open' data/midi/v8/midi_sources/lmd_clean/The Police/Walking on The Moon.3.mid\n"
     ]
    },
    {
     "name": "stdout",
     "output_type": "stream",
     "text": [
      "Error converting midi to sequence 'NoneType' object has no attribute 'open' data/midi/v8/midi_sources/lmd_clean/The Police/Can't Stand Losing You.3.mid\n",
      "Error converting midi to sequence 'NoneType' object has no attribute 'open' data/midi/v8/midi_sources/lmd_clean/The Police/Every Breath You Take.6.mid\n",
      "Error converting midi to sequence 'NoneType' object has no attribute 'open' data/midi/v8/midi_sources/lmd_clean/The Police/Roxanne.5.mid\n",
      "Error converting midi to sequence 'NoneType' object has no attribute 'open' data/midi/v8/midi_sources/lmd_clean/The Police/Roxanne.4.mid\n",
      "Error converting midi to sequence 'NoneType' object has no attribute 'open' data/midi/v8/midi_sources/lmd_clean/The Police/Message in a Bottle.3.mid\n",
      "Error converting midi to sequence 'NoneType' object has no attribute 'open' data/midi/v8/midi_sources/lmd_clean/2 Unlimited/No Limit.2.mid\n",
      "Error converting midi to sequence 'NoneType' object has no attribute 'open' data/midi/v8/midi_sources/lmd_clean/The Police/Message in a Bottle.5.mid\n",
      "Error converting midi to sequence 'NoneType' object has no attribute 'open' data/midi/v8/midi_sources/lmd_clean/The Police/So Lonely.4.mid\n",
      "Error converting midi to sequence 'NoneType' object has no attribute 'open' data/midi/v8/midi_sources/lmd_clean/The Police/Don't Stand So Close.2.mid\n",
      "Error converting midi to sequence 'NoneType' object has no attribute 'open' data/midi/v8/midi_sources/lmd_clean/The Police/Message in a Bottle.4.mid\n",
      "Error converting midi to sequence 'NoneType' object has no attribute 'open' data/midi/v8/midi_sources/lmd_clean/The Hollies/Long Cool Woman (In a Black Dress).1.mid\n",
      "Error converting midi to sequence 'NoneType' object has no attribute 'open' data/midi/v8/midi_sources/lmd_clean/The Police/So Lonely.2.mid\n",
      "Error converting midi to sequence 'NoneType' object has no attribute 'open' data/midi/v8/midi_sources/lmd_clean/2 Unlimited/Maximum Overdrive.1.mid\n",
      "Error converting midi to sequence 'NoneType' object has no attribute 'open' data/midi/v8/midi_sources/lmd_clean/Vangelis/Voices.mid\n",
      "Error converting midi to sequence 'NoneType' object has no attribute 'open' data/midi/v8/midi_sources/lmd_clean/2 Unlimited/Tribal Dance (edit).mid\n",
      "Error converting midi to sequence 'NoneType' object has no attribute 'open' data/midi/v8/midi_sources/lmd_clean/The Hollies/Mighty Quinn.mid\n",
      "Error converting midi to sequence 'NoneType' object has no attribute 'open' data/midi/v8/midi_sources/lmd_clean/The Hollies/The Air That I Breathe.mid\n",
      "Error converting midi to sequence 'NoneType' object has no attribute 'open' data/midi/v8/midi_sources/lmd_clean/The Spencer Davis Group/Keep On Running.mid\n",
      "Error converting midi to sequence 'NoneType' object has no attribute 'open' data/midi/v8/midi_sources/lmd_clean/The Spencer Davis Group/Gimme Some Lovin'.1.mid\n",
      "Error converting midi to sequence 'NoneType' object has no attribute 'open' data/midi/v8/midi_sources/lmd_clean/Jennifer Lopez/All I Have.mid\n",
      "Error converting midi to sequence 'NoneType' object has no attribute 'open' data/midi/v8/midi_sources/lmd_clean/Paul Simon/Bridge Over Troubled Water.mid\n",
      "Error converting midi to sequence 'NoneType' object has no attribute 'open' data/midi/v8/midi_sources/lmd_clean/Raf/Interminatamente.1.mid\n",
      "Error converting midi to sequence 'NoneType' object has no attribute 'open' data/midi/v8/midi_sources/lmd_clean/The Blue Diamonds/Ramona.mid\n",
      "Error converting midi to sequence 'NoneType' object has no attribute 'open' data/midi/v8/midi_sources/lmd_clean/OMC/How Bizarre.1.mid\n",
      "Error converting midi to sequence 'NoneType' object has no attribute 'open' data/midi/v8/midi_sources/lmd_clean/Boney M./Malaika.mid\n",
      "Error converting midi to sequence 'NoneType' object has no attribute 'open' data/midi/v8/midi_sources/lmd_clean/Sinead O'Connor/Nothing.1.mid\n",
      "Error converting midi to sequence 'NoneType' object has no attribute 'open' data/midi/v8/midi_sources/lmd_clean/Joshua Kadison/Jessie.mid\n",
      "Error converting midi to sequence 'NoneType' object has no attribute 'open' data/midi/v8/midi_sources/lmd_clean/Michael Jackson/Heal The World.mid\n",
      "Error converting midi to sequence 'NoneType' object has no attribute 'open' data/midi/v8/midi_sources/lmd_clean/Modern Talking/You Can Win If You Want.mid\n",
      "Error converting midi to sequence 'NoneType' object has no attribute 'open' data/midi/v8/midi_sources/lmd_clean/Modern Talking/You're My Heart, You're My Soul.mid\n",
      "Error converting midi to sequence 'NoneType' object has no attribute 'open' data/midi/v8/midi_sources/lmd_clean/Tyner Mccoy/Old Devil Moon.mid\n",
      "Error converting midi to sequence 'NoneType' object has no attribute 'open' data/midi/v8/midi_sources/lmd_clean/Richard Cliff/Some People.2.mid\n",
      "Error converting midi to sequence 'NoneType' object has no attribute 'open' data/midi/v8/midi_sources/lmd_clean/Richard Cliff/We Don't Talk Anymore.mid\n",
      "Error converting midi to sequence 'NoneType' object has no attribute 'open' data/midi/v8/midi_sources/lmd_clean/Scorpions/You and I.mid\n",
      "Error converting midi to sequence 'NoneType' object has no attribute 'open' data/midi/v8/midi_sources/lmd_clean/Three Dog Night/Never Been to Spain.mid\n",
      "Error converting midi to sequence 'NoneType' object has no attribute 'open' data/midi/v8/midi_sources/lmd_clean/Marvin Gaye/(Sexual) Healing.mid\n",
      "Error converting midi to sequence 'NoneType' object has no attribute 'open' data/midi/v8/midi_sources/lmd_clean/Lynn Anderson/Top of the World.mid\n",
      "Error converting midi to sequence 'NoneType' object has no attribute 'open' data/midi/v8/midi_sources/lmd_clean/Sandro & Gustavo/A Garagem da Vizinha.mid\n",
      "Error converting midi to sequence 'NoneType' object has no attribute 'open' data/midi/v8/midi_sources/lmd_clean/Battisti/Respirando.mid\n",
      "Error converting midi to sequence 'NoneType' object has no attribute 'open' data/midi/v8/midi_sources/lmd_clean/Gompie/Alice (Who the X Is Alice) (Living Next Door to Alice).mid\n",
      "Error converting midi to sequence 'NoneType' object has no attribute 'open' data/midi/v8/midi_sources/lmd_clean/Marilyn Manson/The Dope Show.mid\n",
      "Error converting midi to sequence 'NoneType' object has no attribute 'open' data/midi/v8/midi_sources/lmd_clean/Robert John/The Lion Sleeps Tonight.mid\n"
     ]
    },
    {
     "name": "stderr",
     "output_type": "stream",
     "text": [
      "midi: WARNING: Conversion error for <MidiEvent None, t=None, track=7, channel=None>: unknown midi event type: None; ignored.\n"
     ]
    },
    {
     "name": "stdout",
     "output_type": "stream",
     "text": [
      "Error converting midi to sequence 'NoneType' object has no attribute 'open' data/midi/v8/midi_sources/lmd_clean/Lobo/Me And You And A Dog Named Boo.1.mid\n",
      "Error converting midi to sequence 'NoneType' object has no attribute 'open' data/midi/v8/midi_sources/lmd_clean/John Elton/Don't Let The Sun Go Down On Me.2.mid\n",
      "Error converting midi to sequence 'NoneType' object has no attribute 'open' data/midi/v8/midi_sources/lmd_clean/John Elton/Your Song.1.mid\n",
      "Error converting midi to sequence 'NoneType' object has no attribute 'open' data/midi/v8/midi_sources/lmd_clean/Chris Rea/On the Beach.mid\n",
      "Error converting midi to sequence 'NoneType' object has no attribute 'open' data/midi/v8/midi_sources/lmd_clean/Rene Carol/Rote Rosen rote Lippen roter Wein.mid\n"
     ]
    },
    {
     "name": "stderr",
     "output_type": "stream",
     "text": [
      "midi: WARNING: Conversion error for <MidiEvent None, t=None, track=9, channel=None>: unknown midi event type: None; ignored.\n"
     ]
    },
    {
     "name": "stdout",
     "output_type": "stream",
     "text": [
      "Error converting midi to sequence 'NoneType' object has no attribute 'open' data/midi/v8/midi_sources/lmd_clean/John Elton/Candle in the Wind.7.mid\n",
      "Error converting midi to sequence 'NoneType' object has no attribute 'open' data/midi/v8/midi_sources/lmd_clean/John Elton/Candle in the Wind.mid\n",
      "Error converting midi to sequence 'NoneType' object has no attribute 'open' data/midi/v8/midi_sources/lmd_clean/Busta Rhymes/Woo Hah.mid\n",
      "Error converting midi to sequence 'NoneType' object has no attribute 'open' data/midi/v8/midi_sources/lmd_clean/Santana/Songs of Freedom.mid\n",
      "Error converting midi to sequence 'NoneType' object has no attribute 'open' data/midi/v8/midi_sources/lmd_clean/Jimi Hendrix/Little Wing.mid\n",
      "Error converting midi to sequence 'NoneType' object has no attribute 'open' data/midi/v8/midi_sources/lmd_clean/Lobo/Me And You And A Dog Named Boo.mid\n",
      "Error converting midi to sequence 'NoneType' object has no attribute 'open' data/midi/v8/midi_sources/lmd_clean/John Elton/Rocket Man.1.mid\n",
      "Error converting midi to sequence 'NoneType' object has no attribute 'open' data/midi/v8/midi_sources/lmd_clean/John Elton/Goodby Yellow Brick Road.mid\n",
      "Error converting midi to sequence 'NoneType' object has no attribute 'open' data/midi/v8/midi_sources/lmd_clean/John Elton/Bennie & The Jets.1.mid\n",
      "Error converting midi to sequence 'NoneType' object has no attribute 'open' data/midi/v8/midi_sources/lmd_clean/John Elton/Rocket Man.3.mid\n"
     ]
    },
    {
     "name": "stderr",
     "output_type": "stream",
     "text": [
      "midi: WARNING: Conversion error for <MidiEvent None, t=None, track=9, channel=None>: unknown midi event type: None; ignored.\n"
     ]
    },
    {
     "name": "stdout",
     "output_type": "stream",
     "text": [
      "Error converting midi to sequence 'NoneType' object has no attribute 'open' data/midi/v8/midi_sources/lmd_clean/John Elton/Daniel.mid\n",
      "Error converting midi to sequence 'NoneType' object has no attribute 'open' data/midi/v8/midi_sources/lmd_clean/Eagle-Eye Cherry/Save Tonight.mid\n",
      "Error converting midi to sequence 'NoneType' object has no attribute 'open' data/midi/v8/midi_sources/lmd_clean/Ray Charles/Hit The Road Jack.1.mid\n",
      "Error converting midi to sequence 'NoneType' object has no attribute 'open' data/midi/v8/midi_sources/lmd_clean/John Elton/Bennie & The Jets.2.mid\n",
      "Error converting midi to sequence 'NoneType' object has no attribute 'open' data/midi/v8/midi_sources/lmd_clean/Edwyn Collins/A Girl Like You.1.mid\n",
      "Error converting midi to sequence 'NoneType' object has no attribute 'open' data/midi/v8/midi_sources/lmd_clean/John Elton/Candle in the Wind.2.mid\n",
      "Error converting midi to sequence 'NoneType' object has no attribute 'open' data/midi/v8/midi_sources/lmd_clean/Ray Charles/I Can't Stop Loving You.2.mid\n"
     ]
    },
    {
     "name": "stderr",
     "output_type": "stream",
     "text": [
      "midi: WARNING: Conversion error for <MidiEvent None, t=None, track=6, channel=None>: unknown midi event type: None; ignored.\n"
     ]
    },
    {
     "name": "stdout",
     "output_type": "stream",
     "text": [
      "Error converting midi to sequence 'NoneType' object has no attribute 'open' data/midi/v8/midi_sources/lmd_clean/U96/Night in Motion.mid\n",
      "Error converting midi to sequence 'NoneType' object has no attribute 'open' data/midi/v8/midi_sources/lmd_clean/Whitney Houston/The Greatest Love of All.mid\n",
      "Error converting midi to sequence 'NoneType' object has no attribute 'open' data/midi/v8/midi_sources/lmd_clean/Whitney Houston/1 Moment in Time.4.mid\n",
      "Error converting midi to sequence 'NoneType' object has no attribute 'open' data/midi/v8/midi_sources/lmd_clean/Miami Sound Machine/Dr Beat.mid\n",
      "Error converting midi to sequence 'NoneType' object has no attribute 'open' data/midi/v8/midi_sources/lmd_clean/Whitney Houston/Didn't We Almost Have It All.5.mid\n",
      "Error converting midi to sequence 'NoneType' object has no attribute 'open' data/midi/v8/midi_sources/lmd_clean/Anna Oxa/Medley.mid\n",
      "Error converting midi to sequence 'NoneType' object has no attribute 'open' data/midi/v8/midi_sources/lmd_clean/Whitney Houston/Saving All My Love For You.1.mid\n",
      "Error converting midi to sequence 'NoneType' object has no attribute 'open' data/midi/v8/midi_sources/lmd_clean/Whitney Houston/All the Man That I Need.2.mid\n",
      "Error converting midi to sequence 'NoneType' object has no attribute 'open' data/midi/v8/midi_sources/lmd_clean/Whitney Houston/Something in Common.mid\n",
      "Error converting midi to sequence 'NoneType' object has no attribute 'open' data/midi/v8/midi_sources/lmd_clean/Whitney Houston/I Will Always Love You.2.mid\n",
      "Error converting midi to sequence 'NoneType' object has no attribute 'open' data/midi/v8/midi_sources/lmd_clean/Whitney Houston/Greatest Love of All.1.mid\n",
      "Error converting midi to sequence 'NoneType' object has no attribute 'open' data/midi/v8/midi_sources/lmd_clean/Whitney Houston/So Emotional.mid\n",
      "Error converting midi to sequence 'NoneType' object has no attribute 'open' data/midi/v8/midi_sources/lmd_clean/Whitney Houston/I Will Always Love You.1.mid\n",
      "Error converting midi to sequence 'NoneType' object has no attribute 'open' data/midi/v8/midi_sources/lmd_clean/Whitney Houston/Someone for Me.1.mid\n",
      "Error converting midi to sequence 'NoneType' object has no attribute 'open' data/midi/v8/midi_sources/lmd_clean/Whitney Houston/I Have Nothing.3.mid\n",
      "Error converting midi to sequence 'NoneType' object has no attribute 'open' data/midi/v8/midi_sources/lmd_clean/Whitney Houston/Queen of the Night.mid\n",
      "Error converting midi to sequence 'NoneType' object has no attribute 'open' data/midi/v8/midi_sources/lmd_clean/Whitney Houston/I Have Nothing.1.mid\n",
      "Error converting midi to sequence 'NoneType' object has no attribute 'open' data/midi/v8/midi_sources/lmd_clean/Whitney Houston/All the Man That I Need.mid\n",
      "Error converting midi to sequence 'NoneType' object has no attribute 'open' data/midi/v8/midi_sources/lmd_clean/Whitney Houston/I Wanna Dance With Somebody (Who Loves Me).2.mid\n",
      "Error converting midi to sequence 'NoneType' object has no attribute 'open' data/midi/v8/midi_sources/lmd_clean/Whitney Houston/So Emotional.2.mid\n",
      "Error converting midi to sequence 'NoneType' object has no attribute 'open' data/midi/v8/midi_sources/lmd_clean/Hollenboer/Het busje komt zo.mid\n",
      "Error converting midi to sequence 'NoneType' object has no attribute 'open' data/midi/v8/midi_sources/lmd_clean/Whitney Houston/Someone for Me.mid\n",
      "Error converting midi to sequence 'NoneType' object has no attribute 'open' data/midi/v8/midi_sources/lmd_clean/Neil Diamond/Hello Again.1.mid\n",
      "Error converting midi to sequence 'NoneType' object has no attribute 'open' data/midi/v8/midi_sources/lmd_clean/Neil Diamond/Sweet Caroline.mid\n",
      "Error converting midi to sequence 'NoneType' object has no attribute 'open' data/midi/v8/midi_sources/lmd_clean/Bobby McFerrin/Don't Worry Be Happy.4.mid\n",
      "Error converting midi to sequence 'NoneType' object has no attribute 'open' data/midi/v8/midi_sources/lmd_clean/The New Seekers/I'd Like To Teach The World To Sing.1.mid\n",
      "Error converting midi to sequence 'NoneType' object has no attribute 'open' data/midi/v8/midi_sources/lmd_clean/Waller Fats/Lonesome Road.mid\n",
      "Error converting midi to sequence 'NoneType' object has no attribute 'open' data/midi/v8/midi_sources/lmd_clean/Tag Team/Whoomp (There It Is).1.mid\n",
      "Error converting midi to sequence 'NoneType' object has no attribute 'open' data/midi/v8/midi_sources/lmd_clean/Aerosmith/Falling in Love (Is Hard on the Knees).1.mid\n",
      "Error converting midi to sequence 'NoneType' object has no attribute 'open' data/midi/v8/midi_sources/lmd_clean/Worlds Apart/Je Te Donne.mid\n",
      "Error converting midi to sequence 'NoneType' object has no attribute 'open' data/midi/v8/midi_sources/lmd_clean/Boyz II Men/End of the Road.mid\n",
      "Error converting midi to sequence 'NoneType' object has no attribute 'open' data/midi/v8/midi_sources/lmd_clean/Laura Branigan/The Power of Love.mid\n",
      "Error converting midi to sequence 'NoneType' object has no attribute 'open' data/midi/v8/midi_sources/lmd_clean/Clayderman Richard/Yesterday.mid\n",
      "Error converting midi to sequence 'NoneType' object has no attribute 'open' data/midi/v8/midi_sources/lmd_clean/Clayderman Richard/As Time Goes By.mid\n",
      "Error converting midi to sequence 'NoneType' object has no attribute 'open' data/midi/v8/midi_sources/lmd_clean/Culture Club/Do You Really Want to Hurt Me.mid\n",
      "Error converting midi to sequence 'NoneType' object has no attribute 'open' data/midi/v8/midi_sources/lmd_clean/Clayderman Richard/Only You.mid\n",
      "Error converting midi to sequence 'NoneType' object has no attribute 'open' data/midi/v8/midi_sources/lmd_clean/Clayderman Richard/L'Enfant et la Mer.mid\n",
      "Error converting midi to sequence 'NoneType' object has no attribute 'open' data/midi/v8/midi_sources/lmd_clean/Double Vision/Knockin'.1.mid\n",
      "Error converting midi to sequence 'NoneType' object has no attribute 'open' data/midi/v8/midi_sources/lmd_clean/Clayderman Richard/Ballade Pour Adeline.mid\n",
      "Error converting midi to sequence 'NoneType' object has no attribute 'open' data/midi/v8/midi_sources/lmd_clean/Battiato/Centro di gravita permanente.1.mid\n",
      "Error converting midi to sequence 'NoneType' object has no attribute 'open' data/midi/v8/midi_sources/lmd_clean/Clayderman Richard/Greensleeves.mid\n",
      "Error converting midi to sequence 'NoneType' object has no attribute 'open' data/midi/v8/midi_sources/lmd_clean/Clayderman Richard/Strangers in the Night.mid\n",
      "Error converting midi to sequence 'NoneType' object has no attribute 'open' data/midi/v8/midi_sources/lmd_clean/ABBA/Thank You for the Music.4.mid\n",
      "Error converting midi to sequence 'NoneType' object has no attribute 'open' data/midi/v8/midi_sources/lmd_clean/ABBA/Super Trooper.1.mid\n",
      "Error converting midi to sequence 'NoneType' object has no attribute 'open' data/midi/v8/midi_sources/lmd_clean/ABBA/Money, Money, Money.8.mid\n",
      "Error converting midi to sequence 'NoneType' object has no attribute 'open' data/midi/v8/midi_sources/lmd_clean/Andrea Bocelli/Vivere (feat. Andrea Bocelli).mid\n",
      "Error converting midi to sequence 'NoneType' object has no attribute 'open' data/midi/v8/midi_sources/lmd_clean/Culture Club/Do You Really Want to Hurt Me.1.mid\n",
      "Error converting midi to sequence 'NoneType' object has no attribute 'open' data/midi/v8/midi_sources/lmd_clean/ABBA/Knowing Me, Knowing You.6.mid\n",
      "Error converting midi to sequence 'NoneType' object has no attribute 'open' data/midi/v8/midi_sources/lmd_clean/ABBA/Mamma Mia.1.mid\n",
      "Error converting midi to sequence 'NoneType' object has no attribute 'open' data/midi/v8/midi_sources/lmd_clean/ABBA/Dancing Queen.9.mid\n",
      "Error converting midi to sequence 'NoneType' object has no attribute 'open' data/midi/v8/midi_sources/lmd_clean/War/Why Can't We Be Friends.mid\n",
      "Error converting midi to sequence 'NoneType' object has no attribute 'open' data/midi/v8/midi_sources/lmd_clean/ABBA/Thank You for the Music.7.mid\n",
      "Error converting midi to sequence 'NoneType' object has no attribute 'open' data/midi/v8/midi_sources/lmd_clean/ABBA/Waterloo.mid\n",
      "Error converting midi to sequence 'NoneType' object has no attribute 'open' data/midi/v8/midi_sources/lmd_clean/ABBA/Money, Money, Money.2.mid\n",
      "Error converting midi to sequence 'NoneType' object has no attribute 'open' data/midi/v8/midi_sources/lmd_clean/ABBA/Dancing Queen.1.mid\n"
     ]
    },
    {
     "name": "stdout",
     "output_type": "stream",
     "text": [
      "Error converting midi to sequence 'NoneType' object has no attribute 'open' data/midi/v8/midi_sources/lmd_clean/ABBA/Super Trouper.3.mid\n",
      "Error converting midi to sequence 'NoneType' object has no attribute 'open' data/midi/v8/midi_sources/lmd_clean/ABBA/Money, Money, Money.mid\n",
      "Error converting midi to sequence 'NoneType' object has no attribute 'open' data/midi/v8/midi_sources/lmd_clean/ABBA/Thank You for the Music.5.mid\n",
      "Error converting midi to sequence 'NoneType' object has no attribute 'open' data/midi/v8/midi_sources/lmd_clean/ABBA/Super Trooper.mid\n",
      "Error converting midi to sequence 'NoneType' object has no attribute 'open' data/midi/v8/midi_sources/lmd_clean/ABBA/Knowing Me, Knowing You.5.mid\n",
      "Error converting midi to sequence 'NoneType' object has no attribute 'open' data/midi/v8/midi_sources/lmd_clean/ABBA/Waterloo.6.mid\n",
      "Error converting midi to sequence 'NoneType' object has no attribute 'open' data/midi/v8/midi_sources/lmd_clean/ABBA/Waterloo.5.mid\n",
      "Error converting midi to sequence 'NoneType' object has no attribute 'open' data/midi/v8/midi_sources/lmd_clean/ABBA/Dancing Queen.12.mid\n",
      "Error converting midi to sequence 'NoneType' object has no attribute 'open' data/midi/v8/midi_sources/lmd_clean/ABBA/Waterloo.7.mid\n",
      "Error converting midi to sequence 'NoneType' object has no attribute 'open' data/midi/v8/midi_sources/lmd_clean/ABBA/Name of the Game.1.mid\n",
      "Error converting midi to sequence 'NoneType' object has no attribute 'open' data/midi/v8/midi_sources/lmd_clean/ABBA/Thank You for the Music.mid\n",
      "Error converting midi to sequence 'NoneType' object has no attribute 'open' data/midi/v8/midi_sources/lmd_clean/ABBA/Medley.1.mid\n",
      "Error converting midi to sequence 'NoneType' object has no attribute 'open' data/midi/v8/midi_sources/lmd_clean/ABBA/Knowing Me, Knowing You.2.mid\n",
      "Error converting midi to sequence 'NoneType' object has no attribute 'open' data/midi/v8/midi_sources/lmd_clean/ABBA/Fernando.11.mid\n",
      "Error converting midi to sequence 'NoneType' object has no attribute 'open' data/midi/v8/midi_sources/lmd_clean/ABBA/Fernando.7.mid\n",
      "Error converting midi to sequence 'NoneType' object has no attribute 'open' data/midi/v8/midi_sources/lmd_clean/ABBA/Knowing Me, Knowing You.7.mid\n",
      "Error converting midi to sequence 'NoneType' object has no attribute 'open' data/midi/v8/midi_sources/lmd_clean/ABBA/Thank You for the Music.2.mid\n",
      "Error converting midi to sequence 'NoneType' object has no attribute 'open' data/midi/v8/midi_sources/lmd_clean/ABBA/Fernando.mid\n",
      "Error converting midi to sequence 'NoneType' object has no attribute 'open' data/midi/v8/midi_sources/lmd_clean/Rossi Vasco/Quante volte.mid\n",
      "Error converting midi to sequence 'NoneType' object has no attribute 'open' data/midi/v8/midi_sources/lmd_clean/ABBA/Fernando.9.mid\n",
      "Error converting midi to sequence 'NoneType' object has no attribute 'open' data/midi/v8/midi_sources/lmd_clean/ABBA/Money, Money, Money.10.mid\n",
      "Error converting midi to sequence 'NoneType' object has no attribute 'open' data/midi/v8/midi_sources/lmd_clean/ABBA/Dancing Queen.3.mid\n",
      "Error converting midi to sequence 'NoneType' object has no attribute 'open' data/midi/v8/midi_sources/lmd_clean/ABBA/Take a Chance on Me.3.mid\n",
      "Error converting midi to sequence 'NoneType' object has no attribute 'open' data/midi/v8/midi_sources/lmd_clean/Rossi Vasco/Io no.mid\n",
      "Error converting midi to sequence 'NoneType' object has no attribute 'open' data/midi/v8/midi_sources/lmd_clean/ABBA/Fernando.1.mid\n",
      "Error converting midi to sequence 'NoneType' object has no attribute 'open' data/midi/v8/midi_sources/lmd_clean/ABBA/I Have a Dream.4.mid\n",
      "Error converting midi to sequence 'NoneType' object has no attribute 'open' data/midi/v8/midi_sources/lmd_clean/Cash Johnny/I Walk The Line.mid\n",
      "Error converting midi to sequence 'NoneType' object has no attribute 'open' data/midi/v8/midi_sources/lmd_clean/ABBA/Dancing Queen.2.mid\n",
      "Error converting midi to sequence 'NoneType' object has no attribute 'open' data/midi/v8/midi_sources/lmd_clean/Sheena Easton/U Got the Look.mid\n",
      "Error converting midi to sequence 'NoneType' object has no attribute 'open' data/midi/v8/midi_sources/lmd_clean/Boris Gardiner/I Wanna Wake Up With You.mid\n",
      "Error converting midi to sequence 'NoneType' object has no attribute 'open' data/midi/v8/midi_sources/lmd_clean/Rastape/Colo de menina.mid\n",
      "Error converting midi to sequence 'NoneType' object has no attribute 'open' data/midi/v8/midi_sources/lmd_clean/Rastape/Xote swingado.mid\n",
      "Error converting midi to sequence 'NoneType' object has no attribute 'open' data/midi/v8/midi_sources/lmd_clean/Rastape/Beijo roubado.mid\n",
      "Error converting midi to sequence 'NoneType' object has no attribute 'open' data/midi/v8/midi_sources/lmd_clean/Joe Cocker/Unchain My Heart.2.mid\n",
      "Error converting midi to sequence 'NoneType' object has no attribute 'open' data/midi/v8/midi_sources/lmd_clean/T. Rex/Get It On (Bang a Gong).1.mid\n",
      "Error converting midi to sequence 'NoneType' object has no attribute 'open' data/midi/v8/midi_sources/lmd_clean/Rastape/Colo de menina.2.mid\n",
      "Error converting midi to sequence 'NoneType' object has no attribute 'open' data/midi/v8/midi_sources/lmd_clean/Huey Lewis & The News/Stuck With You.2.mid\n",
      "Error converting midi to sequence 'NoneType' object has no attribute 'open' data/midi/v8/midi_sources/lmd_clean/Die Arzte/Friedenspanzer.mid\n",
      "Error converting midi to sequence 'NoneType' object has no attribute 'open' data/midi/v8/midi_sources/lmd_clean/Rastape/Colo de menina.1.mid\n",
      "Error converting midi to sequence 'NoneType' object has no attribute 'open' data/midi/v8/midi_sources/lmd_clean/R. Kelly/Half on a Baby.mid\n",
      "Error converting midi to sequence 'NoneType' object has no attribute 'open' data/midi/v8/midi_sources/lmd_clean/The Manhattans/Kiss and Say Goodbye.mid\n",
      "Error converting midi to sequence 'NoneType' object has no attribute 'open' data/midi/v8/midi_sources/lmd_clean/ABBA/Fernando.3.mid\n",
      "Error converting midi to sequence 'NoneType' object has no attribute 'open' data/midi/v8/midi_sources/lmd_clean/R. Kelly/Fiesta Remix.mid\n",
      "Error converting midi to sequence 'NoneType' object has no attribute 'open' data/midi/v8/midi_sources/lmd_clean/Huey Lewis & The News/Stuck With You.4.mid\n",
      "Error converting midi to sequence 'NoneType' object has no attribute 'open' data/midi/v8/midi_sources/lmd_clean/Huey Lewis & The News/Stuck With You.1.mid\n",
      "Error converting midi to sequence 'NoneType' object has no attribute 'open' data/midi/v8/midi_sources/lmd_clean/Smash Mouth/Can't Get Enough of You Baby.mid\n",
      "Error converting midi to sequence 'NoneType' object has no attribute 'open' data/midi/v8/midi_sources/lmd_clean/The Kinks/Waterloo Sunset.mid\n",
      "Error converting midi to sequence 'NoneType' object has no attribute 'open' data/midi/v8/midi_sources/lmd_clean/U2/The Electric Co..1.mid\n",
      "Error converting midi to sequence 'NoneType' object has no attribute 'open' data/midi/v8/midi_sources/lmd_clean/U2/Sunday Bloody Sunday.5.mid\n",
      "Error converting midi to sequence 'NoneType' object has no attribute 'open' data/midi/v8/midi_sources/lmd_clean/U2/The Unforgettable Fire.1.mid\n",
      "Error converting midi to sequence 'NoneType' object has no attribute 'open' data/midi/v8/midi_sources/lmd_clean/Sting/Moon Over Bourbon Street.2.mid\n",
      "Error converting midi to sequence 'NoneType' object has no attribute 'open' data/midi/v8/midi_sources/lmd_clean/Sting/Unplugged 02 Mad About You.mid\n",
      "Error converting midi to sequence 'NoneType' object has no attribute 'open' data/midi/v8/midi_sources/lmd_clean/Haddaway/Life.1.mid\n",
      "Error converting midi to sequence 'NoneType' object has no attribute 'open' data/midi/v8/midi_sources/lmd_clean/Sting/Fields of Gold.4.mid\n",
      "Error converting midi to sequence 'NoneType' object has no attribute 'open' data/midi/v8/midi_sources/lmd_clean/U2/Bad.mid\n",
      "Error converting midi to sequence 'NoneType' object has no attribute 'open' data/midi/v8/midi_sources/lmd_clean/Sting/Moon Over Bourbon Street.3.mid\n",
      "Error converting midi to sequence 'NoneType' object has no attribute 'open' data/midi/v8/midi_sources/lmd_clean/Sting/The Secret Marriage.mid\n",
      "Error converting midi to sequence 'NoneType' object has no attribute 'open' data/midi/v8/midi_sources/lmd_clean/Sting/Unplugged 06 Tea in the Sahara.mid\n"
     ]
    },
    {
     "name": "stdout",
     "output_type": "stream",
     "text": [
      "Error converting midi to sequence 'NoneType' object has no attribute 'open' data/midi/v8/midi_sources/lmd_clean/Sting/Fragile.2.mid\n",
      "Error converting midi to sequence 'NoneType' object has no attribute 'open' data/midi/v8/midi_sources/lmd_clean/Sting/Fields of Gold.5.mid\n",
      "Error converting midi to sequence 'NoneType' object has no attribute 'open' data/midi/v8/midi_sources/lmd_clean/Sting/Fields of Gold.2.mid\n",
      "Error converting midi to sequence 'NoneType' object has no attribute 'open' data/midi/v8/midi_sources/lmd_clean/Sting/Fragile.4.mid\n",
      "Error converting midi to sequence 'NoneType' object has no attribute 'open' data/midi/v8/midi_sources/lmd_clean/Sting/Moon Over Bourbon Street.mid\n",
      "Error converting midi to sequence 'NoneType' object has no attribute 'open' data/midi/v8/midi_sources/lmd_clean/Sting/Fragile.7.mid\n",
      "Error converting midi to sequence 'NoneType' object has no attribute 'open' data/midi/v8/midi_sources/lmd_clean/Sting/If You Love Somebody Set Them Free.2.mid\n",
      "Error converting midi to sequence 'NoneType' object has no attribute 'open' data/midi/v8/midi_sources/lmd_clean/Michele Zarrillo/La notte dei pensieri.mid\n",
      "Error converting midi to sequence 'NoneType' object has no attribute 'open' data/midi/v8/midi_sources/lmd_clean/Sting/Fragile.6.mid\n",
      "Error converting midi to sequence 'NoneType' object has no attribute 'open' data/midi/v8/midi_sources/lmd_clean/Seal/Crazy.4.mid\n",
      "Error converting midi to sequence 'NoneType' object has no attribute 'open' data/midi/v8/midi_sources/lmd_clean/Sting/Consider Me Gone.1.mid\n",
      "Error converting midi to sequence 'NoneType' object has no attribute 'open' data/midi/v8/midi_sources/lmd_clean/Michele Zarrillo/Una rosa blu.mid\n",
      "Error converting midi to sequence 'NoneType' object has no attribute 'open' data/midi/v8/midi_sources/lmd_clean/Billy Idol/Rebel Yell.1.mid\n",
      "Error converting midi to sequence 'NoneType' object has no attribute 'open' data/midi/v8/midi_sources/lmd_clean/Sting/Fragile.3.mid\n",
      "Error converting midi to sequence 'NoneType' object has no attribute 'open' data/midi/v8/midi_sources/lmd_clean/Sting/They Dance Alone (Gueca Solo).mid\n",
      "Error converting midi to sequence 'NoneType' object has no attribute 'open' data/midi/v8/midi_sources/lmd_clean/Haddaway/Fly Away.1.mid\n",
      "Error converting midi to sequence 'NoneType' object has no attribute 'open' data/midi/v8/midi_sources/lmd_clean/Jett/I Love Rock 'n' Roll.mid\n",
      "Error converting midi to sequence 'NoneType' object has no attribute 'open' data/midi/v8/midi_sources/lmd_clean/U2/Stay (Faraway, So Close!).2.mid\n",
      "Error converting midi to sequence 'NoneType' object has no attribute 'open' data/midi/v8/midi_sources/lmd_clean/Phil Collins/In The Air Tonight.mid\n",
      "Error converting midi to sequence 'NoneType' object has no attribute 'open' data/midi/v8/midi_sources/lmd_clean/Sting/Bring On The Night.mid\n",
      "Error converting midi to sequence 'NoneType' object has no attribute 'open' data/midi/v8/midi_sources/lmd_clean/Phil Collins/Don't Lose My Number.mid\n",
      "Error converting midi to sequence 'NoneType' object has no attribute 'open' data/midi/v8/midi_sources/lmd_clean/Phil Collins/One More Night.mid\n",
      "Error converting midi to sequence 'NoneType' object has no attribute 'open' data/midi/v8/midi_sources/lmd_clean/Barry Manilow/Could It Be Magic.2.mid\n",
      "Error converting midi to sequence 'NoneType' object has no attribute 'open' data/midi/v8/midi_sources/lmd_clean/UB40/Kingston Town.2.mid\n",
      "Error converting midi to sequence 'NoneType' object has no attribute 'open' data/midi/v8/midi_sources/lmd_clean/Sting/Consider Me Gone.mid\n",
      "Error converting midi to sequence 'NoneType' object has no attribute 'open' data/midi/v8/midi_sources/lmd_clean/Phil Collins/Sussudio.mid\n",
      "Error converting midi to sequence 'NoneType' object has no attribute 'open' data/midi/v8/midi_sources/lmd_clean/Sting/Unplugged 01 All This Time.mid\n",
      "Error converting midi to sequence 'NoneType' object has no attribute 'open' data/midi/v8/midi_sources/lmd_clean/Phil Collins/Another Day in Paradise.mid\n",
      "Error converting midi to sequence 'NoneType' object has no attribute 'open' data/midi/v8/midi_sources/lmd_clean/The Alan Parsons Project/Lucifer.1.mid\n",
      "Error converting midi to sequence 'NoneType' object has no attribute 'open' data/midi/v8/midi_sources/lmd_clean/The Knack/My Sharona.2.mid\n",
      "Error converting midi to sequence 'NoneType' object has no attribute 'open' data/midi/v8/midi_sources/lmd_clean/Sting/English Man In New York.mid\n",
      "Error converting midi to sequence 'NoneType' object has no attribute 'open' data/midi/v8/midi_sources/lmd_clean/U2/I Still Haven't Found What I'm Looking For.2.mid\n",
      "Error converting midi to sequence 'NoneType' object has no attribute 'open' data/midi/v8/midi_sources/lmd_clean/Them/Gloria.mid\n",
      "Error converting midi to sequence 'NoneType' object has no attribute 'open' data/midi/v8/midi_sources/lmd_clean/Sting/If You Love Somebody Set Them Free.4.mid\n",
      "Error converting midi to sequence 'NoneType' object has no attribute 'open' data/midi/v8/midi_sources/lmd_clean/Sting/Straight to My Heart.1.mid\n",
      "Error converting midi to sequence 'NoneType' object has no attribute 'open' data/midi/v8/midi_sources/lmd_clean/Sting/English Man In New York.6.mid\n",
      "Error converting midi to sequence 'NoneType' object has no attribute 'open' data/midi/v8/midi_sources/lmd_clean/Sting/English Man In New York.5.mid\n",
      "Error converting midi to sequence 'NoneType' object has no attribute 'open' data/midi/v8/midi_sources/lmd_clean/Sting/English Man In New York.2.mid\n",
      "Error converting midi to sequence 'NoneType' object has no attribute 'open' data/midi/v8/midi_sources/lmd_clean/The Kelly Family/First Time.1.mid\n",
      "Error converting midi to sequence 'NoneType' object has no attribute 'open' data/midi/v8/midi_sources/lmd_clean/Sting/Straight to My Heart.mid\n",
      "Error converting midi to sequence 'NoneType' object has no attribute 'open' data/midi/v8/midi_sources/lmd_clean/Sting/English Man In New York.4.mid\n",
      "Error converting midi to sequence 'NoneType' object has no attribute 'open' data/midi/v8/midi_sources/lmd_clean/U2/Lemon.mid\n",
      "Error converting midi to sequence 'NoneType' object has no attribute 'open' data/midi/v8/midi_sources/lmd_clean/Sting/They Dance Alone (Gueca Solo).2.mid\n",
      "Error converting midi to sequence 'NoneType' object has no attribute 'open' data/midi/v8/midi_sources/lmd_clean/Fool's Garden/Wild Days.mid\n",
      "Error converting midi to sequence 'NoneType' object has no attribute 'open' data/midi/v8/midi_sources/lmd_clean/Sting/If I Ever Lose My Faith in You.6.mid\n",
      "Error converting midi to sequence 'NoneType' object has no attribute 'open' data/midi/v8/midi_sources/lmd_clean/Sting/The Soul Cages.3.mid\n",
      "Error converting midi to sequence 'NoneType' object has no attribute 'open' data/midi/v8/midi_sources/lmd_clean/Sting/If I Ever Lose My Faith in You.3.mid\n",
      "Error converting midi to sequence 'NoneType' object has no attribute 'open' data/midi/v8/midi_sources/lmd_clean/U2/Where the Streets Have No Name.2.mid\n",
      "Error converting midi to sequence 'NoneType' object has no attribute 'open' data/midi/v8/midi_sources/lmd_clean/Sting/Storytellers 08 Roxanne.mid\n",
      "Error converting midi to sequence 'NoneType' object has no attribute 'open' data/midi/v8/midi_sources/lmd_clean/Sting/If I Ever Lose My Faith in You.4.mid\n",
      "Error converting midi to sequence 'NoneType' object has no attribute 'open' data/midi/v8/midi_sources/lmd_clean/Sting/We'll Be Together.1.mid\n",
      "Error converting midi to sequence 'NoneType' object has no attribute 'open' data/midi/v8/midi_sources/lmd_clean/U2/Where the Streets Have No Name.8.mid\n",
      "Error converting midi to sequence 'NoneType' object has no attribute 'open' data/midi/v8/midi_sources/lmd_clean/Chris de Burgh/Don't Pay the Ferryman.mid\n",
      "Error converting midi to sequence 'NoneType' object has no attribute 'open' data/midi/v8/midi_sources/lmd_clean/Jon Secada/Do You Believe in Us.mid\n",
      "Error converting midi to sequence 'NoneType' object has no attribute 'open' data/midi/v8/midi_sources/lmd_clean/Sting/If You Love Somebody Set Them Free.mid\n",
      "Error converting midi to sequence 'NoneType' object has no attribute 'open' data/midi/v8/midi_sources/lmd_clean/Sting/The Soul Cages.mid\n",
      "Error converting midi to sequence 'NoneType' object has no attribute 'open' data/midi/v8/midi_sources/lmd_clean/Sting/We'll Be Together.mid\n"
     ]
    },
    {
     "name": "stdout",
     "output_type": "stream",
     "text": [
      "Error converting midi to sequence 'NoneType' object has no attribute 'open' data/midi/v8/midi_sources/lmd_clean/U2/Pride.8.mid\n",
      "Error converting midi to sequence 'NoneType' object has no attribute 'open' data/midi/v8/midi_sources/lmd_clean/Sting/If I Ever Lose My Faith in You.2.mid\n",
      "Error converting midi to sequence 'NoneType' object has no attribute 'open' data/midi/v8/midi_sources/lmd_clean/Sting/If You Love Somebody Set Them Free.3.mid\n",
      "Error converting midi to sequence 'NoneType' object has no attribute 'open' data/midi/v8/midi_sources/lmd_clean/Sting/The Soul Cages.4.mid\n",
      "Error converting midi to sequence 'NoneType' object has no attribute 'open' data/midi/v8/midi_sources/lmd_clean/Three degrees the/When Will I See You Again.1.mid\n",
      "Error converting midi to sequence 'NoneType' object has no attribute 'open' data/midi/v8/midi_sources/lmd_clean/Chris de Burgh/Lady in Red.3.mid\n",
      "Error converting midi to sequence 'NoneType' object has no attribute 'open' data/midi/v8/midi_sources/lmd_clean/U2/Pride.5.mid\n",
      "Error converting midi to sequence 'NoneType' object has no attribute 'open' data/midi/v8/midi_sources/lmd_clean/Sting/Storytellers 04 King of Pain.mid\n",
      "Error converting midi to sequence 'NoneType' object has no attribute 'open' data/midi/v8/midi_sources/lmd_clean/Warwick, Dionne/Heartbreaker.mid\n",
      "Error converting midi to sequence 'NoneType' object has no attribute 'open' data/midi/v8/midi_sources/lmd_clean/Phil Collins/You Can't Hurry Love.mid\n",
      "Error converting midi to sequence 'NoneType' object has no attribute 'open' data/midi/v8/midi_sources/lmd_clean/Chris de Burgh/Lady in Red.4.mid\n",
      "Error converting midi to sequence 'NoneType' object has no attribute 'open' data/midi/v8/midi_sources/lmd_clean/Chris de Burgh/Lady in Red.2.mid\n",
      "Error converting midi to sequence 'NoneType' object has no attribute 'open' data/midi/v8/midi_sources/lmd_clean/Kris Kristofferson/Help Me Make It Through the Night.mid\n",
      "Error converting midi to sequence 'NoneType' object has no attribute 'open' data/midi/v8/midi_sources/lmd_clean/BBMak/Back Here.mid\n",
      "Error converting midi to sequence 'NoneType' object has no attribute 'open' data/midi/v8/midi_sources/lmd_clean/Hawkins Erskine/Tuxedo Junction.mid\n",
      "Error converting midi to sequence 'NoneType' object has no attribute 'open' data/midi/v8/midi_sources/lmd_clean/Bruce Hornsby/The Way It Is.4.mid\n",
      "Error converting midi to sequence 'NoneType' object has no attribute 'open' data/midi/v8/midi_sources/lmd_clean/Carpenters/For All We Know.mid\n",
      "Error converting midi to sequence 'NoneType' object has no attribute 'open' data/midi/v8/midi_sources/lmd_clean/Carmen/On My Way in L. A..mid\n",
      "Error converting midi to sequence 'NoneType' object has no attribute 'open' data/midi/v8/midi_sources/lmd_clean/Bruce Hornsby/The Way It Is.1.mid\n",
      "Error converting midi to sequence 'NoneType' object has no attribute 'open' data/midi/v8/midi_sources/lmd_clean/Earth, Wind & Fire/Got To Get You Into My Life (bonus track).mid\n",
      "Error converting midi to sequence 'NoneType' object has no attribute 'open' data/midi/v8/midi_sources/lmd_clean/Carpenters/We've Only Just Began.1.mid\n",
      "Error converting midi to sequence 'NoneType' object has no attribute 'open' data/midi/v8/midi_sources/lmd_clean/Carpenters/We've Only Just Began.2.mid\n",
      "Error converting midi to sequence 'NoneType' object has no attribute 'open' data/midi/v8/midi_sources/lmd_clean/Carpenters/Yesterday Once More (Reprise).mid\n",
      "Error converting midi to sequence 'NoneType' object has no attribute 'open' data/midi/v8/midi_sources/lmd_clean/Desireless/Voyage Voyage.mid\n",
      "Error converting midi to sequence 'NoneType' object has no attribute 'open' data/midi/v8/midi_sources/lmd_clean/Olivia Newton-John/Xanadu.mid\n",
      "Error converting midi to sequence 'NoneType' object has no attribute 'open' data/midi/v8/midi_sources/lmd_clean/Carpenters/Top of the World.3.mid\n",
      "Error converting midi to sequence 'NoneType' object has no attribute 'open' data/midi/v8/midi_sources/lmd_clean/Blondie/Heart of Glass.2.mid\n",
      "Error converting midi to sequence 'NoneType' object has no attribute 'open' data/midi/v8/midi_sources/lmd_clean/Chicago/If You Leave Me Now.2.mid\n",
      "Error converting midi to sequence 'NoneType' object has no attribute 'open' data/midi/v8/midi_sources/lmd_clean/The Shadows/Kontiki.mid\n",
      "Error converting midi to sequence 'NoneType' object has no attribute 'open' data/midi/v8/midi_sources/lmd_clean/The Shadows/Kontiki.2.mid\n",
      "Error converting midi to sequence 'NoneType' object has no attribute 'open' data/midi/v8/midi_sources/lmd_clean/Roxette/Joyride.mid\n",
      "Error converting midi to sequence 'NoneType' object has no attribute 'open' data/midi/v8/midi_sources/lmd_clean/Roxette/Joyride.2.mid\n",
      "Error converting midi to sequence 'NoneType' object has no attribute 'open' data/midi/v8/midi_sources/lmd_clean/Roxette/Fading Like a Flower (Every Time You Leave).4.mid\n",
      "Error converting midi to sequence 'NoneType' object has no attribute 'open' data/midi/v8/midi_sources/lmd_clean/The Shadows/Dance On.mid\n",
      "Error converting midi to sequence 'NoneType' object has no attribute 'open' data/midi/v8/midi_sources/lmd_clean/Roxette/The Big L..1.mid\n",
      "Error converting midi to sequence 'NoneType' object has no attribute 'open' data/midi/v8/midi_sources/lmd_clean/The Shadows/Apache.3.mid\n",
      "Error converting midi to sequence 'NoneType' object has no attribute 'open' data/midi/v8/midi_sources/lmd_clean/The Shadows/Apache.mid\n",
      "Error converting midi to sequence 'NoneType' object has no attribute 'open' data/midi/v8/midi_sources/lmd_clean/Gerry Mulligan Quartet/I'm Beginning to See the Light.mid\n",
      "Error converting midi to sequence 'NoneType' object has no attribute 'open' data/midi/v8/midi_sources/lmd_clean/Boyzone/When The Going Gets Tough.mid\n",
      "Error converting midi to sequence 'NoneType' object has no attribute 'open' data/midi/v8/midi_sources/lmd_clean/The Shadows/Apache.2.mid\n",
      "Error converting midi to sequence 'NoneType' object has no attribute 'open' data/midi/v8/midi_sources/lmd_clean/Bruce Springsteen/Hungry Heart.1.mid\n",
      "Error converting midi to sequence 'NoneType' object has no attribute 'open' data/midi/v8/midi_sources/lmd_clean/Nazareth/Love Hurts.1.mid\n",
      "Error converting midi to sequence 'NoneType' object has no attribute 'open' data/midi/v8/midi_sources/lmd_clean/Pooh/Parsifal (parte II).1.mid\n",
      "Error converting midi to sequence 'NoneType' object has no attribute 'open' data/midi/v8/midi_sources/lmd_clean/Pooh/Parsifal (parte II).mid\n",
      "Error converting midi to sequence 'NoneType' object has no attribute 'open' data/midi/v8/midi_sources/lmd_clean/Pooh/Senza musica e senza parole.mid\n",
      "Error converting midi to sequence 'NoneType' object has no attribute 'open' data/midi/v8/midi_sources/lmd_clean/Pooh/Mary Ann.mid\n",
      "Error converting midi to sequence 'NoneType' object has no attribute 'open' data/midi/v8/midi_sources/lmd_clean/Pooh/Goodbye.mid\n",
      "Error converting midi to sequence 'NoneType' object has no attribute 'open' data/midi/v8/midi_sources/lmd_clean/Bruce Springsteen/The Rising.mid\n",
      "Error converting midi to sequence 'NoneType' object has no attribute 'open' data/midi/v8/midi_sources/lmd_clean/Daniele/Fatte 'na pizza.mid\n",
      "Error converting midi to sequence 'NoneType' object has no attribute 'open' data/midi/v8/midi_sources/lmd_clean/Beloved/Sweet Harmony.mid\n",
      "Error converting midi to sequence 'NoneType' object has no attribute 'open' data/midi/v8/midi_sources/lmd_clean/Pooh/Anni senza fiato.mid\n",
      "Error converting midi to sequence 'NoneType' object has no attribute 'open' data/midi/v8/midi_sources/lmd_clean/Palemiger Spatzen/('t Is weer) Harmonikatijd.mid\n",
      "Error converting midi to sequence 'NoneType' object has no attribute 'open' data/midi/v8/midi_sources/lmd_clean/Demis Roussos/Forever and Ever.mid\n",
      "Error converting midi to sequence 'NoneType' object has no attribute 'open' data/midi/v8/midi_sources/lmd_clean/Crowd/You'll Never Walk Alone.mid\n"
     ]
    },
    {
     "name": "stderr",
     "output_type": "stream",
     "text": [
      "midi: WARNING: Conversion error for <MidiEvent None, t=None, track=9, channel=None>: unknown midi event type: None; ignored.\n"
     ]
    },
    {
     "name": "stdout",
     "output_type": "stream",
     "text": [
      "Error converting midi to sequence 'NoneType' object has no attribute 'open' data/midi/v8/midi_sources/lmd_clean/Pooh/Fotografie.1.mid\n",
      "Error converting midi to sequence 'NoneType' object has no attribute 'open' data/midi/v8/midi_sources/lmd_clean/Pooh/Siamo ancora sulla strada.mid\n",
      "Error converting midi to sequence 'NoneType' object has no attribute 'open' data/midi/v8/midi_sources/lmd_clean/Green Day/Warning.mid\n",
      "Error converting midi to sequence 'NoneType' object has no attribute 'open' data/midi/v8/midi_sources/lmd_clean/Daniele/Occhi blu non mi mollare.mid\n",
      "Error converting midi to sequence 'NoneType' object has no attribute 'open' data/midi/v8/midi_sources/lmd_clean/Daniele/Questa primavera.mid\n",
      "Error converting midi to sequence 'NoneType' object has no attribute 'open' data/midi/v8/midi_sources/lmd_clean/Daniele/Nun me scuccia.mid\n",
      "Error converting midi to sequence 'NoneType' object has no attribute 'open' data/midi/v8/midi_sources/lmd_clean/Green Day/2,000 Light Years Away.2.mid\n",
      "Error converting midi to sequence 'NoneType' object has no attribute 'open' data/midi/v8/midi_sources/lmd_clean/Pooh/Balliamo balliamo.mid\n",
      "Error converting midi to sequence 'NoneType' object has no attribute 'open' data/midi/v8/midi_sources/lmd_clean/Daniele/Neve al sole.mid\n",
      "Error converting midi to sequence 'NoneType' object has no attribute 'open' data/midi/v8/midi_sources/lmd_clean/The Prodigy/No Good (Start the Dance).1.mid\n",
      "Error converting midi to sequence 'NoneType' object has no attribute 'open' data/midi/v8/midi_sources/lmd_clean/Green Day/Geek Stink Breath.mid\n",
      "Error converting midi to sequence 'NoneType' object has no attribute 'open' data/midi/v8/midi_sources/lmd_clean/Gordon Lightfoot/Carefree Highway.mid\n",
      "Error converting midi to sequence 'NoneType' object has no attribute 'open' data/midi/v8/midi_sources/lmd_clean/Pooh/Dimmi di si.mid\n",
      "Error converting midi to sequence 'NoneType' object has no attribute 'open' data/midi/v8/midi_sources/lmd_clean/Deep Blue Something/Breakfast At Tiffany's.2.mid\n",
      "Error converting midi to sequence 'NoneType' object has no attribute 'open' data/midi/v8/midi_sources/lmd_clean/REDDING OTIS/(Sitin' on) The Dock of the Bay.1.mid\n",
      "Error converting midi to sequence 'NoneType' object has no attribute 'open' data/midi/v8/midi_sources/lmd_clean/TLC/No Scrubs.mid\n",
      "Error converting midi to sequence 'NoneType' object has no attribute 'open' data/midi/v8/midi_sources/lmd_clean/Lennon John/Imagine.4.mid\n",
      "Error converting midi to sequence 'NoneType' object has no attribute 'open' data/midi/v8/midi_sources/lmd_clean/Brian McKnight/Back at One.mid\n",
      "Error converting midi to sequence 'NoneType' object has no attribute 'open' data/midi/v8/midi_sources/lmd_clean/Wendy Moten/Come in Out of the Rain.mid\n",
      "Error converting midi to sequence 'NoneType' object has no attribute 'open' data/midi/v8/midi_sources/lmd_clean/Pet Shop Boys/Always on My Mind   In My House.1.mid\n",
      "Error converting midi to sequence 'NoneType' object has no attribute 'open' data/midi/v8/midi_sources/lmd_clean/Renzo Arbore/Cacao meravigliao.1.mid\n",
      "Error converting midi to sequence 'NoneType' object has no attribute 'open' data/midi/v8/midi_sources/lmd_clean/Caterina Caselli/Nessuno mi puo giudicare.1.mid\n",
      "Error converting midi to sequence 'NoneType' object has no attribute 'open' data/midi/v8/midi_sources/lmd_clean/Pet Shop Boys/Paninaro '95.1.mid\n",
      "Error converting midi to sequence 'NoneType' object has no attribute 'open' data/midi/v8/midi_sources/lmd_clean/Pet Shop Boys/Always on My Mind   In My House.4.mid\n",
      "Error converting midi to sequence 'NoneType' object has no attribute 'open' data/midi/v8/midi_sources/lmd_clean/Genesis/I Can't Dance.2.mid\n",
      "Error converting midi to sequence 'NoneType' object has no attribute 'open' data/midi/v8/midi_sources/lmd_clean/Genesis/I Can't Dance.1.mid\n",
      "Error converting midi to sequence 'NoneType' object has no attribute 'open' data/midi/v8/midi_sources/lmd_clean/Genesis/I Can't Dance.5.mid\n",
      "Error converting midi to sequence 'NoneType' object has no attribute 'open' data/midi/v8/midi_sources/lmd_clean/Genesis/In Too Deep.mid\n",
      "Error converting midi to sequence 'NoneType' object has no attribute 'open' data/midi/v8/midi_sources/lmd_clean/Pet Shop Boys/Paninaro '95.mid\n",
      "Error converting midi to sequence 'NoneType' object has no attribute 'open' data/midi/v8/midi_sources/lmd_clean/Shirley Bassey/Big Spender.mid\n",
      "Error converting midi to sequence 'NoneType' object has no attribute 'open' data/midi/v8/midi_sources/lmd_clean/Genesis/In Too Deep.1.mid\n",
      "Error converting midi to sequence 'NoneType' object has no attribute 'open' data/midi/v8/midi_sources/lmd_clean/Wonder Stevie/Isn't She Lovely.3.mid\n"
     ]
    },
    {
     "name": "stderr",
     "output_type": "stream",
     "text": [
      "midi: WARNING: Conversion error for <MidiEvent None, t=None, track=7, channel=None>: unknown midi event type: None; ignored.\n",
      "midi: WARNING: Conversion error for <MidiEvent None, t=None, track=8, channel=None>: unknown midi event type: None; ignored.\n"
     ]
    },
    {
     "name": "stdout",
     "output_type": "stream",
     "text": [
      "Error converting midi to sequence 'NoneType' object has no attribute 'open' data/midi/v8/midi_sources/lmd_clean/Middle of the Road/Chirpy Chirpy Cheep Cheep.mid\n",
      "Error converting midi to sequence 'NoneType' object has no attribute 'open' data/midi/v8/midi_sources/lmd_clean/Pet Shop Boys/Before.mid\n",
      "Error converting midi to sequence 'NoneType' object has no attribute 'open' data/midi/v8/midi_sources/lmd_clean/Genesis/Tonight Tonight Tonight.2.mid\n",
      "Error converting midi to sequence 'NoneType' object has no attribute 'open' data/midi/v8/midi_sources/lmd_clean/Randy Crawford/One Day I'll Fly Away.mid\n",
      "Error converting midi to sequence 'NoneType' object has no attribute 'open' data/midi/v8/midi_sources/lmd_clean/Randy Crawford/One Day I'll Fly Away.3.mid\n",
      "Error converting midi to sequence 'NoneType' object has no attribute 'open' data/midi/v8/midi_sources/lmd_clean/The Boomtown Rats/I Don't Like Monday's.1.mid\n",
      "Error converting midi to sequence 'NoneType' object has no attribute 'open' data/midi/v8/midi_sources/lmd_clean/Lenny Kravitz/Are You Gonna Go My Way.mid\n",
      "Error converting midi to sequence 'NoneType' object has no attribute 'open' data/midi/v8/midi_sources/lmd_clean/Mica Paris/I Never Felt Like This Before.mid\n",
      "Error converting midi to sequence 'NoneType' object has no attribute 'open' data/midi/v8/midi_sources/lmd_clean/Genesis/Land of Confusion.3.mid\n",
      "Error converting midi to sequence 'NoneType' object has no attribute 'open' data/midi/v8/midi_sources/lmd_clean/Genesis/Follow You Follow Me.2.mid\n",
      "Error converting midi to sequence 'NoneType' object has no attribute 'open' data/midi/v8/midi_sources/lmd_clean/Genesis/Land of Confusion.mid\n",
      "Error converting midi to sequence 'NoneType' object has no attribute 'open' data/midi/v8/midi_sources/lmd_clean/Tony Orlando/Tie A Yellow Ribbon Round the Old Oak Tree.mid\n",
      "Error converting midi to sequence 'NoneType' object has no attribute 'open' data/midi/v8/midi_sources/lmd_clean/Genesis/Tonight Tonight Tonight.3.mid\n",
      "Error converting midi to sequence 'NoneType' object has no attribute 'open' data/midi/v8/midi_sources/lmd_clean/Zucchero/Dune mosse.mid\n",
      "Error converting midi to sequence 'NoneType' object has no attribute 'open' data/midi/v8/midi_sources/lmd_clean/Genesis/Tonight Tonight Tonight.mid\n",
      "Error converting midi to sequence 'NoneType' object has no attribute 'open' data/midi/v8/midi_sources/lmd_clean/Harold Faltermeyer/Axel F.2.mid\n",
      "Error converting midi to sequence 'NoneType' object has no attribute 'open' data/midi/v8/midi_sources/lmd_clean/Rick Astley/Together Forever.2.mid\n",
      "Error converting midi to sequence 'NoneType' object has no attribute 'open' data/midi/v8/midi_sources/lmd_clean/Cliff Richard/Some People.mid\n",
      "Error converting midi to sequence 'NoneType' object has no attribute 'open' data/midi/v8/midi_sources/lmd_clean/Nek/Tu sei, tu sai.1.mid\n",
      "Error converting midi to sequence 'NoneType' object has no attribute 'open' data/midi/v8/midi_sources/lmd_clean/Janet Jackson/Feels So Right.mid\n",
      "Error converting midi to sequence 'NoneType' object has no attribute 'open' data/midi/v8/midi_sources/lmd_clean/Cream/Strange Brew.1.mid\n",
      "Error converting midi to sequence 'NoneType' object has no attribute 'open' data/midi/v8/midi_sources/lmd_clean/Arrested Development/Everyday People.mid\n",
      "Error converting midi to sequence 'NoneType' object has no attribute 'open' data/midi/v8/midi_sources/lmd_clean/Cliff Richard/We Don't Talk Anymore.2.mid\n",
      "Error converting midi to sequence 'NoneType' object has no attribute 'open' data/midi/v8/midi_sources/lmd_clean/Vaughn/Greensleeves.mid\n",
      "Error converting midi to sequence 'NoneType' object has no attribute 'open' data/midi/v8/midi_sources/lmd_clean/Francis Connie/Everybody's Somebody's Fool.mid\n",
      "Error converting midi to sequence 'NoneType' object has no attribute 'open' data/midi/v8/midi_sources/lmd_clean/Cream/White Room.mid\n",
      "Error converting midi to sequence 'NoneType' object has no attribute 'open' data/midi/v8/midi_sources/lmd_clean/Cream/Sunshine of Your Love.mid\n",
      "Error converting midi to sequence 'NoneType' object has no attribute 'open' data/midi/v8/midi_sources/lmd_clean/Dave Matthews Band/Satellite.mid\n",
      "Error converting midi to sequence 'NoneType' object has no attribute 'open' data/midi/v8/midi_sources/lmd_clean/The Doors/Light My Fire.6.mid\n",
      "Error converting midi to sequence 'NoneType' object has no attribute 'open' data/midi/v8/midi_sources/lmd_clean/Diana Ross/Touch Me in the Morning.mid\n",
      "Error converting midi to sequence 'NoneType' object has no attribute 'open' data/midi/v8/midi_sources/lmd_clean/The Doors/Break On Through (to the Other Side).2.mid\n",
      "Error converting midi to sequence 'NoneType' object has no attribute 'open' data/midi/v8/midi_sources/lmd_clean/John Denver/Annie's Song.1.mid\n",
      "Error converting midi to sequence 'NoneType' object has no attribute 'open' data/midi/v8/midi_sources/lmd_clean/Jimmy Cliff/Wild World.mid\n",
      "Error converting midi to sequence 'NoneType' object has no attribute 'open' data/midi/v8/midi_sources/lmd_clean/Bill Withers/Lean On Me.mid\n",
      "Error converting midi to sequence 'NoneType' object has no attribute 'open' data/midi/v8/midi_sources/lmd_clean/Irene Cara/Flashdance.2.mid\n",
      "Error converting midi to sequence 'NoneType' object has no attribute 'open' data/midi/v8/midi_sources/lmd_clean/Bruno/Bijuteria.mid\n",
      "Error converting midi to sequence 'NoneType' object has no attribute 'open' data/midi/v8/midi_sources/lmd_clean/Backstreet Boys/Spanish Eyes.mid\n",
      "Error converting midi to sequence 'NoneType' object has no attribute 'open' data/midi/v8/midi_sources/lmd_clean/Backstreet Boys/More Than That.1.mid\n",
      "Error converting midi to sequence 'NoneType' object has no attribute 'open' data/midi/v8/midi_sources/lmd_clean/Backstreet Boys/As Long as You Love Me.5.mid\n",
      "Error converting midi to sequence 'NoneType' object has no attribute 'open' data/midi/v8/midi_sources/lmd_clean/Asia/Don't Cry.1.mid\n",
      "Error converting midi to sequence 'NoneType' object has no attribute 'open' data/midi/v8/midi_sources/lmd_clean/Backstreet Boys/Get Down.2.mid\n",
      "Error converting midi to sequence 'NoneType' object has no attribute 'open' data/midi/v8/midi_sources/lmd_clean/Freddie Mercury/The Great Pretender.mid\n",
      "Error converting midi to sequence 'NoneType' object has no attribute 'open' data/midi/v8/midi_sources/lmd_clean/Porter Cole/You'd Be So Nice to Come Home To.mid\n",
      "Error converting midi to sequence 'NoneType' object has no attribute 'open' data/midi/v8/midi_sources/lmd_clean/Alice/GEMINI-0-eternal.mid\n",
      "Error converting midi to sequence 'NoneType' object has no attribute 'open' data/midi/v8/midi_sources/lmd_clean/Porter Cole/I Concentrate on You.mid\n",
      "Error converting midi to sequence 'NoneType' object has no attribute 'open' data/midi/v8/midi_sources/lmd_clean/Des'ree/Life.mid\n",
      "Error converting midi to sequence 'NoneType' object has no attribute 'open' data/midi/v8/midi_sources/lmd_clean/Andre Brasseur/Early Bird Satellite.1.mid\n",
      "Error converting midi to sequence 'NoneType' object has no attribute 'open' data/midi/v8/midi_sources/lmd_clean/The Doors/Light My Fire.8.mid\n",
      "Error converting midi to sequence 'NoneType' object has no attribute 'open' data/midi/v8/midi_sources/lmd_clean/Andre & Adriano/Vira e mexe.mid\n",
      "Error converting midi to sequence 'NoneType' object has no attribute 'open' data/midi/v8/midi_sources/lmd_clean/Jones Grace/Love Is the Drug.mid\n",
      "Error converting midi to sequence 'NoneType' object has no attribute 'open' data/midi/v8/midi_sources/lmd_clean/Jackson Browne/Somebody's Baby.mid\n",
      "Error converting midi to sequence 'NoneType' object has no attribute 'open' data/midi/v8/midi_sources/lmd_clean/Jackson Browne/On the Day.mid\n",
      "Error converting midi to sequence 'NoneType' object has no attribute 'open' data/midi/v8/midi_sources/lmd_clean/The Cars/Drive.4.mid\n",
      "Error converting midi to sequence 'NoneType' object has no attribute 'open' data/midi/v8/midi_sources/lmd_clean/George McCrae/Rock Your Baby.mid\n",
      "Error converting midi to sequence 'NoneType' object has no attribute 'open' data/midi/v8/midi_sources/lmd_clean/Searchers/Needles and Pins.mid\n",
      "Error converting midi to sequence 'NoneType' object has no attribute 'open' data/midi/v8/midi_sources/lmd_clean/Searchers/Needles and Pins.1.mid\n",
      "Error converting midi to sequence 'NoneType' object has no attribute 'open' data/midi/v8/midi_sources/lmd_clean/Bobby Goldsboro/Honey.mid\n"
     ]
    },
    {
     "name": "stdout",
     "output_type": "stream",
     "text": [
      "Error converting midi to sequence 'NoneType' object has no attribute 'open' data/midi/v8/midi_sources/lmd_clean/Rednex/Cotton Eye Joe.mid\n",
      "Error converting midi to sequence 'NoneType' object has no attribute 'open' data/midi/v8/midi_sources/lmd_clean/Aretha Franklin/Think.mid\n",
      "Error converting midi to sequence 'NoneType' object has no attribute 'open' data/midi/v8/midi_sources/lmd_clean/Simply Red/If You Don't Know Me By Now.2.mid\n",
      "Error converting midi to sequence 'NoneType' object has no attribute 'open' data/midi/v8/midi_sources/lmd_clean/Joe/I Wanna Know.mid\n",
      "Error converting midi to sequence 'NoneType' object has no attribute 'open' data/midi/v8/midi_sources/lmd_clean/Spice Girls/Too Much.1.mid\n",
      "Error converting midi to sequence 'NoneType' object has no attribute 'open' data/midi/v8/midi_sources/lmd_clean/Joe/Don't Wanna Be a Player.mid\n",
      "Error converting midi to sequence 'NoneType' object has no attribute 'open' data/midi/v8/midi_sources/lmd_clean/Dietrich Marlene/Sag mir wo die Blumen sind.mid\n",
      "Error converting midi to sequence 'NoneType' object has no attribute 'open' data/midi/v8/midi_sources/lmd_clean/Bruce Hornsby & The Range/The Way It Is.2.mid\n",
      "Error converting midi to sequence 'NoneType' object has no attribute 'open' data/midi/v8/midi_sources/lmd_clean/Roy Black/Mona.mid\n",
      "Error converting midi to sequence 'NoneType' object has no attribute 'open' data/midi/v8/midi_sources/lmd_clean/Roy Black/Ganz in weiss.mid\n",
      "Error converting midi to sequence 'NoneType' object has no attribute 'open' data/midi/v8/midi_sources/lmd_clean/Rednex/Wild 'N Free (Remix Extended).mid\n",
      "Error converting midi to sequence 'NoneType' object has no attribute 'open' data/midi/v8/midi_sources/lmd_clean/Spice Girls/Spice Up Your Life.3.mid\n",
      "Error converting midi to sequence 'NoneType' object has no attribute 'open' data/midi/v8/midi_sources/lmd_clean/Ornella Vanoni/L'Appuntamento.mid\n",
      "Error converting midi to sequence 'NoneType' object has no attribute 'open' data/midi/v8/midi_sources/lmd_clean/Johnny Nash/I Can See Clearly Now.2.mid\n",
      "Error converting midi to sequence 'NoneType' object has no attribute 'open' data/midi/v8/midi_sources/lmd_clean/Pato Banton/Bubbling Hot.mid\n",
      "Error converting midi to sequence 'NoneType' object has no attribute 'open' data/midi/v8/midi_sources/lmd_clean/Brooks Garth/The Thunder Rolls.1.mid\n",
      "Error converting midi to sequence 'NoneType' object has no attribute 'open' data/midi/v8/midi_sources/lmd_clean/The Ink Spots/Whispering Grass (Don't Tell the Trees).mid\n",
      "Error converting midi to sequence 'NoneType' object has no attribute 'open' data/midi/v8/midi_sources/lmd_clean/Robin S/Luv 4 Luv.mid\n",
      "Error converting midi to sequence 'NoneType' object has no attribute 'open' data/midi/v8/midi_sources/lmd_clean/Brooks Garth/The Thunder Rolls.2.mid\n",
      "Error converting midi to sequence 'NoneType' object has no attribute 'open' data/midi/v8/midi_sources/lmd_clean/Roxy Music/Love Is The Drug.mid\n",
      "Error converting midi to sequence 'NoneType' object has no attribute 'open' data/midi/v8/midi_sources/lmd_clean/Jackson Michael/She's Out Of My Life.1.mid\n",
      "Error converting midi to sequence 'NoneType' object has no attribute 'open' data/midi/v8/midi_sources/lmd_clean/Michael Bolton/To Love Somebody.mid\n",
      "Error converting midi to sequence 'NoneType' object has no attribute 'open' data/midi/v8/midi_sources/lmd_clean/The Four Seasons/December '63 (Oh What a Night).3.mid\n",
      "Error converting midi to sequence 'NoneType' object has no attribute 'open' data/midi/v8/midi_sources/lmd_clean/Jackson Michael/Gone Too Soon.mid\n",
      "Error converting midi to sequence 'NoneType' object has no attribute 'open' data/midi/v8/midi_sources/lmd_clean/Jackson Michael/She's Out Of My Life.mid\n",
      "Error converting midi to sequence 'NoneType' object has no attribute 'open' data/midi/v8/midi_sources/lmd_clean/The Dave Clark Five/Glad All Over.mid\n",
      "Error converting midi to sequence 'NoneType' object has no attribute 'open' data/midi/v8/midi_sources/lmd_clean/Jackson Michael/In the Closet.mid\n",
      "Error converting midi to sequence 'NoneType' object has no attribute 'open' data/midi/v8/midi_sources/lmd_clean/Jackson Michael/Liberian Girl.1.mid\n",
      "Error converting midi to sequence 'NoneType' object has no attribute 'open' data/midi/v8/midi_sources/lmd_clean/Jackson Michael/Billy Jean.mid\n",
      "Error converting midi to sequence 'NoneType' object has no attribute 'open' data/midi/v8/midi_sources/lmd_clean/Janis Ian/At Seventeen.mid\n",
      "Error converting midi to sequence 'NoneType' object has no attribute 'open' data/midi/v8/midi_sources/lmd_clean/Jackson Michael/Billie Jean.4.mid\n",
      "Error converting midi to sequence 'NoneType' object has no attribute 'open' data/midi/v8/midi_sources/lmd_clean/Jackson Michael/I Just Can't Stop Loving You.1.mid\n",
      "Error converting midi to sequence 'NoneType' object has no attribute 'open' data/midi/v8/midi_sources/lmd_clean/Jackson Michael/The Lady in My Life.1.mid\n",
      "Error converting midi to sequence 'NoneType' object has no attribute 'open' data/midi/v8/midi_sources/lmd_clean/Jackson Michael/Give In to Me.2.mid\n",
      "Error converting midi to sequence 'NoneType' object has no attribute 'open' data/midi/v8/midi_sources/lmd_clean/Michael Bolton/How Am I Supposed to Live Without You.2.mid\n",
      "Error converting midi to sequence 'NoneType' object has no attribute 'open' data/midi/v8/midi_sources/lmd_clean/Jackson Michael/Bad.1.mid\n",
      "Error converting midi to sequence 'NoneType' object has no attribute 'open' data/midi/v8/midi_sources/lmd_clean/Jackson Michael/Stranger in Moscow.1.mid\n"
     ]
    },
    {
     "name": "stderr",
     "output_type": "stream",
     "text": [
      "midi: WARNING: Conversion error for <MidiEvent None, t=None, track=9, channel=None>: unknown midi event type: None; ignored.\n"
     ]
    },
    {
     "name": "stdout",
     "output_type": "stream",
     "text": [
      "Error converting midi to sequence 'NoneType' object has no attribute 'open' data/midi/v8/midi_sources/lmd_clean/Jackson Michael/Bad.5.mid\n"
     ]
    },
    {
     "name": "stderr",
     "output_type": "stream",
     "text": [
      "midi: WARNING: Conversion error for <MidiEvent None, t=None, track=8, channel=None>: unknown midi event type: None; ignored.\n"
     ]
    },
    {
     "name": "stdout",
     "output_type": "stream",
     "text": [
      "Error converting midi to sequence 'NoneType' object has no attribute 'open' data/midi/v8/midi_sources/lmd_clean/Jackson Michael/Rock With You.2.mid\n",
      "Error converting midi to sequence 'NoneType' object has no attribute 'open' data/midi/v8/midi_sources/lmd_clean/Simon & Garfunkel/The Boxer.1.mid\n",
      "Error converting midi to sequence 'NoneType' object has no attribute 'open' data/midi/v8/midi_sources/lmd_clean/Jackson Michael/Rock With You.1.mid\n"
     ]
    },
    {
     "name": "stderr",
     "output_type": "stream",
     "text": [
      "midi: WARNING: Conversion error for <MidiEvent None, t=None, track=9, channel=None>: unknown midi event type: None; ignored.\n"
     ]
    },
    {
     "name": "stdout",
     "output_type": "stream",
     "text": [
      "Error converting midi to sequence 'NoneType' object has no attribute 'open' data/midi/v8/midi_sources/lmd_clean/The Beatles/Help!.4.mid\n",
      "Error converting midi to sequence 'NoneType' object has no attribute 'open' data/midi/v8/midi_sources/lmd_clean/Jackson Michael/Off the Wall.mid\n",
      "Error converting midi to sequence 'NoneType' object has no attribute 'open' data/midi/v8/midi_sources/lmd_clean/The Beatles/Let It Be.11.mid\n",
      "Error converting midi to sequence 'NoneType' object has no attribute 'open' data/midi/v8/midi_sources/lmd_clean/Simon & Garfunkel/Le Laureat: Mrs. Robinson.mid\n"
     ]
    },
    {
     "name": "stderr",
     "output_type": "stream",
     "text": [
      "midi: WARNING: Conversion error for <MidiEvent None, t=None, track=8, channel=None>: unknown midi event type: None; ignored.\n"
     ]
    },
    {
     "name": "stdout",
     "output_type": "stream",
     "text": [
      "Error converting midi to sequence 'NoneType' object has no attribute 'open' data/midi/v8/midi_sources/lmd_clean/Jackson Michael/Thriller.5.mid\n",
      "Error converting midi to sequence 'NoneType' object has no attribute 'open' data/midi/v8/midi_sources/lmd_clean/Jackson Michael/Thriller.1.mid\n",
      "Error converting midi to sequence 'NoneType' object has no attribute 'open' data/midi/v8/midi_sources/lmd_clean/The Beatles/Please Mister Postman.1.mid\n",
      "Error converting midi to sequence 'NoneType' object has no attribute 'open' data/midi/v8/midi_sources/lmd_clean/Jackson Michael/Bad.8.mid\n",
      "Error converting midi to sequence 'NoneType' object has no attribute 'open' data/midi/v8/midi_sources/lmd_clean/The Beatles/Eleanor Rigby.7.mid\n",
      "Error converting midi to sequence 'NoneType' object has no attribute 'open' data/midi/v8/midi_sources/lmd_clean/Estefan Gloria/Cuba Libre.mid\n",
      "Error converting midi to sequence 'NoneType' object has no attribute 'open' data/midi/v8/midi_sources/lmd_clean/Jackson Michael/Give In to Me.1.mid\n",
      "Error converting midi to sequence 'NoneType' object has no attribute 'open' data/midi/v8/midi_sources/lmd_clean/The Beatles/Hey Jude.3.mid\n",
      "Error converting midi to sequence 'NoneType' object has no attribute 'open' data/midi/v8/midi_sources/lmd_clean/The Beatles/Lady Madonna.3.mid\n",
      "Error converting midi to sequence 'NoneType' object has no attribute 'open' data/midi/v8/midi_sources/lmd_clean/The Beatles/Penny Lane.4.mid\n",
      "Error converting midi to sequence 'NoneType' object has no attribute 'open' data/midi/v8/midi_sources/lmd_clean/The Beatles/With a Little Help From My Friends.2.mid\n",
      "Error converting midi to sequence 'NoneType' object has no attribute 'open' data/midi/v8/midi_sources/lmd_clean/The Beatles/A Hard Day's Night.3.mid\n",
      "Error converting midi to sequence 'NoneType' object has no attribute 'open' data/midi/v8/midi_sources/lmd_clean/The Beatles/Michelle.5.mid\n",
      "Error converting midi to sequence 'NoneType' object has no attribute 'open' data/midi/v8/midi_sources/lmd_clean/The Beatles/Penny Lane.2.mid\n",
      "Error converting midi to sequence 'NoneType' object has no attribute 'open' data/midi/v8/midi_sources/lmd_clean/Jackson Michael/Intro   You Rock My World.mid\n",
      "Error converting midi to sequence 'NoneType' object has no attribute 'open' data/midi/v8/midi_sources/lmd_clean/The Beatles/Hey Jude.5.mid\n",
      "Error converting midi to sequence 'NoneType' object has no attribute 'open' data/midi/v8/midi_sources/lmd_clean/The Beatles/Michelle.2.mid\n",
      "Error converting midi to sequence 'NoneType' object has no attribute 'open' data/midi/v8/midi_sources/lmd_clean/The Beatles/A Hard Day's Night.7.mid\n",
      "Error converting midi to sequence 'NoneType' object has no attribute 'open' data/midi/v8/midi_sources/lmd_clean/The Beatles/Paperback Writer.2.mid\n",
      "Error converting midi to sequence 'NoneType' object has no attribute 'open' data/midi/v8/midi_sources/lmd_clean/The Beatles/Norwegian Wood.3.mid\n",
      "Error converting midi to sequence 'NoneType' object has no attribute 'open' data/midi/v8/midi_sources/lmd_clean/Alan Jackson/Summertime Blues.2.mid\n",
      "Error converting midi to sequence 'NoneType' object has no attribute 'open' data/midi/v8/midi_sources/lmd_clean/The Beatles/Something.1.mid\n",
      "Error converting midi to sequence 'NoneType' object has no attribute 'open' data/midi/v8/midi_sources/lmd_clean/Alan Jackson/Tall, Tall Trees.1.mid\n",
      "Error converting midi to sequence 'NoneType' object has no attribute 'open' data/midi/v8/midi_sources/lmd_clean/The Temptations/My Girl.2.mid\n",
      "Error converting midi to sequence 'NoneType' object has no attribute 'open' data/midi/v8/midi_sources/lmd_clean/Van Halen/Ice Cream Man.mid\n",
      "Error converting midi to sequence 'NoneType' object has no attribute 'open' data/midi/v8/midi_sources/lmd_clean/Alan Jackson/I Don't Even Know Your Name.mid\n",
      "Error converting midi to sequence 'NoneType' object has no attribute 'open' data/midi/v8/midi_sources/lmd_clean/Collins Phil/One More Night.4.mid\n",
      "Error converting midi to sequence 'NoneType' object has no attribute 'open' data/midi/v8/midi_sources/lmd_clean/Collins Phil/Against All Odds.5.mid\n",
      "Error converting midi to sequence 'NoneType' object has no attribute 'open' data/midi/v8/midi_sources/lmd_clean/Collins Phil/Don't Lose My Number.1.mid\n",
      "Error converting midi to sequence 'NoneType' object has no attribute 'open' data/midi/v8/midi_sources/lmd_clean/Collins Phil/Another Day in Paradise.5.mid\n",
      "Error converting midi to sequence 'NoneType' object has no attribute 'open' data/midi/v8/midi_sources/lmd_clean/Collins Phil/One More Night.1.mid\n",
      "Error converting midi to sequence 'NoneType' object has no attribute 'open' data/midi/v8/midi_sources/lmd_clean/Collins Phil/Every Day.1.mid\n",
      "Error converting midi to sequence 'NoneType' object has no attribute 'open' data/midi/v8/midi_sources/lmd_clean/Collins Phil/One More Night.2.mid\n",
      "Error converting midi to sequence 'NoneType' object has no attribute 'open' data/midi/v8/midi_sources/lmd_clean/Mariah Carey/Butterfly.2.mid\n",
      "Error converting midi to sequence 'NoneType' object has no attribute 'open' data/midi/v8/midi_sources/lmd_clean/Collins Phil/Dance Into the Night.mid\n",
      "Error converting midi to sequence 'NoneType' object has no attribute 'open' data/midi/v8/midi_sources/lmd_clean/Zhi-Vago/Celebrate (The Love).mid\n",
      "Error converting midi to sequence 'NoneType' object has no attribute 'open' data/midi/v8/midi_sources/lmd_clean/Collins Phil/Every Day.mid\n",
      "Error converting midi to sequence 'NoneType' object has no attribute 'open' data/midi/v8/midi_sources/lmd_clean/Bryan Adams/Every Thing I Do It for You (Robin Hood).mid\n",
      "Error converting midi to sequence 'NoneType' object has no attribute 'open' data/midi/v8/midi_sources/lmd_clean/Mariah Carey/Thank God I Found You.mid\n",
      "Error converting midi to sequence 'NoneType' object has no attribute 'open' data/midi/v8/midi_sources/lmd_clean/Crow Sheryl/All I Wanna Do.4.mid\n",
      "Error converting midi to sequence 'NoneType' object has no attribute 'open' data/midi/v8/midi_sources/lmd_clean/Mariah Carey/Someday.1.mid\n",
      "Error converting midi to sequence 'NoneType' object has no attribute 'open' data/midi/v8/midi_sources/lmd_clean/Crosby, Stills, Nash & Young/Ohio.mid\n",
      "Error converting midi to sequence 'NoneType' object has no attribute 'open' data/midi/v8/midi_sources/lmd_clean/Bryan Adams/(Everything I Do) I Do It For You.5.mid\n",
      "Error converting midi to sequence 'NoneType' object has no attribute 'open' data/midi/v8/midi_sources/lmd_clean/Bryan Adams/All for Love.mid\n",
      "Error converting midi to sequence 'NoneType' object has no attribute 'open' data/midi/v8/midi_sources/lmd_clean/Jean Michel Jarre/Calypso.mid\n",
      "Error converting midi to sequence 'NoneType' object has no attribute 'open' data/midi/v8/midi_sources/lmd_clean/Bryan Adams/All for One, All for Love.mid\n",
      "Error converting midi to sequence 'NoneType' object has no attribute 'open' data/midi/v8/midi_sources/lmd_clean/Mariah Carey/Fantasy.2.mid\n",
      "Error converting midi to sequence 'NoneType' object has no attribute 'open' data/midi/v8/midi_sources/lmd_clean/Herman's Hermits/No Milk Today.mid\n",
      "Error converting midi to sequence 'NoneType' object has no attribute 'open' data/midi/v8/midi_sources/lmd_clean/Chaka Demus/Twist and Shout.1.mid\n",
      "Error converting midi to sequence 'NoneType' object has no attribute 'open' data/midi/v8/midi_sources/lmd_clean/John Fogerty/Centerfield.mid\n",
      "Error converting midi to sequence 'NoneType' object has no attribute 'open' data/midi/v8/midi_sources/lmd_clean/Bryan Adams/Can't Stop This Thing We Started.2.mid\n",
      "Error converting midi to sequence 'NoneType' object has no attribute 'open' data/midi/v8/midi_sources/lmd_clean/Jobim Antonio Carlos/Wave.mid\n",
      "Error converting midi to sequence 'NoneType' object has no attribute 'open' data/midi/v8/midi_sources/lmd_clean/Bryan Adams/Have Ever You Really Loved a Woman?.4.mid\n",
      "Error converting midi to sequence 'NoneType' object has no attribute 'open' data/midi/v8/midi_sources/lmd_clean/Chris Andrews/Yesterday Man.1.mid\n",
      "Error converting midi to sequence 'NoneType' object has no attribute 'open' data/midi/v8/midi_sources/lmd_clean/Ludwig van Beethoven/Fur Elise.2.mid\n",
      "Error converting midi to sequence 'NoneType' object has no attribute 'open' data/midi/v8/midi_sources/lmd_clean/Sinatra/Strangers in the Night.2.mid\n"
     ]
    },
    {
     "name": "stdout",
     "output_type": "stream",
     "text": [
      "Error converting midi to sequence 'NoneType' object has no attribute 'open' data/midi/v8/midi_sources/lmd_clean/Johnny Logan/What's Another Year.mid\n",
      "Error converting midi to sequence 'NoneType' object has no attribute 'open' data/midi/v8/midi_sources/lmd_clean/Romina Power Al Bano/Felicita.mid\n",
      "Error converting midi to sequence 'NoneType' object has no attribute 'open' data/midi/v8/midi_sources/lmd_clean/Steppenwolf/Born To Be Wild.3.mid\n",
      "Error converting midi to sequence 'NoneType' object has no attribute 'open' data/midi/v8/midi_sources/lmd_clean/Don Johnson/Tell It Like It Is.mid\n",
      "Error converting midi to sequence 'NoneType' object has no attribute 'open' data/midi/v8/midi_sources/lmd_clean/ARMSTRONG LOUIS/(What a) Wonderful World.mid\n",
      "Error converting midi to sequence 'NoneType' object has no attribute 'open' data/midi/v8/midi_sources/lmd_clean/The Everly Brothers/All I Have to Do Is Dream.1.mid\n",
      "Error converting midi to sequence 'NoneType' object has no attribute 'open' data/midi/v8/midi_sources/lmd_clean/Marc Almond/Something's Gotten Hold of My Heart.mid\n",
      "Error converting midi to sequence 'NoneType' object has no attribute 'open' data/midi/v8/midi_sources/lmd_clean/Tina Turner/Private Dancer.2.mid\n",
      "Error converting midi to sequence 'NoneType' object has no attribute 'open' data/midi/v8/midi_sources/lmd_clean/Tina Turner/What's Love Got To Do With It.1.mid\n",
      "Error converting midi to sequence 'NoneType' object has no attribute 'open' data/midi/v8/midi_sources/lmd_clean/Guns N' Roses/Knockin' on Heaven Door.mid\n",
      "Error converting midi to sequence 'NoneType' object has no attribute 'open' data/midi/v8/midi_sources/lmd_clean/Brunner & Brunner/Schenk' mir diese eine Nacht.1.mid\n",
      "Error converting midi to sequence 'NoneType' object has no attribute 'open' data/midi/v8/midi_sources/lmd_clean/Bob Dylan/Blowin' in the Wind.mid\n",
      "Error converting midi to sequence 'NoneType' object has no attribute 'open' data/midi/v8/midi_sources/lmd_clean/Ricky Nelson/Hello Mary Lou.mid\n",
      "Error converting midi to sequence 'NoneType' object has no attribute 'open' data/midi/v8/midi_sources/lmd_clean/Queen/You're My Best Friend.mid\n",
      "Error converting midi to sequence 'NoneType' object has no attribute 'open' data/midi/v8/midi_sources/lmd_clean/Brunner & Brunner/Shananana (lass' uns leben).mid\n",
      "Error converting midi to sequence 'NoneType' object has no attribute 'open' data/midi/v8/midi_sources/lmd_clean/Powell Bud/I Want to Be Happy.mid\n",
      "Error converting midi to sequence 'NoneType' object has no attribute 'open' data/midi/v8/midi_sources/lmd_clean/The Everly Brothers/Bye Bye Love.1.mid\n",
      "Error converting midi to sequence 'NoneType' object has no attribute 'open' data/midi/v8/midi_sources/lmd_clean/Ramazzotti/Fuoco nel fuoco.mid\n",
      "Error converting midi to sequence 'NoneType' object has no attribute 'open' data/midi/v8/midi_sources/lmd_clean/Ricky Nelson/Hello Mary Lou.2.mid\n",
      "Error converting midi to sequence 'NoneType' object has no attribute 'open' data/midi/v8/midi_sources/lmd_clean/Croce Jim/Bad Bad Leroy Brown.mid\n",
      "Error converting midi to sequence 'NoneType' object has no attribute 'open' data/midi/v8/midi_sources/lmd_clean/Queen/Friends Will Be Friends.4.mid\n"
     ]
    },
    {
     "name": "stderr",
     "output_type": "stream",
     "text": [
      "midi: WARNING: Conversion error for <MidiEvent None, t=None, track=11, channel=None>: unknown midi event type: None; ignored.\n"
     ]
    },
    {
     "name": "stdout",
     "output_type": "stream",
     "text": [
      "Error converting midi to sequence 'NoneType' object has no attribute 'open' data/midi/v8/midi_sources/lmd_clean/Patsy Cline/Sweet Dreams.mid\n",
      "Error converting midi to sequence 'NoneType' object has no attribute 'open' data/midi/v8/midi_sources/lmd_clean/Queen/Play the Game.mid\n",
      "Error converting midi to sequence 'NoneType' object has no attribute 'open' data/midi/v8/midi_sources/lmd_clean/Queen/Somebody to Love.6.mid\n",
      "Error converting midi to sequence 'NoneType' object has no attribute 'open' data/midi/v8/midi_sources/lmd_clean/Queen/Mother Love.mid\n",
      "Error converting midi to sequence 'NoneType' object has no attribute 'open' data/midi/v8/midi_sources/lmd_clean/Queen/Seven Seas of Rhye.1.mid\n",
      "Error converting midi to sequence 'NoneType' object has no attribute 'open' data/midi/v8/midi_sources/lmd_clean/Boston/More Than A Feeling.1.mid\n",
      "Error converting midi to sequence 'NoneType' object has no attribute 'open' data/midi/v8/midi_sources/lmd_clean/Queen/These Are the Days of Our Lives.1.mid\n",
      "Error converting midi to sequence 'NoneType' object has no attribute 'open' data/midi/v8/midi_sources/lmd_clean/Bobby Bare/Detroit City.mid\n",
      "Error converting midi to sequence 'NoneType' object has no attribute 'open' data/midi/v8/midi_sources/lmd_clean/Patsy Cline/Just Out Of Reach (Of My Two Open Arms).mid\n",
      "Error converting midi to sequence 'NoneType' object has no attribute 'open' data/midi/v8/midi_sources/lmd_clean/Queen/Crazy Little Thing Called Love.2.mid\n",
      "Error converting midi to sequence 'NoneType' object has no attribute 'open' data/midi/v8/midi_sources/lmd_clean/Queen/I'm Going Slightly Mad.3.mid\n"
     ]
    },
    {
     "name": "stderr",
     "output_type": "stream",
     "text": [
      "midi: WARNING: Conversion error for <MidiEvent None, t=None, track=11, channel=None>: unknown midi event type: None; ignored.\n"
     ]
    },
    {
     "name": "stdout",
     "output_type": "stream",
     "text": [
      "Error converting midi to sequence 'NoneType' object has no attribute 'open' data/midi/v8/midi_sources/lmd_clean/Cher/Shoop Shoop Song.2.mid\n"
     ]
    },
    {
     "name": "stderr",
     "output_type": "stream",
     "text": [
      "midi: WARNING: Conversion error for <MidiEvent None, t=None, track=9, channel=None>: unknown midi event type: None; ignored.\n"
     ]
    },
    {
     "name": "stdout",
     "output_type": "stream",
     "text": [
      "Error converting midi to sequence 'NoneType' object has no attribute 'open' data/midi/v8/midi_sources/lmd_clean/Queen/Crazy Little Thing Called Love.mid\n",
      "Error converting midi to sequence 'NoneType' object has no attribute 'open' data/midi/v8/midi_sources/lmd_clean/Queen/Radio Ga Ga.6.mid\n",
      "Error converting midi to sequence 'NoneType' object has no attribute 'open' data/midi/v8/midi_sources/lmd_clean/Ellington/It Don't Mean a Thing.1.mid\n",
      "Error converting midi to sequence 'NoneType' object has no attribute 'open' data/midi/v8/midi_sources/lmd_clean/Schilling, Peter/Major Tom.2.mid\n",
      "Error converting midi to sequence 'NoneType' object has no attribute 'open' data/midi/v8/midi_sources/lmd_clean/Queen/Radio Ga Ga.7.mid\n",
      "Error converting midi to sequence 'NoneType' object has no attribute 'open' data/midi/v8/midi_sources/lmd_clean/McCartney/Pipes of Peace.mid\n",
      "Error converting midi to sequence 'NoneType' object has no attribute 'open' data/midi/v8/midi_sources/lmd_clean/Last/Rosamunde.1.mid\n",
      "Error converting midi to sequence 'NoneType' object has no attribute 'open' data/midi/v8/midi_sources/lmd_clean/McCartney/Biker Like an Icon.mid\n",
      "Error converting midi to sequence 'NoneType' object has no attribute 'open' data/midi/v8/midi_sources/lmd_clean/The Beach Boys/In My Room.mid\n",
      "Error converting midi to sequence 'NoneType' object has no attribute 'open' data/midi/v8/midi_sources/lmd_clean/The Beach Boys/Wipe Out.2.mid\n",
      "Error converting midi to sequence 'NoneType' object has no attribute 'open' data/midi/v8/midi_sources/lmd_clean/Zhane/Hey Mr D.J..mid\n",
      "Error converting midi to sequence 'NoneType' object has no attribute 'open' data/midi/v8/midi_sources/lmd_clean/Eagles/Hotel California.8.mid\n",
      "Error converting midi to sequence 'NoneType' object has no attribute 'open' data/midi/v8/midi_sources/lmd_clean/The Beach Boys/Good Vibrations.6.mid\n",
      "Error converting midi to sequence 'NoneType' object has no attribute 'open' data/midi/v8/midi_sources/lmd_clean/The Beach Boys/I Get Around.2.mid\n",
      "Error converting midi to sequence 'NoneType' object has no attribute 'open' data/midi/v8/midi_sources/lmd_clean/Antonello Venditti/Amici mai.3.mid\n",
      "Error converting midi to sequence 'NoneType' object has no attribute 'open' data/midi/v8/midi_sources/lmd_clean/Eagles/Hotel California.5.mid\n",
      "Error converting midi to sequence 'NoneType' object has no attribute 'open' data/midi/v8/midi_sources/lmd_clean/Pink Floyd/Wish You Were Here.3.mid\n",
      "Error converting midi to sequence 'NoneType' object has no attribute 'open' data/midi/v8/midi_sources/lmd_clean/Pink Floyd/Outside the Wall.2.mid\n",
      "Error converting midi to sequence 'NoneType' object has no attribute 'open' data/midi/v8/midi_sources/lmd_clean/Antonello Venditti/Benvenuti in paradiso.2.mid\n"
     ]
    },
    {
     "name": "stderr",
     "output_type": "stream",
     "text": [
      "midi: WARNING: Conversion error for <MidiEvent None, t=None, track=13, channel=None>: unknown midi event type: None; ignored.\n",
      "midi: WARNING: Conversion error for <MidiEvent None, t=None, track=13, channel=None>: unknown midi event type: None; ignored.\n"
     ]
    },
    {
     "name": "stdout",
     "output_type": "stream",
     "text": [
      "Error converting midi to sequence 'NoneType' object has no attribute 'open' data/midi/v8/midi_sources/lmd_clean/Mosch/Egerland Heimatland.1.mid\n",
      "Error converting midi to sequence 'NoneType' object has no attribute 'open' data/midi/v8/midi_sources/lmd_clean/Antonello Venditti/Giulio Cesare.mid\n",
      "Error converting midi to sequence 'NoneType' object has no attribute 'open' data/midi/v8/midi_sources/lmd_clean/Ultravox/Vienna.mid\n",
      "Error converting midi to sequence 'NoneType' object has no attribute 'open' data/midi/v8/midi_sources/lmd_clean/Michel Delpech/Pour un Flirt.mid\n",
      "Error converting midi to sequence 'NoneType' object has no attribute 'open' data/midi/v8/midi_sources/lmd_clean/Cyndi Lauper/I Drove All Night.mid\n",
      "Error converting midi to sequence 'NoneType' object has no attribute 'open' data/midi/v8/midi_sources/lmd_clean/Big Mr./Nothing but Love.mid\n",
      "Error converting midi to sequence 'NoneType' object has no attribute 'open' data/midi/v8/midi_sources/lmd_clean/Stevens Shakin /You Drive Me Crazy.1.mid\n",
      "Error converting midi to sequence 'NoneType' object has no attribute 'open' data/midi/v8/midi_sources/lmd_clean/Stevens Shakin /You Drive Me Crazy.2.mid\n",
      "Error converting midi to sequence 'NoneType' object has no attribute 'open' data/midi/v8/midi_sources/lmd_clean/Gilbert O'Sullivan/Get Down.mid\n",
      "Error converting midi to sequence 'NoneType' object has no attribute 'open' data/midi/v8/midi_sources/lmd_clean/Eric Clapton/Wonderful Tonight.mid\n",
      "Error converting midi to sequence 'NoneType' object has no attribute 'open' data/midi/v8/midi_sources/lmd_clean/Antonello Venditti/L'ottimista.mid\n",
      "Error converting midi to sequence 'NoneType' object has no attribute 'open' data/midi/v8/midi_sources/lmd_clean/Antonello Venditti/Campo de' fiori.mid\n",
      "Error converting midi to sequence 'NoneType' object has no attribute 'open' data/midi/v8/midi_sources/lmd_clean/Gilbert O'Sullivan/Clair.3.mid\n",
      "Error converting midi to sequence 'NoneType' object has no attribute 'open' data/midi/v8/midi_sources/lmd_clean/Eric Clapton/Tears in Heaven.3.mid\n",
      "Error converting midi to sequence 'NoneType' object has no attribute 'open' data/midi/v8/midi_sources/lmd_clean/Eric Clapton/Wonderful Tonight.7.mid\n",
      "Error converting midi to sequence 'NoneType' object has no attribute 'open' data/midi/v8/midi_sources/lmd_clean/Eric Clapton/Tears in Heaven.2.mid\n",
      "Error converting midi to sequence 'NoneType' object has no attribute 'open' data/midi/v8/midi_sources/lmd_clean/Eric Clapton/Cocaine.2.mid\n",
      "Error converting midi to sequence 'NoneType' object has no attribute 'open' data/midi/v8/midi_sources/lmd_clean/Eric Clapton/Wonderful Tonight.3.mid\n",
      "Error converting midi to sequence 'NoneType' object has no attribute 'open' data/midi/v8/midi_sources/lmd_clean/Pink Floyd/Money.5.mid\n",
      "Error converting midi to sequence 'NoneType' object has no attribute 'open' data/midi/v8/midi_sources/lmd_clean/Eric Clapton/I Shot the Sheriff.2.mid\n",
      "Error converting midi to sequence 'NoneType' object has no attribute 'open' data/midi/v8/midi_sources/lmd_clean/Meat Loaf/Rock and Roll Dreams Come Through.mid\n",
      "Error converting midi to sequence 'NoneType' object has no attribute 'open' data/midi/v8/midi_sources/lmd_clean/Eric Clapton/White Room.1.mid\n",
      "Error converting midi to sequence 'NoneType' object has no attribute 'open' data/midi/v8/midi_sources/lmd_clean/Eric Clapton/Let It Grow.mid\n",
      "Error converting midi to sequence 'NoneType' object has no attribute 'open' data/midi/v8/midi_sources/lmd_clean/Eric Clapton/Bad Love.5.mid\n",
      "Error converting midi to sequence 'NoneType' object has no attribute 'open' data/midi/v8/midi_sources/lmd_clean/Gary Moore/Walking by Myself.1.mid\n",
      "Error converting midi to sequence 'NoneType' object has no attribute 'open' data/midi/v8/midi_sources/lmd_clean/Jeff/Summertime.mid\n",
      "Error converting midi to sequence 'NoneType' object has no attribute 'open' data/midi/v8/midi_sources/lmd_clean/Eric Clapton/Sunshine of Your Love.mid\n",
      "Error converting midi to sequence 'NoneType' object has no attribute 'open' data/midi/v8/midi_sources/lmd_clean/Eric Clapton/Let It Grow.1.mid\n",
      "Error converting midi to sequence 'NoneType' object has no attribute 'open' data/midi/v8/midi_sources/lmd_clean/Gloria Gaynor/I Will Survive.1.mid\n",
      "Error converting midi to sequence 'NoneType' object has no attribute 'open' data/midi/v8/midi_sources/lmd_clean/Pat Boone/Remember You're Mine.mid\n",
      "Error converting midi to sequence 'NoneType' object has no attribute 'open' data/midi/v8/midi_sources/lmd_clean/Nelly/Country Grammar (Hot ...).mid\n",
      "Error converting midi to sequence 'NoneType' object has no attribute 'open' data/midi/v8/midi_sources/lmd_clean/Puff Daddy/Been Around the World.1.mid\n",
      "Error converting midi to sequence 'NoneType' object has no attribute 'open' data/midi/v8/midi_sources/lmd_clean/Player/Baby Come Back.mid\n",
      "Error converting midi to sequence 'NoneType' object has no attribute 'open' data/midi/v8/midi_sources/lmd_clean/Outcasts/Hang on Sloopy.mid\n",
      "Error converting midi to sequence 'NoneType' object has no attribute 'open' data/midi/v8/midi_sources/lmd_clean/Britney Spears/Where Are You Now.mid\n",
      "Error converting midi to sequence 'NoneType' object has no attribute 'open' data/midi/v8/midi_sources/lmd_clean/Midnight Oil/Beds Are Burning.mid\n",
      "Error converting midi to sequence 'NoneType' object has no attribute 'open' data/midi/v8/midi_sources/lmd_clean/Prince Ital Joe/United.mid\n",
      "Error converting midi to sequence 'NoneType' object has no attribute 'open' data/midi/v8/midi_sources/lmd_clean/Sylvester/You Make Me Feel (Mighty Real).1.mid\n",
      "Error converting midi to sequence 'NoneType' object has no attribute 'open' data/midi/v8/midi_sources/lmd_clean/883/Un giorno cosi.mid\n",
      "Error converting midi to sequence 'NoneType' object has no attribute 'open' data/midi/v8/midi_sources/lmd_clean/883/La regola dell'amico.mid\n",
      "Error converting midi to sequence 'NoneType' object has no attribute 'open' data/midi/v8/midi_sources/lmd_clean/Vanilla Ice/Ice Ice Baby.mid\n",
      "Error converting midi to sequence 'NoneType' object has no attribute 'open' data/midi/v8/midi_sources/lmd_clean/Jennifer Warnes/(I've Had) The Time of My Life.1.mid\n",
      "Error converting midi to sequence 'NoneType' object has no attribute 'open' data/midi/v8/midi_sources/lmd_clean/Leo Sayer/The Show Must Go On.mid\n",
      "Error converting midi to sequence 'NoneType' object has no attribute 'open' data/midi/v8/midi_sources/lmd_clean/Meat Loaf/Bat Out of Hell.3.mid\n",
      "Error converting midi to sequence 'NoneType' object has no attribute 'open' data/midi/v8/midi_sources/lmd_clean/Britney Spears/Overprotected.mid\n",
      "Error converting midi to sequence 'NoneType' object has no attribute 'open' data/midi/v8/midi_sources/lmd_clean/Xscape/Just Kickin' It.mid\n",
      "Error converting midi to sequence 'NoneType' object has no attribute 'open' data/midi/v8/midi_sources/lmd_clean/Madonna/Rain.1.mid\n",
      "Error converting midi to sequence 'NoneType' object has no attribute 'open' data/midi/v8/midi_sources/lmd_clean/Britney Spears/Like a Virgin   Hollywood Medley (2003: MTV Video Music Awards).mid\n",
      "Error converting midi to sequence 'NoneType' object has no attribute 'open' data/midi/v8/midi_sources/lmd_clean/Madonna/Don't Cry for Me Argentina.4.mid\n",
      "Error converting midi to sequence 'NoneType' object has no attribute 'open' data/midi/v8/midi_sources/lmd_clean/Madonna/Fever.mid\n",
      "Error converting midi to sequence 'NoneType' object has no attribute 'open' data/midi/v8/midi_sources/lmd_clean/Antonello Venditti/Bomba o non bomba.mid\n",
      "Error converting midi to sequence 'NoneType' object has no attribute 'open' data/midi/v8/midi_sources/lmd_clean/Prince/Papa.mid\n",
      "Error converting midi to sequence 'NoneType' object has no attribute 'open' data/midi/v8/midi_sources/lmd_clean/Madonna/Rain.mid\n",
      "Error converting midi to sequence 'NoneType' object has no attribute 'open' data/midi/v8/midi_sources/lmd_clean/Prince/Nothing Compares 2 U.1.mid\n",
      "Error converting midi to sequence 'NoneType' object has no attribute 'open' data/midi/v8/midi_sources/lmd_clean/Madonna/Hollywood (remix).mid\n",
      "Error converting midi to sequence 'NoneType' object has no attribute 'open' data/midi/v8/midi_sources/lmd_clean/Billy Joel/Just the Way You Are.5.mid\n",
      "Error converting midi to sequence 'NoneType' object has no attribute 'open' data/midi/v8/midi_sources/lmd_clean/Prince/Diamonds & Pearls.2.mid\n"
     ]
    },
    {
     "name": "stdout",
     "output_type": "stream",
     "text": [
      "Error converting midi to sequence 'NoneType' object has no attribute 'open' data/midi/v8/midi_sources/lmd_clean/Prince/Diamonds & Pearls.mid\n",
      "Error converting midi to sequence 'NoneType' object has no attribute 'open' data/midi/v8/midi_sources/lmd_clean/Prince/When Doves Cry.3.mid\n",
      "Error converting midi to sequence 'NoneType' object has no attribute 'open' data/midi/v8/midi_sources/lmd_clean/Madonna/Secret.4.mid\n",
      "Error converting midi to sequence 'NoneType' object has no attribute 'open' data/midi/v8/midi_sources/lmd_clean/Madonna/Rescue Me.2.mid\n",
      "Error converting midi to sequence 'NoneType' object has no attribute 'open' data/midi/v8/midi_sources/lmd_clean/Prince/U Got the Look.1.mid\n",
      "Error converting midi to sequence 'NoneType' object has no attribute 'open' data/midi/v8/midi_sources/lmd_clean/Madonna/Rain.2.mid\n",
      "Error converting midi to sequence 'NoneType' object has no attribute 'open' data/midi/v8/midi_sources/lmd_clean/Prince/Diamonds & Pearls.1.mid\n",
      "Error converting midi to sequence 'NoneType' object has no attribute 'open' data/midi/v8/midi_sources/lmd_clean/Prince/Nothing Compares 2 U.mid\n",
      "Error converting midi to sequence 'NoneType' object has no attribute 'open' data/midi/v8/midi_sources/lmd_clean/Madonna/Express Yourself.6.mid\n",
      "Error converting midi to sequence 'NoneType' object has no attribute 'open' data/midi/v8/midi_sources/lmd_clean/Prince/1999.1.mid\n",
      "Error converting midi to sequence 'NoneType' object has no attribute 'open' data/midi/v8/midi_sources/lmd_clean/Madonna/Into the Groove.1.mid\n",
      "Error converting midi to sequence 'NoneType' object has no attribute 'open' data/midi/v8/midi_sources/lmd_clean/Prince/Cream.3.mid\n",
      "Error converting midi to sequence 'NoneType' object has no attribute 'open' data/midi/v8/midi_sources/lmd_clean/Prince/Little Red Corvette.1.mid\n",
      "Error converting midi to sequence 'NoneType' object has no attribute 'open' data/midi/v8/midi_sources/lmd_clean/Madonna/The Power Of Goodbye.mid\n",
      "Error converting midi to sequence 'NoneType' object has no attribute 'open' data/midi/v8/midi_sources/lmd_clean/Prince/Raspberry Beret.4.mid\n",
      "Error converting midi to sequence 'NoneType' object has no attribute 'open' data/midi/v8/midi_sources/lmd_clean/Madonna/Borderline.4.mid\n",
      "Error converting midi to sequence 'NoneType' object has no attribute 'open' data/midi/v8/midi_sources/lmd_clean/Madonna/Bad Girl.1.mid\n",
      "Error converting midi to sequence 'NoneType' object has no attribute 'open' data/midi/v8/midi_sources/lmd_clean/Prince/Kiss Kiss.4.mid\n",
      "Error converting midi to sequence 'NoneType' object has no attribute 'open' data/midi/v8/midi_sources/lmd_clean/Prince/Raspberry Beret.1.mid\n",
      "Error converting midi to sequence 'NoneType' object has no attribute 'open' data/midi/v8/midi_sources/lmd_clean/Prince/Little Red Corvette.2.mid\n",
      "Error converting midi to sequence 'NoneType' object has no attribute 'open' data/midi/v8/midi_sources/lmd_clean/Prince/1999.4.mid\n",
      "Error converting midi to sequence 'NoneType' object has no attribute 'open' data/midi/v8/midi_sources/lmd_clean/Madonna/Express Yourself.5.mid\n",
      "Error converting midi to sequence 'NoneType' object has no attribute 'open' data/midi/v8/midi_sources/lmd_clean/Four Tops/Loco in Acapulco.1.mid\n",
      "Error converting midi to sequence 'NoneType' object has no attribute 'open' data/midi/v8/midi_sources/lmd_clean/Prince/Cream.mid\n",
      "Error converting midi to sequence 'NoneType' object has no attribute 'open' data/midi/v8/midi_sources/lmd_clean/Prince/Little Red Corvette.mid\n",
      "Error converting midi to sequence 'NoneType' object has no attribute 'open' data/midi/v8/midi_sources/lmd_clean/Yes/Shoot High Aim Low.mid\n",
      "Error converting midi to sequence 'NoneType' object has no attribute 'open' data/midi/v8/midi_sources/lmd_clean/Yes/I'm Running.1.mid\n",
      "Error converting midi to sequence 'NoneType' object has no attribute 'open' data/midi/v8/midi_sources/lmd_clean/Yes/Love Will Find a Way.mid\n",
      "Error converting midi to sequence 'NoneType' object has no attribute 'open' data/midi/v8/midi_sources/lmd_clean/Miller/In the Mood.2.mid\n",
      "Error converting midi to sequence 'NoneType' object has no attribute 'open' data/midi/v8/midi_sources/lmd_clean/Yes/Almost Like Love.1.mid\n",
      "Error converting midi to sequence 'NoneType' object has no attribute 'open' data/midi/v8/midi_sources/lmd_clean/Nirvana/Lithium.6.mid\n",
      "Error converting midi to sequence 'NoneType' object has no attribute 'open' data/midi/v8/midi_sources/lmd_clean/Nirvana/Heart-Shaped Box.7.mid\n",
      "Error converting midi to sequence 'NoneType' object has no attribute 'open' data/midi/v8/midi_sources/lmd_clean/Humperdinck Engelbert/The Spanish Night Is Over.mid\n",
      "Error converting midi to sequence 'NoneType' object has no attribute 'open' data/midi/v8/midi_sources/lmd_clean/Fiorella Mannoia/L'altra madre.mid\n",
      "Error converting midi to sequence 'NoneType' object has no attribute 'open' data/midi/v8/midi_sources/lmd_clean/La Bouche/Sweet Dreams.1.mid\n",
      "Error converting midi to sequence 'NoneType' object has no attribute 'open' data/midi/v8/midi_sources/lmd_clean/Andre Moss/Rosita.mid\n",
      "Error converting midi to sequence 'NoneType' object has no attribute 'open' data/midi/v8/midi_sources/lmd_clean/Supertramp/Dreamer.3.mid\n",
      "Error converting midi to sequence 'NoneType' object has no attribute 'open' data/midi/v8/midi_sources/lmd_clean/Michael George/Fastlove.mid\n",
      "Error converting midi to sequence 'NoneType' object has no attribute 'open' data/midi/v8/midi_sources/lmd_clean/La Bouche/Be My Lover.mid\n",
      "Error converting midi to sequence 'NoneType' object has no attribute 'open' data/midi/v8/midi_sources/lmd_clean/Sauter-Finegan Orchestra/A Foggy Day.mid\n"
     ]
    },
    {
     "name": "stderr",
     "output_type": "stream",
     "text": [
      "midi: WARNING: Conversion error for <MidiEvent None, t=None, track=10, channel=None>: unknown midi event type: None; ignored.\n"
     ]
    },
    {
     "name": "stdout",
     "output_type": "stream",
     "text": [
      "Error converting midi to sequence 'NoneType' object has no attribute 'open' data/midi/v8/midi_sources/lmd_clean/Bach Johann Sebastian/Air On The G String.1.mid\n",
      "Error converting midi to sequence 'NoneType' object has no attribute 'open' data/midi/v8/midi_sources/lmd_clean/Paul Desmond/Was A Sunny Day.mid\n",
      "Error converting midi to sequence 'NoneType' object has no attribute 'open' data/midi/v8/midi_sources/lmd_clean/Mark Snow/The X-Files.mid\n",
      "Error converting midi to sequence 'NoneType' object has no attribute 'open' data/midi/v8/midi_sources/lmd_clean/Bach Johann Sebastian/Jesus bleibet meine Freude (Herz und Mund und Tat und Leben BWV. 147).1.mid\n",
      "Error converting midi to sequence 'NoneType' object has no attribute 'open' data/midi/v8/midi_sources/lmd_clean/Supertramp/Free as a Bird.mid\n",
      "Error converting midi to sequence 'NoneType' object has no attribute 'open' data/midi/v8/midi_sources/lmd_clean/Power Tools/Unchained Melody.mid\n"
     ]
    },
    {
     "name": "stderr",
     "output_type": "stream",
     "text": [
      "midi: WARNING: Conversion error for <MidiEvent None, t=None, track=9, channel=None>: unknown midi event type: None; ignored.\n"
     ]
    },
    {
     "name": "stdout",
     "output_type": "stream",
     "text": [
      "Error converting midi to sequence 'NoneType' object has no attribute 'open' data/midi/v8/midi_sources/lmd_clean/White Barry/Can't Get Enough of Your Love, Babe.1.mid\n",
      "Error converting midi to sequence 'NoneType' object has no attribute 'open' data/midi/v8/midi_sources/lmd_clean/Captain Hollywood Project/Impossible.mid\n",
      "Error converting midi to sequence 'NoneType' object has no attribute 'open' data/midi/v8/midi_sources/lmd_clean/DMX/Party Up.mid\n",
      "Error converting midi to sequence 'NoneType' object has no attribute 'open' data/midi/v8/midi_sources/lmd_clean/Gilbert Becaud/Et maintenant.1.mid\n"
     ]
    },
    {
     "name": "stderr",
     "output_type": "stream",
     "text": [
      "midi: WARNING: Conversion error for <MidiEvent None, t=None, track=6, channel=None>: unknown midi event type: None; ignored.\n"
     ]
    },
    {
     "name": "stdout",
     "output_type": "stream",
     "text": [
      "Error converting midi to sequence 'NoneType' object has no attribute 'open' data/midi/v8/midi_sources/lmd_clean/Sugar Ray/Every Morning.mid\n",
      "Error converting midi to sequence 'NoneType' object has no attribute 'open' data/midi/v8/midi_sources/lmd_clean/Elvis Presley/Blue Suede Shoes.3.mid\n",
      "Error converting midi to sequence 'NoneType' object has no attribute 'open' data/midi/v8/midi_sources/lmd_clean/Elvis Presley/Jailhouse Rock.4.mid\n",
      "Error converting midi to sequence 'NoneType' object has no attribute 'open' data/midi/v8/midi_sources/lmd_clean/Elvis Presley/I Just Can't Help Believing.1.mid\n",
      "Error converting midi to sequence 'NoneType' object has no attribute 'open' data/midi/v8/midi_sources/lmd_clean/Summer Donna/Hot Stuff.mid\n",
      "Error converting midi to sequence 'NoneType' object has no attribute 'open' data/midi/v8/midi_sources/lmd_clean/Bernhard Brink/Ich Glaub' Dir Jede Luge.mid\n",
      "Error converting midi to sequence 'NoneType' object has no attribute 'open' data/midi/v8/midi_sources/lmd_clean/The Rolling Stones/Lady Jane.2.mid\n",
      "Error converting midi to sequence 'NoneType' object has no attribute 'open' data/midi/v8/midi_sources/lmd_clean/Elvis Presley/Kiss Me Quick.mid\n",
      "Error converting midi to sequence 'NoneType' object has no attribute 'open' data/midi/v8/midi_sources/lmd_clean/Summer Donna/Love's About to Change My Heart.mid\n",
      "Error converting midi to sequence 'NoneType' object has no attribute 'open' data/midi/v8/midi_sources/lmd_clean/Gaye,Marvin/(Sexual) Healing.2.mid\n",
      "Error converting midi to sequence 'NoneType' object has no attribute 'open' data/midi/v8/midi_sources/lmd_clean/Elton John/Goodby Yellow Brick Road.mid\n",
      "Error converting midi to sequence 'NoneType' object has no attribute 'open' data/midi/v8/midi_sources/lmd_clean/The Rolling Stones/Angie.2.mid\n",
      "Error converting midi to sequence 'NoneType' object has no attribute 'open' data/midi/v8/midi_sources/lmd_clean/Elvis Presley/Return to Sender.5.mid\n",
      "Error converting midi to sequence 'NoneType' object has no attribute 'open' data/midi/v8/midi_sources/lmd_clean/The Rolling Stones/Angie.6.mid\n",
      "Error converting midi to sequence 'NoneType' object has no attribute 'open' data/midi/v8/midi_sources/lmd_clean/Frankie Goes to Hollywood/Relax.3.mid\n",
      "Error converting midi to sequence 'NoneType' object has no attribute 'open' data/midi/v8/midi_sources/lmd_clean/The Rolling Stones/Can't Be Seen.1.mid\n",
      "Error converting midi to sequence 'NoneType' object has no attribute 'open' data/midi/v8/midi_sources/lmd_clean/Frankie Goes to Hollywood/Relax.2.mid\n",
      "Error converting midi to sequence 'NoneType' object has no attribute 'open' data/midi/v8/midi_sources/lmd_clean/Elvis Presley/Return to Sender.3.mid\n",
      "Error converting midi to sequence 'NoneType' object has no attribute 'open' data/midi/v8/midi_sources/lmd_clean/The Rolling Stones/Honky Tonk Woman.2.mid\n",
      "Error converting midi to sequence 'NoneType' object has no attribute 'open' data/midi/v8/midi_sources/lmd_clean/The Rolling Stones/Can't Be Seen.2.mid\n",
      "Error converting midi to sequence 'NoneType' object has no attribute 'open' data/midi/v8/midi_sources/lmd_clean/Elton John/Sad Songs (Say So Much).mid\n",
      "Error converting midi to sequence 'NoneType' object has no attribute 'open' data/midi/v8/midi_sources/lmd_clean/702/Where My Girls At.mid\n",
      "Error converting midi to sequence 'NoneType' object has no attribute 'open' data/midi/v8/midi_sources/lmd_clean/Bon Jovi/One Wild Night (2001 version).mid\n",
      "Error converting midi to sequence 'NoneType' object has no attribute 'open' data/midi/v8/midi_sources/lmd_clean/Bon Jovi/Wanted Dead or Alive.mid\n",
      "Error converting midi to sequence 'NoneType' object has no attribute 'open' data/midi/v8/midi_sources/lmd_clean/The Rolling Stones/Start Me Up.2.mid\n",
      "Error converting midi to sequence 'NoneType' object has no attribute 'open' data/midi/v8/midi_sources/lmd_clean/Supermax/Love Machine, Part 1.mid\n",
      "Error converting midi to sequence 'NoneType' object has no attribute 'open' data/midi/v8/midi_sources/lmd_clean/Laura Pausini/Un'emergenza d'amore.mid\n",
      "Error converting midi to sequence 'NoneType' object has no attribute 'open' data/midi/v8/midi_sources/lmd_clean/Whitesnake/Is This Love.1.mid\n",
      "Error converting midi to sequence 'NoneType' object has no attribute 'open' data/midi/v8/midi_sources/lmd_clean/Cats/Let's Dance.1.mid\n",
      "Error converting midi to sequence 'NoneType' object has no attribute 'open' data/midi/v8/midi_sources/lmd_clean/Morandi/Dove va a finire il mio affetto.1.mid\n",
      "Error converting midi to sequence 'NoneType' object has no attribute 'open' data/midi/v8/midi_sources/lmd_clean/Alannah Myles/Black Velvet.2.mid\n",
      "Error converting midi to sequence 'NoneType' object has no attribute 'open' data/midi/v8/midi_sources/lmd_clean/Haley/Shake, Rattle And Roll.mid\n",
      "Error converting midi to sequence 'NoneType' object has no attribute 'open' data/midi/v8/midi_sources/lmd_clean/Smokie/Living Next Door To Alice.2.mid\n",
      "Error converting midi to sequence 'NoneType' object has no attribute 'open' data/midi/v8/midi_sources/lmd_clean/Morandi/Forse non ci lasceremo mai.mid\n",
      "Error converting midi to sequence 'NoneType' object has no attribute 'open' data/midi/v8/midi_sources/lmd_clean/Smokie/Needles and Pins.mid\n",
      "Error converting midi to sequence 'NoneType' object has no attribute 'open' data/midi/v8/midi_sources/lmd_clean/Bee Gees/To Love Somebody.4.mid\n",
      "Error converting midi to sequence 'NoneType' object has no attribute 'open' data/midi/v8/midi_sources/lmd_clean/Bee Gees/Don't Forget to Remember.mid\n"
     ]
    },
    {
     "name": "stderr",
     "output_type": "stream",
     "text": [
      "midi: WARNING: Conversion error for <MidiEvent None, t=None, track=15, channel=None>: unknown midi event type: None; ignored.\n"
     ]
    },
    {
     "name": "stdout",
     "output_type": "stream",
     "text": [
      "Error converting midi to sequence 'NoneType' object has no attribute 'open' data/midi/v8/midi_sources/lmd_clean/Bee Gees/Massachusettes.1.mid\n",
      "Error converting midi to sequence 'NoneType' object has no attribute 'open' data/midi/v8/midi_sources/lmd_clean/Morandi/Come fa bene l'amore (radio edit).mid\n",
      "Error converting midi to sequence 'NoneType' object has no attribute 'open' data/midi/v8/midi_sources/lmd_clean/Bee Gees/You Win Again.1.mid\n",
      "Error converting midi to sequence 'NoneType' object has no attribute 'open' data/midi/v8/midi_sources/lmd_clean/Dire Straits/Walk Of Life.1.mid\n",
      "Error converting midi to sequence 'NoneType' object has no attribute 'open' data/midi/v8/midi_sources/lmd_clean/Alexander O'Neal/Criticize.mid\n",
      "Error converting midi to sequence 'NoneType' object has no attribute 'open' data/midi/v8/midi_sources/lmd_clean/TURNER TINA/I Don't Wanna Lose You.mid\n",
      "Error converting midi to sequence 'NoneType' object has no attribute 'open' data/midi/v8/midi_sources/lmd_clean/Creedence Clearwater Revival/I Heard It Through The Grapevine.1.mid\n",
      "Error converting midi to sequence 'NoneType' object has no attribute 'open' data/midi/v8/midi_sources/lmd_clean/Bee Gees/I've Got to Get a Message to You.mid\n",
      "Error converting midi to sequence 'NoneType' object has no attribute 'open' data/midi/v8/midi_sources/lmd_clean/Dire Straits/Expresso Love.mid\n",
      "Error converting midi to sequence 'NoneType' object has no attribute 'open' data/midi/v8/midi_sources/lmd_clean/Creedence Clearwater Revival/Bad Moon Rising.1.mid\n",
      "Error converting midi to sequence 'NoneType' object has no attribute 'open' data/midi/v8/midi_sources/lmd_clean/Celine Dion/If You Asked Me To.1.mid\n",
      "Error converting midi to sequence 'NoneType' object has no attribute 'open' data/midi/v8/midi_sources/lmd_clean/Celine Dion/Beauty & The Beast.mid\n",
      "Error converting midi to sequence 'NoneType' object has no attribute 'open' data/midi/v8/midi_sources/lmd_clean/Frank & Mirella/De vissers van San Juan.mid\n",
      "Error converting midi to sequence 'NoneType' object has no attribute 'open' data/midi/v8/midi_sources/lmd_clean/Celine Dion/Think Twice.3.mid\n",
      "Error converting midi to sequence 'NoneType' object has no attribute 'open' data/midi/v8/midi_sources/lmd_clean/Bee Gees/You Should Be Dancin' (live).mid\n"
     ]
    },
    {
     "name": "stderr",
     "output_type": "stream",
     "text": [
      "midi: WARNING: Conversion error for <MidiEvent None, t=None, track=2, channel=None>: unknown midi event type: None; ignored.\n"
     ]
    },
    {
     "name": "stdout",
     "output_type": "stream",
     "text": [
      "Error converting midi to sequence 'NoneType' object has no attribute 'open' data/midi/v8/midi_sources/lmd_clean/Charles Aznavour/Sur ma vie.mid\n",
      "Error converting midi to sequence 'NoneType' object has no attribute 'open' data/midi/v8/midi_sources/lmd_clean/Renato Teixeira/Amanheceu, peguei a viola.mid\n",
      "Error converting midi to sequence 'NoneType' object has no attribute 'open' data/midi/v8/midi_sources/lmd_clean/Nomadi/Il mattino dopo.mid\n",
      "Error converting midi to sequence 'NoneType' object has no attribute 'open' data/midi/v8/midi_sources/lmd_clean/Celine Dion/Power of Love.7.mid\n",
      "Error converting midi to sequence 'NoneType' object has no attribute 'open' data/midi/v8/midi_sources/lmd_clean/Nomadi/Un'altra citta.1.mid\n",
      "Error converting midi to sequence 'NoneType' object has no attribute 'open' data/midi/v8/midi_sources/lmd_clean/Nomadi/Quando ci sarai.mid\n",
      "Error converting midi to sequence 'NoneType' object has no attribute 'open' data/midi/v8/midi_sources/lmd_clean/Celine Dion/Falling Into You.mid\n",
      "Error converting midi to sequence 'NoneType' object has no attribute 'open' data/midi/v8/midi_sources/lmd_clean/Nomadi/Mamma musica.mid\n",
      "Error converting midi to sequence 'NoneType' object has no attribute 'open' data/midi/v8/midi_sources/lmd_clean/Creedence Clearwater Revival/Suzie Q.3.mid\n",
      "Error converting midi to sequence 'NoneType' object has no attribute 'open' data/midi/v8/midi_sources/lmd_clean/Creedence Clearwater Revival/Suzie Q.5.mid\n",
      "Error converting midi to sequence 'NoneType' object has no attribute 'open' data/midi/v8/midi_sources/lmd_clean/Nomadi/L'eredita.mid\n",
      "Error converting midi to sequence 'NoneType' object has no attribute 'open' data/midi/v8/midi_sources/lmd_clean/Nomadi/Un pugno di sabbia.mid\n",
      "Error converting midi to sequence 'NoneType' object has no attribute 'open' data/midi/v8/midi_sources/lmd_clean/Dire Straits/Sultans of Swing.10.mid\n",
      "Error converting midi to sequence 'NoneType' object has no attribute 'open' data/midi/v8/midi_sources/lmd_clean/Tasmin Archer/Sleeping Satellite.mid\n",
      "Error converting midi to sequence 'NoneType' object has no attribute 'open' data/midi/v8/midi_sources/lmd_clean/Nomadi/Il vento del nord.1.mid\n",
      "Error converting midi to sequence 'NoneType' object has no attribute 'open' data/midi/v8/midi_sources/lmd_clean/Die Fantastischen Vier/Sie Ist Weg.1.mid\n",
      "Error converting midi to sequence 'NoneType' object has no attribute 'open' data/midi/v8/midi_sources/lmd_clean/Grandi/In vacanza da una vita.1.mid\n",
      "Error converting midi to sequence 'NoneType' object has no attribute 'open' data/midi/v8/midi_sources/lmd_clean/Celentano/Grazie, prego, scusi.mid\n",
      "Error converting midi to sequence 'NoneType' object has no attribute 'open' data/midi/v8/midi_sources/lmd_clean/Celentano/Una carezza in un pugno.mid\n",
      "Error converting midi to sequence 'NoneType' object has no attribute 'open' data/midi/v8/midi_sources/lmd_clean/Stone & Stone/Hold On.mid\n",
      "Error converting midi to sequence 'NoneType' object has no attribute 'open' data/midi/v8/midi_sources/lmd_clean/Celentano/Soli.2.mid\n",
      "Error converting midi to sequence 'NoneType' object has no attribute 'open' data/midi/v8/midi_sources/lmd_clean/Celentano/Un albero di trenta piani.mid\n",
      "Error converting midi to sequence 'NoneType' object has no attribute 'open' data/midi/v8/midi_sources/lmd_clean/Dire Straits/Sultans of Swing.2.mid\n",
      "Error converting midi to sequence 'NoneType' object has no attribute 'open' data/midi/v8/midi_sources/lmd_clean/East 17/Someone to Love.mid\n",
      "Error converting midi to sequence 'NoneType' object has no attribute 'open' data/midi/v8/midi_sources/lmd_clean/Celentano/Viola.mid\n",
      "Error converting midi to sequence 'NoneType' object has no attribute 'open' data/midi/v8/midi_sources/lmd_clean/Nomadi/Canzone per i desaparecidos.mid\n",
      "Error converting midi to sequence 'NoneType' object has no attribute 'open' data/midi/v8/midi_sources/130k_reddit/Jazz_www.thejazzpage.de_MIDIRip/ST_LOUIS.MID\n",
      "Error converting midi to sequence 'NoneType' object has no attribute 'open' data/midi/v8/midi_sources/lmd_clean/Creedence Clearwater Revival/Suzie Q.mid\n",
      "Error converting midi to sequence 'NoneType' object has no attribute 'open' data/midi/v8/midi_sources/130k_reddit/E/E/Eminem_My_Name_Is.mid\n",
      "Error converting midi to sequence 'NoneType' object has no attribute 'open' data/midi/v8/midi_sources/130k_reddit/E/E/Eine-Kleine-Nachtmusik-3a.mid\n",
      "Error converting midi to sequence 'NoneType' object has no attribute 'open' data/midi/v8/midi_sources/130k_reddit/E/E/Es-Klappert-Die-Muhle-Am-Rauschenden-Bach-1.mid\n",
      "Error converting midi to sequence 'NoneType' object has no attribute 'open' data/midi/v8/midi_sources/130k_reddit/E/E/EMINEM.My name is.mid\n",
      "Error converting midi to sequence 'NoneType' object has no attribute 'open' data/midi/v8/midi_sources/130k_reddit/E/E/Every-Day.mid\n",
      "Error converting midi to sequence 'NoneType' object has no attribute 'open' data/midi/v8/midi_sources/130k_reddit/E/E/EverythingIDoIDoItForYou3.mid\n",
      "Error converting midi to sequence 'NoneType' object has no attribute 'open' data/midi/v8/midi_sources/130k_reddit/E/E/Early-Bird-1.mid\n",
      "Error converting midi to sequence 'NoneType' object has no attribute 'open' data/midi/v8/midi_sources/130k_reddit/E/E/EPCAR_06.MID\n",
      "Error converting midi to sequence 'NoneType' object has no attribute 'open' data/midi/v8/midi_sources/130k_reddit/E/E/EPCAR_05.MID\n",
      "Error converting midi to sequence 'NoneType' object has no attribute 'open' data/midi/v8/midi_sources/130k_reddit/Jazz_www.thejazzpage.de_MIDIRip/IConcOnYou.mid\n",
      "Error converting midi to sequence 'NoneType' object has no attribute 'open' data/midi/v8/midi_sources/130k_reddit/E/E/Every-Breath-You-Take-4.mid\n",
      "Error converting midi to sequence 'NoneType' object has no attribute 'open' data/midi/v8/midi_sources/130k_reddit/E/E/Egerland-Heimatland-2.mid\n",
      "Error converting midi to sequence 'NoneType' object has no attribute 'open' data/midi/v8/midi_sources/130k_reddit/E/E/Elvis_Presley_-_Return_to_Sender.mid\n",
      "Error converting midi to sequence 'NoneType' object has no attribute 'open' data/midi/v8/midi_sources/130k_reddit/E/E/encre.mid\n",
      "Error converting midi to sequence 'NoneType' object has no attribute 'open' data/midi/v8/midi_sources/130k_reddit/E/E/eric_clapton-tears_in_heaven.mid\n",
      "Error converting midi to sequence 'NoneType' object has no attribute 'open' data/midi/v8/midi_sources/130k_reddit/E/E/Eleanor-Rigby-2.mid\n"
     ]
    },
    {
     "name": "stderr",
     "output_type": "stream",
     "text": [
      "midi: WARNING: Conversion error for <MidiEvent None, t=None, track=0, channel=None>: unknown midi event type: None; ignored.\n"
     ]
    },
    {
     "name": "stdout",
     "output_type": "stream",
     "text": [
      "Error converting midi to sequence 'NoneType' object has no attribute 'open' data/midi/v8/midi_sources/130k_reddit/E/E/every_breath3.mid\n",
      "Error converting midi to sequence 'NoneType' object has no attribute 'open' data/midi/v8/midi_sources/130k_reddit/E/E/emocoes2.mid\n",
      "Error converting midi to sequence 'NoneType' object has no attribute 'open' data/midi/v8/midi_sources/130k_reddit/E/E/elton2.mid\n",
      "Error converting midi to sequence 'NoneType' object has no attribute 'open' data/midi/v8/midi_sources/130k_reddit/E/E/everybreathutake.mid\n",
      "Error converting midi to sequence 'NoneType' object has no attribute 'open' data/midi/v8/midi_sources/130k_reddit/E/E/Es-Gibt-Kein-Bier-Auf-Hawaii-2.mid\n",
      "Error converting midi to sequence 'NoneType' object has no attribute 'open' data/midi/v8/midi_sources/130k_reddit/E/E/Eroiminori.mid\n",
      "Error converting midi to sequence 'NoneType' object has no attribute 'open' data/midi/v8/midi_sources/130k_reddit/E/E/ESPANACA.MID\n",
      "Error converting midi to sequence 'NoneType' object has no attribute 'open' data/midi/v8/midi_sources/130k_reddit/E/E/Everything2.mid\n",
      "Error converting midi to sequence 'NoneType' object has no attribute 'open' data/midi/v8/midi_sources/130k_reddit/E/E/Eine-Kleine-Nachtmusik-2a.mid\n",
      "Error converting midi to sequence 'NoneType' object has no attribute 'open' data/midi/v8/midi_sources/130k_reddit/E/E/Einmal-Mucht'-Ich-Ein-Boser-Sein.mid\n",
      "Error converting midi to sequence 'NoneType' object has no attribute 'open' data/midi/v8/midi_sources/130k_reddit/E/E/enrique_iglesias-addicted.mid\n",
      "Error converting midi to sequence 'NoneType' object has no attribute 'open' data/midi/v8/midi_sources/130k_reddit/E/E/eve-gangsta_lovin.mid\n",
      "Error converting midi to sequence 'NoneType' object has no attribute 'open' data/midi/v8/midi_sources/130k_reddit/E/E/ejohn-60.mid\n",
      "Error converting midi to sequence 'NoneType' object has no attribute 'open' data/midi/v8/midi_sources/130k_reddit/E/E/Eric_Clapton_-_Let_It_Grow.mid\n",
      "Error converting midi to sequence 'NoneType' object has no attribute 'open' data/midi/v8/midi_sources/130k_reddit/E/E/eros_ramazzotti-infinitamente.mid\n",
      "Error converting midi to sequence 'NoneType' object has no attribute 'open' data/midi/v8/midi_sources/130k_reddit/E/E/EnglishmanInNewYork.mid\n",
      "Error converting midi to sequence 'NoneType' object has no attribute 'open' data/midi/v8/midi_sources/130k_reddit/E/E/Ein-Gluck-Dass-Wir-Nicht-Saufen-2.mid\n",
      "Error converting midi to sequence 'NoneType' object has no attribute 'open' data/midi/v8/midi_sources/130k_reddit/E/E/everfree.mid\n",
      "Error converting midi to sequence 'NoneType' object has no attribute 'open' data/midi/v8/midi_sources/130k_reddit/E/E/Eminem - My Name Is.mid\n",
      "Error converting midi to sequence 'NoneType' object has no attribute 'open' data/midi/v8/midi_sources/130k_reddit/E/E/EinBettImKornfeld.mid\n",
      "Error converting midi to sequence 'NoneType' object has no attribute 'open' data/midi/v8/midi_sources/130k_reddit/E/E/eric_clapton-bad_love.mid\n",
      "Error converting midi to sequence 'NoneType' object has no attribute 'open' data/midi/v8/midi_sources/130k_reddit/E/E/englishman_in_new_york2.mid\n",
      "Error converting midi to sequence 'NoneType' object has no attribute 'open' data/midi/v8/midi_sources/130k_reddit/E/E/EineInselMitZweiBergen.mid\n",
      "Error converting midi to sequence 'NoneType' object has no attribute 'open' data/midi/v8/midi_sources/130k_reddit/E/E/ENGELBERT.Radio dancing.MID\n",
      "Error converting midi to sequence 'NoneType' object has no attribute 'open' data/midi/v8/midi_sources/130k_reddit/E/E/eminem-my_name_is.mid\n",
      "Error converting midi to sequence 'NoneType' object has no attribute 'open' data/midi/v8/midi_sources/130k_reddit/E/E/Elton_John_-_Candle_in_the_Wind.mid\n",
      "Error converting midi to sequence 'NoneType' object has no attribute 'open' data/midi/v8/midi_sources/130k_reddit/E/E/EPCAR_01.MID\n",
      "Error converting midi to sequence 'NoneType' object has no attribute 'open' data/midi/v8/midi_sources/130k_reddit/E/E/every3.mid\n",
      "Error converting midi to sequence 'NoneType' object has no attribute 'open' data/midi/v8/midi_sources/130k_reddit/E/E/EltonJohn-YourSong.mid\n",
      "Error converting midi to sequence 'NoneType' object has no attribute 'open' data/midi/v8/midi_sources/130k_reddit/E/E/Es-Geht-Schon-Wieder-Loss-2.mid\n",
      "Error converting midi to sequence 'NoneType' object has no attribute 'open' data/midi/v8/midi_sources/130k_reddit/E/E/everythingido06.mid\n",
      "Error converting midi to sequence 'NoneType' object has no attribute 'open' data/midi/v8/midi_sources/130k_reddit/E/E/eleysina.mid\n",
      "Error converting midi to sequence 'NoneType' object has no attribute 'open' data/midi/v8/midi_sources/130k_reddit/E/E/every_morning.mid\n",
      "Error converting midi to sequence 'NoneType' object has no attribute 'open' data/midi/v8/midi_sources/130k_reddit/E/E/Eine-Neue-Liebe-Ist-Wie-Ein-Neues-Leben-1.mid\n",
      "Error converting midi to sequence 'NoneType' object has no attribute 'open' data/midi/v8/midi_sources/130k_reddit/E/E/eric_clapton-i_shot_the_sheriff.mid\n",
      "Error converting midi to sequence 'NoneType' object has no attribute 'open' data/midi/v8/midi_sources/130k_reddit/E/E/EverythingIDo4.mid\n",
      "Error converting midi to sequence 'NoneType' object has no attribute 'open' data/midi/v8/midi_sources/130k_reddit/E/E/Elfship.mid\n",
      "Error converting midi to sequence 'NoneType' object has no attribute 'open' data/midi/v8/midi_sources/130k_reddit/E/E/einy.mid\n",
      "Error converting midi to sequence 'NoneType' object has no attribute 'open' data/midi/v8/midi_sources/130k_reddit/E/E/Eine-Kleine-Nachtmusik-2.mid\n",
      "Error converting midi to sequence 'NoneType' object has no attribute 'open' data/midi/v8/midi_sources/130k_reddit/E/E/EverythingIDoIDoItForYou4.mid\n"
     ]
    },
    {
     "name": "stderr",
     "output_type": "stream",
     "text": [
      "midi: WARNING: Conversion error for <MidiEvent None, t=None, track=0, channel=None>: unknown midi event type: None; ignored.\n"
     ]
    },
    {
     "name": "stdout",
     "output_type": "stream",
     "text": [
      "Error converting midi to sequence 'NoneType' object has no attribute 'open' data/midi/v8/midi_sources/130k_reddit/E/E/Everybody's-Somebody's-Fool-2.mid\n",
      "Error converting midi to sequence 'NoneType' object has no attribute 'open' data/midi/v8/midi_sources/130k_reddit/E/E/Eminem_-_My_Name_Is.mid\n",
      "Error converting midi to sequence 'NoneType' object has no attribute 'open' data/midi/v8/midi_sources/130k_reddit/E/E/eddieguerro.mid\n",
      "Error converting midi to sequence 'NoneType' object has no attribute 'open' data/midi/v8/midi_sources/130k_reddit/E/E/emotions-cedero.mid\n",
      "Error converting midi to sequence 'NoneType' object has no attribute 'open' data/midi/v8/midi_sources/130k_reddit/E/E/EPCAR_07.MID\n",
      "Error converting midi to sequence 'NoneType' object has no attribute 'open' data/midi/v8/midi_sources/130k_reddit/E/E/Eine-Weisse-Hochzeitskutsche.mid\n",
      "Error converting midi to sequence 'NoneType' object has no attribute 'open' data/midi/v8/midi_sources/130k_reddit/E/E/Everything-I-Do-I-Do-It-For-You-2.mid\n",
      "Error converting midi to sequence 'NoneType' object has no attribute 'open' data/midi/v8/midi_sources/130k_reddit/E/E/eufui.mid\n",
      "Error converting midi to sequence 'NoneType' object has no attribute 'open' data/midi/v8/midi_sources/130k_reddit/E/E/eric_clapton-layla.mid\n",
      "Error converting midi to sequence 'NoneType' object has no attribute 'open' data/midi/v8/midi_sources/130k_reddit/E/E/EPCAR_04.MID\n",
      "Error converting midi to sequence 'NoneType' object has no attribute 'open' data/midi/v8/midi_sources/130k_reddit/E/E/Et-Maintenant-1.mid\n",
      "Error converting midi to sequence 'NoneType' object has no attribute 'open' data/midi/v8/midi_sources/130k_reddit/O/O/oldchow.mid\n",
      "Error converting midi to sequence 'NoneType' object has no attribute 'open' data/midi/v8/midi_sources/130k_reddit/O/O/originaltrek.mid\n",
      "Error converting midi to sequence 'NoneType' object has no attribute 'open' data/midi/v8/midi_sources/130k_reddit/E/E/EnglishManInNewYork2.mid\n",
      "Error converting midi to sequence 'NoneType' object has no attribute 'open' data/midi/v8/midi_sources/130k_reddit/O/Otis Redding - (Sittin'-On)-The-Dock-Of-The-Bay-1.mid\n",
      "Error converting midi to sequence 'NoneType' object has no attribute 'open' data/midi/v8/midi_sources/130k_reddit/E/E/englishman_in_new_york.mid\n",
      "Error converting midi to sequence 'NoneType' object has no attribute 'open' data/midi/v8/midi_sources/130k_reddit/E/E/E.GRANT.Gimme hope Jo'Anna.MID\n",
      "Error converting midi to sequence 'NoneType' object has no attribute 'open' data/midi/v8/midi_sources/130k_reddit/E/E/E.W.F.Weekend.mid\n"
     ]
    },
    {
     "name": "stderr",
     "output_type": "stream",
     "text": [
      "midi: WARNING: Conversion error for <MidiEvent None, t=None, track=3, channel=None>: unknown midi event type: None; ignored.\n",
      "midi: WARNING: Conversion error for <MidiEvent None, t=None, track=4, channel=None>: unknown midi event type: None; ignored.\n",
      "midi: WARNING: Conversion error for <MidiEvent None, t=None, track=10, channel=None>: unknown midi event type: None; ignored.\n"
     ]
    },
    {
     "name": "stdout",
     "output_type": "stream",
     "text": [
      "Error converting midi to sequence 'NoneType' object has no attribute 'open' data/midi/v8/midi_sources/130k_reddit/O/O/ocanada03.mid\n",
      "Error converting midi to sequence 'NoneType' object has no attribute 'open' data/midi/v8/midi_sources/130k_reddit/O/O/OUTOFMY.MID\n",
      "Error converting midi to sequence 'NoneType' object has no attribute 'open' data/midi/v8/midi_sources/130k_reddit/O/O/Oh-Lonesome-Me-2.mid\n",
      "Error converting midi to sequence 'NoneType' object has no attribute 'open' data/midi/v8/midi_sources/130k_reddit/O/O/One-Day-I'll-Fly-Away-1.mid\n",
      "Error converting midi to sequence 'NoneType' object has no attribute 'open' data/midi/v8/midi_sources/130k_reddit/O/O/onethat2.mid\n",
      "Error converting midi to sequence 'NoneType' object has no attribute 'open' data/midi/v8/midi_sources/130k_reddit/O/O/OHIO EXPRESS.Yummy yummy.mid\n",
      "Error converting midi to sequence 'NoneType' object has no attribute 'open' data/midi/v8/midi_sources/130k_reddit/O/O/onlylove3.mid\n"
     ]
    },
    {
     "name": "stderr",
     "output_type": "stream",
     "text": [
      "midi: WARNING: Conversion error for <MidiEvent None, t=None, track=1, channel=None>: unknown midi event type: None; ignored.\n"
     ]
    },
    {
     "name": "stdout",
     "output_type": "stream",
     "text": [
      "Error converting midi to sequence 'NoneType' object has no attribute 'open' data/midi/v8/midi_sources/130k_reddit/O/O/OciPuneTuge.mid\n",
      "Error converting midi to sequence 'NoneType' object has no attribute 'open' data/midi/v8/midi_sources/130k_reddit/O/O/On-My-Way-To-L.A..mid\n",
      "Error converting midi to sequence 'NoneType' object has no attribute 'open' data/midi/v8/midi_sources/130k_reddit/O/O/OnlyYou4.mid\n",
      "Error converting midi to sequence 'NoneType' object has no attribute 'open' data/midi/v8/midi_sources/130k_reddit/O/O/One-Moment-In-Time-1.mid\n",
      "Error converting midi to sequence 'NoneType' object has no attribute 'open' data/midi/v8/midi_sources/130k_reddit/O/O/One-More-Night-1.mid\n",
      "Error converting midi to sequence 'NoneType' object has no attribute 'open' data/midi/v8/midi_sources/130k_reddit/O/O/Old-Devil-Moon-1.mid\n"
     ]
    },
    {
     "name": "stderr",
     "output_type": "stream",
     "text": [
      "midi: WARNING: Conversion error for <MidiEvent None, t=None, track=0, channel=None>: unknown midi event type: None; ignored.\n",
      "midi: WARNING: Conversion error for <MidiEvent None, t=None, track=1, channel=None>: unknown midi event type: None; ignored.\n"
     ]
    },
    {
     "name": "stdout",
     "output_type": "stream",
     "text": [
      "Error converting midi to sequence 'NoneType' object has no attribute 'open' data/midi/v8/midi_sources/130k_reddit/O/O/O-Kom-Er-Eens-Kijken...-2.mid\n",
      "Error converting midi to sequence 'NoneType' object has no attribute 'open' data/midi/v8/midi_sources/130k_reddit/O/O/outkast-the_way_you_move.mid\n",
      "Error converting midi to sequence 'NoneType' object has no attribute 'open' data/midi/v8/midi_sources/130k_reddit/O/O/On_Every_Street.mid\n",
      "Error converting midi to sequence 'NoneType' object has no attribute 'open' data/midi/v8/midi_sources/130k_reddit/O/O/oso_krat.mid\n",
      "Error converting midi to sequence 'NoneType' object has no attribute 'open' data/midi/v8/midi_sources/130k_reddit/O/O/overcurrents.mid\n",
      "Error converting midi to sequence 'NoneType' object has no attribute 'open' data/midi/v8/midi_sources/130k_reddit/O/O/On-The-Beach-1.mid\n",
      "Error converting midi to sequence 'NoneType' object has no attribute 'open' data/midi/v8/midi_sources/130k_reddit/O/O/OneMoreNight2.mid\n",
      "Error converting midi to sequence 'NoneType' object has no attribute 'open' data/midi/v8/midi_sources/130k_reddit/O/O/Ordinary love.mid\n",
      "Error converting midi to sequence 'NoneType' object has no attribute 'open' data/midi/v8/midi_sources/130k_reddit/O/O/Orient Express.mid\n",
      "Error converting midi to sequence 'NoneType' object has no attribute 'open' data/midi/v8/midi_sources/130k_reddit/O/O/One-Dance-With-Us.mid\n",
      "Error converting midi to sequence 'NoneType' object has no attribute 'open' data/midi/v8/midi_sources/130k_reddit/O/O/OneDayI'llFlyAway.mid\n",
      "Error converting midi to sequence 'NoneType' object has no attribute 'open' data/midi/v8/midi_sources/130k_reddit/O/O/Out-Of-Reach.mid\n",
      "Error converting midi to sequence 'NoneType' object has no attribute 'open' data/midi/v8/midi_sources/130k_reddit/O/O/outkast-miss_jackson.mid\n",
      "Error converting midi to sequence 'NoneType' object has no attribute 'open' data/midi/v8/midi_sources/130k_reddit/O/O/One-Hand-One-Heart-(From-'The-West-Side-Story').mid\n",
      "Error converting midi to sequence 'NoneType' object has no attribute 'open' data/midi/v8/midi_sources/130k_reddit/O/O/Oben-Unten-Vorne-Hinten-Berall.mid\n",
      "Error converting midi to sequence 'NoneType' object has no attribute 'open' data/midi/v8/midi_sources/130k_reddit/O/O/OneMoreNight5.mid\n",
      "Error converting midi to sequence 'NoneType' object has no attribute 'open' data/midi/v8/midi_sources/130k_reddit/O/O/One-More-Night-3.mid\n",
      "Error converting midi to sequence 'NoneType' object has no attribute 'open' data/midi/v8/midi_sources/130k_reddit/O/O/OutOfMyLife2.mid\n",
      "Error converting midi to sequence 'NoneType' object has no attribute 'open' data/midi/v8/midi_sources/130k_reddit/O/O/Oh-My-Darling-Caroline-2.mid\n",
      "Error converting midi to sequence 'NoneType' object has no attribute 'open' data/midi/v8/midi_sources/130k_reddit/8/8-Beat-Pop.mid\n",
      "Error converting midi to sequence 'NoneType' object has no attribute 'open' data/midi/v8/midi_sources/130k_reddit/O/O/one-leg.mid\n"
     ]
    },
    {
     "name": "stderr",
     "output_type": "stream",
     "text": [
      "midi: WARNING: Conversion error for <MidiEvent None, t=None, track=0, channel=None>: unknown midi event type: None; ignored.\n"
     ]
    },
    {
     "name": "stdout",
     "output_type": "stream",
     "text": [
      "Error converting midi to sequence 'NoneType' object has no attribute 'open' data/midi/v8/midi_sources/130k_reddit/4/48.mid\n",
      "Error converting midi to sequence 'NoneType' object has no attribute 'open' data/midi/v8/midi_sources/130k_reddit/4/4INTHEMR.MID\n",
      "Error converting midi to sequence 'NoneType' object has no attribute 'open' data/midi/v8/midi_sources/130k_reddit/4/4LEAFCLV.MID\n",
      "Error converting midi to sequence 'NoneType' object has no attribute 'open' data/midi/v8/midi_sources/130k_reddit/O/O/otiw.mid\n",
      "Error converting midi to sequence 'NoneType' object has no attribute 'open' data/midi/v8/midi_sources/130k_reddit/O/O/Ojalallueva.mid\n"
     ]
    },
    {
     "name": "stderr",
     "output_type": "stream",
     "text": [
      "midi: WARNING: Conversion error for <MidiEvent None, t=None, track=2, channel=None>: unknown midi event type: None; ignored.\n"
     ]
    },
    {
     "name": "stdout",
     "output_type": "stream",
     "text": [
      "Error converting midi to sequence 'NoneType' object has no attribute 'open' data/midi/v8/midi_sources/130k_reddit/4/40SHADES.MID\n",
      "Error converting midi to sequence 'NoneType' object has no attribute 'open' data/midi/v8/midi_sources/130k_reddit/O/O/OffTheWall2.mid\n",
      "Error converting midi to sequence 'NoneType' object has no attribute 'open' data/midi/v8/midi_sources/130k_reddit/4/4.mid\n",
      "Error converting midi to sequence 'NoneType' object has no attribute 'open' data/midi/v8/midi_sources/130k_reddit/4/40a.mid\n",
      "Error converting midi to sequence 'NoneType' object has no attribute 'open' data/midi/v8/midi_sources/130k_reddit/P/P/prince-little_red_corvette.mid\n",
      "Error converting midi to sequence 'NoneType' object has no attribute 'open' data/midi/v8/midi_sources/130k_reddit/P/Palemiger Spatzen - 'T-Is-Weer-Harmonikatijd-2.mid\n"
     ]
    },
    {
     "name": "stderr",
     "output_type": "stream",
     "text": [
      "midi: WARNING: Conversion error for <MidiEvent None, t=None, track=0, channel=None>: unknown midi event type: None; ignored.\n"
     ]
    },
    {
     "name": "stdout",
     "output_type": "stream",
     "text": [
      "Error converting midi to sequence 'NoneType' object has no attribute 'open' data/midi/v8/midi_sources/130k_reddit/P/P/P.SKELLERN.You're a lady.MID\n",
      "Error converting midi to sequence 'NoneType' object has no attribute 'open' data/midi/v8/midi_sources/130k_reddit/P/P/PleaseMrPostman.mid\n",
      "Error converting midi to sequence 'NoneType' object has no attribute 'open' data/midi/v8/midi_sources/130k_reddit/P/P/puff_daddy-bad_boy_for_life.mid\n",
      "Error converting midi to sequence 'NoneType' object has no attribute 'open' data/midi/v8/midi_sources/130k_reddit/P/P/Prickhinu.mid\n",
      "Error converting midi to sequence 'NoneType' object has no attribute 'open' data/midi/v8/midi_sources/130k_reddit/P/P/panjabi_mc-mundian_to_bach_ke.mid\n",
      "Error converting midi to sequence 'NoneType' object has no attribute 'open' data/midi/v8/midi_sources/130k_reddit/P/P/Prince - Little Red Corvette.mid\n",
      "Error converting midi to sequence 'NoneType' object has no attribute 'open' data/midi/v8/midi_sources/130k_reddit/P/P/pal10.mid\n",
      "Error converting midi to sequence 'NoneType' object has no attribute 'open' data/midi/v8/midi_sources/130k_reddit/P/P/Patryn.mid\n",
      "Error converting midi to sequence 'NoneType' object has no attribute 'open' data/midi/v8/midi_sources/130k_reddit/P/P/Pet_Shop_Boys_-_Always_on_my_Mind.mid\n",
      "Error converting midi to sequence 'NoneType' object has no attribute 'open' data/midi/v8/midi_sources/130k_reddit/P/P/PrivateDancer2.mid\n",
      "Error converting midi to sequence 'NoneType' object has no attribute 'open' data/midi/v8/midi_sources/130k_reddit/P/P/Please-Release-Me.mid\n",
      "Error converting midi to sequence 'NoneType' object has no attribute 'open' data/midi/v8/midi_sources/130k_reddit/P/P/Pod_pod.mid\n",
      "Error converting midi to sequence 'NoneType' object has no attribute 'open' data/midi/v8/midi_sources/130k_reddit/P/P/PRESLEY.It's now or never.mid\n"
     ]
    },
    {
     "name": "stderr",
     "output_type": "stream",
     "text": [
      "midi: WARNING: Conversion error for <MidiEvent None, t=None, track=0, channel=None>: unknown midi event type: None; ignored.\n"
     ]
    },
    {
     "name": "stdout",
     "output_type": "stream",
     "text": [
      "Error converting midi to sequence 'NoneType' object has no attribute 'open' data/midi/v8/midi_sources/130k_reddit/P/P/pianoman05.mid\n",
      "Error converting midi to sequence 'NoneType' object has no attribute 'open' data/midi/v8/midi_sources/130k_reddit/P/P/policia3.mid\n",
      "Error converting midi to sequence 'NoneType' object has no attribute 'open' data/midi/v8/midi_sources/130k_reddit/P/P/piccolo2.mid\n",
      "Error converting midi to sequence 'NoneType' object has no attribute 'open' data/midi/v8/midi_sources/130k_reddit/P/P/pride3.mid\n",
      "Error converting midi to sequence 'NoneType' object has no attribute 'open' data/midi/v8/midi_sources/130k_reddit/P/P/penny2.mid\n",
      "Error converting midi to sequence 'NoneType' object has no attribute 'open' data/midi/v8/midi_sources/130k_reddit/P/P/PhoneCll.mid\n",
      "Error converting midi to sequence 'NoneType' object has no attribute 'open' data/midi/v8/midi_sources/130k_reddit/P/P/paradise05.mid\n",
      "Error converting midi to sequence 'NoneType' object has no attribute 'open' data/midi/v8/midi_sources/130k_reddit/P/P/people05.mid\n",
      "Error converting midi to sequence 'NoneType' object has no attribute 'open' data/midi/v8/midi_sources/130k_reddit/P/P/Penny-Lane-3.mid\n",
      "Error converting midi to sequence 'NoneType' object has no attribute 'open' data/midi/v8/midi_sources/130k_reddit/P/P/Pride-(In-The-Name-Of-Love)-1.mid\n",
      "Error converting midi to sequence 'NoneType' object has no attribute 'open' data/midi/v8/midi_sources/130k_reddit/P/P/PENNYLAA.MID\n",
      "Error converting midi to sequence 'NoneType' object has no attribute 'open' data/midi/v8/midi_sources/130k_reddit/P/P/Prince - Raspberry Beret.mid\n",
      "Error converting midi to sequence 'NoneType' object has no attribute 'open' data/midi/v8/midi_sources/130k_reddit/P/P/pinga.mid\n",
      "Error converting midi to sequence 'NoneType' object has no attribute 'open' data/midi/v8/midi_sources/130k_reddit/P/P/puff_daddy-been_around_the_world.mid\n",
      "Error converting midi to sequence 'NoneType' object has no attribute 'open' data/midi/v8/midi_sources/130k_reddit/P/P/porpoise.mid\n"
     ]
    },
    {
     "name": "stderr",
     "output_type": "stream",
     "text": [
      "midi: WARNING: Conversion error for <MidiEvent None, t=None, track=7, channel=None>: unknown midi event type: None; ignored.\n",
      "midi: WARNING: Conversion error for <MidiEvent None, t=None, track=8, channel=None>: unknown midi event type: None; ignored.\n"
     ]
    },
    {
     "name": "stdout",
     "output_type": "stream",
     "text": [
      "Error converting midi to sequence 'NoneType' object has no attribute 'open' data/midi/v8/midi_sources/130k_reddit/P/P/Psith2.mid\n",
      "Error converting midi to sequence 'NoneType' object has no attribute 'open' data/midi/v8/midi_sources/130k_reddit/P/P/P.MCLEAN.Lady bump.MID\n",
      "Error converting midi to sequence 'NoneType' object has no attribute 'open' data/midi/v8/midi_sources/130k_reddit/P/P/Prince_-_When_Doves_Cry.mid\n",
      "Error converting midi to sequence 'NoneType' object has no attribute 'open' data/midi/v8/midi_sources/130k_reddit/P/P/prisoner2.mid\n",
      "Error converting midi to sequence 'NoneType' object has no attribute 'open' data/midi/v8/midi_sources/130k_reddit/P/P/Paninaro95.mid\n",
      "Error converting midi to sequence 'NoneType' object has no attribute 'open' data/midi/v8/midi_sources/130k_reddit/P/P/Penseemmim.mid\n",
      "Error converting midi to sequence 'NoneType' object has no attribute 'open' data/midi/v8/midi_sources/130k_reddit/P/P/prince-diamonds_and_pearls.mid\n",
      "Error converting midi to sequence 'NoneType' object has no attribute 'open' data/midi/v8/midi_sources/130k_reddit/P/P/pianoman09.mid\n",
      "Error converting midi to sequence 'NoneType' object has no attribute 'open' data/midi/v8/midi_sources/130k_reddit/P/P/Perdido.mid\n",
      "Error converting midi to sequence 'NoneType' object has no attribute 'open' data/midi/v8/midi_sources/130k_reddit/P/P/Paperback-Writer-1.mid\n",
      "Error converting midi to sequence 'NoneType' object has no attribute 'open' data/midi/v8/midi_sources/130k_reddit/P/P/police-if_i_ever_lose_my_faith_in_you.mid\n",
      "Error converting midi to sequence 'NoneType' object has no attribute 'open' data/midi/v8/midi_sources/130k_reddit/P/P/P.FLOYD.The wall.mid\n",
      "Error converting midi to sequence 'NoneType' object has no attribute 'open' data/midi/v8/midi_sources/130k_reddit/P/P/police-fragile.mid\n",
      "Error converting midi to sequence 'NoneType' object has no attribute 'open' data/midi/v8/midi_sources/130k_reddit/P/P/PARTYMIX.MID\n",
      "Error converting midi to sequence 'NoneType' object has no attribute 'open' data/midi/v8/midi_sources/130k_reddit/P/P/PCXP_-_DJ_TAUCHER.mid\n",
      "Error converting midi to sequence 'NoneType' object has no attribute 'open' data/midi/v8/midi_sources/130k_reddit/P/P/Plaisir-D'Amour-(Slow-Waltz).mid\n",
      "Error converting midi to sequence 'NoneType' object has no attribute 'open' data/midi/v8/midi_sources/130k_reddit/P/P/PERSPOOR.MID\n"
     ]
    },
    {
     "name": "stderr",
     "output_type": "stream",
     "text": [
      "midi: WARNING: Conversion error for <MidiEvent None, t=None, track=0, channel=None>: unknown midi event type: None; ignored.\n"
     ]
    },
    {
     "name": "stdout",
     "output_type": "stream",
     "text": [
      "Error converting midi to sequence 'NoneType' object has no attribute 'open' data/midi/v8/midi_sources/130k_reddit/P/P/Pipes-Of-Peace-1.mid\n",
      "Error converting midi to sequence 'NoneType' object has no attribute 'open' data/midi/v8/midi_sources/130k_reddit/P/P/P.PAUL-SUE-MARY.Birds of paradise.mid\n"
     ]
    },
    {
     "name": "stderr",
     "output_type": "stream",
     "text": [
      "midi: WARNING: Conversion error for <MidiEvent None, t=None, track=0, channel=None>: unknown midi event type: None; ignored.\n",
      "midi: WARNING: Conversion error for <MidiEvent None, t=None, track=0, channel=None>: unknown midi event type: None; ignored.\n"
     ]
    },
    {
     "name": "stdout",
     "output_type": "stream",
     "text": [
      "Error converting midi to sequence 'NoneType' object has no attribute 'open' data/midi/v8/midi_sources/130k_reddit/P/P/pdance.mid\n",
      "Error converting midi to sequence 'NoneType' object has no attribute 'open' data/midi/v8/midi_sources/130k_reddit/P/P/postman.mid\n",
      "Error converting midi to sequence 'NoneType' object has no attribute 'open' data/midi/v8/midi_sources/130k_reddit/P/P/PROCOL HARUM.Fortuna.mid\n",
      "Error converting midi to sequence 'NoneType' object has no attribute 'open' data/midi/v8/midi_sources/130k_reddit/P/P/PanjMC.mid\n",
      "Error converting midi to sequence 'NoneType' object has no attribute 'open' data/midi/v8/midi_sources/130k_reddit/P/P/PENYLANE.MID\n"
     ]
    },
    {
     "name": "stderr",
     "output_type": "stream",
     "text": [
      "midi: WARNING: Conversion error for <MidiEvent None, t=None, track=0, channel=None>: unknown midi event type: None; ignored.\n"
     ]
    },
    {
     "name": "stdout",
     "output_type": "stream",
     "text": [
      "Error converting midi to sequence 'NoneType' object has no attribute 'open' data/midi/v8/midi_sources/130k_reddit/P/P/PENNIESH.MID\n",
      "Error converting midi to sequence 'NoneType' object has no attribute 'open' data/midi/v8/midi_sources/130k_reddit/P/P/Penny-Lane-2.mid\n",
      "Error converting midi to sequence 'NoneType' object has no attribute 'open' data/midi/v8/midi_sources/130k_reddit/P/P/Prince_When_Doves_Cry.mid\n",
      "Error converting midi to sequence 'NoneType' object has no attribute 'open' data/midi/v8/midi_sources/130k_reddit/P/P/police-englishman_in_new_york.mid\n",
      "Error converting midi to sequence 'NoneType' object has no attribute 'open' data/midi/v8/midi_sources/130k_reddit/P/P/penny3.mid\n",
      "Error converting midi to sequence 'NoneType' object has no attribute 'open' data/midi/v8/midi_sources/130k_reddit/P/P/Paninaro-'95.mid\n",
      "Error converting midi to sequence 'NoneType' object has no attribute 'open' data/midi/v8/midi_sources/130k_reddit/P/P/Pour-Un-Flirt-1.mid\n",
      "Error converting midi to sequence 'NoneType' object has no attribute 'open' data/midi/v8/midi_sources/130k_reddit/P/P/pop_-_put_it_in_a_love_song-alicia_keys.mid\n",
      "Error converting midi to sequence 'NoneType' object has no attribute 'open' data/midi/v8/midi_sources/130k_reddit/P/P/perdana.mid\n",
      "Error converting midi to sequence 'NoneType' object has no attribute 'open' data/midi/v8/midi_sources/130k_reddit/P/P/Paralamas__Lanterna_dos_Afogados.mid\n",
      "Error converting midi to sequence 'NoneType' object has no attribute 'open' data/midi/v8/midi_sources/130k_reddit/P/P/Player_-_Baby_Come_Back.mid\n",
      "Error converting midi to sequence 'NoneType' object has no attribute 'open' data/midi/v8/midi_sources/130k_reddit/P/P/PiuBellaCosa.mid\n",
      "Error converting midi to sequence 'NoneType' object has no attribute 'open' data/midi/v8/midi_sources/130k_reddit/P/P/PROCOL HARUM.Homburg.mid\n",
      "Error converting midi to sequence 'NoneType' object has no attribute 'open' data/midi/v8/midi_sources/130k_reddit/P/P/pintura.mid\n",
      "Error converting midi to sequence 'NoneType' object has no attribute 'open' data/midi/v8/midi_sources/130k_reddit/P/P/Prince - When Doves Cry.mid\n",
      "Error converting midi to sequence 'NoneType' object has no attribute 'open' data/midi/v8/midi_sources/130k_reddit/N/N/Nazareth_-_Love_Hurts.mid\n",
      "Error converting midi to sequence 'NoneType' object has no attribute 'open' data/midi/v8/midi_sources/130k_reddit/P/P/procura.mid\n",
      "Error converting midi to sequence 'NoneType' object has no attribute 'open' data/midi/v8/midi_sources/130k_reddit/P/P/popatop.mid\n",
      "Error converting midi to sequence 'NoneType' object has no attribute 'open' data/midi/v8/midi_sources/130k_reddit/P/P/Party-Swing-(Medley).mid\n",
      "Error converting midi to sequence 'NoneType' object has no attribute 'open' data/midi/v8/midi_sources/130k_reddit/N/N/nymphetamine [Cradle of Filth].mid\n",
      "Error converting midi to sequence 'NoneType' object has no attribute 'open' data/midi/v8/midi_sources/130k_reddit/N/N/Nah-Neh-Nah-2.mid\n",
      "Error converting midi to sequence 'NoneType' object has no attribute 'open' data/midi/v8/midi_sources/130k_reddit/N/N/Needles_and_Pins.mid\n",
      "Error converting midi to sequence 'NoneType' object has no attribute 'open' data/midi/v8/midi_sources/130k_reddit/P/P/Paso-Doble-4.mid\n"
     ]
    },
    {
     "name": "stderr",
     "output_type": "stream",
     "text": [
      "midi: WARNING: Conversion error for <MidiEvent None, t=None, track=0, channel=None>: unknown midi event type: None; ignored.\n"
     ]
    },
    {
     "name": "stdout",
     "output_type": "stream",
     "text": [
      "Error converting midi to sequence 'NoneType' object has no attribute 'open' data/midi/v8/midi_sources/130k_reddit/N/N/National Anthem - St Kitts Nevis.mid\n",
      "Error converting midi to sequence 'NoneType' object has no attribute 'open' data/midi/v8/midi_sources/130k_reddit/N/N/Nelly - Country Grammar.mid\n",
      "Error converting midi to sequence 'NoneType' object has no attribute 'open' data/midi/v8/midi_sources/130k_reddit/N/N/natural_woman2.mid\n",
      "Error converting midi to sequence 'NoneType' object has no attribute 'open' data/midi/v8/midi_sources/130k_reddit/N/N/No-Milk-Today.mid\n",
      "Error converting midi to sequence 'NoneType' object has no attribute 'open' data/midi/v8/midi_sources/130k_reddit/N/N/Norwegian-Wood-2.mid\n",
      "Error converting midi to sequence 'NoneType' object has no attribute 'open' data/midi/v8/midi_sources/130k_reddit/N/N/nodirections.mid\n",
      "Error converting midi to sequence 'NoneType' object has no attribute 'open' data/midi/v8/midi_sources/130k_reddit/N/N/No-Limit-2.mid\n"
     ]
    },
    {
     "name": "stderr",
     "output_type": "stream",
     "text": [
      "midi: WARNING: Conversion error for <MidiEvent None, t=None, track=0, channel=None>: unknown midi event type: None; ignored.\n"
     ]
    },
    {
     "name": "stdout",
     "output_type": "stream",
     "text": [
      "Error converting midi to sequence 'NoneType' object has no attribute 'open' data/midi/v8/midi_sources/130k_reddit/N/N/nelly-ei.mid\n",
      "Error converting midi to sequence 'NoneType' object has no attribute 'open' data/midi/v8/midi_sources/130k_reddit/N/N/N.COSTA.Someone to watch over me.mid\n",
      "Error converting midi to sequence 'NoneType' object has no attribute 'open' data/midi/v8/midi_sources/130k_reddit/N/N/Naughty By Nature - Jamboree.mid\n",
      "Error converting midi to sequence 'NoneType' object has no attribute 'open' data/midi/v8/midi_sources/130k_reddit/N/N/nadamais.mid\n",
      "Error converting midi to sequence 'NoneType' object has no attribute 'open' data/midi/v8/midi_sources/130k_reddit/N/N/NO MERCY.Where do you go  K.MID\n",
      "Error converting midi to sequence 'NoneType' object has no attribute 'open' data/midi/v8/midi_sources/130k_reddit/N/N/NUR_DU__.MID\n",
      "Error converting midi to sequence 'NoneType' object has no attribute 'open' data/midi/v8/midi_sources/130k_reddit/N/N/nothing_compares_to_you.mid\n",
      "Error converting midi to sequence 'NoneType' object has no attribute 'open' data/midi/v8/midi_sources/130k_reddit/N/N/naughty_boy-la_la_la_feat_sam_smith_version_2.mid\n",
      "Error converting midi to sequence 'NoneType' object has no attribute 'open' data/midi/v8/midi_sources/130k_reddit/N/N/Nothing-But-Love.mid\n"
     ]
    },
    {
     "name": "stderr",
     "output_type": "stream",
     "text": [
      "midi: WARNING: Conversion error for <MidiEvent None, t=None, track=7, channel=None>: unknown midi event type: None; ignored.\n"
     ]
    },
    {
     "name": "stdout",
     "output_type": "stream",
     "text": [
      "Error converting midi to sequence 'NoneType' object has no attribute 'open' data/midi/v8/midi_sources/130k_reddit/N/N/notte.mid\n",
      "Error converting midi to sequence 'NoneType' object has no attribute 'open' data/midi/v8/midi_sources/130k_reddit/N/N/Nursery.mid\n",
      "Error converting midi to sequence 'NoneType' object has no attribute 'open' data/midi/v8/midi_sources/130k_reddit/N/N/Never-Let-Her-Slip-Away-2.mid\n",
      "Error converting midi to sequence 'NoneType' object has no attribute 'open' data/midi/v8/midi_sources/130k_reddit/N/N/nelly_furtado-turn_off_the_light.mid\n",
      "Error converting midi to sequence 'NoneType' object has no attribute 'open' data/midi/v8/midi_sources/130k_reddit/N/N/Nocasmi.mid\n",
      "Error converting midi to sequence 'NoneType' object has no attribute 'open' data/midi/v8/midi_sources/130k_reddit/N/N/Night-In-Motion.mid\n",
      "Error converting midi to sequence 'NoneType' object has no attribute 'open' data/midi/v8/midi_sources/130k_reddit/N/N/N'SYNC.Forever young.mid\n",
      "Error converting midi to sequence 'NoneType' object has no attribute 'open' data/midi/v8/midi_sources/130k_reddit/N/N/nanghihinayang.mid\n",
      "Error converting midi to sequence 'NoneType' object has no attribute 'open' data/midi/v8/midi_sources/130k_reddit/N/N/Nelly_Country_Grammar.mid\n",
      "Error converting midi to sequence 'NoneType' object has no attribute 'open' data/midi/v8/midi_sources/130k_reddit/N/N/naughty_by_nature-holiday.mid\n",
      "Error converting midi to sequence 'NoneType' object has no attribute 'open' data/midi/v8/midi_sources/130k_reddit/N/N/nexttoo.mid\n"
     ]
    },
    {
     "name": "stderr",
     "output_type": "stream",
     "text": [
      "midi: WARNING: Conversion error for <MidiEvent None, t=None, track=10, channel=None>: unknown midi event type: None; ignored.\n",
      "midi: WARNING: Conversion error for <MidiEvent None, t=None, track=7, channel=None>: unknown midi event type: None; ignored.\n"
     ]
    },
    {
     "name": "stdout",
     "output_type": "stream",
     "text": [
      "Error converting midi to sequence 'NoneType' object has no attribute 'open' data/midi/v8/midi_sources/130k_reddit/N/N/NOW_OVER.MID\n",
      "Error converting midi to sequence 'NoneType' object has no attribute 'open' data/midi/v8/midi_sources/130k_reddit/N/N/Nothing-Compares-2-U.mid\n",
      "Error converting midi to sequence 'NoneType' object has no attribute 'open' data/midi/v8/midi_sources/130k_reddit/N/N/no_good_start_the_dance.mid\n",
      "Error converting midi to sequence 'NoneType' object has no attribute 'open' data/midi/v8/midi_sources/130k_reddit/N/N/nelly-country_grammar.mid\n",
      "Error converting midi to sequence 'NoneType' object has no attribute 'open' data/midi/v8/midi_sources/130k_reddit/N/N/New-York-New-York.mid\n",
      "Error converting midi to sequence 'NoneType' object has no attribute 'open' data/midi/v8/midi_sources/130k_reddit/N/N/Night-And-Day-1.mid\n",
      "Error converting midi to sequence 'NoneType' object has no attribute 'open' data/midi/v8/midi_sources/130k_reddit/N/N/National_Anthems_-_St_Kitts_Nevis.mid\n",
      "Error converting midi to sequence 'NoneType' object has no attribute 'open' data/midi/v8/midi_sources/130k_reddit/N/N/needlespins.mid\n",
      "Error converting midi to sequence 'NoneType' object has no attribute 'open' data/midi/v8/midi_sources/130k_reddit/N/N/NELLY.Country Grammar.mid\n",
      "Error converting midi to sequence 'NoneType' object has no attribute 'open' data/midi/v8/midi_sources/130k_reddit/N/N/Nelly_-_Country_Grammar.mid\n",
      "Error converting midi to sequence 'NoneType' object has no attribute 'open' data/midi/v8/midi_sources/130k_reddit/N/N/no_scrubs.mid\n",
      "Error converting midi to sequence 'NoneType' object has no attribute 'open' data/midi/v8/midi_sources/130k_reddit/N/N/nepurabysailors.MID\n",
      "Error converting midi to sequence 'NoneType' object has no attribute 'open' data/midi/v8/midi_sources/130k_reddit/N/N/needpins.mid\n",
      "Error converting midi to sequence 'NoneType' object has no attribute 'open' data/midi/v8/midi_sources/130k_reddit/N/N/negue.mid\n",
      "Error converting midi to sequence 'NoneType' object has no attribute 'open' data/midi/v8/midi_sources/130k_reddit/N/N/needles2.mid\n",
      "Error converting midi to sequence 'NoneType' object has no attribute 'open' data/midi/v8/midi_sources/130k_reddit/N/N/NeedlesAndPins.mid\n",
      "Error converting midi to sequence 'NoneType' object has no attribute 'open' data/midi/v8/midi_sources/130k_reddit/B/B/bday.mid\n",
      "Error converting midi to sequence 'NoneType' object has no attribute 'open' data/midi/v8/midi_sources/130k_reddit/N/N/NothingCompares.mid\n",
      "Error converting midi to sequence 'NoneType' object has no attribute 'open' data/midi/v8/midi_sources/130k_reddit/B/B/brasileira.mid\n"
     ]
    },
    {
     "name": "stderr",
     "output_type": "stream",
     "text": [
      "midi: WARNING: Conversion error for <MidiEvent None, t=None, track=0, channel=None>: unknown midi event type: None; ignored.\n"
     ]
    },
    {
     "name": "stdout",
     "output_type": "stream",
     "text": [
      "Error converting midi to sequence 'NoneType' object has no attribute 'open' data/midi/v8/midi_sources/130k_reddit/B/B/BEEGEES.Don't forget to remember.mid\n",
      "Error converting midi to sequence 'NoneType' object has no attribute 'open' data/midi/v8/midi_sources/130k_reddit/B/B/billyidol_whitewedding.mid\n",
      "Error converting midi to sequence 'NoneType' object has no attribute 'open' data/midi/v8/midi_sources/130k_reddit/B/B/BB_10_06.MID\n",
      "Error converting midi to sequence 'NoneType' object has no attribute 'open' data/midi/v8/midi_sources/130k_reddit/B/B/BRITNEY SPEARS.Where are you now.mid\n",
      "Error converting midi to sequence 'NoneType' object has no attribute 'open' data/midi/v8/midi_sources/130k_reddit/B/B/brilliantyear.mid\n",
      "Error converting midi to sequence 'NoneType' object has no attribute 'open' data/midi/v8/midi_sources/130k_reddit/B/B/B.RAITT.Nick of time.mid\n",
      "Error converting midi to sequence 'NoneType' object has no attribute 'open' data/midi/v8/midi_sources/130k_reddit/B/B/Billie-Jean-2.mid\n",
      "Error converting midi to sequence 'NoneType' object has no attribute 'open' data/midi/v8/midi_sources/130k_reddit/N/N/N.KAMEN.i promise myself K.mid\n",
      "Error converting midi to sequence 'NoneType' object has no attribute 'open' data/midi/v8/midi_sources/130k_reddit/B/B/BOWIE.The man who sold the world.mid\n",
      "Error converting midi to sequence 'NoneType' object has no attribute 'open' data/midi/v8/midi_sources/130k_reddit/B/B/bj-wanted.mid\n",
      "Error converting midi to sequence 'NoneType' object has no attribute 'open' data/midi/v8/midi_sources/130k_reddit/B/B/Bruiloftsmars-1.mid\n",
      "Error converting midi to sequence 'NoneType' object has no attribute 'open' data/midi/v8/midi_sources/130k_reddit/B/B/BON JOVI.Who said it would last forever.mid\n",
      "Error converting midi to sequence 'NoneType' object has no attribute 'open' data/midi/v8/midi_sources/130k_reddit/B/B/BeMyBaby2.mid\n",
      "Error converting midi to sequence 'NoneType' object has no attribute 'open' data/midi/v8/midi_sources/130k_reddit/B/B/bakersfield.mid\n",
      "Error converting midi to sequence 'NoneType' object has no attribute 'open' data/midi/v8/midi_sources/130k_reddit/B/B/btanjung.mid\n",
      "Error converting midi to sequence 'NoneType' object has no attribute 'open' data/midi/v8/midi_sources/130k_reddit/B/B/BadMoonRising3.mid\n",
      "Error converting midi to sequence 'NoneType' object has no attribute 'open' data/midi/v8/midi_sources/130k_reddit/B/B/Bad-Bad-Leroy-Brown-1.mid\n"
     ]
    },
    {
     "name": "stderr",
     "output_type": "stream",
     "text": [
      "midi: WARNING: Conversion error for <MidiEvent None, t=None, track=8, channel=None>: unknown midi event type: None; ignored.\n",
      "midi: WARNING: Conversion error for <MidiEvent None, t=None, track=7, channel=None>: unknown midi event type: None; ignored.\n"
     ]
    },
    {
     "name": "stdout",
     "output_type": "stream",
     "text": [
      "Error converting midi to sequence 'NoneType' object has no attribute 'open' data/midi/v8/midi_sources/130k_reddit/B/B/Beautiful-Brown-Eyes.mid\n",
      "Error converting midi to sequence 'NoneType' object has no attribute 'open' data/midi/v8/midi_sources/130k_reddit/B/B/Biker-Like-An-Icon.mid\n",
      "Error converting midi to sequence 'NoneType' object has no attribute 'open' data/midi/v8/midi_sources/130k_reddit/B/B/BBMoon.mid\n",
      "Error converting midi to sequence 'NoneType' object has no attribute 'open' data/midi/v8/midi_sources/130k_reddit/B/B/Billy_Idol_-_Rebel_Yell.mid\n",
      "Error converting midi to sequence 'NoneType' object has no attribute 'open' data/midi/v8/midi_sources/130k_reddit/B/B/BB_08_07.MID\n",
      "Error converting midi to sequence 'NoneType' object has no attribute 'open' data/midi/v8/midi_sources/130k_reddit/B/B/Bring-On-The-Night.mid\n",
      "Error converting midi to sequence 'NoneType' object has no attribute 'open' data/midi/v8/midi_sources/130k_reddit/B/B/BABELS.MID\n",
      "Error converting midi to sequence 'NoneType' object has no attribute 'open' data/midi/v8/midi_sources/130k_reddit/B/B/Brian_McKnight_-_Back_At_One.mid\n",
      "Error converting midi to sequence 'NoneType' object has no attribute 'open' data/midi/v8/midi_sources/130k_reddit/B/B/BLACKSMT.MID\n",
      "Error converting midi to sequence 'NoneType' object has no attribute 'open' data/midi/v8/midi_sources/130k_reddit/B/B/BadMoonRising4.mid\n",
      "Error converting midi to sequence 'NoneType' object has no attribute 'open' data/midi/v8/midi_sources/130k_reddit/B/B/black_eyed_peas-shut_up.mid\n",
      "Error converting midi to sequence 'NoneType' object has no attribute 'open' data/midi/v8/midi_sources/130k_reddit/B/B/BUNCHTHY.MID\n",
      "Error converting midi to sequence 'NoneType' object has no attribute 'open' data/midi/v8/midi_sources/130k_reddit/B/B/britney_spears-overprotected.mid\n",
      "Error converting midi to sequence 'NoneType' object has no attribute 'open' data/midi/v8/midi_sources/130k_reddit/B/B/B.J.THOMAS.Raindrops keep falling on my head 2.mid\n",
      "Error converting midi to sequence 'NoneType' object has no attribute 'open' data/midi/v8/midi_sources/130k_reddit/B/B/Bon_Jovi_-_Wanted_Dead_or_Alive.mid\n"
     ]
    },
    {
     "name": "stderr",
     "output_type": "stream",
     "text": [
      "midi: WARNING: Conversion error for <MidiEvent None, t=None, track=7, channel=None>: unknown midi event type: None; ignored.\n",
      "midi: WARNING: Conversion error for <MidiEvent None, t=None, track=8, channel=None>: unknown midi event type: None; ignored.\n"
     ]
    },
    {
     "name": "stdout",
     "output_type": "stream",
     "text": [
      "Error converting midi to sequence 'NoneType' object has no attribute 'open' data/midi/v8/midi_sources/130k_reddit/B/B/BubblingHot.mid\n",
      "Error converting midi to sequence 'NoneType' object has no attribute 'open' data/midi/v8/midi_sources/130k_reddit/B/B/Buona-Sera-&-Red-River-Valley-(Medley).mid\n",
      "Error converting midi to sequence 'NoneType' object has no attribute 'open' data/midi/v8/midi_sources/130k_reddit/B/B/BB_08_03.MID\n",
      "Error converting midi to sequence 'NoneType' object has no attribute 'open' data/midi/v8/midi_sources/130k_reddit/B/B/beyonce-broken_hearted_girl.mid\n",
      "Error converting midi to sequence 'NoneType' object has no attribute 'open' data/midi/v8/midi_sources/130k_reddit/B/B/BJ_Thomas_-_Raindrops_Keep_Falling.mid\n",
      "Error converting midi to sequence 'NoneType' object has no attribute 'open' data/midi/v8/midi_sources/130k_reddit/B/B/Bandie1.mid\n"
     ]
    },
    {
     "name": "stderr",
     "output_type": "stream",
     "text": [
      "midi: WARNING: Conversion error for <MidiEvent None, t=None, track=0, channel=None>: unknown midi event type: None; ignored.\n",
      "midi: WARNING: Conversion error for <MidiEvent None, t=None, track=1, channel=None>: unknown midi event type: None; ignored.\n"
     ]
    },
    {
     "name": "stdout",
     "output_type": "stream",
     "text": [
      "Error converting midi to sequence 'NoneType' object has no attribute 'open' data/midi/v8/midi_sources/130k_reddit/B/B/BRAXTON.Another sad love song.MID\n",
      "Error converting midi to sequence 'NoneType' object has no attribute 'open' data/midi/v8/midi_sources/130k_reddit/B/B/BB_06_03.MID\n",
      "Error converting midi to sequence 'NoneType' object has no attribute 'open' data/midi/v8/midi_sources/130k_reddit/B/B/BEEGEES.Sinking ships.mid\n",
      "Error converting midi to sequence 'NoneType' object has no attribute 'open' data/midi/v8/midi_sources/130k_reddit/B/B/Beach_Boys_-_In_My_Room.mid\n",
      "Error converting midi to sequence 'NoneType' object has no attribute 'open' data/midi/v8/midi_sources/130k_reddit/B/B/Born-To-Be-Wild-3.mid\n",
      "Error converting midi to sequence 'NoneType' object has no attribute 'open' data/midi/v8/midi_sources/130k_reddit/B/B/BAKERSTR.MID\n",
      "Error converting midi to sequence 'NoneType' object has no attribute 'open' data/midi/v8/midi_sources/130k_reddit/B/B/Biscaya-1.mid\n",
      "Error converting midi to sequence 'NoneType' object has no attribute 'open' data/midi/v8/midi_sources/130k_reddit/B/B/bestfrnd.mid\n",
      "Error converting midi to sequence 'NoneType' object has no attribute 'open' data/midi/v8/midi_sources/130k_reddit/B/B/Back-In-The-U-S-S-R-2.mid\n",
      "Error converting midi to sequence 'NoneType' object has no attribute 'open' data/midi/v8/midi_sources/130k_reddit/B/B/B.McNIGHT.Back at one.mid\n",
      "Error converting midi to sequence 'NoneType' object has no attribute 'open' data/midi/v8/midi_sources/130k_reddit/B/B/BLONDIE.The tide is high.MID\n",
      "Error converting midi to sequence 'NoneType' object has no attribute 'open' data/midi/v8/midi_sources/130k_reddit/B/B/Benvenutiinparadiso.mid\n",
      "Error converting midi to sequence 'NoneType' object has no attribute 'open' data/midi/v8/midi_sources/130k_reddit/B/B/Break.mid\n",
      "Error converting midi to sequence 'NoneType' object has no attribute 'open' data/midi/v8/midi_sources/130k_reddit/B/B/Bennie-And-The-Jets-2.mid\n",
      "Error converting midi to sequence 'NoneType' object has no attribute 'open' data/midi/v8/midi_sources/130k_reddit/B/B/Bad-2.mid\n"
     ]
    },
    {
     "name": "stderr",
     "output_type": "stream",
     "text": [
      "midi: WARNING: Conversion error for <MidiEvent None, t=None, track=0, channel=None>: unknown midi event type: None; ignored.\n"
     ]
    },
    {
     "name": "stdout",
     "output_type": "stream",
     "text": [
      "Error converting midi to sequence 'NoneType' object has no attribute 'open' data/midi/v8/midi_sources/130k_reddit/B/B/Beach_Boys_In_My_Room.mid\n",
      "Error converting midi to sequence 'NoneType' object has no attribute 'open' data/midi/v8/midi_sources/130k_reddit/B/B/Bossa-Nova.mid\n",
      "Error converting midi to sequence 'NoneType' object has no attribute 'open' data/midi/v8/midi_sources/130k_reddit/B/B/BackAtOne.mid\n",
      "Error converting midi to sequence 'NoneType' object has no attribute 'open' data/midi/v8/midi_sources/130k_reddit/B/B/BOYZONE.When the going gets tough.mid\n",
      "Error converting midi to sequence 'NoneType' object has no attribute 'open' data/midi/v8/midi_sources/130k_reddit/B/B/bop-on.mid\n",
      "Error converting midi to sequence 'NoneType' object has no attribute 'open' data/midi/v8/midi_sources/130k_reddit/B/B/BLUESPAN.MID\n",
      "Error converting midi to sequence 'NoneType' object has no attribute 'open' data/midi/v8/midi_sources/130k_reddit/B/B/BLACKHAWKE.I'm not strong enough.MID\n",
      "Error converting midi to sequence 'NoneType' object has no attribute 'open' data/midi/v8/midi_sources/130k_reddit/B/B/bomfunk_mcs-freestyler.mid\n",
      "Error converting midi to sequence 'NoneType' object has no attribute 'open' data/midi/v8/midi_sources/130k_reddit/B/B/BLESEMAL.MID\n",
      "Error converting midi to sequence 'NoneType' object has no attribute 'open' data/midi/v8/midi_sources/130k_reddit/B/B/bordrlin.mid\n",
      "Error converting midi to sequence 'NoneType' object has no attribute 'open' data/midi/v8/midi_sources/130k_reddit/B/B/Beatles-Nr-4-(Medley).mid\n",
      "Error converting midi to sequence 'NoneType' object has no attribute 'open' data/midi/v8/midi_sources/130k_reddit/B/B/belgique.mid\n"
     ]
    },
    {
     "name": "stderr",
     "output_type": "stream",
     "text": [
      "midi: WARNING: Conversion error for <MidiEvent None, t=None, track=7, channel=None>: unknown midi event type: None; ignored.\n"
     ]
    },
    {
     "name": "stdout",
     "output_type": "stream",
     "text": [
      "Error converting midi to sequence 'NoneType' object has no attribute 'open' data/midi/v8/midi_sources/130k_reddit/B/B/black_eyed_peas-lets_get_started.mid\n",
      "Error converting midi to sequence 'NoneType' object has no attribute 'open' data/midi/v8/midi_sources/130k_reddit/B/B/B.MCGUIRE.Eve of destruction.mid\n",
      "Error converting midi to sequence 'NoneType' object has no attribute 'open' data/midi/v8/midi_sources/130k_reddit/B/B/bobbymcgee.mid\n",
      "Error converting midi to sequence 'NoneType' object has no attribute 'open' data/midi/v8/midi_sources/130k_reddit/B/B/Blues-In-F-1.mid\n",
      "Error converting midi to sequence 'NoneType' object has no attribute 'open' data/midi/v8/midi_sources/130k_reddit/B/B/Bright-Eyes-(From-'Watership-Down').mid\n",
      "Error converting midi to sequence 'NoneType' object has no attribute 'open' data/midi/v8/midi_sources/130k_reddit/B/B/black_eyed_peas-request_line.mid\n",
      "Error converting midi to sequence 'NoneType' object has no attribute 'open' data/midi/v8/midi_sources/130k_reddit/B/B/black_eyed_peas-weekends.mid\n",
      "Error converting midi to sequence 'NoneType' object has no attribute 'open' data/midi/v8/midi_sources/130k_reddit/B/B/bourbon_street.mid\n",
      "Error converting midi to sequence 'NoneType' object has no attribute 'open' data/midi/v8/midi_sources/130k_reddit/B/B/BatOutOfHell.mid\n",
      "Error converting midi to sequence 'NoneType' object has no attribute 'open' data/midi/v8/midi_sources/130k_reddit/B/B/banahersey.mid\n",
      "Error converting midi to sequence 'NoneType' object has no attribute 'open' data/midi/v8/midi_sources/130k_reddit/B/B/BOONE.Mai,mai,Valentina.mid\n",
      "Error converting midi to sequence 'NoneType' object has no attribute 'open' data/midi/v8/midi_sources/130k_reddit/B/B/Blue-Suede-Shoes-3.mid\n",
      "Error converting midi to sequence 'NoneType' object has no attribute 'open' data/midi/v8/midi_sources/130k_reddit/B/B/barinas.mid\n",
      "Error converting midi to sequence 'NoneType' object has no attribute 'open' data/midi/v8/midi_sources/130k_reddit/B/B/Ballade-Pour-Adeline-1.mid\n",
      "Error converting midi to sequence 'NoneType' object has no attribute 'open' data/midi/v8/midi_sources/130k_reddit/B/B/Bee Gees - You Should Be Dancin'.mid\n",
      "Error converting midi to sequence 'NoneType' object has no attribute 'open' data/midi/v8/midi_sources/130k_reddit/B/B/BrightEyes.mid\n"
     ]
    },
    {
     "name": "stderr",
     "output_type": "stream",
     "text": [
      "midi: WARNING: Conversion error for <MidiEvent None, t=None, track=0, channel=None>: unknown midi event type: None; ignored.\n"
     ]
    },
    {
     "name": "stdout",
     "output_type": "stream",
     "text": [
      "Error converting midi to sequence 'NoneType' object has no attribute 'open' data/midi/v8/midi_sources/130k_reddit/B/B/billy_idol-rebel_yell.mid\n",
      "Error converting midi to sequence 'NoneType' object has no attribute 'open' data/midi/v8/midi_sources/130k_reddit/B/B/beach_boys-in_my_room.mid\n",
      "Error converting midi to sequence 'NoneType' object has no attribute 'open' data/midi/v8/midi_sources/130k_reddit/B/B/beauty09.mid\n",
      "Error converting midi to sequence 'NoneType' object has no attribute 'open' data/midi/v8/midi_sources/130k_reddit/B/B/BalladeForGS.mid\n",
      "Error converting midi to sequence 'NoneType' object has no attribute 'open' data/midi/v8/midi_sources/130k_reddit/B/B/birth2.mid\n",
      "Error converting midi to sequence 'NoneType' object has no attribute 'open' data/midi/v8/midi_sources/130k_reddit/B/B/Begin-The-Beguine-&-Strange-Paradise-(Medley).mid\n",
      "Error converting midi to sequence 'NoneType' object has no attribute 'open' data/midi/v8/midi_sources/130k_reddit/B/B/bateat.mid\n",
      "Error converting midi to sequence 'NoneType' object has no attribute 'open' data/midi/v8/midi_sources/130k_reddit/B/B/born2luvu.mid\n",
      "Error converting midi to sequence 'NoneType' object has no attribute 'open' data/midi/v8/midi_sources/130k_reddit/B/B/BJ Thomas - Raindrops Keep Falling.mid\n",
      "Error converting midi to sequence 'NoneType' object has no attribute 'open' data/midi/v8/midi_sources/130k_reddit/B/B/BeMyBaby4.mid\n",
      "Error converting midi to sequence 'NoneType' object has no attribute 'open' data/midi/v8/midi_sources/130k_reddit/B/B/BLUEYES.MID\n",
      "Error converting midi to sequence 'NoneType' object has no attribute 'open' data/midi/v8/midi_sources/130k_reddit/B/B/BadMoonRising2-CCR.mid\n",
      "Error converting midi to sequence 'NoneType' object has no attribute 'open' data/midi/v8/midi_sources/130k_reddit/B/B/blp.mid\n",
      "Error converting midi to sequence 'NoneType' object has no attribute 'open' data/midi/v8/midi_sources/130k_reddit/B/B/Blowin'-In-The-Wind.mid\n",
      "Error converting midi to sequence 'NoneType' object has no attribute 'open' data/midi/v8/midi_sources/130k_reddit/B/B/BOOMPSAD.MID\n",
      "Error converting midi to sequence 'NoneType' object has no attribute 'open' data/midi/v8/midi_sources/130k_reddit/B/B/BRITNEY SPEARS.When you' re yes say it.mid\n",
      "Error converting midi to sequence 'NoneType' object has no attribute 'open' data/midi/v8/midi_sources/130k_reddit/B/B/Bruce Hornsby - The Way It Is.mid\n",
      "Error converting midi to sequence 'NoneType' object has no attribute 'open' data/midi/v8/midi_sources/130k_reddit/B/B/Britney_Spears_-_Britney_Spears_Medley.mid\n",
      "Error converting midi to sequence 'NoneType' object has no attribute 'open' data/midi/v8/midi_sources/130k_reddit/B/B/beds-are-burning.mid\n",
      "Error converting midi to sequence 'NoneType' object has no attribute 'open' data/midi/v8/midi_sources/130k_reddit/B/B/Bravo-Megamix-Medley.mid\n",
      "Error converting midi to sequence 'NoneType' object has no attribute 'open' data/midi/v8/midi_sources/130k_reddit/B/B/BAMBA.MID\n",
      "Error converting midi to sequence 'NoneType' object has no attribute 'open' data/midi/v8/midi_sources/130k_reddit/B/B/beguinth.mid\n",
      "Error converting midi to sequence 'NoneType' object has no attribute 'open' data/midi/v8/midi_sources/130k_reddit/B/B/belaluna.mid\n",
      "Error converting midi to sequence 'NoneType' object has no attribute 'open' data/midi/v8/midi_sources/130k_reddit/B/B/BEEGEES.You win again K.mid\n",
      "Error converting midi to sequence 'NoneType' object has no attribute 'open' data/midi/v8/midi_sources/130k_reddit/B/B/BigRush.mid\n",
      "Error converting midi to sequence 'NoneType' object has no attribute 'open' data/midi/v8/midi_sources/130k_reddit/B/B/Br-o-t-w.mid\n"
     ]
    },
    {
     "name": "stderr",
     "output_type": "stream",
     "text": [
      "midi: WARNING: Conversion error for <MidiEvent None, t=None, track=1, channel=None>: unknown midi event type: None; ignored.\n"
     ]
    },
    {
     "name": "stdout",
     "output_type": "stream",
     "text": [
      "Error converting midi to sequence 'NoneType' object has no attribute 'open' data/midi/v8/midi_sources/130k_reddit/B/B/BedsAreBurning.mid\n",
      "Error converting midi to sequence 'NoneType' object has no attribute 'open' data/midi/v8/midi_sources/130k_reddit/B/B/bringon.mid\n",
      "Error converting midi to sequence 'NoneType' object has no attribute 'open' data/midi/v8/midi_sources/130k_reddit/B/B/Biscaya-3.mid\n",
      "Error converting midi to sequence 'NoneType' object has no attribute 'open' data/midi/v8/midi_sources/130k_reddit/B/B/bonusr.mid\n",
      "Error converting midi to sequence 'NoneType' object has no attribute 'open' data/midi/v8/midi_sources/130k_reddit/B/B/ben06.mid\n",
      "Error converting midi to sequence 'NoneType' object has no attribute 'open' data/midi/v8/midi_sources/130k_reddit/B/B/B.BLUE.Dancing on Saturday night.mid\n",
      "Error converting midi to sequence 'NoneType' object has no attribute 'open' data/midi/v8/midi_sources/130k_reddit/B/B/Borderline3.mid\n",
      "Error converting midi to sequence 'NoneType' object has no attribute 'open' data/midi/v8/midi_sources/130k_reddit/B/B/barry_white-youre_the_first_the_last_my_everything.mid\n",
      "Error converting midi to sequence 'NoneType' object has no attribute 'open' data/midi/v8/midi_sources/130k_reddit/B/B/BONEY M.Medley 2.mid\n",
      "Error converting midi to sequence 'NoneType' object has no attribute 'open' data/midi/v8/midi_sources/130k_reddit/B/B/BONEY M.Horray horray it's holiday.mid\n",
      "Error converting midi to sequence 'NoneType' object has no attribute 'open' data/midi/v8/midi_sources/130k_reddit/B/B/BB_06_06.MID\n",
      "Error converting midi to sequence 'NoneType' object has no attribute 'open' data/midi/v8/midi_sources/130k_reddit/B/B/bridge_over_troubled_waters.mid\n",
      "Error converting midi to sequence 'NoneType' object has no attribute 'open' data/midi/v8/midi_sources/130k_reddit/B/B/Busta_Rhymes_-_Woo_Hah.mid\n",
      "Error converting midi to sequence 'NoneType' object has no attribute 'open' data/midi/v8/midi_sources/130k_reddit/B/B/bestfren.mid\n",
      "Error converting midi to sequence 'NoneType' object has no attribute 'open' data/midi/v8/midi_sources/130k_reddit/B/B/Big-Spender.mid\n",
      "Error converting midi to sequence 'NoneType' object has no attribute 'open' data/midi/v8/midi_sources/130k_reddit/B/B/Bad2.mid\n",
      "Error converting midi to sequence 'NoneType' object has no attribute 'open' data/midi/v8/midi_sources/130k_reddit/B/B/Beach Boys - In My Room.mid\n",
      "Error converting midi to sequence 'NoneType' object has no attribute 'open' data/midi/v8/midi_sources/130k_reddit/B/B/Bowdown.mid\n",
      "Error converting midi to sequence 'NoneType' object has no attribute 'open' data/midi/v8/midi_sources/130k_reddit/B/B/BennieAndTheJets.mid\n",
      "Error converting midi to sequence 'NoneType' object has no attribute 'open' data/midi/v8/midi_sources/130k_reddit/B/B/BJ_Thomas_Raindrops_Keep_Falling_On_My_Head.mid\n",
      "Error converting midi to sequence 'NoneType' object has no attribute 'open' data/midi/v8/midi_sources/130k_reddit/B/B/BEEGEES.Lamplight.mid\n"
     ]
    },
    {
     "name": "stderr",
     "output_type": "stream",
     "text": [
      "midi: WARNING: Conversion error for <MidiEvent None, t=None, track=0, channel=None>: unknown midi event type: None; ignored.\n"
     ]
    },
    {
     "name": "stdout",
     "output_type": "stream",
     "text": [
      "Error converting midi to sequence 'NoneType' object has no attribute 'open' data/midi/v8/midi_sources/130k_reddit/B/B/bm.mid\n",
      "Error converting midi to sequence 'NoneType' object has no attribute 'open' data/midi/v8/midi_sources/130k_reddit/B/B/BRIDGEOV.MID\n",
      "Error converting midi to sequence 'NoneType' object has no attribute 'open' data/midi/v8/midi_sources/130k_reddit/B/B/bridgeover.mid\n",
      "Error converting midi to sequence 'NoneType' object has no attribute 'open' data/midi/v8/midi_sources/130k_reddit/B/B/BadMoonRising.mid\n",
      "Error converting midi to sequence 'NoneType' object has no attribute 'open' data/midi/v8/midi_sources/130k_reddit/B/B/BB Mak - Back Here.mid\n",
      "Error converting midi to sequence 'NoneType' object has no attribute 'open' data/midi/v8/midi_sources/130k_reddit/Q/Q/Queen_-_Play_the_Game.mid\n",
      "Error converting midi to sequence 'NoneType' object has no attribute 'open' data/midi/v8/midi_sources/130k_reddit/B/B/Be-My-Lover-2.mid\n",
      "Error converting midi to sequence 'NoneType' object has no attribute 'open' data/midi/v8/midi_sources/130k_reddit/Q/Q/Queen_-_You're_My_Best_Friend.mid\n",
      "Error converting midi to sequence 'NoneType' object has no attribute 'open' data/midi/v8/midi_sources/130k_reddit/Q/Q/Queen - You're My Best Friend.mid\n",
      "Error converting midi to sequence 'NoneType' object has no attribute 'open' data/midi/v8/midi_sources/130k_reddit/Q/Q/Queen_Youre_My_Best_Friend.mid\n",
      "Error converting midi to sequence 'NoneType' object has no attribute 'open' data/midi/v8/midi_sources/130k_reddit/B/B/Before.mid\n",
      "Error converting midi to sequence 'NoneType' object has no attribute 'open' data/midi/v8/midi_sources/130k_reddit/Q/Q/Queen_-_Crazy_Little_Thing_Called_Love.mid\n",
      "Error converting midi to sequence 'NoneType' object has no attribute 'open' data/midi/v8/midi_sources/130k_reddit/L/L/LRTITLE1.MID\n",
      "Error converting midi to sequence 'NoneType' object has no attribute 'open' data/midi/v8/midi_sources/130k_reddit/Q/Q/Queen-Of-The-Night.mid\n",
      "Error converting midi to sequence 'NoneType' object has no attribute 'open' data/midi/v8/midi_sources/130k_reddit/L/L/LoveIsTheDrugForMe.mid\n",
      "Error converting midi to sequence 'NoneType' object has no attribute 'open' data/midi/v8/midi_sources/130k_reddit/Q/Q/quadrlha.mid\n",
      "Error converting midi to sequence 'NoneType' object has no attribute 'open' data/midi/v8/midi_sources/130k_reddit/L/L/lagu3.mid\n",
      "Error converting midi to sequence 'NoneType' object has no attribute 'open' data/midi/v8/midi_sources/130k_reddit/L/L/LaBamba.mid\n",
      "Error converting midi to sequence 'NoneType' object has no attribute 'open' data/midi/v8/midi_sources/130k_reddit/L/L/L.RICHARD.Long tall Sally.mid\n",
      "Error converting midi to sequence 'NoneType' object has no attribute 'open' data/midi/v8/midi_sources/130k_reddit/L/L/layla09.mid\n",
      "Error converting midi to sequence 'NoneType' object has no attribute 'open' data/midi/v8/midi_sources/130k_reddit/L/L/LONELY.MID\n",
      "Error converting midi to sequence 'NoneType' object has no attribute 'open' data/midi/v8/midi_sources/130k_reddit/L/L/Limbeck.mid\n",
      "Error converting midi to sequence 'NoneType' object has no attribute 'open' data/midi/v8/midi_sources/130k_reddit/Q/Q/quando_o_sol_bater_na_janela_do_seu_quarto.mid\n",
      "Error converting midi to sequence 'NoneType' object has no attribute 'open' data/midi/v8/midi_sources/130k_reddit/L/L/Long-Cool-Woman-(In-A-Black-Dress)-1.mid\n",
      "Error converting midi to sequence 'NoneType' object has no attribute 'open' data/midi/v8/midi_sources/130k_reddit/L/L/Lean-On-Me.mid\n",
      "Error converting midi to sequence 'NoneType' object has no attribute 'open' data/midi/v8/midi_sources/130k_reddit/L/L/Letitgrw.mid\n",
      "Error converting midi to sequence 'NoneType' object has no attribute 'open' data/midi/v8/midi_sources/130k_reddit/L/L/La-Pastorella-1.mid\n",
      "Error converting midi to sequence 'NoneType' object has no attribute 'open' data/midi/v8/midi_sources/130k_reddit/L/L/local1.MID\n",
      "Error converting midi to sequence 'NoneType' object has no attribute 'open' data/midi/v8/midi_sources/130k_reddit/L/L/liberean_girl.mid\n",
      "Error converting midi to sequence 'NoneType' object has no attribute 'open' data/midi/v8/midi_sources/130k_reddit/L/L/lion_sleeps_tonighttokens.mid\n",
      "Error converting midi to sequence 'NoneType' object has no attribute 'open' data/midi/v8/midi_sources/130k_reddit/L/L/Laissemoiaimer.mid\n",
      "Error converting midi to sequence 'NoneType' object has no attribute 'open' data/midi/v8/midi_sources/130k_reddit/L/L/ladyinred04.mid\n",
      "Error converting midi to sequence 'NoneType' object has no attribute 'open' data/midi/v8/midi_sources/130k_reddit/L/L/LadyInRed4.mid\n",
      "Error converting midi to sequence 'NoneType' object has no attribute 'open' data/midi/v8/midi_sources/130k_reddit/L/L/light05.mid\n",
      "Error converting midi to sequence 'NoneType' object has no attribute 'open' data/midi/v8/midi_sources/130k_reddit/L/L/lilwing.mid\n",
      "Error converting midi to sequence 'NoneType' object has no attribute 'open' data/midi/v8/midi_sources/130k_reddit/L/L/LYINEYES.MID\n",
      "Error converting midi to sequence 'NoneType' object has no attribute 'open' data/midi/v8/midi_sources/130k_reddit/L/L/LRJUNGL1.MID\n",
      "Error converting midi to sequence 'NoneType' object has no attribute 'open' data/midi/v8/midi_sources/130k_reddit/L/L/living_years.mid\n",
      "Error converting midi to sequence 'NoneType' object has no attribute 'open' data/midi/v8/midi_sources/130k_reddit/L/L/labamba03.mid\n",
      "Error converting midi to sequence 'NoneType' object has no attribute 'open' data/midi/v8/midi_sources/130k_reddit/L/L/Let-It-Be-3.mid\n",
      "Error converting midi to sequence 'NoneType' object has no attribute 'open' data/midi/v8/midi_sources/130k_reddit/L/L/Lacrimosa - Stolzes Herz.mid\n",
      "Error converting midi to sequence 'NoneType' object has no attribute 'open' data/midi/v8/midi_sources/130k_reddit/L/L/Liebes-Kummer-Lohnt-Sich-Nicht-4.mid\n",
      "Error converting midi to sequence 'NoneType' object has no attribute 'open' data/midi/v8/midi_sources/130k_reddit/L/L/laboheme2.mid\n"
     ]
    },
    {
     "name": "stderr",
     "output_type": "stream",
     "text": [
      "midi: WARNING: Conversion error for <MidiEvent None, t=None, track=0, channel=None>: unknown midi event type: None; ignored.\n"
     ]
    },
    {
     "name": "stdout",
     "output_type": "stream",
     "text": [
      "Error converting midi to sequence 'NoneType' object has no attribute 'open' data/midi/v8/midi_sources/130k_reddit/L/L/Lonesome-Road.mid\n",
      "Error converting midi to sequence 'NoneType' object has no attribute 'open' data/midi/v8/midi_sources/130k_reddit/L/L/lovemetender2.mid\n",
      "Error converting midi to sequence 'NoneType' object has no attribute 'open' data/midi/v8/midi_sources/130k_reddit/L/L/ladyred2.mid\n",
      "Error converting midi to sequence 'NoneType' object has no attribute 'open' data/midi/v8/midi_sources/130k_reddit/L/L/LAST_FLW.MID\n",
      "Error converting midi to sequence 'NoneType' object has no attribute 'open' data/midi/v8/midi_sources/130k_reddit/L/L/liviu_hodor-sweet_love_feat_mona.mid\n",
      "Error converting midi to sequence 'NoneType' object has no attribute 'open' data/midi/v8/midi_sources/130k_reddit/L/L/locomotion06.mid\n",
      "Error converting midi to sequence 'NoneType' object has no attribute 'open' data/midi/v8/midi_sources/130k_reddit/L/L/lenny_kravitz-where_are_we_runnin.mid\n",
      "Error converting midi to sequence 'NoneType' object has no attribute 'open' data/midi/v8/midi_sources/130k_reddit/L/L/latin5.mid\n",
      "Error converting midi to sequence 'NoneType' object has no attribute 'open' data/midi/v8/midi_sources/130k_reddit/L/L/LRMENU1.MID\n",
      "Error converting midi to sequence 'NoneType' object has no attribute 'open' data/midi/v8/midi_sources/130k_reddit/L/L/Lady-In-Red-3.mid\n",
      "Error converting midi to sequence 'NoneType' object has no attribute 'open' data/midi/v8/midi_sources/130k_reddit/L/L/LadyInMyLife2.mid\n",
      "Error converting midi to sequence 'NoneType' object has no attribute 'open' data/midi/v8/midi_sources/130k_reddit/L/L/Little-Red-Corvette.mid\n",
      "Error converting midi to sequence 'NoneType' object has no attribute 'open' data/midi/v8/midi_sources/130k_reddit/L/L/Laid.mid\n",
      "Error converting midi to sequence 'NoneType' object has no attribute 'open' data/midi/v8/midi_sources/130k_reddit/L/L/LaCucaracha.mid\n",
      "Error converting midi to sequence 'NoneType' object has no attribute 'open' data/midi/v8/midi_sources/130k_reddit/L/L/LonelyHeart.mid\n",
      "Error converting midi to sequence 'NoneType' object has no attribute 'open' data/midi/v8/midi_sources/130k_reddit/L/L/LONLYSDE.MID\n",
      "Error converting midi to sequence 'NoneType' object has no attribute 'open' data/midi/v8/midi_sources/130k_reddit/L/L/lovehurts2.mid\n",
      "Error converting midi to sequence 'NoneType' object has no attribute 'open' data/midi/v8/midi_sources/130k_reddit/L/L/Loco-In-Acapulco-2.mid\n",
      "Error converting midi to sequence 'NoneType' object has no attribute 'open' data/midi/v8/midi_sources/130k_reddit/L/L/LivingNextDoorToAlice.mid\n",
      "Error converting midi to sequence 'NoneType' object has no attribute 'open' data/midi/v8/midi_sources/130k_reddit/L/L/LAILOLA.MID\n",
      "Error converting midi to sequence 'NoneType' object has no attribute 'open' data/midi/v8/midi_sources/130k_reddit/L/L/labamba08.mid\n",
      "Error converting midi to sequence 'NoneType' object has no attribute 'open' data/midi/v8/midi_sources/130k_reddit/L/L/LikeAVirgin4.mid\n"
     ]
    },
    {
     "name": "stderr",
     "output_type": "stream",
     "text": [
      "midi: WARNING: Conversion error for <MidiEvent None, t=None, track=6, channel=None>: unknown midi event type: None; ignored.\n"
     ]
    },
    {
     "name": "stdout",
     "output_type": "stream",
     "text": [
      "Error converting midi to sequence 'NoneType' object has no attribute 'open' data/midi/v8/midi_sources/130k_reddit/L/L/Luv-4-Luv-2.mid\n",
      "Error converting midi to sequence 'NoneType' object has no attribute 'open' data/midi/v8/midi_sources/130k_reddit/L/L/labamba05.mid\n",
      "Error converting midi to sequence 'NoneType' object has no attribute 'open' data/midi/v8/midi_sources/130k_reddit/L/L/labamba09.mid\n",
      "Error converting midi to sequence 'NoneType' object has no attribute 'open' data/midi/v8/midi_sources/130k_reddit/L/L/L'Amour-Est-Blue-(Love-Is-Blue).mid\n",
      "Error converting midi to sequence 'NoneType' object has no attribute 'open' data/midi/v8/midi_sources/130k_reddit/L/L/litefire3.mid\n",
      "Error converting midi to sequence 'NoneType' object has no attribute 'open' data/midi/v8/midi_sources/130k_reddit/L/L/LADYMAD.MID\n",
      "Error converting midi to sequence 'NoneType' object has no attribute 'open' data/midi/v8/midi_sources/130k_reddit/L/L/LAMBAMIX.MID\n",
      "Error converting midi to sequence 'NoneType' object has no attribute 'open' data/midi/v8/midi_sources/130k_reddit/L/L/LOW_FLY.MID\n",
      "Error converting midi to sequence 'NoneType' object has no attribute 'open' data/midi/v8/midi_sources/130k_reddit/L/L/lublind.mid\n",
      "Error converting midi to sequence 'NoneType' object has no attribute 'open' data/midi/v8/midi_sources/130k_reddit/L/L/Lady-Madonna-3.mid\n",
      "Error converting midi to sequence 'NoneType' object has no attribute 'open' data/midi/v8/midi_sources/130k_reddit/L/L/lordinvite.mid\n",
      "Error converting midi to sequence 'NoneType' object has no attribute 'open' data/midi/v8/midi_sources/130k_reddit/L/L/Love-Machine-(Part-1).mid\n",
      "Error converting midi to sequence 'NoneType' object has no attribute 'open' data/midi/v8/midi_sources/130k_reddit/L/L/LIFE-3.MID\n",
      "Error converting midi to sequence 'NoneType' object has no attribute 'open' data/midi/v8/midi_sources/130k_reddit/L/L/latin2.mid\n",
      "Error converting midi to sequence 'NoneType' object has no attribute 'open' data/midi/v8/midi_sources/130k_reddit/L/L/Loucapaixao.mid\n",
      "Error converting midi to sequence 'NoneType' object has no attribute 'open' data/midi/v8/midi_sources/130k_reddit/L/L/LandOfConfusion.mid\n",
      "Error converting midi to sequence 'NoneType' object has no attribute 'open' data/midi/v8/midi_sources/130k_reddit/L/L/LoveSomebody.mid\n",
      "Error converting midi to sequence 'NoneType' object has no attribute 'open' data/midi/v8/midi_sources/130k_reddit/L/L/little_wing.mid\n",
      "Error converting midi to sequence 'NoneType' object has no attribute 'open' data/midi/v8/midi_sources/130k_reddit/L/L/LENNON.Mind games.mid\n"
     ]
    },
    {
     "name": "stderr",
     "output_type": "stream",
     "text": [
      "midi: WARNING: Conversion error for <MidiEvent None, t=None, track=0, channel=None>: unknown midi event type: None; ignored.\n"
     ]
    },
    {
     "name": "stdout",
     "output_type": "stream",
     "text": [
      "Error converting midi to sequence 'NoneType' object has no attribute 'open' data/midi/v8/midi_sources/130k_reddit/L/L/LadyInRed5.mid\n",
      "Error converting midi to sequence 'NoneType' object has no attribute 'open' data/midi/v8/midi_sources/130k_reddit/L/L/lastflower.mid\n",
      "Error converting midi to sequence 'NoneType' object has no attribute 'open' data/midi/v8/midi_sources/130k_reddit/L/L/Living-On-A-Jetplane.mid\n",
      "Error converting midi to sequence 'NoneType' object has no attribute 'open' data/midi/v8/midi_sources/130k_reddit/L/L/Lasst-Uns-Tanzen-&-Swanee-River.mid\n"
     ]
    },
    {
     "name": "stderr",
     "output_type": "stream",
     "text": [
      "midi: WARNING: Conversion error for <MidiEvent None, t=None, track=0, channel=None>: unknown midi event type: None; ignored.\n"
     ]
    },
    {
     "name": "stdout",
     "output_type": "stream",
     "text": [
      "Error converting midi to sequence 'NoneType' object has no attribute 'open' data/midi/v8/midi_sources/130k_reddit/L/L/Lucifer-2.mid\n",
      "Error converting midi to sequence 'NoneType' object has no attribute 'open' data/midi/v8/midi_sources/130k_reddit/L/L/Lady-In-Red-4.mid\n",
      "Error converting midi to sequence 'NoneType' object has no attribute 'open' data/midi/v8/midi_sources/130k_reddit/L/L/Let-It-Snow-Let-It-Snow-3.mid\n",
      "Error converting midi to sequence 'NoneType' object has no attribute 'open' data/midi/v8/midi_sources/130k_reddit/L/L/La-Voix-D'Elvis.mid\n",
      "Error converting midi to sequence 'NoneType' object has no attribute 'open' data/midi/v8/midi_sources/130k_reddit/L/L/liberar_geral.mid\n",
      "Error converting midi to sequence 'NoneType' object has no attribute 'open' data/midi/v8/midi_sources/130k_reddit/L/L/Love's-About-To-Change-My-Heart.mid\n",
      "Error converting midi to sequence 'NoneType' object has no attribute 'open' data/midi/v8/midi_sources/130k_reddit/L/L/lonestar.mid\n",
      "Error converting midi to sequence 'NoneType' object has no attribute 'open' data/midi/v8/midi_sources/130k_reddit/L/L/Lemoned.mid\n",
      "Error converting midi to sequence 'NoneType' object has no attribute 'open' data/midi/v8/midi_sources/130k_reddit/Guitar_midkar.com_MIDIRip/jazz/what_me_worry_am.mid\n",
      "Error converting midi to sequence 'NoneType' object has no attribute 'open' data/midi/v8/midi_sources/130k_reddit/L/L/LATINMIX.MID\n",
      "Error converting midi to sequence 'NoneType' object has no attribute 'open' data/midi/v8/midi_sources/130k_reddit/Guitar_midkar.com_MIDIRip/jazz/bellavia-Mangione_ee.mid\n",
      "Error converting midi to sequence 'NoneType' object has no attribute 'open' data/midi/v8/midi_sources/130k_reddit/Guitar_midkar.com_MIDIRip/jazz/some_regrets_am.mid\n",
      "Error converting midi to sequence 'NoneType' object has no attribute 'open' data/midi/v8/midi_sources/130k_reddit/Guitar_midkar.com_MIDIRip/jazz/footsteps_gc2.mid\n",
      "Error converting midi to sequence 'NoneType' object has no attribute 'open' data/midi/v8/midi_sources/130k_reddit/Guitar_midkar.com_MIDIRip/jazz/monsoon_over_rangoon_am.mid\n",
      "Error converting midi to sequence 'NoneType' object has no attribute 'open' data/midi/v8/midi_sources/130k_reddit/Guitar_midkar.com_MIDIRip/poprock/so_slow-freestyle_ding.mid\n",
      "Error converting midi to sequence 'NoneType' object has no attribute 'open' data/midi/v8/midi_sources/130k_reddit/Guitar_midkar.com_MIDIRip/gospel/he_gc2.mid\n",
      "Error converting midi to sequence 'NoneType' object has no attribute 'open' data/midi/v8/midi_sources/130k_reddit/M/M/MSLH8_07.MID\n",
      "Error converting midi to sequence 'NoneType' object has no attribute 'open' data/midi/v8/midi_sources/130k_reddit/M/M/MSK06_04.MID\n",
      "Error converting midi to sequence 'NoneType' object has no attribute 'open' data/midi/v8/midi_sources/130k_reddit/M/M/Madonna_-_Secret.mid\n",
      "Error converting midi to sequence 'NoneType' object has no attribute 'open' data/midi/v8/midi_sources/130k_reddit/M/M/MSLB2_03.MID\n",
      "Error converting midi to sequence 'NoneType' object has no attribute 'open' data/midi/v8/midi_sources/130k_reddit/M/M/money3x.mid\n",
      "Error converting midi to sequence 'NoneType' object has no attribute 'open' data/midi/v8/midi_sources/130k_reddit/M/M/myheartbelongstome.mid\n",
      "Error converting midi to sequence 'NoneType' object has no attribute 'open' data/midi/v8/midi_sources/130k_reddit/M/M/MSK06_02.MID\n",
      "Error converting midi to sequence 'NoneType' object has no attribute 'open' data/midi/v8/midi_sources/130k_reddit/M/M/mayo4.mid\n",
      "Error converting midi to sequence 'NoneType' object has no attribute 'open' data/midi/v8/midi_sources/130k_reddit/Guitar_midkar.com_MIDIRip/country/these_boots_are_made_for_walking_gc2.mid\n",
      "Error converting midi to sequence 'NoneType' object has no attribute 'open' data/midi/v8/midi_sources/130k_reddit/M/M/midi192.mid\n",
      "Error converting midi to sequence 'NoneType' object has no attribute 'open' data/midi/v8/midi_sources/130k_reddit/M/M/meetmehalfway.mid\n",
      "Error converting midi to sequence 'NoneType' object has no attribute 'open' data/midi/v8/midi_sources/130k_reddit/M/M/MeAndBobbyMcGee.mid\n",
      "Error converting midi to sequence 'NoneType' object has no attribute 'open' data/midi/v8/midi_sources/130k_reddit/M/M/MoonBourbon.mid\n",
      "Error converting midi to sequence 'NoneType' object has no attribute 'open' data/midi/v8/midi_sources/130k_reddit/M/M/MSK05_07.MID\n",
      "Error converting midi to sequence 'NoneType' object has no attribute 'open' data/midi/v8/midi_sources/130k_reddit/M/M/MIDIGS_7.MID\n",
      "Error converting midi to sequence 'NoneType' object has no attribute 'open' data/midi/v8/midi_sources/130k_reddit/M/M/money09.mid\n",
      "Error converting midi to sequence 'NoneType' object has no attribute 'open' data/midi/v8/midi_sources/130k_reddit/M/M/meetmehalfway2.mid\n",
      "Error converting midi to sequence 'NoneType' object has no attribute 'open' data/midi/v8/midi_sources/130k_reddit/M/M/ManInTheMirror4.mid\n",
      "Error converting midi to sequence 'NoneType' object has no attribute 'open' data/midi/v8/midi_sources/130k_reddit/M/M/MSK05_02.MID\n",
      "Error converting midi to sequence 'NoneType' object has no attribute 'open' data/midi/v8/midi_sources/130k_reddit/M/M/m7.mid\n",
      "Error converting midi to sequence 'NoneType' object has no attribute 'open' data/midi/v8/midi_sources/130k_reddit/M/M/Midnight_Oil_-_Beds_are_Burning.mid\n",
      "Error converting midi to sequence 'NoneType' object has no attribute 'open' data/midi/v8/midi_sources/130k_reddit/M/M/MIDIGS_2.MID\n",
      "Error converting midi to sequence 'NoneType' object has no attribute 'open' data/midi/v8/midi_sources/130k_reddit/M/M/MARIAELE.MID\n",
      "Error converting midi to sequence 'NoneType' object has no attribute 'open' data/midi/v8/midi_sources/130k_reddit/M/M/MSK06_01.MID\n",
      "Error converting midi to sequence 'NoneType' object has no attribute 'open' data/midi/v8/midi_sources/130k_reddit/M/M/Michael Jackson - Thriller.mid\n",
      "Error converting midi to sequence 'NoneType' object has no attribute 'open' data/midi/v8/midi_sources/130k_reddit/M/M/mystgirl.mid\n",
      "Error converting midi to sequence 'NoneType' object has no attribute 'open' data/midi/v8/midi_sources/130k_reddit/M/M/music-57.mid\n",
      "Error converting midi to sequence 'NoneType' object has no attribute 'open' data/midi/v8/midi_sources/130k_reddit/M/M/Michael Jackson - Off the Wall.mid\n"
     ]
    },
    {
     "name": "stderr",
     "output_type": "stream",
     "text": [
      "midi: WARNING: Conversion error for <MidiEvent None, t=None, track=9, channel=None>: unknown midi event type: None; ignored.\n"
     ]
    },
    {
     "name": "stdout",
     "output_type": "stream",
     "text": [
      "Error converting midi to sequence 'NoneType' object has no attribute 'open' data/midi/v8/midi_sources/130k_reddit/M/M/MSLH8_06.MID\n",
      "Error converting midi to sequence 'NoneType' object has no attribute 'open' data/midi/v8/midi_sources/130k_reddit/M/M/MYBLUHVN.MID\n",
      "Error converting midi to sequence 'NoneType' object has no attribute 'open' data/midi/v8/midi_sources/130k_reddit/M/M/Mrs-Robinson-1.mid\n",
      "Error converting midi to sequence 'NoneType' object has no attribute 'open' data/midi/v8/midi_sources/130k_reddit/M/M/masterboy-feel_the_heat.mid\n",
      "Error converting midi to sequence 'NoneType' object has no attribute 'open' data/midi/v8/midi_sources/130k_reddit/M/M/MAMBO-5.MID\n",
      "Error converting midi to sequence 'NoneType' object has no attribute 'open' data/midi/v8/midi_sources/130k_reddit/M/M/Money-Money-Money-5.mid\n",
      "Error converting midi to sequence 'NoneType' object has no attribute 'open' data/midi/v8/midi_sources/130k_reddit/M/M/MAMBO-6.MID\n",
      "Error converting midi to sequence 'NoneType' object has no attribute 'open' data/midi/v8/midi_sources/130k_reddit/M/M/Mach-Was-Du-Wilst-2.mid\n"
     ]
    },
    {
     "name": "stderr",
     "output_type": "stream",
     "text": [
      "midi: WARNING: Conversion error for <MidiEvent None, t=None, track=0, channel=None>: unknown midi event type: None; ignored.\n"
     ]
    },
    {
     "name": "stdout",
     "output_type": "stream",
     "text": [
      "Error converting midi to sequence 'NoneType' object has no attribute 'open' data/midi/v8/midi_sources/130k_reddit/M/M/Manhattans_-_Kiss_and_Say_Goodbye.mid\n"
     ]
    },
    {
     "name": "stderr",
     "output_type": "stream",
     "text": [
      "midi: WARNING: Conversion error for <MidiEvent None, t=None, track=0, channel=None>: unknown midi event type: None; ignored.\n"
     ]
    },
    {
     "name": "stdout",
     "output_type": "stream",
     "text": [
      "Error converting midi to sequence 'NoneType' object has no attribute 'open' data/midi/v8/midi_sources/130k_reddit/M/M/Musical-Joke-1.mid\n",
      "Error converting midi to sequence 'NoneType' object has no attribute 'open' data/midi/v8/midi_sources/130k_reddit/M/M/MSLB2_07.MID\n",
      "Error converting midi to sequence 'NoneType' object has no attribute 'open' data/midi/v8/midi_sources/130k_reddit/M/M/MIDDLE OF THE ROAD.Chirpy chirpy cheep cheep.MID\n",
      "Error converting midi to sequence 'NoneType' object has no attribute 'open' data/midi/v8/midi_sources/130k_reddit/M/M/Movie_Themes_-_Toy_Story.mid\n",
      "Error converting midi to sequence 'NoneType' object has no attribute 'open' data/midi/v8/midi_sources/130k_reddit/M/M/M.BIANCO.Get out of your lazy bed.mid\n",
      "Error converting midi to sequence 'NoneType' object has no attribute 'open' data/midi/v8/midi_sources/130k_reddit/M/M/Maximum-Overdrive-2.mid\n",
      "Error converting midi to sequence 'NoneType' object has no attribute 'open' data/midi/v8/midi_sources/130k_reddit/M/M/moshicahmidi.mid\n",
      "Error converting midi to sequence 'NoneType' object has no attribute 'open' data/midi/v8/midi_sources/130k_reddit/M/M/My-Sharona.mid\n"
     ]
    },
    {
     "name": "stderr",
     "output_type": "stream",
     "text": [
      "midi: WARNING: Conversion error for <MidiEvent None, t=None, track=0, channel=None>: unknown midi event type: None; ignored.\n",
      "midi: WARNING: Conversion error for <MidiEvent None, t=None, track=0, channel=None>: unknown midi event type: None; ignored.\n"
     ]
    },
    {
     "name": "stdout",
     "output_type": "stream",
     "text": [
      "Error converting midi to sequence 'NoneType' object has no attribute 'open' data/midi/v8/midi_sources/130k_reddit/M/M/MIDIMJ_8.MID\n",
      "Error converting midi to sequence 'NoneType' object has no attribute 'open' data/midi/v8/midi_sources/130k_reddit/M/M/mygirl-3.mid\n",
      "Error converting midi to sequence 'NoneType' object has no attribute 'open' data/midi/v8/midi_sources/130k_reddit/M/M/Marilyn_Manson_-_The_Dope_Show.mid\n",
      "Error converting midi to sequence 'NoneType' object has no attribute 'open' data/midi/v8/midi_sources/130k_reddit/M/M/M.MANSON.The dope show.mid\n",
      "Error converting midi to sequence 'NoneType' object has no attribute 'open' data/midi/v8/midi_sources/130k_reddit/M/M/MIDDLE OF THE ROAD.Soley soley.MID\n",
      "Error converting midi to sequence 'NoneType' object has no attribute 'open' data/midi/v8/midi_sources/130k_reddit/M/M/MALAIKA.MID\n",
      "Error converting midi to sequence 'NoneType' object has no attribute 'open' data/midi/v8/midi_sources/130k_reddit/M/M/myfriend2.mid\n",
      "Error converting midi to sequence 'NoneType' object has no attribute 'open' data/midi/v8/midi_sources/130k_reddit/M/M/MOON_B.MID\n",
      "Error converting midi to sequence 'NoneType' object has no attribute 'open' data/midi/v8/midi_sources/130k_reddit/M/M/Mister-Santa-Claus.mid\n",
      "Error converting midi to sequence 'NoneType' object has no attribute 'open' data/midi/v8/midi_sources/130k_reddit/M/M/madonna-like_a_virgin.mid\n",
      "Error converting midi to sequence 'NoneType' object has no attribute 'open' data/midi/v8/midi_sources/130k_reddit/M/M/Moon-river-&-Are-You-Lonesome-Tonight-(Langzame Wals).mid\n",
      "Error converting midi to sequence 'NoneType' object has no attribute 'open' data/midi/v8/midi_sources/130k_reddit/M/M/Movie_Themes_-_Dirty_Dancing_-_I've_Had_the_Time_of_My_Life.mid\n",
      "Error converting midi to sequence 'NoneType' object has no attribute 'open' data/midi/v8/midi_sources/130k_reddit/M/M/Moon-Over-Bourbon-Street-1.mid\n",
      "Error converting midi to sequence 'NoneType' object has no attribute 'open' data/midi/v8/midi_sources/130k_reddit/M/M/M.BIANCO.Half a minute.mid\n",
      "Error converting midi to sequence 'NoneType' object has no attribute 'open' data/midi/v8/midi_sources/130k_reddit/M/M/Money-Money-Money-4.mid\n",
      "Error converting midi to sequence 'NoneType' object has no attribute 'open' data/midi/v8/midi_sources/130k_reddit/M/M/mygirl-a.mid\n",
      "Error converting midi to sequence 'NoneType' object has no attribute 'open' data/midi/v8/midi_sources/130k_reddit/M/M/madonna-ameerican_life.mid\n",
      "Error converting midi to sequence 'NoneType' object has no attribute 'open' data/midi/v8/midi_sources/130k_reddit/M/M/Message in a bottle.mid\n",
      "Error converting midi to sequence 'NoneType' object has no attribute 'open' data/midi/v8/midi_sources/130k_reddit/M/M/madonna-rescue_me.mid\n",
      "Error converting midi to sequence 'NoneType' object has no attribute 'open' data/midi/v8/midi_sources/130k_reddit/M/M/MOMENTS.MID\n"
     ]
    },
    {
     "name": "stderr",
     "output_type": "stream",
     "text": [
      "midi: WARNING: Conversion error for <MidiEvent None, t=None, track=0, channel=None>: unknown midi event type: None; ignored.\n"
     ]
    },
    {
     "name": "stdout",
     "output_type": "stream",
     "text": [
      "Error converting midi to sequence 'NoneType' object has no attribute 'open' data/midi/v8/midi_sources/130k_reddit/M/M/mamatry.mid\n",
      "Error converting midi to sequence 'NoneType' object has no attribute 'open' data/midi/v8/midi_sources/130k_reddit/M/M/Movie_Themes_-_X_Files_The_Movie.mid\n",
      "Error converting midi to sequence 'NoneType' object has no attribute 'open' data/midi/v8/midi_sources/130k_reddit/M/M/MSLB2_02.MID\n",
      "Error converting midi to sequence 'NoneType' object has no attribute 'open' data/midi/v8/midi_sources/130k_reddit/M/M/MSLH8_01.MID\n",
      "Error converting midi to sequence 'NoneType' object has no attribute 'open' data/midi/v8/midi_sources/130k_reddit/M/M/MSLB2_05.MID\n",
      "Error converting midi to sequence 'NoneType' object has no attribute 'open' data/midi/v8/midi_sources/130k_reddit/M/M/music-54.mid\n"
     ]
    },
    {
     "name": "stderr",
     "output_type": "stream",
     "text": [
      "midi: WARNING: Conversion error for <MidiEvent None, t=None, track=8, channel=None>: unknown midi event type: None; ignored.\n"
     ]
    },
    {
     "name": "stdout",
     "output_type": "stream",
     "text": [
      "Error converting midi to sequence 'NoneType' object has no attribute 'open' data/midi/v8/midi_sources/130k_reddit/M/M/Mamma-Mia.mid\n"
     ]
    },
    {
     "name": "stderr",
     "output_type": "stream",
     "text": [
      "midi: WARNING: Conversion error for <MidiEvent None, t=None, track=0, channel=None>: unknown midi event type: None; ignored.\n"
     ]
    },
    {
     "name": "stdout",
     "output_type": "stream",
     "text": [
      "Error converting midi to sequence 'NoneType' object has no attribute 'open' data/midi/v8/midi_sources/130k_reddit/M/M/MadJester.mid\n",
      "Error converting midi to sequence 'NoneType' object has no attribute 'open' data/midi/v8/midi_sources/130k_reddit/M/M/MSLB2_04.MID\n",
      "Error converting midi to sequence 'NoneType' object has no attribute 'open' data/midi/v8/midi_sources/130k_reddit/M/M/Me-And-You-And-The-Dog-Named-Boo.mid\n",
      "Error converting midi to sequence 'NoneType' object has no attribute 'open' data/midi/v8/midi_sources/130k_reddit/M/M/musica05.mid\n",
      "Error converting midi to sequence 'NoneType' object has no attribute 'open' data/midi/v8/midi_sources/130k_reddit/M/M/Marilyn Manson - The Dope Show.mid\n",
      "Error converting midi to sequence 'NoneType' object has no attribute 'open' data/midi/v8/midi_sources/130k_reddit/M/M/Massachusettes-1.mid\n",
      "Error converting midi to sequence 'NoneType' object has no attribute 'open' data/midi/v8/midi_sources/130k_reddit/M/M/madonna-deeper_and_deeper.mid\n",
      "Error converting midi to sequence 'NoneType' object has no attribute 'open' data/midi/v8/midi_sources/130k_reddit/M/M/mozclar2.mid\n",
      "Error converting midi to sequence 'NoneType' object has no attribute 'open' data/midi/v8/midi_sources/130k_reddit/M/M/madonna-get_into_the_groove.mid\n",
      "Error converting midi to sequence 'NoneType' object has no attribute 'open' data/midi/v8/midi_sources/130k_reddit/M/M/madonna-frozen.mid\n",
      "Error converting midi to sequence 'NoneType' object has no attribute 'open' data/midi/v8/midi_sources/130k_reddit/M/M/misery3.mid\n",
      "Error converting midi to sequence 'NoneType' object has no attribute 'open' data/midi/v8/midi_sources/130k_reddit/M/M/MSK05_01.MID\n",
      "Error converting midi to sequence 'NoneType' object has no attribute 'open' data/midi/v8/midi_sources/130k_reddit/M/M/Money-2.mid\n",
      "Error converting midi to sequence 'NoneType' object has no attribute 'open' data/midi/v8/midi_sources/130k_reddit/M/M/Moon-River-2.mid\n",
      "Error converting midi to sequence 'NoneType' object has no attribute 'open' data/midi/v8/midi_sources/130k_reddit/M/M/music59.mid\n",
      "Error converting midi to sequence 'NoneType' object has no attribute 'open' data/midi/v8/midi_sources/130k_reddit/M/M/Michelle-2.mid\n",
      "Error converting midi to sequence 'NoneType' object has no attribute 'open' data/midi/v8/midi_sources/130k_reddit/M/M/Madonna_-_Rain.mid\n",
      "Error converting midi to sequence 'NoneType' object has no attribute 'open' data/midi/v8/midi_sources/130k_reddit/M/M/Mexican-Hat-Dance.mid\n"
     ]
    },
    {
     "name": "stderr",
     "output_type": "stream",
     "text": [
      "midi: WARNING: Conversion error for <MidiEvent None, t=None, track=0, channel=None>: unknown midi event type: None; ignored.\n"
     ]
    },
    {
     "name": "stdout",
     "output_type": "stream",
     "text": [
      "Error converting midi to sequence 'NoneType' object has no attribute 'open' data/midi/v8/midi_sources/130k_reddit/M/M/mds64rim.mid\n",
      "Error converting midi to sequence 'NoneType' object has no attribute 'open' data/midi/v8/midi_sources/130k_reddit/M/M/MSK05_10.MID\n",
      "Error converting midi to sequence 'NoneType' object has no attribute 'open' data/midi/v8/midi_sources/130k_reddit/M/M/midi11.mid\n",
      "Error converting midi to sequence 'NoneType' object has no attribute 'open' data/midi/v8/midi_sources/130k_reddit/M/M/macavity.mid\n",
      "Error converting midi to sequence 'NoneType' object has no attribute 'open' data/midi/v8/midi_sources/130k_reddit/M/M/mano.mid\n",
      "Error converting midi to sequence 'NoneType' object has no attribute 'open' data/midi/v8/midi_sources/130k_reddit/M/M/MSK05_06.MID\n",
      "Error converting midi to sequence 'NoneType' object has no attribute 'open' data/midi/v8/midi_sources/130k_reddit/M/M/Madonna_-_The_Power_Of_Goodbye.mid\n",
      "Error converting midi to sequence 'NoneType' object has no attribute 'open' data/midi/v8/midi_sources/130k_reddit/M/M/MSLH8_05.MID\n",
      "Error converting midi to sequence 'NoneType' object has no attribute 'open' data/midi/v8/midi_sources/130k_reddit/M/M/Memories-Are-Made-Of-This.mid\n",
      "Error converting midi to sequence 'NoneType' object has no attribute 'open' data/midi/v8/midi_sources/130k_reddit/M/M/MELANCHO.MID\n",
      "Error converting midi to sequence 'NoneType' object has no attribute 'open' data/midi/v8/midi_sources/130k_reddit/M/M/madonna-rain.mid\n",
      "Error converting midi to sequence 'NoneType' object has no attribute 'open' data/midi/v8/midi_sources/130k_reddit/M/M/MIDIGS_5.MID\n",
      "Error converting midi to sequence 'NoneType' object has no attribute 'open' data/midi/v8/midi_sources/130k_reddit/M/M/marilyn_manson-dope_show.mid\n",
      "Error converting midi to sequence 'NoneType' object has no attribute 'open' data/midi/v8/midi_sources/130k_reddit/M/M/MIDIGS_8.MID\n",
      "Error converting midi to sequence 'NoneType' object has no attribute 'open' data/midi/v8/midi_sources/130k_reddit/M/M/Michael Jackson - Rock with You.mid\n",
      "Error converting midi to sequence 'NoneType' object has no attribute 'open' data/midi/v8/midi_sources/130k_reddit/M/M/Manha-De-Carnaval.mid\n",
      "Error converting midi to sequence 'NoneType' object has no attribute 'open' data/midi/v8/midi_sources/130k_reddit/M/M/MSK05_04.MID\n",
      "Error converting midi to sequence 'NoneType' object has no attribute 'open' data/midi/v8/midi_sources/130k_reddit/M/M/Maw.mid\n",
      "Error converting midi to sequence 'NoneType' object has no attribute 'open' data/midi/v8/midi_sources/130k_reddit/M/M/motown_s.mid\n"
     ]
    },
    {
     "name": "stderr",
     "output_type": "stream",
     "text": [
      "midi: WARNING: Conversion error for <MidiEvent None, t=None, track=0, channel=None>: unknown midi event type: None; ignored.\n"
     ]
    },
    {
     "name": "stdout",
     "output_type": "stream",
     "text": [
      "Error converting midi to sequence 'NoneType' object has no attribute 'open' data/midi/v8/midi_sources/130k_reddit/M/M/Marilyn_Manson_The_Dope_Show.mid\n"
     ]
    },
    {
     "name": "stderr",
     "output_type": "stream",
     "text": [
      "midi: WARNING: Conversion error for <MidiEvent None, t=None, track=1, channel=None>: unknown midi event type: None; ignored.\n"
     ]
    },
    {
     "name": "stdout",
     "output_type": "stream",
     "text": [
      "Error converting midi to sequence 'NoneType' object has no attribute 'open' data/midi/v8/midi_sources/130k_reddit/M/M/MADONNA.Bad Girl.mid\n",
      "Error converting midi to sequence 'NoneType' object has no attribute 'open' data/midi/v8/midi_sources/130k_reddit/M/M/midi13.mid\n",
      "Error converting midi to sequence 'NoneType' object has no attribute 'open' data/midi/v8/midi_sources/130k_reddit/M/M/MOONOVER.MID\n",
      "Error converting midi to sequence 'NoneType' object has no attribute 'open' data/midi/v8/midi_sources/130k_reddit/M/M/missy.mid\n",
      "Error converting midi to sequence 'NoneType' object has no attribute 'open' data/midi/v8/midi_sources/130k_reddit/M/M/MSK06_10.MID\n",
      "Error converting midi to sequence 'NoneType' object has no attribute 'open' data/midi/v8/midi_sources/130k_reddit/M/M/MoneyMoneyMoney.mid\n",
      "Error converting midi to sequence 'NoneType' object has no attribute 'open' data/midi/v8/midi_sources/130k_reddit/M/M/MIDNIGHT OIL.Beds are burning.mid\n",
      "Error converting midi to sequence 'NoneType' object has no attribute 'open' data/midi/v8/midi_sources/130k_reddit/M/M/MIXED EMOTIONS.Save the last dance for me.mid\n",
      "Error converting midi to sequence 'NoneType' object has no attribute 'open' data/midi/v8/midi_sources/130k_reddit/M/M/Message-In-A-Bottle-1.mid\n",
      "Error converting midi to sequence 'NoneType' object has no attribute 'open' data/midi/v8/midi_sources/130k_reddit/M/M/Mensagem.mid\n",
      "Error converting midi to sequence 'NoneType' object has no attribute 'open' data/midi/v8/midi_sources/130k_reddit/M/M/My-Favorite-Things-(From-'The-Sound-Of-Music')-1.mid\n",
      "Error converting midi to sequence 'NoneType' object has no attribute 'open' data/midi/v8/midi_sources/130k_reddit/M/M/miss-imp.mid\n",
      "Error converting midi to sequence 'NoneType' object has no attribute 'open' data/midi/v8/midi_sources/130k_reddit/M/M/mygirl08.mid\n",
      "Error converting midi to sequence 'NoneType' object has no attribute 'open' data/midi/v8/midi_sources/130k_reddit/M/M/Major-Tom-3.mid\n",
      "Error converting midi to sequence 'NoneType' object has no attribute 'open' data/midi/v8/midi_sources/130k_reddit/M/M/MSK06_06.MID\n",
      "Error converting midi to sequence 'NoneType' object has no attribute 'open' data/midi/v8/midi_sources/130k_reddit/M/M/MSK05_03.MID\n",
      "Error converting midi to sequence 'NoneType' object has no attribute 'open' data/midi/v8/midi_sources/130k_reddit/M/M/Mit-Dir-Vielleicht-1.mid\n",
      "Error converting midi to sequence 'NoneType' object has no attribute 'open' data/midi/v8/midi_sources/130k_reddit/M/M/MSK06_09.MID\n",
      "Error converting midi to sequence 'NoneType' object has no attribute 'open' data/midi/v8/midi_sources/130k_reddit/M/M/Minrotas.mid\n",
      "Error converting midi to sequence 'NoneType' object has no attribute 'open' data/midi/v8/midi_sources/130k_reddit/M/M/MIDDLE OF THE ROAD.Sacramento.mid\n",
      "Error converting midi to sequence 'NoneType' object has no attribute 'open' data/midi/v8/midi_sources/130k_reddit/M/M/M.MANN.Do wah diddy diddy.mid\n",
      "Error converting midi to sequence 'NoneType' object has no attribute 'open' data/midi/v8/midi_sources/130k_reddit/M/M/michael_jackson-you_rock_my_world.mid\n",
      "Error converting midi to sequence 'NoneType' object has no attribute 'open' data/midi/v8/midi_sources/130k_reddit/M/M/MSK06_07.MID\n",
      "Error converting midi to sequence 'NoneType' object has no attribute 'open' data/midi/v8/midi_sources/130k_reddit/M/M/MYGIRL.MID\n",
      "Error converting midi to sequence 'NoneType' object has no attribute 'open' data/midi/v8/midi_sources/130k_reddit/M/M/MSLH8_03.MID\n",
      "Error converting midi to sequence 'NoneType' object has no attribute 'open' data/midi/v8/midi_sources/130k_reddit/M/M/MeAndYouAndADogNamedBoo.mid\n",
      "Error converting midi to sequence 'NoneType' object has no attribute 'open' data/midi/v8/midi_sources/130k_reddit/M/M/MSK05_05.MID\n",
      "Error converting midi to sequence 'NoneType' object has no attribute 'open' data/midi/v8/midi_sources/130k_reddit/M/M/MIDIGS_4.MID\n",
      "Error converting midi to sequence 'NoneType' object has no attribute 'open' data/midi/v8/midi_sources/130k_reddit/M/M/MSK05_08.MID\n",
      "Error converting midi to sequence 'NoneType' object has no attribute 'open' data/midi/v8/midi_sources/130k_reddit/M/M/my_girl2.mid\n",
      "Error converting midi to sequence 'NoneType' object has no attribute 'open' data/midi/v8/midi_sources/130k_reddit/M/M/MELISSA.MID\n",
      "Error converting midi to sequence 'NoneType' object has no attribute 'open' data/midi/v8/midi_sources/130k_reddit/M/M/My-Toot-Toot.mid\n",
      "Error converting midi to sequence 'NoneType' object has no attribute 'open' data/midi/v8/midi_sources/130k_reddit/M/M/MSK06_03.MID\n",
      "Error converting midi to sequence 'NoneType' object has no attribute 'open' data/midi/v8/midi_sources/130k_reddit/M/M/MIDIPC_1.MID\n",
      "Error converting midi to sequence 'NoneType' object has no attribute 'open' data/midi/v8/midi_sources/130k_reddit/M/M/MA-VIE.MID\n",
      "Error converting midi to sequence 'NoneType' object has no attribute 'open' data/midi/v8/midi_sources/130k_reddit/M/M/music-53.mid\n",
      "Error converting midi to sequence 'NoneType' object has no attribute 'open' data/midi/v8/midi_sources/130k_reddit/M/M/Movie_Themes_-_Against_All_Odds.mid\n",
      "Error converting midi to sequence 'NoneType' object has no attribute 'open' data/midi/v8/midi_sources/130k_reddit/M/M/MSLB2_01.MID\n",
      "Error converting midi to sequence 'NoneType' object has no attribute 'open' data/midi/v8/midi_sources/130k_reddit/M/M/MAGIABLA.mid\n",
      "Error converting midi to sequence 'NoneType' object has no attribute 'open' data/midi/v8/midi_sources/130k_reddit/M/M/MSK05_09.MID\n",
      "Error converting midi to sequence 'NoneType' object has no attribute 'open' data/midi/v8/midi_sources/130k_reddit/M/M/mariah_carey-through_the_rain.mid\n",
      "Error converting midi to sequence 'NoneType' object has no attribute 'open' data/midi/v8/midi_sources/130k_reddit/M/M/madonna-borderline.mid\n",
      "Error converting midi to sequence 'NoneType' object has no attribute 'open' data/midi/v8/midi_sources/130k_reddit/M/M/mingyauklove.mid\n",
      "Error converting midi to sequence 'NoneType' object has no attribute 'open' data/midi/v8/midi_sources/130k_reddit/M/M/mynameis.mid\n",
      "Error converting midi to sequence 'NoneType' object has no attribute 'open' data/midi/v8/midi_sources/130k_reddit/M/M/More-Than-A-Feeling-2.mid\n",
      "Error converting midi to sequence 'NoneType' object has no attribute 'open' data/midi/v8/midi_sources/130k_reddit/M/M/MSLB2_08.MID\n",
      "Error converting midi to sequence 'NoneType' object has no attribute 'open' data/midi/v8/midi_sources/130k_reddit/M/M/Mona-Mona.mid\n",
      "Error converting midi to sequence 'NoneType' object has no attribute 'open' data/midi/v8/midi_sources/130k_reddit/J/J/Jesu-Joy-Of-Man-Desiring-2.mid\n"
     ]
    },
    {
     "name": "stderr",
     "output_type": "stream",
     "text": [
      "midi: WARNING: Conversion error for <MidiEvent None, t=None, track=0, channel=None>: unknown midi event type: None; ignored.\n"
     ]
    },
    {
     "name": "stdout",
     "output_type": "stream",
     "text": [
      "Error converting midi to sequence 'NoneType' object has no attribute 'open' data/midi/v8/midi_sources/130k_reddit/J/J/Joe_-_Dont_Wanna_Be_A_Player.mid\n",
      "Error converting midi to sequence 'NoneType' object has no attribute 'open' data/midi/v8/midi_sources/130k_reddit/J/J/Jailhouse-Rock.mid\n",
      "Error converting midi to sequence 'NoneType' object has no attribute 'open' data/midi/v8/midi_sources/130k_reddit/M/M/MITIERRA.MID\n",
      "Error converting midi to sequence 'NoneType' object has no attribute 'open' data/midi/v8/midi_sources/130k_reddit/M/M/MySharona.mid\n",
      "Error converting midi to sequence 'NoneType' object has no attribute 'open' data/midi/v8/midi_sources/130k_reddit/M/M/MOLOKO.Sing it back.mid\n",
      "Error converting midi to sequence 'NoneType' object has no attribute 'open' data/midi/v8/midi_sources/130k_reddit/M/M/Madonna_-_Express_Yourself.mid\n",
      "Error converting midi to sequence 'NoneType' object has no attribute 'open' data/midi/v8/midi_sources/130k_reddit/J/J/J.J.CALE.Cocaine.mid\n",
      "Error converting midi to sequence 'NoneType' object has no attribute 'open' data/midi/v8/midi_sources/130k_reddit/J/J/John_Fogerty_-_Centerfield.mid\n",
      "Error converting midi to sequence 'NoneType' object has no attribute 'open' data/midi/v8/midi_sources/130k_reddit/J/J/Jump3.mid\n",
      "Error converting midi to sequence 'NoneType' object has no attribute 'open' data/midi/v8/midi_sources/130k_reddit/J/J/j23.mid\n",
      "Error converting midi to sequence 'NoneType' object has no attribute 'open' data/midi/v8/midi_sources/130k_reddit/J/J/jennifer_lopez-all_i_have.mid\n",
      "Error converting midi to sequence 'NoneType' object has no attribute 'open' data/midi/v8/midi_sources/130k_reddit/J/J/jahovajireh.mid\n",
      "Error converting midi to sequence 'NoneType' object has no attribute 'open' data/midi/v8/midi_sources/130k_reddit/J/J/janet_jackson-feels_so_right.mid\n",
      "Error converting midi to sequence 'NoneType' object has no attribute 'open' data/midi/v8/midi_sources/130k_reddit/J/J/Je-Te-Donne.mid\n",
      "Error converting midi to sequence 'NoneType' object has no attribute 'open' data/midi/v8/midi_sources/130k_reddit/J/J/JESSIE.MID\n",
      "Error converting midi to sequence 'NoneType' object has no attribute 'open' data/midi/v8/midi_sources/130k_reddit/J/J/Just-Kick'n-It.mid\n",
      "Error converting midi to sequence 'NoneType' object has no attribute 'open' data/midi/v8/midi_sources/130k_reddit/J/J/Jackson_Browne_-_On_The_Day.mid\n",
      "Error converting midi to sequence 'NoneType' object has no attribute 'open' data/midi/v8/midi_sources/130k_reddit/J/J/J.PAGE.Questions.mid\n",
      "Error converting midi to sequence 'NoneType' object has no attribute 'open' data/midi/v8/midi_sources/130k_reddit/J/J/J.CLIFF.Wonderful world,beautiful people.mid\n",
      "Error converting midi to sequence 'NoneType' object has no attribute 'open' data/midi/v8/midi_sources/130k_reddit/J/J/JUMPX.MID\n",
      "Error converting midi to sequence 'NoneType' object has no attribute 'open' data/midi/v8/midi_sources/130k_reddit/J/J/Janserce.mid\n",
      "Error converting midi to sequence 'NoneType' object has no attribute 'open' data/midi/v8/midi_sources/130k_reddit/J/J/Jailhouse-Rock-3.mid\n",
      "Error converting midi to sequence 'NoneType' object has no attribute 'open' data/midi/v8/midi_sources/130k_reddit/J/J/Jackson_Browne_-_Somebodys_Baby.mid\n",
      "Error converting midi to sequence 'NoneType' object has no attribute 'open' data/midi/v8/midi_sources/130k_reddit/J/J/JETHRO TULL.Living in the past.mid\n"
     ]
    },
    {
     "name": "stderr",
     "output_type": "stream",
     "text": [
      "midi: WARNING: Conversion error for <MidiEvent None, t=None, track=4, channel=None>: unknown midi event type: None; ignored.\n"
     ]
    },
    {
     "name": "stdout",
     "output_type": "stream",
     "text": [
      "Error converting midi to sequence 'NoneType' object has no attribute 'open' data/midi/v8/midi_sources/130k_reddit/J/J/JUST FRIEND.What is love K.mid\n",
      "Error converting midi to sequence 'NoneType' object has no attribute 'open' data/midi/v8/midi_sources/130k_reddit/J/J/J.NASH.Stir it up.MID\n",
      "Error converting midi to sequence 'NoneType' object has no attribute 'open' data/midi/v8/midi_sources/130k_reddit/J/J/J.FOGERTY.Centerfield.mid\n",
      "Error converting midi to sequence 'NoneType' object has no attribute 'open' data/midi/v8/midi_sources/130k_reddit/J/J/Janis_Ian_-_At_Seventeen.mid\n",
      "Error converting midi to sequence 'NoneType' object has no attribute 'open' data/midi/v8/midi_sources/130k_reddit/J/J/J.JACKSON.Feels so right.mid\n",
      "Error converting midi to sequence 'NoneType' object has no attribute 'open' data/midi/v8/midi_sources/130k_reddit/J/J/jennifer_lopez-papi.mid\n",
      "Error converting midi to sequence 'NoneType' object has no attribute 'open' data/midi/v8/midi_sources/130k_reddit/J/J/Joe_-_I_Wanna_Know.mid\n",
      "Error converting midi to sequence 'NoneType' object has no attribute 'open' data/midi/v8/midi_sources/130k_reddit/J/J/j20.mid\n",
      "Error converting midi to sequence 'NoneType' object has no attribute 'open' data/midi/v8/midi_sources/130k_reddit/J/J/J.LAST.Hot summenight mix.mid\n",
      "Error converting midi to sequence 'NoneType' object has no attribute 'open' data/midi/v8/midi_sources/130k_reddit/J/J/Jack-White-Medley-Nr-3-(Medley).mid\n",
      "Error converting midi to sequence 'NoneType' object has no attribute 'open' data/midi/v8/midi_sources/130k_reddit/J/J/J.CASH.Daddy sang bass.MID\n",
      "Error converting midi to sequence 'NoneType' object has no attribute 'open' data/midi/v8/midi_sources/130k_reddit/J/J/joytow.mid\n"
     ]
    },
    {
     "name": "stderr",
     "output_type": "stream",
     "text": [
      "midi: WARNING: Conversion error for <MidiEvent None, t=None, track=2, channel=None>: unknown midi event type: None; ignored.\n"
     ]
    },
    {
     "name": "stdout",
     "output_type": "stream",
     "text": [
      "Error converting midi to sequence 'NoneType' object has no attribute 'open' data/midi/v8/midi_sources/130k_reddit/J/J/justin_timberlake-rock_your_body.mid\n",
      "Error converting midi to sequence 'NoneType' object has no attribute 'open' data/midi/v8/midi_sources/130k_reddit/J/J/jesusdrawmeclose.mid\n"
     ]
    },
    {
     "name": "stderr",
     "output_type": "stream",
     "text": [
      "midi: WARNING: Conversion error for <MidiEvent None, t=None, track=2, channel=None>: unknown midi event type: None; ignored.\n"
     ]
    },
    {
     "name": "stdout",
     "output_type": "stream",
     "text": [
      "Error converting midi to sequence 'NoneType' object has no attribute 'open' data/midi/v8/midi_sources/130k_reddit/J/J/jo.mid\n",
      "Error converting midi to sequence 'NoneType' object has no attribute 'open' data/midi/v8/midi_sources/130k_reddit/J/J/ja_rule-me_and_you.mid\n",
      "Error converting midi to sequence 'NoneType' object has no attribute 'open' data/midi/v8/midi_sources/130k_reddit/J/J/Johnny-Guitar-1.mid\n",
      "Error converting midi to sequence 'NoneType' object has no attribute 'open' data/midi/v8/midi_sources/130k_reddit/J/J/Je-T'Aime-Heisst-Ich-Liebe-Dich-3.mid\n",
      "Error converting midi to sequence 'NoneType' object has no attribute 'open' data/midi/v8/midi_sources/130k_reddit/J/J/Jazz-Demo.mid\n",
      "Error converting midi to sequence 'NoneType' object has no attribute 'open' data/midi/v8/midi_sources/130k_reddit/J/J/j6.mid\n",
      "Error converting midi to sequence 'NoneType' object has no attribute 'open' data/midi/v8/midi_sources/130k_reddit/J/J/JAZZROCK.MID\n",
      "Error converting midi to sequence 'NoneType' object has no attribute 'open' data/midi/v8/midi_sources/130k_reddit/J/J/jazba.mid\n",
      "Error converting midi to sequence 'NoneType' object has no attribute 'open' data/midi/v8/midi_sources/130k_reddit/J/J/j17.mid\n",
      "Error converting midi to sequence 'NoneType' object has no attribute 'open' data/midi/v8/midi_sources/130k_reddit/J/J/JetztOderNie.mid\n",
      "Error converting midi to sequence 'NoneType' object has no attribute 'open' data/midi/v8/midi_sources/130k_reddit/6/60YearsOn.mid\n",
      "Error converting midi to sequence 'NoneType' object has no attribute 'open' data/midi/v8/midi_sources/130k_reddit/6/60YearsOn2.mid\n",
      "Error converting midi to sequence 'NoneType' object has no attribute 'open' data/midi/v8/midi_sources/130k_reddit/F/F/Fragma_-_Man_On_The_Moon__J.D._20070924164834.mid\n",
      "Error converting midi to sequence 'NoneType' object has no attribute 'open' data/midi/v8/midi_sources/130k_reddit/F/F/FriendsWillBeFriends.mid\n",
      "Error converting midi to sequence 'NoneType' object has no attribute 'open' data/midi/v8/midi_sources/130k_reddit/F/F/fields_of_gold.mid\n",
      "Error converting midi to sequence 'NoneType' object has no attribute 'open' data/midi/v8/midi_sources/130k_reddit/F/F/fieldsofgold3.mid\n",
      "Error converting midi to sequence 'NoneType' object has no attribute 'open' data/midi/v8/midi_sources/130k_reddit/F/F/foreigner-white_lie.mid\n",
      "Error converting midi to sequence 'NoneType' object has no attribute 'open' data/midi/v8/midi_sources/130k_reddit/F/F/Fragma - Man On The Moon.mid\n",
      "Error converting midi to sequence 'NoneType' object has no attribute 'open' data/midi/v8/midi_sources/130k_reddit/F/F/FERRY.Let's stick together.mid\n"
     ]
    },
    {
     "name": "stderr",
     "output_type": "stream",
     "text": [
      "midi: WARNING: Conversion error for <MidiEvent None, t=None, track=0, channel=None>: unknown midi event type: None; ignored.\n"
     ]
    },
    {
     "name": "stdout",
     "output_type": "stream",
     "text": [
      "Error converting midi to sequence 'NoneType' object has no attribute 'open' data/midi/v8/midi_sources/130k_reddit/F/F/Firmamen.mid\n",
      "Error converting midi to sequence 'NoneType' object has no attribute 'open' data/midi/v8/midi_sources/130k_reddit/F/F/Fur-Elise-2.mid\n",
      "Error converting midi to sequence 'NoneType' object has no attribute 'open' data/midi/v8/midi_sources/130k_reddit/F/F/FiestaRemix.mid\n",
      "Error converting midi to sequence 'NoneType' object has no attribute 'open' data/midi/v8/midi_sources/130k_reddit/F/F/fdg.mid\n",
      "Error converting midi to sequence 'NoneType' object has no attribute 'open' data/midi/v8/midi_sources/130k_reddit/F/F/fragile2.mid\n",
      "Error converting midi to sequence 'NoneType' object has no attribute 'open' data/midi/v8/midi_sources/130k_reddit/F/F/fragile03.mid\n",
      "Error converting midi to sequence 'NoneType' object has no attribute 'open' data/midi/v8/midi_sources/130k_reddit/F/F/FromADistance4.mid\n",
      "Error converting midi to sequence 'NoneType' object has no attribute 'open' data/midi/v8/midi_sources/130k_reddit/F/F/Frankie-And-Johnny-2.mid\n",
      "Error converting midi to sequence 'NoneType' object has no attribute 'open' data/midi/v8/midi_sources/130k_reddit/F/F/firmamento2.mid\n",
      "Error converting midi to sequence 'NoneType' object has no attribute 'open' data/midi/v8/midi_sources/130k_reddit/F/F/forall2.mid\n",
      "Error converting midi to sequence 'NoneType' object has no attribute 'open' data/midi/v8/midi_sources/130k_reddit/F/F/FLEETWOOD MAC.Don't stop.MID\n",
      "Error converting midi to sequence 'NoneType' object has no attribute 'open' data/midi/v8/midi_sources/130k_reddit/F/F/FromADistance3.mid\n",
      "Error converting midi to sequence 'NoneType' object has no attribute 'open' data/midi/v8/midi_sources/130k_reddit/F/F/Fotia_st.mid\n",
      "Error converting midi to sequence 'NoneType' object has no attribute 'open' data/midi/v8/midi_sources/130k_reddit/F/F/Flight.mid\n",
      "Error converting midi to sequence 'NoneType' object has no attribute 'open' data/midi/v8/midi_sources/130k_reddit/F/F/Fields of gold.mid\n",
      "Error converting midi to sequence 'NoneType' object has no attribute 'open' data/midi/v8/midi_sources/130k_reddit/F/F/Fields-Of-Gold-2.mid\n",
      "Error converting midi to sequence 'NoneType' object has no attribute 'open' data/midi/v8/midi_sources/130k_reddit/F/F/free_as_a_bird3.mid\n"
     ]
    },
    {
     "name": "stderr",
     "output_type": "stream",
     "text": [
      "midi: WARNING: Conversion error for <MidiEvent None, t=None, track=0, channel=None>: unknown midi event type: None; ignored.\n"
     ]
    },
    {
     "name": "stdout",
     "output_type": "stream",
     "text": [
      "Error converting midi to sequence 'NoneType' object has no attribute 'open' data/midi/v8/midi_sources/130k_reddit/F/F/fields03.mid\n",
      "Error converting midi to sequence 'NoneType' object has no attribute 'open' data/midi/v8/midi_sources/130k_reddit/F/F/Fragile-2.mid\n",
      "Error converting midi to sequence 'NoneType' object has no attribute 'open' data/midi/v8/midi_sources/130k_reddit/F/F/fixacao.mid\n",
      "Error converting midi to sequence 'NoneType' object has no attribute 'open' data/midi/v8/midi_sources/130k_reddit/F/F/finalcou.mid\n",
      "Error converting midi to sequence 'NoneType' object has no attribute 'open' data/midi/v8/midi_sources/130k_reddit/F/F/footapper.mid\n",
      "Error converting midi to sequence 'NoneType' object has no attribute 'open' data/midi/v8/midi_sources/130k_reddit/F/F/FIELDSOF.MID\n",
      "Error converting midi to sequence 'NoneType' object has no attribute 'open' data/midi/v8/midi_sources/130k_reddit/F/F/fieldsofgold03.mid\n",
      "Error converting midi to sequence 'NoneType' object has no attribute 'open' data/midi/v8/midi_sources/130k_reddit/F/F/frostyr.mid\n",
      "Error converting midi to sequence 'NoneType' object has no attribute 'open' data/midi/v8/midi_sources/130k_reddit/F/F/FollowYouFollowMe.mid\n",
      "Error converting midi to sequence 'NoneType' object has no attribute 'open' data/midi/v8/midi_sources/130k_reddit/F/F/FAGEN.New frontier.mid\n",
      "Error converting midi to sequence 'NoneType' object has no attribute 'open' data/midi/v8/midi_sources/130k_reddit/F/F/finally2.mid\n",
      "Error converting midi to sequence 'NoneType' object has no attribute 'open' data/midi/v8/midi_sources/130k_reddit/F/F/fbi.mid\n",
      "Error converting midi to sequence 'NoneType' object has no attribute 'open' data/midi/v8/midi_sources/130k_reddit/F/F/Fora_me.mid\n",
      "Error converting midi to sequence 'NoneType' object has no attribute 'open' data/midi/v8/midi_sources/130k_reddit/F/F/Fernando-1.mid\n",
      "Error converting midi to sequence 'NoneType' object has no attribute 'open' data/midi/v8/midi_sources/130k_reddit/F/F/For-All-We-Know-1.mid\n",
      "Error converting midi to sequence 'NoneType' object has no attribute 'open' data/midi/v8/midi_sources/130k_reddit/F/F/foideus2.mid\n",
      "Error converting midi to sequence 'NoneType' object has no attribute 'open' data/midi/v8/midi_sources/130k_reddit/F/F/Freedom-2.mid\n",
      "Error converting midi to sequence 'NoneType' object has no attribute 'open' data/midi/v8/midi_sources/130k_reddit/F/F/Forever-And-Ever.mid\n"
     ]
    },
    {
     "name": "stderr",
     "output_type": "stream",
     "text": [
      "midi: WARNING: Conversion error for <MidiEvent None, t=None, track=1, channel=None>: unknown midi event type: None; ignored.\n"
     ]
    },
    {
     "name": "stdout",
     "output_type": "stream",
     "text": [
      "Error converting midi to sequence 'NoneType' object has no attribute 'open' data/midi/v8/midi_sources/130k_reddit/F/F/flashdance-what_a_feeling.mid\n",
      "Error converting midi to sequence 'NoneType' object has no attribute 'open' data/midi/v8/midi_sources/130k_reddit/F/F/Flying_In_A_Blue_Dream.mid\n",
      "Error converting midi to sequence 'NoneType' object has no attribute 'open' data/midi/v8/midi_sources/130k_reddit/F/F/Fragile-1.mid\n",
      "Error converting midi to sequence 'NoneType' object has no attribute 'open' data/midi/v8/midi_sources/130k_reddit/F/F/Felicita-1.mid\n",
      "Error converting midi to sequence 'NoneType' object has no attribute 'open' data/midi/v8/midi_sources/130k_reddit/F/F/farewell04.mid\n",
      "Error converting midi to sequence 'NoneType' object has no attribute 'open' data/midi/v8/midi_sources/130k_reddit/F/F/fastlove.mid\n",
      "Error converting midi to sequence 'NoneType' object has no attribute 'open' data/midi/v8/midi_sources/130k_reddit/F/F/First-Time-1.mid\n",
      "Error converting midi to sequence 'NoneType' object has no attribute 'open' data/midi/v8/midi_sources/130k_reddit/F/F/Friedenspanzer-2.mid\n",
      "Error converting midi to sequence 'NoneType' object has no attribute 'open' data/midi/v8/midi_sources/130k_reddit/F/F/fool2.mid\n",
      "Error converting midi to sequence 'NoneType' object has no attribute 'open' data/midi/v8/midi_sources/130k_reddit/F/F/fragile04.mid\n",
      "Error converting midi to sequence 'NoneType' object has no attribute 'open' data/midi/v8/midi_sources/130k_reddit/Metal_Rock_rock.freemidis.net_MIDIRip/midi/j/jimi_hendrix/Little_Wing.mid\n",
      "Error converting midi to sequence 'NoneType' object has no attribute 'open' data/midi/v8/midi_sources/130k_reddit/F/F/Free-As-A-Bird.mid\n",
      "Error converting midi to sequence 'NoneType' object has no attribute 'open' data/midi/v8/midi_sources/130k_reddit/Metal_Rock_rock.freemidis.net_MIDIRip/midi/g/genesis/In_Too_Deep.mid\n",
      "Error converting midi to sequence 'NoneType' object has no attribute 'open' data/midi/v8/midi_sources/130k_reddit/F/F/Fernando-3.mid\n",
      "Error converting midi to sequence 'NoneType' object has no attribute 'open' data/midi/v8/midi_sources/130k_reddit/Metal_Rock_rock.freemidis.net_MIDIRip/midi/y/yes/Big_Generator.mid\n",
      "Error converting midi to sequence 'NoneType' object has no attribute 'open' data/midi/v8/midi_sources/130k_reddit/F/F/fat.mid\n",
      "Error converting midi to sequence 'NoneType' object has no attribute 'open' data/midi/v8/midi_sources/130k_reddit/Metal_Rock_rock.freemidis.net_MIDIRip/midi/b/bon_jovi/One_Wild_Night.mid\n",
      "Error converting midi to sequence 'NoneType' object has no attribute 'open' data/midi/v8/midi_sources/130k_reddit/Metal_Rock_rock.freemidis.net_MIDIRip/midi/s/sting/Second_Marriage.mid\n",
      "Error converting midi to sequence 'NoneType' object has no attribute 'open' data/midi/v8/midi_sources/130k_reddit/Metal_Rock_rock.freemidis.net_MIDIRip/midi/s/sting/Fields_Of_Gold.mid\n",
      "Error converting midi to sequence 'NoneType' object has no attribute 'open' data/midi/v8/midi_sources/130k_reddit/Metal_Rock_rock.freemidis.net_MIDIRip/midi/s/sting/Moon_Bourbon.mid\n",
      "Error converting midi to sequence 'NoneType' object has no attribute 'open' data/midi/v8/midi_sources/130k_reddit/Metal_Rock_rock.freemidis.net_MIDIRip/midi/s/sting/Bourbon_Street.mid\n",
      "Error converting midi to sequence 'NoneType' object has no attribute 'open' data/midi/v8/midi_sources/130k_reddit/Metal_Rock_rock.freemidis.net_MIDIRip/midi/g/genesis/Tonight_Tonight_Tonight.mid\n",
      "Error converting midi to sequence 'NoneType' object has no attribute 'open' data/midi/v8/midi_sources/130k_reddit/Metal_Rock_rock.freemidis.net_MIDIRip/midi/s/scorpions/You_And_I.mid\n",
      "Error converting midi to sequence 'NoneType' object has no attribute 'open' data/midi/v8/midi_sources/130k_reddit/Metal_Rock_rock.freemidis.net_MIDIRip/midi/e/eric_clapton/Change_The_World.mid\n",
      "Error converting midi to sequence 'NoneType' object has no attribute 'open' data/midi/v8/midi_sources/130k_reddit/Metal_Rock_rock.freemidis.net_MIDIRip/midi/s/sting/They_Dance_Alone.mid\n",
      "Error converting midi to sequence 'NoneType' object has no attribute 'open' data/midi/v8/midi_sources/130k_reddit/Metal_Rock_rock.freemidis.net_MIDIRip/midi/e/eric_clapton/Let_It_Grow.mid\n",
      "Error converting midi to sequence 'NoneType' object has no attribute 'open' data/midi/v8/midi_sources/130k_reddit/Metal_Rock_rock.freemidis.net_MIDIRip/midi/e/eric_clapton/White_Room.mid\n",
      "Error converting midi to sequence 'NoneType' object has no attribute 'open' data/midi/v8/midi_sources/130k_reddit/Metal_Rock_rock.freemidis.net_MIDIRip/midi/s/sting/Send_Your_Love.mid\n",
      "Error converting midi to sequence 'NoneType' object has no attribute 'open' data/midi/v8/midi_sources/130k_reddit/Metal_Rock_rock.freemidis.net_MIDIRip/midi/e/eric_clapton/Sunshine_Of_My_Love.mid\n",
      "Error converting midi to sequence 'NoneType' object has no attribute 'open' data/midi/v8/midi_sources/130k_reddit/Metal_Rock_rock.freemidis.net_MIDIRip/midi/s/sting/Well_Be_Together.mid\n",
      "Error converting midi to sequence 'NoneType' object has no attribute 'open' data/midi/v8/midi_sources/130k_reddit/Metal_Rock_rock.freemidis.net_MIDIRip/midi/s/sting/Fragile_2.mid\n",
      "Error converting midi to sequence 'NoneType' object has no attribute 'open' data/midi/v8/midi_sources/130k_reddit/Metal_Rock_rock.freemidis.net_MIDIRip/midi/m/marilyn_manson/Dope_Show.mid\n",
      "Error converting midi to sequence 'NoneType' object has no attribute 'open' data/midi/v8/midi_sources/130k_reddit/Dub_MIDIRip/messian_dread_babylon_unmasked/10_Rockers_Dub.mid\n",
      "Error converting midi to sequence 'NoneType' object has no attribute 'open' data/midi/v8/midi_sources/130k_reddit/Classical Archives - The Greats (MIDI)/Mozart/K622 Clarinet Concerto 2mov.mid\n",
      "Error converting midi to sequence 'NoneType' object has no attribute 'open' data/midi/v8/midi_sources/130k_reddit/Classical Archives - The Greats (MIDI)/Mozart/K622 Clarinet Concerto 3mov.mid\n",
      "Error converting midi to sequence 'NoneType' object has no attribute 'open' data/midi/v8/midi_sources/130k_reddit/Classical Archives - The Greats (MIDI)/Mozart/K622 Clarinet Concerto 1mov.mid\n",
      "Error converting midi to sequence 'NoneType' object has no attribute 'open' data/midi/v8/midi_sources/130k_reddit/Classical Archives - The Greats (MIDI)/Classical Piano Midis/Albéniz/Título Desconocido 4.mid\n",
      "Error converting midi to sequence 'NoneType' object has no attribute 'open' data/midi/v8/midi_sources/130k_reddit/Classical Archives - The Greats (MIDI)/Classical Piano Midis/Albéniz/Título Desconocido 3.mid\n"
     ]
    },
    {
     "name": "stderr",
     "output_type": "stream",
     "text": [
      "midi: WARNING: Conversion error for <MidiEvent None, t=None, track=1, channel=None>: unknown midi event type: None; ignored.\n"
     ]
    },
    {
     "name": "stdout",
     "output_type": "stream",
     "text": [
      "Error converting midi to sequence 'NoneType' object has no attribute 'open' data/midi/v8/midi_sources/130k_reddit/Classical Archives - The Greats (MIDI)/Classical Piano Midis/Varios - Título desconocido/p_z/saint.mid\n",
      "Error converting midi to sequence 'NoneType' object has no attribute 'open' data/midi/v8/midi_sources/130k_reddit/Classical Archives - The Greats (MIDI)/Classical Piano Midis/Varios - Título desconocido/p_z/startrk.mid\n"
     ]
    },
    {
     "name": "stderr",
     "output_type": "stream",
     "text": [
      "midi: WARNING: Conversion error for <MidiEvent None, t=None, track=0, channel=None>: unknown midi event type: None; ignored.\n",
      "midi: WARNING: Conversion error for <MidiEvent None, t=None, track=0, channel=None>: unknown midi event type: None; ignored.\n",
      "midi: WARNING: Conversion error for <MidiEvent None, t=None, track=0, channel=None>: unknown midi event type: None; ignored.\n"
     ]
    },
    {
     "name": "stdout",
     "output_type": "stream",
     "text": [
      "Error converting midi to sequence 'NoneType' object has no attribute 'open' data/midi/v8/midi_sources/130k_reddit/Classical Archives - The Greats (MIDI)/Classical Piano Midis/Varios - Título desconocido/a_h/bumblebe.mid\n"
     ]
    },
    {
     "name": "stderr",
     "output_type": "stream",
     "text": [
      "midi: WARNING: Conversion error for <MidiEvent None, t=None, track=0, channel=None>: unknown midi event type: None; ignored.\n",
      "midi: WARNING: Conversion error for <MidiEvent None, t=None, track=0, channel=None>: unknown midi event type: None; ignored.\n",
      "midi: WARNING: Conversion error for <MidiEvent None, t=None, track=0, channel=None>: unknown midi event type: None; ignored.\n",
      "midi: WARNING: Conversion error for <MidiEvent None, t=None, track=0, channel=None>: unknown midi event type: None; ignored.\n"
     ]
    },
    {
     "name": "stdout",
     "output_type": "stream",
     "text": [
      "Error converting midi to sequence 'NoneType' object has no attribute 'open' data/midi/v8/midi_sources/130k_reddit/Z/Z/Zwei-Gitarren-(Tango).mid\n"
     ]
    },
    {
     "name": "stderr",
     "output_type": "stream",
     "text": [
      "midi: WARNING: Conversion error for <MidiEvent None, t=None, track=0, channel=None>: unknown midi event type: None; ignored.\n"
     ]
    },
    {
     "name": "stdout",
     "output_type": "stream",
     "text": [
      "Error converting midi to sequence 'NoneType' object has no attribute 'open' data/midi/v8/midi_sources/130k_reddit/Z/Z/Zillertaler-Hochzeitsmarsch-4.mid\n"
     ]
    },
    {
     "name": "stderr",
     "output_type": "stream",
     "text": [
      "midi: WARNING: Conversion error for <MidiEvent None, t=None, track=0, channel=None>: unknown midi event type: None; ignored.\n"
     ]
    },
    {
     "name": "stdout",
     "output_type": "stream",
     "text": [
      "Error converting midi to sequence 'NoneType' object has no attribute 'open' data/midi/v8/midi_sources/130k_reddit/C/C/candle09.mid\n",
      "Error converting midi to sequence 'NoneType' object has no attribute 'open' data/midi/v8/midi_sources/130k_reddit/Z/Z/Zillertaler-Hochzeitsblues-3.mid\n",
      "Error converting midi to sequence 'NoneType' object has no attribute 'open' data/midi/v8/midi_sources/130k_reddit/C/C/CHERYPNK.MID\n",
      "Error converting midi to sequence 'NoneType' object has no attribute 'open' data/midi/v8/midi_sources/130k_reddit/Z/Z/zhi-vago__celebrate_the_love__unknown.mid\n",
      "Error converting midi to sequence 'NoneType' object has no attribute 'open' data/midi/v8/midi_sources/130k_reddit/C/C/cin2.mid\n",
      "Error converting midi to sequence 'NoneType' object has no attribute 'open' data/midi/v8/midi_sources/130k_reddit/C/C/Catch-A-Fallin'-Star.mid\n",
      "Error converting midi to sequence 'NoneType' object has no attribute 'open' data/midi/v8/midi_sources/130k_reddit/C/C/CARELESS.MID\n",
      "Error converting midi to sequence 'NoneType' object has no attribute 'open' data/midi/v8/midi_sources/130k_reddit/C/C/CAROLIEN.MID\n",
      "Error converting midi to sequence 'NoneType' object has no attribute 'open' data/midi/v8/midi_sources/130k_reddit/C/C/chinese3.mid\n",
      "Error converting midi to sequence 'NoneType' object has no attribute 'open' data/midi/v8/midi_sources/130k_reddit/C/C/Cotton-Eye-Joe-1.mid\n",
      "Error converting midi to sequence 'NoneType' object has no attribute 'open' data/midi/v8/midi_sources/130k_reddit/C/C/Crosby_Stills_Nash_and_Young_-_Ohio.mid\n",
      "Error converting midi to sequence 'NoneType' object has no attribute 'open' data/midi/v8/midi_sources/130k_reddit/C/C/Chirpy-Chirpy-Cheep-Cheep-1.mid\n",
      "Error converting midi to sequence 'NoneType' object has no attribute 'open' data/midi/v8/midi_sources/130k_reddit/C/C/candle05.mid\n",
      "Error converting midi to sequence 'NoneType' object has no attribute 'open' data/midi/v8/midi_sources/130k_reddit/C/C/CHARLES.What' i say 2.mid\n"
     ]
    },
    {
     "name": "stderr",
     "output_type": "stream",
     "text": [
      "midi: WARNING: Conversion error for <MidiEvent None, t=None, track=9, channel=None>: unknown midi event type: None; ignored.\n"
     ]
    },
    {
     "name": "stdout",
     "output_type": "stream",
     "text": [
      "Error converting midi to sequence 'NoneType' object has no attribute 'open' data/midi/v8/midi_sources/130k_reddit/C/C/Cyndi Lauper - I Drove All Night.mid\n",
      "Error converting midi to sequence 'NoneType' object has no attribute 'open' data/midi/v8/midi_sources/130k_reddit/C/C/C.PORTER.A woman's needs.mid\n",
      "Error converting midi to sequence 'NoneType' object has no attribute 'open' data/midi/v8/midi_sources/130k_reddit/C/C/Candle_in_the_Wind.mid\n",
      "Error converting midi to sequence 'NoneType' object has no attribute 'open' data/midi/v8/midi_sources/130k_reddit/C/C/C.PRIDE.Kiss an anel good morning.MID\n",
      "Error converting midi to sequence 'NoneType' object has no attribute 'open' data/midi/v8/midi_sources/130k_reddit/C/C/Conquest-Of-Paradise-3.mid\n",
      "Error converting midi to sequence 'NoneType' object has no attribute 'open' data/midi/v8/midi_sources/130k_reddit/C/C/coracao_de_estudante.mid\n",
      "Error converting midi to sequence 'NoneType' object has no attribute 'open' data/midi/v8/midi_sources/130k_reddit/C/C/C.RICHARD.Congratulations.mid\n",
      "Error converting midi to sequence 'NoneType' object has no attribute 'open' data/midi/v8/midi_sources/130k_reddit/C/C/cognito.mid\n",
      "Error converting midi to sequence 'NoneType' object has no attribute 'open' data/midi/v8/midi_sources/130k_reddit/C/C/confus.mid\n",
      "Error converting midi to sequence 'NoneType' object has no attribute 'open' data/midi/v8/midi_sources/130k_reddit/C/C/Cantina2.mid\n",
      "Error converting midi to sequence 'NoneType' object has no attribute 'open' data/midi/v8/midi_sources/130k_reddit/C/C/Conversao.mid\n",
      "Error converting midi to sequence 'NoneType' object has no attribute 'open' data/midi/v8/midi_sources/130k_reddit/C/C/craig_david-7_days.mid\n",
      "Error converting midi to sequence 'NoneType' object has no attribute 'open' data/midi/v8/midi_sources/130k_reddit/C/C/cantina05.mid\n",
      "Error converting midi to sequence 'NoneType' object has no attribute 'open' data/midi/v8/midi_sources/130k_reddit/C/C/chingy-one_call_away.mid\n",
      "Error converting midi to sequence 'NoneType' object has no attribute 'open' data/midi/v8/midi_sources/130k_reddit/C/C/close2u.mid\n",
      "Error converting midi to sequence 'NoneType' object has no attribute 'open' data/midi/v8/midi_sources/130k_reddit/C/C/Candle_in_the_Wind2.mid\n",
      "Error converting midi to sequence 'NoneType' object has no attribute 'open' data/midi/v8/midi_sources/130k_reddit/C/C/Culture_Club_-_Do_You_Really_Want_to_Hurt_Me.mid\n",
      "Error converting midi to sequence 'NoneType' object has no attribute 'open' data/midi/v8/midi_sources/130k_reddit/C/C/CLAPTON.Got you on my mind.mid\n",
      "Error converting midi to sequence 'NoneType' object has no attribute 'open' data/midi/v8/midi_sources/130k_reddit/C/C/Concerto-In-C-(Elvira-Madigan)-KV467.mid\n",
      "Error converting midi to sequence 'NoneType' object has no attribute 'open' data/midi/v8/midi_sources/130k_reddit/C/C/chvrches-the_mother_we_share.mid\n",
      "Error converting midi to sequence 'NoneType' object has no attribute 'open' data/midi/v8/midi_sources/130k_reddit/C/C/coulditbemagic.mid\n",
      "Error converting midi to sequence 'NoneType' object has no attribute 'open' data/midi/v8/midi_sources/130k_reddit/C/C/china2.mid\n",
      "Error converting midi to sequence 'NoneType' object has no attribute 'open' data/midi/v8/midi_sources/130k_reddit/C/C/Clarinet-Concert-In-C-2.mid\n",
      "Error converting midi to sequence 'NoneType' object has no attribute 'open' data/midi/v8/midi_sources/130k_reddit/C/C/cantina16.mid\n",
      "Error converting midi to sequence 'NoneType' object has no attribute 'open' data/midi/v8/midi_sources/130k_reddit/C/C/C.NORMAN.midnight lady.mid\n",
      "Error converting midi to sequence 'NoneType' object has no attribute 'open' data/midi/v8/midi_sources/130k_reddit/C/C/chickhouse.mid\n",
      "Error converting midi to sequence 'NoneType' object has no attribute 'open' data/midi/v8/midi_sources/130k_reddit/C/C/cottenfi.mid\n",
      "Error converting midi to sequence 'NoneType' object has no attribute 'open' data/midi/v8/midi_sources/130k_reddit/C/C/caninwin.mid\n",
      "Error converting midi to sequence 'NoneType' object has no attribute 'open' data/midi/v8/midi_sources/130k_reddit/C/C/carefreehwy.mid\n",
      "Error converting midi to sequence 'NoneType' object has no attribute 'open' data/midi/v8/midi_sources/130k_reddit/C/C/cm-dannyboy.mid\n",
      "Error converting midi to sequence 'NoneType' object has no attribute 'open' data/midi/v8/midi_sources/130k_reddit/C/C/cantina07.mid\n",
      "Error converting midi to sequence 'NoneType' object has no attribute 'open' data/midi/v8/midi_sources/130k_reddit/C/C/CrimsonRain.mid\n",
      "Error converting midi to sequence 'NoneType' object has no attribute 'open' data/midi/v8/midi_sources/130k_reddit/C/C/C.RICHARD.Livin doll.mid\n",
      "Error converting midi to sequence 'NoneType' object has no attribute 'open' data/midi/v8/midi_sources/130k_reddit/C/C/carpent6.mid\n",
      "Error converting midi to sequence 'NoneType' object has no attribute 'open' data/midi/v8/midi_sources/130k_reddit/C/C/comitiva.mid\n",
      "Error converting midi to sequence 'NoneType' object has no attribute 'open' data/midi/v8/midi_sources/130k_reddit/C/C/caiuopalco.mid\n",
      "Error converting midi to sequence 'NoneType' object has no attribute 'open' data/midi/v8/midi_sources/130k_reddit/C/C/carrinho_de_mao.mid\n",
      "Error converting midi to sequence 'NoneType' object has no attribute 'open' data/midi/v8/midi_sources/130k_reddit/C/C/Cream - Sunshine of Your Love.mid\n",
      "Error converting midi to sequence 'NoneType' object has no attribute 'open' data/midi/v8/midi_sources/130k_reddit/C/C/Come-In-Out-Of-The-Rain.mid\n",
      "Error converting midi to sequence 'NoneType' object has no attribute 'open' data/midi/v8/midi_sources/130k_reddit/C/C/californiablue.mid\n",
      "Error converting midi to sequence 'NoneType' object has no attribute 'open' data/midi/v8/midi_sources/130k_reddit/C/C/cavatina04.mid\n",
      "Error converting midi to sequence 'NoneType' object has no attribute 'open' data/midi/v8/midi_sources/130k_reddit/C/C/colegiala.mid\n",
      "Error converting midi to sequence 'NoneType' object has no attribute 'open' data/midi/v8/midi_sources/130k_reddit/C/C/C.NORMAN.Don't play your rock'roll to me.mid\n",
      "Error converting midi to sequence 'NoneType' object has no attribute 'open' data/midi/v8/midi_sources/130k_reddit/C/C/Candle-In-The-Wind-2.mid\n",
      "Error converting midi to sequence 'NoneType' object has no attribute 'open' data/midi/v8/midi_sources/130k_reddit/C/C/compare2u.mid\n"
     ]
    },
    {
     "name": "stderr",
     "output_type": "stream",
     "text": [
      "midi: WARNING: Conversion error for <MidiEvent None, t=None, track=0, channel=None>: unknown midi event type: None; ignored.\n"
     ]
    },
    {
     "name": "stdout",
     "output_type": "stream",
     "text": [
      "Error converting midi to sequence 'NoneType' object has no attribute 'open' data/midi/v8/midi_sources/130k_reddit/C/C/Carpenters_Weve_Only_Just_Begun.mid\n",
      "Error converting midi to sequence 'NoneType' object has no attribute 'open' data/midi/v8/midi_sources/130k_reddit/C/C/CAPPELLA.You got to let the music.MID\n",
      "Error converting midi to sequence 'NoneType' object has no attribute 'open' data/midi/v8/midi_sources/130k_reddit/C/C/CocoJambo2.mid\n",
      "Error converting midi to sequence 'NoneType' object has no attribute 'open' data/midi/v8/midi_sources/130k_reddit/C/C/candle-4.mid\n",
      "Error converting midi to sequence 'NoneType' object has no attribute 'open' data/midi/v8/midi_sources/130k_reddit/C/C/carefreehighway.mid\n",
      "Error converting midi to sequence 'NoneType' object has no attribute 'open' data/midi/v8/midi_sources/130k_reddit/C/C/candle-d.mid\n",
      "Error converting midi to sequence 'NoneType' object has no attribute 'open' data/midi/v8/midi_sources/130k_reddit/C/C/canigeta.mid\n"
     ]
    },
    {
     "name": "stderr",
     "output_type": "stream",
     "text": [
      "midi: WARNING: Conversion error for <MidiEvent None, t=None, track=0, channel=None>: unknown midi event type: None; ignored.\n"
     ]
    },
    {
     "name": "stdout",
     "output_type": "stream",
     "text": [
      "Error converting midi to sequence 'NoneType' object has no attribute 'open' data/midi/v8/midi_sources/130k_reddit/C/C/cont.mid\n",
      "Error converting midi to sequence 'NoneType' object has no attribute 'open' data/midi/v8/midi_sources/130k_reddit/C/C/candle-9.mid\n",
      "Error converting midi to sequence 'NoneType' object has no attribute 'open' data/midi/v8/midi_sources/130k_reddit/C/C/Cheles.mid\n",
      "Error converting midi to sequence 'NoneType' object has no attribute 'open' data/midi/v8/midi_sources/130k_reddit/C/C/Can't-Get-Enough-Of-Your-Love-Babe-2.mid\n",
      "Error converting midi to sequence 'NoneType' object has no attribute 'open' data/midi/v8/midi_sources/130k_reddit/C/C/cowbell.mid\n",
      "Error converting midi to sequence 'NoneType' object has no attribute 'open' data/midi/v8/midi_sources/130k_reddit/C/C/c_11.mid\n",
      "Error converting midi to sequence 'NoneType' object has no attribute 'open' data/midi/v8/midi_sources/130k_reddit/C/C/Criticize.mid\n",
      "Error converting midi to sequence 'NoneType' object has no attribute 'open' data/midi/v8/midi_sources/130k_reddit/C/C/CLOCK.MID\n",
      "Error converting midi to sequence 'NoneType' object has no attribute 'open' data/midi/v8/midi_sources/130k_reddit/C/C/celine_dion-you_make_me_feel.mid\n",
      "Error converting midi to sequence 'NoneType' object has no attribute 'open' data/midi/v8/midi_sources/130k_reddit/C/C/chamber.mid\n"
     ]
    },
    {
     "name": "stderr",
     "output_type": "stream",
     "text": [
      "midi: WARNING: Conversion error for <MidiEvent None, t=None, track=0, channel=None>: unknown midi event type: None; ignored.\n"
     ]
    },
    {
     "name": "stdout",
     "output_type": "stream",
     "text": [
      "Error converting midi to sequence 'NoneType' object has no attribute 'open' data/midi/v8/midi_sources/130k_reddit/C/C/cantina4.mid\n",
      "Error converting midi to sequence 'NoneType' object has no attribute 'open' data/midi/v8/midi_sources/130k_reddit/C/C/centerfield.mid\n",
      "Error converting midi to sequence 'NoneType' object has no attribute 'open' data/midi/v8/midi_sources/130k_reddit/C/C/candle07.mid\n",
      "Error converting midi to sequence 'NoneType' object has no attribute 'open' data/midi/v8/midi_sources/130k_reddit/C/C/CHARLES.Hit the road Jack.mid\n",
      "Error converting midi to sequence 'NoneType' object has no attribute 'open' data/midi/v8/midi_sources/130k_reddit/C/C/centrfld.mid\n",
      "Error converting midi to sequence 'NoneType' object has no attribute 'open' data/midi/v8/midi_sources/130k_reddit/C/C/Clair-3.mid\n",
      "Error converting midi to sequence 'NoneType' object has no attribute 'open' data/midi/v8/midi_sources/130k_reddit/C/C/CHA-CHA.MID\n",
      "Error converting midi to sequence 'NoneType' object has no attribute 'open' data/midi/v8/midi_sources/130k_reddit/C/C/Could-It-Be-Magic-2.mid\n",
      "Error converting midi to sequence 'NoneType' object has no attribute 'open' data/midi/v8/midi_sources/130k_reddit/C/C/CrocodileRock.mid\n",
      "Error converting midi to sequence 'NoneType' object has no attribute 'open' data/midi/v8/midi_sources/130k_reddit/C/C/C.ANDREWS.To whom it concerns.mid\n",
      "Error converting midi to sequence 'NoneType' object has no attribute 'open' data/midi/v8/midi_sources/130k_reddit/C/C/Consider-Me-Gone.mid\n",
      "Error converting midi to sequence 'NoneType' object has no attribute 'open' data/midi/v8/midi_sources/130k_reddit/C/C/COLLINS.Two hearts.mid\n",
      "Error converting midi to sequence 'NoneType' object has no attribute 'open' data/midi/v8/midi_sources/130k_reddit/C/C/cantina-3.mid\n",
      "Error converting midi to sequence 'NoneType' object has no attribute 'open' data/midi/v8/midi_sources/130k_reddit/C/C/cuban.mid\n",
      "Error converting midi to sequence 'NoneType' object has no attribute 'open' data/midi/v8/midi_sources/130k_reddit/C/C/CHER.Little man.mid\n",
      "Error converting midi to sequence 'NoneType' object has no attribute 'open' data/midi/v8/midi_sources/130k_reddit/C/C/Cemetery.mid\n",
      "Error converting midi to sequence 'NoneType' object has no attribute 'open' data/midi/v8/midi_sources/130k_reddit/C/C/COLLINS.Every day.mid\n",
      "Error converting midi to sequence 'NoneType' object has no attribute 'open' data/midi/v8/midi_sources/130k_reddit/C/C/CHACHMIX.MID\n",
      "Error converting midi to sequence 'NoneType' object has no attribute 'open' data/midi/v8/midi_sources/130k_reddit/C/C/CROISETTE.Do you know the way to S.Jose'.mid\n",
      "Error converting midi to sequence 'NoneType' object has no attribute 'open' data/midi/v8/midi_sources/130k_reddit/C/C/comadven.mid\n",
      "Error converting midi to sequence 'NoneType' object has no attribute 'open' data/midi/v8/midi_sources/130k_reddit/C/C/C.BACH.In Rio de Janeiro.mid\n",
      "Error converting midi to sequence 'NoneType' object has no attribute 'open' data/midi/v8/midi_sources/130k_reddit/C/C/canto.mid\n",
      "Error converting midi to sequence 'NoneType' object has no attribute 'open' data/midi/v8/midi_sources/130k_reddit/C/C/cows2.mid\n",
      "Error converting midi to sequence 'NoneType' object has no attribute 'open' data/midi/v8/midi_sources/130k_reddit/C/C/careless3.mid\n",
      "Error converting midi to sequence 'NoneType' object has no attribute 'open' data/midi/v8/midi_sources/130k_reddit/C/C/CNY_-_Chinese_New_Yaer.mid\n",
      "Error converting midi to sequence 'NoneType' object has no attribute 'open' data/midi/v8/midi_sources/130k_reddit/C/C/CLOUT.Save me.mid\n",
      "Error converting midi to sequence 'NoneType' object has no attribute 'open' data/midi/v8/midi_sources/130k_reddit/5/5.mid\n",
      "Error converting midi to sequence 'NoneType' object has no attribute 'open' data/midi/v8/midi_sources/130k_reddit/A/A/Ave-Verum-2.mid\n"
     ]
    },
    {
     "name": "stderr",
     "output_type": "stream",
     "text": [
      "midi: WARNING: Conversion error for <MidiEvent None, t=None, track=10, channel=None>: unknown midi event type: None; ignored.\n"
     ]
    },
    {
     "name": "stdout",
     "output_type": "stream",
     "text": [
      "Error converting midi to sequence 'NoneType' object has no attribute 'open' data/midi/v8/midi_sources/130k_reddit/A/A/alwaysonmymind-petshopboys.mid\n",
      "Error converting midi to sequence 'NoneType' object has no attribute 'open' data/midi/v8/midi_sources/130k_reddit/A/A/A-Hard-Day's-Night-1.mid\n",
      "Error converting midi to sequence 'NoneType' object has no attribute 'open' data/midi/v8/midi_sources/130k_reddit/A/A/andilove2.mid\n",
      "Error converting midi to sequence 'NoneType' object has no attribute 'open' data/midi/v8/midi_sources/130k_reddit/A/A/africa_mid2.mid\n",
      "Error converting midi to sequence 'NoneType' object has no attribute 'open' data/midi/v8/midi_sources/130k_reddit/A/A/A.JACKSON.Summertime blues.mid\n",
      "Error converting midi to sequence 'NoneType' object has no attribute 'open' data/midi/v8/midi_sources/130k_reddit/A/A/altamare.mid\n",
      "Error converting midi to sequence 'NoneType' object has no attribute 'open' data/midi/v8/midi_sources/130k_reddit/A/A/All-The-Man-That-I-Need-1.mid\n",
      "Error converting midi to sequence 'NoneType' object has no attribute 'open' data/midi/v8/midi_sources/130k_reddit/A/A/AreYouGonnaGoMyWay.mid\n",
      "Error converting midi to sequence 'NoneType' object has no attribute 'open' data/midi/v8/midi_sources/130k_reddit/A/A/addams2.mid\n",
      "Error converting midi to sequence 'NoneType' object has no attribute 'open' data/midi/v8/midi_sources/130k_reddit/A/A/astime03.mid\n",
      "Error converting midi to sequence 'NoneType' object has no attribute 'open' data/midi/v8/midi_sources/130k_reddit/A/A/allalongthewatchtower.mid\n",
      "Error converting midi to sequence 'NoneType' object has no attribute 'open' data/midi/v8/midi_sources/130k_reddit/C/C/craig_david-walking_away.mid\n",
      "Error converting midi to sequence 'NoneType' object has no attribute 'open' data/midi/v8/midi_sources/130k_reddit/A/A/alexia-uh_la_la_la.mid\n",
      "Error converting midi to sequence 'NoneType' object has no attribute 'open' data/midi/v8/midi_sources/130k_reddit/A/A/ABBA_-_Thank_You_for_the_Music.mid\n",
      "Error converting midi to sequence 'NoneType' object has no attribute 'open' data/midi/v8/midi_sources/130k_reddit/A/A/Amore_mi.mid\n",
      "Error converting midi to sequence 'NoneType' object has no attribute 'open' data/midi/v8/midi_sources/130k_reddit/A/A/allersidstedans.mid\n"
     ]
    },
    {
     "name": "stderr",
     "output_type": "stream",
     "text": [
      "midi: WARNING: Conversion error for <MidiEvent None, t=None, track=0, channel=None>: unknown midi event type: None; ignored.\n"
     ]
    },
    {
     "name": "stdout",
     "output_type": "stream",
     "text": [
      "Error converting midi to sequence 'NoneType' object has no attribute 'open' data/midi/v8/midi_sources/130k_reddit/A/A/ASIA.Don't cry K.mid\n",
      "Error converting midi to sequence 'NoneType' object has no attribute 'open' data/midi/v8/midi_sources/130k_reddit/A/A/anniessong2.mid\n",
      "Error converting midi to sequence 'NoneType' object has no attribute 'open' data/midi/v8/midi_sources/130k_reddit/A/A/Asia_-_The_Smile_Has_Left_Your_Eye.mid\n",
      "Error converting midi to sequence 'NoneType' object has no attribute 'open' data/midi/v8/midi_sources/130k_reddit/A/A/Aspect-Of-Love-(Love-Changes-Everything).mid\n",
      "Error converting midi to sequence 'NoneType' object has no attribute 'open' data/midi/v8/midi_sources/130k_reddit/A/A/anastacia-left_outside_alone.mid\n",
      "Error converting midi to sequence 'NoneType' object has no attribute 'open' data/midi/v8/midi_sources/130k_reddit/A/A/ABBA_-_Fernando.mid\n",
      "Error converting midi to sequence 'NoneType' object has no attribute 'open' data/midi/v8/midi_sources/130k_reddit/A/A/are_you_gonna_go_my_way.mid\n",
      "Error converting midi to sequence 'NoneType' object has no attribute 'open' data/midi/v8/midi_sources/130k_reddit/A/A/atomic_kitten-the_last_goodbye.mid\n",
      "Error converting midi to sequence 'NoneType' object has no attribute 'open' data/midi/v8/midi_sources/130k_reddit/A/A/alone04.mid\n",
      "Error converting midi to sequence 'NoneType' object has no attribute 'open' data/midi/v8/midi_sources/130k_reddit/A/A/Ayumi_Hamasaki_Love_Destiny_Remix.mid\n",
      "Error converting midi to sequence 'NoneType' object has no attribute 'open' data/midi/v8/midi_sources/130k_reddit/A/A/aguacoco.mid\n",
      "Error converting midi to sequence 'NoneType' object has no attribute 'open' data/midi/v8/midi_sources/130k_reddit/A/A/apache09.mid\n",
      "Error converting midi to sequence 'NoneType' object has no attribute 'open' data/midi/v8/midi_sources/130k_reddit/A/A/abba_-_dancing_queen.mid\n",
      "Error converting midi to sequence 'NoneType' object has no attribute 'open' data/midi/v8/midi_sources/130k_reddit/A/A/An-English-Man-In-New-York-2.mid\n",
      "Error converting midi to sequence 'NoneType' object has no attribute 'open' data/midi/v8/midi_sources/130k_reddit/A/A/A_LEGEND.MID\n",
      "Error converting midi to sequence 'NoneType' object has no attribute 'open' data/midi/v8/midi_sources/130k_reddit/A/A/afoggydaayinlondontown.mid\n",
      "Error converting midi to sequence 'NoneType' object has no attribute 'open' data/midi/v8/midi_sources/130k_reddit/A/A/ASTIMESG.MID\n",
      "Error converting midi to sequence 'NoneType' object has no attribute 'open' data/midi/v8/midi_sources/130k_reddit/A/A/all_for_love.mid\n",
      "Error converting midi to sequence 'NoneType' object has no attribute 'open' data/midi/v8/midi_sources/130k_reddit/A/A/ahlam.mid\n",
      "Error converting midi to sequence 'NoneType' object has no attribute 'open' data/midi/v8/midi_sources/130k_reddit/A/A/amasseassim.mid\n",
      "Error converting midi to sequence 'NoneType' object has no attribute 'open' data/midi/v8/midi_sources/130k_reddit/A/A/abba-money_money_money.mid\n",
      "Error converting midi to sequence 'NoneType' object has no attribute 'open' data/midi/v8/midi_sources/130k_reddit/A/A/ayla1.mid\n",
      "Error converting midi to sequence 'NoneType' object has no attribute 'open' data/midi/v8/midi_sources/130k_reddit/A/A/andrea_bocelli_-_time_to_say_goodbye.mid\n",
      "Error converting midi to sequence 'NoneType' object has no attribute 'open' data/midi/v8/midi_sources/130k_reddit/A/A/AnniesSong.mid\n",
      "Error converting midi to sequence 'NoneType' object has no attribute 'open' data/midi/v8/midi_sources/130k_reddit/A/A/anthem03.mid\n",
      "Error converting midi to sequence 'NoneType' object has no attribute 'open' data/midi/v8/midi_sources/130k_reddit/A/A/AllTheMan.mid\n",
      "Error converting midi to sequence 'NoneType' object has no attribute 'open' data/midi/v8/midi_sources/130k_reddit/A/A/Atmosphere.mid\n",
      "Error converting midi to sequence 'NoneType' object has no attribute 'open' data/midi/v8/midi_sources/130k_reddit/A/A/Axel-F-3.mid\n",
      "Error converting midi to sequence 'NoneType' object has no attribute 'open' data/midi/v8/midi_sources/130k_reddit/A/A/Activator.mid\n",
      "Error converting midi to sequence 'NoneType' object has no attribute 'open' data/midi/v8/midi_sources/130k_reddit/A/A/absoluta.mid\n",
      "Error converting midi to sequence 'NoneType' object has no attribute 'open' data/midi/v8/midi_sources/130k_reddit/A/A/An-English-Man-In-New-York-3.mid\n",
      "Error converting midi to sequence 'NoneType' object has no attribute 'open' data/midi/v8/midi_sources/130k_reddit/A/A/ATTACK.MID\n",
      "Error converting midi to sequence 'NoneType' object has no attribute 'open' data/midi/v8/midi_sources/130k_reddit/A/A/Aquagen_-_HardToSayImSorry__psycraft_20121211100538.mid\n",
      "Error converting midi to sequence 'NoneType' object has no attribute 'open' data/midi/v8/midi_sources/130k_reddit/A/A/ambulante.mid\n",
      "Error converting midi to sequence 'NoneType' object has no attribute 'open' data/midi/v8/midi_sources/130k_reddit/A/A/Ave-Montanara-(Das-Lied-Der-Bergen)-2.mid\n",
      "Error converting midi to sequence 'NoneType' object has no attribute 'open' data/midi/v8/midi_sources/130k_reddit/A/A/anarchy.mid\n",
      "Error converting midi to sequence 'NoneType' object has no attribute 'open' data/midi/v8/midi_sources/130k_reddit/A/A/agalma.mid\n",
      "Error converting midi to sequence 'NoneType' object has no attribute 'open' data/midi/v8/midi_sources/130k_reddit/A/A/Advice.mid\n"
     ]
    },
    {
     "name": "stderr",
     "output_type": "stream",
     "text": [
      "midi: WARNING: Conversion error for <MidiEvent None, t=None, track=0, channel=None>: unknown midi event type: None; ignored.\n"
     ]
    },
    {
     "name": "stdout",
     "output_type": "stream",
     "text": [
      "Error converting midi to sequence 'NoneType' object has no attribute 'open' data/midi/v8/midi_sources/130k_reddit/A/A/a-admira.mid\n",
      "Error converting midi to sequence 'NoneType' object has no attribute 'open' data/midi/v8/midi_sources/130k_reddit/A/A/Amboss-Polka-2.mid\n"
     ]
    },
    {
     "name": "stderr",
     "output_type": "stream",
     "text": [
      "midi: WARNING: Conversion error for <MidiEvent None, t=None, track=15, channel=None>: unknown midi event type: None; ignored.\n"
     ]
    },
    {
     "name": "stdout",
     "output_type": "stream",
     "text": [
      "Error converting midi to sequence 'NoneType' object has no attribute 'open' data/midi/v8/midi_sources/130k_reddit/A/A/AMAPOLA.MID\n",
      "Error converting midi to sequence 'NoneType' object has no attribute 'open' data/midi/v8/midi_sources/130k_reddit/A/A/ayam_didik.mid\n",
      "Error converting midi to sequence 'NoneType' object has no attribute 'open' data/midi/v8/midi_sources/130k_reddit/A/A/advance.mid\n",
      "Error converting midi to sequence 'NoneType' object has no attribute 'open' data/midi/v8/midi_sources/130k_reddit/A/A/AgainstAllOdds9.mid\n",
      "Error converting midi to sequence 'NoneType' object has no attribute 'open' data/midi/v8/midi_sources/130k_reddit/A/A/Ave-Maria-4.mid\n",
      "Error converting midi to sequence 'NoneType' object has no attribute 'open' data/midi/v8/midi_sources/130k_reddit/A/A/ABBA_-_Knowing_Me_Knowing_You.mid\n",
      "Error converting midi to sequence 'NoneType' object has no attribute 'open' data/midi/v8/midi_sources/130k_reddit/A/A/Atmsphre.mid\n",
      "Error converting midi to sequence 'NoneType' object has no attribute 'open' data/midi/v8/midi_sources/130k_reddit/A/A/AgainstAllOdds5.mid\n",
      "Error converting midi to sequence 'NoneType' object has no attribute 'open' data/midi/v8/midi_sources/130k_reddit/A/A/american-pie.mid\n"
     ]
    },
    {
     "name": "stderr",
     "output_type": "stream",
     "text": [
      "midi: WARNING: Conversion error for <MidiEvent None, t=None, track=11, channel=None>: unknown midi event type: None; ignored.\n"
     ]
    },
    {
     "name": "stdout",
     "output_type": "stream",
     "text": [
      "Error converting midi to sequence 'NoneType' object has no attribute 'open' data/midi/v8/midi_sources/130k_reddit/A/A/Apache-2.mid\n",
      "Error converting midi to sequence 'NoneType' object has no attribute 'open' data/midi/v8/midi_sources/130k_reddit/A/A/AEROSMITH.Walk this way.MID\n"
     ]
    },
    {
     "name": "stderr",
     "output_type": "stream",
     "text": [
      "midi: WARNING: Conversion error for <MidiEvent None, t=None, track=0, channel=None>: unknown midi event type: None; ignored.\n"
     ]
    },
    {
     "name": "stdout",
     "output_type": "stream",
     "text": [
      "Error converting midi to sequence 'NoneType' object has no attribute 'open' data/midi/v8/midi_sources/130k_reddit/A/A/Abarrach.mid\n",
      "Error converting midi to sequence 'NoneType' object has no attribute 'open' data/midi/v8/midi_sources/130k_reddit/A/A/atb__9pm_v3__unknown.mid\n",
      "Error converting midi to sequence 'NoneType' object has no attribute 'open' data/midi/v8/midi_sources/130k_reddit/A/A/America-(From-'Hair).mid\n",
      "Error converting midi to sequence 'NoneType' object has no attribute 'open' data/midi/v8/midi_sources/130k_reddit/A/A/Aintnobo.mid\n",
      "Error converting midi to sequence 'NoneType' object has no attribute 'open' data/midi/v8/midi_sources/130k_reddit/A/A/add.mid\n",
      "Error converting midi to sequence 'NoneType' object has no attribute 'open' data/midi/v8/midi_sources/130k_reddit/A/A/alphaville-forever_young.mid\n",
      "Error converting midi to sequence 'NoneType' object has no attribute 'open' data/midi/v8/midi_sources/130k_reddit/A/A/abba-i_have_a_dream.mid\n",
      "Error converting midi to sequence 'NoneType' object has no attribute 'open' data/midi/v8/midi_sources/130k_reddit/A/A/A.MARVEL.Make you happy.mid\n",
      "Error converting midi to sequence 'NoneType' object has no attribute 'open' data/midi/v8/midi_sources/130k_reddit/A/A/Angela-(From-'Taxi').mid\n",
      "Error converting midi to sequence 'NoneType' object has no attribute 'open' data/midi/v8/midi_sources/130k_reddit/A/A/Abenteuerland-2.mid\n",
      "Error converting midi to sequence 'NoneType' object has no attribute 'open' data/midi/v8/midi_sources/130k_reddit/A/A/Ace_of_Base_-_Xray.mid\n",
      "Error converting midi to sequence 'NoneType' object has no attribute 'open' data/midi/v8/midi_sources/130k_reddit/A/A/AINTSHES.MID\n",
      "Error converting midi to sequence 'NoneType' object has no attribute 'open' data/midi/v8/midi_sources/130k_reddit/A/A/alegria3.mid\n",
      "Error converting midi to sequence 'NoneType' object has no attribute 'open' data/midi/v8/midi_sources/130k_reddit/A/A/ASZNAVOUR.L'istrione.mid\n",
      "Error converting midi to sequence 'NoneType' object has no attribute 'open' data/midi/v8/midi_sources/130k_reddit/A/A/A.LANDERS.Little river.MID\n",
      "Error converting midi to sequence 'NoneType' object has no attribute 'open' data/midi/v8/midi_sources/130k_reddit/A/A/Alhamdulilah.mid\n",
      "Error converting midi to sequence 'NoneType' object has no attribute 'open' data/midi/v8/midi_sources/130k_reddit/A/A/Alles-Oke-1.mid\n",
      "Error converting midi to sequence 'NoneType' object has no attribute 'open' data/midi/v8/midi_sources/130k_reddit/A/A/abba-knowing_me_knowing_you.mid\n",
      "Error converting midi to sequence 'NoneType' object has no attribute 'open' data/midi/v8/midi_sources/130k_reddit/A/A/adiemus3.mid\n",
      "Error converting midi to sequence 'NoneType' object has no attribute 'open' data/midi/v8/midi_sources/130k_reddit/A/A/Apache2.mid\n",
      "Error converting midi to sequence 'NoneType' object has no attribute 'open' data/midi/v8/midi_sources/130k_reddit/A/A/A.HAMMOND.Down by the river.mid\n",
      "Error converting midi to sequence 'NoneType' object has no attribute 'open' data/midi/v8/midi_sources/130k_reddit/A/A/All-I-Have-To-Do-Is-Dream-2.mid\n",
      "Error converting midi to sequence 'NoneType' object has no attribute 'open' data/midi/v8/midi_sources/130k_reddit/A/A/ABBA_-_Waterloo.mid\n",
      "Error converting midi to sequence 'NoneType' object has no attribute 'open' data/midi/v8/midi_sources/130k_reddit/A/A/ATHREAT.MID\n",
      "Error converting midi to sequence 'NoneType' object has no attribute 'open' data/midi/v8/midi_sources/130k_reddit/A/A/A.CORDES.When I think about love.mid\n",
      "Error converting midi to sequence 'NoneType' object has no attribute 'open' data/midi/v8/midi_sources/130k_reddit/A/A/Agianst-All-Odds-1.mid\n",
      "Error converting midi to sequence 'NoneType' object has no attribute 'open' data/midi/v8/midi_sources/130k_reddit/A/A/Aber-Dich-Gibt's-Nur-Einmal-Fur-Mich-2.mid\n",
      "Error converting midi to sequence 'NoneType' object has no attribute 'open' data/midi/v8/midi_sources/130k_reddit/A/A/Apache-3.mid\n"
     ]
    },
    {
     "name": "stderr",
     "output_type": "stream",
     "text": [
      "midi: WARNING: Conversion error for <MidiEvent None, t=None, track=0, channel=None>: unknown midi event type: None; ignored.\n"
     ]
    },
    {
     "name": "stdout",
     "output_type": "stream",
     "text": [
      "Error converting midi to sequence 'NoneType' object has no attribute 'open' data/midi/v8/midi_sources/130k_reddit/A/A/Amorado-1.mid\n",
      "Error converting midi to sequence 'NoneType' object has no attribute 'open' data/midi/v8/midi_sources/130k_reddit/A/A/abraca.mid\n",
      "Error converting midi to sequence 'NoneType' object has no attribute 'open' data/midi/v8/midi_sources/130k_reddit/A/A/A HA.There's never a forever thing.mid\n"
     ]
    },
    {
     "name": "stderr",
     "output_type": "stream",
     "text": [
      "midi: WARNING: Conversion error for <MidiEvent None, t=None, track=1, channel=None>: unknown midi event type: None; ignored.\n"
     ]
    },
    {
     "name": "stdout",
     "output_type": "stream",
     "text": [
      "Error converting midi to sequence 'NoneType' object has no attribute 'open' data/midi/v8/midi_sources/130k_reddit/A/A/A-Hard-Day's-Night-5.mid\n",
      "Error converting midi to sequence 'NoneType' object has no attribute 'open' data/midi/v8/midi_sources/130k_reddit/A/A/AiNoSenshi6.mid\n",
      "Error converting midi to sequence 'NoneType' object has no attribute 'open' data/midi/v8/midi_sources/130k_reddit/A/A/african2.mid\n",
      "Error converting midi to sequence 'NoneType' object has no attribute 'open' data/midi/v8/midi_sources/130k_reddit/A/A/Abba-Nr-2-(Medley).mid\n",
      "Error converting midi to sequence 'NoneType' object has no attribute 'open' data/midi/v8/midi_sources/130k_reddit/A/A/A.JACKSON.Tall tall trees.mid\n",
      "Error converting midi to sequence 'NoneType' object has no attribute 'open' data/midi/v8/midi_sources/130k_reddit/A/A/andshesaid.mid\n",
      "Error converting midi to sequence 'NoneType' object has no attribute 'open' data/midi/v8/midi_sources/130k_reddit/A/A/alcazar-crying_at_the_discoteque.mid\n",
      "Error converting midi to sequence 'NoneType' object has no attribute 'open' data/midi/v8/midi_sources/130k_reddit/A/A/africa_mid1.mid\n",
      "Error converting midi to sequence 'NoneType' object has no attribute 'open' data/midi/v8/midi_sources/130k_reddit/A/A/Annie'sSong.mid\n",
      "Error converting midi to sequence 'NoneType' object has no attribute 'open' data/midi/v8/midi_sources/130k_reddit/A/A/Ayumi_Hamasaki_Love_Destiny_RemixII.mid\n",
      "Error converting midi to sequence 'NoneType' object has no attribute 'open' data/midi/v8/midi_sources/130k_reddit/A/A/abba-waterloo.mid\n",
      "Error converting midi to sequence 'NoneType' object has no attribute 'open' data/midi/v8/midi_sources/130k_reddit/A/A/AllWannaDo.mid\n",
      "Error converting midi to sequence 'NoneType' object has no attribute 'open' data/midi/v8/midi_sources/130k_reddit/A/A/apache03.mid\n",
      "Error converting midi to sequence 'NoneType' object has no attribute 'open' data/midi/v8/midi_sources/130k_reddit/A/A/Alles-Bingo-1.mid\n",
      "Error converting midi to sequence 'NoneType' object has no attribute 'open' data/midi/v8/midi_sources/130k_reddit/A/A/A-Girl-Like-You.mid\n",
      "Error converting midi to sequence 'NoneType' object has no attribute 'open' data/midi/v8/midi_sources/130k_reddit/A/A/An-Der-Schonen-Blauen-Donau-3.mid\n",
      "Error converting midi to sequence 'NoneType' object has no attribute 'open' data/midi/v8/midi_sources/130k_reddit/A/A/ATB_-_9_PM__autumnal_20100402122658.mid\n",
      "Error converting midi to sequence 'NoneType' object has no attribute 'open' data/midi/v8/midi_sources/130k_reddit/A/A/amillion.mid\n",
      "Error converting midi to sequence 'NoneType' object has no attribute 'open' data/midi/v8/midi_sources/130k_reddit/A/A/Air-In-G.mid\n",
      "Error converting midi to sequence 'NoneType' object has no attribute 'open' data/midi/v8/midi_sources/130k_reddit/A/A/A.JACKSON.I dont even know your name.mid\n",
      "Error converting midi to sequence 'NoneType' object has no attribute 'open' data/midi/v8/midi_sources/130k_reddit/A/A/allrightnow.mid\n",
      "Error converting midi to sequence 'NoneType' object has no attribute 'open' data/midi/v8/midi_sources/130k_reddit/A/A/Allegretto.mid\n",
      "Error converting midi to sequence 'NoneType' object has no attribute 'open' data/midi/v8/midi_sources/130k_reddit/A/A/Always-On-My-Mind-1.mid\n",
      "Error converting midi to sequence 'NoneType' object has no attribute 'open' data/midi/v8/midi_sources/130k_reddit/A/A/A07.mid\n",
      "Error converting midi to sequence 'NoneType' object has no attribute 'open' data/midi/v8/midi_sources/130k_reddit/A/A/abba-fernando.mid\n",
      "Error converting midi to sequence 'NoneType' object has no attribute 'open' data/midi/v8/midi_sources/130k_reddit/A/A/ASHESOFL.MID\n",
      "Error converting midi to sequence 'NoneType' object has no attribute 'open' data/midi/v8/midi_sources/130k_reddit/A/A/Amicimai2.mid\n"
     ]
    },
    {
     "name": "stderr",
     "output_type": "stream",
     "text": [
      "midi: WARNING: Conversion error for <MidiEvent None, t=None, track=9, channel=None>: unknown midi event type: None; ignored.\n",
      "midi: WARNING: Conversion error for <MidiEvent None, t=None, track=7, channel=None>: unknown midi event type: None; ignored.\n",
      "midi: WARNING: Conversion error for <MidiEvent None, t=None, track=10, channel=None>: unknown midi event type: None; ignored.\n",
      "midi: WARNING: Conversion error for <MidiEvent None, t=None, track=9, channel=None>: unknown midi event type: None; ignored.\n",
      "midi: WARNING: Conversion error for <MidiEvent None, t=None, track=7, channel=None>: unknown midi event type: None; ignored.\n",
      "midi: WARNING: Conversion error for <MidiEvent None, t=None, track=10, channel=None>: unknown midi event type: None; ignored.\n"
     ]
    },
    {
     "name": "stdout",
     "output_type": "stream",
     "text": [
      "Error converting midi to sequence 'NoneType' object has no attribute 'open' data/midi/v8/midi_sources/130k_reddit/A/A/anata.mid\n",
      "Error converting midi to sequence 'NoneType' object has no attribute 'open' data/midi/v8/midi_sources/130k_reddit/A/A/anythingforlove.mid\n",
      "Error converting midi to sequence 'NoneType' object has no attribute 'open' data/midi/v8/midi_sources/130k_reddit/A/A/ASECRETI.MID\n"
     ]
    },
    {
     "name": "stderr",
     "output_type": "stream",
     "text": [
      "midi: WARNING: Conversion error for <MidiEvent None, t=None, track=0, channel=None>: unknown midi event type: None; ignored.\n"
     ]
    },
    {
     "name": "stdout",
     "output_type": "stream",
     "text": [
      "Error converting midi to sequence 'NoneType' object has no attribute 'open' data/midi/v8/midi_sources/130k_reddit/A/A/Alannah_Myles_-_Black_Velvet.mid\n",
      "Error converting midi to sequence 'NoneType' object has no attribute 'open' data/midi/v8/midi_sources/130k_reddit/A/A/Aquagen - Hard To Say Im Sorry.mid\n",
      "Error converting midi to sequence 'NoneType' object has no attribute 'open' data/midi/v8/midi_sources/130k_reddit/K/K/KAUFSTY.MID\n",
      "Error converting midi to sequence 'NoneType' object has no attribute 'open' data/midi/v8/midi_sources/130k_reddit/A/A/abba-dancing_queen.mid\n",
      "Error converting midi to sequence 'NoneType' object has no attribute 'open' data/midi/v8/midi_sources/130k_reddit/K/K/KBP07_08.MID\n",
      "Error converting midi to sequence 'NoneType' object has no attribute 'open' data/midi/v8/midi_sources/130k_reddit/K/K/KickinItUp.mid\n",
      "Error converting midi to sequence 'NoneType' object has no attribute 'open' data/midi/v8/midi_sources/130k_reddit/K/K/KBP04_01.MID\n",
      "Error converting midi to sequence 'NoneType' object has no attribute 'open' data/midi/v8/midi_sources/130k_reddit/K/K/KBP07_06.MID\n",
      "Error converting midi to sequence 'NoneType' object has no attribute 'open' data/midi/v8/midi_sources/130k_reddit/K/K/Kuddel-Mude.mid\n",
      "Error converting midi to sequence 'NoneType' object has no attribute 'open' data/midi/v8/midi_sources/130k_reddit/K/K/KBP04_08.MID\n",
      "Error converting midi to sequence 'NoneType' object has no attribute 'open' data/midi/v8/midi_sources/130k_reddit/A/A/a-dancingqueen.mid\n",
      "Error converting midi to sequence 'NoneType' object has no attribute 'open' data/midi/v8/midi_sources/130k_reddit/K/K/KBP07_07.MID\n",
      "Error converting midi to sequence 'NoneType' object has no attribute 'open' data/midi/v8/midi_sources/130k_reddit/K/K/KBP06_02.MID\n",
      "Error converting midi to sequence 'NoneType' object has no attribute 'open' data/midi/v8/midi_sources/130k_reddit/K/K/KBP07_03.MID\n",
      "Error converting midi to sequence 'NoneType' object has no attribute 'open' data/midi/v8/midi_sources/130k_reddit/K/K/KBP01_02.MID\n",
      "Error converting midi to sequence 'NoneType' object has no attribute 'open' data/midi/v8/midi_sources/130k_reddit/K/K/kazeni.mid\n",
      "Error converting midi to sequence 'NoneType' object has no attribute 'open' data/midi/v8/midi_sources/130k_reddit/K/K/KR_009.MID\n",
      "Error converting midi to sequence 'NoneType' object has no attribute 'open' data/midi/v8/midi_sources/130k_reddit/A/A/alldead.mid\n",
      "Error converting midi to sequence 'NoneType' object has no attribute 'open' data/midi/v8/midi_sources/130k_reddit/K/K/KBP06_08.MID\n",
      "Error converting midi to sequence 'NoneType' object has no attribute 'open' data/midi/v8/midi_sources/130k_reddit/K/K/KBP04_03.MID\n",
      "Error converting midi to sequence 'NoneType' object has no attribute 'open' data/midi/v8/midi_sources/130k_reddit/K/K/KBP04_07.MID\n",
      "Error converting midi to sequence 'NoneType' object has no attribute 'open' data/midi/v8/midi_sources/130k_reddit/K/K/KR_004.MID\n",
      "Error converting midi to sequence 'NoneType' object has no attribute 'open' data/midi/v8/midi_sources/130k_reddit/K/K/Knockin'-1.mid\n",
      "Error converting midi to sequence 'NoneType' object has no attribute 'open' data/midi/v8/midi_sources/130k_reddit/K/K/KBP06_07.MID\n",
      "Error converting midi to sequence 'NoneType' object has no attribute 'open' data/midi/v8/midi_sources/130k_reddit/K/K/Knowing-Me-Knowing-You-1.mid\n",
      "Error converting midi to sequence 'NoneType' object has no attribute 'open' data/midi/v8/midi_sources/130k_reddit/K/K/Kiss-Me-Quick-1.mid\n",
      "Error converting midi to sequence 'NoneType' object has no attribute 'open' data/midi/v8/midi_sources/130k_reddit/K/K/Kataplik.mid\n",
      "Error converting midi to sequence 'NoneType' object has no attribute 'open' data/midi/v8/midi_sources/130k_reddit/K/K/kc09.mid\n",
      "Error converting midi to sequence 'NoneType' object has no attribute 'open' data/midi/v8/midi_sources/130k_reddit/K/K/Kok_fust.mid\n",
      "Error converting midi to sequence 'NoneType' object has no attribute 'open' data/midi/v8/midi_sources/130k_reddit/A/A/Aretha Franklin - Think.mid\n",
      "Error converting midi to sequence 'NoneType' object has no attribute 'open' data/midi/v8/midi_sources/130k_reddit/K/K/KNOCKIN.MID\n",
      "Error converting midi to sequence 'NoneType' object has no attribute 'open' data/midi/v8/midi_sources/130k_reddit/K/K/Kussen-Verboten-2.mid\n",
      "Error converting midi to sequence 'NoneType' object has no attribute 'open' data/midi/v8/midi_sources/130k_reddit/K/K/KR_002.MID\n",
      "Error converting midi to sequence 'NoneType' object has no attribute 'open' data/midi/v8/midi_sources/130k_reddit/K/K/KC-JoJo.mid\n",
      "Error converting midi to sequence 'NoneType' object has no attribute 'open' data/midi/v8/midi_sources/130k_reddit/K/K/KBP07_02.MID\n",
      "Error converting midi to sequence 'NoneType' object has no attribute 'open' data/midi/v8/midi_sources/130k_reddit/K/K/KBP04_05.MID\n",
      "Error converting midi to sequence 'NoneType' object has no attribute 'open' data/midi/v8/midi_sources/130k_reddit/K/K/KBP08_04.MID\n",
      "Error converting midi to sequence 'NoneType' object has no attribute 'open' data/midi/v8/midi_sources/130k_reddit/K/K/KBP06_06.MID\n",
      "Error converting midi to sequence 'NoneType' object has no attribute 'open' data/midi/v8/midi_sources/130k_reddit/K/K/ktauladan.mid\n"
     ]
    },
    {
     "name": "stderr",
     "output_type": "stream",
     "text": [
      "midi: WARNING: Conversion error for <MidiEvent None, t=None, track=9, channel=None>: unknown midi event type: None; ignored.\n",
      "midi: WARNING: Conversion error for <MidiEvent None, t=None, track=8, channel=None>: unknown midi event type: None; ignored.\n"
     ]
    },
    {
     "name": "stdout",
     "output_type": "stream",
     "text": [
      "Error converting midi to sequence 'NoneType' object has no attribute 'open' data/midi/v8/midi_sources/130k_reddit/K/K/Kalddet.mid\n",
      "Error converting midi to sequence 'NoneType' object has no attribute 'open' data/midi/v8/midi_sources/130k_reddit/K/K/keman.mid\n",
      "Error converting midi to sequence 'NoneType' object has no attribute 'open' data/midi/v8/midi_sources/130k_reddit/K/K/King-Of-The-Road-3.mid\n"
     ]
    },
    {
     "name": "stderr",
     "output_type": "stream",
     "text": [
      "midi: WARNING: Conversion error for <MidiEvent None, t=None, track=7, channel=None>: unknown midi event type: None; ignored.\n",
      "midi: WARNING: Conversion error for <MidiEvent None, t=None, track=6, channel=None>: unknown midi event type: None; ignored.\n"
     ]
    },
    {
     "name": "stdout",
     "output_type": "stream",
     "text": [
      "Error converting midi to sequence 'NoneType' object has no attribute 'open' data/midi/v8/midi_sources/130k_reddit/K/K/Kurz-Tusch-2.mid\n",
      "Error converting midi to sequence 'NoneType' object has no attribute 'open' data/midi/v8/midi_sources/130k_reddit/K/K/KR_007.MID\n",
      "Error converting midi to sequence 'NoneType' object has no attribute 'open' data/midi/v8/midi_sources/130k_reddit/K/K/koko_korina.mid\n",
      "Error converting midi to sequence 'NoneType' object has no attribute 'open' data/midi/v8/midi_sources/130k_reddit/K/K/Kontiki-1.mid\n",
      "Error converting midi to sequence 'NoneType' object has no attribute 'open' data/midi/v8/midi_sources/130k_reddit/K/K/kc06.mid\n",
      "Error converting midi to sequence 'NoneType' object has no attribute 'open' data/midi/v8/midi_sources/130k_reddit/K/K/kenny_rogers-through_the_years_version_2.mid\n",
      "Error converting midi to sequence 'NoneType' object has no attribute 'open' data/midi/v8/midi_sources/130k_reddit/K/K/kenny_rogers-lady_version_2.mid\n",
      "Error converting midi to sequence 'NoneType' object has no attribute 'open' data/midi/v8/midi_sources/130k_reddit/K/K/KBP04_06.MID\n",
      "Error converting midi to sequence 'NoneType' object has no attribute 'open' data/midi/v8/midi_sources/130k_reddit/K/K/KnowingMeKnowingYou.mid\n",
      "Error converting midi to sequence 'NoneType' object has no attribute 'open' data/midi/v8/midi_sources/130k_reddit/K/K/katy_perry-california_gurls_feat_snoop_dogg.mid\n",
      "Error converting midi to sequence 'NoneType' object has no attribute 'open' data/midi/v8/midi_sources/130k_reddit/K/K/Kurz-Und-Gut.mid\n",
      "Error converting midi to sequence 'NoneType' object has no attribute 'open' data/midi/v8/midi_sources/130k_reddit/K/K/KBP07_05.MID\n",
      "Error converting midi to sequence 'NoneType' object has no attribute 'open' data/midi/v8/midi_sources/130k_reddit/K/K/Kicksey.mid\n",
      "Error converting midi to sequence 'NoneType' object has no attribute 'open' data/midi/v8/midi_sources/130k_reddit/K/K/KEEPONSM.MID\n",
      "Error converting midi to sequence 'NoneType' object has no attribute 'open' data/midi/v8/midi_sources/130k_reddit/K/K/KBP07_04.MID\n"
     ]
    },
    {
     "name": "stderr",
     "output_type": "stream",
     "text": [
      "midi: WARNING: Conversion error for <MidiEvent None, t=None, track=0, channel=None>: unknown midi event type: None; ignored.\n"
     ]
    },
    {
     "name": "stdout",
     "output_type": "stream",
     "text": [
      "Error converting midi to sequence 'NoneType' object has no attribute 'open' data/midi/v8/midi_sources/130k_reddit/K/K/KR_008.MID\n",
      "Error converting midi to sequence 'NoneType' object has no attribute 'open' data/midi/v8/midi_sources/130k_reddit/K/K/Kiss-1.mid\n",
      "Error converting midi to sequence 'NoneType' object has no attribute 'open' data/midi/v8/midi_sources/130k_reddit/K/K/KALYA.Ritual Tibetan.mid\n",
      "Error converting midi to sequence 'NoneType' object has no attribute 'open' data/midi/v8/midi_sources/130k_reddit/K/K/Keep-On-Running-2.mid\n",
      "Error converting midi to sequence 'NoneType' object has no attribute 'open' data/midi/v8/midi_sources/130k_reddit/K/K/kc11.mid\n",
      "Error converting midi to sequence 'NoneType' object has no attribute 'open' data/midi/v8/midi_sources/130k_reddit/K/K/kc12.mid\n",
      "Error converting midi to sequence 'NoneType' object has no attribute 'open' data/midi/v8/midi_sources/130k_reddit/K/K/KBP04_02.MID\n",
      "Error converting midi to sequence 'NoneType' object has no attribute 'open' data/midi/v8/midi_sources/130k_reddit/K/K/Kishot.mid\n",
      "Error converting midi to sequence 'NoneType' object has no attribute 'open' data/midi/v8/midi_sources/130k_reddit/K/K/KBP07_01.MID\n",
      "Error converting midi to sequence 'NoneType' object has no attribute 'open' data/midi/v8/midi_sources/130k_reddit/K/K/kc01.mid\n",
      "Error converting midi to sequence 'NoneType' object has no attribute 'open' data/midi/v8/midi_sources/130k_reddit/K/K/KBP06_04.MID\n",
      "Error converting midi to sequence 'NoneType' object has no attribute 'open' data/midi/v8/midi_sources/130k_reddit/K/K/kylie_minogue-red_blooded_woman.mid\n",
      "Error converting midi to sequence 'NoneType' object has no attribute 'open' data/midi/v8/midi_sources/130k_reddit/K/K/KBP04_04.MID\n",
      "Error converting midi to sequence 'NoneType' object has no attribute 'open' data/midi/v8/midi_sources/130k_reddit/K/K/kc02.mid\n",
      "Error converting midi to sequence 'NoneType' object has no attribute 'open' data/midi/v8/midi_sources/130k_reddit/K/K/Kurz-Tusch-1.mid\n",
      "Error converting midi to sequence 'NoneType' object has no attribute 'open' data/midi/v8/midi_sources/130k_reddit/K/K/KHALED.Wahrane.mid\n",
      "Error converting midi to sequence 'NoneType' object has no attribute 'open' data/midi/v8/midi_sources/130k_reddit/K/K/KR_003.MID\n",
      "Error converting midi to sequence 'NoneType' object has no attribute 'open' data/midi/v8/midi_sources/130k_reddit/K/K/king_africa-la_bomba.mid\n",
      "Error converting midi to sequence 'NoneType' object has no attribute 'open' data/midi/v8/midi_sources/130k_reddit/K/K/K.WILDE.Kids in America.mid\n",
      "Error converting midi to sequence 'NoneType' object has no attribute 'open' data/midi/v8/midi_sources/130k_reddit/K/K/keepsun.mid\n",
      "Error converting midi to sequence 'NoneType' object has no attribute 'open' data/midi/v8/midi_sources/130k_reddit/K/K/Keine-Zeit.mid\n",
      "Error converting midi to sequence 'NoneType' object has no attribute 'open' data/midi/v8/midi_sources/130k_reddit/K/K/Kingston-Town-2.mid\n"
     ]
    },
    {
     "name": "stderr",
     "output_type": "stream",
     "text": [
      "midi: WARNING: Conversion error for <MidiEvent None, t=None, track=0, channel=None>: unknown midi event type: None; ignored.\n"
     ]
    },
    {
     "name": "stdout",
     "output_type": "stream",
     "text": [
      "Error converting midi to sequence 'NoneType' object has no attribute 'open' data/midi/v8/midi_sources/130k_reddit/K/K/kelly_clarkson-stronger_what_doesnt_kill_you.mid\n",
      "Error converting midi to sequence 'NoneType' object has no attribute 'open' data/midi/v8/midi_sources/130k_reddit/V/V/Vanilla Ice - Ice Ice Baby.mid\n",
      "Error converting midi to sequence 'NoneType' object has no attribute 'open' data/midi/v8/midi_sources/130k_reddit/K/K/K.C.SUNSHINE BAND.Give it up.MID\n",
      "Error converting midi to sequence 'NoneType' object has no attribute 'open' data/midi/v8/midi_sources/130k_reddit/V/V/VIVAVEGA.MID\n",
      "Error converting midi to sequence 'NoneType' object has no attribute 'open' data/midi/v8/midi_sources/130k_reddit/V/V/vagabundo.mid\n",
      "Error converting midi to sequence 'NoneType' object has no attribute 'open' data/midi/v8/midi_sources/130k_reddit/V/V/Volksweissen-Potpourri.mid\n",
      "Error converting midi to sequence 'NoneType' object has no attribute 'open' data/midi/v8/midi_sources/130k_reddit/V/V/VAMONOS.MID\n",
      "Error converting midi to sequence 'NoneType' object has no attribute 'open' data/midi/v8/midi_sources/130k_reddit/V/V/Vanilla_Ice_-_Ice_Ice_Baby.mid\n",
      "Error converting midi to sequence 'NoneType' object has no attribute 'open' data/midi/v8/midi_sources/130k_reddit/V/V/Vanilla_Ice_Ice_Ice_Baby.mid\n",
      "Error converting midi to sequence 'NoneType' object has no attribute 'open' data/midi/v8/midi_sources/130k_reddit/V/V/Vienna.mid\n",
      "Error converting midi to sequence 'NoneType' object has no attribute 'open' data/midi/v8/midi_sources/130k_reddit/V/V/Voyaperder.mid\n",
      "Error converting midi to sequence 'NoneType' object has no attribute 'open' data/midi/v8/midi_sources/130k_reddit/V/V/Voyage-Voyage-2.mid\n",
      "Error converting midi to sequence 'NoneType' object has no attribute 'open' data/midi/v8/midi_sources/130k_reddit/V/V/VANILLA ICE.Ice,ice baby.mid\n",
      "Error converting midi to sequence 'NoneType' object has no attribute 'open' data/midi/v8/midi_sources/130k_reddit/V/V/vergin.mid\n"
     ]
    },
    {
     "name": "stderr",
     "output_type": "stream",
     "text": [
      "midi: WARNING: Conversion error for <MidiEvent None, t=None, track=0, channel=None>: unknown midi event type: None; ignored.\n"
     ]
    },
    {
     "name": "stdout",
     "output_type": "stream",
     "text": [
      "Error converting midi to sequence 'NoneType' object has no attribute 'open' data/midi/v8/midi_sources/130k_reddit/V/V/vaya_con_dios-nah_neh_nah.mid\n",
      "Error converting midi to sequence 'NoneType' object has no attribute 'open' data/midi/v8/midi_sources/130k_reddit/V/V/v_chines.mid\n",
      "Error converting midi to sequence 'NoneType' object has no attribute 'open' data/midi/v8/midi_sources/130k_reddit/TV_Themes_www.tv-timewarp.co.uk_MIDIRip/Mannix.mid\n",
      "Error converting midi to sequence 'NoneType' object has no attribute 'open' data/midi/v8/midi_sources/130k_reddit/V/V/Voulez-VousDanser.mid\n",
      "Error converting midi to sequence 'NoneType' object has no attribute 'open' data/midi/v8/midi_sources/130k_reddit/TV_Themes_www.tv-timewarp.co.uk_MIDIRip/WWEGoldberg.mid\n",
      "Error converting midi to sequence 'NoneType' object has no attribute 'open' data/midi/v8/midi_sources/130k_reddit/TV_Themes_www.tv-timewarp.co.uk_MIDIRip/Skippy.mid\n",
      "Error converting midi to sequence 'NoneType' object has no attribute 'open' data/midi/v8/midi_sources/130k_reddit/TV_Themes_www.tv-timewarp.co.uk_MIDIRip/Immortal.mid\n",
      "Error converting midi to sequence 'NoneType' object has no attribute 'open' data/midi/v8/midi_sources/130k_reddit/TV_Themes_www.tv-timewarp.co.uk_MIDIRip/Fugitive_1963.mid\n",
      "Error converting midi to sequence 'NoneType' object has no attribute 'open' data/midi/v8/midi_sources/130k_reddit/TV_Themes_www.tv-timewarp.co.uk_MIDIRip/Untouchables_1960.mid\n",
      "Error converting midi to sequence 'NoneType' object has no attribute 'open' data/midi/v8/midi_sources/130k_reddit/TV_Themes_www.tv-timewarp.co.uk_MIDIRip/SWAT.mid\n",
      "Error converting midi to sequence 'NoneType' object has no attribute 'open' data/midi/v8/midi_sources/130k_reddit/TV_Themes_www.tv-timewarp.co.uk_MIDIRip/OnlyFools_Ending.mid\n",
      "Error converting midi to sequence 'NoneType' object has no attribute 'open' data/midi/v8/midi_sources/130k_reddit/TV_Themes_www.tv-timewarp.co.uk_MIDIRip/invisible_man/InvisibleMan_1975.mid\n",
      "Error converting midi to sequence 'NoneType' object has no attribute 'open' data/midi/v8/midi_sources/130k_reddit/TV_Themes_www.tv-timewarp.co.uk_MIDIRip/LittleHouseOnThePrairie.mid\n",
      "Error converting midi to sequence 'NoneType' object has no attribute 'open' data/midi/v8/midi_sources/130k_reddit/TV_Themes_www.tv-timewarp.co.uk_MIDIRip/star_trek/StarTrek-Original.mid\n",
      "Error converting midi to sequence 'NoneType' object has no attribute 'open' data/midi/v8/midi_sources/130k_reddit/V/V/venzinadiko.mid\n",
      "Error converting midi to sequence 'NoneType' object has no attribute 'open' data/midi/v8/midi_sources/130k_reddit/TV_Themes_www.tv-timewarp.co.uk_MIDIRip/ManInASuitcase.mid\n",
      "Error converting midi to sequence 'NoneType' object has no attribute 'open' data/midi/v8/midi_sources/130k_reddit/D/D/drunkendruid.mid\n",
      "Error converting midi to sequence 'NoneType' object has no attribute 'open' data/midi/v8/midi_sources/130k_reddit/D/D/dr_dre-the_next_episode.mid\n",
      "Error converting midi to sequence 'NoneType' object has no attribute 'open' data/midi/v8/midi_sources/130k_reddit/D/D/DIAMOND.I am i said.mid\n",
      "Error converting midi to sequence 'NoneType' object has no attribute 'open' data/midi/v8/midi_sources/130k_reddit/D/D/Dein-Ist-Mein-Ganzes-Herz-1.mid\n",
      "Error converting midi to sequence 'NoneType' object has no attribute 'open' data/midi/v8/midi_sources/130k_reddit/V/V/vividcolor.mid\n",
      "Error converting midi to sequence 'NoneType' object has no attribute 'open' data/midi/v8/midi_sources/130k_reddit/D/D/Daisy-Waltz-&-My-Bonnie-(Waltz).mid\n",
      "Error converting midi to sequence 'NoneType' object has no attribute 'open' data/midi/v8/midi_sources/130k_reddit/D/D/Don'tLoseMyNumber.mid\n",
      "Error converting midi to sequence 'NoneType' object has no attribute 'open' data/midi/v8/midi_sources/130k_reddit/D/D/Diamonds-And-Pearls.mid\n",
      "Error converting midi to sequence 'NoneType' object has no attribute 'open' data/midi/v8/midi_sources/130k_reddit/D/D/deus_e_brasileiro.mid\n",
      "Error converting midi to sequence 'NoneType' object has no attribute 'open' data/midi/v8/midi_sources/130k_reddit/D/D/Don't-Stand-So-Close-To-Me-1.mid\n",
      "Error converting midi to sequence 'NoneType' object has no attribute 'open' data/midi/v8/midi_sources/130k_reddit/D/D/dgate029.mid\n",
      "Error converting midi to sequence 'NoneType' object has no attribute 'open' data/midi/v8/midi_sources/130k_reddit/D/D/dancadokara.mid\n",
      "Error converting midi to sequence 'NoneType' object has no attribute 'open' data/midi/v8/midi_sources/130k_reddit/D/D/dice2.mid\n",
      "Error converting midi to sequence 'NoneType' object has no attribute 'open' data/midi/v8/midi_sources/130k_reddit/D/D/Don't-Worry-Be-Happy-1.mid\n",
      "Error converting midi to sequence 'NoneType' object has no attribute 'open' data/midi/v8/midi_sources/130k_reddit/D/D/den_tha.mid\n"
     ]
    },
    {
     "name": "stderr",
     "output_type": "stream",
     "text": [
      "midi: WARNING: Conversion error for <MidiEvent None, t=None, track=13, channel=None>: unknown midi event type: None; ignored.\n"
     ]
    },
    {
     "name": "stdout",
     "output_type": "stream",
     "text": [
      "Error converting midi to sequence 'NoneType' object has no attribute 'open' data/midi/v8/midi_sources/130k_reddit/D/D/DEEP PURPLE.Child in time.mid\n",
      "Error converting midi to sequence 'NoneType' object has no attribute 'open' data/midi/v8/midi_sources/130k_reddit/D/D/DURAN DURAN.Sumgone else not me.mid\n",
      "Error converting midi to sequence 'NoneType' object has no attribute 'open' data/midi/v8/midi_sources/130k_reddit/D/D/Don'tStandSoCloseToMe2.mid\n",
      "Error converting midi to sequence 'NoneType' object has no attribute 'open' data/midi/v8/midi_sources/130k_reddit/D/D/Desree_-_Life.mid\n",
      "Error converting midi to sequence 'NoneType' object has no attribute 'open' data/midi/v8/midi_sources/130k_reddit/D/D/Don'tPayTheFerryman.mid\n",
      "Error converting midi to sequence 'NoneType' object has no attribute 'open' data/midi/v8/midi_sources/130k_reddit/D/D/Don't-Loose-My-Number-1.mid\n",
      "Error converting midi to sequence 'NoneType' object has no attribute 'open' data/midi/v8/midi_sources/130k_reddit/D/D/Do-You-Believe-In-Us.mid\n"
     ]
    },
    {
     "name": "stderr",
     "output_type": "stream",
     "text": [
      "midi: WARNING: Conversion error for <MidiEvent None, t=None, track=9, channel=None>: unknown midi event type: None; ignored.\n"
     ]
    },
    {
     "name": "stdout",
     "output_type": "stream",
     "text": [
      "Error converting midi to sequence 'NoneType' object has no attribute 'open' data/midi/v8/midi_sources/130k_reddit/D/D/dragon1.mid\n",
      "Error converting midi to sequence 'NoneType' object has no attribute 'open' data/midi/v8/midi_sources/130k_reddit/D/D/DIRE STRAITS.Local hero.MID\n",
      "Error converting midi to sequence 'NoneType' object has no attribute 'open' data/midi/v8/midi_sources/130k_reddit/D/D/Dance-On.mid\n",
      "Error converting midi to sequence 'NoneType' object has no attribute 'open' data/midi/v8/midi_sources/130k_reddit/D/D/dj_bobo-freedom.mid\n",
      "Error converting midi to sequence 'NoneType' object has no attribute 'open' data/midi/v8/midi_sources/130k_reddit/D/D/Daniel3.mid\n",
      "Error converting midi to sequence 'NoneType' object has no attribute 'open' data/midi/v8/midi_sources/130k_reddit/D/D/Deep Dish - Flashdance.mid\n",
      "Error converting midi to sequence 'NoneType' object has no attribute 'open' data/midi/v8/midi_sources/130k_reddit/D/D/Drax1.mid\n",
      "Error converting midi to sequence 'NoneType' object has no attribute 'open' data/midi/v8/midi_sources/130k_reddit/D/D/domovina.mid\n",
      "Error converting midi to sequence 'NoneType' object has no attribute 'open' data/midi/v8/midi_sources/130k_reddit/D/D/dahtilid.mid\n",
      "Error converting midi to sequence 'NoneType' object has no attribute 'open' data/midi/v8/midi_sources/130k_reddit/D/D/Dancing-Queen-1.mid\n",
      "Error converting midi to sequence 'NoneType' object has no attribute 'open' data/midi/v8/midi_sources/130k_reddit/D/D/D.BOONE.Beautiful sunday.MID\n",
      "Error converting midi to sequence 'NoneType' object has no attribute 'open' data/midi/v8/midi_sources/130k_reddit/D/D/Die-Bouzouki-Klang-Durch-Die-Sommernacht.mid\n",
      "Error converting midi to sequence 'NoneType' object has no attribute 'open' data/midi/v8/midi_sources/130k_reddit/D/D/dancing3.mid\n",
      "Error converting midi to sequence 'NoneType' object has no attribute 'open' data/midi/v8/midi_sources/130k_reddit/D/D/Daniel__Da_me_da_me.mid\n",
      "Error converting midi to sequence 'NoneType' object has no attribute 'open' data/midi/v8/midi_sources/130k_reddit/D/D/Dgate.mid\n",
      "Error converting midi to sequence 'NoneType' object has no attribute 'open' data/midi/v8/midi_sources/130k_reddit/D/D/Du-Hast-Geburtstag.mid\n",
      "Error converting midi to sequence 'NoneType' object has no attribute 'open' data/midi/v8/midi_sources/130k_reddit/D/D/Drum-Paterns.mid\n",
      "Error converting midi to sequence 'NoneType' object has no attribute 'open' data/midi/v8/midi_sources/130k_reddit/D/D/Drive-2.mid\n",
      "Error converting midi to sequence 'NoneType' object has no attribute 'open' data/midi/v8/midi_sources/130k_reddit/D/D/D.PRICE.Truck drivers walz.MID\n",
      "Error converting midi to sequence 'NoneType' object has no attribute 'open' data/midi/v8/midi_sources/130k_reddit/D/D/DEMO0001.MID\n",
      "Error converting midi to sequence 'NoneType' object has no attribute 'open' data/midi/v8/midi_sources/130k_reddit/D/D/DION.Beauty and the beast.mid\n"
     ]
    },
    {
     "name": "stderr",
     "output_type": "stream",
     "text": [
      "midi: WARNING: Conversion error for <MidiEvent None, t=None, track=6, channel=None>: unknown midi event type: None; ignored.\n",
      "midi: WARNING: Conversion error for <MidiEvent None, t=None, track=7, channel=None>: unknown midi event type: None; ignored.\n"
     ]
    },
    {
     "name": "stdout",
     "output_type": "stream",
     "text": [
      "Error converting midi to sequence 'NoneType' object has no attribute 'open' data/midi/v8/midi_sources/130k_reddit/D/D/dancqun.mid\n",
      "Error converting midi to sequence 'NoneType' object has no attribute 'open' data/midi/v8/midi_sources/130k_reddit/D/D/De-Vissers-Van-San-Juan.mid\n",
      "Error converting midi to sequence 'NoneType' object has no attribute 'open' data/midi/v8/midi_sources/130k_reddit/D/D/Diana Ross - Touch Me in the Morning.mid\n",
      "Error converting midi to sequence 'NoneType' object has no attribute 'open' data/midi/v8/midi_sources/130k_reddit/D/D/DuBistLebenFurMich.mid\n",
      "Error converting midi to sequence 'NoneType' object has no attribute 'open' data/midi/v8/midi_sources/130k_reddit/D/D/deepdish__flashdance__unknown.mid\n",
      "Error converting midi to sequence 'NoneType' object has no attribute 'open' data/midi/v8/midi_sources/130k_reddit/D/D/die_hard.mid\n",
      "Error converting midi to sequence 'NoneType' object has no attribute 'open' data/midi/v8/midi_sources/130k_reddit/D/D/DEURZAK.MID\n"
     ]
    },
    {
     "name": "stderr",
     "output_type": "stream",
     "text": [
      "midi: WARNING: Conversion error for <MidiEvent None, t=None, track=4, channel=None>: unknown midi event type: None; ignored.\n"
     ]
    },
    {
     "name": "stdout",
     "output_type": "stream",
     "text": [
      "Error converting midi to sequence 'NoneType' object has no attribute 'open' data/midi/v8/midi_sources/130k_reddit/D/D/daniel05.mid\n"
     ]
    },
    {
     "name": "stderr",
     "output_type": "stream",
     "text": [
      "midi: WARNING: Conversion error for <MidiEvent None, t=None, track=0, channel=None>: unknown midi event type: None; ignored.\n",
      "midi: WARNING: Conversion error for <MidiEvent None, t=None, track=0, channel=None>: unknown midi event type: None; ignored.\n"
     ]
    },
    {
     "name": "stdout",
     "output_type": "stream",
     "text": [
      "Error converting midi to sequence 'NoneType' object has no attribute 'open' data/midi/v8/midi_sources/130k_reddit/D/D/D_queen.mid\n",
      "Error converting midi to sequence 'NoneType' object has no attribute 'open' data/midi/v8/midi_sources/130k_reddit/D/D/DION.Nothings broken but my heart.mid\n"
     ]
    },
    {
     "name": "stderr",
     "output_type": "stream",
     "text": [
      "midi: WARNING: Conversion error for <MidiEvent None, t=None, track=0, channel=None>: unknown midi event type: None; ignored.\n"
     ]
    },
    {
     "name": "stdout",
     "output_type": "stream",
     "text": [
      "Error converting midi to sequence 'NoneType' object has no attribute 'open' data/midi/v8/midi_sources/130k_reddit/D/D/Digi-D-Dog.mid\n",
      "Error converting midi to sequence 'NoneType' object has no attribute 'open' data/midi/v8/midi_sources/130k_reddit/D/D/Drivin'-My-Life-Away-2.mid\n",
      "Error converting midi to sequence 'NoneType' object has no attribute 'open' data/midi/v8/midi_sources/130k_reddit/D/D/Don'tYouWantMe3.mid\n",
      "Error converting midi to sequence 'NoneType' object has no attribute 'open' data/midi/v8/midi_sources/130k_reddit/D/D/dune__who_wants_to_live_forever__unknown.mid\n",
      "Error converting midi to sequence 'NoneType' object has no attribute 'open' data/midi/v8/midi_sources/130k_reddit/D/D/Dolazim.mid\n",
      "Error converting midi to sequence 'NoneType' object has no attribute 'open' data/midi/v8/midi_sources/130k_reddit/D/D/dont_cry_for_me_argentina.mid\n",
      "Error converting midi to sequence 'NoneType' object has no attribute 'open' data/midi/v8/midi_sources/130k_reddit/D/D/Didn'tWeAlmostHaveItAll3.mid\n",
      "Error converting midi to sequence 'NoneType' object has no attribute 'open' data/midi/v8/midi_sources/130k_reddit/D/D/D.DEKKER.You can get it if you really want.mid\n",
      "Error converting midi to sequence 'NoneType' object has no attribute 'open' data/midi/v8/midi_sources/130k_reddit/D/D/DMX_-_Party_Up.mid\n",
      "Error converting midi to sequence 'NoneType' object has no attribute 'open' data/midi/v8/midi_sources/130k_reddit/D/D/Drax2.mid\n"
     ]
    },
    {
     "name": "stderr",
     "output_type": "stream",
     "text": [
      "midi: WARNING: Conversion error for <MidiEvent None, t=None, track=0, channel=None>: unknown midi event type: None; ignored.\n",
      "midi: WARNING: Conversion error for <MidiEvent None, t=None, track=6, channel=None>: unknown midi event type: None; ignored.\n"
     ]
    },
    {
     "name": "stdout",
     "output_type": "stream",
     "text": [
      "Error converting midi to sequence 'NoneType' object has no attribute 'open' data/midi/v8/midi_sources/130k_reddit/D/D/DONOVAN.Sunshine superman.MID\n"
     ]
    },
    {
     "name": "stderr",
     "output_type": "stream",
     "text": [
      "midi: WARNING: Conversion error for <MidiEvent None, t=None, track=7, channel=None>: unknown midi event type: None; ignored.\n"
     ]
    },
    {
     "name": "stdout",
     "output_type": "stream",
     "text": [
      "Error converting midi to sequence 'NoneType' object has no attribute 'open' data/midi/v8/midi_sources/130k_reddit/D/D/DontcryformeArgentina.mid\n",
      "Error converting midi to sequence 'NoneType' object has no attribute 'open' data/midi/v8/midi_sources/130k_reddit/D/D/Dancing-Queen-4.mid\n",
      "Error converting midi to sequence 'NoneType' object has no attribute 'open' data/midi/v8/midi_sources/130k_reddit/D/D/DancingQueen.mid\n",
      "Error converting midi to sequence 'NoneType' object has no attribute 'open' data/midi/v8/midi_sources/130k_reddit/D/D/Dance-Into-The-Night.mid\n",
      "Error converting midi to sequence 'NoneType' object has no attribute 'open' data/midi/v8/midi_sources/130k_reddit/D/D/dontforgettoremember.mid\n"
     ]
    },
    {
     "name": "stderr",
     "output_type": "stream",
     "text": [
      "midi: WARNING: Conversion error for <MidiEvent None, t=None, track=0, channel=None>: unknown midi event type: None; ignored.\n"
     ]
    },
    {
     "name": "stdout",
     "output_type": "stream",
     "text": [
      "Error converting midi to sequence 'NoneType' object has no attribute 'open' data/midi/v8/midi_sources/130k_reddit/D/D/Don't-Dream-Of-Anybody-But-Me.mid\n"
     ]
    },
    {
     "name": "stderr",
     "output_type": "stream",
     "text": [
      "midi: WARNING: Conversion error for <MidiEvent None, t=None, track=8, channel=None>: unknown midi event type: None; ignored.\n"
     ]
    },
    {
     "name": "stdout",
     "output_type": "stream",
     "text": [
      "Error converting midi to sequence 'NoneType' object has no attribute 'open' data/midi/v8/midi_sources/130k_reddit/D/D/DerLetzteBolero.mid\n",
      "Error converting midi to sequence 'NoneType' object has no attribute 'open' data/midi/v8/midi_sources/130k_reddit/D/D/doidemais.mid\n",
      "Error converting midi to sequence 'NoneType' object has no attribute 'open' data/midi/v8/midi_sources/130k_reddit/D/D/danceq.mid\n"
     ]
    },
    {
     "name": "stderr",
     "output_type": "stream",
     "text": [
      "midi: WARNING: Conversion error for <MidiEvent None, t=None, track=9, channel=None>: unknown midi event type: None; ignored.\n"
     ]
    },
    {
     "name": "stdout",
     "output_type": "stream",
     "text": [
      "Error converting midi to sequence 'NoneType' object has no attribute 'open' data/midi/v8/midi_sources/130k_reddit/D/D/DEADEND.MID\n",
      "Error converting midi to sequence 'NoneType' object has no attribute 'open' data/midi/v8/midi_sources/130k_reddit/D/D/December-'63-('Oh-What-A-Night')-3.mid\n",
      "Error converting midi to sequence 'NoneType' object has no attribute 'open' data/midi/v8/midi_sources/130k_reddit/D/D/diamonds03.mid\n",
      "Error converting midi to sequence 'NoneType' object has no attribute 'open' data/midi/v8/midi_sources/130k_reddit/D/D/dgate045.mid\n",
      "Error converting midi to sequence 'NoneType' object has no attribute 'open' data/midi/v8/midi_sources/130k_reddit/D/D/D.RIO.Walkin' away.MID\n",
      "Error converting midi to sequence 'NoneType' object has no attribute 'open' data/midi/v8/midi_sources/130k_reddit/D/D/daniel04.mid\n",
      "Error converting midi to sequence 'NoneType' object has no attribute 'open' data/midi/v8/midi_sources/130k_reddit/D/D/dgate006.mid\n",
      "Error converting midi to sequence 'NoneType' object has no attribute 'open' data/midi/v8/midi_sources/130k_reddit/D/D/DSAMBMIX.MID\n"
     ]
    },
    {
     "name": "stderr",
     "output_type": "stream",
     "text": [
      "midi: WARNING: Conversion error for <MidiEvent None, t=None, track=6, channel=None>: unknown midi event type: None; ignored.\n",
      "midi: WARNING: Conversion error for <MidiEvent None, t=None, track=7, channel=None>: unknown midi event type: None; ignored.\n"
     ]
    },
    {
     "name": "stdout",
     "output_type": "stream",
     "text": [
      "Error converting midi to sequence 'NoneType' object has no attribute 'open' data/midi/v8/midi_sources/130k_reddit/D/D/depend_on_you.mid\n",
      "Error converting midi to sequence 'NoneType' object has no attribute 'open' data/midi/v8/midi_sources/130k_reddit/D/D/Daniel.mid\n",
      "Error converting midi to sequence 'NoneType' object has no attribute 'open' data/midi/v8/midi_sources/130k_reddit/D/D/Dune - Who Wants To Love Forever.mid\n",
      "Error converting midi to sequence 'NoneType' object has no attribute 'open' data/midi/v8/midi_sources/130k_reddit/D/D/daniel03.mid\n",
      "Error converting midi to sequence 'NoneType' object has no attribute 'open' data/midi/v8/midi_sources/130k_reddit/D/D/DrBeat.mid\n",
      "Error converting midi to sequence 'NoneType' object has no attribute 'open' data/midi/v8/midi_sources/130k_reddit/7/710_anth.mid\n",
      "Error converting midi to sequence 'NoneType' object has no attribute 'open' data/midi/v8/midi_sources/130k_reddit/D/D/Didn't-We-Almost-Have-It-All-2.mid\n"
     ]
    },
    {
     "name": "stderr",
     "output_type": "stream",
     "text": [
      "midi: WARNING: Conversion error for <MidiEvent None, t=None, track=0, channel=None>: unknown midi event type: None; ignored.\n"
     ]
    },
    {
     "name": "stdout",
     "output_type": "stream",
     "text": [
      "Error converting midi to sequence 'NoneType' object has no attribute 'open' data/midi/v8/midi_sources/130k_reddit/7/78-02-many.mid\n",
      "Error converting midi to sequence 'NoneType' object has no attribute 'open' data/midi/v8/midi_sources/130k_reddit/D/D/dont_turn_back.mid\n",
      "Error converting midi to sequence 'NoneType' object has no attribute 'open' data/midi/v8/midi_sources/130k_reddit/D/D/Dontleav.mid\n",
      "Error converting midi to sequence 'NoneType' object has no attribute 'open' data/midi/v8/midi_sources/130k_reddit/7/702_-_Where_My_Girls_At.mid\n",
      "Error converting midi to sequence 'NoneType' object has no attribute 'open' data/midi/v8/midi_sources/130k_reddit/7/702.mid\n",
      "Error converting midi to sequence 'NoneType' object has no attribute 'open' data/midi/v8/midi_sources/130k_reddit/7/7.mid\n",
      "Error converting midi to sequence 'NoneType' object has no attribute 'open' data/midi/v8/midi_sources/130k_reddit/D/D/Das-Erste-Gebot-Ist-Die-Liebe-2.mid\n",
      "Error converting midi to sequence 'NoneType' object has no attribute 'open' data/midi/v8/midi_sources/130k_reddit/7/7_mares.mid\n",
      "Error converting midi to sequence 'NoneType' object has no attribute 'open' data/midi/v8/midi_sources/130k_reddit/U/U/usanthem.mid\n",
      "Error converting midi to sequence 'NoneType' object has no attribute 'open' data/midi/v8/midi_sources/130k_reddit/U/U/unchain05.mid\n",
      "Error converting midi to sequence 'NoneType' object has no attribute 'open' data/midi/v8/midi_sources/130k_reddit/U/U/urtheone.mid\n",
      "Error converting midi to sequence 'NoneType' object has no attribute 'open' data/midi/v8/midi_sources/130k_reddit/U/U/us-anthem.mid\n",
      "Error converting midi to sequence 'NoneType' object has no attribute 'open' data/midi/v8/midi_sources/130k_reddit/U/U/Unchain-My-Heart-2.mid\n",
      "Error converting midi to sequence 'NoneType' object has no attribute 'open' data/midi/v8/midi_sources/130k_reddit/U/U/usher-burn.mid\n",
      "Error converting midi to sequence 'NoneType' object has no attribute 'open' data/midi/v8/midi_sources/130k_reddit/U/U/UNARCHES.MID\n"
     ]
    },
    {
     "name": "stderr",
     "output_type": "stream",
     "text": [
      "midi: WARNING: Conversion error for <MidiEvent None, t=None, track=0, channel=None>: unknown midi event type: None; ignored.\n"
     ]
    },
    {
     "name": "stdout",
     "output_type": "stream",
     "text": [
      "Error converting midi to sequence 'NoneType' object has no attribute 'open' data/midi/v8/midi_sources/130k_reddit/U/U/ultimahora.mid\n",
      "Error converting midi to sequence 'NoneType' object has no attribute 'open' data/midi/v8/midi_sources/130k_reddit/U/U/Usher_-_Climax__swoosh_20120519123603.mid\n"
     ]
    },
    {
     "name": "stderr",
     "output_type": "stream",
     "text": [
      "midi: WARNING: Conversion error for <MidiEvent None, t=None, track=0, channel=None>: unknown midi event type: None; ignored.\n"
     ]
    },
    {
     "name": "stdout",
     "output_type": "stream",
     "text": [
      "Error converting midi to sequence 'NoneType' object has no attribute 'open' data/midi/v8/midi_sources/130k_reddit/U/U/URIAH HEEP.Free me.MID\n"
     ]
    },
    {
     "name": "stderr",
     "output_type": "stream",
     "text": [
      "midi: WARNING: Conversion error for <MidiEvent None, t=None, track=0, channel=None>: unknown midi event type: None; ignored.\n"
     ]
    },
    {
     "name": "stdout",
     "output_type": "stream",
     "text": [
      "Error converting midi to sequence 'NoneType' object has no attribute 'open' data/midi/v8/midi_sources/130k_reddit/U/U/undukngadau.mid\n"
     ]
    },
    {
     "name": "stderr",
     "output_type": "stream",
     "text": [
      "midi: WARNING: Conversion error for <MidiEvent None, t=None, track=0, channel=None>: unknown midi event type: None; ignored.\n",
      "midi: WARNING: Conversion error for <MidiEvent None, t=None, track=0, channel=None>: unknown midi event type: None; ignored.\n"
     ]
    },
    {
     "name": "stdout",
     "output_type": "stream",
     "text": [
      "Error converting midi to sequence 'NoneType' object has no attribute 'open' data/midi/v8/midi_sources/130k_reddit/Y/Y/You're-My-Heart-You're-My-Soul.mid\n",
      "Error converting midi to sequence 'NoneType' object has no attribute 'open' data/midi/v8/midi_sources/130k_reddit/Y/Y/youknowwhatsup.mid\n",
      "Error converting midi to sequence 'NoneType' object has no attribute 'open' data/midi/v8/midi_sources/130k_reddit/U/U/United-1.mid\n",
      "Error converting midi to sequence 'NoneType' object has no attribute 'open' data/midi/v8/midi_sources/130k_reddit/U/U/um_sonhador.mid\n",
      "Error converting midi to sequence 'NoneType' object has no attribute 'open' data/midi/v8/midi_sources/130k_reddit/Y/Y/YourSong5.mid\n",
      "Error converting midi to sequence 'NoneType' object has no attribute 'open' data/midi/v8/midi_sources/130k_reddit/Y/Y/yes-almost_like_love.mid\n",
      "Error converting midi to sequence 'NoneType' object has no attribute 'open' data/midi/v8/midi_sources/130k_reddit/Y/Y/yesterday_once_more.mid\n",
      "Error converting midi to sequence 'NoneType' object has no attribute 'open' data/midi/v8/midi_sources/130k_reddit/Y/Y/yougotme2.mid\n",
      "Error converting midi to sequence 'NoneType' object has no attribute 'open' data/midi/v8/midi_sources/130k_reddit/Y/Y/Yakety-Sax-2.mid\n",
      "Error converting midi to sequence 'NoneType' object has no attribute 'open' data/midi/v8/midi_sources/130k_reddit/Y/Y/YourSong4.mid\n",
      "Error converting midi to sequence 'NoneType' object has no attribute 'open' data/midi/v8/midi_sources/130k_reddit/Y/Y/Yesterday-Man-1.mid\n",
      "Error converting midi to sequence 'NoneType' object has no attribute 'open' data/midi/v8/midi_sources/130k_reddit/Y/Y/YOUMADEM.MID\n"
     ]
    },
    {
     "name": "stderr",
     "output_type": "stream",
     "text": [
      "midi: WARNING: Conversion error for <MidiEvent None, t=None, track=0, channel=None>: unknown midi event type: None; ignored.\n",
      "midi: WARNING: Conversion error for <MidiEvent None, t=None, track=8, channel=None>: unknown midi event type: None; ignored.\n"
     ]
    },
    {
     "name": "stdout",
     "output_type": "stream",
     "text": [
      "Error converting midi to sequence 'NoneType' object has no attribute 'open' data/midi/v8/midi_sources/130k_reddit/Y/Y/yoursong03.mid\n",
      "Error converting midi to sequence 'NoneType' object has no attribute 'open' data/midi/v8/midi_sources/130k_reddit/Y/Y/you_spin_me.mid\n",
      "Error converting midi to sequence 'NoneType' object has no attribute 'open' data/midi/v8/midi_sources/130k_reddit/Y/Y/yumewoxg.mid\n"
     ]
    },
    {
     "name": "stderr",
     "output_type": "stream",
     "text": [
      "midi: WARNING: Conversion error for <MidiEvent None, t=None, track=0, channel=None>: unknown midi event type: None; ignored.\n"
     ]
    },
    {
     "name": "stdout",
     "output_type": "stream",
     "text": [
      "Error converting midi to sequence 'NoneType' object has no attribute 'open' data/midi/v8/midi_sources/130k_reddit/Y/Y/yinjaidam.mid\n",
      "Error converting midi to sequence 'NoneType' object has no attribute 'open' data/midi/v8/midi_sources/130k_reddit/Y/Y/you05.mid\n",
      "Error converting midi to sequence 'NoneType' object has no attribute 'open' data/midi/v8/midi_sources/130k_reddit/Y/Y/yalil.mid\n"
     ]
    },
    {
     "name": "stderr",
     "output_type": "stream",
     "text": [
      "midi: WARNING: Conversion error for <MidiEvent None, t=None, track=0, channel=None>: unknown midi event type: None; ignored.\n"
     ]
    },
    {
     "name": "stdout",
     "output_type": "stream",
     "text": [
      "Error converting midi to sequence 'NoneType' object has no attribute 'open' data/midi/v8/midi_sources/130k_reddit/Y/Y/ydmc.mid\n",
      "Error converting midi to sequence 'NoneType' object has no attribute 'open' data/midi/v8/midi_sources/130k_reddit/Y/Y/You-Can-Win-If-You-Want-2.mid\n",
      "Error converting midi to sequence 'NoneType' object has no attribute 'open' data/midi/v8/midi_sources/130k_reddit/Y/Y/yourtheone.mid\n",
      "Error converting midi to sequence 'NoneType' object has no attribute 'open' data/midi/v8/midi_sources/130k_reddit/Y/Y/yes-im_running.mid\n"
     ]
    },
    {
     "name": "stderr",
     "output_type": "stream",
     "text": [
      "midi: WARNING: Conversion error for <MidiEvent None, t=None, track=0, channel=None>: unknown midi event type: None; ignored.\n"
     ]
    },
    {
     "name": "stdout",
     "output_type": "stream",
     "text": [
      "Error converting midi to sequence 'NoneType' object has no attribute 'open' data/midi/v8/midi_sources/130k_reddit/Y/Y/You-Win-Again-2.mid\n",
      "Error converting midi to sequence 'NoneType' object has no attribute 'open' data/midi/v8/midi_sources/130k_reddit/Y/Y/YESTERDD.MID\n",
      "Error converting midi to sequence 'NoneType' object has no attribute 'open' data/midi/v8/midi_sources/130k_reddit/Y/Y/YourSong.mid\n",
      "Error converting midi to sequence 'NoneType' object has no attribute 'open' data/midi/v8/midi_sources/130k_reddit/Y/Y/You-Drive-Me-Crazy-1.mid\n",
      "Error converting midi to sequence 'NoneType' object has no attribute 'open' data/midi/v8/midi_sources/130k_reddit/Y/Y/yes-love_will_find_a_way.mid\n",
      "Error converting midi to sequence 'NoneType' object has no attribute 'open' data/midi/v8/midi_sources/130k_reddit/Y/Y/youspin.mid\n",
      "Error converting midi to sequence 'NoneType' object has no attribute 'open' data/midi/v8/midi_sources/130k_reddit/Y/Y/You-Drive-Me-Crazy-3.mid\n",
      "Error converting midi to sequence 'NoneType' object has no attribute 'open' data/midi/v8/midi_sources/130k_reddit/Y/Y/yesceora.mid\n",
      "Error converting midi to sequence 'NoneType' object has no attribute 'open' data/midi/v8/midi_sources/130k_reddit/Y/Y/yes-shoot_high_aim_low.mid\n",
      "Error converting midi to sequence 'NoneType' object has no attribute 'open' data/midi/v8/midi_sources/130k_reddit/Y/Y/yureruomoi.mid\n",
      "Error converting midi to sequence 'NoneType' object has no attribute 'open' data/midi/v8/midi_sources/130k_reddit/Arabic and Tribal Rhythms/Persian_02.mid\n",
      "Error converting midi to sequence 'NoneType' object has no attribute 'open' data/midi/v8/midi_sources/130k_reddit/Arabic and Tribal Rhythms/GHAWAZEE_01.mid\n",
      "Error converting midi to sequence 'NoneType' object has no attribute 'open' data/midi/v8/midi_sources/130k_reddit/Arabic and Tribal Rhythms/BALADI_02.mid\n",
      "Error converting midi to sequence 'NoneType' object has no attribute 'open' data/midi/v8/midi_sources/130k_reddit/Arabic and Tribal Rhythms/BAYOU_2.mid\n",
      "Error converting midi to sequence 'NoneType' object has no attribute 'open' data/midi/v8/midi_sources/130k_reddit/Arabic and Tribal Rhythms/waaHida_02.mid\n",
      "Error converting midi to sequence 'NoneType' object has no attribute 'open' data/midi/v8/midi_sources/130k_reddit/Arabic and Tribal Rhythms/BOLERO_04.mid\n",
      "Error converting midi to sequence 'NoneType' object has no attribute 'open' data/midi/v8/midi_sources/130k_reddit/Arabic and Tribal Rhythms/BAMBI_Jas.mid\n",
      "Error converting midi to sequence 'NoneType' object has no attribute 'open' data/midi/v8/midi_sources/130k_reddit/Arabic and Tribal Rhythms/AYOUB_Jas2.mid\n",
      "Error converting midi to sequence 'NoneType' object has no attribute 'open' data/midi/v8/midi_sources/130k_reddit/Arabic and Tribal Rhythms/ARABIC.mid\n",
      "Error converting midi to sequence 'NoneType' object has no attribute 'open' data/midi/v8/midi_sources/130k_reddit/Arabic and Tribal Rhythms/waaHida_01.mid\n",
      "Error converting midi to sequence 'NoneType' object has no attribute 'open' data/midi/v8/midi_sources/130k_reddit/Arabic and Tribal Rhythms/AYOUB_1.mid\n",
      "Error converting midi to sequence 'NoneType' object has no attribute 'open' data/midi/v8/midi_sources/130k_reddit/Arabic and Tribal Rhythms/BALADI_Mas'ud.mid\n",
      "Error converting midi to sequence 'NoneType' object has no attribute 'open' data/midi/v8/midi_sources/130k_reddit/Arabic and Tribal Rhythms/Persian_01.mid\n",
      "Error converting midi to sequence 'NoneType' object has no attribute 'open' data/midi/v8/midi_sources/130k_reddit/Arabic and Tribal Rhythms/AYOUB_Me.mid\n",
      "Error converting midi to sequence 'NoneType' object has no attribute 'open' data/midi/v8/midi_sources/130k_reddit/Arabic and Tribal Rhythms/KARATCHI_Carmine.mid\n",
      "Error converting midi to sequence 'NoneType' object has no attribute 'open' data/midi/v8/midi_sources/130k_reddit/Arabic and Tribal Rhythms/Sadi_Nott.mid\n",
      "Error converting midi to sequence 'NoneType' object has no attribute 'open' data/midi/v8/midi_sources/130k_reddit/Arabic and Tribal Rhythms/MASMOUDI_01.mid\n",
      "Error converting midi to sequence 'NoneType' object has no attribute 'open' data/midi/v8/midi_sources/130k_reddit/Arabic and Tribal Rhythms/Suadi_02.mid\n",
      "Error converting midi to sequence 'NoneType' object has no attribute 'open' data/midi/v8/midi_sources/130k_reddit/Arabic and Tribal Rhythms/BOLERO_Jas.mid\n",
      "Error converting midi to sequence 'NoneType' object has no attribute 'open' data/midi/v8/midi_sources/130k_reddit/Arabic and Tribal Rhythms/AYOUB_Mas'ud.mid\n",
      "Error converting midi to sequence 'NoneType' object has no attribute 'open' data/midi/v8/midi_sources/130k_reddit/Arabic and Tribal Rhythms/HAGALLA_long.mid\n",
      "Error converting midi to sequence 'NoneType' object has no attribute 'open' data/midi/v8/midi_sources/130k_reddit/Arabic and Tribal Rhythms/falaahii_Mas'ud Jas.mid\n",
      "Error converting midi to sequence 'NoneType' object has no attribute 'open' data/midi/v8/midi_sources/130k_reddit/Arabic and Tribal Rhythms/MOROCCAN_01.mid\n",
      "Error converting midi to sequence 'NoneType' object has no attribute 'open' data/midi/v8/midi_sources/130k_reddit/Arabic and Tribal Rhythms/MAQSOUM_Jas Accented.mid\n",
      "Error converting midi to sequence 'NoneType' object has no attribute 'open' data/midi/v8/midi_sources/130k_reddit/Arabic and Tribal Rhythms/BALADI_Mafufo.mid\n",
      "Error converting midi to sequence 'NoneType' object has no attribute 'open' data/midi/v8/midi_sources/130k_reddit/Arabic and Tribal Rhythms/AYOUB_Mas'ud Complex.mid\n",
      "Error converting midi to sequence 'NoneType' object has no attribute 'open' data/midi/v8/midi_sources/130k_reddit/Arabic and Tribal Rhythms/Arabic_3.mid\n",
      "Error converting midi to sequence 'NoneType' object has no attribute 'open' data/midi/v8/midi_sources/130k_reddit/Arabic and Tribal Rhythms/Sadi_01.mid\n",
      "Error converting midi to sequence 'NoneType' object has no attribute 'open' data/midi/v8/midi_sources/130k_reddit/Arabic and Tribal Rhythms/GHAWAZEE_02.mid\n",
      "Error converting midi to sequence 'NoneType' object has no attribute 'open' data/midi/v8/midi_sources/130k_reddit/Arabic and Tribal Rhythms/AYOUB_Jas.mid\n",
      "Error converting midi to sequence 'NoneType' object has no attribute 'open' data/midi/v8/midi_sources/130k_reddit/Arabic and Tribal Rhythms/Sufi_02.mid\n",
      "Error converting midi to sequence 'NoneType' object has no attribute 'open' data/midi/v8/midi_sources/130k_reddit/Arabic and Tribal Rhythms/KARATCHI_01.mid\n",
      "Error converting midi to sequence 'NoneType' object has no attribute 'open' data/midi/v8/midi_sources/130k_reddit/Arabic and Tribal Rhythms/KARATCHI_Jas.mid\n",
      "Error converting midi to sequence 'NoneType' object has no attribute 'open' data/midi/v8/midi_sources/130k_reddit/Arabic and Tribal Rhythms/NAWARI_03.mid\n",
      "Error converting midi to sequence 'NoneType' object has no attribute 'open' data/midi/v8/midi_sources/130k_reddit/Arabic and Tribal Rhythms/BAMBI_Carmine.mid\n",
      "Error converting midi to sequence 'NoneType' object has no attribute 'open' data/midi/v8/midi_sources/130k_reddit/Arabic and Tribal Rhythms/KARATCHI_02.mid\n",
      "Error converting midi to sequence 'NoneType' object has no attribute 'open' data/midi/v8/midi_sources/130k_reddit/Arabic and Tribal Rhythms/BOLERO_03.mid\n",
      "Error converting midi to sequence 'NoneType' object has no attribute 'open' data/midi/v8/midi_sources/130k_reddit/Arabic and Tribal Rhythms/NAWARI_01.mid\n",
      "Error converting midi to sequence 'NoneType' object has no attribute 'open' data/midi/v8/midi_sources/130k_reddit/Arabic and Tribal Rhythms/BALADI_Nott Jas.mid\n",
      "Error converting midi to sequence 'NoneType' object has no attribute 'open' data/midi/v8/midi_sources/130k_reddit/Arabic and Tribal Rhythms/falaahii_Nott Jas.mid\n",
      "Error converting midi to sequence 'NoneType' object has no attribute 'open' data/midi/v8/midi_sources/130k_reddit/Arabic and Tribal Rhythms/NAWARI_02.mid\n",
      "Error converting midi to sequence 'NoneType' object has no attribute 'open' data/midi/v8/midi_sources/130k_reddit/Arabic and Tribal Rhythms/Arabic_2.mid\n",
      "Error converting midi to sequence 'NoneType' object has no attribute 'open' data/midi/v8/midi_sources/130k_reddit/Arabic and Tribal Rhythms/GROUCHO.mid\n",
      "Error converting midi to sequence 'NoneType' object has no attribute 'open' data/midi/v8/midi_sources/130k_reddit/Arabic and Tribal Rhythms/Sadi_Carmine.mid\n"
     ]
    },
    {
     "name": "stdout",
     "output_type": "stream",
     "text": [
      "Error converting midi to sequence 'NoneType' object has no attribute 'open' data/midi/v8/midi_sources/130k_reddit/Arabic and Tribal Rhythms/MAQSOUM_03.mid\n",
      "Error converting midi to sequence 'NoneType' object has no attribute 'open' data/midi/v8/midi_sources/130k_reddit/Arabic and Tribal Rhythms/MAQSOUM_Nott Jas.mid\n",
      "Error converting midi to sequence 'NoneType' object has no attribute 'open' data/midi/v8/midi_sources/130k_reddit/Arabic and Tribal Rhythms/Sufi_01.mid\n",
      "Error converting midi to sequence 'NoneType' object has no attribute 'open' data/midi/v8/midi_sources/130k_reddit/Arabic and Tribal Rhythms/BALADI_Filled.mid\n",
      "Error converting midi to sequence 'NoneType' object has no attribute 'open' data/midi/v8/midi_sources/130k_reddit/Arabic and Tribal Rhythms/HAGALLA.mid\n",
      "Error converting midi to sequence 'NoneType' object has no attribute 'open' data/midi/v8/midi_sources/130k_reddit/Arabic and Tribal Rhythms/GUWAZI_01.mid\n",
      "Error converting midi to sequence 'NoneType' object has no attribute 'open' data/midi/v8/midi_sources/130k_reddit/Arabic and Tribal Rhythms/Sufi_03.mid\n",
      "Error converting midi to sequence 'NoneType' object has no attribute 'open' data/midi/v8/midi_sources/130k_reddit/Arabic and Tribal Rhythms/Mozembeque 1.mid\n",
      "Error converting midi to sequence 'NoneType' object has no attribute 'open' data/midi/v8/midi_sources/130k_reddit/Arabic and Tribal Rhythms/BAMBI_Carmine Jas.mid\n",
      "Error converting midi to sequence 'NoneType' object has no attribute 'open' data/midi/v8/midi_sources/130k_reddit/Arabic and Tribal Rhythms/GUWAZI_Mas' Ud.mid\n",
      "Error converting midi to sequence 'NoneType' object has no attribute 'open' data/midi/v8/midi_sources/130k_reddit/Arabic and Tribal Rhythms/BOLERO_Nott Jas.mid\n",
      "Error converting midi to sequence 'NoneType' object has no attribute 'open' data/midi/v8/midi_sources/130k_reddit/Arabic and Tribal Rhythms/MAQSOUM_02.mid\n",
      "Error converting midi to sequence 'NoneType' object has no attribute 'open' data/midi/v8/midi_sources/130k_reddit/Arabic and Tribal Rhythms/AYOUB_Carmine.mid\n",
      "Error converting midi to sequence 'NoneType' object has no attribute 'open' data/midi/v8/midi_sources/130k_reddit/Arabic and Tribal Rhythms/BOLERO_01.mid\n",
      "Error converting midi to sequence 'NoneType' object has no attribute 'open' data/midi/v8/midi_sources/130k_reddit/Arabic and Tribal Rhythms/AYOUB_Nott; Mas'ud standard.mid\n",
      "Error converting midi to sequence 'NoneType' object has no attribute 'open' data/midi/v8/midi_sources/130k_reddit/Arabic and Tribal Rhythms/MAQSOUM_Nott.mid\n",
      "Error converting midi to sequence 'NoneType' object has no attribute 'open' data/midi/v8/midi_sources/130k_reddit/Arabic and Tribal Rhythms/MOROCCAN_03.mid\n",
      "Error converting midi to sequence 'NoneType' object has no attribute 'open' data/midi/v8/midi_sources/130k_reddit/Arabic and Tribal Rhythms/MAQSOUM_01.mid\n",
      "Error converting midi to sequence 'NoneType' object has no attribute 'open' data/midi/v8/midi_sources/130k_reddit/Arabic and Tribal Rhythms/BOLERO_02.mid\n",
      "Error converting midi to sequence 'NoneType' object has no attribute 'open' data/midi/v8/midi_sources/130k_reddit/Arabic and Tribal Rhythms/MOROCCAN_02.mid\n",
      "Error converting midi to sequence 'NoneType' object has no attribute 'open' data/midi/v8/midi_sources/130k_reddit/Arabic and Tribal Rhythms/Mozembeque.mid\n",
      "Error converting midi to sequence 'NoneType' object has no attribute 'open' data/midi/v8/midi_sources/130k_reddit/Arabic and Tribal Rhythms/KARATCHI_Jas_Carmine.mid\n",
      "Error converting midi to sequence 'NoneType' object has no attribute 'open' data/midi/v8/midi_sources/130k_reddit/Arabic and Tribal Rhythms/Sadi_Jas03.mid\n",
      "Error converting midi to sequence 'NoneType' object has no attribute 'open' data/midi/v8/midi_sources/130k_reddit/Arabic and Tribal Rhythms/BAYOU_1.mid\n",
      "Error converting midi to sequence 'NoneType' object has no attribute 'open' data/midi/v8/midi_sources/130k_reddit/Arabic and Tribal Rhythms/Persian_03.mid\n",
      "Error converting midi to sequence 'NoneType' object has no attribute 'open' data/midi/v8/midi_sources/130k_reddit/Arabic and Tribal Rhythms/AYOUB_Nott.mid\n",
      "Error converting midi to sequence 'NoneType' object has no attribute 'open' data/midi/v8/midi_sources/130k_reddit/Arabic and Tribal Rhythms/Mozembeque 2.mid\n",
      "Error converting midi to sequence 'NoneType' object has no attribute 'open' data/midi/v8/midi_sources/130k_reddit/Arabic and Tribal Rhythms/Sufi_04.mid\n",
      "Error converting midi to sequence 'NoneType' object has no attribute 'open' data/midi/v8/midi_sources/130k_reddit/Arabic and Tribal Rhythms/MAQSOUM_Jas.mid\n",
      "Error converting midi to sequence 'NoneType' object has no attribute 'open' data/midi/v8/midi_sources/130k_reddit/Arabic and Tribal Rhythms/AYOUB_Carmine basic.mid\n",
      "Error converting midi to sequence 'NoneType' object has no attribute 'open' data/midi/v8/midi_sources/130k_reddit/Arabic and Tribal Rhythms/ADNAN.mid\n",
      "Error converting midi to sequence 'NoneType' object has no attribute 'open' data/midi/v8/midi_sources/130k_reddit/Arabic and Tribal Rhythms/AYOUB_2.mid\n",
      "Error converting midi to sequence 'NoneType' object has no attribute 'open' data/midi/v8/midi_sources/130k_reddit/Arabic and Tribal Rhythms/falaahii_01.mid\n",
      "Error converting midi to sequence 'NoneType' object has no attribute 'open' data/midi/v8/midi_sources/130k_reddit/Arabic and Tribal Rhythms/BALADI_Mas'ud Busy.mid\n",
      "Error converting midi to sequence 'NoneType' object has no attribute 'open' data/midi/v8/midi_sources/130k_reddit/Arabic and Tribal Rhythms/BALADI_03.mid\n",
      "Error converting midi to sequence 'NoneType' object has no attribute 'open' data/midi/v8/midi_sources/130k_reddit/Arabic and Tribal Rhythms/GUWAZI_02.mid\n",
      "Error converting midi to sequence 'NoneType' object has no attribute 'open' data/midi/v8/midi_sources/130k_reddit/Arabic and Tribal Rhythms/Sadi_Jas.mid\n",
      "Error converting midi to sequence 'NoneType' object has no attribute 'open' data/midi/v8/midi_sources/130k_reddit/Arabic and Tribal Rhythms/BALADI_01.mid\n",
      "Error converting midi to sequence 'NoneType' object has no attribute 'open' data/midi/v8/midi_sources/130k_reddit/Arabic and Tribal Rhythms/falaahii.mid\n",
      "Error converting midi to sequence 'NoneType' object has no attribute 'open' data/midi/v8/midi_sources/130k_reddit/Arabic and Tribal Rhythms/Sufi_05.mid\n",
      "Error converting midi to sequence 'NoneType' object has no attribute 'open' data/midi/v8/midi_sources/130k_reddit/Arabic and Tribal Rhythms/MASMOUDI_02.mid\n",
      "Error converting midi to sequence 'NoneType' object has no attribute 'open' data/midi/v8/midi_sources/130k_reddit/Arabic and Tribal Rhythms/KARATCHI_02jas.mid\n",
      "Error converting midi to sequence 'NoneType' object has no attribute 'open' data/midi/v8/midi_sources/130k_reddit/Arabic and Tribal Rhythms/MAQSOUM_Nott Accented.mid\n",
      "Error converting midi to sequence 'NoneType' object has no attribute 'open' data/midi/v8/midi_sources/130k_reddit/Arabic and Tribal Rhythms/Suadi_03.mid\n",
      "Error converting midi to sequence 'NoneType' object has no attribute 'open' data/midi/v8/midi_sources/130k_reddit/Arabic and Tribal Rhythms/African Dance.mid\n",
      "Error converting midi to sequence 'NoneType' object has no attribute 'open' data/midi/v8/midi_sources/130k_reddit/Arabic and Tribal Rhythms/Sadi_Jas02.mid\n",
      "Error converting midi to sequence 'NoneType' object has no attribute 'open' data/midi/v8/midi_sources/130k_reddit/Arabic and Tribal Rhythms/falaahii_Carmine.mid\n",
      "Error converting midi to sequence 'NoneType' object has no attribute 'open' data/midi/v8/midi_sources/130k_reddit/Arabic and Tribal Rhythms/BALADI_me.mid\n",
      "Error converting midi to sequence 'NoneType' object has no attribute 'open' data/midi/v8/midi_sources/130k_reddit/Arabic and Tribal Rhythms/ARABIC_01.mid\n",
      "Error converting midi to sequence 'NoneType' object has no attribute 'open' data/midi/v8/midi_sources/130k_reddit/G/G/goldberg3.mid\n",
      "Error converting midi to sequence 'NoneType' object has no attribute 'open' data/midi/v8/midi_sources/130k_reddit/Arabic and Tribal Rhythms/MAQSOUM_Me.mid\n",
      "Error converting midi to sequence 'NoneType' object has no attribute 'open' data/midi/v8/midi_sources/130k_reddit/G/G/GMK01_01.MID\n",
      "Error converting midi to sequence 'NoneType' object has no attribute 'open' data/midi/v8/midi_sources/130k_reddit/G/G/geri_halliwell-scream_if_you_wanna_go_faster.mid\n"
     ]
    },
    {
     "name": "stdout",
     "output_type": "stream",
     "text": [
      "Error converting midi to sequence 'NoneType' object has no attribute 'open' data/midi/v8/midi_sources/130k_reddit/G/G/GMP05_11.MID\n",
      "Error converting midi to sequence 'NoneType' object has no attribute 'open' data/midi/v8/midi_sources/130k_reddit/G/G/GMK01_02.MID\n",
      "Error converting midi to sequence 'NoneType' object has no attribute 'open' data/midi/v8/midi_sources/130k_reddit/G/G/greece3.mid\n",
      "Error converting midi to sequence 'NoneType' object has no attribute 'open' data/midi/v8/midi_sources/130k_reddit/G/G/GMK03_01.MID\n",
      "Error converting midi to sequence 'NoneType' object has no attribute 'open' data/midi/v8/midi_sources/130k_reddit/G/G/GMP05_06.MID\n",
      "Error converting midi to sequence 'NoneType' object has no attribute 'open' data/midi/v8/midi_sources/130k_reddit/G/G/GMP05_02.MID\n",
      "Error converting midi to sequence 'NoneType' object has no attribute 'open' data/midi/v8/midi_sources/130k_reddit/G/G/GroovyKindofLove.mid\n",
      "Error converting midi to sequence 'NoneType' object has no attribute 'open' data/midi/v8/midi_sources/130k_reddit/G/G/GMP05_01.MID\n",
      "Error converting midi to sequence 'NoneType' object has no attribute 'open' data/midi/v8/midi_sources/130k_reddit/G/G/GSK02_08.MID\n",
      "Error converting midi to sequence 'NoneType' object has no attribute 'open' data/midi/v8/midi_sources/130k_reddit/G/G/GSK02_02.MID\n",
      "Error converting midi to sequence 'NoneType' object has no attribute 'open' data/midi/v8/midi_sources/130k_reddit/G/G/GSK03_03.MID\n",
      "Error converting midi to sequence 'NoneType' object has no attribute 'open' data/midi/v8/midi_sources/130k_reddit/G/G/GMP05_09.MID\n",
      "Error converting midi to sequence 'NoneType' object has no attribute 'open' data/midi/v8/midi_sources/130k_reddit/G/G/GSK02_03.MID\n",
      "Error converting midi to sequence 'NoneType' object has no attribute 'open' data/midi/v8/midi_sources/130k_reddit/G/G/GABRIEL.Starless.mid\n",
      "Error converting midi to sequence 'NoneType' object has no attribute 'open' data/midi/v8/midi_sources/130k_reddit/G/G/GSE05_02.MID\n",
      "Error converting midi to sequence 'NoneType' object has no attribute 'open' data/midi/v8/midi_sources/130k_reddit/G/G/Gone-Too-Soon.mid\n",
      "Error converting midi to sequence 'NoneType' object has no attribute 'open' data/midi/v8/midi_sources/130k_reddit/G/G/GME05_08.MID\n",
      "Error converting midi to sequence 'NoneType' object has no attribute 'open' data/midi/v8/midi_sources/130k_reddit/G/G/GMK01_06.MID\n",
      "Error converting midi to sequence 'NoneType' object has no attribute 'open' data/midi/v8/midi_sources/130k_reddit/G/G/GMK02_05.MID\n",
      "Error converting midi to sequence 'NoneType' object has no attribute 'open' data/midi/v8/midi_sources/130k_reddit/G/G/Good-Vibrations-3.mid\n",
      "Error converting midi to sequence 'NoneType' object has no attribute 'open' data/midi/v8/midi_sources/130k_reddit/G/G/gravita.mid\n",
      "Error converting midi to sequence 'NoneType' object has no attribute 'open' data/midi/v8/midi_sources/130k_reddit/G/G/GSK02_06.MID\n",
      "Error converting midi to sequence 'NoneType' object has no attribute 'open' data/midi/v8/midi_sources/130k_reddit/G/G/genesis-i_cant_dance.mid\n",
      "Error converting midi to sequence 'NoneType' object has no attribute 'open' data/midi/v8/midi_sources/130k_reddit/G/G/GMP05_10.MID\n",
      "Error converting midi to sequence 'NoneType' object has no attribute 'open' data/midi/v8/midi_sources/130k_reddit/G/G/GMP05_03.MID\n",
      "Error converting midi to sequence 'NoneType' object has no attribute 'open' data/midi/v8/midi_sources/130k_reddit/G/G/Ghostrider-In-The-Sky.mid\n",
      "Error converting midi to sequence 'NoneType' object has no attribute 'open' data/midi/v8/midi_sources/130k_reddit/G/G/GSK02_05.MID\n",
      "Error converting midi to sequence 'NoneType' object has no attribute 'open' data/midi/v8/midi_sources/130k_reddit/G/G/gabrielle-when_a_woman.mid\n",
      "Error converting midi to sequence 'NoneType' object has no attribute 'open' data/midi/v8/midi_sources/130k_reddit/G/G/GSP01_12.MID\n",
      "Error converting midi to sequence 'NoneType' object has no attribute 'open' data/midi/v8/midi_sources/130k_reddit/G/G/GSP01_07.MID\n",
      "Error converting midi to sequence 'NoneType' object has no attribute 'open' data/midi/v8/midi_sources/130k_reddit/G/G/GermanEndingTheme1.mid\n",
      "Error converting midi to sequence 'NoneType' object has no attribute 'open' data/midi/v8/midi_sources/130k_reddit/G/G/GSE05_07.MID\n",
      "Error converting midi to sequence 'NoneType' object has no attribute 'open' data/midi/v8/midi_sources/130k_reddit/G/G/GSK01_01.MID\n",
      "Error converting midi to sequence 'NoneType' object has no attribute 'open' data/midi/v8/midi_sources/130k_reddit/G/G/GME11_04.MID\n",
      "Error converting midi to sequence 'NoneType' object has no attribute 'open' data/midi/v8/midi_sources/130k_reddit/G/G/Genesis_-_Land_of_Confusion.mid\n",
      "Error converting midi to sequence 'NoneType' object has no attribute 'open' data/midi/v8/midi_sources/130k_reddit/G/G/GME08_07.MID\n",
      "Error converting midi to sequence 'NoneType' object has no attribute 'open' data/midi/v8/midi_sources/130k_reddit/G/G/GME08_04.MID\n",
      "Error converting midi to sequence 'NoneType' object has no attribute 'open' data/midi/v8/midi_sources/130k_reddit/G/G/Greensleeves.mid\n",
      "Error converting midi to sequence 'NoneType' object has no attribute 'open' data/midi/v8/midi_sources/130k_reddit/G/G/Gordon_Lightfoot_-_Carefree_Highway.mid\n",
      "Error converting midi to sequence 'NoneType' object has no attribute 'open' data/midi/v8/midi_sources/130k_reddit/G/G/GMK02_08.MID\n",
      "Error converting midi to sequence 'NoneType' object has no attribute 'open' data/midi/v8/midi_sources/130k_reddit/G/G/GSE01_03.MID\n",
      "Error converting midi to sequence 'NoneType' object has no attribute 'open' data/midi/v8/midi_sources/130k_reddit/G/G/GME05_06.MID\n",
      "Error converting midi to sequence 'NoneType' object has no attribute 'open' data/midi/v8/midi_sources/130k_reddit/G/G/GME05_04.MID\n",
      "Error converting midi to sequence 'NoneType' object has no attribute 'open' data/midi/v8/midi_sources/130k_reddit/G/G/GMK02_03.MID\n",
      "Error converting midi to sequence 'NoneType' object has no attribute 'open' data/midi/v8/midi_sources/130k_reddit/G/G/GMK03_02.MID\n",
      "Error converting midi to sequence 'NoneType' object has no attribute 'open' data/midi/v8/midi_sources/130k_reddit/G/G/Golden-Eye-(Theme-Of-The-Film-'Golden-Eye')-2.mid\n",
      "Error converting midi to sequence 'NoneType' object has no attribute 'open' data/midi/v8/midi_sources/130k_reddit/G/G/george_michael-shoot_the_dog.mid\n",
      "Error converting midi to sequence 'NoneType' object has no attribute 'open' data/midi/v8/midi_sources/130k_reddit/G/G/globa008.mid\n",
      "Error converting midi to sequence 'NoneType' object has no attribute 'open' data/midi/v8/midi_sources/130k_reddit/G/G/GermanOpening2.mid\n",
      "Error converting midi to sequence 'NoneType' object has no attribute 'open' data/midi/v8/midi_sources/130k_reddit/G/G/GOOMBAY DANCE BAND.Christmas at sea.mid\n",
      "Error converting midi to sequence 'NoneType' object has no attribute 'open' data/midi/v8/midi_sources/130k_reddit/G/G/george_michael-fast_love.mid\n",
      "Error converting midi to sequence 'NoneType' object has no attribute 'open' data/midi/v8/midi_sources/130k_reddit/G/G/GMP01_04.MID\n",
      "Error converting midi to sequence 'NoneType' object has no attribute 'open' data/midi/v8/midi_sources/130k_reddit/G/G/GSE05_03.MID\n",
      "Error converting midi to sequence 'NoneType' object has no attribute 'open' data/midi/v8/midi_sources/130k_reddit/G/G/Greengre.mid\n",
      "Error converting midi to sequence 'NoneType' object has no attribute 'open' data/midi/v8/midi_sources/130k_reddit/G/G/GMK02_04.MID\n",
      "Error converting midi to sequence 'NoneType' object has no attribute 'open' data/midi/v8/midi_sources/130k_reddit/G/G/Grawple.mid\n",
      "Error converting midi to sequence 'NoneType' object has no attribute 'open' data/midi/v8/midi_sources/130k_reddit/G/G/GME05_05.MID\n",
      "Error converting midi to sequence 'NoneType' object has no attribute 'open' data/midi/v8/midi_sources/130k_reddit/G/G/GSK03_07.MID\n",
      "Error converting midi to sequence 'NoneType' object has no attribute 'open' data/midi/v8/midi_sources/130k_reddit/G/G/GMK02_01.MID\n",
      "Error converting midi to sequence 'NoneType' object has no attribute 'open' data/midi/v8/midi_sources/130k_reddit/G/G/GSP01_09.MID\n",
      "Error converting midi to sequence 'NoneType' object has no attribute 'open' data/midi/v8/midi_sources/130k_reddit/G/G/GMK02_07.MID\n"
     ]
    },
    {
     "name": "stdout",
     "output_type": "stream",
     "text": [
      "Error converting midi to sequence 'NoneType' object has no attribute 'open' data/midi/v8/midi_sources/130k_reddit/G/G/GoodbyeYellowBrickRoad2.mid\n",
      "Error converting midi to sequence 'NoneType' object has no attribute 'open' data/midi/v8/midi_sources/130k_reddit/G/G/Greatest-Love-Of-All-2.mid\n",
      "Error converting midi to sequence 'NoneType' object has no attribute 'open' data/midi/v8/midi_sources/130k_reddit/G/G/girl3.mid\n",
      "Error converting midi to sequence 'NoneType' object has no attribute 'open' data/midi/v8/midi_sources/130k_reddit/G/G/greece_kardia.mid\n",
      "Error converting midi to sequence 'NoneType' object has no attribute 'open' data/midi/v8/midi_sources/130k_reddit/G/G/GMK01_05.MID\n",
      "Error converting midi to sequence 'NoneType' object has no attribute 'open' data/midi/v8/midi_sources/130k_reddit/G/G/GMK04_07.MID\n",
      "Error converting midi to sequence 'NoneType' object has no attribute 'open' data/midi/v8/midi_sources/130k_reddit/G/G/GoodbyeMyBrother.mid\n",
      "Error converting midi to sequence 'NoneType' object has no attribute 'open' data/midi/v8/midi_sources/130k_reddit/G/G/GSK02_04.MID\n",
      "Error converting midi to sequence 'NoneType' object has no attribute 'open' data/midi/v8/midi_sources/130k_reddit/G/G/GMP01_07.MID\n",
      "Error converting midi to sequence 'NoneType' object has no attribute 'open' data/midi/v8/midi_sources/130k_reddit/G/G/G.LIGHTFOOT.Carefree highway.mid\n",
      "Error converting midi to sequence 'NoneType' object has no attribute 'open' data/midi/v8/midi_sources/130k_reddit/G/G/gaime.mid\n",
      "Error converting midi to sequence 'NoneType' object has no attribute 'open' data/midi/v8/midi_sources/130k_reddit/G/G/GMK02_02.MID\n",
      "Error converting midi to sequence 'NoneType' object has no attribute 'open' data/midi/v8/midi_sources/130k_reddit/G/G/GMP01_09.MID\n",
      "Error converting midi to sequence 'NoneType' object has no attribute 'open' data/midi/v8/midi_sources/130k_reddit/G/G/ghost.mid\n",
      "Error converting midi to sequence 'NoneType' object has no attribute 'open' data/midi/v8/midi_sources/130k_reddit/G/G/GME11_01.MID\n",
      "Error converting midi to sequence 'NoneType' object has no attribute 'open' data/midi/v8/midi_sources/130k_reddit/G/G/GMK01_03.MID\n",
      "Error converting midi to sequence 'NoneType' object has no attribute 'open' data/midi/v8/midi_sources/130k_reddit/G/G/GSK03_04.MID\n",
      "Error converting midi to sequence 'NoneType' object has no attribute 'open' data/midi/v8/midi_sources/130k_reddit/G/G/Givthank.mid\n",
      "Error converting midi to sequence 'NoneType' object has no attribute 'open' data/midi/v8/midi_sources/130k_reddit/G/G/GUITWEEP.MID\n",
      "Error converting midi to sequence 'NoneType' object has no attribute 'open' data/midi/v8/midi_sources/130k_reddit/G/G/GSK01_02.MID\n",
      "Error converting midi to sequence 'NoneType' object has no attribute 'open' data/midi/v8/midi_sources/130k_reddit/G/G/GME08_02.MID\n",
      "Error converting midi to sequence 'NoneType' object has no attribute 'open' data/midi/v8/midi_sources/130k_reddit/G/G/GM072_12.MID\n",
      "Error converting midi to sequence 'NoneType' object has no attribute 'open' data/midi/v8/midi_sources/130k_reddit/G/G/G.BROOKS.Thunder.mid\n",
      "Error converting midi to sequence 'NoneType' object has no attribute 'open' data/midi/v8/midi_sources/130k_reddit/G/G/Ganz-Im-Weiss-4.mid\n",
      "Error converting midi to sequence 'NoneType' object has no attribute 'open' data/midi/v8/midi_sources/130k_reddit/G/G/getdown03.mid\n",
      "Error converting midi to sequence 'NoneType' object has no attribute 'open' data/midi/v8/midi_sources/130k_reddit/G/G/Graceme.mid\n",
      "Error converting midi to sequence 'NoneType' object has no attribute 'open' data/midi/v8/midi_sources/130k_reddit/G/G/GMK01_08.MID\n",
      "Error converting midi to sequence 'NoneType' object has no attribute 'open' data/midi/v8/midi_sources/130k_reddit/G/G/GM072_10.MID\n",
      "Error converting midi to sequence 'NoneType' object has no attribute 'open' data/midi/v8/midi_sources/130k_reddit/G/G/GME05_02.MID\n",
      "Error converting midi to sequence 'NoneType' object has no attribute 'open' data/midi/v8/midi_sources/130k_reddit/G/G/GMP05_16.MID\n",
      "Error converting midi to sequence 'NoneType' object has no attribute 'open' data/midi/v8/midi_sources/130k_reddit/G/G/ghazal.mid\n",
      "Error converting midi to sequence 'NoneType' object has no attribute 'open' data/midi/v8/midi_sources/130k_reddit/G/G/GME02_01.MID\n",
      "Error converting midi to sequence 'NoneType' object has no attribute 'open' data/midi/v8/midi_sources/130k_reddit/G/G/G.MOORE.Walking by myself.mid\n",
      "Error converting midi to sequence 'NoneType' object has no attribute 'open' data/midi/v8/midi_sources/130k_reddit/G/G/GIVEIN.MID\n",
      "Error converting midi to sequence 'NoneType' object has no attribute 'open' data/midi/v8/midi_sources/130k_reddit/G/G/granada2.mid\n",
      "Error converting midi to sequence 'NoneType' object has no attribute 'open' data/midi/v8/midi_sources/130k_reddit/G/G/Get-Down-2.mid\n",
      "Error converting midi to sequence 'NoneType' object has no attribute 'open' data/midi/v8/midi_sources/130k_reddit/G/G/GME02_06.MID\n",
      "Error converting midi to sequence 'NoneType' object has no attribute 'open' data/midi/v8/midi_sources/130k_reddit/G/G/Goodbyelove.mid\n",
      "Error converting midi to sequence 'NoneType' object has no attribute 'open' data/midi/v8/midi_sources/130k_reddit/G/G/Give-In-To-Me-2.mid\n"
     ]
    },
    {
     "name": "stderr",
     "output_type": "stream",
     "text": [
      "midi: WARNING: Conversion error for <MidiEvent None, t=None, track=11, channel=None>: unknown midi event type: None; ignored.\n"
     ]
    },
    {
     "name": "stdout",
     "output_type": "stream",
     "text": [
      "Error converting midi to sequence 'NoneType' object has no attribute 'open' data/midi/v8/midi_sources/130k_reddit/G/G/GME05_07.MID\n",
      "Error converting midi to sequence 'NoneType' object has no attribute 'open' data/midi/v8/midi_sources/130k_reddit/G/G/Genesis_-_In_Too_Deep.mid\n"
     ]
    },
    {
     "name": "stderr",
     "output_type": "stream",
     "text": [
      "midi: WARNING: Conversion error for <MidiEvent None, t=None, track=1, channel=None>: unknown midi event type: None; ignored.\n"
     ]
    },
    {
     "name": "stdout",
     "output_type": "stream",
     "text": [
      "Error converting midi to sequence 'NoneType' object has no attribute 'open' data/midi/v8/midi_sources/130k_reddit/G/G/greek2.mid\n"
     ]
    },
    {
     "name": "stderr",
     "output_type": "stream",
     "text": [
      "midi: WARNING: Conversion error for <MidiEvent None, t=None, track=7, channel=None>: unknown midi event type: None; ignored.\n"
     ]
    },
    {
     "name": "stdout",
     "output_type": "stream",
     "text": [
      "Error converting midi to sequence 'NoneType' object has no attribute 'open' data/midi/v8/midi_sources/130k_reddit/G/G/GME08_09.MID\n",
      "Error converting midi to sequence 'NoneType' object has no attribute 'open' data/midi/v8/midi_sources/130k_reddit/G/G/G.MICHAEL.As K.mid\n",
      "Error converting midi to sequence 'NoneType' object has no attribute 'open' data/midi/v8/midi_sources/130k_reddit/G/G/GMP01_10.MID\n"
     ]
    },
    {
     "name": "stderr",
     "output_type": "stream",
     "text": [
      "midi: WARNING: Conversion error for <MidiEvent None, t=None, track=15, channel=None>: unknown midi event type: None; ignored.\n",
      "midi: WARNING: Conversion error for <MidiEvent None, t=None, track=2, channel=None>: unknown midi event type: None; ignored.\n"
     ]
    },
    {
     "name": "stdout",
     "output_type": "stream",
     "text": [
      "Error converting midi to sequence 'NoneType' object has no attribute 'open' data/midi/v8/midi_sources/130k_reddit/G/G/Good-Bait.mid\n",
      "Error converting midi to sequence 'NoneType' object has no attribute 'open' data/midi/v8/midi_sources/130k_reddit/G/G/Get-It-On-(Bang-A-Gong)-2.mid\n",
      "Error converting midi to sequence 'NoneType' object has no attribute 'open' data/midi/v8/midi_sources/130k_reddit/G/G/GMP01_01.MID\n",
      "Error converting midi to sequence 'NoneType' object has no attribute 'open' data/midi/v8/midi_sources/130k_reddit/G/G/GSE01_07.MID\n",
      "Error converting midi to sequence 'NoneType' object has no attribute 'open' data/midi/v8/midi_sources/130k_reddit/G/G/GMP05_07.MID\n",
      "Error converting midi to sequence 'NoneType' object has no attribute 'open' data/midi/v8/midi_sources/130k_reddit/G/G/GREENDAY.2000 light years away.mid\n",
      "Error converting midi to sequence 'NoneType' object has no attribute 'open' data/midi/v8/midi_sources/130k_reddit/G/G/GME01_03.MID\n",
      "Error converting midi to sequence 'NoneType' object has no attribute 'open' data/midi/v8/midi_sources/130k_reddit/G/G/grave3.mid\n",
      "Error converting midi to sequence 'NoneType' object has no attribute 'open' data/midi/v8/midi_sources/130k_reddit/G/G/GMP05_13.MID\n",
      "Error converting midi to sequence 'NoneType' object has no attribute 'open' data/midi/v8/midi_sources/130k_reddit/G/G/GSP01_10.MID\n",
      "Error converting midi to sequence 'NoneType' object has no attribute 'open' data/midi/v8/midi_sources/130k_reddit/G/G/GSK02_01.MID\n",
      "Error converting midi to sequence 'NoneType' object has no attribute 'open' data/midi/v8/midi_sources/130k_reddit/G/G/Goodbye-Yellow-Brick-Road-2.mid\n",
      "Error converting midi to sequence 'NoneType' object has no attribute 'open' data/midi/v8/midi_sources/130k_reddit/G/G/Gimme-Some-Lovin'-2.mid\n",
      "Error converting midi to sequence 'NoneType' object has no attribute 'open' data/midi/v8/midi_sources/130k_reddit/G/G/GSE05_05.MID\n",
      "Error converting midi to sequence 'NoneType' object has no attribute 'open' data/midi/v8/midi_sources/130k_reddit/G/G/GME08_05.MID\n",
      "Error converting midi to sequence 'NoneType' object has no attribute 'open' data/midi/v8/midi_sources/130k_reddit/G/G/GSK01_07.MID\n",
      "Error converting midi to sequence 'NoneType' object has no attribute 'open' data/midi/v8/midi_sources/130k_reddit/G/G/GMP05_15.MID\n",
      "Error converting midi to sequence 'NoneType' object has no attribute 'open' data/midi/v8/midi_sources/130k_reddit/G/G/GSK02_07.MID\n",
      "Error converting midi to sequence 'NoneType' object has no attribute 'open' data/midi/v8/midi_sources/130k_reddit/G/G/GMP05_14.MID\n",
      "Error converting midi to sequence 'NoneType' object has no attribute 'open' data/midi/v8/midi_sources/130k_reddit/G/G/GME11_08.MID\n",
      "Error converting midi to sequence 'NoneType' object has no attribute 'open' data/midi/v8/midi_sources/130k_reddit/G/G/GSK01_06.MID\n",
      "Error converting midi to sequence 'NoneType' object has no attribute 'open' data/midi/v8/midi_sources/130k_reddit/G/G/GSP01_01.MID\n",
      "Error converting midi to sequence 'NoneType' object has no attribute 'open' data/midi/v8/midi_sources/130k_reddit/G/G/GSE04_01.MID\n",
      "Error converting midi to sequence 'NoneType' object has no attribute 'open' data/midi/v8/midi_sources/130k_reddit/G/G/GMP01_06.MID\n",
      "Error converting midi to sequence 'NoneType' object has no attribute 'open' data/midi/v8/midi_sources/130k_reddit/G/G/GSP01_05.MID\n",
      "Error converting midi to sequence 'NoneType' object has no attribute 'open' data/midi/v8/midi_sources/130k_reddit/G/G/G.BROOKS.My Maria.mid\n",
      "Error converting midi to sequence 'NoneType' object has no attribute 'open' data/midi/v8/midi_sources/130k_reddit/G/G/GSK04_02.MID\n",
      "Error converting midi to sequence 'NoneType' object has no attribute 'open' data/midi/v8/midi_sources/130k_reddit/G/G/Genesis_-_I_Cant_Dance.mid\n",
      "Error converting midi to sequence 'NoneType' object has no attribute 'open' data/midi/v8/midi_sources/130k_reddit/G/G/GME05_03.MID\n",
      "Error converting midi to sequence 'NoneType' object has no attribute 'open' data/midi/v8/midi_sources/130k_reddit/G/G/GSE01_05.MID\n",
      "Error converting midi to sequence 'NoneType' object has no attribute 'open' data/midi/v8/midi_sources/130k_reddit/G/G/GMK03_05.MID\n",
      "Error converting midi to sequence 'NoneType' object has no attribute 'open' data/midi/v8/midi_sources/130k_reddit/G/G/gentleonmymind.mid\n",
      "Error converting midi to sequence 'NoneType' object has no attribute 'open' data/midi/v8/midi_sources/130k_reddit/G/G/GMP05_08.MID\n",
      "Error converting midi to sequence 'NoneType' object has no attribute 'open' data/midi/v8/midi_sources/130k_reddit/G/G/GSK03_08.MID\n",
      "Error converting midi to sequence 'NoneType' object has no attribute 'open' data/midi/v8/midi_sources/130k_reddit/G/G/GMP01_02.MID\n",
      "Error converting midi to sequence 'NoneType' object has no attribute 'open' data/midi/v8/midi_sources/130k_reddit/G/G/GSE05_01.MID\n",
      "Error converting midi to sequence 'NoneType' object has no attribute 'open' data/midi/v8/midi_sources/130k_reddit/G/G/GMP05_12.MID\n",
      "Error converting midi to sequence 'NoneType' object has no attribute 'open' data/midi/v8/midi_sources/130k_reddit/G/G/GERONIMO.Heya.MID\n",
      "Error converting midi to sequence 'NoneType' object has no attribute 'open' data/midi/v8/midi_sources/130k_reddit/G/G/ghostriders.mid\n",
      "Error converting midi to sequence 'NoneType' object has no attribute 'open' data/midi/v8/midi_sources/130k_reddit/G/G/GME11_07.MID\n",
      "Error converting midi to sequence 'NoneType' object has no attribute 'open' data/midi/v8/midi_sources/130k_reddit/G/G/GSE05_08.MID\n",
      "Error converting midi to sequence 'NoneType' object has no attribute 'open' data/midi/v8/midi_sources/130k_reddit/G/G/GSE05_04.MID\n",
      "Error converting midi to sequence 'NoneType' object has no attribute 'open' data/midi/v8/midi_sources/130k_reddit/G/G/GME08_01.MID\n",
      "Error converting midi to sequence 'NoneType' object has no attribute 'open' data/midi/v8/midi_sources/130k_reddit/G/G/GSK03_01.MID\n",
      "Error converting midi to sequence 'NoneType' object has no attribute 'open' data/midi/v8/midi_sources/130k_reddit/G/G/GME02_03.MID\n",
      "Error converting midi to sequence 'NoneType' object has no attribute 'open' data/midi/v8/midi_sources/130k_reddit/G/G/getenough.mid\n",
      "Error converting midi to sequence 'NoneType' object has no attribute 'open' data/midi/v8/midi_sources/130k_reddit/G/G/Ganz-Oder-Gar-Nicht-1.mid\n",
      "Error converting midi to sequence 'NoneType' object has no attribute 'open' data/midi/v8/midi_sources/130k_reddit/G/G/GME08_06.MID\n",
      "Error converting midi to sequence 'NoneType' object has no attribute 'open' data/midi/v8/midi_sources/130k_reddit/G/G/gusttavo_lima-arrasta.mid\n",
      "Error converting midi to sequence 'NoneType' object has no attribute 'open' data/midi/v8/midi_sources/130k_reddit/G/G/GME02_07.MID\n",
      "Error converting midi to sequence 'NoneType' object has no attribute 'open' data/midi/v8/midi_sources/130k_reddit/G/G/GSK03_02.MID\n",
      "Error converting midi to sequence 'NoneType' object has no attribute 'open' data/midi/v8/midi_sources/130k_reddit/G/G/greatest2.mid\n",
      "Error converting midi to sequence 'NoneType' object has no attribute 'open' data/midi/v8/midi_sources/130k_reddit/G/G/GME08_08.MID\n",
      "Error converting midi to sequence 'NoneType' object has no attribute 'open' data/midi/v8/midi_sources/130k_reddit/G/G/GME05_01.MID\n",
      "Error converting midi to sequence 'NoneType' object has no attribute 'open' data/midi/v8/midi_sources/130k_reddit/G/G/GMK02_06.MID\n",
      "Error converting midi to sequence 'NoneType' object has no attribute 'open' data/midi/v8/midi_sources/130k_reddit/G/G/GSK04_04.MID\n",
      "Error converting midi to sequence 'NoneType' object has no attribute 'open' data/midi/v8/midi_sources/130k_reddit/G/G/GME01_05.MID\n",
      "Error converting midi to sequence 'NoneType' object has no attribute 'open' data/midi/v8/midi_sources/130k_reddit/G/G/GSK04_01.MID\n",
      "Error converting midi to sequence 'NoneType' object has no attribute 'open' data/midi/v8/midi_sources/130k_reddit/G/G/GSK01_04.MID\n",
      "Error converting midi to sequence 'NoneType' object has no attribute 'open' data/midi/v8/midi_sources/130k_reddit/G/G/GMK04_08.MID\n",
      "Error converting midi to sequence 'NoneType' object has no attribute 'open' data/midi/v8/midi_sources/130k_reddit/G/G/Georgia-On-My-Mind-1.mid\n",
      "Error converting midi to sequence 'NoneType' object has no attribute 'open' data/midi/v8/midi_sources/130k_reddit/G/G/giot.mid\n"
     ]
    },
    {
     "name": "stdout",
     "output_type": "stream",
     "text": [
      "Error converting midi to sequence 'NoneType' object has no attribute 'open' data/midi/v8/midi_sources/130k_reddit/G/G/GSK01_03.MID\n"
     ]
    },
    {
     "name": "stderr",
     "output_type": "stream",
     "text": [
      "midi: WARNING: Conversion error for <MidiEvent None, t=None, track=10, channel=None>: unknown midi event type: None; ignored.\n",
      "midi: WARNING: Conversion error for <MidiEvent None, t=None, track=12, channel=None>: unknown midi event type: None; ignored.\n"
     ]
    },
    {
     "name": "stdout",
     "output_type": "stream",
     "text": [
      "Error converting midi to sequence 'NoneType' object has no attribute 'open' data/midi/v8/midi_sources/130k_reddit/G/G/Gmk04_04.mid\n",
      "Error converting midi to sequence 'NoneType' object has no attribute 'open' data/midi/v8/midi_sources/130k_reddit/G/G/GMP01_05.MID\n",
      "Error converting midi to sequence 'NoneType' object has no attribute 'open' data/midi/v8/midi_sources/130k_reddit/G/G/GMP01_12.MID\n",
      "Error converting midi to sequence 'NoneType' object has no attribute 'open' data/midi/v8/midi_sources/130k_reddit/G/G/GMP05_05.MID\n",
      "Error converting midi to sequence 'NoneType' object has no attribute 'open' data/midi/v8/midi_sources/130k_reddit/G/G/Glad-All-Over-1.mid\n",
      "Error converting midi to sequence 'NoneType' object has no attribute 'open' data/midi/v8/midi_sources/130k_reddit/G/G/Got-To-Get-You-Into-My-Life.mid\n",
      "Error converting midi to sequence 'NoneType' object has no attribute 'open' data/midi/v8/midi_sources/130k_reddit/G/G/GSK04_07.MID\n",
      "Error converting midi to sequence 'NoneType' object has no attribute 'open' data/midi/v8/midi_sources/130k_reddit/G/G/GREENDAY.Greek stink breath K.mid\n",
      "Error converting midi to sequence 'NoneType' object has no attribute 'open' data/midi/v8/midi_sources/130k_reddit/G/G/gomyway.mid\n",
      "Error converting midi to sequence 'NoneType' object has no attribute 'open' data/midi/v8/midi_sources/130k_reddit/G/G/graveyar.mid\n",
      "Error converting midi to sequence 'NoneType' object has no attribute 'open' data/midi/v8/midi_sources/130k_reddit/G/G/GMK03_07.MID\n",
      "Error converting midi to sequence 'NoneType' object has no attribute 'open' data/midi/v8/midi_sources/130k_reddit/G/G/GMP05_04.MID\n",
      "Error converting midi to sequence 'NoneType' object has no attribute 'open' data/midi/v8/midi_sources/130k_reddit/G/G/GAYA.Shine on me.mid\n",
      "Error converting midi to sequence 'NoneType' object has no attribute 'open' data/midi/v8/midi_sources/130k_reddit/G/G/GMK01_04.MID\n",
      "Error converting midi to sequence 'NoneType' object has no attribute 'open' data/midi/v8/midi_sources/130k_reddit/G/G/GMP01_11.MID\n",
      "Error converting midi to sequence 'NoneType' object has no attribute 'open' data/midi/v8/midi_sources/130k_reddit/G/G/GLORIA-2.MID\n",
      "Error converting midi to sequence 'NoneType' object has no attribute 'open' data/midi/v8/midi_sources/130k_reddit/G/G/GMK01_07.MID\n",
      "Error converting midi to sequence 'NoneType' object has no attribute 'open' data/midi/v8/midi_sources/130k_reddit/G/G/GMK04_06.MID\n",
      "Error converting midi to sequence 'NoneType' object has no attribute 'open' data/midi/v8/midi_sources/130k_reddit/G/G/GMP01_03.MID\n",
      "Error converting midi to sequence 'NoneType' object has no attribute 'open' data/midi/v8/midi_sources/130k_reddit/G/G/GMK03_04.MID\n",
      "Error converting midi to sequence 'NoneType' object has no attribute 'open' data/midi/v8/midi_sources/130k_reddit/G/G/GME01_07.MID\n",
      "Error converting midi to sequence 'NoneType' object has no attribute 'open' data/midi/v8/midi_sources/130k_reddit/G/G/GMK04_10.MID\n",
      "Error converting midi to sequence 'NoneType' object has no attribute 'open' data/midi/v8/midi_sources/130k_reddit/G/G/guns_n_roses-knockin_on_neavens_door.mid\n",
      "Error converting midi to sequence 'NoneType' object has no attribute 'open' data/midi/v8/midi_sources/130k_reddit/G/G/GME02_08.MID\n",
      "Error converting midi to sequence 'NoneType' object has no attribute 'open' data/midi/v8/midi_sources/130k_reddit/G/G/GMK03_03.MID\n"
     ]
    },
    {
     "name": "stderr",
     "output_type": "stream",
     "text": [
      "midi: WARNING: Conversion error for <MidiEvent None, t=None, track=0, channel=None>: unknown midi event type: None; ignored.\n"
     ]
    },
    {
     "name": "stdout",
     "output_type": "stream",
     "text": [
      "Error converting midi to sequence 'NoneType' object has no attribute 'open' data/midi/v8/midi_sources/130k_reddit/G/G/GMP01_08.MID\n",
      "Error converting midi to sequence 'NoneType' object has no attribute 'open' data/midi/v8/midi_sources/130k_reddit/G/G/goodbye2.mid\n",
      "Error converting midi to sequence 'NoneType' object has no attribute 'open' data/midi/v8/midi_sources/130k_reddit/G/G/GMK03_08.MID\n",
      "Error converting midi to sequence 'NoneType' object has no attribute 'open' data/midi/v8/midi_sources/130k_reddit/G/G/gundamX.mid\n",
      "Error converting midi to sequence 'NoneType' object has no attribute 'open' data/midi/v8/midi_sources/130k_reddit/G/G/GME08_03.MID\n",
      "Error converting midi to sequence 'NoneType' object has no attribute 'open' data/midi/v8/midi_sources/130k_reddit/G/G/GiulioCesare.mid\n",
      "Error converting midi to sequence 'NoneType' object has no attribute 'open' data/midi/v8/midi_sources/130k_reddit/G/G/GM072_11.MID\n",
      "Error converting midi to sequence 'NoneType' object has no attribute 'open' data/midi/v8/midi_sources/130k_reddit/G/G/GSP01_08.MID\n",
      "Error converting midi to sequence 'NoneType' object has no attribute 'open' data/midi/v8/midi_sources/130k_reddit/G/G/girls_aloud-no_good_advice.mid\n",
      "Error converting midi to sequence 'NoneType' object has no attribute 'open' data/midi/v8/midi_sources/130k_reddit/G/G/gundam0083.mid\n",
      "Error converting midi to sequence 'NoneType' object has no attribute 'open' data/midi/v8/midi_sources/130k_reddit/G/G/Genesis_-_Tonight_Tonight_Tonight.mid\n"
     ]
    },
    {
     "name": "stderr",
     "output_type": "stream",
     "text": [
      "midi: WARNING: Conversion error for <MidiEvent None, t=None, track=0, channel=None>: unknown midi event type: None; ignored.\n"
     ]
    },
    {
     "name": "stdout",
     "output_type": "stream",
     "text": [
      "Error converting midi to sequence 'NoneType' object has no attribute 'open' data/midi/v8/midi_sources/130k_reddit/X/X/xgtop.mid\n"
     ]
    },
    {
     "name": "stderr",
     "output_type": "stream",
     "text": [
      "midi: WARNING: Conversion error for <MidiEvent None, t=None, track=0, channel=None>: unknown midi event type: None; ignored.\n"
     ]
    },
    {
     "name": "stdout",
     "output_type": "stream",
     "text": [
      "Error converting midi to sequence 'NoneType' object has no attribute 'open' data/midi/v8/midi_sources/130k_reddit/H/H/helpmema.mid\n",
      "Error converting midi to sequence 'NoneType' object has no attribute 'open' data/midi/v8/midi_sources/130k_reddit/H/H/halloween - graveyard.mid\n",
      "Error converting midi to sequence 'NoneType' object has no attribute 'open' data/midi/v8/midi_sources/130k_reddit/H/H/HANGSLOP.MID\n",
      "Error converting midi to sequence 'NoneType' object has no attribute 'open' data/midi/v8/midi_sources/130k_reddit/H/H/HABAITK.MID\n",
      "Error converting midi to sequence 'NoneType' object has no attribute 'open' data/midi/v8/midi_sources/130k_reddit/H/H/HIP-HOP.MID\n",
      "Error converting midi to sequence 'NoneType' object has no attribute 'open' data/midi/v8/midi_sources/130k_reddit/H/H/hotel5.mid\n",
      "Error converting midi to sequence 'NoneType' object has no attribute 'open' data/midi/v8/midi_sources/130k_reddit/H/H/Home-For-The-Holidays.mid\n",
      "Error converting midi to sequence 'NoneType' object has no attribute 'open' data/midi/v8/midi_sources/130k_reddit/H/H/Heartbreaker.mid\n",
      "Error converting midi to sequence 'NoneType' object has no attribute 'open' data/midi/v8/midi_sources/130k_reddit/H/H/Heart-Of-Glass-2.mid\n",
      "Error converting midi to sequence 'NoneType' object has no attribute 'open' data/midi/v8/midi_sources/130k_reddit/H/H/HEY-DU-2.MID\n"
     ]
    },
    {
     "name": "stderr",
     "output_type": "stream",
     "text": [
      "midi: WARNING: Conversion error for <MidiEvent None, t=None, track=0, channel=None>: unknown midi event type: None; ignored.\n"
     ]
    },
    {
     "name": "stdout",
     "output_type": "stream",
     "text": [
      "Error converting midi to sequence 'NoneType' object has no attribute 'open' data/midi/v8/midi_sources/130k_reddit/H/H/hellomyb3.mid\n",
      "Error converting midi to sequence 'NoneType' object has no attribute 'open' data/midi/v8/midi_sources/130k_reddit/H/H/Hold-On.mid\n",
      "Error converting midi to sequence 'NoneType' object has no attribute 'open' data/midi/v8/midi_sources/130k_reddit/H/H/hangingbymoment.mid\n",
      "Error converting midi to sequence 'NoneType' object has no attribute 'open' data/midi/v8/midi_sources/130k_reddit/H/H/haddaway-fly_away.mid\n",
      "Error converting midi to sequence 'NoneType' object has no attribute 'open' data/midi/v8/midi_sources/130k_reddit/H/H/hurry.mid\n",
      "Error converting midi to sequence 'NoneType' object has no attribute 'open' data/midi/v8/midi_sources/130k_reddit/H/H/hour6.mid\n",
      "Error converting midi to sequence 'NoneType' object has no attribute 'open' data/midi/v8/midi_sources/130k_reddit/H/H/hardtosayimsorry2.mid\n",
      "Error converting midi to sequence 'NoneType' object has no attribute 'open' data/midi/v8/midi_sources/130k_reddit/H/H/hbday.mid\n",
      "Error converting midi to sequence 'NoneType' object has no attribute 'open' data/midi/v8/midi_sources/130k_reddit/H/H/h1271.mid\n",
      "Error converting midi to sequence 'NoneType' object has no attribute 'open' data/midi/v8/midi_sources/130k_reddit/H/H/handog.mid\n",
      "Error converting midi to sequence 'NoneType' object has no attribute 'open' data/midi/v8/midi_sources/130k_reddit/H/H/hotstuff3.mid\n"
     ]
    },
    {
     "name": "stderr",
     "output_type": "stream",
     "text": [
      "midi: WARNING: Conversion error for <MidiEvent None, t=None, track=0, channel=None>: unknown midi event type: None; ignored.\n"
     ]
    },
    {
     "name": "stdout",
     "output_type": "stream",
     "text": [
      "Error converting midi to sequence 'NoneType' object has no attribute 'open' data/midi/v8/midi_sources/130k_reddit/H/H/How-Bizarre-1.mid\n",
      "Error converting midi to sequence 'NoneType' object has no attribute 'open' data/midi/v8/midi_sources/130k_reddit/H/H/hirond.mid\n",
      "Error converting midi to sequence 'NoneType' object has no attribute 'open' data/midi/v8/midi_sources/130k_reddit/H/H/holygrnd2.mid\n",
      "Error converting midi to sequence 'NoneType' object has no attribute 'open' data/midi/v8/midi_sources/130k_reddit/H/H/hinop.mid\n",
      "Error converting midi to sequence 'NoneType' object has no attribute 'open' data/midi/v8/midi_sources/130k_reddit/H/H/Hit-Me-With-Your-Rhythm-Stick.mid\n",
      "Error converting midi to sequence 'NoneType' object has no attribute 'open' data/midi/v8/midi_sources/130k_reddit/H/H/Hey-Jude-2.mid\n",
      "Error converting midi to sequence 'NoneType' object has no attribute 'open' data/midi/v8/midi_sources/130k_reddit/H/H/heaven09.mid\n",
      "Error converting midi to sequence 'NoneType' object has no attribute 'open' data/midi/v8/midi_sources/130k_reddit/H/H/Het-Busje-Komt-Zo-1.mid\n",
      "Error converting midi to sequence 'NoneType' object has no attribute 'open' data/midi/v8/midi_sources/130k_reddit/H/H/Hello-Mary-Lou-1.mid\n",
      "Error converting midi to sequence 'NoneType' object has no attribute 'open' data/midi/v8/midi_sources/130k_reddit/H/H/HardToSayI'mSorry2.mid\n",
      "Error converting midi to sequence 'NoneType' object has no attribute 'open' data/midi/v8/midi_sources/130k_reddit/H/H/Hey-Mr-DJ.mid\n",
      "Error converting midi to sequence 'NoneType' object has no attribute 'open' data/midi/v8/midi_sources/130k_reddit/H/H/he_got_game.mid\n",
      "Error converting midi to sequence 'NoneType' object has no attribute 'open' data/midi/v8/midi_sources/130k_reddit/H/H/HOUSTON.So emotional.mid\n",
      "Error converting midi to sequence 'NoneType' object has no attribute 'open' data/midi/v8/midi_sources/130k_reddit/H/H/hvidelosehjerte.mid\n",
      "Error converting midi to sequence 'NoneType' object has no attribute 'open' data/midi/v8/midi_sources/130k_reddit/H/H/Hungry-Heart-2.mid\n"
     ]
    },
    {
     "name": "stderr",
     "output_type": "stream",
     "text": [
      "midi: WARNING: Conversion error for <MidiEvent None, t=None, track=4, channel=None>: unknown midi event type: None; ignored.\n"
     ]
    },
    {
     "name": "stdout",
     "output_type": "stream",
     "text": [
      "Error converting midi to sequence 'NoneType' object has no attribute 'open' data/midi/v8/midi_sources/130k_reddit/H/H/hilary_duff-what_dreams_are_made_of.mid\n",
      "Error converting midi to sequence 'NoneType' object has no attribute 'open' data/midi/v8/midi_sources/130k_reddit/H/H/hauntedl.mid\n",
      "Error converting midi to sequence 'NoneType' object has no attribute 'open' data/midi/v8/midi_sources/130k_reddit/H/H/HardToSayImSorry_DFoster.mid\n"
     ]
    },
    {
     "name": "stderr",
     "output_type": "stream",
     "text": [
      "midi: WARNING: Conversion error for <MidiEvent None, t=None, track=2, channel=None>: unknown midi event type: None; ignored.\n",
      "midi: WARNING: Conversion error for <MidiEvent None, t=None, track=0, channel=None>: unknown midi event type: None; ignored.\n"
     ]
    },
    {
     "name": "stdout",
     "output_type": "stream",
     "text": [
      "Error converting midi to sequence 'NoneType' object has no attribute 'open' data/midi/v8/midi_sources/130k_reddit/H/H/Hanging-Touch.mid\n",
      "Error converting midi to sequence 'NoneType' object has no attribute 'open' data/midi/v8/midi_sources/130k_reddit/H/H/Hooked-On-Classic.mid\n",
      "Error converting midi to sequence 'NoneType' object has no attribute 'open' data/midi/v8/midi_sources/130k_reddit/H/H/harvestmoon.mid\n",
      "Error converting midi to sequence 'NoneType' object has no attribute 'open' data/midi/v8/midi_sources/130k_reddit/H/H/hinobrasil.mid\n",
      "Error converting midi to sequence 'NoneType' object has no attribute 'open' data/midi/v8/midi_sources/130k_reddit/H/H/hino-arg.mid\n",
      "Error converting midi to sequence 'NoneType' object has no attribute 'open' data/midi/v8/midi_sources/130k_reddit/H/H/heycista.mid\n"
     ]
    },
    {
     "name": "stderr",
     "output_type": "stream",
     "text": [
      "midi: WARNING: Conversion error for <MidiEvent None, t=None, track=8, channel=None>: unknown midi event type: None; ignored.\n"
     ]
    },
    {
     "name": "stdout",
     "output_type": "stream",
     "text": [
      "Error converting midi to sequence 'NoneType' object has no attribute 'open' data/midi/v8/midi_sources/130k_reddit/H/H/Have-A-Holly-Jolly-Christmas-2.mid\n",
      "Error converting midi to sequence 'NoneType' object has no attribute 'open' data/midi/v8/midi_sources/130k_reddit/H/H/hino_nac1.mid\n",
      "Error converting midi to sequence 'NoneType' object has no attribute 'open' data/midi/v8/midi_sources/130k_reddit/H/H/hannour.mid\n",
      "Error converting midi to sequence 'NoneType' object has no attribute 'open' data/midi/v8/midi_sources/130k_reddit/H/H/hard2say.mid\n",
      "Error converting midi to sequence 'NoneType' object has no attribute 'open' data/midi/v8/midi_sources/130k_reddit/H/H/handres.mid\n",
      "Error converting midi to sequence 'NoneType' object has no attribute 'open' data/midi/v8/midi_sources/130k_reddit/H/H/HaveYouEverReallyLovedAWoman.mid\n"
     ]
    },
    {
     "name": "stderr",
     "output_type": "stream",
     "text": [
      "midi: WARNING: Conversion error for <MidiEvent None, t=None, track=1, channel=None>: unknown midi event type: None; ignored.\n"
     ]
    },
    {
     "name": "stdout",
     "output_type": "stream",
     "text": [
      "Error converting midi to sequence 'NoneType' object has no attribute 'open' data/midi/v8/midi_sources/130k_reddit/H/H/How-Am-I-Supposed-To-Live-Without-You-2.mid\n",
      "Error converting midi to sequence 'NoneType' object has no attribute 'open' data/midi/v8/midi_sources/130k_reddit/H/H/hotelcal03.mid\n",
      "Error converting midi to sequence 'NoneType' object has no attribute 'open' data/midi/v8/midi_sources/130k_reddit/H/H/HurryLove.mid\n",
      "Error converting midi to sequence 'NoneType' object has no attribute 'open' data/midi/v8/midi_sources/130k_reddit/H/H/HAVYRSLF.MID\n",
      "Error converting midi to sequence 'NoneType' object has no attribute 'open' data/midi/v8/midi_sources/130k_reddit/H/H/Heidi-&-Bergvagabunden.mid\n",
      "Error converting midi to sequence 'NoneType' object has no attribute 'open' data/midi/v8/midi_sources/130k_reddit/H/H/h0818-.mid\n",
      "Error converting midi to sequence 'NoneType' object has no attribute 'open' data/midi/v8/midi_sources/130k_reddit/H/H/Hotstuff-3.mid\n",
      "Error converting midi to sequence 'NoneType' object has no attribute 'open' data/midi/v8/midi_sources/130k_reddit/H/H/HillSkul.mid\n",
      "Error converting midi to sequence 'NoneType' object has no attribute 'open' data/midi/v8/midi_sources/130k_reddit/H/H/heatnite.mid\n",
      "Error converting midi to sequence 'NoneType' object has no attribute 'open' data/midi/v8/midi_sources/130k_reddit/H/H/hotstuff2.mid\n",
      "Error converting midi to sequence 'NoneType' object has no attribute 'open' data/midi/v8/midi_sources/130k_reddit/H/H/Honky-Tonk-Woman-2.mid\n",
      "Error converting midi to sequence 'NoneType' object has no attribute 'open' data/midi/v8/midi_sources/130k_reddit/H/H/HOUSTON.All the man that I need.mid\n",
      "Error converting midi to sequence 'NoneType' object has no attribute 'open' data/midi/v8/midi_sources/130k_reddit/H/H/Huey_Lewis_-_Stuck_With_You.mid\n",
      "Error converting midi to sequence 'NoneType' object has no attribute 'open' data/midi/v8/midi_sources/130k_reddit/H/H/Hit-The-Road-Jack.mid\n",
      "Error converting midi to sequence 'NoneType' object has no attribute 'open' data/midi/v8/midi_sources/130k_reddit/H/H/halloween - the 7th guest.mid\n",
      "Error converting midi to sequence 'NoneType' object has no attribute 'open' data/midi/v8/midi_sources/130k_reddit/H/H/h1510.mid\n",
      "Error converting midi to sequence 'NoneType' object has no attribute 'open' data/midi/v8/midi_sources/130k_reddit/H/H/hardtosaysorry.mid\n",
      "Error converting midi to sequence 'NoneType' object has no attribute 'open' data/midi/v8/midi_sources/130k_reddit/H/H/HANSON.Man, from  Milwaukee.mid\n",
      "Error converting midi to sequence 'NoneType' object has no attribute 'open' data/midi/v8/midi_sources/130k_reddit/H/H/HealTheWorld2.mid\n",
      "Error converting midi to sequence 'NoneType' object has no attribute 'open' data/midi/v8/midi_sources/130k_reddit/I/I/impmarch2.mid\n",
      "Error converting midi to sequence 'NoneType' object has no attribute 'open' data/midi/v8/midi_sources/130k_reddit/I/I/Ik-Slaap-Vannacht-Wel-Op-De-Bank.mid\n"
     ]
    },
    {
     "name": "stderr",
     "output_type": "stream",
     "text": [
      "midi: WARNING: Conversion error for <MidiEvent None, t=None, track=11, channel=None>: unknown midi event type: None; ignored.\n",
      "midi: WARNING: Conversion error for <MidiEvent None, t=None, track=9, channel=None>: unknown midi event type: None; ignored.\n"
     ]
    },
    {
     "name": "stdout",
     "output_type": "stream",
     "text": [
      "Error converting midi to sequence 'NoneType' object has no attribute 'open' data/midi/v8/midi_sources/130k_reddit/I/I/I-Wanna-Wake-Up-With-You-3.mid\n",
      "Error converting midi to sequence 'NoneType' object has no attribute 'open' data/midi/v8/midi_sources/130k_reddit/I/I/I-Didn't-Know-What-Time-It-Was-1.mid\n"
     ]
    },
    {
     "name": "stderr",
     "output_type": "stream",
     "text": [
      "midi: WARNING: Conversion error for <MidiEvent None, t=None, track=8, channel=None>: unknown midi event type: None; ignored.\n",
      "midi: WARNING: Conversion error for <MidiEvent None, t=None, track=10, channel=None>: unknown midi event type: None; ignored.\n"
     ]
    },
    {
     "name": "stdout",
     "output_type": "stream",
     "text": [
      "Error converting midi to sequence 'NoneType' object has no attribute 'open' data/midi/v8/midi_sources/130k_reddit/I/I/ironman3.mid\n",
      "Error converting midi to sequence 'NoneType' object has no attribute 'open' data/midi/v8/midi_sources/130k_reddit/I/I/I'mSailing.mid\n",
      "Error converting midi to sequence 'NoneType' object has no attribute 'open' data/midi/v8/midi_sources/130k_reddit/I/I/InMyRoom-BeachBoys.mid\n",
      "Error converting midi to sequence 'NoneType' object has no attribute 'open' data/midi/v8/midi_sources/130k_reddit/I/I/InTooDeep.mid\n",
      "Error converting midi to sequence 'NoneType' object has no attribute 'open' data/midi/v8/midi_sources/130k_reddit/I/I/InMyRoom.mid\n",
      "Error converting midi to sequence 'NoneType' object has no attribute 'open' data/midi/v8/midi_sources/130k_reddit/I/I/I-Heard-It-Trough-The-Grapevine-2.mid\n",
      "Error converting midi to sequence 'NoneType' object has no attribute 'open' data/midi/v8/midi_sources/130k_reddit/I/I/Ich-Glaub-Dir-Jede-Luge-2.mid\n",
      "Error converting midi to sequence 'NoneType' object has no attribute 'open' data/midi/v8/midi_sources/130k_reddit/I/I/iloveu.MID\n"
     ]
    },
    {
     "name": "stderr",
     "output_type": "stream",
     "text": [
      "midi: WARNING: Conversion error for <MidiEvent None, t=None, track=0, channel=None>: unknown midi event type: None; ignored.\n"
     ]
    },
    {
     "name": "stdout",
     "output_type": "stream",
     "text": [
      "Error converting midi to sequence 'NoneType' object has no attribute 'open' data/midi/v8/midi_sources/130k_reddit/I/I/I-Don't-Wanna-Lose-You-1.mid\n",
      "Error converting midi to sequence 'NoneType' object has no attribute 'open' data/midi/v8/midi_sources/130k_reddit/I/I/In-The-Mood-3.mid\n",
      "Error converting midi to sequence 'NoneType' object has no attribute 'open' data/midi/v8/midi_sources/130k_reddit/I/I/IFIHADMW.MID\n",
      "Error converting midi to sequence 'NoneType' object has no attribute 'open' data/midi/v8/midi_sources/130k_reddit/I/I/indoraya.mid\n",
      "Error converting midi to sequence 'NoneType' object has no attribute 'open' data/midi/v8/midi_sources/130k_reddit/I/I/imlooking.mid\n",
      "Error converting midi to sequence 'NoneType' object has no attribute 'open' data/midi/v8/midi_sources/130k_reddit/I/I/If-You-Leave-Me-Now-2.mid\n",
      "Error converting midi to sequence 'NoneType' object has no attribute 'open' data/midi/v8/midi_sources/130k_reddit/I/I/iwillbowatyourfeet.mid\n",
      "Error converting midi to sequence 'NoneType' object has no attribute 'open' data/midi/v8/midi_sources/130k_reddit/I/I/InTheAirTonight.mid\n",
      "Error converting midi to sequence 'NoneType' object has no attribute 'open' data/midi/v8/midi_sources/130k_reddit/I/I/I-Concentrate-On-You.mid\n",
      "Error converting midi to sequence 'NoneType' object has no attribute 'open' data/midi/v8/midi_sources/130k_reddit/I/I/Italienisches-Hit-Medley.mid\n",
      "Error converting midi to sequence 'NoneType' object has no attribute 'open' data/midi/v8/midi_sources/130k_reddit/I/I/It's-So-Easy-2.mid\n",
      "Error converting midi to sequence 'NoneType' object has no attribute 'open' data/midi/v8/midi_sources/130k_reddit/I/I/itsabe.mid\n",
      "Error converting midi to sequence 'NoneType' object has no attribute 'open' data/midi/v8/midi_sources/130k_reddit/I/I/itkeepsrightonahurting.mid\n",
      "Error converting midi to sequence 'NoneType' object has no attribute 'open' data/midi/v8/midi_sources/130k_reddit/I/I/I-Walk-The-Line-2.mid\n",
      "Error converting midi to sequence 'NoneType' object has no attribute 'open' data/midi/v8/midi_sources/130k_reddit/I/I/ICan'tDance.mid\n"
     ]
    },
    {
     "name": "stderr",
     "output_type": "stream",
     "text": [
      "midi: WARNING: Conversion error for <MidiEvent None, t=None, track=6, channel=None>: unknown midi event type: None; ignored.\n"
     ]
    },
    {
     "name": "stdout",
     "output_type": "stream",
     "text": [
      "Error converting midi to sequence 'NoneType' object has no attribute 'open' data/midi/v8/midi_sources/130k_reddit/I/I/Incredible.mid\n",
      "Error converting midi to sequence 'NoneType' object has no attribute 'open' data/midi/v8/midi_sources/130k_reddit/I/I/I-Love-Rock-'N-Roll.mid\n",
      "Error converting midi to sequence 'NoneType' object has no attribute 'open' data/midi/v8/midi_sources/130k_reddit/I/I/I-Heard-The-Bells-On-Christmas-Day.mid\n",
      "Error converting midi to sequence 'NoneType' object has no attribute 'open' data/midi/v8/midi_sources/130k_reddit/I/I/I-Was-Kaiser-Bill's-Batman.mid\n",
      "Error converting midi to sequence 'NoneType' object has no attribute 'open' data/midi/v8/midi_sources/130k_reddit/I/I/if_you_love.mid\n",
      "Error converting midi to sequence 'NoneType' object has no attribute 'open' data/midi/v8/midi_sources/130k_reddit/I/I/If-Only-I've-Could-1.mid\n",
      "Error converting midi to sequence 'NoneType' object has no attribute 'open' data/midi/v8/midi_sources/130k_reddit/I/I/It'sAKindOfMagic2.mid\n",
      "Error converting midi to sequence 'NoneType' object has no attribute 'open' data/midi/v8/midi_sources/130k_reddit/I/I/I_STRING.MID\n",
      "Error converting midi to sequence 'NoneType' object has no attribute 'open' data/midi/v8/midi_sources/130k_reddit/I/I/If-You-Could-Read-My-Mind-2.mid\n",
      "Error converting midi to sequence 'NoneType' object has no attribute 'open' data/midi/v8/midi_sources/130k_reddit/I/I/It'sAHardLife.mid\n",
      "Error converting midi to sequence 'NoneType' object has no attribute 'open' data/midi/v8/midi_sources/130k_reddit/I/I/I-Don't-Like-Mondays.mid\n",
      "Error converting midi to sequence 'NoneType' object has no attribute 'open' data/midi/v8/midi_sources/130k_reddit/I/I/I-Have-Nothing-1.mid\n",
      "Error converting midi to sequence 'NoneType' object has no attribute 'open' data/midi/v8/midi_sources/130k_reddit/I/I/i've-Had-The-Time-Of-My-Life-1.mid\n",
      "Error converting midi to sequence 'NoneType' object has no attribute 'open' data/midi/v8/midi_sources/130k_reddit/I/I/It's-Beginning-To-Look-A-Lot-Like-Christmas-2.mid\n",
      "Error converting midi to sequence 'NoneType' object has no attribute 'open' data/midi/v8/midi_sources/130k_reddit/I/I/IWANBHAP.MID\n"
     ]
    },
    {
     "name": "stderr",
     "output_type": "stream",
     "text": [
      "midi: WARNING: Conversion error for <MidiEvent None, t=None, track=0, channel=None>: unknown midi event type: None; ignored.\n"
     ]
    },
    {
     "name": "stdout",
     "output_type": "stream",
     "text": [
      "Error converting midi to sequence 'NoneType' object has no attribute 'open' data/midi/v8/midi_sources/130k_reddit/I/I/In-The-Closet.mid\n",
      "Error converting midi to sequence 'NoneType' object has no attribute 'open' data/midi/v8/midi_sources/130k_reddit/I/I/i_need_thee-gbh.mid\n",
      "Error converting midi to sequence 'NoneType' object has no attribute 'open' data/midi/v8/midi_sources/130k_reddit/I/I/I-Can't-Stop-Loving-You-1.mid\n",
      "Error converting midi to sequence 'NoneType' object has no attribute 'open' data/midi/v8/midi_sources/130k_reddit/I/I/I-Just-Can't-Stop-Loving-You-2.mid\n",
      "Error converting midi to sequence 'NoneType' object has no attribute 'open' data/midi/v8/midi_sources/130k_reddit/I/I/I-Will-Always-Love-You-1.mid\n",
      "Error converting midi to sequence 'NoneType' object has no attribute 'open' data/midi/v8/midi_sources/130k_reddit/I/I/I-Can-See-Clearly-Now-1.mid\n",
      "Error converting midi to sequence 'NoneType' object has no attribute 'open' data/midi/v8/midi_sources/130k_reddit/I/I/icome.mid\n",
      "Error converting midi to sequence 'NoneType' object has no attribute 'open' data/midi/v8/midi_sources/130k_reddit/I/I/In-The-Summertime-2.mid\n"
     ]
    },
    {
     "name": "stderr",
     "output_type": "stream",
     "text": [
      "midi: WARNING: Conversion error for <MidiEvent None, t=None, track=0, channel=None>: unknown midi event type: None; ignored.\n"
     ]
    },
    {
     "name": "stdout",
     "output_type": "stream",
     "text": [
      "Error converting midi to sequence 'NoneType' object has no attribute 'open' data/midi/v8/midi_sources/130k_reddit/I/I/IHaveNothing.mid\n",
      "Error converting midi to sequence 'NoneType' object has no attribute 'open' data/midi/v8/midi_sources/130k_reddit/I/I/I'll-Be-Home-For-Christmas.mid\n",
      "Error converting midi to sequence 'NoneType' object has no attribute 'open' data/midi/v8/midi_sources/130k_reddit/I/I/I-Never-Felt-Like-This-Before.mid\n"
     ]
    },
    {
     "name": "stderr",
     "output_type": "stream",
     "text": [
      "midi: WARNING: Conversion error for <MidiEvent None, t=None, track=9, channel=None>: unknown midi event type: None; ignored.\n"
     ]
    },
    {
     "name": "stdout",
     "output_type": "stream",
     "text": [
      "Error converting midi to sequence 'NoneType' object has no attribute 'open' data/midi/v8/midi_sources/130k_reddit/I/I/in_the_air_tonight.mid\n",
      "Error converting midi to sequence 'NoneType' object has no attribute 'open' data/midi/v8/midi_sources/130k_reddit/I/I/Im-Fruhtau-Zu-Bergen.mid\n",
      "Error converting midi to sequence 'NoneType' object has no attribute 'open' data/midi/v8/midi_sources/130k_reddit/I/I/illneversmileagain.mid\n",
      "Error converting midi to sequence 'NoneType' object has no attribute 'open' data/midi/v8/midi_sources/130k_reddit/I/I/IHaveADream.mid\n",
      "Error converting midi to sequence 'NoneType' object has no attribute 'open' data/midi/v8/midi_sources/130k_reddit/I/I/It-Keeps-Raining-1.mid\n",
      "Error converting midi to sequence 'NoneType' object has no attribute 'open' data/midi/v8/midi_sources/130k_reddit/I/I/InTheAirTonight2.mid\n",
      "Error converting midi to sequence 'NoneType' object has no attribute 'open' data/midi/v8/midi_sources/130k_reddit/I/I/igy2_donald_fagen.mid\n",
      "Error converting midi to sequence 'NoneType' object has no attribute 'open' data/midi/v8/midi_sources/130k_reddit/I/I/IHaveADream4.mid\n",
      "Error converting midi to sequence 'NoneType' object has no attribute 'open' data/midi/v8/midi_sources/130k_reddit/I/I/I'mGoingSlightlyMad.mid\n",
      "Error converting midi to sequence 'NoneType' object has no attribute 'open' data/midi/v8/midi_sources/130k_reddit/I/I/I-Could-Have-Dance-All-Night-(From-'My-Fair-Lady').mid\n",
      "Error converting midi to sequence 'NoneType' object has no attribute 'open' data/midi/v8/midi_sources/130k_reddit/I/I/I'd-Like-To-Teach-The-World-To-Sing-1.mid\n",
      "Error converting midi to sequence 'NoneType' object has no attribute 'open' data/midi/v8/midi_sources/130k_reddit/I/I/Ise_pant.mid\n",
      "Error converting midi to sequence 'NoneType' object has no attribute 'open' data/midi/v8/midi_sources/130k_reddit/I/I/I-Will-Survive-2.mid\n",
      "Error converting midi to sequence 'NoneType' object has no attribute 'open' data/midi/v8/midi_sources/130k_reddit/I/I/Is-This-Love.mid\n",
      "Error converting midi to sequence 'NoneType' object has no attribute 'open' data/midi/v8/midi_sources/130k_reddit/I/I/insanity.mid\n",
      "Error converting midi to sequence 'NoneType' object has no attribute 'open' data/midi/v8/midi_sources/130k_reddit/I/I/Ishotthe.mid\n",
      "Error converting midi to sequence 'NoneType' object has no attribute 'open' data/midi/v8/midi_sources/130k_reddit/I/I/If-You-Love-Somebody-Set-Them-Free-3.mid\n",
      "Error converting midi to sequence 'NoneType' object has no attribute 'open' data/midi/v8/midi_sources/130k_reddit/I/I/invisibl2.mid\n",
      "Error converting midi to sequence 'NoneType' object has no attribute 'open' data/midi/v8/midi_sources/130k_reddit/I/I/Il'Anno-Ucciso-L'Uomo-Ragno-1.mid\n"
     ]
    },
    {
     "name": "stderr",
     "output_type": "stream",
     "text": [
      "midi: WARNING: Conversion error for <MidiEvent None, t=None, track=0, channel=None>: unknown midi event type: None; ignored.\n"
     ]
    },
    {
     "name": "stdout",
     "output_type": "stream",
     "text": [
      "Error converting midi to sequence 'NoneType' object has no attribute 'open' data/midi/v8/midi_sources/130k_reddit/I/I/I-Just-Can't-Help-Believing-3.mid\n",
      "Error converting midi to sequence 'NoneType' object has no attribute 'open' data/midi/v8/midi_sources/130k_reddit/I/I/isntshelovely.mid\n",
      "Error converting midi to sequence 'NoneType' object has no attribute 'open' data/midi/v8/midi_sources/130k_reddit/I/I/It-Might-As-Well-Be-Spring.mid\n",
      "Error converting midi to sequence 'NoneType' object has no attribute 'open' data/midi/v8/midi_sources/130k_reddit/I/I/I-Will-Always-Love-You-4.mid\n",
      "Error converting midi to sequence 'NoneType' object has no attribute 'open' data/midi/v8/midi_sources/130k_reddit/I/I/IWILLSUR.MID\n",
      "Error converting midi to sequence 'NoneType' object has no attribute 'open' data/midi/v8/midi_sources/130k_reddit/I/I/If-You-Love-Somebody-Set-Them-Free-1.mid\n",
      "Error converting midi to sequence 'NoneType' object has no attribute 'open' data/midi/v8/midi_sources/130k_reddit/I/I/iki.mid\n",
      "Error converting midi to sequence 'NoneType' object has no attribute 'open' data/midi/v8/midi_sources/130k_reddit/I/I/I-Get-Around-1.mid\n",
      "Error converting midi to sequence 'NoneType' object has no attribute 'open' data/midi/v8/midi_sources/130k_reddit/I/I/IRON BUTTERFLY.In a gadda da vida.mid\n",
      "Error converting midi to sequence 'NoneType' object has no attribute 'open' data/midi/v8/midi_sources/130k_reddit/I/I/IKBENZOB.MID\n",
      "Error converting midi to sequence 'NoneType' object has no attribute 'open' data/midi/v8/midi_sources/130k_reddit/I/I/i_wanna_be_with_you.mid\n",
      "Error converting midi to sequence 'NoneType' object has no attribute 'open' data/midi/v8/midi_sources/130k_reddit/I/I/Irgendwie-Irgendwo-Irgendwann-1.mid\n",
      "Error converting midi to sequence 'NoneType' object has no attribute 'open' data/midi/v8/midi_sources/130k_reddit/I/I/intro5.mid\n",
      "Error converting midi to sequence 'NoneType' object has no attribute 'open' data/midi/v8/midi_sources/130k_reddit/I/I/If-You-Love-Somebody-Set-Them-Free-4.mid\n",
      "Error converting midi to sequence 'NoneType' object has no attribute 'open' data/midi/v8/midi_sources/130k_reddit/I/I/I-Wanna-Dance-With-Somebody-1.mid\n",
      "Error converting midi to sequence 'NoneType' object has no attribute 'open' data/midi/v8/midi_sources/130k_reddit/I/I/ihavenothingatall.mid\n"
     ]
    },
    {
     "name": "stderr",
     "output_type": "stream",
     "text": [
      "midi: WARNING: Conversion error for <MidiEvent None, t=None, track=0, channel=None>: unknown midi event type: None; ignored.\n"
     ]
    },
    {
     "name": "stdout",
     "output_type": "stream",
     "text": [
      "Error converting midi to sequence 'NoneType' object has no attribute 'open' data/midi/v8/midi_sources/130k_reddit/I/I/india-an.mid\n",
      "Error converting midi to sequence 'NoneType' object has no attribute 'open' data/midi/v8/midi_sources/130k_reddit/I/I/I-Want-To-Be-Happy.mid\n",
      "Error converting midi to sequence 'NoneType' object has no attribute 'open' data/midi/v8/midi_sources/130k_reddit/I/I/It-Don't-Mean-A-Thing-2.mid\n",
      "Error converting midi to sequence 'NoneType' object has no attribute 'open' data/midi/v8/midi_sources/130k_reddit/I/I/Ich-Denk-An-Dich-2.mid\n",
      "Error converting midi to sequence 'NoneType' object has no attribute 'open' data/midi/v8/midi_sources/130k_reddit/I/I/I-Can't-Dance-1.mid\n",
      "Error converting midi to sequence 'NoneType' object has no attribute 'open' data/midi/v8/midi_sources/130k_reddit/I/I/iwladwoy.mid\n",
      "Error converting midi to sequence 'NoneType' object has no attribute 'open' data/midi/v8/midi_sources/130k_reddit/I/I/I've-Got-To-Get-A-Message.mid\n",
      "Error converting midi to sequence 'NoneType' object has no attribute 'open' data/midi/v8/midi_sources/130k_reddit/I/I/IGGY POP.The passenger.mid\n",
      "Error converting midi to sequence 'NoneType' object has no attribute 'open' data/midi/v8/midi_sources/130k_reddit/I/I/iwillsing-1.mid\n",
      "Error converting midi to sequence 'NoneType' object has no attribute 'open' data/midi/v8/midi_sources/130k_reddit/S/S/Star-Spangled-Banner.mid\n",
      "Error converting midi to sequence 'NoneType' object has no attribute 'open' data/midi/v8/midi_sources/130k_reddit/S/S/StarTrek JudgementsRitesIntro.mid\n",
      "Error converting midi to sequence 'NoneType' object has no attribute 'open' data/midi/v8/midi_sources/130k_reddit/I/I/inthesummertime2.mid\n",
      "Error converting midi to sequence 'NoneType' object has no attribute 'open' data/midi/v8/midi_sources/130k_reddit/S/S/sooml.mid\n",
      "Error converting midi to sequence 'NoneType' object has no attribute 'open' data/midi/v8/midi_sources/130k_reddit/I/I/Ich-Lieb'-Dich-(Egal-Wie-Das-Klingt).mid\n"
     ]
    },
    {
     "name": "stderr",
     "output_type": "stream",
     "text": [
      "midi: WARNING: Conversion error for <MidiEvent None, t=None, track=1, channel=None>: unknown midi event type: None; ignored.\n"
     ]
    },
    {
     "name": "stdout",
     "output_type": "stream",
     "text": [
      "Error converting midi to sequence 'NoneType' object has no attribute 'open' data/midi/v8/midi_sources/130k_reddit/S/S/startrek06.mid\n",
      "Error converting midi to sequence 'NoneType' object has no attribute 'open' data/midi/v8/midi_sources/130k_reddit/S/S/SomeoneForMe.mid\n",
      "Error converting midi to sequence 'NoneType' object has no attribute 'open' data/midi/v8/midi_sources/130k_reddit/S/S/Sting_-_Moon_Over_Bourbon_Street.mid\n",
      "Error converting midi to sequence 'NoneType' object has no attribute 'open' data/midi/v8/midi_sources/130k_reddit/I/I/ipan.mid\n",
      "Error converting midi to sequence 'NoneType' object has no attribute 'open' data/midi/v8/midi_sources/130k_reddit/I/I/I-Still-Haven't-Found-What-I'm-Looking-For-1.mid\n",
      "Error converting midi to sequence 'NoneType' object has no attribute 'open' data/midi/v8/midi_sources/130k_reddit/S/S/sailing03.mid\n",
      "Error converting midi to sequence 'NoneType' object has no attribute 'open' data/midi/v8/midi_sources/130k_reddit/S/S/silver-z.mid\n",
      "Error converting midi to sequence 'NoneType' object has no attribute 'open' data/midi/v8/midi_sources/130k_reddit/S/S/shaggy-strenght_of_a_woman.mid\n",
      "Error converting midi to sequence 'NoneType' object has no attribute 'open' data/midi/v8/midi_sources/130k_reddit/S/S/Shoop-Shoop-Song-1.mid\n",
      "Error converting midi to sequence 'NoneType' object has no attribute 'open' data/midi/v8/midi_sources/130k_reddit/S/S/SILVER CONVENTION.Fly Robin fly.mid\n",
      "Error converting midi to sequence 'NoneType' object has no attribute 'open' data/midi/v8/midi_sources/130k_reddit/S/S/SWTLORD.MID\n",
      "Error converting midi to sequence 'NoneType' object has no attribute 'open' data/midi/v8/midi_sources/130k_reddit/S/S/Spice Girls - Spice Up Your Life.mid\n",
      "Error converting midi to sequence 'NoneType' object has no attribute 'open' data/midi/v8/midi_sources/130k_reddit/S/S/Sting_if_i_ever_lose_my_faith_in_you.mid\n",
      "Error converting midi to sequence 'NoneType' object has no attribute 'open' data/midi/v8/midi_sources/130k_reddit/S/S/SuperTrooper2.mid\n",
      "Error converting midi to sequence 'NoneType' object has no attribute 'open' data/midi/v8/midi_sources/130k_reddit/S/S/STATUS QUO.Again again.mid\n",
      "Error converting midi to sequence 'NoneType' object has no attribute 'open' data/midi/v8/midi_sources/130k_reddit/S/S/Someone-To-Love.mid\n",
      "Error converting midi to sequence 'NoneType' object has no attribute 'open' data/midi/v8/midi_sources/130k_reddit/S/S/silent-8.mid\n",
      "Error converting midi to sequence 'NoneType' object has no attribute 'open' data/midi/v8/midi_sources/130k_reddit/S/S/stous_5.mid\n",
      "Error converting midi to sequence 'NoneType' object has no attribute 'open' data/midi/v8/midi_sources/130k_reddit/S/S/shoop03.mid\n",
      "Error converting midi to sequence 'NoneType' object has no attribute 'open' data/midi/v8/midi_sources/130k_reddit/S/S/SELECT2.MID\n",
      "Error converting midi to sequence 'NoneType' object has no attribute 'open' data/midi/v8/midi_sources/130k_reddit/S/S/singingintherain2.mid\n",
      "Error converting midi to sequence 'NoneType' object has no attribute 'open' data/midi/v8/midi_sources/130k_reddit/S/S/SLEDGE.Warm and tender love.mid\n",
      "Error converting midi to sequence 'NoneType' object has no attribute 'open' data/midi/v8/midi_sources/130k_reddit/S/S/Sinead_O'Connor_-_Nothing_Compares_To_You.mid\n",
      "Error converting midi to sequence 'NoneType' object has no attribute 'open' data/midi/v8/midi_sources/130k_reddit/S/S/SHESOUT.MID\n"
     ]
    },
    {
     "name": "stderr",
     "output_type": "stream",
     "text": [
      "midi: WARNING: Conversion error for <MidiEvent None, t=None, track=6, channel=None>: unknown midi event type: None; ignored.\n",
      "midi: WARNING: Conversion error for <MidiEvent None, t=None, track=7, channel=None>: unknown midi event type: None; ignored.\n"
     ]
    },
    {
     "name": "stdout",
     "output_type": "stream",
     "text": [
      "Error converting midi to sequence 'NoneType' object has no attribute 'open' data/midi/v8/midi_sources/130k_reddit/S/S/Skurvash.mid\n",
      "Error converting midi to sequence 'NoneType' object has no attribute 'open' data/midi/v8/midi_sources/130k_reddit/S/S/Santana_-_Love_Of_My_Life__Intricacy_20110416191505.mid\n"
     ]
    },
    {
     "name": "stderr",
     "output_type": "stream",
     "text": [
      "midi: WARNING: Conversion error for <MidiEvent None, t=None, track=0, channel=None>: unknown midi event type: None; ignored.\n"
     ]
    },
    {
     "name": "stdout",
     "output_type": "stream",
     "text": [
      "Error converting midi to sequence 'NoneType' object has no attribute 'open' data/midi/v8/midi_sources/130k_reddit/S/S/s_club_7-two_in_a_million.mid\n",
      "Error converting midi to sequence 'NoneType' object has no attribute 'open' data/midi/v8/midi_sources/130k_reddit/S/S/somewhereoutthere2.mid\n",
      "Error converting midi to sequence 'NoneType' object has no attribute 'open' data/midi/v8/midi_sources/130k_reddit/S/S/sting-moon_bourbon.mid\n",
      "Error converting midi to sequence 'NoneType' object has no attribute 'open' data/midi/v8/midi_sources/130k_reddit/S/S/SoLonely2.mid\n"
     ]
    },
    {
     "name": "stderr",
     "output_type": "stream",
     "text": [
      "midi: WARNING: Conversion error for <MidiEvent None, t=None, track=7, channel=None>: unknown midi event type: None; ignored.\n"
     ]
    },
    {
     "name": "stdout",
     "output_type": "stream",
     "text": [
      "Error converting midi to sequence 'NoneType' object has no attribute 'open' data/midi/v8/midi_sources/130k_reddit/S/S/SWEET.Coco.MID\n",
      "Error converting midi to sequence 'NoneType' object has no attribute 'open' data/midi/v8/midi_sources/130k_reddit/S/S/Skank__Amor_Inabalado.mid\n",
      "Error converting midi to sequence 'NoneType' object has no attribute 'open' data/midi/v8/midi_sources/130k_reddit/S/S/STING.In too deep.mid\n",
      "Error converting midi to sequence 'NoneType' object has no attribute 'open' data/midi/v8/midi_sources/130k_reddit/S/S/STING_02.MID\n",
      "Error converting midi to sequence 'NoneType' object has no attribute 'open' data/midi/v8/midi_sources/130k_reddit/S/S/Sting_if_you_love_somebody_set_them_free.mid\n",
      "Error converting midi to sequence 'NoneType' object has no attribute 'open' data/midi/v8/midi_sources/130k_reddit/S/S/starshow.mid\n",
      "Error converting midi to sequence 'NoneType' object has no attribute 'open' data/midi/v8/midi_sources/130k_reddit/S/S/Schurzenjagerzeit-1.mid\n",
      "Error converting midi to sequence 'NoneType' object has no attribute 'open' data/midi/v8/midi_sources/130k_reddit/S/S/Slamet_-_Alamat_Palsu_-_Ayu_Ting_Ting.mid\n",
      "Error converting midi to sequence 'NoneType' object has no attribute 'open' data/midi/v8/midi_sources/130k_reddit/S/S/Saving-All-My-Love-For-You-1.mid\n",
      "Error converting midi to sequence 'NoneType' object has no attribute 'open' data/midi/v8/midi_sources/130k_reddit/S/S/Schenk-Mir-Diese-Eine-Nacht-3.mid\n",
      "Error converting midi to sequence 'NoneType' object has no attribute 'open' data/midi/v8/midi_sources/130k_reddit/S/S/Sambadeumanotaso.mid\n",
      "Error converting midi to sequence 'NoneType' object has no attribute 'open' data/midi/v8/midi_sources/130k_reddit/S/S/Stars-On-45-(Beatles-Medley)-2.mid\n",
      "Error converting midi to sequence 'NoneType' object has no attribute 'open' data/midi/v8/midi_sources/130k_reddit/S/S/Suesses-Blut-1.mid\n"
     ]
    },
    {
     "name": "stderr",
     "output_type": "stream",
     "text": [
      "midi: WARNING: Conversion error for <MidiEvent None, t=None, track=9, channel=None>: unknown midi event type: None; ignored.\n",
      "midi: WARNING: Conversion error for <MidiEvent None, t=None, track=6, channel=None>: unknown midi event type: None; ignored.\n"
     ]
    },
    {
     "name": "stdout",
     "output_type": "stream",
     "text": [
      "Error converting midi to sequence 'NoneType' object has no attribute 'open' data/midi/v8/midi_sources/130k_reddit/S/S/simon_and_garfunkel-mrs_robinson.mid\n",
      "Error converting midi to sequence 'NoneType' object has no attribute 'open' data/midi/v8/midi_sources/130k_reddit/S/S/shr_suaratakbir.mid\n",
      "Error converting midi to sequence 'NoneType' object has no attribute 'open' data/midi/v8/midi_sources/130k_reddit/S/S/Sting_-_If_I_Ever_Lose_My_Faith_in_You.mid\n"
     ]
    },
    {
     "name": "stderr",
     "output_type": "stream",
     "text": [
      "midi: WARNING: Conversion error for <MidiEvent None, t=None, track=6, channel=None>: unknown midi event type: None; ignored.\n"
     ]
    },
    {
     "name": "stdout",
     "output_type": "stream",
     "text": [
      "Error converting midi to sequence 'NoneType' object has no attribute 'open' data/midi/v8/midi_sources/130k_reddit/S/S/Straight-To-My-Heart.mid\n",
      "Error converting midi to sequence 'NoneType' object has no attribute 'open' data/midi/v8/midi_sources/130k_reddit/S/S/Sltnswng.mid\n",
      "Error converting midi to sequence 'NoneType' object has no attribute 'open' data/midi/v8/midi_sources/130k_reddit/S/S/Silence-Is-Golden.mid\n",
      "Error converting midi to sequence 'NoneType' object has no attribute 'open' data/midi/v8/midi_sources/130k_reddit/S/S/SOUTHOFB.MID\n",
      "Error converting midi to sequence 'NoneType' object has no attribute 'open' data/midi/v8/midi_sources/130k_reddit/S/S/spacey.mid\n",
      "Error converting midi to sequence 'NoneType' object has no attribute 'open' data/midi/v8/midi_sources/130k_reddit/S/S/Stars-On-45-(Beatles-Medley)-1.mid\n",
      "Error converting midi to sequence 'NoneType' object has no attribute 'open' data/midi/v8/midi_sources/130k_reddit/S/S/Stars-Of-45-(The-Caribean-Disco-Show-(Medley).mid\n",
      "Error converting midi to sequence 'NoneType' object has no attribute 'open' data/midi/v8/midi_sources/130k_reddit/S/S/SomePeople.mid\n",
      "Error converting midi to sequence 'NoneType' object has no attribute 'open' data/midi/v8/midi_sources/130k_reddit/S/S/Somewhere-(From-'The-West-Side-Story')-2.mid\n",
      "Error converting midi to sequence 'NoneType' object has no attribute 'open' data/midi/v8/midi_sources/130k_reddit/S/S/See-You-Later-Aligator--Shake-Rattle-And-Roll-(Rock-'n-Roll).mid\n",
      "Error converting midi to sequence 'NoneType' object has no attribute 'open' data/midi/v8/midi_sources/130k_reddit/S/S/SANDRA.In the heat of the night.mid\n",
      "Error converting midi to sequence 'NoneType' object has no attribute 'open' data/midi/v8/midi_sources/130k_reddit/S/S/Sommerwind-Und-Julia-2.mid\n",
      "Error converting midi to sequence 'NoneType' object has no attribute 'open' data/midi/v8/midi_sources/130k_reddit/S/S/stairway-7.mid\n"
     ]
    },
    {
     "name": "stderr",
     "output_type": "stream",
     "text": [
      "midi: WARNING: Conversion error for <MidiEvent None, t=None, track=10, channel=None>: unknown midi event type: None; ignored.\n"
     ]
    },
    {
     "name": "stdout",
     "output_type": "stream",
     "text": [
      "Error converting midi to sequence 'NoneType' object has no attribute 'open' data/midi/v8/midi_sources/130k_reddit/S/S/Shake-Rattle-And-Roll-2.mid\n",
      "Error converting midi to sequence 'NoneType' object has no attribute 'open' data/midi/v8/midi_sources/130k_reddit/S/S/Seven-Seas-Of-Rhye.mid\n",
      "Error converting midi to sequence 'NoneType' object has no attribute 'open' data/midi/v8/midi_sources/130k_reddit/S/S/sara_bareilles-bottle_it_up.mid\n",
      "Error converting midi to sequence 'NoneType' object has no attribute 'open' data/midi/v8/midi_sources/130k_reddit/S/S/S1002_04.MID\n",
      "Error converting midi to sequence 'NoneType' object has no attribute 'open' data/midi/v8/midi_sources/130k_reddit/S/S/starless2.mid\n",
      "Error converting midi to sequence 'NoneType' object has no attribute 'open' data/midi/v8/midi_sources/130k_reddit/S/S/SANTACLS.MID\n",
      "Error converting midi to sequence 'NoneType' object has no attribute 'open' data/midi/v8/midi_sources/130k_reddit/S/S/SINATRA.That's life.mid\n",
      "Error converting midi to sequence 'NoneType' object has no attribute 'open' data/midi/v8/midi_sources/130k_reddit/S/S/sash__ecuador__pulse.mid\n",
      "Error converting midi to sequence 'NoneType' object has no attribute 'open' data/midi/v8/midi_sources/130k_reddit/S/S/SweetCaroline2.mid\n",
      "Error converting midi to sequence 'NoneType' object has no attribute 'open' data/midi/v8/midi_sources/130k_reddit/S/S/SieIstWeg.mid\n",
      "Error converting midi to sequence 'NoneType' object has no attribute 'open' data/midi/v8/midi_sources/130k_reddit/S/S/SultansOfSwing.mid\n",
      "Error converting midi to sequence 'NoneType' object has no attribute 'open' data/midi/v8/midi_sources/130k_reddit/S/S/Sugar Ray - Every Morning.mid\n",
      "Error converting midi to sequence 'NoneType' object has no attribute 'open' data/midi/v8/midi_sources/130k_reddit/S/S/Sweet-Dreams-1.mid\n",
      "Error converting midi to sequence 'NoneType' object has no attribute 'open' data/midi/v8/midi_sources/130k_reddit/S/S/SANTO-JOHNNY.Maria Elena.mid\n",
      "Error converting midi to sequence 'NoneType' object has no attribute 'open' data/midi/v8/midi_sources/130k_reddit/S/S/Southern-Peace.mid\n",
      "Error converting midi to sequence 'NoneType' object has no attribute 'open' data/midi/v8/midi_sources/130k_reddit/S/S/sisqo.mid\n"
     ]
    },
    {
     "name": "stderr",
     "output_type": "stream",
     "text": [
      "midi: WARNING: Conversion error for <MidiEvent None, t=None, track=0, channel=None>: unknown midi event type: None; ignored.\n"
     ]
    },
    {
     "name": "stdout",
     "output_type": "stream",
     "text": [
      "Error converting midi to sequence 'NoneType' object has no attribute 'open' data/midi/v8/midi_sources/130k_reddit/S/S/STATUS QUO.The wanderer.mid\n",
      "Error converting midi to sequence 'NoneType' object has no attribute 'open' data/midi/v8/midi_sources/130k_reddit/S/S/Schurzenjagerzeit-2.mid\n",
      "Error converting midi to sequence 'NoneType' object has no attribute 'open' data/midi/v8/midi_sources/130k_reddit/S/S/streets2.mid\n",
      "Error converting midi to sequence 'NoneType' object has no attribute 'open' data/midi/v8/midi_sources/130k_reddit/S/S/Sylvester_-_You_Make_Me_Feel_Mighty_Real.mid\n",
      "Error converting midi to sequence 'NoneType' object has no attribute 'open' data/midi/v8/midi_sources/130k_reddit/S/S/SANTANA.Moonflower.mid\n"
     ]
    },
    {
     "name": "stderr",
     "output_type": "stream",
     "text": [
      "midi: WARNING: Conversion error for <MidiEvent None, t=None, track=9, channel=None>: unknown midi event type: None; ignored.\n"
     ]
    },
    {
     "name": "stdout",
     "output_type": "stream",
     "text": [
      "Error converting midi to sequence 'NoneType' object has no attribute 'open' data/midi/v8/midi_sources/130k_reddit/S/S/snazzjazz.mid\n",
      "Error converting midi to sequence 'NoneType' object has no attribute 'open' data/midi/v8/midi_sources/130k_reddit/S/S/Sinead O'Connor - Nothing Compares To You.mid\n",
      "Error converting midi to sequence 'NoneType' object has no attribute 'open' data/midi/v8/midi_sources/130k_reddit/S/S/SINATRA.My kind of town.mid\n",
      "Error converting midi to sequence 'NoneType' object has no attribute 'open' data/midi/v8/midi_sources/130k_reddit/S/S/SANTO-JOHNNY.Lara's theme.mid\n",
      "Error converting midi to sequence 'NoneType' object has no attribute 'open' data/midi/v8/midi_sources/130k_reddit/S/S/sect5r.mid\n",
      "Error converting midi to sequence 'NoneType' object has no attribute 'open' data/midi/v8/midi_sources/130k_reddit/S/S/SuperTrooper.mid\n",
      "Error converting midi to sequence 'NoneType' object has no attribute 'open' data/midi/v8/midi_sources/130k_reddit/S/S/STING_06.MID\n",
      "Error converting midi to sequence 'NoneType' object has no attribute 'open' data/midi/v8/midi_sources/130k_reddit/S/S/Summertime-&-Strangers-In-The-Night.mid\n",
      "Error converting midi to sequence 'NoneType' object has no attribute 'open' data/midi/v8/midi_sources/130k_reddit/S/S/sandali.mid\n",
      "Error converting midi to sequence 'NoneType' object has no attribute 'open' data/midi/v8/midi_sources/130k_reddit/S/S/stned.mid\n",
      "Error converting midi to sequence 'NoneType' object has no attribute 'open' data/midi/v8/midi_sources/130k_reddit/S/S/Sailor-Stars.mid\n",
      "Error converting midi to sequence 'NoneType' object has no attribute 'open' data/midi/v8/midi_sources/130k_reddit/S/S/Safely-Grace.mid\n",
      "Error converting midi to sequence 'NoneType' object has no attribute 'open' data/midi/v8/midi_sources/130k_reddit/S/S/scooter__shake_that__djcrayzee.mid\n"
     ]
    },
    {
     "name": "stderr",
     "output_type": "stream",
     "text": [
      "midi: WARNING: Conversion error for <MidiEvent None, t=None, track=9, channel=None>: unknown midi event type: None; ignored.\n"
     ]
    },
    {
     "name": "stdout",
     "output_type": "stream",
     "text": [
      "Error converting midi to sequence 'NoneType' object has no attribute 'open' data/midi/v8/midi_sources/130k_reddit/S/S/Satellite2.mid\n",
      "Error converting midi to sequence 'NoneType' object has no attribute 'open' data/midi/v8/midi_sources/130k_reddit/S/S/sting-be_together.mid\n",
      "Error converting midi to sequence 'NoneType' object has no attribute 'open' data/midi/v8/midi_sources/130k_reddit/S/S/sorpresa.mid\n"
     ]
    },
    {
     "name": "stderr",
     "output_type": "stream",
     "text": [
      "midi: WARNING: Conversion error for <MidiEvent None, t=None, track=0, channel=None>: unknown midi event type: None; ignored.\n"
     ]
    },
    {
     "name": "stdout",
     "output_type": "stream",
     "text": [
      "Error converting midi to sequence 'NoneType' object has no attribute 'open' data/midi/v8/midi_sources/130k_reddit/S/S/stfc4.mid\n",
      "Error converting midi to sequence 'NoneType' object has no attribute 'open' data/midi/v8/midi_sources/130k_reddit/S/S/sum_41-fat_lips.mid\n",
      "Error converting midi to sequence 'NoneType' object has no attribute 'open' data/midi/v8/midi_sources/130k_reddit/S/S/Something-In-Common.mid\n",
      "Error converting midi to sequence 'NoneType' object has no attribute 'open' data/midi/v8/midi_sources/130k_reddit/S/S/sui.mid\n",
      "Error converting midi to sequence 'NoneType' object has no attribute 'open' data/midi/v8/midi_sources/130k_reddit/S/S/SMOKIE.Lay back in the arms of someone.mid\n",
      "Error converting midi to sequence 'NoneType' object has no attribute 'open' data/midi/v8/midi_sources/130k_reddit/S/S/Scooter - Shake That.mid\n",
      "Error converting midi to sequence 'NoneType' object has no attribute 'open' data/midi/v8/midi_sources/130k_reddit/S/S/Sting_-_If_You_Love_Somebody_Set_Them_Free.mid\n",
      "Error converting midi to sequence 'NoneType' object has no attribute 'open' data/midi/v8/midi_sources/130k_reddit/S/S/Supertrouper-2.mid\n",
      "Error converting midi to sequence 'NoneType' object has no attribute 'open' data/midi/v8/midi_sources/130k_reddit/S/S/Stuck-With-You-3.mid\n",
      "Error converting midi to sequence 'NoneType' object has no attribute 'open' data/midi/v8/midi_sources/130k_reddit/S/S/SWEETGEO.MID\n",
      "Error converting midi to sequence 'NoneType' object has no attribute 'open' data/midi/v8/midi_sources/130k_reddit/S/S/STING.Straight to my heart.mid\n",
      "Error converting midi to sequence 'NoneType' object has no attribute 'open' data/midi/v8/midi_sources/130k_reddit/S/S/Slapbass-Demo.mid\n",
      "Error converting midi to sequence 'NoneType' object has no attribute 'open' data/midi/v8/midi_sources/130k_reddit/S/S/Sussudio2.mid\n",
      "Error converting midi to sequence 'NoneType' object has no attribute 'open' data/midi/v8/midi_sources/130k_reddit/S/S/SACRIFIC.MID\n",
      "Error converting midi to sequence 'NoneType' object has no attribute 'open' data/midi/v8/midi_sources/130k_reddit/S/S/SEREN.MID\n"
     ]
    },
    {
     "name": "stderr",
     "output_type": "stream",
     "text": [
      "midi: WARNING: Conversion error for <MidiEvent None, t=None, track=0, channel=None>: unknown midi event type: None; ignored.\n"
     ]
    },
    {
     "name": "stdout",
     "output_type": "stream",
     "text": [
      "Error converting midi to sequence 'NoneType' object has no attribute 'open' data/midi/v8/midi_sources/130k_reddit/S/S/Sting - The Soul Cages.mid\n",
      "Error converting midi to sequence 'NoneType' object has no attribute 'open' data/midi/v8/midi_sources/130k_reddit/S/S/SADSONGS.MID\n",
      "Error converting midi to sequence 'NoneType' object has no attribute 'open' data/midi/v8/midi_sources/130k_reddit/S/S/sonhador.mid\n",
      "Error converting midi to sequence 'NoneType' object has no attribute 'open' data/midi/v8/midi_sources/130k_reddit/S/S/somep.mid\n",
      "Error converting midi to sequence 'NoneType' object has no attribute 'open' data/midi/v8/midi_sources/130k_reddit/S/S/Seemann's-Medley-2.mid\n",
      "Error converting midi to sequence 'NoneType' object has no attribute 'open' data/midi/v8/midi_sources/130k_reddit/S/S/Sag-Mir-Wo-Die-Blumen-Sind.mid\n",
      "Error converting midi to sequence 'NoneType' object has no attribute 'open' data/midi/v8/midi_sources/130k_reddit/S/S/SOLID HARMONIE.Got 2 have ya.mid\n",
      "Error converting midi to sequence 'NoneType' object has no attribute 'open' data/midi/v8/midi_sources/130k_reddit/S/S/Shesnott.mid\n",
      "Error converting midi to sequence 'NoneType' object has no attribute 'open' data/midi/v8/midi_sources/130k_reddit/S/S/STING.Second marriage.mid\n",
      "Error converting midi to sequence 'NoneType' object has no attribute 'open' data/midi/v8/midi_sources/130k_reddit/S/S/Sting - Moon Over Bourbon Street.mid\n",
      "Error converting midi to sequence 'NoneType' object has no attribute 'open' data/midi/v8/midi_sources/130k_reddit/S/S/sacred2.mid\n",
      "Error converting midi to sequence 'NoneType' object has no attribute 'open' data/midi/v8/midi_sources/130k_reddit/S/S/Supertrp.mid\n",
      "Error converting midi to sequence 'NoneType' object has no attribute 'open' data/midi/v8/midi_sources/130k_reddit/S/S/STATUS QUO.Raining in my heart.mid\n",
      "Error converting midi to sequence 'NoneType' object has no attribute 'open' data/midi/v8/midi_sources/130k_reddit/S/S/SexualHealing.mid\n",
      "Error converting midi to sequence 'NoneType' object has no attribute 'open' data/midi/v8/midi_sources/130k_reddit/S/S/shakira-objection.mid\n",
      "Error converting midi to sequence 'NoneType' object has no attribute 'open' data/midi/v8/midi_sources/130k_reddit/S/S/SOMEENCH.MID\n",
      "Error converting midi to sequence 'NoneType' object has no attribute 'open' data/midi/v8/midi_sources/130k_reddit/S/S/summrtm3.mid\n",
      "Error converting midi to sequence 'NoneType' object has no attribute 'open' data/midi/v8/midi_sources/130k_reddit/S/S/STING.Consider me gone.mid\n",
      "Error converting midi to sequence 'NoneType' object has no attribute 'open' data/midi/v8/midi_sources/130k_reddit/S/S/Spice_Girls_-_Too_Much.mid\n",
      "Error converting midi to sequence 'NoneType' object has no attribute 'open' data/midi/v8/midi_sources/130k_reddit/S/S/Sinead_Oconnor_Nothing_Compares_To_You.mid\n",
      "Error converting midi to sequence 'NoneType' object has no attribute 'open' data/midi/v8/midi_sources/130k_reddit/S/S/senditondown.mid\n",
      "Error converting midi to sequence 'NoneType' object has no attribute 'open' data/midi/v8/midi_sources/130k_reddit/S/S/sketboot.mid\n",
      "Error converting midi to sequence 'NoneType' object has no attribute 'open' data/midi/v8/midi_sources/130k_reddit/S/S/Santa-Maria-Goodbye-3.mid\n",
      "Error converting midi to sequence 'NoneType' object has no attribute 'open' data/midi/v8/midi_sources/130k_reddit/S/S/sect2r.mid\n",
      "Error converting midi to sequence 'NoneType' object has no attribute 'open' data/midi/v8/midi_sources/130k_reddit/S/S/SANTO-JOHNNY.The shadows of your smile.mid\n",
      "Error converting midi to sequence 'NoneType' object has no attribute 'open' data/midi/v8/midi_sources/130k_reddit/S/S/Stranger-In-Moscow.mid\n",
      "Error converting midi to sequence 'NoneType' object has no attribute 'open' data/midi/v8/midi_sources/130k_reddit/S/S/SoEmotional.mid\n",
      "Error converting midi to sequence 'NoneType' object has no attribute 'open' data/midi/v8/midi_sources/130k_reddit/S/S/stardust06.mid\n",
      "Error converting midi to sequence 'NoneType' object has no attribute 'open' data/midi/v8/midi_sources/130k_reddit/S/S/Sleigh-Ride-2.mid\n",
      "Error converting midi to sequence 'NoneType' object has no attribute 'open' data/midi/v8/midi_sources/130k_reddit/S/S/Somebody-To-Love-3.mid\n",
      "Error converting midi to sequence 'NoneType' object has no attribute 'open' data/midi/v8/midi_sources/130k_reddit/S/S/Santana - Love Of My Life.mid\n",
      "Error converting midi to sequence 'NoneType' object has no attribute 'open' data/midi/v8/midi_sources/130k_reddit/S/S/Some-People-1.mid\n"
     ]
    },
    {
     "name": "stderr",
     "output_type": "stream",
     "text": [
      "midi: WARNING: Conversion error for <MidiEvent None, t=None, track=0, channel=None>: unknown midi event type: None; ignored.\n",
      "midi: WARNING: Conversion error for <MidiEvent None, t=None, track=0, channel=None>: unknown midi event type: None; ignored.\n"
     ]
    },
    {
     "name": "stdout",
     "output_type": "stream",
     "text": [
      "Error converting midi to sequence 'NoneType' object has no attribute 'open' data/midi/v8/midi_sources/130k_reddit/S/S/sailing3.mid\n",
      "Error converting midi to sequence 'NoneType' object has no attribute 'open' data/midi/v8/midi_sources/130k_reddit/S/S/STATUS QUO.What you're proposin'.MID\n",
      "Error converting midi to sequence 'NoneType' object has no attribute 'open' data/midi/v8/midi_sources/130k_reddit/S/S/Strange-Brew.mid\n",
      "Error converting midi to sequence 'NoneType' object has no attribute 'open' data/midi/v8/midi_sources/130k_reddit/S/S/SHINEON.MID\n",
      "Error converting midi to sequence 'NoneType' object has no attribute 'open' data/midi/v8/midi_sources/130k_reddit/S/S/sting-soul_cages.mid\n",
      "Error converting midi to sequence 'NoneType' object has no attribute 'open' data/midi/v8/midi_sources/130k_reddit/S/S/SHAW.E ti avro'.mid\n",
      "Error converting midi to sequence 'NoneType' object has no attribute 'open' data/midi/v8/midi_sources/130k_reddit/S/S/SomePeople2.mid\n",
      "Error converting midi to sequence 'NoneType' object has no attribute 'open' data/midi/v8/midi_sources/130k_reddit/S/S/Sie-Ist-Weg-1.mid\n",
      "Error converting midi to sequence 'NoneType' object has no attribute 'open' data/midi/v8/midi_sources/130k_reddit/S/S/Schutzenliesl-2.mid\n",
      "Error converting midi to sequence 'NoneType' object has no attribute 'open' data/midi/v8/midi_sources/130k_reddit/S/S/SAVAGE GARDEN.To the moon and back K.mid\n",
      "Error converting midi to sequence 'NoneType' object has no attribute 'open' data/midi/v8/midi_sources/130k_reddit/S/S/Sailing-3.mid\n",
      "Error converting midi to sequence 'NoneType' object has no attribute 'open' data/midi/v8/midi_sources/130k_reddit/S/S/STRANGEP.MID\n",
      "Error converting midi to sequence 'NoneType' object has no attribute 'open' data/midi/v8/midi_sources/130k_reddit/S/S/Secret-Marriage.mid\n",
      "Error converting midi to sequence 'NoneType' object has no attribute 'open' data/midi/v8/midi_sources/130k_reddit/S/S/So-Nimm-Denn-Meine-Hande-(Kirchenlied).mid\n",
      "Error converting midi to sequence 'NoneType' object has no attribute 'open' data/midi/v8/midi_sources/130k_reddit/S/S/Symphony-Nr-40.mid\n",
      "Error converting midi to sequence 'NoneType' object has no attribute 'open' data/midi/v8/midi_sources/130k_reddit/S/S/She's-Out-Of-My-Life-2.mid\n",
      "Error converting midi to sequence 'NoneType' object has no attribute 'open' data/midi/v8/midi_sources/130k_reddit/S/S/Sunday-Bloody-Sunday-2.mid\n",
      "Error converting midi to sequence 'NoneType' object has no attribute 'open' data/midi/v8/midi_sources/130k_reddit/S/S/santana-adouma.mid\n",
      "Error converting midi to sequence 'NoneType' object has no attribute 'open' data/midi/v8/midi_sources/130k_reddit/S/S/Shananana-1.mid\n",
      "Error converting midi to sequence 'NoneType' object has no attribute 'open' data/midi/v8/midi_sources/130k_reddit/S/S/SweetHarmony.mid\n"
     ]
    },
    {
     "name": "stderr",
     "output_type": "stream",
     "text": [
      "midi: WARNING: Conversion error for <MidiEvent None, t=None, track=0, channel=None>: unknown midi event type: None; ignored.\n"
     ]
    },
    {
     "name": "stdout",
     "output_type": "stream",
     "text": [
      "Error converting midi to sequence 'NoneType' object has no attribute 'open' data/midi/v8/midi_sources/130k_reddit/S/S/senzapa.mid\n",
      "Error converting midi to sequence 'NoneType' object has no attribute 'open' data/midi/v8/midi_sources/130k_reddit/S/S/Sting_Moon_over_Bourbon_Street.mid\n",
      "Error converting midi to sequence 'NoneType' object has no attribute 'open' data/midi/v8/midi_sources/130k_reddit/S/S/setahuntakjumpasesaadtaklupazamzam.mid\n",
      "Error converting midi to sequence 'NoneType' object has no attribute 'open' data/midi/v8/midi_sources/130k_reddit/S/S/Sierra-Madre-1.mid\n",
      "Error converting midi to sequence 'NoneType' object has no attribute 'open' data/midi/v8/midi_sources/130k_reddit/S/S/Sommer-Sonne-Cabrio-2.mid\n",
      "Error converting midi to sequence 'NoneType' object has no attribute 'open' data/midi/v8/midi_sources/130k_reddit/S/S/Smoke-Gets-In-Your-Eyes-(From-'Roberta').mid\n"
     ]
    },
    {
     "name": "stderr",
     "output_type": "stream",
     "text": [
      "midi: WARNING: Conversion error for <MidiEvent None, t=None, track=0, channel=None>: unknown midi event type: None; ignored.\n"
     ]
    },
    {
     "name": "stdout",
     "output_type": "stream",
     "text": [
      "Error converting midi to sequence 'NoneType' object has no attribute 'open' data/midi/v8/midi_sources/130k_reddit/S/S/senowars.mid\n",
      "Error converting midi to sequence 'NoneType' object has no attribute 'open' data/midi/v8/midi_sources/130k_reddit/S/S/Schatten-Uber'm-Rosenhof.mid\n",
      "Error converting midi to sequence 'NoneType' object has no attribute 'open' data/midi/v8/midi_sources/130k_reddit/S/S/SCATMAN.MID\n",
      "Error converting midi to sequence 'NoneType' object has no attribute 'open' data/midi/v8/midi_sources/130k_reddit/S/S/smokin2.mid\n",
      "Error converting midi to sequence 'NoneType' object has no attribute 'open' data/midi/v8/midi_sources/130k_reddit/S/S/strke241.mid\n",
      "Error converting midi to sequence 'NoneType' object has no attribute 'open' data/midi/v8/midi_sources/130k_reddit/S/S/Sheena_Easton_-_U_Got_the_Look.mid\n",
      "Error converting midi to sequence 'NoneType' object has no attribute 'open' data/midi/v8/midi_sources/130k_reddit/S/S/STARTRK.MID\n",
      "Error converting midi to sequence 'NoneType' object has no attribute 'open' data/midi/v8/midi_sources/130k_reddit/S/S/SOMEWARE.MID\n",
      "Error converting midi to sequence 'NoneType' object has no attribute 'open' data/midi/v8/midi_sources/130k_reddit/S/S/startrek09.mid\n",
      "Error converting midi to sequence 'NoneType' object has no attribute 'open' data/midi/v8/midi_sources/130k_reddit/S/S/S.BUTTERFLY.Rain rain rain.MID\n",
      "Error converting midi to sequence 'NoneType' object has no attribute 'open' data/midi/v8/midi_sources/130k_reddit/S/S/sombra.mid\n",
      "Error converting midi to sequence 'NoneType' object has no attribute 'open' data/midi/v8/midi_sources/130k_reddit/S/S/Strangers-In-The-Night-1.mid\n",
      "Error converting midi to sequence 'NoneType' object has no attribute 'open' data/midi/v8/midi_sources/130k_reddit/S/S/StKittsNevis.mid\n",
      "Error converting midi to sequence 'NoneType' object has no attribute 'open' data/midi/v8/midi_sources/130k_reddit/S/S/So-Lonely.mid\n",
      "Error converting midi to sequence 'NoneType' object has no attribute 'open' data/midi/v8/midi_sources/130k_reddit/S/S/strangefeelings.mid\n",
      "Error converting midi to sequence 'NoneType' object has no attribute 'open' data/midi/v8/midi_sources/130k_reddit/S/S/stoy_tho.mid\n",
      "Error converting midi to sequence 'NoneType' object has no attribute 'open' data/midi/v8/midi_sources/130k_reddit/S/S/Saxophone-Medley-(Medley).mid\n",
      "Error converting midi to sequence 'NoneType' object has no attribute 'open' data/midi/v8/midi_sources/130k_reddit/S/S/SANTANA.El farol K.mid\n",
      "Error converting midi to sequence 'NoneType' object has no attribute 'open' data/midi/v8/midi_sources/130k_reddit/S/S/SANTANA.Aqua marine.mid\n"
     ]
    },
    {
     "name": "stderr",
     "output_type": "stream",
     "text": [
      "midi: WARNING: Conversion error for <MidiEvent None, t=None, track=4, channel=None>: unknown midi event type: None; ignored.\n"
     ]
    },
    {
     "name": "stdout",
     "output_type": "stream",
     "text": [
      "Error converting midi to sequence 'NoneType' object has no attribute 'open' data/midi/v8/midi_sources/130k_reddit/W/W/when_doves_cry.mid\n",
      "Error converting midi to sequence 'NoneType' object has no attribute 'open' data/midi/v8/midi_sources/130k_reddit/W/W/When-Your-Lover-Has-Gone.mid\n",
      "Error converting midi to sequence 'NoneType' object has no attribute 'open' data/midi/v8/midi_sources/130k_reddit/W/W/weve.mid\n",
      "Error converting midi to sequence 'NoneType' object has no attribute 'open' data/midi/v8/midi_sources/130k_reddit/S/S/scanner.mid\n",
      "Error converting midi to sequence 'NoneType' object has no attribute 'open' data/midi/v8/midi_sources/130k_reddit/W/W/Wings_Of_Destiny.mid\n",
      "Error converting midi to sequence 'NoneType' object has no attribute 'open' data/midi/v8/midi_sources/130k_reddit/S/S/Scatman'sWorld.mid\n",
      "Error converting midi to sequence 'NoneType' object has no attribute 'open' data/midi/v8/midi_sources/130k_reddit/S/S/STATUS QUO.Run around Sue.MID\n",
      "Error converting midi to sequence 'NoneType' object has no attribute 'open' data/midi/v8/midi_sources/130k_reddit/W/W/Wonderful-Tonight-2.mid\n"
     ]
    },
    {
     "name": "stderr",
     "output_type": "stream",
     "text": [
      "midi: WARNING: Conversion error for <MidiEvent None, t=None, track=0, channel=None>: unknown midi event type: None; ignored.\n"
     ]
    },
    {
     "name": "stdout",
     "output_type": "stream",
     "text": [
      "Error converting midi to sequence 'NoneType' object has no attribute 'open' data/midi/v8/midi_sources/130k_reddit/W/W/where_my_girls_at.mid\n",
      "Error converting midi to sequence 'NoneType' object has no attribute 'open' data/midi/v8/midi_sources/130k_reddit/W/W/WeDon'tTalkAnymore.mid\n",
      "Error converting midi to sequence 'NoneType' object has no attribute 'open' data/midi/v8/midi_sources/130k_reddit/S/S/SAMBMIX.MID\n",
      "Error converting midi to sequence 'NoneType' object has no attribute 'open' data/midi/v8/midi_sources/130k_reddit/W/W/Walking-On-The-Moon-1.mid\n"
     ]
    },
    {
     "name": "stderr",
     "output_type": "stream",
     "text": [
      "midi: WARNING: Conversion error for <MidiEvent None, t=None, track=0, channel=None>: unknown midi event type: None; ignored.\n"
     ]
    },
    {
     "name": "stdout",
     "output_type": "stream",
     "text": [
      "Error converting midi to sequence 'NoneType' object has no attribute 'open' data/midi/v8/midi_sources/130k_reddit/W/W/WhileMyGuitarGentlyWeeps3.mid\n",
      "Error converting midi to sequence 'NoneType' object has no attribute 'open' data/midi/v8/midi_sources/130k_reddit/W/W/We've-Only-Just-Begun-4.mid\n",
      "Error converting midi to sequence 'NoneType' object has no attribute 'open' data/midi/v8/midi_sources/130k_reddit/W/W/Wishingo.mid\n"
     ]
    },
    {
     "name": "stderr",
     "output_type": "stream",
     "text": [
      "midi: WARNING: Conversion error for <MidiEvent None, t=None, track=0, channel=None>: unknown midi event type: None; ignored.\n"
     ]
    },
    {
     "name": "stdout",
     "output_type": "stream",
     "text": [
      "Error converting midi to sequence 'NoneType' object has no attribute 'open' data/midi/v8/midi_sources/130k_reddit/W/W/What'sLoveGottaDoWithIt.mid\n"
     ]
    },
    {
     "name": "stderr",
     "output_type": "stream",
     "text": [
      "midi: WARNING: Conversion error for <MidiEvent None, t=None, track=9, channel=None>: unknown midi event type: None; ignored.\n"
     ]
    },
    {
     "name": "stdout",
     "output_type": "stream",
     "text": [
      "Error converting midi to sequence 'NoneType' object has no attribute 'open' data/midi/v8/midi_sources/130k_reddit/W/W/Who-The-X-Is-Alice-2.mid\n"
     ]
    },
    {
     "name": "stderr",
     "output_type": "stream",
     "text": [
      "midi: WARNING: Conversion error for <MidiEvent None, t=None, track=10, channel=None>: unknown midi event type: None; ignored.\n"
     ]
    },
    {
     "name": "stdout",
     "output_type": "stream",
     "text": [
      "Error converting midi to sequence 'NoneType' object has no attribute 'open' data/midi/v8/midi_sources/130k_reddit/W/W/war1.mid\n",
      "Error converting midi to sequence 'NoneType' object has no attribute 'open' data/midi/v8/midi_sources/130k_reddit/W/W/We'll-Be-Together-1.mid\n",
      "Error converting midi to sequence 'NoneType' object has no attribute 'open' data/midi/v8/midi_sources/130k_reddit/W/W/With-A-Little-Help-From-My-Friends.mid\n",
      "Error converting midi to sequence 'NoneType' object has no attribute 'open' data/midi/v8/midi_sources/130k_reddit/W/W/WonderfulTonight10.mid\n",
      "Error converting midi to sequence 'NoneType' object has no attribute 'open' data/midi/v8/midi_sources/130k_reddit/W/W/We-Need-A-Little-Christmas.mid\n",
      "Error converting midi to sequence 'NoneType' object has no attribute 'open' data/midi/v8/midi_sources/130k_reddit/W/W/Wonderful-Tonight-1.mid\n",
      "Error converting midi to sequence 'NoneType' object has no attribute 'open' data/midi/v8/midi_sources/130k_reddit/W/W/Wild-World.mid\n",
      "Error converting midi to sequence 'NoneType' object has no attribute 'open' data/midi/v8/midi_sources/130k_reddit/W/W/whenwillisu.mid\n",
      "Error converting midi to sequence 'NoneType' object has no attribute 'open' data/midi/v8/midi_sources/130k_reddit/S/S/SPAANS.MID\n",
      "Error converting midi to sequence 'NoneType' object has no attribute 'open' data/midi/v8/midi_sources/130k_reddit/W/W/We-Don't-Talk-Anymore-2.mid\n",
      "Error converting midi to sequence 'NoneType' object has no attribute 'open' data/midi/v8/midi_sources/130k_reddit/W/W/Whoomp!-(There-It-Is).mid\n",
      "Error converting midi to sequence 'NoneType' object has no attribute 'open' data/midi/v8/midi_sources/130k_reddit/W/W/Whispering-Grass.mid\n",
      "Error converting midi to sequence 'NoneType' object has no attribute 'open' data/midi/v8/midi_sources/130k_reddit/W/W/WH_SAINT.MID\n",
      "Error converting midi to sequence 'NoneType' object has no attribute 'open' data/midi/v8/midi_sources/130k_reddit/W/W/When-Will-I-See-You-Again-1.mid\n",
      "Error converting midi to sequence 'NoneType' object has no attribute 'open' data/midi/v8/midi_sources/130k_reddit/W/W/What's-Another-Year.mid\n",
      "Error converting midi to sequence 'NoneType' object has no attribute 'open' data/midi/v8/midi_sources/130k_reddit/W/W/Wedding-Song-(There-Is-Love).mid\n",
      "Error converting midi to sequence 'NoneType' object has no attribute 'open' data/midi/v8/midi_sources/130k_reddit/W/W/waterloo3.mid\n",
      "Error converting midi to sequence 'NoneType' object has no attribute 'open' data/midi/v8/midi_sources/130k_reddit/W/W/wc1title.mid\n",
      "Error converting midi to sequence 'NoneType' object has no attribute 'open' data/midi/v8/midi_sources/130k_reddit/W/W/whitewedding2.mid\n",
      "Error converting midi to sequence 'NoneType' object has no attribute 'open' data/midi/v8/midi_sources/130k_reddit/W/W/WALKINGO.MID\n",
      "Error converting midi to sequence 'NoneType' object has no attribute 'open' data/midi/v8/midi_sources/130k_reddit/W/W/when_irish_eyes_are_smiling.mid\n",
      "Error converting midi to sequence 'NoneType' object has no attribute 'open' data/midi/v8/midi_sources/130k_reddit/W/W/weezer-hash_pipe.mid\n",
      "Error converting midi to sequence 'NoneType' object has no attribute 'open' data/midi/v8/midi_sources/130k_reddit/W/W/What'sLoveGottaDoWithIt2.mid\n",
      "Error converting midi to sequence 'NoneType' object has no attribute 'open' data/midi/v8/midi_sources/130k_reddit/W/W/warcraft.mid\n",
      "Error converting midi to sequence 'NoneType' object has no attribute 'open' data/midi/v8/midi_sources/130k_reddit/W/W/Waterloo-Sunset.mid\n",
      "Error converting midi to sequence 'NoneType' object has no attribute 'open' data/midi/v8/midi_sources/130k_reddit/W/W/WAVE-1.MID\n",
      "Error converting midi to sequence 'NoneType' object has no attribute 'open' data/midi/v8/midi_sources/130k_reddit/W/W/WOMANWOM.MID\n",
      "Error converting midi to sequence 'NoneType' object has no attribute 'open' data/midi/v8/midi_sources/130k_reddit/W/W/What-A-Wonderful-World-1.mid\n",
      "Error converting midi to sequence 'NoneType' object has no attribute 'open' data/midi/v8/midi_sources/130k_reddit/W/W/WONDEULL.MID\n",
      "Error converting midi to sequence 'NoneType' object has no attribute 'open' data/midi/v8/midi_sources/130k_reddit/W/W/world_i_know.mid\n",
      "Error converting midi to sequence 'NoneType' object has no attribute 'open' data/midi/v8/midi_sources/130k_reddit/W/W/willyoustay.mid\n",
      "Error converting midi to sequence 'NoneType' object has no attribute 'open' data/midi/v8/midi_sources/130k_reddit/W/W/what2.mid\n"
     ]
    },
    {
     "name": "stderr",
     "output_type": "stream",
     "text": [
      "midi: WARNING: Conversion error for <MidiEvent None, t=None, track=0, channel=None>: unknown midi event type: None; ignored.\n"
     ]
    },
    {
     "name": "stdout",
     "output_type": "stream",
     "text": [
      "Error converting midi to sequence 'NoneType' object has no attribute 'open' data/midi/v8/midi_sources/130k_reddit/W/W/waterloo2.mid\n",
      "Error converting midi to sequence 'NoneType' object has no attribute 'open' data/midi/v8/midi_sources/130k_reddit/W/W/whiteassnow.mid\n",
      "Error converting midi to sequence 'NoneType' object has no attribute 'open' data/midi/v8/midi_sources/130k_reddit/W/W/WalkingOnTheMoon3.mid\n",
      "Error converting midi to sequence 'NoneType' object has no attribute 'open' data/midi/v8/midi_sources/130k_reddit/W/W/WES.I love football.mid\n",
      "Error converting midi to sequence 'NoneType' object has no attribute 'open' data/midi/v8/midi_sources/130k_reddit/W/W/Wild-'N-Free.mid\n",
      "Error converting midi to sequence 'NoneType' object has no attribute 'open' data/midi/v8/midi_sources/130k_reddit/W/W/WhistRufusN.mid\n",
      "Error converting midi to sequence 'NoneType' object has no attribute 'open' data/midi/v8/midi_sources/130k_reddit/W/W/WE3KNGS2.MID\n",
      "Error converting midi to sequence 'NoneType' object has no attribute 'open' data/midi/v8/midi_sources/130k_reddit/W/W/WHO'LTOP.MID\n",
      "Error converting midi to sequence 'NoneType' object has no attribute 'open' data/midi/v8/midi_sources/130k_reddit/W/W/WindBeneathMyWings9.mid\n",
      "Error converting midi to sequence 'NoneType' object has no attribute 'open' data/midi/v8/midi_sources/130k_reddit/W/W/Waterloo-2.mid\n",
      "Error converting midi to sequence 'NoneType' object has no attribute 'open' data/midi/v8/midi_sources/130k_reddit/W/W/winterstale.mid\n",
      "Error converting midi to sequence 'NoneType' object has no attribute 'open' data/midi/v8/midi_sources/130k_reddit/W/W/WouldILieToYou5.mid\n",
      "Error converting midi to sequence 'NoneType' object has no attribute 'open' data/midi/v8/midi_sources/130k_reddit/W/W/When-Sunny-Get's-Blue.mid\n",
      "Error converting midi to sequence 'NoneType' object has no attribute 'open' data/midi/v8/midi_sources/130k_reddit/W/W/We've-Only-Just-Begun-3.mid\n",
      "Error converting midi to sequence 'NoneType' object has no attribute 'open' data/midi/v8/midi_sources/130k_reddit/W/W/When-The-Saints-Go-Marching-In.mid\n"
     ]
    },
    {
     "name": "stderr",
     "output_type": "stream",
     "text": [
      "midi: WARNING: Conversion error for <MidiEvent None, t=None, track=7, channel=None>: unknown midi event type: None; ignored.\n"
     ]
    },
    {
     "name": "stdout",
     "output_type": "stream",
     "text": [
      "Error converting midi to sequence 'NoneType' object has no attribute 'open' data/midi/v8/midi_sources/130k_reddit/W/W/War_-_Why_Cant_We_Be_Friends.mid\n",
      "Error converting midi to sequence 'NoneType' object has no attribute 'open' data/midi/v8/midi_sources/130k_reddit/W/W/When-The-Saints-Go-Marchin'-In.mid\n",
      "Error converting midi to sequence 'NoneType' object has no attribute 'open' data/midi/v8/midi_sources/130k_reddit/W/W/wonderful2.mid\n",
      "Error converting midi to sequence 'NoneType' object has no attribute 'open' data/midi/v8/midi_sources/130k_reddit/W/W/WonderfulTonight5.mid\n",
      "Error converting midi to sequence 'NoneType' object has no attribute 'open' data/midi/v8/midi_sources/130k_reddit/W/W/Wild'n'Free.mid\n",
      "Error converting midi to sequence 'NoneType' object has no attribute 'open' data/midi/v8/midi_sources/130k_reddit/W/W/WHNPOPPY.MID\n",
      "Error converting midi to sequence 'NoneType' object has no attribute 'open' data/midi/v8/midi_sources/130k_reddit/W/W/WhenTheSaintsGoMarchingIn2.mid\n",
      "Error converting midi to sequence 'NoneType' object has no attribute 'open' data/midi/v8/midi_sources/130k_reddit/W/W/Where-The-Streets-Have-No-Name-1.mid\n",
      "Error converting midi to sequence 'NoneType' object has no attribute 'open' data/midi/v8/midi_sources/130k_reddit/W/W/wonderwall2.mid\n",
      "Error converting midi to sequence 'NoneType' object has no attribute 'open' data/midi/v8/midi_sources/130k_reddit/W/W/WonderfulTonight11.mid\n",
      "Error converting midi to sequence 'NoneType' object has no attribute 'open' data/midi/v8/midi_sources/130k_reddit/W/W/What-Are-You-Doing-New-Years-Eve.mid\n",
      "Error converting midi to sequence 'NoneType' object has no attribute 'open' data/midi/v8/midi_sources/130k_reddit/W/W/Wishes.mid\n",
      "Error converting midi to sequence 'NoneType' object has no attribute 'open' data/midi/v8/midi_sources/130k_reddit/W/W/whitefeathers.mid\n"
     ]
    },
    {
     "name": "stderr",
     "output_type": "stream",
     "text": [
      "midi: WARNING: Conversion error for <MidiEvent None, t=None, track=1, channel=None>: unknown midi event type: None; ignored.\n",
      "midi: WARNING: Conversion error for <MidiEvent None, t=None, track=0, channel=None>: unknown midi event type: None; ignored.\n",
      "midi: WARNING: Conversion error for <MidiEvent None, t=None, track=2, channel=None>: unknown midi event type: None; ignored.\n",
      "midi: WARNING: Conversion error for <MidiEvent None, t=None, track=3, channel=None>: unknown midi event type: None; ignored.\n"
     ]
    },
    {
     "name": "stdout",
     "output_type": "stream",
     "text": [
      "Error converting midi to sequence 'NoneType' object has no attribute 'open' data/midi/v8/midi_sources/130k_reddit/W/W/WonderfulTonight9.mid\n"
     ]
    },
    {
     "name": "stderr",
     "output_type": "stream",
     "text": [
      "midi: WARNING: Conversion error for <MidiEvent None, t=None, track=7, channel=None>: unknown midi event type: None; ignored.\n"
     ]
    },
    {
     "name": "stdout",
     "output_type": "stream",
     "text": [
      "Error converting midi to sequence 'NoneType' object has no attribute 'open' data/midi/v8/midi_sources/130k_reddit/W/W/walkinbymyself.mid\n",
      "Error converting midi to sequence 'NoneType' object has no attribute 'open' data/midi/v8/midi_sources/130k_reddit/W/W/WildDays.mid\n",
      "Error converting midi to sequence 'NoneType' object has no attribute 'open' data/midi/v8/midi_sources/130k_reddit/1/15WONDER.MID\n",
      "Error converting midi to sequence 'NoneType' object has no attribute 'open' data/midi/v8/midi_sources/130k_reddit/1/126miepi.mid\n",
      "Error converting midi to sequence 'NoneType' object has no attribute 'open' data/midi/v8/midi_sources/130k_reddit/1/16.mid\n",
      "Error converting midi to sequence 'NoneType' object has no attribute 'open' data/midi/v8/midi_sources/130k_reddit/1/13.mid\n",
      "Error converting midi to sequence 'NoneType' object has no attribute 'open' data/midi/v8/midi_sources/130k_reddit/1/17.mid\n",
      "Error converting midi to sequence 'NoneType' object has no attribute 'open' data/midi/v8/midi_sources/130k_reddit/1/16-Beat-Shuffle.mid\n",
      "Error converting midi to sequence 'NoneType' object has no attribute 'open' data/midi/v8/midi_sources/130k_reddit/1/1999_4.mid\n",
      "Error converting midi to sequence 'NoneType' object has no attribute 'open' data/midi/v8/midi_sources/130k_reddit/1/1999-2.mid\n",
      "Error converting midi to sequence 'NoneType' object has no attribute 'open' data/midi/v8/midi_sources/130k_reddit/1/19.mid\n",
      "Error converting midi to sequence 'NoneType' object has no attribute 'open' data/midi/v8/midi_sources/130k_reddit/1/1000-Mal-Du-3.mid\n",
      "Error converting midi to sequence 'NoneType' object has no attribute 'open' data/midi/v8/midi_sources/130k_reddit/1/12.mid\n",
      "Error converting midi to sequence 'NoneType' object has no attribute 'open' data/midi/v8/midi_sources/130k_reddit/1/1999_3.mid\n",
      "Error converting midi to sequence 'NoneType' object has no attribute 'open' data/midi/v8/midi_sources/130k_reddit/T/T/tlc-no_scrubs.mid\n",
      "Error converting midi to sequence 'NoneType' object has no attribute 'open' data/midi/v8/midi_sources/130k_reddit/T/T/THE INXS.Need you tonight.mid\n",
      "Error converting midi to sequence 'NoneType' object has no attribute 'open' data/midi/v8/midi_sources/130k_reddit/T/T/ThankYouForTheMusic.mid\n",
      "Error converting midi to sequence 'NoneType' object has no attribute 'open' data/midi/v8/midi_sources/130k_reddit/T/T/The-Christmas-Waltz.mid\n",
      "Error converting midi to sequence 'NoneType' object has no attribute 'open' data/midi/v8/midi_sources/130k_reddit/T/T/TI.PI.CAL.Music is my life.mid\n",
      "Error converting midi to sequence 'NoneType' object has no attribute 'open' data/midi/v8/midi_sources/130k_reddit/T/T/Temjin.mid\n",
      "Error converting midi to sequence 'NoneType' object has no attribute 'open' data/midi/v8/midi_sources/130k_reddit/T/T/Tulpen-Uit-Amsterdam-2.mid\n",
      "Error converting midi to sequence 'NoneType' object has no attribute 'open' data/midi/v8/midi_sources/130k_reddit/T/T/Tomorrow-(From-'Annie')-1.mid\n",
      "Error converting midi to sequence 'NoneType' object has no attribute 'open' data/midi/v8/midi_sources/130k_reddit/T/T/toystory03.mid\n",
      "Error converting midi to sequence 'NoneType' object has no attribute 'open' data/midi/v8/midi_sources/130k_reddit/T/T/These-Are-The-Days-Of-Our-Lives-1.mid\n"
     ]
    },
    {
     "name": "stderr",
     "output_type": "stream",
     "text": [
      "midi: WARNING: Conversion error for <MidiEvent None, t=None, track=0, channel=None>: unknown midi event type: None; ignored.\n"
     ]
    },
    {
     "name": "stdout",
     "output_type": "stream",
     "text": [
      "Error converting midi to sequence 'NoneType' object has no attribute 'open' data/midi/v8/midi_sources/130k_reddit/T/T/Theme-From-'Goldfinger'-(James-Bond).mid\n",
      "Error converting midi to sequence 'NoneType' object has no attribute 'open' data/midi/v8/midi_sources/130k_reddit/T/T/THE SHADOWS.Kontiki.mid\n",
      "Error converting midi to sequence 'NoneType' object has no attribute 'open' data/midi/v8/midi_sources/130k_reddit/T/T/TakeMeHome2.mid\n",
      "Error converting midi to sequence 'NoneType' object has no attribute 'open' data/midi/v8/midi_sources/130k_reddit/T/T/Tusch-7.mid\n",
      "Error converting midi to sequence 'NoneType' object has no attribute 'open' data/midi/v8/midi_sources/130k_reddit/T/T/Tie-A-Yellow-Ribbon.mid\n",
      "Error converting midi to sequence 'NoneType' object has no attribute 'open' data/midi/v8/midi_sources/130k_reddit/T/T/thygod.mid\n",
      "Error converting midi to sequence 'NoneType' object has no attribute 'open' data/midi/v8/midi_sources/130k_reddit/T/T/TheWayItIs4.mid\n",
      "Error converting midi to sequence 'NoneType' object has no attribute 'open' data/midi/v8/midi_sources/130k_reddit/T/T/Theo-Wir-Fahr'n-Nach-Lodz-1.mid\n",
      "Error converting midi to sequence 'NoneType' object has no attribute 'open' data/midi/v8/midi_sources/130k_reddit/T/T/TALEESA.Because the night.MID\n"
     ]
    },
    {
     "name": "stderr",
     "output_type": "stream",
     "text": [
      "midi: WARNING: Conversion error for <MidiEvent None, t=None, track=0, channel=None>: unknown midi event type: None; ignored.\n"
     ]
    },
    {
     "name": "stdout",
     "output_type": "stream",
     "text": [
      "Error converting midi to sequence 'NoneType' object has no attribute 'open' data/midi/v8/midi_sources/130k_reddit/T/T/THE EAGLES.One of these night.MID\n",
      "Error converting midi to sequence 'NoneType' object has no attribute 'open' data/midi/v8/midi_sources/130k_reddit/T/T/THE SNAP.Exterminate.MID\n",
      "Error converting midi to sequence 'NoneType' object has no attribute 'open' data/midi/v8/midi_sources/130k_reddit/T/T/The Carpenters - We've Only Just Begun.mid\n",
      "Error converting midi to sequence 'NoneType' object has no attribute 'open' data/midi/v8/midi_sources/130k_reddit/T/T/ThankYouForTheMusic2.mid\n",
      "Error converting midi to sequence 'NoneType' object has no attribute 'open' data/midi/v8/midi_sources/130k_reddit/T/T/Tusch-6.mid\n",
      "Error converting midi to sequence 'NoneType' object has no attribute 'open' data/midi/v8/midi_sources/130k_reddit/T/T/tonight_tonight_tonight_excellent.mid\n",
      "Error converting midi to sequence 'NoneType' object has no attribute 'open' data/midi/v8/midi_sources/130k_reddit/T/T/timeof2.mid\n",
      "Error converting midi to sequence 'NoneType' object has no attribute 'open' data/midi/v8/midi_sources/130k_reddit/T/T/taps3.mid\n",
      "Error converting midi to sequence 'NoneType' object has no attribute 'open' data/midi/v8/midi_sources/130k_reddit/T/T/thatswhatloveisallabout.mid\n",
      "Error converting midi to sequence 'NoneType' object has no attribute 'open' data/midi/v8/midi_sources/130k_reddit/T/T/THE DOORS.Break on through.mid\n",
      "Error converting midi to sequence 'NoneType' object has no attribute 'open' data/midi/v8/midi_sources/130k_reddit/T/T/TheWindBeneathMyWings2.mid\n",
      "Error converting midi to sequence 'NoneType' object has no attribute 'open' data/midi/v8/midi_sources/130k_reddit/T/T/ThePit.mid\n",
      "Error converting midi to sequence 'NoneType' object has no attribute 'open' data/midi/v8/midi_sources/130k_reddit/T/T/Theme-From-'The-Simpsons'-(Bart-5).mid\n",
      "Error converting midi to sequence 'NoneType' object has no attribute 'open' data/midi/v8/midi_sources/130k_reddit/T/T/T.JONES.Mony mony.mid\n",
      "Error converting midi to sequence 'NoneType' object has no attribute 'open' data/midi/v8/midi_sources/130k_reddit/T/T/THE ROLLING STONES.Can't be seen.mid\n",
      "Error converting midi to sequence 'NoneType' object has no attribute 'open' data/midi/v8/midi_sources/130k_reddit/T/T/THE OTHER ONES.Holiday.MID\n",
      "Error converting midi to sequence 'NoneType' object has no attribute 'open' data/midi/v8/midi_sources/130k_reddit/T/T/To_fili.mid\n",
      "Error converting midi to sequence 'NoneType' object has no attribute 'open' data/midi/v8/midi_sources/130k_reddit/T/T/thisused1.mid\n"
     ]
    },
    {
     "name": "stderr",
     "output_type": "stream",
     "text": [
      "midi: WARNING: Conversion error for <MidiEvent None, t=None, track=0, channel=None>: unknown midi event type: None; ignored.\n"
     ]
    },
    {
     "name": "stdout",
     "output_type": "stream",
     "text": [
      "Error converting midi to sequence 'NoneType' object has no attribute 'open' data/midi/v8/midi_sources/130k_reddit/T/T/thismagmoment.mid\n",
      "Error converting midi to sequence 'NoneType' object has no attribute 'open' data/midi/v8/midi_sources/130k_reddit/T/T/To_simad.mid\n",
      "Error converting midi to sequence 'NoneType' object has no attribute 'open' data/midi/v8/midi_sources/130k_reddit/T/T/time_of_my_life.mid\n",
      "Error converting midi to sequence 'NoneType' object has no attribute 'open' data/midi/v8/midi_sources/130k_reddit/T/T/THE SHADOWS.The rise and fall.mid\n",
      "Error converting midi to sequence 'NoneType' object has no attribute 'open' data/midi/v8/midi_sources/130k_reddit/T/T/The-Way-To-Your-Heart-2.mid\n",
      "Error converting midi to sequence 'NoneType' object has no attribute 'open' data/midi/v8/midi_sources/130k_reddit/T/T/TEXAS.Say what you want.MID\n",
      "Error converting midi to sequence 'NoneType' object has no attribute 'open' data/midi/v8/midi_sources/130k_reddit/T/T/T.WINETTE.Stand by your man.mid\n",
      "Error converting midi to sequence 'NoneType' object has no attribute 'open' data/midi/v8/midi_sources/130k_reddit/T/T/The-Way-It-Is-1.mid\n",
      "Error converting midi to sequence 'NoneType' object has no attribute 'open' data/midi/v8/midi_sources/130k_reddit/T/T/TLC_No_Scrubs.mid\n",
      "Error converting midi to sequence 'NoneType' object has no attribute 'open' data/midi/v8/midi_sources/130k_reddit/T/T/THE TREMELOES.My little lady.MID\n",
      "Error converting midi to sequence 'NoneType' object has no attribute 'open' data/midi/v8/midi_sources/130k_reddit/T/T/The-Name-Of-The-Game-2.mid\n",
      "Error converting midi to sequence 'NoneType' object has no attribute 'open' data/midi/v8/midi_sources/130k_reddit/T/T/tori_amos-crucify.mid\n",
      "Error converting midi to sequence 'NoneType' object has no attribute 'open' data/midi/v8/midi_sources/130k_reddit/T/T/TheLook2.mid\n",
      "Error converting midi to sequence 'NoneType' object has no attribute 'open' data/midi/v8/midi_sources/130k_reddit/T/T/Tasmin_Archer_-_Sleeping_Satellites.mid\n",
      "Error converting midi to sequence 'NoneType' object has no attribute 'open' data/midi/v8/midi_sources/130k_reddit/T/T/THE POLICE.Bring on the night.mid\n",
      "Error converting midi to sequence 'NoneType' object has no attribute 'open' data/midi/v8/midi_sources/130k_reddit/T/T/theme06.mid\n",
      "Error converting midi to sequence 'NoneType' object has no attribute 'open' data/midi/v8/midi_sources/130k_reddit/T/T/They-Dance-Alone-1.mid\n",
      "Error converting midi to sequence 'NoneType' object has no attribute 'open' data/midi/v8/midi_sources/130k_reddit/T/T/t070mitl.MID\n",
      "Error converting midi to sequence 'NoneType' object has no attribute 'open' data/midi/v8/midi_sources/130k_reddit/T/T/The-Great-Pretender-2.mid\n",
      "Error converting midi to sequence 'NoneType' object has no attribute 'open' data/midi/v8/midi_sources/130k_reddit/T/T/TheShowMustGoOn.mid\n",
      "Error converting midi to sequence 'NoneType' object has no attribute 'open' data/midi/v8/midi_sources/130k_reddit/T/T/The_Searchers_-_Needles_and_Pins.mid\n",
      "Error converting midi to sequence 'NoneType' object has no attribute 'open' data/midi/v8/midi_sources/130k_reddit/T/T/THE ANIMALS.The house of rising sun.mid\n",
      "Error converting midi to sequence 'NoneType' object has no attribute 'open' data/midi/v8/midi_sources/130k_reddit/T/T/THE SHADOWS.Quatermaster's store.mid\n",
      "Error converting midi to sequence 'NoneType' object has no attribute 'open' data/midi/v8/midi_sources/130k_reddit/T/T/THE SEARCHERS.Needles and pins.MID\n",
      "Error converting midi to sequence 'NoneType' object has no attribute 'open' data/midi/v8/midi_sources/130k_reddit/T/T/THE BEACH BOYS.In my room.mid\n"
     ]
    },
    {
     "name": "stderr",
     "output_type": "stream",
     "text": [
      "midi: WARNING: Conversion error for <MidiEvent None, t=None, track=1, channel=None>: unknown midi event type: None; ignored.\n",
      "midi: WARNING: Conversion error for <MidiEvent None, t=None, track=0, channel=None>: unknown midi event type: None; ignored.\n"
     ]
    },
    {
     "name": "stdout",
     "output_type": "stream",
     "text": [
      "Error converting midi to sequence 'NoneType' object has no attribute 'open' data/midi/v8/midi_sources/130k_reddit/T/T/The_Police_-_Can't_Stand_Losing_You.mid\n",
      "Error converting midi to sequence 'NoneType' object has no attribute 'open' data/midi/v8/midi_sources/130k_reddit/T/T/TearsFromHeaven6.mid\n",
      "Error converting midi to sequence 'NoneType' object has no attribute 'open' data/midi/v8/midi_sources/130k_reddit/T/T/THERE_PL.MID\n",
      "Error converting midi to sequence 'NoneType' object has no attribute 'open' data/midi/v8/midi_sources/130k_reddit/T/T/TRUCK STOP.Alles bingo.MID\n",
      "Error converting midi to sequence 'NoneType' object has no attribute 'open' data/midi/v8/midi_sources/130k_reddit/T/T/The-River-Kwai-March-2.mid\n",
      "Error converting midi to sequence 'NoneType' object has no attribute 'open' data/midi/v8/midi_sources/130k_reddit/T/T/THE RATTLES.The witch.mid\n",
      "Error converting midi to sequence 'NoneType' object has no attribute 'open' data/midi/v8/midi_sources/130k_reddit/T/T/THE BEATLES.All my loving.mid\n",
      "Error converting midi to sequence 'NoneType' object has no attribute 'open' data/midi/v8/midi_sources/130k_reddit/T/T/The_Carpenters_-_Sing.mid\n",
      "Error converting midi to sequence 'NoneType' object has no attribute 'open' data/midi/v8/midi_sources/130k_reddit/T/T/Tornado2.mid\n",
      "Error converting midi to sequence 'NoneType' object has no attribute 'open' data/midi/v8/midi_sources/130k_reddit/T/T/thesign03.mid\n",
      "Error converting midi to sequence 'NoneType' object has no attribute 'open' data/midi/v8/midi_sources/130k_reddit/T/T/Theme-From-'Neighbours'.mid\n",
      "Error converting midi to sequence 'NoneType' object has no attribute 'open' data/midi/v8/midi_sources/130k_reddit/T/T/Tears-In-Heaven-2.mid\n",
      "Error converting midi to sequence 'NoneType' object has no attribute 'open' data/midi/v8/midi_sources/130k_reddit/T/T/TheWindBeneathMyWings1.mid\n",
      "Error converting midi to sequence 'NoneType' object has no attribute 'open' data/midi/v8/midi_sources/130k_reddit/T/T/The-Air-That-I-Breathe-1.mid\n",
      "Error converting midi to sequence 'NoneType' object has no attribute 'open' data/midi/v8/midi_sources/130k_reddit/T/T/toystory.mid\n",
      "Error converting midi to sequence 'NoneType' object has no attribute 'open' data/midi/v8/midi_sources/130k_reddit/T/T/Thriller2.mid\n",
      "Error converting midi to sequence 'NoneType' object has no attribute 'open' data/midi/v8/midi_sources/130k_reddit/T/T/tears06.mid\n",
      "Error converting midi to sequence 'NoneType' object has no attribute 'open' data/midi/v8/midi_sources/130k_reddit/T/T/Tell-It-Like-It-Is-2.mid\n",
      "Error converting midi to sequence 'NoneType' object has no attribute 'open' data/midi/v8/midi_sources/130k_reddit/T/T/TheShowMustGoOn2.mid\n",
      "Error converting midi to sequence 'NoneType' object has no attribute 'open' data/midi/v8/midi_sources/130k_reddit/T/T/Twist-And-Shout-2.mid\n",
      "Error converting midi to sequence 'NoneType' object has no attribute 'open' data/midi/v8/midi_sources/130k_reddit/T/T/t116lta.mid\n"
     ]
    },
    {
     "name": "stderr",
     "output_type": "stream",
     "text": [
      "midi: WARNING: Conversion error for <MidiEvent None, t=None, track=1, channel=None>: unknown midi event type: None; ignored.\n"
     ]
    },
    {
     "name": "stdout",
     "output_type": "stream",
     "text": [
      "Error converting midi to sequence 'NoneType' object has no attribute 'open' data/midi/v8/midi_sources/130k_reddit/T/T/THE TREMELOES.Silence is golden.mid\n",
      "Error converting midi to sequence 'NoneType' object has no attribute 'open' data/midi/v8/midi_sources/130k_reddit/T/T/t109smts.mid\n",
      "Error converting midi to sequence 'NoneType' object has no attribute 'open' data/midi/v8/midi_sources/130k_reddit/T/T/thecloseryget.mid\n",
      "Error converting midi to sequence 'NoneType' object has no attribute 'open' data/midi/v8/midi_sources/130k_reddit/T/T/THE TREMELOES.Here comes my baby.mid\n",
      "Error converting midi to sequence 'NoneType' object has no attribute 'open' data/midi/v8/midi_sources/130k_reddit/T/T/THE CONGREGATION.Softly whispering i love you.MID\n",
      "Error converting midi to sequence 'NoneType' object has no attribute 'open' data/midi/v8/midi_sources/130k_reddit/T/T/THE SWINGERS.No more questions.mid\n",
      "Error converting midi to sequence 'NoneType' object has no attribute 'open' data/midi/v8/midi_sources/130k_reddit/T/T/Top-Of-The-World-3.mid\n",
      "Error converting midi to sequence 'NoneType' object has no attribute 'open' data/midi/v8/midi_sources/130k_reddit/T/T/the_corrs-what_can_i_do.mid\n",
      "Error converting midi to sequence 'NoneType' object has no attribute 'open' data/midi/v8/midi_sources/130k_reddit/T/T/The-Little-Drummer-Boy-3.mid\n",
      "Error converting midi to sequence 'NoneType' object has no attribute 'open' data/midi/v8/midi_sources/130k_reddit/T/T/THE PRODIGY.No good start the dance.mid\n",
      "Error converting midi to sequence 'NoneType' object has no attribute 'open' data/midi/v8/midi_sources/130k_reddit/T/T/The_Carpenters_-_We've_Only_Just_Begun.mid\n",
      "Error converting midi to sequence 'NoneType' object has no attribute 'open' data/midi/v8/midi_sources/130k_reddit/T/T/trustinjesus.mid\n"
     ]
    },
    {
     "name": "stderr",
     "output_type": "stream",
     "text": [
      "midi: WARNING: Conversion error for <MidiEvent None, t=None, track=0, channel=None>: unknown midi event type: None; ignored.\n"
     ]
    },
    {
     "name": "stdout",
     "output_type": "stream",
     "text": [
      "Error converting midi to sequence 'NoneType' object has no attribute 'open' data/midi/v8/midi_sources/130k_reddit/T/T/Theme-From-'Chitty-Chitty-Bang-Bang'.mid\n",
      "Error converting midi to sequence 'NoneType' object has no attribute 'open' data/midi/v8/midi_sources/130k_reddit/T/T/ThankYouForTheMusic3.mid\n",
      "Error converting midi to sequence 'NoneType' object has no attribute 'open' data/midi/v8/midi_sources/130k_reddit/T/T/Together-Forever-2.mid\n",
      "Error converting midi to sequence 'NoneType' object has no attribute 'open' data/midi/v8/midi_sources/130k_reddit/T/T/T.RAINFORD.Silver bird.mid\n",
      "Error converting midi to sequence 'NoneType' object has no attribute 'open' data/midi/v8/midi_sources/130k_reddit/T/T/Take-A-Change-On-Me-2.mid\n",
      "Error converting midi to sequence 'NoneType' object has no attribute 'open' data/midi/v8/midi_sources/130k_reddit/T/T/thatswhatloveis4.mid\n",
      "Error converting midi to sequence 'NoneType' object has no attribute 'open' data/midi/v8/midi_sources/130k_reddit/T/T/Thank-You-For-The-Music-3.mid\n",
      "Error converting midi to sequence 'NoneType' object has no attribute 'open' data/midi/v8/midi_sources/130k_reddit/T/T/The_Everly_Brothers_-_Bye_Bye_Love.mid\n",
      "Error converting midi to sequence 'NoneType' object has no attribute 'open' data/midi/v8/midi_sources/130k_reddit/T/T/topete.mid\n",
      "Error converting midi to sequence 'NoneType' object has no attribute 'open' data/midi/v8/midi_sources/130k_reddit/T/T/THE CREAM.White room.mid\n",
      "Error converting midi to sequence 'NoneType' object has no attribute 'open' data/midi/v8/midi_sources/130k_reddit/T/T/Tanz-Der-Stunden-(Tango).mid\n",
      "Error converting midi to sequence 'NoneType' object has no attribute 'open' data/midi/v8/midi_sources/130k_reddit/T/T/THE OTHERS.Johnny B..mid\n",
      "Error converting midi to sequence 'NoneType' object has no attribute 'open' data/midi/v8/midi_sources/130k_reddit/T/T/The-Unforgettable-Fire.mid\n",
      "Error converting midi to sequence 'NoneType' object has no attribute 'open' data/midi/v8/midi_sources/130k_reddit/T/T/TN'T PARTY ZONE.Vamos a la playa(dance).mid\n"
     ]
    },
    {
     "name": "stderr",
     "output_type": "stream",
     "text": [
      "midi: WARNING: Conversion error for <MidiEvent None, t=None, track=0, channel=None>: unknown midi event type: None; ignored.\n"
     ]
    },
    {
     "name": "stdout",
     "output_type": "stream",
     "text": [
      "Error converting midi to sequence 'NoneType' object has no attribute 'open' data/midi/v8/midi_sources/130k_reddit/T/T/The Police - Message in a Bottle.mid\n",
      "Error converting midi to sequence 'NoneType' object has no attribute 'open' data/midi/v8/midi_sources/130k_reddit/T/T/The_Carpenters_-_Only_Yesterday.mid\n",
      "Error converting midi to sequence 'NoneType' object has no attribute 'open' data/midi/v8/midi_sources/130k_reddit/T/T/Tuxedo-Junction.mid\n",
      "Error converting midi to sequence 'NoneType' object has no attribute 'open' data/midi/v8/midi_sources/130k_reddit/T/T/TLC_-_No_Scrubs.mid\n",
      "Error converting midi to sequence 'NoneType' object has no attribute 'open' data/midi/v8/midi_sources/130k_reddit/T/T/terlerai.mid\n"
     ]
    },
    {
     "name": "stderr",
     "output_type": "stream",
     "text": [
      "midi: WARNING: Conversion error for <MidiEvent None, t=None, track=0, channel=None>: unknown midi event type: None; ignored.\n"
     ]
    },
    {
     "name": "stdout",
     "output_type": "stream",
     "text": [
      "Error converting midi to sequence 'NoneType' object has no attribute 'open' data/midi/v8/midi_sources/130k_reddit/T/T/Theme-From-'Pinochio'.mid\n",
      "Error converting midi to sequence 'NoneType' object has no attribute 'open' data/midi/v8/midi_sources/130k_reddit/T/T/Theme-From-'The-Simpsons'-(Bart-4).mid\n",
      "Error converting midi to sequence 'NoneType' object has no attribute 'open' data/midi/v8/midi_sources/130k_reddit/T/T/TLC - No Scrubs.mid\n"
     ]
    },
    {
     "name": "stderr",
     "output_type": "stream",
     "text": [
      "midi: WARNING: Conversion error for <MidiEvent None, t=None, track=0, channel=None>: unknown midi event type: None; ignored.\n"
     ]
    },
    {
     "name": "stdout",
     "output_type": "stream",
     "text": [
      "Error converting midi to sequence 'NoneType' object has no attribute 'open' data/midi/v8/midi_sources/130k_reddit/T/T/THE TROGGS.With a girl like you.MID\n",
      "Error converting midi to sequence 'NoneType' object has no attribute 'open' data/midi/v8/midi_sources/130k_reddit/T/T/TheGreatestLoveOffAll.mid\n",
      "Error converting midi to sequence 'NoneType' object has no attribute 'open' data/midi/v8/midi_sources/130k_reddit/T/T/The-Lady-In-My-Life-2.mid\n",
      "Error converting midi to sequence 'NoneType' object has no attribute 'open' data/midi/v8/midi_sources/130k_reddit/T/T/The-Soul-Cages-3.mid\n",
      "Error converting midi to sequence 'NoneType' object has no attribute 'open' data/midi/v8/midi_sources/130k_reddit/T/T/THE GAP BAND.Oops up dide your head.mid\n",
      "Error converting midi to sequence 'NoneType' object has no attribute 'open' data/midi/v8/midi_sources/130k_reddit/T/T/THE ACE CATS.Linda.mid\n",
      "Error converting midi to sequence 'NoneType' object has no attribute 'open' data/midi/v8/midi_sources/130k_reddit/T/T/Three_Dog_Night_-_Never_Been_To_Spain.mid\n",
      "Error converting midi to sequence 'NoneType' object has no attribute 'open' data/midi/v8/midi_sources/130k_reddit/T/T/toystory2.mid\n",
      "Error converting midi to sequence 'NoneType' object has no attribute 'open' data/midi/v8/midi_sources/130k_reddit/T/T/turnthepage2.mid\n",
      "Error converting midi to sequence 'NoneType' object has no attribute 'open' data/midi/v8/midi_sources/130k_reddit/T/T/THE POLICE.I can't stand losing you.mid\n",
      "Error converting midi to sequence 'NoneType' object has no attribute 'open' data/midi/v8/midi_sources/130k_reddit/T/T/touch.mid\n",
      "Error converting midi to sequence 'NoneType' object has no attribute 'open' data/midi/v8/midi_sources/130k_reddit/T/T/tiziano_ferro-no_me_lo_puedo_explicar.mid\n",
      "Error converting midi to sequence 'NoneType' object has no attribute 'open' data/midi/v8/midi_sources/130k_reddit/T/T/Thank-You-For-The-Music-1.mid\n",
      "Error converting midi to sequence 'NoneType' object has no attribute 'open' data/midi/v8/midi_sources/130k_reddit/T/T/Theme-From-'Against-All-Odds'-(Take-A-Look).mid\n",
      "Error converting midi to sequence 'NoneType' object has no attribute 'open' data/midi/v8/midi_sources/130k_reddit/T/T/The-Mighty-Quinn.mid\n",
      "Error converting midi to sequence 'NoneType' object has no attribute 'open' data/midi/v8/midi_sources/130k_reddit/T/T/ThankYou.mid\n",
      "Error converting midi to sequence 'NoneType' object has no attribute 'open' data/midi/v8/midi_sources/130k_reddit/T/T/THE ROLLING STONES.It's all over now.MID\n",
      "Error converting midi to sequence 'NoneType' object has no attribute 'open' data/midi/v8/midi_sources/130k_reddit/T/T/To-Love-Somebody-1.mid\n",
      "Error converting midi to sequence 'NoneType' object has no attribute 'open' data/midi/v8/midi_sources/130k_reddit/T/T/Theme-From-'Dallas'-2.mid\n",
      "Error converting midi to sequence 'NoneType' object has no attribute 'open' data/midi/v8/midi_sources/130k_reddit/T/T/THE COMMODORES.Nightshift.MID\n",
      "Error converting midi to sequence 'NoneType' object has no attribute 'open' data/midi/v8/midi_sources/130k_reddit/T/T/Theme-From-'For-Your-Eyes-Only'-(James-Bond).mid\n",
      "Error converting midi to sequence 'NoneType' object has no attribute 'open' data/midi/v8/midi_sources/130k_reddit/T/T/THE HOLLIES.Sorry Suzanne.MID\n",
      "Error converting midi to sequence 'NoneType' object has no attribute 'open' data/midi/v8/midi_sources/130k_reddit/T/T/The-Boxer-1.mid\n",
      "Error converting midi to sequence 'NoneType' object has no attribute 'open' data/midi/v8/midi_sources/130k_reddit/T/T/The-Inch-Worm.mid\n",
      "Error converting midi to sequence 'NoneType' object has no attribute 'open' data/midi/v8/midi_sources/130k_reddit/T/T/THE RAMONES.Needles and pins.mid\n",
      "Error converting midi to sequence 'NoneType' object has no attribute 'open' data/midi/v8/midi_sources/130k_reddit/T/T/THE FOUR TOPS.Loco in Acapulco.MID\n",
      "Error converting midi to sequence 'NoneType' object has no attribute 'open' data/midi/v8/midi_sources/130k_reddit/T/T/theonlything.mid\n"
     ]
    },
    {
     "name": "stderr",
     "output_type": "stream",
     "text": [
      "midi: WARNING: Conversion error for <MidiEvent None, t=None, track=0, channel=None>: unknown midi event type: None; ignored.\n"
     ]
    },
    {
     "name": "stdout",
     "output_type": "stream",
     "text": [
      "Error converting midi to sequence 'NoneType' object has no attribute 'open' data/midi/v8/midi_sources/130k_reddit/T/T/TheWayItIs2.mid\n",
      "Error converting midi to sequence 'NoneType' object has no attribute 'open' data/midi/v8/midi_sources/130k_reddit/T/T/Top-Of-The-World.mid\n",
      "Error converting midi to sequence 'NoneType' object has no attribute 'open' data/midi/v8/midi_sources/130k_reddit/T/T/Treue-Husar.mid\n",
      "Error converting midi to sequence 'NoneType' object has no attribute 'open' data/midi/v8/midi_sources/130k_reddit/T/T/TheX-Files.mid\n",
      "Error converting midi to sequence 'NoneType' object has no attribute 'open' data/midi/v8/midi_sources/130k_reddit/T/T/THE TEMPTATIONS.My girl.mid\n"
     ]
    },
    {
     "name": "stderr",
     "output_type": "stream",
     "text": [
      "midi: WARNING: Conversion error for <MidiEvent None, t=None, track=7, channel=None>: unknown midi event type: None; ignored.\n"
     ]
    },
    {
     "name": "stdout",
     "output_type": "stream",
     "text": [
      "Error converting midi to sequence 'NoneType' object has no attribute 'open' data/midi/v8/midi_sources/130k_reddit/T/T/The-Spanish-Night-Is-Over-3.mid\n",
      "Error converting midi to sequence 'NoneType' object has no attribute 'open' data/midi/v8/midi_sources/130k_reddit/T/T/Tribal-Dance-3.mid\n",
      "Error converting midi to sequence 'NoneType' object has no attribute 'open' data/midi/v8/midi_sources/130k_reddit/T/T/THE KING.Kin of the road.MID\n",
      "Error converting midi to sequence 'NoneType' object has no attribute 'open' data/midi/v8/midi_sources/130k_reddit/T/T/THE BLUES BR.I can't turn you loose.MID\n",
      "Error converting midi to sequence 'NoneType' object has no attribute 'open' data/midi/v8/midi_sources/130k_reddit/2/2000.mid\n",
      "Error converting midi to sequence 'NoneType' object has no attribute 'open' data/midi/v8/midi_sources/130k_reddit/2/2ndmarriage.mid\n"
     ]
    },
    {
     "name": "stderr",
     "output_type": "stream",
     "text": [
      "midi: WARNING: Conversion error for <MidiEvent None, t=None, track=0, channel=None>: unknown midi event type: None; ignored.\n"
     ]
    },
    {
     "name": "stdout",
     "output_type": "stream",
     "text": [
      "Error converting midi to sequence 'NoneType' object has no attribute 'open' data/midi/v8/midi_sources/130k_reddit/2/218.mid\n",
      "Error converting midi to sequence 'NoneType' object has no attribute 'open' data/midi/v8/midi_sources/130k_reddit/2/2story.mid\n",
      "Error converting midi to sequence 'NoneType' object has no attribute 'open' data/midi/v8/midi_sources/130k_reddit/2/2_pac-until_the_end_of_time.mid\n",
      "Error converting midi to sequence 'NoneType' object has no attribute 'open' data/midi/v8/midi_sources/130k_reddit/R/R/R_Kelly_-_Half_On_A_Baby.mid\n",
      "Error converting midi to sequence 'NoneType' object has no attribute 'open' data/midi/v8/midi_sources/130k_reddit/T/T/TWISTMIX.MID\n",
      "Error converting midi to sequence 'NoneType' object has no attribute 'open' data/midi/v8/midi_sources/130k_reddit/R/R/ryo.mid\n",
      "Error converting midi to sequence 'NoneType' object has no attribute 'open' data/midi/v8/midi_sources/130k_reddit/2/21st_century_schizoid_man.mid\n",
      "Error converting midi to sequence 'NoneType' object has no attribute 'open' data/midi/v8/midi_sources/130k_reddit/R/R/rod_stewart-forever_young.mid\n",
      "Error converting midi to sequence 'NoneType' object has no attribute 'open' data/midi/v8/midi_sources/130k_reddit/T/T/THE KING.Take me home country roads.MID\n",
      "Error converting midi to sequence 'NoneType' object has no attribute 'open' data/midi/v8/midi_sources/130k_reddit/R/R/Ramona.mid\n",
      "Error converting midi to sequence 'NoneType' object has no attribute 'open' data/midi/v8/midi_sources/130k_reddit/R/R/rainydaysandmondays.mid\n",
      "Error converting midi to sequence 'NoneType' object has no attribute 'open' data/midi/v8/midi_sources/130k_reddit/R/R/Raspberry_Beret.mid\n",
      "Error converting midi to sequence 'NoneType' object has no attribute 'open' data/midi/v8/midi_sources/130k_reddit/R/R/Romance-(From-'Eine-Kleine-Nachtmusik').mid\n",
      "Error converting midi to sequence 'NoneType' object has no attribute 'open' data/midi/v8/midi_sources/130k_reddit/R/R/RockWithYou2.mid\n",
      "Error converting midi to sequence 'NoneType' object has no attribute 'open' data/midi/v8/midi_sources/130k_reddit/R/R/rihanna-hatin_on_the_club_feat_the_dream.mid\n",
      "Error converting midi to sequence 'NoneType' object has no attribute 'open' data/midi/v8/midi_sources/130k_reddit/R/R/ROSITA.MID\n",
      "Error converting midi to sequence 'NoneType' object has no attribute 'open' data/midi/v8/midi_sources/130k_reddit/R/R/Rock-Your-Baby-3.mid\n",
      "Error converting midi to sequence 'NoneType' object has no attribute 'open' data/midi/v8/midi_sources/130k_reddit/R/R/rkelly1.mid\n",
      "Error converting midi to sequence 'NoneType' object has no attribute 'open' data/midi/v8/midi_sources/130k_reddit/R/R/R.FOSTER.Just call me lonesome.MID\n",
      "Error converting midi to sequence 'NoneType' object has no attribute 'open' data/midi/v8/midi_sources/130k_reddit/R/R/RocketMan4.mid\n",
      "Error converting midi to sequence 'NoneType' object has no attribute 'open' data/midi/v8/midi_sources/130k_reddit/R/R/RocketMan3.mid\n",
      "Error converting midi to sequence 'NoneType' object has no attribute 'open' data/midi/v8/midi_sources/130k_reddit/R/R/rocku.mid\n",
      "Error converting midi to sequence 'NoneType' object has no attribute 'open' data/midi/v8/midi_sources/130k_reddit/R/R/Rote-Sonne-Weites-Land.mid\n"
     ]
    },
    {
     "name": "stderr",
     "output_type": "stream",
     "text": [
      "midi: WARNING: Conversion error for <MidiEvent None, t=None, track=11, channel=None>: unknown midi event type: None; ignored.\n"
     ]
    },
    {
     "name": "stdout",
     "output_type": "stream",
     "text": [
      "Error converting midi to sequence 'NoneType' object has no attribute 'open' data/midi/v8/midi_sources/130k_reddit/R/R/Radio-Ga-Ga-3.mid\n",
      "Error converting midi to sequence 'NoneType' object has no attribute 'open' data/midi/v8/midi_sources/130k_reddit/R/R/Rocket man.mid\n",
      "Error converting midi to sequence 'NoneType' object has no attribute 'open' data/midi/v8/midi_sources/130k_reddit/R/R/Robert_John_-_The_Lion_Sleeps_Tonight.mid\n",
      "Error converting midi to sequence 'NoneType' object has no attribute 'open' data/midi/v8/midi_sources/130k_reddit/R/R/rowboat2.mid\n",
      "Error converting midi to sequence 'NoneType' object has no attribute 'open' data/midi/v8/midi_sources/130k_reddit/R/R/RTL-TUNE.MID\n",
      "Error converting midi to sequence 'NoneType' object has no attribute 'open' data/midi/v8/midi_sources/130k_reddit/R/R/Romance-KV466-2.mid\n",
      "Error converting midi to sequence 'NoneType' object has no attribute 'open' data/midi/v8/midi_sources/130k_reddit/R/R/rem-immitation_of_life.mid\n",
      "Error converting midi to sequence 'NoneType' object has no attribute 'open' data/midi/v8/midi_sources/130k_reddit/R/R/RICHIE.Sexual Healing.mid\n",
      "Error converting midi to sequence 'NoneType' object has no attribute 'open' data/midi/v8/midi_sources/130k_reddit/R/R/RocketMan.mid\n",
      "Error converting midi to sequence 'NoneType' object has no attribute 'open' data/midi/v8/midi_sources/130k_reddit/R/R/Rock-And-Roll-Dreams-Come-Trough.mid\n",
      "Error converting midi to sequence 'NoneType' object has no attribute 'open' data/midi/v8/midi_sources/130k_reddit/R/R/Rosamunde-1.mid\n",
      "Error converting midi to sequence 'NoneType' object has no attribute 'open' data/midi/v8/midi_sources/130k_reddit/R/R/rocketm.mid\n",
      "Error converting midi to sequence 'NoneType' object has no attribute 'open' data/midi/v8/midi_sources/130k_reddit/R/R/REM.Man of the moon.MID\n",
      "Error converting midi to sequence 'NoneType' object has no attribute 'open' data/midi/v8/midi_sources/130k_reddit/R/R/Rumor-Has-It-2.mid\n",
      "Error converting midi to sequence 'NoneType' object has no attribute 'open' data/midi/v8/midi_sources/130k_reddit/R/R/rainydysmond.mid\n",
      "Error converting midi to sequence 'NoneType' object has no attribute 'open' data/midi/v8/midi_sources/130k_reddit/R/R/ROD_STEWART__Sailing.mid\n",
      "Error converting midi to sequence 'NoneType' object has no attribute 'open' data/midi/v8/midi_sources/130k_reddit/R/R/ROXY MUSIC.More than this.mid\n",
      "Error converting midi to sequence 'NoneType' object has no attribute 'open' data/midi/v8/midi_sources/130k_reddit/R/R/RADIO.MID\n",
      "Error converting midi to sequence 'NoneType' object has no attribute 'open' data/midi/v8/midi_sources/130k_reddit/R/R/Rumba-Medley-2.mid\n",
      "Error converting midi to sequence 'NoneType' object has no attribute 'open' data/midi/v8/midi_sources/130k_reddit/R/R/Relax-3.mid\n",
      "Error converting midi to sequence 'NoneType' object has no attribute 'open' data/midi/v8/midi_sources/130k_reddit/R/R/Rudolph-The-Red-Nosed-Reindeer-3.mid\n",
      "Error converting midi to sequence 'NoneType' object has no attribute 'open' data/midi/v8/midi_sources/130k_reddit/R/R/ryu.mid\n",
      "Error converting midi to sequence 'NoneType' object has no attribute 'open' data/midi/v8/midi_sources/130k_reddit/R/R/RocketMan2.mid\n",
      "Error converting midi to sequence 'NoneType' object has no attribute 'open' data/midi/v8/midi_sources/130k_reddit/R/R/RescueMe3.mid\n",
      "Error converting midi to sequence 'NoneType' object has no attribute 'open' data/midi/v8/midi_sources/130k_reddit/R/R/ronda3.mid\n",
      "Error converting midi to sequence 'NoneType' object has no attribute 'open' data/midi/v8/midi_sources/130k_reddit/R/R/R.KELLY.Half on a baby.mid\n",
      "Error converting midi to sequence 'NoneType' object has no attribute 'open' data/midi/v8/midi_sources/130k_reddit/R/R/R.KING.Memphis tennesse.mid\n",
      "Error converting midi to sequence 'NoneType' object has no attribute 'open' data/midi/v8/midi_sources/130k_reddit/R/R/R_Kelly_Half_On_A_Baby.mid\n",
      "Error converting midi to sequence 'NoneType' object has no attribute 'open' data/midi/v8/midi_sources/130k_reddit/R/R/Ratlair.mid\n",
      "Error converting midi to sequence 'NoneType' object has no attribute 'open' data/midi/v8/midi_sources/130k_reddit/R/R/R.SHAYNE.Mamy blue.mid\n",
      "Error converting midi to sequence 'NoneType' object has no attribute 'open' data/midi/v8/midi_sources/130k_reddit/R/R/Roxanne-1.mid\n",
      "Error converting midi to sequence 'NoneType' object has no attribute 'open' data/midi/v8/midi_sources/130k_reddit/R/R/Relax-2.mid\n",
      "Error converting midi to sequence 'NoneType' object has no attribute 'open' data/midi/v8/midi_sources/130k_reddit/R/R/r_kelly-all_i_want.mid\n",
      "Error converting midi to sequence 'NoneType' object has no attribute 'open' data/midi/v8/midi_sources/130k_reddit/R/R/Ricky_Nelson_-_Hello_Mary_Lou.mid\n",
      "Error converting midi to sequence 'NoneType' object has no attribute 'open' data/midi/v8/midi_sources/130k_reddit/R/R/robo.mid\n",
      "Error converting midi to sequence 'NoneType' object has no attribute 'open' data/midi/v8/midi_sources/130k_reddit/R/R/ramble.mid\n",
      "Error converting midi to sequence 'NoneType' object has no attribute 'open' data/midi/v8/midi_sources/130k_reddit/R/R/Rumba-Medley-(Mississipi-&-Fernando).mid\n",
      "Error converting midi to sequence 'NoneType' object has no attribute 'open' data/midi/v8/midi_sources/130k_reddit/R/R/Rote-Rosen-Rote-Lippen-Roter-Wein.mid\n",
      "Error converting midi to sequence 'NoneType' object has no attribute 'open' data/midi/v8/midi_sources/130k_reddit/R/R/RocketMan5.mid\n",
      "Error converting midi to sequence 'NoneType' object has no attribute 'open' data/midi/v8/midi_sources/130k_reddit/R/R/Remember-You're-Mine.mid\n",
      "Error converting midi to sequence 'NoneType' object has no attribute 'open' data/midi/v8/midi_sources/130k_reddit/R/R/R Kelly - Half On A Baby.mid\n",
      "Error converting midi to sequence 'NoneType' object has no attribute 'open' data/midi/v8/midi_sources/130k_reddit/R/R/RAMBLIN.MID\n",
      "Error converting midi to sequence 'NoneType' object has no attribute 'open' data/midi/v8/midi_sources/130k_reddit/R/R/rockwithu.mid\n",
      "Error converting midi to sequence 'NoneType' object has no attribute 'open' data/midi/v8/midi_sources/130k_reddit/R/R/Raining-In-My-Heart.mid\n",
      "Error converting midi to sequence 'NoneType' object has no attribute 'open' data/midi/v8/midi_sources/130k_reddit/R/R/rwy.mid\n",
      "Error converting midi to sequence 'NoneType' object has no attribute 'open' data/midi/v8/midi_sources/130k_reddit/R/R/RockTheBoat.mid\n"
     ]
    },
    {
     "name": "stderr",
     "output_type": "stream",
     "text": [
      "midi: WARNING: Conversion error for <MidiEvent None, t=None, track=0, channel=None>: unknown midi event type: None; ignored.\n"
     ]
    }
   ],
   "source": [
    "idx2out = process_parallel(parallel_func, df_filtered.iterrows(), total=df_filtered.shape[0])"
   ]
  },
  {
   "cell_type": "code",
   "execution_count": 16,
   "metadata": {},
   "outputs": [],
   "source": [
    "tdf = pd.DataFrame(data={out_dir: list(idx2out.values())}, index=list(idx2out.keys()))"
   ]
  },
  {
   "cell_type": "code",
   "execution_count": 17,
   "metadata": {},
   "outputs": [],
   "source": [
    "merged_df = df.join(tdf)"
   ]
  },
  {
   "cell_type": "code",
   "execution_count": 18,
   "metadata": {},
   "outputs": [
    {
     "data": {
      "text/plain": [
       "((166644, 1), (185846, 22), (185846, 23))"
      ]
     },
     "execution_count": 18,
     "metadata": {},
     "output_type": "execute_result"
    }
   ],
   "source": [
    "tdf.shape, df.shape, merged_df.shape"
   ]
  },
  {
   "cell_type": "code",
   "execution_count": 20,
   "metadata": {},
   "outputs": [
    {
     "data": {
      "text/html": [
       "<div>\n",
       "<style scoped>\n",
       "    .dataframe tbody tr th:only-of-type {\n",
       "        vertical-align: middle;\n",
       "    }\n",
       "\n",
       "    .dataframe tbody tr th {\n",
       "        vertical-align: top;\n",
       "    }\n",
       "\n",
       "    .dataframe thead th {\n",
       "        text-align: right;\n",
       "    }\n",
       "</style>\n",
       "<table border=\"1\" class=\"dataframe\">\n",
       "  <thead>\n",
       "    <tr style=\"text-align: right;\">\n",
       "      <th></th>\n",
       "      <th>inferred_offset</th>\n",
       "      <th>song_url</th>\n",
       "      <th>instruments</th>\n",
       "      <th>ht_mode</th>\n",
       "      <th>midi_title</th>\n",
       "      <th>title</th>\n",
       "      <th>seconds</th>\n",
       "      <th>midi</th>\n",
       "      <th>inferred_key</th>\n",
       "      <th>quarter_length</th>\n",
       "      <th>...</th>\n",
       "      <th>ht_bpm</th>\n",
       "      <th>artist</th>\n",
       "      <th>ht_key</th>\n",
       "      <th>ht_time_signature</th>\n",
       "      <th>bpm</th>\n",
       "      <th>section</th>\n",
       "      <th>parts</th>\n",
       "      <th>genres</th>\n",
       "      <th>mxl</th>\n",
       "      <th>midi_transform</th>\n",
       "    </tr>\n",
       "  </thead>\n",
       "  <tbody>\n",
       "    <tr>\n",
       "      <th>0</th>\n",
       "      <td>0.0</td>\n",
       "      <td>https://www.hooktheory.com/theorytab/view/wayn...</td>\n",
       "      <td>Piano</td>\n",
       "      <td>1.0</td>\n",
       "      <td>yu-gi-oh</td>\n",
       "      <td>yu-gi-oh-theme-song</td>\n",
       "      <td>25.411765</td>\n",
       "      <td>midi_sources/hooktheory/pianoroll/w/wayne-shar...</td>\n",
       "      <td>C major</td>\n",
       "      <td>36.0</td>\n",
       "      <td>...</td>\n",
       "      <td>85.0</td>\n",
       "      <td>wayne-sharpe</td>\n",
       "      <td>C</td>\n",
       "      <td>3.0</td>\n",
       "      <td>85.0</td>\n",
       "      <td>intro</td>\n",
       "      <td>intro,chorus</td>\n",
       "      <td>NaN</td>\n",
       "      <td>NaN</td>\n",
       "      <td>midi_transform/hooktheory/pianoroll/w/wayne-sh...</td>\n",
       "    </tr>\n",
       "    <tr>\n",
       "      <th>1</th>\n",
       "      <td>0.0</td>\n",
       "      <td>https://www.hooktheory.com/theorytab/view/wayn...</td>\n",
       "      <td>Piano,Piano</td>\n",
       "      <td>1.0</td>\n",
       "      <td>yu-gi-oh3</td>\n",
       "      <td>yu-gi-oh-theme-song</td>\n",
       "      <td>15.000000</td>\n",
       "      <td>midi_sources/hooktheory/pianoroll/w/wayne-shar...</td>\n",
       "      <td>C major</td>\n",
       "      <td>32.0</td>\n",
       "      <td>...</td>\n",
       "      <td>128.0</td>\n",
       "      <td>wayne-sharpe</td>\n",
       "      <td>C</td>\n",
       "      <td>4.0</td>\n",
       "      <td>128.0</td>\n",
       "      <td>chorus</td>\n",
       "      <td>intro,chorus</td>\n",
       "      <td>NaN</td>\n",
       "      <td>NaN</td>\n",
       "      <td>midi_transform/hooktheory/pianoroll/w/wayne-sh...</td>\n",
       "    </tr>\n",
       "    <tr>\n",
       "      <th>2</th>\n",
       "      <td>5.0</td>\n",
       "      <td>https://www.hooktheory.com/theorytab/view/what...</td>\n",
       "      <td>Piano,Piano</td>\n",
       "      <td>1.0</td>\n",
       "      <td>kiefer</td>\n",
       "      <td>kiefer</td>\n",
       "      <td>10.000000</td>\n",
       "      <td>midi_sources/hooktheory/pianoroll/w/what-a-day...</td>\n",
       "      <td>E minor</td>\n",
       "      <td>16.0</td>\n",
       "      <td>...</td>\n",
       "      <td>96.0</td>\n",
       "      <td>what-a-day</td>\n",
       "      <td>C</td>\n",
       "      <td>4.0</td>\n",
       "      <td>96.0</td>\n",
       "      <td>chorus</td>\n",
       "      <td>chorus</td>\n",
       "      <td>Jazz</td>\n",
       "      <td>NaN</td>\n",
       "      <td>midi_transform/hooktheory/pianoroll/w/what-a-d...</td>\n",
       "    </tr>\n",
       "    <tr>\n",
       "      <th>3</th>\n",
       "      <td>NaN</td>\n",
       "      <td>https://www.hooktheory.com/theorytab/view/weez...</td>\n",
       "      <td>NaN</td>\n",
       "      <td>1.0</td>\n",
       "      <td>My New Song</td>\n",
       "      <td>beverly-hills</td>\n",
       "      <td>NaN</td>\n",
       "      <td>midi_sources/hooktheory/pianoroll/w/weezer/bev...</td>\n",
       "      <td>NaN</td>\n",
       "      <td>NaN</td>\n",
       "      <td>...</td>\n",
       "      <td>128.0</td>\n",
       "      <td>weezer</td>\n",
       "      <td>C</td>\n",
       "      <td>4.0</td>\n",
       "      <td>NaN</td>\n",
       "      <td>intro-and-verse</td>\n",
       "      <td>intro-and-verse</td>\n",
       "      <td>NaN</td>\n",
       "      <td>NaN</td>\n",
       "      <td>NaN</td>\n",
       "    </tr>\n",
       "    <tr>\n",
       "      <th>4</th>\n",
       "      <td>0.0</td>\n",
       "      <td>https://www.hooktheory.com/theorytab/view/weez...</td>\n",
       "      <td>Piano,Piano</td>\n",
       "      <td>1.0</td>\n",
       "      <td>Weezer - Fall Together</td>\n",
       "      <td>fall-together-</td>\n",
       "      <td>10.322581</td>\n",
       "      <td>midi_sources/hooktheory/pianoroll/w/weezer/fal...</td>\n",
       "      <td>A minor</td>\n",
       "      <td>16.0</td>\n",
       "      <td>...</td>\n",
       "      <td>93.0</td>\n",
       "      <td>weezer</td>\n",
       "      <td>C</td>\n",
       "      <td>4.0</td>\n",
       "      <td>93.0</td>\n",
       "      <td>chorus</td>\n",
       "      <td>chorus</td>\n",
       "      <td>Rock</td>\n",
       "      <td>NaN</td>\n",
       "      <td>midi_transform/hooktheory/pianoroll/w/weezer/f...</td>\n",
       "    </tr>\n",
       "  </tbody>\n",
       "</table>\n",
       "<p>5 rows × 23 columns</p>\n",
       "</div>"
      ],
      "text/plain": [
       "   inferred_offset                                           song_url  \\\n",
       "0              0.0  https://www.hooktheory.com/theorytab/view/wayn...   \n",
       "1              0.0  https://www.hooktheory.com/theorytab/view/wayn...   \n",
       "2              5.0  https://www.hooktheory.com/theorytab/view/what...   \n",
       "3              NaN  https://www.hooktheory.com/theorytab/view/weez...   \n",
       "4              0.0  https://www.hooktheory.com/theorytab/view/weez...   \n",
       "\n",
       "   instruments  ht_mode              midi_title                title  \\\n",
       "0        Piano      1.0                yu-gi-oh  yu-gi-oh-theme-song   \n",
       "1  Piano,Piano      1.0               yu-gi-oh3  yu-gi-oh-theme-song   \n",
       "2  Piano,Piano      1.0                  kiefer               kiefer   \n",
       "3          NaN      1.0             My New Song        beverly-hills   \n",
       "4  Piano,Piano      1.0  Weezer - Fall Together       fall-together-   \n",
       "\n",
       "     seconds                                               midi inferred_key  \\\n",
       "0  25.411765  midi_sources/hooktheory/pianoroll/w/wayne-shar...      C major   \n",
       "1  15.000000  midi_sources/hooktheory/pianoroll/w/wayne-shar...      C major   \n",
       "2  10.000000  midi_sources/hooktheory/pianoroll/w/what-a-day...      E minor   \n",
       "3        NaN  midi_sources/hooktheory/pianoroll/w/weezer/bev...          NaN   \n",
       "4  10.322581  midi_sources/hooktheory/pianoroll/w/weezer/fal...      A minor   \n",
       "\n",
       "  quarter_length                        ...                         ht_bpm  \\\n",
       "0           36.0                        ...                           85.0   \n",
       "1           32.0                        ...                          128.0   \n",
       "2           16.0                        ...                           96.0   \n",
       "3            NaN                        ...                          128.0   \n",
       "4           16.0                        ...                           93.0   \n",
       "\n",
       "         artist  ht_key  ht_time_signature    bpm          section  \\\n",
       "0  wayne-sharpe       C                3.0   85.0            intro   \n",
       "1  wayne-sharpe       C                4.0  128.0           chorus   \n",
       "2    what-a-day       C                4.0   96.0           chorus   \n",
       "3        weezer       C                4.0    NaN  intro-and-verse   \n",
       "4        weezer       C                4.0   93.0           chorus   \n",
       "\n",
       "             parts  genres  mxl  \\\n",
       "0     intro,chorus     NaN  NaN   \n",
       "1     intro,chorus     NaN  NaN   \n",
       "2           chorus    Jazz  NaN   \n",
       "3  intro-and-verse     NaN  NaN   \n",
       "4           chorus    Rock  NaN   \n",
       "\n",
       "                                      midi_transform  \n",
       "0  midi_transform/hooktheory/pianoroll/w/wayne-sh...  \n",
       "1  midi_transform/hooktheory/pianoroll/w/wayne-sh...  \n",
       "2  midi_transform/hooktheory/pianoroll/w/what-a-d...  \n",
       "3                                                NaN  \n",
       "4  midi_transform/hooktheory/pianoroll/w/weezer/f...  \n",
       "\n",
       "[5 rows x 23 columns]"
      ]
     },
     "execution_count": 20,
     "metadata": {},
     "output_type": "execute_result"
    }
   ],
   "source": [
    "merged_df.to_csv(out_csv, index=False); merged_df.head()"
   ]
  },
  {
   "cell_type": "code",
   "execution_count": null,
   "metadata": {},
   "outputs": [],
   "source": []
  }
 ],
 "metadata": {
  "kernelspec": {
   "display_name": "Python 3",
   "language": "python",
   "name": "python3"
  },
  "language_info": {
   "codemirror_mode": {
    "name": "ipython",
    "version": 3
   },
   "file_extension": ".py",
   "mimetype": "text/x-python",
   "name": "python",
   "nbconvert_exporter": "python",
   "pygments_lexer": "ipython3",
   "version": "3.7.1"
  }
 },
 "nbformat": 4,
 "nbformat_minor": 2
}

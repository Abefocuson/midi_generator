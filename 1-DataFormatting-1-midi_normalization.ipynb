{
 "cells": [
  {
   "cell_type": "code",
   "execution_count": 1,
   "metadata": {},
   "outputs": [],
   "source": [
    "%reload_ext autoreload\n",
    "%autoreload 2\n",
    "%matplotlib inline"
   ]
  },
  {
   "cell_type": "code",
   "execution_count": 2,
   "metadata": {},
   "outputs": [],
   "source": [
    "from encode_data import *\n",
    "from midi_data import *"
   ]
  },
  {
   "cell_type": "code",
   "execution_count": 3,
   "metadata": {},
   "outputs": [],
   "source": [
    "from tqdm import tqdm"
   ]
  },
  {
   "cell_type": "markdown",
   "metadata": {},
   "source": [
    "## Standardize and reformat raw midi files before encoding to text\n",
    "- Transform key to C major\n",
    "- Remove unused instruments\n",
    "- Combine multiple tracks with the same instrument into a single part\n",
    "- Melody, Piano, String"
   ]
  },
  {
   "cell_type": "markdown",
   "metadata": {},
   "source": [
    "### Load midi data"
   ]
  },
  {
   "cell_type": "code",
   "execution_count": 4,
   "metadata": {},
   "outputs": [],
   "source": [
    "version = 'v4'\n",
    "data_path = Path('data/midi')\n",
    "version_path = data_path/version"
   ]
  },
  {
   "cell_type": "code",
   "execution_count": 5,
   "metadata": {},
   "outputs": [],
   "source": [
    "import pandas as pd"
   ]
  },
  {
   "cell_type": "code",
   "execution_count": 6,
   "metadata": {},
   "outputs": [
    {
     "data": {
      "text/plain": [
       "(PosixPath('data/midi/v4/metadata/midi_sources.csv'),\n",
       " PosixPath('data/midi/v4/midi_transform/midi_transform.csv'))"
      ]
     },
     "execution_count": 6,
     "metadata": {},
     "output_type": "execute_result"
    }
   ],
   "source": [
    "source_dir = 'midi_sources'\n",
    "out_dir = 'midi_transform'\n",
    "source_csv = version_path/'metadata'/f'{source_dir}.csv'\n",
    "out_csv = version_path/out_dir/f'{out_dir}.csv'\n",
    "out_csv.parent.mkdir(parents=True, exist_ok=True)\n",
    "source_csv, out_csv"
   ]
  },
  {
   "cell_type": "code",
   "execution_count": 7,
   "metadata": {},
   "outputs": [
    {
     "name": "stderr",
     "output_type": "stream",
     "text": [
      "/home/ubuntu/anaconda3/envs/midi/lib/python3.7/site-packages/IPython/core/interactiveshell.py:3020: DtypeWarning: Columns (3,4,9,12,15) have mixed types. Specify dtype option on import or set low_memory=False.\n",
      "  interactivity=interactivity, compiler=compiler, result=result)\n"
     ]
    },
    {
     "data": {
      "text/html": [
       "<div>\n",
       "<style scoped>\n",
       "    .dataframe tbody tr th:only-of-type {\n",
       "        vertical-align: middle;\n",
       "    }\n",
       "\n",
       "    .dataframe tbody tr th {\n",
       "        vertical-align: top;\n",
       "    }\n",
       "\n",
       "    .dataframe thead th {\n",
       "        text-align: right;\n",
       "    }\n",
       "</style>\n",
       "<table border=\"1\" class=\"dataframe\">\n",
       "  <thead>\n",
       "    <tr style=\"text-align: right;\">\n",
       "      <th></th>\n",
       "      <th>genres</th>\n",
       "      <th>ht_offset</th>\n",
       "      <th>source</th>\n",
       "      <th>song_url</th>\n",
       "      <th>parts</th>\n",
       "      <th>seconds</th>\n",
       "      <th>inferred_offset</th>\n",
       "      <th>title</th>\n",
       "      <th>time_signature</th>\n",
       "      <th>ht_key</th>\n",
       "      <th>...</th>\n",
       "      <th>section</th>\n",
       "      <th>instruments</th>\n",
       "      <th>ht_mode</th>\n",
       "      <th>midi_title</th>\n",
       "      <th>ht_bpm</th>\n",
       "      <th>bpm</th>\n",
       "      <th>midi</th>\n",
       "      <th>inferred_key</th>\n",
       "      <th>quarter_length</th>\n",
       "      <th>mxl</th>\n",
       "    </tr>\n",
       "  </thead>\n",
       "  <tbody>\n",
       "    <tr>\n",
       "      <th>0</th>\n",
       "      <td>NaN</td>\n",
       "      <td>0.0</td>\n",
       "      <td>hooktheory</td>\n",
       "      <td>https://www.hooktheory.com/theorytab/view/wayn...</td>\n",
       "      <td>intro,chorus</td>\n",
       "      <td>25.411765</td>\n",
       "      <td>0.0</td>\n",
       "      <td>yu-gi-oh-theme-song</td>\n",
       "      <td>3/4</td>\n",
       "      <td>C</td>\n",
       "      <td>...</td>\n",
       "      <td>intro</td>\n",
       "      <td>Piano</td>\n",
       "      <td>1.0</td>\n",
       "      <td>yu-gi-oh</td>\n",
       "      <td>85.0</td>\n",
       "      <td>85.0</td>\n",
       "      <td>midi_sources/hooktheory/pianoroll/w/wayne-shar...</td>\n",
       "      <td>C major</td>\n",
       "      <td>36.0</td>\n",
       "      <td>NaN</td>\n",
       "    </tr>\n",
       "    <tr>\n",
       "      <th>1</th>\n",
       "      <td>Holiday</td>\n",
       "      <td>-1.0</td>\n",
       "      <td>hooktheory</td>\n",
       "      <td>https://www.hooktheory.com/theorytab/view/wham...</td>\n",
       "      <td>intro,verse,chorus</td>\n",
       "      <td>17.777778</td>\n",
       "      <td>-1.0</td>\n",
       "      <td>last-christmas</td>\n",
       "      <td>4/4</td>\n",
       "      <td>Db</td>\n",
       "      <td>...</td>\n",
       "      <td>chorus</td>\n",
       "      <td>Piano,Piano</td>\n",
       "      <td>1.0</td>\n",
       "      <td>Last Christmas Chorus</td>\n",
       "      <td>108.0</td>\n",
       "      <td>108.0</td>\n",
       "      <td>midi_sources/hooktheory/pianoroll/w/wham/last-...</td>\n",
       "      <td>B- minor</td>\n",
       "      <td>32.0</td>\n",
       "      <td>NaN</td>\n",
       "    </tr>\n",
       "    <tr>\n",
       "      <th>2</th>\n",
       "      <td>NaN</td>\n",
       "      <td>6.0</td>\n",
       "      <td>hooktheory</td>\n",
       "      <td>https://www.hooktheory.com/theorytab/view/wolf...</td>\n",
       "      <td>verse</td>\n",
       "      <td>15.118110</td>\n",
       "      <td>1.0</td>\n",
       "      <td>love-and-war</td>\n",
       "      <td>4/4</td>\n",
       "      <td>G#</td>\n",
       "      <td>...</td>\n",
       "      <td>verse</td>\n",
       "      <td>Piano,Piano</td>\n",
       "      <td>2.0</td>\n",
       "      <td>wolfgang gartner love and war</td>\n",
       "      <td>127.0</td>\n",
       "      <td>127.0</td>\n",
       "      <td>midi_sources/hooktheory/pianoroll/w/wolfgang-g...</td>\n",
       "      <td>G# minor</td>\n",
       "      <td>32.0</td>\n",
       "      <td>NaN</td>\n",
       "    </tr>\n",
       "    <tr>\n",
       "      <th>3</th>\n",
       "      <td>Electronic</td>\n",
       "      <td>3.0</td>\n",
       "      <td>hooktheory</td>\n",
       "      <td>https://www.hooktheory.com/theorytab/view/wood...</td>\n",
       "      <td>intro,bridge</td>\n",
       "      <td>12.972973</td>\n",
       "      <td>-2.0</td>\n",
       "      <td>rainbow-factory</td>\n",
       "      <td>4/4</td>\n",
       "      <td>F#</td>\n",
       "      <td>...</td>\n",
       "      <td>intro</td>\n",
       "      <td>Piano,Piano</td>\n",
       "      <td>6.0</td>\n",
       "      <td>Rainbow Factory</td>\n",
       "      <td>148.0</td>\n",
       "      <td>148.0</td>\n",
       "      <td>midi_sources/hooktheory/pianoroll/w/woodentoas...</td>\n",
       "      <td>D major</td>\n",
       "      <td>32.0</td>\n",
       "      <td>NaN</td>\n",
       "    </tr>\n",
       "    <tr>\n",
       "      <th>4</th>\n",
       "      <td>NaN</td>\n",
       "      <td>8.0</td>\n",
       "      <td>hooktheory</td>\n",
       "      <td>https://www.hooktheory.com/theorytab/view/wolf...</td>\n",
       "      <td>pre-chorus</td>\n",
       "      <td>15.000000</td>\n",
       "      <td>1.0</td>\n",
       "      <td>space-junk</td>\n",
       "      <td>4/4</td>\n",
       "      <td>F#</td>\n",
       "      <td>...</td>\n",
       "      <td>pre-chorus</td>\n",
       "      <td>Piano,Piano</td>\n",
       "      <td>2.0</td>\n",
       "      <td>Space Junk</td>\n",
       "      <td>128.0</td>\n",
       "      <td>128.0</td>\n",
       "      <td>midi_sources/hooktheory/pianoroll/w/wolfgang-g...</td>\n",
       "      <td>B major</td>\n",
       "      <td>32.0</td>\n",
       "      <td>NaN</td>\n",
       "    </tr>\n",
       "  </tbody>\n",
       "</table>\n",
       "<p>5 rows × 22 columns</p>\n",
       "</div>"
      ],
      "text/plain": [
       "       genres  ht_offset      source  \\\n",
       "0         NaN        0.0  hooktheory   \n",
       "1     Holiday       -1.0  hooktheory   \n",
       "2         NaN        6.0  hooktheory   \n",
       "3  Electronic        3.0  hooktheory   \n",
       "4         NaN        8.0  hooktheory   \n",
       "\n",
       "                                            song_url               parts  \\\n",
       "0  https://www.hooktheory.com/theorytab/view/wayn...        intro,chorus   \n",
       "1  https://www.hooktheory.com/theorytab/view/wham...  intro,verse,chorus   \n",
       "2  https://www.hooktheory.com/theorytab/view/wolf...               verse   \n",
       "3  https://www.hooktheory.com/theorytab/view/wood...        intro,bridge   \n",
       "4  https://www.hooktheory.com/theorytab/view/wolf...          pre-chorus   \n",
       "\n",
       "     seconds  inferred_offset                title time_signature ht_key ...   \\\n",
       "0  25.411765              0.0  yu-gi-oh-theme-song            3/4      C ...    \n",
       "1  17.777778             -1.0       last-christmas            4/4     Db ...    \n",
       "2  15.118110              1.0         love-and-war            4/4     G# ...    \n",
       "3  12.972973             -2.0      rainbow-factory            4/4     F# ...    \n",
       "4  15.000000              1.0           space-junk            4/4     F# ...    \n",
       "\n",
       "      section  instruments ht_mode                     midi_title  ht_bpm  \\\n",
       "0       intro        Piano     1.0                       yu-gi-oh    85.0   \n",
       "1      chorus  Piano,Piano     1.0          Last Christmas Chorus   108.0   \n",
       "2       verse  Piano,Piano     2.0  wolfgang gartner love and war   127.0   \n",
       "3       intro  Piano,Piano     6.0                Rainbow Factory   148.0   \n",
       "4  pre-chorus  Piano,Piano     2.0                     Space Junk   128.0   \n",
       "\n",
       "     bpm                                               midi  inferred_key  \\\n",
       "0   85.0  midi_sources/hooktheory/pianoroll/w/wayne-shar...       C major   \n",
       "1  108.0  midi_sources/hooktheory/pianoroll/w/wham/last-...      B- minor   \n",
       "2  127.0  midi_sources/hooktheory/pianoroll/w/wolfgang-g...      G# minor   \n",
       "3  148.0  midi_sources/hooktheory/pianoroll/w/woodentoas...       D major   \n",
       "4  128.0  midi_sources/hooktheory/pianoroll/w/wolfgang-g...       B major   \n",
       "\n",
       "  quarter_length  mxl  \n",
       "0           36.0  NaN  \n",
       "1           32.0  NaN  \n",
       "2           32.0  NaN  \n",
       "3           32.0  NaN  \n",
       "4           32.0  NaN  \n",
       "\n",
       "[5 rows x 22 columns]"
      ]
     },
     "execution_count": 7,
     "metadata": {},
     "output_type": "execute_result"
    }
   ],
   "source": [
    "df = pd.read_csv(source_csv); df.head()"
   ]
  },
  {
   "cell_type": "code",
   "execution_count": 8,
   "metadata": {},
   "outputs": [
    {
     "data": {
      "text/plain": [
       "(33287, 22)"
      ]
     },
     "execution_count": 8,
     "metadata": {},
     "output_type": "execute_result"
    }
   ],
   "source": [
    "df_filter = (df['time_signature'] == '4/4') | (df['ht_time_signature'] == 4.0) & (df['seconds'] > 0)\n",
    "df_filtered = df.loc[df_filter]; df_filtered.shape"
   ]
  },
  {
   "cell_type": "code",
   "execution_count": 9,
   "metadata": {},
   "outputs": [],
   "source": [
    "from data_sources import process_parallel"
   ]
  },
  {
   "cell_type": "code",
   "execution_count": 10,
   "metadata": {},
   "outputs": [],
   "source": [
    "from midi_transform import *"
   ]
  },
  {
   "cell_type": "markdown",
   "metadata": {},
   "source": [
    "### Need better midi formatting"
   ]
  },
  {
   "cell_type": "code",
   "execution_count": 11,
   "metadata": {},
   "outputs": [],
   "source": [
    "def transform_midi_from_row(idxrow, base_path):\n",
    "    idx,row = idxrow\n",
    "    midi_file = row.midi\n",
    "    if not isinstance(midi_file, str): return idx,None\n",
    "    midi_file = Path(base_path)/midi_file\n",
    "    if not midi_file.exists(): return idx, None\n",
    "    \n",
    "    out_file = Path(str(midi_file).replace(f'/{source_dir}/', f'/{out_dir}/'))\n",
    "    out_file.parent.mkdir(parents=True, exist_ok=True)\n",
    "    if out_file.exists(): return idx,str(out_file.relative_to(base_path))\n",
    "    \n",
    "    offset = row.ht_offset if row.source == 'hooktheory' else row.inferred_offset\n",
    "    try:\n",
    "        transform_midi(midi_file, out_file, offset=offset)\n",
    "    except Exception as e:\n",
    "        print('Exception with midifile:', midi_file, e)\n",
    "        return idx, None\n",
    "    return idx, str(out_file.relative_to(base_path))"
   ]
  },
  {
   "cell_type": "code",
   "execution_count": 12,
   "metadata": {},
   "outputs": [],
   "source": [
    "from functools import partial\n",
    "parse_func = partial(transform_midi_from_row, base_path=version_path)"
   ]
  },
  {
   "cell_type": "code",
   "execution_count": 13,
   "metadata": {},
   "outputs": [],
   "source": [
    "for r in df_filtered.iterrows():\n",
    "    parse_func(r)\n",
    "    break"
   ]
  },
  {
   "cell_type": "code",
   "execution_count": null,
   "metadata": {},
   "outputs": [],
   "source": [
    "### AS TOD: Fix 'info channel is not channel 0' error"
   ]
  },
  {
   "cell_type": "code",
   "execution_count": null,
   "metadata": {
    "scrolled": false
   },
   "outputs": [],
   "source": [
    "idx2out = process_parallel(parse_func, df_filtered.iterrows(), total=df_filtered.shape[0])"
   ]
  },
  {
   "cell_type": "code",
   "execution_count": 15,
   "metadata": {},
   "outputs": [],
   "source": [
    "tdf = pd.DataFrame(data={out_dir: list(idx2out.values())}, index=list(idx2out.keys()))"
   ]
  },
  {
   "cell_type": "code",
   "execution_count": 16,
   "metadata": {},
   "outputs": [],
   "source": [
    "merged_df = df.join(tdf)"
   ]
  },
  {
   "cell_type": "code",
   "execution_count": 17,
   "metadata": {},
   "outputs": [
    {
     "data": {
      "text/plain": [
       "((33287, 1), (39943, 22), (39943, 23))"
      ]
     },
     "execution_count": 17,
     "metadata": {},
     "output_type": "execute_result"
    }
   ],
   "source": [
    "tdf.shape, df.shape, merged_df.shape"
   ]
  },
  {
   "cell_type": "code",
   "execution_count": 18,
   "metadata": {},
   "outputs": [
    {
     "data": {
      "text/html": [
       "<div>\n",
       "<style scoped>\n",
       "    .dataframe tbody tr th:only-of-type {\n",
       "        vertical-align: middle;\n",
       "    }\n",
       "\n",
       "    .dataframe tbody tr th {\n",
       "        vertical-align: top;\n",
       "    }\n",
       "\n",
       "    .dataframe thead th {\n",
       "        text-align: right;\n",
       "    }\n",
       "</style>\n",
       "<table border=\"1\" class=\"dataframe\">\n",
       "  <thead>\n",
       "    <tr style=\"text-align: right;\">\n",
       "      <th></th>\n",
       "      <th>genres</th>\n",
       "      <th>ht_offset</th>\n",
       "      <th>source</th>\n",
       "      <th>song_url</th>\n",
       "      <th>parts</th>\n",
       "      <th>seconds</th>\n",
       "      <th>inferred_offset</th>\n",
       "      <th>title</th>\n",
       "      <th>time_signature</th>\n",
       "      <th>ht_key</th>\n",
       "      <th>...</th>\n",
       "      <th>instruments</th>\n",
       "      <th>ht_mode</th>\n",
       "      <th>midi_title</th>\n",
       "      <th>ht_bpm</th>\n",
       "      <th>bpm</th>\n",
       "      <th>midi</th>\n",
       "      <th>inferred_key</th>\n",
       "      <th>quarter_length</th>\n",
       "      <th>mxl</th>\n",
       "      <th>midi_transform</th>\n",
       "    </tr>\n",
       "  </thead>\n",
       "  <tbody>\n",
       "    <tr>\n",
       "      <th>0</th>\n",
       "      <td>NaN</td>\n",
       "      <td>0.0</td>\n",
       "      <td>hooktheory</td>\n",
       "      <td>https://www.hooktheory.com/theorytab/view/wayn...</td>\n",
       "      <td>intro,chorus</td>\n",
       "      <td>25.411765</td>\n",
       "      <td>0.0</td>\n",
       "      <td>yu-gi-oh-theme-song</td>\n",
       "      <td>3/4</td>\n",
       "      <td>C</td>\n",
       "      <td>...</td>\n",
       "      <td>Piano</td>\n",
       "      <td>1.0</td>\n",
       "      <td>yu-gi-oh</td>\n",
       "      <td>85.0</td>\n",
       "      <td>85.0</td>\n",
       "      <td>midi_sources/hooktheory/pianoroll/w/wayne-shar...</td>\n",
       "      <td>C major</td>\n",
       "      <td>36.0</td>\n",
       "      <td>NaN</td>\n",
       "      <td>NaN</td>\n",
       "    </tr>\n",
       "    <tr>\n",
       "      <th>1</th>\n",
       "      <td>Holiday</td>\n",
       "      <td>-1.0</td>\n",
       "      <td>hooktheory</td>\n",
       "      <td>https://www.hooktheory.com/theorytab/view/wham...</td>\n",
       "      <td>intro,verse,chorus</td>\n",
       "      <td>17.777778</td>\n",
       "      <td>-1.0</td>\n",
       "      <td>last-christmas</td>\n",
       "      <td>4/4</td>\n",
       "      <td>Db</td>\n",
       "      <td>...</td>\n",
       "      <td>Piano,Piano</td>\n",
       "      <td>1.0</td>\n",
       "      <td>Last Christmas Chorus</td>\n",
       "      <td>108.0</td>\n",
       "      <td>108.0</td>\n",
       "      <td>midi_sources/hooktheory/pianoroll/w/wham/last-...</td>\n",
       "      <td>B- minor</td>\n",
       "      <td>32.0</td>\n",
       "      <td>NaN</td>\n",
       "      <td>midi_transform/hooktheory/pianoroll/w/wham/las...</td>\n",
       "    </tr>\n",
       "    <tr>\n",
       "      <th>2</th>\n",
       "      <td>NaN</td>\n",
       "      <td>6.0</td>\n",
       "      <td>hooktheory</td>\n",
       "      <td>https://www.hooktheory.com/theorytab/view/wolf...</td>\n",
       "      <td>verse</td>\n",
       "      <td>15.118110</td>\n",
       "      <td>1.0</td>\n",
       "      <td>love-and-war</td>\n",
       "      <td>4/4</td>\n",
       "      <td>G#</td>\n",
       "      <td>...</td>\n",
       "      <td>Piano,Piano</td>\n",
       "      <td>2.0</td>\n",
       "      <td>wolfgang gartner love and war</td>\n",
       "      <td>127.0</td>\n",
       "      <td>127.0</td>\n",
       "      <td>midi_sources/hooktheory/pianoroll/w/wolfgang-g...</td>\n",
       "      <td>G# minor</td>\n",
       "      <td>32.0</td>\n",
       "      <td>NaN</td>\n",
       "      <td>midi_transform/hooktheory/pianoroll/w/wolfgang...</td>\n",
       "    </tr>\n",
       "    <tr>\n",
       "      <th>3</th>\n",
       "      <td>Electronic</td>\n",
       "      <td>3.0</td>\n",
       "      <td>hooktheory</td>\n",
       "      <td>https://www.hooktheory.com/theorytab/view/wood...</td>\n",
       "      <td>intro,bridge</td>\n",
       "      <td>12.972973</td>\n",
       "      <td>-2.0</td>\n",
       "      <td>rainbow-factory</td>\n",
       "      <td>4/4</td>\n",
       "      <td>F#</td>\n",
       "      <td>...</td>\n",
       "      <td>Piano,Piano</td>\n",
       "      <td>6.0</td>\n",
       "      <td>Rainbow Factory</td>\n",
       "      <td>148.0</td>\n",
       "      <td>148.0</td>\n",
       "      <td>midi_sources/hooktheory/pianoroll/w/woodentoas...</td>\n",
       "      <td>D major</td>\n",
       "      <td>32.0</td>\n",
       "      <td>NaN</td>\n",
       "      <td>midi_transform/hooktheory/pianoroll/w/woodento...</td>\n",
       "    </tr>\n",
       "    <tr>\n",
       "      <th>4</th>\n",
       "      <td>NaN</td>\n",
       "      <td>8.0</td>\n",
       "      <td>hooktheory</td>\n",
       "      <td>https://www.hooktheory.com/theorytab/view/wolf...</td>\n",
       "      <td>pre-chorus</td>\n",
       "      <td>15.000000</td>\n",
       "      <td>1.0</td>\n",
       "      <td>space-junk</td>\n",
       "      <td>4/4</td>\n",
       "      <td>F#</td>\n",
       "      <td>...</td>\n",
       "      <td>Piano,Piano</td>\n",
       "      <td>2.0</td>\n",
       "      <td>Space Junk</td>\n",
       "      <td>128.0</td>\n",
       "      <td>128.0</td>\n",
       "      <td>midi_sources/hooktheory/pianoroll/w/wolfgang-g...</td>\n",
       "      <td>B major</td>\n",
       "      <td>32.0</td>\n",
       "      <td>NaN</td>\n",
       "      <td>midi_transform/hooktheory/pianoroll/w/wolfgang...</td>\n",
       "    </tr>\n",
       "  </tbody>\n",
       "</table>\n",
       "<p>5 rows × 23 columns</p>\n",
       "</div>"
      ],
      "text/plain": [
       "       genres  ht_offset      source  \\\n",
       "0         NaN        0.0  hooktheory   \n",
       "1     Holiday       -1.0  hooktheory   \n",
       "2         NaN        6.0  hooktheory   \n",
       "3  Electronic        3.0  hooktheory   \n",
       "4         NaN        8.0  hooktheory   \n",
       "\n",
       "                                            song_url               parts  \\\n",
       "0  https://www.hooktheory.com/theorytab/view/wayn...        intro,chorus   \n",
       "1  https://www.hooktheory.com/theorytab/view/wham...  intro,verse,chorus   \n",
       "2  https://www.hooktheory.com/theorytab/view/wolf...               verse   \n",
       "3  https://www.hooktheory.com/theorytab/view/wood...        intro,bridge   \n",
       "4  https://www.hooktheory.com/theorytab/view/wolf...          pre-chorus   \n",
       "\n",
       "     seconds  inferred_offset                title time_signature ht_key  \\\n",
       "0  25.411765              0.0  yu-gi-oh-theme-song            3/4      C   \n",
       "1  17.777778             -1.0       last-christmas            4/4     Db   \n",
       "2  15.118110              1.0         love-and-war            4/4     G#   \n",
       "3  12.972973             -2.0      rainbow-factory            4/4     F#   \n",
       "4  15.000000              1.0           space-junk            4/4     F#   \n",
       "\n",
       "                         ...                          instruments  ht_mode  \\\n",
       "0                        ...                                Piano      1.0   \n",
       "1                        ...                          Piano,Piano      1.0   \n",
       "2                        ...                          Piano,Piano      2.0   \n",
       "3                        ...                          Piano,Piano      6.0   \n",
       "4                        ...                          Piano,Piano      2.0   \n",
       "\n",
       "                      midi_title ht_bpm    bpm  \\\n",
       "0                       yu-gi-oh   85.0   85.0   \n",
       "1          Last Christmas Chorus  108.0  108.0   \n",
       "2  wolfgang gartner love and war  127.0  127.0   \n",
       "3                Rainbow Factory  148.0  148.0   \n",
       "4                     Space Junk  128.0  128.0   \n",
       "\n",
       "                                                midi  inferred_key  \\\n",
       "0  midi_sources/hooktheory/pianoroll/w/wayne-shar...       C major   \n",
       "1  midi_sources/hooktheory/pianoroll/w/wham/last-...      B- minor   \n",
       "2  midi_sources/hooktheory/pianoroll/w/wolfgang-g...      G# minor   \n",
       "3  midi_sources/hooktheory/pianoroll/w/woodentoas...       D major   \n",
       "4  midi_sources/hooktheory/pianoroll/w/wolfgang-g...       B major   \n",
       "\n",
       "   quarter_length  mxl                                     midi_transform  \n",
       "0            36.0  NaN                                                NaN  \n",
       "1            32.0  NaN  midi_transform/hooktheory/pianoroll/w/wham/las...  \n",
       "2            32.0  NaN  midi_transform/hooktheory/pianoroll/w/wolfgang...  \n",
       "3            32.0  NaN  midi_transform/hooktheory/pianoroll/w/woodento...  \n",
       "4            32.0  NaN  midi_transform/hooktheory/pianoroll/w/wolfgang...  \n",
       "\n",
       "[5 rows x 23 columns]"
      ]
     },
     "execution_count": 18,
     "metadata": {},
     "output_type": "execute_result"
    }
   ],
   "source": [
    "merged_df.to_csv(out_csv, index=False); merged_df.head()"
   ]
  }
 ],
 "metadata": {
  "kernelspec": {
   "display_name": "Python 3",
   "language": "python",
   "name": "python3"
  },
  "language_info": {
   "codemirror_mode": {
    "name": "ipython",
    "version": 3
   },
   "file_extension": ".py",
   "mimetype": "text/x-python",
   "name": "python",
   "nbconvert_exporter": "python",
   "pygments_lexer": "ipython3",
   "version": "3.7.1"
  }
 },
 "nbformat": 4,
 "nbformat_minor": 2
}

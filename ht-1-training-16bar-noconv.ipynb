{
 "cells": [
  {
   "cell_type": "markdown",
   "metadata": {},
   "source": [
    "# Attention Architecture"
   ]
  },
  {
   "cell_type": "code",
   "execution_count": 1,
   "metadata": {},
   "outputs": [],
   "source": [
    "%reload_ext autoreload\n",
    "%autoreload 2\n",
    "%matplotlib inline"
   ]
  },
  {
   "cell_type": "code",
   "execution_count": 2,
   "metadata": {},
   "outputs": [],
   "source": [
    "import music21"
   ]
  },
  {
   "cell_type": "code",
   "execution_count": 3,
   "metadata": {},
   "outputs": [],
   "source": [
    "from fastai.text import *\n",
    "from transformer_xl.default_txl import get_default_model\n",
    "from enum import Enum\n",
    "import torch\n",
    "from fastai.text.models.awd_lstm import *\n",
    "from fastai.text.models.transformer import *"
   ]
  },
  {
   "cell_type": "code",
   "execution_count": 4,
   "metadata": {},
   "outputs": [],
   "source": [
    "from fastai_data import *"
   ]
  },
  {
   "cell_type": "code",
   "execution_count": 5,
   "metadata": {},
   "outputs": [],
   "source": [
    "import numpy as np\n",
    "import torch.nn as nn"
   ]
  },
  {
   "cell_type": "code",
   "execution_count": 6,
   "metadata": {},
   "outputs": [],
   "source": [
    "from ht_encode import *\n",
    "import ht_encode"
   ]
  },
  {
   "cell_type": "code",
   "execution_count": 7,
   "metadata": {},
   "outputs": [],
   "source": [
    "bs=8\n",
    "bptt=24"
   ]
  },
  {
   "cell_type": "code",
   "execution_count": 8,
   "metadata": {},
   "outputs": [],
   "source": [
    "import fastai_data\n",
    "fastai_data.Y_OFFSET=1"
   ]
  },
  {
   "cell_type": "code",
   "execution_count": 9,
   "metadata": {},
   "outputs": [],
   "source": [
    "path = Path('data/midi/v7/midi_encode/np/hook_noinv/')\n",
    "# data = LMNPDataBunch.load(path, bs=bs, bptt=bptt, cache_name='tmp/sample')\n",
    "data = LMNPDataBunch.load(path, bs=bs, bptt=bptt, cache_name='tmp/all')"
   ]
  },
  {
   "cell_type": "code",
   "execution_count": 10,
   "metadata": {},
   "outputs": [],
   "source": [
    "config = tfmerXL_lm_config"
   ]
  },
  {
   "cell_type": "code",
   "execution_count": 11,
   "metadata": {},
   "outputs": [],
   "source": [
    "PAD_IDX=ht_encode.config.pad_idx+ht_encode.config.enc_offset"
   ]
  },
  {
   "cell_type": "code",
   "execution_count": 12,
   "metadata": {},
   "outputs": [
    {
     "data": {
      "text/plain": [
       "[7, 12, 15, 13, 5, 15, 15, 15, 15, 5, 7]"
      ]
     },
     "execution_count": 12,
     "metadata": {},
     "output_type": "execute_result"
    }
   ],
   "source": [
    "train_ids_file = path/'tmp/all/train_ids.npy'\n",
    "all_ids = np.load(train_ids_file)\n",
    "id_cat = np.concatenate(all_ids); id_cat.shape\n",
    "ax = tuple(range(len(id_cat.shape)-1))\n",
    "max_vocab = id_cat.max(axis=ax)\n",
    "max_vocab = (max_vocab+1).tolist(); max_vocab"
   ]
  },
  {
   "cell_type": "code",
   "execution_count": 13,
   "metadata": {},
   "outputs": [],
   "source": [
    "\n",
    "# ENC_IDXS = [0,1,2,3,4,5,6,7,8,9,10]\n",
    "# iB,iM,iN,iNO,iND,iC1,iC2,iC3,iC4,iCD,iCI = ENC_IDXS\n",
    "# CIDXS = [iC1,iC2,iC3,iC4]\n",
    "# CIDX_ALL = CIDXS + [iCD,iCI]\n",
    "# NIDX_ALL = [iN,iNO,iND]\n",
    "# BIDX_ALL = [iB,iM]"
   ]
  },
  {
   "cell_type": "code",
   "execution_count": 14,
   "metadata": {},
   "outputs": [],
   "source": [
    "N_BAR = 16\n",
    "N_COMPS = 9\n",
    "N_EMBS = 20"
   ]
  },
  {
   "cell_type": "code",
   "execution_count": 15,
   "metadata": {},
   "outputs": [],
   "source": [
    "EMB_IDXS = [0,1,2,3,4,5]\n",
    "EMB_DIM = [N_EMBS]*len(EMB_IDXS)\n",
    "VOCAB_SZ = [max_vocab[i] for i in [iN,iNO,iND,iCI,iB,iM]]\n",
    "EMB_MAP = list(zip(EMB_IDXS,VOCAB_SZ,EMB_DIM))\n",
    "eN,eO,eD,eI,eB,eM = EMB_MAP"
   ]
  },
  {
   "cell_type": "code",
   "execution_count": 16,
   "metadata": {},
   "outputs": [],
   "source": [
    "idx2embidx = {\n",
    "    iN:eN,iNO:eO,iND:eD,\n",
    "    iC1:eN,iC2:eN,iC3:eN,iC4:eN,iCD:eD,iCI:eI,\n",
    "    iB:eB,\n",
    "    iM:eM\n",
    "}"
   ]
  },
  {
   "cell_type": "code",
   "execution_count": 17,
   "metadata": {},
   "outputs": [
    {
     "data": {
      "text/plain": [
       "[(0, 15, 20), (1, 13, 20), (2, 5, 20), (3, 7, 20), (4, 7, 20), (5, 12, 20)]"
      ]
     },
     "execution_count": 17,
     "metadata": {},
     "output_type": "execute_result"
    }
   ],
   "source": [
    "EMB_MAP"
   ]
  },
  {
   "cell_type": "code",
   "execution_count": 18,
   "metadata": {},
   "outputs": [],
   "source": [
    "config['emb_map'] = EMB_MAP\n",
    "config['idx_map'] = idx2embidx"
   ]
  },
  {
   "cell_type": "code",
   "execution_count": 19,
   "metadata": {},
   "outputs": [],
   "source": [
    "total_embs = sum([v[-1] for k,v in idx2embidx.items() if k not in [iB,iM]])\n",
    "config['d_model'] = total_embs * N_BAR"
   ]
  },
  {
   "cell_type": "code",
   "execution_count": 20,
   "metadata": {},
   "outputs": [],
   "source": [
    "config['ctx_len'] = 0\n",
    "config['mem_len'] = 256\n",
    "# config['d_inner'] = 1024 * N_BAR\n",
    "config['d_inner'] = config['d_model'] * 2"
   ]
  },
  {
   "cell_type": "code",
   "execution_count": 21,
   "metadata": {},
   "outputs": [],
   "source": [
    "config['timesteps'] = N_BAR"
   ]
  },
  {
   "cell_type": "code",
   "execution_count": 22,
   "metadata": {},
   "outputs": [],
   "source": [
    "# config"
   ]
  },
  {
   "cell_type": "code",
   "execution_count": 26,
   "metadata": {},
   "outputs": [],
   "source": [
    "class TransformerEmbed(nn.Module):\n",
    "    def __init__(self, emb_map, idx_map, embed_p:float=0.1, **kwargs):\n",
    "        super().__init__()\n",
    "        # note, octave, duration, instrument\n",
    "        self.idx_map = idx_map\n",
    "        self.emb_map = emb_map\n",
    "        embeddings = []\n",
    "        for idx,in_d,out_d in emb_map:\n",
    "            embeddings.append(nn.Embedding(in_d, out_d, padding_idx=PAD_IDX))\n",
    "        self.embeddings = nn.ModuleList(embeddings)\n",
    "        self.drop_emb = nn.Dropout(embed_p)\n",
    "        \n",
    "    def forward(self, x):\n",
    "        # batch x bptt x (n,o,d,i)\n",
    "        pos_enc = self.embeddings[eB[0]](x[...,iB]) + self.embeddings[eM[0]](x[...,iM])\n",
    "        embs = []\n",
    "        for i in range(x.shape[-1]):\n",
    "            emb_idx = self.idx_map[i][0]\n",
    "            if i in [iB,iM]: continue\n",
    "            embx = self.embeddings[emb_idx](x[...,i])\n",
    "            embs.append(embx + pos_enc)\n",
    "        emb = torch.stack(embs, dim=-2) # barlen x comp x emb\n",
    "#         emb = emb.permute(0,1,4,2,3) # for conv - emb x barlen x comp\n",
    "        emb = emb.view(*emb.shape[:2], -1) # flatten completely\n",
    "        return self.drop_emb(emb)"
   ]
  },
  {
   "cell_type": "code",
   "execution_count": 27,
   "metadata": {},
   "outputs": [],
   "source": [
    "class DownConv(nn.Module):\n",
    "    def __init__(self, d_model):\n",
    "        pass"
   ]
  },
  {
   "cell_type": "code",
   "execution_count": 28,
   "metadata": {},
   "outputs": [],
   "source": [
    "class TXLLinearDecoder(nn.Module):\n",
    "    \"To go on top of a RNNCore module and create a Language Model.\"\n",
    "    initrange=0.1\n",
    "\n",
    "    def __init__(self, n_out:int, n_hid:int, tie_encoder:nn.Module=None, bias:bool=True):\n",
    "        super().__init__()\n",
    "        self.decoder = nn.Linear(n_hid, n_out, bias=bias)\n",
    "        self.decoder.weight.data.uniform_(-self.initrange, self.initrange)\n",
    "        if bias: self.decoder.bias.data.zero_()\n",
    "        if tie_encoder: self.decoder.weight = tie_encoder.weight\n",
    "\n",
    "    def forward(self, input):\n",
    "        return self.decoder(input)"
   ]
  },
  {
   "cell_type": "code",
   "execution_count": 29,
   "metadata": {},
   "outputs": [
    {
     "data": {
      "text/plain": [
       "dict_items([(2, (0, 15, 20)), (3, (1, 13, 20)), (4, (2, 5, 20)), (5, (0, 15, 20)), (6, (0, 15, 20)), (7, (0, 15, 20)), (8, (0, 15, 20)), (9, (2, 5, 20)), (10, (3, 7, 20)), (0, (4, 7, 20)), (1, (5, 12, 20))])"
      ]
     },
     "execution_count": 29,
     "metadata": {},
     "output_type": "execute_result"
    }
   ],
   "source": [
    "idx2embidx.items()"
   ]
  },
  {
   "cell_type": "code",
   "execution_count": 30,
   "metadata": {},
   "outputs": [],
   "source": [
    "class TransformerDec(nn.Module):\n",
    "    def __init__(self, txl_emb, idx_map, output_p=0.0, out_bias=True, **kwargs):\n",
    "        super().__init__()\n",
    "        self.output_dp = RNNDropout(output_p)\n",
    "        \n",
    "        decoders = []\n",
    "        for k,v in idx_map.items():\n",
    "            if k in [iB,iM]: continue\n",
    "            emb = txl_emb.embeddings[v[0]]\n",
    "            decoder = TXLLinearDecoder(emb.num_embeddings, emb.embedding_dim, tie_encoder=emb, bias=out_bias)\n",
    "            decoders.append(decoder)\n",
    "            \n",
    "        self.decoders = nn.ModuleList(decoders)\n",
    "        \n",
    "    def forward(self, input):\n",
    "        raw_outputs, outputs = input\n",
    "        output = self.output_dp(outputs[-1])\n",
    "        output = output.view(*output.shape[:-1], N_BAR, N_COMPS, N_EMBS)\n",
    "        res = []\n",
    "        for idx,dec in enumerate(self.decoders):\n",
    "            res.append(dec(output[...,idx,:]))\n",
    "        return res, raw_outputs, outputs"
   ]
  },
  {
   "cell_type": "code",
   "execution_count": 31,
   "metadata": {},
   "outputs": [],
   "source": [
    "\n",
    "class LMNPTransformerXL(nn.Module):\n",
    "    \"TransformerXL model: https://arxiv.org/abs/1901.02860.\"\n",
    "    def __init__(self, encoder, ctx_len:int, n_layers:int, n_heads:int, d_model:int, d_head:int, d_inner:int, \n",
    "                 resid_p:float=0., attn_p:float=0., ff_p:float=0., embed_p:float=0., bias:bool=False, scale:bool=True,\n",
    "                 act:Activation=Activation.ReLU, double_drop:bool=True, attn_cls:Callable=MultiHeadRelativeAttention,\n",
    "                 learned_pos_enc:bool=False, mask:bool=True, mem_len:int=0, **kwargs):\n",
    "        super().__init__()\n",
    "        self.encoder = encoder\n",
    "        self.pos_enc = nn.Embedding(ctx_len, d_model) if learned_pos_enc else PositionalEncoding(d_model)\n",
    "        self.u = nn.Parameter(torch.Tensor(n_heads, 1, d_head)) #Remove 1 for einsum implementation of attention\n",
    "        self.v = nn.Parameter(torch.Tensor(n_heads, 1, d_head)) #Remove 1 for einsum implementation of attention\n",
    "        self.mem_len,self.n_layers,self.d_model,self.mask = mem_len,n_layers,d_model,mask\n",
    "        self.init = False\n",
    "        self.layers = nn.ModuleList([DecoderLayer(n_heads, d_model, d_head, d_inner, resid_p=resid_p, attn_p=attn_p,\n",
    "                      ff_p=ff_p, bias=bias, scale=scale, act=act, double_drop=double_drop, \n",
    "                      attn_cls=attn_cls) for k in range(n_layers)])\n",
    "    \n",
    "    def reset(self):\n",
    "        \"Reset the internal memory.\"\n",
    "        self.hidden = [next(self.parameters()).data.new(0) for i in range(self.n_layers+1)]\n",
    "\n",
    "    def _update_mems(self, hids):\n",
    "        if not getattr(self, 'hidden', False): return None\n",
    "        assert len(hids) == len(self.hidden), 'len(hids) != len(self.hidden)'\n",
    "        with torch.no_grad():\n",
    "            for i in range(len(hids)):\n",
    "                cat = torch.cat([self.hidden[i], hids[i]], dim=1)\n",
    "                self.hidden[i] = cat[:,-self.mem_len:].detach()\n",
    "    \n",
    "    def select_hidden(self, idxs): self.hidden = [h[idxs] for h in self.hidden]\n",
    "    \n",
    "    def forward(self, x):\n",
    "        #The hidden state has to be initiliazed in the forward pass for nn.DataParallel\n",
    "        if self.mem_len > 0 and not self.init: \n",
    "            self.reset()\n",
    "            self.init = True\n",
    "        bs,x_len = x.shape[:2]\n",
    "        inp = self.encoder(x)\n",
    "        m_len = self.hidden[0].size(1) if hasattr(self, 'hidden') and len(self.hidden[0].size()) > 1 else 0\n",
    "        seq_len = m_len + x_len\n",
    "        mask = torch.triu(x.new_ones(x_len, seq_len), diagonal=1+m_len).byte()[None,None] if self.mask else None\n",
    "        #[None,:,:None] for einsum implementation of attention\n",
    "        hids = []\n",
    "        pos = torch.arange(seq_len-1, -1, -1, device=inp.device, dtype=inp.dtype)\n",
    "        pos_enc = self.pos_enc(pos)\n",
    "        hids.append(inp)\n",
    "        for i, layer in enumerate(self.layers):\n",
    "            mem = self.hidden[i] if self.mem_len > 0 else None\n",
    "            inp = layer(inp, r=pos_enc, u=self.u, v=self.v, mask=mask, mem=mem)\n",
    "            hids.append(inp)\n",
    "        core_out = inp[:,-x_len:]\n",
    "        if self.mem_len > 0 : self._update_mems(hids)\n",
    "        return (self.hidden if self.mem_len > 0 else [core_out]),[core_out]"
   ]
  },
  {
   "cell_type": "code",
   "execution_count": 32,
   "metadata": {},
   "outputs": [],
   "source": [
    "def get_language_model(config:dict=None, drop_mult:float=1.):\n",
    "    \"Create a language model from `arch` and its `config`, maybe `pretrained`.\"\n",
    "    for k in config.keys(): \n",
    "        if k.endswith('_p'): config[k] *= drop_mult\n",
    "    init = config.pop('init') if 'init' in config else None\n",
    "    \n",
    "    embed = TransformerEmbed(**config)\n",
    "    txl = LMNPTransformerXL(embed, **config)\n",
    "    decoder = TransformerDec(embed, **config)\n",
    "    model = SequentialRNN(txl, decoder)#.cuda()\n",
    "    \n",
    "    return model if init is None else model.apply(init)\n",
    "\n",
    "\n",
    "def language_model_learner(data:DataBunch, config:dict=None, drop_mult:float=1., pretrained:bool=True,\n",
    "                           **learn_kwargs) -> 'LanguageLearner':\n",
    "    \"Create a `Learner` with a language model from `data` and `arch`.\"\n",
    "    model = get_language_model(config=config, drop_mult=drop_mult)\n",
    "    learn = LanguageLearner(data, model, split_func=tfmer_lm_split, **learn_kwargs)\n",
    "    return learn"
   ]
  },
  {
   "cell_type": "code",
   "execution_count": 33,
   "metadata": {},
   "outputs": [],
   "source": [
    "\n",
    "class LMNPLoss(nn.Module):\n",
    "    \"Same as `func`, but flattens input and target.\"\n",
    "    def __init__(self):\n",
    "        super().__init__()\n",
    "        self.fn = nn.CrossEntropyLoss(ignore_index=PAD_IDX) \n",
    "        # not using func otherwise _loss_func_name2activ uses this attribute to get cross entropy loss\n",
    "\n",
    "    def __repr__(self): return f\"numpyenc loss of {self.fn}\"\n",
    "\n",
    "    def forward(self, inputs:Tensor, target:Tensor, **kwargs)->Rank0Tensor:\n",
    "        losses = []\n",
    "        for idx,input in enumerate(inputs):\n",
    "            t = target[...,idx]\n",
    "            input = input.view(-1,input.shape[-1])\n",
    "            losses.append(self.fn(input, t.view(-1)))\n",
    "        return sum(losses)"
   ]
  },
  {
   "cell_type": "code",
   "execution_count": 34,
   "metadata": {},
   "outputs": [],
   "source": [
    "import pdb"
   ]
  },
  {
   "cell_type": "code",
   "execution_count": 35,
   "metadata": {},
   "outputs": [],
   "source": [
    "def lmnp_accuracy(inputs:Tensor, target:Tensor)->Rank0Tensor:\n",
    "    \"Compute accuracy with `targs` when `input` is bs * n_classes.\"\n",
    "    inputs = [i.argmax(dim=-1).unsqueeze(dim=-1) for i in inputs]\n",
    "    input_cat = torch.cat(inputs, dim=-1).cpu().numpy()\n",
    "    target = target.cpu().numpy()\n",
    "    acc = (input_cat==target).astype(float)\n",
    "    acc[target==PAD_IDX] = np.nan\n",
    "    return torch.tensor(np.nanmean(acc))"
   ]
  },
  {
   "cell_type": "code",
   "execution_count": 36,
   "metadata": {},
   "outputs": [],
   "source": [
    "learn = language_model_learner(data, config, clip=0.25, loss_func=LMNPLoss(), metrics=[lmnp_accuracy])"
   ]
  },
  {
   "cell_type": "code",
   "execution_count": 37,
   "metadata": {},
   "outputs": [
    {
     "data": {
      "text/plain": [
       "[21.284222, tensor(0.1172)]"
      ]
     },
     "execution_count": 37,
     "metadata": {},
     "output_type": "execute_result"
    }
   ],
   "source": [
    "learn.validate()"
   ]
  },
  {
   "cell_type": "code",
   "execution_count": 39,
   "metadata": {},
   "outputs": [],
   "source": [
    "# x,y = data.one_batch(cpu=False)\n",
    "# # emb = learn.model[0]\n",
    "# # a = torch.ones_like(x)\n",
    "# # emb.encoder(x)\n",
    "\n",
    "# out = x[0].cpu().numpy()\n",
    "# song = dec_arr(out)\n",
    "# song.to_stream().show()"
   ]
  },
  {
   "cell_type": "code",
   "execution_count": 25,
   "metadata": {},
   "outputs": [],
   "source": [
    "# test = PositionalEncoding(100)\n",
    "# pos = torch.arange(50, -1, -1, dtype=torch.float)\n",
    "# test(pos).shape\n",
    "# test(pos)[0]"
   ]
  },
  {
   "cell_type": "code",
   "execution_count": 41,
   "metadata": {},
   "outputs": [],
   "source": [
    "# clip = 0.5\n",
    "# learn.lr_find(num_it=300)\n",
    "# learn.recorder.plot()"
   ]
  },
  {
   "cell_type": "code",
   "execution_count": 38,
   "metadata": {},
   "outputs": [
    {
     "data": {
      "text/html": [
       "Total time: 07:16 <p><table style='width:300px; margin-bottom:10px'>\n",
       "  <tr>\n",
       "    <th>epoch</th>\n",
       "    <th>train_loss</th>\n",
       "    <th>valid_loss</th>\n",
       "    <th>lmnp_accuracy</th>\n",
       "  </tr>\n",
       "  <tr>\n",
       "    <th>1</th>\n",
       "    <th>13.508605</th>\n",
       "    <th>13.522396</th>\n",
       "    <th>0.445767</th>\n",
       "  </tr>\n",
       "  <tr>\n",
       "    <th>2</th>\n",
       "    <th>13.414476</th>\n",
       "    <th>13.495721</th>\n",
       "    <th>0.447513</th>\n",
       "  </tr>\n",
       "</table>\n"
      ],
      "text/plain": [
       "<IPython.core.display.HTML object>"
      ]
     },
     "metadata": {},
     "output_type": "display_data"
    }
   ],
   "source": [
    "learn.fit_one_cycle(2, 5e-3)"
   ]
  },
  {
   "cell_type": "code",
   "execution_count": 43,
   "metadata": {},
   "outputs": [],
   "source": [
    "# learn.save('first_run')"
   ]
  },
  {
   "cell_type": "code",
   "execution_count": 39,
   "metadata": {},
   "outputs": [],
   "source": [
    "from fastai import basic_train"
   ]
  },
  {
   "cell_type": "code",
   "execution_count": 40,
   "metadata": {},
   "outputs": [],
   "source": [
    "def predict_func(parts): return [F.softmax(p, dim=-1) for p in parts]"
   ]
  },
  {
   "cell_type": "code",
   "execution_count": 41,
   "metadata": {},
   "outputs": [
    {
     "data": {
      "text/plain": [
       "<function __main__.predict_func(parts)>"
      ]
     },
     "execution_count": 41,
     "metadata": {},
     "output_type": "execute_result"
    }
   ],
   "source": [
    "loss_func_name = camel2snake(learn.loss_func.__class__.__name__)\n",
    "basic_train.loss_func_name2activ[loss_func_name] = predict_func\n",
    "basic_train._loss_func2activ(learn.loss_func)"
   ]
  },
  {
   "cell_type": "code",
   "execution_count": 80,
   "metadata": {},
   "outputs": [],
   "source": [
    "def predict(self, xb, n_words:int=1, temperature:float=1., min_p:float=None):\n",
    "    \"Return the `n_words` that come after `text`.\"\n",
    "    ds = self.data.single_dl.dataset\n",
    "    self.model.reset()\n",
    "    if xb.shape[0] > 1: xb = xb[0][None]\n",
    "    seed = xb.cpu().numpy()\n",
    "    yb = torch.ones_like(xb)\n",
    "    timesteps = []\n",
    "    for _ in progress_bar(range(n_words), leave=True):\n",
    "        beat_enc = xb[...,-1,:,iB]\n",
    "        enc_offset = ht_encode.config.enc_offset\n",
    "        measure_enc = ((xb[...,-1,:,iM]-enc_offset+1)%8)+enc_offset\n",
    "        if (beat_enc==PAD_IDX).any(): \n",
    "            print('Last timestep was BOS token. Currently unable to handle that. Returning')\n",
    "#             raise Exception('Last timestep was BOS token. Currently unable to handle that')\n",
    "            break\n",
    "        bar = [beat_enc.squeeze(),measure_enc.squeeze()]\n",
    "        outputs = learn.pred_batch(batch=(xb,yb))\n",
    "        for item in outputs: #progress_bar(range(n_words), leave=False):\n",
    "            res = item[0][-1]\n",
    "            if min_p is not None: \n",
    "                if (res >= min_p).float().sum() == 0:\n",
    "                    warn(f\"There is no item with probability >= {min_p}, try a lower value.\")\n",
    "                else: res[res < min_p] = 0.\n",
    "            if temperature != 1.: res.pow_(1 / temperature)\n",
    "            idx = torch.multinomial(res, 1)\n",
    "#             val,idx = torch.topk(res, 1)\n",
    "            bar.append(idx.squeeze().to(xb.device))\n",
    "        bar = torch.stack(bar, dim=-1)\n",
    "        timesteps.append(bar.cpu().numpy())\n",
    "        xb = bar.clone().detach()[None,None] # don't use timesteps. use it's own memory instead\n",
    "    return timesteps, seed.squeeze()\n"
   ]
  },
  {
   "cell_type": "code",
   "execution_count": 81,
   "metadata": {},
   "outputs": [],
   "source": [
    "xb,yb = learn.data.one_batch(cpu=False)"
   ]
  },
  {
   "cell_type": "code",
   "execution_count": 82,
   "metadata": {},
   "outputs": [
    {
     "data": {
      "text/html": [
       "\n",
       "    <div>\n",
       "        <style>\n",
       "            /* Turns off some styling */\n",
       "            progress {\n",
       "                /* gets rid of default border in Firefox and Opera. */\n",
       "                border: none;\n",
       "                /* Needs to be in here for Safari polyfill so background images work as expected. */\n",
       "                background-size: auto;\n",
       "            }\n",
       "            .progress-bar-interrupted, .progress-bar-interrupted::-webkit-progress-bar {\n",
       "                background: #F44336;\n",
       "            }\n",
       "        </style>\n",
       "      <progress value='10' class='' max='10', style='width:300px; height:20px; vertical-align: middle;'></progress>\n",
       "      100.00% [10/10 00:00<00:00]\n",
       "    </div>\n",
       "    "
      ],
      "text/plain": [
       "<IPython.core.display.HTML object>"
      ]
     },
     "metadata": {},
     "output_type": "display_data"
    }
   ],
   "source": [
    "out, seed = predict(learn, xb, n_words=10)"
   ]
  },
  {
   "cell_type": "code",
   "execution_count": 83,
   "metadata": {},
   "outputs": [
    {
     "name": "stdout",
     "output_type": "stream",
     "text": [
      "Broken encoding. Sustained note with out a hit. Removing all\n"
     ]
    },
    {
     "data": {
      "text/plain": [
       "Part[0]:\n",
       "[Chords]:\n",
       "B(abs=0.0:dur=4.0) C([[sd=4:oct=0, sd=6:oct=0, sd=1:oct=1]])\n",
       "B(abs=4.0:dur=4.0) C([[sd=1:oct=0, sd=3:oct=0, sd=5:oct=0]])\n",
       "B(abs=8.0:dur=4.0) C([[sd=5:oct=0, sd=1:oct=1, sd=2:oct=1]])\n",
       "B(abs=12.0:dur=4.0) C([[sd=2:oct=0, sd=4:oct=0, sd=6:oct=0]])\n",
       "B(abs=16.0:dur=4.0) C([[sd=4:oct=0, sd=5:oct=0, sd=1:oct=1]])\n",
       "B(abs=24.0:dur=2.0) C([[sd=6:oct=0, sd=1:oct=1, sd=3:oct=1]])\n",
       "B(abs=26.0:dur=2.0) C([[sd=1:oct=0, sd=3:oct=0, sd=5:oct=0]])\n",
       "B(abs=28.0:dur=2.0) C([[sd=2:oct=0, sd=4:oct=0, sd=6:oct=0]])\n",
       "B(abs=30.0:dur=2.0) C([[sd=4:oct=0, sd=6:oct=0, sd=1:oct=1]])\n",
       "B(abs=32.0:dur=2.0) C([[sd=6:oct=0, sd=1:oct=1, sd=3:oct=1]])\n",
       "B(abs=34.0:dur=2.0) C([[sd=1:oct=0, sd=3:oct=0, sd=5:oct=0]])\n",
       "B(abs=36.0:dur=1.5) C([[sd=2:oct=0, sd=4:oct=0, sd=6:oct=0]])\n",
       "B(abs=37.5:dur=2.5) C([[sd=6#:oct=0, sd=2:oct=1, sd=4:oct=1]])\n",
       "B(abs=40.0:dur=2.0) C([[sd=6:oct=0, sd=1:oct=1, sd=3:oct=1]])\n",
       "B(abs=42.0:dur=2.0) C([[sd=1:oct=0, sd=3:oct=0, sd=5:oct=0]])\n",
       "B(abs=44.0:dur=2.0) C([[sd=2:oct=0, sd=4:oct=0, sd=6:oct=0]])\n",
       "B(abs=46.0:dur=2.0) C([[sd=4:oct=0, sd=6:oct=0, sd=1:oct=1]])\n",
       "B(abs=48.0:dur=2.0) C([[sd=6:oct=0, sd=1:oct=1, sd=3:oct=1]])\n",
       "B(abs=50.0:dur=2.0) C([[sd=1:oct=0, sd=3:oct=0, sd=5:oct=0]])\n",
       "B(abs=52.0:dur=1.5) C([[sd=2:oct=0, sd=4:oct=0, sd=6:oct=0]])\n",
       "B(abs=53.5:dur=2.5) C([[sd=6#:oct=0, sd=2:oct=1, sd=4:oct=1]])\n",
       "B(abs=56.0:dur=2.0) C([[sd=6:oct=0, sd=1:oct=1, sd=3:oct=1]])\n",
       "B(abs=58.0:dur=2.0) C([[sd=1:oct=0, sd=3:oct=0, sd=5:oct=0]])\n",
       "B(abs=60.0:dur=2.0) C([[sd=2:oct=0, sd=4:oct=0, sd=6:oct=0]])\n",
       "B(abs=62.0:dur=2.0) C([[sd=4:oct=0, sd=6:oct=0, sd=1:oct=1]])\n",
       "B(abs=64.0:dur=2.0) C([[sd=6:oct=0, sd=1:oct=1, sd=3:oct=1]])\n",
       "B(abs=66.0:dur=2.0) C([[sd=1:oct=0, sd=3:oct=0, sd=5:oct=0]])\n",
       "B(abs=68.0:dur=1.5) C([[sd=2:oct=0, sd=4:oct=0, sd=6:oct=0]])\n",
       "B(abs=69.5:dur=2.5) C([[sd=6#:oct=0, sd=2:oct=1, sd=4:oct=1]])\n",
       "B(abs=72.0:dur=2.0) C([[sd=6:oct=0, sd=1:oct=1, sd=3:oct=1]])\n",
       "B(abs=74.0:dur=2.0) C([[sd=1:oct=0, sd=3:oct=0, sd=5:oct=0]])\n",
       "B(abs=76.0:dur=2.0) C([[sd=2:oct=0, sd=4:oct=0, sd=6:oct=0]])\n",
       "B(abs=78.0:dur=2.0) C([[sd=4:oct=0, sd=6:oct=0, sd=1:oct=1]])\n",
       "B(abs=80.0:dur=2.0) C([[sd=6:oct=0, sd=1:oct=1, sd=3:oct=1]])\n",
       "B(abs=82.0:dur=2.0) C([[sd=1:oct=0, sd=3:oct=0, sd=5:oct=0]])\n",
       "B(abs=84.0:dur=1.5) C([[sd=2:oct=0, sd=4:oct=0, sd=6:oct=0]])\n",
       "B(abs=85.5:dur=2.5) C([[sd=6#:oct=0, sd=2:oct=1, sd=4:oct=1]])\n",
       "B(abs=95.0:dur=1.0) C([[sd=5:oct=0, sd=6:oct=0, sd=2:oct=1, sd=4:oct=1]])\n",
       "\n",
       "[Notes]:\n",
       "B(abs=0.25:dur=0.25) P(sd=1:oct=5)\n",
       "B(abs=0.5:dur=0.25) P(sd=1:oct=5)\n",
       "B(abs=0.75:dur=0.25) P(sd=1:oct=5)\n",
       "B(abs=1.0:dur=0.5) P(sd=1:oct=5)\n",
       "B(abs=1.5:dur=0.25) P(sd=1:oct=5)\n",
       "B(abs=1.75:dur=0.25) P(sd=1:oct=5)\n",
       "B(abs=2.0:dur=0.5) P(sd=1:oct=5)\n",
       "B(abs=2.5:dur=0.5) P(sd=5:oct=5)\n",
       "B(abs=3.0:dur=0.5) P(sd=3:oct=5)\n",
       "B(abs=3.5:dur=0.25) P(sd=2:oct=5)\n",
       "B(abs=3.75:dur=0.25) P(sd=1:oct=5)\n",
       "B(abs=4.0:dur=1.0) P(sd=1:oct=5)\n",
       "B(abs=5.25:dur=0.25) P(sd=1:oct=5)\n",
       "B(abs=5.5:dur=0.25) P(sd=1:oct=5)\n",
       "B(abs=5.75:dur=0.25) P(sd=2:oct=5)\n",
       "B(abs=6.0:dur=0.25) P(sd=3:oct=5)\n",
       "B(abs=6.25:dur=0.5) P(sd=1:oct=5)\n",
       "B(abs=6.75:dur=0.5) P(sd=5:oct=4)\n",
       "B(abs=7.25:dur=0.25) P(sd=3:oct=5)\n",
       "B(abs=7.5:dur=0.25) P(sd=1:oct=5)\n",
       "B(abs=7.75:dur=0.75) P(sd=2:oct=5)\n",
       "B(abs=8.5:dur=0.5) P(sd=3:oct=5)\n",
       "B(abs=9.25:dur=0.25) P(sd=1:oct=5)\n",
       "B(abs=9.5:dur=0.25) P(sd=1:oct=5)\n",
       "B(abs=9.75:dur=0.25) P(sd=2:oct=5)\n",
       "B(abs=10.0:dur=0.25) P(sd=3:oct=5)\n",
       "B(abs=10.25:dur=0.5) P(sd=1:oct=5)\n",
       "B(abs=10.75:dur=0.5) P(sd=5:oct=4)\n",
       "B(abs=11.25:dur=0.25) P(sd=3:oct=5)\n",
       "B(abs=11.5:dur=0.25) P(sd=1:oct=5)\n",
       "B(abs=11.75:dur=0.75) P(sd=2:oct=5)\n",
       "B(abs=12.5:dur=0.25) P(sd=1:oct=5)\n",
       "B(abs=12.75:dur=1.25) P(sd=6:oct=4)\n",
       "B(abs=15.25:dur=0.5) P(sd=5:oct=4)\n",
       "B(abs=15.75:dur=0.5) P(sd=5:oct=4)\n",
       "B(abs=16.25:dur=0.25) P(sd=1:oct=5)\n",
       "B(abs=16.5:dur=0.5) P(sd=1:oct=5)\n",
       "B(abs=17.0:dur=0.5) P(sd=5:oct=4)\n",
       "B(abs=17.5:dur=0.25) P(sd=5:oct=4)\n",
       "B(abs=17.75:dur=0.25) P(sd=5:oct=4)\n",
       "B(abs=18.0:dur=0.25) P(sd=5:oct=4)\n",
       "B(abs=18.25:dur=0.25) P(sd=1:oct=5)\n",
       "B(abs=18.5:dur=0.5) P(sd=1:oct=5)\n",
       "B(abs=19.0:dur=0.25) P(sd=5:oct=4)\n",
       "B(abs=19.25:dur=0.25) P(sd=5:oct=4)\n",
       "B(abs=19.5:dur=0.25) P(sd=5:oct=4)\n",
       "B(abs=19.75:dur=0.25) P(sd=5:oct=4)\n",
       "B(abs=24.0:dur=1.0) P(sd=3:oct=6)\n",
       "B(abs=25.0:dur=0.5) P(sd=3:oct=6)\n",
       "B(abs=25.5:dur=0.5) P(sd=2#:oct=6)\n",
       "B(abs=26.0:dur=0.5) P(sd=3:oct=6)\n",
       "B(abs=26.5:dur=0.5) P(sd=2#:oct=6)\n",
       "B(abs=27.0:dur=0.5) P(sd=3:oct=6)\n",
       "B(abs=27.5:dur=0.5) P(sd=2#:oct=6)\n",
       "B(abs=28.0:dur=0.5) P(sd=3:oct=6)\n",
       "B(abs=28.5:dur=0.5) P(sd=2#:oct=6)\n",
       "B(abs=29.0:dur=0.5) P(sd=3:oct=6)\n",
       "B(abs=29.5:dur=1.0) P(sd=5:oct=6)\n",
       "B(abs=30.5:dur=1.0) P(sd=3:oct=6)\n",
       "B(abs=31.5:dur=0.5) P(sd=2#:oct=6)\n",
       "B(abs=32.0:dur=1.0) P(sd=3:oct=6)\n",
       "B(abs=33.0:dur=0.5) P(sd=3:oct=6)\n",
       "B(abs=33.5:dur=0.5) P(sd=2#:oct=6)\n",
       "B(abs=34.0:dur=0.5) P(sd=3:oct=6)\n",
       "B(abs=34.5:dur=0.5) P(sd=2#:oct=6)\n",
       "B(abs=35.0:dur=0.5) P(sd=3:oct=6)\n",
       "B(abs=35.5:dur=0.5) P(sd=2#:oct=6)\n",
       "B(abs=36.0:dur=0.5) P(sd=3:oct=6)\n",
       "B(abs=36.5:dur=0.5) P(sd=2#:oct=6)\n",
       "B(abs=37.0:dur=0.5) P(sd=6:oct=5)\n",
       "B(abs=37.5:dur=1.5) P(sd=1:oct=6)\n",
       "B(abs=40.0:dur=1.0) P(sd=3:oct=6)\n",
       "B(abs=41.0:dur=0.5) P(sd=3:oct=6)\n",
       "B(abs=41.5:dur=0.5) P(sd=2#:oct=6)\n",
       "B(abs=42.0:dur=0.5) P(sd=3:oct=6)\n",
       "B(abs=42.5:dur=0.5) P(sd=2#:oct=6)\n",
       "B(abs=43.0:dur=0.5) P(sd=3:oct=6)\n",
       "B(abs=43.5:dur=0.5) P(sd=2#:oct=6)\n",
       "B(abs=44.0:dur=0.5) P(sd=3:oct=6)\n",
       "B(abs=44.5:dur=0.5) P(sd=2#:oct=6)\n",
       "B(abs=45.0:dur=0.5) P(sd=5:oct=6)\n",
       "B(abs=45.5:dur=1.0) P(sd=3:oct=6)\n",
       "B(abs=46.5:dur=0.5) P(sd=3:oct=6)\n",
       "B(abs=47.0:dur=0.5) P(sd=2:oct=6)\n",
       "B(abs=47.5:dur=0.5) P(sd=1:oct=6)\n",
       "B(abs=48.0:dur=0.5) P(sd=6:oct=5)\n",
       "B(abs=48.5:dur=0.5) P(sd=1:oct=6)\n",
       "B(abs=49.0:dur=2.0) P(sd=6:oct=5)\n",
       "B(abs=56.0:dur=1.0) P(sd=3:oct=6)\n",
       "B(abs=57.0:dur=0.5) P(sd=3:oct=6)\n",
       "B(abs=57.5:dur=0.5) P(sd=2#:oct=6)\n",
       "B(abs=58.0:dur=0.5) P(sd=3:oct=6)\n",
       "B(abs=58.5:dur=0.5) P(sd=2#:oct=6)\n",
       "B(abs=59.0:dur=0.5) P(sd=3:oct=6)\n",
       "B(abs=59.5:dur=0.5) P(sd=2#:oct=6)\n",
       "B(abs=60.0:dur=0.5) P(sd=3:oct=6)\n",
       "B(abs=60.5:dur=0.5) P(sd=2#:oct=6)\n",
       "B(abs=61.0:dur=0.5) P(sd=3:oct=6)\n",
       "B(abs=61.5:dur=1.0) P(sd=5:oct=6)\n",
       "B(abs=62.5:dur=1.0) P(sd=3:oct=6)\n",
       "B(abs=63.5:dur=0.5) P(sd=2#:oct=6)\n",
       "B(abs=64.0:dur=1.0) P(sd=3:oct=6)\n",
       "B(abs=65.0:dur=0.5) P(sd=3:oct=6)\n",
       "B(abs=65.5:dur=0.5) P(sd=2#:oct=6)\n",
       "B(abs=66.0:dur=0.5) P(sd=3:oct=6)\n",
       "B(abs=66.5:dur=0.5) P(sd=2#:oct=6)\n",
       "B(abs=67.0:dur=0.5) P(sd=3:oct=6)\n",
       "B(abs=67.5:dur=0.5) P(sd=2#:oct=6)\n",
       "B(abs=68.0:dur=0.5) P(sd=3:oct=6)\n",
       "B(abs=68.5:dur=0.5) P(sd=2#:oct=6)\n",
       "B(abs=69.0:dur=0.5) P(sd=6:oct=5)\n",
       "B(abs=69.5:dur=1.5) P(sd=1:oct=6)\n",
       "B(abs=72.0:dur=1.0) P(sd=3:oct=6)\n",
       "B(abs=73.0:dur=0.5) P(sd=3:oct=6)\n",
       "B(abs=73.5:dur=0.5) P(sd=2#:oct=6)\n",
       "B(abs=74.0:dur=0.5) P(sd=3:oct=6)\n",
       "B(abs=74.5:dur=0.5) P(sd=2#:oct=6)\n",
       "B(abs=75.0:dur=0.5) P(sd=3:oct=6)\n",
       "B(abs=75.5:dur=0.5) P(sd=2#:oct=6)\n",
       "B(abs=76.0:dur=0.5) P(sd=3:oct=6)\n",
       "B(abs=76.5:dur=0.5) P(sd=2#:oct=6)\n",
       "B(abs=77.0:dur=0.5) P(sd=5:oct=6)\n",
       "B(abs=77.5:dur=1.0) P(sd=3:oct=6)\n",
       "B(abs=78.5:dur=0.5) P(sd=3:oct=6)\n",
       "B(abs=79.0:dur=0.5) P(sd=2:oct=6)\n",
       "B(abs=79.5:dur=0.5) P(sd=1:oct=6)\n",
       "B(abs=80.0:dur=0.5) P(sd=6:oct=5)\n",
       "B(abs=80.5:dur=0.5) P(sd=1:oct=6)\n",
       "B(abs=81.0:dur=2.0) P(sd=6:oct=5)\n",
       "B(abs=95.0:dur=0.5) P(sd=6:oct=5)\n",
       "B(abs=95.5:dur=0.5) P(sd=6:oct=5)\n",
       "\n",
       "\n",
       "\n",
       "HMetadata(title='decoded', BPM='120', beats_in_measure='4', key='C', mode='1')"
      ]
     },
     "execution_count": 83,
     "metadata": {},
     "output_type": "execute_result"
    }
   ],
   "source": [
    "seed_song = dec_arr(seed); seed_song"
   ]
  },
  {
   "cell_type": "code",
   "execution_count": 84,
   "metadata": {},
   "outputs": [],
   "source": [
    "seed_stream = seed_song.to_stream()"
   ]
  },
  {
   "cell_type": "code",
   "execution_count": 85,
   "metadata": {},
   "outputs": [
    {
     "data": {
      "image/png": "[encoded data removed]",
      "text/plain": [
       "<IPython.core.display.Image object>"
      ]
     },
     "metadata": {
      "image/png": {
       "height": 915,
       "width": 753
      }
     },
     "output_type": "display_data"
    }
   ],
   "source": [
    "seed_stream.show()"
   ]
  },
  {
   "cell_type": "code",
   "execution_count": 86,
   "metadata": {},
   "outputs": [
    {
     "data": {
      "text/html": [
       "\n",
       "                <div id='midiPlayerDiv14432'></div>\n",
       "                <link rel=\"stylesheet\" href=\"//cuthbertLab.github.io/music21j/css/m21.css\"\n",
       "                    type=\"text/css\" />\n",
       "                <script>\n",
       "                require.config({\n",
       "                    paths: {'music21': '//cuthbertLab.github.io/music21j/src/music21'}\n",
       "                });\n",
       "                require(['music21'], function() {\n",
       "                               mp = new music21.miditools.MidiPlayer();\n",
       "                               mp.addPlayer('#midiPlayerDiv14432');\n",
       "                               mp.base64Load('data:audio/midi;base64,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');\n",
       "                        });\n",
       "                </script>"
      ],
      "text/plain": [
       "<IPython.core.display.HTML object>"
      ]
     },
     "metadata": {},
     "output_type": "display_data"
    }
   ],
   "source": [
    "seed_stream.show('midi')"
   ]
  },
  {
   "cell_type": "code",
   "execution_count": 87,
   "metadata": {},
   "outputs": [
    {
     "data": {
      "text/plain": [
       "-1"
      ]
     },
     "execution_count": 87,
     "metadata": {},
     "output_type": "execute_result"
    }
   ],
   "source": [
    "ht_encode.config.bos_idx"
   ]
  },
  {
   "cell_type": "code",
   "execution_count": 88,
   "metadata": {},
   "outputs": [
    {
     "data": {
      "text/plain": [
       "array([[ 0,  0,  0,  0, ...,  0,  0, 32,  0],\n",
       "       [ 0, 32,  0,  0, ...,  0,  0,  0,  0],\n",
       "       [ 0,  0,  0, 32, ...,  0,  0,  0,  0],\n",
       "       [ 0, 32,  0,  0, ...,  0, 32,  0,  0],\n",
       "       [ 0,  0,  0,  0, ...,  0,  0,  0, 32],\n",
       "       [ 0,  0,  0,  0, ...,  0,  0,  0,  0],\n",
       "       [ 0,  0,  0,  0, ...,  0,  0,  0,  0],\n",
       "       [ 0,  0,  0, 32, ...,  0, 32,  0,  0]])"
      ]
     },
     "execution_count": 88,
     "metadata": {},
     "output_type": "execute_result"
    }
   ],
   "source": [
    "xb_offset = (np.array(xb)-ht_encode.config.enc_offset); xb_offset.shape\n",
    "(xb_offset==ht_encode.config.bos_idx).sum(axis=(2,3))"
   ]
  },
  {
   "cell_type": "code",
   "execution_count": 89,
   "metadata": {},
   "outputs": [
    {
     "data": {
      "text/plain": [
       "(8, 24, 16, 11)"
      ]
     },
     "execution_count": 89,
     "metadata": {},
     "output_type": "execute_result"
    }
   ],
   "source": [
    "xb_offset.shape"
   ]
  },
  {
   "cell_type": "code",
   "execution_count": 90,
   "metadata": {},
   "outputs": [
    {
     "data": {
      "text/plain": [
       "array([0, 2, 3, 5, 3, 4, 3, 5, 2, 6])"
      ]
     },
     "execution_count": 90,
     "metadata": {},
     "output_type": "execute_result"
    }
   ],
   "source": [
    "out_offset = (np.array(out)-ht_encode.config.enc_offset); out_offset.shape\n",
    "(out_offset==ht_encode.config.bos_idx).sum(axis=(1,2))"
   ]
  },
  {
   "cell_type": "code",
   "execution_count": 91,
   "metadata": {},
   "outputs": [
    {
     "name": "stdout",
     "output_type": "stream",
     "text": [
      "Broken encoding. Sustained note with out a hit. Removing all\n",
      "Broken encoding. Sustained note with out a hit. Removing all\n",
      "Broken encoding. Sustained note with out a hit. Removing all\n",
      "Broken encoding. Sustained note with out a hit. Removing all\n",
      "Broken encoding. Sustained note with out a hit. Removing all\n",
      "Broken encoding. Sustained note with out a hit. Removing all\n",
      "Broken encoding. Sustained note with out a hit. Removing all\n",
      "Broken encoding. Sustained note with out a hit. Removing all\n",
      "Broken encoding. Sustained note with out a hit. Removing all\n",
      "Broken encoding. Sustained note with out a hit. Removing all\n",
      "Broken encoding. Sustained note with out a hit. Removing all\n",
      "Broken encoding. Sustained note with out a hit. Removing all\n",
      "Broken encoding. Sustained note with out a hit. Removing all\n",
      "Broken encoding. Sustained note with out a hit. Removing all\n",
      "Broken encoding. Sustained note with out a hit. Removing all\n",
      "Broken encoding. Sustained note with out a hit. Removing all\n",
      "Broken encoding. Sustained note with out a hit. Removing all\n",
      "Broken encoding. Sustained note with out a hit. Removing all\n",
      "Broken encoding. Sustained note with out a hit. Removing all\n",
      "Broken encoding. Sustained note with out a hit. Removing all\n",
      "Broken encoding. Sustained note with out a hit. Removing all\n",
      "Broken encoding. Sustained note with out a hit. Removing all\n",
      "Broken encoding. Sustained note with out a hit. Removing all\n",
      "Broken encoding. Sustained note with out a hit. Removing all\n",
      "Broken encoding. Sustained note with out a hit. Removing all\n",
      "Broken encoding. Sustained note with out a hit. Removing all\n",
      "Broken encoding. Sustained note with out a hit. Removing all\n",
      "Broken encoding. Sustained note with out a hit. Removing all\n",
      "Broken encoding. Sustained note with out a hit. Removing all\n",
      "Broken encoding. Sustained note with out a hit. Removing all\n",
      "Broken encoding. Sustained note with out a hit. Removing all\n",
      "Broken encoding. Sustained note with out a hit. Removing all\n",
      "Broken encoding. Sustained note with out a hit. Removing all\n",
      "Broken encoding. Sustained note with out a hit. Removing all\n",
      "Broken encoding. Sustained note with out a hit. Removing all\n",
      "Broken encoding. Sustained note with out a hit. Removing all\n",
      "Broken encoding. Sustained note with out a hit. Removing all\n",
      "Broken encoding. Sustained note with out a hit. Removing all\n",
      "Broken encoding. Sustained note with out a hit. Removing all\n",
      "Broken encoding. Sustained note with out a hit. Removing all\n",
      "Broken encoding. Sustained note with out a hit. Removing all\n",
      "Broken encoding. Sustained note with out a hit. Removing all\n",
      "Broken encoding. Sustained note with out a hit. Removing all\n",
      "Broken encoding. Sustained note with out a hit. Removing all\n",
      "Broken encoding. Sustained note with out a hit. Removing all\n",
      "Broken encoding. Sustained note with out a hit. Removing all\n",
      "Broken encoding. Sustained note with out a hit. Removing all\n",
      "Broken encoding. Sustained note with out a hit. Removing all\n",
      "Broken encoding. Sustained note with out a hit. Removing all\n",
      "Broken encoding. Sustained note with out a hit. Removing all\n",
      "Broken encoding. Sustained note with out a hit. Removing all\n",
      "Broken encoding. Sustained note with out a hit. Removing all\n",
      "Broken encoding. Sustained note with out a hit. Removing all\n",
      "Broken encoding. Sustained note with out a hit. Removing all\n",
      "Broken encoding. Sustained note with out a hit. Removing all\n",
      "Broken encoding. Sustained note with out a hit. Removing all\n",
      "Broken encoding. Sustained note with out a hit. Removing all\n",
      "Broken encoding. Sustained note with out a hit. Removing all\n",
      "Broken encoding. Sustained note with out a hit. Removing all\n",
      "Broken encoding. Sustained note with out a hit. Removing all\n",
      "Broken encoding. Sustained note with out a hit. Removing all\n",
      "Broken encoding. Sustained note with out a hit. Removing all\n",
      "Broken encoding. Sustained note with out a hit. Removing all\n",
      "Broken encoding. Sustained note with out a hit. Removing all\n",
      "Broken encoding. Sustained chord with out a hit\n",
      "Broken encoding. Sustained chord with out a hit\n",
      "Broken encoding. Sustained chord with out a hit\n",
      "Broken encoding. Sustained chord with out a hit\n",
      "Broken encoding. Sustained chord with out a hit\n",
      "Broken encoding. Sustained chord with out a hit\n",
      "Broken encoding. Sustained chord with out a hit\n",
      "Broken encoding. Sustained chord with out a hit\n",
      "Broken encoding. Sustained chord with out a hit\n",
      "Broken encoding. Sustained chord with out a hit\n",
      "Broken encoding. Sustained chord with out a hit\n",
      "Broken encoding. Sustained chord with out a hit\n",
      "Broken encoding. Sustained chord with out a hit\n",
      "Broken encoding. Sustained chord with out a hit\n",
      "Broken encoding. Sustained chord with out a hit\n",
      "Broken encoding. Sustained chord with out a hit\n",
      "Broken encoding. Sustained chord with out a hit\n",
      "Broken encoding. Sustained chord with out a hit\n",
      "Broken encoding. Sustained chord with out a hit\n",
      "Broken encoding. Sustained chord with out a hit\n",
      "Broken encoding. Sustained chord with out a hit\n",
      "Broken encoding. Sustained chord with out a hit\n",
      "Broken encoding. Sustained chord with out a hit\n",
      "Broken encoding. Sustained chord with out a hit\n",
      "Broken encoding. Sustained chord with out a hit\n",
      "Broken encoding. Sustained chord with out a hit\n",
      "Broken encoding. Sustained chord with out a hit\n",
      "Broken encoding. Sustained chord with out a hit\n",
      "Broken encoding. Sustained chord with out a hit\n",
      "Broken encoding. Sustained chord with out a hit\n",
      "Broken encoding. Sustained chord with out a hit\n",
      "Broken encoding. Sustained chord with out a hit\n",
      "Broken encoding. Sustained chord with out a hit\n",
      "Broken encoding. Sustained chord with out a hit\n",
      "Broken encoding. Sustained chord with out a hit\n",
      "Broken encoding. Sustained chord with out a hit\n",
      "Broken encoding. Sustained chord with out a hit\n",
      "Broken encoding. Sustained chord with out a hit\n",
      "Broken encoding. Sustained chord with out a hit\n",
      "Broken encoding. Sustained chord with out a hit\n",
      "Broken encoding. Sustained chord with out a hit\n",
      "Broken encoding. Sustained chord with out a hit\n",
      "Broken encoding. Sustained chord with out a hit\n",
      "Broken encoding. Sustained chord with out a hit\n",
      "Broken encoding. Sustained chord with out a hit\n",
      "Broken encoding. Sustained chord with out a hit\n",
      "Broken encoding. Sustained chord with out a hit\n",
      "Broken encoding. Sustained chord with out a hit\n",
      "Broken encoding. Sustained chord with out a hit\n",
      "Broken encoding. Sustained chord with out a hit\n",
      "Broken encoding. Sustained chord with out a hit\n",
      "Broken encoding. Sustained chord with out a hit\n",
      "Broken encoding. Sustained chord with out a hit\n",
      "Broken encoding. Sustained chord with out a hit\n",
      "Broken encoding. Sustained chord with out a hit\n",
      "Broken encoding. Sustained chord with out a hit\n",
      "Broken encoding. Sustained chord with out a hit\n",
      "Broken encoding. Sustained chord with out a hit\n",
      "Broken encoding. Sustained chord with out a hit\n",
      "Broken encoding. Sustained chord with out a hit\n",
      "Broken encoding. Sustained chord with out a hit\n",
      "Broken encoding. Sustained chord with out a hit\n",
      "Broken encoding. Sustained chord with out a hit\n",
      "Broken encoding. Sustained chord with out a hit\n",
      "Broken encoding. Sustained chord with out a hit\n",
      "Broken encoding. Sustained chord with out a hit\n",
      "Broken encoding. Sustained chord with out a hit\n",
      "Broken encoding. Sustained chord with out a hit\n",
      "Broken encoding. Sustained chord with out a hit\n",
      "Broken encoding. Sustained chord with out a hit\n",
      "Broken encoding. Sustained chord with out a hit\n",
      "Broken encoding. Sustained chord with out a hit\n",
      "Broken encoding. Sustained chord with out a hit\n",
      "Broken encoding. Sustained chord with out a hit\n",
      "Broken encoding. Sustained chord with out a hit\n",
      "Broken encoding. Sustained chord with out a hit\n",
      "Broken encoding. Sustained chord with out a hit\n",
      "Broken encoding. Sustained chord with out a hit\n",
      "Broken encoding. Sustained chord with out a hit\n",
      "Broken encoding. Sustained chord with out a hit\n",
      "Broken encoding. Sustained chord with out a hit\n",
      "Broken encoding. Sustained chord with out a hit\n",
      "Broken encoding. Sustained chord with out a hit\n",
      "Broken encoding. Sustained chord with out a hit\n",
      "Broken encoding. Sustained chord with out a hit\n",
      "Broken encoding. Sustained chord with out a hit\n",
      "Broken encoding. Sustained chord with out a hit\n",
      "Broken encoding. Sustained chord with out a hit\n",
      "Broken encoding. Sustained chord with out a hit\n",
      "Broken encoding. Sustained chord with out a hit\n",
      "Broken encoding. Sustained chord with out a hit\n",
      "Broken encoding. Sustained chord with out a hit\n",
      "Broken encoding. Sustained chord with out a hit\n",
      "Broken encoding. Sustained chord with out a hit\n",
      "Broken encoding. Sustained chord with out a hit\n",
      "Broken encoding. Sustained chord with out a hit\n",
      "Broken encoding. Sustained chord with out a hit\n",
      "Broken encoding. Sustained chord with out a hit\n",
      "Broken encoding. Sustained chord with out a hit\n",
      "Broken encoding. Sustained chord with out a hit\n",
      "Broken encoding. Sustained chord with out a hit\n",
      "Broken encoding. Sustained chord with out a hit\n",
      "Broken encoding. Sustained chord with out a hit\n",
      "Broken encoding. Sustained chord with out a hit\n",
      "Broken encoding. Sustained chord with out a hit\n",
      "Broken encoding. Sustained chord with out a hit\n",
      "Broken encoding. Sustained chord with out a hit\n",
      "Broken encoding. Sustained chord with out a hit\n",
      "Broken encoding. Sustained chord with out a hit\n",
      "Broken encoding. Sustained chord with out a hit\n",
      "Broken encoding. Sustained chord with out a hit\n",
      "Broken encoding. Sustained chord with out a hit\n",
      "Broken encoding. Sustained chord with out a hit\n",
      "Broken encoding. Sustained chord with out a hit\n",
      "Broken encoding. Sustained chord with out a hit\n",
      "Broken encoding. Sustained chord with out a hit\n",
      "Broken encoding. Sustained chord with out a hit\n",
      "Broken encoding. Sustained chord with out a hit\n",
      "Broken encoding. Sustained chord with out a hit\n",
      "Broken encoding. Sustained chord with out a hit\n",
      "Broken encoding. Sustained chord with out a hit\n",
      "Broken encoding. Sustained chord with out a hit\n",
      "Broken encoding. Sustained chord with out a hit\n",
      "Broken encoding. Sustained chord with out a hit\n",
      "Broken encoding. Sustained chord with out a hit\n",
      "Broken encoding. Sustained chord with out a hit\n",
      "Broken encoding. Sustained chord with out a hit\n",
      "Broken encoding. Sustained chord with out a hit\n",
      "Broken encoding. Sustained chord with out a hit\n"
     ]
    },
    {
     "data": {
      "text/plain": [
       "Part[0]:\n",
       "[Chords]:\n",
       "B(abs=2.0:dur=0.25) C([[sd=4:oct=0, sd=6:oct=0, sd=2:oct=1, sd=1:oct=2]])\n",
       "B(abs=4.0:dur=0.25) C([[sd=6:oct=0, sd=7:oct=0, sd=5:oct=1, sd=1:oct=2]])\n",
       "B(abs=8.0:dur=0.25) C([[sd=6:oct=0, sd=7:oct=0, sd=2:oct=1, sd=1:oct=2]])\n",
       "B(abs=12.0:dur=0.25) C([[sd=4:oct=0, sd=7:oct=0, sd=5:oct=1, sd=5:oct=1]])\n",
       "B(abs=14.0:dur=0.25) C([[sd=2:oct=0, sd=6:oct=0, sd=3:oct=1, sd=1:oct=2]])\n",
       "B(abs=20.0:dur=0.25) C([[sd=6:oct=0, sd=1:oct=1, sd=1:oct=1, sd=4:oct=1]])\n",
       "B(abs=24.0:dur=0.25) C([[sd=4:oct=0, sd=4:oct=0, sd=3:oct=1, sd=1:oct=2]])\n",
       "B(abs=28.0:dur=0.25) C([[sd=2#:oct=0, sd=7:oct=0, sd=6:oct=1, sd=6:oct=1]])\n",
       "B(abs=29.0:dur=0.25) C([[sd=6:oct=0, sd=3:oct=1, sd=1:oct=2, sd=7:oct=2]])\n",
       "B(abs=31.0:dur=0.25) C([[sd=2:oct=0, sd=5#:oct=0, sd=7:oct=0, sd=3:oct=1]])\n",
       "B(abs=32.0:dur=0.25) C([[sd=2:oct=0, sd=7:oct=0, sd=2:oct=1, sd=3:oct=1]])\n",
       "B(abs=36.0:dur=0.25) C([[sd=1:oct=0, sd=3:oct=0, sd=5:oct=0, sd=5:oct=0]])\n",
       "\n",
       "[Notes]:\n",
       "B(abs=1.5:dur=0.25) P(sd=3:oct=6)\n",
       "B(abs=2.0:dur=0.25) P(sd=2:oct=5)\n",
       "B(abs=2.5:dur=0.25) P(sd=3:oct=6)\n",
       "B(abs=2.75:dur=0.25) P(sd=1:oct=5)\n",
       "B(abs=3.0:dur=0.25) P(sd=3:oct=5)\n",
       "B(abs=3.5:dur=0.25) P(sd=4:oct=7)\n",
       "B(abs=4.0:dur=0.25) P(sd=4#:oct=5)\n",
       "B(abs=4.75:dur=0.25) P(sd=1:oct=6)\n",
       "B(abs=5.5:dur=0.25) P(sd=3:oct=4)\n",
       "B(abs=6.0:dur=0.25) P(sd=5:oct=6)\n",
       "B(abs=7.0:dur=0.25) P(sd=2:oct=5)\n",
       "B(abs=7.25:dur=0.25) P(sd=2:oct=5)\n",
       "B(abs=8.5:dur=0.25) P(sd=6:oct=5)\n",
       "B(abs=9.0:dur=0.25) P(sd=4:oct=5)\n",
       "B(abs=9.75:dur=0.25) P(sd=1:oct=6)\n",
       "B(abs=10.0:dur=0.25) P(sd=4:oct=6)\n",
       "B(abs=13.5:dur=0.25) P(sd=3:oct=5)\n",
       "B(abs=13.75:dur=0.25) P(sd=6:oct=5)\n",
       "B(abs=14.0:dur=0.25) P(sd=4:oct=5)\n",
       "B(abs=15.0:dur=0.25) P(sd=6:oct=4)\n",
       "B(abs=16.0:dur=0.25) P(sd=6:oct=5)\n",
       "B(abs=16.5:dur=0.25) P(sd=5:oct=5)\n",
       "B(abs=17.5:dur=0.25) P(sd=3:oct=6)\n",
       "B(abs=18.0:dur=0.25) P(sd=1:oct=6)\n",
       "B(abs=23.0:dur=0.25) P(sd=4:oct=5)\n",
       "B(abs=24.0:dur=0.25) P(sd=3:oct=5)\n",
       "B(abs=24.75:dur=0.25) P(sd=4:oct=5)\n",
       "B(abs=25.0:dur=0.25) P(sd=6:oct=5)\n",
       "B(abs=25.25:dur=0.25) P(sd=1:oct=6)\n",
       "B(abs=26.0:dur=0.25) P(sd=2:oct=4)\n",
       "B(abs=27.0:dur=0.25) P(sd=6:oct=4)\n",
       "B(abs=27.5:dur=0.25) P(sd=2:oct=5)\n",
       "B(abs=28.0:dur=0.25) P(sd=6:oct=6)\n",
       "B(abs=28.5:dur=0.25) P(sd=6:oct=4)\n",
       "B(abs=29.0:dur=0.25) P(sd=3:oct=6)\n",
       "B(abs=29.5:dur=0.25) P(sd=6:oct=4)\n",
       "B(abs=31.0:dur=0.25) P(sd=1:oct=5)\n",
       "B(abs=32.0:dur=0.25) P(sd=5#:oct=5)\n",
       "B(abs=33.5:dur=0.25) P(sd=5:oct=5)\n",
       "B(abs=34.25:dur=0.25) P(sd=7:oct=5)\n",
       "B(abs=35.0:dur=0.25) P(sd=2:oct=4)\n",
       "B(abs=36.0:dur=0.25) P(sd=6:oct=6)\n",
       "B(abs=37.5:dur=0.25) P(sd=3:oct=5)\n",
       "B(abs=37.75:dur=0.5) P(sd=3:oct=5)\n",
       "B(abs=38.25:dur=0.25) P(sd=2:oct=6)\n",
       "B(abs=38.75:dur=0.25) P(sd=2:oct=5)\n",
       "B(abs=39.5:dur=0.25) P(sd=2:oct=6)\n",
       "\n",
       "\n",
       "\n",
       "HMetadata(title='decoded', BPM='120', beats_in_measure='4', key='C', mode='1')"
      ]
     },
     "execution_count": 91,
     "metadata": {},
     "output_type": "execute_result"
    }
   ],
   "source": [
    "song = dec_arr(np.array(out)); song"
   ]
  },
  {
   "cell_type": "code",
   "execution_count": 92,
   "metadata": {},
   "outputs": [
    {
     "data": {
      "text/plain": [
       "tensor([[[ 3, 10,  3,  ...,  0,  3,  3],\n",
       "         [ 3, 10,  3,  ...,  0,  4,  3],\n",
       "         [ 3, 10,  3,  ...,  0,  4,  3],\n",
       "         ...,\n",
       "         [ 6, 10,  7,  ...,  0,  4,  3],\n",
       "         [ 6, 10,  5,  ...,  0,  4,  3],\n",
       "         [ 6, 10,  3,  ...,  0,  4,  3]],\n",
       "\n",
       "        [[ 3,  3,  3,  ...,  0,  3,  3],\n",
       "         [ 3,  3,  3,  ...,  0,  4,  3],\n",
       "         [ 3,  3,  3,  ...,  0,  4,  3],\n",
       "         ...,\n",
       "         [ 6,  3,  7,  ...,  0,  4,  3],\n",
       "         [ 6,  3,  3,  ...,  0,  4,  3],\n",
       "         [ 6,  3,  5,  ...,  0,  4,  3]],\n",
       "\n",
       "        [[ 3,  4,  5,  ...,  0,  3,  3],\n",
       "         [ 3,  4,  5,  ...,  0,  4,  3],\n",
       "         [ 3,  4,  7,  ...,  0,  4,  3],\n",
       "         ...,\n",
       "         [ 6,  4,  7,  ...,  0,  4,  3],\n",
       "         [ 6,  4,  3,  ...,  0,  4,  3],\n",
       "         [ 6,  4,  5,  ...,  0,  4,  3]],\n",
       "\n",
       "        ...,\n",
       "\n",
       "        [[ 3, 10,  0,  ...,  0,  3,  3],\n",
       "         [ 3, 10,  0,  ...,  0,  4,  3],\n",
       "         [ 3, 10,  0,  ...,  0,  4,  3],\n",
       "         ...,\n",
       "         [ 6, 10,  0,  ...,  0,  4,  3],\n",
       "         [ 6, 10,  0,  ...,  0,  4,  3],\n",
       "         [ 6, 10,  0,  ...,  0,  4,  3]],\n",
       "\n",
       "        [[ 0,  0,  0,  ...,  0,  2,  0],\n",
       "         [ 0,  0,  0,  ...,  0,  2,  0],\n",
       "         [ 0,  0,  0,  ...,  0,  2,  0],\n",
       "         ...,\n",
       "         [ 0,  0,  0,  ...,  0,  2,  0],\n",
       "         [ 0,  0,  0,  ...,  0,  2,  0],\n",
       "         [ 0,  0,  0,  ...,  0,  2,  0]],\n",
       "\n",
       "        [[ 3,  3,  0,  ...,  0,  1,  0],\n",
       "         [ 3,  3,  0,  ...,  0,  1,  0],\n",
       "         [ 3,  3,  0,  ...,  0,  1,  0],\n",
       "         ...,\n",
       "         [ 6,  3, 12,  ...,  8,  4,  3],\n",
       "         [ 6,  3, 12,  ...,  8,  4,  3],\n",
       "         [ 6,  3, 12,  ...,  8,  4,  3]]], device='cuda:0')"
      ]
     },
     "execution_count": 92,
     "metadata": {},
     "output_type": "execute_result"
    }
   ],
   "source": [
    "xb[0]"
   ]
  },
  {
   "cell_type": "code",
   "execution_count": 93,
   "metadata": {},
   "outputs": [],
   "source": [
    "arr = np.array(out)\n",
    "arr = arr-ht_encode.config.enc_offset"
   ]
  },
  {
   "cell_type": "code",
   "execution_count": 94,
   "metadata": {},
   "outputs": [
    {
     "data": {
      "text/plain": [
       "array([[[ 0,  1,  9,  6, ..., 11,  9,  1,  0],\n",
       "        [ 0,  1,  4,  5, ...,  7,  7, -2,  0],\n",
       "        [ 0,  1,  7,  5, ...,  0,  7,  1,  0],\n",
       "        [ 0,  1,  4,  5, ...,  2,  9,  1,  0],\n",
       "        ...,\n",
       "        [ 3,  1,  4,  5, ...,  9,  2,  1,  0],\n",
       "        [ 3,  1,  4,  6, ...,  2,  9,  1,  0],\n",
       "        [ 3,  1,  5,  7, ...,  2, 11,  1,  0],\n",
       "        [ 3,  1,  4,  6, ...,  7, 11,  1,  0]],\n",
       "\n",
       "       [[ 0,  2,  6,  5, ...,  7,  0,  0,  0],\n",
       "        [ 0,  2,  2,  5, ...,  4,  7,  1,  0],\n",
       "        [ 0,  2,  7,  5, ...,  2,  2,  1,  0],\n",
       "        [ 0,  2,  0,  6, ...,  0,  4,  1,  0],\n",
       "        ...,\n",
       "        [ 3,  2,  2,  5, ...,  0,  4,  1,  0],\n",
       "        [ 3,  2,  2,  5, ..., 11,  7,  1,  2],\n",
       "        [ 3,  2,  4,  6, ...,  2,  9, -2,  0],\n",
       "        [ 3,  2,  7,  5, ...,  5,  2,  1,  0]],\n",
       "\n",
       "       [[ 0,  3,  2,  6, ...,  2,  0,  0,  0],\n",
       "        [ 0,  3,  4,  4, ...,  7,  0, -2,  0],\n",
       "        [ 0,  3,  9,  5, ...,  0,  4,  1,  0],\n",
       "        [ 0,  3,  9,  6, ...,  4,  0,  1,  0],\n",
       "        ...,\n",
       "        [ 3,  3,  0,  5, ...,  2,  2,  1,  0],\n",
       "        [ 3,  3,  7,  5, ..., 11,  7,  1,  0],\n",
       "        [ 3,  3,  9,  5, ...,  4,  2,  1,  0],\n",
       "        [ 3,  3,  8,  6, ...,  4,  4,  1,  0]],\n",
       "\n",
       "       [[ 0,  4,  7,  5, ...,  7,  7,  0,  0],\n",
       "        [ 0,  4,  7,  5, ...,  4,  9,  1,  0],\n",
       "        [ 0,  4,  2,  7, ..., 11,  2,  1,  0],\n",
       "        [ 0,  4,  5,  5, ..., 11,  5,  1,  2],\n",
       "        ...,\n",
       "        [ 3,  4,  9,  4, ...,  2,  0,  1,  0],\n",
       "        [ 3,  4,  2,  5, ...,  7,  7,  1,  0],\n",
       "        [ 3,  4,  9,  4, ...,  2,  9,  1,  0],\n",
       "        [ 3,  4,  7,  5, ...,  9,  9,  1,  0]],\n",
       "\n",
       "       ...,\n",
       "\n",
       "       [[ 0,  7,  4,  5, ...,  4,  0,  0,  0],\n",
       "        [ 0,  7,  9,  7, ...,  0,  0,  1,  0],\n",
       "        [ 0,  7, 11,  5, ...,  4,  7,  1,  0],\n",
       "        [ 0,  7,  5,  5, ..., 11,  3,  1,  0],\n",
       "        ...,\n",
       "        [ 3,  7,  9,  4, ...,  9,  4,  1,  0],\n",
       "        [ 3,  7,  0,  4, ...,  7,  0,  1,  0],\n",
       "        [ 3,  7,  2,  5, ...,  2, 11,  1,  0],\n",
       "        [ 3,  7,  4,  5, ...,  0,  0,  1,  2]],\n",
       "\n",
       "       [[ 0,  0,  9,  6, ...,  9,  9,  0,  0],\n",
       "        [ 0,  0,  4,  5, ...,  4,  2, -1,  0],\n",
       "        [ 0,  0,  9,  4, ...,  6,  0,  1,  0],\n",
       "        [ 0,  0,  0,  5, ...,  2,  5,  1,  0],\n",
       "        ...,\n",
       "        [ 3,  0,  0,  5, ..., 11,  4,  0,  0],\n",
       "        [ 3,  0,  7,  6, ...,  4,  4,  1,  0],\n",
       "        [ 3,  0,  2,  5, ...,  4,  9, -1,  0],\n",
       "        [ 3,  0,  5,  6, ...,  2,  3,  1,  0]],\n",
       "\n",
       "       [[ 0,  1,  8,  5, ...,  2,  4,  0,  0],\n",
       "        [ 0,  1,  7,  6, ...,  7,  4,  1,  0],\n",
       "        [ 0,  1,  4,  5, ...,  2,  7,  1,  1],\n",
       "        [ 0,  1,  0,  4, ...,  4,  9,  1,  1],\n",
       "        ...,\n",
       "        [ 3,  1,  2,  4, ...,  2,  5, -1,  0],\n",
       "        [ 3,  1,  7,  6, ...,  0,  7,  1,  1],\n",
       "        [ 3,  1,  7,  5, ...,  4,  2,  1,  0],\n",
       "        [ 3,  1,  5,  5, ...,  0,  2,  1,  0]],\n",
       "\n",
       "       [[ 0,  2,  9,  6, ...,  7,  7,  0,  0],\n",
       "        [ 0,  2,  7,  5, ...,  0,  0,  1,  0],\n",
       "        [ 0,  2,  0,  6, ...,  9,  2, -1,  0],\n",
       "        [ 0,  2, 11,  5, ...,  0,  5,  1,  0],\n",
       "        ...,\n",
       "        [ 3,  2,  4,  6, ...,  0,  0,  1,  0],\n",
       "        [ 3,  2,  0,  6, ...,  7,  0, -1,  0],\n",
       "        [ 3,  2,  2,  6, ...,  9,  5,  1,  0],\n",
       "        [ 3,  2,  0,  5, ...,  2,  4,  1,  0]]])"
      ]
     },
     "execution_count": 94,
     "metadata": {},
     "output_type": "execute_result"
    }
   ],
   "source": [
    "arr"
   ]
  },
  {
   "cell_type": "code",
   "execution_count": 95,
   "metadata": {},
   "outputs": [],
   "source": [
    "if (arr[0] == ht_encode.config.bos_idx).any():\n",
    "    arr = arr[1:]"
   ]
  },
  {
   "cell_type": "code",
   "execution_count": 96,
   "metadata": {},
   "outputs": [
    {
     "data": {
      "text/plain": [
       "(16, 11)"
      ]
     },
     "execution_count": 96,
     "metadata": {},
     "output_type": "execute_result"
    }
   ],
   "source": [
    "arr[0].shape"
   ]
  },
  {
   "cell_type": "code",
   "execution_count": 97,
   "metadata": {},
   "outputs": [
    {
     "data": {
      "text/plain": [
       "array([[False, False, False, False, ..., False, False, False, False],\n",
       "       [False, False, False, False, ..., False, False, False, False],\n",
       "       [False, False, False, False, ..., False, False, False, False],\n",
       "       [False, False, False, False, ..., False, False, False, False],\n",
       "       ...,\n",
       "       [False, False, False, False, ..., False, False, False, False],\n",
       "       [False, False, False, False, ..., False, False, False, False],\n",
       "       [False, False, False, False, ..., False, False, False, False],\n",
       "       [False, False, False, False, ..., False, False, False, False]])"
      ]
     },
     "execution_count": 97,
     "metadata": {},
     "output_type": "execute_result"
    }
   ],
   "source": [
    "arr[0] == ht_encode.config.bos_idx"
   ]
  },
  {
   "cell_type": "code",
   "execution_count": 98,
   "metadata": {},
   "outputs": [],
   "source": [
    "stream = song.to_stream()"
   ]
  },
  {
   "cell_type": "code",
   "execution_count": 99,
   "metadata": {},
   "outputs": [
    {
     "name": "stdout",
     "output_type": "stream",
     "text": [
      "{0.0} <music21.instrument.Piano Piano>\n",
      "{0.0} <music21.stream.Part 0x7f4d915aaf98>\n",
      "    {0.0} <music21.stream.Part 0x7f4d915aaeb8>\n",
      "        {1.5} <music21.note.Note E>\n",
      "        {2.0} <music21.note.Note D>\n",
      "        {2.5} <music21.note.Note E>\n",
      "        {2.75} <music21.note.Note C>\n",
      "        {3.0} <music21.note.Note E>\n",
      "        {3.5} <music21.note.Note F>\n",
      "        {4.0} <music21.note.Note F#>\n",
      "        {4.75} <music21.note.Note C>\n",
      "        {5.5} <music21.note.Note E>\n",
      "        {6.0} <music21.note.Note G>\n",
      "        {7.0} <music21.note.Note D>\n",
      "        {7.25} <music21.note.Note D>\n",
      "        {8.5} <music21.note.Note A>\n",
      "        {9.0} <music21.note.Note F>\n",
      "        {9.75} <music21.note.Note C>\n",
      "        {10.0} <music21.note.Note F>\n",
      "        {13.5} <music21.note.Note E>\n",
      "        {13.75} <music21.note.Note A>\n",
      "        {14.0} <music21.note.Note F>\n",
      "        {15.0} <music21.note.Note A>\n",
      "        {16.0} <music21.note.Note A>\n",
      "        {16.5} <music21.note.Note G>\n",
      "        {17.5} <music21.note.Note E>\n",
      "        {18.0} <music21.note.Note C>\n",
      "        {23.0} <music21.note.Note F>\n",
      "        {24.0} <music21.note.Note E>\n",
      "        {24.75} <music21.note.Note F>\n",
      "        {25.0} <music21.note.Note A>\n",
      "        {25.25} <music21.note.Note C>\n",
      "        {26.0} <music21.note.Note D>\n",
      "        {27.0} <music21.note.Note A>\n",
      "        {27.5} <music21.note.Note D>\n",
      "        {28.0} <music21.note.Note A>\n",
      "        {28.5} <music21.note.Note A>\n",
      "        {29.0} <music21.note.Note E>\n",
      "        {29.5} <music21.note.Note A>\n",
      "        {31.0} <music21.note.Note C>\n",
      "        {32.0} <music21.note.Note G#>\n",
      "        {33.5} <music21.note.Note G>\n",
      "        {34.25} <music21.note.Note B>\n",
      "        {35.0} <music21.note.Note D>\n",
      "        {36.0} <music21.note.Note A>\n",
      "        {37.5} <music21.note.Note E>\n",
      "        {37.75} <music21.note.Note E>\n",
      "        {38.25} <music21.note.Note D>\n",
      "        {38.75} <music21.note.Note D>\n",
      "        {39.5} <music21.note.Note D>\n",
      "{0.0} <music21.stream.Part 0x7f4d915aafd0>\n",
      "    {0.0} <music21.stream.Part 0x7f4d915aac50>\n",
      "        {2.0} <music21.chord.Chord F2 A2 D3 C4>\n",
      "        {4.0} <music21.chord.Chord A2 B2 G3 C4>\n",
      "        {8.0} <music21.chord.Chord A2 B2 D3 C4>\n",
      "        {12.0} <music21.chord.Chord F2 B2 G3 G3>\n",
      "        {14.0} <music21.chord.Chord D2 A2 E3 C4>\n",
      "        {20.0} <music21.chord.Chord A2 C3 C3 F3>\n",
      "        {24.0} <music21.chord.Chord F2 F2 E3 C4>\n",
      "        {28.0} <music21.chord.Chord E-2 B2 A3 A3>\n",
      "        {29.0} <music21.chord.Chord A2 E3 C4 B4>\n",
      "        {31.0} <music21.chord.Chord D2 G#2 B2 E3>\n",
      "        {32.0} <music21.chord.Chord D2 B2 D3 E3>\n",
      "        {36.0} <music21.chord.Chord C2 E2 G2 G2>\n",
      "{0.0} <music21.tempo.MetronomeMark animato Quarter=120>\n",
      "{0.0} <music21.key.Key of C major>\n",
      "{0.0} <music21.meter.TimeSignature 4/4>\n"
     ]
    }
   ],
   "source": [
    "stream.show('text')"
   ]
  },
  {
   "cell_type": "code",
   "execution_count": 100,
   "metadata": {},
   "outputs": [
    {
     "data": {
      "image/png": "[encoded data removed]",
      "text/plain": [
       "<IPython.core.display.Image object>"
      ]
     },
     "metadata": {
      "image/png": {
       "height": 552,
       "width": 751
      }
     },
     "output_type": "display_data"
    }
   ],
   "source": [
    "stream.show()"
   ]
  },
  {
   "cell_type": "code",
   "execution_count": 101,
   "metadata": {},
   "outputs": [
    {
     "data": {
      "text/html": [
       "\n",
       "                <div id='midiPlayerDiv16661'></div>\n",
       "                <link rel=\"stylesheet\" href=\"//cuthbertLab.github.io/music21j/css/m21.css\"\n",
       "                    type=\"text/css\" />\n",
       "                <script>\n",
       "                require.config({\n",
       "                    paths: {'music21': '//cuthbertLab.github.io/music21j/src/music21'}\n",
       "                });\n",
       "                require(['music21'], function() {\n",
       "                               mp = new music21.miditools.MidiPlayer();\n",
       "                               mp.addPlayer('#midiPlayerDiv16661');\n",
       "                               mp.base64Load('data:audio/midi;base64,TVRoZAAAAAYAAQACBABNVHJrAAAB4AD/AwAA4ABAAP9RAwehIIwAkExaggCATACCAJA+WoIAgD4AggCQTFqCAIBMAACQPFqCAIA8AACQQFqCAIBAAIIAkFlaggCAWQCCAJBCWoIAgEIAhACQSFqCAIBIAIQAkDRaggCANACCAJBPWoIAgE8AhgCQPlqCAIA+AACQPlqCAIA+AIgAkEVaggCARQCCAJBBWoIAgEEAhACQSFqCAIBIAACQTVqCAIBNAJoAkEBaggCAQAAAkEVaggCARQAAkEFaggCAQQCGAJA5WoIAgDkAhgCQRVqCAIBFAIIAkENaggCAQwCGAJBMWoIAgEwAggCQSFqCAIBIAKYAkEFaggCAQQCGAJBAWoIAgEAAhACQQVqCAIBBAACQRVqCAIBFAACQSFqCAIBIAIQAkDJaggCAMgCGAJA5WoIAgDkAggCQPlqCAIA+AIIAkFFaggCAUQCCAJA5WoIAgDkAggCQTFqCAIBMAIIAkDlaggCAOQCKAJA8WoIAgDwAhgCQRFqCAIBEAIoAkENaggCAQwCEAJBHWoIAgEcAhACQMlqCAIAyAIYAkFFaggCAUQCKAJBAWoIAgEAAAJBAWoQAgEAAAJBKWoIAgEoAggCQPlqCAIA+AIQAkEpaggCASgCIAP8vAE1UcmsAAAGlAP8DAADgAECQAJApWgCQLVoAkDJaAJA8WoIAgCkAAIAtAACAMgAAgDwAjgCQLVoAkC9aAJA3WgCQPFqCAIAtAACALwAAgDcAAIA8AJ4AkC1aAJAvWgCQMloAkDxaggCALQAAgC8AAIAyAACAPACeAJApWgCQL1oAkDdaAJA3WoIAgCkAAIAvAACANwAAgDcAjgCQJloAkC1aAJA0WgCQPFqCAIAmAACALQAAgDQAAIA8AK4AkC1aAJAwWgCQMFoAkDVaggCALQAAgDAAAIAwAACANQCeAJApWgCQKVoAkDRaAJA8WoIAgCkAAIApAACANAAAgDwAngCQJ1oAkC9aAJA5WgCQOVqCAIAnAACALwAAgDkAAIA5AIYAkC1aAJA0WgCQPFoAkEdaggCALQAAgDQAAIA8AACARwCOAJAmWgCQLFoAkC9aAJA0WoIAgCYAAIAsAACALwAAgDQAhgCQJloAkC9aAJAyWgCQNFqCAIAmAACALwAAgDIAAIA0AJ4AkCRaAJAoWgCQK1oAkCtaggCAJAAAgCgAAIArAACAKwCIAP8vAA==');\n",
       "                        });\n",
       "                </script>"
      ],
      "text/plain": [
       "<IPython.core.display.HTML object>"
      ]
     },
     "metadata": {},
     "output_type": "display_data"
    }
   ],
   "source": [
    "stream.show('midi')"
   ]
  },
  {
   "cell_type": "code",
   "execution_count": null,
   "metadata": {},
   "outputs": [],
   "source": []
  },
  {
   "cell_type": "code",
   "execution_count": null,
   "metadata": {},
   "outputs": [],
   "source": []
  }
 ],
 "metadata": {
  "kernelspec": {
   "display_name": "Python 3",
   "language": "python",
   "name": "python3"
  },
  "language_info": {
   "codemirror_mode": {
    "name": "ipython",
    "version": 3
   },
   "file_extension": ".py",
   "mimetype": "text/x-python",
   "name": "python",
   "nbconvert_exporter": "python",
   "pygments_lexer": "ipython3",
   "version": "3.7.1"
  }
 },
 "nbformat": 4,
 "nbformat_minor": 2
}

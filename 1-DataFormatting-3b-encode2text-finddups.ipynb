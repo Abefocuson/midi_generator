{
 "cells": [
  {
   "cell_type": "code",
   "execution_count": 1,
   "metadata": {},
   "outputs": [],
   "source": [
    "%reload_ext autoreload\n",
    "%autoreload 2\n",
    "%matplotlib inline"
   ]
  },
  {
   "cell_type": "code",
   "execution_count": 2,
   "metadata": {},
   "outputs": [],
   "source": [
    "from encode_data import *\n",
    "from midi_data import *"
   ]
  },
  {
   "cell_type": "code",
   "execution_count": 3,
   "metadata": {},
   "outputs": [],
   "source": [
    "from tqdm import tqdm"
   ]
  },
  {
   "cell_type": "markdown",
   "metadata": {},
   "source": [
    "## Encode music21 stream to text representation \n",
    "\n",
    "This notebook uses a full component format \n",
    "- measure separators, instruments, and separated octaves\n",
    "- Format: note, octave, action type, instrument\n",
    "- note repr: nG# o4 t1 i0"
   ]
  },
  {
   "cell_type": "markdown",
   "metadata": {},
   "source": [
    "### Load midi data"
   ]
  },
  {
   "cell_type": "code",
   "execution_count": 4,
   "metadata": {},
   "outputs": [],
   "source": [
    "path = Path('data/midi')\n",
    "csv_path = path/'metadata'"
   ]
  },
  {
   "cell_type": "code",
   "execution_count": 5,
   "metadata": {},
   "outputs": [],
   "source": [
    "source_dir = 'midi_sources'\n",
    "# source_dir = 'midi_transform_v1'\n",
    "out_dir = 'midi_transcribe_v1'\n",
    "source_csv = csv_path/f'{source_dir}.csv'\n",
    "out_csv = csv_path/f'{out_dir}.csv'"
   ]
  },
  {
   "cell_type": "code",
   "execution_count": 6,
   "metadata": {},
   "outputs": [],
   "source": [
    "import pandas as pd"
   ]
  },
  {
   "cell_type": "code",
   "execution_count": 7,
   "metadata": {},
   "outputs": [
    {
     "name": "stderr",
     "output_type": "stream",
     "text": [
      "/home/ubuntu/anaconda3/envs/midi/lib/python3.7/site-packages/IPython/core/interactiveshell.py:3020: DtypeWarning: Columns (5,13,14,16,17) have mixed types. Specify dtype option on import or set low_memory=False.\n",
      "  interactivity=interactivity, compiler=compiler, result=result)\n"
     ]
    },
    {
     "data": {
      "text/html": [
       "<div>\n",
       "<style scoped>\n",
       "    .dataframe tbody tr th:only-of-type {\n",
       "        vertical-align: middle;\n",
       "    }\n",
       "\n",
       "    .dataframe tbody tr th {\n",
       "        vertical-align: top;\n",
       "    }\n",
       "\n",
       "    .dataframe thead th {\n",
       "        text-align: right;\n",
       "    }\n",
       "</style>\n",
       "<table border=\"1\" class=\"dataframe\">\n",
       "  <thead>\n",
       "    <tr style=\"text-align: right;\">\n",
       "      <th></th>\n",
       "      <th>artist</th>\n",
       "      <th>bpm</th>\n",
       "      <th>genres</th>\n",
       "      <th>ht_bpm</th>\n",
       "      <th>ht_key</th>\n",
       "      <th>ht_mode</th>\n",
       "      <th>ht_offset</th>\n",
       "      <th>ht_time_signature</th>\n",
       "      <th>inferred_key</th>\n",
       "      <th>inferred_offset</th>\n",
       "      <th>instruments</th>\n",
       "      <th>midi</th>\n",
       "      <th>midi_title</th>\n",
       "      <th>parts</th>\n",
       "      <th>seconds</th>\n",
       "      <th>section</th>\n",
       "      <th>song_url</th>\n",
       "      <th>source</th>\n",
       "      <th>time_signature</th>\n",
       "      <th>title</th>\n",
       "    </tr>\n",
       "  </thead>\n",
       "  <tbody>\n",
       "    <tr>\n",
       "      <th>0</th>\n",
       "      <td>wayne-sharpe</td>\n",
       "      <td>128.0</td>\n",
       "      <td>NaN</td>\n",
       "      <td>128.0</td>\n",
       "      <td>C</td>\n",
       "      <td>1.0</td>\n",
       "      <td>0.0</td>\n",
       "      <td>4.0</td>\n",
       "      <td>C major</td>\n",
       "      <td>0.0</td>\n",
       "      <td>Piano,Piano</td>\n",
       "      <td>data/midi/midi_sources/hooktheory/pianoroll/w/...</td>\n",
       "      <td>yu-gi-oh3</td>\n",
       "      <td>intro,chorus</td>\n",
       "      <td>15.000000</td>\n",
       "      <td>chorus</td>\n",
       "      <td>https://www.hooktheory.com/theorytab/view/wayn...</td>\n",
       "      <td>hooktheory</td>\n",
       "      <td>4/4</td>\n",
       "      <td>yu-gi-oh-theme-song</td>\n",
       "    </tr>\n",
       "    <tr>\n",
       "      <th>1</th>\n",
       "      <td>weezer</td>\n",
       "      <td>NaN</td>\n",
       "      <td>NaN</td>\n",
       "      <td>128.0</td>\n",
       "      <td>C</td>\n",
       "      <td>NaN</td>\n",
       "      <td>0.0</td>\n",
       "      <td>4.0</td>\n",
       "      <td>NaN</td>\n",
       "      <td>NaN</td>\n",
       "      <td>NaN</td>\n",
       "      <td>data/midi/midi_sources/hooktheory/pianoroll/w/...</td>\n",
       "      <td>My New Song</td>\n",
       "      <td>intro-and-verse</td>\n",
       "      <td>NaN</td>\n",
       "      <td>intro-and-verse</td>\n",
       "      <td>https://www.hooktheory.com/theorytab/view/weez...</td>\n",
       "      <td>hooktheory</td>\n",
       "      <td>NaN</td>\n",
       "      <td>beverly-hills</td>\n",
       "    </tr>\n",
       "    <tr>\n",
       "      <th>2</th>\n",
       "      <td>weezer</td>\n",
       "      <td>108.0</td>\n",
       "      <td>NaN</td>\n",
       "      <td>108.0</td>\n",
       "      <td>Eb</td>\n",
       "      <td>1.0</td>\n",
       "      <td>-3.0</td>\n",
       "      <td>4.0</td>\n",
       "      <td>E- major</td>\n",
       "      <td>-3.0</td>\n",
       "      <td>Piano,Piano</td>\n",
       "      <td>data/midi/midi_sources/hooktheory/pianoroll/w/...</td>\n",
       "      <td>falling for you intro</td>\n",
       "      <td>intro,verse,chorus,solo</td>\n",
       "      <td>11.111111</td>\n",
       "      <td>intro</td>\n",
       "      <td>https://www.hooktheory.com/theorytab/view/weez...</td>\n",
       "      <td>hooktheory</td>\n",
       "      <td>4/4</td>\n",
       "      <td>falling-for-you</td>\n",
       "    </tr>\n",
       "    <tr>\n",
       "      <th>3</th>\n",
       "      <td>weezer</td>\n",
       "      <td>121.0</td>\n",
       "      <td>Pop,Rock</td>\n",
       "      <td>121.0</td>\n",
       "      <td>Ab</td>\n",
       "      <td>1.0</td>\n",
       "      <td>4.0</td>\n",
       "      <td>4.0</td>\n",
       "      <td>A- major</td>\n",
       "      <td>4.0</td>\n",
       "      <td>Piano,Piano</td>\n",
       "      <td>data/midi/midi_sources/hooktheory/pianoroll/w/...</td>\n",
       "      <td>Buddy Holly</td>\n",
       "      <td>verse,pre-chorus,chorus,bridge,solo</td>\n",
       "      <td>43.388430</td>\n",
       "      <td>solo</td>\n",
       "      <td>https://www.hooktheory.com/theorytab/view/weez...</td>\n",
       "      <td>hooktheory</td>\n",
       "      <td>4/4</td>\n",
       "      <td>buddy-holly</td>\n",
       "    </tr>\n",
       "    <tr>\n",
       "      <th>4</th>\n",
       "      <td>wavves</td>\n",
       "      <td>180.0</td>\n",
       "      <td>NaN</td>\n",
       "      <td>180.0</td>\n",
       "      <td>A</td>\n",
       "      <td>1.0</td>\n",
       "      <td>3.0</td>\n",
       "      <td>4.0</td>\n",
       "      <td>B minor</td>\n",
       "      <td>-2.0</td>\n",
       "      <td>Piano,Piano</td>\n",
       "      <td>data/midi/midi_sources/hooktheory/pianoroll/w/...</td>\n",
       "      <td>dreams of grandeur</td>\n",
       "      <td>verse</td>\n",
       "      <td>21.333333</td>\n",
       "      <td>verse</td>\n",
       "      <td>https://www.hooktheory.com/theorytab/view/wavv...</td>\n",
       "      <td>hooktheory</td>\n",
       "      <td>4/4</td>\n",
       "      <td>dreams-of-grandeur</td>\n",
       "    </tr>\n",
       "  </tbody>\n",
       "</table>\n",
       "</div>"
      ],
      "text/plain": [
       "         artist    bpm    genres  ht_bpm ht_key  ht_mode  ht_offset  \\\n",
       "0  wayne-sharpe  128.0       NaN   128.0      C      1.0        0.0   \n",
       "1        weezer    NaN       NaN   128.0      C      NaN        0.0   \n",
       "2        weezer  108.0       NaN   108.0     Eb      1.0       -3.0   \n",
       "3        weezer  121.0  Pop,Rock   121.0     Ab      1.0        4.0   \n",
       "4        wavves  180.0       NaN   180.0      A      1.0        3.0   \n",
       "\n",
       "   ht_time_signature inferred_key  inferred_offset  instruments  \\\n",
       "0                4.0      C major              0.0  Piano,Piano   \n",
       "1                4.0          NaN              NaN          NaN   \n",
       "2                4.0     E- major             -3.0  Piano,Piano   \n",
       "3                4.0     A- major              4.0  Piano,Piano   \n",
       "4                4.0      B minor             -2.0  Piano,Piano   \n",
       "\n",
       "                                                midi             midi_title  \\\n",
       "0  data/midi/midi_sources/hooktheory/pianoroll/w/...              yu-gi-oh3   \n",
       "1  data/midi/midi_sources/hooktheory/pianoroll/w/...            My New Song   \n",
       "2  data/midi/midi_sources/hooktheory/pianoroll/w/...  falling for you intro   \n",
       "3  data/midi/midi_sources/hooktheory/pianoroll/w/...            Buddy Holly   \n",
       "4  data/midi/midi_sources/hooktheory/pianoroll/w/...     dreams of grandeur   \n",
       "\n",
       "                                 parts    seconds          section  \\\n",
       "0                         intro,chorus  15.000000           chorus   \n",
       "1                      intro-and-verse        NaN  intro-and-verse   \n",
       "2              intro,verse,chorus,solo  11.111111            intro   \n",
       "3  verse,pre-chorus,chorus,bridge,solo  43.388430             solo   \n",
       "4                                verse  21.333333            verse   \n",
       "\n",
       "                                            song_url      source  \\\n",
       "0  https://www.hooktheory.com/theorytab/view/wayn...  hooktheory   \n",
       "1  https://www.hooktheory.com/theorytab/view/weez...  hooktheory   \n",
       "2  https://www.hooktheory.com/theorytab/view/weez...  hooktheory   \n",
       "3  https://www.hooktheory.com/theorytab/view/weez...  hooktheory   \n",
       "4  https://www.hooktheory.com/theorytab/view/wavv...  hooktheory   \n",
       "\n",
       "  time_signature                title  \n",
       "0            4/4  yu-gi-oh-theme-song  \n",
       "1            NaN        beverly-hills  \n",
       "2            4/4      falling-for-you  \n",
       "3            4/4          buddy-holly  \n",
       "4            4/4   dreams-of-grandeur  "
      ]
     },
     "execution_count": 7,
     "metadata": {},
     "output_type": "execute_result"
    }
   ],
   "source": [
    "df = pd.read_csv(source_csv, index_col=0); df.head()"
   ]
  },
  {
   "cell_type": "code",
   "execution_count": 8,
   "metadata": {},
   "outputs": [
    {
     "data": {
      "text/plain": [
       "(30201, 20)"
      ]
     },
     "execution_count": 8,
     "metadata": {},
     "output_type": "execute_result"
    }
   ],
   "source": [
    "df_filtered = df.loc[df['time_signature'] == '4/4']; df_filtered.shape"
   ]
  },
  {
   "cell_type": "code",
   "execution_count": 9,
   "metadata": {},
   "outputs": [
    {
     "data": {
      "text/html": [
       "<div>\n",
       "<style scoped>\n",
       "    .dataframe tbody tr th:only-of-type {\n",
       "        vertical-align: middle;\n",
       "    }\n",
       "\n",
       "    .dataframe tbody tr th {\n",
       "        vertical-align: top;\n",
       "    }\n",
       "\n",
       "    .dataframe thead th {\n",
       "        text-align: right;\n",
       "    }\n",
       "</style>\n",
       "<table border=\"1\" class=\"dataframe\">\n",
       "  <thead>\n",
       "    <tr style=\"text-align: right;\">\n",
       "      <th></th>\n",
       "      <th>artist</th>\n",
       "      <th>bpm</th>\n",
       "      <th>genres</th>\n",
       "      <th>ht_bpm</th>\n",
       "      <th>ht_key</th>\n",
       "      <th>ht_mode</th>\n",
       "      <th>ht_offset</th>\n",
       "      <th>ht_time_signature</th>\n",
       "      <th>inferred_key</th>\n",
       "      <th>inferred_offset</th>\n",
       "      <th>instruments</th>\n",
       "      <th>midi</th>\n",
       "      <th>midi_title</th>\n",
       "      <th>parts</th>\n",
       "      <th>seconds</th>\n",
       "      <th>section</th>\n",
       "      <th>song_url</th>\n",
       "      <th>source</th>\n",
       "      <th>time_signature</th>\n",
       "      <th>title</th>\n",
       "    </tr>\n",
       "  </thead>\n",
       "  <tbody>\n",
       "    <tr>\n",
       "      <th>0</th>\n",
       "      <td>wayne-sharpe</td>\n",
       "      <td>128.0</td>\n",
       "      <td>NaN</td>\n",
       "      <td>128.0</td>\n",
       "      <td>C</td>\n",
       "      <td>1.0</td>\n",
       "      <td>0.0</td>\n",
       "      <td>4.0</td>\n",
       "      <td>C major</td>\n",
       "      <td>0.0</td>\n",
       "      <td>Piano,Piano</td>\n",
       "      <td>data/midi/midi_sources/hooktheory/pianoroll/w/...</td>\n",
       "      <td>yu-gi-oh3</td>\n",
       "      <td>intro,chorus</td>\n",
       "      <td>15.000000</td>\n",
       "      <td>chorus</td>\n",
       "      <td>https://www.hooktheory.com/theorytab/view/wayn...</td>\n",
       "      <td>hooktheory</td>\n",
       "      <td>4/4</td>\n",
       "      <td>yu-gi-oh-theme-song</td>\n",
       "    </tr>\n",
       "    <tr>\n",
       "      <th>2</th>\n",
       "      <td>weezer</td>\n",
       "      <td>108.0</td>\n",
       "      <td>NaN</td>\n",
       "      <td>108.0</td>\n",
       "      <td>Eb</td>\n",
       "      <td>1.0</td>\n",
       "      <td>-3.0</td>\n",
       "      <td>4.0</td>\n",
       "      <td>E- major</td>\n",
       "      <td>-3.0</td>\n",
       "      <td>Piano,Piano</td>\n",
       "      <td>data/midi/midi_sources/hooktheory/pianoroll/w/...</td>\n",
       "      <td>falling for you intro</td>\n",
       "      <td>intro,verse,chorus,solo</td>\n",
       "      <td>11.111111</td>\n",
       "      <td>intro</td>\n",
       "      <td>https://www.hooktheory.com/theorytab/view/weez...</td>\n",
       "      <td>hooktheory</td>\n",
       "      <td>4/4</td>\n",
       "      <td>falling-for-you</td>\n",
       "    </tr>\n",
       "    <tr>\n",
       "      <th>3</th>\n",
       "      <td>weezer</td>\n",
       "      <td>121.0</td>\n",
       "      <td>Pop,Rock</td>\n",
       "      <td>121.0</td>\n",
       "      <td>Ab</td>\n",
       "      <td>1.0</td>\n",
       "      <td>4.0</td>\n",
       "      <td>4.0</td>\n",
       "      <td>A- major</td>\n",
       "      <td>4.0</td>\n",
       "      <td>Piano,Piano</td>\n",
       "      <td>data/midi/midi_sources/hooktheory/pianoroll/w/...</td>\n",
       "      <td>Buddy Holly</td>\n",
       "      <td>verse,pre-chorus,chorus,bridge,solo</td>\n",
       "      <td>43.388430</td>\n",
       "      <td>solo</td>\n",
       "      <td>https://www.hooktheory.com/theorytab/view/weez...</td>\n",
       "      <td>hooktheory</td>\n",
       "      <td>4/4</td>\n",
       "      <td>buddy-holly</td>\n",
       "    </tr>\n",
       "    <tr>\n",
       "      <th>4</th>\n",
       "      <td>wavves</td>\n",
       "      <td>180.0</td>\n",
       "      <td>NaN</td>\n",
       "      <td>180.0</td>\n",
       "      <td>A</td>\n",
       "      <td>1.0</td>\n",
       "      <td>3.0</td>\n",
       "      <td>4.0</td>\n",
       "      <td>B minor</td>\n",
       "      <td>-2.0</td>\n",
       "      <td>Piano,Piano</td>\n",
       "      <td>data/midi/midi_sources/hooktheory/pianoroll/w/...</td>\n",
       "      <td>dreams of grandeur</td>\n",
       "      <td>verse</td>\n",
       "      <td>21.333333</td>\n",
       "      <td>verse</td>\n",
       "      <td>https://www.hooktheory.com/theorytab/view/wavv...</td>\n",
       "      <td>hooktheory</td>\n",
       "      <td>4/4</td>\n",
       "      <td>dreams-of-grandeur</td>\n",
       "    </tr>\n",
       "    <tr>\n",
       "      <th>6</th>\n",
       "      <td>walter-murphy</td>\n",
       "      <td>126.0</td>\n",
       "      <td>Soundtrack</td>\n",
       "      <td>126.0</td>\n",
       "      <td>C</td>\n",
       "      <td>1.0</td>\n",
       "      <td>0.0</td>\n",
       "      <td>4.0</td>\n",
       "      <td>C major</td>\n",
       "      <td>0.0</td>\n",
       "      <td>Piano,Piano</td>\n",
       "      <td>data/midi/midi_sources/hooktheory/pianoroll/w/...</td>\n",
       "      <td>Freakin FCC Bridge</td>\n",
       "      <td>intro-and-verse,bridge</td>\n",
       "      <td>17.142857</td>\n",
       "      <td>bridge</td>\n",
       "      <td>https://www.hooktheory.com/theorytab/view/walt...</td>\n",
       "      <td>hooktheory</td>\n",
       "      <td>4/4</td>\n",
       "      <td>the-freaking-fcc</td>\n",
       "    </tr>\n",
       "  </tbody>\n",
       "</table>\n",
       "</div>"
      ],
      "text/plain": [
       "          artist    bpm      genres  ht_bpm ht_key  ht_mode  ht_offset  \\\n",
       "0   wayne-sharpe  128.0         NaN   128.0      C      1.0        0.0   \n",
       "2         weezer  108.0         NaN   108.0     Eb      1.0       -3.0   \n",
       "3         weezer  121.0    Pop,Rock   121.0     Ab      1.0        4.0   \n",
       "4         wavves  180.0         NaN   180.0      A      1.0        3.0   \n",
       "6  walter-murphy  126.0  Soundtrack   126.0      C      1.0        0.0   \n",
       "\n",
       "   ht_time_signature inferred_key  inferred_offset  instruments  \\\n",
       "0                4.0      C major              0.0  Piano,Piano   \n",
       "2                4.0     E- major             -3.0  Piano,Piano   \n",
       "3                4.0     A- major              4.0  Piano,Piano   \n",
       "4                4.0      B minor             -2.0  Piano,Piano   \n",
       "6                4.0      C major              0.0  Piano,Piano   \n",
       "\n",
       "                                                midi             midi_title  \\\n",
       "0  data/midi/midi_sources/hooktheory/pianoroll/w/...              yu-gi-oh3   \n",
       "2  data/midi/midi_sources/hooktheory/pianoroll/w/...  falling for you intro   \n",
       "3  data/midi/midi_sources/hooktheory/pianoroll/w/...            Buddy Holly   \n",
       "4  data/midi/midi_sources/hooktheory/pianoroll/w/...     dreams of grandeur   \n",
       "6  data/midi/midi_sources/hooktheory/pianoroll/w/...     Freakin FCC Bridge   \n",
       "\n",
       "                                 parts    seconds section  \\\n",
       "0                         intro,chorus  15.000000  chorus   \n",
       "2              intro,verse,chorus,solo  11.111111   intro   \n",
       "3  verse,pre-chorus,chorus,bridge,solo  43.388430    solo   \n",
       "4                                verse  21.333333   verse   \n",
       "6               intro-and-verse,bridge  17.142857  bridge   \n",
       "\n",
       "                                            song_url      source  \\\n",
       "0  https://www.hooktheory.com/theorytab/view/wayn...  hooktheory   \n",
       "2  https://www.hooktheory.com/theorytab/view/weez...  hooktheory   \n",
       "3  https://www.hooktheory.com/theorytab/view/weez...  hooktheory   \n",
       "4  https://www.hooktheory.com/theorytab/view/wavv...  hooktheory   \n",
       "6  https://www.hooktheory.com/theorytab/view/walt...  hooktheory   \n",
       "\n",
       "  time_signature                title  \n",
       "0            4/4  yu-gi-oh-theme-song  \n",
       "2            4/4      falling-for-you  \n",
       "3            4/4          buddy-holly  \n",
       "4            4/4   dreams-of-grandeur  \n",
       "6            4/4     the-freaking-fcc  "
      ]
     },
     "execution_count": 9,
     "metadata": {},
     "output_type": "execute_result"
    }
   ],
   "source": [
    "df_filtered.head()"
   ]
  },
  {
   "cell_type": "code",
   "execution_count": 11,
   "metadata": {},
   "outputs": [
    {
     "data": {
      "text/plain": [
       "False"
      ]
     },
     "execution_count": 11,
     "metadata": {},
     "output_type": "execute_result"
    }
   ],
   "source": [
    "df_filtered.midi.duplicated().any()"
   ]
  },
  {
   "cell_type": "code",
   "execution_count": 26,
   "metadata": {},
   "outputs": [
    {
     "ename": "KeyError",
     "evalue": "'midi_sources'",
     "output_type": "error",
     "traceback": [
      "\u001b[0;31m---------------------------------------------------------------------------\u001b[0m",
      "\u001b[0;31mKeyError\u001b[0m                                  Traceback (most recent call last)",
      "\u001b[0;32m~/anaconda3/envs/midi/lib/python3.7/site-packages/pandas/core/indexes/base.py\u001b[0m in \u001b[0;36mget_loc\u001b[0;34m(self, key, method, tolerance)\u001b[0m\n\u001b[1;32m   3077\u001b[0m             \u001b[0;32mtry\u001b[0m\u001b[0;34m:\u001b[0m\u001b[0;34m\u001b[0m\u001b[0;34m\u001b[0m\u001b[0m\n\u001b[0;32m-> 3078\u001b[0;31m                 \u001b[0;32mreturn\u001b[0m \u001b[0mself\u001b[0m\u001b[0;34m.\u001b[0m\u001b[0m_engine\u001b[0m\u001b[0;34m.\u001b[0m\u001b[0mget_loc\u001b[0m\u001b[0;34m(\u001b[0m\u001b[0mkey\u001b[0m\u001b[0;34m)\u001b[0m\u001b[0;34m\u001b[0m\u001b[0;34m\u001b[0m\u001b[0m\n\u001b[0m\u001b[1;32m   3079\u001b[0m             \u001b[0;32mexcept\u001b[0m \u001b[0mKeyError\u001b[0m\u001b[0;34m:\u001b[0m\u001b[0;34m\u001b[0m\u001b[0;34m\u001b[0m\u001b[0m\n",
      "\u001b[0;32mpandas/_libs/index.pyx\u001b[0m in \u001b[0;36mpandas._libs.index.IndexEngine.get_loc\u001b[0;34m()\u001b[0m\n",
      "\u001b[0;32mpandas/_libs/index.pyx\u001b[0m in \u001b[0;36mpandas._libs.index.IndexEngine.get_loc\u001b[0;34m()\u001b[0m\n",
      "\u001b[0;32mpandas/_libs/hashtable_class_helper.pxi\u001b[0m in \u001b[0;36mpandas._libs.hashtable.PyObjectHashTable.get_item\u001b[0;34m()\u001b[0m\n",
      "\u001b[0;32mpandas/_libs/hashtable_class_helper.pxi\u001b[0m in \u001b[0;36mpandas._libs.hashtable.PyObjectHashTable.get_item\u001b[0;34m()\u001b[0m\n",
      "\u001b[0;31mKeyError\u001b[0m: 'midi_sources'",
      "\nDuring handling of the above exception, another exception occurred:\n",
      "\u001b[0;31mKeyError\u001b[0m                                  Traceback (most recent call last)",
      "\u001b[0;32m<ipython-input-26-3d4b4fe9e776>\u001b[0m in \u001b[0;36m<module>\u001b[0;34m\u001b[0m\n\u001b[0;32m----> 1\u001b[0;31m \u001b[0mdf_filtered\u001b[0m\u001b[0;34m[\u001b[0m\u001b[0msource_dir\u001b[0m\u001b[0;34m]\u001b[0m\u001b[0;34m.\u001b[0m\u001b[0mduplicated\u001b[0m\u001b[0;34m(\u001b[0m\u001b[0;34m)\u001b[0m\u001b[0;34m\u001b[0m\u001b[0;34m\u001b[0m\u001b[0m\n\u001b[0m",
      "\u001b[0;32m~/anaconda3/envs/midi/lib/python3.7/site-packages/pandas/core/frame.py\u001b[0m in \u001b[0;36m__getitem__\u001b[0;34m(self, key)\u001b[0m\n\u001b[1;32m   2686\u001b[0m             \u001b[0;32mreturn\u001b[0m \u001b[0mself\u001b[0m\u001b[0;34m.\u001b[0m\u001b[0m_getitem_multilevel\u001b[0m\u001b[0;34m(\u001b[0m\u001b[0mkey\u001b[0m\u001b[0;34m)\u001b[0m\u001b[0;34m\u001b[0m\u001b[0;34m\u001b[0m\u001b[0m\n\u001b[1;32m   2687\u001b[0m         \u001b[0;32melse\u001b[0m\u001b[0;34m:\u001b[0m\u001b[0;34m\u001b[0m\u001b[0;34m\u001b[0m\u001b[0m\n\u001b[0;32m-> 2688\u001b[0;31m             \u001b[0;32mreturn\u001b[0m \u001b[0mself\u001b[0m\u001b[0;34m.\u001b[0m\u001b[0m_getitem_column\u001b[0m\u001b[0;34m(\u001b[0m\u001b[0mkey\u001b[0m\u001b[0;34m)\u001b[0m\u001b[0;34m\u001b[0m\u001b[0;34m\u001b[0m\u001b[0m\n\u001b[0m\u001b[1;32m   2689\u001b[0m \u001b[0;34m\u001b[0m\u001b[0m\n\u001b[1;32m   2690\u001b[0m     \u001b[0;32mdef\u001b[0m \u001b[0m_getitem_column\u001b[0m\u001b[0;34m(\u001b[0m\u001b[0mself\u001b[0m\u001b[0;34m,\u001b[0m \u001b[0mkey\u001b[0m\u001b[0;34m)\u001b[0m\u001b[0;34m:\u001b[0m\u001b[0;34m\u001b[0m\u001b[0;34m\u001b[0m\u001b[0m\n",
      "\u001b[0;32m~/anaconda3/envs/midi/lib/python3.7/site-packages/pandas/core/frame.py\u001b[0m in \u001b[0;36m_getitem_column\u001b[0;34m(self, key)\u001b[0m\n\u001b[1;32m   2693\u001b[0m         \u001b[0;31m# get column\u001b[0m\u001b[0;34m\u001b[0m\u001b[0;34m\u001b[0m\u001b[0;34m\u001b[0m\u001b[0m\n\u001b[1;32m   2694\u001b[0m         \u001b[0;32mif\u001b[0m \u001b[0mself\u001b[0m\u001b[0;34m.\u001b[0m\u001b[0mcolumns\u001b[0m\u001b[0;34m.\u001b[0m\u001b[0mis_unique\u001b[0m\u001b[0;34m:\u001b[0m\u001b[0;34m\u001b[0m\u001b[0;34m\u001b[0m\u001b[0m\n\u001b[0;32m-> 2695\u001b[0;31m             \u001b[0;32mreturn\u001b[0m \u001b[0mself\u001b[0m\u001b[0;34m.\u001b[0m\u001b[0m_get_item_cache\u001b[0m\u001b[0;34m(\u001b[0m\u001b[0mkey\u001b[0m\u001b[0;34m)\u001b[0m\u001b[0;34m\u001b[0m\u001b[0;34m\u001b[0m\u001b[0m\n\u001b[0m\u001b[1;32m   2696\u001b[0m \u001b[0;34m\u001b[0m\u001b[0m\n\u001b[1;32m   2697\u001b[0m         \u001b[0;31m# duplicate columns & possible reduce dimensionality\u001b[0m\u001b[0;34m\u001b[0m\u001b[0;34m\u001b[0m\u001b[0;34m\u001b[0m\u001b[0m\n",
      "\u001b[0;32m~/anaconda3/envs/midi/lib/python3.7/site-packages/pandas/core/generic.py\u001b[0m in \u001b[0;36m_get_item_cache\u001b[0;34m(self, item)\u001b[0m\n\u001b[1;32m   2487\u001b[0m         \u001b[0mres\u001b[0m \u001b[0;34m=\u001b[0m \u001b[0mcache\u001b[0m\u001b[0;34m.\u001b[0m\u001b[0mget\u001b[0m\u001b[0;34m(\u001b[0m\u001b[0mitem\u001b[0m\u001b[0;34m)\u001b[0m\u001b[0;34m\u001b[0m\u001b[0;34m\u001b[0m\u001b[0m\n\u001b[1;32m   2488\u001b[0m         \u001b[0;32mif\u001b[0m \u001b[0mres\u001b[0m \u001b[0;32mis\u001b[0m \u001b[0;32mNone\u001b[0m\u001b[0;34m:\u001b[0m\u001b[0;34m\u001b[0m\u001b[0;34m\u001b[0m\u001b[0m\n\u001b[0;32m-> 2489\u001b[0;31m             \u001b[0mvalues\u001b[0m \u001b[0;34m=\u001b[0m \u001b[0mself\u001b[0m\u001b[0;34m.\u001b[0m\u001b[0m_data\u001b[0m\u001b[0;34m.\u001b[0m\u001b[0mget\u001b[0m\u001b[0;34m(\u001b[0m\u001b[0mitem\u001b[0m\u001b[0;34m)\u001b[0m\u001b[0;34m\u001b[0m\u001b[0;34m\u001b[0m\u001b[0m\n\u001b[0m\u001b[1;32m   2490\u001b[0m             \u001b[0mres\u001b[0m \u001b[0;34m=\u001b[0m \u001b[0mself\u001b[0m\u001b[0;34m.\u001b[0m\u001b[0m_box_item_values\u001b[0m\u001b[0;34m(\u001b[0m\u001b[0mitem\u001b[0m\u001b[0;34m,\u001b[0m \u001b[0mvalues\u001b[0m\u001b[0;34m)\u001b[0m\u001b[0;34m\u001b[0m\u001b[0;34m\u001b[0m\u001b[0m\n\u001b[1;32m   2491\u001b[0m             \u001b[0mcache\u001b[0m\u001b[0;34m[\u001b[0m\u001b[0mitem\u001b[0m\u001b[0;34m]\u001b[0m \u001b[0;34m=\u001b[0m \u001b[0mres\u001b[0m\u001b[0;34m\u001b[0m\u001b[0;34m\u001b[0m\u001b[0m\n",
      "\u001b[0;32m~/anaconda3/envs/midi/lib/python3.7/site-packages/pandas/core/internals.py\u001b[0m in \u001b[0;36mget\u001b[0;34m(self, item, fastpath)\u001b[0m\n\u001b[1;32m   4113\u001b[0m \u001b[0;34m\u001b[0m\u001b[0m\n\u001b[1;32m   4114\u001b[0m             \u001b[0;32mif\u001b[0m \u001b[0;32mnot\u001b[0m \u001b[0misna\u001b[0m\u001b[0;34m(\u001b[0m\u001b[0mitem\u001b[0m\u001b[0;34m)\u001b[0m\u001b[0;34m:\u001b[0m\u001b[0;34m\u001b[0m\u001b[0;34m\u001b[0m\u001b[0m\n\u001b[0;32m-> 4115\u001b[0;31m                 \u001b[0mloc\u001b[0m \u001b[0;34m=\u001b[0m \u001b[0mself\u001b[0m\u001b[0;34m.\u001b[0m\u001b[0mitems\u001b[0m\u001b[0;34m.\u001b[0m\u001b[0mget_loc\u001b[0m\u001b[0;34m(\u001b[0m\u001b[0mitem\u001b[0m\u001b[0;34m)\u001b[0m\u001b[0;34m\u001b[0m\u001b[0;34m\u001b[0m\u001b[0m\n\u001b[0m\u001b[1;32m   4116\u001b[0m             \u001b[0;32melse\u001b[0m\u001b[0;34m:\u001b[0m\u001b[0;34m\u001b[0m\u001b[0;34m\u001b[0m\u001b[0m\n\u001b[1;32m   4117\u001b[0m                 \u001b[0mindexer\u001b[0m \u001b[0;34m=\u001b[0m \u001b[0mnp\u001b[0m\u001b[0;34m.\u001b[0m\u001b[0marange\u001b[0m\u001b[0;34m(\u001b[0m\u001b[0mlen\u001b[0m\u001b[0;34m(\u001b[0m\u001b[0mself\u001b[0m\u001b[0;34m.\u001b[0m\u001b[0mitems\u001b[0m\u001b[0;34m)\u001b[0m\u001b[0;34m)\u001b[0m\u001b[0;34m[\u001b[0m\u001b[0misna\u001b[0m\u001b[0;34m(\u001b[0m\u001b[0mself\u001b[0m\u001b[0;34m.\u001b[0m\u001b[0mitems\u001b[0m\u001b[0;34m)\u001b[0m\u001b[0;34m]\u001b[0m\u001b[0;34m\u001b[0m\u001b[0;34m\u001b[0m\u001b[0m\n",
      "\u001b[0;32m~/anaconda3/envs/midi/lib/python3.7/site-packages/pandas/core/indexes/base.py\u001b[0m in \u001b[0;36mget_loc\u001b[0;34m(self, key, method, tolerance)\u001b[0m\n\u001b[1;32m   3078\u001b[0m                 \u001b[0;32mreturn\u001b[0m \u001b[0mself\u001b[0m\u001b[0;34m.\u001b[0m\u001b[0m_engine\u001b[0m\u001b[0;34m.\u001b[0m\u001b[0mget_loc\u001b[0m\u001b[0;34m(\u001b[0m\u001b[0mkey\u001b[0m\u001b[0;34m)\u001b[0m\u001b[0;34m\u001b[0m\u001b[0;34m\u001b[0m\u001b[0m\n\u001b[1;32m   3079\u001b[0m             \u001b[0;32mexcept\u001b[0m \u001b[0mKeyError\u001b[0m\u001b[0;34m:\u001b[0m\u001b[0;34m\u001b[0m\u001b[0;34m\u001b[0m\u001b[0m\n\u001b[0;32m-> 3080\u001b[0;31m                 \u001b[0;32mreturn\u001b[0m \u001b[0mself\u001b[0m\u001b[0;34m.\u001b[0m\u001b[0m_engine\u001b[0m\u001b[0;34m.\u001b[0m\u001b[0mget_loc\u001b[0m\u001b[0;34m(\u001b[0m\u001b[0mself\u001b[0m\u001b[0;34m.\u001b[0m\u001b[0m_maybe_cast_indexer\u001b[0m\u001b[0;34m(\u001b[0m\u001b[0mkey\u001b[0m\u001b[0;34m)\u001b[0m\u001b[0;34m)\u001b[0m\u001b[0;34m\u001b[0m\u001b[0;34m\u001b[0m\u001b[0m\n\u001b[0m\u001b[1;32m   3081\u001b[0m \u001b[0;34m\u001b[0m\u001b[0m\n\u001b[1;32m   3082\u001b[0m         \u001b[0mindexer\u001b[0m \u001b[0;34m=\u001b[0m \u001b[0mself\u001b[0m\u001b[0;34m.\u001b[0m\u001b[0mget_indexer\u001b[0m\u001b[0;34m(\u001b[0m\u001b[0;34m[\u001b[0m\u001b[0mkey\u001b[0m\u001b[0;34m]\u001b[0m\u001b[0;34m,\u001b[0m \u001b[0mmethod\u001b[0m\u001b[0;34m=\u001b[0m\u001b[0mmethod\u001b[0m\u001b[0;34m,\u001b[0m \u001b[0mtolerance\u001b[0m\u001b[0;34m=\u001b[0m\u001b[0mtolerance\u001b[0m\u001b[0;34m)\u001b[0m\u001b[0;34m\u001b[0m\u001b[0;34m\u001b[0m\u001b[0m\n",
      "\u001b[0;32mpandas/_libs/index.pyx\u001b[0m in \u001b[0;36mpandas._libs.index.IndexEngine.get_loc\u001b[0;34m()\u001b[0m\n",
      "\u001b[0;32mpandas/_libs/index.pyx\u001b[0m in \u001b[0;36mpandas._libs.index.IndexEngine.get_loc\u001b[0;34m()\u001b[0m\n",
      "\u001b[0;32mpandas/_libs/hashtable_class_helper.pxi\u001b[0m in \u001b[0;36mpandas._libs.hashtable.PyObjectHashTable.get_item\u001b[0;34m()\u001b[0m\n",
      "\u001b[0;32mpandas/_libs/hashtable_class_helper.pxi\u001b[0m in \u001b[0;36mpandas._libs.hashtable.PyObjectHashTable.get_item\u001b[0;34m()\u001b[0m\n",
      "\u001b[0;31mKeyError\u001b[0m: 'midi_sources'"
     ]
    }
   ],
   "source": [
    "df_filtered[source_dir].duplicated()"
   ]
  },
  {
   "cell_type": "code",
   "execution_count": 9,
   "metadata": {},
   "outputs": [],
   "source": [
    "from data_sources import process_parallel"
   ]
  },
  {
   "cell_type": "code",
   "execution_count": 10,
   "metadata": {},
   "outputs": [],
   "source": [
    "def transcribe_file(idxrow):\n",
    "    idx,row = idxrow\n",
    "    midi_file = row[source_dir]\n",
    "    if not isinstance(midi_file, str) or not Path(midi_file).exists(): return idx,None\n",
    "    out_file = Path(midi_file.replace(f'/{source_dir}/', f'/{out_dir}/')).with_suffix('.txt')\n",
    "    out_file.parent.mkdir(parents=True, exist_ok=True)\n",
    "    if out_file.exists(): return idx,str(out_file)\n",
    "    try:\n",
    "        seq = midi2seq(midi_file)\n",
    "        seq_comp = remove_seq_rests(trim_seq_rests(seq))\n",
    "        delta_trim = len(seq) - len(seq_comp)\n",
    "        if delta_trim > 100: print(f'Removed {delta_trim} rests from {midi_file}')\n",
    "        string_repr = seq2str(seq)\n",
    "        with open(out_file, 'w') as tf:\n",
    "            tf.write(string_repr)\n",
    "    except Exception as e:\n",
    "        print('Error converting midi to sequence', e)\n",
    "        return idx,None\n",
    "    return idx,str(out_file)"
   ]
  },
  {
   "cell_type": "code",
   "execution_count": 11,
   "metadata": {},
   "outputs": [],
   "source": [
    "# for r in df_filtered.iterrows():\n",
    "#     transcribe_file(r)"
   ]
  },
  {
   "cell_type": "code",
   "execution_count": null,
   "metadata": {},
   "outputs": [
    {
     "data": {
      "text/html": [
       "\n",
       "    <div>\n",
       "        <style>\n",
       "            /* Turns off some styling */\n",
       "            progress {\n",
       "                /* gets rid of default border in Firefox and Opera. */\n",
       "                border: none;\n",
       "                /* Needs to be in here for Safari polyfill so background images work as expected. */\n",
       "                background-size: auto;\n",
       "            }\n",
       "            .progress-bar-interrupted, .progress-bar-interrupted::-webkit-progress-bar {\n",
       "                background: #F44336;\n",
       "            }\n",
       "        </style>\n",
       "      <progress value='8243' class='' max='30201', style='width:300px; height:20px; vertical-align: middle;'></progress>\n",
       "      27.29% [8243/30201 00:02<00:06]\n",
       "    </div>\n",
       "    "
      ],
      "text/plain": [
       "<IPython.core.display.HTML object>"
      ]
     },
     "metadata": {},
     "output_type": "display_data"
    },
    {
     "name": "stdout",
     "output_type": "stream",
     "text": [
      "Error converting midi to sequence index 4707 is out of bounds for axis 0 with size 4707\n",
      "Error converting midi to sequence index 4707 is out of bounds for axis 0 with size 4707\n",
      "Error converting midi to sequence index 4707 is out of bounds for axis 0 with size 4707\n",
      "Removed 229 rests from data/midi/midi_transform_v1/ecomp/2004/ADIG05.mid\n",
      "Removed 229 rests from data/midi/midi_transform_v1/ecomp/2004/ADIG05.mid\n",
      "Removed 229 rests from data/midi/midi_transform_v1/ecomp/2004/ADIG05.mid\n",
      "Removed 229 rests from data/midi/midi_transform_v1/ecomp/2004/ADIG05.mid\n",
      "Removed 5898 rests from data/midi/midi_transform_v1/ecomp/2009/Toscano01.MID\n",
      "Removed 5898 rests from data/midi/midi_transform_v1/ecomp/2009/Toscano01.MID\n",
      "Removed 5898 rests from data/midi/midi_transform_v1/ecomp/2009/Toscano01.MID\n",
      "Removed 5898 rests from data/midi/midi_transform_v1/ecomp/2009/Toscano01.MID\n",
      "Removed 6539 rests from data/midi/midi_transform_v1/ecomp/2004/KARYAG03.mid\n",
      "Removed 6539 rests from data/midi/midi_transform_v1/ecomp/2004/KARYAG03.mid\n",
      "Removed 6539 rests from data/midi/midi_transform_v1/ecomp/2004/KARYAG03.mid\n",
      "Removed 6539 rests from data/midi/midi_transform_v1/ecomp/2004/KARYAG03.mid\n"
     ]
    }
   ],
   "source": [
    "process_parallel(transcribe_file, df_filtered.iterrows(), total=df_filtered.shape[0])"
   ]
  },
  {
   "cell_type": "code",
   "execution_count": null,
   "metadata": {},
   "outputs": [],
   "source": [
    "tdf = pd.DataFrame(data={out_dir: list(transcribed_files.values())}, index=index(transcribed_files.keys()))"
   ]
  },
  {
   "cell_type": "code",
   "execution_count": null,
   "metadata": {},
   "outputs": [],
   "source": [
    "merged_df = df.join(tdf, how='outer'); tdf.shape, df.shape, merged_df.shape"
   ]
  },
  {
   "cell_type": "code",
   "execution_count": null,
   "metadata": {
    "scrolled": true
   },
   "outputs": [],
   "source": [
    "merged_df.to_csv(out_csv); merged_df.head()"
   ]
  },
  {
   "cell_type": "code",
   "execution_count": null,
   "metadata": {},
   "outputs": [],
   "source": []
  }
 ],
 "metadata": {
  "kernelspec": {
   "display_name": "Python 3",
   "language": "python",
   "name": "python3"
  },
  "language_info": {
   "codemirror_mode": {
    "name": "ipython",
    "version": 3
   },
   "file_extension": ".py",
   "mimetype": "text/x-python",
   "name": "python",
   "nbconvert_exporter": "python",
   "pygments_lexer": "ipython3",
   "version": "3.7.1"
  }
 },
 "nbformat": 4,
 "nbformat_minor": 2
}

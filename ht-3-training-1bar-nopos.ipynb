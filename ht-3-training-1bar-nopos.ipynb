{
 "cells": [
  {
   "cell_type": "markdown",
   "metadata": {},
   "source": [
    "# Attention Architecture"
   ]
  },
  {
   "cell_type": "code",
   "execution_count": 1,
   "metadata": {},
   "outputs": [],
   "source": [
    "%reload_ext autoreload\n",
    "%autoreload 2\n",
    "%matplotlib inline"
   ]
  },
  {
   "cell_type": "code",
   "execution_count": 2,
   "metadata": {},
   "outputs": [],
   "source": [
    "import music21"
   ]
  },
  {
   "cell_type": "code",
   "execution_count": 3,
   "metadata": {},
   "outputs": [],
   "source": [
    "from fastai.text import *\n",
    "from transformer_xl.default_txl import get_default_model\n",
    "from enum import Enum\n",
    "import torch\n",
    "from fastai.text.models.awd_lstm import *\n",
    "from fastai.text.models.transformer import *"
   ]
  },
  {
   "cell_type": "code",
   "execution_count": 4,
   "metadata": {},
   "outputs": [],
   "source": [
    "# np.set_printoptions(edgeitems=10, threshold=40, linewidth=200)"
   ]
  },
  {
   "cell_type": "code",
   "execution_count": 5,
   "metadata": {},
   "outputs": [],
   "source": [
    "from fastai_data import *"
   ]
  },
  {
   "cell_type": "code",
   "execution_count": 6,
   "metadata": {},
   "outputs": [],
   "source": [
    "import numpy as np\n",
    "import torch.nn as nn"
   ]
  },
  {
   "cell_type": "code",
   "execution_count": 7,
   "metadata": {},
   "outputs": [],
   "source": [
    "from ht_encode import *\n",
    "import ht_encode"
   ]
  },
  {
   "cell_type": "code",
   "execution_count": 8,
   "metadata": {},
   "outputs": [],
   "source": [
    "bs=8\n",
    "bptt=128"
   ]
  },
  {
   "cell_type": "code",
   "execution_count": 9,
   "metadata": {},
   "outputs": [],
   "source": [
    "import fastai_data\n",
    "fastai_data.Y_OFFSET=1"
   ]
  },
  {
   "cell_type": "code",
   "execution_count": 10,
   "metadata": {},
   "outputs": [],
   "source": [
    "path = Path('data/midi/v7/midi_encode/np/hook_1bar_nopos/')\n",
    "# data = LMNPDataBunch.load(path, bs=bs, bptt=bptt, cache_name='tmp/sample')\n",
    "data = LMNPDataBunch.load(path, bs=bs, bptt=bptt, cache_name='tmp/all')"
   ]
  },
  {
   "cell_type": "code",
   "execution_count": 11,
   "metadata": {},
   "outputs": [],
   "source": [
    "config = tfmerXL_lm_config"
   ]
  },
  {
   "cell_type": "code",
   "execution_count": 12,
   "metadata": {},
   "outputs": [],
   "source": [
    "PAD_IDX=enc_config.pad_idx+enc_config.enc_offset"
   ]
  },
  {
   "cell_type": "code",
   "execution_count": 13,
   "metadata": {},
   "outputs": [
    {
     "data": {
      "text/plain": [
       "[15, 13, 5, 15, 15, 15, 15, 5, 7]"
      ]
     },
     "execution_count": 13,
     "metadata": {},
     "output_type": "execute_result"
    }
   ],
   "source": [
    "train_ids_file = path/'tmp/all/train_ids.npy'\n",
    "all_ids = np.load(train_ids_file)\n",
    "id_cat = np.concatenate(all_ids); id_cat.shape\n",
    "ax = tuple(range(len(id_cat.shape)-1))\n",
    "max_vocab = id_cat.max(axis=ax)\n",
    "max_vocab = (max_vocab+1).tolist(); max_vocab"
   ]
  },
  {
   "cell_type": "code",
   "execution_count": 14,
   "metadata": {},
   "outputs": [],
   "source": [
    "N_BAR = 1\n",
    "N_COMPS = 9\n",
    "N_EMBS = 100"
   ]
  },
  {
   "cell_type": "code",
   "execution_count": 15,
   "metadata": {},
   "outputs": [],
   "source": [
    "EMB_IDXS = [0,1,2,3,4,5]\n",
    "EMB_DIM = [N_EMBS]*len(EMB_IDXS)\n",
    "VOCAB_SZ = [max_vocab[i] for i in [iN,iNO,iND,iCI] + BIDX_ALL]\n",
    "EMB_MAP = list(zip(EMB_IDXS,VOCAB_SZ,EMB_DIM))\n",
    "eN,eO,eD,eI = EMB_MAP\n",
    "# eN,eO,eD,eI,eB,eM = EMB_MAP"
   ]
  },
  {
   "cell_type": "code",
   "execution_count": 16,
   "metadata": {},
   "outputs": [],
   "source": [
    "LOSS_WEIGHTS = [1,1,1,0.2,0.2,0.2,0.1,.2,.2]"
   ]
  },
  {
   "cell_type": "code",
   "execution_count": 17,
   "metadata": {},
   "outputs": [],
   "source": [
    "idx2embidx = {\n",
    "    iN:eN,iNO:eO,iND:eD,\n",
    "    iC1:eN,iC2:eN,iC3:eN,iC4:eN,iCD:eD,iCI:eI,\n",
    "#     iB:eB,\n",
    "#     iM:eM\n",
    "}"
   ]
  },
  {
   "cell_type": "code",
   "execution_count": 18,
   "metadata": {},
   "outputs": [
    {
     "data": {
      "text/plain": [
       "[(0, 15, 100), (1, 13, 100), (2, 5, 100), (3, 7, 100)]"
      ]
     },
     "execution_count": 18,
     "metadata": {},
     "output_type": "execute_result"
    }
   ],
   "source": [
    "EMB_MAP"
   ]
  },
  {
   "cell_type": "code",
   "execution_count": null,
   "metadata": {},
   "outputs": [],
   "source": [
    "config['emb_map'] = EMB_MAP\n",
    "config['idx_map'] = idx2embidx\n",
    "config['rand_mask'] = True"
   ]
  },
  {
   "cell_type": "code",
   "execution_count": null,
   "metadata": {},
   "outputs": [],
   "source": [
    "total_embs = sum([v[-1] for k,v in idx2embidx.items() if k not in BIDX_ALL])\n",
    "config['d_model'] = total_embs * N_BAR"
   ]
  },
  {
   "cell_type": "code",
   "execution_count": null,
   "metadata": {},
   "outputs": [],
   "source": [
    "config['ctx_len'] = 0\n",
    "config['mem_len'] = 512\n",
    "# config['d_inner'] = 1024 * N_BAR\n",
    "config['d_inner'] = config['d_model'] * 4"
   ]
  },
  {
   "cell_type": "code",
   "execution_count": null,
   "metadata": {},
   "outputs": [],
   "source": [
    "# config"
   ]
  },
  {
   "cell_type": "code",
   "execution_count": null,
   "metadata": {},
   "outputs": [],
   "source": [
    "class TransformerEmbed(nn.Module):\n",
    "    def __init__(self, emb_map, idx_map, embed_p:float=0.1, **kwargs):\n",
    "        super().__init__()\n",
    "        # note, octave, duration, instrument\n",
    "        self.idx_map = idx_map\n",
    "        self.emb_map = emb_map\n",
    "        embeddings = []\n",
    "        for idx,in_d,out_d in emb_map:\n",
    "            embeddings.append(nn.Embedding(in_d, out_d, padding_idx=PAD_IDX))\n",
    "        self.embeddings = nn.ModuleList(embeddings)\n",
    "        self.drop_emb = nn.Dropout(embed_p)\n",
    "        \n",
    "    def forward(self, x):\n",
    "        # batch x bptt x (n,o,d,i)\n",
    "        if BIDX_ALL: pos_enc = self.embeddings[eB[0]](x[...,iB]) + self.embeddings[eM[0]](x[...,iM])\n",
    "        embs = []\n",
    "        for i in range(x.shape[-1]):\n",
    "            emb_idx = self.idx_map[i][0]\n",
    "            if i in BIDX_ALL: continue\n",
    "            embx = self.embeddings[emb_idx](x[...,i])\n",
    "            if BIDX_ALL: embx.add_(pos_enc)\n",
    "            embs.append(embx)\n",
    "        emb = torch.stack(embs, dim=-2) # barlen x comp x emb\n",
    "#         emb = emb.permute(0,1,4,2,3) # for conv - emb x barlen x comp\n",
    "        emb = emb.view(*emb.shape[:2], -1) # flatten completely\n",
    "        return self.drop_emb(emb)"
   ]
  },
  {
   "cell_type": "code",
   "execution_count": null,
   "metadata": {},
   "outputs": [],
   "source": [
    "class DownConv(nn.Module):\n",
    "    def __init__(self, d_model):\n",
    "        pass"
   ]
  },
  {
   "cell_type": "code",
   "execution_count": null,
   "metadata": {},
   "outputs": [],
   "source": [
    "class TXLLinearDecoder(nn.Module):\n",
    "    \"To go on top of a RNNCore module and create a Language Model.\"\n",
    "    initrange=0.1\n",
    "\n",
    "    def __init__(self, n_out:int, n_hid:int, tie_encoder:nn.Module=None, bias:bool=True):\n",
    "        super().__init__()\n",
    "        self.decoder = nn.Linear(n_hid, n_out, bias=bias)\n",
    "        self.decoder.weight.data.uniform_(-self.initrange, self.initrange)\n",
    "        if bias: self.decoder.bias.data.zero_()\n",
    "        if tie_encoder: self.decoder.weight = tie_encoder.weight\n",
    "\n",
    "    def forward(self, input):\n",
    "        return self.decoder(input)"
   ]
  },
  {
   "cell_type": "code",
   "execution_count": null,
   "metadata": {},
   "outputs": [],
   "source": [
    "class TransformerDec(nn.Module):\n",
    "    def __init__(self, txl_emb, idx_map, output_p=0.0, out_bias=True, **kwargs):\n",
    "        super().__init__()\n",
    "        self.output_dp = RNNDropout(output_p)\n",
    "        \n",
    "        decoders = []\n",
    "        for k,v in idx_map.items():\n",
    "            if k in BIDX_ALL: continue\n",
    "            emb = txl_emb.embeddings[v[0]]\n",
    "            decoder = TXLLinearDecoder(emb.num_embeddings, emb.embedding_dim, tie_encoder=emb, bias=out_bias)\n",
    "            decoders.append(decoder)\n",
    "            \n",
    "        self.decoders = nn.ModuleList(decoders)\n",
    "        \n",
    "    def forward(self, input):\n",
    "        raw_outputs, outputs = input\n",
    "        output = self.output_dp(outputs[-1])\n",
    "        dim_shape = [N_BAR, N_COMPS, N_EMBS] if N_BAR > 1 else [N_COMPS, N_EMBS]\n",
    "        output = output.view(*output.shape[:-1], *dim_shape)\n",
    "        res = []\n",
    "        for idx,dec in enumerate(self.decoders):\n",
    "            res.append(dec(output[...,idx,:]))\n",
    "        return res, raw_outputs, outputs"
   ]
  },
  {
   "cell_type": "code",
   "execution_count": null,
   "metadata": {},
   "outputs": [
    {
     "data": {
      "text/plain": [
       "9"
      ]
     },
     "execution_count": 27,
     "metadata": {},
     "output_type": "execute_result"
    }
   ],
   "source": [
    "np.random.randint(0,16)+1"
   ]
  },
  {
   "cell_type": "code",
   "execution_count": null,
   "metadata": {},
   "outputs": [
    {
     "data": {
      "text/plain": [
       "tensor([[[[0, 1, 1, 1, 1, 1, 1, 1, 1, 1, 1, 1, 1, 1, 1, 1],\n",
       "          [0, 0, 1, 1, 1, 1, 1, 1, 1, 1, 1, 1, 1, 1, 1, 1],\n",
       "          [0, 0, 0, 1, 1, 1, 1, 1, 1, 1, 1, 1, 1, 1, 1, 1],\n",
       "          [0, 0, 0, 0, 1, 1, 1, 1, 1, 1, 1, 1, 1, 1, 1, 1],\n",
       "          [0, 0, 0, 0, 0, 1, 1, 1, 1, 1, 1, 1, 1, 1, 1, 1],\n",
       "          [0, 0, 0, 0, 0, 0, 1, 1, 1, 1, 1, 1, 1, 1, 1, 1],\n",
       "          [0, 0, 0, 0, 0, 0, 0, 1, 1, 1, 1, 1, 1, 1, 1, 1],\n",
       "          [0, 0, 0, 0, 0, 0, 0, 0, 1, 1, 1, 1, 1, 1, 1, 1],\n",
       "          [0, 0, 0, 0, 0, 0, 0, 0, 0, 1, 1, 1, 1, 1, 1, 1],\n",
       "          [0, 0, 0, 0, 0, 0, 0, 0, 0, 0, 1, 1, 1, 1, 1, 1],\n",
       "          [0, 0, 0, 0, 0, 0, 0, 0, 0, 0, 0, 1, 1, 1, 1, 1],\n",
       "          [0, 0, 0, 0, 0, 0, 0, 0, 0, 0, 0, 0, 1, 1, 1, 1],\n",
       "          [0, 0, 0, 0, 0, 0, 0, 0, 0, 0, 0, 0, 0, 1, 1, 1],\n",
       "          [0, 0, 0, 0, 0, 0, 0, 0, 0, 0, 0, 0, 0, 0, 1, 1],\n",
       "          [0, 0, 0, 0, 0, 0, 0, 0, 0, 0, 0, 0, 0, 0, 0, 1],\n",
       "          [0, 0, 0, 0, 0, 0, 0, 0, 0, 0, 0, 0, 0, 0, 0, 0]]]],\n",
       "       dtype=torch.uint8)"
      ]
     },
     "execution_count": 28,
     "metadata": {},
     "output_type": "execute_result"
    }
   ],
   "source": [
    "# x_len = bptt\n",
    "# m_len = config['mem_len']\n",
    "x_len = 16\n",
    "m_len = 0\n",
    "seq_len = x_len+m_len\n",
    "x = torch.tensor([])\n",
    "orig_mask = torch.triu(torch.ones(x_len, seq_len), diagonal=1+m_len).byte()[None,None]\n",
    "\n",
    "win_size,k = (np.random.randint(0,16)+1,0) if m_len > 0 else (1,1)\n",
    "mem_mask = np.zeros((x_len,m_len))\n",
    "tri_mask = np.triu(np.ones((x_len//win_size+1,x_len//win_size+1)),k=k)\n",
    "window_mask = tri_mask.repeat(win_size,axis=0).repeat(win_size,axis=1)[:x_len,:x_len]\n",
    "np_mask = np.concatenate((mem_mask, window_mask), axis=1)\n",
    "mask = torch.tensor(np_mask, device=x.device).byte()[None,None]; mask"
   ]
  },
  {
   "cell_type": "code",
   "execution_count": null,
   "metadata": {},
   "outputs": [
    {
     "data": {
      "text/plain": [
       "tensor([[[[0, 1, 1, 1, 1, 1, 1, 1, 1, 1, 1, 1, 1, 1, 1, 1],\n",
       "          [0, 0, 1, 1, 1, 1, 1, 1, 1, 1, 1, 1, 1, 1, 1, 1],\n",
       "          [0, 0, 0, 1, 1, 1, 1, 1, 1, 1, 1, 1, 1, 1, 1, 1],\n",
       "          [0, 0, 0, 0, 1, 1, 1, 1, 1, 1, 1, 1, 1, 1, 1, 1],\n",
       "          [0, 0, 0, 0, 0, 1, 1, 1, 1, 1, 1, 1, 1, 1, 1, 1],\n",
       "          [0, 0, 0, 0, 0, 0, 1, 1, 1, 1, 1, 1, 1, 1, 1, 1],\n",
       "          [0, 0, 0, 0, 0, 0, 0, 1, 1, 1, 1, 1, 1, 1, 1, 1],\n",
       "          [0, 0, 0, 0, 0, 0, 0, 0, 1, 1, 1, 1, 1, 1, 1, 1],\n",
       "          [0, 0, 0, 0, 0, 0, 0, 0, 0, 1, 1, 1, 1, 1, 1, 1],\n",
       "          [0, 0, 0, 0, 0, 0, 0, 0, 0, 0, 1, 1, 1, 1, 1, 1],\n",
       "          [0, 0, 0, 0, 0, 0, 0, 0, 0, 0, 0, 1, 1, 1, 1, 1],\n",
       "          [0, 0, 0, 0, 0, 0, 0, 0, 0, 0, 0, 0, 1, 1, 1, 1],\n",
       "          [0, 0, 0, 0, 0, 0, 0, 0, 0, 0, 0, 0, 0, 1, 1, 1],\n",
       "          [0, 0, 0, 0, 0, 0, 0, 0, 0, 0, 0, 0, 0, 0, 1, 1],\n",
       "          [0, 0, 0, 0, 0, 0, 0, 0, 0, 0, 0, 0, 0, 0, 0, 1],\n",
       "          [0, 0, 0, 0, 0, 0, 0, 0, 0, 0, 0, 0, 0, 0, 0, 0]]]],\n",
       "       dtype=torch.uint8)"
      ]
     },
     "execution_count": 29,
     "metadata": {},
     "output_type": "execute_result"
    }
   ],
   "source": [
    "orig_mask"
   ]
  },
  {
   "cell_type": "code",
   "execution_count": null,
   "metadata": {},
   "outputs": [],
   "source": [
    "\n",
    "class LMNPTransformerXL(nn.Module):\n",
    "    \"TransformerXL model: https://arxiv.org/abs/1901.02860.\"\n",
    "    def __init__(self, encoder, ctx_len:int, n_layers:int, n_heads:int, d_model:int, d_head:int, d_inner:int, \n",
    "                 resid_p:float=0., attn_p:float=0., ff_p:float=0., embed_p:float=0., bias:bool=False, scale:bool=True,\n",
    "                 act:Activation=Activation.ReLU, double_drop:bool=True, attn_cls:Callable=MultiHeadRelativeAttention,\n",
    "                 learned_pos_enc:bool=False, mask:bool=True, mem_len:int=0, rand_mask:bool=True, **kwargs):\n",
    "        super().__init__()\n",
    "        self.encoder = encoder\n",
    "        self.pos_enc = nn.Embedding(ctx_len, d_model) if learned_pos_enc else PositionalEncoding(d_model)\n",
    "        self.u = nn.Parameter(torch.Tensor(n_heads, 1, d_head)) #Remove 1 for einsum implementation of attention\n",
    "        self.v = nn.Parameter(torch.Tensor(n_heads, 1, d_head)) #Remove 1 for einsum implementation of attention\n",
    "        self.mem_len,self.n_layers,self.d_model,self.mask,self.rand_mask = mem_len,n_layers,d_model,mask,rand_mask\n",
    "        self.init = False\n",
    "        self.layers = nn.ModuleList([DecoderLayer(n_heads, d_model, d_head, d_inner, resid_p=resid_p, attn_p=attn_p,\n",
    "                      ff_p=ff_p, bias=bias, scale=scale, act=act, double_drop=double_drop, \n",
    "                      attn_cls=attn_cls) for k in range(n_layers)])\n",
    "    \n",
    "    def reset(self):\n",
    "        \"Reset the internal memory.\"\n",
    "        self.hidden = [next(self.parameters()).data.new(0) for i in range(self.n_layers+1)]\n",
    "\n",
    "    def _update_mems(self, hids):\n",
    "        if not getattr(self, 'hidden', False): return None\n",
    "        assert len(hids) == len(self.hidden), 'len(hids) != len(self.hidden)'\n",
    "        with torch.no_grad():\n",
    "            for i in range(len(hids)):\n",
    "                cat = torch.cat([self.hidden[i], hids[i]], dim=1)\n",
    "                self.hidden[i] = cat[:,-self.mem_len:].detach()\n",
    "    \n",
    "    def select_hidden(self, idxs): self.hidden = [h[idxs] for h in self.hidden]\n",
    "    \n",
    "    def forward(self, x):\n",
    "        #The hidden state has to be initiliazed in the forward pass for nn.DataParallel\n",
    "        if self.mem_len > 0 and not self.init: \n",
    "            self.reset()\n",
    "            self.init = True\n",
    "        bs,x_len = x.shape[:2]\n",
    "        inp = self.encoder(x)\n",
    "        m_len = self.hidden[0].size(1) if hasattr(self, 'hidden') and len(self.hidden[0].size()) > 1 else 0\n",
    "        seq_len = m_len + x_len\n",
    "        if not self.mask:\n",
    "            mask = None\n",
    "        elif self.rand_mask:\n",
    "            win_size,k = (np.random.randint(0,16)+1,0) if m_len > 0 else (1,1)\n",
    "            mem_mask = np.zeros((x_len,m_len))\n",
    "            tri_mask = np.triu(np.ones((x_len//win_size+1,x_len//win_size+1)),k=k)\n",
    "            window_mask = tri_mask.repeat(win_size,axis=0).repeat(win_size,axis=1)[:x_len,:x_len]\n",
    "            np_mask = np.concatenate((mem_mask, window_mask), axis=1)\n",
    "            mask = torch.tensor(np_mask, device=x.device).byte()[None,None]; mask\n",
    "        else:\n",
    "            mask = torch.triu(x.new_ones(x_len, seq_len), diagonal=1+m_len).byte()[None,None]\n",
    "        #[None,:,:None] for einsum implementation of attention\n",
    "        hids = []\n",
    "        pos = torch.arange(seq_len-1, -1, -1, device=inp.device, dtype=inp.dtype)\n",
    "        pos_enc = self.pos_enc(pos)\n",
    "        hids.append(inp)\n",
    "        for i, layer in enumerate(self.layers):\n",
    "            mem = self.hidden[i] if self.mem_len > 0 else None\n",
    "            inp = layer(inp, r=pos_enc, u=self.u, v=self.v, mask=mask, mem=mem)\n",
    "            hids.append(inp)\n",
    "        core_out = inp[:,-x_len:]\n",
    "        if self.mem_len > 0 : self._update_mems(hids)\n",
    "        return (self.hidden if self.mem_len > 0 else [core_out]),[core_out]"
   ]
  },
  {
   "cell_type": "code",
   "execution_count": null,
   "metadata": {},
   "outputs": [],
   "source": [
    "def get_language_model(config:dict=None, drop_mult:float=1.):\n",
    "    \"Create a language model from `arch` and its `config`, maybe `pretrained`.\"\n",
    "    for k in config.keys(): \n",
    "        if k.endswith('_p'): config[k] *= drop_mult\n",
    "    init = config.pop('init') if 'init' in config else None\n",
    "    \n",
    "    embed = TransformerEmbed(**config)\n",
    "    txl = LMNPTransformerXL(embed, **config)\n",
    "    decoder = TransformerDec(embed, **config)\n",
    "    model = SequentialRNN(txl, decoder)\n",
    "    \n",
    "    return model if init is None else model.apply(init)\n",
    "\n",
    "\n",
    "def language_model_learner(data:DataBunch, config:dict=None, drop_mult:float=1., pretrained:bool=True,\n",
    "                           **learn_kwargs) -> 'LanguageLearner':\n",
    "    \"Create a `Learner` with a language model from `data` and `arch`.\"\n",
    "    model = get_language_model(config=config, drop_mult=drop_mult)\n",
    "    learn = LanguageLearner(data, model, split_func=tfmer_lm_split, **learn_kwargs)\n",
    "    return learn"
   ]
  },
  {
   "cell_type": "code",
   "execution_count": null,
   "metadata": {},
   "outputs": [],
   "source": [
    "class LMNPLoss(nn.Module):\n",
    "    \"Same as `func`, but flattens input and target.\"\n",
    "    def __init__(self):\n",
    "        super().__init__()\n",
    "        self.fn = nn.CrossEntropyLoss(ignore_index=PAD_IDX) \n",
    "        # not using func otherwise _loss_func_name2activ uses this attribute to get cross entropy loss\n",
    "\n",
    "    def __repr__(self): return f\"numpyenc loss of {self.fn}\"\n",
    "\n",
    "    def forward(self, inputs:Tensor, target:Tensor, **kwargs)->Rank0Tensor:\n",
    "        losses = []\n",
    "        for idx,input in enumerate(inputs):\n",
    "            t = target[...,idx]\n",
    "            input = input.view(-1,input.shape[-1])\n",
    "            losses.append(self.fn(input, t.view(-1))*LOSS_WEIGHTS[idx])\n",
    "        return sum(losses)"
   ]
  },
  {
   "cell_type": "code",
   "execution_count": null,
   "metadata": {},
   "outputs": [],
   "source": [
    "def lmnp_accuracy(inputs:Tensor, target:Tensor)->Rank0Tensor:\n",
    "    \"Compute accuracy with `targs` when `input` is bs * n_classes.\"\n",
    "    inputs = [i.argmax(dim=-1).unsqueeze(dim=-1) for i in inputs]\n",
    "    input_cat = torch.cat(inputs, dim=-1)\n",
    "    target = target.view(input_cat.shape)\n",
    "    input_cat,target = input_cat.cpu().numpy(), target.cpu().numpy()\n",
    "    acc = (input_cat==target).astype(float)\n",
    "    acc[target==PAD_IDX] = np.nan\n",
    "    return torch.tensor(np.nanmean(acc))"
   ]
  },
  {
   "cell_type": "code",
   "execution_count": null,
   "metadata": {},
   "outputs": [],
   "source": [
    "learn = language_model_learner(data, config, clip=0.25, loss_func=LMNPLoss(), metrics=[lmnp_accuracy])"
   ]
  },
  {
   "cell_type": "code",
   "execution_count": null,
   "metadata": {},
   "outputs": [
    {
     "data": {
      "text/plain": [
       "tensor(9.0292, device='cuda:0')"
      ]
     },
     "execution_count": 35,
     "metadata": {},
     "output_type": "execute_result"
    }
   ],
   "source": [
    "ob = data.one_batch(cpu=False)\n",
    "out = learn.pred_batch(ob)\n",
    "learn.loss_func([c.cuda() for c in out], ob[1])"
   ]
  },
  {
   "cell_type": "code",
   "execution_count": null,
   "metadata": {},
   "outputs": [],
   "source": [
    "# # # clip = 0.5\n",
    "# learn.lr_find(num_it=300)\n",
    "# learn.recorder.plot()"
   ]
  },
  {
   "cell_type": "code",
   "execution_count": null,
   "metadata": {},
   "outputs": [
    {
     "data": {
      "text/html": [
       "\n",
       "    <div>\n",
       "        <style>\n",
       "            /* Turns off some styling */\n",
       "            progress {\n",
       "                /* gets rid of default border in Firefox and Opera. */\n",
       "                border: none;\n",
       "                /* Needs to be in here for Safari polyfill so background images work as expected. */\n",
       "                background-size: auto;\n",
       "            }\n",
       "            .progress-bar-interrupted, .progress-bar-interrupted::-webkit-progress-bar {\n",
       "                background: #F44336;\n",
       "            }\n",
       "        </style>\n",
       "      <progress value='4' class='' max='10', style='width:300px; height:20px; vertical-align: middle;'></progress>\n",
       "      40.00% [4/10 33:23<50:05]\n",
       "    </div>\n",
       "    \n",
       "<table style='width:375px; margin-bottom:10px'>\n",
       "  <tr>\n",
       "    <th>epoch</th>\n",
       "    <th>train_loss</th>\n",
       "    <th>valid_loss</th>\n",
       "    <th>lmnp_accuracy</th>\n",
       "    <th>time</th>\n",
       "  </tr>\n",
       "  <tr>\n",
       "    <th>0</th>\n",
       "    <th>1.629391</th>\n",
       "    <th>1.596902</th>\n",
       "    <th>0.920290</th>\n",
       "    <th>08:22</th>\n",
       "  </tr>\n",
       "  <tr>\n",
       "    <th>1</th>\n",
       "    <th>1.401383</th>\n",
       "    <th>1.375930</th>\n",
       "    <th>0.929705</th>\n",
       "    <th>08:20</th>\n",
       "  </tr>\n",
       "  <tr>\n",
       "    <th>2</th>\n",
       "    <th>1.268913</th>\n",
       "    <th>1.313360</th>\n",
       "    <th>0.931180</th>\n",
       "    <th>08:19</th>\n",
       "  </tr>\n",
       "  <tr>\n",
       "    <th>3</th>\n",
       "    <th>1.267209</th>\n",
       "    <th>1.258403</th>\n",
       "    <th>0.933499</th>\n",
       "    <th>08:20</th>\n",
       "  </tr>\n",
       "</table>\n",
       "\n",
       "\n",
       "    <div>\n",
       "        <style>\n",
       "            /* Turns off some styling */\n",
       "            progress {\n",
       "                /* gets rid of default border in Firefox and Opera. */\n",
       "                border: none;\n",
       "                /* Needs to be in here for Safari polyfill so background images work as expected. */\n",
       "                background-size: auto;\n",
       "            }\n",
       "            .progress-bar-interrupted, .progress-bar-interrupted::-webkit-progress-bar {\n",
       "                background: #F44336;\n",
       "            }\n",
       "        </style>\n",
       "      <progress value='293' class='' max='3139', style='width:300px; height:20px; vertical-align: middle;'></progress>\n",
       "      9.33% [293/3139 00:46<07:32 1.2391]\n",
       "    </div>\n",
       "    "
      ],
      "text/plain": [
       "<IPython.core.display.HTML object>"
      ]
     },
     "metadata": {},
     "output_type": "display_data"
    }
   ],
   "source": [
    "learn.fit_one_cycle(10, 2e-4)"
   ]
  },
  {
   "cell_type": "code",
   "execution_count": null,
   "metadata": {},
   "outputs": [],
   "source": [
    "learn.validate()"
   ]
  },
  {
   "cell_type": "code",
   "execution_count": null,
   "metadata": {},
   "outputs": [],
   "source": [
    "learn.save('first_run_10ep')"
   ]
  },
  {
   "cell_type": "code",
   "execution_count": null,
   "metadata": {},
   "outputs": [],
   "source": [
    "from fastai import basic_train"
   ]
  },
  {
   "cell_type": "code",
   "execution_count": null,
   "metadata": {},
   "outputs": [],
   "source": [
    "def predict_func(parts): return [F.softmax(p, dim=-1) for p in parts]"
   ]
  },
  {
   "cell_type": "code",
   "execution_count": null,
   "metadata": {},
   "outputs": [],
   "source": [
    "loss_func_name = camel2snake(learn.loss_func.__class__.__name__)\n",
    "basic_train.loss_func_name2activ[loss_func_name] = predict_func\n",
    "basic_train._loss_func2activ(learn.loss_func)"
   ]
  },
  {
   "cell_type": "code",
   "execution_count": null,
   "metadata": {},
   "outputs": [],
   "source": [
    "def predict(self, xb, n_words:int=1, temperature:float=1., min_p:float=None):\n",
    "    \"Return the `n_words` that come after `text`.\"\n",
    "    ds = self.data.single_dl.dataset\n",
    "    self.model.reset()\n",
    "    learn.model[0].mask = False\n",
    "    if xb.shape[0] > 1: xb = xb[0][None]\n",
    "    seed = xb.cpu().numpy()\n",
    "    yb = torch.ones_like(xb)\n",
    "    timesteps = []\n",
    "    for _ in progress_bar(range(n_words), leave=True):\n",
    "        if BIDX_ALL:\n",
    "            beat_enc = xb[...,-1,:,iB]\n",
    "            enc_offset = ht_encode.config.enc_offset\n",
    "            measure_enc = ((xb[...,-1,:,iM]-enc_offset+1)%8)+enc_offset\n",
    "            if (xb[:,-1]==enc_offset+ht_encode.config.bos_idx).any(): \n",
    "                print('Last timestep was BOS token. Currently unable to handle that. Returning')\n",
    "    #             raise Exception('Last timestep was BOS token. Currently unable to handle that')\n",
    "                break\n",
    "            bar = [beat_enc.squeeze(),measure_enc.squeeze()]\n",
    "        else:\n",
    "            bar = []\n",
    "        outputs = learn.pred_batch(batch=(xb,yb))\n",
    "        for item in outputs: #progress_bar(range(n_words), leave=False):\n",
    "            res = item[0][-1]\n",
    "            if min_p is not None: \n",
    "                if (res >= min_p).float().sum() == 0:\n",
    "                    warn(f\"There is no item with probability >= {min_p}, try a lower value.\")\n",
    "                else: res[res < min_p] = 0.\n",
    "            if temperature != 1.: res.pow_(1 / temperature)\n",
    "            idx = torch.multinomial(res, 1)\n",
    "#             val,idx = torch.topk(res, 1)\n",
    "            bar.append(idx.squeeze().to(xb.device))\n",
    "        bar = torch.stack(bar, dim=-1)\n",
    "        timesteps.append(bar.cpu().numpy())\n",
    "        xb = bar.clone().detach()[None,None] # don't use timesteps. use it's own memory instead\n",
    "    \n",
    "    learn.model[0].mask = True\n",
    "    return timesteps, seed.squeeze()\n"
   ]
  },
  {
   "cell_type": "markdown",
   "metadata": {},
   "source": [
    "### From batch"
   ]
  },
  {
   "cell_type": "code",
   "execution_count": null,
   "metadata": {},
   "outputs": [],
   "source": [
    "xb,yb = learn.data.one_batch(cpu=False)"
   ]
  },
  {
   "cell_type": "markdown",
   "metadata": {},
   "source": [
    "### From song"
   ]
  },
  {
   "cell_type": "code",
   "execution_count": null,
   "metadata": {},
   "outputs": [],
   "source": [
    "seed_len = 80\n",
    "files = get_files(path/'hooktheory', extensions=['.npy'], recurse=True)"
   ]
  },
  {
   "cell_type": "code",
   "execution_count": null,
   "metadata": {},
   "outputs": [],
   "source": [
    "# Loading from specific file\n",
    "keywords = ['avicii', 'waiting']\n",
    "def contains_keywords(f): return all([k in str(f) for k in keywords])\n",
    "search = [f for f in files if contains_keywords(f)]; search"
   ]
  },
  {
   "cell_type": "code",
   "execution_count": null,
   "metadata": {},
   "outputs": [],
   "source": [
    "# file = np.random.choice(files)\n",
    "file = search[0]\n",
    "file"
   ]
  },
  {
   "cell_type": "code",
   "execution_count": null,
   "metadata": {},
   "outputs": [],
   "source": [
    "seed_np = np.load(file)[:seed_len]\n",
    "xb = torch.tensor(seed_np).cuda()[None]"
   ]
  },
  {
   "cell_type": "markdown",
   "metadata": {},
   "source": [
    "### Predict"
   ]
  },
  {
   "cell_type": "code",
   "execution_count": null,
   "metadata": {},
   "outputs": [],
   "source": [
    "out, seed = predict(learn, xb, n_words=300)"
   ]
  },
  {
   "cell_type": "markdown",
   "metadata": {},
   "source": [
    "### Actual prediction"
   ]
  },
  {
   "cell_type": "code",
   "execution_count": null,
   "metadata": {},
   "outputs": [],
   "source": [
    "song = dec_arr(np.array(out)); song"
   ]
  },
  {
   "cell_type": "code",
   "execution_count": null,
   "metadata": {},
   "outputs": [],
   "source": [
    "stream = song.to_stream()"
   ]
  },
  {
   "cell_type": "code",
   "execution_count": null,
   "metadata": {},
   "outputs": [],
   "source": [
    "stream.show()"
   ]
  },
  {
   "cell_type": "code",
   "execution_count": null,
   "metadata": {},
   "outputs": [],
   "source": [
    "stream.show('midi')"
   ]
  },
  {
   "cell_type": "markdown",
   "metadata": {},
   "source": [
    "## Seed"
   ]
  },
  {
   "cell_type": "code",
   "execution_count": 81,
   "metadata": {},
   "outputs": [],
   "source": [
    "seed_song = dec_arr(seed)\n",
    "seed_stream = seed_song.to_stream()"
   ]
  },
  {
   "cell_type": "code",
   "execution_count": 82,
   "metadata": {},
   "outputs": [
    {
     "data": {
      "image/png": "[encoded data removed]",
      "text/plain": [
       "<IPython.core.display.Image object>"
      ]
     },
     "metadata": {
      "image/png": {
       "height": 124,
       "width": 748
      }
     },
     "output_type": "display_data"
    }
   ],
   "source": [
    "seed_stream.show()"
   ]
  },
  {
   "cell_type": "code",
   "execution_count": 83,
   "metadata": {},
   "outputs": [
    {
     "data": {
      "text/html": [
       "\n",
       "                <div id='midiPlayerDiv13159'></div>\n",
       "                <link rel=\"stylesheet\" href=\"//cuthbertLab.github.io/music21j/css/m21.css\"\n",
       "                    type=\"text/css\" />\n",
       "                <script>\n",
       "                require.config({\n",
       "                    paths: {'music21': '//cuthbertLab.github.io/music21j/src/music21'}\n",
       "                });\n",
       "                require(['music21'], function() {\n",
       "                               mp = new music21.miditools.MidiPlayer();\n",
       "                               mp.addPlayer('#midiPlayerDiv13159');\n",
       "                               mp.base64Load('data:audio/midi;base64,TVRoZAAAAAYAAQACBABNVHJrAAAA2gD/AwAA4ABAAP9RAwehIACQRVqMAIBFAACQQ1qEAIBDAACQRVqMAIBFAACQQ1qEAIBDAACQRVqEAIBFAACQSFqMAIBIAACQTFqIAIBMAACQT1qIAIBPAACQUVqMAIBRAACQUVqEAIBRAACQT1qMAIBPAACQTFqEAIBMAACQTFqCAIBMAACQSlqCAIBKAACQSFqMAIBIAACQTFqIAIBMAACQT1qEAIBPAACQT1qEAIBPAACQUVqIAIBRAACQUVqIAIBRAACQU1qMAIBTAACQTFqCAIBMAIgA/y8ATVRyawAAAN0A/wMAAOAAQACQKVoAkC1aAJAwWpAAgCkAAIAtAACAMAAAkDBaAJAoWgCQK1qQAIAwAACAKAAAgCsAAJAtWgCQMFoAkDRaoACALQAAgDAAAIA0AACQKVoAkC1aAJAwWpAAgCkAAIAtAACAMAAAkDBaAJAoWgCQK1qQAIAwAACAKAAAgCsAAJAtWgCQMFoAkDRaoACALQAAgDAAAIA0AACQKVoAkC1aAJAwWpAAgCkAAIAtAACAMAAAkChaAJArWgCQL1oAkDJajgCAKAAAgCsAAIAvAACAMgCIAP8vAA==');\n",
       "                        });\n",
       "                </script>"
      ],
      "text/plain": [
       "<IPython.core.display.HTML object>"
      ]
     },
     "metadata": {},
     "output_type": "display_data"
    }
   ],
   "source": [
    "seed_stream.show('midi')"
   ]
  },
  {
   "cell_type": "code",
   "execution_count": null,
   "metadata": {},
   "outputs": [],
   "source": []
  }
 ],
 "metadata": {
  "kernelspec": {
   "display_name": "Python 3",
   "language": "python",
   "name": "python3"
  },
  "language_info": {
   "codemirror_mode": {
    "name": "ipython",
    "version": 3
   },
   "file_extension": ".py",
   "mimetype": "text/x-python",
   "name": "python",
   "nbconvert_exporter": "python",
   "pygments_lexer": "ipython3",
   "version": "3.7.1"
  }
 },
 "nbformat": 4,
 "nbformat_minor": 2
}

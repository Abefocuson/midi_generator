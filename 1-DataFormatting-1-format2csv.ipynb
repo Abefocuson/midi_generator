{
 "cells": [
  {
   "cell_type": "markdown",
   "metadata": {},
   "source": [
    "### Create CSV from midi sources"
   ]
  },
  {
   "cell_type": "code",
   "execution_count": 1,
   "metadata": {},
   "outputs": [],
   "source": [
    "%reload_ext autoreload\n",
    "%autoreload 2\n",
    "%matplotlib inline"
   ]
  },
  {
   "cell_type": "code",
   "execution_count": 2,
   "metadata": {},
   "outputs": [],
   "source": [
    "import glob\n",
    "import os\n",
    "from tqdm import tqdm\n",
    "from IPython.display import Image, Audio\n",
    "import traceback"
   ]
  },
  {
   "cell_type": "code",
   "execution_count": 3,
   "metadata": {},
   "outputs": [],
   "source": [
    "# parallel\n",
    "from functools import partial\n",
    "from pathlib import Path"
   ]
  },
  {
   "cell_type": "code",
   "execution_count": 4,
   "metadata": {},
   "outputs": [],
   "source": [
    "from data_sources import *\n",
    "from midi_data import *"
   ]
  },
  {
   "cell_type": "code",
   "execution_count": 5,
   "metadata": {},
   "outputs": [],
   "source": [
    "path = Path('data/midi')\n",
    "orig_path = path/'midi_sources'\n",
    "metapath = path/'metadata'\n",
    "metapath.mkdir(parents=True, exist_ok=True)"
   ]
  },
  {
   "cell_type": "code",
   "execution_count": 6,
   "metadata": {},
   "outputs": [],
   "source": [
    "def create_paths(dirname):\n",
    "    \"Standardize midi_source paths\"\n",
    "    dir_path = orig_path/dirname\n",
    "    json_path = metapath/f'{dirname}_metadata.json'\n",
    "    csv_path = metapath/f'{dirname}_metadata.csv'\n",
    "    return dir_path, json_path, csv_path"
   ]
  },
  {
   "cell_type": "code",
   "execution_count": 7,
   "metadata": {},
   "outputs": [
    {
     "data": {
      "text/plain": [
       "[PosixPath('data/midi/metadata'),\n",
       " PosixPath('data/midi/midi_sources'),\n",
       " PosixPath('data/midi/transcribed_allcomp'),\n",
       " PosixPath('data/midi/transposed_old'),\n",
       " PosixPath('data/midi/metadata_old')]"
      ]
     },
     "execution_count": 7,
     "metadata": {},
     "output_type": "execute_result"
    }
   ],
   "source": [
    "directories = [x for x in path.iterdir() if x.is_dir()]; directories"
   ]
  },
  {
   "cell_type": "markdown",
   "metadata": {},
   "source": [
    "### Remove corrupted file - this causes deadlock with music21 processing"
   ]
  },
  {
   "cell_type": "code",
   "execution_count": 43,
   "metadata": {},
   "outputs": [],
   "source": [
    "Path('data/midi/midi_sources/midiworld/named_midi/NITRO_BRO_-_IT_WONT_DIE.mid').unlink()"
   ]
  },
  {
   "cell_type": "markdown",
   "metadata": {},
   "source": [
    "### Hooktheory"
   ]
  },
  {
   "cell_type": "code",
   "execution_count": 8,
   "metadata": {},
   "outputs": [],
   "source": [
    "ht_path, ht_json, ht_csv = create_paths('hooktheory')\n",
    "ht_song_list = metapath/'hooktheory_key2info.json'"
   ]
  },
  {
   "cell_type": "code",
   "execution_count": 9,
   "metadata": {},
   "outputs": [],
   "source": [
    "def song_key(s): return '_'.join(s.parts[-3:-1])"
   ]
  },
  {
   "cell_type": "code",
   "execution_count": 10,
   "metadata": {},
   "outputs": [],
   "source": [
    "ht_key2info = load_json(ht_song_list)\n",
    "\n",
    "if ht_key2info is None:\n",
    "    song_info = list((ht_path/'xml').glob('*/*/*/*.json'))\n",
    "    ht_key2info = {song_key(s):json.load(open(s, 'r')) for s in song_info}\n",
    "    save_json(ht_key2info, ht_song_list)\n",
    "    len(song_info)"
   ]
  },
  {
   "cell_type": "code",
   "execution_count": 11,
   "metadata": {},
   "outputs": [
    {
     "data": {
      "text/plain": [
       "19876"
      ]
     },
     "execution_count": 11,
     "metadata": {},
     "output_type": "execute_result"
    }
   ],
   "source": [
    "song_json = list((ht_path/'event').glob('*/*/*/*_key.json')); len(song_json) # using json instead of midi for metadata"
   ]
  },
  {
   "cell_type": "code",
   "execution_count": 12,
   "metadata": {},
   "outputs": [],
   "source": [
    "def get_ht_midifile(json_file):\n",
    "    return str(json_file.with_suffix('.mid')).replace('event', 'pianoroll').replace('symbol_', '')"
   ]
  },
  {
   "cell_type": "code",
   "execution_count": 13,
   "metadata": {},
   "outputs": [],
   "source": [
    "def get_hooktheory_attr(fp):\n",
    "    song_info = ht_key2info[song_key(fp)]\n",
    "    song_json = json.load(open(fp, 'r'))\n",
    "    metadata = song_json['metadata']\n",
    "    artist = fp.parts[-3]\n",
    "    title = fp.parts[-2]\n",
    "    section = fp.name.split('_')[0]\n",
    "    midi_path = get_ht_midifile(fp)\n",
    "    \n",
    "    ht_key = metadata['key']\n",
    "    ht_mode = metadata['mode']\n",
    "    if ht_mode is None: ht_mode = 'major'\n",
    "    ht_offset = keyc_offset(ht_key, ht_mode)\n",
    "    \n",
    "    # convert stream here\n",
    "    metadata = {\n",
    "        'artist': artist,\n",
    "        'title': title,\n",
    "        'section': section,\n",
    "        'original_path': midi_path,\n",
    "        'parts': song_info['section'],\n",
    "        'song_url': song_info['song_url'],\n",
    "        'genres': song_info['genres'],\n",
    "        'midi_title': metadata['title'],\n",
    "        'source': 'hooktheory',\n",
    "        'ht_bpm': metadata['BPM'],\n",
    "        'ht_mode': metadata['mode'],\n",
    "        'ht_key': metadata['key'],\n",
    "        'ht_offset': ht_offset,\n",
    "        'ht_time_signature': metadata['beats_in_measure']\n",
    "    }\n",
    "    \n",
    "    return {\n",
    "        'file_path': midi_path, # midi path not json path\n",
    "        'metadata': metadata\n",
    "    }"
   ]
  },
  {
   "cell_type": "code",
   "execution_count": 14,
   "metadata": {},
   "outputs": [],
   "source": [
    "# sanity check\n",
    "# hook_out = get_hooktheory_attr(song_json[1000]); hook_out"
   ]
  },
  {
   "cell_type": "code",
   "execution_count": 15,
   "metadata": {},
   "outputs": [
    {
     "name": "stdout",
     "output_type": "stream",
     "text": [
      "Midi Exeption: data/midi/midi_sources/hooktheory/pianoroll/w/weezer/beverly-hills/intro-and-verse_key.mid list index out of range\n"
     ]
    },
    {
     "data": {
      "text/html": [
       "\n",
       "    <div>\n",
       "        <style>\n",
       "            /* Turns off some styling */\n",
       "            progress {\n",
       "                /* gets rid of default border in Firefox and Opera. */\n",
       "                border: none;\n",
       "                /* Needs to be in here for Safari polyfill so background images work as expected. */\n",
       "                background-size: auto;\n",
       "            }\n",
       "            .progress-bar-interrupted, .progress-bar-interrupted::-webkit-progress-bar {\n",
       "                background: #F44336;\n",
       "            }\n",
       "        </style>\n",
       "      <progress value='19876' class='' max='19876', style='width:300px; height:20px; vertical-align: middle;'></progress>\n",
       "      100.00% [19876/19876 00:24<00:00]\n",
       "    </div>\n",
       "    "
      ],
      "text/plain": [
       "<IPython.core.display.HTML object>"
      ]
     },
     "metadata": {},
     "output_type": "display_data"
    },
    {
     "name": "stdout",
     "output_type": "stream",
     "text": [
      "Midi Exeption: data/midi/midi_sources/hooktheory/pianoroll/w/wolfgang-amadeus-mozart/symphony-no-25-in-g-minor/intro-and-verse_key.mid list index out of range\n",
      "Midi Exeption: data/midi/midi_sources/hooktheory/pianoroll/y/ylvis/the-fox---what-does-the-fox-say/verse-and-pre-chorus_key.mid list index out of range\n",
      "Midi Exeption: data/midi/midi_sources/hooktheory/pianoroll/j/jay-z/so-ambitious-feat-pharrel-williams/intro_key.mid list index out of range\n",
      "Midi Exeption: data/midi/midi_sources/hooktheory/pianoroll/j/johnny-cash/folsom-prison-blues/verse_key.mid list index out of range\n",
      "Midi Exeption: data/midi/midi_sources/hooktheory/pianoroll/j/jack-johnson/do-you-remember/intro-and-verse_key.mid list index out of range\n",
      "Midi Exeption: data/midi/midi_sources/hooktheory/pianoroll/j/justin-moore/if-heaven-wasnt-so-far-awat/intro-and-verse_key.mid list index out of range\n",
      "Midi Exeption: data/midi/midi_sources/hooktheory/pianoroll/j/janis-ian/at-spianorolleen/verse_key.mid File not found or no such format found for: data/midi/midi_sources/hooktheory/pianoroll/j/janis-ian/at-spianorolleen/verse_key.mid\n",
      "Midi Exeption: data/midi/midi_sources/hooktheory/pianoroll/j/john-cage/433/solo_key.mid list index out of range\n",
      "Midi Exeption: data/midi/midi_sources/hooktheory/pianoroll/l/lpianorolle-marton/big-fat-kiss/chorus_key.mid File not found or no such format found for: data/midi/midi_sources/hooktheory/pianoroll/l/lpianorolle-marton/big-fat-kiss/chorus_key.mid\n",
      "Midi Exeption: data/midi/midi_sources/hooktheory/pianoroll/l/lpianorolle-marton/big-fat-kiss/intro_key.mid File not found or no such format found for: data/midi/midi_sources/hooktheory/pianoroll/l/lpianorolle-marton/big-fat-kiss/intro_key.mid\n",
      "Midi Exeption: data/midi/midi_sources/hooktheory/pianoroll/l/ladytron/spianorolleen/verse_key.mid File not found or no such format found for: data/midi/midi_sources/hooktheory/pianoroll/l/ladytron/spianorolleen/verse_key.mid\n",
      "Midi Exeption: data/midi/midi_sources/hooktheory/pianoroll/l/lykke-li/get-some/pre-chorus-and-chorus_key.mid list index out of range\n",
      "Midi Exeption: data/midi/midi_sources/hooktheory/pianoroll/l/lykke-li/get-some/intro-and-verse_key.mid list index out of range\n",
      "Midi Exeption: data/midi/midi_sources/hooktheory/pianoroll/l/legend-of-zelda---ocarina-of-time/song-of-storms/chorus_key.mid list index out of range\n",
      "Midi Exeption: data/midi/midi_sources/hooktheory/pianoroll/v/vanessa-hudgens/when-there-was-me-and-you---high-school-musical/verse_key.mid list index out of range\n",
      "Midi Exeption: data/midi/midi_sources/hooktheory/pianoroll/b/benjamin-ingrosso/good-lovin/chorus_key.mid list index out of range\n",
      "Midi Exeption: data/midi/midi_sources/hooktheory/pianoroll/b/broken-social-scene/anthems-for-a-spianorolleen-year-old-girl/verse_key.mid File not found or no such format found for: data/midi/midi_sources/hooktheory/pianoroll/b/broken-social-scene/anthems-for-a-spianorolleen-year-old-girl/verse_key.mid\n",
      "Midi Exeption: data/midi/midi_sources/hooktheory/pianoroll/b/bobby-dreher/last-tomorrow/intro_key.mid list index out of range\n",
      "Midi Exeption: data/midi/midi_sources/hooktheory/pianoroll/z/zun/vanishing-dream---lost-dream/instrumental_key.mid list index out of range\n",
      "Midi Exeption: data/midi/midi_sources/hooktheory/pianoroll/d/dr-dre/smoke-weed-everyday/verse_key.mid list index out of range\n",
      "Midi Exeption: data/midi/midi_sources/hooktheory/pianoroll/x/xxxtentacion/orlando/chorus_key.mid list index out of range\n",
      "Midi Exeption: data/midi/midi_sources/hooktheory/pianoroll/x/xyconstant/white-noise/chorus_key.mid list index out of range\n",
      "Midi Exeption: data/midi/midi_sources/hooktheory/pianoroll/s/stevie-nicks/edge-of-spianorolleen/chorus_key.mid File not found or no such format found for: data/midi/midi_sources/hooktheory/pianoroll/s/stevie-nicks/edge-of-spianorolleen/chorus_key.mid\n",
      "Midi Exeption: data/midi/midi_sources/hooktheory/pianoroll/s/spianorolleen/adore-u/verse-and-pre-chorus_key.mid File not found or no such format found for: data/midi/midi_sources/hooktheory/pianoroll/s/spianorolleen/adore-u/verse-and-pre-chorus_key.mid\n",
      "Midi Exeption: data/midi/midi_sources/hooktheory/pianoroll/s/spianorolleen-and-ailee/q-and-a/chorus_key.mid File not found or no such format found for: data/midi/midi_sources/hooktheory/pianoroll/s/spianorolleen-and-ailee/q-and-a/chorus_key.mid\n",
      "Midi Exeption: data/midi/midi_sources/hooktheory/pianoroll/s/switchfoot/dare-you-to-move/verse_key.mid list index out of range\n",
      "Midi Exeption: data/midi/midi_sources/hooktheory/pianoroll/s/snakehips/dont-leave/verse_key.mid list index out of range\n",
      "Midi Exeption: data/midi/midi_sources/hooktheory/pianoroll/s/slam-dunk---da-funk/five/chorus_key.mid list index out of range\n",
      "Midi Exeption: data/midi/midi_sources/hooktheory/pianoroll/s/sia/titanium/intro_key.mid list index out of range\n",
      "Midi Exeption: data/midi/midi_sources/hooktheory/pianoroll/c/clean-bandit/solo-feat-demi-lovato/chorus_key.mid list index out of range\n",
      "Midi Exeption: data/midi/midi_sources/hooktheory/pianoroll/c/cal-tjader/curacao-/chorus_key.mid list index out of range\n",
      "Midi Exeption: data/midi/midi_sources/hooktheory/pianoroll/c/carrie-underwood/before-he-cheats/pre-chorus_key.mid list index out of range\n",
      "Midi Exeption: data/midi/midi_sources/hooktheory/pianoroll/e/equinox/bones/intro_key.mid list index out of range\n",
      "Midi Exeption: data/midi/midi_sources/hooktheory/pianoroll/e/elvis-presley/suspicious-minds/verse_key.mid list index out of range\n",
      "Midi Exeption: data/midi/midi_sources/hooktheory/pianoroll/n/nozomi-aoki/fist-of-the-north-star---combat/verse_key.mid list index out of range\n",
      "Midi Exeption: data/midi/midi_sources/hooktheory/pianoroll/n/nintendo/super-smash-bros-brawl/pre-chorus_key.mid list index out of range\n",
      "Midi Exeption: data/midi/midi_sources/hooktheory/pianoroll/i/ifhy/tyler-the-creator/bridge_key.mid list index out of range\n",
      "Midi Exeption: data/midi/midi_sources/hooktheory/pianoroll/i/instrumental/you-raise-me-up/intro_key.mid list index out of range\n",
      "Midi Exeption: data/midi/midi_sources/hooktheory/pianoroll/h/harvest-moon/a-wonderful-life---breeze/verse_key.mid list index out of range\n",
      "Midi Exeption: data/midi/midi_sources/hooktheory/pianoroll/h/hans-zimmer/the-red-capes-are-coming/instrumental_key.mid list index out of range\n",
      "Midi Exeption: data/midi/midi_sources/hooktheory/pianoroll/p/puppenhaus/untitled/intro_key.mid list index out of range\n",
      "Midi Exeption: data/midi/midi_sources/hooktheory/pianoroll/p/pink-and-white/frank-ocean/pre-outro_key.mid list index out of range\n",
      "Midi Exeption: data/midi/midi_sources/hooktheory/pianoroll/p/pearl-jam/pearl-jam/chorus_key.mid list index out of range\n",
      "Midi Exeption: data/midi/midi_sources/hooktheory/pianoroll/p/percy-mayfield/please-send-me-someone-to-love/intro-and-verse_key.mid list index out of range\n",
      "Midi Exeption: data/midi/midi_sources/hooktheory/pianoroll/t/toby-fox/determination/pre-chorus-and-chorus_key.mid list index out of range\n",
      "Midi Exeption: data/midi/midi_sources/hooktheory/pianoroll/t/the-meters/what-cha-say/intro-and-verse_key.mid list index out of range\n",
      "Midi Exeption: data/midi/midi_sources/hooktheory/pianoroll/t/the-good-and-the-damned/little-electric/bridge_key.mid list index out of range\n",
      "Midi Exeption: data/midi/midi_sources/hooktheory/pianoroll/t/twilight-soundtrack/bellas-lullaby/_key.mid list index out of range\n",
      "Midi Exeption: data/midi/midi_sources/hooktheory/pianoroll/t/taylor-swift/you-belong-with-me/intro_key.mid list index out of range\n",
      "Midi Exeption: data/midi/midi_sources/hooktheory/pianoroll/t/taichi-mukai/reset-%2528kaze-ga-tsuyoku-fuiteiru%2529/intro_key.mid list index out of range\n",
      "Midi Exeption: data/midi/midi_sources/hooktheory/pianoroll/t/taichi-mukai/reset/_key.mid list index out of range\n",
      "Midi Exeption: data/midi/midi_sources/hooktheory/pianoroll/t/the-waifs/london-still/verse_key.mid list index out of range\n",
      "Midi Exeption: data/midi/midi_sources/hooktheory/pianoroll/t/take-us-back/alela-diane/verse-and-pre-chorus_key.mid list index out of range\n",
      "Midi Exeption: data/midi/midi_sources/hooktheory/pianoroll/t/take-us-back/alela-diane/verse_key.mid list index out of range\n",
      "Midi Exeption: data/midi/midi_sources/hooktheory/pianoroll/t/the-rasmus/in-the-shadows/intro_key.mid list index out of range\n"
     ]
    },
    {
     "name": "stdout",
     "output_type": "stream",
     "text": [
      "Midi Exeption: data/midi/midi_sources/hooktheory/pianoroll/t/tame-impala/pianorollually/intro_key.mid File not found or no such format found for: data/midi/midi_sources/hooktheory/pianoroll/t/tame-impala/pianorollually/intro_key.mid\n",
      "Midi Exeption: data/midi/midi_sources/hooktheory/pianoroll/t/tame-impala/pianorollually/verse_key.mid File not found or no such format found for: data/midi/midi_sources/hooktheory/pianoroll/t/tame-impala/pianorollually/verse_key.mid\n",
      "Midi Exeption: data/midi/midi_sources/hooktheory/pianoroll/t/tame-impala/pianorollually/pre-chorus-and-chorus_key.mid File not found or no such format found for: data/midi/midi_sources/hooktheory/pianoroll/t/tame-impala/pianorollually/pre-chorus-and-chorus_key.mid\n",
      "Midi Exeption: data/midi/midi_sources/hooktheory/pianoroll/t/the-beatles/drive-my-car/verse_key.mid list index out of range\n",
      "Midi Exeption: data/midi/midi_sources/hooktheory/pianoroll/t/the-beatles/the-end/solo_key.mid list index out of range\n",
      "Midi Exeption: data/midi/midi_sources/hooktheory/pianoroll/k/katy-pary/fireworks/chorus_key.mid list index out of range\n",
      "Midi Exeption: data/midi/midi_sources/hooktheory/pianoroll/k/kim-carnes/bette-davis-eyes/chorus_key.mid list index out of range\n",
      "Midi Exeption: data/midi/midi_sources/hooktheory/pianoroll/k/kirbys-adventure---rainbow-resort/nintendo/chorus_key.mid list index out of range\n",
      "Midi Exeption: data/midi/midi_sources/hooktheory/pianoroll/k/kelly-clarkson/breakaway/verse-and-pre-chorus_key.mid list index out of range\n",
      "Midi Exeption: data/midi/midi_sources/hooktheory/pianoroll/k/katy-perry/peacock/verse-and-pre-chorus_key.mid list index out of range\n",
      "Midi Exeption: data/midi/midi_sources/hooktheory/pianoroll/r/rodgers-and-hammerstein/sixteen-going-on-spianorolleen---the-sound-of-music/chorus_key.mid File not found or no such format found for: data/midi/midi_sources/hooktheory/pianoroll/r/rodgers-and-hammerstein/sixteen-going-on-spianorolleen---the-sound-of-music/chorus_key.mid\n",
      "Midi Exeption: data/midi/midi_sources/hooktheory/pianoroll/r/rodgers-and-hammerstein/sixteen-going-on-spianorolleen---the-sound-of-music/chorus-lead-out_key.mid File not found or no such format found for: data/midi/midi_sources/hooktheory/pianoroll/r/rodgers-and-hammerstein/sixteen-going-on-spianorolleen---the-sound-of-music/chorus-lead-out_key.mid\n",
      "Midi Exeption: data/midi/midi_sources/hooktheory/pianoroll/r/random-movement/down-somehow/verse_key.mid list index out of range\n",
      "Midi Exeption: data/midi/midi_sources/hooktheory/pianoroll/r/random-movement/down-somehow/instrumental_key.mid list index out of range\n",
      "Midi Exeption: data/midi/midi_sources/hooktheory/pianoroll/r/radiohead/motion-picture-soundtrack/verse-and-pre-chorus_key.mid list index out of range\n",
      "Midi Exeption: data/midi/midi_sources/hooktheory/pianoroll/m/minae-fuji/mega-man-4---ring-man/chorus_key.mid list index out of range\n",
      "Midi Exeption: data/midi/midi_sources/hooktheory/pianoroll/m/michiru-yamane/gaze-up-at-the-darkness/instrumental_key.mid list index out of range\n",
      "Midi Exeption: data/midi/midi_sources/hooktheory/pianoroll/q/queen/bohemian-rhapsody/outro_key.mid list index out of range\n",
      "Midi Exeption: data/midi/midi_sources/hooktheory/pianoroll/q/queen/bohemian-rhapsody/pre-outro_key.mid list index out of range\n",
      "Midi Exeption: data/midi/midi_sources/hooktheory/pianoroll/q/queen/bohemian-rhapsody/instrumental_key.mid list index out of range\n",
      "Midi Exeption: data/midi/midi_sources/hooktheory/pianoroll/a/adventure-club/wonder/outro_key.mid list index out of range\n",
      "Midi Exeption: data/midi/midi_sources/hooktheory/pianoroll/a/adventure-club/wonder/bridge_key.mid list index out of range\n",
      "Midi Exeption: data/midi/midi_sources/hooktheory/pianoroll/a/antonio-vivaldi/the-four-seasons-concerto-no-4-winter/intro_key.mid list index out of range\n",
      "Midi Exeption: data/midi/midi_sources/hooktheory/pianoroll/a/adelina-tahiri/heart-on-fire/intro_key.mid list index out of range\n",
      "Midi Exeption: data/midi/midi_sources/hooktheory/pianoroll/a/antonim/melancholy-soldier/bridge_key.mid list index out of range\n",
      "Midi Exeption: data/midi/midi_sources/hooktheory/pianoroll/a/asf/asdfas/intro-and-verse_key.mid list index out of range\n"
     ]
    }
   ],
   "source": [
    "ht_metadata = parse_midi_dir(song_json, ht_json, meta_func=get_hooktheory_attr, key_func=get_ht_midifile)"
   ]
  },
  {
   "cell_type": "markdown",
   "metadata": {},
   "source": [
    "#### Save song_list"
   ]
  },
  {
   "cell_type": "code",
   "execution_count": 16,
   "metadata": {},
   "outputs": [
    {
     "data": {
      "text/html": [
       "<div>\n",
       "<style scoped>\n",
       "    .dataframe tbody tr th:only-of-type {\n",
       "        vertical-align: middle;\n",
       "    }\n",
       "\n",
       "    .dataframe tbody tr th {\n",
       "        vertical-align: top;\n",
       "    }\n",
       "\n",
       "    .dataframe thead th {\n",
       "        text-align: right;\n",
       "    }\n",
       "</style>\n",
       "<table border=\"1\" class=\"dataframe\">\n",
       "  <thead>\n",
       "    <tr style=\"text-align: right;\">\n",
       "      <th></th>\n",
       "      <th>inferred_offset</th>\n",
       "      <th>inferred_key</th>\n",
       "      <th>instruments</th>\n",
       "      <th>source</th>\n",
       "      <th>seconds</th>\n",
       "      <th>original_path</th>\n",
       "      <th>genres</th>\n",
       "      <th>ht_mode</th>\n",
       "      <th>title</th>\n",
       "      <th>ht_offset</th>\n",
       "      <th>ht_bpm</th>\n",
       "      <th>artist</th>\n",
       "      <th>midi_title</th>\n",
       "      <th>section</th>\n",
       "      <th>parts</th>\n",
       "      <th>song_url</th>\n",
       "      <th>ht_key</th>\n",
       "      <th>time_signature</th>\n",
       "      <th>bpm</th>\n",
       "      <th>ht_time_signature</th>\n",
       "    </tr>\n",
       "  </thead>\n",
       "  <tbody>\n",
       "    <tr>\n",
       "      <th>0</th>\n",
       "      <td>0.0</td>\n",
       "      <td>C major</td>\n",
       "      <td>Piano,Piano</td>\n",
       "      <td>hooktheory</td>\n",
       "      <td>15.000000</td>\n",
       "      <td>data/midi/midi_sources/hooktheory/pianoroll/w/...</td>\n",
       "      <td>NaN</td>\n",
       "      <td>1.0</td>\n",
       "      <td>yu-gi-oh-theme-song</td>\n",
       "      <td>0</td>\n",
       "      <td>128</td>\n",
       "      <td>wayne-sharpe</td>\n",
       "      <td>yu-gi-oh3</td>\n",
       "      <td>chorus</td>\n",
       "      <td>intro,chorus</td>\n",
       "      <td>https://www.hooktheory.com/theorytab/view/wayn...</td>\n",
       "      <td>C</td>\n",
       "      <td>4/4</td>\n",
       "      <td>128.0</td>\n",
       "      <td>4</td>\n",
       "    </tr>\n",
       "    <tr>\n",
       "      <th>1</th>\n",
       "      <td>-3.0</td>\n",
       "      <td>E- major</td>\n",
       "      <td>Piano,Piano</td>\n",
       "      <td>hooktheory</td>\n",
       "      <td>11.111111</td>\n",
       "      <td>data/midi/midi_sources/hooktheory/pianoroll/w/...</td>\n",
       "      <td>NaN</td>\n",
       "      <td>1.0</td>\n",
       "      <td>falling-for-you</td>\n",
       "      <td>-3</td>\n",
       "      <td>108</td>\n",
       "      <td>weezer</td>\n",
       "      <td>falling for you intro</td>\n",
       "      <td>intro</td>\n",
       "      <td>intro,verse,chorus,solo</td>\n",
       "      <td>https://www.hooktheory.com/theorytab/view/weez...</td>\n",
       "      <td>Eb</td>\n",
       "      <td>4/4</td>\n",
       "      <td>108.0</td>\n",
       "      <td>4</td>\n",
       "    </tr>\n",
       "    <tr>\n",
       "      <th>2</th>\n",
       "      <td>6.0</td>\n",
       "      <td>E- minor</td>\n",
       "      <td>Piano,Piano</td>\n",
       "      <td>hooktheory</td>\n",
       "      <td>26.666667</td>\n",
       "      <td>data/midi/midi_sources/hooktheory/pianoroll/w/...</td>\n",
       "      <td>NaN</td>\n",
       "      <td>1.0</td>\n",
       "      <td>falling-for-you</td>\n",
       "      <td>-3</td>\n",
       "      <td>108</td>\n",
       "      <td>weezer</td>\n",
       "      <td>falling for you solo</td>\n",
       "      <td>solo</td>\n",
       "      <td>intro,verse,chorus,solo</td>\n",
       "      <td>https://www.hooktheory.com/theorytab/view/weez...</td>\n",
       "      <td>Eb</td>\n",
       "      <td>4/4</td>\n",
       "      <td>108.0</td>\n",
       "      <td>4</td>\n",
       "    </tr>\n",
       "    <tr>\n",
       "      <th>3</th>\n",
       "      <td>NaN</td>\n",
       "      <td>NaN</td>\n",
       "      <td>NaN</td>\n",
       "      <td>hooktheory</td>\n",
       "      <td>NaN</td>\n",
       "      <td>data/midi/midi_sources/hooktheory/pianoroll/w/...</td>\n",
       "      <td>NaN</td>\n",
       "      <td>NaN</td>\n",
       "      <td>beverly-hills</td>\n",
       "      <td>0</td>\n",
       "      <td>128</td>\n",
       "      <td>weezer</td>\n",
       "      <td>My New Song</td>\n",
       "      <td>intro-and-verse</td>\n",
       "      <td>intro-and-verse</td>\n",
       "      <td>https://www.hooktheory.com/theorytab/view/weez...</td>\n",
       "      <td>C</td>\n",
       "      <td>NaN</td>\n",
       "      <td>NaN</td>\n",
       "      <td>4</td>\n",
       "    </tr>\n",
       "    <tr>\n",
       "      <th>4</th>\n",
       "      <td>3.0</td>\n",
       "      <td>A major</td>\n",
       "      <td>Piano,Piano</td>\n",
       "      <td>hooktheory</td>\n",
       "      <td>13.150685</td>\n",
       "      <td>data/midi/midi_sources/hooktheory/pianoroll/w/...</td>\n",
       "      <td>NaN</td>\n",
       "      <td>1.0</td>\n",
       "      <td>owls</td>\n",
       "      <td>3</td>\n",
       "      <td>146</td>\n",
       "      <td>weebl</td>\n",
       "      <td>Owls - Outro</td>\n",
       "      <td>outro</td>\n",
       "      <td>verse,outro</td>\n",
       "      <td>https://www.hooktheory.com/theorytab/view/weeb...</td>\n",
       "      <td>A</td>\n",
       "      <td>4/4</td>\n",
       "      <td>146.0</td>\n",
       "      <td>4</td>\n",
       "    </tr>\n",
       "  </tbody>\n",
       "</table>\n",
       "</div>"
      ],
      "text/plain": [
       "   inferred_offset inferred_key  instruments      source    seconds  \\\n",
       "0              0.0      C major  Piano,Piano  hooktheory  15.000000   \n",
       "1             -3.0     E- major  Piano,Piano  hooktheory  11.111111   \n",
       "2              6.0     E- minor  Piano,Piano  hooktheory  26.666667   \n",
       "3              NaN          NaN          NaN  hooktheory        NaN   \n",
       "4              3.0      A major  Piano,Piano  hooktheory  13.150685   \n",
       "\n",
       "                                       original_path genres  ht_mode  \\\n",
       "0  data/midi/midi_sources/hooktheory/pianoroll/w/...    NaN      1.0   \n",
       "1  data/midi/midi_sources/hooktheory/pianoroll/w/...    NaN      1.0   \n",
       "2  data/midi/midi_sources/hooktheory/pianoroll/w/...    NaN      1.0   \n",
       "3  data/midi/midi_sources/hooktheory/pianoroll/w/...    NaN      NaN   \n",
       "4  data/midi/midi_sources/hooktheory/pianoroll/w/...    NaN      1.0   \n",
       "\n",
       "                 title  ht_offset  ht_bpm        artist  \\\n",
       "0  yu-gi-oh-theme-song          0     128  wayne-sharpe   \n",
       "1      falling-for-you         -3     108        weezer   \n",
       "2      falling-for-you         -3     108        weezer   \n",
       "3        beverly-hills          0     128        weezer   \n",
       "4                 owls          3     146         weebl   \n",
       "\n",
       "              midi_title          section                    parts  \\\n",
       "0              yu-gi-oh3           chorus             intro,chorus   \n",
       "1  falling for you intro            intro  intro,verse,chorus,solo   \n",
       "2   falling for you solo             solo  intro,verse,chorus,solo   \n",
       "3            My New Song  intro-and-verse          intro-and-verse   \n",
       "4           Owls - Outro            outro              verse,outro   \n",
       "\n",
       "                                            song_url ht_key time_signature  \\\n",
       "0  https://www.hooktheory.com/theorytab/view/wayn...      C            4/4   \n",
       "1  https://www.hooktheory.com/theorytab/view/weez...     Eb            4/4   \n",
       "2  https://www.hooktheory.com/theorytab/view/weez...     Eb            4/4   \n",
       "3  https://www.hooktheory.com/theorytab/view/weez...      C            NaN   \n",
       "4  https://www.hooktheory.com/theorytab/view/weeb...      A            4/4   \n",
       "\n",
       "     bpm  ht_time_signature  \n",
       "0  128.0                  4  \n",
       "1  108.0                  4  \n",
       "2  108.0                  4  \n",
       "3    NaN                  4  \n",
       "4  146.0                  4  "
      ]
     },
     "execution_count": 16,
     "metadata": {},
     "output_type": "execute_result"
    }
   ],
   "source": [
    "ht_metadata = load_json(ht_json)\n",
    "arr2csv(ht_metadata.values(), ht_csv)\n",
    "df = pd.read_csv(ht_csv); df.head()"
   ]
  },
  {
   "cell_type": "code",
   "execution_count": 17,
   "metadata": {},
   "outputs": [
    {
     "data": {
      "text/plain": [
       "(19876, 20)"
      ]
     },
     "execution_count": 17,
     "metadata": {},
     "output_type": "execute_result"
    }
   ],
   "source": [
    "df.shape"
   ]
  },
  {
   "cell_type": "markdown",
   "metadata": {},
   "source": [
    "## FreeMidi"
   ]
  },
  {
   "cell_type": "code",
   "execution_count": 9,
   "metadata": {},
   "outputs": [
    {
     "data": {
      "text/plain": [
       "[PosixPath('data/midi/midi_sources/freemidi/genre-disco'),\n",
       " PosixPath('data/midi/midi_sources/freemidi/genre-pop'),\n",
       " PosixPath('data/midi/midi_sources/freemidi/genre-dance-eletric'),\n",
       " PosixPath('data/midi/midi_sources/freemidi/genre-punk'),\n",
       " PosixPath('data/midi/midi_sources/freemidi/genre-hip-hop-rap'),\n",
       " PosixPath('data/midi/midi_sources/freemidi/genre-rock')]"
      ]
     },
     "execution_count": 9,
     "metadata": {},
     "output_type": "execute_result"
    }
   ],
   "source": [
    "fm_path, _, fm_csv = create_paths('freemidi')\n",
    "fm_dance_path = metapath/f'freemidi_dance_metadata.json'\n",
    "fm_pop_path = metapath/f'freemidi_pop_metadata.json'\n",
    "list(fm_path.glob('*'))"
   ]
  },
  {
   "cell_type": "code",
   "execution_count": 19,
   "metadata": {},
   "outputs": [],
   "source": [
    "def parse_freemidi_songs(fp, genres=None, source=None):\n",
    "    name = fp.with_suffix('').name.split(' - ')\n",
    "    artist = name[0]\n",
    "    title = name[-1]\n",
    "    metadata = {\n",
    "        'artist': artist.strip(),\n",
    "        'title': title.strip(),\n",
    "        'midi': str(fp),\n",
    "        'genres': genres,\n",
    "        'source': source\n",
    "    }\n",
    "    return {\n",
    "        'file_path': fp,\n",
    "        'metadata': metadata\n",
    "    }"
   ]
  },
  {
   "cell_type": "code",
   "execution_count": 20,
   "metadata": {},
   "outputs": [
    {
     "data": {
      "text/html": [
       "\n",
       "    <div>\n",
       "        <style>\n",
       "            /* Turns off some styling */\n",
       "            progress {\n",
       "                /* gets rid of default border in Firefox and Opera. */\n",
       "                border: none;\n",
       "                /* Needs to be in here for Safari polyfill so background images work as expected. */\n",
       "                background-size: auto;\n",
       "            }\n",
       "            .progress-bar-interrupted, .progress-bar-interrupted::-webkit-progress-bar {\n",
       "                background: #F44336;\n",
       "            }\n",
       "        </style>\n",
       "      <progress value='1122' class='' max='1122', style='width:300px; height:20px; vertical-align: middle;'></progress>\n",
       "      100.00% [1122/1122 03:51<00:00]\n",
       "    </div>\n",
       "    "
      ],
      "text/plain": [
       "<IPython.core.display.HTML object>"
      ]
     },
     "metadata": {},
     "output_type": "display_data"
    },
    {
     "name": "stdout",
     "output_type": "stream",
     "text": [
      "Midi Exeption: data/midi/midi_sources/freemidi/genre-dance-eletric/Bjork - Glora.mid cannot get a seconds duration when no TempoIndication classes are found in or before this Stream.\n",
      "Midi Exeption: data/midi/midi_sources/freemidi/genre-dance-eletric/Tori Amos - Not The Red Baron.mid cannot get a seconds duration when no TempoIndication classes are found in or before this Stream.\n",
      "Midi Exeption: data/midi/midi_sources/freemidi/genre-dance-eletric/Gloria Estefan - I'm Not Givin' You Up.mid badly formated midi bytes, got: b'RIFFB\\x8c\\x00\\x00RMIDdata~\\x8b\\x00\\x00'\n",
      "Midi Exeption: data/midi/midi_sources/freemidi/genre-dance-eletric/Depeche Mode - Freelove.mid cannot get a seconds duration when no TempoIndication classes are found in or before this Stream.\n",
      "Midi Exeption: data/midi/midi_sources/freemidi/genre-dance-eletric/Atomic Kitten - Whole Again.mid badly formated midi bytes, got: b'RIFF\\x08K\\x00\\x00RMIDdata{J\\x00\\x00'\n",
      "Midi Exeption: data/midi/midi_sources/freemidi/genre-dance-eletric/Apollo 440 - Lost In Space.mid index out of range\n",
      "Midi Exeption: data/midi/midi_sources/freemidi/genre-dance-eletric/Tatu - Ya Tvoy Vrag (I'm Your Enemy).mid badly formated midi bytes, got: b'RIFF,\\xa3\\x00\\x00RMIDdata\\xc6\\xa2\\x00\\x00'\n",
      "Midi Exeption: data/midi/midi_sources/freemidi/genre-dance-eletric/Gloria Estefan - Get On Your Feet.mid badly formated midi bytes, got: b'RIFF\\x92\\xa8\\x01\\x00RMIDdata\\xd8\\xa7\\x01\\x00'\n",
      "Midi Exeption: data/midi/midi_sources/freemidi/genre-dance-eletric/Gloria Estefan - Mi Tierra.mid badly formated midi bytes, got: b'RIFFz\\r\\x01\\x00RMIDdata\\xce\\x0c\\x01\\x00'\n",
      "Midi Exeption: data/midi/midi_sources/freemidi/genre-dance-eletric/Depeche Mode - Breathe.mid cannot get a seconds duration when no TempoIndication classes are found in or before this Stream.\n",
      "Midi Exeption: data/midi/midi_sources/freemidi/genre-dance-eletric/Whitney Houston - If I Told You That.mid badly formated midi bytes, got: b'error with file'\n",
      "Midi Exeption: data/midi/midi_sources/freemidi/genre-dance-eletric/Tori Amos - 10000 Oceans.mid cannot get a seconds duration when no TempoIndication classes are found in or before this Stream.\n",
      "Midi Exeption: data/midi/midi_sources/freemidi/genre-dance-eletric/New Order - True Faith.mid cannot get a seconds duration when no TempoIndication classes are found in or before this Stream.\n",
      "Midi Exeption: data/midi/midi_sources/freemidi/genre-dance-eletric/Gloria Estefan - Coming Out of The Dark.mid badly formated midi bytes, got: b'RIFF\\xca)\\x00\\x00RMIDdata\\x03)\\x00\\x00'\n",
      "Midi Exeption: data/midi/midi_sources/freemidi/genre-dance-eletric/Enigma - Sadness.mid badly formed midi string: missing leading MTrk\n",
      "Midi Exeption: data/midi/midi_sources/freemidi/genre-dance-eletric/Tori Amos - Here In My Head.mid list index out of range\n",
      "Midi Exeption: data/midi/midi_sources/freemidi/genre-dance-eletric/Tatu - Ne Ver Ne Boysia.mid badly formated midi bytes, got: b'RIFF\\xa8\\xbd\\x00\\x00RMIDdata\\x13\\xbd\\x00\\x00'\n",
      "Midi Exeption: data/midi/midi_sources/freemidi/genre-dance-eletric/Gloria Estefan - Mitierra.mid badly formated midi bytes, got: b'RIFFz\\r\\x01\\x00RMIDdata\\xce\\x0c\\x01\\x00'\n",
      "Midi Exeption: data/midi/midi_sources/freemidi/genre-dance-eletric/Whitney Houston - I Believe In You And Me.mid badly formed midi string: missing leading MTrk\n",
      "Midi Exeption: data/midi/midi_sources/freemidi/genre-dance-eletric/Garbage - Vow (2).mid cannot get a seconds duration when no TempoIndication classes are found in or before this Stream.\n",
      "Midi Exeption: data/midi/midi_sources/freemidi/genre-dance-eletric/Craig David - Walking Away.mid badly formated midi bytes, got: b'RIFF\\xca\\xcf\\x01\\x00RMIDdata\\x1d\\xcf\\x01\\x00'\n",
      "Midi Exeption: data/midi/midi_sources/freemidi/genre-dance-eletric/Gwen Stefani - Early Winter.mid badly formated midi bytes, got: b'<br />\\n<b>Warning</b'\n",
      "Midi Exeption: data/midi/midi_sources/freemidi/genre-dance-eletric/Anastasia - Everything Burns.mid badly formated midi bytes, got: b'error with file'\n",
      "Midi Exeption: data/midi/midi_sources/freemidi/genre-dance-eletric/Gloria Estefan - Anything For You.mid badly formated midi bytes, got: b'RIFF\\x00)\\x00\\x00RMIDdataE(\\x00\\x00'\n",
      "Midi Exeption: data/midi/midi_sources/freemidi/genre-dance-eletric/Gloria Estefan - Breaking Up Is Hard To Do.mid badly formated midi bytes, got: b'RIFF\\x10N\\x00\\x00RMIDdataDM\\x00\\x00'\n",
      "Midi Exeption: data/midi/midi_sources/freemidi/genre-dance-eletric/Anastacia - Stupid Little Things.mid list index out of range\n",
      "Midi Exeption: data/midi/midi_sources/freemidi/genre-dance-eletric/Whitney Houston - It's Not Right, But It's Ok.mid badly formed midi string: missing leading MTrk\n",
      "Midi Exeption: data/midi/midi_sources/freemidi/genre-dance-eletric/New Order - World.mid cannot get a seconds duration when no TempoIndication classes are found in or before this Stream.\n",
      "Midi Exeption: data/midi/midi_sources/freemidi/genre-dance-eletric/Akcent - Dźwięki Strun.mid list index out of range\n",
      "Midi Exeption: data/midi/midi_sources/freemidi/genre-dance-eletric/Tori Amos - Mother.mid cannot get a seconds duration when no TempoIndication classes are found in or before this Stream.\n",
      "Midi Exeption: data/midi/midi_sources/freemidi/genre-dance-eletric/Donna Summer - Hot Stuff.mid index out of range\n",
      "Midi Exeption: data/midi/midi_sources/freemidi/genre-dance-eletric/Modern Talking - Megamix 2000.mid badly formated midi bytes, got: b'RIFFp\\x91\\x02\\x00RMIDdata\\xd1\\x90\\x02\\x00'\n",
      "Midi Exeption: data/midi/midi_sources/freemidi/genre-dance-eletric/Aqua - Turn Back Time.mid index out of range\n",
      "Midi Exeption: data/midi/midi_sources/freemidi/genre-dance-eletric/Depeche Mode - I Feel Loved.mid cannot get a seconds duration when no TempoIndication classes are found in or before this Stream.\n",
      "Midi Exeption: data/midi/midi_sources/freemidi/genre-dance-eletric/Donna Summer - Bad Girls.mid badly formed midi string: missing leading MTrk\n",
      "Midi Exeption: data/midi/midi_sources/freemidi/genre-dance-eletric/Gloria Estefan - Abriendo Puertas.mid badly formated midi bytes, got: b'error with file'\n",
      "Midi Exeption: data/midi/midi_sources/freemidi/genre-dance-eletric/Anastasia - Why Did You Lie To Me.mid badly formated midi bytes, got: b'error with file'\n",
      "Midi Exeption: data/midi/midi_sources/freemidi/genre-dance-eletric/Gloria Estefan - Go Away.mid badly formated midi bytes, got: b'RIFF\\x84\\xcd\\x00\\x00RMIDdata\\xdb\\xcc\\x00\\x00'\n",
      "Midi Exeption: data/midi/midi_sources/freemidi/genre-dance-eletric/Kylie Minogue - Your Disco Needs You.mid badly formated midi bytes, got: b'RIFF$\\xd9\\x00\\x00RMIDdata\\x83\\xd8\\x00\\x00'\n",
      "Midi Exeption: data/midi/midi_sources/freemidi/genre-dance-eletric/Moby - Natural Blues.mid cannot get a seconds duration when no TempoIndication classes are found in or before this Stream.\n",
      "Midi Exeption: data/midi/midi_sources/freemidi/genre-dance-eletric/Gloria Estefan - Ayer.mid badly formated midi bytes, got: b'RIFF\\x98\\xf5\\x00\\x00RMIDdata\\xf5\\xf4\\x00\\x00'\n",
      "Midi Exeption: data/midi/midi_sources/freemidi/genre-dance-eletric/S Club 7 - We Can Work It Out.mid list index out of range\n",
      "Midi Exeption: data/midi/midi_sources/freemidi/genre-dance-eletric/Gloria Estefan - Cant Stay Away From You.mid badly formated midi bytes, got: b'RIFF^5\\x00\\x00RMIDdata\\x934\\x00\\x00'\n",
      "Midi Exeption: data/midi/midi_sources/freemidi/genre-dance-eletric/Depeche Mode - Fools.mid cannot get a seconds duration when no TempoIndication classes are found in or before this Stream.\n",
      "Midi Exeption: data/midi/midi_sources/freemidi/genre-dance-eletric/Tatu - Robot.mid badly formated midi bytes, got: b'RIFF\\x82N\\x00\\x00RMIDdata\\x1cN\\x00\\x00'\n",
      "Midi Exeption: data/midi/midi_sources/freemidi/genre-dance-eletric/New Order - Ceremony.mid cannot get a seconds duration when no TempoIndication classes are found in or before this Stream.\n",
      "Midi Exeption: data/midi/midi_sources/freemidi/genre-dance-eletric/Calvin Harris - Summer.mid cannot get a seconds duration when no TempoIndication classes are found in or before this Stream.\n"
     ]
    }
   ],
   "source": [
    "d_parse_func = partial(parse_freemidi_songs, genres='dance', source='freemidi')\n",
    "dir_path = fm_path/'genre-dance-eletric'\n",
    "file_list = get_files(dir_path, extensions=['.mid'], recurse=True)\n",
    "fm_dance_list = parse_midi_dir(file_list, fm_dance_path, meta_func=d_parse_func)"
   ]
  },
  {
   "cell_type": "code",
   "execution_count": 21,
   "metadata": {},
   "outputs": [
    {
     "data": {
      "text/html": [
       "\n",
       "    <div>\n",
       "        <style>\n",
       "            /* Turns off some styling */\n",
       "            progress {\n",
       "                /* gets rid of default border in Firefox and Opera. */\n",
       "                border: none;\n",
       "                /* Needs to be in here for Safari polyfill so background images work as expected. */\n",
       "                background-size: auto;\n",
       "            }\n",
       "            .progress-bar-interrupted, .progress-bar-interrupted::-webkit-progress-bar {\n",
       "                background: #F44336;\n",
       "            }\n",
       "        </style>\n",
       "      <progress value='4675' class='' max='4675', style='width:300px; height:20px; vertical-align: middle;'></progress>\n",
       "      100.00% [4675/4675 10:12<00:00]\n",
       "    </div>\n",
       "    "
      ],
      "text/plain": [
       "<IPython.core.display.HTML object>"
      ]
     },
     "metadata": {},
     "output_type": "display_data"
    },
    {
     "name": "stdout",
     "output_type": "stream",
     "text": [
      "Midi Exeption: data/midi/midi_sources/freemidi/genre-pop/Cyndi Lauper - Who Let In The Rain.mid badly formated midi bytes, got: b'0&\\xb2u\\x8ef\\xcf\\x11\\xa6\\xd9\\x00\\xaa\\x00b\\xcel?\\x13\\x00\\x00'\n",
      "Midi Exeption: data/midi/midi_sources/freemidi/genre-pop/Cyndi Lauper - Whats Going On.mid badly formated midi bytes, got: b'0&\\xb2u\\x8ef\\xcf\\x11\\xa6\\xd9\\x00\\xaa\\x00b\\xcel?\\x13\\x00\\x00'\n",
      "Midi Exeption: data/midi/midi_sources/freemidi/genre-pop/Chris De Burgh - Discovery.mid list index out of range\n",
      "Midi Exeption: data/midi/midi_sources/freemidi/genre-pop/Michael Jackson - BilliJeans_AI_composed.mid list index out of range\n",
      "Midi Exeption: data/midi/midi_sources/freemidi/genre-pop/Sting - A Thousand Years.mid cannot get a seconds duration when no TempoIndication classes are found in or before this Stream.\n",
      "Midi Exeption: data/midi/midi_sources/freemidi/genre-pop/5th Dimension - One Less Bell To Answere.mid badly formed midi string: missing leading MTrk\n",
      "Midi Exeption: data/midi/midi_sources/freemidi/genre-pop/Cyndi Lauper - The World Is Stone.mid badly formated midi bytes, got: b'0&\\xb2u\\x8ef\\xcf\\x11\\xa6\\xd9\\x00\\xaa\\x00b\\xcel?\\x13\\x00\\x00'\n",
      "Midi Exeption: data/midi/midi_sources/freemidi/genre-pop/Elton John - Blue Eyes.mid list index out of range\n",
      "Midi Exeption: data/midi/midi_sources/freemidi/genre-pop/Miley Cyrus - We Cant Stop.mid cannot get a seconds duration when no TempoIndication classes are found in or before this Stream.\n",
      "Midi Exeption: data/midi/midi_sources/freemidi/genre-pop/Janet Jackson - Escapade.mid badly formated midi bytes, got: b'error with file'\n",
      "Midi Exeption: data/midi/midi_sources/freemidi/genre-pop/Cyndi Lauper - Change Of Heart.mid badly formated midi bytes, got: b'0&\\xb2u\\x8ef\\xcf\\x11\\xa6\\xd9\\x00\\xaa\\x00b\\xcel?\\x13\\x00\\x00'\n",
      "Midi Exeption: data/midi/midi_sources/freemidi/genre-pop/Michael Jackson - Heal The World.mid list index out of range\n",
      "Midi Exeption: data/midi/midi_sources/freemidi/genre-pop/Gloria Estefan - I'm Not Givin' You Up.mid badly formated midi bytes, got: b'RIFFB\\x8c\\x00\\x00RMIDdata~\\x8b\\x00\\x00'\n",
      "Midi Exeption: data/midi/midi_sources/freemidi/genre-pop/Atomic Kitten - Whole Again.mid badly formated midi bytes, got: b'RIFF\\x08K\\x00\\x00RMIDdata{J\\x00\\x00'\n",
      "Midi Exeption: data/midi/midi_sources/freemidi/genre-pop/Cyndi Lauper - If You Go Away.mid badly formated midi bytes, got: b'0&\\xb2u\\x8ef\\xcf\\x11\\xa6\\xd9\\x00\\xaa\\x00b\\xcel?\\x13\\x00\\x00'\n",
      "Midi Exeption: data/midi/midi_sources/freemidi/genre-pop/Eddy Arnold - Make the world go away.mid badly formated midi bytes, got: b'error with file'\n",
      "Midi Exeption: data/midi/midi_sources/freemidi/genre-pop/Genesis - Carpet Crawl.mid cannot get a seconds duration when no TempoIndication classes are found in or before this Stream.\n",
      "Midi Exeption: data/midi/midi_sources/freemidi/genre-pop/Cyndi Lauper - Money Changes Everything.mid badly formated midi bytes, got: b'0&\\xb2u\\x8ef\\xcf\\x11\\xa6\\xd9\\x00\\xaa\\x00b\\xcel?\\x13\\x00\\x00'\n",
      "Midi Exeption: data/midi/midi_sources/freemidi/genre-pop/Carpenters - A Song For You.mid cannot get a seconds duration when no TempoIndication classes are found in or before this Stream.\n",
      "Midi Exeption: data/midi/midi_sources/freemidi/genre-pop/Tatu - Ya Tvoy Vrag (I'm Your Enemy).mid badly formated midi bytes, got: b'RIFF,\\xa3\\x00\\x00RMIDdata\\xc6\\xa2\\x00\\x00'\n",
      "Midi Exeption: data/midi/midi_sources/freemidi/genre-pop/Gloria Estefan - Get On Your Feet.mid badly formated midi bytes, got: b'RIFF\\x92\\xa8\\x01\\x00RMIDdata\\xd8\\xa7\\x01\\x00'\n",
      "Midi Exeption: data/midi/midi_sources/freemidi/genre-pop/One Direction - Night Changes.mid list index out of range\n",
      "Midi Exeption: data/midi/midi_sources/freemidi/genre-pop/Taylor Swift - sparks fly.mid list index out of range\n",
      "Midi Exeption: data/midi/midi_sources/freemidi/genre-pop/Westlife - My Love.mid index out of range\n",
      "Midi Exeption: data/midi/midi_sources/freemidi/genre-pop/Simple Minds - Mandela Day.mid index out of range\n",
      "Midi Exeption: data/midi/midi_sources/freemidi/genre-pop/Cyndi Lauper - I Dont Want To Be Your Friend.mid badly formated midi bytes, got: b'0&\\xb2u\\x8ef\\xcf\\x11\\xa6\\xd9\\x00\\xaa\\x00b\\xcel?\\x13\\x00\\x00'\n",
      "Midi Exeption: data/midi/midi_sources/freemidi/genre-pop/Idina Menzel - Let It Go Frozen.mid cannot get a seconds duration when no TempoIndication classes are found in or before this Stream.\n",
      "Midi Exeption: data/midi/midi_sources/freemidi/genre-pop/Coldplay - A Sky Full of Stars.mid list index out of range\n",
      "Midi Exeption: data/midi/midi_sources/freemidi/genre-pop/Gloria Estefan - Mi Tierra.mid badly formated midi bytes, got: b'RIFFz\\r\\x01\\x00RMIDdata\\xce\\x0c\\x01\\x00'\n",
      "Midi Exeption: data/midi/midi_sources/freemidi/genre-pop/Rod Stewart - Do Ya Think I'm Sexy.mid cannot get a seconds duration when no TempoIndication classes are found in or before this Stream.\n",
      "Midi Exeption: data/midi/midi_sources/freemidi/genre-pop/883 - Hanno Ucciso L'uomo Ragno.mid cannot get a seconds duration when no TempoIndication classes are found in or before this Stream.\n",
      "Midi Exeption: data/midi/midi_sources/freemidi/genre-pop/Katy Perry - Unconditionally.mid list index out of range\n",
      "Midi Exeption: data/midi/midi_sources/freemidi/genre-pop/Whitney Houston - If I Told You That.mid badly formated midi bytes, got: b'error with file'\n",
      "Midi Exeption: data/midi/midi_sources/freemidi/genre-pop/Gloria Estefan - Coming Out of The Dark.mid badly formated midi bytes, got: b'RIFF\\xca)\\x00\\x00RMIDdata\\x03)\\x00\\x00'\n",
      "Midi Exeption: data/midi/midi_sources/freemidi/genre-pop/Annie Lennox - Walking on Broken Glass (2).mid badly formated midi bytes, got: b'error with file'\n",
      "Midi Exeption: data/midi/midi_sources/freemidi/genre-pop/Enigma - Sadness.mid badly formed midi string: missing leading MTrk\n",
      "Midi Exeption: data/midi/midi_sources/freemidi/genre-pop/Carpenters - Sandy.mid cannot get a seconds duration when no TempoIndication classes are found in or before this Stream.\n",
      "Midi Exeption: data/midi/midi_sources/freemidi/genre-pop/Roy Orbison - This Magic Moment.mid list index out of range\n",
      "Midi Exeption: data/midi/midi_sources/freemidi/genre-pop/Beyonce - Irreplaceable.mid index out of range\n",
      "Midi Exeption: data/midi/midi_sources/freemidi/genre-pop/Tatu - Ne Ver Ne Boysia.mid badly formated midi bytes, got: b'RIFF\\xa8\\xbd\\x00\\x00RMIDdata\\x13\\xbd\\x00\\x00'\n",
      "Midi Exeption: data/midi/midi_sources/freemidi/genre-pop/Cyndi Lauper - La Vie En Rose.mid badly formated midi bytes, got: b'0&\\xb2u\\x8ef\\xcf\\x11\\xa6\\xd9\\x00\\xaa\\x00b\\xcel?\\x13\\x00\\x00'\n",
      "Midi Exeption: data/midi/midi_sources/freemidi/genre-pop/Michael Jackson - The Way You Make Me Feel.mid badly formated midi bytes, got: b'RIFF\\xe2\\xfe\\x00\\x00RMIDdata\\x16\\xfe\\x00\\x00'\n",
      "Midi Exeption: data/midi/midi_sources/freemidi/genre-pop/Sting - I Hung My Head.mid cannot get a seconds duration when no TempoIndication classes are found in or before this Stream.\n",
      "Midi Exeption: data/midi/midi_sources/freemidi/genre-pop/Genesis - Evidence Of Autumn.mid cannot get a seconds duration when no TempoIndication classes are found in or before this Stream.\n",
      "Midi Exeption: data/midi/midi_sources/freemidi/genre-pop/Faith Hill - It Matters To Me.mid badly formated midi bytes, got: b'RIFF\\x06`\\x00\\x00RMIDdataT_\\x00\\x00'\n",
      "Midi Exeption: data/midi/midi_sources/freemidi/genre-pop/Fall Out Boy - Light Em Up.mid list index out of range\n",
      "Midi Exeption: data/midi/midi_sources/freemidi/genre-pop/Gloria Estefan - Mitierra.mid badly formated midi bytes, got: b'RIFFz\\r\\x01\\x00RMIDdata\\xce\\x0c\\x01\\x00'\n",
      "Midi Exeption: data/midi/midi_sources/freemidi/genre-pop/Whitney Houston - I Believe In You And Me.mid badly formed midi string: missing leading MTrk\n",
      "Midi Exeption: data/midi/midi_sources/freemidi/genre-pop/ABBA - Angeleyes.mid badly formated midi bytes, got: b'error with file'\n",
      "Midi Exeption: data/midi/midi_sources/freemidi/genre-pop/Lisa Loeb - Waiting For Wednesday.mid list index out of range\n",
      "Midi Exeption: data/midi/midi_sources/freemidi/genre-pop/Hanson - Milwaukee.mid cannot get a seconds duration when no TempoIndication classes are found in or before this Stream.\n",
      "Midi Exeption: data/midi/midi_sources/freemidi/genre-pop/Boyzone - No Matter What.mid badly formed midi string: missing leading MTrk\n",
      "Midi Exeption: data/midi/midi_sources/freemidi/genre-pop/Cyndi Lauper - Hymn To Love.mid badly formated midi bytes, got: b'0&\\xb2u\\x8ef\\xcf\\x11\\xa6\\xd9\\x00\\xaa\\x00b\\xcel?\\x13\\x00\\x00'\n"
     ]
    },
    {
     "name": "stdout",
     "output_type": "stream",
     "text": [
      "Midi Exeption: data/midi/midi_sources/freemidi/genre-pop/ABBA - Anthem.mid badly formated midi bytes, got: b'error with file'\n",
      "Midi Exeption: data/midi/midi_sources/freemidi/genre-pop/Cyndi Lauper - Shattered Dreams.mid badly formated midi bytes, got: b'0&\\xb2u\\x8ef\\xcf\\x11\\xa6\\xd9\\x00\\xaa\\x00b\\xcel\\xfc0\\x02\\x00'\n",
      "Midi Exeption: data/midi/midi_sources/freemidi/genre-pop/Anastacia - Stupid Little Things.mid list index out of range\n",
      "Midi Exeption: data/midi/midi_sources/freemidi/genre-pop/Gwen Stefani - Early Winter.mid badly formated midi bytes, got: b'<br />\\n<b>Warning</b'\n",
      "Midi Exeption: data/midi/midi_sources/freemidi/genre-pop/Jon Secada - Just Another Day.mid cannot get a seconds duration when no TempoIndication classes are found in or before this Stream.\n",
      "Midi Exeption: data/midi/midi_sources/freemidi/genre-pop/One Direction - Gotta Be You.mid cannot get a seconds duration when no TempoIndication classes are found in or before this Stream.\n",
      "Midi Exeption: data/midi/midi_sources/freemidi/genre-pop/OMD - Telegraph.mid cannot get a seconds duration when no TempoIndication classes are found in or before this Stream.\n",
      "Midi Exeption: data/midi/midi_sources/freemidi/genre-pop/A Teens ABBA Teens - Super Trouper.mid list index out of range\n",
      "Midi Exeption: data/midi/midi_sources/freemidi/genre-pop/UB40 - One.mid index out of range\n",
      "Midi Exeption: data/midi/midi_sources/freemidi/genre-pop/Michael Buble - Try A Little Tenderness.mid cannot get a seconds duration when no TempoIndication classes are found in or before this Stream.\n",
      "Midi Exeption: data/midi/midi_sources/freemidi/genre-pop/Backstreet Boys - I Need You Tonight.mid badly formated midi bytes, got: b''\n",
      "Midi Exeption: data/midi/midi_sources/freemidi/genre-pop/Cars - Tonight.mid badly formated midi bytes, got: b''\n",
      "Midi Exeption: data/midi/midi_sources/freemidi/genre-pop/Floyd Cramer - Last date.mid badly formated midi bytes, got: b'error with file'\n",
      "Midi Exeption: data/midi/midi_sources/freemidi/genre-pop/Sting - End Of The Game.mid cannot get a seconds duration when no TempoIndication classes are found in or before this Stream.\n",
      "Midi Exeption: data/midi/midi_sources/freemidi/genre-pop/Gloria Estefan - Anything For You.mid badly formated midi bytes, got: b'RIFF\\x00)\\x00\\x00RMIDdataE(\\x00\\x00'\n",
      "Midi Exeption: data/midi/midi_sources/freemidi/genre-pop/Gloria Estefan - Breaking Up Is Hard To Do.mid badly formated midi bytes, got: b'RIFF\\x10N\\x00\\x00RMIDdataDM\\x00\\x00'\n",
      "Midi Exeption: data/midi/midi_sources/freemidi/genre-pop/Aaron Carter - Saturday Night.mid badly formated midi bytes, got: b'error with file'\n",
      "Midi Exeption: data/midi/midi_sources/freemidi/genre-pop/Natalie Cole - I Live For Your Love.mid badly formated midi bytes, got: b'<html>\\n<head>\\n<title'\n",
      "Midi Exeption: data/midi/midi_sources/freemidi/genre-pop/ABC - The Look Of Love.mid badly formed midi string: missing leading MTrk\n",
      "Midi Exeption: data/midi/midi_sources/freemidi/genre-pop/Cole Porter - Night And Day.mid cannot get a seconds duration when no TempoIndication classes are found in or before this Stream.\n",
      "Midi Exeption: data/midi/midi_sources/freemidi/genre-pop/Whitney Houston - It's Not Right, But It's Ok.mid badly formed midi string: missing leading MTrk\n",
      "Midi Exeption: data/midi/midi_sources/freemidi/genre-pop/OMD - Locomotion.mid cannot get a seconds duration when no TempoIndication classes are found in or before this Stream.\n",
      "Midi Exeption: data/midi/midi_sources/freemidi/genre-pop/Amanda Lear - Blue Tango.mid badly formated midi bytes, got: b'\\x1f\\x8b\\x08\\x00\\x00\\x00\\x00\\x00\\x00\\x03,]u@\\x93_\\x17~7\\xb6'\n",
      "Midi Exeption: data/midi/midi_sources/freemidi/genre-pop/Five Satins - In The Still Of The Night.mid list index out of range\n",
      "Midi Exeption: data/midi/midi_sources/freemidi/genre-pop/ABBA - Just Like That.mid badly formed midi string: missing leading MTrk\n",
      "Midi Exeption: data/midi/midi_sources/freemidi/genre-pop/Bobby Darin - If I Were A Carpenter.mid list index out of range\n",
      "Midi Exeption: data/midi/midi_sources/freemidi/genre-pop/Karen Carpenter - Error no title.mid badly formated midi bytes, got: b'\\r\\n\\r\\n\\r\\n\\r\\n\\r\\n\\r\\n<!DOCTYP'\n",
      "Midi Exeption: data/midi/midi_sources/freemidi/genre-pop/Donna Summer - Hot Stuff.mid index out of range\n",
      "Midi Exeption: data/midi/midi_sources/freemidi/genre-pop/BJ Thomas - I Just Cant Help Believing.mid badly formated midi bytes, got: b'error with file'\n",
      "Midi Exeption: data/midi/midi_sources/freemidi/genre-pop/Cyndi Lauper - Iko Iko.mid badly formated midi bytes, got: b'0&\\xb2u\\x8ef\\xcf\\x11\\xa6\\xd9\\x00\\xaa\\x00b\\xcel?\\x13\\x00\\x00'\n",
      "Midi Exeption: data/midi/midi_sources/freemidi/genre-pop/Tears For Fears - Pale Shelter.mid cannot get a seconds duration when no TempoIndication classes are found in or before this Stream.\n",
      "Midi Exeption: data/midi/midi_sources/freemidi/genre-pop/Oasis - Columbia.mid list index out of range\n",
      "Midi Exeption: data/midi/midi_sources/freemidi/genre-pop/ABBA - Me And I.mid cannot get a seconds duration when no TempoIndication classes are found in or before this Stream.\n",
      "Midi Exeption: data/midi/midi_sources/freemidi/genre-pop/Boney M - Plantation boy.mid cannot get a seconds duration when no TempoIndication classes are found in or before this Stream.\n",
      "Midi Exeption: data/midi/midi_sources/freemidi/genre-pop/Hanson - Weird.mid cannot get a seconds duration when no TempoIndication classes are found in or before this Stream.\n",
      "Midi Exeption: data/midi/midi_sources/freemidi/genre-pop/Aqua - Turn Back Time.mid index out of range\n",
      "Midi Exeption: data/midi/midi_sources/freemidi/genre-pop/Westlife - Fool Again.mid badly formed midi string: missing leading MTrk\n",
      "Midi Exeption: data/midi/midi_sources/freemidi/genre-pop/Modern Talking - Megamix 2000.mid badly formated midi bytes, got: b'RIFFp\\x91\\x02\\x00RMIDdata\\xd1\\x90\\x02\\x00'\n",
      "Midi Exeption: data/midi/midi_sources/freemidi/genre-pop/Katy Perry - Part of Me.mid list index out of range\n",
      "Midi Exeption: data/midi/midi_sources/freemidi/genre-pop/Donna Summer - Bad Girls.mid badly formed midi string: missing leading MTrk\n",
      "Midi Exeption: data/midi/midi_sources/freemidi/genre-pop/Katy Perry - Dressin Up.mid list index out of range\n",
      "Midi Exeption: data/midi/midi_sources/freemidi/genre-pop/Britney Spears - I Wanna Go.mid index out of range\n",
      "Midi Exeption: data/midi/midi_sources/freemidi/genre-pop/Gloria Estefan - Abriendo Puertas.mid badly formated midi bytes, got: b'error with file'\n",
      "Midi Exeption: data/midi/midi_sources/freemidi/genre-pop/Sting - Beneath A Desert Moon.mid cannot get a seconds duration when no TempoIndication classes are found in or before this Stream.\n",
      "Midi Exeption: data/midi/midi_sources/freemidi/genre-pop/Four Seasons - I've Got You Under My Skin.mid badly formed midi string: missing leading MTrk\n",
      "Midi Exeption: data/midi/midi_sources/freemidi/genre-pop/Wings - Band On The Run.mid badly formed midi string: missing leading MTrk\n",
      "Midi Exeption: data/midi/midi_sources/freemidi/genre-pop/Rod Stewart - Someone Like You.mid list index out of range\n",
      "Midi Exeption: data/midi/midi_sources/freemidi/genre-pop/Gloria Estefan - Go Away.mid badly formated midi bytes, got: b'RIFF\\x84\\xcd\\x00\\x00RMIDdata\\xdb\\xcc\\x00\\x00'\n",
      "Midi Exeption: data/midi/midi_sources/freemidi/genre-pop/Kylie Minogue - Your Disco Needs You.mid badly formated midi bytes, got: b'RIFF$\\xd9\\x00\\x00RMIDdata\\x83\\xd8\\x00\\x00'\n",
      "Midi Exeption: data/midi/midi_sources/freemidi/genre-pop/One Direction - Best Song Ever.mid list index out of range\n",
      "Midi Exeption: data/midi/midi_sources/freemidi/genre-pop/Meghan Trainor - Me too.mid list index out of range\n",
      "Midi Exeption: data/midi/midi_sources/freemidi/genre-pop/Elton John - Cold.mid badly formated midi bytes, got: b'error with file'\n",
      "Midi Exeption: data/midi/midi_sources/freemidi/genre-pop/Usher - You Got It Bad.mid badly formated midi bytes, got: b'RIFF\\x80\\x85\\x00\\x00RMIDdata\\xe0\\x84\\x00\\x00'\n",
      "Midi Exeption: data/midi/midi_sources/freemidi/genre-pop/Ace of Base - Error no title.mid list index out of range\n",
      "Midi Exeption: data/midi/midi_sources/freemidi/genre-pop/Gloria Estefan - Ayer.mid badly formated midi bytes, got: b'RIFF\\x98\\xf5\\x00\\x00RMIDdata\\xf5\\xf4\\x00\\x00'\n",
      "Midi Exeption: data/midi/midi_sources/freemidi/genre-pop/S Club 7 - We Can Work It Out.mid list index out of range\n"
     ]
    },
    {
     "name": "stdout",
     "output_type": "stream",
     "text": [
      "Midi Exeption: data/midi/midi_sources/freemidi/genre-pop/Kinks - Arthur.mid list index out of range\n",
      "Midi Exeption: data/midi/midi_sources/freemidi/genre-pop/Wilson Phillips - Release.mid badly formed midi string: missing leading MTrk\n",
      "Midi Exeption: data/midi/midi_sources/freemidi/genre-pop/Evanescence - Haunted.mid badly formated midi bytes, got: b'RIFF\\x0e[\\x00\\x00RMIDdata\\x01[\\x00\\x00'\n",
      "Midi Exeption: data/midi/midi_sources/freemidi/genre-pop/Box Car Racer - Cat Like Thief.mid badly formated midi bytes, got: b'RIFF\\xd2\\x9b\\x00\\x00RMIDdata\\x9b\\x9b\\x00\\x00'\n",
      "Midi Exeption: data/midi/midi_sources/freemidi/genre-pop/Vapors - Turning Japanese.mid badly formated midi bytes, got: b'\\x00\\x00\\x0ecmoov\\x00\\x00\\x00lmvhd\\x00\\x00\\x00\\x00'\n",
      "Midi Exeption: data/midi/midi_sources/freemidi/genre-pop/Katy Perry - Hummingbird Heartbeat.mid list index out of range\n",
      "Midi Exeption: data/midi/midi_sources/freemidi/genre-pop/Fleetwood Mac - Angel.mid index out of range\n",
      "Midi Exeption: data/midi/midi_sources/freemidi/genre-pop/Gorillaz - Latin Simone.mid list index out of range\n",
      "Midi Exeption: data/midi/midi_sources/freemidi/genre-pop/98 Degrees - The Hardest Thing.mid list index out of range\n",
      "Midi Exeption: data/midi/midi_sources/freemidi/genre-pop/Cyndi Lauper - Sisters Of Avalon.mid badly formated midi bytes, got: b'0&\\xb2u\\x8ef\\xcf\\x11\\xa6\\xd9\\x00\\xaa\\x00b\\xcel?\\x13\\x00\\x00'\n",
      "Midi Exeption: data/midi/midi_sources/freemidi/genre-pop/Gloria Estefan - Cant Stay Away From You.mid badly formated midi bytes, got: b'RIFF^5\\x00\\x00RMIDdata\\x934\\x00\\x00'\n",
      "Midi Exeption: data/midi/midi_sources/freemidi/genre-pop/Jay-Z - A Million And One Questions.mid badly formed midi string: missing leading MTrk\n",
      "Midi Exeption: data/midi/midi_sources/freemidi/genre-pop/Genesis - Back In N.Y.C..mid cannot get a seconds duration when no TempoIndication classes are found in or before this Stream.\n",
      "Midi Exeption: data/midi/midi_sources/freemidi/genre-pop/Oasis - Angel Child.mid list index out of range\n",
      "Midi Exeption: data/midi/midi_sources/freemidi/genre-pop/Kenny Rogers - She Believes In Me.mid badly formated midi bytes, got: b'RIFFx\\xa6\\x00\\x00RMIDdata\\xbe\\xa5\\x00\\x00'\n",
      "Midi Exeption: data/midi/midi_sources/freemidi/genre-pop/Katy Perry - Wide Awake.mid list index out of range\n",
      "Midi Exeption: data/midi/midi_sources/freemidi/genre-pop/Will Smith - Just The Two Of Us.mid list index out of range\n",
      "Midi Exeption: data/midi/midi_sources/freemidi/genre-pop/Simple Minds - Glitterball.mid cannot get a seconds duration when no TempoIndication classes are found in or before this Stream.\n",
      "Midi Exeption: data/midi/midi_sources/freemidi/genre-pop/Erasure - Always.mid badly formated midi bytes, got: b'error with file'\n",
      "Midi Exeption: data/midi/midi_sources/freemidi/genre-pop/Tatu - Robot.mid badly formated midi bytes, got: b'RIFF\\x82N\\x00\\x00RMIDdata\\x1cN\\x00\\x00'\n",
      "Midi Exeption: data/midi/midi_sources/freemidi/genre-pop/PSY - gangnam style KILLYURSLEF.mid ord() expected string of length 1, but int found\n",
      "Midi Exeption: data/midi/midi_sources/freemidi/genre-pop/883 - Medley.mid badly formated midi bytes, got: b'error with file'\n",
      "Midi Exeption: data/midi/midi_sources/freemidi/genre-pop/Guy Sebastian - Angels Brought Me Here.mid badly formated midi bytes, got: b'<!DOCTYPE HTML PUBLI'\n",
      "Midi Exeption: data/midi/midi_sources/freemidi/genre-pop/Oasis - Girl In The Dirty Shirt.mid list index out of range\n"
     ]
    }
   ],
   "source": [
    "p_parse_func = partial(parse_freemidi_songs, genres='pop', source='freemidi')\n",
    "dir_path = fm_path/'genre-pop'\n",
    "file_list = get_files(dir_path, extensions=['.mid'], recurse=True)\n",
    "fm_pop_list = parse_midi_dir(file_list, fm_pop_path, meta_func=p_parse_func)"
   ]
  },
  {
   "cell_type": "code",
   "execution_count": 22,
   "metadata": {},
   "outputs": [
    {
     "data": {
      "text/html": [
       "<div>\n",
       "<style scoped>\n",
       "    .dataframe tbody tr th:only-of-type {\n",
       "        vertical-align: middle;\n",
       "    }\n",
       "\n",
       "    .dataframe tbody tr th {\n",
       "        vertical-align: top;\n",
       "    }\n",
       "\n",
       "    .dataframe thead th {\n",
       "        text-align: right;\n",
       "    }\n",
       "</style>\n",
       "<table border=\"1\" class=\"dataframe\">\n",
       "  <thead>\n",
       "    <tr style=\"text-align: right;\">\n",
       "      <th></th>\n",
       "      <th>seconds</th>\n",
       "      <th>inferred_offset</th>\n",
       "      <th>midi</th>\n",
       "      <th>artist</th>\n",
       "      <th>instruments</th>\n",
       "      <th>inferred_key</th>\n",
       "      <th>genres</th>\n",
       "      <th>bpm</th>\n",
       "      <th>time_signature</th>\n",
       "      <th>source</th>\n",
       "      <th>title</th>\n",
       "    </tr>\n",
       "  </thead>\n",
       "  <tbody>\n",
       "    <tr>\n",
       "      <th>0</th>\n",
       "      <td>28.732394</td>\n",
       "      <td>-5.0</td>\n",
       "      <td>data/midi/midi_sources/freemidi/genre-dance-el...</td>\n",
       "      <td>Tune Up</td>\n",
       "      <td>NaN</td>\n",
       "      <td>F major</td>\n",
       "      <td>dance</td>\n",
       "      <td>142.0</td>\n",
       "      <td>NaN</td>\n",
       "      <td>freemidi</td>\n",
       "      <td>Bounce</td>\n",
       "    </tr>\n",
       "    <tr>\n",
       "      <th>1</th>\n",
       "      <td>85.263158</td>\n",
       "      <td>2.0</td>\n",
       "      <td>data/midi/midi_sources/freemidi/genre-dance-el...</td>\n",
       "      <td>Radiohead</td>\n",
       "      <td>Piano,Piano</td>\n",
       "      <td>G minor</td>\n",
       "      <td>dance</td>\n",
       "      <td>76.0</td>\n",
       "      <td>4/4</td>\n",
       "      <td>freemidi</td>\n",
       "      <td>Fitter Happier</td>\n",
       "    </tr>\n",
       "    <tr>\n",
       "      <th>2</th>\n",
       "      <td>40.000000</td>\n",
       "      <td>-4.0</td>\n",
       "      <td>data/midi/midi_sources/freemidi/genre-dance-el...</td>\n",
       "      <td>Daft Punk</td>\n",
       "      <td>StringInstrument,StringInstrument,StringInstru...</td>\n",
       "      <td>C# minor</td>\n",
       "      <td>dance</td>\n",
       "      <td>102.0</td>\n",
       "      <td>4/4</td>\n",
       "      <td>freemidi</td>\n",
       "      <td>The Grid</td>\n",
       "    </tr>\n",
       "    <tr>\n",
       "      <th>3</th>\n",
       "      <td>NaN</td>\n",
       "      <td>NaN</td>\n",
       "      <td>data/midi/midi_sources/freemidi/genre-dance-el...</td>\n",
       "      <td>Bjork</td>\n",
       "      <td>NaN</td>\n",
       "      <td>NaN</td>\n",
       "      <td>dance</td>\n",
       "      <td>NaN</td>\n",
       "      <td>NaN</td>\n",
       "      <td>freemidi</td>\n",
       "      <td>Glora</td>\n",
       "    </tr>\n",
       "    <tr>\n",
       "      <th>4</th>\n",
       "      <td>38.400000</td>\n",
       "      <td>3.0</td>\n",
       "      <td>data/midi/midi_sources/freemidi/genre-dance-el...</td>\n",
       "      <td>Enigma</td>\n",
       "      <td>Clarinet,Clarinet,Guitar,Guitar,Guitar,Guitar,...</td>\n",
       "      <td>A major</td>\n",
       "      <td>dance</td>\n",
       "      <td>300.0</td>\n",
       "      <td>4/4</td>\n",
       "      <td>freemidi</td>\n",
       "      <td>Wanted</td>\n",
       "    </tr>\n",
       "  </tbody>\n",
       "</table>\n",
       "</div>"
      ],
      "text/plain": [
       "     seconds  inferred_offset  \\\n",
       "0  28.732394             -5.0   \n",
       "1  85.263158              2.0   \n",
       "2  40.000000             -4.0   \n",
       "3        NaN              NaN   \n",
       "4  38.400000              3.0   \n",
       "\n",
       "                                                midi     artist  \\\n",
       "0  data/midi/midi_sources/freemidi/genre-dance-el...    Tune Up   \n",
       "1  data/midi/midi_sources/freemidi/genre-dance-el...  Radiohead   \n",
       "2  data/midi/midi_sources/freemidi/genre-dance-el...  Daft Punk   \n",
       "3  data/midi/midi_sources/freemidi/genre-dance-el...      Bjork   \n",
       "4  data/midi/midi_sources/freemidi/genre-dance-el...     Enigma   \n",
       "\n",
       "                                         instruments inferred_key genres  \\\n",
       "0                                                NaN      F major  dance   \n",
       "1                                        Piano,Piano      G minor  dance   \n",
       "2  StringInstrument,StringInstrument,StringInstru...     C# minor  dance   \n",
       "3                                                NaN          NaN  dance   \n",
       "4  Clarinet,Clarinet,Guitar,Guitar,Guitar,Guitar,...      A major  dance   \n",
       "\n",
       "     bpm time_signature    source           title  \n",
       "0  142.0            NaN  freemidi          Bounce  \n",
       "1   76.0            4/4  freemidi  Fitter Happier  \n",
       "2  102.0            4/4  freemidi        The Grid  \n",
       "3    NaN            NaN  freemidi           Glora  \n",
       "4  300.0            4/4  freemidi          Wanted  "
      ]
     },
     "execution_count": 22,
     "metadata": {},
     "output_type": "execute_result"
    }
   ],
   "source": [
    "fmd = load_json(fm_dance_path)\n",
    "fmp = load_json(fm_pop_path)\n",
    "fm_all = list(fmd.values())+list(fmp.values())\n",
    "arr2csv(fm_all, fm_csv)\n",
    "df = pd.read_csv(fm_csv); df.head()"
   ]
  },
  {
   "cell_type": "markdown",
   "metadata": {},
   "source": [
    "### Gather Cprato"
   ]
  },
  {
   "cell_type": "code",
   "execution_count": 10,
   "metadata": {},
   "outputs": [
    {
     "data": {
      "text/plain": [
       "[PosixPath('data/midi/midi_sources/cprato/Basto - Again And Again (midi By Carlo Prato) (www.cprato.com).mid'),\n",
       " PosixPath('data/midi/midi_sources/cprato/The Weeknd ft. Lana Del Rey - Stargirl Interlude  (midi by Carlo Prato) (www.cprato.com).mid'),\n",
       " PosixPath('data/midi/midi_sources/cprato/Two Steps From Hell - Magic of Love  (midi by Carlo Prato) (www.cprato.com).mid'),\n",
       " PosixPath('data/midi/midi_sources/cprato/Bermuda Loverz - My Girl (Ladidada) (Rimini Rockaz Radio Edit) (Midi By Carlo Prato) (www.cprato.com).mid'),\n",
       " PosixPath('data/midi/midi_sources/cprato/Cascada - Everytime We Touch (Midi By Carlo Prato) (www.cprato.com).mid')]"
      ]
     },
     "execution_count": 10,
     "metadata": {},
     "output_type": "execute_result"
    }
   ],
   "source": [
    "cp_path, cp_json, cp_csv = create_paths('cprato')\n",
    "list(cp_path.glob('*'))[:5]"
   ]
  },
  {
   "cell_type": "code",
   "execution_count": 24,
   "metadata": {},
   "outputs": [],
   "source": [
    "def parse_cprato_songs(fp, genres=None, source=None):\n",
    "    name = fp.with_suffix('').name.split(' - ')\n",
    "    artist = name[0]\n",
    "    title = name[-1].replace('(midi by Carlo Prato) (www.cprato.com)', '')\n",
    "    metadata = {\n",
    "        'artist': artist.strip(),\n",
    "        'title': title.strip(),\n",
    "        'midi': str(fp),\n",
    "        'genres': genres,\n",
    "        'source': source\n",
    "    }\n",
    "    return {\n",
    "        'file_path': fp,\n",
    "        'metadata': metadata\n",
    "    }"
   ]
  },
  {
   "cell_type": "code",
   "execution_count": 25,
   "metadata": {},
   "outputs": [
    {
     "data": {
      "text/html": [
       "\n",
       "    <div>\n",
       "        <style>\n",
       "            /* Turns off some styling */\n",
       "            progress {\n",
       "                /* gets rid of default border in Firefox and Opera. */\n",
       "                border: none;\n",
       "                /* Needs to be in here for Safari polyfill so background images work as expected. */\n",
       "                background-size: auto;\n",
       "            }\n",
       "            .progress-bar-interrupted, .progress-bar-interrupted::-webkit-progress-bar {\n",
       "                background: #F44336;\n",
       "            }\n",
       "        </style>\n",
       "      <progress value='314' class='' max='314', style='width:300px; height:20px; vertical-align: middle;'></progress>\n",
       "      100.00% [314/314 00:04<00:00]\n",
       "    </div>\n",
       "    "
      ],
      "text/plain": [
       "<IPython.core.display.HTML object>"
      ]
     },
     "metadata": {},
     "output_type": "display_data"
    }
   ],
   "source": [
    "cp_meta = partial(parse_cprato_songs, genres='EDM,inferred', source='cprato')\n",
    "file_list = get_files(cp_path, extensions=['.mid'], recurse=True)\n",
    "cp_md = parse_midi_dir(file_list, cp_json, cp_meta)"
   ]
  },
  {
   "cell_type": "code",
   "execution_count": 26,
   "metadata": {},
   "outputs": [
    {
     "data": {
      "text/html": [
       "<div>\n",
       "<style scoped>\n",
       "    .dataframe tbody tr th:only-of-type {\n",
       "        vertical-align: middle;\n",
       "    }\n",
       "\n",
       "    .dataframe tbody tr th {\n",
       "        vertical-align: top;\n",
       "    }\n",
       "\n",
       "    .dataframe thead th {\n",
       "        text-align: right;\n",
       "    }\n",
       "</style>\n",
       "<table border=\"1\" class=\"dataframe\">\n",
       "  <thead>\n",
       "    <tr style=\"text-align: right;\">\n",
       "      <th></th>\n",
       "      <th>seconds</th>\n",
       "      <th>inferred_offset</th>\n",
       "      <th>midi</th>\n",
       "      <th>artist</th>\n",
       "      <th>instruments</th>\n",
       "      <th>inferred_key</th>\n",
       "      <th>genres</th>\n",
       "      <th>bpm</th>\n",
       "      <th>time_signature</th>\n",
       "      <th>source</th>\n",
       "      <th>title</th>\n",
       "    </tr>\n",
       "  </thead>\n",
       "  <tbody>\n",
       "    <tr>\n",
       "      <th>0</th>\n",
       "      <td>28.531469</td>\n",
       "      <td>4</td>\n",
       "      <td>data/midi/midi_sources/cprato/Alex Gaudino - C...</td>\n",
       "      <td>Alex Gaudino</td>\n",
       "      <td>NaN</td>\n",
       "      <td>A- major</td>\n",
       "      <td>EDM,inferred</td>\n",
       "      <td>143.0</td>\n",
       "      <td>NaN</td>\n",
       "      <td>cprato</td>\n",
       "      <td>Calabria (Drunken Monkey Remix) (Midi By Carlo...</td>\n",
       "    </tr>\n",
       "    <tr>\n",
       "      <th>1</th>\n",
       "      <td>45.801527</td>\n",
       "      <td>-1</td>\n",
       "      <td>data/midi/midi_sources/cprato/Oh Wonder - All ...</td>\n",
       "      <td>Oh Wonder</td>\n",
       "      <td>Flute,Flute,Flute,Piano,Piano,Piano,Fretless B...</td>\n",
       "      <td>C# major</td>\n",
       "      <td>EDM,inferred</td>\n",
       "      <td>131.0</td>\n",
       "      <td>4/4</td>\n",
       "      <td>cprato</td>\n",
       "      <td>All We Do</td>\n",
       "    </tr>\n",
       "    <tr>\n",
       "      <th>2</th>\n",
       "      <td>30.447761</td>\n",
       "      <td>0</td>\n",
       "      <td>data/midi/midi_sources/cprato/Martin Garrix &amp; ...</td>\n",
       "      <td>Martin Garrix &amp; Bebe Rexha</td>\n",
       "      <td>NaN</td>\n",
       "      <td>A minor</td>\n",
       "      <td>EDM,inferred</td>\n",
       "      <td>134.0</td>\n",
       "      <td>4/4</td>\n",
       "      <td>cprato</td>\n",
       "      <td>In The Name Of Love</td>\n",
       "    </tr>\n",
       "    <tr>\n",
       "      <th>3</th>\n",
       "      <td>27.200000</td>\n",
       "      <td>1</td>\n",
       "      <td>data/midi/midi_sources/cprato/Andy SVGE - Evol...</td>\n",
       "      <td>Andy SVGE</td>\n",
       "      <td>Piano,Piano,Piano,Piano,Piano,Piano</td>\n",
       "      <td>B major</td>\n",
       "      <td>EDM,inferred</td>\n",
       "      <td>150.0</td>\n",
       "      <td>4/4</td>\n",
       "      <td>cprato</td>\n",
       "      <td>Evolving</td>\n",
       "    </tr>\n",
       "    <tr>\n",
       "      <th>4</th>\n",
       "      <td>29.142857</td>\n",
       "      <td>-4</td>\n",
       "      <td>data/midi/midi_sources/cprato/DuMonde - See Th...</td>\n",
       "      <td>DuMonde</td>\n",
       "      <td>Piano,Piano,Piano,Piano,Piano,Piano</td>\n",
       "      <td>C# minor</td>\n",
       "      <td>EDM,inferred</td>\n",
       "      <td>140.0</td>\n",
       "      <td>4/4</td>\n",
       "      <td>cprato</td>\n",
       "      <td>See The Light</td>\n",
       "    </tr>\n",
       "  </tbody>\n",
       "</table>\n",
       "</div>"
      ],
      "text/plain": [
       "     seconds  inferred_offset  \\\n",
       "0  28.531469                4   \n",
       "1  45.801527               -1   \n",
       "2  30.447761                0   \n",
       "3  27.200000                1   \n",
       "4  29.142857               -4   \n",
       "\n",
       "                                                midi  \\\n",
       "0  data/midi/midi_sources/cprato/Alex Gaudino - C...   \n",
       "1  data/midi/midi_sources/cprato/Oh Wonder - All ...   \n",
       "2  data/midi/midi_sources/cprato/Martin Garrix & ...   \n",
       "3  data/midi/midi_sources/cprato/Andy SVGE - Evol...   \n",
       "4  data/midi/midi_sources/cprato/DuMonde - See Th...   \n",
       "\n",
       "                       artist  \\\n",
       "0                Alex Gaudino   \n",
       "1                   Oh Wonder   \n",
       "2  Martin Garrix & Bebe Rexha   \n",
       "3                   Andy SVGE   \n",
       "4                     DuMonde   \n",
       "\n",
       "                                         instruments inferred_key  \\\n",
       "0                                                NaN     A- major   \n",
       "1  Flute,Flute,Flute,Piano,Piano,Piano,Fretless B...     C# major   \n",
       "2                                                NaN      A minor   \n",
       "3                Piano,Piano,Piano,Piano,Piano,Piano      B major   \n",
       "4                Piano,Piano,Piano,Piano,Piano,Piano     C# minor   \n",
       "\n",
       "         genres    bpm time_signature  source  \\\n",
       "0  EDM,inferred  143.0            NaN  cprato   \n",
       "1  EDM,inferred  131.0            4/4  cprato   \n",
       "2  EDM,inferred  134.0            4/4  cprato   \n",
       "3  EDM,inferred  150.0            4/4  cprato   \n",
       "4  EDM,inferred  140.0            4/4  cprato   \n",
       "\n",
       "                                               title  \n",
       "0  Calabria (Drunken Monkey Remix) (Midi By Carlo...  \n",
       "1                                          All We Do  \n",
       "2                                In The Name Of Love  \n",
       "3                                           Evolving  \n",
       "4                                      See The Light  "
      ]
     },
     "execution_count": 26,
     "metadata": {},
     "output_type": "execute_result"
    }
   ],
   "source": [
    "cp = load_json(cp_json)\n",
    "arr2csv(cp.values(), cp_csv)\n",
    "df = pd.read_csv(cp_csv); df.head()"
   ]
  },
  {
   "cell_type": "markdown",
   "metadata": {},
   "source": [
    "### Gather MidiWorld"
   ]
  },
  {
   "cell_type": "code",
   "execution_count": 11,
   "metadata": {},
   "outputs": [],
   "source": [
    "mw_path, mw_json, mw_csv = create_paths('midiworld')"
   ]
  },
  {
   "cell_type": "code",
   "execution_count": 12,
   "metadata": {},
   "outputs": [],
   "source": [
    "def parse_midiworld_songs(fp):\n",
    "    name = fp.with_suffix('').name.replace('_', ' ').split(' - ')\n",
    "    artist = name[0]\n",
    "    title = name[-1]\n",
    "    metadata = {\n",
    "        'artist': artist.strip(),\n",
    "        'title': title.strip(),\n",
    "        'midi': str(fp),\n",
    "        'genres': 'pop,inferred',\n",
    "        'source': 'midiworld'\n",
    "    }\n",
    "    return {\n",
    "        'file_path': fp,\n",
    "        'metadata': metadata\n",
    "    }"
   ]
  },
  {
   "cell_type": "code",
   "execution_count": 44,
   "metadata": {},
   "outputs": [
    {
     "data": {
      "text/html": [
       "\n",
       "    <div>\n",
       "        <style>\n",
       "            /* Turns off some styling */\n",
       "            progress {\n",
       "                /* gets rid of default border in Firefox and Opera. */\n",
       "                border: none;\n",
       "                /* Needs to be in here for Safari polyfill so background images work as expected. */\n",
       "                background-size: auto;\n",
       "            }\n",
       "            .progress-bar-interrupted, .progress-bar-interrupted::-webkit-progress-bar {\n",
       "                background: #F44336;\n",
       "            }\n",
       "        </style>\n",
       "      <progress value='0' class='' max='0', style='width:300px; height:20px; vertical-align: middle;'></progress>\n",
       "      100% [0/0]\n",
       "    </div>\n",
       "    "
      ],
      "text/plain": [
       "<IPython.core.display.HTML object>"
      ]
     },
     "metadata": {},
     "output_type": "display_data"
    },
    {
     "name": "stderr",
     "output_type": "stream",
     "text": [
      "/home/ubuntu/anaconda3/envs/midi/lib/python3.7/site-packages/fastprogress/fastprogress.py:95: UserWarning: Your generator is empty.\n",
      "  warn(\"Your generator is empty.\")\n"
     ]
    }
   ],
   "source": [
    "# Warning: if you get a deadlock: \n",
    "# PosixPath('data/midi/midi_sources/midiworld/named_midi/NITRO_BRO_-_IT_WONT_DIE.mid') is broken\n",
    "file_list = get_files(mw_path/'named_midi', extensions=['.mid'], recurse=True)\n",
    "mw_md = parse_midi_dir(file_list, mw_json, parse_midiworld_songs)"
   ]
  },
  {
   "cell_type": "code",
   "execution_count": 45,
   "metadata": {},
   "outputs": [
    {
     "data": {
      "text/html": [
       "<div>\n",
       "<style scoped>\n",
       "    .dataframe tbody tr th:only-of-type {\n",
       "        vertical-align: middle;\n",
       "    }\n",
       "\n",
       "    .dataframe tbody tr th {\n",
       "        vertical-align: top;\n",
       "    }\n",
       "\n",
       "    .dataframe thead th {\n",
       "        text-align: right;\n",
       "    }\n",
       "</style>\n",
       "<table border=\"1\" class=\"dataframe\">\n",
       "  <thead>\n",
       "    <tr style=\"text-align: right;\">\n",
       "      <th></th>\n",
       "      <th>bpm</th>\n",
       "      <th>title</th>\n",
       "      <th>midi</th>\n",
       "      <th>inferred_offset</th>\n",
       "      <th>genres</th>\n",
       "      <th>artist</th>\n",
       "      <th>seconds</th>\n",
       "      <th>time_signature</th>\n",
       "      <th>inferred_key</th>\n",
       "      <th>source</th>\n",
       "      <th>instruments</th>\n",
       "    </tr>\n",
       "  </thead>\n",
       "  <tbody>\n",
       "    <tr>\n",
       "      <th>0</th>\n",
       "      <td>176.0</td>\n",
       "      <td>Drumloop</td>\n",
       "      <td>data/midi/midi_sources/midiworld/named_midi/Ko...</td>\n",
       "      <td>-2.0</td>\n",
       "      <td>pop,inferred</td>\n",
       "      <td>Kona</td>\n",
       "      <td>1.193182</td>\n",
       "      <td>4/4</td>\n",
       "      <td>B minor</td>\n",
       "      <td>midiworld</td>\n",
       "      <td>Piano</td>\n",
       "    </tr>\n",
       "    <tr>\n",
       "      <th>1</th>\n",
       "      <td>127.0</td>\n",
       "      <td>Millenium</td>\n",
       "      <td>data/midi/midi_sources/midiworld/named_midi/TV...</td>\n",
       "      <td>3.0</td>\n",
       "      <td>pop,inferred</td>\n",
       "      <td>TV Themes</td>\n",
       "      <td>41.929134</td>\n",
       "      <td>4/4</td>\n",
       "      <td>A major</td>\n",
       "      <td>midiworld</td>\n",
       "      <td>Timpani,Taiko,Violin,Contrabass,Voice</td>\n",
       "    </tr>\n",
       "    <tr>\n",
       "      <th>2</th>\n",
       "      <td>160.0</td>\n",
       "      <td>Looney Tunes</td>\n",
       "      <td>data/midi/midi_sources/midiworld/named_midi/TV...</td>\n",
       "      <td>0.0</td>\n",
       "      <td>pop,inferred</td>\n",
       "      <td>TV Themes</td>\n",
       "      <td>19.250000</td>\n",
       "      <td>4/4</td>\n",
       "      <td>C major</td>\n",
       "      <td>midiworld</td>\n",
       "      <td>Marimba,Acoustic Bass,Trombone,StringInstrumen...</td>\n",
       "    </tr>\n",
       "    <tr>\n",
       "      <th>3</th>\n",
       "      <td>108.0</td>\n",
       "      <td>Diddy Kong</td>\n",
       "      <td>data/midi/midi_sources/midiworld/named_midi/Vi...</td>\n",
       "      <td>-2.0</td>\n",
       "      <td>pop,inferred</td>\n",
       "      <td>Video Game Themes</td>\n",
       "      <td>73.333333</td>\n",
       "      <td>4/4</td>\n",
       "      <td>B minor</td>\n",
       "      <td>midiworld</td>\n",
       "      <td>Fretless Bass,Harmonica</td>\n",
       "    </tr>\n",
       "    <tr>\n",
       "      <th>4</th>\n",
       "      <td>105.0</td>\n",
       "      <td>NaN</td>\n",
       "      <td>data/midi/midi_sources/midiworld/named_midi/Ji...</td>\n",
       "      <td>-5.0</td>\n",
       "      <td>pop,inferred</td>\n",
       "      <td>Jigsaw</td>\n",
       "      <td>104.806742</td>\n",
       "      <td>4/4</td>\n",
       "      <td>D minor</td>\n",
       "      <td>midiworld</td>\n",
       "      <td>StringInstrument,Horn,Trombone,StringInstrumen...</td>\n",
       "    </tr>\n",
       "  </tbody>\n",
       "</table>\n",
       "</div>"
      ],
      "text/plain": [
       "     bpm         title                                               midi  \\\n",
       "0  176.0      Drumloop  data/midi/midi_sources/midiworld/named_midi/Ko...   \n",
       "1  127.0     Millenium  data/midi/midi_sources/midiworld/named_midi/TV...   \n",
       "2  160.0  Looney Tunes  data/midi/midi_sources/midiworld/named_midi/TV...   \n",
       "3  108.0    Diddy Kong  data/midi/midi_sources/midiworld/named_midi/Vi...   \n",
       "4  105.0           NaN  data/midi/midi_sources/midiworld/named_midi/Ji...   \n",
       "\n",
       "   inferred_offset        genres             artist     seconds  \\\n",
       "0             -2.0  pop,inferred               Kona    1.193182   \n",
       "1              3.0  pop,inferred          TV Themes   41.929134   \n",
       "2              0.0  pop,inferred          TV Themes   19.250000   \n",
       "3             -2.0  pop,inferred  Video Game Themes   73.333333   \n",
       "4             -5.0  pop,inferred             Jigsaw  104.806742   \n",
       "\n",
       "  time_signature inferred_key     source  \\\n",
       "0            4/4      B minor  midiworld   \n",
       "1            4/4      A major  midiworld   \n",
       "2            4/4      C major  midiworld   \n",
       "3            4/4      B minor  midiworld   \n",
       "4            4/4      D minor  midiworld   \n",
       "\n",
       "                                         instruments  \n",
       "0                                              Piano  \n",
       "1              Timpani,Taiko,Violin,Contrabass,Voice  \n",
       "2  Marimba,Acoustic Bass,Trombone,StringInstrumen...  \n",
       "3                            Fretless Bass,Harmonica  \n",
       "4  StringInstrument,Horn,Trombone,StringInstrumen...  "
      ]
     },
     "execution_count": 45,
     "metadata": {},
     "output_type": "execute_result"
    }
   ],
   "source": [
    "mw = load_json(mw_json)\n",
    "arr2csv(mw.values(), mw_csv)\n",
    "df = pd.read_csv(mw_csv); df.head()"
   ]
  },
  {
   "cell_type": "markdown",
   "metadata": {},
   "source": [
    "### Yamaha - piano"
   ]
  },
  {
   "cell_type": "code",
   "execution_count": 46,
   "metadata": {},
   "outputs": [
    {
     "data": {
      "text/plain": [
       "[PosixPath('data/midi/midi_sources/ecomp/song_list.json'),\n",
       " PosixPath('data/midi/midi_sources/ecomp/2017'),\n",
       " PosixPath('data/midi/midi_sources/ecomp/2008'),\n",
       " PosixPath('data/midi/midi_sources/ecomp/2006'),\n",
       " PosixPath('data/midi/midi_sources/ecomp/2004')]"
      ]
     },
     "execution_count": 46,
     "metadata": {},
     "output_type": "execute_result"
    }
   ],
   "source": [
    "ec_path, ec_json, ec_csv = create_paths('ecomp')\n",
    "ec_song = ec_path/'song_list.json'\n",
    "list(ec_path.glob('*'))[:5]"
   ]
  },
  {
   "cell_type": "code",
   "execution_count": 47,
   "metadata": {},
   "outputs": [],
   "source": [
    "ec_songs = load_json(ec_path/'song_list.json')"
   ]
  },
  {
   "cell_type": "code",
   "execution_count": 48,
   "metadata": {},
   "outputs": [],
   "source": [
    "def parse_ecomp_songs(fp):\n",
    "    song_info = ec_songs[fp.name]\n",
    "    metadata = {\n",
    "        'artist': song_info['artist'],\n",
    "        'title': song_info['title'],\n",
    "        'midi': str(fp),\n",
    "        'genres': 'classical',\n",
    "        'source': 'ecomp'\n",
    "    }\n",
    "    return {\n",
    "        'file_path': fp,\n",
    "        'metadata': metadata\n",
    "    }"
   ]
  },
  {
   "cell_type": "code",
   "execution_count": null,
   "metadata": {},
   "outputs": [
    {
     "data": {
      "text/html": [
       "\n",
       "    <div>\n",
       "        <style>\n",
       "            /* Turns off some styling */\n",
       "            progress {\n",
       "                /* gets rid of default border in Firefox and Opera. */\n",
       "                border: none;\n",
       "                /* Needs to be in here for Safari polyfill so background images work as expected. */\n",
       "                background-size: auto;\n",
       "            }\n",
       "            .progress-bar-interrupted, .progress-bar-interrupted::-webkit-progress-bar {\n",
       "                background: #F44336;\n",
       "            }\n",
       "        </style>\n",
       "      <progress value='487' class='' max='500', style='width:300px; height:20px; vertical-align: middle;'></progress>\n",
       "      97.40% [487/500 03:52<00:06]\n",
       "    </div>\n",
       "    "
      ],
      "text/plain": [
       "<IPython.core.display.HTML object>"
      ]
     },
     "metadata": {},
     "output_type": "display_data"
    },
    {
     "name": "stdout",
     "output_type": "stream",
     "text": [
      "Midi Exeption: data/midi/midi_sources/ecomp/2008/Cui04.MID badly formated midi bytes, got: b'<!DOCTYPE HTML PUBLI'\n",
      "Midi Exeption: data/midi/midi_sources/ecomp/2008/Cui02.MID badly formated midi bytes, got: b'<!DOCTYPE HTML PUBLI'\n",
      "Midi Exeption: data/midi/midi_sources/ecomp/2008/Cui06.MID badly formated midi bytes, got: b'<!DOCTYPE HTML PUBLI'\n",
      "Midi Exeption: data/midi/midi_sources/ecomp/2008/Tan03.MID badly formated midi bytes, got: b'<!DOCTYPE HTML PUBLI'\n",
      "Midi Exeption: data/midi/midi_sources/ecomp/2008/Tan01.MID badly formated midi bytes, got: b'<!DOCTYPE HTML PUBLI'\n",
      "Midi Exeption: data/midi/midi_sources/ecomp/2008/Cui05.MID badly formated midi bytes, got: b'<!DOCTYPE HTML PUBLI'\n",
      "Midi Exeption: data/midi/midi_sources/ecomp/2008/Cui01.MID badly formated midi bytes, got: b'<!DOCTYPE HTML PUBLI'\n",
      "Midi Exeption: data/midi/midi_sources/ecomp/2008/Cui03.MID badly formated midi bytes, got: b'<!DOCTYPE HTML PUBLI'\n",
      "Midi Exeption: data/midi/midi_sources/ecomp/2008/Cui08.MID badly formated midi bytes, got: b'<!DOCTYPE HTML PUBLI'\n",
      "Midi Exeption: data/midi/midi_sources/ecomp/2008/Tan02.MID badly formated midi bytes, got: b'<!DOCTYPE HTML PUBLI'\n",
      "Midi Exeption: data/midi/midi_sources/ecomp/2008/Cui07.MID badly formated midi bytes, got: b'<!DOCTYPE HTML PUBLI'\n"
     ]
    }
   ],
   "source": [
    "file_list = get_files(ec_path, extensions=['.mid'], recurse=True)[:1000]\n",
    "ec_md = parse_midi_dir(file_list, ec_json, parse_ecomp_songs)"
   ]
  },
  {
   "cell_type": "code",
   "execution_count": null,
   "metadata": {},
   "outputs": [],
   "source": [
    "ec = load_json(ec_json)\n",
    "arr2csv(ec.values(), ec_csv)\n",
    "df = pd.read_csv(ec_csv); df.head()"
   ]
  },
  {
   "cell_type": "markdown",
   "metadata": {},
   "source": [
    "### Classic Piano"
   ]
  },
  {
   "cell_type": "code",
   "execution_count": null,
   "metadata": {},
   "outputs": [],
   "source": [
    "clc_path, clc_json, clc_csv = create_paths('classic_piano')\n",
    "list(clc_path.glob('*'))[:5]"
   ]
  },
  {
   "cell_type": "code",
   "execution_count": null,
   "metadata": {},
   "outputs": [],
   "source": [
    "def parse_classic_songs(fp):\n",
    "    name = fp.with_suffix('').name.split('_')\n",
    "    artist = name[0]\n",
    "    title = ' '.join(name[1:])\n",
    "    metadata = {\n",
    "        'artist': artist,\n",
    "        'title': title,\n",
    "        'midi': str(fp),\n",
    "        'genres': 'classical',\n",
    "        'source': 'classical_piano'\n",
    "    }\n",
    "    return {\n",
    "        'file_path': fp,\n",
    "        'metadata': metadata\n",
    "    }"
   ]
  },
  {
   "cell_type": "code",
   "execution_count": null,
   "metadata": {},
   "outputs": [],
   "source": [
    "file_list = get_files(clc_path, extensions=['.mid'], recurse=True)\n",
    "clc_md = parse_midi_dir(file_list, clc_json, parse_classic_songs)"
   ]
  },
  {
   "cell_type": "code",
   "execution_count": null,
   "metadata": {},
   "outputs": [],
   "source": [
    "clc = load_json(clc_json)\n",
    "arr2csv(clc.values(), clc_csv)\n",
    "df = pd.read_csv(clc_csv); df.head()"
   ]
  },
  {
   "cell_type": "markdown",
   "metadata": {},
   "source": [
    "### Creating CSV"
   ]
  },
  {
   "cell_type": "code",
   "execution_count": null,
   "metadata": {},
   "outputs": [],
   "source": [
    "all_csvs = [ht_csv, fm_csv, cp_csv, mw_csv, ec_csv, clc_csv]\n",
    "all_dfs = [pd.read_csv(csv) for csv in all_csvs]"
   ]
  },
  {
   "cell_type": "code",
   "execution_count": null,
   "metadata": {},
   "outputs": [],
   "source": [
    "merged_df = pd.concat(all_dfs); merged_df.head()"
   ]
  },
  {
   "cell_type": "code",
   "execution_count": null,
   "metadata": {},
   "outputs": [],
   "source": [
    "[df.shape for df in all_dfs], merged_df.shape"
   ]
  },
  {
   "cell_type": "code",
   "execution_count": null,
   "metadata": {},
   "outputs": [],
   "source": [
    "merged_df.to_csv(metapath/'combined.csv')"
   ]
  }
 ],
 "metadata": {
  "kernelspec": {
   "display_name": "Python 3",
   "language": "python",
   "name": "python3"
  },
  "language_info": {
   "codemirror_mode": {
    "name": "ipython",
    "version": 3
   },
   "file_extension": ".py",
   "mimetype": "text/x-python",
   "name": "python",
   "nbconvert_exporter": "python",
   "pygments_lexer": "ipython3",
   "version": "3.7.1"
  }
 },
 "nbformat": 4,
 "nbformat_minor": 2
}

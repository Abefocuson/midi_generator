{
 "cells": [
  {
   "cell_type": "markdown",
   "metadata": {},
   "source": [
    "# Music"
   ]
  },
  {
   "cell_type": "code",
   "execution_count": 49,
   "metadata": {},
   "outputs": [],
   "source": [
    "%reload_ext autoreload\n",
    "%autoreload 2\n",
    "%matplotlib inline"
   ]
  },
  {
   "cell_type": "code",
   "execution_count": 50,
   "metadata": {},
   "outputs": [],
   "source": [
    "from fastai.text import *"
   ]
  },
  {
   "cell_type": "code",
   "execution_count": 3,
   "metadata": {},
   "outputs": [],
   "source": [
    "import music21\n",
    "from music21 import *\n",
    "from IPython.display import Image, Audio"
   ]
  },
  {
   "cell_type": "code",
   "execution_count": 26,
   "metadata": {},
   "outputs": [],
   "source": [
    "from encode_data import *"
   ]
  },
  {
   "cell_type": "code",
   "execution_count": 4,
   "metadata": {},
   "outputs": [
    {
     "data": {
      "text/plain": [
       "[PosixPath('data/midi/midi_transcribe_v1_simple/ecomp'),\n",
       " PosixPath('data/midi/midi_transcribe_v1_simple/classic_piano'),\n",
       " PosixPath('data/midi/midi_transcribe_v1_simple/cprato'),\n",
       " PosixPath('data/midi/midi_transcribe_v1_simple/tmp_pop'),\n",
       " PosixPath('data/midi/midi_transcribe_v1_simple/tmp')]"
      ]
     },
     "execution_count": 4,
     "metadata": {},
     "output_type": "execute_result"
    }
   ],
   "source": [
    "path = Path('data/midi/midi_transcribe_v1_simple/')\n",
    "path.ls()[:5]"
   ]
  },
  {
   "cell_type": "code",
   "execution_count": 5,
   "metadata": {},
   "outputs": [],
   "source": [
    "model_path = 'tmp_clc_overnight_ep20'"
   ]
  },
  {
   "cell_type": "markdown",
   "metadata": {},
   "source": [
    "https://hpml2018.github.io/HPML2018_1.pdf\n",
    "\n",
    "This paper suggests linear scaling rule does not work with RNNs. 3e-3 seems to be the magical number for 2k-8k\n",
    "\n",
    "However, they didn't use schedule warmup, so I doubt they optimized the learning rate enough"
   ]
  },
  {
   "cell_type": "code",
   "execution_count": 6,
   "metadata": {},
   "outputs": [],
   "source": [
    "bs=256\n",
    "bptt=250"
   ]
  },
  {
   "cell_type": "code",
   "execution_count": 7,
   "metadata": {},
   "outputs": [
    {
     "data": {
      "text/plain": [
       "('xxbos nG2 t1 nB-5 t1 || nG2 t2 nG5 t1 nB-5 t2 || n',\n",
       " array([ 2, 47,  9, 32, ..., 10, 47,  8, 10]))"
      ]
     },
     "execution_count": 7,
     "metadata": {},
     "output_type": "execute_result"
    }
   ],
   "source": [
    "from fastai_data import *\n",
    "\n",
    "data = TextLMDataBunch.load(path, cache_name='tmp_clc', bs=bs, bptt=bptt)\n",
    "data.valid_ds.x.processor[0] = TokenizeProcessor(tokenizer=MusicTokenizer())\n",
    "t = data.train_ds[0][0]\n",
    "t.text[:50], t.data"
   ]
  },
  {
   "cell_type": "markdown",
   "metadata": {},
   "source": [
    "### Load Learner"
   ]
  },
  {
   "cell_type": "code",
   "execution_count": 8,
   "metadata": {},
   "outputs": [],
   "source": [
    "learn = language_model_learner(data, drop_mult=1, clip=.2, bptt=bptt)\n",
    "learn = learn.load(model_path)"
   ]
  },
  {
   "cell_type": "markdown",
   "metadata": {},
   "source": [
    "## Done"
   ]
  },
  {
   "cell_type": "code",
   "execution_count": 36,
   "metadata": {},
   "outputs": [],
   "source": [
    "out = learn.pred_batch()"
   ]
  },
  {
   "cell_type": "code",
   "execution_count": 37,
   "metadata": {
    "scrolled": true
   },
   "outputs": [
    {
     "data": {
      "text/html": [
       "<table>  <col width='34%'>  <col width='33%'>  <col width='33%'>  <tr>\n",
       "    <th>text</th>\n",
       "    <th>target</th>\n",
       "    <th>pred</th>\n",
       "  </tr>\n",
       "  <tr>\n",
       "    <th>nF#5 t2 nG#5 t2 nB-5 t2 nC#6 t2 nF#6 t1 nB6 t2 nC#7 t2 || nB2 t2 nE3 t2 nF#3 t2 nB3 t2 nE4 t2</th>\n",
       "    <th>t2 nA4 t2 nB4 t2 nC#5 t2 nE-5 t2 nE5 t2 nF#5 t2 nG#5 t2 nB-5 t2 nC#6 t2 nF#6 t1 nB6 t2 nC#7 t2</th>\n",
       "    <th>t2 nA4 t2 nB4 t2 nC#5 t2 nE-5 t2 nE5 t2 nF#5 t2 nG#5 t2 nB-5 t2 nC#6 t2 nF#6 t2 nB6 t2 nC#7 t2</th>\n",
       "  </tr>\n",
       "  <tr>\n",
       "    <th>nF#7 t2 || nG#2 t2 nE3 t2 nA3 t2 nE4 t2 nF#4 t1 nB4 t1 nC5 t2 nG#5 t2 nB5 t2 nC#6 t2 nG6 t2</th>\n",
       "    <th>t2 nB6 t2 nC#7 t2 nF#7 t2 nB7 t1 || nG#2 t2 nE3 t2 nA3 t2 nE4 t2 nC5 t2 nG#5 t2 nB5 t2 nC#6</th>\n",
       "    <th>t2 nC#7 t2 nC#7 t2 nF#7 t2 || t1 || nG#2 t2 nE3 t2 nA3 t2 nE4 t2 nF#4 t2 nG#5 t2 nB5 t2 nC#6</th>\n",
       "  </tr>\n",
       "  <tr>\n",
       "    <th>nF2 t1 nC#4 t2 nG#4 t2 nB-4 t2 || nF2 t2 nC#4 t2 nG#4 t2 nB-4 t2 || nF2 t2 nC3 t1 nC#4 t2 nG#4</th>\n",
       "    <th>nB-4 t2 || nC#4 t2 nG#4 t2 nB-4 t2 || nG#3 t1 nC#4 t2 nG#4 t2 nB-4 t2 || nC3 t1 nC4 t1 nC#4 t2</th>\n",
       "    <th>nB-4 t2 || nF2 t2 nG#4 t2 nB-4 t2 || nC#4 t1 nC#4 t2 nG#4 t2 nB-4 t2 || nG#3 t1 nC#4 t1 nC#4 t2</th>\n",
       "  </tr>\n",
       "  <tr>\n",
       "    <th>t2 nB1 t2 nF#2 t2 nG#2 t2 nF#3 t2 nB3 t2 nC4 t2 nC#4 t1 nE-4 t2 nF#4 t2 nG#4 t2 nA4 t2 nB-4 t2</th>\n",
       "    <th>t2 nD5 t2 nE5 t1 nF#5 t2 nG#5 t2 nA5 t2 nE6 t1 nG6 t2 nC7 t2 nC#7 t2 || nB-1 t2 nB1 t2 nF2</th>\n",
       "    <th>t2 nD5 t2 nF#5 t1 nF#5 t2 nG#5 t2 nA5 t2 nG6 t1 nG6 t2 nC7 t2 nC#7 t2 || nB-1 t2 nB1 t2 nF#2</th>\n",
       "  </tr>\n",
       "  <tr>\n",
       "    <th>nC6 t2 nC#6 t2 nE-6 t2 nF#6 t2 nG#6 t2 nA6 t2 nB6 t2 nC7 t2 || nB-1 t2 nB1 t2 nF#2 t2 nG#2 t2</th>\n",
       "    <th>t2 nF#3 t2 nB3 t2 nC4 t2 nC#4 t2 nF#4 t2 nA4 t2 nB-4 t2 nC5 t2 nC#5 t2 nF5 t2 nF#5 t2 nG#5 t2</th>\n",
       "    <th>t2 nF#3 t2 nB3 t2 nC4 t2 nC#4 t2 nF#4 t2 nA4 t2 nB-4 t2 nC5 t2 nC#5 t2 nF5 t2 nF#5 t2 nG#5 t2</th>\n",
       "  </tr>\n",
       "</table>\n"
      ],
      "text/plain": [
       "<IPython.core.display.HTML object>"
      ]
     },
     "metadata": {},
     "output_type": "display_data"
    }
   ],
   "source": [
    "learn.show_results(rows=5, max_len=25)"
   ]
  },
  {
   "cell_type": "code",
   "execution_count": 38,
   "metadata": {},
   "outputs": [
    {
     "data": {
      "text/plain": [
       "PosixPath('data/midi/midi_transcribe_v1_simple/ecomp/2017/TuanS04.txt')"
      ]
     },
     "execution_count": 38,
     "metadata": {},
     "output_type": "execute_result"
    }
   ],
   "source": [
    "idx = 20\n",
    "seed_len = 200\n",
    "files = get_files(path/'ecomp', recurse=True)\n",
    "file = files[idx]; file"
   ]
  },
  {
   "cell_type": "code",
   "execution_count": 39,
   "metadata": {},
   "outputs": [
    {
     "data": {
      "text/plain": [
       "'nC#6 t1 || nF#2 t1 || nF#2 t2 nC#6 t1 || nC#6 t2 || nC#6 t2 || nC#4 t1 nF#5 t1 nC#6 t2 || nC#6 t2 || nF#4 t1 nB-5 t1 || nF#4 t2 nB-4 t1 nC#5 t1 || nF#4 t1 nB-4 t2 nF#5 t1 || nC#4 t1 nF#4 t2 nB-4 t2 nF#5 t2 nB-5 t1 || nF#3 t1 nC#4 t2 nF#4 t2 nB-4 t2 nF#5 t2 nC#6 t1 || nF#3 t2 nF#4 t2 nB-4 t2 nF#5 t1 nC#6 t2 || nF#3 t2 nF#4 t1 nB-4 t2 nC#5 t1 nF#5 t2 nB-5 t1 || nF#3 t2 nC#4 t1 nF#4 t2 nB-4 t2 nC#5 t2 nB-5 t2 || nF#3 t1 nF#4 t2 nB-4 t2 nC#6 t1 || nF#3 t2 nC#4 t1 nF#4 t2 nB-4 t2 nF#5 t1 nC#6 t2 || nF#3 t2 nC#4 t2 nF#4 t1 nB-4 t2 nC#5 t1 nB-5 t1 nC#6 t2 || nF#3 t2 nC#4 t2 nF#4 t2 nB-4 t1 nF#5 t1 || nF#3 t2 nC#4 t1 nF#4 t2 nB-4 t2 nB-5 t1 || nF#3 t1 nC#4 t2 nF#4 t2 nB-4 t2 nC#6 t1 || nF#3 t2 nF#4 t2 nB-4 t2 nF#5 t1 nB-5 t1 nC#6 t2 || nF#3 t2 nF#4 t1 nB-4 t2 nC#5 t1 || nF#3'"
      ]
     },
     "execution_count": 39,
     "metadata": {},
     "output_type": "execute_result"
    }
   ],
   "source": [
    "with open(file, 'r') as f:\n",
    "    txt_out = f.read()\n",
    "notes = txt_out.split(' ')\n",
    "seed = ' '.join(notes[:seed_len]); seed\n"
   ]
  },
  {
   "cell_type": "code",
   "execution_count": 40,
   "metadata": {},
   "outputs": [
    {
     "data": {
      "text/plain": [
       "'nC#6 t1 || nF#2 t1 || nF#2 t2 nC#6 t1 || nC#6 t2 || nC#6 t2 || nC#4 t1 nF#5 t1 nC#6 t2 || nC#6 t2 || nF#4 t1 nB-5 t1 || nF#4 t2 nB-4 t1 nC#5 t1 || nF#4 t1 nB-4 t2 nF#5 t1 || nC#4 t1 nF#4 t2 nB-4 t2 nF#5 t2 nB-5 t1 || nF#3 t1 nC#4 t2 nF#4 t2 nB-4 t2 nF#5 t2 nC#6 t1 || nF#3 t2 nF#4 t2 nB-4 t2 nF#5 t1 nC#6 t2 || nF#3 t2 nF#4 t1 nB-4 t2 nC#5 t1 nF#5 t2 nB-5 t1 || nF#3 t2 nC#4 t1 nF#4 t2 nB-4 t2 nC#5 t2 nB-5 t2 || nF#3 t1 nF#4 t2 nB-4 t2 nC#6 t1 || nF#3 t2 nC#4 t1 nF#4 t2 nB-4 t2 nF#5 t1 nC#6 t2 || nF#3 t2 nC#4 t2 nF#4 t1 nB-4 t2 nC#5 t1 nB-5 t1 nC#6 t2 || nF#3 t2 nC#4 t2 nF#4 t2 nB-4 t1 nF#5 t1 || nF#3 t2 nC#4 t1 nF#4 t2 nB-4 t2 nB-5 t1 || nF#3 t1 nC#4 t2 nF#4 t2 nB-4 t2 nC#6 t1 || nF#3 t2 nF#4 t2 nB-4 t2 nF#5 t1 nB-5 t1 nC#6 t2 || nF#3 t2 nF#4 t1 nB-4 t2 nC#5 t1 || nF#3 t2 nC#4 t1 nF#4 t2 nB-4 t2 nF#5 t1 nF#6 t1 || nF#3 t1 nC#4 t2 nF#4 t2 nB-4 t2 || nF#3 t2 nC#4 t1 nF#4 t2 nB-4 t2 nC#7 t1 || nF#3 t2 nC#4 t2 nF#4 t1 nB-4 t2 nF#5 t1 nB-5 t1 || nF#3 t2 nF#4 t2 nB-4 t2 nF#5 t2 nG#5 t1 || nC2 t1 nF#4 t2 nB-4 t2 nG#5 t2 || nF#4 t2 nB-4 t1 nG#5 t2 || xxbos nB1 t1 nA2 t1 nB2 t1 nE3 t1 nE4 t1 || nB1 t2 nA2 t2 nB2 t2 nE3 t2 nE4 t2 || nB1 t2 nA2 t2 nG#4 t1 || nB1 t2 nA2 t2 nF#4 t1 nA4 t1 || nB1 t2 nA2 t2 nB3 t1 nG#4 t1 nB4 t1 || nB1 t2 nA2 t2 nB3 t2 nB4 t2 || nB1 t2 nA2 t2 nE4 t1 nB4 t1 || nB1 t2 nA2 t2 nB3 t1 nG#4 t1 nB4 t2 || nB1 t2 nA2 t2 nB3 t2 || nB1 t2 nA2 t2 nB3 t2 nE4 t1 || nB1 t2 nA2 t2 nB3 t1 nG#4 t1 || nB1 t2 nA2 t2 nF#4 t1 nG#4 t2 || nB1 t2 nA2 t1 nG#4 t2 nB4 t1 || nB1 t2 nA2 t2 nB3 t1'"
      ]
     },
     "execution_count": 40,
     "metadata": {},
     "output_type": "execute_result"
    }
   ],
   "source": [
    "pred_out = learn.predict(seed, n_words=200); pred_out"
   ]
  },
  {
   "cell_type": "code",
   "execution_count": null,
   "metadata": {},
   "outputs": [],
   "source": [
    "data.vocab.itos"
   ]
  },
  {
   "cell_type": "markdown",
   "metadata": {},
   "source": [
    "### Beam search"
   ]
  },
  {
   "cell_type": "code",
   "execution_count": 145,
   "metadata": {},
   "outputs": [],
   "source": [
    "cuda_enabled=True\n",
    "def get_x_input(partial):\n",
    "    _, _, _, seq = partial\n",
    "    max_len = bptt-50\n",
    "    input = seq[-max_len:]\n",
    "    input_var = torch.LongTensor([input])\n",
    "    if cuda_enabled:\n",
    "        input_var = input_var.cuda()\n",
    "    return input_var\n",
    "#     return input_var.unsqueeze(dim=0)\n",
    "\n",
    "# song = string\n",
    "# seq_length = generated song length\n",
    "# beam_size = what to choose from\n",
    "def beam_search(seed, seq_length, beam_size, learn):    \n",
    "    xb, yb = learn.data.one_item(seed)\n",
    "    seed_list = xb.squeeze().tolist()\n",
    "    learn.model.reset()\n",
    "    partial_sequences = [(0, 0, [], seed_list)]\n",
    "    \n",
    "    for i in progress_bar(range(seq_length), leave=False):\n",
    "        partial_sequences = find_partials(partial_sequences, beam_size, learn)\n",
    "    final_sequence = partial_sequences[0][3] # 0 = highest prob, 3 = seq\n",
    "    return learn.data.vocab.textify(final_sequence), final_sequence\n",
    "    \n",
    "def find_partials(partial_sequences, beam_size, learn, \n",
    "                  no_maj:bool=False, no_unk:bool=True, temperature:float=2, \n",
    "                  min_p:float=None, random=True):\n",
    "    partial_next = []\n",
    "    for partial in partial_sequences:\n",
    "        it, tot_p, p_list, seq = partial\n",
    "        x_input = get_x_input(partial)\n",
    "        y = torch.zeros_like(x_input)\n",
    "        \n",
    "        predict_probs = learn.pred_batch(batch=(x_input,y)).squeeze()[-1]\n",
    "        if no_unk: predict_probs[learn.data.vocab.stoi[UNK]] = 0.\n",
    "        if no_maj: predict_probs[learn.data.vocab.stoi[TK_MAJ]] = 0.\n",
    "        if min_p is not None: predict_probs[res < min_p] = 0.\n",
    "        if temperature != 1.: predict_probs.pow_(1 / temperature)\n",
    "            \n",
    "            \n",
    "        if random:\n",
    "            idxs = torch.multinomial(predict_probs, beam_size)\n",
    "            probs = predict_probs[idxs]\n",
    "        else:\n",
    "            # last_it_probs = torch.exp(predict_probs[-(it+1):]) # this is to predict the last few iterations\n",
    "            last_it_probs = torch.exp(predict_probs)\n",
    "            probs, idxs = torch.topk(last_it_probs, beam_size, 0)\n",
    "        \n",
    "#         reps = [(data.vocab.itos[i],p) for i,p in zip(idxs,probs) if i in [8, 9]]\n",
    "#         if reps: print(reps)\n",
    "            \n",
    "        def calc_prob(probs):\n",
    "#             return np.prod(-np.log(probs[-beam_size:]))\n",
    "            return -np.prod(np.abs(np.log(probs[-(beam_size*4):])))\n",
    "            \n",
    "        for prob,idx in zip(probs,idxs):\n",
    "            new_p_list = p_list+[prob.item()]\n",
    "#             print(calc_prob(new_p_list))\n",
    "            partial_next.append((it+1, calc_prob(new_p_list), new_p_list, seq+[idx.item()]))\n",
    "\n",
    "    partial_sequences = sorted(partial_next, key=lambda x: x[1], reverse=True)[:beam_size]\n",
    "    return partial_sequences"
   ]
  },
  {
   "cell_type": "code",
   "execution_count": 146,
   "metadata": {},
   "outputs": [],
   "source": [
    "pred_beam, idxs = beam_search(seed, seq_length=200, beam_size=4, learn=learn)"
   ]
  },
  {
   "cell_type": "code",
   "execution_count": 147,
   "metadata": {},
   "outputs": [
    {
     "data": {
      "text/plain": [
       "'nC#6 t1 || nF#2 t1 || nF#2 t2 nC#6 t1 || nC#6 t2 || nC#6 t2 || nC#4 t1 nF#5 t1 nC#6 t2 || nC#6 t2 || nF#4 t1 nB-5 t1 || nF#4 t2 nB-4 t1 nC#5 t1 || nF#4 t1 nB-4 t2 nF#5 t1 || nC#4 t1 nF#4 t2 nB-4 t2 nF#5 t2 nB-5 t1 || nF#3 t1 nC#4 t2 nF#4 t2 nB-4 t2 nF#5 t2 nC#6 t1 || nF#3 t2 nF#4 t2 nB-4 t2 nF#5 t1 nC#6 t2 || nF#3 t2 nF#4 t1 nB-4 t2 nC#5 t1 nF#5 t2 nB-5 t1 || nF#3 t2 nC#4 t1 nF#4 t2 nB-4 t2 nC#5 t2 nB-5 t2 || nF#3 t1 nF#4 t2 nB-4 t2 nC#6 t1 || nF#3 t2 nC#4 t1 nF#4 t2 nB-4 t2 nF#5 t1 nC#6 t2 || nF#3 t2 nC#4 t2 nF#4 t1 nB-4 t2 nC#5 t1 nB-5 t1 nC#6 t2 || nF#3 t2 nC#4 t2 nF#4 t2 nB-4 t1 nF#5 t1 || nF#3 t2 nC#4 t1 nF#4 t2 nB-4 t2 nB-5 t1 || nF#3 t1 nC#4 t2 nF#4 t2 nB-4 t2 nC#6 t1 || nF#3 t2 nF#4 t2 nB-4 t2 nF#5 t1 nB-5 t1 nC#6 t2 || nF#3 t2 nF#4 t1 nB-4 t2 nC#5 t1 || nF#3 t2 nE-4 t1 nF#4 t2 nB-4 t2 nF#5 t1 nB-5 t1 nE-6 t1 || nC#4 t1 nF#4 t2 nB-4 t2 nF#5 t2 nB-5 t2 nE-6 t2 || nE-4 t1 nF#4 t2 nB-4 t2 nB-5 t2 nE-6 t2 || nC#4 t1 nF#4 t2 nG#4 t1 nB-4 t2 nC#5 t1 nG#5 t1 nB-5 t2 nC#6 t1 nE-6 t2 || nG#3 t1 nF4 t1 nF#4 t2 nG#4 t2 nB-4 t2 nF5 t1 nB-5 t2 nC6 t1 nE-6 t2 nF6 t1 || nE-4 t1 nF#4 t2 nG#4 t2 nB-4 t2 nC5 t1 nE-5 t1 nG#5 t1 nB-5 t2 nG#6 t1 || nG#3 t1 nE-4 t2 nF#4 t2 nG#4 t2 nB-4 t2 nC5 t2 nE-5 t2 nG#5 t2 nB-5 t2 nG#6 t2 || nF3 t1 nA3 t1 nC4 t1 nE-4 t2 nF#4 t2 nG#4 t2 nB-4 t2 nC5 t2 nE-5 t2 nG#5 t2 nB-5 t2 nG#6 t2 || nC#3 t1 nC#4 t1 nE-4 t2 nF#4 t2 nG#4 t2 nB-4 t2 nC5 t2 nE-5 t2 nG#5 t2 nB-5 t2 nC#6 t1 nF#6 t1 nB-6 t1 || nF#3 t1 nG#3 t1 nE-4 t2 nF#4 t2 nG#4 t2 nB-4 t2 nC5 t2 nE-5 t2 nG#5 t2 nB-5 t2 nC#6 t2 nF#6 t2 nB-6 t2 || nF3 t1 nE-4'"
      ]
     },
     "execution_count": 147,
     "metadata": {},
     "output_type": "execute_result"
    }
   ],
   "source": [
    "pred_beam"
   ]
  },
  {
   "cell_type": "code",
   "execution_count": 148,
   "metadata": {},
   "outputs": [
    {
     "data": {
      "text/plain": [
       "'t2 nE-4 t1 nF#4 t2 nB-4 t2 nF#5 t1 nB-5 t1 nE-6 t1 || nC#4 t1 nF#4 t2 nB-4 t2 nF#5 t2 nB-5 t2 nE-6 t2 || nE-4 t1 nF#4 t2 nB-4 t2 nB-5 t2 nE-6 t2 || nC#4 t1 nF#4 t2 nG#4 t1 nB-4 t2 nC#5 t1 nG#5 t1 nB-5 t2 nC#6 t1 nE-6 t2 || nG#3 t1 nF4 t1 nF#4 t2 nG#4 t2 nB-4 t2 nF5 t1 nB-5 t2 nC6 t1 nE-6 t2 nF6 t1 || nE-4 t1 nF#4 t2 nG#4 t2 nB-4 t2 nC5 t1 nE-5 t1 nG#5 t1 nB-5 t2 nG#6 t1 || nG#3 t1 nE-4 t2 nF#4 t2 nG#4 t2 nB-4 t2 nC5 t2 nE-5 t2 nG#5 t2 nB-5 t2 nG#6 t2 || nF3 t1 nA3 t1 nC4 t1 nE-4 t2 nF#4 t2 nG#4 t2 nB-4 t2 nC5 t2 nE-5 t2 nG#5 t2 nB-5 t2 nG#6 t2 || nC#3 t1 nC#4 t1 nE-4 t2 nF#4 t2 nG#4 t2 nB-4 t2 nC5 t2 nE-5 t2 nG#5 t2 nB-5 t2 nC#6 t1 nF#6 t1 nB-6 t1 || nF#3 t1 nG#3 t1 nE-4 t2 nF#4 t2 nG#4 t2 nB-4 t2 nC5 t2 nE-5 t2 nG#5 t2 nB-5 t2 nC#6 t2 nF#6 t2 nB-6 t2 || nF3 t1 nE-4'"
      ]
     },
     "execution_count": 148,
     "metadata": {},
     "output_type": "execute_result"
    }
   ],
   "source": [
    "pred_beam_only = pred_beam.replace(seed, '').strip(); pred_beam_only"
   ]
  },
  {
   "cell_type": "code",
   "execution_count": 151,
   "metadata": {},
   "outputs": [
    {
     "name": "stdout",
     "output_type": "stream",
     "text": [
      "'t'\n"
     ]
    }
   ],
   "source": [
    "note_stream = str2stream(pred_beam_only)"
   ]
  },
  {
   "cell_type": "code",
   "execution_count": 152,
   "metadata": {},
   "outputs": [
    {
     "data": {
      "text/html": [
       "\n",
       "                <div id='midiPlayerDiv2022'></div>\n",
       "                <link rel=\"stylesheet\" href=\"//cuthbertLab.github.io/music21j/css/m21.css\"\n",
       "                    type=\"text/css\" />\n",
       "                <script>\n",
       "                require.config({\n",
       "                    paths: {'music21': '//cuthbertLab.github.io/music21j/src/music21'}\n",
       "                });\n",
       "                require(['music21'], function() {\n",
       "                               mp = new music21.miditools.MidiPlayer();\n",
       "                               mp.addPlayer('#midiPlayerDiv2022');\n",
       "                               mp.base64Load('data:audio/midi;base64,TVRoZAAAAAYAAQABBABNVHJrAAABQAD/AwVQaWFubwDAAADgAEAAwAAA/1EDB6EgAP9ZAgAAAP9YBAQCGAgAkD9aAJBOWgCQUloAkFdaggCAPwAAgE4AAIBSAACAVwAAkD1aggCAPQAAkD9aggCAPwAAkD1aAJBEWgCQSVoAkFBaAJBVWoIAgD0AAIBEAACASQAAgFAAAIBVAACQOFoAkEFaAJBNWgCQVFoAkFlaggCAOAAAgEEAAIBNAACAVAAAgFkAAJA/WgCQSFoAkEtaAJBQWgCQXFqCAJA4WoIAgDgAAJA1WgCQOVoAkDxaggCANQAAgDkAAIA8AACQMVoAkD1aAJBVWgCQWloAkF5aggCAMQAAgD0AAIBVAACAWgAAgF4AAJA2WgCQOFqCAIA/AACASAAAgEsAAIBQAACAXAAAgDYAAIA4AACQNVqCAIA1AIgA/y8A');\n",
       "                        });\n",
       "                </script>"
      ],
      "text/plain": [
       "<IPython.core.display.HTML object>"
      ]
     },
     "metadata": {},
     "output_type": "display_data"
    }
   ],
   "source": [
    "note_stream.show('midi')"
   ]
  },
  {
   "cell_type": "markdown",
   "metadata": {},
   "source": [
    "### Testing"
   ]
  },
  {
   "cell_type": "code",
   "execution_count": 41,
   "metadata": {},
   "outputs": [
    {
     "data": {
      "text/plain": [
       "'nC#6 t1 || nF#2 t1 || nF#2 t2 nC#6 t1 || nC#6 t2 || nC#6 t2 || nC#4 t1 nF#5 t1 nC#6 t2 || nC#6 t2 || nF#4 t1 nB-5 t1 || nF#4 t2 nB-4 t1 nC#5 t1 || nF#4 t1 nB-4 t2 nF#5 t1 || nC#4 t1 nF#4 t2 nB-4 t2 nF#5 t2 nB-5 t1 || nF#3 t1 nC#4 t2 nF#4 t2 nB-4 t2 nF#5 t2 nC#6 t1 || nF#3 t2 nF#4 t2 nB-4 t2 nF#5 t1 nC#6 t2 || nF#3 t2 nF#4 t1 nB-4 t2 nC#5 t1 nF#5 t2 nB-5 t1 || nF#3 t2 nC#4 t1 nF#4 t2 nB-4 t2 nC#5 t2 nB-5 t2 || nF#3 t1 nF#4 t2 nB-4 t2 nC#6 t1 || nF#3 t2 nC#4 t1 nF#4 t2 nB-4 t2 nF#5 t1 nC#6 t2 || nF#3 t2 nC#4 t2 nF#4 t1 nB-4 t2 nC#5 t1 nB-5 t1 nC#6 t2 || nF#3 t2 nC#4 t2 nF#4 t2 nB-4 t1 nF#5 t1 || nF#3 t2 nC#4 t1 nF#4 t2 nB-4 t2 nB-5 t1 || nF#3 t1 nC#4 t2 nF#4 t2 nB-4 t2 nC#6 t1 || nF#3 t2 nF#4 t2 nB-4 t2 nF#5 t1 nB-5 t1 nC#6 t2 || nF#3 t2 nF#4 t1 nB-4 t2 nC#5 t1 || nF#3'"
      ]
     },
     "execution_count": 41,
     "metadata": {},
     "output_type": "execute_result"
    }
   ],
   "source": [
    "seed"
   ]
  },
  {
   "cell_type": "code",
   "execution_count": 42,
   "metadata": {},
   "outputs": [
    {
     "data": {
      "text/plain": [
       "'t2 nC#4 t1 nF#4 t2 nB-4 t2 nF#5 t1 nF#6 t1 || nF#3 t1 nC#4 t2 nF#4 t2 nB-4 t2 || nF#3 t2 nC#4 t1 nF#4 t2 nB-4 t2 nC#7 t1 || nF#3 t2 nC#4 t2 nF#4 t1 nB-4 t2 nF#5 t1 nB-5 t1 || nF#3 t2 nF#4 t2 nB-4 t2 nF#5 t2 nG#5 t1 || nC2 t1 nF#4 t2 nB-4 t2 nG#5 t2 || nF#4 t2 nB-4 t1 nG#5 t2 || xxbos nB1 t1 nA2 t1 nB2 t1 nE3 t1 nE4 t1 || nB1 t2 nA2 t2 nB2 t2 nE3 t2 nE4 t2 || nB1 t2 nA2 t2 nG#4 t1 || nB1 t2 nA2 t2 nF#4 t1 nA4 t1 || nB1 t2 nA2 t2 nB3 t1 nG#4 t1 nB4 t1 || nB1 t2 nA2 t2 nB3 t2 nB4 t2 || nB1 t2 nA2 t2 nE4 t1 nB4 t1 || nB1 t2 nA2 t2 nB3 t1 nG#4 t1 nB4 t2 || nB1 t2 nA2 t2 nB3 t2 || nB1 t2 nA2 t2 nB3 t2 nE4 t1 || nB1 t2 nA2 t2 nB3 t1 nG#4 t1 || nB1 t2 nA2 t2 nF#4 t1 nG#4 t2 || nB1 t2 nA2 t1 nG#4 t2 nB4 t1 || nB1 t2 nA2 t2 nB3 t1'"
      ]
     },
     "execution_count": 42,
     "metadata": {},
     "output_type": "execute_result"
    }
   ],
   "source": [
    "pred_only = pred_out.replace(seed, '').strip(); pred_only"
   ]
  },
  {
   "cell_type": "markdown",
   "metadata": {},
   "source": [
    "### Generate from predictions"
   ]
  },
  {
   "cell_type": "code",
   "execution_count": 43,
   "metadata": {},
   "outputs": [
    {
     "data": {
      "text/plain": [
       "[[C#4t1, F#4t2, B-4t2, F#5t1, F#6t1],\n",
       " [F#3t1, C#4t2, F#4t2, B-4t2],\n",
       " [F#3t2, C#4t1, F#4t2, B-4t2, C#7t1],\n",
       " [F#3t2, C#4t2, F#4t1, B-4t2, F#5t1, B-5t1],\n",
       " [F#3t2, F#4t2, B-4t2, F#5t2, G#5t1],\n",
       " [C2t1, F#4t2, B-4t2, G#5t2],\n",
       " [F#4t2, B-4t1, G#5t2],\n",
       " [B1t1, A2t1, B2t1, E3t1, E4t1],\n",
       " [B1t2, A2t2, B2t2, E3t2, E4t2],\n",
       " [B1t2, A2t2, G#4t1],\n",
       " [B1t2, A2t2, F#4t1, A4t1],\n",
       " [B1t2, A2t2, B3t1, G#4t1, B4t1],\n",
       " [B1t2, A2t2, B3t2, B4t2],\n",
       " [B1t2, A2t2, E4t1, B4t1],\n",
       " [B1t2, A2t2, B3t1, G#4t1, B4t2],\n",
       " [B1t2, A2t2, B3t2],\n",
       " [B1t2, A2t2, B3t2, E4t1],\n",
       " [B1t2, A2t2, B3t1, G#4t1],\n",
       " [B1t2, A2t2, F#4t1, G#4t2],\n",
       " [B1t2, A2t1, G#4t2, B4t1],\n",
       " [B1t2, A2t2, B3t1]]"
      ]
     },
     "execution_count": 43,
     "metadata": {},
     "output_type": "execute_result"
    }
   ],
   "source": [
    "str2seq(pred_only)"
   ]
  },
  {
   "cell_type": "code",
   "execution_count": 44,
   "metadata": {},
   "outputs": [],
   "source": [
    "note_stream = str2stream(pred_out)"
   ]
  },
  {
   "cell_type": "code",
   "execution_count": 45,
   "metadata": {},
   "outputs": [
    {
     "name": "stdout",
     "output_type": "stream",
     "text": [
      "{0.0} <music21.stream.Part 0x7f989c3024e0>\n",
      "    {0.0} <music21.instrument.Piano Piano>\n",
      "    {0.0} <music21.tempo.MetronomeMark animato Quarter=120>\n",
      "    {0.0} <music21.key.KeySignature of no sharps or flats>\n",
      "    {0.0} <music21.meter.TimeSignature 4/4>\n",
      "    {0.0} <music21.chord.Chord C#6>\n",
      "    {0.25} <music21.chord.Chord F#2>\n",
      "    {0.5} <music21.chord.Chord C#6>\n",
      "    {1.25} <music21.chord.Chord C#4 F#5>\n",
      "    {1.75} <music21.chord.Chord F#4 B-5>\n",
      "    {2.0} <music21.chord.Chord B-4 C#5>\n",
      "    {2.25} <music21.chord.Chord F#4 F#5>\n",
      "    {2.5} <music21.chord.Chord C#4 B-5>\n",
      "    {2.75} <music21.chord.Chord F#3 C#6>\n",
      "    {3.0} <music21.chord.Chord F#5>\n",
      "    {3.25} <music21.chord.Chord F#4 C#5 B-5>\n",
      "    {3.5} <music21.chord.Chord C#4>\n",
      "    {3.75} <music21.chord.Chord F#3 C#6>\n",
      "    {4.0} <music21.chord.Chord C#4 F#5>\n",
      "    {4.25} <music21.chord.Chord F#4 C#5 B-5>\n",
      "    {4.5} <music21.chord.Chord B-4 F#5>\n",
      "    {4.75} <music21.chord.Chord C#4 B-5>\n",
      "    {5.0} <music21.chord.Chord F#3 C#6>\n",
      "    {5.25} <music21.chord.Chord F#5 B-5>\n",
      "    {5.5} <music21.chord.Chord F#4 C#5>\n",
      "    {5.75} <music21.chord.Chord C#4 F#5 F#6>\n",
      "    {6.0} <music21.chord.Chord F#3>\n",
      "    {6.25} <music21.chord.Chord C#4 C#7>\n",
      "    {6.5} <music21.chord.Chord F#4 F#5 B-5>\n",
      "    {6.75} <music21.chord.Chord G#5>\n",
      "    {7.0} <music21.chord.Chord C2>\n",
      "    {7.25} <music21.chord.Chord B-4>\n",
      "    {7.5} <music21.chord.Chord B1 A2 B2 E3 E4>\n",
      "    {8.0} <music21.chord.Chord G#4>\n",
      "    {8.25} <music21.chord.Chord F#4 A4>\n",
      "    {8.5} <music21.chord.Chord B3 G#4 B4>\n",
      "    {9.0} <music21.chord.Chord E4 B4>\n",
      "    {9.25} <music21.chord.Chord B3 G#4>\n",
      "    {9.75} <music21.chord.Chord E4>\n",
      "    {10.0} <music21.chord.Chord B3 G#4>\n",
      "    {10.25} <music21.chord.Chord F#4>\n",
      "    {10.5} <music21.chord.Chord A2 B4>\n",
      "    {10.75} <music21.chord.Chord B3>\n"
     ]
    }
   ],
   "source": [
    "note_stream.show('text')"
   ]
  },
  {
   "cell_type": "code",
   "execution_count": 46,
   "metadata": {},
   "outputs": [],
   "source": [
    "pred_format = pred_out.replace('xxbos ', '')"
   ]
  },
  {
   "cell_type": "code",
   "execution_count": 47,
   "metadata": {},
   "outputs": [
    {
     "data": {
      "image/png": "[encoded data removed]",
      "text/plain": [
       "<IPython.core.display.Image object>"
      ]
     },
     "execution_count": 47,
     "metadata": {},
     "output_type": "execute_result"
    }
   ],
   "source": [
    "Image(filename=str(note_stream.write('lily.png')))"
   ]
  },
  {
   "cell_type": "code",
   "execution_count": 48,
   "metadata": {},
   "outputs": [
    {
     "data": {
      "text/html": [
       "\n",
       "                <div id='midiPlayerDiv846'></div>\n",
       "                <link rel=\"stylesheet\" href=\"//cuthbertLab.github.io/music21j/css/m21.css\"\n",
       "                    type=\"text/css\" />\n",
       "                <script>\n",
       "                require.config({\n",
       "                    paths: {'music21': '//cuthbertLab.github.io/music21j/src/music21'}\n",
       "                });\n",
       "                require(['music21'], function() {\n",
       "                               mp = new music21.miditools.MidiPlayer();\n",
       "                               mp.addPlayer('#midiPlayerDiv846');\n",
       "                               mp.base64Load('data:audio/midi;base64,TVRoZAAAAAYAAQABBABNVHJrAAACjQD/AwVQaWFubwDAAADgAEAAwAAA/1EDB6EgAP9ZAgAAAP9YBAQCGAgAkFVaggCAVQAAkCpaggCQVVqCAIAqAIQAkD1aAJBOWoIAgD0AAIBOAIIAgFUAAJBCWgCQUlqCAJBGWgCQSVqCAIBCAACAUgAAkEJaAJBOWoIAkD1aAJBSWoIAkDZaAJBVWoIAgD0AAIBSAACQTlqCAIBCAACATgAAkEJaAJBJWgCQUlqCAIBOAACQPVqCAIA2AACAVQAAgD0AAJA2WgCQVVqCAJA9WgCQTlqCAIBCAACASQAAgFIAAJBCWgCQSVoAkFJaggCARgAAgEkAAJBGWgCQTlqCAIA9AACATgAAkD1aAJBSWoIAgDYAAIBVAACQNloAkFVaggCAPQAAgFIAAJBOWgCQUlqCAIBCAACASQAAgFIAAIBOAACAUgAAkEJaAJBJWoIAkD1aAJBOWgCQWlqCAIA2AACAVQAAkDZaggCAPQAAgE4AAIBaAACQPVoAkGFaggCAQgAAgEkAAJBCWgCQTloAkFJaggCAPQAAgGEAAJBQWoIAgDYAAJAkWoIAgEYAAIBOAACAJAAAkEZaggCAQgAAgE4AAIBSAACAUAAAgEYAAJAjWgCQLVoAkC9aAJA0WgCQQFqEAJBEWoIAgEQAAJBCWgCQRVqCAIBCAACARQAAkDtaAJBEWgCQR1qEAIA7AACARAAAgEcAAJBAWgCQR1qCAIBAAACARwAAkDtaAJBEWoQAkEBaggCAOwAAgEQAAIBAAACQO1oAkERaggCAOwAAgEQAAJBCWoIAgEIAAJAtWgCQR1qCAJA7WoIAgCMAAIAtAACALwAAgDQAAIBAAACALQAAgEcAAIA7AIgA/y8A');\n",
       "                        });\n",
       "                </script>"
      ],
      "text/plain": [
       "<IPython.core.display.HTML object>"
      ]
     },
     "metadata": {},
     "output_type": "display_data"
    }
   ],
   "source": [
    "note_stream.show('midi')"
   ]
  },
  {
   "cell_type": "code",
   "execution_count": null,
   "metadata": {},
   "outputs": [],
   "source": []
  }
 ],
 "metadata": {
  "kernelspec": {
   "display_name": "Python 3",
   "language": "python",
   "name": "python3"
  },
  "language_info": {
   "codemirror_mode": {
    "name": "ipython",
    "version": 3
   },
   "file_extension": ".py",
   "mimetype": "text/x-python",
   "name": "python",
   "nbconvert_exporter": "python",
   "pygments_lexer": "ipython3",
   "version": "3.7.1"
  }
 },
 "nbformat": 4,
 "nbformat_minor": 2
}

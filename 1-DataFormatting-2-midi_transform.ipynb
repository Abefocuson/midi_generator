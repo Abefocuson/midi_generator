{
 "cells": [
  {
   "cell_type": "code",
   "execution_count": 1,
   "metadata": {},
   "outputs": [],
   "source": [
    "%reload_ext autoreload\n",
    "%autoreload 2\n",
    "%matplotlib inline"
   ]
  },
  {
   "cell_type": "code",
   "execution_count": 2,
   "metadata": {},
   "outputs": [],
   "source": [
    "from encode_data import *\n",
    "from midi_data import *"
   ]
  },
  {
   "cell_type": "code",
   "execution_count": 3,
   "metadata": {},
   "outputs": [],
   "source": [
    "from tqdm import tqdm"
   ]
  },
  {
   "cell_type": "markdown",
   "metadata": {},
   "source": [
    "## Standardize and reformat raw midi files before encoding to text\n",
    "- Transform key to C major\n",
    "- Remove unused instruments\n",
    "- Combine multiple tracks with the same instrument into a single part\n",
    "- Melody, Piano, String"
   ]
  },
  {
   "cell_type": "markdown",
   "metadata": {},
   "source": [
    "### Load midi data"
   ]
  },
  {
   "cell_type": "code",
   "execution_count": 4,
   "metadata": {},
   "outputs": [],
   "source": [
    "path = Path('data/midi')"
   ]
  },
  {
   "cell_type": "code",
   "execution_count": 5,
   "metadata": {},
   "outputs": [],
   "source": [
    "import pandas as pd"
   ]
  },
  {
   "cell_type": "code",
   "execution_count": 6,
   "metadata": {},
   "outputs": [],
   "source": [
    "source_dir = 'midi_sources_v3'\n",
    "out_dir = 'midi_transform_v3'\n",
    "source_csv = path/'metadata_v3'/f'{source_dir}.csv'\n",
    "out_csv = path/out_dir/f'{out_dir}.csv'\n",
    "out_csv.parent.mkdir(parents=True, exist_ok=True)"
   ]
  },
  {
   "cell_type": "code",
   "execution_count": 8,
   "metadata": {},
   "outputs": [
    {
     "data": {
      "text/plain": [
       "PosixPath('data/midi/metadata_v3/midi_sources_v3.csv')"
      ]
     },
     "execution_count": 8,
     "metadata": {},
     "output_type": "execute_result"
    }
   ],
   "source": [
    "source_csv"
   ]
  },
  {
   "cell_type": "code",
   "execution_count": 7,
   "metadata": {},
   "outputs": [
    {
     "name": "stderr",
     "output_type": "stream",
     "text": [
      "/home/ubuntu/anaconda3/envs/midi/lib/python3.7/site-packages/IPython/core/interactiveshell.py:3020: DtypeWarning: Columns (2,10,11,16,18) have mixed types. Specify dtype option on import or set low_memory=False.\n",
      "  interactivity=interactivity, compiler=compiler, result=result)\n"
     ]
    },
    {
     "data": {
      "text/html": [
       "<div>\n",
       "<style scoped>\n",
       "    .dataframe tbody tr th:only-of-type {\n",
       "        vertical-align: middle;\n",
       "    }\n",
       "\n",
       "    .dataframe tbody tr th {\n",
       "        vertical-align: top;\n",
       "    }\n",
       "\n",
       "    .dataframe thead th {\n",
       "        text-align: right;\n",
       "    }\n",
       "</style>\n",
       "<table border=\"1\" class=\"dataframe\">\n",
       "  <thead>\n",
       "    <tr style=\"text-align: right;\">\n",
       "      <th></th>\n",
       "      <th>source</th>\n",
       "      <th>title</th>\n",
       "      <th>midi_title</th>\n",
       "      <th>inferred_offset</th>\n",
       "      <th>inferred_key</th>\n",
       "      <th>ht_offset</th>\n",
       "      <th>ht_mode</th>\n",
       "      <th>artist</th>\n",
       "      <th>seconds</th>\n",
       "      <th>bpm</th>\n",
       "      <th>...</th>\n",
       "      <th>instruments</th>\n",
       "      <th>time_signature</th>\n",
       "      <th>ht_time_signature</th>\n",
       "      <th>ht_bpm</th>\n",
       "      <th>song_url</th>\n",
       "      <th>midi</th>\n",
       "      <th>parts</th>\n",
       "      <th>genres</th>\n",
       "      <th>quarter_length</th>\n",
       "      <th>mxl</th>\n",
       "    </tr>\n",
       "  </thead>\n",
       "  <tbody>\n",
       "    <tr>\n",
       "      <th>0</th>\n",
       "      <td>hooktheory</td>\n",
       "      <td>yu-gi-oh-theme-song</td>\n",
       "      <td>yu-gi-oh3</td>\n",
       "      <td>0.0</td>\n",
       "      <td>C major</td>\n",
       "      <td>0.0</td>\n",
       "      <td>1.0</td>\n",
       "      <td>wayne-sharpe</td>\n",
       "      <td>15.000000</td>\n",
       "      <td>128.0</td>\n",
       "      <td>...</td>\n",
       "      <td>Piano,Piano</td>\n",
       "      <td>4/4</td>\n",
       "      <td>4.0</td>\n",
       "      <td>128.0</td>\n",
       "      <td>https://www.hooktheory.com/theorytab/view/wayn...</td>\n",
       "      <td>data/midi/midi_sources/hooktheory/pianoroll/w/...</td>\n",
       "      <td>intro,chorus</td>\n",
       "      <td>NaN</td>\n",
       "      <td>NaN</td>\n",
       "      <td>NaN</td>\n",
       "    </tr>\n",
       "    <tr>\n",
       "      <th>1</th>\n",
       "      <td>hooktheory</td>\n",
       "      <td>beverly-hills</td>\n",
       "      <td>My New Song</td>\n",
       "      <td>NaN</td>\n",
       "      <td>NaN</td>\n",
       "      <td>0.0</td>\n",
       "      <td>NaN</td>\n",
       "      <td>weezer</td>\n",
       "      <td>NaN</td>\n",
       "      <td>NaN</td>\n",
       "      <td>...</td>\n",
       "      <td>NaN</td>\n",
       "      <td>NaN</td>\n",
       "      <td>4.0</td>\n",
       "      <td>128.0</td>\n",
       "      <td>https://www.hooktheory.com/theorytab/view/weez...</td>\n",
       "      <td>data/midi/midi_sources/hooktheory/pianoroll/w/...</td>\n",
       "      <td>intro-and-verse</td>\n",
       "      <td>NaN</td>\n",
       "      <td>NaN</td>\n",
       "      <td>NaN</td>\n",
       "    </tr>\n",
       "    <tr>\n",
       "      <th>2</th>\n",
       "      <td>hooktheory</td>\n",
       "      <td>falling-for-you</td>\n",
       "      <td>falling for you intro</td>\n",
       "      <td>-3.0</td>\n",
       "      <td>E- major</td>\n",
       "      <td>-3.0</td>\n",
       "      <td>1.0</td>\n",
       "      <td>weezer</td>\n",
       "      <td>11.111111</td>\n",
       "      <td>108.0</td>\n",
       "      <td>...</td>\n",
       "      <td>Piano,Piano</td>\n",
       "      <td>4/4</td>\n",
       "      <td>4.0</td>\n",
       "      <td>108.0</td>\n",
       "      <td>https://www.hooktheory.com/theorytab/view/weez...</td>\n",
       "      <td>data/midi/midi_sources/hooktheory/pianoroll/w/...</td>\n",
       "      <td>intro,verse,chorus,solo</td>\n",
       "      <td>NaN</td>\n",
       "      <td>NaN</td>\n",
       "      <td>NaN</td>\n",
       "    </tr>\n",
       "    <tr>\n",
       "      <th>3</th>\n",
       "      <td>hooktheory</td>\n",
       "      <td>buddy-holly</td>\n",
       "      <td>Buddy Holly</td>\n",
       "      <td>4.0</td>\n",
       "      <td>A- major</td>\n",
       "      <td>4.0</td>\n",
       "      <td>1.0</td>\n",
       "      <td>weezer</td>\n",
       "      <td>43.388430</td>\n",
       "      <td>121.0</td>\n",
       "      <td>...</td>\n",
       "      <td>Piano,Piano</td>\n",
       "      <td>4/4</td>\n",
       "      <td>4.0</td>\n",
       "      <td>121.0</td>\n",
       "      <td>https://www.hooktheory.com/theorytab/view/weez...</td>\n",
       "      <td>data/midi/midi_sources/hooktheory/pianoroll/w/...</td>\n",
       "      <td>verse,pre-chorus,chorus,bridge,solo</td>\n",
       "      <td>Pop,Rock</td>\n",
       "      <td>NaN</td>\n",
       "      <td>NaN</td>\n",
       "    </tr>\n",
       "    <tr>\n",
       "      <th>4</th>\n",
       "      <td>hooktheory</td>\n",
       "      <td>dreams-of-grandeur</td>\n",
       "      <td>dreams of grandeur</td>\n",
       "      <td>-2.0</td>\n",
       "      <td>B minor</td>\n",
       "      <td>3.0</td>\n",
       "      <td>1.0</td>\n",
       "      <td>wavves</td>\n",
       "      <td>21.333333</td>\n",
       "      <td>180.0</td>\n",
       "      <td>...</td>\n",
       "      <td>Piano,Piano</td>\n",
       "      <td>4/4</td>\n",
       "      <td>4.0</td>\n",
       "      <td>180.0</td>\n",
       "      <td>https://www.hooktheory.com/theorytab/view/wavv...</td>\n",
       "      <td>data/midi/midi_sources/hooktheory/pianoroll/w/...</td>\n",
       "      <td>verse</td>\n",
       "      <td>NaN</td>\n",
       "      <td>NaN</td>\n",
       "      <td>NaN</td>\n",
       "    </tr>\n",
       "  </tbody>\n",
       "</table>\n",
       "<p>5 rows × 22 columns</p>\n",
       "</div>"
      ],
      "text/plain": [
       "       source                title             midi_title  inferred_offset  \\\n",
       "0  hooktheory  yu-gi-oh-theme-song              yu-gi-oh3              0.0   \n",
       "1  hooktheory        beverly-hills            My New Song              NaN   \n",
       "2  hooktheory      falling-for-you  falling for you intro             -3.0   \n",
       "3  hooktheory          buddy-holly            Buddy Holly              4.0   \n",
       "4  hooktheory   dreams-of-grandeur     dreams of grandeur             -2.0   \n",
       "\n",
       "  inferred_key  ht_offset  ht_mode        artist    seconds    bpm ...   \\\n",
       "0      C major        0.0      1.0  wayne-sharpe  15.000000  128.0 ...    \n",
       "1          NaN        0.0      NaN        weezer        NaN    NaN ...    \n",
       "2     E- major       -3.0      1.0        weezer  11.111111  108.0 ...    \n",
       "3     A- major        4.0      1.0        weezer  43.388430  121.0 ...    \n",
       "4      B minor        3.0      1.0        wavves  21.333333  180.0 ...    \n",
       "\n",
       "   instruments time_signature ht_time_signature ht_bpm  \\\n",
       "0  Piano,Piano            4/4               4.0  128.0   \n",
       "1          NaN            NaN               4.0  128.0   \n",
       "2  Piano,Piano            4/4               4.0  108.0   \n",
       "3  Piano,Piano            4/4               4.0  121.0   \n",
       "4  Piano,Piano            4/4               4.0  180.0   \n",
       "\n",
       "                                            song_url  \\\n",
       "0  https://www.hooktheory.com/theorytab/view/wayn...   \n",
       "1  https://www.hooktheory.com/theorytab/view/weez...   \n",
       "2  https://www.hooktheory.com/theorytab/view/weez...   \n",
       "3  https://www.hooktheory.com/theorytab/view/weez...   \n",
       "4  https://www.hooktheory.com/theorytab/view/wavv...   \n",
       "\n",
       "                                                midi  \\\n",
       "0  data/midi/midi_sources/hooktheory/pianoroll/w/...   \n",
       "1  data/midi/midi_sources/hooktheory/pianoroll/w/...   \n",
       "2  data/midi/midi_sources/hooktheory/pianoroll/w/...   \n",
       "3  data/midi/midi_sources/hooktheory/pianoroll/w/...   \n",
       "4  data/midi/midi_sources/hooktheory/pianoroll/w/...   \n",
       "\n",
       "                                 parts    genres quarter_length  mxl  \n",
       "0                         intro,chorus       NaN            NaN  NaN  \n",
       "1                      intro-and-verse       NaN            NaN  NaN  \n",
       "2              intro,verse,chorus,solo       NaN            NaN  NaN  \n",
       "3  verse,pre-chorus,chorus,bridge,solo  Pop,Rock            NaN  NaN  \n",
       "4                                verse       NaN            NaN  NaN  \n",
       "\n",
       "[5 rows x 22 columns]"
      ]
     },
     "execution_count": 7,
     "metadata": {},
     "output_type": "execute_result"
    }
   ],
   "source": [
    "df = pd.read_csv(source_csv); df.head()"
   ]
  },
  {
   "cell_type": "code",
   "execution_count": 8,
   "metadata": {},
   "outputs": [
    {
     "data": {
      "text/plain": [
       "(33240, 22)"
      ]
     },
     "execution_count": 8,
     "metadata": {},
     "output_type": "execute_result"
    }
   ],
   "source": [
    "df_filtered = df.loc[df['time_signature'] == '4/4']; df_filtered.shape"
   ]
  },
  {
   "cell_type": "code",
   "execution_count": 9,
   "metadata": {},
   "outputs": [],
   "source": [
    "from data_sources import process_parallel"
   ]
  },
  {
   "cell_type": "code",
   "execution_count": 10,
   "metadata": {},
   "outputs": [],
   "source": [
    "from midi_transform import *"
   ]
  },
  {
   "cell_type": "markdown",
   "metadata": {},
   "source": [
    "### Need better midi formatting"
   ]
  },
  {
   "cell_type": "code",
   "execution_count": 11,
   "metadata": {},
   "outputs": [],
   "source": [
    "def transform_midi_from_row(idxrow):\n",
    "    idx,row = idxrow\n",
    "    midi_file = row.midi\n",
    "    \n",
    "    if not isinstance(midi_file, str) or not Path(midi_file).exists(): return idx,None\n",
    "    \n",
    "    out_file = Path(midi_file.replace(f'/{source_dir}/', f'/{out_dir}/'))\n",
    "    out_file.parent.mkdir(parents=True, exist_ok=True)\n",
    "    if out_file.exists(): return idx,str(out_file)\n",
    "    \n",
    "    offset = row.ht_offset if row.source == 'hooktheory' else row.inferred_offset\n",
    "    try:\n",
    "        transform_midi(midi_file, out_file, offset=offset)\n",
    "    except Exception as e:\n",
    "        print('Exception with midifile:', midi_file, e)\n",
    "        return idx, None\n",
    "    return idx, str(out_file)"
   ]
  },
  {
   "cell_type": "code",
   "execution_count": 12,
   "metadata": {},
   "outputs": [],
   "source": [
    "# for r in df_filtered.iterrows():\n",
    "#     transform_midi_from_row(r)"
   ]
  },
  {
   "cell_type": "code",
   "execution_count": 14,
   "metadata": {
    "scrolled": false
   },
   "outputs": [
    {
     "data": {
      "text/html": [
       "\n",
       "    <div>\n",
       "        <style>\n",
       "            /* Turns off some styling */\n",
       "            progress {\n",
       "                /* gets rid of default border in Firefox and Opera. */\n",
       "                border: none;\n",
       "                /* Needs to be in here for Safari polyfill so background images work as expected. */\n",
       "                background-size: auto;\n",
       "            }\n",
       "            .progress-bar-interrupted, .progress-bar-interrupted::-webkit-progress-bar {\n",
       "                background: #F44336;\n",
       "            }\n",
       "        </style>\n",
       "      <progress value='33240' class='' max='33240', style='width:300px; height:20px; vertical-align: middle;'></progress>\n",
       "      100.00% [33240/33240 00:17<00:00]\n",
       "    </div>\n",
       "    "
      ],
      "text/plain": [
       "<IPython.core.display.HTML object>"
      ]
     },
     "metadata": {},
     "output_type": "display_data"
    }
   ],
   "source": [
    "idx2out = process_parallel(transform_midi_from_row, df_filtered.iterrows(), total=df_filtered.shape[0])"
   ]
  },
  {
   "cell_type": "code",
   "execution_count": null,
   "metadata": {},
   "outputs": [],
   "source": [
    "tdf = pd.DataFrame(data={out_dir: list(idx2out.values())}, index=list(idx2out.keys()))"
   ]
  },
  {
   "cell_type": "code",
   "execution_count": null,
   "metadata": {},
   "outputs": [],
   "source": [
    "merged_df = df.join(tdf)"
   ]
  },
  {
   "cell_type": "code",
   "execution_count": null,
   "metadata": {},
   "outputs": [],
   "source": [
    "tdf.shape, df.shape, merged_df.shape"
   ]
  },
  {
   "cell_type": "code",
   "execution_count": null,
   "metadata": {},
   "outputs": [],
   "source": [
    "merged_df.to_csv(out_csv, index=False); merged_df.head()"
   ]
  },
  {
   "cell_type": "code",
   "execution_count": null,
   "metadata": {},
   "outputs": [],
   "source": []
  }
 ],
 "metadata": {
  "kernelspec": {
   "display_name": "Python 3",
   "language": "python",
   "name": "python3"
  },
  "language_info": {
   "codemirror_mode": {
    "name": "ipython",
    "version": 3
   },
   "file_extension": ".py",
   "mimetype": "text/x-python",
   "name": "python",
   "nbconvert_exporter": "python",
   "pygments_lexer": "ipython3",
   "version": "3.7.1"
  }
 },
 "nbformat": 4,
 "nbformat_minor": 2
}

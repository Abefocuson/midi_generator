{
 "cells": [
  {
   "cell_type": "code",
   "execution_count": 1,
   "metadata": {},
   "outputs": [],
   "source": [
    "%reload_ext autoreload\n",
    "%autoreload 2\n",
    "%matplotlib inline"
   ]
  },
  {
   "cell_type": "code",
   "execution_count": 2,
   "metadata": {},
   "outputs": [],
   "source": [
    "import xmltodict\n",
    "import os\n",
    "import json\n",
    "import pickle\n",
    "from lxml import etree\n",
    "\n",
    "encoding = \"utf-8\"\n",
    "\n",
    "\n",
    "def load_data(file_path):\n",
    "    with open(file_path, \"r\", encoding=encoding) as f:\n",
    "        content = f.read()\n",
    "    content = content.replace('%20', '')\n",
    "    return content\n",
    "\n",
    "\n",
    "def xml_parser(content):\n",
    "    parser = etree.XMLParser(recover=True, encoding=encoding)\n",
    "    root = etree.fromstring(content, parser=parser)\n",
    "    return root\n",
    "\n",
    "\n",
    "def get_metadata(root):\n",
    "    meta_list = ['title', 'beats_in_measure', 'BPM', 'key', 'YouTubeID', 'mode']\n",
    "\n",
    "    metadata = dict()\n",
    "    for e in meta_list:\n",
    "        tag = root.find('.//' + e)\n",
    "        metadata[e] = tag.text if tag is not None else None\n",
    "\n",
    "    # duration\n",
    "    tag = root.find('.//duration')\n",
    "    tag = root.find('.//section_duration') if tag is None else tag\n",
    "    metadata['duration'] = tag.text if tag is not None else None\n",
    "\n",
    "    version = root.find('version')\n",
    "    version = version.text if version is not None else None\n",
    "    return metadata, version\n",
    "\n",
    "\n",
    "def get_lead_sheet(root, version):\n",
    "    segments_tag = root.findall('.//segment')\n",
    "\n",
    "    # set chord tag according to version\n",
    "    chord_tag = 'chords' if root.tag == 'super' else 'harmony'\n",
    "\n",
    "    segment_list = []\n",
    "    num_measures = 0\n",
    "\n",
    "    for segment in segments_tag:\n",
    "        num_measure = float(segment.find('numMeasures').text)\n",
    "\n",
    "        # melody\n",
    "        note_tags = segment.findall('.//notes/note')\n",
    "        note_list = [xmltodict.parse(etree.tostring(n))['note'] for n in note_tags] if note_tags else []\n",
    "\n",
    "        # chord\n",
    "        chord_tags = segment.findall('.//' + chord_tag + '/chord')\n",
    "        chord_list = [xmltodict.parse(etree.tostring(c))['chord'] for c in chord_tags] if chord_tags else []\n",
    "\n",
    "        segment_list.append({'notes': note_list, 'chords': chord_list, 'num_measure': num_measure})\n",
    "        num_measures += num_measure\n",
    "\n",
    "    return segment_list, num_measures\n",
    "\n",
    "\n",
    "def event_localization(measure_offset, start_beat_abs, duration):\n",
    "    event_on = measure_offset + start_beat_abs\n",
    "    event_off = measure_offset + start_beat_abs + duration\n",
    "    return event_on, event_off\n",
    "\n",
    "def segments_parser(segments, mode, beats_in_measure):\n",
    "    measure_counter = 0\n",
    "\n",
    "    chord_track = []\n",
    "    melody_track = []\n",
    "\n",
    "    for sidx, segment in enumerate(segments):\n",
    "        measure_offset = measure_counter * float(beats_in_measure)\n",
    "\n",
    "        for chord in segment['chords']:\n",
    "            chord_track.append(proc_object(chord, measure_offset, type_='chord'))\n",
    "        for note in segment['notes']:\n",
    "            melody_track.append(proc_object(note, measure_offset, type_='note'))\n",
    "\n",
    "        measure_counter += int(segment['num_measure'])\n",
    "\n",
    "    return melody_track, chord_track\n",
    "\n",
    "\n",
    "def proc_xml(file_path, save_path=None, name='tab', save_type='pickle'):\n",
    "    content = load_data(file_path)\n",
    "    root = xml_parser(content)\n",
    "    metadata, version = get_metadata(root)\n",
    "    segments, num_measures = get_lead_sheet(root, version)\n",
    "\n",
    "    mode = int(metadata['mode']) if metadata['mode'] is not None else 1\n",
    "    beats_in_measure = int(metadata['beats_in_measure'])\n",
    "\n",
    "    melody, chord = segments_parser(segments, mode, beats_in_measure)\n",
    "\n",
    "    data = {\n",
    "        'version': version,\n",
    "        'metadata': metadata,\n",
    "        'tracks': {\n",
    "            'melody': melody,\n",
    "            'chord': chord,\n",
    "        },\n",
    "        'num_measures': num_measures,\n",
    "    }\n",
    "\n",
    "    if save_path:\n",
    "        if not os.path.exists(save_path):\n",
    "            os.makedirs(save_path)\n",
    "\n",
    "        if save_type is 'pickle':\n",
    "            file_name = os.path.join(save_path, name+'.pickle')\n",
    "            with open(file_name, 'wb') as handle:\n",
    "                pickle.dump(data, handle, protocol=pickle.HIGHEST_PROTOCOL)\n",
    "        elif save_type is 'json':\n",
    "            file_name = os.path.join(save_path, name+'.json')\n",
    "            with open(file_name, 'w') as handle:\n",
    "                json.dump(data, handle)\n",
    "        else:\n",
    "            raise ValueError('Unkown type for saving')\n",
    "\n",
    "    return data\n",
    "\n",
    "\n",
    "def traverse_dir(root_dir, extension='.xml'):\n",
    "    file_list = []\n",
    "    for root, dirs, files in os.walk(root_dir):\n",
    "        for file in files:\n",
    "            if file.endswith(extension):\n",
    "                file_list.append(os.path.join(root, file))\n",
    "\n",
    "    return file_list\n",
    "\n",
    "\n",
    "def get_postfix_dirpath(filename, idx=-4):\n",
    "    path = os.path.normpath(filename)\n",
    "    dir_list = path.split(os.sep)\n",
    "    new_path = ''\n",
    "\n",
    "    for d in dir_list[idx:]:\n",
    "        new_path = os.path.join(new_path, d)\n",
    "\n",
    "    return new_path\n",
    "\n",
    "\n",
    "def proc_dir(file_list, root):\n",
    "    num_file = len(file_list)\n",
    "    for fidx in range(num_file):\n",
    "        print('(%d/%d)' % (fidx, num_file))\n",
    "        file_path = file_list[fidx]\n",
    "        save_path = root\n",
    "        name = os.path.basename(file_path)\n",
    "        proc_xml(file_path, save_path=save_path, name=name, save_type='json')\n"
   ]
  },
  {
   "cell_type": "code",
   "execution_count": 3,
   "metadata": {},
   "outputs": [],
   "source": [
    "# mode = int(metadata['mode']) if metadata['mode'] is not None else 1\n",
    "# beats_in_measure = int(metadata['beats_in_measure'])\n",
    "\n",
    "# melody, chord = segments_parser(segments, mode, beats_in_measure)"
   ]
  },
  {
   "cell_type": "code",
   "execution_count": 4,
   "metadata": {},
   "outputs": [],
   "source": [
    "from pathlib import Path"
   ]
  },
  {
   "cell_type": "code",
   "execution_count": 5,
   "metadata": {},
   "outputs": [],
   "source": [
    "version = 'v7'\n",
    "data_path = Path('data/midi')\n",
    "version_path = data_path/version\n",
    "orig_path = version_path/'midi_sources'"
   ]
  },
  {
   "cell_type": "code",
   "execution_count": 6,
   "metadata": {},
   "outputs": [],
   "source": [
    "from fastai.data_block import get_files"
   ]
  },
  {
   "cell_type": "code",
   "execution_count": 7,
   "metadata": {},
   "outputs": [],
   "source": [
    "h_path = orig_path/'hooktheory'"
   ]
  },
  {
   "cell_type": "code",
   "execution_count": 8,
   "metadata": {},
   "outputs": [
    {
     "data": {
      "text/plain": [
       "[PosixPath('data/midi/v7/midi_sources/hooktheory/xml/w/wayne-sharpe/yu-gi-oh-theme-song/chorus.xml'),\n",
       " PosixPath('data/midi/v7/midi_sources/hooktheory/xml/w/wayne-sharpe/yu-gi-oh-theme-song/intro.xml'),\n",
       " PosixPath('data/midi/v7/midi_sources/hooktheory/xml/w/what-a-day/kiefer/chorus.xml'),\n",
       " PosixPath('data/midi/v7/midi_sources/hooktheory/xml/w/whiteflame/senbonzakura/pre-chorus.xml'),\n",
       " PosixPath('data/midi/v7/midi_sources/hooktheory/xml/w/whiteflame/senbonzakura/verse.xml'),\n",
       " PosixPath('data/midi/v7/midi_sources/hooktheory/xml/w/whiteflame/senbonzakura/chorus.xml'),\n",
       " PosixPath('data/midi/v7/midi_sources/hooktheory/xml/w/wham/last-christmas/verse.xml'),\n",
       " PosixPath('data/midi/v7/midi_sources/hooktheory/xml/w/wham/last-christmas/chorus.xml'),\n",
       " PosixPath('data/midi/v7/midi_sources/hooktheory/xml/w/wham/last-christmas/intro.xml'),\n",
       " PosixPath('data/midi/v7/midi_sources/hooktheory/xml/w/wham/freedom/chorus.xml')]"
      ]
     },
     "execution_count": 8,
     "metadata": {},
     "output_type": "execute_result"
    }
   ],
   "source": [
    "files = get_files(h_path, extensions=['.xml'], recurse=True); files[:10]"
   ]
  },
  {
   "cell_type": "code",
   "execution_count": 139,
   "metadata": {},
   "outputs": [
    {
     "data": {
      "text/plain": [
       "[PosixPath('data/midi/v7/midi_sources/hooktheory/xml/i/idina-menzel/let-it-go/intro.xml'),\n",
       " PosixPath('data/midi/v7/midi_sources/hooktheory/xml/i/idina-menzel/let-it-go/intro-and-verse.xml')]"
      ]
     },
     "execution_count": 139,
     "metadata": {},
     "output_type": "execute_result"
    }
   ],
   "source": [
    "# Loading from specific file\n",
    "# keywords = ['get-lucky', 'daft-punk', 'pre-chorus']\n",
    "# keywords = ['skrillex', 'scary']\n",
    "keywords = ['idina', 'intro', 'let']\n",
    "def contains_keywords(f): return all([k in str(f) for k in keywords])\n",
    "search = [f for f in files if contains_keywords(f)]; search"
   ]
  },
  {
   "cell_type": "code",
   "execution_count": 140,
   "metadata": {},
   "outputs": [],
   "source": [
    "import pprint\n",
    "\n",
    "file_path = search[0]\n",
    "# raw_info = proc_xml(file_path)\n",
    "# pprint.pprint(raw_info)\n",
    "\n"
   ]
  },
  {
   "cell_type": "code",
   "execution_count": 141,
   "metadata": {},
   "outputs": [],
   "source": [
    "content = load_data(file_path)\n",
    "root = xml_parser(content)\n",
    "metadata, version = get_metadata(root)\n",
    "segments, num_measures = get_lead_sheet(root, version)"
   ]
  },
  {
   "cell_type": "code",
   "execution_count": 142,
   "metadata": {},
   "outputs": [],
   "source": [
    "import music21"
   ]
  },
  {
   "cell_type": "markdown",
   "metadata": {},
   "source": [
    "### Create config file"
   ]
  },
  {
   "cell_type": "code",
   "execution_count": 143,
   "metadata": {},
   "outputs": [],
   "source": [
    "config = dict(sustain=True, sep_octave=True, default_octave=4)"
   ]
  },
  {
   "cell_type": "markdown",
   "metadata": {},
   "source": [
    "### Constants"
   ]
  },
  {
   "cell_type": "markdown",
   "metadata": {},
   "source": [
    "### Classes"
   ]
  },
  {
   "cell_type": "code",
   "execution_count": 17,
   "metadata": {},
   "outputs": [],
   "source": [
    "from dataclasses import dataclass\n",
    "import dataclasses\n",
    "from typing import Dict, Any, AnyStr, List, Sequence, TypeVar, Tuple, Optional, Union"
   ]
  },
  {
   "cell_type": "code",
   "execution_count": 18,
   "metadata": {},
   "outputs": [],
   "source": [
    "@dataclass\n",
    "class Base:\n",
    "    @classmethod\n",
    "    def parse(cls, d):\n",
    "        cls_keys = cls.__dataclass_fields__.keys()\n",
    "        kwargs = {key:d[key] for key in cls_keys}\n",
    "        return cls(**kwargs)"
   ]
  },
  {
   "cell_type": "code",
   "execution_count": 19,
   "metadata": {},
   "outputs": [],
   "source": [
    "@dataclass\n",
    "class HMetadata(Base):\n",
    "    title:str\n",
    "    BPM:str='120'\n",
    "    beats_in_measure:str='4'\n",
    "    key:str='C'\n",
    "    mode:str='1'"
   ]
  },
  {
   "cell_type": "code",
   "execution_count": 20,
   "metadata": {},
   "outputs": [],
   "source": [
    "@dataclass\n",
    "class HNote(Base):\n",
    "    start_beat_abs: str\n",
    "    start_measure: str\n",
    "    start_beat: str\n",
    "    note_length: str\n",
    "    scale_degree: str\n",
    "    octave: str\n",
    "        \n",
    "    def to_m21(self)->music21.note.Note:\n",
    "        if self.scale_degree == 'rest':\n",
    "            n = music21.note.Rest(quarterLength=note_length)\n",
    "        else:\n",
    "            n = music21.note.Note(quarterLength=note_length)\n",
    "            n.octave = int(self.octave)+config.default_octave\n",
    "        n.offset = self.start_beat_abs\n",
    "        return n"
   ]
  },
  {
   "cell_type": "code",
   "execution_count": 21,
   "metadata": {},
   "outputs": [],
   "source": [
    "@dataclass\n",
    "class HChord(Base):\n",
    "    composition:List[int]\n",
    "    chord_duration:str\n",
    "    start_measure:str\n",
    "    start_beat:str\n",
    "    start_beat_abs:str\n",
    "        \n",
    "    def to_m21(self)->music21.chord.Chord:\n",
    "        if self.scale_degree == 'rest':\n",
    "            n = music21.note.Rest(quarterLength=note_length)\n",
    "        else:\n",
    "            n = music21.note.Note(quarterLength=note_length)\n",
    "            n.octave = int(self.octave)+config.default_octave\n",
    "        n.offset = self.start_beat_abs\n",
    "        return n\n",
    "    \n",
    "    \n",
    "    @classmethod\n",
    "    def parse(cls, d, mode, key_offset):\n",
    "        ns = [HNote.parse(n) for n in d.get('notes', [])]\n",
    "        cs = [HChord.parse(c) for c in d.get('chords', [])]\n",
    "        return cls(notes=ns, chords=cs)"
   ]
  },
  {
   "cell_type": "code",
   "execution_count": 22,
   "metadata": {},
   "outputs": [],
   "source": [
    "@dataclass\n",
    "class HPart(Base):\n",
    "    notes: List[HNote]\n",
    "    chords: List[HChord]\n",
    "        \n",
    "    @classmethod\n",
    "    def parse(cls, d, metadata):\n",
    "        metadata['key']\n",
    "        ns = [HNote.parse(n) for n in d.get('notes', [])]\n",
    "        cs = [HChord.parse(c) for c in d.get('chords', [])]\n",
    "        return cls(notes=ns, chords=cs)\n",
    "        "
   ]
  },
  {
   "cell_type": "code",
   "execution_count": 23,
   "metadata": {},
   "outputs": [],
   "source": [
    "@dataclass\n",
    "class HSong(Base):\n",
    "    metadata: HMetadata\n",
    "    parts: List[HPart]\n",
    "    \n",
    "    @classmethod\n",
    "    def parse(cls, metadata, segments):\n",
    "        m = HMetadata.parse(metadata)\n",
    "        ps = [HPart.parse(s, metadata) for s in segments]\n",
    "        return cls(metadata=m, parts=ps)\n",
    "    \n",
    "    def to_stream(self):\n",
    "        # music21 stream\n",
    "        return None"
   ]
  },
  {
   "cell_type": "code",
   "execution_count": 58,
   "metadata": {},
   "outputs": [],
   "source": [
    "# s = HSong.parse(metadata, segments)"
   ]
  },
  {
   "cell_type": "code",
   "execution_count": 25,
   "metadata": {},
   "outputs": [],
   "source": [
    "# translator\n",
    "class Translator():\n",
    "    @classmethod\n",
    "    def to_numpy(cls, s:HSong):\n",
    "        pass\n",
    "    @classmethod\n",
    "    def to_song(cls, arr):\n",
    "        pass"
   ]
  },
  {
   "cell_type": "code",
   "execution_count": 68,
   "metadata": {},
   "outputs": [],
   "source": [
    "from src import roman_to_symbol\n",
    "from src import to_pianoroll\n",
    "from collections import defaultdict\n",
    "from midi_data import keyc_offset"
   ]
  },
  {
   "cell_type": "code",
   "execution_count": null,
   "metadata": {},
   "outputs": [],
   "source": []
  },
  {
   "cell_type": "code",
   "execution_count": 144,
   "metadata": {},
   "outputs": [
    {
     "data": {
      "text/plain": [
       "3"
      ]
     },
     "execution_count": 144,
     "metadata": {},
     "output_type": "execute_result"
    }
   ],
   "source": [
    "key_offset = keyc_offset(metadata['key'], metadata['mode'])-1; key_offset"
   ]
  },
  {
   "cell_type": "code",
   "execution_count": 145,
   "metadata": {},
   "outputs": [
    {
     "data": {
      "text/plain": [
       "{'title': 'Let It Go',\n",
       " 'beats_in_measure': '4',\n",
       " 'BPM': '137',\n",
       " 'key': 'F',\n",
       " 'YouTubeID': 'moSFlvxnbgk',\n",
       " 'mode': '6',\n",
       " 'duration': '16.81'}"
      ]
     },
     "execution_count": 145,
     "metadata": {},
     "output_type": "execute_result"
    }
   ],
   "source": [
    "metadata"
   ]
  },
  {
   "cell_type": "code",
   "execution_count": 146,
   "metadata": {},
   "outputs": [],
   "source": [
    "# parsed = [roman_to_symbol.hchord_parser(c, metadata['mode'], 7) for c in segments[0]['chords']]"
   ]
  },
  {
   "cell_type": "markdown",
   "metadata": {},
   "source": [
    "Skrillex  \n",
    "G minor -> 9 offset -> C major\n",
    "\n",
    "minor = 5, G->C=\n",
    "\n",
    "Daft Punk  \n",
    "B dorian -> 2 offset -> C major\n",
    "\n",
    "Let it go  \n",
    "F minor -> 9 offset -> C major\n",
    "\n",
    "Game of thrones  \n",
    "C minor -> 9 offset -> C major"
   ]
  },
  {
   "cell_type": "code",
   "execution_count": 298,
   "metadata": {},
   "outputs": [],
   "source": [
    "MODE_TO_KEYOFFSET = {\n",
    "    '1': 0,\n",
    "    '2': 2,\n",
    "    '3': 4,\n",
    "    '4': 5,\n",
    "    '5': 7,\n",
    "    '6': 9,\n",
    "    '7': 11\n",
    "}"
   ]
  },
  {
   "cell_type": "code",
   "execution_count": 309,
   "metadata": {},
   "outputs": [
    {
     "data": {
      "text/plain": [
       "[PosixPath('data/midi/v7/midi_sources/hooktheory/xml/i/idina-menzel/let-it-go/intro.xml'),\n",
       " PosixPath('data/midi/v7/midi_sources/hooktheory/xml/i/idina-menzel/let-it-go/intro-and-verse.xml')]"
      ]
     },
     "execution_count": 309,
     "metadata": {},
     "output_type": "execute_result"
    }
   ],
   "source": [
    "# Loading from specific file\n",
    "# keywords = ['get-lucky', 'daft-punk', 'pre-chorus']\n",
    "# keywords = ['skrillex', 'scary']\n",
    "keywords = ['idina', 'intro', 'let']\n",
    "# keywords = ['game-of-thrones', 'intro', 'ramin']\n",
    "# keywords = ['kiss-from-a-rose', 'seal']\n",
    "def contains_keywords(f): return all([k in str(f) for k in keywords])\n",
    "search = [f for f in files if contains_keywords(f)]; search"
   ]
  },
  {
   "cell_type": "code",
   "execution_count": 310,
   "metadata": {},
   "outputs": [],
   "source": [
    "file_path = search[0]\n",
    "content = load_data(file_path)\n",
    "root = xml_parser(content)\n",
    "metadata, version = get_metadata(root)\n",
    "segments, num_measures = get_lead_sheet(root, version)"
   ]
  },
  {
   "cell_type": "code",
   "execution_count": 314,
   "metadata": {},
   "outputs": [],
   "source": [
    "key_offset = MODE_TO_KEYOFFSET.get(metadata['mode'], 0)\n",
    "# key_offset = roman_to_symbol.get_key_offset(metadata['key']); key_offset # this is offset to key not to c"
   ]
  },
  {
   "cell_type": "code",
   "execution_count": 315,
   "metadata": {},
   "outputs": [],
   "source": [
    "parsed = [roman_to_symbol.hchord_parser(c, metadata['mode'], key_offset) for c in segments[0]['chords']]"
   ]
  },
  {
   "cell_type": "code",
   "execution_count": 316,
   "metadata": {},
   "outputs": [
    {
     "data": {
      "text/plain": [
       "[('am', 5),\n",
       " ('Fmaj7', 7),\n",
       " ('G sus2', 5),\n",
       " ('dm sus4', 5),\n",
       " ('dm', 5),\n",
       " ('am', 5),\n",
       " ('Fmaj7', 7),\n",
       " ('G sus2', 5),\n",
       " ('D sus4', 5),\n",
       " ('D', 5)]"
      ]
     },
     "execution_count": 316,
     "metadata": {},
     "output_type": "execute_result"
    }
   ],
   "source": [
    "[(p['symbol'], p['chord_type']) for p in parsed]"
   ]
  },
  {
   "cell_type": "code",
   "execution_count": 317,
   "metadata": {},
   "outputs": [],
   "source": [
    "parsed_p = [roman_to_symbol.hnote_parser(c, metadata['mode'], key_offset) for c in segments[0]['notes']]"
   ]
  },
  {
   "cell_type": "code",
   "execution_count": 325,
   "metadata": {},
   "outputs": [
    {
     "data": {
      "text/plain": [
       "[23.0,\n",
       " 24.0,\n",
       " 16.0,\n",
       " 23.0,\n",
       " 24.0,\n",
       " 23.0,\n",
       " 24.0,\n",
       " 16.0,\n",
       " 24.0,\n",
       " 23.0,\n",
       " 14.0,\n",
       " 21.0,\n",
       " 23.0,\n",
       " 14.0,\n",
       " 21.0,\n",
       " 23.0,\n",
       " 14.0,\n",
       " 19.0,\n",
       " 17.0,\n",
       " 23.0,\n",
       " 24.0,\n",
       " 16.0,\n",
       " 23.0,\n",
       " 24.0,\n",
       " 24.0,\n",
       " 23.0,\n",
       " 16.0,\n",
       " 24.0,\n",
       " 23.0,\n",
       " 14.0,\n",
       " 21.0,\n",
       " 23.0,\n",
       " 14.0,\n",
       " 21.0,\n",
       " 23.0,\n",
       " 14.0,\n",
       " 19.0,\n",
       " 18.0]"
      ]
     },
     "execution_count": 325,
     "metadata": {},
     "output_type": "execute_result"
    }
   ],
   "source": [
    "[p['pitch'] for p in parsed_p if p is not None]"
   ]
  },
  {
   "cell_type": "code",
   "execution_count": 324,
   "metadata": {},
   "outputs": [
    {
     "ename": "NameError",
     "evalue": "name 'parsed_c' is not defined",
     "output_type": "error",
     "traceback": [
      "\u001b[0;31m---------------------------------------------------------------------------\u001b[0m",
      "\u001b[0;31mNameError\u001b[0m                                 Traceback (most recent call last)",
      "\u001b[0;32m<ipython-input-324-eb3cf1077806>\u001b[0m in \u001b[0;36m<module>\u001b[0;34m\u001b[0m\n\u001b[0;32m----> 1\u001b[0;31m \u001b[0mparsed_c\u001b[0m\u001b[0;34m[\u001b[0m\u001b[0;34m'comp_vec'\u001b[0m\u001b[0;34m]\u001b[0m\u001b[0;34m\u001b[0m\u001b[0;34m\u001b[0m\u001b[0m\n\u001b[0m",
      "\u001b[0;31mNameError\u001b[0m: name 'parsed_c' is not defined"
     ]
    }
   ],
   "source": [
    "parsed_c['comp_vec']"
   ]
  },
  {
   "cell_type": "code",
   "execution_count": 97,
   "metadata": {},
   "outputs": [
    {
     "data": {
      "text/plain": [
       "array([2, 5, 9, 12], dtype=object)"
      ]
     },
     "execution_count": 97,
     "metadata": {},
     "output_type": "execute_result"
    }
   ],
   "source": [
    "parsed_c['composition']"
   ]
  },
  {
   "cell_type": "code",
   "execution_count": 95,
   "metadata": {},
   "outputs": [
    {
     "data": {
      "text/plain": [
       "<music21.chord.Chord C E G B>"
      ]
     },
     "execution_count": 95,
     "metadata": {},
     "output_type": "execute_result"
    }
   ],
   "source": [
    "music21.chord.Chord([0,4,7,11])"
   ]
  },
  {
   "cell_type": "code",
   "execution_count": 124,
   "metadata": {},
   "outputs": [],
   "source": [
    "out = parsed_c['composition'].astype(int).tolist()"
   ]
  },
  {
   "cell_type": "code",
   "execution_count": 125,
   "metadata": {},
   "outputs": [
    {
     "data": {
      "text/plain": [
       "<music21.chord.Chord D F A C0>"
      ]
     },
     "execution_count": 125,
     "metadata": {},
     "output_type": "execute_result"
    }
   ],
   "source": [
    "music21.chord.Chord(out)"
   ]
  },
  {
   "cell_type": "code",
   "execution_count": 89,
   "metadata": {},
   "outputs": [],
   "source": [
    "comp = to_pianoroll.to_chromagram(parsed_c['composition'])"
   ]
  },
  {
   "cell_type": "code",
   "execution_count": 90,
   "metadata": {},
   "outputs": [
    {
     "data": {
      "text/plain": [
       "array([2, 5, 9, 0], dtype=object)"
      ]
     },
     "execution_count": 90,
     "metadata": {},
     "output_type": "execute_result"
    }
   ],
   "source": [
    "comp"
   ]
  },
  {
   "cell_type": "code",
   "execution_count": null,
   "metadata": {},
   "outputs": [],
   "source": [
    "music21.chord.composition"
   ]
  }
 ],
 "metadata": {
  "kernelspec": {
   "display_name": "Python 3",
   "language": "python",
   "name": "python3"
  },
  "language_info": {
   "codemirror_mode": {
    "name": "ipython",
    "version": 3
   },
   "file_extension": ".py",
   "mimetype": "text/x-python",
   "name": "python",
   "nbconvert_exporter": "python",
   "pygments_lexer": "ipython3",
   "version": "3.7.2"
  }
 },
 "nbformat": 4,
 "nbformat_minor": 2
}

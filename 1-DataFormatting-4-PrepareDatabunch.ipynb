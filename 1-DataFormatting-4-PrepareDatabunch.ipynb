{
 "cells": [
  {
   "cell_type": "markdown",
   "metadata": {},
   "source": [
    "# Tokenize and save data"
   ]
  },
  {
   "cell_type": "code",
   "execution_count": 1,
   "metadata": {},
   "outputs": [],
   "source": [
    "%reload_ext autoreload\n",
    "%autoreload 2\n",
    "%matplotlib inline"
   ]
  },
  {
   "cell_type": "code",
   "execution_count": 2,
   "metadata": {},
   "outputs": [],
   "source": [
    "from fastai.text import *"
   ]
  },
  {
   "cell_type": "code",
   "execution_count": 3,
   "metadata": {},
   "outputs": [],
   "source": [
    "import pandas as pd\n",
    "from fastai_data import *"
   ]
  },
  {
   "cell_type": "markdown",
   "metadata": {},
   "source": [
    "## Preparing the data"
   ]
  },
  {
   "cell_type": "code",
   "execution_count": 4,
   "metadata": {},
   "outputs": [
    {
     "data": {
      "text/plain": [
       "[PosixPath('data/midi/midi_transcribe_v1_simple/ecomp'),\n",
       " PosixPath('data/midi/midi_transcribe_v1_simple/classic_piano'),\n",
       " PosixPath('data/midi/midi_transcribe_v1_simple/tmp_classical'),\n",
       " PosixPath('data/midi/midi_transcribe_v1_simple/cprato'),\n",
       " PosixPath('data/midi/midi_transcribe_v1_simple/freemidi')]"
      ]
     },
     "execution_count": 4,
     "metadata": {},
     "output_type": "execute_result"
    }
   ],
   "source": [
    "source_dir = 'midi_transcribe_v1_simple'\n",
    "path = Path(f'data/midi/{source_dir}/')\n",
    "csv_path = path/f'{source_dir}.csv'\n",
    "path.ls()[:5]"
   ]
  },
  {
   "cell_type": "code",
   "execution_count": 5,
   "metadata": {},
   "outputs": [
    {
     "name": "stderr",
     "output_type": "stream",
     "text": [
      "/home/ubuntu/anaconda3/envs/midi/lib/python3.7/site-packages/IPython/core/interactiveshell.py:3020: DtypeWarning: Columns (7,12,14,17,21) have mixed types. Specify dtype option on import or set low_memory=False.\n",
      "  interactivity=interactivity, compiler=compiler, result=result)\n"
     ]
    }
   ],
   "source": [
    "csv = pd.read_csv(csv_path)\n",
    "csv = csv.loc[csv[source_dir].notna()];"
   ]
  },
  {
   "cell_type": "code",
   "execution_count": 6,
   "metadata": {},
   "outputs": [],
   "source": [
    "def create_databunch(files, cache_name, vocab=None, batch_size=32, load_cached=True):\n",
    "    if load_cached and (path/f'{cache_name}/itos.pkl').exists():\n",
    "        data = TextLMDataBunch.load(path, bs=batch_size, cache_name=cache_name)\n",
    "    else:\n",
    "        ps = [LMOpenFileProcessor(), \n",
    "             LMTokenizeProcessor(tokenizer=MusicTokenizer(), chunksize=num_cpus()*20),\n",
    "             LMNumericalizeProcessor(vocab=vocab, max_vocab=500)]\n",
    "\n",
    "        data = (TextList(items=files, path=path, processor=ps)\n",
    "                .random_split_by_pct(0.01, seed=6)\n",
    "                .label_for_lm()\n",
    "                .databunch(bs=batch_size))\n",
    "        data.save(cache_name)\n",
    "    vocab = data.train_ds.vocab\n",
    "    return data, vocab"
   ]
  },
  {
   "cell_type": "code",
   "execution_count": 7,
   "metadata": {},
   "outputs": [],
   "source": [
    "def get_files(csv):\n",
    "    files = csv[source_dir]\n",
    "    flist = [Path(f) for f in files.values]\n",
    "    flist = [f for f in flist if f.exists()]\n",
    "    return flist"
   ]
  },
  {
   "cell_type": "markdown",
   "metadata": {},
   "source": [
    "### Create Pop Dataset"
   ]
  },
  {
   "cell_type": "code",
   "execution_count": 8,
   "metadata": {},
   "outputs": [],
   "source": [
    "pop_csv = csv.loc[csv.source.isin(['midiworld', 'hooktheory', 'freemidi', 'cprato'])]\n",
    "pop_files = get_files(pop_csv)"
   ]
  },
  {
   "cell_type": "code",
   "execution_count": 9,
   "metadata": {},
   "outputs": [
    {
     "name": "stdout",
     "output_type": "stream",
     "text": [
      "Numericalizing\n"
     ]
    }
   ],
   "source": [
    "pop_data, pop_vocab = create_databunch(pop_files, cache_name='tmp_pop')"
   ]
  },
  {
   "cell_type": "markdown",
   "metadata": {},
   "source": [
    "## Create Classical Dataset"
   ]
  },
  {
   "cell_type": "code",
   "execution_count": 10,
   "metadata": {},
   "outputs": [],
   "source": [
    "# csv_filter = csv.loc[csv[f'{source_dir}_timesteps'] < 20000]\n",
    "clc_csv = csv.loc[csv.source.isin(['classical_piano', 'ecomp'])]\n",
    "clc_files = get_files(clc_csv)"
   ]
  },
  {
   "cell_type": "markdown",
   "metadata": {},
   "source": [
    "Note: we are using pop_vocab because we ultimately want to generate pop music"
   ]
  },
  {
   "cell_type": "code",
   "execution_count": 11,
   "metadata": {},
   "outputs": [
    {
     "name": "stdout",
     "output_type": "stream",
     "text": [
      "Numericalizing\n"
     ]
    }
   ],
   "source": [
    "clc_data, clc_vocab = create_databunch(clc_files, cache_name='tmp_clc', vocab=pop_vocab, load_cached=False)"
   ]
  },
  {
   "cell_type": "markdown",
   "metadata": {},
   "source": [
    "### Testing"
   ]
  },
  {
   "cell_type": "code",
   "execution_count": 16,
   "metadata": {},
   "outputs": [],
   "source": [
    "data = pop_data"
   ]
  },
  {
   "cell_type": "code",
   "execution_count": 17,
   "metadata": {},
   "outputs": [
    {
     "data": {
      "text/html": [
       "<table>  <col width='5%'>  <col width='95%'>  <tr>\n",
       "    <th>idx</th>\n",
       "    <th>text</th>\n",
       "  </tr>\n",
       "  <tr>\n",
       "    <th>0</th>\n",
       "    <th>t2 || nD4 t2 nF4 t2 nG4 t2 nB-4 t2 || nD4 t2 nF4 t2 nG4 t2 nB-4 t2 || nD4 t1 nF4 t1 nA4 t1 || nD4 t2 nF4 t2 nA4 t2 || nD4 t2 nF4 t2 nA4 t2 || nD4 t2 nF4 t2 nA4 t2 || nD4 t2 nF4 t2 nA4 t2 || nD4 t2 nF4 t2 nA4 t2 || nD4 t2 nF4 t2 nA4 t2 || nD4</th>\n",
       "  </tr>\n",
       "  <tr>\n",
       "    <th>1</th>\n",
       "    <th>nA4 t2 nF#5 t2 || nD4 t2 nF#4 t2 nA4 t2 nF#5 t1 || nD4 t2 nF#4 t2 nA4 t2 nF#5 t2 || nD4 t2 nF#4 t2 nA4 t2 nF#5 t1 || nD4 t2 nF#4 t2 nA4 t2 nF#5 t2 || nD4 t2 nF#4 t2 nA4 t2 nE5 t1 || nD4 t2 nF#4 t2 nA4 t2 nE5 t2 || nF#3 t1 nB-3 t1 nC#4 t1 || nF#3 t2 nB-3 t2</th>\n",
       "  </tr>\n",
       "  <tr>\n",
       "    <th>2</th>\n",
       "    <th>t2 nB3 t2 nD5 t2 || nE3 t2 nG3 t2 nB3 t2 nB4 t1 || nE3 t2 nG3 t2 nB3 t2 nB4 t2 || nE3 t2 nG3 t2 nB3 t2 nE5 t1 || nE3 t2 nG3 t2 nB3 t2 nE5 t2 || nD4 t1 nG4 t1 nB4 t1 nE5 t2 || nD4 t2 nG4 t2 nB4 t2 nE5 t2 || nD4 t2 nG4 t2 nB4 t2 nD5 t1 || nD4</th>\n",
       "  </tr>\n",
       "  <tr>\n",
       "    <th>3</th>\n",
       "    <th>t2 nE-5 t1 || nG#3 t2 nB3 t2 nE-4 t2 nG#5 t1 || nG#3 t2 nB3 t2 nE-4 t2 nG#5 t2 || nG#3 t2 nB3 t2 nE-4 t2 nG#5 t2 || nG#3 t2 nB3 t2 nE-4 t2 nG#5 t2 || nG#3 t2 nB3 t2 nE-4 t2 nE-5 t1 || nG#3 t2 nB3 t2 nE-4 t2 nE-5 t2 || nG#3 t2 nB3 t2 nE-4 t2 nE-5 t2 || nG#3 t2 nB3</th>\n",
       "  </tr>\n",
       "  <tr>\n",
       "    <th>4</th>\n",
       "    <th>nC4 t2 nF4 t2 || nB-3 t2 nC4 t2 nF4 t2 || nB-3 t2 nC4 t2 nF4 t2 || nB-3 t2 nC4 t2 nF4 t2 || nB-3 t2 nC4 t2 nF4 t2 || nB-3 t2 nC4 t2 nF4 t2 || nB-3 t2 nC4 t2 nF4 t2 || nB-3 t2 nC4 t2 nF4 t2 || nB-3 t2 nC4 t2 nF4 t2 || nB-3 t2 nC4 t2 nF4 t2 || nB-3 t2</th>\n",
       "  </tr>\n",
       "</table>\n"
      ],
      "text/plain": [
       "<IPython.core.display.HTML object>"
      ]
     },
     "metadata": {},
     "output_type": "display_data"
    }
   ],
   "source": [
    "data.show_batch()"
   ]
  },
  {
   "cell_type": "code",
   "execution_count": 18,
   "metadata": {},
   "outputs": [],
   "source": [
    "ob = data.one_batch()"
   ]
  },
  {
   "cell_type": "code",
   "execution_count": 19,
   "metadata": {},
   "outputs": [
    {
     "data": {
      "text/plain": [
       "'t2 nF4 t2 nA4 t2 || nF3 t1 nG#3 t1 nC4 t1 || nF3 t2 nG#3 t2 nC4 t2 || nF3 t2 nG#3 t2 nC4 t2 || nF3 t2 nG#3 t2 nC4 t2 || nF3 t2 nG#3 t2 nC4 t2 || nF3 t2 nG#3 t2 nC4 t2 || nF3 t2 nG#3 t2 nC4 t2 || nF3 t2 nG#3 t2 nC4 t2 || nF3 t2 nG#3 t2 nC4 t2 || nF3'"
      ]
     },
     "execution_count": 19,
     "metadata": {},
     "output_type": "execute_result"
    }
   ],
   "source": [
    "txt_out = data.vocab.textify(ob[0][0]).replace('xxbos ', ''); txt_out"
   ]
  },
  {
   "cell_type": "code",
   "execution_count": 20,
   "metadata": {},
   "outputs": [],
   "source": [
    "from encode_data import *"
   ]
  },
  {
   "cell_type": "code",
   "execution_count": 21,
   "metadata": {},
   "outputs": [],
   "source": [
    "one_text = data.train_ds[0][0].text"
   ]
  },
  {
   "cell_type": "code",
   "execution_count": 23,
   "metadata": {},
   "outputs": [],
   "source": [
    "seq = str2seq(one_text); seq"
   ]
  },
  {
   "cell_type": "code",
   "execution_count": 33,
   "metadata": {},
   "outputs": [],
   "source": [
    "s = str2stream(one_text)"
   ]
  },
  {
   "cell_type": "code",
   "execution_count": null,
   "metadata": {},
   "outputs": [],
   "source": [
    "s.show('midi')"
   ]
  },
  {
   "cell_type": "code",
   "execution_count": 35,
   "metadata": {},
   "outputs": [
    {
     "name": "stdout",
     "output_type": "stream",
     "text": [
      "{0.0} <music21.stream.Part 0x7f23957414a8>\n",
      "    {0.0} <music21.instrument.Piano Piano>\n",
      "    {0.0} <music21.meter.TimeSignature 4/4>\n",
      "    {0.0} <music21.key.KeySignature of no sharps or flats>\n",
      "    {0.0} <music21.chord.Chord F4>\n",
      "    {0.25} <music21.chord.Chord E4>\n",
      "    {0.5} <music21.chord.Chord G3>\n",
      "    {0.75} <music21.chord.Chord E-4>\n",
      "    {1.0} <music21.chord.Chord D4>\n",
      "    {1.25} <music21.chord.Chord G3>\n",
      "    {1.5} <music21.chord.Chord E-4>\n",
      "    {1.75} <music21.chord.Chord D4>\n",
      "    {2.0} <music21.chord.Chord G3>\n",
      "    {2.75} <music21.chord.Chord F4>\n",
      "    {3.0} <music21.chord.Chord E4>\n",
      "    {3.25} <music21.chord.Chord F4>\n",
      "    {3.5} <music21.chord.Chord B4>\n",
      "    {3.75} <music21.chord.Chord D4 F4 A4>\n",
      "    {7.75} <music21.chord.Chord D4 F4 G4 B-4>\n",
      "    {9.75} <music21.chord.Chord D4 F4 A4>\n",
      "    {11.75} <music21.chord.Chord F3 G#3 C4>\n",
      "    {17.75} <music21.chord.Chord F3 G3 B-3 D4>\n",
      "    {18.75} <music21.chord.Chord G3 A3 C4 E4>\n",
      "    {19.75} <music21.chord.Chord B-3 C#4 F4>\n",
      "    {23.75} <music21.chord.Chord E-4 F#4 B-4 C5>\n",
      "    {25.75} <music21.chord.Chord B-3 C#4 F4>\n",
      "    {27.75} <music21.chord.Chord C#4 E4 G#4>\n"
     ]
    }
   ],
   "source": [
    "s.show('text')"
   ]
  },
  {
   "cell_type": "code",
   "execution_count": null,
   "metadata": {},
   "outputs": [],
   "source": [
    "s.flat.show()"
   ]
  },
  {
   "cell_type": "code",
   "execution_count": null,
   "metadata": {},
   "outputs": [],
   "source": []
  }
 ],
 "metadata": {
  "kernelspec": {
   "display_name": "Python 3",
   "language": "python",
   "name": "python3"
  },
  "language_info": {
   "codemirror_mode": {
    "name": "ipython",
    "version": 3
   },
   "file_extension": ".py",
   "mimetype": "text/x-python",
   "name": "python",
   "nbconvert_exporter": "python",
   "pygments_lexer": "ipython3",
   "version": "3.7.2"
  }
 },
 "nbformat": 4,
 "nbformat_minor": 2
}

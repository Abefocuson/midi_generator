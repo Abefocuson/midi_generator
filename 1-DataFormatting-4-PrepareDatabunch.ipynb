{
 "cells": [
  {
   "cell_type": "markdown",
   "metadata": {},
   "source": [
    "# Tokenize and save data"
   ]
  },
  {
   "cell_type": "code",
   "execution_count": 1,
   "metadata": {},
   "outputs": [],
   "source": [
    "%reload_ext autoreload\n",
    "%autoreload 2\n",
    "%matplotlib inline"
   ]
  },
  {
   "cell_type": "code",
   "execution_count": 2,
   "metadata": {},
   "outputs": [],
   "source": [
    "from fastai.text import *"
   ]
  },
  {
   "cell_type": "code",
   "execution_count": 3,
   "metadata": {},
   "outputs": [],
   "source": [
    "import pandas as pd\n",
    "from fastai_data import *"
   ]
  },
  {
   "cell_type": "markdown",
   "metadata": {},
   "source": [
    "## Preparing the data"
   ]
  },
  {
   "cell_type": "code",
   "execution_count": 4,
   "metadata": {},
   "outputs": [
    {
     "data": {
      "text/plain": [
       "[PosixPath('data/midi/midi_transcribe_v2_shortdur/ecomp'),\n",
       " PosixPath('data/midi/midi_transcribe_v2_shortdur/classic_piano'),\n",
       " PosixPath('data/midi/midi_transcribe_v2_shortdur/cprato'),\n",
       " PosixPath('data/midi/midi_transcribe_v2_shortdur/freemidi'),\n",
       " PosixPath('data/midi/midi_transcribe_v2_shortdur/midiworld')]"
      ]
     },
     "execution_count": 4,
     "metadata": {},
     "output_type": "execute_result"
    }
   ],
   "source": [
    "source_dir = 'midi_transcribe_v2_shortdur'\n",
    "path = Path(f'data/midi/{source_dir}/')\n",
    "csv_path = path/f'{source_dir}.csv'\n",
    "path.ls()[:5]"
   ]
  },
  {
   "cell_type": "code",
   "execution_count": 5,
   "metadata": {},
   "outputs": [
    {
     "name": "stderr",
     "output_type": "stream",
     "text": [
      "/home/ubuntu/anaconda3/envs/midi/lib/python3.7/site-packages/IPython/core/interactiveshell.py:3020: DtypeWarning: Columns (2,10,11,16,18) have mixed types. Specify dtype option on import or set low_memory=False.\n",
      "  interactivity=interactivity, compiler=compiler, result=result)\n"
     ]
    }
   ],
   "source": [
    "csv = pd.read_csv(csv_path)\n",
    "csv = csv.loc[csv[source_dir].notna()];"
   ]
  },
  {
   "cell_type": "code",
   "execution_count": 6,
   "metadata": {},
   "outputs": [],
   "source": [
    "def create_databunch(files, cache_name, vocab=None, batch_size=32, load_cached=True):\n",
    "    if load_cached and (path/f'{cache_name}/itos.pkl').exists():\n",
    "        data = TextLMDataBunch.load(path, bs=batch_size, cache_name=cache_name)\n",
    "        data.valid_ds.x.processor[0] = TokenizeProcessor(tokenizer=MusicTokenizer())\n",
    "    else:\n",
    "        ps = [LMOpenFileProcessor(), \n",
    "             LMTokenizeProcessor(tokenizer=MusicTokenizer(), chunksize=num_cpus()*20),\n",
    "             LMNumericalizeProcessor(vocab=vocab, max_vocab=500)]\n",
    "\n",
    "        data = (TextList(items=files, path=path, processor=ps)\n",
    "                .random_split_by_pct(0.01, seed=6)\n",
    "                .label_for_lm()\n",
    "                .databunch(bs=batch_size))\n",
    "        data.save(cache_name)\n",
    "    vocab = data.train_ds.vocab\n",
    "    return data, vocab"
   ]
  },
  {
   "cell_type": "code",
   "execution_count": 7,
   "metadata": {},
   "outputs": [],
   "source": [
    "def get_files(csv):\n",
    "    files = csv[source_dir]\n",
    "    flist = [Path(f) for f in files.values]\n",
    "    flist = [f for f in flist if f.exists()]\n",
    "    return flist"
   ]
  },
  {
   "cell_type": "markdown",
   "metadata": {},
   "source": [
    "### Create Pop Dataset"
   ]
  },
  {
   "cell_type": "code",
   "execution_count": 8,
   "metadata": {},
   "outputs": [],
   "source": [
    "pop_csv = csv.loc[csv.source.isin(['midiworld', 'hooktheory', 'freemidi', 'cprato'])]\n",
    "pop_files = get_files(pop_csv)"
   ]
  },
  {
   "cell_type": "code",
   "execution_count": 9,
   "metadata": {},
   "outputs": [
    {
     "name": "stdout",
     "output_type": "stream",
     "text": [
      "Numericalizing\n"
     ]
    }
   ],
   "source": [
    "pop_data, pop_vocab = create_databunch(pop_files, cache_name='tmp_pop')"
   ]
  },
  {
   "cell_type": "markdown",
   "metadata": {},
   "source": [
    "## Create Classical Dataset"
   ]
  },
  {
   "cell_type": "code",
   "execution_count": 10,
   "metadata": {},
   "outputs": [],
   "source": [
    "# csv_filter = csv.loc[csv[f'{source_dir}_timesteps'] < 20000]\n",
    "clc_csv = csv.loc[csv.source.isin(['classical_piano', 'ecomp'])]\n",
    "clc_files = get_files(clc_csv)"
   ]
  },
  {
   "cell_type": "markdown",
   "metadata": {},
   "source": [
    "Note: we are using pop_vocab because we ultimately want to generate pop music"
   ]
  },
  {
   "cell_type": "code",
   "execution_count": 11,
   "metadata": {},
   "outputs": [
    {
     "name": "stdout",
     "output_type": "stream",
     "text": [
      "Numericalizing\n"
     ]
    }
   ],
   "source": [
    "clc_data, clc_vocab = create_databunch(clc_files, cache_name='tmp_clc', vocab=pop_vocab, load_cached=False)"
   ]
  },
  {
   "cell_type": "markdown",
   "metadata": {},
   "source": [
    "### Testing"
   ]
  },
  {
   "cell_type": "code",
   "execution_count": 12,
   "metadata": {},
   "outputs": [],
   "source": [
    "data = pop_data"
   ]
  },
  {
   "cell_type": "code",
   "execution_count": 13,
   "metadata": {},
   "outputs": [
    {
     "data": {
      "text/html": [
       "<table>  <col width='5%'>  <col width='95%'>  <tr>\n",
       "    <th>idx</th>\n",
       "    <th>text</th>\n",
       "  </tr>\n",
       "  <tr>\n",
       "    <th>0</th>\n",
       "    <th>t8 || t7 nE3 t8 nG3 t8 nB3 t8 || t7 nG2 t24 nB-2 t24 nD3 t24 || t23 nG2 t4 nA2 t4 nC3 t4 nE3 t4 || t3 nA2 t4 nB2 t4 nD3 t4 nF#3 t4 || t3 nC3 t16 nE-3 t16 nG3 t16 || t15 nF3 t8 nG#3 t8 nC4 t8 nD4 t8 || t7 nC3 t8 nE-3 t8 nG3 t8 || t7 nE-3 t16 nF#3 t16 nB-3</th>\n",
       "  </tr>\n",
       "  <tr>\n",
       "    <th>1</th>\n",
       "    <th>t5 nA2 t32 nC#3 t32 nE3 t32 || t3 nE-5 t1 || t0 nD5 t1 || t0 nC5 t1 || t0 nA4 t1 || t0 nD5 t2 || t1 nC5 t1 || t0 nA4 t2 || t1 nG4 t1 || t0 nG4 t1 || t0 nA4 t2 || t1 nD4 t1 || t0 nC4 t1 || t0 nA3 t2 || t1 nG3 t3 xxbos || t0 nF2 t16 nA2 t16</th>\n",
       "  </tr>\n",
       "  <tr>\n",
       "    <th>2</th>\n",
       "    <th>nA4 t4 || t3 nF3 t4 nA3 t4 nC4 t4 nC5 t2 || t1 nA4 t6 || t1 nF3 t4 nA3 t4 nC4 t4 || t3 nF3 t4 nA3 t4 nC4 t4 nG4 t2 || t1 nF4 t6 || t1 nF3 t4 nA3 t4 nC4 t4 || t3 nF3 t4 nA3 t4 nC4 t2 nE4 t2 || t3 nF3 t4 nA3 t4 nC4 t2 || t1 nD4 t4 || t1</th>\n",
       "  </tr>\n",
       "  <tr>\n",
       "    <th>3</th>\n",
       "    <th>nA5 t4 || t3 nB5 t2 || t1 nE2 t10 nG2 t10 nB2 t10 nD3 t10 nF#5 t4 || t3 nD5 t2 || t1 nB4 t2 || t1 nD5 t2 || t1 nA2 t6 nC3 t6 nE3 t6 nG3 t6 nF#5 t2 || t1 nG5 t2 || t1 nA5 t2 || t1 nD2 t10 nF#2 t10 nC3 t10 nE3 t10 nB5 t2 || t1 nC6 t1 || t0 nB5 t1</th>\n",
       "  </tr>\n",
       "  <tr>\n",
       "    <th>4</th>\n",
       "    <th>|| t0 nF#3 t1 nA4 t2 nA5 t4 || t0 nF#2 t2 nD3 t2 nF#3 t1 nG5 t4 nB-5 t2 || t0 nF#3 t1 nA4 t2 || t0 nD2 t2 nE2 t8 nF#2 t2 nF#3 t1 nF5 t4 nA5 t2 nB-5 t2 || t0 nF#3 t1 nA4 t2 || t0 nF#2 t2 nD3 t2 nF#3 t1 nE5 t4 nG5 t1 nB-5 t2 || t0 nF#3 t1 nA4 t1 || t0</th>\n",
       "  </tr>\n",
       "</table>\n"
      ],
      "text/plain": [
       "<IPython.core.display.HTML object>"
      ]
     },
     "metadata": {},
     "output_type": "display_data"
    }
   ],
   "source": [
    "data.show_batch()"
   ]
  },
  {
   "cell_type": "code",
   "execution_count": 14,
   "metadata": {},
   "outputs": [],
   "source": [
    "ob = data.one_batch()"
   ]
  },
  {
   "cell_type": "code",
   "execution_count": 15,
   "metadata": {},
   "outputs": [
    {
     "data": {
      "text/plain": [
       "'t16 || t0 nC4 t2 || t1 nE5 t2 || t1 nG4 t2 || t1 nC5 t2 || t1 nC4 t2 || t1 nE5 t2 || t1 nG4 t2 || t1 nC5 t2 || t1 nC3 t2 nE3 t4 nG3 t8 || t5 nF3 t2 || t1 nB2 t8 nD3 t8 nG3 t4 || t1 nE3 t2 || t1 nA3 t2 || t1 nB3 t2 || t1 nA2 t8'"
      ]
     },
     "execution_count": 15,
     "metadata": {},
     "output_type": "execute_result"
    }
   ],
   "source": [
    "txt_out = data.vocab.textify(ob[0][0]).replace('xxbos ', ''); txt_out"
   ]
  },
  {
   "cell_type": "code",
   "execution_count": 16,
   "metadata": {},
   "outputs": [],
   "source": [
    "from encode_data import *"
   ]
  },
  {
   "cell_type": "code",
   "execution_count": 17,
   "metadata": {},
   "outputs": [],
   "source": [
    "one_text = data.train_ds[0][0].text"
   ]
  },
  {
   "cell_type": "code",
   "execution_count": 18,
   "metadata": {},
   "outputs": [
    {
     "data": {
      "text/plain": [
       "[[],\n",
       " [],\n",
       " [G3t1],\n",
       " [F#3t1],\n",
       " [A2t1],\n",
       " [F3t1],\n",
       " [E3t1],\n",
       " [A2t1],\n",
       " [F3t1],\n",
       " [E3t1],\n",
       " [A2t3],\n",
       " [],\n",
       " [],\n",
       " [G3t1],\n",
       " [F#3t1],\n",
       " [G3t1],\n",
       " [C#4t1],\n",
       " [E3t16, G3t16, B3t16],\n",
       " [],\n",
       " [],\n",
       " [],\n",
       " [],\n",
       " [],\n",
       " [],\n",
       " [],\n",
       " [],\n",
       " [],\n",
       " [],\n",
       " [],\n",
       " [],\n",
       " [],\n",
       " [],\n",
       " [],\n",
       " [E3t8, G3t8, A3t8, C4t8],\n",
       " [],\n",
       " [],\n",
       " [],\n",
       " [],\n",
       " [],\n",
       " [],\n",
       " [],\n",
       " [E3t8, G3t8, B3t8],\n",
       " [],\n",
       " [],\n",
       " [],\n",
       " [],\n",
       " [],\n",
       " [],\n",
       " [],\n",
       " [G2t24, B-2t24, D3t24],\n",
       " [],\n",
       " [],\n",
       " [],\n",
       " [],\n",
       " [],\n",
       " [],\n",
       " [],\n",
       " [],\n",
       " [],\n",
       " [],\n",
       " [],\n",
       " [],\n",
       " [],\n",
       " [],\n",
       " [],\n",
       " [],\n",
       " [],\n",
       " [],\n",
       " [],\n",
       " [],\n",
       " [],\n",
       " [],\n",
       " [],\n",
       " [G2t4, A2t4, C3t4, E3t4],\n",
       " [],\n",
       " [],\n",
       " [],\n",
       " [A2t4, B2t4, D3t4, F#3t4],\n",
       " [],\n",
       " [],\n",
       " [],\n",
       " [C3t16, E-3t16, G3t16],\n",
       " [],\n",
       " [],\n",
       " [],\n",
       " [],\n",
       " [],\n",
       " [],\n",
       " [],\n",
       " [],\n",
       " [],\n",
       " [],\n",
       " [],\n",
       " [],\n",
       " [],\n",
       " [],\n",
       " [],\n",
       " [F3t8, G#3t8, C4t8, D4t8],\n",
       " [],\n",
       " [],\n",
       " [],\n",
       " [],\n",
       " [],\n",
       " [],\n",
       " [],\n",
       " [C3t8, E-3t8, G3t8],\n",
       " [],\n",
       " [],\n",
       " [],\n",
       " [],\n",
       " [],\n",
       " [],\n",
       " [],\n",
       " [E-3t16, F#3t16, B-3t16]]"
      ]
     },
     "execution_count": 18,
     "metadata": {},
     "output_type": "execute_result"
    }
   ],
   "source": [
    "seq = str2seq(one_text); seq"
   ]
  },
  {
   "cell_type": "code",
   "execution_count": 19,
   "metadata": {},
   "outputs": [],
   "source": [
    "s = str2stream(one_text)"
   ]
  },
  {
   "cell_type": "code",
   "execution_count": 20,
   "metadata": {},
   "outputs": [
    {
     "data": {
      "text/html": [
       "\n",
       "                <div id='midiPlayerDiv215'></div>\n",
       "                <link rel=\"stylesheet\" href=\"//cuthbertLab.github.io/music21j/css/m21.css\"\n",
       "                    type=\"text/css\" />\n",
       "                <script>\n",
       "                require.config({\n",
       "                    paths: {'music21': '//cuthbertLab.github.io/music21j/src/music21'}\n",
       "                });\n",
       "                require(['music21'], function() {\n",
       "                               mp = new music21.miditools.MidiPlayer();\n",
       "                               mp.addPlayer('#midiPlayerDiv215');\n",
       "                               mp.base64Load('data:audio/midi;base64,TVRoZAAAAAYAAQABBABNVHJrAAABvQD/AwVQaWFubwDAAADgAEAAwAAA/1EDB6EgAP9ZAgAAAP9YBAQCGAiEAJA3WoIAgDcAAJA2WoIAgDYAAJAtWoIAgC0AAJA1WoIAgDUAAJA0WoIAgDQAAJAtWoIAgC0AAJA1WoIAgDUAAJA0WoIAgDQAAJAtWoYAgC0AAJA3WoIAgDcAAJA2WoIAgDYAAJA3WoIAgDcAAJA9WoIAgD0AAJA0WgCQN1oAkDtaoACANAAAgDcAAIA7AACQNFoAkDdaAJA5WgCQPFqQAIA0AACANwAAgDkAAIA8AACQNFoAkDdaAJA7WpAAgDQAAIA3AACAOwAAkCtaAJAuWgCQMlqwAIArAACALgAAgDIAAJArWgCQLVoAkDBaAJA0WogAgCsAAIAtAACAMAAAgDQAAJAtWgCQL1oAkDJaAJA2WogAgC0AAIAvAACAMgAAgDYAAJAwWgCQM1oAkDdaoACAMAAAgDMAAIA3AACQNVoAkDhaAJA8WgCQPlqQAIA1AACAOAAAgDwAAIA+AACQMFoAkDNaAJA3WpAAgDAAAIAzAACANwAAkDNaAJA2WgCQOlqgAIAzAACANgAAgDoAiAD/LwA=');\n",
       "                        });\n",
       "                </script>"
      ],
      "text/plain": [
       "<IPython.core.display.HTML object>"
      ]
     },
     "metadata": {},
     "output_type": "display_data"
    }
   ],
   "source": [
    "s.show('midi')"
   ]
  },
  {
   "cell_type": "code",
   "execution_count": 21,
   "metadata": {},
   "outputs": [
    {
     "name": "stdout",
     "output_type": "stream",
     "text": [
      "{0.0} <music21.stream.Part 0x7ff3d36ff358>\n",
      "    {0.0} <music21.instrument.Piano Piano>\n",
      "    {0.0} <music21.meter.TimeSignature 4/4>\n",
      "    {0.0} <music21.tempo.MetronomeMark animato Quarter=120>\n",
      "    {0.0} <music21.key.KeySignature of no sharps or flats>\n",
      "    {0.5} <music21.chord.Chord G3>\n",
      "    {0.75} <music21.chord.Chord F#3>\n",
      "    {1.0} <music21.chord.Chord A2>\n",
      "    {1.25} <music21.chord.Chord F3>\n",
      "    {1.5} <music21.chord.Chord E3>\n",
      "    {1.75} <music21.chord.Chord A2>\n",
      "    {2.0} <music21.chord.Chord F3>\n",
      "    {2.25} <music21.chord.Chord E3>\n",
      "    {2.5} <music21.chord.Chord A2>\n",
      "    {3.25} <music21.chord.Chord G3>\n",
      "    {3.5} <music21.chord.Chord F#3>\n",
      "    {3.75} <music21.chord.Chord G3>\n",
      "    {4.0} <music21.chord.Chord C#4>\n",
      "    {4.25} <music21.chord.Chord E3 G3 B3>\n",
      "    {8.25} <music21.chord.Chord E3 G3 A3 C4>\n",
      "    {10.25} <music21.chord.Chord E3 G3 B3>\n",
      "    {12.25} <music21.chord.Chord G2 B-2 D3>\n",
      "    {18.25} <music21.chord.Chord G2 A2 C3 E3>\n",
      "    {19.25} <music21.chord.Chord A2 B2 D3 F#3>\n",
      "    {20.25} <music21.chord.Chord C3 E-3 G3>\n",
      "    {24.25} <music21.chord.Chord F3 G#3 C4 D4>\n",
      "    {26.25} <music21.chord.Chord C3 E-3 G3>\n",
      "    {28.25} <music21.chord.Chord E-3 F#3 B-3>\n"
     ]
    }
   ],
   "source": [
    "s.show('text')"
   ]
  },
  {
   "cell_type": "code",
   "execution_count": 22,
   "metadata": {},
   "outputs": [
    {
     "ename": "TypeError",
     "evalue": "append() argument must be xml.etree.ElementTree.Element, not Element",
     "output_type": "error",
     "traceback": [
      "\u001b[0;31m---------------------------------------------------------------------------\u001b[0m",
      "\u001b[0;31mTypeError\u001b[0m                                 Traceback (most recent call last)",
      "\u001b[0;32m<ipython-input-22-9ab9b4c353fc>\u001b[0m in \u001b[0;36m<module>\u001b[0;34m\u001b[0m\n\u001b[0;32m----> 1\u001b[0;31m \u001b[0ms\u001b[0m\u001b[0;34m.\u001b[0m\u001b[0mflat\u001b[0m\u001b[0;34m.\u001b[0m\u001b[0mshow\u001b[0m\u001b[0;34m(\u001b[0m\u001b[0;34m)\u001b[0m\u001b[0;34m\u001b[0m\u001b[0;34m\u001b[0m\u001b[0m\n\u001b[0m",
      "\u001b[0;32m~/anaconda3/envs/midi/lib/python3.7/site-packages/music21/stream/__init__.py\u001b[0m in \u001b[0;36mshow\u001b[0;34m(self, *args, **kwargs)\u001b[0m\n\u001b[1;32m    256\u001b[0m         \u001b[0;32mif\u001b[0m \u001b[0mself\u001b[0m\u001b[0;34m.\u001b[0m\u001b[0misSorted\u001b[0m \u001b[0;32mis\u001b[0m \u001b[0;32mFalse\u001b[0m \u001b[0;32mand\u001b[0m \u001b[0mself\u001b[0m\u001b[0;34m.\u001b[0m\u001b[0mautoSort\u001b[0m\u001b[0;34m:\u001b[0m\u001b[0;34m\u001b[0m\u001b[0;34m\u001b[0m\u001b[0m\n\u001b[1;32m    257\u001b[0m             \u001b[0mself\u001b[0m\u001b[0;34m.\u001b[0m\u001b[0msort\u001b[0m\u001b[0;34m(\u001b[0m\u001b[0;34m)\u001b[0m\u001b[0;34m\u001b[0m\u001b[0;34m\u001b[0m\u001b[0m\n\u001b[0;32m--> 258\u001b[0;31m         \u001b[0;32mreturn\u001b[0m \u001b[0msuper\u001b[0m\u001b[0;34m(\u001b[0m\u001b[0;34m)\u001b[0m\u001b[0;34m.\u001b[0m\u001b[0mshow\u001b[0m\u001b[0;34m(\u001b[0m\u001b[0;34m*\u001b[0m\u001b[0margs\u001b[0m\u001b[0;34m,\u001b[0m \u001b[0;34m**\u001b[0m\u001b[0mkwargs\u001b[0m\u001b[0;34m)\u001b[0m\u001b[0;34m\u001b[0m\u001b[0;34m\u001b[0m\u001b[0m\n\u001b[0m\u001b[1;32m    259\u001b[0m \u001b[0;34m\u001b[0m\u001b[0m\n\u001b[1;32m    260\u001b[0m     \u001b[0;31m#---------------------------------------------------------------------------\u001b[0m\u001b[0;34m\u001b[0m\u001b[0;34m\u001b[0m\u001b[0;34m\u001b[0m\u001b[0m\n",
      "\u001b[0;32m~/anaconda3/envs/midi/lib/python3.7/site-packages/music21/base.py\u001b[0m in \u001b[0;36mshow\u001b[0;34m(self, fmt, app, **keywords)\u001b[0m\n\u001b[1;32m   2578\u001b[0m                                  \u001b[0mapp\u001b[0m\u001b[0;34m=\u001b[0m\u001b[0mapp\u001b[0m\u001b[0;34m,\u001b[0m\u001b[0;34m\u001b[0m\u001b[0;34m\u001b[0m\u001b[0m\n\u001b[1;32m   2579\u001b[0m                                  \u001b[0msubformats\u001b[0m\u001b[0;34m=\u001b[0m\u001b[0msubformats\u001b[0m\u001b[0;34m,\u001b[0m\u001b[0;34m\u001b[0m\u001b[0;34m\u001b[0m\u001b[0m\n\u001b[0;32m-> 2580\u001b[0;31m                                  **keywords)\n\u001b[0m\u001b[1;32m   2581\u001b[0m \u001b[0;34m\u001b[0m\u001b[0m\n\u001b[1;32m   2582\u001b[0m     \u001b[0;31m#--------------------------------------------------------------------------\u001b[0m\u001b[0;34m\u001b[0m\u001b[0;34m\u001b[0m\u001b[0;34m\u001b[0m\u001b[0m\n",
      "\u001b[0;32m~/anaconda3/envs/midi/lib/python3.7/site-packages/music21/converter/subConverters.py\u001b[0m in \u001b[0;36mshow\u001b[0;34m(self, obj, fmt, app, subformats, **keywords)\u001b[0m\n\u001b[1;32m    358\u001b[0m             \u001b[0;32mfor\u001b[0m \u001b[0ms\u001b[0m \u001b[0;32min\u001b[0m \u001b[0mscores\u001b[0m\u001b[0;34m:\u001b[0m\u001b[0;34m\u001b[0m\u001b[0;34m\u001b[0m\u001b[0m\n\u001b[1;32m    359\u001b[0m                 fp = helperSubConverter.write(s, helperFormat,\n\u001b[0;32m--> 360\u001b[0;31m                                               subformats=helperSubformats, **keywords)\n\u001b[0m\u001b[1;32m    361\u001b[0m \u001b[0;34m\u001b[0m\u001b[0m\n\u001b[1;32m    362\u001b[0m                 \u001b[0;32mif\u001b[0m \u001b[0mhelperSubformats\u001b[0m\u001b[0;34m[\u001b[0m\u001b[0;36m0\u001b[0m\u001b[0;34m]\u001b[0m \u001b[0;34m==\u001b[0m \u001b[0;34m'png'\u001b[0m\u001b[0;34m:\u001b[0m\u001b[0;34m\u001b[0m\u001b[0;34m\u001b[0m\u001b[0m\n",
      "\u001b[0;32m~/anaconda3/envs/midi/lib/python3.7/site-packages/music21/converter/subConverters.py\u001b[0m in \u001b[0;36mwrite\u001b[0;34m(self, obj, fmt, fp, subformats, **keywords)\u001b[0m\n\u001b[1;32m    925\u001b[0m \u001b[0;34m\u001b[0m\u001b[0m\n\u001b[1;32m    926\u001b[0m         \u001b[0mgeneralExporter\u001b[0m \u001b[0;34m=\u001b[0m \u001b[0mm21ToXml\u001b[0m\u001b[0;34m.\u001b[0m\u001b[0mGeneralObjectExporter\u001b[0m\u001b[0;34m(\u001b[0m\u001b[0mobj\u001b[0m\u001b[0;34m)\u001b[0m\u001b[0;34m\u001b[0m\u001b[0;34m\u001b[0m\u001b[0m\n\u001b[0;32m--> 927\u001b[0;31m         \u001b[0mdataBytes\u001b[0m \u001b[0;34m=\u001b[0m \u001b[0mgeneralExporter\u001b[0m\u001b[0;34m.\u001b[0m\u001b[0mparse\u001b[0m\u001b[0;34m(\u001b[0m\u001b[0;34m)\u001b[0m\u001b[0;34m\u001b[0m\u001b[0;34m\u001b[0m\u001b[0m\n\u001b[0m\u001b[1;32m    928\u001b[0m         \u001b[0mfp\u001b[0m \u001b[0;34m=\u001b[0m \u001b[0mself\u001b[0m\u001b[0;34m.\u001b[0m\u001b[0mwriteDataStream\u001b[0m\u001b[0;34m(\u001b[0m\u001b[0mfp\u001b[0m\u001b[0;34m,\u001b[0m \u001b[0mdataBytes\u001b[0m\u001b[0;34m)\u001b[0m\u001b[0;34m\u001b[0m\u001b[0;34m\u001b[0m\u001b[0m\n\u001b[1;32m    929\u001b[0m \u001b[0;34m\u001b[0m\u001b[0m\n",
      "\u001b[0;32m~/anaconda3/envs/midi/lib/python3.7/site-packages/music21/musicxml/m21ToXml.py\u001b[0m in \u001b[0;36mparse\u001b[0;34m(self, obj)\u001b[0m\n\u001b[1;32m    361\u001b[0m         \u001b[0moutObj\u001b[0m \u001b[0;34m=\u001b[0m \u001b[0mself\u001b[0m\u001b[0;34m.\u001b[0m\u001b[0mfromGeneralObject\u001b[0m\u001b[0;34m(\u001b[0m\u001b[0mobj\u001b[0m\u001b[0;34m)\u001b[0m\u001b[0;34m\u001b[0m\u001b[0;34m\u001b[0m\u001b[0m\n\u001b[1;32m    362\u001b[0m         \u001b[0;31m# TODO: set whether to do an additional score copy in submethods.\u001b[0m\u001b[0;34m\u001b[0m\u001b[0;34m\u001b[0m\u001b[0;34m\u001b[0m\u001b[0m\n\u001b[0;32m--> 363\u001b[0;31m         \u001b[0;32mreturn\u001b[0m \u001b[0mself\u001b[0m\u001b[0;34m.\u001b[0m\u001b[0mparseWellformedObject\u001b[0m\u001b[0;34m(\u001b[0m\u001b[0moutObj\u001b[0m\u001b[0;34m)\u001b[0m\u001b[0;34m\u001b[0m\u001b[0;34m\u001b[0m\u001b[0m\n\u001b[0m\u001b[1;32m    364\u001b[0m \u001b[0;34m\u001b[0m\u001b[0m\n\u001b[1;32m    365\u001b[0m     \u001b[0;32mdef\u001b[0m \u001b[0mparseWellformedObject\u001b[0m\u001b[0;34m(\u001b[0m\u001b[0mself\u001b[0m\u001b[0;34m,\u001b[0m \u001b[0msc\u001b[0m\u001b[0;34m)\u001b[0m\u001b[0;34m:\u001b[0m\u001b[0;34m\u001b[0m\u001b[0;34m\u001b[0m\u001b[0m\n",
      "\u001b[0;32m~/anaconda3/envs/midi/lib/python3.7/site-packages/music21/musicxml/m21ToXml.py\u001b[0m in \u001b[0;36mparseWellformedObject\u001b[0;34m(self, sc)\u001b[0m\n\u001b[1;32m    369\u001b[0m         '''\n\u001b[1;32m    370\u001b[0m         \u001b[0mscoreExporter\u001b[0m \u001b[0;34m=\u001b[0m \u001b[0mScoreExporter\u001b[0m\u001b[0;34m(\u001b[0m\u001b[0msc\u001b[0m\u001b[0;34m)\u001b[0m\u001b[0;34m\u001b[0m\u001b[0;34m\u001b[0m\u001b[0m\n\u001b[0;32m--> 371\u001b[0;31m         \u001b[0mscoreExporter\u001b[0m\u001b[0;34m.\u001b[0m\u001b[0mparse\u001b[0m\u001b[0;34m(\u001b[0m\u001b[0;34m)\u001b[0m\u001b[0;34m\u001b[0m\u001b[0;34m\u001b[0m\u001b[0m\n\u001b[0m\u001b[1;32m    372\u001b[0m         \u001b[0;32mreturn\u001b[0m \u001b[0mscoreExporter\u001b[0m\u001b[0;34m.\u001b[0m\u001b[0masBytes\u001b[0m\u001b[0;34m(\u001b[0m\u001b[0;34m)\u001b[0m\u001b[0;34m\u001b[0m\u001b[0;34m\u001b[0m\u001b[0m\n\u001b[1;32m    373\u001b[0m \u001b[0;34m\u001b[0m\u001b[0m\n",
      "\u001b[0;32m~/anaconda3/envs/midi/lib/python3.7/site-packages/music21/musicxml/m21ToXml.py\u001b[0m in \u001b[0;36mparse\u001b[0;34m(self)\u001b[0m\n\u001b[1;32m   1360\u001b[0m \u001b[0;34m\u001b[0m\u001b[0m\n\u001b[1;32m   1361\u001b[0m         \u001b[0;32mif\u001b[0m \u001b[0ms\u001b[0m\u001b[0;34m.\u001b[0m\u001b[0mhasPartLikeStreams\u001b[0m\u001b[0;34m(\u001b[0m\u001b[0;34m)\u001b[0m\u001b[0;34m:\u001b[0m\u001b[0;34m\u001b[0m\u001b[0;34m\u001b[0m\u001b[0m\n\u001b[0;32m-> 1362\u001b[0;31m             \u001b[0mself\u001b[0m\u001b[0;34m.\u001b[0m\u001b[0mparsePartlikeScore\u001b[0m\u001b[0;34m(\u001b[0m\u001b[0;34m)\u001b[0m\u001b[0;34m\u001b[0m\u001b[0;34m\u001b[0m\u001b[0m\n\u001b[0m\u001b[1;32m   1363\u001b[0m         \u001b[0;32melse\u001b[0m\u001b[0;34m:\u001b[0m\u001b[0;34m\u001b[0m\u001b[0;34m\u001b[0m\u001b[0m\n\u001b[1;32m   1364\u001b[0m             \u001b[0mself\u001b[0m\u001b[0;34m.\u001b[0m\u001b[0mparseFlatScore\u001b[0m\u001b[0;34m(\u001b[0m\u001b[0;34m)\u001b[0m \u001b[0;31m# TODO(msc): determine if ever called.\u001b[0m\u001b[0;34m\u001b[0m\u001b[0;34m\u001b[0m\u001b[0m\n",
      "\u001b[0;32m~/anaconda3/envs/midi/lib/python3.7/site-packages/music21/musicxml/m21ToXml.py\u001b[0m in \u001b[0;36mparsePartlikeScore\u001b[0;34m(self)\u001b[0m\n\u001b[1;32m   1539\u001b[0m             \u001b[0mpp\u001b[0m \u001b[0;34m=\u001b[0m \u001b[0mPartExporter\u001b[0m\u001b[0;34m(\u001b[0m\u001b[0minnerStream\u001b[0m\u001b[0;34m,\u001b[0m \u001b[0mparent\u001b[0m\u001b[0;34m=\u001b[0m\u001b[0mself\u001b[0m\u001b[0;34m)\u001b[0m\u001b[0;34m\u001b[0m\u001b[0;34m\u001b[0m\u001b[0m\n\u001b[1;32m   1540\u001b[0m             \u001b[0mpp\u001b[0m\u001b[0;34m.\u001b[0m\u001b[0mspannerBundle\u001b[0m \u001b[0;34m=\u001b[0m \u001b[0mself\u001b[0m\u001b[0;34m.\u001b[0m\u001b[0mspannerBundle\u001b[0m\u001b[0;34m\u001b[0m\u001b[0;34m\u001b[0m\u001b[0m\n\u001b[0;32m-> 1541\u001b[0;31m             \u001b[0mpp\u001b[0m\u001b[0;34m.\u001b[0m\u001b[0mparse\u001b[0m\u001b[0;34m(\u001b[0m\u001b[0;34m)\u001b[0m\u001b[0;34m\u001b[0m\u001b[0;34m\u001b[0m\u001b[0m\n\u001b[0m\u001b[1;32m   1542\u001b[0m             \u001b[0mself\u001b[0m\u001b[0;34m.\u001b[0m\u001b[0mpartExporterList\u001b[0m\u001b[0;34m.\u001b[0m\u001b[0mappend\u001b[0m\u001b[0;34m(\u001b[0m\u001b[0mpp\u001b[0m\u001b[0;34m)\u001b[0m\u001b[0;34m\u001b[0m\u001b[0;34m\u001b[0m\u001b[0m\n\u001b[1;32m   1543\u001b[0m \u001b[0;34m\u001b[0m\u001b[0m\n",
      "\u001b[0;32m~/anaconda3/envs/midi/lib/python3.7/site-packages/music21/musicxml/m21ToXml.py\u001b[0m in \u001b[0;36mparse\u001b[0;34m(self)\u001b[0m\n\u001b[1;32m   2321\u001b[0m         \u001b[0mself\u001b[0m\u001b[0;34m.\u001b[0m\u001b[0mspannerBundle\u001b[0m\u001b[0;34m.\u001b[0m\u001b[0msetIdLocals\u001b[0m\u001b[0;34m(\u001b[0m\u001b[0;34m)\u001b[0m\u001b[0;34m\u001b[0m\u001b[0;34m\u001b[0m\u001b[0m\n\u001b[1;32m   2322\u001b[0m         \u001b[0;32mfor\u001b[0m \u001b[0mm\u001b[0m \u001b[0;32min\u001b[0m \u001b[0mmeasureStream\u001b[0m\u001b[0;34m:\u001b[0m\u001b[0;34m\u001b[0m\u001b[0;34m\u001b[0m\u001b[0m\n\u001b[0;32m-> 2323\u001b[0;31m             \u001b[0mself\u001b[0m\u001b[0;34m.\u001b[0m\u001b[0maddDividerComment\u001b[0m\u001b[0;34m(\u001b[0m\u001b[0;34m'Measure '\u001b[0m \u001b[0;34m+\u001b[0m \u001b[0mstr\u001b[0m\u001b[0;34m(\u001b[0m\u001b[0mm\u001b[0m\u001b[0;34m.\u001b[0m\u001b[0mnumber\u001b[0m\u001b[0;34m)\u001b[0m\u001b[0;34m)\u001b[0m\u001b[0;34m\u001b[0m\u001b[0;34m\u001b[0m\u001b[0m\n\u001b[0m\u001b[1;32m   2324\u001b[0m             \u001b[0mmeasureExporter\u001b[0m \u001b[0;34m=\u001b[0m \u001b[0mMeasureExporter\u001b[0m\u001b[0;34m(\u001b[0m\u001b[0mm\u001b[0m\u001b[0;34m,\u001b[0m \u001b[0mparent\u001b[0m\u001b[0;34m=\u001b[0m\u001b[0mself\u001b[0m\u001b[0;34m)\u001b[0m\u001b[0;34m\u001b[0m\u001b[0;34m\u001b[0m\u001b[0m\n\u001b[1;32m   2325\u001b[0m             \u001b[0mmeasureExporter\u001b[0m\u001b[0;34m.\u001b[0m\u001b[0mspannerBundle\u001b[0m \u001b[0;34m=\u001b[0m \u001b[0mself\u001b[0m\u001b[0;34m.\u001b[0m\u001b[0mspannerBundle\u001b[0m\u001b[0;34m\u001b[0m\u001b[0;34m\u001b[0m\u001b[0m\n",
      "\u001b[0;32m~/anaconda3/envs/midi/lib/python3.7/site-packages/music21/musicxml/m21ToXml.py\u001b[0m in \u001b[0;36maddDividerComment\u001b[0;34m(self, comment)\u001b[0m\n\u001b[1;32m    678\u001b[0m \u001b[0;34m\u001b[0m\u001b[0m\n\u001b[1;32m    679\u001b[0m         \u001b[0mdivider\u001b[0m \u001b[0;34m=\u001b[0m \u001b[0mET\u001b[0m\u001b[0;34m.\u001b[0m\u001b[0mComment\u001b[0m\u001b[0;34m(\u001b[0m\u001b[0mcommentText\u001b[0m\u001b[0;34m)\u001b[0m\u001b[0;34m\u001b[0m\u001b[0;34m\u001b[0m\u001b[0m\n\u001b[0;32m--> 680\u001b[0;31m         \u001b[0mself\u001b[0m\u001b[0;34m.\u001b[0m\u001b[0mxmlRoot\u001b[0m\u001b[0;34m.\u001b[0m\u001b[0mappend\u001b[0m\u001b[0;34m(\u001b[0m\u001b[0mdivider\u001b[0m\u001b[0;34m)\u001b[0m\u001b[0;34m\u001b[0m\u001b[0;34m\u001b[0m\u001b[0m\n\u001b[0m\u001b[1;32m    681\u001b[0m \u001b[0;34m\u001b[0m\u001b[0m\n\u001b[1;32m    682\u001b[0m     \u001b[0;31m#-------------------------------------------------------------------------------\u001b[0m\u001b[0;34m\u001b[0m\u001b[0;34m\u001b[0m\u001b[0;34m\u001b[0m\u001b[0m\n",
      "\u001b[0;31mTypeError\u001b[0m: append() argument must be xml.etree.ElementTree.Element, not Element"
     ]
    }
   ],
   "source": [
    "s.flat.show()"
   ]
  },
  {
   "cell_type": "code",
   "execution_count": null,
   "metadata": {},
   "outputs": [],
   "source": []
  }
 ],
 "metadata": {
  "kernelspec": {
   "display_name": "Python 3",
   "language": "python",
   "name": "python3"
  },
  "language_info": {
   "codemirror_mode": {
    "name": "ipython",
    "version": 3
   },
   "file_extension": ".py",
   "mimetype": "text/x-python",
   "name": "python",
   "nbconvert_exporter": "python",
   "pygments_lexer": "ipython3",
   "version": "3.7.1"
  }
 },
 "nbformat": 4,
 "nbformat_minor": 2
}

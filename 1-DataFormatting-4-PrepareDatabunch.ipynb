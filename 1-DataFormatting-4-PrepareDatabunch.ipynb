{
 "cells": [
  {
   "cell_type": "markdown",
   "metadata": {},
   "source": [
    "# Tokenize and save data"
   ]
  },
  {
   "cell_type": "code",
   "execution_count": 1,
   "metadata": {},
   "outputs": [],
   "source": [
    "%reload_ext autoreload\n",
    "%autoreload 2\n",
    "%matplotlib inline"
   ]
  },
  {
   "cell_type": "code",
   "execution_count": 2,
   "metadata": {},
   "outputs": [],
   "source": [
    "from fastai.text import *"
   ]
  },
  {
   "cell_type": "code",
   "execution_count": 3,
   "metadata": {},
   "outputs": [],
   "source": [
    "import pandas as pd\n",
    "from fastai_data import *"
   ]
  },
  {
   "cell_type": "markdown",
   "metadata": {},
   "source": [
    "## Preparing the data"
   ]
  },
  {
   "cell_type": "code",
   "execution_count": 4,
   "metadata": {},
   "outputs": [],
   "source": [
    "version = 'v4'\n",
    "data_path = Path('data/midi')\n",
    "version_path = data_path/version"
   ]
  },
  {
   "cell_type": "code",
   "execution_count": 16,
   "metadata": {},
   "outputs": [
    {
     "data": {
      "text/plain": [
       "[PosixPath('data/midi/v4/metadata'),\n",
       " PosixPath('data/midi/v4/midi_sources'),\n",
       " PosixPath('data/midi/v4/midi_transcribe'),\n",
       " PosixPath('data/midi/v4/midi_npz'),\n",
       " PosixPath('data/midi/v4/midi_transform')]"
      ]
     },
     "execution_count": 16,
     "metadata": {},
     "output_type": "execute_result"
    }
   ],
   "source": [
    "source_dir = 'midi_transcribe/longdur'\n",
    "out_path = version_path/source_dir\n",
    "csv_path = out_path/f'midi_transcribe.csv'\n",
    "version_path.ls()"
   ]
  },
  {
   "cell_type": "code",
   "execution_count": 17,
   "metadata": {},
   "outputs": [],
   "source": [
    "csv = pd.read_csv(csv_path)\n",
    "csv = csv.loc[csv[source_dir].notna()];"
   ]
  },
  {
   "cell_type": "code",
   "execution_count": 21,
   "metadata": {},
   "outputs": [],
   "source": [
    "def create_databunch(files, cache_name, vocab=None, batch_size=32, load_cached=True):\n",
    "    if load_cached and (out_path/f'{cache_name}/itos.pkl').exists():\n",
    "        data = TextLMDataBunch.load(path, bs=batch_size, cache_name=cache_name)\n",
    "        data.valid_ds.x.processor[0] = TokenizeProcessor(tokenizer=MusicTokenizer())\n",
    "    else:\n",
    "        ps = [LMOpenFileProcessor(), \n",
    "             LMTokenizeProcessor(tokenizer=MusicTokenizer(), chunksize=num_cpus()*20),\n",
    "             LMNumericalizeProcessor(vocab=vocab, max_vocab=500)]\n",
    "\n",
    "        data = (TextList(items=files, path=out_path, processor=ps)\n",
    "                .random_split_by_pct(0.01, seed=6)\n",
    "                .label_for_lm()\n",
    "                .databunch(bs=batch_size))\n",
    "        data.save(cache_name)\n",
    "    vocab = data.train_ds.vocab\n",
    "    return data, vocab"
   ]
  },
  {
   "cell_type": "code",
   "execution_count": 22,
   "metadata": {},
   "outputs": [],
   "source": [
    "def get_files(csv):\n",
    "    files = csv[source_dir]\n",
    "    flist = [Path(version_path/f) for f in files.values]\n",
    "    flist = [f for f in flist if f.exists()]\n",
    "    return flist"
   ]
  },
  {
   "cell_type": "markdown",
   "metadata": {},
   "source": [
    "### Create All Dataset"
   ]
  },
  {
   "cell_type": "code",
   "execution_count": null,
   "metadata": {},
   "outputs": [
    {
     "data": {
      "text/html": [
       "\n",
       "    <div>\n",
       "        <style>\n",
       "            /* Turns off some styling */\n",
       "            progress {\n",
       "                /* gets rid of default border in Firefox and Opera. */\n",
       "                border: none;\n",
       "                /* Needs to be in here for Safari polyfill so background images work as expected. */\n",
       "                background-size: auto;\n",
       "            }\n",
       "            .progress-bar-interrupted, .progress-bar-interrupted::-webkit-progress-bar {\n",
       "                background: #F44336;\n",
       "            }\n",
       "        </style>\n",
       "      <progress value='14' class='' max='17', style='width:300px; height:20px; vertical-align: middle;'></progress>\n",
       "      82.35% [14/17 01:17<00:16]\n",
       "    </div>\n",
       "    "
      ],
      "text/plain": [
       "<IPython.core.display.HTML object>"
      ]
     },
     "metadata": {},
     "output_type": "display_data"
    }
   ],
   "source": [
    "all_files = get_files(csv)\n",
    "all_data, all_vocab = create_databunch(all_files, cache_name='tmp/all')"
   ]
  },
  {
   "cell_type": "markdown",
   "metadata": {},
   "source": [
    "### Create Hooktheory Dataset"
   ]
  },
  {
   "cell_type": "code",
   "execution_count": 9,
   "metadata": {},
   "outputs": [],
   "source": [
    "hook_csv = csv.loc[csv.source.isin(['hooktheory', 'cprato'])]\n",
    "hook_files = get_files(hook_csv)"
   ]
  },
  {
   "cell_type": "code",
   "execution_count": 10,
   "metadata": {},
   "outputs": [
    {
     "name": "stdout",
     "output_type": "stream",
     "text": [
      "Numericalizing\n"
     ]
    }
   ],
   "source": [
    "hook_data, hook_vocab = create_databunch(hook_files, cache_name='tmp/hook', vocab=all_vocab)"
   ]
  },
  {
   "cell_type": "markdown",
   "metadata": {},
   "source": [
    "### Create Pop Dataset"
   ]
  },
  {
   "cell_type": "code",
   "execution_count": 11,
   "metadata": {},
   "outputs": [],
   "source": [
    "pop_csv = csv.loc[csv.source.isin(['midiworld', 'freemidi', 'wikifonia'])]\n",
    "pop_files = get_files(pop_csv)"
   ]
  },
  {
   "cell_type": "code",
   "execution_count": 12,
   "metadata": {},
   "outputs": [
    {
     "name": "stdout",
     "output_type": "stream",
     "text": [
      "Numericalizing\n"
     ]
    }
   ],
   "source": [
    "pop_data, pop_vocab = create_databunch(pop_files, cache_name='tmp/pop', vocab=all_vocab)"
   ]
  },
  {
   "cell_type": "markdown",
   "metadata": {},
   "source": [
    "## Create Classical Dataset"
   ]
  },
  {
   "cell_type": "code",
   "execution_count": 13,
   "metadata": {},
   "outputs": [],
   "source": [
    "# csv_filter = csv.loc[csv[f'{source_dir}_timesteps'] < 20000]\n",
    "clc_csv = csv.loc[csv.source.isin(['classical_piano', 'ecomp'])]\n",
    "clc_files = get_files(clc_csv)"
   ]
  },
  {
   "cell_type": "markdown",
   "metadata": {},
   "source": [
    "Note: we are using pop_vocab because we ultimately want to generate pop music"
   ]
  },
  {
   "cell_type": "code",
   "execution_count": 14,
   "metadata": {},
   "outputs": [
    {
     "name": "stdout",
     "output_type": "stream",
     "text": [
      "Numericalizing\n"
     ]
    }
   ],
   "source": [
    "clc_data, clc_vocab = create_databunch(clc_files, cache_name='tmp/clc', vocab=all_vocab)"
   ]
  },
  {
   "cell_type": "markdown",
   "metadata": {},
   "source": [
    "### Testing"
   ]
  },
  {
   "cell_type": "code",
   "execution_count": 12,
   "metadata": {},
   "outputs": [],
   "source": [
    "data = pop_data"
   ]
  },
  {
   "cell_type": "code",
   "execution_count": 13,
   "metadata": {},
   "outputs": [
    {
     "data": {
      "text/html": [
       "<table>  <col width='5%'>  <col width='95%'>  <tr>\n",
       "    <th>idx</th>\n",
       "    <th>text</th>\n",
       "  </tr>\n",
       "  <tr>\n",
       "    <th>0</th>\n",
       "    <th>t-1 || nE o3 t-2 nG o3 t-2 nB o3 t-2 || nE o3 t-2 nG o3 t-2 nB o3 t-2 || nE o3 t-2 nG o3 t-2 nB o3 t-2 || nE o3 t-2 nG o3 t-2 nB o3 t-2 || nE o3 t-2 nG o3 t-2 nB o3 t-2 || nE o3 t-2 nG o3 t-2 nB o3 t-2 || nE o3 t-2 nG o3 t-2 nB o3</th>\n",
       "  </tr>\n",
       "  <tr>\n",
       "    <th>1</th>\n",
       "    <th>t-2 nC o3 t-2 nE o3 t-2 nG o5 t-1 || nA o2 t-2 nC o3 t-2 nE o3 t-2 nG o5 t-2 || nA o2 t-2 nC o3 t-2 nE o3 t-2 nG o5 t-1 || nA o2 t-2 nC o3 t-2 nE o3 t-2 nG o5 t-2 || nA o2 t-2 nC o3 t-2 nE o3 t-2 nG o5 t-2 || nA o2 t-2 nC o3 t-2 nE</th>\n",
       "  </tr>\n",
       "  <tr>\n",
       "    <th>2</th>\n",
       "    <th>nA o2 t-2 nC o3 t-2 nF o3 t-2 nG o3 t-2 || nA o2 t-2 nC o3 t-2 nF o3 t-2 nG o3 t-2 nF o5 t-1 || nA o2 t-2 nC o3 t-2 nF o3 t-2 nG o3 t-2 nF o5 t-2 || nA o2 t-2 nC o3 t-2 nF o3 t-2 nG o3 t-2 nF o5 t-1 || nA o2 t-2 nC o3 t-2 nF o3 t-2</th>\n",
       "  </tr>\n",
       "  <tr>\n",
       "    <th>3</th>\n",
       "    <th>o3 t-1 nG o3 t-1 nB- o3 t-1 || nE- o3 t-2 nG o3 t-2 nB- o3 t-2 || nE- o3 t-2 nG o3 t-2 nB- o3 t-2 || nE- o3 t-2 nG o3 t-2 nB- o3 t-2 || nE- o3 t-2 nG o3 t-2 nB- o3 t-2 || nE- o3 t-2 nG o3 t-2 nB- o3 t-2 || nE- o3 t-2 nG o3 t-2 nB- o3 t-2 || nE-</th>\n",
       "  </tr>\n",
       "  <tr>\n",
       "    <th>4</th>\n",
       "    <th>nB o2 t-2 nD o3 t-2 || nG o2 t-2 nB o2 t-2 nD o3 t-2 nG o4 t-1 || nG o2 t-2 nB o2 t-2 nD o3 t-2 nA o4 t-1 || nF o2 t-1 nA o2 t-1 nC o3 t-1 nE o3 t-1 nC o5 t-1 || nF o2 t-2 nA o2 t-2 nC o3 t-2 nE o3 t-2 nC o5 t-2 || nF o2 t-2 nA o2</th>\n",
       "  </tr>\n",
       "</table>\n"
      ],
      "text/plain": [
       "<IPython.core.display.HTML object>"
      ]
     },
     "metadata": {},
     "output_type": "display_data"
    }
   ],
   "source": [
    "data.show_batch()"
   ]
  },
  {
   "cell_type": "code",
   "execution_count": 14,
   "metadata": {},
   "outputs": [],
   "source": [
    "ob = data.one_batch()"
   ]
  },
  {
   "cell_type": "code",
   "execution_count": 15,
   "metadata": {},
   "outputs": [
    {
     "data": {
      "text/plain": [
       "'t-2 || nE o3 t-2 nG o3 t-2 nB o3 t-2 || nE o3 t-2 nG o3 t-2 nB o3 t-2 || nE o3 t-2 nG o3 t-2 nB o3 t-2 || nE o3 t-2 nG o3 t-2 nB o3 t-2 || nE o3 t-2 nG o3 t-2 nB o3 t-2 || nE o3 t-2 nG o3 t-2 nB o3 t-2 || nE o3 t-2 nG o3 t-2 nB o3'"
      ]
     },
     "execution_count": 15,
     "metadata": {},
     "output_type": "execute_result"
    }
   ],
   "source": [
    "txt_out = data.vocab.textify(ob[0][0]).replace('xxbos ', ''); txt_out"
   ]
  },
  {
   "cell_type": "code",
   "execution_count": 16,
   "metadata": {},
   "outputs": [],
   "source": [
    "from encode_data import *"
   ]
  },
  {
   "cell_type": "code",
   "execution_count": 17,
   "metadata": {},
   "outputs": [],
   "source": [
    "one_text = data.train_ds[0][0].text"
   ]
  },
  {
   "cell_type": "code",
   "execution_count": 18,
   "metadata": {},
   "outputs": [
    {
     "data": {
      "text/plain": [
       "[[],\n",
       " [G3t-1],\n",
       " [F#3t-1],\n",
       " [A2t-1],\n",
       " [F3t-1],\n",
       " [E3t-1],\n",
       " [A2t-1],\n",
       " [F3t-1],\n",
       " [E3t-1],\n",
       " [A2t-1],\n",
       " [A2t-2],\n",
       " [A2t-2],\n",
       " [G3t-1],\n",
       " [F#3t-1],\n",
       " [G3t-1],\n",
       " [C#4t-1],\n",
       " [E3t-1, G3t-1, B3t-1],\n",
       " [E3t-2, G3t-2, B3t-2],\n",
       " [E3t-2, G3t-2, B3t-2],\n",
       " [E3t-2, G3t-2, B3t-2],\n",
       " [E3t-2, G3t-2, B3t-2],\n",
       " [E3t-2, G3t-2, B3t-2],\n",
       " [E3t-2, G3t-2, B3t-2],\n",
       " [E3t-2, G3t-2, B3t-2],\n",
       " [E3t-2, G3t-2, B3t-2],\n",
       " [E3t-2, G3t-2, B3t-2],\n",
       " [E3t-2, G3t-2, B3t-2],\n",
       " [E3t-2, G3t-2, B3t-2],\n",
       " [E3t-2, G3t-2, B3t-2],\n",
       " [E3t-2, G3t-2, B3t-2],\n",
       " [E3t-2, G3t-2, B3t-2],\n",
       " [E3t-2, G3t-2, B3t-2],\n",
       " [E3t-1, G3t-1, A3t-1, C4t-1],\n",
       " [E3t-2, G3t-2, A3t-2, C4t-2],\n",
       " [E3t-2, G3t-2, A3t-2, C4t-2],\n",
       " [E3t-2, G3t-2, A3t-2, C4t-2],\n",
       " [E3t-2, G3t-2, A3t-2, C4t-2],\n",
       " [E3t-2, G3t-2, A3t-2, C4t-2],\n",
       " [E3t-2, G3t-2, A3t-2, C4t-2],\n",
       " [E3t-2, G3t-2, A3t-2, C4t-2],\n",
       " [E3t-1, G3t-1, B3t-1],\n",
       " [E3t-2, G3t-2, B3t-2],\n",
       " [E3t-2, G3t-2, B3t-2],\n",
       " [E3t-2, G3t-2, B3t-2],\n",
       " [E3t-2, G3t-2, B3t-2],\n",
       " [E3t-2, G3t-2, B3t-2],\n",
       " [E3t-2, G3t-2, B3t-2],\n",
       " [E3t-2, G3t-2, B3t-2],\n",
       " [G2t-1, B-2t-1, D3t-1],\n",
       " [G2t-2, B-2t-2, D3t-2],\n",
       " [G2t-2, B-2t-2, D3t-2],\n",
       " [G2t-2, B-2t-2, D3t-2],\n",
       " [G2t-2, B-2t-2, D3t-2],\n",
       " [G2t-2, B-2t-2, D3t-2],\n",
       " [G2t-2, B-2t-2, D3t-2],\n",
       " [G2t-2, B-2t-2, D3t-2],\n",
       " [G2t-2, B-2t-2, D3t-2],\n",
       " [G2t-2, B-2t-2, D3t-2],\n",
       " [G2t-2, B-2t-2, D3t-2],\n",
       " [G2t-2, B-2t-2, D3t-2],\n",
       " [G2t-2, B-2t-2, D3t-2],\n",
       " [G2t-2, B-2t-2, D3t-2],\n",
       " [G2t-2, B-2t-2, D3t-2],\n",
       " [G2t-2, B-2t-2, D3t-2],\n",
       " [G2t-2, B-2t-2, D3t-2],\n",
       " [G2t-2, B-2t-2, D3t-2],\n",
       " [G2t-2, B-2t-2, D3t-2],\n",
       " [G2t-2, B-2t-2, D3t-2],\n",
       " [G2t-2, B-2t-2, D3t-2],\n",
       " [G2t-2, B-2t-2, D3t-2],\n",
       " [G2t-2, B-2t-2, D3t-2],\n",
       " [G2t-2, B-2t-2, D3t-2],\n",
       " [G2t-1, A2t-1, C3t-1, E3t-1],\n",
       " [G2t-2, A2t-2, C3t-2, E3t-2],\n",
       " [G2t-2, A2t-2, C3t-2, E3t-2],\n",
       " [G2t-2, A2t-2, C3t-2, E3t-2],\n",
       " [A2t-1, B2t-1, D3t-1, F#3t-1],\n",
       " [A2t-2, B2t-2, D3t-2, F#3t-2],\n",
       " [A2t-2, B2t-2, D3t-2, F#3t-2],\n",
       " [A2t-2, B2t-2, D3t-2, F#3t-2],\n",
       " [C3t-1, E-3t-1, G3t-1],\n",
       " [C3t-2, E-3t-2, G3t-2],\n",
       " [C3t-2, E-3t-2, G3t-2],\n",
       " [C3t-2, E-3t-2, G3t-2],\n",
       " [C3t-2, E-3t-2, G3t-2],\n",
       " [C3t-2, E-3t-2, G3t-2],\n",
       " [C3t-2, E-3t-2, G3t-2],\n",
       " [C3t-2, E-3t-2, G3t-2],\n",
       " [C3t-2, E-3t-2, G3t-2],\n",
       " [C3t-2, E-3t-2, G3t-2],\n",
       " [C3t-2, E-3t-2, G3t-2],\n",
       " [C3t-2, E-3t-2, G3t-2],\n",
       " [C3t-2, E-3t-2, G3t-2],\n",
       " [C3t-2, E-3t-2, G3t-2],\n",
       " [C3t-2, E-3t-2, G3t-2],\n",
       " [C3t-2, E-3t-2, G3t-2],\n",
       " [F3t-1, G#3t-1, C4t-1, D4t-1],\n",
       " [F3t-2, G#3t-2, C4t-2, D4t-2],\n",
       " [F3t-2, G#3t-2, C4t-2, D4t-2],\n",
       " [F3t-2, G#3t-2, C4t-2, D4t-2],\n",
       " [F3t-2, G#3t-2, C4t-2, D4t-2],\n",
       " [F3t-2, G#3t-2, C4t-2, D4t-2],\n",
       " [F3t-2, G#3t-2, C4t-2, D4t-2],\n",
       " [F3t-2, G#3t-2, C4t-2, D4t-2],\n",
       " [C3t-1, E-3t-1, G3t-1],\n",
       " [C3t-2, E-3t-2, G3t-2],\n",
       " [C3t-2, E-3t-2, G3t-2],\n",
       " [C3t-2, E-3t-2, G3t-2],\n",
       " [C3t-2, E-3t-2, G3t-2],\n",
       " [C3t-2, E-3t-2, G3t-2],\n",
       " [C3t-2, E-3t-2, G3t-2],\n",
       " [C3t-2, E-3t-2, G3t-2],\n",
       " [E-3t-1, F#3t-1, B-3t-1],\n",
       " [E-3t-2, F#3t-2, B-3t-2],\n",
       " [E-3t-2, F#3t-2, B-3t-2],\n",
       " [E-3t-2, F#3t-2, B-3t-2],\n",
       " [E-3t-2, F#3t-2, B-3t-2],\n",
       " [E-3t-2, F#3t-2, B-3t-2],\n",
       " [E-3t-2, F#3t-2, B-3t-2],\n",
       " [E-3t-2, F#3t-2, B-3t-2],\n",
       " [E-3t-2, F#3t-2, B-3t-2],\n",
       " [E-3t-2, F#3t-2, B-3t-2],\n",
       " [E-3t-2, F#3t-2, B-3t-2],\n",
       " [E-3t-2, F#3t-2, B-3t-2],\n",
       " [E-3t-2, F#3t-2, B-3t-2],\n",
       " [E-3t-2, F#3t-2, B-3t-2],\n",
       " [E-3t-2, F#3t-2, B-3t-2],\n",
       " [E-3t-2, F#3t-2, B-3t-2],\n",
       " []]"
      ]
     },
     "execution_count": 18,
     "metadata": {},
     "output_type": "execute_result"
    }
   ],
   "source": [
    "seq = str2seq(one_text); seq"
   ]
  },
  {
   "cell_type": "code",
   "execution_count": 19,
   "metadata": {},
   "outputs": [
    {
     "data": {
      "text/plain": [
       "(129, 1, 127)"
      ]
     },
     "execution_count": 19,
     "metadata": {},
     "output_type": "execute_result"
    }
   ],
   "source": [
    "seq2numpy(seq).shape"
   ]
  },
  {
   "cell_type": "code",
   "execution_count": 20,
   "metadata": {},
   "outputs": [],
   "source": [
    "s = str2stream(one_text)"
   ]
  },
  {
   "cell_type": "code",
   "execution_count": 21,
   "metadata": {},
   "outputs": [
    {
     "data": {
      "text/html": [
       "\n",
       "                <div id='midiPlayerDiv215'></div>\n",
       "                <link rel=\"stylesheet\" href=\"//cuthbertLab.github.io/music21j/css/m21.css\"\n",
       "                    type=\"text/css\" />\n",
       "                <script>\n",
       "                require.config({\n",
       "                    paths: {'music21': '//cuthbertLab.github.io/music21j/src/music21'}\n",
       "                });\n",
       "                require(['music21'], function() {\n",
       "                               mp = new music21.miditools.MidiPlayer();\n",
       "                               mp.addPlayer('#midiPlayerDiv215');\n",
       "                               mp.base64Load('data:audio/midi;base64,TVRoZAAAAAYAAQABBABNVHJrAAABvQD/AwVQaWFubwDAAADgAEAAwAAA/1EDB6EgAP9ZAgAAAP9YBAQCGAiCAJA3WoIAgDcAAJA2WoIAgDYAAJAtWoIAgC0AAJA1WoIAgDUAAJA0WoIAgDQAAJAtWoIAgC0AAJA1WoIAgDUAAJA0WoIAgDQAAJAtWoYAgC0AAJA3WoIAgDcAAJA2WoIAgDYAAJA3WoIAgDcAAJA9WoIAgD0AAJA0WgCQN1oAkDtaoACANAAAgDcAAIA7AACQNFoAkDdaAJA5WgCQPFqQAIA0AACANwAAgDkAAIA8AACQNFoAkDdaAJA7WpAAgDQAAIA3AACAOwAAkCtaAJAuWgCQMlqwAIArAACALgAAgDIAAJArWgCQLVoAkDBaAJA0WogAgCsAAIAtAACAMAAAgDQAAJAtWgCQL1oAkDJaAJA2WogAgC0AAIAvAACAMgAAgDYAAJAwWgCQM1oAkDdaoACAMAAAgDMAAIA3AACQNVoAkDhaAJA8WgCQPlqQAIA1AACAOAAAgDwAAIA+AACQMFoAkDNaAJA3WpAAgDAAAIAzAACANwAAkDNaAJA2WgCQOlqgAIAzAACANgAAgDoAiAD/LwA=');\n",
       "                        });\n",
       "                </script>"
      ],
      "text/plain": [
       "<IPython.core.display.HTML object>"
      ]
     },
     "metadata": {},
     "output_type": "display_data"
    }
   ],
   "source": [
    "s.show('midi')"
   ]
  },
  {
   "cell_type": "code",
   "execution_count": 22,
   "metadata": {},
   "outputs": [
    {
     "name": "stdout",
     "output_type": "stream",
     "text": [
      "{0.0} <music21.stream.Part 0x7f0626bf9b70>\n",
      "    {0.0} <music21.instrument.Piano Piano>\n",
      "    {0.0} <music21.meter.TimeSignature 4/4>\n",
      "    {0.0} <music21.tempo.MetronomeMark animato Quarter=120>\n",
      "    {0.0} <music21.key.KeySignature of no sharps or flats>\n",
      "    {0.25} <music21.chord.Chord G3>\n",
      "    {0.5} <music21.chord.Chord F#3>\n",
      "    {0.75} <music21.chord.Chord A2>\n",
      "    {1.0} <music21.chord.Chord F3>\n",
      "    {1.25} <music21.chord.Chord E3>\n",
      "    {1.5} <music21.chord.Chord A2>\n",
      "    {1.75} <music21.chord.Chord F3>\n",
      "    {2.0} <music21.chord.Chord E3>\n",
      "    {2.25} <music21.chord.Chord A2>\n",
      "    {3.0} <music21.chord.Chord G3>\n",
      "    {3.25} <music21.chord.Chord F#3>\n",
      "    {3.5} <music21.chord.Chord G3>\n",
      "    {3.75} <music21.chord.Chord C#4>\n",
      "    {4.0} <music21.chord.Chord E3 G3 B3>\n",
      "    {8.0} <music21.chord.Chord E3 G3 A3 C4>\n",
      "    {10.0} <music21.chord.Chord E3 G3 B3>\n",
      "    {12.0} <music21.chord.Chord G2 B-2 D3>\n",
      "    {18.0} <music21.chord.Chord G2 A2 C3 E3>\n",
      "    {19.0} <music21.chord.Chord A2 B2 D3 F#3>\n",
      "    {20.0} <music21.chord.Chord C3 E-3 G3>\n",
      "    {24.0} <music21.chord.Chord F3 G#3 C4 D4>\n",
      "    {26.0} <music21.chord.Chord C3 E-3 G3>\n",
      "    {28.0} <music21.chord.Chord E-3 F#3 B-3>\n"
     ]
    }
   ],
   "source": [
    "s.show('text')"
   ]
  },
  {
   "cell_type": "code",
   "execution_count": null,
   "metadata": {},
   "outputs": [],
   "source": []
  }
 ],
 "metadata": {
  "kernelspec": {
   "display_name": "Python 3",
   "language": "python",
   "name": "python3"
  },
  "language_info": {
   "codemirror_mode": {
    "name": "ipython",
    "version": 3
   },
   "file_extension": ".py",
   "mimetype": "text/x-python",
   "name": "python",
   "nbconvert_exporter": "python",
   "pygments_lexer": "ipython3",
   "version": "3.7.1"
  }
 },
 "nbformat": 4,
 "nbformat_minor": 2
}

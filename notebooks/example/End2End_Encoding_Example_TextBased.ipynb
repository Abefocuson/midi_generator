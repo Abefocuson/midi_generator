{
 "cells": [
  {
   "cell_type": "code",
   "execution_count": 1,
   "metadata": {},
   "outputs": [],
   "source": [
    "%reload_ext autoreload\n",
    "%autoreload 2\n",
    "%matplotlib inline"
   ]
  },
  {
   "cell_type": "code",
   "execution_count": 2,
   "metadata": {},
   "outputs": [],
   "source": [
    "import sys\n",
    "sys.path.insert(0, '../../')\n",
    "from src.encode_data import *\n",
    "from src.midi_data import *\n",
    "from src.data_sources import process_all\n",
    "from src.midi_transform import *\n",
    "from src.fastai_data import *\n",
    "from src.lmnp_transformer import *"
   ]
  },
  {
   "cell_type": "code",
   "execution_count": 14,
   "metadata": {},
   "outputs": [],
   "source": [
    "from src.v1.fastai_data import MusicTokenizer\n",
    "from src.v1.encode_data import seq2str_duration, str2stream\n",
    "\n",
    "def note_enc_func(note): return note.duration_repr()"
   ]
  },
  {
   "cell_type": "code",
   "execution_count": 4,
   "metadata": {},
   "outputs": [],
   "source": [
    "from fastai.text import *"
   ]
  },
  {
   "cell_type": "markdown",
   "metadata": {},
   "source": [
    "## Example notebook how to encode midi to text format and train with fastai"
   ]
  },
  {
   "cell_type": "code",
   "execution_count": 5,
   "metadata": {},
   "outputs": [],
   "source": [
    "data_path = Path('data')\n",
    "\n",
    "# Location of your midi files\n",
    "midi_path = data_path/'midi'\n",
    "\n",
    "# Location of transformed midi to numpy dataset\n",
    "text_path = data_path/'text'"
   ]
  },
  {
   "cell_type": "markdown",
   "metadata": {},
   "source": [
    "## 1. Gather midi dataset"
   ]
  },
  {
   "cell_type": "markdown",
   "metadata": {},
   "source": [
    "Make sure all your midi data is in `data/midi` directory"
   ]
  },
  {
   "cell_type": "markdown",
   "metadata": {},
   "source": [
    "Here's a pretty good dataset with lots of midi data:  \n",
    "https://www.reddit.com/r/datasets/comments/3akhxy/the_largest_midi_collection_on_the_internet/\n",
    "\n",
    "Download the folder and unzip it to `data/midi`"
   ]
  },
  {
   "cell_type": "markdown",
   "metadata": {},
   "source": [
    "### 2. Encode midi files to numpy\n",
    "\n",
    "For more in customized encoding - see `notebooks/dataformatting/2-DataFormatting-AllCombined-X.ipynb`"
   ]
  },
  {
   "cell_type": "code",
   "execution_count": 5,
   "metadata": {},
   "outputs": [],
   "source": [
    "midi_files = get_files(data_path, '.mid', recurse=True)\n",
    "# midi_files = midi_files[:500]"
   ]
  },
  {
   "cell_type": "code",
   "execution_count": 6,
   "metadata": {},
   "outputs": [],
   "source": [
    "def process_files(midi_file):\n",
    "    output_file = Path(str(midi_file).replace(str(midi_path), str(text_path))).with_suffix('.txt')\n",
    "    if output_file.exists(): return\n",
    "    output_file.parent.mkdir(parents=True, exist_ok=True)\n",
    "    \n",
    "    # Part 1. Compress tracks/instruments\n",
    "    textenc = transform_midi(midi_file)\n",
    "    if textenc is not None: \n",
    "        with open(output_file, 'w') as f:\n",
    "            f.write(textenc)"
   ]
  },
  {
   "cell_type": "code",
   "execution_count": 8,
   "metadata": {},
   "outputs": [],
   "source": [
    "def transform_midi(midi_file):\n",
    "    try:\n",
    "        # 1. Convert file to music21 stream\n",
    "        stream = file2stream(midi_file) \n",
    "        # 2. Convert to numpy array\n",
    "        chordarr = stream2chordarr(stream, max_dur=DUR_RANGE-2, flat=False) \n",
    "        # 3. Create note sequence\n",
    "        seq = chordarr2seq(chordarr)\n",
    "        # 4. Encoded representation\n",
    "        textenc = seq2str_duration(seq, note_enc_func)\n",
    "\n",
    "    except Exception as e:\n",
    "        print('Could not encode to file:', midi_file, e)\n",
    "        return None\n",
    "    \n",
    "    return textenc"
   ]
  },
  {
   "cell_type": "code",
   "execution_count": 9,
   "metadata": {},
   "outputs": [],
   "source": [
    "# transform_midi(midi_files[0])"
   ]
  },
  {
   "cell_type": "code",
   "execution_count": null,
   "metadata": {
    "scrolled": true
   },
   "outputs": [],
   "source": [
    "processed = process_all(process_files, midi_files, timeout=50, timeout_func=None)"
   ]
  },
  {
   "cell_type": "markdown",
   "metadata": {},
   "source": [
    "## 3. Create dataset from encoded files"
   ]
  },
  {
   "cell_type": "code",
   "execution_count": 23,
   "metadata": {},
   "outputs": [],
   "source": [
    "def create_databunch(files, out_path, vocab=None, batch_size=32):\n",
    "    ps = [OpenFileProcessor(), \n",
    "         TokenizeProcessor(tokenizer=MusicTokenizer(), chunksize=num_cpus()*20),\n",
    "         NumericalizeProcessor(vocab=vocab, max_vocab=500)]\n",
    "\n",
    "    data = (TextList(items=files, path=out_path, processor=ps)\n",
    "            .random_split_by_pct(0.01, seed=6)\n",
    "            .label_for_lm()\n",
    "            .databunch(bs=batch_size))\n",
    "    data.save()\n",
    "    return data"
   ]
  },
  {
   "cell_type": "code",
   "execution_count": 6,
   "metadata": {},
   "outputs": [
    {
     "data": {
      "text/plain": [
       "470"
      ]
     },
     "execution_count": 6,
     "metadata": {},
     "output_type": "execute_result"
    }
   ],
   "source": [
    "text_files = get_files(text_path, '.txt', recurse=True); len(text_files)"
   ]
  },
  {
   "cell_type": "code",
   "execution_count": null,
   "metadata": {},
   "outputs": [],
   "source": [
    "data = create_databunch(text_files, text_path)"
   ]
  },
  {
   "cell_type": "markdown",
   "metadata": {},
   "source": [
    "## 4. Load Model"
   ]
  },
  {
   "cell_type": "code",
   "execution_count": 8,
   "metadata": {},
   "outputs": [],
   "source": [
    "data = load_data(text_path, bs=8, bptt=256)"
   ]
  },
  {
   "cell_type": "code",
   "execution_count": 9,
   "metadata": {},
   "outputs": [
    {
     "name": "stderr",
     "output_type": "stream",
     "text": [
      "/home/ubuntu/fastai/fastai/text/learner.py:209: UserWarning: There are no pretrained weights for that architecture yet!\n",
      "  warn(\"There are no pretrained weights for that architecture yet!\")\n"
     ]
    }
   ],
   "source": [
    "learn = language_model_learner(data, TransformerXL, clip=0.5)"
   ]
  },
  {
   "cell_type": "code",
   "execution_count": 31,
   "metadata": {},
   "outputs": [
    {
     "data": {
      "text/html": [
       "<table border=\"1\" class=\"dataframe\">\n",
       "  <thead>\n",
       "    <tr style=\"text-align: left;\">\n",
       "      <th>epoch</th>\n",
       "      <th>train_loss</th>\n",
       "      <th>valid_loss</th>\n",
       "      <th>accuracy</th>\n",
       "      <th>time</th>\n",
       "    </tr>\n",
       "  </thead>\n",
       "  <tbody>\n",
       "    <tr>\n",
       "      <td>0</td>\n",
       "      <td>1.685111</td>\n",
       "      <td>1.793216</td>\n",
       "      <td>0.506535</td>\n",
       "      <td>02:47</td>\n",
       "    </tr>\n",
       "    <tr>\n",
       "      <td>1</td>\n",
       "      <td>1.455609</td>\n",
       "      <td>1.498293</td>\n",
       "      <td>0.580266</td>\n",
       "      <td>02:48</td>\n",
       "    </tr>\n",
       "    <tr>\n",
       "      <td>2</td>\n",
       "      <td>1.316328</td>\n",
       "      <td>1.358744</td>\n",
       "      <td>0.608962</td>\n",
       "      <td>02:48</td>\n",
       "    </tr>\n",
       "    <tr>\n",
       "      <td>3</td>\n",
       "      <td>1.355179</td>\n",
       "      <td>1.272140</td>\n",
       "      <td>0.628042</td>\n",
       "      <td>02:49</td>\n",
       "    </tr>\n",
       "  </tbody>\n",
       "</table>"
      ],
      "text/plain": [
       "<IPython.core.display.HTML object>"
      ]
     },
     "metadata": {},
     "output_type": "display_data"
    }
   ],
   "source": [
    "learn.fit_one_cycle(4)"
   ]
  },
  {
   "cell_type": "markdown",
   "metadata": {},
   "source": [
    "## 6. Predict from existing midi file"
   ]
  },
  {
   "cell_type": "code",
   "execution_count": 10,
   "metadata": {},
   "outputs": [
    {
     "data": {
      "text/plain": [
       "PosixPath('data/midi/130k_reddit_midi/Jazz_www.thejazzpage.de_MIDIRip/phasedance.mid')"
      ]
     },
     "execution_count": 10,
     "metadata": {},
     "output_type": "execute_result"
    }
   ],
   "source": [
    "midi_files = get_files(data_path, '.mid', recurse=True)\n",
    "midi_file = midi_files[0]; midi_file"
   ]
  },
  {
   "cell_type": "code",
   "execution_count": 15,
   "metadata": {},
   "outputs": [],
   "source": [
    "# Encode midi file to array for prediction\n",
    "stream = file2stream(midi_file) \n",
    "chordarr = stream2chordarr(stream, max_dur=DUR_RANGE-2, flat=False)\n",
    "seq = chordarr2seq(chordarr)\n",
    "textenc = seq2str_duration(seq, note_enc_func)"
   ]
  },
  {
   "cell_type": "code",
   "execution_count": 16,
   "metadata": {},
   "outputs": [
    {
     "data": {
      "text/plain": [
       "(13852,\n",
       " '|| t32 nE5 t4 nC#5 t3 nE-3 t1 nC#2 t1 nC2 t2 nB1 t5 || t1 nE-3 t1 || t0 nE-3 t1 || t0 nA5 t2 nE-3 t1 nG#2 t1 nC2 t1 || t1 nF#5 t4 nD5 t4 nE-3 t1 nF#2 t1 nC#2 t1 || t1 nE-3 t1 nF#2 t5 || t0 nE-3 t1 || t0 nA5 t4 nE-3 t1 || t1 nE-3 t1 nG#2 t1 nC#2 t1 || t1 nE5 t4 nC#5 t3 nE-3 t1 nC2 t1 nB1 t1 || t0 nE-3 t1 || t0 nE-3 t1 nC2 t3 nB1 t5 || t1 nA5 t4 nE-3 t1 || t1')"
      ]
     },
     "execution_count": 16,
     "metadata": {},
     "output_type": "execute_result"
    }
   ],
   "source": [
    "# convert numpy encoding to torch tensor. \n",
    "seed_len = 100\n",
    "notes = textenc.split(' ')\n",
    "seed = ' '.join(notes[:seed_len]); len(notes), seed"
   ]
  },
  {
   "cell_type": "code",
   "execution_count": null,
   "metadata": {},
   "outputs": [],
   "source": [
    "# heres' what the original file looks like\n",
    "stream.flat.show()"
   ]
  },
  {
   "cell_type": "code",
   "execution_count": 17,
   "metadata": {},
   "outputs": [],
   "source": [
    "out = learn.predict(seed, n_words=100)"
   ]
  },
  {
   "cell_type": "code",
   "execution_count": 18,
   "metadata": {},
   "outputs": [
    {
     "data": {
      "image/png": "[encoded data removed]",
      "text/plain": [
       "<IPython.core.display.Image object>"
      ]
     },
     "metadata": {
      "image/png": {
       "height": 128,
       "width": 748
      }
     },
     "output_type": "display_data"
    }
   ],
   "source": [
    "# Prediction\n",
    "stream = str2stream(seed).show()"
   ]
  }
 ],
 "metadata": {
  "kernelspec": {
   "display_name": "Python 3",
   "language": "python",
   "name": "python3"
  },
  "language_info": {
   "codemirror_mode": {
    "name": "ipython",
    "version": 3
   },
   "file_extension": ".py",
   "mimetype": "text/x-python",
   "name": "python",
   "nbconvert_exporter": "python",
   "pygments_lexer": "ipython3",
   "version": "3.7.3"
  }
 },
 "nbformat": 4,
 "nbformat_minor": 2
}

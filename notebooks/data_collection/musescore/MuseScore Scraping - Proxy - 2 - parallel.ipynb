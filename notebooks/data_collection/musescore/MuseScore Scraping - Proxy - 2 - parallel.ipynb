{
 "cells": [
  {
   "cell_type": "markdown",
   "metadata": {},
   "source": [
    "## MuseScore Scraper\n",
    "\n",
    "Tool: https://github.com/frankye8998/MusicalMusic  \n",
    "\n",
    "[Reference 2](https://github.com/codeandproduce/music_research_dataset_midi/blob/9a5afe86f1f2d3fdbfa24de99122140e7a7cd60c/MuseScore/MuseScore%20Scraping%20Main.ipynb)"
   ]
  },
  {
   "cell_type": "code",
   "execution_count": 1,
   "metadata": {},
   "outputs": [],
   "source": [
    "from lxml import html\n",
    "import urllib\n",
    "import requests\n",
    "import shutil"
   ]
  },
  {
   "cell_type": "code",
   "execution_count": 2,
   "metadata": {},
   "outputs": [],
   "source": [
    "from random import randint\n",
    "from time import sleep"
   ]
  },
  {
   "cell_type": "code",
   "execution_count": 3,
   "metadata": {},
   "outputs": [],
   "source": [
    "import json\n",
    "from pathlib import Path\n",
    "from tqdm import tqdm"
   ]
  },
  {
   "cell_type": "code",
   "execution_count": 4,
   "metadata": {},
   "outputs": [],
   "source": [
    "# links = []\n",
    "# url = \"https://musescore.com/hub/piano/solo-piano?sort=view_count\"\n",
    "# # url = \"https://musescore.com/hub/piano/piano-duet?sort=view_count\"\n",
    "# page = requests.get(url)\n",
    "# tree = html.fromstring(page.content)\n",
    "# print(tree.xpath(\"//title/text()\"))"
   ]
  },
  {
   "cell_type": "code",
   "execution_count": 5,
   "metadata": {},
   "outputs": [],
   "source": [
    "# articles = tree.xpath(\"//article[@role='article']\")"
   ]
  },
  {
   "cell_type": "code",
   "execution_count": 6,
   "metadata": {},
   "outputs": [],
   "source": [
    "def get_data(a):\n",
    "    score = a.find(\"h2//a[@rel='bookmark']\")\n",
    "    link = score.attrib['href']\n",
    "    title = score.text_content().strip()\n",
    "    author = a.find(\"div[@class='user']//a\").text_content()\n",
    "    metadata = a.find(\"div[@class='meta']\").text_content().split('•\\n')\n",
    "    parts, pages, duration, time, views = [m.strip() for m in metadata]\n",
    "    return {\n",
    "        'link': \"https://musescore.com\" + link,\n",
    "        'score_id': Path(link).name,\n",
    "        'title': title,\n",
    "        'author': author,\n",
    "        'parts': parts,\n",
    "        'pages': pages,\n",
    "        'duration': duration,\n",
    "        'views': views\n",
    "    }"
   ]
  },
  {
   "cell_type": "markdown",
   "metadata": {},
   "source": [
    "## But that's actually just page one and there are pages 2,3,4,5... 100!\n",
    "### So let's make a more general format:"
   ]
  },
  {
   "cell_type": "code",
   "execution_count": 7,
   "metadata": {},
   "outputs": [],
   "source": [
    "# url_default = \"https://musescore.com/hub/video_games/movie?sort=view_count&page=\" # + the page number\n",
    "url_default = 'https://musescore.com/hub/video_games?instruments=0&sort=view_count&page='\n",
    "# url_default = \"https://musescore.com/hub/piano/solo-piano?sort=view_count&page=\" # + the page number\n",
    "# url_default = \"https://musescore.com/hub/piano/voice-piano?sort=view_count&page=\" # + the page number\n",
    "# url_default = \"https://musescore.com/hub/piano?sort=view_count&page=\" # + the page number"
   ]
  },
  {
   "cell_type": "code",
   "execution_count": 8,
   "metadata": {},
   "outputs": [],
   "source": [
    "json_file = Path('musescore_video_all.json')"
   ]
  },
  {
   "cell_type": "code",
   "execution_count": 9,
   "metadata": {},
   "outputs": [],
   "source": [
    "if json_file.exists():\n",
    "    with open(json_file, 'r') as fp:\n",
    "        links = json.load(fp)\n",
    "        "
   ]
  },
  {
   "cell_type": "code",
   "execution_count": 10,
   "metadata": {},
   "outputs": [
    {
     "name": "stdout",
     "output_type": "stream",
     "text": [
      "[{'link': 'https://musescore.com/user/5489651/scores/1379956', 'score_id': '1379956', 'title': 'Undertale - 100 \"MEGALOVANIA\"', 'author': 'Jester Musician', 'parts': '1 part', 'pages': '6 pages', 'duration': '02:44', 'views': '972,868 views'}, {'link': 'https://musescore.com/user/73972/scores/1352796', 'score_id': '1352796', 'title': 'Undertale - Megalovania (Piano) [Added guitar, fixed tonality]', 'author': 'Manel Návola', 'parts': '2 parts', 'pages': '5 pages', 'duration': '02:30', 'views': '520,439 views'}, {'link': 'https://musescore.com/user/2466621/scores/1463381', 'score_id': '1463381', 'title': \"One Summer's Day (Spirited Away)\", 'author': 'Torby Brand', 'parts': '1 part', 'pages': '3 pages', 'duration': '03:34', 'views': '388,744 views'}, {'link': 'https://musescore.com/user/44653/scores/1291731', 'score_id': '1291731', 'title': 'Undertale OST - Hopes and Dreams/Save the World', 'author': 'jozy101', 'parts': '1 part', 'pages': '7 pages', 'duration': '04:44', 'views': '339,806 views'}, {'link': 'https://musescore.com/user/5174461/scores/1321576', 'score_id': '1321576', 'title': 'Undertale: Undertale (Piano)', 'author': 'Stoh', 'parts': '1 part', 'pages': '5 pages', 'duration': '06:09', 'views': '335,430 views'}, {'link': 'https://musescore.com/user/44653/scores/1285421', 'score_id': '1285421', 'title': 'Undertale OST - Nyeh Heh Heh!/Bonetrousle', 'author': 'jozy101', 'parts': '1 part', 'pages': '3 pages', 'duration': '01:31', 'views': '315,700 views'}, {'link': 'https://musescore.com/user/5087406/scores/1282656', 'score_id': '1282656', 'title': 'ASGORE: An Undertale Boss Theme', 'author': 'TheSilentMagus', 'parts': '1 part', 'pages': '4 pages', 'duration': '02:50', 'views': '233,616 views'}, {'link': 'https://musescore.com/user/1234701/scores/3481596', 'score_id': '3481596', 'title': 'Unravel (Acoustic Ver) | Tokyo Ghoul | TheIshter Sheet Music | Full Sheets', 'author': 'Bomb and Kou Sheet Music', 'parts': '1 part', 'pages': '6 pages', 'duration': '04:10', 'views': '188,718 views'}, {'link': 'https://musescore.com/user/11554466/scores/2704541', 'score_id': '2704541', 'title': '[Theishter arr.] - \"Kataware Doki\" - Kimi no Na wa OST', 'author': 'Neroth', 'parts': '1 part', 'pages': '3 pages', 'duration': '03:42', 'views': '173,206 views'}, {'link': 'https://musescore.com/user/1234701/scores/2811586', 'score_id': '2811586', 'title': '\"Shelter\" - Porter Robinsons + Madeon | Cover | TheIshter Sheet Music | Re-Done', 'author': 'Bomb and Kou Sheet Music', 'parts': '1 part', 'pages': '11 pages', 'duration': '05:03', 'views': '171,584 views'}, {'link': 'https://musescore.com/user/5489651/scores/1650921', 'score_id': '1650921', 'title': 'Undertale - 076 \"Bergentrückung\" / 077 \"ASGORE\"', 'author': 'Jester Musician', 'parts': '1 part', 'pages': '6 pages', 'duration': '02:55', 'views': '168,310 views'}, {'link': 'https://musescore.com/user/5489651/scores/1510346', 'score_id': '1510346', 'title': 'Undertale - 068 \"Death by Glamour\"', 'author': 'Jester Musician', 'parts': '1 part', 'pages': '5 pages', 'duration': '02:13', 'views': '159,653 views'}, {'link': 'https://musescore.com/user/5961646/scores/1447826', 'score_id': '1447826', 'title': 'Star Wars Medley', 'author': 'The_Icestorm', 'parts': '1 part', 'pages': '11 pages', 'duration': '08:02', 'views': '156,072 views'}, {'link': 'https://musescore.com/user/1234701/scores/2889616', 'score_id': '2889616', 'title': 'Nandemonaiya (Mitsuha ver.) | Kimi no Na wa | TheIshter Sheet Music | Full Piano Sheets', 'author': 'Bomb and Kou Sheet Music', 'parts': '1 part', 'pages': '10 pages', 'duration': '06:13', 'views': '153,717 views'}, {'link': 'https://musescore.com/user/3468781/scores/977681', 'score_id': '977681', 'title': 'Disney Medley', 'author': 'b_tatar', 'parts': '1 part', 'pages': '15 pages', 'duration': '11:08', 'views': '152,997 views'}, {'link': 'https://musescore.com/user/5489651/scores/1555711', 'score_id': '1555711', 'title': 'Undertale - 059 \"Spider Dance\"', 'author': 'Jester Musician', 'parts': '1 part', 'pages': '4 pages', 'duration': '01:40', 'views': '141,445 views'}, {'link': 'https://musescore.com/user/2466621/scores/2100881', 'score_id': '2100881', 'title': 'Requiem for a Dream (Easy)', 'author': 'Torby Brand', 'parts': '1 part', 'pages': '2 pages', 'duration': '01:48', 'views': '137,383 views'}, {'link': 'https://musescore.com/user/503966/scores/784446', 'score_id': '784446', 'title': 'Laputa: Castle in the Sky Theme - Innocent (Carrying You) 天空の城ラピュタ ー 君をのせて', 'author': 'guyze', 'parts': '1 part', 'pages': '3 pages', 'duration': '02:23', 'views': '135,827 views'}, {'link': 'https://musescore.com/user/2864561/scores/1335531', 'score_id': '1335531', 'title': 'Undertale - His Theme', 'author': 'Zabson', 'parts': '8 parts', 'pages': '18 pages', 'duration': '01:47', 'views': '128,903 views'}, {'link': 'https://musescore.com/user/5489651/scores/1534661', 'score_id': '1534661', 'title': 'Undertale - 046 \"Spear of Justice\"', 'author': 'Jester Musician', 'parts': '1 part', 'pages': '4 pages', 'duration': '01:55', 'views': '128,347 views'}, {'link': 'https://musescore.com/user/44653/scores/1301546', 'score_id': '1301546', 'title': 'Undertale OST - Heartache/Fallen Down', 'author': 'jozy101', 'parts': '1 part', 'pages': '6 pages', 'duration': '02:19', 'views': '119,579 views'}, {'link': 'https://musescore.com/user/44653/scores/1382316', 'score_id': '1382316', 'title': 'Undertale OST - Death by Glamour', 'author': 'jozy101', 'parts': '2 parts', 'pages': '7 pages', 'duration': '02:13', 'views': '111,427 views'}, {'link': 'https://musescore.com/user/5489651/scores/1746996', 'score_id': '1746996', 'title': 'Undertale - 098 \"Battle Against a True Hero\"', 'author': 'Jester Musician', 'parts': '1 part', 'pages': '5 pages', 'duration': '02:34', 'views': '109,308 views'}, {'link': 'https://musescore.com/user/1234701/scores/2638941', 'score_id': '2638941', 'title': 'Again | Your Lie in April | TheIshter Sheet Music | Full Sheets - Re-Done', 'author': 'Bomb and Kou Sheet Music', 'parts': '1 part', 'pages': '6 pages', 'duration': '02:46', 'views': '108,665 views'}, {'link': 'https://musescore.com/user/5489651/scores/1355251', 'score_id': '1355251', 'title': 'Undertale - 024 \"Bonetrousle\"', 'author': 'Jester Musician', 'parts': '1 part', 'pages': '2 pages', 'duration': '00:58', 'views': '107,790 views'}, {'link': 'https://musescore.com/user/5489651/scores/1724121', 'score_id': '1724121', 'title': 'Undertale - 087 \"Hopes and Dreams\"', 'author': 'Jester Musician', 'parts': '1 part', 'pages': '5 pages', 'duration': '03', 'views': '107,002 views'}, {'link': 'https://musescore.com/user/2466621/scores/1694686', 'score_id': '1694686', 'title': \"Zelda's Lullaby (The Legend of Zelda: Ocarina of Time) - Easy version\", 'author': 'Torby Brand', 'parts': '1 part', 'pages': '1 page', 'duration': '00:44', 'views': '104,477 views'}, {'link': 'https://musescore.com/user/5489651/scores/1534681', 'score_id': '1534681', 'title': 'Undertale - 015 \"sans.\"', 'author': 'Jester Musician', 'parts': '1 part', 'pages': '1 page', 'duration': '00:45', 'views': '99,513 views'}, {'link': 'https://musescore.com/user/5592186/scores/2119261', 'score_id': '2119261', 'title': 'UNDERTALE - FULL OST', 'author': 'Omega Music', 'parts': '1 part', 'pages': '122 pages', 'duration': '01:31:03', 'views': '96,598 views'}, {'link': 'https://musescore.com/user/32517/scores/56165', 'score_id': '56165', 'title': 'Davy Jones Theme - Virtuosic Piano Cover by Józef Świstak', 'author': 'Józef Świstak', 'parts': '1 part', 'pages': '4 pages', 'duration': '02:48', 'views': '95,872 views'}, {'link': 'https://musescore.com/user/73972/scores/1355971', 'score_id': '1355971', 'title': 'Undertale - Waterfall (Piano and Violin)', 'author': 'Manel Návola', 'parts': '3 parts', 'pages': '2 pages', 'duration': '01:59', 'views': '92,389 views'}, {'link': 'https://musescore.com/user/1176981/scores/1307356', 'score_id': '1307356', 'title': 'First Step - Interstellar [Kyle Landry][Cover]', 'author': 'Airik Daily', 'parts': '1 part', 'pages': '12 pages', 'duration': '08:12', 'views': '88,527 views'}, {'link': 'https://musescore.com/user/1234701/scores/2610921', 'score_id': '2610921', 'title': 'Kimi no Na wa - (君の名は) - Kataware Doki (かたわれ時) | KellsPiano | Full Sheet Music', 'author': 'Bomb and Kou Sheet Music', 'parts': '1 part', 'pages': '4 pages', 'duration': '02:52', 'views': '85,001 views'}, {'link': 'https://musescore.com/user/2114686/scores/780391', 'score_id': '780391', 'title': 'Ocarina of Time: Lost Woods (Piano)', 'author': 'Xander From ZeldaRocks', 'parts': '1 part', 'pages': '1 page', 'duration': '00:36', 'views': '82,118 views'}, {'link': 'https://musescore.com/user/2466621/scores/2441471', 'score_id': '2441471', 'title': 'Wet Hands (Minecraft)', 'author': 'Torby Brand', 'parts': '1 part', 'pages': '1 page', 'duration': '01:32', 'views': '79,666 views'}, {'link': 'https://musescore.com/user/5489651/scores/1745871', 'score_id': '1745871', 'title': 'Undertale - 036 \"Dummy!\"', 'author': 'Jester Musician', 'parts': '1 part', 'pages': '5 pages', 'duration': '02:26', 'views': '77,982 views'}, {'link': 'https://musescore.com/user/111188/scores/2288061', 'score_id': '2288061', 'title': 'Legend of Zelda: Breath of the Wild - \"E3 2016 Trailer\" [Piano Cover]', 'author': '♫DS♫', 'parts': '1 part', 'pages': '3 pages', 'duration': '02:12', 'views': '75,935 views'}, {'link': 'https://musescore.com/user/11554466/scores/2825941', 'score_id': '2825941', 'title': '[Theishter arr.] - \"Shelter\" - Porter Robinson & Madeon [Full]', 'author': 'Neroth', 'parts': '1 part', 'pages': '7 pages', 'duration': '05:09', 'views': '73,690 views'}, {'link': 'https://musescore.com/user/5606791/scores/1580041', 'score_id': '1580041', 'title': 'Undertale: Home | Piano Solo', 'author': 'HeavySquare', 'parts': '1 part', 'pages': '2 pages', 'duration': '04:01', 'views': '71,957 views'}, {'link': 'https://musescore.com/user/5345596/scores/2796891', 'score_id': '2796891', 'title': 'Victory (Piano Solo) - Two Steps From Hell', 'author': 'Jaden Balogh', 'parts': '1 part', 'pages': '9 pages', 'duration': '04:59', 'views': '70,548 views'}, {'link': 'https://musescore.com/user/5489651/scores/1670391', 'score_id': '1670391', 'title': 'Undertale - 014 \"Heartache\"', 'author': 'Jester Musician', 'parts': '1 part', 'pages': '6 pages', 'duration': '01:48', 'views': '69,359 views'}, {'link': 'https://musescore.com/user/14160696/scores/3117296', 'score_id': '3117296', 'title': 'Yuri!!! on Ice OST - \"Yuri on Ice\" | TheIsther Sheet Music | Full Sheet (Remastered)', 'author': 'Soul Kenji 2', 'parts': '1 part', 'pages': '8 pages', 'duration': '03:48', 'views': '66,674 views'}, {'link': 'https://musescore.com/user/518186/scores/1340876', 'score_id': '1340876', 'title': 'Finale (Undertale)', 'author': 'ThePopStarDude', 'parts': '1 part', 'pages': '3 pages', 'duration': '02:21', 'views': '66,432 views'}, {'link': 'https://musescore.com/user/5489651/scores/2268401', 'score_id': '2268401', 'title': 'Undertale - 031 \"Waterfall\"', 'author': 'Jester Musician', 'parts': '1 part', 'pages': '2 pages', 'duration': '02:07', 'views': '60,555 views'}, {'link': 'https://musescore.com/user/103305/scores/317951', 'score_id': '317951', 'title': 'Kung Fu Panda: Piano-Violin-Medley (Dorico UPDATE)', 'author': 'Lumpenhund', 'parts': '2 parts', 'pages': '9 pages', 'duration': '04:05', 'views': '58,304 views'}, {'link': 'https://musescore.com/user/2696416/scores/1429131', 'score_id': '1429131', 'title': 'Undertale - A Musical Medley', 'author': 'theTeaganator', 'parts': '41 parts', 'pages': '165 pages', 'duration': '56:54', 'views': '57,974 views'}, {'link': 'https://musescore.com/user/5715836/scores/2665176', 'score_id': '2665176', 'title': 'Undertale - Megalovania [Piano]', 'author': 'MetaDestroyer', 'parts': '1 part', 'pages': '5 pages', 'duration': '02:42', 'views': '57,992 views'}, {'link': 'https://musescore.com/user/3551261/scores/3844241', 'score_id': '3844241', 'title': 'Lit - Koe no Katachi (A Silent Voice)', 'author': 'Lily327', 'parts': '1 part', 'pages': '2 pages', 'duration': '01:47', 'views': '55,900 views'}, {'link': 'https://musescore.com/user/206457/scores/1032696', 'score_id': '1032696', 'title': 'Dragon Ball Super Opening Theme 1: Chouzetsu☆Dynamic! (Concert Band)', 'author': 'BenMazza99', 'parts': '14 parts', 'pages': '13 pages', 'duration': '01:21', 'views': '53,951 views'}, {'link': 'https://musescore.com/user/1283896/scores/4253161', 'score_id': '4253161', 'title': 'Jump Up, Super Star - Super Mario Odyssey - For Piano (UPDATED)', 'author': 'MetroidMcKay', 'parts': '1 part', 'pages': '6 pages', 'duration': '03:03', 'views': '52,673 views'}, {'link': 'https://musescore.com/user/2466621/scores/4680761', 'score_id': '4680761', 'title': 'Sweden (Minecraft)', 'author': 'Torby Brand', 'parts': '1 part', 'pages': '1 page', 'duration': '02:05', 'views': '52,260 views'}, {'link': 'https://musescore.com/user/5961646/scores/1554996', 'score_id': '1554996', 'title': 'Star Wars Duel of Fates', 'author': 'The_Icestorm', 'parts': '1 part', 'pages': '6 pages', 'duration': '02:34', 'views': '52,134 views'}, {'link': 'https://musescore.com/user/6125686/scores/2770001', 'score_id': '2770001', 'title': \"F L Y {from 'The Intouchables'}\", 'author': 'Spencer Vanderkley', 'parts': '1 part', 'pages': '6 pages', 'duration': '03:54', 'views': '51,896 views'}, {'link': 'https://musescore.com/user/5489651/scores/1906636', 'score_id': '1906636', 'title': 'Undertale - 010 \"Ghost Fight\"', 'author': 'Jester Musician', 'parts': '1 part', 'pages': '2 pages', 'duration': '01', 'views': '51,757 views'}, {'link': 'https://musescore.com/user/9535426/scores/5134956', 'score_id': '5134956', 'title': 'Super Smash Bros. Ultimate - Main Theme', 'author': 'Jose Villanueva', 'parts': '1 part', 'pages': '5 pages', 'duration': '02:55', 'views': '51,757 views'}, {'link': 'https://musescore.com/user/5489651/scores/2100361', 'score_id': '2100361', 'title': 'Undertale - 005 \"Ruins\"', 'author': 'Jester Musician', 'parts': '1 part', 'pages': '3 pages', 'duration': '01:31', 'views': '50,272 views'}, {'link': 'https://musescore.com/user/5489651/scores/2056561', 'score_id': '2056561', 'title': 'I Miss You - Earthbound 2012 - \"Megalo Strike Back\"', 'author': 'Jester Musician', 'parts': '1 part', 'pages': '5 pages', 'duration': '01:36', 'views': '50,095 views'}, {'link': 'https://musescore.com/user/5489651/scores/2218571', 'score_id': '2218571', 'title': 'Undertale - 063 \"It\\'s Raining Somewhere Else\"', 'author': 'Jester Musician', 'parts': '1 part', 'pages': '2 pages', 'duration': '02:22', 'views': '48,677 views'}, {'link': 'https://musescore.com/user/5606791/scores/1580591', 'score_id': '1580591', 'title': 'Undertale: Dog Song | Piano Solo', 'author': 'HeavySquare', 'parts': '1 part', 'pages': '2 pages', 'duration': '00:35', 'views': '48,284 views'}, {'link': 'https://musescore.com/user/17011/scores/119691', 'score_id': '119691', 'title': 'VOCALOID-Rolling Girl(ローリンガール)', 'author': 'PandA-in-Wonderland', 'parts': '1 part', 'pages': '6 pages', 'duration': '03:10', 'views': '48,183 views'}, {'link': 'https://musescore.com/user/10401/scores/24974', 'score_id': '24974', 'title': 'Star Trek Original & TNG Theme Medley (leadsheet)', 'author': 'ericfontainejazz', 'parts': '1 part', 'pages': '2 pages', 'duration': '02:51', 'views': '46,959 views'}, {'link': 'https://musescore.com/user/5489651/scores/1556906', 'score_id': '1556906', 'title': 'Undertale - 034 \"Memory\"', 'author': 'Jester Musician', 'parts': '1 part', 'pages': '1 page', 'duration': '01:12', 'views': '46,564 views'}, {'link': 'https://musescore.com/user/5489651/scores/2099991', 'score_id': '2099991', 'title': 'Undertale - 004 \"Fallen Down\" / 085 \"Fallen Down (Reprise)\"', 'author': 'Jester Musician', 'parts': '1 part', 'pages': '3 pages', 'duration': '02:29', 'views': '44,443 views'}, {'link': 'https://musescore.com/user/98924/scores/770671', 'score_id': '770671', 'title': 'Departure (Lullaby)', 'author': 'Johan S', 'parts': '1 part', 'pages': '2 pages', 'duration': '01:08', 'views': '43,675 views'}, {'link': 'https://musescore.com/user/5489651/scores/1749291', 'score_id': '1749291', 'title': 'Undertale - 050 \"Metal Crusher\"', 'author': 'Jester Musician', 'parts': '1 part', 'pages': '2 pages', 'duration': '01:02', 'views': '43,285 views'}, {'link': 'https://musescore.com/user/3468781/scores/2020821', 'score_id': '2020821', 'title': 'When You Wish Upon A Star', 'author': 'b_tatar', 'parts': '1 part', 'pages': '3 pages', 'duration': '03:22', 'views': '43,070 views'}, {'link': 'https://musescore.com/user/154845/scores/3559541', 'score_id': '3559541', 'title': 'Legend of Zelda: Breath of the Wild - \"Revali\\'s Theme\" [Piano Cover]', 'author': 'Nintendo 2DS', 'parts': '1 part', 'pages': '2 pages', 'duration': '01:17', 'views': '42,081 views'}, {'link': 'https://musescore.com/user/2466621/scores/4034481', 'score_id': '4034481', 'title': \"Date 2 & Mitsuha's Theme (Kimi no Na wa / Your Name)\", 'author': 'Torby Brand', 'parts': '1 part', 'pages': '3 pages', 'duration': '03:31', 'views': '41,818 views'}, {'link': 'https://musescore.com/user/29625/scores/2075346', 'score_id': '2075346', 'title': 'Undertale: Complete OST (101/101) (Update 160525)', 'author': 'chronondecay', 'parts': '1 part', 'pages': '213 pages', 'duration': '02:16:45', 'views': '40,585 views'}, {'link': 'https://musescore.com/user/9535426/scores/3378396', 'score_id': '3378396', 'title': 'Dragon Ball Super Opening 2 - Limit Break x Survivor Piano Arrangement', 'author': 'Jose Villanueva', 'parts': '1 part', 'pages': '3 pages', 'duration': '01:19', 'views': '39,623 views'}, {'link': 'https://musescore.com/user/9166096/scores/2764101', 'score_id': '2764101', 'title': 'Alone Marshmello', 'author': 'HyperForceX', 'parts': '6 parts', 'pages': '17 pages', 'duration': '04:19', 'views': '39,372 views'}, {'link': 'https://musescore.com/user/4992161/scores/1424296', 'score_id': '1424296', 'title': 'Dummy!-Undertale', 'author': 'jaqsworld', 'parts': '3 parts', 'pages': '6 pages', 'duration': '02:32', 'views': '38,670 views'}, {'link': 'https://musescore.com/user/1234701/scores/2700481', 'score_id': '2700481', 'title': 'Kataware Doki (かたわれ時) | Kimi no Na wa - (君の名は)  | TheIshter | Full Sheets', 'author': 'Bomb and Kou Sheet Music', 'parts': '1 part', 'pages': '4 pages', 'duration': '03:30', 'views': '38,366 views'}, {'link': 'https://musescore.com/user/2466621/scores/1327981', 'score_id': '1327981', 'title': 'Test Drive (How to Train Your Dragon)', 'author': 'Torby Brand', 'parts': '1 part', 'pages': '3 pages', 'duration': '02:06', 'views': '38,417 views'}, {'link': 'https://musescore.com/user/5896131/scores/1450776', 'score_id': '1450776', 'title': 'Bergentrückung/ASGORE - Undertale', 'author': 'TheDoctor10907', 'parts': '16 parts', 'pages': '19 pages', 'duration': '02:45', 'views': '37,936 views'}, {'link': 'https://musescore.com/user/172647/scores/936706', 'score_id': '936706', 'title': 'Gourmet Race-Kirby Super Star Ultra(Solo Piano Arrangement)', 'author': '-Ryan Clare-', 'parts': '1 part', 'pages': '5 pages', 'duration': '02:08', 'views': '37,277 views'}, {'link': 'https://musescore.com/user/44653/scores/1430166', 'score_id': '1430166', 'title': 'Undertale OST - Dummy!', 'author': 'jozy101', 'parts': '6 parts', 'pages': '28 pages', 'duration': '02:26', 'views': '36,976 views'}, {'link': 'https://musescore.com/user/3119766/scores/1071101', 'score_id': '1071101', 'title': 'ECHO Piano Adaptation [Gumi] (Solo)', 'author': 'jazzermazzer99', 'parts': '1 part', 'pages': '7 pages', 'duration': '03:46', 'views': '36,911 views'}, {'link': 'https://musescore.com/user/3768156/scores/1308281', 'score_id': '1308281', 'title': 'Snow Halation - Full Length (Love Live!)', 'author': 'Glenowan', 'parts': '1 part', 'pages': '7 pages', 'duration': '04:15', 'views': '36,028 views'}, {'link': 'https://musescore.com/user/5489651/scores/2000286', 'score_id': '2000286', 'title': 'Undertale - 080 \"Finale\"', 'author': 'Jester Musician', 'parts': '1 part', 'pages': '3 pages', 'duration': '01:41', 'views': '36,015 views'}, {'link': 'https://musescore.com/user/221706/scores/238686', 'score_id': '238686', 'title': '[My Little Pony; Friendship Is Magic] Lullaby for a Princess (full score)', 'author': 'AppleCloud10', 'parts': '9 parts', 'pages': '42 pages', 'duration': '06:44', 'views': '35,773 views'}, {'link': 'https://musescore.com/user/2466621/scores/1694681', 'score_id': '1694681', 'title': 'Romantic Flight (How to Train Your Dragon)', 'author': 'Torby Brand', 'parts': '1 part', 'pages': '2 pages', 'duration': '01:53', 'views': '35,553 views'}, {'link': 'https://musescore.com/user/36278/scores/57815', 'score_id': '57815', 'title': 'Command & Conquer Red Alert 3 - Soviet March (piano duet)', 'author': 'David Charlier', 'parts': '2 parts', 'pages': '5 pages', 'duration': '02:40', 'views': '35,054 views'}, {'link': 'https://musescore.com/user/9026621/scores/2490631', 'score_id': '2490631', 'title': 'Wonder Woman Theme - Batman vs. Superman - Hans Zimmer and Junkie XL - Piano Solo', 'author': 'RodgerC26', 'parts': '1 part', 'pages': '5 pages', 'duration': '03:23', 'views': '34,804 views'}, {'link': 'https://musescore.com/user/8991661/scores/2096436', 'score_id': '2096436', 'title': \"Pirates of the Caribbean At World's End - Up is Down - Piano Solo\", 'author': 'BarbossaThePianist', 'parts': '1 part', 'pages': '9 pages', 'duration': '02:23', 'views': '34,731 views'}, {'link': 'https://musescore.com/user/88413/scores/122446', 'score_id': '122446', 'title': 'The Portrait-from the movie Titanic', 'author': 'Pikachu3', 'parts': '1 part', 'pages': '6 pages', 'duration': '04:48', 'views': '34,282 views'}, {'link': 'https://musescore.com/user/61605/scores/1587116', 'score_id': '1587116', 'title': 'Super Mario Bros. 2 - Overworld (Piano)', 'author': 'BassoonBetter', 'parts': '1 part', 'pages': '4 pages', 'duration': '01:39', 'views': '34,119 views'}, {'link': 'https://musescore.com/user/1801321/scores/1630121', 'score_id': '1630121', 'title': 'Littleroot Town - Pokémon ORAS (for piano)', 'author': 'Pimplup', 'parts': '1 part', 'pages': '1 page', 'duration': '01:50', 'views': '33,029 views'}, {'link': 'https://musescore.com/user/1234701/scores/2976386', 'score_id': '2976386', 'title': 'Zen Zen Zense | Kimi no Na wa | TheIshter Sheet Music | ~80% Done', 'author': 'Bomb and Kou Sheet Music', 'parts': '1 part', 'pages': '8 pages', 'duration': '04:48', 'views': '32,575 views'}, {'link': 'https://musescore.com/user/6530751/scores/1557841', 'score_id': '1557841', 'title': 'Megalovania (Undertale) - Sad Piano Solo', 'author': 'Z1ggyZip', 'parts': '1 part', 'pages': '4 pages', 'duration': '03:33', 'views': '31,876 views'}, {'link': 'https://musescore.com/user/2466621/scores/1327686', 'score_id': '1327686', 'title': 'Friend A  (Yuujin A) - Shigatsu wa Kimi no Uso Soundtrack', 'author': 'Torby Brand', 'parts': '1 part', 'pages': '2 pages', 'duration': '01:50', 'views': '31,600 views'}, {'link': 'https://musescore.com/user/8093351/scores/4363306', 'score_id': '4363306', 'title': \"For the Damaged Coda Evil Morty's Theme\", 'author': 'Biskit', 'parts': '1 part', 'pages': '5 pages', 'duration': '02:38', 'views': '31,463 views'}, {'link': 'https://musescore.com/user/5489651/scores/3810511', 'score_id': '3810511', 'title': 'Persona 5 - \"Last Surprise\"', 'author': 'Jester Musician', 'parts': '2 parts', 'pages': '7 pages', 'duration': '03:40', 'views': '31,246 views'}, {'link': 'https://musescore.com/user/2466621/scores/4900443', 'score_id': '4900443', 'title': 'Kataware Doki - (Kimi no Na wa / Your Name)', 'author': 'Torby Brand', 'parts': '1 part', 'pages': '3 pages', 'duration': '03:15', 'views': '31,250 views'}, {'link': 'https://musescore.com/user/1061421/scores/823116', 'score_id': '823116', 'title': \"Five Nights At Freddy's (For Concert Band)\", 'author': 'EpicEwok', 'parts': '27 parts', 'pages': '14 pages', 'duration': '02:46', 'views': '30,754 views'}, {'link': 'https://musescore.com/user/3468781/scores/1151736', 'score_id': '1151736', 'title': \"I've Got A Dream (Disney's Tangled)\", 'author': 'b_tatar', 'parts': '1 part', 'pages': '8 pages', 'duration': '02:55', 'views': '30,675 views'}, {'link': 'https://musescore.com/user/1234701/scores/2404136', 'score_id': '2404136', 'title': '\"Elegy for Rem\" | Re:Zero Episode 15 ED | TheIshter Sheet Music | Full Sheets', 'author': 'Bomb and Kou Sheet Music', 'parts': '1 part', 'pages': '5 pages', 'duration': '03:10', 'views': '30,575 views'}, {'link': 'https://musescore.com/user/2114686/scores/780466', 'score_id': '780466', 'title': 'Ocarina of Time: Song of Time (Piano)', 'author': 'Xander From ZeldaRocks', 'parts': '4 parts', 'pages': '1 page', 'duration': '00:52', 'views': '30,532 views'}, {'link': 'https://musescore.com/user/4676261/scores/3820061', 'score_id': '3820061', 'title': 'You Can Become a Hero', 'author': 'Vanessayang', 'parts': '1 part', 'pages': '2 pages', 'duration': '00:56', 'views': '30,312 views'}, {'link': 'https://musescore.com/user/1234701/scores/4172946', 'score_id': '4172946', 'title': 'The Weight of the World | NieR Automata | Rui Ruii the Seal Pianist', 'author': 'Bomb and Kou Sheet Music', 'parts': '1 part', 'pages': '8 pages', 'duration': '05:25', 'views': '29,743 views'}]\n"
     ]
    }
   ],
   "source": [
    "if not json_file.exists():\n",
    "    links = []\n",
    "    for page in tqdm(range(1,100), total=100):\n",
    "        page = requests.get(url_default+str(page)) # https://musescore.com/hub/piano?page=1,2,3,4,5,...,10\n",
    "        tree = html.fromstring(page.content)\n",
    "\n",
    "        articles = tree.xpath(\"//article[@role='article']\")\n",
    "\n",
    "        links.extend([get_data(a) for a in articles])\n",
    "\n",
    "#         sleep(randint(1,4))\n",
    "    with open(json_file, 'w') as fp:\n",
    "        json.dump(links, fp)\n",
    "print(links[:100])"
   ]
  },
  {
   "cell_type": "markdown",
   "metadata": {},
   "source": [
    "# Scrape links found"
   ]
  },
  {
   "cell_type": "markdown",
   "metadata": {},
   "source": [
    "### Musical Music Lib"
   ]
  },
  {
   "cell_type": "code",
   "execution_count": 11,
   "metadata": {},
   "outputs": [],
   "source": [
    "\n",
    "class MuseScoreException(Exception):\n",
    "    pass\n",
    "\n",
    "class InvalidFileExtension(MuseScoreException):\n",
    "    pass\n",
    "\n",
    "class InvalidScoreID(MuseScoreException):\n",
    "    pass\n",
    "\n",
    "class InvalidCredentials(MuseScoreException):\n",
    "    pass\n",
    "\n",
    "class InvalidSearchSort(MuseScoreException):\n",
    "    pass"
   ]
  },
  {
   "cell_type": "code",
   "execution_count": 12,
   "metadata": {},
   "outputs": [],
   "source": [
    "import urllib\n",
    "import urllib.request\n",
    "\n",
    "\n",
    "import bs4\n",
    "import requests\n",
    "\n",
    "class MusicalMusic:\n",
    "    \"\"\"Musescore actions requiring an account.\"\"\"\n",
    "\n",
    "    def __init__(self, username, password):\n",
    "        self.username = username\n",
    "        url = \"https://musescore.com/user/login\"\n",
    "        r = requests.get(url)\n",
    "        soup = bs4.BeautifulSoup(r.text, \"html.parser\")\n",
    "        csrf = soup.find(\"meta\", {\"name\": \"csrf-token\"})[\"content\"]\n",
    "        url = \"https://musescore.com/user/auth/login/process\"\n",
    "        cookies = {\n",
    "            \"mu_browser_uni\": r.cookies['mu_browser_uni'],\n",
    "            \"_csrf\": r.cookies[\"_csrf\"]\n",
    "        }\n",
    "        data = {\n",
    "          \"username\": username,\n",
    "          \"password\": password,\n",
    "          \"_csrf\": csrf,\n",
    "          \"op\": \"Log in\"\n",
    "        }\n",
    "        try:\n",
    "            mu_user = requests.post(url,\n",
    "                                    data=data,\n",
    "                                    cookies=cookies,\n",
    "                                    allow_redirects=False,\n",
    "                                    ).cookies[\"mu_user_new\"]\n",
    "        except KeyError as e:\n",
    "            raise InvalidCredentials(\n",
    "                \"Please check your username and password!\") from e\n",
    "\n",
    "        mu_browser_uni = r.cookies['mu_browser_uni']\n",
    "\n",
    "        self.mu_browser_uni = mu_browser_uni\n",
    "        self.mu_user = mu_user\n",
    "\n",
    "    def retrieve(self, id, format=\"pdf\"):\n",
    "        \"\"\"Retrieves Musescore data in bytes\"\"\"\n",
    "\n",
    "        if format not in [\"mp3\", \"pdf\", \"mid\", \"mxl\", \"mscz\"]:\n",
    "            raise InvalidFileExtension(\"Must be mp3, pdf, mid, mxl, or mscz.\")\n",
    "        newlink = f\"https://musescore.com/score/{id}/download/{format}\"\n",
    "        cookies = {\"mu_browser_uni\": self.mu_browser_uni,\n",
    "                   \"mu_user_new\": self.mu_user}\n",
    "        bytes = requests.get(newlink, cookies=cookies, verify=False)\n",
    "        if bytes.status_code != 200:\n",
    "            raise InvalidScoreID(str(bytes.status_code))\n",
    "        return bytes.content\n",
    "\n",
    "    def download(self, id, filename, format=\"mp3\", proxy=None):\n",
    "        if format not in [\"mp3\", \"pdf\", \"mid\", \"mxl\", \"mscz\"]:\n",
    "            raise InvalidFileExtension(\"Must be mp3, pdf, mid, mxl, or mscz.\")\n",
    "        newlink = f\"https://musescore.com/score/{id}/download/{format}\"\n",
    "        if proxy:\n",
    "            proxy_support = urllib.request.ProxyHandler({'https' : proxy})\n",
    "            opener = urllib.request.build_opener(proxy_support)\n",
    "        else: opener = urllib.request.build_opener()\n",
    "            \n",
    "        cookieString = f\"mu_browser_uni={self.mu_browser_uni};\" \\\n",
    "                        f\"mu_user_new={self.mu_user}\"\n",
    "        opener.addheaders = [(\"cookie\", cookieString)]\n",
    "        urllib.request.install_opener(opener)\n",
    "        try:\n",
    "            urllib.request.urlretrieve(newlink, filename)\n",
    "        except urllib.error.HTTPError as e:\n",
    "            raise e\n"
   ]
  },
  {
   "cell_type": "markdown",
   "metadata": {},
   "source": [
    "### Trying proxy"
   ]
  },
  {
   "cell_type": "markdown",
   "metadata": {},
   "source": [
    "https://codelike.pro/create-a-crawler-with-rotating-ip-proxy-in-python/"
   ]
  },
  {
   "cell_type": "code",
   "execution_count": 13,
   "metadata": {},
   "outputs": [],
   "source": [
    "from urllib.request import Request, urlopen\n",
    "from bs4 import BeautifulSoup\n",
    "from fake_useragent import UserAgent\n",
    "import random\n",
    "\n",
    "ua = UserAgent() # From here we generate a random user agent\n",
    "proxies = [] # Will contain proxies [ip, port]"
   ]
  },
  {
   "cell_type": "code",
   "execution_count": 14,
   "metadata": {},
   "outputs": [],
   "source": [
    "# Main function\n",
    "  # Retrieve latest proxies\n",
    "proxies_req = Request('https://www.sslproxies.org/')\n",
    "proxies_req.add_header('User-Agent', ua.random)\n",
    "proxies_doc = urlopen(proxies_req).read().decode('utf8')\n",
    "\n",
    "soup = BeautifulSoup(proxies_doc, 'html.parser')\n",
    "proxies_table = soup.find(id='proxylisttable')\n",
    "\n",
    "# Save proxies in the array\n",
    "for row in proxies_table.tbody.find_all('tr'):\n",
    "    proxies.append({\n",
    "      'ip':   row.find_all('td')[0].string,\n",
    "      'port': row.find_all('td')[1].string\n",
    "    })"
   ]
  },
  {
   "cell_type": "markdown",
   "metadata": {},
   "source": [
    "### More proxies\n",
    "\n",
    "https://github.com/constverum/ProxyBroker"
   ]
  },
  {
   "cell_type": "code",
   "execution_count": 15,
   "metadata": {},
   "outputs": [
    {
     "name": "stdout",
     "output_type": "stream",
     "text": [
      "Found proxy: <Proxy FR 0.15s [HTTPS] 54.39.97.250:3128>\n",
      "Found proxy: <Proxy US 0.22s [HTTPS] 50.253.229.189:45725>\n",
      "Found proxy: <Proxy JP 0.34s [HTTPS] 160.16.52.185:3128>\n",
      "Found proxy: <Proxy US 0.35s [HTTPS] 173.249.0.209:3128>\n",
      "Found proxy: <Proxy DE 0.36s [HTTPS] 94.130.126.94:8008>\n",
      "Found proxy: <Proxy RU 0.37s [HTTPS] 94.242.58.14:1448>\n",
      "Found proxy: <Proxy BR 0.40s [HTTPS] 200.255.122.170:8080>\n",
      "Found proxy: <Proxy RU 0.46s [HTTPS] 77.232.153.248:60950>\n",
      "Found proxy: <Proxy SE 0.46s [HTTPS] 46.246.38.90:3128>\n",
      "Found proxy: <Proxy PL 0.48s [HTTPS] 78.11.118.157:3128>\n",
      "Found proxy: <Proxy US 0.48s [HTTPS] 68.183.180.184:8080>\n",
      "Found proxy: <Proxy US 0.49s [HTTPS] 157.230.33.37:1111>\n",
      "Found proxy: <Proxy AE 0.50s [HTTPS] 185.132.179.109:8080>\n",
      "Found proxy: <Proxy DE 0.51s [HTTPS] 95.88.12.230:3128>\n",
      "Found proxy: <Proxy ID 0.52s [HTTPS] 180.178.98.149:35871>\n",
      "Found proxy: <Proxy -- 0.56s [HTTPS] 85.209.163.68:8080>\n",
      "Found proxy: <Proxy BR 0.61s [HTTPS] 186.249.213.95:37960>\n",
      "Found proxy: <Proxy UA 0.63s [HTTPS] 95.215.95.126:32074>\n",
      "Found proxy: <Proxy ID 0.65s [HTTPS] 114.129.23.25:8080>\n",
      "Found proxy: <Proxy BG 0.68s [HTTPS] 77.77.17.48:34871>\n",
      "Found proxy: <Proxy AR 0.55s [HTTPS] 186.56.99.103:61242>\n",
      "Found proxy: <Proxy BR 0.67s [HTTPS] 187.32.4.66:8080>\n",
      "Found proxy: <Proxy RU 0.57s [HTTPS] 188.242.224.144:56391>\n",
      "Found proxy: <Proxy FR 0.74s [HTTPS] 178.32.80.234:8080>\n",
      "Found proxy: <Proxy TH 0.76s [HTTPS] 180.180.156.35:37463>\n",
      "Found proxy: <Proxy NP 0.74s [HTTPS] 182.93.94.87:56999>\n",
      "Found proxy: <Proxy ID 0.76s [HTTPS] 36.37.124.234:36179>\n",
      "Found proxy: <Proxy EC 0.81s [HTTPS] 190.11.15.14:53281>\n",
      "Found proxy: <Proxy TH 0.83s [HTTPS] 118.172.201.32:42815>\n",
      "Found proxy: <Proxy ID 0.80s [HTTPS] 110.136.205.218:80>\n",
      "Found proxy: <Proxy SK 0.85s [HTTPS] 185.152.112.18:37900>\n",
      "Found proxy: <Proxy CZ 0.75s [HTTPS] 77.48.246.171:56913>\n",
      "Found proxy: <Proxy RU 0.83s [HTTPS] 82.138.23.141:3128>\n",
      "Found proxy: <Proxy US 0.82s [HTTPS] 50.197.139.163:36609>\n",
      "Found proxy: <Proxy PL 0.88s [HTTPS] 91.218.63.196:53281>\n",
      "Found proxy: <Proxy ZA 0.89s [HTTPS] 197.245.230.122:34888>\n",
      "Found proxy: <Proxy NZ 0.93s [HTTPS] 202.49.183.168:46110>\n",
      "Found proxy: <Proxy TH 0.70s [HTTPS] 118.175.176.123:59584>\n",
      "Found proxy: <Proxy EC 0.96s [HTTPS] 186.42.252.46:57367>\n",
      "Found proxy: <Proxy UA 0.96s [HTTPS] 193.34.140.105:53281>\n",
      "Found proxy: <Proxy TH 0.98s [HTTPS] 1.20.100.165:61085>\n",
      "Found proxy: <Proxy CO 1.01s [HTTPS] 181.129.183.19:53281>\n",
      "Found proxy: <Proxy CN 0.97s [HTTPS] 223.85.196.75:9797>\n",
      "Found proxy: <Proxy BR 1.02s [HTTPS] 170.233.48.13:53281>\n",
      "Found proxy: <Proxy ID 1.00s [HTTPS] 110.232.81.69:54022>\n",
      "Found proxy: <Proxy ID 1.01s [HTTPS] 101.255.56.138:53560>\n",
      "Found proxy: <Proxy EC 1.01s [HTTPS] 181.211.129.98:53281>\n",
      "Found proxy: <Proxy MX 1.04s [HTTPS] 45.5.94.161:56299>\n",
      "Found proxy: <Proxy TH 1.05s [HTTPS] 1.10.186.219:58989>\n",
      "Found proxy: <Proxy AE 1.06s [HTTPS] 185.132.178.141:8080>\n",
      "Found proxy: <Proxy DE 1.06s [HTTPS] 94.16.120.18:5555>\n",
      "Found proxy: <Proxy BR 1.06s [HTTPS] 187.111.160.8:42579>\n",
      "Found proxy: <Proxy UA 0.44s [HTTPS] 93.76.48.29:8080>\n",
      "Found proxy: <Proxy CZ 1.07s [HTTPS] 78.156.48.10:48665>\n",
      "Found proxy: <Proxy EC 1.08s [HTTPS] 181.211.167.206:37873>\n",
      "Found proxy: <Proxy IN 1.10s [HTTPS] 43.225.164.59:52480>\n",
      "Found proxy: <Proxy KR 1.06s [HTTPS] 52.79.119.145:80>\n",
      "Found proxy: <Proxy CO 1.12s [HTTPS] 186.86.247.169:39168>\n",
      "Found proxy: <Proxy TH 0.98s [HTTPS] 182.52.51.154:38752>\n",
      "Found proxy: <Proxy AL 1.13s [HTTPS] 80.78.70.30:53281>\n",
      "Found proxy: <Proxy ID 1.08s [HTTPS] 117.54.250.58:38508>\n",
      "Found proxy: <Proxy TH 0.83s [HTTPS] 180.180.156.60:58169>\n",
      "Found proxy: <Proxy IN 0.80s [HTTPS] 103.254.175.181:8080>\n",
      "Found proxy: <Proxy BR 0.70s [HTTPS] 179.97.30.46:53100>\n",
      "Found proxy: <Proxy RU 1.22s [HTTPS] 95.79.36.55:44861>\n",
      "Found proxy: <Proxy BR 1.24s [HTTPS] 186.227.67.143:42813>\n",
      "Found proxy: <Proxy TH 1.26s [HTTPS] 182.52.51.53:35885>\n",
      "Found proxy: <Proxy PH 1.23s [HTTPS] 58.69.12.210:8080>\n",
      "Found proxy: <Proxy UA 1.30s [HTTPS] 93.76.211.56:48374>\n",
      "Found proxy: <Proxy US 1.27s [HTTPS] 50.236.148.254:39970>\n",
      "Found proxy: <Proxy KE 1.35s [HTTPS] 197.254.4.130:34316>\n",
      "Found proxy: <Proxy US 0.24s [HTTPS] 209.97.177.138:8080>\n",
      "Found proxy: <Proxy CA 0.30s [HTTPS] 142.93.132.193:8080>\n",
      "Found proxy: <Proxy US 1.31s [HTTPS] 54.236.44.224:3128>\n",
      "Found proxy: <Proxy RO 1.37s [HTTPS] 195.222.106.135:42374>\n",
      "Found proxy: <Proxy CN 1.33s [HTTPS] 45.125.32.180:3128>\n",
      "Found proxy: <Proxy CO 1.09s [HTTPS] 186.159.1.217:56875>\n",
      "Found proxy: <Proxy TH 1.34s [HTTPS] 180.183.42.186:8213>\n",
      "Found proxy: <Proxy TH 1.46s [HTTPS] 182.52.74.76:34084>\n",
      "Found proxy: <Proxy MD 0.79s [HTTPS] 92.39.54.91:60446>\n",
      "Found proxy: <Proxy TH 1.42s [HTTPS] 125.26.99.178:30703>\n",
      "Found proxy: <Proxy BR 1.51s [HTTPS] 177.10.249.230:57440>\n",
      "Found proxy: <Proxy BR 0.46s [HTTPS] 200.187.177.105:20183>\n",
      "Found proxy: <Proxy CZ 1.52s [HTTPS] 85.207.44.10:53038>\n",
      "Found proxy: <Proxy BR 0.53s [HTTPS] 187.17.146.25:8080>\n",
      "Found proxy: <Proxy GN 1.57s [HTTPS] 41.77.188.81:53432>\n",
      "Found proxy: <Proxy BY 1.58s [HTTPS] 86.57.159.118:61113>\n",
      "Found proxy: <Proxy AL 1.58s [HTTPS] 79.106.35.253:8080>\n",
      "Found proxy: <Proxy ID 0.85s [HTTPS] 180.178.98.161:48758>\n",
      "Found proxy: <Proxy -- 1.59s [HTTPS] 172.83.138.45:53281>\n",
      "Found proxy: <Proxy BR 1.16s [HTTPS] 186.249.68.49:60009>\n",
      "Found proxy: <Proxy AE 1.37s [HTTPS] 185.132.179.113:8080>\n",
      "Found proxy: <Proxy ID 1.59s [HTTPS] 118.97.180.130:30793>\n",
      "Found proxy: <Proxy US 0.20s [HTTPS] 134.209.13.153:8080>\n",
      "Found proxy: <Proxy BR 0.60s [HTTPS] 181.191.180.110:8080>\n",
      "Found proxy: <Proxy AZ 0.46s [HTTPS] 134.19.218.94:3129>\n",
      "Found proxy: <Proxy SI 0.29s [HTTPS] 109.123.4.12:3128>\n",
      "Found proxy: <Proxy -- 1.48s [HTTPS] 45.232.99.7:49396>\n",
      "Found proxy: <Proxy US 0.30s [HTTPS] 104.248.248.140:8080>\n",
      "Found proxy: <Proxy PL 0.34s [HTTPS] 192.166.219.46:3128>\n",
      "Found proxy: <Proxy AU 1.66s [HTTPS] 58.96.148.182:8080>\n",
      "Found proxy: <Proxy VE 0.89s [HTTPS] 170.244.88.67:53281>\n",
      "Found proxy: <Proxy AR 0.63s [HTTPS] 200.69.70.238:8080>\n",
      "Found proxy: <Proxy US 0.21s [HTTPS] 3.121.220.72:3128>\n",
      "Found proxy: <Proxy RU 1.38s [HTTPS] 158.46.127.222:52574>\n",
      "Found proxy: <Proxy IN 0.74s [HTTPS] 36.255.86.226:83>\n",
      "Found proxy: <Proxy IN 1.40s [HTTPS] 45.123.26.146:53281>\n",
      "Found proxy: <Proxy US 0.76s [HTTPS] 104.248.117.3:8080>\n",
      "Found proxy: <Proxy US 0.20s [HTTPS] 134.209.13.16:8080>\n",
      "Found proxy: <Proxy UA 1.76s [HTTPS] 91.221.252.18:8080>\n",
      "Found proxy: <Proxy TH 1.68s [HTTPS] 1.10.186.167:51907>\n",
      "Found proxy: <Proxy CO 1.79s [HTTPS] 181.143.204.2:80>\n",
      "Found proxy: <Proxy RU 1.82s [HTTPS] 159.253.168.249:53281>\n",
      "Found proxy: <Proxy KH 1.06s [HTTPS] 163.53.198.58:49870>\n",
      "Found proxy: <Proxy RU 0.52s [HTTPS] 94.242.58.142:10010>\n",
      "Found proxy: <Proxy NL 0.30s [HTTPS] 178.62.241.136:8080>\n",
      "Found proxy: <Proxy EC 1.80s [HTTPS] 181.196.244.82:59808>\n",
      "Found proxy: <Proxy BR 0.93s [HTTPS] 138.94.113.234:8080>\n",
      "Found proxy: <Proxy IN 1.87s [HTTPS] 49.204.80.158:8080>\n",
      "Found proxy: <Proxy IQ 1.86s [HTTPS] 109.224.1.210:40515>\n",
      "Found proxy: <Proxy BD 1.90s [HTTPS] 203.83.182.86:8080>\n",
      "Found proxy: <Proxy CZ 0.89s [HTTPS] 85.207.92.34:8080>\n",
      "Found proxy: <Proxy RU 0.74s [HTTPS] 79.104.55.134:8080>\n",
      "Found proxy: <Proxy TH 1.94s [HTTPS] 1.20.100.100:40734>\n",
      "Found proxy: <Proxy KR 0.41s [HTTPS] 211.254.217.167:3128>\n",
      "Found proxy: <Proxy US 1.06s [HTTPS] 208.85.15.209:8181>\n",
      "Found proxy: <Proxy PL 1.19s [HTTPS] 95.160.17.142:40472>\n",
      "Found proxy: <Proxy CZ 0.35s [HTTPS] 185.15.108.3:8080>\n",
      "Found proxy: <Proxy NP 1.73s [HTTPS] 124.41.213.44:53931>\n",
      "Found proxy: <Proxy BG 1.20s [HTTPS] 87.227.204.114:56847>\n",
      "Found proxy: <Proxy US 0.17s [HTTPS] 104.248.236.12:8080>\n",
      "Found proxy: <Proxy ID 0.83s [HTTPS] 175.103.42.147:8080>\n",
      "Found proxy: <Proxy BR 0.38s [HTTPS] 201.20.89.126:8080>\n",
      "Found proxy: <Proxy KE 2.13s [HTTPS] 41.215.74.234:53666>\n",
      "Found proxy: <Proxy BR 1.20s [HTTPS] 191.7.47.249:30192>\n",
      "Found proxy: <Proxy RS 0.88s [HTTPS] 188.255.235.18:8888>\n",
      "Found proxy: <Proxy VN 1.30s [HTTPS] 115.79.208.56:38351>\n",
      "Found proxy: <Proxy KR 0.50s [HTTPS] 203.246.112.133:3128>\n",
      "Found proxy: <Proxy BR 0.39s [HTTPS] 177.36.11.241:3128>\n",
      "Found proxy: <Proxy BR 1.13s [HTTPS] 201.87.243.22:8080>\n",
      "Found proxy: <Proxy TH 2.13s [HTTPS] 202.29.228.142:48526>\n",
      "Found proxy: <Proxy TH 1.10s [HTTPS] 203.150.172.151:8080>\n",
      "Found proxy: <Proxy KR 0.40s [HTTPS] 106.249.44.10:3128>\n"
     ]
    },
    {
     "name": "stdout",
     "output_type": "stream",
     "text": [
      "Found proxy: <Proxy RU 2.24s [HTTPS] 95.140.19.34:40434>\n",
      "Found proxy: <Proxy VN 0.46s [HTTPS] 42.115.221.58:3128>\n",
      "Found proxy: <Proxy ID 0.76s [HTTPS] 114.57.33.214:8080>\n",
      "Found proxy: <Proxy US 0.18s [HTTPS] 157.230.137.96:3128>\n",
      "Found proxy: <Proxy GR 0.19s [HTTPS] 178.128.151.123:8080>\n",
      "Found proxy: <Proxy BR 0.97s [HTTPS] 187.95.225.97:8080>\n",
      "Found proxy: <Proxy US 0.41s [HTTPS] 198.11.178.14:8080>\n",
      "Found proxy: <Proxy BR 1.41s [HTTPS] 179.96.17.77:8080>\n",
      "Found proxy: <Proxy ID 0.74s [HTTPS] 103.9.124.210:8080>\n",
      "Found proxy: <Proxy US 2.38s [HTTPS] 75.151.213.85:8080>\n",
      "Found proxy: <Proxy BR 1.41s [HTTPS] 177.87.63.20:8080>\n",
      "Found proxy: <Proxy BR 1.41s [HTTPS] 200.233.136.177:20183>\n",
      "Found proxy: <Proxy BR 0.87s [HTTPS] 177.104.123.218:8181>\n",
      "Found proxy: <Proxy EC 2.48s [HTTPS] 181.112.57.34:46757>\n",
      "Found proxy: <Proxy CZ 0.33s [HTTPS] 46.33.98.94:8080>\n",
      "Found proxy: <Proxy CZ 2.46s [HTTPS] 193.86.229.230:8080>\n",
      "Found proxy: <Proxy ES 1.39s [HTTPS] 2.139.187.123:3128>\n",
      "Found proxy: <Proxy BR 1.47s [HTTPS] 168.227.54.10:8080>\n",
      "Found proxy: <Proxy TH 2.52s [HTTPS] 101.109.255.18:56783>\n",
      "Found proxy: <Proxy RU 0.99s [HTTPS] 62.152.43.152:8080>\n",
      "Found proxy: <Proxy MW 2.52s [HTTPS] 41.217.219.49:52669>\n",
      "Found proxy: <Proxy CA 0.24s [HTTPS] 144.217.86.131:3128>\n",
      "Found proxy: <Proxy RU 0.99s [HTTPS] 217.79.3.94:8080>\n",
      "Found proxy: <Proxy ID 2.55s [HTTPS] 202.158.17.148:30204>\n",
      "Found proxy: <Proxy ID 1.08s [HTTPS] 117.102.92.221:8080>\n",
      "Found proxy: <Proxy US 0.47s [HTTPS] 157.230.251.25:8080>\n",
      "Found proxy: <Proxy EC 2.60s [HTTPS] 190.152.149.114:40589>\n",
      "Found proxy: <Proxy PL 0.32s [HTTPS] 185.93.240.132:8080>\n",
      "Found proxy: <Proxy BR 2.60s [HTTPS] 186.193.10.2:8080>\n",
      "Found proxy: <Proxy BR 1.09s [HTTPS] 177.11.161.8:8080>\n",
      "Found proxy: <Proxy MX 2.64s [HTTPS] 189.195.132.86:43286>\n",
      "Found proxy: <Proxy BR 1.70s [HTTPS] 177.185.114.89:53281>\n",
      "Found proxy: <Proxy ID 0.75s [HTTPS] 103.76.50.182:8080>\n",
      "Found proxy: <Proxy BR 1.37s [HTTPS] 187.17.166.206:92>\n",
      "Found proxy: <Proxy CO 1.52s [HTTPS] 190.0.246.205:8080>\n",
      "Found proxy: <Proxy BR 0.49s [HTTPS] 201.148.127.58:31280>\n",
      "Found proxy: <Proxy HU 1.31s [HTTPS] 91.137.140.89:8082>\n",
      "Found proxy: <Proxy TH 0.68s [HTTPS] 1.10.185.133:58552>\n",
      "Found proxy: <Proxy BR 2.70s [HTTPS] 200.0.46.50:37232>\n",
      "Found proxy: <Proxy TH 0.53s [HTTPS] 118.174.211.222:81>\n",
      "Found proxy: <Proxy BR 0.72s [HTTPS] 177.10.250.166:31783>\n",
      "Found proxy: <Proxy RU 0.71s [HTTPS] 195.91.197.132:8080>\n",
      "Found proxy: <Proxy RU 0.74s [HTTPS] 185.61.94.65:31362>\n",
      "Found proxy: <Proxy RU 2.71s [HTTPS] 185.19.176.237:53281>\n",
      "Found proxy: <Proxy BR 0.63s [HTTPS] 187.45.156.109:8080>\n",
      "Found proxy: <Proxy TR 0.76s [HTTPS] 195.175.63.230:53281>\n",
      "Found proxy: <Proxy AR 0.69s [HTTPS] 200.50.240.120:4444>\n",
      "Found proxy: <Proxy NI 0.82s [HTTPS] 186.1.18.208:8080>\n",
      "Found proxy: <Proxy US 0.61s [HTTPS] 47.75.195.191:3128>\n",
      "Found proxy: <Proxy ID 0.82s [HTTPS] 36.37.81.135:8080>\n",
      "Found proxy: <Proxy TH 1.80s [HTTPS] 96.30.79.4:8080>\n",
      "Found proxy: <Proxy RU 2.82s [HTTPS] 185.41.112.29:57190>\n",
      "Found proxy: <Proxy BD 1.01s [HTTPS] 120.50.10.85:8080>\n",
      "Found proxy: <Proxy TH 1.54s [HTTPS] 1.10.188.5:8080>\n",
      "Found proxy: <Proxy HR 2.00s [HTTPS] 195.29.239.34:57278>\n",
      "Found proxy: <Proxy RU 0.37s [HTTPS] 185.22.174.65:1448>\n",
      "Found proxy: <Proxy ZA 2.86s [HTTPS] 196.50.240.91:45695>\n",
      "Found proxy: <Proxy BR 0.48s [HTTPS] 138.255.111.131:8080>\n",
      "Found proxy: <Proxy ID 2.15s [HTTPS] 203.173.92.254:61598>\n",
      "Found proxy: <Proxy RU 2.75s [HTTPS] 81.163.36.210:34197>\n",
      "Found proxy: <Proxy TH 1.04s [HTTPS] 202.29.223.154:8080>\n",
      "Found proxy: <Proxy KR 0.36s [HTTPS] 118.216.130.216:3128>\n",
      "Found proxy: <Proxy CO 2.98s [HTTPS] 181.225.109.194:80>\n",
      "Found proxy: <Proxy ID 1.20s [HTTPS] 118.97.36.18:8080>\n",
      "Found proxy: <Proxy TH 1.01s [HTTPS] 118.175.226.30:44552>\n",
      "Found proxy: <Proxy BR 0.53s [HTTPS] 200.206.70.162:20183>\n",
      "Found proxy: <Proxy PL 1.01s [HTTPS] 78.11.67.133:80>\n",
      "Found proxy: <Proxy US 0.33s [HTTPS] 173.249.43.105:3128>\n",
      "Found proxy: <Proxy IN 1.60s [HTTPS] 117.252.64.237:8080>\n",
      "Found proxy: <Proxy TW 0.91s [HTTPS] 122.146.68.17:8080>\n",
      "Found proxy: <Proxy AR 1.15s [HTTPS] 181.192.2.23:8080>\n",
      "Found proxy: <Proxy AL 2.85s [HTTPS] 185.191.164.34:55040>\n",
      "Found proxy: <Proxy IN 1.13s [HTTPS] 103.65.193.153:49322>\n",
      "Found proxy: <Proxy UA 3.16s [HTTPS] 130.255.137.53:45128>\n",
      "Found proxy: <Proxy BR 0.49s [HTTPS] 177.125.62.26:3128>\n",
      "Found proxy: <Proxy CA 0.11s [HTTPS] 142.93.195.94:8080>\n",
      "Found proxy: <Proxy RU 1.22s [HTTPS] 37.200.121.50:38775>\n",
      "Found proxy: <Proxy KZ 3.26s [HTTPS] 37.228.65.107:32052>\n",
      "Found proxy: <Proxy BR 0.47s [HTTPS] 189.50.105.44:3129>\n",
      "Found proxy: <Proxy BR 1.29s [HTTPS] 168.181.110.74:57621>\n",
      "Found proxy: <Proxy BR 2.36s [HTTPS] 177.94.206.67:60666>\n",
      "Found proxy: <Proxy RU 1.04s [HTTPS] 194.9.26.243:38391>\n",
      "Found proxy: <Proxy BR 0.71s [HTTPS] 181.191.202.4:34703>\n",
      "Found proxy: <Proxy BR 1.15s [HTTPS] 138.185.22.130:8080>\n",
      "Found proxy: <Proxy ID 0.49s [HTTPS] 103.248.219.172:8080>\n",
      "Found proxy: <Proxy AR 1.02s [HTTPS] 200.127.220.21:8080>\n",
      "Found proxy: <Proxy GB 0.59s [HTTPS] 5.148.128.44:80>\n",
      "Found proxy: <Proxy BR 0.51s [HTTPS] 179.189.226.186:8080>\n",
      "Found proxy: <Proxy RU 0.46s [HTTPS] 176.192.16.203:8081>\n",
      "Found proxy: <Proxy BR 0.71s [HTTPS] 187.16.4.126:8080>\n",
      "Found proxy: <Proxy BR 0.71s [HTTPS] 186.193.229.38:8080>\n",
      "Found proxy: <Proxy RU 0.85s [HTTPS] 95.165.163.146:8888>\n",
      "Found proxy: <Proxy MX 0.95s [HTTPS] 189.199.186.101:80>\n",
      "Found proxy: <Proxy US 0.11s [HTTPS] 157.230.94.149:8080>\n",
      "Found proxy: <Proxy BR 1.67s [HTTPS] 138.219.223.166:3128>\n",
      "Found proxy: <Proxy BD 1.45s [HTTPS] 59.152.11.26:8080>\n",
      "Found proxy: <Proxy ID 3.46s [HTTPS] 36.72.29.223:53281>\n",
      "Found proxy: <Proxy RU 1.01s [HTTPS] 193.150.117.74:8000>\n",
      "Found proxy: <Proxy AF 1.38s [HTTPS] 180.94.64.114:8080>\n",
      "Found proxy: <Proxy TH 1.58s [HTTPS] 180.183.129.229:8080>\n",
      "Found proxy: <Proxy FR 0.22s [HTTPS] 212.129.5.248:54321>\n",
      "Found proxy: <Proxy ID 1.27s [HTTPS] 117.102.78.42:8080>\n",
      "Found proxy: <Proxy ID 1.50s [HTTPS] 103.28.220.73:53281>\n",
      "Found proxy: <Proxy UA 0.82s [HTTPS] 178.213.172.68:8080>\n",
      "Found proxy: <Proxy UA 1.08s [HTTPS] 95.135.142.198:8080>\n",
      "Found proxy: <Proxy RU 1.67s [HTTPS] 91.217.42.2:8080>\n",
      "Found proxy: <Proxy TH 1.58s [HTTPS] 182.52.238.44:37758>\n",
      "Found proxy: <Proxy BR 3.58s [HTTPS] 186.226.172.170:23500>\n",
      "Found proxy: <Proxy BR 1.44s [HTTPS] 191.243.221.130:3128>\n",
      "Found proxy: <Proxy US 0.29s [HTTPS] 3.17.175.232:3128>\n",
      "Found proxy: <Proxy BR 1.25s [HTTPS] 200.170.220.218:8080>\n",
      "Found proxy: <Proxy BR 0.93s [HTTPS] 177.87.10.186:8080>\n",
      "Found proxy: <Proxy CO 0.80s [HTTPS] 186.183.185.82:48209>\n",
      "Found proxy: <Proxy KH 0.71s [HTTPS] 96.9.67.84:8080>\n",
      "Found proxy: <Proxy ID 2.63s [HTTPS] 103.78.74.170:3128>\n",
      "Found proxy: <Proxy CA 0.31s [HTTPS] 142.93.132.238:8080>\n",
      "Found proxy: <Proxy TR 0.66s [HTTPS] 77.92.128.2:8080>\n",
      "Found proxy: <Proxy MX 0.84s [HTTPS] 187.190.237.85:32509>\n",
      "Found proxy: <Proxy RS 1.71s [HTTPS] 195.178.56.33:8080>\n",
      "Found proxy: <Proxy ID 1.17s [HTTPS] 101.255.125.10:8080>\n",
      "Found proxy: <Proxy UA 2.15s [HTTPS] 92.38.118.86:8080>\n",
      "Found proxy: <Proxy CO 1.02s [HTTPS] 186.148.191.50:9991>\n",
      "Found proxy: <Proxy ID 2.65s [HTTPS] 36.67.39.47:8080>\n",
      "Found proxy: <Proxy ID 1.97s [HTTPS] 36.89.76.77:8080>\n",
      "Found proxy: <Proxy IN 1.83s [HTTPS] 43.229.72.213:52360>\n",
      "Found proxy: <Proxy RU 0.37s [HTTPS] 185.22.174.65:10010>\n",
      "Found proxy: <Proxy US 0.32s [HTTPS] 134.209.230.82:8080>\n",
      "Found proxy: <Proxy ID 1.06s [HTTPS] 202.158.17.150:30204>\n",
      "Found proxy: <Proxy ID 1.70s [HTTPS] 103.41.122.14:53281>\n",
      "Found proxy: <Proxy CO 0.98s [HTTPS] 181.143.73.34:53281>\n",
      "Found proxy: <Proxy RU 3.05s [HTTPS] 109.195.23.223:57448>\n",
      "Found proxy: <Proxy KH 3.03s [HTTPS] 96.9.74.160:39305>\n",
      "Found proxy: <Proxy -- 1.26s [HTTPS] 45.227.156.105:50013>\n",
      "Found proxy: <Proxy ID 3.82s [HTTPS] 36.67.7.33:45619>\n",
      "Found proxy: <Proxy ID 1.09s [HTTPS] 36.67.137.25:80>\n",
      "Found proxy: <Proxy ID 1.83s [HTTPS] 49.128.181.13:8081>\n",
      "Found proxy: <Proxy BR 0.96s [HTTPS] 177.44.82.232:8080>\n",
      "Found proxy: <Proxy BR 1.42s [HTTPS] 170.84.68.69:8080>\n",
      "Found proxy: <Proxy BR 1.04s [HTTPS] 177.128.138.36:8080>\n",
      "Found proxy: <Proxy TH 1.89s [HTTPS] 1.20.99.23:54067>\n",
      "Found proxy: <Proxy US 0.09s [HTTPS] 184.105.143.66:3128>\n",
      "Found proxy: <Proxy TW 0.89s [HTTPS] 59.127.168.43:3128>\n",
      "Found proxy: <Proxy UA 1.22s [HTTPS] 176.120.59.85:8080>\n",
      "Found proxy: <Proxy RU 0.28s [HTTPS] 94.242.58.14:10010>\n",
      "Found proxy: <Proxy PL 0.73s [HTTPS] 81.161.205.4:8080>\n",
      "Found proxy: <Proxy LT 0.28s [HTTPS] 45.125.66.146:54321>\n",
      "Found proxy: <Proxy IT 0.34s [HTTPS] 80.211.147.181:3128>\n",
      "Found proxy: <Proxy SY 1.45s [HTTPS] 91.144.20.22:8080>\n"
     ]
    },
    {
     "name": "stdout",
     "output_type": "stream",
     "text": [
      "Found proxy: <Proxy IN 0.63s [HTTPS] 43.241.28.55:8080>\n",
      "Found proxy: <Proxy PL 1.83s [HTTPS] 46.227.244.144:8080>\n",
      "Found proxy: <Proxy BG 2.82s [HTTPS] 78.90.204.39:80>\n",
      "Found proxy: <Proxy CA 0.21s [HTTPS] 158.69.59.171:3128>\n",
      "Found proxy: <Proxy SY 0.61s [HTTPS] 185.151.151.166:3128>\n",
      "Found proxy: <Proxy TH 1.66s [HTTPS] 203.113.103.54:8080>\n",
      "Found proxy: <Proxy US 0.30s [HTTPS] 47.254.23.63:3128>\n",
      "Found proxy: <Proxy UA 1.51s [HTTPS] 178.210.213.77:3128>\n",
      "Found proxy: <Proxy BR 2.82s [HTTPS] 138.99.90.113:8080>\n",
      "Found proxy: <Proxy ID 1.53s [HTTPS] 115.85.83.197:8080>\n",
      "Found proxy: <Proxy BR 0.43s [HTTPS] 200.195.28.21:3128>\n",
      "Found proxy: <Proxy ID 1.09s [HTTPS] 103.248.25.99:53281>\n",
      "Found proxy: <Proxy UA 1.87s [HTTPS] 195.242.179.23:8080>\n",
      "Found proxy: <Proxy PH 1.14s [HTTPS] 122.53.62.139:8080>\n",
      "Found proxy: <Proxy DE 0.32s [HTTPS] 88.99.242.130:3128>\n",
      "Found proxy: <Proxy IR 1.43s [HTTPS] 46.225.128.250:8080>\n",
      "Found proxy: <Proxy BR 1.67s [HTTPS] 186.237.221.33:8080>\n",
      "Found proxy: <Proxy CZ 2.66s [HTTPS] 146.120.227.3:8080>\n",
      "Found proxy: <Proxy BR 1.02s [HTTPS] 187.17.49.122:56321>\n",
      "Found proxy: <Proxy VN 1.25s [HTTPS] 117.7.230.113:443>\n",
      "Found proxy: <Proxy PL 0.34s [HTTPS] 145.239.92.81:3128>\n",
      "Found proxy: <Proxy BR 2.86s [HTTPS] 131.161.177.62:8080>\n",
      "Found proxy: <Proxy RU 1.03s [HTTPS] 91.221.242.1:8080>\n",
      "Found proxy: <Proxy US 0.19s [HTTPS] 157.230.150.101:8080>\n",
      "Found proxy: <Proxy AR 1.26s [HTTPS] 181.14.194.10:8090>\n",
      "Found proxy: <Proxy IN 0.94s [HTTPS] 210.212.69.226:8080>\n",
      "Found proxy: <Proxy GR 0.42s [HTTPS] 178.128.61.83:8080>\n",
      "Found proxy: <Proxy TR 2.46s [HTTPS] 88.255.101.242:8080>\n",
      "Found proxy: <Proxy GR 0.42s [HTTPS] 178.128.18.81:8080>\n",
      "Found proxy: <Proxy RU 0.72s [HTTPS] 195.201.106.71:8080>\n",
      "Found proxy: <Proxy NP 0.59s [HTTPS] 110.44.122.215:8080>\n",
      "Found proxy: <Proxy AZ 1.71s [HTTPS] 185.43.189.189:8080>\n",
      "Found proxy: <Proxy ID 1.08s [HTTPS] 180.250.150.73:8080>\n",
      "Found proxy: <Proxy US 0.49s [HTTPS] 173.249.35.163:10010>\n",
      "Found proxy: <Proxy BR 0.81s [HTTPS] 170.239.144.9:3128>\n",
      "Found proxy: <Proxy IN 1.30s [HTTPS] 112.133.202.83:8080>\n",
      "Found proxy: <Proxy RU 0.88s [HTTPS] 94.141.190.130:8080>\n",
      "Found proxy: <Proxy RU 2.74s [HTTPS] 87.249.205.103:8080>\n",
      "Found proxy: <Proxy UA 1.00s [HTTPS] 91.194.239.122:8080>\n",
      "Found proxy: <Proxy BR 0.98s [HTTPS] 187.121.184.222:20183>\n",
      "Found proxy: <Proxy BR 0.80s [HTTPS] 191.6.25.69:20183>\n",
      "Found proxy: <Proxy -- 1.37s [HTTPS] 103.119.144.250:8080>\n",
      "Found proxy: <Proxy US 0.62s [HTTPS] 208.72.145.14:53281>\n",
      "Found proxy: <Proxy PH 1.80s [HTTPS] 119.92.91.185:8080>\n",
      "Found proxy: <Proxy BR 2.61s [HTTPS] 187.45.127.87:20183>\n",
      "Found proxy: <Proxy IN 0.97s [HTTPS] 103.209.89.67:8080>\n",
      "Found proxy: <Proxy UY 1.69s [HTTPS] 200.125.33.106:8080>\n",
      "Found proxy: <Proxy TH 0.44s [HTTPS] 118.174.211.222:3128>\n",
      "Found proxy: <Proxy ZA 1.92s [HTTPS] 169.159.130.182:8080>\n",
      "Found proxy: <Proxy BO 0.35s [HTTPS] 190.104.24.103:8080>\n",
      "Found proxy: <Proxy PL 0.35s [HTTPS] 145.239.87.173:3128>\n",
      "Found proxy: <Proxy AR 0.67s [HTTPS] 45.7.243.32:8080>\n",
      "Found proxy: <Proxy UA 0.37s [HTTPS] 178.212.197.140:8081>\n",
      "Found proxy: <Proxy NL 0.21s [HTTPS] 95.85.25.124:4444>\n",
      "Found proxy: <Proxy US 0.43s [HTTPS] 157.230.253.14:8080>\n",
      "Found proxy: <Proxy US 0.48s [HTTPS] 208.85.178.241:8080>\n",
      "Found proxy: <Proxy TR 1.09s [HTTPS] 212.156.146.22:40080>\n",
      "Found proxy: <Proxy BR 0.56s [HTTPS] 189.58.100.98:8080>\n",
      "Found proxy: <Proxy RU 1.42s [HTTPS] 62.122.99.235:8080>\n",
      "Found proxy: <Proxy PL 0.75s [HTTPS] 82.177.38.187:8080>\n",
      "Found proxy: <Proxy BR 1.05s [HTTPS] 201.90.36.194:3128>\n",
      "Found proxy: <Proxy BR 1.95s [HTTPS] 177.136.123.153:666>\n",
      "Found proxy: <Proxy BR 0.54s [HTTPS] 177.43.160.224:8080>\n",
      "Found proxy: <Proxy IQ 1.00s [HTTPS] 31.25.139.223:8080>\n",
      "Found proxy: <Proxy TH 0.90s [HTTPS] 1.10.188.85:8080>\n",
      "Found proxy: <Proxy TH 0.67s [HTTPS] 113.53.82.92:39726>\n",
      "Found proxy: <Proxy BO 3.44s [HTTPS] 190.186.206.247:8080>\n",
      "Found proxy: <Proxy BR 0.84s [HTTPS] 201.20.106.186:8080>\n",
      "Found proxy: <Proxy ID 1.77s [HTTPS] 36.74.72.76:41437>\n",
      "Found proxy: <Proxy PY 0.83s [HTTPS] 190.104.179.210:8080>\n",
      "Found proxy: <Proxy ID 1.80s [HTTPS] 36.66.83.125:8080>\n",
      "Found proxy: <Proxy ID 2.67s [HTTPS] 36.67.237.146:3128>\n",
      "Found proxy: <Proxy BR 0.74s [HTTPS] 177.86.24.194:8080>\n",
      "Found proxy: <Proxy US 0.52s [HTTPS] 173.249.35.163:1448>\n",
      "Found proxy: <Proxy PK 2.56s [HTTPS] 110.36.239.235:8080>\n",
      "Found proxy: <Proxy RU 1.69s [HTTPS] 178.238.126.91:8080>\n",
      "Found proxy: <Proxy -- 0.73s [HTTPS] 45.235.87.4:51996>\n",
      "Found proxy: <Proxy BR 2.05s [HTTPS] 131.72.140.70:3128>\n",
      "Found proxy: <Proxy ID 1.30s [HTTPS] 182.253.209.203:3128>\n",
      "Found proxy: <Proxy TH 2.91s [HTTPS] 183.88.221.63:8080>\n",
      "Found proxy: <Proxy BR 0.91s [HTTPS] 179.127.242.60:8080>\n",
      "Found proxy: <Proxy PL 0.27s [HTTPS] 212.182.25.89:3128>\n",
      "Found proxy: <Proxy LT 0.28s [HTTPS] 45.125.66.99:54321>\n",
      "Found proxy: <Proxy AL 0.37s [HTTPS] 178.132.220.241:8080>\n",
      "Found proxy: <Proxy IT 0.24s [HTTPS] 217.61.60.188:3128>\n",
      "Found proxy: <Proxy BR 0.49s [HTTPS] 200.159.250.2:3128>\n",
      "Found proxy: <Proxy DE 0.23s [HTTPS] 88.99.242.188:3128>\n",
      "Found proxy: <Proxy TH 2.88s [HTTPS] 1.2.169.34:8080>\n",
      "Found proxy: <Proxy BD 1.15s [HTTPS] 119.15.155.41:8080>\n",
      "Found proxy: <Proxy PY 0.68s [HTTPS] 143.255.142.80:8080>\n",
      "Found proxy: <Proxy BR 0.88s [HTTPS] 187.62.222.201:8080>\n",
      "Found proxy: <Proxy ID 2.96s [HTTPS] 36.70.176.180:8080>\n",
      "Found proxy: <Proxy TH 1.22s [HTTPS] 1.179.183.86:8080>\n",
      "Found proxy: <Proxy PK 1.20s [HTTPS] 182.176.176.65:8080>\n",
      "Found proxy: <Proxy RU 1.88s [HTTPS] 80.82.51.38:8080>\n",
      "Found proxy: <Proxy BR 0.83s [HTTPS] 177.135.114.164:3128>\n",
      "Found proxy: <Proxy RS 1.46s [HTTPS] 178.253.243.179:8080>\n",
      "Found proxy: <Proxy US 0.44s [HTTPS] 68.183.80.35:3128>\n",
      "Found proxy: <Proxy TH 0.54s [HTTPS] 118.174.211.222:8080>\n",
      "Found proxy: <Proxy RU 0.50s [HTTPS] 91.144.147.46:8080>\n",
      "Found proxy: <Proxy ID 3.08s [HTTPS] 103.24.107.2:8181>\n",
      "Found proxy: <Proxy BR 1.40s [HTTPS] 177.185.156.241:8080>\n",
      "Found proxy: <Proxy US 0.10s [HTTPS] 134.209.119.225:8080>\n",
      "Found proxy: <Proxy BR 1.78s [HTTPS] 177.184.202.81:8080>\n",
      "Found proxy: <Proxy RU 1.31s [HTTPS] 37.235.65.76:8080>\n",
      "Found proxy: <Proxy TH 1.80s [HTTPS] 1.10.188.132:8080>\n",
      "Found proxy: <Proxy US 0.48s [HTTPS] 68.183.35.48:8080>\n",
      "Found proxy: <Proxy ID 3.15s [HTTPS] 110.93.13.202:34881>\n",
      "Found proxy: <Proxy IN 1.14s [HTTPS] 119.235.54.3:8080>\n"
     ]
    }
   ],
   "source": [
    "import asyncio\n",
    "from proxybroker import Broker\n",
    "\n",
    "more_proxies = []\n",
    "\n",
    "async def show(proxy_queue):\n",
    "    while True:\n",
    "        proxy = await proxy_queue.get()\n",
    "        if proxy is None: break\n",
    "        print('Found proxy: %s' % proxy)\n",
    "        more_proxies.append({ 'ip': proxy.host, 'port': proxy.port })\n",
    "\n",
    "proxy_queue = asyncio.Queue()\n",
    "broker = Broker(proxy_queue)\n",
    "tasks = await asyncio.gather(\n",
    "    broker.find(types=['HTTPS'], limit=400),\n",
    "    show(proxy_queue))"
   ]
  },
  {
   "cell_type": "markdown",
   "metadata": {},
   "source": [
    "### Random proxy"
   ]
  },
  {
   "cell_type": "code",
   "execution_count": 16,
   "metadata": {},
   "outputs": [],
   "source": [
    "# all_proxies = proxies + more_proxies\n",
    "all_proxies = more_proxies\n",
    "# Retrieve a random index proxy (we need the index to delete it if not working)\n",
    "def random_proxy():\n",
    "    return random.randint(0, len(all_proxies) - 1)\n",
    "\n",
    "proxy = None\n",
    "# # Choose a random proxy\n",
    "# proxy_index = random_proxy()\n",
    "# proxy = all_proxies[proxy_index]\n",
    "# proxy_url = proxy['ip'] + ':' + str(proxy['port']); proxy_url"
   ]
  },
  {
   "cell_type": "markdown",
   "metadata": {},
   "source": [
    "## Actual scraping"
   ]
  },
  {
   "cell_type": "code",
   "execution_count": 17,
   "metadata": {},
   "outputs": [],
   "source": [
    "invalid_ids = []"
   ]
  },
  {
   "cell_type": "code",
   "execution_count": 18,
   "metadata": {},
   "outputs": [],
   "source": [
    "deleted_proxies = []"
   ]
  },
  {
   "cell_type": "code",
   "execution_count": 19,
   "metadata": {},
   "outputs": [],
   "source": [
    "with open('accounts.json', 'r') as fp:\n",
    "    accounts = json.load(fp)\n",
    "\n",
    "instances = [MusicalMusic(username, password) for (username, password) in accounts]\n",
    "instance = None"
   ]
  },
  {
   "cell_type": "code",
   "execution_count": null,
   "metadata": {},
   "outputs": [
    {
     "name": "stderr",
     "output_type": "stream",
     "text": [
      "\r",
      "  0%|          | 0/1980 [00:00<?, ?it/s]"
     ]
    },
    {
     "name": "stdout",
     "output_type": "stream",
     "text": [
      "Downloading score id: 2483766\n"
     ]
    },
    {
     "name": "stderr",
     "output_type": "stream",
     "text": [
      "\r",
      " 18%|█▊        | 354/1980 [00:01<00:08, 190.71it/s]"
     ]
    },
    {
     "name": "stdout",
     "output_type": "stream",
     "text": [
      "Downloading score id: 4995819\n",
      "Downloading score id: 845701\n",
      "Downloading score id: 1062771\n"
     ]
    },
    {
     "name": "stderr",
     "output_type": "stream",
     "text": [
      "\r",
      " 18%|█▊        | 360/1980 [00:08<09:05,  2.97it/s] "
     ]
    },
    {
     "name": "stdout",
     "output_type": "stream",
     "text": [
      "Downloading score id: 2983111\n"
     ]
    },
    {
     "name": "stderr",
     "output_type": "stream",
     "text": [
      "\r",
      " 18%|█▊        | 365/1980 [00:11<11:19,  2.38it/s]"
     ]
    },
    {
     "name": "stdout",
     "output_type": "stream",
     "text": [
      "Downloading score id: 2017516\n"
     ]
    },
    {
     "name": "stderr",
     "output_type": "stream",
     "text": [
      "\r",
      " 19%|█▊        | 371/1980 [00:15<13:04,  2.05it/s]"
     ]
    },
    {
     "name": "stdout",
     "output_type": "stream",
     "text": [
      "Downloading score id: 317706\n",
      "Downloading score id: 2328941\n"
     ]
    },
    {
     "name": "stderr",
     "output_type": "stream",
     "text": [
      "\r",
      " 19%|█▉        | 374/1980 [00:20<22:00,  1.22it/s]"
     ]
    },
    {
     "name": "stdout",
     "output_type": "stream",
     "text": [
      "Downloading score id: 4811856\n"
     ]
    },
    {
     "name": "stderr",
     "output_type": "stream",
     "text": [
      "\r",
      " 19%|█▉        | 377/1980 [00:23<24:16,  1.10it/s]"
     ]
    },
    {
     "name": "stdout",
     "output_type": "stream",
     "text": [
      "Downloading score id: 3162316\n",
      "Downloading score id: 4014446\n"
     ]
    },
    {
     "name": "stderr",
     "output_type": "stream",
     "text": [
      "\r",
      " 19%|█▉        | 379/1980 [00:28<35:10,  1.32s/it]"
     ]
    },
    {
     "name": "stdout",
     "output_type": "stream",
     "text": [
      "Downloading score id: 1836371\n"
     ]
    },
    {
     "name": "stderr",
     "output_type": "stream",
     "text": [
      "\r",
      " 19%|█▉        | 380/1980 [00:29<39:09,  1.47s/it]"
     ]
    },
    {
     "name": "stdout",
     "output_type": "stream",
     "text": [
      "Downloading score id: 1513551\n"
     ]
    },
    {
     "name": "stderr",
     "output_type": "stream",
     "text": [
      "\r",
      " 19%|█▉        | 381/1980 [00:34<1:03:37,  2.39s/it]"
     ]
    },
    {
     "name": "stdout",
     "output_type": "stream",
     "text": [
      "Downloading score id: 1822911\n"
     ]
    },
    {
     "name": "stderr",
     "output_type": "stream",
     "text": [
      "\r",
      " 19%|█▉        | 382/1980 [00:37<1:07:02,  2.52s/it]"
     ]
    },
    {
     "name": "stdout",
     "output_type": "stream",
     "text": [
      "Downloading score id: 1591631\n"
     ]
    },
    {
     "name": "stderr",
     "output_type": "stream",
     "text": [
      "\r",
      " 19%|█▉        | 383/1980 [00:40<1:15:21,  2.83s/it]"
     ]
    },
    {
     "name": "stdout",
     "output_type": "stream",
     "text": [
      "Downloading score id: 2649031\n"
     ]
    },
    {
     "name": "stderr",
     "output_type": "stream",
     "text": [
      "\r",
      " 19%|█▉        | 384/1980 [00:44<1:24:41,  3.18s/it]"
     ]
    },
    {
     "name": "stdout",
     "output_type": "stream",
     "text": [
      "Downloading score id: 5167634\n"
     ]
    },
    {
     "name": "stderr",
     "output_type": "stream",
     "text": [
      "\r",
      " 19%|█▉        | 385/1980 [00:47<1:20:09,  3.02s/it]"
     ]
    },
    {
     "name": "stdout",
     "output_type": "stream",
     "text": [
      "Downloading score id: 1939736\n"
     ]
    },
    {
     "name": "stderr",
     "output_type": "stream",
     "text": [
      "\r",
      " 19%|█▉        | 386/1980 [00:50<1:18:36,  2.96s/it]"
     ]
    },
    {
     "name": "stdout",
     "output_type": "stream",
     "text": [
      "Downloading score id: 5058536\n"
     ]
    },
    {
     "name": "stderr",
     "output_type": "stream",
     "text": [
      "\r",
      " 20%|█▉        | 387/1980 [00:54<1:24:15,  3.17s/it]"
     ]
    },
    {
     "name": "stdout",
     "output_type": "stream",
     "text": [
      "Downloading score id: 5275014\n"
     ]
    },
    {
     "name": "stderr",
     "output_type": "stream",
     "text": [
      "\r",
      " 20%|█▉        | 388/1980 [00:56<1:21:26,  3.07s/it]"
     ]
    },
    {
     "name": "stdout",
     "output_type": "stream",
     "text": [
      "Downloading score id: 620611\n"
     ]
    },
    {
     "name": "stderr",
     "output_type": "stream",
     "text": [
      "\r",
      " 20%|█▉        | 389/1980 [00:58<1:11:23,  2.69s/it]"
     ]
    },
    {
     "name": "stdout",
     "output_type": "stream",
     "text": [
      "Downloading score id: 2360031\n"
     ]
    },
    {
     "name": "stderr",
     "output_type": "stream",
     "text": [
      "\r",
      " 20%|█▉        | 390/1980 [01:01<1:14:54,  2.83s/it]"
     ]
    },
    {
     "name": "stdout",
     "output_type": "stream",
     "text": [
      "Downloading score id: 1678996\n"
     ]
    },
    {
     "name": "stderr",
     "output_type": "stream",
     "text": [
      "\r",
      " 20%|█▉        | 391/1980 [01:04<1:14:46,  2.82s/it]"
     ]
    },
    {
     "name": "stdout",
     "output_type": "stream",
     "text": [
      "Downloading score id: 1145646\n"
     ]
    },
    {
     "name": "stderr",
     "output_type": "stream",
     "text": [
      "\r",
      " 20%|█▉        | 392/1980 [01:07<1:14:02,  2.80s/it]"
     ]
    },
    {
     "name": "stdout",
     "output_type": "stream",
     "text": [
      "Downloading score id: 5301193\n"
     ]
    },
    {
     "name": "stderr",
     "output_type": "stream",
     "text": [
      "\r",
      " 20%|█▉        | 393/1980 [01:09<1:06:55,  2.53s/it]"
     ]
    },
    {
     "name": "stdout",
     "output_type": "stream",
     "text": [
      "Downloading score id: 4997446\n"
     ]
    }
   ],
   "source": [
    "for idx,link in enumerate(tqdm(links, total=len(links))):\n",
    "    score_id = link['score_id']\n",
    "    out_file = f\"data/{score_id}.mxl\"\n",
    "    if Path(out_file).exists() or score_id in invalid_ids: continue\n",
    "    # Every 10 requests, generate a new proxy\n",
    "    if idx % 10 == 0 or instance is None:\n",
    "        instance_index = random.randint(0, len(instances) - 1)\n",
    "        instance = instances[instance_index]\n",
    "    try:\n",
    "        print('Downloading score id:', score_id)\n",
    "        instance.download(score_id, out_file, format='mxl')\n",
    "    except Exception as e:\n",
    "        print('Could not download id:', score_id)\n",
    "        instance = None\n",
    "    sleep(randint(1,2))\n",
    "    "
   ]
  },
  {
   "cell_type": "code",
   "execution_count": 38,
   "metadata": {},
   "outputs": [
    {
     "data": {
      "text/plain": [
       "500"
      ]
     },
     "execution_count": 38,
     "metadata": {},
     "output_type": "execute_result"
    }
   ],
   "source": [
    "len(all_proxies)"
   ]
  },
  {
   "cell_type": "code",
   "execution_count": 39,
   "metadata": {},
   "outputs": [
    {
     "name": "stderr",
     "output_type": "stream",
     "text": [
      "\n",
      "  0%|          | 0/1980 [00:00<?, ?it/s]\u001b[A"
     ]
    },
    {
     "name": "stdout",
     "output_type": "stream",
     "text": [
      "Downloading score id: 622771\n"
     ]
    },
    {
     "name": "stderr",
     "output_type": "stream",
     "text": [
      "\n",
      " 17%|█▋        | 344/1980 [00:03<00:17, 93.87it/s]\u001b[A"
     ]
    },
    {
     "name": "stdout",
     "output_type": "stream",
     "text": [
      "Downloading score id: 1506676\n",
      "Downloading score id: 1014291\n",
      "Downloading score id: 207721\n"
     ]
    },
    {
     "name": "stderr",
     "output_type": "stream",
     "text": [
      "\n",
      " 18%|█▊        | 347/1980 [00:15<31:38,  1.16s/it]\u001b[A"
     ]
    },
    {
     "name": "stdout",
     "output_type": "stream",
     "text": [
      "Downloading score id: 4702361\n"
     ]
    },
    {
     "name": "stderr",
     "output_type": "stream",
     "text": [
      "\n",
      " 18%|█▊        | 348/1980 [00:18<50:22,  1.85s/it]\u001b[A"
     ]
    },
    {
     "name": "stdout",
     "output_type": "stream",
     "text": [
      "Downloading score id: 2839501\n"
     ]
    },
    {
     "name": "stderr",
     "output_type": "stream",
     "text": [
      "\n",
      " 18%|█▊        | 349/1980 [00:21<1:02:08,  2.29s/it]\u001b[A"
     ]
    },
    {
     "name": "stdout",
     "output_type": "stream",
     "text": [
      "Downloading score id: 4245846\n"
     ]
    },
    {
     "name": "stderr",
     "output_type": "stream",
     "text": [
      "\n",
      " 18%|█▊        | 350/1980 [00:28<1:32:39,  3.41s/it]\u001b[A"
     ]
    },
    {
     "name": "stdout",
     "output_type": "stream",
     "text": [
      "Downloading score id: 3349681\n"
     ]
    },
    {
     "name": "stderr",
     "output_type": "stream",
     "text": [
      "\n",
      " 18%|█▊        | 351/1980 [00:39<2:40:14,  5.90s/it]\u001b[A"
     ]
    },
    {
     "name": "stdout",
     "output_type": "stream",
     "text": [
      "Downloading score id: 1913131\n"
     ]
    },
    {
     "name": "stderr",
     "output_type": "stream",
     "text": [
      "\n",
      " 18%|█▊        | 352/1980 [02:10<14:11:50, 31.39s/it]\u001b[A"
     ]
    },
    {
     "name": "stdout",
     "output_type": "stream",
     "text": [
      "Downloading score id: 3043386\n"
     ]
    },
    {
     "name": "stderr",
     "output_type": "stream",
     "text": [
      "\n",
      " 18%|█▊        | 353/1980 [02:17<10:50:26, 23.99s/it]\u001b[A"
     ]
    },
    {
     "name": "stdout",
     "output_type": "stream",
     "text": [
      "Downloading score id: 2483766\n"
     ]
    },
    {
     "name": "stderr",
     "output_type": "stream",
     "text": [
      "\n",
      " 18%|█▊        | 354/1980 [02:24<8:32:24, 18.91s/it] \u001b[A"
     ]
    },
    {
     "name": "stdout",
     "output_type": "stream",
     "text": [
      "Could not download id: 2483766\n",
      "Error: <urlopen error [Errno 104] Connection reset by peer>\n",
      "Proxy 188.73.8.12:48353 deleted.\n",
      "jurassictech\n",
      "Downloading score id: 4995819\n"
     ]
    },
    {
     "name": "stderr",
     "output_type": "stream",
     "text": [
      "\n",
      " 18%|█▊        | 355/1980 [02:25<6:09:02, 13.63s/it]\u001b[A"
     ]
    },
    {
     "name": "stdout",
     "output_type": "stream",
     "text": [
      "Could not download id: 4995819\n",
      "Error: <urlopen error [Errno 104] Connection reset by peer>\n",
      "Proxy 185.70.184.249:3128 deleted.\n",
      "cwkeam\n",
      "Downloading score id: 4801654\n"
     ]
    },
    {
     "name": "stderr",
     "output_type": "stream",
     "text": [
      "\n",
      " 18%|█▊        | 356/1980 [02:41<6:23:33, 14.17s/it]\u001b[A"
     ]
    },
    {
     "name": "stdout",
     "output_type": "stream",
     "text": [
      "Downloading score id: 4800200\n"
     ]
    },
    {
     "name": "stderr",
     "output_type": "stream",
     "text": [
      "\n",
      " 18%|█▊        | 357/1980 [02:49<5:39:57, 12.57s/it]\u001b[A"
     ]
    },
    {
     "name": "stdout",
     "output_type": "stream",
     "text": [
      "Downloading score id: 845701\n"
     ]
    },
    {
     "name": "stderr",
     "output_type": "stream",
     "text": [
      "\n",
      " 18%|█▊        | 358/1980 [02:54<4:34:39, 10.16s/it]\u001b[A"
     ]
    },
    {
     "name": "stdout",
     "output_type": "stream",
     "text": [
      "Could not download id: 845701\n",
      "Error: <urlopen error [Errno 104] Connection reset by peer>\n",
      "Proxy 82.177.38.187:8080 deleted.\n",
      "tulebo\n",
      "Downloading score id: 1062771\n"
     ]
    },
    {
     "name": "stderr",
     "output_type": "stream",
     "text": [
      "\n",
      " 18%|█▊        | 359/1980 [02:55<3:18:49,  7.36s/it]\u001b[A"
     ]
    },
    {
     "name": "stdout",
     "output_type": "stream",
     "text": [
      "Could not download id: 1062771\n",
      "Error: <urlopen error [SSL: CERTIFICATE_VERIFY_FAILED] certificate verify failed: self signed certificate in certificate chain (_ssl.c:1051)>\n",
      "Proxy 91.105.173.121:8080 deleted.\n",
      "awesomesheets\n",
      "Downloading score id: 3902706\n"
     ]
    },
    {
     "name": "stderr",
     "output_type": "stream",
     "text": [
      "\n",
      " 18%|█▊        | 360/1980 [02:57<2:39:50,  5.92s/it]\u001b[A"
     ]
    },
    {
     "name": "stdout",
     "output_type": "stream",
     "text": [
      "Downloading score id: 2582191\n"
     ]
    },
    {
     "name": "stderr",
     "output_type": "stream",
     "text": [
      "\n",
      " 18%|█▊        | 361/1980 [03:06<2:57:52,  6.59s/it]\u001b[A"
     ]
    },
    {
     "name": "stdout",
     "output_type": "stream",
     "text": [
      "Downloading score id: 3670316\n"
     ]
    },
    {
     "name": "stderr",
     "output_type": "stream",
     "text": [
      "\n",
      " 18%|█▊        | 362/1980 [03:13<3:05:58,  6.90s/it]\u001b[A"
     ]
    },
    {
     "name": "stdout",
     "output_type": "stream",
     "text": [
      "Downloading score id: 2983111\n"
     ]
    },
    {
     "name": "stderr",
     "output_type": "stream",
     "text": [
      "\n",
      " 18%|█▊        | 363/1980 [03:19<2:56:44,  6.56s/it]\u001b[A"
     ]
    },
    {
     "name": "stdout",
     "output_type": "stream",
     "text": [
      "Could not download id: 2983111\n",
      "Error: <urlopen error Remote end closed connection without response>\n",
      "Proxy 46.167.198.74:53281 deleted.\n",
      "cwkeam\n",
      "Downloading score id: 1532561\n"
     ]
    },
    {
     "name": "stderr",
     "output_type": "stream",
     "text": [
      "\n",
      " 18%|█▊        | 364/1980 [03:22<2:26:34,  5.44s/it]\u001b[A"
     ]
    },
    {
     "name": "stdout",
     "output_type": "stream",
     "text": [
      "Downloading score id: 1125831\n"
     ]
    },
    {
     "name": "stderr",
     "output_type": "stream",
     "text": [
      "\n",
      " 18%|█▊        | 365/1980 [03:25<2:05:31,  4.66s/it]\u001b[A"
     ]
    },
    {
     "name": "stdout",
     "output_type": "stream",
     "text": [
      "Downloading score id: 1077136\n"
     ]
    },
    {
     "name": "stderr",
     "output_type": "stream",
     "text": [
      "\n",
      " 18%|█▊        | 366/1980 [03:27<1:46:42,  3.97s/it]\u001b[A"
     ]
    },
    {
     "name": "stdout",
     "output_type": "stream",
     "text": [
      "Downloading score id: 2865091\n"
     ]
    },
    {
     "name": "stderr",
     "output_type": "stream",
     "text": [
      "\n",
      " 19%|█▊        | 367/1980 [03:30<1:36:20,  3.58s/it]\u001b[A"
     ]
    },
    {
     "name": "stdout",
     "output_type": "stream",
     "text": [
      "Downloading score id: 1820281\n"
     ]
    },
    {
     "name": "stderr",
     "output_type": "stream",
     "text": [
      "\n",
      " 19%|█▊        | 368/1980 [03:32<1:26:48,  3.23s/it]\u001b[A"
     ]
    },
    {
     "name": "stdout",
     "output_type": "stream",
     "text": [
      "Downloading score id: 4303041\n"
     ]
    },
    {
     "name": "stderr",
     "output_type": "stream",
     "text": [
      "\n",
      " 19%|█▊        | 369/1980 [03:34<1:20:04,  2.98s/it]\u001b[A"
     ]
    },
    {
     "name": "stdout",
     "output_type": "stream",
     "text": [
      "Downloading score id: 3955816\n"
     ]
    },
    {
     "name": "stderr",
     "output_type": "stream",
     "text": [
      "\n",
      " 19%|█▊        | 370/1980 [03:37<1:15:06,  2.80s/it]\u001b[A"
     ]
    },
    {
     "name": "stdout",
     "output_type": "stream",
     "text": [
      "Downloading score id: 2017516\n",
      "Could not download id: 2017516\n",
      "Error: <urlopen error Remote end closed connection without response>\n",
      "Proxy 68.107.176.159:80 deleted.\n",
      "jurassictech\n",
      "Downloading score id: 317706\n"
     ]
    },
    {
     "name": "stderr",
     "output_type": "stream",
     "text": [
      "\n",
      " 19%|█▉        | 372/1980 [03:37<54:21,  2.03s/it]  \u001b[A"
     ]
    },
    {
     "name": "stdout",
     "output_type": "stream",
     "text": [
      "Could not download id: 317706\n",
      "Error: <urlopen error Tunnel connection failed: 400 Bad Request>\n",
      "Proxy 61.219.134.55:8080 deleted.\n",
      "kate.zuo\n",
      "Downloading score id: 3049921\n"
     ]
    },
    {
     "name": "stderr",
     "output_type": "stream",
     "text": [
      "\n",
      " 19%|█▉        | 373/1980 [04:47<9:58:02, 22.33s/it]\u001b[A"
     ]
    },
    {
     "name": "stdout",
     "output_type": "stream",
     "text": [
      "Downloading score id: 2328941\n"
     ]
    },
    {
     "name": "stderr",
     "output_type": "stream",
     "text": [
      "\n",
      " 19%|█▉        | 374/1980 [06:00<16:47:12, 37.63s/it]\u001b[A"
     ]
    },
    {
     "name": "stdout",
     "output_type": "stream",
     "text": [
      "Could not download id: 2328941\n",
      "Error: <urlopen error [Errno 104] Connection reset by peer>\n",
      "Proxy 187.32.4.66:8080 deleted.\n",
      "tulebo\n",
      "Downloading score id: 1389546\n"
     ]
    },
    {
     "name": "stderr",
     "output_type": "stream",
     "text": [
      "\n",
      " 19%|█▉        | 375/1980 [06:13<13:27:08, 30.17s/it]\u001b[A"
     ]
    },
    {
     "name": "stdout",
     "output_type": "stream",
     "text": [
      "Downloading score id: 1042331\n"
     ]
    },
    {
     "name": "stderr",
     "output_type": "stream",
     "text": [
      "\n",
      " 19%|█▉        | 376/1980 [06:19<10:15:39, 23.03s/it]\u001b[A"
     ]
    },
    {
     "name": "stdout",
     "output_type": "stream",
     "text": [
      "Downloading score id: 4811856\n"
     ]
    },
    {
     "ename": "KeyboardInterrupt",
     "evalue": "",
     "output_type": "error",
     "traceback": [
      "\u001b[0;31m---------------------------------------------------------------------------\u001b[0m",
      "\u001b[0;31mKeyboardInterrupt\u001b[0m                         Traceback (most recent call last)",
      "\u001b[0;32m<ipython-input-39-512c5fd902fd>\u001b[0m in \u001b[0;36m<module>\u001b[0;34m\u001b[0m\n\u001b[1;32m     12\u001b[0m     \u001b[0;32mtry\u001b[0m\u001b[0;34m:\u001b[0m\u001b[0;34m\u001b[0m\u001b[0;34m\u001b[0m\u001b[0m\n\u001b[1;32m     13\u001b[0m         \u001b[0mprint\u001b[0m\u001b[0;34m(\u001b[0m\u001b[0;34m'Downloading score id:'\u001b[0m\u001b[0;34m,\u001b[0m \u001b[0mscore_id\u001b[0m\u001b[0;34m)\u001b[0m\u001b[0;34m\u001b[0m\u001b[0;34m\u001b[0m\u001b[0m\n\u001b[0;32m---> 14\u001b[0;31m         \u001b[0minstance\u001b[0m\u001b[0;34m.\u001b[0m\u001b[0mdownload\u001b[0m\u001b[0;34m(\u001b[0m\u001b[0mscore_id\u001b[0m\u001b[0;34m,\u001b[0m \u001b[0mout_file\u001b[0m\u001b[0;34m,\u001b[0m \u001b[0mformat\u001b[0m\u001b[0;34m=\u001b[0m\u001b[0;34m'mxl'\u001b[0m\u001b[0;34m,\u001b[0m \u001b[0mproxy\u001b[0m\u001b[0;34m=\u001b[0m\u001b[0mproxy_url\u001b[0m\u001b[0;34m)\u001b[0m\u001b[0;34m\u001b[0m\u001b[0;34m\u001b[0m\u001b[0m\n\u001b[0m\u001b[1;32m     15\u001b[0m     \u001b[0;32mexcept\u001b[0m \u001b[0mException\u001b[0m \u001b[0;32mas\u001b[0m \u001b[0me\u001b[0m\u001b[0;34m:\u001b[0m\u001b[0;34m\u001b[0m\u001b[0;34m\u001b[0m\u001b[0m\n\u001b[1;32m     16\u001b[0m         \u001b[0mprint\u001b[0m\u001b[0;34m(\u001b[0m\u001b[0;34m'Could not download id:'\u001b[0m\u001b[0;34m,\u001b[0m \u001b[0mscore_id\u001b[0m\u001b[0;34m)\u001b[0m\u001b[0;34m\u001b[0m\u001b[0;34m\u001b[0m\u001b[0m\n",
      "\u001b[0;32m<ipython-input-29-e941c227e77d>\u001b[0m in \u001b[0;36mdownload\u001b[0;34m(self, id, filename, format, proxy)\u001b[0m\n\u001b[1;32m     68\u001b[0m         \u001b[0murllib\u001b[0m\u001b[0;34m.\u001b[0m\u001b[0mrequest\u001b[0m\u001b[0;34m.\u001b[0m\u001b[0minstall_opener\u001b[0m\u001b[0;34m(\u001b[0m\u001b[0mopener\u001b[0m\u001b[0;34m)\u001b[0m\u001b[0;34m\u001b[0m\u001b[0;34m\u001b[0m\u001b[0m\n\u001b[1;32m     69\u001b[0m         \u001b[0;32mtry\u001b[0m\u001b[0;34m:\u001b[0m\u001b[0;34m\u001b[0m\u001b[0;34m\u001b[0m\u001b[0m\n\u001b[0;32m---> 70\u001b[0;31m             \u001b[0murllib\u001b[0m\u001b[0;34m.\u001b[0m\u001b[0mrequest\u001b[0m\u001b[0;34m.\u001b[0m\u001b[0murlretrieve\u001b[0m\u001b[0;34m(\u001b[0m\u001b[0mnewlink\u001b[0m\u001b[0;34m,\u001b[0m \u001b[0mfilename\u001b[0m\u001b[0;34m)\u001b[0m\u001b[0;34m\u001b[0m\u001b[0;34m\u001b[0m\u001b[0m\n\u001b[0m\u001b[1;32m     71\u001b[0m         \u001b[0;32mexcept\u001b[0m \u001b[0murllib\u001b[0m\u001b[0;34m.\u001b[0m\u001b[0merror\u001b[0m\u001b[0;34m.\u001b[0m\u001b[0mHTTPError\u001b[0m \u001b[0;32mas\u001b[0m \u001b[0me\u001b[0m\u001b[0;34m:\u001b[0m\u001b[0;34m\u001b[0m\u001b[0;34m\u001b[0m\u001b[0m\n\u001b[1;32m     72\u001b[0m             \u001b[0;32mraise\u001b[0m \u001b[0me\u001b[0m\u001b[0;34m\u001b[0m\u001b[0;34m\u001b[0m\u001b[0m\n",
      "\u001b[0;32m~/anaconda3/envs/midi/lib/python3.7/urllib/request.py\u001b[0m in \u001b[0;36murlretrieve\u001b[0;34m(url, filename, reporthook, data)\u001b[0m\n\u001b[1;32m    245\u001b[0m     \u001b[0murl_type\u001b[0m\u001b[0;34m,\u001b[0m \u001b[0mpath\u001b[0m \u001b[0;34m=\u001b[0m \u001b[0msplittype\u001b[0m\u001b[0;34m(\u001b[0m\u001b[0murl\u001b[0m\u001b[0;34m)\u001b[0m\u001b[0;34m\u001b[0m\u001b[0;34m\u001b[0m\u001b[0m\n\u001b[1;32m    246\u001b[0m \u001b[0;34m\u001b[0m\u001b[0m\n\u001b[0;32m--> 247\u001b[0;31m     \u001b[0;32mwith\u001b[0m \u001b[0mcontextlib\u001b[0m\u001b[0;34m.\u001b[0m\u001b[0mclosing\u001b[0m\u001b[0;34m(\u001b[0m\u001b[0murlopen\u001b[0m\u001b[0;34m(\u001b[0m\u001b[0murl\u001b[0m\u001b[0;34m,\u001b[0m \u001b[0mdata\u001b[0m\u001b[0;34m)\u001b[0m\u001b[0;34m)\u001b[0m \u001b[0;32mas\u001b[0m \u001b[0mfp\u001b[0m\u001b[0;34m:\u001b[0m\u001b[0;34m\u001b[0m\u001b[0;34m\u001b[0m\u001b[0m\n\u001b[0m\u001b[1;32m    248\u001b[0m         \u001b[0mheaders\u001b[0m \u001b[0;34m=\u001b[0m \u001b[0mfp\u001b[0m\u001b[0;34m.\u001b[0m\u001b[0minfo\u001b[0m\u001b[0;34m(\u001b[0m\u001b[0;34m)\u001b[0m\u001b[0;34m\u001b[0m\u001b[0;34m\u001b[0m\u001b[0m\n\u001b[1;32m    249\u001b[0m \u001b[0;34m\u001b[0m\u001b[0m\n",
      "\u001b[0;32m~/anaconda3/envs/midi/lib/python3.7/urllib/request.py\u001b[0m in \u001b[0;36murlopen\u001b[0;34m(url, data, timeout, cafile, capath, cadefault, context)\u001b[0m\n\u001b[1;32m    220\u001b[0m     \u001b[0;32melse\u001b[0m\u001b[0;34m:\u001b[0m\u001b[0;34m\u001b[0m\u001b[0;34m\u001b[0m\u001b[0m\n\u001b[1;32m    221\u001b[0m         \u001b[0mopener\u001b[0m \u001b[0;34m=\u001b[0m \u001b[0m_opener\u001b[0m\u001b[0;34m\u001b[0m\u001b[0;34m\u001b[0m\u001b[0m\n\u001b[0;32m--> 222\u001b[0;31m     \u001b[0;32mreturn\u001b[0m \u001b[0mopener\u001b[0m\u001b[0;34m.\u001b[0m\u001b[0mopen\u001b[0m\u001b[0;34m(\u001b[0m\u001b[0murl\u001b[0m\u001b[0;34m,\u001b[0m \u001b[0mdata\u001b[0m\u001b[0;34m,\u001b[0m \u001b[0mtimeout\u001b[0m\u001b[0;34m)\u001b[0m\u001b[0;34m\u001b[0m\u001b[0;34m\u001b[0m\u001b[0m\n\u001b[0m\u001b[1;32m    223\u001b[0m \u001b[0;34m\u001b[0m\u001b[0m\n\u001b[1;32m    224\u001b[0m \u001b[0;32mdef\u001b[0m \u001b[0minstall_opener\u001b[0m\u001b[0;34m(\u001b[0m\u001b[0mopener\u001b[0m\u001b[0;34m)\u001b[0m\u001b[0;34m:\u001b[0m\u001b[0;34m\u001b[0m\u001b[0;34m\u001b[0m\u001b[0m\n",
      "\u001b[0;32m~/anaconda3/envs/midi/lib/python3.7/urllib/request.py\u001b[0m in \u001b[0;36mopen\u001b[0;34m(self, fullurl, data, timeout)\u001b[0m\n\u001b[1;32m    523\u001b[0m             \u001b[0mreq\u001b[0m \u001b[0;34m=\u001b[0m \u001b[0mmeth\u001b[0m\u001b[0;34m(\u001b[0m\u001b[0mreq\u001b[0m\u001b[0;34m)\u001b[0m\u001b[0;34m\u001b[0m\u001b[0;34m\u001b[0m\u001b[0m\n\u001b[1;32m    524\u001b[0m \u001b[0;34m\u001b[0m\u001b[0m\n\u001b[0;32m--> 525\u001b[0;31m         \u001b[0mresponse\u001b[0m \u001b[0;34m=\u001b[0m \u001b[0mself\u001b[0m\u001b[0;34m.\u001b[0m\u001b[0m_open\u001b[0m\u001b[0;34m(\u001b[0m\u001b[0mreq\u001b[0m\u001b[0;34m,\u001b[0m \u001b[0mdata\u001b[0m\u001b[0;34m)\u001b[0m\u001b[0;34m\u001b[0m\u001b[0;34m\u001b[0m\u001b[0m\n\u001b[0m\u001b[1;32m    526\u001b[0m \u001b[0;34m\u001b[0m\u001b[0m\n\u001b[1;32m    527\u001b[0m         \u001b[0;31m# post-process response\u001b[0m\u001b[0;34m\u001b[0m\u001b[0;34m\u001b[0m\u001b[0;34m\u001b[0m\u001b[0m\n",
      "\u001b[0;32m~/anaconda3/envs/midi/lib/python3.7/urllib/request.py\u001b[0m in \u001b[0;36m_open\u001b[0;34m(self, req, data)\u001b[0m\n\u001b[1;32m    541\u001b[0m         \u001b[0mprotocol\u001b[0m \u001b[0;34m=\u001b[0m \u001b[0mreq\u001b[0m\u001b[0;34m.\u001b[0m\u001b[0mtype\u001b[0m\u001b[0;34m\u001b[0m\u001b[0;34m\u001b[0m\u001b[0m\n\u001b[1;32m    542\u001b[0m         result = self._call_chain(self.handle_open, protocol, protocol +\n\u001b[0;32m--> 543\u001b[0;31m                                   '_open', req)\n\u001b[0m\u001b[1;32m    544\u001b[0m         \u001b[0;32mif\u001b[0m \u001b[0mresult\u001b[0m\u001b[0;34m:\u001b[0m\u001b[0;34m\u001b[0m\u001b[0;34m\u001b[0m\u001b[0m\n\u001b[1;32m    545\u001b[0m             \u001b[0;32mreturn\u001b[0m \u001b[0mresult\u001b[0m\u001b[0;34m\u001b[0m\u001b[0;34m\u001b[0m\u001b[0m\n",
      "\u001b[0;32m~/anaconda3/envs/midi/lib/python3.7/urllib/request.py\u001b[0m in \u001b[0;36m_call_chain\u001b[0;34m(self, chain, kind, meth_name, *args)\u001b[0m\n\u001b[1;32m    501\u001b[0m         \u001b[0;32mfor\u001b[0m \u001b[0mhandler\u001b[0m \u001b[0;32min\u001b[0m \u001b[0mhandlers\u001b[0m\u001b[0;34m:\u001b[0m\u001b[0;34m\u001b[0m\u001b[0;34m\u001b[0m\u001b[0m\n\u001b[1;32m    502\u001b[0m             \u001b[0mfunc\u001b[0m \u001b[0;34m=\u001b[0m \u001b[0mgetattr\u001b[0m\u001b[0;34m(\u001b[0m\u001b[0mhandler\u001b[0m\u001b[0;34m,\u001b[0m \u001b[0mmeth_name\u001b[0m\u001b[0;34m)\u001b[0m\u001b[0;34m\u001b[0m\u001b[0;34m\u001b[0m\u001b[0m\n\u001b[0;32m--> 503\u001b[0;31m             \u001b[0mresult\u001b[0m \u001b[0;34m=\u001b[0m \u001b[0mfunc\u001b[0m\u001b[0;34m(\u001b[0m\u001b[0;34m*\u001b[0m\u001b[0margs\u001b[0m\u001b[0;34m)\u001b[0m\u001b[0;34m\u001b[0m\u001b[0;34m\u001b[0m\u001b[0m\n\u001b[0m\u001b[1;32m    504\u001b[0m             \u001b[0;32mif\u001b[0m \u001b[0mresult\u001b[0m \u001b[0;32mis\u001b[0m \u001b[0;32mnot\u001b[0m \u001b[0;32mNone\u001b[0m\u001b[0;34m:\u001b[0m\u001b[0;34m\u001b[0m\u001b[0;34m\u001b[0m\u001b[0m\n\u001b[1;32m    505\u001b[0m                 \u001b[0;32mreturn\u001b[0m \u001b[0mresult\u001b[0m\u001b[0;34m\u001b[0m\u001b[0;34m\u001b[0m\u001b[0m\n",
      "\u001b[0;32m~/anaconda3/envs/midi/lib/python3.7/urllib/request.py\u001b[0m in \u001b[0;36mhttps_open\u001b[0;34m(self, req)\u001b[0m\n\u001b[1;32m   1358\u001b[0m         \u001b[0;32mdef\u001b[0m \u001b[0mhttps_open\u001b[0m\u001b[0;34m(\u001b[0m\u001b[0mself\u001b[0m\u001b[0;34m,\u001b[0m \u001b[0mreq\u001b[0m\u001b[0;34m)\u001b[0m\u001b[0;34m:\u001b[0m\u001b[0;34m\u001b[0m\u001b[0;34m\u001b[0m\u001b[0m\n\u001b[1;32m   1359\u001b[0m             return self.do_open(http.client.HTTPSConnection, req,\n\u001b[0;32m-> 1360\u001b[0;31m                 context=self._context, check_hostname=self._check_hostname)\n\u001b[0m\u001b[1;32m   1361\u001b[0m \u001b[0;34m\u001b[0m\u001b[0m\n\u001b[1;32m   1362\u001b[0m         \u001b[0mhttps_request\u001b[0m \u001b[0;34m=\u001b[0m \u001b[0mAbstractHTTPHandler\u001b[0m\u001b[0;34m.\u001b[0m\u001b[0mdo_request_\u001b[0m\u001b[0;34m\u001b[0m\u001b[0;34m\u001b[0m\u001b[0m\n",
      "\u001b[0;32m~/anaconda3/envs/midi/lib/python3.7/urllib/request.py\u001b[0m in \u001b[0;36mdo_open\u001b[0;34m(self, http_class, req, **http_conn_args)\u001b[0m\n\u001b[1;32m   1315\u001b[0m             \u001b[0;32mtry\u001b[0m\u001b[0;34m:\u001b[0m\u001b[0;34m\u001b[0m\u001b[0;34m\u001b[0m\u001b[0m\n\u001b[1;32m   1316\u001b[0m                 h.request(req.get_method(), req.selector, req.data, headers,\n\u001b[0;32m-> 1317\u001b[0;31m                           encode_chunked=req.has_header('Transfer-encoding'))\n\u001b[0m\u001b[1;32m   1318\u001b[0m             \u001b[0;32mexcept\u001b[0m \u001b[0mOSError\u001b[0m \u001b[0;32mas\u001b[0m \u001b[0merr\u001b[0m\u001b[0;34m:\u001b[0m \u001b[0;31m# timeout error\u001b[0m\u001b[0;34m\u001b[0m\u001b[0;34m\u001b[0m\u001b[0m\n\u001b[1;32m   1319\u001b[0m                 \u001b[0;32mraise\u001b[0m \u001b[0mURLError\u001b[0m\u001b[0;34m(\u001b[0m\u001b[0merr\u001b[0m\u001b[0;34m)\u001b[0m\u001b[0;34m\u001b[0m\u001b[0;34m\u001b[0m\u001b[0m\n",
      "\u001b[0;32m~/anaconda3/envs/midi/lib/python3.7/http/client.py\u001b[0m in \u001b[0;36mrequest\u001b[0;34m(self, method, url, body, headers, encode_chunked)\u001b[0m\n\u001b[1;32m   1227\u001b[0m                 encode_chunked=False):\n\u001b[1;32m   1228\u001b[0m         \u001b[0;34m\"\"\"Send a complete request to the server.\"\"\"\u001b[0m\u001b[0;34m\u001b[0m\u001b[0;34m\u001b[0m\u001b[0m\n\u001b[0;32m-> 1229\u001b[0;31m         \u001b[0mself\u001b[0m\u001b[0;34m.\u001b[0m\u001b[0m_send_request\u001b[0m\u001b[0;34m(\u001b[0m\u001b[0mmethod\u001b[0m\u001b[0;34m,\u001b[0m \u001b[0murl\u001b[0m\u001b[0;34m,\u001b[0m \u001b[0mbody\u001b[0m\u001b[0;34m,\u001b[0m \u001b[0mheaders\u001b[0m\u001b[0;34m,\u001b[0m \u001b[0mencode_chunked\u001b[0m\u001b[0;34m)\u001b[0m\u001b[0;34m\u001b[0m\u001b[0;34m\u001b[0m\u001b[0m\n\u001b[0m\u001b[1;32m   1230\u001b[0m \u001b[0;34m\u001b[0m\u001b[0m\n\u001b[1;32m   1231\u001b[0m     \u001b[0;32mdef\u001b[0m \u001b[0m_send_request\u001b[0m\u001b[0;34m(\u001b[0m\u001b[0mself\u001b[0m\u001b[0;34m,\u001b[0m \u001b[0mmethod\u001b[0m\u001b[0;34m,\u001b[0m \u001b[0murl\u001b[0m\u001b[0;34m,\u001b[0m \u001b[0mbody\u001b[0m\u001b[0;34m,\u001b[0m \u001b[0mheaders\u001b[0m\u001b[0;34m,\u001b[0m \u001b[0mencode_chunked\u001b[0m\u001b[0;34m)\u001b[0m\u001b[0;34m:\u001b[0m\u001b[0;34m\u001b[0m\u001b[0;34m\u001b[0m\u001b[0m\n",
      "\u001b[0;32m~/anaconda3/envs/midi/lib/python3.7/http/client.py\u001b[0m in \u001b[0;36m_send_request\u001b[0;34m(self, method, url, body, headers, encode_chunked)\u001b[0m\n\u001b[1;32m   1273\u001b[0m             \u001b[0;31m# default charset of iso-8859-1.\u001b[0m\u001b[0;34m\u001b[0m\u001b[0;34m\u001b[0m\u001b[0;34m\u001b[0m\u001b[0m\n\u001b[1;32m   1274\u001b[0m             \u001b[0mbody\u001b[0m \u001b[0;34m=\u001b[0m \u001b[0m_encode\u001b[0m\u001b[0;34m(\u001b[0m\u001b[0mbody\u001b[0m\u001b[0;34m,\u001b[0m \u001b[0;34m'body'\u001b[0m\u001b[0;34m)\u001b[0m\u001b[0;34m\u001b[0m\u001b[0;34m\u001b[0m\u001b[0m\n\u001b[0;32m-> 1275\u001b[0;31m         \u001b[0mself\u001b[0m\u001b[0;34m.\u001b[0m\u001b[0mendheaders\u001b[0m\u001b[0;34m(\u001b[0m\u001b[0mbody\u001b[0m\u001b[0;34m,\u001b[0m \u001b[0mencode_chunked\u001b[0m\u001b[0;34m=\u001b[0m\u001b[0mencode_chunked\u001b[0m\u001b[0;34m)\u001b[0m\u001b[0;34m\u001b[0m\u001b[0;34m\u001b[0m\u001b[0m\n\u001b[0m\u001b[1;32m   1276\u001b[0m \u001b[0;34m\u001b[0m\u001b[0m\n\u001b[1;32m   1277\u001b[0m     \u001b[0;32mdef\u001b[0m \u001b[0mgetresponse\u001b[0m\u001b[0;34m(\u001b[0m\u001b[0mself\u001b[0m\u001b[0;34m)\u001b[0m\u001b[0;34m:\u001b[0m\u001b[0;34m\u001b[0m\u001b[0;34m\u001b[0m\u001b[0m\n",
      "\u001b[0;32m~/anaconda3/envs/midi/lib/python3.7/http/client.py\u001b[0m in \u001b[0;36mendheaders\u001b[0;34m(self, message_body, encode_chunked)\u001b[0m\n\u001b[1;32m   1222\u001b[0m         \u001b[0;32melse\u001b[0m\u001b[0;34m:\u001b[0m\u001b[0;34m\u001b[0m\u001b[0;34m\u001b[0m\u001b[0m\n\u001b[1;32m   1223\u001b[0m             \u001b[0;32mraise\u001b[0m \u001b[0mCannotSendHeader\u001b[0m\u001b[0;34m(\u001b[0m\u001b[0;34m)\u001b[0m\u001b[0;34m\u001b[0m\u001b[0;34m\u001b[0m\u001b[0m\n\u001b[0;32m-> 1224\u001b[0;31m         \u001b[0mself\u001b[0m\u001b[0;34m.\u001b[0m\u001b[0m_send_output\u001b[0m\u001b[0;34m(\u001b[0m\u001b[0mmessage_body\u001b[0m\u001b[0;34m,\u001b[0m \u001b[0mencode_chunked\u001b[0m\u001b[0;34m=\u001b[0m\u001b[0mencode_chunked\u001b[0m\u001b[0;34m)\u001b[0m\u001b[0;34m\u001b[0m\u001b[0;34m\u001b[0m\u001b[0m\n\u001b[0m\u001b[1;32m   1225\u001b[0m \u001b[0;34m\u001b[0m\u001b[0m\n\u001b[1;32m   1226\u001b[0m     def request(self, method, url, body=None, headers={}, *,\n",
      "\u001b[0;32m~/anaconda3/envs/midi/lib/python3.7/http/client.py\u001b[0m in \u001b[0;36m_send_output\u001b[0;34m(self, message_body, encode_chunked)\u001b[0m\n\u001b[1;32m   1014\u001b[0m         \u001b[0mmsg\u001b[0m \u001b[0;34m=\u001b[0m \u001b[0;34mb\"\\r\\n\"\u001b[0m\u001b[0;34m.\u001b[0m\u001b[0mjoin\u001b[0m\u001b[0;34m(\u001b[0m\u001b[0mself\u001b[0m\u001b[0;34m.\u001b[0m\u001b[0m_buffer\u001b[0m\u001b[0;34m)\u001b[0m\u001b[0;34m\u001b[0m\u001b[0;34m\u001b[0m\u001b[0m\n\u001b[1;32m   1015\u001b[0m         \u001b[0;32mdel\u001b[0m \u001b[0mself\u001b[0m\u001b[0;34m.\u001b[0m\u001b[0m_buffer\u001b[0m\u001b[0;34m[\u001b[0m\u001b[0;34m:\u001b[0m\u001b[0;34m]\u001b[0m\u001b[0;34m\u001b[0m\u001b[0;34m\u001b[0m\u001b[0m\n\u001b[0;32m-> 1016\u001b[0;31m         \u001b[0mself\u001b[0m\u001b[0;34m.\u001b[0m\u001b[0msend\u001b[0m\u001b[0;34m(\u001b[0m\u001b[0mmsg\u001b[0m\u001b[0;34m)\u001b[0m\u001b[0;34m\u001b[0m\u001b[0;34m\u001b[0m\u001b[0m\n\u001b[0m\u001b[1;32m   1017\u001b[0m \u001b[0;34m\u001b[0m\u001b[0m\n\u001b[1;32m   1018\u001b[0m         \u001b[0;32mif\u001b[0m \u001b[0mmessage_body\u001b[0m \u001b[0;32mis\u001b[0m \u001b[0;32mnot\u001b[0m \u001b[0;32mNone\u001b[0m\u001b[0;34m:\u001b[0m\u001b[0;34m\u001b[0m\u001b[0;34m\u001b[0m\u001b[0m\n",
      "\u001b[0;32m~/anaconda3/envs/midi/lib/python3.7/http/client.py\u001b[0m in \u001b[0;36msend\u001b[0;34m(self, data)\u001b[0m\n\u001b[1;32m    954\u001b[0m         \u001b[0;32mif\u001b[0m \u001b[0mself\u001b[0m\u001b[0;34m.\u001b[0m\u001b[0msock\u001b[0m \u001b[0;32mis\u001b[0m \u001b[0;32mNone\u001b[0m\u001b[0;34m:\u001b[0m\u001b[0;34m\u001b[0m\u001b[0;34m\u001b[0m\u001b[0m\n\u001b[1;32m    955\u001b[0m             \u001b[0;32mif\u001b[0m \u001b[0mself\u001b[0m\u001b[0;34m.\u001b[0m\u001b[0mauto_open\u001b[0m\u001b[0;34m:\u001b[0m\u001b[0;34m\u001b[0m\u001b[0;34m\u001b[0m\u001b[0m\n\u001b[0;32m--> 956\u001b[0;31m                 \u001b[0mself\u001b[0m\u001b[0;34m.\u001b[0m\u001b[0mconnect\u001b[0m\u001b[0;34m(\u001b[0m\u001b[0;34m)\u001b[0m\u001b[0;34m\u001b[0m\u001b[0;34m\u001b[0m\u001b[0m\n\u001b[0m\u001b[1;32m    957\u001b[0m             \u001b[0;32melse\u001b[0m\u001b[0;34m:\u001b[0m\u001b[0;34m\u001b[0m\u001b[0;34m\u001b[0m\u001b[0m\n\u001b[1;32m    958\u001b[0m                 \u001b[0;32mraise\u001b[0m \u001b[0mNotConnected\u001b[0m\u001b[0;34m(\u001b[0m\u001b[0;34m)\u001b[0m\u001b[0;34m\u001b[0m\u001b[0;34m\u001b[0m\u001b[0m\n",
      "\u001b[0;32m~/anaconda3/envs/midi/lib/python3.7/http/client.py\u001b[0m in \u001b[0;36mconnect\u001b[0;34m(self)\u001b[0m\n\u001b[1;32m   1382\u001b[0m             \u001b[0;34m\"Connect to a host on a given (SSL) port.\"\u001b[0m\u001b[0;34m\u001b[0m\u001b[0;34m\u001b[0m\u001b[0m\n\u001b[1;32m   1383\u001b[0m \u001b[0;34m\u001b[0m\u001b[0m\n\u001b[0;32m-> 1384\u001b[0;31m             \u001b[0msuper\u001b[0m\u001b[0;34m(\u001b[0m\u001b[0;34m)\u001b[0m\u001b[0;34m.\u001b[0m\u001b[0mconnect\u001b[0m\u001b[0;34m(\u001b[0m\u001b[0;34m)\u001b[0m\u001b[0;34m\u001b[0m\u001b[0;34m\u001b[0m\u001b[0m\n\u001b[0m\u001b[1;32m   1385\u001b[0m \u001b[0;34m\u001b[0m\u001b[0m\n\u001b[1;32m   1386\u001b[0m             \u001b[0;32mif\u001b[0m \u001b[0mself\u001b[0m\u001b[0;34m.\u001b[0m\u001b[0m_tunnel_host\u001b[0m\u001b[0;34m:\u001b[0m\u001b[0;34m\u001b[0m\u001b[0;34m\u001b[0m\u001b[0m\n",
      "\u001b[0;32m~/anaconda3/envs/midi/lib/python3.7/http/client.py\u001b[0m in \u001b[0;36mconnect\u001b[0;34m(self)\u001b[0m\n\u001b[1;32m    930\u001b[0m \u001b[0;34m\u001b[0m\u001b[0m\n\u001b[1;32m    931\u001b[0m         \u001b[0;32mif\u001b[0m \u001b[0mself\u001b[0m\u001b[0;34m.\u001b[0m\u001b[0m_tunnel_host\u001b[0m\u001b[0;34m:\u001b[0m\u001b[0;34m\u001b[0m\u001b[0;34m\u001b[0m\u001b[0m\n\u001b[0;32m--> 932\u001b[0;31m             \u001b[0mself\u001b[0m\u001b[0;34m.\u001b[0m\u001b[0m_tunnel\u001b[0m\u001b[0;34m(\u001b[0m\u001b[0;34m)\u001b[0m\u001b[0;34m\u001b[0m\u001b[0;34m\u001b[0m\u001b[0m\n\u001b[0m\u001b[1;32m    933\u001b[0m \u001b[0;34m\u001b[0m\u001b[0m\n\u001b[1;32m    934\u001b[0m     \u001b[0;32mdef\u001b[0m \u001b[0mclose\u001b[0m\u001b[0;34m(\u001b[0m\u001b[0mself\u001b[0m\u001b[0;34m)\u001b[0m\u001b[0;34m:\u001b[0m\u001b[0;34m\u001b[0m\u001b[0;34m\u001b[0m\u001b[0m\n",
      "\u001b[0;32m~/anaconda3/envs/midi/lib/python3.7/http/client.py\u001b[0m in \u001b[0;36m_tunnel\u001b[0;34m(self)\u001b[0m\n\u001b[1;32m    904\u001b[0m \u001b[0;34m\u001b[0m\u001b[0m\n\u001b[1;32m    905\u001b[0m         \u001b[0mresponse\u001b[0m \u001b[0;34m=\u001b[0m \u001b[0mself\u001b[0m\u001b[0;34m.\u001b[0m\u001b[0mresponse_class\u001b[0m\u001b[0;34m(\u001b[0m\u001b[0mself\u001b[0m\u001b[0;34m.\u001b[0m\u001b[0msock\u001b[0m\u001b[0;34m,\u001b[0m \u001b[0mmethod\u001b[0m\u001b[0;34m=\u001b[0m\u001b[0mself\u001b[0m\u001b[0;34m.\u001b[0m\u001b[0m_method\u001b[0m\u001b[0;34m)\u001b[0m\u001b[0;34m\u001b[0m\u001b[0;34m\u001b[0m\u001b[0m\n\u001b[0;32m--> 906\u001b[0;31m         \u001b[0;34m(\u001b[0m\u001b[0mversion\u001b[0m\u001b[0;34m,\u001b[0m \u001b[0mcode\u001b[0m\u001b[0;34m,\u001b[0m \u001b[0mmessage\u001b[0m\u001b[0;34m)\u001b[0m \u001b[0;34m=\u001b[0m \u001b[0mresponse\u001b[0m\u001b[0;34m.\u001b[0m\u001b[0m_read_status\u001b[0m\u001b[0;34m(\u001b[0m\u001b[0;34m)\u001b[0m\u001b[0;34m\u001b[0m\u001b[0;34m\u001b[0m\u001b[0m\n\u001b[0m\u001b[1;32m    907\u001b[0m \u001b[0;34m\u001b[0m\u001b[0m\n\u001b[1;32m    908\u001b[0m         \u001b[0;32mif\u001b[0m \u001b[0mcode\u001b[0m \u001b[0;34m!=\u001b[0m \u001b[0mhttp\u001b[0m\u001b[0;34m.\u001b[0m\u001b[0mHTTPStatus\u001b[0m\u001b[0;34m.\u001b[0m\u001b[0mOK\u001b[0m\u001b[0;34m:\u001b[0m\u001b[0;34m\u001b[0m\u001b[0;34m\u001b[0m\u001b[0m\n",
      "\u001b[0;32m~/anaconda3/envs/midi/lib/python3.7/http/client.py\u001b[0m in \u001b[0;36m_read_status\u001b[0;34m(self)\u001b[0m\n\u001b[1;32m    255\u001b[0m \u001b[0;34m\u001b[0m\u001b[0m\n\u001b[1;32m    256\u001b[0m     \u001b[0;32mdef\u001b[0m \u001b[0m_read_status\u001b[0m\u001b[0;34m(\u001b[0m\u001b[0mself\u001b[0m\u001b[0;34m)\u001b[0m\u001b[0;34m:\u001b[0m\u001b[0;34m\u001b[0m\u001b[0;34m\u001b[0m\u001b[0m\n\u001b[0;32m--> 257\u001b[0;31m         \u001b[0mline\u001b[0m \u001b[0;34m=\u001b[0m \u001b[0mstr\u001b[0m\u001b[0;34m(\u001b[0m\u001b[0mself\u001b[0m\u001b[0;34m.\u001b[0m\u001b[0mfp\u001b[0m\u001b[0;34m.\u001b[0m\u001b[0mreadline\u001b[0m\u001b[0;34m(\u001b[0m\u001b[0m_MAXLINE\u001b[0m \u001b[0;34m+\u001b[0m \u001b[0;36m1\u001b[0m\u001b[0;34m)\u001b[0m\u001b[0;34m,\u001b[0m \u001b[0;34m\"iso-8859-1\"\u001b[0m\u001b[0;34m)\u001b[0m\u001b[0;34m\u001b[0m\u001b[0;34m\u001b[0m\u001b[0m\n\u001b[0m\u001b[1;32m    258\u001b[0m         \u001b[0;32mif\u001b[0m \u001b[0mlen\u001b[0m\u001b[0;34m(\u001b[0m\u001b[0mline\u001b[0m\u001b[0;34m)\u001b[0m \u001b[0;34m>\u001b[0m \u001b[0m_MAXLINE\u001b[0m\u001b[0;34m:\u001b[0m\u001b[0;34m\u001b[0m\u001b[0;34m\u001b[0m\u001b[0m\n\u001b[1;32m    259\u001b[0m             \u001b[0;32mraise\u001b[0m \u001b[0mLineTooLong\u001b[0m\u001b[0;34m(\u001b[0m\u001b[0;34m\"status line\"\u001b[0m\u001b[0;34m)\u001b[0m\u001b[0;34m\u001b[0m\u001b[0;34m\u001b[0m\u001b[0m\n",
      "\u001b[0;32m~/anaconda3/envs/midi/lib/python3.7/socket.py\u001b[0m in \u001b[0;36mreadinto\u001b[0;34m(self, b)\u001b[0m\n\u001b[1;32m    587\u001b[0m         \u001b[0;32mwhile\u001b[0m \u001b[0;32mTrue\u001b[0m\u001b[0;34m:\u001b[0m\u001b[0;34m\u001b[0m\u001b[0;34m\u001b[0m\u001b[0m\n\u001b[1;32m    588\u001b[0m             \u001b[0;32mtry\u001b[0m\u001b[0;34m:\u001b[0m\u001b[0;34m\u001b[0m\u001b[0;34m\u001b[0m\u001b[0m\n\u001b[0;32m--> 589\u001b[0;31m                 \u001b[0;32mreturn\u001b[0m \u001b[0mself\u001b[0m\u001b[0;34m.\u001b[0m\u001b[0m_sock\u001b[0m\u001b[0;34m.\u001b[0m\u001b[0mrecv_into\u001b[0m\u001b[0;34m(\u001b[0m\u001b[0mb\u001b[0m\u001b[0;34m)\u001b[0m\u001b[0;34m\u001b[0m\u001b[0;34m\u001b[0m\u001b[0m\n\u001b[0m\u001b[1;32m    590\u001b[0m             \u001b[0;32mexcept\u001b[0m \u001b[0mtimeout\u001b[0m\u001b[0;34m:\u001b[0m\u001b[0;34m\u001b[0m\u001b[0;34m\u001b[0m\u001b[0m\n\u001b[1;32m    591\u001b[0m                 \u001b[0mself\u001b[0m\u001b[0;34m.\u001b[0m\u001b[0m_timeout_occurred\u001b[0m \u001b[0;34m=\u001b[0m \u001b[0;32mTrue\u001b[0m\u001b[0;34m\u001b[0m\u001b[0;34m\u001b[0m\u001b[0m\n",
      "\u001b[0;31mKeyboardInterrupt\u001b[0m: "
     ]
    }
   ],
   "source": [
    "for idx,link in enumerate(tqdm(links, total=len(links))):\n",
    "    score_id = link['score_id']\n",
    "    out_file = f\"data/{score_id}.mxl\"\n",
    "    if Path(out_file).exists() or score_id in invalid_ids: continue\n",
    "    # Every 10 requests, generate a new proxy\n",
    "    if idx % 10 == 0 or proxy is None or instance is None:\n",
    "        proxy_index = random.randint(0, len(all_proxies) - 1)\n",
    "        proxy = all_proxies[proxy_index]\n",
    "        proxy_url = proxy['ip'] + ':' + str(proxy['port']); proxy_url\n",
    "        instance_index = random.randint(0, len(instances) - 1)\n",
    "        instance = instances[instance_index]\n",
    "    try:\n",
    "        print('Downloading score id:', score_id)\n",
    "        instance.download(score_id, out_file, format='mxl', proxy=proxy_url)\n",
    "    except Exception as e:\n",
    "        print('Could not download id:', score_id)\n",
    "        print('Error:', e)\n",
    "        invalid_ids.append(score_id)\n",
    "        deleted_proxies.append(all_proxies[proxy_index])\n",
    "        del all_proxies[proxy_index]\n",
    "        print('Proxy ' + proxy['ip'] + ':' + str(proxy['port']) + ' deleted.')\n",
    "        print(instance.username)\n",
    "        proxy = None\n",
    "        instance = None\n",
    "    "
   ]
  },
  {
   "cell_type": "markdown",
   "metadata": {},
   "source": [
    "### Second run"
   ]
  },
  {
   "cell_type": "code",
   "execution_count": 23,
   "metadata": {},
   "outputs": [
    {
     "ename": "HTTPError",
     "evalue": "HTTP Error 403: Forbidden",
     "output_type": "error",
     "traceback": [
      "\u001b[0;31m---------------------------------------------------------------------------\u001b[0m",
      "\u001b[0;31mHTTPError\u001b[0m                                 Traceback (most recent call last)",
      "\u001b[0;32m<ipython-input-23-da16705abe2b>\u001b[0m in \u001b[0;36m<module>\u001b[0;34m\u001b[0m\n\u001b[1;32m      3\u001b[0m \u001b[0mproxies_req\u001b[0m \u001b[0;34m=\u001b[0m \u001b[0mRequest\u001b[0m\u001b[0;34m(\u001b[0m\u001b[0;34m'https://www.sslproxies.org/'\u001b[0m\u001b[0;34m)\u001b[0m\u001b[0;34m\u001b[0m\u001b[0;34m\u001b[0m\u001b[0m\n\u001b[1;32m      4\u001b[0m \u001b[0mproxies_req\u001b[0m\u001b[0;34m.\u001b[0m\u001b[0madd_header\u001b[0m\u001b[0;34m(\u001b[0m\u001b[0;34m'User-Agent'\u001b[0m\u001b[0;34m,\u001b[0m \u001b[0mua\u001b[0m\u001b[0;34m.\u001b[0m\u001b[0mrandom\u001b[0m\u001b[0;34m)\u001b[0m\u001b[0;34m\u001b[0m\u001b[0;34m\u001b[0m\u001b[0m\n\u001b[0;32m----> 5\u001b[0;31m \u001b[0mproxies_doc\u001b[0m \u001b[0;34m=\u001b[0m \u001b[0murlopen\u001b[0m\u001b[0;34m(\u001b[0m\u001b[0mproxies_req\u001b[0m\u001b[0;34m)\u001b[0m\u001b[0;34m.\u001b[0m\u001b[0mread\u001b[0m\u001b[0;34m(\u001b[0m\u001b[0;34m)\u001b[0m\u001b[0;34m.\u001b[0m\u001b[0mdecode\u001b[0m\u001b[0;34m(\u001b[0m\u001b[0;34m'utf8'\u001b[0m\u001b[0;34m)\u001b[0m\u001b[0;34m\u001b[0m\u001b[0;34m\u001b[0m\u001b[0m\n\u001b[0m\u001b[1;32m      6\u001b[0m \u001b[0;34m\u001b[0m\u001b[0m\n\u001b[1;32m      7\u001b[0m \u001b[0msoup\u001b[0m \u001b[0;34m=\u001b[0m \u001b[0mBeautifulSoup\u001b[0m\u001b[0;34m(\u001b[0m\u001b[0mproxies_doc\u001b[0m\u001b[0;34m,\u001b[0m \u001b[0;34m'html.parser'\u001b[0m\u001b[0;34m)\u001b[0m\u001b[0;34m\u001b[0m\u001b[0;34m\u001b[0m\u001b[0m\n",
      "\u001b[0;32m~/anaconda3/envs/midi/lib/python3.7/urllib/request.py\u001b[0m in \u001b[0;36murlopen\u001b[0;34m(url, data, timeout, cafile, capath, cadefault, context)\u001b[0m\n\u001b[1;32m    220\u001b[0m     \u001b[0;32melse\u001b[0m\u001b[0;34m:\u001b[0m\u001b[0;34m\u001b[0m\u001b[0;34m\u001b[0m\u001b[0m\n\u001b[1;32m    221\u001b[0m         \u001b[0mopener\u001b[0m \u001b[0;34m=\u001b[0m \u001b[0m_opener\u001b[0m\u001b[0;34m\u001b[0m\u001b[0;34m\u001b[0m\u001b[0m\n\u001b[0;32m--> 222\u001b[0;31m     \u001b[0;32mreturn\u001b[0m \u001b[0mopener\u001b[0m\u001b[0;34m.\u001b[0m\u001b[0mopen\u001b[0m\u001b[0;34m(\u001b[0m\u001b[0murl\u001b[0m\u001b[0;34m,\u001b[0m \u001b[0mdata\u001b[0m\u001b[0;34m,\u001b[0m \u001b[0mtimeout\u001b[0m\u001b[0;34m)\u001b[0m\u001b[0;34m\u001b[0m\u001b[0;34m\u001b[0m\u001b[0m\n\u001b[0m\u001b[1;32m    223\u001b[0m \u001b[0;34m\u001b[0m\u001b[0m\n\u001b[1;32m    224\u001b[0m \u001b[0;32mdef\u001b[0m \u001b[0minstall_opener\u001b[0m\u001b[0;34m(\u001b[0m\u001b[0mopener\u001b[0m\u001b[0;34m)\u001b[0m\u001b[0;34m:\u001b[0m\u001b[0;34m\u001b[0m\u001b[0;34m\u001b[0m\u001b[0m\n",
      "\u001b[0;32m~/anaconda3/envs/midi/lib/python3.7/urllib/request.py\u001b[0m in \u001b[0;36mopen\u001b[0;34m(self, fullurl, data, timeout)\u001b[0m\n\u001b[1;32m    529\u001b[0m         \u001b[0;32mfor\u001b[0m \u001b[0mprocessor\u001b[0m \u001b[0;32min\u001b[0m \u001b[0mself\u001b[0m\u001b[0;34m.\u001b[0m\u001b[0mprocess_response\u001b[0m\u001b[0;34m.\u001b[0m\u001b[0mget\u001b[0m\u001b[0;34m(\u001b[0m\u001b[0mprotocol\u001b[0m\u001b[0;34m,\u001b[0m \u001b[0;34m[\u001b[0m\u001b[0;34m]\u001b[0m\u001b[0;34m)\u001b[0m\u001b[0;34m:\u001b[0m\u001b[0;34m\u001b[0m\u001b[0;34m\u001b[0m\u001b[0m\n\u001b[1;32m    530\u001b[0m             \u001b[0mmeth\u001b[0m \u001b[0;34m=\u001b[0m \u001b[0mgetattr\u001b[0m\u001b[0;34m(\u001b[0m\u001b[0mprocessor\u001b[0m\u001b[0;34m,\u001b[0m \u001b[0mmeth_name\u001b[0m\u001b[0;34m)\u001b[0m\u001b[0;34m\u001b[0m\u001b[0;34m\u001b[0m\u001b[0m\n\u001b[0;32m--> 531\u001b[0;31m             \u001b[0mresponse\u001b[0m \u001b[0;34m=\u001b[0m \u001b[0mmeth\u001b[0m\u001b[0;34m(\u001b[0m\u001b[0mreq\u001b[0m\u001b[0;34m,\u001b[0m \u001b[0mresponse\u001b[0m\u001b[0;34m)\u001b[0m\u001b[0;34m\u001b[0m\u001b[0;34m\u001b[0m\u001b[0m\n\u001b[0m\u001b[1;32m    532\u001b[0m \u001b[0;34m\u001b[0m\u001b[0m\n\u001b[1;32m    533\u001b[0m         \u001b[0;32mreturn\u001b[0m \u001b[0mresponse\u001b[0m\u001b[0;34m\u001b[0m\u001b[0;34m\u001b[0m\u001b[0m\n",
      "\u001b[0;32m~/anaconda3/envs/midi/lib/python3.7/urllib/request.py\u001b[0m in \u001b[0;36mhttp_response\u001b[0;34m(self, request, response)\u001b[0m\n\u001b[1;32m    639\u001b[0m         \u001b[0;32mif\u001b[0m \u001b[0;32mnot\u001b[0m \u001b[0;34m(\u001b[0m\u001b[0;36m200\u001b[0m \u001b[0;34m<=\u001b[0m \u001b[0mcode\u001b[0m \u001b[0;34m<\u001b[0m \u001b[0;36m300\u001b[0m\u001b[0;34m)\u001b[0m\u001b[0;34m:\u001b[0m\u001b[0;34m\u001b[0m\u001b[0;34m\u001b[0m\u001b[0m\n\u001b[1;32m    640\u001b[0m             response = self.parent.error(\n\u001b[0;32m--> 641\u001b[0;31m                 'http', request, response, code, msg, hdrs)\n\u001b[0m\u001b[1;32m    642\u001b[0m \u001b[0;34m\u001b[0m\u001b[0m\n\u001b[1;32m    643\u001b[0m         \u001b[0;32mreturn\u001b[0m \u001b[0mresponse\u001b[0m\u001b[0;34m\u001b[0m\u001b[0;34m\u001b[0m\u001b[0m\n",
      "\u001b[0;32m~/anaconda3/envs/midi/lib/python3.7/urllib/request.py\u001b[0m in \u001b[0;36merror\u001b[0;34m(self, proto, *args)\u001b[0m\n\u001b[1;32m    567\u001b[0m         \u001b[0;32mif\u001b[0m \u001b[0mhttp_err\u001b[0m\u001b[0;34m:\u001b[0m\u001b[0;34m\u001b[0m\u001b[0;34m\u001b[0m\u001b[0m\n\u001b[1;32m    568\u001b[0m             \u001b[0margs\u001b[0m \u001b[0;34m=\u001b[0m \u001b[0;34m(\u001b[0m\u001b[0mdict\u001b[0m\u001b[0;34m,\u001b[0m \u001b[0;34m'default'\u001b[0m\u001b[0;34m,\u001b[0m \u001b[0;34m'http_error_default'\u001b[0m\u001b[0;34m)\u001b[0m \u001b[0;34m+\u001b[0m \u001b[0morig_args\u001b[0m\u001b[0;34m\u001b[0m\u001b[0;34m\u001b[0m\u001b[0m\n\u001b[0;32m--> 569\u001b[0;31m             \u001b[0;32mreturn\u001b[0m \u001b[0mself\u001b[0m\u001b[0;34m.\u001b[0m\u001b[0m_call_chain\u001b[0m\u001b[0;34m(\u001b[0m\u001b[0;34m*\u001b[0m\u001b[0margs\u001b[0m\u001b[0;34m)\u001b[0m\u001b[0;34m\u001b[0m\u001b[0;34m\u001b[0m\u001b[0m\n\u001b[0m\u001b[1;32m    570\u001b[0m \u001b[0;34m\u001b[0m\u001b[0m\n\u001b[1;32m    571\u001b[0m \u001b[0;31m# XXX probably also want an abstract factory that knows when it makes\u001b[0m\u001b[0;34m\u001b[0m\u001b[0;34m\u001b[0m\u001b[0;34m\u001b[0m\u001b[0m\n",
      "\u001b[0;32m~/anaconda3/envs/midi/lib/python3.7/urllib/request.py\u001b[0m in \u001b[0;36m_call_chain\u001b[0;34m(self, chain, kind, meth_name, *args)\u001b[0m\n\u001b[1;32m    501\u001b[0m         \u001b[0;32mfor\u001b[0m \u001b[0mhandler\u001b[0m \u001b[0;32min\u001b[0m \u001b[0mhandlers\u001b[0m\u001b[0;34m:\u001b[0m\u001b[0;34m\u001b[0m\u001b[0;34m\u001b[0m\u001b[0m\n\u001b[1;32m    502\u001b[0m             \u001b[0mfunc\u001b[0m \u001b[0;34m=\u001b[0m \u001b[0mgetattr\u001b[0m\u001b[0;34m(\u001b[0m\u001b[0mhandler\u001b[0m\u001b[0;34m,\u001b[0m \u001b[0mmeth_name\u001b[0m\u001b[0;34m)\u001b[0m\u001b[0;34m\u001b[0m\u001b[0;34m\u001b[0m\u001b[0m\n\u001b[0;32m--> 503\u001b[0;31m             \u001b[0mresult\u001b[0m \u001b[0;34m=\u001b[0m \u001b[0mfunc\u001b[0m\u001b[0;34m(\u001b[0m\u001b[0;34m*\u001b[0m\u001b[0margs\u001b[0m\u001b[0;34m)\u001b[0m\u001b[0;34m\u001b[0m\u001b[0;34m\u001b[0m\u001b[0m\n\u001b[0m\u001b[1;32m    504\u001b[0m             \u001b[0;32mif\u001b[0m \u001b[0mresult\u001b[0m \u001b[0;32mis\u001b[0m \u001b[0;32mnot\u001b[0m \u001b[0;32mNone\u001b[0m\u001b[0;34m:\u001b[0m\u001b[0;34m\u001b[0m\u001b[0;34m\u001b[0m\u001b[0m\n\u001b[1;32m    505\u001b[0m                 \u001b[0;32mreturn\u001b[0m \u001b[0mresult\u001b[0m\u001b[0;34m\u001b[0m\u001b[0;34m\u001b[0m\u001b[0m\n",
      "\u001b[0;32m~/anaconda3/envs/midi/lib/python3.7/urllib/request.py\u001b[0m in \u001b[0;36mhttp_error_default\u001b[0;34m(self, req, fp, code, msg, hdrs)\u001b[0m\n\u001b[1;32m    647\u001b[0m \u001b[0;32mclass\u001b[0m \u001b[0mHTTPDefaultErrorHandler\u001b[0m\u001b[0;34m(\u001b[0m\u001b[0mBaseHandler\u001b[0m\u001b[0;34m)\u001b[0m\u001b[0;34m:\u001b[0m\u001b[0;34m\u001b[0m\u001b[0;34m\u001b[0m\u001b[0m\n\u001b[1;32m    648\u001b[0m     \u001b[0;32mdef\u001b[0m \u001b[0mhttp_error_default\u001b[0m\u001b[0;34m(\u001b[0m\u001b[0mself\u001b[0m\u001b[0;34m,\u001b[0m \u001b[0mreq\u001b[0m\u001b[0;34m,\u001b[0m \u001b[0mfp\u001b[0m\u001b[0;34m,\u001b[0m \u001b[0mcode\u001b[0m\u001b[0;34m,\u001b[0m \u001b[0mmsg\u001b[0m\u001b[0;34m,\u001b[0m \u001b[0mhdrs\u001b[0m\u001b[0;34m)\u001b[0m\u001b[0;34m:\u001b[0m\u001b[0;34m\u001b[0m\u001b[0;34m\u001b[0m\u001b[0m\n\u001b[0;32m--> 649\u001b[0;31m         \u001b[0;32mraise\u001b[0m \u001b[0mHTTPError\u001b[0m\u001b[0;34m(\u001b[0m\u001b[0mreq\u001b[0m\u001b[0;34m.\u001b[0m\u001b[0mfull_url\u001b[0m\u001b[0;34m,\u001b[0m \u001b[0mcode\u001b[0m\u001b[0;34m,\u001b[0m \u001b[0mmsg\u001b[0m\u001b[0;34m,\u001b[0m \u001b[0mhdrs\u001b[0m\u001b[0;34m,\u001b[0m \u001b[0mfp\u001b[0m\u001b[0;34m)\u001b[0m\u001b[0;34m\u001b[0m\u001b[0;34m\u001b[0m\u001b[0m\n\u001b[0m\u001b[1;32m    650\u001b[0m \u001b[0;34m\u001b[0m\u001b[0m\n\u001b[1;32m    651\u001b[0m \u001b[0;32mclass\u001b[0m \u001b[0mHTTPRedirectHandler\u001b[0m\u001b[0;34m(\u001b[0m\u001b[0mBaseHandler\u001b[0m\u001b[0;34m)\u001b[0m\u001b[0;34m:\u001b[0m\u001b[0;34m\u001b[0m\u001b[0;34m\u001b[0m\u001b[0m\n",
      "\u001b[0;31mHTTPError\u001b[0m: HTTP Error 403: Forbidden"
     ]
    }
   ],
   "source": [
    "# Main function\n",
    "  # Retrieve latest proxies\n",
    "proxies_req = Request('https://www.sslproxies.org/')\n",
    "proxies_req.add_header('User-Agent', ua.random)\n",
    "proxies_doc = urlopen(proxies_req).read().decode('utf8')\n",
    "\n",
    "soup = BeautifulSoup(proxies_doc, 'html.parser')\n",
    "proxies_table = soup.find(id='proxylisttable')\n",
    "\n",
    "# Save proxies in the array\n",
    "for row in proxies_table.tbody.find_all('tr'):\n",
    "    proxies.append({\n",
    "      'ip':   row.find_all('td')[0].string,\n",
    "      'port': row.find_all('td')[1].string\n",
    "    })"
   ]
  },
  {
   "cell_type": "code",
   "execution_count": null,
   "metadata": {},
   "outputs": [],
   "source": [
    "import asyncio\n",
    "from proxybroker import Broker\n",
    "\n",
    "more_proxies = []\n",
    "\n",
    "async def show(proxy_queue):\n",
    "    while True:\n",
    "        proxy = await proxy_queue.get()\n",
    "        if proxy is None: break\n",
    "        print('Found proxy: %s' % proxy)\n",
    "        more_proxies.append({ 'ip': proxy.host, 'port': proxy.port })\n",
    "\n",
    "proxy_queue = asyncio.Queue()\n",
    "broker = Broker(proxy_queue)\n",
    "tasks = await asyncio.gather(\n",
    "    broker.find(types=['HTTP', 'HTTPS'], limit=400),\n",
    "    show(proxy_queue))"
   ]
  },
  {
   "cell_type": "code",
   "execution_count": null,
   "metadata": {},
   "outputs": [],
   "source": [
    "all_proxies = proxies + more_proxies\n",
    "# Retrieve a random index proxy (we need the index to delete it if not working)\n",
    "def random_proxy():\n",
    "    return random.randint(0, len(all_proxies) - 1)\n",
    "\n",
    "proxy = None\n",
    "# # Choose a random proxy\n",
    "# proxy_index = random_proxy()\n",
    "# proxy = all_proxies[proxy_index]\n",
    "# proxy_url = proxy['ip'] + ':' + str(proxy['port']); proxy_url"
   ]
  },
  {
   "cell_type": "code",
   "execution_count": null,
   "metadata": {},
   "outputs": [],
   "source": [
    "json_file = Path('musescore_movie.json')"
   ]
  },
  {
   "cell_type": "code",
   "execution_count": null,
   "metadata": {},
   "outputs": [],
   "source": [
    "if json_file.exists():\n",
    "    with open(json_file, 'r') as fp:\n",
    "        links = json.load(fp)\n",
    "        "
   ]
  },
  {
   "cell_type": "code",
   "execution_count": null,
   "metadata": {},
   "outputs": [],
   "source": [
    "for idx,link in enumerate(tqdm(links, total=len(links))):\n",
    "    score_id = link['score_id']\n",
    "    out_file = f\"data/{score_id}.mxl\"\n",
    "    if Path(out_file).exists() or score_id in invalid_ids: continue\n",
    "    # Every 10 requests, generate a new proxy\n",
    "    if idx % 10 == 0 or proxy is None or instance is None:\n",
    "        proxy_index = random.randint(0, len(all_proxies) - 1)\n",
    "        proxy = all_proxies[proxy_index]\n",
    "        proxy_url = proxy['ip'] + ':' + str(proxy['port']); proxy_url\n",
    "        instance_index = random.randint(0, len(instances) - 1)\n",
    "        instance = instances[instance_index]\n",
    "    try:\n",
    "        print('Downloading score id:', score_id)\n",
    "        instance.download(score_id, out_file, format='mxl', proxy=proxy_url)\n",
    "    except Exception as e:\n",
    "        print('Could not download id:', score_id)\n",
    "        print('Error:', e)\n",
    "        invalid_ids.append(score_id)\n",
    "        deleted_proxies.append(all_proxies[proxy_index])\n",
    "        del all_proxies[proxy_index]\n",
    "        print('Proxy ' + proxy['ip'] + ':' + str(proxy['port']) + ' deleted.')\n",
    "        print(instance.username)\n",
    "        proxy = None\n",
    "        instance = None\n",
    "    sleep(randint(1,2))\n",
    "    "
   ]
  },
  {
   "cell_type": "code",
   "execution_count": null,
   "metadata": {},
   "outputs": [],
   "source": []
  }
 ],
 "metadata": {
  "kernelspec": {
   "display_name": "Python 3",
   "language": "python",
   "name": "python3"
  },
  "language_info": {
   "codemirror_mode": {
    "name": "ipython",
    "version": 3
   },
   "file_extension": ".py",
   "mimetype": "text/x-python",
   "name": "python",
   "nbconvert_exporter": "python",
   "pygments_lexer": "ipython3",
   "version": "3.7.1"
  }
 },
 "nbformat": 4,
 "nbformat_minor": 2
}

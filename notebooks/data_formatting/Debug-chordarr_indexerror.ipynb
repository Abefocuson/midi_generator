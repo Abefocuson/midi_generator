{
 "cells": [
  {
   "cell_type": "code",
   "execution_count": 1,
   "metadata": {},
   "outputs": [],
   "source": [
    "%reload_ext autoreload\n",
    "%autoreload 2\n",
    "%matplotlib inline"
   ]
  },
  {
   "cell_type": "code",
   "execution_count": 2,
   "metadata": {},
   "outputs": [],
   "source": [
    "import sys\n",
    "sys.path.insert(0, '../../')\n",
    "from src.encode_data import *\n",
    "from src.midi_data import *\n",
    "from src.data_sources import process_all, arr2csv\n",
    "from src.midi_transform import *\n",
    "from src.fastai_data import *"
   ]
  },
  {
   "cell_type": "code",
   "execution_count": 3,
   "metadata": {},
   "outputs": [],
   "source": [
    "import traceback\n",
    "import time"
   ]
  },
  {
   "cell_type": "markdown",
   "metadata": {},
   "source": [
    "## Standardize and reformat raw midi files before encoding to text\n",
    "- Transform key to C major\n",
    "- Remove unused instruments\n",
    "- Combine multiple tracks with the same instrument into a single part\n",
    "- Melody, Piano, String"
   ]
  },
  {
   "cell_type": "markdown",
   "metadata": {},
   "source": [
    "### Load midi data"
   ]
  },
  {
   "cell_type": "code",
   "execution_count": 4,
   "metadata": {},
   "outputs": [],
   "source": [
    "version = 'v16'\n",
    "data_path = Path('data/midi')\n",
    "version_path = data_path/version"
   ]
  },
  {
   "cell_type": "code",
   "execution_count": 19,
   "metadata": {},
   "outputs": [],
   "source": [
    "input_file = 'data/midi/v16/midi_sources/from_mxl/ecomp/2008/Kociuban16.mid' # oob\n",
    "# input_file = 'data/midi/v16/midi_sources/midiworld/named_midi/Huey_Lewis_-_Perfect_World.mid'"
   ]
  },
  {
   "cell_type": "code",
   "execution_count": 20,
   "metadata": {},
   "outputs": [],
   "source": [
    "stream = file2stream(input_file)"
   ]
  },
  {
   "cell_type": "code",
   "execution_count": 21,
   "metadata": {},
   "outputs": [
    {
     "data": {
      "text/plain": [
       "2418.6666666666665"
      ]
     },
     "execution_count": 21,
     "metadata": {},
     "output_type": "execute_result"
    }
   ],
   "source": [
    "stream.flat.highestTime * 4"
   ]
  },
  {
   "cell_type": "code",
   "execution_count": 18,
   "metadata": {},
   "outputs": [
    {
     "data": {
      "text/plain": [
       "740"
      ]
     },
     "execution_count": 18,
     "metadata": {},
     "output_type": "execute_result"
    }
   ],
   "source": [
    "sample_freq = 4\n",
    "maxTimeStep = round(stream.flat.highestTime * sample_freq)+1; maxTimeStep"
   ]
  },
  {
   "cell_type": "code",
   "execution_count": 13,
   "metadata": {},
   "outputs": [
    {
     "ename": "IndexError",
     "evalue": "index 739 is out of bounds for axis 0 with size 739",
     "output_type": "error",
     "traceback": [
      "\u001b[0;31m---------------------------------------------------------------------------\u001b[0m",
      "\u001b[0;31mIndexError\u001b[0m                                Traceback (most recent call last)",
      "\u001b[0;32m<ipython-input-13-67da16510cb4>\u001b[0m in \u001b[0;36m<module>\u001b[0;34m\u001b[0m\n\u001b[0;32m----> 1\u001b[0;31m \u001b[0mchordarr\u001b[0m \u001b[0;34m=\u001b[0m \u001b[0mstream2chordarr\u001b[0m\u001b[0;34m(\u001b[0m\u001b[0mstream\u001b[0m\u001b[0;34m,\u001b[0m \u001b[0mmax_dur\u001b[0m\u001b[0;34m=\u001b[0m\u001b[0mMAX_DUR\u001b[0m\u001b[0;34m-\u001b[0m\u001b[0;36m2\u001b[0m\u001b[0;34m)\u001b[0m\u001b[0;34m\u001b[0m\u001b[0;34m\u001b[0m\u001b[0m\n\u001b[0m",
      "\u001b[0;32m~/midi_generator/src/encode_data.py\u001b[0m in \u001b[0;36mstream2chordarr\u001b[0;34m(s, max_note, sample_freq, max_dur)\u001b[0m\n\u001b[1;32m     67\u001b[0m             \u001b[0mpitch\u001b[0m\u001b[0;34m,\u001b[0m\u001b[0moffset\u001b[0m\u001b[0;34m,\u001b[0m\u001b[0mduration\u001b[0m \u001b[0;34m=\u001b[0m \u001b[0mn\u001b[0m\u001b[0;34m\u001b[0m\u001b[0;34m\u001b[0m\u001b[0m\n\u001b[1;32m     68\u001b[0m             \u001b[0;32mif\u001b[0m \u001b[0mmax_dur\u001b[0m \u001b[0;32mis\u001b[0m \u001b[0;32mnot\u001b[0m \u001b[0;32mNone\u001b[0m \u001b[0;32mand\u001b[0m \u001b[0mduration\u001b[0m \u001b[0;34m>\u001b[0m \u001b[0mmax_dur\u001b[0m\u001b[0;34m:\u001b[0m \u001b[0mduration\u001b[0m \u001b[0;34m=\u001b[0m \u001b[0mmax_dur\u001b[0m\u001b[0;34m\u001b[0m\u001b[0;34m\u001b[0m\u001b[0m\n\u001b[0;32m---> 69\u001b[0;31m             \u001b[0mscore_arr\u001b[0m\u001b[0;34m[\u001b[0m\u001b[0moffset\u001b[0m\u001b[0;34m,\u001b[0m \u001b[0midx\u001b[0m\u001b[0;34m,\u001b[0m \u001b[0mpitch\u001b[0m\u001b[0;34m]\u001b[0m \u001b[0;34m=\u001b[0m \u001b[0mduration\u001b[0m\u001b[0;34m\u001b[0m\u001b[0;34m\u001b[0m\u001b[0m\n\u001b[0m\u001b[1;32m     70\u001b[0m     \u001b[0;32mreturn\u001b[0m \u001b[0mscore_arr\u001b[0m\u001b[0;34m\u001b[0m\u001b[0;34m\u001b[0m\u001b[0m\n\u001b[1;32m     71\u001b[0m \u001b[0;34m\u001b[0m\u001b[0m\n",
      "\u001b[0;31mIndexError\u001b[0m: index 739 is out of bounds for axis 0 with size 739"
     ]
    }
   ],
   "source": [
    "chordarr = stream2chordarr(stream, max_dur=MAX_DUR-2)"
   ]
  },
  {
   "cell_type": "code",
   "execution_count": 16,
   "metadata": {},
   "outputs": [],
   "source": [
    "def transform_midi(midi_file):\n",
    "    input_path = midi_file\n",
    "    \n",
    "    # Part 1: Filter out midi tracks (drums, repetitive instruments, etc.)\n",
    "    try: \n",
    "        if duet_only and num_piano_tracks(input_path) not in [1, 2]: return None\n",
    "        input_file = compress_midi_file(input_path, min_variation=min_variation, cutoff=cutoff) # remove non note tracks and standardize instruments\n",
    "        \n",
    "        if input_file is None: return None\n",
    "    except Exception as e:\n",
    "        print('Error parsing midi', input_path, e)\n",
    "        return None\n",
    "        \n",
    "    # Part 2. Compress rests and long notes\n",
    "    stream = file2stream(input_file) # 1.\n",
    "    try:\n",
    "        chordarr = stream2chordarr(stream, max_dur=MAX_DUR-2) # 2. max_dur = quarter_len * sample_freq (4). 128 = 8 bars\n",
    "    except Exception as e:\n",
    "        print('Could not encode to chordarr:', input_path, e)\n",
    "        print(traceback.format_exc())\n",
    "        return None\n",
    "    \n",
    "    # Part 3. Compress song rests - Don't want songs with really long pauses \n",
    "    # (this happens because we filter out midi tracks).\n",
    "    chord_trim = trim_chordarr_rests(chordarr)\n",
    "    chord_short = shorten_chordarr_rests(chord_trim)\n",
    "    delta_trim = chord_trim.shape[0] - chord_short.shape[0]\n",
    "#     if delta_trim > 500: \n",
    "#         print(f'Removed {delta_trim} rests from {input_path}. Skipping song')\n",
    "#         return None\n",
    "    chordarr = chord_short\n",
    "    \n",
    "    # Part 3. Chord array to numpy\n",
    "    npenc = chordarr2npenc(chordarr)\n",
    "    if not is_valid_npenc(npenc, input_path=input_path):\n",
    "        return None\n",
    "    \n",
    "    return npenc"
   ]
  }
 ],
 "metadata": {
  "kernelspec": {
   "display_name": "Python 3",
   "language": "python",
   "name": "python3"
  },
  "language_info": {
   "codemirror_mode": {
    "name": "ipython",
    "version": 3
   },
   "file_extension": ".py",
   "mimetype": "text/x-python",
   "name": "python",
   "nbconvert_exporter": "python",
   "pygments_lexer": "ipython3",
   "version": "3.7.1"
  }
 },
 "nbformat": 4,
 "nbformat_minor": 2
}

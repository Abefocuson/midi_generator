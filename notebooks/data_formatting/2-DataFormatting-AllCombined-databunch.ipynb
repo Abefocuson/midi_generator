{
 "cells": [
  {
   "cell_type": "markdown",
   "metadata": {},
   "source": [
    "# Tokenize and save data"
   ]
  },
  {
   "cell_type": "code",
   "execution_count": 1,
   "metadata": {},
   "outputs": [],
   "source": [
    "%reload_ext autoreload\n",
    "%autoreload 2\n",
    "%matplotlib inline"
   ]
  },
  {
   "cell_type": "code",
   "execution_count": 2,
   "metadata": {},
   "outputs": [],
   "source": [
    "import pandas as pd\n",
    "import numpy as np\n",
    "import sys\n",
    "sys.path.insert(0, '../..')\n",
    "from src.fastai_data import *"
   ]
  },
  {
   "cell_type": "code",
   "execution_count": 3,
   "metadata": {},
   "outputs": [],
   "source": [
    "from fastai.text import *"
   ]
  },
  {
   "cell_type": "code",
   "execution_count": 4,
   "metadata": {},
   "outputs": [],
   "source": [
    "from fastai.text import data"
   ]
  },
  {
   "cell_type": "markdown",
   "metadata": {},
   "source": [
    "## Preparing the data"
   ]
  },
  {
   "cell_type": "code",
   "execution_count": 5,
   "metadata": {},
   "outputs": [],
   "source": [
    "version = 'v10'\n",
    "data_path = Path('data/midi')\n",
    "version_path = data_path/version"
   ]
  },
  {
   "cell_type": "code",
   "execution_count": 6,
   "metadata": {},
   "outputs": [
    {
     "data": {
      "text/plain": [
       "[PosixPath('data/midi/v10/metadata'),\n",
       " PosixPath('data/midi/v10/midi_sources'),\n",
       " PosixPath('data/midi/v10/midi_encode')]"
      ]
     },
     "execution_count": 6,
     "metadata": {},
     "output_type": "execute_result"
    }
   ],
   "source": [
    "source_dir = 'midi_encode'\n",
    "out_path = version_path/source_dir\n",
    "csv_path = out_path/f'{source_dir}.csv'\n",
    "version_path.ls()"
   ]
  },
  {
   "cell_type": "code",
   "execution_count": 7,
   "metadata": {},
   "outputs": [
    {
     "name": "stderr",
     "output_type": "stream",
     "text": [
      "/home/ubuntu/anaconda3/envs/midi/lib/python3.7/site-packages/IPython/core/interactiveshell.py:3020: DtypeWarning: Columns (4,8,9,10,11,12) have mixed types. Specify dtype option on import or set low_memory=False.\n",
      "  interactivity=interactivity, compiler=compiler, result=result)\n"
     ]
    }
   ],
   "source": [
    "csv = pd.read_csv(csv_path)\n",
    "csv = csv.loc[csv['numpy'].notna()];"
   ]
  },
  {
   "cell_type": "code",
   "execution_count": 8,
   "metadata": {},
   "outputs": [],
   "source": [
    "def create_databunch(files, cache_name, batch_size=32, load_cached=False):\n",
    "    if load_cached and (out_path/f'{cache_name}/train_ids.npy').exists():\n",
    "        data = LMNPDataBunch.load(out_path, bs=batch_size, cache_name=cache_name)\n",
    "    else:\n",
    "        ps = [OpenNPFileProcessor()]\n",
    "\n",
    "        data = (ItemList(items=files, path=out_path, processor=ps)\n",
    "                .split_by_rand_pct(0.01, seed=6)\n",
    "                .label_const(label_cls=LMLabelList))\n",
    "        data.x._bunch = LMNPDataBunch\n",
    "        data = data.databunch(bs=batch_size)\n",
    "        data.save(cache_name)\n",
    "    return data"
   ]
  },
  {
   "cell_type": "code",
   "execution_count": 9,
   "metadata": {},
   "outputs": [],
   "source": [
    "def get_files(csv):\n",
    "    files = csv['numpy']\n",
    "    flist = [Path(version_path/f) for f in files.values]\n",
    "    flist = [f for f in flist if f.exists()]\n",
    "    return flist"
   ]
  },
  {
   "cell_type": "code",
   "execution_count": 10,
   "metadata": {},
   "outputs": [
    {
     "data": {
      "text/plain": [
       "PosixPath('data/midi/v10')"
      ]
     },
     "execution_count": 10,
     "metadata": {},
     "output_type": "execute_result"
    }
   ],
   "source": [
    "version_path"
   ]
  },
  {
   "cell_type": "markdown",
   "metadata": {},
   "source": [
    "### Create All Dataset"
   ]
  },
  {
   "cell_type": "code",
   "execution_count": 11,
   "metadata": {},
   "outputs": [
    {
     "data": {
      "text/html": [
       "<div>\n",
       "<style scoped>\n",
       "    .dataframe tbody tr th:only-of-type {\n",
       "        vertical-align: middle;\n",
       "    }\n",
       "\n",
       "    .dataframe tbody tr th {\n",
       "        vertical-align: top;\n",
       "    }\n",
       "\n",
       "    .dataframe thead th {\n",
       "        text-align: right;\n",
       "    }\n",
       "</style>\n",
       "<table border=\"1\" class=\"dataframe\">\n",
       "  <thead>\n",
       "    <tr style=\"text-align: right;\">\n",
       "      <th></th>\n",
       "      <th>mxl</th>\n",
       "      <th>section</th>\n",
       "      <th>md5</th>\n",
       "      <th>midi</th>\n",
       "      <th>song_url</th>\n",
       "      <th>source</th>\n",
       "      <th>ht_time_signature</th>\n",
       "      <th>numpy</th>\n",
       "      <th>title</th>\n",
       "      <th>midi_title</th>\n",
       "      <th>parts</th>\n",
       "      <th>ht_offset</th>\n",
       "      <th>ht_mode</th>\n",
       "      <th>ht_bpm</th>\n",
       "      <th>artist</th>\n",
       "      <th>ht_key</th>\n",
       "      <th>genres</th>\n",
       "    </tr>\n",
       "  </thead>\n",
       "  <tbody>\n",
       "    <tr>\n",
       "      <th>0</th>\n",
       "      <td>NaN</td>\n",
       "      <td>chorus</td>\n",
       "      <td>bf1f29e5ff84e3e93e37fb873bfb590e</td>\n",
       "      <td>midi_sources/hooktheory/pianoroll/w/wayne-shar...</td>\n",
       "      <td>https://www.hooktheory.com/theorytab/view/wayn...</td>\n",
       "      <td>hooktheory</td>\n",
       "      <td>4.0</td>\n",
       "      <td>midi_encode/hooktheory/pianoroll/w/wayne-sharp...</td>\n",
       "      <td>yu-gi-oh-theme-song</td>\n",
       "      <td>yu-gi-oh3</td>\n",
       "      <td>intro,chorus</td>\n",
       "      <td>0.0</td>\n",
       "      <td>1.0</td>\n",
       "      <td>128.0</td>\n",
       "      <td>wayne-sharpe</td>\n",
       "      <td>C</td>\n",
       "      <td>NaN</td>\n",
       "    </tr>\n",
       "    <tr>\n",
       "      <th>1</th>\n",
       "      <td>NaN</td>\n",
       "      <td>pre-chorus</td>\n",
       "      <td>9e7ce13a35f1314423a9a6d5a5287a4a</td>\n",
       "      <td>midi_sources/hooktheory/pianoroll/w/whiteflame...</td>\n",
       "      <td>https://www.hooktheory.com/theorytab/view/whit...</td>\n",
       "      <td>hooktheory</td>\n",
       "      <td>4.0</td>\n",
       "      <td>midi_encode/hooktheory/pianoroll/w/whiteflame/...</td>\n",
       "      <td>senbonzakura</td>\n",
       "      <td>senbonzakura - pre-Pre-Chorus</td>\n",
       "      <td>verse,pre-chorus,chorus</td>\n",
       "      <td>-5.0</td>\n",
       "      <td>6.0</td>\n",
       "      <td>152.0</td>\n",
       "      <td>whiteflame</td>\n",
       "      <td>D</td>\n",
       "      <td>J-Pop,Pop</td>\n",
       "    </tr>\n",
       "    <tr>\n",
       "      <th>2</th>\n",
       "      <td>NaN</td>\n",
       "      <td>chorus</td>\n",
       "      <td>e76bfe452839d0d653a8eb920f117905</td>\n",
       "      <td>midi_sources/hooktheory/pianoroll/w/wavves/nin...</td>\n",
       "      <td>https://www.hooktheory.com/theorytab/view/wavv...</td>\n",
       "      <td>hooktheory</td>\n",
       "      <td>4.0</td>\n",
       "      <td>midi_encode/hooktheory/pianoroll/w/wavves/nine...</td>\n",
       "      <td>nine-is-god</td>\n",
       "      <td>Nine is God</td>\n",
       "      <td>verse,chorus</td>\n",
       "      <td>-4.0</td>\n",
       "      <td>1.0</td>\n",
       "      <td>122.0</td>\n",
       "      <td>wavves</td>\n",
       "      <td>E</td>\n",
       "      <td>NaN</td>\n",
       "    </tr>\n",
       "    <tr>\n",
       "      <th>3</th>\n",
       "      <td>NaN</td>\n",
       "      <td>verse</td>\n",
       "      <td>d5aaf79d0989222f1362f9f46c540a27</td>\n",
       "      <td>midi_sources/hooktheory/pianoroll/w/whiteflame...</td>\n",
       "      <td>https://www.hooktheory.com/theorytab/view/whit...</td>\n",
       "      <td>hooktheory</td>\n",
       "      <td>4.0</td>\n",
       "      <td>midi_encode/hooktheory/pianoroll/w/whiteflame/...</td>\n",
       "      <td>senbonzakura</td>\n",
       "      <td>Senbonzakura</td>\n",
       "      <td>verse,pre-chorus,chorus</td>\n",
       "      <td>-5.0</td>\n",
       "      <td>6.0</td>\n",
       "      <td>152.0</td>\n",
       "      <td>whiteflame</td>\n",
       "      <td>D</td>\n",
       "      <td>J-Pop,Pop</td>\n",
       "    </tr>\n",
       "    <tr>\n",
       "      <th>4</th>\n",
       "      <td>NaN</td>\n",
       "      <td>chorus</td>\n",
       "      <td>e0c189ee753b30c4758d85211f13c189</td>\n",
       "      <td>midi_sources/hooktheory/pianoroll/w/whiteflame...</td>\n",
       "      <td>https://www.hooktheory.com/theorytab/view/whit...</td>\n",
       "      <td>hooktheory</td>\n",
       "      <td>4.0</td>\n",
       "      <td>midi_encode/hooktheory/pianoroll/w/whiteflame/...</td>\n",
       "      <td>senbonzakura</td>\n",
       "      <td>Senbonzakura</td>\n",
       "      <td>verse,pre-chorus,chorus</td>\n",
       "      <td>-5.0</td>\n",
       "      <td>6.0</td>\n",
       "      <td>152.0</td>\n",
       "      <td>whiteflame</td>\n",
       "      <td>D</td>\n",
       "      <td>J-Pop,Pop</td>\n",
       "    </tr>\n",
       "  </tbody>\n",
       "</table>\n",
       "</div>"
      ],
      "text/plain": [
       "   mxl     section                               md5  \\\n",
       "0  NaN      chorus  bf1f29e5ff84e3e93e37fb873bfb590e   \n",
       "1  NaN  pre-chorus  9e7ce13a35f1314423a9a6d5a5287a4a   \n",
       "2  NaN      chorus  e76bfe452839d0d653a8eb920f117905   \n",
       "3  NaN       verse  d5aaf79d0989222f1362f9f46c540a27   \n",
       "4  NaN      chorus  e0c189ee753b30c4758d85211f13c189   \n",
       "\n",
       "                                                midi  \\\n",
       "0  midi_sources/hooktheory/pianoroll/w/wayne-shar...   \n",
       "1  midi_sources/hooktheory/pianoroll/w/whiteflame...   \n",
       "2  midi_sources/hooktheory/pianoroll/w/wavves/nin...   \n",
       "3  midi_sources/hooktheory/pianoroll/w/whiteflame...   \n",
       "4  midi_sources/hooktheory/pianoroll/w/whiteflame...   \n",
       "\n",
       "                                            song_url      source  \\\n",
       "0  https://www.hooktheory.com/theorytab/view/wayn...  hooktheory   \n",
       "1  https://www.hooktheory.com/theorytab/view/whit...  hooktheory   \n",
       "2  https://www.hooktheory.com/theorytab/view/wavv...  hooktheory   \n",
       "3  https://www.hooktheory.com/theorytab/view/whit...  hooktheory   \n",
       "4  https://www.hooktheory.com/theorytab/view/whit...  hooktheory   \n",
       "\n",
       "   ht_time_signature                                              numpy  \\\n",
       "0                4.0  midi_encode/hooktheory/pianoroll/w/wayne-sharp...   \n",
       "1                4.0  midi_encode/hooktheory/pianoroll/w/whiteflame/...   \n",
       "2                4.0  midi_encode/hooktheory/pianoroll/w/wavves/nine...   \n",
       "3                4.0  midi_encode/hooktheory/pianoroll/w/whiteflame/...   \n",
       "4                4.0  midi_encode/hooktheory/pianoroll/w/whiteflame/...   \n",
       "\n",
       "                 title                     midi_title  \\\n",
       "0  yu-gi-oh-theme-song                      yu-gi-oh3   \n",
       "1         senbonzakura  senbonzakura - pre-Pre-Chorus   \n",
       "2          nine-is-god                    Nine is God   \n",
       "3         senbonzakura                   Senbonzakura   \n",
       "4         senbonzakura                   Senbonzakura   \n",
       "\n",
       "                     parts  ht_offset  ht_mode  ht_bpm        artist ht_key  \\\n",
       "0             intro,chorus        0.0      1.0   128.0  wayne-sharpe      C   \n",
       "1  verse,pre-chorus,chorus       -5.0      6.0   152.0    whiteflame      D   \n",
       "2             verse,chorus       -4.0      1.0   122.0        wavves      E   \n",
       "3  verse,pre-chorus,chorus       -5.0      6.0   152.0    whiteflame      D   \n",
       "4  verse,pre-chorus,chorus       -5.0      6.0   152.0    whiteflame      D   \n",
       "\n",
       "      genres  \n",
       "0        NaN  \n",
       "1  J-Pop,Pop  \n",
       "2        NaN  \n",
       "3  J-Pop,Pop  \n",
       "4  J-Pop,Pop  "
      ]
     },
     "execution_count": 11,
     "metadata": {},
     "output_type": "execute_result"
    }
   ],
   "source": [
    "csv.head()"
   ]
  },
  {
   "cell_type": "code",
   "execution_count": 12,
   "metadata": {},
   "outputs": [
    {
     "data": {
      "text/plain": [
       "(156755, 17)"
      ]
     },
     "execution_count": 12,
     "metadata": {},
     "output_type": "execute_result"
    }
   ],
   "source": [
    "csv.shape"
   ]
  },
  {
   "cell_type": "code",
   "execution_count": 13,
   "metadata": {},
   "outputs": [],
   "source": [
    "all_files = get_files(csv)\n",
    "all_data = create_databunch(all_files, cache_name='tmp/all', load_cached=True)"
   ]
  },
  {
   "cell_type": "markdown",
   "metadata": {},
   "source": [
    "### Create sample"
   ]
  },
  {
   "cell_type": "code",
   "execution_count": 14,
   "metadata": {},
   "outputs": [],
   "source": [
    "import random\n",
    "sample_data = create_databunch(random.sample(all_files, 1000), cache_name='tmp/sample')"
   ]
  },
  {
   "cell_type": "markdown",
   "metadata": {},
   "source": [
    "Note: we are reusing all_vocab for the following datasets"
   ]
  },
  {
   "cell_type": "markdown",
   "metadata": {},
   "source": [
    "### Save vocab sizes"
   ]
  },
  {
   "cell_type": "code",
   "execution_count": 15,
   "metadata": {},
   "outputs": [
    {
     "data": {
      "text/plain": [
       "[130, 132]"
      ]
     },
     "execution_count": 15,
     "metadata": {},
     "output_type": "execute_result"
    }
   ],
   "source": [
    "VOCAB_SZ = create_vocab_sizes(out_path/'tmp/all'); VOCAB_SZ"
   ]
  },
  {
   "cell_type": "markdown",
   "metadata": {},
   "source": [
    "### Create Hooktheory Dataset"
   ]
  },
  {
   "cell_type": "code",
   "execution_count": 16,
   "metadata": {},
   "outputs": [
    {
     "data": {
      "text/plain": [
       "19820"
      ]
     },
     "execution_count": 16,
     "metadata": {},
     "output_type": "execute_result"
    }
   ],
   "source": [
    "hook_csv = csv.loc[csv.source.isin(['hooktheory'])]\n",
    "hook_files = get_files(hook_csv); len(hook_files)"
   ]
  },
  {
   "cell_type": "code",
   "execution_count": 17,
   "metadata": {},
   "outputs": [],
   "source": [
    "hook_data = create_databunch(hook_files, cache_name='tmp/hook')"
   ]
  },
  {
   "cell_type": "markdown",
   "metadata": {},
   "source": [
    "### Create Hooktheory C Dataset"
   ]
  },
  {
   "cell_type": "code",
   "execution_count": 16,
   "metadata": {},
   "outputs": [
    {
     "data": {
      "text/plain": [
       "19820"
      ]
     },
     "execution_count": 16,
     "metadata": {},
     "output_type": "execute_result"
    }
   ],
   "source": [
    "hook_csv = csv.loc[csv.source.isin(['hooktheory_c'])]\n",
    "hook_files = get_files(hook_csv); len(hook_files)"
   ]
  },
  {
   "cell_type": "code",
   "execution_count": 17,
   "metadata": {},
   "outputs": [],
   "source": [
    "hook_data = create_databunch(hook_files, cache_name='tmp/hook')"
   ]
  },
  {
   "cell_type": "markdown",
   "metadata": {},
   "source": [
    "### Create Solo Piano"
   ]
  },
  {
   "cell_type": "code",
   "execution_count": 18,
   "metadata": {},
   "outputs": [
    {
     "data": {
      "text/plain": [
       "18134"
      ]
     },
     "execution_count": 18,
     "metadata": {},
     "output_type": "execute_result"
    }
   ],
   "source": [
    "solo_csv = csv.loc[csv.source.isin(['musescore', 'wikifonia'])]\n",
    "solo_files = get_files(solo_csv); len(solo_csv)"
   ]
  },
  {
   "cell_type": "code",
   "execution_count": 19,
   "metadata": {},
   "outputs": [],
   "source": [
    "solo_data = create_databunch(solo_files, cache_name='tmp/solo')"
   ]
  },
  {
   "cell_type": "markdown",
   "metadata": {},
   "source": [
    "### Create Pop Dataset"
   ]
  },
  {
   "cell_type": "code",
   "execution_count": 20,
   "metadata": {},
   "outputs": [
    {
     "data": {
      "text/plain": [
       "21516"
      ]
     },
     "execution_count": 20,
     "metadata": {},
     "output_type": "execute_result"
    }
   ],
   "source": [
    "pop_csv = csv.loc[csv.source.isin(['midiworld', 'freemidi', 'lmd', 'cprato'])]\n",
    "pop_files = get_files(pop_csv); len(pop_csv)"
   ]
  },
  {
   "cell_type": "code",
   "execution_count": 21,
   "metadata": {},
   "outputs": [],
   "source": [
    "pop_data = create_databunch(pop_files, cache_name='tmp/pop')"
   ]
  },
  {
   "cell_type": "markdown",
   "metadata": {},
   "source": [
    "### Create Classical Dataset"
   ]
  },
  {
   "cell_type": "code",
   "execution_count": 22,
   "metadata": {},
   "outputs": [
    {
     "data": {
      "text/plain": [
       "3063"
      ]
     },
     "execution_count": 22,
     "metadata": {},
     "output_type": "execute_result"
    }
   ],
   "source": [
    "clc_csv = csv.loc[csv.source.isin(['classical_piano', 'ecomp'])]\n",
    "clc_files = get_files(clc_csv); len(clc_files)"
   ]
  },
  {
   "cell_type": "code",
   "execution_count": 23,
   "metadata": {},
   "outputs": [],
   "source": [
    "clc_data = create_databunch(clc_files, cache_name='tmp/clc')"
   ]
  },
  {
   "cell_type": "code",
   "execution_count": 24,
   "metadata": {},
   "outputs": [
    {
     "data": {
      "text/plain": [
       "3063"
      ]
     },
     "execution_count": 24,
     "metadata": {},
     "output_type": "execute_result"
    }
   ],
   "source": [
    "len(clc_files)"
   ]
  },
  {
   "cell_type": "markdown",
   "metadata": {},
   "source": [
    "## Create dumpster dataset"
   ]
  },
  {
   "cell_type": "code",
   "execution_count": 26,
   "metadata": {},
   "outputs": [
    {
     "data": {
      "text/plain": [
       "94222"
      ]
     },
     "execution_count": 26,
     "metadata": {},
     "output_type": "execute_result"
    }
   ],
   "source": [
    "dmp_csv = csv.loc[csv.source.isin(['reddit'])]\n",
    "dmp_files = get_files(dmp_csv); len(dmp_files)"
   ]
  },
  {
   "cell_type": "code",
   "execution_count": 27,
   "metadata": {},
   "outputs": [],
   "source": [
    "dmp_data = create_databunch(dmp_files, cache_name='tmp/dmp')"
   ]
  },
  {
   "cell_type": "markdown",
   "metadata": {},
   "source": [
    "## Low quality"
   ]
  },
  {
   "cell_type": "code",
   "execution_count": 28,
   "metadata": {},
   "outputs": [
    {
     "data": {
      "text/plain": [
       "118801"
      ]
     },
     "execution_count": 28,
     "metadata": {},
     "output_type": "execute_result"
    }
   ],
   "source": [
    "lq_csv = csv.loc[csv.source.isin(['reddit', 'classical_piano', 'ecomp', 'midiworld', 'freemidi', 'lmd', 'cprato'])]\n",
    "lq_files = get_files(lq_csv); len(lq_files)"
   ]
  },
  {
   "cell_type": "code",
   "execution_count": 29,
   "metadata": {},
   "outputs": [],
   "source": [
    "lq_data = create_databunch(lq_files, cache_name='tmp/lq')"
   ]
  },
  {
   "cell_type": "markdown",
   "metadata": {},
   "source": [
    "## All High quality"
   ]
  },
  {
   "cell_type": "code",
   "execution_count": 30,
   "metadata": {},
   "outputs": [
    {
     "data": {
      "text/plain": [
       "37954"
      ]
     },
     "execution_count": 30,
     "metadata": {},
     "output_type": "execute_result"
    }
   ],
   "source": [
    "hq_csv = csv.loc[csv.source.isin(['hooktheory', 'wikifonia', 'musescore'])]\n",
    "hq_files = get_files(hq_csv); len(hq_files)"
   ]
  },
  {
   "cell_type": "code",
   "execution_count": 31,
   "metadata": {},
   "outputs": [],
   "source": [
    "hq_data = create_databunch(hq_files, cache_name='tmp/hq')"
   ]
  },
  {
   "cell_type": "markdown",
   "metadata": {},
   "source": [
    "### Testing"
   ]
  },
  {
   "cell_type": "code",
   "execution_count": 38,
   "metadata": {},
   "outputs": [],
   "source": [
    "data = pop_data"
   ]
  },
  {
   "cell_type": "code",
   "execution_count": 39,
   "metadata": {},
   "outputs": [
    {
     "data": {
      "text/plain": [
       "ItemList (9009 items)\n",
       "[[ 2  0]\n",
       " [ 1  3]\n",
       " [61  6]\n",
       " [ 1  8]\n",
       " ...\n",
       " [64  4]\n",
       " [ 1  4]\n",
       " [93 11]\n",
       " [64  5]],[[ 2  0]\n",
       " [ 1  3]\n",
       " [47  5]\n",
       " [35  5]\n",
       " ...\n",
       " [70 21]\n",
       " [67 21]\n",
       " [51 21]\n",
       " [39 21]],[[ 2  0]\n",
       " [ 1  3]\n",
       " [73  4]\n",
       " [ 1  3]\n",
       " ...\n",
       " [ 1 34]\n",
       " [73 27]\n",
       " [ 1 34]\n",
       " [73 26]],[[ 2  0]\n",
       " [ 1  3]\n",
       " [70 10]\n",
       " [ 1 10]\n",
       " ...\n",
       " [73  7]\n",
       " [68  7]\n",
       " [65  7]\n",
       " [37  7]],[[ 2  0]\n",
       " [ 1  3]\n",
       " [75  5]\n",
       " [ 1  4]\n",
       " ...\n",
       " [77  5]\n",
       " [ 1  4]\n",
       " [74  5]\n",
       " [48  5]]\n",
       "Path: data/midi/v10/midi_encode"
      ]
     },
     "execution_count": 39,
     "metadata": {},
     "output_type": "execute_result"
    }
   ],
   "source": [
    "data.train_ds.x"
   ]
  },
  {
   "cell_type": "code",
   "execution_count": 12,
   "metadata": {},
   "outputs": [
    {
     "data": {
      "text/plain": [
       "[118, 132]"
      ]
     },
     "execution_count": 12,
     "metadata": {},
     "output_type": "execute_result"
    }
   ],
   "source": [
    "train_ids_file = out_path/'tmp/all/train_ids.npy'\n",
    "all_ids = np.load(train_ids_file)\n",
    "id_cat = np.concatenate(all_ids); id_cat.shape\n",
    "ax = tuple(range(len(id_cat.shape)-1))\n",
    "max_vocab = id_cat.max(axis=ax)\n",
    "max_vocab = (max_vocab+1).tolist(); max_vocab"
   ]
  },
  {
   "cell_type": "code",
   "execution_count": 27,
   "metadata": {},
   "outputs": [],
   "source": [
    "from encode_data import *"
   ]
  },
  {
   "cell_type": "code",
   "execution_count": 29,
   "metadata": {},
   "outputs": [
    {
     "ename": "AttributeError",
     "evalue": "'numpy.ndarray' object has no attribute 'text'",
     "output_type": "error",
     "traceback": [
      "\u001b[0;31m---------------------------------------------------------------------------\u001b[0m",
      "\u001b[0;31mAttributeError\u001b[0m                            Traceback (most recent call last)",
      "\u001b[0;32m<ipython-input-29-6d3a0ade5a50>\u001b[0m in \u001b[0;36m<module>\u001b[0;34m\u001b[0m\n\u001b[0;32m----> 1\u001b[0;31m \u001b[0mone_text\u001b[0m \u001b[0;34m=\u001b[0m \u001b[0mdata\u001b[0m\u001b[0;34m.\u001b[0m\u001b[0mtrain_ds\u001b[0m\u001b[0;34m[\u001b[0m\u001b[0;36m0\u001b[0m\u001b[0;34m]\u001b[0m\u001b[0;34m[\u001b[0m\u001b[0;36m0\u001b[0m\u001b[0;34m]\u001b[0m\u001b[0;34m.\u001b[0m\u001b[0mtext\u001b[0m\u001b[0;34m\u001b[0m\u001b[0;34m\u001b[0m\u001b[0m\n\u001b[0m",
      "\u001b[0;31mAttributeError\u001b[0m: 'numpy.ndarray' object has no attribute 'text'"
     ]
    }
   ],
   "source": [
    "one_text = data.train_ds[0][0].text"
   ]
  },
  {
   "cell_type": "code",
   "execution_count": null,
   "metadata": {},
   "outputs": [],
   "source": [
    "seq = str2seq(one_text); seq"
   ]
  },
  {
   "cell_type": "code",
   "execution_count": null,
   "metadata": {},
   "outputs": [],
   "source": [
    "seq2numpy(seq).shape"
   ]
  },
  {
   "cell_type": "code",
   "execution_count": null,
   "metadata": {},
   "outputs": [],
   "source": [
    "s = str2stream(one_text)"
   ]
  },
  {
   "cell_type": "code",
   "execution_count": null,
   "metadata": {},
   "outputs": [],
   "source": [
    "s.show('midi')"
   ]
  },
  {
   "cell_type": "code",
   "execution_count": null,
   "metadata": {},
   "outputs": [],
   "source": [
    "s.show('text')"
   ]
  },
  {
   "cell_type": "code",
   "execution_count": null,
   "metadata": {},
   "outputs": [],
   "source": []
  }
 ],
 "metadata": {
  "kernelspec": {
   "display_name": "Python 3",
   "language": "python",
   "name": "python3"
  },
  "language_info": {
   "codemirror_mode": {
    "name": "ipython",
    "version": 3
   },
   "file_extension": ".py",
   "mimetype": "text/x-python",
   "name": "python",
   "nbconvert_exporter": "python",
   "pygments_lexer": "ipython3",
   "version": "3.7.1"
  }
 },
 "nbformat": 4,
 "nbformat_minor": 2
}

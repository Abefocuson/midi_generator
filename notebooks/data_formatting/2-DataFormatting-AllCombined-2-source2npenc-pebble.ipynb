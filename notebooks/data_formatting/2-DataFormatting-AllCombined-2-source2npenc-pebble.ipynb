{
 "cells": [
  {
   "cell_type": "code",
   "execution_count": 1,
   "metadata": {},
   "outputs": [],
   "source": [
    "%reload_ext autoreload\n",
    "%autoreload 2\n",
    "%matplotlib inline"
   ]
  },
  {
   "cell_type": "code",
   "execution_count": 2,
   "metadata": {},
   "outputs": [],
   "source": [
    "import sys\n",
    "sys.path.insert(0, '../../')\n",
    "from src.encode_data import *\n",
    "from src.midi_data import *\n",
    "from src.data_sources import process_all, arr2csv\n",
    "from src.midi_transform import *\n",
    "from src.fastai_data import *"
   ]
  },
  {
   "cell_type": "code",
   "execution_count": 3,
   "metadata": {},
   "outputs": [],
   "source": [
    "import traceback\n",
    "import time"
   ]
  },
  {
   "cell_type": "markdown",
   "metadata": {},
   "source": [
    "## Standardize and reformat raw midi files before encoding to text\n",
    "- Transform key to C major\n",
    "- Remove unused instruments\n",
    "- Combine multiple tracks with the same instrument into a single part\n",
    "- Melody, Piano, String"
   ]
  },
  {
   "cell_type": "markdown",
   "metadata": {},
   "source": [
    "### Load midi data"
   ]
  },
  {
   "cell_type": "code",
   "execution_count": 4,
   "metadata": {},
   "outputs": [],
   "source": [
    "version = 'v16'\n",
    "data_path = Path('data/midi')\n",
    "version_path = data_path/version"
   ]
  },
  {
   "cell_type": "code",
   "execution_count": 5,
   "metadata": {},
   "outputs": [],
   "source": [
    "import pandas as pd"
   ]
  },
  {
   "cell_type": "code",
   "execution_count": 6,
   "metadata": {},
   "outputs": [],
   "source": [
    "out_dir = 'midi_encode'\n",
    "duet_only = False\n",
    "# out_dir = 'piano_duet'\n",
    "# duet_only = True"
   ]
  },
  {
   "cell_type": "code",
   "execution_count": 7,
   "metadata": {},
   "outputs": [
    {
     "data": {
      "text/plain": [
       "(PosixPath('data/midi/v16/metadata/midi_sources.csv'),\n",
       " PosixPath('data/midi/v16/midi_encode/midi_encode.csv'))"
      ]
     },
     "execution_count": 7,
     "metadata": {},
     "output_type": "execute_result"
    }
   ],
   "source": [
    "source_dir = 'midi_sources'\n",
    "source_csv = version_path/'metadata'/f'{source_dir}.csv'\n",
    "out_csv = version_path/out_dir/f'{out_dir}.csv'\n",
    "out_csv.parent.mkdir(parents=True, exist_ok=True)\n",
    "source_csv, out_csv"
   ]
  },
  {
   "cell_type": "code",
   "execution_count": 8,
   "metadata": {},
   "outputs": [],
   "source": [
    "# num_comps = 2 # note, duration\n",
    "cutoff = 5 # max instruments\n",
    "min_variation = 3 # minimum number of different midi notes played\n",
    "# max_dur = 128"
   ]
  },
  {
   "cell_type": "markdown",
   "metadata": {},
   "source": [
    "### Encoding midi to numpy"
   ]
  },
  {
   "cell_type": "code",
   "execution_count": 9,
   "metadata": {},
   "outputs": [
    {
     "name": "stderr",
     "output_type": "stream",
     "text": [
      "/home/ubuntu/anaconda3/envs/midi/lib/python3.7/site-packages/IPython/core/interactiveshell.py:3020: DtypeWarning: Columns (3,4,7,9,12,14) have mixed types. Specify dtype option on import or set low_memory=False.\n",
      "  interactivity=interactivity, compiler=compiler, result=result)\n"
     ]
    },
    {
     "data": {
      "text/html": [
       "<div>\n",
       "<style scoped>\n",
       "    .dataframe tbody tr th:only-of-type {\n",
       "        vertical-align: middle;\n",
       "    }\n",
       "\n",
       "    .dataframe tbody tr th {\n",
       "        vertical-align: top;\n",
       "    }\n",
       "\n",
       "    .dataframe thead th {\n",
       "        text-align: right;\n",
       "    }\n",
       "</style>\n",
       "<table border=\"1\" class=\"dataframe\">\n",
       "  <thead>\n",
       "    <tr style=\"text-align: right;\">\n",
       "      <th></th>\n",
       "      <th>ht_time_signature</th>\n",
       "      <th>ht_offset</th>\n",
       "      <th>midi</th>\n",
       "      <th>section</th>\n",
       "      <th>parts</th>\n",
       "      <th>ht_bpm</th>\n",
       "      <th>title</th>\n",
       "      <th>midi_title</th>\n",
       "      <th>artist</th>\n",
       "      <th>song_url</th>\n",
       "      <th>genres</th>\n",
       "      <th>source</th>\n",
       "      <th>ht_key</th>\n",
       "      <th>md5</th>\n",
       "      <th>mxl</th>\n",
       "      <th>ht_mode</th>\n",
       "    </tr>\n",
       "  </thead>\n",
       "  <tbody>\n",
       "    <tr>\n",
       "      <th>0</th>\n",
       "      <td>4.0</td>\n",
       "      <td>0.0</td>\n",
       "      <td>midi_sources/hooktheory/pianoroll/w/wayne-shar...</td>\n",
       "      <td>chorus</td>\n",
       "      <td>intro,chorus</td>\n",
       "      <td>128.0</td>\n",
       "      <td>yu-gi-oh-theme-song</td>\n",
       "      <td>yu-gi-oh3</td>\n",
       "      <td>wayne-sharpe</td>\n",
       "      <td>https://www.hooktheory.com/theorytab/view/wayn...</td>\n",
       "      <td>NaN</td>\n",
       "      <td>hooktheory</td>\n",
       "      <td>C</td>\n",
       "      <td>bf1f29e5ff84e3e93e37fb873bfb590e</td>\n",
       "      <td>NaN</td>\n",
       "      <td>1.0</td>\n",
       "    </tr>\n",
       "    <tr>\n",
       "      <th>1</th>\n",
       "      <td>3.0</td>\n",
       "      <td>0.0</td>\n",
       "      <td>midi_sources/hooktheory/pianoroll/w/wayne-shar...</td>\n",
       "      <td>intro</td>\n",
       "      <td>intro,chorus</td>\n",
       "      <td>85.0</td>\n",
       "      <td>yu-gi-oh-theme-song</td>\n",
       "      <td>yu-gi-oh</td>\n",
       "      <td>wayne-sharpe</td>\n",
       "      <td>https://www.hooktheory.com/theorytab/view/wayn...</td>\n",
       "      <td>NaN</td>\n",
       "      <td>hooktheory</td>\n",
       "      <td>C</td>\n",
       "      <td>055f80ad67f64edb14a85ca8fbfe8c29</td>\n",
       "      <td>NaN</td>\n",
       "      <td>1.0</td>\n",
       "    </tr>\n",
       "    <tr>\n",
       "      <th>2</th>\n",
       "      <td>4.0</td>\n",
       "      <td>-5.0</td>\n",
       "      <td>midi_sources/hooktheory/pianoroll/w/what-a-day...</td>\n",
       "      <td>chorus</td>\n",
       "      <td>chorus</td>\n",
       "      <td>96.0</td>\n",
       "      <td>kiefer</td>\n",
       "      <td>kiefer</td>\n",
       "      <td>what-a-day</td>\n",
       "      <td>https://www.hooktheory.com/theorytab/view/what...</td>\n",
       "      <td>Jazz</td>\n",
       "      <td>hooktheory</td>\n",
       "      <td>D</td>\n",
       "      <td>197f96f5d181f6ce1e2c5ab04ac1ff87</td>\n",
       "      <td>NaN</td>\n",
       "      <td>6.0</td>\n",
       "    </tr>\n",
       "    <tr>\n",
       "      <th>3</th>\n",
       "      <td>4.0</td>\n",
       "      <td>-5.0</td>\n",
       "      <td>midi_sources/hooktheory/pianoroll/w/whiteflame...</td>\n",
       "      <td>pre-chorus</td>\n",
       "      <td>verse,pre-chorus,chorus</td>\n",
       "      <td>152.0</td>\n",
       "      <td>senbonzakura</td>\n",
       "      <td>senbonzakura - pre-Pre-Chorus</td>\n",
       "      <td>whiteflame</td>\n",
       "      <td>https://www.hooktheory.com/theorytab/view/whit...</td>\n",
       "      <td>J-Pop,Pop</td>\n",
       "      <td>hooktheory</td>\n",
       "      <td>D</td>\n",
       "      <td>9e7ce13a35f1314423a9a6d5a5287a4a</td>\n",
       "      <td>NaN</td>\n",
       "      <td>6.0</td>\n",
       "    </tr>\n",
       "    <tr>\n",
       "      <th>4</th>\n",
       "      <td>4.0</td>\n",
       "      <td>-5.0</td>\n",
       "      <td>midi_sources/hooktheory/pianoroll/w/whiteflame...</td>\n",
       "      <td>verse</td>\n",
       "      <td>verse,pre-chorus,chorus</td>\n",
       "      <td>152.0</td>\n",
       "      <td>senbonzakura</td>\n",
       "      <td>Senbonzakura</td>\n",
       "      <td>whiteflame</td>\n",
       "      <td>https://www.hooktheory.com/theorytab/view/whit...</td>\n",
       "      <td>J-Pop,Pop</td>\n",
       "      <td>hooktheory</td>\n",
       "      <td>D</td>\n",
       "      <td>d5aaf79d0989222f1362f9f46c540a27</td>\n",
       "      <td>NaN</td>\n",
       "      <td>6.0</td>\n",
       "    </tr>\n",
       "  </tbody>\n",
       "</table>\n",
       "</div>"
      ],
      "text/plain": [
       "   ht_time_signature  ht_offset  \\\n",
       "0                4.0        0.0   \n",
       "1                3.0        0.0   \n",
       "2                4.0       -5.0   \n",
       "3                4.0       -5.0   \n",
       "4                4.0       -5.0   \n",
       "\n",
       "                                                midi     section  \\\n",
       "0  midi_sources/hooktheory/pianoroll/w/wayne-shar...      chorus   \n",
       "1  midi_sources/hooktheory/pianoroll/w/wayne-shar...       intro   \n",
       "2  midi_sources/hooktheory/pianoroll/w/what-a-day...      chorus   \n",
       "3  midi_sources/hooktheory/pianoroll/w/whiteflame...  pre-chorus   \n",
       "4  midi_sources/hooktheory/pianoroll/w/whiteflame...       verse   \n",
       "\n",
       "                     parts  ht_bpm                title  \\\n",
       "0             intro,chorus   128.0  yu-gi-oh-theme-song   \n",
       "1             intro,chorus    85.0  yu-gi-oh-theme-song   \n",
       "2                   chorus    96.0               kiefer   \n",
       "3  verse,pre-chorus,chorus   152.0         senbonzakura   \n",
       "4  verse,pre-chorus,chorus   152.0         senbonzakura   \n",
       "\n",
       "                      midi_title        artist  \\\n",
       "0                      yu-gi-oh3  wayne-sharpe   \n",
       "1                       yu-gi-oh  wayne-sharpe   \n",
       "2                         kiefer    what-a-day   \n",
       "3  senbonzakura - pre-Pre-Chorus    whiteflame   \n",
       "4                   Senbonzakura    whiteflame   \n",
       "\n",
       "                                            song_url     genres      source  \\\n",
       "0  https://www.hooktheory.com/theorytab/view/wayn...        NaN  hooktheory   \n",
       "1  https://www.hooktheory.com/theorytab/view/wayn...        NaN  hooktheory   \n",
       "2  https://www.hooktheory.com/theorytab/view/what...       Jazz  hooktheory   \n",
       "3  https://www.hooktheory.com/theorytab/view/whit...  J-Pop,Pop  hooktheory   \n",
       "4  https://www.hooktheory.com/theorytab/view/whit...  J-Pop,Pop  hooktheory   \n",
       "\n",
       "  ht_key                               md5  mxl  ht_mode  \n",
       "0      C  bf1f29e5ff84e3e93e37fb873bfb590e  NaN      1.0  \n",
       "1      C  055f80ad67f64edb14a85ca8fbfe8c29  NaN      1.0  \n",
       "2      D  197f96f5d181f6ce1e2c5ab04ac1ff87  NaN      6.0  \n",
       "3      D  9e7ce13a35f1314423a9a6d5a5287a4a  NaN      6.0  \n",
       "4      D  d5aaf79d0989222f1362f9f46c540a27  NaN      6.0  "
      ]
     },
     "execution_count": 9,
     "metadata": {},
     "output_type": "execute_result"
    }
   ],
   "source": [
    "df = pd.read_csv(source_csv); df.head()"
   ]
  },
  {
   "cell_type": "code",
   "execution_count": 10,
   "metadata": {},
   "outputs": [
    {
     "data": {
      "text/plain": [
       "197182"
      ]
     },
     "execution_count": 10,
     "metadata": {},
     "output_type": "execute_result"
    }
   ],
   "source": [
    "all_records = df.to_dict(orient='records'); len(all_records)"
   ]
  },
  {
   "cell_type": "code",
   "execution_count": 11,
   "metadata": {},
   "outputs": [],
   "source": [
    "def process_metadata(metadata):\n",
    "    result = metadata.copy()\n",
    "    \n",
    "    # Part 1. Compress tracks/instruments\n",
    "    if not isinstance(metadata.get('midi'), str): return None\n",
    "    \n",
    "    input_path = version_path/metadata['midi']\n",
    "    extension = input_path.suffix.lower()\n",
    "    if not input_path.exists(): \n",
    "        print('Input path does not exist:', input_path, metadata)\n",
    "        return result\n",
    "    \n",
    "    # Get outfile and check if it exists\n",
    "    out_file = Path(str(input_path).replace(f'/{source_dir}/', f'/{out_dir}/'))\n",
    "    out_file = out_file.with_suffix('.npy')\n",
    "    out_file.parent.mkdir(parents=True, exist_ok=True)\n",
    "    if out_file.exists(): \n",
    "        result['numpy'] = str(out_file.relative_to(version_path))\n",
    "        return result\n",
    "    \n",
    "    npenc = transform_midi(input_path)\n",
    "    if npenc is None: return result\n",
    "    np.save(out_file, npenc)\n",
    "    result['numpy'] = str(out_file.relative_to(version_path))\n",
    "    return result"
   ]
  },
  {
   "cell_type": "code",
   "execution_count": 12,
   "metadata": {},
   "outputs": [],
   "source": [
    "def transform_midi(midi_file):\n",
    "    input_path = midi_file\n",
    "    \n",
    "    # Part 1: Filter out midi tracks (drums, repetitive instruments, etc.)\n",
    "    try: \n",
    "        if duet_only and num_piano_tracks(input_path) not in [1, 2]: return None\n",
    "        input_file = compress_midi_file(input_path, min_variation=min_variation, cutoff=cutoff) # remove non note tracks and standardize instruments\n",
    "        \n",
    "        if input_file is None: return None\n",
    "    except Exception as e:\n",
    "        if 'badly form' in str(e): return None # ignore badly formatted midi errors\n",
    "        if 'out of range' in str(e): return None # ignore badly formatted midi errors\n",
    "        print('Error parsing midi', input_path, e)\n",
    "        return None\n",
    "        \n",
    "    # Part 2. Compress rests and long notes\n",
    "    stream = file2stream(input_file) # 1.\n",
    "    try:\n",
    "        chordarr = stream2chordarr(stream) # 2. max_dur = quarter_len * sample_freq (4). 128 = 8 bars\n",
    "    except Exception as e:\n",
    "        print('Could not encode to chordarr:', input_path, e)\n",
    "        print(traceback.format_exc())\n",
    "        return None\n",
    "    \n",
    "    # Part 3. Compress song rests - Don't want songs with really long pauses \n",
    "    # (this happens because we filter out midi tracks).\n",
    "    chord_trim = trim_chordarr_rests(chordarr)\n",
    "    chord_short = shorten_chordarr_rests(chord_trim)\n",
    "    delta_trim = chord_trim.shape[0] - chord_short.shape[0]\n",
    "#     if delta_trim > 500: \n",
    "#         print(f'Removed {delta_trim} rests from {input_path}. Skipping song')\n",
    "#         return None\n",
    "    chordarr = chord_short\n",
    "    \n",
    "    # Part 3. Chord array to numpy\n",
    "    npenc = chordarr2npenc(chordarr)\n",
    "    if not is_valid_npenc(npenc, input_path=input_path):\n",
    "        return None\n",
    "    \n",
    "    return npenc"
   ]
  },
  {
   "cell_type": "code",
   "execution_count": 13,
   "metadata": {},
   "outputs": [],
   "source": [
    "def try_process_metadata(metadata):\n",
    "    try:\n",
    "        return process_metadata(metadata)\n",
    "    except Exception:\n",
    "#         print(traceback.format_exc())\n",
    "        return None"
   ]
  },
  {
   "cell_type": "code",
   "execution_count": 14,
   "metadata": {},
   "outputs": [],
   "source": [
    "# # sanity check\n",
    "import random\n",
    "for r in random.sample(all_records, 10):\n",
    "    process_metadata(r)"
   ]
  },
  {
   "cell_type": "code",
   "execution_count": 15,
   "metadata": {},
   "outputs": [],
   "source": [
    "def timeout_func(data, seconds):\n",
    "    print(\"Timeout:\", seconds, data.get('midi'))"
   ]
  },
  {
   "cell_type": "code",
   "execution_count": 16,
   "metadata": {
    "scrolled": true
   },
   "outputs": [
    {
     "data": {
      "text/html": [
       "\n",
       "    <div>\n",
       "        <style>\n",
       "            /* Turns off some styling */\n",
       "            progress {\n",
       "                /* gets rid of default border in Firefox and Opera. */\n",
       "                border: none;\n",
       "                /* Needs to be in here for Safari polyfill so background images work as expected. */\n",
       "                background-size: auto;\n",
       "            }\n",
       "            .progress-bar-interrupted, .progress-bar-interrupted::-webkit-progress-bar {\n",
       "                background: #F44336;\n",
       "            }\n",
       "        </style>\n",
       "      <progress value='192231' class='' max='197182', style='width:300px; height:20px; vertical-align: middle;'></progress>\n",
       "      97.49% [192231/197182 30:14<00:46]\n",
       "    </div>\n",
       "    "
      ],
      "text/plain": [
       "<IPython.core.display.HTML object>"
      ]
     },
     "metadata": {},
     "output_type": "display_data"
    },
    {
     "name": "stdout",
     "output_type": "stream",
     "text": [
      "npenc exceeds max 481 duration: 486 data/midi/v16/midi_sources/freemidi/genre-pop/Roxette - Hotblooded.mid\n",
      "npenc exceeds max 481 duration: 486 data/midi/v16/midi_sources/freemidi/genre-pop/Peter Gabriel - The Family And The Fishing Net.mid\n",
      "Error parsing midi data/midi/v16/midi_sources/freemidi/genre-pop/PSY - gangnam style KILLYURSLEF.mid ord() expected string of length 1, but int found\n",
      "Error parsing midi data/midi/v16/midi_sources/midiworld/named_midi/Nirvana_-_Drain_You.mid cannot handle ticks per frame: 77\n",
      "npenc exceeds max 481 duration: 486 data/midi/v16/midi_sources/midiworld/named_midi/Stravinsky_Igor_-_Stravinsky_-_rite_of_spring_2.mid\n",
      "Error parsing midi data/midi/v16/midi_sources/lmd_clean/The Police/So Lonely.1.mid ord() expected string of length 1, but int found\n",
      "npenc exceeds max 481 duration: 486 data/midi/v16/midi_sources/lmd_clean/Nine Inch Nails/A Warm Place.1.mid\n",
      "Could not encode to chordarr: data/midi/v16/midi_sources/lmd_clean/Rob Zombie/Demonoid Phenomenon.mid \n",
      "Traceback (most recent call last):\n",
      "  File \"<ipython-input-12-7c0f0b3bce8b>\", line 19, in transform_midi\n",
      "    chordarr = stream2chordarr(stream) # 2. max_dur = quarter_len * sample_freq (4). 128 = 8 bars\n",
      "  File \"../../src/encode_data.py\", line 54, in stream2chordarr\n",
      "    score_arr = np.zeros((maxTimeStep, len(s.parts), NOTE_SIZE))\n",
      "MemoryError\n",
      "\n",
      "npenc exceeds max 481 duration: 486 data/midi/v16/midi_sources/lmd_clean/Depeche Mode/Fly on the Windscreen (Final).mid\n",
      "npenc exceeds max 481 duration: 484 data/midi/v16/midi_sources/lmd_clean/Darude/Feel the Beat.mid\n",
      "npenc exceeds max 481 duration: 486 data/midi/v16/midi_sources/lmd_clean/Daniele/Tutta 'nata storia.mid\n",
      "Error parsing midi data/midi/v16/midi_sources/lmd_clean/Wonder Stevie/Sir Duke.1.mid ord() expected string of length 1, but int found\n",
      "Error parsing midi data/midi/v16/midi_sources/lmd_clean/Rednex/The Ultimate Rednex Mega Mix, Part 3: Cotton Eye Joe.mid ord() expected string of length 1, but int found\n",
      "Error parsing midi data/midi/v16/midi_sources/lmd_clean/Jackson Michael/The Girl Is Mine.mid ord() expected string of length 1, but int found\n",
      "Error parsing midi data/midi/v16/midi_sources/lmd_clean/Jackson Michael/Thriller.3.mid ord() expected string of length 1, but int found\n",
      "Error parsing midi data/midi/v16/midi_sources/lmd_clean/Jackson Michael/The Girl Is Mine.3.mid ord() expected string of length 1, but int found\n",
      "Error parsing midi data/midi/v16/midi_sources/lmd_clean/Jackson Michael/Don't Stop 'Til You Get Enough.mid ord() expected string of length 1, but int found\n",
      "Error parsing midi data/midi/v16/midi_sources/lmd_clean/Los Del Rio/Macarena.1.mid ord() expected string of length 1, but int found\n",
      "Error parsing midi data/midi/v16/midi_sources/lmd_clean/Pink Floyd/High Hopes.2.mid ord() expected string of length 1, but int found\n",
      "Error parsing midi data/midi/v16/midi_sources/lmd_clean/Pink Floyd/Hey You.mid ord() expected string of length 1, but int found\n",
      "Error parsing midi data/midi/v16/midi_sources/lmd_clean/Eric Clapton/Tears in Heaven.7.mid ord() expected string of length 1, but int found\n",
      "npenc exceeds max 481 duration: 489 data/midi/v16/midi_sources/lmd_clean/Jovanotti/Penso Positivo.mid\n",
      "Error parsing midi data/midi/v16/midi_sources/lmd_clean/Supertramp/Bloody Well Right.mid ord() expected string of length 1, but int found\n",
      "Error parsing midi data/midi/v16/midi_sources/lmd_clean/Bee Gees/Too Much Heaven.mid ord() expected string of length 1, but int found\n",
      "Error parsing midi data/midi/v16/midi_sources/lmd_clean/Bee Gees/Stayin Alive.3.mid ord() expected string of length 1, but int found\n",
      "Error parsing midi data/midi/v16/midi_sources/130k_reddit/E/E/empshort.mid cannot handle midi file format: <built-in function format>\n",
      "Error parsing midi data/midi/v16/midi_sources/130k_reddit/E/E/executor.mid cannot handle midi file format: <built-in function format>\n",
      "Error parsing midi data/midi/v16/midi_sources/130k_reddit/P/P/possible.mid cannot handle midi file format: <built-in function format>\n",
      "npenc exceeds max 481 duration: 486 data/midi/v16/midi_sources/130k_reddit/P/P/PAPA.MID\n",
      "Error parsing midi data/midi/v16/midi_sources/130k_reddit/P/P/prgybess.mid ord() expected string of length 1, but int found\n",
      "npenc exceeds max 481 duration: 489 data/midi/v16/midi_sources/130k_reddit/N/N/New-Age-Demo-3.mid\n",
      "npenc exceeds max 481 duration: 489 data/midi/v16/midi_sources/130k_reddit/N/N/New-Age-Demo-2.mid\n",
      "Error parsing midi data/midi/v16/midi_sources/130k_reddit/B/B/battle1.mid cannot handle midi file format: <built-in function format>\n",
      "npenc exceeds max 481 duration: 491 data/midi/v16/midi_sources/130k_reddit/B/B/bat.mid\n",
      "Error parsing midi data/midi/v16/midi_sources/130k_reddit/B/B/boss3.mid cannot handle midi file format: <built-in function format>\n",
      "npenc exceeds max 481 duration: 488 data/midi/v16/midi_sources/130k_reddit/B/B/bigsky.mid\n",
      "Error parsing midi data/midi/v16/midi_sources/130k_reddit/B/B/boythorn.mid cannot handle midi file format: <built-in function format>\n",
      "Error parsing midi data/midi/v16/midi_sources/130k_reddit/L/L/lady_gaga-applause_version_2.mid ord() expected string of length 1, but int found\n",
      "Error parsing midi data/midi/v16/midi_sources/130k_reddit/M/M/MILES.Children.mid ord() expected string of length 1, but int found\n",
      "Error parsing midi data/midi/v16/midi_sources/130k_reddit/M/M/mygraduation2.mid ord() expected string of length 1, but int found\n",
      "Error parsing midi data/midi/v16/midi_sources/130k_reddit/M/M/media.mid cannot handle midi file format: <built-in function format>\n",
      "Error parsing midi data/midi/v16/midi_sources/130k_reddit/M/M/MIDIEC_1.MID ord() expected string of length 1, but int found\n",
      "Error parsing midi data/midi/v16/midi_sources/130k_reddit/J/J/jabba2.mid cannot handle midi file format: <built-in function format>\n",
      "Error parsing midi data/midi/v16/midi_sources/130k_reddit/F/F/ffmqbatl.mid cannot handle ticks per frame: 77\n",
      "Error parsing midi data/midi/v16/midi_sources/130k_reddit/F/F/for_you_blue.mid ord() expected string of length 1, but int found\n",
      "Error parsing midi data/midi/v16/midi_sources/130k_reddit/F/F/Fight6.mid cannot handle midi file format: <built-in function format>\n",
      "npenc exceeds max 481 duration: 483 data/midi/v16/midi_sources/130k_reddit/Metal_Rock_wolverine-metalmidi.wen.ru_MIDIRip/Darkthrone/Darkthrone - Earth's Last Picture.mid\n",
      "Error parsing midi data/midi/v16/midi_sources/130k_reddit/F/F/fight.mid cannot handle midi file format: <built-in function format>\n",
      "npenc exceeds max 481 duration: 486 data/midi/v16/midi_sources/130k_reddit/Metal_Rock_rock.freemidis.net_MIDIRip/midi/n/nine_inch_nails/A_Warm_Place_2.MID\n",
      "Timeout: 500 midi_sources/from_mxl/musescore/data/802731.mid\n",
      "Error parsing midi data/midi/v16/midi_sources/130k_reddit/Classical Archives - The Greats (MIDI)/Classical Piano Midis/Varios - Título desconocido/i_o/mywind3.mid cannot handle midi file format: <built-in function format>\n",
      "Error parsing midi data/midi/v16/midi_sources/130k_reddit/Classical Archives - The Greats (MIDI)/Classical Piano Midis/Varios - Título desconocido/a_h/brand_3.mid ord() expected string of length 1, but int found\n",
      "Error parsing midi data/midi/v16/midi_sources/130k_reddit/Classical_Guitar_classicalguitarmidi.com_MIDIRip/Pernambuco_Brasileirinho.mid ord() expected string of length 1, but int found\n",
      "Error parsing midi data/midi/v16/midi_sources/130k_reddit/C/C/cantina13.mid ord() expected string of length 1, but int found\n",
      "Error parsing midi data/midi/v16/midi_sources/130k_reddit/C/C/cargo.mid cannot handle midi file format: <built-in function format>\n",
      "npenc exceeds max 481 duration: 484 data/midi/v16/midi_sources/130k_reddit/C/C/conga03.mid\n",
      "Error parsing midi data/midi/v16/midi_sources/130k_reddit/C/C/chuyen_doa_quynh_huong.mid ord() expected string of length 1, but int found\n",
      "npenc exceeds max 481 duration: 486 data/midi/v16/midi_sources/130k_reddit/C/C/coldplay-violet_hill.mid\n",
      "Error parsing midi data/midi/v16/midi_sources/130k_reddit/C/C/closcred.mid cannot handle midi file format: <built-in function format>\n",
      "Error parsing midi data/midi/v16/midi_sources/130k_reddit/C/C/crixmus.mid cannot handle midi file format: <built-in function format>\n",
      "Error parsing midi data/midi/v16/midi_sources/130k_reddit/C/C/closcred2.mid cannot handle midi file format: <built-in function format>\n"
     ]
    },
    {
     "name": "stdout",
     "output_type": "stream",
     "text": [
      "Error parsing midi data/midi/v16/midi_sources/130k_reddit/C/C/cloak.mid cannot handle midi file format: <built-in function format>\n",
      "Error parsing midi data/midi/v16/midi_sources/130k_reddit/A/A/animals-house_of_the_rising_sun.mid ord() expected string of length 1, but int found\n",
      "Error parsing midi data/midi/v16/midi_sources/130k_reddit/A/A/always04.mid ord() expected string of length 1, but int found\n",
      "Error parsing midi data/midi/v16/midi_sources/130k_reddit/V/V/Voivod-'Nothingface'.mid ord() expected string of length 1, but int found\n",
      "Error parsing midi data/midi/v16/midi_sources/130k_reddit/D/D/Dark_Forces.mid cannot handle midi file format: <built-in function format>\n",
      "Error parsing midi data/midi/v16/midi_sources/130k_reddit/D/D/dfdemo.mid cannot handle midi file format: <built-in function format>\n",
      "npenc exceeds max 481 duration: 484 data/midi/v16/midi_sources/130k_reddit/D/D/darude.mid\n",
      "Error parsing midi data/midi/v16/midi_sources/130k_reddit/D/D/DION.Move any mountain.mid ord() expected string of length 1, but int found\n",
      "Error parsing midi data/midi/v16/midi_sources/130k_reddit/G/G/gromas.mid cannot handle midi file format: <built-in function format>\n",
      "Could not encode to chordarr: data/midi/v16/midi_sources/130k_reddit/I/I/i_ran.mid \n",
      "Traceback (most recent call last):\n",
      "  File \"<ipython-input-12-7c0f0b3bce8b>\", line 19, in transform_midi\n",
      "    chordarr = stream2chordarr(stream) # 2. max_dur = quarter_len * sample_freq (4). 128 = 8 bars\n",
      "  File \"../../src/encode_data.py\", line 54, in stream2chordarr\n",
      "    score_arr = np.zeros((maxTimeStep, len(s.parts), NOTE_SIZE))\n",
      "MemoryError\n",
      "\n",
      "Error parsing midi data/midi/v16/midi_sources/130k_reddit/I/I/icantcry.mid ord() expected string of length 1, but int found\n",
      "npenc exceeds max 481 duration: 488 data/midi/v16/midi_sources/130k_reddit/I/I/ihtta.mid\n",
      "Error parsing midi data/midi/v16/midi_sources/130k_reddit/S/S/strke254.mid ord() expected string of length 1, but int found\n",
      "Error parsing midi data/midi/v16/midi_sources/130k_reddit/S/S/Stately.mid cannot handle midi file format: <built-in function format>\n",
      "npenc exceeds max 481 duration: 489 data/midi/v16/midi_sources/130k_reddit/S/S/See-Low-(Or-Something-Like-That).mid\n",
      "Error parsing midi data/midi/v16/midi_sources/130k_reddit/S/S/sw2.mid cannot handle midi file format: <built-in function format>\n",
      "Error parsing midi data/midi/v16/midi_sources/130k_reddit/S/S/songwhiteshade.mid ord() expected string of length 1, but int found\n",
      "Error parsing midi data/midi/v16/midi_sources/130k_reddit/S/S/starwarsmedley.mid cannot handle midi file format: <built-in function format>\n",
      "Could not encode to chordarr: data/midi/v16/midi_sources/130k_reddit/S/S/spfc.mid \n",
      "Traceback (most recent call last):\n",
      "  File \"<ipython-input-12-7c0f0b3bce8b>\", line 19, in transform_midi\n",
      "    chordarr = stream2chordarr(stream) # 2. max_dur = quarter_len * sample_freq (4). 128 = 8 bars\n",
      "  File \"../../src/encode_data.py\", line 54, in stream2chordarr\n",
      "    score_arr = np.zeros((maxTimeStep, len(s.parts), NOTE_SIZE))\n",
      "MemoryError\n",
      "\n",
      "Error parsing midi data/midi/v16/midi_sources/130k_reddit/S/S/starwars09.mid cannot handle midi file format: <built-in function format>\n",
      "Error parsing midi data/midi/v16/midi_sources/130k_reddit/S/S/SmoothOperator2.mid ord() expected string of length 1, but int found\n",
      "Error parsing midi data/midi/v16/midi_sources/130k_reddit/W/W/WC2_13.MID ord() expected string of length 1, but int found\n",
      "Error parsing midi data/midi/v16/midi_sources/130k_reddit/W/W/whiteshade.mid ord() expected string of length 1, but int found\n",
      "Error parsing midi data/midi/v16/midi_sources/130k_reddit/T/T/tesb_impmarch_slow.mid cannot handle midi file format: <built-in function format>\n",
      "Error parsing midi data/midi/v16/midi_sources/130k_reddit/T/T/Trainpod.mid cannot handle midi file format: <built-in function format>\n",
      "Error parsing midi data/midi/v16/midi_sources/130k_reddit/T/T/tiedemo.mid cannot handle midi file format: <built-in function format>\n",
      "Could not encode to chordarr: data/midi/v16/midi_sources/130k_reddit/T/T/trippo.mid \n",
      "Traceback (most recent call last):\n",
      "  File \"<ipython-input-12-7c0f0b3bce8b>\", line 19, in transform_midi\n",
      "    chordarr = stream2chordarr(stream) # 2. max_dur = quarter_len * sample_freq (4). 128 = 8 bars\n",
      "  File \"../../src/encode_data.py\", line 54, in stream2chordarr\n",
      "    score_arr = np.zeros((maxTimeStep, len(s.parts), NOTE_SIZE))\n",
      "MemoryError\n",
      "\n",
      "Error parsing midi data/midi/v16/midi_sources/130k_reddit/T/T/tata5.mid ord() expected string of length 1, but int found\n",
      "Error parsing midi data/midi/v16/midi_sources/130k_reddit/T/T/thank_you_girl.mid ord() expected string of length 1, but int found\n",
      "Error parsing midi data/midi/v16/midi_sources/130k_reddit/R/R/Ragnarok Online - Peaceful Forest.mid ord() expected string of length 1, but int found\n",
      "npenc exceeds max 481 duration: 498 data/midi/v16/midi_sources/130k_reddit/R/R/rmiles.mid\n",
      "Timeout: 500 midi_sources/130k_reddit/D/D/dou_01.mid\n"
     ]
    },
    {
     "name": "stderr",
     "output_type": "stream",
     "text": [
      "IOPub message rate exceeded.\n",
      "The notebook server will temporarily stop sending output\n",
      "to the client in order to avoid crashing it.\n",
      "To change this limit, set the config variable\n",
      "`--NotebookApp.iopub_msg_rate_limit`.\n",
      "\n",
      "Current values:\n",
      "NotebookApp.iopub_msg_rate_limit=1000.0 (msgs/sec)\n",
      "NotebookApp.rate_limit_window=3.0 (secs)\n",
      "\n"
     ]
    }
   ],
   "source": [
    "timeout = 500\n",
    "processed = process_all(try_process_metadata, all_records, timeout=timeout, timeout_func=timeout_func)"
   ]
  },
  {
   "cell_type": "code",
   "execution_count": 17,
   "metadata": {},
   "outputs": [
    {
     "data": {
      "text/plain": [
       "196536"
      ]
     },
     "execution_count": 17,
     "metadata": {},
     "output_type": "execute_result"
    }
   ],
   "source": [
    "arr2csv(processed, out_csv); len(processed)"
   ]
  },
  {
   "cell_type": "code",
   "execution_count": 18,
   "metadata": {},
   "outputs": [
    {
     "name": "stderr",
     "output_type": "stream",
     "text": [
      "/home/ubuntu/anaconda3/envs/midi/lib/python3.7/site-packages/IPython/core/interactiveshell.py:3020: DtypeWarning: Columns (2,5,6,8,11,16) have mixed types. Specify dtype option on import or set low_memory=False.\n",
      "  interactivity=interactivity, compiler=compiler, result=result)\n"
     ]
    },
    {
     "data": {
      "text/html": [
       "<div>\n",
       "<style scoped>\n",
       "    .dataframe tbody tr th:only-of-type {\n",
       "        vertical-align: middle;\n",
       "    }\n",
       "\n",
       "    .dataframe tbody tr th {\n",
       "        vertical-align: top;\n",
       "    }\n",
       "\n",
       "    .dataframe thead th {\n",
       "        text-align: right;\n",
       "    }\n",
       "</style>\n",
       "<table border=\"1\" class=\"dataframe\">\n",
       "  <thead>\n",
       "    <tr style=\"text-align: right;\">\n",
       "      <th></th>\n",
       "      <th>genres</th>\n",
       "      <th>source</th>\n",
       "      <th>section</th>\n",
       "      <th>ht_offset</th>\n",
       "      <th>midi</th>\n",
       "      <th>mxl</th>\n",
       "      <th>song_url</th>\n",
       "      <th>ht_time_signature</th>\n",
       "      <th>midi_title</th>\n",
       "      <th>title</th>\n",
       "      <th>artist</th>\n",
       "      <th>ht_key</th>\n",
       "      <th>ht_bpm</th>\n",
       "      <th>numpy</th>\n",
       "      <th>md5</th>\n",
       "      <th>ht_mode</th>\n",
       "      <th>parts</th>\n",
       "    </tr>\n",
       "  </thead>\n",
       "  <tbody>\n",
       "    <tr>\n",
       "      <th>0</th>\n",
       "      <td>NaN</td>\n",
       "      <td>hooktheory</td>\n",
       "      <td>chorus</td>\n",
       "      <td>0.0</td>\n",
       "      <td>midi_sources/hooktheory/pianoroll/w/wayne-shar...</td>\n",
       "      <td>NaN</td>\n",
       "      <td>https://www.hooktheory.com/theorytab/view/wayn...</td>\n",
       "      <td>4.0</td>\n",
       "      <td>yu-gi-oh3</td>\n",
       "      <td>yu-gi-oh-theme-song</td>\n",
       "      <td>wayne-sharpe</td>\n",
       "      <td>C</td>\n",
       "      <td>128.0</td>\n",
       "      <td>midi_encode/hooktheory/pianoroll/w/wayne-sharp...</td>\n",
       "      <td>bf1f29e5ff84e3e93e37fb873bfb590e</td>\n",
       "      <td>1.0</td>\n",
       "      <td>intro,chorus</td>\n",
       "    </tr>\n",
       "    <tr>\n",
       "      <th>1</th>\n",
       "      <td>NaN</td>\n",
       "      <td>hooktheory</td>\n",
       "      <td>intro</td>\n",
       "      <td>0.0</td>\n",
       "      <td>midi_sources/hooktheory/pianoroll/w/wayne-shar...</td>\n",
       "      <td>NaN</td>\n",
       "      <td>https://www.hooktheory.com/theorytab/view/wayn...</td>\n",
       "      <td>3.0</td>\n",
       "      <td>yu-gi-oh</td>\n",
       "      <td>yu-gi-oh-theme-song</td>\n",
       "      <td>wayne-sharpe</td>\n",
       "      <td>C</td>\n",
       "      <td>85.0</td>\n",
       "      <td>midi_encode/hooktheory/pianoroll/w/wayne-sharp...</td>\n",
       "      <td>055f80ad67f64edb14a85ca8fbfe8c29</td>\n",
       "      <td>1.0</td>\n",
       "      <td>intro,chorus</td>\n",
       "    </tr>\n",
       "    <tr>\n",
       "      <th>2</th>\n",
       "      <td>Jazz</td>\n",
       "      <td>hooktheory</td>\n",
       "      <td>chorus</td>\n",
       "      <td>-5.0</td>\n",
       "      <td>midi_sources/hooktheory/pianoroll/w/what-a-day...</td>\n",
       "      <td>NaN</td>\n",
       "      <td>https://www.hooktheory.com/theorytab/view/what...</td>\n",
       "      <td>4.0</td>\n",
       "      <td>kiefer</td>\n",
       "      <td>kiefer</td>\n",
       "      <td>what-a-day</td>\n",
       "      <td>D</td>\n",
       "      <td>96.0</td>\n",
       "      <td>midi_encode/hooktheory/pianoroll/w/what-a-day/...</td>\n",
       "      <td>197f96f5d181f6ce1e2c5ab04ac1ff87</td>\n",
       "      <td>6.0</td>\n",
       "      <td>chorus</td>\n",
       "    </tr>\n",
       "    <tr>\n",
       "      <th>3</th>\n",
       "      <td>J-Pop,Pop</td>\n",
       "      <td>hooktheory</td>\n",
       "      <td>pre-chorus</td>\n",
       "      <td>-5.0</td>\n",
       "      <td>midi_sources/hooktheory/pianoroll/w/whiteflame...</td>\n",
       "      <td>NaN</td>\n",
       "      <td>https://www.hooktheory.com/theorytab/view/whit...</td>\n",
       "      <td>4.0</td>\n",
       "      <td>senbonzakura - pre-Pre-Chorus</td>\n",
       "      <td>senbonzakura</td>\n",
       "      <td>whiteflame</td>\n",
       "      <td>D</td>\n",
       "      <td>152.0</td>\n",
       "      <td>midi_encode/hooktheory/pianoroll/w/whiteflame/...</td>\n",
       "      <td>9e7ce13a35f1314423a9a6d5a5287a4a</td>\n",
       "      <td>6.0</td>\n",
       "      <td>verse,pre-chorus,chorus</td>\n",
       "    </tr>\n",
       "    <tr>\n",
       "      <th>4</th>\n",
       "      <td>J-Pop,Pop</td>\n",
       "      <td>hooktheory</td>\n",
       "      <td>verse</td>\n",
       "      <td>-5.0</td>\n",
       "      <td>midi_sources/hooktheory/pianoroll/w/whiteflame...</td>\n",
       "      <td>NaN</td>\n",
       "      <td>https://www.hooktheory.com/theorytab/view/whit...</td>\n",
       "      <td>4.0</td>\n",
       "      <td>Senbonzakura</td>\n",
       "      <td>senbonzakura</td>\n",
       "      <td>whiteflame</td>\n",
       "      <td>D</td>\n",
       "      <td>152.0</td>\n",
       "      <td>midi_encode/hooktheory/pianoroll/w/whiteflame/...</td>\n",
       "      <td>d5aaf79d0989222f1362f9f46c540a27</td>\n",
       "      <td>6.0</td>\n",
       "      <td>verse,pre-chorus,chorus</td>\n",
       "    </tr>\n",
       "  </tbody>\n",
       "</table>\n",
       "</div>"
      ],
      "text/plain": [
       "      genres      source     section  ht_offset  \\\n",
       "0        NaN  hooktheory      chorus        0.0   \n",
       "1        NaN  hooktheory       intro        0.0   \n",
       "2       Jazz  hooktheory      chorus       -5.0   \n",
       "3  J-Pop,Pop  hooktheory  pre-chorus       -5.0   \n",
       "4  J-Pop,Pop  hooktheory       verse       -5.0   \n",
       "\n",
       "                                                midi  mxl  \\\n",
       "0  midi_sources/hooktheory/pianoroll/w/wayne-shar...  NaN   \n",
       "1  midi_sources/hooktheory/pianoroll/w/wayne-shar...  NaN   \n",
       "2  midi_sources/hooktheory/pianoroll/w/what-a-day...  NaN   \n",
       "3  midi_sources/hooktheory/pianoroll/w/whiteflame...  NaN   \n",
       "4  midi_sources/hooktheory/pianoroll/w/whiteflame...  NaN   \n",
       "\n",
       "                                            song_url  ht_time_signature  \\\n",
       "0  https://www.hooktheory.com/theorytab/view/wayn...                4.0   \n",
       "1  https://www.hooktheory.com/theorytab/view/wayn...                3.0   \n",
       "2  https://www.hooktheory.com/theorytab/view/what...                4.0   \n",
       "3  https://www.hooktheory.com/theorytab/view/whit...                4.0   \n",
       "4  https://www.hooktheory.com/theorytab/view/whit...                4.0   \n",
       "\n",
       "                      midi_title                title        artist ht_key  \\\n",
       "0                      yu-gi-oh3  yu-gi-oh-theme-song  wayne-sharpe      C   \n",
       "1                       yu-gi-oh  yu-gi-oh-theme-song  wayne-sharpe      C   \n",
       "2                         kiefer               kiefer    what-a-day      D   \n",
       "3  senbonzakura - pre-Pre-Chorus         senbonzakura    whiteflame      D   \n",
       "4                   Senbonzakura         senbonzakura    whiteflame      D   \n",
       "\n",
       "   ht_bpm                                              numpy  \\\n",
       "0   128.0  midi_encode/hooktheory/pianoroll/w/wayne-sharp...   \n",
       "1    85.0  midi_encode/hooktheory/pianoroll/w/wayne-sharp...   \n",
       "2    96.0  midi_encode/hooktheory/pianoroll/w/what-a-day/...   \n",
       "3   152.0  midi_encode/hooktheory/pianoroll/w/whiteflame/...   \n",
       "4   152.0  midi_encode/hooktheory/pianoroll/w/whiteflame/...   \n",
       "\n",
       "                                md5  ht_mode                    parts  \n",
       "0  bf1f29e5ff84e3e93e37fb873bfb590e      1.0             intro,chorus  \n",
       "1  055f80ad67f64edb14a85ca8fbfe8c29      1.0             intro,chorus  \n",
       "2  197f96f5d181f6ce1e2c5ab04ac1ff87      6.0                   chorus  \n",
       "3  9e7ce13a35f1314423a9a6d5a5287a4a      6.0  verse,pre-chorus,chorus  \n",
       "4  d5aaf79d0989222f1362f9f46c540a27      6.0  verse,pre-chorus,chorus  "
      ]
     },
     "execution_count": 18,
     "metadata": {},
     "output_type": "execute_result"
    }
   ],
   "source": [
    "df = pd.read_csv(out_csv); df.head()"
   ]
  },
  {
   "cell_type": "code",
   "execution_count": 19,
   "metadata": {},
   "outputs": [
    {
     "data": {
      "text/plain": [
       "196536"
      ]
     },
     "execution_count": 19,
     "metadata": {},
     "output_type": "execute_result"
    }
   ],
   "source": [
    "len([s for s in df.midi.values if isinstance(s, str)])"
   ]
  },
  {
   "cell_type": "code",
   "execution_count": 20,
   "metadata": {},
   "outputs": [
    {
     "data": {
      "text/plain": [
       "164776"
      ]
     },
     "execution_count": 20,
     "metadata": {},
     "output_type": "execute_result"
    }
   ],
   "source": [
    "len([s for s in df.numpy.values if isinstance(s, str)])"
   ]
  },
  {
   "cell_type": "code",
   "execution_count": 21,
   "metadata": {},
   "outputs": [
    {
     "data": {
      "text/plain": [
       "Counter({'hooktheory': 19882,\n",
       "         'freemidi': 5167,\n",
       "         'midiworld': 4109,\n",
       "         'ecomp': 2508,\n",
       "         'cprato': 312,\n",
       "         'classical_piano': 329,\n",
       "         'classical_archives': 14642,\n",
       "         'musescore': 10935,\n",
       "         'wikifonia': 6346,\n",
       "         'lmd': 13564,\n",
       "         'reddit': 98666,\n",
       "         'hooktheory_c': 20076})"
      ]
     },
     "execution_count": 21,
     "metadata": {},
     "output_type": "execute_result"
    }
   ],
   "source": [
    "Counter(df[df.midi.notnull()].source.values)"
   ]
  },
  {
   "cell_type": "code",
   "execution_count": 22,
   "metadata": {},
   "outputs": [
    {
     "data": {
      "text/plain": [
       "Counter({'hooktheory': 19404,\n",
       "         'freemidi': 3974,\n",
       "         'midiworld': 3461,\n",
       "         'ecomp': 2508,\n",
       "         'cprato': 308,\n",
       "         'classical_piano': 329,\n",
       "         'classical_archives': 14627,\n",
       "         'musescore': 10894,\n",
       "         'wikifonia': 6195,\n",
       "         'lmd': 9175,\n",
       "         'reddit': 74339,\n",
       "         'hooktheory_c': 19562})"
      ]
     },
     "execution_count": 22,
     "metadata": {},
     "output_type": "execute_result"
    }
   ],
   "source": [
    "Counter(df[df.numpy.notnull()].source.values)"
   ]
  }
 ],
 "metadata": {
  "kernelspec": {
   "display_name": "Python 3",
   "language": "python",
   "name": "python3"
  },
  "language_info": {
   "codemirror_mode": {
    "name": "ipython",
    "version": 3
   },
   "file_extension": ".py",
   "mimetype": "text/x-python",
   "name": "python",
   "nbconvert_exporter": "python",
   "pygments_lexer": "ipython3",
   "version": "3.7.1"
  }
 },
 "nbformat": 4,
 "nbformat_minor": 2
}

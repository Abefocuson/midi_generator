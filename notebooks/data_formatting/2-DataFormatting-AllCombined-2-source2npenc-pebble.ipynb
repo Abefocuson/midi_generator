{
 "cells": [
  {
   "cell_type": "code",
   "execution_count": 1,
   "metadata": {},
   "outputs": [],
   "source": [
    "%reload_ext autoreload\n",
    "%autoreload 2\n",
    "%matplotlib inline"
   ]
  },
  {
   "cell_type": "code",
   "execution_count": 2,
   "metadata": {},
   "outputs": [],
   "source": [
    "import sys\n",
    "sys.path.insert(0, '../../')\n",
    "from src.encode_data import *\n",
    "from src.midi_data import *\n",
    "from src.data_sources import process_all, arr2csv\n",
    "from src.midi_transform import *\n",
    "from src.fastai_data import *"
   ]
  },
  {
   "cell_type": "code",
   "execution_count": 3,
   "metadata": {},
   "outputs": [],
   "source": [
    "import traceback\n",
    "import time"
   ]
  },
  {
   "cell_type": "markdown",
   "metadata": {},
   "source": [
    "## Standardize and reformat raw midi files before encoding to text\n",
    "- Transform key to C major\n",
    "- Remove unused instruments\n",
    "- Combine multiple tracks with the same instrument into a single part\n",
    "- Melody, Piano, String"
   ]
  },
  {
   "cell_type": "markdown",
   "metadata": {},
   "source": [
    "### Load midi data"
   ]
  },
  {
   "cell_type": "code",
   "execution_count": 4,
   "metadata": {},
   "outputs": [],
   "source": [
    "version = 'v15'\n",
    "data_path = Path('data/midi')\n",
    "version_path = data_path/version"
   ]
  },
  {
   "cell_type": "code",
   "execution_count": 5,
   "metadata": {},
   "outputs": [],
   "source": [
    "import pandas as pd"
   ]
  },
  {
   "cell_type": "code",
   "execution_count": 6,
   "metadata": {},
   "outputs": [],
   "source": [
    "out_dir = 'midi_encode'\n",
    "duet_only = False\n",
    "# out_dir = 'piano_duet'\n",
    "# duet_only = True"
   ]
  },
  {
   "cell_type": "code",
   "execution_count": 7,
   "metadata": {},
   "outputs": [
    {
     "data": {
      "text/plain": [
       "(PosixPath('data/midi/v15/metadata/midi_sources.csv'),\n",
       " PosixPath('data/midi/v15/midi_encode/midi_encode.csv'))"
      ]
     },
     "execution_count": 7,
     "metadata": {},
     "output_type": "execute_result"
    }
   ],
   "source": [
    "source_dir = 'midi_sources'\n",
    "source_csv = version_path/'metadata'/f'{source_dir}.csv'\n",
    "out_csv = version_path/out_dir/f'{out_dir}.csv'\n",
    "out_csv.parent.mkdir(parents=True, exist_ok=True)\n",
    "source_csv, out_csv"
   ]
  },
  {
   "cell_type": "code",
   "execution_count": 8,
   "metadata": {},
   "outputs": [],
   "source": [
    "# num_comps = 2 # note, duration\n",
    "cutoff = 5 # max instruments\n",
    "min_variation = 3 # minimum number of different midi notes played\n",
    "# max_dur = 128"
   ]
  },
  {
   "cell_type": "markdown",
   "metadata": {},
   "source": [
    "### Encoding midi to numpy"
   ]
  },
  {
   "cell_type": "code",
   "execution_count": 9,
   "metadata": {},
   "outputs": [
    {
     "name": "stderr",
     "output_type": "stream",
     "text": [
      "/home/ubuntu/anaconda3/envs/midi/lib/python3.7/site-packages/IPython/core/interactiveshell.py:3020: DtypeWarning: Columns (3,4,7,9,12,14) have mixed types. Specify dtype option on import or set low_memory=False.\n",
      "  interactivity=interactivity, compiler=compiler, result=result)\n"
     ]
    },
    {
     "data": {
      "text/html": [
       "<div>\n",
       "<style scoped>\n",
       "    .dataframe tbody tr th:only-of-type {\n",
       "        vertical-align: middle;\n",
       "    }\n",
       "\n",
       "    .dataframe tbody tr th {\n",
       "        vertical-align: top;\n",
       "    }\n",
       "\n",
       "    .dataframe thead th {\n",
       "        text-align: right;\n",
       "    }\n",
       "</style>\n",
       "<table border=\"1\" class=\"dataframe\">\n",
       "  <thead>\n",
       "    <tr style=\"text-align: right;\">\n",
       "      <th></th>\n",
       "      <th>ht_time_signature</th>\n",
       "      <th>ht_offset</th>\n",
       "      <th>midi</th>\n",
       "      <th>section</th>\n",
       "      <th>parts</th>\n",
       "      <th>ht_bpm</th>\n",
       "      <th>title</th>\n",
       "      <th>midi_title</th>\n",
       "      <th>artist</th>\n",
       "      <th>song_url</th>\n",
       "      <th>genres</th>\n",
       "      <th>source</th>\n",
       "      <th>ht_key</th>\n",
       "      <th>md5</th>\n",
       "      <th>mxl</th>\n",
       "      <th>ht_mode</th>\n",
       "    </tr>\n",
       "  </thead>\n",
       "  <tbody>\n",
       "    <tr>\n",
       "      <th>0</th>\n",
       "      <td>4.0</td>\n",
       "      <td>0.0</td>\n",
       "      <td>midi_sources/hooktheory/pianoroll/w/wayne-shar...</td>\n",
       "      <td>chorus</td>\n",
       "      <td>intro,chorus</td>\n",
       "      <td>128.0</td>\n",
       "      <td>yu-gi-oh-theme-song</td>\n",
       "      <td>yu-gi-oh3</td>\n",
       "      <td>wayne-sharpe</td>\n",
       "      <td>https://www.hooktheory.com/theorytab/view/wayn...</td>\n",
       "      <td>NaN</td>\n",
       "      <td>hooktheory</td>\n",
       "      <td>C</td>\n",
       "      <td>bf1f29e5ff84e3e93e37fb873bfb590e</td>\n",
       "      <td>NaN</td>\n",
       "      <td>1.0</td>\n",
       "    </tr>\n",
       "    <tr>\n",
       "      <th>1</th>\n",
       "      <td>3.0</td>\n",
       "      <td>0.0</td>\n",
       "      <td>midi_sources/hooktheory/pianoroll/w/wayne-shar...</td>\n",
       "      <td>intro</td>\n",
       "      <td>intro,chorus</td>\n",
       "      <td>85.0</td>\n",
       "      <td>yu-gi-oh-theme-song</td>\n",
       "      <td>yu-gi-oh</td>\n",
       "      <td>wayne-sharpe</td>\n",
       "      <td>https://www.hooktheory.com/theorytab/view/wayn...</td>\n",
       "      <td>NaN</td>\n",
       "      <td>hooktheory</td>\n",
       "      <td>C</td>\n",
       "      <td>055f80ad67f64edb14a85ca8fbfe8c29</td>\n",
       "      <td>NaN</td>\n",
       "      <td>1.0</td>\n",
       "    </tr>\n",
       "    <tr>\n",
       "      <th>2</th>\n",
       "      <td>4.0</td>\n",
       "      <td>-5.0</td>\n",
       "      <td>midi_sources/hooktheory/pianoroll/w/what-a-day...</td>\n",
       "      <td>chorus</td>\n",
       "      <td>chorus</td>\n",
       "      <td>96.0</td>\n",
       "      <td>kiefer</td>\n",
       "      <td>kiefer</td>\n",
       "      <td>what-a-day</td>\n",
       "      <td>https://www.hooktheory.com/theorytab/view/what...</td>\n",
       "      <td>Jazz</td>\n",
       "      <td>hooktheory</td>\n",
       "      <td>D</td>\n",
       "      <td>197f96f5d181f6ce1e2c5ab04ac1ff87</td>\n",
       "      <td>NaN</td>\n",
       "      <td>6.0</td>\n",
       "    </tr>\n",
       "    <tr>\n",
       "      <th>3</th>\n",
       "      <td>4.0</td>\n",
       "      <td>-5.0</td>\n",
       "      <td>midi_sources/hooktheory/pianoroll/w/whiteflame...</td>\n",
       "      <td>pre-chorus</td>\n",
       "      <td>verse,pre-chorus,chorus</td>\n",
       "      <td>152.0</td>\n",
       "      <td>senbonzakura</td>\n",
       "      <td>senbonzakura - pre-Pre-Chorus</td>\n",
       "      <td>whiteflame</td>\n",
       "      <td>https://www.hooktheory.com/theorytab/view/whit...</td>\n",
       "      <td>J-Pop,Pop</td>\n",
       "      <td>hooktheory</td>\n",
       "      <td>D</td>\n",
       "      <td>9e7ce13a35f1314423a9a6d5a5287a4a</td>\n",
       "      <td>NaN</td>\n",
       "      <td>6.0</td>\n",
       "    </tr>\n",
       "    <tr>\n",
       "      <th>4</th>\n",
       "      <td>4.0</td>\n",
       "      <td>-5.0</td>\n",
       "      <td>midi_sources/hooktheory/pianoroll/w/whiteflame...</td>\n",
       "      <td>verse</td>\n",
       "      <td>verse,pre-chorus,chorus</td>\n",
       "      <td>152.0</td>\n",
       "      <td>senbonzakura</td>\n",
       "      <td>Senbonzakura</td>\n",
       "      <td>whiteflame</td>\n",
       "      <td>https://www.hooktheory.com/theorytab/view/whit...</td>\n",
       "      <td>J-Pop,Pop</td>\n",
       "      <td>hooktheory</td>\n",
       "      <td>D</td>\n",
       "      <td>d5aaf79d0989222f1362f9f46c540a27</td>\n",
       "      <td>NaN</td>\n",
       "      <td>6.0</td>\n",
       "    </tr>\n",
       "  </tbody>\n",
       "</table>\n",
       "</div>"
      ],
      "text/plain": [
       "   ht_time_signature  ht_offset  \\\n",
       "0                4.0        0.0   \n",
       "1                3.0        0.0   \n",
       "2                4.0       -5.0   \n",
       "3                4.0       -5.0   \n",
       "4                4.0       -5.0   \n",
       "\n",
       "                                                midi     section  \\\n",
       "0  midi_sources/hooktheory/pianoroll/w/wayne-shar...      chorus   \n",
       "1  midi_sources/hooktheory/pianoroll/w/wayne-shar...       intro   \n",
       "2  midi_sources/hooktheory/pianoroll/w/what-a-day...      chorus   \n",
       "3  midi_sources/hooktheory/pianoroll/w/whiteflame...  pre-chorus   \n",
       "4  midi_sources/hooktheory/pianoroll/w/whiteflame...       verse   \n",
       "\n",
       "                     parts  ht_bpm                title  \\\n",
       "0             intro,chorus   128.0  yu-gi-oh-theme-song   \n",
       "1             intro,chorus    85.0  yu-gi-oh-theme-song   \n",
       "2                   chorus    96.0               kiefer   \n",
       "3  verse,pre-chorus,chorus   152.0         senbonzakura   \n",
       "4  verse,pre-chorus,chorus   152.0         senbonzakura   \n",
       "\n",
       "                      midi_title        artist  \\\n",
       "0                      yu-gi-oh3  wayne-sharpe   \n",
       "1                       yu-gi-oh  wayne-sharpe   \n",
       "2                         kiefer    what-a-day   \n",
       "3  senbonzakura - pre-Pre-Chorus    whiteflame   \n",
       "4                   Senbonzakura    whiteflame   \n",
       "\n",
       "                                            song_url     genres      source  \\\n",
       "0  https://www.hooktheory.com/theorytab/view/wayn...        NaN  hooktheory   \n",
       "1  https://www.hooktheory.com/theorytab/view/wayn...        NaN  hooktheory   \n",
       "2  https://www.hooktheory.com/theorytab/view/what...       Jazz  hooktheory   \n",
       "3  https://www.hooktheory.com/theorytab/view/whit...  J-Pop,Pop  hooktheory   \n",
       "4  https://www.hooktheory.com/theorytab/view/whit...  J-Pop,Pop  hooktheory   \n",
       "\n",
       "  ht_key                               md5  mxl  ht_mode  \n",
       "0      C  bf1f29e5ff84e3e93e37fb873bfb590e  NaN      1.0  \n",
       "1      C  055f80ad67f64edb14a85ca8fbfe8c29  NaN      1.0  \n",
       "2      D  197f96f5d181f6ce1e2c5ab04ac1ff87  NaN      6.0  \n",
       "3      D  9e7ce13a35f1314423a9a6d5a5287a4a  NaN      6.0  \n",
       "4      D  d5aaf79d0989222f1362f9f46c540a27  NaN      6.0  "
      ]
     },
     "execution_count": 9,
     "metadata": {},
     "output_type": "execute_result"
    }
   ],
   "source": [
    "df = pd.read_csv(source_csv); df.head()"
   ]
  },
  {
   "cell_type": "code",
   "execution_count": 10,
   "metadata": {},
   "outputs": [
    {
     "data": {
      "text/plain": [
       "197182"
      ]
     },
     "execution_count": 10,
     "metadata": {},
     "output_type": "execute_result"
    }
   ],
   "source": [
    "all_records = df.to_dict(orient='records'); len(all_records)"
   ]
  },
  {
   "cell_type": "code",
   "execution_count": 11,
   "metadata": {},
   "outputs": [],
   "source": [
    "def process_metadata(metadata):\n",
    "    result = metadata.copy()\n",
    "    \n",
    "    # Part 1. Compress tracks/instruments\n",
    "    if not isinstance(metadata.get('midi'), str): return None\n",
    "    \n",
    "    input_path = version_path/metadata['midi']\n",
    "    extension = input_path.suffix.lower()\n",
    "    if not input_path.exists(): \n",
    "        print('Input path does not exist:', input_path, metadata)\n",
    "        return result\n",
    "    \n",
    "    # Get outfile and check if it exists\n",
    "    out_file = Path(str(input_path).replace(f'/{source_dir}/', f'/{out_dir}/'))\n",
    "    out_file = out_file.with_suffix('.npy')\n",
    "    out_file.parent.mkdir(parents=True, exist_ok=True)\n",
    "    if out_file.exists(): \n",
    "        result['numpy'] = str(out_file.relative_to(version_path))\n",
    "        return result\n",
    "    \n",
    "    npenc = transform_midi(input_path)\n",
    "    if npenc is None: return result\n",
    "    np.save(out_file, npenc)\n",
    "    result['numpy'] = str(out_file.relative_to(version_path))\n",
    "    return result"
   ]
  },
  {
   "cell_type": "code",
   "execution_count": 12,
   "metadata": {},
   "outputs": [],
   "source": [
    "def transform_midi(midi_file):\n",
    "    input_path = midi_file\n",
    "    \n",
    "    if duet_only:\n",
    "        try: \n",
    "            if num_piano_tracks(input_path) not in [1, 2] : return None\n",
    "        except Exception: return None\n",
    "    \n",
    "    try: input_file = compress_midi_file(input_path, min_variation=min_variation, cutoff=cutoff) # remove non note tracks and standardize instruments\n",
    "    except Exception as e:\n",
    "        print('Error parsing midi', input_path, e)\n",
    "        return None\n",
    "    if not input_file: return None\n",
    "        \n",
    "    # Part 2. Compress rests and long notes\n",
    "    stream = file2stream(input_file) # 1.\n",
    "    try:\n",
    "        chordarr = stream2chordarr(stream, max_dur=DUR_RANGE-2, flat=False) # 2. max_dur = quarter_len * sample_freq (4). 128 = 8 bars\n",
    "    except Exception as e:\n",
    "        print('Could not encode to chordarr:', input_path, e)\n",
    "#         print(traceback.format_exc())\n",
    "        return None\n",
    "    \n",
    "    chord_trim = trim_chordarr_rests(chordarr)\n",
    "    chord_short = shorten_chordarr_rests(chord_trim)\n",
    "    delta_trim = chord_trim.shape[0] - chord_short.shape[0]\n",
    "    if delta_trim > 300: \n",
    "        print(f'Removed {delta_trim} rests from {input_path}. Skipping song')\n",
    "        return None\n",
    "    chordarr = chord_short\n",
    "    \n",
    "    # Part 3. Chord array to numpy\n",
    "    seq = chordarr2seq(chordarr)\n",
    "    if len(seq) < 32:\n",
    "        print('Sequence too short:', len(seq), input_path)\n",
    "        return None\n",
    "    \n",
    "    npenc = seq2npenc(seq)\n",
    "    if (npenc[:,1] >= DUR_RANGE).any(): \n",
    "        print(f'npenc exceeds max {DUR_RANGE} duration:', input_path)\n",
    "        return None\n",
    "    \n",
    "    # https://en.wikipedia.org/wiki/Scientific_pitch_notation - 88 key range - 21 = A0, 108 = C8\n",
    "    if ((npenc[...,0] > VALTSEP) & ((npenc[...,0] < PIANO_RANGE[0]) | (npenc[...,0] >= PIANO_RANGE[1]))).any(): \n",
    "        print('npenc out of piano note range 12 - 116:', input_path)\n",
    "        return None\n",
    "    \n",
    "    return npenc"
   ]
  },
  {
   "cell_type": "code",
   "execution_count": 13,
   "metadata": {},
   "outputs": [],
   "source": [
    "def try_process_metadata(metadata):\n",
    "    try:\n",
    "        return process_metadata(metadata)\n",
    "    except Exception:\n",
    "#         print(traceback.format_exc())\n",
    "        return None"
   ]
  },
  {
   "cell_type": "code",
   "execution_count": 14,
   "metadata": {},
   "outputs": [],
   "source": [
    "# # sanity check\n",
    "import random\n",
    "for r in random.sample(all_records, 10):\n",
    "    process_metadata(r)"
   ]
  },
  {
   "cell_type": "code",
   "execution_count": 15,
   "metadata": {},
   "outputs": [],
   "source": [
    "def timeout_func(data, seconds):\n",
    "    print(\"Timeout:\", seconds, data.get('midi'))"
   ]
  },
  {
   "cell_type": "code",
   "execution_count": null,
   "metadata": {
    "scrolled": true
   },
   "outputs": [
    {
     "name": "stdout",
     "output_type": "stream",
     "text": [
      "Sequence too short: 25 data/midi/v15/midi_sources/hooktheory/pianoroll/y/yes/heart-of-the-sunrise/intro_key_original.mid\n",
      "Sequence too short: 29 data/midi/v15/midi_sources/hooktheory/pianoroll/j/jeff-liu/steven-and-the-crystal-gems/outro_key_original.mid\n"
     ]
    },
    {
     "data": {
      "text/html": [
       "\n",
       "    <div>\n",
       "        <style>\n",
       "            /* Turns off some styling */\n",
       "            progress {\n",
       "                /* gets rid of default border in Firefox and Opera. */\n",
       "                border: none;\n",
       "                /* Needs to be in here for Safari polyfill so background images work as expected. */\n",
       "                background-size: auto;\n",
       "            }\n",
       "            .progress-bar-interrupted, .progress-bar-interrupted::-webkit-progress-bar {\n",
       "                background: #F44336;\n",
       "            }\n",
       "        </style>\n",
       "      <progress value='19989' class='' max='197182', style='width:300px; height:20px; vertical-align: middle;'></progress>\n",
       "      10.14% [19989/197182 01:04<09:33]\n",
       "    </div>\n",
       "    "
      ],
      "text/plain": [
       "<IPython.core.display.HTML object>"
      ]
     },
     "metadata": {},
     "output_type": "display_data"
    },
    {
     "name": "stdout",
     "output_type": "stream",
     "text": [
      "Sequence too short: 29 data/midi/v15/midi_sources/hooktheory/pianoroll/j/jessica-simpson/part-of-your-world/bridge_key_original.mid\n",
      "Sequence too short: 25 data/midi/v15/midi_sources/hooktheory/pianoroll/j/jamiroquai/canned-heat/intro_key_original.mid\n",
      "Sequence too short: 25 data/midi/v15/midi_sources/hooktheory/pianoroll/l/lildeucedeuce/mine-turtle/intro_key_original.mid\n",
      "Sequence too short: 29 data/midi/v15/midi_sources/hooktheory/pianoroll/v/vertical-horizon/im-still-here/chorus-lead-out_key_original.mid\n",
      "Sequence too short: 17 data/midi/v15/midi_sources/hooktheory/pianoroll/f/frankie-valli/the-night/intro_key_original.mid\n",
      "Sequence too short: 21 data/midi/v15/midi_sources/hooktheory/pianoroll/d/david-bowie/starman/pre-chorus_key_original.mid\n",
      "Sequence too short: 25 data/midi/v15/midi_sources/hooktheory/pianoroll/n/nobuo-uematsu/final-fantasy-vii---victory-fanfare/intro_key_original.mid\n",
      "Sequence too short: 25 data/midi/v15/midi_sources/hooktheory/pianoroll/n/nobuo-uematsu/final-fantasy-vi---dancing-mad-part-3/bridge_key_original.mid\n",
      "Sequence too short: 29 data/midi/v15/midi_sources/hooktheory/pianoroll/n/neru/law-evading-rock/chorus-lead-out_key_original.mid\n",
      "Sequence too short: 17 data/midi/v15/midi_sources/hooktheory/pianoroll/h/hiveswap/half-harley-manor/chorus-lead-out_key_original.mid\n",
      "Sequence too short: 17 data/midi/v15/midi_sources/hooktheory/pianoroll/h/homestuck/english/solo_key_original.mid\n",
      "Sequence too short: 29 data/midi/v15/midi_sources/hooktheory/pianoroll/h/homestuck/lotus/chorus-lead-out_key_original.mid\n",
      "Sequence too short: 15 data/midi/v15/midi_sources/hooktheory/pianoroll/t/this-town-needs-guns/gibbon/intro_key_original.mid\n",
      "Sequence too short: 5 data/midi/v15/midi_sources/hooktheory/pianoroll/t/the-beatles/a-hard-days-night/intro_key_original.mid\n",
      "Sequence too short: 5 data/midi/v15/midi_sources/hooktheory/pianoroll/t/the-beatles/a-hard-days-night/intro-and-verse_key_original.mid\n",
      "Sequence too short: 17 data/midi/v15/midi_sources/hooktheory/pianoroll/t/they-might-be-giants/everything-right-is-wrong-again/chorus-lead-out_key_original.mid\n",
      "Sequence too short: 27 data/midi/v15/midi_sources/hooktheory/pianoroll/k/koji-kondo/kaepora-gaebora/intro_key_original.mid\n",
      "Sequence too short: 17 data/midi/v15/midi_sources/hooktheory/pianoroll/k/koji-kondo/super-mario-world---athletic/intro_key_original.mid\n",
      "Sequence too short: 31 data/midi/v15/midi_sources/hooktheory/pianoroll/k/koji-kondo/athletic-bgm-super-mario-bros-3/intro_key_original.mid\n",
      "Sequence too short: 25 data/midi/v15/midi_sources/hooktheory/pianoroll/k/koji-kondo/link-to-the-past---minigame-theme/intro_key_original.mid\n",
      "Sequence too short: 21 data/midi/v15/midi_sources/hooktheory/pianoroll/k/koji-kondo/super-mario-bros-3---hammer-bros-battle-theme/intro_key_original.mid\n",
      "Sequence too short: 17 data/midi/v15/midi_sources/hooktheory/pianoroll/m/men-at-work/land-down-under/intro_key_original.mid\n",
      "Sequence too short: 21 data/midi/v15/midi_sources/hooktheory/pianoroll/m/microsoft/windows-xp-startup-sound/instrumental_key_original.mid\n",
      "Error parsing midi data/midi/v15/midi_sources/freemidi/genre-dance-eletric/Gloria Estefan - I'm Not Givin' You Up.mid badly formated midi bytes, got: b'RIFFB\\x8c\\x00\\x00RMIDdata~\\x8b\\x00\\x00'\n",
      "Error parsing midi data/midi/v15/midi_sources/freemidi/genre-dance-eletric/Atomic Kitten - Whole Again.mid badly formated midi bytes, got: b'RIFF\\x08K\\x00\\x00RMIDdata{J\\x00\\x00'\n",
      "Error parsing midi data/midi/v15/midi_sources/freemidi/genre-dance-eletric/Tatu - Ya Tvoy Vrag (I'm Your Enemy).mid badly formated midi bytes, got: b'RIFF,\\xa3\\x00\\x00RMIDdata\\xc6\\xa2\\x00\\x00'\n",
      "Error parsing midi data/midi/v15/midi_sources/freemidi/genre-dance-eletric/Apollo 440 - Lost In Space.mid index out of range\n",
      "Error parsing midi data/midi/v15/midi_sources/freemidi/genre-dance-eletric/Gloria Estefan - Get On Your Feet.mid badly formated midi bytes, got: b'RIFF\\x92\\xa8\\x01\\x00RMIDdata\\xd8\\xa7\\x01\\x00'\n",
      "Removed 512 rests from data/midi/v15/midi_sources/freemidi/genre-dance-eletric/Depeche Mode - Control Freak.mid. Skipping song\n",
      "Removed 544 rests from data/midi/v15/midi_sources/freemidi/genre-dance-eletric/Ciara - Goodies.mid. Skipping song\n",
      "Removed 456 rests from data/midi/v15/midi_sources/freemidi/genre-dance-eletric/New Order - Blue Monday.mid. Skipping song\n",
      "Removed 484 rests from data/midi/v15/midi_sources/freemidi/genre-dance-eletric/Garbage - #1 Crush.mid. Skipping song\n",
      "npenc exceeds max 130 duration: data/midi/v15/midi_sources/freemidi/genre-dance-eletric/Fatboy Slim - Praise You.mid\n",
      "Error parsing midi data/midi/v15/midi_sources/freemidi/genre-dance-eletric/Gloria Estefan - Mi Tierra.mid badly formated midi bytes, got: b'RIFFz\\r\\x01\\x00RMIDdata\\xce\\x0c\\x01\\x00'\n",
      "Removed 484 rests from data/midi/v15/midi_sources/freemidi/genre-dance-eletric/Scooter - Hyper Hyper.mid. Skipping song\n",
      "Error parsing midi data/midi/v15/midi_sources/freemidi/genre-dance-eletric/Whitney Houston - If I Told You That.mid badly formated midi bytes, got: b'error with file'\n",
      "Error parsing midi data/midi/v15/midi_sources/freemidi/genre-dance-eletric/Gloria Estefan - Coming Out of The Dark.mid badly formated midi bytes, got: b'RIFF\\xca)\\x00\\x00RMIDdata\\x03)\\x00\\x00'\n",
      "Error parsing midi data/midi/v15/midi_sources/freemidi/genre-dance-eletric/Enigma - Sadness.mid badly formed midi string: missing leading MTrk\n",
      "Error parsing midi data/midi/v15/midi_sources/freemidi/genre-dance-eletric/Tatu - Ne Ver Ne Boysia.mid badly formated midi bytes, got: b'RIFF\\xa8\\xbd\\x00\\x00RMIDdata\\x13\\xbd\\x00\\x00'\n",
      "npenc exceeds max 130 duration: data/midi/v15/midi_sources/freemidi/genre-dance-eletric/Army of Lovers - Obsession.mid\n",
      "Error parsing midi data/midi/v15/midi_sources/freemidi/genre-dance-eletric/Whitney Houston - I Believe In You And Me.mid badly formed midi string: missing leading MTrk\n",
      "Removed 448 rests from data/midi/v15/midi_sources/freemidi/genre-dance-eletric/Prodigy - You Love.mid. Skipping song\n",
      "Removed 1056 rests from data/midi/v15/midi_sources/freemidi/genre-dance-eletric/New Order - Perfect Kiss.mid. Skipping song\n",
      "Removed 416 rests from data/midi/v15/midi_sources/freemidi/genre-dance-eletric/New Order - Bizarre Love Triangle.mid. Skipping song\n",
      "Error parsing midi data/midi/v15/midi_sources/freemidi/genre-dance-eletric/Craig David - Walking Away.mid badly formated midi bytes, got: b'RIFF\\xca\\xcf\\x01\\x00RMIDdata\\x1d\\xcf\\x01\\x00'\n",
      "Error parsing midi data/midi/v15/midi_sources/freemidi/genre-dance-eletric/Gwen Stefani - Early Winter.mid badly formated midi bytes, got: b'<br />\\n<b>Warning</b'\n",
      "Removed 404 rests from data/midi/v15/midi_sources/freemidi/genre-dance-eletric/Eiffel 65 - Another Race.mid. Skipping song\n",
      "Removed 464 rests from data/midi/v15/midi_sources/freemidi/genre-dance-eletric/2 Unlimited - Real Thing.mid. Skipping song\n",
      "Sequence too short: 0 data/midi/v15/midi_sources/freemidi/genre-dance-eletric/Daft Punk - Aerodynamic.mid\n",
      "Error parsing midi data/midi/v15/midi_sources/freemidi/genre-dance-eletric/Gloria Estefan - Anything For You.mid badly formated midi bytes, got: b'RIFF\\x00)\\x00\\x00RMIDdataE(\\x00\\x00'\n",
      "Removed 432 rests from data/midi/v15/midi_sources/freemidi/genre-dance-eletric/DJ Bobo - Shadows Of The Night.mid. Skipping song\n",
      "Error parsing midi data/midi/v15/midi_sources/freemidi/genre-dance-eletric/Gloria Estefan - Breaking Up Is Hard To Do.mid badly formated midi bytes, got: b'RIFF\\x10N\\x00\\x00RMIDdataDM\\x00\\x00'\n",
      "Error parsing midi data/midi/v15/midi_sources/freemidi/genre-dance-eletric/Whitney Houston - It's Not Right, But It's Ok.mid badly formed midi string: missing leading MTrk\n",
      "Removed 436 rests from data/midi/v15/midi_sources/freemidi/genre-dance-eletric/Fatboy Slim - Rockafella Skank.mid. Skipping song\n",
      "Sequence too short: 17 data/midi/v15/midi_sources/freemidi/genre-dance-eletric/Daft Punk - Derezzed.mid\n",
      "Error parsing midi data/midi/v15/midi_sources/freemidi/genre-dance-eletric/Donna Summer - Hot Stuff.mid index out of range\n",
      "Removed 1232 rests from data/midi/v15/midi_sources/freemidi/genre-dance-eletric/Antiloop - This Is The Night.mid. Skipping song\n",
      "Removed 368 rests from data/midi/v15/midi_sources/freemidi/genre-dance-eletric/Prodigy - Breathe.mid. Skipping song\n",
      "Removed 388 rests from data/midi/v15/midi_sources/freemidi/genre-dance-eletric/Real McCoy - Its On You.mid. Skipping song\n"
     ]
    },
    {
     "name": "stdout",
     "output_type": "stream",
     "text": [
      "Error parsing midi data/midi/v15/midi_sources/freemidi/genre-dance-eletric/Modern Talking - Megamix 2000.mid badly formated midi bytes, got: b'RIFFp\\x91\\x02\\x00RMIDdata\\xd1\\x90\\x02\\x00'\n"
     ]
    }
   ],
   "source": [
    "processed = process_all(try_process_metadata, all_records, timeout=300, timeout_func=timeout_func)"
   ]
  },
  {
   "cell_type": "code",
   "execution_count": null,
   "metadata": {},
   "outputs": [],
   "source": [
    "arr2csv(processed, out_csv); len(processed)"
   ]
  },
  {
   "cell_type": "code",
   "execution_count": null,
   "metadata": {},
   "outputs": [],
   "source": [
    "df = pd.read_csv(out_csv); df.head()"
   ]
  },
  {
   "cell_type": "code",
   "execution_count": null,
   "metadata": {},
   "outputs": [],
   "source": []
  }
 ],
 "metadata": {
  "kernelspec": {
   "display_name": "Python 3",
   "language": "python",
   "name": "python3"
  },
  "language_info": {
   "codemirror_mode": {
    "name": "ipython",
    "version": 3
   },
   "file_extension": ".py",
   "mimetype": "text/x-python",
   "name": "python",
   "nbconvert_exporter": "python",
   "pygments_lexer": "ipython3",
   "version": "3.7.1"
  }
 },
 "nbformat": 4,
 "nbformat_minor": 2
}

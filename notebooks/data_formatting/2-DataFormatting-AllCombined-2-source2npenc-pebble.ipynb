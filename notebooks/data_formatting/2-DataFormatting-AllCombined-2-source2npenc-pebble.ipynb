{
 "cells": [
  {
   "cell_type": "code",
   "execution_count": 1,
   "metadata": {},
   "outputs": [],
   "source": [
    "%reload_ext autoreload\n",
    "%autoreload 2\n",
    "%matplotlib inline"
   ]
  },
  {
   "cell_type": "code",
   "execution_count": 2,
   "metadata": {},
   "outputs": [],
   "source": [
    "import sys\n",
    "sys.path.insert(0, '../../')\n",
    "from src.encode_data import *\n",
    "from src.midi_data import *\n",
    "from src.data_sources import process_all, arr2csv\n",
    "from src.midi_transform import *"
   ]
  },
  {
   "cell_type": "code",
   "execution_count": 3,
   "metadata": {},
   "outputs": [],
   "source": [
    "import traceback\n",
    "import time"
   ]
  },
  {
   "cell_type": "markdown",
   "metadata": {},
   "source": [
    "## Standardize and reformat raw midi files before encoding to text\n",
    "- Transform key to C major\n",
    "- Remove unused instruments\n",
    "- Combine multiple tracks with the same instrument into a single part\n",
    "- Melody, Piano, String"
   ]
  },
  {
   "cell_type": "markdown",
   "metadata": {},
   "source": [
    "### Load midi data"
   ]
  },
  {
   "cell_type": "code",
   "execution_count": 4,
   "metadata": {},
   "outputs": [],
   "source": [
    "version = 'v14'\n",
    "data_path = Path('data/midi')\n",
    "version_path = data_path/version"
   ]
  },
  {
   "cell_type": "code",
   "execution_count": 5,
   "metadata": {},
   "outputs": [],
   "source": [
    "import pandas as pd"
   ]
  },
  {
   "cell_type": "code",
   "execution_count": 6,
   "metadata": {},
   "outputs": [
    {
     "data": {
      "text/plain": [
       "(PosixPath('data/midi/v14/metadata/midi_sources.csv'),\n",
       " PosixPath('data/midi/v14/midi_encode/midi_encode.csv'))"
      ]
     },
     "execution_count": 6,
     "metadata": {},
     "output_type": "execute_result"
    }
   ],
   "source": [
    "source_dir = 'midi_sources'\n",
    "out_dir = 'midi_encode'\n",
    "source_csv = version_path/'metadata'/f'{source_dir}.csv'\n",
    "out_csv = version_path/out_dir/f'{out_dir}.csv'\n",
    "out_csv.parent.mkdir(parents=True, exist_ok=True)\n",
    "source_csv, out_csv"
   ]
  },
  {
   "cell_type": "code",
   "execution_count": 7,
   "metadata": {},
   "outputs": [],
   "source": [
    "num_comps = 2 # note, duration\n",
    "cutoff = 6 # max instruments\n",
    "max_dur = 128"
   ]
  },
  {
   "cell_type": "markdown",
   "metadata": {},
   "source": [
    "### Encoding midi to numpy"
   ]
  },
  {
   "cell_type": "code",
   "execution_count": 8,
   "metadata": {},
   "outputs": [
    {
     "name": "stderr",
     "output_type": "stream",
     "text": [
      "/home/ubuntu/anaconda3/envs/midi/lib/python3.7/site-packages/IPython/core/interactiveshell.py:3020: DtypeWarning: Columns (0,5,6,10,14,15) have mixed types. Specify dtype option on import or set low_memory=False.\n",
      "  interactivity=interactivity, compiler=compiler, result=result)\n"
     ]
    },
    {
     "data": {
      "text/html": [
       "<div>\n",
       "<style scoped>\n",
       "    .dataframe tbody tr th:only-of-type {\n",
       "        vertical-align: middle;\n",
       "    }\n",
       "\n",
       "    .dataframe tbody tr th {\n",
       "        vertical-align: top;\n",
       "    }\n",
       "\n",
       "    .dataframe thead th {\n",
       "        text-align: right;\n",
       "    }\n",
       "</style>\n",
       "<table border=\"1\" class=\"dataframe\">\n",
       "  <thead>\n",
       "    <tr style=\"text-align: right;\">\n",
       "      <th></th>\n",
       "      <th>parts</th>\n",
       "      <th>title</th>\n",
       "      <th>ht_time_signature</th>\n",
       "      <th>midi</th>\n",
       "      <th>md5</th>\n",
       "      <th>section</th>\n",
       "      <th>ht_key</th>\n",
       "      <th>genres</th>\n",
       "      <th>artist</th>\n",
       "      <th>source</th>\n",
       "      <th>midi_title</th>\n",
       "      <th>ht_mode</th>\n",
       "      <th>ht_bpm</th>\n",
       "      <th>ht_offset</th>\n",
       "      <th>mxl</th>\n",
       "      <th>song_url</th>\n",
       "    </tr>\n",
       "  </thead>\n",
       "  <tbody>\n",
       "    <tr>\n",
       "      <th>0</th>\n",
       "      <td>intro,chorus</td>\n",
       "      <td>yu-gi-oh-theme-song</td>\n",
       "      <td>4.0</td>\n",
       "      <td>midi_sources/hooktheory/pianoroll/w/wayne-shar...</td>\n",
       "      <td>bf1f29e5ff84e3e93e37fb873bfb590e</td>\n",
       "      <td>chorus</td>\n",
       "      <td>C</td>\n",
       "      <td>NaN</td>\n",
       "      <td>wayne-sharpe</td>\n",
       "      <td>hooktheory</td>\n",
       "      <td>yu-gi-oh3</td>\n",
       "      <td>1.0</td>\n",
       "      <td>128.0</td>\n",
       "      <td>0.0</td>\n",
       "      <td>NaN</td>\n",
       "      <td>https://www.hooktheory.com/theorytab/view/wayn...</td>\n",
       "    </tr>\n",
       "    <tr>\n",
       "      <th>1</th>\n",
       "      <td>intro,chorus</td>\n",
       "      <td>yu-gi-oh-theme-song</td>\n",
       "      <td>3.0</td>\n",
       "      <td>midi_sources/hooktheory/pianoroll/w/wayne-shar...</td>\n",
       "      <td>055f80ad67f64edb14a85ca8fbfe8c29</td>\n",
       "      <td>intro</td>\n",
       "      <td>C</td>\n",
       "      <td>NaN</td>\n",
       "      <td>wayne-sharpe</td>\n",
       "      <td>hooktheory</td>\n",
       "      <td>yu-gi-oh</td>\n",
       "      <td>1.0</td>\n",
       "      <td>85.0</td>\n",
       "      <td>0.0</td>\n",
       "      <td>NaN</td>\n",
       "      <td>https://www.hooktheory.com/theorytab/view/wayn...</td>\n",
       "    </tr>\n",
       "    <tr>\n",
       "      <th>2</th>\n",
       "      <td>chorus</td>\n",
       "      <td>kiefer</td>\n",
       "      <td>4.0</td>\n",
       "      <td>midi_sources/hooktheory/pianoroll/w/what-a-day...</td>\n",
       "      <td>197f96f5d181f6ce1e2c5ab04ac1ff87</td>\n",
       "      <td>chorus</td>\n",
       "      <td>D</td>\n",
       "      <td>Jazz</td>\n",
       "      <td>what-a-day</td>\n",
       "      <td>hooktheory</td>\n",
       "      <td>kiefer</td>\n",
       "      <td>6.0</td>\n",
       "      <td>96.0</td>\n",
       "      <td>-5.0</td>\n",
       "      <td>NaN</td>\n",
       "      <td>https://www.hooktheory.com/theorytab/view/what...</td>\n",
       "    </tr>\n",
       "    <tr>\n",
       "      <th>3</th>\n",
       "      <td>verse,pre-chorus,chorus</td>\n",
       "      <td>senbonzakura</td>\n",
       "      <td>4.0</td>\n",
       "      <td>midi_sources/hooktheory/pianoroll/w/whiteflame...</td>\n",
       "      <td>9e7ce13a35f1314423a9a6d5a5287a4a</td>\n",
       "      <td>pre-chorus</td>\n",
       "      <td>D</td>\n",
       "      <td>J-Pop,Pop</td>\n",
       "      <td>whiteflame</td>\n",
       "      <td>hooktheory</td>\n",
       "      <td>senbonzakura - pre-Pre-Chorus</td>\n",
       "      <td>6.0</td>\n",
       "      <td>152.0</td>\n",
       "      <td>-5.0</td>\n",
       "      <td>NaN</td>\n",
       "      <td>https://www.hooktheory.com/theorytab/view/whit...</td>\n",
       "    </tr>\n",
       "    <tr>\n",
       "      <th>4</th>\n",
       "      <td>verse,pre-chorus,chorus</td>\n",
       "      <td>senbonzakura</td>\n",
       "      <td>4.0</td>\n",
       "      <td>midi_sources/hooktheory/pianoroll/w/whiteflame...</td>\n",
       "      <td>d5aaf79d0989222f1362f9f46c540a27</td>\n",
       "      <td>verse</td>\n",
       "      <td>D</td>\n",
       "      <td>J-Pop,Pop</td>\n",
       "      <td>whiteflame</td>\n",
       "      <td>hooktheory</td>\n",
       "      <td>Senbonzakura</td>\n",
       "      <td>6.0</td>\n",
       "      <td>152.0</td>\n",
       "      <td>-5.0</td>\n",
       "      <td>NaN</td>\n",
       "      <td>https://www.hooktheory.com/theorytab/view/whit...</td>\n",
       "    </tr>\n",
       "  </tbody>\n",
       "</table>\n",
       "</div>"
      ],
      "text/plain": [
       "                     parts                title  ht_time_signature  \\\n",
       "0             intro,chorus  yu-gi-oh-theme-song                4.0   \n",
       "1             intro,chorus  yu-gi-oh-theme-song                3.0   \n",
       "2                   chorus               kiefer                4.0   \n",
       "3  verse,pre-chorus,chorus         senbonzakura                4.0   \n",
       "4  verse,pre-chorus,chorus         senbonzakura                4.0   \n",
       "\n",
       "                                                midi  \\\n",
       "0  midi_sources/hooktheory/pianoroll/w/wayne-shar...   \n",
       "1  midi_sources/hooktheory/pianoroll/w/wayne-shar...   \n",
       "2  midi_sources/hooktheory/pianoroll/w/what-a-day...   \n",
       "3  midi_sources/hooktheory/pianoroll/w/whiteflame...   \n",
       "4  midi_sources/hooktheory/pianoroll/w/whiteflame...   \n",
       "\n",
       "                                md5     section ht_key     genres  \\\n",
       "0  bf1f29e5ff84e3e93e37fb873bfb590e      chorus      C        NaN   \n",
       "1  055f80ad67f64edb14a85ca8fbfe8c29       intro      C        NaN   \n",
       "2  197f96f5d181f6ce1e2c5ab04ac1ff87      chorus      D       Jazz   \n",
       "3  9e7ce13a35f1314423a9a6d5a5287a4a  pre-chorus      D  J-Pop,Pop   \n",
       "4  d5aaf79d0989222f1362f9f46c540a27       verse      D  J-Pop,Pop   \n",
       "\n",
       "         artist      source                     midi_title  ht_mode  ht_bpm  \\\n",
       "0  wayne-sharpe  hooktheory                      yu-gi-oh3      1.0   128.0   \n",
       "1  wayne-sharpe  hooktheory                       yu-gi-oh      1.0    85.0   \n",
       "2    what-a-day  hooktheory                         kiefer      6.0    96.0   \n",
       "3    whiteflame  hooktheory  senbonzakura - pre-Pre-Chorus      6.0   152.0   \n",
       "4    whiteflame  hooktheory                   Senbonzakura      6.0   152.0   \n",
       "\n",
       "   ht_offset  mxl                                           song_url  \n",
       "0        0.0  NaN  https://www.hooktheory.com/theorytab/view/wayn...  \n",
       "1        0.0  NaN  https://www.hooktheory.com/theorytab/view/wayn...  \n",
       "2       -5.0  NaN  https://www.hooktheory.com/theorytab/view/what...  \n",
       "3       -5.0  NaN  https://www.hooktheory.com/theorytab/view/whit...  \n",
       "4       -5.0  NaN  https://www.hooktheory.com/theorytab/view/whit...  "
      ]
     },
     "execution_count": 8,
     "metadata": {},
     "output_type": "execute_result"
    }
   ],
   "source": [
    "df = pd.read_csv(source_csv); df.head()"
   ]
  },
  {
   "cell_type": "code",
   "execution_count": 9,
   "metadata": {},
   "outputs": [
    {
     "data": {
      "text/plain": [
       "196588"
      ]
     },
     "execution_count": 9,
     "metadata": {},
     "output_type": "execute_result"
    }
   ],
   "source": [
    "all_records = df.to_dict(orient='records'); len(all_records)"
   ]
  },
  {
   "cell_type": "code",
   "execution_count": null,
   "metadata": {},
   "outputs": [],
   "source": [
    "def process_metadata(metadata):\n",
    "    result = metadata.copy()\n",
    "    \n",
    "    # Part 1. Compress tracks/instruments\n",
    "    if not isinstance(metadata.get('midi'), str): return None\n",
    "    \n",
    "    input_path = version_path/metadata['midi']\n",
    "    extension = input_path.suffix.lower()\n",
    "    if not input_path.exists(): \n",
    "        print('Input path does not exist:', input_path, metadata)\n",
    "        return None\n",
    "    \n",
    "    # Get outfile and check if it exists\n",
    "    out_file = Path(str(input_path).replace(f'/{source_dir}/', f'/{out_dir}/'))\n",
    "    out_file = out_file.with_suffix('.npy')\n",
    "    out_file.parent.mkdir(parents=True, exist_ok=True)\n",
    "    if out_file.exists(): \n",
    "        result['numpy'] = str(out_file.relative_to(version_path))\n",
    "        return result\n",
    "    \n",
    "    npenc = transform_midi(input_path)\n",
    "    if npenc is None: return None\n",
    "    np.save(out_file, npenc)\n",
    "    result['numpy'] = str(out_file.relative_to(version_path))\n",
    "    return result"
   ]
  },
  {
   "cell_type": "code",
   "execution_count": 10,
   "metadata": {},
   "outputs": [],
   "source": [
    "def transform_midi(midi_file):\n",
    "    input_path = midi_file\n",
    "    \n",
    "    if duet_only:\n",
    "        try: \n",
    "            if num_piano_tracks(input_path) not in [1, 2] : return None\n",
    "        except Exception: return None\n",
    "    \n",
    "    try: input_file = compress_midi_file(input_path, cutoff=cutoff) # remove non note tracks and standardize instruments\n",
    "    except music21.midi.MidiException as e:\n",
    "        print('Error parsing midi', input_path, e)\n",
    "        return None\n",
    "    if not input_file: return None\n",
    "        \n",
    "    # Part 2. Compress rests and long notes\n",
    "    stream = file2stream(input_file) # 1.\n",
    "    try:\n",
    "        chordarr = stream2chordarr(stream, max_dur=DURATION_RANGE-2, flat=False) # 2. max_dur = quarter_len * sample_freq (4). 128 = 8 bars\n",
    "    except Exception as e:\n",
    "        print('Could not encode to chordarr:', input_path, e)\n",
    "        print(traceback.format_exc())\n",
    "        return None\n",
    "    \n",
    "    chord_trim = trim_chordarr_rests(chordarr)\n",
    "    chord_short = shorten_chordarr_rests(chord_trim)\n",
    "    delta_trim = chord_trim.shape[0] - chord_short.shape[0]\n",
    "    if delta_trim > 300: \n",
    "        print(f'Removed {delta_trim} rests from {input_path}. Skipping song')\n",
    "        return None\n",
    "    chordarr = chord_short\n",
    "    \n",
    "    # Part 3. Chord array to numpy\n",
    "    seq = chordarr2seq(chordarr)\n",
    "    if len(seq) < 32:\n",
    "        print('Sequence too short:', len(seq), input_path)\n",
    "        return None\n",
    "    \n",
    "    npenc = seq2npenc(seq)\n",
    "    if (npenc[:,1] >= DURATION_RANGE).any(): \n",
    "        print('npenc exceeds max 128 duration:', input_path)\n",
    "        return None\n",
    "    \n",
    "    # https://en.wikipedia.org/wiki/Scientific_pitch_notation - 88 key range - 21 = A0, 108 = C8\n",
    "    if ((npenc[...,0] > VALTSEP) & ((npenc[...,0] < PIANO_RANGE[0]) | (npenc[...,0] >= PIANO_RANGE[1]))).any(): \n",
    "        print('npenc out of piano note range 12 - 116:', input_path)\n",
    "        return None\n",
    "    \n",
    "    return npenc"
   ]
  },
  {
   "cell_type": "code",
   "execution_count": 11,
   "metadata": {},
   "outputs": [],
   "source": [
    "def try_transform_func(metadata):\n",
    "    try:\n",
    "        return process_metadata(metadata)\n",
    "    except Exception:\n",
    "        print(traceback.format_exc())\n",
    "        return None"
   ]
  },
  {
   "cell_type": "code",
   "execution_count": 12,
   "metadata": {},
   "outputs": [],
   "source": [
    "# # sanity check\n",
    "import random\n",
    "for r in random.sample(all_records, 10):\n",
    "    process_metadata(r)\n",
    "        "
   ]
  },
  {
   "cell_type": "code",
   "execution_count": 13,
   "metadata": {},
   "outputs": [],
   "source": [
    "def timeout_func(data, seconds):\n",
    "    print(\"Timeout:\", seconds, data.get('midi'))"
   ]
  },
  {
   "cell_type": "code",
   "execution_count": null,
   "metadata": {
    "scrolled": false
   },
   "outputs": [
    {
     "data": {
      "text/html": [
       "\n",
       "    <div>\n",
       "        <style>\n",
       "            /* Turns off some styling */\n",
       "            progress {\n",
       "                /* gets rid of default border in Firefox and Opera. */\n",
       "                border: none;\n",
       "                /* Needs to be in here for Safari polyfill so background images work as expected. */\n",
       "                background-size: auto;\n",
       "            }\n",
       "            .progress-bar-interrupted, .progress-bar-interrupted::-webkit-progress-bar {\n",
       "                background: #F44336;\n",
       "            }\n",
       "        </style>\n",
       "      <progress value='18182' class='' max='197426', style='width:300px; height:20px; vertical-align: middle;'></progress>\n",
       "      9.21% [18182/197426 00:01<00:19]\n",
       "    </div>\n",
       "    "
      ],
      "text/plain": [
       "<IPython.core.display.HTML object>"
      ]
     },
     "metadata": {},
     "output_type": "display_data"
    },
    {
     "name": "stdout",
     "output_type": "stream",
     "text": [
      "Sequence too short: 25 data/midi/v13/midi_sources/hooktheory/pianoroll/y/yes/heart-of-the-sunrise/intro_key_original.mid\n",
      "Sequence too short: 29 data/midi/v13/midi_sources/hooktheory/pianoroll/j/jeff-liu/steven-and-the-crystal-gems/outro_key_original.mid\n",
      "Sequence too short: 29 data/midi/v13/midi_sources/hooktheory/pianoroll/j/jessica-simpson/part-of-your-world/bridge_key_original.mid\n",
      "Sequence too short: 25 data/midi/v13/midi_sources/hooktheory/pianoroll/j/jamiroquai/canned-heat/intro_key_original.mid\n",
      "Sequence too short: 25 data/midi/v13/midi_sources/hooktheory/pianoroll/l/lildeucedeuce/mine-turtle/intro_key_original.mid\n",
      "Sequence too short: 17 data/midi/v13/midi_sources/hooktheory/pianoroll/f/frankie-valli/the-night/intro_key_original.mid\n",
      "Sequence too short: 25 data/midi/v13/midi_sources/hooktheory/pianoroll/n/nobuo-uematsu/final-fantasy-vi---dancing-mad-part-3/bridge_key_original.mid\n",
      "Sequence too short: 25 data/midi/v13/midi_sources/hooktheory/pianoroll/n/nobuo-uematsu/final-fantasy-vii---victory-fanfare/intro_key_original.mid\n",
      "Sequence too short: 27 data/midi/v13/midi_sources/hooktheory/pianoroll/n/nigel-tufnel/nigels-top-of-the-heap-1959-gibson-les-paul/instrumental_key_original.mid\n",
      "Sequence too short: 29 data/midi/v13/midi_sources/hooktheory/pianoroll/n/neru/law-evading-rock/chorus-lead-out_key_original.mid\n",
      "Sequence too short: 17 data/midi/v13/midi_sources/hooktheory/pianoroll/h/hiveswap/half-harley-manor/chorus-lead-out_key_original.mid\n",
      "Sequence too short: 17 data/midi/v13/midi_sources/hooktheory/pianoroll/h/homestuck/english/solo_key_original.mid\n",
      "Sequence too short: 29 data/midi/v13/midi_sources/hooktheory/pianoroll/h/homestuck/lotus/chorus-lead-out_key_original.mid\n",
      "Sequence too short: 15 data/midi/v13/midi_sources/hooktheory/pianoroll/t/this-town-needs-guns/gibbon/intro_key_original.mid\n",
      "Sequence too short: 17 data/midi/v13/midi_sources/hooktheory/pianoroll/t/the-beatles/a-hard-days-night/intro_key_original.mid\n",
      "Sequence too short: 17 data/midi/v13/midi_sources/hooktheory/pianoroll/t/the-beatles/a-hard-days-night/intro-and-verse_key_original.mid\n",
      "Sequence too short: 17 data/midi/v13/midi_sources/hooktheory/pianoroll/t/they-might-be-giants/everything-right-is-wrong-again/chorus-lead-out_key_original.mid\n",
      "Sequence too short: 27 data/midi/v13/midi_sources/hooktheory/pianoroll/k/koji-kondo/kaepora-gaebora/intro_key_original.mid\n",
      "Sequence too short: 17 data/midi/v13/midi_sources/hooktheory/pianoroll/k/koji-kondo/super-mario-world---athletic/intro_key_original.mid\n",
      "Sequence too short: 31 data/midi/v13/midi_sources/hooktheory/pianoroll/k/koji-kondo/athletic-bgm-super-mario-bros-3/intro_key_original.mid\n",
      "Sequence too short: 25 data/midi/v13/midi_sources/hooktheory/pianoroll/k/koji-kondo/link-to-the-past---minigame-theme/intro_key_original.mid\n",
      "Sequence too short: 21 data/midi/v13/midi_sources/hooktheory/pianoroll/k/koji-kondo/super-mario-bros-3---hammer-bros-battle-theme/intro_key_original.mid\n",
      "Sequence too short: 17 data/midi/v13/midi_sources/hooktheory/pianoroll/m/men-at-work/land-down-under/intro_key_original.mid\n",
      "Sequence too short: 21 data/midi/v13/midi_sources/hooktheory/pianoroll/m/microsoft/windows-xp-startup-sound/instrumental_key_original.mid\n",
      "Sequence too short: 0 data/midi/v13/midi_sources/freemidi/genre-dance-eletric/Daft Punk - Aerodynamic.mid\n",
      "Sequence too short: 17 data/midi/v13/midi_sources/freemidi/genre-dance-eletric/Daft Punk - Derezzed.mid\n",
      "Sequence too short: 27 data/midi/v13/midi_sources/freemidi/genre-dance-eletric/DJ Bobo - Respect Yourself.mid\n",
      "Could not encode to chordarr: data/midi/v13/midi_sources/freemidi/genre-dance-eletric/DJ Bobo - Its My Life.mid index 27 is out of bounds for axis 0 with size 27\n",
      "Sequence too short: 26 data/midi/v13/midi_sources/freemidi/genre-dance-eletric/DJ Bobo - Where Is Your Love.mid\n",
      "Could not encode to chordarr: data/midi/v13/midi_sources/freemidi/genre-pop/Tina Turner - What Ever You Want.mid index 63 is out of bounds for axis 0 with size 63\n",
      "Could not encode to chordarr: data/midi/v13/midi_sources/freemidi/genre-dance-eletric/Bjork - Aurora.mid index 127 is out of bounds for axis 2 with size 127\n",
      "Removed 109096 rests from data/midi/v13/midi_sources/freemidi/genre-dance-eletric/Cascada - What Hurts The Most.mid.\n",
      "Sequence too short: 0 data/midi/v13/midi_sources/freemidi/genre-pop/Don Williams - Love is on a roll.mid\n",
      "Traceback (most recent call last):\n",
      "  File \"<ipython-input-11-c95459e3fde9>\", line 3, in try_transform_func\n",
      "    return transform_func(metadata)\n",
      "  File \"<ipython-input-10-e05f901bafa6>\", line 34, in transform_func\n",
      "    stream = file2stream(input_file) # 1.\n",
      "  File \"../../src/midi_data.py\", line 78, in file2stream\n",
      "    if isinstance(fp, music21.midi.MidiFile): return music21.midi.translate.midiFileToStream(fp)\n",
      "  File \"/home/ubuntu/anaconda3/envs/midi/lib/python3.7/site-packages/music21/midi/translate.py\", line 2115, in midiFileToStream\n",
      "    **keywords)\n",
      "  File \"/home/ubuntu/anaconda3/envs/midi/lib/python3.7/site-packages/music21/midi/translate.py\", line 1878, in midiTracksToStreams\n",
      "    **keywords)\n",
      "  File \"/home/ubuntu/anaconda3/envs/midi/lib/python3.7/site-packages/music21/midi/translate.py\", line 1535, in midiTrackToStream\n",
      "    metaEvents.append([t, midiEventsToKey(e)])\n",
      "  File \"/home/ubuntu/anaconda3/envs/midi/lib/python3.7/site-packages/music21/midi/translate.py\", line 858, in midiEventsToKey\n",
      "    if post[0] > 12:\n",
      "IndexError: list index out of range\n",
      "\n",
      "npenc out of note range 12 - 116: data/midi/v13/midi_sources/freemidi/genre-pop/Barbra Streisand - Happy Days Are Here Again.mid\n",
      "Could not encode to chordarr: data/midi/v13/midi_sources/freemidi/genre-pop/Janet Jackson - Got Till It's Gone.mid index 1007 is out of bounds for axis 0 with size 1007\n",
      "Could not encode to chordarr: data/midi/v13/midi_sources/freemidi/genre-pop/Carly Simon - Mocking Bird.mid index 127 is out of bounds for axis 2 with size 127\n",
      "npenc exceeds max 128 duration: data/midi/v13/midi_sources/freemidi/genre-dance-eletric/Cascada - What Hurts The Most.mid\n",
      "Sequence too short: 17 data/midi/v13/midi_sources/midiworld/named_midi/Cameron_Lee_Simpson_-_Cue_.mid\n",
      "npenc exceeds max 128 duration: data/midi/v13/midi_sources/midiworld/named_midi/Movie_Themes_-_Dances_With_Wolves.mid\n",
      "Sequence too short: 19 data/midi/v13/midi_sources/midiworld/named_midi/ffffffff_-_.mid\n",
      "npenc exceeds max 128 duration: data/midi/v13/midi_sources/midiworld/named_midi/Nine_Inch_Nails_-_The_Downward_Spiral.mid\n",
      "Removed 464 rests from data/midi/v13/midi_sources/freemidi/genre-pop/Aha - Waiting For Her.mid.\n",
      "npenc out of note range 12 - 116: data/midi/v13/midi_sources/freemidi/genre-pop/Kenny Rogers - Buy Me A Rose.mid\n",
      "npenc exceeds max 128 duration: data/midi/v13/midi_sources/freemidi/genre-pop/Aha - Waiting For Her.mid\n",
      "npenc exceeds max 128 duration: data/midi/v13/midi_sources/midiworld/named_midi/Korn_-_Chutes_and_Ladders.mid\n",
      "Sequence too short: 25 data/midi/v13/midi_sources/midiworld/named_midi/Benjy_shelton__-_Windows_Startup_.mid\n",
      "npenc out of note range 12 - 116: data/midi/v13/midi_sources/midiworld/named_midi/Starship_-_Jane.mid\n",
      "npenc exceeds max 128 duration: data/midi/v13/midi_sources/freemidi/genre-pop/Scorpions - Crazy World.mid\n",
      "Could not encode to chordarr: data/midi/v13/midi_sources/midiworld/named_midi/Howlin_Wolf_-_Little_Red_Rooster.mid index 1147 is out of bounds for axis 0 with size 1147\n",
      "Sequence too short: 0 data/midi/v13/midi_sources/freemidi/genre-dance-eletric/Radiohead - I Might Be Wrong.mid\n",
      "npenc exceeds max 128 duration: data/midi/v13/midi_sources/midiworld/named_midi/Coal_Chamber_-_Oddity.mid\n",
      "npenc exceeds max 128 duration: data/midi/v13/midi_sources/midiworld/named_midi/Led_Zeppelin_-_Black_Dog.mid\n",
      "npenc exceeds max 128 duration: data/midi/v13/midi_sources/freemidi/genre-pop/Fall Out Boy - Chicago Is So Two Years Ago.mid\n",
      "Removed 760 rests from data/midi/v13/midi_sources/midiworld/named_midi/Busta_Rhymes_-_Put_Your_Hands_Where_My_Eyes_Could_See.mid.\n",
      "Removed 912 rests from data/midi/v13/midi_sources/midiworld/named_midi/Queensryche_-_Silent_Lucidity.mid.\n",
      "Removed 780 rests from data/midi/v13/midi_sources/freemidi/genre-pop/Scorpions - Drifting Sun.mid.\n",
      "npenc exceeds max 128 duration: data/midi/v13/midi_sources/freemidi/genre-pop/Scorpions - Drifting Sun.mid\n"
     ]
    },
    {
     "name": "stdout",
     "output_type": "stream",
     "text": [
      "npenc exceeds max 128 duration: data/midi/v13/midi_sources/midiworld/named_midi/Benjy_shelton__-_Conker's_bad_fur_day_big_poop.mid\n",
      "npenc exceeds max 128 duration: data/midi/v13/midi_sources/midiworld/named_midi/Led_Zeppelin_-_In_the_Evening.mid\n",
      "npenc exceeds max 128 duration: data/midi/v13/midi_sources/midiworld/named_midi/Korn_-_Kill_You.mid\n",
      "Could not encode to chordarr: data/midi/v13/midi_sources/midiworld/named_midi/Chubby_Checker_-_Lets_Twist_Again.mid index 1727 is out of bounds for axis 0 with size 1727\n",
      "Removed 544 rests from data/midi/v13/midi_sources/midiworld/named_midi/Metallica_-_The_Call_Of_Ktulu.mid.\n",
      "npenc exceeds max 128 duration: data/midi/v13/midi_sources/midiworld/named_midi/Silverchair_-_Lie_to_Me.mid\n",
      "Sequence too short: 0 data/midi/v13/midi_sources/midiworld/named_midi/Cypress_Hill_-_Rock_Superstar.mid\n",
      "Sequence too short: 17 data/midi/v13/midi_sources/midiworld/named_midi/Alexandros_Mousafeiris_-_Sanchit's_Tune.mid\n",
      "Removed 384 rests from data/midi/v13/midi_sources/midiworld/named_midi/The_Supremes_-_You_Keep_Me_Hanging_On.mid.\n",
      "Removed 424 rests from data/midi/v13/midi_sources/midiworld/named_midi/Aaliyah_-_Try_Again.mid.\n",
      "npenc exceeds max 128 duration: data/midi/v13/midi_sources/freemidi/genre-pop/Fall Out Boy - Calm Before The Storm.mid\n",
      "npenc exceeds max 128 duration: data/midi/v13/midi_sources/midiworld/named_midi/Black_Sabbath_-_Paranoid.mid\n",
      "Removed 320 rests from data/midi/v13/midi_sources/midiworld/named_midi/The_Offspring_-_Amazed.mid.\n",
      "Removed 440 rests from data/midi/v13/midi_sources/midiworld/named_midi/Guns_n_Roses_-_Nightrain.mid.\n",
      "Removed 1292 rests from data/midi/v13/midi_sources/midiworld/named_midi/Stravinsky_Igor_-_Stravinsky_-_rite_of_spring_2.mid.\n",
      "npenc exceeds max 128 duration: data/midi/v13/midi_sources/midiworld/named_midi/Stravinsky_Igor_-_Stravinsky_-_rite_of_spring_2.mid\n",
      "Removed 416 rests from data/midi/v13/midi_sources/midiworld/named_midi/Movie_Themes_-_The_Matrix.mid.\n"
     ]
    }
   ],
   "source": [
    "processed = process_all(try_transform_func, all_records, timeout=300, timeout_func=timeout_func)"
   ]
  },
  {
   "cell_type": "code",
   "execution_count": null,
   "metadata": {},
   "outputs": [],
   "source": [
    "arr2csv(processed, out_csv); len(processed)"
   ]
  },
  {
   "cell_type": "code",
   "execution_count": 29,
   "metadata": {},
   "outputs": [
    {
     "data": {
      "text/plain": [
       "189846"
      ]
     },
     "execution_count": 29,
     "metadata": {},
     "output_type": "execute_result"
    }
   ],
   "source": [
    "df = pd.read_csv(out_csv); df.head()"
   ]
  },
  {
   "cell_type": "code",
   "execution_count": null,
   "metadata": {},
   "outputs": [],
   "source": []
  }
 ],
 "metadata": {
  "kernelspec": {
   "display_name": "Python 3",
   "language": "python",
   "name": "python3"
  },
  "language_info": {
   "codemirror_mode": {
    "name": "ipython",
    "version": 3
   },
   "file_extension": ".py",
   "mimetype": "text/x-python",
   "name": "python",
   "nbconvert_exporter": "python",
   "pygments_lexer": "ipython3",
   "version": "3.7.1"
  }
 },
 "nbformat": 4,
 "nbformat_minor": 2
}

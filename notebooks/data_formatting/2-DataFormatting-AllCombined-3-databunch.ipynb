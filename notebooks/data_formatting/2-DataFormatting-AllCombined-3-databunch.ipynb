{
 "cells": [
  {
   "cell_type": "markdown",
   "metadata": {},
   "source": [
    "# Tokenize and save data"
   ]
  },
  {
   "cell_type": "code",
   "execution_count": 1,
   "metadata": {},
   "outputs": [],
   "source": [
    "%reload_ext autoreload\n",
    "%autoreload 2\n",
    "%matplotlib inline"
   ]
  },
  {
   "cell_type": "code",
   "execution_count": 2,
   "metadata": {},
   "outputs": [],
   "source": [
    "import sys\n",
    "sys.path.insert(0, '../..')\n",
    "from src.encode_data import *\n",
    "from src.fastai_data import *"
   ]
  },
  {
   "cell_type": "code",
   "execution_count": 3,
   "metadata": {},
   "outputs": [],
   "source": [
    "import pandas as pd\n",
    "import numpy as np"
   ]
  },
  {
   "cell_type": "code",
   "execution_count": 4,
   "metadata": {},
   "outputs": [],
   "source": [
    "from fastai.text import *"
   ]
  },
  {
   "cell_type": "code",
   "execution_count": 5,
   "metadata": {},
   "outputs": [],
   "source": [
    "from fastai.text import data"
   ]
  },
  {
   "cell_type": "markdown",
   "metadata": {},
   "source": [
    "## Preparing the data"
   ]
  },
  {
   "cell_type": "code",
   "execution_count": 6,
   "metadata": {},
   "outputs": [],
   "source": [
    "version = 'v15'\n",
    "data_path = Path('data/midi')\n",
    "version_path = data_path/version"
   ]
  },
  {
   "cell_type": "code",
   "execution_count": 7,
   "metadata": {},
   "outputs": [
    {
     "data": {
      "text/plain": [
       "[PosixPath('data/midi/v15/metadata'),\n",
       " PosixPath('data/midi/v15/midi_sources'),\n",
       " PosixPath('data/midi/v15/midi_encode'),\n",
       " PosixPath('data/midi/v15/piano_duet')]"
      ]
     },
     "execution_count": 7,
     "metadata": {},
     "output_type": "execute_result"
    }
   ],
   "source": [
    "# source_dir = 'midi_encode'\n",
    "source_dir = 'piano_duet'\n",
    "out_path = version_path/source_dir\n",
    "csv_path = out_path/f'{source_dir}.csv'\n",
    "version_path.ls()"
   ]
  },
  {
   "cell_type": "code",
   "execution_count": 8,
   "metadata": {},
   "outputs": [
    {
     "name": "stderr",
     "output_type": "stream",
     "text": [
      "/home/ubuntu/anaconda3/envs/midi/lib/python3.7/site-packages/IPython/core/interactiveshell.py:3020: DtypeWarning: Columns (0,1,7,10,12,15) have mixed types. Specify dtype option on import or set low_memory=False.\n",
      "  interactivity=interactivity, compiler=compiler, result=result)\n"
     ]
    }
   ],
   "source": [
    "csv = pd.read_csv(csv_path)\n",
    "csv = csv.loc[csv['numpy'].notna()];"
   ]
  },
  {
   "cell_type": "code",
   "execution_count": 9,
   "metadata": {},
   "outputs": [],
   "source": [
    "def create_databunch(files, cache_name, batch_size=32, load_cached=False):\n",
    "    if load_cached and (out_path/f'{cache_name}/train_ids.npy').exists():\n",
    "        data = MusicDataBunch.load(out_path, bs=batch_size, cache_name=cache_name)\n",
    "    else:\n",
    "        ps = [OpenNPFileProcessor()]\n",
    "\n",
    "        data = (MusicItemList(items=files, path=out_path, processor=ps)\n",
    "                .split_by_rand_pct(0.01, seed=6)\n",
    "                .label_const(label_cls=LMLabelList))\n",
    "        data.x._bunch = MusicDataBunch\n",
    "        data = data.databunch(bs=batch_size)\n",
    "        data.save(cache_name)\n",
    "    return data"
   ]
  },
  {
   "cell_type": "code",
   "execution_count": 10,
   "metadata": {},
   "outputs": [],
   "source": [
    "def get_files(csv):\n",
    "    files = csv['numpy']\n",
    "    flist = [Path(version_path/f) for f in files.values]\n",
    "    flist = [f for f in flist if f.exists()]\n",
    "    return flist"
   ]
  },
  {
   "cell_type": "code",
   "execution_count": 11,
   "metadata": {},
   "outputs": [
    {
     "data": {
      "text/plain": [
       "PosixPath('data/midi/v15')"
      ]
     },
     "execution_count": 11,
     "metadata": {},
     "output_type": "execute_result"
    }
   ],
   "source": [
    "version_path"
   ]
  },
  {
   "cell_type": "markdown",
   "metadata": {},
   "source": [
    "### Create All Dataset"
   ]
  },
  {
   "cell_type": "code",
   "execution_count": 12,
   "metadata": {},
   "outputs": [
    {
     "data": {
      "text/html": [
       "<div>\n",
       "<style scoped>\n",
       "    .dataframe tbody tr th:only-of-type {\n",
       "        vertical-align: middle;\n",
       "    }\n",
       "\n",
       "    .dataframe tbody tr th {\n",
       "        vertical-align: top;\n",
       "    }\n",
       "\n",
       "    .dataframe thead th {\n",
       "        text-align: right;\n",
       "    }\n",
       "</style>\n",
       "<table border=\"1\" class=\"dataframe\">\n",
       "  <thead>\n",
       "    <tr style=\"text-align: right;\">\n",
       "      <th></th>\n",
       "      <th>song_url</th>\n",
       "      <th>section</th>\n",
       "      <th>numpy</th>\n",
       "      <th>ht_mode</th>\n",
       "      <th>midi</th>\n",
       "      <th>title</th>\n",
       "      <th>ht_time_signature</th>\n",
       "      <th>mxl</th>\n",
       "      <th>ht_offset</th>\n",
       "      <th>ht_bpm</th>\n",
       "      <th>ht_key</th>\n",
       "      <th>md5</th>\n",
       "      <th>midi_title</th>\n",
       "      <th>artist</th>\n",
       "      <th>genres</th>\n",
       "      <th>parts</th>\n",
       "      <th>source</th>\n",
       "    </tr>\n",
       "  </thead>\n",
       "  <tbody>\n",
       "    <tr>\n",
       "      <th>0</th>\n",
       "      <td>https://www.hooktheory.com/theorytab/view/wayn...</td>\n",
       "      <td>chorus</td>\n",
       "      <td>piano_duet/hooktheory/pianoroll/w/wayne-sharpe...</td>\n",
       "      <td>1.0</td>\n",
       "      <td>midi_sources/hooktheory/pianoroll/w/wayne-shar...</td>\n",
       "      <td>yu-gi-oh-theme-song</td>\n",
       "      <td>4.0</td>\n",
       "      <td>NaN</td>\n",
       "      <td>0.0</td>\n",
       "      <td>128.0</td>\n",
       "      <td>C</td>\n",
       "      <td>bf1f29e5ff84e3e93e37fb873bfb590e</td>\n",
       "      <td>yu-gi-oh3</td>\n",
       "      <td>wayne-sharpe</td>\n",
       "      <td>NaN</td>\n",
       "      <td>intro,chorus</td>\n",
       "      <td>hooktheory</td>\n",
       "    </tr>\n",
       "    <tr>\n",
       "      <th>1</th>\n",
       "      <td>https://www.hooktheory.com/theorytab/view/wayn...</td>\n",
       "      <td>intro</td>\n",
       "      <td>piano_duet/hooktheory/pianoroll/w/wayne-sharpe...</td>\n",
       "      <td>1.0</td>\n",
       "      <td>midi_sources/hooktheory/pianoroll/w/wayne-shar...</td>\n",
       "      <td>yu-gi-oh-theme-song</td>\n",
       "      <td>3.0</td>\n",
       "      <td>NaN</td>\n",
       "      <td>0.0</td>\n",
       "      <td>85.0</td>\n",
       "      <td>C</td>\n",
       "      <td>055f80ad67f64edb14a85ca8fbfe8c29</td>\n",
       "      <td>yu-gi-oh</td>\n",
       "      <td>wayne-sharpe</td>\n",
       "      <td>NaN</td>\n",
       "      <td>intro,chorus</td>\n",
       "      <td>hooktheory</td>\n",
       "    </tr>\n",
       "    <tr>\n",
       "      <th>2</th>\n",
       "      <td>https://www.hooktheory.com/theorytab/view/what...</td>\n",
       "      <td>chorus</td>\n",
       "      <td>piano_duet/hooktheory/pianoroll/w/what-a-day/k...</td>\n",
       "      <td>6.0</td>\n",
       "      <td>midi_sources/hooktheory/pianoroll/w/what-a-day...</td>\n",
       "      <td>kiefer</td>\n",
       "      <td>4.0</td>\n",
       "      <td>NaN</td>\n",
       "      <td>-5.0</td>\n",
       "      <td>96.0</td>\n",
       "      <td>D</td>\n",
       "      <td>197f96f5d181f6ce1e2c5ab04ac1ff87</td>\n",
       "      <td>kiefer</td>\n",
       "      <td>what-a-day</td>\n",
       "      <td>Jazz</td>\n",
       "      <td>chorus</td>\n",
       "      <td>hooktheory</td>\n",
       "    </tr>\n",
       "    <tr>\n",
       "      <th>3</th>\n",
       "      <td>https://www.hooktheory.com/theorytab/view/whit...</td>\n",
       "      <td>pre-chorus</td>\n",
       "      <td>piano_duet/hooktheory/pianoroll/w/whiteflame/s...</td>\n",
       "      <td>6.0</td>\n",
       "      <td>midi_sources/hooktheory/pianoroll/w/whiteflame...</td>\n",
       "      <td>senbonzakura</td>\n",
       "      <td>4.0</td>\n",
       "      <td>NaN</td>\n",
       "      <td>-5.0</td>\n",
       "      <td>152.0</td>\n",
       "      <td>D</td>\n",
       "      <td>9e7ce13a35f1314423a9a6d5a5287a4a</td>\n",
       "      <td>senbonzakura - pre-Pre-Chorus</td>\n",
       "      <td>whiteflame</td>\n",
       "      <td>J-Pop,Pop</td>\n",
       "      <td>verse,pre-chorus,chorus</td>\n",
       "      <td>hooktheory</td>\n",
       "    </tr>\n",
       "    <tr>\n",
       "      <th>4</th>\n",
       "      <td>https://www.hooktheory.com/theorytab/view/whit...</td>\n",
       "      <td>verse</td>\n",
       "      <td>piano_duet/hooktheory/pianoroll/w/whiteflame/s...</td>\n",
       "      <td>6.0</td>\n",
       "      <td>midi_sources/hooktheory/pianoroll/w/whiteflame...</td>\n",
       "      <td>senbonzakura</td>\n",
       "      <td>4.0</td>\n",
       "      <td>NaN</td>\n",
       "      <td>-5.0</td>\n",
       "      <td>152.0</td>\n",
       "      <td>D</td>\n",
       "      <td>d5aaf79d0989222f1362f9f46c540a27</td>\n",
       "      <td>Senbonzakura</td>\n",
       "      <td>whiteflame</td>\n",
       "      <td>J-Pop,Pop</td>\n",
       "      <td>verse,pre-chorus,chorus</td>\n",
       "      <td>hooktheory</td>\n",
       "    </tr>\n",
       "  </tbody>\n",
       "</table>\n",
       "</div>"
      ],
      "text/plain": [
       "                                            song_url     section  \\\n",
       "0  https://www.hooktheory.com/theorytab/view/wayn...      chorus   \n",
       "1  https://www.hooktheory.com/theorytab/view/wayn...       intro   \n",
       "2  https://www.hooktheory.com/theorytab/view/what...      chorus   \n",
       "3  https://www.hooktheory.com/theorytab/view/whit...  pre-chorus   \n",
       "4  https://www.hooktheory.com/theorytab/view/whit...       verse   \n",
       "\n",
       "                                               numpy  ht_mode  \\\n",
       "0  piano_duet/hooktheory/pianoroll/w/wayne-sharpe...      1.0   \n",
       "1  piano_duet/hooktheory/pianoroll/w/wayne-sharpe...      1.0   \n",
       "2  piano_duet/hooktheory/pianoroll/w/what-a-day/k...      6.0   \n",
       "3  piano_duet/hooktheory/pianoroll/w/whiteflame/s...      6.0   \n",
       "4  piano_duet/hooktheory/pianoroll/w/whiteflame/s...      6.0   \n",
       "\n",
       "                                                midi                title  \\\n",
       "0  midi_sources/hooktheory/pianoroll/w/wayne-shar...  yu-gi-oh-theme-song   \n",
       "1  midi_sources/hooktheory/pianoroll/w/wayne-shar...  yu-gi-oh-theme-song   \n",
       "2  midi_sources/hooktheory/pianoroll/w/what-a-day...               kiefer   \n",
       "3  midi_sources/hooktheory/pianoroll/w/whiteflame...         senbonzakura   \n",
       "4  midi_sources/hooktheory/pianoroll/w/whiteflame...         senbonzakura   \n",
       "\n",
       "   ht_time_signature  mxl  ht_offset  ht_bpm ht_key  \\\n",
       "0                4.0  NaN        0.0   128.0      C   \n",
       "1                3.0  NaN        0.0    85.0      C   \n",
       "2                4.0  NaN       -5.0    96.0      D   \n",
       "3                4.0  NaN       -5.0   152.0      D   \n",
       "4                4.0  NaN       -5.0   152.0      D   \n",
       "\n",
       "                                md5                     midi_title  \\\n",
       "0  bf1f29e5ff84e3e93e37fb873bfb590e                      yu-gi-oh3   \n",
       "1  055f80ad67f64edb14a85ca8fbfe8c29                       yu-gi-oh   \n",
       "2  197f96f5d181f6ce1e2c5ab04ac1ff87                         kiefer   \n",
       "3  9e7ce13a35f1314423a9a6d5a5287a4a  senbonzakura - pre-Pre-Chorus   \n",
       "4  d5aaf79d0989222f1362f9f46c540a27                   Senbonzakura   \n",
       "\n",
       "         artist     genres                    parts      source  \n",
       "0  wayne-sharpe        NaN             intro,chorus  hooktheory  \n",
       "1  wayne-sharpe        NaN             intro,chorus  hooktheory  \n",
       "2    what-a-day       Jazz                   chorus  hooktheory  \n",
       "3    whiteflame  J-Pop,Pop  verse,pre-chorus,chorus  hooktheory  \n",
       "4    whiteflame  J-Pop,Pop  verse,pre-chorus,chorus  hooktheory  "
      ]
     },
     "execution_count": 12,
     "metadata": {},
     "output_type": "execute_result"
    }
   ],
   "source": [
    "csv.head()"
   ]
  },
  {
   "cell_type": "code",
   "execution_count": 13,
   "metadata": {},
   "outputs": [
    {
     "data": {
      "text/plain": [
       "(112947, 17)"
      ]
     },
     "execution_count": 13,
     "metadata": {},
     "output_type": "execute_result"
    }
   ],
   "source": [
    "csv.shape"
   ]
  },
  {
   "cell_type": "code",
   "execution_count": 14,
   "metadata": {},
   "outputs": [
    {
     "name": "stdout",
     "output_type": "stream",
     "text": [
      "DLTFMS: None\n"
     ]
    }
   ],
   "source": [
    "all_files = get_files(csv)\n",
    "all_data = create_databunch(all_files, cache_name='tmp/all', load_cached=True)"
   ]
  },
  {
   "cell_type": "markdown",
   "metadata": {},
   "source": [
    "### Create sample"
   ]
  },
  {
   "cell_type": "code",
   "execution_count": 15,
   "metadata": {},
   "outputs": [
    {
     "name": "stdout",
     "output_type": "stream",
     "text": [
      "DLTFMS: None\n"
     ]
    }
   ],
   "source": [
    "import random\n",
    "sample_data = create_databunch(random.sample(all_files, 1000), cache_name='tmp/sample')"
   ]
  },
  {
   "cell_type": "markdown",
   "metadata": {},
   "source": [
    "Note: we are reusing all_vocab for the following datasets"
   ]
  },
  {
   "cell_type": "markdown",
   "metadata": {},
   "source": [
    "### Create Hooktheory Dataset"
   ]
  },
  {
   "cell_type": "code",
   "execution_count": 16,
   "metadata": {},
   "outputs": [
    {
     "data": {
      "text/plain": [
       "19812"
      ]
     },
     "execution_count": 16,
     "metadata": {},
     "output_type": "execute_result"
    }
   ],
   "source": [
    "hook_csv = csv.loc[csv.source.isin(['hooktheory'])]\n",
    "hook_files = get_files(hook_csv); len(hook_files)"
   ]
  },
  {
   "cell_type": "code",
   "execution_count": 17,
   "metadata": {},
   "outputs": [
    {
     "name": "stdout",
     "output_type": "stream",
     "text": [
      "DLTFMS: None\n"
     ]
    }
   ],
   "source": [
    "hook_data = create_databunch(hook_files, cache_name='tmp/hook')"
   ]
  },
  {
   "cell_type": "markdown",
   "metadata": {},
   "source": [
    "### Create Hooktheory C Dataset"
   ]
  },
  {
   "cell_type": "code",
   "execution_count": null,
   "metadata": {},
   "outputs": [
    {
     "data": {
      "text/plain": [
       "19973"
      ]
     },
     "execution_count": 18,
     "metadata": {},
     "output_type": "execute_result"
    }
   ],
   "source": [
    "hook_csv = csv.loc[csv.source.isin(['hooktheory_c'])]\n",
    "hook_files = get_files(hook_csv); len(hook_files)"
   ]
  },
  {
   "cell_type": "code",
   "execution_count": null,
   "metadata": {},
   "outputs": [
    {
     "name": "stdout",
     "output_type": "stream",
     "text": [
      "DLTFMS: None\n"
     ]
    }
   ],
   "source": [
    "hook_data = create_databunch(hook_files, cache_name='tmp/hook_c')"
   ]
  },
  {
   "cell_type": "markdown",
   "metadata": {},
   "source": [
    "### Create Solo Piano"
   ]
  },
  {
   "cell_type": "code",
   "execution_count": null,
   "metadata": {},
   "outputs": [
    {
     "data": {
      "text/plain": [
       "13106"
      ]
     },
     "execution_count": 20,
     "metadata": {},
     "output_type": "execute_result"
    }
   ],
   "source": [
    "solo_csv = csv.loc[csv.source.isin(['musescore', 'wikifonia'])]\n",
    "solo_files = get_files(solo_csv); len(solo_csv)"
   ]
  },
  {
   "cell_type": "code",
   "execution_count": null,
   "metadata": {},
   "outputs": [
    {
     "name": "stdout",
     "output_type": "stream",
     "text": [
      "DLTFMS: None\n"
     ]
    }
   ],
   "source": [
    "solo_data = create_databunch(solo_files, cache_name='tmp/solo')"
   ]
  },
  {
   "cell_type": "markdown",
   "metadata": {},
   "source": [
    "### Create Pop Dataset"
   ]
  },
  {
   "cell_type": "code",
   "execution_count": null,
   "metadata": {},
   "outputs": [
    {
     "data": {
      "text/plain": [
       "8850"
      ]
     },
     "execution_count": 22,
     "metadata": {},
     "output_type": "execute_result"
    }
   ],
   "source": [
    "pop_csv = csv.loc[csv.source.isin(['midiworld', 'freemidi', 'lmd', 'cprato'])]\n",
    "pop_files = get_files(pop_csv); len(pop_csv)"
   ]
  },
  {
   "cell_type": "code",
   "execution_count": null,
   "metadata": {},
   "outputs": [
    {
     "name": "stdout",
     "output_type": "stream",
     "text": [
      "DLTFMS: None\n"
     ]
    }
   ],
   "source": [
    "pop_data = create_databunch(pop_files, cache_name='tmp/pop')"
   ]
  },
  {
   "cell_type": "markdown",
   "metadata": {},
   "source": [
    "### Create Classical Dataset"
   ]
  },
  {
   "cell_type": "code",
   "execution_count": null,
   "metadata": {},
   "outputs": [
    {
     "data": {
      "text/plain": [
       "7704"
      ]
     },
     "execution_count": 24,
     "metadata": {},
     "output_type": "execute_result"
    }
   ],
   "source": [
    "clc_csv = csv.loc[csv.source.isin(['classical_piano', 'ecomp', 'classical_archives'])]\n",
    "clc_files = get_files(clc_csv); len(clc_files)"
   ]
  },
  {
   "cell_type": "code",
   "execution_count": null,
   "metadata": {},
   "outputs": [
    {
     "name": "stdout",
     "output_type": "stream",
     "text": [
      "DLTFMS: None\n"
     ]
    }
   ],
   "source": [
    "clc_data = create_databunch(clc_files, cache_name='tmp/clc')"
   ]
  },
  {
   "cell_type": "code",
   "execution_count": null,
   "metadata": {},
   "outputs": [
    {
     "data": {
      "text/plain": [
       "7704"
      ]
     },
     "execution_count": 26,
     "metadata": {},
     "output_type": "execute_result"
    }
   ],
   "source": [
    "len(clc_files)"
   ]
  },
  {
   "cell_type": "markdown",
   "metadata": {},
   "source": [
    "## Create dumpster dataset"
   ]
  },
  {
   "cell_type": "code",
   "execution_count": null,
   "metadata": {},
   "outputs": [
    {
     "data": {
      "text/plain": [
       "43502"
      ]
     },
     "execution_count": 27,
     "metadata": {},
     "output_type": "execute_result"
    }
   ],
   "source": [
    "dmp_csv = csv.loc[csv.source.isin(['reddit'])]\n",
    "dmp_files = get_files(dmp_csv); len(dmp_files)"
   ]
  },
  {
   "cell_type": "code",
   "execution_count": null,
   "metadata": {},
   "outputs": [
    {
     "name": "stdout",
     "output_type": "stream",
     "text": [
      "DLTFMS: None\n"
     ]
    }
   ],
   "source": [
    "dmp_data = create_databunch(dmp_files, cache_name='tmp/dmp')"
   ]
  },
  {
   "cell_type": "markdown",
   "metadata": {},
   "source": [
    "## Low quality"
   ]
  },
  {
   "cell_type": "code",
   "execution_count": null,
   "metadata": {},
   "outputs": [
    {
     "data": {
      "text/plain": [
       "63967"
      ]
     },
     "execution_count": 29,
     "metadata": {},
     "output_type": "execute_result"
    }
   ],
   "source": [
    "lq_csv = csv.loc[csv.source.isin(['reddit', 'classical_piano', 'ecomp', 'midiworld', 'freemidi', 'lmd', 'cprato', 'wikifonia', 'classical_archives'])]\n",
    "lq_files = get_files(lq_csv); len(lq_files)"
   ]
  },
  {
   "cell_type": "code",
   "execution_count": null,
   "metadata": {},
   "outputs": [],
   "source": [
    "lq_data = create_databunch(lq_files, cache_name='tmp/lq')"
   ]
  },
  {
   "cell_type": "markdown",
   "metadata": {},
   "source": [
    "## All High quality"
   ]
  },
  {
   "cell_type": "code",
   "execution_count": null,
   "metadata": {},
   "outputs": [],
   "source": [
    "hq_csv = csv.loc[csv.source.isin(['hooktheory', 'musescore'])]\n",
    "hq_files = get_files(hq_csv); len(hq_files)"
   ]
  },
  {
   "cell_type": "code",
   "execution_count": null,
   "metadata": {},
   "outputs": [],
   "source": [
    "hq_data = create_databunch(hq_files, cache_name='tmp/hq')"
   ]
  },
  {
   "cell_type": "markdown",
   "metadata": {},
   "source": [
    "### Testing"
   ]
  },
  {
   "cell_type": "code",
   "execution_count": null,
   "metadata": {},
   "outputs": [],
   "source": [
    "data = all_data"
   ]
  },
  {
   "cell_type": "code",
   "execution_count": null,
   "metadata": {},
   "outputs": [],
   "source": [
    "data.train_ds.x"
   ]
  },
  {
   "cell_type": "code",
   "execution_count": null,
   "metadata": {},
   "outputs": [],
   "source": []
  },
  {
   "cell_type": "code",
   "execution_count": null,
   "metadata": {},
   "outputs": [],
   "source": [
    "# train_ids_file = out_path/'tmp/all/train_ids.npy'\n",
    "# all_ids = np.load(train_ids_file)\n",
    "# id_cat = np.concatenate(all_ids); id_cat.shape\n",
    "# ax = tuple(range(len(id_cat.shape)-1))\n",
    "# max_vocab = id_cat.max(axis=ax)\n",
    "# max_vocab = (max_vocab+1).tolist(); max_vocab"
   ]
  },
  {
   "cell_type": "code",
   "execution_count": null,
   "metadata": {},
   "outputs": [],
   "source": [
    "npenc2stream(data.train_ds.x[10]).show()"
   ]
  },
  {
   "cell_type": "code",
   "execution_count": null,
   "metadata": {},
   "outputs": [],
   "source": []
  }
 ],
 "metadata": {
  "kernelspec": {
   "display_name": "Python 3",
   "language": "python",
   "name": "python3"
  },
  "language_info": {
   "codemirror_mode": {
    "name": "ipython",
    "version": 3
   },
   "file_extension": ".py",
   "mimetype": "text/x-python",
   "name": "python",
   "nbconvert_exporter": "python",
   "pygments_lexer": "ipython3",
   "version": "3.7.1"
  }
 },
 "nbformat": 4,
 "nbformat_minor": 2
}

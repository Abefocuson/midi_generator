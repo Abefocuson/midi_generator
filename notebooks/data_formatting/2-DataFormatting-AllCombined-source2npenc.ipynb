{
 "cells": [
  {
   "cell_type": "code",
   "execution_count": 1,
   "metadata": {},
   "outputs": [],
   "source": [
    "%reload_ext autoreload\n",
    "%autoreload 2\n",
    "%matplotlib inline"
   ]
  },
  {
   "cell_type": "code",
   "execution_count": 2,
   "metadata": {},
   "outputs": [],
   "source": [
    "import sys\n",
    "sys.path.insert(0, '../../')\n",
    "from src.encode_data import *\n",
    "from src.midi_data import *\n",
    "# from src.data_sources import process_parallel, transform_csv_row\n",
    "from src.midi_transform import *\n",
    "from concurrent.futures import ProcessPoolExecutor\n",
    "from fastprogress.fastprogress import master_bar, progress_bar"
   ]
  },
  {
   "cell_type": "code",
   "execution_count": 3,
   "metadata": {},
   "outputs": [],
   "source": [
    "from tqdm import tqdm"
   ]
  },
  {
   "cell_type": "markdown",
   "metadata": {},
   "source": [
    "## Standardize and reformat raw midi files before encoding to text\n",
    "- Transform key to C major\n",
    "- Remove unused instruments\n",
    "- Combine multiple tracks with the same instrument into a single part\n",
    "- Melody, Piano, String"
   ]
  },
  {
   "cell_type": "markdown",
   "metadata": {},
   "source": [
    "### Load midi data"
   ]
  },
  {
   "cell_type": "code",
   "execution_count": 4,
   "metadata": {},
   "outputs": [],
   "source": [
    "version = 'v10'\n",
    "data_path = Path('data/midi')\n",
    "version_path = data_path/version"
   ]
  },
  {
   "cell_type": "code",
   "execution_count": 5,
   "metadata": {},
   "outputs": [],
   "source": [
    "import pandas as pd"
   ]
  },
  {
   "cell_type": "code",
   "execution_count": 6,
   "metadata": {},
   "outputs": [
    {
     "data": {
      "text/plain": [
       "(PosixPath('data/midi/v10/metadata/midi_sources.csv'),\n",
       " PosixPath('data/midi/v10/midi_encode/midi_encode.csv'))"
      ]
     },
     "execution_count": 6,
     "metadata": {},
     "output_type": "execute_result"
    }
   ],
   "source": [
    "source_dir = 'midi_sources'\n",
    "out_dir = 'midi_encode'\n",
    "source_csv = version_path/'metadata'/f'{source_dir}.csv'\n",
    "out_csv = version_path/out_dir/f'{out_dir}.csv'\n",
    "out_csv.parent.mkdir(parents=True, exist_ok=True)\n",
    "source_csv, out_csv"
   ]
  },
  {
   "cell_type": "code",
   "execution_count": 7,
   "metadata": {},
   "outputs": [],
   "source": [
    "num_comps = 2 # note, duration\n",
    "cutoff = 4 # max instruments"
   ]
  },
  {
   "cell_type": "code",
   "execution_count": 8,
   "metadata": {},
   "outputs": [
    {
     "name": "stderr",
     "output_type": "stream",
     "text": [
      "/home/ubuntu/anaconda3/envs/midi/lib/python3.7/site-packages/IPython/core/interactiveshell.py:3020: DtypeWarning: Columns (0,7,8,10,11,15) have mixed types. Specify dtype option on import or set low_memory=False.\n",
      "  interactivity=interactivity, compiler=compiler, result=result)\n"
     ]
    },
    {
     "data": {
      "text/html": [
       "<div>\n",
       "<style scoped>\n",
       "    .dataframe tbody tr th:only-of-type {\n",
       "        vertical-align: middle;\n",
       "    }\n",
       "\n",
       "    .dataframe tbody tr th {\n",
       "        vertical-align: top;\n",
       "    }\n",
       "\n",
       "    .dataframe thead th {\n",
       "        text-align: right;\n",
       "    }\n",
       "</style>\n",
       "<table border=\"1\" class=\"dataframe\">\n",
       "  <thead>\n",
       "    <tr style=\"text-align: right;\">\n",
       "      <th></th>\n",
       "      <th>song_url</th>\n",
       "      <th>ht_bpm</th>\n",
       "      <th>ht_time_signature</th>\n",
       "      <th>midi</th>\n",
       "      <th>genres</th>\n",
       "      <th>artist</th>\n",
       "      <th>md5</th>\n",
       "      <th>section</th>\n",
       "      <th>ht_key</th>\n",
       "      <th>source</th>\n",
       "      <th>parts</th>\n",
       "      <th>midi_title</th>\n",
       "      <th>title</th>\n",
       "      <th>ht_offset</th>\n",
       "      <th>ht_mode</th>\n",
       "      <th>mxl</th>\n",
       "    </tr>\n",
       "  </thead>\n",
       "  <tbody>\n",
       "    <tr>\n",
       "      <th>0</th>\n",
       "      <td>https://www.hooktheory.com/theorytab/view/wayn...</td>\n",
       "      <td>128.0</td>\n",
       "      <td>4.0</td>\n",
       "      <td>midi_sources/hooktheory/pianoroll/w/wayne-shar...</td>\n",
       "      <td>NaN</td>\n",
       "      <td>wayne-sharpe</td>\n",
       "      <td>bf1f29e5ff84e3e93e37fb873bfb590e</td>\n",
       "      <td>chorus</td>\n",
       "      <td>C</td>\n",
       "      <td>hooktheory</td>\n",
       "      <td>intro,chorus</td>\n",
       "      <td>yu-gi-oh3</td>\n",
       "      <td>yu-gi-oh-theme-song</td>\n",
       "      <td>0.0</td>\n",
       "      <td>1.0</td>\n",
       "      <td>NaN</td>\n",
       "    </tr>\n",
       "    <tr>\n",
       "      <th>1</th>\n",
       "      <td>https://www.hooktheory.com/theorytab/view/wayn...</td>\n",
       "      <td>85.0</td>\n",
       "      <td>3.0</td>\n",
       "      <td>midi_sources/hooktheory/pianoroll/w/wayne-shar...</td>\n",
       "      <td>NaN</td>\n",
       "      <td>wayne-sharpe</td>\n",
       "      <td>055f80ad67f64edb14a85ca8fbfe8c29</td>\n",
       "      <td>intro</td>\n",
       "      <td>C</td>\n",
       "      <td>hooktheory</td>\n",
       "      <td>intro,chorus</td>\n",
       "      <td>yu-gi-oh</td>\n",
       "      <td>yu-gi-oh-theme-song</td>\n",
       "      <td>0.0</td>\n",
       "      <td>1.0</td>\n",
       "      <td>NaN</td>\n",
       "    </tr>\n",
       "    <tr>\n",
       "      <th>2</th>\n",
       "      <td>https://www.hooktheory.com/theorytab/view/what...</td>\n",
       "      <td>96.0</td>\n",
       "      <td>4.0</td>\n",
       "      <td>midi_sources/hooktheory/pianoroll/w/what-a-day...</td>\n",
       "      <td>Jazz</td>\n",
       "      <td>what-a-day</td>\n",
       "      <td>197f96f5d181f6ce1e2c5ab04ac1ff87</td>\n",
       "      <td>chorus</td>\n",
       "      <td>D</td>\n",
       "      <td>hooktheory</td>\n",
       "      <td>chorus</td>\n",
       "      <td>kiefer</td>\n",
       "      <td>kiefer</td>\n",
       "      <td>-5.0</td>\n",
       "      <td>6.0</td>\n",
       "      <td>NaN</td>\n",
       "    </tr>\n",
       "    <tr>\n",
       "      <th>3</th>\n",
       "      <td>https://www.hooktheory.com/theorytab/view/whit...</td>\n",
       "      <td>152.0</td>\n",
       "      <td>4.0</td>\n",
       "      <td>midi_sources/hooktheory/pianoroll/w/whiteflame...</td>\n",
       "      <td>J-Pop,Pop</td>\n",
       "      <td>whiteflame</td>\n",
       "      <td>9e7ce13a35f1314423a9a6d5a5287a4a</td>\n",
       "      <td>pre-chorus</td>\n",
       "      <td>D</td>\n",
       "      <td>hooktheory</td>\n",
       "      <td>verse,pre-chorus,chorus</td>\n",
       "      <td>senbonzakura - pre-Pre-Chorus</td>\n",
       "      <td>senbonzakura</td>\n",
       "      <td>-5.0</td>\n",
       "      <td>6.0</td>\n",
       "      <td>NaN</td>\n",
       "    </tr>\n",
       "    <tr>\n",
       "      <th>4</th>\n",
       "      <td>https://www.hooktheory.com/theorytab/view/whit...</td>\n",
       "      <td>152.0</td>\n",
       "      <td>4.0</td>\n",
       "      <td>midi_sources/hooktheory/pianoroll/w/whiteflame...</td>\n",
       "      <td>J-Pop,Pop</td>\n",
       "      <td>whiteflame</td>\n",
       "      <td>d5aaf79d0989222f1362f9f46c540a27</td>\n",
       "      <td>verse</td>\n",
       "      <td>D</td>\n",
       "      <td>hooktheory</td>\n",
       "      <td>verse,pre-chorus,chorus</td>\n",
       "      <td>Senbonzakura</td>\n",
       "      <td>senbonzakura</td>\n",
       "      <td>-5.0</td>\n",
       "      <td>6.0</td>\n",
       "      <td>NaN</td>\n",
       "    </tr>\n",
       "  </tbody>\n",
       "</table>\n",
       "</div>"
      ],
      "text/plain": [
       "                                            song_url  ht_bpm  \\\n",
       "0  https://www.hooktheory.com/theorytab/view/wayn...   128.0   \n",
       "1  https://www.hooktheory.com/theorytab/view/wayn...    85.0   \n",
       "2  https://www.hooktheory.com/theorytab/view/what...    96.0   \n",
       "3  https://www.hooktheory.com/theorytab/view/whit...   152.0   \n",
       "4  https://www.hooktheory.com/theorytab/view/whit...   152.0   \n",
       "\n",
       "   ht_time_signature                                               midi  \\\n",
       "0                4.0  midi_sources/hooktheory/pianoroll/w/wayne-shar...   \n",
       "1                3.0  midi_sources/hooktheory/pianoroll/w/wayne-shar...   \n",
       "2                4.0  midi_sources/hooktheory/pianoroll/w/what-a-day...   \n",
       "3                4.0  midi_sources/hooktheory/pianoroll/w/whiteflame...   \n",
       "4                4.0  midi_sources/hooktheory/pianoroll/w/whiteflame...   \n",
       "\n",
       "      genres        artist                               md5     section  \\\n",
       "0        NaN  wayne-sharpe  bf1f29e5ff84e3e93e37fb873bfb590e      chorus   \n",
       "1        NaN  wayne-sharpe  055f80ad67f64edb14a85ca8fbfe8c29       intro   \n",
       "2       Jazz    what-a-day  197f96f5d181f6ce1e2c5ab04ac1ff87      chorus   \n",
       "3  J-Pop,Pop    whiteflame  9e7ce13a35f1314423a9a6d5a5287a4a  pre-chorus   \n",
       "4  J-Pop,Pop    whiteflame  d5aaf79d0989222f1362f9f46c540a27       verse   \n",
       "\n",
       "  ht_key      source                    parts                     midi_title  \\\n",
       "0      C  hooktheory             intro,chorus                      yu-gi-oh3   \n",
       "1      C  hooktheory             intro,chorus                       yu-gi-oh   \n",
       "2      D  hooktheory                   chorus                         kiefer   \n",
       "3      D  hooktheory  verse,pre-chorus,chorus  senbonzakura - pre-Pre-Chorus   \n",
       "4      D  hooktheory  verse,pre-chorus,chorus                   Senbonzakura   \n",
       "\n",
       "                 title  ht_offset  ht_mode  mxl  \n",
       "0  yu-gi-oh-theme-song        0.0      1.0  NaN  \n",
       "1  yu-gi-oh-theme-song        0.0      1.0  NaN  \n",
       "2               kiefer       -5.0      6.0  NaN  \n",
       "3         senbonzakura       -5.0      6.0  NaN  \n",
       "4         senbonzakura       -5.0      6.0  NaN  "
      ]
     },
     "execution_count": 8,
     "metadata": {},
     "output_type": "execute_result"
    }
   ],
   "source": [
    "df = pd.read_csv(source_csv); df.head()"
   ]
  },
  {
   "cell_type": "code",
   "execution_count": 9,
   "metadata": {},
   "outputs": [],
   "source": [
    "ecomp_records = df.loc[df.source == 'ecomp'].to_dict(orient='records')"
   ]
  },
  {
   "cell_type": "code",
   "execution_count": 10,
   "metadata": {},
   "outputs": [],
   "source": [
    "all_records = df.to_dict(orient='records')"
   ]
  },
  {
   "cell_type": "markdown",
   "metadata": {},
   "source": [
    "### Via Data Sources"
   ]
  },
  {
   "cell_type": "code",
   "execution_count": 17,
   "metadata": {},
   "outputs": [],
   "source": [
    "import concurrent"
   ]
  },
  {
   "cell_type": "code",
   "execution_count": 18,
   "metadata": {},
   "outputs": [],
   "source": [
    "\n",
    "def process_all(func, arr, total=None, max_workers=None, timeout=None):\n",
    "    \"Process array in parallel\"\n",
    "    if total is None: total = len(arr)\n",
    "    results = []\n",
    "    with ProcessPoolExecutor(max_workers=max_workers) as ex:\n",
    "        futures = [ex.submit(func,o) for i,o in enumerate(arr)]\n",
    "        for f in tqdm(concurrent.futures.as_completed(futures, timeout=timeout), total=total):\n",
    "            res = f.result(timeout=timeout)\n",
    "            if res is not None:\n",
    "                results.append(res)\n",
    "    return results"
   ]
  },
  {
   "cell_type": "markdown",
   "metadata": {},
   "source": [
    "### Need better midi formatting"
   ]
  },
  {
   "cell_type": "code",
   "execution_count": 19,
   "metadata": {},
   "outputs": [],
   "source": [
    "def transform_func(metadata):\n",
    "    result = metadata.copy()\n",
    "    \n",
    "    # Part 1. Compress tracks/instruments\n",
    "    if isinstance(metadata.get('midi'), str):\n",
    "        input_path = version_path/metadata['midi']\n",
    "    else:\n",
    "        input_path = version_path/metadata.get('mxl', None)\n",
    "    extension = input_path.suffix.lower()\n",
    "    if not input_path.exists(): \n",
    "        print('Input path does not exist:', input_path, metadata)\n",
    "        return None\n",
    "    \n",
    "    # Get outfile and check if it exists\n",
    "    out_file = Path(str(input_path).replace(f'/{source_dir}/', f'/{out_dir}/'))\n",
    "    out_file = out_file.with_suffix('.npy')\n",
    "    out_file.parent.mkdir(parents=True, exist_ok=True)\n",
    "    if out_file.exists(): \n",
    "        result['numpy'] = str(out_file.relative_to(version_path))\n",
    "        return result\n",
    "    return None\n",
    "#     print(input_path)\n",
    "    if extension == '.mid':\n",
    "        try: input_file = compress_midi_file(input_path, cutoff=cutoff) # remove non note tracks and standardize instruments\n",
    "        except music21.midi.MidiException as e:\n",
    "            print('Error parsing midi', input_path, e)\n",
    "            return None\n",
    "        if not input_file: return None\n",
    "    elif extension in ['.mxl', '.xml']:\n",
    "        input_file = input_path\n",
    "    else:\n",
    "        raise Exception('Error finding extension:', input_path, extension)\n",
    "        \n",
    "    # Part 2. Compress rests and long notes\n",
    "    stream = file2stream(input_file) # 1.\n",
    "#     chordarr = stream2chordarr(stream, max_dur=128, flat=True) # 2. max_dur = quarter_len * sample_freq (4). 128 = 8 bars\n",
    "    chordarr = stream2chordarr(stream, max_dur=128, flat=(extension != '.mid')) # 2. max_dur = quarter_len * sample_freq (4). 128 = 8 bars\n",
    "    \n",
    "    chord_short = compress_chordarr(chordarr)\n",
    "    delta_trim = chordarr.shape[0] - chord_short.shape[0]\n",
    "    if delta_trim > 100: print(f'Removed {delta_trim} rests from {input_path}')\n",
    "    chordarr = chord_short\n",
    "    \n",
    "    # Part 3. Chord array to numpy\n",
    "    seq = chordarr2seq(chordarr)\n",
    "    if len(seq) < 32:\n",
    "        print('Sequence too short:', len(seq), input_path)\n",
    "        return None\n",
    "    \n",
    "    npenc = seq2npenc(seq, num_comps=num_comps)\n",
    "    if (npenc[...,1] > 128+ENC_OFFSET).any(): \n",
    "        print('npenc exceeds max 128 duration:', input_path)\n",
    "        return None\n",
    "    \n",
    "    if ((npenc[...,0] > ENC_OFFSET) & ((npenc[...,0] < 12+ENC_OFFSET) | (npenc[...,0] >= 127-12+ENC_OFFSET))).any(): \n",
    "        print('npenc out of note range 12 - 116:', input_path)\n",
    "        return None\n",
    "    \n",
    "    \n",
    "    np.save(out_file, npenc)\n",
    "    \n",
    "    result['numpy'] = str(out_file.relative_to(version_path))\n",
    "    return result"
   ]
  },
  {
   "cell_type": "code",
   "execution_count": 20,
   "metadata": {},
   "outputs": [],
   "source": [
    "# # sanity check\n",
    "# import random\n",
    "# for r in random.sample(ecomp_records, 500):\n",
    "#     transform_func(r)\n",
    "        "
   ]
  },
  {
   "cell_type": "code",
   "execution_count": 21,
   "metadata": {},
   "outputs": [],
   "source": [
    "### AS TOD: Fix 'info channel is not channel 0' error"
   ]
  },
  {
   "cell_type": "code",
   "execution_count": 22,
   "metadata": {},
   "outputs": [],
   "source": [
    "# all_records = all_records[60000:]"
   ]
  },
  {
   "cell_type": "code",
   "execution_count": 23,
   "metadata": {
    "scrolled": true
   },
   "outputs": [
    {
     "name": "stderr",
     "output_type": "stream",
     "text": [
      "100%|██████████| 163430/163430 [00:49<00:00, 3287.52it/s]\n"
     ]
    }
   ],
   "source": [
    "processed = process_all(transform_func, all_records)"
   ]
  },
  {
   "cell_type": "code",
   "execution_count": 24,
   "metadata": {},
   "outputs": [],
   "source": [
    "from src.data_sources import arr2csv"
   ]
  },
  {
   "cell_type": "code",
   "execution_count": 25,
   "metadata": {},
   "outputs": [],
   "source": [
    "arr2csv(processed, out_csv)"
   ]
  },
  {
   "cell_type": "code",
   "execution_count": 26,
   "metadata": {},
   "outputs": [
    {
     "name": "stderr",
     "output_type": "stream",
     "text": [
      "/home/ubuntu/anaconda3/envs/midi/lib/python3.7/site-packages/IPython/core/interactiveshell.py:3020: DtypeWarning: Columns (0,1,4,9,10,15) have mixed types. Specify dtype option on import or set low_memory=False.\n",
      "  interactivity=interactivity, compiler=compiler, result=result)\n"
     ]
    }
   ],
   "source": [
    "df = pd.read_csv(out_csv)"
   ]
  },
  {
   "cell_type": "code",
   "execution_count": 28,
   "metadata": {},
   "outputs": [
    {
     "data": {
      "text/html": [
       "<div>\n",
       "<style scoped>\n",
       "    .dataframe tbody tr th:only-of-type {\n",
       "        vertical-align: middle;\n",
       "    }\n",
       "\n",
       "    .dataframe tbody tr th {\n",
       "        vertical-align: top;\n",
       "    }\n",
       "\n",
       "    .dataframe thead th {\n",
       "        text-align: right;\n",
       "    }\n",
       "</style>\n",
       "<table border=\"1\" class=\"dataframe\">\n",
       "  <thead>\n",
       "    <tr style=\"text-align: right;\">\n",
       "      <th></th>\n",
       "      <th>mxl</th>\n",
       "      <th>section</th>\n",
       "      <th>md5</th>\n",
       "      <th>midi</th>\n",
       "      <th>song_url</th>\n",
       "      <th>source</th>\n",
       "      <th>ht_time_signature</th>\n",
       "      <th>numpy</th>\n",
       "      <th>title</th>\n",
       "      <th>midi_title</th>\n",
       "      <th>parts</th>\n",
       "      <th>ht_offset</th>\n",
       "      <th>ht_mode</th>\n",
       "      <th>ht_bpm</th>\n",
       "      <th>artist</th>\n",
       "      <th>ht_key</th>\n",
       "      <th>genres</th>\n",
       "    </tr>\n",
       "  </thead>\n",
       "  <tbody>\n",
       "    <tr>\n",
       "      <th>0</th>\n",
       "      <td>NaN</td>\n",
       "      <td>chorus</td>\n",
       "      <td>bf1f29e5ff84e3e93e37fb873bfb590e</td>\n",
       "      <td>midi_sources/hooktheory/pianoroll/w/wayne-shar...</td>\n",
       "      <td>https://www.hooktheory.com/theorytab/view/wayn...</td>\n",
       "      <td>hooktheory</td>\n",
       "      <td>4.0</td>\n",
       "      <td>midi_encode/hooktheory/pianoroll/w/wayne-sharp...</td>\n",
       "      <td>yu-gi-oh-theme-song</td>\n",
       "      <td>yu-gi-oh3</td>\n",
       "      <td>intro,chorus</td>\n",
       "      <td>0.0</td>\n",
       "      <td>1.0</td>\n",
       "      <td>128.0</td>\n",
       "      <td>wayne-sharpe</td>\n",
       "      <td>C</td>\n",
       "      <td>NaN</td>\n",
       "    </tr>\n",
       "    <tr>\n",
       "      <th>1</th>\n",
       "      <td>NaN</td>\n",
       "      <td>pre-chorus</td>\n",
       "      <td>9e7ce13a35f1314423a9a6d5a5287a4a</td>\n",
       "      <td>midi_sources/hooktheory/pianoroll/w/whiteflame...</td>\n",
       "      <td>https://www.hooktheory.com/theorytab/view/whit...</td>\n",
       "      <td>hooktheory</td>\n",
       "      <td>4.0</td>\n",
       "      <td>midi_encode/hooktheory/pianoroll/w/whiteflame/...</td>\n",
       "      <td>senbonzakura</td>\n",
       "      <td>senbonzakura - pre-Pre-Chorus</td>\n",
       "      <td>verse,pre-chorus,chorus</td>\n",
       "      <td>-5.0</td>\n",
       "      <td>6.0</td>\n",
       "      <td>152.0</td>\n",
       "      <td>whiteflame</td>\n",
       "      <td>D</td>\n",
       "      <td>J-Pop,Pop</td>\n",
       "    </tr>\n",
       "    <tr>\n",
       "      <th>2</th>\n",
       "      <td>NaN</td>\n",
       "      <td>chorus</td>\n",
       "      <td>e76bfe452839d0d653a8eb920f117905</td>\n",
       "      <td>midi_sources/hooktheory/pianoroll/w/wavves/nin...</td>\n",
       "      <td>https://www.hooktheory.com/theorytab/view/wavv...</td>\n",
       "      <td>hooktheory</td>\n",
       "      <td>4.0</td>\n",
       "      <td>midi_encode/hooktheory/pianoroll/w/wavves/nine...</td>\n",
       "      <td>nine-is-god</td>\n",
       "      <td>Nine is God</td>\n",
       "      <td>verse,chorus</td>\n",
       "      <td>-4.0</td>\n",
       "      <td>1.0</td>\n",
       "      <td>122.0</td>\n",
       "      <td>wavves</td>\n",
       "      <td>E</td>\n",
       "      <td>NaN</td>\n",
       "    </tr>\n",
       "    <tr>\n",
       "      <th>3</th>\n",
       "      <td>NaN</td>\n",
       "      <td>verse</td>\n",
       "      <td>d5aaf79d0989222f1362f9f46c540a27</td>\n",
       "      <td>midi_sources/hooktheory/pianoroll/w/whiteflame...</td>\n",
       "      <td>https://www.hooktheory.com/theorytab/view/whit...</td>\n",
       "      <td>hooktheory</td>\n",
       "      <td>4.0</td>\n",
       "      <td>midi_encode/hooktheory/pianoroll/w/whiteflame/...</td>\n",
       "      <td>senbonzakura</td>\n",
       "      <td>Senbonzakura</td>\n",
       "      <td>verse,pre-chorus,chorus</td>\n",
       "      <td>-5.0</td>\n",
       "      <td>6.0</td>\n",
       "      <td>152.0</td>\n",
       "      <td>whiteflame</td>\n",
       "      <td>D</td>\n",
       "      <td>J-Pop,Pop</td>\n",
       "    </tr>\n",
       "    <tr>\n",
       "      <th>4</th>\n",
       "      <td>NaN</td>\n",
       "      <td>chorus</td>\n",
       "      <td>e0c189ee753b30c4758d85211f13c189</td>\n",
       "      <td>midi_sources/hooktheory/pianoroll/w/whiteflame...</td>\n",
       "      <td>https://www.hooktheory.com/theorytab/view/whit...</td>\n",
       "      <td>hooktheory</td>\n",
       "      <td>4.0</td>\n",
       "      <td>midi_encode/hooktheory/pianoroll/w/whiteflame/...</td>\n",
       "      <td>senbonzakura</td>\n",
       "      <td>Senbonzakura</td>\n",
       "      <td>verse,pre-chorus,chorus</td>\n",
       "      <td>-5.0</td>\n",
       "      <td>6.0</td>\n",
       "      <td>152.0</td>\n",
       "      <td>whiteflame</td>\n",
       "      <td>D</td>\n",
       "      <td>J-Pop,Pop</td>\n",
       "    </tr>\n",
       "  </tbody>\n",
       "</table>\n",
       "</div>"
      ],
      "text/plain": [
       "   mxl     section                               md5  \\\n",
       "0  NaN      chorus  bf1f29e5ff84e3e93e37fb873bfb590e   \n",
       "1  NaN  pre-chorus  9e7ce13a35f1314423a9a6d5a5287a4a   \n",
       "2  NaN      chorus  e76bfe452839d0d653a8eb920f117905   \n",
       "3  NaN       verse  d5aaf79d0989222f1362f9f46c540a27   \n",
       "4  NaN      chorus  e0c189ee753b30c4758d85211f13c189   \n",
       "\n",
       "                                                midi  \\\n",
       "0  midi_sources/hooktheory/pianoroll/w/wayne-shar...   \n",
       "1  midi_sources/hooktheory/pianoroll/w/whiteflame...   \n",
       "2  midi_sources/hooktheory/pianoroll/w/wavves/nin...   \n",
       "3  midi_sources/hooktheory/pianoroll/w/whiteflame...   \n",
       "4  midi_sources/hooktheory/pianoroll/w/whiteflame...   \n",
       "\n",
       "                                            song_url      source  \\\n",
       "0  https://www.hooktheory.com/theorytab/view/wayn...  hooktheory   \n",
       "1  https://www.hooktheory.com/theorytab/view/whit...  hooktheory   \n",
       "2  https://www.hooktheory.com/theorytab/view/wavv...  hooktheory   \n",
       "3  https://www.hooktheory.com/theorytab/view/whit...  hooktheory   \n",
       "4  https://www.hooktheory.com/theorytab/view/whit...  hooktheory   \n",
       "\n",
       "   ht_time_signature                                              numpy  \\\n",
       "0                4.0  midi_encode/hooktheory/pianoroll/w/wayne-sharp...   \n",
       "1                4.0  midi_encode/hooktheory/pianoroll/w/whiteflame/...   \n",
       "2                4.0  midi_encode/hooktheory/pianoroll/w/wavves/nine...   \n",
       "3                4.0  midi_encode/hooktheory/pianoroll/w/whiteflame/...   \n",
       "4                4.0  midi_encode/hooktheory/pianoroll/w/whiteflame/...   \n",
       "\n",
       "                 title                     midi_title  \\\n",
       "0  yu-gi-oh-theme-song                      yu-gi-oh3   \n",
       "1         senbonzakura  senbonzakura - pre-Pre-Chorus   \n",
       "2          nine-is-god                    Nine is God   \n",
       "3         senbonzakura                   Senbonzakura   \n",
       "4         senbonzakura                   Senbonzakura   \n",
       "\n",
       "                     parts  ht_offset  ht_mode  ht_bpm        artist ht_key  \\\n",
       "0             intro,chorus        0.0      1.0   128.0  wayne-sharpe      C   \n",
       "1  verse,pre-chorus,chorus       -5.0      6.0   152.0    whiteflame      D   \n",
       "2             verse,chorus       -4.0      1.0   122.0        wavves      E   \n",
       "3  verse,pre-chorus,chorus       -5.0      6.0   152.0    whiteflame      D   \n",
       "4  verse,pre-chorus,chorus       -5.0      6.0   152.0    whiteflame      D   \n",
       "\n",
       "      genres  \n",
       "0        NaN  \n",
       "1  J-Pop,Pop  \n",
       "2        NaN  \n",
       "3  J-Pop,Pop  \n",
       "4  J-Pop,Pop  "
      ]
     },
     "execution_count": 28,
     "metadata": {},
     "output_type": "execute_result"
    }
   ],
   "source": [
    "df.head()"
   ]
  }
 ],
 "metadata": {
  "kernelspec": {
   "display_name": "Python 3",
   "language": "python",
   "name": "python3"
  },
  "language_info": {
   "codemirror_mode": {
    "name": "ipython",
    "version": 3
   },
   "file_extension": ".py",
   "mimetype": "text/x-python",
   "name": "python",
   "nbconvert_exporter": "python",
   "pygments_lexer": "ipython3",
   "version": "3.7.1"
  }
 },
 "nbformat": 4,
 "nbformat_minor": 2
}

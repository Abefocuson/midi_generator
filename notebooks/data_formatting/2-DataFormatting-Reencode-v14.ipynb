{
 "cells": [
  {
   "cell_type": "code",
   "execution_count": 1,
   "metadata": {},
   "outputs": [],
   "source": [
    "%reload_ext autoreload\n",
    "%autoreload 2\n",
    "%matplotlib inline"
   ]
  },
  {
   "cell_type": "code",
   "execution_count": 2,
   "metadata": {},
   "outputs": [],
   "source": [
    "import sys\n",
    "sys.path.insert(0, '../../')\n",
    "from src.encode_data import *\n",
    "from src.midi_data import *\n",
    "# from src.data_sources import process_parallel, transform_csv_row\n",
    "from src.midi_transform import *\n",
    "from src.data_sources import process_all, arr2csv"
   ]
  },
  {
   "cell_type": "code",
   "execution_count": 3,
   "metadata": {},
   "outputs": [],
   "source": [
    "from tqdm import tqdm"
   ]
  },
  {
   "cell_type": "markdown",
   "metadata": {},
   "source": [
    "## Standardize and reformat raw midi files before encoding to text\n",
    "- Transform key to C major\n",
    "- Remove unused instruments\n",
    "- Combine multiple tracks with the same instrument into a single part\n",
    "- Melody, Piano, String"
   ]
  },
  {
   "cell_type": "markdown",
   "metadata": {},
   "source": [
    "### Load midi data"
   ]
  },
  {
   "cell_type": "code",
   "execution_count": 4,
   "metadata": {},
   "outputs": [],
   "source": [
    "version = 'v14'\n",
    "data_path = Path('data/midi')\n",
    "version_path = data_path/version"
   ]
  },
  {
   "cell_type": "code",
   "execution_count": 5,
   "metadata": {},
   "outputs": [],
   "source": [
    "import pandas as pd"
   ]
  },
  {
   "cell_type": "code",
   "execution_count": 6,
   "metadata": {},
   "outputs": [
    {
     "data": {
      "text/plain": [
       "PosixPath('data/midi/v14/piano_duet/piano_duet.csv')"
      ]
     },
     "execution_count": 6,
     "metadata": {},
     "output_type": "execute_result"
    }
   ],
   "source": [
    "out_dir = 'piano_duet'\n",
    "source_csv = version_path/out_dir/f'{out_dir}.csv'\n",
    "source_csv.parent.mkdir(parents=True, exist_ok=True)\n",
    "source_csv"
   ]
  },
  {
   "cell_type": "code",
   "execution_count": 7,
   "metadata": {},
   "outputs": [],
   "source": [
    "num_comps = 2 # note, duration\n",
    "cutoff = 4 # max instruments"
   ]
  },
  {
   "cell_type": "code",
   "execution_count": 8,
   "metadata": {},
   "outputs": [
    {
     "name": "stderr",
     "output_type": "stream",
     "text": [
      "/home/ubuntu/anaconda3/envs/midi/lib/python3.7/site-packages/IPython/core/interactiveshell.py:3020: DtypeWarning: Columns (3,7,8,14,15,16) have mixed types. Specify dtype option on import or set low_memory=False.\n",
      "  interactivity=interactivity, compiler=compiler, result=result)\n"
     ]
    },
    {
     "data": {
      "text/html": [
       "<div>\n",
       "<style scoped>\n",
       "    .dataframe tbody tr th:only-of-type {\n",
       "        vertical-align: middle;\n",
       "    }\n",
       "\n",
       "    .dataframe tbody tr th {\n",
       "        vertical-align: top;\n",
       "    }\n",
       "\n",
       "    .dataframe thead th {\n",
       "        text-align: right;\n",
       "    }\n",
       "</style>\n",
       "<table border=\"1\" class=\"dataframe\">\n",
       "  <thead>\n",
       "    <tr style=\"text-align: right;\">\n",
       "      <th></th>\n",
       "      <th>artist</th>\n",
       "      <th>ht_time_signature</th>\n",
       "      <th>ht_offset</th>\n",
       "      <th>song_url</th>\n",
       "      <th>midi</th>\n",
       "      <th>source</th>\n",
       "      <th>genres</th>\n",
       "      <th>section</th>\n",
       "      <th>midi_title</th>\n",
       "      <th>md5</th>\n",
       "      <th>ht_bpm</th>\n",
       "      <th>title</th>\n",
       "      <th>ht_mode</th>\n",
       "      <th>numpy</th>\n",
       "      <th>parts</th>\n",
       "      <th>ht_key</th>\n",
       "      <th>mxl</th>\n",
       "    </tr>\n",
       "  </thead>\n",
       "  <tbody>\n",
       "    <tr>\n",
       "      <th>0</th>\n",
       "      <td>wayne-sharpe</td>\n",
       "      <td>4.0</td>\n",
       "      <td>0.0</td>\n",
       "      <td>https://www.hooktheory.com/theorytab/view/wayn...</td>\n",
       "      <td>midi_sources/hooktheory/pianoroll/w/wayne-shar...</td>\n",
       "      <td>hooktheory</td>\n",
       "      <td>NaN</td>\n",
       "      <td>chorus</td>\n",
       "      <td>yu-gi-oh3</td>\n",
       "      <td>bf1f29e5ff84e3e93e37fb873bfb590e</td>\n",
       "      <td>128.0</td>\n",
       "      <td>yu-gi-oh-theme-song</td>\n",
       "      <td>1.0</td>\n",
       "      <td>piano_duet/hooktheory/pianoroll/w/wayne-sharpe...</td>\n",
       "      <td>intro,chorus</td>\n",
       "      <td>C</td>\n",
       "      <td>NaN</td>\n",
       "    </tr>\n",
       "    <tr>\n",
       "      <th>1</th>\n",
       "      <td>wayne-sharpe</td>\n",
       "      <td>3.0</td>\n",
       "      <td>0.0</td>\n",
       "      <td>https://www.hooktheory.com/theorytab/view/wayn...</td>\n",
       "      <td>midi_sources/hooktheory/pianoroll/w/wayne-shar...</td>\n",
       "      <td>hooktheory</td>\n",
       "      <td>NaN</td>\n",
       "      <td>intro</td>\n",
       "      <td>yu-gi-oh</td>\n",
       "      <td>055f80ad67f64edb14a85ca8fbfe8c29</td>\n",
       "      <td>85.0</td>\n",
       "      <td>yu-gi-oh-theme-song</td>\n",
       "      <td>1.0</td>\n",
       "      <td>piano_duet/hooktheory/pianoroll/w/wayne-sharpe...</td>\n",
       "      <td>intro,chorus</td>\n",
       "      <td>C</td>\n",
       "      <td>NaN</td>\n",
       "    </tr>\n",
       "    <tr>\n",
       "      <th>2</th>\n",
       "      <td>what-a-day</td>\n",
       "      <td>4.0</td>\n",
       "      <td>-5.0</td>\n",
       "      <td>https://www.hooktheory.com/theorytab/view/what...</td>\n",
       "      <td>midi_sources/hooktheory/pianoroll/w/what-a-day...</td>\n",
       "      <td>hooktheory</td>\n",
       "      <td>Jazz</td>\n",
       "      <td>chorus</td>\n",
       "      <td>kiefer</td>\n",
       "      <td>197f96f5d181f6ce1e2c5ab04ac1ff87</td>\n",
       "      <td>96.0</td>\n",
       "      <td>kiefer</td>\n",
       "      <td>6.0</td>\n",
       "      <td>piano_duet/hooktheory/pianoroll/w/what-a-day/k...</td>\n",
       "      <td>chorus</td>\n",
       "      <td>D</td>\n",
       "      <td>NaN</td>\n",
       "    </tr>\n",
       "    <tr>\n",
       "      <th>3</th>\n",
       "      <td>whiteflame</td>\n",
       "      <td>4.0</td>\n",
       "      <td>-5.0</td>\n",
       "      <td>https://www.hooktheory.com/theorytab/view/whit...</td>\n",
       "      <td>midi_sources/hooktheory/pianoroll/w/whiteflame...</td>\n",
       "      <td>hooktheory</td>\n",
       "      <td>J-Pop,Pop</td>\n",
       "      <td>pre-chorus</td>\n",
       "      <td>senbonzakura - pre-Pre-Chorus</td>\n",
       "      <td>9e7ce13a35f1314423a9a6d5a5287a4a</td>\n",
       "      <td>152.0</td>\n",
       "      <td>senbonzakura</td>\n",
       "      <td>6.0</td>\n",
       "      <td>piano_duet/hooktheory/pianoroll/w/whiteflame/s...</td>\n",
       "      <td>verse,pre-chorus,chorus</td>\n",
       "      <td>D</td>\n",
       "      <td>NaN</td>\n",
       "    </tr>\n",
       "    <tr>\n",
       "      <th>4</th>\n",
       "      <td>whiteflame</td>\n",
       "      <td>4.0</td>\n",
       "      <td>-5.0</td>\n",
       "      <td>https://www.hooktheory.com/theorytab/view/whit...</td>\n",
       "      <td>midi_sources/hooktheory/pianoroll/w/whiteflame...</td>\n",
       "      <td>hooktheory</td>\n",
       "      <td>J-Pop,Pop</td>\n",
       "      <td>verse</td>\n",
       "      <td>Senbonzakura</td>\n",
       "      <td>d5aaf79d0989222f1362f9f46c540a27</td>\n",
       "      <td>152.0</td>\n",
       "      <td>senbonzakura</td>\n",
       "      <td>6.0</td>\n",
       "      <td>piano_duet/hooktheory/pianoroll/w/whiteflame/s...</td>\n",
       "      <td>verse,pre-chorus,chorus</td>\n",
       "      <td>D</td>\n",
       "      <td>NaN</td>\n",
       "    </tr>\n",
       "  </tbody>\n",
       "</table>\n",
       "</div>"
      ],
      "text/plain": [
       "         artist  ht_time_signature  ht_offset  \\\n",
       "0  wayne-sharpe                4.0        0.0   \n",
       "1  wayne-sharpe                3.0        0.0   \n",
       "2    what-a-day                4.0       -5.0   \n",
       "3    whiteflame                4.0       -5.0   \n",
       "4    whiteflame                4.0       -5.0   \n",
       "\n",
       "                                            song_url  \\\n",
       "0  https://www.hooktheory.com/theorytab/view/wayn...   \n",
       "1  https://www.hooktheory.com/theorytab/view/wayn...   \n",
       "2  https://www.hooktheory.com/theorytab/view/what...   \n",
       "3  https://www.hooktheory.com/theorytab/view/whit...   \n",
       "4  https://www.hooktheory.com/theorytab/view/whit...   \n",
       "\n",
       "                                                midi      source     genres  \\\n",
       "0  midi_sources/hooktheory/pianoroll/w/wayne-shar...  hooktheory        NaN   \n",
       "1  midi_sources/hooktheory/pianoroll/w/wayne-shar...  hooktheory        NaN   \n",
       "2  midi_sources/hooktheory/pianoroll/w/what-a-day...  hooktheory       Jazz   \n",
       "3  midi_sources/hooktheory/pianoroll/w/whiteflame...  hooktheory  J-Pop,Pop   \n",
       "4  midi_sources/hooktheory/pianoroll/w/whiteflame...  hooktheory  J-Pop,Pop   \n",
       "\n",
       "      section                     midi_title  \\\n",
       "0      chorus                      yu-gi-oh3   \n",
       "1       intro                       yu-gi-oh   \n",
       "2      chorus                         kiefer   \n",
       "3  pre-chorus  senbonzakura - pre-Pre-Chorus   \n",
       "4       verse                   Senbonzakura   \n",
       "\n",
       "                                md5  ht_bpm                title  ht_mode  \\\n",
       "0  bf1f29e5ff84e3e93e37fb873bfb590e   128.0  yu-gi-oh-theme-song      1.0   \n",
       "1  055f80ad67f64edb14a85ca8fbfe8c29    85.0  yu-gi-oh-theme-song      1.0   \n",
       "2  197f96f5d181f6ce1e2c5ab04ac1ff87    96.0               kiefer      6.0   \n",
       "3  9e7ce13a35f1314423a9a6d5a5287a4a   152.0         senbonzakura      6.0   \n",
       "4  d5aaf79d0989222f1362f9f46c540a27   152.0         senbonzakura      6.0   \n",
       "\n",
       "                                               numpy                    parts  \\\n",
       "0  piano_duet/hooktheory/pianoroll/w/wayne-sharpe...             intro,chorus   \n",
       "1  piano_duet/hooktheory/pianoroll/w/wayne-sharpe...             intro,chorus   \n",
       "2  piano_duet/hooktheory/pianoroll/w/what-a-day/k...                   chorus   \n",
       "3  piano_duet/hooktheory/pianoroll/w/whiteflame/s...  verse,pre-chorus,chorus   \n",
       "4  piano_duet/hooktheory/pianoroll/w/whiteflame/s...  verse,pre-chorus,chorus   \n",
       "\n",
       "  ht_key  mxl  \n",
       "0      C  NaN  \n",
       "1      C  NaN  \n",
       "2      D  NaN  \n",
       "3      D  NaN  \n",
       "4      D  NaN  "
      ]
     },
     "execution_count": 8,
     "metadata": {},
     "output_type": "execute_result"
    }
   ],
   "source": [
    "df = pd.read_csv(source_csv); df.head()"
   ]
  },
  {
   "cell_type": "code",
   "execution_count": 9,
   "metadata": {},
   "outputs": [],
   "source": [
    "ecomp_records = df.loc[df.source == 'ecomp'].to_dict(orient='records')"
   ]
  },
  {
   "cell_type": "code",
   "execution_count": 10,
   "metadata": {},
   "outputs": [],
   "source": [
    "all_records = df.to_dict(orient='records')"
   ]
  },
  {
   "cell_type": "markdown",
   "metadata": {},
   "source": [
    "### Need better midi formatting"
   ]
  },
  {
   "cell_type": "code",
   "execution_count": 11,
   "metadata": {},
   "outputs": [],
   "source": [
    "old_sep = -2\n",
    "old_eoff = 3"
   ]
  },
  {
   "cell_type": "code",
   "execution_count": 12,
   "metadata": {},
   "outputs": [],
   "source": [
    "from src.fastai_data import *\n",
    "vocab = MusicVocab.create()"
   ]
  },
  {
   "cell_type": "code",
   "execution_count": 13,
   "metadata": {},
   "outputs": [],
   "source": [
    "def transform_func(metadata):\n",
    "    input_path = version_path/'old'/metadata['numpy']\n",
    "    output_path = version_path/metadata['numpy']\n",
    "#     if not input_path.exists(): return\n",
    "#     if output_path.exists(): return\n",
    "    output_path.parent.mkdir(parents=True, exist_ok=True)\n",
    "    np_array = np.load(input_path)[1:] - old_eoff\n",
    "    np_array[np_array[:,0] == old_sep, 0] = VALTSEP\n",
    "    np.save(output_path, np_array)\n",
    "#     print(output_path)"
   ]
  },
  {
   "cell_type": "code",
   "execution_count": 14,
   "metadata": {},
   "outputs": [],
   "source": [
    "# # sanity check\n",
    "# import random\n",
    "# for r in random.sample(ecomp_records, 500):\n",
    "#     transform_func(r)\n",
    "        "
   ]
  },
  {
   "cell_type": "code",
   "execution_count": 15,
   "metadata": {
    "scrolled": true
   },
   "outputs": [
    {
     "data": {
      "text/html": [
       "\n",
       "    <div>\n",
       "        <style>\n",
       "            /* Turns off some styling */\n",
       "            progress {\n",
       "                /* gets rid of default border in Firefox and Opera. */\n",
       "                border: none;\n",
       "                /* Needs to be in here for Safari polyfill so background images work as expected. */\n",
       "                background-size: auto;\n",
       "            }\n",
       "            .progress-bar-interrupted, .progress-bar-interrupted::-webkit-progress-bar {\n",
       "                background: #F44336;\n",
       "            }\n",
       "        </style>\n",
       "      <progress value='112614' class='' max='112614', style='width:300px; height:20px; vertical-align: middle;'></progress>\n",
       "      100.00% [112614/112614 00:24<00:00]\n",
       "    </div>\n",
       "    "
      ],
      "text/plain": [
       "<IPython.core.display.HTML object>"
      ]
     },
     "metadata": {},
     "output_type": "display_data"
    }
   ],
   "source": [
    "processed = process_all(transform_func, all_records)"
   ]
  },
  {
   "cell_type": "code",
   "execution_count": 15,
   "metadata": {},
   "outputs": [],
   "source": [
    "### AS TOD: Fix 'info channel is not channel 0' error"
   ]
  },
  {
   "cell_type": "code",
   "execution_count": 16,
   "metadata": {},
   "outputs": [],
   "source": [
    "# all_records = all_records[60000:]"
   ]
  },
  {
   "cell_type": "markdown",
   "metadata": {},
   "source": [
    "## Sanity check"
   ]
  },
  {
   "cell_type": "code",
   "execution_count": 17,
   "metadata": {},
   "outputs": [],
   "source": [
    "m1 = all_records[0]"
   ]
  },
  {
   "cell_type": "code",
   "execution_count": 18,
   "metadata": {},
   "outputs": [],
   "source": [
    "transform_func(m1)"
   ]
  },
  {
   "cell_type": "code",
   "execution_count": 19,
   "metadata": {},
   "outputs": [
    {
     "data": {
      "text/plain": [
       "array([[-1,  2],\n",
       "       [55,  1],\n",
       "       [-1,  1],\n",
       "       [54,  1],\n",
       "       ...,\n",
       "       [-1,  8],\n",
       "       [58, 16],\n",
       "       [54, 16],\n",
       "       [51, 16]])"
      ]
     },
     "execution_count": 19,
     "metadata": {},
     "output_type": "execute_result"
    }
   ],
   "source": [
    "tfm_arr = np.load(version_path/m1['numpy']); tfm_arr"
   ]
  },
  {
   "cell_type": "code",
   "execution_count": 20,
   "metadata": {},
   "outputs": [
    {
     "data": {
      "text/plain": [
       "array([[  2, 132],\n",
       "       [  1,   5],\n",
       "       [ 58,   4],\n",
       "       [  1,   4],\n",
       "       ...,\n",
       "       [  1,  11],\n",
       "       [ 61,  19],\n",
       "       [ 57,  19],\n",
       "       [ 54,  19]])"
      ]
     },
     "execution_count": 20,
     "metadata": {},
     "output_type": "execute_result"
    }
   ],
   "source": [
    "test = np.load(version_path/'old'/m1['numpy']); test"
   ]
  },
  {
   "cell_type": "code",
   "execution_count": 21,
   "metadata": {},
   "outputs": [],
   "source": [
    "s = npenc2stream(tfm_arr)"
   ]
  },
  {
   "cell_type": "code",
   "execution_count": 22,
   "metadata": {},
   "outputs": [
    {
     "data": {
      "image/png": "[encoded data removed]",
      "text/plain": [
       "<IPython.core.display.Image object>"
      ]
     },
     "metadata": {
      "image/png": {
       "height": 66,
       "width": 748
      }
     },
     "output_type": "display_data"
    }
   ],
   "source": [
    "s.show()"
   ]
  },
  {
   "cell_type": "code",
   "execution_count": 23,
   "metadata": {},
   "outputs": [
    {
     "data": {
      "text/html": [
       "\n",
       "                <div id='midiPlayerDiv1376'></div>\n",
       "                <link rel=\"stylesheet\" href=\"//cuthbertLab.github.io/music21j/css/m21.css\"\n",
       "                    type=\"text/css\" />\n",
       "                <script>\n",
       "                require.config({\n",
       "                    paths: {'music21': '//cuthbertLab.github.io/music21j/src/music21'}\n",
       "                });\n",
       "                require(['music21'], function() {\n",
       "                               mp = new music21.miditools.MidiPlayer();\n",
       "                               mp.addPlayer('#midiPlayerDiv1376');\n",
       "                               mp.base64Load('data:audio/midi;base64,TVRoZAAAAAYAAQABBABNVHJrAAABrwD/AwVQaWFubwDAAADgAEAAwAAA/1EDB6EgggCQN1qCAIA3AACQNlqCAIA2AACQLVqCAIAtAACQNVqCAIA1AACQNFqCAIA0AACQLVqCAIAtAACQNVqCAIA1AACQNFqCAIA0AACQLVqGAIAtAACQN1qCAIA3AACQNlqCAIA2AACQN1qCAIA3AACQPVqCAIA9AACQNFoAkDdaAJA7WqAAgDQAAIA3AACAOwAAkDRaAJA3WgCQOVoAkDxakACANAAAgDcAAIA5AACAPAAAkDRaAJA3WgCQO1qQAIA0AACANwAAgDsAAJArWgCQLloAkDJasACAKwAAgC4AAIAyAACQK1oAkC1aAJAwWgCQNFqIAIArAACALQAAgDAAAIA0AACQLVoAkC9aAJAyWgCQNlqIAIAtAACALwAAgDIAAIA2AACQMFoAkDNaAJA3WqAAgDAAAIAzAACANwAAkDVaAJA4WgCQPFoAkD5akACANQAAgDgAAIA8AACAPgAAkDBaAJAzWgCQN1qQAIAwAACAMwAAgDcAAJAzWgCQNloAkDpaoACAMwAAgDYAAIA6AIgA/y8A');\n",
       "                        });\n",
       "                </script>"
      ],
      "text/plain": [
       "<IPython.core.display.HTML object>"
      ]
     },
     "metadata": {},
     "output_type": "display_data"
    }
   ],
   "source": [
    "s.show('midi')"
   ]
  },
  {
   "cell_type": "code",
   "execution_count": 39,
   "metadata": {},
   "outputs": [
    {
     "data": {
      "text/plain": [
       "array([[  -8, -138],\n",
       "       [  -1,    2],\n",
       "       [  55,    1],\n",
       "       [  -1,    1],\n",
       "       ...,\n",
       "       [  -1,    8],\n",
       "       [  58,   16],\n",
       "       [  54,   16],\n",
       "       [  51,   16]])"
      ]
     },
     "execution_count": 39,
     "metadata": {},
     "output_type": "execute_result"
    }
   ],
   "source": [
    "to_double_stream(to_single_stream(tfm_arr, vocab), vocab)"
   ]
  },
  {
   "cell_type": "code",
   "execution_count": 42,
   "metadata": {},
   "outputs": [
    {
     "data": {
      "text/plain": [
       "True"
      ]
     },
     "execution_count": 42,
     "metadata": {},
     "output_type": "execute_result"
    }
   ],
   "source": [
    "(tfm_arr == to_double_stream(to_single_stream(tfm_arr, vocab), vocab)[1:]).all()"
   ]
  },
  {
   "cell_type": "markdown",
   "metadata": {},
   "source": [
    "## Compare wtih original transform"
   ]
  },
  {
   "cell_type": "code",
   "execution_count": 29,
   "metadata": {},
   "outputs": [],
   "source": [
    "def transform_midi(midi_file):\n",
    "    input_path = midi_file\n",
    "    \n",
    "#     if duet_only:\n",
    "#         try: \n",
    "#             if num_piano_tracks(input_path) not in [1, 2] : return None\n",
    "#         except Exception: return None\n",
    "    \n",
    "    try: input_file = compress_midi_file(input_path, cutoff=cutoff) # remove non note tracks and standardize instruments\n",
    "    except music21.midi.MidiException as e:\n",
    "        print('Error parsing midi', input_path, e)\n",
    "        return None\n",
    "    if not input_file: return None\n",
    "        \n",
    "    # Part 2. Compress rests and long notes\n",
    "    stream = file2stream(input_file) # 1.\n",
    "    try:\n",
    "        chordarr = stream2chordarr(stream, max_dur=DURATION_RANGE-2, flat=False) # 2. max_dur = quarter_len * sample_freq (4). 128 = 8 bars\n",
    "    except Exception as e:\n",
    "        print('Could not encode to chordarr:', input_path, e)\n",
    "        print(traceback.format_exc())\n",
    "        return None\n",
    "    \n",
    "    chord_trim = trim_chordarr_rests(chordarr)\n",
    "    chord_short = shorten_chordarr_rests(chord_trim)\n",
    "    delta_trim = chord_trim.shape[0] - chord_short.shape[0]\n",
    "    if delta_trim > 300: \n",
    "        print(f'Removed {delta_trim} rests from {input_path}. Skipping song')\n",
    "        return None\n",
    "    chordarr = chord_short\n",
    "    \n",
    "    # Part 3. Chord array to numpy\n",
    "    seq = chordarr2seq(chordarr)\n",
    "    if len(seq) < 32:\n",
    "        print('Sequence too short:', len(seq), input_path)\n",
    "        return None\n",
    "    \n",
    "    npenc = seq2npenc(seq)\n",
    "    if (npenc[:,1] >= DURATION_RANGE).any(): \n",
    "        print('npenc exceeds max 128 duration:', input_path)\n",
    "        return None\n",
    "    \n",
    "    # https://en.wikipedia.org/wiki/Scientific_pitch_notation - 88 key range - 21 = A0, 108 = C8\n",
    "    if ((npenc[...,0] > VALTSEP) & ((npenc[...,0] < PIANO_RANGE[0]) | (npenc[...,0] >= PIANO_RANGE[1]))).any(): \n",
    "        print('npenc out of piano note range 12 - 116:', input_path)\n",
    "        return None\n",
    "    \n",
    "    return npenc"
   ]
  },
  {
   "cell_type": "code",
   "execution_count": 30,
   "metadata": {},
   "outputs": [],
   "source": [
    "path = version_path/m1['midi']"
   ]
  },
  {
   "cell_type": "code",
   "execution_count": 31,
   "metadata": {},
   "outputs": [],
   "source": [
    "out = transform_midi(path)"
   ]
  },
  {
   "cell_type": "code",
   "execution_count": 32,
   "metadata": {},
   "outputs": [
    {
     "data": {
      "text/plain": [
       "array([[-1,  2],\n",
       "       [55,  1],\n",
       "       [-1,  1],\n",
       "       [54,  1],\n",
       "       ...,\n",
       "       [-1,  8],\n",
       "       [58, 16],\n",
       "       [54, 16],\n",
       "       [51, 16]])"
      ]
     },
     "execution_count": 32,
     "metadata": {},
     "output_type": "execute_result"
    }
   ],
   "source": [
    "out"
   ]
  },
  {
   "cell_type": "code",
   "execution_count": 33,
   "metadata": {},
   "outputs": [
    {
     "data": {
      "text/plain": [
       "True"
      ]
     },
     "execution_count": 33,
     "metadata": {},
     "output_type": "execute_result"
    }
   ],
   "source": [
    "(tfm_arr == out).all()"
   ]
  }
 ],
 "metadata": {
  "kernelspec": {
   "display_name": "Python 3",
   "language": "python",
   "name": "python3"
  },
  "language_info": {
   "codemirror_mode": {
    "name": "ipython",
    "version": 3
   },
   "file_extension": ".py",
   "mimetype": "text/x-python",
   "name": "python",
   "nbconvert_exporter": "python",
   "pygments_lexer": "ipython3",
   "version": "3.7.1"
  }
 },
 "nbformat": 4,
 "nbformat_minor": 2
}

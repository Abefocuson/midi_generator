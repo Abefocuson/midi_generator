{
 "cells": [
  {
   "cell_type": "markdown",
   "metadata": {},
   "source": [
    "### Create CSV from midi sources"
   ]
  },
  {
   "cell_type": "code",
   "execution_count": 1,
   "metadata": {},
   "outputs": [],
   "source": [
    "%reload_ext autoreload\n",
    "%autoreload 2\n",
    "%matplotlib inline"
   ]
  },
  {
   "cell_type": "code",
   "execution_count": 2,
   "metadata": {},
   "outputs": [],
   "source": [
    "import glob\n",
    "import os\n",
    "from tqdm import tqdm\n",
    "from IPython.display import Image, Audio\n",
    "import traceback"
   ]
  },
  {
   "cell_type": "code",
   "execution_count": 3,
   "metadata": {},
   "outputs": [],
   "source": [
    "# parallel\n",
    "from functools import partial\n",
    "from pathlib import Path"
   ]
  },
  {
   "cell_type": "code",
   "execution_count": 4,
   "metadata": {},
   "outputs": [],
   "source": [
    "import sys\n",
    "sys.path.insert(0, '../../')"
   ]
  },
  {
   "cell_type": "code",
   "execution_count": 5,
   "metadata": {},
   "outputs": [],
   "source": [
    "from src.data_sources import *\n",
    "from src.midi_data import *"
   ]
  },
  {
   "cell_type": "code",
   "execution_count": 6,
   "metadata": {},
   "outputs": [],
   "source": [
    "version = 'v10'\n",
    "data_path = Path('data/midi')\n",
    "version_path = data_path/version\n",
    "orig_path = version_path/'midi_sources'\n",
    "metapath = version_path/'metadata'\n",
    "all_csv = metapath/'midi_sources.csv'\n",
    "metapath.mkdir(parents=True, exist_ok=True)"
   ]
  },
  {
   "cell_type": "code",
   "execution_count": 7,
   "metadata": {},
   "outputs": [],
   "source": [
    "def create_paths(dirname):\n",
    "    \"Standardize midi_source paths\"\n",
    "    dir_path = orig_path/dirname\n",
    "    csv_path = metapath/f'{dirname}_metadata.csv'\n",
    "    return dir_path, csv_path"
   ]
  },
  {
   "cell_type": "code",
   "execution_count": 8,
   "metadata": {},
   "outputs": [],
   "source": [
    "sources = ['hooktheory', 'hooktheory_c', 'freemidi', 'midiworld', 'ecomp', 'cprato', 'classic_piano', 'musescore', 'wikifonia', 'lmd_clean', '130k_reddit']"
   ]
  },
  {
   "cell_type": "code",
   "execution_count": 9,
   "metadata": {},
   "outputs": [
    {
     "data": {
      "text/plain": [
       "PosixPath('v10')"
      ]
     },
     "execution_count": 9,
     "metadata": {},
     "output_type": "execute_result"
    }
   ],
   "source": [
    "version_path.relative_to(data_path)"
   ]
  },
  {
   "cell_type": "code",
   "execution_count": 10,
   "metadata": {},
   "outputs": [],
   "source": [
    "def relative_path(filepath):\n",
    "    return str(Path(filepath).relative_to(version_path))"
   ]
  },
  {
   "cell_type": "markdown",
   "metadata": {},
   "source": [
    "### Remove corrupted file - this causes deadlock with music21 processing"
   ]
  },
  {
   "cell_type": "code",
   "execution_count": 11,
   "metadata": {},
   "outputs": [],
   "source": [
    "corrupted_files = [\n",
    "    'midiworld/named_midi/NITRO_BRO_-_IT_WONT_DIE.mid',\n",
    "    'ecomp/2004/MORET02.mid',\n",
    "    'ecomp/2006/Mordvinov9.MID',\n",
    "    'ecomp/2006/Na06.MID',\n",
    "    'ecomp/2008/Cui01.MID',\n",
    "    'ecomp/2008/Cui02.MID',\n",
    "    'ecomp/2008/Cui03.MID',\n",
    "    'ecomp/2008/Cui04.MID',\n",
    "    'ecomp/2008/Cui05.MID',\n",
    "    'ecomp/2008/Cui06.MID',\n",
    "    'ecomp/2008/Cui07.MID',\n",
    "    'ecomp/2008/Cui08.MID',\n",
    "    'ecomp/2008/Tan01.MID',\n",
    "    'ecomp/2008/Tan02.MID',\n",
    "    'ecomp/2008/Tan03.MID',\n",
    "    'ecomp/2018/KaszoS14.MID',\n",
    "    'midiworld/named_midi/Rob_Zombie_-_Demonoid_Phenomenon.mid',\n",
    "    'midiworld/named_midi/Rob_Zombie_-_Demonoid_Phenomenon.mxl',\n",
    "]\n",
    "for f in corrupted_files:\n",
    "    fp = orig_path/f\n",
    "    if fp.exists(): fp.unlink()"
   ]
  },
  {
   "cell_type": "code",
   "execution_count": 12,
   "metadata": {},
   "outputs": [],
   "source": [
    "import hashlib"
   ]
  },
  {
   "cell_type": "code",
   "execution_count": 13,
   "metadata": {},
   "outputs": [],
   "source": [
    "\n",
    "def arr2csv(arr, out_file):\n",
    "    \"Convert metadata array to csv\"\n",
    "    all_keys = {k for d in arr for k in d.keys()}\n",
    "    arr = [format_values(x) for x in arr]\n",
    "    with open(out_file, 'w') as f:\n",
    "        dict_writer = csv.DictWriter(f, list(all_keys))\n",
    "        dict_writer.writeheader()\n",
    "        dict_writer.writerows(arr)"
   ]
  },
  {
   "cell_type": "code",
   "execution_count": 14,
   "metadata": {},
   "outputs": [],
   "source": [
    "\n",
    "def directory2csv(files, meta_func, csv_path):\n",
    "    \"Iterate through midi_source dir and map file to metadata\"\n",
    "    \n",
    "    def get_meta(fp):\n",
    "        # over 350mb takes crazy long to analyze\n",
    "        size = fp.stat().st_size/1000\n",
    "        if fp.suffix == 'mid' and size > 350: \n",
    "#             print('Removing mid over 350mb', fp, dixr)\n",
    "            return None\n",
    "        if fp.suffix == 'mxl' and size > 420: \n",
    "#             print('Removing mxl over 420mb', fp, size)\n",
    "            return None\n",
    "#         try:\n",
    "        m = meta_func(fp)\n",
    "        if m: m['md5'] = hashlib.md5(open(fp,'rb').read()).hexdigest()\n",
    "        return m\n",
    "#         except Exception as e:\n",
    "#             print('Error:', fp, e)\n",
    "#         return None\n",
    "    \n",
    "    mlist = [get_meta(fp) for fp in files]\n",
    "    mlist = [x for x in mlist if x is not None]\n",
    "    arr2csv(mlist, csv_path)\n",
    "    return mlist"
   ]
  },
  {
   "cell_type": "markdown",
   "metadata": {},
   "source": [
    "### Hooktheory"
   ]
  },
  {
   "cell_type": "code",
   "execution_count": 15,
   "metadata": {},
   "outputs": [
    {
     "data": {
      "text/plain": [
       "20076"
      ]
     },
     "execution_count": 15,
     "metadata": {},
     "output_type": "execute_result"
    }
   ],
   "source": [
    "ht_cat = 'hooktheory'\n",
    "ht_path, ht_csv = create_paths(ht_cat)\n",
    "ht_midi_list = list((ht_path/'pianoroll').glob('*/*/*/*_key_original.mid')); \n",
    "len(ht_midi_list)"
   ]
  },
  {
   "cell_type": "code",
   "execution_count": 25,
   "metadata": {},
   "outputs": [
    {
     "data": {
      "text/plain": [
       "20076"
      ]
     },
     "execution_count": 25,
     "metadata": {},
     "output_type": "execute_result"
    }
   ],
   "source": [
    "ht_cat = 'hooktheory_c'\n",
    "ht_path, ht_csv = create_paths(ht_cat)\n",
    "ht_path = ht_path.with_name('hooktheory')\n",
    "ht_midi_list = list((ht_path/'pianoroll').glob('*/*/*/*_key_cmajor.mid'));\n",
    "len(ht_midi_list)"
   ]
  },
  {
   "cell_type": "code",
   "execution_count": 26,
   "metadata": {},
   "outputs": [],
   "source": [
    "ht_song_list = metapath/'hooktheory_key2info.json'"
   ]
  },
  {
   "cell_type": "code",
   "execution_count": 27,
   "metadata": {},
   "outputs": [],
   "source": [
    "def song_key(s): return '_'.join(s.parts[-3:-1])"
   ]
  },
  {
   "cell_type": "code",
   "execution_count": 28,
   "metadata": {},
   "outputs": [
    {
     "data": {
      "text/plain": [
       "12008"
      ]
     },
     "execution_count": 28,
     "metadata": {},
     "output_type": "execute_result"
    }
   ],
   "source": [
    "ht_key2info = load_json(ht_song_list)\n",
    "\n",
    "if ht_key2info is None:\n",
    "    song_info = list((ht_path/'xml').glob('*/*/*/*.json'))\n",
    "    ht_key2info = {song_key(s):json.load(open(s, 'r')) for s in song_info}\n",
    "    save_json(ht_key2info, ht_song_list)\n",
    "len(ht_key2info)"
   ]
  },
  {
   "cell_type": "code",
   "execution_count": 29,
   "metadata": {},
   "outputs": [],
   "source": [
    "# ht_midi_list = list((ht_path/'pianoroll').glob('*/*/*/*_key_cmajor.mid')); "
   ]
  },
  {
   "cell_type": "code",
   "execution_count": 30,
   "metadata": {},
   "outputs": [],
   "source": [
    "def get_ht_jsonfile(midi_file): # using json instead of midi for metadata\n",
    "    return str(midi_file.with_suffix('.json')).replace('pianoroll', 'event').replace('_key', '_symbol_key')"
   ]
  },
  {
   "cell_type": "code",
   "execution_count": 31,
   "metadata": {},
   "outputs": [],
   "source": [
    "def get_hooktheory_attr(fp):\n",
    "    song_info = ht_key2info[song_key(fp)]\n",
    "    song_json = json.load(open(get_ht_jsonfile(fp), 'r'))\n",
    "    metadata = song_json['metadata']\n",
    "    artist = fp.parts[-3]\n",
    "    title = fp.parts[-2]\n",
    "    section = fp.name.split('_')[0]\n",
    "    \n",
    "    ht_key = metadata['key']\n",
    "    ht_mode = metadata['mode']\n",
    "    if ht_mode is None: ht_mode = 'major'\n",
    "    ht_offset = keyc_offset(ht_key, ht_mode)\n",
    "    \n",
    "    # convert stream here\n",
    "    return {\n",
    "        'artist': artist,\n",
    "        'title': title,\n",
    "        'midi': relative_path(fp),\n",
    "        'section': section,\n",
    "        'parts': song_info['section'],\n",
    "        'song_url': song_info['song_url'],\n",
    "        'genres': song_info['genres'],\n",
    "        'midi_title': metadata['title'],\n",
    "        'source': ht_cat,\n",
    "        'ht_bpm': metadata['BPM'],\n",
    "        'ht_mode': metadata['mode'],\n",
    "        'ht_key': metadata['key'],\n",
    "        'ht_offset': ht_offset,\n",
    "        'ht_time_signature': metadata['beats_in_measure']\n",
    "    }"
   ]
  },
  {
   "cell_type": "code",
   "execution_count": 32,
   "metadata": {},
   "outputs": [],
   "source": [
    "# sanity check\n",
    "# hook_out = get_hooktheory_attr(song_json[1000]); hook_out"
   ]
  },
  {
   "cell_type": "code",
   "execution_count": 33,
   "metadata": {},
   "outputs": [
    {
     "data": {
      "text/html": [
       "<div>\n",
       "<style scoped>\n",
       "    .dataframe tbody tr th:only-of-type {\n",
       "        vertical-align: middle;\n",
       "    }\n",
       "\n",
       "    .dataframe tbody tr th {\n",
       "        vertical-align: top;\n",
       "    }\n",
       "\n",
       "    .dataframe thead th {\n",
       "        text-align: right;\n",
       "    }\n",
       "</style>\n",
       "<table border=\"1\" class=\"dataframe\">\n",
       "  <thead>\n",
       "    <tr style=\"text-align: right;\">\n",
       "      <th></th>\n",
       "      <th>section</th>\n",
       "      <th>genres</th>\n",
       "      <th>md5</th>\n",
       "      <th>artist</th>\n",
       "      <th>parts</th>\n",
       "      <th>ht_time_signature</th>\n",
       "      <th>ht_bpm</th>\n",
       "      <th>midi</th>\n",
       "      <th>ht_mode</th>\n",
       "      <th>title</th>\n",
       "      <th>ht_offset</th>\n",
       "      <th>song_url</th>\n",
       "      <th>midi_title</th>\n",
       "      <th>ht_key</th>\n",
       "      <th>source</th>\n",
       "    </tr>\n",
       "  </thead>\n",
       "  <tbody>\n",
       "    <tr>\n",
       "      <th>0</th>\n",
       "      <td>chorus</td>\n",
       "      <td>NaN</td>\n",
       "      <td>bf1f29e5ff84e3e93e37fb873bfb590e</td>\n",
       "      <td>wayne-sharpe</td>\n",
       "      <td>intro,chorus</td>\n",
       "      <td>4</td>\n",
       "      <td>128</td>\n",
       "      <td>midi_sources/hooktheory/pianoroll/w/wayne-shar...</td>\n",
       "      <td>1</td>\n",
       "      <td>yu-gi-oh-theme-song</td>\n",
       "      <td>0</td>\n",
       "      <td>https://www.hooktheory.com/theorytab/view/wayn...</td>\n",
       "      <td>yu-gi-oh3</td>\n",
       "      <td>C</td>\n",
       "      <td>hooktheory_c</td>\n",
       "    </tr>\n",
       "    <tr>\n",
       "      <th>1</th>\n",
       "      <td>intro</td>\n",
       "      <td>NaN</td>\n",
       "      <td>055f80ad67f64edb14a85ca8fbfe8c29</td>\n",
       "      <td>wayne-sharpe</td>\n",
       "      <td>intro,chorus</td>\n",
       "      <td>3</td>\n",
       "      <td>85</td>\n",
       "      <td>midi_sources/hooktheory/pianoroll/w/wayne-shar...</td>\n",
       "      <td>1</td>\n",
       "      <td>yu-gi-oh-theme-song</td>\n",
       "      <td>0</td>\n",
       "      <td>https://www.hooktheory.com/theorytab/view/wayn...</td>\n",
       "      <td>yu-gi-oh</td>\n",
       "      <td>C</td>\n",
       "      <td>hooktheory_c</td>\n",
       "    </tr>\n",
       "    <tr>\n",
       "      <th>2</th>\n",
       "      <td>chorus</td>\n",
       "      <td>Jazz</td>\n",
       "      <td>e7f70964a2538187833d4c43677e17c0</td>\n",
       "      <td>what-a-day</td>\n",
       "      <td>chorus</td>\n",
       "      <td>4</td>\n",
       "      <td>96</td>\n",
       "      <td>midi_sources/hooktheory/pianoroll/w/what-a-day...</td>\n",
       "      <td>1</td>\n",
       "      <td>kiefer</td>\n",
       "      <td>0</td>\n",
       "      <td>https://www.hooktheory.com/theorytab/view/what...</td>\n",
       "      <td>kiefer</td>\n",
       "      <td>C</td>\n",
       "      <td>hooktheory_c</td>\n",
       "    </tr>\n",
       "    <tr>\n",
       "      <th>3</th>\n",
       "      <td>chorus</td>\n",
       "      <td>J-Pop,Pop</td>\n",
       "      <td>2e37814fb0f75420b22303feff538a9f</td>\n",
       "      <td>whiteflame</td>\n",
       "      <td>verse,pre-chorus,chorus</td>\n",
       "      <td>4</td>\n",
       "      <td>152</td>\n",
       "      <td>midi_sources/hooktheory/pianoroll/w/whiteflame...</td>\n",
       "      <td>1</td>\n",
       "      <td>senbonzakura</td>\n",
       "      <td>0</td>\n",
       "      <td>https://www.hooktheory.com/theorytab/view/whit...</td>\n",
       "      <td>Senbonzakura</td>\n",
       "      <td>C</td>\n",
       "      <td>hooktheory_c</td>\n",
       "    </tr>\n",
       "    <tr>\n",
       "      <th>4</th>\n",
       "      <td>verse</td>\n",
       "      <td>J-Pop,Pop</td>\n",
       "      <td>b95497f37fa462cf885b9afeb635ef0e</td>\n",
       "      <td>whiteflame</td>\n",
       "      <td>verse,pre-chorus,chorus</td>\n",
       "      <td>4</td>\n",
       "      <td>152</td>\n",
       "      <td>midi_sources/hooktheory/pianoroll/w/whiteflame...</td>\n",
       "      <td>1</td>\n",
       "      <td>senbonzakura</td>\n",
       "      <td>0</td>\n",
       "      <td>https://www.hooktheory.com/theorytab/view/whit...</td>\n",
       "      <td>Senbonzakura</td>\n",
       "      <td>C</td>\n",
       "      <td>hooktheory_c</td>\n",
       "    </tr>\n",
       "  </tbody>\n",
       "</table>\n",
       "</div>"
      ],
      "text/plain": [
       "  section     genres                               md5        artist  \\\n",
       "0  chorus        NaN  bf1f29e5ff84e3e93e37fb873bfb590e  wayne-sharpe   \n",
       "1   intro        NaN  055f80ad67f64edb14a85ca8fbfe8c29  wayne-sharpe   \n",
       "2  chorus       Jazz  e7f70964a2538187833d4c43677e17c0    what-a-day   \n",
       "3  chorus  J-Pop,Pop  2e37814fb0f75420b22303feff538a9f    whiteflame   \n",
       "4   verse  J-Pop,Pop  b95497f37fa462cf885b9afeb635ef0e    whiteflame   \n",
       "\n",
       "                     parts  ht_time_signature  ht_bpm  \\\n",
       "0             intro,chorus                  4     128   \n",
       "1             intro,chorus                  3      85   \n",
       "2                   chorus                  4      96   \n",
       "3  verse,pre-chorus,chorus                  4     152   \n",
       "4  verse,pre-chorus,chorus                  4     152   \n",
       "\n",
       "                                                midi  ht_mode  \\\n",
       "0  midi_sources/hooktheory/pianoroll/w/wayne-shar...        1   \n",
       "1  midi_sources/hooktheory/pianoroll/w/wayne-shar...        1   \n",
       "2  midi_sources/hooktheory/pianoroll/w/what-a-day...        1   \n",
       "3  midi_sources/hooktheory/pianoroll/w/whiteflame...        1   \n",
       "4  midi_sources/hooktheory/pianoroll/w/whiteflame...        1   \n",
       "\n",
       "                 title  ht_offset  \\\n",
       "0  yu-gi-oh-theme-song          0   \n",
       "1  yu-gi-oh-theme-song          0   \n",
       "2               kiefer          0   \n",
       "3         senbonzakura          0   \n",
       "4         senbonzakura          0   \n",
       "\n",
       "                                            song_url    midi_title ht_key  \\\n",
       "0  https://www.hooktheory.com/theorytab/view/wayn...     yu-gi-oh3      C   \n",
       "1  https://www.hooktheory.com/theorytab/view/wayn...      yu-gi-oh      C   \n",
       "2  https://www.hooktheory.com/theorytab/view/what...        kiefer      C   \n",
       "3  https://www.hooktheory.com/theorytab/view/whit...  Senbonzakura      C   \n",
       "4  https://www.hooktheory.com/theorytab/view/whit...  Senbonzakura      C   \n",
       "\n",
       "         source  \n",
       "0  hooktheory_c  \n",
       "1  hooktheory_c  \n",
       "2  hooktheory_c  \n",
       "3  hooktheory_c  \n",
       "4  hooktheory_c  "
      ]
     },
     "execution_count": 33,
     "metadata": {},
     "output_type": "execute_result"
    }
   ],
   "source": [
    "ht_metadata = directory2csv(ht_midi_list, \n",
    "                            meta_func=get_hooktheory_attr, \n",
    "                            csv_path=ht_csv)\n",
    "df = pd.read_csv(ht_csv); df.head()"
   ]
  },
  {
   "cell_type": "markdown",
   "metadata": {},
   "source": [
    "#### Save song_list"
   ]
  },
  {
   "cell_type": "markdown",
   "metadata": {},
   "source": [
    "## FreeMidi"
   ]
  },
  {
   "cell_type": "code",
   "execution_count": 23,
   "metadata": {},
   "outputs": [
    {
     "data": {
      "text/plain": [
       "[PosixPath('data/midi/v10/midi_sources/freemidi/genre-disco'),\n",
       " PosixPath('data/midi/v10/midi_sources/freemidi/genre-pop'),\n",
       " PosixPath('data/midi/v10/midi_sources/freemidi/genre-dance-eletric'),\n",
       " PosixPath('data/midi/v10/midi_sources/freemidi/genre-punk'),\n",
       " PosixPath('data/midi/v10/midi_sources/freemidi/genre-hip-hop-rap'),\n",
       " PosixPath('data/midi/v10/midi_sources/freemidi/genre-rock')]"
      ]
     },
     "execution_count": 23,
     "metadata": {},
     "output_type": "execute_result"
    }
   ],
   "source": [
    "fm_path, fm_csv = create_paths('freemidi')\n",
    "fm_dance_path = metapath/f'freemidi_dance_metadata.json'\n",
    "fm_pop_path = metapath/f'freemidi_pop_metadata.json'\n",
    "list(fm_path.glob('*'))"
   ]
  },
  {
   "cell_type": "code",
   "execution_count": 24,
   "metadata": {},
   "outputs": [],
   "source": [
    "def parse_freemidi_songs(fp, genres=None, source=None):\n",
    "    name = fp.with_suffix('').name.split(' - ')\n",
    "    artist = name[0]\n",
    "    title = name[-1]\n",
    "    return {\n",
    "        'artist': artist.strip(),\n",
    "        'title': title.strip(),\n",
    "        'midi': relative_path(fp),\n",
    "        'genres': genres,\n",
    "        'source': source\n",
    "    }"
   ]
  },
  {
   "cell_type": "code",
   "execution_count": 25,
   "metadata": {},
   "outputs": [],
   "source": [
    "d_parse_func = partial(parse_freemidi_songs, genres='dance', source='freemidi')\n",
    "dir_path = fm_path/'genre-dance-eletric'\n",
    "file_list = get_files(dir_path, extensions=['.mid'], recurse=True)\n",
    "fm_dance_list = directory2csv(file_list, meta_func=d_parse_func, csv_path=fm_dance_path)"
   ]
  },
  {
   "cell_type": "code",
   "execution_count": 26,
   "metadata": {},
   "outputs": [],
   "source": [
    "p_parse_func = partial(parse_freemidi_songs, genres='pop', source='freemidi')\n",
    "dir_path = fm_path/'genre-pop'\n",
    "file_list = get_files(dir_path, extensions=['.mid'], recurse=True)\n",
    "fm_pop_list = directory2csv(file_list, meta_func=p_parse_func, csv_path=fm_pop_path)"
   ]
  },
  {
   "cell_type": "code",
   "execution_count": 27,
   "metadata": {},
   "outputs": [
    {
     "data": {
      "text/html": [
       "<div>\n",
       "<style scoped>\n",
       "    .dataframe tbody tr th:only-of-type {\n",
       "        vertical-align: middle;\n",
       "    }\n",
       "\n",
       "    .dataframe tbody tr th {\n",
       "        vertical-align: top;\n",
       "    }\n",
       "\n",
       "    .dataframe thead th {\n",
       "        text-align: right;\n",
       "    }\n",
       "</style>\n",
       "<table border=\"1\" class=\"dataframe\">\n",
       "  <thead>\n",
       "    <tr style=\"text-align: right;\">\n",
       "      <th></th>\n",
       "      <th>midi</th>\n",
       "      <th>genres</th>\n",
       "      <th>artist</th>\n",
       "      <th>md5</th>\n",
       "      <th>source</th>\n",
       "      <th>title</th>\n",
       "    </tr>\n",
       "  </thead>\n",
       "  <tbody>\n",
       "    <tr>\n",
       "      <th>0</th>\n",
       "      <td>midi_sources/freemidi/genre-dance-eletric/Veng...</td>\n",
       "      <td>dance</td>\n",
       "      <td>Vengaboys</td>\n",
       "      <td>eb504f29b1a10567814f198e7e049d15</td>\n",
       "      <td>freemidi</td>\n",
       "      <td>Up And Down</td>\n",
       "    </tr>\n",
       "    <tr>\n",
       "      <th>1</th>\n",
       "      <td>midi_sources/freemidi/genre-dance-eletric/ATB ...</td>\n",
       "      <td>dance</td>\n",
       "      <td>ATB</td>\n",
       "      <td>7c461c21684baee9946019c0ed7ce102</td>\n",
       "      <td>freemidi</td>\n",
       "      <td>Dont stop</td>\n",
       "    </tr>\n",
       "    <tr>\n",
       "      <th>2</th>\n",
       "      <td>midi_sources/freemidi/genre-dance-eletric/Mado...</td>\n",
       "      <td>dance</td>\n",
       "      <td>Madonna</td>\n",
       "      <td>ac1e447bff339c29bccbaee3deb13b24</td>\n",
       "      <td>freemidi</td>\n",
       "      <td>Dress You Up</td>\n",
       "    </tr>\n",
       "    <tr>\n",
       "      <th>3</th>\n",
       "      <td>midi_sources/freemidi/genre-dance-eletric/Aqua...</td>\n",
       "      <td>dance</td>\n",
       "      <td>Aqua</td>\n",
       "      <td>d0306034dbbb4bbc31a95e3232e5fb73</td>\n",
       "      <td>freemidi</td>\n",
       "      <td>Dr Jones</td>\n",
       "    </tr>\n",
       "    <tr>\n",
       "      <th>4</th>\n",
       "      <td>midi_sources/freemidi/genre-dance-eletric/Tune...</td>\n",
       "      <td>dance</td>\n",
       "      <td>Tune Up</td>\n",
       "      <td>996662d57a8e3236b36285c54093697e</td>\n",
       "      <td>freemidi</td>\n",
       "      <td>Bounce</td>\n",
       "    </tr>\n",
       "  </tbody>\n",
       "</table>\n",
       "</div>"
      ],
      "text/plain": [
       "                                                midi genres     artist  \\\n",
       "0  midi_sources/freemidi/genre-dance-eletric/Veng...  dance  Vengaboys   \n",
       "1  midi_sources/freemidi/genre-dance-eletric/ATB ...  dance        ATB   \n",
       "2  midi_sources/freemidi/genre-dance-eletric/Mado...  dance    Madonna   \n",
       "3  midi_sources/freemidi/genre-dance-eletric/Aqua...  dance       Aqua   \n",
       "4  midi_sources/freemidi/genre-dance-eletric/Tune...  dance    Tune Up   \n",
       "\n",
       "                                md5    source         title  \n",
       "0  eb504f29b1a10567814f198e7e049d15  freemidi   Up And Down  \n",
       "1  7c461c21684baee9946019c0ed7ce102  freemidi     Dont stop  \n",
       "2  ac1e447bff339c29bccbaee3deb13b24  freemidi  Dress You Up  \n",
       "3  d0306034dbbb4bbc31a95e3232e5fb73  freemidi      Dr Jones  \n",
       "4  996662d57a8e3236b36285c54093697e  freemidi        Bounce  "
      ]
     },
     "execution_count": 27,
     "metadata": {},
     "output_type": "execute_result"
    }
   ],
   "source": [
    "fm_all = fm_dance_list + fm_pop_list\n",
    "arr2csv(fm_all, fm_csv)\n",
    "df = pd.read_csv(fm_csv); df.head()"
   ]
  },
  {
   "cell_type": "markdown",
   "metadata": {},
   "source": [
    "### Gather Lakh Midi Dataset"
   ]
  },
  {
   "cell_type": "code",
   "execution_count": 28,
   "metadata": {},
   "outputs": [],
   "source": [
    "lmd_path, lmd_csv = create_paths('lmd_clean')"
   ]
  },
  {
   "cell_type": "code",
   "execution_count": 29,
   "metadata": {},
   "outputs": [],
   "source": [
    "def parse_lmd_songs(fp):\n",
    "    artist = fp.parts[-2]\n",
    "    title = fp.parts[-1]\n",
    "    return {\n",
    "        'artist': artist.strip(),\n",
    "        'title': title.strip(),\n",
    "        'midi': relative_path(fp),\n",
    "        'genres': 'pop,inferred',\n",
    "        'source': 'lmd'\n",
    "    }"
   ]
  },
  {
   "cell_type": "code",
   "execution_count": 30,
   "metadata": {},
   "outputs": [
    {
     "data": {
      "text/html": [
       "<div>\n",
       "<style scoped>\n",
       "    .dataframe tbody tr th:only-of-type {\n",
       "        vertical-align: middle;\n",
       "    }\n",
       "\n",
       "    .dataframe tbody tr th {\n",
       "        vertical-align: top;\n",
       "    }\n",
       "\n",
       "    .dataframe thead th {\n",
       "        text-align: right;\n",
       "    }\n",
       "</style>\n",
       "<table border=\"1\" class=\"dataframe\">\n",
       "  <thead>\n",
       "    <tr style=\"text-align: right;\">\n",
       "      <th></th>\n",
       "      <th>midi</th>\n",
       "      <th>genres</th>\n",
       "      <th>artist</th>\n",
       "      <th>md5</th>\n",
       "      <th>source</th>\n",
       "      <th>title</th>\n",
       "    </tr>\n",
       "  </thead>\n",
       "  <tbody>\n",
       "    <tr>\n",
       "      <th>0</th>\n",
       "      <td>midi_sources/lmd_clean/Peter Maffay/Du.mid</td>\n",
       "      <td>pop,inferred</td>\n",
       "      <td>Peter Maffay</td>\n",
       "      <td>6d2ac0d68f5976b161afca8ce061d376</td>\n",
       "      <td>lmd</td>\n",
       "      <td>Du.mid</td>\n",
       "    </tr>\n",
       "    <tr>\n",
       "      <th>1</th>\n",
       "      <td>midi_sources/lmd_clean/Peter Maffay/Josie.mid</td>\n",
       "      <td>pop,inferred</td>\n",
       "      <td>Peter Maffay</td>\n",
       "      <td>6ccac8947814b6faa132cb5bec7a3bdf</td>\n",
       "      <td>lmd</td>\n",
       "      <td>Josie.mid</td>\n",
       "    </tr>\n",
       "    <tr>\n",
       "      <th>2</th>\n",
       "      <td>midi_sources/lmd_clean/Anne Murray/Snowbird.mid</td>\n",
       "      <td>pop,inferred</td>\n",
       "      <td>Anne Murray</td>\n",
       "      <td>f5069f36a7e56475d7f706ed2d2f8517</td>\n",
       "      <td>lmd</td>\n",
       "      <td>Snowbird.mid</td>\n",
       "    </tr>\n",
       "    <tr>\n",
       "      <th>3</th>\n",
       "      <td>midi_sources/lmd_clean/Anne Murray/You Needed ...</td>\n",
       "      <td>pop,inferred</td>\n",
       "      <td>Anne Murray</td>\n",
       "      <td>48419c2acdc476094487157582829781</td>\n",
       "      <td>lmd</td>\n",
       "      <td>You Needed Me.mid</td>\n",
       "    </tr>\n",
       "    <tr>\n",
       "      <th>4</th>\n",
       "      <td>midi_sources/lmd_clean/The Tremeloes/Silence I...</td>\n",
       "      <td>pop,inferred</td>\n",
       "      <td>The Tremeloes</td>\n",
       "      <td>3befa396df58762e746c4288fa851f03</td>\n",
       "      <td>lmd</td>\n",
       "      <td>Silence Is Golden.mid</td>\n",
       "    </tr>\n",
       "  </tbody>\n",
       "</table>\n",
       "</div>"
      ],
      "text/plain": [
       "                                                midi        genres  \\\n",
       "0         midi_sources/lmd_clean/Peter Maffay/Du.mid  pop,inferred   \n",
       "1      midi_sources/lmd_clean/Peter Maffay/Josie.mid  pop,inferred   \n",
       "2    midi_sources/lmd_clean/Anne Murray/Snowbird.mid  pop,inferred   \n",
       "3  midi_sources/lmd_clean/Anne Murray/You Needed ...  pop,inferred   \n",
       "4  midi_sources/lmd_clean/The Tremeloes/Silence I...  pop,inferred   \n",
       "\n",
       "          artist                               md5 source  \\\n",
       "0   Peter Maffay  6d2ac0d68f5976b161afca8ce061d376    lmd   \n",
       "1   Peter Maffay  6ccac8947814b6faa132cb5bec7a3bdf    lmd   \n",
       "2    Anne Murray  f5069f36a7e56475d7f706ed2d2f8517    lmd   \n",
       "3    Anne Murray  48419c2acdc476094487157582829781    lmd   \n",
       "4  The Tremeloes  3befa396df58762e746c4288fa851f03    lmd   \n",
       "\n",
       "                   title  \n",
       "0                 Du.mid  \n",
       "1              Josie.mid  \n",
       "2           Snowbird.mid  \n",
       "3      You Needed Me.mid  \n",
       "4  Silence Is Golden.mid  "
      ]
     },
     "execution_count": 30,
     "metadata": {},
     "output_type": "execute_result"
    }
   ],
   "source": [
    "file_list = get_files(lmd_path, extensions=['.mid'], recurse=True)\n",
    "lmd_md = directory2csv(file_list, meta_func=parse_lmd_songs, csv_path=lmd_csv)\n",
    "df = pd.read_csv(lmd_csv); df.head()"
   ]
  },
  {
   "cell_type": "markdown",
   "metadata": {},
   "source": [
    "### Gather 130k Reddit"
   ]
  },
  {
   "cell_type": "code",
   "execution_count": 31,
   "metadata": {},
   "outputs": [],
   "source": [
    "reddit_path, reddit_csv = create_paths('130k_reddit')"
   ]
  },
  {
   "cell_type": "code",
   "execution_count": 32,
   "metadata": {},
   "outputs": [],
   "source": [
    "def parse_reddit_songs(fp):\n",
    "    name = fp.with_suffix('').name.replace('_', ' ').split(' - ')\n",
    "    if len(name) == 1:\n",
    "        artist = fp.parts[-1]\n",
    "        title = name[0]\n",
    "    else:\n",
    "        artist = name[0]\n",
    "        title = name[-1]\n",
    "    return {\n",
    "        'artist': artist.strip(),\n",
    "        'title': title.strip(),\n",
    "        'midi': relative_path(fp),\n",
    "        'genres': 'anything,inferred',\n",
    "        'source': 'reddit'\n",
    "    }"
   ]
  },
  {
   "cell_type": "code",
   "execution_count": 33,
   "metadata": {},
   "outputs": [
    {
     "data": {
      "text/html": [
       "<div>\n",
       "<style scoped>\n",
       "    .dataframe tbody tr th:only-of-type {\n",
       "        vertical-align: middle;\n",
       "    }\n",
       "\n",
       "    .dataframe tbody tr th {\n",
       "        vertical-align: top;\n",
       "    }\n",
       "\n",
       "    .dataframe thead th {\n",
       "        text-align: right;\n",
       "    }\n",
       "</style>\n",
       "<table border=\"1\" class=\"dataframe\">\n",
       "  <thead>\n",
       "    <tr style=\"text-align: right;\">\n",
       "      <th></th>\n",
       "      <th>midi</th>\n",
       "      <th>genres</th>\n",
       "      <th>artist</th>\n",
       "      <th>md5</th>\n",
       "      <th>source</th>\n",
       "      <th>title</th>\n",
       "    </tr>\n",
       "  </thead>\n",
       "  <tbody>\n",
       "    <tr>\n",
       "      <th>0</th>\n",
       "      <td>midi_sources/130k_reddit/Jazz_www.thejazzpage....</td>\n",
       "      <td>anything,inferred</td>\n",
       "      <td>phasedance.mid</td>\n",
       "      <td>c175323dbdff4b676588609081bf5606</td>\n",
       "      <td>reddit</td>\n",
       "      <td>phasedance</td>\n",
       "    </tr>\n",
       "    <tr>\n",
       "      <th>1</th>\n",
       "      <td>midi_sources/130k_reddit/Jazz_www.thejazzpage....</td>\n",
       "      <td>anything,inferred</td>\n",
       "      <td>IGotRhythm.MID</td>\n",
       "      <td>912b07a01ae9b81bc0d86118e3972a47</td>\n",
       "      <td>reddit</td>\n",
       "      <td>IGotRhythm</td>\n",
       "    </tr>\n",
       "    <tr>\n",
       "      <th>2</th>\n",
       "      <td>midi_sources/130k_reddit/Jazz_www.thejazzpage....</td>\n",
       "      <td>anything,inferred</td>\n",
       "      <td>Cheek_To_Cheek.mid</td>\n",
       "      <td>53136c05b1dd56a9f11367f8cdda5c2e</td>\n",
       "      <td>reddit</td>\n",
       "      <td>Cheek To Cheek</td>\n",
       "    </tr>\n",
       "    <tr>\n",
       "      <th>3</th>\n",
       "      <td>midi_sources/130k_reddit/Jazz_www.thejazzpage....</td>\n",
       "      <td>anything,inferred</td>\n",
       "      <td>16goingon17.mid</td>\n",
       "      <td>31ddfcdb86c20e4e67cbaa3363c88309</td>\n",
       "      <td>reddit</td>\n",
       "      <td>16goingon17</td>\n",
       "    </tr>\n",
       "    <tr>\n",
       "      <th>4</th>\n",
       "      <td>midi_sources/130k_reddit/Jazz_www.thejazzpage....</td>\n",
       "      <td>anything,inferred</td>\n",
       "      <td>poinciana.mid</td>\n",
       "      <td>d15dd01250feb42f3b17251c56e6721e</td>\n",
       "      <td>reddit</td>\n",
       "      <td>poinciana</td>\n",
       "    </tr>\n",
       "  </tbody>\n",
       "</table>\n",
       "</div>"
      ],
      "text/plain": [
       "                                                midi             genres  \\\n",
       "0  midi_sources/130k_reddit/Jazz_www.thejazzpage....  anything,inferred   \n",
       "1  midi_sources/130k_reddit/Jazz_www.thejazzpage....  anything,inferred   \n",
       "2  midi_sources/130k_reddit/Jazz_www.thejazzpage....  anything,inferred   \n",
       "3  midi_sources/130k_reddit/Jazz_www.thejazzpage....  anything,inferred   \n",
       "4  midi_sources/130k_reddit/Jazz_www.thejazzpage....  anything,inferred   \n",
       "\n",
       "               artist                               md5  source  \\\n",
       "0      phasedance.mid  c175323dbdff4b676588609081bf5606  reddit   \n",
       "1      IGotRhythm.MID  912b07a01ae9b81bc0d86118e3972a47  reddit   \n",
       "2  Cheek_To_Cheek.mid  53136c05b1dd56a9f11367f8cdda5c2e  reddit   \n",
       "3     16goingon17.mid  31ddfcdb86c20e4e67cbaa3363c88309  reddit   \n",
       "4       poinciana.mid  d15dd01250feb42f3b17251c56e6721e  reddit   \n",
       "\n",
       "            title  \n",
       "0      phasedance  \n",
       "1      IGotRhythm  \n",
       "2  Cheek To Cheek  \n",
       "3     16goingon17  \n",
       "4       poinciana  "
      ]
     },
     "execution_count": 33,
     "metadata": {},
     "output_type": "execute_result"
    }
   ],
   "source": [
    "file_list = get_files(reddit_path, extensions=['.mid'], recurse=True)\n",
    "file_list = [fp for fp in file_list if fp.stat().st_size/1000 < 400] # over 200mb takes crazy long to analyze\n",
    "reddit_md = directory2csv(file_list, meta_func=parse_reddit_songs, csv_path=reddit_csv)\n",
    "df = pd.read_csv(reddit_csv); df.head()"
   ]
  },
  {
   "cell_type": "markdown",
   "metadata": {},
   "source": [
    "### Gather Cprato"
   ]
  },
  {
   "cell_type": "code",
   "execution_count": 34,
   "metadata": {},
   "outputs": [],
   "source": [
    "cp_path, cp_csv = create_paths('cprato')\n",
    "# list(cp_path.glob('*'))[:5]"
   ]
  },
  {
   "cell_type": "code",
   "execution_count": 35,
   "metadata": {},
   "outputs": [],
   "source": [
    "def parse_cprato_songs(fp, genres=None, source=None):\n",
    "    name = fp.with_suffix('').name.split(' - ')\n",
    "    artist = name[0]\n",
    "    title = name[-1].replace('(midi by Carlo Prato) (www.cprato.com)', '')\n",
    "    return {\n",
    "        'artist': artist.strip(),\n",
    "        'title': title.strip(),\n",
    "        'midi': relative_path(fp),\n",
    "        'genres': genres,\n",
    "        'source': source\n",
    "    }"
   ]
  },
  {
   "cell_type": "code",
   "execution_count": 36,
   "metadata": {},
   "outputs": [
    {
     "data": {
      "text/html": [
       "<div>\n",
       "<style scoped>\n",
       "    .dataframe tbody tr th:only-of-type {\n",
       "        vertical-align: middle;\n",
       "    }\n",
       "\n",
       "    .dataframe tbody tr th {\n",
       "        vertical-align: top;\n",
       "    }\n",
       "\n",
       "    .dataframe thead th {\n",
       "        text-align: right;\n",
       "    }\n",
       "</style>\n",
       "<table border=\"1\" class=\"dataframe\">\n",
       "  <thead>\n",
       "    <tr style=\"text-align: right;\">\n",
       "      <th></th>\n",
       "      <th>midi</th>\n",
       "      <th>genres</th>\n",
       "      <th>artist</th>\n",
       "      <th>md5</th>\n",
       "      <th>source</th>\n",
       "      <th>title</th>\n",
       "    </tr>\n",
       "  </thead>\n",
       "  <tbody>\n",
       "    <tr>\n",
       "      <th>0</th>\n",
       "      <td>midi_sources/cprato/Basto - Again And Again (m...</td>\n",
       "      <td>EDM,inferred</td>\n",
       "      <td>Basto</td>\n",
       "      <td>44ea7e9b46e04ba6f4836f00b3cc50a3</td>\n",
       "      <td>cprato</td>\n",
       "      <td>Again And Again (midi By Carlo Prato) (www.cpr...</td>\n",
       "    </tr>\n",
       "    <tr>\n",
       "      <th>1</th>\n",
       "      <td>midi_sources/cprato/The Weeknd ft. Lana Del Re...</td>\n",
       "      <td>EDM,inferred</td>\n",
       "      <td>The Weeknd ft. Lana Del Rey</td>\n",
       "      <td>d67ead892ee2c92cfbb5306bd47c9a0f</td>\n",
       "      <td>cprato</td>\n",
       "      <td>Stargirl Interlude</td>\n",
       "    </tr>\n",
       "    <tr>\n",
       "      <th>2</th>\n",
       "      <td>midi_sources/cprato/Two Steps From Hell - Magi...</td>\n",
       "      <td>EDM,inferred</td>\n",
       "      <td>Two Steps From Hell</td>\n",
       "      <td>222db08d4744ab9a53ca0d9c6c6e5113</td>\n",
       "      <td>cprato</td>\n",
       "      <td>Magic of Love</td>\n",
       "    </tr>\n",
       "    <tr>\n",
       "      <th>3</th>\n",
       "      <td>midi_sources/cprato/Bermuda Loverz - My Girl (...</td>\n",
       "      <td>EDM,inferred</td>\n",
       "      <td>Bermuda Loverz</td>\n",
       "      <td>2befd21ebd0f0c779f7fb436ed828ba1</td>\n",
       "      <td>cprato</td>\n",
       "      <td>My Girl (Ladidada) (Rimini Rockaz Radio Edit) ...</td>\n",
       "    </tr>\n",
       "    <tr>\n",
       "      <th>4</th>\n",
       "      <td>midi_sources/cprato/Cascada - Everytime We Tou...</td>\n",
       "      <td>EDM,inferred</td>\n",
       "      <td>Cascada</td>\n",
       "      <td>b53bfa6f4ab72df165e44263d50a4cbd</td>\n",
       "      <td>cprato</td>\n",
       "      <td>Everytime We Touch (Midi By Carlo Prato) (www....</td>\n",
       "    </tr>\n",
       "  </tbody>\n",
       "</table>\n",
       "</div>"
      ],
      "text/plain": [
       "                                                midi        genres  \\\n",
       "0  midi_sources/cprato/Basto - Again And Again (m...  EDM,inferred   \n",
       "1  midi_sources/cprato/The Weeknd ft. Lana Del Re...  EDM,inferred   \n",
       "2  midi_sources/cprato/Two Steps From Hell - Magi...  EDM,inferred   \n",
       "3  midi_sources/cprato/Bermuda Loverz - My Girl (...  EDM,inferred   \n",
       "4  midi_sources/cprato/Cascada - Everytime We Tou...  EDM,inferred   \n",
       "\n",
       "                        artist                               md5  source  \\\n",
       "0                        Basto  44ea7e9b46e04ba6f4836f00b3cc50a3  cprato   \n",
       "1  The Weeknd ft. Lana Del Rey  d67ead892ee2c92cfbb5306bd47c9a0f  cprato   \n",
       "2          Two Steps From Hell  222db08d4744ab9a53ca0d9c6c6e5113  cprato   \n",
       "3               Bermuda Loverz  2befd21ebd0f0c779f7fb436ed828ba1  cprato   \n",
       "4                      Cascada  b53bfa6f4ab72df165e44263d50a4cbd  cprato   \n",
       "\n",
       "                                               title  \n",
       "0  Again And Again (midi By Carlo Prato) (www.cpr...  \n",
       "1                                 Stargirl Interlude  \n",
       "2                                      Magic of Love  \n",
       "3  My Girl (Ladidada) (Rimini Rockaz Radio Edit) ...  \n",
       "4  Everytime We Touch (Midi By Carlo Prato) (www....  "
      ]
     },
     "execution_count": 36,
     "metadata": {},
     "output_type": "execute_result"
    }
   ],
   "source": [
    "cp_meta = partial(parse_cprato_songs, genres='EDM,inferred', source='cprato')\n",
    "file_list = get_files(cp_path, extensions=['.mid'], recurse=True)\n",
    "cp_md = directory2csv(file_list, meta_func=cp_meta, csv_path=cp_csv)\n",
    "df = pd.read_csv(cp_csv); df.head()"
   ]
  },
  {
   "cell_type": "markdown",
   "metadata": {},
   "source": [
    "### Gather MidiWorld"
   ]
  },
  {
   "cell_type": "code",
   "execution_count": 37,
   "metadata": {},
   "outputs": [],
   "source": [
    "mw_path, mw_csv = create_paths('midiworld')"
   ]
  },
  {
   "cell_type": "code",
   "execution_count": 38,
   "metadata": {},
   "outputs": [],
   "source": [
    "def parse_midiworld_songs(fp):\n",
    "    name = fp.with_suffix('').name.replace('_', ' ').split(' - ')\n",
    "    artist = name[0]\n",
    "    title = name[-1]\n",
    "    return {\n",
    "        'artist': artist.strip(),\n",
    "        'title': title.strip(),\n",
    "        'midi': relative_path(fp),\n",
    "        'genres': 'pop,inferred',\n",
    "        'source': 'midiworld'\n",
    "    }"
   ]
  },
  {
   "cell_type": "code",
   "execution_count": 39,
   "metadata": {},
   "outputs": [
    {
     "data": {
      "text/html": [
       "<div>\n",
       "<style scoped>\n",
       "    .dataframe tbody tr th:only-of-type {\n",
       "        vertical-align: middle;\n",
       "    }\n",
       "\n",
       "    .dataframe tbody tr th {\n",
       "        vertical-align: top;\n",
       "    }\n",
       "\n",
       "    .dataframe thead th {\n",
       "        text-align: right;\n",
       "    }\n",
       "</style>\n",
       "<table border=\"1\" class=\"dataframe\">\n",
       "  <thead>\n",
       "    <tr style=\"text-align: right;\">\n",
       "      <th></th>\n",
       "      <th>midi</th>\n",
       "      <th>genres</th>\n",
       "      <th>artist</th>\n",
       "      <th>md5</th>\n",
       "      <th>source</th>\n",
       "      <th>title</th>\n",
       "    </tr>\n",
       "  </thead>\n",
       "  <tbody>\n",
       "    <tr>\n",
       "      <th>0</th>\n",
       "      <td>midi_sources/midiworld/named_midi/The_Carpente...</td>\n",
       "      <td>pop,inferred</td>\n",
       "      <td>The Carpenters</td>\n",
       "      <td>6d6e23b4f0e44537f8b5309ffeaa1880</td>\n",
       "      <td>midiworld</td>\n",
       "      <td>Rainy Days and Mondays</td>\n",
       "    </tr>\n",
       "    <tr>\n",
       "      <th>1</th>\n",
       "      <td>midi_sources/midiworld/named_midi/Joan_Jett_-_...</td>\n",
       "      <td>pop,inferred</td>\n",
       "      <td>Joan Jett</td>\n",
       "      <td>19efd3ac590d3aede49d2e9e62209115</td>\n",
       "      <td>midiworld</td>\n",
       "      <td>I Hate Myself for Loving You</td>\n",
       "    </tr>\n",
       "    <tr>\n",
       "      <th>2</th>\n",
       "      <td>midi_sources/midiworld/named_midi/George_Harri...</td>\n",
       "      <td>pop,inferred</td>\n",
       "      <td>George Harrison</td>\n",
       "      <td>bea4eba9aa4e8154ab01108b2b808e3c</td>\n",
       "      <td>midiworld</td>\n",
       "      <td>When We Was Fab</td>\n",
       "    </tr>\n",
       "    <tr>\n",
       "      <th>3</th>\n",
       "      <td>midi_sources/midiworld/named_midi/Video_Game_T...</td>\n",
       "      <td>pop,inferred</td>\n",
       "      <td>Video Game Themes</td>\n",
       "      <td>dfbd9c523e1846767746285281d5e971</td>\n",
       "      <td>midiworld</td>\n",
       "      <td>Diddy Kong</td>\n",
       "    </tr>\n",
       "    <tr>\n",
       "      <th>4</th>\n",
       "      <td>midi_sources/midiworld/named_midi/The_Corrs_-_...</td>\n",
       "      <td>pop,inferred</td>\n",
       "      <td>The Corrs</td>\n",
       "      <td>2445fa5424432de2a40ece46cbbc853c</td>\n",
       "      <td>midiworld</td>\n",
       "      <td>Someday</td>\n",
       "    </tr>\n",
       "  </tbody>\n",
       "</table>\n",
       "</div>"
      ],
      "text/plain": [
       "                                                midi        genres  \\\n",
       "0  midi_sources/midiworld/named_midi/The_Carpente...  pop,inferred   \n",
       "1  midi_sources/midiworld/named_midi/Joan_Jett_-_...  pop,inferred   \n",
       "2  midi_sources/midiworld/named_midi/George_Harri...  pop,inferred   \n",
       "3  midi_sources/midiworld/named_midi/Video_Game_T...  pop,inferred   \n",
       "4  midi_sources/midiworld/named_midi/The_Corrs_-_...  pop,inferred   \n",
       "\n",
       "              artist                               md5     source  \\\n",
       "0     The Carpenters  6d6e23b4f0e44537f8b5309ffeaa1880  midiworld   \n",
       "1          Joan Jett  19efd3ac590d3aede49d2e9e62209115  midiworld   \n",
       "2    George Harrison  bea4eba9aa4e8154ab01108b2b808e3c  midiworld   \n",
       "3  Video Game Themes  dfbd9c523e1846767746285281d5e971  midiworld   \n",
       "4          The Corrs  2445fa5424432de2a40ece46cbbc853c  midiworld   \n",
       "\n",
       "                          title  \n",
       "0        Rainy Days and Mondays  \n",
       "1  I Hate Myself for Loving You  \n",
       "2               When We Was Fab  \n",
       "3                    Diddy Kong  \n",
       "4                       Someday  "
      ]
     },
     "execution_count": 39,
     "metadata": {},
     "output_type": "execute_result"
    }
   ],
   "source": [
    "file_list = get_files(mw_path/'named_midi', extensions=['.mid'], recurse=True)\n",
    "mw_md = directory2csv(file_list, meta_func=parse_midiworld_songs, csv_path=mw_csv)\n",
    "df = pd.read_csv(mw_csv); df.head()"
   ]
  },
  {
   "cell_type": "markdown",
   "metadata": {},
   "source": [
    "### Gather Wikifonia"
   ]
  },
  {
   "cell_type": "code",
   "execution_count": 40,
   "metadata": {},
   "outputs": [],
   "source": [
    "wf_path, wf_csv = create_paths('wikifonia')"
   ]
  },
  {
   "cell_type": "code",
   "execution_count": 41,
   "metadata": {},
   "outputs": [],
   "source": [
    "def parse_wikifonia_songs(fp):\n",
    "    name = fp.with_suffix('').name.replace('_', ' ').split(' - ')\n",
    "    artist = name[0]\n",
    "    title = name[-1]\n",
    "    return {\n",
    "        'artist': artist.strip(),\n",
    "        'title': title.strip(),\n",
    "        'mxl': relative_path(fp),\n",
    "        'genres': 'pop,inferred',\n",
    "        'source': 'wikifonia'\n",
    "    }"
   ]
  },
  {
   "cell_type": "code",
   "execution_count": 42,
   "metadata": {},
   "outputs": [
    {
     "data": {
      "text/html": [
       "<div>\n",
       "<style scoped>\n",
       "    .dataframe tbody tr th:only-of-type {\n",
       "        vertical-align: middle;\n",
       "    }\n",
       "\n",
       "    .dataframe tbody tr th {\n",
       "        vertical-align: top;\n",
       "    }\n",
       "\n",
       "    .dataframe thead th {\n",
       "        text-align: right;\n",
       "    }\n",
       "</style>\n",
       "<table border=\"1\" class=\"dataframe\">\n",
       "  <thead>\n",
       "    <tr style=\"text-align: right;\">\n",
       "      <th></th>\n",
       "      <th>mxl</th>\n",
       "      <th>genres</th>\n",
       "      <th>md5</th>\n",
       "      <th>artist</th>\n",
       "      <th>source</th>\n",
       "      <th>title</th>\n",
       "    </tr>\n",
       "  </thead>\n",
       "  <tbody>\n",
       "    <tr>\n",
       "      <th>0</th>\n",
       "      <td>midi_sources/wikifonia/Tommy Dorsey - Swingin'...</td>\n",
       "      <td>pop,inferred</td>\n",
       "      <td>f3418afa104cd03604c8831123e086e4</td>\n",
       "      <td>Tommy Dorsey</td>\n",
       "      <td>wikifonia</td>\n",
       "      <td>Swingin' on Nothin'</td>\n",
       "    </tr>\n",
       "    <tr>\n",
       "      <th>1</th>\n",
       "      <td>midi_sources/wikifonia/Amanda McBroom - The Ro...</td>\n",
       "      <td>pop,inferred</td>\n",
       "      <td>a01bde25baf5c5a91b9f6235bf019890</td>\n",
       "      <td>Amanda McBroom</td>\n",
       "      <td>wikifonia</td>\n",
       "      <td>The Rose</td>\n",
       "    </tr>\n",
       "    <tr>\n",
       "      <th>2</th>\n",
       "      <td>midi_sources/wikifonia/Hans Leo Hassler, From ...</td>\n",
       "      <td>pop,inferred</td>\n",
       "      <td>4beb6aafed89a87a8171da906d8b5ff8</td>\n",
       "      <td>Hans Leo Hassler, From the Latin</td>\n",
       "      <td>wikifonia</td>\n",
       "      <td>O Sacred Head Now Wounded</td>\n",
       "    </tr>\n",
       "    <tr>\n",
       "      <th>3</th>\n",
       "      <td>midi_sources/wikifonia/Arthur Siegel, June Car...</td>\n",
       "      <td>pop,inferred</td>\n",
       "      <td>a739908a6505fcbe8c7d9bf7b1e47492</td>\n",
       "      <td>Arthur Siegel, June Carroll</td>\n",
       "      <td>wikifonia</td>\n",
       "      <td>Love Is A Simple Thing</td>\n",
       "    </tr>\n",
       "    <tr>\n",
       "      <th>4</th>\n",
       "      <td>midi_sources/wikifonia/Unknow - KINDERLIEDJES ...</td>\n",
       "      <td>pop,inferred</td>\n",
       "      <td>cb2beddd4a86439dcf2d80b5fc6b4e4f</td>\n",
       "      <td>Unknow</td>\n",
       "      <td>wikifonia</td>\n",
       "      <td>KINDERLIEDJES MEDLEY</td>\n",
       "    </tr>\n",
       "  </tbody>\n",
       "</table>\n",
       "</div>"
      ],
      "text/plain": [
       "                                                 mxl        genres  \\\n",
       "0  midi_sources/wikifonia/Tommy Dorsey - Swingin'...  pop,inferred   \n",
       "1  midi_sources/wikifonia/Amanda McBroom - The Ro...  pop,inferred   \n",
       "2  midi_sources/wikifonia/Hans Leo Hassler, From ...  pop,inferred   \n",
       "3  midi_sources/wikifonia/Arthur Siegel, June Car...  pop,inferred   \n",
       "4  midi_sources/wikifonia/Unknow - KINDERLIEDJES ...  pop,inferred   \n",
       "\n",
       "                                md5                            artist  \\\n",
       "0  f3418afa104cd03604c8831123e086e4                      Tommy Dorsey   \n",
       "1  a01bde25baf5c5a91b9f6235bf019890                    Amanda McBroom   \n",
       "2  4beb6aafed89a87a8171da906d8b5ff8  Hans Leo Hassler, From the Latin   \n",
       "3  a739908a6505fcbe8c7d9bf7b1e47492       Arthur Siegel, June Carroll   \n",
       "4  cb2beddd4a86439dcf2d80b5fc6b4e4f                            Unknow   \n",
       "\n",
       "      source                      title  \n",
       "0  wikifonia        Swingin' on Nothin'  \n",
       "1  wikifonia                   The Rose  \n",
       "2  wikifonia  O Sacred Head Now Wounded  \n",
       "3  wikifonia     Love Is A Simple Thing  \n",
       "4  wikifonia       KINDERLIEDJES MEDLEY  "
      ]
     },
     "execution_count": 42,
     "metadata": {},
     "output_type": "execute_result"
    }
   ],
   "source": [
    "# Warning: if you get a deadlock: \n",
    "# PosixPath('data/midi/midi_sources/midiworld/named_midi/NITRO_BRO_-_IT_WONT_DIE.mid') is broken\n",
    "file_list = get_files(wf_path, extensions=['.mxl'], recurse=True)\n",
    "wf_md = directory2csv(file_list, meta_func=parse_wikifonia_songs, csv_path=wf_csv)\n",
    "df = pd.read_csv(wf_csv); df.head()"
   ]
  },
  {
   "cell_type": "markdown",
   "metadata": {},
   "source": [
    "### Gather Musescore"
   ]
  },
  {
   "cell_type": "code",
   "execution_count": 13,
   "metadata": {},
   "outputs": [],
   "source": [
    "ms_path, ms_csv = create_paths('musescore')\n",
    "ms_songs = load_json(ms_path/'song_map.json')"
   ]
  },
  {
   "cell_type": "code",
   "execution_count": 14,
   "metadata": {},
   "outputs": [],
   "source": [
    "def get_number(num_str):\n",
    "    num_str = num_str.replace(',','').split(' ')[0]\n",
    "    return int(num_str)"
   ]
  },
  {
   "cell_type": "code",
   "execution_count": 15,
   "metadata": {},
   "outputs": [],
   "source": [
    "def parse_musescore_songs(fp):\n",
    "    score_id = fp.with_suffix('').name\n",
    "    if score_id not in ms_songs: return None\n",
    "    \n",
    "    meta = ms_songs[score_id]\n",
    "    parts = get_number(meta['parts'])\n",
    "    views = get_number(meta['views'])\n",
    "    if parts > 2 or views < 90: return None\n",
    "    \n",
    "    return {\n",
    "        'artist': meta['author'].strip(),\n",
    "        'title': meta['title'].strip(),\n",
    "        'mxl': relative_path(fp),\n",
    "        'genres': 'classical,pop,inferred',\n",
    "        'source': 'musescore'\n",
    "    }"
   ]
  },
  {
   "cell_type": "code",
   "execution_count": 21,
   "metadata": {},
   "outputs": [
    {
     "data": {
      "text/html": [
       "<div>\n",
       "<style scoped>\n",
       "    .dataframe tbody tr th:only-of-type {\n",
       "        vertical-align: middle;\n",
       "    }\n",
       "\n",
       "    .dataframe tbody tr th {\n",
       "        vertical-align: top;\n",
       "    }\n",
       "\n",
       "    .dataframe thead th {\n",
       "        text-align: right;\n",
       "    }\n",
       "</style>\n",
       "<table border=\"1\" class=\"dataframe\">\n",
       "  <thead>\n",
       "    <tr style=\"text-align: right;\">\n",
       "      <th></th>\n",
       "      <th>mxl</th>\n",
       "      <th>genres</th>\n",
       "      <th>artist</th>\n",
       "      <th>md5</th>\n",
       "      <th>source</th>\n",
       "      <th>title</th>\n",
       "    </tr>\n",
       "  </thead>\n",
       "  <tbody>\n",
       "    <tr>\n",
       "      <th>0</th>\n",
       "      <td>midi_sources/musescore/data/2985741.mxl</td>\n",
       "      <td>classical,pop,inferred</td>\n",
       "      <td>000@xn--80akgejic5ahko1h.xn--p1ai</td>\n",
       "      <td>36fb6c38927e5e025f7f8427770cf8fa</td>\n",
       "      <td>musescore</td>\n",
       "      <td>Упражнение 2</td>\n",
       "    </tr>\n",
       "    <tr>\n",
       "      <th>1</th>\n",
       "      <td>midi_sources/musescore/data/1425126.mxl</td>\n",
       "      <td>classical,pop,inferred</td>\n",
       "      <td>sam027</td>\n",
       "      <td>b666753133bc72910840a97bddb1fbf9</td>\n",
       "      <td>musescore</td>\n",
       "      <td>Place de la République - Coeur de pirate</td>\n",
       "    </tr>\n",
       "    <tr>\n",
       "      <th>2</th>\n",
       "      <td>midi_sources/musescore/data/5370824.mxl</td>\n",
       "      <td>classical,pop,inferred</td>\n",
       "      <td>CrazyClique</td>\n",
       "      <td>83de066be1fa555a986376170c467f99</td>\n",
       "      <td>musescore</td>\n",
       "      <td>Beyond The Trees - Original Composition</td>\n",
       "    </tr>\n",
       "    <tr>\n",
       "      <th>3</th>\n",
       "      <td>midi_sources/musescore/data/1195001.mxl</td>\n",
       "      <td>classical,pop,inferred</td>\n",
       "      <td>Mjmatthews51</td>\n",
       "      <td>a85e407d2427234ee6bf5aa7ae5ce5e9</td>\n",
       "      <td>musescore</td>\n",
       "      <td>Sister Sadie</td>\n",
       "    </tr>\n",
       "    <tr>\n",
       "      <th>4</th>\n",
       "      <td>midi_sources/musescore/data/4621586.mxl</td>\n",
       "      <td>classical,pop,inferred</td>\n",
       "      <td>Spencer Vanderkley</td>\n",
       "      <td>d1f72939369c106948993bba9b4fc0a9</td>\n",
       "      <td>musescore</td>\n",
       "      <td>My Top 20 Film Soundtracks Medley</td>\n",
       "    </tr>\n",
       "  </tbody>\n",
       "</table>\n",
       "</div>"
      ],
      "text/plain": [
       "                                       mxl                  genres  \\\n",
       "0  midi_sources/musescore/data/2985741.mxl  classical,pop,inferred   \n",
       "1  midi_sources/musescore/data/1425126.mxl  classical,pop,inferred   \n",
       "2  midi_sources/musescore/data/5370824.mxl  classical,pop,inferred   \n",
       "3  midi_sources/musescore/data/1195001.mxl  classical,pop,inferred   \n",
       "4  midi_sources/musescore/data/4621586.mxl  classical,pop,inferred   \n",
       "\n",
       "                              artist                               md5  \\\n",
       "0  000@xn--80akgejic5ahko1h.xn--p1ai  36fb6c38927e5e025f7f8427770cf8fa   \n",
       "1                             sam027  b666753133bc72910840a97bddb1fbf9   \n",
       "2                        CrazyClique  83de066be1fa555a986376170c467f99   \n",
       "3                       Mjmatthews51  a85e407d2427234ee6bf5aa7ae5ce5e9   \n",
       "4                 Spencer Vanderkley  d1f72939369c106948993bba9b4fc0a9   \n",
       "\n",
       "      source                                     title  \n",
       "0  musescore                              Упражнение 2  \n",
       "1  musescore  Place de la République - Coeur de pirate  \n",
       "2  musescore   Beyond The Trees - Original Composition  \n",
       "3  musescore                              Sister Sadie  \n",
       "4  musescore         My Top 20 Film Soundtracks Medley  "
      ]
     },
     "execution_count": 21,
     "metadata": {},
     "output_type": "execute_result"
    }
   ],
   "source": [
    "# Warning: if you get a deadlock: \n",
    "# PosixPath('data/midi/midi_sources/midiworld/named_midi/NITRO_BRO_-_IT_WONT_DIE.mid') is broken\n",
    "file_list = get_files(ms_path, extensions=['.mxl'], recurse=True)\n",
    "ms_list = directory2csv(file_list, meta_func=parse_musescore_songs, csv_path=ms_csv)\n",
    "df = pd.read_csv(ms_csv); df.head()"
   ]
  },
  {
   "cell_type": "markdown",
   "metadata": {},
   "source": [
    "### Yamaha - piano"
   ]
  },
  {
   "cell_type": "code",
   "execution_count": 48,
   "metadata": {},
   "outputs": [],
   "source": [
    "ec_path, ec_csv = create_paths('ecomp')\n",
    "ec_songs = load_json(ec_path/'song_list.json')\n",
    "# list(ec_path.glob('*'))[:5]"
   ]
  },
  {
   "cell_type": "code",
   "execution_count": 49,
   "metadata": {},
   "outputs": [],
   "source": [
    "def parse_ecomp_songs(fp):\n",
    "    song_info = ec_songs[fp.stem]\n",
    "    return {\n",
    "        'artist': song_info['artist'],\n",
    "        'title': song_info['title'],\n",
    "        'mxl': relative_path(fp),\n",
    "        'genres': 'classical',\n",
    "        'source': 'ecomp'\n",
    "    }"
   ]
  },
  {
   "cell_type": "code",
   "execution_count": 50,
   "metadata": {},
   "outputs": [],
   "source": [
    "file_list = get_files(ec_path, extensions=['.mxl'], recurse=True)"
   ]
  },
  {
   "cell_type": "code",
   "execution_count": 51,
   "metadata": {},
   "outputs": [
    {
     "data": {
      "text/html": [
       "<div>\n",
       "<style scoped>\n",
       "    .dataframe tbody tr th:only-of-type {\n",
       "        vertical-align: middle;\n",
       "    }\n",
       "\n",
       "    .dataframe tbody tr th {\n",
       "        vertical-align: top;\n",
       "    }\n",
       "\n",
       "    .dataframe thead th {\n",
       "        text-align: right;\n",
       "    }\n",
       "</style>\n",
       "<table border=\"1\" class=\"dataframe\">\n",
       "  <thead>\n",
       "    <tr style=\"text-align: right;\">\n",
       "      <th></th>\n",
       "      <th>mxl</th>\n",
       "      <th>genres</th>\n",
       "      <th>md5</th>\n",
       "      <th>artist</th>\n",
       "      <th>source</th>\n",
       "      <th>title</th>\n",
       "    </tr>\n",
       "  </thead>\n",
       "  <tbody>\n",
       "    <tr>\n",
       "      <th>0</th>\n",
       "      <td>midi_sources/ecomp/2017/SirajA01.mxl</td>\n",
       "      <td>classical</td>\n",
       "      <td>39099f086fdc79c2828c13274fcd0f25</td>\n",
       "      <td>Johann    Sebastian Bach</td>\n",
       "      <td>ecomp</td>\n",
       "      <td>Prelude and    Fugue in E-flat Major, WTC II, ...</td>\n",
       "    </tr>\n",
       "    <tr>\n",
       "      <th>1</th>\n",
       "      <td>midi_sources/ecomp/2017/LiC05.mxl</td>\n",
       "      <td>classical</td>\n",
       "      <td>fe22a58bcff66e8b724b71c10b5465b6</td>\n",
       "      <td>Moritz    Moszkowski</td>\n",
       "      <td>ecomp</td>\n",
       "      <td>Chanson Boheme de    l'Opera \"Carmen\" by Georg...</td>\n",
       "    </tr>\n",
       "    <tr>\n",
       "      <th>2</th>\n",
       "      <td>midi_sources/ecomp/2017/WangY05.mxl</td>\n",
       "      <td>classical</td>\n",
       "      <td>8b38131646b8d71dc10269d3e2d608d0</td>\n",
       "      <td>Nikolai     Kapustin</td>\n",
       "      <td>ecomp</td>\n",
       "      <td>Concert Etude Op. 40    No. 3</td>\n",
       "    </tr>\n",
       "    <tr>\n",
       "      <th>3</th>\n",
       "      <td>midi_sources/ecomp/2017/SunY05.mxl</td>\n",
       "      <td>classical</td>\n",
       "      <td>2637be3aec226a2fb74e86bb7a1fde81</td>\n",
       "      <td></td>\n",
       "      <td>ecomp</td>\n",
       "      <td>I. Con moto agitato. Andante. Con moto agitato</td>\n",
       "    </tr>\n",
       "    <tr>\n",
       "      <th>4</th>\n",
       "      <td>midi_sources/ecomp/2017/ZhangE06.mxl</td>\n",
       "      <td>classical</td>\n",
       "      <td>c154b4269f8c8cecdb5b2972e3e2d831</td>\n",
       "      <td>Giuseppe     Scarlatti</td>\n",
       "      <td>ecomp</td>\n",
       "      <td>Sonata in G Major, K.    455</td>\n",
       "    </tr>\n",
       "  </tbody>\n",
       "</table>\n",
       "</div>"
      ],
      "text/plain": [
       "                                    mxl     genres  \\\n",
       "0  midi_sources/ecomp/2017/SirajA01.mxl  classical   \n",
       "1     midi_sources/ecomp/2017/LiC05.mxl  classical   \n",
       "2   midi_sources/ecomp/2017/WangY05.mxl  classical   \n",
       "3    midi_sources/ecomp/2017/SunY05.mxl  classical   \n",
       "4  midi_sources/ecomp/2017/ZhangE06.mxl  classical   \n",
       "\n",
       "                                md5                    artist source  \\\n",
       "0  39099f086fdc79c2828c13274fcd0f25  Johann    Sebastian Bach  ecomp   \n",
       "1  fe22a58bcff66e8b724b71c10b5465b6      Moritz    Moszkowski  ecomp   \n",
       "2  8b38131646b8d71dc10269d3e2d608d0      Nikolai     Kapustin  ecomp   \n",
       "3  2637be3aec226a2fb74e86bb7a1fde81                            ecomp   \n",
       "4  c154b4269f8c8cecdb5b2972e3e2d831    Giuseppe     Scarlatti  ecomp   \n",
       "\n",
       "                                               title  \n",
       "0  Prelude and    Fugue in E-flat Major, WTC II, ...  \n",
       "1  Chanson Boheme de    l'Opera \"Carmen\" by Georg...  \n",
       "2                      Concert Etude Op. 40    No. 3  \n",
       "3     I. Con moto agitato. Andante. Con moto agitato  \n",
       "4                       Sonata in G Major, K.    455  "
      ]
     },
     "execution_count": 51,
     "metadata": {},
     "output_type": "execute_result"
    }
   ],
   "source": [
    "ec_md = directory2csv(file_list, meta_func=parse_ecomp_songs, csv_path=ec_csv)\n",
    "df = pd.read_csv(ec_csv); df.head()"
   ]
  },
  {
   "cell_type": "markdown",
   "metadata": {},
   "source": [
    "### Classic Piano"
   ]
  },
  {
   "cell_type": "code",
   "execution_count": 52,
   "metadata": {},
   "outputs": [],
   "source": [
    "clc_path, clc_csv = create_paths('classic_piano')\n",
    "# list(clc_path.glob('*'))[:5]"
   ]
  },
  {
   "cell_type": "code",
   "execution_count": 53,
   "metadata": {},
   "outputs": [],
   "source": [
    "def parse_classic_songs(fp):\n",
    "    name = fp.with_suffix('').name.split('_')\n",
    "    artist = name[0]\n",
    "    title = ' '.join(name[1:])\n",
    "    return {\n",
    "        'artist': artist,\n",
    "        'title': title,\n",
    "        'mxl': relative_path(fp),\n",
    "        'genres': 'classical',\n",
    "        'source': 'classical_piano'\n",
    "    }"
   ]
  },
  {
   "cell_type": "code",
   "execution_count": 54,
   "metadata": {},
   "outputs": [],
   "source": [
    "file_list = get_files(clc_path, extensions=['.mxl'], recurse=True)"
   ]
  },
  {
   "cell_type": "code",
   "execution_count": 55,
   "metadata": {},
   "outputs": [
    {
     "data": {
      "text/html": [
       "<div>\n",
       "<style scoped>\n",
       "    .dataframe tbody tr th:only-of-type {\n",
       "        vertical-align: middle;\n",
       "    }\n",
       "\n",
       "    .dataframe tbody tr th {\n",
       "        vertical-align: top;\n",
       "    }\n",
       "\n",
       "    .dataframe thead th {\n",
       "        text-align: right;\n",
       "    }\n",
       "</style>\n",
       "<table border=\"1\" class=\"dataframe\">\n",
       "  <thead>\n",
       "    <tr style=\"text-align: right;\">\n",
       "      <th></th>\n",
       "      <th>mxl</th>\n",
       "      <th>genres</th>\n",
       "      <th>md5</th>\n",
       "      <th>artist</th>\n",
       "      <th>source</th>\n",
       "      <th>title</th>\n",
       "    </tr>\n",
       "  </thead>\n",
       "  <tbody>\n",
       "    <tr>\n",
       "      <th>0</th>\n",
       "      <td>midi_sources/classic_piano/liz_rhap15_format0.mxl</td>\n",
       "      <td>classical</td>\n",
       "      <td>93d730fce9a3e2fabe1a0ea3e2cf80b6</td>\n",
       "      <td>liz</td>\n",
       "      <td>classical_piano</td>\n",
       "      <td>rhap15 format0</td>\n",
       "    </tr>\n",
       "    <tr>\n",
       "      <th>1</th>\n",
       "      <td>midi_sources/classic_piano/ty_september_format...</td>\n",
       "      <td>classical</td>\n",
       "      <td>d45bf8f2b4b0242879305a8423a3cb99</td>\n",
       "      <td>ty</td>\n",
       "      <td>classical_piano</td>\n",
       "      <td>september format0</td>\n",
       "    </tr>\n",
       "    <tr>\n",
       "      <th>2</th>\n",
       "      <td>midi_sources/classic_piano/schumm-3_format0.mxl</td>\n",
       "      <td>classical</td>\n",
       "      <td>2238d47b4162b55bafee79b16af46a37</td>\n",
       "      <td>schumm-3</td>\n",
       "      <td>classical_piano</td>\n",
       "      <td>format0</td>\n",
       "    </tr>\n",
       "    <tr>\n",
       "      <th>3</th>\n",
       "      <td>midi_sources/classic_piano/chpn_op33_4_format0...</td>\n",
       "      <td>classical</td>\n",
       "      <td>3d5c30ba63b886de6555a5d4911cf55f</td>\n",
       "      <td>chpn</td>\n",
       "      <td>classical_piano</td>\n",
       "      <td>op33 4 format0</td>\n",
       "    </tr>\n",
       "    <tr>\n",
       "      <th>4</th>\n",
       "      <td>midi_sources/classic_piano/grieg_spring_format...</td>\n",
       "      <td>classical</td>\n",
       "      <td>51758e4fb8b37d0389148d37652b1d58</td>\n",
       "      <td>grieg</td>\n",
       "      <td>classical_piano</td>\n",
       "      <td>spring format0</td>\n",
       "    </tr>\n",
       "  </tbody>\n",
       "</table>\n",
       "</div>"
      ],
      "text/plain": [
       "                                                 mxl     genres  \\\n",
       "0  midi_sources/classic_piano/liz_rhap15_format0.mxl  classical   \n",
       "1  midi_sources/classic_piano/ty_september_format...  classical   \n",
       "2    midi_sources/classic_piano/schumm-3_format0.mxl  classical   \n",
       "3  midi_sources/classic_piano/chpn_op33_4_format0...  classical   \n",
       "4  midi_sources/classic_piano/grieg_spring_format...  classical   \n",
       "\n",
       "                                md5    artist           source  \\\n",
       "0  93d730fce9a3e2fabe1a0ea3e2cf80b6       liz  classical_piano   \n",
       "1  d45bf8f2b4b0242879305a8423a3cb99        ty  classical_piano   \n",
       "2  2238d47b4162b55bafee79b16af46a37  schumm-3  classical_piano   \n",
       "3  3d5c30ba63b886de6555a5d4911cf55f      chpn  classical_piano   \n",
       "4  51758e4fb8b37d0389148d37652b1d58     grieg  classical_piano   \n",
       "\n",
       "               title  \n",
       "0     rhap15 format0  \n",
       "1  september format0  \n",
       "2            format0  \n",
       "3     op33 4 format0  \n",
       "4     spring format0  "
      ]
     },
     "execution_count": 55,
     "metadata": {},
     "output_type": "execute_result"
    }
   ],
   "source": [
    "clc_md = directory2csv(file_list, meta_func=parse_classic_songs, csv_path=clc_csv)\n",
    "df = pd.read_csv(clc_csv); df.head()"
   ]
  },
  {
   "cell_type": "markdown",
   "metadata": {},
   "source": [
    "### Creating CSV"
   ]
  },
  {
   "cell_type": "code",
   "execution_count": 35,
   "metadata": {},
   "outputs": [],
   "source": [
    "all_csvs = [create_paths(s)[-1] for s in sources]\n",
    "all_dfs = [pd.read_csv(csv) for csv in all_csvs]"
   ]
  },
  {
   "cell_type": "code",
   "execution_count": 36,
   "metadata": {},
   "outputs": [
    {
     "data": {
      "text/html": [
       "<div>\n",
       "<style scoped>\n",
       "    .dataframe tbody tr th:only-of-type {\n",
       "        vertical-align: middle;\n",
       "    }\n",
       "\n",
       "    .dataframe tbody tr th {\n",
       "        vertical-align: top;\n",
       "    }\n",
       "\n",
       "    .dataframe thead th {\n",
       "        text-align: right;\n",
       "    }\n",
       "</style>\n",
       "<table border=\"1\" class=\"dataframe\">\n",
       "  <thead>\n",
       "    <tr style=\"text-align: right;\">\n",
       "      <th></th>\n",
       "      <th>song_url</th>\n",
       "      <th>ht_bpm</th>\n",
       "      <th>ht_time_signature</th>\n",
       "      <th>midi</th>\n",
       "      <th>genres</th>\n",
       "      <th>artist</th>\n",
       "      <th>md5</th>\n",
       "      <th>section</th>\n",
       "      <th>ht_key</th>\n",
       "      <th>source</th>\n",
       "      <th>parts</th>\n",
       "      <th>midi_title</th>\n",
       "      <th>title</th>\n",
       "      <th>ht_offset</th>\n",
       "      <th>ht_mode</th>\n",
       "      <th>mxl</th>\n",
       "    </tr>\n",
       "  </thead>\n",
       "  <tbody>\n",
       "    <tr>\n",
       "      <th>0</th>\n",
       "      <td>https://www.hooktheory.com/theorytab/view/wayn...</td>\n",
       "      <td>128.0</td>\n",
       "      <td>4.0</td>\n",
       "      <td>midi_sources/hooktheory/pianoroll/w/wayne-shar...</td>\n",
       "      <td>NaN</td>\n",
       "      <td>wayne-sharpe</td>\n",
       "      <td>bf1f29e5ff84e3e93e37fb873bfb590e</td>\n",
       "      <td>chorus</td>\n",
       "      <td>C</td>\n",
       "      <td>hooktheory</td>\n",
       "      <td>intro,chorus</td>\n",
       "      <td>yu-gi-oh3</td>\n",
       "      <td>yu-gi-oh-theme-song</td>\n",
       "      <td>0.0</td>\n",
       "      <td>1.0</td>\n",
       "      <td>NaN</td>\n",
       "    </tr>\n",
       "    <tr>\n",
       "      <th>1</th>\n",
       "      <td>https://www.hooktheory.com/theorytab/view/wayn...</td>\n",
       "      <td>85.0</td>\n",
       "      <td>3.0</td>\n",
       "      <td>midi_sources/hooktheory/pianoroll/w/wayne-shar...</td>\n",
       "      <td>NaN</td>\n",
       "      <td>wayne-sharpe</td>\n",
       "      <td>055f80ad67f64edb14a85ca8fbfe8c29</td>\n",
       "      <td>intro</td>\n",
       "      <td>C</td>\n",
       "      <td>hooktheory</td>\n",
       "      <td>intro,chorus</td>\n",
       "      <td>yu-gi-oh</td>\n",
       "      <td>yu-gi-oh-theme-song</td>\n",
       "      <td>0.0</td>\n",
       "      <td>1.0</td>\n",
       "      <td>NaN</td>\n",
       "    </tr>\n",
       "    <tr>\n",
       "      <th>2</th>\n",
       "      <td>https://www.hooktheory.com/theorytab/view/what...</td>\n",
       "      <td>96.0</td>\n",
       "      <td>4.0</td>\n",
       "      <td>midi_sources/hooktheory/pianoroll/w/what-a-day...</td>\n",
       "      <td>Jazz</td>\n",
       "      <td>what-a-day</td>\n",
       "      <td>197f96f5d181f6ce1e2c5ab04ac1ff87</td>\n",
       "      <td>chorus</td>\n",
       "      <td>D</td>\n",
       "      <td>hooktheory</td>\n",
       "      <td>chorus</td>\n",
       "      <td>kiefer</td>\n",
       "      <td>kiefer</td>\n",
       "      <td>-5.0</td>\n",
       "      <td>6.0</td>\n",
       "      <td>NaN</td>\n",
       "    </tr>\n",
       "    <tr>\n",
       "      <th>3</th>\n",
       "      <td>https://www.hooktheory.com/theorytab/view/whit...</td>\n",
       "      <td>152.0</td>\n",
       "      <td>4.0</td>\n",
       "      <td>midi_sources/hooktheory/pianoroll/w/whiteflame...</td>\n",
       "      <td>J-Pop,Pop</td>\n",
       "      <td>whiteflame</td>\n",
       "      <td>9e7ce13a35f1314423a9a6d5a5287a4a</td>\n",
       "      <td>pre-chorus</td>\n",
       "      <td>D</td>\n",
       "      <td>hooktheory</td>\n",
       "      <td>verse,pre-chorus,chorus</td>\n",
       "      <td>senbonzakura - pre-Pre-Chorus</td>\n",
       "      <td>senbonzakura</td>\n",
       "      <td>-5.0</td>\n",
       "      <td>6.0</td>\n",
       "      <td>NaN</td>\n",
       "    </tr>\n",
       "    <tr>\n",
       "      <th>4</th>\n",
       "      <td>https://www.hooktheory.com/theorytab/view/whit...</td>\n",
       "      <td>152.0</td>\n",
       "      <td>4.0</td>\n",
       "      <td>midi_sources/hooktheory/pianoroll/w/whiteflame...</td>\n",
       "      <td>J-Pop,Pop</td>\n",
       "      <td>whiteflame</td>\n",
       "      <td>d5aaf79d0989222f1362f9f46c540a27</td>\n",
       "      <td>verse</td>\n",
       "      <td>D</td>\n",
       "      <td>hooktheory</td>\n",
       "      <td>verse,pre-chorus,chorus</td>\n",
       "      <td>Senbonzakura</td>\n",
       "      <td>senbonzakura</td>\n",
       "      <td>-5.0</td>\n",
       "      <td>6.0</td>\n",
       "      <td>NaN</td>\n",
       "    </tr>\n",
       "  </tbody>\n",
       "</table>\n",
       "</div>"
      ],
      "text/plain": [
       "                                            song_url  ht_bpm  \\\n",
       "0  https://www.hooktheory.com/theorytab/view/wayn...   128.0   \n",
       "1  https://www.hooktheory.com/theorytab/view/wayn...    85.0   \n",
       "2  https://www.hooktheory.com/theorytab/view/what...    96.0   \n",
       "3  https://www.hooktheory.com/theorytab/view/whit...   152.0   \n",
       "4  https://www.hooktheory.com/theorytab/view/whit...   152.0   \n",
       "\n",
       "   ht_time_signature                                               midi  \\\n",
       "0                4.0  midi_sources/hooktheory/pianoroll/w/wayne-shar...   \n",
       "1                3.0  midi_sources/hooktheory/pianoroll/w/wayne-shar...   \n",
       "2                4.0  midi_sources/hooktheory/pianoroll/w/what-a-day...   \n",
       "3                4.0  midi_sources/hooktheory/pianoroll/w/whiteflame...   \n",
       "4                4.0  midi_sources/hooktheory/pianoroll/w/whiteflame...   \n",
       "\n",
       "      genres        artist                               md5     section  \\\n",
       "0        NaN  wayne-sharpe  bf1f29e5ff84e3e93e37fb873bfb590e      chorus   \n",
       "1        NaN  wayne-sharpe  055f80ad67f64edb14a85ca8fbfe8c29       intro   \n",
       "2       Jazz    what-a-day  197f96f5d181f6ce1e2c5ab04ac1ff87      chorus   \n",
       "3  J-Pop,Pop    whiteflame  9e7ce13a35f1314423a9a6d5a5287a4a  pre-chorus   \n",
       "4  J-Pop,Pop    whiteflame  d5aaf79d0989222f1362f9f46c540a27       verse   \n",
       "\n",
       "  ht_key      source                    parts                     midi_title  \\\n",
       "0      C  hooktheory             intro,chorus                      yu-gi-oh3   \n",
       "1      C  hooktheory             intro,chorus                       yu-gi-oh   \n",
       "2      D  hooktheory                   chorus                         kiefer   \n",
       "3      D  hooktheory  verse,pre-chorus,chorus  senbonzakura - pre-Pre-Chorus   \n",
       "4      D  hooktheory  verse,pre-chorus,chorus                   Senbonzakura   \n",
       "\n",
       "                 title  ht_offset  ht_mode  mxl  \n",
       "0  yu-gi-oh-theme-song        0.0      1.0  NaN  \n",
       "1  yu-gi-oh-theme-song        0.0      1.0  NaN  \n",
       "2               kiefer       -5.0      6.0  NaN  \n",
       "3         senbonzakura       -5.0      6.0  NaN  \n",
       "4         senbonzakura       -5.0      6.0  NaN  "
      ]
     },
     "execution_count": 36,
     "metadata": {},
     "output_type": "execute_result"
    }
   ],
   "source": [
    "merged_df = pd.concat(all_dfs, sort=False)\n",
    "merged_df = merged_df.reset_index(drop=True); merged_df.head()"
   ]
  },
  {
   "cell_type": "code",
   "execution_count": 37,
   "metadata": {},
   "outputs": [],
   "source": [
    "deduped = merged_df.drop_duplicates(subset=['md5'], keep='first') # "
   ]
  },
  {
   "cell_type": "markdown",
   "metadata": {},
   "source": [
    "Midiworld - 90% duplicates with rest  \n",
    "Freemidi - 50% duplicates with rest  \n",
    "LMD - 70% duplicates with rest"
   ]
  },
  {
   "cell_type": "code",
   "execution_count": 65,
   "metadata": {},
   "outputs": [],
   "source": [
    "# from collections import Counter\n",
    "# # No dedups\n",
    "# print(Counter(merged_df.source.values))\n",
    "# # replacing reddit\n",
    "# print(Counter(merged_df.drop_duplicates(subset=['md5'], keep='first').source.values))\n",
    "# # reddit replace else\n",
    "# print(Counter(merged_df.drop_duplicates(subset=['md5'], keep='last').source.values))\n",
    "# # Midiworld - 90% duplicates with rest, \n",
    "# # Freemidi - 50% duplicates with rest,\n",
    "# # LMD - 70% duplicates with rest"
   ]
  },
  {
   "cell_type": "code",
   "execution_count": 38,
   "metadata": {},
   "outputs": [
    {
     "data": {
      "text/plain": [
       "Counter({'hooktheory': 19882,\n",
       "         'hooktheory_c': 18286,\n",
       "         'freemidi': 5168,\n",
       "         'midiworld': 4109,\n",
       "         'ecomp': 2735,\n",
       "         'cprato': 312,\n",
       "         'classical_piano': 329,\n",
       "         'musescore': 12253,\n",
       "         'wikifonia': 6391,\n",
       "         'lmd': 13568,\n",
       "         'reddit': 98683})"
      ]
     },
     "execution_count": 38,
     "metadata": {},
     "output_type": "execute_result"
    }
   ],
   "source": [
    "from collections import Counter\n",
    "Counter(deduped.source.values)"
   ]
  },
  {
   "cell_type": "code",
   "execution_count": 39,
   "metadata": {},
   "outputs": [
    {
     "data": {
      "text/plain": [
       "([(20076, 15),\n",
       "  (20076, 15),\n",
       "  (5784, 6),\n",
       "  (4711, 6),\n",
       "  (2735, 6),\n",
       "  (314, 6),\n",
       "  (329, 6),\n",
       "  (12256, 6),\n",
       "  (6391, 6),\n",
       "  (17243, 6),\n",
       "  (128419, 6)],\n",
       " (218334, 16),\n",
       " (181716, 16))"
      ]
     },
     "execution_count": 39,
     "metadata": {},
     "output_type": "execute_result"
    }
   ],
   "source": [
    "[df.shape for df in all_dfs], merged_df.shape, deduped.shape"
   ]
  },
  {
   "cell_type": "code",
   "execution_count": 40,
   "metadata": {},
   "outputs": [],
   "source": [
    "deduped.to_csv(all_csv, index=False)"
   ]
  },
  {
   "cell_type": "code",
   "execution_count": null,
   "metadata": {},
   "outputs": [],
   "source": []
  }
 ],
 "metadata": {
  "kernelspec": {
   "display_name": "Python 3",
   "language": "python",
   "name": "python3"
  },
  "language_info": {
   "codemirror_mode": {
    "name": "ipython",
    "version": 3
   },
   "file_extension": ".py",
   "mimetype": "text/x-python",
   "name": "python",
   "nbconvert_exporter": "python",
   "pygments_lexer": "ipython3",
   "version": "3.7.1"
  }
 },
 "nbformat": 4,
 "nbformat_minor": 2
}

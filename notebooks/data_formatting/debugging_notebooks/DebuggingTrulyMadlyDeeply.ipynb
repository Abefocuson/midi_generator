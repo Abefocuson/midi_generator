{
 "cells": [
  {
   "cell_type": "code",
   "execution_count": 1,
   "metadata": {},
   "outputs": [],
   "source": [
    "%reload_ext autoreload\n",
    "%autoreload 2\n",
    "%matplotlib inline"
   ]
  },
  {
   "cell_type": "code",
   "execution_count": 2,
   "metadata": {},
   "outputs": [],
   "source": [
    "import sys\n",
    "sys.path.insert(0, '../../')\n",
    "from src.encode_data import *\n",
    "from src.midi_data import *\n",
    "# from src.data_sources import process_parallel, transform_csv_row\n",
    "from src.midi_transform import *\n",
    "from concurrent.futures import ProcessPoolExecutor\n",
    "from fastprogress.fastprogress import master_bar, progress_bar"
   ]
  },
  {
   "cell_type": "code",
   "execution_count": 3,
   "metadata": {},
   "outputs": [],
   "source": [
    "from tqdm import tqdm"
   ]
  },
  {
   "cell_type": "markdown",
   "metadata": {},
   "source": [
    "## Standardize and reformat raw midi files before encoding to text\n",
    "- Transform key to C major\n",
    "- Remove unused instruments\n",
    "- Combine multiple tracks with the same instrument into a single part\n",
    "- Melody, Piano, String"
   ]
  },
  {
   "cell_type": "markdown",
   "metadata": {},
   "source": [
    "### Load midi data"
   ]
  },
  {
   "cell_type": "code",
   "execution_count": 4,
   "metadata": {},
   "outputs": [],
   "source": [
    "version = 'v12'\n",
    "data_path = Path('data/midi')\n",
    "version_path = data_path/version"
   ]
  },
  {
   "cell_type": "code",
   "execution_count": 5,
   "metadata": {},
   "outputs": [],
   "source": [
    "import pandas as pd"
   ]
  },
  {
   "cell_type": "code",
   "execution_count": 6,
   "metadata": {},
   "outputs": [
    {
     "data": {
      "text/plain": [
       "(PosixPath('data/midi/v12/metadata/midi_sources.csv'),\n",
       " PosixPath('data/midi/v12/midi_encode/midi_encode.csv'))"
      ]
     },
     "execution_count": 6,
     "metadata": {},
     "output_type": "execute_result"
    }
   ],
   "source": [
    "source_dir = 'midi_sources'\n",
    "out_dir = 'midi_encode'\n",
    "source_csv = version_path/'metadata'/f'{source_dir}.csv'\n",
    "out_csv = version_path/out_dir/f'{out_dir}.csv'\n",
    "out_csv.parent.mkdir(parents=True, exist_ok=True)\n",
    "source_csv, out_csv"
   ]
  },
  {
   "cell_type": "code",
   "execution_count": 7,
   "metadata": {},
   "outputs": [],
   "source": [
    "num_comps = 2 # note, duration\n",
    "cutoff = 4 # max instruments\n",
    "max_dur = 128"
   ]
  },
  {
   "cell_type": "markdown",
   "metadata": {},
   "source": [
    "### Via Data Sources"
   ]
  },
  {
   "cell_type": "code",
   "execution_count": 8,
   "metadata": {},
   "outputs": [],
   "source": [
    "import concurrent"
   ]
  },
  {
   "cell_type": "code",
   "execution_count": 9,
   "metadata": {},
   "outputs": [],
   "source": [
    "\n",
    "def process_all(func, arr, total=None, max_workers=None, timeout=None):\n",
    "    \"Process array in parallel\"\n",
    "    if total is None: total = len(arr)\n",
    "    results = []\n",
    "    with ProcessPoolExecutor(max_workers=max_workers) as ex:\n",
    "        futures = [ex.submit(func,o) for i,o in enumerate(arr)]\n",
    "        for f in progress_bar(concurrent.futures.as_completed(futures, timeout=timeout), total=total):\n",
    "            res = f.result(timeout=timeout)\n",
    "            if res is not None:\n",
    "                results.append(res)\n",
    "    return results"
   ]
  },
  {
   "cell_type": "markdown",
   "metadata": {},
   "source": [
    "### Midi formatting"
   ]
  },
  {
   "cell_type": "code",
   "execution_count": 8,
   "metadata": {},
   "outputs": [
    {
     "name": "stderr",
     "output_type": "stream",
     "text": [
      "/home/ubuntu/anaconda3/envs/midi/lib/python3.7/site-packages/IPython/core/interactiveshell.py:3020: DtypeWarning: Columns (0,7,8,10,11,15) have mixed types. Specify dtype option on import or set low_memory=False.\n",
      "  interactivity=interactivity, compiler=compiler, result=result)\n"
     ]
    },
    {
     "data": {
      "text/html": [
       "<div>\n",
       "<style scoped>\n",
       "    .dataframe tbody tr th:only-of-type {\n",
       "        vertical-align: middle;\n",
       "    }\n",
       "\n",
       "    .dataframe tbody tr th {\n",
       "        vertical-align: top;\n",
       "    }\n",
       "\n",
       "    .dataframe thead th {\n",
       "        text-align: right;\n",
       "    }\n",
       "</style>\n",
       "<table border=\"1\" class=\"dataframe\">\n",
       "  <thead>\n",
       "    <tr style=\"text-align: right;\">\n",
       "      <th></th>\n",
       "      <th>song_url</th>\n",
       "      <th>ht_bpm</th>\n",
       "      <th>ht_time_signature</th>\n",
       "      <th>midi</th>\n",
       "      <th>genres</th>\n",
       "      <th>artist</th>\n",
       "      <th>md5</th>\n",
       "      <th>section</th>\n",
       "      <th>ht_key</th>\n",
       "      <th>source</th>\n",
       "      <th>parts</th>\n",
       "      <th>midi_title</th>\n",
       "      <th>title</th>\n",
       "      <th>ht_offset</th>\n",
       "      <th>ht_mode</th>\n",
       "      <th>mxl</th>\n",
       "    </tr>\n",
       "  </thead>\n",
       "  <tbody>\n",
       "    <tr>\n",
       "      <th>0</th>\n",
       "      <td>https://www.hooktheory.com/theorytab/view/wayn...</td>\n",
       "      <td>128.0</td>\n",
       "      <td>4.0</td>\n",
       "      <td>midi_sources/hooktheory/pianoroll/w/wayne-shar...</td>\n",
       "      <td>NaN</td>\n",
       "      <td>wayne-sharpe</td>\n",
       "      <td>bf1f29e5ff84e3e93e37fb873bfb590e</td>\n",
       "      <td>chorus</td>\n",
       "      <td>C</td>\n",
       "      <td>hooktheory</td>\n",
       "      <td>intro,chorus</td>\n",
       "      <td>yu-gi-oh3</td>\n",
       "      <td>yu-gi-oh-theme-song</td>\n",
       "      <td>0.0</td>\n",
       "      <td>1.0</td>\n",
       "      <td>NaN</td>\n",
       "    </tr>\n",
       "    <tr>\n",
       "      <th>1</th>\n",
       "      <td>https://www.hooktheory.com/theorytab/view/wayn...</td>\n",
       "      <td>85.0</td>\n",
       "      <td>3.0</td>\n",
       "      <td>midi_sources/hooktheory/pianoroll/w/wayne-shar...</td>\n",
       "      <td>NaN</td>\n",
       "      <td>wayne-sharpe</td>\n",
       "      <td>055f80ad67f64edb14a85ca8fbfe8c29</td>\n",
       "      <td>intro</td>\n",
       "      <td>C</td>\n",
       "      <td>hooktheory</td>\n",
       "      <td>intro,chorus</td>\n",
       "      <td>yu-gi-oh</td>\n",
       "      <td>yu-gi-oh-theme-song</td>\n",
       "      <td>0.0</td>\n",
       "      <td>1.0</td>\n",
       "      <td>NaN</td>\n",
       "    </tr>\n",
       "    <tr>\n",
       "      <th>2</th>\n",
       "      <td>https://www.hooktheory.com/theorytab/view/what...</td>\n",
       "      <td>96.0</td>\n",
       "      <td>4.0</td>\n",
       "      <td>midi_sources/hooktheory/pianoroll/w/what-a-day...</td>\n",
       "      <td>Jazz</td>\n",
       "      <td>what-a-day</td>\n",
       "      <td>197f96f5d181f6ce1e2c5ab04ac1ff87</td>\n",
       "      <td>chorus</td>\n",
       "      <td>D</td>\n",
       "      <td>hooktheory</td>\n",
       "      <td>chorus</td>\n",
       "      <td>kiefer</td>\n",
       "      <td>kiefer</td>\n",
       "      <td>-5.0</td>\n",
       "      <td>6.0</td>\n",
       "      <td>NaN</td>\n",
       "    </tr>\n",
       "    <tr>\n",
       "      <th>3</th>\n",
       "      <td>https://www.hooktheory.com/theorytab/view/whit...</td>\n",
       "      <td>152.0</td>\n",
       "      <td>4.0</td>\n",
       "      <td>midi_sources/hooktheory/pianoroll/w/whiteflame...</td>\n",
       "      <td>J-Pop,Pop</td>\n",
       "      <td>whiteflame</td>\n",
       "      <td>9e7ce13a35f1314423a9a6d5a5287a4a</td>\n",
       "      <td>pre-chorus</td>\n",
       "      <td>D</td>\n",
       "      <td>hooktheory</td>\n",
       "      <td>verse,pre-chorus,chorus</td>\n",
       "      <td>senbonzakura - pre-Pre-Chorus</td>\n",
       "      <td>senbonzakura</td>\n",
       "      <td>-5.0</td>\n",
       "      <td>6.0</td>\n",
       "      <td>NaN</td>\n",
       "    </tr>\n",
       "    <tr>\n",
       "      <th>4</th>\n",
       "      <td>https://www.hooktheory.com/theorytab/view/whit...</td>\n",
       "      <td>152.0</td>\n",
       "      <td>4.0</td>\n",
       "      <td>midi_sources/hooktheory/pianoroll/w/whiteflame...</td>\n",
       "      <td>J-Pop,Pop</td>\n",
       "      <td>whiteflame</td>\n",
       "      <td>d5aaf79d0989222f1362f9f46c540a27</td>\n",
       "      <td>verse</td>\n",
       "      <td>D</td>\n",
       "      <td>hooktheory</td>\n",
       "      <td>verse,pre-chorus,chorus</td>\n",
       "      <td>Senbonzakura</td>\n",
       "      <td>senbonzakura</td>\n",
       "      <td>-5.0</td>\n",
       "      <td>6.0</td>\n",
       "      <td>NaN</td>\n",
       "    </tr>\n",
       "  </tbody>\n",
       "</table>\n",
       "</div>"
      ],
      "text/plain": [
       "                                            song_url  ht_bpm  \\\n",
       "0  https://www.hooktheory.com/theorytab/view/wayn...   128.0   \n",
       "1  https://www.hooktheory.com/theorytab/view/wayn...    85.0   \n",
       "2  https://www.hooktheory.com/theorytab/view/what...    96.0   \n",
       "3  https://www.hooktheory.com/theorytab/view/whit...   152.0   \n",
       "4  https://www.hooktheory.com/theorytab/view/whit...   152.0   \n",
       "\n",
       "   ht_time_signature                                               midi  \\\n",
       "0                4.0  midi_sources/hooktheory/pianoroll/w/wayne-shar...   \n",
       "1                3.0  midi_sources/hooktheory/pianoroll/w/wayne-shar...   \n",
       "2                4.0  midi_sources/hooktheory/pianoroll/w/what-a-day...   \n",
       "3                4.0  midi_sources/hooktheory/pianoroll/w/whiteflame...   \n",
       "4                4.0  midi_sources/hooktheory/pianoroll/w/whiteflame...   \n",
       "\n",
       "      genres        artist                               md5     section  \\\n",
       "0        NaN  wayne-sharpe  bf1f29e5ff84e3e93e37fb873bfb590e      chorus   \n",
       "1        NaN  wayne-sharpe  055f80ad67f64edb14a85ca8fbfe8c29       intro   \n",
       "2       Jazz    what-a-day  197f96f5d181f6ce1e2c5ab04ac1ff87      chorus   \n",
       "3  J-Pop,Pop    whiteflame  9e7ce13a35f1314423a9a6d5a5287a4a  pre-chorus   \n",
       "4  J-Pop,Pop    whiteflame  d5aaf79d0989222f1362f9f46c540a27       verse   \n",
       "\n",
       "  ht_key      source                    parts                     midi_title  \\\n",
       "0      C  hooktheory             intro,chorus                      yu-gi-oh3   \n",
       "1      C  hooktheory             intro,chorus                       yu-gi-oh   \n",
       "2      D  hooktheory                   chorus                         kiefer   \n",
       "3      D  hooktheory  verse,pre-chorus,chorus  senbonzakura - pre-Pre-Chorus   \n",
       "4      D  hooktheory  verse,pre-chorus,chorus                   Senbonzakura   \n",
       "\n",
       "                 title  ht_offset  ht_mode  mxl  \n",
       "0  yu-gi-oh-theme-song        0.0      1.0  NaN  \n",
       "1  yu-gi-oh-theme-song        0.0      1.0  NaN  \n",
       "2               kiefer       -5.0      6.0  NaN  \n",
       "3         senbonzakura       -5.0      6.0  NaN  \n",
       "4         senbonzakura       -5.0      6.0  NaN  "
      ]
     },
     "execution_count": 8,
     "metadata": {},
     "output_type": "execute_result"
    }
   ],
   "source": [
    "df = pd.read_csv(source_csv); df.head()"
   ]
  },
  {
   "cell_type": "code",
   "execution_count": 14,
   "metadata": {},
   "outputs": [
    {
     "data": {
      "text/html": [
       "<div>\n",
       "<style scoped>\n",
       "    .dataframe tbody tr th:only-of-type {\n",
       "        vertical-align: middle;\n",
       "    }\n",
       "\n",
       "    .dataframe tbody tr th {\n",
       "        vertical-align: top;\n",
       "    }\n",
       "\n",
       "    .dataframe thead th {\n",
       "        text-align: right;\n",
       "    }\n",
       "</style>\n",
       "<table border=\"1\" class=\"dataframe\">\n",
       "  <thead>\n",
       "    <tr style=\"text-align: right;\">\n",
       "      <th></th>\n",
       "      <th>song_url</th>\n",
       "      <th>ht_bpm</th>\n",
       "      <th>ht_time_signature</th>\n",
       "      <th>midi</th>\n",
       "      <th>genres</th>\n",
       "      <th>artist</th>\n",
       "      <th>md5</th>\n",
       "      <th>section</th>\n",
       "      <th>ht_key</th>\n",
       "      <th>source</th>\n",
       "      <th>parts</th>\n",
       "      <th>midi_title</th>\n",
       "      <th>title</th>\n",
       "      <th>ht_offset</th>\n",
       "      <th>ht_mode</th>\n",
       "      <th>mxl</th>\n",
       "    </tr>\n",
       "  </thead>\n",
       "  <tbody>\n",
       "    <tr>\n",
       "      <th>7632</th>\n",
       "      <td>https://www.hooktheory.com/theorytab/view/sava...</td>\n",
       "      <td>83.0</td>\n",
       "      <td>4.0</td>\n",
       "      <td>midi_sources/hooktheory/pianoroll/s/savage-gar...</td>\n",
       "      <td>Pop,R &amp; B,Rock</td>\n",
       "      <td>savage-garden</td>\n",
       "      <td>03948dad288fa815f39f83021ab50b9d</td>\n",
       "      <td>verse-and-pre-chorus</td>\n",
       "      <td>C</td>\n",
       "      <td>hooktheory</td>\n",
       "      <td>verse-and-pre-chorus,chorus</td>\n",
       "      <td>trulymadlydeepverse</td>\n",
       "      <td>truly-madly-deeply</td>\n",
       "      <td>0.0</td>\n",
       "      <td>1.0</td>\n",
       "      <td>NaN</td>\n",
       "    </tr>\n",
       "    <tr>\n",
       "      <th>7633</th>\n",
       "      <td>https://www.hooktheory.com/theorytab/view/sava...</td>\n",
       "      <td>85.0</td>\n",
       "      <td>4.0</td>\n",
       "      <td>midi_sources/hooktheory/pianoroll/s/savage-gar...</td>\n",
       "      <td>Pop,R &amp; B,Rock</td>\n",
       "      <td>savage-garden</td>\n",
       "      <td>8d7bc540f92de1f82b901ebc67b80ef7</td>\n",
       "      <td>chorus</td>\n",
       "      <td>C</td>\n",
       "      <td>hooktheory</td>\n",
       "      <td>verse-and-pre-chorus,chorus</td>\n",
       "      <td>trulymadlydeeply</td>\n",
       "      <td>truly-madly-deeply</td>\n",
       "      <td>0.0</td>\n",
       "      <td>1.0</td>\n",
       "      <td>NaN</td>\n",
       "    </tr>\n",
       "    <tr>\n",
       "      <th>7634</th>\n",
       "      <td>https://www.hooktheory.com/theorytab/view/sava...</td>\n",
       "      <td>106.0</td>\n",
       "      <td>4.0</td>\n",
       "      <td>midi_sources/hooktheory/pianoroll/s/savage-gar...</td>\n",
       "      <td>Pop</td>\n",
       "      <td>savage-garden</td>\n",
       "      <td>4b91847db56dbd916c3e7de564b78da8</td>\n",
       "      <td>chorus</td>\n",
       "      <td>G</td>\n",
       "      <td>hooktheory</td>\n",
       "      <td>chorus</td>\n",
       "      <td>I Want You Savage Garden Chorus</td>\n",
       "      <td>i-want-you</td>\n",
       "      <td>5.0</td>\n",
       "      <td>1.0</td>\n",
       "      <td>NaN</td>\n",
       "    </tr>\n",
       "    <tr>\n",
       "      <th>26905</th>\n",
       "      <td>https://www.hooktheory.com/theorytab/view/sava...</td>\n",
       "      <td>106.0</td>\n",
       "      <td>4.0</td>\n",
       "      <td>midi_sources/hooktheory/pianoroll/s/savage-gar...</td>\n",
       "      <td>Pop</td>\n",
       "      <td>savage-garden</td>\n",
       "      <td>17ef126d1717e7f6eb3aedc1b3142407</td>\n",
       "      <td>chorus</td>\n",
       "      <td>C</td>\n",
       "      <td>hooktheory_c</td>\n",
       "      <td>chorus</td>\n",
       "      <td>I Want You Savage Garden Chorus</td>\n",
       "      <td>i-want-you</td>\n",
       "      <td>0.0</td>\n",
       "      <td>1.0</td>\n",
       "      <td>NaN</td>\n",
       "    </tr>\n",
       "  </tbody>\n",
       "</table>\n",
       "</div>"
      ],
      "text/plain": [
       "                                                song_url  ht_bpm  \\\n",
       "7632   https://www.hooktheory.com/theorytab/view/sava...    83.0   \n",
       "7633   https://www.hooktheory.com/theorytab/view/sava...    85.0   \n",
       "7634   https://www.hooktheory.com/theorytab/view/sava...   106.0   \n",
       "26905  https://www.hooktheory.com/theorytab/view/sava...   106.0   \n",
       "\n",
       "       ht_time_signature                                               midi  \\\n",
       "7632                 4.0  midi_sources/hooktheory/pianoroll/s/savage-gar...   \n",
       "7633                 4.0  midi_sources/hooktheory/pianoroll/s/savage-gar...   \n",
       "7634                 4.0  midi_sources/hooktheory/pianoroll/s/savage-gar...   \n",
       "26905                4.0  midi_sources/hooktheory/pianoroll/s/savage-gar...   \n",
       "\n",
       "               genres         artist                               md5  \\\n",
       "7632   Pop,R & B,Rock  savage-garden  03948dad288fa815f39f83021ab50b9d   \n",
       "7633   Pop,R & B,Rock  savage-garden  8d7bc540f92de1f82b901ebc67b80ef7   \n",
       "7634              Pop  savage-garden  4b91847db56dbd916c3e7de564b78da8   \n",
       "26905             Pop  savage-garden  17ef126d1717e7f6eb3aedc1b3142407   \n",
       "\n",
       "                    section ht_key        source                        parts  \\\n",
       "7632   verse-and-pre-chorus      C    hooktheory  verse-and-pre-chorus,chorus   \n",
       "7633                 chorus      C    hooktheory  verse-and-pre-chorus,chorus   \n",
       "7634                 chorus      G    hooktheory                       chorus   \n",
       "26905                chorus      C  hooktheory_c                       chorus   \n",
       "\n",
       "                            midi_title               title  ht_offset  \\\n",
       "7632               trulymadlydeepverse  truly-madly-deeply        0.0   \n",
       "7633                  trulymadlydeeply  truly-madly-deeply        0.0   \n",
       "7634   I Want You Savage Garden Chorus          i-want-you        5.0   \n",
       "26905  I Want You Savage Garden Chorus          i-want-you        0.0   \n",
       "\n",
       "       ht_mode  mxl  \n",
       "7632       1.0  NaN  \n",
       "7633       1.0  NaN  \n",
       "7634       1.0  NaN  \n",
       "26905      1.0  NaN  "
      ]
     },
     "execution_count": 14,
     "metadata": {},
     "output_type": "execute_result"
    }
   ],
   "source": [
    "savage_garden = df[df.artist=='savage-garden']; savage_garden"
   ]
  },
  {
   "cell_type": "code",
   "execution_count": 16,
   "metadata": {},
   "outputs": [
    {
     "data": {
      "text/plain": [
       "'midi_sources/hooktheory/pianoroll/s/savage-garden/truly-madly-deeply/verse-and-pre-chorus_key_original.mid'"
      ]
     },
     "execution_count": 16,
     "metadata": {},
     "output_type": "execute_result"
    }
   ],
   "source": [
    "tmd = savage_garden.midi.values[0]; tmd"
   ]
  },
  {
   "cell_type": "code",
   "execution_count": 18,
   "metadata": {},
   "outputs": [],
   "source": [
    "stream = file2stream(version_path/tmd)"
   ]
  },
  {
   "cell_type": "code",
   "execution_count": 20,
   "metadata": {},
   "outputs": [
    {
     "data": {
      "image/png": "[encoded data removed]",
      "text/plain": [
       "<IPython.core.display.Image object>"
      ]
     },
     "metadata": {
      "image/png": {
       "height": 556,
       "width": 748
      }
     },
     "output_type": "display_data"
    }
   ],
   "source": [
    "stream.show()"
   ]
  },
  {
   "cell_type": "code",
   "execution_count": 23,
   "metadata": {},
   "outputs": [],
   "source": [
    "chordarr = stream2chordarr(stream, max_dur=max_dur, flat=False)\n",
    "seq = chordarr2seq(chordarr)\n",
    "npenc = seq2npenc(seq, num_comps=num_comps, category=1)"
   ]
  },
  {
   "cell_type": "code",
   "execution_count": 25,
   "metadata": {},
   "outputs": [],
   "source": [
    "out_stream = npenc2stream(npenc)"
   ]
  },
  {
   "cell_type": "code",
   "execution_count": 26,
   "metadata": {},
   "outputs": [
    {
     "data": {
      "image/png": "[encoded data removed]",
      "text/plain": [
       "<IPython.core.display.Image object>"
      ]
     },
     "metadata": {
      "image/png": {
       "height": 327,
       "width": 751
      }
     },
     "output_type": "display_data"
    }
   ],
   "source": [
    "out_stream.show()"
   ]
  },
  {
   "cell_type": "code",
   "execution_count": 28,
   "metadata": {},
   "outputs": [
    {
     "data": {
      "text/html": [
       "\n",
       "                <div id='midiPlayerDiv10977'></div>\n",
       "                <link rel=\"stylesheet\" href=\"//cuthbertLab.github.io/music21j/css/m21.css\"\n",
       "                    type=\"text/css\" />\n",
       "                <script>\n",
       "                require.config({\n",
       "                    paths: {'music21': '//cuthbertLab.github.io/music21j/src/music21'}\n",
       "                });\n",
       "                require(['music21'], function() {\n",
       "                               mp = new music21.miditools.MidiPlayer();\n",
       "                               mp.addPlayer('#midiPlayerDiv10977');\n",
       "                               mp.base64Load('data:audio/midi;base64,TVRoZAAAAAYAAQABBABNVHJrAAAD6AD/AwVQaWFubwDAAADgAEAAwAAA/1EDB6EgAJAwWgCQNFoAkDdahACQPFqEAIA8AACQPFqEAIA8AACQPFqEAIA8AACQPFqEAIA8AACQPFqEAIA8AACQPFqEAIA8AACQPFqEAIAwAACANAAAgDcAAIA8AACQPFoAkCtaAJAvWgCQMlqEAIA8AACQPFqEAIA8AACQPFqEAIA8AACQOVqEAIA5AACQPFqEAIA8AACQOVqEAIA5AACQPlqIAIArAACALwAAgDIAAIA+AACQNVoAkDlaAJA8WoQAkDxahACAPAAAkDxahACAPAAAkDxahACAPAAAkDxahACAPAAAkDxahACAPAAAkDxahACAPAAAkDxahACANQAAgDkAAIA8AACAPAAAkDxaAJArWgCQL1oAkDJahACAPAAAkDxahACAPAAAkDxahACAPAAAkDdahACANwAAkDxahACAPAAAkDxahACAPAAAkD5ahACAPgAAkDxahACAKwAAgC8AAIAyAACQMFoAkDRaAJA3WoQAgDwAAJA8WoQAgDwAAJA8WoQAgDwAAJA8WoQAgDwAAJA8WoQAgDwAAJA8WoQAgDwAAJA8WoQAgDwAAJA8WoQAgDAAAIA0AACANwAAgDwAAJA8WgCQK1oAkC9aAJAyWoQAgDwAAJA8WoQAgDwAAJA8WoQAgDwAAJA3WoQAgDcAAJA8WoQAgDwAAJA8WoQAgDwAAJA+WoQAgD4AAJA8WoQAgCsAAIAvAACAMgAAkDVaAJA5WgCQPFqEAIA8AACQPFqEAIA8AACQPFqEAIA8AACQPFqEAIA8AACQPFqEAIA8AACQPFqEAIA8AACQPFqEAIA8AACQPFqEAIA1AACAOQAAgDwAAIA8AACQPFoAkCtaAJAvWgCQMlqEAIA8AACQPFqEAIA8AACQPFqEAIA8AACQOVqEAIA5AACQPFqEAIA8AACQOVqEAIA5AACQPFqEAIA8AACQPFqEAIArAACALwAAgDIAAIA8AACQQ1oAkC1aAJAwWgCQNFqEAIBDAACQPFqIAIA8AACQO1qIAIA7AACQPFqIAIA8AACQPFqEAIAtAACAMAAAgDQAAIA8AACQQ1oAkCtaAJAvWgCQMlqEAIBDAACQPFqEAIA8AACQPFqEAIA8AACQO1qIAIA7AACQPFqIAIA8AACQPFqEAIArAACALwAAgDIAAIA8AACQQ1oAkDVaAJA5WgCQPFqEAIBDAACQPFqIAIA8AACQO1qIAIA7AACQPFqIAIA8AACQOVqEAIA1AACAOQAAgDwAAJArWgCQL1oAkDJakACAOQCQAIArAACALwAAgDIAiAD/LwA=');\n",
       "                        });\n",
       "                </script>"
      ],
      "text/plain": [
       "<IPython.core.display.HTML object>"
      ]
     },
     "metadata": {},
     "output_type": "display_data"
    }
   ],
   "source": [
    "out_stream.show('midi')"
   ]
  },
  {
   "cell_type": "markdown",
   "metadata": {},
   "source": [
    "## Transform"
   ]
  },
  {
   "cell_type": "code",
   "execution_count": 19,
   "metadata": {},
   "outputs": [],
   "source": [
    "def transform_func(metadata):\n",
    "    result = metadata.copy()\n",
    "    \n",
    "    # Part 1. Compress tracks/instruments\n",
    "    if not isinstance(metadata.get('midi'), str): return None\n",
    "    \n",
    "    input_path = version_path/metadata['midi']\n",
    "    extension = input_path.suffix.lower()\n",
    "    if not input_path.exists(): \n",
    "        print('Input path does not exist:', input_path, metadata)\n",
    "        return None\n",
    "    \n",
    "    # Get outfile and check if it exists\n",
    "    out_file = Path(str(input_path).replace(f'/{source_dir}/', f'/{out_dir}/'))\n",
    "    out_file = out_file.with_suffix('.npy')\n",
    "    out_file.parent.mkdir(parents=True, exist_ok=True)\n",
    "    if out_file.exists(): \n",
    "        result['numpy'] = str(out_file.relative_to(version_path))\n",
    "        return result\n",
    "    \n",
    "    # DEBUG\n",
    "    return None\n",
    "    \n",
    "    try: input_file = compress_midi_file(input_path, cutoff=cutoff) # remove non note tracks and standardize instruments\n",
    "    except music21.midi.MidiException as e:\n",
    "        print('Error parsing midi', input_path, e)\n",
    "        return None\n",
    "    if not input_file: return None\n",
    "        \n",
    "    # Part 2. Compress rests and long notes\n",
    "    stream = file2stream(input_file) # 1.\n",
    "    try:\n",
    "        chordarr = stream2chordarr(stream, max_dur=max_dur, flat=False) # 2. max_dur = quarter_len * sample_freq (4). 128 = 8 bars\n",
    "#     chordarr = stream2chordarr(stream, max_dur=max_dur, flat=(extension != '.mid')) # 2. max_dur = quarter_len * sample_freq (4). 128 = 8 bars\n",
    "    except Exception as e:\n",
    "        print('Could not encode to chordarr:', input_path, e)\n",
    "#         print(traceback.format_exc())\n",
    "        return None\n",
    "    \n",
    "    chord_trim = trim_chordarr_rests(chordarr)\n",
    "    chord_short = shorten_chordarr_rests(chord_trim)\n",
    "    delta_trim = chord_trim.shape[0] - chord_short.shape[0]\n",
    "    if delta_trim > 300: \n",
    "        print(f'Removed {delta_trim} rests from {input_path}. Skipping song')\n",
    "        return None\n",
    "    chordarr = chord_short\n",
    "    \n",
    "    # Part 3. Chord array to numpy\n",
    "    seq = chordarr2seq(chordarr)\n",
    "    if len(seq) < 32:\n",
    "        print('Sequence too short:', len(seq), input_path)\n",
    "        return None\n",
    "    \n",
    "#     category = ENC_OFFSET + max_dur + sources.index(metadata['source']) + 1\n",
    "    category = source2encidx(metadata['source'], max_dur=max_dur)\n",
    "    npenc = seq2npenc(seq, num_comps=num_comps, category=category)\n",
    "    if (npenc[1:,1] > max_dur+ENC_OFFSET).any(): \n",
    "        print('npenc exceeds max 128 duration:', input_path)\n",
    "        return None\n",
    "    \n",
    "    if ((npenc[...,0] > ENC_OFFSET) & ((npenc[...,0] < 12+ENC_OFFSET) | (npenc[...,0] >= 127-12+ENC_OFFSET))).any(): \n",
    "        print('npenc out of note range 12 - 116:', input_path)\n",
    "        return None\n",
    "    \n",
    "    \n",
    "    np.save(out_file, npenc)\n",
    "    \n",
    "    result['numpy'] = str(out_file.relative_to(version_path))\n",
    "    return result"
   ]
  },
  {
   "cell_type": "code",
   "execution_count": 24,
   "metadata": {},
   "outputs": [],
   "source": [
    "import traceback\n",
    "import sys\n",
    "\n",
    "def try_transform_func(metadata):\n",
    "    try:\n",
    "        return transform_func(metadata)\n",
    "    except Exception:\n",
    "        print(traceback.format_exc())\n",
    "        return None"
   ]
  },
  {
   "cell_type": "code",
   "execution_count": 21,
   "metadata": {},
   "outputs": [
    {
     "ename": "NameError",
     "evalue": "name 'mxl_records' is not defined",
     "output_type": "error",
     "traceback": [
      "\u001b[0;31m---------------------------------------------------------------------------\u001b[0m",
      "\u001b[0;31mNameError\u001b[0m                                 Traceback (most recent call last)",
      "\u001b[0;32m<ipython-input-21-1cbb134073f1>\u001b[0m in \u001b[0;36m<module>\u001b[0;34m\u001b[0m\n\u001b[1;32m      1\u001b[0m \u001b[0;31m# sanity check\u001b[0m\u001b[0;34m\u001b[0m\u001b[0;34m\u001b[0m\u001b[0;34m\u001b[0m\u001b[0m\n\u001b[1;32m      2\u001b[0m \u001b[0;32mimport\u001b[0m \u001b[0mrandom\u001b[0m\u001b[0;34m\u001b[0m\u001b[0;34m\u001b[0m\u001b[0m\n\u001b[0;32m----> 3\u001b[0;31m \u001b[0;32mfor\u001b[0m \u001b[0mr\u001b[0m \u001b[0;32min\u001b[0m \u001b[0mrandom\u001b[0m\u001b[0;34m.\u001b[0m\u001b[0msample\u001b[0m\u001b[0;34m(\u001b[0m\u001b[0mmxl_records\u001b[0m\u001b[0;34m,\u001b[0m \u001b[0;36m500\u001b[0m\u001b[0;34m)\u001b[0m\u001b[0;34m:\u001b[0m\u001b[0;34m\u001b[0m\u001b[0;34m\u001b[0m\u001b[0m\n\u001b[0m\u001b[1;32m      4\u001b[0m     \u001b[0mtransform_func\u001b[0m\u001b[0;34m(\u001b[0m\u001b[0mr\u001b[0m\u001b[0;34m)\u001b[0m\u001b[0;34m\u001b[0m\u001b[0;34m\u001b[0m\u001b[0m\n\u001b[1;32m      5\u001b[0m \u001b[0;34m\u001b[0m\u001b[0m\n",
      "\u001b[0;31mNameError\u001b[0m: name 'mxl_records' is not defined"
     ]
    }
   ],
   "source": [
    "# # sanity check\n",
    "# import random\n",
    "# for r in random.sample(mxl_records, 500):\n",
    "#     transform_func(r)\n",
    "        "
   ]
  },
  {
   "cell_type": "code",
   "execution_count": 14,
   "metadata": {},
   "outputs": [],
   "source": [
    "### AS TOD: Fix 'info channel is not channel 0' error"
   ]
  },
  {
   "cell_type": "code",
   "execution_count": 25,
   "metadata": {},
   "outputs": [
    {
     "data": {
      "text/html": [
       "\n",
       "    <div>\n",
       "        <style>\n",
       "            /* Turns off some styling */\n",
       "            progress {\n",
       "                /* gets rid of default border in Firefox and Opera. */\n",
       "                border: none;\n",
       "                /* Needs to be in here for Safari polyfill so background images work as expected. */\n",
       "                background-size: auto;\n",
       "            }\n",
       "            .progress-bar-interrupted, .progress-bar-interrupted::-webkit-progress-bar {\n",
       "                background: #F44336;\n",
       "            }\n",
       "        </style>\n",
       "      <progress value='180965' class='' max='180965', style='width:300px; height:20px; vertical-align: middle;'></progress>\n",
       "      100.00% [180965/180965 00:53<00:00]\n",
       "    </div>\n",
       "    "
      ],
      "text/plain": [
       "<IPython.core.display.HTML object>"
      ]
     },
     "metadata": {},
     "output_type": "display_data"
    }
   ],
   "source": [
    "processed = process_all(try_transform_func, all_records)"
   ]
  },
  {
   "cell_type": "code",
   "execution_count": 26,
   "metadata": {},
   "outputs": [],
   "source": [
    "from src.data_sources import arr2csv"
   ]
  },
  {
   "cell_type": "code",
   "execution_count": 27,
   "metadata": {},
   "outputs": [],
   "source": [
    "arr2csv(processed, out_csv); len(processed)"
   ]
  },
  {
   "cell_type": "code",
   "execution_count": 30,
   "metadata": {},
   "outputs": [
    {
     "name": "stderr",
     "output_type": "stream",
     "text": [
      "/home/ubuntu/anaconda3/envs/midi/lib/python3.7/site-packages/IPython/core/interactiveshell.py:3020: DtypeWarning: Columns (0,2,6,8,10,11) have mixed types. Specify dtype option on import or set low_memory=False.\n",
      "  interactivity=interactivity, compiler=compiler, result=result)\n"
     ]
    }
   ],
   "source": [
    "df = pd.read_csv(out_csv)"
   ]
  },
  {
   "cell_type": "code",
   "execution_count": 31,
   "metadata": {},
   "outputs": [
    {
     "data": {
      "text/html": [
       "<div>\n",
       "<style scoped>\n",
       "    .dataframe tbody tr th:only-of-type {\n",
       "        vertical-align: middle;\n",
       "    }\n",
       "\n",
       "    .dataframe tbody tr th {\n",
       "        vertical-align: top;\n",
       "    }\n",
       "\n",
       "    .dataframe thead th {\n",
       "        text-align: right;\n",
       "    }\n",
       "</style>\n",
       "<table border=\"1\" class=\"dataframe\">\n",
       "  <thead>\n",
       "    <tr style=\"text-align: right;\">\n",
       "      <th></th>\n",
       "      <th>section</th>\n",
       "      <th>ht_mode</th>\n",
       "      <th>mxl</th>\n",
       "      <th>artist</th>\n",
       "      <th>midi</th>\n",
       "      <th>genres</th>\n",
       "      <th>midi_title</th>\n",
       "      <th>ht_offset</th>\n",
       "      <th>parts</th>\n",
       "      <th>numpy</th>\n",
       "      <th>song_url</th>\n",
       "      <th>ht_key</th>\n",
       "      <th>ht_time_signature</th>\n",
       "      <th>ht_bpm</th>\n",
       "      <th>title</th>\n",
       "      <th>source</th>\n",
       "      <th>md5</th>\n",
       "    </tr>\n",
       "  </thead>\n",
       "  <tbody>\n",
       "    <tr>\n",
       "      <th>0</th>\n",
       "      <td>chorus</td>\n",
       "      <td>1.0</td>\n",
       "      <td>NaN</td>\n",
       "      <td>wayne-sharpe</td>\n",
       "      <td>midi_sources/hooktheory/pianoroll/w/wayne-shar...</td>\n",
       "      <td>NaN</td>\n",
       "      <td>yu-gi-oh3</td>\n",
       "      <td>0.0</td>\n",
       "      <td>intro,chorus</td>\n",
       "      <td>midi_encode/hooktheory/pianoroll/w/wayne-sharp...</td>\n",
       "      <td>https://www.hooktheory.com/theorytab/view/wayn...</td>\n",
       "      <td>C</td>\n",
       "      <td>4.0</td>\n",
       "      <td>128.0</td>\n",
       "      <td>yu-gi-oh-theme-song</td>\n",
       "      <td>hooktheory</td>\n",
       "      <td>bf1f29e5ff84e3e93e37fb873bfb590e</td>\n",
       "    </tr>\n",
       "    <tr>\n",
       "      <th>1</th>\n",
       "      <td>pre-chorus</td>\n",
       "      <td>6.0</td>\n",
       "      <td>NaN</td>\n",
       "      <td>whiteflame</td>\n",
       "      <td>midi_sources/hooktheory/pianoroll/w/whiteflame...</td>\n",
       "      <td>J-Pop,Pop</td>\n",
       "      <td>senbonzakura - pre-Pre-Chorus</td>\n",
       "      <td>-5.0</td>\n",
       "      <td>verse,pre-chorus,chorus</td>\n",
       "      <td>midi_encode/hooktheory/pianoroll/w/whiteflame/...</td>\n",
       "      <td>https://www.hooktheory.com/theorytab/view/whit...</td>\n",
       "      <td>D</td>\n",
       "      <td>4.0</td>\n",
       "      <td>152.0</td>\n",
       "      <td>senbonzakura</td>\n",
       "      <td>hooktheory</td>\n",
       "      <td>9e7ce13a35f1314423a9a6d5a5287a4a</td>\n",
       "    </tr>\n",
       "    <tr>\n",
       "      <th>2</th>\n",
       "      <td>chorus</td>\n",
       "      <td>6.0</td>\n",
       "      <td>NaN</td>\n",
       "      <td>what-a-day</td>\n",
       "      <td>midi_sources/hooktheory/pianoroll/w/what-a-day...</td>\n",
       "      <td>Jazz</td>\n",
       "      <td>kiefer</td>\n",
       "      <td>-5.0</td>\n",
       "      <td>chorus</td>\n",
       "      <td>midi_encode/hooktheory/pianoroll/w/what-a-day/...</td>\n",
       "      <td>https://www.hooktheory.com/theorytab/view/what...</td>\n",
       "      <td>D</td>\n",
       "      <td>4.0</td>\n",
       "      <td>96.0</td>\n",
       "      <td>kiefer</td>\n",
       "      <td>hooktheory</td>\n",
       "      <td>197f96f5d181f6ce1e2c5ab04ac1ff87</td>\n",
       "    </tr>\n",
       "    <tr>\n",
       "      <th>3</th>\n",
       "      <td>intro</td>\n",
       "      <td>1.0</td>\n",
       "      <td>NaN</td>\n",
       "      <td>wayne-sharpe</td>\n",
       "      <td>midi_sources/hooktheory/pianoroll/w/wayne-shar...</td>\n",
       "      <td>NaN</td>\n",
       "      <td>yu-gi-oh</td>\n",
       "      <td>0.0</td>\n",
       "      <td>intro,chorus</td>\n",
       "      <td>midi_encode/hooktheory/pianoroll/w/wayne-sharp...</td>\n",
       "      <td>https://www.hooktheory.com/theorytab/view/wayn...</td>\n",
       "      <td>C</td>\n",
       "      <td>3.0</td>\n",
       "      <td>85.0</td>\n",
       "      <td>yu-gi-oh-theme-song</td>\n",
       "      <td>hooktheory</td>\n",
       "      <td>055f80ad67f64edb14a85ca8fbfe8c29</td>\n",
       "    </tr>\n",
       "    <tr>\n",
       "      <th>4</th>\n",
       "      <td>verse</td>\n",
       "      <td>6.0</td>\n",
       "      <td>NaN</td>\n",
       "      <td>whiteflame</td>\n",
       "      <td>midi_sources/hooktheory/pianoroll/w/whiteflame...</td>\n",
       "      <td>J-Pop,Pop</td>\n",
       "      <td>Senbonzakura</td>\n",
       "      <td>-5.0</td>\n",
       "      <td>verse,pre-chorus,chorus</td>\n",
       "      <td>midi_encode/hooktheory/pianoroll/w/whiteflame/...</td>\n",
       "      <td>https://www.hooktheory.com/theorytab/view/whit...</td>\n",
       "      <td>D</td>\n",
       "      <td>4.0</td>\n",
       "      <td>152.0</td>\n",
       "      <td>senbonzakura</td>\n",
       "      <td>hooktheory</td>\n",
       "      <td>d5aaf79d0989222f1362f9f46c540a27</td>\n",
       "    </tr>\n",
       "  </tbody>\n",
       "</table>\n",
       "</div>"
      ],
      "text/plain": [
       "      section  ht_mode  mxl        artist  \\\n",
       "0      chorus      1.0  NaN  wayne-sharpe   \n",
       "1  pre-chorus      6.0  NaN    whiteflame   \n",
       "2      chorus      6.0  NaN    what-a-day   \n",
       "3       intro      1.0  NaN  wayne-sharpe   \n",
       "4       verse      6.0  NaN    whiteflame   \n",
       "\n",
       "                                                midi     genres  \\\n",
       "0  midi_sources/hooktheory/pianoroll/w/wayne-shar...        NaN   \n",
       "1  midi_sources/hooktheory/pianoroll/w/whiteflame...  J-Pop,Pop   \n",
       "2  midi_sources/hooktheory/pianoroll/w/what-a-day...       Jazz   \n",
       "3  midi_sources/hooktheory/pianoroll/w/wayne-shar...        NaN   \n",
       "4  midi_sources/hooktheory/pianoroll/w/whiteflame...  J-Pop,Pop   \n",
       "\n",
       "                      midi_title  ht_offset                    parts  \\\n",
       "0                      yu-gi-oh3        0.0             intro,chorus   \n",
       "1  senbonzakura - pre-Pre-Chorus       -5.0  verse,pre-chorus,chorus   \n",
       "2                         kiefer       -5.0                   chorus   \n",
       "3                       yu-gi-oh        0.0             intro,chorus   \n",
       "4                   Senbonzakura       -5.0  verse,pre-chorus,chorus   \n",
       "\n",
       "                                               numpy  \\\n",
       "0  midi_encode/hooktheory/pianoroll/w/wayne-sharp...   \n",
       "1  midi_encode/hooktheory/pianoroll/w/whiteflame/...   \n",
       "2  midi_encode/hooktheory/pianoroll/w/what-a-day/...   \n",
       "3  midi_encode/hooktheory/pianoroll/w/wayne-sharp...   \n",
       "4  midi_encode/hooktheory/pianoroll/w/whiteflame/...   \n",
       "\n",
       "                                            song_url ht_key  \\\n",
       "0  https://www.hooktheory.com/theorytab/view/wayn...      C   \n",
       "1  https://www.hooktheory.com/theorytab/view/whit...      D   \n",
       "2  https://www.hooktheory.com/theorytab/view/what...      D   \n",
       "3  https://www.hooktheory.com/theorytab/view/wayn...      C   \n",
       "4  https://www.hooktheory.com/theorytab/view/whit...      D   \n",
       "\n",
       "   ht_time_signature  ht_bpm                title      source  \\\n",
       "0                4.0   128.0  yu-gi-oh-theme-song  hooktheory   \n",
       "1                4.0   152.0         senbonzakura  hooktheory   \n",
       "2                4.0    96.0               kiefer  hooktheory   \n",
       "3                3.0    85.0  yu-gi-oh-theme-song  hooktheory   \n",
       "4                4.0   152.0         senbonzakura  hooktheory   \n",
       "\n",
       "                                md5  \n",
       "0  bf1f29e5ff84e3e93e37fb873bfb590e  \n",
       "1  9e7ce13a35f1314423a9a6d5a5287a4a  \n",
       "2  197f96f5d181f6ce1e2c5ab04ac1ff87  \n",
       "3  055f80ad67f64edb14a85ca8fbfe8c29  \n",
       "4  d5aaf79d0989222f1362f9f46c540a27  "
      ]
     },
     "execution_count": 31,
     "metadata": {},
     "output_type": "execute_result"
    }
   ],
   "source": [
    "df.head()"
   ]
  }
 ],
 "metadata": {
  "kernelspec": {
   "display_name": "Python 3",
   "language": "python",
   "name": "python3"
  },
  "language_info": {
   "codemirror_mode": {
    "name": "ipython",
    "version": 3
   },
   "file_extension": ".py",
   "mimetype": "text/x-python",
   "name": "python",
   "nbconvert_exporter": "python",
   "pygments_lexer": "ipython3",
   "version": "3.7.1"
  }
 },
 "nbformat": 4,
 "nbformat_minor": 2
}

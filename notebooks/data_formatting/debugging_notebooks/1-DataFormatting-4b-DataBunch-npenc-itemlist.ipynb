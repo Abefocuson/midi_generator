{
 "cells": [
  {
   "cell_type": "markdown",
   "metadata": {},
   "source": [
    "# Tokenize and save data"
   ]
  },
  {
   "cell_type": "code",
   "execution_count": 1,
   "metadata": {},
   "outputs": [],
   "source": [
    "%reload_ext autoreload\n",
    "%autoreload 2\n",
    "%matplotlib inline"
   ]
  },
  {
   "cell_type": "code",
   "execution_count": 2,
   "metadata": {},
   "outputs": [],
   "source": [
    "from fastai.text import *"
   ]
  },
  {
   "cell_type": "code",
   "execution_count": 3,
   "metadata": {},
   "outputs": [],
   "source": [
    "from fastai.text import data"
   ]
  },
  {
   "cell_type": "code",
   "execution_count": 4,
   "metadata": {},
   "outputs": [],
   "source": [
    "import pandas as pd\n",
    "from fastai_data import *\n",
    "from encode_data import npenc2seq, seq2npenc"
   ]
  },
  {
   "cell_type": "markdown",
   "metadata": {},
   "source": [
    "## Preparing the data"
   ]
  },
  {
   "cell_type": "code",
   "execution_count": 5,
   "metadata": {},
   "outputs": [],
   "source": [
    "version = 'v7'\n",
    "data_path = Path('data/midi')\n",
    "version_path = data_path/version"
   ]
  },
  {
   "cell_type": "code",
   "execution_count": 6,
   "metadata": {},
   "outputs": [
    {
     "data": {
      "text/plain": [
       "[PosixPath('data/midi/v7/metadata'),\n",
       " PosixPath('data/midi/v7/midi_sources'),\n",
       " PosixPath('data/midi/v7/midi_encode'),\n",
       " PosixPath('data/midi/v7/midi_encode.tar.gz'),\n",
       " PosixPath('data/midi/v7/midi_npz'),\n",
       " PosixPath('data/midi/v7/midi_transform')]"
      ]
     },
     "execution_count": 6,
     "metadata": {},
     "output_type": "execute_result"
    }
   ],
   "source": [
    "source_dir = 'midi_encode/np/dur'\n",
    "out_path = version_path/source_dir\n",
    "csv_path = out_path/f'midi_encode.csv'\n",
    "version_path.ls()"
   ]
  },
  {
   "cell_type": "code",
   "execution_count": 7,
   "metadata": {},
   "outputs": [
    {
     "name": "stderr",
     "output_type": "stream",
     "text": [
      "/home/ubuntu/anaconda3/envs/midi/lib/python3.7/site-packages/IPython/core/interactiveshell.py:3020: DtypeWarning: Columns (0,9,16,17,20) have mixed types. Specify dtype option on import or set low_memory=False.\n",
      "  interactivity=interactivity, compiler=compiler, result=result)\n"
     ]
    }
   ],
   "source": [
    "csv = pd.read_csv(csv_path)\n",
    "csv = csv.loc[csv[source_dir].notna()];"
   ]
  },
  {
   "cell_type": "code",
   "execution_count": 53,
   "metadata": {},
   "outputs": [],
   "source": [
    "class LMItemList(ItemList):\n",
    "    def get(self, i)->Any:\n",
    "        return self.items[i] + 1\n",
    "    \n",
    "    def reconstruct(self, t:Tensor):\n",
    "        return npenc2seq((t-1))\n",
    "    \n",
    "    def __getitem__(self,idxs:int)->Any:\n",
    "        idxs = try_int(idxs)\n",
    "        if isinstance(idxs, Integral): return self.get(idxs)\n",
    "        else: return self.new(self.items[idxs], xtra=index_row(self.xtra, idxs))"
   ]
  },
  {
   "cell_type": "code",
   "execution_count": 54,
   "metadata": {},
   "outputs": [],
   "source": [
    "\n",
    "        \n",
    "## For npenc dataset\n",
    "class OpenNPFileProcessor(PreProcessor):\n",
    "    \"`PreProcessor` that opens the filenames and read the texts.\"\n",
    "    def process_one(self,item):\n",
    "        return np.load(item) if isinstance(item, Path) else item\n",
    "    \n",
    "class LMDataBunch(DataBunch):\n",
    "    \"Create a `TextDataBunch` suitable for training a language model.\"\n",
    "    @classmethod\n",
    "    def create(cls, train_ds, valid_ds, test_ds=None, path:PathOrStr='.', no_check:bool=False, bs=64, val_bs:int=None, \n",
    "               num_workers:int=0, device:torch.device=None, collate_fn:Callable=data_collate, \n",
    "               dl_tfms:Optional[Collection[Callable]]=None, bptt:int=70, backwards:bool=False) -> DataBunch:\n",
    "        \"Create a `TextDataBunch` in `path` from the `datasets` for language modelling.\"\n",
    "        datasets = cls._init_ds(train_ds, valid_ds, test_ds)\n",
    "        val_bs = ifnone(val_bs, bs)\n",
    "        datasets = [LMNPPreloader(ds, shuffle=(i==0), bs=(bs if i==0 else val_bs), bptt=bptt, backwards=backwards) \n",
    "                    for i,ds in enumerate(datasets)]\n",
    "        val_bs = bs\n",
    "        dls = [DataLoader(d, b, shuffle=False) for d,b in zip(datasets, (bs,val_bs,val_bs,val_bs)) if d is not None]\n",
    "        return cls(*dls, path=path, device=device, dl_tfms=dl_tfms, collate_fn=collate_fn, no_check=no_check)\n",
    "    \n",
    "    @classmethod    \n",
    "    def from_ids(cls, path:PathOrStr, train_ids:Collection[Collection[int]], valid_ids:Collection[Collection[int]],\n",
    "                 test_ids:Collection[Collection[int]]=None, train_lbls:Collection[Union[int,float]]=None,\n",
    "                 valid_lbls:Collection[Union[int,float]]=None, classes:Collection[Any]=None,\n",
    "                 processor:PreProcessor=None, **kwargs) -> DataBunch:\n",
    "        \"Create a `TextDataBunch` from ids, labels and a `vocab`. `kwargs` are passed to the dataloader creation.\"\n",
    "        src = ItemLists(path, LMItemList(train_ids, path=path, processor=[]),\n",
    "                        LMItemList(valid_ids, path=path, processor=[]))\n",
    "        src = src.label_const(label_cls=LMLabelList)\n",
    "        if not is1d(train_lbls): src.train.y.one_hot,src.valid.y.one_hot = True,True\n",
    "        return src.databunch(**kwargs)\n",
    "    \n",
    "    def save(self, cache_name:PathOrStr='tmp'):\n",
    "        \"Save the `DataBunch` in `self.path/cache_name` folder.\"\n",
    "        os.makedirs(self.path/cache_name, exist_ok=True)\n",
    "        cache_path = self.path/cache_name\n",
    "        np.save(cache_path/f'train_ids.npy', self.train_ds.x.items)\n",
    "        np.save(cache_path/f'train_lbl.npy', self.train_ds.y.items)\n",
    "        np.save(cache_path/f'valid_ids.npy', self.valid_ds.x.items)\n",
    "        np.save(cache_path/f'valid_lbl.npy', self.valid_ds.y.items)\n",
    "        if self.test_dl is not None: np.save(cache_path/f'test_ids.npy', self.test_ds.x.items)\n",
    "        if hasattr(self.train_ds, 'classes'): save_texts(cache_path/'classes.txt', self.train_ds.classes)\n",
    "\n",
    "    @classmethod\n",
    "    def load(cls, path:PathOrStr, cache_name:PathOrStr='tmp', processor:PreProcessor=None, **kwargs):\n",
    "        \"Load a `TextDataBunch` from `path/cache_name`. `kwargs` are passed to the dataloader creation.\"\n",
    "        cache_path = Path(path)/cache_name\n",
    "        train_ids,train_lbls = np.load(cache_path/f'train_ids.npy'), np.load(cache_path/f'train_lbl.npy')\n",
    "        valid_ids,valid_lbls = np.load(cache_path/f'valid_ids.npy'), np.load(cache_path/f'valid_lbl.npy')\n",
    "        test_ids = np.load(cache_path/f'test_ids.npy') if os.path.isfile(cache_path/f'test_ids.npy') else None\n",
    "        classes = loadtxt_str(cache_path/'classes.txt') if os.path.isfile(cache_path/'classes.txt') else None\n",
    "        return cls.from_ids(path, train_ids, valid_ids, test_ids, train_lbls, valid_lbls, classes, processor, **kwargs)"
   ]
  },
  {
   "cell_type": "code",
   "execution_count": 8,
   "metadata": {},
   "outputs": [],
   "source": [
    "path = Path('data/midi/v7/midi_encode/np/dur/')\n",
    "data = LMNPDataBunch.load(path, bs=2, bptt=8, cache_name='tmp/clc')"
   ]
  },
  {
   "cell_type": "code",
   "execution_count": 10,
   "metadata": {},
   "outputs": [],
   "source": [
    "out = data.train_ds.x[0]"
   ]
  },
  {
   "cell_type": "code",
   "execution_count": 11,
   "metadata": {},
   "outputs": [],
   "source": [
    "seq = data.train_ds.x.reconstruct(out)"
   ]
  },
  {
   "cell_type": "code",
   "execution_count": 12,
   "metadata": {},
   "outputs": [
    {
     "data": {
      "text/plain": [
       "array([[14,  0,  0,  0],\n",
       "       [13,  0, 13,  0],\n",
       "       [10,  2,  5,  3],\n",
       "       [ 1,  6,  3,  1],\n",
       "       ...,\n",
       "       [10,  4,  9,  1],\n",
       "       [13,  0,  8,  0],\n",
       "       [10,  2,  5,  1],\n",
       "       [12,  2,  9,  1]])"
      ]
     },
     "execution_count": 12,
     "metadata": {},
     "output_type": "execute_result"
    }
   ],
   "source": [
    "out"
   ]
  },
  {
   "cell_type": "code",
   "execution_count": 13,
   "metadata": {},
   "outputs": [
    {
     "data": {
      "text/plain": [
       "array([[13, -1, -1, -1],\n",
       "       [12, -1, 12, -1],\n",
       "       [ 9,  1,  4,  2],\n",
       "       [ 0,  5,  2,  0],\n",
       "       ...,\n",
       "       [ 9,  3,  8,  0],\n",
       "       [12, -1,  7, -1],\n",
       "       [ 9,  1,  4,  0],\n",
       "       [11,  1,  8,  0]])"
      ]
     },
     "execution_count": 13,
     "metadata": {},
     "output_type": "execute_result"
    }
   ],
   "source": [
    "seq"
   ]
  },
  {
   "cell_type": "code",
   "execution_count": 176,
   "metadata": {},
   "outputs": [],
   "source": [
    "from encode_data import NoteEnc"
   ]
  },
  {
   "cell_type": "code",
   "execution_count": 177,
   "metadata": {},
   "outputs": [],
   "source": [
    "out = data.train_ds.x[10]"
   ]
  },
  {
   "cell_type": "code",
   "execution_count": 178,
   "metadata": {},
   "outputs": [
    {
     "data": {
      "text/plain": [
       "(2384, 4)"
      ]
     },
     "execution_count": 178,
     "metadata": {},
     "output_type": "execute_result"
    }
   ],
   "source": [
    "out.shape"
   ]
  },
  {
   "cell_type": "code",
   "execution_count": 179,
   "metadata": {},
   "outputs": [
    {
     "data": {
      "text/plain": [
       "array([[13, -1, -1, -1],\n",
       "       [12, -1, 12, -1],\n",
       "       [ 6,  3,  3,  2],\n",
       "       [10,  3,  3,  2],\n",
       "       ...,\n",
       "       [12, -1, 11, -1],\n",
       "       [ 6,  1, 24,  2],\n",
       "       [ 6,  2, 24,  2],\n",
       "       [ 6,  3, 24,  0]])"
      ]
     },
     "execution_count": 179,
     "metadata": {},
     "output_type": "execute_result"
    }
   ],
   "source": [
    "out-1"
   ]
  },
  {
   "cell_type": "code",
   "execution_count": 180,
   "metadata": {},
   "outputs": [],
   "source": [
    "# n = seq[0][0]\n",
    "# n.pitch.pitchClass, n.pitch.octave"
   ]
  },
  {
   "cell_type": "code",
   "execution_count": 181,
   "metadata": {},
   "outputs": [],
   "source": [
    "def npenc2seq(npenc):\n",
    "    seq = []\n",
    "    tstep = []\n",
    "    for x in npenc:\n",
    "        n,o,d,i = x\n",
    "        if n == VALTBOS: continue\n",
    "        if n == VALTSEP: \n",
    "            if len(tstep) > 0: seq.append(tstep)\n",
    "            tstep = []\n",
    "            for i in range(d): seq.append([])\n",
    "        else:\n",
    "            tstep.append(NoteEnc(n+((o+1)*12),d,i))\n",
    "    if len(tstep) > 0: seq.append(tstep)\n",
    "    return seq"
   ]
  },
  {
   "cell_type": "code",
   "execution_count": 182,
   "metadata": {},
   "outputs": [
    {
     "data": {
      "text/plain": [
       "[[], [], [], [], [], [], [], [], [], [F#1t24, F#2t24, F#3t24]]"
      ]
     },
     "execution_count": 182,
     "metadata": {},
     "output_type": "execute_result"
    }
   ],
   "source": [
    "seq = npenc2seq(out-1); seq[-10:]"
   ]
  },
  {
   "cell_type": "code",
   "execution_count": 183,
   "metadata": {},
   "outputs": [
    {
     "data": {
      "text/plain": [
       "1353"
      ]
     },
     "execution_count": 183,
     "metadata": {},
     "output_type": "execute_result"
    }
   ],
   "source": [
    "len(seq)"
   ]
  },
  {
   "cell_type": "code",
   "execution_count": 184,
   "metadata": {},
   "outputs": [
    {
     "data": {
      "text/plain": [
       "1353"
      ]
     },
     "execution_count": 184,
     "metadata": {},
     "output_type": "execute_result"
    }
   ],
   "source": [
    "len(seq)"
   ]
  },
  {
   "cell_type": "code",
   "execution_count": 185,
   "metadata": {},
   "outputs": [
    {
     "data": {
      "text/plain": [
       "array([[13, -1, -1, -1],\n",
       "       [12, -1, 12, -1],\n",
       "       [ 6,  3,  3,  2],\n",
       "       [10,  3,  3,  2],\n",
       "       ...,\n",
       "       [12, -1, 11, -1],\n",
       "       [ 6,  1, 24,  2],\n",
       "       [ 6,  2, 24,  2],\n",
       "       [ 6,  3, 24,  0]])"
      ]
     },
     "execution_count": 185,
     "metadata": {},
     "output_type": "execute_result"
    }
   ],
   "source": [
    "(out-1)"
   ]
  },
  {
   "cell_type": "code",
   "execution_count": 186,
   "metadata": {},
   "outputs": [
    {
     "data": {
      "text/plain": [
       "2384"
      ]
     },
     "execution_count": 186,
     "metadata": {},
     "output_type": "execute_result"
    }
   ],
   "source": [
    "len(seq2npenc(seq))"
   ]
  },
  {
   "cell_type": "code",
   "execution_count": 187,
   "metadata": {},
   "outputs": [
    {
     "data": {
      "text/plain": [
       "array([[13, -1, -1, -1],\n",
       "       [12, -1, 12, -1],\n",
       "       [ 6,  3,  3,  2],\n",
       "       [10,  3,  3,  2],\n",
       "       ...,\n",
       "       [12, -1, 11, -1],\n",
       "       [ 6,  1, 24,  2],\n",
       "       [ 6,  2, 24,  2],\n",
       "       [ 6,  3, 24,  0]])"
      ]
     },
     "execution_count": 187,
     "metadata": {},
     "output_type": "execute_result"
    }
   ],
   "source": [
    "seq2npenc(seq)"
   ]
  },
  {
   "cell_type": "code",
   "execution_count": 174,
   "metadata": {},
   "outputs": [
    {
     "name": "stdout",
     "output_type": "stream",
     "text": [
      "> \u001b[0;32m<ipython-input-155-c985789909ba>\u001b[0m(1)\u001b[0;36m<module>\u001b[0;34m()\u001b[0m\n",
      "\u001b[0;32m----> 1 \u001b[0;31m\u001b[0mn\u001b[0m \u001b[0;34m=\u001b[0m \u001b[0mseq\u001b[0m\u001b[0;34m[\u001b[0m\u001b[0;36m0\u001b[0m\u001b[0;34m]\u001b[0m\u001b[0;34m[\u001b[0m\u001b[0;36m0\u001b[0m\u001b[0;34m]\u001b[0m\u001b[0;34m\u001b[0m\u001b[0;34m\u001b[0m\u001b[0m\n",
      "\u001b[0m\u001b[0;32m      2 \u001b[0;31m\u001b[0mn\u001b[0m\u001b[0;34m.\u001b[0m\u001b[0mpitch\u001b[0m\u001b[0;34m.\u001b[0m\u001b[0mpitchClass\u001b[0m\u001b[0;34m,\u001b[0m \u001b[0mn\u001b[0m\u001b[0;34m.\u001b[0m\u001b[0mpitch\u001b[0m\u001b[0;34m.\u001b[0m\u001b[0moctave\u001b[0m\u001b[0;34m\u001b[0m\u001b[0;34m\u001b[0m\u001b[0m\n",
      "\u001b[0m\n",
      "ipdb> quit\n"
     ]
    }
   ],
   "source": [
    "%debug"
   ]
  },
  {
   "cell_type": "code",
   "execution_count": null,
   "metadata": {},
   "outputs": [],
   "source": []
  },
  {
   "cell_type": "markdown",
   "metadata": {},
   "source": [
    "### Create All Dataset"
   ]
  },
  {
   "cell_type": "code",
   "execution_count": 10,
   "metadata": {},
   "outputs": [],
   "source": [
    "all_files = get_files(csv)\n",
    "all_data = create_databunch(all_files, cache_name='tmp/all', load_cached=True)"
   ]
  },
  {
   "cell_type": "markdown",
   "metadata": {},
   "source": [
    "Note: we are reusing all_vocab for the following datasets"
   ]
  },
  {
   "cell_type": "markdown",
   "metadata": {},
   "source": [
    "### Create Hooktheory Dataset"
   ]
  },
  {
   "cell_type": "code",
   "execution_count": 11,
   "metadata": {},
   "outputs": [],
   "source": [
    "hook_csv = csv.loc[csv.source.isin(['hooktheory', 'cprato'])]\n",
    "hook_files = get_files(hook_csv)"
   ]
  },
  {
   "cell_type": "code",
   "execution_count": 12,
   "metadata": {},
   "outputs": [],
   "source": [
    "hook_data = create_databunch(hook_files, cache_name='tmp/hook')"
   ]
  },
  {
   "cell_type": "markdown",
   "metadata": {},
   "source": [
    "### Create Pop Dataset"
   ]
  },
  {
   "cell_type": "code",
   "execution_count": 13,
   "metadata": {},
   "outputs": [],
   "source": [
    "pop_csv = csv.loc[csv.source.isin(['midiworld', 'freemidi', 'wikifonia'])]\n",
    "pop_files = get_files(pop_csv)"
   ]
  },
  {
   "cell_type": "code",
   "execution_count": 14,
   "metadata": {},
   "outputs": [],
   "source": [
    "pop_data = create_databunch(pop_files, cache_name='tmp/pop')"
   ]
  },
  {
   "cell_type": "markdown",
   "metadata": {},
   "source": [
    "## Create Classical Dataset"
   ]
  },
  {
   "cell_type": "code",
   "execution_count": 15,
   "metadata": {},
   "outputs": [],
   "source": [
    "clc_csv = csv.loc[csv.source.isin(['classical_piano', 'ecomp'])]\n",
    "clc_files = get_files(clc_csv)"
   ]
  },
  {
   "cell_type": "code",
   "execution_count": 16,
   "metadata": {},
   "outputs": [],
   "source": [
    "clc_data = create_databunch(clc_files, cache_name='tmp/clc')"
   ]
  },
  {
   "cell_type": "code",
   "execution_count": 17,
   "metadata": {},
   "outputs": [
    {
     "data": {
      "text/plain": [
       "2851"
      ]
     },
     "execution_count": 17,
     "metadata": {},
     "output_type": "execute_result"
    }
   ],
   "source": [
    "len(clc_files)"
   ]
  },
  {
   "cell_type": "markdown",
   "metadata": {},
   "source": [
    "### Testing"
   ]
  },
  {
   "cell_type": "code",
   "execution_count": 22,
   "metadata": {},
   "outputs": [],
   "source": [
    "data = pop_data"
   ]
  },
  {
   "cell_type": "code",
   "execution_count": 28,
   "metadata": {},
   "outputs": [
    {
     "data": {
      "text/plain": [
       "ItemList (15644 items)\n",
       "[[12 -1  0 -1]\n",
       " [ 1  4  4  0]\n",
       " [12 -1  0 -1]\n",
       " [ 1  4 -2  0]\n",
       " ...\n",
       " [10  4 -2  0]\n",
       " [12 -1  0 -1]\n",
       " [ 1  4 -2  0]\n",
       " [10  4 -2  0]],[[12 -1  0 -1]\n",
       " [ 8  3  1  0]\n",
       " [ 8  3 34  3]\n",
       " [ 8  3 34  6]\n",
       " ...\n",
       " [12 -1  0 -1]\n",
       " [ 8  3  1  0]\n",
       " [ 8  3 -2  3]\n",
       " [ 8  4 -2  3]],[[12 -1  0 -1]\n",
       " [ 2  5  2  0]\n",
       " [12 -1  0 -1]\n",
       " [ 2  5 -2  0]\n",
       " ...\n",
       " [11  4 -2  0]\n",
       " [12 -1  0 -1]\n",
       " [ 9  4 -2  1]\n",
       " [11  4 -2  0]],[[12 -1  0 -1]\n",
       " [ 7  2  4  0]\n",
       " [12 -1  0 -1]\n",
       " [ 7  2 -2  0]\n",
       " ...\n",
       " [ 1  3 -2  6]\n",
       " [ 8  3 -2  6]\n",
       " [ 1  4 -2  0]\n",
       " [ 1  4 -2  6]],[[12 -1  0 -1]\n",
       " [ 4  2  4  2]\n",
       " [ 4  2  4  8]\n",
       " [ 1  3  4  0]\n",
       " ...\n",
       " [ 3  3 -2  0]\n",
       " [ 7  3 -2 10]\n",
       " [11  3 -2 10]\n",
       " [ 4  4 -2 10]]\n",
       "Path: data/midi/v7/midi_encode/np/dur"
      ]
     },
     "execution_count": 28,
     "metadata": {},
     "output_type": "execute_result"
    }
   ],
   "source": [
    "data.train_ds.x"
   ]
  },
  {
   "cell_type": "code",
   "execution_count": 23,
   "metadata": {},
   "outputs": [
    {
     "ename": "AttributeError",
     "evalue": "'numpy.ndarray' object has no attribute 'reconstruct'",
     "output_type": "error",
     "traceback": [
      "\u001b[0;31m---------------------------------------------------------------------------\u001b[0m",
      "\u001b[0;31mAttributeError\u001b[0m                            Traceback (most recent call last)",
      "\u001b[0;32m<ipython-input-23-08d0dd5c9f7c>\u001b[0m in \u001b[0;36m<module>\u001b[0;34m\u001b[0m\n\u001b[0;32m----> 1\u001b[0;31m \u001b[0mdata\u001b[0m\u001b[0;34m.\u001b[0m\u001b[0mshow_batch\u001b[0m\u001b[0;34m(\u001b[0m\u001b[0;34m)\u001b[0m\u001b[0;34m\u001b[0m\u001b[0;34m\u001b[0m\u001b[0m\n\u001b[0m",
      "\u001b[0;32m~/fastai/fastai/basic_data.py\u001b[0m in \u001b[0;36mshow_batch\u001b[0;34m(self, rows, ds_type, **kwargs)\u001b[0m\n\u001b[1;32m    165\u001b[0m         \u001b[0mn_items\u001b[0m \u001b[0;34m=\u001b[0m \u001b[0mrows\u001b[0m \u001b[0;34m**\u001b[0m\u001b[0;36m2\u001b[0m \u001b[0;32mif\u001b[0m \u001b[0mself\u001b[0m\u001b[0;34m.\u001b[0m\u001b[0mtrain_ds\u001b[0m\u001b[0;34m.\u001b[0m\u001b[0mx\u001b[0m\u001b[0;34m.\u001b[0m\u001b[0m_square_show\u001b[0m \u001b[0;32melse\u001b[0m \u001b[0mrows\u001b[0m\u001b[0;34m\u001b[0m\u001b[0;34m\u001b[0m\u001b[0m\n\u001b[1;32m    166\u001b[0m         \u001b[0;32mif\u001b[0m \u001b[0mself\u001b[0m\u001b[0;34m.\u001b[0m\u001b[0mdl\u001b[0m\u001b[0;34m(\u001b[0m\u001b[0mds_type\u001b[0m\u001b[0;34m)\u001b[0m\u001b[0;34m.\u001b[0m\u001b[0mbatch_size\u001b[0m \u001b[0;34m<\u001b[0m \u001b[0mn_items\u001b[0m\u001b[0;34m:\u001b[0m \u001b[0mn_items\u001b[0m \u001b[0;34m=\u001b[0m \u001b[0mself\u001b[0m\u001b[0;34m.\u001b[0m\u001b[0mdl\u001b[0m\u001b[0;34m(\u001b[0m\u001b[0mds_type\u001b[0m\u001b[0;34m)\u001b[0m\u001b[0;34m.\u001b[0m\u001b[0mbatch_size\u001b[0m\u001b[0;34m\u001b[0m\u001b[0;34m\u001b[0m\u001b[0m\n\u001b[0;32m--> 167\u001b[0;31m         \u001b[0mxs\u001b[0m \u001b[0;34m=\u001b[0m \u001b[0;34m[\u001b[0m\u001b[0mself\u001b[0m\u001b[0;34m.\u001b[0m\u001b[0mtrain_ds\u001b[0m\u001b[0;34m.\u001b[0m\u001b[0mx\u001b[0m\u001b[0;34m.\u001b[0m\u001b[0mreconstruct\u001b[0m\u001b[0;34m(\u001b[0m\u001b[0mgrab_idx\u001b[0m\u001b[0;34m(\u001b[0m\u001b[0mx\u001b[0m\u001b[0;34m,\u001b[0m \u001b[0mi\u001b[0m\u001b[0;34m)\u001b[0m\u001b[0;34m)\u001b[0m \u001b[0;32mfor\u001b[0m \u001b[0mi\u001b[0m \u001b[0;32min\u001b[0m \u001b[0mrange\u001b[0m\u001b[0;34m(\u001b[0m\u001b[0mn_items\u001b[0m\u001b[0;34m)\u001b[0m\u001b[0;34m]\u001b[0m\u001b[0;34m\u001b[0m\u001b[0;34m\u001b[0m\u001b[0m\n\u001b[0m\u001b[1;32m    168\u001b[0m         \u001b[0;31m#TODO: get rid of has_arg if possible\u001b[0m\u001b[0;34m\u001b[0m\u001b[0;34m\u001b[0m\u001b[0;34m\u001b[0m\u001b[0m\n\u001b[1;32m    169\u001b[0m         \u001b[0;32mif\u001b[0m \u001b[0mhas_arg\u001b[0m\u001b[0;34m(\u001b[0m\u001b[0mself\u001b[0m\u001b[0;34m.\u001b[0m\u001b[0mtrain_ds\u001b[0m\u001b[0;34m.\u001b[0m\u001b[0my\u001b[0m\u001b[0;34m.\u001b[0m\u001b[0mreconstruct\u001b[0m\u001b[0;34m,\u001b[0m \u001b[0;34m'x'\u001b[0m\u001b[0;34m)\u001b[0m\u001b[0;34m:\u001b[0m\u001b[0;34m\u001b[0m\u001b[0;34m\u001b[0m\u001b[0m\n",
      "\u001b[0;32m~/fastai/fastai/basic_data.py\u001b[0m in \u001b[0;36m<listcomp>\u001b[0;34m(.0)\u001b[0m\n\u001b[1;32m    165\u001b[0m         \u001b[0mn_items\u001b[0m \u001b[0;34m=\u001b[0m \u001b[0mrows\u001b[0m \u001b[0;34m**\u001b[0m\u001b[0;36m2\u001b[0m \u001b[0;32mif\u001b[0m \u001b[0mself\u001b[0m\u001b[0;34m.\u001b[0m\u001b[0mtrain_ds\u001b[0m\u001b[0;34m.\u001b[0m\u001b[0mx\u001b[0m\u001b[0;34m.\u001b[0m\u001b[0m_square_show\u001b[0m \u001b[0;32melse\u001b[0m \u001b[0mrows\u001b[0m\u001b[0;34m\u001b[0m\u001b[0;34m\u001b[0m\u001b[0m\n\u001b[1;32m    166\u001b[0m         \u001b[0;32mif\u001b[0m \u001b[0mself\u001b[0m\u001b[0;34m.\u001b[0m\u001b[0mdl\u001b[0m\u001b[0;34m(\u001b[0m\u001b[0mds_type\u001b[0m\u001b[0;34m)\u001b[0m\u001b[0;34m.\u001b[0m\u001b[0mbatch_size\u001b[0m \u001b[0;34m<\u001b[0m \u001b[0mn_items\u001b[0m\u001b[0;34m:\u001b[0m \u001b[0mn_items\u001b[0m \u001b[0;34m=\u001b[0m \u001b[0mself\u001b[0m\u001b[0;34m.\u001b[0m\u001b[0mdl\u001b[0m\u001b[0;34m(\u001b[0m\u001b[0mds_type\u001b[0m\u001b[0;34m)\u001b[0m\u001b[0;34m.\u001b[0m\u001b[0mbatch_size\u001b[0m\u001b[0;34m\u001b[0m\u001b[0;34m\u001b[0m\u001b[0m\n\u001b[0;32m--> 167\u001b[0;31m         \u001b[0mxs\u001b[0m \u001b[0;34m=\u001b[0m \u001b[0;34m[\u001b[0m\u001b[0mself\u001b[0m\u001b[0;34m.\u001b[0m\u001b[0mtrain_ds\u001b[0m\u001b[0;34m.\u001b[0m\u001b[0mx\u001b[0m\u001b[0;34m.\u001b[0m\u001b[0mreconstruct\u001b[0m\u001b[0;34m(\u001b[0m\u001b[0mgrab_idx\u001b[0m\u001b[0;34m(\u001b[0m\u001b[0mx\u001b[0m\u001b[0;34m,\u001b[0m \u001b[0mi\u001b[0m\u001b[0;34m)\u001b[0m\u001b[0;34m)\u001b[0m \u001b[0;32mfor\u001b[0m \u001b[0mi\u001b[0m \u001b[0;32min\u001b[0m \u001b[0mrange\u001b[0m\u001b[0;34m(\u001b[0m\u001b[0mn_items\u001b[0m\u001b[0;34m)\u001b[0m\u001b[0;34m]\u001b[0m\u001b[0;34m\u001b[0m\u001b[0;34m\u001b[0m\u001b[0m\n\u001b[0m\u001b[1;32m    168\u001b[0m         \u001b[0;31m#TODO: get rid of has_arg if possible\u001b[0m\u001b[0;34m\u001b[0m\u001b[0;34m\u001b[0m\u001b[0;34m\u001b[0m\u001b[0m\n\u001b[1;32m    169\u001b[0m         \u001b[0;32mif\u001b[0m \u001b[0mhas_arg\u001b[0m\u001b[0;34m(\u001b[0m\u001b[0mself\u001b[0m\u001b[0;34m.\u001b[0m\u001b[0mtrain_ds\u001b[0m\u001b[0;34m.\u001b[0m\u001b[0my\u001b[0m\u001b[0;34m.\u001b[0m\u001b[0mreconstruct\u001b[0m\u001b[0;34m,\u001b[0m \u001b[0;34m'x'\u001b[0m\u001b[0;34m)\u001b[0m\u001b[0;34m:\u001b[0m\u001b[0;34m\u001b[0m\u001b[0;34m\u001b[0m\u001b[0m\n",
      "\u001b[0;32m~/fastai/fastai/data_block.py\u001b[0m in \u001b[0;36mreconstruct\u001b[0;34m(self, t, x)\u001b[0m\n\u001b[1;32m     86\u001b[0m     \u001b[0;32mdef\u001b[0m \u001b[0mreconstruct\u001b[0m\u001b[0;34m(\u001b[0m\u001b[0mself\u001b[0m\u001b[0;34m,\u001b[0m \u001b[0mt\u001b[0m\u001b[0;34m:\u001b[0m\u001b[0mTensor\u001b[0m\u001b[0;34m,\u001b[0m \u001b[0mx\u001b[0m\u001b[0;34m:\u001b[0m\u001b[0mTensor\u001b[0m\u001b[0;34m=\u001b[0m\u001b[0;32mNone\u001b[0m\u001b[0;34m)\u001b[0m\u001b[0;34m:\u001b[0m\u001b[0;34m\u001b[0m\u001b[0;34m\u001b[0m\u001b[0m\n\u001b[1;32m     87\u001b[0m         \u001b[0;34m\"Reconstruct one of the underlying item for its data `t`.\"\u001b[0m\u001b[0;34m\u001b[0m\u001b[0;34m\u001b[0m\u001b[0m\n\u001b[0;32m---> 88\u001b[0;31m         \u001b[0;32mreturn\u001b[0m \u001b[0mself\u001b[0m\u001b[0;34m[\u001b[0m\u001b[0;36m0\u001b[0m\u001b[0;34m]\u001b[0m\u001b[0;34m.\u001b[0m\u001b[0mreconstruct\u001b[0m\u001b[0;34m(\u001b[0m\u001b[0mt\u001b[0m\u001b[0;34m,\u001b[0m\u001b[0mx\u001b[0m\u001b[0;34m)\u001b[0m \u001b[0;32mif\u001b[0m \u001b[0mhas_arg\u001b[0m\u001b[0;34m(\u001b[0m\u001b[0mself\u001b[0m\u001b[0;34m[\u001b[0m\u001b[0;36m0\u001b[0m\u001b[0;34m]\u001b[0m\u001b[0;34m.\u001b[0m\u001b[0mreconstruct\u001b[0m\u001b[0;34m,\u001b[0m \u001b[0;34m'x'\u001b[0m\u001b[0;34m)\u001b[0m \u001b[0;32melse\u001b[0m \u001b[0mself\u001b[0m\u001b[0;34m[\u001b[0m\u001b[0;36m0\u001b[0m\u001b[0;34m]\u001b[0m\u001b[0;34m.\u001b[0m\u001b[0mreconstruct\u001b[0m\u001b[0;34m(\u001b[0m\u001b[0mt\u001b[0m\u001b[0;34m)\u001b[0m\u001b[0;34m\u001b[0m\u001b[0;34m\u001b[0m\u001b[0m\n\u001b[0m\u001b[1;32m     89\u001b[0m \u001b[0;34m\u001b[0m\u001b[0m\n\u001b[1;32m     90\u001b[0m     \u001b[0;32mdef\u001b[0m \u001b[0mnew\u001b[0m\u001b[0;34m(\u001b[0m\u001b[0mself\u001b[0m\u001b[0;34m,\u001b[0m \u001b[0mitems\u001b[0m\u001b[0;34m:\u001b[0m\u001b[0mIterator\u001b[0m\u001b[0;34m,\u001b[0m \u001b[0mprocessor\u001b[0m\u001b[0;34m:\u001b[0m\u001b[0mPreProcessors\u001b[0m\u001b[0;34m=\u001b[0m\u001b[0;32mNone\u001b[0m\u001b[0;34m,\u001b[0m \u001b[0;34m**\u001b[0m\u001b[0mkwargs\u001b[0m\u001b[0;34m)\u001b[0m\u001b[0;34m->\u001b[0m\u001b[0;34m'ItemList'\u001b[0m\u001b[0;34m:\u001b[0m\u001b[0;34m\u001b[0m\u001b[0;34m\u001b[0m\u001b[0m\n",
      "\u001b[0;31mAttributeError\u001b[0m: 'numpy.ndarray' object has no attribute 'reconstruct'"
     ]
    }
   ],
   "source": [
    "data.show_batch()"
   ]
  },
  {
   "cell_type": "code",
   "execution_count": null,
   "metadata": {},
   "outputs": [],
   "source": [
    "ob = data.one_batch()"
   ]
  },
  {
   "cell_type": "code",
   "execution_count": 23,
   "metadata": {},
   "outputs": [
    {
     "data": {
      "text/plain": [
       "'t-2 || nB3 t-2 nD4 t-2 nC5 t-2 || nD4 t-1 || nD4 t-2 || nD4 t-2 || nD4 t-2 || nE-4 t-1 || nE-4 t-2 || nE-4 t-2 || nE-4 t-2 || nD4 t-1 || nD4 t-2 || nD4 t-2 || nD4 t-2 || nE-4 t-1 || nE-4 t-2 || nD4 t-1 || nD4 t-2 || nE-4 t-1 || nE-4 t-2 || nD4 t-1 || nD4 t-2 || nB3'"
      ]
     },
     "execution_count": 23,
     "metadata": {},
     "output_type": "execute_result"
    }
   ],
   "source": [
    "txt_out = data.vocab.textify(ob[0][0]).replace('xxbos ', ''); txt_out"
   ]
  },
  {
   "cell_type": "code",
   "execution_count": 20,
   "metadata": {},
   "outputs": [],
   "source": [
    "from encode_data import *"
   ]
  },
  {
   "cell_type": "code",
   "execution_count": 21,
   "metadata": {},
   "outputs": [],
   "source": [
    "one_text = data.train_ds[0][0].text"
   ]
  },
  {
   "cell_type": "code",
   "execution_count": 22,
   "metadata": {},
   "outputs": [
    {
     "data": {
      "text/plain": [
       "[[E-4t-1],\n",
       " [E-4t-2],\n",
       " [E-4t-2],\n",
       " [E-4t-2],\n",
       " [D4t-1],\n",
       " [D4t-2],\n",
       " [D4t-2],\n",
       " [D4t-2],\n",
       " [E-4t-1],\n",
       " [E-4t-2],\n",
       " [D4t-1],\n",
       " [D4t-2],\n",
       " [E-4t-1],\n",
       " [E-4t-2],\n",
       " [D5t-1],\n",
       " [D5t-2],\n",
       " [C5t-1],\n",
       " [C5t-2],\n",
       " [C5t-2],\n",
       " [C5t-2],\n",
       " [D4t-1],\n",
       " [D4t-2],\n",
       " [D4t-2],\n",
       " [D4t-2],\n",
       " [E-4t-1],\n",
       " [E-4t-2],\n",
       " [E-4t-2],\n",
       " [E-4t-2],\n",
       " [D4t-1],\n",
       " [D4t-2],\n",
       " [D4t-2],\n",
       " [D4t-2],\n",
       " [E-4t-1],\n",
       " [E-4t-2],\n",
       " [D4t-1],\n",
       " [D4t-2],\n",
       " [G3t-1],\n",
       " [G3t-2],\n",
       " [C5t-1],\n",
       " [C5t-2],\n",
       " [B3t-1, D4t-1, C5t-1],\n",
       " [B3t-2, D4t-2, C5t-2],\n",
       " [B3t-2, D4t-2, C5t-2],\n",
       " [B3t-2, D4t-2, C5t-2],\n",
       " [D4t-1],\n",
       " [D4t-2],\n",
       " [D4t-2],\n",
       " [D4t-2],\n",
       " [E-4t-1],\n",
       " [E-4t-2],\n",
       " [E-4t-2],\n",
       " [E-4t-2],\n",
       " [D4t-1],\n",
       " [D4t-2],\n",
       " [D4t-2],\n",
       " [D4t-2],\n",
       " [E-4t-1],\n",
       " [E-4t-2],\n",
       " [D4t-1],\n",
       " [D4t-2],\n",
       " [E-4t-1],\n",
       " [E-4t-2],\n",
       " [D4t-1],\n",
       " [D4t-2],\n",
       " [B3t-1, D4t-1],\n",
       " [B3t-2, D4t-2, C5t-1],\n",
       " [B3t-2, D4t-2, C5t-2],\n",
       " [B3t-2, D4t-2, C5t-2],\n",
       " [D4t-1],\n",
       " [D4t-2],\n",
       " [D4t-2],\n",
       " [D4t-2],\n",
       " [E-4t-1],\n",
       " [E-4t-2],\n",
       " [E-4t-2],\n",
       " [E-4t-2],\n",
       " [D4t-1],\n",
       " [D4t-2],\n",
       " [D4t-2],\n",
       " [D4t-2],\n",
       " [E-4t-1],\n",
       " [E-4t-2],\n",
       " [D4t-1],\n",
       " [D4t-2],\n",
       " [E-4t-1],\n",
       " [E-4t-2],\n",
       " [D4t-1],\n",
       " [D4t-2],\n",
       " [C4t-1, E-4t-1],\n",
       " [C4t-2, E-4t-2, C5t-1],\n",
       " [C4t-2, E-4t-2, C5t-2],\n",
       " [C4t-2, E-4t-2, C5t-2],\n",
       " [D4t-1],\n",
       " [D4t-2],\n",
       " [D4t-2],\n",
       " [D4t-2],\n",
       " [E-4t-1],\n",
       " [E-4t-2],\n",
       " [E-4t-2],\n",
       " [E-4t-2],\n",
       " [D4t-1],\n",
       " [D4t-2],\n",
       " [D4t-2],\n",
       " [D4t-2],\n",
       " [E-4t-1],\n",
       " [E-4t-2],\n",
       " [D4t-1],\n",
       " [D4t-2],\n",
       " [E-4t-1],\n",
       " [E-4t-2],\n",
       " [D5t-1],\n",
       " [D5t-2],\n",
       " [B3t-1, C5t-1],\n",
       " [B3t-2, C5t-2],\n",
       " [B3t-2, C5t-2],\n",
       " [B3t-2, C5t-2],\n",
       " [D4t-1],\n",
       " [D4t-2],\n",
       " [D4t-2],\n",
       " [D4t-2],\n",
       " [E-4t-1],\n",
       " [E-4t-2],\n",
       " [E-4t-2],\n",
       " [E-4t-2],\n",
       " [D4t-1],\n",
       " [D4t-2],\n",
       " [D4t-2],\n",
       " [D4t-2],\n",
       " [E-4t-1],\n",
       " [E-4t-2],\n",
       " [D4t-1],\n",
       " [D4t-2],\n",
       " [E-4t-1],\n",
       " [E-4t-2],\n",
       " [D4t-1],\n",
       " [D4t-2],\n",
       " [G3t-1, B3t-1, D4t-1, C5t-1],\n",
       " [G3t-2, B3t-2, D4t-2, C5t-2],\n",
       " [G3t-2, B3t-2, D4t-2, C5t-2],\n",
       " [G3t-2, B3t-2, D4t-2, C5t-2],\n",
       " [D4t-1],\n",
       " [D4t-2],\n",
       " [D4t-2],\n",
       " [D4t-2],\n",
       " [E-4t-1],\n",
       " [E-4t-2],\n",
       " [E-4t-2],\n",
       " [E-4t-2],\n",
       " [D4t-1],\n",
       " [D4t-2],\n",
       " [D4t-2],\n",
       " [D4t-2],\n",
       " [E-4t-1],\n",
       " [E-4t-2],\n",
       " [D4t-1],\n",
       " [D4t-2],\n",
       " [E-4t-1],\n",
       " [E-4t-2],\n",
       " [D4t-1],\n",
       " [D4t-2],\n",
       " [A3t-1, E4t-1, C5t-1],\n",
       " [A3t-2, E4t-2, C5t-2],\n",
       " [A3t-2, E4t-2, C5t-2],\n",
       " [A3t-2, E4t-2, C5t-2],\n",
       " [E4t-1],\n",
       " [E4t-2],\n",
       " [E4t-2],\n",
       " [E4t-2],\n",
       " [F4t-1],\n",
       " [F4t-2],\n",
       " [F4t-2],\n",
       " [F4t-2],\n",
       " [E4t-1],\n",
       " [E4t-2],\n",
       " [E4t-2],\n",
       " [E4t-2],\n",
       " [F4t-1],\n",
       " [F4t-2],\n",
       " [E4t-1],\n",
       " [E4t-2],\n",
       " [F4t-1],\n",
       " [F4t-2],\n",
       " [D5t-1],\n",
       " [D5t-2],\n",
       " [A3t-1, E4t-1, C5t-1],\n",
       " [A3t-2, E4t-2, C5t-2],\n",
       " [A3t-2, E4t-2, C5t-2],\n",
       " [A3t-2, E4t-2, C5t-2],\n",
       " [E4t-1],\n",
       " [E4t-2],\n",
       " [E4t-2],\n",
       " [E4t-2],\n",
       " [F4t-1],\n",
       " [F4t-2],\n",
       " [F4t-2],\n",
       " [F4t-2],\n",
       " [E4t-1],\n",
       " [E4t-2],\n",
       " [E4t-2],\n",
       " [E4t-2],\n",
       " [F4t-1],\n",
       " [F4t-2],\n",
       " [E4t-1],\n",
       " [E4t-2],\n",
       " [F4t-1],\n",
       " [F4t-2],\n",
       " [C5t-1],\n",
       " [C5t-2],\n",
       " [B3t-1, D4t-1, B4t-1],\n",
       " [B3t-2, D4t-2, B4t-2],\n",
       " [B3t-2, D4t-2, B4t-2],\n",
       " [B3t-2, D4t-2, B4t-2],\n",
       " [D4t-1],\n",
       " [D4t-2],\n",
       " [D4t-2],\n",
       " [D4t-2],\n",
       " [E4t-1],\n",
       " [E4t-2],\n",
       " [E4t-2],\n",
       " [E4t-2],\n",
       " [D4t-1],\n",
       " [D4t-2],\n",
       " [D4t-2],\n",
       " [D4t-2],\n",
       " [E4t-1],\n",
       " [E4t-2],\n",
       " [D4t-1],\n",
       " [D4t-2],\n",
       " [E4t-1],\n",
       " [E4t-2],\n",
       " [C5t-1],\n",
       " [C5t-2],\n",
       " [B3t-1, D4t-1, B4t-1],\n",
       " [B3t-2, D4t-2, B4t-2],\n",
       " [B3t-2, D4t-2, B4t-2],\n",
       " [B3t-2, D4t-2, B4t-2],\n",
       " [D4t-1],\n",
       " [D4t-2],\n",
       " [D4t-2],\n",
       " [D4t-2],\n",
       " [E4t-1],\n",
       " [E4t-2],\n",
       " [E4t-2],\n",
       " [E4t-2],\n",
       " [D4t-1],\n",
       " [D4t-2],\n",
       " [D4t-2],\n",
       " [D4t-2],\n",
       " [F4t-1],\n",
       " [F4t-2],\n",
       " [E4t-1],\n",
       " [E4t-2],\n",
       " [D4t-1],\n",
       " [D4t-2],\n",
       " [E4t-1],\n",
       " [E4t-2],\n",
       " [B3t-1, D4t-1, C5t-1],\n",
       " [B3t-2, D4t-2, C5t-2],\n",
       " [B3t-2, D4t-2, C5t-2],\n",
       " [B3t-2, D4t-2, C5t-2],\n",
       " [E4t-1],\n",
       " [E4t-2],\n",
       " [E4t-2],\n",
       " [E4t-2],\n",
       " [F4t-1],\n",
       " [F4t-2],\n",
       " [F4t-2],\n",
       " [F4t-2],\n",
       " [E4t-1],\n",
       " [E4t-2],\n",
       " [E4t-2],\n",
       " [E4t-2],\n",
       " [F4t-1],\n",
       " [F4t-2],\n",
       " [E4t-1],\n",
       " [E4t-2],\n",
       " [F4t-1],\n",
       " [F4t-2],\n",
       " [C5t-1],\n",
       " [C5t-2],\n",
       " [B3t-1, D4t-1, C5t-1],\n",
       " [B3t-2, D4t-2, C5t-2],\n",
       " [B3t-2, D4t-2, C5t-2],\n",
       " [B3t-2, D4t-2, C5t-2],\n",
       " [E4t-1],\n",
       " [E4t-2],\n",
       " [E4t-2],\n",
       " [E4t-2],\n",
       " [F4t-1],\n",
       " [F4t-2],\n",
       " [F4t-2],\n",
       " [F4t-2],\n",
       " [E4t-1],\n",
       " [E4t-2],\n",
       " [E4t-2],\n",
       " [E4t-2],\n",
       " [F4t-1],\n",
       " [F4t-2],\n",
       " [E4t-1],\n",
       " [E4t-2],\n",
       " [F4t-1],\n",
       " [F4t-2],\n",
       " [C5t-1],\n",
       " [C5t-2],\n",
       " [B4t-1],\n",
       " [B4t-2],\n",
       " [B4t-2],\n",
       " [B4t-2],\n",
       " [D4t-1],\n",
       " [D4t-2],\n",
       " [D4t-2],\n",
       " [D4t-2],\n",
       " [E4t-1],\n",
       " [E4t-2],\n",
       " [E4t-2],\n",
       " [E4t-2],\n",
       " [D4t-1],\n",
       " [D4t-2],\n",
       " [D4t-2],\n",
       " [D4t-2],\n",
       " [E4t-1],\n",
       " [F4t-1],\n",
       " [],\n",
       " [E4t-1],\n",
       " [],\n",
       " [D4t-1],\n",
       " [],\n",
       " [C5t-1],\n",
       " [A3t-1, E4t-1, A4t-1, C5t-1],\n",
       " [A3t-2, E4t-2, A4t-2, C5t-2],\n",
       " [A3t-2, E4t-2, A4t-2, C5t-2],\n",
       " [A3t-2, E4t-2, A4t-2, C5t-2],\n",
       " [D4t-1],\n",
       " [D4t-2],\n",
       " [D4t-2],\n",
       " [D4t-2],\n",
       " [E4t-1],\n",
       " [E4t-2],\n",
       " [E4t-2],\n",
       " [E4t-2],\n",
       " [D4t-1],\n",
       " [D4t-2],\n",
       " [D4t-2],\n",
       " [D4t-2],\n",
       " [E4t-1],\n",
       " [E4t-2],\n",
       " [F4t-1],\n",
       " [F4t-2],\n",
       " [E4t-1],\n",
       " [E4t-2],\n",
       " [D4t-1],\n",
       " [D4t-2],\n",
       " [C4t-1, E-4t-1, G4t-1, C5t-1],\n",
       " [C4t-2, E-4t-2, G4t-2, C5t-2],\n",
       " [C4t-2, E-4t-2, G4t-2, C5t-2],\n",
       " [C4t-2, E-4t-2, G4t-2, C5t-2],\n",
       " [D4t-1],\n",
       " [D4t-2],\n",
       " [D4t-2],\n",
       " [D4t-2],\n",
       " [E-4t-1],\n",
       " [E-4t-2],\n",
       " [E-4t-2],\n",
       " [E-4t-2],\n",
       " [D4t-1],\n",
       " [D4t-2],\n",
       " [G3t-1],\n",
       " [G3t-2],\n",
       " [E-4t-1],\n",
       " [E-4t-2],\n",
       " [D4t-1],\n",
       " [D4t-2],\n",
       " [E-4t-1],\n",
       " [E-4t-2],\n",
       " [D5t-1],\n",
       " [D5t-2],\n",
       " [E-4t-1, C5t-1],\n",
       " [E-4t-2, C5t-2],\n",
       " [E-4t-2, C5t-2],\n",
       " [E-4t-2, C5t-2],\n",
       " [E-4t-2, C5t-2],\n",
       " [E-4t-2, C5t-2],\n",
       " [E-4t-2, C5t-2],\n",
       " [E-4t-2, C5t-2],\n",
       " [E-4t-2, C5t-2],\n",
       " [E-4t-2, C5t-2],\n",
       " [E-4t-2, C5t-2],\n",
       " [E-4t-2, C5t-2],\n",
       " [E-4t-2, C5t-2],\n",
       " [E-4t-2, C5t-2],\n",
       " [E-4t-2, C5t-2],\n",
       " [E-4t-2, C5t-2],\n",
       " [E-4t-2, C5t-2],\n",
       " [E-4t-2, C5t-2],\n",
       " [E-4t-2, C5t-2],\n",
       " [E-4t-2, C5t-2],\n",
       " [E-4t-2, C5t-2],\n",
       " [E-4t-2, C5t-2],\n",
       " [E-4t-2, C5t-2],\n",
       " [E-4t-2, C5t-2],\n",
       " []]"
      ]
     },
     "execution_count": 22,
     "metadata": {},
     "output_type": "execute_result"
    }
   ],
   "source": [
    "seq = str2seq(one_text); seq"
   ]
  },
  {
   "cell_type": "code",
   "execution_count": 19,
   "metadata": {},
   "outputs": [
    {
     "data": {
      "text/plain": [
       "(129, 1, 127)"
      ]
     },
     "execution_count": 19,
     "metadata": {},
     "output_type": "execute_result"
    }
   ],
   "source": [
    "seq2numpy(seq).shape"
   ]
  },
  {
   "cell_type": "code",
   "execution_count": 20,
   "metadata": {},
   "outputs": [],
   "source": [
    "s = str2stream(one_text)"
   ]
  },
  {
   "cell_type": "code",
   "execution_count": 21,
   "metadata": {},
   "outputs": [
    {
     "data": {
      "text/html": [
       "\n",
       "                <div id='midiPlayerDiv215'></div>\n",
       "                <link rel=\"stylesheet\" href=\"//cuthbertLab.github.io/music21j/css/m21.css\"\n",
       "                    type=\"text/css\" />\n",
       "                <script>\n",
       "                require.config({\n",
       "                    paths: {'music21': '//cuthbertLab.github.io/music21j/src/music21'}\n",
       "                });\n",
       "                require(['music21'], function() {\n",
       "                               mp = new music21.miditools.MidiPlayer();\n",
       "                               mp.addPlayer('#midiPlayerDiv215');\n",
       "                               mp.base64Load('data:audio/midi;base64,TVRoZAAAAAYAAQABBABNVHJrAAABvQD/AwVQaWFubwDAAADgAEAAwAAA/1EDB6EgAP9ZAgAAAP9YBAQCGAiCAJA3WoIAgDcAAJA2WoIAgDYAAJAtWoIAgC0AAJA1WoIAgDUAAJA0WoIAgDQAAJAtWoIAgC0AAJA1WoIAgDUAAJA0WoIAgDQAAJAtWoYAgC0AAJA3WoIAgDcAAJA2WoIAgDYAAJA3WoIAgDcAAJA9WoIAgD0AAJA0WgCQN1oAkDtaoACANAAAgDcAAIA7AACQNFoAkDdaAJA5WgCQPFqQAIA0AACANwAAgDkAAIA8AACQNFoAkDdaAJA7WpAAgDQAAIA3AACAOwAAkCtaAJAuWgCQMlqwAIArAACALgAAgDIAAJArWgCQLVoAkDBaAJA0WogAgCsAAIAtAACAMAAAgDQAAJAtWgCQL1oAkDJaAJA2WogAgC0AAIAvAACAMgAAgDYAAJAwWgCQM1oAkDdaoACAMAAAgDMAAIA3AACQNVoAkDhaAJA8WgCQPlqQAIA1AACAOAAAgDwAAIA+AACQMFoAkDNaAJA3WpAAgDAAAIAzAACANwAAkDNaAJA2WgCQOlqgAIAzAACANgAAgDoAiAD/LwA=');\n",
       "                        });\n",
       "                </script>"
      ],
      "text/plain": [
       "<IPython.core.display.HTML object>"
      ]
     },
     "metadata": {},
     "output_type": "display_data"
    }
   ],
   "source": [
    "s.show('midi')"
   ]
  },
  {
   "cell_type": "code",
   "execution_count": 22,
   "metadata": {},
   "outputs": [
    {
     "name": "stdout",
     "output_type": "stream",
     "text": [
      "{0.0} <music21.stream.Part 0x7f0626bf9b70>\n",
      "    {0.0} <music21.instrument.Piano Piano>\n",
      "    {0.0} <music21.meter.TimeSignature 4/4>\n",
      "    {0.0} <music21.tempo.MetronomeMark animato Quarter=120>\n",
      "    {0.0} <music21.key.KeySignature of no sharps or flats>\n",
      "    {0.25} <music21.chord.Chord G3>\n",
      "    {0.5} <music21.chord.Chord F#3>\n",
      "    {0.75} <music21.chord.Chord A2>\n",
      "    {1.0} <music21.chord.Chord F3>\n",
      "    {1.25} <music21.chord.Chord E3>\n",
      "    {1.5} <music21.chord.Chord A2>\n",
      "    {1.75} <music21.chord.Chord F3>\n",
      "    {2.0} <music21.chord.Chord E3>\n",
      "    {2.25} <music21.chord.Chord A2>\n",
      "    {3.0} <music21.chord.Chord G3>\n",
      "    {3.25} <music21.chord.Chord F#3>\n",
      "    {3.5} <music21.chord.Chord G3>\n",
      "    {3.75} <music21.chord.Chord C#4>\n",
      "    {4.0} <music21.chord.Chord E3 G3 B3>\n",
      "    {8.0} <music21.chord.Chord E3 G3 A3 C4>\n",
      "    {10.0} <music21.chord.Chord E3 G3 B3>\n",
      "    {12.0} <music21.chord.Chord G2 B-2 D3>\n",
      "    {18.0} <music21.chord.Chord G2 A2 C3 E3>\n",
      "    {19.0} <music21.chord.Chord A2 B2 D3 F#3>\n",
      "    {20.0} <music21.chord.Chord C3 E-3 G3>\n",
      "    {24.0} <music21.chord.Chord F3 G#3 C4 D4>\n",
      "    {26.0} <music21.chord.Chord C3 E-3 G3>\n",
      "    {28.0} <music21.chord.Chord E-3 F#3 B-3>\n"
     ]
    }
   ],
   "source": [
    "s.show('text')"
   ]
  },
  {
   "cell_type": "code",
   "execution_count": null,
   "metadata": {},
   "outputs": [],
   "source": []
  }
 ],
 "metadata": {
  "kernelspec": {
   "display_name": "Python 3",
   "language": "python",
   "name": "python3"
  },
  "language_info": {
   "codemirror_mode": {
    "name": "ipython",
    "version": 3
   },
   "file_extension": ".py",
   "mimetype": "text/x-python",
   "name": "python",
   "nbconvert_exporter": "python",
   "pygments_lexer": "ipython3",
   "version": "3.7.1"
  }
 },
 "nbformat": 4,
 "nbformat_minor": 2
}

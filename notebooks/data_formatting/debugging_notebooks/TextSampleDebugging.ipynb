{
 "cells": [
  {
   "cell_type": "code",
   "execution_count": null,
   "metadata": {},
   "outputs": [],
   "source": [
    "from fastai.text import *"
   ]
  },
  {
   "cell_type": "code",
   "execution_count": null,
   "metadata": {},
   "outputs": [],
   "source": [
    "path = untar_data(URLs.IMDB_SAMPLE)\n",
    "path"
   ]
  },
  {
   "cell_type": "code",
   "execution_count": null,
   "metadata": {},
   "outputs": [],
   "source": [
    "df = pd.read_csv(path/'texts.csv', header=None)\n",
    "df.head()"
   ]
  },
  {
   "cell_type": "code",
   "execution_count": null,
   "metadata": {},
   "outputs": [],
   "source": [
    "data = TextLMDataBunch.from_csv(path, 'texts.csv', bptt=10, bs=8)\n",
    "# data_clas = TextClasDataBunch.from_csv(path, 'texts.csv', vocab=data_lm.train_ds.vocab, bs=42)"
   ]
  },
  {
   "cell_type": "code",
   "execution_count": null,
   "metadata": {},
   "outputs": [],
   "source": [
    "# from fastai_data import MusicTokenizer\n",
    "# path = Path('data/midi/v6/midi_transcribe/shortdur/')\n",
    "# data = TextLMDataBunch.load(path, cache_name='tmp/hook', bs=4, bptt=20)\n",
    "# data.valid_ds.x.processor[0] = TokenizeProcessor(tokenizer=MusicTokenizer())\n",
    "# t = data.train_ds[0][0]"
   ]
  },
  {
   "cell_type": "code",
   "execution_count": 6,
   "metadata": {},
   "outputs": [
    {
     "name": "stderr",
     "output_type": "stream",
     "text": [
      "/home/ubuntu/fastai/fastai/text/learner.py:198: UserWarning: There are no pretrained weights for that architecture yet!\n",
      "  warn(\"There are no pretrained weights for that architecture yet!\")\n"
     ]
    }
   ],
   "source": [
    "learn = language_model_learner(data, TransformerXL)\n",
    "learn.unfreeze()\n"
   ]
  },
  {
   "cell_type": "code",
   "execution_count": 7,
   "metadata": {},
   "outputs": [
    {
     "data": {
      "text/plain": [
       "'hello there courage ishtar setups sentimental singlehandedly 19th walking packed till gradually'"
      ]
     },
     "execution_count": 7,
     "metadata": {},
     "output_type": "execute_result"
    }
   ],
   "source": [
    "learn.predict('hello there', n_words=10)"
   ]
  },
  {
   "cell_type": "code",
   "execution_count": 8,
   "metadata": {},
   "outputs": [],
   "source": [
    "import pdb"
   ]
  },
  {
   "cell_type": "code",
   "execution_count": 9,
   "metadata": {},
   "outputs": [],
   "source": [
    "def beam_search(self, text:str, n_words:int, top_k:int=10, beam_sz:int=1000, temperature:float=1., sep:str=' ',\n",
    "                decoder=decode_spec_tokens):\n",
    "    \"Return the `n_words` that come after `text` using beam search.\"\n",
    "    ds = self.data.single_dl.dataset\n",
    "    self.model.reset()\n",
    "    xb, yb = self.data.one_item(text)\n",
    "    nodes = None\n",
    "    xb = xb.repeat(top_k, 1)\n",
    "    nodes = xb.clone()\n",
    "    scores = xb.new_ones(1).float()\n",
    "    with torch.no_grad():\n",
    "        for k in progress_bar(range(n_words), leave=False):\n",
    "            out = F.log_softmax(self.model(xb)[0][:,-1], dim=-1)\n",
    "            values, indices = out.topk(top_k, dim=-1)\n",
    "            scores = (-values * scores[:,None]).view(-1)\n",
    "            indices_idx = torch.arange(0,nodes.size(0))[:,None].expand(nodes.size(0), top_k).contiguous().view(-1)\n",
    "            sort_idx = scores.argsort()[:beam_sz]\n",
    "            scores = scores[sort_idx]\n",
    "            nodes = torch.cat([nodes[:,None].expand(nodes.size(0),top_k,nodes.size(1)),\n",
    "                            indices[:,:,None].expand(nodes.size(0),top_k,1),], dim=2)\n",
    "            nodes = nodes.view(-1, nodes.size(2))[sort_idx]\n",
    "            self.model[0].select_hidden(indices_idx[sort_idx])\n",
    "            xb = nodes[:,-1][:,None]\n",
    "    if temperature != 1.: scores.div_(temperature)\n",
    "    pdb.set_trace()\n",
    "    node_idx = torch.multinomial(1-scores, 1).item()\n",
    "    return text + sep + sep.join(decoder(self.data.vocab.textify([i.item() for i in nodes[node_idx]], sep=None)))\n"
   ]
  },
  {
   "cell_type": "code",
   "execution_count": 10,
   "metadata": {},
   "outputs": [
    {
     "name": "stdout",
     "output_type": "stream",
     "text": [
      "> <ipython-input-9-377f4724ca8e>(26)beam_search()\n",
      "-> node_idx = torch.multinomial((1-scores)/scores.sum(), 1).item()\n",
      "(Pdb) continue\n"
     ]
    },
    {
     "ename": "RuntimeError",
     "evalue": "CUDA error: device-side assert triggered",
     "output_type": "error",
     "traceback": [
      "\u001b[0;31m---------------------------------------------------------------------------\u001b[0m",
      "\u001b[0;31mRuntimeError\u001b[0m                              Traceback (most recent call last)",
      "\u001b[0;32m<ipython-input-10-26c3af56e4c0>\u001b[0m in \u001b[0;36m<module>\u001b[0;34m\u001b[0m\n\u001b[0;32m----> 1\u001b[0;31m \u001b[0mbeam_search\u001b[0m\u001b[0;34m(\u001b[0m\u001b[0mlearn\u001b[0m\u001b[0;34m,\u001b[0m \u001b[0;34m'hello there'\u001b[0m\u001b[0;34m,\u001b[0m \u001b[0mn_words\u001b[0m\u001b[0;34m=\u001b[0m\u001b[0;36m5\u001b[0m\u001b[0;34m)\u001b[0m\u001b[0;34m\u001b[0m\u001b[0;34m\u001b[0m\u001b[0m\n\u001b[0m",
      "\u001b[0;32m<ipython-input-9-377f4724ca8e>\u001b[0m in \u001b[0;36mbeam_search\u001b[0;34m(self, text, n_words, top_k, beam_sz, temperature, sep, decoder)\u001b[0m\n\u001b[1;32m     24\u001b[0m     \u001b[0;32mif\u001b[0m \u001b[0mtemperature\u001b[0m \u001b[0;34m!=\u001b[0m \u001b[0;36m1.\u001b[0m\u001b[0;34m:\u001b[0m \u001b[0mscores\u001b[0m\u001b[0;34m.\u001b[0m\u001b[0mdiv_\u001b[0m\u001b[0;34m(\u001b[0m\u001b[0mtemperature\u001b[0m\u001b[0;34m)\u001b[0m\u001b[0;34m\u001b[0m\u001b[0;34m\u001b[0m\u001b[0m\n\u001b[1;32m     25\u001b[0m     \u001b[0mpdb\u001b[0m\u001b[0;34m.\u001b[0m\u001b[0mset_trace\u001b[0m\u001b[0;34m(\u001b[0m\u001b[0;34m)\u001b[0m\u001b[0;34m\u001b[0m\u001b[0;34m\u001b[0m\u001b[0m\n\u001b[0;32m---> 26\u001b[0;31m     \u001b[0mnode_idx\u001b[0m \u001b[0;34m=\u001b[0m \u001b[0mtorch\u001b[0m\u001b[0;34m.\u001b[0m\u001b[0mmultinomial\u001b[0m\u001b[0;34m(\u001b[0m\u001b[0;34m(\u001b[0m\u001b[0;36m1\u001b[0m\u001b[0;34m-\u001b[0m\u001b[0mscores\u001b[0m\u001b[0;34m)\u001b[0m\u001b[0;34m/\u001b[0m\u001b[0mscores\u001b[0m\u001b[0;34m.\u001b[0m\u001b[0msum\u001b[0m\u001b[0;34m(\u001b[0m\u001b[0;34m)\u001b[0m\u001b[0;34m,\u001b[0m \u001b[0;36m1\u001b[0m\u001b[0;34m)\u001b[0m\u001b[0;34m.\u001b[0m\u001b[0mitem\u001b[0m\u001b[0;34m(\u001b[0m\u001b[0;34m)\u001b[0m\u001b[0;34m\u001b[0m\u001b[0;34m\u001b[0m\u001b[0m\n\u001b[0m\u001b[1;32m     27\u001b[0m     \u001b[0;32mreturn\u001b[0m \u001b[0mtext\u001b[0m \u001b[0;34m+\u001b[0m \u001b[0msep\u001b[0m \u001b[0;34m+\u001b[0m \u001b[0msep\u001b[0m\u001b[0;34m.\u001b[0m\u001b[0mjoin\u001b[0m\u001b[0;34m(\u001b[0m\u001b[0mdecoder\u001b[0m\u001b[0;34m(\u001b[0m\u001b[0mself\u001b[0m\u001b[0;34m.\u001b[0m\u001b[0mdata\u001b[0m\u001b[0;34m.\u001b[0m\u001b[0mvocab\u001b[0m\u001b[0;34m.\u001b[0m\u001b[0mtextify\u001b[0m\u001b[0;34m(\u001b[0m\u001b[0;34m[\u001b[0m\u001b[0mi\u001b[0m\u001b[0;34m.\u001b[0m\u001b[0mitem\u001b[0m\u001b[0;34m(\u001b[0m\u001b[0;34m)\u001b[0m \u001b[0;32mfor\u001b[0m \u001b[0mi\u001b[0m \u001b[0;32min\u001b[0m \u001b[0mnodes\u001b[0m\u001b[0;34m[\u001b[0m\u001b[0mnode_idx\u001b[0m\u001b[0;34m]\u001b[0m\u001b[0;34m]\u001b[0m\u001b[0;34m,\u001b[0m \u001b[0msep\u001b[0m\u001b[0;34m=\u001b[0m\u001b[0;32mNone\u001b[0m\u001b[0;34m)\u001b[0m\u001b[0;34m)\u001b[0m\u001b[0;34m)\u001b[0m\u001b[0;34m\u001b[0m\u001b[0;34m\u001b[0m\u001b[0m\n",
      "\u001b[0;31mRuntimeError\u001b[0m: CUDA error: device-side assert triggered"
     ]
    }
   ],
   "source": [
    "beam_search(learn, 'hello there', n_words=5)"
   ]
  },
  {
   "cell_type": "code",
   "execution_count": null,
   "metadata": {},
   "outputs": [],
   "source": [
    "learn.beam_search('hello there', n_words=10)"
   ]
  },
  {
   "cell_type": "code",
   "execution_count": null,
   "metadata": {},
   "outputs": [],
   "source": [
    "%debug"
   ]
  },
  {
   "cell_type": "code",
   "execution_count": 20,
   "metadata": {},
   "outputs": [],
   "source": [
    "# data.train_dl.sampler\n",
    "\n",
    "# data.train_dl.dl.dataset"
   ]
  },
  {
   "cell_type": "code",
   "execution_count": 13,
   "metadata": {},
   "outputs": [],
   "source": [
    "tdl = data.train_dl.new()"
   ]
  },
  {
   "cell_type": "code",
   "execution_count": 21,
   "metadata": {},
   "outputs": [
    {
     "data": {
      "text/plain": [
       "<torch.utils.data.sampler.SequentialSampler at 0x7fabdd321358>"
      ]
     },
     "execution_count": 21,
     "metadata": {},
     "output_type": "execute_result"
    }
   ],
   "source": [
    "data.train_dl.sampler"
   ]
  },
  {
   "cell_type": "code",
   "execution_count": 22,
   "metadata": {},
   "outputs": [],
   "source": [
    "data.train_dl.on_epoch_begin()"
   ]
  },
  {
   "cell_type": "code",
   "execution_count": 23,
   "metadata": {},
   "outputs": [
    {
     "data": {
      "text/plain": [
       "799"
      ]
     },
     "execution_count": 23,
     "metadata": {},
     "output_type": "execute_result"
    }
   ],
   "source": [
    "len(data.train_ds)"
   ]
  },
  {
   "cell_type": "code",
   "execution_count": 24,
   "metadata": {},
   "outputs": [
    {
     "data": {
      "text/plain": [
       "799"
      ]
     },
     "execution_count": 24,
     "metadata": {},
     "output_type": "execute_result"
    }
   ],
   "source": [
    "len(data.train_dl.dl.dataset.idx.idx)"
   ]
  },
  {
   "cell_type": "code",
   "execution_count": 28,
   "metadata": {},
   "outputs": [
    {
     "data": {
      "text/plain": [
       "3182"
      ]
     },
     "execution_count": 28,
     "metadata": {},
     "output_type": "execute_result"
    }
   ],
   "source": [
    "len(data.train_dl)"
   ]
  },
  {
   "cell_type": "code",
   "execution_count": 25,
   "metadata": {},
   "outputs": [],
   "source": [
    "it = iter(data.train_dl)"
   ]
  },
  {
   "cell_type": "code",
   "execution_count": 26,
   "metadata": {},
   "outputs": [
    {
     "data": {
      "text/plain": [
       "[\"xxbos xxmaj first of all ; it 's very xxunk\",\n",
       " 'his life since there is no specific risk in it',\n",
       " '\\n\\n xxmaj another sore point is that the whole production',\n",
       " ': everyone stumbles through their lines like wooden dolls ,',\n",
       " 'concept of this film , especially the \" film makers',\n",
       " '\" companion \" , and there was no xxunk .',\n",
       " 'who wished that he / she is older / bigger',\n",
       " \"'re aware that this music is similar to xxmaj newman\"]"
      ]
     },
     "execution_count": 26,
     "metadata": {},
     "output_type": "execute_result"
    }
   ],
   "source": [
    "n = next(it)\n",
    "[data.vocab.textify(x) for x in n[0]]"
   ]
  },
  {
   "cell_type": "code",
   "execution_count": 27,
   "metadata": {},
   "outputs": [
    {
     "data": {
      "text/plain": [
       "['to try describe way of history only from positions of',\n",
       " '( xxmaj burt xxmaj reynolds ) ; a passionate family',\n",
       " 'seemed to be one long set of product xxunk ,',\n",
       " 'especially this xxmaj indian girl , she may be pretty',\n",
       " 'were then attacked \" aspect that the case seems to',\n",
       " 'xxmaj there was also no \" xxmaj grace \" (',\n",
       " '; that just is so xxunk \\n\\n xxmaj just watch',\n",
       " \"'s other work and while listening to the soundtrack you\"]"
      ]
     },
     "execution_count": 27,
     "metadata": {},
     "output_type": "execute_result"
    }
   ],
   "source": [
    "n2 = next(it)\n",
    "[data.vocab.textify(x) for x in n2[0]]"
   ]
  },
  {
   "cell_type": "code",
   "execution_count": 14,
   "metadata": {},
   "outputs": [],
   "source": [
    "it2 = iter(tdl)"
   ]
  },
  {
   "cell_type": "code",
   "execution_count": 15,
   "metadata": {},
   "outputs": [
    {
     "data": {
      "text/plain": [
       "[\"no matter what script he 's following . xxmaj his character , xxmaj hunt xxmaj stevenson , is a likable , affable xxunk , a natural leader with a wise - ass xxunk . xxmaj but he has a fatal flaw common to many of us : he does n't want to disappoint anyone . xxmaj he 'll distract the crowd with inspirational xxunk , and even lie , rather\",\n",
       " 'sex , then killed by human xxunk . xxmaj there is plenty of gore , including the classic \" something is wrong with her , oh no , it \\'s half the person she used to be \" and the xxunk murder caused by panic . xxmaj but you can also find funny stuff like intestines pulled through someone \\'s ass and a guy running in the woods then finding',\n",
       " 'patience from the viewer . xxmaj it must be said that some of the humor falls flat and the usual romantic misunderstandings that occur in any xxmaj fred xxmaj astaire film of this period are given conventional treatment . xxmaj only the musical interludes give the story the lift it needs . \\n\\n xxmaj some pleasant xxmaj xxunk tunes pop up once in awhile but not all of them get',\n",
       " 'adult i now realize that it \\'s merely lame , boring , and not really well - acted in the least bit . \\n\\n xxmaj my xxmaj grade : d xxbos xxmaj the problem with \" xxmaj the xxmaj killer xxmaj elite \" is that just by seeking this film out , and xxunk time to watch it , you are putting more effort into the experience than many of',\n",
       " 'one of the worst pictures that i have ever seen . xxmaj look no further for the xxunk superhero movie ever made ! xxmaj the plot here , such as it is , deals with xxmaj kitten gaining xxunk after xxunk the rare xxunk plant in xxmaj south xxmaj america to cure her breast cancer ( xxunk ) , and later xxunk a trio of xxunk bikini dancers back in',\n",
       " \"the sudden lurch into melodrama is all the more jarring . xxmaj unfortunately xxmaj xxunk xxmaj xxunk 's beautiful title song , xxmaj across the xxmaj borderline , says it all much more economically . xxmaj but if you want to know the film 's real crime , it 's completely wasting the great xxmaj warren xxmaj oates in a nothing bit part . xxmaj when even he ca n't\",\n",
       " \"come and take it every year . xxmaj one member of this colony is xxmaj flik , an inventor with a bad reputation for causing trouble with his inventions , even though he does n't mean to . xxmaj one year , when the colony has just finished preparing the xxunk offering , xxmaj flik accidentally knocks it into a stream just before the grasshoppers arrive to get it !\",\n",
       " 'the motions , its always nice to see actors really trying to xxunk their craft . \\n\\n xxmaj the story deals with the xxunk possible return ) of a disfigured xxunk . xxmaj the others are xxunk to xxunk , but the xxunk of the event xxunk each person in different directions in their xxunk . xxmaj ten years later , the friends are murdered one by one by a',\n",
       " 'xxmaj matrix xxmaj reloaded , it was time to buy the xxup dvd and watch it . \\n\\n xxmaj the disappointment was too great . xxmaj the premise of the matrix ( the controlling device as opposed to the movie ) was clever . xxmaj the philosophical premise of parallel worlds , alternate realities is xxunk . xxmaj however , i could still have bought into the film , as',\n",
       " 'market ... this movie has a real feel to it . xxmaj while it may be deemed as a movie that has cheap emotional draws , it also has that message of xxunk , and overall good morals . xxmaj however , i did not like the lighting in this movie ... for a movie dealing with such subject matter , it was too bright . i felt it took',\n",
       " \"at this film with high expectations . i was aware of xxmaj xxunk 's work and ' xxmaj the xxmaj xxunk ' and was interested in an adaptation . i first wanted to switch off after ten minutes , but felt that it would be unfair . xxmaj there was a representation of a storm , but where in your mind do you xxunk a small boy peeing over a\",\n",
       " \"but what it simply wants to do is just shed a light on a small but true life event that occurred during an historical period . xxmaj part of the films strength comes from its actors and there are some good performances that shine through especially by xxmaj riemann and young xxmaj lohde and it 's always good to see xxmaj schrader ( xxmaj xxunk & xxmaj xxunk ) in\",\n",
       " '- called movie \" stars \" of today . xxmaj cher is a real actor on the same level as xxmaj xxunk xxmaj xxunk , xxmaj alfre xxmaj woodard , xxmaj holly xxmaj hunter , xxmaj angela xxmaj xxunk and a few others , in that she never seems to be \" acting , \" she really becomes the character convincingly . xxmaj she has more than earned the respect',\n",
       " \"simply because i only watched it once or twice , but i doubt it . xxmaj if there was anything worth remembering about this film , you can rest assured i would remember it . \\n\\n xxmaj at the time this film was released , the franchise was still entering its dying phase , so a lot of media coverage was allotted to it . xxmaj it 's never a\",\n",
       " 'is no way indicative of the other psychedelic / xxunk films to come from xxmaj japan in the last 10 years . xxmaj taste of xxmaj tea , xxmaj party 7 , and xxmaj kamikaze xxmaj girls are much better movies ( even with a low budget ) , and none can honestly compare with xxmaj survive xxmaj style 5 + . xxmaj watch xxup fffc only if your interested',\n",
       " \"rent a xxmaj miyazaki film and watch it twice , you 'll get way more out of it . xxbos a very realistic portrait of a broken family and the effect it has on the kid caught in between . xxmaj as a child of divorced parents i was totally relating to events in the film . xxmaj also - a really cool zombie twist which i thought was xxup\",\n",
       " '. xxmaj and it was the latter role that xxunk her among the greatest stars . xxmaj so there is no question that xxmaj ms xxmaj davis knew from the start what she was doing . \\n\\n xxmaj the film , which tells about a medical student xxmaj phillip xxmaj xxunk ( xxmaj leslie xxmaj howard ) which falls xxunk in love with xxmaj cockney waitress xxmaj mildred xxmaj rogers',\n",
       " \"themes from the xxmaj xxunk brothers better , earlier film ' xxmaj white xxmaj zombie ' ( 1932 ) in which xxunk xxmaj robert xxmaj xxunk ( as xxmaj charles xxmaj xxunk ) uses ' zombification ' to win the love of xxmaj xxunk xxmaj xxunk ( as xxmaj madeline xxmaj parker ) . \\n\\n xxmaj if you want real zombie movies ( of which there are hundreds ! )\",\n",
       " 'lead him into danger with xxunk , the army and a lost floating city . \\n\\n xxmaj going into a film by xxmaj hayao xxmaj miyazaki means you can expect one thing : a sense of wonder and magic . xxmaj many filmmakers have tried , but no one can create a sense of magic and awe like xxmaj miyazaki . xxmaj watching a film by xxmaj miyazaki is like',\n",
       " \"meticulous plan of leaving clues scattered throughout xxup u.s. xxunk art work , is something that director xxmaj jon xxmaj xxunk never quite gets around to explaining . xxmaj could n't xxmaj washington found better usage for such wealth during the start up of the country ? xxmaj hence , we are left with a mystery built on top of an enigma that is already on shaky ground by the\",\n",
       " 'long as the right one is . xxmaj let us take a walk through this film to see what messages are given : \\n\\n xxmaj if you are lost , do n\\'t worry , you will inevitably find your way home . \\n\\n xxmaj approach wild animals without any fear . \\n\\n xxmaj you can win any competition just because you \" know \" you can . \\n\\n and my',\n",
       " \"... it is simply pointless junk . i 'm heavily leaning toward the latter but i guess some out there have developed a connection to this movie . \\n\\n xxmaj hmm ... plot . a plot . xxmaj let 's see ... there must be a plot around here somewhere . xxmaj nope , i ca n't find it . xxmaj it 's pretty much about some high school xxunk\",\n",
       " \"xxunk photography , unusual colors , or interesting angles . xxmaj also the film is funny is several parts . i also liked how the evil guy was portrayed too . i 'd give the film an 8 out of 10 . xxbos xxmaj of life in ( some ) colleges . xxmaj of course there were artistic xxunk taken , but some of what you saw in this film\",\n",
       " \"xxup tv film ' xxmaj ju - on ' and was inspired to remake the movie in xxmaj english . xxmaj this began a virtual xxunk of bad decisions which xxunk the globe until it washed ashore in xxmaj orlando on xxmaj october xxunk , 2004 . \\n\\n xxmaj the premise , and i use the word loosely , involves a house in xxmaj tokyo haunted by a xxunk xxmaj\",\n",
       " \"movie . \\n\\n xxmaj of course , i was n't at the right age to appreciate xxmaj xxunk xxmaj lee ! :-) xxbos a brutally depressing script and some fine low - key performances by xxmaj peter xxmaj strauss and xxmaj pamela xxmaj reed and some good location shooting in xxmaj xxunk power this fine xxup tv movie about hard times in the xxunk . xxmaj as the xxunk close\",\n",
       " 'bolton very much in transition - there are a number of scenes of apparent xxunk but this serves to show the town being xxunk - and the idea that the old must make way for the new is right at the heart of this film . a slightly miscast xxmaj james xxmaj mason leads an enjoyable ensemble in a story about a fuss over a xxunk that xxunk into a',\n",
       " 'something about a bitter old coot , xxmaj louis xxmaj xxunk ( xxmaj xxunk xxmaj xxunk ) , who goes searching in xxmaj xxunk for a heart xxunk , but beyond that , i have no idea who any of the people in the movie were or why they were doing what they were doing . xxmaj with no coherent storyline to boast of , the movie loses us early',\n",
       " \"it 's as if xxmaj blanks is attempting ( and mostly xxunk ) to transcend the typical teen slasher by mocking / xxunk the conventions of the genre while also xxunk xxunk . xxmaj that 's the attraction to the irony of basing a horror film on xxmaj valentine 's xxmaj day . xxmaj it 's an xxunk that is cleverly woven throughout the film , and that is itself\",\n",
       " 'to the actors , too . xxmaj tubbs is wearing a xxunk and some crazy characters , for example xxmaj edward , have xxunk black teeth . xxmaj the show has a great deal of dark humour , typical xxmaj british . xxmaj the set design reflects the mood of the series . xxmaj the village and all the houses look grey and are xxunk . xxmaj around the local',\n",
       " 'all the stories are just lies \" cliché . xxmaj this one , sadly , was no different , and like all scary movies , once you xxunk down that road there is no going back . \\n\\n xxmaj and the ending ? xxmaj how do the heroes do the same job over and over throughout the movie , but then mysteriously they get wrapped up in the moment and',\n",
       " 'then be subjected to this again . i honestly thought was going to be a xxup comedy like xxup airplane ! a spoof ! xxmaj was i wrong . xxmaj it \\'s that whole \" xxmaj it sucks , get it ! \" xxmaj or xxmaj samuel xxup a. xxmaj jackson yells \" xxmaj snakes on the xxmaj plane ! thing . xxmaj well i \\'m sorry , i do',\n",
       " \"the least well - known and very probably the best of them . xxmaj no other version of xxunk has ever attempted not only to present the story very much as xxmaj wells wrote it , but also to create the atmosphere of the time in which it was supposed to take place : the last year of the 19th xxmaj century , 1900 \\x85  using xxmaj wells ' original\",\n",
       " \"and , ironically , his most xxunk . \\n\\n xxmaj an artist 's failures or xxunk are often very revealing , xxunk the inner xxunk of their art . xxmaj when the story does n't work , the characters do n't connect or the images do n't xxunk , we find ourselves left with a kind of inner core . xxmaj this \\x96 the remaining xxunk is what the director\",\n",
       " \"xxmaj in all respects , a stupid film . xxmaj for people who 'd like to feel better about their environmental consciousness ... but not for any one who would like to think about the xxunk of the issues surrounding it . xxbos xxmaj recently , i had opportunity to view a working print in xxmaj kansas xxmaj city ( xxmaj xxunk , xxup xxunk . ) of this title\",\n",
       " \"lighting designer obviously forgot to show up . xxmaj it seems to be recorded on the xxunk of xxunk , and xxunk on even worse equipment . xxmaj make - up effect xxunk of black xxunk for the zombies and xxunk being xxunk over people 's heads in order to xxunk their skin melting . xxmaj this is nothing more than a home - movie , and a really bad\",\n",
       " ', \" the story taking place in a high - society xxmaj newport environment , in the days leading up to a wedding that is xxunk with trouble . \\n\\n xxmaj missed connections , wrong choices , and xxunk xxunk with social and family xxunk present quite a soap opera , but the quality of the writing , xxmaj koltai \\'s direction , and selfless acting raise \" xxmaj evening',\n",
       " 'xxmaj adam had moved away ( and never came back even once as a guest ) and xxmaj hoss had died and xxmaj little xxmaj joe had left after his wife ( in the series ) had been killed by xxunk . \\n\\n xxmaj overall , the era from 1959 - 1965 is the best of this series . xxmaj once xxmaj adam left , it slowly xxunk . xxmaj',\n",
       " 'of xxunk ( hence the name of the film ) . xxmaj sally xxmaj kirkland is also on hand as a crazy old coot who xxunk for the good xxmaj reverand in a shades of \" xxmaj misery \" type of way . xxmaj it \\'s sad to see a pretty good cast wasted like this . xxmaj not the least bit xxmaj john xxmaj savage in a xxunk forgettable',\n",
       " 'it . xxmaj at the same time , they learn things us parents did n\\'t know until way , way later . xxmaj the series covers everything to do with the human body from organs , all senses , blood , xxunk , xxunk , and much more in animated 20 - 25 xxunk episodes . xxmaj topics some people may find \" sensible \" , such as xxunk and',\n",
       " \"script comes from a first - time screenwriter who , thank xxmaj god , has n't sold anything since this , and it 's all thrown together by famously bad director xxmaj richard xxmaj xxunk . \\n\\n xxmaj the movie opens in a strip bar ( always a good sign ) , and a mean - looking biker guy xxunk in for no apparent reason , pursued by three cops\",\n",
       " '; everyone in the film is top notch , with special mention going to the two malevolent bad guys : xxmaj daniel xxmaj craig is the classic \" man you love to hate \" , the spoiled , xxunk son of xxmaj newman \\'s gangster father ; and an almost unrecognizable xxmaj jude xxmaj law as an especially slimy xxunk who goes on pursuit of xxmaj hanks and his son',\n",
       " 'of money from his company , and will be found out tomorrow . xxmaj his life is ruined . xxmaj joey realizes that the man is going to commit suicide , and she tries to make him believe that she is his friend , that she cares about him . xxmaj and she does care about him . \\n\\n xxmaj but the man packs a gun into his xxunk ,',\n",
       " \"if they are n't quite as memorable as those in ' xxmaj top xxmaj hat ( 1935 ) , ' ' xxmaj swing xxmaj time ( 1936 ) ' or ' xxmaj shall xxmaj we xxmaj dance ( xxunk ) . ' xxmaj astaire attempts to break free from his typical rich - man - about - town persona , without much success , but it 's hard to imagine\",\n",
       " 'preston xxmaj sturges , xxmaj jr. xxmaj the story was essentially based on xxmaj robert xxmaj louis xxmaj stevenson \\'s short story \" xxmaj the xxmaj bottle xxmaj xxunk \" . a good man comes into possession of an evil object that will grant him any wish but which will ultimately doom him to hell . xxmaj that \\'s fine . xxmaj nobody said screenwriters had to be original .',\n",
       " \"it has beautiful set designs , a nice erotic feel and a nice sex scene . xxmaj but ( again ) predictable and not even remotely scary . \\n\\n xxmaj it ends very stupidly . \\n\\n xxmaj all in all , the first one is worth watching , but that 's it . xxmaj tune in for that one then turn it off . xxbos xxmaj directed by the duo\",\n",
       " 'driving a xxunk into the heart of darkness . xxmaj or his fake mustache . xxmaj xxunk , someone actually thought that was funny . \\n\\n xxmaj without one jump under his starry belt , he plans for a xxunk xxunk - which would surely kill a lesser bad comedian , like xxmaj jason xxmaj xxunk or xxmaj rob xxmaj xxunk - to win the day and save his xxunk',\n",
       " \"just left it off at the soft - core gay clown porn in the beginning . xxmaj no , they run the xxunk of fart jokes , xxunk jokes , incest , racism , dressing up as xxup xxunk ... xxmaj this movie is flat out mean to anyone who 's ever played xxup xxunk \\n\\n xxmaj no wonder it looks like the xxmaj real xxup d&d would n't let\",\n",
       " 'flair . xxmaj just a bunch of amateurs singing xxup at each other ! \\n\\n xxmaj now , the first half hour was good , but i was irritated at how xxmaj eddie xxmaj murphy \\'s terrific xxunk performances were xxunk and interrupted by xxunk . xxmaj those were easily the best songs and best performances in the film . xxmaj and the \" rise to the top \" portion',\n",
       " 'xxmaj africa , the xxmaj south xxmaj african gestapo followed the film crew everywhere , so they got the bad xxunk and they pulled out and went to xxunk xxmaj zimbabwe instead . xxmaj despite everything , and the fact that the apartheid did n\\'t end \\' til seven years later , \" xxmaj cry xxmaj freedom \" was n\\'t xxunk in xxmaj south xxmaj africa . xxmaj but cinemas',\n",
       " 'movie was made in a bizarre made for xxup tv anthology horror piece called xxup house xxup of xxup the xxup dead ( or xxup the xxup alien xxup zone ) that is regarded as one of the finest movies ever made in xxmaj oklahoma , which is where i suspect this film was made as well . xxmaj the arid , cold looking rural midwestern landscapes are certainly the',\n",
       " 'to herself , is a supporter of the xxmaj revolution . \\n\\n xxmaj true to form , you do n\\'t know whose side of history xxmaj rohmer is going to come down on . xxmaj one of the xxunk of the xxmaj french \" xxmaj new xxmaj wave \" filmmakers , xxmaj rohmer has often been xxunk for being too conservative . xxmaj after all , in the midst of',\n",
       " \"an engaging and fascinating movie to watch . xxmaj an amazing aspect of this film is just how many of its stars , just starting out in their careers at the time 1944 ) , went on to became either major motion picture stars or at least well - known and fully - employed actors ( e.g. xxmaj judy xxmaj xxunk , xxmaj edmond o'brien , xxmaj xxunk xxmaj xxunk\",\n",
       " 'the prohibition xxunk . xxmaj yet , how can one not be impressed by the very real courage and xxunk displayed by these women as they go up against a system that continues to xxunk such a ridiculously xxunk and archaic xxunk ? xxmaj and , yet , the purpose of these women is not to xxunk behind a cause or to make a \" point . \" xxmaj they',\n",
       " 'conventional xxmaj hollywood features ... because there were no expensive sets , costumes , or high - xxunk movie stars . \\n\\n xxmaj the most successful makers of such films ( xxunk and xxunk ) were the team of xxmaj martin xxup e. xxmaj johnson and his wife xxmaj osa , who made several documentaries ( sometimes with blatantly staged events ) in xxmaj africa and xxmaj asia . xxmaj',\n",
       " \"'s xxmaj religulous is not an attack on organized religion . xxmaj it 's an attack on xxmaj christianity and xxmaj islam . xxmaj apart from xxunk a bunch of xxmaj xxunk inventing warped machines to get around xxmaj xxunk xxunk , he really does n't attack xxmaj xxunk and seems xxunk when a xxmaj xxunk actually challenges the existence of the xxmaj state of xxmaj israel . xxmaj if\",\n",
       " 'facts in this movie . xxmaj the supporting cast were the nicest people i have ever seen on the face of the xxmaj earth and their \" nice and perfect \" persona looked difficult to keep up . \\n\\n xxmaj this movie was a xxmaj hollywood version of yet another unfortunate true story that is still left to be told truthfully . xxmaj denzel \\'s acting is stale , and',\n",
       " \"life ` xxmaj mr. xxmaj xxunk skins ' . * xxmaj failure xxbos i grew up xxmaj baptist and i know the story this movie is trying to tell , although i no longer believe the story . i 'll give the movie kudos for being as good as the average xxmaj lifetime xxmaj movie of the xxmaj week . xxmaj mildly interesting , mediocre acting , a bit slow\",\n",
       " \"most of his time bashing xxmaj christians , xxunk inaccuracies , and interviewing fringe groups that he does n't allow to really answer his questions . \\n\\n xxmaj for the record , there are good questions to honestly ask of religious folks and many they should ask of themselves . xxmaj he touches on almost none of these . i get the feeling that i could 've xxunk much better\",\n",
       " \"xxmaj what they xxmaj do not xxmaj expect . xxmaj jack xxmaj frost is xxmaj very xxmaj cool . 10 out of 10 . xxmaj grade : xxup a+ . xxmaj ed xxmaj also xxmaj xxunk xxmaj the xxmaj movie xxmaj uncle xxmaj sam to xxmaj fans of xxmaj jack xxmaj frost . xxbos xxmaj an unusual film from xxmaj ringo xxmaj xxunk and one that 's strangely under -\",\n",
       " \", even on the xxmaj criterion re - release is poor and difficult to follow . xxmaj although i appreciate this film was made somewhat early in the history of documentary film , it 's ironic to compare it to xxmaj xxunk xxmaj rivera 's ( ! ) far superior series on the sexual abuse of mentally retarded patients at xxmaj xxunk xxmaj state xxmaj school in xxmaj xxunk xxmaj\",\n",
       " 'xxmaj frank xxmaj xxunk . xxbos i was gifted with this movie as it had such a great premise , the friendship of three women xxunk by one falling in love with a younger man . \\n\\n xxmaj intriguing . \\n\\n xxup not ! i hasten to add . xxmaj these women are all drawn in extreme caricature , not very supportive of one another and xxunk and xxunk to',\n",
       " 'xxmaj peter xxmaj jackson derived much of his inspiration from this prototype . xxbos a very cute movie with a great background provided by the city of xxmaj boston and xxmaj xxunk xxmaj park . xxmaj as a baseball fan and light movie addict , it hit a xxunk for me . xxmaj plenty of laughs and plenty of authentic baseball scenes with real xxunk and real references to past',\n",
       " \"cooper clear of females . xxmaj this misogyny alone does n't necessarily mean much , but there are so many clues throughout the film that indicate the makers of the film really were trying to portray them as a gay couple . xxmaj in particular , towards the end , when one of them is killed , the other is shot by an arrow and holds off dying long enough\",\n",
       " \"light is flickering the movement and the glimpses are very appealing . xxmaj apparently one of xxmaj weismuller 's friends from the xxmaj xxunk swim team did the nude scenes , and not xxmaj maureen xxunk . xxmaj she , however , moves through the movie wearing the same sort of xxunk xxmaj weismuller wears ( plus a bikini top ) , showing a splendid glimpse of xxunk and hip\"]"
      ]
     },
     "execution_count": 15,
     "metadata": {},
     "output_type": "execute_result"
    }
   ],
   "source": [
    "n = next(it2)\n",
    "[data.vocab.textify(x) for x in n[0]]"
   ]
  },
  {
   "cell_type": "code",
   "execution_count": null,
   "metadata": {},
   "outputs": [],
   "source": []
  },
  {
   "cell_type": "code",
   "execution_count": 70,
   "metadata": {},
   "outputs": [
    {
     "data": {
      "text/plain": [
       "torch.Size([4, 20])"
      ]
     },
     "execution_count": 70,
     "metadata": {},
     "output_type": "execute_result"
    }
   ],
   "source": [
    "n[0].shape"
   ]
  },
  {
   "cell_type": "code",
   "execution_count": null,
   "metadata": {},
   "outputs": [],
   "source": []
  }
 ],
 "metadata": {
  "kernelspec": {
   "display_name": "Python 3",
   "language": "python",
   "name": "python3"
  },
  "language_info": {
   "codemirror_mode": {
    "name": "ipython",
    "version": 3
   },
   "file_extension": ".py",
   "mimetype": "text/x-python",
   "name": "python",
   "nbconvert_exporter": "python",
   "pygments_lexer": "ipython3",
   "version": "3.7.1"
  }
 },
 "nbformat": 4,
 "nbformat_minor": 2
}

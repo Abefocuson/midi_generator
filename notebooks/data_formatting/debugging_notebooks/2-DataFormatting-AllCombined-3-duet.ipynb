{
 "cells": [
  {
   "cell_type": "markdown",
   "metadata": {},
   "source": [
    "# Tokenize and save data"
   ]
  },
  {
   "cell_type": "code",
   "execution_count": 1,
   "metadata": {},
   "outputs": [],
   "source": [
    "%reload_ext autoreload\n",
    "%autoreload 2\n",
    "%matplotlib inline"
   ]
  },
  {
   "cell_type": "code",
   "execution_count": 2,
   "metadata": {},
   "outputs": [],
   "source": [
    "import sys\n",
    "sys.path.insert(0, '../..')\n",
    "from src.encode_data import *\n",
    "from src.fastai_data import *"
   ]
  },
  {
   "cell_type": "code",
   "execution_count": 3,
   "metadata": {},
   "outputs": [],
   "source": [
    "import pandas as pd\n",
    "import numpy as np"
   ]
  },
  {
   "cell_type": "code",
   "execution_count": 4,
   "metadata": {},
   "outputs": [],
   "source": [
    "from fastai.text import *"
   ]
  },
  {
   "cell_type": "code",
   "execution_count": 5,
   "metadata": {},
   "outputs": [],
   "source": [
    "from fastai.text import data"
   ]
  },
  {
   "cell_type": "markdown",
   "metadata": {},
   "source": [
    "## Preparing the data"
   ]
  },
  {
   "cell_type": "code",
   "execution_count": 6,
   "metadata": {},
   "outputs": [],
   "source": [
    "version = 'v14'\n",
    "data_path = Path('data/midi')\n",
    "version_path = data_path/version"
   ]
  },
  {
   "cell_type": "code",
   "execution_count": 7,
   "metadata": {},
   "outputs": [
    {
     "data": {
      "text/plain": [
       "[PosixPath('data/midi/v14/metadata'),\n",
       " PosixPath('data/midi/v14/midi_sources'),\n",
       " PosixPath('data/midi/v14/midi_encode'),\n",
       " PosixPath('data/midi/v14/piano_duet')]"
      ]
     },
     "execution_count": 7,
     "metadata": {},
     "output_type": "execute_result"
    }
   ],
   "source": [
    "source_dir = 'piano_duet'\n",
    "out_path = version_path/source_dir\n",
    "csv_path = out_path/f'{source_dir}.csv'\n",
    "version_path.ls()"
   ]
  },
  {
   "cell_type": "code",
   "execution_count": 8,
   "metadata": {},
   "outputs": [
    {
     "name": "stderr",
     "output_type": "stream",
     "text": [
      "/home/ubuntu/anaconda3/envs/midi/lib/python3.7/site-packages/IPython/core/interactiveshell.py:3049: DtypeWarning: Columns (3,7,8,14,15,16) have mixed types. Specify dtype option on import or set low_memory=False.\n",
      "  interactivity=interactivity, compiler=compiler, result=result)\n"
     ]
    }
   ],
   "source": [
    "csv = pd.read_csv(csv_path)\n",
    "csv = csv.loc[csv['numpy'].notna()];"
   ]
  },
  {
   "cell_type": "code",
   "execution_count": 9,
   "metadata": {},
   "outputs": [],
   "source": [
    "def create_databunch(files, cache_name, batch_size=32, load_cached=False):\n",
    "    if load_cached and (out_path/f'{cache_name}/train_ids.npy').exists():\n",
    "        data = MusicDataBunch.load(out_path, bs=batch_size, cache_name=cache_name)\n",
    "    else:\n",
    "        ps = [OpenNPFileProcessor()]\n",
    "\n",
    "        data = (MusicItemList(items=files, path=out_path, processor=ps)\n",
    "                .split_by_rand_pct(0.01, seed=6)\n",
    "                .label_const(label_cls=LMLabelList))\n",
    "        data = data.databunch(bs=batch_size)\n",
    "        data.save(cache_name)\n",
    "    return data"
   ]
  },
  {
   "cell_type": "code",
   "execution_count": 10,
   "metadata": {},
   "outputs": [],
   "source": [
    "def get_files(csv):\n",
    "    files = csv['numpy']\n",
    "    flist = [Path(version_path/f) for f in files.values]\n",
    "    flist = [f for f in flist if f.exists()]\n",
    "    return flist"
   ]
  },
  {
   "cell_type": "code",
   "execution_count": 11,
   "metadata": {},
   "outputs": [
    {
     "data": {
      "text/plain": [
       "PosixPath('data/midi/v14')"
      ]
     },
     "execution_count": 11,
     "metadata": {},
     "output_type": "execute_result"
    }
   ],
   "source": [
    "version_path"
   ]
  },
  {
   "cell_type": "markdown",
   "metadata": {},
   "source": [
    "### Create All Dataset"
   ]
  },
  {
   "cell_type": "code",
   "execution_count": 12,
   "metadata": {},
   "outputs": [
    {
     "data": {
      "text/html": [
       "<div>\n",
       "<style scoped>\n",
       "    .dataframe tbody tr th:only-of-type {\n",
       "        vertical-align: middle;\n",
       "    }\n",
       "\n",
       "    .dataframe tbody tr th {\n",
       "        vertical-align: top;\n",
       "    }\n",
       "\n",
       "    .dataframe thead th {\n",
       "        text-align: right;\n",
       "    }\n",
       "</style>\n",
       "<table border=\"1\" class=\"dataframe\">\n",
       "  <thead>\n",
       "    <tr style=\"text-align: right;\">\n",
       "      <th></th>\n",
       "      <th>artist</th>\n",
       "      <th>ht_time_signature</th>\n",
       "      <th>ht_offset</th>\n",
       "      <th>song_url</th>\n",
       "      <th>midi</th>\n",
       "      <th>source</th>\n",
       "      <th>genres</th>\n",
       "      <th>section</th>\n",
       "      <th>midi_title</th>\n",
       "      <th>md5</th>\n",
       "      <th>ht_bpm</th>\n",
       "      <th>title</th>\n",
       "      <th>ht_mode</th>\n",
       "      <th>numpy</th>\n",
       "      <th>parts</th>\n",
       "      <th>ht_key</th>\n",
       "      <th>mxl</th>\n",
       "    </tr>\n",
       "  </thead>\n",
       "  <tbody>\n",
       "    <tr>\n",
       "      <th>0</th>\n",
       "      <td>wayne-sharpe</td>\n",
       "      <td>4.0</td>\n",
       "      <td>0.0</td>\n",
       "      <td>https://www.hooktheory.com/theorytab/view/wayn...</td>\n",
       "      <td>midi_sources/hooktheory/pianoroll/w/wayne-shar...</td>\n",
       "      <td>hooktheory</td>\n",
       "      <td>NaN</td>\n",
       "      <td>chorus</td>\n",
       "      <td>yu-gi-oh3</td>\n",
       "      <td>bf1f29e5ff84e3e93e37fb873bfb590e</td>\n",
       "      <td>128.0</td>\n",
       "      <td>yu-gi-oh-theme-song</td>\n",
       "      <td>1.0</td>\n",
       "      <td>piano_duet/hooktheory/pianoroll/w/wayne-sharpe...</td>\n",
       "      <td>intro,chorus</td>\n",
       "      <td>C</td>\n",
       "      <td>NaN</td>\n",
       "    </tr>\n",
       "    <tr>\n",
       "      <th>1</th>\n",
       "      <td>wayne-sharpe</td>\n",
       "      <td>3.0</td>\n",
       "      <td>0.0</td>\n",
       "      <td>https://www.hooktheory.com/theorytab/view/wayn...</td>\n",
       "      <td>midi_sources/hooktheory/pianoroll/w/wayne-shar...</td>\n",
       "      <td>hooktheory</td>\n",
       "      <td>NaN</td>\n",
       "      <td>intro</td>\n",
       "      <td>yu-gi-oh</td>\n",
       "      <td>055f80ad67f64edb14a85ca8fbfe8c29</td>\n",
       "      <td>85.0</td>\n",
       "      <td>yu-gi-oh-theme-song</td>\n",
       "      <td>1.0</td>\n",
       "      <td>piano_duet/hooktheory/pianoroll/w/wayne-sharpe...</td>\n",
       "      <td>intro,chorus</td>\n",
       "      <td>C</td>\n",
       "      <td>NaN</td>\n",
       "    </tr>\n",
       "    <tr>\n",
       "      <th>2</th>\n",
       "      <td>what-a-day</td>\n",
       "      <td>4.0</td>\n",
       "      <td>-5.0</td>\n",
       "      <td>https://www.hooktheory.com/theorytab/view/what...</td>\n",
       "      <td>midi_sources/hooktheory/pianoroll/w/what-a-day...</td>\n",
       "      <td>hooktheory</td>\n",
       "      <td>Jazz</td>\n",
       "      <td>chorus</td>\n",
       "      <td>kiefer</td>\n",
       "      <td>197f96f5d181f6ce1e2c5ab04ac1ff87</td>\n",
       "      <td>96.0</td>\n",
       "      <td>kiefer</td>\n",
       "      <td>6.0</td>\n",
       "      <td>piano_duet/hooktheory/pianoroll/w/what-a-day/k...</td>\n",
       "      <td>chorus</td>\n",
       "      <td>D</td>\n",
       "      <td>NaN</td>\n",
       "    </tr>\n",
       "    <tr>\n",
       "      <th>3</th>\n",
       "      <td>whiteflame</td>\n",
       "      <td>4.0</td>\n",
       "      <td>-5.0</td>\n",
       "      <td>https://www.hooktheory.com/theorytab/view/whit...</td>\n",
       "      <td>midi_sources/hooktheory/pianoroll/w/whiteflame...</td>\n",
       "      <td>hooktheory</td>\n",
       "      <td>J-Pop,Pop</td>\n",
       "      <td>pre-chorus</td>\n",
       "      <td>senbonzakura - pre-Pre-Chorus</td>\n",
       "      <td>9e7ce13a35f1314423a9a6d5a5287a4a</td>\n",
       "      <td>152.0</td>\n",
       "      <td>senbonzakura</td>\n",
       "      <td>6.0</td>\n",
       "      <td>piano_duet/hooktheory/pianoroll/w/whiteflame/s...</td>\n",
       "      <td>verse,pre-chorus,chorus</td>\n",
       "      <td>D</td>\n",
       "      <td>NaN</td>\n",
       "    </tr>\n",
       "    <tr>\n",
       "      <th>4</th>\n",
       "      <td>whiteflame</td>\n",
       "      <td>4.0</td>\n",
       "      <td>-5.0</td>\n",
       "      <td>https://www.hooktheory.com/theorytab/view/whit...</td>\n",
       "      <td>midi_sources/hooktheory/pianoroll/w/whiteflame...</td>\n",
       "      <td>hooktheory</td>\n",
       "      <td>J-Pop,Pop</td>\n",
       "      <td>verse</td>\n",
       "      <td>Senbonzakura</td>\n",
       "      <td>d5aaf79d0989222f1362f9f46c540a27</td>\n",
       "      <td>152.0</td>\n",
       "      <td>senbonzakura</td>\n",
       "      <td>6.0</td>\n",
       "      <td>piano_duet/hooktheory/pianoroll/w/whiteflame/s...</td>\n",
       "      <td>verse,pre-chorus,chorus</td>\n",
       "      <td>D</td>\n",
       "      <td>NaN</td>\n",
       "    </tr>\n",
       "  </tbody>\n",
       "</table>\n",
       "</div>"
      ],
      "text/plain": [
       "         artist  ht_time_signature  ht_offset  \\\n",
       "0  wayne-sharpe                4.0        0.0   \n",
       "1  wayne-sharpe                3.0        0.0   \n",
       "2    what-a-day                4.0       -5.0   \n",
       "3    whiteflame                4.0       -5.0   \n",
       "4    whiteflame                4.0       -5.0   \n",
       "\n",
       "                                            song_url  \\\n",
       "0  https://www.hooktheory.com/theorytab/view/wayn...   \n",
       "1  https://www.hooktheory.com/theorytab/view/wayn...   \n",
       "2  https://www.hooktheory.com/theorytab/view/what...   \n",
       "3  https://www.hooktheory.com/theorytab/view/whit...   \n",
       "4  https://www.hooktheory.com/theorytab/view/whit...   \n",
       "\n",
       "                                                midi      source     genres  \\\n",
       "0  midi_sources/hooktheory/pianoroll/w/wayne-shar...  hooktheory        NaN   \n",
       "1  midi_sources/hooktheory/pianoroll/w/wayne-shar...  hooktheory        NaN   \n",
       "2  midi_sources/hooktheory/pianoroll/w/what-a-day...  hooktheory       Jazz   \n",
       "3  midi_sources/hooktheory/pianoroll/w/whiteflame...  hooktheory  J-Pop,Pop   \n",
       "4  midi_sources/hooktheory/pianoroll/w/whiteflame...  hooktheory  J-Pop,Pop   \n",
       "\n",
       "      section                     midi_title  \\\n",
       "0      chorus                      yu-gi-oh3   \n",
       "1       intro                       yu-gi-oh   \n",
       "2      chorus                         kiefer   \n",
       "3  pre-chorus  senbonzakura - pre-Pre-Chorus   \n",
       "4       verse                   Senbonzakura   \n",
       "\n",
       "                                md5  ht_bpm                title  ht_mode  \\\n",
       "0  bf1f29e5ff84e3e93e37fb873bfb590e   128.0  yu-gi-oh-theme-song      1.0   \n",
       "1  055f80ad67f64edb14a85ca8fbfe8c29    85.0  yu-gi-oh-theme-song      1.0   \n",
       "2  197f96f5d181f6ce1e2c5ab04ac1ff87    96.0               kiefer      6.0   \n",
       "3  9e7ce13a35f1314423a9a6d5a5287a4a   152.0         senbonzakura      6.0   \n",
       "4  d5aaf79d0989222f1362f9f46c540a27   152.0         senbonzakura      6.0   \n",
       "\n",
       "                                               numpy                    parts  \\\n",
       "0  piano_duet/hooktheory/pianoroll/w/wayne-sharpe...             intro,chorus   \n",
       "1  piano_duet/hooktheory/pianoroll/w/wayne-sharpe...             intro,chorus   \n",
       "2  piano_duet/hooktheory/pianoroll/w/what-a-day/k...                   chorus   \n",
       "3  piano_duet/hooktheory/pianoroll/w/whiteflame/s...  verse,pre-chorus,chorus   \n",
       "4  piano_duet/hooktheory/pianoroll/w/whiteflame/s...  verse,pre-chorus,chorus   \n",
       "\n",
       "  ht_key  mxl  \n",
       "0      C  NaN  \n",
       "1      C  NaN  \n",
       "2      D  NaN  \n",
       "3      D  NaN  \n",
       "4      D  NaN  "
      ]
     },
     "execution_count": 12,
     "metadata": {},
     "output_type": "execute_result"
    }
   ],
   "source": [
    "csv.head()"
   ]
  },
  {
   "cell_type": "code",
   "execution_count": 13,
   "metadata": {},
   "outputs": [
    {
     "data": {
      "text/plain": [
       "(112614, 17)"
      ]
     },
     "execution_count": 13,
     "metadata": {},
     "output_type": "execute_result"
    }
   ],
   "source": [
    "csv.shape"
   ]
  },
  {
   "cell_type": "code",
   "execution_count": 14,
   "metadata": {},
   "outputs": [],
   "source": [
    "all_files = get_files(csv)"
   ]
  },
  {
   "cell_type": "code",
   "execution_count": null,
   "metadata": {},
   "outputs": [],
   "source": [
    "all_data = create_databunch(all_files, cache_name='tmp/all', load_cached=True)"
   ]
  },
  {
   "cell_type": "markdown",
   "metadata": {},
   "source": [
    "### Create sample"
   ]
  },
  {
   "cell_type": "code",
   "execution_count": 15,
   "metadata": {},
   "outputs": [
    {
     "name": "stdout",
     "output_type": "stream",
     "text": [
      "DLTFMS: None\n"
     ]
    }
   ],
   "source": [
    "import random\n",
    "sample_data = create_databunch(random.sample(all_files, 1000), cache_name='tmp/sample')"
   ]
  },
  {
   "cell_type": "markdown",
   "metadata": {},
   "source": [
    "Note: we are reusing all_vocab for the following datasets"
   ]
  },
  {
   "cell_type": "markdown",
   "metadata": {},
   "source": [
    "### Save vocab sizes"
   ]
  },
  {
   "cell_type": "code",
   "execution_count": 16,
   "metadata": {},
   "outputs": [
    {
     "data": {
      "text/plain": [
       "[117, 146]"
      ]
     },
     "execution_count": 16,
     "metadata": {},
     "output_type": "execute_result"
    }
   ],
   "source": [
    "VOCAB_SZ = create_vocab_sizes(out_path/'tmp/all'); VOCAB_SZ"
   ]
  },
  {
   "cell_type": "markdown",
   "metadata": {},
   "source": [
    "### Create Hooktheory C Dataset"
   ]
  },
  {
   "cell_type": "code",
   "execution_count": 17,
   "metadata": {},
   "outputs": [
    {
     "data": {
      "text/plain": [
       "19982"
      ]
     },
     "execution_count": 17,
     "metadata": {},
     "output_type": "execute_result"
    }
   ],
   "source": [
    "hook_csv = csv.loc[csv.source.isin(['hooktheory_c'])]\n",
    "hook_files = get_files(hook_csv); len(hook_files)"
   ]
  },
  {
   "cell_type": "code",
   "execution_count": 18,
   "metadata": {},
   "outputs": [],
   "source": [
    "hook_data = create_databunch(hook_files, cache_name='tmp/hook_c')"
   ]
  },
  {
   "cell_type": "markdown",
   "metadata": {},
   "source": [
    "### Create Classical Dataset"
   ]
  },
  {
   "cell_type": "code",
   "execution_count": 19,
   "metadata": {},
   "outputs": [],
   "source": [
    "from collections import Counter"
   ]
  },
  {
   "cell_type": "code",
   "execution_count": 20,
   "metadata": {},
   "outputs": [
    {
     "data": {
      "text/plain": [
       "Counter({'hooktheory': 19820,\n",
       "         'freemidi': 1859,\n",
       "         'midiworld': 1752,\n",
       "         'ecomp': 2519,\n",
       "         'cprato': 218,\n",
       "         'classical_piano': 326,\n",
       "         'classical_archives': 4788,\n",
       "         'musescore': 9189,\n",
       "         'wikifonia': 3912,\n",
       "         'lmd': 4946,\n",
       "         'reddit': 43303,\n",
       "         'hooktheory_c': 19982})"
      ]
     },
     "execution_count": 20,
     "metadata": {},
     "output_type": "execute_result"
    }
   ],
   "source": [
    "Counter(csv.source)"
   ]
  },
  {
   "cell_type": "code",
   "execution_count": 21,
   "metadata": {},
   "outputs": [
    {
     "data": {
      "text/plain": [
       "20734"
      ]
     },
     "execution_count": 21,
     "metadata": {},
     "output_type": "execute_result"
    }
   ],
   "source": [
    "clc_csv = csv.loc[csv.source.isin(['classical_piano', 'ecomp', 'musescore', 'wikifonia', 'classical_archives'])]\n",
    "clc_files = get_files(clc_csv); len(clc_files)"
   ]
  },
  {
   "cell_type": "code",
   "execution_count": 22,
   "metadata": {},
   "outputs": [],
   "source": [
    "clc_data = create_databunch(clc_files, cache_name='tmp/clc')"
   ]
  },
  {
   "cell_type": "code",
   "execution_count": 23,
   "metadata": {},
   "outputs": [
    {
     "data": {
      "text/plain": [
       "20734"
      ]
     },
     "execution_count": 23,
     "metadata": {},
     "output_type": "execute_result"
    }
   ],
   "source": [
    "len(clc_files)"
   ]
  },
  {
   "cell_type": "markdown",
   "metadata": {},
   "source": [
    "## Low quality"
   ]
  },
  {
   "cell_type": "code",
   "execution_count": 24,
   "metadata": {},
   "outputs": [
    {
     "data": {
      "text/plain": [
       "63623"
      ]
     },
     "execution_count": 24,
     "metadata": {},
     "output_type": "execute_result"
    }
   ],
   "source": [
    "lq_csv = csv.loc[csv.source.isin(['reddit', 'classical_archives', 'classical_piano', 'ecomp', 'midiworld', 'freemidi', 'lmd', 'cprato', 'wikifonia'])]\n",
    "lq_files = get_files(lq_csv); len(lq_files)"
   ]
  },
  {
   "cell_type": "code",
   "execution_count": 25,
   "metadata": {},
   "outputs": [],
   "source": [
    "lq_data = create_databunch(lq_files, cache_name='tmp/lq')"
   ]
  },
  {
   "cell_type": "markdown",
   "metadata": {},
   "source": [
    "## All High quality"
   ]
  },
  {
   "cell_type": "code",
   "execution_count": 26,
   "metadata": {},
   "outputs": [
    {
     "data": {
      "text/plain": [
       "29009"
      ]
     },
     "execution_count": 26,
     "metadata": {},
     "output_type": "execute_result"
    }
   ],
   "source": [
    "hq_csv = csv.loc[csv.source.isin(['hooktheory', 'musescore'])]\n",
    "hq_files = get_files(hq_csv); len(hq_files)"
   ]
  },
  {
   "cell_type": "code",
   "execution_count": 27,
   "metadata": {},
   "outputs": [],
   "source": [
    "hq_data = create_databunch(hq_files, cache_name='tmp/hq')"
   ]
  },
  {
   "cell_type": "markdown",
   "metadata": {},
   "source": [
    "### Testing"
   ]
  },
  {
   "cell_type": "code",
   "execution_count": 28,
   "metadata": {},
   "outputs": [],
   "source": [
    "data = all_data"
   ]
  },
  {
   "cell_type": "code",
   "execution_count": 29,
   "metadata": {},
   "outputs": [
    {
     "data": {
      "text/plain": [
       "LMNPItemList (90944 items)\n",
       "[[  2 135]\n",
       " [  1   5]\n",
       " [ 58   4]\n",
       " [  1   4]\n",
       " ...\n",
       " [  1  11]\n",
       " [ 61  19]\n",
       " [ 57  19]\n",
       " [ 54  19]],[[  2 135]\n",
       " [  1   4]\n",
       " [ 68   4]\n",
       " [  1   4]\n",
       " ...\n",
       " [  1   4]\n",
       " [ 70   7]\n",
       " [  1   7]\n",
       " [ 70  15]],[[  2 135]\n",
       " [  1   4]\n",
       " [ 75   4]\n",
       " [ 68   9]\n",
       " ...\n",
       " [  1   4]\n",
       " [ 65   5]\n",
       " [  1   5]\n",
       " [ 67   5]],[[  2 135]\n",
       " [  1   4]\n",
       " [ 68   7]\n",
       " [ 56  19]\n",
       " ...\n",
       " [  1  15]\n",
       " [ 65   5]\n",
       " [  1   5]\n",
       " [ 68   5]],[[  2 135]\n",
       " [  1   4]\n",
       " [ 65   7]\n",
       " [ 60  19]\n",
       " ...\n",
       " [ 55  11]\n",
       " [ 51  11]\n",
       " [  1   7]\n",
       " [ 65   7]]\n",
       "Path: data/midi/v13/piano_duet"
      ]
     },
     "execution_count": 29,
     "metadata": {},
     "output_type": "execute_result"
    }
   ],
   "source": [
    "data.train_ds.x"
   ]
  },
  {
   "cell_type": "code",
   "execution_count": null,
   "metadata": {},
   "outputs": [],
   "source": []
  },
  {
   "cell_type": "code",
   "execution_count": null,
   "metadata": {},
   "outputs": [],
   "source": [
    "# train_ids_file = out_path/'tmp/all/train_ids.npy'\n",
    "# all_ids = np.load(train_ids_file)\n",
    "# id_cat = np.concatenate(all_ids); id_cat.shape\n",
    "# ax = tuple(range(len(id_cat.shape)-1))\n",
    "# max_vocab = id_cat.max(axis=ax)\n",
    "# max_vocab = (max_vocab+1).tolist(); max_vocab"
   ]
  },
  {
   "cell_type": "code",
   "execution_count": 18,
   "metadata": {},
   "outputs": [
    {
     "data": {
      "image/png": "[encoded data removed]",
      "text/plain": [
       "<IPython.core.display.Image object>"
      ]
     },
     "metadata": {
      "image/png": {
       "height": 179,
       "width": 751
      }
     },
     "output_type": "display_data"
    }
   ],
   "source": [
    "npenc2stream(data.train_ds.x[10]).show()"
   ]
  }
 ],
 "metadata": {
  "kernelspec": {
   "display_name": "Python 3",
   "language": "python",
   "name": "python3"
  },
  "language_info": {
   "codemirror_mode": {
    "name": "ipython",
    "version": 3
   },
   "file_extension": ".py",
   "mimetype": "text/x-python",
   "name": "python",
   "nbconvert_exporter": "python",
   "pygments_lexer": "ipython3",
   "version": "3.7.1"
  }
 },
 "nbformat": 4,
 "nbformat_minor": 2
}

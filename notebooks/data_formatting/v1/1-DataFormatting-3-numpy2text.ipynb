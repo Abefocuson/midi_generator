{
 "cells": [
  {
   "cell_type": "code",
   "execution_count": 1,
   "metadata": {},
   "outputs": [],
   "source": [
    "%reload_ext autoreload\n",
    "%autoreload 2\n",
    "%matplotlib inline"
   ]
  },
  {
   "cell_type": "code",
   "execution_count": 2,
   "metadata": {},
   "outputs": [],
   "source": [
    "from encode_data import *\n",
    "from midi_data import *"
   ]
  },
  {
   "cell_type": "code",
   "execution_count": 3,
   "metadata": {},
   "outputs": [],
   "source": [
    "from tqdm import tqdm\n",
    "import pandas as pd\n",
    "from data_sources import process_parallel, transform_csv_row"
   ]
  },
  {
   "cell_type": "code",
   "execution_count": 4,
   "metadata": {},
   "outputs": [],
   "source": [
    "from collections import Counter"
   ]
  },
  {
   "cell_type": "markdown",
   "metadata": {},
   "source": [
    "## Encode music21 stream to text representation \n",
    "\n",
    "This notebook uses a full component format \n",
    "- measure separators, instruments, and separated octaves\n",
    "- Format: note, octave, action type, instrument\n",
    "- note repr: nG# o4 t1 i0"
   ]
  },
  {
   "cell_type": "markdown",
   "metadata": {},
   "source": [
    "### Load midi data"
   ]
  },
  {
   "cell_type": "code",
   "execution_count": 5,
   "metadata": {},
   "outputs": [],
   "source": [
    "version = 'v7'\n",
    "data_path = Path('data/midi')\n",
    "version_path = data_path/version"
   ]
  },
  {
   "cell_type": "code",
   "execution_count": 6,
   "metadata": {},
   "outputs": [],
   "source": [
    "source_dir = 'midi_npz'\n",
    "\n",
    "out_dir = 'midi_encode/text/longdur'\n",
    "continuous = False\n",
    "short = False\n",
    "def note_enc(note):\n",
    "    if continuous: return note.continuous_repr(short=short)\n",
    "    return note.duration_repr(short=short)\n",
    "\n",
    "source_csv = version_path/source_dir/f'{source_dir}.csv'\n",
    "out_csv = version_path/out_dir/f'midi_encode.csv'"
   ]
  },
  {
   "cell_type": "code",
   "execution_count": 7,
   "metadata": {},
   "outputs": [
    {
     "name": "stderr",
     "output_type": "stream",
     "text": [
      "/home/ubuntu/anaconda3/envs/midi/lib/python3.7/site-packages/IPython/core/interactiveshell.py:3020: DtypeWarning: Columns (0,9,16,17,20) have mixed types. Specify dtype option on import or set low_memory=False.\n",
      "  interactivity=interactivity, compiler=compiler, result=result)\n"
     ]
    },
    {
     "data": {
      "text/html": [
       "<div>\n",
       "<style scoped>\n",
       "    .dataframe tbody tr th:only-of-type {\n",
       "        vertical-align: middle;\n",
       "    }\n",
       "\n",
       "    .dataframe tbody tr th {\n",
       "        vertical-align: top;\n",
       "    }\n",
       "\n",
       "    .dataframe thead th {\n",
       "        text-align: right;\n",
       "    }\n",
       "</style>\n",
       "<table border=\"1\" class=\"dataframe\">\n",
       "  <thead>\n",
       "    <tr style=\"text-align: right;\">\n",
       "      <th></th>\n",
       "      <th>song_url</th>\n",
       "      <th>instruments</th>\n",
       "      <th>ht_offset</th>\n",
       "      <th>time_signature</th>\n",
       "      <th>title</th>\n",
       "      <th>quarter_length</th>\n",
       "      <th>ht_mode</th>\n",
       "      <th>source</th>\n",
       "      <th>artist</th>\n",
       "      <th>ht_key</th>\n",
       "      <th>...</th>\n",
       "      <th>genres</th>\n",
       "      <th>section</th>\n",
       "      <th>parts</th>\n",
       "      <th>ht_time_signature</th>\n",
       "      <th>ht_bpm</th>\n",
       "      <th>midi_title</th>\n",
       "      <th>mxl</th>\n",
       "      <th>midi_transform</th>\n",
       "      <th>midi_npz</th>\n",
       "      <th>midi_npz_timesteps</th>\n",
       "    </tr>\n",
       "  </thead>\n",
       "  <tbody>\n",
       "    <tr>\n",
       "      <th>0</th>\n",
       "      <td>https://www.hooktheory.com/theorytab/view/wayn...</td>\n",
       "      <td>Piano</td>\n",
       "      <td>0.0</td>\n",
       "      <td>3/4</td>\n",
       "      <td>yu-gi-oh-theme-song</td>\n",
       "      <td>36.0</td>\n",
       "      <td>1.0</td>\n",
       "      <td>hooktheory</td>\n",
       "      <td>wayne-sharpe</td>\n",
       "      <td>C</td>\n",
       "      <td>...</td>\n",
       "      <td>NaN</td>\n",
       "      <td>intro</td>\n",
       "      <td>intro,chorus</td>\n",
       "      <td>3.0</td>\n",
       "      <td>85.0</td>\n",
       "      <td>yu-gi-oh</td>\n",
       "      <td>NaN</td>\n",
       "      <td>midi_transform/hooktheory/pianoroll/w/wayne-sh...</td>\n",
       "      <td>midi_npz/hooktheory/pianoroll/w/wayne-sharpe/y...</td>\n",
       "      <td>145.0</td>\n",
       "    </tr>\n",
       "    <tr>\n",
       "      <th>1</th>\n",
       "      <td>https://www.hooktheory.com/theorytab/view/wayn...</td>\n",
       "      <td>Piano,Piano</td>\n",
       "      <td>0.0</td>\n",
       "      <td>4/4</td>\n",
       "      <td>yu-gi-oh-theme-song</td>\n",
       "      <td>32.0</td>\n",
       "      <td>1.0</td>\n",
       "      <td>hooktheory</td>\n",
       "      <td>wayne-sharpe</td>\n",
       "      <td>C</td>\n",
       "      <td>...</td>\n",
       "      <td>NaN</td>\n",
       "      <td>chorus</td>\n",
       "      <td>intro,chorus</td>\n",
       "      <td>4.0</td>\n",
       "      <td>128.0</td>\n",
       "      <td>yu-gi-oh3</td>\n",
       "      <td>NaN</td>\n",
       "      <td>midi_transform/hooktheory/pianoroll/w/wayne-sh...</td>\n",
       "      <td>midi_npz/hooktheory/pianoroll/w/wayne-sharpe/y...</td>\n",
       "      <td>129.0</td>\n",
       "    </tr>\n",
       "    <tr>\n",
       "      <th>2</th>\n",
       "      <td>https://www.hooktheory.com/theorytab/view/what...</td>\n",
       "      <td>Piano,Piano</td>\n",
       "      <td>-5.0</td>\n",
       "      <td>4/4</td>\n",
       "      <td>kiefer</td>\n",
       "      <td>16.0</td>\n",
       "      <td>6.0</td>\n",
       "      <td>hooktheory</td>\n",
       "      <td>what-a-day</td>\n",
       "      <td>D</td>\n",
       "      <td>...</td>\n",
       "      <td>Jazz</td>\n",
       "      <td>chorus</td>\n",
       "      <td>chorus</td>\n",
       "      <td>4.0</td>\n",
       "      <td>96.0</td>\n",
       "      <td>kiefer</td>\n",
       "      <td>NaN</td>\n",
       "      <td>midi_transform/hooktheory/pianoroll/w/what-a-d...</td>\n",
       "      <td>midi_npz/hooktheory/pianoroll/w/what-a-day/kie...</td>\n",
       "      <td>65.0</td>\n",
       "    </tr>\n",
       "    <tr>\n",
       "      <th>3</th>\n",
       "      <td>https://www.hooktheory.com/theorytab/view/whit...</td>\n",
       "      <td>Piano,Piano</td>\n",
       "      <td>-5.0</td>\n",
       "      <td>4/4</td>\n",
       "      <td>senbonzakura</td>\n",
       "      <td>32.0</td>\n",
       "      <td>6.0</td>\n",
       "      <td>hooktheory</td>\n",
       "      <td>whiteflame</td>\n",
       "      <td>D</td>\n",
       "      <td>...</td>\n",
       "      <td>J-Pop,Pop</td>\n",
       "      <td>verse</td>\n",
       "      <td>verse,pre-chorus,chorus</td>\n",
       "      <td>4.0</td>\n",
       "      <td>152.0</td>\n",
       "      <td>Senbonzakura</td>\n",
       "      <td>NaN</td>\n",
       "      <td>midi_transform/hooktheory/pianoroll/w/whitefla...</td>\n",
       "      <td>midi_npz/hooktheory/pianoroll/w/whiteflame/sen...</td>\n",
       "      <td>129.0</td>\n",
       "    </tr>\n",
       "    <tr>\n",
       "      <th>4</th>\n",
       "      <td>https://www.hooktheory.com/theorytab/view/wham...</td>\n",
       "      <td>Piano,Piano</td>\n",
       "      <td>-1.0</td>\n",
       "      <td>4/4</td>\n",
       "      <td>last-christmas</td>\n",
       "      <td>32.0</td>\n",
       "      <td>1.0</td>\n",
       "      <td>hooktheory</td>\n",
       "      <td>wham</td>\n",
       "      <td>Db</td>\n",
       "      <td>...</td>\n",
       "      <td>Holiday</td>\n",
       "      <td>intro</td>\n",
       "      <td>intro,verse,chorus</td>\n",
       "      <td>4.0</td>\n",
       "      <td>108.0</td>\n",
       "      <td>Last Christmas Intro</td>\n",
       "      <td>NaN</td>\n",
       "      <td>midi_transform/hooktheory/pianoroll/w/wham/las...</td>\n",
       "      <td>midi_npz/hooktheory/pianoroll/w/wham/last-chri...</td>\n",
       "      <td>129.0</td>\n",
       "    </tr>\n",
       "  </tbody>\n",
       "</table>\n",
       "<p>5 rows × 25 columns</p>\n",
       "</div>"
      ],
      "text/plain": [
       "                                            song_url  instruments  ht_offset  \\\n",
       "0  https://www.hooktheory.com/theorytab/view/wayn...        Piano        0.0   \n",
       "1  https://www.hooktheory.com/theorytab/view/wayn...  Piano,Piano        0.0   \n",
       "2  https://www.hooktheory.com/theorytab/view/what...  Piano,Piano       -5.0   \n",
       "3  https://www.hooktheory.com/theorytab/view/whit...  Piano,Piano       -5.0   \n",
       "4  https://www.hooktheory.com/theorytab/view/wham...  Piano,Piano       -1.0   \n",
       "\n",
       "  time_signature                title quarter_length  ht_mode      source  \\\n",
       "0            3/4  yu-gi-oh-theme-song           36.0      1.0  hooktheory   \n",
       "1            4/4  yu-gi-oh-theme-song           32.0      1.0  hooktheory   \n",
       "2            4/4               kiefer           16.0      6.0  hooktheory   \n",
       "3            4/4         senbonzakura           32.0      6.0  hooktheory   \n",
       "4            4/4       last-christmas           32.0      1.0  hooktheory   \n",
       "\n",
       "         artist ht_key         ...             genres  section  \\\n",
       "0  wayne-sharpe      C         ...                NaN    intro   \n",
       "1  wayne-sharpe      C         ...                NaN   chorus   \n",
       "2    what-a-day      D         ...               Jazz   chorus   \n",
       "3    whiteflame      D         ...          J-Pop,Pop    verse   \n",
       "4          wham     Db         ...            Holiday    intro   \n",
       "\n",
       "                     parts ht_time_signature  ht_bpm            midi_title  \\\n",
       "0             intro,chorus               3.0    85.0              yu-gi-oh   \n",
       "1             intro,chorus               4.0   128.0             yu-gi-oh3   \n",
       "2                   chorus               4.0    96.0                kiefer   \n",
       "3  verse,pre-chorus,chorus               4.0   152.0          Senbonzakura   \n",
       "4       intro,verse,chorus               4.0   108.0  Last Christmas Intro   \n",
       "\n",
       "   mxl                                     midi_transform  \\\n",
       "0  NaN  midi_transform/hooktheory/pianoroll/w/wayne-sh...   \n",
       "1  NaN  midi_transform/hooktheory/pianoroll/w/wayne-sh...   \n",
       "2  NaN  midi_transform/hooktheory/pianoroll/w/what-a-d...   \n",
       "3  NaN  midi_transform/hooktheory/pianoroll/w/whitefla...   \n",
       "4  NaN  midi_transform/hooktheory/pianoroll/w/wham/las...   \n",
       "\n",
       "                                            midi_npz  midi_npz_timesteps  \n",
       "0  midi_npz/hooktheory/pianoroll/w/wayne-sharpe/y...               145.0  \n",
       "1  midi_npz/hooktheory/pianoroll/w/wayne-sharpe/y...               129.0  \n",
       "2  midi_npz/hooktheory/pianoroll/w/what-a-day/kie...                65.0  \n",
       "3  midi_npz/hooktheory/pianoroll/w/whiteflame/sen...               129.0  \n",
       "4  midi_npz/hooktheory/pianoroll/w/wham/last-chri...               129.0  \n",
       "\n",
       "[5 rows x 25 columns]"
      ]
     },
     "execution_count": 7,
     "metadata": {},
     "output_type": "execute_result"
    }
   ],
   "source": [
    "df = pd.read_csv(source_csv); df.head()"
   ]
  },
  {
   "cell_type": "code",
   "execution_count": 8,
   "metadata": {},
   "outputs": [
    {
     "data": {
      "text/plain": [
       "(38744, 25)"
      ]
     },
     "execution_count": 8,
     "metadata": {},
     "output_type": "execute_result"
    }
   ],
   "source": [
    "df_filtered = df.loc[df[source_dir].notna()]; df_filtered.shape"
   ]
  },
  {
   "cell_type": "code",
   "execution_count": 9,
   "metadata": {},
   "outputs": [
    {
     "data": {
      "text/plain": [
       "(37045, 25)"
      ]
     },
     "execution_count": 9,
     "metadata": {},
     "output_type": "execute_result"
    }
   ],
   "source": [
    "df_filter = (df_filtered.source != 'hooktheory') | (df_filtered.ht_time_signature == 4.0)\n",
    "df_filtered = df_filtered.loc[df_filter]; df_filtered.shape"
   ]
  },
  {
   "cell_type": "code",
   "execution_count": 10,
   "metadata": {},
   "outputs": [
    {
     "data": {
      "text/plain": [
       "(37035, 25)"
      ]
     },
     "execution_count": 10,
     "metadata": {},
     "output_type": "execute_result"
    }
   ],
   "source": [
    "df_filtered = df_filtered.loc[df_filtered[f'{source_dir}_timesteps'] < 2e4]; df_filtered.shape"
   ]
  },
  {
   "cell_type": "code",
   "execution_count": 11,
   "metadata": {},
   "outputs": [],
   "source": [
    "def transform_func(file, out_file, row):\n",
    "    chordarr = load_chordarr(file)\n",
    "    seq = chordarr2seq(chordarr)\n",
    "    string_repr = seq2str(seq, note_enc, continuous=continuous)\n",
    "    with open(out_file, 'w') as tf:\n",
    "        tf.write(string_repr)"
   ]
  },
  {
   "cell_type": "code",
   "execution_count": 12,
   "metadata": {},
   "outputs": [],
   "source": [
    "from functools import partial\n",
    "parallel_func = partial(transform_csv_row, \n",
    "        transform_func=transform_func,\n",
    "        base_path=version_path,\n",
    "        source_dir=source_dir,\n",
    "        out_dir=out_dir,\n",
    "        out_extension='.txt'\n",
    "       )"
   ]
  },
  {
   "cell_type": "code",
   "execution_count": 13,
   "metadata": {},
   "outputs": [],
   "source": [
    "for r in df_filtered.iterrows():\n",
    "    parallel_func(r)\n",
    "    break"
   ]
  },
  {
   "cell_type": "code",
   "execution_count": 14,
   "metadata": {
    "scrolled": true
   },
   "outputs": [
    {
     "data": {
      "text/html": [
       "\n",
       "    <div>\n",
       "        <style>\n",
       "            /* Turns off some styling */\n",
       "            progress {\n",
       "                /* gets rid of default border in Firefox and Opera. */\n",
       "                border: none;\n",
       "                /* Needs to be in here for Safari polyfill so background images work as expected. */\n",
       "                background-size: auto;\n",
       "            }\n",
       "            .progress-bar-interrupted, .progress-bar-interrupted::-webkit-progress-bar {\n",
       "                background: #F44336;\n",
       "            }\n",
       "        </style>\n",
       "      <progress value='37035' class='' max='37035', style='width:300px; height:20px; vertical-align: middle;'></progress>\n",
       "      100.00% [37035/37035 02:58<00:00]\n",
       "    </div>\n",
       "    "
      ],
      "text/plain": [
       "<IPython.core.display.HTML object>"
      ]
     },
     "metadata": {},
     "output_type": "display_data"
    }
   ],
   "source": [
    "encoded_files = process_parallel(parallel_func, df_filtered.iterrows(), total=df_filtered.shape[0])"
   ]
  },
  {
   "cell_type": "code",
   "execution_count": 15,
   "metadata": {},
   "outputs": [],
   "source": [
    "tdf = pd.DataFrame(data={out_dir: list(encoded_files.values())}, index=list(encoded_files.keys()))"
   ]
  },
  {
   "cell_type": "code",
   "execution_count": 16,
   "metadata": {},
   "outputs": [
    {
     "data": {
      "text/plain": [
       "((37035, 1), (39942, 25), (39942, 26))"
      ]
     },
     "execution_count": 16,
     "metadata": {},
     "output_type": "execute_result"
    }
   ],
   "source": [
    "merged_df = df.join(tdf, how='outer'); tdf.shape, df.shape, merged_df.shape"
   ]
  },
  {
   "cell_type": "code",
   "execution_count": 17,
   "metadata": {
    "scrolled": true
   },
   "outputs": [
    {
     "data": {
      "text/html": [
       "<div>\n",
       "<style scoped>\n",
       "    .dataframe tbody tr th:only-of-type {\n",
       "        vertical-align: middle;\n",
       "    }\n",
       "\n",
       "    .dataframe tbody tr th {\n",
       "        vertical-align: top;\n",
       "    }\n",
       "\n",
       "    .dataframe thead th {\n",
       "        text-align: right;\n",
       "    }\n",
       "</style>\n",
       "<table border=\"1\" class=\"dataframe\">\n",
       "  <thead>\n",
       "    <tr style=\"text-align: right;\">\n",
       "      <th></th>\n",
       "      <th>song_url</th>\n",
       "      <th>instruments</th>\n",
       "      <th>ht_offset</th>\n",
       "      <th>time_signature</th>\n",
       "      <th>title</th>\n",
       "      <th>quarter_length</th>\n",
       "      <th>ht_mode</th>\n",
       "      <th>source</th>\n",
       "      <th>artist</th>\n",
       "      <th>ht_key</th>\n",
       "      <th>...</th>\n",
       "      <th>section</th>\n",
       "      <th>parts</th>\n",
       "      <th>ht_time_signature</th>\n",
       "      <th>ht_bpm</th>\n",
       "      <th>midi_title</th>\n",
       "      <th>mxl</th>\n",
       "      <th>midi_transform</th>\n",
       "      <th>midi_npz</th>\n",
       "      <th>midi_npz_timesteps</th>\n",
       "      <th>midi_encode/text/longdur</th>\n",
       "    </tr>\n",
       "  </thead>\n",
       "  <tbody>\n",
       "    <tr>\n",
       "      <th>0</th>\n",
       "      <td>https://www.hooktheory.com/theorytab/view/wayn...</td>\n",
       "      <td>Piano</td>\n",
       "      <td>0.0</td>\n",
       "      <td>3/4</td>\n",
       "      <td>yu-gi-oh-theme-song</td>\n",
       "      <td>36.0</td>\n",
       "      <td>1.0</td>\n",
       "      <td>hooktheory</td>\n",
       "      <td>wayne-sharpe</td>\n",
       "      <td>C</td>\n",
       "      <td>...</td>\n",
       "      <td>intro</td>\n",
       "      <td>intro,chorus</td>\n",
       "      <td>3.0</td>\n",
       "      <td>85.0</td>\n",
       "      <td>yu-gi-oh</td>\n",
       "      <td>NaN</td>\n",
       "      <td>midi_transform/hooktheory/pianoroll/w/wayne-sh...</td>\n",
       "      <td>midi_npz/hooktheory/pianoroll/w/wayne-sharpe/y...</td>\n",
       "      <td>145.0</td>\n",
       "      <td>NaN</td>\n",
       "    </tr>\n",
       "    <tr>\n",
       "      <th>1</th>\n",
       "      <td>https://www.hooktheory.com/theorytab/view/wayn...</td>\n",
       "      <td>Piano,Piano</td>\n",
       "      <td>0.0</td>\n",
       "      <td>4/4</td>\n",
       "      <td>yu-gi-oh-theme-song</td>\n",
       "      <td>32.0</td>\n",
       "      <td>1.0</td>\n",
       "      <td>hooktheory</td>\n",
       "      <td>wayne-sharpe</td>\n",
       "      <td>C</td>\n",
       "      <td>...</td>\n",
       "      <td>chorus</td>\n",
       "      <td>intro,chorus</td>\n",
       "      <td>4.0</td>\n",
       "      <td>128.0</td>\n",
       "      <td>yu-gi-oh3</td>\n",
       "      <td>NaN</td>\n",
       "      <td>midi_transform/hooktheory/pianoroll/w/wayne-sh...</td>\n",
       "      <td>midi_npz/hooktheory/pianoroll/w/wayne-sharpe/y...</td>\n",
       "      <td>129.0</td>\n",
       "      <td>midi_encode/text/longdur/hooktheory/pianoroll/...</td>\n",
       "    </tr>\n",
       "    <tr>\n",
       "      <th>2</th>\n",
       "      <td>https://www.hooktheory.com/theorytab/view/what...</td>\n",
       "      <td>Piano,Piano</td>\n",
       "      <td>-5.0</td>\n",
       "      <td>4/4</td>\n",
       "      <td>kiefer</td>\n",
       "      <td>16.0</td>\n",
       "      <td>6.0</td>\n",
       "      <td>hooktheory</td>\n",
       "      <td>what-a-day</td>\n",
       "      <td>D</td>\n",
       "      <td>...</td>\n",
       "      <td>chorus</td>\n",
       "      <td>chorus</td>\n",
       "      <td>4.0</td>\n",
       "      <td>96.0</td>\n",
       "      <td>kiefer</td>\n",
       "      <td>NaN</td>\n",
       "      <td>midi_transform/hooktheory/pianoroll/w/what-a-d...</td>\n",
       "      <td>midi_npz/hooktheory/pianoroll/w/what-a-day/kie...</td>\n",
       "      <td>65.0</td>\n",
       "      <td>midi_encode/text/longdur/hooktheory/pianoroll/...</td>\n",
       "    </tr>\n",
       "    <tr>\n",
       "      <th>3</th>\n",
       "      <td>https://www.hooktheory.com/theorytab/view/whit...</td>\n",
       "      <td>Piano,Piano</td>\n",
       "      <td>-5.0</td>\n",
       "      <td>4/4</td>\n",
       "      <td>senbonzakura</td>\n",
       "      <td>32.0</td>\n",
       "      <td>6.0</td>\n",
       "      <td>hooktheory</td>\n",
       "      <td>whiteflame</td>\n",
       "      <td>D</td>\n",
       "      <td>...</td>\n",
       "      <td>verse</td>\n",
       "      <td>verse,pre-chorus,chorus</td>\n",
       "      <td>4.0</td>\n",
       "      <td>152.0</td>\n",
       "      <td>Senbonzakura</td>\n",
       "      <td>NaN</td>\n",
       "      <td>midi_transform/hooktheory/pianoroll/w/whitefla...</td>\n",
       "      <td>midi_npz/hooktheory/pianoroll/w/whiteflame/sen...</td>\n",
       "      <td>129.0</td>\n",
       "      <td>midi_encode/text/longdur/hooktheory/pianoroll/...</td>\n",
       "    </tr>\n",
       "    <tr>\n",
       "      <th>4</th>\n",
       "      <td>https://www.hooktheory.com/theorytab/view/wham...</td>\n",
       "      <td>Piano,Piano</td>\n",
       "      <td>-1.0</td>\n",
       "      <td>4/4</td>\n",
       "      <td>last-christmas</td>\n",
       "      <td>32.0</td>\n",
       "      <td>1.0</td>\n",
       "      <td>hooktheory</td>\n",
       "      <td>wham</td>\n",
       "      <td>Db</td>\n",
       "      <td>...</td>\n",
       "      <td>intro</td>\n",
       "      <td>intro,verse,chorus</td>\n",
       "      <td>4.0</td>\n",
       "      <td>108.0</td>\n",
       "      <td>Last Christmas Intro</td>\n",
       "      <td>NaN</td>\n",
       "      <td>midi_transform/hooktheory/pianoroll/w/wham/las...</td>\n",
       "      <td>midi_npz/hooktheory/pianoroll/w/wham/last-chri...</td>\n",
       "      <td>129.0</td>\n",
       "      <td>midi_encode/text/longdur/hooktheory/pianoroll/...</td>\n",
       "    </tr>\n",
       "  </tbody>\n",
       "</table>\n",
       "<p>5 rows × 26 columns</p>\n",
       "</div>"
      ],
      "text/plain": [
       "                                            song_url  instruments  ht_offset  \\\n",
       "0  https://www.hooktheory.com/theorytab/view/wayn...        Piano        0.0   \n",
       "1  https://www.hooktheory.com/theorytab/view/wayn...  Piano,Piano        0.0   \n",
       "2  https://www.hooktheory.com/theorytab/view/what...  Piano,Piano       -5.0   \n",
       "3  https://www.hooktheory.com/theorytab/view/whit...  Piano,Piano       -5.0   \n",
       "4  https://www.hooktheory.com/theorytab/view/wham...  Piano,Piano       -1.0   \n",
       "\n",
       "  time_signature                title quarter_length  ht_mode      source  \\\n",
       "0            3/4  yu-gi-oh-theme-song           36.0      1.0  hooktheory   \n",
       "1            4/4  yu-gi-oh-theme-song           32.0      1.0  hooktheory   \n",
       "2            4/4               kiefer           16.0      6.0  hooktheory   \n",
       "3            4/4         senbonzakura           32.0      6.0  hooktheory   \n",
       "4            4/4       last-christmas           32.0      1.0  hooktheory   \n",
       "\n",
       "         artist ht_key                        ...                          \\\n",
       "0  wayne-sharpe      C                        ...                           \n",
       "1  wayne-sharpe      C                        ...                           \n",
       "2    what-a-day      D                        ...                           \n",
       "3    whiteflame      D                        ...                           \n",
       "4          wham     Db                        ...                           \n",
       "\n",
       "   section                    parts ht_time_signature ht_bpm  \\\n",
       "0    intro             intro,chorus               3.0   85.0   \n",
       "1   chorus             intro,chorus               4.0  128.0   \n",
       "2   chorus                   chorus               4.0   96.0   \n",
       "3    verse  verse,pre-chorus,chorus               4.0  152.0   \n",
       "4    intro       intro,verse,chorus               4.0  108.0   \n",
       "\n",
       "             midi_title  mxl  \\\n",
       "0              yu-gi-oh  NaN   \n",
       "1             yu-gi-oh3  NaN   \n",
       "2                kiefer  NaN   \n",
       "3          Senbonzakura  NaN   \n",
       "4  Last Christmas Intro  NaN   \n",
       "\n",
       "                                      midi_transform  \\\n",
       "0  midi_transform/hooktheory/pianoroll/w/wayne-sh...   \n",
       "1  midi_transform/hooktheory/pianoroll/w/wayne-sh...   \n",
       "2  midi_transform/hooktheory/pianoroll/w/what-a-d...   \n",
       "3  midi_transform/hooktheory/pianoroll/w/whitefla...   \n",
       "4  midi_transform/hooktheory/pianoroll/w/wham/las...   \n",
       "\n",
       "                                            midi_npz  midi_npz_timesteps  \\\n",
       "0  midi_npz/hooktheory/pianoroll/w/wayne-sharpe/y...               145.0   \n",
       "1  midi_npz/hooktheory/pianoroll/w/wayne-sharpe/y...               129.0   \n",
       "2  midi_npz/hooktheory/pianoroll/w/what-a-day/kie...                65.0   \n",
       "3  midi_npz/hooktheory/pianoroll/w/whiteflame/sen...               129.0   \n",
       "4  midi_npz/hooktheory/pianoroll/w/wham/last-chri...               129.0   \n",
       "\n",
       "                            midi_encode/text/longdur  \n",
       "0                                                NaN  \n",
       "1  midi_encode/text/longdur/hooktheory/pianoroll/...  \n",
       "2  midi_encode/text/longdur/hooktheory/pianoroll/...  \n",
       "3  midi_encode/text/longdur/hooktheory/pianoroll/...  \n",
       "4  midi_encode/text/longdur/hooktheory/pianoroll/...  \n",
       "\n",
       "[5 rows x 26 columns]"
      ]
     },
     "execution_count": 17,
     "metadata": {},
     "output_type": "execute_result"
    }
   ],
   "source": [
    "merged_df.to_csv(out_csv, index=False); merged_df.head()"
   ]
  },
  {
   "cell_type": "code",
   "execution_count": null,
   "metadata": {},
   "outputs": [],
   "source": []
  }
 ],
 "metadata": {
  "kernelspec": {
   "display_name": "Python 3",
   "language": "python",
   "name": "python3"
  },
  "language_info": {
   "codemirror_mode": {
    "name": "ipython",
    "version": 3
   },
   "file_extension": ".py",
   "mimetype": "text/x-python",
   "name": "python",
   "nbconvert_exporter": "python",
   "pygments_lexer": "ipython3",
   "version": "3.7.1"
  }
 },
 "nbformat": 4,
 "nbformat_minor": 2
}

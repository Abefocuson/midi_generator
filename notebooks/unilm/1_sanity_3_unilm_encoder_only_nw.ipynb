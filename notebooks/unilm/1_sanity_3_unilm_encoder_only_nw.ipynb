{
 "cells": [
  {
   "cell_type": "markdown",
   "metadata": {},
   "source": [
    "# Attention Architecture"
   ]
  },
  {
   "cell_type": "code",
   "execution_count": 1,
   "metadata": {},
   "outputs": [],
   "source": [
    "%reload_ext autoreload\n",
    "%autoreload 2\n",
    "%matplotlib inline"
   ]
  },
  {
   "cell_type": "code",
   "execution_count": 2,
   "metadata": {},
   "outputs": [],
   "source": [
    "import music21"
   ]
  },
  {
   "cell_type": "code",
   "execution_count": 3,
   "metadata": {},
   "outputs": [],
   "source": [
    "# from fastai.text import *\n",
    "from enum import Enum\n",
    "import torch"
   ]
  },
  {
   "cell_type": "code",
   "execution_count": 4,
   "metadata": {},
   "outputs": [],
   "source": [
    "import numpy as np\n",
    "import torch.nn as nn"
   ]
  },
  {
   "cell_type": "code",
   "execution_count": 5,
   "metadata": {},
   "outputs": [],
   "source": [
    "np.set_printoptions(edgeitems=10, threshold=40, linewidth=200)"
   ]
  },
  {
   "cell_type": "code",
   "execution_count": 6,
   "metadata": {},
   "outputs": [],
   "source": [
    "import sys\n",
    "sys.path.insert(0, '../../')\n",
    "from src.fastai_data import *\n",
    "from src.encode_data import *\n",
    "from src.serve import *"
   ]
  },
  {
   "cell_type": "code",
   "execution_count": 7,
   "metadata": {},
   "outputs": [],
   "source": [
    "from src.music_transformer import *"
   ]
  },
  {
   "cell_type": "code",
   "execution_count": 8,
   "metadata": {},
   "outputs": [],
   "source": [
    "from src.unilm import *"
   ]
  },
  {
   "cell_type": "code",
   "execution_count": 9,
   "metadata": {},
   "outputs": [],
   "source": [
    "config = unilm_config(vocab)"
   ]
  },
  {
   "cell_type": "code",
   "execution_count": 10,
   "metadata": {},
   "outputs": [],
   "source": [
    "# config['bs'] = 2\n",
    "# config['bptt'] = 1024\n",
    "# config['n_layers'] = 4\n",
    "# config['n_heads'] = 4\n",
    "# config['dec_layers'] = 2"
   ]
  },
  {
   "cell_type": "code",
   "execution_count": 11,
   "metadata": {},
   "outputs": [],
   "source": [
    "config['n_layers'] = 8\n",
    "config['dec_layers'] = 0\n",
    "# config['n_layers'] = 0\n",
    "# config['dec_layers'] = 8\n",
    "config['mem_len'] = 512\n",
    "config['rand_bptt'] = False"
   ]
  },
  {
   "cell_type": "code",
   "execution_count": 12,
   "metadata": {},
   "outputs": [
    {
     "data": {
      "text/plain": [
       "{'ctx_len': 150,\n",
       " 'n_layers': 8,\n",
       " 'n_heads': 8,\n",
       " 'd_model': 512,\n",
       " 'd_head': 64,\n",
       " 'd_inner': 2048,\n",
       " 'resid_p': 0.1,\n",
       " 'attn_p': 0.1,\n",
       " 'ff_p': 0.1,\n",
       " 'embed_p': 0.1,\n",
       " 'output_p': 0.1,\n",
       " 'bias': False,\n",
       " 'scale': True,\n",
       " 'act': <Activation.GeLU: 3>,\n",
       " 'double_drop': True,\n",
       " 'tie_weights': True,\n",
       " 'out_bias': True,\n",
       " 'init': <function fastai.text.models.transformer.init_transformer(m)>,\n",
       " 'mem_len': 512,\n",
       " 'mask': True,\n",
       " 'pad_idx': 1,\n",
       " 'bos_idx': 0,\n",
       " 'sep_idx': 8,\n",
       " 'transpose_range': (0, 12),\n",
       " 'rand_transpose': True,\n",
       " 'rand_bptt': False,\n",
       " 'note_range': (9, 139),\n",
       " 'bs': 16,\n",
       " 'bptt': 256,\n",
       " 'vocab_size': 274,\n",
       " 'dec_layers': 0}"
      ]
     },
     "execution_count": 12,
     "metadata": {},
     "output_type": "execute_result"
    }
   ],
   "source": [
    "config"
   ]
  },
  {
   "cell_type": "code",
   "execution_count": 13,
   "metadata": {},
   "outputs": [],
   "source": [
    "base_path = Path('../../data/midi/v15/')"
   ]
  },
  {
   "cell_type": "code",
   "execution_count": 14,
   "metadata": {},
   "outputs": [],
   "source": [
    "cache_name = 'tmp/hook_c'"
   ]
  },
  {
   "cell_type": "markdown",
   "metadata": {},
   "source": [
    "### Positional encoding experiments"
   ]
  },
  {
   "cell_type": "code",
   "execution_count": 51,
   "metadata": {},
   "outputs": [],
   "source": [
    "\n",
    "class PositionalEncoding(nn.Module):\n",
    "    \"Encode the position with a sinusoid.\"\n",
    "    def __init__(self, d:int):\n",
    "        super().__init__()\n",
    "        self.register_buffer('freq', 1 / (10000 ** (torch.arange(0., d, 2.)/d)))\n",
    "    \n",
    "    def forward(self, pos:Tensor):\n",
    "        inp = torch.ger(pos, self.freq)\n",
    "        enc = torch.cat([inp.sin(), inp.cos()], dim=-1)\n",
    "        return enc"
   ]
  },
  {
   "cell_type": "code",
   "execution_count": 60,
   "metadata": {},
   "outputs": [],
   "source": [
    "pos = PositionalEncoding(8)"
   ]
  },
  {
   "cell_type": "code",
   "execution_count": 61,
   "metadata": {},
   "outputs": [
    {
     "data": {
      "text/plain": [
       "tensor([[ 0.0000e+00,  0.0000e+00,  0.0000e+00,  0.0000e+00,  1.0000e+00,\n",
       "          1.0000e+00,  1.0000e+00,  1.0000e+00],\n",
       "        [ 8.4147e-01,  9.9833e-02,  9.9998e-03,  1.0000e-03,  5.4030e-01,\n",
       "          9.9500e-01,  9.9995e-01,  1.0000e+00],\n",
       "        [ 9.0930e-01,  1.9867e-01,  1.9999e-02,  2.0000e-03, -4.1615e-01,\n",
       "          9.8007e-01,  9.9980e-01,  1.0000e+00],\n",
       "        [ 1.4112e-01,  2.9552e-01,  2.9995e-02,  3.0000e-03, -9.8999e-01,\n",
       "          9.5534e-01,  9.9955e-01,  1.0000e+00],\n",
       "        [-7.5680e-01,  3.8942e-01,  3.9989e-02,  4.0000e-03, -6.5364e-01,\n",
       "          9.2106e-01,  9.9920e-01,  9.9999e-01],\n",
       "        [-9.5892e-01,  4.7943e-01,  4.9979e-02,  5.0000e-03,  2.8366e-01,\n",
       "          8.7758e-01,  9.9875e-01,  9.9999e-01],\n",
       "        [-2.7942e-01,  5.6464e-01,  5.9964e-02,  6.0000e-03,  9.6017e-01,\n",
       "          8.2534e-01,  9.9820e-01,  9.9998e-01],\n",
       "        [ 6.5699e-01,  6.4422e-01,  6.9943e-02,  6.9999e-03,  7.5390e-01,\n",
       "          7.6484e-01,  9.9755e-01,  9.9998e-01],\n",
       "        [ 9.8936e-01,  7.1736e-01,  7.9915e-02,  7.9999e-03, -1.4550e-01,\n",
       "          6.9671e-01,  9.9680e-01,  9.9997e-01],\n",
       "        [ 4.1212e-01,  7.8333e-01,  8.9879e-02,  8.9999e-03, -9.1113e-01,\n",
       "          6.2161e-01,  9.9595e-01,  9.9996e-01]])"
      ]
     },
     "execution_count": 61,
     "metadata": {},
     "output_type": "execute_result"
    }
   ],
   "source": [
    "pos(torch.arange(0, 10, dtype=torch.float))"
   ]
  },
  {
   "cell_type": "code",
   "execution_count": 77,
   "metadata": {},
   "outputs": [
    {
     "data": {
      "text/plain": [
       "tensor([[ 5.0637e-01,  5.4402e-01, -8.4147e-01, -9.9833e-02,  8.6232e-01,\n",
       "         -8.3907e-01,  5.4030e-01,  9.9500e-01],\n",
       "        [ 9.9921e-01,  4.5754e-01, -8.3603e-01, -9.8838e-02,  3.9821e-02,\n",
       "         -8.8919e-01,  5.4869e-01,  9.9510e-01],\n",
       "        [ 5.7338e-01,  3.6648e-01, -8.3050e-01, -9.7843e-02, -8.1929e-01,\n",
       "         -9.3043e-01,  5.5702e-01,  9.9520e-01],\n",
       "        [-3.7961e-01,  2.7176e-01, -8.2489e-01, -9.6848e-02, -9.2515e-01,\n",
       "         -9.6236e-01,  5.6530e-01,  9.9530e-01],\n",
       "        [-9.8359e-01,  1.7433e-01, -8.1919e-01, -9.5853e-02, -1.8043e-01,\n",
       "         -9.8469e-01,  5.7352e-01,  9.9540e-01],\n",
       "        [-6.8326e-01,  7.5151e-02, -8.1342e-01, -9.4857e-02,  7.3017e-01,\n",
       "         -9.9717e-01,  5.8168e-01,  9.9549e-01],\n",
       "        [ 2.4525e-01, -2.4775e-02, -8.0756e-01, -9.3862e-02,  9.6946e-01,\n",
       "         -9.9969e-01,  5.8979e-01,  9.9559e-01],\n",
       "        [ 9.4828e-01, -1.2445e-01, -8.0162e-01, -9.2866e-02,  3.1743e-01,\n",
       "         -9.9223e-01,  5.9783e-01,  9.9568e-01],\n",
       "        [ 7.7947e-01, -2.2289e-01, -7.9560e-01, -9.1870e-02, -6.2644e-01,\n",
       "         -9.7484e-01,  6.0582e-01,  9.9577e-01],\n",
       "        [-1.0599e-01, -3.1910e-01, -7.8950e-01, -9.0874e-02, -9.9437e-01,\n",
       "         -9.4772e-01,  6.1375e-01,  9.9586e-01],\n",
       "        [-8.9400e-01, -4.1212e-01, -7.8333e-01, -8.9879e-02, -4.4807e-01,\n",
       "         -9.1113e-01,  6.2161e-01,  9.9595e-01],\n",
       "        [-8.6007e-01, -5.0102e-01, -7.7707e-01, -8.8883e-02,  5.1018e-01,\n",
       "         -8.6544e-01,  6.2941e-01,  9.9604e-01],\n",
       "        [-3.5398e-02, -5.8492e-01, -7.7074e-01, -8.7886e-02,  9.9937e-01,\n",
       "         -8.1109e-01,  6.3715e-01,  9.9613e-01],\n",
       "        [ 8.2182e-01, -6.6297e-01, -7.6433e-01, -8.6890e-02,  5.6975e-01,\n",
       "         -7.4865e-01,  6.4483e-01,  9.9622e-01],\n",
       "        [ 9.2346e-01, -7.3440e-01, -7.5784e-01, -8.5894e-02, -3.8370e-01,\n",
       "         -6.7872e-01,  6.5244e-01,  9.9630e-01],\n",
       "        [ 1.7608e-01, -7.9849e-01, -7.5128e-01, -8.4898e-02, -9.8438e-01,\n",
       "         -6.0201e-01,  6.5998e-01,  9.9639e-01],\n",
       "        [-7.3319e-01, -8.5460e-01, -7.4464e-01, -8.3901e-02, -6.8002e-01,\n",
       "         -5.1929e-01,  6.6746e-01,  9.9647e-01],\n",
       "        [-9.6836e-01, -9.0217e-01, -7.3793e-01, -8.2905e-02,  2.4954e-01,\n",
       "         -4.3138e-01,  6.7488e-01,  9.9656e-01],\n",
       "        [-3.1323e-01, -9.4073e-01, -7.3115e-01, -8.1908e-02,  9.4968e-01,\n",
       "         -3.3915e-01,  6.8222e-01,  9.9664e-01],\n",
       "        [ 6.2989e-01, -9.6989e-01, -7.2429e-01, -8.0911e-02,  7.7669e-01,\n",
       "         -2.4354e-01,  6.8950e-01,  9.9672e-01],\n",
       "        [ 9.9389e-01, -9.8936e-01, -7.1736e-01, -7.9915e-02, -1.1039e-01,\n",
       "         -1.4550e-01,  6.9671e-01,  9.9680e-01],\n",
       "        [ 4.4411e-01, -9.9894e-01, -7.1035e-01, -7.8918e-02, -8.9597e-01,\n",
       "         -4.6002e-02,  7.0385e-01,  9.9688e-01],\n",
       "        [-5.1398e-01, -9.9854e-01, -7.0328e-01, -7.7921e-02, -8.5780e-01,\n",
       "          5.3955e-02,  7.1091e-01,  9.9696e-01],\n",
       "        [-9.9952e-01, -9.8817e-01, -6.9614e-01, -7.6924e-02, -3.0975e-02,\n",
       "          1.5337e-01,  7.1791e-01,  9.9704e-01],\n",
       "        [-5.6611e-01, -9.6792e-01, -6.8892e-01, -7.5927e-02,  8.2433e-01,\n",
       "          2.5126e-01,  7.2484e-01,  9.9711e-01],\n",
       "        [ 3.8778e-01, -9.3800e-01, -6.8164e-01, -7.4930e-02,  9.2175e-01,\n",
       "          3.4664e-01,  7.3169e-01,  9.9719e-01],\n",
       "        [ 9.8515e-01, -8.9871e-01, -6.7429e-01, -7.3932e-02,  1.7172e-01,\n",
       "          4.3855e-01,  7.3847e-01,  9.9726e-01],\n",
       "        [ 6.7677e-01, -8.5044e-01, -6.6687e-01, -7.2935e-02, -7.3619e-01,\n",
       "          5.2608e-01,  7.4517e-01,  9.9734e-01],\n",
       "        [-2.5382e-01, -7.9367e-01, -6.5938e-01, -7.1938e-02, -9.6725e-01,\n",
       "          6.0835e-01,  7.5181e-01,  9.9741e-01],\n",
       "        [-9.5105e-01, -7.2897e-01, -6.5183e-01, -7.0940e-02, -3.0902e-01,\n",
       "          6.8455e-01,  7.5836e-01,  9.9748e-01],\n",
       "        [-7.7389e-01, -6.5699e-01, -6.4422e-01, -6.9943e-02,  6.3332e-01,\n",
       "          7.5390e-01,  7.6484e-01,  9.9755e-01],\n",
       "        [ 1.1478e-01, -5.7844e-01, -6.3654e-01, -6.8945e-02,  9.9339e-01,\n",
       "          8.1573e-01,  7.7125e-01,  9.9762e-01],\n",
       "        [ 8.9793e-01, -4.9411e-01, -6.2879e-01, -6.7948e-02,  4.4014e-01,\n",
       "          8.6940e-01,  7.7757e-01,  9.9769e-01],\n",
       "        [ 8.5552e-01, -4.0485e-01, -6.2099e-01, -6.6950e-02, -5.1777e-01,\n",
       "          9.1438e-01,  7.8382e-01,  9.9776e-01],\n",
       "        [ 2.6551e-02, -3.1154e-01, -6.1312e-01, -6.5952e-02, -9.9965e-01,\n",
       "          9.5023e-01,  7.8999e-01,  9.9782e-01],\n",
       "        [-8.2683e-01, -2.1512e-01, -6.0519e-01, -6.4954e-02, -5.6245e-01,\n",
       "          9.7659e-01,  7.9608e-01,  9.9789e-01],\n",
       "        [-9.2003e-01, -1.1655e-01, -5.9720e-01, -6.3956e-02,  3.9186e-01,\n",
       "          9.9318e-01,  8.0210e-01,  9.9795e-01],\n",
       "        [-1.6736e-01, -1.6814e-02, -5.8914e-01, -6.2958e-02,  9.8590e-01,\n",
       "          9.9986e-01,  8.0803e-01,  9.9802e-01],\n",
       "        [ 7.3918e-01,  8.3089e-02, -5.8104e-01, -6.1960e-02,  6.7351e-01,\n",
       "          9.9654e-01,  8.1388e-01,  9.9808e-01],\n",
       "        [ 9.6612e-01,  1.8216e-01, -5.7287e-01, -6.0962e-02, -2.5810e-01,\n",
       "          9.8327e-01,  8.1965e-01,  9.9814e-01],\n",
       "        [ 3.0481e-01,  2.7942e-01, -5.6464e-01, -5.9964e-02, -9.5241e-01,\n",
       "          9.6017e-01,  8.2534e-01,  9.9820e-01],\n",
       "        [-6.3674e-01,  3.7388e-01, -5.5636e-01, -5.8966e-02, -7.7108e-01,\n",
       "          9.2748e-01,  8.3094e-01,  9.9826e-01],\n",
       "        [-9.9287e-01,  4.6460e-01, -5.4802e-01, -5.7967e-02,  1.1918e-01,\n",
       "          8.8552e-01,  8.3646e-01,  9.9832e-01],\n",
       "        [-4.3616e-01,  5.5069e-01, -5.3963e-01, -5.6969e-02,  8.9987e-01,\n",
       "          8.3471e-01,  8.4190e-01,  9.9838e-01],\n",
       "        [ 5.2155e-01,  6.3127e-01, -5.3119e-01, -5.5971e-02,  8.5322e-01,\n",
       "          7.7557e-01,  8.4726e-01,  9.9843e-01],\n",
       "        [ 9.9976e-01,  7.0554e-01, -5.2269e-01, -5.4972e-02,  2.2127e-02,\n",
       "          7.0867e-01,  8.5252e-01,  9.9849e-01],\n",
       "        [ 5.5879e-01,  7.7276e-01, -5.1414e-01, -5.3974e-02, -8.2931e-01,\n",
       "          6.3469e-01,  8.5771e-01,  9.9854e-01],\n",
       "        [-3.9593e-01,  8.3227e-01, -5.0553e-01, -5.2975e-02, -9.1828e-01,\n",
       "          5.5437e-01,  8.6281e-01,  9.9860e-01],\n",
       "        [-9.8663e-01,  8.8345e-01, -4.9688e-01, -5.1977e-02, -1.6299e-01,\n",
       "          4.6852e-01,  8.6782e-01,  9.9865e-01],\n",
       "        [-6.7023e-01,  9.2581e-01, -4.8818e-01, -5.0978e-02,  7.4215e-01,\n",
       "          3.7798e-01,  8.7274e-01,  9.9870e-01],\n",
       "        [ 2.6237e-01,  9.5892e-01, -4.7943e-01, -4.9979e-02,  9.6497e-01,\n",
       "          2.8366e-01,  8.7758e-01,  9.9875e-01],\n",
       "        [ 9.5375e-01,  9.8245e-01, -4.7063e-01, -4.8980e-02,  3.0059e-01,\n",
       "          1.8651e-01,  8.8233e-01,  9.9880e-01],\n",
       "        [ 7.6825e-01,  9.9616e-01, -4.6178e-01, -4.7982e-02, -6.4014e-01,\n",
       "          8.7499e-02,  8.8699e-01,  9.9885e-01],\n",
       "        [-1.2357e-01,  9.9992e-01, -4.5289e-01, -4.6983e-02, -9.9234e-01,\n",
       "         -1.2388e-02,  8.9157e-01,  9.9890e-01],\n",
       "        [-9.0179e-01,  9.9369e-01, -4.4395e-01, -4.5984e-02, -4.3218e-01,\n",
       "         -1.1215e-01,  8.9605e-01,  9.9894e-01],\n",
       "        [-8.5090e-01,  9.7753e-01, -4.3497e-01, -4.4985e-02,  5.2532e-01,\n",
       "         -2.1080e-01,  9.0045e-01,  9.9899e-01],\n",
       "        [-1.7702e-02,  9.5160e-01, -4.2594e-01, -4.3986e-02,  9.9984e-01,\n",
       "         -3.0733e-01,  9.0475e-01,  9.9903e-01],\n",
       "        [ 8.3177e-01,  9.1617e-01, -4.1687e-01, -4.2987e-02,  5.5511e-01,\n",
       "         -4.0080e-01,  9.0897e-01,  9.9908e-01],\n",
       "        [ 9.1652e-01,  8.7158e-01, -4.0776e-01, -4.1988e-02, -3.9999e-01,\n",
       "         -4.9026e-01,  9.1309e-01,  9.9912e-01],\n",
       "        [ 1.5862e-01,  8.1828e-01, -3.9861e-01, -4.0989e-02, -9.8734e-01,\n",
       "         -5.7482e-01,  9.1712e-01,  9.9916e-01],\n",
       "        [-7.4511e-01,  7.5680e-01, -3.8942e-01, -3.9989e-02, -6.6694e-01,\n",
       "         -6.5364e-01,  9.2106e-01,  9.9920e-01],\n",
       "        [-9.6380e-01,  6.8777e-01, -3.8019e-01, -3.8990e-02,  2.6664e-01,\n",
       "         -7.2593e-01,  9.2491e-01,  9.9924e-01],\n",
       "        [-2.9637e-01,  6.1186e-01, -3.7092e-01, -3.7991e-02,  9.5507e-01,\n",
       "         -7.9097e-01,  9.2866e-01,  9.9928e-01],\n",
       "        [ 6.4354e-01,  5.2984e-01, -3.6162e-01, -3.6992e-02,  7.6541e-01,\n",
       "         -8.4810e-01,  9.3233e-01,  9.9932e-01],\n",
       "        [ 9.9178e-01,  4.4252e-01, -3.5227e-01, -3.5992e-02, -1.2796e-01,\n",
       "         -8.9676e-01,  9.3590e-01,  9.9935e-01],\n",
       "        [ 4.2818e-01,  3.5078e-01, -3.4290e-01, -3.4993e-02, -9.0369e-01,\n",
       "         -9.3646e-01,  9.3937e-01,  9.9939e-01],\n",
       "        [-5.2908e-01,  2.5554e-01, -3.3349e-01, -3.3993e-02, -8.4857e-01,\n",
       "         -9.6680e-01,  9.4275e-01,  9.9942e-01],\n",
       "        [-9.9991e-01,  1.5775e-01, -3.2404e-01, -3.2994e-02, -1.3277e-02,\n",
       "         -9.8748e-01,  9.4604e-01,  9.9946e-01],\n",
       "        [-5.5143e-01,  5.8374e-02, -3.1457e-01, -3.1995e-02,  8.3422e-01,\n",
       "         -9.9829e-01,  9.4924e-01,  9.9949e-01],\n",
       "        [ 4.0404e-01, -4.1581e-02, -3.0506e-01, -3.0995e-02,  9.1474e-01,\n",
       "         -9.9914e-01,  9.5233e-01,  9.9952e-01],\n",
       "        [ 9.8803e-01, -1.4112e-01, -2.9552e-01, -2.9996e-02,  1.5425e-01,\n",
       "         -9.8999e-01,  9.5534e-01,  9.9955e-01],\n",
       "        [ 6.6363e-01, -2.3925e-01, -2.8595e-01, -2.8996e-02, -7.4806e-01,\n",
       "         -9.7096e-01,  9.5824e-01,  9.9958e-01],\n",
       "        [-2.7091e-01, -3.3499e-01, -2.7636e-01, -2.7996e-02, -9.6261e-01,\n",
       "         -9.4222e-01,  9.6106e-01,  9.9961e-01],\n",
       "        [-9.5638e-01, -4.2738e-01, -2.6673e-01, -2.6997e-02, -2.9214e-01,\n",
       "         -9.0407e-01,  9.6377e-01,  9.9964e-01],\n",
       "        [-7.6256e-01, -5.1550e-01, -2.5708e-01, -2.5997e-02,  6.4692e-01,\n",
       "         -8.5689e-01,  9.6639e-01,  9.9966e-01],\n",
       "        [ 1.3235e-01, -5.9847e-01, -2.4740e-01, -2.4997e-02,  9.9120e-01,\n",
       "         -8.0114e-01,  9.6891e-01,  9.9969e-01],\n",
       "        [ 9.0558e-01, -6.7546e-01, -2.3770e-01, -2.3998e-02,  4.2418e-01,\n",
       "         -7.3739e-01,  9.7134e-01,  9.9971e-01],\n",
       "        [ 8.4622e-01, -7.4571e-01, -2.2798e-01, -2.2998e-02, -5.3283e-01,\n",
       "         -6.6628e-01,  9.7367e-01,  9.9974e-01],\n",
       "        [ 8.8513e-03, -8.0850e-01, -2.1823e-01, -2.1998e-02, -9.9996e-01,\n",
       "         -5.8850e-01,  9.7590e-01,  9.9976e-01],\n",
       "        [-8.3666e-01, -8.6321e-01, -2.0846e-01, -2.0998e-02, -5.4773e-01,\n",
       "         -5.0485e-01,  9.7803e-01,  9.9978e-01],\n",
       "        [-9.1295e-01, -9.0930e-01, -1.9867e-01, -1.9999e-02,  4.0808e-01,\n",
       "         -4.1615e-01,  9.8007e-01,  9.9980e-01],\n",
       "        [-1.4988e-01, -9.4630e-01, -1.8886e-01, -1.8999e-02,  9.8870e-01,\n",
       "         -3.2329e-01,  9.8200e-01,  9.9982e-01],\n",
       "        [ 7.5099e-01, -9.7385e-01, -1.7903e-01, -1.7999e-02,  6.6032e-01,\n",
       "         -2.2720e-01,  9.8384e-01,  9.9984e-01],\n",
       "        [ 9.6140e-01, -9.9166e-01, -1.6918e-01, -1.6999e-02, -2.7516e-01,\n",
       "         -1.2884e-01,  9.8558e-01,  9.9986e-01],\n",
       "        [ 2.8790e-01, -9.9957e-01, -1.5932e-01, -1.5999e-02, -9.5766e-01,\n",
       "         -2.9200e-02,  9.8723e-01,  9.9987e-01],\n",
       "        [-6.5029e-01, -9.9749e-01, -1.4944e-01, -1.4999e-02, -7.5969e-01,\n",
       "          7.0737e-02,  9.8877e-01,  9.9989e-01],\n",
       "        [-9.9061e-01, -9.8545e-01, -1.3954e-01, -1.4000e-02,  1.3674e-01,\n",
       "          1.6997e-01,  9.9022e-01,  9.9990e-01],\n",
       "        [-4.2017e-01, -9.6356e-01, -1.2963e-01, -1.3000e-02,  9.0745e-01,\n",
       "          2.6750e-01,  9.9156e-01,  9.9992e-01],\n",
       "        [ 5.3657e-01, -9.3204e-01, -1.1971e-01, -1.2000e-02,  8.4385e-01,\n",
       "          3.6236e-01,  9.9281e-01,  9.9993e-01],\n",
       "        [ 9.9999e-01, -8.9121e-01, -1.0978e-01, -1.1000e-02,  4.4257e-03,\n",
       "          4.5360e-01,  9.9396e-01,  9.9994e-01],\n",
       "        [ 5.4402e-01, -8.4147e-01, -9.9833e-02, -9.9998e-03, -8.3907e-01,\n",
       "          5.4030e-01,  9.9500e-01,  9.9995e-01],\n",
       "        [-4.1212e-01, -7.8333e-01, -8.9879e-02, -8.9999e-03, -9.1113e-01,\n",
       "          6.2161e-01,  9.9595e-01,  9.9996e-01],\n",
       "        [-9.8936e-01, -7.1736e-01, -7.9915e-02, -7.9999e-03, -1.4550e-01,\n",
       "          6.9671e-01,  9.9680e-01,  9.9997e-01],\n",
       "        [-6.5699e-01, -6.4422e-01, -6.9943e-02, -6.9999e-03,  7.5390e-01,\n",
       "          7.6484e-01,  9.9755e-01,  9.9998e-01],\n",
       "        [ 2.7942e-01, -5.6464e-01, -5.9964e-02, -6.0000e-03,  9.6017e-01,\n",
       "          8.2534e-01,  9.9820e-01,  9.9998e-01],\n",
       "        [ 9.5892e-01, -4.7943e-01, -4.9979e-02, -5.0000e-03,  2.8366e-01,\n",
       "          8.7758e-01,  9.9875e-01,  9.9999e-01],\n",
       "        [ 7.5680e-01, -3.8942e-01, -3.9989e-02, -4.0000e-03, -6.5364e-01,\n",
       "          9.2106e-01,  9.9920e-01,  9.9999e-01],\n",
       "        [-1.4112e-01, -2.9552e-01, -2.9995e-02, -3.0000e-03, -9.8999e-01,\n",
       "          9.5534e-01,  9.9955e-01,  1.0000e+00],\n",
       "        [-9.0930e-01, -1.9867e-01, -1.9999e-02, -2.0000e-03, -4.1615e-01,\n",
       "          9.8007e-01,  9.9980e-01,  1.0000e+00],\n",
       "        [-8.4147e-01, -9.9833e-02, -9.9998e-03, -1.0000e-03,  5.4030e-01,\n",
       "          9.9500e-01,  9.9995e-01,  1.0000e+00],\n",
       "        [ 0.0000e+00,  0.0000e+00,  0.0000e+00,  0.0000e+00,  1.0000e+00,\n",
       "          1.0000e+00,  1.0000e+00,  1.0000e+00]])"
      ]
     },
     "execution_count": 77,
     "metadata": {},
     "output_type": "execute_result"
    }
   ],
   "source": [
    "pos(torch.arange(-100, 1, dtype=torch.float))"
   ]
  },
  {
   "cell_type": "markdown",
   "metadata": {},
   "source": [
    "## BERT Dataloading"
   ]
  },
  {
   "cell_type": "code",
   "execution_count": 15,
   "metadata": {},
   "outputs": [],
   "source": [
    "# ns_dl_tfms = [mask_tfm, next_sentence_tfm]\n",
    "# ns_config = config.copy()\n",
    "# ns_config['bs'] *= 2\n",
    "# ns_data = load_music_data(base_path/'piano_duet', cache_name=cache_name, vocab=vocab, \n",
    "#                           y_offset=0, dl_tfms=ns_dl_tfms, **ns_config)"
   ]
  },
  {
   "cell_type": "markdown",
   "metadata": {},
   "source": [
    "## S2S Dataloading"
   ]
  },
  {
   "cell_type": "code",
   "execution_count": 16,
   "metadata": {},
   "outputs": [],
   "source": [
    "# s2s_dl_tfms = [mask_s2s_tfm]\n",
    "# s2s_data = MusicDataBunch.load(base_path/'s2s_encode', cache_name=cache_name, \n",
    "#                            preloader_cls=S2SPreloader, dl_tfms=[mask_s2s_tfm], y_offset=1,\n",
    "#                            shuffle_dl=True, **config)\n"
   ]
  },
  {
   "cell_type": "markdown",
   "metadata": {},
   "source": [
    "### Load NextWord dataset (Language Model)"
   ]
  },
  {
   "cell_type": "code",
   "execution_count": 17,
   "metadata": {},
   "outputs": [],
   "source": [
    "def nw_enc_tfm(b):\n",
    "    x,y_nw = b\n",
    "#     x_mask,y_mask = mask_tfm((x,x), mask_last=True)\n",
    "#     return (x_mask,torch.full_like(x, TaskType.NextWord.value),x),(y_mask,y_nw) \n",
    "    return (x,torch.full_like(x, TaskType.NextWord.value),x),(y_nw,y_nw) \n",
    "    "
   ]
  },
  {
   "cell_type": "code",
   "execution_count": 18,
   "metadata": {},
   "outputs": [],
   "source": [
    "nw_data = MusicDataBunch.load(base_path/'piano_duet', cache_name=cache_name, \n",
    "                              vocab=vocab, dl_tfms=[nw_enc_tfm], y_offset=1, \n",
    "                              train_tfms=[to_single_stream], valid_tfms=[to_single_stream], **config)"
   ]
  },
  {
   "cell_type": "code",
   "execution_count": 19,
   "metadata": {},
   "outputs": [],
   "source": [
    "xb,yb = nw_data.one_batch(cpu=False); \n",
    "\n",
    "nw_data.train_dl.dl.dataset.update_rand_bptt()"
   ]
  },
  {
   "cell_type": "code",
   "execution_count": 20,
   "metadata": {},
   "outputs": [
    {
     "data": {
      "text/plain": [
       "([tensor([[  8, 143,  76,  ..., 141,   8, 141],\n",
       "          [  8, 143,  76,  ..., 141,   8, 141],\n",
       "          [  8, 143,  76,  ..., 141,   8, 141],\n",
       "          ...,\n",
       "          [  8, 143,  76,  ..., 141,   8, 141],\n",
       "          [  8, 143,  76,  ..., 141,   8, 141],\n",
       "          [  8, 143,  76,  ..., 141,   8, 141]], device='cuda:0'),\n",
       "  tensor([[4, 4, 4,  ..., 4, 4, 4],\n",
       "          [4, 4, 4,  ..., 4, 4, 4],\n",
       "          [4, 4, 4,  ..., 4, 4, 4],\n",
       "          ...,\n",
       "          [4, 4, 4,  ..., 4, 4, 4],\n",
       "          [4, 4, 4,  ..., 4, 4, 4],\n",
       "          [4, 4, 4,  ..., 4, 4, 4]], device='cuda:0'),\n",
       "  tensor([[  8, 143,  76,  ..., 141,   8, 141],\n",
       "          [  8, 143,  76,  ..., 141,   8, 141],\n",
       "          [  8, 143,  76,  ..., 141,   8, 141],\n",
       "          ...,\n",
       "          [  8, 143,  76,  ..., 141,   8, 141],\n",
       "          [  8, 143,  76,  ..., 141,   8, 141],\n",
       "          [  8, 143,  76,  ..., 141,   8, 141]], device='cuda:0')],\n",
       " [tensor([[143,  76, 151,  ...,   8, 141,  88],\n",
       "          [143,  76, 151,  ...,   8, 141,  88],\n",
       "          [143,  76, 151,  ...,   8, 141,  88],\n",
       "          ...,\n",
       "          [143,  76, 151,  ...,   8, 141,  88],\n",
       "          [143,  76, 151,  ...,   8, 141,  88],\n",
       "          [143,  76, 151,  ...,   8, 141,  88]], device='cuda:0'),\n",
       "  tensor([[143,  76, 151,  ...,   8, 141,  88],\n",
       "          [143,  76, 151,  ...,   8, 141,  88],\n",
       "          [143,  76, 151,  ...,   8, 141,  88],\n",
       "          ...,\n",
       "          [143,  76, 151,  ...,   8, 141,  88],\n",
       "          [143,  76, 151,  ...,   8, 141,  88],\n",
       "          [143,  76, 151,  ...,   8, 141,  88]], device='cuda:0')])"
      ]
     },
     "execution_count": 20,
     "metadata": {},
     "output_type": "execute_result"
    }
   ],
   "source": [
    "xb, yb"
   ]
  },
  {
   "cell_type": "code",
   "execution_count": 21,
   "metadata": {},
   "outputs": [
    {
     "data": {
      "text/plain": [
       "[torch.Size([16, 256]),\n",
       " torch.Size([16, 256]),\n",
       " torch.Size([16, 256]),\n",
       " torch.Size([16, 256]),\n",
       " torch.Size([16, 256])]"
      ]
     },
     "execution_count": 21,
     "metadata": {},
     "output_type": "execute_result"
    }
   ],
   "source": [
    "[x.shape for x in xb+yb]"
   ]
  },
  {
   "cell_type": "markdown",
   "metadata": {},
   "source": [
    "## Datasets"
   ]
  },
  {
   "cell_type": "code",
   "execution_count": 22,
   "metadata": {},
   "outputs": [],
   "source": [
    "# datasets = [ns_data, s2s_data, nw_data]\n",
    "datasets = [nw_data]"
   ]
  },
  {
   "cell_type": "markdown",
   "metadata": {},
   "source": [
    "## Load"
   ]
  },
  {
   "cell_type": "code",
   "execution_count": 23,
   "metadata": {},
   "outputs": [],
   "source": [
    "def predict_func(parts): return [p if idx == 1 else F.softmax(p, dim=-1) for idx,p in enumerate(parts)]\n",
    "# Need to monkey patch pred_batch activation function for 2d array\n",
    "loss_func_name = camel2snake(BertLoss.__name__)\n",
    "basic_train.loss_func_name2activ[loss_func_name] = predict_func"
   ]
  },
  {
   "cell_type": "code",
   "execution_count": 24,
   "metadata": {},
   "outputs": [
    {
     "name": "stdout",
     "output_type": "stream",
     "text": [
      "False\n"
     ]
    }
   ],
   "source": [
    "loss_func = BertLoss(loss_mult=(1,0,0,0))\n",
    "# learn = bert_model_learner(datasets[0], config.copy(), \n",
    "#                            loss_func=loss_func)\n",
    "\n",
    "model = get_bert_model(config['vocab_size'], config=config.copy())\n",
    "learn = MusicLearner(datasets[0], model, config=config, split_func=None, loss_func=loss_func)"
   ]
  },
  {
   "cell_type": "code",
   "execution_count": 25,
   "metadata": {},
   "outputs": [],
   "source": [
    "learn.metrics = [mask_acc, ns_acc, s2s_acc, nw_acc]"
   ]
  },
  {
   "cell_type": "code",
   "execution_count": 26,
   "metadata": {},
   "outputs": [],
   "source": [
    "from fastai.callbacks.rnn import RNNTrainer\n",
    "learn.callbacks = [c for c in learn.callbacks if not isinstance(c, RNNTrainer)]\n",
    "learn.callbacks.append(BertTrainer(learn, datasets))"
   ]
  },
  {
   "cell_type": "code",
   "execution_count": 27,
   "metadata": {},
   "outputs": [
    {
     "data": {
      "text/plain": [
       "[src.unilm.BertTrainer]"
      ]
     },
     "execution_count": 27,
     "metadata": {},
     "output_type": "execute_result"
    }
   ],
   "source": [
    "[type(c) for c in learn.callbacks]"
   ]
  },
  {
   "cell_type": "code",
   "execution_count": 28,
   "metadata": {},
   "outputs": [],
   "source": [
    "learn = learn.to_fp16()"
   ]
  },
  {
   "cell_type": "code",
   "execution_count": 29,
   "metadata": {},
   "outputs": [],
   "source": [
    "learn.model.reset()"
   ]
  },
  {
   "cell_type": "markdown",
   "metadata": {},
   "source": [
    "### Training"
   ]
  },
  {
   "cell_type": "code",
   "execution_count": 30,
   "metadata": {},
   "outputs": [],
   "source": [
    "# learn.lr_find(num_it=500)\n",
    "# learn.recorder.plot()"
   ]
  },
  {
   "cell_type": "code",
   "execution_count": 32,
   "metadata": {},
   "outputs": [
    {
     "data": {
      "text/plain": [
       "[8.275697, tensor(0.), tensor(0), tensor(0), tensor(0.)]"
      ]
     },
     "execution_count": 32,
     "metadata": {},
     "output_type": "execute_result"
    }
   ],
   "source": [
    "learn.validate()"
   ]
  },
  {
   "cell_type": "code",
   "execution_count": 33,
   "metadata": {},
   "outputs": [
    {
     "data": {
      "text/html": [
       "<table border=\"1\" class=\"dataframe\">\n",
       "  <thead>\n",
       "    <tr style=\"text-align: left;\">\n",
       "      <th>epoch</th>\n",
       "      <th>train_loss</th>\n",
       "      <th>valid_loss</th>\n",
       "      <th>mask_acc</th>\n",
       "      <th>ns_acc</th>\n",
       "      <th>s2s_acc</th>\n",
       "      <th>nw_acc</th>\n",
       "      <th>time</th>\n",
       "    </tr>\n",
       "  </thead>\n",
       "  <tbody>\n",
       "    <tr>\n",
       "      <td>0</td>\n",
       "      <td>0.988468</td>\n",
       "      <td>0.965723</td>\n",
       "      <td>0.701737</td>\n",
       "      <td>0.000000</td>\n",
       "      <td>0.000000</td>\n",
       "      <td>0.000000</td>\n",
       "      <td>02:53</td>\n",
       "    </tr>\n",
       "  </tbody>\n",
       "</table>"
      ],
      "text/plain": [
       "<IPython.core.display.HTML object>"
      ]
     },
     "metadata": {},
     "output_type": "display_data"
    }
   ],
   "source": [
    "learn.fit_one_cycle(1, 1e-3)"
   ]
  },
  {
   "cell_type": "code",
   "execution_count": 34,
   "metadata": {},
   "outputs": [],
   "source": [
    "learn.save('sample_train_5')"
   ]
  },
  {
   "cell_type": "markdown",
   "metadata": {},
   "source": [
    "## Load sample train"
   ]
  },
  {
   "cell_type": "code",
   "execution_count": null,
   "metadata": {},
   "outputs": [],
   "source": [
    "# load_path = base_path/'piano_duet/models/sample_train_5.pth'\n",
    "# state = torch.load(load_path, map_location='cpu')\n",
    "# get_model(learn.model).load_state_dict(state['model'])\n",
    "# load_path"
   ]
  },
  {
   "cell_type": "code",
   "execution_count": null,
   "metadata": {},
   "outputs": [],
   "source": [
    "# learn.load('sample_train')"
   ]
  },
  {
   "cell_type": "markdown",
   "metadata": {},
   "source": [
    "## Load existing"
   ]
  },
  {
   "cell_type": "code",
   "execution_count": null,
   "metadata": {},
   "outputs": [],
   "source": [
    "saved_models = get_files(base_path/'models/unilm', recurse=True, extensions=['.pth']); saved_models"
   ]
  },
  {
   "cell_type": "code",
   "execution_count": null,
   "metadata": {},
   "outputs": [],
   "source": [
    "# load_path = saved_models[1]\n",
    "# state = torch.load(load_path, map_location='cpu')\n",
    "# get_model(learn.model).load_state_dict(state['model'])\n",
    "# load_path"
   ]
  },
  {
   "cell_type": "markdown",
   "metadata": {},
   "source": [
    "## Prediction"
   ]
  },
  {
   "cell_type": "markdown",
   "metadata": {},
   "source": [
    "Prediction algo"
   ]
  },
  {
   "cell_type": "code",
   "execution_count": 35,
   "metadata": {},
   "outputs": [
    {
     "name": "stderr",
     "output_type": "stream",
     "text": [
      "/home/ubuntu/anaconda3/envs/midi/lib/python3.7/site-packages/IPython/core/interactiveshell.py:3049: DtypeWarning: Columns (0,1,7,10,12,15) have mixed types. Specify dtype option on import or set low_memory=False.\n",
      "  interactivity=interactivity, compiler=compiler, result=result)\n"
     ]
    },
    {
     "data": {
      "text/html": [
       "<div>\n",
       "<style scoped>\n",
       "    .dataframe tbody tr th:only-of-type {\n",
       "        vertical-align: middle;\n",
       "    }\n",
       "\n",
       "    .dataframe tbody tr th {\n",
       "        vertical-align: top;\n",
       "    }\n",
       "\n",
       "    .dataframe thead th {\n",
       "        text-align: right;\n",
       "    }\n",
       "</style>\n",
       "<table border=\"1\" class=\"dataframe\">\n",
       "  <thead>\n",
       "    <tr style=\"text-align: right;\">\n",
       "      <th></th>\n",
       "      <th>song_url</th>\n",
       "      <th>section</th>\n",
       "      <th>numpy</th>\n",
       "      <th>ht_mode</th>\n",
       "      <th>midi</th>\n",
       "      <th>title</th>\n",
       "      <th>ht_time_signature</th>\n",
       "      <th>mxl</th>\n",
       "      <th>ht_offset</th>\n",
       "      <th>ht_bpm</th>\n",
       "      <th>ht_key</th>\n",
       "      <th>md5</th>\n",
       "      <th>midi_title</th>\n",
       "      <th>artist</th>\n",
       "      <th>genres</th>\n",
       "      <th>parts</th>\n",
       "      <th>source</th>\n",
       "    </tr>\n",
       "  </thead>\n",
       "  <tbody>\n",
       "    <tr>\n",
       "      <th>193179</th>\n",
       "      <td>https://www.hooktheory.com/theorytab/view/ritc...</td>\n",
       "      <td>chorus</td>\n",
       "      <td>piano_duet/hooktheory/pianoroll/r/ritchie-vale...</td>\n",
       "      <td>1.0</td>\n",
       "      <td>midi_sources/hooktheory/pianoroll/r/ritchie-va...</td>\n",
       "      <td>la-bamba</td>\n",
       "      <td>4.0</td>\n",
       "      <td>NaN</td>\n",
       "      <td>0.0</td>\n",
       "      <td>144.0</td>\n",
       "      <td>C</td>\n",
       "      <td>aeee134e4034e5f98bb630c56d2f7f8c</td>\n",
       "      <td>La Bamba</td>\n",
       "      <td>ritchie-valen</td>\n",
       "      <td>Pop,Rock</td>\n",
       "      <td>chorus</td>\n",
       "      <td>hooktheory_c</td>\n",
       "    </tr>\n",
       "  </tbody>\n",
       "</table>\n",
       "</div>"
      ],
      "text/plain": [
       "                                                 song_url section  \\\n",
       "193179  https://www.hooktheory.com/theorytab/view/ritc...  chorus   \n",
       "\n",
       "                                                    numpy  ht_mode  \\\n",
       "193179  piano_duet/hooktheory/pianoroll/r/ritchie-vale...      1.0   \n",
       "\n",
       "                                                     midi     title  \\\n",
       "193179  midi_sources/hooktheory/pianoroll/r/ritchie-va...  la-bamba   \n",
       "\n",
       "        ht_time_signature  mxl  ht_offset  ht_bpm ht_key  \\\n",
       "193179                4.0  NaN        0.0   144.0      C   \n",
       "\n",
       "                                     md5 midi_title         artist    genres  \\\n",
       "193179  aeee134e4034e5f98bb630c56d2f7f8c   La Bamba  ritchie-valen  Pop,Rock   \n",
       "\n",
       "         parts        source  \n",
       "193179  chorus  hooktheory_c  "
      ]
     },
     "execution_count": 35,
     "metadata": {},
     "output_type": "execute_result"
    }
   ],
   "source": [
    "csv_path = base_path/f'piano_duet/piano_duet.csv'\n",
    "csv = pd.read_csv(csv_path)\n",
    "df = csv.loc[csv['numpy'].notna()];\n",
    "\n",
    "# keywords = 'la bamba'.replace(' ', '|')\n",
    "title_filter = df['title'].str.contains('la-bamba')==True\n",
    "artist_filter = df['artist'].str.contains('')==True\n",
    "results = df[title_filter & artist_filter]; results.head()\n",
    "results = results[results.source == 'hooktheory_c']; results.head()"
   ]
  },
  {
   "cell_type": "code",
   "execution_count": 36,
   "metadata": {},
   "outputs": [
    {
     "data": {
      "text/plain": [
       "(PosixPath('../../data/midi/v15/piano_duet/hooktheory/pianoroll/r/ritchie-valen/la-bamba/chorus_key_cmajor.npy'),\n",
       " PosixPath('../../data/midi/v15/midi_sources/hooktheory/pianoroll/r/ritchie-valen/la-bamba/chorus_key_cmajor.mid'))"
      ]
     },
     "execution_count": 36,
     "metadata": {},
     "output_type": "execute_result"
    }
   ],
   "source": [
    "idx = 0\n",
    "file = base_path/results.numpy.values[idx];\n",
    "orig = base_path/results.midi.values[idx];\n",
    "file, orig"
   ]
  },
  {
   "cell_type": "code",
   "execution_count": 37,
   "metadata": {},
   "outputs": [],
   "source": [
    "seed_len = 40\n",
    "song_np = np.load(file)\n",
    "seed_np = np.load(file)[:seed_len]\n",
    "xb = torch.tensor(to_single_stream(seed_np, vocab=vocab))[None]\n",
    "if torch.cuda.is_available(): xb = xb.cuda()"
   ]
  },
  {
   "cell_type": "code",
   "execution_count": 38,
   "metadata": {},
   "outputs": [],
   "source": [
    "# seed_stream = npenc2stream(seed_np)\n",
    "# seed_stream.show()"
   ]
  },
  {
   "cell_type": "code",
   "execution_count": 39,
   "metadata": {},
   "outputs": [
    {
     "data": {
      "text/plain": [
       "tensor([[  0,   1,   8, 150,  64, 141,   8, 141,  66, 141,   8, 141,  68, 141,\n",
       "           8, 141,  69, 143,  64, 147,  61, 147,  57, 147,   8, 143,  73, 141,\n",
       "           8, 141,  76, 141,   8, 141,  74, 141,  69, 147,  66, 147,  62, 147,\n",
       "           8, 141,  74, 141,   8, 141,  78, 141,   8, 141,  76, 143,   8, 141,\n",
       "          59, 147,  56, 147,  52, 147,   8, 141,  64, 141,   8, 141,  68, 141,\n",
       "           8, 141,  71, 141,   8, 141,  74, 141,  69, 147,  66, 147]],\n",
       "       device='cuda:0')"
      ]
     },
     "execution_count": 39,
     "metadata": {},
     "output_type": "execute_result"
    }
   ],
   "source": [
    "xb"
   ]
  },
  {
   "cell_type": "code",
   "execution_count": 40,
   "metadata": {},
   "outputs": [],
   "source": [
    "task_type = torch.full_like(xb, TaskType.NextWord.value)\n",
    "# res = self.pred_batch(batch=((xb,task_type,xb),(xb)))[-1][0, -1] # task1, task2 - (bs x ts x vocab)"
   ]
  },
  {
   "cell_type": "code",
   "execution_count": 41,
   "metadata": {},
   "outputs": [],
   "source": [
    "learn.model.reset()"
   ]
  },
  {
   "cell_type": "code",
   "execution_count": 42,
   "metadata": {},
   "outputs": [
    {
     "data": {
      "text/plain": [
       "[tensor([[[2.5081e-03, 1.0378e-04, 1.6933e-05,  ..., 5.0256e-05,\n",
       "           3.7347e-05, 4.7815e-05],\n",
       "          [5.7139e-04, 6.5287e-04, 6.8912e-05,  ..., 2.0254e-04,\n",
       "           1.9593e-04, 1.8015e-04],\n",
       "          [1.5790e-06, 2.1452e-04, 2.1251e-05,  ..., 7.0432e-05,\n",
       "           6.2704e-05, 5.4799e-05],\n",
       "          ...,\n",
       "          [6.7296e-06, 1.2831e-06, 1.0091e-06,  ..., 1.5119e-06,\n",
       "           1.2196e-06, 1.2932e-06],\n",
       "          [1.1424e-07, 1.9169e-07, 2.7512e-07,  ..., 2.2719e-07,\n",
       "           3.1358e-07, 3.8346e-07],\n",
       "          [8.2934e-06, 4.6136e-07, 7.2724e-07,  ..., 4.9594e-07,\n",
       "           4.3681e-07, 3.5030e-07]]]),\n",
       " tensor([[4, 4, 4, 4, 4, 4, 4, 4, 4, 4, 4, 4, 4, 4, 4, 4, 4, 4, 4, 4, 4, 4, 4, 4,\n",
       "          4, 4, 4, 4, 4, 4, 4, 4, 4, 4, 4, 4, 4, 4, 4, 4, 4, 4, 4, 4, 4, 4, 4, 4,\n",
       "          4, 4, 4, 4, 4, 4, 4, 4, 4, 4, 4, 4, 4, 4, 4, 4, 4, 4, 4, 4, 4, 4, 4, 4,\n",
       "          4, 4, 4, 4, 4, 4, 4, 4, 4, 4]]),\n",
       " tensor([[[0.0062, 0.0036, 0.0037,  ..., 0.0036, 0.0037, 0.0037],\n",
       "          [0.0034, 0.0051, 0.0037,  ..., 0.0038, 0.0039, 0.0038],\n",
       "          [0.0051, 0.0036, 0.0035,  ..., 0.0035, 0.0035, 0.0035],\n",
       "          ...,\n",
       "          [0.0036, 0.0035, 0.0035,  ..., 0.0035, 0.0035, 0.0036],\n",
       "          [0.0039, 0.0035, 0.0035,  ..., 0.0036, 0.0035, 0.0035],\n",
       "          [0.0036, 0.0035, 0.0035,  ..., 0.0035, 0.0035, 0.0036]]])]"
      ]
     },
     "execution_count": 42,
     "metadata": {},
     "output_type": "execute_result"
    }
   ],
   "source": [
    "res = learn.pred_batch(batch=((xb,task_type,xb),xb)); res"
   ]
  },
  {
   "cell_type": "code",
   "execution_count": 43,
   "metadata": {},
   "outputs": [
    {
     "data": {
      "text/plain": [
       "([tensor([[[-3.5566, -4.9961, -4.6055,  ..., -5.0547, -4.6953, -4.7656],\n",
       "           [ 3.5547, -2.4277, -3.8398,  ..., -3.6152, -3.3496, -3.4199],\n",
       "           [-5.6562, -1.5762, -2.6035,  ..., -2.0977, -2.2500, -2.4375],\n",
       "           ...,\n",
       "           [-0.8667, -2.6602, -2.8965,  ..., -2.5078, -2.7031, -2.6074],\n",
       "           [-4.1641, -3.8730, -3.5059,  ..., -3.7129, -3.3750, -3.1230],\n",
       "           [-0.2939, -3.1094, -2.6914,  ..., -3.0625, -3.2266, -3.3887]]],\n",
       "         dtype=torch.float16),\n",
       "  tensor([[4, 4, 4, 4, 4, 4, 4, 4, 4, 4, 4, 4, 4, 4, 4, 4, 4, 4, 4, 4, 4, 4, 4, 4,\n",
       "           4, 4, 4, 4, 4, 4, 4, 4, 4, 4, 4, 4, 4, 4, 4, 4, 4, 4, 4, 4, 4, 4, 4, 4,\n",
       "           4, 4, 4, 4, 4, 4, 4, 4, 4, 4, 4, 4, 4, 4, 4, 4, 4, 4, 4, 4, 4, 4, 4, 4,\n",
       "           4, 4, 4, 4, 4, 4, 4, 4, 4, 4]]),\n",
       "  tensor([[[ 0.5522,  0.0147,  0.0298,  ...,  0.0086,  0.0257,  0.0343],\n",
       "           [ 0.0147,  0.4268,  0.1171,  ...,  0.1293,  0.1470,  0.1415],\n",
       "           [ 0.2771, -0.0692, -0.0964,  ..., -0.1090, -0.0880, -0.0962],\n",
       "           ...,\n",
       "           [-0.0503, -0.0969, -0.0777,  ..., -0.0777, -0.0805, -0.0612],\n",
       "           [ 0.0065, -0.0831, -0.0971,  ..., -0.0813, -0.0926, -0.0840],\n",
       "           [-0.0503, -0.0969, -0.0777,  ..., -0.0777, -0.0805, -0.0612]]],\n",
       "         dtype=torch.float16)],\n",
       " tensor([[143,  76, 151,  ...,   8, 141,  88],\n",
       "         [143,  76, 151,  ...,   8, 141,  88],\n",
       "         [143,  76, 151,  ...,   8, 141,  88],\n",
       "         ...,\n",
       "         [143,  76, 151,  ...,   8, 141,  88],\n",
       "         [143,  76, 151,  ...,   8, 141,  88],\n",
       "         [143,  76, 151,  ...,   8, 141,  88]], device='cuda:0'))"
      ]
     },
     "execution_count": 43,
     "metadata": {},
     "output_type": "execute_result"
    }
   ],
   "source": [
    "preds = loss_batch(learn.model.eval(), (xb,task_type,xb), yb); preds"
   ]
  },
  {
   "cell_type": "code",
   "execution_count": 44,
   "metadata": {},
   "outputs": [],
   "source": [
    "# last = res[-1][0, -1]; last[143]\n",
    "# idx = torch.multinomial(res[-1][0, -1], 1).item(); idx"
   ]
  },
  {
   "cell_type": "code",
   "execution_count": 45,
   "metadata": {},
   "outputs": [],
   "source": [
    "\n",
    "def predict_nw(self, xb:Tensor, n_words:int=128):\n",
    "    if xb.shape[0] > 1: xb = xb[0][None]\n",
    "    seed = xb.cpu().numpy().squeeze()\n",
    "    yb = torch.ones_like(xb)\n",
    "    new_idx = []\n",
    "#     self.mask = False\n",
    "    self.model.reset()\n",
    "\n",
    "    for i in progress_bar(range(n_words), leave=True):\n",
    "        print(xb)\n",
    "        task_type = torch.full_like(xb, TaskType.NextWord.value)\n",
    "        \n",
    "        # Masking last - bert\n",
    "#         mask_last = torch.cat((xb, torch.tensor(vocab.mask_idx, device=xb.device).view(1, 1)), dim=-1)\n",
    "#         res = self.pred_batch(batch=((mask_last,task_type,mask_last),(yb)))[0][0, -1] # task1, task2 - (bs x ts x vocab)\n",
    "        \n",
    "        # Next Word\n",
    "#         res = self.pred_batch(batch=((xb,task_type,xb),xb))[-1][0, -1] # task1, task2 - (bs x ts x vocab)\n",
    "\n",
    "        # Encoder only - nw\n",
    "        res = self.pred_batch(batch=((xb,task_type,xb),xb))[0][0, -1] # task1, task2 - (bs x ts x vocab)\n",
    "\n",
    "        # Use first temperatures value if last prediction was duration\n",
    "        res.pow_(1 / (0.5))\n",
    "\n",
    "        idx = torch.multinomial(res, 1).item()\n",
    "    \n",
    "        new_idx.append(idx)\n",
    "#         t_idx = torch.tensor(idx, device=xb.device).view(1, 1)\n",
    "#         xb = torch.cat((xb, t_idx), dim=-1)\n",
    "        xb = xb.new_tensor([idx])[None]\n",
    "        \n",
    "#     self.mask = True\n",
    "    return np.array(new_idx), seed\n"
   ]
  },
  {
   "cell_type": "code",
   "execution_count": 46,
   "metadata": {},
   "outputs": [],
   "source": [
    "# vocab.itos[143]"
   ]
  },
  {
   "cell_type": "code",
   "execution_count": 47,
   "metadata": {},
   "outputs": [
    {
     "data": {
      "text/plain": [
       "tensor(0.0044)"
      ]
     },
     "execution_count": 47,
     "metadata": {},
     "output_type": "execute_result"
    }
   ],
   "source": [
    "if xb.shape[0] > 1: xb = xb[0][None]\n",
    "seed = xb.cpu().numpy().squeeze()\n",
    "yb = torch.ones_like(xb)\n",
    "res = learn.pred_batch(batch=((xb, torch.full_like(xb, TaskType.NextWord.value),xb),(yb)))\n",
    "res[-1][0, -1][141]"
   ]
  },
  {
   "cell_type": "code",
   "execution_count": 48,
   "metadata": {},
   "outputs": [
    {
     "data": {
      "text/html": [
       "\n",
       "    <div>\n",
       "        <style>\n",
       "            /* Turns off some styling */\n",
       "            progress {\n",
       "                /* gets rid of default border in Firefox and Opera. */\n",
       "                border: none;\n",
       "                /* Needs to be in here for Safari polyfill so background images work as expected. */\n",
       "                background-size: auto;\n",
       "            }\n",
       "            .progress-bar-interrupted, .progress-bar-interrupted::-webkit-progress-bar {\n",
       "                background: #F44336;\n",
       "            }\n",
       "        </style>\n",
       "      <progress value='40' class='' max='40', style='width:300px; height:20px; vertical-align: middle;'></progress>\n",
       "      100.00% [40/40 00:00<00:00]\n",
       "    </div>\n",
       "    "
      ],
      "text/plain": [
       "<IPython.core.display.HTML object>"
      ]
     },
     "metadata": {},
     "output_type": "display_data"
    },
    {
     "name": "stdout",
     "output_type": "stream",
     "text": [
      "tensor([[  0,   1,   8, 150,  64, 141,   8, 141,  66, 141,   8, 141,  68, 141,\n",
      "           8, 141,  69, 143,  64, 147,  61, 147,  57, 147,   8, 143,  73, 141,\n",
      "           8, 141,  76, 141,   8, 141,  74, 141,  69, 147,  66, 147,  62, 147,\n",
      "           8, 141,  74, 141,   8, 141,  78, 141,   8, 141,  76, 143,   8, 141,\n",
      "          59, 147,  56, 147,  52, 147,   8, 141,  64, 141,   8, 141,  68, 141,\n",
      "           8, 141,  71, 141,   8, 141,  74, 141,  69, 147,  66, 147]],\n",
      "       device='cuda:0')\n",
      "tensor([[62]], device='cuda:0')\n",
      "tensor([[147]], device='cuda:0')\n",
      "tensor([[8]], device='cuda:0')\n",
      "tensor([[141]], device='cuda:0')\n",
      "tensor([[76]], device='cuda:0')\n",
      "tensor([[141]], device='cuda:0')\n",
      "tensor([[8]], device='cuda:0')\n",
      "tensor([[141]], device='cuda:0')\n",
      "tensor([[76]], device='cuda:0')\n",
      "tensor([[141]], device='cuda:0')\n",
      "tensor([[8]], device='cuda:0')\n",
      "tensor([[141]], device='cuda:0')\n",
      "tensor([[76]], device='cuda:0')\n",
      "tensor([[141]], device='cuda:0')\n",
      "tensor([[8]], device='cuda:0')\n",
      "tensor([[141]], device='cuda:0')\n",
      "tensor([[76]], device='cuda:0')\n",
      "tensor([[141]], device='cuda:0')\n",
      "tensor([[8]], device='cuda:0')\n",
      "tensor([[141]], device='cuda:0')\n",
      "tensor([[76]], device='cuda:0')\n",
      "tensor([[141]], device='cuda:0')\n",
      "tensor([[59]], device='cuda:0')\n",
      "tensor([[147]], device='cuda:0')\n",
      "tensor([[56]], device='cuda:0')\n",
      "tensor([[147]], device='cuda:0')\n",
      "tensor([[52]], device='cuda:0')\n",
      "tensor([[147]], device='cuda:0')\n",
      "tensor([[8]], device='cuda:0')\n",
      "tensor([[141]], device='cuda:0')\n",
      "tensor([[76]], device='cuda:0')\n",
      "tensor([[141]], device='cuda:0')\n",
      "tensor([[8]], device='cuda:0')\n",
      "tensor([[141]], device='cuda:0')\n",
      "tensor([[76]], device='cuda:0')\n",
      "tensor([[141]], device='cuda:0')\n",
      "tensor([[8]], device='cuda:0')\n",
      "tensor([[141]], device='cuda:0')\n",
      "tensor([[76]], device='cuda:0')\n"
     ]
    }
   ],
   "source": [
    "out_s, seed_s = predict_nw(learn, xb, n_words=40)"
   ]
  },
  {
   "cell_type": "code",
   "execution_count": 49,
   "metadata": {},
   "outputs": [
    {
     "data": {
      "text/plain": [
       "['n53',\n",
       " 'd8',\n",
       " 'xxsep',\n",
       " 'd2',\n",
       " 'n67',\n",
       " 'd2',\n",
       " 'xxsep',\n",
       " 'd2',\n",
       " 'n67',\n",
       " 'd2',\n",
       " 'xxsep',\n",
       " 'd2',\n",
       " 'n67',\n",
       " 'd2',\n",
       " 'xxsep',\n",
       " 'd2',\n",
       " 'n67',\n",
       " 'd2',\n",
       " 'xxsep',\n",
       " 'd2',\n",
       " 'n67',\n",
       " 'd2',\n",
       " 'n50',\n",
       " 'd8',\n",
       " 'n47',\n",
       " 'd8',\n",
       " 'n43',\n",
       " 'd8',\n",
       " 'xxsep',\n",
       " 'd2',\n",
       " 'n67',\n",
       " 'd2',\n",
       " 'xxsep',\n",
       " 'd2',\n",
       " 'n67',\n",
       " 'd2',\n",
       " 'xxsep',\n",
       " 'd2',\n",
       " 'n67',\n",
       " 'd2']"
      ]
     },
     "execution_count": 49,
     "metadata": {},
     "output_type": "execute_result"
    }
   ],
   "source": [
    "[vocab.itos[i] for i in out_s]"
   ]
  },
  {
   "cell_type": "code",
   "execution_count": 50,
   "metadata": {},
   "outputs": [
    {
     "data": {
      "image/png": "[encoded data removed]",
      "text/plain": [
       "<IPython.core.display.Image object>"
      ]
     },
     "metadata": {
      "image/png": {
       "height": 105,
       "width": 748
      }
     },
     "output_type": "display_data"
    }
   ],
   "source": [
    "stream = npenc2stream(to_double_stream(out_s))\n",
    "stream.show()"
   ]
  },
  {
   "cell_type": "code",
   "execution_count": null,
   "metadata": {},
   "outputs": [],
   "source": []
  }
 ],
 "metadata": {
  "kernelspec": {
   "display_name": "Python 3",
   "language": "python",
   "name": "python3"
  },
  "language_info": {
   "codemirror_mode": {
    "name": "ipython",
    "version": 3
   },
   "file_extension": ".py",
   "mimetype": "text/x-python",
   "name": "python",
   "nbconvert_exporter": "python",
   "pygments_lexer": "ipython3",
   "version": "3.7.3"
  }
 },
 "nbformat": 4,
 "nbformat_minor": 2
}

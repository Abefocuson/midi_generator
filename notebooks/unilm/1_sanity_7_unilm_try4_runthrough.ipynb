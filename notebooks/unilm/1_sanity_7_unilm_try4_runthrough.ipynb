{
 "cells": [
  {
   "cell_type": "markdown",
   "metadata": {},
   "source": [
    "# Attention Architecture"
   ]
  },
  {
   "cell_type": "code",
   "execution_count": 1,
   "metadata": {},
   "outputs": [],
   "source": [
    "%reload_ext autoreload\n",
    "%autoreload 2\n",
    "%matplotlib inline"
   ]
  },
  {
   "cell_type": "code",
   "execution_count": 2,
   "metadata": {},
   "outputs": [],
   "source": [
    "import music21"
   ]
  },
  {
   "cell_type": "code",
   "execution_count": 3,
   "metadata": {},
   "outputs": [],
   "source": [
    "# from fastai.text import *\n",
    "from enum import Enum\n",
    "import torch"
   ]
  },
  {
   "cell_type": "code",
   "execution_count": 4,
   "metadata": {},
   "outputs": [],
   "source": [
    "import numpy as np\n",
    "import torch.nn as nn"
   ]
  },
  {
   "cell_type": "code",
   "execution_count": 5,
   "metadata": {},
   "outputs": [],
   "source": [
    "np.set_printoptions(edgeitems=10, threshold=40, linewidth=200)"
   ]
  },
  {
   "cell_type": "code",
   "execution_count": 6,
   "metadata": {},
   "outputs": [],
   "source": [
    "import sys\n",
    "sys.path.insert(0, '../../')\n",
    "from src.fastai_data import *\n",
    "from src.encode_data import *\n",
    "from src.serve import *"
   ]
  },
  {
   "cell_type": "code",
   "execution_count": 7,
   "metadata": {},
   "outputs": [],
   "source": [
    "from src.music_transformer import *"
   ]
  },
  {
   "cell_type": "code",
   "execution_count": 8,
   "metadata": {},
   "outputs": [],
   "source": [
    "from src.unilm import *"
   ]
  },
  {
   "cell_type": "code",
   "execution_count": 9,
   "metadata": {},
   "outputs": [],
   "source": [
    "config = unilm_config(vocab)"
   ]
  },
  {
   "cell_type": "code",
   "execution_count": 10,
   "metadata": {},
   "outputs": [],
   "source": [
    "# config['n_layers'] = 8\n",
    "# config['dec_layers'] = 0\n",
    "config['n_layers'] = 8\n",
    "config['dec_layers'] = 8\n",
    "config['mem_len'] = 512\n",
    "config['rand_bptt'] = False\n",
    "config['bptt'] = 512\n",
    "config['bs'] = 8"
   ]
  },
  {
   "cell_type": "code",
   "execution_count": 11,
   "metadata": {},
   "outputs": [
    {
     "data": {
      "text/plain": [
       "{'ctx_len': 150,\n",
       " 'n_layers': 8,\n",
       " 'n_heads': 8,\n",
       " 'd_model': 512,\n",
       " 'd_head': 64,\n",
       " 'd_inner': 2048,\n",
       " 'resid_p': 0.1,\n",
       " 'attn_p': 0.1,\n",
       " 'ff_p': 0.1,\n",
       " 'embed_p': 0.1,\n",
       " 'output_p': 0.1,\n",
       " 'bias': False,\n",
       " 'scale': True,\n",
       " 'act': <Activation.GeLU: 3>,\n",
       " 'double_drop': True,\n",
       " 'tie_weights': True,\n",
       " 'out_bias': True,\n",
       " 'init': <function fastai.text.models.transformer.init_transformer(m)>,\n",
       " 'mem_len': 512,\n",
       " 'mask': True,\n",
       " 'pad_idx': 1,\n",
       " 'bos_idx': 0,\n",
       " 'sep_idx': 8,\n",
       " 'transpose_range': (0, 12),\n",
       " 'rand_transpose': True,\n",
       " 'rand_bptt': False,\n",
       " 'note_range': (9, 139),\n",
       " 'bs': 8,\n",
       " 'bptt': 512,\n",
       " 'vocab_size': 274,\n",
       " 'dec_layers': 8}"
      ]
     },
     "execution_count": 11,
     "metadata": {},
     "output_type": "execute_result"
    }
   ],
   "source": [
    "config"
   ]
  },
  {
   "cell_type": "code",
   "execution_count": 12,
   "metadata": {},
   "outputs": [],
   "source": [
    "base_path = Path('../../data/midi/v15/')"
   ]
  },
  {
   "cell_type": "code",
   "execution_count": 13,
   "metadata": {},
   "outputs": [],
   "source": [
    "cache_name = 'tmp/hook_c'\n",
    "# cache_name = 'tmp/sample'"
   ]
  },
  {
   "cell_type": "markdown",
   "metadata": {},
   "source": [
    "## BERT Dataloading"
   ]
  },
  {
   "cell_type": "code",
   "execution_count": 14,
   "metadata": {},
   "outputs": [],
   "source": [
    "ns_dl_tfms = [mask_tfm, next_sentence_tfm]\n",
    "ns_config = config.copy()\n",
    "ns_config['bs'] *= 2\n",
    "ns_data = load_music_data(base_path/'piano_duet', cache_name=cache_name, vocab=vocab, \n",
    "                          y_offset=0, dl_tfms=ns_dl_tfms, **ns_config)"
   ]
  },
  {
   "cell_type": "code",
   "execution_count": 15,
   "metadata": {},
   "outputs": [
    {
     "data": {
      "text/plain": [
       "[torch.Size([16, 512]),\n",
       " torch.Size([16, 512]),\n",
       " torch.Size([16, 512]),\n",
       " torch.Size([16, 512])]"
      ]
     },
     "execution_count": 15,
     "metadata": {},
     "output_type": "execute_result"
    }
   ],
   "source": [
    "xb,yb = ns_data.one_batch(); [x.shape for x in xb+yb]"
   ]
  },
  {
   "cell_type": "markdown",
   "metadata": {},
   "source": [
    "## S2S Dataloading"
   ]
  },
  {
   "cell_type": "code",
   "execution_count": 16,
   "metadata": {},
   "outputs": [],
   "source": [
    "s2s_dl_tfms = [s2s_tfm]\n",
    "s2s_data = MusicDataBunch.load(base_path/'s2s_encode', cache_name=cache_name, \n",
    "                           preloader_cls=S2SPreloader, dl_tfms=s2s_dl_tfms, y_offset=1,\n",
    "                           shuffle_dl=True, **config)\n"
   ]
  },
  {
   "cell_type": "code",
   "execution_count": 17,
   "metadata": {},
   "outputs": [
    {
     "data": {
      "text/plain": [
       "[torch.Size([8, 512]),\n",
       " torch.Size([8, 512]),\n",
       " torch.Size([8, 512]),\n",
       " torch.Size([8, 512]),\n",
       " torch.Size([8, 512])]"
      ]
     },
     "execution_count": 17,
     "metadata": {},
     "output_type": "execute_result"
    }
   ],
   "source": [
    "s2s_data.train_dl.dl.dataset.on_epoch_begin()\n",
    "s2s_data.train_dl.dl.dataset.on_epoch_end()\n",
    "xb,yb = s2s_data.one_batch(); [x.shape for x in xb+yb]"
   ]
  },
  {
   "cell_type": "markdown",
   "metadata": {},
   "source": [
    "### Load NextWord dataset (Language Model)"
   ]
  },
  {
   "cell_type": "code",
   "execution_count": 18,
   "metadata": {},
   "outputs": [],
   "source": [
    "nw_data = MusicDataBunch.load(base_path/'piano_duet', cache_name=cache_name, \n",
    "                              vocab=vocab, dl_tfms=[nw_tfm], y_offset=1, \n",
    "                              train_tfms=[to_single_stream], valid_tfms=[to_single_stream], **config)"
   ]
  },
  {
   "cell_type": "code",
   "execution_count": 19,
   "metadata": {},
   "outputs": [],
   "source": [
    "nw_data.train_dl.dl.dataset.on_epoch_begin()\n",
    "nw_data.train_dl.dl.dataset.on_epoch_end()"
   ]
  },
  {
   "cell_type": "code",
   "execution_count": 20,
   "metadata": {
    "scrolled": true
   },
   "outputs": [
    {
     "data": {
      "text/plain": [
       "[torch.Size([8, 512]),\n",
       " torch.Size([8, 512]),\n",
       " torch.Size([8, 512]),\n",
       " torch.Size([8, 512]),\n",
       " torch.Size([8, 512])]"
      ]
     },
     "execution_count": 20,
     "metadata": {},
     "output_type": "execute_result"
    }
   ],
   "source": [
    "xb,yb = nw_data.one_batch(); [x.shape for x in xb+yb]"
   ]
  },
  {
   "cell_type": "code",
   "execution_count": 21,
   "metadata": {},
   "outputs": [],
   "source": [
    "# xb, yb"
   ]
  },
  {
   "cell_type": "markdown",
   "metadata": {},
   "source": [
    "## Datasets"
   ]
  },
  {
   "cell_type": "code",
   "execution_count": 22,
   "metadata": {},
   "outputs": [],
   "source": [
    "datasets = [nw_data, s2s_data, ns_data]\n",
    "# datasets = [s2s_data]"
   ]
  },
  {
   "cell_type": "code",
   "execution_count": 23,
   "metadata": {},
   "outputs": [
    {
     "data": {
      "text/plain": [
       "DeviceDataLoader(dl=<torch.utils.data.dataloader.DataLoader object at 0x7fd7075acc18>, device=device(type='cuda'), tfms=[<function mask_tfm at 0x7fd6f057cae8>, <function next_sentence_tfm at 0x7fd6f057ca60>], collate_fn=<function data_collate at 0x7fd6fde88268>)"
      ]
     },
     "execution_count": 23,
     "metadata": {},
     "output_type": "execute_result"
    }
   ],
   "source": [
    "ns_data.train_dl"
   ]
  },
  {
   "cell_type": "markdown",
   "metadata": {},
   "source": [
    "## Load"
   ]
  },
  {
   "cell_type": "code",
   "execution_count": 24,
   "metadata": {},
   "outputs": [],
   "source": [
    "def predict_func(parts): return [p if idx == 1 else F.softmax(p, dim=-1) for idx,p in enumerate(parts)]\n",
    "# Need to monkey patch pred_batch activation function for 2d array\n",
    "loss_func_name = camel2snake(BertLoss.__name__)\n",
    "basic_train.loss_func_name2activ[loss_func_name] = predict_func"
   ]
  },
  {
   "cell_type": "code",
   "execution_count": 25,
   "metadata": {},
   "outputs": [
    {
     "name": "stdout",
     "output_type": "stream",
     "text": [
      "False\n"
     ]
    }
   ],
   "source": [
    "loss_func = BertLoss(loss_mult=(1,1,1,1))\n",
    "# learn = bert_model_learner(datasets[0], config.copy(), \n",
    "#                            loss_func=loss_func)\n",
    "\n",
    "model = get_bert_model(config['vocab_size'], config=config.copy())\n",
    "learn = MusicLearner(datasets[0], model, config=config, split_func=None, loss_func=loss_func)"
   ]
  },
  {
   "cell_type": "code",
   "execution_count": 26,
   "metadata": {},
   "outputs": [],
   "source": [
    "learn.metrics = [mask_acc, ns_acc, s2s_acc, nw_acc]"
   ]
  },
  {
   "cell_type": "code",
   "execution_count": 27,
   "metadata": {},
   "outputs": [],
   "source": [
    "from fastai.callbacks.rnn import RNNTrainer\n",
    "learn.callbacks = [c for c in learn.callbacks if not isinstance(c, RNNTrainer)]\n",
    "learn.callbacks.append(BertTrainer(learn, datasets))"
   ]
  },
  {
   "cell_type": "code",
   "execution_count": 28,
   "metadata": {},
   "outputs": [
    {
     "data": {
      "text/plain": [
       "[src.unilm.BertTrainer]"
      ]
     },
     "execution_count": 28,
     "metadata": {},
     "output_type": "execute_result"
    }
   ],
   "source": [
    "[type(c) for c in learn.callbacks]"
   ]
  },
  {
   "cell_type": "code",
   "execution_count": 29,
   "metadata": {},
   "outputs": [],
   "source": [
    "learn = learn.to_fp16()"
   ]
  },
  {
   "cell_type": "markdown",
   "metadata": {},
   "source": [
    "### Training"
   ]
  },
  {
   "cell_type": "code",
   "execution_count": 30,
   "metadata": {},
   "outputs": [],
   "source": [
    "# learn.lr_find(num_it=500)\n",
    "# learn.recorder.plot()"
   ]
  },
  {
   "cell_type": "code",
   "execution_count": 31,
   "metadata": {},
   "outputs": [],
   "source": [
    "# learn.validate()"
   ]
  },
  {
   "cell_type": "code",
   "execution_count": 32,
   "metadata": {
    "scrolled": false
   },
   "outputs": [
    {
     "data": {
      "text/html": [
       "<table border=\"1\" class=\"dataframe\">\n",
       "  <thead>\n",
       "    <tr style=\"text-align: left;\">\n",
       "      <th>epoch</th>\n",
       "      <th>train_loss</th>\n",
       "      <th>valid_loss</th>\n",
       "      <th>mask_acc</th>\n",
       "      <th>ns_acc</th>\n",
       "      <th>s2s_acc</th>\n",
       "      <th>nw_acc</th>\n",
       "      <th>time</th>\n",
       "    </tr>\n",
       "  </thead>\n",
       "  <tbody>\n",
       "    <tr>\n",
       "      <td>0</td>\n",
       "      <td>5.358785</td>\n",
       "      <td>5.403915</td>\n",
       "      <td>0.292386</td>\n",
       "      <td>0.000000</td>\n",
       "      <td>0.000000</td>\n",
       "      <td>0.364284</td>\n",
       "      <td>08:02</td>\n",
       "    </tr>\n",
       "    <tr>\n",
       "      <td>1</td>\n",
       "      <td>2.326481</td>\n",
       "      <td>2.207503</td>\n",
       "      <td>0.716928</td>\n",
       "      <td>0.000000</td>\n",
       "      <td>0.620887</td>\n",
       "      <td>0.000000</td>\n",
       "      <td>08:00</td>\n",
       "    </tr>\n",
       "    <tr>\n",
       "      <td>2</td>\n",
       "      <td>2.353969</td>\n",
       "      <td>2.060165</td>\n",
       "      <td>0.682571</td>\n",
       "      <td>0.545846</td>\n",
       "      <td>0.000000</td>\n",
       "      <td>0.000000</td>\n",
       "      <td>02:39</td>\n",
       "    </tr>\n",
       "    <tr>\n",
       "      <td>3</td>\n",
       "      <td>2.141457</td>\n",
       "      <td>2.094735</td>\n",
       "      <td>0.678572</td>\n",
       "      <td>0.000000</td>\n",
       "      <td>0.000000</td>\n",
       "      <td>0.691097</td>\n",
       "      <td>08:01</td>\n",
       "    </tr>\n",
       "    <tr>\n",
       "      <td>4</td>\n",
       "      <td>1.697149</td>\n",
       "      <td>1.734465</td>\n",
       "      <td>0.811282</td>\n",
       "      <td>0.000000</td>\n",
       "      <td>0.629615</td>\n",
       "      <td>0.000000</td>\n",
       "      <td>08:03</td>\n",
       "    </tr>\n",
       "    <tr>\n",
       "      <td>5</td>\n",
       "      <td>1.900262</td>\n",
       "      <td>1.803638</td>\n",
       "      <td>0.730322</td>\n",
       "      <td>0.593558</td>\n",
       "      <td>0.000000</td>\n",
       "      <td>0.000000</td>\n",
       "      <td>02:40</td>\n",
       "    </tr>\n",
       "    <tr>\n",
       "      <td>6</td>\n",
       "      <td>1.933269</td>\n",
       "      <td>1.899872</td>\n",
       "      <td>0.699826</td>\n",
       "      <td>0.000000</td>\n",
       "      <td>0.000000</td>\n",
       "      <td>0.712255</td>\n",
       "      <td>07:59</td>\n",
       "    </tr>\n",
       "    <tr>\n",
       "      <td>7</td>\n",
       "      <td>1.626789</td>\n",
       "      <td>1.585320</td>\n",
       "      <td>0.844339</td>\n",
       "      <td>0.000000</td>\n",
       "      <td>0.642031</td>\n",
       "      <td>0.000000</td>\n",
       "      <td>07:51</td>\n",
       "    </tr>\n",
       "    <tr>\n",
       "      <td>8</td>\n",
       "      <td>1.778966</td>\n",
       "      <td>1.684955</td>\n",
       "      <td>0.766357</td>\n",
       "      <td>0.533273</td>\n",
       "      <td>0.000000</td>\n",
       "      <td>0.000000</td>\n",
       "      <td>02:37</td>\n",
       "    </tr>\n",
       "    <tr>\n",
       "      <td>9</td>\n",
       "      <td>1.870629</td>\n",
       "      <td>1.792394</td>\n",
       "      <td>0.718160</td>\n",
       "      <td>0.000000</td>\n",
       "      <td>0.000000</td>\n",
       "      <td>0.721775</td>\n",
       "      <td>07:53</td>\n",
       "    </tr>\n",
       "    <tr>\n",
       "      <td>10</td>\n",
       "      <td>1.550616</td>\n",
       "      <td>1.578415</td>\n",
       "      <td>0.853589</td>\n",
       "      <td>0.000000</td>\n",
       "      <td>0.637287</td>\n",
       "      <td>0.000000</td>\n",
       "      <td>07:51</td>\n",
       "    </tr>\n",
       "    <tr>\n",
       "      <td>11</td>\n",
       "      <td>1.917107</td>\n",
       "      <td>1.574232</td>\n",
       "      <td>0.753047</td>\n",
       "      <td>0.770665</td>\n",
       "      <td>0.000000</td>\n",
       "      <td>0.000000</td>\n",
       "      <td>02:37</td>\n",
       "    </tr>\n",
       "  </tbody>\n",
       "</table>"
      ],
      "text/plain": [
       "<IPython.core.display.HTML object>"
      ]
     },
     "metadata": {},
     "output_type": "display_data"
    },
    {
     "name": "stdout",
     "output_type": "stream",
     "text": [
      "Updating mem length to: 512\n",
      "Updating mem length to: 0\n",
      "Updating mem length to: 512\n",
      "Updating mem length to: 0\n",
      "Updating mem length to: 512\n",
      "Updating mem length to: 0\n",
      "Updating mem length to: 512\n",
      "Updating mem length to: 0\n",
      "Updating mem length to: 512\n"
     ]
    }
   ],
   "source": [
    "learn.fit_one_cycle(12, 1e-4)"
   ]
  },
  {
   "cell_type": "code",
   "execution_count": 33,
   "metadata": {},
   "outputs": [],
   "source": [
    "learn.save('save_s2s_1')"
   ]
  },
  {
   "cell_type": "markdown",
   "metadata": {},
   "source": [
    "## Load sample train"
   ]
  },
  {
   "cell_type": "code",
   "execution_count": null,
   "metadata": {},
   "outputs": [],
   "source": [
    "# load_path = base_path/'piano_duet/models/save_s2s_1.pth'\n",
    "# state = torch.load(load_path, map_location='cpu')\n",
    "# get_model(learn.model).load_state_dict(state['model'])\n",
    "# load_path"
   ]
  },
  {
   "cell_type": "code",
   "execution_count": null,
   "metadata": {},
   "outputs": [],
   "source": [
    "# learn.load('sample_train')"
   ]
  },
  {
   "cell_type": "markdown",
   "metadata": {},
   "source": [
    "## Load existing"
   ]
  },
  {
   "cell_type": "code",
   "execution_count": null,
   "metadata": {},
   "outputs": [],
   "source": [
    "saved_models = get_files(base_path/'models/unilm', recurse=True, extensions=['.pth']); saved_models"
   ]
  },
  {
   "cell_type": "code",
   "execution_count": null,
   "metadata": {},
   "outputs": [],
   "source": [
    "# load_path = saved_models[1]\n",
    "# state = torch.load(load_path, map_location='cpu')\n",
    "# get_model(learn.model).load_state_dict(state['model'])\n",
    "# load_path"
   ]
  },
  {
   "cell_type": "markdown",
   "metadata": {},
   "source": [
    "## Prediction"
   ]
  },
  {
   "cell_type": "markdown",
   "metadata": {},
   "source": [
    "Prediction algo"
   ]
  },
  {
   "cell_type": "code",
   "execution_count": 61,
   "metadata": {},
   "outputs": [
    {
     "name": "stderr",
     "output_type": "stream",
     "text": [
      "/home/ubuntu/anaconda3/envs/midi/lib/python3.7/site-packages/IPython/core/interactiveshell.py:3049: DtypeWarning: Columns (0,1,7,10,12,15) have mixed types. Specify dtype option on import or set low_memory=False.\n",
      "  interactivity=interactivity, compiler=compiler, result=result)\n"
     ]
    },
    {
     "data": {
      "text/html": [
       "<div>\n",
       "<style scoped>\n",
       "    .dataframe tbody tr th:only-of-type {\n",
       "        vertical-align: middle;\n",
       "    }\n",
       "\n",
       "    .dataframe tbody tr th {\n",
       "        vertical-align: top;\n",
       "    }\n",
       "\n",
       "    .dataframe thead th {\n",
       "        text-align: right;\n",
       "    }\n",
       "</style>\n",
       "<table border=\"1\" class=\"dataframe\">\n",
       "  <thead>\n",
       "    <tr style=\"text-align: right;\">\n",
       "      <th></th>\n",
       "      <th>song_url</th>\n",
       "      <th>section</th>\n",
       "      <th>numpy</th>\n",
       "      <th>ht_mode</th>\n",
       "      <th>midi</th>\n",
       "      <th>title</th>\n",
       "      <th>ht_time_signature</th>\n",
       "      <th>mxl</th>\n",
       "      <th>ht_offset</th>\n",
       "      <th>ht_bpm</th>\n",
       "      <th>ht_key</th>\n",
       "      <th>md5</th>\n",
       "      <th>midi_title</th>\n",
       "      <th>artist</th>\n",
       "      <th>genres</th>\n",
       "      <th>parts</th>\n",
       "      <th>source</th>\n",
       "    </tr>\n",
       "  </thead>\n",
       "  <tbody>\n",
       "    <tr>\n",
       "      <th>193179</th>\n",
       "      <td>https://www.hooktheory.com/theorytab/view/ritc...</td>\n",
       "      <td>chorus</td>\n",
       "      <td>piano_duet/hooktheory/pianoroll/r/ritchie-vale...</td>\n",
       "      <td>1.0</td>\n",
       "      <td>midi_sources/hooktheory/pianoroll/r/ritchie-va...</td>\n",
       "      <td>la-bamba</td>\n",
       "      <td>4.0</td>\n",
       "      <td>NaN</td>\n",
       "      <td>0.0</td>\n",
       "      <td>144.0</td>\n",
       "      <td>C</td>\n",
       "      <td>aeee134e4034e5f98bb630c56d2f7f8c</td>\n",
       "      <td>La Bamba</td>\n",
       "      <td>ritchie-valen</td>\n",
       "      <td>Pop,Rock</td>\n",
       "      <td>chorus</td>\n",
       "      <td>hooktheory_c</td>\n",
       "    </tr>\n",
       "  </tbody>\n",
       "</table>\n",
       "</div>"
      ],
      "text/plain": [
       "                                                 song_url section  \\\n",
       "193179  https://www.hooktheory.com/theorytab/view/ritc...  chorus   \n",
       "\n",
       "                                                    numpy  ht_mode  \\\n",
       "193179  piano_duet/hooktheory/pianoroll/r/ritchie-vale...      1.0   \n",
       "\n",
       "                                                     midi     title  \\\n",
       "193179  midi_sources/hooktheory/pianoroll/r/ritchie-va...  la-bamba   \n",
       "\n",
       "        ht_time_signature  mxl  ht_offset  ht_bpm ht_key  \\\n",
       "193179                4.0  NaN        0.0   144.0      C   \n",
       "\n",
       "                                     md5 midi_title         artist    genres  \\\n",
       "193179  aeee134e4034e5f98bb630c56d2f7f8c   La Bamba  ritchie-valen  Pop,Rock   \n",
       "\n",
       "         parts        source  \n",
       "193179  chorus  hooktheory_c  "
      ]
     },
     "execution_count": 61,
     "metadata": {},
     "output_type": "execute_result"
    }
   ],
   "source": [
    "csv_path = base_path/f'piano_duet/piano_duet.csv'\n",
    "csv = pd.read_csv(csv_path)\n",
    "df = csv.loc[csv['numpy'].notna()];\n",
    "\n",
    "# keywords = 'la bamba'.replace(' ', '|')\n",
    "title_filter = df['title'].str.contains('la-bamba')==True\n",
    "artist_filter = df['artist'].str.contains('')==True\n",
    "results = df[title_filter & artist_filter]; results.head()\n",
    "results = results[results.source == 'hooktheory_c']; results.head()"
   ]
  },
  {
   "cell_type": "code",
   "execution_count": 62,
   "metadata": {},
   "outputs": [
    {
     "data": {
      "text/plain": [
       "(PosixPath('../../data/midi/v15/piano_duet/hooktheory/pianoroll/r/ritchie-valen/la-bamba/chorus_key_cmajor.npy'),\n",
       " PosixPath('../../data/midi/v15/midi_sources/hooktheory/pianoroll/r/ritchie-valen/la-bamba/chorus_key_cmajor.mid'))"
      ]
     },
     "execution_count": 62,
     "metadata": {},
     "output_type": "execute_result"
    }
   ],
   "source": [
    "idx = 0\n",
    "file = base_path/results.numpy.values[idx];\n",
    "orig = base_path/results.midi.values[idx];\n",
    "file, orig"
   ]
  },
  {
   "cell_type": "code",
   "execution_count": 63,
   "metadata": {},
   "outputs": [],
   "source": [
    "seed_len = 40\n",
    "song_np = np.load(file)\n",
    "seed_np = np.load(file)[:seed_len]\n",
    "xb = torch.tensor(to_single_stream(seed_np, vocab=vocab))[None]\n",
    "if torch.cuda.is_available(): xb = xb.cuda()"
   ]
  },
  {
   "cell_type": "code",
   "execution_count": 64,
   "metadata": {},
   "outputs": [],
   "source": [
    "# seed_stream = npenc2stream(seed_np)\n",
    "# seed_stream.show()"
   ]
  },
  {
   "cell_type": "code",
   "execution_count": 65,
   "metadata": {},
   "outputs": [
    {
     "data": {
      "text/plain": [
       "tensor([[  0,   1,   8, 150,  64, 141,   8, 141,  66, 141,   8, 141,  68, 141,\n",
       "           8, 141,  69, 143,  64, 147,  61, 147,  57, 147,   8, 143,  73, 141,\n",
       "           8, 141,  76, 141,   8, 141,  74, 141,  69, 147,  66, 147,  62, 147,\n",
       "           8, 141,  74, 141,   8, 141,  78, 141,   8, 141,  76, 143,   8, 141,\n",
       "          59, 147,  56, 147,  52, 147,   8, 141,  64, 141,   8, 141,  68, 141,\n",
       "           8, 141,  71, 141,   8, 141,  74, 141,  69, 147,  66, 147]],\n",
       "       device='cuda:0')"
      ]
     },
     "execution_count": 65,
     "metadata": {},
     "output_type": "execute_result"
    }
   ],
   "source": [
    "xb"
   ]
  },
  {
   "cell_type": "code",
   "execution_count": 66,
   "metadata": {},
   "outputs": [],
   "source": [
    "# task_type = torch.full_like(xb, TaskType.NextWord.value)\n",
    "\n",
    "# learn.model.reset()\n",
    "\n",
    "# res = learn.pred_batch(batch=((xb,task_type,xb),xb)); res\n",
    "\n",
    "# preds = loss_batch(learn.model.eval(), (xb,task_type,xb), yb); preds"
   ]
  },
  {
   "cell_type": "code",
   "execution_count": 70,
   "metadata": {},
   "outputs": [],
   "source": [
    "# last = res[-1][0, -1]; last[143]\n",
    "# idx = torch.multinomial(res[-1][0, -1], 1).item(); idx"
   ]
  },
  {
   "cell_type": "code",
   "execution_count": 71,
   "metadata": {},
   "outputs": [],
   "source": [
    "\n",
    "def predict_nw(self, xb:Tensor, n_words:int=128):\n",
    "    if xb.shape[0] > 1: xb = xb[0][None]\n",
    "    seed = xb.cpu().numpy().squeeze()\n",
    "    yb = torch.ones_like(xb)\n",
    "    new_idx = []\n",
    "#     self.mask = False\n",
    "    self.model.reset()\n",
    "\n",
    "    for i in progress_bar(range(n_words), leave=True):\n",
    "#         print(xb)\n",
    "        task_type = torch.full_like(xb, TaskType.NextWord.value)\n",
    "        \n",
    "        # Masking last - bert\n",
    "#         mask_last = torch.cat((xb, torch.tensor(vocab.mask_idx, device=xb.device).view(1, 1)), dim=-1)\n",
    "#         res = self.pred_batch(batch=((mask_last,task_type,mask_last),(yb)))[0][0, -1] # task1, task2 - (bs x ts x vocab)\n",
    "        \n",
    "        # Next Word\n",
    "        res = self.pred_batch(batch=((xb,task_type,xb),xb))[-1][0, -1] # task1, task2 - (bs x ts x vocab)\n",
    "\n",
    "        # Encoder only - nw\n",
    "#         res = self.pred_batch(batch=((xb,task_type,xb),xb))[0][0, -1] # task1, task2 - (bs x ts x vocab)\n",
    "\n",
    "        # Use first temperatures value if last prediction was duration\n",
    "        res.pow_(1 / (0.5))\n",
    "\n",
    "        idx = torch.multinomial(res, 1).item()\n",
    "    \n",
    "        new_idx.append(idx)\n",
    "#         t_idx = torch.tensor(idx, device=xb.device).view(1, 1)\n",
    "#         xb = torch.cat((xb, t_idx), dim=-1)\n",
    "        xb = xb.new_tensor([idx])[None]\n",
    "        \n",
    "#     self.mask = True\n",
    "    return np.array(new_idx), seed\n"
   ]
  },
  {
   "cell_type": "code",
   "execution_count": 72,
   "metadata": {},
   "outputs": [],
   "source": [
    "# vocab.itos[143]"
   ]
  },
  {
   "cell_type": "code",
   "execution_count": 73,
   "metadata": {},
   "outputs": [
    {
     "data": {
      "text/plain": [
       "tensor(0.0004)"
      ]
     },
     "execution_count": 73,
     "metadata": {},
     "output_type": "execute_result"
    }
   ],
   "source": [
    "if xb.shape[0] > 1: xb = xb[0][None]\n",
    "seed = xb.cpu().numpy().squeeze()\n",
    "yb = torch.ones_like(xb)\n",
    "res = learn.pred_batch(batch=((xb, torch.full_like(xb, TaskType.NextWord.value),xb),(yb)))\n",
    "res[-1][0, -1][141]"
   ]
  },
  {
   "cell_type": "code",
   "execution_count": null,
   "metadata": {},
   "outputs": [],
   "source": [
    "out_s, seed_s = predict_nw(learn, xb, n_words=40)"
   ]
  },
  {
   "cell_type": "code",
   "execution_count": null,
   "metadata": {},
   "outputs": [],
   "source": [
    "[vocab.itos[i] for i in out_s]"
   ]
  },
  {
   "cell_type": "code",
   "execution_count": 76,
   "metadata": {},
   "outputs": [
    {
     "data": {
      "image/png": "[encoded data removed]",
      "text/plain": [
       "<IPython.core.display.Image object>"
      ]
     },
     "metadata": {
      "image/png": {
       "height": 172,
       "width": 748
      }
     },
     "output_type": "display_data"
    }
   ],
   "source": [
    "stream = npenc2stream(to_double_stream(out_s))\n",
    "stream.show()"
   ]
  },
  {
   "cell_type": "markdown",
   "metadata": {},
   "source": [
    "## Predict Seq2Seq"
   ]
  },
  {
   "cell_type": "code",
   "execution_count": 34,
   "metadata": {},
   "outputs": [
    {
     "name": "stderr",
     "output_type": "stream",
     "text": [
      "/home/ubuntu/anaconda3/envs/midi/lib/python3.7/site-packages/IPython/core/interactiveshell.py:3049: DtypeWarning: Columns (5,7,8,10,11,15) have mixed types. Specify dtype option on import or set low_memory=False.\n",
      "  interactivity=interactivity, compiler=compiler, result=result)\n"
     ]
    },
    {
     "data": {
      "text/html": [
       "<div>\n",
       "<style scoped>\n",
       "    .dataframe tbody tr th:only-of-type {\n",
       "        vertical-align: middle;\n",
       "    }\n",
       "\n",
       "    .dataframe tbody tr th {\n",
       "        vertical-align: top;\n",
       "    }\n",
       "\n",
       "    .dataframe thead th {\n",
       "        text-align: right;\n",
       "    }\n",
       "</style>\n",
       "<table border=\"1\" class=\"dataframe\">\n",
       "  <thead>\n",
       "    <tr style=\"text-align: right;\">\n",
       "      <th></th>\n",
       "      <th>ht_offset</th>\n",
       "      <th>ht_bpm</th>\n",
       "      <th>ht_mode</th>\n",
       "      <th>midi</th>\n",
       "      <th>ht_time_signature</th>\n",
       "      <th>parts</th>\n",
       "      <th>title</th>\n",
       "      <th>section</th>\n",
       "      <th>song_url</th>\n",
       "      <th>md5</th>\n",
       "      <th>ht_key</th>\n",
       "      <th>midi_title</th>\n",
       "      <th>genres</th>\n",
       "      <th>source</th>\n",
       "      <th>artist</th>\n",
       "      <th>mxl</th>\n",
       "      <th>numpy</th>\n",
       "    </tr>\n",
       "  </thead>\n",
       "  <tbody>\n",
       "    <tr>\n",
       "      <th>192022</th>\n",
       "      <td>0.0</td>\n",
       "      <td>144.0</td>\n",
       "      <td>1.0</td>\n",
       "      <td>midi_sources/hooktheory/pianoroll/r/ritchie-va...</td>\n",
       "      <td>4.0</td>\n",
       "      <td>chorus</td>\n",
       "      <td>la-bamba</td>\n",
       "      <td>chorus</td>\n",
       "      <td>https://www.hooktheory.com/theorytab/view/ritc...</td>\n",
       "      <td>aeee134e4034e5f98bb630c56d2f7f8c</td>\n",
       "      <td>C</td>\n",
       "      <td>La Bamba</td>\n",
       "      <td>Pop,Rock</td>\n",
       "      <td>hooktheory_c</td>\n",
       "      <td>ritchie-valen</td>\n",
       "      <td>NaN</td>\n",
       "      <td>s2s_encode/hooktheory/pianoroll/r/ritchie-vale...</td>\n",
       "    </tr>\n",
       "  </tbody>\n",
       "</table>\n",
       "</div>"
      ],
      "text/plain": [
       "        ht_offset  ht_bpm  ht_mode  \\\n",
       "192022        0.0   144.0      1.0   \n",
       "\n",
       "                                                     midi  ht_time_signature  \\\n",
       "192022  midi_sources/hooktheory/pianoroll/r/ritchie-va...                4.0   \n",
       "\n",
       "         parts     title section  \\\n",
       "192022  chorus  la-bamba  chorus   \n",
       "\n",
       "                                                 song_url  \\\n",
       "192022  https://www.hooktheory.com/theorytab/view/ritc...   \n",
       "\n",
       "                                     md5 ht_key midi_title    genres  \\\n",
       "192022  aeee134e4034e5f98bb630c56d2f7f8c      C   La Bamba  Pop,Rock   \n",
       "\n",
       "              source         artist  mxl  \\\n",
       "192022  hooktheory_c  ritchie-valen  NaN   \n",
       "\n",
       "                                                    numpy  \n",
       "192022  s2s_encode/hooktheory/pianoroll/r/ritchie-vale...  "
      ]
     },
     "execution_count": 34,
     "metadata": {},
     "output_type": "execute_result"
    }
   ],
   "source": [
    "csv_path = base_path/f's2s_encode/s2s_encode.csv'\n",
    "csv = pd.read_csv(csv_path)\n",
    "df = csv.loc[csv['numpy'].notna()];\n",
    "\n",
    "# keywords = 'la bamba'.replace(' ', '|')\n",
    "title_filter = df['title'].str.contains('la-bamba')==True\n",
    "artist_filter = df['artist'].str.contains('')==True\n",
    "results = df[title_filter & artist_filter]; results.head()\n",
    "results = results[results.source == 'hooktheory_c']; results.head()"
   ]
  },
  {
   "cell_type": "code",
   "execution_count": 35,
   "metadata": {},
   "outputs": [
    {
     "data": {
      "text/plain": [
       "(PosixPath('../../data/midi/v15/s2s_encode/hooktheory/pianoroll/r/ritchie-valen/la-bamba/chorus_key_cmajor.npy'),\n",
       " PosixPath('../../data/midi/v15/midi_sources/hooktheory/pianoroll/r/ritchie-valen/la-bamba/chorus_key_cmajor.mid'))"
      ]
     },
     "execution_count": 35,
     "metadata": {},
     "output_type": "execute_result"
    }
   ],
   "source": [
    "idx = 0\n",
    "file = base_path/results.numpy.values[idx];\n",
    "orig = base_path/results.midi.values[idx];\n",
    "file, orig"
   ]
  },
  {
   "cell_type": "code",
   "execution_count": 37,
   "metadata": {},
   "outputs": [],
   "source": [
    "melody_np, chord_np = np.load(file, allow_pickle=True)"
   ]
  },
  {
   "cell_type": "code",
   "execution_count": 39,
   "metadata": {},
   "outputs": [
    {
     "data": {
      "image/png": "[encoded data removed]",
      "text/plain": [
       "<IPython.core.display.Image object>"
      ]
     },
     "metadata": {
      "image/png": {
       "height": 184,
       "width": 751
      }
     },
     "output_type": "display_data"
    }
   ],
   "source": [
    "npenc2stream(melody_np).show()"
   ]
  },
  {
   "cell_type": "code",
   "execution_count": null,
   "metadata": {},
   "outputs": [],
   "source": [
    "\n",
    "class S2SPreloader(Callback):\n",
    "    def __init__(self, dataset:LabelList, bptt:int=512, y_offset=1, **kwargs):\n",
    "        # y_offset = extra padding for translation\n",
    "        self.dataset,self.bptt = dataset,bptt\n",
    "        self.vocab = vocab\n",
    "        self.y_offset = y_offset\n",
    "        self.single_tfm = partial(to_single_stream, vocab=vocab)\n",
    "        self.transpose_tfm = partial(rand_transpose_tfm, note_range=vocab.note_range, rand_range=(0,12))\n",
    "    \n",
    "    def __getitem__(self, k:int):\n",
    "        item,_ = self.dataset[k]\n",
    "        x,y = item\n",
    "        \n",
    "        melody_meta = np.array([self.vocab.stoi[MSEQ], self.vocab.stoi[avg_tempo(x)]]) # pad should be average notes - tempo\n",
    "        chord_meta = np.array([self.vocab.stoi[CSEQ], self.vocab.stoi[avg_tempo(y)]])\n",
    "        x = self.single_tfm(x, start_seq=melody_meta)\n",
    "        y = self.single_tfm(y, start_seq=chord_meta)\n",
    "        \n",
    "        x,y = self.transpose_tfm((x,y))\n",
    "        if random.randint(0,1) == 1: x,y = y,x # switch translation order around\n",
    "        \n",
    "        x = np.pad(x, (0,max(0,self.bptt-len(x))), 'constant', constant_values=vocab.pad_idx)[:self.bptt]\n",
    "        y = np.pad(y, (self.y_offset,max(0,self.bptt-len(y))), 'constant', constant_values=(vocab.stoi[CLS], vocab.pad_idx))[:self.bptt+self.y_offset]\n",
    "        return x, y\n",
    "    \n",
    "    def __len__(self):\n",
    "        return len(self.dataset)"
   ]
  },
  {
   "cell_type": "code",
   "execution_count": 79,
   "metadata": {},
   "outputs": [],
   "source": [
    "def partenc2seq2seq(part_np, part_type=MSEQ, vocab=vocab, bptt=512, translate=False):\n",
    "    part_meta = np.array([vocab.stoi[part_type], vocab.stoi[avg_tempo(chord_np)]])\n",
    "    yb = to_single_stream(chord_np, start_seq=part_meta)\n",
    "    if translate:\n",
    "        yb = np.pad(yb, (1,bptt), 'constant', constant_values=(vocab.stoi[CLS], vocab.pad_idx))[:bptt]\n",
    "    else:\n",
    "        yb = np.pad(yb, (0,bptt), 'constant', constant_values=vocab.pad_idx)[:bptt]\n",
    "    return yb"
   ]
  },
  {
   "cell_type": "code",
   "execution_count": 80,
   "metadata": {},
   "outputs": [],
   "source": [
    "mpart = partenc2seq2seq(melody_np)"
   ]
  },
  {
   "cell_type": "code",
   "execution_count": 81,
   "metadata": {},
   "outputs": [],
   "source": [
    "cpart = partenc2seq2seq(chord_np, translate=True)"
   ]
  },
  {
   "cell_type": "code",
   "execution_count": 87,
   "metadata": {},
   "outputs": [
    {
     "data": {
      "text/plain": [
       "array([  6, 273,   8, 156, ...,   1,   1,   1,   1])"
      ]
     },
     "execution_count": 87,
     "metadata": {},
     "output_type": "execute_result"
    }
   ],
   "source": [
    "xb = mpart; xb"
   ]
  },
  {
   "cell_type": "code",
   "execution_count": 88,
   "metadata": {},
   "outputs": [
    {
     "data": {
      "text/plain": [
       "array([  3,   6, 273,   8, ...,   1,   1,   1,   1])"
      ]
     },
     "execution_count": 88,
     "metadata": {},
     "output_type": "execute_result"
    }
   ],
   "source": [
    "yb = cpart; yb"
   ]
  },
  {
   "cell_type": "code",
   "execution_count": 89,
   "metadata": {},
   "outputs": [
    {
     "data": {
      "text/plain": [
       "((512,), (512,))"
      ]
     },
     "execution_count": 89,
     "metadata": {},
     "output_type": "execute_result"
    }
   ],
   "source": [
    "xb.shape, yb.shape"
   ]
  },
  {
   "cell_type": "code",
   "execution_count": 90,
   "metadata": {},
   "outputs": [],
   "source": [
    "xb = torch.tensor(xb)[None].cuda()\n",
    "yb = torch.tensor(yb)[None].cuda()"
   ]
  },
  {
   "cell_type": "code",
   "execution_count": null,
   "metadata": {},
   "outputs": [],
   "source": [
    "learn.model.update_mem_len()"
   ]
  },
  {
   "cell_type": "code",
   "execution_count": 121,
   "metadata": {},
   "outputs": [],
   "source": [
    "\n",
    "def predict_s2s(self, xb:Tensor, yb:Tensor, n_words:int=128):\n",
    "    if xb.shape[0] > 1: xb = xb[0][None]\n",
    "#     seed = xb.cpu().numpy().squeeze()\n",
    "    yb_seed = yb[:, :3]\n",
    "#     new_idx = []\n",
    "#     self.mask = False\n",
    "    self.model.reset()\n",
    "    self.model.update_mem_len(TaskType.Seq2Seq.value)\n",
    "\n",
    "    for i in progress_bar(range(n_words), leave=True):\n",
    "#         print(xb)\n",
    "        task_type = torch.full_like(xb, TaskType.Seq2Seq.value)\n",
    "        pad = xb.shape[-1]-yb_seed.shape[-1]\n",
    "        yb_inp = F.pad(yb_seed, (0,pad), value=vocab.pad_idx)\n",
    "        # Masking last - bert\n",
    "#         mask_last = torch.cat((xb, torch.tensor(vocab.mask_idx, device=xb.device).view(1, 1)), dim=-1)\n",
    "#         res = self.pred_batch(batch=((mask_last,task_type,mask_last),(yb)))[0][0, -1] # task1, task2 - (bs x ts x vocab)\n",
    "        \n",
    "        # Next Word\n",
    "        idx = yb_seed.shape[-1]\n",
    "        res = self.pred_batch(batch=((xb,task_type,yb_inp),yb_inp))[-1][0, idx] # task1, task2 - (bs x ts x vocab)\n",
    "\n",
    "        # Encoder only - nw\n",
    "#         res = self.pred_batch(batch=((xb,task_type,xb),xb))[0][0, -1] # task1, task2 - (bs x ts x vocab)\n",
    "\n",
    "        # Use first temperatures value if last prediction was duration\n",
    "        res.pow_(1 / (0.5))\n",
    "\n",
    "        idx = torch.multinomial(res, 1).item()\n",
    "    \n",
    "#         new_idx.append(idx)\n",
    "        t_idx = torch.tensor(idx, device=xb.device).view(1, 1)\n",
    "        yb_seed = torch.cat((yb_seed, t_idx), dim=-1)\n",
    "#         xb = xb.new_tensor([idx])[None]\n",
    "        \n",
    "#     self.mask = True\n",
    "    return yb_seed\n"
   ]
  },
  {
   "cell_type": "code",
   "execution_count": 141,
   "metadata": {},
   "outputs": [],
   "source": [
    "task_type = torch.full_like(xb, TaskType.Seq2Seq.value)\n",
    "res = learn.pred_batch(batch=((xb,task_type,yb),yb))"
   ]
  },
  {
   "cell_type": "code",
   "execution_count": 142,
   "metadata": {},
   "outputs": [
    {
     "data": {
      "image/png": "[encoded data removed]",
      "text/plain": [
       "<IPython.core.display.Image object>"
      ]
     },
     "metadata": {
      "image/png": {
       "height": 232,
       "width": 753
      }
     },
     "output_type": "display_data"
    }
   ],
   "source": [
    "z = res[-1].argmax(1)\n",
    "z_str = to_double_stream(z.cpu().numpy()[:,:])\n",
    "npenc2stream(z_str).show()"
   ]
  },
  {
   "cell_type": "code",
   "execution_count": 143,
   "metadata": {},
   "outputs": [
    {
     "data": {
      "text/plain": [
       "tensor([[  0, 145,   1,   0, 149,   0,   0,   1,  26, 145, 454,   1, 454,   1,\n",
       "           0,   1,   1,   1,   1, 454,   1, 145, 454, 145,   1,   1,   1, 145,\n",
       "         145,   1,   1,   1,   1, 145, 145, 145,   0,   1, 454, 454,   1, 503,\n",
       "         503, 454, 503, 510, 510, 146, 146, 146,   1, 140, 120, 138, 138,   1,\n",
       "          54,   8, 144, 116, 144,  38,  48, 142, 132, 142,  46,   1, 140,  12,\n",
       "         511, 140,   1, 140, 511, 511, 140, 357, 511,   1, 511, 140, 147, 148,\n",
       "           1, 357,   0, 511, 148, 357, 511,   1, 511, 140, 357, 511,   1, 511,\n",
       "         503, 510, 503, 503, 510, 503, 504, 503, 510, 510, 503, 455, 503, 454,\n",
       "         454, 454, 145, 454,   1,   1, 454, 145,   1,   0,   1,   1, 454,   1,\n",
       "         145, 145,   1,   1,   1,   1, 454,   1, 145,   1, 454,   1, 145,   1,\n",
       "           3, 141,   3, 141,   0, 141,   3, 119, 141, 141,   0,   1, 141, 141,\n",
       "           3, 141,   3, 141, 141,   1,   0, 141,   0,   0, 141, 141, 141, 141,\n",
       "           0, 141,   0, 141,   1, 141,   1,   1,   0,   1, 145, 141,   0, 143,\n",
       "         145, 143, 145, 143, 145,   1,   1, 141, 454, 143, 145, 143,   0, 141,\n",
       "           1,   0, 145, 141,   1, 145, 145, 143, 141,   1,   1, 145,   1, 145,\n",
       "           1,   1, 145, 145, 145, 145, 454,   1,   1, 143, 145,   1,   1,   1,\n",
       "           0, 151, 454,   1,   1, 145, 151, 145,   1,   1,   1,   1, 145,   1,\n",
       "           1, 145,   1,   0,   1,   1,   1,   1,   1,   1,   1,   1,   1, 145,\n",
       "         145,   1,   1,   1, 145,   1,   1, 143, 145, 454, 454, 454,   1,   1,\n",
       "           1, 145,   1,   1,   1, 454,   1,   1]])"
      ]
     },
     "execution_count": 143,
     "metadata": {},
     "output_type": "execute_result"
    }
   ],
   "source": [
    "res[0].argmax(1)"
   ]
  },
  {
   "cell_type": "code",
   "execution_count": 122,
   "metadata": {},
   "outputs": [],
   "source": [
    "yb_seed = yb[:,:3]\n",
    "pad = xb.shape[-1]-yb_seed.shape[-1]"
   ]
  },
  {
   "cell_type": "code",
   "execution_count": 123,
   "metadata": {},
   "outputs": [
    {
     "data": {
      "text/plain": [
       "torch.Size([1, 512])"
      ]
     },
     "execution_count": 123,
     "metadata": {},
     "output_type": "execute_result"
    }
   ],
   "source": [
    "xb.shape"
   ]
  },
  {
   "cell_type": "code",
   "execution_count": 124,
   "metadata": {},
   "outputs": [
    {
     "data": {
      "text/plain": [
       "torch.Size([1, 512])"
      ]
     },
     "execution_count": 124,
     "metadata": {},
     "output_type": "execute_result"
    }
   ],
   "source": [
    "yb.shape"
   ]
  },
  {
   "cell_type": "code",
   "execution_count": 125,
   "metadata": {},
   "outputs": [],
   "source": [
    "yb_inp = F.pad(yb_seed, (0,pad), value=vocab.pad_idx)"
   ]
  },
  {
   "cell_type": "code",
   "execution_count": 126,
   "metadata": {},
   "outputs": [
    {
     "data": {
      "text/plain": [
       "torch.Size([1, 512])"
      ]
     },
     "execution_count": 126,
     "metadata": {},
     "output_type": "execute_result"
    }
   ],
   "source": [
    "yb_inp.shape"
   ]
  },
  {
   "cell_type": "code",
   "execution_count": 127,
   "metadata": {},
   "outputs": [
    {
     "data": {
      "text/html": [
       "\n",
       "    <div>\n",
       "        <style>\n",
       "            /* Turns off some styling */\n",
       "            progress {\n",
       "                /* gets rid of default border in Firefox and Opera. */\n",
       "                border: none;\n",
       "                /* Needs to be in here for Safari polyfill so background images work as expected. */\n",
       "                background-size: auto;\n",
       "            }\n",
       "            .progress-bar-interrupted, .progress-bar-interrupted::-webkit-progress-bar {\n",
       "                background: #F44336;\n",
       "            }\n",
       "        </style>\n",
       "      <progress value='128' class='' max='128', style='width:300px; height:20px; vertical-align: middle;'></progress>\n",
       "      100.00% [128/128 00:06<00:00]\n",
       "    </div>\n",
       "    "
      ],
      "text/plain": [
       "<IPython.core.display.HTML object>"
      ]
     },
     "metadata": {},
     "output_type": "display_data"
    }
   ],
   "source": [
    "yb_out = predict_s2s(learn, xb, yb)"
   ]
  },
  {
   "cell_type": "code",
   "execution_count": 130,
   "metadata": {},
   "outputs": [
    {
     "data": {
      "text/plain": [
       "tensor([[  3,   6, 273,   8, 141,   8,   8,   8, 141,   8,   8,   8,   8,   8,\n",
       "           8,   8,   8,   8,   8,   8,   8,   8,   8,   8,   8,   8,   8,   8,\n",
       "           8,   8,   8,   8, 141,   8,   8,   8,   8,   8, 141, 141, 145, 141,\n",
       "           8,   8, 141, 141, 141,   8, 141,   8,   8,   8, 141,   8,   8,  61,\n",
       "           8,   8,   8,   8,   8,   8,   8,   8,   8,   8,   8, 141,   8, 141,\n",
       "           8, 141,   8,   8,   8,   8, 141, 141,   8, 141,   8,   8,   8, 141,\n",
       "         141, 141,   8,   8,   8,   8,   8, 141,   8,   8,   8, 141,   8,   8,\n",
       "           8,   8,   8, 141, 141,   8,   8,   8, 141,   8,   8, 140,   8,   8,\n",
       "           8,   8,   8, 141,   8,   8,   8,   8,   8,   8, 141,   8,   8,   8,\n",
       "         141,   8,   8, 141,   8]], device='cuda:0')"
      ]
     },
     "execution_count": 130,
     "metadata": {},
     "output_type": "execute_result"
    }
   ],
   "source": [
    "yb_out"
   ]
  },
  {
   "cell_type": "code",
   "execution_count": 128,
   "metadata": {},
   "outputs": [],
   "source": [
    "yb_test = to_double_stream(yb_out.cpu().numpy()[:,1:])"
   ]
  },
  {
   "cell_type": "code",
   "execution_count": 129,
   "metadata": {},
   "outputs": [
    {
     "data": {
      "image/png": "[encoded data removed]",
      "text/plain": [
       "<IPython.core.display.Image object>"
      ]
     },
     "metadata": {
      "image/png": {
       "height": 103,
       "width": 242
      }
     },
     "output_type": "display_data"
    }
   ],
   "source": [
    "npenc2stream(yb_test).show()"
   ]
  },
  {
   "cell_type": "code",
   "execution_count": null,
   "metadata": {},
   "outputs": [],
   "source": []
  }
 ],
 "metadata": {
  "kernelspec": {
   "display_name": "Python 3",
   "language": "python",
   "name": "python3"
  },
  "language_info": {
   "codemirror_mode": {
    "name": "ipython",
    "version": 3
   },
   "file_extension": ".py",
   "mimetype": "text/x-python",
   "name": "python",
   "nbconvert_exporter": "python",
   "pygments_lexer": "ipython3",
   "version": "3.7.3"
  }
 },
 "nbformat": 4,
 "nbformat_minor": 2
}

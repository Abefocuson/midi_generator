{
 "cells": [
  {
   "cell_type": "markdown",
   "metadata": {},
   "source": [
    "# Tokenize and save data"
   ]
  },
  {
   "cell_type": "code",
   "execution_count": 1,
   "metadata": {},
   "outputs": [],
   "source": [
    "%reload_ext autoreload\n",
    "%autoreload 2\n",
    "%matplotlib inline"
   ]
  },
  {
   "cell_type": "code",
   "execution_count": 2,
   "metadata": {},
   "outputs": [
    {
     "name": "stdout",
     "output_type": "stream",
     "text": [
      "Failed to load FluidSynth. Must install if you want to convert to wav files.\n"
     ]
    }
   ],
   "source": [
    "import sys\n",
    "sys.path.insert(0, '../..')\n",
    "from src.encode_data import *\n",
    "# from src.fastai_data import *"
   ]
  },
  {
   "cell_type": "code",
   "execution_count": 3,
   "metadata": {},
   "outputs": [],
   "source": [
    "import pandas as pd\n",
    "import numpy as np"
   ]
  },
  {
   "cell_type": "code",
   "execution_count": 4,
   "metadata": {},
   "outputs": [],
   "source": [
    "from fastai.text import *"
   ]
  },
  {
   "cell_type": "code",
   "execution_count": 5,
   "metadata": {},
   "outputs": [],
   "source": [
    "from fastai.text import data"
   ]
  },
  {
   "cell_type": "markdown",
   "metadata": {},
   "source": [
    "## Preparing the data"
   ]
  },
  {
   "cell_type": "code",
   "execution_count": 8,
   "metadata": {},
   "outputs": [
    {
     "data": {
      "text/plain": [
       "[PosixPath('data/midi/v10/midi_sources'),\n",
       " PosixPath('data/midi/v10/midi_encode'),\n",
       " PosixPath('data/midi/v10/metadata')]"
      ]
     },
     "execution_count": 8,
     "metadata": {},
     "output_type": "execute_result"
    }
   ],
   "source": [
    "# version = 'v13'\n",
    "version = 'v10'\n",
    "data_path = Path('data/midi')\n",
    "version_path = data_path/version\n",
    "source_dir = 'midi_encode'\n",
    "# source_dir = 'piano_duet'\n",
    "out_path = version_path/source_dir\n",
    "csv_path = out_path/f'{source_dir}.csv'\n",
    "version_path.ls()"
   ]
  },
  {
   "cell_type": "code",
   "execution_count": 9,
   "metadata": {},
   "outputs": [
    {
     "name": "stderr",
     "output_type": "stream",
     "text": [
      "/Users/andrewshaw/miniconda3/envs/midi/lib/python3.7/site-packages/IPython/core/interactiveshell.py:3049: DtypeWarning: Columns (4,8,9,10,11,12) have mixed types. Specify dtype option on import or set low_memory=False.\n",
      "  interactivity=interactivity, compiler=compiler, result=result)\n"
     ]
    }
   ],
   "source": [
    "csv = pd.read_csv(csv_path)\n",
    "csv = csv.loc[csv['numpy'].notna()];"
   ]
  },
  {
   "cell_type": "code",
   "execution_count": 10,
   "metadata": {},
   "outputs": [],
   "source": [
    "def get_files(csv, limit=1000):\n",
    "    files = csv['numpy']\n",
    "    flist = [Path(version_path/f) for f in files.values[:1000]]\n",
    "    flist = [f for f in flist if f.exists()]\n",
    "    return flist"
   ]
  },
  {
   "cell_type": "code",
   "execution_count": 11,
   "metadata": {},
   "outputs": [
    {
     "data": {
      "text/plain": [
       "PosixPath('data/midi/v10')"
      ]
     },
     "execution_count": 11,
     "metadata": {},
     "output_type": "execute_result"
    }
   ],
   "source": [
    "version_path"
   ]
  },
  {
   "cell_type": "markdown",
   "metadata": {},
   "source": [
    "### Create All Dataset"
   ]
  },
  {
   "cell_type": "code",
   "execution_count": 12,
   "metadata": {},
   "outputs": [
    {
     "data": {
      "text/html": [
       "<div>\n",
       "<style scoped>\n",
       "    .dataframe tbody tr th:only-of-type {\n",
       "        vertical-align: middle;\n",
       "    }\n",
       "\n",
       "    .dataframe tbody tr th {\n",
       "        vertical-align: top;\n",
       "    }\n",
       "\n",
       "    .dataframe thead th {\n",
       "        text-align: right;\n",
       "    }\n",
       "</style>\n",
       "<table border=\"1\" class=\"dataframe\">\n",
       "  <thead>\n",
       "    <tr style=\"text-align: right;\">\n",
       "      <th></th>\n",
       "      <th>ht_bpm</th>\n",
       "      <th>md5</th>\n",
       "      <th>numpy</th>\n",
       "      <th>ht_time_signature</th>\n",
       "      <th>midi_title</th>\n",
       "      <th>source</th>\n",
       "      <th>artist</th>\n",
       "      <th>ht_offset</th>\n",
       "      <th>section</th>\n",
       "      <th>song_url</th>\n",
       "      <th>mxl</th>\n",
       "      <th>ht_key</th>\n",
       "      <th>parts</th>\n",
       "      <th>title</th>\n",
       "      <th>genres</th>\n",
       "      <th>midi</th>\n",
       "      <th>ht_mode</th>\n",
       "    </tr>\n",
       "  </thead>\n",
       "  <tbody>\n",
       "    <tr>\n",
       "      <th>0</th>\n",
       "      <td>128.0</td>\n",
       "      <td>bf1f29e5ff84e3e93e37fb873bfb590e</td>\n",
       "      <td>midi_encode/hooktheory/pianoroll/w/wayne-sharp...</td>\n",
       "      <td>4.0</td>\n",
       "      <td>yu-gi-oh3</td>\n",
       "      <td>hooktheory</td>\n",
       "      <td>wayne-sharpe</td>\n",
       "      <td>0.0</td>\n",
       "      <td>chorus</td>\n",
       "      <td>https://www.hooktheory.com/theorytab/view/wayn...</td>\n",
       "      <td>NaN</td>\n",
       "      <td>C</td>\n",
       "      <td>intro,chorus</td>\n",
       "      <td>yu-gi-oh-theme-song</td>\n",
       "      <td>NaN</td>\n",
       "      <td>midi_sources/hooktheory/pianoroll/w/wayne-shar...</td>\n",
       "      <td>1.0</td>\n",
       "    </tr>\n",
       "    <tr>\n",
       "      <th>1</th>\n",
       "      <td>85.0</td>\n",
       "      <td>055f80ad67f64edb14a85ca8fbfe8c29</td>\n",
       "      <td>midi_encode/hooktheory/pianoroll/w/wayne-sharp...</td>\n",
       "      <td>3.0</td>\n",
       "      <td>yu-gi-oh</td>\n",
       "      <td>hooktheory</td>\n",
       "      <td>wayne-sharpe</td>\n",
       "      <td>0.0</td>\n",
       "      <td>intro</td>\n",
       "      <td>https://www.hooktheory.com/theorytab/view/wayn...</td>\n",
       "      <td>NaN</td>\n",
       "      <td>C</td>\n",
       "      <td>intro,chorus</td>\n",
       "      <td>yu-gi-oh-theme-song</td>\n",
       "      <td>NaN</td>\n",
       "      <td>midi_sources/hooktheory/pianoroll/w/wayne-shar...</td>\n",
       "      <td>1.0</td>\n",
       "    </tr>\n",
       "    <tr>\n",
       "      <th>2</th>\n",
       "      <td>96.0</td>\n",
       "      <td>197f96f5d181f6ce1e2c5ab04ac1ff87</td>\n",
       "      <td>midi_encode/hooktheory/pianoroll/w/what-a-day/...</td>\n",
       "      <td>4.0</td>\n",
       "      <td>kiefer</td>\n",
       "      <td>hooktheory</td>\n",
       "      <td>what-a-day</td>\n",
       "      <td>-5.0</td>\n",
       "      <td>chorus</td>\n",
       "      <td>https://www.hooktheory.com/theorytab/view/what...</td>\n",
       "      <td>NaN</td>\n",
       "      <td>D</td>\n",
       "      <td>chorus</td>\n",
       "      <td>kiefer</td>\n",
       "      <td>Jazz</td>\n",
       "      <td>midi_sources/hooktheory/pianoroll/w/what-a-day...</td>\n",
       "      <td>6.0</td>\n",
       "    </tr>\n",
       "    <tr>\n",
       "      <th>3</th>\n",
       "      <td>152.0</td>\n",
       "      <td>9e7ce13a35f1314423a9a6d5a5287a4a</td>\n",
       "      <td>midi_encode/hooktheory/pianoroll/w/whiteflame/...</td>\n",
       "      <td>4.0</td>\n",
       "      <td>senbonzakura - pre-Pre-Chorus</td>\n",
       "      <td>hooktheory</td>\n",
       "      <td>whiteflame</td>\n",
       "      <td>-5.0</td>\n",
       "      <td>pre-chorus</td>\n",
       "      <td>https://www.hooktheory.com/theorytab/view/whit...</td>\n",
       "      <td>NaN</td>\n",
       "      <td>D</td>\n",
       "      <td>verse,pre-chorus,chorus</td>\n",
       "      <td>senbonzakura</td>\n",
       "      <td>J-Pop,Pop</td>\n",
       "      <td>midi_sources/hooktheory/pianoroll/w/whiteflame...</td>\n",
       "      <td>6.0</td>\n",
       "    </tr>\n",
       "    <tr>\n",
       "      <th>4</th>\n",
       "      <td>152.0</td>\n",
       "      <td>d5aaf79d0989222f1362f9f46c540a27</td>\n",
       "      <td>midi_encode/hooktheory/pianoroll/w/whiteflame/...</td>\n",
       "      <td>4.0</td>\n",
       "      <td>Senbonzakura</td>\n",
       "      <td>hooktheory</td>\n",
       "      <td>whiteflame</td>\n",
       "      <td>-5.0</td>\n",
       "      <td>verse</td>\n",
       "      <td>https://www.hooktheory.com/theorytab/view/whit...</td>\n",
       "      <td>NaN</td>\n",
       "      <td>D</td>\n",
       "      <td>verse,pre-chorus,chorus</td>\n",
       "      <td>senbonzakura</td>\n",
       "      <td>J-Pop,Pop</td>\n",
       "      <td>midi_sources/hooktheory/pianoroll/w/whiteflame...</td>\n",
       "      <td>6.0</td>\n",
       "    </tr>\n",
       "  </tbody>\n",
       "</table>\n",
       "</div>"
      ],
      "text/plain": [
       "   ht_bpm                               md5  \\\n",
       "0   128.0  bf1f29e5ff84e3e93e37fb873bfb590e   \n",
       "1    85.0  055f80ad67f64edb14a85ca8fbfe8c29   \n",
       "2    96.0  197f96f5d181f6ce1e2c5ab04ac1ff87   \n",
       "3   152.0  9e7ce13a35f1314423a9a6d5a5287a4a   \n",
       "4   152.0  d5aaf79d0989222f1362f9f46c540a27   \n",
       "\n",
       "                                               numpy  ht_time_signature  \\\n",
       "0  midi_encode/hooktheory/pianoroll/w/wayne-sharp...                4.0   \n",
       "1  midi_encode/hooktheory/pianoroll/w/wayne-sharp...                3.0   \n",
       "2  midi_encode/hooktheory/pianoroll/w/what-a-day/...                4.0   \n",
       "3  midi_encode/hooktheory/pianoroll/w/whiteflame/...                4.0   \n",
       "4  midi_encode/hooktheory/pianoroll/w/whiteflame/...                4.0   \n",
       "\n",
       "                      midi_title      source        artist  ht_offset  \\\n",
       "0                      yu-gi-oh3  hooktheory  wayne-sharpe        0.0   \n",
       "1                       yu-gi-oh  hooktheory  wayne-sharpe        0.0   \n",
       "2                         kiefer  hooktheory    what-a-day       -5.0   \n",
       "3  senbonzakura - pre-Pre-Chorus  hooktheory    whiteflame       -5.0   \n",
       "4                   Senbonzakura  hooktheory    whiteflame       -5.0   \n",
       "\n",
       "      section                                           song_url  mxl ht_key  \\\n",
       "0      chorus  https://www.hooktheory.com/theorytab/view/wayn...  NaN      C   \n",
       "1       intro  https://www.hooktheory.com/theorytab/view/wayn...  NaN      C   \n",
       "2      chorus  https://www.hooktheory.com/theorytab/view/what...  NaN      D   \n",
       "3  pre-chorus  https://www.hooktheory.com/theorytab/view/whit...  NaN      D   \n",
       "4       verse  https://www.hooktheory.com/theorytab/view/whit...  NaN      D   \n",
       "\n",
       "                     parts                title     genres  \\\n",
       "0             intro,chorus  yu-gi-oh-theme-song        NaN   \n",
       "1             intro,chorus  yu-gi-oh-theme-song        NaN   \n",
       "2                   chorus               kiefer       Jazz   \n",
       "3  verse,pre-chorus,chorus         senbonzakura  J-Pop,Pop   \n",
       "4  verse,pre-chorus,chorus         senbonzakura  J-Pop,Pop   \n",
       "\n",
       "                                                midi  ht_mode  \n",
       "0  midi_sources/hooktheory/pianoroll/w/wayne-shar...      1.0  \n",
       "1  midi_sources/hooktheory/pianoroll/w/wayne-shar...      1.0  \n",
       "2  midi_sources/hooktheory/pianoroll/w/what-a-day...      6.0  \n",
       "3  midi_sources/hooktheory/pianoroll/w/whiteflame...      6.0  \n",
       "4  midi_sources/hooktheory/pianoroll/w/whiteflame...      6.0  "
      ]
     },
     "execution_count": 12,
     "metadata": {},
     "output_type": "execute_result"
    }
   ],
   "source": [
    "csv.head()"
   ]
  },
  {
   "cell_type": "code",
   "execution_count": 13,
   "metadata": {},
   "outputs": [
    {
     "data": {
      "text/plain": [
       "(174994, 17)"
      ]
     },
     "execution_count": 13,
     "metadata": {},
     "output_type": "execute_result"
    }
   ],
   "source": [
    "csv.shape"
   ]
  },
  {
   "cell_type": "code",
   "execution_count": 13,
   "metadata": {},
   "outputs": [],
   "source": [
    "# all_files = get_files(csv)\n",
    "# all_data = create_databunch(all_files, cache_name='tmp/all', load_cached=True)"
   ]
  },
  {
   "cell_type": "markdown",
   "metadata": {},
   "source": [
    "### fastai_data"
   ]
  },
  {
   "cell_type": "code",
   "execution_count": 235,
   "metadata": {},
   "outputs": [],
   "source": [
    "BOS = 'bos'\n",
    "PAD = 'pad'\n",
    "EOS = 'eos'\n",
    "CLS = 'cls'\n",
    "MASK = 'mask'\n",
    "CSEQ = 'cseq'\n",
    "MSEQ = 'mseq'\n",
    "FSEQ = 'fseq'\n",
    "\n",
    "SPECIAL_TOKS = [BOS, PAD, EOS, CLS, MASK, CSEQ, MSEQ, FSEQ]\n",
    "\n",
    "SEP = 'n0'\n",
    "NOFF = 'n0'\n",
    "DOFF = 'd0'\n",
    "\n",
    "# single stream instead of note,dur\n",
    "def to_single_stream(t, vocab):\n",
    "    t = t.copy()\n",
    "    t[:, 0] = t[:, 0] + vocab.stoi[NOFF]\n",
    "    t[:, 1] = t[:, 1] + vocab.stoi[DOFF]\n",
    "    stream = t.reshape(-1)\n",
    "    bos_seq = np.array([vocab.stoi[BOS], vocab.stoi[PAD]])\n",
    "    return  np.contatenate([bos_seq, t.reshape(-1)])\n",
    "\n",
    "def to_double_stream(t, vocab):\n",
    "    t = t.copy().reshape(-1, 2)\n",
    "    t[:, 0] = t[:, 0] - vocab.stoi[NOFF]\n",
    "    t[:, 1] = t[:, 1] - vocab.stoi[DOFF]\n",
    "    return t\n",
    "\n",
    "class Vocab():\n",
    "    \"Contain the correspondence between numbers and tokens and numericalize.\"\n",
    "    def __init__(self, itos:Collection[str]):\n",
    "        self.itos = itos\n",
    "        self.stoi = collections.defaultdict(int,{v:k for k,v in enumerate(self.itos)})\n",
    "\n",
    "    def numericalize(self, t:Collection[str]) -> List[int]:\n",
    "        \"Convert a list of tokens `t` to their ids.\"\n",
    "        return [self.stoi[w] for w in t]\n",
    "\n",
    "    def textify(self, nums:Collection[int], sep=' ') -> List[str]:\n",
    "        \"Convert a list of `nums` to their tokens.\"\n",
    "        return sep.join([self.itos[i] for i in nums]) if sep is not None else [self.itos[i] for i in nums]\n",
    "\n",
    "    def __getstate__(self):\n",
    "        return {'itos':self.itos}\n",
    "\n",
    "    def __setstate__(self, state:dict):\n",
    "        self.itos = state['itos']\n",
    "        self.stoi = collections.defaultdict(int,{v:k for k,v in enumerate(self.itos)})\n",
    "\n",
    "    def save(self, path):\n",
    "        \"Save `self.itos` in `path`\"\n",
    "        pickle.dump(self.itos, open(path, 'wb'))\n",
    "\n",
    "    @classmethod\n",
    "    def create(cls) -> 'Vocab':\n",
    "        \"Create a vocabulary from a set of `tokens`.\"\n",
    "        note_range = 128\n",
    "        duration_range = 128\n",
    "        itos = SPECIAL_TOKS + [f'n{i}' for i in range(note_range)] + [f'd{i}' for i in range(duration_range)]\n",
    "        return cls(itos)\n",
    "    \n",
    "    @classmethod\n",
    "    def load(cls, path):\n",
    "        \"Load the `Vocab` contained in `path`\"\n",
    "        itos = pickle.load(open(path, 'rb'))\n",
    "        return cls(itos)\n"
   ]
  },
  {
   "cell_type": "code",
   "execution_count": 233,
   "metadata": {},
   "outputs": [],
   "source": [
    "vocab = Vocab.create()"
   ]
  },
  {
   "cell_type": "code",
   "execution_count": 23,
   "metadata": {},
   "outputs": [
    {
     "data": {
      "text/plain": [
       "['bos',\n",
       " 'pad',\n",
       " 'eos',\n",
       " 'cls',\n",
       " 'cseq',\n",
       " 'mseq',\n",
       " 'fseq',\n",
       " 'sep',\n",
       " 'n1',\n",
       " 'n2',\n",
       " 'n3',\n",
       " 'n4',\n",
       " 'n5',\n",
       " 'n6',\n",
       " 'n7',\n",
       " 'n8',\n",
       " 'n9',\n",
       " 'n10',\n",
       " 'n11',\n",
       " 'n12',\n",
       " 'n13',\n",
       " 'n14',\n",
       " 'n15',\n",
       " 'n16',\n",
       " 'n17',\n",
       " 'n18',\n",
       " 'n19',\n",
       " 'n20',\n",
       " 'n21',\n",
       " 'n22',\n",
       " 'n23',\n",
       " 'n24',\n",
       " 'n25',\n",
       " 'n26',\n",
       " 'n27',\n",
       " 'n28',\n",
       " 'n29',\n",
       " 'n30',\n",
       " 'n31',\n",
       " 'n32',\n",
       " 'n33',\n",
       " 'n34',\n",
       " 'n35',\n",
       " 'n36',\n",
       " 'n37',\n",
       " 'n38',\n",
       " 'n39',\n",
       " 'n40',\n",
       " 'n41',\n",
       " 'n42',\n",
       " 'n43',\n",
       " 'n44',\n",
       " 'n45',\n",
       " 'n46',\n",
       " 'n47',\n",
       " 'n48',\n",
       " 'n49',\n",
       " 'n50',\n",
       " 'n51',\n",
       " 'n52',\n",
       " 'n53',\n",
       " 'n54',\n",
       " 'n55',\n",
       " 'n56',\n",
       " 'n57',\n",
       " 'n58',\n",
       " 'n59',\n",
       " 'n60',\n",
       " 'n61',\n",
       " 'n62',\n",
       " 'n63',\n",
       " 'n64',\n",
       " 'n65',\n",
       " 'n66',\n",
       " 'n67',\n",
       " 'n68',\n",
       " 'n69',\n",
       " 'n70',\n",
       " 'n71',\n",
       " 'n72',\n",
       " 'n73',\n",
       " 'n74',\n",
       " 'n75',\n",
       " 'n76',\n",
       " 'n77',\n",
       " 'n78',\n",
       " 'n79',\n",
       " 'n80',\n",
       " 'n81',\n",
       " 'n82',\n",
       " 'n83',\n",
       " 'n84',\n",
       " 'n85',\n",
       " 'n86',\n",
       " 'n87',\n",
       " 'n88',\n",
       " 'n89',\n",
       " 'n90',\n",
       " 'n91',\n",
       " 'n92',\n",
       " 'n93',\n",
       " 'n94',\n",
       " 'n95',\n",
       " 'n96',\n",
       " 'n97',\n",
       " 'n98',\n",
       " 'n99',\n",
       " 'n100',\n",
       " 'n101',\n",
       " 'n102',\n",
       " 'n103',\n",
       " 'n104',\n",
       " 'n105',\n",
       " 'n106',\n",
       " 'n107',\n",
       " 'n108',\n",
       " 'n109',\n",
       " 'n110',\n",
       " 'n111',\n",
       " 'n112',\n",
       " 'n113',\n",
       " 'n114',\n",
       " 'n115',\n",
       " 'n116',\n",
       " 'n117',\n",
       " 'n118',\n",
       " 'n119',\n",
       " 'n120',\n",
       " 'n121',\n",
       " 'n122',\n",
       " 'n123',\n",
       " 'n124',\n",
       " 'n125',\n",
       " 'n126',\n",
       " 'n127',\n",
       " 'd0',\n",
       " 'd1',\n",
       " 'd2',\n",
       " 'd3',\n",
       " 'd4',\n",
       " 'd5',\n",
       " 'd6',\n",
       " 'd7',\n",
       " 'd8',\n",
       " 'd9',\n",
       " 'd10',\n",
       " 'd11',\n",
       " 'd12',\n",
       " 'd13',\n",
       " 'd14',\n",
       " 'd15',\n",
       " 'd16',\n",
       " 'd17',\n",
       " 'd18',\n",
       " 'd19',\n",
       " 'd20',\n",
       " 'd21',\n",
       " 'd22',\n",
       " 'd23',\n",
       " 'd24',\n",
       " 'd25',\n",
       " 'd26',\n",
       " 'd27',\n",
       " 'd28',\n",
       " 'd29',\n",
       " 'd30',\n",
       " 'd31',\n",
       " 'd32',\n",
       " 'd33',\n",
       " 'd34',\n",
       " 'd35',\n",
       " 'd36',\n",
       " 'd37',\n",
       " 'd38',\n",
       " 'd39',\n",
       " 'd40',\n",
       " 'd41',\n",
       " 'd42',\n",
       " 'd43',\n",
       " 'd44',\n",
       " 'd45',\n",
       " 'd46',\n",
       " 'd47',\n",
       " 'd48',\n",
       " 'd49',\n",
       " 'd50',\n",
       " 'd51',\n",
       " 'd52',\n",
       " 'd53',\n",
       " 'd54',\n",
       " 'd55',\n",
       " 'd56',\n",
       " 'd57',\n",
       " 'd58',\n",
       " 'd59',\n",
       " 'd60',\n",
       " 'd61',\n",
       " 'd62',\n",
       " 'd63',\n",
       " 'd64',\n",
       " 'd65',\n",
       " 'd66',\n",
       " 'd67',\n",
       " 'd68',\n",
       " 'd69',\n",
       " 'd70',\n",
       " 'd71',\n",
       " 'd72',\n",
       " 'd73',\n",
       " 'd74',\n",
       " 'd75',\n",
       " 'd76',\n",
       " 'd77',\n",
       " 'd78',\n",
       " 'd79',\n",
       " 'd80',\n",
       " 'd81',\n",
       " 'd82',\n",
       " 'd83',\n",
       " 'd84',\n",
       " 'd85',\n",
       " 'd86',\n",
       " 'd87',\n",
       " 'd88',\n",
       " 'd89',\n",
       " 'd90',\n",
       " 'd91',\n",
       " 'd92',\n",
       " 'd93',\n",
       " 'd94',\n",
       " 'd95',\n",
       " 'd96',\n",
       " 'd97',\n",
       " 'd98',\n",
       " 'd99',\n",
       " 'd100',\n",
       " 'd101',\n",
       " 'd102',\n",
       " 'd103',\n",
       " 'd104',\n",
       " 'd105',\n",
       " 'd106',\n",
       " 'd107',\n",
       " 'd108',\n",
       " 'd109',\n",
       " 'd110',\n",
       " 'd111',\n",
       " 'd112',\n",
       " 'd113',\n",
       " 'd114',\n",
       " 'd115',\n",
       " 'd116',\n",
       " 'd117',\n",
       " 'd118',\n",
       " 'd119',\n",
       " 'd120',\n",
       " 'd121',\n",
       " 'd122',\n",
       " 'd123',\n",
       " 'd124',\n",
       " 'd125',\n",
       " 'd126',\n",
       " 'd127']"
      ]
     },
     "execution_count": 23,
     "metadata": {},
     "output_type": "execute_result"
    }
   ],
   "source": [
    "v.itos"
   ]
  },
  {
   "cell_type": "code",
   "execution_count": 16,
   "metadata": {},
   "outputs": [],
   "source": [
    "\"Fast parallel databunch creation and special npencoding DataBunch\"\n",
    "from fastai.text import *\n",
    "from numbers import Integral\n",
    "from src.encode_data import npenc2seq\n",
    "\n",
    "## For npenc dataset\n",
    "\n",
    "def rand_transpose(t, enc_offset, rand_range=(0,24), p=0.5):\n",
    "    t = t.copy()\n",
    "    notes = t[...,0]\n",
    "    if np.random.rand() < p:\n",
    "        notes[notes >= enc_offset] += np.random.randint(*rand_range)-rand_range[1]//2\n",
    "    return t\n",
    "\n",
    "def rand_category(t, pad_idx, bos_idx, p=0.5):\n",
    "    t = t.copy()\n",
    "    if np.random.rand() < p:\n",
    "        assert(t[0,0] == bos_idx)\n",
    "        t[0,1] = pad_idx\n",
    "    return t\n",
    "\n",
    "# single stream instead of note,dur\n",
    "def to_single_stream(t, offset=130):\n",
    "    t = t.copy()\n",
    "    t[:, 1] = t[:, 1] + offset\n",
    "    return t.reshape(-1)\n",
    "\n",
    "def to_double_stream(t, offset=130):\n",
    "    t = t.copy().reshape(-1, 2)\n",
    "    t[:, 1] = t[:, 1] - offset\n",
    "    return t\n",
    "\n",
    "def create_vocab_sizes(cache_path):\n",
    "    max_vocab_file = cache_path/'max_vocab.npy'\n",
    "    if max_vocab_file.exists(): return np.load(max_vocab_file).tolist()\n",
    "    max_vocab = np.array(130, 150)\n",
    "    np.save(max_vocab_file, max_vocab)\n",
    "    return max_vocab.tolist()\n",
    "\n",
    "class OpenNPFileProcessor(PreProcessor):\n",
    "    \"`PreProcessor` that opens the filenames and read the texts.\"\n",
    "    def process_one(self,item):\n",
    "        return np.load(item, allow_pickle=True) if isinstance(item, Path) else item\n",
    "    \n",
    "class LMNPDataBunch(DataBunch):\n",
    "    \"Create a `TextDataBunch` suitable for training a language model.\"\n",
    "    @classmethod\n",
    "    def create(cls, train_ds, valid_ds, test_ds=None, path:PathOrStr='.', no_check:bool=False, bs=64, val_bs:int=None, \n",
    "               num_workers:int=0, device:torch.device=None, collate_fn:Callable=data_collate, \n",
    "               dl_tfms:Optional[Collection[Callable]]=None, bptt:int=70, backwards:bool=False, **kwargs) -> DataBunch:\n",
    "        \"Create a `TextDataBunch` in `path` from the `datasets` for language modelling.\"\n",
    "        datasets = cls._init_ds(train_ds, valid_ds, test_ds)\n",
    "        val_bs = ifnone(val_bs, bs)\n",
    "        datasets = [LMNPPreloader(ds, shuffle=(i==0), bs=(bs if i==0 else val_bs), bptt=bptt, backwards=backwards) \n",
    "                    for i,ds in enumerate(datasets)]\n",
    "        val_bs = bs\n",
    "        dls = [DataLoader(d, b, shuffle=False) for d,b in zip(datasets, (bs,val_bs,val_bs,val_bs)) if d is not None]\n",
    "        return cls(*dls, path=path, device=device, dl_tfms=dl_tfms, collate_fn=collate_fn, no_check=no_check)\n",
    "    \n",
    "    @classmethod    \n",
    "    def from_ids(cls, path:PathOrStr, train_ids:Collection[Collection[int]], valid_ids:Collection[Collection[int]],\n",
    "                 test_ids:Collection[Collection[int]]=None, train_lbls:Collection[Union[int,float]]=None,\n",
    "                 valid_lbls:Collection[Union[int,float]]=None, classes:Collection[Any]=None,\n",
    "                 processor:PreProcessor=None,\n",
    "                 train_tfms=None, valid_tfms=None,\n",
    "                 **kwargs) -> DataBunch:\n",
    "        \"Create a `TextDataBunch` from ids, labels and a `vocab`. `kwargs` are passed to the dataloader creation.\"\n",
    "        src = ItemLists(path, LMNPItemList(train_ids, path=path, processor=[], tfms=train_tfms),\n",
    "                        LMNPItemList(valid_ids, path=path, processor=[], tfms=valid_tfms))\n",
    "        src = src.label_const(label_cls=LMLabelList)\n",
    "        if not is1d(train_lbls): src.train.y.one_hot,src.valid.y.one_hot = True,True\n",
    "        return src.databunch(**kwargs)\n",
    "    \n",
    "    def save(self, cache_name:PathOrStr='tmp'):\n",
    "        \"Save the `DataBunch` in `self.path/cache_name` folder.\"\n",
    "        os.makedirs(self.path/cache_name, exist_ok=True)\n",
    "        cache_path = self.path/cache_name\n",
    "        np.save(cache_path/f'train_ids.npy', self.train_ds.x.items)\n",
    "        np.save(cache_path/f'train_lbl.npy', self.train_ds.y.items)\n",
    "        np.save(cache_path/f'valid_ids.npy', self.valid_ds.x.items)\n",
    "        np.save(cache_path/f'valid_lbl.npy', self.valid_ds.y.items)\n",
    "        if self.test_dl is not None: np.save(cache_path/f'test_ids.npy', self.test_ds.x.items)\n",
    "        if hasattr(self.train_ds, 'classes'): save_texts(cache_path/'classes.txt', self.train_ds.classes)\n",
    "\n",
    "    @classmethod\n",
    "    def load(cls, path:PathOrStr, cache_name:PathOrStr='tmp', processor:PreProcessor=None, **kwargs):\n",
    "        \"Load a `TextDataBunch` from `path/cache_name`. `kwargs` are passed to the dataloader creation.\"\n",
    "        cache_path = Path(path)/cache_name\n",
    "        train_ids,train_lbls = np.load(cache_path/f'train_ids.npy', allow_pickle=True), np.load(cache_path/f'train_lbl.npy', allow_pickle=True)\n",
    "        valid_ids,valid_lbls = np.load(cache_path/f'valid_ids.npy', allow_pickle=True), np.load(cache_path/f'valid_lbl.npy', allow_pickle=True)\n",
    "        test_ids = np.load(cache_path/f'test_ids.npy', allow_pickle=True) if os.path.isfile(cache_path/f'test_ids.npy') else None\n",
    "        classes = loadtxt_str(cache_path/'classes.txt') if os.path.isfile(cache_path/'classes.txt') else None\n",
    "        return cls.from_ids(path, train_ids, valid_ids, test_ids, train_lbls, valid_lbls, classes, processor, **kwargs)\n",
    "\n",
    "class LMNPItemList(ItemList):\n",
    "    _bunch = LMNPDataBunch\n",
    "    \n",
    "    def __init__(self, *args, tfms=None, **kwargs):\n",
    "        super().__init__(*args, **kwargs)\n",
    "        self.tfms = tfms or []\n",
    "        \n",
    "    def get(self, i)->Any:\n",
    "        item = self.items[i]\n",
    "        if self.tfms is None: return item\n",
    "        for tfm in self.tfms: item = tfm(item)\n",
    "        return item\n",
    "\n",
    "class LMNPPreloader(Callback):\n",
    "    \"Transforms the tokens in `dataset` to a stream of contiguous batches for language modelling.\"\n",
    "    \n",
    "    class CircularIndex():\n",
    "        \"Handles shuffle, direction of indexing, wraps around to head tail in the ragged array as needed\"\n",
    "        def __init__(self, length:int, forward:bool): self.idx, self.forward = np.arange(length), forward\n",
    "        def __getitem__(self, i): \n",
    "            return self.idx[ i%len(self.idx) if self.forward else len(self.idx)-1-i%len(self.idx)]\n",
    "        def __len__(self) -> int: return len(self.idx)\n",
    "        def shuffle(self): np.random.shuffle(self.idx)\n",
    "\n",
    "    def __init__(self, dataset:LabelList, lengths:Collection[int]=None, bs:int=32, bptt:int=70, backwards:bool=False, \n",
    "                 shuffle:bool=False, y_offset:int=1):\n",
    "        self.dataset,self.bs,self.bptt,self.shuffle,self.backwards,self.lengths = dataset,bs,bptt,shuffle,backwards,lengths\n",
    "        self.bs *= num_distrib() or 1\n",
    "        self.totalToks,self.ite_len,self.idx = int(0),None,None\n",
    "        self.y_offset = 1\n",
    "        self.allocate_buffers() # needed for valid_dl on distributed training - otherwise doesn't get initialized on first epoch\n",
    "\n",
    "    def __len__(self): \n",
    "        if self.ite_len is None:\n",
    "            if self.lengths is None: self.lengths = np.array([len(item) for item in self.dataset.x])\n",
    "            self.totalToks = self.lengths.sum()\n",
    "            self.ite_len   = self.bs*int( math.ceil( self.totalToks/(self.bptt*self.bs) )) if self.item is None else 1\n",
    "        return self.ite_len\n",
    "\n",
    "    def __getattr__(self,k:str)->Any: return getattr(self.dataset, k)\n",
    "   \n",
    "    def allocate_buffers(self):\n",
    "        \"Create the ragged array that will be filled when we ask for items.\"\n",
    "        if self.ite_len is None: len(self)\n",
    "        self.idx   = LMNPPreloader.CircularIndex(len(self.dataset.x), not self.backwards)\n",
    "        self.batch = np.zeros((self.bs, self.bptt+self.y_offset) + self.dataset.x[0].shape[1:], dtype=np.int64)\n",
    "        self.batch_x, self.batch_y = self.batch[:,0:self.bptt], self.batch[:,self.y_offset:self.bptt+self.y_offset] \n",
    "        #ro: index of the text we're at inside our datasets for the various batches\n",
    "        self.ro    = np.zeros(self.bs, dtype=np.int64)\n",
    "        #ri: index of the token we're at inside our current text for the various batches\n",
    "        self.ri    = np.zeros(self.bs, dtype=np.int)\n",
    "\n",
    "    def on_epoch_begin(self, **kwargs):\n",
    "        if self.idx is None: self.allocate_buffers()\n",
    "        elif self.shuffle:   self.idx.shuffle()\n",
    "        self.idx.forward = not self.backwards \n",
    "\n",
    "        step = self.totalToks / self.bs\n",
    "        ln_rag, countTokens, i_rag = 0, 0, -1\n",
    "        for i in range(0,self.bs):\n",
    "            #Compute the initial values for ro and ri \n",
    "            while ln_rag + countTokens <= int(step * i):\n",
    "                countTokens += ln_rag\n",
    "                i_rag       += 1\n",
    "                ln_rag       = self.lengths[self.idx[i_rag]]\n",
    "            self.ro[i] = i_rag\n",
    "            self.ri[i] = ( ln_rag - int(step * i - countTokens) ) if self.backwards else int(step * i - countTokens)\n",
    "        \n",
    "    #Training dl gets on_epoch_begin called, val_dl, on_epoch_end\n",
    "    def on_epoch_end(self, **kwargs): self.on_epoch_begin()\n",
    "\n",
    "    def __getitem__(self, k:int):\n",
    "        j = k % self.bs\n",
    "        if j==0:\n",
    "            if self.item is not None: return self.dataset[0]\n",
    "            if self.idx is None: self.on_epoch_begin()\n",
    "        self.ro[j],self.ri[j] = self.fill_row(not self.backwards, self.dataset.x, self.idx, self.batch[j], \n",
    "                                              self.ro[j], self.ri[j], overlap=1, lengths=self.lengths)\n",
    "        return self.batch_x[j], self.batch_y[j]\n",
    "\n",
    "    def fill_row(self, forward, items, idx, row, ro, ri, overlap, lengths):\n",
    "        \"Fill the row with tokens from the ragged array. --OBS-- overlap != 1 has not been implemented\"\n",
    "        ibuf = n = 0 \n",
    "        ro  -= 1\n",
    "        while ibuf < row.shape[0]:  \n",
    "            ro   += 1 \n",
    "            ix    = idx[ro]\n",
    "            rag   = items[ix]\n",
    "            if forward:\n",
    "                ri = 0 if ibuf else ri\n",
    "                n  = min(lengths[ix] - ri, row.shape[0] - ibuf)\n",
    "                row[ibuf:ibuf+n] = rag[ri:ri+n]\n",
    "            else:    \n",
    "                ri = lengths[ix] if ibuf else ri\n",
    "                n  = min(ri, row.size - ibuf) \n",
    "                row[ibuf:ibuf+n] = rag[ri-n:ri][::-1]\n",
    "            ibuf += n\n",
    "        return ro, ri + ((n-overlap) if forward else -(n-overlap))\n"
   ]
  },
  {
   "cell_type": "code",
   "execution_count": 27,
   "metadata": {},
   "outputs": [
    {
     "data": {
      "text/plain": [
       "170.66666666666666"
      ]
     },
     "execution_count": 27,
     "metadata": {},
     "output_type": "execute_result"
    }
   ],
   "source": [
    "512 / 3"
   ]
  },
  {
   "cell_type": "code",
   "execution_count": null,
   "metadata": {},
   "outputs": [],
   "source": [
    "512 / 2 -> 256\n",
    "512 / 3 -> 170\n",
    "512 / 4 -> 128\n"
   ]
  },
  {
   "cell_type": "code",
   "execution_count": 42,
   "metadata": {},
   "outputs": [
    {
     "data": {
      "text/plain": [
       "tensor([[ 0,  1,  2,  3,  4,  5,  6,  7,  8,  9, 10, 11, 12, 13, 14, 15, 16, 17,\n",
       "         18, 19],\n",
       "        [20, 21, 22, 23, 24, 25, 26, 27, 28, 29, 30, 31, 32, 33, 34, 35, 36, 37,\n",
       "         38, 39],\n",
       "        [40, 41, 42, 43, 44, 45, 46, 47, 48, 49, 50, 51, 52, 53, 54, 55, 56, 57,\n",
       "         58, 59],\n",
       "        [60, 61, 62, 63, 64, 65, 66, 67, 68, 69, 70, 71, 72, 73, 74, 75, 76, 77,\n",
       "         78, 79],\n",
       "        [80, 81, 82, 83, 84, 85, 86, 87, 88, 89, 90, 91, 92, 93, 94, 95, 96, 97,\n",
       "         98, 99]])"
      ]
     },
     "execution_count": 42,
     "metadata": {},
     "output_type": "execute_result"
    }
   ],
   "source": [
    "x = torch.arange(100).reshape(5,20); x"
   ]
  },
  {
   "cell_type": "code",
   "execution_count": 44,
   "metadata": {},
   "outputs": [
    {
     "data": {
      "text/plain": [
       "[0, 1, 2, 3, 4, 5, 6, 7, 8, 9]"
      ]
     },
     "execution_count": 44,
     "metadata": {},
     "output_type": "execute_result"
    }
   ],
   "source": [
    "list(range(10))"
   ]
  },
  {
   "cell_type": "code",
   "execution_count": 142,
   "metadata": {},
   "outputs": [
    {
     "data": {
      "text/plain": [
       "[(0, 3, 0, 98), (1, 7, 98, 247), (2, 2, 247, 394), (3, 5, 394, 512)]"
      ]
     },
     "execution_count": 142,
     "metadata": {},
     "output_type": "execute_result"
    }
   ],
   "source": [
    "s = 4\n",
    "bs,bptt = 8,512\n",
    "p1 = bptt // s\n",
    "\n",
    "bs_shift = (np.random.choice(bs-1,s, replace=False)+1).tolist()\n",
    "row_shift = [int(p1 + random.randint(-p1, p1)//s) for i in range(s)]\n",
    "\n",
    "accum = 0\n",
    "ranges = []\n",
    "for i in range(s):\n",
    "    end = accum + row_shift[i] if i < (s-1) else bptt\n",
    "    ranges.append((i, bs_shift[i], accum, end))\n",
    "    accum = end\n",
    "# out = [(i, (p1 + random.randint(-p1, p1)//2)) for i in range(1, s)]; out\n",
    "# swap = torch.zeros_like(x)\n",
    "# for i, idx in \n",
    "ranges"
   ]
  },
  {
   "cell_type": "code",
   "execution_count": 137,
   "metadata": {},
   "outputs": [],
   "source": [
    "shifts = np.random.choice(bs-1,s, replace=False)+1"
   ]
  },
  {
   "cell_type": "code",
   "execution_count": 116,
   "metadata": {},
   "outputs": [
    {
     "data": {
      "text/plain": [
       "tensor([[ 0,  1,  2,  3,  4,  5,  6,  7,  8,  9, 10, 11, 12, 13, 14],\n",
       "        [15, 16, 17, 18, 19, 20, 21, 22, 23, 24, 25, 26, 27, 28, 29],\n",
       "        [30, 31, 32, 33, 34, 35, 36, 37, 38, 39, 40, 41, 42, 43, 44],\n",
       "        [45, 46, 47, 48, 49, 50, 51, 52, 53, 54, 55, 56, 57, 58, 59]])"
      ]
     },
     "execution_count": 116,
     "metadata": {},
     "output_type": "execute_result"
    }
   ],
   "source": [
    "x = torch.arange(60).reshape(4,15); x"
   ]
  },
  {
   "cell_type": "code",
   "execution_count": 132,
   "metadata": {},
   "outputs": [
    {
     "data": {
      "text/plain": [
       "tensor([[30, 31, 32, 33, 34, 35, 36, 37, 38, 39, 40, 41, 42, 43, 44],\n",
       "        [45, 46, 47, 48, 49, 50, 51, 52, 53, 54, 55, 56, 57, 58, 59],\n",
       "        [ 0,  1,  2,  3,  4,  5,  6,  7,  8,  9, 10, 11, 12, 13, 14],\n",
       "        [15, 16, 17, 18, 19, 20, 21, 22, 23, 24, 25, 26, 27, 28, 29]])"
      ]
     },
     "execution_count": 132,
     "metadata": {},
     "output_type": "execute_result"
    }
   ],
   "source": [
    "torch.roll(x, shifts=2, dims=0)"
   ]
  },
  {
   "cell_type": "code",
   "execution_count": 128,
   "metadata": {},
   "outputs": [
    {
     "data": {
      "text/plain": [
       "tensor([[ 0,  1,  2,  3,  4,  5,  6,  7,  8,  9, 10, 11, 12, 13, 14],\n",
       "        [15, 16, 17, 18, 19, 20, 21, 22, 23, 24, 25, 26, 27, 28, 29],\n",
       "        [30, 31, 32, 33, 34, 35, 36, 37, 38, 39, 40, 41, 42, 43, 44],\n",
       "        [45, 46, 47, 48, 49, 50, 51, 52, 53, 54, 55, 56, 57, 58, 59]])"
      ]
     },
     "execution_count": 128,
     "metadata": {},
     "output_type": "execute_result"
    }
   ],
   "source": [
    "x[2:5]"
   ]
  },
  {
   "cell_type": "code",
   "execution_count": 216,
   "metadata": {},
   "outputs": [],
   "source": [
    "def next_sentence_ranges(x, y, max_cls=4):\n",
    "    s = random.randint(1, max_cls)\n",
    "    bs,bptt = x.shape\n",
    "    \n",
    "    psz = bptt // s\n",
    "\n",
    "    bs_shift = [0]+(np.random.choice(bs-1,s, replace=False)+1).tolist()\n",
    "    row_shift = [int(psz + random.randint(-psz, psz)//s) for i in range(s)]\n",
    "    \n",
    "    accum = 0\n",
    "    ranges = []\n",
    "    for i in range(s):\n",
    "        end = accum + row_shift[i] if i < (s-1) else bptt\n",
    "        ranges.append((i, bs_shift[i], accum, end))\n",
    "        accum = end\n",
    "    return ranges\n",
    "\n",
    "def next_sentence_tfm(x, y, max_cls=4):\n",
    "    x_new = x.clone()\n",
    "    y_new = y.clone()\n",
    "    z = torch.zeros_like(x)\n",
    "    ranges = next_sentence_ranges(x, y, max_cls)\n",
    "    for i,shift,s,e in ranges:\n",
    "        if i == 0: continue\n",
    "        x_new[:, s:e] = torch.roll(x, shifts=shift, dims=0)[:, s:e]\n",
    "        y_new[:, s:e] = torch.roll(y, shifts=shift, dims=0)[:, s:e]\n",
    "        z[:, s:e] = i\n",
    "    return x_new, y_new, z"
   ]
  },
  {
   "cell_type": "code",
   "execution_count": 217,
   "metadata": {},
   "outputs": [],
   "source": [
    "x = torch.arange(512).reshape(8,64)"
   ]
  },
  {
   "cell_type": "code",
   "execution_count": 228,
   "metadata": {},
   "outputs": [
    {
     "data": {
      "text/plain": [
       "[(0, 0, 0, 18), (1, 1, 18, 35), (2, 2, 35, 53), (3, 3, 53, 64)]"
      ]
     },
     "execution_count": 228,
     "metadata": {},
     "output_type": "execute_result"
    }
   ],
   "source": [
    "next_sentence_ranges(x, x.clone())"
   ]
  },
  {
   "cell_type": "code",
   "execution_count": 232,
   "metadata": {},
   "outputs": [
    {
     "data": {
      "text/plain": [
       "(tensor([[  0,   1,   2,   3,   4,   5,   6,   7,   8,   9,  10,  11,  12,  13,\n",
       "          270, 271, 272, 273, 274, 275, 276, 277, 278, 279, 280, 281, 282, 283,\n",
       "          284, 285, 286, 159, 160, 161, 162, 163, 164, 165, 166, 167, 168, 169,\n",
       "          170, 171, 172, 173, 110, 111, 112, 113, 114, 115, 116, 117, 118, 119,\n",
       "          120, 121, 122, 123, 124, 125, 126, 127],\n",
       "         [ 64,  65,  66,  67,  68,  69,  70,  71,  72,  73,  74,  75,  76,  77,\n",
       "          334, 335, 336, 337, 338, 339, 340, 341, 342, 343, 344, 345, 346, 347,\n",
       "          348, 349, 350, 223, 224, 225, 226, 227, 228, 229, 230, 231, 232, 233,\n",
       "          234, 235, 236, 237, 174, 175, 176, 177, 178, 179, 180, 181, 182, 183,\n",
       "          184, 185, 186, 187, 188, 189, 190, 191],\n",
       "         [128, 129, 130, 131, 132, 133, 134, 135, 136, 137, 138, 139, 140, 141,\n",
       "          398, 399, 400, 401, 402, 403, 404, 405, 406, 407, 408, 409, 410, 411,\n",
       "          412, 413, 414, 287, 288, 289, 290, 291, 292, 293, 294, 295, 296, 297,\n",
       "          298, 299, 300, 301, 238, 239, 240, 241, 242, 243, 244, 245, 246, 247,\n",
       "          248, 249, 250, 251, 252, 253, 254, 255],\n",
       "         [192, 193, 194, 195, 196, 197, 198, 199, 200, 201, 202, 203, 204, 205,\n",
       "          462, 463, 464, 465, 466, 467, 468, 469, 470, 471, 472, 473, 474, 475,\n",
       "          476, 477, 478, 351, 352, 353, 354, 355, 356, 357, 358, 359, 360, 361,\n",
       "          362, 363, 364, 365, 302, 303, 304, 305, 306, 307, 308, 309, 310, 311,\n",
       "          312, 313, 314, 315, 316, 317, 318, 319],\n",
       "         [256, 257, 258, 259, 260, 261, 262, 263, 264, 265, 266, 267, 268, 269,\n",
       "           14,  15,  16,  17,  18,  19,  20,  21,  22,  23,  24,  25,  26,  27,\n",
       "           28,  29,  30, 415, 416, 417, 418, 419, 420, 421, 422, 423, 424, 425,\n",
       "          426, 427, 428, 429, 366, 367, 368, 369, 370, 371, 372, 373, 374, 375,\n",
       "          376, 377, 378, 379, 380, 381, 382, 383],\n",
       "         [320, 321, 322, 323, 324, 325, 326, 327, 328, 329, 330, 331, 332, 333,\n",
       "           78,  79,  80,  81,  82,  83,  84,  85,  86,  87,  88,  89,  90,  91,\n",
       "           92,  93,  94, 479, 480, 481, 482, 483, 484, 485, 486, 487, 488, 489,\n",
       "          490, 491, 492, 493, 430, 431, 432, 433, 434, 435, 436, 437, 438, 439,\n",
       "          440, 441, 442, 443, 444, 445, 446, 447],\n",
       "         [384, 385, 386, 387, 388, 389, 390, 391, 392, 393, 394, 395, 396, 397,\n",
       "          142, 143, 144, 145, 146, 147, 148, 149, 150, 151, 152, 153, 154, 155,\n",
       "          156, 157, 158,  31,  32,  33,  34,  35,  36,  37,  38,  39,  40,  41,\n",
       "           42,  43,  44,  45, 494, 495, 496, 497, 498, 499, 500, 501, 502, 503,\n",
       "          504, 505, 506, 507, 508, 509, 510, 511],\n",
       "         [448, 449, 450, 451, 452, 453, 454, 455, 456, 457, 458, 459, 460, 461,\n",
       "          206, 207, 208, 209, 210, 211, 212, 213, 214, 215, 216, 217, 218, 219,\n",
       "          220, 221, 222,  95,  96,  97,  98,  99, 100, 101, 102, 103, 104, 105,\n",
       "          106, 107, 108, 109,  46,  47,  48,  49,  50,  51,  52,  53,  54,  55,\n",
       "           56,  57,  58,  59,  60,  61,  62,  63]]),\n",
       " tensor([[  0,   1,   2,   3,   4,   5,   6,   7,   8,   9,  10,  11,  12,  13,\n",
       "          270, 271, 272, 273, 274, 275, 276, 277, 278, 279, 280, 281, 282, 283,\n",
       "          284, 285, 286, 159, 160, 161, 162, 163, 164, 165, 166, 167, 168, 169,\n",
       "          170, 171, 172, 173, 110, 111, 112, 113, 114, 115, 116, 117, 118, 119,\n",
       "          120, 121, 122, 123, 124, 125, 126, 127],\n",
       "         [ 64,  65,  66,  67,  68,  69,  70,  71,  72,  73,  74,  75,  76,  77,\n",
       "          334, 335, 336, 337, 338, 339, 340, 341, 342, 343, 344, 345, 346, 347,\n",
       "          348, 349, 350, 223, 224, 225, 226, 227, 228, 229, 230, 231, 232, 233,\n",
       "          234, 235, 236, 237, 174, 175, 176, 177, 178, 179, 180, 181, 182, 183,\n",
       "          184, 185, 186, 187, 188, 189, 190, 191],\n",
       "         [128, 129, 130, 131, 132, 133, 134, 135, 136, 137, 138, 139, 140, 141,\n",
       "          398, 399, 400, 401, 402, 403, 404, 405, 406, 407, 408, 409, 410, 411,\n",
       "          412, 413, 414, 287, 288, 289, 290, 291, 292, 293, 294, 295, 296, 297,\n",
       "          298, 299, 300, 301, 238, 239, 240, 241, 242, 243, 244, 245, 246, 247,\n",
       "          248, 249, 250, 251, 252, 253, 254, 255],\n",
       "         [192, 193, 194, 195, 196, 197, 198, 199, 200, 201, 202, 203, 204, 205,\n",
       "          462, 463, 464, 465, 466, 467, 468, 469, 470, 471, 472, 473, 474, 475,\n",
       "          476, 477, 478, 351, 352, 353, 354, 355, 356, 357, 358, 359, 360, 361,\n",
       "          362, 363, 364, 365, 302, 303, 304, 305, 306, 307, 308, 309, 310, 311,\n",
       "          312, 313, 314, 315, 316, 317, 318, 319],\n",
       "         [256, 257, 258, 259, 260, 261, 262, 263, 264, 265, 266, 267, 268, 269,\n",
       "           14,  15,  16,  17,  18,  19,  20,  21,  22,  23,  24,  25,  26,  27,\n",
       "           28,  29,  30, 415, 416, 417, 418, 419, 420, 421, 422, 423, 424, 425,\n",
       "          426, 427, 428, 429, 366, 367, 368, 369, 370, 371, 372, 373, 374, 375,\n",
       "          376, 377, 378, 379, 380, 381, 382, 383],\n",
       "         [320, 321, 322, 323, 324, 325, 326, 327, 328, 329, 330, 331, 332, 333,\n",
       "           78,  79,  80,  81,  82,  83,  84,  85,  86,  87,  88,  89,  90,  91,\n",
       "           92,  93,  94, 479, 480, 481, 482, 483, 484, 485, 486, 487, 488, 489,\n",
       "          490, 491, 492, 493, 430, 431, 432, 433, 434, 435, 436, 437, 438, 439,\n",
       "          440, 441, 442, 443, 444, 445, 446, 447],\n",
       "         [384, 385, 386, 387, 388, 389, 390, 391, 392, 393, 394, 395, 396, 397,\n",
       "          142, 143, 144, 145, 146, 147, 148, 149, 150, 151, 152, 153, 154, 155,\n",
       "          156, 157, 158,  31,  32,  33,  34,  35,  36,  37,  38,  39,  40,  41,\n",
       "           42,  43,  44,  45, 494, 495, 496, 497, 498, 499, 500, 501, 502, 503,\n",
       "          504, 505, 506, 507, 508, 509, 510, 511],\n",
       "         [448, 449, 450, 451, 452, 453, 454, 455, 456, 457, 458, 459, 460, 461,\n",
       "          206, 207, 208, 209, 210, 211, 212, 213, 214, 215, 216, 217, 218, 219,\n",
       "          220, 221, 222,  95,  96,  97,  98,  99, 100, 101, 102, 103, 104, 105,\n",
       "          106, 107, 108, 109,  46,  47,  48,  49,  50,  51,  52,  53,  54,  55,\n",
       "           56,  57,  58,  59,  60,  61,  62,  63]]),\n",
       " tensor([[0, 0, 0, 0, 0, 0, 0, 0, 0, 0, 0, 0, 0, 0, 1, 1, 1, 1, 1, 1, 1, 1, 1, 1,\n",
       "          1, 1, 1, 1, 1, 1, 1, 2, 2, 2, 2, 2, 2, 2, 2, 2, 2, 2, 2, 2, 2, 2, 3, 3,\n",
       "          3, 3, 3, 3, 3, 3, 3, 3, 3, 3, 3, 3, 3, 3, 3, 3],\n",
       "         [0, 0, 0, 0, 0, 0, 0, 0, 0, 0, 0, 0, 0, 0, 1, 1, 1, 1, 1, 1, 1, 1, 1, 1,\n",
       "          1, 1, 1, 1, 1, 1, 1, 2, 2, 2, 2, 2, 2, 2, 2, 2, 2, 2, 2, 2, 2, 2, 3, 3,\n",
       "          3, 3, 3, 3, 3, 3, 3, 3, 3, 3, 3, 3, 3, 3, 3, 3],\n",
       "         [0, 0, 0, 0, 0, 0, 0, 0, 0, 0, 0, 0, 0, 0, 1, 1, 1, 1, 1, 1, 1, 1, 1, 1,\n",
       "          1, 1, 1, 1, 1, 1, 1, 2, 2, 2, 2, 2, 2, 2, 2, 2, 2, 2, 2, 2, 2, 2, 3, 3,\n",
       "          3, 3, 3, 3, 3, 3, 3, 3, 3, 3, 3, 3, 3, 3, 3, 3],\n",
       "         [0, 0, 0, 0, 0, 0, 0, 0, 0, 0, 0, 0, 0, 0, 1, 1, 1, 1, 1, 1, 1, 1, 1, 1,\n",
       "          1, 1, 1, 1, 1, 1, 1, 2, 2, 2, 2, 2, 2, 2, 2, 2, 2, 2, 2, 2, 2, 2, 3, 3,\n",
       "          3, 3, 3, 3, 3, 3, 3, 3, 3, 3, 3, 3, 3, 3, 3, 3],\n",
       "         [0, 0, 0, 0, 0, 0, 0, 0, 0, 0, 0, 0, 0, 0, 1, 1, 1, 1, 1, 1, 1, 1, 1, 1,\n",
       "          1, 1, 1, 1, 1, 1, 1, 2, 2, 2, 2, 2, 2, 2, 2, 2, 2, 2, 2, 2, 2, 2, 3, 3,\n",
       "          3, 3, 3, 3, 3, 3, 3, 3, 3, 3, 3, 3, 3, 3, 3, 3],\n",
       "         [0, 0, 0, 0, 0, 0, 0, 0, 0, 0, 0, 0, 0, 0, 1, 1, 1, 1, 1, 1, 1, 1, 1, 1,\n",
       "          1, 1, 1, 1, 1, 1, 1, 2, 2, 2, 2, 2, 2, 2, 2, 2, 2, 2, 2, 2, 2, 2, 3, 3,\n",
       "          3, 3, 3, 3, 3, 3, 3, 3, 3, 3, 3, 3, 3, 3, 3, 3],\n",
       "         [0, 0, 0, 0, 0, 0, 0, 0, 0, 0, 0, 0, 0, 0, 1, 1, 1, 1, 1, 1, 1, 1, 1, 1,\n",
       "          1, 1, 1, 1, 1, 1, 1, 2, 2, 2, 2, 2, 2, 2, 2, 2, 2, 2, 2, 2, 2, 2, 3, 3,\n",
       "          3, 3, 3, 3, 3, 3, 3, 3, 3, 3, 3, 3, 3, 3, 3, 3],\n",
       "         [0, 0, 0, 0, 0, 0, 0, 0, 0, 0, 0, 0, 0, 0, 1, 1, 1, 1, 1, 1, 1, 1, 1, 1,\n",
       "          1, 1, 1, 1, 1, 1, 1, 2, 2, 2, 2, 2, 2, 2, 2, 2, 2, 2, 2, 2, 2, 2, 3, 3,\n",
       "          3, 3, 3, 3, 3, 3, 3, 3, 3, 3, 3, 3, 3, 3, 3, 3]]))"
      ]
     },
     "execution_count": 232,
     "metadata": {},
     "output_type": "execute_result"
    }
   ],
   "source": [
    "next_sentence_tfm(x, x.clone())"
   ]
  },
  {
   "cell_type": "code",
   "execution_count": 158,
   "metadata": {},
   "outputs": [
    {
     "name": "stdout",
     "output_type": "stream",
     "text": [
      "> \u001b[0;32m/Users/andrewshaw/Projects/ML/music/midi_generator/notebooks/data_formatting/mtrand.pyx\u001b[0m(1168)\u001b[0;36mmtrand.RandomState.choice\u001b[0;34m()\u001b[0m\n",
      "\n",
      "ipdb> !!s\n",
      "*** SyntaxError: invalid syntax\n",
      "ipdb> !s\n",
      "*** NameError: name 's' is not defined\n",
      "ipdb> !bs\n",
      "*** NameError: name 'bs' is not defined\n",
      "ipdb> bs\n",
      "*** NameError: name 'bs' is not defined\n",
      "ipdb> quit\n"
     ]
    }
   ],
   "source": [
    "%debug"
   ]
  },
  {
   "cell_type": "code",
   "execution_count": 144,
   "metadata": {},
   "outputs": [
    {
     "data": {
      "text/plain": [
       "(tensor([[   0,    1,    2,  ..., 2045, 2046, 2047],\n",
       "         [ 512,  513,  514,  ...,  509,  510,  511],\n",
       "         [1024, 1025, 1026,  ..., 1021, 1022, 1023],\n",
       "         [1536, 1537, 1538,  ..., 1533, 1534, 1535]]),\n",
       " tensor([[   0,    1,    2,  ..., 2045, 2046, 2047],\n",
       "         [ 512,  513,  514,  ...,  509,  510,  511],\n",
       "         [1024, 1025, 1026,  ..., 1021, 1022, 1023],\n",
       "         [1536, 1537, 1538,  ..., 1533, 1534, 1535]]),\n",
       " tensor([[0, 0, 0,  ..., 3, 3, 3],\n",
       "         [0, 0, 0,  ..., 3, 3, 3],\n",
       "         [0, 0, 0,  ..., 3, 3, 3],\n",
       "         [0, 0, 0,  ..., 3, 3, 3]]))"
      ]
     },
     "execution_count": 144,
     "metadata": {},
     "output_type": "execute_result"
    }
   ],
   "source": [
    "x = torch.arange(2048).reshape(4,512)\n",
    "y = x.clone()\n",
    "x_new = x.clone()\n",
    "y_new = y.clone()\n",
    "z = torch.zeros_like(x)\n",
    "for i,shift,s,e in ranges:\n",
    "    if i == 0: continue\n",
    "    x_new[:, s:e] = torch.roll(x, shifts=shift, dims=0)[:, s:e]\n",
    "    y_new[:, s:e] = torch.roll(y, shifts=shift, dims=0)[:, s:e]\n",
    "    z[:, s:e] = i\n",
    "x_new, y_new, z"
   ]
  },
  {
   "cell_type": "code",
   "execution_count": 238,
   "metadata": {},
   "outputs": [
    {
     "ename": "TypeError",
     "evalue": "randint(): argument 'size' (position 2) must be tuple of ints, not int",
     "output_type": "error",
     "traceback": [
      "\u001b[0;31m---------------------------------------------------------------------------\u001b[0m",
      "\u001b[0;31mTypeError\u001b[0m                                 Traceback (most recent call last)",
      "\u001b[0;32m<ipython-input-238-472601efda2d>\u001b[0m in \u001b[0;36m<module>\u001b[0;34m\u001b[0m\n\u001b[0;32m----> 1\u001b[0;31m \u001b[0mtorch\u001b[0m\u001b[0;34m.\u001b[0m\u001b[0mrandint\u001b[0m\u001b[0;34m(\u001b[0m\u001b[0;36m3\u001b[0m\u001b[0;34m,\u001b[0m\u001b[0;36m4\u001b[0m\u001b[0;34m)\u001b[0m\u001b[0;34m\u001b[0m\u001b[0;34m\u001b[0m\u001b[0m\n\u001b[0m",
      "\u001b[0;31mTypeError\u001b[0m: randint(): argument 'size' (position 2) must be tuple of ints, not int"
     ]
    }
   ],
   "source": [
    "torch.randint(,4)"
   ]
  },
  {
   "cell_type": "code",
   "execution_count": 241,
   "metadata": {},
   "outputs": [],
   "source": [
    "rand = torch.rand(x.shape); rand\n",
    "p = 0.15\n",
    "wrong_word = (rand > (p*.8)) & (rand <= p*.9) # 10% = wrong word"
   ]
  },
  {
   "cell_type": "code",
   "execution_count": 252,
   "metadata": {},
   "outputs": [
    {
     "data": {
      "text/plain": [
       "(['bos', 'pad', 'eos', 'cls', 'mask', 'cseq', 'mseq', 'fseq'], 263)"
      ]
     },
     "execution_count": 252,
     "metadata": {},
     "output_type": "execute_result"
    }
   ],
   "source": [
    "VOCAB_SZ"
   ]
  },
  {
   "cell_type": "code",
   "execution_count": 253,
   "metadata": {},
   "outputs": [],
   "source": [
    "MASK_IDX = vocab.stoi[MASK]\n",
    "PAD_IDX = vocab.stoi[PAD]\n",
    "WRONGWORD_RANGE = (len(SPECIAL_TOKS), len(vocab.itos))\n",
    "\n",
    "\n",
    "def mask_tfm(x, y, word_range=WRONGWORD_RANGE, pad_idx=PAD_IDX, mask_idx=MASK_IDX, mask_last=False):\n",
    "    y = x.clone()\n",
    "    rand = torch.rand(x.shape)\n",
    "    if mask_last: rand[-1] = 0.0\n",
    "    p = 0.15\n",
    "    y[rand > p] = PAD_IDX\n",
    "    x[rand <= (p*.8)] = mask_idx # 80% = mask\n",
    "    wrong_word = (rand > (p*.8)) & (rand <= p*.9) # 10% = wrong word\n",
    "    x[wrong_word] = torch.randint(*word_range, [wrong_word.sum().item()])\n",
    "    return x, y\n",
    "\n",
    "\n",
    "def mask_input_np(x, mask_last=True):\n",
    "    # always mask last one to train model to predict next word (for language modeling)\n",
    "    x = x.copy()\n",
    "    y = x.copy()\n",
    "    rand = np.random.rand(*x.shape)\n",
    "    pct = .2\n",
    "    if mask_last:\n",
    "        rand[-1] *= pct\n",
    "    y[rand > pct] = -1\n",
    "    x[rand <= (pct*.8)] = MASK_IDX # 80% = mask\n",
    "    wrong_word = (rand > (pct*.8)) & (rand <= pct*.9) # 10% = wrong word\n",
    "    x[wrong_word] = np.random.randint(spec_tok_len, vocab_size, [wrong_word.sum()])\n",
    "    return x,y"
   ]
  },
  {
   "cell_type": "code",
   "execution_count": 255,
   "metadata": {},
   "outputs": [
    {
     "data": {
      "text/plain": [
       "(tensor([[   0,    1,    0,    0,    4,    5,    0,    0,    0,    0,    0,    0,\n",
       "            68,   13,    0,   15,   16,   17,   18,    0,    0,    0,   22,    0,\n",
       "             0,   25,   26,  475,    0,  477,    0,  479,    0,    0,    0,    0,\n",
       "           484,    0,  486,  487,  488,  489,    0,    0,  492,  493,  494,    0,\n",
       "             0,    0,  498,    0,    0,    0,    0,    0,  504,  505,  506,  507,\n",
       "             0,  509,    0,  511],\n",
       "         [   0,    0,   66,  224,    0,   69,    0,    0,    0,    0,    0,    0,\n",
       "            76,    0,    0,    0,    0,    0,   82,   57,   84,   85,   86,   87,\n",
       "             0,    0,   90,   27,    0,   29,   30,    0,    0,    0,    0,   35,\n",
       "            36,  -30,   38,   39,    0,    0,    0,    0,   44,   45,   46,    0,\n",
       "             0,    0,   50,   51,    0,    0,    0,    0,   56,    0,    0,   59,\n",
       "            60,   61,    0,   63],\n",
       "         [-113,  129,  130,    0,  132,  133,  134,    0,    0,  137,  138,  139,\n",
       "             0,  141,    0,    0,  144,  145,    0,    0,    0,    0,  150,  151,\n",
       "           152,  153,  154,    0,   92,    0,   94,    0,    0,    0,    0,   99,\n",
       "           100,    0,  -64,    0,  104,    0,    0,  107,  108,  109,  110,  111,\n",
       "             0,    0,    0,  115,    0,  117,    0,    0,  253,  121,    0,    0,\n",
       "             0,  125, -150,  127],\n",
       "         [   0,  193,    0,    0,  196,    0,  198,  199,    0,    0,  202,    0,\n",
       "           204,    0,  -76,    0,    0,  209,  210,  211,    0,    0,    0,    0,\n",
       "           216,    0,    0,  155,    0,  157,  158,  159,    0,    0,    0,  163,\n",
       "             0,  165,  166,  167,    0,    0,  170,  171,  172,    0,    0,  175,\n",
       "             0,    0,  178,    0,  180,  181,  182,  183,  184,    0,  186,    0,\n",
       "             0,  189,  190,  191],\n",
       "         [ 256,    0,    0,  259,    0,  261, -141,  263,    0,  265,    0,    0,\n",
       "             0,    0,    0,  271,    0,  273,    0,    0,    0,  -46,    0,    0,\n",
       "           280,    0,    0,  219,  220,    0,    0,    0,  224,  225,  226,    0,\n",
       "             0,    0,    0,    0,  232,    0,    0,  235,  236,    0,    0,  239,\n",
       "             0,    0,    0,    0,    0,    0,  246,    0,  -88,  249,    0,  251,\n",
       "             0,  253,  254,  255],\n",
       "         [ 320,    0,    0,  323,    0,    0,  326,    0,    0,    0,  330,    0,\n",
       "             0,    0,  334,    0,  336,  337,  338,    0,  340,  341,    0,  343,\n",
       "           344,    0,  346,    0,    0,    0,    0,    0,    0,  289,  290,  291,\n",
       "            54,  293,    0,    0,    0,    0,  298,  299,    0,    0,    0,    0,\n",
       "             0,    0,    0,    0,    0, -124,  310,    0,  312,    0,    0,    0,\n",
       "             0,   50,  318,    0],\n",
       "         [ 384,    0,    0,  387,  388,  389,    0,  391,  392,    0,  394,   87,\n",
       "           396,    0,    0,    0,  400,  401,    0,  403,    0,  405,    0,    0,\n",
       "             0,    0,    0,    0,  348,  349,    0,  351,  352,    0,    0,  355,\n",
       "           356,  357,    0,  359,    0,    0,  362,  363,    0,    0,  366,  367,\n",
       "             0,    0,  370,  371,  372,  373,  374,    0,    0,    0,    0,  379,\n",
       "           380,    0,    0,  383],\n",
       "         [ 448,  449,  450,    0,    0,  453,    0,    0,  456,  457,  458,    0,\n",
       "           460,  461,  462,    0,    0,  465,  466,    0,  468,  469,  470,  138,\n",
       "             0,  473,  474,  411,    0,  413,  414,    0,  416,  417,    0,  419,\n",
       "             0,    0,    0,  423,  424,  425,    0,  427,  428,    0,  430,  431,\n",
       "             0,  433,    0,    0,    0,  437,  438,  255,    0,    0,    0,    0,\n",
       "             0,    0,    0,  447]]),\n",
       " tensor([[  1,   1,   0,   3,   1,   1,   1,   1,   1,   1,   1,   1,   0,   1,\n",
       "           14,   1,   1,   1,   1,   1,   1,   1,   1,   0,   1,   1,   1,   1,\n",
       "            1,   1,   1,   1, -49, 481,   1,   1,   1,   1,   1,   1,   1,   1,\n",
       "            1,   1,   1,   1,   1,   1,   0,   1,   1,   1,   1, 501,   1,   1,\n",
       "            1,   1,   1,   1,   1,   1,   1,   1],\n",
       "         [  1,   1,   1,  67,   1,   1,   1,   1,  72,   1,   1,  75,   1,   1,\n",
       "           78,   1,   1,   1,   1,   1,   1,   1,   1,   1,   1,   1,   1,   1,\n",
       "            0,   1,   1,   1,   0,   1,   1,   1,   1,   1,   1,   1,  40,   0,\n",
       "            1,   1,   1,   1,   1,  47,   1,   1,   1,   1,   1,   1,   1,   1,\n",
       "            1,   1,   0,   1,   1,   1,   1,   1],\n",
       "         [  1,   1,   1,   0,   1,   1,   1,   1,   1,   1,   1,   1, 140,   1,\n",
       "            1,   1,   1,   1,   1,   1,   1,   1,   1,   1,   1,   1,   1,   1,\n",
       "            1,   0,   1,   1,   1,   0,  98,   1,   1, 101,   1, 103,   1,   1,\n",
       "            0,   1,   1,   1,   1,   1,   1, 113,   1,   1,   1,   1,   1,   1,\n",
       "            1,   1,   1,   1,   1,   1,   1,   1],\n",
       "         [  1,   1,   1,   0,   1,   0,   1,   1, 200,   1,   1,   1,   1,   1,\n",
       "            1,   1,   1,   1,   1,   1,   1,   1, 214,   1,   1,   1,   1,   1,\n",
       "            1,   1,   1,   1,   1,   1,   1,   1,   1,   1,   1,   1,   1,   1,\n",
       "            1,   1,   1,   1,   0,   1,   1,   1,   1, 179,   1,   1,   1,   1,\n",
       "            1,   1,   1,   1,   1,   1,   1,   1],\n",
       "         [  1,   1,   1,   1,   1,   1,   1, 263,   1,   1,   1,   1,   1,   1,\n",
       "            1,   1,   1,   1,   1, 275,   1,   1,   1,   1,   1,   1,   1,   1,\n",
       "            1,   1,   0,   1,   1,   1,   1,   1,   1,   1,   1,   1,   1,   1,\n",
       "            1,   1,   1,   1,   1,   1,   1,   0,   1, 243,   1,   1,   1,   1,\n",
       "            1,   1,   1,   1,   1,   1,   1,   1],\n",
       "         [  1,   1,   1,   1,   1, 325,   1,   1,   1,   1,   1,   1,   1,   1,\n",
       "            1,   1,   1,   1,   1,   1,   1,   1,   1,   1,   1,   1,   1,   1,\n",
       "            1,   0,   1,   1,   1,   1,   1,   1,   1,   1, 294,   1,   1,   1,\n",
       "            1,   1,   1, 301,   1,   0,   1,   1,   1,   0, 308,   1,   1,   1,\n",
       "            1, 313,   1,   0,   1,   1,   1,   1],\n",
       "         [  1,   0,   1,   1,   1,   1,   1,   1,   1,   0,   1, 395,   1, 223,\n",
       "            1,  67,   1,   1, 402,   1,   1,   1,   1,   1,   1,   1,   1,   0,\n",
       "            1,   1,   1,   1,   1,   1,   1,   1, 356,   1,   1,   1,   1,   1,\n",
       "            1,   1, 364,   1,   1,   1,   1,   1,   1,   1,   1,   1,   1,   1,\n",
       "            0,   1,   1,   1,   1,   1,   1,   1],\n",
       "         [  1,   1,   1,   1,   0,   1, 454,   1,   1,   1,   1,   1,   1,   1,\n",
       "            1,   1,   1,   1,   1,   1,   1,   1,   1,   1,   1,   1,   1,   1,\n",
       "            1,   1,   1,   1,   1,   1,   1,   1,   0,   1, 422,   1,   1,   1,\n",
       "            1,   1,   1,   1,   1,   1,   1,   1, 434,   1,   1,   1,   1, 439,\n",
       "            1,   1,   1,   1,   1,   0, 446,   1]]),\n",
       " tensor([[0, 0, 0, 0, 0, 0, 0, 0, 0, 0, 0, 0, 0, 0, 0, 0, 0, 0, 0, 0, 0, 0, 0, 0,\n",
       "          0, 0, 0, 1, 1, 1, 1, 1, 1, 1, 1, 1, 1, 1, 1, 1, 1, 1, 1, 1, 1, 1, 1, 1,\n",
       "          1, 1, 1, 1, 1, 1, 1, 1, 1, 1, 1, 1, 1, 1, 1, 1],\n",
       "         [0, 0, 0, 0, 0, 0, 0, 0, 0, 0, 0, 0, 0, 0, 0, 0, 0, 0, 0, 0, 0, 0, 0, 0,\n",
       "          0, 0, 0, 1, 1, 1, 1, 1, 1, 1, 1, 1, 1, 1, 1, 1, 1, 1, 1, 1, 1, 1, 1, 1,\n",
       "          1, 1, 1, 1, 1, 1, 1, 1, 1, 1, 1, 1, 1, 1, 1, 1],\n",
       "         [0, 0, 0, 0, 0, 0, 0, 0, 0, 0, 0, 0, 0, 0, 0, 0, 0, 0, 0, 0, 0, 0, 0, 0,\n",
       "          0, 0, 0, 1, 1, 1, 1, 1, 1, 1, 1, 1, 1, 1, 1, 1, 1, 1, 1, 1, 1, 1, 1, 1,\n",
       "          1, 1, 1, 1, 1, 1, 1, 1, 1, 1, 1, 1, 1, 1, 1, 1],\n",
       "         [0, 0, 0, 0, 0, 0, 0, 0, 0, 0, 0, 0, 0, 0, 0, 0, 0, 0, 0, 0, 0, 0, 0, 0,\n",
       "          0, 0, 0, 1, 1, 1, 1, 1, 1, 1, 1, 1, 1, 1, 1, 1, 1, 1, 1, 1, 1, 1, 1, 1,\n",
       "          1, 1, 1, 1, 1, 1, 1, 1, 1, 1, 1, 1, 1, 1, 1, 1],\n",
       "         [0, 0, 0, 0, 0, 0, 0, 0, 0, 0, 0, 0, 0, 0, 0, 0, 0, 0, 0, 0, 0, 0, 0, 0,\n",
       "          0, 0, 0, 1, 1, 1, 1, 1, 1, 1, 1, 1, 1, 1, 1, 1, 1, 1, 1, 1, 1, 1, 1, 1,\n",
       "          1, 1, 1, 1, 1, 1, 1, 1, 1, 1, 1, 1, 1, 1, 1, 1],\n",
       "         [0, 0, 0, 0, 0, 0, 0, 0, 0, 0, 0, 0, 0, 0, 0, 0, 0, 0, 0, 0, 0, 0, 0, 0,\n",
       "          0, 0, 0, 1, 1, 1, 1, 1, 1, 1, 1, 1, 1, 1, 1, 1, 1, 1, 1, 1, 1, 1, 1, 1,\n",
       "          1, 1, 1, 1, 1, 1, 1, 1, 1, 1, 1, 1, 1, 1, 1, 1],\n",
       "         [0, 0, 0, 0, 0, 0, 0, 0, 0, 0, 0, 0, 0, 0, 0, 0, 0, 0, 0, 0, 0, 0, 0, 0,\n",
       "          0, 0, 0, 1, 1, 1, 1, 1, 1, 1, 1, 1, 1, 1, 1, 1, 1, 1, 1, 1, 1, 1, 1, 1,\n",
       "          1, 1, 1, 1, 1, 1, 1, 1, 1, 1, 1, 1, 1, 1, 1, 1],\n",
       "         [0, 0, 0, 0, 0, 0, 0, 0, 0, 0, 0, 0, 0, 0, 0, 0, 0, 0, 0, 0, 0, 0, 0, 0,\n",
       "          0, 0, 0, 1, 1, 1, 1, 1, 1, 1, 1, 1, 1, 1, 1, 1, 1, 1, 1, 1, 1, 1, 1, 1,\n",
       "          1, 1, 1, 1, 1, 1, 1, 1, 1, 1, 1, 1, 1, 1, 1, 1]]))"
      ]
     },
     "execution_count": 255,
     "metadata": {},
     "output_type": "execute_result"
    }
   ],
   "source": [
    "next_sentence_tfm(*mask_tfm(x, x.clone))"
   ]
  },
  {
   "cell_type": "code",
   "execution_count": null,
   "metadata": {},
   "outputs": [],
   "source": [
    "def bert_mask_tfm(x, y):\n",
    "    "
   ]
  },
  {
   "cell_type": "code",
   "execution_count": 44,
   "metadata": {},
   "outputs": [],
   "source": [
    "data = LMNPDataBunch.load(out_path, bs=4, bptt=48, cache_name='tmp/hook_c')"
   ]
  },
  {
   "cell_type": "code",
   "execution_count": 45,
   "metadata": {},
   "outputs": [],
   "source": [
    "pre_l = data.train_dl.dataset"
   ]
  },
  {
   "cell_type": "code",
   "execution_count": 46,
   "metadata": {},
   "outputs": [],
   "source": [
    "pre_l.on_epoch_begin()"
   ]
  },
  {
   "cell_type": "code",
   "execution_count": 47,
   "metadata": {},
   "outputs": [
    {
     "data": {
      "text/plain": [
       "(4, 49, 2)"
      ]
     },
     "execution_count": 47,
     "metadata": {},
     "output_type": "execute_result"
    }
   ],
   "source": [
    "pre_l.batch.shape"
   ]
  },
  {
   "cell_type": "code",
   "execution_count": 48,
   "metadata": {},
   "outputs": [
    {
     "data": {
      "text/plain": [
       "(4, 48, 2)"
      ]
     },
     "execution_count": 48,
     "metadata": {},
     "output_type": "execute_result"
    }
   ],
   "source": [
    "pre_l.batch_x.shape"
   ]
  },
  {
   "cell_type": "code",
   "execution_count": 58,
   "metadata": {},
   "outputs": [
    {
     "data": {
      "text/plain": [
       "(array([[55, 15],\n",
       "        [51, 15],\n",
       "        [ 1,  4],\n",
       "        [53,  4],\n",
       "        ...,\n",
       "        [63,  7],\n",
       "        [60,  7],\n",
       "        [56,  7],\n",
       "        [55,  7]]), array([[51, 15],\n",
       "        [ 1,  4],\n",
       "        [53,  4],\n",
       "        [ 1,  4],\n",
       "        ...,\n",
       "        [60,  7],\n",
       "        [56,  7],\n",
       "        [55,  7],\n",
       "        [ 1,  7]]))"
      ]
     },
     "execution_count": 58,
     "metadata": {},
     "output_type": "execute_result"
    }
   ],
   "source": [
    "pre_l[1]"
   ]
  },
  {
   "cell_type": "code",
   "execution_count": 59,
   "metadata": {},
   "outputs": [
    {
     "data": {
      "text/plain": [
       "(array([  0, 136, 131, 129]), array([    0,  4914,  9771, 14753]))"
      ]
     },
     "execution_count": 59,
     "metadata": {},
     "output_type": "execute_result"
    }
   ],
   "source": [
    "pre_l.ri, pre_l.ro"
   ]
  },
  {
   "cell_type": "code",
   "execution_count": 43,
   "metadata": {},
   "outputs": [
    {
     "data": {
      "text/plain": [
       "(array([ 48,  17, 169, 199]), array([    0,  5031, 10016, 14891]))"
      ]
     },
     "execution_count": 43,
     "metadata": {},
     "output_type": "execute_result"
    }
   ],
   "source": [
    "pre_l.ri, pre_l.ro"
   ]
  },
  {
   "cell_type": "code",
   "execution_count": null,
   "metadata": {},
   "outputs": [],
   "source": [
    "pre_l"
   ]
  },
  {
   "cell_type": "code",
   "execution_count": 39,
   "metadata": {},
   "outputs": [
    {
     "data": {
      "text/plain": [
       "(array([[  2, 136],\n",
       "        [  1,   4],\n",
       "        [ 58,  11],\n",
       "        [ 55,  11],\n",
       "        ...,\n",
       "        [ 51,  11],\n",
       "        [  1,   7],\n",
       "        [ 67,   5],\n",
       "        [  1,   5]]), array([[ 1,  4],\n",
       "        [58, 11],\n",
       "        [55, 11],\n",
       "        [51, 11],\n",
       "        ...,\n",
       "        [ 1,  7],\n",
       "        [67,  5],\n",
       "        [ 1,  5],\n",
       "        [65,  5]]))"
      ]
     },
     "execution_count": 39,
     "metadata": {},
     "output_type": "execute_result"
    }
   ],
   "source": [
    "pre_l[0]"
   ]
  },
  {
   "cell_type": "code",
   "execution_count": 23,
   "metadata": {},
   "outputs": [
    {
     "data": {
      "text/plain": [
       "__main__.LMNPPreloader"
      ]
     },
     "execution_count": 23,
     "metadata": {},
     "output_type": "execute_result"
    }
   ],
   "source": [
    "type(data.train_dl.dataset)"
   ]
  },
  {
   "cell_type": "markdown",
   "metadata": {},
   "source": [
    "### Create sample"
   ]
  },
  {
   "cell_type": "code",
   "execution_count": 9,
   "metadata": {},
   "outputs": [],
   "source": [
    "def create_databunch(files, cache_name, batch_size=32, load_cached=False):\n",
    "    if load_cached and (out_path/f'{cache_name}/train_ids.npy').exists():\n",
    "        data = LMNPDataBunch.load(out_path, bs=batch_size, cache_name=cache_name)\n",
    "    else:\n",
    "        ps = [OpenNPFileProcessor()]\n",
    "\n",
    "        data = (ItemList(items=files, path=out_path, processor=ps)\n",
    "                .split_by_rand_pct(0.01, seed=6)\n",
    "                .label_const(label_cls=LMLabelList))\n",
    "        data.x._bunch = LMNPDataBunch\n",
    "        data = data.databunch(bs=batch_size)\n",
    "        data.save(cache_name)\n",
    "    return data"
   ]
  },
  {
   "cell_type": "code",
   "execution_count": 15,
   "metadata": {},
   "outputs": [],
   "source": [
    "import random\n",
    "sample_data = create_databunch(get_files(csv, 1000), cache_name='tmp/sample')"
   ]
  },
  {
   "cell_type": "markdown",
   "metadata": {},
   "source": [
    "Note: we are reusing all_vocab for the following datasets"
   ]
  },
  {
   "cell_type": "markdown",
   "metadata": {},
   "source": [
    "### Save vocab sizes"
   ]
  },
  {
   "cell_type": "code",
   "execution_count": 16,
   "metadata": {},
   "outputs": [
    {
     "data": {
      "text/plain": [
       "[117, 146]"
      ]
     },
     "execution_count": 16,
     "metadata": {},
     "output_type": "execute_result"
    }
   ],
   "source": [
    "VOCAB_SZ = create_vocab_sizes(out_path/'tmp/all'); VOCAB_SZ"
   ]
  },
  {
   "cell_type": "markdown",
   "metadata": {},
   "source": [
    "### Create Hooktheory C Dataset"
   ]
  },
  {
   "cell_type": "code",
   "execution_count": 17,
   "metadata": {},
   "outputs": [
    {
     "data": {
      "text/plain": [
       "19982"
      ]
     },
     "execution_count": 17,
     "metadata": {},
     "output_type": "execute_result"
    }
   ],
   "source": [
    "hook_csv = csv.loc[csv.source.isin(['hooktheory_c'])]\n",
    "hook_files = get_files(hook_csv); len(hook_files)"
   ]
  },
  {
   "cell_type": "code",
   "execution_count": 18,
   "metadata": {},
   "outputs": [],
   "source": [
    "hook_data = create_databunch(hook_files, cache_name='tmp/hook_c')"
   ]
  },
  {
   "cell_type": "markdown",
   "metadata": {},
   "source": [
    "### Create Classical Dataset"
   ]
  },
  {
   "cell_type": "code",
   "execution_count": 19,
   "metadata": {},
   "outputs": [],
   "source": [
    "from collections import Counter"
   ]
  },
  {
   "cell_type": "code",
   "execution_count": 20,
   "metadata": {},
   "outputs": [
    {
     "data": {
      "text/plain": [
       "Counter({'hooktheory': 19820,\n",
       "         'freemidi': 1859,\n",
       "         'midiworld': 1752,\n",
       "         'ecomp': 2519,\n",
       "         'cprato': 218,\n",
       "         'classical_piano': 326,\n",
       "         'classical_archives': 4788,\n",
       "         'musescore': 9189,\n",
       "         'wikifonia': 3912,\n",
       "         'lmd': 4946,\n",
       "         'reddit': 43303,\n",
       "         'hooktheory_c': 19982})"
      ]
     },
     "execution_count": 20,
     "metadata": {},
     "output_type": "execute_result"
    }
   ],
   "source": [
    "Counter(csv.source)"
   ]
  },
  {
   "cell_type": "code",
   "execution_count": 21,
   "metadata": {},
   "outputs": [
    {
     "data": {
      "text/plain": [
       "20734"
      ]
     },
     "execution_count": 21,
     "metadata": {},
     "output_type": "execute_result"
    }
   ],
   "source": [
    "clc_csv = csv.loc[csv.source.isin(['classical_piano', 'ecomp', 'musescore', 'wikifonia', 'classical_archives'])]\n",
    "clc_files = get_files(clc_csv); len(clc_files)"
   ]
  },
  {
   "cell_type": "code",
   "execution_count": 22,
   "metadata": {},
   "outputs": [],
   "source": [
    "clc_data = create_databunch(clc_files, cache_name='tmp/clc')"
   ]
  },
  {
   "cell_type": "code",
   "execution_count": 23,
   "metadata": {},
   "outputs": [
    {
     "data": {
      "text/plain": [
       "20734"
      ]
     },
     "execution_count": 23,
     "metadata": {},
     "output_type": "execute_result"
    }
   ],
   "source": [
    "len(clc_files)"
   ]
  },
  {
   "cell_type": "markdown",
   "metadata": {},
   "source": [
    "## Low quality"
   ]
  },
  {
   "cell_type": "code",
   "execution_count": 24,
   "metadata": {},
   "outputs": [
    {
     "data": {
      "text/plain": [
       "63623"
      ]
     },
     "execution_count": 24,
     "metadata": {},
     "output_type": "execute_result"
    }
   ],
   "source": [
    "lq_csv = csv.loc[csv.source.isin(['reddit', 'classical_archives', 'classical_piano', 'ecomp', 'midiworld', 'freemidi', 'lmd', 'cprato', 'wikifonia'])]\n",
    "lq_files = get_files(lq_csv); len(lq_files)"
   ]
  },
  {
   "cell_type": "code",
   "execution_count": 25,
   "metadata": {},
   "outputs": [],
   "source": [
    "lq_data = create_databunch(lq_files, cache_name='tmp/lq')"
   ]
  },
  {
   "cell_type": "markdown",
   "metadata": {},
   "source": [
    "## All High quality"
   ]
  },
  {
   "cell_type": "code",
   "execution_count": 26,
   "metadata": {},
   "outputs": [
    {
     "data": {
      "text/plain": [
       "29009"
      ]
     },
     "execution_count": 26,
     "metadata": {},
     "output_type": "execute_result"
    }
   ],
   "source": [
    "hq_csv = csv.loc[csv.source.isin(['hooktheory', 'musescore'])]\n",
    "hq_files = get_files(hq_csv); len(hq_files)"
   ]
  },
  {
   "cell_type": "code",
   "execution_count": 27,
   "metadata": {},
   "outputs": [],
   "source": [
    "hq_data = create_databunch(hq_files, cache_name='tmp/hq')"
   ]
  },
  {
   "cell_type": "markdown",
   "metadata": {},
   "source": [
    "### Testing"
   ]
  },
  {
   "cell_type": "code",
   "execution_count": 28,
   "metadata": {},
   "outputs": [],
   "source": [
    "data = all_data"
   ]
  },
  {
   "cell_type": "code",
   "execution_count": 29,
   "metadata": {},
   "outputs": [
    {
     "data": {
      "text/plain": [
       "LMNPItemList (90944 items)\n",
       "[[  2 135]\n",
       " [  1   5]\n",
       " [ 58   4]\n",
       " [  1   4]\n",
       " ...\n",
       " [  1  11]\n",
       " [ 61  19]\n",
       " [ 57  19]\n",
       " [ 54  19]],[[  2 135]\n",
       " [  1   4]\n",
       " [ 68   4]\n",
       " [  1   4]\n",
       " ...\n",
       " [  1   4]\n",
       " [ 70   7]\n",
       " [  1   7]\n",
       " [ 70  15]],[[  2 135]\n",
       " [  1   4]\n",
       " [ 75   4]\n",
       " [ 68   9]\n",
       " ...\n",
       " [  1   4]\n",
       " [ 65   5]\n",
       " [  1   5]\n",
       " [ 67   5]],[[  2 135]\n",
       " [  1   4]\n",
       " [ 68   7]\n",
       " [ 56  19]\n",
       " ...\n",
       " [  1  15]\n",
       " [ 65   5]\n",
       " [  1   5]\n",
       " [ 68   5]],[[  2 135]\n",
       " [  1   4]\n",
       " [ 65   7]\n",
       " [ 60  19]\n",
       " ...\n",
       " [ 55  11]\n",
       " [ 51  11]\n",
       " [  1   7]\n",
       " [ 65   7]]\n",
       "Path: data/midi/v13/piano_duet"
      ]
     },
     "execution_count": 29,
     "metadata": {},
     "output_type": "execute_result"
    }
   ],
   "source": [
    "data.train_ds.x"
   ]
  },
  {
   "cell_type": "code",
   "execution_count": null,
   "metadata": {},
   "outputs": [],
   "source": []
  },
  {
   "cell_type": "code",
   "execution_count": null,
   "metadata": {},
   "outputs": [],
   "source": [
    "# train_ids_file = out_path/'tmp/all/train_ids.npy'\n",
    "# all_ids = np.load(train_ids_file)\n",
    "# id_cat = np.concatenate(all_ids); id_cat.shape\n",
    "# ax = tuple(range(len(id_cat.shape)-1))\n",
    "# max_vocab = id_cat.max(axis=ax)\n",
    "# max_vocab = (max_vocab+1).tolist(); max_vocab"
   ]
  },
  {
   "cell_type": "code",
   "execution_count": 18,
   "metadata": {},
   "outputs": [
    {
     "data": {
      "image/png": "[encoded data removed]",
      "text/plain": [
       "<IPython.core.display.Image object>"
      ]
     },
     "metadata": {
      "image/png": {
       "height": 179,
       "width": 751
      }
     },
     "output_type": "display_data"
    }
   ],
   "source": [
    "npenc2stream(data.train_ds.x[10]).show()"
   ]
  }
 ],
 "metadata": {
  "kernelspec": {
   "display_name": "Python 3",
   "language": "python",
   "name": "python3"
  },
  "language_info": {
   "codemirror_mode": {
    "name": "ipython",
    "version": 3
   },
   "file_extension": ".py",
   "mimetype": "text/x-python",
   "name": "python",
   "nbconvert_exporter": "python",
   "pygments_lexer": "ipython3",
   "version": "3.7.2"
  }
 },
 "nbformat": 4,
 "nbformat_minor": 2
}

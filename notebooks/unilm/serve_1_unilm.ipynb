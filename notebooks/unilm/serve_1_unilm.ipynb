{
 "cells": [
  {
   "cell_type": "markdown",
   "metadata": {},
   "source": [
    "# Attention Architecture"
   ]
  },
  {
   "cell_type": "code",
   "execution_count": 1,
   "metadata": {},
   "outputs": [],
   "source": [
    "%reload_ext autoreload\n",
    "%autoreload 2\n",
    "%matplotlib inline"
   ]
  },
  {
   "cell_type": "code",
   "execution_count": 2,
   "metadata": {},
   "outputs": [],
   "source": [
    "import music21"
   ]
  },
  {
   "cell_type": "code",
   "execution_count": 3,
   "metadata": {},
   "outputs": [],
   "source": [
    "# from fastai.text import *\n",
    "from enum import Enum\n",
    "import torch"
   ]
  },
  {
   "cell_type": "code",
   "execution_count": 4,
   "metadata": {},
   "outputs": [],
   "source": [
    "import numpy as np\n",
    "import torch.nn as nn"
   ]
  },
  {
   "cell_type": "code",
   "execution_count": 5,
   "metadata": {},
   "outputs": [],
   "source": [
    "np.set_printoptions(edgeitems=10, threshold=40, linewidth=200)"
   ]
  },
  {
   "cell_type": "code",
   "execution_count": 6,
   "metadata": {},
   "outputs": [],
   "source": [
    "import sys\n",
    "sys.path.insert(0, '../../')\n",
    "from src.fastai_data import *\n",
    "from src.encode_data import *\n",
    "from src.serve import *"
   ]
  },
  {
   "cell_type": "code",
   "execution_count": 7,
   "metadata": {},
   "outputs": [],
   "source": [
    "from src.music_transformer import *"
   ]
  },
  {
   "cell_type": "code",
   "execution_count": 8,
   "metadata": {},
   "outputs": [],
   "source": [
    "from src.unilm import *"
   ]
  },
  {
   "cell_type": "code",
   "execution_count": 9,
   "metadata": {},
   "outputs": [],
   "source": [
    "config = unilm_config(vocab)"
   ]
  },
  {
   "cell_type": "code",
   "execution_count": 10,
   "metadata": {},
   "outputs": [],
   "source": [
    "# # config['n_layers'] = 8\n",
    "# # config['dec_layers'] = 0\n",
    "# config['n_layers'] = 2\n",
    "# config['dec_layers'] = 2\n",
    "# config['mem_len'] = 512\n",
    "# config['rand_bptt'] = False\n",
    "# config['bptt'] = 512\n",
    "# config['bs'] = 8\n"
   ]
  },
  {
   "cell_type": "code",
   "execution_count": 11,
   "metadata": {},
   "outputs": [
    {
     "data": {
      "text/plain": [
       "{'ctx_len': 150,\n",
       " 'n_layers': 8,\n",
       " 'n_heads': 8,\n",
       " 'd_model': 512,\n",
       " 'd_head': 64,\n",
       " 'd_inner': 2048,\n",
       " 'resid_p': 0.1,\n",
       " 'attn_p': 0.1,\n",
       " 'ff_p': 0.1,\n",
       " 'embed_p': 0.1,\n",
       " 'output_p': 0.1,\n",
       " 'bias': False,\n",
       " 'scale': True,\n",
       " 'act': <Activation.GeLU: 3>,\n",
       " 'double_drop': True,\n",
       " 'tie_weights': True,\n",
       " 'out_bias': True,\n",
       " 'init': <function fastai.text.models.transformer.init_transformer(m)>,\n",
       " 'mem_len': 512,\n",
       " 'mask': True,\n",
       " 'pad_idx': 1,\n",
       " 'bos_idx': 0,\n",
       " 'sep_idx': 8,\n",
       " 'transpose_range': (0, 12),\n",
       " 'rand_transpose': True,\n",
       " 'rand_bptt': False,\n",
       " 'note_range': (9, 137),\n",
       " 'bs': 16,\n",
       " 'bptt': 256,\n",
       " 'vocab_size': 312,\n",
       " 'dec_layers': 8}"
      ]
     },
     "execution_count": 11,
     "metadata": {},
     "output_type": "execute_result"
    }
   ],
   "source": [
    "config"
   ]
  },
  {
   "cell_type": "code",
   "execution_count": 12,
   "metadata": {},
   "outputs": [],
   "source": [
    "base_path = Path('../../data/midi/v16/sf4/')"
   ]
  },
  {
   "cell_type": "code",
   "execution_count": 13,
   "metadata": {},
   "outputs": [],
   "source": [
    "cache_name = 'tmp/hook_c'\n",
    "# cache_name = 'tmp/sample'"
   ]
  },
  {
   "cell_type": "markdown",
   "metadata": {},
   "source": [
    "## BERT Dataloading"
   ]
  },
  {
   "cell_type": "code",
   "execution_count": 14,
   "metadata": {},
   "outputs": [],
   "source": [
    "ns_dl_tfms = [mask_tfm, next_sentence_tfm]\n",
    "ns_config = config.copy()\n",
    "ns_config['bs'] *= 2\n",
    "ns_data = load_music_data(base_path/'piano_duet', cache_name=cache_name, vocab=vocab, \n",
    "                          y_offset=0, dl_tfms=ns_dl_tfms, **ns_config)"
   ]
  },
  {
   "cell_type": "code",
   "execution_count": 15,
   "metadata": {},
   "outputs": [
    {
     "data": {
      "text/plain": [
       "[torch.Size([32, 256]),\n",
       " torch.Size([32, 256]),\n",
       " torch.Size([32, 256]),\n",
       " torch.Size([32, 256])]"
      ]
     },
     "execution_count": 15,
     "metadata": {},
     "output_type": "execute_result"
    }
   ],
   "source": [
    "xb,yb = ns_data.one_batch(); [x.shape for x in xb+yb]"
   ]
  },
  {
   "cell_type": "markdown",
   "metadata": {},
   "source": [
    "## S2S Dataloading"
   ]
  },
  {
   "cell_type": "code",
   "execution_count": 16,
   "metadata": {},
   "outputs": [],
   "source": [
    "s2s_dl_tfms = [s2s_tfm]\n",
    "s2s_data = MusicDataBunch.load(base_path/'s2s_encode', cache_name=cache_name, \n",
    "                           preloader_cls=S2SPreloader, dl_tfms=s2s_dl_tfms, y_offset=1,\n",
    "                           shuffle_dl=True, **config)\n"
   ]
  },
  {
   "cell_type": "code",
   "execution_count": 17,
   "metadata": {},
   "outputs": [
    {
     "data": {
      "text/plain": [
       "[torch.Size([16, 256]),\n",
       " torch.Size([16, 256]),\n",
       " torch.Size([16, 256]),\n",
       " torch.Size([16, 256]),\n",
       " torch.Size([16, 256])]"
      ]
     },
     "execution_count": 17,
     "metadata": {},
     "output_type": "execute_result"
    }
   ],
   "source": [
    "s2s_data.train_dl.dl.dataset.on_epoch_begin()\n",
    "s2s_data.train_dl.dl.dataset.on_epoch_end()\n",
    "xb,yb = s2s_data.one_batch(); [x.shape for x in xb+yb]"
   ]
  },
  {
   "cell_type": "markdown",
   "metadata": {},
   "source": [
    "### Load NextWord dataset (Language Model)"
   ]
  },
  {
   "cell_type": "code",
   "execution_count": 18,
   "metadata": {},
   "outputs": [],
   "source": [
    "\n",
    "def nw_2_tfm(b):\n",
    "    x,y_nw = b\n",
    "    x_mask,y_mask = mask_tfm((x,x), mask_last=True)\n",
    "#     all_pad = torch.full_like(x, vocab.pad_idx)\n",
    "#     return (x_mask,torch.full_like(x, TaskType.NextWord.value),all_pad),(y_mask,y_nw) \n",
    "    return (x_mask,torch.full_like(x, TaskType.NextWord.value),x),(y_mask,y_nw) \n",
    "    "
   ]
  },
  {
   "cell_type": "code",
   "execution_count": 43,
   "metadata": {},
   "outputs": [],
   "source": [
    "\n",
    "nw_data = MusicDataBunch.load(base_path/'piano_duet', cache_name=cache_name, \n",
    "                              vocab=vocab, dl_tfms=[nw_2_tfm], y_offset=1, \n",
    "                              train_tfms=[to_single_stream], valid_tfms=[to_single_stream], **config)\n",
    "nw_data.vocab = vocab"
   ]
  },
  {
   "cell_type": "markdown",
   "metadata": {},
   "source": [
    "## Datasets"
   ]
  },
  {
   "cell_type": "code",
   "execution_count": 44,
   "metadata": {},
   "outputs": [],
   "source": [
    "datasets = [nw_data, s2s_data, ns_data]\n",
    "# datasets = [nw_data]"
   ]
  },
  {
   "cell_type": "code",
   "execution_count": 45,
   "metadata": {},
   "outputs": [
    {
     "data": {
      "text/plain": [
       "DeviceDataLoader(dl=<torch.utils.data.dataloader.DataLoader object at 0x7ff203e13048>, device=device(type='cuda'), tfms=[<function mask_tfm at 0x7ff203e866a8>, <function next_sentence_tfm at 0x7ff203e86620>], collate_fn=<function data_collate at 0x7ff2157aa7b8>)"
      ]
     },
     "execution_count": 45,
     "metadata": {},
     "output_type": "execute_result"
    }
   ],
   "source": [
    "ns_data.train_dl"
   ]
  },
  {
   "cell_type": "markdown",
   "metadata": {},
   "source": [
    "## Load"
   ]
  },
  {
   "cell_type": "code",
   "execution_count": 46,
   "metadata": {},
   "outputs": [],
   "source": [
    "def predict_func(parts): return [p if idx == 1 else F.softmax(p, dim=-1) for idx,p in enumerate(parts)]\n",
    "# Need to monkey patch pred_batch activation function for 2d array\n",
    "loss_func_name = camel2snake(BertLoss.__name__)\n",
    "basic_train.loss_func_name2activ[loss_func_name] = predict_func"
   ]
  },
  {
   "cell_type": "code",
   "execution_count": 47,
   "metadata": {},
   "outputs": [],
   "source": [
    "loss_func = BertLoss(loss_mult=(1,1,1,1))\n",
    "learn = bert_model_learner(datasets[0], config.copy(), \n",
    "                           loss_func=loss_func)\n",
    "\n",
    "# model = get_bert_model(config['vocab_size'], config=config.copy())\n",
    "# learn = BertLearner(datasets[0], model, config=config, split_func=None, loss_func=loss_func)"
   ]
  },
  {
   "cell_type": "code",
   "execution_count": 48,
   "metadata": {},
   "outputs": [],
   "source": [
    "learn.metrics = [mask_acc, nw_acc, s2s_acc, ns_acc]"
   ]
  },
  {
   "cell_type": "code",
   "execution_count": 49,
   "metadata": {},
   "outputs": [],
   "source": [
    "from fastai.callbacks.rnn import RNNTrainer\n",
    "learn.callbacks = [c for c in learn.callbacks if not isinstance(c, RNNTrainer)]\n",
    "learn.callbacks.append(BertTrainer(learn, datasets))"
   ]
  },
  {
   "cell_type": "code",
   "execution_count": 50,
   "metadata": {},
   "outputs": [
    {
     "data": {
      "text/plain": [
       "[src.unilm.BertTrainer]"
      ]
     },
     "execution_count": 50,
     "metadata": {},
     "output_type": "execute_result"
    }
   ],
   "source": [
    "[type(c) for c in learn.callbacks]"
   ]
  },
  {
   "cell_type": "code",
   "execution_count": 51,
   "metadata": {},
   "outputs": [],
   "source": [
    "learn = learn.to_fp16()"
   ]
  },
  {
   "cell_type": "markdown",
   "metadata": {},
   "source": [
    "### Training"
   ]
  },
  {
   "cell_type": "code",
   "execution_count": 52,
   "metadata": {
    "scrolled": false
   },
   "outputs": [],
   "source": [
    "# learn.fit_one_cycle(12, 1e-4)"
   ]
  },
  {
   "cell_type": "markdown",
   "metadata": {},
   "source": [
    "## Load existing"
   ]
  },
  {
   "cell_type": "code",
   "execution_count": 53,
   "metadata": {},
   "outputs": [
    {
     "data": {
      "text/plain": [
       "PosixPath('../../data/midi/v16/sf4/models/unilm')"
      ]
     },
     "execution_count": 53,
     "metadata": {},
     "output_type": "execute_result"
    }
   ],
   "source": [
    "base_path/'models/unilm'"
   ]
  },
  {
   "cell_type": "code",
   "execution_count": 54,
   "metadata": {},
   "outputs": [
    {
     "data": {
      "text/plain": [
       "[PosixPath('../../data/midi/v16/sf4/piano_duet/models/unilm/hq/4_ep90_best.pth'),\n",
       " PosixPath('../../data/midi/v16/sf4/piano_duet/models/unilm/hq/4_ep90.pth'),\n",
       " PosixPath('../../data/midi/v16/sf4/piano_duet/models/unilm/hq/3_ep30_full_best.pth'),\n",
       " PosixPath('../../data/midi/v16/sf4/piano_duet/models/unilm/hq/3_ep30_full.pth'),\n",
       " PosixPath('../../data/midi/v16/sf4/piano_duet/models/unilm/hook_c/1_ep60.pth'),\n",
       " PosixPath('../../data/midi/v16/sf4/piano_duet/models/unilm/hook_c/1_ep60_best.pth'),\n",
       " PosixPath('../../data/midi/v16/sf4/piano_duet/models/unilm/lq/1_ep30_best.pth'),\n",
       " PosixPath('../../data/midi/v16/sf4/piano_duet/models/unilm/lq/3_ep30_full_best.pth'),\n",
       " PosixPath('../../data/midi/v16/sf4/piano_duet/models/unilm/lq/1_ep30.pth'),\n",
       " PosixPath('../../data/midi/v16/sf4/piano_duet/models/unilm/lq/2_ep30_full_best.pth'),\n",
       " PosixPath('../../data/midi/v16/sf4/piano_duet/models/unilm/lq/3_ep30_full.pth')]"
      ]
     },
     "execution_count": 54,
     "metadata": {},
     "output_type": "execute_result"
    }
   ],
   "source": [
    "saved_models = get_files(base_path/'piano_duet/models/unilm', recurse=True, extensions=['.pth']); saved_models"
   ]
  },
  {
   "cell_type": "code",
   "execution_count": 55,
   "metadata": {},
   "outputs": [
    {
     "data": {
      "text/plain": [
       "PosixPath('../../data/midi/v16/sf4/piano_duet/models/unilm/hook_c/1_ep60_best.pth')"
      ]
     },
     "execution_count": 55,
     "metadata": {},
     "output_type": "execute_result"
    }
   ],
   "source": [
    "load_path = saved_models[5]\n",
    "state = torch.load(load_path, map_location='cpu')\n",
    "get_model(learn.model).load_state_dict(state['model'])\n",
    "load_path"
   ]
  },
  {
   "cell_type": "markdown",
   "metadata": {},
   "source": [
    "## Prediction"
   ]
  },
  {
   "cell_type": "markdown",
   "metadata": {},
   "source": [
    "Prediction algo"
   ]
  },
  {
   "cell_type": "code",
   "execution_count": 56,
   "metadata": {},
   "outputs": [
    {
     "data": {
      "text/html": [
       "<div>\n",
       "<style scoped>\n",
       "    .dataframe tbody tr th:only-of-type {\n",
       "        vertical-align: middle;\n",
       "    }\n",
       "\n",
       "    .dataframe tbody tr th {\n",
       "        vertical-align: top;\n",
       "    }\n",
       "\n",
       "    .dataframe thead th {\n",
       "        text-align: right;\n",
       "    }\n",
       "</style>\n",
       "<table border=\"1\" class=\"dataframe\">\n",
       "  <thead>\n",
       "    <tr style=\"text-align: right;\">\n",
       "      <th></th>\n",
       "      <th>section</th>\n",
       "      <th>ht_key</th>\n",
       "      <th>song_url</th>\n",
       "      <th>midi</th>\n",
       "      <th>artist</th>\n",
       "      <th>md5</th>\n",
       "      <th>numpy</th>\n",
       "      <th>ht_offset</th>\n",
       "      <th>title</th>\n",
       "      <th>midi_title</th>\n",
       "      <th>parts</th>\n",
       "      <th>genres</th>\n",
       "      <th>mxl</th>\n",
       "      <th>source</th>\n",
       "      <th>ht_mode</th>\n",
       "      <th>ht_time_signature</th>\n",
       "      <th>ht_bpm</th>\n",
       "    </tr>\n",
       "  </thead>\n",
       "  <tbody>\n",
       "    <tr>\n",
       "      <th>193208</th>\n",
       "      <td>chorus</td>\n",
       "      <td>C</td>\n",
       "      <td>https://www.hooktheory.com/theorytab/view/ritc...</td>\n",
       "      <td>midi_sources/hooktheory/pianoroll/r/ritchie-va...</td>\n",
       "      <td>ritchie-valen</td>\n",
       "      <td>aeee134e4034e5f98bb630c56d2f7f8c</td>\n",
       "      <td>sf4/piano_duet/hooktheory/pianoroll/r/ritchie-...</td>\n",
       "      <td>0.0</td>\n",
       "      <td>la-bamba</td>\n",
       "      <td>La Bamba</td>\n",
       "      <td>chorus</td>\n",
       "      <td>Pop,Rock</td>\n",
       "      <td>NaN</td>\n",
       "      <td>hooktheory_c</td>\n",
       "      <td>1.0</td>\n",
       "      <td>4.0</td>\n",
       "      <td>144.0</td>\n",
       "    </tr>\n",
       "  </tbody>\n",
       "</table>\n",
       "</div>"
      ],
      "text/plain": [
       "       section ht_key                                           song_url  \\\n",
       "193208  chorus      C  https://www.hooktheory.com/theorytab/view/ritc...   \n",
       "\n",
       "                                                     midi         artist  \\\n",
       "193208  midi_sources/hooktheory/pianoroll/r/ritchie-va...  ritchie-valen   \n",
       "\n",
       "                                     md5  \\\n",
       "193208  aeee134e4034e5f98bb630c56d2f7f8c   \n",
       "\n",
       "                                                    numpy  ht_offset  \\\n",
       "193208  sf4/piano_duet/hooktheory/pianoroll/r/ritchie-...        0.0   \n",
       "\n",
       "           title midi_title   parts    genres  mxl        source  ht_mode  \\\n",
       "193208  la-bamba   La Bamba  chorus  Pop,Rock  NaN  hooktheory_c      1.0   \n",
       "\n",
       "        ht_time_signature  ht_bpm  \n",
       "193208                4.0   144.0  "
      ]
     },
     "execution_count": 56,
     "metadata": {},
     "output_type": "execute_result"
    }
   ],
   "source": [
    "csv_path = base_path/f'piano_duet/piano_duet.csv'\n",
    "csv = pd.read_csv(csv_path)\n",
    "df = csv.loc[csv['numpy'].notna()];\n",
    "\n",
    "# keywords = 'la bamba'.replace(' ', '|')\n",
    "title_filter = df['title'].str.contains('la-bamba')==True\n",
    "artist_filter = df['artist'].str.contains('')==True\n",
    "results = df[title_filter & artist_filter]; results.head()\n",
    "results = results[results.source == 'hooktheory_c']; results.head()"
   ]
  },
  {
   "cell_type": "code",
   "execution_count": 57,
   "metadata": {},
   "outputs": [
    {
     "data": {
      "text/plain": [
       "(PosixPath('../../data/midi/v16/sf4/piano_duet/hooktheory/pianoroll/r/ritchie-valen/la-bamba/chorus_key_cmajor.npy'),\n",
       " PosixPath('../../data/midi/v16/midi_sources/hooktheory/pianoroll/r/ritchie-valen/la-bamba/chorus_key_cmajor.mid'))"
      ]
     },
     "execution_count": 57,
     "metadata": {},
     "output_type": "execute_result"
    }
   ],
   "source": [
    "idx = 0\n",
    "file = base_path.parent/results.numpy.values[idx];\n",
    "orig = base_path.parent/results.midi.values[idx];\n",
    "file, orig"
   ]
  },
  {
   "cell_type": "code",
   "execution_count": 58,
   "metadata": {},
   "outputs": [],
   "source": [
    "seed_len = 40\n",
    "song_np = np.load(file)\n",
    "seed_np = np.load(file)[:seed_len]\n",
    "xb = torch.tensor(to_single_stream(seed_np, vocab=vocab))[None]\n",
    "if torch.cuda.is_available(): xb = xb.cuda()"
   ]
  },
  {
   "cell_type": "code",
   "execution_count": 59,
   "metadata": {},
   "outputs": [],
   "source": [
    "# seed_stream = npenc2stream(seed_np)\n",
    "# seed_stream.show()"
   ]
  },
  {
   "cell_type": "code",
   "execution_count": 60,
   "metadata": {},
   "outputs": [
    {
     "data": {
      "text/plain": [
       "tensor([[  0,   1,   8, 147,  64, 139,   8, 139,  66, 139,   8, 139,  68, 139,\n",
       "           8, 139,  69, 141,  64, 145,  61, 145,  57, 145,   8, 141,  73, 139,\n",
       "           8, 139,  76, 139,   8, 139,  74, 139,  69, 145,  66, 145,  62, 145,\n",
       "           8, 139,  74, 139,   8, 139,  78, 139,   8, 139,  76, 141,   8, 139,\n",
       "          59, 145,  56, 145,  52, 145,   8, 139,  64, 139,   8, 139,  68, 139,\n",
       "           8, 139,  71, 139,   8, 139,  74, 139,  69, 145,  66, 145]],\n",
       "       device='cuda:0')"
      ]
     },
     "execution_count": 60,
     "metadata": {},
     "output_type": "execute_result"
    }
   ],
   "source": [
    "xb"
   ]
  },
  {
   "cell_type": "code",
   "execution_count": 61,
   "metadata": {},
   "outputs": [],
   "source": [
    "# task_type = torch.full_like(xb, TaskType.NextWord.value)\n",
    "\n",
    "# learn.model.reset()\n",
    "\n",
    "# res = learn.pred_batch(batch=((xb,task_type,xb),xb)); res\n",
    "\n",
    "# preds = loss_batch(learn.model.eval(), (xb,task_type,xb), yb); preds"
   ]
  },
  {
   "cell_type": "code",
   "execution_count": 62,
   "metadata": {},
   "outputs": [],
   "source": [
    "# last = res[-1][0, -1]; last[143]\n",
    "# idx = torch.multinomial(res[-1][0, -1], 1).item(); idx"
   ]
  },
  {
   "cell_type": "code",
   "execution_count": 64,
   "metadata": {},
   "outputs": [],
   "source": [
    "\n",
    "def predict_nw(self, xb:Tensor, n_words:int=128,\n",
    "                 temperatures:float=(1.0,1.0), min_bars=4,\n",
    "                 top_k=40, top_p=0.9):\n",
    "    \"Return the `n_words` that come after `text`.\"\n",
    "    self.model.reset()\n",
    "    if xb.shape[0] > 1: xb = xb[0][None]\n",
    "    seed = xb.cpu().numpy().squeeze()\n",
    "    yb = torch.ones_like(xb)\n",
    "    new_idx = []\n",
    "\n",
    "    sep_count = 0\n",
    "\n",
    "    bar_len = SAMPLE_FREQ * 4 # assuming 4/4 time\n",
    "    vocab = self.data.vocab\n",
    "\n",
    "    with torch.no_grad():\n",
    "        for i in progress_bar(range(n_words), leave=True):\n",
    "            task_type = torch.full_like(xb, TaskType.NextWord.value)\n",
    "\n",
    "            res = self.pred_batch(batch=((xb,task_type,xb),yb))[-1][0, -1]\n",
    "\n",
    "            # bar = 16 beats\n",
    "            if (sep_count // 16) <= min_bars: res[vocab.bos_idx] = 0.\n",
    "\n",
    "            # Use first temperatures value if last prediction was duration\n",
    "            temperature = temperatures[0] if (len(new_idx)==0 or self.data.vocab.is_duration(new_idx[-1])) else temperatures[1]\n",
    "            if temperature != 1.: res.pow_(1 / temperature)\n",
    "\n",
    "            res = top_k_top_p_filtering(res, top_k=top_k, top_p=top_p, filter_value=0)\n",
    "            idx = torch.multinomial(res, 1).item()\n",
    "\n",
    "            if new_idx and new_idx[-1]==vocab.sep_idx: \n",
    "                duration = idx - vocab.dur_range[0]\n",
    "                sep_count += duration\n",
    "                # print('Bars', duration, sep_count // 16)\n",
    "\n",
    "            if idx==vocab.bos_idx: \n",
    "                print('Predicted BOS token. Returning prediction...')\n",
    "                break\n",
    "\n",
    "\n",
    "            new_idx.append(idx)\n",
    "            xb = xb.new_tensor([idx])[None]\n",
    "    return np.array(new_idx), seed\n"
   ]
  },
  {
   "cell_type": "code",
   "execution_count": 65,
   "metadata": {},
   "outputs": [],
   "source": [
    "# vocab.itos[143]"
   ]
  },
  {
   "cell_type": "code",
   "execution_count": 66,
   "metadata": {},
   "outputs": [],
   "source": [
    "# if xb.shape[0] > 1: xb = xb[0][None]\n",
    "# seed = xb.cpu().numpy().squeeze()\n",
    "# yb = torch.ones_like(xb)\n",
    "# res = learn.pred_batch(batch=((xb, torch.full_like(xb, TaskType.NextWord.value),xb),(yb)))\n",
    "# res[-1][0, -1][141]"
   ]
  },
  {
   "cell_type": "code",
   "execution_count": 67,
   "metadata": {},
   "outputs": [
    {
     "data": {
      "text/html": [
       "\n",
       "    <div>\n",
       "        <style>\n",
       "            /* Turns off some styling */\n",
       "            progress {\n",
       "                /* gets rid of default border in Firefox and Opera. */\n",
       "                border: none;\n",
       "                /* Needs to be in here for Safari polyfill so background images work as expected. */\n",
       "                background-size: auto;\n",
       "            }\n",
       "            .progress-bar-interrupted, .progress-bar-interrupted::-webkit-progress-bar {\n",
       "                background: #F44336;\n",
       "            }\n",
       "        </style>\n",
       "      <progress value='0' class='progress-bar-interrupted' max='400', style='width:300px; height:20px; vertical-align: middle;'></progress>\n",
       "      Interrupted\n",
       "    </div>\n",
       "    "
      ],
      "text/plain": [
       "<IPython.core.display.HTML object>"
      ]
     },
     "metadata": {},
     "output_type": "display_data"
    },
    {
     "name": "stdout",
     "output_type": "stream",
     "text": [
      "Predicted BOS token. Returning prediction...\n"
     ]
    }
   ],
   "source": [
    "out_s, seed_s = predict_nw(learn, xb, n_words=400)"
   ]
  },
  {
   "cell_type": "code",
   "execution_count": 68,
   "metadata": {},
   "outputs": [
    {
     "data": {
      "text/plain": [
       "'n53 d8 xxsep d4 n55 d2 xxsep d2 n64 d2 xxsep d2 n62 d2 n50 d8 n47 d8 n43 d8 xxsep d4 n55 d2 xxsep d2 n64 d2 xxsep d2 n60 d2 n55 d8 n52 d8 n48 d8 xxsep d2 n62 d2 xxsep d2 n64 d2 xxsep d2 n65 d2 xxsep d2 n62 d2 n50 d8 n47 d8 n43 d8 xxsep d4 n55 d2 xxsep d2 n64 d2 xxsep d2 n60 d2 n55 d8 n52 d8 n48 d8 xxsep d4 n64 d2 xxsep d2 n67 d2 xxsep d2 n65 d2 n60 d8 n57 d8 n53 d8 xxsep d2 n65 d2 xxsep d2 n69 d2 xxsep d2 n67 d4 xxsep d2 n50 d8 n47 d8 n43 d8 xxsep d2 n55 d2 xxsep d2 n59 d2 xxsep d2 n62 d2 xxsep d2 n65 d2 n60 d8 n57 d8 n53 d8 xxsep d4 n55 d2 xxsep d2 n64 d2 xxsep d2 n62 d2 n50 d8 n47 d8 n43 d8 xxsep d4 n55 d2 xxsep d2 n64 d2 xxsep d2 n60 d2 n55 d8 n52 d8 n48 d8 xxsep d2 n62 d2 xxsep d2 n64 d2 xxsep d2 n65 d2 xxsep d2 n62 d2 n50 d8 n47 d8 n43 d8 xxsep d2 n60 d2 xxsep d2 n55 d2 xxsep d2 n64 d2 xxsep d2 n62 d2 n50 d8 n47 d8 n43 d8 xxsep d4 n59 d2 xxsep d2 n67 d2 xxsep d2 n55 d2 n50 d8 n47 d8 n43 d8 xxsep d4 n62 d2 xxsep d2 n67 d2 xxsep d3'"
      ]
     },
     "execution_count": 68,
     "metadata": {},
     "output_type": "execute_result"
    }
   ],
   "source": [
    "vocab.textify(out_s)"
   ]
  },
  {
   "cell_type": "code",
   "execution_count": 69,
   "metadata": {},
   "outputs": [
    {
     "data": {
      "text/plain": [
       "array([[53,  8],\n",
       "       [-1,  4],\n",
       "       [55,  2],\n",
       "       [-1,  2],\n",
       "       ...,\n",
       "       [62,  2],\n",
       "       [-1,  2],\n",
       "       [67,  2],\n",
       "       [-1,  3]])"
      ]
     },
     "execution_count": 69,
     "metadata": {},
     "output_type": "execute_result"
    }
   ],
   "source": [
    "test_out = to_double_stream(out_s); test_out"
   ]
  },
  {
   "cell_type": "code",
   "execution_count": 70,
   "metadata": {},
   "outputs": [
    {
     "data": {
      "image/png": "[encoded data removed]",
      "text/plain": [
       "<IPython.core.display.Image object>"
      ]
     },
     "metadata": {
      "image/png": {
       "height": 222,
       "width": 751
      }
     },
     "output_type": "display_data"
    }
   ],
   "source": [
    "stream = npenc2stream(to_double_stream(out_s))\n",
    "stream.show()"
   ]
  },
  {
   "cell_type": "code",
   "execution_count": 71,
   "metadata": {},
   "outputs": [
    {
     "data": {
      "text/html": [
       "\n",
       "                <div id='midiPlayerDiv2695'></div>\n",
       "                <link rel=\"stylesheet\" href=\"//cuthbertLab.github.io/music21j/css/m21.css\"\n",
       "                    type=\"text/css\" />\n",
       "                <script>\n",
       "                require.config({\n",
       "                    paths: {'music21': '//cuthbertLab.github.io/music21j/src/music21'}\n",
       "                });\n",
       "                require(['music21'], function() {\n",
       "                               mp = new music21.miditools.MidiPlayer();\n",
       "                               mp.addPlayer('#midiPlayerDiv2695');\n",
       "                               mp.base64Load('data:audio/midi;base64,TVRoZAAAAAYAAQABBABNVHJrAAACygD/AwVQaWFubwDAAADgAEAAwAAA/1EDB6EgAJA1WogAkDdahACANwAAkEBahACANQAAgEAAAJA+WgCQK1oAkC9aAJAyWoQAgD4AhACQN1qEAIA3AACQQFqEAIArAACALwAAgDIAAIBAAACQPFoAkDBaAJA0WgCQN1qEAIA8AACQPlqEAIA+AACQQFqEAIBAAACQQVqEAIAwAACANAAAgDcAAIBBAACQPloAkCtaAJAvWgCQMlqEAIA+AIQAkDdahACANwAAkEBahACAKwAAgC8AAIAyAACAQAAAkDxaAJAwWgCQNFoAkDdahACAPACEAJBAWoQAgEAAAJBDWoQAgDAAAIA0AACANwAAgEMAAJBBWgCQNVoAkDlaAJA8WoQAgEEAAJBBWoQAgEEAAJBFWoQAgEUAAJBDWoQAgDUAAIA5AACAPAAAkCtaAJAvWgCQMlqEAIBDAACQN1qEAIA3AACQO1qEAIA7AACQPlqEAIArAACALwAAgDIAAIA+AACQQVoAkDVaAJA5WgCQPFqEAIBBAIQAkDdahACANwAAkEBahACANQAAgDkAAIA8AACAQAAAkD5aAJArWgCQL1oAkDJahACAPgCEAJA3WoQAgDcAAJBAWoQAgCsAAIAvAACAMgAAgEAAAJA8WgCQMFoAkDRaAJA3WoQAgDwAAJA+WoQAgD4AAJBAWoQAgEAAAJBBWoQAgDAAAIA0AACANwAAgEEAAJA+WgCQK1oAkC9aAJAyWoQAgD4AAJA8WoQAgDwAAJA3WoQAgDcAAJBAWoQAgCsAAIAvAACAMgAAgEAAAJA+WgCQK1oAkC9aAJAyWoQAgD4AhACQO1qEAIA7AACQQ1qEAIArAACALwAAgDIAAIBDAACQN1oAkCtaAJAvWgCQMlqEAIA3AIQAkD5ahACAPgAAkENahACAKwAAgC8AAIAyAACAQwCIAP8vAA==');\n",
       "                        });\n",
       "                </script>"
      ],
      "text/plain": [
       "<IPython.core.display.HTML object>"
      ]
     },
     "metadata": {},
     "output_type": "display_data"
    }
   ],
   "source": [
    "stream.show('midi')"
   ]
  },
  {
   "cell_type": "markdown",
   "metadata": {},
   "source": [
    "## Predict Seq2Seq"
   ]
  },
  {
   "cell_type": "code",
   "execution_count": 72,
   "metadata": {},
   "outputs": [
    {
     "name": "stderr",
     "output_type": "stream",
     "text": [
      "/home/ubuntu/anaconda3/envs/midi/lib/python3.7/site-packages/IPython/core/interactiveshell.py:3049: DtypeWarning: Columns (1,2,8,10,11,12) have mixed types. Specify dtype option on import or set low_memory=False.\n",
      "  interactivity=interactivity, compiler=compiler, result=result)\n"
     ]
    },
    {
     "data": {
      "text/html": [
       "<div>\n",
       "<style scoped>\n",
       "    .dataframe tbody tr th:only-of-type {\n",
       "        vertical-align: middle;\n",
       "    }\n",
       "\n",
       "    .dataframe tbody tr th {\n",
       "        vertical-align: top;\n",
       "    }\n",
       "\n",
       "    .dataframe thead th {\n",
       "        text-align: right;\n",
       "    }\n",
       "</style>\n",
       "<table border=\"1\" class=\"dataframe\">\n",
       "  <thead>\n",
       "    <tr style=\"text-align: right;\">\n",
       "      <th></th>\n",
       "      <th>artist</th>\n",
       "      <th>section</th>\n",
       "      <th>ht_key</th>\n",
       "      <th>numpy</th>\n",
       "      <th>ht_offset</th>\n",
       "      <th>genres</th>\n",
       "      <th>title</th>\n",
       "      <th>midi</th>\n",
       "      <th>midi_title</th>\n",
       "      <th>source</th>\n",
       "      <th>parts</th>\n",
       "      <th>mxl</th>\n",
       "      <th>song_url</th>\n",
       "      <th>ht_time_signature</th>\n",
       "      <th>ht_mode</th>\n",
       "      <th>ht_bpm</th>\n",
       "      <th>md5</th>\n",
       "    </tr>\n",
       "  </thead>\n",
       "  <tbody>\n",
       "    <tr>\n",
       "      <th>193183</th>\n",
       "      <td>ritchie-valen</td>\n",
       "      <td>chorus</td>\n",
       "      <td>C</td>\n",
       "      <td>sf4/s2s_encode/hooktheory/pianoroll/r/ritchie-...</td>\n",
       "      <td>0.0</td>\n",
       "      <td>Pop,Rock</td>\n",
       "      <td>la-bamba</td>\n",
       "      <td>midi_sources/hooktheory/pianoroll/r/ritchie-va...</td>\n",
       "      <td>La Bamba</td>\n",
       "      <td>hooktheory_c</td>\n",
       "      <td>chorus</td>\n",
       "      <td>NaN</td>\n",
       "      <td>https://www.hooktheory.com/theorytab/view/ritc...</td>\n",
       "      <td>4.0</td>\n",
       "      <td>1.0</td>\n",
       "      <td>144.0</td>\n",
       "      <td>aeee134e4034e5f98bb630c56d2f7f8c</td>\n",
       "    </tr>\n",
       "  </tbody>\n",
       "</table>\n",
       "</div>"
      ],
      "text/plain": [
       "               artist section ht_key  \\\n",
       "193183  ritchie-valen  chorus      C   \n",
       "\n",
       "                                                    numpy  ht_offset  \\\n",
       "193183  sf4/s2s_encode/hooktheory/pianoroll/r/ritchie-...        0.0   \n",
       "\n",
       "          genres     title                                               midi  \\\n",
       "193183  Pop,Rock  la-bamba  midi_sources/hooktheory/pianoroll/r/ritchie-va...   \n",
       "\n",
       "       midi_title        source   parts  mxl  \\\n",
       "193183   La Bamba  hooktheory_c  chorus  NaN   \n",
       "\n",
       "                                                 song_url  ht_time_signature  \\\n",
       "193183  https://www.hooktheory.com/theorytab/view/ritc...                4.0   \n",
       "\n",
       "        ht_mode  ht_bpm                               md5  \n",
       "193183      1.0   144.0  aeee134e4034e5f98bb630c56d2f7f8c  "
      ]
     },
     "execution_count": 72,
     "metadata": {},
     "output_type": "execute_result"
    }
   ],
   "source": [
    "csv_path = base_path/f's2s_encode/s2s_encode.csv'\n",
    "csv = pd.read_csv(csv_path)\n",
    "df = csv.loc[csv['numpy'].notna()];\n",
    "\n",
    "# keywords = 'la bamba'.replace(' ', '|')\n",
    "title_filter = df['title'].str.contains('la-bamba')==True\n",
    "artist_filter = df['artist'].str.contains('')==True\n",
    "results = df[title_filter & artist_filter]; results.head()\n",
    "results = results[results.source == 'hooktheory_c']; results.head()"
   ]
  },
  {
   "cell_type": "code",
   "execution_count": 73,
   "metadata": {},
   "outputs": [
    {
     "data": {
      "text/plain": [
       "(PosixPath('../../data/midi/v16/sf4/s2s_encode/hooktheory/pianoroll/r/ritchie-valen/la-bamba/chorus_key_cmajor.npy'),\n",
       " PosixPath('../../data/midi/v16/midi_sources/hooktheory/pianoroll/r/ritchie-valen/la-bamba/chorus_key_cmajor.mid'))"
      ]
     },
     "execution_count": 73,
     "metadata": {},
     "output_type": "execute_result"
    }
   ],
   "source": [
    "idx = 0\n",
    "file = base_path.parent/results.numpy.values[idx];\n",
    "orig = base_path.parent/results.midi.values[idx];\n",
    "file, orig"
   ]
  },
  {
   "cell_type": "code",
   "execution_count": 74,
   "metadata": {},
   "outputs": [],
   "source": [
    "melody_np, chord_np = np.load(file, allow_pickle=True)"
   ]
  },
  {
   "cell_type": "code",
   "execution_count": 75,
   "metadata": {},
   "outputs": [
    {
     "data": {
      "image/png": "[encoded data removed]",
      "text/plain": [
       "<IPython.core.display.Image object>"
      ]
     },
     "metadata": {
      "image/png": {
       "height": 184,
       "width": 751
      }
     },
     "output_type": "display_data"
    }
   ],
   "source": [
    "npenc2stream(melody_np).show()"
   ]
  },
  {
   "cell_type": "code",
   "execution_count": 76,
   "metadata": {},
   "outputs": [],
   "source": [
    "def partenc2seq2seq(part_np, part_type=MSEQ, vocab=vocab, bptt=512, translate=False):\n",
    "    part_meta = np.array([vocab.stoi[part_type], vocab.stoi[avg_tempo(part_np)]])\n",
    "    s2s_out = to_single_stream(part_np, start_seq=part_meta)\n",
    "    if translate:\n",
    "        s2s_out = np.pad(s2s_out, (1,bptt), 'constant', constant_values=(vocab.stoi[CLS], vocab.pad_idx))[:bptt]\n",
    "    else:\n",
    "        s2s_out = np.pad(s2s_out, (0,bptt), 'constant', constant_values=vocab.pad_idx)[:bptt]\n",
    "    return s2s_out"
   ]
  },
  {
   "cell_type": "code",
   "execution_count": 77,
   "metadata": {},
   "outputs": [
    {
     "data": {
      "text/plain": [
       "array([[-1, 10],\n",
       "       [55,  2],\n",
       "       [-1,  2],\n",
       "       [57,  2],\n",
       "       ...,\n",
       "       [62,  1],\n",
       "       [-1,  1],\n",
       "       [60,  4],\n",
       "       [-1,  7]])"
      ]
     },
     "execution_count": 77,
     "metadata": {},
     "output_type": "execute_result"
    }
   ],
   "source": [
    "melody_np"
   ]
  },
  {
   "cell_type": "code",
   "execution_count": 78,
   "metadata": {},
   "outputs": [
    {
     "data": {
      "text/plain": [
       "array([[-1, 16],\n",
       "       [55,  8],\n",
       "       [52,  8],\n",
       "       [48,  8],\n",
       "       ...,\n",
       "       [55,  8],\n",
       "       [52,  8],\n",
       "       [48,  8],\n",
       "       [-1,  9]])"
      ]
     },
     "execution_count": 78,
     "metadata": {},
     "output_type": "execute_result"
    }
   ],
   "source": [
    "chord_np"
   ]
  },
  {
   "cell_type": "code",
   "execution_count": 79,
   "metadata": {},
   "outputs": [],
   "source": [
    "def s2s_file2parts(file, pred_melody=False):\n",
    "    melody_np, chord_np = np.load(file, allow_pickle=True)\n",
    "    mpart = partenc2seq2seq(melody_np, part_type=MSEQ, translate=pred_melody)\n",
    "    cpart = partenc2seq2seq(chord_np, part_type=CSEQ, translate=not pred_melody)\n",
    "    return mpart, cpart"
   ]
  },
  {
   "cell_type": "code",
   "execution_count": 80,
   "metadata": {},
   "outputs": [],
   "source": [
    "m, c = s2s_file2parts(file, pred_melody=True)"
   ]
  },
  {
   "cell_type": "code",
   "execution_count": 81,
   "metadata": {},
   "outputs": [],
   "source": [
    "xb = torch.tensor(c)[None].cuda()\n",
    "yb = torch.tensor(m)[None].cuda()"
   ]
  },
  {
   "cell_type": "code",
   "execution_count": 92,
   "metadata": {},
   "outputs": [],
   "source": [
    "\n",
    "def predict_s2s(self, xb:Tensor, yb:Tensor, n_words:int=128,\n",
    "                temperatures:float=(1.0,1.0),\n",
    "                top_k=40, top_p=0.9):\n",
    "    if xb.shape[0] > 1: xb = xb[0][None]\n",
    "    yb_seed = yb[:, :5]\n",
    "    self.model.reset()\n",
    "    self.model.update_mem_len(TaskType.Seq2Seq.value)\n",
    "\n",
    "    for i in progress_bar(range(n_words), leave=True):\n",
    "        task_type = torch.full_like(xb, TaskType.Seq2Seq.value)\n",
    "        pad = xb.shape[-1]-yb_seed.shape[-1]\n",
    "        yb_inp = F.pad(yb_seed, (0,pad), value=vocab.pad_idx)\n",
    "        \n",
    "        # Next Word\n",
    "        pred_idx = yb_seed.shape[-1]-1\n",
    "        res = self.pred_batch(batch=((xb,task_type,yb_inp),yb_inp))[-1][0, pred_idx] # task1, task2 - (bs x ts x vocab)\n",
    "\n",
    "        # Encoder only - nw\n",
    "#         res = self.pred_batch(batch=((xb,task_type,xb),xb))[0][0, -1] # task1, task2 - (bs x ts x vocab)\n",
    "\n",
    "        # Use first temperatures value if last prediction was duration\n",
    "        temperature = temperatures[0] if (len(yb_seed)==0 or self.data.vocab.is_duration(yb_seed[0, -1])) else temperatures[1]\n",
    "        if temperature != 1.: res.pow_(1 / temperature)\n",
    "            \n",
    "        res = top_k_top_p_filtering(res, top_k=top_k, top_p=top_p, filter_value=0)\n",
    "        idx = torch.multinomial(res, 1).item()\n",
    "        #         idx = res.argmax()\n",
    "\n",
    "        if idx == vocab.bos_idx | idx == vocab.stoi[EOS]: \n",
    "            print('Predicting BOS/EOS')\n",
    "            break\n",
    "\n",
    "        t_idx = torch.tensor(idx, device=xb.device).view(1, 1)\n",
    "        yb_seed = torch.cat((yb_seed, t_idx), dim=-1)\n",
    "\n",
    "    return yb_seed\n"
   ]
  },
  {
   "cell_type": "code",
   "execution_count": 93,
   "metadata": {},
   "outputs": [],
   "source": [
    "# yb_seed = yb[:,:3]\n",
    "# pad = xb.shape[-1]-yb_seed.shape[-1]"
   ]
  },
  {
   "cell_type": "code",
   "execution_count": 96,
   "metadata": {},
   "outputs": [
    {
     "data": {
      "text/html": [
       "\n",
       "    <div>\n",
       "        <style>\n",
       "            /* Turns off some styling */\n",
       "            progress {\n",
       "                /* gets rid of default border in Firefox and Opera. */\n",
       "                border: none;\n",
       "                /* Needs to be in here for Safari polyfill so background images work as expected. */\n",
       "                background-size: auto;\n",
       "            }\n",
       "            .progress-bar-interrupted, .progress-bar-interrupted::-webkit-progress-bar {\n",
       "                background: #F44336;\n",
       "            }\n",
       "        </style>\n",
       "      <progress value='0' class='progress-bar-interrupted' max='250', style='width:300px; height:20px; vertical-align: middle;'></progress>\n",
       "      Interrupted\n",
       "    </div>\n",
       "    "
      ],
      "text/plain": [
       "<IPython.core.display.HTML object>"
      ]
     },
     "metadata": {},
     "output_type": "display_data"
    },
    {
     "name": "stdout",
     "output_type": "stream",
     "text": [
      "Predicting BOS/EOS\n"
     ]
    }
   ],
   "source": [
    "yb_out = predict_s2s(learn, xb, yb, n_words=250)"
   ]
  },
  {
   "cell_type": "code",
   "execution_count": 97,
   "metadata": {},
   "outputs": [
    {
     "data": {
      "text/plain": [
       "tensor([[  3,   6, 298,   8, 147,  57, 139,   8, 139,  66, 141,   8, 141,  64,\n",
       "         141,   8, 147,  64, 141,   8, 149,  64, 140,   8, 140,  62, 138,   8,\n",
       "         138,  61, 139,   8, 141,  59, 139,   8, 141,  57, 139,   8, 141,  66,\n",
       "         139,   8, 139,  66, 139,   8, 139,  71, 139,   8, 143,  68, 139,   8,\n",
       "         141,  71, 139,   8, 141,  69, 139,   8, 147,  69, 139,   8, 141,  71,\n",
       "         139,   8, 141,  71, 139,   8, 139,  71, 139,   8, 141,  76, 139,   8,\n",
       "         141,  74, 140,   8, 141,  73, 139,   8, 139,  71, 139,   8, 141,  74,\n",
       "         139,   8, 141,  73, 140,   8, 141,  71, 138,   8, 138,  69, 138,   8,\n",
       "         138,  71, 139,   8, 141,  73, 138,   8, 138,  71, 138,   8, 138,  69,\n",
       "         139,   8, 145,  74, 140,   8, 141,  73, 140,   8, 143,  71, 138,   8,\n",
       "         139,  71, 139,   8, 139,  69, 139,   8, 141,  66, 141,   8, 149,  74,\n",
       "         140,   8, 141,  73, 140,   8, 143,  71, 138,   8, 139,  71, 139,   8,\n",
       "         139,  69, 139,   8, 141,  71, 140,   8, 143,  71, 140,   8, 141,  74,\n",
       "         140,   8, 141,  73, 140,   8, 143,  71, 138,   8, 139,  71, 139,   8,\n",
       "         139,  69, 141,   8, 143,  64, 138,   8, 140]], device='cuda:0')"
      ]
     },
     "execution_count": 97,
     "metadata": {},
     "output_type": "execute_result"
    }
   ],
   "source": [
    "yb_out"
   ]
  },
  {
   "cell_type": "code",
   "execution_count": 98,
   "metadata": {},
   "outputs": [],
   "source": [
    "yb_npenc = to_double_stream(yb_out.cpu().numpy()[:,1:])"
   ]
  },
  {
   "cell_type": "code",
   "execution_count": 99,
   "metadata": {},
   "outputs": [
    {
     "data": {
      "image/png": "[encoded data removed]",
      "text/plain": [
       "<IPython.core.display.Image object>"
      ]
     },
     "metadata": {
      "image/png": {
       "height": 322,
       "width": 753
      }
     },
     "output_type": "display_data"
    }
   ],
   "source": [
    "npenc2stream(yb_npenc).show()"
   ]
  },
  {
   "cell_type": "code",
   "execution_count": 100,
   "metadata": {},
   "outputs": [
    {
     "data": {
      "text/html": [
       "\n",
       "                <div id='midiPlayerDiv8076'></div>\n",
       "                <link rel=\"stylesheet\" href=\"//cuthbertLab.github.io/music21j/css/m21.css\"\n",
       "                    type=\"text/css\" />\n",
       "                <script>\n",
       "                require.config({\n",
       "                    paths: {'music21': '//cuthbertLab.github.io/music21j/src/music21'}\n",
       "                });\n",
       "                require(['music21'], function() {\n",
       "                               mp = new music21.miditools.MidiPlayer();\n",
       "                               mp.addPlayer('#midiPlayerDiv8076');\n",
       "                               mp.base64Load('data:audio/midi;base64,TVRoZAAAAAYAAQABBABNVHJrAAACBAD/AwVQaWFubwDAAADgAEAAwAAA/1EDB6EglACQMFqEAIAwAACQOVqIAIA5AACQN1qIAIA3AIwAkDdaiACANwCQAJA3WoYAgDcAAJA1WoIAgDUAAJA0WoQAgDQAhACQMlqEAIAyAIQAkDBahACAMACEAJA5WoQAgDkAAJA5WoQAgDkAAJA+WoQAgD4AiACQO1qEAIA7AIQAkD5ahACAPgCEAJA8WoQAgDwAkACQPFqEAIA8AIQAkD5ahACAPgCEAJA+WoQAgD4AAJA+WoQAgD4AhACQQ1qEAIBDAIQAkEFahgCAQQCCAJBAWoQAgEAAAJA+WoQAgD4AhACQQVqEAIBBAIQAkEBahgCAQACCAJA+WoIAgD4AAJA8WoIAgDwAAJA+WoQAgD4AhACQQFqCAIBAAACQPlqCAIA+AACQPFqEAIA8AIwAkEFahgCAQQCCAJBAWoYAgEAAhgCQPlqCAIA+AIIAkD5ahACAPgAAkDxahACAPACEAJA5WogAgDkAkACQQVqGAIBBAIIAkEBahgCAQACGAJA+WoIAgD4AggCQPlqEAIA+AACQPFqEAIA8AIQAkD5ahgCAPgCGAJA+WoYAgD4AggCQQVqGAIBBAIIAkEBahgCAQACGAJA+WoIAgD4AggCQPlqEAIA+AACQPFqIAIA8AIQAkDdaggCANwCIAP8vAA==');\n",
       "                        });\n",
       "                </script>"
      ],
      "text/plain": [
       "<IPython.core.display.HTML object>"
      ]
     },
     "metadata": {},
     "output_type": "display_data"
    }
   ],
   "source": [
    "npenc2stream(yb_npenc).show('midi')"
   ]
  },
  {
   "cell_type": "code",
   "execution_count": 101,
   "metadata": {},
   "outputs": [],
   "source": [
    "def combined_npenc2chordarr(np1, np2):\n",
    "    if len(np1.shape) == 1: np1 = to_double_stream(np1)\n",
    "    if len(np2.shape) == 1: np1 = to_double_stream(np2)\n",
    "    p1 = npenc2chordarr(np1)\n",
    "    p2 = npenc2chordarr(np2)\n",
    "    max_ts = max(p1.shape[0], p2.shape[0])\n",
    "    p1w = ((0,max_ts-p1.shape[0]),(0,0),(0,0))\n",
    "    p1_pad = np.pad(p1, p1w, 'constant')\n",
    "    p2w = ((0,max_ts-p2.shape[0]),(0,0),(0,0))\n",
    "    p2_pad = np.pad(p2, p2w, 'constant')\n",
    "    chordarr_comb = np.concatenate((p1_pad, p2_pad), axis=1)\n",
    "    return chordarr_comb"
   ]
  },
  {
   "cell_type": "code",
   "execution_count": 102,
   "metadata": {},
   "outputs": [],
   "source": [
    "# chordarr_comb = combined_npenc2chordarr(yb_test, melody_np)\n",
    "chordarr_comb = combined_npenc2chordarr(yb_npenc, chord_np)"
   ]
  },
  {
   "cell_type": "code",
   "execution_count": 103,
   "metadata": {
    "scrolled": true
   },
   "outputs": [
    {
     "data": {
      "image/png": "[encoded data removed]",
      "text/plain": [
       "<IPython.core.display.Image object>"
      ]
     },
     "metadata": {
      "image/png": {
       "height": 525,
       "width": 748
      }
     },
     "output_type": "display_data"
    }
   ],
   "source": [
    "chordarr2stream(chordarr_comb).show()"
   ]
  },
  {
   "cell_type": "code",
   "execution_count": 104,
   "metadata": {},
   "outputs": [
    {
     "data": {
      "text/html": [
       "\n",
       "                <div id='midiPlayerDiv12405'></div>\n",
       "                <link rel=\"stylesheet\" href=\"//cuthbertLab.github.io/music21j/css/m21.css\"\n",
       "                    type=\"text/css\" />\n",
       "                <script>\n",
       "                require.config({\n",
       "                    paths: {'music21': '//cuthbertLab.github.io/music21j/src/music21'}\n",
       "                });\n",
       "                require(['music21'], function() {\n",
       "                               mp = new music21.miditools.MidiPlayer();\n",
       "                               mp.addPlayer('#midiPlayerDiv12405');\n",
       "                               mp.base64Load('data:audio/midi;base64,TVRoZAAAAAYAAQACBABNVHJrAAACBAD/AwVQaWFubwDAAADgAEAAwAAA/1EDB6EglACQMFqEAIAwAACQOVqIAIA5AACQN1qIAIA3AIwAkDdaiACANwCQAJA3WoYAgDcAAJA1WoIAgDUAAJA0WoQAgDQAhACQMlqEAIAyAIQAkDBahACAMACEAJA5WoQAgDkAAJA5WoQAgDkAAJA+WoQAgD4AiACQO1qEAIA7AIQAkD5ahACAPgCEAJA8WoQAgDwAkACQPFqEAIA8AIQAkD5ahACAPgCEAJA+WoQAgD4AAJA+WoQAgD4AhACQQ1qEAIBDAIQAkEFahgCAQQCCAJBAWoQAgEAAAJA+WoQAgD4AhACQQVqEAIBBAIQAkEBahgCAQACCAJA+WoIAgD4AAJA8WoIAgDwAAJA+WoQAgD4AhACQQFqCAIBAAACQPlqCAIA+AACQPFqEAIA8AIwAkEFahgCAQQCCAJBAWoYAgEAAhgCQPlqCAIA+AIIAkD5ahACAPgAAkDxahACAPACEAJA5WogAgDkAkACQQVqGAIBBAIIAkEBahgCAQACGAJA+WoIAgD4AggCQPlqEAIA+AACQPFqEAIA8AIQAkD5ahgCAPgCGAJA+WoYAgD4AggCQQVqGAIBBAIIAkEBahgCAQACGAJA+WoIAgD4AggCQPlqEAIA+AACQPFqIAIA8AIQAkDdaggCANwCIAP8vAE1UcmsAAAHCAP8DBVBpYW5vAMAAAOAAQADAAKAAkDBaAJA0WgCQN1qQAIAwAACANAAAgDcAAJA1WgCQOVoAkDxakACANQAAgDkAAIA8AACQK1oAkC9aAJAyWpAAgCsAAIAvAACAMgAAkDVaAJA5WgCQPFqQAIA1AACAOQAAgDwAAJAwWgCQNFoAkDdakACAMAAAgDQAAIA3AACQNVoAkDlaAJA8WpAAgDUAAIA5AACAPAAAkCtaAJAvWgCQMlqQAIArAACALwAAgDIAAJA1WgCQOVoAkDxakACANQAAgDkAAIA8AACQMFoAkDRaAJA3WpAAgDAAAIA0AACANwAAkDVaAJA5WgCQPFqQAIA1AACAOQAAgDwAAJArWgCQL1oAkDJakACAKwAAgC8AAIAyAACQNVoAkDlaAJA8WpAAgDUAAIA5AACAPAAAkDBaAJA0WgCQN1qQAIAwAACANAAAgDcAAJA1WgCQOVoAkDxakACANQAAgDkAAIA8AACQK1oAkC9aAJAyWpAAgCsAAIAvAACAMgAAkDVaAJA5WgCQPFqQAIA1AACAOQAAgDwAAJAwWgCQNFoAkDdakACAMAAAgDQAAIA3AIgA/y8A');\n",
       "                        });\n",
       "                </script>"
      ],
      "text/plain": [
       "<IPython.core.display.HTML object>"
      ]
     },
     "metadata": {},
     "output_type": "display_data"
    }
   ],
   "source": [
    "chordarr2stream(chordarr_comb).show('midi')"
   ]
  },
  {
   "cell_type": "code",
   "execution_count": null,
   "metadata": {},
   "outputs": [],
   "source": []
  }
 ],
 "metadata": {
  "kernelspec": {
   "display_name": "Python 3",
   "language": "python",
   "name": "python3"
  },
  "language_info": {
   "codemirror_mode": {
    "name": "ipython",
    "version": 3
   },
   "file_extension": ".py",
   "mimetype": "text/x-python",
   "name": "python",
   "nbconvert_exporter": "python",
   "pygments_lexer": "ipython3",
   "version": "3.7.3"
  }
 },
 "nbformat": 4,
 "nbformat_minor": 2
}

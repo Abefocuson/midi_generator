{
 "cells": [
  {
   "cell_type": "markdown",
   "metadata": {},
   "source": [
    "# Attention Architecture"
   ]
  },
  {
   "cell_type": "code",
   "execution_count": 1,
   "metadata": {},
   "outputs": [],
   "source": [
    "%reload_ext autoreload\n",
    "%autoreload 2\n",
    "%matplotlib inline"
   ]
  },
  {
   "cell_type": "code",
   "execution_count": 2,
   "metadata": {},
   "outputs": [],
   "source": [
    "import music21"
   ]
  },
  {
   "cell_type": "code",
   "execution_count": 3,
   "metadata": {},
   "outputs": [],
   "source": [
    "# from fastai.text import *\n",
    "from enum import Enum\n",
    "import torch"
   ]
  },
  {
   "cell_type": "code",
   "execution_count": 4,
   "metadata": {},
   "outputs": [],
   "source": [
    "import numpy as np\n",
    "import torch.nn as nn"
   ]
  },
  {
   "cell_type": "code",
   "execution_count": 5,
   "metadata": {},
   "outputs": [],
   "source": [
    "np.set_printoptions(edgeitems=10, threshold=40, linewidth=200)"
   ]
  },
  {
   "cell_type": "code",
   "execution_count": 6,
   "metadata": {},
   "outputs": [],
   "source": [
    "import sys\n",
    "sys.path.insert(0, '../../')\n",
    "from src.fastai_data import *\n",
    "from src.encode_data import *\n",
    "from src.serve import *"
   ]
  },
  {
   "cell_type": "code",
   "execution_count": 7,
   "metadata": {},
   "outputs": [],
   "source": [
    "from src.music_transformer import *"
   ]
  },
  {
   "cell_type": "code",
   "execution_count": 8,
   "metadata": {},
   "outputs": [],
   "source": [
    "from src.unilm import *"
   ]
  },
  {
   "cell_type": "code",
   "execution_count": 9,
   "metadata": {},
   "outputs": [],
   "source": [
    "config = unilm_config(vocab)"
   ]
  },
  {
   "cell_type": "code",
   "execution_count": 10,
   "metadata": {},
   "outputs": [],
   "source": [
    "# config['bs'] = 2\n",
    "# config['bptt'] = 1024\n",
    "# config['n_layers'] = 4\n",
    "# config['n_heads'] = 4\n",
    "# config['dec_layers'] = 2"
   ]
  },
  {
   "cell_type": "code",
   "execution_count": 11,
   "metadata": {},
   "outputs": [
    {
     "data": {
      "text/plain": [
       "{'ctx_len': 150,\n",
       " 'n_layers': 10,\n",
       " 'n_heads': 8,\n",
       " 'd_model': 512,\n",
       " 'd_head': 64,\n",
       " 'd_inner': 2048,\n",
       " 'resid_p': 0.1,\n",
       " 'attn_p': 0.1,\n",
       " 'ff_p': 0.1,\n",
       " 'embed_p': 0.1,\n",
       " 'output_p': 0.1,\n",
       " 'bias': False,\n",
       " 'scale': True,\n",
       " 'act': <Activation.GeLU: 3>,\n",
       " 'double_drop': True,\n",
       " 'tie_weights': True,\n",
       " 'out_bias': True,\n",
       " 'init': <function fastai.text.models.transformer.init_transformer(m)>,\n",
       " 'mem_len': 512,\n",
       " 'mask': True,\n",
       " 'pad_idx': 1,\n",
       " 'bos_idx': 0,\n",
       " 'sep_idx': 8,\n",
       " 'transpose_range': (0, 12),\n",
       " 'rand_transpose': True,\n",
       " 'rand_bptt': True,\n",
       " 'note_range': (9, 139),\n",
       " 'bs': 16,\n",
       " 'bptt': 256,\n",
       " 'vocab_size': 274,\n",
       " 'dec_layers': 6}"
      ]
     },
     "execution_count": 11,
     "metadata": {},
     "output_type": "execute_result"
    }
   ],
   "source": [
    "config"
   ]
  },
  {
   "cell_type": "code",
   "execution_count": 12,
   "metadata": {},
   "outputs": [],
   "source": [
    "base_path = Path('../../data/midi/v15/')"
   ]
  },
  {
   "cell_type": "code",
   "execution_count": 13,
   "metadata": {},
   "outputs": [],
   "source": [
    "cache_name = 'tmp/sample'"
   ]
  },
  {
   "cell_type": "markdown",
   "metadata": {},
   "source": [
    "## BERT Dataloading"
   ]
  },
  {
   "cell_type": "code",
   "execution_count": 14,
   "metadata": {},
   "outputs": [],
   "source": [
    "ns_dl_tfms = [mask_tfm, next_sentence_tfm]\n",
    "ns_config = config.copy()\n",
    "ns_config['bs'] *= 2\n",
    "ns_data = load_music_data(base_path/'piano_duet', cache_name=cache_name, vocab=vocab, \n",
    "                          y_offset=0, dl_tfms=ns_dl_tfms, **ns_config)"
   ]
  },
  {
   "cell_type": "markdown",
   "metadata": {},
   "source": [
    "## S2S Dataloading"
   ]
  },
  {
   "cell_type": "code",
   "execution_count": 15,
   "metadata": {},
   "outputs": [],
   "source": [
    "s2s_dl_tfms = [mask_s2s_tfm]\n",
    "s2s_data = MusicDataBunch.load(base_path/'s2s_encode', cache_name=cache_name, \n",
    "                           preloader_cls=S2SPreloader, dl_tfms=[mask_s2s_tfm], y_offset=1,\n",
    "                           shuffle_dl=True, **config)\n"
   ]
  },
  {
   "cell_type": "markdown",
   "metadata": {},
   "source": [
    "### Load NextWord dataset (Language Model)"
   ]
  },
  {
   "cell_type": "code",
   "execution_count": 16,
   "metadata": {},
   "outputs": [],
   "source": [
    "nw_data = MusicDataBunch.load(base_path/'piano_duet', cache_name=cache_name, \n",
    "                              vocab=vocab, dl_tfms=[nw_tfm], y_offset=1, \n",
    "                              train_tfms=[to_single_stream], valid_tfms=[to_single_stream], **config)"
   ]
  },
  {
   "cell_type": "code",
   "execution_count": 17,
   "metadata": {},
   "outputs": [],
   "source": [
    "xb,yb = nw_data.one_batch(cpu=False); \n",
    "\n",
    "nw_data.train_dl.dl.dataset.update_rand_bptt()"
   ]
  },
  {
   "cell_type": "code",
   "execution_count": 18,
   "metadata": {},
   "outputs": [
    {
     "data": {
      "text/plain": [
       "[torch.Size([16, 256]),\n",
       " torch.Size([16, 256]),\n",
       " torch.Size([16, 256]),\n",
       " torch.Size([16, 256]),\n",
       " torch.Size([16, 256])]"
      ]
     },
     "execution_count": 18,
     "metadata": {},
     "output_type": "execute_result"
    }
   ],
   "source": [
    "[x.shape for x in xb+yb]"
   ]
  },
  {
   "cell_type": "markdown",
   "metadata": {},
   "source": [
    "## Datasets"
   ]
  },
  {
   "cell_type": "code",
   "execution_count": 19,
   "metadata": {},
   "outputs": [],
   "source": [
    "# datasets = [ns_data, s2s_data, nw_data]\n",
    "datasets = [nw_data]"
   ]
  },
  {
   "cell_type": "markdown",
   "metadata": {},
   "source": [
    "## Load"
   ]
  },
  {
   "cell_type": "code",
   "execution_count": 20,
   "metadata": {},
   "outputs": [],
   "source": [
    "def predict_func(parts): return [p if idx == 1 else F.softmax(p, dim=-1) for idx,p in enumerate(parts)]\n",
    "# Need to monkey patch pred_batch activation function for 2d array\n",
    "loss_func_name = camel2snake(BertLoss.__name__)\n",
    "basic_train.loss_func_name2activ[loss_func_name] = predict_func"
   ]
  },
  {
   "cell_type": "code",
   "execution_count": 21,
   "metadata": {},
   "outputs": [
    {
     "name": "stdout",
     "output_type": "stream",
     "text": [
      "True\n"
     ]
    }
   ],
   "source": [
    "loss_func = BertLoss()\n",
    "learn = bert_model_learner(datasets[0], config.copy(), \n",
    "                           loss_func=loss_func)"
   ]
  },
  {
   "cell_type": "code",
   "execution_count": 22,
   "metadata": {},
   "outputs": [],
   "source": [
    "learn.metrics = [mask_acc, ns_acc, s2s_acc, nw_acc]"
   ]
  },
  {
   "cell_type": "code",
   "execution_count": 23,
   "metadata": {},
   "outputs": [],
   "source": [
    "from fastai.callbacks.rnn import RNNTrainer\n",
    "learn.callbacks = [c for c in learn.callbacks if not isinstance(c, RNNTrainer)]\n",
    "learn.callbacks.append(BertTrainer(learn, datasets))"
   ]
  },
  {
   "cell_type": "code",
   "execution_count": 24,
   "metadata": {},
   "outputs": [
    {
     "data": {
      "text/plain": [
       "[src.music_transformer.RandBpttCallback, src.unilm.BertTrainer]"
      ]
     },
     "execution_count": 24,
     "metadata": {},
     "output_type": "execute_result"
    }
   ],
   "source": [
    "[type(c) for c in learn.callbacks]"
   ]
  },
  {
   "cell_type": "code",
   "execution_count": 25,
   "metadata": {},
   "outputs": [],
   "source": [
    "learn = learn.to_fp16()"
   ]
  },
  {
   "cell_type": "markdown",
   "metadata": {},
   "source": [
    "### Training"
   ]
  },
  {
   "cell_type": "code",
   "execution_count": 26,
   "metadata": {},
   "outputs": [
    {
     "data": {
      "text/plain": [
       "[14.971189, tensor(0.0972), tensor(0), tensor(0), tensor(0.)]"
      ]
     },
     "execution_count": 26,
     "metadata": {},
     "output_type": "execute_result"
    }
   ],
   "source": [
    "learn.validate()"
   ]
  },
  {
   "cell_type": "code",
   "execution_count": 27,
   "metadata": {},
   "outputs": [
    {
     "data": {
      "text/html": [
       "<table border=\"1\" class=\"dataframe\">\n",
       "  <thead>\n",
       "    <tr style=\"text-align: left;\">\n",
       "      <th>epoch</th>\n",
       "      <th>train_loss</th>\n",
       "      <th>valid_loss</th>\n",
       "      <th>mask_acc</th>\n",
       "      <th>ns_acc</th>\n",
       "      <th>s2s_acc</th>\n",
       "      <th>nw_acc</th>\n",
       "      <th>time</th>\n",
       "    </tr>\n",
       "  </thead>\n",
       "  <tbody>\n",
       "    <tr>\n",
       "      <td>0</td>\n",
       "      <td>5.799582</td>\n",
       "      <td>5.650526</td>\n",
       "      <td>0.465333</td>\n",
       "      <td>0.000000</td>\n",
       "      <td>0.000000</td>\n",
       "      <td>0.283697</td>\n",
       "      <td>02:21</td>\n",
       "    </tr>\n",
       "    <tr>\n",
       "      <td>1</td>\n",
       "      <td>5.105245</td>\n",
       "      <td>4.879280</td>\n",
       "      <td>0.556284</td>\n",
       "      <td>0.000000</td>\n",
       "      <td>0.000000</td>\n",
       "      <td>0.276831</td>\n",
       "      <td>02:22</td>\n",
       "    </tr>\n",
       "    <tr>\n",
       "      <td>2</td>\n",
       "      <td>4.953580</td>\n",
       "      <td>4.764921</td>\n",
       "      <td>0.560299</td>\n",
       "      <td>0.000000</td>\n",
       "      <td>0.000000</td>\n",
       "      <td>0.276156</td>\n",
       "      <td>02:22</td>\n",
       "    </tr>\n",
       "  </tbody>\n",
       "</table>"
      ],
      "text/plain": [
       "<IPython.core.display.HTML object>"
      ]
     },
     "metadata": {},
     "output_type": "display_data"
    }
   ],
   "source": [
    "learn.fit_one_cycle(3, 1e-4)"
   ]
  },
  {
   "cell_type": "code",
   "execution_count": 28,
   "metadata": {},
   "outputs": [],
   "source": [
    "learn.save('sample_train_4')"
   ]
  },
  {
   "cell_type": "markdown",
   "metadata": {},
   "source": [
    "## Load sample train"
   ]
  },
  {
   "cell_type": "code",
   "execution_count": 29,
   "metadata": {},
   "outputs": [
    {
     "data": {
      "text/plain": [
       "PosixPath('../../data/midi/v15/piano_duet/models/sample_train_4.pth')"
      ]
     },
     "execution_count": 29,
     "metadata": {},
     "output_type": "execute_result"
    }
   ],
   "source": [
    "load_path = base_path/'piano_duet/models/sample_train_4.pth'\n",
    "state = torch.load(load_path, map_location='cpu')\n",
    "get_model(learn.model).load_state_dict(state['model'])\n",
    "load_path"
   ]
  },
  {
   "cell_type": "code",
   "execution_count": 30,
   "metadata": {},
   "outputs": [],
   "source": [
    "# learn.load('sample_train')"
   ]
  },
  {
   "cell_type": "markdown",
   "metadata": {},
   "source": [
    "## Load existing"
   ]
  },
  {
   "cell_type": "code",
   "execution_count": 32,
   "metadata": {},
   "outputs": [
    {
     "data": {
      "text/plain": [
       "[PosixPath('../../data/midi/v15/models/unilm/all/1_ep24_best.pth'),\n",
       " PosixPath('../../data/midi/v15/models/unilm/all/2_ep80_best.pth'),\n",
       " PosixPath('../../data/midi/v15/models/unilm/all/1_ep24.pth')]"
      ]
     },
     "execution_count": 32,
     "metadata": {},
     "output_type": "execute_result"
    }
   ],
   "source": [
    "saved_models = get_files(base_path/'models/unilm', recurse=True, extensions=['.pth']); saved_models"
   ]
  },
  {
   "cell_type": "code",
   "execution_count": 33,
   "metadata": {},
   "outputs": [
    {
     "data": {
      "text/plain": [
       "PosixPath('../../data/midi/v15/models/unilm/all/2_ep80_best.pth')"
      ]
     },
     "execution_count": 33,
     "metadata": {},
     "output_type": "execute_result"
    }
   ],
   "source": [
    "load_path = saved_models[1]\n",
    "state = torch.load(load_path, map_location='cpu')\n",
    "get_model(learn.model).load_state_dict(state['model'])\n",
    "load_path"
   ]
  },
  {
   "cell_type": "markdown",
   "metadata": {},
   "source": [
    "## Prediction"
   ]
  },
  {
   "cell_type": "markdown",
   "metadata": {},
   "source": [
    "Prediction algo"
   ]
  },
  {
   "cell_type": "code",
   "execution_count": 31,
   "metadata": {},
   "outputs": [
    {
     "name": "stderr",
     "output_type": "stream",
     "text": [
      "/home/ubuntu/anaconda3/envs/midi/lib/python3.7/site-packages/IPython/core/interactiveshell.py:3049: DtypeWarning: Columns (0,1,7,10,12,15) have mixed types. Specify dtype option on import or set low_memory=False.\n",
      "  interactivity=interactivity, compiler=compiler, result=result)\n"
     ]
    },
    {
     "data": {
      "text/html": [
       "<div>\n",
       "<style scoped>\n",
       "    .dataframe tbody tr th:only-of-type {\n",
       "        vertical-align: middle;\n",
       "    }\n",
       "\n",
       "    .dataframe tbody tr th {\n",
       "        vertical-align: top;\n",
       "    }\n",
       "\n",
       "    .dataframe thead th {\n",
       "        text-align: right;\n",
       "    }\n",
       "</style>\n",
       "<table border=\"1\" class=\"dataframe\">\n",
       "  <thead>\n",
       "    <tr style=\"text-align: right;\">\n",
       "      <th></th>\n",
       "      <th>song_url</th>\n",
       "      <th>section</th>\n",
       "      <th>numpy</th>\n",
       "      <th>ht_mode</th>\n",
       "      <th>midi</th>\n",
       "      <th>title</th>\n",
       "      <th>ht_time_signature</th>\n",
       "      <th>mxl</th>\n",
       "      <th>ht_offset</th>\n",
       "      <th>ht_bpm</th>\n",
       "      <th>ht_key</th>\n",
       "      <th>md5</th>\n",
       "      <th>midi_title</th>\n",
       "      <th>artist</th>\n",
       "      <th>genres</th>\n",
       "      <th>parts</th>\n",
       "      <th>source</th>\n",
       "    </tr>\n",
       "  </thead>\n",
       "  <tbody>\n",
       "    <tr>\n",
       "      <th>193179</th>\n",
       "      <td>https://www.hooktheory.com/theorytab/view/ritc...</td>\n",
       "      <td>chorus</td>\n",
       "      <td>piano_duet/hooktheory/pianoroll/r/ritchie-vale...</td>\n",
       "      <td>1.0</td>\n",
       "      <td>midi_sources/hooktheory/pianoroll/r/ritchie-va...</td>\n",
       "      <td>la-bamba</td>\n",
       "      <td>4.0</td>\n",
       "      <td>NaN</td>\n",
       "      <td>0.0</td>\n",
       "      <td>144.0</td>\n",
       "      <td>C</td>\n",
       "      <td>aeee134e4034e5f98bb630c56d2f7f8c</td>\n",
       "      <td>La Bamba</td>\n",
       "      <td>ritchie-valen</td>\n",
       "      <td>Pop,Rock</td>\n",
       "      <td>chorus</td>\n",
       "      <td>hooktheory_c</td>\n",
       "    </tr>\n",
       "  </tbody>\n",
       "</table>\n",
       "</div>"
      ],
      "text/plain": [
       "                                                 song_url section  \\\n",
       "193179  https://www.hooktheory.com/theorytab/view/ritc...  chorus   \n",
       "\n",
       "                                                    numpy  ht_mode  \\\n",
       "193179  piano_duet/hooktheory/pianoroll/r/ritchie-vale...      1.0   \n",
       "\n",
       "                                                     midi     title  \\\n",
       "193179  midi_sources/hooktheory/pianoroll/r/ritchie-va...  la-bamba   \n",
       "\n",
       "        ht_time_signature  mxl  ht_offset  ht_bpm ht_key  \\\n",
       "193179                4.0  NaN        0.0   144.0      C   \n",
       "\n",
       "                                     md5 midi_title         artist    genres  \\\n",
       "193179  aeee134e4034e5f98bb630c56d2f7f8c   La Bamba  ritchie-valen  Pop,Rock   \n",
       "\n",
       "         parts        source  \n",
       "193179  chorus  hooktheory_c  "
      ]
     },
     "execution_count": 31,
     "metadata": {},
     "output_type": "execute_result"
    }
   ],
   "source": [
    "csv_path = base_path/f'piano_duet/piano_duet.csv'\n",
    "csv = pd.read_csv(csv_path)\n",
    "df = csv.loc[csv['numpy'].notna()];\n",
    "\n",
    "# keywords = 'la bamba'.replace(' ', '|')\n",
    "title_filter = df['title'].str.contains('la-bamba')==True\n",
    "artist_filter = df['artist'].str.contains('')==True\n",
    "results = df[title_filter & artist_filter]; results.head()\n",
    "results = results[results.source == 'hooktheory_c']; results.head()"
   ]
  },
  {
   "cell_type": "code",
   "execution_count": 32,
   "metadata": {},
   "outputs": [
    {
     "data": {
      "text/plain": [
       "(PosixPath('../../data/midi/v15/piano_duet/hooktheory/pianoroll/r/ritchie-valen/la-bamba/chorus_key_cmajor.npy'),\n",
       " PosixPath('../../data/midi/v15/midi_sources/hooktheory/pianoroll/r/ritchie-valen/la-bamba/chorus_key_cmajor.mid'))"
      ]
     },
     "execution_count": 32,
     "metadata": {},
     "output_type": "execute_result"
    }
   ],
   "source": [
    "idx = 0\n",
    "file = base_path/results.numpy.values[idx];\n",
    "orig = base_path/results.midi.values[idx];\n",
    "file, orig"
   ]
  },
  {
   "cell_type": "code",
   "execution_count": 33,
   "metadata": {},
   "outputs": [],
   "source": [
    "seed_len = 140\n",
    "song_np = np.load(file)\n",
    "seed_np = np.load(file)[:seed_len]\n",
    "xb = torch.tensor(to_single_stream(seed_np, vocab=vocab))[None]\n",
    "if torch.cuda.is_available(): xb = xb.cuda()"
   ]
  },
  {
   "cell_type": "code",
   "execution_count": 34,
   "metadata": {},
   "outputs": [
    {
     "data": {
      "image/png": "[encoded data removed]",
      "text/plain": [
       "<IPython.core.display.Image object>"
      ]
     },
     "metadata": {
      "image/png": {
       "height": 222,
       "width": 751
      }
     },
     "output_type": "display_data"
    }
   ],
   "source": [
    "seed_stream = npenc2stream(seed_np)\n",
    "seed_stream.show()"
   ]
  },
  {
   "cell_type": "code",
   "execution_count": 35,
   "metadata": {},
   "outputs": [
    {
     "data": {
      "text/plain": [
       "tensor([[  0,   1,   8, 150,  64, 141,   8, 141,  66, 141,   8, 141,  68, 141,\n",
       "           8, 141,  69, 143,  64, 147,  61, 147,  57, 147,   8, 143,  73, 141,\n",
       "           8, 141,  76, 141,   8, 141,  74, 141,  69, 147,  66, 147,  62, 147,\n",
       "           8, 141,  74, 141,   8, 141,  78, 141,   8, 141,  76, 143,   8, 141,\n",
       "          59, 147,  56, 147,  52, 147,   8, 141,  64, 141,   8, 141,  68, 141,\n",
       "           8, 141,  71, 141,   8, 141,  74, 141,  69, 147,  66, 147,  62, 147,\n",
       "           8, 141,  74, 141,   8, 141,  73, 141,   8, 141,  71, 141,   8, 141,\n",
       "          69, 143,  64, 147,  61, 147,  57, 147,   8, 143,  73, 141,   8, 141,\n",
       "          76, 141,   8, 141,  74, 141,  69, 147,  66, 147,  62, 147,   8, 141,\n",
       "          74, 141,   8, 141,  78, 141,   8, 141,  71, 141,   8, 141,  76, 141,\n",
       "          59, 147,  56, 147,  52, 147,   8, 141,  74, 141,   8, 141,  74, 141,\n",
       "           8, 141,  74, 141,   8, 141,  74, 143,  69, 147,  66, 147,  62, 147,\n",
       "           8, 143,  74, 141,   8, 141,  73, 143,   8, 141,  64, 147,  61, 147,\n",
       "          57, 147,   8, 141,  69, 143,   8, 145,  69, 147,  66, 147,  62, 147,\n",
       "           8, 147,  59, 147,  56, 147,  52, 147,   8, 141,  74, 141,   8, 141,\n",
       "          74, 141,   8, 141,  74, 141,   8, 141,  74, 143,  69, 147,  66, 147,\n",
       "          62, 147,   8, 143,  74, 141,   8, 141,  73, 143,   8, 141,  64, 147,\n",
       "          61, 147,  57, 147,   8, 141,  69, 143,   8, 143,  69, 141,   8, 141,\n",
       "          69, 141,  69, 147,  66, 147,  62, 147,   8, 141,  69, 143,   8, 143,\n",
       "          71, 143,   8, 141,  59, 147,  56, 147,  52, 147,   8, 141,  68, 143,\n",
       "           8, 143]], device='cuda:0')"
      ]
     },
     "execution_count": 35,
     "metadata": {},
     "output_type": "execute_result"
    }
   ],
   "source": [
    "xb"
   ]
  },
  {
   "cell_type": "code",
   "execution_count": 36,
   "metadata": {},
   "outputs": [],
   "source": [
    "self = learn\n",
    "task_type = torch.full_like(xb, TaskType.NextWord.value)\n",
    "# res = self.pred_batch(batch=((xb,task_type,xb),(xb)))[-1][0, -1] # task1, task2 - (bs x ts x vocab)"
   ]
  },
  {
   "cell_type": "code",
   "execution_count": 37,
   "metadata": {},
   "outputs": [
    {
     "data": {
      "text/plain": [
       "[tensor([[[5.8468e-03, 9.5260e-04, 2.3095e-04,  ..., 2.3689e-04,\n",
       "           5.5836e-04, 3.0180e-04],\n",
       "          [2.7480e-04, 3.3293e-03, 4.5036e-05,  ..., 5.0636e-05,\n",
       "           8.6134e-05, 6.6950e-05],\n",
       "          [5.8710e-05, 2.2157e-04, 1.0383e-05,  ..., 1.0924e-05,\n",
       "           1.7525e-05, 1.4931e-05],\n",
       "          ...,\n",
       "          [7.3781e-05, 2.5324e-05, 2.8302e-06,  ..., 5.2464e-06,\n",
       "           8.4660e-06, 8.3023e-06],\n",
       "          [5.2489e-06, 3.2248e-05, 4.2918e-07,  ..., 6.1237e-07,\n",
       "           4.9013e-07, 8.0810e-07],\n",
       "          [7.8965e-05, 4.1693e-05, 3.4797e-06,  ..., 6.3255e-06,\n",
       "           1.1058e-05, 9.8163e-06]]]),\n",
       " tensor([[4, 4, 4, 4, 4, 4, 4, 4, 4, 4, 4, 4, 4, 4, 4, 4, 4, 4, 4, 4, 4, 4, 4, 4,\n",
       "          4, 4, 4, 4, 4, 4, 4, 4, 4, 4, 4, 4, 4, 4, 4, 4, 4, 4, 4, 4, 4, 4, 4, 4,\n",
       "          4, 4, 4, 4, 4, 4, 4, 4, 4, 4, 4, 4, 4, 4, 4, 4, 4, 4, 4, 4, 4, 4, 4, 4,\n",
       "          4, 4, 4, 4, 4, 4, 4, 4, 4, 4, 4, 4, 4, 4, 4, 4, 4, 4, 4, 4, 4, 4, 4, 4,\n",
       "          4, 4, 4, 4, 4, 4, 4, 4, 4, 4, 4, 4, 4, 4, 4, 4, 4, 4, 4, 4, 4, 4, 4, 4,\n",
       "          4, 4, 4, 4, 4, 4, 4, 4, 4, 4, 4, 4, 4, 4, 4, 4, 4, 4, 4, 4, 4, 4, 4, 4,\n",
       "          4, 4, 4, 4, 4, 4, 4, 4, 4, 4, 4, 4, 4, 4, 4, 4, 4, 4, 4, 4, 4, 4, 4, 4,\n",
       "          4, 4, 4, 4, 4, 4, 4, 4, 4, 4, 4, 4, 4, 4, 4, 4, 4, 4, 4, 4, 4, 4, 4, 4,\n",
       "          4, 4, 4, 4, 4, 4, 4, 4, 4, 4, 4, 4, 4, 4, 4, 4, 4, 4, 4, 4, 4, 4, 4, 4,\n",
       "          4, 4, 4, 4, 4, 4, 4, 4, 4, 4, 4, 4, 4, 4, 4, 4, 4, 4, 4, 4, 4, 4, 4, 4,\n",
       "          4, 4, 4, 4, 4, 4, 4, 4, 4, 4, 4, 4, 4, 4, 4, 4, 4, 4, 4, 4, 4, 4, 4, 4,\n",
       "          4, 4, 4, 4, 4, 4, 4, 4, 4, 4, 4, 4, 4, 4, 4, 4, 4, 4]]),\n",
       " tensor([[[5.8804e-01, 1.0621e-04, 3.3589e-04,  ..., 1.3934e-04,\n",
       "           1.6856e-04, 3.0079e-04],\n",
       "          [2.4277e-03, 1.4976e-01, 1.7968e-04,  ..., 7.1963e-05,\n",
       "           8.4462e-05, 1.6217e-04],\n",
       "          [1.6524e-04, 1.8705e-06, 2.3781e-07,  ..., 1.0719e-07,\n",
       "           1.8593e-07, 1.9870e-07],\n",
       "          ...,\n",
       "          [5.1434e-04, 2.5855e-06, 3.9188e-07,  ..., 2.2504e-07,\n",
       "           4.1229e-07, 5.2322e-07],\n",
       "          [2.0152e-04, 1.5583e-06, 2.1171e-07,  ..., 9.4684e-08,\n",
       "           1.8180e-07, 2.0762e-07],\n",
       "          [5.1347e-04, 2.5824e-06, 3.9141e-07,  ..., 2.2477e-07,\n",
       "           4.1180e-07, 5.2260e-07]]])]"
      ]
     },
     "execution_count": 37,
     "metadata": {},
     "output_type": "execute_result"
    }
   ],
   "source": [
    "res = self.pred_batch(batch=((xb,task_type,xb),xb)); res"
   ]
  },
  {
   "cell_type": "code",
   "execution_count": 38,
   "metadata": {},
   "outputs": [
    {
     "data": {
      "text/plain": [
       "tensor(0.1738)"
      ]
     },
     "execution_count": 38,
     "metadata": {},
     "output_type": "execute_result"
    }
   ],
   "source": [
    "last = res[-1][0, -1]; last[143]"
   ]
  },
  {
   "cell_type": "code",
   "execution_count": 39,
   "metadata": {},
   "outputs": [
    {
     "data": {
      "text/plain": [
       "141"
      ]
     },
     "execution_count": 39,
     "metadata": {},
     "output_type": "execute_result"
    }
   ],
   "source": [
    "\n",
    "idx = torch.multinomial(res[-1][0, -1], 1).item(); idx"
   ]
  },
  {
   "cell_type": "code",
   "execution_count": 56,
   "metadata": {},
   "outputs": [],
   "source": [
    "\n",
    "def predict_nw(self, xb:Tensor, n_words:int=128):\n",
    "    if xb.shape[0] > 1: xb = xb[0][None]\n",
    "    seed = xb.cpu().numpy().squeeze()\n",
    "    yb = torch.ones_like(xb)\n",
    "    new_idx = []\n",
    "\n",
    "    for i in progress_bar(range(n_words), leave=True):\n",
    "#         print(xb)\n",
    "        task_type = torch.full_like(xb, TaskType.NextWord.value)\n",
    "        \n",
    "        # Masking last - bert\n",
    "#         mask_last = torch.cat((xb, torch.tensor(vocab.mask_idx, device=xb.device).view(1, 1)), dim=-1)\n",
    "#         res = self.pred_batch(batch=((mask_last,task_type,mask_last),(yb)))[0][0, -1] # task1, task2 - (bs x ts x vocab)\n",
    "        \n",
    "        # Next Word\n",
    "        res = self.pred_batch(batch=((xb,task_type,xb),xb))[-1][0, -1] # task1, task2 - (bs x ts x vocab)\n",
    "\n",
    "        # Use first temperatures value if last prediction was duration\n",
    "        res.pow_(1 / (0.5))\n",
    "\n",
    "        idx = torch.multinomial(res, 1).item()\n",
    "    \n",
    "        new_idx.append(idx)\n",
    "        t_idx = torch.tensor(idx, device=xb.device).view(1, 1)\n",
    "        xb = torch.cat((xb, t_idx), dim=-1)\n",
    "#         xb = xb.new_tensor([idx])[None]\n",
    "        \n",
    "    return np.array(new_idx), seed\n"
   ]
  },
  {
   "cell_type": "code",
   "execution_count": 57,
   "metadata": {},
   "outputs": [],
   "source": [
    "# vocab.itos[143]"
   ]
  },
  {
   "cell_type": "code",
   "execution_count": 58,
   "metadata": {},
   "outputs": [],
   "source": [
    "# self = learn\n",
    "# if xb.shape[0] > 1: xb = xb[0][None]\n",
    "# seed = xb.cpu().numpy().squeeze()\n",
    "# yb = torch.ones_like(xb)\n",
    "# res = self.pred_batch(batch=((xb, torch.full_like(xb, TaskType.NextWord.value),xb),(yb)))\n",
    "# res[-1][0, -1].shape"
   ]
  },
  {
   "cell_type": "code",
   "execution_count": 59,
   "metadata": {},
   "outputs": [
    {
     "data": {
      "text/html": [
       "\n",
       "    <div>\n",
       "        <style>\n",
       "            /* Turns off some styling */\n",
       "            progress {\n",
       "                /* gets rid of default border in Firefox and Opera. */\n",
       "                border: none;\n",
       "                /* Needs to be in here for Safari polyfill so background images work as expected. */\n",
       "                background-size: auto;\n",
       "            }\n",
       "            .progress-bar-interrupted, .progress-bar-interrupted::-webkit-progress-bar {\n",
       "                background: #F44336;\n",
       "            }\n",
       "        </style>\n",
       "      <progress value='20' class='' max='20', style='width:300px; height:20px; vertical-align: middle;'></progress>\n",
       "      100.00% [20/20 00:00<00:00]\n",
       "    </div>\n",
       "    "
      ],
      "text/plain": [
       "<IPython.core.display.HTML object>"
      ]
     },
     "metadata": {},
     "output_type": "display_data"
    }
   ],
   "source": [
    "out_s, seed_s = predict_nw(learn, xb, n_words=20)"
   ]
  },
  {
   "cell_type": "code",
   "execution_count": 60,
   "metadata": {},
   "outputs": [
    {
     "data": {
      "text/plain": [
       "array([141, 141, 141, 141, 141, 141,   8, 141, 141, 141, 141, 141, 141, 141, 143, 141, 141, 141, 141, 141])"
      ]
     },
     "execution_count": 60,
     "metadata": {},
     "output_type": "execute_result"
    }
   ],
   "source": [
    "out_s"
   ]
  },
  {
   "cell_type": "code",
   "execution_count": 55,
   "metadata": {},
   "outputs": [
    {
     "data": {
      "image/png": "[encoded data removed]",
      "text/plain": [
       "<IPython.core.display.Image object>"
      ]
     },
     "metadata": {
      "image/png": {
       "height": 51,
       "width": 205
      }
     },
     "output_type": "display_data"
    }
   ],
   "source": [
    "stream = npenc2stream(to_double_stream(out_s))\n",
    "stream.show()"
   ]
  },
  {
   "cell_type": "code",
   "execution_count": 64,
   "metadata": {},
   "outputs": [
    {
     "name": "stdout",
     "output_type": "stream",
     "text": [
      "> \u001b[0;32m/home/ubuntu/midi_generator/src/encode_data.py\u001b[0m(194)\u001b[0;36mseq2chordarr\u001b[0;34m()\u001b[0m\n",
      "\u001b[0;32m    192 \u001b[0;31m\u001b[0;31m# 2.\u001b[0m\u001b[0;34m\u001b[0m\u001b[0;34m\u001b[0m\u001b[0;34m\u001b[0m\u001b[0m\n",
      "\u001b[0m\u001b[0;32m    193 \u001b[0;31m\u001b[0;32mdef\u001b[0m \u001b[0mseq2chordarr\u001b[0m\u001b[0;34m(\u001b[0m\u001b[0mseq\u001b[0m\u001b[0;34m,\u001b[0m \u001b[0mnote_range\u001b[0m\u001b[0;34m=\u001b[0m\u001b[0;36m128\u001b[0m\u001b[0;34m)\u001b[0m\u001b[0;34m:\u001b[0m \u001b[0;31m# 128 = default midi range\u001b[0m\u001b[0;34m\u001b[0m\u001b[0;34m\u001b[0m\u001b[0m\n",
      "\u001b[0m\u001b[0;32m--> 194 \u001b[0;31m    \u001b[0mnum_parts\u001b[0m \u001b[0;34m=\u001b[0m \u001b[0mmax\u001b[0m\u001b[0;34m(\u001b[0m\u001b[0;34m[\u001b[0m\u001b[0mn\u001b[0m\u001b[0;34m.\u001b[0m\u001b[0mival\u001b[0m\u001b[0;34m(\u001b[0m\u001b[0;34m)\u001b[0m \u001b[0;32mfor\u001b[0m \u001b[0mt\u001b[0m \u001b[0;32min\u001b[0m \u001b[0mseq\u001b[0m \u001b[0;32mfor\u001b[0m \u001b[0mn\u001b[0m \u001b[0;32min\u001b[0m \u001b[0mt\u001b[0m\u001b[0;34m]\u001b[0m\u001b[0;34m)\u001b[0m \u001b[0;34m+\u001b[0m \u001b[0;36m1\u001b[0m\u001b[0;34m\u001b[0m\u001b[0;34m\u001b[0m\u001b[0m\n",
      "\u001b[0m\u001b[0;32m    195 \u001b[0;31m    \u001b[0mscore_arr\u001b[0m \u001b[0;34m=\u001b[0m \u001b[0mnp\u001b[0m\u001b[0;34m.\u001b[0m\u001b[0mzeros\u001b[0m\u001b[0;34m(\u001b[0m\u001b[0;34m(\u001b[0m\u001b[0mlen\u001b[0m\u001b[0;34m(\u001b[0m\u001b[0mseq\u001b[0m\u001b[0;34m)\u001b[0m\u001b[0;34m,\u001b[0m \u001b[0mnum_parts\u001b[0m\u001b[0;34m,\u001b[0m \u001b[0mnote_range\u001b[0m\u001b[0;34m)\u001b[0m\u001b[0;34m)\u001b[0m\u001b[0;34m\u001b[0m\u001b[0;34m\u001b[0m\u001b[0m\n",
      "\u001b[0m\u001b[0;32m    196 \u001b[0;31m    \u001b[0;32mfor\u001b[0m \u001b[0midx\u001b[0m\u001b[0;34m,\u001b[0m\u001b[0mts\u001b[0m \u001b[0;32min\u001b[0m \u001b[0menumerate\u001b[0m\u001b[0;34m(\u001b[0m\u001b[0mseq\u001b[0m\u001b[0;34m)\u001b[0m\u001b[0;34m:\u001b[0m\u001b[0;34m\u001b[0m\u001b[0;34m\u001b[0m\u001b[0m\n",
      "\u001b[0m\n",
      "ipdb> quit\n"
     ]
    }
   ],
   "source": [
    "%debug"
   ]
  },
  {
   "cell_type": "code",
   "execution_count": null,
   "metadata": {},
   "outputs": [],
   "source": []
  }
 ],
 "metadata": {
  "kernelspec": {
   "display_name": "Python 3",
   "language": "python",
   "name": "python3"
  },
  "language_info": {
   "codemirror_mode": {
    "name": "ipython",
    "version": 3
   },
   "file_extension": ".py",
   "mimetype": "text/x-python",
   "name": "python",
   "nbconvert_exporter": "python",
   "pygments_lexer": "ipython3",
   "version": "3.7.3"
  }
 },
 "nbformat": 4,
 "nbformat_minor": 2
}

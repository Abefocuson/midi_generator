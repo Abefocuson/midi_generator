{
 "cells": [
  {
   "cell_type": "markdown",
   "metadata": {},
   "source": [
    "# Attention Architecture"
   ]
  },
  {
   "cell_type": "code",
   "execution_count": 1,
   "metadata": {},
   "outputs": [],
   "source": [
    "%reload_ext autoreload\n",
    "%autoreload 2\n",
    "%matplotlib inline"
   ]
  },
  {
   "cell_type": "code",
   "execution_count": 2,
   "metadata": {},
   "outputs": [],
   "source": [
    "import music21"
   ]
  },
  {
   "cell_type": "code",
   "execution_count": 3,
   "metadata": {},
   "outputs": [],
   "source": [
    "# from fastai.text import *\n",
    "from enum import Enum\n",
    "import torch"
   ]
  },
  {
   "cell_type": "code",
   "execution_count": 4,
   "metadata": {},
   "outputs": [],
   "source": [
    "import numpy as np\n",
    "import torch.nn as nn"
   ]
  },
  {
   "cell_type": "code",
   "execution_count": 5,
   "metadata": {},
   "outputs": [],
   "source": [
    "np.set_printoptions(edgeitems=10, threshold=40, linewidth=200)"
   ]
  },
  {
   "cell_type": "code",
   "execution_count": 6,
   "metadata": {},
   "outputs": [],
   "source": [
    "import sys\n",
    "sys.path.insert(0, '../../')\n",
    "from src.fastai_data import *\n",
    "from src.encode_data import *\n",
    "from src.serve import *"
   ]
  },
  {
   "cell_type": "code",
   "execution_count": 7,
   "metadata": {},
   "outputs": [],
   "source": [
    "from src.music_transformer import *"
   ]
  },
  {
   "cell_type": "code",
   "execution_count": 8,
   "metadata": {},
   "outputs": [],
   "source": [
    "from src.unilm import *"
   ]
  },
  {
   "cell_type": "code",
   "execution_count": 9,
   "metadata": {},
   "outputs": [],
   "source": [
    "config = unilm_config(vocab)"
   ]
  },
  {
   "cell_type": "code",
   "execution_count": 10,
   "metadata": {},
   "outputs": [],
   "source": [
    "# config['bs'] = 2\n",
    "# config['bptt'] = 1024\n",
    "# config['n_layers'] = 4\n",
    "# config['n_heads'] = 4\n",
    "# config['dec_layers'] = 2"
   ]
  },
  {
   "cell_type": "code",
   "execution_count": 11,
   "metadata": {},
   "outputs": [],
   "source": [
    "# config['n_layers'] = 1\n",
    "config['n_layers'] = 0\n",
    "config['dec_layers'] = 8\n",
    "config['mem_len'] = 512\n",
    "config['rand_bptt'] = False"
   ]
  },
  {
   "cell_type": "code",
   "execution_count": 12,
   "metadata": {},
   "outputs": [
    {
     "data": {
      "text/plain": [
       "{'ctx_len': 150,\n",
       " 'n_layers': 0,\n",
       " 'n_heads': 8,\n",
       " 'd_model': 512,\n",
       " 'd_head': 64,\n",
       " 'd_inner': 2048,\n",
       " 'resid_p': 0.1,\n",
       " 'attn_p': 0.1,\n",
       " 'ff_p': 0.1,\n",
       " 'embed_p': 0.1,\n",
       " 'output_p': 0.1,\n",
       " 'bias': False,\n",
       " 'scale': True,\n",
       " 'act': <Activation.GeLU: 3>,\n",
       " 'double_drop': True,\n",
       " 'tie_weights': True,\n",
       " 'out_bias': True,\n",
       " 'init': <function fastai.text.models.transformer.init_transformer(m)>,\n",
       " 'mem_len': 512,\n",
       " 'mask': True,\n",
       " 'pad_idx': 1,\n",
       " 'bos_idx': 0,\n",
       " 'sep_idx': 8,\n",
       " 'transpose_range': (0, 12),\n",
       " 'rand_transpose': True,\n",
       " 'rand_bptt': False,\n",
       " 'note_range': (9, 139),\n",
       " 'bs': 16,\n",
       " 'bptt': 256,\n",
       " 'vocab_size': 274,\n",
       " 'dec_layers': 8}"
      ]
     },
     "execution_count": 12,
     "metadata": {},
     "output_type": "execute_result"
    }
   ],
   "source": [
    "config"
   ]
  },
  {
   "cell_type": "code",
   "execution_count": 13,
   "metadata": {},
   "outputs": [],
   "source": [
    "base_path = Path('../../data/midi/v15/')"
   ]
  },
  {
   "cell_type": "code",
   "execution_count": 14,
   "metadata": {},
   "outputs": [],
   "source": [
    "cache_name = 'tmp/hook_c'"
   ]
  },
  {
   "cell_type": "markdown",
   "metadata": {},
   "source": [
    "## BERT Dataloading"
   ]
  },
  {
   "cell_type": "code",
   "execution_count": 15,
   "metadata": {},
   "outputs": [],
   "source": [
    "# ns_dl_tfms = [mask_tfm, next_sentence_tfm]\n",
    "# ns_config = config.copy()\n",
    "# ns_config['bs'] *= 2\n",
    "# ns_data = load_music_data(base_path/'piano_duet', cache_name=cache_name, vocab=vocab, \n",
    "#                           y_offset=0, dl_tfms=ns_dl_tfms, **ns_config)"
   ]
  },
  {
   "cell_type": "markdown",
   "metadata": {},
   "source": [
    "## S2S Dataloading"
   ]
  },
  {
   "cell_type": "code",
   "execution_count": 16,
   "metadata": {},
   "outputs": [],
   "source": [
    "# s2s_dl_tfms = [mask_s2s_tfm]\n",
    "# s2s_data = MusicDataBunch.load(base_path/'s2s_encode', cache_name=cache_name, \n",
    "#                            preloader_cls=S2SPreloader, dl_tfms=[mask_s2s_tfm], y_offset=1,\n",
    "#                            shuffle_dl=True, **config)\n"
   ]
  },
  {
   "cell_type": "markdown",
   "metadata": {},
   "source": [
    "### Load NextWord dataset (Language Model)"
   ]
  },
  {
   "cell_type": "code",
   "execution_count": 17,
   "metadata": {},
   "outputs": [],
   "source": [
    "nw_data = MusicDataBunch.load(base_path/'piano_duet', cache_name=cache_name, \n",
    "                              vocab=vocab, dl_tfms=[nw_tfm], y_offset=1, \n",
    "                              train_tfms=[to_single_stream], valid_tfms=[to_single_stream], **config)"
   ]
  },
  {
   "cell_type": "code",
   "execution_count": 18,
   "metadata": {},
   "outputs": [],
   "source": [
    "xb,yb = nw_data.one_batch(cpu=False); \n",
    "\n",
    "nw_data.train_dl.dl.dataset.update_rand_bptt()"
   ]
  },
  {
   "cell_type": "code",
   "execution_count": 19,
   "metadata": {},
   "outputs": [
    {
     "data": {
      "text/plain": [
       "([tensor([[  8, 143,  77,  ..., 141,   4,   4],\n",
       "          [  4, 143,  77,  ..., 141, 257,   4],\n",
       "          [  8, 143,  77,  ...,   4,   8,   4],\n",
       "          ...,\n",
       "          [  8,   4,  77,  ...,   4,   8,   4],\n",
       "          [  8, 143,  77,  ...,   4,   8,   4],\n",
       "          [  8, 143,   4,  ..., 141,   8,   4]], device='cuda:0'),\n",
       "  tensor([[4, 4, 4,  ..., 4, 4, 4],\n",
       "          [4, 4, 4,  ..., 4, 4, 4],\n",
       "          [4, 4, 4,  ..., 4, 4, 4],\n",
       "          ...,\n",
       "          [4, 4, 4,  ..., 4, 4, 4],\n",
       "          [4, 4, 4,  ..., 4, 4, 4],\n",
       "          [4, 4, 4,  ..., 4, 4, 4]], device='cuda:0'),\n",
       "  tensor([[  8, 143,  77,  ..., 141,   8, 141],\n",
       "          [  8, 143,  77,  ..., 141,   8, 141],\n",
       "          [  8, 143,  77,  ..., 141,   8, 141],\n",
       "          ...,\n",
       "          [  8, 143,  77,  ..., 141,   8, 141],\n",
       "          [  8, 143,  77,  ..., 141,   8, 141],\n",
       "          [  8, 143,  77,  ..., 141,   8, 141]], device='cuda:0')],\n",
       " [tensor([[  1,   1,   1,  ...,   1,   8, 141],\n",
       "          [  8,   1,   1,  ...,   1,   8, 141],\n",
       "          [  1,   1,   1,  ..., 141,   1, 141],\n",
       "          ...,\n",
       "          [  1, 143,   1,  ..., 141,   1, 141],\n",
       "          [  1,   1,   1,  ..., 141,   1, 141],\n",
       "          [  1,   1,  77,  ...,   1,   1, 141]], device='cuda:0'),\n",
       "  tensor([[143,  77, 151,  ...,   8, 141,  91],\n",
       "          [143,  77, 151,  ...,   8, 141,  91],\n",
       "          [143,  77, 151,  ...,   8, 141,  91],\n",
       "          ...,\n",
       "          [143,  77, 151,  ...,   8, 141,  91],\n",
       "          [143,  77, 151,  ...,   8, 141,  91],\n",
       "          [143,  77, 151,  ...,   8, 141,  91]], device='cuda:0')])"
      ]
     },
     "execution_count": 19,
     "metadata": {},
     "output_type": "execute_result"
    }
   ],
   "source": [
    "xb, yb"
   ]
  },
  {
   "cell_type": "code",
   "execution_count": 20,
   "metadata": {},
   "outputs": [
    {
     "data": {
      "text/plain": [
       "[torch.Size([16, 256]),\n",
       " torch.Size([16, 256]),\n",
       " torch.Size([16, 256]),\n",
       " torch.Size([16, 256]),\n",
       " torch.Size([16, 256])]"
      ]
     },
     "execution_count": 20,
     "metadata": {},
     "output_type": "execute_result"
    }
   ],
   "source": [
    "[x.shape for x in xb+yb]"
   ]
  },
  {
   "cell_type": "markdown",
   "metadata": {},
   "source": [
    "## Datasets"
   ]
  },
  {
   "cell_type": "code",
   "execution_count": 21,
   "metadata": {},
   "outputs": [],
   "source": [
    "# datasets = [ns_data, s2s_data, nw_data]\n",
    "datasets = [nw_data]"
   ]
  },
  {
   "cell_type": "markdown",
   "metadata": {},
   "source": [
    "## Load"
   ]
  },
  {
   "cell_type": "code",
   "execution_count": 22,
   "metadata": {},
   "outputs": [],
   "source": [
    "def predict_func(parts): return [p if idx == 1 else F.softmax(p, dim=-1) for idx,p in enumerate(parts)]\n",
    "# Need to monkey patch pred_batch activation function for 2d array\n",
    "loss_func_name = camel2snake(BertLoss.__name__)\n",
    "basic_train.loss_func_name2activ[loss_func_name] = predict_func"
   ]
  },
  {
   "cell_type": "code",
   "execution_count": 23,
   "metadata": {},
   "outputs": [
    {
     "name": "stdout",
     "output_type": "stream",
     "text": [
      "False\n"
     ]
    }
   ],
   "source": [
    "loss_func = BertLoss(loss_mult=(0,1,1,1))\n",
    "learn = bert_model_learner(datasets[0], config.copy(), \n",
    "                           loss_func=loss_func)"
   ]
  },
  {
   "cell_type": "code",
   "execution_count": 24,
   "metadata": {},
   "outputs": [],
   "source": [
    "learn.metrics = [mask_acc, ns_acc, s2s_acc, nw_acc]"
   ]
  },
  {
   "cell_type": "code",
   "execution_count": 25,
   "metadata": {},
   "outputs": [],
   "source": [
    "from fastai.callbacks.rnn import RNNTrainer\n",
    "learn.callbacks = [c for c in learn.callbacks if not isinstance(c, RNNTrainer)]\n",
    "learn.callbacks.append(BertTrainer(learn, datasets))"
   ]
  },
  {
   "cell_type": "code",
   "execution_count": 26,
   "metadata": {},
   "outputs": [
    {
     "data": {
      "text/plain": [
       "[src.unilm.BertTrainer]"
      ]
     },
     "execution_count": 26,
     "metadata": {},
     "output_type": "execute_result"
    }
   ],
   "source": [
    "[type(c) for c in learn.callbacks]"
   ]
  },
  {
   "cell_type": "code",
   "execution_count": 27,
   "metadata": {},
   "outputs": [],
   "source": [
    "learn = learn.to_fp16()"
   ]
  },
  {
   "cell_type": "code",
   "execution_count": 28,
   "metadata": {},
   "outputs": [],
   "source": [
    "learn.model.reset()"
   ]
  },
  {
   "cell_type": "markdown",
   "metadata": {},
   "source": [
    "### Training"
   ]
  },
  {
   "cell_type": "code",
   "execution_count": 29,
   "metadata": {},
   "outputs": [],
   "source": [
    "# learn.lr_find(num_it=500)\n",
    "# learn.recorder.plot()"
   ]
  },
  {
   "cell_type": "code",
   "execution_count": 30,
   "metadata": {},
   "outputs": [
    {
     "data": {
      "text/plain": [
       "[7.3719864, tensor(0.1024), tensor(0), tensor(0), tensor(0.)]"
      ]
     },
     "execution_count": 30,
     "metadata": {},
     "output_type": "execute_result"
    }
   ],
   "source": [
    "learn.validate()"
   ]
  },
  {
   "cell_type": "code",
   "execution_count": 31,
   "metadata": {},
   "outputs": [
    {
     "data": {
      "text/html": [
       "<table border=\"1\" class=\"dataframe\">\n",
       "  <thead>\n",
       "    <tr style=\"text-align: left;\">\n",
       "      <th>epoch</th>\n",
       "      <th>train_loss</th>\n",
       "      <th>valid_loss</th>\n",
       "      <th>mask_acc</th>\n",
       "      <th>ns_acc</th>\n",
       "      <th>s2s_acc</th>\n",
       "      <th>nw_acc</th>\n",
       "      <th>time</th>\n",
       "    </tr>\n",
       "  </thead>\n",
       "  <tbody>\n",
       "    <tr>\n",
       "      <td>0</td>\n",
       "      <td>2.673968</td>\n",
       "      <td>2.625121</td>\n",
       "      <td>0.068231</td>\n",
       "      <td>0.000000</td>\n",
       "      <td>0.000000</td>\n",
       "      <td>0.351949</td>\n",
       "      <td>03:21</td>\n",
       "    </tr>\n",
       "  </tbody>\n",
       "</table>"
      ],
      "text/plain": [
       "<IPython.core.display.HTML object>"
      ]
     },
     "metadata": {},
     "output_type": "display_data"
    }
   ],
   "source": [
    "learn.fit_one_cycle(1, 1e-3)"
   ]
  },
  {
   "cell_type": "code",
   "execution_count": 32,
   "metadata": {},
   "outputs": [],
   "source": [
    "learn.save('sample_train_5')"
   ]
  },
  {
   "cell_type": "markdown",
   "metadata": {},
   "source": [
    "## Load sample train"
   ]
  },
  {
   "cell_type": "code",
   "execution_count": 33,
   "metadata": {},
   "outputs": [
    {
     "data": {
      "text/plain": [
       "PosixPath('../../data/midi/v15/piano_duet/models/sample_train_5.pth')"
      ]
     },
     "execution_count": 33,
     "metadata": {},
     "output_type": "execute_result"
    }
   ],
   "source": [
    "# load_path = base_path/'piano_duet/models/sample_train_5.pth'\n",
    "# state = torch.load(load_path, map_location='cpu')\n",
    "# get_model(learn.model).load_state_dict(state['model'])\n",
    "# load_path"
   ]
  },
  {
   "cell_type": "code",
   "execution_count": 34,
   "metadata": {},
   "outputs": [],
   "source": [
    "# learn.load('sample_train')"
   ]
  },
  {
   "cell_type": "markdown",
   "metadata": {},
   "source": [
    "## Load existing"
   ]
  },
  {
   "cell_type": "code",
   "execution_count": 35,
   "metadata": {},
   "outputs": [
    {
     "data": {
      "text/plain": [
       "[PosixPath('../../data/midi/v15/models/unilm/all/1_ep24_best.pth'),\n",
       " PosixPath('../../data/midi/v15/models/unilm/all/2_ep80_best.pth'),\n",
       " PosixPath('../../data/midi/v15/models/unilm/all/1_ep24.pth')]"
      ]
     },
     "execution_count": 35,
     "metadata": {},
     "output_type": "execute_result"
    }
   ],
   "source": [
    "saved_models = get_files(base_path/'models/unilm', recurse=True, extensions=['.pth']); saved_models"
   ]
  },
  {
   "cell_type": "code",
   "execution_count": 36,
   "metadata": {},
   "outputs": [
    {
     "ename": "RuntimeError",
     "evalue": "Error(s) in loading state_dict for BertHead:\n\tMissing key(s) in state_dict: \"s2s_decoder.layers.6.mha1.q_wgt.weight\", \"s2s_decoder.layers.6.mha1.k_wgt.weight\", \"s2s_decoder.layers.6.mha1.v_wgt.weight\", \"s2s_decoder.layers.6.mha1.out.weight\", \"s2s_decoder.layers.6.mha1.ln.weight\", \"s2s_decoder.layers.6.mha1.ln.bias\", \"s2s_decoder.layers.6.mha1.r_attn.weight\", \"s2s_decoder.layers.6.mha2.q_wgt.weight\", \"s2s_decoder.layers.6.mha2.k_wgt.weight\", \"s2s_decoder.layers.6.mha2.v_wgt.weight\", \"s2s_decoder.layers.6.mha2.out.weight\", \"s2s_decoder.layers.6.mha2.ln.weight\", \"s2s_decoder.layers.6.mha2.ln.bias\", \"s2s_decoder.layers.6.mha2.r_attn.weight\", \"s2s_decoder.layers.6.ff.layers.0.weight\", \"s2s_decoder.layers.6.ff.layers.0.bias\", \"s2s_decoder.layers.6.ff.layers.3.weight\", \"s2s_decoder.layers.6.ff.layers.3.bias\", \"s2s_decoder.layers.6.ff.layers.6.weight\", \"s2s_decoder.layers.6.ff.layers.6.bias\", \"s2s_decoder.layers.7.mha1.q_wgt.weight\", \"s2s_decoder.layers.7.mha1.k_wgt.weight\", \"s2s_decoder.layers.7.mha1.v_wgt.weight\", \"s2s_decoder.layers.7.mha1.out.weight\", \"s2s_decoder.layers.7.mha1.ln.weight\", \"s2s_decoder.layers.7.mha1.ln.bias\", \"s2s_decoder.layers.7.mha1.r_attn.weight\", \"s2s_decoder.layers.7.mha2.q_wgt.weight\", \"s2s_decoder.layers.7.mha2.k_wgt.weight\", \"s2s_decoder.layers.7.mha2.v_wgt.weight\", \"s2s_decoder.layers.7.mha2.out.weight\", \"s2s_decoder.layers.7.mha2.ln.weight\", \"s2s_decoder.layers.7.mha2.ln.bias\", \"s2s_decoder.layers.7.mha2.r_attn.weight\", \"s2s_decoder.layers.7.ff.layers.0.weight\", \"s2s_decoder.layers.7.ff.layers.0.bias\", \"s2s_decoder.layers.7.ff.layers.3.weight\", \"s2s_decoder.layers.7.ff.layers.3.bias\", \"s2s_decoder.layers.7.ff.layers.6.weight\", \"s2s_decoder.layers.7.ff.layers.6.bias\". \n\tUnexpected key(s) in state_dict: \"encoder.layers.0.mhra.attention.weight\", \"encoder.layers.0.mhra.out.weight\", \"encoder.layers.0.mhra.ln.weight\", \"encoder.layers.0.mhra.ln.bias\", \"encoder.layers.0.mhra.r_attn.weight\", \"encoder.layers.0.ff.layers.0.weight\", \"encoder.layers.0.ff.layers.0.bias\", \"encoder.layers.0.ff.layers.3.weight\", \"encoder.layers.0.ff.layers.3.bias\", \"encoder.layers.0.ff.layers.6.weight\", \"encoder.layers.0.ff.layers.6.bias\", \"encoder.layers.1.mhra.attention.weight\", \"encoder.layers.1.mhra.out.weight\", \"encoder.layers.1.mhra.ln.weight\", \"encoder.layers.1.mhra.ln.bias\", \"encoder.layers.1.mhra.r_attn.weight\", \"encoder.layers.1.ff.layers.0.weight\", \"encoder.layers.1.ff.layers.0.bias\", \"encoder.layers.1.ff.layers.3.weight\", \"encoder.layers.1.ff.layers.3.bias\", \"encoder.layers.1.ff.layers.6.weight\", \"encoder.layers.1.ff.layers.6.bias\", \"encoder.layers.2.mhra.attention.weight\", \"encoder.layers.2.mhra.out.weight\", \"encoder.layers.2.mhra.ln.weight\", \"encoder.layers.2.mhra.ln.bias\", \"encoder.layers.2.mhra.r_attn.weight\", \"encoder.layers.2.ff.layers.0.weight\", \"encoder.layers.2.ff.layers.0.bias\", \"encoder.layers.2.ff.layers.3.weight\", \"encoder.layers.2.ff.layers.3.bias\", \"encoder.layers.2.ff.layers.6.weight\", \"encoder.layers.2.ff.layers.6.bias\", \"encoder.layers.3.mhra.attention.weight\", \"encoder.layers.3.mhra.out.weight\", \"encoder.layers.3.mhra.ln.weight\", \"encoder.layers.3.mhra.ln.bias\", \"encoder.layers.3.mhra.r_attn.weight\", \"encoder.layers.3.ff.layers.0.weight\", \"encoder.layers.3.ff.layers.0.bias\", \"encoder.layers.3.ff.layers.3.weight\", \"encoder.layers.3.ff.layers.3.bias\", \"encoder.layers.3.ff.layers.6.weight\", \"encoder.layers.3.ff.layers.6.bias\", \"encoder.layers.4.mhra.attention.weight\", \"encoder.layers.4.mhra.out.weight\", \"encoder.layers.4.mhra.ln.weight\", \"encoder.layers.4.mhra.ln.bias\", \"encoder.layers.4.mhra.r_attn.weight\", \"encoder.layers.4.ff.layers.0.weight\", \"encoder.layers.4.ff.layers.0.bias\", \"encoder.layers.4.ff.layers.3.weight\", \"encoder.layers.4.ff.layers.3.bias\", \"encoder.layers.4.ff.layers.6.weight\", \"encoder.layers.4.ff.layers.6.bias\", \"encoder.layers.5.mhra.attention.weight\", \"encoder.layers.5.mhra.out.weight\", \"encoder.layers.5.mhra.ln.weight\", \"encoder.layers.5.mhra.ln.bias\", \"encoder.layers.5.mhra.r_attn.weight\", \"encoder.layers.5.ff.layers.0.weight\", \"encoder.layers.5.ff.layers.0.bias\", \"encoder.layers.5.ff.layers.3.weight\", \"encoder.layers.5.ff.layers.3.bias\", \"encoder.layers.5.ff.layers.6.weight\", \"encoder.layers.5.ff.layers.6.bias\", \"encoder.layers.6.mhra.attention.weight\", \"encoder.layers.6.mhra.out.weight\", \"encoder.layers.6.mhra.ln.weight\", \"encoder.layers.6.mhra.ln.bias\", \"encoder.layers.6.mhra.r_attn.weight\", \"encoder.layers.6.ff.layers.0.weight\", \"encoder.layers.6.ff.layers.0.bias\", \"encoder.layers.6.ff.layers.3.weight\", \"encoder.layers.6.ff.layers.3.bias\", \"encoder.layers.6.ff.layers.6.weight\", \"encoder.layers.6.ff.layers.6.bias\", \"encoder.layers.7.mhra.attention.weight\", \"encoder.layers.7.mhra.out.weight\", \"encoder.layers.7.mhra.ln.weight\", \"encoder.layers.7.mhra.ln.bias\", \"encoder.layers.7.mhra.r_attn.weight\", \"encoder.layers.7.ff.layers.0.weight\", \"encoder.layers.7.ff.layers.0.bias\", \"encoder.layers.7.ff.layers.3.weight\", \"encoder.layers.7.ff.layers.3.bias\", \"encoder.layers.7.ff.layers.6.weight\", \"encoder.layers.7.ff.layers.6.bias\", \"encoder.layers.8.mhra.attention.weight\", \"encoder.layers.8.mhra.out.weight\", \"encoder.layers.8.mhra.ln.weight\", \"encoder.layers.8.mhra.ln.bias\", \"encoder.layers.8.mhra.r_attn.weight\", \"encoder.layers.8.ff.layers.0.weight\", \"encoder.layers.8.ff.layers.0.bias\", \"encoder.layers.8.ff.layers.3.weight\", \"encoder.layers.8.ff.layers.3.bias\", \"encoder.layers.8.ff.layers.6.weight\", \"encoder.layers.8.ff.layers.6.bias\", \"encoder.layers.9.mhra.attention.weight\", \"encoder.layers.9.mhra.out.weight\", \"encoder.layers.9.mhra.ln.weight\", \"encoder.layers.9.mhra.ln.bias\", \"encoder.layers.9.mhra.r_attn.weight\", \"encoder.layers.9.ff.layers.0.weight\", \"encoder.layers.9.ff.layers.0.bias\", \"encoder.layers.9.ff.layers.3.weight\", \"encoder.layers.9.ff.layers.3.bias\", \"encoder.layers.9.ff.layers.6.weight\", \"encoder.layers.9.ff.layers.6.bias\". ",
     "output_type": "error",
     "traceback": [
      "\u001b[0;31m---------------------------------------------------------------------------\u001b[0m",
      "\u001b[0;31mRuntimeError\u001b[0m                              Traceback (most recent call last)",
      "\u001b[0;32m<ipython-input-36-a3de283019e6>\u001b[0m in \u001b[0;36m<module>\u001b[0;34m\u001b[0m\n\u001b[1;32m      1\u001b[0m \u001b[0mload_path\u001b[0m \u001b[0;34m=\u001b[0m \u001b[0msaved_models\u001b[0m\u001b[0;34m[\u001b[0m\u001b[0;36m1\u001b[0m\u001b[0;34m]\u001b[0m\u001b[0;34m\u001b[0m\u001b[0;34m\u001b[0m\u001b[0m\n\u001b[1;32m      2\u001b[0m \u001b[0mstate\u001b[0m \u001b[0;34m=\u001b[0m \u001b[0mtorch\u001b[0m\u001b[0;34m.\u001b[0m\u001b[0mload\u001b[0m\u001b[0;34m(\u001b[0m\u001b[0mload_path\u001b[0m\u001b[0;34m,\u001b[0m \u001b[0mmap_location\u001b[0m\u001b[0;34m=\u001b[0m\u001b[0;34m'cpu'\u001b[0m\u001b[0;34m)\u001b[0m\u001b[0;34m\u001b[0m\u001b[0;34m\u001b[0m\u001b[0m\n\u001b[0;32m----> 3\u001b[0;31m \u001b[0mget_model\u001b[0m\u001b[0;34m(\u001b[0m\u001b[0mlearn\u001b[0m\u001b[0;34m.\u001b[0m\u001b[0mmodel\u001b[0m\u001b[0;34m)\u001b[0m\u001b[0;34m.\u001b[0m\u001b[0mload_state_dict\u001b[0m\u001b[0;34m(\u001b[0m\u001b[0mstate\u001b[0m\u001b[0;34m[\u001b[0m\u001b[0;34m'model'\u001b[0m\u001b[0;34m]\u001b[0m\u001b[0;34m)\u001b[0m\u001b[0;34m\u001b[0m\u001b[0;34m\u001b[0m\u001b[0m\n\u001b[0m\u001b[1;32m      4\u001b[0m \u001b[0mload_path\u001b[0m\u001b[0;34m\u001b[0m\u001b[0;34m\u001b[0m\u001b[0m\n",
      "\u001b[0;32m~/anaconda3/envs/midi/lib/python3.7/site-packages/torch/nn/modules/module.py\u001b[0m in \u001b[0;36mload_state_dict\u001b[0;34m(self, state_dict, strict)\u001b[0m\n\u001b[1;32m    777\u001b[0m         \u001b[0;32mif\u001b[0m \u001b[0mlen\u001b[0m\u001b[0;34m(\u001b[0m\u001b[0merror_msgs\u001b[0m\u001b[0;34m)\u001b[0m \u001b[0;34m>\u001b[0m \u001b[0;36m0\u001b[0m\u001b[0;34m:\u001b[0m\u001b[0;34m\u001b[0m\u001b[0;34m\u001b[0m\u001b[0m\n\u001b[1;32m    778\u001b[0m             raise RuntimeError('Error(s) in loading state_dict for {}:\\n\\t{}'.format(\n\u001b[0;32m--> 779\u001b[0;31m                                self.__class__.__name__, \"\\n\\t\".join(error_msgs)))\n\u001b[0m\u001b[1;32m    780\u001b[0m         \u001b[0;32mreturn\u001b[0m \u001b[0m_IncompatibleKeys\u001b[0m\u001b[0;34m(\u001b[0m\u001b[0mmissing_keys\u001b[0m\u001b[0;34m,\u001b[0m \u001b[0munexpected_keys\u001b[0m\u001b[0;34m)\u001b[0m\u001b[0;34m\u001b[0m\u001b[0;34m\u001b[0m\u001b[0m\n\u001b[1;32m    781\u001b[0m \u001b[0;34m\u001b[0m\u001b[0m\n",
      "\u001b[0;31mRuntimeError\u001b[0m: Error(s) in loading state_dict for BertHead:\n\tMissing key(s) in state_dict: \"s2s_decoder.layers.6.mha1.q_wgt.weight\", \"s2s_decoder.layers.6.mha1.k_wgt.weight\", \"s2s_decoder.layers.6.mha1.v_wgt.weight\", \"s2s_decoder.layers.6.mha1.out.weight\", \"s2s_decoder.layers.6.mha1.ln.weight\", \"s2s_decoder.layers.6.mha1.ln.bias\", \"s2s_decoder.layers.6.mha1.r_attn.weight\", \"s2s_decoder.layers.6.mha2.q_wgt.weight\", \"s2s_decoder.layers.6.mha2.k_wgt.weight\", \"s2s_decoder.layers.6.mha2.v_wgt.weight\", \"s2s_decoder.layers.6.mha2.out.weight\", \"s2s_decoder.layers.6.mha2.ln.weight\", \"s2s_decoder.layers.6.mha2.ln.bias\", \"s2s_decoder.layers.6.mha2.r_attn.weight\", \"s2s_decoder.layers.6.ff.layers.0.weight\", \"s2s_decoder.layers.6.ff.layers.0.bias\", \"s2s_decoder.layers.6.ff.layers.3.weight\", \"s2s_decoder.layers.6.ff.layers.3.bias\", \"s2s_decoder.layers.6.ff.layers.6.weight\", \"s2s_decoder.layers.6.ff.layers.6.bias\", \"s2s_decoder.layers.7.mha1.q_wgt.weight\", \"s2s_decoder.layers.7.mha1.k_wgt.weight\", \"s2s_decoder.layers.7.mha1.v_wgt.weight\", \"s2s_decoder.layers.7.mha1.out.weight\", \"s2s_decoder.layers.7.mha1.ln.weight\", \"s2s_decoder.layers.7.mha1.ln.bias\", \"s2s_decoder.layers.7.mha1.r_attn.weight\", \"s2s_decoder.layers.7.mha2.q_wgt.weight\", \"s2s_decoder.layers.7.mha2.k_wgt.weight\", \"s2s_decoder.layers.7.mha2.v_wgt.weight\", \"s2s_decoder.layers.7.mha2.out.weight\", \"s2s_decoder.layers.7.mha2.ln.weight\", \"s2s_decoder.layers.7.mha2.ln.bias\", \"s2s_decoder.layers.7.mha2.r_attn.weight\", \"s2s_decoder.layers.7.ff.layers.0.weight\", \"s2s_decoder.layers.7.ff.layers.0.bias\", \"s2s_decoder.layers.7.ff.layers.3.weight\", \"s2s_decoder.layers.7.ff.layers.3.bias\", \"s2s_decoder.layers.7.ff.layers.6.weight\", \"s2s_decoder.layers.7.ff.layers.6.bias\". \n\tUnexpected key(s) in state_dict: \"encoder.layers.0.mhra.attention.weight\", \"encoder.layers.0.mhra.out.weight\", \"encoder.layers.0.mhra.ln.weight\", \"encoder.layers.0.mhra.ln.bias\", \"encoder.layers.0.mhra.r_attn.weight\", \"encoder.layers.0.ff.layers.0.weight\", \"encoder.layers.0.ff.layers.0.bias\", \"encoder.layers.0.ff.layers.3.weight\", \"encoder.layers.0.ff.layers.3.bias\", \"encoder.layers.0.ff.layers.6.weight\", \"encoder.layers.0.ff.layers.6.bias\", \"encoder.layers.1.mhra.attention.weight\", \"encoder.layers.1.mhra.out.weight\", \"encoder.layers.1.mhra.ln.weight\", \"encoder.layers.1.mhra.ln.bias\", \"encoder.layers.1.mhra.r_attn.weight\", \"encoder.layers.1.ff.layers.0.weight\", \"encoder.layers.1.ff.layers.0.bias\", \"encoder.layers.1.ff.layers.3.weight\", \"encoder.layers.1.ff.layers.3.bias\", \"encoder.layers.1.ff.layers.6.weight\", \"encoder.layers.1.ff.layers.6.bias\", \"encoder.layers.2.mhra.attention.weight\", \"encoder.layers.2.mhra.out.weight\", \"encoder.layers.2.mhra.ln.weight\", \"encoder.layers.2.mhra.ln.bias\", \"encoder.layers.2.mhra.r_attn.weight\", \"encoder.layers.2.ff.layers.0.weight\", \"encoder.layers.2.ff.layers.0.bias\", \"encoder.layers.2.ff.layers.3.weight\", \"encoder.layers.2.ff.layers.3.bias\", \"encoder.layers.2.ff.layers.6.weight\", \"encoder.layers.2.ff.layers.6.bias\", \"encoder.layers.3.mhra.attention.weight\", \"encoder.layers.3.mhra.out.weight\", \"encoder.layers.3.mhra.ln.weight\", \"encoder.layers.3.mhra.ln.bias\", \"encoder.layers.3.mhra.r_attn.weight\", \"encoder.layers.3.ff.layers.0.weight\", \"encoder.layers.3.ff.layers.0.bias\", \"encoder.layers.3.ff.layers.3.weight\", \"encoder.layers.3.ff.layers.3.bias\", \"encoder.layers.3.ff.layers.6.weight\", \"encoder.layers.3.ff.layers.6.bias\", \"encoder.layers.4.mhra.attention.weight\", \"encoder.layers.4.mhra.out.weight\", \"encoder.layers.4.mhra.ln.weight\", \"encoder.layers.4.mhra.ln.bias\", \"encoder.layers.4.mhra.r_attn.weight\", \"encoder.layers.4.ff.layers.0.weight\", \"encoder.layers.4.ff.layers.0.bias\", \"encoder.layers.4.ff.layers.3.weight\", \"encoder.layers.4.ff.layers.3.bias\", \"encoder.layers.4.ff.layers.6.weight\", \"encoder.layers.4.ff.layers.6.bias\", \"encoder.layers.5.mhra.attention.weight\", \"encoder.layers.5.mhra.out.weight\", \"encoder.layers.5.mhra.ln.weight\", \"encoder.layers.5.mhra.ln.bias\", \"encoder.layers.5.mhra.r_attn.weight\", \"encoder.layers.5.ff.layers.0.weight\", \"encoder.layers.5.ff.layers.0.bias\", \"encoder.layers.5.ff.layers.3.weight\", \"encoder.layers.5.ff.layers.3.bias\", \"encoder.layers.5.ff.layers.6.weight\", \"encoder.layers.5.ff.layers.6.bias\", \"encoder.layers.6.mhra.attention.weight\", \"encoder.layers.6.mhra.out.weight\", \"encoder.layers.6.mhra.ln.weight\", \"encoder.layers.6.mhra.ln.bias\", \"encoder.layers.6.mhra.r_attn.weight\", \"encoder.layers.6.ff.layers.0.weight\", \"encoder.layers.6.ff.layers.0.bias\", \"encoder.layers.6.ff.layers.3.weight\", \"encoder.layers.6.ff.layers.3.bias\", \"encoder.layers.6.ff.layers.6.weight\", \"encoder.layers.6.ff.layers.6.bias\", \"encoder.layers.7.mhra.attention.weight\", \"encoder.layers.7.mhra.out.weight\", \"encoder.layers.7.mhra.ln.weight\", \"encoder.layers.7.mhra.ln.bias\", \"encoder.layers.7.mhra.r_attn.weight\", \"encoder.layers.7.ff.layers.0.weight\", \"encoder.layers.7.ff.layers.0.bias\", \"encoder.layers.7.ff.layers.3.weight\", \"encoder.layers.7.ff.layers.3.bias\", \"encoder.layers.7.ff.layers.6.weight\", \"encoder.layers.7.ff.layers.6.bias\", \"encoder.layers.8.mhra.attention.weight\", \"encoder.layers.8.mhra.out.weight\", \"encoder.layers.8.mhra.ln.weight\", \"encoder.layers.8.mhra.ln.bias\", \"encoder.layers.8.mhra.r_attn.weight\", \"encoder.layers.8.ff.layers.0.weight\", \"encoder.layers.8.ff.layers.0.bias\", \"encoder.layers.8.ff.layers.3.weight\", \"encoder.layers.8.ff.layers.3.bias\", \"encoder.layers.8.ff.layers.6.weight\", \"encoder.layers.8.ff.layers.6.bias\", \"encoder.layers.9.mhra.attention.weight\", \"encoder.layers.9.mhra.out.weight\", \"encoder.layers.9.mhra.ln.weight\", \"encoder.layers.9.mhra.ln.bias\", \"encoder.layers.9.mhra.r_attn.weight\", \"encoder.layers.9.ff.layers.0.weight\", \"encoder.layers.9.ff.layers.0.bias\", \"encoder.layers.9.ff.layers.3.weight\", \"encoder.layers.9.ff.layers.3.bias\", \"encoder.layers.9.ff.layers.6.weight\", \"encoder.layers.9.ff.layers.6.bias\". "
     ]
    }
   ],
   "source": [
    "# load_path = saved_models[1]\n",
    "# state = torch.load(load_path, map_location='cpu')\n",
    "# get_model(learn.model).load_state_dict(state['model'])\n",
    "# load_path"
   ]
  },
  {
   "cell_type": "markdown",
   "metadata": {},
   "source": [
    "## Prediction"
   ]
  },
  {
   "cell_type": "markdown",
   "metadata": {},
   "source": [
    "Prediction algo"
   ]
  },
  {
   "cell_type": "code",
   "execution_count": 32,
   "metadata": {},
   "outputs": [
    {
     "name": "stderr",
     "output_type": "stream",
     "text": [
      "/home/ubuntu/anaconda3/envs/midi/lib/python3.7/site-packages/IPython/core/interactiveshell.py:3049: DtypeWarning: Columns (0,1,7,10,12,15) have mixed types. Specify dtype option on import or set low_memory=False.\n",
      "  interactivity=interactivity, compiler=compiler, result=result)\n"
     ]
    },
    {
     "data": {
      "text/html": [
       "<div>\n",
       "<style scoped>\n",
       "    .dataframe tbody tr th:only-of-type {\n",
       "        vertical-align: middle;\n",
       "    }\n",
       "\n",
       "    .dataframe tbody tr th {\n",
       "        vertical-align: top;\n",
       "    }\n",
       "\n",
       "    .dataframe thead th {\n",
       "        text-align: right;\n",
       "    }\n",
       "</style>\n",
       "<table border=\"1\" class=\"dataframe\">\n",
       "  <thead>\n",
       "    <tr style=\"text-align: right;\">\n",
       "      <th></th>\n",
       "      <th>song_url</th>\n",
       "      <th>section</th>\n",
       "      <th>numpy</th>\n",
       "      <th>ht_mode</th>\n",
       "      <th>midi</th>\n",
       "      <th>title</th>\n",
       "      <th>ht_time_signature</th>\n",
       "      <th>mxl</th>\n",
       "      <th>ht_offset</th>\n",
       "      <th>ht_bpm</th>\n",
       "      <th>ht_key</th>\n",
       "      <th>md5</th>\n",
       "      <th>midi_title</th>\n",
       "      <th>artist</th>\n",
       "      <th>genres</th>\n",
       "      <th>parts</th>\n",
       "      <th>source</th>\n",
       "    </tr>\n",
       "  </thead>\n",
       "  <tbody>\n",
       "    <tr>\n",
       "      <th>193179</th>\n",
       "      <td>https://www.hooktheory.com/theorytab/view/ritc...</td>\n",
       "      <td>chorus</td>\n",
       "      <td>piano_duet/hooktheory/pianoroll/r/ritchie-vale...</td>\n",
       "      <td>1.0</td>\n",
       "      <td>midi_sources/hooktheory/pianoroll/r/ritchie-va...</td>\n",
       "      <td>la-bamba</td>\n",
       "      <td>4.0</td>\n",
       "      <td>NaN</td>\n",
       "      <td>0.0</td>\n",
       "      <td>144.0</td>\n",
       "      <td>C</td>\n",
       "      <td>aeee134e4034e5f98bb630c56d2f7f8c</td>\n",
       "      <td>La Bamba</td>\n",
       "      <td>ritchie-valen</td>\n",
       "      <td>Pop,Rock</td>\n",
       "      <td>chorus</td>\n",
       "      <td>hooktheory_c</td>\n",
       "    </tr>\n",
       "  </tbody>\n",
       "</table>\n",
       "</div>"
      ],
      "text/plain": [
       "                                                 song_url section  \\\n",
       "193179  https://www.hooktheory.com/theorytab/view/ritc...  chorus   \n",
       "\n",
       "                                                    numpy  ht_mode  \\\n",
       "193179  piano_duet/hooktheory/pianoroll/r/ritchie-vale...      1.0   \n",
       "\n",
       "                                                     midi     title  \\\n",
       "193179  midi_sources/hooktheory/pianoroll/r/ritchie-va...  la-bamba   \n",
       "\n",
       "        ht_time_signature  mxl  ht_offset  ht_bpm ht_key  \\\n",
       "193179                4.0  NaN        0.0   144.0      C   \n",
       "\n",
       "                                     md5 midi_title         artist    genres  \\\n",
       "193179  aeee134e4034e5f98bb630c56d2f7f8c   La Bamba  ritchie-valen  Pop,Rock   \n",
       "\n",
       "         parts        source  \n",
       "193179  chorus  hooktheory_c  "
      ]
     },
     "execution_count": 32,
     "metadata": {},
     "output_type": "execute_result"
    }
   ],
   "source": [
    "csv_path = base_path/f'piano_duet/piano_duet.csv'\n",
    "csv = pd.read_csv(csv_path)\n",
    "df = csv.loc[csv['numpy'].notna()];\n",
    "\n",
    "# keywords = 'la bamba'.replace(' ', '|')\n",
    "title_filter = df['title'].str.contains('la-bamba')==True\n",
    "artist_filter = df['artist'].str.contains('')==True\n",
    "results = df[title_filter & artist_filter]; results.head()\n",
    "results = results[results.source == 'hooktheory_c']; results.head()"
   ]
  },
  {
   "cell_type": "code",
   "execution_count": 33,
   "metadata": {},
   "outputs": [
    {
     "data": {
      "text/plain": [
       "(PosixPath('../../data/midi/v15/piano_duet/hooktheory/pianoroll/r/ritchie-valen/la-bamba/chorus_key_cmajor.npy'),\n",
       " PosixPath('../../data/midi/v15/midi_sources/hooktheory/pianoroll/r/ritchie-valen/la-bamba/chorus_key_cmajor.mid'))"
      ]
     },
     "execution_count": 33,
     "metadata": {},
     "output_type": "execute_result"
    }
   ],
   "source": [
    "idx = 0\n",
    "file = base_path/results.numpy.values[idx];\n",
    "orig = base_path/results.midi.values[idx];\n",
    "file, orig"
   ]
  },
  {
   "cell_type": "code",
   "execution_count": 34,
   "metadata": {},
   "outputs": [],
   "source": [
    "seed_len = 40\n",
    "song_np = np.load(file)\n",
    "seed_np = np.load(file)[:seed_len]\n",
    "xb = torch.tensor(to_single_stream(seed_np, vocab=vocab))[None]\n",
    "if torch.cuda.is_available(): xb = xb.cuda()"
   ]
  },
  {
   "cell_type": "code",
   "execution_count": 35,
   "metadata": {},
   "outputs": [],
   "source": [
    "# seed_stream = npenc2stream(seed_np)\n",
    "# seed_stream.show()"
   ]
  },
  {
   "cell_type": "code",
   "execution_count": 36,
   "metadata": {},
   "outputs": [
    {
     "data": {
      "text/plain": [
       "tensor([[  0,   1,   8, 150,  64, 141,   8, 141,  66, 141,   8, 141,  68, 141,\n",
       "           8, 141,  69, 143,  64, 147,  61, 147,  57, 147,   8, 143,  73, 141,\n",
       "           8, 141,  76, 141,   8, 141,  74, 141,  69, 147,  66, 147,  62, 147,\n",
       "           8, 141,  74, 141,   8, 141,  78, 141,   8, 141,  76, 143,   8, 141,\n",
       "          59, 147,  56, 147,  52, 147,   8, 141,  64, 141,   8, 141,  68, 141,\n",
       "           8, 141,  71, 141,   8, 141,  74, 141,  69, 147,  66, 147]],\n",
       "       device='cuda:0')"
      ]
     },
     "execution_count": 36,
     "metadata": {},
     "output_type": "execute_result"
    }
   ],
   "source": [
    "xb"
   ]
  },
  {
   "cell_type": "code",
   "execution_count": 37,
   "metadata": {},
   "outputs": [],
   "source": [
    "task_type = torch.full_like(xb, TaskType.NextWord.value)\n",
    "# res = self.pred_batch(batch=((xb,task_type,xb),(xb)))[-1][0, -1] # task1, task2 - (bs x ts x vocab)"
   ]
  },
  {
   "cell_type": "code",
   "execution_count": 38,
   "metadata": {},
   "outputs": [],
   "source": [
    "learn.model.reset()"
   ]
  },
  {
   "cell_type": "code",
   "execution_count": 39,
   "metadata": {},
   "outputs": [
    {
     "data": {
      "text/plain": [
       "[tensor([[[0.0044, 0.0037, 0.0037,  ..., 0.0036, 0.0036, 0.0037],\n",
       "          [0.0034, 0.0047, 0.0037,  ..., 0.0036, 0.0037, 0.0036],\n",
       "          [0.0037, 0.0042, 0.0035,  ..., 0.0034, 0.0035, 0.0034],\n",
       "          ...,\n",
       "          [0.0031, 0.0036, 0.0033,  ..., 0.0033, 0.0033, 0.0033],\n",
       "          [0.0036, 0.0038, 0.0035,  ..., 0.0035, 0.0036, 0.0035],\n",
       "          [0.0031, 0.0036, 0.0033,  ..., 0.0033, 0.0033, 0.0033]]]),\n",
       " tensor([[4, 4, 4, 4, 4, 4, 4, 4, 4, 4, 4, 4, 4, 4, 4, 4, 4, 4, 4, 4, 4, 4, 4, 4,\n",
       "          4, 4, 4, 4, 4, 4, 4, 4, 4, 4, 4, 4, 4, 4, 4, 4, 4, 4, 4, 4, 4, 4, 4, 4,\n",
       "          4, 4, 4, 4, 4, 4, 4, 4, 4, 4, 4, 4, 4, 4, 4, 4, 4, 4, 4, 4, 4, 4, 4, 4,\n",
       "          4, 4, 4, 4, 4, 4, 4, 4, 4, 4]]),\n",
       " tensor([[[9.1561e-01, 4.7759e-04, 1.6667e-04,  ..., 4.8221e-05,\n",
       "           4.0054e-05, 1.5997e-04],\n",
       "          [3.8568e-04, 1.8327e-01, 3.5651e-05,  ..., 1.3244e-05,\n",
       "           2.3935e-05, 2.4551e-05],\n",
       "          [2.4268e-06, 4.4008e-06, 3.0519e-08,  ..., 2.2241e-08,\n",
       "           5.8826e-08, 7.9160e-08],\n",
       "          ...,\n",
       "          [8.9230e-03, 6.2881e-04, 2.3953e-06,  ..., 1.9097e-06,\n",
       "           2.3953e-06, 2.3216e-06],\n",
       "          [5.4095e-06, 2.2244e-06, 5.1201e-08,  ..., 4.6802e-08,\n",
       "           8.8468e-08, 8.3760e-08],\n",
       "          [8.9300e-03, 6.2494e-04, 2.3899e-06,  ..., 1.9054e-06,\n",
       "           2.3899e-06, 2.2983e-06]]])]"
      ]
     },
     "execution_count": 39,
     "metadata": {},
     "output_type": "execute_result"
    }
   ],
   "source": [
    "res = learn.pred_batch(batch=((xb,task_type,xb),xb)); res"
   ]
  },
  {
   "cell_type": "code",
   "execution_count": 40,
   "metadata": {},
   "outputs": [
    {
     "data": {
      "text/plain": [
       "([tensor([[[ 0.1938,  0.0140,  0.0234,  ...,  0.0022, -0.0004,  0.0165],\n",
       "           [ 0.0140,  0.3479,  0.1149,  ...,  0.0867,  0.1130,  0.0864],\n",
       "           [-0.0170,  0.1159, -0.0717,  ..., -0.0933, -0.0694, -0.0841],\n",
       "           ...,\n",
       "           [-0.0279,  0.1076,  0.0144,  ...,  0.0207,  0.0187,  0.0314],\n",
       "           [-0.0104,  0.0472, -0.0249,  ..., -0.0374, -0.0192, -0.0329],\n",
       "           [-0.0279,  0.1076,  0.0144,  ...,  0.0207,  0.0187,  0.0314]]],\n",
       "         dtype=torch.float16),\n",
       "  tensor([[4, 4, 4, 4, 4, 4, 4, 4, 4, 4, 4, 4, 4, 4, 4, 4, 4, 4, 4, 4, 4, 4, 4, 4,\n",
       "           4, 4, 4, 4, 4, 4, 4, 4, 4, 4, 4, 4, 4, 4, 4, 4, 4, 4, 4, 4, 4, 4, 4, 4,\n",
       "           4, 4, 4, 4, 4, 4, 4, 4, 4, 4, 4, 4, 4, 4, 4, 4, 4, 4, 4, 4, 4, 4, 4, 4,\n",
       "           4, 4, 4, 4, 4, 4, 4, 4, 4, 4]]),\n",
       "  tensor([[[ 6.0586, -2.8809, -3.6738,  ..., -4.3164, -4.9531, -4.1758],\n",
       "           [ 0.4409,  5.3867, -4.0352,  ..., -4.4609, -4.4492, -5.0898],\n",
       "           [-1.6709, -2.1230, -6.9414,  ..., -6.8086, -6.3633, -6.1953],\n",
       "           ...,\n",
       "           [-0.0349, -2.6992, -8.2500,  ..., -8.4688, -8.2656, -8.3047],\n",
       "           [-1.1816, -2.0820, -5.8516,  ..., -5.9258, -5.2969, -5.3594],\n",
       "           [-0.0339, -2.7012, -8.2500,  ..., -8.4688, -8.2578, -8.2969]]],\n",
       "         dtype=torch.float16)],\n",
       " tensor([[  1,   1,   1,  ...,   1,   8, 141],\n",
       "         [  8,   1,   1,  ...,   1,   8, 141],\n",
       "         [  1,   1,   1,  ..., 141,   1, 141],\n",
       "         ...,\n",
       "         [  1, 143,   1,  ..., 141,   1, 141],\n",
       "         [  1,   1,   1,  ..., 141,   1, 141],\n",
       "         [  1,   1,  77,  ...,   1,   1, 141]], device='cuda:0'))"
      ]
     },
     "execution_count": 40,
     "metadata": {},
     "output_type": "execute_result"
    }
   ],
   "source": [
    "preds = loss_batch(learn.model.eval(), (xb,task_type,xb), yb); preds"
   ]
  },
  {
   "cell_type": "code",
   "execution_count": 41,
   "metadata": {},
   "outputs": [
    {
     "data": {
      "text/plain": [
       "tensor(0.0050)"
      ]
     },
     "execution_count": 41,
     "metadata": {},
     "output_type": "execute_result"
    }
   ],
   "source": [
    "last = res[-1][0, -1]; last[143]"
   ]
  },
  {
   "cell_type": "code",
   "execution_count": 42,
   "metadata": {},
   "outputs": [
    {
     "data": {
      "text/plain": [
       "8"
      ]
     },
     "execution_count": 42,
     "metadata": {},
     "output_type": "execute_result"
    }
   ],
   "source": [
    "\n",
    "idx = torch.multinomial(res[-1][0, -1], 1).item(); idx"
   ]
  },
  {
   "cell_type": "code",
   "execution_count": 51,
   "metadata": {},
   "outputs": [],
   "source": [
    "\n",
    "def predict_nw(self, xb:Tensor, n_words:int=128):\n",
    "    if xb.shape[0] > 1: xb = xb[0][None]\n",
    "    seed = xb.cpu().numpy().squeeze()\n",
    "    yb = torch.ones_like(xb)\n",
    "    new_idx = []\n",
    "#     self.mask = False\n",
    "    self.model.reset()\n",
    "\n",
    "    for i in progress_bar(range(n_words), leave=True):\n",
    "        print(xb)\n",
    "        task_type = torch.full_like(xb, TaskType.NextWord.value)\n",
    "        \n",
    "        # Masking last - bert\n",
    "#         mask_last = torch.cat((xb, torch.tensor(vocab.mask_idx, device=xb.device).view(1, 1)), dim=-1)\n",
    "#         res = self.pred_batch(batch=((mask_last,task_type,mask_last),(yb)))[0][0, -1] # task1, task2 - (bs x ts x vocab)\n",
    "        \n",
    "        # Next Word\n",
    "        res = self.pred_batch(batch=((xb,task_type,xb),xb))[-1][0, -1] # task1, task2 - (bs x ts x vocab)\n",
    "\n",
    "        # Use first temperatures value if last prediction was duration\n",
    "        res.pow_(1 / (0.5))\n",
    "\n",
    "        idx = torch.multinomial(res, 1).item()\n",
    "    \n",
    "        new_idx.append(idx)\n",
    "#         t_idx = torch.tensor(idx, device=xb.device).view(1, 1)\n",
    "#         xb = torch.cat((xb, t_idx), dim=-1)\n",
    "        xb = xb.new_tensor([idx])[None]\n",
    "        \n",
    "#     self.mask = True\n",
    "    return np.array(new_idx), seed\n"
   ]
  },
  {
   "cell_type": "code",
   "execution_count": 52,
   "metadata": {},
   "outputs": [],
   "source": [
    "# vocab.itos[143]"
   ]
  },
  {
   "cell_type": "code",
   "execution_count": 53,
   "metadata": {},
   "outputs": [
    {
     "data": {
      "text/plain": [
       "tensor(0.0063)"
      ]
     },
     "execution_count": 53,
     "metadata": {},
     "output_type": "execute_result"
    }
   ],
   "source": [
    "if xb.shape[0] > 1: xb = xb[0][None]\n",
    "seed = xb.cpu().numpy().squeeze()\n",
    "yb = torch.ones_like(xb)\n",
    "res = learn.pred_batch(batch=((xb, torch.full_like(xb, TaskType.NextWord.value),xb),(yb)))\n",
    "res[-1][0, -1][141]"
   ]
  },
  {
   "cell_type": "code",
   "execution_count": 54,
   "metadata": {},
   "outputs": [
    {
     "data": {
      "text/html": [
       "\n",
       "    <div>\n",
       "        <style>\n",
       "            /* Turns off some styling */\n",
       "            progress {\n",
       "                /* gets rid of default border in Firefox and Opera. */\n",
       "                border: none;\n",
       "                /* Needs to be in here for Safari polyfill so background images work as expected. */\n",
       "                background-size: auto;\n",
       "            }\n",
       "            .progress-bar-interrupted, .progress-bar-interrupted::-webkit-progress-bar {\n",
       "                background: #F44336;\n",
       "            }\n",
       "        </style>\n",
       "      <progress value='40' class='' max='40', style='width:300px; height:20px; vertical-align: middle;'></progress>\n",
       "      100.00% [40/40 00:01<00:00]\n",
       "    </div>\n",
       "    "
      ],
      "text/plain": [
       "<IPython.core.display.HTML object>"
      ]
     },
     "metadata": {},
     "output_type": "display_data"
    },
    {
     "name": "stdout",
     "output_type": "stream",
     "text": [
      "tensor([[  0,   1,   8, 150,  64, 141,   8, 141,  66, 141,   8, 141,  68, 141,\n",
      "           8, 141,  69, 143,  64, 147,  61, 147,  57, 147,   8, 143,  73, 141,\n",
      "           8, 141,  76, 141,   8, 141,  74, 141,  69, 147,  66, 147,  62, 147,\n",
      "           8, 141,  74, 141,   8, 141,  78, 141,   8, 141,  76, 143,   8, 141,\n",
      "          59, 147,  56, 147,  52, 147,   8, 141,  64, 141,   8, 141,  68, 141,\n",
      "           8, 141,  71, 141,   8, 141,  74, 141,  69, 147,  66, 147]],\n",
      "       device='cuda:0')\n",
      "tensor([[8]], device='cuda:0')\n",
      "tensor([[141]], device='cuda:0')\n",
      "tensor([[8]], device='cuda:0')\n",
      "tensor([[141]], device='cuda:0')\n",
      "tensor([[8]], device='cuda:0')\n",
      "tensor([[141]], device='cuda:0')\n",
      "tensor([[8]], device='cuda:0')\n",
      "tensor([[141]], device='cuda:0')\n",
      "tensor([[8]], device='cuda:0')\n",
      "tensor([[141]], device='cuda:0')\n",
      "tensor([[8]], device='cuda:0')\n",
      "tensor([[141]], device='cuda:0')\n",
      "tensor([[8]], device='cuda:0')\n",
      "tensor([[143]], device='cuda:0')\n",
      "tensor([[8]], device='cuda:0')\n",
      "tensor([[141]], device='cuda:0')\n",
      "tensor([[8]], device='cuda:0')\n",
      "tensor([[141]], device='cuda:0')\n",
      "tensor([[8]], device='cuda:0')\n",
      "tensor([[141]], device='cuda:0')\n",
      "tensor([[8]], device='cuda:0')\n",
      "tensor([[141]], device='cuda:0')\n",
      "tensor([[8]], device='cuda:0')\n",
      "tensor([[141]], device='cuda:0')\n",
      "tensor([[8]], device='cuda:0')\n",
      "tensor([[141]], device='cuda:0')\n",
      "tensor([[8]], device='cuda:0')\n",
      "tensor([[143]], device='cuda:0')\n",
      "tensor([[8]], device='cuda:0')\n",
      "tensor([[141]], device='cuda:0')\n",
      "tensor([[8]], device='cuda:0')\n",
      "tensor([[141]], device='cuda:0')\n",
      "tensor([[8]], device='cuda:0')\n",
      "tensor([[141]], device='cuda:0')\n",
      "tensor([[8]], device='cuda:0')\n",
      "tensor([[141]], device='cuda:0')\n",
      "tensor([[8]], device='cuda:0')\n",
      "tensor([[141]], device='cuda:0')\n",
      "tensor([[73]], device='cuda:0')\n"
     ]
    }
   ],
   "source": [
    "out_s, seed_s = predict_nw(learn, xb, n_words=40)"
   ]
  },
  {
   "cell_type": "code",
   "execution_count": 55,
   "metadata": {},
   "outputs": [
    {
     "data": {
      "text/plain": [
       "['xxsep',\n",
       " 'd2',\n",
       " 'xxsep',\n",
       " 'd2',\n",
       " 'xxsep',\n",
       " 'd2',\n",
       " 'xxsep',\n",
       " 'd2',\n",
       " 'xxsep',\n",
       " 'd2',\n",
       " 'xxsep',\n",
       " 'd2',\n",
       " 'xxsep',\n",
       " 'd4',\n",
       " 'xxsep',\n",
       " 'd2',\n",
       " 'xxsep',\n",
       " 'd2',\n",
       " 'xxsep',\n",
       " 'd2',\n",
       " 'xxsep',\n",
       " 'd2',\n",
       " 'xxsep',\n",
       " 'd2',\n",
       " 'xxsep',\n",
       " 'd2',\n",
       " 'xxsep',\n",
       " 'd4',\n",
       " 'xxsep',\n",
       " 'd2',\n",
       " 'xxsep',\n",
       " 'd2',\n",
       " 'xxsep',\n",
       " 'd2',\n",
       " 'xxsep',\n",
       " 'd2',\n",
       " 'xxsep',\n",
       " 'd2',\n",
       " 'n64',\n",
       " 'd4']"
      ]
     },
     "execution_count": 55,
     "metadata": {},
     "output_type": "execute_result"
    }
   ],
   "source": [
    "[vocab.itos[i] for i in out_s]"
   ]
  },
  {
   "cell_type": "code",
   "execution_count": 56,
   "metadata": {},
   "outputs": [
    {
     "data": {
      "image/png": "[encoded data removed]",
      "text/plain": [
       "<IPython.core.display.Image object>"
      ]
     },
     "metadata": {
      "image/png": {
       "height": 49,
       "width": 250
      }
     },
     "output_type": "display_data"
    }
   ],
   "source": [
    "stream = npenc2stream(to_double_stream(out_s))\n",
    "stream.show()"
   ]
  }
 ],
 "metadata": {
  "kernelspec": {
   "display_name": "Python 3",
   "language": "python",
   "name": "python3"
  },
  "language_info": {
   "codemirror_mode": {
    "name": "ipython",
    "version": 3
   },
   "file_extension": ".py",
   "mimetype": "text/x-python",
   "name": "python",
   "nbconvert_exporter": "python",
   "pygments_lexer": "ipython3",
   "version": "3.7.3"
  }
 },
 "nbformat": 4,
 "nbformat_minor": 2
}

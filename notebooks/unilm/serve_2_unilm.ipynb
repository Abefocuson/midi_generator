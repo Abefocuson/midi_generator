{
 "cells": [
  {
   "cell_type": "markdown",
   "metadata": {},
   "source": [
    "# Attention Architecture"
   ]
  },
  {
   "cell_type": "code",
   "execution_count": 1,
   "metadata": {},
   "outputs": [],
   "source": [
    "%reload_ext autoreload\n",
    "%autoreload 2\n",
    "%matplotlib inline"
   ]
  },
  {
   "cell_type": "code",
   "execution_count": 2,
   "metadata": {},
   "outputs": [],
   "source": [
    "import music21"
   ]
  },
  {
   "cell_type": "code",
   "execution_count": 3,
   "metadata": {},
   "outputs": [],
   "source": [
    "# from fastai.text import *\n",
    "from enum import Enum\n",
    "import torch"
   ]
  },
  {
   "cell_type": "code",
   "execution_count": 4,
   "metadata": {},
   "outputs": [],
   "source": [
    "import numpy as np\n",
    "import torch.nn as nn"
   ]
  },
  {
   "cell_type": "code",
   "execution_count": 5,
   "metadata": {},
   "outputs": [],
   "source": [
    "np.set_printoptions(edgeitems=10, threshold=40, linewidth=200)"
   ]
  },
  {
   "cell_type": "code",
   "execution_count": 6,
   "metadata": {},
   "outputs": [],
   "source": [
    "import sys\n",
    "sys.path.insert(0, '../../')\n",
    "from src.fastai_data import *\n",
    "from src.encode_data import *\n",
    "from src.serve import *"
   ]
  },
  {
   "cell_type": "code",
   "execution_count": 7,
   "metadata": {},
   "outputs": [],
   "source": [
    "from src.music_transformer import *"
   ]
  },
  {
   "cell_type": "code",
   "execution_count": 8,
   "metadata": {},
   "outputs": [],
   "source": [
    "from src.unilm import *"
   ]
  },
  {
   "cell_type": "code",
   "execution_count": 9,
   "metadata": {},
   "outputs": [],
   "source": [
    "config = unilm_config(vocab)"
   ]
  },
  {
   "cell_type": "code",
   "execution_count": 10,
   "metadata": {},
   "outputs": [],
   "source": [
    "# # config['n_layers'] = 8\n",
    "# # config['dec_layers'] = 0\n",
    "# config['n_layers'] = 2\n",
    "# config['dec_layers'] = 2\n",
    "# config['mem_len'] = 512\n",
    "# config['rand_bptt'] = False\n",
    "# config['bptt'] = 512\n",
    "# config['bs'] = 8\n"
   ]
  },
  {
   "cell_type": "code",
   "execution_count": 11,
   "metadata": {},
   "outputs": [
    {
     "data": {
      "text/plain": [
       "{'ctx_len': 150,\n",
       " 'n_layers': 8,\n",
       " 'n_heads': 8,\n",
       " 'd_model': 512,\n",
       " 'd_head': 64,\n",
       " 'd_inner': 2048,\n",
       " 'resid_p': 0.1,\n",
       " 'attn_p': 0.1,\n",
       " 'ff_p': 0.1,\n",
       " 'embed_p': 0.1,\n",
       " 'output_p': 0.1,\n",
       " 'bias': False,\n",
       " 'scale': True,\n",
       " 'act': <Activation.GeLU: 3>,\n",
       " 'double_drop': True,\n",
       " 'tie_weights': True,\n",
       " 'out_bias': True,\n",
       " 'init': <function fastai.text.models.transformer.init_transformer(m)>,\n",
       " 'mem_len': 512,\n",
       " 'mask': True,\n",
       " 'pad_idx': 1,\n",
       " 'bos_idx': 0,\n",
       " 'sep_idx': 8,\n",
       " 'transpose_range': (0, 12),\n",
       " 'rand_transpose': True,\n",
       " 'rand_bptt': False,\n",
       " 'note_range': (9, 137),\n",
       " 'bs': 16,\n",
       " 'bptt': 256,\n",
       " 'vocab_size': 312,\n",
       " 'dec_layers': 8}"
      ]
     },
     "execution_count": 11,
     "metadata": {},
     "output_type": "execute_result"
    }
   ],
   "source": [
    "config"
   ]
  },
  {
   "cell_type": "code",
   "execution_count": 12,
   "metadata": {},
   "outputs": [],
   "source": [
    "base_path = Path('../../data/midi/v17/sf4/')"
   ]
  },
  {
   "cell_type": "code",
   "execution_count": 13,
   "metadata": {},
   "outputs": [],
   "source": [
    "cache_name = 'tmp/hook_c'\n",
    "# cache_name = 'tmp/sample'"
   ]
  },
  {
   "cell_type": "markdown",
   "metadata": {},
   "source": [
    "## BERT Dataloading"
   ]
  },
  {
   "cell_type": "code",
   "execution_count": 14,
   "metadata": {},
   "outputs": [],
   "source": [
    "ns_dl_tfms = [mask_tfm, next_sentence_tfm]\n",
    "ns_config = config.copy()\n",
    "ns_config['bs'] *= 2\n",
    "ns_data = load_music_data(base_path/'piano_duet', cache_name=cache_name, vocab=vocab, \n",
    "                          y_offset=0, dl_tfms=ns_dl_tfms, **ns_config)"
   ]
  },
  {
   "cell_type": "code",
   "execution_count": 15,
   "metadata": {},
   "outputs": [
    {
     "data": {
      "text/plain": [
       "[torch.Size([32, 256]),\n",
       " torch.Size([32, 256]),\n",
       " torch.Size([32, 256]),\n",
       " torch.Size([32, 256])]"
      ]
     },
     "execution_count": 15,
     "metadata": {},
     "output_type": "execute_result"
    }
   ],
   "source": [
    "xb,yb = ns_data.one_batch(); [x.shape for x in xb+yb]"
   ]
  },
  {
   "cell_type": "markdown",
   "metadata": {},
   "source": [
    "## S2S Dataloading"
   ]
  },
  {
   "cell_type": "code",
   "execution_count": 16,
   "metadata": {},
   "outputs": [],
   "source": [
    "s2s_dl_tfms = [s2s_tfm]\n",
    "s2s_data = MusicDataBunch.load(base_path/'s2s_encode', cache_name=cache_name, \n",
    "                           preloader_cls=S2SPreloader, dl_tfms=s2s_dl_tfms, y_offset=1,\n",
    "                           shuffle_dl=True, **config)\n"
   ]
  },
  {
   "cell_type": "code",
   "execution_count": 17,
   "metadata": {},
   "outputs": [
    {
     "data": {
      "text/plain": [
       "[torch.Size([16, 256]),\n",
       " torch.Size([16, 256]),\n",
       " torch.Size([16, 256]),\n",
       " torch.Size([16, 256]),\n",
       " torch.Size([16, 256])]"
      ]
     },
     "execution_count": 17,
     "metadata": {},
     "output_type": "execute_result"
    }
   ],
   "source": [
    "s2s_data.train_dl.dl.dataset.on_epoch_begin()\n",
    "s2s_data.train_dl.dl.dataset.on_epoch_end()\n",
    "xb,yb = s2s_data.one_batch(); [x.shape for x in xb+yb]"
   ]
  },
  {
   "cell_type": "markdown",
   "metadata": {},
   "source": [
    "### Load NextWord dataset (Language Model)"
   ]
  },
  {
   "cell_type": "code",
   "execution_count": 18,
   "metadata": {},
   "outputs": [],
   "source": [
    "\n",
    "nw_data = MusicDataBunch.load(base_path/'piano_duet', cache_name=cache_name, \n",
    "                              vocab=vocab, dl_tfms=[nw_tfm], y_offset=1, \n",
    "                              train_tfms=[to_single_stream], valid_tfms=[to_single_stream], **config)\n",
    "nw_data.vocab = vocab"
   ]
  },
  {
   "cell_type": "markdown",
   "metadata": {},
   "source": [
    "## Datasets"
   ]
  },
  {
   "cell_type": "code",
   "execution_count": 19,
   "metadata": {},
   "outputs": [],
   "source": [
    "datasets = [nw_data, s2s_data, ns_data]\n",
    "# datasets = [nw_data]"
   ]
  },
  {
   "cell_type": "code",
   "execution_count": 20,
   "metadata": {},
   "outputs": [
    {
     "data": {
      "text/plain": [
       "DeviceDataLoader(dl=<torch.utils.data.dataloader.DataLoader object at 0x7fe425476780>, device=device(type='cuda'), tfms=[<function mask_tfm at 0x7fe3849ad048>, <function next_sentence_tfm at 0x7fe384992f28>], collate_fn=<function data_collate at 0x7fe3962adea0>)"
      ]
     },
     "execution_count": 20,
     "metadata": {},
     "output_type": "execute_result"
    }
   ],
   "source": [
    "ns_data.train_dl"
   ]
  },
  {
   "cell_type": "markdown",
   "metadata": {},
   "source": [
    "## Load"
   ]
  },
  {
   "cell_type": "code",
   "execution_count": 21,
   "metadata": {},
   "outputs": [],
   "source": [
    "def predict_func(parts): return [p if idx == 1 else F.softmax(p, dim=-1) for idx,p in enumerate(parts)]\n",
    "# Need to monkey patch pred_batch activation function for 2d array\n",
    "loss_func_name = camel2snake(BertLoss.__name__)\n",
    "basic_train.loss_func_name2activ[loss_func_name] = predict_func"
   ]
  },
  {
   "cell_type": "code",
   "execution_count": 22,
   "metadata": {},
   "outputs": [],
   "source": [
    "loss_func = BertLoss(loss_mult=(1,1,1,1))\n",
    "learn = bert_model_learner(datasets[0], config.copy(), \n",
    "                           loss_func=loss_func)\n",
    "\n",
    "# model = get_bert_model(config['vocab_size'], config=config.copy())\n",
    "# learn = BertLearner(datasets[0], model, config=config, split_func=None, loss_func=loss_func)"
   ]
  },
  {
   "cell_type": "code",
   "execution_count": 23,
   "metadata": {},
   "outputs": [],
   "source": [
    "learn.metrics = [mask_acc, nw_acc, s2s_acc, ns_acc]"
   ]
  },
  {
   "cell_type": "code",
   "execution_count": 24,
   "metadata": {},
   "outputs": [],
   "source": [
    "from fastai.callbacks.rnn import RNNTrainer\n",
    "learn.callbacks = [c for c in learn.callbacks if not isinstance(c, RNNTrainer)]\n",
    "learn.callbacks.append(BertTrainer(learn, datasets))"
   ]
  },
  {
   "cell_type": "code",
   "execution_count": 25,
   "metadata": {},
   "outputs": [
    {
     "data": {
      "text/plain": [
       "[src.unilm.BertTrainer]"
      ]
     },
     "execution_count": 25,
     "metadata": {},
     "output_type": "execute_result"
    }
   ],
   "source": [
    "[type(c) for c in learn.callbacks]"
   ]
  },
  {
   "cell_type": "code",
   "execution_count": 26,
   "metadata": {},
   "outputs": [],
   "source": [
    "learn = learn.to_fp16()"
   ]
  },
  {
   "cell_type": "markdown",
   "metadata": {},
   "source": [
    "### Training"
   ]
  },
  {
   "cell_type": "code",
   "execution_count": 27,
   "metadata": {
    "scrolled": false
   },
   "outputs": [],
   "source": [
    "# learn.fit_one_cycle(12, 1e-4)"
   ]
  },
  {
   "cell_type": "markdown",
   "metadata": {},
   "source": [
    "## Load existing"
   ]
  },
  {
   "cell_type": "code",
   "execution_count": 28,
   "metadata": {},
   "outputs": [
    {
     "data": {
      "text/plain": [
       "PosixPath('../../data/midi/v17/sf4/models/unilm')"
      ]
     },
     "execution_count": 28,
     "metadata": {},
     "output_type": "execute_result"
    }
   ],
   "source": [
    "base_path/'models/unilm'"
   ]
  },
  {
   "cell_type": "code",
   "execution_count": 29,
   "metadata": {},
   "outputs": [
    {
     "data": {
      "text/plain": [
       "[PosixPath('../../data/midi/v17/sf4/piano_duet/models/unilm/hq/4_ep90_best.pth'),\n",
       " PosixPath('../../data/midi/v17/sf4/piano_duet/models/unilm/hq/4_ep90.pth'),\n",
       " PosixPath('../../data/midi/v17/sf4/piano_duet/models/unilm/hq/5_ep40_reencode_best.pth'),\n",
       " PosixPath('../../data/midi/v17/sf4/piano_duet/models/unilm/hq/3_ep30_full_best.pth'),\n",
       " PosixPath('../../data/midi/v17/sf4/piano_duet/models/unilm/hq/3_ep30_full.pth'),\n",
       " PosixPath('../../data/midi/v17/sf4/piano_duet/models/unilm/hq/5_ep40_reencode.pth'),\n",
       " PosixPath('../../data/midi/v17/sf4/piano_duet/models/unilm/hook_c/5_ep40_reencode_best.pth'),\n",
       " PosixPath('../../data/midi/v17/sf4/piano_duet/models/unilm/hook_c/1_ep60.pth'),\n",
       " PosixPath('../../data/midi/v17/sf4/piano_duet/models/unilm/hook_c/6_ep40_reencode.pth'),\n",
       " PosixPath('../../data/midi/v17/sf4/piano_duet/models/unilm/hook_c/6_ep40_reencode_best.pth'),\n",
       " PosixPath('../../data/midi/v17/sf4/piano_duet/models/unilm/hook_c/1_ep60_best.pth'),\n",
       " PosixPath('../../data/midi/v17/sf4/piano_duet/models/unilm/hook_c/5_ep40_reencode.pth'),\n",
       " PosixPath('../../data/midi/v17/sf4/piano_duet/models/unilm/lq/1_ep30_best.pth'),\n",
       " PosixPath('../../data/midi/v17/sf4/piano_duet/models/unilm/lq/3_ep30_full_best.pth'),\n",
       " PosixPath('../../data/midi/v17/sf4/piano_duet/models/unilm/lq/5_ep30_reencode_best.pth'),\n",
       " PosixPath('../../data/midi/v17/sf4/piano_duet/models/unilm/lq/1_ep30.pth'),\n",
       " PosixPath('../../data/midi/v17/sf4/piano_duet/models/unilm/lq/2_ep30_full_best.pth'),\n",
       " PosixPath('../../data/midi/v17/sf4/piano_duet/models/unilm/lq/3_ep30_full.pth')]"
      ]
     },
     "execution_count": 29,
     "metadata": {},
     "output_type": "execute_result"
    }
   ],
   "source": [
    "saved_models = get_files(base_path/'piano_duet/models/unilm', recurse=True, extensions=['.pth']); saved_models"
   ]
  },
  {
   "cell_type": "code",
   "execution_count": 30,
   "metadata": {},
   "outputs": [
    {
     "data": {
      "text/plain": [
       "PosixPath('../../data/midi/v17/sf4/piano_duet/models/unilm/hook_c/6_ep40_reencode.pth')"
      ]
     },
     "execution_count": 30,
     "metadata": {},
     "output_type": "execute_result"
    }
   ],
   "source": [
    "load_path = saved_models[8]\n",
    "state = torch.load(load_path, map_location='cpu')\n",
    "get_model(learn.model).load_state_dict(state['model'])\n",
    "load_path"
   ]
  },
  {
   "cell_type": "markdown",
   "metadata": {},
   "source": [
    "## Prediction"
   ]
  },
  {
   "cell_type": "markdown",
   "metadata": {},
   "source": [
    "Prediction algo"
   ]
  },
  {
   "cell_type": "code",
   "execution_count": 31,
   "metadata": {},
   "outputs": [
    {
     "name": "stderr",
     "output_type": "stream",
     "text": [
      "/home/ubuntu/anaconda3/envs/midi/lib/python3.7/site-packages/IPython/core/interactiveshell.py:3049: DtypeWarning: Columns (0,1,2,9,10,12) have mixed types. Specify dtype option on import or set low_memory=False.\n",
      "  interactivity=interactivity, compiler=compiler, result=result)\n"
     ]
    },
    {
     "data": {
      "text/html": [
       "<div>\n",
       "<style scoped>\n",
       "    .dataframe tbody tr th:only-of-type {\n",
       "        vertical-align: middle;\n",
       "    }\n",
       "\n",
       "    .dataframe tbody tr th {\n",
       "        vertical-align: top;\n",
       "    }\n",
       "\n",
       "    .dataframe thead th {\n",
       "        text-align: right;\n",
       "    }\n",
       "</style>\n",
       "<table border=\"1\" class=\"dataframe\">\n",
       "  <thead>\n",
       "    <tr style=\"text-align: right;\">\n",
       "      <th></th>\n",
       "      <th>section</th>\n",
       "      <th>ht_key</th>\n",
       "      <th>song_url</th>\n",
       "      <th>midi</th>\n",
       "      <th>artist</th>\n",
       "      <th>md5</th>\n",
       "      <th>numpy</th>\n",
       "      <th>ht_offset</th>\n",
       "      <th>title</th>\n",
       "      <th>midi_title</th>\n",
       "      <th>parts</th>\n",
       "      <th>genres</th>\n",
       "      <th>mxl</th>\n",
       "      <th>source</th>\n",
       "      <th>ht_mode</th>\n",
       "      <th>ht_time_signature</th>\n",
       "      <th>ht_bpm</th>\n",
       "    </tr>\n",
       "  </thead>\n",
       "  <tbody>\n",
       "    <tr>\n",
       "      <th>193208</th>\n",
       "      <td>chorus</td>\n",
       "      <td>C</td>\n",
       "      <td>https://www.hooktheory.com/theorytab/view/ritc...</td>\n",
       "      <td>midi_sources/hooktheory/pianoroll/r/ritchie-va...</td>\n",
       "      <td>ritchie-valen</td>\n",
       "      <td>aeee134e4034e5f98bb630c56d2f7f8c</td>\n",
       "      <td>sf4/piano_duet/hooktheory/pianoroll/r/ritchie-...</td>\n",
       "      <td>0.0</td>\n",
       "      <td>la-bamba</td>\n",
       "      <td>La Bamba</td>\n",
       "      <td>chorus</td>\n",
       "      <td>Pop,Rock</td>\n",
       "      <td>NaN</td>\n",
       "      <td>hooktheory_c</td>\n",
       "      <td>1.0</td>\n",
       "      <td>4.0</td>\n",
       "      <td>144.0</td>\n",
       "    </tr>\n",
       "  </tbody>\n",
       "</table>\n",
       "</div>"
      ],
      "text/plain": [
       "       section ht_key                                           song_url  \\\n",
       "193208  chorus      C  https://www.hooktheory.com/theorytab/view/ritc...   \n",
       "\n",
       "                                                     midi         artist  \\\n",
       "193208  midi_sources/hooktheory/pianoroll/r/ritchie-va...  ritchie-valen   \n",
       "\n",
       "                                     md5  \\\n",
       "193208  aeee134e4034e5f98bb630c56d2f7f8c   \n",
       "\n",
       "                                                    numpy  ht_offset  \\\n",
       "193208  sf4/piano_duet/hooktheory/pianoroll/r/ritchie-...        0.0   \n",
       "\n",
       "           title midi_title   parts    genres  mxl        source  ht_mode  \\\n",
       "193208  la-bamba   La Bamba  chorus  Pop,Rock  NaN  hooktheory_c      1.0   \n",
       "\n",
       "        ht_time_signature  ht_bpm  \n",
       "193208                4.0   144.0  "
      ]
     },
     "execution_count": 31,
     "metadata": {},
     "output_type": "execute_result"
    }
   ],
   "source": [
    "csv_path = base_path/f'piano_duet/piano_duet.csv'\n",
    "csv = pd.read_csv(csv_path)\n",
    "df = csv.loc[csv['numpy'].notna()];\n",
    "\n",
    "# keywords = 'la bamba'.replace(' ', '|')\n",
    "title_filter = df['title'].str.contains('la-bamba')==True\n",
    "artist_filter = df['artist'].str.contains('')==True\n",
    "results = df[title_filter & artist_filter]; results.head()\n",
    "results = results[results.source == 'hooktheory_c']; results.head()"
   ]
  },
  {
   "cell_type": "code",
   "execution_count": 32,
   "metadata": {},
   "outputs": [
    {
     "data": {
      "text/plain": [
       "(PosixPath('../../data/midi/v17/sf4/piano_duet/hooktheory/pianoroll/r/ritchie-valen/la-bamba/chorus_key_cmajor.npy'),\n",
       " PosixPath('../../data/midi/v17/midi_sources/hooktheory/pianoroll/r/ritchie-valen/la-bamba/chorus_key_cmajor.mid'))"
      ]
     },
     "execution_count": 32,
     "metadata": {},
     "output_type": "execute_result"
    }
   ],
   "source": [
    "idx = 0\n",
    "file = base_path.parent/results.numpy.values[idx];\n",
    "orig = base_path.parent/results.midi.values[idx];\n",
    "file, orig"
   ]
  },
  {
   "cell_type": "code",
   "execution_count": 33,
   "metadata": {},
   "outputs": [],
   "source": [
    "seed_len = 40\n",
    "song_np = np.load(file)\n",
    "seed_np = np.load(file)[:seed_len]\n",
    "xb = torch.tensor(to_single_stream(seed_np, vocab=vocab))[None]\n",
    "if torch.cuda.is_available(): xb = xb.cuda()"
   ]
  },
  {
   "cell_type": "code",
   "execution_count": 34,
   "metadata": {},
   "outputs": [],
   "source": [
    "# seed_stream = npenc2stream(seed_np)\n",
    "# seed_stream.show()"
   ]
  },
  {
   "cell_type": "code",
   "execution_count": 35,
   "metadata": {},
   "outputs": [
    {
     "data": {
      "text/plain": [
       "tensor([[  0,   1,   8, 147,  64, 139,   8, 139,  66, 139,   8, 139,  68, 139,\n",
       "           8, 139,  69, 141,  64, 145,  61, 145,  57, 145,   8, 141,  73, 139,\n",
       "           8, 139,  76, 139,   8, 139,  74, 139,  69, 145,  66, 145,  62, 145,\n",
       "           8, 139,  74, 139,   8, 139,  78, 139,   8, 139,  76, 141,   8, 139,\n",
       "          59, 145,  56, 145,  52, 145,   8, 139,  64, 139,   8, 139,  68, 139,\n",
       "           8, 139,  71, 139,   8, 139,  74, 139,  69, 145,  66, 145]],\n",
       "       device='cuda:0')"
      ]
     },
     "execution_count": 35,
     "metadata": {},
     "output_type": "execute_result"
    }
   ],
   "source": [
    "xb"
   ]
  },
  {
   "cell_type": "code",
   "execution_count": 36,
   "metadata": {},
   "outputs": [],
   "source": [
    "# task_type = torch.full_like(xb, TaskType.NextWord.value)\n",
    "\n",
    "# learn.model.reset()\n",
    "\n",
    "# res = learn.pred_batch(batch=((xb,task_type,xb),xb)); res\n",
    "\n",
    "# preds = loss_batch(learn.model.eval(), (xb,task_type,xb), yb); preds"
   ]
  },
  {
   "cell_type": "code",
   "execution_count": 37,
   "metadata": {},
   "outputs": [],
   "source": [
    "# last = res[-1][0, -1]; last[143]\n",
    "# idx = torch.multinomial(res[-1][0, -1], 1).item(); idx"
   ]
  },
  {
   "cell_type": "code",
   "execution_count": 38,
   "metadata": {},
   "outputs": [
    {
     "data": {
      "text/html": [
       "\n",
       "    <div>\n",
       "        <style>\n",
       "            /* Turns off some styling */\n",
       "            progress {\n",
       "                /* gets rid of default border in Firefox and Opera. */\n",
       "                border: none;\n",
       "                /* Needs to be in here for Safari polyfill so background images work as expected. */\n",
       "                background-size: auto;\n",
       "            }\n",
       "            .progress-bar-interrupted, .progress-bar-interrupted::-webkit-progress-bar {\n",
       "                background: #F44336;\n",
       "            }\n",
       "        </style>\n",
       "      <progress value='0' class='progress-bar-interrupted' max='400', style='width:300px; height:20px; vertical-align: middle;'></progress>\n",
       "      Interrupted\n",
       "    </div>\n",
       "    "
      ],
      "text/plain": [
       "<IPython.core.display.HTML object>"
      ]
     },
     "metadata": {},
     "output_type": "display_data"
    },
    {
     "name": "stdout",
     "output_type": "stream",
     "text": [
      "Predicted BOS token. Returning prediction...\n"
     ]
    }
   ],
   "source": [
    "out_s, seed_s = learn.predict_nw(xb, n_words=400)"
   ]
  },
  {
   "cell_type": "code",
   "execution_count": 39,
   "metadata": {},
   "outputs": [
    {
     "data": {
      "text/plain": [
       "'n53 d8 xxsep d2 n65 d2 xxsep d2 n65 d2 xxsep d2 n64 d4 xxsep d2 n55 d8 n52 d8 n48 d8 xxsep d2 n60 d2 xxsep d2 n64 d2 xxsep d2 n67 d2 xxsep d2 n65 d2 n60 d8 n57 d8 n53 d8 xxsep d2 n65 d2 xxsep d2 n69 d2 xxsep d2 n67 d4 xxsep d2 n50 d8 n47 d8 n43 d8 xxsep d2 n55 d2 xxsep d2 n59 d2 xxsep d2 n62 d2 xxsep d2 n65 d2 n60 d8 n57 d8 n53 d8 xxsep d2 n65 d2 xxsep d2 n65 d2 xxsep d2 n64 d8 xxsep d2 n55 d8 n52 d8 n48 d8 xxsep d8 n65 d2 n60 d8 n57 d8 n53 d8 xxsep d2 n65 d2 xxsep d2 n65 d2 xxsep d2 n64 d2 xxsep d2 n60 d4 n55 d4 n52 d4 n48 d4 xxsep d6 n55 d2 xxsep d2 n60 d2 n55 d8 n52 d8 n48 d8 xxsep d2 n60 d2 xxsep d2 n64 d2 xxsep d2 n67 d2 xxsep d2 n65 d2 n60 d8 n57 d8 n53 d8 xxsep d2 n65 d2 xxsep d2 n69 d2 xxsep d2 n67 d4 xxsep d2 n50 d8 n47 d8 n43 d8 xxsep d2 n55 d2 xxsep d2 n59 d2 xxsep d2 n62 d2 xxsep d2 n65 d2 n60 d8 n57 d8 n53 d8 xxsep d2 n65 d2 xxsep d2 n65 d2 xxsep d2 n64 d4 xxsep d2 n55 d8 n52 d8 n48 d8 xxsep d2 n60 d2 xxsep d2 n64 d2 xxsep d2 n67 d2 xxsep d2 n65 d2 n60 d8 n57 d8 n53 d8 xxsep d2 n65 d2 xxsep d2 n69 d2 xxsep d2 n67 d4 xxsep d2 n50 d8 n47 d8 n43 d8 xxsep d2 n55 d2 xxsep d2 n59 d2 xxsep d2 n62 d2 xxsep d2 n65 d2 n60 d8 n57 d8 n53 d8 xxsep d2 n65 d2 xxsep d2 n65 d2 xxsep d2 n64 d6 xxsep d2 n55 d4 n52 d4 n48 d4'"
      ]
     },
     "execution_count": 39,
     "metadata": {},
     "output_type": "execute_result"
    }
   ],
   "source": [
    "vocab.textify(out_s)"
   ]
  },
  {
   "cell_type": "code",
   "execution_count": 40,
   "metadata": {},
   "outputs": [
    {
     "data": {
      "text/plain": [
       "array([[53,  8],\n",
       "       [-1,  2],\n",
       "       [65,  2],\n",
       "       [-1,  2],\n",
       "       ...,\n",
       "       [-1,  2],\n",
       "       [55,  4],\n",
       "       [52,  4],\n",
       "       [48,  4]])"
      ]
     },
     "execution_count": 40,
     "metadata": {},
     "output_type": "execute_result"
    }
   ],
   "source": [
    "test_out = to_double_stream(out_s); test_out"
   ]
  },
  {
   "cell_type": "code",
   "execution_count": 41,
   "metadata": {},
   "outputs": [
    {
     "data": {
      "image/png": "[encoded data removed]",
      "text/plain": [
       "<IPython.core.display.Image object>"
      ]
     },
     "metadata": {
      "image/png": {
       "height": 217,
       "width": 751
      }
     },
     "output_type": "display_data"
    }
   ],
   "source": [
    "stream = npenc2stream(to_double_stream(out_s))\n",
    "stream.show()"
   ]
  },
  {
   "cell_type": "code",
   "execution_count": 42,
   "metadata": {},
   "outputs": [
    {
     "data": {
      "text/html": [
       "\n",
       "                <div id='midiPlayerDiv3413'></div>\n",
       "                <link rel=\"stylesheet\" href=\"//cuthbertLab.github.io/music21j/css/m21.css\"\n",
       "                    type=\"text/css\" />\n",
       "                <script>\n",
       "                require.config({\n",
       "                    paths: {'music21': '//cuthbertLab.github.io/music21j/src/music21'}\n",
       "                });\n",
       "                require(['music21'], function() {\n",
       "                               mp = new music21.miditools.MidiPlayer();\n",
       "                               mp.addPlayer('#midiPlayerDiv3413');\n",
       "                               mp.base64Load('data:audio/midi;base64,TVRoZAAAAAYAAQABBABNVHJrAAADhQD/AwVQaWFubwDAAADgAEAAwAAA/1EDB6EgAJA1WoQAkEFahACAQQAAkEFahACAQQAAkEBahACANQAAkDBaAJA0WgCQN1qEAIBAAACQPFqEAIA8AACQQFqEAIBAAACQQ1qEAIAwAACANAAAgDcAAIBDAACQQVoAkDVaAJA5WgCQPFqEAIBBAACQQVqEAIBBAACQRVqEAIBFAACQQ1qEAIA1AACAOQAAgDwAAJArWgCQL1oAkDJahACAQwAAkDdahACANwAAkDtahACAOwAAkD5ahACAKwAAgC8AAIAyAACAPgAAkEFaAJA1WgCQOVoAkDxahACAQQAAkEFahACAQQAAkEFahACAQQAAkEBahACANQAAgDkAAIA8AACQMFoAkDRaAJA3WowAgEAAhACAMAAAgDQAAIA3AACQQVoAkDVaAJA5WgCQPFqEAIBBAACQQVqEAIBBAACQQVqEAIBBAACQQFqEAIA1AACAOQAAgDwAAIBAAACQMFoAkDRaAJA3WgCQPFqIAIAwAACANAAAgDcAAIA8AIQAkDdahACANwAAkDxaAJAwWgCQNFoAkDdahACAPAAAkDxahACAPAAAkEBahACAQAAAkENahACAMAAAgDQAAIA3AACAQwAAkEFaAJA1WgCQOVoAkDxahACAQQAAkEFahACAQQAAkEVahACARQAAkENahACANQAAgDkAAIA8AACQK1oAkC9aAJAyWoQAgEMAAJA3WoQAgDcAAJA7WoQAgDsAAJA+WoQAgCsAAIAvAACAMgAAgD4AAJBBWgCQNVoAkDlaAJA8WoQAgEEAAJBBWoQAgEEAAJBBWoQAgEEAAJBAWoQAgDUAAIA5AACAPAAAkDBaAJA0WgCQN1qEAIBAAACQPFqEAIA8AACQQFqEAIBAAACQQ1qEAIAwAACANAAAgDcAAIBDAACQQVoAkDVaAJA5WgCQPFqEAIBBAACQQVqEAIBBAACQRVqEAIBFAACQQ1qEAIA1AACAOQAAgDwAAJArWgCQL1oAkDJahACAQwAAkDdahACANwAAkDtahACAOwAAkD5ahACAKwAAgC8AAIAyAACAPgAAkEFaAJA1WgCQOVoAkDxahACAQQAAkEFahACAQQAAkEFahACAQQAAkEBahACANQAAgDkAAIA8AACQMFoAkDRaAJA3WogAgEAAAIAwAACANAAAgDcAiAD/LwA=');\n",
       "                        });\n",
       "                </script>"
      ],
      "text/plain": [
       "<IPython.core.display.HTML object>"
      ]
     },
     "metadata": {},
     "output_type": "display_data"
    }
   ],
   "source": [
    "stream.show('midi')"
   ]
  },
  {
   "cell_type": "markdown",
   "metadata": {},
   "source": [
    "## Predict Seq2Seq"
   ]
  },
  {
   "cell_type": "code",
   "execution_count": 36,
   "metadata": {},
   "outputs": [
    {
     "name": "stderr",
     "output_type": "stream",
     "text": [
      "/home/ubuntu/anaconda3/envs/midi/lib/python3.7/site-packages/IPython/core/interactiveshell.py:3049: DtypeWarning: Columns (4,7,9,11,14,16) have mixed types. Specify dtype option on import or set low_memory=False.\n",
      "  interactivity=interactivity, compiler=compiler, result=result)\n"
     ]
    },
    {
     "data": {
      "text/html": [
       "<div>\n",
       "<style scoped>\n",
       "    .dataframe tbody tr th:only-of-type {\n",
       "        vertical-align: middle;\n",
       "    }\n",
       "\n",
       "    .dataframe tbody tr th {\n",
       "        vertical-align: top;\n",
       "    }\n",
       "\n",
       "    .dataframe thead th {\n",
       "        text-align: right;\n",
       "    }\n",
       "</style>\n",
       "<table border=\"1\" class=\"dataframe\">\n",
       "  <thead>\n",
       "    <tr style=\"text-align: right;\">\n",
       "      <th></th>\n",
       "      <th>ht_mode</th>\n",
       "      <th>title</th>\n",
       "      <th>genres</th>\n",
       "      <th>source</th>\n",
       "      <th>section</th>\n",
       "      <th>midi</th>\n",
       "      <th>artist</th>\n",
       "      <th>parts</th>\n",
       "      <th>ht_bpm</th>\n",
       "      <th>midi_title</th>\n",
       "      <th>ht_time_signature</th>\n",
       "      <th>ht_key</th>\n",
       "      <th>ht_offset</th>\n",
       "      <th>md5</th>\n",
       "      <th>song_url</th>\n",
       "      <th>numpy</th>\n",
       "      <th>mxl</th>\n",
       "    </tr>\n",
       "  </thead>\n",
       "  <tbody>\n",
       "    <tr>\n",
       "      <th>181259</th>\n",
       "      <td>1.0</td>\n",
       "      <td>i-gotta-feeling</td>\n",
       "      <td>Electronic,Pop</td>\n",
       "      <td>hooktheory_c</td>\n",
       "      <td>chorus</td>\n",
       "      <td>midi_sources/hooktheory/pianoroll/b/black-eyed...</td>\n",
       "      <td>black-eyed-peas</td>\n",
       "      <td>chorus</td>\n",
       "      <td>128.0</td>\n",
       "      <td>I Gotta Feeling</td>\n",
       "      <td>4.0</td>\n",
       "      <td>C</td>\n",
       "      <td>0.0</td>\n",
       "      <td>2c304797f562ad50ece38859a44d34bc</td>\n",
       "      <td>https://www.hooktheory.com/theorytab/view/blac...</td>\n",
       "      <td>sf4/s2s_encode/hooktheory/pianoroll/b/black-ey...</td>\n",
       "      <td>NaN</td>\n",
       "    </tr>\n",
       "    <tr>\n",
       "      <th>181260</th>\n",
       "      <td>1.0</td>\n",
       "      <td>rock-that-body</td>\n",
       "      <td>Electronic,Pop</td>\n",
       "      <td>hooktheory_c</td>\n",
       "      <td>chorus</td>\n",
       "      <td>midi_sources/hooktheory/pianoroll/b/black-eyed...</td>\n",
       "      <td>black-eyed-peas</td>\n",
       "      <td>chorus</td>\n",
       "      <td>124.0</td>\n",
       "      <td>Rock that body</td>\n",
       "      <td>4.0</td>\n",
       "      <td>C</td>\n",
       "      <td>0.0</td>\n",
       "      <td>36a8823555c7ecbe0982641f6713a353</td>\n",
       "      <td>https://www.hooktheory.com/theorytab/view/blac...</td>\n",
       "      <td>sf4/s2s_encode/hooktheory/pianoroll/b/black-ey...</td>\n",
       "      <td>NaN</td>\n",
       "    </tr>\n",
       "    <tr>\n",
       "      <th>181261</th>\n",
       "      <td>1.0</td>\n",
       "      <td>meet-me-halfway</td>\n",
       "      <td>NaN</td>\n",
       "      <td>hooktheory_c</td>\n",
       "      <td>chorus</td>\n",
       "      <td>midi_sources/hooktheory/pianoroll/b/black-eyed...</td>\n",
       "      <td>black-eyed-peas</td>\n",
       "      <td>chorus</td>\n",
       "      <td>130.0</td>\n",
       "      <td>meet me halfway</td>\n",
       "      <td>4.0</td>\n",
       "      <td>C</td>\n",
       "      <td>0.0</td>\n",
       "      <td>f041041b14ac63e610ad3836a3007c8e</td>\n",
       "      <td>https://www.hooktheory.com/theorytab/view/blac...</td>\n",
       "      <td>sf4/s2s_encode/hooktheory/pianoroll/b/black-ey...</td>\n",
       "      <td>NaN</td>\n",
       "    </tr>\n",
       "    <tr>\n",
       "      <th>181262</th>\n",
       "      <td>1.0</td>\n",
       "      <td>lets-get-it-started</td>\n",
       "      <td>Hip-Hop/Rap</td>\n",
       "      <td>hooktheory_c</td>\n",
       "      <td>chorus</td>\n",
       "      <td>midi_sources/hooktheory/pianoroll/b/black-eyed...</td>\n",
       "      <td>black-eyed-peas</td>\n",
       "      <td>chorus</td>\n",
       "      <td>104.0</td>\n",
       "      <td>New Project</td>\n",
       "      <td>4.0</td>\n",
       "      <td>C</td>\n",
       "      <td>0.0</td>\n",
       "      <td>fa0da35426b0cc69b52f533cad32c52d</td>\n",
       "      <td>https://www.hooktheory.com/theorytab/view/blac...</td>\n",
       "      <td>sf4/s2s_encode/hooktheory/pianoroll/b/black-ey...</td>\n",
       "      <td>NaN</td>\n",
       "    </tr>\n",
       "    <tr>\n",
       "      <th>181263</th>\n",
       "      <td>1.0</td>\n",
       "      <td>just-cant-get-enough</td>\n",
       "      <td>Alternative,Pop</td>\n",
       "      <td>hooktheory_c</td>\n",
       "      <td>chorus</td>\n",
       "      <td>midi_sources/hooktheory/pianoroll/b/black-eyed...</td>\n",
       "      <td>black-eyed-peas</td>\n",
       "      <td>chorus</td>\n",
       "      <td>88.0</td>\n",
       "      <td>Just Can't Get Enough</td>\n",
       "      <td>4.0</td>\n",
       "      <td>C</td>\n",
       "      <td>0.0</td>\n",
       "      <td>6c6f8c17401c607036629980de5b380c</td>\n",
       "      <td>https://www.hooktheory.com/theorytab/view/blac...</td>\n",
       "      <td>sf4/s2s_encode/hooktheory/pianoroll/b/black-ey...</td>\n",
       "      <td>NaN</td>\n",
       "    </tr>\n",
       "  </tbody>\n",
       "</table>\n",
       "</div>"
      ],
      "text/plain": [
       "        ht_mode                 title           genres        source section  \\\n",
       "181259      1.0       i-gotta-feeling   Electronic,Pop  hooktheory_c  chorus   \n",
       "181260      1.0        rock-that-body   Electronic,Pop  hooktheory_c  chorus   \n",
       "181261      1.0       meet-me-halfway              NaN  hooktheory_c  chorus   \n",
       "181262      1.0   lets-get-it-started      Hip-Hop/Rap  hooktheory_c  chorus   \n",
       "181263      1.0  just-cant-get-enough  Alternative,Pop  hooktheory_c  chorus   \n",
       "\n",
       "                                                     midi           artist  \\\n",
       "181259  midi_sources/hooktheory/pianoroll/b/black-eyed...  black-eyed-peas   \n",
       "181260  midi_sources/hooktheory/pianoroll/b/black-eyed...  black-eyed-peas   \n",
       "181261  midi_sources/hooktheory/pianoroll/b/black-eyed...  black-eyed-peas   \n",
       "181262  midi_sources/hooktheory/pianoroll/b/black-eyed...  black-eyed-peas   \n",
       "181263  midi_sources/hooktheory/pianoroll/b/black-eyed...  black-eyed-peas   \n",
       "\n",
       "         parts  ht_bpm             midi_title  ht_time_signature ht_key  \\\n",
       "181259  chorus   128.0        I Gotta Feeling                4.0      C   \n",
       "181260  chorus   124.0         Rock that body                4.0      C   \n",
       "181261  chorus   130.0        meet me halfway                4.0      C   \n",
       "181262  chorus   104.0            New Project                4.0      C   \n",
       "181263  chorus    88.0  Just Can't Get Enough                4.0      C   \n",
       "\n",
       "        ht_offset                               md5  \\\n",
       "181259        0.0  2c304797f562ad50ece38859a44d34bc   \n",
       "181260        0.0  36a8823555c7ecbe0982641f6713a353   \n",
       "181261        0.0  f041041b14ac63e610ad3836a3007c8e   \n",
       "181262        0.0  fa0da35426b0cc69b52f533cad32c52d   \n",
       "181263        0.0  6c6f8c17401c607036629980de5b380c   \n",
       "\n",
       "                                                 song_url  \\\n",
       "181259  https://www.hooktheory.com/theorytab/view/blac...   \n",
       "181260  https://www.hooktheory.com/theorytab/view/blac...   \n",
       "181261  https://www.hooktheory.com/theorytab/view/blac...   \n",
       "181262  https://www.hooktheory.com/theorytab/view/blac...   \n",
       "181263  https://www.hooktheory.com/theorytab/view/blac...   \n",
       "\n",
       "                                                    numpy  mxl  \n",
       "181259  sf4/s2s_encode/hooktheory/pianoroll/b/black-ey...  NaN  \n",
       "181260  sf4/s2s_encode/hooktheory/pianoroll/b/black-ey...  NaN  \n",
       "181261  sf4/s2s_encode/hooktheory/pianoroll/b/black-ey...  NaN  \n",
       "181262  sf4/s2s_encode/hooktheory/pianoroll/b/black-ey...  NaN  \n",
       "181263  sf4/s2s_encode/hooktheory/pianoroll/b/black-ey...  NaN  "
      ]
     },
     "execution_count": 36,
     "metadata": {},
     "output_type": "execute_result"
    }
   ],
   "source": [
    "csv_path = base_path/f's2s_encode/s2s_encode.csv'\n",
    "csv = pd.read_csv(csv_path)\n",
    "df = csv.loc[csv['numpy'].notna()];\n",
    "\n",
    "# keywords = 'la bamba'.replace(' ', '|')\n",
    "title_filter = df['title'].str.contains('')==True\n",
    "artist_filter = df['artist'].str.contains('peas')==True\n",
    "results = df[title_filter & artist_filter]; results.head()\n",
    "results = results[results.source == 'hooktheory_c']; results.head()"
   ]
  },
  {
   "cell_type": "code",
   "execution_count": 37,
   "metadata": {},
   "outputs": [
    {
     "data": {
      "text/plain": [
       "(PosixPath('../../data/midi/v17/sf4/s2s_encode/hooktheory/pianoroll/b/black-eyed-peas/i-gotta-feeling/chorus_key_cmajor.npy'),\n",
       " PosixPath('../../data/midi/v17/midi_sources/hooktheory/pianoroll/b/black-eyed-peas/i-gotta-feeling/chorus_key_cmajor.mid'))"
      ]
     },
     "execution_count": 37,
     "metadata": {},
     "output_type": "execute_result"
    }
   ],
   "source": [
    "idx = 0\n",
    "file = base_path.parent/results.numpy.values[idx];\n",
    "orig = base_path.parent/results.midi.values[idx];\n",
    "file, orig"
   ]
  },
  {
   "cell_type": "code",
   "execution_count": 38,
   "metadata": {},
   "outputs": [],
   "source": [
    "from src.midi_data import *"
   ]
  },
  {
   "cell_type": "code",
   "execution_count": 39,
   "metadata": {},
   "outputs": [],
   "source": [
    "mf = file2mf(orig)"
   ]
  },
  {
   "cell_type": "code",
   "execution_count": 40,
   "metadata": {},
   "outputs": [
    {
     "data": {
      "text/plain": [
       "b\"\\x07'\\r\""
      ]
     },
     "execution_count": 40,
     "metadata": {},
     "output_type": "execute_result"
    }
   ],
   "source": [
    "e = [e for t in mf.tracks for e in t.events if e.type == 'SET_TEMPO'][0]\n",
    "e.data"
   ]
  },
  {
   "cell_type": "code",
   "execution_count": 41,
   "metadata": {},
   "outputs": [],
   "source": [
    "# e.data.decode()"
   ]
  },
  {
   "cell_type": "code",
   "execution_count": 42,
   "metadata": {},
   "outputs": [
    {
     "data": {
      "text/html": [
       "\n",
       "                <div id='midiPlayerDiv594'></div>\n",
       "                <link rel=\"stylesheet\" href=\"//cuthbertLab.github.io/music21j/css/m21.css\"\n",
       "                    type=\"text/css\" />\n",
       "                <script>\n",
       "                require.config({\n",
       "                    paths: {'music21': '//cuthbertLab.github.io/music21j/src/music21'}\n",
       "                });\n",
       "                require(['music21'], function() {\n",
       "                               mp = new music21.miditools.MidiPlayer();\n",
       "                               mp.addPlayer('#midiPlayerDiv594');\n",
       "                               mp.base64Load('data:audio/midi;base64,TVRoZAAAAAYAAQACBABNVHJrAAABhwD/AwVQaWFubwDAAADgAEAAwAAA/1EDBycOAP9ZAgAAAP9YBAQCGAiQAJA8ZIQAgDwAAJA+ZIQAgD4AAJA8ZIQAgDwAAJBBZIQAgEEAAJBAZIQAgEAAjACQSmSQAIBKAACQSGSUAIBIAACQOWSEAIA5AACQOWSEAIA5AACQQWSIAIBBAACQQGSEAIBAAACQPmSEAIA+AACQPGSIAIA8AACQOWSIAIA5AACQQWSIAIBBAACQQGSIAIBAAIgAkDlkhACAOQAAkDlkhACAOQAAkEFkhACAQQAAkEFkhACAQQAAkEBkhACAQAAAkD5khACAPgAAkDxkiACAPAAAkDlkiACAOQAAkENkiACAQwAAkEBkiACAQACIAJA5ZIQAgDkAAJA5ZIQAgDkAAJBDZIgAgEMAAJBAZIQAgEAAAJA+ZIQAgD4AAJA8ZIgAgDwAAJA5ZIgAgDkAAJBDZIgAgEMAAJBDZIgAgEMAAJBAZIQAgEAAAJA+ZIQAgD4AAJA8ZIQAgDwAiAD/LwBNVHJrAAAA7wD/AwVQaWFubwDAAADgAEAAwAAA/1kCAAAA/1gEBAIYCKAAkDBkAJA0ZACQN2SgAIAwAACANAAAgDcAAJAwZACQNGQAkDdkoACAMAAAgDQAAIA3AACQNWQAkDlkAJA8ZKAAgDUAAIA5AACAPAAAkDVkAJA5ZACQPGSgAIA1AACAOQAAgDwAAJAtZACQMGQAkDRkoACALQAAgDAAAIA0AACQLWQAkDBkAJA0ZKAAgC0AAIAwAACANAAAkDVkAJA5ZACQPGSgAIA1AACAOQAAgDwAAJA1ZACQOWQAkDxkoACANQAAgDkAAIA8AIgA/y8A');\n",
       "                        });\n",
       "                </script>"
      ],
      "text/plain": [
       "<IPython.core.display.HTML object>"
      ]
     },
     "metadata": {},
     "output_type": "display_data"
    }
   ],
   "source": [
    "file2stream(orig).show('midi')"
   ]
  },
  {
   "cell_type": "code",
   "execution_count": null,
   "metadata": {},
   "outputs": [],
   "source": [
    "melody_np, chord_np = s2s_file2parts"
   ]
  },
  {
   "cell_type": "code",
   "execution_count": null,
   "metadata": {},
   "outputs": [],
   "source": [
    "\n",
    "def part_enc(chordarr, part):\n",
    "    partarr = chordarr[:,part:part+1,:]\n",
    "    npenc = chordarr2npenc(partarr)\n",
    "    return npenc\n",
    "    "
   ]
  },
  {
   "cell_type": "code",
   "execution_count": 236,
   "metadata": {},
   "outputs": [],
   "source": [
    "melody_np, chord_np = np.load(file, allow_pickle=True)"
   ]
  },
  {
   "cell_type": "code",
   "execution_count": 237,
   "metadata": {},
   "outputs": [
    {
     "data": {
      "image/png": "[encoded data removed]",
      "text/plain": [
       "<IPython.core.display.Image object>"
      ]
     },
     "metadata": {
      "image/png": {
       "height": 187,
       "width": 751
      }
     },
     "output_type": "display_data"
    }
   ],
   "source": [
    "npenc2stream(melody_np).show()"
   ]
  },
  {
   "cell_type": "code",
   "execution_count": 238,
   "metadata": {},
   "outputs": [],
   "source": [
    "m, c = s2s_file2parts(file, pred_melody=True)\n",
    "xb = torch.tensor(c)[None].cuda()\n",
    "yb = torch.tensor(m)[None].cuda()"
   ]
  },
  {
   "cell_type": "code",
   "execution_count": 239,
   "metadata": {},
   "outputs": [],
   "source": [
    "# c, m = s2s_file2parts(file, pred_melody=False)\n",
    "# xb = torch.tensor(c)[None].cuda()\n",
    "# yb = torch.tensor(m)[None].cuda()"
   ]
  },
  {
   "cell_type": "code",
   "execution_count": 240,
   "metadata": {},
   "outputs": [],
   "source": [
    "# yb_seed = yb[:,:3]\n",
    "# pad = xb.shape[-1]-yb_seed.shape[-1]"
   ]
  },
  {
   "cell_type": "code",
   "execution_count": 241,
   "metadata": {},
   "outputs": [],
   "source": [
    "def predict_s2s(self, xb:Tensor, yb:Tensor, n_words:int=128,\n",
    "                temperature:float=1.0, min_p:float=None):\n",
    "    if xb.shape[0] > 1: xb = xb[0][None]\n",
    "#     yb_seed = yb[:, :5]\n",
    "    yb_seed = yb\n",
    "    self.model.reset()\n",
    "    self.model.update_mem_len(TaskType.Seq2Seq.value)\n",
    "\n",
    "    for i in progress_bar(range(n_words), leave=True):\n",
    "        task_type = torch.full_like(xb, TaskType.Seq2Seq.value)\n",
    "        pad = xb.shape[-1]-yb_seed.shape[-1]\n",
    "        yb_inp = F.pad(yb_seed, (0,pad), value=vocab.pad_idx)\n",
    "\n",
    "        # Sequence 2 Sequence\n",
    "        pred_idx = yb_seed.shape[-1]-1\n",
    "        res = self.pred_batch(batch=((xb,task_type,yb_inp),yb_inp))[-1][0, pred_idx] # task1, task2 - (bs x ts x vocab)\n",
    "\n",
    "        if min_p is not None: \n",
    "            if (res >= min_p).float().sum() == 0: warn(f\"No item w/ probability >= {min_p}.\")\n",
    "            else: res[res < min_p] = 0.\n",
    "\n",
    "        # Use first temperatures value if last prediction was duration\n",
    "        res.pow_(1 / temperature)\n",
    "        idx = torch.multinomial(res, 1).item()\n",
    "#         idx = res.argmax()\n",
    "\n",
    "        t_idx = torch.tensor(idx, device=xb.device).view(1, 1)\n",
    "        yb_seed = torch.cat((yb_seed, t_idx), dim=-1)\n",
    "\n",
    "    return yb_seed"
   ]
  },
  {
   "cell_type": "code",
   "execution_count": 242,
   "metadata": {},
   "outputs": [],
   "source": [
    "# yb_out = learn.predict_s2s(xb, yb, n_words=250)"
   ]
  },
  {
   "cell_type": "code",
   "execution_count": 264,
   "metadata": {},
   "outputs": [
    {
     "data": {
      "text/html": [
       "\n",
       "    <div>\n",
       "        <style>\n",
       "            /* Turns off some styling */\n",
       "            progress {\n",
       "                /* gets rid of default border in Firefox and Opera. */\n",
       "                border: none;\n",
       "                /* Needs to be in here for Safari polyfill so background images work as expected. */\n",
       "                background-size: auto;\n",
       "            }\n",
       "            .progress-bar-interrupted, .progress-bar-interrupted::-webkit-progress-bar {\n",
       "                background: #F44336;\n",
       "            }\n",
       "        </style>\n",
       "      <progress value='250' class='' max='250', style='width:300px; height:20px; vertical-align: middle;'></progress>\n",
       "      100.00% [250/250 00:11<00:00]\n",
       "    </div>\n",
       "    "
      ],
      "text/plain": [
       "<IPython.core.display.HTML object>"
      ]
     },
     "metadata": {},
     "output_type": "display_data"
    }
   ],
   "source": [
    "yb_out = predict_s2s(learn, xb, yb[:,:30], n_words=250)"
   ]
  },
  {
   "cell_type": "code",
   "execution_count": 265,
   "metadata": {},
   "outputs": [
    {
     "name": "stdout",
     "output_type": "stream",
     "text": [
      "Non midi note detected. Only returning valid portion. Index, seed 98 (136, 2)\n"
     ]
    }
   ],
   "source": [
    "seed_npenc = to_double_stream(xb.cpu().numpy())\n",
    "yb_npenc = to_double_stream(yb_out.cpu().numpy())"
   ]
  },
  {
   "cell_type": "code",
   "execution_count": 266,
   "metadata": {},
   "outputs": [
    {
     "data": {
      "image/png": "[encoded data removed]",
      "text/plain": [
       "<IPython.core.display.Image object>"
      ]
     },
     "metadata": {
      "image/png": {
       "height": 191,
       "width": 751
      }
     },
     "output_type": "display_data"
    }
   ],
   "source": [
    "npenc2stream(yb_npenc).show()"
   ]
  },
  {
   "cell_type": "code",
   "execution_count": 267,
   "metadata": {},
   "outputs": [
    {
     "data": {
      "text/html": [
       "\n",
       "                <div id='midiPlayerDiv114446'></div>\n",
       "                <link rel=\"stylesheet\" href=\"//cuthbertLab.github.io/music21j/css/m21.css\"\n",
       "                    type=\"text/css\" />\n",
       "                <script>\n",
       "                require.config({\n",
       "                    paths: {'music21': '//cuthbertLab.github.io/music21j/src/music21'}\n",
       "                });\n",
       "                require(['music21'], function() {\n",
       "                               mp = new music21.miditools.MidiPlayer();\n",
       "                               mp.addPlayer('#midiPlayerDiv114446');\n",
       "                               mp.base64Load('data:audio/midi;base64,TVRoZAAAAAYAAQABBABNVHJrAAAB4AD/AwVQaWFubwDAAADgAEAAwAAA/1EDB6EgkACQPFqEAIA8AACQPlqEAIA+AACQPFqEAIA8AACQQVqEAIBBAACQQFqEAIBAAIwAkEpakACASgAAkEhaiACASAAAkEhahACASACIAJBDWoQAgEMAAJBDWoQAgEMAAJBDWoQAgEMAAJBMWogAgEwAAJBMWogAgEwAAJBKWogAgEoAAJBKWogAgEoAAJBIWowAgEgAhACQPFqEAIA8AACQPlqEAIA+AACQPFqEAIA8AACQQVqEAIBBAACQQFqEAIBAAIwAkDdahACANwAAkDdahACANwAAkDdahACANwAAkEBaiACAQAAAkEBaiACAQAAAkD5aiACAPgAAkD5aiACAPgAAkDxajACAPACEAJA3WoQAgDcAAJBIWoQAgEgAAJBKWoQAgEoAAJBMWoQAgEwAAJBDWoQAgEMAiACQTFqEAIBMAACQTFqEAIBMAACQSlqEAIBKAACQTFqIAIBMAACQTFqIAIBMAACQSlqEAIBKAACQSFqEAIBIAACQSFqEAIBIAACQSFqEAIBIAACQSFqEAIBIAJAAkENasACAQwAAkEVakACARQAAkEBahACAQAAAkD5ahACAPgAAkDxahACAPACIAP8vAA==');\n",
       "                        });\n",
       "                </script>"
      ],
      "text/plain": [
       "<IPython.core.display.HTML object>"
      ]
     },
     "metadata": {},
     "output_type": "display_data"
    }
   ],
   "source": [
    "npenc2stream(yb_npenc).show('midi')"
   ]
  },
  {
   "cell_type": "code",
   "execution_count": 268,
   "metadata": {},
   "outputs": [],
   "source": [
    "# chordarr_comb = combined_npenc2chordarr(yb_test, melody_np)\n",
    "chordarr_comb = combined_npenc2chordarr(yb_npenc, seed_npenc)"
   ]
  },
  {
   "cell_type": "code",
   "execution_count": 269,
   "metadata": {
    "scrolled": true
   },
   "outputs": [
    {
     "data": {
      "image/png": "[encoded data removed]",
      "text/plain": [
       "<IPython.core.display.Image object>"
      ]
     },
     "metadata": {
      "image/png": {
       "height": 322,
       "width": 748
      }
     },
     "output_type": "display_data"
    }
   ],
   "source": [
    "chordarr2stream(chordarr_comb, bpm=108).show()"
   ]
  },
  {
   "cell_type": "code",
   "execution_count": 270,
   "metadata": {},
   "outputs": [
    {
     "data": {
      "text/html": [
       "\n",
       "                <div id='midiPlayerDiv118319'></div>\n",
       "                <link rel=\"stylesheet\" href=\"//cuthbertLab.github.io/music21j/css/m21.css\"\n",
       "                    type=\"text/css\" />\n",
       "                <script>\n",
       "                require.config({\n",
       "                    paths: {'music21': '//cuthbertLab.github.io/music21j/src/music21'}\n",
       "                });\n",
       "                require(['music21'], function() {\n",
       "                               mp = new music21.miditools.MidiPlayer();\n",
       "                               mp.addPlayer('#midiPlayerDiv118319');\n",
       "                               mp.base64Load('data:audio/midi;base64,TVRoZAAAAAYAAQACBABNVHJrAAAB4AD/AwVQaWFubwDAAADgAEAAwAAA/1EDCHokkACQPFqEAIA8AACQPlqEAIA+AACQPFqEAIA8AACQQVqEAIBBAACQQFqEAIBAAIwAkEpakACASgAAkEhaiACASAAAkEhahACASACIAJBDWoQAgEMAAJBDWoQAgEMAAJBDWoQAgEMAAJBMWogAgEwAAJBMWogAgEwAAJBKWogAgEoAAJBKWogAgEoAAJBIWowAgEgAhACQPFqEAIA8AACQPlqEAIA+AACQPFqEAIA8AACQQVqEAIBBAACQQFqEAIBAAIwAkDdahACANwAAkDdahACANwAAkDdahACANwAAkEBaiACAQAAAkEBaiACAQAAAkD5aiACAPgAAkD5aiACAPgAAkDxajACAPACEAJA3WoQAgDcAAJBIWoQAgEgAAJBKWoQAgEoAAJBMWoQAgEwAAJBDWoQAgEMAiACQTFqEAIBMAACQTFqEAIBMAACQSlqEAIBKAACQTFqIAIBMAACQTFqIAIBMAACQSlqEAIBKAACQSFqEAIBIAACQSFqEAIBIAACQSFqEAIBIAACQSFqEAIBIAJAAkENasACAQwAAkEVakACARQAAkEBahACAQAAAkD5ahACAPgAAkDxahACAPACIAP8vAE1UcmsAAADhAP8DBVBpYW5vAMAAAOAAQADAAKAAkDBaAJA0WgCQN1qgAIAwAACANAAAgDcAAJAwWgCQNFoAkDdaoACAMAAAgDQAAIA3AACQNVoAkDlaAJA8WqAAgDUAAIA5AACAPAAAkDVaAJA5WgCQPFqgAIA1AACAOQAAgDwAAJAtWgCQMFoAkDRaoACALQAAgDAAAIA0AACQLVoAkDBaAJA0WqAAgC0AAIAwAACANAAAkDVaAJA5WgCQPFqgAIA1AACAOQAAgDwAAJA1WgCQOVoAkDxaoACANQAAgDkAAIA8AIgA/y8A');\n",
       "                        });\n",
       "                </script>"
      ],
      "text/plain": [
       "<IPython.core.display.HTML object>"
      ]
     },
     "metadata": {},
     "output_type": "display_data"
    }
   ],
   "source": [
    "chordarr2stream(chordarr_comb, bpm=108).show('midi')"
   ]
  },
  {
   "cell_type": "code",
   "execution_count": null,
   "metadata": {},
   "outputs": [],
   "source": []
  }
 ],
 "metadata": {
  "kernelspec": {
   "display_name": "Python 3",
   "language": "python",
   "name": "python3"
  },
  "language_info": {
   "codemirror_mode": {
    "name": "ipython",
    "version": 3
   },
   "file_extension": ".py",
   "mimetype": "text/x-python",
   "name": "python",
   "nbconvert_exporter": "python",
   "pygments_lexer": "ipython3",
   "version": "3.7.3"
  }
 },
 "nbformat": 4,
 "nbformat_minor": 2
}

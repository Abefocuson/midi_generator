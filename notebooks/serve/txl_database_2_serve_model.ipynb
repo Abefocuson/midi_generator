{
 "cells": [
  {
   "cell_type": "markdown",
   "metadata": {},
   "source": [
    "# Attention Architecture"
   ]
  },
  {
   "cell_type": "code",
   "execution_count": 1,
   "metadata": {},
   "outputs": [],
   "source": [
    "%reload_ext autoreload\n",
    "%autoreload 2\n",
    "%matplotlib inline"
   ]
  },
  {
   "cell_type": "code",
   "execution_count": 2,
   "metadata": {},
   "outputs": [],
   "source": [
    "import sys\n",
    "sys.path.insert(0, '../../')"
   ]
  },
  {
   "cell_type": "code",
   "execution_count": 3,
   "metadata": {},
   "outputs": [],
   "source": [
    "from src.serve import *"
   ]
  },
  {
   "cell_type": "code",
   "execution_count": 4,
   "metadata": {},
   "outputs": [],
   "source": [
    "np.set_printoptions(edgeitems=10, threshold=40, linewidth=200)"
   ]
  },
  {
   "cell_type": "code",
   "execution_count": 5,
   "metadata": {},
   "outputs": [],
   "source": [
    "data_dir = 'data/midi/v15/'\n",
    "source_dir = 'midi_encode/'\n",
    "\n",
    "file_path = Path('../../')\n",
    "path = file_path/data_dir/source_dir"
   ]
  },
  {
   "cell_type": "markdown",
   "metadata": {},
   "source": [
    "Move files in correct directory"
   ]
  },
  {
   "cell_type": "code",
   "execution_count": 6,
   "metadata": {},
   "outputs": [],
   "source": [
    "new_location = Path('../../data_serve')\n",
    "new_location.mkdir(parents=True, exist_ok=True)"
   ]
  },
  {
   "cell_type": "code",
   "execution_count": 7,
   "metadata": {},
   "outputs": [
    {
     "data": {
      "text/plain": [
       "PosixPath('/home/ubuntu/midi_generator/notebooks/serve/../../data_serve')"
      ]
     },
     "execution_count": 7,
     "metadata": {},
     "output_type": "execute_result"
    }
   ],
   "source": [
    "new_location.expanduser().absolute()"
   ]
  },
  {
   "cell_type": "code",
   "execution_count": 29,
   "metadata": {},
   "outputs": [
    {
     "data": {
      "text/plain": [
       "PosixPath('../../data_serve/tmp')"
      ]
     },
     "execution_count": 29,
     "metadata": {},
     "output_type": "execute_result"
    }
   ],
   "source": [
    "shutil.copytree(path/'tmp/hook_c/', new_location/'tmp')"
   ]
  },
  {
   "cell_type": "code",
   "execution_count": 32,
   "metadata": {},
   "outputs": [
    {
     "data": {
      "text/plain": [
       "[PosixPath('../../data/midi/v15/midi_encode/models/v15m/hq/1_ep40.pth'),\n",
       " PosixPath('../../data/midi/v15/midi_encode/models/v15m/hq/1_ep40_best.pth'),\n",
       " PosixPath('../../data/midi/v15/midi_encode/models/v15m/hq/2_ep60_best.pth'),\n",
       " PosixPath('../../data/midi/v15/midi_encode/models/v15m/hq/2_ep60.pth'),\n",
       " PosixPath('../../data/midi/v15/midi_encode/models/v15m/hook_c/2_ep24.pth'),\n",
       " PosixPath('../../data/midi/v15/midi_encode/models/v15m/hook_c/1_ep40_best.pth'),\n",
       " PosixPath('../../data/midi/v15/midi_encode/models/v15m/hook_c/2_ep24_best.pth'),\n",
       " PosixPath('../../data/midi/v15/midi_encode/models/v15m/lq/2_ep24.pth'),\n",
       " PosixPath('../../data/midi/v15/midi_encode/models/v15m/lq/1_ep24_best.pth'),\n",
       " PosixPath('../../data/midi/v15/midi_encode/models/v15m/lq/1_ep24.pth'),\n",
       " PosixPath('../../data/midi/v15/midi_encode/models/v15m/lq/2_ep24_best.pth')]"
      ]
     },
     "execution_count": 32,
     "metadata": {},
     "output_type": "execute_result"
    }
   ],
   "source": [
    "saved_models = get_files(path/'models', recurse=True, extensions=['.pth']); saved_models"
   ]
  },
  {
   "cell_type": "code",
   "execution_count": 33,
   "metadata": {},
   "outputs": [
    {
     "data": {
      "text/plain": [
       "PosixPath('../../data/midi/v15/midi_encode/models/v15m/hook_c/2_ep24.pth')"
      ]
     },
     "execution_count": 33,
     "metadata": {},
     "output_type": "execute_result"
    }
   ],
   "source": [
    "load_path = saved_models[4]; load_path"
   ]
  },
  {
   "cell_type": "code",
   "execution_count": 34,
   "metadata": {},
   "outputs": [],
   "source": [
    "moved_model = Path(shutil.copy2(load_path, new_location))"
   ]
  },
  {
   "cell_type": "code",
   "execution_count": 35,
   "metadata": {},
   "outputs": [],
   "source": [
    "moved_model.rename(moved_model.with_name('model.pth'))"
   ]
  },
  {
   "cell_type": "markdown",
   "metadata": {},
   "source": [
    "### Sanity check: Restart your notebook and run below to make sure everything is in the right spot"
   ]
  },
  {
   "cell_type": "code",
   "execution_count": 8,
   "metadata": {},
   "outputs": [],
   "source": [
    "path = Path('../../data_serve')\n",
    "config = v15m_config(vocab=vocab)\n",
    "data = load_music_data(path=path, vocab=vocab, cache_name='tmp', **config)"
   ]
  },
  {
   "cell_type": "code",
   "execution_count": 9,
   "metadata": {},
   "outputs": [
    {
     "name": "stdout",
     "output_type": "stream",
     "text": [
      "Sep_idx: 8\n"
     ]
    }
   ],
   "source": [
    "learn = load_learner(data, config, path/'model.pth')"
   ]
  }
 ],
 "metadata": {
  "kernelspec": {
   "display_name": "Python 3",
   "language": "python",
   "name": "python3"
  },
  "language_info": {
   "codemirror_mode": {
    "name": "ipython",
    "version": 3
   },
   "file_extension": ".py",
   "mimetype": "text/x-python",
   "name": "python",
   "nbconvert_exporter": "python",
   "pygments_lexer": "ipython3",
   "version": "3.7.3"
  }
 },
 "nbformat": 4,
 "nbformat_minor": 2
}

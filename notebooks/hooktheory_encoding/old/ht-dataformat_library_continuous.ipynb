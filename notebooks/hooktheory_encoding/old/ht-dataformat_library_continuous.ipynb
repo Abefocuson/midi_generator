{
 "cells": [
  {
   "cell_type": "code",
   "execution_count": 1,
   "metadata": {},
   "outputs": [],
   "source": [
    "%reload_ext autoreload\n",
    "%autoreload 2\n",
    "%matplotlib inline"
   ]
  },
  {
   "cell_type": "code",
   "execution_count": 2,
   "metadata": {},
   "outputs": [],
   "source": [
    "from pathlib import Path"
   ]
  },
  {
   "cell_type": "code",
   "execution_count": 3,
   "metadata": {},
   "outputs": [],
   "source": [
    "version = 'v7'\n",
    "data_path = Path('data/midi')\n",
    "version_path = data_path/version\n",
    "orig_path = version_path/'midi_sources'"
   ]
  },
  {
   "cell_type": "code",
   "execution_count": 4,
   "metadata": {},
   "outputs": [],
   "source": [
    "import music21\n",
    "from ht_encode import *\n",
    "import ht_encode\n",
    "from fastai.data_block import get_files"
   ]
  },
  {
   "cell_type": "markdown",
   "metadata": {},
   "source": [
    "### Make sure to edit config"
   ]
  },
  {
   "cell_type": "code",
   "execution_count": 5,
   "metadata": {},
   "outputs": [],
   "source": [
    "ht_encode.config.continuous=True"
   ]
  },
  {
   "cell_type": "code",
   "execution_count": 6,
   "metadata": {},
   "outputs": [],
   "source": [
    "h_path = orig_path/'hooktheory'"
   ]
  },
  {
   "cell_type": "code",
   "execution_count": 7,
   "metadata": {},
   "outputs": [
    {
     "data": {
      "text/plain": [
       "[PosixPath('data/midi/v7/midi_sources/hooktheory/xml/w/wayne-sharpe/yu-gi-oh-theme-song/chorus.xml'),\n",
       " PosixPath('data/midi/v7/midi_sources/hooktheory/xml/w/wayne-sharpe/yu-gi-oh-theme-song/intro.xml'),\n",
       " PosixPath('data/midi/v7/midi_sources/hooktheory/xml/w/what-a-day/kiefer/chorus.xml'),\n",
       " PosixPath('data/midi/v7/midi_sources/hooktheory/xml/w/whiteflame/senbonzakura/pre-chorus.xml'),\n",
       " PosixPath('data/midi/v7/midi_sources/hooktheory/xml/w/whiteflame/senbonzakura/verse.xml'),\n",
       " PosixPath('data/midi/v7/midi_sources/hooktheory/xml/w/whiteflame/senbonzakura/chorus.xml'),\n",
       " PosixPath('data/midi/v7/midi_sources/hooktheory/xml/w/wham/last-christmas/verse.xml'),\n",
       " PosixPath('data/midi/v7/midi_sources/hooktheory/xml/w/wham/last-christmas/chorus.xml'),\n",
       " PosixPath('data/midi/v7/midi_sources/hooktheory/xml/w/wham/last-christmas/intro.xml'),\n",
       " PosixPath('data/midi/v7/midi_sources/hooktheory/xml/w/wham/freedom/chorus.xml')]"
      ]
     },
     "execution_count": 7,
     "metadata": {},
     "output_type": "execute_result"
    }
   ],
   "source": [
    "files = get_files(h_path, extensions=['.xml'], recurse=True); files[:10]"
   ]
  },
  {
   "cell_type": "code",
   "execution_count": 8,
   "metadata": {},
   "outputs": [],
   "source": [
    "np.set_printoptions(edgeitems=10, threshold=40, linewidth=200)"
   ]
  },
  {
   "cell_type": "markdown",
   "metadata": {},
   "source": [
    "## Testing xml to hsong"
   ]
  },
  {
   "cell_type": "code",
   "execution_count": 9,
   "metadata": {},
   "outputs": [
    {
     "data": {
      "text/plain": [
       "[PosixPath('data/midi/v7/midi_sources/hooktheory/xml/i/idina-menzel/let-it-go/intro.xml'),\n",
       " PosixPath('data/midi/v7/midi_sources/hooktheory/xml/i/idina-menzel/let-it-go/intro-and-verse.xml')]"
      ]
     },
     "execution_count": 9,
     "metadata": {},
     "output_type": "execute_result"
    }
   ],
   "source": [
    "# Loading from specific file\n",
    "# keywords = ['get-lucky', 'daft-punk', 'pre-chorus']\n",
    "# keywords = ['skrillex', 'scary']\n",
    "# keywords = ['idina', 'verse', 'let']\n",
    "keywords = ['idina', 'intro', 'let']\n",
    "# keywords = ['game-of-thrones', 'intro', 'ramin']\n",
    "# keywords = ['kiss-from-a-rose', 'seal']\n",
    "def contains_keywords(f): return all([k in str(f) for k in keywords])\n",
    "search = [f for f in files if contains_keywords(f)]; search"
   ]
  },
  {
   "cell_type": "code",
   "execution_count": 10,
   "metadata": {},
   "outputs": [],
   "source": [
    "file_path = search[0]"
   ]
  },
  {
   "cell_type": "code",
   "execution_count": 11,
   "metadata": {},
   "outputs": [],
   "source": [
    "content = load_data(file_path)\n",
    "root = xml_parser(content)\n",
    "metadata, version = get_metadata(root)\n",
    "segments, num_measures = get_lead_sheet(root, version)"
   ]
  },
  {
   "cell_type": "code",
   "execution_count": 12,
   "metadata": {},
   "outputs": [
    {
     "data": {
      "text/plain": [
       "Part[0]:\n",
       "[Chords]:\n",
       "B(abs=0.0:dur=4.0) C([[sd=6:oct=3, sd=1:oct=4, sd=3:oct=4]])\n",
       "B(abs=4.0:dur=4.0) C([[sd=4:oct=3, sd=6:oct=3, sd=1:oct=4, sd=3:oct=4]])\n",
       "B(abs=8.0:dur=4.0) C([[sd=5:oct=3, sd=6:oct=3, sd=2:oct=4]])\n",
       "B(abs=12.0:dur=2.0) C([[sd=2:oct=3, sd=5:oct=3, sd=6:oct=3]])\n",
       "B(abs=14.0:dur=2.0) C([[sd=2:oct=3, sd=4:oct=3, sd=6:oct=3]])\n",
       "B(abs=16.0:dur=4.0) C([[sd=6:oct=3, sd=1:oct=4, sd=3:oct=4]])\n",
       "B(abs=20.0:dur=4.0) C([[sd=4:oct=3, sd=6:oct=3, sd=1:oct=4, sd=3:oct=4]])\n",
       "B(abs=24.0:dur=4.0) C([[sd=5:oct=3, sd=6:oct=3, sd=2:oct=4]])\n",
       "B(abs=28.0:dur=2.0) C([[sd=2:oct=3, sd=5:oct=3, sd=6:oct=3]])\n",
       "B(abs=30.0:dur=2.0) C([[sd=2:oct=3, sd=4#:oct=3, sd=6:oct=3]])\n",
       "\n",
       "[Notes]:\n",
       "B(abs=0.0:dur=0.5) P(sd=7:oct=6)\n",
       "B(abs=0.5:dur=0.5) P(sd=1:oct=7)\n",
       "B(abs=1.0:dur=0.5) P(sd=3:oct=6)\n",
       "B(abs=1.5:dur=1.0) P(sd=7:oct=6)\n",
       "B(abs=2.5:dur=0.5) P(sd=1:oct=7)\n",
       "B(abs=4.0:dur=0.5) P(sd=7:oct=6)\n",
       "B(abs=4.5:dur=0.5) P(sd=1:oct=7)\n",
       "B(abs=5.0:dur=0.5) P(sd=3:oct=6)\n",
       "B(abs=5.5:dur=1.0) P(sd=1:oct=7)\n",
       "B(abs=6.5:dur=1.0) P(sd=7:oct=6)\n",
       "B(abs=7.5:dur=0.5) P(sd=2:oct=6)\n",
       "B(abs=8.0:dur=0.5) P(sd=6:oct=6)\n",
       "B(abs=8.5:dur=0.5) P(sd=7:oct=6)\n",
       "B(abs=9.0:dur=0.5) P(sd=2:oct=6)\n",
       "B(abs=9.5:dur=1.0) P(sd=6:oct=6)\n",
       "B(abs=10.5:dur=1.0) P(sd=7:oct=6)\n",
       "B(abs=11.5:dur=0.5) P(sd=2:oct=6)\n",
       "B(abs=12.0:dur=2.0) P(sd=5:oct=6)\n",
       "B(abs=14.0:dur=2.0) P(sd=4:oct=6)\n",
       "B(abs=16.0:dur=0.5) P(sd=7:oct=6)\n",
       "B(abs=16.5:dur=0.5) P(sd=1:oct=7)\n",
       "B(abs=17.0:dur=0.5) P(sd=3:oct=6)\n",
       "B(abs=17.5:dur=1.0) P(sd=7:oct=6)\n",
       "B(abs=18.5:dur=0.5) P(sd=1:oct=7)\n",
       "B(abs=20.0:dur=0.5) P(sd=1:oct=7)\n",
       "B(abs=20.5:dur=0.5) P(sd=7:oct=6)\n",
       "B(abs=21.0:dur=0.5) P(sd=3:oct=6)\n",
       "B(abs=21.5:dur=1.0) P(sd=1:oct=7)\n",
       "B(abs=22.5:dur=1.0) P(sd=7:oct=6)\n",
       "B(abs=23.5:dur=0.5) P(sd=2:oct=6)\n",
       "B(abs=24.0:dur=0.5) P(sd=6:oct=6)\n",
       "B(abs=24.5:dur=0.5) P(sd=7:oct=6)\n",
       "B(abs=25.0:dur=0.5) P(sd=2:oct=6)\n",
       "B(abs=25.5:dur=1.0) P(sd=6:oct=6)\n",
       "B(abs=26.5:dur=1.0) P(sd=7:oct=6)\n",
       "B(abs=27.5:dur=0.5) P(sd=2:oct=6)\n",
       "B(abs=28.0:dur=2.0) P(sd=5:oct=6)\n",
       "B(abs=30.0:dur=2.0) P(sd=4#:oct=6)\n",
       "\n",
       "\n",
       "\n",
       "HMetadata(title='Let It Go', BPM='137', beats_in_measure='4', key='F', mode='6')"
      ]
     },
     "execution_count": 12,
     "metadata": {},
     "output_type": "execute_result"
    }
   ],
   "source": [
    "song = HSong.parse(metadata, segments); song"
   ]
  },
  {
   "cell_type": "code",
   "execution_count": 13,
   "metadata": {},
   "outputs": [
    {
     "data": {
      "image/png": "[encoded data removed]",
      "text/plain": [
       "<IPython.core.display.Image object>"
      ]
     },
     "metadata": {
      "image/png": {
       "height": 331,
       "width": 751
      }
     },
     "output_type": "display_data"
    }
   ],
   "source": [
    "stream = song.to_stream()\n",
    "# stream.show('midi')\n",
    "stream.show()"
   ]
  },
  {
   "cell_type": "markdown",
   "metadata": {},
   "source": [
    "### NOTE: need to figure out if measure should be relative to individual parts or the whole song"
   ]
  },
  {
   "cell_type": "code",
   "execution_count": 14,
   "metadata": {},
   "outputs": [],
   "source": [
    "encs = enc_song(song)"
   ]
  },
  {
   "cell_type": "code",
   "execution_count": 15,
   "metadata": {},
   "outputs": [
    {
     "data": {
      "text/plain": [
       "array([[ 2,  0,  0,  2,  0,  0,  0,  0,  0,  0],\n",
       "       [14,  9,  3, 12,  3,  7,  0,  3,  3,  3],\n",
       "       [14,  9,  4, 12,  3,  7,  0,  4,  3,  3],\n",
       "       [ 3, 10,  3, 12,  3,  7,  0,  4,  3,  3],\n",
       "       [ 3, 10,  4, 12,  3,  7,  0,  4,  3,  3],\n",
       "       [ 7,  9,  3, 12,  3,  7,  0,  4,  4,  3],\n",
       "       [ 7,  9,  4, 12,  3,  7,  0,  4,  4,  3],\n",
       "       [14,  9,  3, 12,  3,  7,  0,  4,  4,  3],\n",
       "       [14,  9,  4, 12,  3,  7,  0,  4,  4,  3],\n",
       "       [14,  9,  4, 12,  3,  7,  0,  4,  5,  3],\n",
       "       ...,\n",
       "       [10,  9,  4,  5, 10, 12,  0,  4,  4, 10],\n",
       "       [10,  9,  4,  5, 10, 12,  0,  4,  4, 10],\n",
       "       [ 9,  9,  3,  5,  9, 12,  0,  3,  5, 10],\n",
       "       [ 9,  9,  4,  5,  9, 12,  0,  4,  5, 10],\n",
       "       [ 9,  9,  4,  5,  9, 12,  0,  4,  5, 10],\n",
       "       [ 9,  9,  4,  5,  9, 12,  0,  4,  5, 10],\n",
       "       [ 9,  9,  4,  5,  9, 12,  0,  4,  6, 10],\n",
       "       [ 9,  9,  4,  5,  9, 12,  0,  4,  6, 10],\n",
       "       [ 9,  9,  4,  5,  9, 12,  0,  4,  6, 10],\n",
       "       [ 9,  9,  4,  5,  9, 12,  0,  4,  6, 10]])"
      ]
     },
     "execution_count": 15,
     "metadata": {},
     "output_type": "execute_result"
    }
   ],
   "source": [
    "encs"
   ]
  },
  {
   "cell_type": "code",
   "execution_count": 16,
   "metadata": {},
   "outputs": [
    {
     "data": {
      "text/plain": [
       "Part[0]:\n",
       "[Chords]:\n",
       "B(abs=0.0:dur=4.0) C([[sd=6:oct=0, sd=1:oct=1, sd=3:oct=1]])\n",
       "B(abs=4.0:dur=4.0) C([[sd=4:oct=0, sd=6:oct=0, sd=1:oct=1, sd=3:oct=1]])\n",
       "B(abs=8.0:dur=4.0) C([[sd=5:oct=0, sd=6:oct=0, sd=2:oct=1]])\n",
       "B(abs=12.0:dur=2.0) C([[sd=2:oct=0, sd=5:oct=0, sd=6:oct=0]])\n",
       "B(abs=14.0:dur=2.0) C([[sd=2:oct=0, sd=4:oct=0, sd=6:oct=0]])\n",
       "B(abs=16.0:dur=4.0) C([[sd=6:oct=0, sd=1:oct=1, sd=3:oct=1]])\n",
       "B(abs=20.0:dur=4.0) C([[sd=4:oct=0, sd=6:oct=0, sd=1:oct=1, sd=3:oct=1]])\n",
       "B(abs=24.0:dur=4.0) C([[sd=5:oct=0, sd=6:oct=0, sd=2:oct=1]])\n",
       "B(abs=28.0:dur=2.0) C([[sd=2:oct=0, sd=5:oct=0, sd=6:oct=0]])\n",
       "B(abs=30.0:dur=2.0) C([[sd=2:oct=0, sd=4#:oct=0, sd=6:oct=0]])\n",
       "\n",
       "[Notes]:\n",
       "B(abs=0.0:dur=0.5) P(sd=7:oct=6)\n",
       "B(abs=0.5:dur=0.5) P(sd=1:oct=7)\n",
       "B(abs=1.0:dur=0.5) P(sd=3:oct=6)\n",
       "B(abs=1.5:dur=1.0) P(sd=7:oct=6)\n",
       "B(abs=2.5:dur=0.5) P(sd=1:oct=7)\n",
       "B(abs=4.0:dur=0.5) P(sd=7:oct=6)\n",
       "B(abs=4.5:dur=0.5) P(sd=1:oct=7)\n",
       "B(abs=5.0:dur=0.5) P(sd=3:oct=6)\n",
       "B(abs=5.5:dur=1.0) P(sd=1:oct=7)\n",
       "B(abs=6.5:dur=1.0) P(sd=7:oct=6)\n",
       "B(abs=7.5:dur=0.5) P(sd=2:oct=6)\n",
       "B(abs=8.0:dur=0.5) P(sd=6:oct=6)\n",
       "B(abs=8.5:dur=0.5) P(sd=7:oct=6)\n",
       "B(abs=9.0:dur=0.5) P(sd=2:oct=6)\n",
       "B(abs=9.5:dur=1.0) P(sd=6:oct=6)\n",
       "B(abs=10.5:dur=1.0) P(sd=7:oct=6)\n",
       "B(abs=11.5:dur=0.5) P(sd=2:oct=6)\n",
       "B(abs=12.0:dur=2.0) P(sd=5:oct=6)\n",
       "B(abs=14.0:dur=2.0) P(sd=4:oct=6)\n",
       "B(abs=16.0:dur=0.5) P(sd=7:oct=6)\n",
       "B(abs=16.5:dur=0.5) P(sd=1:oct=7)\n",
       "B(abs=17.0:dur=0.5) P(sd=3:oct=6)\n",
       "B(abs=17.5:dur=1.0) P(sd=7:oct=6)\n",
       "B(abs=18.5:dur=0.5) P(sd=1:oct=7)\n",
       "B(abs=20.0:dur=0.5) P(sd=1:oct=7)\n",
       "B(abs=20.5:dur=0.5) P(sd=7:oct=6)\n",
       "B(abs=21.0:dur=0.5) P(sd=3:oct=6)\n",
       "B(abs=21.5:dur=1.0) P(sd=1:oct=7)\n",
       "B(abs=22.5:dur=1.0) P(sd=7:oct=6)\n",
       "B(abs=23.5:dur=0.5) P(sd=2:oct=6)\n",
       "B(abs=24.0:dur=0.5) P(sd=6:oct=6)\n",
       "B(abs=24.5:dur=0.5) P(sd=7:oct=6)\n",
       "B(abs=25.0:dur=0.5) P(sd=2:oct=6)\n",
       "B(abs=25.5:dur=1.0) P(sd=6:oct=6)\n",
       "B(abs=26.5:dur=1.0) P(sd=7:oct=6)\n",
       "B(abs=27.5:dur=0.5) P(sd=2:oct=6)\n",
       "B(abs=28.0:dur=2.0) P(sd=5:oct=6)\n",
       "B(abs=30.0:dur=2.0) P(sd=4#:oct=6)\n",
       "\n",
       "\n",
       "\n",
       "HMetadata(title='decoded', BPM='120', beats_in_measure='4', key='C', mode='1')"
      ]
     },
     "execution_count": 16,
     "metadata": {},
     "output_type": "execute_result"
    }
   ],
   "source": [
    "dec_song = dec_arr(encs); dec_song"
   ]
  },
  {
   "cell_type": "code",
   "execution_count": 17,
   "metadata": {},
   "outputs": [],
   "source": [
    "dec_stream = dec_song.to_stream()"
   ]
  },
  {
   "cell_type": "code",
   "execution_count": 18,
   "metadata": {},
   "outputs": [
    {
     "data": {
      "image/png": "[encoded data removed]",
      "text/plain": [
       "<IPython.core.display.Image object>"
      ]
     },
     "metadata": {
      "image/png": {
       "height": 335,
       "width": 751
      }
     },
     "output_type": "display_data"
    }
   ],
   "source": [
    "dec_stream.show()"
   ]
  },
  {
   "cell_type": "code",
   "execution_count": 19,
   "metadata": {},
   "outputs": [
    {
     "data": {
      "text/html": [
       "\n",
       "                <div id='midiPlayerDiv3154'></div>\n",
       "                <link rel=\"stylesheet\" href=\"//cuthbertLab.github.io/music21j/css/m21.css\"\n",
       "                    type=\"text/css\" />\n",
       "                <script>\n",
       "                require.config({\n",
       "                    paths: {'music21': '//cuthbertLab.github.io/music21j/src/music21'}\n",
       "                });\n",
       "                require(['music21'], function() {\n",
       "                               mp = new music21.miditools.MidiPlayer();\n",
       "                               mp.addPlayer('#midiPlayerDiv3154');\n",
       "                               mp.base64Load('data:audio/midi;base64,TVRoZAAAAAYAAQACBABNVHJrAAABbAD/AwAA4ABAAP9RAwehIACQU1qEAIBTAACQVFqEAIBUAACQTFqEAIBMAACQU1qIAIBTAACQVFqEAIBUAIgAkFNahACAUwAAkFRahACAVAAAkExahACATAAAkFRaiACAVAAAkFNaiACAUwAAkEpahACASgAAkFFahACAUQAAkFNahACAUwAAkEpahACASgAAkFFaiACAUQAAkFNaiACAUwAAkEpahACASgAAkE9akACATwAAkE1akACATQAAkFNahACAUwAAkFRahACAVAAAkExahACATAAAkFNaiACAUwAAkFRahACAVACIAJBUWoQAgFQAAJBTWoQAgFMAAJBMWoQAgEwAAJBUWogAgFQAAJBTWogAgFMAAJBKWoQAgEoAAJBRWoQAgFEAAJBTWoQAgFMAAJBKWoQAgEoAAJBRWogAgFEAAJBTWogAgFMAAJBKWoQAgEoAAJBPWpAAgE8AAJBOWpAAgE4AiAD/LwBNVHJrAAABFwD/AwAA4ABAAJAtWgCQMFoAkDRaoACALQAAgDAAAIA0AACQKVoAkC1aAJAwWgCQNFqgAIApAACALQAAgDAAAIA0AACQK1oAkC1aAJAyWqAAgCsAAIAtAACAMgAAkCZaAJArWgCQLVqQAIAmAACAKwAAgC0AAJAmWgCQKVoAkC1akACAJgAAgCkAAIAtAACQLVoAkDBaAJA0WqAAgC0AAIAwAACANAAAkClaAJAtWgCQMFoAkDRaoACAKQAAgC0AAIAwAACANAAAkCtaAJAtWgCQMlqgAIArAACALQAAgDIAAJAmWgCQK1oAkC1akACAJgAAgCsAAIAtAACQJloAkCpaAJAtWpAAgCYAAIAqAACALQCIAP8vAA==');\n",
       "                        });\n",
       "                </script>"
      ],
      "text/plain": [
       "<IPython.core.display.HTML object>"
      ]
     },
     "metadata": {},
     "output_type": "display_data"
    }
   ],
   "source": [
    "dec_stream.show('midi')"
   ]
  },
  {
   "cell_type": "markdown",
   "metadata": {},
   "source": [
    "### Encode all songs"
   ]
  },
  {
   "cell_type": "code",
   "execution_count": 20,
   "metadata": {},
   "outputs": [],
   "source": [
    "from fastai.data_block import get_files"
   ]
  },
  {
   "cell_type": "code",
   "execution_count": 21,
   "metadata": {},
   "outputs": [],
   "source": [
    "out_path = version_path/'midi_encode/np/hook_cont/'\n",
    "out_dir = out_path/'hooktheory'\n",
    "h_path = orig_path/'hooktheory/xml'"
   ]
  },
  {
   "cell_type": "code",
   "execution_count": 22,
   "metadata": {},
   "outputs": [
    {
     "data": {
      "text/plain": [
       "[PosixPath('data/midi/v7/midi_sources/hooktheory/xml/w/wayne-sharpe/yu-gi-oh-theme-song/chorus.xml'),\n",
       " PosixPath('data/midi/v7/midi_sources/hooktheory/xml/w/wayne-sharpe/yu-gi-oh-theme-song/intro.xml'),\n",
       " PosixPath('data/midi/v7/midi_sources/hooktheory/xml/w/what-a-day/kiefer/chorus.xml'),\n",
       " PosixPath('data/midi/v7/midi_sources/hooktheory/xml/w/whiteflame/senbonzakura/pre-chorus.xml'),\n",
       " PosixPath('data/midi/v7/midi_sources/hooktheory/xml/w/whiteflame/senbonzakura/verse.xml'),\n",
       " PosixPath('data/midi/v7/midi_sources/hooktheory/xml/w/whiteflame/senbonzakura/chorus.xml'),\n",
       " PosixPath('data/midi/v7/midi_sources/hooktheory/xml/w/wham/last-christmas/verse.xml'),\n",
       " PosixPath('data/midi/v7/midi_sources/hooktheory/xml/w/wham/last-christmas/chorus.xml'),\n",
       " PosixPath('data/midi/v7/midi_sources/hooktheory/xml/w/wham/last-christmas/intro.xml'),\n",
       " PosixPath('data/midi/v7/midi_sources/hooktheory/xml/w/wham/freedom/chorus.xml')]"
      ]
     },
     "execution_count": 22,
     "metadata": {},
     "output_type": "execute_result"
    }
   ],
   "source": [
    "files = get_files(h_path, extensions=['.xml'], recurse=True); files[:10]"
   ]
  },
  {
   "cell_type": "code",
   "execution_count": 23,
   "metadata": {},
   "outputs": [
    {
     "data": {
      "text/plain": [
       "{'title': 'Let It Go',\n",
       " 'beats_in_measure': '4',\n",
       " 'BPM': '137',\n",
       " 'key': 'F',\n",
       " 'YouTubeID': 'moSFlvxnbgk',\n",
       " 'mode': '6',\n",
       " 'duration': '16.81'}"
      ]
     },
     "execution_count": 23,
     "metadata": {},
     "output_type": "execute_result"
    }
   ],
   "source": [
    "metadata"
   ]
  },
  {
   "cell_type": "code",
   "execution_count": 24,
   "metadata": {},
   "outputs": [],
   "source": [
    "\n",
    "def process_file(file):\n",
    "    out_file = file.relative_to(h_path).with_suffix('.npy')\n",
    "    out_path = out_dir/out_file\n",
    "    if out_path.exists(): return out_file, out_file\n",
    "    song = parse_file(file)\n",
    "    if song is None or int(song.metadata.beats_in_measure) != 4: return out_file, None\n",
    "    out_path.parent.mkdir(parents=True, exist_ok=True)\n",
    "    npenc = enc_song(song)\n",
    "    np.save(out_path, npenc)\n",
    "    return out_file, out_file\n",
    "    "
   ]
  },
  {
   "cell_type": "code",
   "execution_count": 25,
   "metadata": {},
   "outputs": [
    {
     "data": {
      "text/plain": [
       "(PosixPath('i/idina-menzel/let-it-go/intro.npy'),\n",
       " PosixPath('i/idina-menzel/let-it-go/intro.npy'))"
      ]
     },
     "execution_count": 25,
     "metadata": {},
     "output_type": "execute_result"
    }
   ],
   "source": [
    "process_file(file_path)"
   ]
  },
  {
   "cell_type": "code",
   "execution_count": 26,
   "metadata": {},
   "outputs": [],
   "source": [
    "from data_sources import process_parallel"
   ]
  },
  {
   "cell_type": "code",
   "execution_count": 27,
   "metadata": {},
   "outputs": [],
   "source": [
    "# negative octave\n",
    "file_path = Path('data/midi/v7/midi_sources/hooktheory/xml/w/wayne-sharpe/yu-gi-oh-theme-song/chorus.xml')"
   ]
  },
  {
   "cell_type": "code",
   "execution_count": 28,
   "metadata": {},
   "outputs": [],
   "source": [
    "content = load_data(file_path)\n",
    "root = xml_parser(content)\n",
    "\n",
    "metadata, version = get_metadata(root)\n",
    "segments, num_measures = get_lead_sheet(root, version)"
   ]
  },
  {
   "cell_type": "code",
   "execution_count": 29,
   "metadata": {},
   "outputs": [
    {
     "data": {
      "text/plain": [
       "Part[0]:\n",
       "[Chords]:\n",
       "B(abs=4.0:dur=4.0) C([[sd=3:oct=3, sd=5:oct=3, sd=7:oct=3]])\n",
       "B(abs=8.0:dur=2.0) C([[sd=3:oct=3, sd=5:oct=3, sd=6:oct=3, sd=1:oct=4]])\n",
       "B(abs=10.0:dur=2.0) C([[sd=3:oct=3, sd=5:oct=3, sd=7:oct=3]])\n",
       "B(abs=12.0:dur=6.0) C([[sd=5:oct=3, sd=6#:oct=3, sd=2:oct=4]])\n",
       "B(abs=18.0:dur=1.0) C([[sd=5:oct=3, sd=6:oct=3, sd=1:oct=4, sd=3:oct=4]])\n",
       "B(abs=19.0:dur=1.0) C([[sd=6:oct=3, sd=7:oct=3, sd=2:oct=4, sd=4#:oct=4]])\n",
       "B(abs=20.0:dur=4.0) C([[sd=1:oct=3, sd=2#:oct=3, sd=5:oct=3]])\n",
       "B(abs=24.0:dur=2.0) C([[sd=4:oct=3, sd=5#:oct=3, sd=1:oct=4, sd=2:oct=4]])\n",
       "B(abs=26.0:dur=2.0) C([[sd=1:oct=3, sd=2#:oct=3, sd=5:oct=3]])\n",
       "B(abs=28.0:dur=4.0) C([[sd=2#:oct=3, sd=4#:oct=3, sd=6#:oct=3]])\n",
       "\n",
       "[Notes]:\n",
       "B(abs=0.25:dur=0.25) P(sd=5:oct=4)\n",
       "B(abs=0.5:dur=0.25) P(sd=4#:oct=4)\n",
       "B(abs=0.75:dur=0.25) P(sd=6:oct=3)\n",
       "B(abs=1.0:dur=0.25) P(sd=4:oct=4)\n",
       "B(abs=1.25:dur=0.25) P(sd=3:oct=4)\n",
       "B(abs=1.5:dur=0.25) P(sd=6:oct=3)\n",
       "B(abs=1.75:dur=0.25) P(sd=4:oct=4)\n",
       "B(abs=2.0:dur=0.25) P(sd=3:oct=4)\n",
       "B(abs=2.25:dur=0.75) P(sd=6:oct=3)\n",
       "B(abs=3.0:dur=0.25) P(sd=5:oct=4)\n",
       "B(abs=3.25:dur=0.25) P(sd=4#:oct=4)\n",
       "B(abs=3.5:dur=0.25) P(sd=5:oct=4)\n",
       "B(abs=3.75:dur=0.25) P(sd=1#:oct=5)\n",
       "\n",
       "\n",
       "\n",
       "HMetadata(title='yu-gi-oh3', BPM='128', beats_in_measure='4', key='C', mode='1')"
      ]
     },
     "execution_count": 29,
     "metadata": {},
     "output_type": "execute_result"
    }
   ],
   "source": [
    "parse_file(file_path)"
   ]
  },
  {
   "cell_type": "code",
   "execution_count": 30,
   "metadata": {},
   "outputs": [],
   "source": [
    "# subset = files\n",
    "# for f in subset:\n",
    "#     process_file(f)"
   ]
  },
  {
   "cell_type": "code",
   "execution_count": 31,
   "metadata": {},
   "outputs": [
    {
     "data": {
      "text/html": [
       "\n",
       "    <div>\n",
       "        <style>\n",
       "            /* Turns off some styling */\n",
       "            progress {\n",
       "                /* gets rid of default border in Firefox and Opera. */\n",
       "                border: none;\n",
       "                /* Needs to be in here for Safari polyfill so background images work as expected. */\n",
       "                background-size: auto;\n",
       "            }\n",
       "            .progress-bar-interrupted, .progress-bar-interrupted::-webkit-progress-bar {\n",
       "                background: #F44336;\n",
       "            }\n",
       "        </style>\n",
       "      <progress value='19918' class='' max='19918', style='width:300px; height:20px; vertical-align: middle;'></progress>\n",
       "      100.00% [19918/19918 00:49<00:00]\n",
       "    </div>\n",
       "    "
      ],
      "text/plain": [
       "<IPython.core.display.HTML object>"
      ]
     },
     "metadata": {},
     "output_type": "display_data"
    },
    {
     "name": "stdout",
     "output_type": "stream",
     "text": [
      "#5\n",
      "#5\n",
      "XML parse exception: 'NoneType' object has no attribute 'text'\n",
      "XML parse exception: Unicode strings with encoding declaration are not supported. Please use bytes input or XML fragments without declaration.\n",
      "XML parse exception: Unicode strings with encoding declaration are not supported. Please use bytes input or XML fragments without declaration.\n",
      "XML parse exception: Unicode strings with encoding declaration are not supported. Please use bytes input or XML fragments without declaration.\n",
      "XML parse exception: Unicode strings with encoding declaration are not supported. Please use bytes input or XML fragments without declaration.\n",
      "#5\n",
      "#5\n",
      "#5\n",
      "#5\n",
      "#5\n",
      "#5\n",
      "XML parse exception: Unicode strings with encoding declaration are not supported. Please use bytes input or XML fragments without declaration.\n",
      "XML parse exception: Unicode strings with encoding declaration are not supported. Please use bytes input or XML fragments without declaration.\n",
      "XML parse exception: Unicode strings with encoding declaration are not supported. Please use bytes input or XML fragments without declaration.\n",
      "XML parse exception: Unicode strings with encoding declaration are not supported. Please use bytes input or XML fragments without declaration.\n",
      "XML parse exception: Unicode strings with encoding declaration are not supported. Please use bytes input or XML fragments without declaration.\n",
      "#5\n",
      "#5\n",
      "#5\n",
      "#5\n",
      "XML parse exception: Unicode strings with encoding declaration are not supported. Please use bytes input or XML fragments without declaration.\n",
      "XML parse exception: Unicode strings with encoding declaration are not supported. Please use bytes input or XML fragments without declaration.\n",
      "XML parse exception: Unicode strings with encoding declaration are not supported. Please use bytes input or XML fragments without declaration.\n",
      "XML parse exception: Unicode strings with encoding declaration are not supported. Please use bytes input or XML fragments without declaration.\n",
      "XML parse exception: Unicode strings with encoding declaration are not supported. Please use bytes input or XML fragments without declaration.\n",
      "#5\n",
      "XML parse exception: Unicode strings with encoding declaration are not supported. Please use bytes input or XML fragments without declaration.\n",
      "XML parse exception: Unicode strings with encoding declaration are not supported. Please use bytes input or XML fragments without declaration.\n",
      "#5\n",
      "#5\n",
      "XML parse exception: 'NoneType' object has no attribute 'text'\n",
      "#5\n",
      "#5\n",
      "#5\n",
      "#5\n",
      "#5\n",
      "#5\n",
      "#5\n",
      "#5\n",
      "#5\n",
      "#5\n",
      "#5\n",
      "#5\n",
      "#5\n",
      "#5\n",
      "#5\n",
      "#5\n",
      "XML parse exception: Unicode strings with encoding declaration are not supported. Please use bytes input or XML fragments without declaration.\n",
      "XML parse exception: Unicode strings with encoding declaration are not supported. Please use bytes input or XML fragments without declaration.\n",
      "XML parse exception: Unicode strings with encoding declaration are not supported. Please use bytes input or XML fragments without declaration.\n",
      "XML parse exception: Unicode strings with encoding declaration are not supported. Please use bytes input or XML fragments without declaration.\n",
      "XML parse exception: Unicode strings with encoding declaration are not supported. Please use bytes input or XML fragments without declaration.\n",
      "XML parse exception: Unicode strings with encoding declaration are not supported. Please use bytes input or XML fragments without declaration.\n",
      "XML parse exception: Unicode strings with encoding declaration are not supported. Please use bytes input or XML fragments without declaration.\n",
      "XML parse exception: Unicode strings with encoding declaration are not supported. Please use bytes input or XML fragments without declaration.\n",
      "#5\n",
      "#5\n",
      "XML parse exception: Unicode strings with encoding declaration are not supported. Please use bytes input or XML fragments without declaration.\n",
      "#5\n",
      "XML parse exception: Unicode strings with encoding declaration are not supported. Please use bytes input or XML fragments without declaration.\n",
      "#5\n",
      "#5\n",
      "#5\n",
      "#5\n",
      "#5\n",
      "#5\n",
      "#5\n",
      "#9\n",
      "#5\n",
      "#5\n",
      "#9\n",
      "#5\n",
      "#9\n",
      "#9\n",
      "#5\n",
      "#9\n",
      "#5\n",
      "#9\n",
      "b5\n",
      "#5\n",
      "b5\n",
      "#9\n",
      "#5\n",
      "#5\n",
      "#5\n",
      "#5\n",
      "#5\n",
      "#5\n",
      "#9\n",
      "#5\n",
      "#5\n",
      "#5\n",
      "#5\n",
      "#5\n",
      "#5\n",
      "#5\n",
      "#5\n",
      "#5\n",
      "#5\n",
      "#5\n",
      "#5\n",
      "#5\n",
      "#5\n",
      "#5\n",
      "#5\n",
      "#5\n",
      "#5\n",
      "#5\n",
      "XML parse exception: Unicode strings with encoding declaration are not supported. Please use bytes input or XML fragments without declaration.\n",
      "#5\n",
      "b5\n",
      "XML parse exception: Unicode strings with encoding declaration are not supported. Please use bytes input or XML fragments without declaration.\n",
      "b5\n",
      "b5\n",
      "#5\n",
      "#5\n",
      "#5\n",
      "#5\n",
      "XML parse exception: 'NoneType' object has no attribute 'text'\n",
      "XML parse exception: 'NoneType' object has no attribute 'text'\n",
      "XML parse exception: Unicode strings with encoding declaration are not supported. Please use bytes input or XML fragments without declaration.\n",
      "#5\n",
      "XML parse exception: Unicode strings with encoding declaration are not supported. Please use bytes input or XML fragments without declaration.\n",
      "#5\n",
      "#5\n",
      "#5\n",
      "#5\n",
      "#5\n",
      "XML parse exception: 'NoneType' object has no attribute 'text'\n",
      "#5\n",
      "#5\n",
      "#5\n",
      "b5\n",
      "b5\n",
      "XML parse exception: Unicode strings with encoding declaration are not supported. Please use bytes input or XML fragments without declaration.\n",
      "XML parse exception: Unicode strings with encoding declaration are not supported. Please use bytes input or XML fragments without declaration.\n",
      "XML parse exception: Unicode strings with encoding declaration are not supported. Please use bytes input or XML fragments without declaration.\n",
      "XML parse exception: Unicode strings with encoding declaration are not supported. Please use bytes input or XML fragments without declaration.\n",
      "#5\n",
      "#5\n",
      "#5\n",
      "#5\n",
      "b5\n",
      "b5\n",
      "#9\n",
      "#9\n",
      "#9\n",
      "#5\n",
      "#5\n",
      "#5\n",
      "XML parse exception: Unicode strings with encoding declaration are not supported. Please use bytes input or XML fragments without declaration.\n",
      "XML parse exception: Unicode strings with encoding declaration are not supported. Please use bytes input or XML fragments without declaration.\n",
      "#5\n",
      "XML parse exception: Unicode strings with encoding declaration are not supported. Please use bytes input or XML fragments without declaration.\n",
      "XML parse exception: Unicode strings with encoding declaration are not supported. Please use bytes input or XML fragments without declaration.\n",
      "XML parse exception: Unicode strings with encoding declaration are not supported. Please use bytes input or XML fragments without declaration.\n",
      "XML parse exception: Document is empty, line 1, column 1 (<string>, line 1)\n",
      "#5\n",
      "#5\n",
      "#5\n",
      "#5\n",
      "#5\n",
      "#5\n",
      "#5\n",
      "#5\n",
      "#5\n"
     ]
    }
   ],
   "source": [
    "subset = files\n",
    "encoded_files = process_parallel(process_file, subset, total=len(subset))"
   ]
  },
  {
   "cell_type": "markdown",
   "metadata": {},
   "source": [
    "### Databunch"
   ]
  },
  {
   "cell_type": "code",
   "execution_count": 32,
   "metadata": {},
   "outputs": [],
   "source": [
    "from fastai_data import *\n",
    "from fastai.text import *"
   ]
  },
  {
   "cell_type": "code",
   "execution_count": 33,
   "metadata": {},
   "outputs": [
    {
     "data": {
      "text/plain": [
       "[PosixPath('data/midi/v7/midi_encode/np/hook_cont/hooktheory/w/wayne-sharpe/yu-gi-oh-theme-song/chorus.npy'),\n",
       " PosixPath('data/midi/v7/midi_encode/np/hook_cont/hooktheory/w/what-a-day/kiefer/chorus.npy'),\n",
       " PosixPath('data/midi/v7/midi_encode/np/hook_cont/hooktheory/w/whiteflame/senbonzakura/chorus.npy'),\n",
       " PosixPath('data/midi/v7/midi_encode/np/hook_cont/hooktheory/w/whiteflame/senbonzakura/pre-chorus.npy'),\n",
       " PosixPath('data/midi/v7/midi_encode/np/hook_cont/hooktheory/w/whiteflame/senbonzakura/verse.npy'),\n",
       " PosixPath('data/midi/v7/midi_encode/np/hook_cont/hooktheory/w/wham/last-christmas/chorus.npy'),\n",
       " PosixPath('data/midi/v7/midi_encode/np/hook_cont/hooktheory/w/wham/last-christmas/intro.npy'),\n",
       " PosixPath('data/midi/v7/midi_encode/np/hook_cont/hooktheory/w/wham/last-christmas/verse.npy'),\n",
       " PosixPath('data/midi/v7/midi_encode/np/hook_cont/hooktheory/w/wham/freedom/chorus.npy'),\n",
       " PosixPath('data/midi/v7/midi_encode/np/hook_cont/hooktheory/w/we-lost-the-sea/bogatyri/intro.npy')]"
      ]
     },
     "execution_count": 33,
     "metadata": {},
     "output_type": "execute_result"
    }
   ],
   "source": [
    "np_files = get_files(out_dir, extensions=['.npy'], recurse=True); np_files[:10]"
   ]
  },
  {
   "cell_type": "code",
   "execution_count": 34,
   "metadata": {},
   "outputs": [
    {
     "data": {
      "text/plain": [
       "PosixPath('data/midi/v7/midi_encode/np/hook_cont')"
      ]
     },
     "execution_count": 34,
     "metadata": {},
     "output_type": "execute_result"
    }
   ],
   "source": [
    "out_path"
   ]
  },
  {
   "cell_type": "code",
   "execution_count": 35,
   "metadata": {},
   "outputs": [],
   "source": [
    "def create_databunch(files, cache_name, batch_size=32, load_cached=False):\n",
    "    if load_cached and (out_path/f'{cache_name}/train_ids.npy').exists():\n",
    "        data = LMNPDataBunch.load(out_path, bs=batch_size, cache_name=cache_name)\n",
    "    else:\n",
    "        ps = [OpenNPFileProcessor()]\n",
    "\n",
    "        data = (ItemList(items=files, path=out_path, processor=ps)\n",
    "                .random_split_by_pct(0.01, seed=6)\n",
    "                .label_const(label_cls=LMLabelList))\n",
    "        data.x._bunch = LMNPDataBunch\n",
    "        data = data.databunch(bs=batch_size)\n",
    "        data.save(cache_name)\n",
    "    return data"
   ]
  },
  {
   "cell_type": "code",
   "execution_count": 36,
   "metadata": {},
   "outputs": [],
   "source": [
    "all_data = create_databunch(np_files, cache_name='tmp/all', load_cached=True)"
   ]
  },
  {
   "cell_type": "code",
   "execution_count": 37,
   "metadata": {},
   "outputs": [],
   "source": [
    "all_data = create_databunch(np_files[:100], cache_name='tmp/sample', load_cached=True)"
   ]
  },
  {
   "cell_type": "code",
   "execution_count": 38,
   "metadata": {},
   "outputs": [
    {
     "data": {
      "text/plain": [
       "LMNPDataBunch;\n",
       "\n",
       "Train: LabelList (99 items)\n",
       "x: ItemList\n",
       "[[ 2  0  0  2  0  0  0  0  0  0]\n",
       " [ 1  0  0  1  0  0  0  0  3  3]\n",
       " [10  7  3  1  0  0  0  0  3  3]\n",
       " [ 9  7  3  1  0  0  0  0  3  3]\n",
       " [12  6  3  1  0  0  0  0  3  3]\n",
       " [ 8  7  3  1  0  0  0  0  4  3]\n",
       " [ 7  7  3  1  0  0  0  0  4  3]\n",
       " [12  6  3  1  0  0  0  0  4  3]\n",
       " [ 8  7  3  1  0  0  0  0  4  3]\n",
       " [ 7  7  3  1  0  0  0  0  5  3]\n",
       " ...\n",
       " [ 1  0  0  6  9 13  0  4  4 10]\n",
       " [ 1  0  0  6  9 13  0  4  4 10]\n",
       " [ 1  0  0  6  9 13  0  4  5 10]\n",
       " [ 1  0  0  6  9 13  0  4  5 10]\n",
       " [ 1  0  0  6  9 13  0  4  5 10]\n",
       " [ 1  0  0  6  9 13  0  4  5 10]\n",
       " [ 1  0  0  6  9 13  0  4  6 10]\n",
       " [ 1  0  0  6  9 13  0  4  6 10]\n",
       " [ 1  0  0  6  9 13  0  4  6 10]\n",
       " [ 1  0  0  6  9 13  0  4  6 10]],[[ 2  0  0  2  0  0  0  0  0  0]\n",
       " [10  9  3 10 14  5  8  3  3  3]\n",
       " [ 7  9  3 10 14  5  8  4  3  3]\n",
       " [ 3  9  3 10 14  5  8  4  3  3]\n",
       " [ 3  9  4 10 14  5  8  4  3  3]\n",
       " [ 5  9  3 10 14  5  8  4  4  3]\n",
       " [ 5  9  4 10 14  5  8  4  4  3]\n",
       " [ 1  0  0 12 14  7 10  3  4  3]\n",
       " [ 5  9  3 12 14  7 10  4  4  3]\n",
       " [ 5  9  4 12 14  7 10  4  5  3]\n",
       " ...\n",
       " [ 1  0  0 12  4  7 11  3  4  6]\n",
       " [ 7  9  3 12  4  7 11  4  4  6]\n",
       " [ 7  9  4 12  4  7 11  4  5  6]\n",
       " [ 4  9  3 12  4  7 11  4  5  6]\n",
       " [12  8  3 12  4  7 11  4  5  6]\n",
       " [12  8  4 12  4  7 11  4  5  6]\n",
       " [14  8  3 12  4  7 11  4  6  6]\n",
       " [14  8  4 12  4  7 11  4  6  6]\n",
       " [ 1  0  0 12  4  7 11  4  6  6]\n",
       " [ 1  0  0 12  4  7 11  4  6  6]],[[ 2  0  0  2  0  0  0  0  0  0]\n",
       " [ 5  9  3 12  3  7  0  3  3  3]\n",
       " [ 5  9  4 12  3  7  0  4  3  3]\n",
       " [ 5  9  4 12  3  7  0  4  3  3]\n",
       " [ 5  9  3 12  3  7  0  4  3  3]\n",
       " [ 5  9  4 12  3  7  0  4  4  3]\n",
       " [ 5  9  4 12  3  7  0  4  4  3]\n",
       " [ 7  9  3 12  3  7  0  4  4  3]\n",
       " [ 7  9  4 12  3  7  0  4  4  3]\n",
       " [ 7  9  3  8 12  3  0  3  5  3]\n",
       " ...\n",
       " [10  9  3 10 14  5  0  4  4 10]\n",
       " [10  9  4 10 14  5  0  4  4 10]\n",
       " [12  9  3 12  3  7  0  3  5 10]\n",
       " [12  9  4 12  3  7  0  4  5 10]\n",
       " [12  9  4 12  3  7  0  4  5 10]\n",
       " [12  9  4 12  3  7  0  4  5 10]\n",
       " [ 1  0  0 12  3  7  0  4  6 10]\n",
       " [ 1  0  0 12  3  7  0  4  6 10]\n",
       " [ 1  0  0 12  3  7  0  4  6 10]\n",
       " [ 1  0  0 12  3  7  0  4  6 10]],[[ 2  0  0  2  0  0  0  0  0  0]\n",
       " [ 3  9  3  8 12  3  0  3  3  3]\n",
       " [ 3  9  4  8 12  3  0  4  3  3]\n",
       " [ 3  9  4  8 12  3  0  4  3  3]\n",
       " [ 3  9  4  8 12  3  0  4  3  3]\n",
       " [14  8  3  8 12  3  0  4  4  3]\n",
       " [14  8  4  8 12  3  0  4  4  3]\n",
       " [14  8  4  8 12  3  0  4  4  3]\n",
       " [14  8  4  8 12  3  0  4  4  3]\n",
       " [12  8  3  8 12  3  0  4  5  3]\n",
       " ...\n",
       " [14  8  4  7 11 14  0  4  4 10]\n",
       " [14  8  4  7 11 14  0  4  4 10]\n",
       " [14  8  4  7 11 14  0  4  5 10]\n",
       " [14  8  4  7 11 14  0  4  5 10]\n",
       " [14  8  4  1  0  0  0  0  5 10]\n",
       " [14  8  4  1  0  0  0  0  5 10]\n",
       " [12  8  3  1  0  0  0  0  6 10]\n",
       " [12  8  4  1  0  0  0  0  6 10]\n",
       " [ 3  9  3  1  0  0  0  0  6 10]\n",
       " [ 3  9  4  1  0  0  0  0  6 10]],[[ 2  0  0  2  0  0  0  0  0  0]\n",
       " [12  8  3 12  3  7  0  3  3  3]\n",
       " [12  8  4 12  3  7  0  4  3  3]\n",
       " [12  8  4 12  3  7  0  4  3  3]\n",
       " [12  8  4 12  3  7  0  4  3  3]\n",
       " [12  8  3 12  3  7  0  4  4  3]\n",
       " [12  8  4 12  3  7  0  4  4  3]\n",
       " [12  8  4 12  3  7  0  4  4  3]\n",
       " [10  8  3 12  3  7  0  4  4  3]\n",
       " [12  8  3 12  3  7  0  4  5  3]\n",
       " ...\n",
       " [ 7  9  3  8 12  3  0  4  4 10]\n",
       " [ 5  9  3  8 12  3  0  4  4 10]\n",
       " [ 3  9  3 10 14  5  0  3  5 10]\n",
       " [ 3  9  4 10 14  5  0  4  5 10]\n",
       " [ 3  9  4 10 14  5  0  4  5 10]\n",
       " [ 3  9  4 10 14  5  0  4  5 10]\n",
       " [12  8  3 10 14  5  0  4  6 10]\n",
       " [12  8  4 10 14  5  0  4  6 10]\n",
       " [12  8  4 10 14  5  0  4  6 10]\n",
       " [12  8  4 10 14  5  0  4  6 10]]\n",
       "y: LMLabelList\n",
       ",,,,\n",
       "Path: data/midi/v7/midi_encode/np/hook_cont;\n",
       "\n",
       "Valid: LabelList (1 items)\n",
       "x: ItemList\n",
       "[[ 2  0  0  2  0  0  0  0  0  0]\n",
       " [10  8  3  3  7 10  0  3  3  3]\n",
       " [10  8  4  3  7 10  0  4  3  3]\n",
       " [10  8  4  3  7 10  0  4  3  3]\n",
       " [10  8  4  3  7 10  0  4  3  3]\n",
       " [ 9  8  3  3  7 10  0  4  4  3]\n",
       " [ 9  8  4  3  7 10  0  4  4  3]\n",
       " [10  8  3  3  7 10  0  4  4  3]\n",
       " [10  8  4  3  7 10  0  4  4  3]\n",
       " [10  8  4  3  7 10  0  4  5  3]\n",
       " ...\n",
       " [ 3  9  4 10 14  5  8  3  6  3]\n",
       " [ 3  9  4 10 14  5  8  4  6  3]\n",
       " [ 3  9  4 10 14  5  8  4  6  3]\n",
       " [ 3  9  4 10 14  5  8  4  6  3]\n",
       " [ 1  0  0  3  7 10  0  3  3  4]\n",
       " [ 1  0  0  3  7 10  0  4  3  4]\n",
       " [ 1  0  0  3  7 10  0  4  3  4]\n",
       " [ 1  0  0  1  0  0  0  0  3  4]\n",
       " [ 3  7  3  3  7 10  0  3  4  4]\n",
       " [ 3  7  4  3  7 10  0  4  4  4]]\n",
       "y: LMLabelList\n",
       "\n",
       "Path: data/midi/v7/midi_encode/np/hook_cont;\n",
       "\n",
       "Test: None"
      ]
     },
     "execution_count": 38,
     "metadata": {},
     "output_type": "execute_result"
    }
   ],
   "source": [
    "all_data"
   ]
  },
  {
   "cell_type": "code",
   "execution_count": 39,
   "metadata": {},
   "outputs": [
    {
     "data": {
      "text/plain": [
       "[15, 13, 5, 15, 15, 15, 15, 5, 7, 12]"
      ]
     },
     "execution_count": 39,
     "metadata": {},
     "output_type": "execute_result"
    }
   ],
   "source": [
    "train_ids_file = out_path/'tmp/all/train_ids.npy'\n",
    "all_ids = np.load(train_ids_file)\n",
    "id_cat = np.concatenate(all_ids); id_cat.shape\n",
    "max_vocab = id_cat.max(axis=0)\n",
    "max_vocab = (max_vocab+1).tolist(); max_vocab"
   ]
  },
  {
   "cell_type": "code",
   "execution_count": 40,
   "metadata": {},
   "outputs": [
    {
     "data": {
      "text/plain": [
       "array([1, 0, 0, 1, 0, 0, 0, 0, 0, 0])"
      ]
     },
     "execution_count": 40,
     "metadata": {},
     "output_type": "execute_result"
    }
   ],
   "source": [
    "min_vocab = id_cat.min(axis=0); min_vocab"
   ]
  },
  {
   "cell_type": "code",
   "execution_count": 41,
   "metadata": {},
   "outputs": [],
   "source": [
    "ob = next(iter(all_data.train_dl))"
   ]
  },
  {
   "cell_type": "code",
   "execution_count": 42,
   "metadata": {},
   "outputs": [
    {
     "data": {
      "text/plain": [
       "torch.Size([32, 70, 10])"
      ]
     },
     "execution_count": 42,
     "metadata": {},
     "output_type": "execute_result"
    }
   ],
   "source": [
    "ob[0].shape"
   ]
  },
  {
   "cell_type": "code",
   "execution_count": 43,
   "metadata": {},
   "outputs": [
    {
     "data": {
      "text/plain": [
       "(tensor([[ 1,  0,  0, 10, 12,  3,  7,  3,  5,  7],\n",
       "         [ 1,  0,  0, 10, 12,  3,  7,  4,  5,  7],\n",
       "         [ 1,  0,  0, 10, 12,  3,  7,  4,  5,  7],\n",
       "         [ 1,  0,  0, 10, 12,  3,  7,  4,  5,  7],\n",
       "         [ 1,  0,  0, 12, 14,  5,  9,  3,  6,  7],\n",
       "         [ 1,  0,  0, 12, 14,  5,  9,  4,  6,  7],\n",
       "         [ 1,  0,  0, 12, 14,  5,  9,  4,  6,  7],\n",
       "         [ 1,  0,  0, 12, 14,  5,  9,  4,  6,  7],\n",
       "         [ 1,  0,  0,  3,  6, 10,  0,  3,  3,  8],\n",
       "         [ 1,  0,  0,  3,  6, 10,  0,  4,  3,  8],\n",
       "         [ 1,  0,  0,  3,  6, 10,  0,  4,  3,  8],\n",
       "         [ 1,  0,  0,  3,  6, 10,  0,  4,  3,  8],\n",
       "         [ 1,  0,  0,  3,  6, 10,  0,  4,  4,  8],\n",
       "         [ 1,  0,  0,  3,  6, 10,  0,  4,  4,  8],\n",
       "         [ 1,  0,  0,  3,  6, 10,  0,  4,  4,  8],\n",
       "         [ 1,  0,  0,  3,  6, 10,  0,  4,  4,  8]], device='cuda:0'),\n",
       " tensor([[ 1,  0,  0, 12, 14,  5,  9,  3,  6,  7],\n",
       "         [ 1,  0,  0, 12, 14,  5,  9,  4,  6,  7],\n",
       "         [ 1,  0,  0, 12, 14,  5,  9,  4,  6,  7],\n",
       "         [ 1,  0,  0, 12, 14,  5,  9,  4,  6,  7],\n",
       "         [ 1,  0,  0,  3,  6, 10,  0,  3,  3,  8],\n",
       "         [ 1,  0,  0,  3,  6, 10,  0,  4,  3,  8],\n",
       "         [ 1,  0,  0,  3,  6, 10,  0,  4,  3,  8],\n",
       "         [ 1,  0,  0,  3,  6, 10,  0,  4,  3,  8],\n",
       "         [ 1,  0,  0,  3,  6, 10,  0,  4,  4,  8],\n",
       "         [ 1,  0,  0,  3,  6, 10,  0,  4,  4,  8],\n",
       "         [ 1,  0,  0,  3,  6, 10,  0,  4,  4,  8],\n",
       "         [ 1,  0,  0,  3,  6, 10,  0,  4,  4,  8],\n",
       "         [ 1,  0,  0,  3,  6, 10,  0,  4,  5,  8],\n",
       "         [ 1,  0,  0,  3,  6, 10,  0,  4,  5,  8],\n",
       "         [ 1,  0,  0,  3,  6, 10,  0,  4,  5,  8],\n",
       "         [ 1,  0,  0,  3,  6, 10,  0,  4,  5,  8]], device='cuda:0'))"
      ]
     },
     "execution_count": 43,
     "metadata": {},
     "output_type": "execute_result"
    }
   ],
   "source": [
    "ob[0][0][:16], ob[1][0][:16]"
   ]
  },
  {
   "cell_type": "code",
   "execution_count": null,
   "metadata": {},
   "outputs": [],
   "source": []
  }
 ],
 "metadata": {
  "kernelspec": {
   "display_name": "Python 3",
   "language": "python",
   "name": "python3"
  },
  "language_info": {
   "codemirror_mode": {
    "name": "ipython",
    "version": 3
   },
   "file_extension": ".py",
   "mimetype": "text/x-python",
   "name": "python",
   "nbconvert_exporter": "python",
   "pygments_lexer": "ipython3",
   "version": "3.7.1"
  }
 },
 "nbformat": 4,
 "nbformat_minor": 2
}

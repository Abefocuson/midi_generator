{
 "cells": [
  {
   "cell_type": "markdown",
   "metadata": {},
   "source": [
    "# Attention Architecture"
   ]
  },
  {
   "cell_type": "code",
   "execution_count": 1,
   "metadata": {},
   "outputs": [],
   "source": [
    "%reload_ext autoreload\n",
    "%autoreload 2\n",
    "%matplotlib inline"
   ]
  },
  {
   "cell_type": "code",
   "execution_count": 2,
   "metadata": {},
   "outputs": [],
   "source": [
    "import music21"
   ]
  },
  {
   "cell_type": "code",
   "execution_count": 3,
   "metadata": {},
   "outputs": [],
   "source": [
    "from fastai.text import *\n",
    "from enum import Enum\n",
    "import torch\n",
    "from fastai.text.models.awd_lstm import *\n",
    "from fastai.text.models.transformer import *"
   ]
  },
  {
   "cell_type": "code",
   "execution_count": 4,
   "metadata": {},
   "outputs": [],
   "source": [
    "np.set_printoptions(edgeitems=10, threshold=40, linewidth=200)"
   ]
  },
  {
   "cell_type": "code",
   "execution_count": 5,
   "metadata": {},
   "outputs": [],
   "source": [
    "from fastai_data import *"
   ]
  },
  {
   "cell_type": "code",
   "execution_count": 6,
   "metadata": {},
   "outputs": [],
   "source": [
    "import numpy as np\n",
    "import torch.nn as nn"
   ]
  },
  {
   "cell_type": "code",
   "execution_count": 7,
   "metadata": {},
   "outputs": [],
   "source": [
    "from encode_data import *"
   ]
  },
  {
   "cell_type": "code",
   "execution_count": 8,
   "metadata": {},
   "outputs": [],
   "source": [
    "bs=16\n",
    "bptt=256"
   ]
  },
  {
   "cell_type": "code",
   "execution_count": 9,
   "metadata": {},
   "outputs": [],
   "source": [
    "MaskType = Enum('MaskType', 'NoMask Sequential RandomWindow Bert')"
   ]
  },
  {
   "cell_type": "code",
   "execution_count": 10,
   "metadata": {},
   "outputs": [],
   "source": [
    "import fastai_data\n",
    "fastai_data.Y_OFFSET=1\n",
    "# fastai_data.VAL_OFFSET=1"
   ]
  },
  {
   "cell_type": "code",
   "execution_count": 11,
   "metadata": {},
   "outputs": [
    {
     "data": {
      "text/plain": [
       "0.42204508479517755"
      ]
     },
     "execution_count": 11,
     "metadata": {},
     "output_type": "execute_result"
    }
   ],
   "source": [
    "np.random.rand()"
   ]
  },
  {
   "cell_type": "code",
   "execution_count": 12,
   "metadata": {},
   "outputs": [],
   "source": [
    "def rand_transpose(t, p=0.5):\n",
    "    t = t.copy()\n",
    "    notes = t[...,0]\n",
    "    if np.random.rand() < p:\n",
    "        notes[notes >= ENC_OFFSET] += np.random.randint(0,24)-12\n",
    "#         notes[notes >= ENC_OFFSET] += np.random.randint(0,12)-5\n",
    "    return t"
   ]
  },
  {
   "cell_type": "code",
   "execution_count": 13,
   "metadata": {},
   "outputs": [],
   "source": [
    "path = Path('data/midi/v9/midi_encode/np/shortdur/')\n",
    "data = LMNPDataBunch.load(path, bs=bs, bptt=bptt, cache_name='tmp/hook', train_tfms=[rand_transpose])\n",
    "# data = LMNPDataBunch.load(path, bs=bs, bptt=bptt, cache_name='tmp/dump')"
   ]
  },
  {
   "cell_type": "code",
   "execution_count": 14,
   "metadata": {},
   "outputs": [],
   "source": [
    "PAD_IDX=PADDING_IDX+ENC_OFFSET"
   ]
  },
  {
   "cell_type": "code",
   "execution_count": 15,
   "metadata": {},
   "outputs": [
    {
     "data": {
      "text/plain": [
       "[130, 132]"
      ]
     },
     "execution_count": 15,
     "metadata": {},
     "output_type": "execute_result"
    }
   ],
   "source": [
    "max_vocab_file = path/'tmp/all/max_vocab.npy'\n",
    "if max_vocab_file.exists():\n",
    "    VOCAB_SZ = np.load(max_vocab_file).tolist()\n",
    "else:\n",
    "    train_ids_file = path/'tmp/all/train_ids.npy'\n",
    "    all_ids = np.load(train_ids_file)\n",
    "    id_cat = np.concatenate(all_ids); id_cat.shape\n",
    "    ax = tuple(range(len(id_cat.shape)-1))\n",
    "    max_vocab = id_cat.max(axis=ax)+1\n",
    "    np.save(max_vocab_file, max_vocab)\n",
    "    VOCAB_SZ = max_vocab.tolist()\n",
    "VOCAB_SZ"
   ]
  },
  {
   "cell_type": "code",
   "execution_count": 16,
   "metadata": {},
   "outputs": [
    {
     "data": {
      "text/plain": [
       "[(0, 130, 128), (1, 132, 128)]"
      ]
     },
     "execution_count": 16,
     "metadata": {},
     "output_type": "execute_result"
    }
   ],
   "source": [
    "N_BAR = 1\n",
    "N_COMPS = len(VOCAB_SZ)\n",
    "N_EMBS = 128\n",
    "EMB_IDXS = range(N_COMPS)\n",
    "EMB_DIM = [N_EMBS]*len(EMB_IDXS)\n",
    "EMB_MAP = list(zip(EMB_IDXS,VOCAB_SZ,EMB_DIM))\n",
    "LOSS_WEIGHTS = [1,1,1]\n",
    "EMB_MAP"
   ]
  },
  {
   "cell_type": "code",
   "execution_count": 17,
   "metadata": {},
   "outputs": [],
   "source": [
    "idx2embidx = { i:EMB_MAP[i] for i in range(N_COMPS) }"
   ]
  },
  {
   "cell_type": "code",
   "execution_count": 18,
   "metadata": {},
   "outputs": [],
   "source": [
    "config = tfmerXL_lm_config"
   ]
  },
  {
   "cell_type": "code",
   "execution_count": 19,
   "metadata": {},
   "outputs": [],
   "source": [
    "config['emb_map'] = EMB_MAP\n",
    "config['idx_map'] = idx2embidx\n",
    "config['mask_type'] = MaskType.RandomWindow\n",
    "# config['mask_type'] = MaskType.Sequential"
   ]
  },
  {
   "cell_type": "code",
   "execution_count": 20,
   "metadata": {},
   "outputs": [],
   "source": [
    "total_embs = sum([v[-1] for k,v in idx2embidx.items()])\n",
    "config['d_model'] = total_embs * N_BAR"
   ]
  },
  {
   "cell_type": "code",
   "execution_count": 21,
   "metadata": {},
   "outputs": [],
   "source": [
    "config['mem_len'] = 512\n",
    "# config['ctx_len'] = 512 # for learned positional encoding\n",
    "# config['d_inner'] = config['d_model'] * 4"
   ]
  },
  {
   "cell_type": "code",
   "execution_count": 22,
   "metadata": {},
   "outputs": [],
   "source": [
    "config['resid_p'] = 0.2\n",
    "config['attn_p'] = 0.2\n",
    "config['ff_p'] = 0.2\n",
    "config['embed_p'] = 0.2\n",
    "config['output_p'] = 0.2"
   ]
  },
  {
   "cell_type": "code",
   "execution_count": 23,
   "metadata": {},
   "outputs": [
    {
     "data": {
      "text/plain": [
       "{'ctx_len': 150,\n",
       " 'n_layers': 12,\n",
       " 'n_heads': 10,\n",
       " 'd_model': 256,\n",
       " 'd_head': 41,\n",
       " 'd_inner': 2100,\n",
       " 'resid_p': 0.2,\n",
       " 'attn_p': 0.2,\n",
       " 'ff_p': 0.2,\n",
       " 'embed_p': 0.2,\n",
       " 'output_p': 0.2,\n",
       " 'bias': False,\n",
       " 'scale': True,\n",
       " 'act': <Activation.ReLU: 1>,\n",
       " 'double_drop': True,\n",
       " 'tie_weights': True,\n",
       " 'out_bias': True,\n",
       " 'init': <function fastai.text.models.transformer.init_transformer(m)>,\n",
       " 'mem_len': 512,\n",
       " 'mask': True,\n",
       " 'emb_map': [(0, 130, 128), (1, 132, 128)],\n",
       " 'idx_map': {0: (0, 130, 128), 1: (1, 132, 128)},\n",
       " 'mask_type': <MaskType.RandomWindow: 3>}"
      ]
     },
     "execution_count": 23,
     "metadata": {},
     "output_type": "execute_result"
    }
   ],
   "source": [
    "config"
   ]
  },
  {
   "cell_type": "code",
   "execution_count": 24,
   "metadata": {},
   "outputs": [],
   "source": [
    "# # BERT config\n",
    "# config['mask_type'] = MaskType.Bert\n",
    "# config['mem_len'] = 0\n",
    "# config['d_model'] = N_EMBS"
   ]
  },
  {
   "cell_type": "code",
   "execution_count": 25,
   "metadata": {},
   "outputs": [],
   "source": [
    "class TransformerEmbed(nn.Module):\n",
    "    def __init__(self, emb_map, idx_map, embed_p:float=0.1, **kwargs):\n",
    "        super().__init__()\n",
    "        # note, octave, duration, instrument\n",
    "        self.idx_map = idx_map\n",
    "        self.emb_map = emb_map\n",
    "        embeddings = []\n",
    "        for idx,in_d,out_d in emb_map:\n",
    "            embeddings.append(nn.Embedding(in_d, out_d, padding_idx=PAD_IDX))\n",
    "        self.embeddings = nn.ModuleList(embeddings)\n",
    "        self.drop_emb = nn.Dropout(embed_p)\n",
    "        \n",
    "    def forward(self, x):\n",
    "        # batch x bptt x (n,o,d,i)\n",
    "        embs = []\n",
    "        for i in range(x.shape[-1]):\n",
    "            emb_idx = self.idx_map[i][0]\n",
    "            embx = self.embeddings[emb_idx](x[...,i])\n",
    "            embs.append(embx)\n",
    "        emb = torch.stack(embs, dim=-2) # barlen x comp x emb\n",
    "#         emb = emb.permute(0,1,4,2,3) # for conv - emb x barlen x comp\n",
    "        return self.drop_emb(emb)"
   ]
  },
  {
   "cell_type": "code",
   "execution_count": 26,
   "metadata": {},
   "outputs": [],
   "source": [
    "class TXLLinearDecoder(nn.Module):\n",
    "    \"To go on top of a RNNCore module and create a Language Model.\"\n",
    "    initrange=0.1\n",
    "\n",
    "    def __init__(self, tie_encoder:nn.Module=None, bias:bool=True, input_dim=None):\n",
    "        super().__init__()\n",
    "        n_hid,n_out = tie_encoder.embedding_dim, tie_encoder.num_embeddings\n",
    "        self.decoder = nn.Linear(n_hid, n_out, bias=bias)\n",
    "        self.decoder.weight.data.uniform_(-self.initrange, self.initrange)\n",
    "        if bias: self.decoder.bias.data.zero_()\n",
    "        if tie_encoder: self.decoder.weight = tie_encoder.weight\n",
    "            \n",
    "        if input_dim is not None and input_dim != n_hid:\n",
    "            self.decoder = nn.Sequential(nn.Linear(input_dim, n_hid), self.decoder)\n",
    "\n",
    "    def forward(self, input):\n",
    "        return self.decoder(input)"
   ]
  },
  {
   "cell_type": "code",
   "execution_count": 27,
   "metadata": {},
   "outputs": [],
   "source": [
    "class TransformerDec(nn.Module):\n",
    "    def __init__(self, txl_emb, idx_map, output_p=0.0, out_bias=True, d_model=None, **kwargs):\n",
    "        super().__init__()\n",
    "        self.output_dp = RNNDropout(output_p)\n",
    "        \n",
    "        decoders = []\n",
    "        for k,v in idx_map.items():\n",
    "            emb = txl_emb.embeddings[v[0]]\n",
    "            decoder = TXLLinearDecoder(tie_encoder=emb, bias=out_bias, input_dim=d_model)\n",
    "            decoders.append(decoder)\n",
    "            \n",
    "        self.decoders = nn.ModuleList(decoders)\n",
    "        \n",
    "    def forward(self, input):\n",
    "        raw_outputs, outputs = input\n",
    "        output = self.output_dp(outputs[-1])\n",
    "        res = []\n",
    "        for idx,dec in enumerate(self.decoders):\n",
    "            res.append(dec(output))\n",
    "        return res, raw_outputs, outputs"
   ]
  },
  {
   "cell_type": "code",
   "execution_count": 28,
   "metadata": {},
   "outputs": [],
   "source": [
    "\n",
    "def rand_window_mask(x_len,m_len,device,p=0.2,is_eval=False):\n",
    "    if is_eval or m_len == 0 or np.random.rand() >= p: \n",
    "        win_size,k = (1,1)\n",
    "    else: win_size,k = (np.random.randint(0,3)+1,0)\n",
    "        \n",
    "    mem_mask = np.zeros((x_len,m_len))\n",
    "    tri_mask = np.triu(np.ones((x_len//win_size+1,x_len//win_size+1)),k=k)\n",
    "    window_mask = tri_mask.repeat(win_size,axis=0).repeat(win_size,axis=1)[:x_len,:x_len]\n",
    "    np_mask = np.concatenate((mem_mask, window_mask), axis=1)\n",
    "    mask = torch.tensor(np_mask, device=device).byte()[None,None]; mask\n",
    "    return mask"
   ]
  },
  {
   "cell_type": "code",
   "execution_count": 29,
   "metadata": {},
   "outputs": [],
   "source": [
    "\n",
    "class LMNPTransformerXL(nn.Module):\n",
    "    \"TransformerXL model: https://arxiv.org/abs/1901.02860.\"\n",
    "    def __init__(self, encoder, ctx_len:int, n_layers:int, n_heads:int, d_model:int, d_head:int, d_inner:int, \n",
    "                 resid_p:float=0., attn_p:float=0., ff_p:float=0., embed_p:float=0., bias:bool=False, scale:bool=True,\n",
    "                 act:Activation=Activation.ReLU, double_drop:bool=True, attn_cls:Callable=MultiHeadRelativeAttention,\n",
    "                 learned_pos_enc:bool=False, mask_type:MaskType=MaskType.Sequential, mem_len:int=0, **kwargs):\n",
    "        super().__init__()\n",
    "        self.encoder = encoder\n",
    "        self.pos_enc = nn.Embedding(ctx_len, d_model) if learned_pos_enc else PositionalEncoding(d_model)\n",
    "        self.u = nn.Parameter(torch.Tensor(n_heads, 1, d_head)) #Remove 1 for einsum implementation of attention\n",
    "        self.v = nn.Parameter(torch.Tensor(n_heads, 1, d_head)) #Remove 1 for einsum implementation of attention\n",
    "        self.mem_len,self.n_layers,self.d_model,self.mask_type = mem_len,n_layers,d_model,mask_type\n",
    "        self.init = False\n",
    "        self.layers = nn.ModuleList([DecoderLayer(n_heads, d_model, d_head, d_inner, resid_p=resid_p, attn_p=attn_p,\n",
    "                      ff_p=ff_p, bias=bias, scale=scale, act=act, double_drop=double_drop, \n",
    "                      attn_cls=attn_cls) for k in range(n_layers)])\n",
    "    \n",
    "    def reset(self):\n",
    "        \"Reset the internal memory.\"\n",
    "        self.hidden = [next(self.parameters()).data.new(0) for i in range(self.n_layers+1)]\n",
    "\n",
    "    def _update_mems(self, hids):\n",
    "        if not getattr(self, 'hidden', False): return None\n",
    "        assert len(hids) == len(self.hidden), 'len(hids) != len(self.hidden)'\n",
    "        with torch.no_grad():\n",
    "            for i in range(len(hids)):\n",
    "                cat = torch.cat([self.hidden[i], hids[i]], dim=1)\n",
    "                self.hidden[i] = cat[:,-self.mem_len:].detach()\n",
    "    \n",
    "    def select_hidden(self, idxs): self.hidden = [h[idxs] for h in self.hidden]\n",
    "    \n",
    "    def forward(self, x):\n",
    "        #The hidden state has to be initiliazed in the forward pass for nn.DataParallel\n",
    "        if self.mem_len > 0 and not self.init: \n",
    "            self.reset()\n",
    "            self.init = True\n",
    "        inp = self.encoder(x)\n",
    "        if self.mask_type.value == MaskType.Bert.value:\n",
    "            inp = inp.reshape(inp.shape[0], -1, inp.shape[-1]) # bs,bptt,comp,emb -> bs,bptt*comp,emb\n",
    "        else:\n",
    "            inp = inp.reshape(*inp.shape[:2], -1) # bs,bptt,comp,emb -> bs,bptt,comp,emb\n",
    "        bs,x_len = inp.shape[:2]\n",
    "        m_len = self.hidden[0].size(1) if hasattr(self, 'hidden') and len(self.hidden[0].size()) > 1 else 0\n",
    "        seq_len = m_len + x_len\n",
    "        \n",
    "        if self.mask_type.value == MaskType.NoMask.value: \n",
    "            self.mask = None\n",
    "        elif self.mask_type.value == MaskType.Sequential.value: \n",
    "            self.mask = torch.triu(x.new_ones(x_len, seq_len), diagonal=1+m_len).byte()[None,None]\n",
    "        elif self.mask_type.value == MaskType.RandomWindow.value: \n",
    "            self.mask = rand_window_mask(x_len,m_len,x.device,is_eval=not self.training)\n",
    "        else: \n",
    "            raise ValueError('Unhandled mask type:', self.mask_type)\n",
    "            \n",
    "        #[None,:,:None] for einsum implementation of attention\n",
    "        hids = []\n",
    "        pos = torch.arange(seq_len-1, -1, -1, device=inp.device, dtype=inp.dtype)\n",
    "        pos_enc = self.pos_enc(pos)\n",
    "        hids.append(inp)\n",
    "        for i, layer in enumerate(self.layers):\n",
    "            mem = self.hidden[i] if self.mem_len > 0 else None\n",
    "            inp = layer(inp, r=pos_enc, u=self.u, v=self.v, mask=self.mask, mem=mem)\n",
    "            hids.append(inp)\n",
    "        core_out = inp[:,-x_len:]\n",
    "        if self.mem_len > 0 : self._update_mems(hids)\n",
    "        return (self.hidden if self.mem_len > 0 else [core_out]),[core_out]"
   ]
  },
  {
   "cell_type": "code",
   "execution_count": 30,
   "metadata": {},
   "outputs": [],
   "source": [
    "def get_language_model(config:dict=None, drop_mult:float=1.):\n",
    "    \"Create a language model from `arch` and its `config`, maybe `pretrained`.\"\n",
    "    for k in config.keys(): \n",
    "        if k.endswith('_p'): config[k] *= drop_mult\n",
    "    init = config.pop('init') if 'init' in config else None\n",
    "    \n",
    "    embed = TransformerEmbed(**config)\n",
    "    txl = LMNPTransformerXL(embed, **config)\n",
    "    decoder = TransformerDec(embed, **config)\n",
    "    model = SequentialRNN(txl, decoder)\n",
    "    \n",
    "    return model if init is None else model.apply(init)\n",
    "\n",
    "\n",
    "def language_model_learner(data:DataBunch, config:dict=None, drop_mult:float=1., pretrained:bool=True,\n",
    "                           **learn_kwargs) -> 'LanguageLearner':\n",
    "    \"Create a `Learner` with a language model from `data` and `arch`.\"\n",
    "    model = get_language_model(config=config, drop_mult=drop_mult)\n",
    "    learn = LanguageLearner(data, model, split_func=tfmer_lm_split, **learn_kwargs)\n",
    "    return learn"
   ]
  },
  {
   "cell_type": "code",
   "execution_count": 31,
   "metadata": {},
   "outputs": [],
   "source": [
    "class LMNPLoss(nn.Module):\n",
    "    \"Same as `func`, but flattens input and target.\"\n",
    "    def __init__(self):\n",
    "        super().__init__()\n",
    "        self.fn = nn.CrossEntropyLoss(ignore_index=PAD_IDX)\n",
    "        # not using func otherwise _loss_func_name2activ uses this attribute to get cross entropy loss\n",
    "\n",
    "    def __repr__(self): return f\"numpyenc loss of {self.fn}\"\n",
    "\n",
    "    def forward(self, inputs:Tensor, target:Tensor, **kwargs)->Rank0Tensor:\n",
    "        losses = []\n",
    "        for idx,input in enumerate(inputs):\n",
    "#             if idx in CIDX_ALL: continue\n",
    "            t = target[...,idx]\n",
    "            input = input.view(-1,input.shape[-1])\n",
    "            losses.append(self.fn(input, t.view(-1))*LOSS_WEIGHTS[idx])\n",
    "        return sum(losses)"
   ]
  },
  {
   "cell_type": "code",
   "execution_count": 32,
   "metadata": {},
   "outputs": [],
   "source": [
    "def lmnp_accuracy(inputs:Tensor, target:Tensor)->Rank0Tensor:\n",
    "    \"Compute accuracy with `targs` when `input` is bs * n_classes.\"\n",
    "    inputs = [i.argmax(dim=-1).unsqueeze(dim=-1) for i in inputs]\n",
    "    input = torch.cat(inputs, dim=-1)\n",
    "    target = target.view(input.shape)\n",
    "    \n",
    "    acc = (input==target).float().cpu().numpy()\n",
    "    acc[target==PAD_IDX] = np.nan\n",
    "    return torch.tensor(np.nanmean(acc), device=target.device)"
   ]
  },
  {
   "cell_type": "code",
   "execution_count": 33,
   "metadata": {},
   "outputs": [],
   "source": [
    "learn = language_model_learner(data, config, clip=0.25, loss_func=LMNPLoss(), metrics=[lmnp_accuracy])"
   ]
  },
  {
   "cell_type": "code",
   "execution_count": 34,
   "metadata": {},
   "outputs": [],
   "source": [
    "x,y = data.one_batch(cpu=False)"
   ]
  },
  {
   "cell_type": "code",
   "execution_count": 35,
   "metadata": {},
   "outputs": [],
   "source": [
    "# ob = data.one_batch(cpu=False)\n",
    "# out = learn.model(ob[0])\n",
    "# out = learn.pred_batch(ob)\n",
    "# learn.loss_func([c.cuda() for c in out], ob[1])"
   ]
  },
  {
   "cell_type": "code",
   "execution_count": 36,
   "metadata": {},
   "outputs": [],
   "source": [
    "# # # clip = 0.5\n",
    "# learn.lr_find(num_it=300)\n",
    "# learn.recorder.plot()"
   ]
  },
  {
   "cell_type": "code",
   "execution_count": 37,
   "metadata": {},
   "outputs": [],
   "source": [
    "# learn.to_fp16();"
   ]
  },
  {
   "cell_type": "code",
   "execution_count": 38,
   "metadata": {},
   "outputs": [],
   "source": [
    "# learn.fit_one_cycle(4, 2e-4)"
   ]
  },
  {
   "cell_type": "code",
   "execution_count": 39,
   "metadata": {},
   "outputs": [],
   "source": [
    "# learn.save('first_run_10ep')"
   ]
  },
  {
   "cell_type": "code",
   "execution_count": 40,
   "metadata": {},
   "outputs": [],
   "source": [
    "# learn.fit_one_cycle(5, 2e-4)"
   ]
  },
  {
   "cell_type": "code",
   "execution_count": 41,
   "metadata": {},
   "outputs": [
    {
     "data": {
      "text/plain": [
       "[PosixPath('data/midi/v9/midi_encode/np/shortdur/models/hook/1_epoch20_best.pth'),\n",
       " PosixPath('data/midi/v9/midi_encode/np/shortdur/models/hook/v9_1_epoch20_best.pth'),\n",
       " PosixPath('data/midi/v9/midi_encode/np/shortdur/models/hook/v9_1_epoch20.pth'),\n",
       " PosixPath('data/midi/v9/midi_encode/np/shortdur/models/hook/1_epoch20.pth')]"
      ]
     },
     "execution_count": 41,
     "metadata": {},
     "output_type": "execute_result"
    }
   ],
   "source": [
    "models = get_files(path/'models/hook', recurse=True); models"
   ]
  },
  {
   "cell_type": "code",
   "execution_count": 42,
   "metadata": {},
   "outputs": [
    {
     "data": {
      "text/plain": [
       "SequentialRNN(\n",
       "  (0): LMNPTransformerXL(\n",
       "    (encoder): TransformerEmbed(\n",
       "      (embeddings): ModuleList(\n",
       "        (0): Embedding(130, 128, padding_idx=0)\n",
       "        (1): Embedding(132, 128, padding_idx=0)\n",
       "      )\n",
       "      (drop_emb): Dropout(p=0.2)\n",
       "    )\n",
       "    (pos_enc): PositionalEncoding()\n",
       "    (layers): ModuleList(\n",
       "      (0): DecoderLayer(\n",
       "        (mhra): MultiHeadRelativeAttention(\n",
       "          (attention): Linear(in_features=256, out_features=1230, bias=False)\n",
       "          (out): Linear(in_features=410, out_features=256, bias=False)\n",
       "          (drop_att): Dropout(p=0.2)\n",
       "          (drop_res): Dropout(p=0.2)\n",
       "          (ln): LayerNorm(torch.Size([256]), eps=1e-05, elementwise_affine=True)\n",
       "          (r_attn): Linear(in_features=256, out_features=410, bias=False)\n",
       "        )\n",
       "        (ff): SequentialEx(\n",
       "          (layers): ModuleList(\n",
       "            (0): Linear(in_features=256, out_features=2100, bias=True)\n",
       "            (1): ReLU(inplace)\n",
       "            (2): Dropout(p=0.2)\n",
       "            (3): Linear(in_features=2100, out_features=256, bias=True)\n",
       "            (4): Dropout(p=0.2)\n",
       "            (5): MergeLayer()\n",
       "            (6): LayerNorm(torch.Size([256]), eps=1e-05, elementwise_affine=True)\n",
       "          )\n",
       "        )\n",
       "      )\n",
       "      (1): DecoderLayer(\n",
       "        (mhra): MultiHeadRelativeAttention(\n",
       "          (attention): Linear(in_features=256, out_features=1230, bias=False)\n",
       "          (out): Linear(in_features=410, out_features=256, bias=False)\n",
       "          (drop_att): Dropout(p=0.2)\n",
       "          (drop_res): Dropout(p=0.2)\n",
       "          (ln): LayerNorm(torch.Size([256]), eps=1e-05, elementwise_affine=True)\n",
       "          (r_attn): Linear(in_features=256, out_features=410, bias=False)\n",
       "        )\n",
       "        (ff): SequentialEx(\n",
       "          (layers): ModuleList(\n",
       "            (0): Linear(in_features=256, out_features=2100, bias=True)\n",
       "            (1): ReLU(inplace)\n",
       "            (2): Dropout(p=0.2)\n",
       "            (3): Linear(in_features=2100, out_features=256, bias=True)\n",
       "            (4): Dropout(p=0.2)\n",
       "            (5): MergeLayer()\n",
       "            (6): LayerNorm(torch.Size([256]), eps=1e-05, elementwise_affine=True)\n",
       "          )\n",
       "        )\n",
       "      )\n",
       "      (2): DecoderLayer(\n",
       "        (mhra): MultiHeadRelativeAttention(\n",
       "          (attention): Linear(in_features=256, out_features=1230, bias=False)\n",
       "          (out): Linear(in_features=410, out_features=256, bias=False)\n",
       "          (drop_att): Dropout(p=0.2)\n",
       "          (drop_res): Dropout(p=0.2)\n",
       "          (ln): LayerNorm(torch.Size([256]), eps=1e-05, elementwise_affine=True)\n",
       "          (r_attn): Linear(in_features=256, out_features=410, bias=False)\n",
       "        )\n",
       "        (ff): SequentialEx(\n",
       "          (layers): ModuleList(\n",
       "            (0): Linear(in_features=256, out_features=2100, bias=True)\n",
       "            (1): ReLU(inplace)\n",
       "            (2): Dropout(p=0.2)\n",
       "            (3): Linear(in_features=2100, out_features=256, bias=True)\n",
       "            (4): Dropout(p=0.2)\n",
       "            (5): MergeLayer()\n",
       "            (6): LayerNorm(torch.Size([256]), eps=1e-05, elementwise_affine=True)\n",
       "          )\n",
       "        )\n",
       "      )\n",
       "      (3): DecoderLayer(\n",
       "        (mhra): MultiHeadRelativeAttention(\n",
       "          (attention): Linear(in_features=256, out_features=1230, bias=False)\n",
       "          (out): Linear(in_features=410, out_features=256, bias=False)\n",
       "          (drop_att): Dropout(p=0.2)\n",
       "          (drop_res): Dropout(p=0.2)\n",
       "          (ln): LayerNorm(torch.Size([256]), eps=1e-05, elementwise_affine=True)\n",
       "          (r_attn): Linear(in_features=256, out_features=410, bias=False)\n",
       "        )\n",
       "        (ff): SequentialEx(\n",
       "          (layers): ModuleList(\n",
       "            (0): Linear(in_features=256, out_features=2100, bias=True)\n",
       "            (1): ReLU(inplace)\n",
       "            (2): Dropout(p=0.2)\n",
       "            (3): Linear(in_features=2100, out_features=256, bias=True)\n",
       "            (4): Dropout(p=0.2)\n",
       "            (5): MergeLayer()\n",
       "            (6): LayerNorm(torch.Size([256]), eps=1e-05, elementwise_affine=True)\n",
       "          )\n",
       "        )\n",
       "      )\n",
       "      (4): DecoderLayer(\n",
       "        (mhra): MultiHeadRelativeAttention(\n",
       "          (attention): Linear(in_features=256, out_features=1230, bias=False)\n",
       "          (out): Linear(in_features=410, out_features=256, bias=False)\n",
       "          (drop_att): Dropout(p=0.2)\n",
       "          (drop_res): Dropout(p=0.2)\n",
       "          (ln): LayerNorm(torch.Size([256]), eps=1e-05, elementwise_affine=True)\n",
       "          (r_attn): Linear(in_features=256, out_features=410, bias=False)\n",
       "        )\n",
       "        (ff): SequentialEx(\n",
       "          (layers): ModuleList(\n",
       "            (0): Linear(in_features=256, out_features=2100, bias=True)\n",
       "            (1): ReLU(inplace)\n",
       "            (2): Dropout(p=0.2)\n",
       "            (3): Linear(in_features=2100, out_features=256, bias=True)\n",
       "            (4): Dropout(p=0.2)\n",
       "            (5): MergeLayer()\n",
       "            (6): LayerNorm(torch.Size([256]), eps=1e-05, elementwise_affine=True)\n",
       "          )\n",
       "        )\n",
       "      )\n",
       "      (5): DecoderLayer(\n",
       "        (mhra): MultiHeadRelativeAttention(\n",
       "          (attention): Linear(in_features=256, out_features=1230, bias=False)\n",
       "          (out): Linear(in_features=410, out_features=256, bias=False)\n",
       "          (drop_att): Dropout(p=0.2)\n",
       "          (drop_res): Dropout(p=0.2)\n",
       "          (ln): LayerNorm(torch.Size([256]), eps=1e-05, elementwise_affine=True)\n",
       "          (r_attn): Linear(in_features=256, out_features=410, bias=False)\n",
       "        )\n",
       "        (ff): SequentialEx(\n",
       "          (layers): ModuleList(\n",
       "            (0): Linear(in_features=256, out_features=2100, bias=True)\n",
       "            (1): ReLU(inplace)\n",
       "            (2): Dropout(p=0.2)\n",
       "            (3): Linear(in_features=2100, out_features=256, bias=True)\n",
       "            (4): Dropout(p=0.2)\n",
       "            (5): MergeLayer()\n",
       "            (6): LayerNorm(torch.Size([256]), eps=1e-05, elementwise_affine=True)\n",
       "          )\n",
       "        )\n",
       "      )\n",
       "      (6): DecoderLayer(\n",
       "        (mhra): MultiHeadRelativeAttention(\n",
       "          (attention): Linear(in_features=256, out_features=1230, bias=False)\n",
       "          (out): Linear(in_features=410, out_features=256, bias=False)\n",
       "          (drop_att): Dropout(p=0.2)\n",
       "          (drop_res): Dropout(p=0.2)\n",
       "          (ln): LayerNorm(torch.Size([256]), eps=1e-05, elementwise_affine=True)\n",
       "          (r_attn): Linear(in_features=256, out_features=410, bias=False)\n",
       "        )\n",
       "        (ff): SequentialEx(\n",
       "          (layers): ModuleList(\n",
       "            (0): Linear(in_features=256, out_features=2100, bias=True)\n",
       "            (1): ReLU(inplace)\n",
       "            (2): Dropout(p=0.2)\n",
       "            (3): Linear(in_features=2100, out_features=256, bias=True)\n",
       "            (4): Dropout(p=0.2)\n",
       "            (5): MergeLayer()\n",
       "            (6): LayerNorm(torch.Size([256]), eps=1e-05, elementwise_affine=True)\n",
       "          )\n",
       "        )\n",
       "      )\n",
       "      (7): DecoderLayer(\n",
       "        (mhra): MultiHeadRelativeAttention(\n",
       "          (attention): Linear(in_features=256, out_features=1230, bias=False)\n",
       "          (out): Linear(in_features=410, out_features=256, bias=False)\n",
       "          (drop_att): Dropout(p=0.2)\n",
       "          (drop_res): Dropout(p=0.2)\n",
       "          (ln): LayerNorm(torch.Size([256]), eps=1e-05, elementwise_affine=True)\n",
       "          (r_attn): Linear(in_features=256, out_features=410, bias=False)\n",
       "        )\n",
       "        (ff): SequentialEx(\n",
       "          (layers): ModuleList(\n",
       "            (0): Linear(in_features=256, out_features=2100, bias=True)\n",
       "            (1): ReLU(inplace)\n",
       "            (2): Dropout(p=0.2)\n",
       "            (3): Linear(in_features=2100, out_features=256, bias=True)\n",
       "            (4): Dropout(p=0.2)\n",
       "            (5): MergeLayer()\n",
       "            (6): LayerNorm(torch.Size([256]), eps=1e-05, elementwise_affine=True)\n",
       "          )\n",
       "        )\n",
       "      )\n",
       "      (8): DecoderLayer(\n",
       "        (mhra): MultiHeadRelativeAttention(\n",
       "          (attention): Linear(in_features=256, out_features=1230, bias=False)\n",
       "          (out): Linear(in_features=410, out_features=256, bias=False)\n",
       "          (drop_att): Dropout(p=0.2)\n",
       "          (drop_res): Dropout(p=0.2)\n",
       "          (ln): LayerNorm(torch.Size([256]), eps=1e-05, elementwise_affine=True)\n",
       "          (r_attn): Linear(in_features=256, out_features=410, bias=False)\n",
       "        )\n",
       "        (ff): SequentialEx(\n",
       "          (layers): ModuleList(\n",
       "            (0): Linear(in_features=256, out_features=2100, bias=True)\n",
       "            (1): ReLU(inplace)\n",
       "            (2): Dropout(p=0.2)\n",
       "            (3): Linear(in_features=2100, out_features=256, bias=True)\n",
       "            (4): Dropout(p=0.2)\n",
       "            (5): MergeLayer()\n",
       "            (6): LayerNorm(torch.Size([256]), eps=1e-05, elementwise_affine=True)\n",
       "          )\n",
       "        )\n",
       "      )\n",
       "      (9): DecoderLayer(\n",
       "        (mhra): MultiHeadRelativeAttention(\n",
       "          (attention): Linear(in_features=256, out_features=1230, bias=False)\n",
       "          (out): Linear(in_features=410, out_features=256, bias=False)\n",
       "          (drop_att): Dropout(p=0.2)\n",
       "          (drop_res): Dropout(p=0.2)\n",
       "          (ln): LayerNorm(torch.Size([256]), eps=1e-05, elementwise_affine=True)\n",
       "          (r_attn): Linear(in_features=256, out_features=410, bias=False)\n",
       "        )\n",
       "        (ff): SequentialEx(\n",
       "          (layers): ModuleList(\n",
       "            (0): Linear(in_features=256, out_features=2100, bias=True)\n",
       "            (1): ReLU(inplace)\n",
       "            (2): Dropout(p=0.2)\n",
       "            (3): Linear(in_features=2100, out_features=256, bias=True)\n",
       "            (4): Dropout(p=0.2)\n",
       "            (5): MergeLayer()\n",
       "            (6): LayerNorm(torch.Size([256]), eps=1e-05, elementwise_affine=True)\n",
       "          )\n",
       "        )\n",
       "      )\n",
       "      (10): DecoderLayer(\n",
       "        (mhra): MultiHeadRelativeAttention(\n",
       "          (attention): Linear(in_features=256, out_features=1230, bias=False)\n",
       "          (out): Linear(in_features=410, out_features=256, bias=False)\n",
       "          (drop_att): Dropout(p=0.2)\n",
       "          (drop_res): Dropout(p=0.2)\n",
       "          (ln): LayerNorm(torch.Size([256]), eps=1e-05, elementwise_affine=True)\n",
       "          (r_attn): Linear(in_features=256, out_features=410, bias=False)\n",
       "        )\n",
       "        (ff): SequentialEx(\n",
       "          (layers): ModuleList(\n",
       "            (0): Linear(in_features=256, out_features=2100, bias=True)\n",
       "            (1): ReLU(inplace)\n",
       "            (2): Dropout(p=0.2)\n",
       "            (3): Linear(in_features=2100, out_features=256, bias=True)\n",
       "            (4): Dropout(p=0.2)\n",
       "            (5): MergeLayer()\n",
       "            (6): LayerNorm(torch.Size([256]), eps=1e-05, elementwise_affine=True)\n",
       "          )\n",
       "        )\n",
       "      )\n",
       "      (11): DecoderLayer(\n",
       "        (mhra): MultiHeadRelativeAttention(\n",
       "          (attention): Linear(in_features=256, out_features=1230, bias=False)\n",
       "          (out): Linear(in_features=410, out_features=256, bias=False)\n",
       "          (drop_att): Dropout(p=0.2)\n",
       "          (drop_res): Dropout(p=0.2)\n",
       "          (ln): LayerNorm(torch.Size([256]), eps=1e-05, elementwise_affine=True)\n",
       "          (r_attn): Linear(in_features=256, out_features=410, bias=False)\n",
       "        )\n",
       "        (ff): SequentialEx(\n",
       "          (layers): ModuleList(\n",
       "            (0): Linear(in_features=256, out_features=2100, bias=True)\n",
       "            (1): ReLU(inplace)\n",
       "            (2): Dropout(p=0.2)\n",
       "            (3): Linear(in_features=2100, out_features=256, bias=True)\n",
       "            (4): Dropout(p=0.2)\n",
       "            (5): MergeLayer()\n",
       "            (6): LayerNorm(torch.Size([256]), eps=1e-05, elementwise_affine=True)\n",
       "          )\n",
       "        )\n",
       "      )\n",
       "    )\n",
       "  )\n",
       "  (1): TransformerDec(\n",
       "    (output_dp): RNNDropout()\n",
       "    (decoders): ModuleList(\n",
       "      (0): TXLLinearDecoder(\n",
       "        (decoder): Sequential(\n",
       "          (0): Linear(in_features=256, out_features=128, bias=True)\n",
       "          (1): Linear(in_features=128, out_features=130, bias=True)\n",
       "        )\n",
       "      )\n",
       "      (1): TXLLinearDecoder(\n",
       "        (decoder): Sequential(\n",
       "          (0): Linear(in_features=256, out_features=128, bias=True)\n",
       "          (1): Linear(in_features=128, out_features=132, bias=True)\n",
       "        )\n",
       "      )\n",
       "    )\n",
       "  )\n",
       ")"
      ]
     },
     "execution_count": 42,
     "metadata": {},
     "output_type": "execute_result"
    }
   ],
   "source": [
    "load_path = Path('data/midi/v9/midi_encode/np/shortdur/models/hook/v9_1_epoch20.pth')\n",
    "state = torch.load(load_path, map_location='cpu')\n",
    "get_model(learn.model).load_state_dict(state['model'], strict=False)\n",
    "learn.model.cuda()"
   ]
  },
  {
   "cell_type": "code",
   "execution_count": 43,
   "metadata": {},
   "outputs": [],
   "source": [
    "from fastai import basic_train"
   ]
  },
  {
   "cell_type": "code",
   "execution_count": 44,
   "metadata": {},
   "outputs": [],
   "source": [
    "def predict_func(parts): return [F.softmax(p, dim=-1) for p in parts]"
   ]
  },
  {
   "cell_type": "code",
   "execution_count": 45,
   "metadata": {},
   "outputs": [
    {
     "data": {
      "text/plain": [
       "<function __main__.predict_func(parts)>"
      ]
     },
     "execution_count": 45,
     "metadata": {},
     "output_type": "execute_result"
    }
   ],
   "source": [
    "loss_func_name = camel2snake(learn.loss_func.__class__.__name__)\n",
    "basic_train.loss_func_name2activ[loss_func_name] = predict_func\n",
    "basic_train._loss_func2activ(learn.loss_func)"
   ]
  },
  {
   "cell_type": "code",
   "execution_count": 126,
   "metadata": {},
   "outputs": [],
   "source": [
    "# bos_idx = enc_config.enc_offset+enc_config.bos_idx\n",
    "bos_idx = VALTBOS+ENC_OFFSET\n",
    "\n",
    "def predict(self, xb, n_words:int=1, temperature:float=1., min_p:float=None):\n",
    "    \"Return the `n_words` that come after `text`.\"\n",
    "    ds = self.data.single_dl.dataset\n",
    "    self.model.reset()\n",
    "    learn.model[0].mask = False\n",
    "    if xb.shape[0] > 1: xb = xb[0][None]\n",
    "    seed = xb.cpu().numpy()\n",
    "    yb = torch.ones_like(xb)\n",
    "    timesteps = []\n",
    "    for _ in progress_bar(range(n_words), leave=True):\n",
    "        bar = []\n",
    "        outputs = learn.pred_batch(batch=(xb,yb))\n",
    "        for item in outputs: #progress_bar(range(n_words), leave=False):\n",
    "            res = item[0][-1]\n",
    "            if min_p is not None: \n",
    "                if (res >= min_p).float().sum() == 0:\n",
    "                    warn(f\"There is no item with probability >= {min_p}, try a lower value.\")\n",
    "                else: res[res < min_p] = 0.\n",
    "            if temperature != 1.: res.pow_(1 / temperature)\n",
    "            idx = torch.multinomial(res, 1)\n",
    "#             val,idx = torch.topk(res, 1)\n",
    "            bar.append(idx.squeeze().to(xb.device))\n",
    "        bar = torch.stack(bar, dim=-1)\n",
    "        if (bar==bos_idx).any(): \n",
    "            print('Predicted BOS token. Returning prediction...')\n",
    "            break\n",
    "        timesteps.append(bar.cpu().numpy())\n",
    "        xb = bar.clone().detach()[None,None] # don't use timesteps. use it's own memory instead\n",
    "    \n",
    "    learn.model[0].mask = True\n",
    "    return timesteps, seed.squeeze()\n"
   ]
  },
  {
   "cell_type": "code",
   "execution_count": 149,
   "metadata": {},
   "outputs": [],
   "source": [
    "def pred2stream(arr):\n",
    "    seq = npenc2seq(np.array(arr))\n",
    "    chordarr = seq2chordarr(seq)\n",
    "    return chordarr2stream(chordarr)"
   ]
  },
  {
   "cell_type": "markdown",
   "metadata": {},
   "source": [
    "### From batch"
   ]
  },
  {
   "cell_type": "code",
   "execution_count": 127,
   "metadata": {},
   "outputs": [],
   "source": [
    "xb,yb = learn.data.one_batch(cpu=False)"
   ]
  },
  {
   "cell_type": "markdown",
   "metadata": {},
   "source": [
    "### From song"
   ]
  },
  {
   "cell_type": "code",
   "execution_count": 128,
   "metadata": {},
   "outputs": [],
   "source": [
    "seed_len = 60\n",
    "files = get_files(path/'hooktheory', extensions=['.npy'], recurse=True)"
   ]
  },
  {
   "cell_type": "code",
   "execution_count": 129,
   "metadata": {},
   "outputs": [
    {
     "data": {
      "text/plain": [
       "[PosixPath('data/midi/v9/midi_encode/np/shortdur/hooktheory/pianoroll/z/zun/satori-maiden---third-eye/verse-and-pre-chorus_key_cmajor.npy'),\n",
       " PosixPath('data/midi/v9/midi_encode/np/shortdur/hooktheory/pianoroll/z/zun/satori-maiden---third-eye/chorus_key_cmajor.npy'),\n",
       " PosixPath('data/midi/v9/midi_encode/np/shortdur/hooktheory/pianoroll/t/third-eye-blind/jumper/chorus_key_cmajor.npy'),\n",
       " PosixPath('data/midi/v9/midi_encode/np/shortdur/hooktheory/pianoroll/t/third-eye-blind/never-let-you-go/verse-and-pre-chorus_key_cmajor.npy'),\n",
       " PosixPath('data/midi/v9/midi_encode/np/shortdur/hooktheory/pianoroll/t/third-eye-blind/never-let-you-go/chorus_key_cmajor.npy'),\n",
       " PosixPath('data/midi/v9/midi_encode/np/shortdur/hooktheory/pianoroll/t/third-eye-blind/hows-it-going-to-be/intro_key_cmajor.npy'),\n",
       " PosixPath('data/midi/v9/midi_encode/np/shortdur/hooktheory/pianoroll/t/third-eye-blind/hows-it-going-to-be/verse_key_cmajor.npy'),\n",
       " PosixPath('data/midi/v9/midi_encode/np/shortdur/hooktheory/pianoroll/t/third-eye-blind/semi-charmed-life/intro_key_cmajor.npy'),\n",
       " PosixPath('data/midi/v9/midi_encode/np/shortdur/hooktheory/pianoroll/t/third-eye-blind/semi-charmed-life/chorus_key_cmajor.npy')]"
      ]
     },
     "execution_count": 129,
     "metadata": {},
     "output_type": "execute_result"
    }
   ],
   "source": [
    "# Loading from specific file\n",
    "keywords = ['third', 'eye']\n",
    "def contains_keywords(f): return all([k in str(f) for k in keywords])\n",
    "search = [f for f in files if contains_keywords(f)]; search"
   ]
  },
  {
   "cell_type": "code",
   "execution_count": 130,
   "metadata": {},
   "outputs": [
    {
     "data": {
      "text/plain": [
       "PosixPath('data/midi/v9/midi_encode/np/shortdur/hooktheory/pianoroll/t/third-eye-blind/semi-charmed-life/chorus_key_cmajor.npy')"
      ]
     },
     "execution_count": 130,
     "metadata": {},
     "output_type": "execute_result"
    }
   ],
   "source": [
    "# file = np.random.choice(files)\n",
    "file = search[-1]\n",
    "file"
   ]
  },
  {
   "cell_type": "code",
   "execution_count": 131,
   "metadata": {},
   "outputs": [],
   "source": [
    "#good_one = Path('data/midi/v7/midi_encode/np/hook_1bar_nopos/hooktheory/c/cool-and-new-web-comic/tick---tock/chorus.npy')\n",
    "file = Path('data/midi/v9/midi_encode/np/shortdur/hooktheory/pianoroll/r/ritchie-valen/la-bamba/chorus_key_cmajor.npy')\n",
    "# third_eye = Path('data/midi/v7/midi_encode/np/hook_1bar_nopos/hooktheory/t/third-eye-blind/semi-charmed-life/chorus.npy')"
   ]
  },
  {
   "cell_type": "code",
   "execution_count": 132,
   "metadata": {},
   "outputs": [],
   "source": [
    "seed_np = np.load(file)[:seed_len]\n",
    "xb = torch.tensor(seed_np).cuda()[None]"
   ]
  },
  {
   "cell_type": "markdown",
   "metadata": {},
   "source": [
    "### Predict"
   ]
  },
  {
   "cell_type": "code",
   "execution_count": 133,
   "metadata": {},
   "outputs": [
    {
     "data": {
      "text/html": [
       "\n",
       "    <div>\n",
       "        <style>\n",
       "            /* Turns off some styling */\n",
       "            progress {\n",
       "                /* gets rid of default border in Firefox and Opera. */\n",
       "                border: none;\n",
       "                /* Needs to be in here for Safari polyfill so background images work as expected. */\n",
       "                background-size: auto;\n",
       "            }\n",
       "            .progress-bar-interrupted, .progress-bar-interrupted::-webkit-progress-bar {\n",
       "                background: #F44336;\n",
       "            }\n",
       "        </style>\n",
       "      <progress value='0' class='progress-bar-interrupted' max='340', style='width:300px; height:20px; vertical-align: middle;'></progress>\n",
       "      Interrupted\n",
       "    </div>\n",
       "    "
      ],
      "text/plain": [
       "<IPython.core.display.HTML object>"
      ]
     },
     "metadata": {},
     "output_type": "display_data"
    },
    {
     "name": "stdout",
     "output_type": "stream",
     "text": [
      "Predicted BOS token. Returning prediction...\n"
     ]
    }
   ],
   "source": [
    "out, seed = predict(learn, xb, n_words=340, temperature=1, min_p=0.01)"
   ]
  },
  {
   "cell_type": "markdown",
   "metadata": {},
   "source": [
    "### Actual prediction"
   ]
  },
  {
   "cell_type": "code",
   "execution_count": 150,
   "metadata": {},
   "outputs": [
    {
     "data": {
      "image/png": "[encoded data removed]",
      "text/plain": [
       "<IPython.core.display.Image object>"
      ]
     },
     "metadata": {
      "image/png": {
       "height": 328,
       "width": 751
      }
     },
     "output_type": "display_data"
    }
   ],
   "source": [
    "stream = pred2stream(out)\n",
    "stream.show()"
   ]
  },
  {
   "cell_type": "code",
   "execution_count": 151,
   "metadata": {},
   "outputs": [
    {
     "data": {
      "text/html": [
       "\n",
       "                <div id='midiPlayerDiv60421'></div>\n",
       "                <link rel=\"stylesheet\" href=\"//cuthbertLab.github.io/music21j/css/m21.css\"\n",
       "                    type=\"text/css\" />\n",
       "                <script>\n",
       "                require.config({\n",
       "                    paths: {'music21': '//cuthbertLab.github.io/music21j/src/music21'}\n",
       "                });\n",
       "                require(['music21'], function() {\n",
       "                               mp = new music21.miditools.MidiPlayer();\n",
       "                               mp.addPlayer('#midiPlayerDiv60421');\n",
       "                               mp.base64Load('data:audio/midi;base64,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');\n",
       "                        });\n",
       "                </script>"
      ],
      "text/plain": [
       "<IPython.core.display.HTML object>"
      ]
     },
     "metadata": {},
     "output_type": "display_data"
    }
   ],
   "source": [
    "stream.show('midi')"
   ]
  },
  {
   "cell_type": "markdown",
   "metadata": {},
   "source": [
    "## Seed"
   ]
  },
  {
   "cell_type": "code",
   "execution_count": 152,
   "metadata": {},
   "outputs": [
    {
     "data": {
      "image/png": "[encoded data removed]",
      "text/plain": [
       "<IPython.core.display.Image object>"
      ]
     },
     "metadata": {
      "image/png": {
       "height": 66,
       "width": 748
      }
     },
     "output_type": "display_data"
    }
   ],
   "source": [
    "seed_stream = pred2stream(seed)\n",
    "seed_stream.show()"
   ]
  },
  {
   "cell_type": "code",
   "execution_count": 153,
   "metadata": {},
   "outputs": [
    {
     "data": {
      "text/html": [
       "\n",
       "                <div id='midiPlayerDiv61643'></div>\n",
       "                <link rel=\"stylesheet\" href=\"//cuthbertLab.github.io/music21j/css/m21.css\"\n",
       "                    type=\"text/css\" />\n",
       "                <script>\n",
       "                require.config({\n",
       "                    paths: {'music21': '//cuthbertLab.github.io/music21j/src/music21'}\n",
       "                });\n",
       "                require(['music21'], function() {\n",
       "                               mp = new music21.miditools.MidiPlayer();\n",
       "                               mp.addPlayer('#midiPlayerDiv61643');\n",
       "                               mp.base64Load('data:audio/midi;base64,TVRoZAAAAAYAAQABBABNVHJrAAABXgD/AwVQaWFubwDAAADgAEAAwAAA/1EDB6EglACQN1qEAIA3AACQOVqEAIA5AACQO1qEAIA7AACQMFoAkDRaAJA3WgCQPFqIAJBAWoQAgEAAAJBDWoQAgDAAAIA0AACANwAAgDwAAIBDAACQNVoAkDlaAJA8WgCQQVqEAJBBWoQAgEEAAJBFWoQAgEUAAJBDWoQAgDUAAIA5AACAPAAAgEEAAJArWgCQL1oAkDJahACAQwAAkDdahACANwAAkDtahACAOwAAkD5ahACAKwAAgC8AAIAyAACAPgAAkDVaAJA5WgCQPFoAkEFahACQQVqEAIBBAACQQFqEAIBAAACQPlqEAIA1AACAOQAAgDwAAIBBAACAPgAAkDBaAJA0WgCQN1oAkDxaiACQQFqEAIBAAACQQ1qEAIAwAACANAAAgDcAAIA8AACAQwAAkDxaAJBBWpAAgDwAAIBBAIgA/y8A');\n",
       "                        });\n",
       "                </script>"
      ],
      "text/plain": [
       "<IPython.core.display.HTML object>"
      ]
     },
     "metadata": {},
     "output_type": "display_data"
    }
   ],
   "source": [
    "seed_stream.show('midi')"
   ]
  },
  {
   "cell_type": "markdown",
   "metadata": {},
   "source": [
    "## Alltogether now"
   ]
  },
  {
   "cell_type": "code",
   "execution_count": 156,
   "metadata": {},
   "outputs": [
    {
     "data": {
      "image/png": "[encoded data removed]",
      "text/plain": [
       "<IPython.core.display.Image object>"
      ]
     },
     "metadata": {
      "image/png": {
       "height": 462,
       "width": 753
      }
     },
     "output_type": "display_data"
    }
   ],
   "source": [
    "full_output = np.concatenate((seed,out), axis=0)\n",
    "full_stream = pred2stream(full_output)\n",
    "full_stream.show()"
   ]
  },
  {
   "cell_type": "code",
   "execution_count": 157,
   "metadata": {},
   "outputs": [
    {
     "data": {
      "text/html": [
       "\n",
       "                <div id='midiPlayerDiv69067'></div>\n",
       "                <link rel=\"stylesheet\" href=\"//cuthbertLab.github.io/music21j/css/m21.css\"\n",
       "                    type=\"text/css\" />\n",
       "                <script>\n",
       "                require.config({\n",
       "                    paths: {'music21': '//cuthbertLab.github.io/music21j/src/music21'}\n",
       "                });\n",
       "                require(['music21'], function() {\n",
       "                               mp = new music21.miditools.MidiPlayer();\n",
       "                               mp.addPlayer('#midiPlayerDiv69067');\n",
       "                               mp.base64Load('data:audio/midi;base64,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');\n",
       "                        });\n",
       "                </script>"
      ],
      "text/plain": [
       "<IPython.core.display.HTML object>"
      ]
     },
     "metadata": {},
     "output_type": "display_data"
    }
   ],
   "source": [
    "full_stream.show('midi')"
   ]
  }
 ],
 "metadata": {
  "kernelspec": {
   "display_name": "Python 3",
   "language": "python",
   "name": "python3"
  },
  "language_info": {
   "codemirror_mode": {
    "name": "ipython",
    "version": 3
   },
   "file_extension": ".py",
   "mimetype": "text/x-python",
   "name": "python",
   "nbconvert_exporter": "python",
   "pygments_lexer": "ipython3",
   "version": "3.7.2"
  }
 },
 "nbformat": 4,
 "nbformat_minor": 2
}

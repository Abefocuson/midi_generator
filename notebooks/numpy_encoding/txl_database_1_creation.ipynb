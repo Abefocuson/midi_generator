{
 "cells": [
  {
   "cell_type": "markdown",
   "metadata": {},
   "source": [
    "## Building flask api"
   ]
  },
  {
   "cell_type": "code",
   "execution_count": 1,
   "metadata": {},
   "outputs": [],
   "source": [
    "%reload_ext autoreload\n",
    "%autoreload 2\n",
    "%matplotlib inline"
   ]
  },
  {
   "cell_type": "code",
   "execution_count": 2,
   "metadata": {},
   "outputs": [],
   "source": [
    "import sys\n",
    "sys.path.insert(0, '../../')"
   ]
  },
  {
   "cell_type": "code",
   "execution_count": 3,
   "metadata": {},
   "outputs": [
    {
     "name": "stdout",
     "output_type": "stream",
     "text": [
      "Failed to load FluidSynth. Must install if you want to convert to wav files.\n"
     ]
    }
   ],
   "source": [
    "from src.serve import *"
   ]
  },
  {
   "cell_type": "code",
   "execution_count": 4,
   "metadata": {},
   "outputs": [],
   "source": [
    "np.set_printoptions(edgeitems=10, threshold=40, linewidth=200)"
   ]
  },
  {
   "cell_type": "code",
   "execution_count": 5,
   "metadata": {},
   "outputs": [],
   "source": [
    "data_dir = 'data/midi/v9/'\n",
    "source_dir = 'midi_encode/np/shortdur'\n",
    "\n",
    "file_path = Path('../../')\n",
    "path = file_path/data_dir/source_dir\n",
    "out_path = file_path/'data/generated/'"
   ]
  },
  {
   "cell_type": "code",
   "execution_count": 6,
   "metadata": {},
   "outputs": [],
   "source": [
    "encoded_path = file_path/'data/assets/cmajor/seed'"
   ]
  },
  {
   "cell_type": "markdown",
   "metadata": {},
   "source": [
    "## Learn config"
   ]
  },
  {
   "cell_type": "code",
   "execution_count": 7,
   "metadata": {},
   "outputs": [],
   "source": [
    "import hashlib\n",
    "import shutil"
   ]
  },
  {
   "cell_type": "code",
   "execution_count": 8,
   "metadata": {},
   "outputs": [],
   "source": [
    "def df2records(path):\n",
    "    df = pd.read_csv(path/'midi_encode.csv')\n",
    "    df = df.loc[df[source_dir].notna()] # make sure it exists\n",
    "    df = df.loc[df.source == 'hooktheory'] # hooktheory only\n",
    "    df = df.rename(index=str, columns={source_dir: 'numpy'}) # shortdur -> numpy\n",
    "    df = df.reindex(index=df.index[::-1]) # A's first\n",
    "    df = df.where((pd.notnull(df)), None) # nan values break json\n",
    "    return df.to_dict('records')"
   ]
  },
  {
   "cell_type": "code",
   "execution_count": 12,
   "metadata": {},
   "outputs": [],
   "source": [
    "def format_meta(s):\n",
    "    title = s['title'].title().replace('-', ' ')\n",
    "    artist = s['artist'].title().replace('-', ' ')\n",
    "    display = ' - '.join([title, artist])\n",
    "    if s.get('section'): display += ' - ' + s['section'].title()\n",
    "    sid = hashlib.md5(display.encode('utf-8')).hexdigest()\n",
    "    \n",
    "    json_data = {\n",
    "        'title': title,\n",
    "        'artist': artist,\n",
    "        'bpm': s['ht_bpm'],\n",
    "        'display': display,\n",
    "        'genres': s['genres'],\n",
    "        'sid': sid\n",
    "    }\n",
    "    source_file = file_path/data_dir/s['midi']\n",
    "#     key_file = str(source_file).replace('cmajor', 'original')\n",
    "    key_file = source_file\n",
    "    to_file = encoded_path/f'{sid[::-1]}.mid'\n",
    "    to_json = encoded_path/f'{sid[::-1]}.json'\n",
    "    if not to_file.exists():\n",
    "        shutil.copy(str(key_file), str(to_file))\n",
    "        with open(to_json, 'w') as jp:\n",
    "            json.dump(json_data, jp)\n",
    "    \n",
    "    return json_data"
   ]
  },
  {
   "cell_type": "code",
   "execution_count": 13,
   "metadata": {},
   "outputs": [],
   "source": [
    "def build_db(path):\n",
    "    recordlist = df2records(path)\n",
    "    htlist = [format_meta(s) for s in recordlist]\n",
    "    json_path = file_path/'data/assets/cmajor/json/htlist.json'\n",
    "    with open(json_path, 'w') as fp:\n",
    "        json.dump(htlist, fp, separators=(',', ':'))\n",
    "    return htlist"
   ]
  },
  {
   "cell_type": "code",
   "execution_count": 14,
   "metadata": {},
   "outputs": [],
   "source": [
    "htlist = build_db(path)"
   ]
  }
 ],
 "metadata": {
  "kernelspec": {
   "display_name": "Python 3",
   "language": "python",
   "name": "python3"
  },
  "language_info": {
   "codemirror_mode": {
    "name": "ipython",
    "version": 3
   },
   "file_extension": ".py",
   "mimetype": "text/x-python",
   "name": "python",
   "nbconvert_exporter": "python",
   "pygments_lexer": "ipython3",
   "version": "3.7.2"
  }
 },
 "nbformat": 4,
 "nbformat_minor": 2
}

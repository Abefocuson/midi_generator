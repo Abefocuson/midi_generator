{
 "cells": [
  {
   "cell_type": "markdown",
   "metadata": {},
   "source": [
    "# Attention Architecture"
   ]
  },
  {
   "cell_type": "code",
   "execution_count": 1,
   "metadata": {},
   "outputs": [],
   "source": [
    "%reload_ext autoreload\n",
    "%autoreload 2\n",
    "%matplotlib inline"
   ]
  },
  {
   "cell_type": "code",
   "execution_count": 2,
   "metadata": {},
   "outputs": [],
   "source": [
    "import music21"
   ]
  },
  {
   "cell_type": "code",
   "execution_count": 3,
   "metadata": {},
   "outputs": [],
   "source": [
    "# from fastai.text import *\n",
    "from enum import Enum\n",
    "import torch"
   ]
  },
  {
   "cell_type": "code",
   "execution_count": 4,
   "metadata": {},
   "outputs": [],
   "source": [
    "import numpy as np\n",
    "import torch.nn as nn"
   ]
  },
  {
   "cell_type": "code",
   "execution_count": 5,
   "metadata": {},
   "outputs": [],
   "source": [
    "np.set_printoptions(edgeitems=10, threshold=40, linewidth=200)"
   ]
  },
  {
   "cell_type": "code",
   "execution_count": 6,
   "metadata": {},
   "outputs": [],
   "source": [
    "import sys\n",
    "sys.path.insert(0, '../../')\n",
    "from src.fastai_data import *\n",
    "from src.encode_data import *\n",
    "from src.serve import *"
   ]
  },
  {
   "cell_type": "code",
   "execution_count": 7,
   "metadata": {},
   "outputs": [],
   "source": [
    "from src.music_transformer import *"
   ]
  },
  {
   "cell_type": "code",
   "execution_count": 8,
   "metadata": {},
   "outputs": [],
   "source": [
    "from src.msklm import *"
   ]
  },
  {
   "cell_type": "code",
   "execution_count": 9,
   "metadata": {},
   "outputs": [],
   "source": [
    "config = mlm_config(vocab)"
   ]
  },
  {
   "cell_type": "code",
   "execution_count": 10,
   "metadata": {},
   "outputs": [],
   "source": [
    "# config['n_layers'] = 2\n",
    "# # config['bptt'] = 512\n",
    "# config['bs'] = 8\n",
    "# config['mem_len'] = 32"
   ]
  },
  {
   "cell_type": "code",
   "execution_count": 11,
   "metadata": {},
   "outputs": [
    {
     "data": {
      "text/plain": [
       "{'ctx_len': 150,\n",
       " 'n_layers': 8,\n",
       " 'n_heads': 8,\n",
       " 'd_model': 512,\n",
       " 'd_head': 64,\n",
       " 'd_inner': 2048,\n",
       " 'resid_p': 0.1,\n",
       " 'attn_p': 0.1,\n",
       " 'ff_p': 0.1,\n",
       " 'embed_p': 0.1,\n",
       " 'output_p': 0.1,\n",
       " 'bias': True,\n",
       " 'scale': True,\n",
       " 'act': <Activation.GeLU: 3>,\n",
       " 'double_drop': True,\n",
       " 'tie_weights': True,\n",
       " 'out_bias': True,\n",
       " 'init': <function fastai.text.models.transformer.init_transformer(m)>,\n",
       " 'mem_len': 512,\n",
       " 'mask': True,\n",
       " 'pad_idx': 1,\n",
       " 'bos_idx': 0,\n",
       " 'sep_idx': 8,\n",
       " 'transpose_range': (0, 12),\n",
       " 'rand_transpose': True,\n",
       " 'rand_bptt': False,\n",
       " 'note_range': (9, 137),\n",
       " 'bs': 16,\n",
       " 'bptt': 256,\n",
       " 'vocab_size': 312}"
      ]
     },
     "execution_count": 11,
     "metadata": {},
     "output_type": "execute_result"
    }
   ],
   "source": [
    "config"
   ]
  },
  {
   "cell_type": "code",
   "execution_count": 12,
   "metadata": {},
   "outputs": [],
   "source": [
    "base_path = Path('../../data/midi/v18/sf4/')"
   ]
  },
  {
   "cell_type": "code",
   "execution_count": 13,
   "metadata": {},
   "outputs": [],
   "source": [
    "cache_name = 'tmp/hook_c'\n",
    "# cache_name = 'tmp/sample'"
   ]
  },
  {
   "cell_type": "markdown",
   "metadata": {},
   "source": [
    "## BERT Dataloading"
   ]
  },
  {
   "cell_type": "code",
   "execution_count": 14,
   "metadata": {},
   "outputs": [],
   "source": [
    "# dl_tfms = [partial(random_msklm_tfm, p_lm=1.0)]\n",
    "# # dl_tfms = [random_msklm_tfm]\n",
    "# msklm_data = MusicDataBunch.load(base_path/'piano_duet', cache_name=cache_name, vocab=vocab, \n",
    "#                               train_tfms=[to_single_stream], valid_tfms=[to_single_stream],\n",
    "#                               y_offset=1, dl_tfms=dl_tfms, **config)\n"
   ]
  },
  {
   "cell_type": "code",
   "execution_count": 15,
   "metadata": {},
   "outputs": [],
   "source": [
    "# xb,yb = msklm_data.one_batch();"
   ]
  },
  {
   "cell_type": "markdown",
   "metadata": {},
   "source": [
    "## Either or Data"
   ]
  },
  {
   "cell_type": "code",
   "execution_count": 16,
   "metadata": {},
   "outputs": [],
   "source": [
    "dl_tfms = [partial(mask_or_lm_tfm, p_lm=0.5)]\n",
    "# dl_tfms = [random_msklm_tfm]\n",
    "msklm_data = MusicDataBunch.load(base_path/'piano_duet', cache_name=cache_name, vocab=vocab, \n",
    "                              y_offset=1, dl_tfms=dl_tfms, **config)\n"
   ]
  },
  {
   "cell_type": "code",
   "execution_count": 17,
   "metadata": {},
   "outputs": [],
   "source": [
    "xb,yb = msklm_data.one_batch();"
   ]
  },
  {
   "cell_type": "code",
   "execution_count": 18,
   "metadata": {},
   "outputs": [
    {
     "data": {
      "text/plain": [
       "[None, tensor([[ 80, 149,   0,  ..., 145,  56, 145],\n",
       "         [ 80, 149,   0,  ..., 145,  56, 145],\n",
       "         [ 80, 149,   0,  ..., 145,  56, 145],\n",
       "         ...,\n",
       "         [ 80, 149,   0,  ..., 145,  56, 145],\n",
       "         [ 80, 149,   0,  ..., 145,  56, 145],\n",
       "         [ 80, 149,   0,  ..., 145,  56, 145]]), None, tensor([[-132, -132,    0,  ...,  -16,  -16,  -16],\n",
       "         [-132, -132,    0,  ...,  -16,  -16,  -16],\n",
       "         [-132, -132,    0,  ...,  -16,  -16,  -16],\n",
       "         ...,\n",
       "         [-132, -132,    0,  ...,  -16,  -16,  -16],\n",
       "         [-132, -132,    0,  ...,  -16,  -16,  -16],\n",
       "         [-132, -132,    0,  ...,  -16,  -16,  -16]])]"
      ]
     },
     "execution_count": 18,
     "metadata": {},
     "output_type": "execute_result"
    }
   ],
   "source": [
    "xb"
   ]
  },
  {
   "cell_type": "markdown",
   "metadata": {},
   "source": [
    "## S2S Dataloading"
   ]
  },
  {
   "cell_type": "code",
   "execution_count": 19,
   "metadata": {},
   "outputs": [
    {
     "data": {
      "text/plain": [
       "array([[0.],\n",
       "       [1.],\n",
       "       [1.],\n",
       "       [1.],\n",
       "       [1.]])"
      ]
     },
     "execution_count": 19,
     "metadata": {},
     "output_type": "execute_result"
    }
   ],
   "source": [
    "np.pad(np.ones((4,1)), [(1,0),(0,0)], 'constant')"
   ]
  },
  {
   "cell_type": "code",
   "execution_count": 20,
   "metadata": {},
   "outputs": [],
   "source": [
    "m2c_dl_tfms = [s2s_tfm]\n",
    "m2c_data = MusicDataBunch.load(base_path/'s2s_encode', cache_name=cache_name, \n",
    "                               preloader_cls=S2SPreloader, dl_tfms=m2c_dl_tfms,\n",
    "                               shuffle_dl=True, **config)\n",
    "\n",
    "c2m_dl_tfms = [partial(s2s_tfm, mlm_type=MLMType.C2M)]\n",
    "c2m_data = MusicDataBunch.load(base_path/'s2s_encode', cache_name=cache_name, \n",
    "                               preloader_cls=S2SPreloader, dl_tfms=c2m_dl_tfms,\n",
    "                               shuffle_dl=True, **config)"
   ]
  },
  {
   "cell_type": "code",
   "execution_count": 21,
   "metadata": {},
   "outputs": [
    {
     "data": {
      "text/plain": [
       "([torch.Size([16, 256]),\n",
       "  torch.Size([16, 256]),\n",
       "  torch.Size([16, 256]),\n",
       "  torch.Size([16, 256])],\n",
       " torch.Size([16, 256]))"
      ]
     },
     "execution_count": 21,
     "metadata": {},
     "output_type": "execute_result"
    }
   ],
   "source": [
    "m2c_data.train_dl.dl.dataset.on_epoch_begin()\n",
    "m2c_data.train_dl.dl.dataset.on_epoch_end()\n",
    "xb,yb = m2c_data.one_batch(); [x.shape for x in xb], yb[0].shape"
   ]
  },
  {
   "cell_type": "markdown",
   "metadata": {},
   "source": [
    "## Datasets"
   ]
  },
  {
   "cell_type": "code",
   "execution_count": 22,
   "metadata": {},
   "outputs": [],
   "source": [
    "datasets = [msklm_data, m2c_data, c2m_data]\n",
    "combined_data = CombinedData(datasets)\n",
    "\n",
    "# datasets = [nw_data]"
   ]
  },
  {
   "cell_type": "markdown",
   "metadata": {},
   "source": [
    "## MSKLM"
   ]
  },
  {
   "cell_type": "markdown",
   "metadata": {},
   "source": [
    "## Load"
   ]
  },
  {
   "cell_type": "code",
   "execution_count": 23,
   "metadata": {},
   "outputs": [],
   "source": [
    "# loss_func = CrossEntropyFlat(ignore_index=vocab.pad_idx)\n",
    "loss_func = MLMLoss()\n",
    "learn = mlm_model_learner(combined_data, config.copy(), \n",
    "# learn = mlm_model_learner(datasets[0], config.copy(), \n",
    "                           loss_func=loss_func)"
   ]
  },
  {
   "cell_type": "code",
   "execution_count": 24,
   "metadata": {},
   "outputs": [],
   "source": [
    "learn.metrics = [acc_ignore_pad, mask_acc, lm_acc, c2m_acc, m2c_acc]"
   ]
  },
  {
   "cell_type": "code",
   "execution_count": 25,
   "metadata": {},
   "outputs": [],
   "source": [
    "from fastai.callbacks.rnn import RNNTrainer\n",
    "learn.callbacks = [c for c in learn.callbacks if not isinstance(c, RNNTrainer)]\n",
    "learn.callbacks.append(MLMTrainer(learn))"
   ]
  },
  {
   "cell_type": "code",
   "execution_count": 26,
   "metadata": {},
   "outputs": [
    {
     "data": {
      "text/plain": [
       "[src.msklm.MLMTrainer]"
      ]
     },
     "execution_count": 26,
     "metadata": {},
     "output_type": "execute_result"
    }
   ],
   "source": [
    "[type(c) for c in learn.callbacks]"
   ]
  },
  {
   "cell_type": "code",
   "execution_count": 27,
   "metadata": {},
   "outputs": [],
   "source": [
    "learn = learn.to_fp16()"
   ]
  },
  {
   "cell_type": "markdown",
   "metadata": {},
   "source": [
    "### Training"
   ]
  },
  {
   "cell_type": "code",
   "execution_count": 32,
   "metadata": {},
   "outputs": [],
   "source": [
    "# learn.lr_find(num_it=500)\n",
    "# learn.recorder.plot()"
   ]
  },
  {
   "cell_type": "code",
   "execution_count": 33,
   "metadata": {
    "scrolled": true
   },
   "outputs": [
    {
     "data": {
      "text/plain": [
       "[5.877538, tensor(0.0174), tensor(0.0990), tensor(0.), tensor(0.), tensor(0.)]"
      ]
     },
     "execution_count": 33,
     "metadata": {},
     "output_type": "execute_result"
    }
   ],
   "source": [
    "learn.validate()"
   ]
  },
  {
   "cell_type": "code",
   "execution_count": 34,
   "metadata": {
    "scrolled": false
   },
   "outputs": [
    {
     "data": {
      "text/html": [
       "<table border=\"1\" class=\"dataframe\">\n",
       "  <thead>\n",
       "    <tr style=\"text-align: left;\">\n",
       "      <th>epoch</th>\n",
       "      <th>train_loss</th>\n",
       "      <th>valid_loss</th>\n",
       "      <th>acc_ignore_pad</th>\n",
       "      <th>mask_acc</th>\n",
       "      <th>lm_acc</th>\n",
       "      <th>c2m_acc</th>\n",
       "      <th>m2c_acc</th>\n",
       "      <th>time</th>\n",
       "    </tr>\n",
       "  </thead>\n",
       "  <tbody>\n",
       "    <tr>\n",
       "      <td>0</td>\n",
       "      <td>1.347190</td>\n",
       "      <td>1.435162</td>\n",
       "      <td>0.630273</td>\n",
       "      <td>0.570464</td>\n",
       "      <td>0.604596</td>\n",
       "      <td>0.620509</td>\n",
       "      <td>0.699876</td>\n",
       "      <td>04:36</td>\n",
       "    </tr>\n",
       "    <tr>\n",
       "      <td>1</td>\n",
       "      <td>1.096411</td>\n",
       "      <td>0.938729</td>\n",
       "      <td>0.713003</td>\n",
       "      <td>0.642254</td>\n",
       "      <td>0.654186</td>\n",
       "      <td>0.701591</td>\n",
       "      <td>0.814382</td>\n",
       "      <td>04:38</td>\n",
       "    </tr>\n",
       "  </tbody>\n",
       "</table>"
      ],
      "text/plain": [
       "<IPython.core.display.HTML object>"
      ]
     },
     "metadata": {},
     "output_type": "display_data"
    }
   ],
   "source": [
    "# try_pos again - max_norm 0.5\n",
    "learn.fit_one_cycle(2, 1e-3)"
   ]
  },
  {
   "cell_type": "code",
   "execution_count": 60,
   "metadata": {},
   "outputs": [],
   "source": [
    "learn.save('save_s2s_1')"
   ]
  },
  {
   "cell_type": "markdown",
   "metadata": {},
   "source": [
    "## Load sample train"
   ]
  },
  {
   "cell_type": "code",
   "execution_count": 28,
   "metadata": {},
   "outputs": [],
   "source": [
    "# load_path = base_path/'piano_duet/models/save_s2s_1.pth'\n",
    "# state = torch.load(load_path, map_location='cpu')\n",
    "# get_model(learn.model).load_state_dict(state['model'])\n",
    "# load_path"
   ]
  },
  {
   "cell_type": "code",
   "execution_count": 29,
   "metadata": {},
   "outputs": [],
   "source": [
    "# learn.load('sample_train')"
   ]
  },
  {
   "cell_type": "markdown",
   "metadata": {},
   "source": [
    "## Load existing"
   ]
  },
  {
   "cell_type": "code",
   "execution_count": 28,
   "metadata": {},
   "outputs": [
    {
     "data": {
      "text/plain": [
       "[PosixPath('../../data/midi/v18/sf4/piano_duet/models/mlm/hq/1_ep40_best.pth'),\n",
       " PosixPath('../../data/midi/v18/sf4/piano_duet/models/mlm/hq/2_ep60_best.pth'),\n",
       " PosixPath('../../data/midi/v18/sf4/piano_duet/models/mlm/hq/2_ep60.pth'),\n",
       " PosixPath('../../data/midi/v18/sf4/piano_duet/models/mlm/hq/3_ep40.pth'),\n",
       " PosixPath('../../data/midi/v18/sf4/piano_duet/models/mlm/hq/3_ep40_best.pth'),\n",
       " PosixPath('../../data/midi/v18/sf4/piano_duet/models/mlm/lq/1_ep24_best.pth'),\n",
       " PosixPath('../../data/midi/v18/sf4/piano_duet/models/mlm/lq/1_ep24.pth'),\n",
       " PosixPath('../../data/midi/v18/sf4/piano_duet/models/mlm/lq/2_ep16.pth'),\n",
       " PosixPath('../../data/midi/v18/sf4/piano_duet/models/mlm/lq/2_ep16_best.pth')]"
      ]
     },
     "execution_count": 28,
     "metadata": {},
     "output_type": "execute_result"
    }
   ],
   "source": [
    "saved_models = get_files(base_path/'piano_duet/models/mlm', recurse=True, extensions=['.pth']); saved_models"
   ]
  },
  {
   "cell_type": "code",
   "execution_count": 29,
   "metadata": {},
   "outputs": [],
   "source": [
    "load_path = saved_models[4]\n",
    "state = torch.load(load_path, map_location='cpu')\n",
    "m = get_model(learn.model)"
   ]
  },
  {
   "cell_type": "code",
   "execution_count": 30,
   "metadata": {},
   "outputs": [
    {
     "data": {
      "text/plain": [
       "PosixPath('../../data/midi/v18/sf4/piano_duet/models/mlm/hq/3_ep40_best.pth')"
      ]
     },
     "execution_count": 30,
     "metadata": {},
     "output_type": "execute_result"
    }
   ],
   "source": [
    "m.load_state_dict(state['model'])\n",
    "load_path"
   ]
  },
  {
   "cell_type": "markdown",
   "metadata": {},
   "source": [
    "## Prediction"
   ]
  },
  {
   "cell_type": "markdown",
   "metadata": {},
   "source": [
    "Prediction algo"
   ]
  },
  {
   "cell_type": "code",
   "execution_count": 31,
   "metadata": {},
   "outputs": [
    {
     "name": "stderr",
     "output_type": "stream",
     "text": [
      "/home/ubuntu/anaconda3/envs/midi/lib/python3.7/site-packages/IPython/core/interactiveshell.py:3049: DtypeWarning: Columns (0,1,2,9,10,12) have mixed types. Specify dtype option on import or set low_memory=False.\n",
      "  interactivity=interactivity, compiler=compiler, result=result)\n"
     ]
    },
    {
     "data": {
      "text/html": [
       "<div>\n",
       "<style scoped>\n",
       "    .dataframe tbody tr th:only-of-type {\n",
       "        vertical-align: middle;\n",
       "    }\n",
       "\n",
       "    .dataframe tbody tr th {\n",
       "        vertical-align: top;\n",
       "    }\n",
       "\n",
       "    .dataframe thead th {\n",
       "        text-align: right;\n",
       "    }\n",
       "</style>\n",
       "<table border=\"1\" class=\"dataframe\">\n",
       "  <thead>\n",
       "    <tr style=\"text-align: right;\">\n",
       "      <th></th>\n",
       "      <th>section</th>\n",
       "      <th>ht_key</th>\n",
       "      <th>song_url</th>\n",
       "      <th>midi</th>\n",
       "      <th>artist</th>\n",
       "      <th>md5</th>\n",
       "      <th>numpy</th>\n",
       "      <th>ht_offset</th>\n",
       "      <th>title</th>\n",
       "      <th>midi_title</th>\n",
       "      <th>parts</th>\n",
       "      <th>genres</th>\n",
       "      <th>mxl</th>\n",
       "      <th>source</th>\n",
       "      <th>ht_mode</th>\n",
       "      <th>ht_time_signature</th>\n",
       "      <th>ht_bpm</th>\n",
       "    </tr>\n",
       "  </thead>\n",
       "  <tbody>\n",
       "    <tr>\n",
       "      <th>193208</th>\n",
       "      <td>chorus</td>\n",
       "      <td>C</td>\n",
       "      <td>https://www.hooktheory.com/theorytab/view/ritc...</td>\n",
       "      <td>midi_sources/hooktheory/pianoroll/r/ritchie-va...</td>\n",
       "      <td>ritchie-valen</td>\n",
       "      <td>aeee134e4034e5f98bb630c56d2f7f8c</td>\n",
       "      <td>sf4/piano_duet/hooktheory/pianoroll/r/ritchie-...</td>\n",
       "      <td>0.0</td>\n",
       "      <td>la-bamba</td>\n",
       "      <td>La Bamba</td>\n",
       "      <td>chorus</td>\n",
       "      <td>Pop,Rock</td>\n",
       "      <td>NaN</td>\n",
       "      <td>hooktheory_c</td>\n",
       "      <td>1.0</td>\n",
       "      <td>4.0</td>\n",
       "      <td>144.0</td>\n",
       "    </tr>\n",
       "  </tbody>\n",
       "</table>\n",
       "</div>"
      ],
      "text/plain": [
       "       section ht_key                                           song_url  \\\n",
       "193208  chorus      C  https://www.hooktheory.com/theorytab/view/ritc...   \n",
       "\n",
       "                                                     midi         artist  \\\n",
       "193208  midi_sources/hooktheory/pianoroll/r/ritchie-va...  ritchie-valen   \n",
       "\n",
       "                                     md5  \\\n",
       "193208  aeee134e4034e5f98bb630c56d2f7f8c   \n",
       "\n",
       "                                                    numpy  ht_offset  \\\n",
       "193208  sf4/piano_duet/hooktheory/pianoroll/r/ritchie-...        0.0   \n",
       "\n",
       "           title midi_title   parts    genres  mxl        source  ht_mode  \\\n",
       "193208  la-bamba   La Bamba  chorus  Pop,Rock  NaN  hooktheory_c      1.0   \n",
       "\n",
       "        ht_time_signature  ht_bpm  \n",
       "193208                4.0   144.0  "
      ]
     },
     "execution_count": 31,
     "metadata": {},
     "output_type": "execute_result"
    }
   ],
   "source": [
    "csv_path = base_path/f'piano_duet/piano_duet.csv'\n",
    "csv = pd.read_csv(csv_path)\n",
    "df = csv.loc[csv['numpy'].notna()];\n",
    "\n",
    "# keywords = 'la bamba'.replace(' ', '|')\n",
    "title_filter = df['title'].str.contains('la-bamba')==True\n",
    "artist_filter = df['artist'].str.contains('')==True\n",
    "results = df[title_filter & artist_filter]; results.head()\n",
    "results = results[results.source == 'hooktheory_c']; results.head()"
   ]
  },
  {
   "cell_type": "code",
   "execution_count": 32,
   "metadata": {},
   "outputs": [
    {
     "data": {
      "text/plain": [
       "(PosixPath('../../data/midi/v18/sf4/piano_duet/hooktheory/pianoroll/r/ritchie-valen/la-bamba/chorus_key_cmajor.npy'),\n",
       " PosixPath('../../data/midi/v18/midi_sources/hooktheory/pianoroll/r/ritchie-valen/la-bamba/chorus_key_cmajor.mid'))"
      ]
     },
     "execution_count": 32,
     "metadata": {},
     "output_type": "execute_result"
    }
   ],
   "source": [
    "idx = 0\n",
    "file = base_path.parent/results.numpy.values[idx];\n",
    "orig = base_path.parent/results.midi.values[idx];\n",
    "file, orig"
   ]
  },
  {
   "cell_type": "code",
   "execution_count": 33,
   "metadata": {},
   "outputs": [],
   "source": [
    "seed_len = 40\n",
    "song_np = np.load(file)\n",
    "xb = torch.tensor(song_np[:seed_len])\n",
    "if torch.cuda.is_available(): xb = xb.cuda()"
   ]
  },
  {
   "cell_type": "code",
   "execution_count": 34,
   "metadata": {},
   "outputs": [
    {
     "data": {
      "text/plain": [
       "(322, 2)"
      ]
     },
     "execution_count": 34,
     "metadata": {},
     "output_type": "execute_result"
    }
   ],
   "source": [
    "song_np.shape"
   ]
  },
  {
   "cell_type": "code",
   "execution_count": 35,
   "metadata": {},
   "outputs": [],
   "source": [
    "# seed_stream = npenc2stream(seed_np)\n",
    "# seed_stream.show()"
   ]
  },
  {
   "cell_type": "code",
   "execution_count": 36,
   "metadata": {},
   "outputs": [],
   "source": [
    "self = learn\n",
    "self.model.reset()\n",
    "if xb.shape == 3: xb = xb[0]\n",
    "x = xb[:,0][None]\n",
    "pos = xb[:,1][None]"
   ]
  },
  {
   "cell_type": "code",
   "execution_count": 41,
   "metadata": {},
   "outputs": [],
   "source": [
    "\n",
    "def predict_nw(self, xb:Tensor, n_words:int=128,\n",
    "                 temperatures:float=(1.0,1.0), min_bars=4,\n",
    "                 top_k=40, top_p=0.9):\n",
    "    \"Return the `n_words` that come after `text`.\"\n",
    "    self.model.reset()\n",
    "    if xb.shape == 3: xb = xb[0]\n",
    "    x = xb[:,0][None]\n",
    "    pos = xb[:,1][None]\n",
    "#     xb_pos = xb[0,1][None]\n",
    "        \n",
    "    seed = x.cpu().numpy().squeeze()\n",
    "    yb = torch.ones_like(x)\n",
    "    new_idx = []\n",
    "    last_pos = pos[:, -1]\n",
    "    \n",
    "    sep_count = 0\n",
    "    bar_len = SAMPLE_FREQ * 4 # assuming 4/4 time\n",
    "    vocab = self.data.vocab\n",
    "\n",
    "    with torch.no_grad():\n",
    "        for i in progress_bar(range(n_words), leave=True):\n",
    "            res = self.pred_batch(batch=((None, x, None, pos),yb))[-1][-1]\n",
    "\n",
    "            # bar = 16 beats\n",
    "            if (sep_count // 16) <= min_bars: res[vocab.bos_idx] = 0.\n",
    "\n",
    "            # Use first temperatures value if last prediction was duration\n",
    "            temperature = temperatures[0] if (len(new_idx)==0 or self.data.vocab.is_duration(new_idx[-1])) else temperatures[1]\n",
    "            if temperature != 1.: res.pow_(1 / temperature)\n",
    "\n",
    "            res = top_k_top_p_filtering(res, top_k=top_k, top_p=top_p, filter_value=0)\n",
    "            idx = torch.multinomial(res, 1).item()\n",
    "\n",
    "            if new_idx and new_idx[-1]==vocab.sep_idx: \n",
    "                duration = idx - vocab.dur_range[0]\n",
    "                sep_count += duration\n",
    "#                 print('Updating positional encoding:', last_pos, last_pos - duration)\n",
    "                last_pos = last_pos - duration # position is negative\n",
    "#                 print('Bars', duration, sep_count // 16)\n",
    "\n",
    "            if idx==vocab.bos_idx: \n",
    "                print('Predicted BOS token. Returning prediction...')\n",
    "                break\n",
    "\n",
    "            new_idx.append(idx)\n",
    "            x = x.new_tensor([idx])[None]\n",
    "            pos = pos.new_tensor([last_pos])[None]\n",
    "    return np.array(new_idx), seed\n"
   ]
  },
  {
   "cell_type": "code",
   "execution_count": 42,
   "metadata": {},
   "outputs": [
    {
     "data": {
      "text/html": [
       "\n",
       "    <div>\n",
       "        <style>\n",
       "            /* Turns off some styling */\n",
       "            progress {\n",
       "                /* gets rid of default border in Firefox and Opera. */\n",
       "                border: none;\n",
       "                /* Needs to be in here for Safari polyfill so background images work as expected. */\n",
       "                background-size: auto;\n",
       "            }\n",
       "            .progress-bar-interrupted, .progress-bar-interrupted::-webkit-progress-bar {\n",
       "                background: #F44336;\n",
       "            }\n",
       "        </style>\n",
       "      <progress value='40' class='' max='40', style='width:300px; height:20px; vertical-align: middle;'></progress>\n",
       "      100.00% [40/40 00:00<00:00]\n",
       "    </div>\n",
       "    "
      ],
      "text/plain": [
       "<IPython.core.display.HTML object>"
      ]
     },
     "metadata": {},
     "output_type": "display_data"
    }
   ],
   "source": [
    "out_s, seed_s = predict_nw(learn, xb, n_words=40)"
   ]
  },
  {
   "cell_type": "code",
   "execution_count": 44,
   "metadata": {},
   "outputs": [
    {
     "data": {
      "text/plain": [
       "array([ 62, 145,   8, 139,  73, 139,   8, 139,  71, 139,   8, 139,  66, 139,   8, 139,  71, 145,  67, 145,  64, 145,\n",
       "        60, 145,   8, 143,  73, 138,   8, 138,  75, 138,   8, 138,  76, 138,  71, 145,  68, 145])"
      ]
     },
     "execution_count": 44,
     "metadata": {},
     "output_type": "execute_result"
    }
   ],
   "source": [
    "out_s"
   ]
  },
  {
   "cell_type": "code",
   "execution_count": 45,
   "metadata": {},
   "outputs": [
    {
     "data": {
      "text/plain": [
       "['n53',\n",
       " 'd8',\n",
       " 'xxsep',\n",
       " 'd2',\n",
       " 'n64',\n",
       " 'd2',\n",
       " 'xxsep',\n",
       " 'd2',\n",
       " 'n62',\n",
       " 'd2',\n",
       " 'xxsep',\n",
       " 'd2',\n",
       " 'n57',\n",
       " 'd2',\n",
       " 'xxsep',\n",
       " 'd2',\n",
       " 'n62',\n",
       " 'd8',\n",
       " 'n58',\n",
       " 'd8',\n",
       " 'n55',\n",
       " 'd8',\n",
       " 'n51',\n",
       " 'd8',\n",
       " 'xxsep',\n",
       " 'd6',\n",
       " 'n64',\n",
       " 'd1',\n",
       " 'xxsep',\n",
       " 'd1',\n",
       " 'n66',\n",
       " 'd1',\n",
       " 'xxsep',\n",
       " 'd1',\n",
       " 'n67',\n",
       " 'd1',\n",
       " 'n62',\n",
       " 'd8',\n",
       " 'n59',\n",
       " 'd8']"
      ]
     },
     "execution_count": 45,
     "metadata": {},
     "output_type": "execute_result"
    }
   ],
   "source": [
    "[vocab.itos[i] for i in out_s]"
   ]
  },
  {
   "cell_type": "code",
   "execution_count": 46,
   "metadata": {},
   "outputs": [
    {
     "data": {
      "image/png": "[encoded data removed]",
      "text/plain": [
       "<IPython.core.display.Image object>"
      ]
     },
     "metadata": {
      "image/png": {
       "height": 75,
       "width": 748
      }
     },
     "output_type": "display_data"
    }
   ],
   "source": [
    "stream = npenc2stream(to_double_stream(out_s))\n",
    "stream.show()"
   ]
  },
  {
   "cell_type": "code",
   "execution_count": 47,
   "metadata": {},
   "outputs": [
    {
     "data": {
      "text/html": [
       "\n",
       "                <div id='midiPlayerDiv584'></div>\n",
       "                <link rel=\"stylesheet\" href=\"//cuthbertLab.github.io/music21j/css/m21.css\"\n",
       "                    type=\"text/css\" />\n",
       "                <script>\n",
       "                require.config({\n",
       "                    paths: {'music21': '//cuthbertLab.github.io/music21j/src/music21'}\n",
       "                });\n",
       "                require(['music21'], function() {\n",
       "                               mp = new music21.miditools.MidiPlayer();\n",
       "                               mp.addPlayer('#midiPlayerDiv584');\n",
       "                               mp.base64Load('data:audio/midi;base64,TVRoZAAAAAYAAQABBABNVHJrAAAAkAD/AwVQaWFubwDAAADgAEAAwAAA/1EDB6EgAJA1WoQAkEBahACAQAAAkD5ahACAPgAAkDlahACANQAAgDkAAJAzWgCQN1oAkDpaAJA+WowAkEBaggCAQAAAkEJaggCAMwAAgDcAAIA6AACAPgAAgEIAAJBDWgCQO1oAkD5aggCAQwCOAIA7AACAPgCIAP8vAA==');\n",
       "                        });\n",
       "                </script>"
      ],
      "text/plain": [
       "<IPython.core.display.HTML object>"
      ]
     },
     "metadata": {},
     "output_type": "display_data"
    }
   ],
   "source": [
    "stream.show('midi')"
   ]
  },
  {
   "cell_type": "markdown",
   "metadata": {},
   "source": [
    "## Predict Seq2Seq"
   ]
  },
  {
   "cell_type": "code",
   "execution_count": 48,
   "metadata": {},
   "outputs": [
    {
     "name": "stderr",
     "output_type": "stream",
     "text": [
      "/home/ubuntu/anaconda3/envs/midi/lib/python3.7/site-packages/IPython/core/interactiveshell.py:3049: DtypeWarning: Columns (4,7,9,11,14,16) have mixed types. Specify dtype option on import or set low_memory=False.\n",
      "  interactivity=interactivity, compiler=compiler, result=result)\n"
     ]
    },
    {
     "data": {
      "text/html": [
       "<div>\n",
       "<style scoped>\n",
       "    .dataframe tbody tr th:only-of-type {\n",
       "        vertical-align: middle;\n",
       "    }\n",
       "\n",
       "    .dataframe tbody tr th {\n",
       "        vertical-align: top;\n",
       "    }\n",
       "\n",
       "    .dataframe thead th {\n",
       "        text-align: right;\n",
       "    }\n",
       "</style>\n",
       "<table border=\"1\" class=\"dataframe\">\n",
       "  <thead>\n",
       "    <tr style=\"text-align: right;\">\n",
       "      <th></th>\n",
       "      <th>ht_mode</th>\n",
       "      <th>title</th>\n",
       "      <th>genres</th>\n",
       "      <th>source</th>\n",
       "      <th>section</th>\n",
       "      <th>midi</th>\n",
       "      <th>artist</th>\n",
       "      <th>parts</th>\n",
       "      <th>ht_bpm</th>\n",
       "      <th>midi_title</th>\n",
       "      <th>ht_time_signature</th>\n",
       "      <th>ht_key</th>\n",
       "      <th>ht_offset</th>\n",
       "      <th>md5</th>\n",
       "      <th>song_url</th>\n",
       "      <th>numpy</th>\n",
       "      <th>mxl</th>\n",
       "    </tr>\n",
       "  </thead>\n",
       "  <tbody>\n",
       "    <tr>\n",
       "      <th>193164</th>\n",
       "      <td>1.0</td>\n",
       "      <td>la-bamba</td>\n",
       "      <td>Pop,Rock</td>\n",
       "      <td>hooktheory_c</td>\n",
       "      <td>chorus</td>\n",
       "      <td>midi_sources/hooktheory/pianoroll/r/ritchie-va...</td>\n",
       "      <td>ritchie-valen</td>\n",
       "      <td>chorus</td>\n",
       "      <td>144.0</td>\n",
       "      <td>La Bamba</td>\n",
       "      <td>4.0</td>\n",
       "      <td>C</td>\n",
       "      <td>0.0</td>\n",
       "      <td>aeee134e4034e5f98bb630c56d2f7f8c</td>\n",
       "      <td>https://www.hooktheory.com/theorytab/view/ritc...</td>\n",
       "      <td>sf4/s2s_encode/hooktheory/pianoroll/r/ritchie-...</td>\n",
       "      <td>NaN</td>\n",
       "    </tr>\n",
       "  </tbody>\n",
       "</table>\n",
       "</div>"
      ],
      "text/plain": [
       "        ht_mode     title    genres        source section  \\\n",
       "193164      1.0  la-bamba  Pop,Rock  hooktheory_c  chorus   \n",
       "\n",
       "                                                     midi         artist  \\\n",
       "193164  midi_sources/hooktheory/pianoroll/r/ritchie-va...  ritchie-valen   \n",
       "\n",
       "         parts  ht_bpm midi_title  ht_time_signature ht_key  ht_offset  \\\n",
       "193164  chorus   144.0   La Bamba                4.0      C        0.0   \n",
       "\n",
       "                                     md5  \\\n",
       "193164  aeee134e4034e5f98bb630c56d2f7f8c   \n",
       "\n",
       "                                                 song_url  \\\n",
       "193164  https://www.hooktheory.com/theorytab/view/ritc...   \n",
       "\n",
       "                                                    numpy  mxl  \n",
       "193164  sf4/s2s_encode/hooktheory/pianoroll/r/ritchie-...  NaN  "
      ]
     },
     "execution_count": 48,
     "metadata": {},
     "output_type": "execute_result"
    }
   ],
   "source": [
    "csv_path = base_path/f's2s_encode/s2s_encode.csv'\n",
    "csv = pd.read_csv(csv_path)\n",
    "df = csv.loc[csv['numpy'].notna()];\n",
    "\n",
    "# keywords = 'la bamba'.replace(' ', '|')\n",
    "title_filter = df['title'].str.contains('la-bamba')==True\n",
    "artist_filter = df['artist'].str.contains('')==True\n",
    "results = df[title_filter & artist_filter]; results.head()\n",
    "results = results[results.source == 'hooktheory_c']; results.head()"
   ]
  },
  {
   "cell_type": "code",
   "execution_count": 49,
   "metadata": {},
   "outputs": [
    {
     "data": {
      "text/plain": [
       "(PosixPath('../../data/midi/v18/sf4/s2s_encode/hooktheory/pianoroll/r/ritchie-valen/la-bamba/chorus_key_cmajor.npy'),\n",
       " PosixPath('../../data/midi/v18/midi_sources/hooktheory/pianoroll/r/ritchie-valen/la-bamba/chorus_key_cmajor.mid'))"
      ]
     },
     "execution_count": 49,
     "metadata": {},
     "output_type": "execute_result"
    }
   ],
   "source": [
    "idx = 0\n",
    "file = base_path.parent/results.numpy.values[idx];\n",
    "orig = base_path.parent/results.midi.values[idx];\n",
    "file, orig"
   ]
  },
  {
   "cell_type": "code",
   "execution_count": 50,
   "metadata": {},
   "outputs": [],
   "source": [
    "melody_np, chord_np = np.load(file, allow_pickle=True)"
   ]
  },
  {
   "cell_type": "code",
   "execution_count": 51,
   "metadata": {},
   "outputs": [
    {
     "data": {
      "image/png": "[encoded data removed]",
      "text/plain": [
       "<IPython.core.display.Image object>"
      ]
     },
     "metadata": {
      "image/png": {
       "height": 184,
       "width": 751
      }
     },
     "output_type": "display_data"
    }
   ],
   "source": [
    "npenc2stream(to_double_stream(melody_np[...,0])).show()"
   ]
  },
  {
   "cell_type": "code",
   "execution_count": 52,
   "metadata": {},
   "outputs": [
    {
     "data": {
      "text/plain": [
       "array([[   6,    0],\n",
       "       [   1,    0],\n",
       "       [   8,    0],\n",
       "       [ 147,    0],\n",
       "       ...,\n",
       "       [ 138, -145],\n",
       "       [  69, -146],\n",
       "       [ 141, -146],\n",
       "       [   2, -146]])"
      ]
     },
     "execution_count": 52,
     "metadata": {},
     "output_type": "execute_result"
    }
   ],
   "source": [
    "melody_np"
   ]
  },
  {
   "cell_type": "code",
   "execution_count": 53,
   "metadata": {},
   "outputs": [],
   "source": [
    "learn.model.reset()"
   ]
  },
  {
   "cell_type": "code",
   "execution_count": 62,
   "metadata": {},
   "outputs": [],
   "source": [
    "\n",
    "def predict_s2s(self, xb_msk:Tensor, xb_lm:Tensor, n_words:int=128,\n",
    "                temperatures:float=(1.0,1.0),\n",
    "                top_k=40, top_p=0.9):\n",
    "    self.model.reset()\n",
    "    \n",
    "    x_lm = xb_lm[0,:,0].tolist()\n",
    "    lm_pos = xb_lm[0,:,1].tolist()\n",
    "    last_pos = lm_pos[-1]\n",
    "    \n",
    "    x_enc = self.model.encoder(xb_msk[...,0], xb_msk[...,1])\n",
    "\n",
    "    for i in progress_bar(range(n_words), leave=True):\n",
    "        \n",
    "        # Next Word\n",
    "        x, pos = torch.tensor(x_lm, device=xb_lm.device)[None], torch.tensor(lm_pos, device=xb_lm.device)[None]\n",
    "        dec = self.model.decoder(x, pos, x_enc) # all tasks include mask decoding\n",
    "        res = F.softmax(self.model.head(dec), dim=-1)[-1, -1]\n",
    "\n",
    "        # Use first temperatures value if last prediction was duration\n",
    "        temperature = temperatures[0] if (len(x_lm)==0 or self.data.vocab.is_duration(x_lm[-1])) else temperatures[1]\n",
    "        if temperature != 1.: res.pow_(1 / temperature)\n",
    "\n",
    "        res = top_k_top_p_filtering(res, top_k=top_k, top_p=top_p, filter_value=0)\n",
    "        idx = torch.multinomial(res, 1).item()\n",
    "        #         idx = res.argmax()\n",
    "\n",
    "        if idx == vocab.bos_idx | idx == vocab.stoi[EOS]: \n",
    "            print('Predicting BOS/EOS')\n",
    "            break\n",
    "            \n",
    "        if x_lm and x_lm[-1]==vocab.sep_idx: \n",
    "            duration = idx - vocab.dur_range[0]\n",
    "#             sep_count += duration\n",
    "            print('Updating positional encoding:', last_pos, last_pos - duration)\n",
    "            last_pos = last_pos - duration # position is negative\n",
    "            \n",
    "        lm_pos.append(last_pos)\n",
    "        x_lm.append(idx)\n",
    "\n",
    "    return x_lm"
   ]
  },
  {
   "cell_type": "code",
   "execution_count": 63,
   "metadata": {},
   "outputs": [],
   "source": [
    "seed_len = 30\n",
    "xb_msk = torch.tensor(chord_np)[None].cuda()\n",
    "xb_lm = torch.tensor(melody_np[:seed_len])[None].cuda()"
   ]
  },
  {
   "cell_type": "code",
   "execution_count": 64,
   "metadata": {},
   "outputs": [
    {
     "data": {
      "text/plain": [
       "(torch.Size([1, 139, 2]), torch.Size([1, 30, 2]))"
      ]
     },
     "execution_count": 64,
     "metadata": {},
     "output_type": "execute_result"
    }
   ],
   "source": [
    "xb_msk.shape, xb_lm.shape"
   ]
  },
  {
   "cell_type": "code",
   "execution_count": 65,
   "metadata": {},
   "outputs": [
    {
     "data": {
      "text/html": [
       "\n",
       "    <div>\n",
       "        <style>\n",
       "            /* Turns off some styling */\n",
       "            progress {\n",
       "                /* gets rid of default border in Firefox and Opera. */\n",
       "                border: none;\n",
       "                /* Needs to be in here for Safari polyfill so background images work as expected. */\n",
       "                background-size: auto;\n",
       "            }\n",
       "            .progress-bar-interrupted, .progress-bar-interrupted::-webkit-progress-bar {\n",
       "                background: #F44336;\n",
       "            }\n",
       "        </style>\n",
       "      <progress value='128' class='' max='128', style='width:300px; height:20px; vertical-align: middle;'></progress>\n",
       "      100.00% [128/128 00:03<00:00]\n",
       "    </div>\n",
       "    "
      ],
      "text/plain": [
       "<IPython.core.display.HTML object>"
      ]
     },
     "metadata": {},
     "output_type": "display_data"
    },
    {
     "name": "stdout",
     "output_type": "stream",
     "text": [
      "Updating positional encoding: -24 -26\n",
      "Updating positional encoding: -26 -28\n",
      "Updating positional encoding: -28 -30\n",
      "Updating positional encoding: -30 -40\n",
      "Updating positional encoding: -40 -42\n",
      "Updating positional encoding: -42 -44\n",
      "Updating positional encoding: -44 -46\n",
      "Updating positional encoding: -46 -50\n",
      "Updating positional encoding: -50 -52\n",
      "Updating positional encoding: -52 -54\n",
      "Updating positional encoding: -54 -56\n",
      "Updating positional encoding: -56 -58\n",
      "Updating positional encoding: -58 -60\n",
      "Updating positional encoding: -60 -62\n",
      "Updating positional encoding: -62 -72\n",
      "Updating positional encoding: -72 -74\n",
      "Updating positional encoding: -74 -76\n",
      "Updating positional encoding: -76 -78\n",
      "Updating positional encoding: -78 -82\n",
      "Updating positional encoding: -82 -84\n",
      "Updating positional encoding: -84 -86\n",
      "Updating positional encoding: -86 -88\n",
      "Updating positional encoding: -88 -90\n",
      "Updating positional encoding: -90 -92\n",
      "Updating positional encoding: -92 -94\n",
      "Updating positional encoding: -94 -110\n",
      "Updating positional encoding: -110 -112\n",
      "Updating positional encoding: -112 -128\n",
      "Updating positional encoding: -128 -144\n",
      "Updating positional encoding: -144 -160\n",
      "Updating positional encoding: -160 -176\n",
      "Updating positional encoding: -176 -192\n"
     ]
    }
   ],
   "source": [
    "out = predict_s2s(learn, xb_msk, xb_lm)"
   ]
  },
  {
   "cell_type": "code",
   "execution_count": 66,
   "metadata": {},
   "outputs": [
    {
     "data": {
      "text/plain": [
       "[6,\n",
       " 1,\n",
       " 8,\n",
       " 147,\n",
       " 64,\n",
       " 139,\n",
       " 8,\n",
       " 139,\n",
       " 66,\n",
       " 139,\n",
       " 8,\n",
       " 139,\n",
       " 68,\n",
       " 139,\n",
       " 8,\n",
       " 139,\n",
       " 69,\n",
       " 141,\n",
       " 8,\n",
       " 141,\n",
       " 73,\n",
       " 139,\n",
       " 8,\n",
       " 139,\n",
       " 76,\n",
       " 139,\n",
       " 8,\n",
       " 139,\n",
       " 74,\n",
       " 139,\n",
       " 8,\n",
       " 139,\n",
       " 76,\n",
       " 139,\n",
       " 8,\n",
       " 139,\n",
       " 78,\n",
       " 139,\n",
       " 8,\n",
       " 139,\n",
       " 76,\n",
       " 145,\n",
       " 8,\n",
       " 147,\n",
       " 64,\n",
       " 139,\n",
       " 8,\n",
       " 139,\n",
       " 66,\n",
       " 139,\n",
       " 8,\n",
       " 139,\n",
       " 68,\n",
       " 139,\n",
       " 8,\n",
       " 139,\n",
       " 69,\n",
       " 141,\n",
       " 8,\n",
       " 141,\n",
       " 73,\n",
       " 139,\n",
       " 8,\n",
       " 139,\n",
       " 76,\n",
       " 139,\n",
       " 8,\n",
       " 139,\n",
       " 74,\n",
       " 139,\n",
       " 8,\n",
       " 139,\n",
       " 76,\n",
       " 139,\n",
       " 8,\n",
       " 139,\n",
       " 78,\n",
       " 139,\n",
       " 8,\n",
       " 139,\n",
       " 80,\n",
       " 139,\n",
       " 8,\n",
       " 139,\n",
       " 81,\n",
       " 147,\n",
       " 8,\n",
       " 147,\n",
       " 64,\n",
       " 139,\n",
       " 8,\n",
       " 139,\n",
       " 66,\n",
       " 139,\n",
       " 8,\n",
       " 139,\n",
       " 68,\n",
       " 139,\n",
       " 8,\n",
       " 139,\n",
       " 69,\n",
       " 141,\n",
       " 8,\n",
       " 141,\n",
       " 73,\n",
       " 139,\n",
       " 8,\n",
       " 139,\n",
       " 76,\n",
       " 139,\n",
       " 8,\n",
       " 139,\n",
       " 74,\n",
       " 139,\n",
       " 8,\n",
       " 139,\n",
       " 76,\n",
       " 139,\n",
       " 8,\n",
       " 139,\n",
       " 78,\n",
       " 139,\n",
       " 8,\n",
       " 139,\n",
       " 80,\n",
       " 139,\n",
       " 8,\n",
       " 139,\n",
       " 81,\n",
       " 153,\n",
       " 8,\n",
       " 153,\n",
       " 64,\n",
       " 139,\n",
       " 8,\n",
       " 139,\n",
       " 64,\n",
       " 153,\n",
       " 8,\n",
       " 153,\n",
       " 64,\n",
       " 153,\n",
       " 8,\n",
       " 153,\n",
       " 64,\n",
       " 153,\n",
       " 8,\n",
       " 153,\n",
       " 64,\n",
       " 153,\n",
       " 8,\n",
       " 153,\n",
       " 64,\n",
       " 153,\n",
       " 8,\n",
       " 153,\n",
       " 64,\n",
       " 153]"
      ]
     },
     "execution_count": 66,
     "metadata": {},
     "output_type": "execute_result"
    }
   ],
   "source": [
    "out"
   ]
  },
  {
   "cell_type": "code",
   "execution_count": 67,
   "metadata": {},
   "outputs": [
    {
     "data": {
      "image/png": "[encoded data removed]",
      "text/plain": [
       "<IPython.core.display.Image object>"
      ]
     },
     "metadata": {
      "image/png": {
       "height": 191,
       "width": 751
      }
     },
     "output_type": "display_data"
    }
   ],
   "source": [
    "z_str = to_double_stream(np.array(out))\n",
    "npenc2stream(z_str).show()"
   ]
  },
  {
   "cell_type": "code",
   "execution_count": 68,
   "metadata": {},
   "outputs": [
    {
     "data": {
      "text/html": [
       "\n",
       "                <div id='midiPlayerDiv7769'></div>\n",
       "                <link rel=\"stylesheet\" href=\"//cuthbertLab.github.io/music21j/css/m21.css\"\n",
       "                    type=\"text/css\" />\n",
       "                <script>\n",
       "                require.config({\n",
       "                    paths: {'music21': '//cuthbertLab.github.io/music21j/src/music21'}\n",
       "                });\n",
       "                require(['music21'], function() {\n",
       "                               mp = new music21.miditools.MidiPlayer();\n",
       "                               mp.addPlayer('#midiPlayerDiv7769');\n",
       "                               mp.base64Load('data:audio/midi;base64,TVRoZAAAAAYAAQABBABNVHJrAAABgAD/AwVQaWFubwDAAADgAEAAwAAA/1EDB6EglACQN1qEAIA3AACQOVqEAIA5AACQO1qEAIA7AACQPFqIAIA8AACQQFqEAIBAAACQQ1qEAIBDAACQQVqEAIBBAACQQ1qEAIBDAACQRVqEAIBFAACQQ1qQAIBDAIQAkDdahACANwAAkDlahACAOQAAkDtahACAOwAAkDxaiACAPAAAkEBahACAQAAAkENahACAQwAAkEFahACAQQAAkENahACAQwAAkEVahACARQAAkEdahACARwAAkEhalACASAAAkDdahACANwAAkDlahACAOQAAkDtahACAOwAAkDxaiACAPAAAkEBahACAQAAAkENahACAQwAAkEFahACAQQAAkENahACAQwAAkEVahACARQAAkEdahACARwAAkEhaoACASAAAkDdahACANwAAkDdaoACANwAAkDdaoACANwAAkDdaoACANwAAkDdaoACANwAAkDdaoACANwAAkDdaoACANwCIAP8vAA==');\n",
       "                        });\n",
       "                </script>"
      ],
      "text/plain": [
       "<IPython.core.display.HTML object>"
      ]
     },
     "metadata": {},
     "output_type": "display_data"
    }
   ],
   "source": [
    "npenc2stream(z_str).show('midi')"
   ]
  },
  {
   "cell_type": "code",
   "execution_count": 202,
   "metadata": {},
   "outputs": [],
   "source": [
    "yb_seed = yb[:,:3]\n",
    "pad = xb.shape[-1]-yb_seed.shape[-1]"
   ]
  },
  {
   "cell_type": "code",
   "execution_count": 203,
   "metadata": {},
   "outputs": [
    {
     "data": {
      "text/html": [
       "\n",
       "    <div>\n",
       "        <style>\n",
       "            /* Turns off some styling */\n",
       "            progress {\n",
       "                /* gets rid of default border in Firefox and Opera. */\n",
       "                border: none;\n",
       "                /* Needs to be in here for Safari polyfill so background images work as expected. */\n",
       "                background-size: auto;\n",
       "            }\n",
       "            .progress-bar-interrupted, .progress-bar-interrupted::-webkit-progress-bar {\n",
       "                background: #F44336;\n",
       "            }\n",
       "        </style>\n",
       "      <progress value='128' class='' max='128', style='width:300px; height:20px; vertical-align: middle;'></progress>\n",
       "      100.00% [128/128 00:07<00:00]\n",
       "    </div>\n",
       "    "
      ],
      "text/plain": [
       "<IPython.core.display.HTML object>"
      ]
     },
     "metadata": {},
     "output_type": "display_data"
    }
   ],
   "source": [
    "yb_out = predict_s2s(learn, xb, yb)"
   ]
  },
  {
   "cell_type": "code",
   "execution_count": 204,
   "metadata": {},
   "outputs": [
    {
     "data": {
      "text/plain": [
       "tensor([[  3,   5, 273,   8, 156,  64, 147,  61, 147,  57, 147,   8, 147,  61,\n",
       "         147,  57, 147,  54, 147,   8, 147,  64, 147,  61, 147,  57, 147,   8,\n",
       "         147,  59, 147,  56, 147,  52, 147,   8, 147,  64, 147,  61, 147,  57,\n",
       "         147,   8, 147,  61, 147,  57, 147,  54, 147,   8, 147,  64, 147,  61,\n",
       "         147,  57, 147,   8, 147,  59, 147,  56, 147,  52, 147,   8, 147,  64,\n",
       "         147,  61, 147,  57, 147,   8, 147,  61, 147,  57, 147,  54, 147,   8,\n",
       "         147,  64, 147,  61, 147,  57, 147,   8, 147,  59, 147,  56, 147,  52,\n",
       "         147,   8, 147,  64, 147,  61, 147,  57, 147,   8, 147,  61, 147,  57,\n",
       "         147,  54, 147,   8, 147,  64, 147,  61, 147,  57, 147,   8, 147,  59,\n",
       "         147,  56, 147,  52, 147,   8, 147,  64, 147,  61, 147,  57, 147]],\n",
       "       device='cuda:0')"
      ]
     },
     "execution_count": 204,
     "metadata": {},
     "output_type": "execute_result"
    }
   ],
   "source": [
    "yb_out"
   ]
  },
  {
   "cell_type": "code",
   "execution_count": 205,
   "metadata": {},
   "outputs": [],
   "source": [
    "yb_test = to_double_stream(yb_out.cpu().numpy()[:,1:])"
   ]
  },
  {
   "cell_type": "code",
   "execution_count": 206,
   "metadata": {},
   "outputs": [
    {
     "data": {
      "image/png": "[encoded data removed]",
      "text/plain": [
       "<IPython.core.display.Image object>"
      ]
     },
     "metadata": {
      "image/png": {
       "height": 49,
       "width": 748
      }
     },
     "output_type": "display_data"
    }
   ],
   "source": [
    "npenc2stream(yb_test).show()"
   ]
  },
  {
   "cell_type": "code",
   "execution_count": 207,
   "metadata": {},
   "outputs": [
    {
     "data": {
      "text/html": [
       "\n",
       "                <div id='midiPlayerDiv15025'></div>\n",
       "                <link rel=\"stylesheet\" href=\"//cuthbertLab.github.io/music21j/css/m21.css\"\n",
       "                    type=\"text/css\" />\n",
       "                <script>\n",
       "                require.config({\n",
       "                    paths: {'music21': '//cuthbertLab.github.io/music21j/src/music21'}\n",
       "                });\n",
       "                require(['music21'], function() {\n",
       "                               mp = new music21.miditools.MidiPlayer();\n",
       "                               mp.addPlayer('#midiPlayerDiv15025');\n",
       "                               mp.base64Load('data:audio/midi;base64,TVRoZAAAAAYAAQABBABNVHJrAAAByQD/AwVQaWFubwDAAADgAEAAwAAA/1EDB6EgoACQMFoAkDRaAJA3WpAAgDAAAIA0AACANwAAkC1aAJAwWgCQNFqQAIAtAACAMAAAgDQAAJAwWgCQNFoAkDdakACAMAAAgDQAAIA3AACQK1oAkC9aAJAyWpAAgCsAAIAvAACAMgAAkDBaAJA0WgCQN1qQAIAwAACANAAAgDcAAJAtWgCQMFoAkDRakACALQAAgDAAAIA0AACQMFoAkDRaAJA3WpAAgDAAAIA0AACANwAAkCtaAJAvWgCQMlqQAIArAACALwAAgDIAAJAwWgCQNFoAkDdakACAMAAAgDQAAIA3AACQLVoAkDBaAJA0WpAAgC0AAIAwAACANAAAkDBaAJA0WgCQN1qQAIAwAACANAAAgDcAAJArWgCQL1oAkDJakACAKwAAgC8AAIAyAACQMFoAkDRaAJA3WpAAgDAAAIA0AACANwAAkC1aAJAwWgCQNFqQAIAtAACAMAAAgDQAAJAwWgCQNFoAkDdakACAMAAAgDQAAIA3AACQK1oAkC9aAJAyWpAAgCsAAIAvAACAMgAAkDBaAJA0WgCQN1qQAIAwAACANAAAgDcAiAD/LwA=');\n",
       "                        });\n",
       "                </script>"
      ],
      "text/plain": [
       "<IPython.core.display.HTML object>"
      ]
     },
     "metadata": {},
     "output_type": "display_data"
    }
   ],
   "source": [
    "npenc2stream(yb_test).show('midi')"
   ]
  },
  {
   "cell_type": "code",
   "execution_count": null,
   "metadata": {},
   "outputs": [],
   "source": []
  }
 ],
 "metadata": {
  "kernelspec": {
   "display_name": "Python 3",
   "language": "python",
   "name": "python3"
  },
  "language_info": {
   "codemirror_mode": {
    "name": "ipython",
    "version": 3
   },
   "file_extension": ".py",
   "mimetype": "text/x-python",
   "name": "python",
   "nbconvert_exporter": "python",
   "pygments_lexer": "ipython3",
   "version": "3.7.3"
  }
 },
 "nbformat": 4,
 "nbformat_minor": 2
}

{
 "cells": [
  {
   "cell_type": "markdown",
   "metadata": {},
   "source": [
    "Scraper for http://www.piano-e-competition.com/"
   ]
  },
  {
   "cell_type": "markdown",
   "metadata": {},
   "source": [
    "Inspired by:  \n",
    "https://github.com/djosix/Performance-RNN-PyTorch/blob/794125a1d7f8fd22a1a976b43f52e1852bb7e346/dataset/scripts/ecomp_piano_downloader.sh"
   ]
  },
  {
   "cell_type": "code",
   "execution_count": 1,
   "metadata": {},
   "outputs": [],
   "source": [
    "import requests\n",
    "from bs4 import BeautifulSoup\n",
    "import os\n",
    "import time\n",
    "import json"
   ]
  },
  {
   "cell_type": "code",
   "execution_count": 2,
   "metadata": {},
   "outputs": [],
   "source": [
    "import re\n",
    "from pathlib import Path\n",
    "from midi_data import save_json, load_json"
   ]
  },
  {
   "cell_type": "code",
   "execution_count": 3,
   "metadata": {},
   "outputs": [],
   "source": [
    "base_url = 'http://www.piano-e-competition.com'\n",
    "urls = [\n",
    "    'http://www.piano-e-competition.com/ecompetition/midi_2002.asp',\n",
    "    'http://www.piano-e-competition.com/ecompetition/midi_2004.asp',\n",
    "    'http://www.piano-e-competition.com/ecompetition/midi_2006.asp',\n",
    "    'http://www.piano-e-competition.com/ecompetition/midi_2008.asp',\n",
    "    'http://www.piano-e-competition.com/ecompetition/midi_2009.asp',\n",
    "    'http://www.piano-e-competition.com/ecompetition/midi_2011.asp',\n",
    "    'http://www.piano-e-competition.com/ecompetition/midi_2013.asp',\n",
    "    'http://www.piano-e-competition.com/ecompetition/midi_2014.asp',\n",
    "    'http://www.piano-e-competition.com/ecompetition/midi_2015.asp',\n",
    "    'http://www.piano-e-competition.com/ecompetition/midi_2017.asp',\n",
    "    'http://www.piano-e-competition.com/ecompetition/midi_2018.asp'\n",
    "]"
   ]
  },
  {
   "cell_type": "code",
   "execution_count": 4,
   "metadata": {},
   "outputs": [],
   "source": [
    "path = Path('data/midi/original/ecomp')\n",
    "meta_path = path/'song_list.json'"
   ]
  },
  {
   "cell_type": "code",
   "execution_count": 5,
   "metadata": {},
   "outputs": [],
   "source": [
    "def get_link_data(link):\n",
    "    artist = str(link.parent.previous.previous)\n",
    "    title = link.text\n",
    "    midi_url = base_url + '/' + link.attrs['href']\n",
    "    return artist, title, midi_url"
   ]
  },
  {
   "cell_type": "code",
   "execution_count": 6,
   "metadata": {},
   "outputs": [],
   "source": [
    "def download_midi(url, out_file):\n",
    "    if out_file.exists(): return\n",
    "    r = requests.get(url)\n",
    "    open(out_file, 'wb').write(r.content)"
   ]
  },
  {
   "cell_type": "code",
   "execution_count": 7,
   "metadata": {},
   "outputs": [],
   "source": [
    "def download_links(midi_links, results):\n",
    "    for link in midi_links:\n",
    "        artist,title,midi_url = get_link_data(link)\n",
    "        filename = Path(midi_url).name\n",
    "        year = Path(url).with_suffix('').name[-4:]\n",
    "        out_file = path/year/filename\n",
    "        out_file.parent.mkdir(parents=True, exist_ok=True)\n",
    "        download_midi(midi_url, out_file)\n",
    "        results[filename] = { 'artist': artist, 'title': title, 'year': year }"
   ]
  },
  {
   "cell_type": "code",
   "execution_count": 8,
   "metadata": {},
   "outputs": [],
   "source": [
    "results = {}"
   ]
  },
  {
   "cell_type": "code",
   "execution_count": 9,
   "metadata": {},
   "outputs": [
    {
     "name": "stdout",
     "output_type": "stream",
     "text": [
      "Found: 122\n",
      "Found: 295\n",
      "Found: 347\n",
      "Found: 303\n",
      "Found: 331\n",
      "Found: 175\n",
      "Found: 159\n",
      "Found: 353\n",
      "Found: 178\n",
      "Found: 186\n",
      "Found: 305\n"
     ]
    }
   ],
   "source": [
    "for url in urls:\n",
    "    response_tmp = requests.get(url)\n",
    "    soup = BeautifulSoup(response_tmp.text, 'html.parser')\n",
    "    midi_links = soup.find_all('a', {'href': re.compile(r'\\.(mid|MID)')})\n",
    "    print('Found:', len(midi_links))\n",
    "    download_links(midi_links, results)"
   ]
  },
  {
   "cell_type": "code",
   "execution_count": 10,
   "metadata": {},
   "outputs": [],
   "source": [
    "save_json(results, meta_path)"
   ]
  },
  {
   "cell_type": "code",
   "execution_count": null,
   "metadata": {},
   "outputs": [],
   "source": [
    "results"
   ]
  }
 ],
 "metadata": {
  "kernelspec": {
   "display_name": "Python 3",
   "language": "python",
   "name": "python3"
  },
  "language_info": {
   "codemirror_mode": {
    "name": "ipython",
    "version": 3
   },
   "file_extension": ".py",
   "mimetype": "text/x-python",
   "name": "python",
   "nbconvert_exporter": "python",
   "pygments_lexer": "ipython3",
   "version": "3.7.1"
  }
 },
 "nbformat": 4,
 "nbformat_minor": 2
}

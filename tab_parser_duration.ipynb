{
 "cells": [
  {
   "cell_type": "code",
   "execution_count": 1,
   "metadata": {},
   "outputs": [],
   "source": [
    "%reload_ext autoreload\n",
    "%autoreload 2\n",
    "%matplotlib inline"
   ]
  },
  {
   "cell_type": "code",
   "execution_count": null,
   "metadata": {},
   "outputs": [],
   "source": [
    "from src.tab_parser import *"
   ]
  },
  {
   "cell_type": "code",
   "execution_count": 3,
   "metadata": {},
   "outputs": [],
   "source": [
    "# mode = int(metadata['mode']) if metadata['mode'] is not None else 1\n",
    "# beats_in_measure = int(metadata['beats_in_measure'])\n",
    "\n",
    "# melody, chord = segments_parser(segments, mode, beats_in_measure)"
   ]
  },
  {
   "cell_type": "code",
   "execution_count": 4,
   "metadata": {},
   "outputs": [],
   "source": [
    "from pathlib import Path"
   ]
  },
  {
   "cell_type": "code",
   "execution_count": 5,
   "metadata": {},
   "outputs": [],
   "source": [
    "version = 'v7'\n",
    "data_path = Path('data/midi')\n",
    "version_path = data_path/version\n",
    "orig_path = version_path/'midi_sources'"
   ]
  },
  {
   "cell_type": "code",
   "execution_count": 6,
   "metadata": {},
   "outputs": [],
   "source": [
    "from fastai.data_block import get_files"
   ]
  },
  {
   "cell_type": "code",
   "execution_count": 7,
   "metadata": {},
   "outputs": [],
   "source": [
    "h_path = orig_path/'hooktheory'"
   ]
  },
  {
   "cell_type": "code",
   "execution_count": 8,
   "metadata": {},
   "outputs": [
    {
     "data": {
      "text/plain": [
       "[PosixPath('data/midi/v7/midi_sources/hooktheory/xml/w/wayne-sharpe/yu-gi-oh-theme-song/chorus.xml'),\n",
       " PosixPath('data/midi/v7/midi_sources/hooktheory/xml/w/wayne-sharpe/yu-gi-oh-theme-song/intro.xml'),\n",
       " PosixPath('data/midi/v7/midi_sources/hooktheory/xml/w/what-a-day/kiefer/chorus.xml'),\n",
       " PosixPath('data/midi/v7/midi_sources/hooktheory/xml/w/whiteflame/senbonzakura/pre-chorus.xml'),\n",
       " PosixPath('data/midi/v7/midi_sources/hooktheory/xml/w/whiteflame/senbonzakura/verse.xml'),\n",
       " PosixPath('data/midi/v7/midi_sources/hooktheory/xml/w/whiteflame/senbonzakura/chorus.xml'),\n",
       " PosixPath('data/midi/v7/midi_sources/hooktheory/xml/w/wham/last-christmas/verse.xml'),\n",
       " PosixPath('data/midi/v7/midi_sources/hooktheory/xml/w/wham/last-christmas/chorus.xml'),\n",
       " PosixPath('data/midi/v7/midi_sources/hooktheory/xml/w/wham/last-christmas/intro.xml'),\n",
       " PosixPath('data/midi/v7/midi_sources/hooktheory/xml/w/wham/freedom/chorus.xml')]"
      ]
     },
     "execution_count": 8,
     "metadata": {},
     "output_type": "execute_result"
    }
   ],
   "source": [
    "files = get_files(h_path, extensions=['.xml'], recurse=True); files[:10]"
   ]
  },
  {
   "cell_type": "code",
   "execution_count": 9,
   "metadata": {},
   "outputs": [
    {
     "data": {
      "text/plain": [
       "[PosixPath('data/midi/v7/midi_sources/hooktheory/xml/i/idina-menzel/let-it-go/verse.xml'),\n",
       " PosixPath('data/midi/v7/midi_sources/hooktheory/xml/i/idina-menzel/let-it-go/intro-and-verse.xml')]"
      ]
     },
     "execution_count": 9,
     "metadata": {},
     "output_type": "execute_result"
    }
   ],
   "source": [
    "# Loading from specific file\n",
    "# keywords = ['get-lucky', 'daft-punk', 'pre-chorus']\n",
    "# keywords = ['skrillex', 'scary']\n",
    "keywords = ['idina', 'verse', 'let']\n",
    "# keywords = ['game-of-thrones', 'intro', 'ramin']\n",
    "# keywords = ['kiss-from-a-rose', 'seal']\n",
    "def contains_keywords(f): return all([k in str(f) for k in keywords])\n",
    "search = [f for f in files if contains_keywords(f)]; search"
   ]
  },
  {
   "cell_type": "code",
   "execution_count": 10,
   "metadata": {},
   "outputs": [],
   "source": [
    "# import pprint\n",
    "# file_path = search[0]\n",
    "# raw_info = proc_xml(file_path)\n",
    "# pprint.pprint(raw_info)"
   ]
  },
  {
   "cell_type": "markdown",
   "metadata": {},
   "source": [
    "Skrillex  \n",
    "G minor -> 9 offset -> C major\n",
    "\n",
    "minor = 5, G->C=\n",
    "\n",
    "Daft Punk  \n",
    "B dorian -> 2 offset -> C major\n",
    "\n",
    "Let it go  \n",
    "F minor -> 9 offset -> C major\n",
    "\n",
    "Game of thrones  \n",
    "C minor -> 9 offset -> C major"
   ]
  },
  {
   "cell_type": "code",
   "execution_count": 11,
   "metadata": {},
   "outputs": [],
   "source": [
    "file_path = search[0]\n",
    "content = load_data(file_path)\n",
    "root = xml_parser(content)\n",
    "metadata, version = get_metadata(root)\n",
    "segments, num_measures = get_lead_sheet(root, version)"
   ]
  },
  {
   "cell_type": "code",
   "execution_count": 13,
   "metadata": {},
   "outputs": [],
   "source": [
    "import music21"
   ]
  },
  {
   "cell_type": "markdown",
   "metadata": {},
   "source": [
    "### Create config file"
   ]
  },
  {
   "cell_type": "code",
   "execution_count": 14,
   "metadata": {},
   "outputs": [],
   "source": [
    "config_opts = dict(sustain=True, sep_octave=True, note_octave=4, chord_octave=3, \n",
    "              ts='4/4', ks=0, bpm=120, freq=4, pad_idx=-1, none_idx=0, sus_idx=2, hit_idx=1)\n",
    "\n",
    "class Config(object):\n",
    "    def __init__(self, d): self.__dict__ = d\n",
    "        \n",
    "config = Config(config_opts)"
   ]
  },
  {
   "cell_type": "markdown",
   "metadata": {},
   "source": [
    "### Constants"
   ]
  },
  {
   "cell_type": "code",
   "execution_count": 15,
   "metadata": {},
   "outputs": [],
   "source": [
    "MODE_TO_KEYOFFSET = {\n",
    "    '1': 0,\n",
    "    '2': 2,\n",
    "    '3': 4,\n",
    "    '4': 5,\n",
    "    '5': 7,\n",
    "    '6': 9,\n",
    "    '7': 11\n",
    "#     '5': -5,\n",
    "#     '6': -3,\n",
    "#     '7': -1\n",
    "}"
   ]
  },
  {
   "cell_type": "code",
   "execution_count": 16,
   "metadata": {},
   "outputs": [],
   "source": [
    "PITCH_TO_SD = {\n",
    "    0: '1',\n",
    "    1: '1#',\n",
    "    2: '2',\n",
    "    3: '2#',\n",
    "    4: '3',\n",
    "    5: '4',\n",
    "    6: '4#',\n",
    "    7: '5',\n",
    "    8: '5#',\n",
    "    9: '6',\n",
    "    10:'6#',\n",
    "    11:'7',\n",
    "}\n",
    "\n",
    "SD_TO_PITCH = {v:k for k,v in PITCH_TO_SD.items()}"
   ]
  },
  {
   "cell_type": "markdown",
   "metadata": {},
   "source": [
    "### Classes"
   ]
  },
  {
   "cell_type": "code",
   "execution_count": 17,
   "metadata": {},
   "outputs": [],
   "source": [
    "from dataclasses import dataclass\n",
    "import dataclasses\n",
    "from typing import Dict, Any, AnyStr, List, Sequence, TypeVar, Tuple, Optional, Union"
   ]
  },
  {
   "cell_type": "code",
   "execution_count": 18,
   "metadata": {},
   "outputs": [],
   "source": [
    "def parse(cls, d):\n",
    "    cls_keys = cls.__dataclass_fields__.keys()\n",
    "    kwargs = {key:d[key] for key in cls_keys}\n",
    "    return cls(**kwargs)\n",
    "\n",
    "@dataclass\n",
    "class Base:\n",
    "    @classmethod\n",
    "    def from_dict(cls, d):\n",
    "        cls_keys = cls.__dataclass_fields__.keys()\n",
    "        kwargs = {key:d[key] for key in cls_keys}\n",
    "        return cls(**kwargs)\n",
    "    \n",
    "    @classmethod\n",
    "    def parse(cls, d):\n",
    "        return cls.from_dict(d)"
   ]
  },
  {
   "cell_type": "code",
   "execution_count": 19,
   "metadata": {},
   "outputs": [],
   "source": [
    "@dataclass\n",
    "class HMetadata(Base):\n",
    "    title:str\n",
    "    BPM:str='120'\n",
    "    beats_in_measure:str='4'\n",
    "    key:str='C'\n",
    "    mode:str='1'"
   ]
  },
  {
   "cell_type": "code",
   "execution_count": 20,
   "metadata": {},
   "outputs": [],
   "source": [
    "@dataclass\n",
    "class HNote(Base):\n",
    "    beat_abs:float\n",
    "    measure:float\n",
    "    beat:float\n",
    "    duration:float\n",
    "    scale:str\n",
    "    octave: str\n",
    "        \n",
    "    def to_m21(self)->music21.note.Note:\n",
    "#         if self.scale_degree == 'rest': return None, None\n",
    "#             n = music21.note.Rest(quarterLength=note_length)\n",
    "        pitch = self.pitch() + 12*(int(self.octave)+config.note_octave)\n",
    "        n = music21.note.Note(pitch, quarterLength=self.duration)\n",
    "#         key.KeySignature(-1)\n",
    "        return n, float(self.beat_abs)\n",
    "    \n",
    "    def pitch(self):\n",
    "        return SD_TO_PITCH[self.scale]\n",
    "    \n",
    "    def end_time(self):\n",
    "        return self.duration + self.beat_abs\n",
    "    \n",
    "    @classmethod\n",
    "    def parse(cls, d, mode, key_offset):\n",
    "#         if key_offset > 5: key_offset = key_offset-12\n",
    "        parsed = roman_to_symbol.hnote_parser(d, mode, key_offset)\n",
    "        pitch = parsed['pitch']\n",
    "        scale_degree = PITCH_TO_SD[int((pitch) % 12)]\n",
    "        octave = (pitch // 12) + 1\n",
    "        m = {\n",
    "            'scale': scale_degree,\n",
    "            'octave': octave,\n",
    "            'duration': float(d['note_length']),\n",
    "            'measure': float(d['start_measure']),\n",
    "            'beat': float(d['start_beat']),\n",
    "            'beat_abs': float(d['start_beat_abs']),\n",
    "        }\n",
    "        return cls.from_dict({**d, **m})"
   ]
  },
  {
   "cell_type": "code",
   "execution_count": 72,
   "metadata": {},
   "outputs": [],
   "source": [
    "def last_comp(comp):\n",
    "    if comp is None: return config.none_idx\n",
    "    return int(comp[-1])\n",
    "\n",
    "@dataclass\n",
    "class HChord(Base):\n",
    "    # ht relative\n",
    "    scale:int\n",
    "    base:int\n",
    "    sus:int\n",
    "    \n",
    "    # ht tempo\n",
    "    duration:float # (AS) TODO: convert to float\n",
    "    measure:float\n",
    "    beat:float\n",
    "    beat_abs:float # (AS) TODO: convert to float\n",
    "        \n",
    "    # abs\n",
    "    symbol:str=None\n",
    "    quality:str=None\n",
    "    composition:List[int]\n",
    "        \n",
    "    def end_time(self):\n",
    "        return self.duration + self.beat_abs\n",
    "        \n",
    "    def to_m21(self)->music21.chord.Chord:\n",
    "        notes = [n+config.chord_octave*12 for n in self.composition]\n",
    "        c = music21.chord.Chord(notes, quarterLength=self.duration)\n",
    "        return c, float(self.beat_abs)\n",
    "\n",
    "    @classmethod\n",
    "    def parse(cls, d, mode, key_offset, reset_to_base=True):\n",
    "        parsed = roman_to_symbol.hchord_parser(d, mode, key_offset)\n",
    "        \n",
    "        # After offset, let's reset the chord to be the lowest possible offset on new scale\n",
    "        if reset_to_base:\n",
    "            reset_base = parsed['root'] - parsed['bass']\n",
    "            parsed = roman_to_symbol.chord_key_shifting(parsed, reset_base)\n",
    "            # reset chord name\n",
    "            parsed['symbol'] = roman_to_symbol.chord_to_string(parsed)\n",
    "        \n",
    "\n",
    "        \n",
    "        parsed['composition'] = parsed['composition'].astype(int).tolist()\n",
    "        \n",
    "        m = {\n",
    "            'scale': (int(d['sd']) - (1-int(mode))) % 8,\n",
    "            'base': last_comp(d['fb']),\n",
    "            'sus': last_comp(d['sus']),\n",
    "            'duration': float(d['chord_duration']),\n",
    "            'measure': float(d['start_measure']),\n",
    "            'beat': float(d['start_beat']),\n",
    "            'beat_abs': float(d['start_beat_abs']),\n",
    "        }\n",
    "        \n",
    "        return cls.from_dict({**parsed, **m})"
   ]
  },
  {
   "cell_type": "code",
   "execution_count": 73,
   "metadata": {},
   "outputs": [],
   "source": [
    "def default_stream(cls=music21.stream.Score, ts='4/4', bpm=120, ks=0):\n",
    "    # (AS) TODO: use config ts or metadata\n",
    "    s = cls()\n",
    "    s.append(music21.instrument.Piano())\n",
    "    s.append(music21.meter.TimeSignature(ts))\n",
    "    s.append(music21.tempo.MetronomeMark(number=bpm))\n",
    "#     s.append(music21.key.KeySignature(ks))\n",
    "    s.append(music21.key.Key('C'))\n",
    "    return s"
   ]
  },
  {
   "cell_type": "code",
   "execution_count": 74,
   "metadata": {},
   "outputs": [],
   "source": [
    "@dataclass\n",
    "class HPart(Base):\n",
    "    notes: List[HNote]\n",
    "    chords: List[HChord]\n",
    "        \n",
    "    @classmethod\n",
    "    def parse(cls, d, metadata):\n",
    "        mode = metadata['mode']\n",
    "        key_offset = MODE_TO_KEYOFFSET.get(mode, 0)\n",
    "        ns = [HNote.parse(n, mode, key_offset) for n in d.get('notes', []) if n['scale_degree'] != 'rest']\n",
    "        cs = [HChord.parse(c, mode, key_offset) for c in d.get('chords', []) if c['sd'] != 'rest']\n",
    "        return cls(notes=ns, chords=cs)\n",
    "    \n",
    "    \n",
    "    def duration(self):\n",
    "        c_last = self.chords[-1].end_time()\n",
    "        n_last = self.notes[-1].end_time()\n",
    "        return max(c_last, n_last)\n",
    "    \n",
    "    def to_m21(self)->music21.stream.Stream:\n",
    "        mc = music21.stream.Part()\n",
    "        mn = music21.stream.Part()\n",
    "        \n",
    "        cm21 = [c.to_m21() for c in self.chords]\n",
    "        for c,d in cm21: mc.insert(d,c)\n",
    "            \n",
    "        nm21 = [n.to_m21() for n in self.notes]\n",
    "        for n,d in nm21: mn.insert(d,n)\n",
    "        return mn, mc\n",
    "        \n",
    "    def min_pitch(self):\n",
    "        return min([n.pitch for n in self.notes])"
   ]
  },
  {
   "cell_type": "code",
   "execution_count": 75,
   "metadata": {},
   "outputs": [],
   "source": [
    "@dataclass\n",
    "class HSong(Base):\n",
    "    metadata: HMetadata\n",
    "    parts: List[HPart]\n",
    "    \n",
    "    @classmethod\n",
    "    def parse(cls, metadata, segments):\n",
    "        m = HMetadata.parse(metadata)\n",
    "        ps = [HPart.parse(s, metadata) for s in segments]\n",
    "        return cls(metadata=m, parts=ps)\n",
    "    \n",
    "    def duration(self):\n",
    "        return sum(p.duration() for p in self.parts)\n",
    "    \n",
    "    def to_stream(self):\n",
    "        s = default_stream()\n",
    "        pc = music21.stream.Part()\n",
    "        pn = music21.stream.Part()\n",
    "        \n",
    "        for p in self.parts:\n",
    "            mn, mc = p.to_m21()\n",
    "            pn.append(mn)\n",
    "            pc.append(mc)\n",
    "            \n",
    "        s.insert(0, pn)\n",
    "        s.insert(0, pc)\n",
    "\n",
    "#         s.flat.makeNotation(inPlace=True)\n",
    "        s = s.transpose(0) # hack to get accidentals right. Above method does not work\n",
    "        # music21 stream\n",
    "        return s"
   ]
  },
  {
   "cell_type": "code",
   "execution_count": 76,
   "metadata": {},
   "outputs": [],
   "source": [
    "from src import roman_to_symbol\n",
    "from src import to_pianoroll\n",
    "from collections import defaultdict\n",
    "from midi_data import keyc_offset"
   ]
  },
  {
   "cell_type": "code",
   "execution_count": 77,
   "metadata": {},
   "outputs": [],
   "source": [
    "import numpy as np"
   ]
  },
  {
   "cell_type": "code",
   "execution_count": 78,
   "metadata": {},
   "outputs": [],
   "source": [
    "# translator\n",
    "class Translator():\n",
    "    @classmethod\n",
    "    def to_numpy(cls, s:HSong):\n",
    "        pass\n",
    "    @classmethod\n",
    "    def to_song(cls, arr):\n",
    "        pass"
   ]
  },
  {
   "cell_type": "code",
   "execution_count": 79,
   "metadata": {},
   "outputs": [],
   "source": [
    "song = HSong.parse(metadata, segments)"
   ]
  },
  {
   "cell_type": "code",
   "execution_count": 80,
   "metadata": {},
   "outputs": [],
   "source": [
    "stream = song.to_stream()"
   ]
  },
  {
   "cell_type": "code",
   "execution_count": 81,
   "metadata": {},
   "outputs": [
    {
     "data": {
      "image/png": "[encoded data removed]",
      "text/plain": [
       "<IPython.core.display.Image object>"
      ]
     },
     "metadata": {
      "image/png": {
       "height": 532,
       "width": 753
      }
     },
     "output_type": "display_data"
    }
   ],
   "source": [
    "stream.show()"
   ]
  },
  {
   "cell_type": "code",
   "execution_count": 82,
   "metadata": {},
   "outputs": [
    {
     "data": {
      "text/html": [
       "\n",
       "                <div id='midiPlayerDiv6494'></div>\n",
       "                <link rel=\"stylesheet\" href=\"//cuthbertLab.github.io/music21j/css/m21.css\"\n",
       "                    type=\"text/css\" />\n",
       "                <script>\n",
       "                require.config({\n",
       "                    paths: {'music21': '//cuthbertLab.github.io/music21j/src/music21'}\n",
       "                });\n",
       "                require(['music21'], function() {\n",
       "                               mp = new music21.miditools.MidiPlayer();\n",
       "                               mp.addPlayer('#midiPlayerDiv6494');\n",
       "                               mp.base64Load('data:audio/midi;base64,TVRoZAAAAAYAAQACBABNVHJrAAACCwD/AwAA4ABAAP9RAwehIJwAkD5ahACAPgAAkEBaiACAQAAAkEBaiACAQAAAkEBaiACAQAAAkEBahACAQAAAkEBahACAQAAAkEBahACAQAAAkD5ahACAPgAAkDxahACAPAAAkDxaiACAPACEAJA8WoQAgDwAAJA8WoQAgDwAAJA+WoQAgD4AAJA+WpAAgD4AAJA8WoQAgDwAAJA7WoQAgDsAAJA5WpQAgDkAjACQOVqEAIA5AACQQFqEAIBAAACQQFqEAIBAAACQQFqEAIBAAACQQFqMAIBAAACQQ1qEAIBDAACQQ1qIAIBDAACQQFqMAIBAAIgAkDxahACAPAAAkDxahACAPAAAkD5ahACAPgAAkEBaiACAQACIAJA+WoQAgD4AAJA8WoQAgDwAAJA+WogAgD4AiACQQFqEAIBAAACQQFqIAIBAAACQQ1qIAIBDAACQRVqIAIBFAACQQ1qIAIBDAACQQFqIAIBAAACQQ1qIAIBDAACQQ1qIAIBDAACQQ1qIAIBDAACQQVqIAIBBAACQQFqIAIBAAACQQVqEAIBBAACQQFqYAIBAAJAAkEBahACAQAAAkEBahACAQAAAkD5ahACAPgAAkDxaiACAPAAAkD5aiACAPgCEAJBAWoQAgEAAAJBAWoQAgEAAAJA+WogAgD4AAJA8WpAAgDwAAJA5WqQAgDkAiAD/LwBNVHJrAAACOgD/AwAA4ABAAJAmWgCQK1oAkC1akACAJgAAgCsAAIAtAACQJloAkCpaAJAtWpAAgCYAAIAqAACALQAAkC1aAJAwWgCQNFqgAIAtAACAMAAAgDQAAJApWgCQLVoAkDBaAJA0WqAAgCkAAIAtAACAMAAAgDQAAJArWgCQL1oAkDJaoACAKwAAgC8AAIAyAACQJloAkCtaAJAtWpAAgCYAAIArAACALQAAkCZaAJApWgCQLVqQAIAmAACAKQAAgC0AAJAtWgCQMFoAkDRaoACALQAAgDAAAIA0AACQKVoAkC1aAJAwWgCQNFqgAIApAACALQAAgDAAAIA0AACQK1oAkC9aAJAyWqAAgCsAAIAvAACAMgAAkCZaAJArWgCQLVqQAIAmAACAKwAAgC0AAJAmWgCQKloAkC1akACAJgAAgCoAAIAtAACQLVoAkDBaAJA0WqAAgC0AAIAwAACANAAAkClaAJAtWgCQMFoAkDRaoACAKQAAgC0AAIAwAACANAAAkCtaAJAvWgCQMlqgAIArAACALwAAgDIAAJAmWgCQK1oAkC1akACAJgAAgCsAAIAtAACQJloAkClaAJAtWpAAgCYAAIApAACALQAAkC1aAJAwWgCQNFqcAIAtAACAMAAAgDQAAJAxWgCQKFoAkCxaAJAvWqQAgDEAAIAoAACALAAAgC8AAJArWgCQJloAkDJaoACAKwAAgCYAAIAyAACQJloAkCpaAJAtWqAAgCYAAIAqAACALQCIAP8vAA==');\n",
       "                        });\n",
       "                </script>"
      ],
      "text/plain": [
       "<IPython.core.display.HTML object>"
      ]
     },
     "metadata": {},
     "output_type": "display_data"
    }
   ],
   "source": [
    "stream.show('midi')"
   ]
  },
  {
   "cell_type": "markdown",
   "metadata": {},
   "source": [
    "Notes: \n",
    "1. need to check normal duration - can we just use sample frequency of 2?\n",
    "2. need to check if chords are played in the notes section\n"
   ]
  },
  {
   "cell_type": "markdown",
   "metadata": {},
   "source": [
    "### Encoding"
   ]
  },
  {
   "cell_type": "code",
   "execution_count": 83,
   "metadata": {},
   "outputs": [],
   "source": [
    "# song.parts"
   ]
  },
  {
   "cell_type": "code",
   "execution_count": 84,
   "metadata": {},
   "outputs": [],
   "source": [
    "import numpy as np"
   ]
  },
  {
   "cell_type": "code",
   "execution_count": 85,
   "metadata": {},
   "outputs": [],
   "source": [
    "max_len = int(song.duration()*config.freq)"
   ]
  },
  {
   "cell_type": "code",
   "execution_count": 86,
   "metadata": {},
   "outputs": [
    {
     "data": {
      "text/plain": [
       "(272, 9)"
      ]
     },
     "execution_count": 86,
     "metadata": {},
     "output_type": "execute_result"
    }
   ],
   "source": [
    "# num_comp = (pitch x octave x sustain) x (chord_sd x base x suspend, sustain) x (bar_position x beat_pos)\n",
    "# timesteps x num_comp\n",
    "sequence = np.zeros((max_len, 9)); sequence.shape"
   ]
  },
  {
   "cell_type": "code",
   "execution_count": 87,
   "metadata": {},
   "outputs": [],
   "source": [
    "part = song.parts[1]"
   ]
  },
  {
   "cell_type": "code",
   "execution_count": 88,
   "metadata": {},
   "outputs": [
    {
     "data": {
      "text/plain": [
       "32.0"
      ]
     },
     "execution_count": 88,
     "metadata": {},
     "output_type": "execute_result"
    }
   ],
   "source": [
    "part.duration()"
   ]
  },
  {
   "cell_type": "code",
   "execution_count": 89,
   "metadata": {},
   "outputs": [],
   "source": [
    "max_len = int(part.duration()*config.freq)\n",
    "sequence = np.zeros((max_len, 9))\n",
    "sequence[:, -2] = np.tile(np.arange(4).repeat(config.freq), int(part.duration())//4)"
   ]
  },
  {
   "cell_type": "code",
   "execution_count": 90,
   "metadata": {},
   "outputs": [
    {
     "data": {
      "text/plain": [
       "(128, 9)"
      ]
     },
     "execution_count": 90,
     "metadata": {},
     "output_type": "execute_result"
    }
   ],
   "source": [
    "sequence.shape"
   ]
  },
  {
   "cell_type": "code",
   "execution_count": 91,
   "metadata": {},
   "outputs": [
    {
     "data": {
      "text/plain": [
       "array([0, 0, 0, 0, 1, 1, 1, 1, 2, 2, 2, 2, 3, 3, 3, 3])"
      ]
     },
     "execution_count": 91,
     "metadata": {},
     "output_type": "execute_result"
    }
   ],
   "source": [
    "np.arange(4).repeat(config.freq)"
   ]
  },
  {
   "cell_type": "code",
   "execution_count": 92,
   "metadata": {},
   "outputs": [],
   "source": [
    "def enc_part(part):\n",
    "    '(pitch x octave x sustain) x (chord_sd x base x suspend, sustain) x (bar_position x beat_pos)'\n",
    "    max_len = int(part.duration()*config.freq)\n",
    "    sequence = np.full((max_len, 9), fill_value=config.pad_idx)\n",
    "    \n",
    "    # beat_pos\n",
    "    sequence[:, -2] = np.tile(np.arange(4).repeat(config.freq), int(part.duration())//4)\n",
    "    # bar_pos\n",
    "    sequence[:, -1] = np.arange(part.duration()//4).repeat(config.freq*4)\n",
    "    \n",
    "    \n",
    "    for n in part.notes:\n",
    "        start = n.beat_abs * config.freq\n",
    "        duration = n.duration * config.freq\n",
    "        assert(start.is_integer() and duration.is_integer())\n",
    "        sequence[int(start),0:3] = n.pitch(), n.octave, duration\n",
    "        \n",
    "    for c in part.chords:\n",
    "        start = c.beat_abs * config.freq\n",
    "        duration = c.duration * config.freq\n",
    "        assert(start.is_integer() and duration.is_integer())\n",
    "        sequence[int(start),3:7] = c.scale, c.base, c.sus, duration\n",
    "    return sequence"
   ]
  },
  {
   "cell_type": "code",
   "execution_count": 93,
   "metadata": {},
   "outputs": [],
   "source": [
    "eps = [enc_part(p) for p in song.parts]"
   ]
  },
  {
   "cell_type": "code",
   "execution_count": 94,
   "metadata": {},
   "outputs": [],
   "source": [
    "full_song = np.concatenate(eps)"
   ]
  },
  {
   "cell_type": "code",
   "execution_count": 109,
   "metadata": {},
   "outputs": [
    {
     "data": {
      "text/plain": [
       "array([[ 4,  1,  4,  6, ...,  0, 16,  0,  0],\n",
       "       [-1, -1, -1, -1, ..., -1, -1,  0,  0],\n",
       "       [-1, -1, -1, -1, ..., -1, -1,  0,  0],\n",
       "       [-1, -1, -1, -1, ..., -1, -1,  0,  0],\n",
       "       ...,\n",
       "       [-1, -1, -1, -1, ..., -1, -1,  3,  7],\n",
       "       [-1, -1, -1, -1, ..., -1, -1,  3,  7],\n",
       "       [-1, -1, -1, -1, ..., -1, -1,  3,  7],\n",
       "       [-1, -1, -1, -1, ..., -1, -1,  3,  7]])"
      ]
     },
     "execution_count": 109,
     "metadata": {},
     "output_type": "execute_result"
    }
   ],
   "source": [
    "ep = enc_part(part); ep"
   ]
  },
  {
   "cell_type": "code",
   "execution_count": 110,
   "metadata": {},
   "outputs": [],
   "source": [
    "    scale:int\n",
    "    base:int\n",
    "    sus:int\n",
    "    \n",
    "    # ht tempo\n",
    "    duration:float # (AS) TODO: convert to float\n",
    "    measure:float\n",
    "    beat:float\n",
    "    beat_abs:float # (AS) TODO: convert to float\n",
    "        \n",
    "    # abs\n",
    "    symbol:str\n",
    "    quality:str\n",
    "    composition:List[int]"
   ]
  },
  {
   "cell_type": "code",
   "execution_count": 111,
   "metadata": {},
   "outputs": [],
   "source": [
    "def dec_note(ts, beat_abs):\n",
    "    p,o,dur = ts[:3]\n",
    "    \n",
    "    beat, measure = ts[-2:] if ts.shape[0] == 9 else None, None\n",
    "    note = HNote(octave=o, duration=dur/config.freq, scale=PITCH_TO_SD[p],\n",
    "                 beat_abs=beat_abs/config.freq, beat=beat, measure=measure)\n",
    "    return note\n",
    "\n",
    "def dec_chord(ts, beat_abs):\n",
    "    sd,base,sus,dur = ts[3:7]\n",
    "    \n",
    "    beat, measure = ts[-2:] if ts.shape[0] == 9 else None, None\n",
    "    \n",
    "    chord = HChord(scale=sd, base=base, sus=sus, duration=dur/config.freq,\n",
    "                 beat_abs=beat_abs/config.freq, beat=beat, measure=measure)\n",
    "    return chord\n",
    "\n",
    "def dec_part(part):\n",
    "    '(pitch x octave x sustain) x (chord_sd x base x suspend, sustain) x (bar_position x beat_pos)'\n",
    "    notes = [dec_note(ts,idx) for idx,ts in enumerate(part) if ts[0] != -1]\n",
    "    chords = [dec_chord(ts,idx) for idx,ts in enumerate(part) if ts[3] != -1]\n",
    "    \n",
    "    return HPart(notes=notes, chords=chords)"
   ]
  },
  {
   "cell_type": "code",
   "execution_count": 112,
   "metadata": {},
   "outputs": [
    {
     "data": {
      "text/plain": [
       "HChord(scale=6, base=0, sus=0, duration=4.0, measure=1.0, beat=1.0, beat_abs=0.0, symbol='am', quality='m', composition=[9, 12, 16])"
      ]
     },
     "execution_count": 112,
     "metadata": {},
     "output_type": "execute_result"
    }
   ],
   "source": [
    "part.chords[0]"
   ]
  },
  {
   "cell_type": "code",
   "execution_count": 113,
   "metadata": {},
   "outputs": [
    {
     "data": {
      "text/plain": [
       "array([ 4,  1,  4,  6,  0,  0, 16,  0,  0])"
      ]
     },
     "execution_count": 113,
     "metadata": {},
     "output_type": "execute_result"
    }
   ],
   "source": [
    "ep[0]"
   ]
  },
  {
   "cell_type": "code",
   "execution_count": 152,
   "metadata": {},
   "outputs": [],
   "source": [
    "sd,fb,sus,dur = ep[0][3:7]\n",
    "fb = None if fb == 0 else fb\n",
    "sus = None if sus == 0 else sus"
   ]
  },
  {
   "cell_type": "code",
   "execution_count": 153,
   "metadata": {},
   "outputs": [
    {
     "ename": "KeyError",
     "evalue": "'alternate'",
     "output_type": "error",
     "traceback": [
      "\u001b[0;31m---------------------------------------------------------------------------\u001b[0m",
      "\u001b[0;31mKeyError\u001b[0m                                  Traceback (most recent call last)",
      "\u001b[0;32m<ipython-input-153-4cf76092b292>\u001b[0m in \u001b[0;36m<module>\u001b[0;34m\u001b[0m\n\u001b[1;32m     11\u001b[0m \u001b[0;34m\u001b[0m\u001b[0m\n\u001b[1;32m     12\u001b[0m }\n\u001b[0;32m---> 13\u001b[0;31m \u001b[0mHChord\u001b[0m\u001b[0;34m.\u001b[0m\u001b[0mparse\u001b[0m\u001b[0;34m(\u001b[0m\u001b[0md\u001b[0m\u001b[0;34m,\u001b[0m \u001b[0mmode\u001b[0m\u001b[0;34m=\u001b[0m\u001b[0;34m'1'\u001b[0m\u001b[0;34m,\u001b[0m \u001b[0mkey_offset\u001b[0m\u001b[0;34m=\u001b[0m\u001b[0;36m0\u001b[0m\u001b[0;34m,\u001b[0m \u001b[0mreset_to_base\u001b[0m\u001b[0;34m=\u001b[0m\u001b[0;32mFalse\u001b[0m\u001b[0;34m)\u001b[0m\u001b[0;34m\u001b[0m\u001b[0;34m\u001b[0m\u001b[0m\n\u001b[0m",
      "\u001b[0;32m<ipython-input-72-d6a179f68446>\u001b[0m in \u001b[0;36mparse\u001b[0;34m(cls, d, mode, key_offset, reset_to_base)\u001b[0m\n\u001b[1;32m     31\u001b[0m     \u001b[0;34m@\u001b[0m\u001b[0mclassmethod\u001b[0m\u001b[0;34m\u001b[0m\u001b[0;34m\u001b[0m\u001b[0m\n\u001b[1;32m     32\u001b[0m     \u001b[0;32mdef\u001b[0m \u001b[0mparse\u001b[0m\u001b[0;34m(\u001b[0m\u001b[0mcls\u001b[0m\u001b[0;34m,\u001b[0m \u001b[0md\u001b[0m\u001b[0;34m,\u001b[0m \u001b[0mmode\u001b[0m\u001b[0;34m,\u001b[0m \u001b[0mkey_offset\u001b[0m\u001b[0;34m,\u001b[0m \u001b[0mreset_to_base\u001b[0m\u001b[0;34m=\u001b[0m\u001b[0;32mTrue\u001b[0m\u001b[0;34m)\u001b[0m\u001b[0;34m:\u001b[0m\u001b[0;34m\u001b[0m\u001b[0;34m\u001b[0m\u001b[0m\n\u001b[0;32m---> 33\u001b[0;31m         \u001b[0mparsed\u001b[0m \u001b[0;34m=\u001b[0m \u001b[0mroman_to_symbol\u001b[0m\u001b[0;34m.\u001b[0m\u001b[0mhchord_parser\u001b[0m\u001b[0;34m(\u001b[0m\u001b[0md\u001b[0m\u001b[0;34m,\u001b[0m \u001b[0mmode\u001b[0m\u001b[0;34m,\u001b[0m \u001b[0mkey_offset\u001b[0m\u001b[0;34m)\u001b[0m\u001b[0;34m\u001b[0m\u001b[0;34m\u001b[0m\u001b[0m\n\u001b[0m\u001b[1;32m     34\u001b[0m \u001b[0;34m\u001b[0m\u001b[0m\n\u001b[1;32m     35\u001b[0m         \u001b[0;31m# After offset, let's reset the chord to be the lowest possible offset on new scale\u001b[0m\u001b[0;34m\u001b[0m\u001b[0;34m\u001b[0m\u001b[0;34m\u001b[0m\u001b[0m\n",
      "\u001b[0;32m~/midi_generator/src/roman_to_symbol.py\u001b[0m in \u001b[0;36mhchord_parser\u001b[0;34m(chord, mode, key_offset)\u001b[0m\n\u001b[1;32m    553\u001b[0m \u001b[0;34m\u001b[0m\u001b[0m\n\u001b[1;32m    554\u001b[0m     \u001b[0;31m# alter (won't change the quality)\u001b[0m\u001b[0;34m\u001b[0m\u001b[0;34m\u001b[0m\u001b[0;34m\u001b[0m\u001b[0m\n\u001b[0;32m--> 555\u001b[0;31m     \u001b[0malter_info\u001b[0m \u001b[0;34m=\u001b[0m \u001b[0malter_info\u001b[0m \u001b[0;32mif\u001b[0m \u001b[0mlen\u001b[0m\u001b[0;34m(\u001b[0m\u001b[0malter_info\u001b[0m\u001b[0;34m)\u001b[0m \u001b[0;32melse\u001b[0m \u001b[0mchord\u001b[0m\u001b[0;34m[\u001b[0m\u001b[0;34m'alternate'\u001b[0m\u001b[0;34m]\u001b[0m\u001b[0;34m\u001b[0m\u001b[0;34m\u001b[0m\u001b[0m\n\u001b[0m\u001b[1;32m    556\u001b[0m     \u001b[0mcomp_vec\u001b[0m\u001b[0;34m,\u001b[0m \u001b[0malter_map\u001b[0m \u001b[0;34m=\u001b[0m \u001b[0mset_alter\u001b[0m\u001b[0;34m(\u001b[0m\u001b[0mcomp_vec\u001b[0m\u001b[0;34m,\u001b[0m \u001b[0malter_info\u001b[0m\u001b[0;34m)\u001b[0m\u001b[0;34m\u001b[0m\u001b[0;34m\u001b[0m\u001b[0m\n\u001b[1;32m    557\u001b[0m \u001b[0;34m\u001b[0m\u001b[0m\n",
      "\u001b[0;31mKeyError\u001b[0m: 'alternate'"
     ]
    }
   ],
   "source": [
    "d = {\n",
    "    'sd': sd,\n",
    "    'fb': fb,\n",
    "    'sus': sus,\n",
    "    'sec': None,\n",
    "    'borrowed': None,\n",
    "    'chord_duration': dur,\n",
    "    'start_measure': 2,\n",
    "    'start_beat': 4,\n",
    "    'start_beat_abs': 3\n",
    "    \n",
    "}\n",
    "HChord.parse(d, mode='1', key_offset=0, reset_to_base=False)"
   ]
  },
  {
   "cell_type": "code",
   "execution_count": null,
   "metadata": {},
   "outputs": [],
   "source": []
  },
  {
   "cell_type": "code",
   "execution_count": 154,
   "metadata": {},
   "outputs": [
    {
     "data": {
      "text/plain": [
       "[0,\n",
       " 2,\n",
       " 4,\n",
       " 5,\n",
       " 7,\n",
       " 9,\n",
       " 11,\n",
       " 12,\n",
       " 14,\n",
       " 16,\n",
       " 17,\n",
       " 19,\n",
       " 21,\n",
       " 23,\n",
       " 24,\n",
       " 26,\n",
       " 28,\n",
       " 29,\n",
       " 31,\n",
       " 33,\n",
       " 35,\n",
       " 36,\n",
       " 38,\n",
       " 40,\n",
       " 41,\n",
       " 43,\n",
       " 45,\n",
       " 47,\n",
       " 48,\n",
       " 50,\n",
       " 52,\n",
       " 53,\n",
       " 55,\n",
       " 57,\n",
       " 59]"
      ]
     },
     "execution_count": 154,
     "metadata": {},
     "output_type": "execute_result"
    }
   ],
   "source": [
    "scale = roman_to_symbol.get_scale(0); scale"
   ]
  },
  {
   "cell_type": "code",
   "execution_count": 163,
   "metadata": {},
   "outputs": [],
   "source": [
    "fb=6"
   ]
  },
  {
   "cell_type": "code",
   "execution_count": 164,
   "metadata": {},
   "outputs": [],
   "source": [
    "scale = roman_to_symbol.get_scale(0)\n",
    "# set compositional notes\n",
    "comp, chord_type = roman_to_symbol.set_compositions(scale, fb, sd)"
   ]
  },
  {
   "cell_type": "code",
   "execution_count": 165,
   "metadata": {},
   "outputs": [
    {
     "data": {
      "text/plain": [
       "(array([11, 14, 17]), 6)"
      ]
     },
     "execution_count": 165,
     "metadata": {},
     "output_type": "execute_result"
    }
   ],
   "source": [
    "comp, chord_type"
   ]
  },
  {
   "cell_type": "code",
   "execution_count": 168,
   "metadata": {},
   "outputs": [
    {
     "data": {
      "text/plain": [
       "'o'"
      ]
     },
     "execution_count": 168,
     "metadata": {},
     "output_type": "execute_result"
    }
   ],
   "source": [
    "quality"
   ]
  },
  {
   "cell_type": "code",
   "execution_count": 166,
   "metadata": {},
   "outputs": [],
   "source": [
    "# determine the quality by triads or seventh\n",
    "# (9, 11, 13-th chords are seen as seventh)\n",
    "comp_t = comp[0:3] if chord_type is 5 else comp[0:4]\n",
    "quality = roman_to_symbol.get_quality(comp_t)\n",
    "\n",
    "# add shift from secondary chords\n",
    "# comp = (comp + sec_offset)\n",
    "\n",
    "# set compvec (for sus/add/omit)\n",
    "comp_vec = roman_to_symbol.comp_to_compvec(comp)\n",
    "\n",
    "# sus (omit 3)\n",
    "comp_vec = roman_to_symbol.set_sus(comp_vec, scale, sd, sus)\n",
    "\n",
    "# set inversion (won't change the root, but bass)\n",
    "inv = roman_to_symbol.get_num_inversion(fb)\n",
    "comp_vec = roman_to_symbol.set_inversion(comp_vec, inv)\n",
    "\n",
    "# set result\n",
    "comp = roman_to_symbol.compvec_to_comp(comp_vec)"
   ]
  },
  {
   "cell_type": "code",
   "execution_count": 167,
   "metadata": {},
   "outputs": [
    {
     "data": {
      "text/plain": [
       "array([11, 14, 17], dtype=object)"
      ]
     },
     "execution_count": 167,
     "metadata": {},
     "output_type": "execute_result"
    }
   ],
   "source": [
    "comp"
   ]
  },
  {
   "cell_type": "code",
   "execution_count": 158,
   "metadata": {},
   "outputs": [
    {
     "data": {
      "text/plain": [
       "array([11, None, 14, None, 17, None, None, None, None], dtype=object)"
      ]
     },
     "execution_count": 158,
     "metadata": {},
     "output_type": "execute_result"
    }
   ],
   "source": [
    "comp_vec"
   ]
  },
  {
   "cell_type": "code",
   "execution_count": 117,
   "metadata": {},
   "outputs": [
    {
     "name": "stdout",
     "output_type": "stream",
     "text": [
      "> \u001b[0;32m/home/ubuntu/midi_generator/src/roman_to_symbol.py\u001b[0m(122)\u001b[0;36mget_quality\u001b[0;34m()\u001b[0m\n",
      "\u001b[0;32m    120 \u001b[0;31m        \u001b[0mquality\u001b[0m \u001b[0;34m=\u001b[0m \u001b[0mseventh_symbol\u001b[0m\u001b[0;34m[\u001b[0m\u001b[0;36m3\u001b[0m\u001b[0;34m]\u001b[0m\u001b[0;34m\u001b[0m\u001b[0;34m\u001b[0m\u001b[0m\n",
      "\u001b[0m\u001b[0;32m    121 \u001b[0;31m    \u001b[0;32melse\u001b[0m\u001b[0;34m:\u001b[0m\u001b[0;34m\u001b[0m\u001b[0;34m\u001b[0m\u001b[0m\n",
      "\u001b[0m\u001b[0;32m--> 122 \u001b[0;31m        \u001b[0;32mraise\u001b[0m \u001b[0mValueError\u001b[0m\u001b[0;34m(\u001b[0m\u001b[0;34m\"Unknow compostions\"\u001b[0m\u001b[0;34m,\u001b[0m \u001b[0mcomp\u001b[0m\u001b[0;34m)\u001b[0m\u001b[0;34m\u001b[0m\u001b[0;34m\u001b[0m\u001b[0m\n",
      "\u001b[0m\u001b[0;32m    123 \u001b[0;31m\u001b[0;34m\u001b[0m\u001b[0m\n",
      "\u001b[0m\u001b[0;32m    124 \u001b[0;31m    \u001b[0;32mreturn\u001b[0m \u001b[0mquality\u001b[0m\u001b[0;34m\u001b[0m\u001b[0;34m\u001b[0m\u001b[0m\n",
      "\u001b[0m\n",
      "ipdb> up\n",
      "> \u001b[0;32m/home/ubuntu/midi_generator/src/roman_to_symbol.py\u001b[0m(534)\u001b[0;36mhchord_parser\u001b[0;34m()\u001b[0m\n",
      "\u001b[0;32m    532 \u001b[0;31m    \u001b[0;31m# (9, 11, 13-th chords are seen as seventh)\u001b[0m\u001b[0;34m\u001b[0m\u001b[0;34m\u001b[0m\u001b[0;34m\u001b[0m\u001b[0m\n",
      "\u001b[0m\u001b[0;32m    533 \u001b[0;31m    \u001b[0mcomp_t\u001b[0m \u001b[0;34m=\u001b[0m \u001b[0mcomp\u001b[0m\u001b[0;34m[\u001b[0m\u001b[0;36m0\u001b[0m\u001b[0;34m:\u001b[0m\u001b[0;36m3\u001b[0m\u001b[0;34m]\u001b[0m \u001b[0;32mif\u001b[0m \u001b[0mchord_type\u001b[0m \u001b[0;32mis\u001b[0m \u001b[0;36m5\u001b[0m \u001b[0;32melse\u001b[0m \u001b[0mcomp\u001b[0m\u001b[0;34m[\u001b[0m\u001b[0;36m0\u001b[0m\u001b[0;34m:\u001b[0m\u001b[0;36m4\u001b[0m\u001b[0;34m]\u001b[0m\u001b[0;34m\u001b[0m\u001b[0;34m\u001b[0m\u001b[0m\n",
      "\u001b[0m\u001b[0;32m--> 534 \u001b[0;31m    \u001b[0mquality\u001b[0m \u001b[0;34m=\u001b[0m \u001b[0mget_quality\u001b[0m\u001b[0;34m(\u001b[0m\u001b[0mcomp_t\u001b[0m\u001b[0;34m)\u001b[0m\u001b[0;34m\u001b[0m\u001b[0;34m\u001b[0m\u001b[0m\n",
      "\u001b[0m\u001b[0;32m    535 \u001b[0;31m\u001b[0;34m\u001b[0m\u001b[0m\n",
      "\u001b[0m\u001b[0;32m    536 \u001b[0;31m    \u001b[0;31m# add shift from secondary chords\u001b[0m\u001b[0;34m\u001b[0m\u001b[0;34m\u001b[0m\u001b[0;34m\u001b[0m\u001b[0m\n",
      "\u001b[0m\n",
      "ipdb> comp\n",
      "array([], dtype=float64)\n",
      "ipdb> quit\n"
     ]
    }
   ],
   "source": [
    "%debug"
   ]
  },
  {
   "cell_type": "code",
   "execution_count": 106,
   "metadata": {},
   "outputs": [],
   "source": [
    "def dec_chord(ts, beat_abs):\n",
    "    sd,base,sus,dur = ts[3:7]\n",
    "    \n",
    "    beat, measure = ts[-2:] if ts.shape[0] == 9 else None, None\n",
    "    \n",
    "    chord = HChord(scale=sd, base=base, sus=sus, duration=dur/config.freq,\n",
    "                 beat_abs=beat_abs/config.freq, beat=beat, measure=measure)\n",
    "    return chord\n"
   ]
  },
  {
   "cell_type": "code",
   "execution_count": 69,
   "metadata": {},
   "outputs": [
    {
     "data": {
      "text/plain": [
       "[OrderedDict([('sd', '4'),\n",
       "              ('fb', None),\n",
       "              ('sec', None),\n",
       "              ('sus', 'sus4'),\n",
       "              ('pedal', None),\n",
       "              ('alternate', None),\n",
       "              ('borrowed', '-2'),\n",
       "              ('chord_duration', '2'),\n",
       "              ('start_measure', '1'),\n",
       "              ('start_beat', '1'),\n",
       "              ('start_beat_abs', '0'),\n",
       "              ('isRest', '0')]),\n",
       " OrderedDict([('sd', '4'),\n",
       "              ('fb', None),\n",
       "              ('sec', None),\n",
       "              ('sus', None),\n",
       "              ('pedal', None),\n",
       "              ('alternate', None),\n",
       "              ('borrowed', '-2'),\n",
       "              ('chord_duration', '2'),\n",
       "              ('start_measure', '1'),\n",
       "              ('start_beat', '3'),\n",
       "              ('start_beat_abs', '2'),\n",
       "              ('isRest', '0')])]"
      ]
     },
     "execution_count": 69,
     "metadata": {},
     "output_type": "execute_result"
    }
   ],
   "source": [
    "segments[0]['chords']"
   ]
  },
  {
   "cell_type": "code",
   "execution_count": 64,
   "metadata": {},
   "outputs": [
    {
     "data": {
      "text/plain": [
       "array([[ 4,  1,  4, -2, ...,  0, 16,  0,  0],\n",
       "       [-1, -1, -1, -1, ..., -1, -1,  0,  0],\n",
       "       [-1, -1, -1, -1, ..., -1, -1,  0,  0],\n",
       "       [-1, -1, -1, -1, ..., -1, -1,  0,  0],\n",
       "       ...,\n",
       "       [-1, -1, -1, -1, ..., -1, -1,  3,  7],\n",
       "       [-1, -1, -1, -1, ..., -1, -1,  3,  7],\n",
       "       [-1, -1, -1, -1, ..., -1, -1,  3,  7],\n",
       "       [-1, -1, -1, -1, ..., -1, -1,  3,  7]])"
      ]
     },
     "execution_count": 64,
     "metadata": {},
     "output_type": "execute_result"
    }
   ],
   "source": [
    "ep"
   ]
  },
  {
   "cell_type": "code",
   "execution_count": 65,
   "metadata": {},
   "outputs": [
    {
     "ename": "TypeError",
     "evalue": "__init__() missing 3 required positional arguments: 'symbol', 'quality', and 'composition'",
     "output_type": "error",
     "traceback": [
      "\u001b[0;31m---------------------------------------------------------------------------\u001b[0m",
      "\u001b[0;31mTypeError\u001b[0m                                 Traceback (most recent call last)",
      "\u001b[0;32m<ipython-input-65-8a36f65258ce>\u001b[0m in \u001b[0;36m<module>\u001b[0;34m\u001b[0m\n\u001b[0;32m----> 1\u001b[0;31m \u001b[0mdec_part\u001b[0m\u001b[0;34m(\u001b[0m\u001b[0mep\u001b[0m\u001b[0;34m)\u001b[0m\u001b[0;34m\u001b[0m\u001b[0;34m\u001b[0m\u001b[0m\n\u001b[0m",
      "\u001b[0;32m<ipython-input-63-17ea0553c0ca>\u001b[0m in \u001b[0;36mdec_part\u001b[0;34m(part)\u001b[0m\n\u001b[1;32m     18\u001b[0m     \u001b[0;34m'(pitch x octave x sustain) x (chord_sd x base x suspend, sustain) x (bar_position x beat_pos)'\u001b[0m\u001b[0;34m\u001b[0m\u001b[0;34m\u001b[0m\u001b[0m\n\u001b[1;32m     19\u001b[0m     \u001b[0mnotes\u001b[0m \u001b[0;34m=\u001b[0m \u001b[0;34m[\u001b[0m\u001b[0mdec_note\u001b[0m\u001b[0;34m(\u001b[0m\u001b[0mts\u001b[0m\u001b[0;34m,\u001b[0m\u001b[0midx\u001b[0m\u001b[0;34m)\u001b[0m \u001b[0;32mfor\u001b[0m \u001b[0midx\u001b[0m\u001b[0;34m,\u001b[0m\u001b[0mts\u001b[0m \u001b[0;32min\u001b[0m \u001b[0menumerate\u001b[0m\u001b[0;34m(\u001b[0m\u001b[0mpart\u001b[0m\u001b[0;34m)\u001b[0m \u001b[0;32mif\u001b[0m \u001b[0mts\u001b[0m\u001b[0;34m[\u001b[0m\u001b[0;36m0\u001b[0m\u001b[0;34m]\u001b[0m \u001b[0;34m!=\u001b[0m \u001b[0;34m-\u001b[0m\u001b[0;36m1\u001b[0m\u001b[0;34m]\u001b[0m\u001b[0;34m\u001b[0m\u001b[0;34m\u001b[0m\u001b[0m\n\u001b[0;32m---> 20\u001b[0;31m     \u001b[0mchords\u001b[0m \u001b[0;34m=\u001b[0m \u001b[0;34m[\u001b[0m\u001b[0mdec_chord\u001b[0m\u001b[0;34m(\u001b[0m\u001b[0mts\u001b[0m\u001b[0;34m,\u001b[0m\u001b[0midx\u001b[0m\u001b[0;34m)\u001b[0m \u001b[0;32mfor\u001b[0m \u001b[0midx\u001b[0m\u001b[0;34m,\u001b[0m\u001b[0mts\u001b[0m \u001b[0;32min\u001b[0m \u001b[0menumerate\u001b[0m\u001b[0;34m(\u001b[0m\u001b[0mpart\u001b[0m\u001b[0;34m)\u001b[0m \u001b[0;32mif\u001b[0m \u001b[0mts\u001b[0m\u001b[0;34m[\u001b[0m\u001b[0;36m3\u001b[0m\u001b[0;34m]\u001b[0m \u001b[0;34m!=\u001b[0m \u001b[0;34m-\u001b[0m\u001b[0;36m1\u001b[0m\u001b[0;34m]\u001b[0m\u001b[0;34m\u001b[0m\u001b[0;34m\u001b[0m\u001b[0m\n\u001b[0m\u001b[1;32m     21\u001b[0m \u001b[0;34m\u001b[0m\u001b[0m\n\u001b[1;32m     22\u001b[0m     \u001b[0;32mreturn\u001b[0m \u001b[0mHPart\u001b[0m\u001b[0;34m(\u001b[0m\u001b[0mnotes\u001b[0m\u001b[0;34m=\u001b[0m\u001b[0mnotes\u001b[0m\u001b[0;34m,\u001b[0m \u001b[0mchords\u001b[0m\u001b[0;34m=\u001b[0m\u001b[0mchords\u001b[0m\u001b[0;34m)\u001b[0m\u001b[0;34m\u001b[0m\u001b[0;34m\u001b[0m\u001b[0m\n",
      "\u001b[0;32m<ipython-input-63-17ea0553c0ca>\u001b[0m in \u001b[0;36m<listcomp>\u001b[0;34m(.0)\u001b[0m\n\u001b[1;32m     18\u001b[0m     \u001b[0;34m'(pitch x octave x sustain) x (chord_sd x base x suspend, sustain) x (bar_position x beat_pos)'\u001b[0m\u001b[0;34m\u001b[0m\u001b[0;34m\u001b[0m\u001b[0m\n\u001b[1;32m     19\u001b[0m     \u001b[0mnotes\u001b[0m \u001b[0;34m=\u001b[0m \u001b[0;34m[\u001b[0m\u001b[0mdec_note\u001b[0m\u001b[0;34m(\u001b[0m\u001b[0mts\u001b[0m\u001b[0;34m,\u001b[0m\u001b[0midx\u001b[0m\u001b[0;34m)\u001b[0m \u001b[0;32mfor\u001b[0m \u001b[0midx\u001b[0m\u001b[0;34m,\u001b[0m\u001b[0mts\u001b[0m \u001b[0;32min\u001b[0m \u001b[0menumerate\u001b[0m\u001b[0;34m(\u001b[0m\u001b[0mpart\u001b[0m\u001b[0;34m)\u001b[0m \u001b[0;32mif\u001b[0m \u001b[0mts\u001b[0m\u001b[0;34m[\u001b[0m\u001b[0;36m0\u001b[0m\u001b[0;34m]\u001b[0m \u001b[0;34m!=\u001b[0m \u001b[0;34m-\u001b[0m\u001b[0;36m1\u001b[0m\u001b[0;34m]\u001b[0m\u001b[0;34m\u001b[0m\u001b[0;34m\u001b[0m\u001b[0m\n\u001b[0;32m---> 20\u001b[0;31m     \u001b[0mchords\u001b[0m \u001b[0;34m=\u001b[0m \u001b[0;34m[\u001b[0m\u001b[0mdec_chord\u001b[0m\u001b[0;34m(\u001b[0m\u001b[0mts\u001b[0m\u001b[0;34m,\u001b[0m\u001b[0midx\u001b[0m\u001b[0;34m)\u001b[0m \u001b[0;32mfor\u001b[0m \u001b[0midx\u001b[0m\u001b[0;34m,\u001b[0m\u001b[0mts\u001b[0m \u001b[0;32min\u001b[0m \u001b[0menumerate\u001b[0m\u001b[0;34m(\u001b[0m\u001b[0mpart\u001b[0m\u001b[0;34m)\u001b[0m \u001b[0;32mif\u001b[0m \u001b[0mts\u001b[0m\u001b[0;34m[\u001b[0m\u001b[0;36m3\u001b[0m\u001b[0;34m]\u001b[0m \u001b[0;34m!=\u001b[0m \u001b[0;34m-\u001b[0m\u001b[0;36m1\u001b[0m\u001b[0;34m]\u001b[0m\u001b[0;34m\u001b[0m\u001b[0;34m\u001b[0m\u001b[0m\n\u001b[0m\u001b[1;32m     21\u001b[0m \u001b[0;34m\u001b[0m\u001b[0m\n\u001b[1;32m     22\u001b[0m     \u001b[0;32mreturn\u001b[0m \u001b[0mHPart\u001b[0m\u001b[0;34m(\u001b[0m\u001b[0mnotes\u001b[0m\u001b[0;34m=\u001b[0m\u001b[0mnotes\u001b[0m\u001b[0;34m,\u001b[0m \u001b[0mchords\u001b[0m\u001b[0;34m=\u001b[0m\u001b[0mchords\u001b[0m\u001b[0;34m)\u001b[0m\u001b[0;34m\u001b[0m\u001b[0;34m\u001b[0m\u001b[0m\n",
      "\u001b[0;32m<ipython-input-63-17ea0553c0ca>\u001b[0m in \u001b[0;36mdec_chord\u001b[0;34m(ts, beat_abs)\u001b[0m\n\u001b[1;32m     12\u001b[0m     \u001b[0mbeat\u001b[0m\u001b[0;34m,\u001b[0m \u001b[0mmeasure\u001b[0m \u001b[0;34m=\u001b[0m \u001b[0mts\u001b[0m\u001b[0;34m[\u001b[0m\u001b[0;34m-\u001b[0m\u001b[0;36m2\u001b[0m\u001b[0;34m:\u001b[0m\u001b[0;34m]\u001b[0m \u001b[0;32mif\u001b[0m \u001b[0mts\u001b[0m\u001b[0;34m.\u001b[0m\u001b[0mshape\u001b[0m\u001b[0;34m[\u001b[0m\u001b[0;36m0\u001b[0m\u001b[0;34m]\u001b[0m \u001b[0;34m==\u001b[0m \u001b[0;36m9\u001b[0m \u001b[0;32melse\u001b[0m \u001b[0;32mNone\u001b[0m\u001b[0;34m,\u001b[0m \u001b[0;32mNone\u001b[0m\u001b[0;34m\u001b[0m\u001b[0;34m\u001b[0m\u001b[0m\n\u001b[1;32m     13\u001b[0m     note = HChord(scale=sd, base=base, sus=sus, duration=dur/config.freq,\n\u001b[0;32m---> 14\u001b[0;31m                  beat_abs=beat_abs/config.freq, beat=beat, measure=measure)\n\u001b[0m\u001b[1;32m     15\u001b[0m     \u001b[0;32mreturn\u001b[0m \u001b[0mnote\u001b[0m\u001b[0;34m\u001b[0m\u001b[0;34m\u001b[0m\u001b[0m\n\u001b[1;32m     16\u001b[0m \u001b[0;34m\u001b[0m\u001b[0m\n",
      "\u001b[0;31mTypeError\u001b[0m: __init__() missing 3 required positional arguments: 'symbol', 'quality', and 'composition'"
     ]
    }
   ],
   "source": [
    "dec_part(ep)"
   ]
  },
  {
   "cell_type": "code",
   "execution_count": 66,
   "metadata": {},
   "outputs": [
    {
     "name": "stdout",
     "output_type": "stream",
     "text": [
      "> \u001b[0;32m<ipython-input-63-17ea0553c0ca>\u001b[0m(14)\u001b[0;36mdec_chord\u001b[0;34m()\u001b[0m\n",
      "\u001b[0;32m     12 \u001b[0;31m    \u001b[0mbeat\u001b[0m\u001b[0;34m,\u001b[0m \u001b[0mmeasure\u001b[0m \u001b[0;34m=\u001b[0m \u001b[0mts\u001b[0m\u001b[0;34m[\u001b[0m\u001b[0;34m-\u001b[0m\u001b[0;36m2\u001b[0m\u001b[0;34m:\u001b[0m\u001b[0;34m]\u001b[0m \u001b[0;32mif\u001b[0m \u001b[0mts\u001b[0m\u001b[0;34m.\u001b[0m\u001b[0mshape\u001b[0m\u001b[0;34m[\u001b[0m\u001b[0;36m0\u001b[0m\u001b[0;34m]\u001b[0m \u001b[0;34m==\u001b[0m \u001b[0;36m9\u001b[0m \u001b[0;32melse\u001b[0m \u001b[0;32mNone\u001b[0m\u001b[0;34m,\u001b[0m \u001b[0;32mNone\u001b[0m\u001b[0;34m\u001b[0m\u001b[0;34m\u001b[0m\u001b[0m\n",
      "\u001b[0m\u001b[0;32m     13 \u001b[0;31m    note = HChord(scale=sd, base=base, sus=sus, duration=dur/config.freq,\n",
      "\u001b[0m\u001b[0;32m---> 14 \u001b[0;31m                 beat_abs=beat_abs/config.freq, beat=beat, measure=measure)\n",
      "\u001b[0m\u001b[0;32m     15 \u001b[0;31m    \u001b[0;32mreturn\u001b[0m \u001b[0mnote\u001b[0m\u001b[0;34m\u001b[0m\u001b[0;34m\u001b[0m\u001b[0m\n",
      "\u001b[0m\u001b[0;32m     16 \u001b[0;31m\u001b[0;34m\u001b[0m\u001b[0m\n",
      "\u001b[0m\n",
      "ipdb> quit\n"
     ]
    }
   ],
   "source": [
    "%debug"
   ]
  },
  {
   "cell_type": "code",
   "execution_count": 80,
   "metadata": {},
   "outputs": [
    {
     "data": {
      "text/plain": [
       "[(1, 0, 4), (1, 0, 0)]"
      ]
     },
     "execution_count": 80,
     "metadata": {},
     "output_type": "execute_result"
    }
   ],
   "source": [
    "[(c.scale, c.base, c.sus) for c in c1]"
   ]
  },
  {
   "cell_type": "code",
   "execution_count": 81,
   "metadata": {},
   "outputs": [
    {
     "data": {
      "text/plain": [
       "[(2, 1.0)]"
      ]
     },
     "execution_count": 81,
     "metadata": {},
     "output_type": "execute_result"
    }
   ],
   "source": [
    "[(n.pitch(), n.octave) for n in n1]"
   ]
  },
  {
   "cell_type": "code",
   "execution_count": 83,
   "metadata": {},
   "outputs": [],
   "source": [
    "# for p in song.parts:\n",
    "    "
   ]
  },
  {
   "cell_type": "code",
   "execution_count": 39,
   "metadata": {},
   "outputs": [],
   "source": [
    "# translator\n",
    "class Translator():\n",
    "    @classmethod\n",
    "    def to_numpy(cls, s:HSong):\n",
    "        pass\n",
    "    @classmethod\n",
    "    def to_song(cls, arr):\n",
    "        pass"
   ]
  },
  {
   "cell_type": "code",
   "execution_count": 54,
   "metadata": {},
   "outputs": [
    {
     "data": {
      "text/plain": [
       "512.0"
      ]
     },
     "execution_count": 54,
     "metadata": {},
     "output_type": "execute_result"
    }
   ],
   "source": [
    "max_len"
   ]
  },
  {
   "cell_type": "code",
   "execution_count": 49,
   "metadata": {},
   "outputs": [
    {
     "data": {
      "text/html": [
       "\n",
       "                <div id='midiPlayerDiv5303'></div>\n",
       "                <link rel=\"stylesheet\" href=\"//cuthbertLab.github.io/music21j/css/m21.css\"\n",
       "                    type=\"text/css\" />\n",
       "                <script>\n",
       "                require.config({\n",
       "                    paths: {'music21': '//cuthbertLab.github.io/music21j/src/music21'}\n",
       "                });\n",
       "                require(['music21'], function() {\n",
       "                               mp = new music21.miditools.MidiPlayer();\n",
       "                               mp.addPlayer('#midiPlayerDiv5303');\n",
       "                               mp.base64Load('data:audio/midi;base64,TVRoZAAAAAYAAQACBABNVHJrAAABbAD/AwAA4ABAAP9RAwehIACQR1qEAIBHAACQSFqEAIBIAACQQFqEAIBAAACQR1qIAIBHAACQSFqEAIBIAIgAkEdahACARwAAkEhahACASAAAkEBahACAQAAAkEhaiACASAAAkEdaiACARwAAkD5ahACAPgAAkEVahACARQAAkEdahACARwAAkD5ahACAPgAAkEVaiACARQAAkEdaiACARwAAkD5ahACAPgAAkENakACAQwAAkEFakACAQQAAkEdahACARwAAkEhahACASAAAkEBahACAQAAAkEdaiACARwAAkEhahACASACIAJBIWoQAgEgAAJBHWoQAgEcAAJBAWoQAgEAAAJBIWogAgEgAAJBHWogAgEcAAJA+WoQAgD4AAJBFWoQAgEUAAJBHWoQAgEcAAJA+WoQAgD4AAJBFWogAgEUAAJBHWogAgEcAAJA+WoQAgD4AAJBDWpAAgEMAAJBCWpAAgEIAiAD/LwBNVHJrAAABFwD/AwAA4ABAAJAtWgCQMFoAkDRaoACALQAAgDAAAIA0AACQNVoAkDlaAJA8WgCQQFqgAIA1AACAOQAAgDwAAIBAAACQN1oAkDlaAJA+WqAAgDcAAIA5AACAPgAAkDJaAJA3WgCQOVqQAIAyAACANwAAgDkAAJAyWgCQNVoAkDlakACAMgAAgDUAAIA5AACQLVoAkDBaAJA0WqAAgC0AAIAwAACANAAAkDVaAJA5WgCQPFoAkEBaoACANQAAgDkAAIA8AACAQAAAkDdaAJA5WgCQPlqgAIA3AACAOQAAgD4AAJAyWgCQN1oAkDlakACAMgAAgDcAAIA5AACQMloAkDZaAJA5WpAAgDIAAIA2AACAOQCIAP8vAA==');\n",
       "                        });\n",
       "                </script>"
      ],
      "text/plain": [
       "<IPython.core.display.HTML object>"
      ]
     },
     "metadata": {},
     "output_type": "display_data"
    }
   ],
   "source": [
    "stream.show('midi')"
   ]
  },
  {
   "cell_type": "code",
   "execution_count": 45,
   "metadata": {},
   "outputs": [
    {
     "data": {
      "text/plain": [
       "[OrderedDict([('start_beat_abs', '0'),\n",
       "              ('start_measure', '1'),\n",
       "              ('start_beat', '1'),\n",
       "              ('note_length', '0.5'),\n",
       "              ('scale_degree', '2'),\n",
       "              ('octave', '1'),\n",
       "              ('isRest', '0')]),\n",
       " OrderedDict([('start_beat_abs', '0.5'),\n",
       "              ('start_measure', '1'),\n",
       "              ('start_beat', '1.5'),\n",
       "              ('note_length', '0.5'),\n",
       "              ('scale_degree', '3'),\n",
       "              ('octave', '1'),\n",
       "              ('isRest', '0')]),\n",
       " OrderedDict([('start_beat_abs', '1'),\n",
       "              ('start_measure', '1'),\n",
       "              ('start_beat', '2'),\n",
       "              ('note_length', '0.5'),\n",
       "              ('scale_degree', '5'),\n",
       "              ('octave', '0'),\n",
       "              ('isRest', '0')]),\n",
       " OrderedDict([('start_beat_abs', '1.5'),\n",
       "              ('start_measure', '1'),\n",
       "              ('start_beat', '2.5'),\n",
       "              ('note_length', '1'),\n",
       "              ('scale_degree', '2'),\n",
       "              ('octave', '1'),\n",
       "              ('isRest', '0')]),\n",
       " OrderedDict([('start_beat_abs', '2.5'),\n",
       "              ('start_measure', '1'),\n",
       "              ('start_beat', '3.5'),\n",
       "              ('note_length', '0.5'),\n",
       "              ('scale_degree', '3'),\n",
       "              ('octave', '1'),\n",
       "              ('isRest', '0')]),\n",
       " OrderedDict([('start_beat_abs', '3'),\n",
       "              ('start_measure', '1'),\n",
       "              ('start_beat', '4'),\n",
       "              ('note_length', '1'),\n",
       "              ('scale_degree', 'rest'),\n",
       "              ('octave', '0'),\n",
       "              ('isRest', '1')]),\n",
       " OrderedDict([('start_beat_abs', '4'),\n",
       "              ('start_measure', '2'),\n",
       "              ('start_beat', '1'),\n",
       "              ('note_length', '0.5'),\n",
       "              ('scale_degree', '2'),\n",
       "              ('octave', '1'),\n",
       "              ('isRest', '0')]),\n",
       " OrderedDict([('start_beat_abs', '4.5'),\n",
       "              ('start_measure', '2'),\n",
       "              ('start_beat', '1.5'),\n",
       "              ('note_length', '0.5'),\n",
       "              ('scale_degree', '3'),\n",
       "              ('octave', '1'),\n",
       "              ('isRest', '0')]),\n",
       " OrderedDict([('start_beat_abs', '5'),\n",
       "              ('start_measure', '2'),\n",
       "              ('start_beat', '2'),\n",
       "              ('note_length', '0.5'),\n",
       "              ('scale_degree', '5'),\n",
       "              ('octave', '0'),\n",
       "              ('isRest', '0')]),\n",
       " OrderedDict([('start_beat_abs', '5.5'),\n",
       "              ('start_measure', '2'),\n",
       "              ('start_beat', '2.5'),\n",
       "              ('note_length', '1'),\n",
       "              ('scale_degree', '3'),\n",
       "              ('octave', '1'),\n",
       "              ('isRest', '0')]),\n",
       " OrderedDict([('start_beat_abs', '6.5'),\n",
       "              ('start_measure', '2'),\n",
       "              ('start_beat', '3.5'),\n",
       "              ('note_length', '1'),\n",
       "              ('scale_degree', '2'),\n",
       "              ('octave', '1'),\n",
       "              ('isRest', '0')]),\n",
       " OrderedDict([('start_beat_abs', '7.5'),\n",
       "              ('start_measure', '2'),\n",
       "              ('start_beat', '4.5'),\n",
       "              ('note_length', '0.5'),\n",
       "              ('scale_degree', '4'),\n",
       "              ('octave', '0'),\n",
       "              ('isRest', '0')]),\n",
       " OrderedDict([('start_beat_abs', '8'),\n",
       "              ('start_measure', '3'),\n",
       "              ('start_beat', '1'),\n",
       "              ('note_length', '0.5'),\n",
       "              ('scale_degree', '1'),\n",
       "              ('octave', '1'),\n",
       "              ('isRest', '0')]),\n",
       " OrderedDict([('start_beat_abs', '8.5'),\n",
       "              ('start_measure', '3'),\n",
       "              ('start_beat', '1.5'),\n",
       "              ('note_length', '0.5'),\n",
       "              ('scale_degree', '2'),\n",
       "              ('octave', '1'),\n",
       "              ('isRest', '0')]),\n",
       " OrderedDict([('start_beat_abs', '9'),\n",
       "              ('start_measure', '3'),\n",
       "              ('start_beat', '2'),\n",
       "              ('note_length', '0.5'),\n",
       "              ('scale_degree', '4'),\n",
       "              ('octave', '0'),\n",
       "              ('isRest', '0')]),\n",
       " OrderedDict([('start_beat_abs', '9.5'),\n",
       "              ('start_measure', '3'),\n",
       "              ('start_beat', '2.5'),\n",
       "              ('note_length', '1'),\n",
       "              ('scale_degree', '1'),\n",
       "              ('octave', '1'),\n",
       "              ('isRest', '0')]),\n",
       " OrderedDict([('start_beat_abs', '10.5'),\n",
       "              ('start_measure', '3'),\n",
       "              ('start_beat', '3.5'),\n",
       "              ('note_length', '1'),\n",
       "              ('scale_degree', '2'),\n",
       "              ('octave', '1'),\n",
       "              ('isRest', '0')]),\n",
       " OrderedDict([('start_beat_abs', '11.5'),\n",
       "              ('start_measure', '3'),\n",
       "              ('start_beat', '4.5'),\n",
       "              ('note_length', '0.5'),\n",
       "              ('scale_degree', '4'),\n",
       "              ('octave', '0'),\n",
       "              ('isRest', '0')]),\n",
       " OrderedDict([('start_beat_abs', '12'),\n",
       "              ('start_measure', '4'),\n",
       "              ('start_beat', '1'),\n",
       "              ('note_length', '2'),\n",
       "              ('scale_degree', '7'),\n",
       "              ('octave', '0'),\n",
       "              ('isRest', '0')]),\n",
       " OrderedDict([('start_beat_abs', '14'),\n",
       "              ('start_measure', '4'),\n",
       "              ('start_beat', '3'),\n",
       "              ('note_length', '2'),\n",
       "              ('scale_degree', '6'),\n",
       "              ('octave', '0'),\n",
       "              ('isRest', '0')]),\n",
       " OrderedDict([('start_beat_abs', '16'),\n",
       "              ('start_measure', '5'),\n",
       "              ('start_beat', '1'),\n",
       "              ('note_length', '0.5'),\n",
       "              ('scale_degree', '2'),\n",
       "              ('octave', '1'),\n",
       "              ('isRest', '0')]),\n",
       " OrderedDict([('start_beat_abs', '16.5'),\n",
       "              ('start_measure', '5'),\n",
       "              ('start_beat', '1.5'),\n",
       "              ('note_length', '0.5'),\n",
       "              ('scale_degree', '3'),\n",
       "              ('octave', '1'),\n",
       "              ('isRest', '0')]),\n",
       " OrderedDict([('start_beat_abs', '17'),\n",
       "              ('start_measure', '5'),\n",
       "              ('start_beat', '2'),\n",
       "              ('note_length', '0.5'),\n",
       "              ('scale_degree', '5'),\n",
       "              ('octave', '0'),\n",
       "              ('isRest', '0')]),\n",
       " OrderedDict([('start_beat_abs', '17.5'),\n",
       "              ('start_measure', '5'),\n",
       "              ('start_beat', '2.5'),\n",
       "              ('note_length', '1'),\n",
       "              ('scale_degree', '2'),\n",
       "              ('octave', '1'),\n",
       "              ('isRest', '0')]),\n",
       " OrderedDict([('start_beat_abs', '18.5'),\n",
       "              ('start_measure', '5'),\n",
       "              ('start_beat', '3.5'),\n",
       "              ('note_length', '0.5'),\n",
       "              ('scale_degree', '3'),\n",
       "              ('octave', '1'),\n",
       "              ('isRest', '0')]),\n",
       " OrderedDict([('start_beat_abs', '19'),\n",
       "              ('start_measure', '5'),\n",
       "              ('start_beat', '4'),\n",
       "              ('note_length', '1'),\n",
       "              ('scale_degree', 'rest'),\n",
       "              ('octave', '0'),\n",
       "              ('isRest', '1')]),\n",
       " OrderedDict([('start_beat_abs', '20'),\n",
       "              ('start_measure', '6'),\n",
       "              ('start_beat', '1'),\n",
       "              ('note_length', '0.5'),\n",
       "              ('scale_degree', '3'),\n",
       "              ('octave', '1'),\n",
       "              ('isRest', '0')]),\n",
       " OrderedDict([('start_beat_abs', '20.5'),\n",
       "              ('start_measure', '6'),\n",
       "              ('start_beat', '1.5'),\n",
       "              ('note_length', '0.5'),\n",
       "              ('scale_degree', '2'),\n",
       "              ('octave', '1'),\n",
       "              ('isRest', '0')]),\n",
       " OrderedDict([('start_beat_abs', '21'),\n",
       "              ('start_measure', '6'),\n",
       "              ('start_beat', '2'),\n",
       "              ('note_length', '0.5'),\n",
       "              ('scale_degree', '5'),\n",
       "              ('octave', '0'),\n",
       "              ('isRest', '0')]),\n",
       " OrderedDict([('start_beat_abs', '21.5'),\n",
       "              ('start_measure', '6'),\n",
       "              ('start_beat', '2.5'),\n",
       "              ('note_length', '1'),\n",
       "              ('scale_degree', '3'),\n",
       "              ('octave', '1'),\n",
       "              ('isRest', '0')]),\n",
       " OrderedDict([('start_beat_abs', '22.5'),\n",
       "              ('start_measure', '6'),\n",
       "              ('start_beat', '3.5'),\n",
       "              ('note_length', '1'),\n",
       "              ('scale_degree', '2'),\n",
       "              ('octave', '1'),\n",
       "              ('isRest', '0')]),\n",
       " OrderedDict([('start_beat_abs', '23.5'),\n",
       "              ('start_measure', '6'),\n",
       "              ('start_beat', '4.5'),\n",
       "              ('note_length', '0.5'),\n",
       "              ('scale_degree', '4'),\n",
       "              ('octave', '0'),\n",
       "              ('isRest', '0')]),\n",
       " OrderedDict([('start_beat_abs', '24'),\n",
       "              ('start_measure', '7'),\n",
       "              ('start_beat', '1'),\n",
       "              ('note_length', '0.5'),\n",
       "              ('scale_degree', '1'),\n",
       "              ('octave', '1'),\n",
       "              ('isRest', '0')]),\n",
       " OrderedDict([('start_beat_abs', '24.5'),\n",
       "              ('start_measure', '7'),\n",
       "              ('start_beat', '1.5'),\n",
       "              ('note_length', '0.5'),\n",
       "              ('scale_degree', '2'),\n",
       "              ('octave', '1'),\n",
       "              ('isRest', '0')]),\n",
       " OrderedDict([('start_beat_abs', '25'),\n",
       "              ('start_measure', '7'),\n",
       "              ('start_beat', '2'),\n",
       "              ('note_length', '0.5'),\n",
       "              ('scale_degree', '4'),\n",
       "              ('octave', '0'),\n",
       "              ('isRest', '0')]),\n",
       " OrderedDict([('start_beat_abs', '25.5'),\n",
       "              ('start_measure', '7'),\n",
       "              ('start_beat', '2.5'),\n",
       "              ('note_length', '1'),\n",
       "              ('scale_degree', '1'),\n",
       "              ('octave', '1'),\n",
       "              ('isRest', '0')]),\n",
       " OrderedDict([('start_beat_abs', '26.5'),\n",
       "              ('start_measure', '7'),\n",
       "              ('start_beat', '3.5'),\n",
       "              ('note_length', '1'),\n",
       "              ('scale_degree', '2'),\n",
       "              ('octave', '1'),\n",
       "              ('isRest', '0')]),\n",
       " OrderedDict([('start_beat_abs', '27.5'),\n",
       "              ('start_measure', '7'),\n",
       "              ('start_beat', '4.5'),\n",
       "              ('note_length', '0.5'),\n",
       "              ('scale_degree', '4'),\n",
       "              ('octave', '0'),\n",
       "              ('isRest', '0')]),\n",
       " OrderedDict([('start_beat_abs', '28'),\n",
       "              ('start_measure', '8'),\n",
       "              ('start_beat', '1'),\n",
       "              ('note_length', '2'),\n",
       "              ('scale_degree', '7'),\n",
       "              ('octave', '0'),\n",
       "              ('isRest', '0')]),\n",
       " OrderedDict([('start_beat_abs', '30'),\n",
       "              ('start_measure', '8'),\n",
       "              ('start_beat', '3'),\n",
       "              ('note_length', '2'),\n",
       "              ('scale_degree', '6s'),\n",
       "              ('octave', '0'),\n",
       "              ('isRest', '0')])]"
      ]
     },
     "execution_count": 45,
     "metadata": {},
     "output_type": "execute_result"
    }
   ],
   "source": [
    "segments[0]['notes']"
   ]
  }
 ],
 "metadata": {
  "kernelspec": {
   "display_name": "Python 3",
   "language": "python",
   "name": "python3"
  },
  "language_info": {
   "codemirror_mode": {
    "name": "ipython",
    "version": 3
   },
   "file_extension": ".py",
   "mimetype": "text/x-python",
   "name": "python",
   "nbconvert_exporter": "python",
   "pygments_lexer": "ipython3",
   "version": "3.7.2"
  }
 },
 "nbformat": 4,
 "nbformat_minor": 2
}

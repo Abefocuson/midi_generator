{
 "cells": [
  {
   "cell_type": "markdown",
   "metadata": {},
   "source": [
    "# Music"
   ]
  },
  {
   "cell_type": "code",
   "execution_count": 1,
   "metadata": {},
   "outputs": [],
   "source": [
    "%reload_ext autoreload\n",
    "%autoreload 2\n",
    "%matplotlib inline"
   ]
  },
  {
   "cell_type": "code",
   "execution_count": 2,
   "metadata": {},
   "outputs": [],
   "source": [
    "import music21 # must import before fastai. otherwise stream.show() encounters elementtree error\n",
    "from fastai.text import *"
   ]
  },
  {
   "cell_type": "code",
   "execution_count": 3,
   "metadata": {},
   "outputs": [],
   "source": [
    "from fastai_data import MusicTokenizer\n",
    "from encode_data import *\n",
    "from midi_data import *"
   ]
  },
  {
   "cell_type": "code",
   "execution_count": 4,
   "metadata": {},
   "outputs": [],
   "source": [
    "# c = music21.corpus.parse(music21.corpus.chorales.Iterator(returnType='filename')[55]) c.show()"
   ]
  },
  {
   "cell_type": "code",
   "execution_count": 5,
   "metadata": {},
   "outputs": [
    {
     "data": {
      "text/plain": [
       "[PosixPath('data/midi/midi_transcribe_v3_shortdur/ecomp'),\n",
       " PosixPath('data/midi/midi_transcribe_v3_shortdur/classic_piano'),\n",
       " PosixPath('data/midi/midi_transcribe_v3_shortdur/wikifonia'),\n",
       " PosixPath('data/midi/midi_transcribe_v3_shortdur/cprato'),\n",
       " PosixPath('data/midi/midi_transcribe_v3_shortdur/tmp_pop')]"
      ]
     },
     "execution_count": 5,
     "metadata": {},
     "output_type": "execute_result"
    }
   ],
   "source": [
    "path = Path('data/midi/midi_transcribe_v3_shortdur/')\n",
    "path.ls()[:5]"
   ]
  },
  {
   "cell_type": "code",
   "execution_count": 7,
   "metadata": {},
   "outputs": [],
   "source": [
    "model_path = 'tmp_clc_v3_gpt_5'"
   ]
  },
  {
   "cell_type": "markdown",
   "metadata": {},
   "source": [
    "https://hpml2018.github.io/HPML2018_1.pdf\n",
    "\n",
    "This paper suggests linear scaling rule does not work with RNNs. 3e-3 seems to be the magical number for 2k-8k\n",
    "\n",
    "However, they didn't use schedule warmup, so I doubt they optimized the learning rate enough"
   ]
  },
  {
   "cell_type": "code",
   "execution_count": 8,
   "metadata": {},
   "outputs": [],
   "source": [
    "bs=256\n",
    "bptt=250"
   ]
  },
  {
   "cell_type": "code",
   "execution_count": 9,
   "metadata": {},
   "outputs": [
    {
     "data": {
      "text/plain": [
       "('xxbos || t0 nG3 t4 nB3 t4 nD4 t4 nD5 t2 nG5 t4 || ',\n",
       " array([ 2,  9, 12, 16, ..., 23,  8, 14,  8]))"
      ]
     },
     "execution_count": 9,
     "metadata": {},
     "output_type": "execute_result"
    }
   ],
   "source": [
    "data = TextLMDataBunch.load(path, cache_name='tmp_clc', bs=bs, bptt=bptt)\n",
    "data.valid_ds.x.processor[0] = TokenizeProcessor(tokenizer=MusicTokenizer())\n",
    "t = data.train_ds[0][0]\n",
    "t.text[:50], t.data"
   ]
  },
  {
   "cell_type": "markdown",
   "metadata": {},
   "source": [
    "### Load Learner"
   ]
  },
  {
   "cell_type": "code",
   "execution_count": 10,
   "metadata": {},
   "outputs": [
    {
     "ename": "RuntimeError",
     "evalue": "Error(s) in loading state_dict for SequentialRNN:\n\tMissing key(s) in state_dict: \"0.encoder.weight\", \"0.encoder_dp.emb.weight\", \"0.rnns.0.weight_hh_l0_raw\", \"0.rnns.0.module.weight_ih_l0\", \"0.rnns.0.module.weight_hh_l0\", \"0.rnns.0.module.bias_ih_l0\", \"0.rnns.0.module.bias_hh_l0\", \"0.rnns.1.weight_hh_l0_raw\", \"0.rnns.1.module.weight_ih_l0\", \"0.rnns.1.module.weight_hh_l0\", \"0.rnns.1.module.bias_ih_l0\", \"0.rnns.1.module.bias_hh_l0\", \"0.rnns.2.weight_hh_l0_raw\", \"0.rnns.2.module.weight_ih_l0\", \"0.rnns.2.module.weight_hh_l0\", \"0.rnns.2.module.bias_ih_l0\", \"0.rnns.2.module.bias_hh_l0\", \"1.decoder.weight\", \"1.decoder.bias\". \n\tUnexpected key(s) in state_dict: \"transformer.embed.weight\", \"transformer.embed_pos.weight\", \"transformer.h.0.attn.b\", \"transformer.h.0.attn.c_attn.weight\", \"transformer.h.0.attn.c_attn.bias\", \"transformer.h.0.attn.c_proj.weight\", \"transformer.h.0.attn.c_proj.bias\", \"transformer.h.0.ln_1.weight\", \"transformer.h.0.ln_1.bias\", \"transformer.h.0.mlp.c_fc.weight\", \"transformer.h.0.mlp.c_fc.bias\", \"transformer.h.0.mlp.c_proj.weight\", \"transformer.h.0.mlp.c_proj.bias\", \"transformer.h.0.ln_2.weight\", \"transformer.h.0.ln_2.bias\", \"transformer.h.1.attn.b\", \"transformer.h.1.attn.c_attn.weight\", \"transformer.h.1.attn.c_attn.bias\", \"transformer.h.1.attn.c_proj.weight\", \"transformer.h.1.attn.c_proj.bias\", \"transformer.h.1.ln_1.weight\", \"transformer.h.1.ln_1.bias\", \"transformer.h.1.mlp.c_fc.weight\", \"transformer.h.1.mlp.c_fc.bias\", \"transformer.h.1.mlp.c_proj.weight\", \"transformer.h.1.mlp.c_proj.bias\", \"transformer.h.1.ln_2.weight\", \"transformer.h.1.ln_2.bias\", \"transformer.h.2.attn.b\", \"transformer.h.2.attn.c_attn.weight\", \"transformer.h.2.attn.c_attn.bias\", \"transformer.h.2.attn.c_proj.weight\", \"transformer.h.2.attn.c_proj.bias\", \"transformer.h.2.ln_1.weight\", \"transformer.h.2.ln_1.bias\", \"transformer.h.2.mlp.c_fc.weight\", \"transformer.h.2.mlp.c_fc.bias\", \"transformer.h.2.mlp.c_proj.weight\", \"transformer.h.2.mlp.c_proj.bias\", \"transformer.h.2.ln_2.weight\", \"transformer.h.2.ln_2.bias\", \"transformer.h.3.attn.b\", \"transformer.h.3.attn.c_attn.weight\", \"transformer.h.3.attn.c_attn.bias\", \"transformer.h.3.attn.c_proj.weight\", \"transformer.h.3.attn.c_proj.bias\", \"transformer.h.3.ln_1.weight\", \"transformer.h.3.ln_1.bias\", \"transformer.h.3.mlp.c_fc.weight\", \"transformer.h.3.mlp.c_fc.bias\", \"transformer.h.3.mlp.c_proj.weight\", \"transformer.h.3.mlp.c_proj.bias\", \"transformer.h.3.ln_2.weight\", \"transformer.h.3.ln_2.bias\", \"transformer.h.4.attn.b\", \"transformer.h.4.attn.c_attn.weight\", \"transformer.h.4.attn.c_attn.bias\", \"transformer.h.4.attn.c_proj.weight\", \"transformer.h.4.attn.c_proj.bias\", \"transformer.h.4.ln_1.weight\", \"transformer.h.4.ln_1.bias\", \"transformer.h.4.mlp.c_fc.weight\", \"transformer.h.4.mlp.c_fc.bias\", \"transformer.h.4.mlp.c_proj.weight\", \"transformer.h.4.mlp.c_proj.bias\", \"transformer.h.4.ln_2.weight\", \"transformer.h.4.ln_2.bias\", \"transformer.h.5.attn.b\", \"transformer.h.5.attn.c_attn.weight\", \"transformer.h.5.attn.c_attn.bias\", \"transformer.h.5.attn.c_proj.weight\", \"transformer.h.5.attn.c_proj.bias\", \"transformer.h.5.ln_1.weight\", \"transformer.h.5.ln_1.bias\", \"transformer.h.5.mlp.c_fc.weight\", \"transformer.h.5.mlp.c_fc.bias\", \"transformer.h.5.mlp.c_proj.weight\", \"transformer.h.5.mlp.c_proj.bias\", \"transformer.h.5.ln_2.weight\", \"transformer.h.5.ln_2.bias\", \"transformer.h.6.attn.b\", \"transformer.h.6.attn.c_attn.weight\", \"transformer.h.6.attn.c_attn.bias\", \"transformer.h.6.attn.c_proj.weight\", \"transformer.h.6.attn.c_proj.bias\", \"transformer.h.6.ln_1.weight\", \"transformer.h.6.ln_1.bias\", \"transformer.h.6.mlp.c_fc.weight\", \"transformer.h.6.mlp.c_fc.bias\", \"transformer.h.6.mlp.c_proj.weight\", \"transformer.h.6.mlp.c_proj.bias\", \"transformer.h.6.ln_2.weight\", \"transformer.h.6.ln_2.bias\", \"transformer.h.7.attn.b\", \"transformer.h.7.attn.c_attn.weight\", \"transformer.h.7.attn.c_attn.bias\", \"transformer.h.7.attn.c_proj.weight\", \"transformer.h.7.attn.c_proj.bias\", \"transformer.h.7.ln_1.weight\", \"transformer.h.7.ln_1.bias\", \"transformer.h.7.mlp.c_fc.weight\", \"transformer.h.7.mlp.c_fc.bias\", \"transformer.h.7.mlp.c_proj.weight\", \"transformer.h.7.mlp.c_proj.bias\", \"transformer.h.7.ln_2.weight\", \"transformer.h.7.ln_2.bias\", \"transformer.h.8.attn.b\", \"transformer.h.8.attn.c_attn.weight\", \"transformer.h.8.attn.c_attn.bias\", \"transformer.h.8.attn.c_proj.weight\", \"transformer.h.8.attn.c_proj.bias\", \"transformer.h.8.ln_1.weight\", \"transformer.h.8.ln_1.bias\", \"transformer.h.8.mlp.c_fc.weight\", \"transformer.h.8.mlp.c_fc.bias\", \"transformer.h.8.mlp.c_proj.weight\", \"transformer.h.8.mlp.c_proj.bias\", \"transformer.h.8.ln_2.weight\", \"transformer.h.8.ln_2.bias\", \"transformer.h.9.attn.b\", \"transformer.h.9.attn.c_attn.weight\", \"transformer.h.9.attn.c_attn.bias\", \"transformer.h.9.attn.c_proj.weight\", \"transformer.h.9.attn.c_proj.bias\", \"transformer.h.9.ln_1.weight\", \"transformer.h.9.ln_1.bias\", \"transformer.h.9.mlp.c_fc.weight\", \"transformer.h.9.mlp.c_fc.bias\", \"transformer.h.9.mlp.c_proj.weight\", \"transformer.h.9.mlp.c_proj.bias\", \"transformer.h.9.ln_2.weight\", \"transformer.h.9.ln_2.bias\", \"transformer.h.10.attn.b\", \"transformer.h.10.attn.c_attn.weight\", \"transformer.h.10.attn.c_attn.bias\", \"transformer.h.10.attn.c_proj.weight\", \"transformer.h.10.attn.c_proj.bias\", \"transformer.h.10.ln_1.weight\", \"transformer.h.10.ln_1.bias\", \"transformer.h.10.mlp.c_fc.weight\", \"transformer.h.10.mlp.c_fc.bias\", \"transformer.h.10.mlp.c_proj.weight\", \"transformer.h.10.mlp.c_proj.bias\", \"transformer.h.10.ln_2.weight\", \"transformer.h.10.ln_2.bias\", \"transformer.h.11.attn.b\", \"transformer.h.11.attn.c_attn.weight\", \"transformer.h.11.attn.c_attn.bias\", \"transformer.h.11.attn.c_proj.weight\", \"transformer.h.11.attn.c_proj.bias\", \"transformer.h.11.ln_1.weight\", \"transformer.h.11.ln_1.bias\", \"transformer.h.11.mlp.c_fc.weight\", \"transformer.h.11.mlp.c_fc.bias\", \"transformer.h.11.mlp.c_proj.weight\", \"transformer.h.11.mlp.c_proj.bias\", \"transformer.h.11.ln_2.weight\", \"transformer.h.11.ln_2.bias\", \"lm_head.decoder.weight\". ",
     "output_type": "error",
     "traceback": [
      "\u001b[0;31m---------------------------------------------------------------------------\u001b[0m",
      "\u001b[0;31mRuntimeError\u001b[0m                              Traceback (most recent call last)",
      "\u001b[0;32m<ipython-input-10-e939495bab38>\u001b[0m in \u001b[0;36m<module>\u001b[0;34m\u001b[0m\n\u001b[1;32m      1\u001b[0m \u001b[0mlearn\u001b[0m \u001b[0;34m=\u001b[0m \u001b[0mlanguage_model_learner\u001b[0m\u001b[0;34m(\u001b[0m\u001b[0mdata\u001b[0m\u001b[0;34m,\u001b[0m \u001b[0mdrop_mult\u001b[0m\u001b[0;34m=\u001b[0m\u001b[0;36m1\u001b[0m\u001b[0;34m,\u001b[0m \u001b[0mclip\u001b[0m\u001b[0;34m=\u001b[0m\u001b[0;36m.2\u001b[0m\u001b[0;34m,\u001b[0m \u001b[0mbptt\u001b[0m\u001b[0;34m=\u001b[0m\u001b[0mbptt\u001b[0m\u001b[0;34m)\u001b[0m\u001b[0;34m\u001b[0m\u001b[0;34m\u001b[0m\u001b[0m\n\u001b[0;32m----> 2\u001b[0;31m \u001b[0mlearn\u001b[0m \u001b[0;34m=\u001b[0m \u001b[0mlearn\u001b[0m\u001b[0;34m.\u001b[0m\u001b[0mload\u001b[0m\u001b[0;34m(\u001b[0m\u001b[0mmodel_path\u001b[0m\u001b[0;34m)\u001b[0m\u001b[0;34m\u001b[0m\u001b[0;34m\u001b[0m\u001b[0m\n\u001b[0m",
      "\u001b[0;32m~/fastai/fastai/basic_train.py\u001b[0m in \u001b[0;36mload\u001b[0;34m(self, name, device, strict, with_opt)\u001b[0m\n\u001b[1;32m    238\u001b[0m         \u001b[0mstate\u001b[0m \u001b[0;34m=\u001b[0m \u001b[0mtorch\u001b[0m\u001b[0;34m.\u001b[0m\u001b[0mload\u001b[0m\u001b[0;34m(\u001b[0m\u001b[0mself\u001b[0m\u001b[0;34m.\u001b[0m\u001b[0mpath\u001b[0m\u001b[0;34m/\u001b[0m\u001b[0mself\u001b[0m\u001b[0;34m.\u001b[0m\u001b[0mmodel_dir\u001b[0m\u001b[0;34m/\u001b[0m\u001b[0;34mf'{name}.pth'\u001b[0m\u001b[0;34m,\u001b[0m \u001b[0mmap_location\u001b[0m\u001b[0;34m=\u001b[0m\u001b[0mdevice\u001b[0m\u001b[0;34m)\u001b[0m\u001b[0;34m\u001b[0m\u001b[0;34m\u001b[0m\u001b[0m\n\u001b[1;32m    239\u001b[0m         \u001b[0;32mif\u001b[0m \u001b[0mset\u001b[0m\u001b[0;34m(\u001b[0m\u001b[0mstate\u001b[0m\u001b[0;34m.\u001b[0m\u001b[0mkeys\u001b[0m\u001b[0;34m(\u001b[0m\u001b[0;34m)\u001b[0m\u001b[0;34m)\u001b[0m \u001b[0;34m==\u001b[0m \u001b[0;34m{\u001b[0m\u001b[0;34m'model'\u001b[0m\u001b[0;34m,\u001b[0m \u001b[0;34m'opt'\u001b[0m\u001b[0;34m}\u001b[0m\u001b[0;34m:\u001b[0m\u001b[0;34m\u001b[0m\u001b[0;34m\u001b[0m\u001b[0m\n\u001b[0;32m--> 240\u001b[0;31m             \u001b[0mget_model\u001b[0m\u001b[0;34m(\u001b[0m\u001b[0mself\u001b[0m\u001b[0;34m.\u001b[0m\u001b[0mmodel\u001b[0m\u001b[0;34m)\u001b[0m\u001b[0;34m.\u001b[0m\u001b[0mload_state_dict\u001b[0m\u001b[0;34m(\u001b[0m\u001b[0mstate\u001b[0m\u001b[0;34m[\u001b[0m\u001b[0;34m'model'\u001b[0m\u001b[0;34m]\u001b[0m\u001b[0;34m,\u001b[0m \u001b[0mstrict\u001b[0m\u001b[0;34m=\u001b[0m\u001b[0mstrict\u001b[0m\u001b[0;34m)\u001b[0m\u001b[0;34m\u001b[0m\u001b[0;34m\u001b[0m\u001b[0m\n\u001b[0m\u001b[1;32m    241\u001b[0m             \u001b[0;32mif\u001b[0m \u001b[0mifnone\u001b[0m\u001b[0;34m(\u001b[0m\u001b[0mwith_opt\u001b[0m\u001b[0;34m,\u001b[0m\u001b[0;32mTrue\u001b[0m\u001b[0;34m)\u001b[0m\u001b[0;34m:\u001b[0m\u001b[0;34m\u001b[0m\u001b[0;34m\u001b[0m\u001b[0m\n\u001b[1;32m    242\u001b[0m                 \u001b[0;32mif\u001b[0m \u001b[0;32mnot\u001b[0m \u001b[0mhasattr\u001b[0m\u001b[0;34m(\u001b[0m\u001b[0mself\u001b[0m\u001b[0;34m,\u001b[0m \u001b[0;34m'opt'\u001b[0m\u001b[0;34m)\u001b[0m\u001b[0;34m:\u001b[0m \u001b[0mopt\u001b[0m \u001b[0;34m=\u001b[0m \u001b[0mself\u001b[0m\u001b[0;34m.\u001b[0m\u001b[0mcreate_opt\u001b[0m\u001b[0;34m(\u001b[0m\u001b[0mdefaults\u001b[0m\u001b[0;34m.\u001b[0m\u001b[0mlr\u001b[0m\u001b[0;34m,\u001b[0m \u001b[0mself\u001b[0m\u001b[0;34m.\u001b[0m\u001b[0mwd\u001b[0m\u001b[0;34m)\u001b[0m\u001b[0;34m\u001b[0m\u001b[0;34m\u001b[0m\u001b[0m\n",
      "\u001b[0;32m~/anaconda3/envs/midi/lib/python3.7/site-packages/torch/nn/modules/module.py\u001b[0m in \u001b[0;36mload_state_dict\u001b[0;34m(self, state_dict, strict)\u001b[0m\n\u001b[1;32m    770\u001b[0m         \u001b[0;32mif\u001b[0m \u001b[0mlen\u001b[0m\u001b[0;34m(\u001b[0m\u001b[0merror_msgs\u001b[0m\u001b[0;34m)\u001b[0m \u001b[0;34m>\u001b[0m \u001b[0;36m0\u001b[0m\u001b[0;34m:\u001b[0m\u001b[0;34m\u001b[0m\u001b[0;34m\u001b[0m\u001b[0m\n\u001b[1;32m    771\u001b[0m             raise RuntimeError('Error(s) in loading state_dict for {}:\\n\\t{}'.format(\n\u001b[0;32m--> 772\u001b[0;31m                                self.__class__.__name__, \"\\n\\t\".join(error_msgs)))\n\u001b[0m\u001b[1;32m    773\u001b[0m \u001b[0;34m\u001b[0m\u001b[0m\n\u001b[1;32m    774\u001b[0m     \u001b[0;32mdef\u001b[0m \u001b[0m_named_members\u001b[0m\u001b[0;34m(\u001b[0m\u001b[0mself\u001b[0m\u001b[0;34m,\u001b[0m \u001b[0mget_members_fn\u001b[0m\u001b[0;34m,\u001b[0m \u001b[0mprefix\u001b[0m\u001b[0;34m=\u001b[0m\u001b[0;34m''\u001b[0m\u001b[0;34m,\u001b[0m \u001b[0mrecurse\u001b[0m\u001b[0;34m=\u001b[0m\u001b[0;32mTrue\u001b[0m\u001b[0;34m)\u001b[0m\u001b[0;34m:\u001b[0m\u001b[0;34m\u001b[0m\u001b[0;34m\u001b[0m\u001b[0m\n",
      "\u001b[0;31mRuntimeError\u001b[0m: Error(s) in loading state_dict for SequentialRNN:\n\tMissing key(s) in state_dict: \"0.encoder.weight\", \"0.encoder_dp.emb.weight\", \"0.rnns.0.weight_hh_l0_raw\", \"0.rnns.0.module.weight_ih_l0\", \"0.rnns.0.module.weight_hh_l0\", \"0.rnns.0.module.bias_ih_l0\", \"0.rnns.0.module.bias_hh_l0\", \"0.rnns.1.weight_hh_l0_raw\", \"0.rnns.1.module.weight_ih_l0\", \"0.rnns.1.module.weight_hh_l0\", \"0.rnns.1.module.bias_ih_l0\", \"0.rnns.1.module.bias_hh_l0\", \"0.rnns.2.weight_hh_l0_raw\", \"0.rnns.2.module.weight_ih_l0\", \"0.rnns.2.module.weight_hh_l0\", \"0.rnns.2.module.bias_ih_l0\", \"0.rnns.2.module.bias_hh_l0\", \"1.decoder.weight\", \"1.decoder.bias\". \n\tUnexpected key(s) in state_dict: \"transformer.embed.weight\", \"transformer.embed_pos.weight\", \"transformer.h.0.attn.b\", \"transformer.h.0.attn.c_attn.weight\", \"transformer.h.0.attn.c_attn.bias\", \"transformer.h.0.attn.c_proj.weight\", \"transformer.h.0.attn.c_proj.bias\", \"transformer.h.0.ln_1.weight\", \"transformer.h.0.ln_1.bias\", \"transformer.h.0.mlp.c_fc.weight\", \"transformer.h.0.mlp.c_fc.bias\", \"transformer.h.0.mlp.c_proj.weight\", \"transformer.h.0.mlp.c_proj.bias\", \"transformer.h.0.ln_2.weight\", \"transformer.h.0.ln_2.bias\", \"transformer.h.1.attn.b\", \"transformer.h.1.attn.c_attn.weight\", \"transformer.h.1.attn.c_attn.bias\", \"transformer.h.1.attn.c_proj.weight\", \"transformer.h.1.attn.c_proj.bias\", \"transformer.h.1.ln_1.weight\", \"transformer.h.1.ln_1.bias\", \"transformer.h.1.mlp.c_fc.weight\", \"transformer.h.1.mlp.c_fc.bias\", \"transformer.h.1.mlp.c_proj.weight\", \"transformer.h.1.mlp.c_proj.bias\", \"transformer.h.1.ln_2.weight\", \"transformer.h.1.ln_2.bias\", \"transformer.h.2.attn.b\", \"transformer.h.2.attn.c_attn.weight\", \"transformer.h.2.attn.c_attn.bias\", \"transformer.h.2.attn.c_proj.weight\", \"transformer.h.2.attn.c_proj.bias\", \"transformer.h.2.ln_1.weight\", \"transformer.h.2.ln_1.bias\", \"transformer.h.2.mlp.c_fc.weight\", \"transformer.h.2.mlp.c_fc.bias\", \"transformer.h.2.mlp.c_proj.weight\", \"transformer.h.2.mlp.c_proj.bias\", \"transformer.h.2.ln_2.weight\", \"transformer.h.2.ln_2.bias\", \"transformer.h.3.attn.b\", \"transformer.h.3.attn.c_attn.weight\", \"transformer.h.3.attn.c_attn.bias\", \"transformer.h.3.attn.c_proj.weight\", \"transformer.h.3.attn.c_proj.bias\", \"transformer.h.3.ln_1.weight\", \"transformer.h.3.ln_1.bias\", \"transformer.h.3.mlp.c_fc.weight\", \"transformer.h.3.mlp.c_fc.bias\", \"transformer.h.3.mlp.c_proj.weight\", \"transformer.h.3.mlp.c_proj.bias\", \"transformer.h.3.ln_2.weight\", \"transformer.h.3.ln_2.bias\", \"transformer.h.4.attn.b\", \"transformer.h.4.attn.c_attn.weight\", \"transformer.h.4.attn.c_attn.bias\", \"transformer.h.4.attn.c_proj.weight\", \"transformer.h.4.attn.c_proj.bias\", \"transformer.h.4.ln_1.weight\", \"transformer.h.4.ln_1.bias\", \"transformer.h.4.mlp.c_fc.weight\", \"transformer.h.4.mlp.c_fc.bias\", \"transformer.h.4.mlp.c_proj.weight\", \"transformer.h.4.mlp.c_proj.bias\", \"transformer.h.4.ln_2.weight\", \"transformer.h.4.ln_2.bias\", \"transformer.h.5.attn.b\", \"transformer.h.5.attn.c_attn.weight\", \"transformer.h.5.attn.c_attn.bias\", \"transformer.h.5.attn.c_proj.weight\", \"transformer.h.5.attn.c_proj.bias\", \"transformer.h.5.ln_1.weight\", \"transformer.h.5.ln_1.bias\", \"transformer.h.5.mlp.c_fc.weight\", \"transformer.h.5.mlp.c_fc.bias\", \"transformer.h.5.mlp.c_proj.weight\", \"transformer.h.5.mlp.c_proj.bias\", \"transformer.h.5.ln_2.weight\", \"transformer.h.5.ln_2.bias\", \"transformer.h.6.attn.b\", \"transformer.h.6.attn.c_attn.weight\", \"transformer.h.6.attn.c_attn.bias\", \"transformer.h.6.attn.c_proj.weight\", \"transformer.h.6.attn.c_proj.bias\", \"transformer.h.6.ln_1.weight\", \"transformer.h.6.ln_1.bias\", \"transformer.h.6.mlp.c_fc.weight\", \"transformer.h.6.mlp.c_fc.bias\", \"transformer.h.6.mlp.c_proj.weight\", \"transformer.h.6.mlp.c_proj.bias\", \"transformer.h.6.ln_2.weight\", \"transformer.h.6.ln_2.bias\", \"transformer.h.7.attn.b\", \"transformer.h.7.attn.c_attn.weight\", \"transformer.h.7.attn.c_attn.bias\", \"transformer.h.7.attn.c_proj.weight\", \"transformer.h.7.attn.c_proj.bias\", \"transformer.h.7.ln_1.weight\", \"transformer.h.7.ln_1.bias\", \"transformer.h.7.mlp.c_fc.weight\", \"transformer.h.7.mlp.c_fc.bias\", \"transformer.h.7.mlp.c_proj.weight\", \"transformer.h.7.mlp.c_proj.bias\", \"transformer.h.7.ln_2.weight\", \"transformer.h.7.ln_2.bias\", \"transformer.h.8.attn.b\", \"transformer.h.8.attn.c_attn.weight\", \"transformer.h.8.attn.c_attn.bias\", \"transformer.h.8.attn.c_proj.weight\", \"transformer.h.8.attn.c_proj.bias\", \"transformer.h.8.ln_1.weight\", \"transformer.h.8.ln_1.bias\", \"transformer.h.8.mlp.c_fc.weight\", \"transformer.h.8.mlp.c_fc.bias\", \"transformer.h.8.mlp.c_proj.weight\", \"transformer.h.8.mlp.c_proj.bias\", \"transformer.h.8.ln_2.weight\", \"transformer.h.8.ln_2.bias\", \"transformer.h.9.attn.b\", \"transformer.h.9.attn.c_attn.weight\", \"transformer.h.9.attn.c_attn.bias\", \"transformer.h.9.attn.c_proj.weight\", \"transformer.h.9.attn.c_proj.bias\", \"transformer.h.9.ln_1.weight\", \"transformer.h.9.ln_1.bias\", \"transformer.h.9.mlp.c_fc.weight\", \"transformer.h.9.mlp.c_fc.bias\", \"transformer.h.9.mlp.c_proj.weight\", \"transformer.h.9.mlp.c_proj.bias\", \"transformer.h.9.ln_2.weight\", \"transformer.h.9.ln_2.bias\", \"transformer.h.10.attn.b\", \"transformer.h.10.attn.c_attn.weight\", \"transformer.h.10.attn.c_attn.bias\", \"transformer.h.10.attn.c_proj.weight\", \"transformer.h.10.attn.c_proj.bias\", \"transformer.h.10.ln_1.weight\", \"transformer.h.10.ln_1.bias\", \"transformer.h.10.mlp.c_fc.weight\", \"transformer.h.10.mlp.c_fc.bias\", \"transformer.h.10.mlp.c_proj.weight\", \"transformer.h.10.mlp.c_proj.bias\", \"transformer.h.10.ln_2.weight\", \"transformer.h.10.ln_2.bias\", \"transformer.h.11.attn.b\", \"transformer.h.11.attn.c_attn.weight\", \"transformer.h.11.attn.c_attn.bias\", \"transformer.h.11.attn.c_proj.weight\", \"transformer.h.11.attn.c_proj.bias\", \"transformer.h.11.ln_1.weight\", \"transformer.h.11.ln_1.bias\", \"transformer.h.11.mlp.c_fc.weight\", \"transformer.h.11.mlp.c_fc.bias\", \"transformer.h.11.mlp.c_proj.weight\", \"transformer.h.11.mlp.c_proj.bias\", \"transformer.h.11.ln_2.weight\", \"transformer.h.11.ln_2.bias\", \"lm_head.decoder.weight\". "
     ]
    }
   ],
   "source": [
    "learn = language_model_learner(data, drop_mult=1, clip=.2, bptt=bptt)\n",
    "learn = learn.load(model_path)"
   ]
  },
  {
   "cell_type": "markdown",
   "metadata": {},
   "source": [
    "## Done"
   ]
  },
  {
   "cell_type": "code",
   "execution_count": null,
   "metadata": {},
   "outputs": [],
   "source": [
    "out = learn.pred_batch()"
   ]
  },
  {
   "cell_type": "code",
   "execution_count": null,
   "metadata": {
    "scrolled": true
   },
   "outputs": [],
   "source": [
    "learn.show_results(rows=5, max_len=25)"
   ]
  },
  {
   "cell_type": "code",
   "execution_count": 12,
   "metadata": {},
   "outputs": [
    {
     "data": {
      "text/plain": [
       "PosixPath('data/midi/midi_transcribe_v3_shortdur/classic_piano/bk_xmas2_format0.txt')"
      ]
     },
     "execution_count": 12,
     "metadata": {},
     "output_type": "execute_result"
    }
   ],
   "source": [
    "idx = 5\n",
    "seed_len = 200\n",
    "files = get_files(path/'classic_piano', recurse=True)\n",
    "file = files[idx]; file"
   ]
  },
  {
   "cell_type": "code",
   "execution_count": 13,
   "metadata": {},
   "outputs": [
    {
     "data": {
      "text/plain": [
       "'|| t0 nE1 t1 nE2 t1 || t0 nE1 t1 nE2 t1 || t0 nE1 t1 || t0 nE1 t1 nE2 t1 || t0 nE1 t1 nE2 t1 || t0 nE1 t1 nE2 t1 || t0 nE1 t1 || t0 nE1 t1 nE2 t1 || t0 nE1 t1 nE2 t1 nG#3 t4 nD4 t4 nE4 t4 || t0 nE1 t1 nE2 t1 || t0 nE1 t1 || t0 nE1 t1 nE2 t1 || t0 nE1 t1 nE2 t1 nG#3 t3 nD4 t3 nE4 t3 || t0 nE1 t1 nE2 t1 || t0 nE1 t1 || t0 nE1 t1 nE2 t1 nG#3 t1 nD4 t1 nE4 t1 || t0 nE1 t1 nE2 t1 nA3 t8 nD4 t8 nF#4 t8 || t0 nE1 t1 nE2 t1 || t0 nE1 t1 || t0 nE1 t1 nE2 t1 || t0 nE1 t1 nE2 t1 || t0 nE1 t1 nE2 t1 || t0 nE1 t1 || t0 nE1 t1 nE2 t1 || t0 nE1 t1 nE2 t1 nB3 t4 nD4 t4 nG#4 t4 || t0 nE1 t1 nE2 t1 || t0 nE1 t1 || t0 nE1 t1 nE2 t1 || t0 nE1 t1 nE2 t1 nB3 t3 nD4 t3 nG#4 t3 || t0 nE1 t1'"
      ]
     },
     "execution_count": 13,
     "metadata": {},
     "output_type": "execute_result"
    }
   ],
   "source": [
    "with open(file, 'r') as f:\n",
    "    txt_out = f.read()\n",
    "notes = txt_out.split(' ')\n",
    "seed = ' '.join(notes[:seed_len]); seed\n"
   ]
  },
  {
   "cell_type": "code",
   "execution_count": 14,
   "metadata": {},
   "outputs": [
    {
     "data": {
      "text/plain": [
       "'|| t0 nE1 t1 nE2 t1 || t0 nE1 t1 nE2 t1 || t0 nE1 t1 || t0 nE1 t1 nE2 t1 || t0 nE1 t1 nE2 t1 || t0 nE1 t1 nE2 t1 || t0 nE1 t1 || t0 nE1 t1 nE2 t1 || t0 nE1 t1 nE2 t1 nG#3 t4 nD4 t4 nE4 t4 || t0 nE1 t1 nE2 t1 || t0 nE1 t1 || t0 nE1 t1 nE2 t1 || t0 nE1 t1 nE2 t1 nG#3 t3 nD4 t3 nE4 t3 || t0 nE1 t1 nE2 t1 || t0 nE1 t1 || t0 nE1 t1 nE2 t1 nG#3 t1 nD4 t1 nE4 t1 || t0 nE1 t1 nE2 t1 nA3 t8 nD4 t8 nF#4 t8 || t0 nE1 t1 nE2 t1 || t0 nE1 t1 || t0 nE1 t1 nE2 t1 || t0 nE1 t1 nE2 t1 || t0 nE1 t1 nE2 t1 || t0 nE1 t1 || t0 nE1 t1 nE2 t1 || t0 nE1 t1 nE2 t1 nB3 t4 nD4 t4 nG#4 t4 || t0 nE1 t1 nE2 t1 || t0 nE1 t1 || t0 nE1 t1 nE2 t1 || t0 nE1 t1 nE2 t1 nB3 t3 nD4 t3 nG#4 t3 || t0 nE1 t1 nE2 t1 || t0 nE1 t2 nE2 t2 || t0 nE1 t2 nE2 t2 || t1 nE1 t2 nE2 t1 nF#4 t1 || t0 nE2 t1 || t0 nE1 t1 || t0 nE1 t1 nG#2 t1 || t0 nE2 t1 nE3 t2 || t0 nE2 t3 || t0 nE1 t2 nG#4 t2 || t0 nE1 t1 nE2 t1 || t0 nE1 t2 nE2 t2 nB3 t1 nD4 t1 nG#4 t1 nB4 t1 || t0 nE1 t7 || t0 nE1 t1 nD4 t1 nF4 t1 nG#4 t1 nD5 t1 || t0 nE2 t3 nG#4 t1 nB4 t1 || t0 nE4 t2 nE5 t2 || t0 nE1 t2 nE2 t1 || t0 nE2 t1 nE3 t1 nB4 t3 nE5 t3 || t2 nD2 t5 nD3 t5 nB4 t1 nD5 t1 nE5 t1 || t0 nE1 t1 nE2 t1 || t0 nB4 t4 || t0 nE2 t1 nF#3 t1 nE-5 t21 nB5 t3 nD6 t1 || t0 nA1 t1 nA2 t1 nC5 t1 nE5 t1 nF5 t1 nA5 t1 nC6 t1 || t1 nD1 t4 nD2 t4 nC5 t4 nE5 t4 nA5 t4 nC6 t4 || t0 nF#2 t1 nF#3 t1 nC5 t1 || t1 nG#1 t1 nG#2 t1 nB4 t1 nB5 t1'"
      ]
     },
     "execution_count": 14,
     "metadata": {},
     "output_type": "execute_result"
    }
   ],
   "source": [
    "pred_out = learn.predict(seed, n_words=200); pred_out"
   ]
  },
  {
   "cell_type": "markdown",
   "metadata": {},
   "source": [
    "### Beam search"
   ]
  },
  {
   "cell_type": "code",
   "execution_count": 15,
   "metadata": {},
   "outputs": [],
   "source": [
    "cuda_enabled=True\n",
    "def get_x_input(partial):\n",
    "    _, _, _, seq = partial\n",
    "    max_len = bptt-50\n",
    "    input = seq[-max_len:]\n",
    "    input_var = torch.LongTensor([input])\n",
    "    if cuda_enabled:\n",
    "        input_var = input_var.cuda()\n",
    "    return input_var\n",
    "#     return input_var.unsqueeze(dim=0)\n",
    "\n",
    "# song = string\n",
    "# seq_length = generated song length\n",
    "# beam_size = what to choose from\n",
    "def beam_search(seed, seq_length, beam_size, learn):    \n",
    "    xb, yb = learn.data.one_item(seed)\n",
    "    seed_list = xb.squeeze().tolist()\n",
    "    learn.model.reset()\n",
    "    partial_sequences = [(0, 0, [], seed_list)]\n",
    "    \n",
    "    for i in progress_bar(range(seq_length), leave=False):\n",
    "        partial_sequences = find_partials(partial_sequences, beam_size, learn)\n",
    "    final_sequence = partial_sequences[0][3] # 0 = highest prob, 3 = seq\n",
    "    return learn.data.vocab.textify(final_sequence), final_sequence\n",
    "    \n",
    "def find_partials(partial_sequences, beam_size, learn, \n",
    "                  no_maj:bool=False, no_unk:bool=True, temperature:float=2, \n",
    "                  min_p:float=None, random=True):\n",
    "    partial_next = []\n",
    "    for partial in partial_sequences:\n",
    "        it, tot_p, p_list, seq = partial\n",
    "        x_input = get_x_input(partial)\n",
    "        y = torch.zeros_like(x_input)\n",
    "        \n",
    "        predict_probs = learn.pred_batch(batch=(x_input,y)).squeeze()[-1]\n",
    "        if no_unk: predict_probs[learn.data.vocab.stoi[UNK]] = 0.\n",
    "        if no_maj: predict_probs[learn.data.vocab.stoi[TK_MAJ]] = 0.\n",
    "        if min_p is not None: predict_probs[res < min_p] = 0.\n",
    "        if temperature != 1.: predict_probs.pow_(1 / temperature)\n",
    "            \n",
    "            \n",
    "        if random:\n",
    "            idxs = torch.multinomial(predict_probs, beam_size)\n",
    "            probs = predict_probs[idxs]\n",
    "        else:\n",
    "            # last_it_probs = torch.exp(predict_probs[-(it+1):]) # this is to predict the last few iterations\n",
    "            last_it_probs = torch.exp(predict_probs)\n",
    "            probs, idxs = torch.topk(last_it_probs, beam_size, 0)\n",
    "        \n",
    "#         reps = [(data.vocab.itos[i],p) for i,p in zip(idxs,probs) if i in [8, 9]]\n",
    "#         if reps: print(reps)\n",
    "            \n",
    "        def calc_prob(probs):\n",
    "#             return np.prod(-np.log(probs[-beam_size:]))\n",
    "            return -np.prod(np.abs(np.log(probs[-(beam_size*10):])))\n",
    "            \n",
    "        for prob,idx in zip(probs,idxs):\n",
    "            new_p_list = p_list+[prob.item()]\n",
    "#             print(calc_prob(new_p_list))\n",
    "            partial_next.append((it+1, calc_prob(new_p_list), new_p_list, seq+[idx.item()]))\n",
    "\n",
    "    partial_sequences = sorted(partial_next, key=lambda x: x[1], reverse=True)[:beam_size]\n",
    "    return partial_sequences"
   ]
  },
  {
   "cell_type": "code",
   "execution_count": 16,
   "metadata": {},
   "outputs": [],
   "source": [
    "pred_beam, idxs = beam_search(seed, seq_length=200, beam_size=4, learn=learn)"
   ]
  },
  {
   "cell_type": "code",
   "execution_count": 17,
   "metadata": {},
   "outputs": [
    {
     "data": {
      "text/plain": [
       "'|| t0 nE1 t1 nE2 t1 || t0 nE1 t1 nE2 t1 || t0 nE1 t1 || t0 nE1 t1 nE2 t1 || t0 nE1 t1 nE2 t1 || t0 nE1 t1 nE2 t1 || t0 nE1 t1 || t0 nE1 t1 nE2 t1 || t0 nE1 t1 nE2 t1 nG#3 t4 nD4 t4 nE4 t4 || t0 nE1 t1 nE2 t1 || t0 nE1 t1 || t0 nE1 t1 nE2 t1 || t0 nE1 t1 nE2 t1 nG#3 t3 nD4 t3 nE4 t3 || t0 nE1 t1 nE2 t1 || t0 nE1 t1 || t0 nE1 t1 nE2 t1 nG#3 t1 nD4 t1 nE4 t1 || t0 nE1 t1 nE2 t1 nA3 t8 nD4 t8 nF#4 t8 || t0 nE1 t1 nE2 t1 || t0 nE1 t1 || t0 nE1 t1 nE2 t1 || t0 nE1 t1 nE2 t1 || t0 nE1 t1 nE2 t1 || t0 nE1 t1 || t0 nE1 t1 nE2 t1 || t0 nE1 t1 nE2 t1 nB3 t4 nD4 t4 nG#4 t4 || t0 nE1 t1 nE2 t1 || t0 nE1 t1 || t0 nE1 t1 nE2 t1 || t0 nE1 t1 nE2 t1 nB3 t3 nD4 t3 nG#4 t3 || t0 nE1 t1 || t0 nE1 t1 || t0 nE2 t1 || t0 nE1 t3 nB3 t1 nD4 t1 nG4 t1 || t0 nE1 t1 nE2 t1 || t0 nE1 t1 nE2 t1 || t0 nE1 t1 nG#3 t2 nB3 t2 nE4 t2 nG#4 t2 || t0 nD1 t1 || t0 nE1 t2 || t0 nE1 t1 nE2 t50 || t0 nE1 t9 nE2 t5 || t0 nE1 t116 nE2 t1 || t0 nE4 t1 || t0 nD4 t41 nE4 t32 || t0 nE1 t1 || t0 nE1 t10 nE2 t66 || t0 nE1 t2 nE2 t131 nD4 t3 || t0 nG3 t1 nB3 t1 || t0 nE1 t1 nE2 t2 nG3 t1 || t0 nB3 t1 nG4 t1 || t0 nE-4 t1 || t0 nE4 t5 nF#4 t1 || t0 nG4 t3 || t0 nG4 t4 || t0 nG4 t20 || t0 nC5 t4 || t0 nB-4 t1 || t0 nG5 t2 || t1 nG5 t1 || t0 nF#5 t1 || t0 nE6 t1 || t0 nF#6 t54 || t0 nF#6 t1 || t0 nE6 t1 || t0 nF6 t1 || t0 nG6 t1 nA6 t1 || t0 nG4 t1 nG6 t1 || t0 nG6 t88 || t0 nG6 t1 || t1'"
      ]
     },
     "execution_count": 17,
     "metadata": {},
     "output_type": "execute_result"
    }
   ],
   "source": [
    "pred_beam"
   ]
  },
  {
   "cell_type": "code",
   "execution_count": 18,
   "metadata": {},
   "outputs": [
    {
     "data": {
      "text/plain": [
       "'|| t0 nE1 t1 || t0 nE2 t1 || t0 nE1 t3 nB3 t1 nD4 t1 nG4 t1 || t0 nE1 t1 nE2 t1 || t0 nE1 t1 nE2 t1 || t0 nE1 t1 nG#3 t2 nB3 t2 nE4 t2 nG#4 t2 || t0 nD1 t1 || t0 nE1 t2 || t0 nE1 t1 nE2 t50 || t0 nE1 t9 nE2 t5 || t0 nE1 t116 nE2 t1 || t0 nE4 t1 || t0 nD4 t41 nE4 t32 || t0 nE1 t1 || t0 nE1 t10 nE2 t66 || t0 nE1 t2 nE2 t131 nD4 t3 || t0 nG3 t1 nB3 t1 || t0 nE1 t1 nE2 t2 nG3 t1 || t0 nB3 t1 nG4 t1 || t0 nE-4 t1 || t0 nE4 t5 nF#4 t1 || t0 nG4 t3 || t0 nG4 t4 || t0 nG4 t20 || t0 nC5 t4 || t0 nB-4 t1 || t0 nG5 t2 || t1 nG5 t1 || t0 nF#5 t1 || t0 nE6 t1 || t0 nF#6 t54 || t0 nF#6 t1 || t0 nE6 t1 || t0 nF6 t1 || t0 nG6 t1 nA6 t1 || t0 nG4 t1 nG6 t1 || t0 nG6 t88 || t0 nG6 t1 || t1'"
      ]
     },
     "execution_count": 18,
     "metadata": {},
     "output_type": "execute_result"
    }
   ],
   "source": [
    "pred_beam_only = pred_beam.replace(seed, '').strip(); pred_beam_only"
   ]
  },
  {
   "cell_type": "code",
   "execution_count": 19,
   "metadata": {},
   "outputs": [
    {
     "data": {
      "text/html": [
       "\n",
       "                <div id='midiPlayerDiv331'></div>\n",
       "                <link rel=\"stylesheet\" href=\"//cuthbertLab.github.io/music21j/css/m21.css\"\n",
       "                    type=\"text/css\" />\n",
       "                <script>\n",
       "                require.config({\n",
       "                    paths: {'music21': '//cuthbertLab.github.io/music21j/src/music21'}\n",
       "                });\n",
       "                require(['music21'], function() {\n",
       "                               mp = new music21.miditools.MidiPlayer();\n",
       "                               mp.addPlayer('#midiPlayerDiv331');\n",
       "                               mp.base64Load('data:audio/midi;base64,TVRoZAAAAAYAAQABBABNVHJrAAACMwD/AwVQaWFubwDAAADgAEAAwAAA/1EDB6EgggCQHFqCAIAcAACQKFqCAIAoAACQHFoAkDtaAJA+WgCQQ1qCAJAcWgCQKFqCAIAcAACAKAAAkBxaAJAoWoIAgBwAAIA7AACAPgAAgEMAAIAcAACAKAAAkBxaAJA4WgCQO1oAkEBaAJBEWoIAgBwAAIA4AACAOwAAgEAAAIBEAACQGlqCAIAaAACQHFqCAJAcWgCQKFqCAIAcAACAHAAAgCgAAJAcWgCQKFqCAJAcWgCQKFqCAJBAWoIAgEAAAJA+WgCQQFqCAJAcWoIAgBwAAJAcWgCQKFqCAJAcWgCQKFoAkD5aggCQN1oAkDtaggCAHAAAgCgAAIA+AACANwAAgDsAAJAcWgCQKFoAkDdaggCAHAAAgCgAAIAcAACAKAAAgDcAAJA7WgCQQ1qCAIA7AACAQwAAkD9aggCAPwAAkEBaAJBCWoIAkENaggCQQ1qCAJBDWoIAgBwAAIAoAACAQwAAkEhaggCAQAAAgEIAAJBGWoIAgEMAAIBGAACQT1qEAIBIAACATwAAkE9aggCATwAAkE5aggCATgAAkFhaggCAWAAAkFpaggCQWlqCAIBaAACQWFqCAIBYAACQWVqCAIBZAACQW1oAkF1aggCAWwAAgF0AAJBDWgCQW1qCAIBDAACAWwAAkFtaggCQW1qCAIBbAIgAgEMAlACAPgAAgEAAwACAWgDQAIBbAIIAgBwAAIAoAIgA/y8A');\n",
       "                        });\n",
       "                </script>"
      ],
      "text/plain": [
       "<IPython.core.display.HTML object>"
      ]
     },
     "metadata": {},
     "output_type": "display_data"
    }
   ],
   "source": [
    "ns_only = str2stream(pred_beam_only)\n",
    "ns_only.show('midi')"
   ]
  },
  {
   "cell_type": "code",
   "execution_count": 20,
   "metadata": {},
   "outputs": [
    {
     "data": {
      "image/png": "[encoded data removed]",
      "text/plain": [
       "<IPython.core.display.Image object>"
      ]
     },
     "execution_count": 20,
     "metadata": {},
     "output_type": "execute_result"
    }
   ],
   "source": [
    "display_score(ns_only)"
   ]
  },
  {
   "cell_type": "code",
   "execution_count": 21,
   "metadata": {},
   "outputs": [
    {
     "data": {
      "text/html": [
       "\n",
       "                <div id='midiPlayerDiv608'></div>\n",
       "                <link rel=\"stylesheet\" href=\"//cuthbertLab.github.io/music21j/css/m21.css\"\n",
       "                    type=\"text/css\" />\n",
       "                <script>\n",
       "                require.config({\n",
       "                    paths: {'music21': '//cuthbertLab.github.io/music21j/src/music21'}\n",
       "                });\n",
       "                require(['music21'], function() {\n",
       "                               mp = new music21.miditools.MidiPlayer();\n",
       "                               mp.addPlayer('#midiPlayerDiv608');\n",
       "                               mp.base64Load('data:audio/midi;base64,TVRoZAAAAAYAAQABBABNVHJrAAACbgD/AwVQaWFubwDAAADgAEAAwAAA/1EDB6EgggCQHFoAkChaggCAHAAAgCgAAJAcWgCQKFqCAIAcAACAKAAAkBxaggCAHAAAkBxaAJAoWoIAgBwAAIAoAACQHFoAkChaggCAHAAAgCgAAJAcWgCQKFqCAIAcAACAKAAAkBxaggCAHAAAkBxaAJAoWoIAgBwAAIAoAACQHFoAkChaAJA4WgCQPloAkEBaggCAHAAAgCgAAIA4AACAPgAAgEAAAJAcWgCQKFqCAIAcAACAKAAAkBxaggCAHAAAkBxaAJAoWoIAgBwAAIAoAACQHFoAkChaAJA4WgCQPloAkEBaggCAHAAAgCgAAIA4AACAPgAAgEAAAJAcWgCQKFqCAIAcAACAKAAAkBxaggCAHAAAkBxaAJAoWgCQOFoAkD5aAJBAWoIAgBwAAIAoAACAOAAAgD4AAIBAAACQHFoAkChaAJA5WgCQPloAkEJaggCAHAAAgCgAAIA5AACAPgAAgEIAAJAcWgCQKFqCAIAcAACAKAAAkBxaggCAHAAAkBxaAJAoWoIAgBwAAIAoAACQHFoAkChaggCAHAAAgCgAAJAcWgCQKFqCAIAcAACAKAAAkBxaggCAHAAAkBxaAJAoWoIAgBwAAIAoAACQHFoAkChaAJA7WgCQPloAkERaggCAHAAAgCgAAIA7AACAPgAAgEQAAJAcWgCQKFqCAIAcAACAKAAAkBxaggCAHAAAkBxaAJAoWoIAgBwAAIAoAACQHFoAkChaAJA7WgCQPloAkERaggCAHAAAgCgAAIA7AACAPgAAgEQAAJAcWoIAgBwAiAD/LwA=');\n",
       "                        });\n",
       "                </script>"
      ],
      "text/plain": [
       "<IPython.core.display.HTML object>"
      ]
     },
     "metadata": {},
     "output_type": "display_data"
    }
   ],
   "source": [
    "ns = str2stream(seed)\n",
    "ns.show('midi')"
   ]
  },
  {
   "cell_type": "markdown",
   "metadata": {},
   "source": [
    "### Testing"
   ]
  },
  {
   "cell_type": "code",
   "execution_count": 32,
   "metadata": {},
   "outputs": [
    {
     "data": {
      "text/plain": [
       "'|| t0 nG#1 t16 nE2 t16 || t3 nB1 t12 nG#2 t4 || t3 nG#2 t4 nB2 t4 || t3 nG#2 t4 nB2 t4 nE3 t4 || t3 nB1 t16 nG#2 t4 nB2 t4 nE3 t4 || t3 nE3 t4 || t11 nG#1 t16 nB1 t16 nE2 t4 nG#3 t4 || t9 nB3 t2 || t5 nG#1 t16 nB1 t16 nE2 t16 || t7 nE4 t8 || t7 nG#1 t16 nB1 t16 nE2 t16 nE4 t16 || t15 nG#1 t4 nB1 t4 nE2 t4 nE4 t16 || t15 nG#2 t2 nE3 t2 nE4 t1 || t0 nD4 t1 || t0 nA2 t2 nE3 t2 nD4 t1 || t1 nB2 t1 nE3 t2 || t0 nB3 t1 || t0 nC3 t2 nE3 t2 nB3 t1 || t0 nA3 t1 || t0 nG#2 t2 nE3 t2 nE4 t1 || t0 nD4 t1 || t0 nA2 t2 || t0 nE3 t1 nC4 t16 || t0 nB2 t1 || t0 nB3 t1 || t0 nC3 t2 nB3 t46 || t0 nA3 t1 || t0 nC#3 t2 nA4 t1 || t0 nG4 t1 || t0 nD3 t2 nA3 t1 nG4 t2 || t0 nF4 t1 || t0 nE3 t2 nA3 t2 nF4 t1 || t0'"
      ]
     },
     "execution_count": 32,
     "metadata": {},
     "output_type": "execute_result"
    }
   ],
   "source": [
    "seed"
   ]
  },
  {
   "cell_type": "code",
   "execution_count": 33,
   "metadata": {},
   "outputs": [
    {
     "data": {
      "text/plain": [
       "'nG4 t1 || t0 nE3 t2 nG3 t2 nD4 t1 || t0 nG4 t1 || t0 nD3 t2 nB3 t1 || t0 nB4 t1 || t0 nD3 t2 nF3 t2 nC4 t1 || t0 nG4 t1 || t0 nF3 t2 nG3 t1 || t0 nA4 t1 || t0 nA3 t2 nF4 t1 || t0 nG4 t1 || t0 nE3 t2 nG3 t2 nC4 t1 || t0 nA4 t1 || t0 nG3 t2 nC4 t1 || t0 nA4 t1 || t0 nB3 t2 nG4 t1 || t0 nB4 t1 || t0 nD3 t2 nA3 t0 nC5 t4 || t0 nB4 t3 || t0 nA3 t2 nF4 t1 || t0 nF4 t1 || t0 nB3 t2 nG4 t1 nD5 t1 || t0 nA4 t1 || t0 nD4 t2 nC5 t1 || t0 nC5 t1 || t0 nB3 t2 nD4 t4 nD5 t2 || t1 nC4 t2 nD5 t1 || t0 nB4 t1 || t1 nB4 t1 || t0 nC4 t1 nA4 t1 || t0 nE5 t1 || t2 nC4 t2 nF5 t2 || t1 nD4 t1 nC5 t2 || t0 nB4 t1 || t0 nB3 t2 nC5 t8 || t0 nC4 t1 || t0 nD4 t1 nE5 t2 || t0 nG4 t1'"
      ]
     },
     "execution_count": 33,
     "metadata": {},
     "output_type": "execute_result"
    }
   ],
   "source": [
    "pred_only = pred_out.replace(seed, '').strip(); pred_only"
   ]
  },
  {
   "cell_type": "markdown",
   "metadata": {},
   "source": [
    "### Generate from predictions"
   ]
  },
  {
   "cell_type": "code",
   "execution_count": 34,
   "metadata": {},
   "outputs": [
    {
     "name": "stdout",
     "output_type": "stream",
     "text": [
      "\n"
     ]
    },
    {
     "data": {
      "text/plain": [
       "[[G4t1],\n",
       " [E3t2, G3t2, D4t1],\n",
       " [G4t1],\n",
       " [D3t2, B3t1],\n",
       " [B4t1],\n",
       " [D3t2, F3t2, C4t1],\n",
       " [G4t1],\n",
       " [F3t2, G3t1],\n",
       " [A4t1],\n",
       " [A3t2, F4t1],\n",
       " [G4t1],\n",
       " [E3t2, G3t2, C4t1],\n",
       " [A4t1],\n",
       " [G3t2, C4t1],\n",
       " [A4t1],\n",
       " [B3t2, G4t1],\n",
       " [B4t1],\n",
       " [D3t2, C5t4],\n",
       " [B4t3],\n",
       " [A3t2, F4t1],\n",
       " [F4t1],\n",
       " [B3t2, G4t1, D5t1],\n",
       " [A4t1],\n",
       " [D4t2, C5t1],\n",
       " [C5t1],\n",
       " [B3t2, D4t4, D5t2],\n",
       " [],\n",
       " [C4t2, D5t1],\n",
       " [B4t1],\n",
       " [],\n",
       " [B4t1],\n",
       " [C4t1, A4t1],\n",
       " [E5t1],\n",
       " [],\n",
       " [],\n",
       " [C4t2, F5t2],\n",
       " [],\n",
       " [D4t1, C5t2],\n",
       " [B4t1],\n",
       " [B3t2, C5t8],\n",
       " [C4t1],\n",
       " [D4t1, E5t2],\n",
       " [G4t1]]"
      ]
     },
     "execution_count": 34,
     "metadata": {},
     "output_type": "execute_result"
    }
   ],
   "source": [
    "str2seq(pred_only)"
   ]
  },
  {
   "cell_type": "code",
   "execution_count": 35,
   "metadata": {},
   "outputs": [
    {
     "name": "stdout",
     "output_type": "stream",
     "text": [
      "\n"
     ]
    }
   ],
   "source": [
    "note_stream = str2stream(pred_out)"
   ]
  },
  {
   "cell_type": "code",
   "execution_count": 36,
   "metadata": {},
   "outputs": [],
   "source": [
    "from midi_data import *"
   ]
  },
  {
   "cell_type": "code",
   "execution_count": 37,
   "metadata": {},
   "outputs": [
    {
     "name": "stdout",
     "output_type": "stream",
     "text": [
      "4.0 0.25 <music21.chord.Chord G#1 E2>\n",
      "3.0 1.25 <music21.chord.Chord B1 G#2>\n",
      "1.0 2.25 <music21.chord.Chord G#2 B2>\n",
      "1.0 3.25 <music21.chord.Chord G#2 B2 E3>\n",
      "4.0 4.25 <music21.chord.Chord B1 G#2 B2 E3>\n",
      "1.0 5.25 <music21.chord.Chord E3>\n",
      "4.0 8.25 <music21.chord.Chord G#1 B1 E2 G#3>\n",
      "0.5 10.75 <music21.chord.Chord B3>\n",
      "4.0 12.25 <music21.chord.Chord G#1 B1 E2>\n",
      "2.0 14.25 <music21.chord.Chord E4>\n",
      "4.0 16.25 <music21.chord.Chord G#1 B1 E2 E4>\n",
      "1.0 20.25 <music21.chord.Chord G#1 B1 E2 E4>\n",
      "0.5 24.25 <music21.chord.Chord G#2 E3 E4>\n",
      "0.25 24.5 <music21.chord.Chord D4>\n",
      "0.5 24.75 <music21.chord.Chord A2 E3 D4>\n",
      "0.25 25.25 <music21.chord.Chord B2 E3>\n",
      "0.25 25.5 <music21.chord.Chord B3>\n",
      "0.5 25.75 <music21.chord.Chord C3 E3 B3>\n",
      "0.25 26.0 <music21.chord.Chord A3>\n",
      "0.5 26.25 <music21.chord.Chord G#2 E3 E4>\n",
      "0.25 26.5 <music21.chord.Chord D4>\n",
      "0.5 26.75 <music21.chord.Chord A2>\n",
      "0.25 27.0 <music21.chord.Chord E3 C4>\n",
      "0.25 27.25 <music21.chord.Chord B2>\n",
      "0.25 27.5 <music21.chord.Chord B3>\n",
      "0.5 27.75 <music21.chord.Chord C3 B3>\n",
      "0.25 28.0 <music21.chord.Chord A3>\n",
      "0.5 28.25 <music21.chord.Chord C#3 A4>\n",
      "0.25 28.5 <music21.chord.Chord G4>\n",
      "0.5 28.75 <music21.chord.Chord D3 A3 G4>\n",
      "0.25 29.0 <music21.chord.Chord F4>\n",
      "0.5 29.25 <music21.chord.Chord E3 A3 F4>\n",
      "0.25 29.5 <music21.chord.Chord G4>\n",
      "0.5 29.75 <music21.chord.Chord E3 G3 D4>\n",
      "0.25 30.0 <music21.chord.Chord G4>\n",
      "0.5 30.25 <music21.chord.Chord D3 B3>\n",
      "0.25 30.5 <music21.chord.Chord B4>\n",
      "0.5 30.75 <music21.chord.Chord D3 F3 C4>\n",
      "0.25 31.0 <music21.chord.Chord G4>\n",
      "0.5 31.25 <music21.chord.Chord F3 G3>\n",
      "0.25 31.5 <music21.chord.Chord A4>\n",
      "0.5 31.75 <music21.chord.Chord A3 F4>\n",
      "0.25 32.0 <music21.chord.Chord G4>\n",
      "0.5 32.25 <music21.chord.Chord E3 G3 C4>\n",
      "0.25 32.5 <music21.chord.Chord A4>\n",
      "0.5 32.75 <music21.chord.Chord G3 C4>\n",
      "0.25 33.0 <music21.chord.Chord A4>\n",
      "0.5 33.25 <music21.chord.Chord B3 G4>\n",
      "0.25 33.5 <music21.chord.Chord B4>\n",
      "0.5 33.75 <music21.chord.Chord D3 C5>\n",
      "0.75 34.0 <music21.chord.Chord B4>\n",
      "0.5 34.25 <music21.chord.Chord A3 F4>\n",
      "0.25 34.5 <music21.chord.Chord F4>\n",
      "0.5 34.75 <music21.chord.Chord B3 G4 D5>\n",
      "0.25 35.0 <music21.chord.Chord A4>\n",
      "0.5 35.25 <music21.chord.Chord D4 C5>\n",
      "0.25 35.5 <music21.chord.Chord C5>\n",
      "0.5 35.75 <music21.chord.Chord B3 D4 D5>\n",
      "0.5 36.25 <music21.chord.Chord C4 D5>\n",
      "0.25 36.5 <music21.chord.Chord B4>\n",
      "0.25 37.0 <music21.chord.Chord B4>\n",
      "0.25 37.25 <music21.chord.Chord C4 A4>\n",
      "0.25 37.5 <music21.chord.Chord E5>\n",
      "0.5 38.25 <music21.chord.Chord C4 F5>\n",
      "0.25 38.75 <music21.chord.Chord D4 C5>\n",
      "0.25 39.0 <music21.chord.Chord B4>\n",
      "0.5 39.25 <music21.chord.Chord B3 C5>\n",
      "0.25 39.5 <music21.chord.Chord C4>\n",
      "0.25 39.75 <music21.chord.Chord D4 E5>\n",
      "0.25 40.0 <music21.chord.Chord G4>\n"
     ]
    }
   ],
   "source": [
    "print_stream_durations(note_stream)"
   ]
  },
  {
   "cell_type": "code",
   "execution_count": 38,
   "metadata": {},
   "outputs": [
    {
     "name": "stdout",
     "output_type": "stream",
     "text": [
      "{0.0} <music21.stream.Part 0x7fd3b150df98>\n",
      "    {0.0} <music21.instrument.Piano Piano>\n",
      "    {0.0} <music21.tempo.MetronomeMark animato Quarter=120>\n",
      "    {0.0} <music21.key.KeySignature of no sharps or flats>\n",
      "    {0.0} <music21.meter.TimeSignature 4/4>\n",
      "    {0.25} <music21.chord.Chord G#1 E2>\n",
      "    {1.25} <music21.chord.Chord B1 G#2>\n",
      "    {2.25} <music21.chord.Chord G#2 B2>\n",
      "    {3.25} <music21.chord.Chord G#2 B2 E3>\n",
      "    {4.25} <music21.chord.Chord B1 G#2 B2 E3>\n",
      "    {5.25} <music21.chord.Chord E3>\n",
      "    {8.25} <music21.chord.Chord G#1 B1 E2 G#3>\n",
      "    {10.75} <music21.chord.Chord B3>\n",
      "    {12.25} <music21.chord.Chord G#1 B1 E2>\n",
      "    {14.25} <music21.chord.Chord E4>\n",
      "    {16.25} <music21.chord.Chord G#1 B1 E2 E4>\n",
      "    {20.25} <music21.chord.Chord G#1 B1 E2 E4>\n",
      "    {24.25} <music21.chord.Chord G#2 E3 E4>\n",
      "    {24.5} <music21.chord.Chord D4>\n",
      "    {24.75} <music21.chord.Chord A2 E3 D4>\n",
      "    {25.25} <music21.chord.Chord B2 E3>\n",
      "    {25.5} <music21.chord.Chord B3>\n",
      "    {25.75} <music21.chord.Chord C3 E3 B3>\n",
      "    {26.0} <music21.chord.Chord A3>\n",
      "    {26.25} <music21.chord.Chord G#2 E3 E4>\n",
      "    {26.5} <music21.chord.Chord D4>\n",
      "    {26.75} <music21.chord.Chord A2>\n",
      "    {27.0} <music21.chord.Chord E3 C4>\n",
      "    {27.25} <music21.chord.Chord B2>\n",
      "    {27.5} <music21.chord.Chord B3>\n",
      "    {27.75} <music21.chord.Chord C3 B3>\n",
      "    {28.0} <music21.chord.Chord A3>\n",
      "    {28.25} <music21.chord.Chord C#3 A4>\n",
      "    {28.5} <music21.chord.Chord G4>\n",
      "    {28.75} <music21.chord.Chord D3 A3 G4>\n",
      "    {29.0} <music21.chord.Chord F4>\n",
      "    {29.25} <music21.chord.Chord E3 A3 F4>\n",
      "    {29.5} <music21.chord.Chord G4>\n",
      "    {29.75} <music21.chord.Chord E3 G3 D4>\n",
      "    {30.0} <music21.chord.Chord G4>\n",
      "    {30.25} <music21.chord.Chord D3 B3>\n",
      "    {30.5} <music21.chord.Chord B4>\n",
      "    {30.75} <music21.chord.Chord D3 F3 C4>\n",
      "    {31.0} <music21.chord.Chord G4>\n",
      "    {31.25} <music21.chord.Chord F3 G3>\n",
      "    {31.5} <music21.chord.Chord A4>\n",
      "    {31.75} <music21.chord.Chord A3 F4>\n",
      "    {32.0} <music21.chord.Chord G4>\n",
      "    {32.25} <music21.chord.Chord E3 G3 C4>\n",
      "    {32.5} <music21.chord.Chord A4>\n",
      "    {32.75} <music21.chord.Chord G3 C4>\n",
      "    {33.0} <music21.chord.Chord A4>\n",
      "    {33.25} <music21.chord.Chord B3 G4>\n",
      "    {33.5} <music21.chord.Chord B4>\n",
      "    {33.75} <music21.chord.Chord D3 C5>\n",
      "    {34.0} <music21.chord.Chord B4>\n",
      "    {34.25} <music21.chord.Chord A3 F4>\n",
      "    {34.5} <music21.chord.Chord F4>\n",
      "    {34.75} <music21.chord.Chord B3 G4 D5>\n",
      "    {35.0} <music21.chord.Chord A4>\n",
      "    {35.25} <music21.chord.Chord D4 C5>\n",
      "    {35.5} <music21.chord.Chord C5>\n",
      "    {35.75} <music21.chord.Chord B3 D4 D5>\n",
      "    {36.25} <music21.chord.Chord C4 D5>\n",
      "    {36.5} <music21.chord.Chord B4>\n",
      "    {37.0} <music21.chord.Chord B4>\n",
      "    {37.25} <music21.chord.Chord C4 A4>\n",
      "    {37.5} <music21.chord.Chord E5>\n",
      "    {38.25} <music21.chord.Chord C4 F5>\n",
      "    {38.75} <music21.chord.Chord D4 C5>\n",
      "    {39.0} <music21.chord.Chord B4>\n",
      "    {39.25} <music21.chord.Chord B3 C5>\n",
      "    {39.5} <music21.chord.Chord C4>\n",
      "    {39.75} <music21.chord.Chord D4 E5>\n",
      "    {40.0} <music21.chord.Chord G4>\n"
     ]
    }
   ],
   "source": [
    "note_stream.show('text')"
   ]
  },
  {
   "cell_type": "code",
   "execution_count": 39,
   "metadata": {},
   "outputs": [],
   "source": [
    "pred_format = pred_out.replace('xxbos ', '')"
   ]
  },
  {
   "cell_type": "code",
   "execution_count": 40,
   "metadata": {},
   "outputs": [
    {
     "data": {
      "text/html": [
       "\n",
       "                <div id='midiPlayerDiv1091'></div>\n",
       "                <link rel=\"stylesheet\" href=\"//cuthbertLab.github.io/music21j/css/m21.css\"\n",
       "                    type=\"text/css\" />\n",
       "                <script>\n",
       "                require.config({\n",
       "                    paths: {'music21': '//cuthbertLab.github.io/music21j/src/music21'}\n",
       "                });\n",
       "                require(['music21'], function() {\n",
       "                               mp = new music21.miditools.MidiPlayer();\n",
       "                               mp.addPlayer('#midiPlayerDiv1091');\n",
       "                               mp.base64Load('data:audio/midi;base64,TVRoZAAAAAYAAQABBABNVHJrAAAEgQD/AwVQaWFubwDAAADgAEAAwAAA/1EDB6EgAP9ZAgAAAP9YBAQCGAiCAJAgWgCQKFqIAJAjWgCQLFqIAJAsWgCQL1qIAIAsAACALwAAkCxaAJAvWgCQNFqIAIAgAACAKAAAgCMAAIAsAACALAAAgC8AAIA0AACQI1oAkCxaAJAvWgCQNFqIAJA0WogAgDQAkACAIwAAgCwAAIAvAACANAAAkCBaAJAjWgCQKFoAkDhalACQO1qEAIA7AIgAgCAAAIAjAACAKAAAgDgAAJAgWgCQI1oAkChakACQQFqQAIAgAACAIwAAgCgAAIBAAACQIFoAkCNaAJAoWgCQQFqgAIAgAACAIwAAgCgAAIBAAACQIFoAkCNaAJAoWgCQQFqIAIAgAACAIwAAgCgAAIBAAJgAkCxaAJA0WgCQQFqCAJA+WoIAgCwAAIA0AACAQAAAgD4AAJAtWgCQNFoAkD5ahACALQAAgDQAAIA+AACQL1oAkDRaggCALwAAgDQAAJA7WoIAgDsAAJAwWgCQNFoAkDtaggCQOVqCAIAwAACANAAAgDsAAIA5AACQLFoAkDRaAJBAWoIAkD5aggCALAAAgDQAAIBAAACAPgAAkC1aggCQNFoAkDxaggCALQAAgDQAAIA8AACQL1qCAIAvAACQO1qCAIA7AACQMFoAkDtaggCQOVqCAIAwAACAOwAAgDkAAJAxWgCQRVqCAJBDWoIAgDEAAIBFAACAQwAAkDJaAJA5WgCQQ1qCAJBBWoIAgDIAAIA5AACAQwAAgEEAAJA0WgCQOVoAkEFaggCQQ1qCAIA0AACAOQAAgEEAAIBDAACQNFoAkDdaAJA+WoIAkENaggCANAAAgDcAAIA+AACAQwAAkDJaAJA7WoIAkEdaggCAMgAAgDsAAIBHAACQMloAkDVaAJA8WoIAkENaggCAMgAAgDUAAIA8AACAQwAAkDVaAJA3WoIAkEVaggCANQAAgDcAAIBFAACQOVoAkEFaggCQQ1qCAIA5AACAQQAAgEMAAJA0WgCQN1oAkDxaggCQRVqCAIA0AACANwAAgDwAAIBFAACQN1oAkDxaggCQRVqCAIA3AACAPAAAgEUAAJA7WgCQQ1qCAJBHWoIAgDsAAIBDAACARwAAkDJaAJBIWoIAkEdaggCAMgAAgEgAAJA5WgCQQVqCAJBBWoIAgEcAAIA5AACAQQAAgEEAAJA7WgCQQ1oAkEpaggCQRVqCAIA7AACAQwAAgEoAAIBFAACQPloAkEhaggCQSFqCAIA+AACASAAAgEgAAJA7WgCQPloAkEpahACAOwAAgD4AAIBKAACQPFoAkEpaggCQR1qCAIA8AACASgAAgEcAggCQR1qCAIBHAACQPFoAkEVaggCAPAAAgEUAAJBMWoIAgEwAhACQPFoAkE1ahACAPAAAgE0AAJA+WgCQSFqCAIA+AACASAAAkEdaggCARwAAkDtaAJBIWoIAkDxaggCAOwAAgEgAAIA8AACQPloAkExaggCAPgAAgEwAAJBDWoIAgEMAiAD/LwA=');\n",
       "                        });\n",
       "                </script>"
      ],
      "text/plain": [
       "<IPython.core.display.HTML object>"
      ]
     },
     "metadata": {},
     "output_type": "display_data"
    }
   ],
   "source": [
    "note_stream.show('midi')"
   ]
  },
  {
   "cell_type": "code",
   "execution_count": null,
   "metadata": {},
   "outputs": [],
   "source": []
  },
  {
   "cell_type": "code",
   "execution_count": 39,
   "metadata": {},
   "outputs": [
    {
     "ename": "LilyTranslateException",
     "evalue": "DurationException for durationObject <music21.duration.Duration 71.0>: Could not determine durationNumber from inexpressible",
     "output_type": "error",
     "traceback": [
      "\u001b[0;31m---------------------------------------------------------------------------\u001b[0m",
      "\u001b[0;31mDurationException\u001b[0m                         Traceback (most recent call last)",
      "\u001b[0;32m~/anaconda3/envs/midi/lib/python3.7/site-packages/music21/lily/translate.py\u001b[0m in \u001b[0;36mlyMultipliedDurationFromDuration\u001b[0;34m(self, durationObj)\u001b[0m\n\u001b[1;32m   1554\u001b[0m         \u001b[0;32mtry\u001b[0m\u001b[0;34m:\u001b[0m\u001b[0;34m\u001b[0m\u001b[0;34m\u001b[0m\u001b[0m\n\u001b[0;32m-> 1555\u001b[0;31m             \u001b[0mnumber_type\u001b[0m \u001b[0;34m=\u001b[0m \u001b[0mduration\u001b[0m\u001b[0;34m.\u001b[0m\u001b[0mconvertTypeToNumber\u001b[0m\u001b[0;34m(\u001b[0m\u001b[0mdurationObj\u001b[0m\u001b[0;34m.\u001b[0m\u001b[0mtype\u001b[0m\u001b[0;34m)\u001b[0m \u001b[0;31m# module call\u001b[0m\u001b[0;34m\u001b[0m\u001b[0;34m\u001b[0m\u001b[0m\n\u001b[0m\u001b[1;32m   1556\u001b[0m         \u001b[0;32mexcept\u001b[0m \u001b[0mduration\u001b[0m\u001b[0;34m.\u001b[0m\u001b[0mDurationException\u001b[0m \u001b[0;32mas\u001b[0m \u001b[0mde\u001b[0m\u001b[0;34m:\u001b[0m\u001b[0;34m\u001b[0m\u001b[0;34m\u001b[0m\u001b[0m\n",
      "\u001b[0;32m~/anaconda3/envs/midi/lib/python3.7/site-packages/music21/duration.py\u001b[0m in \u001b[0;36mconvertTypeToNumber\u001b[0;34m(dType)\u001b[0m\n\u001b[1;32m    776\u001b[0m         raise DurationException('Could not determine durationNumber from %s'\n\u001b[0;32m--> 777\u001b[0;31m                                 % dType)\n\u001b[0m\u001b[1;32m    778\u001b[0m     \u001b[0;32melse\u001b[0m\u001b[0;34m:\u001b[0m\u001b[0;34m\u001b[0m\u001b[0;34m\u001b[0m\u001b[0m\n",
      "\u001b[0;31mDurationException\u001b[0m: Could not determine durationNumber from inexpressible",
      "\nDuring handling of the above exception, another exception occurred:\n",
      "\u001b[0;31mLilyTranslateException\u001b[0m                    Traceback (most recent call last)",
      "\u001b[0;32m<ipython-input-39-2e7a6bfc0510>\u001b[0m in \u001b[0;36m<module>\u001b[0;34m\u001b[0m\n\u001b[0;32m----> 1\u001b[0;31m \u001b[0mImage\u001b[0m\u001b[0;34m(\u001b[0m\u001b[0mfilename\u001b[0m\u001b[0;34m=\u001b[0m\u001b[0mstr\u001b[0m\u001b[0;34m(\u001b[0m\u001b[0mnote_stream\u001b[0m\u001b[0;34m.\u001b[0m\u001b[0mwrite\u001b[0m\u001b[0;34m(\u001b[0m\u001b[0;34m'lily.png'\u001b[0m\u001b[0;34m)\u001b[0m\u001b[0;34m)\u001b[0m\u001b[0;34m)\u001b[0m\u001b[0;34m\u001b[0m\u001b[0;34m\u001b[0m\u001b[0m\n\u001b[0m",
      "\u001b[0;32m~/anaconda3/envs/midi/lib/python3.7/site-packages/music21/stream/__init__.py\u001b[0m in \u001b[0;36mwrite\u001b[0;34m(self, *args, **kwargs)\u001b[0m\n\u001b[1;32m    249\u001b[0m         \u001b[0;32mif\u001b[0m \u001b[0mself\u001b[0m\u001b[0;34m.\u001b[0m\u001b[0misSorted\u001b[0m \u001b[0;32mis\u001b[0m \u001b[0;32mFalse\u001b[0m \u001b[0;32mand\u001b[0m \u001b[0mself\u001b[0m\u001b[0;34m.\u001b[0m\u001b[0mautoSort\u001b[0m\u001b[0;34m:\u001b[0m\u001b[0;34m\u001b[0m\u001b[0;34m\u001b[0m\u001b[0m\n\u001b[1;32m    250\u001b[0m             \u001b[0mself\u001b[0m\u001b[0;34m.\u001b[0m\u001b[0msort\u001b[0m\u001b[0;34m(\u001b[0m\u001b[0;34m)\u001b[0m\u001b[0;34m\u001b[0m\u001b[0;34m\u001b[0m\u001b[0m\n\u001b[0;32m--> 251\u001b[0;31m         \u001b[0;32mreturn\u001b[0m \u001b[0msuper\u001b[0m\u001b[0;34m(\u001b[0m\u001b[0;34m)\u001b[0m\u001b[0;34m.\u001b[0m\u001b[0mwrite\u001b[0m\u001b[0;34m(\u001b[0m\u001b[0;34m*\u001b[0m\u001b[0margs\u001b[0m\u001b[0;34m,\u001b[0m \u001b[0;34m**\u001b[0m\u001b[0mkwargs\u001b[0m\u001b[0;34m)\u001b[0m\u001b[0;34m\u001b[0m\u001b[0;34m\u001b[0m\u001b[0m\n\u001b[0m\u001b[1;32m    252\u001b[0m \u001b[0;34m\u001b[0m\u001b[0m\n\u001b[1;32m    253\u001b[0m \u001b[0;34m\u001b[0m\u001b[0m\n",
      "\u001b[0;32m~/anaconda3/envs/midi/lib/python3.7/site-packages/music21/base.py\u001b[0m in \u001b[0;36mwrite\u001b[0;34m(self, fmt, fp, **keywords)\u001b[0m\n\u001b[1;32m   2504\u001b[0m         \u001b[0mscClass\u001b[0m \u001b[0;34m=\u001b[0m \u001b[0mcommon\u001b[0m\u001b[0;34m.\u001b[0m\u001b[0mfindSubConverterForFormat\u001b[0m\u001b[0;34m(\u001b[0m\u001b[0mregularizedConverterFormat\u001b[0m\u001b[0;34m)\u001b[0m\u001b[0;34m\u001b[0m\u001b[0;34m\u001b[0m\u001b[0m\n\u001b[1;32m   2505\u001b[0m         \u001b[0mformatWriter\u001b[0m \u001b[0;34m=\u001b[0m \u001b[0mscClass\u001b[0m\u001b[0;34m(\u001b[0m\u001b[0;34m)\u001b[0m\u001b[0;34m\u001b[0m\u001b[0;34m\u001b[0m\u001b[0m\n\u001b[0;32m-> 2506\u001b[0;31m         \u001b[0;32mreturn\u001b[0m \u001b[0mformatWriter\u001b[0m\u001b[0;34m.\u001b[0m\u001b[0mwrite\u001b[0m\u001b[0;34m(\u001b[0m\u001b[0mself\u001b[0m\u001b[0;34m,\u001b[0m \u001b[0mregularizedConverterFormat\u001b[0m\u001b[0;34m,\u001b[0m \u001b[0mfp\u001b[0m\u001b[0;34m,\u001b[0m \u001b[0msubformats\u001b[0m\u001b[0;34m,\u001b[0m \u001b[0;34m**\u001b[0m\u001b[0mkeywords\u001b[0m\u001b[0;34m)\u001b[0m\u001b[0;34m\u001b[0m\u001b[0;34m\u001b[0m\u001b[0m\n\u001b[0m\u001b[1;32m   2507\u001b[0m \u001b[0;34m\u001b[0m\u001b[0m\n\u001b[1;32m   2508\u001b[0m \u001b[0;34m\u001b[0m\u001b[0m\n",
      "\u001b[0;32m~/anaconda3/envs/midi/lib/python3.7/site-packages/music21/converter/subConverters.py\u001b[0m in \u001b[0;36mwrite\u001b[0;34m(self, obj, fmt, fp, subformats, **keywords)\u001b[0m\n\u001b[1;32m    422\u001b[0m \u001b[0;34m\u001b[0m\u001b[0m\n\u001b[1;32m    423\u001b[0m         \u001b[0;32melif\u001b[0m \u001b[0msubformats\u001b[0m \u001b[0;32mis\u001b[0m \u001b[0;32mnot\u001b[0m \u001b[0;32mNone\u001b[0m \u001b[0;32mand\u001b[0m \u001b[0;34m'png'\u001b[0m \u001b[0;32min\u001b[0m \u001b[0msubformats\u001b[0m\u001b[0;34m:\u001b[0m\u001b[0;34m\u001b[0m\u001b[0;34m\u001b[0m\u001b[0m\n\u001b[0;32m--> 424\u001b[0;31m             \u001b[0mconv\u001b[0m\u001b[0;34m.\u001b[0m\u001b[0mloadFromMusic21Object\u001b[0m\u001b[0;34m(\u001b[0m\u001b[0mobj\u001b[0m\u001b[0;34m)\u001b[0m\u001b[0;34m\u001b[0m\u001b[0;34m\u001b[0m\u001b[0m\n\u001b[0m\u001b[1;32m    425\u001b[0m             \u001b[0mconvertedFilePath\u001b[0m \u001b[0;34m=\u001b[0m \u001b[0mconv\u001b[0m\u001b[0;34m.\u001b[0m\u001b[0mcreatePNG\u001b[0m\u001b[0;34m(\u001b[0m\u001b[0mfp\u001b[0m\u001b[0;34m)\u001b[0m\u001b[0;34m\u001b[0m\u001b[0;34m\u001b[0m\u001b[0m\n\u001b[1;32m    426\u001b[0m             \u001b[0;32mif\u001b[0m \u001b[0;34m'ipython'\u001b[0m \u001b[0;32min\u001b[0m \u001b[0msubformats\u001b[0m\u001b[0;34m:\u001b[0m\u001b[0;34m\u001b[0m\u001b[0;34m\u001b[0m\u001b[0m\n",
      "\u001b[0;32m~/anaconda3/envs/midi/lib/python3.7/site-packages/music21/lily/translate.py\u001b[0m in \u001b[0;36mloadFromMusic21Object\u001b[0;34m(self, m21ObjectIn)\u001b[0m\n\u001b[1;32m    297\u001b[0m             \u001b[0mscoreObj\u001b[0m \u001b[0;34m=\u001b[0m \u001b[0mstream\u001b[0m\u001b[0;34m.\u001b[0m\u001b[0mScore\u001b[0m\u001b[0;34m(\u001b[0m\u001b[0;34m)\u001b[0m\u001b[0;34m\u001b[0m\u001b[0;34m\u001b[0m\u001b[0m\n\u001b[1;32m    298\u001b[0m             \u001b[0mscoreObj\u001b[0m\u001b[0;34m.\u001b[0m\u001b[0minsert\u001b[0m\u001b[0;34m(\u001b[0m\u001b[0;36m0\u001b[0m\u001b[0;34m,\u001b[0m \u001b[0mm21ObjectIn\u001b[0m\u001b[0;34m)\u001b[0m\u001b[0;34m\u001b[0m\u001b[0;34m\u001b[0m\u001b[0m\n\u001b[0;32m--> 299\u001b[0;31m             \u001b[0mself\u001b[0m\u001b[0;34m.\u001b[0m\u001b[0mloadObjectFromScore\u001b[0m\u001b[0;34m(\u001b[0m\u001b[0mscoreObj\u001b[0m\u001b[0;34m,\u001b[0m \u001b[0mmakeNotation\u001b[0m\u001b[0;34m=\u001b[0m\u001b[0;32mFalse\u001b[0m\u001b[0;34m)\u001b[0m\u001b[0;34m\u001b[0m\u001b[0;34m\u001b[0m\u001b[0m\n\u001b[0m\u001b[1;32m    300\u001b[0m             \u001b[0;31m#raise LilyTranslateException(\"Unknown stream type %s.\" % (m21ObjectIn.__class__))\u001b[0m\u001b[0;34m\u001b[0m\u001b[0;34m\u001b[0m\u001b[0;34m\u001b[0m\u001b[0m\n\u001b[1;32m    301\u001b[0m \u001b[0;34m\u001b[0m\u001b[0m\n",
      "\u001b[0;32m~/anaconda3/envs/midi/lib/python3.7/site-packages/music21/lily/translate.py\u001b[0m in \u001b[0;36mloadObjectFromScore\u001b[0;34m(self, scoreIn, makeNotation)\u001b[0m\n\u001b[1;32m    367\u001b[0m \u001b[0;34m\u001b[0m\u001b[0m\n\u001b[1;32m    368\u001b[0m         \u001b[0;31m# here's the heavy work...\u001b[0m\u001b[0;34m\u001b[0m\u001b[0;34m\u001b[0m\u001b[0;34m\u001b[0m\u001b[0m\n\u001b[0;32m--> 369\u001b[0;31m         \u001b[0mlpScoreBlock\u001b[0m \u001b[0;34m=\u001b[0m \u001b[0mself\u001b[0m\u001b[0;34m.\u001b[0m\u001b[0mlyScoreBlockFromScore\u001b[0m\u001b[0;34m(\u001b[0m\u001b[0mscoreIn\u001b[0m\u001b[0;34m)\u001b[0m\u001b[0;34m\u001b[0m\u001b[0;34m\u001b[0m\u001b[0m\n\u001b[0m\u001b[1;32m    370\u001b[0m \u001b[0;34m\u001b[0m\u001b[0m\n\u001b[1;32m    371\u001b[0m         \u001b[0mlpOutputDefHead\u001b[0m \u001b[0;34m=\u001b[0m \u001b[0mlyo\u001b[0m\u001b[0;34m.\u001b[0m\u001b[0mLyOutputDefHead\u001b[0m\u001b[0;34m(\u001b[0m\u001b[0mdefType\u001b[0m\u001b[0;34m=\u001b[0m\u001b[0;34m'paper'\u001b[0m\u001b[0;34m)\u001b[0m\u001b[0;34m\u001b[0m\u001b[0;34m\u001b[0m\u001b[0m\n",
      "\u001b[0;32m~/anaconda3/envs/midi/lib/python3.7/site-packages/music21/lily/translate.py\u001b[0m in \u001b[0;36mlyScoreBlockFromScore\u001b[0;34m(self, scoreIn)\u001b[0m\n\u001b[1;32m    401\u001b[0m         \u001b[0;32melse\u001b[0m\u001b[0;34m:\u001b[0m\u001b[0;34m\u001b[0m\u001b[0;34m\u001b[0m\u001b[0m\n\u001b[1;32m    402\u001b[0m             \u001b[0;31m# treat as a part...\u001b[0m\u001b[0;34m\u001b[0m\u001b[0;34m\u001b[0m\u001b[0;34m\u001b[0m\u001b[0m\n\u001b[0;32m--> 403\u001b[0;31m             \u001b[0mlpPrefixCompositeMusic\u001b[0m \u001b[0;34m=\u001b[0m \u001b[0mself\u001b[0m\u001b[0;34m.\u001b[0m\u001b[0mlyPrefixCompositeMusicFromStream\u001b[0m\u001b[0;34m(\u001b[0m\u001b[0mscoreIn\u001b[0m\u001b[0;34m)\u001b[0m\u001b[0;34m\u001b[0m\u001b[0;34m\u001b[0m\u001b[0m\n\u001b[0m\u001b[1;32m    404\u001b[0m             \u001b[0mlpCompositeMusic\u001b[0m\u001b[0;34m.\u001b[0m\u001b[0mprefixCompositeMusic\u001b[0m \u001b[0;34m=\u001b[0m \u001b[0mlpPrefixCompositeMusic\u001b[0m\u001b[0;34m\u001b[0m\u001b[0;34m\u001b[0m\u001b[0m\n\u001b[1;32m    405\u001b[0m \u001b[0;34m\u001b[0m\u001b[0m\n",
      "\u001b[0;32m~/anaconda3/envs/midi/lib/python3.7/site-packages/music21/lily/translate.py\u001b[0m in \u001b[0;36mlyPrefixCompositeMusicFromStream\u001b[0;34m(self, streamIn, contextType, type, beforeMatter)\u001b[0m\n\u001b[1;32m    897\u001b[0m         \u001b[0mlpNewLyrics\u001b[0m \u001b[0;34m=\u001b[0m \u001b[0mself\u001b[0m\u001b[0;34m.\u001b[0m\u001b[0mlyNewLyricsFromStream\u001b[0m\u001b[0;34m(\u001b[0m\u001b[0mstreamIn\u001b[0m\u001b[0;34m,\u001b[0m \u001b[0mstreamId\u001b[0m\u001b[0;34m=\u001b[0m\u001b[0mmakeLettersOnlyId\u001b[0m\u001b[0;34m(\u001b[0m\u001b[0mstreamIn\u001b[0m\u001b[0;34m.\u001b[0m\u001b[0mid\u001b[0m\u001b[0;34m)\u001b[0m\u001b[0;34m)\u001b[0m\u001b[0;34m\u001b[0m\u001b[0;34m\u001b[0m\u001b[0m\n\u001b[1;32m    898\u001b[0m \u001b[0;34m\u001b[0m\u001b[0m\n\u001b[0;32m--> 899\u001b[0;31m         \u001b[0mlpSequentialMusic\u001b[0m \u001b[0;34m=\u001b[0m \u001b[0mself\u001b[0m\u001b[0;34m.\u001b[0m\u001b[0mlySequentialMusicFromStream\u001b[0m\u001b[0;34m(\u001b[0m\u001b[0mstreamIn\u001b[0m\u001b[0;34m,\u001b[0m \u001b[0mbeforeMatter\u001b[0m\u001b[0;34m=\u001b[0m\u001b[0mbeforeMatter\u001b[0m\u001b[0;34m)\u001b[0m\u001b[0;34m\u001b[0m\u001b[0;34m\u001b[0m\u001b[0m\n\u001b[0m\u001b[1;32m    900\u001b[0m         \u001b[0mlpGroupedMusicList\u001b[0m \u001b[0;34m=\u001b[0m \u001b[0mlyo\u001b[0m\u001b[0;34m.\u001b[0m\u001b[0mLyGroupedMusicList\u001b[0m\u001b[0;34m(\u001b[0m\u001b[0msequentialMusic\u001b[0m\u001b[0;34m=\u001b[0m\u001b[0mlpSequentialMusic\u001b[0m\u001b[0;34m)\u001b[0m\u001b[0;34m\u001b[0m\u001b[0;34m\u001b[0m\u001b[0m\n\u001b[1;32m    901\u001b[0m         lpCompositeMusic = lyo.LyCompositeMusic(groupedMusicList=lpGroupedMusicList,\n",
      "\u001b[0;32m~/anaconda3/envs/midi/lib/python3.7/site-packages/music21/lily/translate.py\u001b[0m in \u001b[0;36mlySequentialMusicFromStream\u001b[0;34m(self, streamIn, beforeMatter)\u001b[0m\n\u001b[1;32m    826\u001b[0m                                                   beforeMatter=beforeMatter)\n\u001b[1;32m    827\u001b[0m         \u001b[0mself\u001b[0m\u001b[0;34m.\u001b[0m\u001b[0mnewContext\u001b[0m\u001b[0;34m(\u001b[0m\u001b[0mlpMusicList\u001b[0m\u001b[0;34m)\u001b[0m\u001b[0;34m\u001b[0m\u001b[0;34m\u001b[0m\u001b[0m\n\u001b[0;32m--> 828\u001b[0;31m         \u001b[0mself\u001b[0m\u001b[0;34m.\u001b[0m\u001b[0mappendObjectsToContextFromStream\u001b[0m\u001b[0;34m(\u001b[0m\u001b[0mstreamIn\u001b[0m\u001b[0;34m)\u001b[0m\u001b[0;34m\u001b[0m\u001b[0;34m\u001b[0m\u001b[0m\n\u001b[0m\u001b[1;32m    829\u001b[0m \u001b[0;34m\u001b[0m\u001b[0m\n\u001b[1;32m    830\u001b[0m         \u001b[0mlyObject\u001b[0m \u001b[0;34m=\u001b[0m \u001b[0mself\u001b[0m\u001b[0;34m.\u001b[0m\u001b[0mcloseMeasure\u001b[0m\u001b[0;34m(\u001b[0m\u001b[0;34m)\u001b[0m\u001b[0;34m\u001b[0m\u001b[0;34m\u001b[0m\u001b[0m\n",
      "\u001b[0;32m~/anaconda3/envs/midi/lib/python3.7/site-packages/music21/lily/translate.py\u001b[0m in \u001b[0;36mappendObjectsToContextFromStream\u001b[0;34m(self, streamObject)\u001b[0m\n\u001b[1;32m    974\u001b[0m                 \u001b[0mel\u001b[0m \u001b[0;34m=\u001b[0m \u001b[0mgroupedElements\u001b[0m\u001b[0;34m[\u001b[0m\u001b[0;36m0\u001b[0m\u001b[0;34m]\u001b[0m\u001b[0;34m\u001b[0m\u001b[0;34m\u001b[0m\u001b[0m\n\u001b[1;32m    975\u001b[0m                 \u001b[0mel\u001b[0m\u001b[0;34m.\u001b[0m\u001b[0mactiveSite\u001b[0m \u001b[0;34m=\u001b[0m \u001b[0mstreamObject\u001b[0m\u001b[0;34m\u001b[0m\u001b[0;34m\u001b[0m\u001b[0m\n\u001b[0;32m--> 976\u001b[0;31m                 \u001b[0mself\u001b[0m\u001b[0;34m.\u001b[0m\u001b[0mappendM21ObjectToContext\u001b[0m\u001b[0;34m(\u001b[0m\u001b[0mel\u001b[0m\u001b[0;34m)\u001b[0m\u001b[0;34m\u001b[0m\u001b[0;34m\u001b[0m\u001b[0m\n\u001b[0m\u001b[1;32m    977\u001b[0m             \u001b[0;32melse\u001b[0m\u001b[0;34m:\u001b[0m \u001b[0;31m# voices or other More than one thing at once...\u001b[0m\u001b[0;34m\u001b[0m\u001b[0;34m\u001b[0m\u001b[0m\n\u001b[1;32m    978\u001b[0m                 \u001b[0;31m# if voices\u001b[0m\u001b[0;34m\u001b[0m\u001b[0;34m\u001b[0m\u001b[0;34m\u001b[0m\u001b[0m\n",
      "\u001b[0;32m~/anaconda3/envs/midi/lib/python3.7/site-packages/music21/lily/translate.py\u001b[0m in \u001b[0;36mappendM21ObjectToContext\u001b[0;34m(self, thisObject)\u001b[0m\n\u001b[1;32m   1072\u001b[0m         \u001b[0;32melif\u001b[0m \u001b[0;34m\"Stream\"\u001b[0m \u001b[0;32min\u001b[0m \u001b[0mc\u001b[0m\u001b[0;34m:\u001b[0m\u001b[0;34m\u001b[0m\u001b[0;34m\u001b[0m\u001b[0m\n\u001b[1;32m   1073\u001b[0m             \u001b[0;31m#try:\u001b[0m\u001b[0;34m\u001b[0m\u001b[0;34m\u001b[0m\u001b[0;34m\u001b[0m\u001b[0m\n\u001b[0;32m-> 1074\u001b[0;31m             \u001b[0mlyObject\u001b[0m \u001b[0;34m=\u001b[0m \u001b[0mself\u001b[0m\u001b[0;34m.\u001b[0m\u001b[0mlyPrefixCompositeMusicFromStream\u001b[0m\u001b[0;34m(\u001b[0m\u001b[0mthisObject\u001b[0m\u001b[0;34m)\u001b[0m\u001b[0;34m\u001b[0m\u001b[0;34m\u001b[0m\u001b[0m\n\u001b[0m\u001b[1;32m   1075\u001b[0m             \u001b[0mcurrentMusicList\u001b[0m\u001b[0;34m.\u001b[0m\u001b[0mappend\u001b[0m\u001b[0;34m(\u001b[0m\u001b[0mlyObject\u001b[0m\u001b[0;34m)\u001b[0m\u001b[0;34m\u001b[0m\u001b[0;34m\u001b[0m\u001b[0m\n\u001b[1;32m   1076\u001b[0m             \u001b[0mlyObject\u001b[0m\u001b[0;34m.\u001b[0m\u001b[0msetParent\u001b[0m\u001b[0;34m(\u001b[0m\u001b[0mcontextObject\u001b[0m\u001b[0;34m)\u001b[0m\u001b[0;34m\u001b[0m\u001b[0;34m\u001b[0m\u001b[0m\n",
      "\u001b[0;32m~/anaconda3/envs/midi/lib/python3.7/site-packages/music21/lily/translate.py\u001b[0m in \u001b[0;36mlyPrefixCompositeMusicFromStream\u001b[0;34m(self, streamIn, contextType, type, beforeMatter)\u001b[0m\n\u001b[1;32m    897\u001b[0m         \u001b[0mlpNewLyrics\u001b[0m \u001b[0;34m=\u001b[0m \u001b[0mself\u001b[0m\u001b[0;34m.\u001b[0m\u001b[0mlyNewLyricsFromStream\u001b[0m\u001b[0;34m(\u001b[0m\u001b[0mstreamIn\u001b[0m\u001b[0;34m,\u001b[0m \u001b[0mstreamId\u001b[0m\u001b[0;34m=\u001b[0m\u001b[0mmakeLettersOnlyId\u001b[0m\u001b[0;34m(\u001b[0m\u001b[0mstreamIn\u001b[0m\u001b[0;34m.\u001b[0m\u001b[0mid\u001b[0m\u001b[0;34m)\u001b[0m\u001b[0;34m)\u001b[0m\u001b[0;34m\u001b[0m\u001b[0;34m\u001b[0m\u001b[0m\n\u001b[1;32m    898\u001b[0m \u001b[0;34m\u001b[0m\u001b[0m\n\u001b[0;32m--> 899\u001b[0;31m         \u001b[0mlpSequentialMusic\u001b[0m \u001b[0;34m=\u001b[0m \u001b[0mself\u001b[0m\u001b[0;34m.\u001b[0m\u001b[0mlySequentialMusicFromStream\u001b[0m\u001b[0;34m(\u001b[0m\u001b[0mstreamIn\u001b[0m\u001b[0;34m,\u001b[0m \u001b[0mbeforeMatter\u001b[0m\u001b[0;34m=\u001b[0m\u001b[0mbeforeMatter\u001b[0m\u001b[0;34m)\u001b[0m\u001b[0;34m\u001b[0m\u001b[0;34m\u001b[0m\u001b[0m\n\u001b[0m\u001b[1;32m    900\u001b[0m         \u001b[0mlpGroupedMusicList\u001b[0m \u001b[0;34m=\u001b[0m \u001b[0mlyo\u001b[0m\u001b[0;34m.\u001b[0m\u001b[0mLyGroupedMusicList\u001b[0m\u001b[0;34m(\u001b[0m\u001b[0msequentialMusic\u001b[0m\u001b[0;34m=\u001b[0m\u001b[0mlpSequentialMusic\u001b[0m\u001b[0;34m)\u001b[0m\u001b[0;34m\u001b[0m\u001b[0;34m\u001b[0m\u001b[0m\n\u001b[1;32m    901\u001b[0m         lpCompositeMusic = lyo.LyCompositeMusic(groupedMusicList=lpGroupedMusicList,\n",
      "\u001b[0;32m~/anaconda3/envs/midi/lib/python3.7/site-packages/music21/lily/translate.py\u001b[0m in \u001b[0;36mlySequentialMusicFromStream\u001b[0;34m(self, streamIn, beforeMatter)\u001b[0m\n\u001b[1;32m    826\u001b[0m                                                   beforeMatter=beforeMatter)\n\u001b[1;32m    827\u001b[0m         \u001b[0mself\u001b[0m\u001b[0;34m.\u001b[0m\u001b[0mnewContext\u001b[0m\u001b[0;34m(\u001b[0m\u001b[0mlpMusicList\u001b[0m\u001b[0;34m)\u001b[0m\u001b[0;34m\u001b[0m\u001b[0;34m\u001b[0m\u001b[0m\n\u001b[0;32m--> 828\u001b[0;31m         \u001b[0mself\u001b[0m\u001b[0;34m.\u001b[0m\u001b[0mappendObjectsToContextFromStream\u001b[0m\u001b[0;34m(\u001b[0m\u001b[0mstreamIn\u001b[0m\u001b[0;34m)\u001b[0m\u001b[0;34m\u001b[0m\u001b[0;34m\u001b[0m\u001b[0m\n\u001b[0m\u001b[1;32m    829\u001b[0m \u001b[0;34m\u001b[0m\u001b[0m\n\u001b[1;32m    830\u001b[0m         \u001b[0mlyObject\u001b[0m \u001b[0;34m=\u001b[0m \u001b[0mself\u001b[0m\u001b[0;34m.\u001b[0m\u001b[0mcloseMeasure\u001b[0m\u001b[0;34m(\u001b[0m\u001b[0;34m)\u001b[0m\u001b[0;34m\u001b[0m\u001b[0;34m\u001b[0m\u001b[0m\n",
      "\u001b[0;32m~/anaconda3/envs/midi/lib/python3.7/site-packages/music21/lily/translate.py\u001b[0m in \u001b[0;36mappendObjectsToContextFromStream\u001b[0;34m(self, streamObject)\u001b[0m\n\u001b[1;32m    974\u001b[0m                 \u001b[0mel\u001b[0m \u001b[0;34m=\u001b[0m \u001b[0mgroupedElements\u001b[0m\u001b[0;34m[\u001b[0m\u001b[0;36m0\u001b[0m\u001b[0;34m]\u001b[0m\u001b[0;34m\u001b[0m\u001b[0;34m\u001b[0m\u001b[0m\n\u001b[1;32m    975\u001b[0m                 \u001b[0mel\u001b[0m\u001b[0;34m.\u001b[0m\u001b[0mactiveSite\u001b[0m \u001b[0;34m=\u001b[0m \u001b[0mstreamObject\u001b[0m\u001b[0;34m\u001b[0m\u001b[0;34m\u001b[0m\u001b[0m\n\u001b[0;32m--> 976\u001b[0;31m                 \u001b[0mself\u001b[0m\u001b[0;34m.\u001b[0m\u001b[0mappendM21ObjectToContext\u001b[0m\u001b[0;34m(\u001b[0m\u001b[0mel\u001b[0m\u001b[0;34m)\u001b[0m\u001b[0;34m\u001b[0m\u001b[0;34m\u001b[0m\u001b[0m\n\u001b[0m\u001b[1;32m    977\u001b[0m             \u001b[0;32melse\u001b[0m\u001b[0;34m:\u001b[0m \u001b[0;31m# voices or other More than one thing at once...\u001b[0m\u001b[0;34m\u001b[0m\u001b[0;34m\u001b[0m\u001b[0m\n\u001b[1;32m    978\u001b[0m                 \u001b[0;31m# if voices\u001b[0m\u001b[0;34m\u001b[0m\u001b[0;34m\u001b[0m\u001b[0;34m\u001b[0m\u001b[0m\n",
      "\u001b[0;32m~/anaconda3/envs/midi/lib/python3.7/site-packages/music21/lily/translate.py\u001b[0m in \u001b[0;36mappendM21ObjectToContext\u001b[0;34m(self, thisObject)\u001b[0m\n\u001b[1;32m   1072\u001b[0m         \u001b[0;32melif\u001b[0m \u001b[0;34m\"Stream\"\u001b[0m \u001b[0;32min\u001b[0m \u001b[0mc\u001b[0m\u001b[0;34m:\u001b[0m\u001b[0;34m\u001b[0m\u001b[0;34m\u001b[0m\u001b[0m\n\u001b[1;32m   1073\u001b[0m             \u001b[0;31m#try:\u001b[0m\u001b[0;34m\u001b[0m\u001b[0;34m\u001b[0m\u001b[0;34m\u001b[0m\u001b[0m\n\u001b[0;32m-> 1074\u001b[0;31m             \u001b[0mlyObject\u001b[0m \u001b[0;34m=\u001b[0m \u001b[0mself\u001b[0m\u001b[0;34m.\u001b[0m\u001b[0mlyPrefixCompositeMusicFromStream\u001b[0m\u001b[0;34m(\u001b[0m\u001b[0mthisObject\u001b[0m\u001b[0;34m)\u001b[0m\u001b[0;34m\u001b[0m\u001b[0;34m\u001b[0m\u001b[0m\n\u001b[0m\u001b[1;32m   1075\u001b[0m             \u001b[0mcurrentMusicList\u001b[0m\u001b[0;34m.\u001b[0m\u001b[0mappend\u001b[0m\u001b[0;34m(\u001b[0m\u001b[0mlyObject\u001b[0m\u001b[0;34m)\u001b[0m\u001b[0;34m\u001b[0m\u001b[0;34m\u001b[0m\u001b[0m\n\u001b[1;32m   1076\u001b[0m             \u001b[0mlyObject\u001b[0m\u001b[0;34m.\u001b[0m\u001b[0msetParent\u001b[0m\u001b[0;34m(\u001b[0m\u001b[0mcontextObject\u001b[0m\u001b[0;34m)\u001b[0m\u001b[0;34m\u001b[0m\u001b[0;34m\u001b[0m\u001b[0m\n",
      "\u001b[0;32m~/anaconda3/envs/midi/lib/python3.7/site-packages/music21/lily/translate.py\u001b[0m in \u001b[0;36mlyPrefixCompositeMusicFromStream\u001b[0;34m(self, streamIn, contextType, type, beforeMatter)\u001b[0m\n\u001b[1;32m    897\u001b[0m         \u001b[0mlpNewLyrics\u001b[0m \u001b[0;34m=\u001b[0m \u001b[0mself\u001b[0m\u001b[0;34m.\u001b[0m\u001b[0mlyNewLyricsFromStream\u001b[0m\u001b[0;34m(\u001b[0m\u001b[0mstreamIn\u001b[0m\u001b[0;34m,\u001b[0m \u001b[0mstreamId\u001b[0m\u001b[0;34m=\u001b[0m\u001b[0mmakeLettersOnlyId\u001b[0m\u001b[0;34m(\u001b[0m\u001b[0mstreamIn\u001b[0m\u001b[0;34m.\u001b[0m\u001b[0mid\u001b[0m\u001b[0;34m)\u001b[0m\u001b[0;34m)\u001b[0m\u001b[0;34m\u001b[0m\u001b[0;34m\u001b[0m\u001b[0m\n\u001b[1;32m    898\u001b[0m \u001b[0;34m\u001b[0m\u001b[0m\n\u001b[0;32m--> 899\u001b[0;31m         \u001b[0mlpSequentialMusic\u001b[0m \u001b[0;34m=\u001b[0m \u001b[0mself\u001b[0m\u001b[0;34m.\u001b[0m\u001b[0mlySequentialMusicFromStream\u001b[0m\u001b[0;34m(\u001b[0m\u001b[0mstreamIn\u001b[0m\u001b[0;34m,\u001b[0m \u001b[0mbeforeMatter\u001b[0m\u001b[0;34m=\u001b[0m\u001b[0mbeforeMatter\u001b[0m\u001b[0;34m)\u001b[0m\u001b[0;34m\u001b[0m\u001b[0;34m\u001b[0m\u001b[0m\n\u001b[0m\u001b[1;32m    900\u001b[0m         \u001b[0mlpGroupedMusicList\u001b[0m \u001b[0;34m=\u001b[0m \u001b[0mlyo\u001b[0m\u001b[0;34m.\u001b[0m\u001b[0mLyGroupedMusicList\u001b[0m\u001b[0;34m(\u001b[0m\u001b[0msequentialMusic\u001b[0m\u001b[0;34m=\u001b[0m\u001b[0mlpSequentialMusic\u001b[0m\u001b[0;34m)\u001b[0m\u001b[0;34m\u001b[0m\u001b[0;34m\u001b[0m\u001b[0m\n\u001b[1;32m    901\u001b[0m         lpCompositeMusic = lyo.LyCompositeMusic(groupedMusicList=lpGroupedMusicList,\n",
      "\u001b[0;32m~/anaconda3/envs/midi/lib/python3.7/site-packages/music21/lily/translate.py\u001b[0m in \u001b[0;36mlySequentialMusicFromStream\u001b[0;34m(self, streamIn, beforeMatter)\u001b[0m\n\u001b[1;32m    826\u001b[0m                                                   beforeMatter=beforeMatter)\n\u001b[1;32m    827\u001b[0m         \u001b[0mself\u001b[0m\u001b[0;34m.\u001b[0m\u001b[0mnewContext\u001b[0m\u001b[0;34m(\u001b[0m\u001b[0mlpMusicList\u001b[0m\u001b[0;34m)\u001b[0m\u001b[0;34m\u001b[0m\u001b[0;34m\u001b[0m\u001b[0m\n\u001b[0;32m--> 828\u001b[0;31m         \u001b[0mself\u001b[0m\u001b[0;34m.\u001b[0m\u001b[0mappendObjectsToContextFromStream\u001b[0m\u001b[0;34m(\u001b[0m\u001b[0mstreamIn\u001b[0m\u001b[0;34m)\u001b[0m\u001b[0;34m\u001b[0m\u001b[0;34m\u001b[0m\u001b[0m\n\u001b[0m\u001b[1;32m    829\u001b[0m \u001b[0;34m\u001b[0m\u001b[0m\n\u001b[1;32m    830\u001b[0m         \u001b[0mlyObject\u001b[0m \u001b[0;34m=\u001b[0m \u001b[0mself\u001b[0m\u001b[0;34m.\u001b[0m\u001b[0mcloseMeasure\u001b[0m\u001b[0;34m(\u001b[0m\u001b[0;34m)\u001b[0m\u001b[0;34m\u001b[0m\u001b[0;34m\u001b[0m\u001b[0m\n",
      "\u001b[0;32m~/anaconda3/envs/midi/lib/python3.7/site-packages/music21/lily/translate.py\u001b[0m in \u001b[0;36mappendObjectsToContextFromStream\u001b[0;34m(self, streamObject)\u001b[0m\n\u001b[1;32m    974\u001b[0m                 \u001b[0mel\u001b[0m \u001b[0;34m=\u001b[0m \u001b[0mgroupedElements\u001b[0m\u001b[0;34m[\u001b[0m\u001b[0;36m0\u001b[0m\u001b[0;34m]\u001b[0m\u001b[0;34m\u001b[0m\u001b[0;34m\u001b[0m\u001b[0m\n\u001b[1;32m    975\u001b[0m                 \u001b[0mel\u001b[0m\u001b[0;34m.\u001b[0m\u001b[0mactiveSite\u001b[0m \u001b[0;34m=\u001b[0m \u001b[0mstreamObject\u001b[0m\u001b[0;34m\u001b[0m\u001b[0;34m\u001b[0m\u001b[0m\n\u001b[0;32m--> 976\u001b[0;31m                 \u001b[0mself\u001b[0m\u001b[0;34m.\u001b[0m\u001b[0mappendM21ObjectToContext\u001b[0m\u001b[0;34m(\u001b[0m\u001b[0mel\u001b[0m\u001b[0;34m)\u001b[0m\u001b[0;34m\u001b[0m\u001b[0;34m\u001b[0m\u001b[0m\n\u001b[0m\u001b[1;32m    977\u001b[0m             \u001b[0;32melse\u001b[0m\u001b[0;34m:\u001b[0m \u001b[0;31m# voices or other More than one thing at once...\u001b[0m\u001b[0;34m\u001b[0m\u001b[0;34m\u001b[0m\u001b[0m\n\u001b[1;32m    978\u001b[0m                 \u001b[0;31m# if voices\u001b[0m\u001b[0;34m\u001b[0m\u001b[0;34m\u001b[0m\u001b[0;34m\u001b[0m\u001b[0m\n",
      "\u001b[0;32m~/anaconda3/envs/midi/lib/python3.7/site-packages/music21/lily/translate.py\u001b[0m in \u001b[0;36mappendM21ObjectToContext\u001b[0;34m(self, thisObject)\u001b[0m\n\u001b[1;32m   1080\u001b[0m             \u001b[0mself\u001b[0m\u001b[0;34m.\u001b[0m\u001b[0mappendContextFromNoteOrRest\u001b[0m\u001b[0;34m(\u001b[0m\u001b[0mthisObject\u001b[0m\u001b[0;34m)\u001b[0m\u001b[0;34m\u001b[0m\u001b[0;34m\u001b[0m\u001b[0m\n\u001b[1;32m   1081\u001b[0m         \u001b[0;32melif\u001b[0m \u001b[0;34m\"Chord\"\u001b[0m \u001b[0;32min\u001b[0m \u001b[0mc\u001b[0m\u001b[0;34m:\u001b[0m\u001b[0;34m\u001b[0m\u001b[0;34m\u001b[0m\u001b[0m\n\u001b[0;32m-> 1082\u001b[0;31m             \u001b[0mself\u001b[0m\u001b[0;34m.\u001b[0m\u001b[0mappendContextFromChord\u001b[0m\u001b[0;34m(\u001b[0m\u001b[0mthisObject\u001b[0m\u001b[0;34m)\u001b[0m\u001b[0;34m\u001b[0m\u001b[0;34m\u001b[0m\u001b[0m\n\u001b[0m\u001b[1;32m   1083\u001b[0m         \u001b[0;32melif\u001b[0m \u001b[0;34m\"Clef\"\u001b[0m \u001b[0;32min\u001b[0m \u001b[0mc\u001b[0m\u001b[0;34m:\u001b[0m\u001b[0;34m\u001b[0m\u001b[0;34m\u001b[0m\u001b[0m\n\u001b[1;32m   1084\u001b[0m             \u001b[0mlyObject\u001b[0m \u001b[0;34m=\u001b[0m \u001b[0mself\u001b[0m\u001b[0;34m.\u001b[0m\u001b[0mlyEmbeddedScmFromClef\u001b[0m\u001b[0;34m(\u001b[0m\u001b[0mthisObject\u001b[0m\u001b[0;34m)\u001b[0m\u001b[0;34m\u001b[0m\u001b[0;34m\u001b[0m\u001b[0m\n",
      "\u001b[0;32m~/anaconda3/envs/midi/lib/python3.7/site-packages/music21/lily/translate.py\u001b[0m in \u001b[0;36mappendContextFromChord\u001b[0;34m(self, chord)\u001b[0m\n\u001b[1;32m   1222\u001b[0m         \u001b[0mself\u001b[0m\u001b[0;34m.\u001b[0m\u001b[0mappendStemCode\u001b[0m\u001b[0;34m(\u001b[0m\u001b[0mchord\u001b[0m\u001b[0;34m)\u001b[0m\u001b[0;34m\u001b[0m\u001b[0;34m\u001b[0m\u001b[0m\n\u001b[1;32m   1223\u001b[0m \u001b[0;34m\u001b[0m\u001b[0m\n\u001b[0;32m-> 1224\u001b[0;31m         \u001b[0mlpSimpleMusic\u001b[0m \u001b[0;34m=\u001b[0m \u001b[0mself\u001b[0m\u001b[0;34m.\u001b[0m\u001b[0mlySimpleMusicFromChord\u001b[0m\u001b[0;34m(\u001b[0m\u001b[0mchord\u001b[0m\u001b[0;34m)\u001b[0m\u001b[0;34m\u001b[0m\u001b[0;34m\u001b[0m\u001b[0m\n\u001b[0m\u001b[1;32m   1225\u001b[0m         \u001b[0mself\u001b[0m\u001b[0;34m.\u001b[0m\u001b[0mcontext\u001b[0m\u001b[0;34m.\u001b[0m\u001b[0mcontents\u001b[0m\u001b[0;34m.\u001b[0m\u001b[0mappend\u001b[0m\u001b[0;34m(\u001b[0m\u001b[0mlpSimpleMusic\u001b[0m\u001b[0;34m)\u001b[0m\u001b[0;34m\u001b[0m\u001b[0;34m\u001b[0m\u001b[0m\n\u001b[1;32m   1226\u001b[0m         \u001b[0mlpSimpleMusic\u001b[0m\u001b[0;34m.\u001b[0m\u001b[0msetParent\u001b[0m\u001b[0;34m(\u001b[0m\u001b[0mself\u001b[0m\u001b[0;34m.\u001b[0m\u001b[0mcontext\u001b[0m\u001b[0;34m)\u001b[0m\u001b[0;34m\u001b[0m\u001b[0;34m\u001b[0m\u001b[0m\n",
      "\u001b[0;32m~/anaconda3/envs/midi/lib/python3.7/site-packages/music21/lily/translate.py\u001b[0m in \u001b[0;36mlySimpleMusicFromChord\u001b[0;34m(self, chordObj)\u001b[0m\n\u001b[1;32m   1438\u001b[0m             \u001b[0mlpChordBody\u001b[0m \u001b[0;34m=\u001b[0m \u001b[0mlyo\u001b[0m\u001b[0;34m.\u001b[0m\u001b[0mLyPitch\u001b[0m\u001b[0;34m(\u001b[0m\u001b[0;34m's '\u001b[0m\u001b[0;34m,\u001b[0m \u001b[0;34m''\u001b[0m\u001b[0;34m)\u001b[0m\u001b[0;34m\u001b[0m\u001b[0;34m\u001b[0m\u001b[0m\n\u001b[1;32m   1439\u001b[0m \u001b[0;34m\u001b[0m\u001b[0m\n\u001b[0;32m-> 1440\u001b[0;31m         \u001b[0mlpMultipliedDuration\u001b[0m \u001b[0;34m=\u001b[0m \u001b[0mself\u001b[0m\u001b[0;34m.\u001b[0m\u001b[0mlyMultipliedDurationFromDuration\u001b[0m\u001b[0;34m(\u001b[0m\u001b[0mchordObj\u001b[0m\u001b[0;34m.\u001b[0m\u001b[0mduration\u001b[0m\u001b[0;34m)\u001b[0m\u001b[0;34m\u001b[0m\u001b[0;34m\u001b[0m\u001b[0m\n\u001b[0m\u001b[1;32m   1441\u001b[0m \u001b[0;34m\u001b[0m\u001b[0m\n\u001b[1;32m   1442\u001b[0m         \u001b[0mpostEvents\u001b[0m \u001b[0;34m=\u001b[0m \u001b[0mself\u001b[0m\u001b[0;34m.\u001b[0m\u001b[0mpostEventsFromObject\u001b[0m\u001b[0;34m(\u001b[0m\u001b[0mchordObj\u001b[0m\u001b[0;34m)\u001b[0m\u001b[0;34m\u001b[0m\u001b[0;34m\u001b[0m\u001b[0m\n",
      "\u001b[0;32m~/anaconda3/envs/midi/lib/python3.7/site-packages/music21/lily/translate.py\u001b[0m in \u001b[0;36mlyMultipliedDurationFromDuration\u001b[0;34m(self, durationObj)\u001b[0m\n\u001b[1;32m   1556\u001b[0m         \u001b[0;32mexcept\u001b[0m \u001b[0mduration\u001b[0m\u001b[0;34m.\u001b[0m\u001b[0mDurationException\u001b[0m \u001b[0;32mas\u001b[0m \u001b[0mde\u001b[0m\u001b[0;34m:\u001b[0m\u001b[0;34m\u001b[0m\u001b[0;34m\u001b[0m\u001b[0m\n\u001b[1;32m   1557\u001b[0m             raise LilyTranslateException(\n\u001b[0;32m-> 1558\u001b[0;31m                 \"DurationException for durationObject %s: %s\" % (durationObj, de))\n\u001b[0m\u001b[1;32m   1559\u001b[0m \u001b[0;34m\u001b[0m\u001b[0m\n\u001b[1;32m   1560\u001b[0m         \u001b[0;32mif\u001b[0m \u001b[0mnumber_type\u001b[0m \u001b[0;34m==\u001b[0m \u001b[0;36m0\u001b[0m\u001b[0;34m:\u001b[0m\u001b[0;34m\u001b[0m\u001b[0;34m\u001b[0m\u001b[0m\n",
      "\u001b[0;31mLilyTranslateException\u001b[0m: DurationException for durationObject <music21.duration.Duration 71.0>: Could not determine durationNumber from inexpressible"
     ]
    }
   ],
   "source": [
    "Image(filename=str(note_stream.write('lily.png')))"
   ]
  }
 ],
 "metadata": {
  "kernelspec": {
   "display_name": "Python 3",
   "language": "python",
   "name": "python3"
  },
  "language_info": {
   "codemirror_mode": {
    "name": "ipython",
    "version": 3
   },
   "file_extension": ".py",
   "mimetype": "text/x-python",
   "name": "python",
   "nbconvert_exporter": "python",
   "pygments_lexer": "ipython3",
   "version": "3.7.1"
  }
 },
 "nbformat": 4,
 "nbformat_minor": 2
}
